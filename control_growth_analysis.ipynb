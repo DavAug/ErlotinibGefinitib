{
 "cells": [
  {
   "cell_type": "markdown",
   "metadata": {},
   "source": [
    "# Analyse control tumour growth"
   ]
  },
  {
   "cell_type": "markdown",
   "metadata": {},
   "source": [
    "## 1. Import data"
   ]
  },
  {
   "cell_type": "code",
   "execution_count": 5,
   "metadata": {},
   "outputs": [
    {
     "output_type": "execute_result",
     "data": {
      "text/plain": "     #ID  TIME        Y\n0     40     0  191.808\n1     94     0  77.2475\n2     95     0    186.2\n3     40     3        .\n4     40     4        .\n..   ...   ...      ...\n153  140     2  126.852\n154   94     4  125.316\n155  170     4   109.33\n156  170     2   94.221\n157   94     2  88.4835\n\n[158 rows x 3 columns]",
      "text/html": "<div>\n<style scoped>\n    .dataframe tbody tr th:only-of-type {\n        vertical-align: middle;\n    }\n\n    .dataframe tbody tr th {\n        vertical-align: top;\n    }\n\n    .dataframe thead th {\n        text-align: right;\n    }\n</style>\n<table border=\"1\" class=\"dataframe\">\n  <thead>\n    <tr style=\"text-align: right;\">\n      <th></th>\n      <th>#ID</th>\n      <th>TIME</th>\n      <th>Y</th>\n    </tr>\n  </thead>\n  <tbody>\n    <tr>\n      <th>0</th>\n      <td>40</td>\n      <td>0</td>\n      <td>191.808</td>\n    </tr>\n    <tr>\n      <th>1</th>\n      <td>94</td>\n      <td>0</td>\n      <td>77.2475</td>\n    </tr>\n    <tr>\n      <th>2</th>\n      <td>95</td>\n      <td>0</td>\n      <td>186.2</td>\n    </tr>\n    <tr>\n      <th>3</th>\n      <td>40</td>\n      <td>3</td>\n      <td>.</td>\n    </tr>\n    <tr>\n      <th>4</th>\n      <td>40</td>\n      <td>4</td>\n      <td>.</td>\n    </tr>\n    <tr>\n      <th>...</th>\n      <td>...</td>\n      <td>...</td>\n      <td>...</td>\n    </tr>\n    <tr>\n      <th>153</th>\n      <td>140</td>\n      <td>2</td>\n      <td>126.852</td>\n    </tr>\n    <tr>\n      <th>154</th>\n      <td>94</td>\n      <td>4</td>\n      <td>125.316</td>\n    </tr>\n    <tr>\n      <th>155</th>\n      <td>170</td>\n      <td>4</td>\n      <td>109.33</td>\n    </tr>\n    <tr>\n      <th>156</th>\n      <td>170</td>\n      <td>2</td>\n      <td>94.221</td>\n    </tr>\n    <tr>\n      <th>157</th>\n      <td>94</td>\n      <td>2</td>\n      <td>88.4835</td>\n    </tr>\n  </tbody>\n</table>\n<p>158 rows × 3 columns</p>\n</div>"
     },
     "metadata": {},
     "execution_count": 5
    }
   ],
   "source": [
    "import os\n",
    "import pandas as pd\n",
    "\n",
    "# Import data\n",
    "path = os.getcwd()\n",
    "data_raw = pd.read_csv(path + '/data/Ctrl_Growth_LXF.csv')\n",
    "\n",
    "# Filter relevant information\n",
    "data = data_raw[['#ID', 'TIME', 'Y']]\n",
    "\n",
    "# Show data\n",
    "data"
   ]
  },
  {
   "cell_type": "code",
   "execution_count": 4,
   "metadata": {},
   "outputs": [
    {
     "output_type": "execute_result",
     "data": {
      "text/plain": "array([0])"
     },
     "metadata": {},
     "execution_count": 4
    }
   ],
   "source": [
    "#"
   ]
  },
  {
   "cell_type": "code",
   "execution_count": null,
   "metadata": {},
   "outputs": [],
   "source": []
  }
 ],
 "metadata": {
  "language_info": {
   "codemirror_mode": {
    "name": "ipython",
    "version": 3
   },
   "file_extension": ".py",
   "mimetype": "text/x-python",
   "name": "python",
   "nbconvert_exporter": "python",
   "pygments_lexer": "ipython3",
   "version": "3.7.5-final"
  },
  "orig_nbformat": 2,
  "kernelspec": {
   "name": "python37564bitvenvvenvcbc58c4bd2b44cb5bbb23cae259fba04",
   "display_name": "Python 3.7.5 64-bit ('venv': venv)"
  }
 },
 "nbformat": 4,
 "nbformat_minor": 2
}