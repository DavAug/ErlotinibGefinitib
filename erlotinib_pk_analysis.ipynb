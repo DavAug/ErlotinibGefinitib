{
 "cells": [
  {
   "cell_type": "markdown",
   "metadata": {},
   "source": [
    "# Erlotinib PK Analysis"
   ]
  },
  {
   "cell_type": "markdown",
   "metadata": {},
   "source": [
    "Run population anaysis of erlotinib PK data. First we reproduce the steps performed in the publication by Eigenmann et. al.. The next step is to challenge the modelling assumptions."
   ]
  },
  {
   "cell_type": "markdown",
   "metadata": {},
   "source": [
    "## 1. Reproduction of PK Analysis"
   ]
  },
  {
   "cell_type": "markdown",
   "metadata": {},
   "source": [
    "### 1.1 Import data"
   ]
  },
  {
   "cell_type": "code",
   "execution_count": 13,
   "metadata": {},
   "outputs": [
    {
     "output_type": "execute_result",
     "data": {
      "text/plain": "     #ID  TIME  Y  DOSE GROUP  DOSE    BW\n0      6   0.0  .      100.00     .  24.2\n1      6   2.0  .      100.00     .  24.7\n2      6   3.0  .      100.00  2450  24.7\n3      6   4.0  .      100.00     .  23.6\n4      6   4.0  .      100.00  2350  23.6\n..   ...   ... ..         ...   ...   ...\n467  162  21.0  .        6.25     .  24.2\n468  162  23.0  .        6.25     .  24.5\n469  162  25.0  .        6.25     .  24.5\n470  162  28.0  .        6.25     .  25.3\n471  162  30.0  .        6.25     .  25.9\n\n[472 rows x 6 columns]",
      "text/html": "<div>\n<style scoped>\n    .dataframe tbody tr th:only-of-type {\n        vertical-align: middle;\n    }\n\n    .dataframe tbody tr th {\n        vertical-align: top;\n    }\n\n    .dataframe thead th {\n        text-align: right;\n    }\n</style>\n<table border=\"1\" class=\"dataframe\">\n  <thead>\n    <tr style=\"text-align: right;\">\n      <th></th>\n      <th>#ID</th>\n      <th>TIME</th>\n      <th>Y</th>\n      <th>DOSE GROUP</th>\n      <th>DOSE</th>\n      <th>BW</th>\n    </tr>\n  </thead>\n  <tbody>\n    <tr>\n      <th>0</th>\n      <td>6</td>\n      <td>0.0</td>\n      <td>.</td>\n      <td>100.00</td>\n      <td>.</td>\n      <td>24.2</td>\n    </tr>\n    <tr>\n      <th>1</th>\n      <td>6</td>\n      <td>2.0</td>\n      <td>.</td>\n      <td>100.00</td>\n      <td>.</td>\n      <td>24.7</td>\n    </tr>\n    <tr>\n      <th>2</th>\n      <td>6</td>\n      <td>3.0</td>\n      <td>.</td>\n      <td>100.00</td>\n      <td>2450</td>\n      <td>24.7</td>\n    </tr>\n    <tr>\n      <th>3</th>\n      <td>6</td>\n      <td>4.0</td>\n      <td>.</td>\n      <td>100.00</td>\n      <td>.</td>\n      <td>23.6</td>\n    </tr>\n    <tr>\n      <th>4</th>\n      <td>6</td>\n      <td>4.0</td>\n      <td>.</td>\n      <td>100.00</td>\n      <td>2350</td>\n      <td>23.6</td>\n    </tr>\n    <tr>\n      <th>...</th>\n      <td>...</td>\n      <td>...</td>\n      <td>...</td>\n      <td>...</td>\n      <td>...</td>\n      <td>...</td>\n    </tr>\n    <tr>\n      <th>467</th>\n      <td>162</td>\n      <td>21.0</td>\n      <td>.</td>\n      <td>6.25</td>\n      <td>.</td>\n      <td>24.2</td>\n    </tr>\n    <tr>\n      <th>468</th>\n      <td>162</td>\n      <td>23.0</td>\n      <td>.</td>\n      <td>6.25</td>\n      <td>.</td>\n      <td>24.5</td>\n    </tr>\n    <tr>\n      <th>469</th>\n      <td>162</td>\n      <td>25.0</td>\n      <td>.</td>\n      <td>6.25</td>\n      <td>.</td>\n      <td>24.5</td>\n    </tr>\n    <tr>\n      <th>470</th>\n      <td>162</td>\n      <td>28.0</td>\n      <td>.</td>\n      <td>6.25</td>\n      <td>.</td>\n      <td>25.3</td>\n    </tr>\n    <tr>\n      <th>471</th>\n      <td>162</td>\n      <td>30.0</td>\n      <td>.</td>\n      <td>6.25</td>\n      <td>.</td>\n      <td>25.9</td>\n    </tr>\n  </tbody>\n</table>\n<p>472 rows × 6 columns</p>\n</div>"
     },
     "metadata": {},
     "execution_count": 13
    }
   ],
   "source": [
    "import os\n",
    "import pandas as pd\n",
    "\n",
    "# Import data\n",
    "path = os.getcwd()\n",
    "data_raw = pd.read_csv(path + '/data/PK_LXF_erlo.csv', sep=';')\n",
    "\n",
    "# Filter relevant information\n",
    "data = data_raw[['#ID', 'TIME', 'Y', 'DOSE GROUP', 'DOSE', 'BW']]\n",
    "\n",
    "# Show data\n",
    "data"
   ]
  },
  {
   "cell_type": "markdown",
   "metadata": {},
   "source": [
    "### 1.2 Sort data into dosing groups"
   ]
  },
  {
   "cell_type": "code",
   "execution_count": 14,
   "metadata": {},
   "outputs": [
    {
     "output_type": "execute_result",
     "data": {
      "text/plain": "array([100.  ,  25.  ,   6.25])"
     },
     "metadata": {},
     "execution_count": 14
    }
   ],
   "source": [
    "groups = data['DOSE GROUP'].unique()\n",
    "groups"
   ]
  },
  {
   "cell_type": "markdown",
   "metadata": {},
   "source": [
    "### 1.2 Build Structural Model (pints.ForwardModel)"
   ]
  },
  {
   "cell_type": "markdown",
   "metadata": {},
   "source": [
    "#### 1.2.1 Build Myokit Model"
   ]
  },
  {
   "cell_type": "code",
   "execution_count": 3,
   "metadata": {},
   "outputs": [
    {
     "output_type": "stream",
     "name": "stdout",
     "text": "[[model]]\n# Initial values\ncentral.amount = 0\n\n[central]\ndot(amount) = -k_e * amount\n    in [mg]\nconc = amount / volume\n    in [mg/L]\nk_e = 0\n    in [1/day]\ntime = 0 bind time\n    in [day]\nvolume = 1\n    in [L]\n\n\n"
    }
   ],
   "source": [
    "import myokit\n",
    "\n",
    "from pkpd import model as m\n",
    "\n",
    "# Build 1 compartmental PK model with default parameters\n",
    "model = m.create_one_comp_pk_model()\n",
    "\n",
    "# Validate model\n",
    "model.validate()\n",
    "\n",
    "# Check units\n",
    "model.check_units(mode=myokit.UNIT_TOLERANT)\n",
    "\n",
    "# Print model\n",
    "print(model.code())"
   ]
  },
  {
   "cell_type": "markdown",
   "metadata": {},
   "source": [
    "#### 1.2.2 Set oral administration "
   ]
  },
  {
   "cell_type": "code",
   "execution_count": null,
   "metadata": {},
   "outputs": [],
   "source": [
    "import myokit\n",
    "\n",
    "class DosingRegimen(object):\n",
    "    def __init__(self):\n",
    "        self._amount = None\n",
    "        self._duration = None\n",
    "        self._periodicity = 0\n",
    "        self._multiplier = 0\n",
    "        self._dosing_regimen = None\n",
    "        self._indirect_admin = False\n",
    "        self._dosing_compartment = 'central'\n",
    "\n",
    "    def __call__(self, model, amount, duration=None, periodicity=0, multiplier=0):\n",
    "        \"\"\"\n",
    "        Returns the myokit.Model with appropriate structural adjustments for dosing,\n",
    "        and a myokit.Protocol with the specified schedule.\n",
    "        \"\"\"\n",
    "        if \n",
    "\n",
    "    \n",
    "    def set_amdin(indirect=False):\n",
    "        self.indirect_admin = indirect\n",
    "\n",
    "\n",
    "def create_dosing_regimen(model, compartment, administration, amount, duration=None, periodicity=0, multiplier=0):\n",
    "    \"\"\"\n",
    "    Returns a myokit.Protocol object with the specified dosing regimen, and alters the structural model, \n",
    "    by addition of bolus injection or dosing compartment.\n",
    "\n",
    "    model -- myokit.Model\n",
    "    compartment -- compartment with bolus injection or connection to dosing compartment\n",
    "    administration -- type of administration: Injection into compartment or dosing compartment\n",
    "    amount -- Applied dose\n",
    "    duration -- How long did it take to apply the dose, if None duration is set to the smallest numerically stable duration,\n",
    "                i.e. such that duration > 1e-6 and amount / duration < some upper value.\n",
    "    periodicity -- In which intervals is dose applied. If 0 dose is applied once.\n",
    "    multplier -- How often is dose applied? If 0, it's applied once for non-period and indefinitely for periodic schedules.\n",
    "    \"\"\"\n",
    "    if not isinstance(model, myokit.Model):\n",
    "        raise ValueError\n",
    "    if not model.has_component(compartment):\n",
    "        raise ValueError\n",
    "    if administration != 'dosing compartment':\n",
    "        raise NotImplementedError\n",
    "\n",
    "    # Set dosing compartment\n",
    "    dose_comp = model.get(compartment)\n",
    "    if administration == 'dosing compartment':\n",
    "        dose_comp = model.add_component('dose')\n",
    "    \n",
    "    # Add dose rate and regimen to dose compartment\n",
    "    dose_rate = dose_comp.add_variable('dose_rate')\n",
    "    regimen = dose_comp.add_variable('regimen')\n",
    "\n",
    "    \n",
    "    # define dosing regimen\n",
    "    duration = 0.001  # [1 / d] how long does it take for dose to be in dosing compartment?\n",
    "    dose_rate.set_rhs(25 * 0.2 / duration)  # 100 mg / kg / d let's estimate weight of mouse 0.2 kg\n",
    "    dosing_regimen = myokit.Protocol()\n",
    "    dosing_regimen.schedule(level=1, start=0, duration=duration)"
   ]
  },
  {
   "cell_type": "markdown",
   "metadata": {},
   "source": [
    "#### 1.2.3 Build pints model"
   ]
  },
  {
   "cell_type": "code",
   "execution_count": 5,
   "metadata": {},
   "outputs": [],
   "source": [
    "# Build pints model\n",
    "pass"
   ]
  },
  {
   "cell_type": "markdown",
   "metadata": {},
   "source": [
    "### 1.3 Build population model\n",
    "\n",
    "This is the Hierarchical Log Prior of the model \n",
    "\n",
    "\\begin{align}\n",
    "\\text{p}(\\psi | \\theta )\\text{p}(\\theta )\n",
    "\\end{align}\n",
    "\n",
    "Should take a number of means and variances to construct $\\text{p}(\\theta )$ (Gaussian for means of $\\text{p}(\\psi | \\theta )$ and half cauchy for variances of $\\text{p}(\\psi | \\theta )$.\n",
    "\n",
    "Think about whether this can be generalised for any structure.\n",
    "\n",
    "Potentially best way: build a Hierarchical Log Posterior by combining a Likelihood and prior similar to PosteriorLogLikelihood, but appending the input params of the prior instead to the model params (this is the p(y|psi)p(psi|theta) bit). You have to provide posteriors for the population level paramers.\n",
    "\n",
    "In that way a posterior can be constructed by passing any problem, any population distribution and any priors of the population distirbution parameters!"
   ]
  },
  {
   "cell_type": "code",
   "execution_count": 6,
   "metadata": {},
   "outputs": [],
   "source": [
    "# Build hierarchical model \n",
    "pass"
   ]
  },
  {
   "cell_type": "markdown",
   "metadata": {},
   "source": [
    "### 1.4 Build error model\n",
    "\n",
    "This can be done by just using Loglikelihood from pints"
   ]
  },
  {
   "cell_type": "code",
   "execution_count": 7,
   "metadata": {},
   "outputs": [],
   "source": [
    "pass"
   ]
  },
  {
   "cell_type": "markdown",
   "metadata": {},
   "source": [
    "### Run inference"
   ]
  },
  {
   "cell_type": "code",
   "execution_count": 8,
   "metadata": {},
   "outputs": [],
   "source": [
    "pass"
   ]
  },
  {
   "cell_type": "markdown",
   "metadata": {},
   "source": [
    "### Visualise prediction"
   ]
  },
  {
   "cell_type": "code",
   "execution_count": null,
   "metadata": {},
   "outputs": [],
   "source": []
  }
 ],
 "metadata": {
  "language_info": {
   "codemirror_mode": {
    "name": "ipython",
    "version": 3
   },
   "file_extension": ".py",
   "mimetype": "text/x-python",
   "name": "python",
   "nbconvert_exporter": "python",
   "pygments_lexer": "ipython3",
   "version": "3.7.5-final"
  },
  "orig_nbformat": 2,
  "kernelspec": {
   "name": "python37564bitvenvvenv07828ef06c0b459bb9ee49a605e502a3",
   "display_name": "Python 3.7.5 64-bit ('venv': venv)"
  }
 },
 "nbformat": 4,
 "nbformat_minor": 2
}