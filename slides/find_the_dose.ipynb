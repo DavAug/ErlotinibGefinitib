{
 "cells": [
  {
   "cell_type": "markdown",
   "metadata": {
    "slideshow": {
     "slide_type": "slide"
    }
   },
   "source": [
    "# Finding the Right Dose\n",
    "\n",
    "David Augustin"
   ]
  },
  {
   "cell_type": "code",
   "execution_count": 1,
   "metadata": {
    "slideshow": {
     "slide_type": "slide"
    }
   },
   "outputs": [
    {
     "output_type": "display_data",
     "data": {
      "application/vnd.plotly.v1+json": {
       "config": {
        "plotlyServerURL": "https://plot.ly"
       },
       "data": [
        {
         "hovertemplate": "<b>ID: 40</b><br>Cancer type: LXF A677<br>Time: %{x:} day<br>Tumour volume: %{y:.02f} cm^3<br><extra></extra>",
         "marker": {
          "line": {
           "color": "black",
           "width": 1
          },
          "opacity": 0.7,
          "symbol": "circle"
         },
         "mode": "markers",
         "name": "ID: 40",
         "showlegend": true,
         "type": "scatter",
         "x": [
          0,
          2,
          4,
          7,
          9,
          11,
          14,
          16,
          18,
          21
         ],
         "y": [
          1.91808,
          2.49158,
          3.30672,
          6.6836699999999984,
          9.15008,
          11.19258,
          14.70432,
          16.69248,
          17.52192,
          22.76736
         ]
        },
        {
         "hovertemplate": "<b>ID: 94</b><br>Cancer type: LXF A677<br>Time: %{x:} day<br>Tumour volume: %{y:.02f} cm^3<br><extra></extra>",
         "marker": {
          "line": {
           "color": "black",
           "width": 1
          },
          "opacity": 0.7,
          "symbol": "circle"
         },
         "mode": "markers",
         "name": "ID: 94",
         "showlegend": true,
         "type": "scatter",
         "x": [
          0,
          2,
          4,
          7,
          9,
          11,
          14,
          16,
          18,
          21,
          23,
          25,
          28,
          30
         ],
         "y": [
          0.772475,
          0.884835,
          1.25316,
          1.65528,
          1.8948599999999998,
          2.6465400000000003,
          2.6465400000000003,
          3.06936,
          3.89207,
          3.89207,
          4.05769,
          4.264715,
          5.55131,
          5.7624
         ]
        },
        {
         "hovertemplate": "<b>ID: 95</b><br>Cancer type: LXF A677<br>Time: %{x:} day<br>Tumour volume: %{y:.02f} cm^3<br><extra></extra>",
         "marker": {
          "line": {
           "color": "black",
           "width": 1
          },
          "opacity": 0.7,
          "symbol": "circle"
         },
         "mode": "markers",
         "name": "ID: 95",
         "showlegend": true,
         "type": "scatter",
         "x": [
          0,
          2,
          4,
          7,
          9,
          11,
          14,
          16,
          18,
          21
         ],
         "y": [
          1.862,
          2.4642,
          4.293,
          6.2426,
          7.246720000000002,
          7.3008000000000015,
          9.196,
          11.31184,
          16.75872,
          23.466160000000002
         ]
        },
        {
         "hovertemplate": "<b>ID: 136</b><br>Cancer type: LXF A677<br>Time: %{x:} day<br>Tumour volume: %{y:.02f} cm^3<br><extra></extra>",
         "marker": {
          "line": {
           "color": "black",
           "width": 1
          },
          "opacity": 0.7,
          "symbol": "circle"
         },
         "mode": "markers",
         "name": "ID: 136",
         "showlegend": true,
         "type": "scatter",
         "x": [
          0,
          2,
          4,
          7,
          9,
          11,
          14,
          16,
          18,
          21,
          23,
          25,
          28,
          30
         ],
         "y": [
          1.185885,
          1.7507099999999998,
          2.29992,
          3.026885,
          3.026885,
          3.7044,
          5.341545,
          6.5168800000000005,
          7.21287,
          7.8732000000000015,
          8.529505,
          11.045580000000001,
          11.3288,
          14.593425
         ]
        },
        {
         "hovertemplate": "<b>ID: 140</b><br>Cancer type: LXF A677<br>Time: %{x:} day<br>Tumour volume: %{y:.02f} cm^3<br><extra></extra>",
         "marker": {
          "line": {
           "color": "black",
           "width": 1
          },
          "opacity": 0.7,
          "symbol": "circle"
         },
         "mode": "markers",
         "name": "ID: 140",
         "showlegend": true,
         "type": "scatter",
         "x": [
          0,
          2,
          4,
          7,
          9,
          11,
          14,
          16,
          18,
          21,
          23,
          25,
          28,
          30
         ],
         "y": [
          0.793305,
          1.26852,
          1.46072,
          2.61121,
          3.4574400000000005,
          3.552,
          4.1905,
          4.802980000000001,
          5.56668,
          8.08992,
          8.573039999999999,
          10.97675,
          19.92144,
          21.22582
         ]
        },
        {
         "hovertemplate": "<b>ID: 155</b><br>Cancer type: LXF A677<br>Time: %{x:} day<br>Tumour volume: %{y:.02f} cm^3<br><extra></extra>",
         "marker": {
          "line": {
           "color": "black",
           "width": 1
          },
          "opacity": 0.7,
          "symbol": "circle"
         },
         "mode": "markers",
         "name": "ID: 155",
         "showlegend": true,
         "type": "scatter",
         "x": [
          0,
          2,
          4,
          7,
          9,
          11,
          14,
          16,
          18,
          21,
          23,
          25
         ],
         "y": [
          1.05875,
          1.6770599999999998,
          3.56328,
          6.4896,
          6.92224,
          7.3008000000000015,
          8.1648,
          14.94954,
          15.166985,
          17.2405,
          16.37784,
          22.5108
         ]
        },
        {
         "hovertemplate": "<b>ID: 169</b><br>Cancer type: LXF A677<br>Time: %{x:} day<br>Tumour volume: %{y:.02f} cm^3<br><extra></extra>",
         "marker": {
          "line": {
           "color": "black",
           "width": 1
          },
          "opacity": 0.7,
          "symbol": "circle"
         },
         "mode": "markers",
         "name": "ID: 169",
         "showlegend": true,
         "type": "scatter",
         "x": [
          0,
          2,
          4,
          7,
          9,
          11,
          14,
          16,
          18,
          21,
          23,
          25,
          28,
          30
         ],
         "y": [
          1.2300799999999998,
          1.2877399999999999,
          1.764,
          2.0516650000000003,
          2.4605349999999997,
          2.788425,
          3.3303599999999998,
          3.56445,
          3.9285,
          4.798590000000001,
          5.390549999999998,
          6.354195,
          7.146180000000001,
          7.469864999999999
         ]
        },
        {
         "hovertemplate": "<b>ID: 170</b><br>Cancer type: LXF A677<br>Time: %{x:} day<br>Tumour volume: %{y:.02f} cm^3<br><extra></extra>",
         "marker": {
          "line": {
           "color": "black",
           "width": 1
          },
          "opacity": 0.7,
          "symbol": "circle"
         },
         "mode": "markers",
         "name": "ID: 170",
         "showlegend": true,
         "type": "scatter",
         "x": [
          0,
          2,
          4,
          7,
          9,
          11,
          14,
          16,
          18,
          21,
          23,
          25,
          28,
          30
         ],
         "y": [
          0.800565,
          0.94221,
          1.0933,
          1.58994,
          1.76157,
          1.9407849999999998,
          2.041605,
          2.46402,
          3.050865,
          3.683265,
          4.18176,
          4.396155,
          5.661555,
          6.206265
         ]
        }
       ],
       "layout": {
        "autosize": false,
        "height": 600,
        "template": {
         "data": {
          "bar": [
           {
            "error_x": {
             "color": "#2a3f5f"
            },
            "error_y": {
             "color": "#2a3f5f"
            },
            "marker": {
             "line": {
              "color": "white",
              "width": 0.5
             }
            },
            "type": "bar"
           }
          ],
          "barpolar": [
           {
            "marker": {
             "line": {
              "color": "white",
              "width": 0.5
             }
            },
            "type": "barpolar"
           }
          ],
          "carpet": [
           {
            "aaxis": {
             "endlinecolor": "#2a3f5f",
             "gridcolor": "#C8D4E3",
             "linecolor": "#C8D4E3",
             "minorgridcolor": "#C8D4E3",
             "startlinecolor": "#2a3f5f"
            },
            "baxis": {
             "endlinecolor": "#2a3f5f",
             "gridcolor": "#C8D4E3",
             "linecolor": "#C8D4E3",
             "minorgridcolor": "#C8D4E3",
             "startlinecolor": "#2a3f5f"
            },
            "type": "carpet"
           }
          ],
          "choropleth": [
           {
            "colorbar": {
             "outlinewidth": 0,
             "ticks": ""
            },
            "type": "choropleth"
           }
          ],
          "contour": [
           {
            "colorbar": {
             "outlinewidth": 0,
             "ticks": ""
            },
            "colorscale": [
             [
              0,
              "#0d0887"
             ],
             [
              0.1111111111111111,
              "#46039f"
             ],
             [
              0.2222222222222222,
              "#7201a8"
             ],
             [
              0.3333333333333333,
              "#9c179e"
             ],
             [
              0.4444444444444444,
              "#bd3786"
             ],
             [
              0.5555555555555556,
              "#d8576b"
             ],
             [
              0.6666666666666666,
              "#ed7953"
             ],
             [
              0.7777777777777778,
              "#fb9f3a"
             ],
             [
              0.8888888888888888,
              "#fdca26"
             ],
             [
              1,
              "#f0f921"
             ]
            ],
            "type": "contour"
           }
          ],
          "contourcarpet": [
           {
            "colorbar": {
             "outlinewidth": 0,
             "ticks": ""
            },
            "type": "contourcarpet"
           }
          ],
          "heatmap": [
           {
            "colorbar": {
             "outlinewidth": 0,
             "ticks": ""
            },
            "colorscale": [
             [
              0,
              "#0d0887"
             ],
             [
              0.1111111111111111,
              "#46039f"
             ],
             [
              0.2222222222222222,
              "#7201a8"
             ],
             [
              0.3333333333333333,
              "#9c179e"
             ],
             [
              0.4444444444444444,
              "#bd3786"
             ],
             [
              0.5555555555555556,
              "#d8576b"
             ],
             [
              0.6666666666666666,
              "#ed7953"
             ],
             [
              0.7777777777777778,
              "#fb9f3a"
             ],
             [
              0.8888888888888888,
              "#fdca26"
             ],
             [
              1,
              "#f0f921"
             ]
            ],
            "type": "heatmap"
           }
          ],
          "heatmapgl": [
           {
            "colorbar": {
             "outlinewidth": 0,
             "ticks": ""
            },
            "colorscale": [
             [
              0,
              "#0d0887"
             ],
             [
              0.1111111111111111,
              "#46039f"
             ],
             [
              0.2222222222222222,
              "#7201a8"
             ],
             [
              0.3333333333333333,
              "#9c179e"
             ],
             [
              0.4444444444444444,
              "#bd3786"
             ],
             [
              0.5555555555555556,
              "#d8576b"
             ],
             [
              0.6666666666666666,
              "#ed7953"
             ],
             [
              0.7777777777777778,
              "#fb9f3a"
             ],
             [
              0.8888888888888888,
              "#fdca26"
             ],
             [
              1,
              "#f0f921"
             ]
            ],
            "type": "heatmapgl"
           }
          ],
          "histogram": [
           {
            "marker": {
             "colorbar": {
              "outlinewidth": 0,
              "ticks": ""
             }
            },
            "type": "histogram"
           }
          ],
          "histogram2d": [
           {
            "colorbar": {
             "outlinewidth": 0,
             "ticks": ""
            },
            "colorscale": [
             [
              0,
              "#0d0887"
             ],
             [
              0.1111111111111111,
              "#46039f"
             ],
             [
              0.2222222222222222,
              "#7201a8"
             ],
             [
              0.3333333333333333,
              "#9c179e"
             ],
             [
              0.4444444444444444,
              "#bd3786"
             ],
             [
              0.5555555555555556,
              "#d8576b"
             ],
             [
              0.6666666666666666,
              "#ed7953"
             ],
             [
              0.7777777777777778,
              "#fb9f3a"
             ],
             [
              0.8888888888888888,
              "#fdca26"
             ],
             [
              1,
              "#f0f921"
             ]
            ],
            "type": "histogram2d"
           }
          ],
          "histogram2dcontour": [
           {
            "colorbar": {
             "outlinewidth": 0,
             "ticks": ""
            },
            "colorscale": [
             [
              0,
              "#0d0887"
             ],
             [
              0.1111111111111111,
              "#46039f"
             ],
             [
              0.2222222222222222,
              "#7201a8"
             ],
             [
              0.3333333333333333,
              "#9c179e"
             ],
             [
              0.4444444444444444,
              "#bd3786"
             ],
             [
              0.5555555555555556,
              "#d8576b"
             ],
             [
              0.6666666666666666,
              "#ed7953"
             ],
             [
              0.7777777777777778,
              "#fb9f3a"
             ],
             [
              0.8888888888888888,
              "#fdca26"
             ],
             [
              1,
              "#f0f921"
             ]
            ],
            "type": "histogram2dcontour"
           }
          ],
          "mesh3d": [
           {
            "colorbar": {
             "outlinewidth": 0,
             "ticks": ""
            },
            "type": "mesh3d"
           }
          ],
          "parcoords": [
           {
            "line": {
             "colorbar": {
              "outlinewidth": 0,
              "ticks": ""
             }
            },
            "type": "parcoords"
           }
          ],
          "pie": [
           {
            "automargin": true,
            "type": "pie"
           }
          ],
          "scatter": [
           {
            "marker": {
             "colorbar": {
              "outlinewidth": 0,
              "ticks": ""
             }
            },
            "type": "scatter"
           }
          ],
          "scatter3d": [
           {
            "line": {
             "colorbar": {
              "outlinewidth": 0,
              "ticks": ""
             }
            },
            "marker": {
             "colorbar": {
              "outlinewidth": 0,
              "ticks": ""
             }
            },
            "type": "scatter3d"
           }
          ],
          "scattercarpet": [
           {
            "marker": {
             "colorbar": {
              "outlinewidth": 0,
              "ticks": ""
             }
            },
            "type": "scattercarpet"
           }
          ],
          "scattergeo": [
           {
            "marker": {
             "colorbar": {
              "outlinewidth": 0,
              "ticks": ""
             }
            },
            "type": "scattergeo"
           }
          ],
          "scattergl": [
           {
            "marker": {
             "colorbar": {
              "outlinewidth": 0,
              "ticks": ""
             }
            },
            "type": "scattergl"
           }
          ],
          "scattermapbox": [
           {
            "marker": {
             "colorbar": {
              "outlinewidth": 0,
              "ticks": ""
             }
            },
            "type": "scattermapbox"
           }
          ],
          "scatterpolar": [
           {
            "marker": {
             "colorbar": {
              "outlinewidth": 0,
              "ticks": ""
             }
            },
            "type": "scatterpolar"
           }
          ],
          "scatterpolargl": [
           {
            "marker": {
             "colorbar": {
              "outlinewidth": 0,
              "ticks": ""
             }
            },
            "type": "scatterpolargl"
           }
          ],
          "scatterternary": [
           {
            "marker": {
             "colorbar": {
              "outlinewidth": 0,
              "ticks": ""
             }
            },
            "type": "scatterternary"
           }
          ],
          "surface": [
           {
            "colorbar": {
             "outlinewidth": 0,
             "ticks": ""
            },
            "colorscale": [
             [
              0,
              "#0d0887"
             ],
             [
              0.1111111111111111,
              "#46039f"
             ],
             [
              0.2222222222222222,
              "#7201a8"
             ],
             [
              0.3333333333333333,
              "#9c179e"
             ],
             [
              0.4444444444444444,
              "#bd3786"
             ],
             [
              0.5555555555555556,
              "#d8576b"
             ],
             [
              0.6666666666666666,
              "#ed7953"
             ],
             [
              0.7777777777777778,
              "#fb9f3a"
             ],
             [
              0.8888888888888888,
              "#fdca26"
             ],
             [
              1,
              "#f0f921"
             ]
            ],
            "type": "surface"
           }
          ],
          "table": [
           {
            "cells": {
             "fill": {
              "color": "#EBF0F8"
             },
             "line": {
              "color": "white"
             }
            },
            "header": {
             "fill": {
              "color": "#C8D4E3"
             },
             "line": {
              "color": "white"
             }
            },
            "type": "table"
           }
          ]
         },
         "layout": {
          "annotationdefaults": {
           "arrowcolor": "#2a3f5f",
           "arrowhead": 0,
           "arrowwidth": 1
          },
          "coloraxis": {
           "colorbar": {
            "outlinewidth": 0,
            "ticks": ""
           }
          },
          "colorscale": {
           "diverging": [
            [
             0,
             "#8e0152"
            ],
            [
             0.1,
             "#c51b7d"
            ],
            [
             0.2,
             "#de77ae"
            ],
            [
             0.3,
             "#f1b6da"
            ],
            [
             0.4,
             "#fde0ef"
            ],
            [
             0.5,
             "#f7f7f7"
            ],
            [
             0.6,
             "#e6f5d0"
            ],
            [
             0.7,
             "#b8e186"
            ],
            [
             0.8,
             "#7fbc41"
            ],
            [
             0.9,
             "#4d9221"
            ],
            [
             1,
             "#276419"
            ]
           ],
           "sequential": [
            [
             0,
             "#0d0887"
            ],
            [
             0.1111111111111111,
             "#46039f"
            ],
            [
             0.2222222222222222,
             "#7201a8"
            ],
            [
             0.3333333333333333,
             "#9c179e"
            ],
            [
             0.4444444444444444,
             "#bd3786"
            ],
            [
             0.5555555555555556,
             "#d8576b"
            ],
            [
             0.6666666666666666,
             "#ed7953"
            ],
            [
             0.7777777777777778,
             "#fb9f3a"
            ],
            [
             0.8888888888888888,
             "#fdca26"
            ],
            [
             1,
             "#f0f921"
            ]
           ],
           "sequentialminus": [
            [
             0,
             "#0d0887"
            ],
            [
             0.1111111111111111,
             "#46039f"
            ],
            [
             0.2222222222222222,
             "#7201a8"
            ],
            [
             0.3333333333333333,
             "#9c179e"
            ],
            [
             0.4444444444444444,
             "#bd3786"
            ],
            [
             0.5555555555555556,
             "#d8576b"
            ],
            [
             0.6666666666666666,
             "#ed7953"
            ],
            [
             0.7777777777777778,
             "#fb9f3a"
            ],
            [
             0.8888888888888888,
             "#fdca26"
            ],
            [
             1,
             "#f0f921"
            ]
           ]
          },
          "colorway": [
           "#636efa",
           "#EF553B",
           "#00cc96",
           "#ab63fa",
           "#FFA15A",
           "#19d3f3",
           "#FF6692",
           "#B6E880",
           "#FF97FF",
           "#FECB52"
          ],
          "font": {
           "color": "#2a3f5f"
          },
          "geo": {
           "bgcolor": "white",
           "lakecolor": "white",
           "landcolor": "white",
           "showlakes": true,
           "showland": true,
           "subunitcolor": "#C8D4E3"
          },
          "hoverlabel": {
           "align": "left"
          },
          "hovermode": "closest",
          "mapbox": {
           "style": "light"
          },
          "paper_bgcolor": "white",
          "plot_bgcolor": "white",
          "polar": {
           "angularaxis": {
            "gridcolor": "#EBF0F8",
            "linecolor": "#EBF0F8",
            "ticks": ""
           },
           "bgcolor": "white",
           "radialaxis": {
            "gridcolor": "#EBF0F8",
            "linecolor": "#EBF0F8",
            "ticks": ""
           }
          },
          "scene": {
           "xaxis": {
            "backgroundcolor": "white",
            "gridcolor": "#DFE8F3",
            "gridwidth": 2,
            "linecolor": "#EBF0F8",
            "showbackground": true,
            "ticks": "",
            "zerolinecolor": "#EBF0F8"
           },
           "yaxis": {
            "backgroundcolor": "white",
            "gridcolor": "#DFE8F3",
            "gridwidth": 2,
            "linecolor": "#EBF0F8",
            "showbackground": true,
            "ticks": "",
            "zerolinecolor": "#EBF0F8"
           },
           "zaxis": {
            "backgroundcolor": "white",
            "gridcolor": "#DFE8F3",
            "gridwidth": 2,
            "linecolor": "#EBF0F8",
            "showbackground": true,
            "ticks": "",
            "zerolinecolor": "#EBF0F8"
           }
          },
          "shapedefaults": {
           "line": {
            "color": "#2a3f5f"
           }
          },
          "ternary": {
           "aaxis": {
            "gridcolor": "#DFE8F3",
            "linecolor": "#A2B1C6",
            "ticks": ""
           },
           "baxis": {
            "gridcolor": "#DFE8F3",
            "linecolor": "#A2B1C6",
            "ticks": ""
           },
           "bgcolor": "white",
           "caxis": {
            "gridcolor": "#DFE8F3",
            "linecolor": "#A2B1C6",
            "ticks": ""
           }
          },
          "title": {
           "x": 0.05
          },
          "xaxis": {
           "automargin": true,
           "gridcolor": "#EBF0F8",
           "linecolor": "#EBF0F8",
           "ticks": "",
           "title": {
            "standoff": 15
           },
           "zerolinecolor": "#EBF0F8",
           "zerolinewidth": 2
          },
          "yaxis": {
           "automargin": true,
           "gridcolor": "#EBF0F8",
           "linecolor": "#EBF0F8",
           "ticks": "",
           "title": {
            "standoff": 15
           },
           "zerolinecolor": "#EBF0F8",
           "zerolinewidth": 2
          }
         }
        },
        "updatemenus": [
         {
          "buttons": [
           {
            "args": [
             {
              "yaxis.type": "linear"
             }
            ],
            "label": "Linear y-scale",
            "method": "relayout"
           },
           {
            "args": [
             {
              "yaxis.type": "log"
             }
            ],
            "label": "Log y-scale",
            "method": "relayout"
           }
          ],
          "direction": "left",
          "pad": {
           "r": 0,
           "t": -10
          },
          "showactive": true,
          "type": "buttons",
          "x": 0,
          "xanchor": "left",
          "y": 1.15,
          "yanchor": "top"
         }
        ],
        "width": 800,
        "xaxis": {
         "title": {
          "text": "Time in day"
         }
        },
        "yaxis": {
         "title": {
          "text": "Tumour volume in cm^3"
         }
        }
       }
      }
     },
     "metadata": {}
    }
   ],
   "source": [
    "#\n",
    "# Slide 1: Scatter plot of control tumour growth.\n",
    "#\n",
    "\n",
    "import os\n",
    "\n",
    "import pandas as pd\n",
    "import plotly.graph_objects as go\n",
    "\n",
    "\n",
    "# Create figure\n",
    "fig = go.Figure()\n",
    "\n",
    "# Import data\n",
    "# Get path of directory one up current working directory\n",
    "path = os.path.dirname(os.getcwd())\n",
    "\n",
    "# Import LXF A677 control growth data\n",
    "lxf_data = pd.read_csv(path + '/notebooks/control_growth/data/lxf_control_growth.csv')\n",
    "\n",
    "# Scatter plot LXF A677 time-series data for each mouse\n",
    "mouse_ids = lxf_data['#ID'].unique()\n",
    "for id_m in mouse_ids:\n",
    "    # Create mask for mouse\n",
    "    mask = lxf_data['#ID'] == id_m\n",
    "\n",
    "    # Get time points for mouse\n",
    "    times = lxf_data['TIME in day'][mask]\n",
    "\n",
    "    # Get observed tumour volumes for mouse\n",
    "    observed_volumes = lxf_data['TUMOUR VOLUME in cm^3'][mask]\n",
    "\n",
    "    # Plot data\n",
    "    fig.add_trace(go.Scatter(\n",
    "        x=times,\n",
    "        y=observed_volumes,\n",
    "        name=\"ID: %s\" % id_m,\n",
    "        showlegend=True,\n",
    "        hovertemplate=\n",
    "            \"<b>ID: %d</b><br>\" % id_m +\n",
    "            \"Cancer type: LXF A677<br>\"\n",
    "            \"Time: %{x:} day<br>\" +\n",
    "            \"Tumour volume: %{y:.02f} cm^3<br>\" +\n",
    "            \"<extra></extra>\",\n",
    "        mode=\"markers\",\n",
    "        marker=dict(\n",
    "            symbol='circle',\n",
    "            opacity=0.7,\n",
    "            line=dict(color='black', width=1))\n",
    "    ))\n",
    "\n",
    "# Set X, Y axis and figure size\n",
    "fig.update_layout(\n",
    "    autosize=False,\n",
    "    width=800,\n",
    "    height=600,\n",
    "    xaxis_title='Time in day',\n",
    "    yaxis_title='Tumour volume in cm^3',\n",
    "    template=\"plotly_white\")\n",
    "\n",
    "# Add switch between linear and log y-scale\n",
    "fig.update_layout(\n",
    "    updatemenus=[\n",
    "        dict(\n",
    "            type = \"buttons\",\n",
    "            direction = \"left\",\n",
    "            buttons=list([\n",
    "                dict(\n",
    "                    args=[{\"yaxis.type\": \"linear\"}],\n",
    "                    label=\"Linear y-scale\",\n",
    "                    method=\"relayout\"\n",
    "                ),\n",
    "                dict(\n",
    "                    args=[{\"yaxis.type\": \"log\"}],\n",
    "                    label=\"Log y-scale\",\n",
    "                    method=\"relayout\"\n",
    "                )\n",
    "            ]),\n",
    "            pad={\"r\": 0, \"t\": -10},\n",
    "            showactive=True,\n",
    "            x=0.0,\n",
    "            xanchor=\"left\",\n",
    "            y=1.15,\n",
    "            yanchor=\"top\"\n",
    "        ),\n",
    "    ]\n",
    ")\n",
    "\n",
    "# Show figure\n",
    "fig.show()"
   ]
  },
  {
   "cell_type": "markdown",
   "metadata": {
    "slideshow": {
     "slide_type": "notes"
    }
   },
   "source": [
    "Notes:\n",
    "- Describe axes\n",
    "- Colours indicate individuals\n",
    "- The trend is the same\n",
    "- BUT there are subsantial differences bewtween the individuals"
   ]
  },
  {
   "cell_type": "markdown",
   "metadata": {
    "slideshow": {
     "slide_type": "slide"
    }
   },
   "source": [
    "### There is substantial variation between individuals"
   ]
  },
  {
   "cell_type": "code",
   "execution_count": 17,
   "metadata": {
    "tags": []
   },
   "outputs": [
    {
     "output_type": "display_data",
     "data": {
      "application/vnd.plotly.v1+json": {
       "config": {
        "plotlyServerURL": "https://plot.ly"
       },
       "data": [
        {
         "hovertemplate": "<b>Cumulative dose in mg</b><br>ID: 31<br>Time: %{x:.0f} day<br>Tumour volume: %{y:.02f} cm^3<br><extra></extra>",
         "legendgroup": "ID: 31",
         "line": {
          "color": "#636EFA"
         },
         "mode": "lines",
         "name": "ID: 31",
         "showlegend": false,
         "type": "scatter",
         "x": [
          0,
          3,
          3.001,
          4,
          4.001,
          5,
          5.001,
          6,
          6.001,
          7,
          7.001,
          8,
          8.001,
          9,
          9.001,
          10,
          10.001,
          11,
          11.001,
          12,
          12.001,
          13,
          13.001,
          14,
          14.001,
          15,
          15.001,
          16,
          16.001,
          30
         ],
         "xaxis": "x",
         "y": [
          0,
          0,
          0.13125,
          0.13125,
          0.2875,
          0.2875,
          0.44375,
          0.44375,
          0.6,
          0.6,
          0.7625,
          0.7625,
          0.9249999999999999,
          0.9249999999999999,
          1.09375,
          1.09375,
          1.2625,
          1.2625,
          1.41875,
          1.41875,
          1.575,
          1.575,
          1.73125,
          1.73125,
          1.9,
          1.9,
          2.06875,
          2.06875,
          2.24375,
          2.24375
         ],
         "yaxis": "y"
        },
        {
         "hovertemplate": "<b>Tumour volume in cm^3</b><br>ID: 31<br>Time: %{x:} day<br>Tumour volume: %{y:.02f} cm^3<br><extra></extra>",
         "legendgroup": "ID: 31",
         "marker": {
          "color": "#636EFA",
          "line": {
           "color": "black",
           "width": 1
          },
          "opacity": 0.7,
          "symbol": "circle"
         },
         "mode": "markers",
         "name": "ID: 31",
         "showlegend": true,
         "type": "scatter",
         "x": [
          0,
          2,
          4,
          7,
          9,
          11,
          14,
          16,
          18,
          21,
          23,
          null,
          null,
          null,
          null,
          null,
          null,
          null,
          null,
          null,
          null,
          null,
          null,
          null,
          null,
          null,
          null
         ],
         "xaxis": "x2",
         "y": [
          1.64152,
          1.9155799999999998,
          4.5125,
          4.78325,
          4.8735,
          5.684580000000001,
          7.366219999999998,
          8.98098,
          12.92832,
          16.17408,
          20.563920000000003,
          null,
          null,
          null,
          null,
          null,
          null,
          null,
          null,
          null,
          null,
          null,
          null,
          null,
          null,
          null,
          null
         ],
         "yaxis": "y2"
        },
        {
         "hovertemplate": "<b>Cumulative dose in mg</b><br>ID: 38<br>Time: %{x:.0f} day<br>Tumour volume: %{y:.02f} cm^3<br><extra></extra>",
         "legendgroup": "ID: 38",
         "line": {
          "color": "#EF553B"
         },
         "mode": "lines",
         "name": "ID: 38",
         "showlegend": false,
         "type": "scatter",
         "x": [
          0,
          3,
          3.001,
          4,
          4.001,
          5,
          5.001,
          6,
          6.001,
          7,
          7.001,
          8,
          8.001,
          9,
          9.001,
          10,
          10.001,
          11,
          11.001,
          12,
          12.001,
          13,
          13.001,
          14,
          14.001,
          15,
          15.001,
          16,
          16.001,
          30
         ],
         "xaxis": "x",
         "y": [
          0,
          0,
          0.16875,
          0.16875,
          0.3375,
          0.3375,
          0.5062500000000001,
          0.5062500000000001,
          0.675,
          0.675,
          0.84375,
          0.84375,
          1.0125,
          1.0125,
          1.18125,
          1.18125,
          1.3499999999999999,
          1.3499999999999999,
          1.5187499999999998,
          1.5187499999999998,
          1.6874999999999998,
          1.6874999999999998,
          1.8562499999999997,
          1.8562499999999997,
          2.025,
          2.025,
          2.19375,
          2.19375,
          2.3625000000000003,
          2.3625000000000003
         ],
         "yaxis": "y"
        },
        {
         "hovertemplate": "<b>Tumour volume in cm^3</b><br>ID: 38<br>Time: %{x:} day<br>Tumour volume: %{y:.02f} cm^3<br><extra></extra>",
         "legendgroup": "ID: 38",
         "marker": {
          "color": "#EF553B",
          "line": {
           "color": "black",
           "width": 1
          },
          "opacity": 0.7,
          "symbol": "circle"
         },
         "mode": "markers",
         "name": "ID: 38",
         "showlegend": true,
         "type": "scatter",
         "x": [
          0,
          2,
          4,
          7,
          9,
          11,
          14,
          16,
          18,
          21,
          23,
          25,
          28,
          30,
          null,
          null,
          null,
          null,
          null,
          null,
          null,
          null,
          null,
          null,
          null,
          null,
          null,
          null,
          null,
          null
         ],
         "xaxis": "x2",
         "y": [
          0.39503499999999997,
          0.8427,
          1.206,
          1.56816,
          2.02176,
          2.12544,
          2.6465400000000003,
          3.22752,
          3.94944,
          5.4101750000000015,
          6.450480000000001,
          7.0304,
          8.05792,
          10.02472,
          null,
          null,
          null,
          null,
          null,
          null,
          null,
          null,
          null,
          null,
          null,
          null,
          null,
          null,
          null,
          null
         ],
         "yaxis": "y2"
        },
        {
         "hovertemplate": "<b>Cumulative dose in mg</b><br>ID: 98<br>Time: %{x:.0f} day<br>Tumour volume: %{y:.02f} cm^3<br><extra></extra>",
         "legendgroup": "ID: 98",
         "line": {
          "color": "#00CC96"
         },
         "mode": "lines",
         "name": "ID: 98",
         "showlegend": false,
         "type": "scatter",
         "x": [
          0,
          3,
          3.001,
          4,
          4.001,
          5,
          5.001,
          6,
          6.001,
          7,
          7.001,
          8,
          8.001,
          9,
          9.001,
          10,
          10.001,
          11,
          11.001,
          12,
          12.001,
          13,
          13.001,
          14,
          14.001,
          15,
          15.001,
          16,
          16.001,
          30
         ],
         "xaxis": "x",
         "y": [
          0,
          0,
          0.17500000000000002,
          0.17500000000000002,
          0.34375,
          0.34375,
          0.5125,
          0.5125,
          0.6812499999999999,
          0.6812499999999999,
          0.8499999999999999,
          0.8499999999999999,
          1.0187499999999998,
          1.0187499999999998,
          1.1874999999999998,
          1.1874999999999998,
          1.3562499999999997,
          1.3562499999999997,
          1.5187499999999998,
          1.5187499999999998,
          1.68125,
          1.68125,
          1.84375,
          1.84375,
          2.0125,
          2.0125,
          2.1812500000000004,
          2.1812500000000004,
          2.35625,
          2.35625
         ],
         "yaxis": "y"
        },
        {
         "hovertemplate": "<b>Tumour volume in cm^3</b><br>ID: 98<br>Time: %{x:} day<br>Tumour volume: %{y:.02f} cm^3<br><extra></extra>",
         "legendgroup": "ID: 98",
         "marker": {
          "color": "#00CC96",
          "line": {
           "color": "black",
           "width": 1
          },
          "opacity": 0.7,
          "symbol": "circle"
         },
         "mode": "markers",
         "name": "ID: 98",
         "showlegend": true,
         "type": "scatter",
         "x": [
          0,
          2,
          4,
          7,
          9,
          11,
          14,
          16,
          18,
          21,
          23,
          25,
          28,
          30,
          null,
          null,
          null,
          null,
          null,
          null,
          null,
          null,
          null,
          null,
          null,
          null,
          null,
          null,
          null,
          null
         ],
         "xaxis": "x2",
         "y": [
          1.832985,
          2.69001,
          3.7466550000000005,
          4.93056,
          5.87826,
          6.961365,
          7.80275,
          8.860750000000003,
          9.32908,
          10.716480000000002,
          11.271105,
          14.488875,
          14.671125,
          16.184,
          null,
          null,
          null,
          null,
          null,
          null,
          null,
          null,
          null,
          null,
          null,
          null,
          null,
          null,
          null,
          null
         ],
         "yaxis": "y2"
        },
        {
         "hovertemplate": "<b>Cumulative dose in mg</b><br>ID: 119<br>Time: %{x:.0f} day<br>Tumour volume: %{y:.02f} cm^3<br><extra></extra>",
         "legendgroup": "ID: 119",
         "line": {
          "color": "#AB63FA"
         },
         "mode": "lines",
         "name": "ID: 119",
         "showlegend": false,
         "type": "scatter",
         "x": [
          0,
          3,
          3.001,
          4,
          4.001,
          5,
          5.001,
          6,
          6.001,
          7,
          7.001,
          8,
          8.001,
          9,
          9.001,
          10,
          10.001,
          11,
          11.001,
          12,
          12.001,
          13,
          13.001,
          14,
          14.001,
          15,
          15.001,
          16,
          16.001,
          30
         ],
         "xaxis": "x",
         "y": [
          0,
          0,
          0.1375,
          0.1375,
          0.275,
          0.275,
          0.41250000000000003,
          0.41250000000000003,
          0.55,
          0.55,
          0.6875,
          0.6875,
          0.825,
          0.825,
          0.96875,
          0.96875,
          1.1125,
          1.1125,
          1.2437500000000001,
          1.2437500000000001,
          1.3750000000000002,
          1.3750000000000002,
          1.5062500000000003,
          1.5062500000000003,
          1.6437500000000003,
          1.6437500000000003,
          1.7812500000000002,
          1.7812500000000002,
          1.9187500000000002,
          1.9187500000000002
         ],
         "yaxis": "y"
        },
        {
         "hovertemplate": "<b>Tumour volume in cm^3</b><br>ID: 119<br>Time: %{x:} day<br>Tumour volume: %{y:.02f} cm^3<br><extra></extra>",
         "legendgroup": "ID: 119",
         "marker": {
          "color": "#AB63FA",
          "line": {
           "color": "black",
           "width": 1
          },
          "opacity": 0.7,
          "symbol": "circle"
         },
         "mode": "markers",
         "name": "ID: 119",
         "showlegend": true,
         "type": "scatter",
         "x": [
          0,
          2,
          4,
          7,
          9,
          11,
          14,
          16,
          18,
          21,
          23,
          25,
          28,
          30,
          null,
          null,
          null,
          null,
          null,
          null,
          null,
          null,
          null,
          null,
          null,
          null,
          null,
          null,
          null,
          null
         ],
         "xaxis": "x2",
         "y": [
          1.1209049999999998,
          1.49916,
          1.6998400000000002,
          2.10392,
          2.352,
          3.94944,
          4.198130000000001,
          4.237735,
          4.396155,
          4.5941800000000015,
          4.39002,
          5.92012,
          8.7723,
          9.12525,
          null,
          null,
          null,
          null,
          null,
          null,
          null,
          null,
          null,
          null,
          null,
          null,
          null,
          null,
          null,
          null
         ],
         "yaxis": "y2"
        },
        {
         "hovertemplate": "<b>Cumulative dose in mg</b><br>ID: 131<br>Time: %{x:.0f} day<br>Tumour volume: %{y:.02f} cm^3<br><extra></extra>",
         "legendgroup": "ID: 131",
         "line": {
          "color": "#FFA15A"
         },
         "mode": "lines",
         "name": "ID: 131",
         "showlegend": false,
         "type": "scatter",
         "x": [
          0,
          3,
          3.001,
          4,
          4.001,
          5,
          5.001,
          6,
          6.001,
          7,
          7.001,
          8,
          8.001,
          9,
          9.001,
          10,
          10.001,
          11,
          11.001,
          12,
          12.001,
          13,
          13.001,
          14,
          14.001,
          15,
          15.001,
          16,
          16.001,
          30
         ],
         "xaxis": "x",
         "y": [
          0,
          0,
          0.1625,
          0.1625,
          0.31875,
          0.31875,
          0.475,
          0.475,
          0.63125,
          0.63125,
          0.7875,
          0.7875,
          0.94375,
          0.94375,
          1.10625,
          1.10625,
          1.26875,
          1.26875,
          1.4125,
          1.4125,
          1.5562500000000001,
          1.5562500000000001,
          1.7000000000000002,
          1.7000000000000002,
          1.8562500000000002,
          1.8562500000000002,
          2.0125,
          2.0125,
          2.16875,
          2.16875
         ],
         "yaxis": "y"
        },
        {
         "hovertemplate": "<b>Tumour volume in cm^3</b><br>ID: 131<br>Time: %{x:} day<br>Tumour volume: %{y:.02f} cm^3<br><extra></extra>",
         "legendgroup": "ID: 131",
         "marker": {
          "color": "#FFA15A",
          "line": {
           "color": "black",
           "width": 1
          },
          "opacity": 0.7,
          "symbol": "circle"
         },
         "mode": "markers",
         "name": "ID: 131",
         "showlegend": true,
         "type": "scatter",
         "x": [
          0,
          2,
          4,
          7,
          9,
          11,
          14,
          16,
          18,
          21,
          23,
          25,
          null,
          null,
          null,
          null,
          null,
          null,
          null,
          null,
          null,
          null,
          null,
          null,
          null,
          null,
          null,
          null
         ],
         "xaxis": "x2",
         "y": [
          1.043625,
          2.19375,
          2.9852550000000004,
          5.18616,
          5.95448,
          8.048160000000001,
          8.967239999999999,
          9.29214,
          11.116385,
          13.604500000000002,
          16.28262,
          18.86466,
          null,
          null,
          null,
          null,
          null,
          null,
          null,
          null,
          null,
          null,
          null,
          null,
          null,
          null,
          null,
          null
         ],
         "yaxis": "y2"
        },
        {
         "hovertemplate": "<b>Cumulative dose in mg</b><br>ID: 139<br>Time: %{x:.0f} day<br>Tumour volume: %{y:.02f} cm^3<br><extra></extra>",
         "legendgroup": "ID: 139",
         "line": {
          "color": "#19D3F3"
         },
         "mode": "lines",
         "name": "ID: 139",
         "showlegend": false,
         "type": "scatter",
         "x": [
          0,
          3,
          3.001,
          4,
          4.001,
          5,
          5.001,
          6,
          6.001,
          7,
          7.001,
          8,
          8.001,
          9,
          9.001,
          10,
          10.001,
          11,
          11.001,
          12,
          12.001,
          13,
          13.001,
          14,
          14.001,
          15,
          15.001,
          16,
          16.001,
          30
         ],
         "xaxis": "x",
         "y": [
          0,
          0,
          0.15,
          0.15,
          0.29375,
          0.29375,
          0.4375,
          0.4375,
          0.58125,
          0.58125,
          0.7250000000000001,
          0.7250000000000001,
          0.8687500000000001,
          0.8687500000000001,
          1.0125000000000002,
          1.0125000000000002,
          1.1562500000000002,
          1.1562500000000002,
          1.2937500000000002,
          1.2937500000000002,
          1.4312500000000001,
          1.4312500000000001,
          1.56875,
          1.56875,
          1.7125000000000001,
          1.7125000000000001,
          1.8562500000000002,
          1.8562500000000002,
          2.00625,
          2.00625
         ],
         "yaxis": "y"
        },
        {
         "hovertemplate": "<b>Tumour volume in cm^3</b><br>ID: 139<br>Time: %{x:} day<br>Tumour volume: %{y:.02f} cm^3<br><extra></extra>",
         "legendgroup": "ID: 139",
         "marker": {
          "color": "#19D3F3",
          "line": {
           "color": "black",
           "width": 1
          },
          "opacity": 0.7,
          "symbol": "circle"
         },
         "mode": "markers",
         "name": "ID: 139",
         "showlegend": true,
         "type": "scatter",
         "x": [
          0,
          2,
          4,
          7,
          9,
          11,
          14,
          16,
          18,
          21,
          23,
          25,
          28,
          30,
          null,
          null,
          null,
          null,
          null,
          null,
          null,
          null,
          null,
          null,
          null,
          null,
          null,
          null,
          null,
          null
         ],
         "xaxis": "x2",
         "y": [
          0.862125,
          1.061705,
          2.0535,
          3.5574300000000005,
          3.807,
          4.05,
          6.4355199999999995,
          6.9984,
          8.107000000000001,
          11.9072,
          14.12964,
          14.609375,
          20.757935000000003,
          23.597420000000003,
          null,
          null,
          null,
          null,
          null,
          null,
          null,
          null,
          null,
          null,
          null,
          null,
          null,
          null,
          null,
          null
         ],
         "yaxis": "y2"
        },
        {
         "hovertemplate": "<b>Cumulative dose in mg</b><br>ID: 161<br>Time: %{x:.0f} day<br>Tumour volume: %{y:.02f} cm^3<br><extra></extra>",
         "legendgroup": "ID: 161",
         "line": {
          "color": "#FF6692"
         },
         "mode": "lines",
         "name": "ID: 161",
         "showlegend": false,
         "type": "scatter",
         "x": [
          0,
          3,
          3.001,
          4,
          4.001,
          5,
          5.001,
          6,
          6.001,
          7,
          7.001,
          8,
          8.001,
          9,
          9.001,
          10,
          10.001,
          11,
          11.001,
          12,
          12.001,
          13,
          13.001,
          14,
          14.001,
          15,
          15.001,
          16,
          16.001,
          30
         ],
         "xaxis": "x",
         "y": [
          0,
          0,
          0.15625,
          0.15625,
          0.3125,
          0.3125,
          0.46875,
          0.46875,
          0.625,
          0.625,
          0.78125,
          0.78125,
          0.9375,
          0.9375,
          1.1,
          1.1,
          1.2625000000000002,
          1.2625000000000002,
          1.4125,
          1.4125,
          1.5625,
          1.5625,
          1.7125,
          1.7125,
          1.875,
          1.875,
          2.0375,
          2.0375,
          2.2,
          2.2
         ],
         "yaxis": "y"
        },
        {
         "hovertemplate": "<b>Tumour volume in cm^3</b><br>ID: 161<br>Time: %{x:} day<br>Tumour volume: %{y:.02f} cm^3<br><extra></extra>",
         "legendgroup": "ID: 161",
         "marker": {
          "color": "#FF6692",
          "line": {
           "color": "black",
           "width": 1
          },
          "opacity": 0.7,
          "symbol": "circle"
         },
         "mode": "markers",
         "name": "ID: 161",
         "showlegend": true,
         "type": "scatter",
         "x": [
          0,
          2,
          4,
          7,
          9,
          11,
          14,
          16,
          18,
          21,
          23,
          25,
          28,
          30,
          null,
          null,
          null,
          null,
          null,
          null,
          null,
          null,
          null,
          null,
          null,
          null,
          null,
          null,
          null,
          null
         ],
         "xaxis": "x2",
         "y": [
          1.0260200000000002,
          1.19422,
          2.34476,
          3.3651800000000005,
          4.898040000000001,
          6.08634,
          6.34644,
          8.107000000000001,
          9.12525,
          13.203125,
          13.918679999999998,
          16.391385,
          19.12779,
          21.56544,
          null,
          null,
          null,
          null,
          null,
          null,
          null,
          null,
          null,
          null,
          null,
          null,
          null,
          null,
          null,
          null
         ],
         "yaxis": "y2"
        },
        {
         "hovertemplate": "<b>Cumulative dose in mg</b><br>ID: 162<br>Time: %{x:.0f} day<br>Tumour volume: %{y:.02f} cm^3<br><extra></extra>",
         "legendgroup": "ID: 162",
         "line": {
          "color": "#B6E880"
         },
         "mode": "lines",
         "name": "ID: 162",
         "showlegend": false,
         "type": "scatter",
         "x": [
          0,
          3,
          3.001,
          4,
          4.001,
          5,
          5.001,
          6,
          6.001,
          7,
          7.001,
          8,
          8.001,
          9,
          9.001,
          10,
          10.001,
          11,
          11.001,
          12,
          12.001,
          13,
          13.001,
          14,
          14.001,
          15,
          15.001,
          16,
          16.001,
          30
         ],
         "xaxis": "x",
         "y": [
          0,
          0,
          0.1625,
          0.1625,
          0.31875,
          0.31875,
          0.475,
          0.475,
          0.63125,
          0.63125,
          0.78125,
          0.78125,
          0.93125,
          0.93125,
          1.0875,
          1.0875,
          1.24375,
          1.24375,
          1.3875,
          1.3875,
          1.53125,
          1.53125,
          1.675,
          1.675,
          1.825,
          1.825,
          1.9749999999999999,
          1.9749999999999999,
          2.1312499999999996,
          2.1312499999999996
         ],
         "yaxis": "y"
        },
        {
         "hovertemplate": "<b>Tumour volume in cm^3</b><br>ID: 162<br>Time: %{x:} day<br>Tumour volume: %{y:.02f} cm^3<br><extra></extra>",
         "legendgroup": "ID: 162",
         "marker": {
          "color": "#B6E880",
          "line": {
           "color": "black",
           "width": 1
          },
          "opacity": 0.7,
          "symbol": "circle"
         },
         "mode": "markers",
         "name": "ID: 162",
         "showlegend": true,
         "type": "scatter",
         "x": [
          0,
          2,
          4,
          7,
          9,
          11,
          14,
          16,
          18,
          21,
          23,
          25,
          28,
          30,
          null,
          null,
          null,
          null,
          null,
          null,
          null,
          null,
          null,
          null,
          null,
          null,
          null,
          null,
          null,
          null
         ],
         "xaxis": "x2",
         "y": [
          1.03488,
          1.30977,
          1.536,
          2.2032,
          2.2032,
          2.3714049999999998,
          2.8899000000000004,
          3.36,
          3.36,
          4.903980000000002,
          4.2527,
          4.3266599999999995,
          5.8500000000000005,
          6.517665,
          null,
          null,
          null,
          null,
          null,
          null,
          null,
          null,
          null,
          null,
          null,
          null,
          null,
          null,
          null,
          null
         ],
         "yaxis": "y2"
        },
        {
         "hovertemplate": "<b>Cumulative dose in mg</b><br>ID: 34<br>Time: %{x:.0f} day<br>Tumour volume: %{y:.02f} cm^3<br><extra></extra>",
         "legendgroup": "ID: 34",
         "line": {
          "color": "#636EFA"
         },
         "mode": "lines",
         "name": "ID: 34",
         "showlegend": false,
         "type": "scatter",
         "visible": false,
         "x": [
          0,
          3,
          3.001,
          4,
          4.001,
          5,
          5.001,
          6,
          6.001,
          7,
          7.001,
          8,
          8.001,
          9,
          9.001,
          10,
          10.001,
          11,
          11.001,
          12,
          12.001,
          13,
          13.001,
          14,
          14.001,
          15,
          15.001,
          16,
          16.001,
          30
         ],
         "xaxis": "x",
         "y": [
          0,
          0,
          0.675,
          0.675,
          1.375,
          1.375,
          2.075,
          2.075,
          2.7750000000000004,
          2.7750000000000004,
          3.4750000000000005,
          3.4750000000000005,
          4.175000000000001,
          4.175000000000001,
          4.875000000000001,
          4.875000000000001,
          5.575000000000001,
          5.575000000000001,
          6.250000000000001,
          6.250000000000001,
          6.925000000000001,
          6.925000000000001,
          7.6000000000000005,
          7.6000000000000005,
          8.275,
          8.275,
          8.950000000000001,
          8.950000000000001,
          9.625000000000002,
          9.625000000000002
         ],
         "yaxis": "y"
        },
        {
         "hovertemplate": "<b>Tumour volume in cm^3</b><br>ID: 34<br>Time: %{x:} day<br>Tumour volume: %{y:.02f} cm^3<br><extra></extra>",
         "legendgroup": "ID: 34",
         "marker": {
          "color": "#636EFA",
          "line": {
           "color": "black",
           "width": 1
          },
          "opacity": 0.7,
          "symbol": "circle"
         },
         "mode": "markers",
         "name": "ID: 34",
         "showlegend": true,
         "type": "scatter",
         "visible": false,
         "x": [
          0,
          2,
          4,
          7,
          9,
          11,
          14,
          16,
          18,
          21,
          23,
          25,
          28,
          30,
          null,
          null,
          null,
          null,
          null,
          null,
          null,
          null,
          null,
          null,
          null,
          null,
          null,
          null,
          null,
          null
         ],
         "xaxis": "x2",
         "y": [
          1.6529200000000002,
          2.17328,
          2.9250000000000003,
          3.8922849999999998,
          3.961175,
          5.71392,
          5.95448,
          6.338640000000002,
          8.1461,
          10.646125,
          11.966045,
          13.68464,
          15.21,
          16.185435000000002,
          null,
          null,
          null,
          null,
          null,
          null,
          null,
          null,
          null,
          null,
          null,
          null,
          null,
          null,
          null,
          null
         ],
         "yaxis": "y2"
        },
        {
         "hovertemplate": "<b>Cumulative dose in mg</b><br>ID: 52<br>Time: %{x:.0f} day<br>Tumour volume: %{y:.02f} cm^3<br><extra></extra>",
         "legendgroup": "ID: 52",
         "line": {
          "color": "#EF553B"
         },
         "mode": "lines",
         "name": "ID: 52",
         "showlegend": false,
         "type": "scatter",
         "visible": false,
         "x": [
          0,
          3,
          3.001,
          4,
          4.001,
          5,
          5.001,
          6,
          6.001,
          7,
          7.001,
          8,
          8.001,
          9,
          9.001,
          10,
          10.001,
          11,
          11.001,
          12,
          12.001,
          13,
          13.001,
          14,
          14.001,
          15,
          15.001,
          16,
          16.001,
          30
         ],
         "xaxis": "x",
         "y": [
          0,
          0,
          0.65,
          0.65,
          1.275,
          1.275,
          1.9,
          1.9,
          2.525,
          2.525,
          3.175,
          3.175,
          3.8249999999999997,
          3.8249999999999997,
          4.475,
          4.475,
          5.125,
          5.125,
          5.75,
          5.75,
          6.375,
          6.375,
          7,
          7,
          7.65,
          7.65,
          8.3,
          8.3,
          8.950000000000001,
          8.950000000000001
         ],
         "yaxis": "y"
        },
        {
         "hovertemplate": "<b>Tumour volume in cm^3</b><br>ID: 52<br>Time: %{x:} day<br>Tumour volume: %{y:.02f} cm^3<br><extra></extra>",
         "legendgroup": "ID: 52",
         "marker": {
          "color": "#EF553B",
          "line": {
           "color": "black",
           "width": 1
          },
          "opacity": 0.7,
          "symbol": "circle"
         },
         "mode": "markers",
         "name": "ID: 52",
         "showlegend": true,
         "type": "scatter",
         "visible": false,
         "x": [
          0,
          2,
          4,
          7,
          9,
          11,
          14,
          16,
          18,
          21,
          23,
          25,
          28,
          30,
          null,
          null,
          null,
          null,
          null,
          null,
          null,
          null,
          null,
          null,
          null,
          null,
          null,
          null,
          null,
          null
         ],
         "xaxis": "x2",
         "y": [
          2.0535,
          1.91808,
          2.788425,
          3.01806,
          3.79456,
          5.2,
          6.296950000000002,
          7.464960000000001,
          8.31744,
          9.3987,
          10.78125,
          11.30496,
          12.28392,
          13.797420000000002,
          null,
          null,
          null,
          null,
          null,
          null,
          null,
          null,
          null,
          null,
          null,
          null,
          null,
          null,
          null,
          null
         ],
         "yaxis": "y2"
        },
        {
         "hovertemplate": "<b>Cumulative dose in mg</b><br>ID: 91<br>Time: %{x:.0f} day<br>Tumour volume: %{y:.02f} cm^3<br><extra></extra>",
         "legendgroup": "ID: 91",
         "line": {
          "color": "#00CC96"
         },
         "mode": "lines",
         "name": "ID: 91",
         "showlegend": false,
         "type": "scatter",
         "visible": false,
         "x": [
          0,
          3,
          3.001,
          4,
          4.001,
          5,
          5.001,
          6,
          6.001,
          7,
          7.001,
          8,
          8.001,
          9,
          9.001,
          10,
          10.001,
          11,
          11.001,
          12,
          12.001,
          13,
          13.001,
          14,
          14.001,
          15,
          15.001,
          16,
          16.001,
          30
         ],
         "xaxis": "x",
         "y": [
          0,
          0,
          0.625,
          0.625,
          1.25,
          1.25,
          1.875,
          1.875,
          2.5,
          2.5,
          3.15,
          3.15,
          3.8,
          3.8,
          4.475,
          4.475,
          5.1499999999999995,
          5.1499999999999995,
          5.7749999999999995,
          5.7749999999999995,
          6.3999999999999995,
          6.3999999999999995,
          7.0249999999999995,
          7.0249999999999995,
          7.675,
          7.675,
          8.325,
          8.325,
          9,
          9
         ],
         "yaxis": "y"
        },
        {
         "hovertemplate": "<b>Tumour volume in cm^3</b><br>ID: 91<br>Time: %{x:} day<br>Tumour volume: %{y:.02f} cm^3<br><extra></extra>",
         "legendgroup": "ID: 91",
         "marker": {
          "color": "#00CC96",
          "line": {
           "color": "black",
           "width": 1
          },
          "opacity": 0.7,
          "symbol": "circle"
         },
         "mode": "markers",
         "name": "ID: 91",
         "showlegend": true,
         "type": "scatter",
         "visible": false,
         "x": [
          0,
          2,
          4,
          7,
          9,
          11,
          14,
          16,
          18,
          21,
          23,
          25,
          28,
          30,
          null,
          null,
          null,
          null,
          null,
          null,
          null,
          null,
          null,
          null,
          null,
          null,
          null,
          null,
          null,
          null
         ],
         "xaxis": "x2",
         "y": [
          1.283745,
          1.3581649999999998,
          2.22912,
          2.0476799999999997,
          2.43089,
          2.944,
          3.01806,
          3.49272,
          4.3738199999999985,
          5.622769999999999,
          7.947045000000001,
          9.589855,
          11.82762,
          12.016105,
          null,
          null,
          null,
          null,
          null,
          null,
          null,
          null,
          null,
          null,
          null,
          null,
          null,
          null,
          null,
          null
         ],
         "yaxis": "y2"
        },
        {
         "hovertemplate": "<b>Cumulative dose in mg</b><br>ID: 108<br>Time: %{x:.0f} day<br>Tumour volume: %{y:.02f} cm^3<br><extra></extra>",
         "legendgroup": "ID: 108",
         "line": {
          "color": "#AB63FA"
         },
         "mode": "lines",
         "name": "ID: 108",
         "showlegend": false,
         "type": "scatter",
         "visible": false,
         "x": [
          0,
          3,
          3.001,
          4,
          4.001,
          5,
          5.001,
          6,
          6.001,
          7,
          7.001,
          8,
          8.001,
          9,
          9.001,
          10,
          10.001,
          11,
          11.001,
          12,
          12.001,
          13,
          13.001,
          14,
          14.001,
          15,
          15.001,
          16,
          16.001,
          30
         ],
         "xaxis": "x",
         "y": [
          0,
          0,
          0.65,
          0.65,
          1.275,
          1.275,
          1.9,
          1.9,
          2.525,
          2.525,
          3.15,
          3.15,
          3.775,
          3.775,
          4.4,
          4.4,
          5.025,
          5.025,
          5.65,
          5.65,
          6.275,
          6.275,
          6.9,
          6.9,
          7.575,
          7.575,
          8.25,
          8.25,
          8.925,
          8.925
         ],
         "yaxis": "y"
        },
        {
         "hovertemplate": "<b>Tumour volume in cm^3</b><br>ID: 108<br>Time: %{x:} day<br>Tumour volume: %{y:.02f} cm^3<br><extra></extra>",
         "legendgroup": "ID: 108",
         "marker": {
          "color": "#AB63FA",
          "line": {
           "color": "black",
           "width": 1
          },
          "opacity": 0.7,
          "symbol": "circle"
         },
         "mode": "markers",
         "name": "ID: 108",
         "showlegend": true,
         "type": "scatter",
         "visible": false,
         "x": [
          0,
          2,
          4,
          7,
          9,
          11,
          14,
          16,
          18,
          21,
          23,
          25,
          28,
          30,
          null,
          null,
          null,
          null,
          null,
          null,
          null,
          null,
          null,
          null,
          null,
          null,
          null,
          null,
          null,
          null
         ],
         "xaxis": "x2",
         "y": [
          0.87808,
          1.07911,
          1.928205,
          1.85679,
          1.975815,
          2.8160000000000003,
          3.2033850000000004,
          4.67046,
          4.9186250000000005,
          5.053999999999999,
          7.6835,
          9.12525,
          9.629480000000001,
          10.19592,
          null,
          null,
          null,
          null,
          null,
          null,
          null,
          null,
          null,
          null,
          null,
          null,
          null,
          null,
          null,
          null
         ],
         "yaxis": "y2"
        },
        {
         "hovertemplate": "<b>Cumulative dose in mg</b><br>ID: 122<br>Time: %{x:.0f} day<br>Tumour volume: %{y:.02f} cm^3<br><extra></extra>",
         "legendgroup": "ID: 122",
         "line": {
          "color": "#FFA15A"
         },
         "mode": "lines",
         "name": "ID: 122",
         "showlegend": false,
         "type": "scatter",
         "visible": false,
         "x": [
          0,
          3,
          3.001,
          4,
          4.001,
          5,
          5.001,
          6,
          6.001,
          7,
          7.001,
          8,
          8.001,
          9,
          9.001,
          10,
          10.001,
          11,
          11.001,
          12,
          12.001,
          13,
          13.001,
          14,
          14.001,
          15,
          15.001,
          16,
          16.001,
          30
         ],
         "xaxis": "x",
         "y": [
          0,
          0,
          0.6,
          0.6,
          1.2,
          1.2,
          1.7999999999999998,
          1.7999999999999998,
          2.4,
          2.4,
          3,
          3,
          3.6,
          3.6,
          4.175,
          4.175,
          4.75,
          4.75,
          5.325,
          5.325,
          5.9,
          5.9,
          6.4750000000000005,
          6.4750000000000005,
          7.1000000000000005,
          7.1000000000000005,
          7.7250000000000005,
          7.7250000000000005,
          8.325000000000001,
          8.325000000000001
         ],
         "yaxis": "y"
        },
        {
         "hovertemplate": "<b>Tumour volume in cm^3</b><br>ID: 122<br>Time: %{x:} day<br>Tumour volume: %{y:.02f} cm^3<br><extra></extra>",
         "legendgroup": "ID: 122",
         "marker": {
          "color": "#FFA15A",
          "line": {
           "color": "black",
           "width": 1
          },
          "opacity": 0.7,
          "symbol": "circle"
         },
         "mode": "markers",
         "name": "ID: 122",
         "showlegend": true,
         "type": "scatter",
         "visible": false,
         "x": [
          0,
          2,
          4,
          7,
          9,
          11,
          14,
          16,
          18,
          21,
          23,
          25,
          28,
          30,
          null,
          null,
          null,
          null,
          null,
          null,
          null,
          null,
          null,
          null,
          null,
          null,
          null,
          null,
          null,
          null
         ],
         "xaxis": "x2",
         "y": [
          1.0260200000000002,
          1.47875,
          1.7859599999999998,
          2.714835,
          2.714835,
          3.065605,
          3.504125,
          3.58706,
          3.8459199999999996,
          4.9186250000000005,
          5.369875,
          6.2,
          7.23168,
          7.425625,
          null,
          null,
          null,
          null,
          null,
          null,
          null,
          null,
          null,
          null,
          null,
          null,
          null,
          null,
          null,
          null
         ],
         "yaxis": "y2"
        },
        {
         "hovertemplate": "<b>Cumulative dose in mg</b><br>ID: 129<br>Time: %{x:.0f} day<br>Tumour volume: %{y:.02f} cm^3<br><extra></extra>",
         "legendgroup": "ID: 129",
         "line": {
          "color": "#19D3F3"
         },
         "mode": "lines",
         "name": "ID: 129",
         "showlegend": false,
         "type": "scatter",
         "visible": false,
         "x": [
          0,
          3,
          3.001,
          4,
          4.001,
          5,
          5.001,
          6,
          6.001,
          7,
          7.001,
          8,
          8.001,
          9,
          9.001,
          10,
          10.001,
          11,
          11.001,
          12,
          12.001,
          13,
          13.001,
          14,
          14.001,
          15,
          15.001,
          16,
          16.001,
          30
         ],
         "xaxis": "x",
         "y": [
          0,
          0,
          0.725,
          0.725,
          1.45,
          1.45,
          2.175,
          2.175,
          2.9,
          2.9,
          3.6,
          3.6,
          4.3,
          4.3,
          5,
          5,
          5.7,
          5.7,
          6.375,
          6.375,
          7.05,
          7.05,
          7.725,
          7.725,
          8.424999999999999,
          8.424999999999999,
          9.124999999999998,
          9.124999999999998,
          9.824999999999998,
          9.824999999999998
         ],
         "yaxis": "y"
        },
        {
         "hovertemplate": "<b>Tumour volume in cm^3</b><br>ID: 129<br>Time: %{x:} day<br>Tumour volume: %{y:.02f} cm^3<br><extra></extra>",
         "legendgroup": "ID: 129",
         "marker": {
          "color": "#19D3F3",
          "line": {
           "color": "black",
           "width": 1
          },
          "opacity": 0.7,
          "symbol": "circle"
         },
         "mode": "markers",
         "name": "ID: 129",
         "showlegend": true,
         "type": "scatter",
         "visible": false,
         "x": [
          0,
          2,
          4,
          7,
          9,
          11,
          14,
          16,
          18,
          21,
          23,
          25,
          28,
          30,
          null,
          null,
          null,
          null,
          null,
          null,
          null,
          null,
          null,
          null,
          null,
          null,
          null,
          null,
          null,
          null
         ],
         "xaxis": "x2",
         "y": [
          0.75429,
          1.19164,
          1.38384,
          1.488375,
          1.607445,
          2.04723,
          2.53125,
          2.26845,
          2.6284799999999997,
          4.1251050000000005,
          5.2345000000000015,
          5.71392,
          7.464960000000001,
          7.603839999999999,
          null,
          null,
          null,
          null,
          null,
          null,
          null,
          null,
          null,
          null,
          null,
          null,
          null,
          null,
          null,
          null
         ],
         "yaxis": "y2"
        },
        {
         "hovertemplate": "<b>Cumulative dose in mg</b><br>ID: 163<br>Time: %{x:.0f} day<br>Tumour volume: %{y:.02f} cm^3<br><extra></extra>",
         "legendgroup": "ID: 163",
         "line": {
          "color": "#FF6692"
         },
         "mode": "lines",
         "name": "ID: 163",
         "showlegend": false,
         "type": "scatter",
         "visible": false,
         "x": [
          0,
          3,
          3.001,
          4,
          4.001,
          5,
          5.001,
          6,
          6.001,
          7,
          7.001,
          8,
          8.001,
          9,
          9.001,
          10,
          10.001,
          11,
          11.001,
          12,
          12.001,
          13,
          13.001,
          14,
          14.001,
          15,
          15.001,
          16,
          16.001,
          30
         ],
         "xaxis": "x",
         "y": [
          0,
          0,
          0.625,
          0.625,
          1.225,
          1.225,
          1.8250000000000002,
          1.8250000000000002,
          2.4250000000000003,
          2.4250000000000003,
          3.0500000000000003,
          3.0500000000000003,
          3.6750000000000003,
          3.6750000000000003,
          4.300000000000001,
          4.300000000000001,
          4.925000000000001,
          4.925000000000001,
          5.500000000000001,
          5.500000000000001,
          6.075000000000001,
          6.075000000000001,
          6.650000000000001,
          6.650000000000001,
          7.250000000000001,
          7.250000000000001,
          7.8500000000000005,
          7.8500000000000005,
          8.450000000000001,
          8.450000000000001
         ],
         "yaxis": "y"
        },
        {
         "hovertemplate": "<b>Tumour volume in cm^3</b><br>ID: 163<br>Time: %{x:} day<br>Tumour volume: %{y:.02f} cm^3<br><extra></extra>",
         "legendgroup": "ID: 163",
         "marker": {
          "color": "#FF6692",
          "line": {
           "color": "black",
           "width": 1
          },
          "opacity": 0.7,
          "symbol": "circle"
         },
         "mode": "markers",
         "name": "ID: 163",
         "showlegend": true,
         "type": "scatter",
         "visible": false,
         "x": [
          0,
          2,
          4,
          7,
          9,
          11,
          14,
          16,
          18,
          21,
          23,
          25,
          28,
          30,
          null,
          null,
          null,
          null,
          null,
          null,
          null,
          null,
          null,
          null,
          null,
          null,
          null,
          null,
          null,
          null
         ],
         "xaxis": "x2",
         "y": [
          0.60025,
          0.7803,
          1.278,
          1.19422,
          1.1774,
          1.35,
          1.7111250000000002,
          1.19422,
          1.4030600000000002,
          1.9407849999999998,
          1.907825,
          2.477985,
          3.444525,
          4.51497,
          null,
          null,
          null,
          null,
          null,
          null,
          null,
          null,
          null,
          null,
          null,
          null,
          null,
          null,
          null,
          null
         ],
         "yaxis": "y2"
        },
        {
         "hovertemplate": "<b>Cumulative dose in mg</b><br>ID: 167<br>Time: %{x:.0f} day<br>Tumour volume: %{y:.02f} cm^3<br><extra></extra>",
         "legendgroup": "ID: 167",
         "line": {
          "color": "#B6E880"
         },
         "mode": "lines",
         "name": "ID: 167",
         "showlegend": false,
         "type": "scatter",
         "visible": false,
         "x": [
          0,
          3,
          3.001,
          4,
          4.001,
          5,
          5.001,
          6,
          6.001,
          7,
          7.001,
          8,
          8.001,
          9,
          9.001,
          10,
          10.001,
          11,
          11.001,
          12,
          12.001,
          13,
          13.001,
          14,
          14.001,
          15,
          15.001,
          16,
          16.001,
          30
         ],
         "xaxis": "x",
         "y": [
          0,
          0,
          0.675,
          0.675,
          1.375,
          1.375,
          2.075,
          2.075,
          2.7750000000000004,
          2.7750000000000004,
          3.4750000000000005,
          3.4750000000000005,
          4.175000000000001,
          4.175000000000001,
          4.875000000000001,
          4.875000000000001,
          5.575000000000001,
          5.575000000000001,
          6.250000000000001,
          6.250000000000001,
          6.925000000000001,
          6.925000000000001,
          7.6000000000000005,
          7.6000000000000005,
          8.275,
          8.275,
          8.950000000000001,
          8.950000000000001,
          9.625000000000002,
          9.625000000000002
         ],
         "yaxis": "y"
        },
        {
         "hovertemplate": "<b>Tumour volume in cm^3</b><br>ID: 167<br>Time: %{x:} day<br>Tumour volume: %{y:.02f} cm^3<br><extra></extra>",
         "legendgroup": "ID: 167",
         "marker": {
          "color": "#B6E880",
          "line": {
           "color": "black",
           "width": 1
          },
          "opacity": 0.7,
          "symbol": "circle"
         },
         "mode": "markers",
         "name": "ID: 167",
         "showlegend": true,
         "type": "scatter",
         "visible": false,
         "x": [
          0,
          2,
          4,
          7,
          9,
          11,
          14,
          16,
          18,
          21,
          23,
          25,
          28,
          30,
          null,
          null,
          null,
          null,
          null,
          null,
          null,
          null,
          null,
          null,
          null,
          null,
          null,
          null,
          null,
          null
         ],
         "xaxis": "x2",
         "y": [
          1.9520099999999998,
          2.8880000000000003,
          3.41172,
          5.692444999999999,
          6.0025,
          6.0025,
          6.890625,
          8.17216,
          9.700285,
          10.944,
          12.844,
          14.287679999999998,
          14.14485,
          20.83401,
          null,
          null,
          null,
          null,
          null,
          null,
          null,
          null,
          null,
          null,
          null,
          null,
          null,
          null,
          null,
          null
         ],
         "yaxis": "y2"
        }
       ],
       "layout": {
        "autosize": false,
        "height": 600,
        "legend": {
         "x": 1.05,
         "xanchor": "left",
         "y": 0.01,
         "yanchor": "bottom"
        },
        "template": {
         "data": {
          "bar": [
           {
            "error_x": {
             "color": "#2a3f5f"
            },
            "error_y": {
             "color": "#2a3f5f"
            },
            "marker": {
             "line": {
              "color": "white",
              "width": 0.5
             }
            },
            "type": "bar"
           }
          ],
          "barpolar": [
           {
            "marker": {
             "line": {
              "color": "white",
              "width": 0.5
             }
            },
            "type": "barpolar"
           }
          ],
          "carpet": [
           {
            "aaxis": {
             "endlinecolor": "#2a3f5f",
             "gridcolor": "#C8D4E3",
             "linecolor": "#C8D4E3",
             "minorgridcolor": "#C8D4E3",
             "startlinecolor": "#2a3f5f"
            },
            "baxis": {
             "endlinecolor": "#2a3f5f",
             "gridcolor": "#C8D4E3",
             "linecolor": "#C8D4E3",
             "minorgridcolor": "#C8D4E3",
             "startlinecolor": "#2a3f5f"
            },
            "type": "carpet"
           }
          ],
          "choropleth": [
           {
            "colorbar": {
             "outlinewidth": 0,
             "ticks": ""
            },
            "type": "choropleth"
           }
          ],
          "contour": [
           {
            "colorbar": {
             "outlinewidth": 0,
             "ticks": ""
            },
            "colorscale": [
             [
              0,
              "#0d0887"
             ],
             [
              0.1111111111111111,
              "#46039f"
             ],
             [
              0.2222222222222222,
              "#7201a8"
             ],
             [
              0.3333333333333333,
              "#9c179e"
             ],
             [
              0.4444444444444444,
              "#bd3786"
             ],
             [
              0.5555555555555556,
              "#d8576b"
             ],
             [
              0.6666666666666666,
              "#ed7953"
             ],
             [
              0.7777777777777778,
              "#fb9f3a"
             ],
             [
              0.8888888888888888,
              "#fdca26"
             ],
             [
              1,
              "#f0f921"
             ]
            ],
            "type": "contour"
           }
          ],
          "contourcarpet": [
           {
            "colorbar": {
             "outlinewidth": 0,
             "ticks": ""
            },
            "type": "contourcarpet"
           }
          ],
          "heatmap": [
           {
            "colorbar": {
             "outlinewidth": 0,
             "ticks": ""
            },
            "colorscale": [
             [
              0,
              "#0d0887"
             ],
             [
              0.1111111111111111,
              "#46039f"
             ],
             [
              0.2222222222222222,
              "#7201a8"
             ],
             [
              0.3333333333333333,
              "#9c179e"
             ],
             [
              0.4444444444444444,
              "#bd3786"
             ],
             [
              0.5555555555555556,
              "#d8576b"
             ],
             [
              0.6666666666666666,
              "#ed7953"
             ],
             [
              0.7777777777777778,
              "#fb9f3a"
             ],
             [
              0.8888888888888888,
              "#fdca26"
             ],
             [
              1,
              "#f0f921"
             ]
            ],
            "type": "heatmap"
           }
          ],
          "heatmapgl": [
           {
            "colorbar": {
             "outlinewidth": 0,
             "ticks": ""
            },
            "colorscale": [
             [
              0,
              "#0d0887"
             ],
             [
              0.1111111111111111,
              "#46039f"
             ],
             [
              0.2222222222222222,
              "#7201a8"
             ],
             [
              0.3333333333333333,
              "#9c179e"
             ],
             [
              0.4444444444444444,
              "#bd3786"
             ],
             [
              0.5555555555555556,
              "#d8576b"
             ],
             [
              0.6666666666666666,
              "#ed7953"
             ],
             [
              0.7777777777777778,
              "#fb9f3a"
             ],
             [
              0.8888888888888888,
              "#fdca26"
             ],
             [
              1,
              "#f0f921"
             ]
            ],
            "type": "heatmapgl"
           }
          ],
          "histogram": [
           {
            "marker": {
             "colorbar": {
              "outlinewidth": 0,
              "ticks": ""
             }
            },
            "type": "histogram"
           }
          ],
          "histogram2d": [
           {
            "colorbar": {
             "outlinewidth": 0,
             "ticks": ""
            },
            "colorscale": [
             [
              0,
              "#0d0887"
             ],
             [
              0.1111111111111111,
              "#46039f"
             ],
             [
              0.2222222222222222,
              "#7201a8"
             ],
             [
              0.3333333333333333,
              "#9c179e"
             ],
             [
              0.4444444444444444,
              "#bd3786"
             ],
             [
              0.5555555555555556,
              "#d8576b"
             ],
             [
              0.6666666666666666,
              "#ed7953"
             ],
             [
              0.7777777777777778,
              "#fb9f3a"
             ],
             [
              0.8888888888888888,
              "#fdca26"
             ],
             [
              1,
              "#f0f921"
             ]
            ],
            "type": "histogram2d"
           }
          ],
          "histogram2dcontour": [
           {
            "colorbar": {
             "outlinewidth": 0,
             "ticks": ""
            },
            "colorscale": [
             [
              0,
              "#0d0887"
             ],
             [
              0.1111111111111111,
              "#46039f"
             ],
             [
              0.2222222222222222,
              "#7201a8"
             ],
             [
              0.3333333333333333,
              "#9c179e"
             ],
             [
              0.4444444444444444,
              "#bd3786"
             ],
             [
              0.5555555555555556,
              "#d8576b"
             ],
             [
              0.6666666666666666,
              "#ed7953"
             ],
             [
              0.7777777777777778,
              "#fb9f3a"
             ],
             [
              0.8888888888888888,
              "#fdca26"
             ],
             [
              1,
              "#f0f921"
             ]
            ],
            "type": "histogram2dcontour"
           }
          ],
          "mesh3d": [
           {
            "colorbar": {
             "outlinewidth": 0,
             "ticks": ""
            },
            "type": "mesh3d"
           }
          ],
          "parcoords": [
           {
            "line": {
             "colorbar": {
              "outlinewidth": 0,
              "ticks": ""
             }
            },
            "type": "parcoords"
           }
          ],
          "pie": [
           {
            "automargin": true,
            "type": "pie"
           }
          ],
          "scatter": [
           {
            "marker": {
             "colorbar": {
              "outlinewidth": 0,
              "ticks": ""
             }
            },
            "type": "scatter"
           }
          ],
          "scatter3d": [
           {
            "line": {
             "colorbar": {
              "outlinewidth": 0,
              "ticks": ""
             }
            },
            "marker": {
             "colorbar": {
              "outlinewidth": 0,
              "ticks": ""
             }
            },
            "type": "scatter3d"
           }
          ],
          "scattercarpet": [
           {
            "marker": {
             "colorbar": {
              "outlinewidth": 0,
              "ticks": ""
             }
            },
            "type": "scattercarpet"
           }
          ],
          "scattergeo": [
           {
            "marker": {
             "colorbar": {
              "outlinewidth": 0,
              "ticks": ""
             }
            },
            "type": "scattergeo"
           }
          ],
          "scattergl": [
           {
            "marker": {
             "colorbar": {
              "outlinewidth": 0,
              "ticks": ""
             }
            },
            "type": "scattergl"
           }
          ],
          "scattermapbox": [
           {
            "marker": {
             "colorbar": {
              "outlinewidth": 0,
              "ticks": ""
             }
            },
            "type": "scattermapbox"
           }
          ],
          "scatterpolar": [
           {
            "marker": {
             "colorbar": {
              "outlinewidth": 0,
              "ticks": ""
             }
            },
            "type": "scatterpolar"
           }
          ],
          "scatterpolargl": [
           {
            "marker": {
             "colorbar": {
              "outlinewidth": 0,
              "ticks": ""
             }
            },
            "type": "scatterpolargl"
           }
          ],
          "scatterternary": [
           {
            "marker": {
             "colorbar": {
              "outlinewidth": 0,
              "ticks": ""
             }
            },
            "type": "scatterternary"
           }
          ],
          "surface": [
           {
            "colorbar": {
             "outlinewidth": 0,
             "ticks": ""
            },
            "colorscale": [
             [
              0,
              "#0d0887"
             ],
             [
              0.1111111111111111,
              "#46039f"
             ],
             [
              0.2222222222222222,
              "#7201a8"
             ],
             [
              0.3333333333333333,
              "#9c179e"
             ],
             [
              0.4444444444444444,
              "#bd3786"
             ],
             [
              0.5555555555555556,
              "#d8576b"
             ],
             [
              0.6666666666666666,
              "#ed7953"
             ],
             [
              0.7777777777777778,
              "#fb9f3a"
             ],
             [
              0.8888888888888888,
              "#fdca26"
             ],
             [
              1,
              "#f0f921"
             ]
            ],
            "type": "surface"
           }
          ],
          "table": [
           {
            "cells": {
             "fill": {
              "color": "#EBF0F8"
             },
             "line": {
              "color": "white"
             }
            },
            "header": {
             "fill": {
              "color": "#C8D4E3"
             },
             "line": {
              "color": "white"
             }
            },
            "type": "table"
           }
          ]
         },
         "layout": {
          "annotationdefaults": {
           "arrowcolor": "#2a3f5f",
           "arrowhead": 0,
           "arrowwidth": 1
          },
          "coloraxis": {
           "colorbar": {
            "outlinewidth": 0,
            "ticks": ""
           }
          },
          "colorscale": {
           "diverging": [
            [
             0,
             "#8e0152"
            ],
            [
             0.1,
             "#c51b7d"
            ],
            [
             0.2,
             "#de77ae"
            ],
            [
             0.3,
             "#f1b6da"
            ],
            [
             0.4,
             "#fde0ef"
            ],
            [
             0.5,
             "#f7f7f7"
            ],
            [
             0.6,
             "#e6f5d0"
            ],
            [
             0.7,
             "#b8e186"
            ],
            [
             0.8,
             "#7fbc41"
            ],
            [
             0.9,
             "#4d9221"
            ],
            [
             1,
             "#276419"
            ]
           ],
           "sequential": [
            [
             0,
             "#0d0887"
            ],
            [
             0.1111111111111111,
             "#46039f"
            ],
            [
             0.2222222222222222,
             "#7201a8"
            ],
            [
             0.3333333333333333,
             "#9c179e"
            ],
            [
             0.4444444444444444,
             "#bd3786"
            ],
            [
             0.5555555555555556,
             "#d8576b"
            ],
            [
             0.6666666666666666,
             "#ed7953"
            ],
            [
             0.7777777777777778,
             "#fb9f3a"
            ],
            [
             0.8888888888888888,
             "#fdca26"
            ],
            [
             1,
             "#f0f921"
            ]
           ],
           "sequentialminus": [
            [
             0,
             "#0d0887"
            ],
            [
             0.1111111111111111,
             "#46039f"
            ],
            [
             0.2222222222222222,
             "#7201a8"
            ],
            [
             0.3333333333333333,
             "#9c179e"
            ],
            [
             0.4444444444444444,
             "#bd3786"
            ],
            [
             0.5555555555555556,
             "#d8576b"
            ],
            [
             0.6666666666666666,
             "#ed7953"
            ],
            [
             0.7777777777777778,
             "#fb9f3a"
            ],
            [
             0.8888888888888888,
             "#fdca26"
            ],
            [
             1,
             "#f0f921"
            ]
           ]
          },
          "colorway": [
           "#636efa",
           "#EF553B",
           "#00cc96",
           "#ab63fa",
           "#FFA15A",
           "#19d3f3",
           "#FF6692",
           "#B6E880",
           "#FF97FF",
           "#FECB52"
          ],
          "font": {
           "color": "#2a3f5f"
          },
          "geo": {
           "bgcolor": "white",
           "lakecolor": "white",
           "landcolor": "white",
           "showlakes": true,
           "showland": true,
           "subunitcolor": "#C8D4E3"
          },
          "hoverlabel": {
           "align": "left"
          },
          "hovermode": "closest",
          "mapbox": {
           "style": "light"
          },
          "paper_bgcolor": "white",
          "plot_bgcolor": "white",
          "polar": {
           "angularaxis": {
            "gridcolor": "#EBF0F8",
            "linecolor": "#EBF0F8",
            "ticks": ""
           },
           "bgcolor": "white",
           "radialaxis": {
            "gridcolor": "#EBF0F8",
            "linecolor": "#EBF0F8",
            "ticks": ""
           }
          },
          "scene": {
           "xaxis": {
            "backgroundcolor": "white",
            "gridcolor": "#DFE8F3",
            "gridwidth": 2,
            "linecolor": "#EBF0F8",
            "showbackground": true,
            "ticks": "",
            "zerolinecolor": "#EBF0F8"
           },
           "yaxis": {
            "backgroundcolor": "white",
            "gridcolor": "#DFE8F3",
            "gridwidth": 2,
            "linecolor": "#EBF0F8",
            "showbackground": true,
            "ticks": "",
            "zerolinecolor": "#EBF0F8"
           },
           "zaxis": {
            "backgroundcolor": "white",
            "gridcolor": "#DFE8F3",
            "gridwidth": 2,
            "linecolor": "#EBF0F8",
            "showbackground": true,
            "ticks": "",
            "zerolinecolor": "#EBF0F8"
           }
          },
          "shapedefaults": {
           "line": {
            "color": "#2a3f5f"
           }
          },
          "ternary": {
           "aaxis": {
            "gridcolor": "#DFE8F3",
            "linecolor": "#A2B1C6",
            "ticks": ""
           },
           "baxis": {
            "gridcolor": "#DFE8F3",
            "linecolor": "#A2B1C6",
            "ticks": ""
           },
           "bgcolor": "white",
           "caxis": {
            "gridcolor": "#DFE8F3",
            "linecolor": "#A2B1C6",
            "ticks": ""
           }
          },
          "title": {
           "x": 0.05
          },
          "xaxis": {
           "automargin": true,
           "gridcolor": "#EBF0F8",
           "linecolor": "#EBF0F8",
           "ticks": "",
           "title": {
            "standoff": 15
           },
           "zerolinecolor": "#EBF0F8",
           "zerolinewidth": 2
          },
          "yaxis": {
           "automargin": true,
           "gridcolor": "#EBF0F8",
           "linecolor": "#EBF0F8",
           "ticks": "",
           "title": {
            "standoff": 15
           },
           "zerolinecolor": "#EBF0F8",
           "zerolinewidth": 2
          }
         }
        },
        "updatemenus": [
         {
          "buttons": [
           {
            "args": [
             {
              "yaxis2.type": "linear"
             }
            ],
            "label": "Linear y-scale",
            "method": "relayout"
           },
           {
            "args": [
             {
              "yaxis2.type": "log"
             }
            ],
            "label": "Log y-scale",
            "method": "relayout"
           }
          ],
          "direction": "left",
          "pad": {
           "r": 0,
           "t": -10
          },
          "showactive": true,
          "type": "buttons",
          "x": 0,
          "xanchor": "left",
          "y": 1.15,
          "yanchor": "top"
         },
         {
          "buttons": [
           {
            "args": [
             {
              "visible": [
               true,
               true,
               true,
               true,
               true,
               true,
               true,
               true,
               true,
               true,
               true,
               true,
               true,
               true,
               true,
               true,
               false,
               false,
               false,
               false,
               false,
               false,
               false,
               false,
               false,
               false,
               false,
               false,
               false,
               false,
               false,
               false
              ]
             }
            ],
            "label": "6.25 mg/kg/day",
            "method": "restyle"
           },
           {
            "args": [
             {
              "visible": [
               false,
               false,
               false,
               false,
               false,
               false,
               false,
               false,
               false,
               false,
               false,
               false,
               false,
               false,
               false,
               false,
               true,
               true,
               true,
               true,
               true,
               true,
               true,
               true,
               true,
               true,
               true,
               true,
               true,
               true,
               true,
               true
              ]
             }
            ],
            "label": "25 mg/kg/day",
            "method": "restyle"
           }
          ],
          "direction": "down",
          "pad": {
           "r": 0,
           "t": -10
          },
          "showactive": true,
          "type": "buttons",
          "x": 1.07,
          "xanchor": "left",
          "y": 1.1,
          "yanchor": "top"
         }
        ],
        "width": 800,
        "xaxis": {
         "anchor": "y",
         "domain": [
          0,
          1
         ],
         "matches": "x2",
         "showticklabels": false
        },
        "xaxis2": {
         "anchor": "y2",
         "domain": [
          0,
          1
         ],
         "title": {
          "text": "Time in day"
         }
        },
        "yaxis": {
         "anchor": "x",
         "domain": [
          0.715,
          1
         ],
         "title": {
          "text": "Amount in mg"
         }
        },
        "yaxis2": {
         "anchor": "x2",
         "domain": [
          0,
          0.6649999999999999
         ],
         "title": {
          "text": "Tumour volume in cm^3"
         }
        }
       }
      }
     },
     "metadata": {}
    }
   ],
   "source": [
    "#\n",
    "# Slide 3: Scatter plot of treated mice.\n",
    "#\n",
    "\n",
    "import os\n",
    "\n",
    "import numpy as np\n",
    "import pandas as pd\n",
    "import plotly.colors\n",
    "import plotly.graph_objects as go\n",
    "from plotly.subplots import make_subplots\n",
    "\n",
    "import pkpd.utils\n",
    "\n",
    "\n",
    "path = os.path.dirname(os.getcwd())\n",
    "\n",
    "# Import LXF A677 Erlotinib low dose data\n",
    "low_dose_data = pd.read_csv(\n",
    "    path + '/notebooks/lung_cancer/erlotinib/treatment_low_dose/data/erlotinib_low_dose_lxf.csv')\n",
    "\n",
    "# Import LXF A677 Erlotinib intermediate dose data\n",
    "inter_dose_data = pd.read_csv(\n",
    "    path + '/notebooks/lung_cancer/erlotinib/treatment_intermediate_dose/data/erlotinib_intermediate_dose_lxf.csv')\n",
    "\n",
    "# Get number of individual mice\n",
    "n_mice = len(low_dose_data['#ID'].unique())\n",
    "\n",
    "# Define colorscheme\n",
    "colors = plotly.colors.qualitative.Plotly[:n_mice]\n",
    "\n",
    "# Create figure\n",
    "fig = make_subplots(rows=2, cols=1, shared_xaxes=True, row_heights=[0.3, 0.7], vertical_spacing=0.05)\n",
    "\n",
    "# Scatter plot of concentration and tumour growth data\n",
    "for index, mouse_id in enumerate(np.sort(low_dose_data['#ID'].unique())):\n",
    "    # Mask dataset for mouse\n",
    "    mask = low_dose_data['#ID'] == mouse_id\n",
    "    mouse_data = low_dose_data[mask]\n",
    "\n",
    "    # Get tumour volume measurement times\n",
    "    volume_times = mouse_data['TIME VOLUME in day'].to_numpy()\n",
    "\n",
    "    # Get measured concentrations\n",
    "    volumes = mouse_data['TUMOUR VOLUME in cm^3'].to_numpy()\n",
    "\n",
    "    # Get dosing time points\n",
    "    dose_times = mouse_data['TIME DOSE in day'].to_numpy()\n",
    "\n",
    "    # Get doses\n",
    "    doses = mouse_data['DOSE AMOUNT in mg'].to_numpy()\n",
    "\n",
    "    # Filter nans from dose arrays\n",
    "    dose_times = dose_times[~np.isnan(dose_times)]\n",
    "    doses = doses[~np.isnan(doses)]\n",
    "\n",
    "    # Convert dose events to cumulative dose amount time series\n",
    "    dose_times, doses = pkpd.utils.compute_cumulative_dose_amount(\n",
    "        times=dose_times,\n",
    "        doses=doses,\n",
    "        end_exp=30)\n",
    "\n",
    "    # Plot cumulative dosed amount\n",
    "    fig.add_trace(\n",
    "        go.Scatter(\n",
    "            x=dose_times,\n",
    "            y=doses,\n",
    "            legendgroup=\"ID: %d\" % mouse_id,\n",
    "            name=\"ID: %d\" % mouse_id,\n",
    "            showlegend=False,\n",
    "            hovertemplate=\n",
    "                \"<b>Cumulative dose in mg</b><br>\" +\n",
    "                \"ID: %d<br>\" % mouse_id +\n",
    "                \"Time: %{x:.0f} day<br>\" +\n",
    "                \"Tumour volume: %{y:.02f} cm^3<br>\" +\n",
    "                \"<extra></extra>\",\n",
    "            mode=\"lines\",\n",
    "            line=dict(color=colors[index])),\n",
    "        row=1,\n",
    "        col=1)\n",
    "\n",
    "    # Plot tumour volume data\n",
    "    fig.add_trace(\n",
    "        go.Scatter(\n",
    "            x=volume_times,\n",
    "            y=volumes,\n",
    "            legendgroup=\"ID: %d\" % mouse_id,\n",
    "            name=\"ID: %d\" % mouse_id,\n",
    "            showlegend=True,\n",
    "            hovertemplate=\n",
    "                \"<b>Tumour volume in cm^3</b><br>\" +\n",
    "                \"ID: %d<br>\" % mouse_id +\n",
    "                \"Time: %{x:} day<br>\" +\n",
    "                \"Tumour volume: %{y:.02f} cm^3<br>\" +\n",
    "                \"<extra></extra>\",\n",
    "            mode=\"markers\",\n",
    "            marker=dict(\n",
    "                symbol='circle',\n",
    "                opacity=0.7,\n",
    "                line=dict(color='black', width=1),\n",
    "                color=colors[index])),\n",
    "        row=2,\n",
    "        col=1)\n",
    "\n",
    "# Get number of individual mice\n",
    "n_mice = len(inter_dose_data['#ID'].unique())\n",
    "\n",
    "# Define colorscheme\n",
    "colors = plotly.colors.qualitative.Plotly[:n_mice]\n",
    "\n",
    "# Scatter plot of concentration and tumour growth data\n",
    "for index, mouse_id in enumerate(np.sort(inter_dose_data['#ID'].unique())):\n",
    "    # Mask dataset for mouse\n",
    "    mask = inter_dose_data['#ID'] == mouse_id\n",
    "    mouse_data = inter_dose_data[mask]\n",
    "\n",
    "    # Get tumour volume measurement times\n",
    "    volume_times = mouse_data['TIME VOLUME in day'].to_numpy()\n",
    "\n",
    "    # Get measured concentrations\n",
    "    volumes = mouse_data['TUMOUR VOLUME in cm^3'].to_numpy()\n",
    "\n",
    "    # Get dosing time points\n",
    "    dose_times = mouse_data['TIME DOSE in day'].to_numpy()\n",
    "\n",
    "    # Get doses\n",
    "    doses = mouse_data['DOSE AMOUNT in mg'].to_numpy()\n",
    "\n",
    "    # Filter nans from dose arrays\n",
    "    dose_times = dose_times[~np.isnan(dose_times)]\n",
    "    doses = doses[~np.isnan(doses)]\n",
    "\n",
    "    # Convert dose events to cumulative dose amount time series\n",
    "    dose_times, doses = pkpd.utils.compute_cumulative_dose_amount(\n",
    "        times=dose_times,\n",
    "        doses=doses,\n",
    "        end_exp=30)\n",
    "\n",
    "    # Plot cumulative dosed amount\n",
    "    fig.add_trace(\n",
    "        go.Scatter(\n",
    "            x=dose_times,\n",
    "            y=doses,\n",
    "            legendgroup=\"ID: %d\" % mouse_id,\n",
    "            name=\"ID: %d\" % mouse_id,\n",
    "            showlegend=False,\n",
    "            visible=False,\n",
    "            hovertemplate=\n",
    "                \"<b>Cumulative dose in mg</b><br>\" +\n",
    "                \"ID: %d<br>\" % mouse_id +\n",
    "                \"Time: %{x:.0f} day<br>\" +\n",
    "                \"Tumour volume: %{y:.02f} cm^3<br>\" +\n",
    "                \"<extra></extra>\",\n",
    "            mode=\"lines\",\n",
    "            line=dict(color=colors[index])),\n",
    "        row=1,\n",
    "        col=1)\n",
    "\n",
    "    # Plot tumour volume data\n",
    "    fig.add_trace(\n",
    "        go.Scatter(\n",
    "            x=volume_times,\n",
    "            y=volumes,\n",
    "            legendgroup=\"ID: %d\" % mouse_id,\n",
    "            name=\"ID: %d\" % mouse_id,\n",
    "            showlegend=True,\n",
    "            visible=False,\n",
    "            hovertemplate=\n",
    "                \"<b>Tumour volume in cm^3</b><br>\" +\n",
    "                \"ID: %d<br>\" % mouse_id +\n",
    "                \"Time: %{x:} day<br>\" +\n",
    "                \"Tumour volume: %{y:.02f} cm^3<br>\" +\n",
    "                \"<extra></extra>\",\n",
    "            mode=\"markers\",\n",
    "            marker=dict(\n",
    "                symbol='circle',\n",
    "                opacity=0.7,\n",
    "                line=dict(color='black', width=1),\n",
    "                color=colors[index])),\n",
    "        row=2,\n",
    "        col=1)\n",
    "\n",
    "# Set figure size\n",
    "fig.update_layout(\n",
    "    autosize=False,\n",
    "    width=800,\n",
    "    height=600,\n",
    "    template=\"plotly_white\")\n",
    "\n",
    "# Set X axis label\n",
    "fig.update_xaxes(title_text='Time in day', row=2, col=1)\n",
    "\n",
    "# Set Y axes labels\n",
    "fig.update_yaxes(title_text='Amount in mg', row=1, col=1)\n",
    "fig.update_yaxes(title_text='Tumour volume in cm^3', row=2, col=1)\n",
    "\n",
    "# Add switch between linear and log y-scale\n",
    "fig.update_layout(\n",
    "    updatemenus=[\n",
    "        dict(\n",
    "            type = \"buttons\",\n",
    "            direction = \"left\",\n",
    "            buttons=list([\n",
    "                dict(\n",
    "                    args=[{\"yaxis2.type\": \"linear\"}],\n",
    "                    label=\"Linear y-scale\",\n",
    "                    method=\"relayout\"\n",
    "                ),\n",
    "                dict(\n",
    "                    args=[{\"yaxis2.type\": \"log\"}],\n",
    "                    label=\"Log y-scale\",\n",
    "                    method=\"relayout\"\n",
    "                )\n",
    "            ]),\n",
    "            pad={\"r\": 0, \"t\": -10},\n",
    "            showactive=True,\n",
    "            x=0.0,\n",
    "            xanchor=\"left\",\n",
    "            y=1.15,\n",
    "            yanchor=\"top\"\n",
    "        ),\n",
    "        dict(\n",
    "            type = \"buttons\",\n",
    "            direction = \"down\",\n",
    "            buttons=list([\n",
    "                dict(\n",
    "                    args=[{\"visible\": [True]*16 + [False]*16}],\n",
    "                    label=\"6.25 mg/kg/day\",\n",
    "                    method=\"restyle\"\n",
    "                ),\n",
    "                dict(\n",
    "                    args=[{\"visible\": [False]*16 + [True]*16}],\n",
    "                    label=\"25 mg/kg/day\",\n",
    "                    method=\"restyle\"\n",
    "                )\n",
    "            ]),\n",
    "            pad={\"r\": 0, \"t\": -10},\n",
    "            showactive=True,\n",
    "            x=1.07,\n",
    "            xanchor=\"left\",\n",
    "            y=1.1,\n",
    "            yanchor=\"top\"\n",
    "        ),\n",
    "    ]\n",
    ")\n",
    "\n",
    "# Position legend\n",
    "fig.update_layout(legend=dict(\n",
    "    yanchor=\"bottom\",\n",
    "    y=0.01,\n",
    "    xanchor=\"left\",\n",
    "    x=1.05))\n",
    "\n",
    "# Show figure\n",
    "fig.show()\n"
   ]
  },
  {
   "cell_type": "code",
   "execution_count": null,
   "metadata": {},
   "outputs": [],
   "source": []
  }
 ],
 "metadata": {
  "kernelspec": {
   "display_name": "Python 3.7.5 64-bit ('venv': venv)",
   "language": "python",
   "name": "python37564bitvenvvenv244669d31e9a466f969539273faabb23"
  },
  "language_info": {
   "codemirror_mode": {
    "name": "ipython",
    "version": 3
   },
   "file_extension": ".py",
   "mimetype": "text/x-python",
   "name": "python",
   "nbconvert_exporter": "python",
   "pygments_lexer": "ipython3",
   "version": "3.7.5-final"
  },
  "widgets": {
   "application/vnd.jupyter.widget-state+json": {
    "state": {},
    "version_major": 2,
    "version_minor": 0
   }
  }
 },
 "nbformat": 4,
 "nbformat_minor": 2
}