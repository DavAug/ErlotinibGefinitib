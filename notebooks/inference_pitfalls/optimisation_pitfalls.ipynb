{
 "cells": [
  {
   "cell_type": "markdown",
   "metadata": {},
   "source": [
    "# Optimisation and its Pitfalls"
   ]
  },
  {
   "cell_type": "markdown",
   "metadata": {},
   "source": [
    "In the context of PKPD modelling numerical optimisation is often used to find estimates for model parameters by minimising an objective function $L$ that quantifies the distance of the model predictions to the measured data. In this notebook we discuss some of the common reasons why naïve application of numerical optimisation may fail to find the best parameter set, and more importantly may fail to consistently produce estimates over multiple optimisation runs.\n",
    "\n",
    "This notebook is complementary to the identifiability notebooks provided in this repository [1](https://nbviewer.jupyter.org/github/DavAug/ErlotinibGefitinib/blob/master/notebooks/lung_cancer/control_growth/identifiability.ipynb)."
   ]
  },
  {
   "cell_type": "markdown",
   "metadata": {},
   "source": [
    "## Numerical optimisation\n",
    "\n",
    "Numerical optimisation refers to the problem of finding a parameter set $\\hat \\psi $ in a defined search space for some objective function $L$ that minimises its value, i.e. $L(\\hat \\psi) \\leq L(\\psi ), \\forall \\psi \\in \\mathcal{S}$, where $\\mathcal{S}$ is the search space of all allowed parameter values. In the context of PKPD modelling optimisation may address the question of finding the model parameter set $\\hat \\psi $ that best describes the observed dose-response of a patient for a given PKPD model. This parameter set can then be used to predict the behaviour of different, experimentally untested treatment strategies, and in that way optimise the treatment for that patient. Here, the objective function quantifies how far off the model predictions are from the measured values. As a result, finding the parameter set $\\hat \\psi $ in $\\mathcal{S}$ that minimises the objective function $L$, is equivalent to finding the parameter set that makes the model predictions closest to the observations. Under the assumption that the model is suited to describe the pharmacokinetics and pharmacodynamics of the drug, one might then argue that the those parameters capture the PKPD of the individual, and are therefore suited to predict the dose-response for untested dosing strategies.\n",
    "\n",
    "A major challenge in numerical optimisation is, however, that optimisers might fail to find the best parameter set for a patient, because either the model is not identifiable, or the numerical optimiser itself is not able to explore the search space $\\mathcal{S}$ due to numerical limitations. In this notebook, we explore the limitations of numerical optimisation that we encountered in this project. We discuss in detail how we overcame / avoided those problems in the hope that they may generalise to other PKPD studies. The challenges involved with model non-identifiabilty are discussed in a separate notebook, [Identifying Structural and Practical Non-Identifiability](https://nbviewer.jupyter.org/github/DavAug/ErlotinibGefitinib/blob/master/notebooks/inference_pitfalls/identifiability.ipynb).\n",
    "\n",
    "Note that we advocate to use Bayesian inference for parameter inference to not only estimate the optimal parameter set for a patient, but also quantify the certainty the data provides in those estimates. As a result, the model parameters are not actually found by optimising an objective function, but by sampling from a posterior distribution. However, the numerical challenges are very similar for both methods, and conceptually optimisation of an objective function is easier to understand. That is why we chose to explore optimisation in this notebook first. For a similar analysis of the pitfalls of sampling, please have a look at the dedicated notebook, [MCMC Sampling and its Pitfalls]."
   ]
  },
  {
   "cell_type": "markdown",
   "metadata": {},
   "source": [
    "## Toy problem: Tumour growth in absence of treatment\n",
    "\n",
    "For clarity let us illustrate the pitfalls of numerical optimisers for a specific example. In [n1](https://nbviewer.jupyter.org/github/DavAug/ErlotinibGefitinib/blob/master/notebooks/lung_cancer/control_growth/identifiability.ipynb) we introduced the structural model reported in [1] for the tumour growth in absence of treatment\n",
    "\n",
    "\\begin{equation*}\n",
    "    \\frac{\\text{d}V^s_T}{\\text{d}t} = \\frac{2\\lambda _0, \\lambda _1 V^s_T}{2\\lambda _0 V^s_T + \\lambda _1}.\n",
    "\\end{equation*}\n",
    "\n",
    "Here, $\\lambda _0$ is the exponential growth rate, and $\\lambda _0$ is the linear growth rate. We can see that for small tumour tumour volumes $V^s_T\\ll V_{\\text{crit}}$ the rate of change of the tumour volume is proportional to itself (exponential growth), and for large tumour volumes $V^s_T\\gg V_{\\text{crit}}$ the rate of change assumes a constant growth rate (linear growth). The critical volume can be expressed in terms of the ratio of the growth rates $V_{\\text{crit}} = \\lambda _1 / 2 \\lambda _0$.\n",
    "\n",
    "In order to keep the toy problem as simple as possible, and to be able to know when the optimisation was successful, we do not try to find an optimal parameter set for real data, but instead choose to generate artificial data with some known parameter set\n",
    "\n",
    "\\begin{equation*}\n",
    "    \\psi ^* = (V^*_0, \\lambda ^*_0, \\lambda ^*_1) = (0.14\\, \\text{cm}^3, 0.28\\, 1/\\text{day}, 0.13\\, \\text{cm}^3/\\text{day}).\n",
    "\\end{equation*}\n",
    "\n",
    "This parameter set is close to one of the estimates found in [n1](https://nbviewer.jupyter.org/github/DavAug/ErlotinibGefitinib/blob/master/notebooks/lung_cancer/control_growth/identifiability.ipynb), such that a forward simulation of the tumour growth model over a time frame of $30 \\text{day}$ closely resembles the experimental data. However, note that for simplicity we do not introduce noise to the simulated observations at first.\n",
    "\n",
    "The toy inverse problem is completed by defining the Squared Distance Error Measure as our objective function\n",
    "\n",
    "\\begin{equation*}\n",
    "    L(\\psi | V^\\text{obs}_{T}) = \\sum ^{n}_{i=1}\\left( V^\\text{obs}_{T, i} - V^s_T(t_i, \\psi)\\right) ^2,\n",
    "\\end{equation*}\n",
    "\n",
    "where $n$ is the number of simulated measurements, $V^\\text{obs}_{T, i}$ is the \"measured\" tumour volume at time $t_i$ and $V^s_T(t_i, \\psi)$ is the model prediction at time $t_i$ for model parameters $\\psi $. This objective function is greater or equal to zero for all $\\psi $, and only vanishes for the data generating parameter set $\\psi ^*$ for which the model identically reproduces the observations.\n",
    "\n",
    "Note: This model does not suffer from structural nor practical non-identifiabilities when the data is generated with $\\psi ^*$ and the tumour volumes are \"measured\" twice a week for a period of 30 days. As a result, this model is ideally suited to explore some of the generic limitations of numerical optimisation. "
   ]
  },
  {
   "cell_type": "markdown",
   "metadata": {},
   "source": [
    "## Generating the data\n",
    "\n",
    "We now generate the \"measured\" tumour volumes by solving the above defined ordinary differential equation for the tumour growth in absence of treatment with the parameter set $\\psi ^*$. We define the \"measurement\" time points of the tumour volume by the real measurement time points from mouse ID 40 in the LXF A677 control growth dataset (roughly twice a week for 30 days), see [n2](https://nbviewer.jupyter.org/github/DavAug/ErlotinibGefitinib/blob/master/notebooks/lung_cancer/control_growth/data_preparation.ipynb) for details."
   ]
  },
  {
   "cell_type": "code",
   "execution_count": 2,
   "metadata": {},
   "outputs": [],
   "source": [
    "#\n",
    "# Define pints model wrapper such that myokit model can be used for inference.\n",
    "#\n",
    "\n",
    "import myokit\n",
    "import pints\n",
    "\n",
    "from pkpd import model as m\n",
    "\n",
    "\n",
    "# Wrap myokit model, so it can be used with pints\n",
    "class PintsModel(pints.ForwardModel):\n",
    "    def __init__(self):\n",
    "        # Create myokit model\n",
    "        model = m.create_tumour_growth_model()\n",
    "\n",
    "        # Create simulator\n",
    "        self.sim = myokit.Simulation(model)\n",
    "\n",
    "    def n_parameters(self):\n",
    "        \"\"\"\n",
    "        Number of parameters to fit. Here V_0, lambda_0, lambda_1.\n",
    "        \"\"\"\n",
    "        return 3\n",
    "\n",
    "    def n_outputs(self):\n",
    "        return 1\n",
    "\n",
    "    def simulate(self, parameters, times):\n",
    "        # Reset simulation\n",
    "        self.sim.reset()\n",
    "\n",
    "        # Sort input parameters\n",
    "        initial_volume, lambda_0, lambda_1 = parameters\n",
    "\n",
    "        # Set initial condition\n",
    "        self.sim.set_state([initial_volume])\n",
    "\n",
    "        # Set growth constants\n",
    "        self.sim.set_constant('central.lambda_0', lambda_0)\n",
    "        self.sim.set_constant('central.lambda_1', lambda_1)\n",
    "\n",
    "        # Define logged variable\n",
    "        loggedVariable = 'central.volume_t'\n",
    "\n",
    "        # Simulate\n",
    "        output = self.sim.run(times[-1] + 1, log=[loggedVariable], log_times=times)\n",
    "        result = output[loggedVariable]\n",
    "\n",
    "        return np.array(result)"
   ]
  },
  {
   "cell_type": "code",
   "execution_count": 3,
   "metadata": {},
   "outputs": [],
   "source": [
    "#\n",
    "# Simulate \"noise-free\" data for with V_0 = 0.14 cm^3, lambda_0 = 0.28 1/day, lambda_1= 0.13 cm^3/day. \n",
    "#\n",
    "# This cell needs the above defined model.\n",
    "# [PintsModel]\n",
    "#\n",
    "\n",
    "import os\n",
    "\n",
    "import numpy as np\n",
    "import pandas as pd\n",
    "\n",
    "\n",
    "# Define true parameters\n",
    "true_initial_volume = 0.14  # in cm^3\n",
    "true_lambda_0 = 0.28  # in 1/day\n",
    "true_lambda_1 = 0.13  # in cm^3/day\n",
    "true_parameters = np.array([true_initial_volume, true_lambda_0, true_lambda_1])\n",
    "\n",
    "# Define simulation times in day from dataset\n",
    "# Get path to directory\n",
    "path = os.path.dirname(os.getcwd())\n",
    "path = path + '/lung_cancer/control_growth/data/lxf_control_growth.csv'\n",
    "\n",
    "# Get time points from dataset\n",
    "data = pd.read_csv(path)\n",
    "mask_mouse = data['#ID'] == 40\n",
    "mask_nans = ~data[mask_mouse]['TIME in day'].isnull()\n",
    "data_times = data[mask_mouse]['TIME in day'][mask_nans].to_numpy()\n",
    "del data\n",
    "\n",
    "# Instantiate model\n",
    "model = PintsModel()\n",
    "\n",
    "# Simulate data\n",
    "data_volumes = model.simulate(true_parameters, data_times)\n",
    "\n",
    "# Create simulated dataset\n",
    "# Shape (2, n_times)\n",
    "data = np.vstack((data_times, data_volumes))\n"
   ]
  },
  {
   "cell_type": "code",
   "execution_count": 33,
   "metadata": {},
   "outputs": [
    {
     "output_type": "display_data",
     "data": {
      "application/vnd.plotly.v1+json": {
       "config": {
        "plotlyServerURL": "https://plot.ly"
       },
       "data": [
        {
         "hovertemplate": "<b>Simulated tumour growth</b><br>Time: %{x:} day<br>Tumour volume: %{y:.02f} cm^3<br><extra></extra>",
         "marker": {
          "line": {
           "color": "black",
           "width": 1
          },
          "opacity": 0.7,
          "symbol": "circle"
         },
         "mode": "markers",
         "name": "Simulated tumour growth",
         "showlegend": true,
         "type": "scatter",
         "x": [
          0,
          2,
          4,
          7,
          9,
          11,
          14,
          16,
          18,
          21
         ],
         "y": [
          0.14,
          0.2580076209055784,
          0.41029645181210567,
          0.6824247652713665,
          0.88284116306388,
          1.093331091684288,
          1.4223621468306586,
          1.6482170984516122,
          1.8779666744537387,
          2.228260660824208
         ]
        }
       ],
       "layout": {
        "autosize": true,
        "legend": {
         "x": 1.05,
         "xanchor": "left",
         "y": 0.01,
         "yanchor": "bottom"
        },
        "template": {
         "data": {
          "bar": [
           {
            "error_x": {
             "color": "#2a3f5f"
            },
            "error_y": {
             "color": "#2a3f5f"
            },
            "marker": {
             "line": {
              "color": "white",
              "width": 0.5
             }
            },
            "type": "bar"
           }
          ],
          "barpolar": [
           {
            "marker": {
             "line": {
              "color": "white",
              "width": 0.5
             }
            },
            "type": "barpolar"
           }
          ],
          "carpet": [
           {
            "aaxis": {
             "endlinecolor": "#2a3f5f",
             "gridcolor": "#C8D4E3",
             "linecolor": "#C8D4E3",
             "minorgridcolor": "#C8D4E3",
             "startlinecolor": "#2a3f5f"
            },
            "baxis": {
             "endlinecolor": "#2a3f5f",
             "gridcolor": "#C8D4E3",
             "linecolor": "#C8D4E3",
             "minorgridcolor": "#C8D4E3",
             "startlinecolor": "#2a3f5f"
            },
            "type": "carpet"
           }
          ],
          "choropleth": [
           {
            "colorbar": {
             "outlinewidth": 0,
             "ticks": ""
            },
            "type": "choropleth"
           }
          ],
          "contour": [
           {
            "colorbar": {
             "outlinewidth": 0,
             "ticks": ""
            },
            "colorscale": [
             [
              0,
              "#0d0887"
             ],
             [
              0.1111111111111111,
              "#46039f"
             ],
             [
              0.2222222222222222,
              "#7201a8"
             ],
             [
              0.3333333333333333,
              "#9c179e"
             ],
             [
              0.4444444444444444,
              "#bd3786"
             ],
             [
              0.5555555555555556,
              "#d8576b"
             ],
             [
              0.6666666666666666,
              "#ed7953"
             ],
             [
              0.7777777777777778,
              "#fb9f3a"
             ],
             [
              0.8888888888888888,
              "#fdca26"
             ],
             [
              1,
              "#f0f921"
             ]
            ],
            "type": "contour"
           }
          ],
          "contourcarpet": [
           {
            "colorbar": {
             "outlinewidth": 0,
             "ticks": ""
            },
            "type": "contourcarpet"
           }
          ],
          "heatmap": [
           {
            "colorbar": {
             "outlinewidth": 0,
             "ticks": ""
            },
            "colorscale": [
             [
              0,
              "#0d0887"
             ],
             [
              0.1111111111111111,
              "#46039f"
             ],
             [
              0.2222222222222222,
              "#7201a8"
             ],
             [
              0.3333333333333333,
              "#9c179e"
             ],
             [
              0.4444444444444444,
              "#bd3786"
             ],
             [
              0.5555555555555556,
              "#d8576b"
             ],
             [
              0.6666666666666666,
              "#ed7953"
             ],
             [
              0.7777777777777778,
              "#fb9f3a"
             ],
             [
              0.8888888888888888,
              "#fdca26"
             ],
             [
              1,
              "#f0f921"
             ]
            ],
            "type": "heatmap"
           }
          ],
          "heatmapgl": [
           {
            "colorbar": {
             "outlinewidth": 0,
             "ticks": ""
            },
            "colorscale": [
             [
              0,
              "#0d0887"
             ],
             [
              0.1111111111111111,
              "#46039f"
             ],
             [
              0.2222222222222222,
              "#7201a8"
             ],
             [
              0.3333333333333333,
              "#9c179e"
             ],
             [
              0.4444444444444444,
              "#bd3786"
             ],
             [
              0.5555555555555556,
              "#d8576b"
             ],
             [
              0.6666666666666666,
              "#ed7953"
             ],
             [
              0.7777777777777778,
              "#fb9f3a"
             ],
             [
              0.8888888888888888,
              "#fdca26"
             ],
             [
              1,
              "#f0f921"
             ]
            ],
            "type": "heatmapgl"
           }
          ],
          "histogram": [
           {
            "marker": {
             "colorbar": {
              "outlinewidth": 0,
              "ticks": ""
             }
            },
            "type": "histogram"
           }
          ],
          "histogram2d": [
           {
            "colorbar": {
             "outlinewidth": 0,
             "ticks": ""
            },
            "colorscale": [
             [
              0,
              "#0d0887"
             ],
             [
              0.1111111111111111,
              "#46039f"
             ],
             [
              0.2222222222222222,
              "#7201a8"
             ],
             [
              0.3333333333333333,
              "#9c179e"
             ],
             [
              0.4444444444444444,
              "#bd3786"
             ],
             [
              0.5555555555555556,
              "#d8576b"
             ],
             [
              0.6666666666666666,
              "#ed7953"
             ],
             [
              0.7777777777777778,
              "#fb9f3a"
             ],
             [
              0.8888888888888888,
              "#fdca26"
             ],
             [
              1,
              "#f0f921"
             ]
            ],
            "type": "histogram2d"
           }
          ],
          "histogram2dcontour": [
           {
            "colorbar": {
             "outlinewidth": 0,
             "ticks": ""
            },
            "colorscale": [
             [
              0,
              "#0d0887"
             ],
             [
              0.1111111111111111,
              "#46039f"
             ],
             [
              0.2222222222222222,
              "#7201a8"
             ],
             [
              0.3333333333333333,
              "#9c179e"
             ],
             [
              0.4444444444444444,
              "#bd3786"
             ],
             [
              0.5555555555555556,
              "#d8576b"
             ],
             [
              0.6666666666666666,
              "#ed7953"
             ],
             [
              0.7777777777777778,
              "#fb9f3a"
             ],
             [
              0.8888888888888888,
              "#fdca26"
             ],
             [
              1,
              "#f0f921"
             ]
            ],
            "type": "histogram2dcontour"
           }
          ],
          "mesh3d": [
           {
            "colorbar": {
             "outlinewidth": 0,
             "ticks": ""
            },
            "type": "mesh3d"
           }
          ],
          "parcoords": [
           {
            "line": {
             "colorbar": {
              "outlinewidth": 0,
              "ticks": ""
             }
            },
            "type": "parcoords"
           }
          ],
          "pie": [
           {
            "automargin": true,
            "type": "pie"
           }
          ],
          "scatter": [
           {
            "marker": {
             "colorbar": {
              "outlinewidth": 0,
              "ticks": ""
             }
            },
            "type": "scatter"
           }
          ],
          "scatter3d": [
           {
            "line": {
             "colorbar": {
              "outlinewidth": 0,
              "ticks": ""
             }
            },
            "marker": {
             "colorbar": {
              "outlinewidth": 0,
              "ticks": ""
             }
            },
            "type": "scatter3d"
           }
          ],
          "scattercarpet": [
           {
            "marker": {
             "colorbar": {
              "outlinewidth": 0,
              "ticks": ""
             }
            },
            "type": "scattercarpet"
           }
          ],
          "scattergeo": [
           {
            "marker": {
             "colorbar": {
              "outlinewidth": 0,
              "ticks": ""
             }
            },
            "type": "scattergeo"
           }
          ],
          "scattergl": [
           {
            "marker": {
             "colorbar": {
              "outlinewidth": 0,
              "ticks": ""
             }
            },
            "type": "scattergl"
           }
          ],
          "scattermapbox": [
           {
            "marker": {
             "colorbar": {
              "outlinewidth": 0,
              "ticks": ""
             }
            },
            "type": "scattermapbox"
           }
          ],
          "scatterpolar": [
           {
            "marker": {
             "colorbar": {
              "outlinewidth": 0,
              "ticks": ""
             }
            },
            "type": "scatterpolar"
           }
          ],
          "scatterpolargl": [
           {
            "marker": {
             "colorbar": {
              "outlinewidth": 0,
              "ticks": ""
             }
            },
            "type": "scatterpolargl"
           }
          ],
          "scatterternary": [
           {
            "marker": {
             "colorbar": {
              "outlinewidth": 0,
              "ticks": ""
             }
            },
            "type": "scatterternary"
           }
          ],
          "surface": [
           {
            "colorbar": {
             "outlinewidth": 0,
             "ticks": ""
            },
            "colorscale": [
             [
              0,
              "#0d0887"
             ],
             [
              0.1111111111111111,
              "#46039f"
             ],
             [
              0.2222222222222222,
              "#7201a8"
             ],
             [
              0.3333333333333333,
              "#9c179e"
             ],
             [
              0.4444444444444444,
              "#bd3786"
             ],
             [
              0.5555555555555556,
              "#d8576b"
             ],
             [
              0.6666666666666666,
              "#ed7953"
             ],
             [
              0.7777777777777778,
              "#fb9f3a"
             ],
             [
              0.8888888888888888,
              "#fdca26"
             ],
             [
              1,
              "#f0f921"
             ]
            ],
            "type": "surface"
           }
          ],
          "table": [
           {
            "cells": {
             "fill": {
              "color": "#EBF0F8"
             },
             "line": {
              "color": "white"
             }
            },
            "header": {
             "fill": {
              "color": "#C8D4E3"
             },
             "line": {
              "color": "white"
             }
            },
            "type": "table"
           }
          ]
         },
         "layout": {
          "annotationdefaults": {
           "arrowcolor": "#2a3f5f",
           "arrowhead": 0,
           "arrowwidth": 1
          },
          "coloraxis": {
           "colorbar": {
            "outlinewidth": 0,
            "ticks": ""
           }
          },
          "colorscale": {
           "diverging": [
            [
             0,
             "#8e0152"
            ],
            [
             0.1,
             "#c51b7d"
            ],
            [
             0.2,
             "#de77ae"
            ],
            [
             0.3,
             "#f1b6da"
            ],
            [
             0.4,
             "#fde0ef"
            ],
            [
             0.5,
             "#f7f7f7"
            ],
            [
             0.6,
             "#e6f5d0"
            ],
            [
             0.7,
             "#b8e186"
            ],
            [
             0.8,
             "#7fbc41"
            ],
            [
             0.9,
             "#4d9221"
            ],
            [
             1,
             "#276419"
            ]
           ],
           "sequential": [
            [
             0,
             "#0d0887"
            ],
            [
             0.1111111111111111,
             "#46039f"
            ],
            [
             0.2222222222222222,
             "#7201a8"
            ],
            [
             0.3333333333333333,
             "#9c179e"
            ],
            [
             0.4444444444444444,
             "#bd3786"
            ],
            [
             0.5555555555555556,
             "#d8576b"
            ],
            [
             0.6666666666666666,
             "#ed7953"
            ],
            [
             0.7777777777777778,
             "#fb9f3a"
            ],
            [
             0.8888888888888888,
             "#fdca26"
            ],
            [
             1,
             "#f0f921"
            ]
           ],
           "sequentialminus": [
            [
             0,
             "#0d0887"
            ],
            [
             0.1111111111111111,
             "#46039f"
            ],
            [
             0.2222222222222222,
             "#7201a8"
            ],
            [
             0.3333333333333333,
             "#9c179e"
            ],
            [
             0.4444444444444444,
             "#bd3786"
            ],
            [
             0.5555555555555556,
             "#d8576b"
            ],
            [
             0.6666666666666666,
             "#ed7953"
            ],
            [
             0.7777777777777778,
             "#fb9f3a"
            ],
            [
             0.8888888888888888,
             "#fdca26"
            ],
            [
             1,
             "#f0f921"
            ]
           ]
          },
          "colorway": [
           "#636efa",
           "#EF553B",
           "#00cc96",
           "#ab63fa",
           "#FFA15A",
           "#19d3f3",
           "#FF6692",
           "#B6E880",
           "#FF97FF",
           "#FECB52"
          ],
          "font": {
           "color": "#2a3f5f"
          },
          "geo": {
           "bgcolor": "white",
           "lakecolor": "white",
           "landcolor": "white",
           "showlakes": true,
           "showland": true,
           "subunitcolor": "#C8D4E3"
          },
          "hoverlabel": {
           "align": "left"
          },
          "hovermode": "closest",
          "mapbox": {
           "style": "light"
          },
          "paper_bgcolor": "white",
          "plot_bgcolor": "white",
          "polar": {
           "angularaxis": {
            "gridcolor": "#EBF0F8",
            "linecolor": "#EBF0F8",
            "ticks": ""
           },
           "bgcolor": "white",
           "radialaxis": {
            "gridcolor": "#EBF0F8",
            "linecolor": "#EBF0F8",
            "ticks": ""
           }
          },
          "scene": {
           "xaxis": {
            "backgroundcolor": "white",
            "gridcolor": "#DFE8F3",
            "gridwidth": 2,
            "linecolor": "#EBF0F8",
            "showbackground": true,
            "ticks": "",
            "zerolinecolor": "#EBF0F8"
           },
           "yaxis": {
            "backgroundcolor": "white",
            "gridcolor": "#DFE8F3",
            "gridwidth": 2,
            "linecolor": "#EBF0F8",
            "showbackground": true,
            "ticks": "",
            "zerolinecolor": "#EBF0F8"
           },
           "zaxis": {
            "backgroundcolor": "white",
            "gridcolor": "#DFE8F3",
            "gridwidth": 2,
            "linecolor": "#EBF0F8",
            "showbackground": true,
            "ticks": "",
            "zerolinecolor": "#EBF0F8"
           }
          },
          "shapedefaults": {
           "line": {
            "color": "#2a3f5f"
           }
          },
          "ternary": {
           "aaxis": {
            "gridcolor": "#DFE8F3",
            "linecolor": "#A2B1C6",
            "ticks": ""
           },
           "baxis": {
            "gridcolor": "#DFE8F3",
            "linecolor": "#A2B1C6",
            "ticks": ""
           },
           "bgcolor": "white",
           "caxis": {
            "gridcolor": "#DFE8F3",
            "linecolor": "#A2B1C6",
            "ticks": ""
           }
          },
          "title": {
           "x": 0.05
          },
          "xaxis": {
           "automargin": true,
           "gridcolor": "#EBF0F8",
           "linecolor": "#EBF0F8",
           "ticks": "",
           "title": {
            "standoff": 15
           },
           "zerolinecolor": "#EBF0F8",
           "zerolinewidth": 2
          },
          "yaxis": {
           "automargin": true,
           "gridcolor": "#EBF0F8",
           "linecolor": "#EBF0F8",
           "ticks": "",
           "title": {
            "standoff": 15
           },
           "zerolinecolor": "#EBF0F8",
           "zerolinewidth": 2
          }
         }
        },
        "updatemenus": [
         {
          "buttons": [
           {
            "args": [
             {
              "yaxis.type": "linear"
             }
            ],
            "label": "Linear y-scale",
            "method": "relayout"
           },
           {
            "args": [
             {
              "yaxis.type": "log"
             }
            ],
            "label": "Log y-scale",
            "method": "relayout"
           }
          ],
          "direction": "left",
          "pad": {
           "r": 0,
           "t": -10
          },
          "showactive": true,
          "type": "buttons",
          "x": 0,
          "xanchor": "left",
          "y": 1.15,
          "yanchor": "top"
         }
        ],
        "xaxis": {
         "title": {
          "text": "$\\text{Time in day}$"
         }
        },
        "yaxis": {
         "title": {
          "text": "$\\text{Tumour volume in cm}^3$"
         }
        }
       }
      }
     },
     "metadata": {}
    }
   ],
   "source": [
    "#\n",
    "# Visualise the simulated dataset.\n",
    "#\n",
    "# This cell needs the above generated dataset:\n",
    "# [data]\n",
    "#\n",
    "\n",
    "import plotly.graph_objects as go\n",
    "\n",
    "\n",
    "# Create figure\n",
    "fig = go.Figure()\n",
    "\n",
    "# Get time points\n",
    "times = data[0, :]\n",
    "\n",
    "# Get observed tumour volumes\n",
    "observed_volumes = data[1, :]\n",
    "\n",
    "# Plot tumour volume over time\n",
    "fig.add_trace(go.Scatter(\n",
    "    x=times,\n",
    "    y=observed_volumes,\n",
    "    name=\"Simulated tumour growth\",\n",
    "    showlegend=True,\n",
    "    hovertemplate=\n",
    "        \"<b>Simulated tumour growth</b><br>\" +\n",
    "        \"Time: %{x:} day<br>\" +\n",
    "        \"Tumour volume: %{y:.02f} cm^3<br>\" +\n",
    "        \"<extra></extra>\",\n",
    "    mode=\"markers\",\n",
    "    marker=dict(\n",
    "        symbol='circle',\n",
    "        opacity=0.7,\n",
    "        line=dict(color='black', width=1))\n",
    "))\n",
    "\n",
    "# Set X, Y axis and figure size\n",
    "fig.update_layout(\n",
    "    autosize=True,\n",
    "    xaxis_title=r'$\\text{Time in day}$',\n",
    "    yaxis_title=r'$\\text{Tumour volume in cm}^3$',\n",
    "    template=\"plotly_white\")\n",
    "\n",
    "# Add switch between linear and log y-scale\n",
    "fig.update_layout(\n",
    "    updatemenus=[\n",
    "        dict(\n",
    "            type = \"buttons\",\n",
    "            direction = \"left\",\n",
    "            buttons=list([\n",
    "                dict(\n",
    "                    args=[{\"yaxis.type\": \"linear\"}],\n",
    "                    label=\"Linear y-scale\",\n",
    "                    method=\"relayout\"\n",
    "                ),\n",
    "                dict(\n",
    "                    args=[{\"yaxis.type\": \"log\"}],\n",
    "                    label=\"Log y-scale\",\n",
    "                    method=\"relayout\"\n",
    "                )\n",
    "            ]),\n",
    "            pad={\"r\": 0, \"t\": -10},\n",
    "            showactive=True,\n",
    "            x=0.0,\n",
    "            xanchor=\"left\",\n",
    "            y=1.15,\n",
    "            yanchor=\"top\"\n",
    "        ),\n",
    "    ]\n",
    ")\n",
    "\n",
    "# Position legend\n",
    "fig.update_layout(legend=dict(\n",
    "    yanchor=\"bottom\",\n",
    "    y=0.01,\n",
    "    xanchor=\"left\",\n",
    "    x=1.05))\n",
    "\n",
    "# Show figure\n",
    "fig.show()"
   ]
  },
  {
   "cell_type": "markdown",
   "metadata": {},
   "source": [
    "**Figure 1:** Generated tumour growth data. The tumour growth model in absence of treatment was solved for model parameters $(V^*_0, \\lambda ^*_0, \\lambda ^*_1) = (0.14\\, \\text{cm}^3, 0.28\\, 1/\\text{day}, 0.13\\, \\text{cm}^3/\\text{day})$ and tumour volumes were recorded according to the measurement times of mouse ID 40 in the LXF A677 control growth dataset. Note that no noise was added to the \"measured\" tumour volumes."
   ]
  },
  {
   "cell_type": "markdown",
   "metadata": {},
   "source": [
    "## Naïve optimisation\n",
    "\n",
    "In [n1](https://nbviewer.jupyter.org/github/DavAug/ErlotinibGefitinib/blob/master/notebooks/lung_cancer/control_growth/identifiability.ipynb) we have seen that naïve optimisation of the squared distance between the observed tumour volume and the predicted tumour volume did not lead to robust parameter estimates, when we ran the CMAES optimiser multiple times with random initial starting points in $[10^{-3}, 10^3]$ for all parameters. We start our analysis by reproducing this result on the generated dataset."
   ]
  },
  {
   "cell_type": "code",
   "execution_count": 9,
   "metadata": {
    "tags": []
   },
   "outputs": [],
   "source": [
    "#\n",
    "# Run naïve optimisation multiple times, randomly initialised in [10^-3, 10^3].\n",
    "#\n",
    "# This cell needs the above defined wrapped myokit model and the simulated data:\n",
    "# [PintsModel, data]\n",
    "#\n",
    "\n",
    "import myokit\n",
    "import numpy as np\n",
    "import pints\n",
    "\n",
    "\n",
    "# Define number of optimisation runs for each individual\n",
    "n_runs = 10\n",
    "\n",
    "# Define container for the parameter estimates\n",
    "# Shape (n_opt_types, n_runs, n_parameters)\n",
    "n_parameters = 3\n",
    "naive_estimates = np.empty(shape=(n_runs, n_parameters))\n",
    "\n",
    "# Define container for the objective function score\n",
    "naive_estimates_scores = np.empty(shape=n_runs)\n",
    "\n",
    "# Define random starting points over many orders of magnitude\n",
    "# Shape = (n_runs, n_parameters)\n",
    "initial_parameters = np.random.uniform(low=1E-3, high=1E3, size=(n_runs, n_parameters))\n",
    "\n",
    "# Get relevant time points\n",
    "times = data[0, :]\n",
    "\n",
    "# Get measured tumour volumes\n",
    "observed_volumes = data[1, :]\n",
    "\n",
    "# Create inverse problem\n",
    "problem = pints.SingleOutputProblem(PintsModel(), times, observed_volumes)\n",
    "\n",
    "# Create sum of squares error objective function\n",
    "error = pints.SumOfSquaresError(problem)\n",
    "\n",
    "# Run optimisation multiple times\n",
    "for run_id, initial_params in enumerate(initial_parameters):\n",
    "    # Create optimisation controller with a CMA-ES optimiser\n",
    "    optimiser = pints.OptimisationController(\n",
    "        function=error,\n",
    "        x0=initial_params,\n",
    "        method=pints.CMAES)\n",
    "\n",
    "    # Disable logging mode\n",
    "    optimiser.set_log_to_screen(False)\n",
    "\n",
    "    # Parallelise optimisation\n",
    "    optimiser.set_parallel(True)\n",
    "\n",
    "    # Set maximal number of iterations\n",
    "    optimiser.set_max_iterations(iterations=500)\n",
    "\n",
    "    # Find optimal parameters\n",
    "    try:\n",
    "        estimates, score = optimiser.run()\n",
    "    except:\n",
    "        # If inference breaks fill estimates with nan\n",
    "        estimates = np.array([np.nan, np.nan, np.nan])\n",
    "        score = np.nan\n",
    "\n",
    "    # Save estimates and score (back transformed to linear scale)\n",
    "    naive_estimates[run_id, :] = estimates\n",
    "    naive_estimates_scores[run_id] = score"
   ]
  },
  {
   "cell_type": "code",
   "execution_count": 16,
   "metadata": {},
   "outputs": [
    {
     "output_type": "display_data",
     "data": {
      "application/vnd.plotly.v1+json": {
       "config": {
        "plotlyServerURL": "https://plot.ly"
       },
       "data": [
        {
         "boxpoints": "all",
         "jitter": 0.2,
         "marker": {
          "line": {
           "color": "black",
           "width": 1
          },
          "opacity": 0.7,
          "symbol": "circle"
         },
         "name": "Initial tumour volume in cm^3",
         "pointpos": -1.5,
         "type": "box",
         "visible": true,
         "y": [
          0.14066569204597948,
          0.13999999999149976,
          0.14000000000591764,
          0.1400854437121513,
          0.13999999999857105,
          0.13999999999301194,
          0.13999999999354987,
          0.1399999999958195,
          0.139999803588667,
          0.08190652583209375
         ]
        },
        {
         "boxpoints": "all",
         "jitter": 0.2,
         "marker": {
          "line": {
           "color": "black",
           "width": 1
          },
          "opacity": 0.7,
          "symbol": "circle"
         },
         "name": "Exponential growth rate in 1/day",
         "pointpos": -1.5,
         "type": "box",
         "visible": true,
         "y": [
          -2.8373118324909155,
          0.28000000004679415,
          0.2799999999912207,
          0.27976991171822324,
          0.28000000004151127,
          0.28000000004028236,
          0.28000000002402725,
          0.28000000004327047,
          -452.2838246244573,
          -0.07763657835894122
         ]
        },
        {
         "boxpoints": "all",
         "jitter": 0.2,
         "marker": {
          "line": {
           "color": "black",
           "width": 1
          },
          "opacity": 0.7,
          "symbol": "circle"
         },
         "name": "Linear growth rate in cm^3/day",
         "pointpos": -1.5,
         "type": "box",
         "visible": true,
         "y": [
          1085.8617185995713,
          0.13000000000031475,
          0.13000000000036965,
          0.1300213561826103,
          0.12999999999947354,
          0.13000000000101586,
          0.13000000000312636,
          0.129999999999682,
          532.2932838889242,
          -110.33374373335573
         ]
        },
        {
         "boxpoints": "all",
         "jitter": 0.2,
         "marker": {
          "line": {
           "color": "black",
           "width": 1
          },
          "opacity": 0.7,
          "symbol": "circle"
         },
         "name": "Objective function score",
         "pointpos": -1.5,
         "type": "box",
         "visible": true,
         "y": [
          15.907026836426517,
          3.6022013133428288e-22,
          1.6409262447070948e-22,
          1.5069116411310204e-8,
          6.854582251717238e-22,
          3.8709842012060264e-22,
          1.2337827657696183e-21,
          5.12758029318701e-22,
          15.907032558367447,
          15.663185954006451
         ]
        },
        {
         "hovertemplate": "<b>True parameters </b><br>Initial tumour volume: 0.14 in cm^3<br>Exponential growth rate: 0.28 in 1/day<br>Linear growth rate: 0.13 in cm^3/day<br><extra></extra>",
         "marker": {
          "color": "gold",
          "line": {
           "color": "black",
           "width": 1
          },
          "opacity": 0.7,
          "symbol": "star"
         },
         "mode": "markers",
         "name": "True parameters",
         "type": "scatter",
         "visible": true,
         "x": [
          "Initial tumour volume in cm^3",
          "Exponential growth rate in 1/day",
          "Linear growth rate in cm^3/day"
         ],
         "y": [
          0.14,
          0.28,
          0.13
         ]
        }
       ],
       "layout": {
        "autosize": true,
        "legend": {
         "x": 1.05,
         "xanchor": "left",
         "y": 0.01,
         "yanchor": "bottom"
        },
        "template": {
         "data": {
          "bar": [
           {
            "error_x": {
             "color": "#2a3f5f"
            },
            "error_y": {
             "color": "#2a3f5f"
            },
            "marker": {
             "line": {
              "color": "white",
              "width": 0.5
             }
            },
            "type": "bar"
           }
          ],
          "barpolar": [
           {
            "marker": {
             "line": {
              "color": "white",
              "width": 0.5
             }
            },
            "type": "barpolar"
           }
          ],
          "carpet": [
           {
            "aaxis": {
             "endlinecolor": "#2a3f5f",
             "gridcolor": "#C8D4E3",
             "linecolor": "#C8D4E3",
             "minorgridcolor": "#C8D4E3",
             "startlinecolor": "#2a3f5f"
            },
            "baxis": {
             "endlinecolor": "#2a3f5f",
             "gridcolor": "#C8D4E3",
             "linecolor": "#C8D4E3",
             "minorgridcolor": "#C8D4E3",
             "startlinecolor": "#2a3f5f"
            },
            "type": "carpet"
           }
          ],
          "choropleth": [
           {
            "colorbar": {
             "outlinewidth": 0,
             "ticks": ""
            },
            "type": "choropleth"
           }
          ],
          "contour": [
           {
            "colorbar": {
             "outlinewidth": 0,
             "ticks": ""
            },
            "colorscale": [
             [
              0,
              "#0d0887"
             ],
             [
              0.1111111111111111,
              "#46039f"
             ],
             [
              0.2222222222222222,
              "#7201a8"
             ],
             [
              0.3333333333333333,
              "#9c179e"
             ],
             [
              0.4444444444444444,
              "#bd3786"
             ],
             [
              0.5555555555555556,
              "#d8576b"
             ],
             [
              0.6666666666666666,
              "#ed7953"
             ],
             [
              0.7777777777777778,
              "#fb9f3a"
             ],
             [
              0.8888888888888888,
              "#fdca26"
             ],
             [
              1,
              "#f0f921"
             ]
            ],
            "type": "contour"
           }
          ],
          "contourcarpet": [
           {
            "colorbar": {
             "outlinewidth": 0,
             "ticks": ""
            },
            "type": "contourcarpet"
           }
          ],
          "heatmap": [
           {
            "colorbar": {
             "outlinewidth": 0,
             "ticks": ""
            },
            "colorscale": [
             [
              0,
              "#0d0887"
             ],
             [
              0.1111111111111111,
              "#46039f"
             ],
             [
              0.2222222222222222,
              "#7201a8"
             ],
             [
              0.3333333333333333,
              "#9c179e"
             ],
             [
              0.4444444444444444,
              "#bd3786"
             ],
             [
              0.5555555555555556,
              "#d8576b"
             ],
             [
              0.6666666666666666,
              "#ed7953"
             ],
             [
              0.7777777777777778,
              "#fb9f3a"
             ],
             [
              0.8888888888888888,
              "#fdca26"
             ],
             [
              1,
              "#f0f921"
             ]
            ],
            "type": "heatmap"
           }
          ],
          "heatmapgl": [
           {
            "colorbar": {
             "outlinewidth": 0,
             "ticks": ""
            },
            "colorscale": [
             [
              0,
              "#0d0887"
             ],
             [
              0.1111111111111111,
              "#46039f"
             ],
             [
              0.2222222222222222,
              "#7201a8"
             ],
             [
              0.3333333333333333,
              "#9c179e"
             ],
             [
              0.4444444444444444,
              "#bd3786"
             ],
             [
              0.5555555555555556,
              "#d8576b"
             ],
             [
              0.6666666666666666,
              "#ed7953"
             ],
             [
              0.7777777777777778,
              "#fb9f3a"
             ],
             [
              0.8888888888888888,
              "#fdca26"
             ],
             [
              1,
              "#f0f921"
             ]
            ],
            "type": "heatmapgl"
           }
          ],
          "histogram": [
           {
            "marker": {
             "colorbar": {
              "outlinewidth": 0,
              "ticks": ""
             }
            },
            "type": "histogram"
           }
          ],
          "histogram2d": [
           {
            "colorbar": {
             "outlinewidth": 0,
             "ticks": ""
            },
            "colorscale": [
             [
              0,
              "#0d0887"
             ],
             [
              0.1111111111111111,
              "#46039f"
             ],
             [
              0.2222222222222222,
              "#7201a8"
             ],
             [
              0.3333333333333333,
              "#9c179e"
             ],
             [
              0.4444444444444444,
              "#bd3786"
             ],
             [
              0.5555555555555556,
              "#d8576b"
             ],
             [
              0.6666666666666666,
              "#ed7953"
             ],
             [
              0.7777777777777778,
              "#fb9f3a"
             ],
             [
              0.8888888888888888,
              "#fdca26"
             ],
             [
              1,
              "#f0f921"
             ]
            ],
            "type": "histogram2d"
           }
          ],
          "histogram2dcontour": [
           {
            "colorbar": {
             "outlinewidth": 0,
             "ticks": ""
            },
            "colorscale": [
             [
              0,
              "#0d0887"
             ],
             [
              0.1111111111111111,
              "#46039f"
             ],
             [
              0.2222222222222222,
              "#7201a8"
             ],
             [
              0.3333333333333333,
              "#9c179e"
             ],
             [
              0.4444444444444444,
              "#bd3786"
             ],
             [
              0.5555555555555556,
              "#d8576b"
             ],
             [
              0.6666666666666666,
              "#ed7953"
             ],
             [
              0.7777777777777778,
              "#fb9f3a"
             ],
             [
              0.8888888888888888,
              "#fdca26"
             ],
             [
              1,
              "#f0f921"
             ]
            ],
            "type": "histogram2dcontour"
           }
          ],
          "mesh3d": [
           {
            "colorbar": {
             "outlinewidth": 0,
             "ticks": ""
            },
            "type": "mesh3d"
           }
          ],
          "parcoords": [
           {
            "line": {
             "colorbar": {
              "outlinewidth": 0,
              "ticks": ""
             }
            },
            "type": "parcoords"
           }
          ],
          "pie": [
           {
            "automargin": true,
            "type": "pie"
           }
          ],
          "scatter": [
           {
            "marker": {
             "colorbar": {
              "outlinewidth": 0,
              "ticks": ""
             }
            },
            "type": "scatter"
           }
          ],
          "scatter3d": [
           {
            "line": {
             "colorbar": {
              "outlinewidth": 0,
              "ticks": ""
             }
            },
            "marker": {
             "colorbar": {
              "outlinewidth": 0,
              "ticks": ""
             }
            },
            "type": "scatter3d"
           }
          ],
          "scattercarpet": [
           {
            "marker": {
             "colorbar": {
              "outlinewidth": 0,
              "ticks": ""
             }
            },
            "type": "scattercarpet"
           }
          ],
          "scattergeo": [
           {
            "marker": {
             "colorbar": {
              "outlinewidth": 0,
              "ticks": ""
             }
            },
            "type": "scattergeo"
           }
          ],
          "scattergl": [
           {
            "marker": {
             "colorbar": {
              "outlinewidth": 0,
              "ticks": ""
             }
            },
            "type": "scattergl"
           }
          ],
          "scattermapbox": [
           {
            "marker": {
             "colorbar": {
              "outlinewidth": 0,
              "ticks": ""
             }
            },
            "type": "scattermapbox"
           }
          ],
          "scatterpolar": [
           {
            "marker": {
             "colorbar": {
              "outlinewidth": 0,
              "ticks": ""
             }
            },
            "type": "scatterpolar"
           }
          ],
          "scatterpolargl": [
           {
            "marker": {
             "colorbar": {
              "outlinewidth": 0,
              "ticks": ""
             }
            },
            "type": "scatterpolargl"
           }
          ],
          "scatterternary": [
           {
            "marker": {
             "colorbar": {
              "outlinewidth": 0,
              "ticks": ""
             }
            },
            "type": "scatterternary"
           }
          ],
          "surface": [
           {
            "colorbar": {
             "outlinewidth": 0,
             "ticks": ""
            },
            "colorscale": [
             [
              0,
              "#0d0887"
             ],
             [
              0.1111111111111111,
              "#46039f"
             ],
             [
              0.2222222222222222,
              "#7201a8"
             ],
             [
              0.3333333333333333,
              "#9c179e"
             ],
             [
              0.4444444444444444,
              "#bd3786"
             ],
             [
              0.5555555555555556,
              "#d8576b"
             ],
             [
              0.6666666666666666,
              "#ed7953"
             ],
             [
              0.7777777777777778,
              "#fb9f3a"
             ],
             [
              0.8888888888888888,
              "#fdca26"
             ],
             [
              1,
              "#f0f921"
             ]
            ],
            "type": "surface"
           }
          ],
          "table": [
           {
            "cells": {
             "fill": {
              "color": "#EBF0F8"
             },
             "line": {
              "color": "white"
             }
            },
            "header": {
             "fill": {
              "color": "#C8D4E3"
             },
             "line": {
              "color": "white"
             }
            },
            "type": "table"
           }
          ]
         },
         "layout": {
          "annotationdefaults": {
           "arrowcolor": "#2a3f5f",
           "arrowhead": 0,
           "arrowwidth": 1
          },
          "coloraxis": {
           "colorbar": {
            "outlinewidth": 0,
            "ticks": ""
           }
          },
          "colorscale": {
           "diverging": [
            [
             0,
             "#8e0152"
            ],
            [
             0.1,
             "#c51b7d"
            ],
            [
             0.2,
             "#de77ae"
            ],
            [
             0.3,
             "#f1b6da"
            ],
            [
             0.4,
             "#fde0ef"
            ],
            [
             0.5,
             "#f7f7f7"
            ],
            [
             0.6,
             "#e6f5d0"
            ],
            [
             0.7,
             "#b8e186"
            ],
            [
             0.8,
             "#7fbc41"
            ],
            [
             0.9,
             "#4d9221"
            ],
            [
             1,
             "#276419"
            ]
           ],
           "sequential": [
            [
             0,
             "#0d0887"
            ],
            [
             0.1111111111111111,
             "#46039f"
            ],
            [
             0.2222222222222222,
             "#7201a8"
            ],
            [
             0.3333333333333333,
             "#9c179e"
            ],
            [
             0.4444444444444444,
             "#bd3786"
            ],
            [
             0.5555555555555556,
             "#d8576b"
            ],
            [
             0.6666666666666666,
             "#ed7953"
            ],
            [
             0.7777777777777778,
             "#fb9f3a"
            ],
            [
             0.8888888888888888,
             "#fdca26"
            ],
            [
             1,
             "#f0f921"
            ]
           ],
           "sequentialminus": [
            [
             0,
             "#0d0887"
            ],
            [
             0.1111111111111111,
             "#46039f"
            ],
            [
             0.2222222222222222,
             "#7201a8"
            ],
            [
             0.3333333333333333,
             "#9c179e"
            ],
            [
             0.4444444444444444,
             "#bd3786"
            ],
            [
             0.5555555555555556,
             "#d8576b"
            ],
            [
             0.6666666666666666,
             "#ed7953"
            ],
            [
             0.7777777777777778,
             "#fb9f3a"
            ],
            [
             0.8888888888888888,
             "#fdca26"
            ],
            [
             1,
             "#f0f921"
            ]
           ]
          },
          "colorway": [
           "#636efa",
           "#EF553B",
           "#00cc96",
           "#ab63fa",
           "#FFA15A",
           "#19d3f3",
           "#FF6692",
           "#B6E880",
           "#FF97FF",
           "#FECB52"
          ],
          "font": {
           "color": "#2a3f5f"
          },
          "geo": {
           "bgcolor": "white",
           "lakecolor": "white",
           "landcolor": "white",
           "showlakes": true,
           "showland": true,
           "subunitcolor": "#C8D4E3"
          },
          "hoverlabel": {
           "align": "left"
          },
          "hovermode": "closest",
          "mapbox": {
           "style": "light"
          },
          "paper_bgcolor": "white",
          "plot_bgcolor": "white",
          "polar": {
           "angularaxis": {
            "gridcolor": "#EBF0F8",
            "linecolor": "#EBF0F8",
            "ticks": ""
           },
           "bgcolor": "white",
           "radialaxis": {
            "gridcolor": "#EBF0F8",
            "linecolor": "#EBF0F8",
            "ticks": ""
           }
          },
          "scene": {
           "xaxis": {
            "backgroundcolor": "white",
            "gridcolor": "#DFE8F3",
            "gridwidth": 2,
            "linecolor": "#EBF0F8",
            "showbackground": true,
            "ticks": "",
            "zerolinecolor": "#EBF0F8"
           },
           "yaxis": {
            "backgroundcolor": "white",
            "gridcolor": "#DFE8F3",
            "gridwidth": 2,
            "linecolor": "#EBF0F8",
            "showbackground": true,
            "ticks": "",
            "zerolinecolor": "#EBF0F8"
           },
           "zaxis": {
            "backgroundcolor": "white",
            "gridcolor": "#DFE8F3",
            "gridwidth": 2,
            "linecolor": "#EBF0F8",
            "showbackground": true,
            "ticks": "",
            "zerolinecolor": "#EBF0F8"
           }
          },
          "shapedefaults": {
           "line": {
            "color": "#2a3f5f"
           }
          },
          "ternary": {
           "aaxis": {
            "gridcolor": "#DFE8F3",
            "linecolor": "#A2B1C6",
            "ticks": ""
           },
           "baxis": {
            "gridcolor": "#DFE8F3",
            "linecolor": "#A2B1C6",
            "ticks": ""
           },
           "bgcolor": "white",
           "caxis": {
            "gridcolor": "#DFE8F3",
            "linecolor": "#A2B1C6",
            "ticks": ""
           }
          },
          "title": {
           "x": 0.05
          },
          "xaxis": {
           "automargin": true,
           "gridcolor": "#EBF0F8",
           "linecolor": "#EBF0F8",
           "ticks": "",
           "title": {
            "standoff": 15
           },
           "zerolinecolor": "#EBF0F8",
           "zerolinewidth": 2
          },
          "yaxis": {
           "automargin": true,
           "gridcolor": "#EBF0F8",
           "linecolor": "#EBF0F8",
           "ticks": "",
           "title": {
            "standoff": 15
           },
           "zerolinecolor": "#EBF0F8",
           "zerolinewidth": 2
          }
         }
        },
        "yaxis": {
         "title": {
          "text": "Parameter value"
         }
        }
       }
      }
     },
     "metadata": {}
    }
   ],
   "source": [
    "#\n",
    "# Visualisation of the spread of naively optimised model parameters for multiple runs from different initial points.\n",
    "#\n",
    "# This cell need the above obtain naive parameter estimates, their scores and the generating parameter values.\n",
    "# [naive_estimates, naive_estimates_scores, true_parameters]\n",
    "#\n",
    "\n",
    "import plotly.graph_objects as go\n",
    "\n",
    "\n",
    "# Get optimised parameters\n",
    "estimates = naive_estimates\n",
    "\n",
    "# Get optimised parameters\n",
    "scores = naive_estimates_scores\n",
    "\n",
    "# Create figure\n",
    "fig = go.Figure()\n",
    "\n",
    "# Create box plot of for initial tumour volume\n",
    "fig.add_trace(\n",
    "    go.Box(\n",
    "        y=estimates[:, 0],  \n",
    "        name='Initial tumour volume in cm^3',\n",
    "        boxpoints='all',\n",
    "        jitter=0.2,\n",
    "        pointpos=-1.5,\n",
    "        visible=True,\n",
    "        marker=dict(\n",
    "            symbol='circle',\n",
    "            opacity=0.7,\n",
    "            line=dict(color='black', width=1)),\n",
    "    ))\n",
    "\n",
    "# Create box plot for lambda_0\n",
    "fig.add_trace(\n",
    "    go.Box(\n",
    "        y=estimates[:, 1],  \n",
    "        name='Exponential growth rate in 1/day',\n",
    "        boxpoints='all',\n",
    "        jitter=0.2,\n",
    "        pointpos=-1.5,\n",
    "        visible=True,\n",
    "        marker=dict(\n",
    "            symbol='circle',\n",
    "            opacity=0.7,\n",
    "            line=dict(color='black', width=1))\n",
    "    ))\n",
    "\n",
    "# Create box plot of for exponential tumour growth\n",
    "fig.add_trace(\n",
    "    go.Box(\n",
    "        y=estimates[:, 2],  \n",
    "        name='Linear growth rate in cm^3/day',\n",
    "        boxpoints='all',\n",
    "        jitter=0.2,\n",
    "        pointpos=-1.5,\n",
    "        visible=True,\n",
    "        marker=dict(\n",
    "            symbol='circle',\n",
    "            opacity=0.7,\n",
    "            line=dict(color='black', width=1)),\n",
    "    ))\n",
    "    \n",
    "# Create box plot of for objective function score\n",
    "fig.add_trace(\n",
    "    go.Box(\n",
    "        y=scores,  \n",
    "        name='Objective function score',\n",
    "        boxpoints='all',\n",
    "        jitter=0.2,\n",
    "        pointpos=-1.5,\n",
    "        visible=True,\n",
    "        marker=dict(\n",
    "            symbol='circle',\n",
    "            opacity=0.7,\n",
    "            line=dict(color='black', width=1)),\n",
    "    ))\n",
    "\n",
    "# Plot true parameters\n",
    "fig.add_trace(\n",
    "    go.Scatter(\n",
    "        x=[\n",
    "            'Initial tumour volume in cm^3',\n",
    "            'Exponential growth rate in 1/day',\n",
    "            'Linear growth rate in cm^3/day'],\n",
    "        y=true_parameters,\n",
    "        name='True parameters',\n",
    "        hovertemplate=\n",
    "            \"<b>True parameters </b><br>\" +\n",
    "            \"Initial tumour volume: %.02f in cm^3<br>\" % true_parameters[0] +\n",
    "            \"Exponential growth rate: %.02f in 1/day<br>\" % true_parameters[1] +\n",
    "            \"Linear growth rate: %.02f in cm^3/day<br>\" % true_parameters[2] +\n",
    "            \"<extra></extra>\",\n",
    "        visible=True,\n",
    "        marker=dict(\n",
    "            symbol='star',\n",
    "            opacity=0.7,\n",
    "            line=dict(color='black', width=1),\n",
    "            color='gold'),\n",
    "        mode=\"markers\",\n",
    "    ))\n",
    "\n",
    "# Set figure size\n",
    "fig.update_layout(\n",
    "    autosize=True,\n",
    "    template=\"plotly_white\",\n",
    "    yaxis_title='Parameter value')\n",
    "\n",
    "# Position legend\n",
    "fig.update_layout(legend=dict(\n",
    "    yanchor=\"bottom\",\n",
    "    y=0.01,\n",
    "    xanchor=\"left\",\n",
    "    x=1.05))\n",
    "\n",
    "# Show figure\n",
    "fig.show()\n"
   ]
  },
  {
   "cell_type": "markdown",
   "metadata": {},
   "source": [
    "**Figure 2:** Distribution of parameter estimates after naïve optimisation. We randomly initialised the starting points of the optimisations in $[10^{-3}, 10^3]$ for all parameters, and ran the CMAES optimiser for 500 iterations. "
   ]
  },
  {
   "cell_type": "markdown",
   "metadata": {},
   "source": [
    "Figure 2 shows that naïve application of the CMAES optimiser cannot reliably recover the generating model parameters within a single run. It is, however, interesting to note that the median of 10 runs seems to robustly recover the true model parameters. "
   ]
  },
  {
   "cell_type": "markdown",
   "metadata": {},
   "source": []
  },
  {
   "cell_type": "markdown",
   "metadata": {},
   "source": [
    "## Toy model: Tumour growth in absence of treatment\n",
    "\n",
    "For clarity let us illustrate the pitfalls of numerical optimisers for a specific example. In [1](https://nbviewer.jupyter.org/github/DavAug/ErlotinibGefitinib/blob/master/notebooks/lung_cancer/control_growth/identifiability.ipynb) we introduced a structural model for the tumour growth in absence of treatment in which the tumour grows exponentially for tumour volumes $V^s_T$ below a critical volume $V_{\\text{crit}}$, and linearly above the critical tumour volume\n",
    "\n",
    "\\begin{equation*}\n",
    "    \\frac{\\text{d}V^s_T}{\\text{d}t} = \\frac{\\lambda V^s_T}{V^s_T / V_{\\text{crit}} + 1}.\n",
    "\\end{equation*}\n",
    "\n",
    "Here, $\\lambda $ is the exponential growth rate. We can see that for large tumour volumes $V^s_T\\gg V_{\\text{crit}}$ the rate of change of the tumour will assume a constant growth rate $\\lambda V_{\\text{crit}}$, i.e. the tumour grows linearly for large tumour volumes.\n",
    "\n",
    "We generate a dataset by forward simulating the model for the structural model parameters\n",
    "\n",
    "\\begin{equation*}\n",
    "    \\psi = (V_0, V_{\\text{crit}}, \\lambda ) = (0.14\\, \\text{cm}^3, 0.24\\, \\text{cm}^3, 0.55\\, 1/\\text{day}),\n",
    "\\end{equation*}\n",
    "\n",
    "which we found in [1](https://nbviewer.jupyter.org/github/DavAug/ErlotinibGefitinib/blob/master/notebooks/lung_cancer/control_growth/identifiability.ipynb) for mouse ID 40. We will record the tumour volume noise-free every second day for a period of 30 days to generate a dataset similar to the experimental observations.\n",
    "\n",
    "The toy inverse problem is completed by defining the Squared Distance Error Measure as our objective function\n",
    "\n",
    "\\begin{equation*}\n",
    "    L(\\psi | V^\\text{obs}_{T}) = \\sum ^{n}_{i=1}\\left( V^\\text{obs}_{T, i} - V^s_T(t_i, \\psi)\\right) ^2,\n",
    "\\end{equation*}\n",
    "\n",
    "where $n$ is the number of simulated measurements, $V^\\text{obs}_{T, i}$ is the \"measured\" tumour volume at time $t_i$ and $V^s_T(t_i, \\psi)$ is the model prediction at time $t_i$ for model parameters $\\psi $."
   ]
  },
  {
   "cell_type": "markdown",
   "metadata": {},
   "source": [
    "## 1. Limiting the search space\n",
    "\n",
    "A generic problem of numerical optimisation routines is that there is only a finite window of parameter values that can be feasibly explored. Outside this window evaluation of the objective function will have significant numerical erros.\n",
    "\n",
    "Let us begin by showing objecive function over range of many parameters:\n",
    "\n",
    "We use dimensionless model with log-transformed parameters as in 1.\n",
    "\n",
    "$v_0 = 0.14$, $a_0 = 0.24$, $a_1 = 0.24 * 0.55$"
   ]
  },
  {
   "cell_type": "code",
   "execution_count": 1,
   "metadata": {},
   "outputs": [],
   "source": [
    "#\n",
    "# Define pints model wrapper such that myokit model can be used for inference.\n",
    "#\n",
    "\n",
    "import myokit\n",
    "import pints\n",
    "\n",
    "from pkpd import model as m\n",
    "\n",
    "\n",
    "# Wrap myokit model, so it can be used with pints\n",
    "class PintsModel(pints.ForwardModel):\n",
    "    def __init__(self):\n",
    "        # Create myokit model\n",
    "        model = m.create_dimless_tumour_growth_model()\n",
    "\n",
    "        # Create simulator\n",
    "        self.sim = myokit.Simulation(model)\n",
    "\n",
    "    def n_parameters(self):\n",
    "        \"\"\"\n",
    "        Number of parameters to fit. Here log v, log a_0, log a_1.\n",
    "        \"\"\"\n",
    "        return 3\n",
    "\n",
    "    def n_outputs(self):\n",
    "        return 1\n",
    "\n",
    "    def simulate(self, log_parameters, times):\n",
    "        # Reset simulation\n",
    "        self.sim.reset()\n",
    "\n",
    "        # Sort input parameters\n",
    "        initial_volume, a_0, a_1 = np.exp(log_parameters)\n",
    "\n",
    "        # Set initial condition\n",
    "        self.sim.set_state([initial_volume])\n",
    "\n",
    "        # Set growth constants\n",
    "        self.sim.set_constant('central.a_0', a_0)\n",
    "        self.sim.set_constant('central.a_1', a_1)\n",
    "\n",
    "        # Define logged variable\n",
    "        loggedVariable = 'central.volume_t'\n",
    "\n",
    "        # Simulate\n",
    "        output = self.sim.run(times[-1] + 1, log=[loggedVariable], log_times=times)\n",
    "        result = output[loggedVariable]\n",
    "\n",
    "        return np.array(result)"
   ]
  },
  {
   "cell_type": "code",
   "execution_count": 2,
   "metadata": {},
   "outputs": [],
   "source": [
    "#\n",
    "# Simulate \"noise-free\" data for with v_0 = 0.14, a_0 = 0.24, a_1= 0.24 * 0.55. \n",
    "#\n",
    "# This cell needs the above defined model.\n",
    "# [PintsModel]\n",
    "#\n",
    "\n",
    "import numpy as np\n",
    "\n",
    "\n",
    "# Define characteristic scales\n",
    "characteristic_volume = 1  # in cm^3\n",
    "characteristic_time = 1  # in day\n",
    "\n",
    "# Define simulation times in day\n",
    "data_times = np.linspace(start=0, stop=30, num=15)\n",
    "\n",
    "# Define model parameters v_0, a_0, a_1\n",
    "true_log_parameters = np.log([0.14, 0.24, 0.24 * 0.55])\n",
    "\n",
    "# Instantiate model\n",
    "model = PintsModel()\n",
    "\n",
    "# Define dimensionless times\n",
    "dimless_times = data_times / characteristic_time\n",
    "\n",
    "# Simulate data\n",
    "dimless_volumes = model.simulate(true_log_parameters, dimless_times)\n",
    "data_volumes = dimless_volumes * characteristic_volume\n"
   ]
  },
  {
   "cell_type": "code",
   "execution_count": 19,
   "metadata": {
    "tags": []
   },
   "outputs": [
    {
     "name": "stdout",
     "output_type": "stream",
     "text": [
      "\n",
      "----------------------------------------\n",
      "Unexpected termination.\n",
      "Current best score: 10.156246398491989\n",
      "Current best position:\n",
      " 4.51990710707117271e-01\n",
      " 6.82247804558307848e+02\n",
      " 6.78276907497045613e+02\n",
      "----------------------------------------\n",
      "\n",
      "----------------------------------------\n",
      "Unexpected termination.\n",
      "Current best score: 2.607533564388874\n",
      "Current best position:\n",
      "-9.46999195455406062e-02\n",
      " 5.96300708013394569e+02\n",
      " 5.93069773285688484e+02\n",
      "----------------------------------------\n"
     ]
    }
   ],
   "source": [
    "#\n",
    "# Run optimisation multiple times with and without boundaries\n",
    "#\n",
    "# This cell needs the above defined wrapped myokit model and the simulated data, as well as the characteristic time and volume scale:\n",
    "# [PintsModel, simulated_data, characteristic_time, characteristic_volume]\n",
    "#\n",
    "\n",
    "import myokit\n",
    "import numpy as np\n",
    "import pandas as pd\n",
    "import pints\n",
    "\n",
    "\n",
    "# Define number of different optimisation settings\n",
    "# [bounded search space, open search space]\n",
    "n_opt_types = 2\n",
    "\n",
    "# Define number of optimisation runs for each individual\n",
    "n_runs = 10\n",
    "\n",
    "# Define container for the structural model estimates\n",
    "# Shape (n_opt_types, n_runs, n_parameters)\n",
    "n_parameters = 3\n",
    "recovered_parameters = np.empty(shape=(n_opt_types, n_runs, n_parameters))\n",
    "\n",
    "# Define container for the objective function score for the optimised parameters\n",
    "recovered_parameters_scores = np.empty(shape=(n_opt_types, n_runs))\n",
    "\n",
    "# Define random starting points over many orders of magnitude\n",
    "# Shape = (n_runs, n_parameters)\n",
    "initial_parameters = np.random.uniform(low=1E-3, high=1E3, size=(n_runs, n_parameters))\n",
    "\n",
    "# Find mouse parameters\n",
    "for index in range(n_opt_types):\n",
    "    # Get relevant time points\n",
    "    times = data_times / characteristic_time\n",
    "\n",
    "    # Get measured tumour volumes\n",
    "    observed_volumes = data_volumes / characteristic_volume\n",
    "\n",
    "    # Create inverse problem\n",
    "    problem = pints.SingleOutputProblem(PintsModel(), times, observed_volumes)\n",
    "\n",
    "    # Create sum of squares error objective function\n",
    "    error = pints.SumOfSquaresError(problem)\n",
    "\n",
    "    # Create boundaries to biologically relevant values\n",
    "    boundary = pints.RectangularBoundaries(lower=np.log([1E-3]*3), upper=np.log([1E3]*3))\n",
    "\n",
    "    # Run optimisation multiple times\n",
    "    for run_id, initial_params in enumerate(initial_parameters):\n",
    "        # Transform parameters to log-scale\n",
    "        log_initial_params = np.log(initial_params)\n",
    "\n",
    "        # Create optimisation controller with a CMA-ES optimiser\n",
    "        if index == 0:\n",
    "            # Create optimiser with bounded search space\n",
    "            optimiser = pints.OptimisationController(\n",
    "                function=error,\n",
    "                x0=log_initial_params,\n",
    "                boundaries=boundary,\n",
    "                method=pints.CMAES)\n",
    "        if index == 1:\n",
    "            # Create optimiser with bounded search space\n",
    "            optimiser = pints.OptimisationController(\n",
    "                function=error,\n",
    "                x0=log_initial_params,\n",
    "                method=pints.CMAES)\n",
    "\n",
    "        # Disable logging mode\n",
    "        optimiser.set_log_to_screen(False)\n",
    "\n",
    "        # Parallelise optimisation\n",
    "        optimiser.set_parallel(True)\n",
    "\n",
    "        # Find optimal parameters\n",
    "        try:\n",
    "            estimates, score = optimiser.run()\n",
    "        except:\n",
    "            # If inference breaks fill estimates with nan\n",
    "            estimates = np.array([np.nan, np.nan, np.nan])\n",
    "            score = np.nan\n",
    "\n",
    "        # Save estimates and score (back transformed to linear scale)\n",
    "        recovered_parameters[index, run_id, :] = np.exp(estimates)\n",
    "        recovered_parameters_scores[index, run_id] = score"
   ]
  },
  {
   "cell_type": "code",
   "execution_count": 20,
   "metadata": {},
   "outputs": [],
   "source": [
    "#\n",
    "# Transform dimensionless parameters to new set of biological parameters.\n",
    "# \n",
    "# This cell needs the above inferred dimensionless parameters and the characteristic volume and time scale:\n",
    "# [recovered_parameters, characteristic_volume, characteristic_time]\n",
    "#\n",
    "\n",
    "import numpy as np\n",
    "\n",
    "\n",
    "# Initialise container for backtransformed paramters\n",
    "# Shape (n_mice, n_runs, n_parameters)\n",
    "parameters = np.empty(shape=recovered_parameters.shape)\n",
    "\n",
    "# Transform initial volumes\n",
    "parameters[:, :, 0] = recovered_parameters[:, :, 0] * characteristic_volume\n",
    "\n",
    "# Transform critical volume \n",
    "# V_crit = a_0 * V^c\n",
    "parameters[:, :, 1] = recovered_parameters[:, :, 1] * characteristic_volume\n",
    "\n",
    "# Transform exponential growth rate\n",
    "# lambda = a_1 / a_0 / t^c\n",
    "parameters[:, :, 2] = \\\n",
    "    recovered_parameters[:, :, 2] / recovered_parameters[:, :, 1] / characteristic_time\n"
   ]
  },
  {
   "cell_type": "code",
   "execution_count": 55,
   "metadata": {},
   "outputs": [
    {
     "data": {
      "application/vnd.plotly.v1+json": {
       "config": {
        "plotlyServerURL": "https://plot.ly"
       },
       "data": [
        {
         "boxpoints": "all",
         "jitter": 0.2,
         "line": {
          "color": "#636EFA"
         },
         "marker": {
          "color": "#636EFA",
          "line": {
           "color": "black",
           "width": 1
          },
          "opacity": 0.7,
          "symbol": "circle"
         },
         "name": "Limited search space",
         "pointpos": -1.5,
         "type": "box",
         "visible": true,
         "y": [
          0.13999999999603838,
          0.13999999999658197,
          0.13999999999729845,
          0.140000000000306,
          0.13999999999629126,
          0.14000000000066876,
          0.13999999999543306,
          0.1400000000059101,
          0.13999999999783438,
          0.14000000000742746
         ]
        },
        {
         "boxpoints": "all",
         "jitter": 0.2,
         "line": {
          "color": "#636EFA"
         },
         "marker": {
          "color": "#636EFA",
          "line": {
           "color": "black",
           "width": 1
          },
          "opacity": 0.7,
          "symbol": "circle"
         },
         "name": "Limited search space",
         "pointpos": -1.5,
         "type": "box",
         "visible": false,
         "y": [
          0.2399999999977615,
          0.23999999999830687,
          0.23999999999555835,
          0.2399999999993832,
          0.24000000000099528,
          0.2399999999989315,
          0.24000000000010896,
          0.24000000000967997,
          0.24000000000544655,
          0.24000000001580202
         ]
        },
        {
         "boxpoints": "all",
         "jitter": 0.2,
         "line": {
          "color": "#636EFA"
         },
         "marker": {
          "color": "#636EFA",
          "line": {
           "color": "black",
           "width": 1
          },
          "opacity": 0.7,
          "symbol": "circle"
         },
         "name": "Limited search space",
         "pointpos": -1.5,
         "type": "box",
         "visible": false,
         "y": [
          0.5500000000025784,
          0.5500000000048998,
          0.5500000000094118,
          0.5500000000009534,
          0.5499999999965202,
          0.5500000000012095,
          0.5499999999986932,
          0.5499999999786188,
          0.5499999999878891,
          0.549999999967947
         ]
        },
        {
         "boxpoints": "all",
         "jitter": 0.2,
         "line": {
          "color": "#636EFA"
         },
         "marker": {
          "color": "#636EFA",
          "line": {
           "color": "black",
           "width": 1
          },
          "opacity": 0.7,
          "symbol": "circle"
         },
         "name": "Score: Limited search space",
         "pointpos": -1.5,
         "type": "box",
         "visible": true,
         "y": [
          4.570369926255792e-22,
          1.0305576531442666e-22,
          2.8138758215998484e-23,
          3.7203347008651065e-24,
          4.321670269456048e-22,
          3.972765431408863e-23,
          4.399526062923541e-22,
          4.302528774308938e-22,
          4.4566771696273545e-22,
          1.5290188649499282e-22
         ]
        },
        {
         "boxpoints": "all",
         "jitter": 0.2,
         "line": {
          "color": "#EF553B"
         },
         "marker": {
          "color": "#EF553B",
          "line": {
           "color": "black",
           "width": 1
          },
          "opacity": 0.7,
          "symbol": "circle"
         },
         "name": "Unlimited search space",
         "pointpos": -1.5,
         "type": "box",
         "visible": true,
         "y": [
          1.0542872956789836e-19,
          null,
          0.13999999999578489,
          0.5248975344997016,
          0.13999999999598703,
          null,
          0.13999999999608262,
          0.13999999999550605,
          0.5248975597512959,
          0.14000000000025214
         ]
        },
        {
         "boxpoints": "all",
         "jitter": 0.2,
         "line": {
          "color": "#EF553B"
         },
         "marker": {
          "color": "#EF553B",
          "line": {
           "color": "black",
           "width": 1
          },
          "opacity": 0.7,
          "symbol": "circle"
         },
         "name": "Unlimited search space",
         "pointpos": -1.5,
         "type": "box",
         "visible": false,
         "y": [
          1.311338302404428e-225,
          null,
          0.24000000000004976,
          2.140150014111526e+152,
          0.24000000000089025,
          null,
          0.24000000000117372,
          0.23999999999908583,
          8001110124.875337,
          0.2400000000039054
         ]
        },
        {
         "boxpoints": "all",
         "jitter": 0.2,
         "line": {
          "color": "#EF553B"
         },
         "marker": {
          "color": "#EF553B",
          "line": {
           "color": "black",
           "width": 1
          },
          "opacity": 0.7,
          "symbol": "circle"
         },
         "name": "Unlimited search space",
         "pointpos": -1.5,
         "type": "box",
         "visible": false,
         "y": [
          8.224813286895312e+223,
          null,
          0.5499999999984515,
          0.06440262758112122,
          0.5499999999968821,
          null,
          0.5499999999963829,
          0.5500000000003296,
          0.06440262652148576,
          0.5499999999914864
         ]
        },
        {
         "boxpoints": "all",
         "jitter": 0.2,
         "line": {
          "color": "#EF553B"
         },
         "marker": {
          "color": "#EF553B",
          "line": {
           "color": "black",
           "width": 1
          },
          "opacity": 0.7,
          "symbol": "circle"
         },
         "name": "Score: Unlimited search space",
         "pointpos": -1.5,
         "type": "box",
         "visible": true,
         "y": [
          0.07578863579973392,
          null,
          4.313471069217714e-22,
          0.6526851478518658,
          4.322217003735182e-22,
          null,
          4.342191625153354e-22,
          4.316417075514495e-22,
          0.6526851475726704,
          5.023867754741749e-22
         ]
        }
       ],
       "layout": {
        "autosize": true,
        "legend": {
         "x": 1.05,
         "xanchor": "left",
         "y": 0.01,
         "yanchor": "bottom"
        },
        "template": {
         "data": {
          "bar": [
           {
            "error_x": {
             "color": "#2a3f5f"
            },
            "error_y": {
             "color": "#2a3f5f"
            },
            "marker": {
             "line": {
              "color": "white",
              "width": 0.5
             }
            },
            "type": "bar"
           }
          ],
          "barpolar": [
           {
            "marker": {
             "line": {
              "color": "white",
              "width": 0.5
             }
            },
            "type": "barpolar"
           }
          ],
          "carpet": [
           {
            "aaxis": {
             "endlinecolor": "#2a3f5f",
             "gridcolor": "#C8D4E3",
             "linecolor": "#C8D4E3",
             "minorgridcolor": "#C8D4E3",
             "startlinecolor": "#2a3f5f"
            },
            "baxis": {
             "endlinecolor": "#2a3f5f",
             "gridcolor": "#C8D4E3",
             "linecolor": "#C8D4E3",
             "minorgridcolor": "#C8D4E3",
             "startlinecolor": "#2a3f5f"
            },
            "type": "carpet"
           }
          ],
          "choropleth": [
           {
            "colorbar": {
             "outlinewidth": 0,
             "ticks": ""
            },
            "type": "choropleth"
           }
          ],
          "contour": [
           {
            "colorbar": {
             "outlinewidth": 0,
             "ticks": ""
            },
            "colorscale": [
             [
              0,
              "#0d0887"
             ],
             [
              0.1111111111111111,
              "#46039f"
             ],
             [
              0.2222222222222222,
              "#7201a8"
             ],
             [
              0.3333333333333333,
              "#9c179e"
             ],
             [
              0.4444444444444444,
              "#bd3786"
             ],
             [
              0.5555555555555556,
              "#d8576b"
             ],
             [
              0.6666666666666666,
              "#ed7953"
             ],
             [
              0.7777777777777778,
              "#fb9f3a"
             ],
             [
              0.8888888888888888,
              "#fdca26"
             ],
             [
              1,
              "#f0f921"
             ]
            ],
            "type": "contour"
           }
          ],
          "contourcarpet": [
           {
            "colorbar": {
             "outlinewidth": 0,
             "ticks": ""
            },
            "type": "contourcarpet"
           }
          ],
          "heatmap": [
           {
            "colorbar": {
             "outlinewidth": 0,
             "ticks": ""
            },
            "colorscale": [
             [
              0,
              "#0d0887"
             ],
             [
              0.1111111111111111,
              "#46039f"
             ],
             [
              0.2222222222222222,
              "#7201a8"
             ],
             [
              0.3333333333333333,
              "#9c179e"
             ],
             [
              0.4444444444444444,
              "#bd3786"
             ],
             [
              0.5555555555555556,
              "#d8576b"
             ],
             [
              0.6666666666666666,
              "#ed7953"
             ],
             [
              0.7777777777777778,
              "#fb9f3a"
             ],
             [
              0.8888888888888888,
              "#fdca26"
             ],
             [
              1,
              "#f0f921"
             ]
            ],
            "type": "heatmap"
           }
          ],
          "heatmapgl": [
           {
            "colorbar": {
             "outlinewidth": 0,
             "ticks": ""
            },
            "colorscale": [
             [
              0,
              "#0d0887"
             ],
             [
              0.1111111111111111,
              "#46039f"
             ],
             [
              0.2222222222222222,
              "#7201a8"
             ],
             [
              0.3333333333333333,
              "#9c179e"
             ],
             [
              0.4444444444444444,
              "#bd3786"
             ],
             [
              0.5555555555555556,
              "#d8576b"
             ],
             [
              0.6666666666666666,
              "#ed7953"
             ],
             [
              0.7777777777777778,
              "#fb9f3a"
             ],
             [
              0.8888888888888888,
              "#fdca26"
             ],
             [
              1,
              "#f0f921"
             ]
            ],
            "type": "heatmapgl"
           }
          ],
          "histogram": [
           {
            "marker": {
             "colorbar": {
              "outlinewidth": 0,
              "ticks": ""
             }
            },
            "type": "histogram"
           }
          ],
          "histogram2d": [
           {
            "colorbar": {
             "outlinewidth": 0,
             "ticks": ""
            },
            "colorscale": [
             [
              0,
              "#0d0887"
             ],
             [
              0.1111111111111111,
              "#46039f"
             ],
             [
              0.2222222222222222,
              "#7201a8"
             ],
             [
              0.3333333333333333,
              "#9c179e"
             ],
             [
              0.4444444444444444,
              "#bd3786"
             ],
             [
              0.5555555555555556,
              "#d8576b"
             ],
             [
              0.6666666666666666,
              "#ed7953"
             ],
             [
              0.7777777777777778,
              "#fb9f3a"
             ],
             [
              0.8888888888888888,
              "#fdca26"
             ],
             [
              1,
              "#f0f921"
             ]
            ],
            "type": "histogram2d"
           }
          ],
          "histogram2dcontour": [
           {
            "colorbar": {
             "outlinewidth": 0,
             "ticks": ""
            },
            "colorscale": [
             [
              0,
              "#0d0887"
             ],
             [
              0.1111111111111111,
              "#46039f"
             ],
             [
              0.2222222222222222,
              "#7201a8"
             ],
             [
              0.3333333333333333,
              "#9c179e"
             ],
             [
              0.4444444444444444,
              "#bd3786"
             ],
             [
              0.5555555555555556,
              "#d8576b"
             ],
             [
              0.6666666666666666,
              "#ed7953"
             ],
             [
              0.7777777777777778,
              "#fb9f3a"
             ],
             [
              0.8888888888888888,
              "#fdca26"
             ],
             [
              1,
              "#f0f921"
             ]
            ],
            "type": "histogram2dcontour"
           }
          ],
          "mesh3d": [
           {
            "colorbar": {
             "outlinewidth": 0,
             "ticks": ""
            },
            "type": "mesh3d"
           }
          ],
          "parcoords": [
           {
            "line": {
             "colorbar": {
              "outlinewidth": 0,
              "ticks": ""
             }
            },
            "type": "parcoords"
           }
          ],
          "pie": [
           {
            "automargin": true,
            "type": "pie"
           }
          ],
          "scatter": [
           {
            "marker": {
             "colorbar": {
              "outlinewidth": 0,
              "ticks": ""
             }
            },
            "type": "scatter"
           }
          ],
          "scatter3d": [
           {
            "line": {
             "colorbar": {
              "outlinewidth": 0,
              "ticks": ""
             }
            },
            "marker": {
             "colorbar": {
              "outlinewidth": 0,
              "ticks": ""
             }
            },
            "type": "scatter3d"
           }
          ],
          "scattercarpet": [
           {
            "marker": {
             "colorbar": {
              "outlinewidth": 0,
              "ticks": ""
             }
            },
            "type": "scattercarpet"
           }
          ],
          "scattergeo": [
           {
            "marker": {
             "colorbar": {
              "outlinewidth": 0,
              "ticks": ""
             }
            },
            "type": "scattergeo"
           }
          ],
          "scattergl": [
           {
            "marker": {
             "colorbar": {
              "outlinewidth": 0,
              "ticks": ""
             }
            },
            "type": "scattergl"
           }
          ],
          "scattermapbox": [
           {
            "marker": {
             "colorbar": {
              "outlinewidth": 0,
              "ticks": ""
             }
            },
            "type": "scattermapbox"
           }
          ],
          "scatterpolar": [
           {
            "marker": {
             "colorbar": {
              "outlinewidth": 0,
              "ticks": ""
             }
            },
            "type": "scatterpolar"
           }
          ],
          "scatterpolargl": [
           {
            "marker": {
             "colorbar": {
              "outlinewidth": 0,
              "ticks": ""
             }
            },
            "type": "scatterpolargl"
           }
          ],
          "scatterternary": [
           {
            "marker": {
             "colorbar": {
              "outlinewidth": 0,
              "ticks": ""
             }
            },
            "type": "scatterternary"
           }
          ],
          "surface": [
           {
            "colorbar": {
             "outlinewidth": 0,
             "ticks": ""
            },
            "colorscale": [
             [
              0,
              "#0d0887"
             ],
             [
              0.1111111111111111,
              "#46039f"
             ],
             [
              0.2222222222222222,
              "#7201a8"
             ],
             [
              0.3333333333333333,
              "#9c179e"
             ],
             [
              0.4444444444444444,
              "#bd3786"
             ],
             [
              0.5555555555555556,
              "#d8576b"
             ],
             [
              0.6666666666666666,
              "#ed7953"
             ],
             [
              0.7777777777777778,
              "#fb9f3a"
             ],
             [
              0.8888888888888888,
              "#fdca26"
             ],
             [
              1,
              "#f0f921"
             ]
            ],
            "type": "surface"
           }
          ],
          "table": [
           {
            "cells": {
             "fill": {
              "color": "#EBF0F8"
             },
             "line": {
              "color": "white"
             }
            },
            "header": {
             "fill": {
              "color": "#C8D4E3"
             },
             "line": {
              "color": "white"
             }
            },
            "type": "table"
           }
          ]
         },
         "layout": {
          "annotationdefaults": {
           "arrowcolor": "#2a3f5f",
           "arrowhead": 0,
           "arrowwidth": 1
          },
          "coloraxis": {
           "colorbar": {
            "outlinewidth": 0,
            "ticks": ""
           }
          },
          "colorscale": {
           "diverging": [
            [
             0,
             "#8e0152"
            ],
            [
             0.1,
             "#c51b7d"
            ],
            [
             0.2,
             "#de77ae"
            ],
            [
             0.3,
             "#f1b6da"
            ],
            [
             0.4,
             "#fde0ef"
            ],
            [
             0.5,
             "#f7f7f7"
            ],
            [
             0.6,
             "#e6f5d0"
            ],
            [
             0.7,
             "#b8e186"
            ],
            [
             0.8,
             "#7fbc41"
            ],
            [
             0.9,
             "#4d9221"
            ],
            [
             1,
             "#276419"
            ]
           ],
           "sequential": [
            [
             0,
             "#0d0887"
            ],
            [
             0.1111111111111111,
             "#46039f"
            ],
            [
             0.2222222222222222,
             "#7201a8"
            ],
            [
             0.3333333333333333,
             "#9c179e"
            ],
            [
             0.4444444444444444,
             "#bd3786"
            ],
            [
             0.5555555555555556,
             "#d8576b"
            ],
            [
             0.6666666666666666,
             "#ed7953"
            ],
            [
             0.7777777777777778,
             "#fb9f3a"
            ],
            [
             0.8888888888888888,
             "#fdca26"
            ],
            [
             1,
             "#f0f921"
            ]
           ],
           "sequentialminus": [
            [
             0,
             "#0d0887"
            ],
            [
             0.1111111111111111,
             "#46039f"
            ],
            [
             0.2222222222222222,
             "#7201a8"
            ],
            [
             0.3333333333333333,
             "#9c179e"
            ],
            [
             0.4444444444444444,
             "#bd3786"
            ],
            [
             0.5555555555555556,
             "#d8576b"
            ],
            [
             0.6666666666666666,
             "#ed7953"
            ],
            [
             0.7777777777777778,
             "#fb9f3a"
            ],
            [
             0.8888888888888888,
             "#fdca26"
            ],
            [
             1,
             "#f0f921"
            ]
           ]
          },
          "colorway": [
           "#636efa",
           "#EF553B",
           "#00cc96",
           "#ab63fa",
           "#FFA15A",
           "#19d3f3",
           "#FF6692",
           "#B6E880",
           "#FF97FF",
           "#FECB52"
          ],
          "font": {
           "color": "#2a3f5f"
          },
          "geo": {
           "bgcolor": "white",
           "lakecolor": "white",
           "landcolor": "white",
           "showlakes": true,
           "showland": true,
           "subunitcolor": "#C8D4E3"
          },
          "hoverlabel": {
           "align": "left"
          },
          "hovermode": "closest",
          "mapbox": {
           "style": "light"
          },
          "paper_bgcolor": "white",
          "plot_bgcolor": "white",
          "polar": {
           "angularaxis": {
            "gridcolor": "#EBF0F8",
            "linecolor": "#EBF0F8",
            "ticks": ""
           },
           "bgcolor": "white",
           "radialaxis": {
            "gridcolor": "#EBF0F8",
            "linecolor": "#EBF0F8",
            "ticks": ""
           }
          },
          "scene": {
           "xaxis": {
            "backgroundcolor": "white",
            "gridcolor": "#DFE8F3",
            "gridwidth": 2,
            "linecolor": "#EBF0F8",
            "showbackground": true,
            "ticks": "",
            "zerolinecolor": "#EBF0F8"
           },
           "yaxis": {
            "backgroundcolor": "white",
            "gridcolor": "#DFE8F3",
            "gridwidth": 2,
            "linecolor": "#EBF0F8",
            "showbackground": true,
            "ticks": "",
            "zerolinecolor": "#EBF0F8"
           },
           "zaxis": {
            "backgroundcolor": "white",
            "gridcolor": "#DFE8F3",
            "gridwidth": 2,
            "linecolor": "#EBF0F8",
            "showbackground": true,
            "ticks": "",
            "zerolinecolor": "#EBF0F8"
           }
          },
          "shapedefaults": {
           "line": {
            "color": "#2a3f5f"
           }
          },
          "ternary": {
           "aaxis": {
            "gridcolor": "#DFE8F3",
            "linecolor": "#A2B1C6",
            "ticks": ""
           },
           "baxis": {
            "gridcolor": "#DFE8F3",
            "linecolor": "#A2B1C6",
            "ticks": ""
           },
           "bgcolor": "white",
           "caxis": {
            "gridcolor": "#DFE8F3",
            "linecolor": "#A2B1C6",
            "ticks": ""
           }
          },
          "title": {
           "x": 0.05
          },
          "xaxis": {
           "automargin": true,
           "gridcolor": "#EBF0F8",
           "linecolor": "#EBF0F8",
           "ticks": "",
           "title": {
            "standoff": 15
           },
           "zerolinecolor": "#EBF0F8",
           "zerolinewidth": 2
          },
          "yaxis": {
           "automargin": true,
           "gridcolor": "#EBF0F8",
           "linecolor": "#EBF0F8",
           "ticks": "",
           "title": {
            "standoff": 15
           },
           "zerolinecolor": "#EBF0F8",
           "zerolinewidth": 2
          }
         }
        },
        "updatemenus": [
         {
          "buttons": [
           {
            "args": [
             {
              "visible": [
               true,
               false,
               false,
               true,
               true,
               false,
               false,
               true
              ]
             },
             {
              "yaxis": {
               "title": "$\\text{Initial tumour volume in cm}^3$"
              }
             }
            ],
            "label": "Initial tumour volume",
            "method": "update"
           },
           {
            "args": [
             {
              "visible": [
               false,
               true,
               false,
               true,
               false,
               true,
               false,
               true
              ]
             },
             {
              "yaxis": {
               "title": "$\\text{Critical tumour volume in cm}^3$"
              }
             }
            ],
            "label": "Critical tumour volume",
            "method": "update"
           },
           {
            "args": [
             {
              "visible": [
               false,
               false,
               true,
               true,
               false,
               false,
               true,
               true
              ]
             },
             {
              "yaxis": {
               "title": "$\\text{Growth rate in 1/day}$"
              }
             }
            ],
            "label": "Growth rate",
            "method": "update"
           }
          ],
          "direction": "right",
          "pad": {
           "r": 0,
           "t": -10
          },
          "showactive": true,
          "type": "buttons",
          "x": 0,
          "xanchor": "left",
          "y": 1.1,
          "yanchor": "top"
         }
        ]
       }
      }
     },
     "metadata": {},
     "output_type": "display_data"
    }
   ],
   "source": [
    "#\n",
    "# Visualisation of the spread of optimised model parameters for multiple runs from different initial points.\n",
    "#\n",
    "# This cell needs the above optimised initial parameter from psi_0=(1, 1, 1) and the five runs from a random initial starting point, and their respective objective function scores, as well as the data\n",
    "# [parameters, recovered_parameters_scores]\n",
    "#\n",
    "\n",
    "import plotly.colors\n",
    "import plotly.graph_objects as go\n",
    "\n",
    "\n",
    "# Get number of optimisation types\n",
    "n_opt_types = parameters.shape[0]\n",
    "\n",
    "# Define colorscheme\n",
    "colors = plotly.colors.qualitative.Plotly[:n_opt_types]\n",
    "\n",
    "# Get optimised parameters\n",
    "optimised_parameters = parameters\n",
    "\n",
    "# Get optimised parameters\n",
    "scores = recovered_parameters_scores\n",
    "\n",
    "# Create figure\n",
    "fig = go.Figure()\n",
    "\n",
    "# Box plot of optimised model parameters\n",
    "for index in range(n_opt_types):\n",
    "    # Get optimised parameters\n",
    "    params = optimised_parameters[index, ...]\n",
    "\n",
    "    # Get scores\n",
    "    score = scores[index, :]\n",
    "\n",
    "    # Label\n",
    "    label = \"Limited search space\" if index == 0 else \"Unlimited search space\"\n",
    "\n",
    "    # Create box plot of for initial tumour volume\n",
    "    fig.add_trace(\n",
    "        go.Box(\n",
    "            y=params[:, 0],  \n",
    "            name=label,\n",
    "            boxpoints='all',\n",
    "            jitter=0.2,\n",
    "            pointpos=-1.5,\n",
    "            visible=True,\n",
    "            marker=dict(\n",
    "                symbol='circle',\n",
    "                opacity=0.7,\n",
    "                line=dict(color='black', width=1)),\n",
    "            marker_color=colors[index],\n",
    "            line_color=colors[index]))\n",
    "\n",
    "    # Create box plot for critical volume\n",
    "    fig.add_trace(\n",
    "        go.Box(\n",
    "            y=params[:, 1],  \n",
    "            name=label,\n",
    "            boxpoints='all',\n",
    "            jitter=0.2,\n",
    "            pointpos=-1.5,\n",
    "            visible=False,\n",
    "            marker=dict(\n",
    "                symbol='circle',\n",
    "                opacity=0.7,\n",
    "                line=dict(color='black', width=1)),\n",
    "            marker_color=colors[index],\n",
    "            line_color=colors[index]))\n",
    "\n",
    "    # Create box plot of for exponential tumour growth\n",
    "    fig.add_trace(\n",
    "        go.Box(\n",
    "            y=params[:, 2],  \n",
    "            name=label,\n",
    "            boxpoints='all',\n",
    "            jitter=0.2,\n",
    "            pointpos=-1.5,\n",
    "            visible=False,\n",
    "            marker=dict(\n",
    "                symbol='circle',\n",
    "                opacity=0.7,\n",
    "                line=dict(color='black', width=1)),\n",
    "            marker_color=colors[index],\n",
    "            line_color=colors[index]))\n",
    "    \n",
    "    # Create box plot of for objective function score\n",
    "    fig.add_trace(\n",
    "        go.Box(\n",
    "            y=score,  \n",
    "            name=\"Score: \" + label,\n",
    "            boxpoints='all',\n",
    "            jitter=0.2,\n",
    "            pointpos=-1.5,\n",
    "            visible=True,\n",
    "            marker=dict(\n",
    "                symbol='circle',\n",
    "                opacity=0.7,\n",
    "                line=dict(color='black', width=1)),\n",
    "            marker_color=colors[index],\n",
    "            line_color=colors[index]))\n",
    "\n",
    "# Set figure size\n",
    "fig.update_layout(\n",
    "    autosize=True,\n",
    "    template=\"plotly_white\")\n",
    "\n",
    "# Add switch between mice\n",
    "fig.update_layout(\n",
    "    updatemenus=[\n",
    "        dict(\n",
    "            type = \"buttons\",\n",
    "            direction = \"right\",\n",
    "            buttons=list([\n",
    "                dict(\n",
    "                    args=[\n",
    "                        {\"visible\": [True, False, False, True]*2},\n",
    "                        {\"yaxis\": {\"title\": r'$\\text{Initial tumour volume in cm}^3$'}}],\n",
    "                    label=\"Initial tumour volume\",\n",
    "                    method=\"update\"\n",
    "                ),\n",
    "                dict(\n",
    "                    args=[\n",
    "                        {\"visible\": [False, True, False, True]*2},\n",
    "                        {\"yaxis\": {\"title\": r'$\\text{Critical tumour volume in cm}^3$'}}],\n",
    "                    label=\"Critical tumour volume\",\n",
    "                    method=\"update\"\n",
    "                ),\n",
    "                dict(\n",
    "                    args=[\n",
    "                        {\"visible\": [False, False, True, True]*2},\n",
    "                        {\"yaxis\": {\"title\": r'$\\text{Growth rate in 1/day}$'}}],\n",
    "                    label=\"Growth rate\",\n",
    "                    method=\"update\"\n",
    "                )\n",
    "            ]),\n",
    "            pad={\"r\": 0, \"t\": -10},\n",
    "            showactive=True,\n",
    "            x=0.0,\n",
    "            xanchor=\"left\",\n",
    "            y=1.1,\n",
    "            yanchor=\"top\"\n",
    "        )\n",
    "    ]\n",
    ")\n",
    "\n",
    "# Position legend\n",
    "fig.update_layout(legend=dict(\n",
    "    yanchor=\"bottom\",\n",
    "    y=0.01,\n",
    "    xanchor=\"left\",\n",
    "    x=1.05))\n",
    "\n",
    "# Show figure\n",
    "fig.show()\n"
   ]
  },
  {
   "cell_type": "markdown",
   "metadata": {},
   "source": [
    "**Figure 1:** Limited versus unlimited search space. Initialised over $[10^{-3}, 10^3]$"
   ]
  },
  {
   "cell_type": "markdown",
   "metadata": {},
   "source": [
    "Let us now try to understand why the optimisation fails by looking at the objective function over a significant parameter range"
   ]
  },
  {
   "cell_type": "code",
   "execution_count": 89,
   "metadata": {},
   "outputs": [],
   "source": [
    "#\n",
    "# Evaluate objective function over many orders of magnitude.\n",
    "#\n",
    "# This cell needs the above simulated data and the generating set of model parameters\n",
    "# [data_times, data_volumes]\n",
    "#\n",
    "\n",
    "#\n",
    "# Run optimisation multiple times with and without boundaries\n",
    "#\n",
    "# This cell needs the above defined wrapped myokit model and the simulated data, as well as the characteristic time and volume scale:\n",
    "# [PintsModel, simulated_data, characteristic_time, characteristic_volume, true_log_parameters]\n",
    "#\n",
    "\n",
    "import myokit\n",
    "import numpy as np\n",
    "import pints\n",
    "\n",
    "\n",
    "# Define range of model parameters (V_0, V_crit, lambda)\n",
    "initial_volume_range = np.logspace(start=-4, stop=4)\n",
    "critical_volume_range = np.logspace(start=-4, stop=4)\n",
    "growth_rate_range = np.logspace(start=-4, stop=4)\n",
    "\n",
    "# Collect parameter ranges for illustration (next cell)\n",
    "parameter_range = np.vstack((\n",
    "    initial_volume_range,\n",
    "    critical_volume_range,\n",
    "    growth_rate_range))\n",
    "\n",
    "# Convert to dimensionless parameters for simulation (log v_0, log a_0, log a_1)\n",
    "# Shape (n_parameters, n_evaluations)\n",
    "log_parameter_range = np.vstack((\n",
    "    np.log(initial_volume_range / characteristic_volume), \n",
    "    np.log(critical_volume_range / characteristic_volume),\n",
    "    np.log(growth_rate_range * 0.24 * characteristic_time / characteristic_volume)))\n",
    "n_parameters, n_evaluations = log_parameter_range.shape\n",
    "\n",
    "# Define container for objective scores\n",
    "# Shape (n_parameters, n_evaluations)\n",
    "range_scores = np.empty(shape=(n_parameters, n_evaluations))\n",
    "\n",
    "# Convert data times to dimensionless time\n",
    "times = data_times / characteristic_time\n",
    "\n",
    "# Convert data volumes to dimensionless volumes\n",
    "observed_volumes = data_volumes / characteristic_volume\n",
    "\n",
    "# Create inverse problem\n",
    "problem = pints.SingleOutputProblem(PintsModel(), times, observed_volumes)\n",
    "\n",
    "# Create sum of squares error objective function\n",
    "error = pints.SumOfSquaresError(problem)\n",
    "\n",
    "for parameter_id in range(n_parameters):\n",
    "    # Intialise parameters in true parameters (v_0, a_0, a_1)\n",
    "    log_params = true_log_parameters.copy()\n",
    "\n",
    "    for eval_id in range(n_evaluations):\n",
    "        # Update parameters\n",
    "        log_params[parameter_id] = log_parameter_range[parameter_id, eval_id]\n",
    "\n",
    "        try:\n",
    "            range_scores[parameter_id, eval_id] = error(log_params)\n",
    "        except myokit.SimulationError:\n",
    "            range_scores[parameter_id, eval_id] = np.nan"
   ]
  },
  {
   "cell_type": "code",
   "execution_count": 105,
   "metadata": {},
   "outputs": [
    {
     "data": {
      "application/vnd.plotly.v1+json": {
       "config": {
        "plotlyServerURL": "https://plot.ly"
       },
       "data": [
        {
         "hovertemplate": "<b>Varying Initial tumour volume:</b><br>Score: %{y:.02f}<br>Parameter value: %{x:.02f}<br>True parameters: V_0 = 0.14, V_crit = 0.24, lambda = 0.55<br><extra></extra>",
         "mode": "lines",
         "name": "Initial tumour volume",
         "showlegend": true,
         "type": "scatter",
         "visible": true,
         "x": [
          0.0001,
          0.00014563484775012445,
          0.00021209508879201905,
          0.00030888435964774815,
          0.0004498432668969444,
          0.0006551285568595509,
          0.0009540954763499944,
          0.0013894954943731374,
          0.0020235896477251557,
          0.0029470517025518097,
          0.004291934260128779,
          0.0062505519252739694,
          0.009102981779915217,
          0.013257113655901081,
          0.019306977288832496,
          0.02811768697974228,
          0.040949150623804234,
          0.05963623316594643,
          0.08685113737513521,
          0.12648552168552957,
          0.18420699693267145,
          0.2682695795279725,
          0.3906939937054613,
          0.5689866029018293,
          0.8286427728546842,
          1.2067926406393288,
          1.7575106248547894,
          2.559547922699533,
          3.727593720314938,
          5.428675439323859,
          7.9060432109076855,
          11.513953993264458,
          16.768329368110066,
          24.420530945486497,
          35.564803062231285,
          51.79474679231202,
          75.43120063354607,
          109.85411419875572,
          159.98587196060572,
          232.99518105153672,
          339.3221771895323,
          494.1713361323828,
          719.6856730011514,
          1048.1131341546852,
          1526.4179671752302,
          2222.996482526191,
          3237.45754281764,
          4714.8663634573895,
          6866.488450042998,
          10000
         ],
         "y": [
          23.87539278278495,
          22.17924523618853,
          20.439157596720758,
          18.757492868471033,
          17.079985948918832,
          15.408769428786306,
          13.800776439865404,
          12.245990716404712,
          10.73540729300529,
          9.272935759710224,
          7.900983102476884,
          6.588132548663934,
          5.363987969032344,
          4.230130783026007,
          3.1931931909373126,
          2.2502540901754027,
          1.439590204697312,
          0.7661436799484356,
          0.27107490990334676,
          0.014198770008907163,
          0.12197705317045932,
          0.8305467357161348,
          2.5984696047208544,
          6.343163269160481,
          13.860744762480827,
          28.753290662945748,
          58.56981916403502,
          118.62970570574501,
          241.11985322061727,
          493.131728667248,
          1015.8037563339316,
          2106.637577761378,
          4394.014445667496,
          9206.85071384757,
          19358.117361932833,
          40806.27809248845,
          86176.77272699651,
          182230.7061106585,
          385701.935885184,
          816883.7013173258,
          1730859.0317333762,
          3668569.277390236,
          7777211.998643696,
          16489773.068254095,
          34966257.461772814,
          74150434.86660309,
          157252997.31145576,
          333501945.7393189,
          707306379.240361,
          1500111306.2528918
         ]
        },
        {
         "hovertemplate": "<b>Varying Critical tumour volume:</b><br>Score: %{y:.02f}<br>Parameter value: %{x:.02f}<br>True parameters: V_0 = 0.14, V_crit = 0.24, lambda = 0.55<br><extra></extra>",
         "mode": "lines",
         "name": "Critical tumour volume",
         "showlegend": true,
         "type": "scatter",
         "visible": false,
         "x": [
          0.0001,
          0.00014563484775012445,
          0.00021209508879201905,
          0.00030888435964774815,
          0.0004498432668969444,
          0.0006551285568595509,
          0.0009540954763499944,
          0.0013894954943731374,
          0.0020235896477251557,
          0.0029470517025518097,
          0.004291934260128779,
          0.0062505519252739694,
          0.009102981779915217,
          0.013257113655901081,
          0.019306977288832496,
          0.02811768697974228,
          0.040949150623804234,
          0.05963623316594643,
          0.08685113737513521,
          0.12648552168552957,
          0.18420699693267145,
          0.2682695795279725,
          0.3906939937054613,
          0.5689866029018293,
          0.8286427728546842,
          1.2067926406393288,
          1.7575106248547894,
          2.559547922699533,
          3.727593720314938,
          5.428675439323859,
          7.9060432109076855,
          11.513953993264458,
          16.768329368110066,
          24.420530945486497,
          35.564803062231285,
          51.79474679231202,
          75.43120063354607,
          109.85411419875572,
          159.98587196060572,
          232.99518105153672,
          339.3221771895323,
          494.1713361323828,
          719.6856730011514,
          1048.1131341546852,
          1526.4179671752302,
          2222.996482526191,
          3237.45754281764,
          4714.8663634573895,
          6866.488450042998,
          10000
         ],
         "y": [
          4.641451232047949,
          4.638400359467623,
          4.635416495092314,
          4.630933141967901,
          4.62493744509262,
          4.6155706315348155,
          4.60499317861542,
          4.585349777766691,
          4.557583776536884,
          4.523394905659355,
          4.459392061287335,
          4.378570885574613,
          4.260128220203589,
          4.087839805307588,
          3.852300032382236,
          3.5219152110815743,
          3.070920724572442,
          2.469259320604138,
          1.735960154313133,
          0.9167238675657461,
          0.208354788937756,
          0.049244964061940316,
          1.2271917146367124,
          4.826316155625041,
          11.668670190468616,
          21.044838624174723,
          30.293013676639518,
          37.09264112936311,
          41.292623189956814,
          43.75851215005575,
          45.22824280931897,
          46.13193979622751,
          46.70423741707441,
          47.07526477660837,
          47.32017828550487,
          47.48356426950436,
          47.5936103082894,
          47.6681882210055,
          47.71895830442925,
          47.75362013715501,
          47.77736352788038,
          47.79362283651878,
          47.80472893579798,
          47.8123820243551,
          47.81762166886854,
          47.82121228300461,
          47.823674404277405,
          47.8253634334466,
          47.82652245843872,
          47.82731795092922
         ]
        },
        {
         "hovertemplate": "<b>Varying Growth rate:</b><br>Score: %{y:.02f}<br>Parameter value: %{x:.02f}<br>True parameters: V_0 = 0.14, V_crit = 0.24, lambda = 0.55<br><extra></extra>",
         "mode": "lines",
         "name": "Growth rate",
         "showlegend": true,
         "type": "scatter",
         "visible": false,
         "x": [
          0.0001,
          0.00014563484775012445,
          0.00021209508879201905,
          0.00030888435964774815,
          0.0004498432668969444,
          0.0006551285568595509,
          0.0009540954763499944,
          0.0013894954943731374,
          0.0020235896477251557,
          0.0029470517025518097,
          0.004291934260128779,
          0.0062505519252739694,
          0.009102981779915217,
          0.013257113655901081,
          0.019306977288832496,
          0.02811768697974228,
          0.040949150623804234,
          0.05963623316594643,
          0.08685113737513521,
          0.12648552168552957,
          0.18420699693267145,
          0.2682695795279725,
          0.3906939937054613,
          0.5689866029018293,
          0.8286427728546842,
          1.2067926406393288,
          1.7575106248547894,
          2.559547922699533,
          3.727593720314938,
          5.428675439323859,
          7.9060432109076855,
          11.513953993264458,
          16.768329368110066,
          24.420530945486497,
          35.564803062231285,
          51.79474679231202,
          75.43120063354607,
          109.85411419875572,
          159.98587196060572,
          232.99518105153672,
          339.3221771895323,
          494.1713361323828,
          719.6856730011514,
          1048.1131341546852,
          1526.4179671752302,
          2222.996482526191,
          3237.45754281764,
          4714.8663634573895,
          6866.488450042998,
          10000
         ],
         "y": [
          47.820717544182315,
          47.81690370784908,
          47.81134190716611,
          47.803226018198544,
          47.79137257760495,
          47.774182702396715,
          47.749002200397264,
          47.712246039860595,
          47.65855795404149,
          47.57990188237709,
          47.46433691724623,
          47.29382615203894,
          47.0408227812769,
          46.66239778344206,
          46.09166983555247,
          45.22023332198379,
          43.87305908332886,
          41.76983104535431,
          38.48135587013722,
          33.42561418777074,
          26.009067789397523,
          16.117771143243953,
          5.378038863718583,
          0.07950022583870905,
          17.73764289783542,
          101.61766268937653,
          352.7517984680844,
          998.9550900570334,
          2543.335412979298,
          6083.009499408888,
          13989.030232449573,
          31357.47105870315,
          69099.79523992457,
          150508.23269512114,
          325192.9955094684,
          698673.0131922717,
          1495267.4702921018,
          3191518.030680903,
          6799282.123570669,
          14466212.526048616,
          30749818.45198127,
          65319859.24841285,
          138690725.82032773,
          294380390.89245117,
          624700360.5566217,
          1325456452.6052358,
          2811969675.6228805,
          5965154548.053748,
          12653442928.885952,
          26839821301.463444
         ]
        }
       ],
       "layout": {
        "autosize": true,
        "legend": {
         "x": 1.05,
         "xanchor": "left",
         "y": 0.01,
         "yanchor": "bottom"
        },
        "template": {
         "data": {
          "bar": [
           {
            "error_x": {
             "color": "#2a3f5f"
            },
            "error_y": {
             "color": "#2a3f5f"
            },
            "marker": {
             "line": {
              "color": "white",
              "width": 0.5
             }
            },
            "type": "bar"
           }
          ],
          "barpolar": [
           {
            "marker": {
             "line": {
              "color": "white",
              "width": 0.5
             }
            },
            "type": "barpolar"
           }
          ],
          "carpet": [
           {
            "aaxis": {
             "endlinecolor": "#2a3f5f",
             "gridcolor": "#C8D4E3",
             "linecolor": "#C8D4E3",
             "minorgridcolor": "#C8D4E3",
             "startlinecolor": "#2a3f5f"
            },
            "baxis": {
             "endlinecolor": "#2a3f5f",
             "gridcolor": "#C8D4E3",
             "linecolor": "#C8D4E3",
             "minorgridcolor": "#C8D4E3",
             "startlinecolor": "#2a3f5f"
            },
            "type": "carpet"
           }
          ],
          "choropleth": [
           {
            "colorbar": {
             "outlinewidth": 0,
             "ticks": ""
            },
            "type": "choropleth"
           }
          ],
          "contour": [
           {
            "colorbar": {
             "outlinewidth": 0,
             "ticks": ""
            },
            "colorscale": [
             [
              0,
              "#0d0887"
             ],
             [
              0.1111111111111111,
              "#46039f"
             ],
             [
              0.2222222222222222,
              "#7201a8"
             ],
             [
              0.3333333333333333,
              "#9c179e"
             ],
             [
              0.4444444444444444,
              "#bd3786"
             ],
             [
              0.5555555555555556,
              "#d8576b"
             ],
             [
              0.6666666666666666,
              "#ed7953"
             ],
             [
              0.7777777777777778,
              "#fb9f3a"
             ],
             [
              0.8888888888888888,
              "#fdca26"
             ],
             [
              1,
              "#f0f921"
             ]
            ],
            "type": "contour"
           }
          ],
          "contourcarpet": [
           {
            "colorbar": {
             "outlinewidth": 0,
             "ticks": ""
            },
            "type": "contourcarpet"
           }
          ],
          "heatmap": [
           {
            "colorbar": {
             "outlinewidth": 0,
             "ticks": ""
            },
            "colorscale": [
             [
              0,
              "#0d0887"
             ],
             [
              0.1111111111111111,
              "#46039f"
             ],
             [
              0.2222222222222222,
              "#7201a8"
             ],
             [
              0.3333333333333333,
              "#9c179e"
             ],
             [
              0.4444444444444444,
              "#bd3786"
             ],
             [
              0.5555555555555556,
              "#d8576b"
             ],
             [
              0.6666666666666666,
              "#ed7953"
             ],
             [
              0.7777777777777778,
              "#fb9f3a"
             ],
             [
              0.8888888888888888,
              "#fdca26"
             ],
             [
              1,
              "#f0f921"
             ]
            ],
            "type": "heatmap"
           }
          ],
          "heatmapgl": [
           {
            "colorbar": {
             "outlinewidth": 0,
             "ticks": ""
            },
            "colorscale": [
             [
              0,
              "#0d0887"
             ],
             [
              0.1111111111111111,
              "#46039f"
             ],
             [
              0.2222222222222222,
              "#7201a8"
             ],
             [
              0.3333333333333333,
              "#9c179e"
             ],
             [
              0.4444444444444444,
              "#bd3786"
             ],
             [
              0.5555555555555556,
              "#d8576b"
             ],
             [
              0.6666666666666666,
              "#ed7953"
             ],
             [
              0.7777777777777778,
              "#fb9f3a"
             ],
             [
              0.8888888888888888,
              "#fdca26"
             ],
             [
              1,
              "#f0f921"
             ]
            ],
            "type": "heatmapgl"
           }
          ],
          "histogram": [
           {
            "marker": {
             "colorbar": {
              "outlinewidth": 0,
              "ticks": ""
             }
            },
            "type": "histogram"
           }
          ],
          "histogram2d": [
           {
            "colorbar": {
             "outlinewidth": 0,
             "ticks": ""
            },
            "colorscale": [
             [
              0,
              "#0d0887"
             ],
             [
              0.1111111111111111,
              "#46039f"
             ],
             [
              0.2222222222222222,
              "#7201a8"
             ],
             [
              0.3333333333333333,
              "#9c179e"
             ],
             [
              0.4444444444444444,
              "#bd3786"
             ],
             [
              0.5555555555555556,
              "#d8576b"
             ],
             [
              0.6666666666666666,
              "#ed7953"
             ],
             [
              0.7777777777777778,
              "#fb9f3a"
             ],
             [
              0.8888888888888888,
              "#fdca26"
             ],
             [
              1,
              "#f0f921"
             ]
            ],
            "type": "histogram2d"
           }
          ],
          "histogram2dcontour": [
           {
            "colorbar": {
             "outlinewidth": 0,
             "ticks": ""
            },
            "colorscale": [
             [
              0,
              "#0d0887"
             ],
             [
              0.1111111111111111,
              "#46039f"
             ],
             [
              0.2222222222222222,
              "#7201a8"
             ],
             [
              0.3333333333333333,
              "#9c179e"
             ],
             [
              0.4444444444444444,
              "#bd3786"
             ],
             [
              0.5555555555555556,
              "#d8576b"
             ],
             [
              0.6666666666666666,
              "#ed7953"
             ],
             [
              0.7777777777777778,
              "#fb9f3a"
             ],
             [
              0.8888888888888888,
              "#fdca26"
             ],
             [
              1,
              "#f0f921"
             ]
            ],
            "type": "histogram2dcontour"
           }
          ],
          "mesh3d": [
           {
            "colorbar": {
             "outlinewidth": 0,
             "ticks": ""
            },
            "type": "mesh3d"
           }
          ],
          "parcoords": [
           {
            "line": {
             "colorbar": {
              "outlinewidth": 0,
              "ticks": ""
             }
            },
            "type": "parcoords"
           }
          ],
          "pie": [
           {
            "automargin": true,
            "type": "pie"
           }
          ],
          "scatter": [
           {
            "marker": {
             "colorbar": {
              "outlinewidth": 0,
              "ticks": ""
             }
            },
            "type": "scatter"
           }
          ],
          "scatter3d": [
           {
            "line": {
             "colorbar": {
              "outlinewidth": 0,
              "ticks": ""
             }
            },
            "marker": {
             "colorbar": {
              "outlinewidth": 0,
              "ticks": ""
             }
            },
            "type": "scatter3d"
           }
          ],
          "scattercarpet": [
           {
            "marker": {
             "colorbar": {
              "outlinewidth": 0,
              "ticks": ""
             }
            },
            "type": "scattercarpet"
           }
          ],
          "scattergeo": [
           {
            "marker": {
             "colorbar": {
              "outlinewidth": 0,
              "ticks": ""
             }
            },
            "type": "scattergeo"
           }
          ],
          "scattergl": [
           {
            "marker": {
             "colorbar": {
              "outlinewidth": 0,
              "ticks": ""
             }
            },
            "type": "scattergl"
           }
          ],
          "scattermapbox": [
           {
            "marker": {
             "colorbar": {
              "outlinewidth": 0,
              "ticks": ""
             }
            },
            "type": "scattermapbox"
           }
          ],
          "scatterpolar": [
           {
            "marker": {
             "colorbar": {
              "outlinewidth": 0,
              "ticks": ""
             }
            },
            "type": "scatterpolar"
           }
          ],
          "scatterpolargl": [
           {
            "marker": {
             "colorbar": {
              "outlinewidth": 0,
              "ticks": ""
             }
            },
            "type": "scatterpolargl"
           }
          ],
          "scatterternary": [
           {
            "marker": {
             "colorbar": {
              "outlinewidth": 0,
              "ticks": ""
             }
            },
            "type": "scatterternary"
           }
          ],
          "surface": [
           {
            "colorbar": {
             "outlinewidth": 0,
             "ticks": ""
            },
            "colorscale": [
             [
              0,
              "#0d0887"
             ],
             [
              0.1111111111111111,
              "#46039f"
             ],
             [
              0.2222222222222222,
              "#7201a8"
             ],
             [
              0.3333333333333333,
              "#9c179e"
             ],
             [
              0.4444444444444444,
              "#bd3786"
             ],
             [
              0.5555555555555556,
              "#d8576b"
             ],
             [
              0.6666666666666666,
              "#ed7953"
             ],
             [
              0.7777777777777778,
              "#fb9f3a"
             ],
             [
              0.8888888888888888,
              "#fdca26"
             ],
             [
              1,
              "#f0f921"
             ]
            ],
            "type": "surface"
           }
          ],
          "table": [
           {
            "cells": {
             "fill": {
              "color": "#EBF0F8"
             },
             "line": {
              "color": "white"
             }
            },
            "header": {
             "fill": {
              "color": "#C8D4E3"
             },
             "line": {
              "color": "white"
             }
            },
            "type": "table"
           }
          ]
         },
         "layout": {
          "annotationdefaults": {
           "arrowcolor": "#2a3f5f",
           "arrowhead": 0,
           "arrowwidth": 1
          },
          "coloraxis": {
           "colorbar": {
            "outlinewidth": 0,
            "ticks": ""
           }
          },
          "colorscale": {
           "diverging": [
            [
             0,
             "#8e0152"
            ],
            [
             0.1,
             "#c51b7d"
            ],
            [
             0.2,
             "#de77ae"
            ],
            [
             0.3,
             "#f1b6da"
            ],
            [
             0.4,
             "#fde0ef"
            ],
            [
             0.5,
             "#f7f7f7"
            ],
            [
             0.6,
             "#e6f5d0"
            ],
            [
             0.7,
             "#b8e186"
            ],
            [
             0.8,
             "#7fbc41"
            ],
            [
             0.9,
             "#4d9221"
            ],
            [
             1,
             "#276419"
            ]
           ],
           "sequential": [
            [
             0,
             "#0d0887"
            ],
            [
             0.1111111111111111,
             "#46039f"
            ],
            [
             0.2222222222222222,
             "#7201a8"
            ],
            [
             0.3333333333333333,
             "#9c179e"
            ],
            [
             0.4444444444444444,
             "#bd3786"
            ],
            [
             0.5555555555555556,
             "#d8576b"
            ],
            [
             0.6666666666666666,
             "#ed7953"
            ],
            [
             0.7777777777777778,
             "#fb9f3a"
            ],
            [
             0.8888888888888888,
             "#fdca26"
            ],
            [
             1,
             "#f0f921"
            ]
           ],
           "sequentialminus": [
            [
             0,
             "#0d0887"
            ],
            [
             0.1111111111111111,
             "#46039f"
            ],
            [
             0.2222222222222222,
             "#7201a8"
            ],
            [
             0.3333333333333333,
             "#9c179e"
            ],
            [
             0.4444444444444444,
             "#bd3786"
            ],
            [
             0.5555555555555556,
             "#d8576b"
            ],
            [
             0.6666666666666666,
             "#ed7953"
            ],
            [
             0.7777777777777778,
             "#fb9f3a"
            ],
            [
             0.8888888888888888,
             "#fdca26"
            ],
            [
             1,
             "#f0f921"
            ]
           ]
          },
          "colorway": [
           "#636efa",
           "#EF553B",
           "#00cc96",
           "#ab63fa",
           "#FFA15A",
           "#19d3f3",
           "#FF6692",
           "#B6E880",
           "#FF97FF",
           "#FECB52"
          ],
          "font": {
           "color": "#2a3f5f"
          },
          "geo": {
           "bgcolor": "white",
           "lakecolor": "white",
           "landcolor": "white",
           "showlakes": true,
           "showland": true,
           "subunitcolor": "#C8D4E3"
          },
          "hoverlabel": {
           "align": "left"
          },
          "hovermode": "closest",
          "mapbox": {
           "style": "light"
          },
          "paper_bgcolor": "white",
          "plot_bgcolor": "white",
          "polar": {
           "angularaxis": {
            "gridcolor": "#EBF0F8",
            "linecolor": "#EBF0F8",
            "ticks": ""
           },
           "bgcolor": "white",
           "radialaxis": {
            "gridcolor": "#EBF0F8",
            "linecolor": "#EBF0F8",
            "ticks": ""
           }
          },
          "scene": {
           "xaxis": {
            "backgroundcolor": "white",
            "gridcolor": "#DFE8F3",
            "gridwidth": 2,
            "linecolor": "#EBF0F8",
            "showbackground": true,
            "ticks": "",
            "zerolinecolor": "#EBF0F8"
           },
           "yaxis": {
            "backgroundcolor": "white",
            "gridcolor": "#DFE8F3",
            "gridwidth": 2,
            "linecolor": "#EBF0F8",
            "showbackground": true,
            "ticks": "",
            "zerolinecolor": "#EBF0F8"
           },
           "zaxis": {
            "backgroundcolor": "white",
            "gridcolor": "#DFE8F3",
            "gridwidth": 2,
            "linecolor": "#EBF0F8",
            "showbackground": true,
            "ticks": "",
            "zerolinecolor": "#EBF0F8"
           }
          },
          "shapedefaults": {
           "line": {
            "color": "#2a3f5f"
           }
          },
          "ternary": {
           "aaxis": {
            "gridcolor": "#DFE8F3",
            "linecolor": "#A2B1C6",
            "ticks": ""
           },
           "baxis": {
            "gridcolor": "#DFE8F3",
            "linecolor": "#A2B1C6",
            "ticks": ""
           },
           "bgcolor": "white",
           "caxis": {
            "gridcolor": "#DFE8F3",
            "linecolor": "#A2B1C6",
            "ticks": ""
           }
          },
          "title": {
           "x": 0.05
          },
          "xaxis": {
           "automargin": true,
           "gridcolor": "#EBF0F8",
           "linecolor": "#EBF0F8",
           "ticks": "",
           "title": {
            "standoff": 15
           },
           "zerolinecolor": "#EBF0F8",
           "zerolinewidth": 2
          },
          "yaxis": {
           "automargin": true,
           "gridcolor": "#EBF0F8",
           "linecolor": "#EBF0F8",
           "ticks": "",
           "title": {
            "standoff": 15
           },
           "zerolinecolor": "#EBF0F8",
           "zerolinewidth": 2
          }
         }
        },
        "updatemenus": [
         {
          "buttons": [
           {
            "args": [
             {
              "yaxis.type": "linear"
             }
            ],
            "label": "Linear y-scale",
            "method": "relayout"
           },
           {
            "args": [
             {
              "yaxis.type": "log"
             }
            ],
            "label": "Log y-scale",
            "method": "relayout"
           }
          ],
          "direction": "left",
          "pad": {
           "r": 0,
           "t": -10
          },
          "showactive": true,
          "type": "buttons",
          "x": 0,
          "xanchor": "left",
          "y": 1.15,
          "yanchor": "top"
         },
         {
          "buttons": [
           {
            "args": [
             {
              "visible": [
               true,
               false,
               false
              ]
             },
             {
              "xaxis.title": "$\\text{Initial tumour volume in cm}^3$"
             }
            ],
            "label": "Initial tumour volume",
            "method": "update"
           },
           {
            "args": [
             {
              "visible": [
               false,
               true,
               false
              ]
             },
             {
              "xaxis.title": "$\\text{Critical tumour volume in cm}^3$"
             }
            ],
            "label": "Critical tumour volume",
            "method": "update"
           },
           {
            "args": [
             {
              "visible": [
               false,
               false,
               true
              ]
             },
             {
              "xaxis.title": "$\\text{Growth rate in 1/day}$"
             }
            ],
            "label": "Growth rate",
            "method": "update"
           }
          ],
          "direction": "down",
          "pad": {
           "r": 0,
           "t": -10
          },
          "showactive": true,
          "type": "buttons",
          "x": 1.07,
          "xanchor": "left",
          "y": 1.1,
          "yanchor": "top"
         }
        ],
        "xaxis": {
         "title": {
          "text": "$\\text{Initial tumour volume in cm}^3$"
         },
         "type": "log"
        },
        "yaxis": {
         "title": {
          "text": "$\\text{Objective function score in dimensionless}$"
         }
        }
       }
      }
     },
     "metadata": {},
     "output_type": "display_data"
    }
   ],
   "source": [
    "#\n",
    "# Visualise objective over range of model parameters.\n",
    "#\n",
    "# This cell needs above explored range of objective function scores:\n",
    "# [range_scores, parameter_range]\n",
    "#\n",
    "\n",
    "import plotly.graph_objects as go\n",
    "\n",
    "\n",
    "# Define parameter names\n",
    "parameter_names = [\n",
    "    'Initial tumour volume',\n",
    "    'Critical tumour volume',\n",
    "    'Growth rate']\n",
    "\n",
    "# Create figure\n",
    "fig = go.Figure()\n",
    "\n",
    "# Line plots of objective function scores\n",
    "for index, scores in enumerate(range_scores):\n",
    "    # Get parameters\n",
    "    params = parameter_range[index, :]\n",
    "    \n",
    "    # \n",
    "    label\n",
    "\n",
    "    # Scores over range of parameter values\n",
    "    fig.add_trace(go.Scatter(\n",
    "        x=params,\n",
    "        y=scores,\n",
    "        name=parameter_names[index],\n",
    "        showlegend=True,\n",
    "        visible=True if index == 0 else False,\n",
    "        hovertemplate=\n",
    "            \"<b>Varying %s:</b><br>\" % parameter_names[index] +\n",
    "            \"Score: %{y:.02f}<br>\" +\n",
    "            \"Parameter value: %{x:.02f}<br>\" +\n",
    "            \"True parameters: V_0 = 0.14, V_crit = 0.24, lambda = 0.55<br>\" +\n",
    "            \"<extra></extra>\",\n",
    "        mode=\"lines\"))\n",
    "\n",
    "# Set X, Y axis and figure size\n",
    "fig.update_layout(\n",
    "    autosize=True,\n",
    "    xaxis_title=r'$\\text{Initial tumour volume in cm}^3$',\n",
    "    yaxis_title=r'$\\text{Objective function score in dimensionless}$',\n",
    "    xaxis_type='log',\n",
    "    template=\"plotly_white\")\n",
    "\n",
    "# Add switch between linear and log y-scale\n",
    "fig.update_layout(\n",
    "    updatemenus=[\n",
    "        dict(\n",
    "            type = \"buttons\",\n",
    "            direction = \"left\",\n",
    "            buttons=list([\n",
    "                dict(\n",
    "                    args=[{\"yaxis.type\": \"linear\"}],\n",
    "                    label=\"Linear y-scale\",\n",
    "                    method=\"relayout\"\n",
    "                ),\n",
    "                dict(\n",
    "                    args=[{\"yaxis.type\": \"log\"}],\n",
    "                    label=\"Log y-scale\",\n",
    "                    method=\"relayout\"\n",
    "                )\n",
    "            ]),\n",
    "            pad={\"r\": 0, \"t\": -10},\n",
    "            showactive=True,\n",
    "            x=0.0,\n",
    "            xanchor=\"left\",\n",
    "            y=1.15,\n",
    "            yanchor=\"top\"\n",
    "        ),\n",
    "        dict(\n",
    "            type = \"buttons\",\n",
    "            direction = \"down\",\n",
    "            buttons=list([\n",
    "                dict(\n",
    "                    args=[\n",
    "                        {\"visible\": [True, False, False]},\n",
    "                        {\"xaxis.title\": r'$\\text{Initial tumour volume in cm}^3$'}],\n",
    "                    label=\"Initial tumour volume\",\n",
    "                    method=\"update\"\n",
    "                ),\n",
    "                dict(\n",
    "                    args=[\n",
    "                        {\"visible\": [False, True, False]}, \n",
    "                        {\"xaxis.title\": r'$\\text{Critical tumour volume in cm}^3$'}],\n",
    "                    label=\"Critical tumour volume\",\n",
    "                    method=\"update\"\n",
    "                ),\n",
    "                dict(\n",
    "                    args=[\n",
    "                        {\"visible\": [False, False, True]}, \n",
    "                        {\"xaxis.title\": r'$\\text{Growth rate in 1/day}$'}],\n",
    "                    label=\"Growth rate\",\n",
    "                    method=\"update\"\n",
    "                ),\n",
    "            ]),\n",
    "            pad={\"r\": 0, \"t\": -10},\n",
    "            showactive=True,\n",
    "            x=1.07,\n",
    "            xanchor=\"left\",\n",
    "            y=1.1,\n",
    "            yanchor=\"top\"\n",
    "        ),\n",
    "    ]\n",
    ")\n",
    "\n",
    "# Position legend\n",
    "fig.update_layout(legend=dict(\n",
    "    yanchor=\"bottom\",\n",
    "    y=0.01,\n",
    "    xanchor=\"left\",\n",
    "    x=1.05))\n",
    "\n",
    "# Show figure\n",
    "fig.show()"
   ]
  },
  {
   "cell_type": "markdown",
   "metadata": {},
   "source": [
    "**Figure 2:** Error scores when varying each parameter at ones. Everything looks fine if we stay reasonably close to the true solution. We can see already that the objective function score becomes very large"
   ]
  },
  {
   "cell_type": "code",
   "execution_count": 117,
   "metadata": {},
   "outputs": [
    {
     "data": {
      "text/plain": [
       "array([[4.57036993e-22, 1.03055765e-22, 2.81387582e-23, 3.72033470e-24,\n",
       "        4.32167027e-22, 3.97276543e-23, 4.39952606e-22, 4.30252877e-22,\n",
       "        4.45667717e-22, 1.52901886e-22],\n",
       "       [7.57886358e-02,            nan, 4.31347107e-22, 6.52685148e-01,\n",
       "        4.32221700e-22,            nan, 4.34219163e-22, 4.31641708e-22,\n",
       "        6.52685148e-01, 5.02386775e-22]])"
      ]
     },
     "execution_count": 117,
     "metadata": {},
     "output_type": "execute_result"
    }
   ],
   "source": [
    "recovered_parameters_scores"
   ]
  },
  {
   "cell_type": "code",
   "execution_count": 120,
   "metadata": {},
   "outputs": [
    {
     "data": {
      "text/plain": [
       "array([[1.05428730e-019, 1.31133830e-225, 1.07855127e-001],\n",
       "       [            nan,             nan,             nan],\n",
       "       [1.40000000e-001, 2.40000000e-001, 1.32000000e-001],\n",
       "       [5.24897534e-001, 2.14015001e+152, 1.37831284e+151],\n",
       "       [1.40000000e-001, 2.40000000e-001, 1.32000000e-001],\n",
       "       [            nan,             nan,             nan],\n",
       "       [1.40000000e-001, 2.40000000e-001, 1.32000000e-001],\n",
       "       [1.40000000e-001, 2.40000000e-001, 1.32000000e-001],\n",
       "       [5.24897560e-001, 8.00111012e+009, 5.15292507e+008],\n",
       "       [1.40000000e-001, 2.40000000e-001, 1.32000000e-001]])"
      ]
     },
     "execution_count": 120,
     "metadata": {},
     "output_type": "execute_result"
    }
   ],
   "source": [
    "recovered_parameters[1]"
   ]
  },
  {
   "cell_type": "markdown",
   "metadata": {},
   "source": [
    "Model becomes non-identifiable for large critical volumes: score is no longer sensitive to changes in the critical volume and model reduces to \n",
    "\n",
    "\\begin{equation*}\n",
    "    \\frac{\\text{d}V^s_T}{\\text{d}t} \\approx \\lambda V_{\\text{crit}} V^s_T.\n",
    "\\end{equation*}\n",
    "\n",
    "So restricting the search space is really just preventing non-identifiabilities?\n",
    "\n",
    "Let us explore this in detail by fixing the initial tumour volume to the true tumour volume and running an optimisation"
   ]
  },
  {
   "cell_type": "markdown",
   "metadata": {},
   "source": [
    "## Why does rewriting structural model help optimisation?\n",
    "\n",
    "Before\n",
    "\n",
    "\\begin{equation*}\n",
    "    \\frac{\\text{d}V^s_T}{\\text{d}t} = \\frac{2\\lambda _0\\lambda _1 V^s_T}{2\\lambda _0 V^s_T + \\lambda _1}.\n",
    "\\end{equation*}\n",
    "\n",
    "This model does not suffer from non-identifiabilities in any limit."
   ]
  },
  {
   "cell_type": "markdown",
   "metadata": {},
   "source": [
    "## Notebook references\n",
    "\n",
    "- <a name=\"ref1\"> [n1] </a> [Identifiability of the Structural Model for Lung Cancer Growth in Absence of Treatment](https://nbviewer.jupyter.org/github/DavAug/ErlotinibGefitinib/blob/master/notebooks/lung_cancer/control_growth/identifiability.ipynb)\n",
    "- <a name=\"ref2\"> [n2] </a> [Lung Cancer Tumour Growth in Absence of Treatment](https://nbviewer.jupyter.org/github/DavAug/ErlotinibGefitinib/blob/master/notebooks/lung_cancer/control_growth/data_preparation.ipynb)"
   ]
  },
  {
   "cell_type": "markdown",
   "metadata": {},
   "source": [
    "## Bibliography\n",
    "\n",
    "- <a name=\"ref1\"> [1] </a> Eigenmann et. al., Combining Nonclinical Experiments with Translational PKPD Modeling to Differentiate Erlotinib and Gefitinib, Mol Cancer Ther (2016)"
   ]
  }
 ],
 "metadata": {
  "kernelspec": {
   "display_name": "Python 3.7.5 64-bit ('venv': venv)",
   "language": "python",
   "name": "python37564bitvenvvenv6a1cf9e436c848d3930f390a42386651"
  },
  "language_info": {
   "codemirror_mode": {
    "name": "ipython",
    "version": 3
   },
   "file_extension": ".py",
   "mimetype": "text/x-python",
   "name": "python",
   "nbconvert_exporter": "python",
   "pygments_lexer": "ipython3",
   "version": "3.7.5-final"
  }
 },
 "nbformat": 4,
 "nbformat_minor": 2
}