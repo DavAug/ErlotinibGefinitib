{
 "cells": [
  {
   "cell_type": "markdown",
   "metadata": {},
   "source": [
    "# Control Growth Data\n",
    "\n",
    "In [1], the tumour growth inhibition (TGI) PKPD model of Erlotinib and Gefitinib was derived from two separate *in vivo* experiments. In particular, patient-derived tumour explants LXF A677 (adenocarcinoma of the lung) and cell line-derived tumour xenografts VXF A431 (vulva cancer) were subcutaneously implanted in mice. Each experiment comprised a control group and six groups treated with either Erlotinib or Gefitnib at one of three dose levels each. Treatments were orally administered once a day.\n",
    "\n",
    "The inverstigation of the full TGI-PKPD model is not subject of this notebook, but may be found in other notebooks of this repository (reference appear once they exist). Here, we focus on establishing a good understanding of the untreated tumour growth. In particular, this will allow us to critically assess the modelling choices in [1], and explore alternatives. It further allows us to derive posteriors for the growth parameters, that may inform the choice of priors for the full TGI-PKPD model inference.\n",
    "\n",
    "We will now import the data sets and standardise it's format for the inference."
   ]
  },
  {
   "cell_type": "markdown",
   "metadata": {},
   "source": [
    "## Raw LXF A677 control growth data"
   ]
  },
  {
   "cell_type": "code",
   "execution_count": 1,
   "metadata": {
    "tags": []
   },
   "outputs": [
    {
     "output_type": "stream",
     "name": "stdout",
     "text": "Raw LXF A677 Control Growth Data Set:\n"
    },
    {
     "output_type": "execute_result",
     "data": {
      "text/plain": "     #ID  TIME DOSE ADDL II        Y YTYPE CENS  CELL LINE  DOSE GROUP  DRUG  \\\n0     40     0    .    .  .  191.808     2    .          1           0     2   \n1     94     0    .    .  .  77.2475     2    .          1           0     2   \n2     95     0    .    .  .    186.2     2    .          1           0     2   \n3     40     3    0    .  .        .     .    .          1           0     2   \n4     40     4    0    2  1        .     .    .          1           0     2   \n..   ...   ...  ...  ... ..      ...   ...  ...        ...         ...   ...   \n153  140     2    .    .  .  126.852     2    .          1           0     2   \n154   94     4    .    .  .  125.316     2    .          1           0     2   \n155  170     4    .    .  .   109.33     2    .          1           0     2   \n156  170     2    .    .  .   94.221     2    .          1           0     2   \n157   94     2    .    .  .  88.4835     2    .          1           0     2   \n\n     DRUGCAT  EXPERIMENT    BW      YTV  KA     V    KE        w0  \n0          0           2  26.8        .  55  1.11  3.98  191.8080  \n1          0           2  18.3        .  55  1.11  3.98   77.2475  \n2          0           2  22.3        .  55  1.11  3.98  186.2000  \n3          0           2  26.1        .  55  1.11  3.98  191.8080  \n4          0           2  26.5        .  55  1.11  3.98  191.8080  \n..       ...         ...   ...      ...  ..   ...   ...       ...  \n153        0           2  23.6  126.852  55  1.11  3.98   79.3305  \n154        0           2  18.5  125.316  55  1.11  3.98   77.2475  \n155        0           2  27.9   109.33  55  1.11  3.98   80.0565  \n156        0           2  27.7   94.221  55  1.11  3.98   80.0565  \n157        0           2  18.2  88.4835  55  1.11  3.98   77.2475  \n\n[158 rows x 19 columns]",
      "text/html": "<div>\n<style scoped>\n    .dataframe tbody tr th:only-of-type {\n        vertical-align: middle;\n    }\n\n    .dataframe tbody tr th {\n        vertical-align: top;\n    }\n\n    .dataframe thead th {\n        text-align: right;\n    }\n</style>\n<table border=\"1\" class=\"dataframe\">\n  <thead>\n    <tr style=\"text-align: right;\">\n      <th></th>\n      <th>#ID</th>\n      <th>TIME</th>\n      <th>DOSE</th>\n      <th>ADDL</th>\n      <th>II</th>\n      <th>Y</th>\n      <th>YTYPE</th>\n      <th>CENS</th>\n      <th>CELL LINE</th>\n      <th>DOSE GROUP</th>\n      <th>DRUG</th>\n      <th>DRUGCAT</th>\n      <th>EXPERIMENT</th>\n      <th>BW</th>\n      <th>YTV</th>\n      <th>KA</th>\n      <th>V</th>\n      <th>KE</th>\n      <th>w0</th>\n    </tr>\n  </thead>\n  <tbody>\n    <tr>\n      <th>0</th>\n      <td>40</td>\n      <td>0</td>\n      <td>.</td>\n      <td>.</td>\n      <td>.</td>\n      <td>191.808</td>\n      <td>2</td>\n      <td>.</td>\n      <td>1</td>\n      <td>0</td>\n      <td>2</td>\n      <td>0</td>\n      <td>2</td>\n      <td>26.8</td>\n      <td>.</td>\n      <td>55</td>\n      <td>1.11</td>\n      <td>3.98</td>\n      <td>191.8080</td>\n    </tr>\n    <tr>\n      <th>1</th>\n      <td>94</td>\n      <td>0</td>\n      <td>.</td>\n      <td>.</td>\n      <td>.</td>\n      <td>77.2475</td>\n      <td>2</td>\n      <td>.</td>\n      <td>1</td>\n      <td>0</td>\n      <td>2</td>\n      <td>0</td>\n      <td>2</td>\n      <td>18.3</td>\n      <td>.</td>\n      <td>55</td>\n      <td>1.11</td>\n      <td>3.98</td>\n      <td>77.2475</td>\n    </tr>\n    <tr>\n      <th>2</th>\n      <td>95</td>\n      <td>0</td>\n      <td>.</td>\n      <td>.</td>\n      <td>.</td>\n      <td>186.2</td>\n      <td>2</td>\n      <td>.</td>\n      <td>1</td>\n      <td>0</td>\n      <td>2</td>\n      <td>0</td>\n      <td>2</td>\n      <td>22.3</td>\n      <td>.</td>\n      <td>55</td>\n      <td>1.11</td>\n      <td>3.98</td>\n      <td>186.2000</td>\n    </tr>\n    <tr>\n      <th>3</th>\n      <td>40</td>\n      <td>3</td>\n      <td>0</td>\n      <td>.</td>\n      <td>.</td>\n      <td>.</td>\n      <td>.</td>\n      <td>.</td>\n      <td>1</td>\n      <td>0</td>\n      <td>2</td>\n      <td>0</td>\n      <td>2</td>\n      <td>26.1</td>\n      <td>.</td>\n      <td>55</td>\n      <td>1.11</td>\n      <td>3.98</td>\n      <td>191.8080</td>\n    </tr>\n    <tr>\n      <th>4</th>\n      <td>40</td>\n      <td>4</td>\n      <td>0</td>\n      <td>2</td>\n      <td>1</td>\n      <td>.</td>\n      <td>.</td>\n      <td>.</td>\n      <td>1</td>\n      <td>0</td>\n      <td>2</td>\n      <td>0</td>\n      <td>2</td>\n      <td>26.5</td>\n      <td>.</td>\n      <td>55</td>\n      <td>1.11</td>\n      <td>3.98</td>\n      <td>191.8080</td>\n    </tr>\n    <tr>\n      <th>...</th>\n      <td>...</td>\n      <td>...</td>\n      <td>...</td>\n      <td>...</td>\n      <td>...</td>\n      <td>...</td>\n      <td>...</td>\n      <td>...</td>\n      <td>...</td>\n      <td>...</td>\n      <td>...</td>\n      <td>...</td>\n      <td>...</td>\n      <td>...</td>\n      <td>...</td>\n      <td>...</td>\n      <td>...</td>\n      <td>...</td>\n      <td>...</td>\n    </tr>\n    <tr>\n      <th>153</th>\n      <td>140</td>\n      <td>2</td>\n      <td>.</td>\n      <td>.</td>\n      <td>.</td>\n      <td>126.852</td>\n      <td>2</td>\n      <td>.</td>\n      <td>1</td>\n      <td>0</td>\n      <td>2</td>\n      <td>0</td>\n      <td>2</td>\n      <td>23.6</td>\n      <td>126.852</td>\n      <td>55</td>\n      <td>1.11</td>\n      <td>3.98</td>\n      <td>79.3305</td>\n    </tr>\n    <tr>\n      <th>154</th>\n      <td>94</td>\n      <td>4</td>\n      <td>.</td>\n      <td>.</td>\n      <td>.</td>\n      <td>125.316</td>\n      <td>2</td>\n      <td>.</td>\n      <td>1</td>\n      <td>0</td>\n      <td>2</td>\n      <td>0</td>\n      <td>2</td>\n      <td>18.5</td>\n      <td>125.316</td>\n      <td>55</td>\n      <td>1.11</td>\n      <td>3.98</td>\n      <td>77.2475</td>\n    </tr>\n    <tr>\n      <th>155</th>\n      <td>170</td>\n      <td>4</td>\n      <td>.</td>\n      <td>.</td>\n      <td>.</td>\n      <td>109.33</td>\n      <td>2</td>\n      <td>.</td>\n      <td>1</td>\n      <td>0</td>\n      <td>2</td>\n      <td>0</td>\n      <td>2</td>\n      <td>27.9</td>\n      <td>109.33</td>\n      <td>55</td>\n      <td>1.11</td>\n      <td>3.98</td>\n      <td>80.0565</td>\n    </tr>\n    <tr>\n      <th>156</th>\n      <td>170</td>\n      <td>2</td>\n      <td>.</td>\n      <td>.</td>\n      <td>.</td>\n      <td>94.221</td>\n      <td>2</td>\n      <td>.</td>\n      <td>1</td>\n      <td>0</td>\n      <td>2</td>\n      <td>0</td>\n      <td>2</td>\n      <td>27.7</td>\n      <td>94.221</td>\n      <td>55</td>\n      <td>1.11</td>\n      <td>3.98</td>\n      <td>80.0565</td>\n    </tr>\n    <tr>\n      <th>157</th>\n      <td>94</td>\n      <td>2</td>\n      <td>.</td>\n      <td>.</td>\n      <td>.</td>\n      <td>88.4835</td>\n      <td>2</td>\n      <td>.</td>\n      <td>1</td>\n      <td>0</td>\n      <td>2</td>\n      <td>0</td>\n      <td>2</td>\n      <td>18.2</td>\n      <td>88.4835</td>\n      <td>55</td>\n      <td>1.11</td>\n      <td>3.98</td>\n      <td>77.2475</td>\n    </tr>\n  </tbody>\n</table>\n<p>158 rows × 19 columns</p>\n</div>"
     },
     "metadata": {},
     "execution_count": 1
    }
   ],
   "source": [
    "#\n",
    "# Import raw LXF A677 data.\n",
    "#\n",
    "\n",
    "import os\n",
    "import pandas as pd\n",
    "\n",
    "\n",
    "# Import LXF A677 data\n",
    "path = os.getcwd()  # to make import independent of local path structure\n",
    "lxf_data_raw = pd.read_csv(path + '/data_raw/Ctrl_Growth_LXF.csv')\n",
    "\n",
    "# Display data\n",
    "print('Raw LXF A677 Control Growth Data Set:')\n",
    "lxf_data_raw"
   ]
  },
  {
   "cell_type": "markdown",
   "metadata": {},
   "source": [
    "## Raw VXF A341 control growth data"
   ]
  },
  {
   "cell_type": "code",
   "execution_count": 2,
   "metadata": {
    "tags": []
   },
   "outputs": [
    {
     "output_type": "stream",
     "name": "stdout",
     "text": "Raw VXF A341 Control Growth data set:\n"
    },
    {
     "output_type": "execute_result",
     "data": {
      "text/plain": "     #ID  MICE  TIME DOSE ADDL II      TUMOR        YTV     w0\n0      1   708     0    .    .  .       92.5          .   92.5\n1      1   708     3    .    .  .      115.2      115.2   92.5\n2      1   708     3    0    3  1          .          .   92.5\n3      1   708     7    .    .  .      133.2      134.2   92.5\n4      1   708     7    0    2  1          .          .   92.5\n..   ...   ...   ...  ...  ... ..        ...        ...    ...\n128    7   743    30    .    .  .  1304.6875  1304.6875  207.4\n129    7   743    32    .    .  .     1419.6     1419.6  207.4\n130    7   743    35    .    .  .     1530.9     1530.9  207.4\n131    7   743    37    .    .  .  1576.4625  1576.4625  207.4\n132    7   743    39    .    .  .    1713.96    1713.96  207.4\n\n[133 rows x 9 columns]",
      "text/html": "<div>\n<style scoped>\n    .dataframe tbody tr th:only-of-type {\n        vertical-align: middle;\n    }\n\n    .dataframe tbody tr th {\n        vertical-align: top;\n    }\n\n    .dataframe thead th {\n        text-align: right;\n    }\n</style>\n<table border=\"1\" class=\"dataframe\">\n  <thead>\n    <tr style=\"text-align: right;\">\n      <th></th>\n      <th>#ID</th>\n      <th>MICE</th>\n      <th>TIME</th>\n      <th>DOSE</th>\n      <th>ADDL</th>\n      <th>II</th>\n      <th>TUMOR</th>\n      <th>YTV</th>\n      <th>w0</th>\n    </tr>\n  </thead>\n  <tbody>\n    <tr>\n      <th>0</th>\n      <td>1</td>\n      <td>708</td>\n      <td>0</td>\n      <td>.</td>\n      <td>.</td>\n      <td>.</td>\n      <td>92.5</td>\n      <td>.</td>\n      <td>92.5</td>\n    </tr>\n    <tr>\n      <th>1</th>\n      <td>1</td>\n      <td>708</td>\n      <td>3</td>\n      <td>.</td>\n      <td>.</td>\n      <td>.</td>\n      <td>115.2</td>\n      <td>115.2</td>\n      <td>92.5</td>\n    </tr>\n    <tr>\n      <th>2</th>\n      <td>1</td>\n      <td>708</td>\n      <td>3</td>\n      <td>0</td>\n      <td>3</td>\n      <td>1</td>\n      <td>.</td>\n      <td>.</td>\n      <td>92.5</td>\n    </tr>\n    <tr>\n      <th>3</th>\n      <td>1</td>\n      <td>708</td>\n      <td>7</td>\n      <td>.</td>\n      <td>.</td>\n      <td>.</td>\n      <td>133.2</td>\n      <td>134.2</td>\n      <td>92.5</td>\n    </tr>\n    <tr>\n      <th>4</th>\n      <td>1</td>\n      <td>708</td>\n      <td>7</td>\n      <td>0</td>\n      <td>2</td>\n      <td>1</td>\n      <td>.</td>\n      <td>.</td>\n      <td>92.5</td>\n    </tr>\n    <tr>\n      <th>...</th>\n      <td>...</td>\n      <td>...</td>\n      <td>...</td>\n      <td>...</td>\n      <td>...</td>\n      <td>...</td>\n      <td>...</td>\n      <td>...</td>\n      <td>...</td>\n    </tr>\n    <tr>\n      <th>128</th>\n      <td>7</td>\n      <td>743</td>\n      <td>30</td>\n      <td>.</td>\n      <td>.</td>\n      <td>.</td>\n      <td>1304.6875</td>\n      <td>1304.6875</td>\n      <td>207.4</td>\n    </tr>\n    <tr>\n      <th>129</th>\n      <td>7</td>\n      <td>743</td>\n      <td>32</td>\n      <td>.</td>\n      <td>.</td>\n      <td>.</td>\n      <td>1419.6</td>\n      <td>1419.6</td>\n      <td>207.4</td>\n    </tr>\n    <tr>\n      <th>130</th>\n      <td>7</td>\n      <td>743</td>\n      <td>35</td>\n      <td>.</td>\n      <td>.</td>\n      <td>.</td>\n      <td>1530.9</td>\n      <td>1530.9</td>\n      <td>207.4</td>\n    </tr>\n    <tr>\n      <th>131</th>\n      <td>7</td>\n      <td>743</td>\n      <td>37</td>\n      <td>.</td>\n      <td>.</td>\n      <td>.</td>\n      <td>1576.4625</td>\n      <td>1576.4625</td>\n      <td>207.4</td>\n    </tr>\n    <tr>\n      <th>132</th>\n      <td>7</td>\n      <td>743</td>\n      <td>39</td>\n      <td>.</td>\n      <td>.</td>\n      <td>.</td>\n      <td>1713.96</td>\n      <td>1713.96</td>\n      <td>207.4</td>\n    </tr>\n  </tbody>\n</table>\n<p>133 rows × 9 columns</p>\n</div>"
     },
     "metadata": {},
     "execution_count": 2
    }
   ],
   "source": [
    "#\n",
    "# Import raw VXF A341 data.\n",
    "#\n",
    "\n",
    "import os\n",
    "import pandas as pd\n",
    "\n",
    "\n",
    "# Import VXF A341 data\n",
    "path = os.getcwd()  # to make import independent of local path structure\n",
    "vxf_data_raw = pd.read_csv(path + '/data_raw/Ctrl_Growth_VXF.csv', sep=';')\n",
    "\n",
    "# Display data\n",
    "print('Raw VXF A341 Control Growth data set:')\n",
    "vxf_data_raw"
   ]
  },
  {
   "cell_type": "markdown",
   "metadata": {},
   "source": [
    "## Cleaning the data\n",
    "\n",
    "Note how the first data set seems to contain a lot more information than the second one. However, there is a lot of information that is not relevant for us. These data sets were manipulated with Monolix. That is why the meaning of most column keys can be looked up in the Monolix documentation. However, there are some customised keys whose meaning is not immediately clear. \n",
    "\n",
    "All we really need for our analyis is\n",
    "\n",
    "- **#ID** indicating which mouse was measured,\n",
    "- **TIME** indicating the time point of each measurement,\n",
    "- **TUMOUR VOLUME** indicating the measured tumour volume.\n",
    "\n",
    "While the columns **#ID** and **TIME** are easy to idenitfy in the data sets, **TUMOUR VOLUME** was intentionally chosen to be outside of the existing column keys. In both data sets there exist two keys that may potentially encode for the measured tumour volumes: **Y** and **YTV** in LXF; and **TUMOR** and **YTV** in VXF. The true measurements of the first experiment are easily identified by looking into the Monolix documentation. **Y** is here generally used as an identifier for the observations. For the second table it seems less obvious which column might contain the true data. However, in analogy with the first data set one might suspect that **YTV** is not the actual data. So until this will be clarified at a later stage, we will choose to use **TUMOR** as the true data.\n",
    "\n",
    "Remarks on remaining column keys:\n",
    "\n",
    "- **DOSE**: Seems to be a customised key encoding for the applied dose. This is the control group so we should ensure that this column has only NaN or zero entries.\n",
    "- **ADDL**, **II**: According to Monolix these keys encode for the number of doses (ADDL) to add in addition to the dose in intervals specified by II. Since this is supposed to be the control group, we should filter out any rows with non-null values for these keys.\n",
    "- **YTYPE**, **CENS**: According to Monolix these keys encode for the data type (tumour volume in this case) and whether the measurered values were subject to censoring. We should make sure that censored data should be dealt with accordingly and only one data type is present in the data set.\n",
    "- **CELL LINE**, **DOSE GROUP**, **DRUG**, **EXPERIMENT**: These customised keys are quite self-explanatory. We should make sure that the data we use is uni-valued in these columns.\n",
    "- **DRUGCAT**: The meaning of this key is less clear. It may refer to the drug category encoding for the route of administration. We should make sure that this column is also only uni-valued. If mutliple values are assumed we need to clarify what this column means.\n",
    "- **BW**: refers to the body weight of the mouse at the time of the measurement.\n",
    "- **KA**, **V**, **KE**, **w0**: These keys are customised keys, whose meaning is not immediately clear. They appear to be parameters of the PKPD model. We are interested in infering parameters, so we are not interested in any previously obtained parameters, and choose to ignore this column.\n",
    "\n",
    "Remarks on units of relevant columns:\n",
    "\n",
    "The raw data sets do not contain the units of the measured quantities. From the reference [1], we may however infer that \n",
    "- **TIME**: was measured in $\\text{day}$, and\n",
    "- **TUMOUR VOLUME**: was measured in $\\text{mm}^3$. \n",
    "\n",
    "For reasons that will become clear later, we will choose to measure the tumour volume in $\\text{cm}^3$."
   ]
  },
  {
   "cell_type": "markdown",
   "metadata": {},
   "source": [
    "## LXF A677 control growth data"
   ]
  },
  {
   "cell_type": "code",
   "execution_count": 3,
   "metadata": {
    "tags": []
   },
   "outputs": [
    {
     "output_type": "stream",
     "name": "stdout",
     "text": "LXF A677 Control Growth:\n"
    },
    {
     "output_type": "execute_result",
     "data": {
      "text/plain": "     #ID  TIME in day  TUMOUR VOLUME in cm^3\n0     40            0               1.918080\n1     94            0               0.772475\n2     95            0               1.862000\n59   136            0               1.185885\n60   140            0               0.793305\n..   ...          ...                    ...\n77   136           30              14.593425\n103   94           30               5.762400\n90   169           30               7.469865\n67   140           30              21.225820\n102  170           30               6.206265\n\n[102 rows x 3 columns]",
      "text/html": "<div>\n<style scoped>\n    .dataframe tbody tr th:only-of-type {\n        vertical-align: middle;\n    }\n\n    .dataframe tbody tr th {\n        vertical-align: top;\n    }\n\n    .dataframe thead th {\n        text-align: right;\n    }\n</style>\n<table border=\"1\" class=\"dataframe\">\n  <thead>\n    <tr style=\"text-align: right;\">\n      <th></th>\n      <th>#ID</th>\n      <th>TIME in day</th>\n      <th>TUMOUR VOLUME in cm^3</th>\n    </tr>\n  </thead>\n  <tbody>\n    <tr>\n      <th>0</th>\n      <td>40</td>\n      <td>0</td>\n      <td>1.918080</td>\n    </tr>\n    <tr>\n      <th>1</th>\n      <td>94</td>\n      <td>0</td>\n      <td>0.772475</td>\n    </tr>\n    <tr>\n      <th>2</th>\n      <td>95</td>\n      <td>0</td>\n      <td>1.862000</td>\n    </tr>\n    <tr>\n      <th>59</th>\n      <td>136</td>\n      <td>0</td>\n      <td>1.185885</td>\n    </tr>\n    <tr>\n      <th>60</th>\n      <td>140</td>\n      <td>0</td>\n      <td>0.793305</td>\n    </tr>\n    <tr>\n      <th>...</th>\n      <td>...</td>\n      <td>...</td>\n      <td>...</td>\n    </tr>\n    <tr>\n      <th>77</th>\n      <td>136</td>\n      <td>30</td>\n      <td>14.593425</td>\n    </tr>\n    <tr>\n      <th>103</th>\n      <td>94</td>\n      <td>30</td>\n      <td>5.762400</td>\n    </tr>\n    <tr>\n      <th>90</th>\n      <td>169</td>\n      <td>30</td>\n      <td>7.469865</td>\n    </tr>\n    <tr>\n      <th>67</th>\n      <td>140</td>\n      <td>30</td>\n      <td>21.225820</td>\n    </tr>\n    <tr>\n      <th>102</th>\n      <td>170</td>\n      <td>30</td>\n      <td>6.206265</td>\n    </tr>\n  </tbody>\n</table>\n<p>102 rows × 3 columns</p>\n</div>"
     },
     "metadata": {},
     "execution_count": 3
    }
   ],
   "source": [
    "#\n",
    "# Create LXF A677 data from raw data set.\n",
    "#\n",
    "\n",
    "import os\n",
    "import pandas as pd\n",
    "\n",
    "\n",
    "# Import LXF A677 data\n",
    "path = os.getcwd()  # to make import independent of local path structure\n",
    "lxf_data_raw = pd.read_csv(path + '/data_raw/Ctrl_Growth_LXF.csv')\n",
    "\n",
    "# Make sure that data is stored as numeric data\n",
    "lxf_data = lxf_data_raw.apply(pd.to_numeric, errors='coerce')\n",
    "\n",
    "# Mask data for non-null Y rows\n",
    "lxf_data = lxf_data[lxf_data['Y'].notnull()]\n",
    "\n",
    "# Rename Y to TUMOUR VOLUME in mm^3\n",
    "lxf_data = lxf_data.rename(columns={'Y': 'TUMOUR VOLUME in mm^3'})\n",
    "\n",
    "# Rename TIME to TIME in day\n",
    "lxf_data = lxf_data.rename(columns={'TIME': 'TIME in day'})\n",
    "\n",
    "# Raise error if DOSE, ADDL, II, YTYPE, CENS, CELL LINE, DOSE GROUP, DRUG, EXPERIMENT or DRUGCAT are not uni-valued\n",
    "if len(lxf_data['DOSE'].unique()) > 1:\n",
    "    raise ValueError\n",
    "if len(lxf_data['ADDL'].unique()) > 1:\n",
    "    raise ValueError\n",
    "if len(lxf_data['II'].unique()) > 1:\n",
    "    raise ValueError\n",
    "if len(lxf_data['YTYPE'].unique()) > 1:\n",
    "    raise ValueError\n",
    "if len(lxf_data['CENS'].unique()) > 1:\n",
    "    raise ValueError\n",
    "if len(lxf_data['CELL LINE'].unique()) > 1:\n",
    "    raise ValueError\n",
    "if len(lxf_data['DOSE GROUP'].unique()) > 1:\n",
    "    raise ValueError\n",
    "if len(lxf_data['DRUG'].unique()) > 1:\n",
    "    raise ValueError\n",
    "if len(lxf_data['EXPERIMENT'].unique()) > 1:\n",
    "    raise ValueError\n",
    "if len(lxf_data['DRUGCAT'].unique()) > 1:\n",
    "    raise ValueError\n",
    "\n",
    "# Keep only #ID, TIME and TUMOUR VOLUME column\n",
    "lxf_data = lxf_data[['#ID', 'TIME in day', 'TUMOUR VOLUME in mm^3']]\n",
    "\n",
    "# Sort data such that time is increasing (for later convenience)\n",
    "lxf_data.sort_values('TIME in day', inplace=True)\n",
    "\n",
    "# Convert tumour measurements to cm^3\n",
    "lxf_data['TUMOUR VOLUME in mm^3'] *= 10E-03\n",
    "lxf_data = lxf_data.rename(columns={'TUMOUR VOLUME in mm^3': 'TUMOUR VOLUME in cm^3'})\n",
    "\n",
    "# Delete raw data from memory\n",
    "del lxf_data_raw\n",
    "\n",
    "# Display cleaned data set\n",
    "print('LXF A677 Control Growth:')\n",
    "lxf_data"
   ]
  },
  {
   "cell_type": "markdown",
   "metadata": {},
   "source": [
    "## VXF A341 control growth data"
   ]
  },
  {
   "cell_type": "code",
   "execution_count": 4,
   "metadata": {
    "tags": []
   },
   "outputs": [
    {
     "output_type": "stream",
     "name": "stdout",
     "text": "VXF A341 Control Growth:\n"
    },
    {
     "output_type": "execute_result",
     "data": {
      "text/plain": "     #ID  TIME in day  TUMOUR VOLUME in cm^3\n0     40            0               1.918080\n1     94            0               0.772475\n2     95            0               1.862000\n59   136            0               1.185885\n60   140            0               0.793305\n..   ...          ...                    ...\n77   136           30              14.593425\n103   94           30               5.762400\n90   169           30               7.469865\n67   140           30              21.225820\n102  170           30               6.206265\n\n[102 rows x 3 columns]",
      "text/html": "<div>\n<style scoped>\n    .dataframe tbody tr th:only-of-type {\n        vertical-align: middle;\n    }\n\n    .dataframe tbody tr th {\n        vertical-align: top;\n    }\n\n    .dataframe thead th {\n        text-align: right;\n    }\n</style>\n<table border=\"1\" class=\"dataframe\">\n  <thead>\n    <tr style=\"text-align: right;\">\n      <th></th>\n      <th>#ID</th>\n      <th>TIME in day</th>\n      <th>TUMOUR VOLUME in cm^3</th>\n    </tr>\n  </thead>\n  <tbody>\n    <tr>\n      <th>0</th>\n      <td>40</td>\n      <td>0</td>\n      <td>1.918080</td>\n    </tr>\n    <tr>\n      <th>1</th>\n      <td>94</td>\n      <td>0</td>\n      <td>0.772475</td>\n    </tr>\n    <tr>\n      <th>2</th>\n      <td>95</td>\n      <td>0</td>\n      <td>1.862000</td>\n    </tr>\n    <tr>\n      <th>59</th>\n      <td>136</td>\n      <td>0</td>\n      <td>1.185885</td>\n    </tr>\n    <tr>\n      <th>60</th>\n      <td>140</td>\n      <td>0</td>\n      <td>0.793305</td>\n    </tr>\n    <tr>\n      <th>...</th>\n      <td>...</td>\n      <td>...</td>\n      <td>...</td>\n    </tr>\n    <tr>\n      <th>77</th>\n      <td>136</td>\n      <td>30</td>\n      <td>14.593425</td>\n    </tr>\n    <tr>\n      <th>103</th>\n      <td>94</td>\n      <td>30</td>\n      <td>5.762400</td>\n    </tr>\n    <tr>\n      <th>90</th>\n      <td>169</td>\n      <td>30</td>\n      <td>7.469865</td>\n    </tr>\n    <tr>\n      <th>67</th>\n      <td>140</td>\n      <td>30</td>\n      <td>21.225820</td>\n    </tr>\n    <tr>\n      <th>102</th>\n      <td>170</td>\n      <td>30</td>\n      <td>6.206265</td>\n    </tr>\n  </tbody>\n</table>\n<p>102 rows × 3 columns</p>\n</div>"
     },
     "metadata": {},
     "execution_count": 4
    }
   ],
   "source": [
    "#\n",
    "# Create VXF A341 data from raw data set.\n",
    "#\n",
    "import os\n",
    "import pandas as pd\n",
    "\n",
    "\n",
    "# Import LXF A677 data\n",
    "path = os.getcwd()  # to make import independent of local path structure\n",
    "vxf_data_raw = pd.read_csv(path + '/data_raw/Ctrl_Growth_VXF.csv', sep=';')\n",
    "\n",
    "# Make sure that data is stored as numeric data\n",
    "vxf_data = vxf_data_raw.apply(pd.to_numeric, errors='coerce')\n",
    "\n",
    "# Mask data for rows where TUMOR and YTV coincide\n",
    "vxf_data = vxf_data[vxf_data['TUMOR'].notnull()]\n",
    "\n",
    "# Rename TUMOR to TUMOUR VOLUME in mm^3\n",
    "vxf_data = vxf_data.rename(columns={'TUMOR': 'TUMOUR VOLUME in mm^3'})\n",
    "\n",
    "# Rename TIME to TIME in day\n",
    "vxf_data = vxf_data.rename(columns={'TIME': 'TIME in day'})\n",
    "\n",
    "# Raise error if DOSE, ADDL or II are not uni-valued\n",
    "if len(vxf_data['DOSE'].unique()) > 1:\n",
    "    raise ValueError\n",
    "if len(vxf_data['ADDL'].unique()) > 1:\n",
    "    raise ValueError\n",
    "if len(vxf_data['II'].unique()) > 1:\n",
    "    raise ValueError\n",
    "\n",
    "# Keep only #ID, TIME and TUMOUR VOLUME column\n",
    "vxf_data = vxf_data[['#ID', 'TIME in day', 'TUMOUR VOLUME in mm^3']]\n",
    "\n",
    "# Sort data such that time is increasing (for later convenience)\n",
    "vxf_data.sort_values('TIME in day', inplace=True)\n",
    "\n",
    "# Convert tumour measurements to cm^3\n",
    "vxf_data['TUMOUR VOLUME in mm^3'] *= 10E-03\n",
    "vxf_data = lxf_data.rename(columns={'TUMOUR VOLUME in mm^3': 'TUMOUR VOLUME in cm^3'})\n",
    "\n",
    "# Delete raw data from memory\n",
    "del vxf_data_raw\n",
    "\n",
    "# Display cleaned data set\n",
    "print('VXF A341 Control Growth:')\n",
    "vxf_data"
   ]
  },
  {
   "cell_type": "markdown",
   "metadata": {},
   "source": [
    "## Export cleaned data"
   ]
  },
  {
   "cell_type": "code",
   "execution_count": 5,
   "metadata": {},
   "outputs": [],
   "source": [
    "#\n",
    "# Export cleaned data sets for inference in other notebooks.\n",
    "#\n",
    "\n",
    "import os\n",
    "import pandas as pd\n",
    "\n",
    "\n",
    "# Get path of current working directory\n",
    "path = os.getcwd()\n",
    "\n",
    "# Export cleaned LXF A677 control growth data\n",
    "lxf_data.to_csv(path + '/data/lxf_control_growth.csv')\n",
    "\n",
    "# Export cleaned VXF A341 control growth data\n",
    "vxf_data.to_csv(path + '/data/vxf_control_growth.csv')"
   ]
  },
  {
   "cell_type": "markdown",
   "metadata": {},
   "source": [
    "## Bibliography\n",
    "\n",
    "- <a name=\"ref1\"> [1] </a> Eigenmann et. al., Combining Nonclinical Experiments with Translational PKPD Modeling to Differentiate Erlotinib and Gefitinib, Mol Cancer Ther (2016)"
   ]
  },
  {
   "cell_type": "markdown",
   "metadata": {},
   "source": [
    "[Back to project overview](https://github.com/DavAug/ErlotinibGefitinib/blob/master/README.md)"
   ]
  }
 ],
 "metadata": {
  "language_info": {
   "codemirror_mode": {
    "name": "ipython",
    "version": 3
   },
   "file_extension": ".py",
   "mimetype": "text/x-python",
   "name": "python",
   "nbconvert_exporter": "python",
   "pygments_lexer": "ipython3",
   "version": "3.7.5-final"
  },
  "orig_nbformat": 2,
  "kernelspec": {
   "name": "python37564bitvenvvenv16524ab6d9c04010a849c4faf6663120",
   "display_name": "Python 3.7.5 64-bit ('venv': venv)"
  }
 },
 "nbformat": 4,
 "nbformat_minor": 2
}