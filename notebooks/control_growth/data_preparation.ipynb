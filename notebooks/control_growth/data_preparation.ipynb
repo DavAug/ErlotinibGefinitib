{
 "cells": [
  {
   "cell_type": "markdown",
   "metadata": {},
   "source": [
    "# Control Growth Data\n",
    "\n",
    "In [1], the tumour growth inhibition (TGI) PKPD model of Erlotinib and Gefitinib was derived from two separate *in vivo* experiments. In particular, patient-derived tumour explants LXF A677 (adenocarcinoma of the lung) and cell line-derived tumour xenografts VXF A431 (vulva cancer) were subcutaneously implanted in mice. Each experiment comprised a control group and six groups treated with either Erlotinib or Gefitnib at one of three dose levels each. Treatments were orally administered once a day.\n",
    "\n",
    "The inverstigation of the full TGI-PKPD model is not subject of this notebook, but may be found in other notebooks of this repository (reference appear once they exist). Here, we focus on establishing a good understanding of the untreated tumour growth. In particular, this will allow us to critically assess the modelling choices in [1], and explore alternatives. It further allows us to derive posteriors for the growth parameters, that may inform the choice of priors for the full TGI-PKPD model inference.\n",
    "\n",
    "We will now import the data sets and standardise it's format for the inference."
   ]
  },
  {
   "cell_type": "markdown",
   "metadata": {},
   "source": [
    "## Raw LXF A677 control growth data"
   ]
  },
  {
   "cell_type": "code",
   "execution_count": 1,
   "metadata": {
    "tags": []
   },
   "outputs": [
    {
     "name": "stdout",
     "output_type": "stream",
     "text": [
      "Raw LXF A677 Control Growth Data Set:\n"
     ]
    },
    {
     "data": {
      "text/html": [
       "<div>\n",
       "<style scoped>\n",
       "    .dataframe tbody tr th:only-of-type {\n",
       "        vertical-align: middle;\n",
       "    }\n",
       "\n",
       "    .dataframe tbody tr th {\n",
       "        vertical-align: top;\n",
       "    }\n",
       "\n",
       "    .dataframe thead th {\n",
       "        text-align: right;\n",
       "    }\n",
       "</style>\n",
       "<table border=\"1\" class=\"dataframe\">\n",
       "  <thead>\n",
       "    <tr style=\"text-align: right;\">\n",
       "      <th></th>\n",
       "      <th>#ID</th>\n",
       "      <th>TIME</th>\n",
       "      <th>DOSE</th>\n",
       "      <th>ADDL</th>\n",
       "      <th>II</th>\n",
       "      <th>Y</th>\n",
       "      <th>YTYPE</th>\n",
       "      <th>CENS</th>\n",
       "      <th>CELL LINE</th>\n",
       "      <th>DOSE GROUP</th>\n",
       "      <th>DRUG</th>\n",
       "      <th>DRUGCAT</th>\n",
       "      <th>EXPERIMENT</th>\n",
       "      <th>BW</th>\n",
       "      <th>YTV</th>\n",
       "      <th>KA</th>\n",
       "      <th>V</th>\n",
       "      <th>KE</th>\n",
       "      <th>w0</th>\n",
       "    </tr>\n",
       "  </thead>\n",
       "  <tbody>\n",
       "    <tr>\n",
       "      <th>0</th>\n",
       "      <td>40</td>\n",
       "      <td>0</td>\n",
       "      <td>.</td>\n",
       "      <td>.</td>\n",
       "      <td>.</td>\n",
       "      <td>191.808</td>\n",
       "      <td>2</td>\n",
       "      <td>.</td>\n",
       "      <td>1</td>\n",
       "      <td>0</td>\n",
       "      <td>2</td>\n",
       "      <td>0</td>\n",
       "      <td>2</td>\n",
       "      <td>26.8</td>\n",
       "      <td>.</td>\n",
       "      <td>55</td>\n",
       "      <td>1.11</td>\n",
       "      <td>3.98</td>\n",
       "      <td>191.8080</td>\n",
       "    </tr>\n",
       "    <tr>\n",
       "      <th>1</th>\n",
       "      <td>94</td>\n",
       "      <td>0</td>\n",
       "      <td>.</td>\n",
       "      <td>.</td>\n",
       "      <td>.</td>\n",
       "      <td>77.2475</td>\n",
       "      <td>2</td>\n",
       "      <td>.</td>\n",
       "      <td>1</td>\n",
       "      <td>0</td>\n",
       "      <td>2</td>\n",
       "      <td>0</td>\n",
       "      <td>2</td>\n",
       "      <td>18.3</td>\n",
       "      <td>.</td>\n",
       "      <td>55</td>\n",
       "      <td>1.11</td>\n",
       "      <td>3.98</td>\n",
       "      <td>77.2475</td>\n",
       "    </tr>\n",
       "    <tr>\n",
       "      <th>2</th>\n",
       "      <td>95</td>\n",
       "      <td>0</td>\n",
       "      <td>.</td>\n",
       "      <td>.</td>\n",
       "      <td>.</td>\n",
       "      <td>186.2</td>\n",
       "      <td>2</td>\n",
       "      <td>.</td>\n",
       "      <td>1</td>\n",
       "      <td>0</td>\n",
       "      <td>2</td>\n",
       "      <td>0</td>\n",
       "      <td>2</td>\n",
       "      <td>22.3</td>\n",
       "      <td>.</td>\n",
       "      <td>55</td>\n",
       "      <td>1.11</td>\n",
       "      <td>3.98</td>\n",
       "      <td>186.2000</td>\n",
       "    </tr>\n",
       "    <tr>\n",
       "      <th>3</th>\n",
       "      <td>40</td>\n",
       "      <td>3</td>\n",
       "      <td>0</td>\n",
       "      <td>.</td>\n",
       "      <td>.</td>\n",
       "      <td>.</td>\n",
       "      <td>.</td>\n",
       "      <td>.</td>\n",
       "      <td>1</td>\n",
       "      <td>0</td>\n",
       "      <td>2</td>\n",
       "      <td>0</td>\n",
       "      <td>2</td>\n",
       "      <td>26.1</td>\n",
       "      <td>.</td>\n",
       "      <td>55</td>\n",
       "      <td>1.11</td>\n",
       "      <td>3.98</td>\n",
       "      <td>191.8080</td>\n",
       "    </tr>\n",
       "    <tr>\n",
       "      <th>4</th>\n",
       "      <td>40</td>\n",
       "      <td>4</td>\n",
       "      <td>0</td>\n",
       "      <td>2</td>\n",
       "      <td>1</td>\n",
       "      <td>.</td>\n",
       "      <td>.</td>\n",
       "      <td>.</td>\n",
       "      <td>1</td>\n",
       "      <td>0</td>\n",
       "      <td>2</td>\n",
       "      <td>0</td>\n",
       "      <td>2</td>\n",
       "      <td>26.5</td>\n",
       "      <td>.</td>\n",
       "      <td>55</td>\n",
       "      <td>1.11</td>\n",
       "      <td>3.98</td>\n",
       "      <td>191.8080</td>\n",
       "    </tr>\n",
       "    <tr>\n",
       "      <th>...</th>\n",
       "      <td>...</td>\n",
       "      <td>...</td>\n",
       "      <td>...</td>\n",
       "      <td>...</td>\n",
       "      <td>...</td>\n",
       "      <td>...</td>\n",
       "      <td>...</td>\n",
       "      <td>...</td>\n",
       "      <td>...</td>\n",
       "      <td>...</td>\n",
       "      <td>...</td>\n",
       "      <td>...</td>\n",
       "      <td>...</td>\n",
       "      <td>...</td>\n",
       "      <td>...</td>\n",
       "      <td>...</td>\n",
       "      <td>...</td>\n",
       "      <td>...</td>\n",
       "      <td>...</td>\n",
       "    </tr>\n",
       "    <tr>\n",
       "      <th>153</th>\n",
       "      <td>140</td>\n",
       "      <td>2</td>\n",
       "      <td>.</td>\n",
       "      <td>.</td>\n",
       "      <td>.</td>\n",
       "      <td>126.852</td>\n",
       "      <td>2</td>\n",
       "      <td>.</td>\n",
       "      <td>1</td>\n",
       "      <td>0</td>\n",
       "      <td>2</td>\n",
       "      <td>0</td>\n",
       "      <td>2</td>\n",
       "      <td>23.6</td>\n",
       "      <td>126.852</td>\n",
       "      <td>55</td>\n",
       "      <td>1.11</td>\n",
       "      <td>3.98</td>\n",
       "      <td>79.3305</td>\n",
       "    </tr>\n",
       "    <tr>\n",
       "      <th>154</th>\n",
       "      <td>94</td>\n",
       "      <td>4</td>\n",
       "      <td>.</td>\n",
       "      <td>.</td>\n",
       "      <td>.</td>\n",
       "      <td>125.316</td>\n",
       "      <td>2</td>\n",
       "      <td>.</td>\n",
       "      <td>1</td>\n",
       "      <td>0</td>\n",
       "      <td>2</td>\n",
       "      <td>0</td>\n",
       "      <td>2</td>\n",
       "      <td>18.5</td>\n",
       "      <td>125.316</td>\n",
       "      <td>55</td>\n",
       "      <td>1.11</td>\n",
       "      <td>3.98</td>\n",
       "      <td>77.2475</td>\n",
       "    </tr>\n",
       "    <tr>\n",
       "      <th>155</th>\n",
       "      <td>170</td>\n",
       "      <td>4</td>\n",
       "      <td>.</td>\n",
       "      <td>.</td>\n",
       "      <td>.</td>\n",
       "      <td>109.33</td>\n",
       "      <td>2</td>\n",
       "      <td>.</td>\n",
       "      <td>1</td>\n",
       "      <td>0</td>\n",
       "      <td>2</td>\n",
       "      <td>0</td>\n",
       "      <td>2</td>\n",
       "      <td>27.9</td>\n",
       "      <td>109.33</td>\n",
       "      <td>55</td>\n",
       "      <td>1.11</td>\n",
       "      <td>3.98</td>\n",
       "      <td>80.0565</td>\n",
       "    </tr>\n",
       "    <tr>\n",
       "      <th>156</th>\n",
       "      <td>170</td>\n",
       "      <td>2</td>\n",
       "      <td>.</td>\n",
       "      <td>.</td>\n",
       "      <td>.</td>\n",
       "      <td>94.221</td>\n",
       "      <td>2</td>\n",
       "      <td>.</td>\n",
       "      <td>1</td>\n",
       "      <td>0</td>\n",
       "      <td>2</td>\n",
       "      <td>0</td>\n",
       "      <td>2</td>\n",
       "      <td>27.7</td>\n",
       "      <td>94.221</td>\n",
       "      <td>55</td>\n",
       "      <td>1.11</td>\n",
       "      <td>3.98</td>\n",
       "      <td>80.0565</td>\n",
       "    </tr>\n",
       "    <tr>\n",
       "      <th>157</th>\n",
       "      <td>94</td>\n",
       "      <td>2</td>\n",
       "      <td>.</td>\n",
       "      <td>.</td>\n",
       "      <td>.</td>\n",
       "      <td>88.4835</td>\n",
       "      <td>2</td>\n",
       "      <td>.</td>\n",
       "      <td>1</td>\n",
       "      <td>0</td>\n",
       "      <td>2</td>\n",
       "      <td>0</td>\n",
       "      <td>2</td>\n",
       "      <td>18.2</td>\n",
       "      <td>88.4835</td>\n",
       "      <td>55</td>\n",
       "      <td>1.11</td>\n",
       "      <td>3.98</td>\n",
       "      <td>77.2475</td>\n",
       "    </tr>\n",
       "  </tbody>\n",
       "</table>\n",
       "<p>158 rows × 19 columns</p>\n",
       "</div>"
      ],
      "text/plain": [
       "     #ID  TIME DOSE ADDL II        Y YTYPE CENS  CELL LINE  DOSE GROUP  DRUG  \\\n",
       "0     40     0    .    .  .  191.808     2    .          1           0     2   \n",
       "1     94     0    .    .  .  77.2475     2    .          1           0     2   \n",
       "2     95     0    .    .  .    186.2     2    .          1           0     2   \n",
       "3     40     3    0    .  .        .     .    .          1           0     2   \n",
       "4     40     4    0    2  1        .     .    .          1           0     2   \n",
       "..   ...   ...  ...  ... ..      ...   ...  ...        ...         ...   ...   \n",
       "153  140     2    .    .  .  126.852     2    .          1           0     2   \n",
       "154   94     4    .    .  .  125.316     2    .          1           0     2   \n",
       "155  170     4    .    .  .   109.33     2    .          1           0     2   \n",
       "156  170     2    .    .  .   94.221     2    .          1           0     2   \n",
       "157   94     2    .    .  .  88.4835     2    .          1           0     2   \n",
       "\n",
       "     DRUGCAT  EXPERIMENT    BW      YTV  KA     V    KE        w0  \n",
       "0          0           2  26.8        .  55  1.11  3.98  191.8080  \n",
       "1          0           2  18.3        .  55  1.11  3.98   77.2475  \n",
       "2          0           2  22.3        .  55  1.11  3.98  186.2000  \n",
       "3          0           2  26.1        .  55  1.11  3.98  191.8080  \n",
       "4          0           2  26.5        .  55  1.11  3.98  191.8080  \n",
       "..       ...         ...   ...      ...  ..   ...   ...       ...  \n",
       "153        0           2  23.6  126.852  55  1.11  3.98   79.3305  \n",
       "154        0           2  18.5  125.316  55  1.11  3.98   77.2475  \n",
       "155        0           2  27.9   109.33  55  1.11  3.98   80.0565  \n",
       "156        0           2  27.7   94.221  55  1.11  3.98   80.0565  \n",
       "157        0           2  18.2  88.4835  55  1.11  3.98   77.2475  \n",
       "\n",
       "[158 rows x 19 columns]"
      ]
     },
     "execution_count": 1,
     "metadata": {},
     "output_type": "execute_result"
    }
   ],
   "source": [
    "#\n",
    "# Import raw LXF A677 data.\n",
    "#\n",
    "\n",
    "import os\n",
    "import pandas as pd\n",
    "\n",
    "\n",
    "# Import LXF A677 data\n",
    "path = os.getcwd()  # to make import independent of local path structure\n",
    "lxf_data_raw = pd.read_csv(path + '/data_raw/Ctrl_Growth_LXF.csv')\n",
    "\n",
    "# Display data\n",
    "print('Raw LXF A677 Control Growth Data Set:')\n",
    "lxf_data_raw"
   ]
  },
  {
   "cell_type": "markdown",
   "metadata": {},
   "source": [
    "## Raw VXF A341 control growth data"
   ]
  },
  {
   "cell_type": "code",
   "execution_count": 2,
   "metadata": {
    "tags": []
   },
   "outputs": [
    {
     "name": "stdout",
     "output_type": "stream",
     "text": [
      "Raw VXF A341 Control Growth data set:\n"
     ]
    },
    {
     "data": {
      "text/html": [
       "<div>\n",
       "<style scoped>\n",
       "    .dataframe tbody tr th:only-of-type {\n",
       "        vertical-align: middle;\n",
       "    }\n",
       "\n",
       "    .dataframe tbody tr th {\n",
       "        vertical-align: top;\n",
       "    }\n",
       "\n",
       "    .dataframe thead th {\n",
       "        text-align: right;\n",
       "    }\n",
       "</style>\n",
       "<table border=\"1\" class=\"dataframe\">\n",
       "  <thead>\n",
       "    <tr style=\"text-align: right;\">\n",
       "      <th></th>\n",
       "      <th>#ID</th>\n",
       "      <th>MICE</th>\n",
       "      <th>TIME</th>\n",
       "      <th>DOSE</th>\n",
       "      <th>ADDL</th>\n",
       "      <th>II</th>\n",
       "      <th>TUMOR</th>\n",
       "      <th>YTV</th>\n",
       "      <th>w0</th>\n",
       "    </tr>\n",
       "  </thead>\n",
       "  <tbody>\n",
       "    <tr>\n",
       "      <th>0</th>\n",
       "      <td>1</td>\n",
       "      <td>708</td>\n",
       "      <td>0</td>\n",
       "      <td>.</td>\n",
       "      <td>.</td>\n",
       "      <td>.</td>\n",
       "      <td>92.5</td>\n",
       "      <td>.</td>\n",
       "      <td>92.5</td>\n",
       "    </tr>\n",
       "    <tr>\n",
       "      <th>1</th>\n",
       "      <td>1</td>\n",
       "      <td>708</td>\n",
       "      <td>3</td>\n",
       "      <td>.</td>\n",
       "      <td>.</td>\n",
       "      <td>.</td>\n",
       "      <td>115.2</td>\n",
       "      <td>115.2</td>\n",
       "      <td>92.5</td>\n",
       "    </tr>\n",
       "    <tr>\n",
       "      <th>2</th>\n",
       "      <td>1</td>\n",
       "      <td>708</td>\n",
       "      <td>3</td>\n",
       "      <td>0</td>\n",
       "      <td>3</td>\n",
       "      <td>1</td>\n",
       "      <td>.</td>\n",
       "      <td>.</td>\n",
       "      <td>92.5</td>\n",
       "    </tr>\n",
       "    <tr>\n",
       "      <th>3</th>\n",
       "      <td>1</td>\n",
       "      <td>708</td>\n",
       "      <td>7</td>\n",
       "      <td>.</td>\n",
       "      <td>.</td>\n",
       "      <td>.</td>\n",
       "      <td>133.2</td>\n",
       "      <td>134.2</td>\n",
       "      <td>92.5</td>\n",
       "    </tr>\n",
       "    <tr>\n",
       "      <th>4</th>\n",
       "      <td>1</td>\n",
       "      <td>708</td>\n",
       "      <td>7</td>\n",
       "      <td>0</td>\n",
       "      <td>2</td>\n",
       "      <td>1</td>\n",
       "      <td>.</td>\n",
       "      <td>.</td>\n",
       "      <td>92.5</td>\n",
       "    </tr>\n",
       "    <tr>\n",
       "      <th>...</th>\n",
       "      <td>...</td>\n",
       "      <td>...</td>\n",
       "      <td>...</td>\n",
       "      <td>...</td>\n",
       "      <td>...</td>\n",
       "      <td>...</td>\n",
       "      <td>...</td>\n",
       "      <td>...</td>\n",
       "      <td>...</td>\n",
       "    </tr>\n",
       "    <tr>\n",
       "      <th>128</th>\n",
       "      <td>7</td>\n",
       "      <td>743</td>\n",
       "      <td>30</td>\n",
       "      <td>.</td>\n",
       "      <td>.</td>\n",
       "      <td>.</td>\n",
       "      <td>1304.6875</td>\n",
       "      <td>1304.6875</td>\n",
       "      <td>207.4</td>\n",
       "    </tr>\n",
       "    <tr>\n",
       "      <th>129</th>\n",
       "      <td>7</td>\n",
       "      <td>743</td>\n",
       "      <td>32</td>\n",
       "      <td>.</td>\n",
       "      <td>.</td>\n",
       "      <td>.</td>\n",
       "      <td>1419.6</td>\n",
       "      <td>1419.6</td>\n",
       "      <td>207.4</td>\n",
       "    </tr>\n",
       "    <tr>\n",
       "      <th>130</th>\n",
       "      <td>7</td>\n",
       "      <td>743</td>\n",
       "      <td>35</td>\n",
       "      <td>.</td>\n",
       "      <td>.</td>\n",
       "      <td>.</td>\n",
       "      <td>1530.9</td>\n",
       "      <td>1530.9</td>\n",
       "      <td>207.4</td>\n",
       "    </tr>\n",
       "    <tr>\n",
       "      <th>131</th>\n",
       "      <td>7</td>\n",
       "      <td>743</td>\n",
       "      <td>37</td>\n",
       "      <td>.</td>\n",
       "      <td>.</td>\n",
       "      <td>.</td>\n",
       "      <td>1576.4625</td>\n",
       "      <td>1576.4625</td>\n",
       "      <td>207.4</td>\n",
       "    </tr>\n",
       "    <tr>\n",
       "      <th>132</th>\n",
       "      <td>7</td>\n",
       "      <td>743</td>\n",
       "      <td>39</td>\n",
       "      <td>.</td>\n",
       "      <td>.</td>\n",
       "      <td>.</td>\n",
       "      <td>1713.96</td>\n",
       "      <td>1713.96</td>\n",
       "      <td>207.4</td>\n",
       "    </tr>\n",
       "  </tbody>\n",
       "</table>\n",
       "<p>133 rows × 9 columns</p>\n",
       "</div>"
      ],
      "text/plain": [
       "     #ID  MICE  TIME DOSE ADDL II      TUMOR        YTV     w0\n",
       "0      1   708     0    .    .  .       92.5          .   92.5\n",
       "1      1   708     3    .    .  .      115.2      115.2   92.5\n",
       "2      1   708     3    0    3  1          .          .   92.5\n",
       "3      1   708     7    .    .  .      133.2      134.2   92.5\n",
       "4      1   708     7    0    2  1          .          .   92.5\n",
       "..   ...   ...   ...  ...  ... ..        ...        ...    ...\n",
       "128    7   743    30    .    .  .  1304.6875  1304.6875  207.4\n",
       "129    7   743    32    .    .  .     1419.6     1419.6  207.4\n",
       "130    7   743    35    .    .  .     1530.9     1530.9  207.4\n",
       "131    7   743    37    .    .  .  1576.4625  1576.4625  207.4\n",
       "132    7   743    39    .    .  .    1713.96    1713.96  207.4\n",
       "\n",
       "[133 rows x 9 columns]"
      ]
     },
     "execution_count": 2,
     "metadata": {},
     "output_type": "execute_result"
    }
   ],
   "source": [
    "#\n",
    "# Import raw VXF A341 data.\n",
    "#\n",
    "\n",
    "import os\n",
    "import pandas as pd\n",
    "\n",
    "\n",
    "# Import VXF A341 data\n",
    "path = os.getcwd()  # to make import independent of local path structure\n",
    "vxf_data_raw = pd.read_csv(path + '/data_raw/Ctrl_Growth_VXF.csv', sep=';')\n",
    "\n",
    "# Display data\n",
    "print('Raw VXF A341 Control Growth data set:')\n",
    "vxf_data_raw"
   ]
  },
  {
   "cell_type": "markdown",
   "metadata": {},
   "source": [
    "## Cleaning the data\n",
    "\n",
    "Note how the first data set seems to contain a lot more information than the second one. However, there is a lot of information that is not relevant for us. These data sets were manipulated with Monolix. That is why the meaning of most column keys can be looked up in the Monolix documentation. However, there are some customised keys whose meaning is not immediately clear. \n",
    "\n",
    "All we really need for our analyis is\n",
    "\n",
    "- **#ID** indicating which mouse was measured,\n",
    "- **TIME** indicating the time point of each measurement,\n",
    "- **TUMOUR VOLUME** indicating the measured tumour volume.\n",
    "\n",
    "While the columns **#ID** and **TIME** are easy to idenitfy in the data sets, **TUMOUR VOLUME** was intentionally chosen to be outside of the existing column keys. In both data sets there exist two keys that may potentially encode for the measured tumour volumes: **Y** and **YTV** in LXF; and **TUMOR** and **YTV** in VXF. The true measurements of the first experiment are easily identified by looking into the Monolix documentation. **Y** is here generally used as an identifier for the observations. For the second table it seems less obvious which column might contain the true data. However, in analogy with the first data set one might suspect that **YTV** is not the actual data. So until this will be clarified at a later stage, we will choose to use **TUMOR** as the true data.\n",
    "\n",
    "Remarks on remaining column keys:\n",
    "\n",
    "- **DOSE**: Seems to be a customised key encoding for the applied dose. This is the control group so we should ensure that this column has only NaN or zero entries.\n",
    "- **ADDL**, **II**: According to Monolix these keys encode for the number of doses (ADDL) to add in addition to the dose in intervals specified by II. Since this is supposed to be the control group, we should filter out any rows with non-null values for these keys.\n",
    "- **YTYPE**, **CENS**: According to Monolix these keys encode for the data type (tumour volume in this case) and whether the measurered values were subject to censoring. We should make sure that censored data should be dealt with accordingly and only one data type is present in the data set.\n",
    "- **CELL LINE**, **DOSE GROUP**, **DRUG**, **EXPERIMENT**: These customised keys are quite self-explanatory. We should make sure that the data we use is uni-valued in these columns.\n",
    "- **DRUGCAT**: The meaning of this key is less clear. It may refer to the drug category encoding for the route of administration. We should make sure that this column is also only uni-valued. If mutliple values are assumed we need to clarify what this column means.\n",
    "- **BW**: refers to the body weight of the mouse at the time of the measurement.\n",
    "- **KA**, **V**, **KE**, **w0**: These keys are customised keys, whose meaning is not immediately clear. They appear to be parameters of the PKPD model. We are interested in infering parameters, so we are not interested in any previously obtained parameters, and choose to ignore this column.\n",
    "\n",
    "Remarks on units of relevant columns:\n",
    "\n",
    "The raw data sets do not contain the units of the measured quantities. From the reference [1], we may however infer that \n",
    "- **TIME**: was measured in $\\text{day}$, and\n",
    "- **TUMOUR VOLUME**: was measured in $\\text{mm}^3$. \n",
    "\n",
    "For reasons that will become clear later, we will choose to measure the tumour volume in $\\text{cm}^3$."
   ]
  },
  {
   "cell_type": "markdown",
   "metadata": {},
   "source": [
    "## LXF A677 control growth data"
   ]
  },
  {
   "cell_type": "code",
   "execution_count": 3,
   "metadata": {
    "tags": []
   },
   "outputs": [
    {
     "name": "stdout",
     "output_type": "stream",
     "text": [
      "LXF A677 Control Growth:\n"
     ]
    },
    {
     "data": {
      "text/html": [
       "<div>\n",
       "<style scoped>\n",
       "    .dataframe tbody tr th:only-of-type {\n",
       "        vertical-align: middle;\n",
       "    }\n",
       "\n",
       "    .dataframe tbody tr th {\n",
       "        vertical-align: top;\n",
       "    }\n",
       "\n",
       "    .dataframe thead th {\n",
       "        text-align: right;\n",
       "    }\n",
       "</style>\n",
       "<table border=\"1\" class=\"dataframe\">\n",
       "  <thead>\n",
       "    <tr style=\"text-align: right;\">\n",
       "      <th></th>\n",
       "      <th>#ID</th>\n",
       "      <th>TIME in day</th>\n",
       "      <th>TUMOUR VOLUME in cm^3</th>\n",
       "    </tr>\n",
       "  </thead>\n",
       "  <tbody>\n",
       "    <tr>\n",
       "      <th>0</th>\n",
       "      <td>40</td>\n",
       "      <td>0</td>\n",
       "      <td>1.918080</td>\n",
       "    </tr>\n",
       "    <tr>\n",
       "      <th>1</th>\n",
       "      <td>94</td>\n",
       "      <td>0</td>\n",
       "      <td>0.772475</td>\n",
       "    </tr>\n",
       "    <tr>\n",
       "      <th>2</th>\n",
       "      <td>95</td>\n",
       "      <td>0</td>\n",
       "      <td>1.862000</td>\n",
       "    </tr>\n",
       "    <tr>\n",
       "      <th>59</th>\n",
       "      <td>136</td>\n",
       "      <td>0</td>\n",
       "      <td>1.185885</td>\n",
       "    </tr>\n",
       "    <tr>\n",
       "      <th>60</th>\n",
       "      <td>140</td>\n",
       "      <td>0</td>\n",
       "      <td>0.793305</td>\n",
       "    </tr>\n",
       "    <tr>\n",
       "      <th>...</th>\n",
       "      <td>...</td>\n",
       "      <td>...</td>\n",
       "      <td>...</td>\n",
       "    </tr>\n",
       "    <tr>\n",
       "      <th>77</th>\n",
       "      <td>136</td>\n",
       "      <td>30</td>\n",
       "      <td>14.593425</td>\n",
       "    </tr>\n",
       "    <tr>\n",
       "      <th>103</th>\n",
       "      <td>94</td>\n",
       "      <td>30</td>\n",
       "      <td>5.762400</td>\n",
       "    </tr>\n",
       "    <tr>\n",
       "      <th>90</th>\n",
       "      <td>169</td>\n",
       "      <td>30</td>\n",
       "      <td>7.469865</td>\n",
       "    </tr>\n",
       "    <tr>\n",
       "      <th>67</th>\n",
       "      <td>140</td>\n",
       "      <td>30</td>\n",
       "      <td>21.225820</td>\n",
       "    </tr>\n",
       "    <tr>\n",
       "      <th>102</th>\n",
       "      <td>170</td>\n",
       "      <td>30</td>\n",
       "      <td>6.206265</td>\n",
       "    </tr>\n",
       "  </tbody>\n",
       "</table>\n",
       "<p>102 rows × 3 columns</p>\n",
       "</div>"
      ],
      "text/plain": [
       "     #ID  TIME in day  TUMOUR VOLUME in cm^3\n",
       "0     40            0               1.918080\n",
       "1     94            0               0.772475\n",
       "2     95            0               1.862000\n",
       "59   136            0               1.185885\n",
       "60   140            0               0.793305\n",
       "..   ...          ...                    ...\n",
       "77   136           30              14.593425\n",
       "103   94           30               5.762400\n",
       "90   169           30               7.469865\n",
       "67   140           30              21.225820\n",
       "102  170           30               6.206265\n",
       "\n",
       "[102 rows x 3 columns]"
      ]
     },
     "execution_count": 3,
     "metadata": {},
     "output_type": "execute_result"
    }
   ],
   "source": [
    "#\n",
    "# Create LXF A677 data from raw data set.\n",
    "#\n",
    "\n",
    "import os\n",
    "import pandas as pd\n",
    "\n",
    "\n",
    "# Import LXF A677 data\n",
    "path = os.getcwd()  # to make import independent of local path structure\n",
    "lxf_data_raw = pd.read_csv(path + '/data_raw/Ctrl_Growth_LXF.csv')\n",
    "\n",
    "# Make sure that data is stored as numeric data\n",
    "lxf_data = lxf_data_raw.apply(pd.to_numeric, errors='coerce')\n",
    "\n",
    "# Mask data for non-null Y rows\n",
    "lxf_data = lxf_data[lxf_data['Y'].notnull()]\n",
    "\n",
    "# Rename Y to TUMOUR VOLUME in mm^3\n",
    "lxf_data = lxf_data.rename(columns={'Y': 'TUMOUR VOLUME in mm^3'})\n",
    "\n",
    "# Rename TIME to TIME in day\n",
    "lxf_data = lxf_data.rename(columns={'TIME': 'TIME in day'})\n",
    "\n",
    "# Raise error if DOSE, ADDL, II, YTYPE, CENS, CELL LINE, DOSE GROUP, DRUG, EXPERIMENT or DRUGCAT are not uni-valued\n",
    "if len(lxf_data['DOSE'].unique()) > 1:\n",
    "    raise ValueError\n",
    "if len(lxf_data['ADDL'].unique()) > 1:\n",
    "    raise ValueError\n",
    "if len(lxf_data['II'].unique()) > 1:\n",
    "    raise ValueError\n",
    "if len(lxf_data['YTYPE'].unique()) > 1:\n",
    "    raise ValueError\n",
    "if len(lxf_data['CENS'].unique()) > 1:\n",
    "    raise ValueError\n",
    "if len(lxf_data['CELL LINE'].unique()) > 1:\n",
    "    raise ValueError\n",
    "if len(lxf_data['DOSE GROUP'].unique()) > 1:\n",
    "    raise ValueError\n",
    "if len(lxf_data['DRUG'].unique()) > 1:\n",
    "    raise ValueError\n",
    "if len(lxf_data['EXPERIMENT'].unique()) > 1:\n",
    "    raise ValueError\n",
    "if len(lxf_data['DRUGCAT'].unique()) > 1:\n",
    "    raise ValueError\n",
    "\n",
    "# Keep only #ID, TIME and TUMOUR VOLUME column\n",
    "lxf_data = lxf_data[['#ID', 'TIME in day', 'TUMOUR VOLUME in mm^3']]\n",
    "\n",
    "# Sort data such that time is increasing (for later convenience)\n",
    "lxf_data.sort_values('TIME in day', inplace=True)\n",
    "\n",
    "# Convert tumour measurements to cm^3\n",
    "lxf_data['TUMOUR VOLUME in mm^3'] *= 10E-03\n",
    "lxf_data = lxf_data.rename(columns={'TUMOUR VOLUME in mm^3': 'TUMOUR VOLUME in cm^3'})\n",
    "\n",
    "# Delete raw data from memory\n",
    "del lxf_data_raw\n",
    "\n",
    "# Display cleaned data set\n",
    "print('LXF A677 Control Growth:')\n",
    "lxf_data"
   ]
  },
  {
   "cell_type": "markdown",
   "metadata": {},
   "source": [
    "## VXF A341 control growth data"
   ]
  },
  {
   "cell_type": "code",
   "execution_count": 4,
   "metadata": {
    "tags": []
   },
   "outputs": [
    {
     "name": "stdout",
     "output_type": "stream",
     "text": [
      "VXF A341 Control Growth:\n"
     ]
    },
    {
     "data": {
      "text/html": [
       "<div>\n",
       "<style scoped>\n",
       "    .dataframe tbody tr th:only-of-type {\n",
       "        vertical-align: middle;\n",
       "    }\n",
       "\n",
       "    .dataframe tbody tr th {\n",
       "        vertical-align: top;\n",
       "    }\n",
       "\n",
       "    .dataframe thead th {\n",
       "        text-align: right;\n",
       "    }\n",
       "</style>\n",
       "<table border=\"1\" class=\"dataframe\">\n",
       "  <thead>\n",
       "    <tr style=\"text-align: right;\">\n",
       "      <th></th>\n",
       "      <th>#ID</th>\n",
       "      <th>TIME in day</th>\n",
       "      <th>TUMOUR VOLUME in cm^3</th>\n",
       "    </tr>\n",
       "  </thead>\n",
       "  <tbody>\n",
       "    <tr>\n",
       "      <th>0</th>\n",
       "      <td>40</td>\n",
       "      <td>0</td>\n",
       "      <td>1.918080</td>\n",
       "    </tr>\n",
       "    <tr>\n",
       "      <th>1</th>\n",
       "      <td>94</td>\n",
       "      <td>0</td>\n",
       "      <td>0.772475</td>\n",
       "    </tr>\n",
       "    <tr>\n",
       "      <th>2</th>\n",
       "      <td>95</td>\n",
       "      <td>0</td>\n",
       "      <td>1.862000</td>\n",
       "    </tr>\n",
       "    <tr>\n",
       "      <th>59</th>\n",
       "      <td>136</td>\n",
       "      <td>0</td>\n",
       "      <td>1.185885</td>\n",
       "    </tr>\n",
       "    <tr>\n",
       "      <th>60</th>\n",
       "      <td>140</td>\n",
       "      <td>0</td>\n",
       "      <td>0.793305</td>\n",
       "    </tr>\n",
       "    <tr>\n",
       "      <th>...</th>\n",
       "      <td>...</td>\n",
       "      <td>...</td>\n",
       "      <td>...</td>\n",
       "    </tr>\n",
       "    <tr>\n",
       "      <th>77</th>\n",
       "      <td>136</td>\n",
       "      <td>30</td>\n",
       "      <td>14.593425</td>\n",
       "    </tr>\n",
       "    <tr>\n",
       "      <th>103</th>\n",
       "      <td>94</td>\n",
       "      <td>30</td>\n",
       "      <td>5.762400</td>\n",
       "    </tr>\n",
       "    <tr>\n",
       "      <th>90</th>\n",
       "      <td>169</td>\n",
       "      <td>30</td>\n",
       "      <td>7.469865</td>\n",
       "    </tr>\n",
       "    <tr>\n",
       "      <th>67</th>\n",
       "      <td>140</td>\n",
       "      <td>30</td>\n",
       "      <td>21.225820</td>\n",
       "    </tr>\n",
       "    <tr>\n",
       "      <th>102</th>\n",
       "      <td>170</td>\n",
       "      <td>30</td>\n",
       "      <td>6.206265</td>\n",
       "    </tr>\n",
       "  </tbody>\n",
       "</table>\n",
       "<p>102 rows × 3 columns</p>\n",
       "</div>"
      ],
      "text/plain": [
       "     #ID  TIME in day  TUMOUR VOLUME in cm^3\n",
       "0     40            0               1.918080\n",
       "1     94            0               0.772475\n",
       "2     95            0               1.862000\n",
       "59   136            0               1.185885\n",
       "60   140            0               0.793305\n",
       "..   ...          ...                    ...\n",
       "77   136           30              14.593425\n",
       "103   94           30               5.762400\n",
       "90   169           30               7.469865\n",
       "67   140           30              21.225820\n",
       "102  170           30               6.206265\n",
       "\n",
       "[102 rows x 3 columns]"
      ]
     },
     "execution_count": 4,
     "metadata": {},
     "output_type": "execute_result"
    }
   ],
   "source": [
    "#\n",
    "# Create VXF A341 data from raw data set.\n",
    "#\n",
    "import os\n",
    "import pandas as pd\n",
    "\n",
    "\n",
    "# Import LXF A677 data\n",
    "path = os.getcwd()  # to make import independent of local path structure\n",
    "vxf_data_raw = pd.read_csv(path + '/data_raw/Ctrl_Growth_VXF.csv', sep=';')\n",
    "\n",
    "# Make sure that data is stored as numeric data\n",
    "vxf_data = vxf_data_raw.apply(pd.to_numeric, errors='coerce')\n",
    "\n",
    "# Mask data for rows where TUMOR and YTV coincide\n",
    "vxf_data = vxf_data[vxf_data['TUMOR'].notnull()]\n",
    "\n",
    "# Rename TUMOR to TUMOUR VOLUME in mm^3\n",
    "vxf_data = vxf_data.rename(columns={'TUMOR': 'TUMOUR VOLUME in mm^3'})\n",
    "\n",
    "# Rename TIME to TIME in day\n",
    "vxf_data = vxf_data.rename(columns={'TIME': 'TIME in day'})\n",
    "\n",
    "# Raise error if DOSE, ADDL or II are not uni-valued\n",
    "if len(vxf_data['DOSE'].unique()) > 1:\n",
    "    raise ValueError\n",
    "if len(vxf_data['ADDL'].unique()) > 1:\n",
    "    raise ValueError\n",
    "if len(vxf_data['II'].unique()) > 1:\n",
    "    raise ValueError\n",
    "\n",
    "# Keep only #ID, TIME and TUMOUR VOLUME column\n",
    "vxf_data = vxf_data[['#ID', 'TIME in day', 'TUMOUR VOLUME in mm^3']]\n",
    "\n",
    "# Sort data such that time is increasing (for later convenience)\n",
    "vxf_data.sort_values('TIME in day', inplace=True)\n",
    "\n",
    "# Convert tumour measurements to cm^3\n",
    "vxf_data['TUMOUR VOLUME in mm^3'] *= 10E-03\n",
    "vxf_data = lxf_data.rename(columns={'TUMOUR VOLUME in mm^3': 'TUMOUR VOLUME in cm^3'})\n",
    "\n",
    "# Delete raw data from memory\n",
    "del vxf_data_raw\n",
    "\n",
    "# Display cleaned data set\n",
    "print('VXF A341 Control Growth:')\n",
    "vxf_data"
   ]
  },
  {
   "cell_type": "markdown",
   "metadata": {},
   "source": [
    "## Illustrate control growth data\n",
    "\n",
    "We use [plotly](https://plotly.com/python/) to create interactive visualisations of the time-series data."
   ]
  },
  {
   "cell_type": "code",
   "execution_count": 27,
   "metadata": {},
   "outputs": [
    {
     "data": {
      "application/vnd.plotly.v1+json": {
       "config": {
        "plotlyServerURL": "https://plot.ly"
       },
       "data": [
        {
         "hovertemplate": "<b>LXF A677 ID: 40</b><br>Time: %{x:} day<br>Tumour volume: %{y:.02f} cm^3<br><extra></extra>",
         "legendgroup": "LXF A677",
         "marker": {
          "line": {
           "color": "black",
           "width": 1
          },
          "opacity": 0.7,
          "symbol": "circle"
         },
         "mode": "markers",
         "name": "LXF A677",
         "showlegend": true,
         "type": "scatter",
         "x": [
          0,
          2,
          4,
          7,
          9,
          11,
          14,
          16,
          18,
          21
         ],
         "y": [
          1.91808,
          2.49158,
          3.30672,
          6.683669999999999,
          9.15008,
          11.192580000000001,
          14.704320000000001,
          16.69248,
          17.52192,
          22.76736
         ]
        },
        {
         "hovertemplate": "<b>LXF A677 ID: 94</b><br>Time: %{x:} day<br>Tumour volume: %{y:.02f} cm^3<br><extra></extra>",
         "legendgroup": "LXF A677",
         "marker": {
          "line": {
           "color": "black",
           "width": 1
          },
          "opacity": 0.7,
          "symbol": "circle"
         },
         "mode": "markers",
         "name": "LXF A677",
         "showlegend": false,
         "type": "scatter",
         "x": [
          0,
          2,
          4,
          7,
          9,
          11,
          14,
          16,
          18,
          21,
          23,
          25,
          28,
          30
         ],
         "y": [
          0.772475,
          0.884835,
          1.25316,
          1.6552799999999999,
          1.89486,
          2.64654,
          2.64654,
          3.0693599999999996,
          3.89207,
          3.89207,
          4.05769,
          4.264715,
          5.55131,
          5.7624
         ]
        },
        {
         "hovertemplate": "<b>LXF A677 ID: 95</b><br>Time: %{x:} day<br>Tumour volume: %{y:.02f} cm^3<br><extra></extra>",
         "legendgroup": "LXF A677",
         "marker": {
          "line": {
           "color": "black",
           "width": 1
          },
          "opacity": 0.7,
          "symbol": "circle"
         },
         "mode": "markers",
         "name": "LXF A677",
         "showlegend": false,
         "type": "scatter",
         "x": [
          0,
          2,
          4,
          7,
          9,
          11,
          14,
          16,
          18,
          21
         ],
         "y": [
          1.8619999999999999,
          2.4642,
          4.293,
          6.2426,
          7.246720000000001,
          7.300800000000001,
          9.196,
          11.31184,
          16.75872,
          23.46616
         ]
        },
        {
         "hovertemplate": "<b>LXF A677 ID: 136</b><br>Time: %{x:} day<br>Tumour volume: %{y:.02f} cm^3<br><extra></extra>",
         "legendgroup": "LXF A677",
         "marker": {
          "line": {
           "color": "black",
           "width": 1
          },
          "opacity": 0.7,
          "symbol": "circle"
         },
         "mode": "markers",
         "name": "LXF A677",
         "showlegend": false,
         "type": "scatter",
         "x": [
          0,
          2,
          4,
          7,
          9,
          11,
          14,
          16,
          18,
          21,
          23,
          25,
          28,
          30
         ],
         "y": [
          1.185885,
          1.75071,
          2.29992,
          3.026885,
          3.026885,
          3.7044,
          5.341545,
          6.5168800000000005,
          7.21287,
          7.873200000000001,
          8.529505,
          11.04558,
          11.328800000000001,
          14.593425
         ]
        },
        {
         "hovertemplate": "<b>LXF A677 ID: 140</b><br>Time: %{x:} day<br>Tumour volume: %{y:.02f} cm^3<br><extra></extra>",
         "legendgroup": "LXF A677",
         "marker": {
          "line": {
           "color": "black",
           "width": 1
          },
          "opacity": 0.7,
          "symbol": "circle"
         },
         "mode": "markers",
         "name": "LXF A677",
         "showlegend": false,
         "type": "scatter",
         "x": [
          0,
          2,
          4,
          7,
          9,
          11,
          14,
          16,
          18,
          21,
          23,
          25,
          28,
          30
         ],
         "y": [
          0.793305,
          1.26852,
          1.46072,
          2.61121,
          3.4574400000000005,
          3.552,
          4.1905,
          4.80298,
          5.56668,
          8.08992,
          8.57304,
          10.97675,
          19.92144,
          21.225820000000002
         ]
        },
        {
         "hovertemplate": "<b>LXF A677 ID: 155</b><br>Time: %{x:} day<br>Tumour volume: %{y:.02f} cm^3<br><extra></extra>",
         "legendgroup": "LXF A677",
         "marker": {
          "line": {
           "color": "black",
           "width": 1
          },
          "opacity": 0.7,
          "symbol": "circle"
         },
         "mode": "markers",
         "name": "LXF A677",
         "showlegend": false,
         "type": "scatter",
         "x": [
          0,
          2,
          4,
          7,
          9,
          11,
          14,
          16,
          18,
          21,
          23,
          25
         ],
         "y": [
          1.05875,
          1.67706,
          3.5632800000000002,
          6.4896,
          6.9222399999999995,
          7.300800000000001,
          8.1648,
          14.949539999999999,
          15.166985,
          17.2405,
          16.37784,
          22.5108
         ]
        },
        {
         "hovertemplate": "<b>LXF A677 ID: 169</b><br>Time: %{x:} day<br>Tumour volume: %{y:.02f} cm^3<br><extra></extra>",
         "legendgroup": "LXF A677",
         "marker": {
          "line": {
           "color": "black",
           "width": 1
          },
          "opacity": 0.7,
          "symbol": "circle"
         },
         "mode": "markers",
         "name": "LXF A677",
         "showlegend": false,
         "type": "scatter",
         "x": [
          0,
          2,
          4,
          7,
          9,
          11,
          14,
          16,
          18,
          21,
          23,
          25,
          28,
          30
         ],
         "y": [
          1.23008,
          1.28774,
          1.764,
          2.0516650000000003,
          2.460535,
          2.7884249999999997,
          3.33036,
          3.56445,
          3.9285,
          4.798590000000001,
          5.390549999999999,
          6.354195,
          7.146180000000001,
          7.4698649999999995
         ]
        },
        {
         "hovertemplate": "<b>LXF A677 ID: 170</b><br>Time: %{x:} day<br>Tumour volume: %{y:.02f} cm^3<br><extra></extra>",
         "legendgroup": "LXF A677",
         "marker": {
          "line": {
           "color": "black",
           "width": 1
          },
          "opacity": 0.7,
          "symbol": "circle"
         },
         "mode": "markers",
         "name": "LXF A677",
         "showlegend": false,
         "type": "scatter",
         "x": [
          0,
          2,
          4,
          7,
          9,
          11,
          14,
          16,
          18,
          21,
          23,
          25,
          28,
          30
         ],
         "y": [
          0.800565,
          0.9422100000000001,
          1.0933,
          1.5899400000000001,
          1.76157,
          1.940785,
          2.041605,
          2.46402,
          3.050865,
          3.683265,
          4.18176,
          4.396155,
          5.661555,
          6.206265
         ]
        },
        {
         "hovertemplate": "<b>VXF A341 ID: 40</b><br>Time: %{x:} day<br>Tumour volume: %{y:.02f} cm^3<br><extra></extra>",
         "legendgroup": "VXF A341",
         "marker": {
          "line": {
           "color": "black",
           "width": 1
          },
          "opacity": 0.7,
          "symbol": "triangle-up"
         },
         "mode": "markers",
         "name": "VXF A341",
         "showlegend": true,
         "type": "scatter",
         "x": [
          0,
          2,
          4,
          7,
          9,
          11,
          14,
          16,
          18,
          21
         ],
         "y": [
          1.91808,
          2.49158,
          3.30672,
          6.683669999999999,
          9.15008,
          11.192580000000001,
          14.704320000000001,
          16.69248,
          17.52192,
          22.76736
         ]
        },
        {
         "hovertemplate": "<b>VXF A341 ID: 94</b><br>Time: %{x:} day<br>Tumour volume: %{y:.02f} cm^3<br><extra></extra>",
         "legendgroup": "VXF A341",
         "marker": {
          "line": {
           "color": "black",
           "width": 1
          },
          "opacity": 0.7,
          "symbol": "triangle-up"
         },
         "mode": "markers",
         "name": "VXF A341",
         "showlegend": false,
         "type": "scatter",
         "x": [
          0,
          2,
          4,
          7,
          9,
          11,
          14,
          16,
          18,
          21,
          23,
          25,
          28,
          30
         ],
         "y": [
          0.772475,
          0.884835,
          1.25316,
          1.6552799999999999,
          1.89486,
          2.64654,
          2.64654,
          3.0693599999999996,
          3.89207,
          3.89207,
          4.05769,
          4.264715,
          5.55131,
          5.7624
         ]
        },
        {
         "hovertemplate": "<b>VXF A341 ID: 95</b><br>Time: %{x:} day<br>Tumour volume: %{y:.02f} cm^3<br><extra></extra>",
         "legendgroup": "VXF A341",
         "marker": {
          "line": {
           "color": "black",
           "width": 1
          },
          "opacity": 0.7,
          "symbol": "triangle-up"
         },
         "mode": "markers",
         "name": "VXF A341",
         "showlegend": false,
         "type": "scatter",
         "x": [
          0,
          2,
          4,
          7,
          9,
          11,
          14,
          16,
          18,
          21
         ],
         "y": [
          1.8619999999999999,
          2.4642,
          4.293,
          6.2426,
          7.246720000000001,
          7.300800000000001,
          9.196,
          11.31184,
          16.75872,
          23.46616
         ]
        },
        {
         "hovertemplate": "<b>VXF A341 ID: 136</b><br>Time: %{x:} day<br>Tumour volume: %{y:.02f} cm^3<br><extra></extra>",
         "legendgroup": "VXF A341",
         "marker": {
          "line": {
           "color": "black",
           "width": 1
          },
          "opacity": 0.7,
          "symbol": "triangle-up"
         },
         "mode": "markers",
         "name": "VXF A341",
         "showlegend": false,
         "type": "scatter",
         "x": [
          0,
          2,
          4,
          7,
          9,
          11,
          14,
          16,
          18,
          21,
          23,
          25,
          28,
          30
         ],
         "y": [
          1.185885,
          1.75071,
          2.29992,
          3.026885,
          3.026885,
          3.7044,
          5.341545,
          6.5168800000000005,
          7.21287,
          7.873200000000001,
          8.529505,
          11.04558,
          11.328800000000001,
          14.593425
         ]
        },
        {
         "hovertemplate": "<b>VXF A341 ID: 140</b><br>Time: %{x:} day<br>Tumour volume: %{y:.02f} cm^3<br><extra></extra>",
         "legendgroup": "VXF A341",
         "marker": {
          "line": {
           "color": "black",
           "width": 1
          },
          "opacity": 0.7,
          "symbol": "triangle-up"
         },
         "mode": "markers",
         "name": "VXF A341",
         "showlegend": false,
         "type": "scatter",
         "x": [
          0,
          2,
          4,
          7,
          9,
          11,
          14,
          16,
          18,
          21,
          23,
          25,
          28,
          30
         ],
         "y": [
          0.793305,
          1.26852,
          1.46072,
          2.61121,
          3.4574400000000005,
          3.552,
          4.1905,
          4.80298,
          5.56668,
          8.08992,
          8.57304,
          10.97675,
          19.92144,
          21.225820000000002
         ]
        },
        {
         "hovertemplate": "<b>VXF A341 ID: 155</b><br>Time: %{x:} day<br>Tumour volume: %{y:.02f} cm^3<br><extra></extra>",
         "legendgroup": "VXF A341",
         "marker": {
          "line": {
           "color": "black",
           "width": 1
          },
          "opacity": 0.7,
          "symbol": "triangle-up"
         },
         "mode": "markers",
         "name": "VXF A341",
         "showlegend": false,
         "type": "scatter",
         "x": [
          0,
          2,
          4,
          7,
          9,
          11,
          14,
          16,
          18,
          21,
          23,
          25
         ],
         "y": [
          1.05875,
          1.67706,
          3.5632800000000002,
          6.4896,
          6.9222399999999995,
          7.300800000000001,
          8.1648,
          14.949539999999999,
          15.166985,
          17.2405,
          16.37784,
          22.5108
         ]
        },
        {
         "hovertemplate": "<b>VXF A341 ID: 169</b><br>Time: %{x:} day<br>Tumour volume: %{y:.02f} cm^3<br><extra></extra>",
         "legendgroup": "VXF A341",
         "marker": {
          "line": {
           "color": "black",
           "width": 1
          },
          "opacity": 0.7,
          "symbol": "triangle-up"
         },
         "mode": "markers",
         "name": "VXF A341",
         "showlegend": false,
         "type": "scatter",
         "x": [
          0,
          2,
          4,
          7,
          9,
          11,
          14,
          16,
          18,
          21,
          23,
          25,
          28,
          30
         ],
         "y": [
          1.23008,
          1.28774,
          1.764,
          2.0516650000000003,
          2.460535,
          2.7884249999999997,
          3.33036,
          3.56445,
          3.9285,
          4.798590000000001,
          5.390549999999999,
          6.354195,
          7.146180000000001,
          7.4698649999999995
         ]
        },
        {
         "hovertemplate": "<b>VXF A341 ID: 170</b><br>Time: %{x:} day<br>Tumour volume: %{y:.02f} cm^3<br><extra></extra>",
         "legendgroup": "VXF A341",
         "marker": {
          "line": {
           "color": "black",
           "width": 1
          },
          "opacity": 0.7,
          "symbol": "triangle-up"
         },
         "mode": "markers",
         "name": "VXF A341",
         "showlegend": false,
         "type": "scatter",
         "x": [
          0,
          2,
          4,
          7,
          9,
          11,
          14,
          16,
          18,
          21,
          23,
          25,
          28,
          30
         ],
         "y": [
          0.800565,
          0.9422100000000001,
          1.0933,
          1.5899400000000001,
          1.76157,
          1.940785,
          2.041605,
          2.46402,
          3.050865,
          3.683265,
          4.18176,
          4.396155,
          5.661555,
          6.206265
         ]
        }
       ],
       "layout": {
        "annotations": [
         {
          "align": "left",
          "showarrow": false,
          "text": "Y-scale: ",
          "x": 0.8,
          "y": 1.1,
          "yref": "paper"
         }
        ],
        "autosize": true,
        "template": {
         "data": {
          "bar": [
           {
            "error_x": {
             "color": "#2a3f5f"
            },
            "error_y": {
             "color": "#2a3f5f"
            },
            "marker": {
             "line": {
              "color": "white",
              "width": 0.5
             }
            },
            "type": "bar"
           }
          ],
          "barpolar": [
           {
            "marker": {
             "line": {
              "color": "white",
              "width": 0.5
             }
            },
            "type": "barpolar"
           }
          ],
          "carpet": [
           {
            "aaxis": {
             "endlinecolor": "#2a3f5f",
             "gridcolor": "#C8D4E3",
             "linecolor": "#C8D4E3",
             "minorgridcolor": "#C8D4E3",
             "startlinecolor": "#2a3f5f"
            },
            "baxis": {
             "endlinecolor": "#2a3f5f",
             "gridcolor": "#C8D4E3",
             "linecolor": "#C8D4E3",
             "minorgridcolor": "#C8D4E3",
             "startlinecolor": "#2a3f5f"
            },
            "type": "carpet"
           }
          ],
          "choropleth": [
           {
            "colorbar": {
             "outlinewidth": 0,
             "ticks": ""
            },
            "type": "choropleth"
           }
          ],
          "contour": [
           {
            "colorbar": {
             "outlinewidth": 0,
             "ticks": ""
            },
            "colorscale": [
             [
              0,
              "#0d0887"
             ],
             [
              0.1111111111111111,
              "#46039f"
             ],
             [
              0.2222222222222222,
              "#7201a8"
             ],
             [
              0.3333333333333333,
              "#9c179e"
             ],
             [
              0.4444444444444444,
              "#bd3786"
             ],
             [
              0.5555555555555556,
              "#d8576b"
             ],
             [
              0.6666666666666666,
              "#ed7953"
             ],
             [
              0.7777777777777778,
              "#fb9f3a"
             ],
             [
              0.8888888888888888,
              "#fdca26"
             ],
             [
              1,
              "#f0f921"
             ]
            ],
            "type": "contour"
           }
          ],
          "contourcarpet": [
           {
            "colorbar": {
             "outlinewidth": 0,
             "ticks": ""
            },
            "type": "contourcarpet"
           }
          ],
          "heatmap": [
           {
            "colorbar": {
             "outlinewidth": 0,
             "ticks": ""
            },
            "colorscale": [
             [
              0,
              "#0d0887"
             ],
             [
              0.1111111111111111,
              "#46039f"
             ],
             [
              0.2222222222222222,
              "#7201a8"
             ],
             [
              0.3333333333333333,
              "#9c179e"
             ],
             [
              0.4444444444444444,
              "#bd3786"
             ],
             [
              0.5555555555555556,
              "#d8576b"
             ],
             [
              0.6666666666666666,
              "#ed7953"
             ],
             [
              0.7777777777777778,
              "#fb9f3a"
             ],
             [
              0.8888888888888888,
              "#fdca26"
             ],
             [
              1,
              "#f0f921"
             ]
            ],
            "type": "heatmap"
           }
          ],
          "heatmapgl": [
           {
            "colorbar": {
             "outlinewidth": 0,
             "ticks": ""
            },
            "colorscale": [
             [
              0,
              "#0d0887"
             ],
             [
              0.1111111111111111,
              "#46039f"
             ],
             [
              0.2222222222222222,
              "#7201a8"
             ],
             [
              0.3333333333333333,
              "#9c179e"
             ],
             [
              0.4444444444444444,
              "#bd3786"
             ],
             [
              0.5555555555555556,
              "#d8576b"
             ],
             [
              0.6666666666666666,
              "#ed7953"
             ],
             [
              0.7777777777777778,
              "#fb9f3a"
             ],
             [
              0.8888888888888888,
              "#fdca26"
             ],
             [
              1,
              "#f0f921"
             ]
            ],
            "type": "heatmapgl"
           }
          ],
          "histogram": [
           {
            "marker": {
             "colorbar": {
              "outlinewidth": 0,
              "ticks": ""
             }
            },
            "type": "histogram"
           }
          ],
          "histogram2d": [
           {
            "colorbar": {
             "outlinewidth": 0,
             "ticks": ""
            },
            "colorscale": [
             [
              0,
              "#0d0887"
             ],
             [
              0.1111111111111111,
              "#46039f"
             ],
             [
              0.2222222222222222,
              "#7201a8"
             ],
             [
              0.3333333333333333,
              "#9c179e"
             ],
             [
              0.4444444444444444,
              "#bd3786"
             ],
             [
              0.5555555555555556,
              "#d8576b"
             ],
             [
              0.6666666666666666,
              "#ed7953"
             ],
             [
              0.7777777777777778,
              "#fb9f3a"
             ],
             [
              0.8888888888888888,
              "#fdca26"
             ],
             [
              1,
              "#f0f921"
             ]
            ],
            "type": "histogram2d"
           }
          ],
          "histogram2dcontour": [
           {
            "colorbar": {
             "outlinewidth": 0,
             "ticks": ""
            },
            "colorscale": [
             [
              0,
              "#0d0887"
             ],
             [
              0.1111111111111111,
              "#46039f"
             ],
             [
              0.2222222222222222,
              "#7201a8"
             ],
             [
              0.3333333333333333,
              "#9c179e"
             ],
             [
              0.4444444444444444,
              "#bd3786"
             ],
             [
              0.5555555555555556,
              "#d8576b"
             ],
             [
              0.6666666666666666,
              "#ed7953"
             ],
             [
              0.7777777777777778,
              "#fb9f3a"
             ],
             [
              0.8888888888888888,
              "#fdca26"
             ],
             [
              1,
              "#f0f921"
             ]
            ],
            "type": "histogram2dcontour"
           }
          ],
          "mesh3d": [
           {
            "colorbar": {
             "outlinewidth": 0,
             "ticks": ""
            },
            "type": "mesh3d"
           }
          ],
          "parcoords": [
           {
            "line": {
             "colorbar": {
              "outlinewidth": 0,
              "ticks": ""
             }
            },
            "type": "parcoords"
           }
          ],
          "pie": [
           {
            "automargin": true,
            "type": "pie"
           }
          ],
          "scatter": [
           {
            "marker": {
             "colorbar": {
              "outlinewidth": 0,
              "ticks": ""
             }
            },
            "type": "scatter"
           }
          ],
          "scatter3d": [
           {
            "line": {
             "colorbar": {
              "outlinewidth": 0,
              "ticks": ""
             }
            },
            "marker": {
             "colorbar": {
              "outlinewidth": 0,
              "ticks": ""
             }
            },
            "type": "scatter3d"
           }
          ],
          "scattercarpet": [
           {
            "marker": {
             "colorbar": {
              "outlinewidth": 0,
              "ticks": ""
             }
            },
            "type": "scattercarpet"
           }
          ],
          "scattergeo": [
           {
            "marker": {
             "colorbar": {
              "outlinewidth": 0,
              "ticks": ""
             }
            },
            "type": "scattergeo"
           }
          ],
          "scattergl": [
           {
            "marker": {
             "colorbar": {
              "outlinewidth": 0,
              "ticks": ""
             }
            },
            "type": "scattergl"
           }
          ],
          "scattermapbox": [
           {
            "marker": {
             "colorbar": {
              "outlinewidth": 0,
              "ticks": ""
             }
            },
            "type": "scattermapbox"
           }
          ],
          "scatterpolar": [
           {
            "marker": {
             "colorbar": {
              "outlinewidth": 0,
              "ticks": ""
             }
            },
            "type": "scatterpolar"
           }
          ],
          "scatterpolargl": [
           {
            "marker": {
             "colorbar": {
              "outlinewidth": 0,
              "ticks": ""
             }
            },
            "type": "scatterpolargl"
           }
          ],
          "scatterternary": [
           {
            "marker": {
             "colorbar": {
              "outlinewidth": 0,
              "ticks": ""
             }
            },
            "type": "scatterternary"
           }
          ],
          "surface": [
           {
            "colorbar": {
             "outlinewidth": 0,
             "ticks": ""
            },
            "colorscale": [
             [
              0,
              "#0d0887"
             ],
             [
              0.1111111111111111,
              "#46039f"
             ],
             [
              0.2222222222222222,
              "#7201a8"
             ],
             [
              0.3333333333333333,
              "#9c179e"
             ],
             [
              0.4444444444444444,
              "#bd3786"
             ],
             [
              0.5555555555555556,
              "#d8576b"
             ],
             [
              0.6666666666666666,
              "#ed7953"
             ],
             [
              0.7777777777777778,
              "#fb9f3a"
             ],
             [
              0.8888888888888888,
              "#fdca26"
             ],
             [
              1,
              "#f0f921"
             ]
            ],
            "type": "surface"
           }
          ],
          "table": [
           {
            "cells": {
             "fill": {
              "color": "#EBF0F8"
             },
             "line": {
              "color": "white"
             }
            },
            "header": {
             "fill": {
              "color": "#C8D4E3"
             },
             "line": {
              "color": "white"
             }
            },
            "type": "table"
           }
          ]
         },
         "layout": {
          "annotationdefaults": {
           "arrowcolor": "#2a3f5f",
           "arrowhead": 0,
           "arrowwidth": 1
          },
          "coloraxis": {
           "colorbar": {
            "outlinewidth": 0,
            "ticks": ""
           }
          },
          "colorscale": {
           "diverging": [
            [
             0,
             "#8e0152"
            ],
            [
             0.1,
             "#c51b7d"
            ],
            [
             0.2,
             "#de77ae"
            ],
            [
             0.3,
             "#f1b6da"
            ],
            [
             0.4,
             "#fde0ef"
            ],
            [
             0.5,
             "#f7f7f7"
            ],
            [
             0.6,
             "#e6f5d0"
            ],
            [
             0.7,
             "#b8e186"
            ],
            [
             0.8,
             "#7fbc41"
            ],
            [
             0.9,
             "#4d9221"
            ],
            [
             1,
             "#276419"
            ]
           ],
           "sequential": [
            [
             0,
             "#0d0887"
            ],
            [
             0.1111111111111111,
             "#46039f"
            ],
            [
             0.2222222222222222,
             "#7201a8"
            ],
            [
             0.3333333333333333,
             "#9c179e"
            ],
            [
             0.4444444444444444,
             "#bd3786"
            ],
            [
             0.5555555555555556,
             "#d8576b"
            ],
            [
             0.6666666666666666,
             "#ed7953"
            ],
            [
             0.7777777777777778,
             "#fb9f3a"
            ],
            [
             0.8888888888888888,
             "#fdca26"
            ],
            [
             1,
             "#f0f921"
            ]
           ],
           "sequentialminus": [
            [
             0,
             "#0d0887"
            ],
            [
             0.1111111111111111,
             "#46039f"
            ],
            [
             0.2222222222222222,
             "#7201a8"
            ],
            [
             0.3333333333333333,
             "#9c179e"
            ],
            [
             0.4444444444444444,
             "#bd3786"
            ],
            [
             0.5555555555555556,
             "#d8576b"
            ],
            [
             0.6666666666666666,
             "#ed7953"
            ],
            [
             0.7777777777777778,
             "#fb9f3a"
            ],
            [
             0.8888888888888888,
             "#fdca26"
            ],
            [
             1,
             "#f0f921"
            ]
           ]
          },
          "colorway": [
           "#636efa",
           "#EF553B",
           "#00cc96",
           "#ab63fa",
           "#FFA15A",
           "#19d3f3",
           "#FF6692",
           "#B6E880",
           "#FF97FF",
           "#FECB52"
          ],
          "font": {
           "color": "#2a3f5f"
          },
          "geo": {
           "bgcolor": "white",
           "lakecolor": "white",
           "landcolor": "white",
           "showlakes": true,
           "showland": true,
           "subunitcolor": "#C8D4E3"
          },
          "hoverlabel": {
           "align": "left"
          },
          "hovermode": "closest",
          "mapbox": {
           "style": "light"
          },
          "paper_bgcolor": "white",
          "plot_bgcolor": "white",
          "polar": {
           "angularaxis": {
            "gridcolor": "#EBF0F8",
            "linecolor": "#EBF0F8",
            "ticks": ""
           },
           "bgcolor": "white",
           "radialaxis": {
            "gridcolor": "#EBF0F8",
            "linecolor": "#EBF0F8",
            "ticks": ""
           }
          },
          "scene": {
           "xaxis": {
            "backgroundcolor": "white",
            "gridcolor": "#DFE8F3",
            "gridwidth": 2,
            "linecolor": "#EBF0F8",
            "showbackground": true,
            "ticks": "",
            "zerolinecolor": "#EBF0F8"
           },
           "yaxis": {
            "backgroundcolor": "white",
            "gridcolor": "#DFE8F3",
            "gridwidth": 2,
            "linecolor": "#EBF0F8",
            "showbackground": true,
            "ticks": "",
            "zerolinecolor": "#EBF0F8"
           },
           "zaxis": {
            "backgroundcolor": "white",
            "gridcolor": "#DFE8F3",
            "gridwidth": 2,
            "linecolor": "#EBF0F8",
            "showbackground": true,
            "ticks": "",
            "zerolinecolor": "#EBF0F8"
           }
          },
          "shapedefaults": {
           "line": {
            "color": "#2a3f5f"
           }
          },
          "ternary": {
           "aaxis": {
            "gridcolor": "#DFE8F3",
            "linecolor": "#A2B1C6",
            "ticks": ""
           },
           "baxis": {
            "gridcolor": "#DFE8F3",
            "linecolor": "#A2B1C6",
            "ticks": ""
           },
           "bgcolor": "white",
           "caxis": {
            "gridcolor": "#DFE8F3",
            "linecolor": "#A2B1C6",
            "ticks": ""
           }
          },
          "title": {
           "x": 0.05
          },
          "xaxis": {
           "automargin": true,
           "gridcolor": "#EBF0F8",
           "linecolor": "#EBF0F8",
           "ticks": "",
           "title": {
            "standoff": 15
           },
           "zerolinecolor": "#EBF0F8",
           "zerolinewidth": 2
          },
          "yaxis": {
           "automargin": true,
           "gridcolor": "#EBF0F8",
           "linecolor": "#EBF0F8",
           "ticks": "",
           "title": {
            "standoff": 15
           },
           "zerolinecolor": "#EBF0F8",
           "zerolinewidth": 2
          }
         }
        },
        "updatemenus": [
         {
          "buttons": [
           {
            "args": [
             {
              "yaxis.type": "linear"
             }
            ],
            "label": "Linear",
            "method": "relayout"
           },
           {
            "args": [
             {
              "yaxis.type": "log"
             }
            ],
            "label": "Log",
            "method": "relayout"
           }
          ],
          "direction": "left",
          "pad": {
           "r": -20,
           "t": -10
          },
          "showactive": true,
          "type": "buttons",
          "x": 0.11,
          "xanchor": "left",
          "y": 1.1,
          "yanchor": "top"
         }
        ],
        "xaxis": {
         "title": {
          "text": "$\\text{Time in day}$"
         }
        },
        "yaxis": {
         "title": {
          "text": "$\\text{Tumour volume in cm}^3$"
         }
        }
       }
      },
      "text/html": [
       "<div>\n",
       "        \n",
       "        \n",
       "            <div id=\"7fa68b51-60ae-4a6a-a01e-23299f5c4d00\" class=\"plotly-graph-div\" style=\"height:525px; width:100%;\"></div>\n",
       "            <script type=\"text/javascript\">\n",
       "                require([\"plotly\"], function(Plotly) {\n",
       "                    window.PLOTLYENV=window.PLOTLYENV || {};\n",
       "                    \n",
       "                if (document.getElementById(\"7fa68b51-60ae-4a6a-a01e-23299f5c4d00\")) {\n",
       "                    Plotly.newPlot(\n",
       "                        '7fa68b51-60ae-4a6a-a01e-23299f5c4d00',\n",
       "                        [{\"hovertemplate\": \"<b>LXF A677 ID: 40</b><br>Time: %{x:} day<br>Tumour volume: %{y:.02f} cm^3<br><extra></extra>\", \"legendgroup\": \"LXF A677\", \"marker\": {\"line\": {\"color\": \"black\", \"width\": 1}, \"opacity\": 0.7, \"symbol\": \"circle\"}, \"mode\": \"markers\", \"name\": \"LXF A677\", \"showlegend\": true, \"type\": \"scatter\", \"x\": [0, 2, 4, 7, 9, 11, 14, 16, 18, 21], \"y\": [1.91808, 2.49158, 3.30672, 6.683669999999999, 9.15008, 11.192580000000001, 14.704320000000001, 16.69248, 17.52192, 22.76736]}, {\"hovertemplate\": \"<b>LXF A677 ID: 94</b><br>Time: %{x:} day<br>Tumour volume: %{y:.02f} cm^3<br><extra></extra>\", \"legendgroup\": \"LXF A677\", \"marker\": {\"line\": {\"color\": \"black\", \"width\": 1}, \"opacity\": 0.7, \"symbol\": \"circle\"}, \"mode\": \"markers\", \"name\": \"LXF A677\", \"showlegend\": false, \"type\": \"scatter\", \"x\": [0, 2, 4, 7, 9, 11, 14, 16, 18, 21, 23, 25, 28, 30], \"y\": [0.772475, 0.884835, 1.25316, 1.6552799999999999, 1.89486, 2.64654, 2.64654, 3.0693599999999996, 3.89207, 3.89207, 4.05769, 4.264715, 5.55131, 5.7624]}, {\"hovertemplate\": \"<b>LXF A677 ID: 95</b><br>Time: %{x:} day<br>Tumour volume: %{y:.02f} cm^3<br><extra></extra>\", \"legendgroup\": \"LXF A677\", \"marker\": {\"line\": {\"color\": \"black\", \"width\": 1}, \"opacity\": 0.7, \"symbol\": \"circle\"}, \"mode\": \"markers\", \"name\": \"LXF A677\", \"showlegend\": false, \"type\": \"scatter\", \"x\": [0, 2, 4, 7, 9, 11, 14, 16, 18, 21], \"y\": [1.8619999999999999, 2.4642, 4.293, 6.2426, 7.246720000000001, 7.300800000000001, 9.196, 11.31184, 16.75872, 23.46616]}, {\"hovertemplate\": \"<b>LXF A677 ID: 136</b><br>Time: %{x:} day<br>Tumour volume: %{y:.02f} cm^3<br><extra></extra>\", \"legendgroup\": \"LXF A677\", \"marker\": {\"line\": {\"color\": \"black\", \"width\": 1}, \"opacity\": 0.7, \"symbol\": \"circle\"}, \"mode\": \"markers\", \"name\": \"LXF A677\", \"showlegend\": false, \"type\": \"scatter\", \"x\": [0, 2, 4, 7, 9, 11, 14, 16, 18, 21, 23, 25, 28, 30], \"y\": [1.185885, 1.75071, 2.29992, 3.026885, 3.026885, 3.7044, 5.341545, 6.5168800000000005, 7.21287, 7.873200000000001, 8.529505, 11.04558, 11.328800000000001, 14.593425]}, {\"hovertemplate\": \"<b>LXF A677 ID: 140</b><br>Time: %{x:} day<br>Tumour volume: %{y:.02f} cm^3<br><extra></extra>\", \"legendgroup\": \"LXF A677\", \"marker\": {\"line\": {\"color\": \"black\", \"width\": 1}, \"opacity\": 0.7, \"symbol\": \"circle\"}, \"mode\": \"markers\", \"name\": \"LXF A677\", \"showlegend\": false, \"type\": \"scatter\", \"x\": [0, 2, 4, 7, 9, 11, 14, 16, 18, 21, 23, 25, 28, 30], \"y\": [0.793305, 1.26852, 1.46072, 2.61121, 3.4574400000000005, 3.552, 4.1905, 4.80298, 5.56668, 8.08992, 8.57304, 10.97675, 19.92144, 21.225820000000002]}, {\"hovertemplate\": \"<b>LXF A677 ID: 155</b><br>Time: %{x:} day<br>Tumour volume: %{y:.02f} cm^3<br><extra></extra>\", \"legendgroup\": \"LXF A677\", \"marker\": {\"line\": {\"color\": \"black\", \"width\": 1}, \"opacity\": 0.7, \"symbol\": \"circle\"}, \"mode\": \"markers\", \"name\": \"LXF A677\", \"showlegend\": false, \"type\": \"scatter\", \"x\": [0, 2, 4, 7, 9, 11, 14, 16, 18, 21, 23, 25], \"y\": [1.05875, 1.67706, 3.5632800000000002, 6.4896, 6.9222399999999995, 7.300800000000001, 8.1648, 14.949539999999999, 15.166985, 17.2405, 16.37784, 22.5108]}, {\"hovertemplate\": \"<b>LXF A677 ID: 169</b><br>Time: %{x:} day<br>Tumour volume: %{y:.02f} cm^3<br><extra></extra>\", \"legendgroup\": \"LXF A677\", \"marker\": {\"line\": {\"color\": \"black\", \"width\": 1}, \"opacity\": 0.7, \"symbol\": \"circle\"}, \"mode\": \"markers\", \"name\": \"LXF A677\", \"showlegend\": false, \"type\": \"scatter\", \"x\": [0, 2, 4, 7, 9, 11, 14, 16, 18, 21, 23, 25, 28, 30], \"y\": [1.23008, 1.28774, 1.764, 2.0516650000000003, 2.460535, 2.7884249999999997, 3.33036, 3.56445, 3.9285, 4.798590000000001, 5.390549999999999, 6.354195, 7.146180000000001, 7.4698649999999995]}, {\"hovertemplate\": \"<b>LXF A677 ID: 170</b><br>Time: %{x:} day<br>Tumour volume: %{y:.02f} cm^3<br><extra></extra>\", \"legendgroup\": \"LXF A677\", \"marker\": {\"line\": {\"color\": \"black\", \"width\": 1}, \"opacity\": 0.7, \"symbol\": \"circle\"}, \"mode\": \"markers\", \"name\": \"LXF A677\", \"showlegend\": false, \"type\": \"scatter\", \"x\": [0, 2, 4, 7, 9, 11, 14, 16, 18, 21, 23, 25, 28, 30], \"y\": [0.800565, 0.9422100000000001, 1.0933, 1.5899400000000001, 1.76157, 1.940785, 2.041605, 2.46402, 3.050865, 3.683265, 4.18176, 4.396155, 5.661555, 6.206265]}, {\"hovertemplate\": \"<b>VXF A341 ID: 40</b><br>Time: %{x:} day<br>Tumour volume: %{y:.02f} cm^3<br><extra></extra>\", \"legendgroup\": \"VXF A341\", \"marker\": {\"line\": {\"color\": \"black\", \"width\": 1}, \"opacity\": 0.7, \"symbol\": \"triangle-up\"}, \"mode\": \"markers\", \"name\": \"VXF A341\", \"showlegend\": true, \"type\": \"scatter\", \"x\": [0, 2, 4, 7, 9, 11, 14, 16, 18, 21], \"y\": [1.91808, 2.49158, 3.30672, 6.683669999999999, 9.15008, 11.192580000000001, 14.704320000000001, 16.69248, 17.52192, 22.76736]}, {\"hovertemplate\": \"<b>VXF A341 ID: 94</b><br>Time: %{x:} day<br>Tumour volume: %{y:.02f} cm^3<br><extra></extra>\", \"legendgroup\": \"VXF A341\", \"marker\": {\"line\": {\"color\": \"black\", \"width\": 1}, \"opacity\": 0.7, \"symbol\": \"triangle-up\"}, \"mode\": \"markers\", \"name\": \"VXF A341\", \"showlegend\": false, \"type\": \"scatter\", \"x\": [0, 2, 4, 7, 9, 11, 14, 16, 18, 21, 23, 25, 28, 30], \"y\": [0.772475, 0.884835, 1.25316, 1.6552799999999999, 1.89486, 2.64654, 2.64654, 3.0693599999999996, 3.89207, 3.89207, 4.05769, 4.264715, 5.55131, 5.7624]}, {\"hovertemplate\": \"<b>VXF A341 ID: 95</b><br>Time: %{x:} day<br>Tumour volume: %{y:.02f} cm^3<br><extra></extra>\", \"legendgroup\": \"VXF A341\", \"marker\": {\"line\": {\"color\": \"black\", \"width\": 1}, \"opacity\": 0.7, \"symbol\": \"triangle-up\"}, \"mode\": \"markers\", \"name\": \"VXF A341\", \"showlegend\": false, \"type\": \"scatter\", \"x\": [0, 2, 4, 7, 9, 11, 14, 16, 18, 21], \"y\": [1.8619999999999999, 2.4642, 4.293, 6.2426, 7.246720000000001, 7.300800000000001, 9.196, 11.31184, 16.75872, 23.46616]}, {\"hovertemplate\": \"<b>VXF A341 ID: 136</b><br>Time: %{x:} day<br>Tumour volume: %{y:.02f} cm^3<br><extra></extra>\", \"legendgroup\": \"VXF A341\", \"marker\": {\"line\": {\"color\": \"black\", \"width\": 1}, \"opacity\": 0.7, \"symbol\": \"triangle-up\"}, \"mode\": \"markers\", \"name\": \"VXF A341\", \"showlegend\": false, \"type\": \"scatter\", \"x\": [0, 2, 4, 7, 9, 11, 14, 16, 18, 21, 23, 25, 28, 30], \"y\": [1.185885, 1.75071, 2.29992, 3.026885, 3.026885, 3.7044, 5.341545, 6.5168800000000005, 7.21287, 7.873200000000001, 8.529505, 11.04558, 11.328800000000001, 14.593425]}, {\"hovertemplate\": \"<b>VXF A341 ID: 140</b><br>Time: %{x:} day<br>Tumour volume: %{y:.02f} cm^3<br><extra></extra>\", \"legendgroup\": \"VXF A341\", \"marker\": {\"line\": {\"color\": \"black\", \"width\": 1}, \"opacity\": 0.7, \"symbol\": \"triangle-up\"}, \"mode\": \"markers\", \"name\": \"VXF A341\", \"showlegend\": false, \"type\": \"scatter\", \"x\": [0, 2, 4, 7, 9, 11, 14, 16, 18, 21, 23, 25, 28, 30], \"y\": [0.793305, 1.26852, 1.46072, 2.61121, 3.4574400000000005, 3.552, 4.1905, 4.80298, 5.56668, 8.08992, 8.57304, 10.97675, 19.92144, 21.225820000000002]}, {\"hovertemplate\": \"<b>VXF A341 ID: 155</b><br>Time: %{x:} day<br>Tumour volume: %{y:.02f} cm^3<br><extra></extra>\", \"legendgroup\": \"VXF A341\", \"marker\": {\"line\": {\"color\": \"black\", \"width\": 1}, \"opacity\": 0.7, \"symbol\": \"triangle-up\"}, \"mode\": \"markers\", \"name\": \"VXF A341\", \"showlegend\": false, \"type\": \"scatter\", \"x\": [0, 2, 4, 7, 9, 11, 14, 16, 18, 21, 23, 25], \"y\": [1.05875, 1.67706, 3.5632800000000002, 6.4896, 6.9222399999999995, 7.300800000000001, 8.1648, 14.949539999999999, 15.166985, 17.2405, 16.37784, 22.5108]}, {\"hovertemplate\": \"<b>VXF A341 ID: 169</b><br>Time: %{x:} day<br>Tumour volume: %{y:.02f} cm^3<br><extra></extra>\", \"legendgroup\": \"VXF A341\", \"marker\": {\"line\": {\"color\": \"black\", \"width\": 1}, \"opacity\": 0.7, \"symbol\": \"triangle-up\"}, \"mode\": \"markers\", \"name\": \"VXF A341\", \"showlegend\": false, \"type\": \"scatter\", \"x\": [0, 2, 4, 7, 9, 11, 14, 16, 18, 21, 23, 25, 28, 30], \"y\": [1.23008, 1.28774, 1.764, 2.0516650000000003, 2.460535, 2.7884249999999997, 3.33036, 3.56445, 3.9285, 4.798590000000001, 5.390549999999999, 6.354195, 7.146180000000001, 7.4698649999999995]}, {\"hovertemplate\": \"<b>VXF A341 ID: 170</b><br>Time: %{x:} day<br>Tumour volume: %{y:.02f} cm^3<br><extra></extra>\", \"legendgroup\": \"VXF A341\", \"marker\": {\"line\": {\"color\": \"black\", \"width\": 1}, \"opacity\": 0.7, \"symbol\": \"triangle-up\"}, \"mode\": \"markers\", \"name\": \"VXF A341\", \"showlegend\": false, \"type\": \"scatter\", \"x\": [0, 2, 4, 7, 9, 11, 14, 16, 18, 21, 23, 25, 28, 30], \"y\": [0.800565, 0.9422100000000001, 1.0933, 1.5899400000000001, 1.76157, 1.940785, 2.041605, 2.46402, 3.050865, 3.683265, 4.18176, 4.396155, 5.661555, 6.206265]}],\n",
       "                        {\"annotations\": [{\"align\": \"left\", \"showarrow\": false, \"text\": \"Y-scale: \", \"x\": 0.8, \"y\": 1.1, \"yref\": \"paper\"}], \"autosize\": true, \"template\": {\"data\": {\"bar\": [{\"error_x\": {\"color\": \"#2a3f5f\"}, \"error_y\": {\"color\": \"#2a3f5f\"}, \"marker\": {\"line\": {\"color\": \"white\", \"width\": 0.5}}, \"type\": \"bar\"}], \"barpolar\": [{\"marker\": {\"line\": {\"color\": \"white\", \"width\": 0.5}}, \"type\": \"barpolar\"}], \"carpet\": [{\"aaxis\": {\"endlinecolor\": \"#2a3f5f\", \"gridcolor\": \"#C8D4E3\", \"linecolor\": \"#C8D4E3\", \"minorgridcolor\": \"#C8D4E3\", \"startlinecolor\": \"#2a3f5f\"}, \"baxis\": {\"endlinecolor\": \"#2a3f5f\", \"gridcolor\": \"#C8D4E3\", \"linecolor\": \"#C8D4E3\", \"minorgridcolor\": \"#C8D4E3\", \"startlinecolor\": \"#2a3f5f\"}, \"type\": \"carpet\"}], \"choropleth\": [{\"colorbar\": {\"outlinewidth\": 0, \"ticks\": \"\"}, \"type\": \"choropleth\"}], \"contour\": [{\"colorbar\": {\"outlinewidth\": 0, \"ticks\": \"\"}, \"colorscale\": [[0.0, \"#0d0887\"], [0.1111111111111111, \"#46039f\"], [0.2222222222222222, \"#7201a8\"], [0.3333333333333333, \"#9c179e\"], [0.4444444444444444, \"#bd3786\"], [0.5555555555555556, \"#d8576b\"], [0.6666666666666666, \"#ed7953\"], [0.7777777777777778, \"#fb9f3a\"], [0.8888888888888888, \"#fdca26\"], [1.0, \"#f0f921\"]], \"type\": \"contour\"}], \"contourcarpet\": [{\"colorbar\": {\"outlinewidth\": 0, \"ticks\": \"\"}, \"type\": \"contourcarpet\"}], \"heatmap\": [{\"colorbar\": {\"outlinewidth\": 0, \"ticks\": \"\"}, \"colorscale\": [[0.0, \"#0d0887\"], [0.1111111111111111, \"#46039f\"], [0.2222222222222222, \"#7201a8\"], [0.3333333333333333, \"#9c179e\"], [0.4444444444444444, \"#bd3786\"], [0.5555555555555556, \"#d8576b\"], [0.6666666666666666, \"#ed7953\"], [0.7777777777777778, \"#fb9f3a\"], [0.8888888888888888, \"#fdca26\"], [1.0, \"#f0f921\"]], \"type\": \"heatmap\"}], \"heatmapgl\": [{\"colorbar\": {\"outlinewidth\": 0, \"ticks\": \"\"}, \"colorscale\": [[0.0, \"#0d0887\"], [0.1111111111111111, \"#46039f\"], [0.2222222222222222, \"#7201a8\"], [0.3333333333333333, \"#9c179e\"], [0.4444444444444444, \"#bd3786\"], [0.5555555555555556, \"#d8576b\"], [0.6666666666666666, \"#ed7953\"], [0.7777777777777778, \"#fb9f3a\"], [0.8888888888888888, \"#fdca26\"], [1.0, \"#f0f921\"]], \"type\": \"heatmapgl\"}], \"histogram\": [{\"marker\": {\"colorbar\": {\"outlinewidth\": 0, \"ticks\": \"\"}}, \"type\": \"histogram\"}], \"histogram2d\": [{\"colorbar\": {\"outlinewidth\": 0, \"ticks\": \"\"}, \"colorscale\": [[0.0, \"#0d0887\"], [0.1111111111111111, \"#46039f\"], [0.2222222222222222, \"#7201a8\"], [0.3333333333333333, \"#9c179e\"], [0.4444444444444444, \"#bd3786\"], [0.5555555555555556, \"#d8576b\"], [0.6666666666666666, \"#ed7953\"], [0.7777777777777778, \"#fb9f3a\"], [0.8888888888888888, \"#fdca26\"], [1.0, \"#f0f921\"]], \"type\": \"histogram2d\"}], \"histogram2dcontour\": [{\"colorbar\": {\"outlinewidth\": 0, \"ticks\": \"\"}, \"colorscale\": [[0.0, \"#0d0887\"], [0.1111111111111111, \"#46039f\"], [0.2222222222222222, \"#7201a8\"], [0.3333333333333333, \"#9c179e\"], [0.4444444444444444, \"#bd3786\"], [0.5555555555555556, \"#d8576b\"], [0.6666666666666666, \"#ed7953\"], [0.7777777777777778, \"#fb9f3a\"], [0.8888888888888888, \"#fdca26\"], [1.0, \"#f0f921\"]], \"type\": \"histogram2dcontour\"}], \"mesh3d\": [{\"colorbar\": {\"outlinewidth\": 0, \"ticks\": \"\"}, \"type\": \"mesh3d\"}], \"parcoords\": [{\"line\": {\"colorbar\": {\"outlinewidth\": 0, \"ticks\": \"\"}}, \"type\": \"parcoords\"}], \"pie\": [{\"automargin\": true, \"type\": \"pie\"}], \"scatter\": [{\"marker\": {\"colorbar\": {\"outlinewidth\": 0, \"ticks\": \"\"}}, \"type\": \"scatter\"}], \"scatter3d\": [{\"line\": {\"colorbar\": {\"outlinewidth\": 0, \"ticks\": \"\"}}, \"marker\": {\"colorbar\": {\"outlinewidth\": 0, \"ticks\": \"\"}}, \"type\": \"scatter3d\"}], \"scattercarpet\": [{\"marker\": {\"colorbar\": {\"outlinewidth\": 0, \"ticks\": \"\"}}, \"type\": \"scattercarpet\"}], \"scattergeo\": [{\"marker\": {\"colorbar\": {\"outlinewidth\": 0, \"ticks\": \"\"}}, \"type\": \"scattergeo\"}], \"scattergl\": [{\"marker\": {\"colorbar\": {\"outlinewidth\": 0, \"ticks\": \"\"}}, \"type\": \"scattergl\"}], \"scattermapbox\": [{\"marker\": {\"colorbar\": {\"outlinewidth\": 0, \"ticks\": \"\"}}, \"type\": \"scattermapbox\"}], \"scatterpolar\": [{\"marker\": {\"colorbar\": {\"outlinewidth\": 0, \"ticks\": \"\"}}, \"type\": \"scatterpolar\"}], \"scatterpolargl\": [{\"marker\": {\"colorbar\": {\"outlinewidth\": 0, \"ticks\": \"\"}}, \"type\": \"scatterpolargl\"}], \"scatterternary\": [{\"marker\": {\"colorbar\": {\"outlinewidth\": 0, \"ticks\": \"\"}}, \"type\": \"scatterternary\"}], \"surface\": [{\"colorbar\": {\"outlinewidth\": 0, \"ticks\": \"\"}, \"colorscale\": [[0.0, \"#0d0887\"], [0.1111111111111111, \"#46039f\"], [0.2222222222222222, \"#7201a8\"], [0.3333333333333333, \"#9c179e\"], [0.4444444444444444, \"#bd3786\"], [0.5555555555555556, \"#d8576b\"], [0.6666666666666666, \"#ed7953\"], [0.7777777777777778, \"#fb9f3a\"], [0.8888888888888888, \"#fdca26\"], [1.0, \"#f0f921\"]], \"type\": \"surface\"}], \"table\": [{\"cells\": {\"fill\": {\"color\": \"#EBF0F8\"}, \"line\": {\"color\": \"white\"}}, \"header\": {\"fill\": {\"color\": \"#C8D4E3\"}, \"line\": {\"color\": \"white\"}}, \"type\": \"table\"}]}, \"layout\": {\"annotationdefaults\": {\"arrowcolor\": \"#2a3f5f\", \"arrowhead\": 0, \"arrowwidth\": 1}, \"coloraxis\": {\"colorbar\": {\"outlinewidth\": 0, \"ticks\": \"\"}}, \"colorscale\": {\"diverging\": [[0, \"#8e0152\"], [0.1, \"#c51b7d\"], [0.2, \"#de77ae\"], [0.3, \"#f1b6da\"], [0.4, \"#fde0ef\"], [0.5, \"#f7f7f7\"], [0.6, \"#e6f5d0\"], [0.7, \"#b8e186\"], [0.8, \"#7fbc41\"], [0.9, \"#4d9221\"], [1, \"#276419\"]], \"sequential\": [[0.0, \"#0d0887\"], [0.1111111111111111, \"#46039f\"], [0.2222222222222222, \"#7201a8\"], [0.3333333333333333, \"#9c179e\"], [0.4444444444444444, \"#bd3786\"], [0.5555555555555556, \"#d8576b\"], [0.6666666666666666, \"#ed7953\"], [0.7777777777777778, \"#fb9f3a\"], [0.8888888888888888, \"#fdca26\"], [1.0, \"#f0f921\"]], \"sequentialminus\": [[0.0, \"#0d0887\"], [0.1111111111111111, \"#46039f\"], [0.2222222222222222, \"#7201a8\"], [0.3333333333333333, \"#9c179e\"], [0.4444444444444444, \"#bd3786\"], [0.5555555555555556, \"#d8576b\"], [0.6666666666666666, \"#ed7953\"], [0.7777777777777778, \"#fb9f3a\"], [0.8888888888888888, \"#fdca26\"], [1.0, \"#f0f921\"]]}, \"colorway\": [\"#636efa\", \"#EF553B\", \"#00cc96\", \"#ab63fa\", \"#FFA15A\", \"#19d3f3\", \"#FF6692\", \"#B6E880\", \"#FF97FF\", \"#FECB52\"], \"font\": {\"color\": \"#2a3f5f\"}, \"geo\": {\"bgcolor\": \"white\", \"lakecolor\": \"white\", \"landcolor\": \"white\", \"showlakes\": true, \"showland\": true, \"subunitcolor\": \"#C8D4E3\"}, \"hoverlabel\": {\"align\": \"left\"}, \"hovermode\": \"closest\", \"mapbox\": {\"style\": \"light\"}, \"paper_bgcolor\": \"white\", \"plot_bgcolor\": \"white\", \"polar\": {\"angularaxis\": {\"gridcolor\": \"#EBF0F8\", \"linecolor\": \"#EBF0F8\", \"ticks\": \"\"}, \"bgcolor\": \"white\", \"radialaxis\": {\"gridcolor\": \"#EBF0F8\", \"linecolor\": \"#EBF0F8\", \"ticks\": \"\"}}, \"scene\": {\"xaxis\": {\"backgroundcolor\": \"white\", \"gridcolor\": \"#DFE8F3\", \"gridwidth\": 2, \"linecolor\": \"#EBF0F8\", \"showbackground\": true, \"ticks\": \"\", \"zerolinecolor\": \"#EBF0F8\"}, \"yaxis\": {\"backgroundcolor\": \"white\", \"gridcolor\": \"#DFE8F3\", \"gridwidth\": 2, \"linecolor\": \"#EBF0F8\", \"showbackground\": true, \"ticks\": \"\", \"zerolinecolor\": \"#EBF0F8\"}, \"zaxis\": {\"backgroundcolor\": \"white\", \"gridcolor\": \"#DFE8F3\", \"gridwidth\": 2, \"linecolor\": \"#EBF0F8\", \"showbackground\": true, \"ticks\": \"\", \"zerolinecolor\": \"#EBF0F8\"}}, \"shapedefaults\": {\"line\": {\"color\": \"#2a3f5f\"}}, \"ternary\": {\"aaxis\": {\"gridcolor\": \"#DFE8F3\", \"linecolor\": \"#A2B1C6\", \"ticks\": \"\"}, \"baxis\": {\"gridcolor\": \"#DFE8F3\", \"linecolor\": \"#A2B1C6\", \"ticks\": \"\"}, \"bgcolor\": \"white\", \"caxis\": {\"gridcolor\": \"#DFE8F3\", \"linecolor\": \"#A2B1C6\", \"ticks\": \"\"}}, \"title\": {\"x\": 0.05}, \"xaxis\": {\"automargin\": true, \"gridcolor\": \"#EBF0F8\", \"linecolor\": \"#EBF0F8\", \"ticks\": \"\", \"title\": {\"standoff\": 15}, \"zerolinecolor\": \"#EBF0F8\", \"zerolinewidth\": 2}, \"yaxis\": {\"automargin\": true, \"gridcolor\": \"#EBF0F8\", \"linecolor\": \"#EBF0F8\", \"ticks\": \"\", \"title\": {\"standoff\": 15}, \"zerolinecolor\": \"#EBF0F8\", \"zerolinewidth\": 2}}}, \"updatemenus\": [{\"buttons\": [{\"args\": [{\"yaxis.type\": \"linear\"}], \"label\": \"Linear\", \"method\": \"relayout\"}, {\"args\": [{\"yaxis.type\": \"log\"}], \"label\": \"Log\", \"method\": \"relayout\"}], \"direction\": \"left\", \"pad\": {\"r\": -20, \"t\": -10}, \"showactive\": true, \"type\": \"buttons\", \"x\": 0.11, \"xanchor\": \"left\", \"y\": 1.1, \"yanchor\": \"top\"}], \"xaxis\": {\"title\": {\"text\": \"$\\\\text{Time in day}$\"}}, \"yaxis\": {\"title\": {\"text\": \"$\\\\text{Tumour volume in cm}^3$\"}}},\n",
       "                        {\"responsive\": true}\n",
       "                    ).then(function(){\n",
       "                            \n",
       "var gd = document.getElementById('7fa68b51-60ae-4a6a-a01e-23299f5c4d00');\n",
       "var x = new MutationObserver(function (mutations, observer) {{\n",
       "        var display = window.getComputedStyle(gd).display;\n",
       "        if (!display || display === 'none') {{\n",
       "            console.log([gd, 'removed!']);\n",
       "            Plotly.purge(gd);\n",
       "            observer.disconnect();\n",
       "        }}\n",
       "}});\n",
       "\n",
       "// Listen for the removal of the full notebook cells\n",
       "var notebookContainer = gd.closest('#notebook-container');\n",
       "if (notebookContainer) {{\n",
       "    x.observe(notebookContainer, {childList: true});\n",
       "}}\n",
       "\n",
       "// Listen for the clearing of the current output cell\n",
       "var outputEl = gd.closest('.output');\n",
       "if (outputEl) {{\n",
       "    x.observe(outputEl, {childList: true});\n",
       "}}\n",
       "\n",
       "                        })\n",
       "                };\n",
       "                });\n",
       "            </script>\n",
       "        </div>"
      ]
     },
     "metadata": {},
     "output_type": "display_data"
    }
   ],
   "source": [
    "#\n",
    "# Visualise control growth data.\n",
    "#\n",
    "\n",
    "import plotly.io\n",
    "import plotly.graph_objects as go\n",
    "\n",
    "\n",
    "# Create figure\n",
    "fig = go.Figure()\n",
    "\n",
    "# Scatter plot LXF A677 time-series data for each mouse\n",
    "mouse_ids = lxf_data['#ID'].unique()\n",
    "for id_m in mouse_ids:\n",
    "    # Create mask for mouse\n",
    "    mask = lxf_data['#ID'] == id_m\n",
    "\n",
    "    # Get time points for mouse\n",
    "    times = lxf_data['TIME in day'][mask]\n",
    "\n",
    "    # Get observed tumour volumes for mouse\n",
    "    observed_volumes = lxf_data['TUMOUR VOLUME in cm^3'][mask]\n",
    "\n",
    "    # Plot data\n",
    "    fig.add_trace(go.Scatter(\n",
    "        x=times,\n",
    "        y=observed_volumes,\n",
    "        legendgroup=\"LXF A677\",\n",
    "        name=\"LXF A677\",\n",
    "        showlegend=True if id_m == mouse_ids[0] else False,\n",
    "        hovertemplate=\n",
    "            \"<b>%s ID: %d</b><br>\" % (\"LXF A677\", id_m) +\n",
    "            \"Time: %{x:} day<br>\" +\n",
    "            \"Tumour volume: %{y:.02f} cm^3<br>\" +\n",
    "            \"<extra></extra>\",\n",
    "        mode=\"markers\",\n",
    "        marker=dict(\n",
    "            symbol='circle',\n",
    "            opacity=0.7,\n",
    "            line=dict(color='black', width=1))\n",
    "    ))\n",
    "\n",
    "# Scatter plot VXF A341 time-series data for each mouse\n",
    "mouse_ids = vxf_data['#ID'].unique()\n",
    "for id_m in mouse_ids:\n",
    "    # Create mask for mouse\n",
    "    mask = vxf_data['#ID'] == id_m\n",
    "\n",
    "    # Get time points for mouse\n",
    "    times = vxf_data['TIME in day'][mask]\n",
    "\n",
    "    # Get observed tumour volumes for mouse\n",
    "    observed_volumes = vxf_data['TUMOUR VOLUME in cm^3'][mask]\n",
    "\n",
    "    # Plot data\n",
    "    fig.add_trace(go.Scatter(\n",
    "        x=times,\n",
    "        y=observed_volumes,\n",
    "        legendgroup=\"VXF A341\",\n",
    "        name=\"VXF A341\",\n",
    "        showlegend=True if id_m == mouse_ids[0] else False,\n",
    "        hovertemplate=\n",
    "            \"<b>%s ID: %d</b><br>\" % (\"VXF A341\", id_m) +\n",
    "            \"Time: %{x:} day<br>\" +\n",
    "            \"Tumour volume: %{y:.02f} cm^3<br>\" +\n",
    "            \"<extra></extra>\",\n",
    "        mode=\"markers\",\n",
    "        marker=dict(\n",
    "            symbol='triangle-up',\n",
    "            opacity=0.7, \n",
    "            line=dict(color='black', width=1))\n",
    "    ))\n",
    "\n",
    "# Set X, Y axis and figure size\n",
    "fig.update_layout(\n",
    "    autosize=True,\n",
    "    xaxis_title=r'$\\text{Time in day}$',\n",
    "    yaxis_title=r'$\\text{Tumour volume in cm}^3$',\n",
    "    template=\"plotly_white\")\n",
    "\n",
    "# Add switch between linear and log y-scale\n",
    "fig.update_layout(\n",
    "    updatemenus=[\n",
    "        dict(\n",
    "            type = \"buttons\",\n",
    "            direction = \"left\",\n",
    "            buttons=list([\n",
    "                dict(\n",
    "                    args=[{\"yaxis.type\": \"linear\"}],\n",
    "                    label=\"Linear\",\n",
    "                    method=\"relayout\"\n",
    "                ),\n",
    "                dict(\n",
    "                    args=[{\"yaxis.type\": \"log\"}],\n",
    "                    label=\"Log\",\n",
    "                    method=\"relayout\"\n",
    "                )\n",
    "            ]),\n",
    "            pad={\"r\": -20, \"t\": -10},\n",
    "            showactive=True,\n",
    "            x=0.11,\n",
    "            xanchor=\"left\",\n",
    "            y=1.1,\n",
    "            yanchor=\"top\"\n",
    "        ),\n",
    "    ]\n",
    ")\n",
    "\n",
    "# Add label to switch\n",
    "fig.update_layout(\n",
    "    annotations=[\n",
    "        dict(text=\"Y-scale: \", showarrow=False,\n",
    "                             x=0.8, y=1.1, yref=\"paper\", align=\"left\")\n",
    "    ]\n",
    ")\n",
    "\n",
    "# Show figure\n",
    "fig.show()"
   ]
  },
  {
   "cell_type": "markdown",
   "metadata": {},
   "source": [
    "## Export cleaned data"
   ]
  },
  {
   "cell_type": "code",
   "execution_count": 6,
   "metadata": {},
   "outputs": [],
   "source": [
    "#\n",
    "# Export cleaned data sets for inference in other notebooks.\n",
    "#\n",
    "\n",
    "import os\n",
    "import pandas as pd\n",
    "\n",
    "\n",
    "# Get path of current working directory\n",
    "path = os.getcwd()\n",
    "\n",
    "# Export cleaned LXF A677 control growth data\n",
    "lxf_data.to_csv(path + '/data/lxf_control_growth.csv')\n",
    "\n",
    "# Export cleaned VXF A341 control growth data\n",
    "vxf_data.to_csv(path + '/data/vxf_control_growth.csv')"
   ]
  },
  {
   "cell_type": "markdown",
   "metadata": {},
   "source": [
    "## Bibliography\n",
    "\n",
    "- <a name=\"ref1\"> [1] </a> Eigenmann et. al., Combining Nonclinical Experiments with Translational PKPD Modeling to Differentiate Erlotinib and Gefitinib, Mol Cancer Ther (2016)"
   ]
  },
  {
   "cell_type": "markdown",
   "metadata": {},
   "source": [
    "[Back to project overview](https://github.com/DavAug/ErlotinibGefitinib/blob/master/README.md) | [Forward to next notebook](https://github.com/DavAug/ErlotinibGefitinib/blob/master/notebooks/control_growth/pooled_model.ipynb)"
   ]
  }
 ],
 "metadata": {
  "kernelspec": {
   "display_name": "Python 3",
   "language": "python",
   "name": "python3"
  },
  "language_info": {
   "codemirror_mode": {
    "name": "ipython",
    "version": 3
   },
   "file_extension": ".py",
   "mimetype": "text/x-python",
   "name": "python",
   "nbconvert_exporter": "python",
   "pygments_lexer": "ipython3",
   "version": "3.7.5"
  },
  "widgets": {
   "application/vnd.jupyter.widget-state+json": {
    "state": {},
    "version_major": 2,
    "version_minor": 0
   }
  }
 },
 "nbformat": 4,
 "nbformat_minor": 2
}
