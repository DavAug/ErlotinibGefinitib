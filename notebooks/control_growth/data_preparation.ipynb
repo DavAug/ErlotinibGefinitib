{
 "cells": [
  {
   "cell_type": "markdown",
   "metadata": {},
   "source": [
    "# Control Growth Data\n",
    "\n",
    "In [1], the tumour growth inhibition (TGI) PKPD model of Erlotinib and Gefitinib was derived from two separate *in vivo* experiments. In particular, the growth of patient-derived tumour explants LXF A677 (adenocarcinoma of the lung) and cell line-derived tumour xenografts VXF A431 (vulva cancer) in mice were monitored. Each experiment comprised a control growth group and three groups that were treated with either Erlotinib or Gefitnib at one of three dose levels. Treatments were orally administered once a day.\n",
    "\n",
    "In this notebook, we focus on establishing a good understanding of the untreated tumour growth. In particular, this will allow us to critically assess the modelling choices in [1], and explore alternatives. It further allows us to derive posteriors for the growth parameters, that may inform the choice of priors for the full TGI-PKPD model inference.\n",
    "\n",
    "We will now import the data sets and standardise their format for the inference."
   ]
  },
  {
   "cell_type": "markdown",
   "metadata": {},
   "source": [
    "## Raw LXF A677 control growth data"
   ]
  },
  {
   "cell_type": "code",
   "execution_count": 1,
   "metadata": {
    "tags": []
   },
   "outputs": [
    {
     "output_type": "stream",
     "name": "stdout",
     "text": "Raw LXF A677 Control Growth Data Set:\n"
    },
    {
     "output_type": "execute_result",
     "data": {
      "text/plain": "     #ID  TIME DOSE ADDL II        Y YTYPE CENS  CELL LINE  DOSE GROUP  DRUG  \\\n0     40     0    .    .  .  191.808     2    .          1           0     2   \n1     94     0    .    .  .  77.2475     2    .          1           0     2   \n2     95     0    .    .  .    186.2     2    .          1           0     2   \n3     40     3    0    .  .        .     .    .          1           0     2   \n4     40     4    0    2  1        .     .    .          1           0     2   \n..   ...   ...  ...  ... ..      ...   ...  ...        ...         ...   ...   \n153  140     2    .    .  .  126.852     2    .          1           0     2   \n154   94     4    .    .  .  125.316     2    .          1           0     2   \n155  170     4    .    .  .   109.33     2    .          1           0     2   \n156  170     2    .    .  .   94.221     2    .          1           0     2   \n157   94     2    .    .  .  88.4835     2    .          1           0     2   \n\n     DRUGCAT  EXPERIMENT    BW      YTV  KA     V    KE        w0  \n0          0           2  26.8        .  55  1.11  3.98  191.8080  \n1          0           2  18.3        .  55  1.11  3.98   77.2475  \n2          0           2  22.3        .  55  1.11  3.98  186.2000  \n3          0           2  26.1        .  55  1.11  3.98  191.8080  \n4          0           2  26.5        .  55  1.11  3.98  191.8080  \n..       ...         ...   ...      ...  ..   ...   ...       ...  \n153        0           2  23.6  126.852  55  1.11  3.98   79.3305  \n154        0           2  18.5  125.316  55  1.11  3.98   77.2475  \n155        0           2  27.9   109.33  55  1.11  3.98   80.0565  \n156        0           2  27.7   94.221  55  1.11  3.98   80.0565  \n157        0           2  18.2  88.4835  55  1.11  3.98   77.2475  \n\n[158 rows x 19 columns]",
      "text/html": "<div>\n<style scoped>\n    .dataframe tbody tr th:only-of-type {\n        vertical-align: middle;\n    }\n\n    .dataframe tbody tr th {\n        vertical-align: top;\n    }\n\n    .dataframe thead th {\n        text-align: right;\n    }\n</style>\n<table border=\"1\" class=\"dataframe\">\n  <thead>\n    <tr style=\"text-align: right;\">\n      <th></th>\n      <th>#ID</th>\n      <th>TIME</th>\n      <th>DOSE</th>\n      <th>ADDL</th>\n      <th>II</th>\n      <th>Y</th>\n      <th>YTYPE</th>\n      <th>CENS</th>\n      <th>CELL LINE</th>\n      <th>DOSE GROUP</th>\n      <th>DRUG</th>\n      <th>DRUGCAT</th>\n      <th>EXPERIMENT</th>\n      <th>BW</th>\n      <th>YTV</th>\n      <th>KA</th>\n      <th>V</th>\n      <th>KE</th>\n      <th>w0</th>\n    </tr>\n  </thead>\n  <tbody>\n    <tr>\n      <th>0</th>\n      <td>40</td>\n      <td>0</td>\n      <td>.</td>\n      <td>.</td>\n      <td>.</td>\n      <td>191.808</td>\n      <td>2</td>\n      <td>.</td>\n      <td>1</td>\n      <td>0</td>\n      <td>2</td>\n      <td>0</td>\n      <td>2</td>\n      <td>26.8</td>\n      <td>.</td>\n      <td>55</td>\n      <td>1.11</td>\n      <td>3.98</td>\n      <td>191.8080</td>\n    </tr>\n    <tr>\n      <th>1</th>\n      <td>94</td>\n      <td>0</td>\n      <td>.</td>\n      <td>.</td>\n      <td>.</td>\n      <td>77.2475</td>\n      <td>2</td>\n      <td>.</td>\n      <td>1</td>\n      <td>0</td>\n      <td>2</td>\n      <td>0</td>\n      <td>2</td>\n      <td>18.3</td>\n      <td>.</td>\n      <td>55</td>\n      <td>1.11</td>\n      <td>3.98</td>\n      <td>77.2475</td>\n    </tr>\n    <tr>\n      <th>2</th>\n      <td>95</td>\n      <td>0</td>\n      <td>.</td>\n      <td>.</td>\n      <td>.</td>\n      <td>186.2</td>\n      <td>2</td>\n      <td>.</td>\n      <td>1</td>\n      <td>0</td>\n      <td>2</td>\n      <td>0</td>\n      <td>2</td>\n      <td>22.3</td>\n      <td>.</td>\n      <td>55</td>\n      <td>1.11</td>\n      <td>3.98</td>\n      <td>186.2000</td>\n    </tr>\n    <tr>\n      <th>3</th>\n      <td>40</td>\n      <td>3</td>\n      <td>0</td>\n      <td>.</td>\n      <td>.</td>\n      <td>.</td>\n      <td>.</td>\n      <td>.</td>\n      <td>1</td>\n      <td>0</td>\n      <td>2</td>\n      <td>0</td>\n      <td>2</td>\n      <td>26.1</td>\n      <td>.</td>\n      <td>55</td>\n      <td>1.11</td>\n      <td>3.98</td>\n      <td>191.8080</td>\n    </tr>\n    <tr>\n      <th>4</th>\n      <td>40</td>\n      <td>4</td>\n      <td>0</td>\n      <td>2</td>\n      <td>1</td>\n      <td>.</td>\n      <td>.</td>\n      <td>.</td>\n      <td>1</td>\n      <td>0</td>\n      <td>2</td>\n      <td>0</td>\n      <td>2</td>\n      <td>26.5</td>\n      <td>.</td>\n      <td>55</td>\n      <td>1.11</td>\n      <td>3.98</td>\n      <td>191.8080</td>\n    </tr>\n    <tr>\n      <th>...</th>\n      <td>...</td>\n      <td>...</td>\n      <td>...</td>\n      <td>...</td>\n      <td>...</td>\n      <td>...</td>\n      <td>...</td>\n      <td>...</td>\n      <td>...</td>\n      <td>...</td>\n      <td>...</td>\n      <td>...</td>\n      <td>...</td>\n      <td>...</td>\n      <td>...</td>\n      <td>...</td>\n      <td>...</td>\n      <td>...</td>\n      <td>...</td>\n    </tr>\n    <tr>\n      <th>153</th>\n      <td>140</td>\n      <td>2</td>\n      <td>.</td>\n      <td>.</td>\n      <td>.</td>\n      <td>126.852</td>\n      <td>2</td>\n      <td>.</td>\n      <td>1</td>\n      <td>0</td>\n      <td>2</td>\n      <td>0</td>\n      <td>2</td>\n      <td>23.6</td>\n      <td>126.852</td>\n      <td>55</td>\n      <td>1.11</td>\n      <td>3.98</td>\n      <td>79.3305</td>\n    </tr>\n    <tr>\n      <th>154</th>\n      <td>94</td>\n      <td>4</td>\n      <td>.</td>\n      <td>.</td>\n      <td>.</td>\n      <td>125.316</td>\n      <td>2</td>\n      <td>.</td>\n      <td>1</td>\n      <td>0</td>\n      <td>2</td>\n      <td>0</td>\n      <td>2</td>\n      <td>18.5</td>\n      <td>125.316</td>\n      <td>55</td>\n      <td>1.11</td>\n      <td>3.98</td>\n      <td>77.2475</td>\n    </tr>\n    <tr>\n      <th>155</th>\n      <td>170</td>\n      <td>4</td>\n      <td>.</td>\n      <td>.</td>\n      <td>.</td>\n      <td>109.33</td>\n      <td>2</td>\n      <td>.</td>\n      <td>1</td>\n      <td>0</td>\n      <td>2</td>\n      <td>0</td>\n      <td>2</td>\n      <td>27.9</td>\n      <td>109.33</td>\n      <td>55</td>\n      <td>1.11</td>\n      <td>3.98</td>\n      <td>80.0565</td>\n    </tr>\n    <tr>\n      <th>156</th>\n      <td>170</td>\n      <td>2</td>\n      <td>.</td>\n      <td>.</td>\n      <td>.</td>\n      <td>94.221</td>\n      <td>2</td>\n      <td>.</td>\n      <td>1</td>\n      <td>0</td>\n      <td>2</td>\n      <td>0</td>\n      <td>2</td>\n      <td>27.7</td>\n      <td>94.221</td>\n      <td>55</td>\n      <td>1.11</td>\n      <td>3.98</td>\n      <td>80.0565</td>\n    </tr>\n    <tr>\n      <th>157</th>\n      <td>94</td>\n      <td>2</td>\n      <td>.</td>\n      <td>.</td>\n      <td>.</td>\n      <td>88.4835</td>\n      <td>2</td>\n      <td>.</td>\n      <td>1</td>\n      <td>0</td>\n      <td>2</td>\n      <td>0</td>\n      <td>2</td>\n      <td>18.2</td>\n      <td>88.4835</td>\n      <td>55</td>\n      <td>1.11</td>\n      <td>3.98</td>\n      <td>77.2475</td>\n    </tr>\n  </tbody>\n</table>\n<p>158 rows × 19 columns</p>\n</div>"
     },
     "metadata": {},
     "execution_count": 1
    }
   ],
   "source": [
    "#\n",
    "# Import raw LXF A677 data.\n",
    "#\n",
    "\n",
    "import os\n",
    "import pandas as pd\n",
    "\n",
    "\n",
    "# Import LXF A677 data\n",
    "path = os.getcwd()  # make import independent of local path structure\n",
    "lxf_data_raw = pd.read_csv(path + '/data_raw/Ctrl_Growth_LXF.csv')\n",
    "\n",
    "# Display data\n",
    "print('Raw LXF A677 Control Growth Data Set:')\n",
    "lxf_data_raw"
   ]
  },
  {
   "cell_type": "code",
   "execution_count": 2,
   "metadata": {},
   "outputs": [
    {
     "output_type": "execute_result",
     "data": {
      "text/plain": "     #ID  TIME DOSE ADDL II         Y YTYPE CENS  CELL LINE  DOSE GROUP  DRUG  \\\n0     40     0    .    .  .   191.808     2    .          1           0     2   \n3     40     3    0    .  .         .     .    .          1           0     2   \n4     40     4    0    2  1         .     .    .          1           0     2   \n5     40     7    0    1  1         .     .    .          1           0     2   \n6     40     9    0    1  1         .     .    .          1           0     2   \n7     40    11    0    2  1         .     .    .          1           0     2   \n8     40    14    0    1  1         .     .    .          1           0     2   \n9     40    16    0    .  .         .     .    .          1           0     2   \n65    40    21    .    .  .  2276.736     2    .          1           0     2   \n69    40    18    .    .  .  1752.192     2    .          1           0     2   \n72    40    16    .    .  .  1669.248     2    .          1           0     2   \n76    40    14    .    .  .  1470.432     2    .          1           0     2   \n80    40    11    .    .  .  1119.258     2    .          1           0     2   \n84    40     9    .    .  .   915.008     2    .          1           0     2   \n97    40     7    .    .  .   668.367     2    .          1           0     2   \n127   40     4    .    .  .   330.672     2    .          1           0     2   \n136   40     2    .    .  .   249.158     2    .          1           0     2   \n\n     DRUGCAT  EXPERIMENT    BW       YTV  KA     V    KE       w0  \n0          0           2  26.8         .  55  1.11  3.98  191.808  \n3          0           2  26.1         .  55  1.11  3.98  191.808  \n4          0           2  26.5         .  55  1.11  3.98  191.808  \n5          0           2  26.5         .  55  1.11  3.98  191.808  \n6          0           2  27.1         .  55  1.11  3.98  191.808  \n7          0           2  26.0         .  55  1.11  3.98  191.808  \n8          0           2  26.4         .  55  1.11  3.98  191.808  \n9          0           2  26.0         .  55  1.11  3.98  191.808  \n65         0           2  26.2  2276.736  55  1.11  3.98  191.808  \n69         0           2  25.4  1752.192  55  1.11  3.98  191.808  \n72         0           2  26.0  1669.248  55  1.11  3.98  191.808  \n76         0           2  26.4  1470.432  55  1.11  3.98  191.808  \n80         0           2  26.0  1119.258  55  1.11  3.98  191.808  \n84         0           2  27.1   915.008  55  1.11  3.98  191.808  \n97         0           2  26.5   668.367  55  1.11  3.98  191.808  \n127        0           2  26.5   330.672  55  1.11  3.98  191.808  \n136        0           2  26.1   249.158  55  1.11  3.98  191.808  ",
      "text/html": "<div>\n<style scoped>\n    .dataframe tbody tr th:only-of-type {\n        vertical-align: middle;\n    }\n\n    .dataframe tbody tr th {\n        vertical-align: top;\n    }\n\n    .dataframe thead th {\n        text-align: right;\n    }\n</style>\n<table border=\"1\" class=\"dataframe\">\n  <thead>\n    <tr style=\"text-align: right;\">\n      <th></th>\n      <th>#ID</th>\n      <th>TIME</th>\n      <th>DOSE</th>\n      <th>ADDL</th>\n      <th>II</th>\n      <th>Y</th>\n      <th>YTYPE</th>\n      <th>CENS</th>\n      <th>CELL LINE</th>\n      <th>DOSE GROUP</th>\n      <th>DRUG</th>\n      <th>DRUGCAT</th>\n      <th>EXPERIMENT</th>\n      <th>BW</th>\n      <th>YTV</th>\n      <th>KA</th>\n      <th>V</th>\n      <th>KE</th>\n      <th>w0</th>\n    </tr>\n  </thead>\n  <tbody>\n    <tr>\n      <th>0</th>\n      <td>40</td>\n      <td>0</td>\n      <td>.</td>\n      <td>.</td>\n      <td>.</td>\n      <td>191.808</td>\n      <td>2</td>\n      <td>.</td>\n      <td>1</td>\n      <td>0</td>\n      <td>2</td>\n      <td>0</td>\n      <td>2</td>\n      <td>26.8</td>\n      <td>.</td>\n      <td>55</td>\n      <td>1.11</td>\n      <td>3.98</td>\n      <td>191.808</td>\n    </tr>\n    <tr>\n      <th>3</th>\n      <td>40</td>\n      <td>3</td>\n      <td>0</td>\n      <td>.</td>\n      <td>.</td>\n      <td>.</td>\n      <td>.</td>\n      <td>.</td>\n      <td>1</td>\n      <td>0</td>\n      <td>2</td>\n      <td>0</td>\n      <td>2</td>\n      <td>26.1</td>\n      <td>.</td>\n      <td>55</td>\n      <td>1.11</td>\n      <td>3.98</td>\n      <td>191.808</td>\n    </tr>\n    <tr>\n      <th>4</th>\n      <td>40</td>\n      <td>4</td>\n      <td>0</td>\n      <td>2</td>\n      <td>1</td>\n      <td>.</td>\n      <td>.</td>\n      <td>.</td>\n      <td>1</td>\n      <td>0</td>\n      <td>2</td>\n      <td>0</td>\n      <td>2</td>\n      <td>26.5</td>\n      <td>.</td>\n      <td>55</td>\n      <td>1.11</td>\n      <td>3.98</td>\n      <td>191.808</td>\n    </tr>\n    <tr>\n      <th>5</th>\n      <td>40</td>\n      <td>7</td>\n      <td>0</td>\n      <td>1</td>\n      <td>1</td>\n      <td>.</td>\n      <td>.</td>\n      <td>.</td>\n      <td>1</td>\n      <td>0</td>\n      <td>2</td>\n      <td>0</td>\n      <td>2</td>\n      <td>26.5</td>\n      <td>.</td>\n      <td>55</td>\n      <td>1.11</td>\n      <td>3.98</td>\n      <td>191.808</td>\n    </tr>\n    <tr>\n      <th>6</th>\n      <td>40</td>\n      <td>9</td>\n      <td>0</td>\n      <td>1</td>\n      <td>1</td>\n      <td>.</td>\n      <td>.</td>\n      <td>.</td>\n      <td>1</td>\n      <td>0</td>\n      <td>2</td>\n      <td>0</td>\n      <td>2</td>\n      <td>27.1</td>\n      <td>.</td>\n      <td>55</td>\n      <td>1.11</td>\n      <td>3.98</td>\n      <td>191.808</td>\n    </tr>\n    <tr>\n      <th>7</th>\n      <td>40</td>\n      <td>11</td>\n      <td>0</td>\n      <td>2</td>\n      <td>1</td>\n      <td>.</td>\n      <td>.</td>\n      <td>.</td>\n      <td>1</td>\n      <td>0</td>\n      <td>2</td>\n      <td>0</td>\n      <td>2</td>\n      <td>26.0</td>\n      <td>.</td>\n      <td>55</td>\n      <td>1.11</td>\n      <td>3.98</td>\n      <td>191.808</td>\n    </tr>\n    <tr>\n      <th>8</th>\n      <td>40</td>\n      <td>14</td>\n      <td>0</td>\n      <td>1</td>\n      <td>1</td>\n      <td>.</td>\n      <td>.</td>\n      <td>.</td>\n      <td>1</td>\n      <td>0</td>\n      <td>2</td>\n      <td>0</td>\n      <td>2</td>\n      <td>26.4</td>\n      <td>.</td>\n      <td>55</td>\n      <td>1.11</td>\n      <td>3.98</td>\n      <td>191.808</td>\n    </tr>\n    <tr>\n      <th>9</th>\n      <td>40</td>\n      <td>16</td>\n      <td>0</td>\n      <td>.</td>\n      <td>.</td>\n      <td>.</td>\n      <td>.</td>\n      <td>.</td>\n      <td>1</td>\n      <td>0</td>\n      <td>2</td>\n      <td>0</td>\n      <td>2</td>\n      <td>26.0</td>\n      <td>.</td>\n      <td>55</td>\n      <td>1.11</td>\n      <td>3.98</td>\n      <td>191.808</td>\n    </tr>\n    <tr>\n      <th>65</th>\n      <td>40</td>\n      <td>21</td>\n      <td>.</td>\n      <td>.</td>\n      <td>.</td>\n      <td>2276.736</td>\n      <td>2</td>\n      <td>.</td>\n      <td>1</td>\n      <td>0</td>\n      <td>2</td>\n      <td>0</td>\n      <td>2</td>\n      <td>26.2</td>\n      <td>2276.736</td>\n      <td>55</td>\n      <td>1.11</td>\n      <td>3.98</td>\n      <td>191.808</td>\n    </tr>\n    <tr>\n      <th>69</th>\n      <td>40</td>\n      <td>18</td>\n      <td>.</td>\n      <td>.</td>\n      <td>.</td>\n      <td>1752.192</td>\n      <td>2</td>\n      <td>.</td>\n      <td>1</td>\n      <td>0</td>\n      <td>2</td>\n      <td>0</td>\n      <td>2</td>\n      <td>25.4</td>\n      <td>1752.192</td>\n      <td>55</td>\n      <td>1.11</td>\n      <td>3.98</td>\n      <td>191.808</td>\n    </tr>\n    <tr>\n      <th>72</th>\n      <td>40</td>\n      <td>16</td>\n      <td>.</td>\n      <td>.</td>\n      <td>.</td>\n      <td>1669.248</td>\n      <td>2</td>\n      <td>.</td>\n      <td>1</td>\n      <td>0</td>\n      <td>2</td>\n      <td>0</td>\n      <td>2</td>\n      <td>26.0</td>\n      <td>1669.248</td>\n      <td>55</td>\n      <td>1.11</td>\n      <td>3.98</td>\n      <td>191.808</td>\n    </tr>\n    <tr>\n      <th>76</th>\n      <td>40</td>\n      <td>14</td>\n      <td>.</td>\n      <td>.</td>\n      <td>.</td>\n      <td>1470.432</td>\n      <td>2</td>\n      <td>.</td>\n      <td>1</td>\n      <td>0</td>\n      <td>2</td>\n      <td>0</td>\n      <td>2</td>\n      <td>26.4</td>\n      <td>1470.432</td>\n      <td>55</td>\n      <td>1.11</td>\n      <td>3.98</td>\n      <td>191.808</td>\n    </tr>\n    <tr>\n      <th>80</th>\n      <td>40</td>\n      <td>11</td>\n      <td>.</td>\n      <td>.</td>\n      <td>.</td>\n      <td>1119.258</td>\n      <td>2</td>\n      <td>.</td>\n      <td>1</td>\n      <td>0</td>\n      <td>2</td>\n      <td>0</td>\n      <td>2</td>\n      <td>26.0</td>\n      <td>1119.258</td>\n      <td>55</td>\n      <td>1.11</td>\n      <td>3.98</td>\n      <td>191.808</td>\n    </tr>\n    <tr>\n      <th>84</th>\n      <td>40</td>\n      <td>9</td>\n      <td>.</td>\n      <td>.</td>\n      <td>.</td>\n      <td>915.008</td>\n      <td>2</td>\n      <td>.</td>\n      <td>1</td>\n      <td>0</td>\n      <td>2</td>\n      <td>0</td>\n      <td>2</td>\n      <td>27.1</td>\n      <td>915.008</td>\n      <td>55</td>\n      <td>1.11</td>\n      <td>3.98</td>\n      <td>191.808</td>\n    </tr>\n    <tr>\n      <th>97</th>\n      <td>40</td>\n      <td>7</td>\n      <td>.</td>\n      <td>.</td>\n      <td>.</td>\n      <td>668.367</td>\n      <td>2</td>\n      <td>.</td>\n      <td>1</td>\n      <td>0</td>\n      <td>2</td>\n      <td>0</td>\n      <td>2</td>\n      <td>26.5</td>\n      <td>668.367</td>\n      <td>55</td>\n      <td>1.11</td>\n      <td>3.98</td>\n      <td>191.808</td>\n    </tr>\n    <tr>\n      <th>127</th>\n      <td>40</td>\n      <td>4</td>\n      <td>.</td>\n      <td>.</td>\n      <td>.</td>\n      <td>330.672</td>\n      <td>2</td>\n      <td>.</td>\n      <td>1</td>\n      <td>0</td>\n      <td>2</td>\n      <td>0</td>\n      <td>2</td>\n      <td>26.5</td>\n      <td>330.672</td>\n      <td>55</td>\n      <td>1.11</td>\n      <td>3.98</td>\n      <td>191.808</td>\n    </tr>\n    <tr>\n      <th>136</th>\n      <td>40</td>\n      <td>2</td>\n      <td>.</td>\n      <td>.</td>\n      <td>.</td>\n      <td>249.158</td>\n      <td>2</td>\n      <td>.</td>\n      <td>1</td>\n      <td>0</td>\n      <td>2</td>\n      <td>0</td>\n      <td>2</td>\n      <td>26.1</td>\n      <td>249.158</td>\n      <td>55</td>\n      <td>1.11</td>\n      <td>3.98</td>\n      <td>191.808</td>\n    </tr>\n  </tbody>\n</table>\n</div>"
     },
     "metadata": {},
     "execution_count": 2
    }
   ],
   "source": [
    "lxf_data_raw[lxf_data_raw['#ID']==40]"
   ]
  },
  {
   "cell_type": "markdown",
   "metadata": {},
   "source": [
    "## Raw VXF A341 control growth data"
   ]
  },
  {
   "cell_type": "code",
   "execution_count": 3,
   "metadata": {
    "tags": []
   },
   "outputs": [
    {
     "output_type": "stream",
     "name": "stdout",
     "text": "Raw VXF A341 Control Growth data set:\n"
    },
    {
     "output_type": "execute_result",
     "data": {
      "text/plain": "     #ID  MICE  TIME DOSE ADDL II      TUMOR        YTV     w0\n0      1   708     0    .    .  .       92.5          .   92.5\n1      1   708     3    .    .  .      115.2      115.2   92.5\n2      1   708     3    0    3  1          .          .   92.5\n3      1   708     7    .    .  .      133.2      134.2   92.5\n4      1   708     7    0    2  1          .          .   92.5\n..   ...   ...   ...  ...  ... ..        ...        ...    ...\n128    7   743    30    .    .  .  1304.6875  1304.6875  207.4\n129    7   743    32    .    .  .     1419.6     1419.6  207.4\n130    7   743    35    .    .  .     1530.9     1530.9  207.4\n131    7   743    37    .    .  .  1576.4625  1576.4625  207.4\n132    7   743    39    .    .  .    1713.96    1713.96  207.4\n\n[133 rows x 9 columns]",
      "text/html": "<div>\n<style scoped>\n    .dataframe tbody tr th:only-of-type {\n        vertical-align: middle;\n    }\n\n    .dataframe tbody tr th {\n        vertical-align: top;\n    }\n\n    .dataframe thead th {\n        text-align: right;\n    }\n</style>\n<table border=\"1\" class=\"dataframe\">\n  <thead>\n    <tr style=\"text-align: right;\">\n      <th></th>\n      <th>#ID</th>\n      <th>MICE</th>\n      <th>TIME</th>\n      <th>DOSE</th>\n      <th>ADDL</th>\n      <th>II</th>\n      <th>TUMOR</th>\n      <th>YTV</th>\n      <th>w0</th>\n    </tr>\n  </thead>\n  <tbody>\n    <tr>\n      <th>0</th>\n      <td>1</td>\n      <td>708</td>\n      <td>0</td>\n      <td>.</td>\n      <td>.</td>\n      <td>.</td>\n      <td>92.5</td>\n      <td>.</td>\n      <td>92.5</td>\n    </tr>\n    <tr>\n      <th>1</th>\n      <td>1</td>\n      <td>708</td>\n      <td>3</td>\n      <td>.</td>\n      <td>.</td>\n      <td>.</td>\n      <td>115.2</td>\n      <td>115.2</td>\n      <td>92.5</td>\n    </tr>\n    <tr>\n      <th>2</th>\n      <td>1</td>\n      <td>708</td>\n      <td>3</td>\n      <td>0</td>\n      <td>3</td>\n      <td>1</td>\n      <td>.</td>\n      <td>.</td>\n      <td>92.5</td>\n    </tr>\n    <tr>\n      <th>3</th>\n      <td>1</td>\n      <td>708</td>\n      <td>7</td>\n      <td>.</td>\n      <td>.</td>\n      <td>.</td>\n      <td>133.2</td>\n      <td>134.2</td>\n      <td>92.5</td>\n    </tr>\n    <tr>\n      <th>4</th>\n      <td>1</td>\n      <td>708</td>\n      <td>7</td>\n      <td>0</td>\n      <td>2</td>\n      <td>1</td>\n      <td>.</td>\n      <td>.</td>\n      <td>92.5</td>\n    </tr>\n    <tr>\n      <th>...</th>\n      <td>...</td>\n      <td>...</td>\n      <td>...</td>\n      <td>...</td>\n      <td>...</td>\n      <td>...</td>\n      <td>...</td>\n      <td>...</td>\n      <td>...</td>\n    </tr>\n    <tr>\n      <th>128</th>\n      <td>7</td>\n      <td>743</td>\n      <td>30</td>\n      <td>.</td>\n      <td>.</td>\n      <td>.</td>\n      <td>1304.6875</td>\n      <td>1304.6875</td>\n      <td>207.4</td>\n    </tr>\n    <tr>\n      <th>129</th>\n      <td>7</td>\n      <td>743</td>\n      <td>32</td>\n      <td>.</td>\n      <td>.</td>\n      <td>.</td>\n      <td>1419.6</td>\n      <td>1419.6</td>\n      <td>207.4</td>\n    </tr>\n    <tr>\n      <th>130</th>\n      <td>7</td>\n      <td>743</td>\n      <td>35</td>\n      <td>.</td>\n      <td>.</td>\n      <td>.</td>\n      <td>1530.9</td>\n      <td>1530.9</td>\n      <td>207.4</td>\n    </tr>\n    <tr>\n      <th>131</th>\n      <td>7</td>\n      <td>743</td>\n      <td>37</td>\n      <td>.</td>\n      <td>.</td>\n      <td>.</td>\n      <td>1576.4625</td>\n      <td>1576.4625</td>\n      <td>207.4</td>\n    </tr>\n    <tr>\n      <th>132</th>\n      <td>7</td>\n      <td>743</td>\n      <td>39</td>\n      <td>.</td>\n      <td>.</td>\n      <td>.</td>\n      <td>1713.96</td>\n      <td>1713.96</td>\n      <td>207.4</td>\n    </tr>\n  </tbody>\n</table>\n<p>133 rows × 9 columns</p>\n</div>"
     },
     "metadata": {},
     "execution_count": 3
    }
   ],
   "source": [
    "#\n",
    "# Import raw VXF A341 data.\n",
    "#\n",
    "\n",
    "import os\n",
    "import pandas as pd\n",
    "\n",
    "\n",
    "# Import VXF A341 data\n",
    "path = os.getcwd()  # to make import independent of local path structure\n",
    "vxf_data_raw = pd.read_csv(path + '/data_raw/Ctrl_Growth_VXF.csv', sep=';')\n",
    "\n",
    "# Display data\n",
    "print('Raw VXF A341 Control Growth data set:')\n",
    "vxf_data_raw"
   ]
  },
  {
   "cell_type": "markdown",
   "metadata": {},
   "source": [
    "## Cleaning the data\n",
    "\n",
    "Note how the first data set seems to contain a lot more information than the second one. However, there is a lot of information that is not relevant for us. These data sets were manipulated with Monolix. That is why the meaning of most column keys can be looked up in the Monolix documentation. However, there are some customised keys whose meaning is not immediately clear. \n",
    "\n",
    "All we really need for our analyis is\n",
    "\n",
    "- **#ID** indicating which mouse was measured,\n",
    "- **TIME** indicating the time point of each measurement,\n",
    "- **TUMOUR VOLUME** indicating the measured tumour volume.\n",
    "\n",
    "While the columns **#ID** and **TIME** are easy to idenitfy in the data sets, **TUMOUR VOLUME** was intentionally chosen to be outside of the existing column keys. In both data sets there exist two keys that may potentially encode for the measured tumour volumes: **Y** and **YTV** in LXF; and **TUMOR** and **YTV** in VXF. The true measurements of the first experiment are easily identified by looking into the Monolix documentation. **Y** is here generally used as an identifier for the observations. For the second table it seems less obvious which column might contain the true data. However, in analogy with the first data set one might suspect that **YTV** is not the actual data. So until this will be clarified at a later stage, we will choose to use **TUMOR** as the true data.\n",
    "\n",
    "Remarks on remaining column keys:\n",
    "\n",
    "- **DOSE**: Seems to be a customised key encoding for the applied dose. This is the control group so we should ensure that this column has only NaN or zero entries.\n",
    "- **ADDL**, **II**: According to Monolix these keys encode for the number of doses (ADDL) to add in addition to the dose in intervals specified by II. Since this is supposed to be the control group, we should filter out any rows with non-null values for these keys.\n",
    "- **YTYPE**, **CENS**: According to Monolix these keys encode for the data type (tumour volume in this case) and whether the measurered values were subject to censoring. We should make sure that censored data should be dealt with accordingly and only one data type is present in the data set.\n",
    "- **CELL LINE**, **DOSE GROUP**, **DRUG**, **EXPERIMENT**: These customised keys are quite self-explanatory. We should make sure that the data we use is uni-valued in these columns.\n",
    "- **DRUGCAT**: The meaning of this key is less clear. It may refer to the drug category encoding for the route of administration. We should make sure that this column is also only uni-valued. If mutliple values are assumed we need to clarify what this column means.\n",
    "- **BW**: refers to the body weight of the mouse at the time of the measurement.\n",
    "- **KA**, **V**, **KE**, **w0**: These keys are customised keys, whose meaning is not immediately clear. They appear to be parameters of the PKPD model. We are interested in infering parameters, so we are not interested in any previously obtained parameters, and choose to ignore this column.\n",
    "\n",
    "Remarks on units of relevant columns:\n",
    "\n",
    "The raw data sets do not contain the units of the measured quantities. From the reference [1], we may however infer that \n",
    "- **TIME**: was measured in $\\text{day}$, and\n",
    "- **TUMOUR VOLUME**: was measured in $\\text{mm}^3$. \n",
    "\n",
    "For reasons that will become clear later, we will choose to measure the tumour volume in $\\text{cm}^3$."
   ]
  },
  {
   "cell_type": "markdown",
   "metadata": {},
   "source": [
    "## LXF A677 control growth data"
   ]
  },
  {
   "cell_type": "code",
   "execution_count": 4,
   "metadata": {
    "tags": []
   },
   "outputs": [
    {
     "output_type": "stream",
     "name": "stdout",
     "text": "LXF A677 Control Growth:\n"
    },
    {
     "output_type": "execute_result",
     "data": {
      "text/plain": "     #ID  TIME in day  TUMOUR VOLUME in cm^3\n0     40            0               0.191808\n1     94            0               0.077248\n2     95            0               0.186200\n59   136            0               0.118588\n60   140            0               0.079330\n..   ...          ...                    ...\n77   136           30               1.459342\n103   94           30               0.576240\n90   169           30               0.746986\n67   140           30               2.122582\n102  170           30               0.620626\n\n[102 rows x 3 columns]",
      "text/html": "<div>\n<style scoped>\n    .dataframe tbody tr th:only-of-type {\n        vertical-align: middle;\n    }\n\n    .dataframe tbody tr th {\n        vertical-align: top;\n    }\n\n    .dataframe thead th {\n        text-align: right;\n    }\n</style>\n<table border=\"1\" class=\"dataframe\">\n  <thead>\n    <tr style=\"text-align: right;\">\n      <th></th>\n      <th>#ID</th>\n      <th>TIME in day</th>\n      <th>TUMOUR VOLUME in cm^3</th>\n    </tr>\n  </thead>\n  <tbody>\n    <tr>\n      <th>0</th>\n      <td>40</td>\n      <td>0</td>\n      <td>0.191808</td>\n    </tr>\n    <tr>\n      <th>1</th>\n      <td>94</td>\n      <td>0</td>\n      <td>0.077248</td>\n    </tr>\n    <tr>\n      <th>2</th>\n      <td>95</td>\n      <td>0</td>\n      <td>0.186200</td>\n    </tr>\n    <tr>\n      <th>59</th>\n      <td>136</td>\n      <td>0</td>\n      <td>0.118588</td>\n    </tr>\n    <tr>\n      <th>60</th>\n      <td>140</td>\n      <td>0</td>\n      <td>0.079330</td>\n    </tr>\n    <tr>\n      <th>...</th>\n      <td>...</td>\n      <td>...</td>\n      <td>...</td>\n    </tr>\n    <tr>\n      <th>77</th>\n      <td>136</td>\n      <td>30</td>\n      <td>1.459342</td>\n    </tr>\n    <tr>\n      <th>103</th>\n      <td>94</td>\n      <td>30</td>\n      <td>0.576240</td>\n    </tr>\n    <tr>\n      <th>90</th>\n      <td>169</td>\n      <td>30</td>\n      <td>0.746986</td>\n    </tr>\n    <tr>\n      <th>67</th>\n      <td>140</td>\n      <td>30</td>\n      <td>2.122582</td>\n    </tr>\n    <tr>\n      <th>102</th>\n      <td>170</td>\n      <td>30</td>\n      <td>0.620626</td>\n    </tr>\n  </tbody>\n</table>\n<p>102 rows × 3 columns</p>\n</div>"
     },
     "metadata": {},
     "execution_count": 4
    }
   ],
   "source": [
    "#\n",
    "# Create LXF A677 data from raw data set.\n",
    "#\n",
    "\n",
    "import os\n",
    "import pandas as pd\n",
    "\n",
    "\n",
    "# Import LXF A677 data\n",
    "path = os.getcwd()  # to make import independent of local path structure\n",
    "lxf_data_raw = pd.read_csv(path + '/data_raw/Ctrl_Growth_LXF.csv')\n",
    "\n",
    "# Make sure that data is stored as numeric data\n",
    "lxf_data = lxf_data_raw.apply(pd.to_numeric, errors='coerce')\n",
    "\n",
    "# Mask data for non-null Y rows\n",
    "lxf_data = lxf_data[lxf_data['Y'].notnull()]\n",
    "\n",
    "# Rename Y to TUMOUR VOLUME in mm^3\n",
    "lxf_data = lxf_data.rename(columns={'Y': 'TUMOUR VOLUME in mm^3'})\n",
    "\n",
    "# Rename TIME to TIME in day\n",
    "lxf_data = lxf_data.rename(columns={'TIME': 'TIME in day'})\n",
    "\n",
    "# Raise error if DOSE, ADDL, II, YTYPE, CENS, CELL LINE, DOSE GROUP, DRUG, EXPERIMENT or DRUGCAT are not uni-valued\n",
    "if len(lxf_data['DOSE'].unique()) > 1:\n",
    "    raise ValueError\n",
    "if len(lxf_data['ADDL'].unique()) > 1:\n",
    "    raise ValueError\n",
    "if len(lxf_data['II'].unique()) > 1:\n",
    "    raise ValueError\n",
    "if len(lxf_data['YTYPE'].unique()) > 1:\n",
    "    raise ValueError\n",
    "if len(lxf_data['CENS'].unique()) > 1:\n",
    "    raise ValueError\n",
    "if len(lxf_data['CELL LINE'].unique()) > 1:\n",
    "    raise ValueError\n",
    "if len(lxf_data['DOSE GROUP'].unique()) > 1:\n",
    "    raise ValueError\n",
    "if len(lxf_data['DRUG'].unique()) > 1:\n",
    "    raise ValueError\n",
    "if len(lxf_data['EXPERIMENT'].unique()) > 1:\n",
    "    raise ValueError\n",
    "if len(lxf_data['DRUGCAT'].unique()) > 1:\n",
    "    raise ValueError\n",
    "\n",
    "# Keep only #ID, TIME and TUMOUR VOLUME column\n",
    "lxf_data = lxf_data[['#ID', 'TIME in day', 'TUMOUR VOLUME in mm^3']]\n",
    "\n",
    "# Sort data such that time is increasing (for later convenience)\n",
    "lxf_data.sort_values('TIME in day', inplace=True)\n",
    "\n",
    "# Convert tumour measurements to cm^3\n",
    "lxf_data['TUMOUR VOLUME in mm^3'] *= 1E-03\n",
    "lxf_data = lxf_data.rename(columns={'TUMOUR VOLUME in mm^3': 'TUMOUR VOLUME in cm^3'})\n",
    "\n",
    "# Delete raw data from memory\n",
    "del lxf_data_raw\n",
    "\n",
    "# Display cleaned data set\n",
    "print('LXF A677 Control Growth:')\n",
    "lxf_data"
   ]
  },
  {
   "cell_type": "markdown",
   "metadata": {},
   "source": [
    "## VXF A341 control growth data"
   ]
  },
  {
   "cell_type": "code",
   "execution_count": 5,
   "metadata": {
    "tags": []
   },
   "outputs": [
    {
     "output_type": "stream",
     "name": "stdout",
     "text": "VXF A341 Control Growth:\n"
    },
    {
     "output_type": "execute_result",
     "data": {
      "text/plain": "     #ID  TIME in day  TUMOUR VOLUME in cm^3\n0    708            0               0.092500\n19   713            0               0.072000\n114  743            0               0.207400\n95   741            0               0.119100\n38   730            0               0.092500\n..   ...          ...                    ...\n56   730           39               0.686070\n94   739           39               2.040690\n37   713           39               0.799254\n75   733           39               0.816480\n132  743           39               1.713960\n\n[98 rows x 3 columns]",
      "text/html": "<div>\n<style scoped>\n    .dataframe tbody tr th:only-of-type {\n        vertical-align: middle;\n    }\n\n    .dataframe tbody tr th {\n        vertical-align: top;\n    }\n\n    .dataframe thead th {\n        text-align: right;\n    }\n</style>\n<table border=\"1\" class=\"dataframe\">\n  <thead>\n    <tr style=\"text-align: right;\">\n      <th></th>\n      <th>#ID</th>\n      <th>TIME in day</th>\n      <th>TUMOUR VOLUME in cm^3</th>\n    </tr>\n  </thead>\n  <tbody>\n    <tr>\n      <th>0</th>\n      <td>708</td>\n      <td>0</td>\n      <td>0.092500</td>\n    </tr>\n    <tr>\n      <th>19</th>\n      <td>713</td>\n      <td>0</td>\n      <td>0.072000</td>\n    </tr>\n    <tr>\n      <th>114</th>\n      <td>743</td>\n      <td>0</td>\n      <td>0.207400</td>\n    </tr>\n    <tr>\n      <th>95</th>\n      <td>741</td>\n      <td>0</td>\n      <td>0.119100</td>\n    </tr>\n    <tr>\n      <th>38</th>\n      <td>730</td>\n      <td>0</td>\n      <td>0.092500</td>\n    </tr>\n    <tr>\n      <th>...</th>\n      <td>...</td>\n      <td>...</td>\n      <td>...</td>\n    </tr>\n    <tr>\n      <th>56</th>\n      <td>730</td>\n      <td>39</td>\n      <td>0.686070</td>\n    </tr>\n    <tr>\n      <th>94</th>\n      <td>739</td>\n      <td>39</td>\n      <td>2.040690</td>\n    </tr>\n    <tr>\n      <th>37</th>\n      <td>713</td>\n      <td>39</td>\n      <td>0.799254</td>\n    </tr>\n    <tr>\n      <th>75</th>\n      <td>733</td>\n      <td>39</td>\n      <td>0.816480</td>\n    </tr>\n    <tr>\n      <th>132</th>\n      <td>743</td>\n      <td>39</td>\n      <td>1.713960</td>\n    </tr>\n  </tbody>\n</table>\n<p>98 rows × 3 columns</p>\n</div>"
     },
     "metadata": {},
     "execution_count": 5
    }
   ],
   "source": [
    "#\n",
    "# Create VXF A341 data from raw data set.\n",
    "#\n",
    "import os\n",
    "import pandas as pd\n",
    "\n",
    "\n",
    "# Import LXF A677 data\n",
    "path = os.getcwd()  # to make import independent of local path structure\n",
    "vxf_data_raw = pd.read_csv(path + '/data_raw/Ctrl_Growth_VXF.csv', sep=';')\n",
    "\n",
    "# Make sure that data is stored as numeric data\n",
    "vxf_data = vxf_data_raw.apply(pd.to_numeric, errors='coerce')\n",
    "\n",
    "# Mask data for rows where TUMOR and YTV coincide\n",
    "vxf_data = vxf_data[vxf_data['TUMOR'].notnull()]\n",
    "\n",
    "# Rename TUMOR to TUMOUR VOLUME in mm^3\n",
    "vxf_data = vxf_data.rename(columns={'TUMOR': 'TUMOUR VOLUME in mm^3'})\n",
    "\n",
    "# Rename TIME to TIME in day\n",
    "vxf_data = vxf_data.rename(columns={'TIME': 'TIME in day'})\n",
    "\n",
    "# Raise error if DOSE, ADDL or II are not uni-valued\n",
    "if len(vxf_data['DOSE'].unique()) > 1:\n",
    "    raise ValueError\n",
    "if len(vxf_data['ADDL'].unique()) > 1:\n",
    "    raise ValueError\n",
    "if len(vxf_data['II'].unique()) > 1:\n",
    "    raise ValueError\n",
    "\n",
    "# Keep only MICE, TIME and TUMOUR VOLUME column\n",
    "vxf_data = vxf_data[['MICE', 'TIME in day', 'TUMOUR VOLUME in mm^3']]\n",
    "\n",
    "# Rename MICE to #ID\n",
    "vxf_data = vxf_data.rename(columns={'MICE': '#ID'})\n",
    "\n",
    "# Sort data such that time is increasing (for later convenience)\n",
    "vxf_data.sort_values('TIME in day', inplace=True)\n",
    "\n",
    "# Convert tumour measurements to cm^3\n",
    "vxf_data['TUMOUR VOLUME in mm^3'] *= 1E-03\n",
    "vxf_data = vxf_data.rename(columns={'TUMOUR VOLUME in mm^3': 'TUMOUR VOLUME in cm^3'})\n",
    "\n",
    "# Delete raw data from memory\n",
    "del vxf_data_raw\n",
    "\n",
    "# Display cleaned data set\n",
    "print('VXF A341 Control Growth:')\n",
    "vxf_data"
   ]
  },
  {
   "cell_type": "markdown",
   "metadata": {},
   "source": [
    "## Illustrate control growth data\n",
    "\n",
    "We use [plotly](https://plotly.com/python/) to create interactive visualisations of the time-series data."
   ]
  },
  {
   "cell_type": "code",
   "execution_count": 6,
   "metadata": {},
   "outputs": [
    {
     "output_type": "display_data",
     "data": {
      "application/vnd.plotly.v1+json": {
       "config": {
        "plotlyServerURL": "https://plot.ly"
       },
       "data": [
        {
         "hovertemplate": "<b>LXF A677 ID: 40</b><br>Time: %{x:} day<br>Tumour volume: %{y:.02f} cm^3<br><extra></extra>",
         "legendgroup": "LXF A677",
         "marker": {
          "line": {
           "color": "black",
           "width": 1
          },
          "opacity": 0.7,
          "symbol": "circle"
         },
         "mode": "markers",
         "name": "LXF A677",
         "showlegend": true,
         "type": "scatter",
         "x": [
          0,
          2,
          4,
          7,
          9,
          11,
          14,
          16,
          18,
          21
         ],
         "y": [
          0.191808,
          0.249158,
          0.33067199999999997,
          0.6683669999999999,
          0.915008,
          1.119258,
          1.470432,
          1.6692479999999998,
          1.752192,
          2.276736
         ]
        },
        {
         "hovertemplate": "<b>LXF A677 ID: 94</b><br>Time: %{x:} day<br>Tumour volume: %{y:.02f} cm^3<br><extra></extra>",
         "legendgroup": "LXF A677",
         "marker": {
          "line": {
           "color": "black",
           "width": 1
          },
          "opacity": 0.7,
          "symbol": "circle"
         },
         "mode": "markers",
         "name": "LXF A677",
         "showlegend": false,
         "type": "scatter",
         "x": [
          0,
          2,
          4,
          7,
          9,
          11,
          14,
          16,
          18,
          21,
          23,
          25,
          28,
          30
         ],
         "y": [
          0.07724750000000001,
          0.0884835,
          0.125316,
          0.165528,
          0.189486,
          0.264654,
          0.264654,
          0.306936,
          0.389207,
          0.389207,
          0.405769,
          0.4264715,
          0.5551309999999999,
          0.57624
         ]
        },
        {
         "hovertemplate": "<b>LXF A677 ID: 95</b><br>Time: %{x:} day<br>Tumour volume: %{y:.02f} cm^3<br><extra></extra>",
         "legendgroup": "LXF A677",
         "marker": {
          "line": {
           "color": "black",
           "width": 1
          },
          "opacity": 0.7,
          "symbol": "circle"
         },
         "mode": "markers",
         "name": "LXF A677",
         "showlegend": false,
         "type": "scatter",
         "x": [
          0,
          2,
          4,
          7,
          9,
          11,
          14,
          16,
          18,
          21
         ],
         "y": [
          0.1862,
          0.24642,
          0.4293,
          0.62426,
          0.7246720000000001,
          0.7300800000000001,
          0.9196000000000001,
          1.131184,
          1.675872,
          2.346616
         ]
        },
        {
         "hovertemplate": "<b>LXF A677 ID: 136</b><br>Time: %{x:} day<br>Tumour volume: %{y:.02f} cm^3<br><extra></extra>",
         "legendgroup": "LXF A677",
         "marker": {
          "line": {
           "color": "black",
           "width": 1
          },
          "opacity": 0.7,
          "symbol": "circle"
         },
         "mode": "markers",
         "name": "LXF A677",
         "showlegend": false,
         "type": "scatter",
         "x": [
          0,
          2,
          4,
          7,
          9,
          11,
          14,
          16,
          18,
          21,
          23,
          25,
          28,
          30
         ],
         "y": [
          0.1185885,
          0.175071,
          0.22999200000000003,
          0.30268849999999997,
          0.30268849999999997,
          0.37044,
          0.5341545,
          0.651688,
          0.7212869999999999,
          0.78732,
          0.8529505000000001,
          1.104558,
          1.13288,
          1.4593425
         ]
        },
        {
         "hovertemplate": "<b>LXF A677 ID: 140</b><br>Time: %{x:} day<br>Tumour volume: %{y:.02f} cm^3<br><extra></extra>",
         "legendgroup": "LXF A677",
         "marker": {
          "line": {
           "color": "black",
           "width": 1
          },
          "opacity": 0.7,
          "symbol": "circle"
         },
         "mode": "markers",
         "name": "LXF A677",
         "showlegend": false,
         "type": "scatter",
         "x": [
          0,
          2,
          4,
          7,
          9,
          11,
          14,
          16,
          18,
          21,
          23,
          25,
          28,
          30
         ],
         "y": [
          0.0793305,
          0.12685200000000002,
          0.146072,
          0.261121,
          0.34574400000000005,
          0.3552,
          0.41905000000000003,
          0.480298,
          0.556668,
          0.8089919999999999,
          0.857304,
          1.097675,
          1.9921440000000001,
          2.1225820000000004
         ]
        },
        {
         "hovertemplate": "<b>LXF A677 ID: 155</b><br>Time: %{x:} day<br>Tumour volume: %{y:.02f} cm^3<br><extra></extra>",
         "legendgroup": "LXF A677",
         "marker": {
          "line": {
           "color": "black",
           "width": 1
          },
          "opacity": 0.7,
          "symbol": "circle"
         },
         "mode": "markers",
         "name": "LXF A677",
         "showlegend": false,
         "type": "scatter",
         "x": [
          0,
          2,
          4,
          7,
          9,
          11,
          14,
          16,
          18,
          21,
          23,
          25
         ],
         "y": [
          0.105875,
          0.167706,
          0.35632800000000003,
          0.6489600000000001,
          0.692224,
          0.7300800000000001,
          0.81648,
          1.494954,
          1.5166985,
          1.72405,
          1.637784,
          2.25108
         ]
        },
        {
         "hovertemplate": "<b>LXF A677 ID: 169</b><br>Time: %{x:} day<br>Tumour volume: %{y:.02f} cm^3<br><extra></extra>",
         "legendgroup": "LXF A677",
         "marker": {
          "line": {
           "color": "black",
           "width": 1
          },
          "opacity": 0.7,
          "symbol": "circle"
         },
         "mode": "markers",
         "name": "LXF A677",
         "showlegend": false,
         "type": "scatter",
         "x": [
          0,
          2,
          4,
          7,
          9,
          11,
          14,
          16,
          18,
          21,
          23,
          25,
          28,
          30
         ],
         "y": [
          0.12300799999999999,
          0.128774,
          0.1764,
          0.20516650000000003,
          0.2460535,
          0.2788425,
          0.333036,
          0.356445,
          0.39285000000000003,
          0.47985900000000004,
          0.539055,
          0.6354195,
          0.7146180000000001,
          0.7469865
         ]
        },
        {
         "hovertemplate": "<b>LXF A677 ID: 170</b><br>Time: %{x:} day<br>Tumour volume: %{y:.02f} cm^3<br><extra></extra>",
         "legendgroup": "LXF A677",
         "marker": {
          "line": {
           "color": "black",
           "width": 1
          },
          "opacity": 0.7,
          "symbol": "circle"
         },
         "mode": "markers",
         "name": "LXF A677",
         "showlegend": false,
         "type": "scatter",
         "x": [
          0,
          2,
          4,
          7,
          9,
          11,
          14,
          16,
          18,
          21,
          23,
          25,
          28,
          30
         ],
         "y": [
          0.0800565,
          0.094221,
          0.10933,
          0.158994,
          0.176157,
          0.1940785,
          0.20416050000000002,
          0.246402,
          0.3050865,
          0.3683265,
          0.418176,
          0.4396155,
          0.5661554999999999,
          0.6206265
         ]
        },
        {
         "hovertemplate": "<b>VXF A341 ID: 708</b><br>Time: %{x:} day<br>Tumour volume: %{y:.02f} cm^3<br><extra></extra>",
         "legendgroup": "VXF A341",
         "marker": {
          "line": {
           "color": "black",
           "width": 1
          },
          "opacity": 0.7,
          "symbol": "star"
         },
         "mode": "markers",
         "name": "VXF A341",
         "showlegend": true,
         "type": "scatter",
         "x": [
          0,
          3,
          7,
          10,
          14,
          17,
          21,
          24,
          28,
          30,
          32,
          35,
          37,
          39
         ],
         "y": [
          0.0925,
          0.11520000000000001,
          0.13319999999999999,
          0.1368,
          0.23328000000000002,
          0.253125,
          0.27273400000000003,
          0.28755650000000005,
          0.295074,
          0.35870599999999997,
          0.377196,
          0.41714999999999997,
          0.36338400000000004,
          0.5234500000000001
         ]
        },
        {
         "hovertemplate": "<b>VXF A341 ID: 713</b><br>Time: %{x:} day<br>Tumour volume: %{y:.02f} cm^3<br><extra></extra>",
         "legendgroup": "VXF A341",
         "marker": {
          "line": {
           "color": "black",
           "width": 1
          },
          "opacity": 0.7,
          "symbol": "star"
         },
         "mode": "markers",
         "name": "VXF A341",
         "showlegend": false,
         "type": "scatter",
         "x": [
          0,
          3,
          7,
          10,
          14,
          17,
          21,
          24,
          28,
          30,
          32,
          35,
          37,
          39
         ],
         "y": [
          0.07200000000000001,
          0.0828345,
          0.08625000000000001,
          0.11603200000000001,
          0.19652000000000003,
          0.19166400000000003,
          0.25414400000000004,
          0.284592,
          0.3053435,
          0.382925,
          0.5033815,
          0.539136,
          0.7338239999999999,
          0.7992539999999999
         ]
        },
        {
         "hovertemplate": "<b>VXF A341 ID: 743</b><br>Time: %{x:} day<br>Tumour volume: %{y:.02f} cm^3<br><extra></extra>",
         "legendgroup": "VXF A341",
         "marker": {
          "line": {
           "color": "black",
           "width": 1
          },
          "opacity": 0.7,
          "symbol": "star"
         },
         "mode": "markers",
         "name": "VXF A341",
         "showlegend": false,
         "type": "scatter",
         "x": [
          0,
          3,
          7,
          10,
          14,
          17,
          21,
          24,
          28,
          30,
          32,
          35,
          37,
          39
         ],
         "y": [
          0.2074,
          0.3203385,
          0.40656000000000003,
          0.5279625,
          0.7166250000000001,
          0.851472,
          0.9576749999999999,
          1.0117125,
          1.0513875000000001,
          1.3046875,
          1.4196,
          1.5309000000000001,
          1.5764625,
          1.7139600000000002
         ]
        },
        {
         "hovertemplate": "<b>VXF A341 ID: 741</b><br>Time: %{x:} day<br>Tumour volume: %{y:.02f} cm^3<br><extra></extra>",
         "legendgroup": "VXF A341",
         "marker": {
          "line": {
           "color": "black",
           "width": 1
          },
          "opacity": 0.7,
          "symbol": "star"
         },
         "mode": "markers",
         "name": "VXF A341",
         "showlegend": false,
         "type": "scatter",
         "x": [
          0,
          3,
          7,
          10,
          14,
          17,
          21,
          24,
          28,
          30,
          32,
          35,
          37,
          39
         ],
         "y": [
          0.1191,
          0.17802400000000002,
          0.20335,
          0.312666,
          0.5722200000000001,
          0.5700000000000001,
          0.581457,
          0.7744,
          0.84474,
          0.87464,
          1.3377220000000003,
          0.9852625,
          1.3677839999999999,
          1.52352
         ]
        },
        {
         "hovertemplate": "<b>VXF A341 ID: 730</b><br>Time: %{x:} day<br>Tumour volume: %{y:.02f} cm^3<br><extra></extra>",
         "legendgroup": "VXF A341",
         "marker": {
          "line": {
           "color": "black",
           "width": 1
          },
          "opacity": 0.7,
          "symbol": "star"
         },
         "mode": "markers",
         "name": "VXF A341",
         "showlegend": false,
         "type": "scatter",
         "x": [
          0,
          3,
          7,
          10,
          14,
          17,
          21,
          24,
          28,
          30,
          32,
          35,
          37,
          39
         ],
         "y": [
          0.0925,
          0.10819200000000001,
          0.1358165,
          0.149916,
          0.1686825,
          0.2293655,
          0.284592,
          0.284592,
          0.3392,
          0.4371125,
          0.451156,
          0.5332319999999999,
          0.5944320000000001,
          0.6860700000000001
         ]
        },
        {
         "hovertemplate": "<b>VXF A341 ID: 739</b><br>Time: %{x:} day<br>Tumour volume: %{y:.02f} cm^3<br><extra></extra>",
         "legendgroup": "VXF A341",
         "marker": {
          "line": {
           "color": "black",
           "width": 1
          },
          "opacity": 0.7,
          "symbol": "star"
         },
         "mode": "markers",
         "name": "VXF A341",
         "showlegend": false,
         "type": "scatter",
         "x": [
          0,
          3,
          7,
          10,
          14,
          17,
          21,
          24,
          28,
          30,
          32,
          35,
          37,
          39
         ],
         "y": [
          0.1218,
          0.18853799999999998,
          0.248832,
          0.27993599999999996,
          0.43753600000000004,
          0.525312,
          0.61,
          0.6890625,
          0.724722,
          1.0295999999999998,
          1.1224480000000001,
          1.241933,
          1.7649795,
          2.0406895
         ]
        },
        {
         "hovertemplate": "<b>VXF A341 ID: 733</b><br>Time: %{x:} day<br>Tumour volume: %{y:.02f} cm^3<br><extra></extra>",
         "legendgroup": "VXF A341",
         "marker": {
          "line": {
           "color": "black",
           "width": 1
          },
          "opacity": 0.7,
          "symbol": "star"
         },
         "mode": "markers",
         "name": "VXF A341",
         "showlegend": false,
         "type": "scatter",
         "x": [
          0,
          3,
          7,
          10,
          14,
          17,
          21,
          24,
          28,
          30,
          32,
          35,
          37,
          39
         ],
         "y": [
          0.07150000000000001,
          0.087725,
          0.107648,
          0.150822,
          0.20825,
          0.202554,
          0.268584,
          0.313326,
          0.31941,
          0.385784,
          0.4335,
          0.585844,
          0.6194580000000001,
          0.81648
         ]
        }
       ],
       "layout": {
        "autosize": true,
        "template": {
         "data": {
          "bar": [
           {
            "error_x": {
             "color": "#2a3f5f"
            },
            "error_y": {
             "color": "#2a3f5f"
            },
            "marker": {
             "line": {
              "color": "white",
              "width": 0.5
             }
            },
            "type": "bar"
           }
          ],
          "barpolar": [
           {
            "marker": {
             "line": {
              "color": "white",
              "width": 0.5
             }
            },
            "type": "barpolar"
           }
          ],
          "carpet": [
           {
            "aaxis": {
             "endlinecolor": "#2a3f5f",
             "gridcolor": "#C8D4E3",
             "linecolor": "#C8D4E3",
             "minorgridcolor": "#C8D4E3",
             "startlinecolor": "#2a3f5f"
            },
            "baxis": {
             "endlinecolor": "#2a3f5f",
             "gridcolor": "#C8D4E3",
             "linecolor": "#C8D4E3",
             "minorgridcolor": "#C8D4E3",
             "startlinecolor": "#2a3f5f"
            },
            "type": "carpet"
           }
          ],
          "choropleth": [
           {
            "colorbar": {
             "outlinewidth": 0,
             "ticks": ""
            },
            "type": "choropleth"
           }
          ],
          "contour": [
           {
            "colorbar": {
             "outlinewidth": 0,
             "ticks": ""
            },
            "colorscale": [
             [
              0,
              "#0d0887"
             ],
             [
              0.1111111111111111,
              "#46039f"
             ],
             [
              0.2222222222222222,
              "#7201a8"
             ],
             [
              0.3333333333333333,
              "#9c179e"
             ],
             [
              0.4444444444444444,
              "#bd3786"
             ],
             [
              0.5555555555555556,
              "#d8576b"
             ],
             [
              0.6666666666666666,
              "#ed7953"
             ],
             [
              0.7777777777777778,
              "#fb9f3a"
             ],
             [
              0.8888888888888888,
              "#fdca26"
             ],
             [
              1,
              "#f0f921"
             ]
            ],
            "type": "contour"
           }
          ],
          "contourcarpet": [
           {
            "colorbar": {
             "outlinewidth": 0,
             "ticks": ""
            },
            "type": "contourcarpet"
           }
          ],
          "heatmap": [
           {
            "colorbar": {
             "outlinewidth": 0,
             "ticks": ""
            },
            "colorscale": [
             [
              0,
              "#0d0887"
             ],
             [
              0.1111111111111111,
              "#46039f"
             ],
             [
              0.2222222222222222,
              "#7201a8"
             ],
             [
              0.3333333333333333,
              "#9c179e"
             ],
             [
              0.4444444444444444,
              "#bd3786"
             ],
             [
              0.5555555555555556,
              "#d8576b"
             ],
             [
              0.6666666666666666,
              "#ed7953"
             ],
             [
              0.7777777777777778,
              "#fb9f3a"
             ],
             [
              0.8888888888888888,
              "#fdca26"
             ],
             [
              1,
              "#f0f921"
             ]
            ],
            "type": "heatmap"
           }
          ],
          "heatmapgl": [
           {
            "colorbar": {
             "outlinewidth": 0,
             "ticks": ""
            },
            "colorscale": [
             [
              0,
              "#0d0887"
             ],
             [
              0.1111111111111111,
              "#46039f"
             ],
             [
              0.2222222222222222,
              "#7201a8"
             ],
             [
              0.3333333333333333,
              "#9c179e"
             ],
             [
              0.4444444444444444,
              "#bd3786"
             ],
             [
              0.5555555555555556,
              "#d8576b"
             ],
             [
              0.6666666666666666,
              "#ed7953"
             ],
             [
              0.7777777777777778,
              "#fb9f3a"
             ],
             [
              0.8888888888888888,
              "#fdca26"
             ],
             [
              1,
              "#f0f921"
             ]
            ],
            "type": "heatmapgl"
           }
          ],
          "histogram": [
           {
            "marker": {
             "colorbar": {
              "outlinewidth": 0,
              "ticks": ""
             }
            },
            "type": "histogram"
           }
          ],
          "histogram2d": [
           {
            "colorbar": {
             "outlinewidth": 0,
             "ticks": ""
            },
            "colorscale": [
             [
              0,
              "#0d0887"
             ],
             [
              0.1111111111111111,
              "#46039f"
             ],
             [
              0.2222222222222222,
              "#7201a8"
             ],
             [
              0.3333333333333333,
              "#9c179e"
             ],
             [
              0.4444444444444444,
              "#bd3786"
             ],
             [
              0.5555555555555556,
              "#d8576b"
             ],
             [
              0.6666666666666666,
              "#ed7953"
             ],
             [
              0.7777777777777778,
              "#fb9f3a"
             ],
             [
              0.8888888888888888,
              "#fdca26"
             ],
             [
              1,
              "#f0f921"
             ]
            ],
            "type": "histogram2d"
           }
          ],
          "histogram2dcontour": [
           {
            "colorbar": {
             "outlinewidth": 0,
             "ticks": ""
            },
            "colorscale": [
             [
              0,
              "#0d0887"
             ],
             [
              0.1111111111111111,
              "#46039f"
             ],
             [
              0.2222222222222222,
              "#7201a8"
             ],
             [
              0.3333333333333333,
              "#9c179e"
             ],
             [
              0.4444444444444444,
              "#bd3786"
             ],
             [
              0.5555555555555556,
              "#d8576b"
             ],
             [
              0.6666666666666666,
              "#ed7953"
             ],
             [
              0.7777777777777778,
              "#fb9f3a"
             ],
             [
              0.8888888888888888,
              "#fdca26"
             ],
             [
              1,
              "#f0f921"
             ]
            ],
            "type": "histogram2dcontour"
           }
          ],
          "mesh3d": [
           {
            "colorbar": {
             "outlinewidth": 0,
             "ticks": ""
            },
            "type": "mesh3d"
           }
          ],
          "parcoords": [
           {
            "line": {
             "colorbar": {
              "outlinewidth": 0,
              "ticks": ""
             }
            },
            "type": "parcoords"
           }
          ],
          "pie": [
           {
            "automargin": true,
            "type": "pie"
           }
          ],
          "scatter": [
           {
            "marker": {
             "colorbar": {
              "outlinewidth": 0,
              "ticks": ""
             }
            },
            "type": "scatter"
           }
          ],
          "scatter3d": [
           {
            "line": {
             "colorbar": {
              "outlinewidth": 0,
              "ticks": ""
             }
            },
            "marker": {
             "colorbar": {
              "outlinewidth": 0,
              "ticks": ""
             }
            },
            "type": "scatter3d"
           }
          ],
          "scattercarpet": [
           {
            "marker": {
             "colorbar": {
              "outlinewidth": 0,
              "ticks": ""
             }
            },
            "type": "scattercarpet"
           }
          ],
          "scattergeo": [
           {
            "marker": {
             "colorbar": {
              "outlinewidth": 0,
              "ticks": ""
             }
            },
            "type": "scattergeo"
           }
          ],
          "scattergl": [
           {
            "marker": {
             "colorbar": {
              "outlinewidth": 0,
              "ticks": ""
             }
            },
            "type": "scattergl"
           }
          ],
          "scattermapbox": [
           {
            "marker": {
             "colorbar": {
              "outlinewidth": 0,
              "ticks": ""
             }
            },
            "type": "scattermapbox"
           }
          ],
          "scatterpolar": [
           {
            "marker": {
             "colorbar": {
              "outlinewidth": 0,
              "ticks": ""
             }
            },
            "type": "scatterpolar"
           }
          ],
          "scatterpolargl": [
           {
            "marker": {
             "colorbar": {
              "outlinewidth": 0,
              "ticks": ""
             }
            },
            "type": "scatterpolargl"
           }
          ],
          "scatterternary": [
           {
            "marker": {
             "colorbar": {
              "outlinewidth": 0,
              "ticks": ""
             }
            },
            "type": "scatterternary"
           }
          ],
          "surface": [
           {
            "colorbar": {
             "outlinewidth": 0,
             "ticks": ""
            },
            "colorscale": [
             [
              0,
              "#0d0887"
             ],
             [
              0.1111111111111111,
              "#46039f"
             ],
             [
              0.2222222222222222,
              "#7201a8"
             ],
             [
              0.3333333333333333,
              "#9c179e"
             ],
             [
              0.4444444444444444,
              "#bd3786"
             ],
             [
              0.5555555555555556,
              "#d8576b"
             ],
             [
              0.6666666666666666,
              "#ed7953"
             ],
             [
              0.7777777777777778,
              "#fb9f3a"
             ],
             [
              0.8888888888888888,
              "#fdca26"
             ],
             [
              1,
              "#f0f921"
             ]
            ],
            "type": "surface"
           }
          ],
          "table": [
           {
            "cells": {
             "fill": {
              "color": "#EBF0F8"
             },
             "line": {
              "color": "white"
             }
            },
            "header": {
             "fill": {
              "color": "#C8D4E3"
             },
             "line": {
              "color": "white"
             }
            },
            "type": "table"
           }
          ]
         },
         "layout": {
          "annotationdefaults": {
           "arrowcolor": "#2a3f5f",
           "arrowhead": 0,
           "arrowwidth": 1
          },
          "coloraxis": {
           "colorbar": {
            "outlinewidth": 0,
            "ticks": ""
           }
          },
          "colorscale": {
           "diverging": [
            [
             0,
             "#8e0152"
            ],
            [
             0.1,
             "#c51b7d"
            ],
            [
             0.2,
             "#de77ae"
            ],
            [
             0.3,
             "#f1b6da"
            ],
            [
             0.4,
             "#fde0ef"
            ],
            [
             0.5,
             "#f7f7f7"
            ],
            [
             0.6,
             "#e6f5d0"
            ],
            [
             0.7,
             "#b8e186"
            ],
            [
             0.8,
             "#7fbc41"
            ],
            [
             0.9,
             "#4d9221"
            ],
            [
             1,
             "#276419"
            ]
           ],
           "sequential": [
            [
             0,
             "#0d0887"
            ],
            [
             0.1111111111111111,
             "#46039f"
            ],
            [
             0.2222222222222222,
             "#7201a8"
            ],
            [
             0.3333333333333333,
             "#9c179e"
            ],
            [
             0.4444444444444444,
             "#bd3786"
            ],
            [
             0.5555555555555556,
             "#d8576b"
            ],
            [
             0.6666666666666666,
             "#ed7953"
            ],
            [
             0.7777777777777778,
             "#fb9f3a"
            ],
            [
             0.8888888888888888,
             "#fdca26"
            ],
            [
             1,
             "#f0f921"
            ]
           ],
           "sequentialminus": [
            [
             0,
             "#0d0887"
            ],
            [
             0.1111111111111111,
             "#46039f"
            ],
            [
             0.2222222222222222,
             "#7201a8"
            ],
            [
             0.3333333333333333,
             "#9c179e"
            ],
            [
             0.4444444444444444,
             "#bd3786"
            ],
            [
             0.5555555555555556,
             "#d8576b"
            ],
            [
             0.6666666666666666,
             "#ed7953"
            ],
            [
             0.7777777777777778,
             "#fb9f3a"
            ],
            [
             0.8888888888888888,
             "#fdca26"
            ],
            [
             1,
             "#f0f921"
            ]
           ]
          },
          "colorway": [
           "#636efa",
           "#EF553B",
           "#00cc96",
           "#ab63fa",
           "#FFA15A",
           "#19d3f3",
           "#FF6692",
           "#B6E880",
           "#FF97FF",
           "#FECB52"
          ],
          "font": {
           "color": "#2a3f5f"
          },
          "geo": {
           "bgcolor": "white",
           "lakecolor": "white",
           "landcolor": "white",
           "showlakes": true,
           "showland": true,
           "subunitcolor": "#C8D4E3"
          },
          "hoverlabel": {
           "align": "left"
          },
          "hovermode": "closest",
          "mapbox": {
           "style": "light"
          },
          "paper_bgcolor": "white",
          "plot_bgcolor": "white",
          "polar": {
           "angularaxis": {
            "gridcolor": "#EBF0F8",
            "linecolor": "#EBF0F8",
            "ticks": ""
           },
           "bgcolor": "white",
           "radialaxis": {
            "gridcolor": "#EBF0F8",
            "linecolor": "#EBF0F8",
            "ticks": ""
           }
          },
          "scene": {
           "xaxis": {
            "backgroundcolor": "white",
            "gridcolor": "#DFE8F3",
            "gridwidth": 2,
            "linecolor": "#EBF0F8",
            "showbackground": true,
            "ticks": "",
            "zerolinecolor": "#EBF0F8"
           },
           "yaxis": {
            "backgroundcolor": "white",
            "gridcolor": "#DFE8F3",
            "gridwidth": 2,
            "linecolor": "#EBF0F8",
            "showbackground": true,
            "ticks": "",
            "zerolinecolor": "#EBF0F8"
           },
           "zaxis": {
            "backgroundcolor": "white",
            "gridcolor": "#DFE8F3",
            "gridwidth": 2,
            "linecolor": "#EBF0F8",
            "showbackground": true,
            "ticks": "",
            "zerolinecolor": "#EBF0F8"
           }
          },
          "shapedefaults": {
           "line": {
            "color": "#2a3f5f"
           }
          },
          "ternary": {
           "aaxis": {
            "gridcolor": "#DFE8F3",
            "linecolor": "#A2B1C6",
            "ticks": ""
           },
           "baxis": {
            "gridcolor": "#DFE8F3",
            "linecolor": "#A2B1C6",
            "ticks": ""
           },
           "bgcolor": "white",
           "caxis": {
            "gridcolor": "#DFE8F3",
            "linecolor": "#A2B1C6",
            "ticks": ""
           }
          },
          "title": {
           "x": 0.05
          },
          "xaxis": {
           "automargin": true,
           "gridcolor": "#EBF0F8",
           "linecolor": "#EBF0F8",
           "ticks": "",
           "title": {
            "standoff": 15
           },
           "zerolinecolor": "#EBF0F8",
           "zerolinewidth": 2
          },
          "yaxis": {
           "automargin": true,
           "gridcolor": "#EBF0F8",
           "linecolor": "#EBF0F8",
           "ticks": "",
           "title": {
            "standoff": 15
           },
           "zerolinecolor": "#EBF0F8",
           "zerolinewidth": 2
          }
         }
        },
        "updatemenus": [
         {
          "buttons": [
           {
            "args": [
             {
              "yaxis.type": "linear"
             }
            ],
            "label": "Linear y-scale",
            "method": "relayout"
           },
           {
            "args": [
             {
              "yaxis.type": "log"
             }
            ],
            "label": "Log y-scale",
            "method": "relayout"
           }
          ],
          "direction": "left",
          "pad": {
           "r": 0,
           "t": -10
          },
          "showactive": true,
          "type": "buttons",
          "x": 0,
          "xanchor": "left",
          "y": 1.15,
          "yanchor": "top"
         }
        ],
        "xaxis": {
         "title": {
          "text": "$\\text{Time in day}$"
         }
        },
        "yaxis": {
         "title": {
          "text": "$\\text{Tumour volume in cm}^3$"
         }
        }
       }
      }
     },
     "metadata": {}
    }
   ],
   "source": [
    "#\n",
    "# Visualise control growth data.\n",
    "#\n",
    "\n",
    "import plotly.graph_objects as go\n",
    "\n",
    "\n",
    "# Create figure\n",
    "fig = go.Figure()\n",
    "\n",
    "# Scatter plot LXF A677 time-series data for each mouse\n",
    "mouse_ids = lxf_data['#ID'].unique()\n",
    "for id_m in mouse_ids:\n",
    "    # Create mask for mouse\n",
    "    mask = lxf_data['#ID'] == id_m\n",
    "\n",
    "    # Get time points for mouse\n",
    "    times = lxf_data['TIME in day'][mask]\n",
    "\n",
    "    # Get observed tumour volumes for mouse\n",
    "    observed_volumes = lxf_data['TUMOUR VOLUME in cm^3'][mask]\n",
    "\n",
    "    # Plot data\n",
    "    fig.add_trace(go.Scatter(\n",
    "        x=times,\n",
    "        y=observed_volumes,\n",
    "        legendgroup=\"LXF A677\",\n",
    "        name=\"LXF A677\",\n",
    "        showlegend=True if id_m == mouse_ids[0] else False,\n",
    "        hovertemplate=\n",
    "            \"<b>%s ID: %d</b><br>\" % (\"LXF A677\", id_m) +\n",
    "            \"Time: %{x:} day<br>\" +\n",
    "            \"Tumour volume: %{y:.02f} cm^3<br>\" +\n",
    "            \"<extra></extra>\",\n",
    "        mode=\"markers\",\n",
    "        marker=dict(\n",
    "            symbol='circle',\n",
    "            opacity=0.7,\n",
    "            line=dict(color='black', width=1))\n",
    "    ))\n",
    "\n",
    "# Scatter plot VXF A341 time-series data for each mouse\n",
    "mouse_ids = vxf_data['#ID'].unique()\n",
    "for id_m in mouse_ids:\n",
    "    # Create mask for mouse\n",
    "    mask = vxf_data['#ID'] == id_m\n",
    "\n",
    "    # Get time points for mouse\n",
    "    times = vxf_data['TIME in day'][mask]\n",
    "\n",
    "    # Get observed tumour volumes for mouse\n",
    "    observed_volumes = vxf_data['TUMOUR VOLUME in cm^3'][mask]\n",
    "\n",
    "    # Plot data\n",
    "    fig.add_trace(go.Scatter(\n",
    "        x=times,\n",
    "        y=observed_volumes,\n",
    "        legendgroup=\"VXF A341\",\n",
    "        name=\"VXF A341\",\n",
    "        showlegend=True if id_m == mouse_ids[0] else False,\n",
    "        hovertemplate=\n",
    "            \"<b>%s ID: %d</b><br>\" % (\"VXF A341\", id_m) +\n",
    "            \"Time: %{x:} day<br>\" +\n",
    "            \"Tumour volume: %{y:.02f} cm^3<br>\" +\n",
    "            \"<extra></extra>\",\n",
    "        mode=\"markers\",\n",
    "        marker=dict(\n",
    "            symbol='star',\n",
    "            opacity=0.7, \n",
    "            line=dict(color='black', width=1))\n",
    "    ))\n",
    "\n",
    "# Set X, Y axis and figure size\n",
    "fig.update_layout(\n",
    "    autosize=True,\n",
    "    xaxis_title=r'$\\text{Time in day}$',\n",
    "    yaxis_title=r'$\\text{Tumour volume in cm}^3$',\n",
    "    template=\"plotly_white\")\n",
    "\n",
    "# Add switch between linear and log y-scale\n",
    "fig.update_layout(\n",
    "    updatemenus=[\n",
    "        dict(\n",
    "            type = \"buttons\",\n",
    "            direction = \"left\",\n",
    "            buttons=list([\n",
    "                dict(\n",
    "                    args=[{\"yaxis.type\": \"linear\"}],\n",
    "                    label=\"Linear y-scale\",\n",
    "                    method=\"relayout\"\n",
    "                ),\n",
    "                dict(\n",
    "                    args=[{\"yaxis.type\": \"log\"}],\n",
    "                    label=\"Log y-scale\",\n",
    "                    method=\"relayout\"\n",
    "                )\n",
    "            ]),\n",
    "            pad={\"r\": 0, \"t\": -10},\n",
    "            showactive=True,\n",
    "            x=0.0,\n",
    "            xanchor=\"left\",\n",
    "            y=1.15,\n",
    "            yanchor=\"top\"\n",
    "        ),\n",
    "    ]\n",
    ")\n",
    "\n",
    "# Show figure\n",
    "fig.show()"
   ]
  },
  {
   "cell_type": "markdown",
   "metadata": {},
   "source": [
    "**Figure 1:** Untreated tumour growth of patient-derived tumour explants LXF A677 (adenocarcinoma of the lung) and cell line-derived tumour xenografts VXF A431 (vulva cancer) in mice. The colouring of the data points indicates that the measurements belong to the same mouse. Mouse ID and further information can be explored by hovering over the data points."
   ]
  },
  {
   "cell_type": "markdown",
   "metadata": {},
   "source": [
    "## Export cleaned data"
   ]
  },
  {
   "cell_type": "code",
   "execution_count": 7,
   "metadata": {},
   "outputs": [],
   "source": [
    "#\n",
    "# Export cleaned data sets for inference in other notebooks.\n",
    "#\n",
    "\n",
    "import os\n",
    "import pandas as pd\n",
    "\n",
    "\n",
    "# Get path of current working directory\n",
    "path = os.getcwd()\n",
    "\n",
    "# Export cleaned LXF A677 control growth data\n",
    "lxf_data.to_csv(path + '/data/lxf_control_growth.csv')\n",
    "\n",
    "# Export cleaned VXF A341 control growth data\n",
    "vxf_data.to_csv(path + '/data/vxf_control_growth.csv')"
   ]
  },
  {
   "cell_type": "markdown",
   "metadata": {},
   "source": [
    "## Bibliography\n",
    "\n",
    "- <a name=\"ref1\"> [1] </a> Eigenmann et. al., Combining Nonclinical Experiments with Translational PKPD Modeling to Differentiate Erlotinib and Gefitinib, Mol Cancer Ther (2016)"
   ]
  },
  {
   "cell_type": "markdown",
   "metadata": {},
   "source": [
    "[Back to project overview](https://github.com/DavAug/ErlotinibGefitinib/blob/master/README.md) | [Forward to next notebook](https://github.com/DavAug/ErlotinibGefitinib/blob/master/notebooks/control_growth/pooled_model.ipynb)"
   ]
  }
 ],
 "metadata": {
  "kernelspec": {
   "display_name": "Python 3.7.5 64-bit ('venv': venv)",
   "language": "python",
   "name": "python37564bitvenvvenv244669d31e9a466f969539273faabb23"
  },
  "language_info": {
   "codemirror_mode": {
    "name": "ipython",
    "version": 3
   },
   "file_extension": ".py",
   "mimetype": "text/x-python",
   "name": "python",
   "nbconvert_exporter": "python",
   "pygments_lexer": "ipython3",
   "version": "3.7.5-final"
  },
  "widgets": {
   "application/vnd.jupyter.widget-state+json": {
    "state": {},
    "version_major": 2,
    "version_minor": 0
   }
  }
 },
 "nbformat": 4,
 "nbformat_minor": 2
}