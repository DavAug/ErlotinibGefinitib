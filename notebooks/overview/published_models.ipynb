{
 "cells": [
  {
   "cell_type": "markdown",
   "metadata": {},
   "source": [
    "# Exploration of Published Models\n",
    "\n",
    "The tumour growth inhibiting effects of Erlotininb and Gefitinib were modelled with a population PKPD model in [1]. A population PKPD model is a hierarchical model which consists of a structural model, a population model, and an error model. Each sub-model captures a different aspect of the tumour growth inhibition biology, and is parametrised by a set of parameters. In this notebook, we review the population PKPD model structure presented in [1]. We further investigate the reported model parameters reported, and explore their consequences for dose efficacy predictions of Erlotinib and Gefitinib. \n",
    "\n",
    "Note that in [1] it was argued that the PKPD properties of Erlotinib and Gefinitib are structurally the same. That is why in the following we introduce just one PKPD model structure and review the drug-specific model parameters in a subsequent step."
   ]
  },
  {
   "cell_type": "markdown",
   "metadata": {},
   "source": [
    "## Structural model\n",
    "\n",
    "The structural model reported in [1] is a system of ordindary differential and algebraic equations. It combines a mechanistic description of the pharmacokinetics (PK) and the pharmacodynamics (PD) of the compound, as well as an empirical model of the tumour growth.\n",
    "\n",
    "The distribution of the compound in the mouse system after an oral dose is modelled by a one-compartment PK model with indirect drug administration\n",
    "\n",
    "\\begin{align*}\n",
    "\\frac{\\text{d}A_d}{\\text{d}t} = r_d(t) - k_{a}A_d,\\qquad \\frac{\\text{d}A_c}{\\text{d}t} = k_{a} A_d - k_e A_c,\\qquad C_c = \\frac{A_c}{V_c}.\n",
    "\\end{align*}\n",
    "\n",
    "Here, $A_d$ is the amount of the compound in the dose compartment, and $A_c$ the amount in the central compartment. The dose compartment may be interpreted as the gut compartment. As the drug is orally administered, the uptake into the dose compartment may be modelled by a time dependent dose rate $r_d$. The drug diffuses at a constant rate $k_a$ (absorption rate) into the central compartment. The central compartment models the drug circulating in the plasma. The clearance from the central compartment of the drug through the liver is modelled with a linear elimination rate $k_e$. The concentration of the compound in the central compartment $C_c$ can be derived from its amount and its effective volume of distribution in the central compartment $V_c$.\n",
    "\n",
    "The tumour growth is modelled by an empirical model. In absence of the drug the tumour growth is assumed to grow exponentially for small tumour volumes, and to grow linearly for large tumour volumes. The growth inhibiting effects of the compound are assumed to be proportional to its concentration in the central compartment and the volume of the tumour\n",
    "\n",
    "\\begin{align*}\n",
    "\\frac{\\text{d}V^s_T}{\\text{d}t} = \\frac{2\\lambda _0\\lambda _1 V^s_T}{2\\lambda _0 V^s_T + \\lambda _1} - \\kappa C_cV^s_T.\n",
    "\\end{align*}\n",
    "\n",
    "Here, $V^s_T$ is the predicted tumour volume by the structural model, $\\lambda _0$ is the exponential growth rate, $\\lambda _1$ is the linear growth rate, and $\\kappa $ is the growth inhibiting potency of the compound.\n",
    "\n",
    "In [1], the dose and central compartment were assumed to contain no amount of the compound initially, $A_d(t=0)=0$ and $A_c(t=0)=0$. The structural model is then parameterised by seven parameters that determine the PKPD of the drug\n",
    "\n",
    "\\begin{align*}\n",
    "\\psi = (k_a, k_e, V_c, V_0, \\lambda _0, \\lambda _1, \\kappa ),\n",
    "\\end{align*}\n",
    "\n",
    "where $V_0$ is the initial tumour volume, $V^s_T(t=0)=V_0$. Note that in this model $r_d$ is determined by the dosing regimen."
   ]
  },
  {
   "cell_type": "markdown",
   "metadata": {},
   "source": [
    "We have implemented the structural model in a separate python [module](https://github.com/DavAug/ErlotinibGefitinib/blob/master/pkpd/model.py), which generates with `pkpd.model.create_pktgi_model()` a [myokit](http://myokit.org/) representation of the model. [myokit](http://myokit.org/) allows us to solve the system of ODEs numerically."
   ]
  },
  {
   "cell_type": "code",
   "execution_count": 57,
   "metadata": {
    "tags": []
   },
   "outputs": [
    {
     "output_type": "stream",
     "name": "stdout",
     "text": "[[model]]\n# Initial values\ncentral.amount   = 0\ncentral.volume_t = 0\ndepot.amount     = 0\n\n[central]\ndot(amount) = -k_e * amount + depot.k_a * depot.amount\n    in [mg]\nconc = amount / volume_c\n    in [mg/L]\nk_e = 0\n    in [1/day]\nkappa = 0\n    in [L/mg/day]\nlambda_0 = 0\n    in [1/day]\nlambda_1 = 1\n    in [cm^3/day]\ntime = 0 bind time\n    in [day]\nvolume_c = 1\n    in [L]\ndot(volume_t) = 2 * (lambda_0 * (lambda_1 * volume_t)) / (2 * (lambda_0 * volume_t) + lambda_1) - kappa * (conc * volume_t)\n    in [cm^3]\n\n[depot]\ndot(amount) = -k_a * amount + dose_rate * regimen\n    in [mg]\ndose_rate = 0\n    in [mg/day]\nk_a = 0\n    in [1/day]\nregimen = 0 bind pace\n    in [1]\n\n\n"
    }
   ],
   "source": [
    "#\n",
    "# Create structural model.\n",
    "#\n",
    "\n",
    "import pkpd.model as m\n",
    "\n",
    "\n",
    "# Create model\n",
    "model = m.create_pktgi_model()\n",
    "\n",
    "# Set route of administration to 'oral dosing'\n",
    "model.set_roa(dose_comp='central', indirect=True)\n",
    "\n",
    "# Show model\n",
    "print(model.code())"
   ]
  },
  {
   "cell_type": "markdown",
   "metadata": {},
   "source": [
    "## Error model\n",
    "\n",
    "The expected random deviations of the observed tumour volumes from the structural model predictions $V^s_T$ are modelled in [1] by a combined error model. A combined error model assumes that the deviations $\\varepsilon $ of the observable tumour volume $V_T$ from the structural model predictions $V^s_T$ may be modelled by a base-level Gaussian noise, and a Gaussian noise contribution whose standard deviation grows relative to the structural model predictions\n",
    "\n",
    "\\begin{equation*}\n",
    "    \\varepsilon = \\left(\\sigma _{\\text{base}} + \\sigma _{\\text{rel}} V^s_T\\right) \\varepsilon _n.\n",
    "\\end{equation*}\n",
    "\n",
    "Here, $\\sigma _{\\text{base}}$ is the standard deviation of the base-level noise, and $\\sigma _{\\text{rel}}$ is the standard deviation relative to $V^s_T$. $\\varepsilon _n$ is a standard Gaussian random variable $\\mathcal{N}(0, 1)$. As a result, the model predictions of the tumour volume are Gaussian-distributed, centered at the structural model predictions $V^s_T = V^s_T(t, r_d; \\psi)$ with a standard deviation $\\sigma _{\\text{tot}} = \\sigma _{\\text{base}} + \\sigma _{\\text{rel}} V^s_T$\n",
    "\n",
    "\\begin{equation*}\n",
    "    V_T \\sim \\mathcal{N}(V^s_T, \\sigma ^2_{\\text{tot}}).\n",
    "\\end{equation*}\n",
    "\n",
    "The error model introduces two further parameters to the model\n",
    "\n",
    "\\begin{equation*}\n",
    "    \\theta _V = (\\sigma _{\\text{base}}, \\sigma _{\\text{rel}}),\n",
    "\\end{equation*}\n",
    "\n",
    "such that at this point the PKPD model has nine parameters ($\\psi$, $\\theta _V$)."
   ]
  },
  {
   "cell_type": "markdown",
   "metadata": {},
   "source": [
    "## Population model\n",
    "\n",
    "Generally, the structural model parameters $\\psi$ can be split into system-specific and process-specific parameters. System-specific parameters are expected to vary between individuals, while process-specfic parameters are assumed to be constant across individuals. In [1] all structural model parameters $\\psi $ are assumed to vary between individuals, except the absorption rate $k_a$. The population model defines the distribution of system-specific parameters in the population. \n",
    "\n",
    "In [1] all $\\psi $ except the absorption rate $k_a$ are assumed to be [log-normally distributed](https://en.wikipedia.org/wiki/Log-normal_distribution) in the mouse population\n",
    "\n",
    "\\begin{equation*}\n",
    "    \\log \\psi _i \\sim \\mathcal{N} (\\log \\mu _i, \\sigma ^2_i), \\quad \\psi _i \\neq k_a,\n",
    "\\end{equation*}\n",
    "\n",
    "where $\\mu _i $ is the median of $\\psi $ in the population, and $\\sigma _i$ the standard deviation of $\\log \\psi _i$ in the population. Note that $\\mu _i$ is of linear scale and $\\sigma _i$ is of logarithmic scale. Their values can therefore not be directly compared, like one might be used to for a Gaussian distribution. \n",
    "\n",
    "The introduction of a population model replaces all system-specific structural model parameters by a distribution which is parameterised by the population median $\\mu _i $ and log-scale standard deviation $\\sigma _i$. Defining the population parameters as \n",
    "\n",
    "\\begin{equation*}\n",
    "    \\theta _{\\psi } = (k_a, \\mu _{k_e}, \\sigma _{k_e}, \\mu _{V_c}, \\sigma _{V_c}, \\mu _{V_0}, \\sigma _{V_0}, \\mu _{\\lambda _0}, \\sigma _{\\lambda _0}, \\mu _{\\lambda _1}, \\sigma _{\\lambda _1}, \\mu _{\\kappa}, \\sigma _{\\kappa}),\n",
    "\\end{equation*}\n",
    "\n",
    "the full population tumour growth inhibition PKPD model of Erlotinib and Gefitinib is parameterised by 15 parameters each, $(\\theta _{\\psi}, \\theta _V)$."
   ]
  },
  {
   "cell_type": "markdown",
   "metadata": {},
   "source": [
    "## Parameter estimates"
   ]
  },
  {
   "cell_type": "markdown",
   "metadata": {},
   "source": [
    "Below we report the inferred model parameters $(\\theta _{\\psi}, \\theta _V)$ from Table 1, p. 3117 [1]. These model parameters were inferred with Monolix. Note that the \"Estimate\" for a parameter $\\psi _i$ corresponds to the median of the population distribution $\\mu _i$, while the interindividual variability \"Var\" is equivalent to the log-scale population standard deviation $\\sigma _i$. The provided relative standard error (RSE) is the standard deviation of the estimates relative to their value (this assumes a Gaussian error of the estimates of $\\mu _i$ and $\\sigma _i$). For later convenience we will translate the RSE values back into absolute standard deviations. For more details on the Monolix's conventions please have a look at its [documentation](http://monolix.lixoft.com/data-and-models/individualdistribution/)."
   ]
  },
  {
   "cell_type": "code",
   "execution_count": 168,
   "metadata": {
    "tags": []
   },
   "outputs": [
    {
     "output_type": "stream",
     "name": "stdout",
     "text": "Erlotinib LXF A677\n"
    },
    {
     "output_type": "display_data",
     "data": {
      "text/plain": "                    k_a in 1/day  mu V_c in L  sigma V_c in dimless  \\\nestimate                    55.0      0.12700                 0.251   \nstandard deviation           NaN      0.01905                   NaN   \n\n                    mu k_e in 1/day  sigma k_e in dimless  mu V_0 in cm^3  \\\nestimate                      7.560               0.33200          0.1220   \nstandard deviation            0.756               0.12948          0.0061   \n\n                    sigma V_0 in dimless  mu lambda_0 in 1/day  \\\nestimate                          0.3680              0.097100   \nstandard deviation                0.0061              0.007768   \n\n                    sigma lambda_0 in dimless  mu lambda_1 in cm^3/day  \\\nestimate                              0.45600                  0.12700   \nstandard deviation                    0.05928                  0.01651   \n\n                    sigma lambda_1 in dimless  mu kappa in L/mg/day  \\\nestimate                                 0.71               0.11700   \nstandard deviation                        NaN               0.01989   \n\n                    sigma kappa in dimless  sigma base in cm^3  \\\nestimate                           0.65400            0.014100   \nstandard deviation                 0.13734            0.001269   \n\n                    sigma rel in dimless  \nestimate                        0.090700  \nstandard deviation              0.005442  ",
      "text/html": "<div>\n<style scoped>\n    .dataframe tbody tr th:only-of-type {\n        vertical-align: middle;\n    }\n\n    .dataframe tbody tr th {\n        vertical-align: top;\n    }\n\n    .dataframe thead th {\n        text-align: right;\n    }\n</style>\n<table border=\"1\" class=\"dataframe\">\n  <thead>\n    <tr style=\"text-align: right;\">\n      <th></th>\n      <th>k_a in 1/day</th>\n      <th>mu V_c in L</th>\n      <th>sigma V_c in dimless</th>\n      <th>mu k_e in 1/day</th>\n      <th>sigma k_e in dimless</th>\n      <th>mu V_0 in cm^3</th>\n      <th>sigma V_0 in dimless</th>\n      <th>mu lambda_0 in 1/day</th>\n      <th>sigma lambda_0 in dimless</th>\n      <th>mu lambda_1 in cm^3/day</th>\n      <th>sigma lambda_1 in dimless</th>\n      <th>mu kappa in L/mg/day</th>\n      <th>sigma kappa in dimless</th>\n      <th>sigma base in cm^3</th>\n      <th>sigma rel in dimless</th>\n    </tr>\n  </thead>\n  <tbody>\n    <tr>\n      <th>estimate</th>\n      <td>55.0</td>\n      <td>0.12700</td>\n      <td>0.251</td>\n      <td>7.560</td>\n      <td>0.33200</td>\n      <td>0.1220</td>\n      <td>0.3680</td>\n      <td>0.097100</td>\n      <td>0.45600</td>\n      <td>0.12700</td>\n      <td>0.71</td>\n      <td>0.11700</td>\n      <td>0.65400</td>\n      <td>0.014100</td>\n      <td>0.090700</td>\n    </tr>\n    <tr>\n      <th>standard deviation</th>\n      <td>NaN</td>\n      <td>0.01905</td>\n      <td>NaN</td>\n      <td>0.756</td>\n      <td>0.12948</td>\n      <td>0.0061</td>\n      <td>0.0061</td>\n      <td>0.007768</td>\n      <td>0.05928</td>\n      <td>0.01651</td>\n      <td>NaN</td>\n      <td>0.01989</td>\n      <td>0.13734</td>\n      <td>0.001269</td>\n      <td>0.005442</td>\n    </tr>\n  </tbody>\n</table>\n</div>"
     },
     "metadata": {}
    },
    {
     "output_type": "stream",
     "name": "stdout",
     "text": "Erlotinib VXF A341\n"
    },
    {
     "output_type": "display_data",
     "data": {
      "text/plain": "                    k_a in 1/day  mu V_c in L  sigma V_c in dimless  \\\nestimate                    55.0       0.1200                0.1900   \nstandard deviation           NaN       0.0072                0.0437   \n\n                    mu k_e in 1/day  sigma k_e in dimless  mu V_0 in cm^3  \\\nestimate                     7.8500                0.2350         0.11400   \nstandard deviation           0.5495                0.0611         0.00684   \n\n                    sigma V_0 in dimless  mu lambda_0 in 1/day  \\\nestimate                         0.42300               0.02900   \nstandard deviation               0.04653               0.00174   \n\n                    sigma lambda_0 in dimless  mu lambda_1 in cm^3/day  \\\nestimate                              0.32100                  0.29800   \nstandard deviation                    0.04494                  0.11026   \n\n                    sigma lambda_1 in dimless  mu kappa in L/mg/day  \\\nestimate                                 0.68              0.040100   \nstandard deviation                        NaN              0.006416   \n\n                    sigma kappa in dimless  sigma base in cm^3  \\\nestimate                           0.58500            0.004320   \nstandard deviation                 0.12285            0.001296   \n\n                    sigma rel in dimless  \nestimate                         0.13900  \nstandard deviation               0.00695  ",
      "text/html": "<div>\n<style scoped>\n    .dataframe tbody tr th:only-of-type {\n        vertical-align: middle;\n    }\n\n    .dataframe tbody tr th {\n        vertical-align: top;\n    }\n\n    .dataframe thead th {\n        text-align: right;\n    }\n</style>\n<table border=\"1\" class=\"dataframe\">\n  <thead>\n    <tr style=\"text-align: right;\">\n      <th></th>\n      <th>k_a in 1/day</th>\n      <th>mu V_c in L</th>\n      <th>sigma V_c in dimless</th>\n      <th>mu k_e in 1/day</th>\n      <th>sigma k_e in dimless</th>\n      <th>mu V_0 in cm^3</th>\n      <th>sigma V_0 in dimless</th>\n      <th>mu lambda_0 in 1/day</th>\n      <th>sigma lambda_0 in dimless</th>\n      <th>mu lambda_1 in cm^3/day</th>\n      <th>sigma lambda_1 in dimless</th>\n      <th>mu kappa in L/mg/day</th>\n      <th>sigma kappa in dimless</th>\n      <th>sigma base in cm^3</th>\n      <th>sigma rel in dimless</th>\n    </tr>\n  </thead>\n  <tbody>\n    <tr>\n      <th>estimate</th>\n      <td>55.0</td>\n      <td>0.1200</td>\n      <td>0.1900</td>\n      <td>7.8500</td>\n      <td>0.2350</td>\n      <td>0.11400</td>\n      <td>0.42300</td>\n      <td>0.02900</td>\n      <td>0.32100</td>\n      <td>0.29800</td>\n      <td>0.68</td>\n      <td>0.040100</td>\n      <td>0.58500</td>\n      <td>0.004320</td>\n      <td>0.13900</td>\n    </tr>\n    <tr>\n      <th>standard deviation</th>\n      <td>NaN</td>\n      <td>0.0072</td>\n      <td>0.0437</td>\n      <td>0.5495</td>\n      <td>0.0611</td>\n      <td>0.00684</td>\n      <td>0.04653</td>\n      <td>0.00174</td>\n      <td>0.04494</td>\n      <td>0.11026</td>\n      <td>NaN</td>\n      <td>0.006416</td>\n      <td>0.12285</td>\n      <td>0.001296</td>\n      <td>0.00695</td>\n    </tr>\n  </tbody>\n</table>\n</div>"
     },
     "metadata": {}
    }
   ],
   "source": [
    "#\n",
    "# Estimates according to Eigenmann et. al. [1] for the Erlotinib and Gefitinib PKPD in LXF A677 and VXF A431.\n",
    "#\n",
    "\n",
    "import pandas as pd\n",
    "\n",
    "\n",
    "# Create pandas dataframe for LXF A677 Erlotinib model parameters\n",
    "lxf_erlotinib_estimates = pd.DataFrame(\n",
    "    data={\n",
    "        'k_a in 1/day': [55.0, None],\n",
    "        'mu V_c in L': [0.127, 0.127 * 0.15],\n",
    "        'sigma V_c in dimless': [0.251, None],\n",
    "        'mu k_e in 1/day': [7.56, 7.56 * 0.1],\n",
    "        'sigma k_e in dimless': [0.332, 0.332 * 0.39],\n",
    "        'mu V_0 in cm^3': [0.122, 0.122 * 0.05],\n",
    "        'sigma V_0 in dimless': [0.368, 0.122 * 0.05],\n",
    "        'mu lambda_0 in 1/day': [0.0971, 0.0971 * 0.08],\n",
    "        'sigma lambda_0 in dimless': [0.456, 0.456 * 0.13],\n",
    "        'mu lambda_1 in cm^3/day': [0.127, 0.127 * 0.13],\n",
    "        'sigma lambda_1 in dimless': [0.710, None],\n",
    "        'mu kappa in L/mg/day': [0.117, 0.117 * 0.17],\n",
    "        'sigma kappa in dimless': [0.654, 0.654 * 0.21],\n",
    "        'sigma base in cm^3': [0.0141, 0.0141 * 0.09],\n",
    "        'sigma rel in dimless': [0.0907, 0.0907 * 0.06]},\n",
    "    index=['estimate', 'standard deviation'])\n",
    "\n",
    "# Show dataframe\n",
    "print('Erlotinib LXF A677')\n",
    "display(lxf_erlotinib_estimates)\n",
    "\n",
    "# Create pandas dataframe for VXF A341 Erlotinib model parameters\n",
    "vxf_erlotinib_estimates = pd.DataFrame(\n",
    "    data={\n",
    "        'k_a in 1/day': [55.0, None],\n",
    "        'mu V_c in L': [0.120, 0.120 * 0.06],\n",
    "        'sigma V_c in dimless': [0.190, 0.190 * 0.23],\n",
    "        'mu k_e in 1/day': [7.85, 7.85 * 0.07],\n",
    "        'sigma k_e in dimless': [0.235, 0.235 * 0.26],\n",
    "        'mu V_0 in cm^3': [0.114, 0.114 * 0.06],\n",
    "        'sigma V_0 in dimless': [0.423, 0.423 * 0.11],\n",
    "        'mu lambda_0 in 1/day': [0.0290, 0.0290 * 0.06],\n",
    "        'sigma lambda_0 in dimless': [0.321, 0.321 * 0.14],\n",
    "        'mu lambda_1 in cm^3/day': [0.298, 0.298 * 0.37],\n",
    "        'sigma lambda_1 in dimless': [0.68, None],\n",
    "        'mu kappa in L/mg/day': [0.0401, 0.0401 * 0.16],\n",
    "        'sigma kappa in dimless': [0.585, 0.585 * 0.21],\n",
    "        'sigma base in cm^3': [0.00432, 0.00432 * 0.3],\n",
    "        'sigma rel in dimless': [0.139, 0.139 * 0.05]},\n",
    "    index=['estimate', 'standard deviation'])\n",
    "\n",
    "# Show dataframe\n",
    "print('Erlotinib VXF A341')\n",
    "display(vxf_erlotinib_estimates)"
   ]
  },
  {
   "cell_type": "markdown",
   "metadata": {},
   "source": [
    "## Explore predictions for tumour growth inhibition\n",
    "\n",
    "With these model parameters, we can simulate dose-response tumour growth curves for different Erlotinib and Gefitinib treatment strategies. We first simulate the dose-response in a population of mice for 3 dosing regimens similar to the ones presented in [1]. We then explore the dose-response of a \"median\" mouse for a larger variety of dosing strategies.\n",
    "\n",
    "The distribution of dose-response curves in the population can be approximated by repeatedly sampling individuals from the population distribution. Each 'virtual' mouse in the population is then fully characterised by a sample of structural model parameters $\\psi _i \\sim \\mathcal{N}(\\log \\mu _i , \\sigma _i^2)$ for all $i$. Denoting the structural model parameter set of individual $j$ by \n",
    "\n",
    "\\begin{align*}\n",
    "\\psi _j = (k_{a, j}, k_{e, j}, V_{c, j}, V_{0, j}, \\lambda _{0, j}, \\lambda _{1, j}, \\kappa _j),\n",
    "\\end{align*}\n",
    "\n",
    "we can sample the tumour growth predictions from the structural-error model $V_{T,j} = \\mathcal{N}(V^s_{T,j}, \\sigma ^2_{\\text{tot}, j})$ , where the mean and the variance are determined by the individual's set of structural model parameters $\\psi _j$, $V^s_{T,j} = V^s_{T}(t, r_d;\\psi _j)$ and $\\sigma _{\\text{tot}, j} = \\sigma _{\\text{base}} + \\sigma _{\\text{rel}}V^s_{T,j}$. Note that the estimates reported in [1] are not exact and partly display significant uncertainty. From a Bayesian perspective we would therefore like to construct posterior distributions of the model parameters which reflect the uncertainty in their estimates. With just the estimates and their standard deviation, this is however not possible.\n",
    "\n",
    "Denoting the estimates with a \"hat\", we thus construct the population dose-response curves according to\n",
    "\n",
    "\\begin{equation*}\n",
    "    V_{T,j} = \\mathcal{N}(V^s_{T,j}, \\sigma ^2_{\\text{tot}, j})\\quad \\text{with}\\quad \\log \\psi _{ij} \\sim \\mathcal{N}(\\log \\hat{\\mu} _i, \\hat{\\sigma}^2_i),\n",
    "\\end{equation*}\n",
    "\n",
    "and $k_{a,j}=\\hat{k}_{a}$, $\\sigma _{\\text{base}}= \\hat{\\sigma }_{\\text{base}}$, $\\sigma _{\\text{rel}}=\\hat{\\sigma }_{\\text{rel}}$, acknowledging the fact, that the uncertainty in the model predictions will be underestimated. \n",
    "\n",
    "To simulate the population behaviour, we sample N=1000 individuals from the PKPD model, and visualise the variation of dose-response curves by computing percentiles at predefined time points. Note that this representation captures the spread of different tumour volumes in the population well, however, loses any information about individual growth curves. That is to say, that the median growth curve in the population does not actually describe the tumour growth of a median mouse in the population, but rather the median tumour volume at each sampled time point."
   ]
  },
  {
   "cell_type": "code",
   "execution_count": 176,
   "metadata": {},
   "outputs": [],
   "source": [
    "#\n",
    "# Sampling mice from Erlotinib LXF A677, Erlotinib VXF A431, Gefitinib LXF A677 and Gefitinib VXF A431 population.\n",
    "#\n",
    "# This cell needs the above defined parameter estimates \n",
    "# [lxf_erlotinib_estimates, vxf_erlotinib_estimates]\n",
    "#\n",
    "\n",
    "import numpy as np\n",
    "from scipy.stats import lognorm\n",
    "\n",
    "\n",
    "# Define population size\n",
    "N = 1000\n",
    "\n",
    "# Number of parameters that define mouse (noise params are not mouse specific)\n",
    "n_params = 7  # [V_0, k_a, V_c, k_e, lambda_0, lambda_1, kappa]\n",
    "\n",
    "# Define population parameters\n",
    "populations = [lxf_erlotinib_estimates, vxf_erlotinib_estimates]\n",
    "n_populations = len(populations)\n",
    "\n",
    "# Create container for mice (n_populations, N, n_parameters)\n",
    "mice_parameters = np.empty(shape=(n_populations, N, n_params))\n",
    "\n",
    "# Sample mice for each of the populations\n",
    "for pop_id, population in enumerate(populations):\n",
    "    # Sample initial tumour volumes\n",
    "    median = population.loc['estimate', 'mu V_0 in cm^3']\n",
    "    std = population.loc['estimate', 'sigma V_0 in dimless']\n",
    "    mice_parameters[pop_id, :, 0] = lognorm.rvs(scale=median, s=std, size=N)\n",
    "\n",
    "    # Sample absorption rate\n",
    "    mice_parameters[pop_id, :, 1] = np.full(shape=N,fill_value=population.loc['estimate', 'k_a in 1/day'])\n",
    "\n",
    "    # Sample volume of distribution\n",
    "    median = population.loc['estimate', 'mu V_c in L']\n",
    "    std = population.loc['estimate', 'sigma V_c in dimless']\n",
    "    mice_parameters[pop_id, :, 2] = lognorm.rvs(scale=median, s=std, size=N)\n",
    "\n",
    "    # Sample elimination rate\n",
    "    median = population.loc['estimate', 'mu k_e in 1/day']\n",
    "    std = population.loc['estimate', 'sigma k_e in dimless']\n",
    "    mice_parameters[pop_id, :, 3] = lognorm.rvs(scale=median, s=std, size=N)\n",
    "\n",
    "    # Sample exponential growth rate\n",
    "    median = population.loc['estimate', 'mu lambda_0 in 1/day']\n",
    "    std = population.loc['estimate', 'sigma lambda_0 in dimless']\n",
    "    mice_parameters[pop_id, :, 4] = lognorm.rvs(scale=median, s=std, size=N)\n",
    "\n",
    "    # Sample linear growth rate\n",
    "    median = population.loc['estimate', 'mu lambda_1 in cm^3/day']\n",
    "    std = population.loc['estimate', 'sigma lambda_1 in dimless']\n",
    "    mice_parameters[pop_id, :, 5] = lognorm.rvs(scale=median, s=std, size=N)\n",
    "\n",
    "    # Sample potency\n",
    "    median = population.loc['estimate', 'mu kappa in L/mg/day']\n",
    "    std = population.loc['estimate', 'sigma kappa in dimless']\n",
    "    mice_parameters[pop_id, :, 6] = lognorm.rvs(scale=median, s=std, size=N)\n"
   ]
  },
  {
   "cell_type": "code",
   "execution_count": 177,
   "metadata": {
    "tags": []
   },
   "outputs": [],
   "source": [
    "#\n",
    "# Simulate tumour growth curves for simulated mice under different dosing strategies.\n",
    "#\n",
    "# Dosing strategies: \n",
    "# Daily oral administration from day 3 to (including) 16 of\n",
    "#   1. 25 mg/kg/day (amount drug per mouse weight per day)\n",
    "#   2. 50 mg/kg/day\n",
    "#   3. 100 mg/kg/day\n",
    "# Following [1], all mice in the population are assumed to weigh 20 mg.\n",
    "#\n",
    "# This cell needs the above simulated mice parameters: mice_parameeters\n",
    "# \n",
    "\n",
    "import myokit\n",
    "import plotly.graph_objects as go\n",
    "from scipy.stats import lognorm, norm\n",
    "\n",
    "import pkpd.model as m\n",
    "\n",
    "# Get population size and number of populations\n",
    "n_populations = mice_parameters.shape[0]\n",
    "N = mice_parameters.shape[1]\n",
    "\n",
    "# Define dosing regimens\n",
    "# Amount [mg], start [day], period [day], multiplier [dimless]\n",
    "mouse_mass = 0.02  # 20 mg\n",
    "dosing_regimens = [\n",
    "    [25 * mouse_mass, 3, 1, 14],\n",
    "    [50 * mouse_mass, 3, 1, 14],\n",
    "    [100 * mouse_mass, 3, 1, 14]]\n",
    "n_regimens = len(dosing_regimens)\n",
    "\n",
    "# Define percentiles for population summary\n",
    "percentiles = [0.0, 0.25, 0.5, 0.75, 1]\n",
    "n_percentiles = len(percentiles)\n",
    "\n",
    "# Define simulation time points in days\n",
    "times = np.linspace(0, 30, num=100)\n",
    "n_times = len(times)\n",
    "\n",
    "# Create container for simulation results \n",
    "# (n_populations, n_regimens, n_percentiles, n_times)\n",
    "population_results = np.empty(shape=(\n",
    "    n_populations, n_regimens, n_percentiles, n_times))\n",
    "\n",
    "# Create structural model and set route of administration\n",
    "model = m.create_pktgi_model()\n",
    "model.set_roa(dose_comp='central', indirect=True)\n",
    "\n",
    "# Create temporary container for structural model predictions of mice in a population\n",
    "# (population size, n_times)\n",
    "mice_dose_response_no_noise = np.empty(shape=(N, n_times)) \n",
    "\n",
    "# Simulate dose-response in population for dosing regimens\n",
    "for regimen_id, dosing_regimen in enumerate(dosing_regimens):\n",
    "    # Get regimen\n",
    "    amount, start, period, multiplier = dosing_regimen\n",
    "\n",
    "    # Create myokit dosing regimen\n",
    "    model.set_regimen(amount=amount, start=start, period=period, multiplier=multiplier)\n",
    "    _, protocol = model.dosing_regimen()\n",
    "\n",
    "    # Create simulator\n",
    "    simulator = myokit.Simulation(model, protocol)\n",
    "\n",
    "    # Loop through populations\n",
    "    # Recall: mice_parameters shape = (n_populations, N, n_parameters)\n",
    "    for pop_id, population in enumerate(mice_parameters):\n",
    "        \n",
    "        # Loop through indiviuals in population\n",
    "        # `mouse` contains parameters: [V_0, k_a, V_c, k_e, lambda_0, lambda_1, kappa]\n",
    "        for mouse_id, mouse in enumerate(population):\n",
    "            # Reset simulator\n",
    "            simulator.reset()\n",
    "\n",
    "            # Set initial state\n",
    "            # central.amount, central.volume_t, depot.amount\n",
    "            simulator.set_state([0, mouse[0], 0])\n",
    "\n",
    "            # Set parameters\n",
    "            simulator.set_constant('depot.k_a', mouse[1])\n",
    "            simulator.set_constant('central.volume_c', mouse[2])\n",
    "            simulator.set_constant('central.k_e', mouse[3])\n",
    "            simulator.set_constant('central.lambda_0', mouse[4])\n",
    "            simulator.set_constant('central.lambda_1', mouse[5])\n",
    "            simulator.set_constant('central.kappa', mouse[6])\n",
    "\n",
    "            # Define logged variable\n",
    "            loggedVariable = 'central.volume_t'\n",
    "\n",
    "            # Solve structural model\n",
    "            output = simulator.run(times[-1] + 1, log=[loggedVariable], log_times=times)\n",
    "            mice_dose_response_no_noise[mouse_id, :] = np.array(output[loggedVariable])\n",
    "\n",
    "        # TODO: Add noise\n",
    "        mice_dose_response = mice_dose_response_no_noise\n",
    "\n",
    "        # Compute population percentiles\n",
    "        for perc_id, percentile in enumerate(percentiles):\n",
    "            population_results[pop_id, regimen_id, perc_id, :] = np.percentile(\n",
    "                a=mice_dose_response, q=percentile, axis=0)\n"
   ]
  },
  {
   "cell_type": "code",
   "execution_count": null,
   "metadata": {},
   "outputs": [],
   "source": [
    "#\n",
    "# Convert dosing regimen into time series for illustration.\n",
    "#\n",
    "\n",
    "# Create container for dosing regimen time series\n",
    "dosing_time_series = []\n",
    "\n",
    "# Compute dosing regimen time series\n",
    "for regimen in dosing_regimens:"
   ]
  },
  {
   "cell_type": "code",
   "execution_count": 182,
   "metadata": {},
   "outputs": [
    {
     "output_type": "display_data",
     "data": {
      "application/vnd.plotly.v1+json": {
       "config": {
        "plotlyServerURL": "https://plot.ly"
       },
       "data": [
        {
         "fill": "toself",
         "hoverinfo": "name",
         "legendgroup": "LXF A677 Erlotinib",
         "line": {
          "color": "rgb(51, 153, 255)",
          "width": 1
         },
         "name": "0th to 100th percentile",
         "showlegend": false,
         "type": "scatter",
         "x": [
          0,
          0.30303030303030304,
          0.6060606060606061,
          0.9090909090909092,
          1.2121212121212122,
          1.5151515151515151,
          1.8181818181818183,
          2.121212121212121,
          2.4242424242424243,
          2.7272727272727275,
          3.0303030303030303,
          3.3333333333333335,
          3.6363636363636367,
          3.9393939393939394,
          4.242424242424242,
          4.545454545454546,
          4.848484848484849,
          5.151515151515151,
          5.454545454545455,
          5.757575757575758,
          6.0606060606060606,
          6.363636363636364,
          6.666666666666667,
          6.96969696969697,
          7.272727272727273,
          7.575757575757576,
          7.878787878787879,
          8.181818181818182,
          8.484848484848484,
          8.787878787878789,
          9.090909090909092,
          9.393939393939394,
          9.696969696969697,
          10,
          10.303030303030303,
          10.606060606060606,
          10.90909090909091,
          11.212121212121213,
          11.515151515151516,
          11.818181818181818,
          12.121212121212121,
          12.424242424242424,
          12.727272727272728,
          13.030303030303031,
          13.333333333333334,
          13.636363636363637,
          13.93939393939394,
          14.242424242424242,
          14.545454545454547,
          14.84848484848485,
          15.151515151515152,
          15.454545454545455,
          15.757575757575758,
          16.060606060606062,
          16.363636363636363,
          16.666666666666668,
          16.96969696969697,
          17.272727272727273,
          17.575757575757578,
          17.87878787878788,
          18.181818181818183,
          18.484848484848484,
          18.78787878787879,
          19.09090909090909,
          19.393939393939394,
          19.6969696969697,
          20,
          20.303030303030305,
          20.606060606060606,
          20.90909090909091,
          21.21212121212121,
          21.515151515151516,
          21.81818181818182,
          22.12121212121212,
          22.424242424242426,
          22.727272727272727,
          23.03030303030303,
          23.333333333333336,
          23.636363636363637,
          23.93939393939394,
          24.242424242424242,
          24.545454545454547,
          24.848484848484848,
          25.151515151515152,
          25.454545454545457,
          25.757575757575758,
          26.060606060606062,
          26.363636363636363,
          26.666666666666668,
          26.96969696969697,
          27.272727272727273,
          27.575757575757578,
          27.87878787878788,
          28.181818181818183,
          28.484848484848484,
          28.78787878787879,
          29.090909090909093,
          29.393939393939394,
          29.6969696969697,
          30,
          30,
          29.6969696969697,
          29.393939393939394,
          29.090909090909093,
          28.78787878787879,
          28.484848484848484,
          28.181818181818183,
          27.87878787878788,
          27.575757575757578,
          27.272727272727273,
          26.96969696969697,
          26.666666666666668,
          26.363636363636363,
          26.060606060606062,
          25.757575757575758,
          25.454545454545457,
          25.151515151515152,
          24.848484848484848,
          24.545454545454547,
          24.242424242424242,
          23.93939393939394,
          23.636363636363637,
          23.333333333333336,
          23.03030303030303,
          22.727272727272727,
          22.424242424242426,
          22.12121212121212,
          21.81818181818182,
          21.515151515151516,
          21.21212121212121,
          20.90909090909091,
          20.606060606060606,
          20.303030303030305,
          20,
          19.6969696969697,
          19.393939393939394,
          19.09090909090909,
          18.78787878787879,
          18.484848484848484,
          18.181818181818183,
          17.87878787878788,
          17.575757575757578,
          17.272727272727273,
          16.96969696969697,
          16.666666666666668,
          16.363636363636363,
          16.060606060606062,
          15.757575757575758,
          15.454545454545455,
          15.151515151515152,
          14.84848484848485,
          14.545454545454547,
          14.242424242424242,
          13.93939393939394,
          13.636363636363637,
          13.333333333333334,
          13.030303030303031,
          12.727272727272728,
          12.424242424242424,
          12.121212121212121,
          11.818181818181818,
          11.515151515151516,
          11.212121212121213,
          10.90909090909091,
          10.606060606060606,
          10.303030303030303,
          10,
          9.696969696969697,
          9.393939393939394,
          9.090909090909092,
          8.787878787878789,
          8.484848484848484,
          8.181818181818182,
          7.878787878787879,
          7.575757575757576,
          7.272727272727273,
          6.96969696969697,
          6.666666666666667,
          6.363636363636364,
          6.0606060606060606,
          5.757575757575758,
          5.454545454545455,
          5.151515151515151,
          4.848484848484849,
          4.545454545454546,
          4.242424242424242,
          3.9393939393939394,
          3.6363636363636367,
          3.3333333333333335,
          3.0303030303030303,
          2.7272727272727275,
          2.4242424242424243,
          2.121212121212121,
          1.8181818181818183,
          1.5151515151515151,
          1.2121212121212122,
          0.9090909090909092,
          0.6060606060606061,
          0.30303030303030304,
          0
         ],
         "xaxis": "x",
         "y": [
          0.03309713956720173,
          0.03466539419497136,
          0.036300404259134375,
          0.038010190728681253,
          0.03979854215675382,
          0.04166871884442694,
          0.04362428872458041,
          0.045668856838960596,
          0.04751365148115135,
          0.048907800495173584,
          0.049922900156096954,
          0.049055071046758054,
          0.05039152382757189,
          0.051860354964216135,
          0.04387950411712964,
          0.04341459790994297,
          0.04510763923158671,
          0.034386986236272524,
          0.03175447421932383,
          0.03287880965740448,
          0.0297077608734404,
          0.023398236565635836,
          0.023741110016760745,
          0.02446446153610715,
          0.015340774562418521,
          0.01424485654556124,
          0.014570888060118733,
          0.010098610344976146,
          0.008609843065447861,
          0.008691555109726305,
          0.007169034236450984,
          0.005267616657840638,
          0.00519564008753181,
          0.005365951291354572,
          0.0032906114242845026,
          0.0031164573677548175,
          0.003198432861301282,
          0.0021311643807797953,
          0.0018800570812601133,
          0.001908322163121143,
          0.0014696723630605731,
          0.0011454365232679892,
          0.001140402900156215,
          0.0011141496557875057,
          0.000709936276102999,
          0.0006833483390322502,
          0.0007031387708895773,
          0.0004533642731750635,
          0.00041139511873717195,
          0.0004194363870785635,
          0.0003050141648130941,
          0.00024969904185540085,
          0.00025052373818201427,
          0.0002241309532774292,
          0.0001537258453568263,
          0.00014996759560772529,
          0.00015463622073641305,
          0.00016083457910963693,
          0.0001675071974983329,
          0.00017449298771883597,
          0.0001817750935556148,
          0.00018936378054959423,
          0.00019726932083174854,
          0.0002055053512174054,
          0.00021408487221824388,
          0.00022302223520245204,
          0.00023233248052661792,
          0.00024203176310520563,
          0.0002521362328215447,
          0.00026266310080501587,
          0.00027362922218142523,
          0.00028505410717390975,
          0.0002969549681328317,
          0.00030935673438991823,
          0.00032227657141288806,
          0.0003357334007404733,
          0.0003497666760128932,
          0.00036439552259077767,
          0.00037963647013150825,
          0.0003955103706647045,
          0.0004120380762199853,
          0.000429258956433876,
          0.0004472299969897862,
          0.00046595086448520794,
          0.00048544735310195725,
          0.0005057452570218498,
          0.0005268703704267025,
          0.0005489252752436638,
          0.0005719061626354436,
          0.0005958406535849777,
          0.0006207612123792009,
          0.0006467003033050468,
          0.0006737368411827325,
          0.0007019409760919705,
          0.0007313183550535843,
          0.0007619097202288189,
          0.0007937558137789182,
          0.0008269052649405865,
          0.0008615170667656849,
          0.00089757211023348,
          0.054128705264821254,
          0.052143661980305615,
          0.05023051193368178,
          0.048386731530409295,
          0.04660991024038452,
          0.04489760572555666,
          0.0432475381499741,
          0.041657498410646046,
          0.04012534878944067,
          0.038649026261206636,
          0.03722652836431306,
          0.03585593067209267,
          0.03453537294327425,
          0.03326304388109162,
          0.03203722547754529,
          0.030856215494855736,
          0.029718389471500028,
          0.028438175459359335,
          0.027125377498248605,
          0.02610267851065387,
          0.0251172250769029,
          0.024172752212420854,
          0.023265276892599086,
          0.02239072863639024,
          0.02154820504612075,
          0.02073644835483121,
          0.01995434563251959,
          0.01925090922322249,
          0.018719840413248524,
          0.01806798668586813,
          0.017168892328527183,
          0.01644599352906207,
          0.015818048354275013,
          0.015213587522976017,
          0.014631788457971438,
          0.014071813481625058,
          0.013532903068275056,
          0.013014271833995707,
          0.012517090451341426,
          0.01179223857451582,
          0.011073472773720828,
          0.010398258377132,
          0.009765465787770308,
          0.009378023758054306,
          0.00914656557686248,
          0.009294848931816244,
          0.011286889601898959,
          0.011737203300000266,
          0.011702995412043032,
          0.012575045413835726,
          0.014907081025191433,
          0.014427780288924448,
          0.014539195873014003,
          0.018287356587220232,
          0.017625540767979887,
          0.01732638713696774,
          0.021582473075257173,
          0.021177913400101774,
          0.020623793601203432,
          0.02303332536306571,
          0.026389666474565383,
          0.02551120196740065,
          0.026656004373497362,
          0.032336595306822466,
          0.031181962635513365,
          0.031536250641490494,
          0.03959034619187122,
          0.03815750159416717,
          0.03720751706913042,
          0.042119254609257174,
          0.0467487285323109,
          0.04527865644522481,
          0.04709675188465453,
          0.05740928908474469,
          0.05543033008274217,
          0.05536740477620877,
          0.06300230053342769,
          0.0602338802229639,
          0.0577979922817165,
          0.0640659883027844,
          0.06935195023425561,
          0.06728903034777517,
          0.07262376110433058,
          0.07496806230976,
          0.07256581654871294,
          0.0728641170781213,
          0.07796689160697487,
          0.07528581597311619,
          0.07370076951918329,
          0.07705265948669388,
          0.07473868668180225,
          0.07190562530203604,
          0.0678504504374765,
          0.06591832002153623,
          0.06324021276407121,
          0.059340980460051415,
          0.055877729220296296,
          0.05320937790914335,
          0.051257450851734436,
          0.049371769110032174
         ],
         "yaxis": "y"
        },
        {
         "fill": "toself",
         "hoverinfo": "name",
         "legendgroup": "LXF A677 Erlotinib",
         "line": {
          "color": "rgb(0, 128, 255)",
          "width": 1
         },
         "name": "25th to 75th percentile",
         "showlegend": false,
         "type": "scatter",
         "x": [
          0,
          0.30303030303030304,
          0.6060606060606061,
          0.9090909090909092,
          1.2121212121212122,
          1.5151515151515151,
          1.8181818181818183,
          2.121212121212121,
          2.4242424242424243,
          2.7272727272727275,
          3.0303030303030303,
          3.3333333333333335,
          3.6363636363636367,
          3.9393939393939394,
          4.242424242424242,
          4.545454545454546,
          4.848484848484849,
          5.151515151515151,
          5.454545454545455,
          5.757575757575758,
          6.0606060606060606,
          6.363636363636364,
          6.666666666666667,
          6.96969696969697,
          7.272727272727273,
          7.575757575757576,
          7.878787878787879,
          8.181818181818182,
          8.484848484848484,
          8.787878787878789,
          9.090909090909092,
          9.393939393939394,
          9.696969696969697,
          10,
          10.303030303030303,
          10.606060606060606,
          10.90909090909091,
          11.212121212121213,
          11.515151515151516,
          11.818181818181818,
          12.121212121212121,
          12.424242424242424,
          12.727272727272728,
          13.030303030303031,
          13.333333333333334,
          13.636363636363637,
          13.93939393939394,
          14.242424242424242,
          14.545454545454547,
          14.84848484848485,
          15.151515151515152,
          15.454545454545455,
          15.757575757575758,
          16.060606060606062,
          16.363636363636363,
          16.666666666666668,
          16.96969696969697,
          17.272727272727273,
          17.575757575757578,
          17.87878787878788,
          18.181818181818183,
          18.484848484848484,
          18.78787878787879,
          19.09090909090909,
          19.393939393939394,
          19.6969696969697,
          20,
          20.303030303030305,
          20.606060606060606,
          20.90909090909091,
          21.21212121212121,
          21.515151515151516,
          21.81818181818182,
          22.12121212121212,
          22.424242424242426,
          22.727272727272727,
          23.03030303030303,
          23.333333333333336,
          23.636363636363637,
          23.93939393939394,
          24.242424242424242,
          24.545454545454547,
          24.848484848484848,
          25.151515151515152,
          25.454545454545457,
          25.757575757575758,
          26.060606060606062,
          26.363636363636363,
          26.666666666666668,
          26.96969696969697,
          27.272727272727273,
          27.575757575757578,
          27.87878787878788,
          28.181818181818183,
          28.484848484848484,
          28.78787878787879,
          29.090909090909093,
          29.393939393939394,
          29.6969696969697,
          30,
          30,
          29.6969696969697,
          29.393939393939394,
          29.090909090909093,
          28.78787878787879,
          28.484848484848484,
          28.181818181818183,
          27.87878787878788,
          27.575757575757578,
          27.272727272727273,
          26.96969696969697,
          26.666666666666668,
          26.363636363636363,
          26.060606060606062,
          25.757575757575758,
          25.454545454545457,
          25.151515151515152,
          24.848484848484848,
          24.545454545454547,
          24.242424242424242,
          23.93939393939394,
          23.636363636363637,
          23.333333333333336,
          23.03030303030303,
          22.727272727272727,
          22.424242424242426,
          22.12121212121212,
          21.81818181818182,
          21.515151515151516,
          21.21212121212121,
          20.90909090909091,
          20.606060606060606,
          20.303030303030305,
          20,
          19.6969696969697,
          19.393939393939394,
          19.09090909090909,
          18.78787878787879,
          18.484848484848484,
          18.181818181818183,
          17.87878787878788,
          17.575757575757578,
          17.272727272727273,
          16.96969696969697,
          16.666666666666668,
          16.363636363636363,
          16.060606060606062,
          15.757575757575758,
          15.454545454545455,
          15.151515151515152,
          14.84848484848485,
          14.545454545454547,
          14.242424242424242,
          13.93939393939394,
          13.636363636363637,
          13.333333333333334,
          13.030303030303031,
          12.727272727272728,
          12.424242424242424,
          12.121212121212121,
          11.818181818181818,
          11.515151515151516,
          11.212121212121213,
          10.90909090909091,
          10.606060606060606,
          10.303030303030303,
          10,
          9.696969696969697,
          9.393939393939394,
          9.090909090909092,
          8.787878787878789,
          8.484848484848484,
          8.181818181818182,
          7.878787878787879,
          7.575757575757576,
          7.272727272727273,
          6.96969696969697,
          6.666666666666667,
          6.363636363636364,
          6.0606060606060606,
          5.757575757575758,
          5.454545454545455,
          5.151515151515151,
          4.848484848484849,
          4.545454545454546,
          4.242424242424242,
          3.9393939393939394,
          3.6363636363636367,
          3.3333333333333335,
          3.0303030303030303,
          2.7272727272727275,
          2.4242424242424243,
          2.121212121212121,
          1.8181818181818183,
          1.5151515151515151,
          1.2121212121212122,
          0.9090909090909092,
          0.6060606060606061,
          0.30303030303030304,
          0
         ],
         "xaxis": "x",
         "y": [
          0.0398436459629193,
          0.04229190798023573,
          0.044844912311969756,
          0.04753038262497733,
          0.05035332569529918,
          0.053170206623575696,
          0.05608131081975573,
          0.05912493152400218,
          0.06219907392143156,
          0.06483112265414785,
          0.06640305634144827,
          0.05723148469449539,
          0.05753890813302594,
          0.05937871574297547,
          0.05133712729487717,
          0.05275012740338999,
          0.05386710466234956,
          0.04351369197084087,
          0.03813408288222985,
          0.03848046724280546,
          0.035663414993547575,
          0.027198004729473417,
          0.02681455021591001,
          0.027363632875460855,
          0.019758307585071612,
          0.018884720322840953,
          0.019406379373858553,
          0.014800657912971384,
          0.013747323223797256,
          0.01406938133403789,
          0.01203432567084008,
          0.010064697213751838,
          0.010209516353756358,
          0.010525089432484203,
          0.007452773007095594,
          0.00741827703869031,
          0.007636614294960422,
          0.005650832680307169,
          0.005402203079231265,
          0.005543393607712454,
          0.0045058763005471295,
          0.00395091902080424,
          0.0040263117029187105,
          0.0039525606691563795,
          0.002914790974785186,
          0.002926934786341019,
          0.0030167159774806733,
          0.0021900921358547452,
          0.0021312399246616294,
          0.00219114733989528,
          0.001711123153395798,
          0.0015569474639460191,
          0.0015921781031903973,
          0.0014512215572406858,
          0.0011450783605443699,
          0.0011577368856360883,
          0.0011945323247248294,
          0.0012348032997555138,
          0.0012767857643453178,
          0.001320374201354677,
          0.0013656177571531656,
          0.001412577237856406,
          0.0014613256043066929,
          0.0015119337487245876,
          0.0015644765529524984,
          0.0016190333362013994,
          0.0016756869535280022,
          0.0017345286053322962,
          0.001795644123331631,
          0.001859122946217979,
          0.0019250799784534189,
          0.0019935975311678026,
          0.002064779184130076,
          0.0021387557904882924,
          0.002215618083034486,
          0.002295487739054949,
          0.002378510970295638,
          0.002464789640869921,
          0.0025544678774164806,
          0.0026477020891046816,
          0.002744608305253011,
          0.0028453585447472266,
          0.002950125161778514,
          0.003059040525284296,
          0.003172312031286536,
          0.0032901329088866242,
          0.0034126569394273693,
          0.003540062928563536,
          0.0036725289045171916,
          0.0038103808369911894,
          0.0039537627173022415,
          0.004102889407584761,
          0.004257981941818505,
          0.004419298111471993,
          0.004587162529641456,
          0.004761788455838818,
          0.004943444368529572,
          0.005132410261085928,
          0.0053290238094679575,
          0.005533605673857428,
          0.04286101786200107,
          0.04151334269624406,
          0.0402076816287763,
          0.038942790074896205,
          0.037717470954497546,
          0.036530490475984626,
          0.03538063760808734,
          0.03426679429548943,
          0.033187883386778166,
          0.032142853557515436,
          0.03113063121560495,
          0.03015019195869121,
          0.029200581706613934,
          0.028277671872649138,
          0.027383294012805946,
          0.026517256646896484,
          0.025678621057184645,
          0.02486653279103641,
          0.024080170446917785,
          0.023318731120444233,
          0.022581445115148143,
          0.02163320807113289,
          0.020595923825640367,
          0.019610422697998404,
          0.018669623250826318,
          0.01777360680800167,
          0.016922534034322444,
          0.016114109498882492,
          0.01534614854823091,
          0.01461657949750076,
          0.013923463136294518,
          0.013264941731454184,
          0.01263921511723224,
          0.012044554339342903,
          0.011479389118879139,
          0.010942215286922038,
          0.010431613740155584,
          0.010015186275644898,
          0.009571020277469394,
          0.009139915996056404,
          0.008730660088988462,
          0.008344964648875464,
          0.007988731942167862,
          0.007679400880029306,
          0.0074692400645391625,
          0.007534649051055329,
          0.008947835050586928,
          0.00924800884524624,
          0.00919157673240835,
          0.0101077300481233,
          0.01148003221425968,
          0.011282997393354813,
          0.011800038444442752,
          0.014280648688944343,
          0.013928095963935651,
          0.014196465278542587,
          0.01744418851509035,
          0.017264794391723955,
          0.01734956149982278,
          0.019452048328757583,
          0.021614281214515692,
          0.02112519531531304,
          0.022129992665549367,
          0.026371445800953436,
          0.025601542068210435,
          0.025964871021782354,
          0.032318882238827576,
          0.031227392286239046,
          0.031048568241428494,
          0.03557414940062071,
          0.03823928813253552,
          0.037393951360862,
          0.03840089536885205,
          0.043504251431949664,
          0.042435953338452924,
          0.04240473117143349,
          0.05193442102193756,
          0.05015437767042962,
          0.04931220079647172,
          0.05627311790893044,
          0.05750182526272897,
          0.05567895901368053,
          0.05645770720891617,
          0.0664587244174506,
          0.06509585914304401,
          0.06694968065085902,
          0.07534784042649693,
          0.07377505230834788,
          0.07229683091681083,
          0.07283771457888763,
          0.07140477198327852,
          0.06838475827503906,
          0.06599202214977014,
          0.06317630217189024,
          0.06023565459838534,
          0.05787312387601909,
          0.05532349846012224,
          0.051705002801378186,
          0.048068016982419526,
          0.04477601464665058
         ],
         "yaxis": "y"
        },
        {
         "hovertemplate": "<b></b>Median<br>Population size: 1000<br>Time: %{x:.02f} day<br>Tumour volume: %{y:.02f} cm^3<br><extra></extra>",
         "legendgroup": "LXF A677 Erlotinib",
         "line": {
          "color": "rgb(0, 102, 204)"
         },
         "name": "LXF A677 Erlotinib",
         "type": "scatter",
         "x": [
          0,
          0.30303030303030304,
          0.6060606060606061,
          0.9090909090909092,
          1.2121212121212122,
          1.5151515151515151,
          1.8181818181818183,
          2.121212121212121,
          2.4242424242424243,
          2.7272727272727275,
          3.0303030303030303,
          3.3333333333333335,
          3.6363636363636367,
          3.9393939393939394,
          4.242424242424242,
          4.545454545454546,
          4.848484848484849,
          5.151515151515151,
          5.454545454545455,
          5.757575757575758,
          6.0606060606060606,
          6.363636363636364,
          6.666666666666667,
          6.96969696969697,
          7.272727272727273,
          7.575757575757576,
          7.878787878787879,
          8.181818181818182,
          8.484848484848484,
          8.787878787878789,
          9.090909090909092,
          9.393939393939394,
          9.696969696969697,
          10,
          10.303030303030303,
          10.606060606060606,
          10.90909090909091,
          11.212121212121213,
          11.515151515151516,
          11.818181818181818,
          12.121212121212121,
          12.424242424242424,
          12.727272727272728,
          13.030303030303031,
          13.333333333333334,
          13.636363636363637,
          13.93939393939394,
          14.242424242424242,
          14.545454545454547,
          14.84848484848485,
          15.151515151515152,
          15.454545454545455,
          15.757575757575758,
          16.060606060606062,
          16.363636363636363,
          16.666666666666668,
          16.96969696969697,
          17.272727272727273,
          17.575757575757578,
          17.87878787878788,
          18.181818181818183,
          18.484848484848484,
          18.78787878787879,
          19.09090909090909,
          19.393939393939394,
          19.6969696969697,
          20,
          20.303030303030305,
          20.606060606060606,
          20.90909090909091,
          21.21212121212121,
          21.515151515151516,
          21.81818181818182,
          22.12121212121212,
          22.424242424242426,
          22.727272727272727,
          23.03030303030303,
          23.333333333333336,
          23.636363636363637,
          23.93939393939394,
          24.242424242424242,
          24.545454545454547,
          24.848484848484848,
          25.151515151515152,
          25.454545454545457,
          25.757575757575758,
          26.060606060606062,
          26.363636363636363,
          26.666666666666668,
          26.96969696969697,
          27.272727272727273,
          27.575757575757578,
          27.87878787878788,
          28.181818181818183,
          28.484848484848484,
          28.78787878787879,
          29.090909090909093,
          29.393939393939394,
          29.6969696969697,
          30
         ],
         "xaxis": "x",
         "y": [
          0.04388786489075043,
          0.046204644510831526,
          0.04942050184789088,
          0.05345441118324604,
          0.05683568231004335,
          0.059411473263807454,
          0.06163875298563797,
          0.06369594734076789,
          0.06632823134910994,
          0.06906763514730996,
          0.07178980257014811,
          0.06387605581212083,
          0.06673086504247015,
          0.07025331914566876,
          0.05811069287073238,
          0.05426587787392581,
          0.05619688715957011,
          0.05265617026834376,
          0.05193487292462853,
          0.053002990583460946,
          0.05174092236240944,
          0.046902389899570275,
          0.04754833626531747,
          0.04880620920571097,
          0.03864289708326678,
          0.03839176624830709,
          0.040084170907256994,
          0.030769722217776196,
          0.028936055397317056,
          0.030104865414345965,
          0.026246824430233566,
          0.022039284209835,
          0.022714746210805277,
          0.023864696838421573,
          0.017057298729025016,
          0.017215834984068916,
          0.01807119929699202,
          0.013576814792707032,
          0.013114917184243994,
          0.013720868354884294,
          0.011396909531584279,
          0.01006094201049394,
          0.010443285640973075,
          0.010486413946034662,
          0.008127015315583592,
          0.008066101682390898,
          0.008389518075431354,
          0.0068637089979512594,
          0.006630271836733284,
          0.006761453490754457,
          0.00593359978796397,
          0.00547145364754055,
          0.005537050438675271,
          0.005332221984088767,
          0.0045453253704676065,
          0.004539606974109281,
          0.004655071283743323,
          0.00479432332576445,
          0.004941301808158639,
          0.00509339228974639,
          0.005250276889966972,
          0.005412001803648577,
          0.005578715256578893,
          0.0058240984607167865,
          0.006154742605328344,
          0.006503649182961501,
          0.0068717744078160324,
          0.007260114217576749,
          0.007669700586569226,
          0.008101611909643949,
          0.008556976746166359,
          0.00903697379229354,
          0.009542915221288256,
          0.010076033667267191,
          0.01063757116764451,
          0.01122916518413867,
          0.011851995972399963,
          0.012507457930779505,
          0.013197433383392878,
          0.0139231864001741,
          0.014686308763005196,
          0.015488801243120175,
          0.016332078369272734,
          0.017166047375740484,
          0.01775599074112727,
          0.018365740362542276,
          0.018995920099615142,
          0.01964717243705551,
          0.020320154529053447,
          0.021015567868612608,
          0.021734155023648474,
          0.02247660097749067,
          0.023243639292349953,
          0.024036019787145008,
          0.024854515341051615,
          0.02569997562216857,
          0.026573176784729986,
          0.02747494754629141,
          0.028406134312233225,
          0.029367601175760545
         ],
         "yaxis": "y"
        },
        {
         "fill": "toself",
         "hoverinfo": "name",
         "legendgroup": "VXF A431 Erlotinib",
         "line": {
          "color": "rgb(255, 51, 51)",
          "width": 1
         },
         "name": "0th to 100th percentile",
         "showlegend": false,
         "type": "scatter",
         "x": [
          0,
          0.30303030303030304,
          0.6060606060606061,
          0.9090909090909092,
          1.2121212121212122,
          1.5151515151515151,
          1.8181818181818183,
          2.121212121212121,
          2.4242424242424243,
          2.7272727272727275,
          3.0303030303030303,
          3.3333333333333335,
          3.6363636363636367,
          3.9393939393939394,
          4.242424242424242,
          4.545454545454546,
          4.848484848484849,
          5.151515151515151,
          5.454545454545455,
          5.757575757575758,
          6.0606060606060606,
          6.363636363636364,
          6.666666666666667,
          6.96969696969697,
          7.272727272727273,
          7.575757575757576,
          7.878787878787879,
          8.181818181818182,
          8.484848484848484,
          8.787878787878789,
          9.090909090909092,
          9.393939393939394,
          9.696969696969697,
          10,
          10.303030303030303,
          10.606060606060606,
          10.90909090909091,
          11.212121212121213,
          11.515151515151516,
          11.818181818181818,
          12.121212121212121,
          12.424242424242424,
          12.727272727272728,
          13.030303030303031,
          13.333333333333334,
          13.636363636363637,
          13.93939393939394,
          14.242424242424242,
          14.545454545454547,
          14.84848484848485,
          15.151515151515152,
          15.454545454545455,
          15.757575757575758,
          16.060606060606062,
          16.363636363636363,
          16.666666666666668,
          16.96969696969697,
          17.272727272727273,
          17.575757575757578,
          17.87878787878788,
          18.181818181818183,
          18.484848484848484,
          18.78787878787879,
          19.09090909090909,
          19.393939393939394,
          19.6969696969697,
          20,
          20.303030303030305,
          20.606060606060606,
          20.90909090909091,
          21.21212121212121,
          21.515151515151516,
          21.81818181818182,
          22.12121212121212,
          22.424242424242426,
          22.727272727272727,
          23.03030303030303,
          23.333333333333336,
          23.636363636363637,
          23.93939393939394,
          24.242424242424242,
          24.545454545454547,
          24.848484848484848,
          25.151515151515152,
          25.454545454545457,
          25.757575757575758,
          26.060606060606062,
          26.363636363636363,
          26.666666666666668,
          26.96969696969697,
          27.272727272727273,
          27.575757575757578,
          27.87878787878788,
          28.181818181818183,
          28.484848484848484,
          28.78787878787879,
          29.090909090909093,
          29.393939393939394,
          29.6969696969697,
          30,
          30,
          29.6969696969697,
          29.393939393939394,
          29.090909090909093,
          28.78787878787879,
          28.484848484848484,
          28.181818181818183,
          27.87878787878788,
          27.575757575757578,
          27.272727272727273,
          26.96969696969697,
          26.666666666666668,
          26.363636363636363,
          26.060606060606062,
          25.757575757575758,
          25.454545454545457,
          25.151515151515152,
          24.848484848484848,
          24.545454545454547,
          24.242424242424242,
          23.93939393939394,
          23.636363636363637,
          23.333333333333336,
          23.03030303030303,
          22.727272727272727,
          22.424242424242426,
          22.12121212121212,
          21.81818181818182,
          21.515151515151516,
          21.21212121212121,
          20.90909090909091,
          20.606060606060606,
          20.303030303030305,
          20,
          19.6969696969697,
          19.393939393939394,
          19.09090909090909,
          18.78787878787879,
          18.484848484848484,
          18.181818181818183,
          17.87878787878788,
          17.575757575757578,
          17.272727272727273,
          16.96969696969697,
          16.666666666666668,
          16.363636363636363,
          16.060606060606062,
          15.757575757575758,
          15.454545454545455,
          15.151515151515152,
          14.84848484848485,
          14.545454545454547,
          14.242424242424242,
          13.93939393939394,
          13.636363636363637,
          13.333333333333334,
          13.030303030303031,
          12.727272727272728,
          12.424242424242424,
          12.121212121212121,
          11.818181818181818,
          11.515151515151516,
          11.212121212121213,
          10.90909090909091,
          10.606060606060606,
          10.303030303030303,
          10,
          9.696969696969697,
          9.393939393939394,
          9.090909090909092,
          8.787878787878789,
          8.484848484848484,
          8.181818181818182,
          7.878787878787879,
          7.575757575757576,
          7.272727272727273,
          6.96969696969697,
          6.666666666666667,
          6.363636363636364,
          6.0606060606060606,
          5.757575757575758,
          5.454545454545455,
          5.151515151515151,
          4.848484848484849,
          4.545454545454546,
          4.242424242424242,
          3.9393939393939394,
          3.6363636363636367,
          3.3333333333333335,
          3.0303030303030303,
          2.7272727272727275,
          2.4242424242424243,
          2.121212121212121,
          1.8181818181818183,
          1.5151515151515151,
          1.2121212121212122,
          0.9090909090909092,
          0.6060606060606061,
          0.30303030303030304,
          0
         ],
         "xaxis": "x",
         "y": [
          0.02572304278387642,
          0.026211308024425253,
          0.02670728779348273,
          0.027211999370673357,
          0.027725994597005584,
          0.028249673080364135,
          0.028783078873778706,
          0.029326623456212963,
          0.029880247796205,
          0.030444528576496984,
          0.030703288736561835,
          0.029358304414721766,
          0.029796690391898,
          0.030352145464931472,
          0.028886000762827234,
          0.029164787311618274,
          0.029699478619925574,
          0.028634060828666485,
          0.02855877909592891,
          0.02906165408880677,
          0.028869265332666382,
          0.02799395400746964,
          0.02843927816489584,
          0.028971127763979507,
          0.027506075619419486,
          0.027834169724783725,
          0.028348252295393787,
          0.027178892823437602,
          0.027250909309991512,
          0.027739355866044244,
          0.027208841449166004,
          0.026700417762629547,
          0.02714481106639431,
          0.027653680553477916,
          0.026208231664954246,
          0.02656584782781214,
          0.027059238333104134,
          0.02583407097687782,
          0.026005686880899655,
          0.026478004893733614,
          0.025718478496258457,
          0.02547210656903996,
          0.02591018402254246,
          0.026127792941543274,
          0.024393643807464328,
          0.024233936370400933,
          0.024663089473391665,
          0.02156967278813932,
          0.021002590125649496,
          0.021300201516990303,
          0.019396043923402717,
          0.01825672478659732,
          0.018406468026124934,
          0.017926814371037363,
          0.01594946376459574,
          0.015920505696605358,
          0.016216839239042033,
          0.01657719977459444,
          0.016955935838041492,
          0.01734517428953109,
          0.017743611132449204,
          0.0181512062723081,
          0.018568115087193145,
          0.018994528500840515,
          0.019430660359852813,
          0.019876730469533546,
          0.0203329651820467,
          0.0207996017794165,
          0.021276885234679136,
          0.02176503667991651,
          0.02226428169864044,
          0.02277487071374009,
          0.023297081040608326,
          0.023831141763072692,
          0.024377345280691954,
          0.02493594575563393,
          0.025507226940662417,
          0.026091510704496525,
          0.026689042614230326,
          0.027300094773451966,
          0.02792500721968901,
          0.02856411854257651,
          0.029217681570367974,
          0.02988598986145082,
          0.03056944592389099,
          0.03126837995928169,
          0.03198307739522076,
          0.03271385664609181,
          0.03346132728791977,
          0.03422573460713894,
          0.03500738060630406,
          0.03580660366683633,
          0.0366237421701569,
          0.03745913449768701,
          0.03831364730498307,
          0.039187449899678,
          0.04008085192407243,
          0.040994233817331985,
          0.041927976018622325,
          0.042882458967109065,
          0.08938169386143524,
          0.08831043599407537,
          0.08725173892398298,
          0.086205479802664,
          0.08517153633369316,
          0.08414978622064524,
          0.08314010716709501,
          0.08214275006107818,
          0.08115760078079648,
          0.08018413900458059,
          0.07922224265013043,
          0.07822074799606236,
          0.07715629528572421,
          0.07610599894391298,
          0.07506985466737617,
          0.07404770061069021,
          0.07303908138712893,
          0.0720438421826261,
          0.07106182811375647,
          0.0700928843045844,
          0.06929453569312745,
          0.06855568650197416,
          0.06782129119754407,
          0.06709257839556743,
          0.06637413404850978,
          0.06566332626611664,
          0.06496121733803308,
          0.06426674479395808,
          0.06357964036464714,
          0.06289982468411648,
          0.062204788815716644,
          0.061456412957773474,
          0.06071696127497454,
          0.05998632887463778,
          0.059264414266576804,
          0.05855111277361839,
          0.057846324371514504,
          0.05714994645947624,
          0.05646188184398186,
          0.05578203975997335,
          0.05511033006223993,
          0.054446697820677244,
          0.053791493054778,
          0.05314828646661332,
          0.05254878337246146,
          0.05226870378774391,
          0.054697070436084044,
          0.05493426320133879,
          0.054103351880711324,
          0.05431222095996446,
          0.0564941345133088,
          0.05581606884273678,
          0.055618134759471104,
          0.059329079464648146,
          0.05814490281301181,
          0.057305771976840954,
          0.0596457605172507,
          0.059450685842210346,
          0.059048628746449755,
          0.05924955448887853,
          0.059931462572177116,
          0.05950585501630893,
          0.059335032664396645,
          0.05960400505374036,
          0.05869644940645273,
          0.05794708033398545,
          0.06040111363759012,
          0.0594038057464122,
          0.05856239275834804,
          0.05946807975705479,
          0.059213274133314134,
          0.05810845425546678,
          0.05800066651150906,
          0.057784200929518574,
          0.05692887930599241,
          0.05625723091427934,
          0.058044248555705766,
          0.05745021624478916,
          0.056663352627483315,
          0.05625683998799108,
          0.05558209400588386,
          0.05469457192594704,
          0.05403363146743519,
          0.05367526270685434,
          0.052809866989282236,
          0.05205561110363706,
          0.05195646035653538,
          0.05127875939419395,
          0.05071545971299186,
          0.050835822943532144,
          0.04987412437464691,
          0.04876159849586592,
          0.04767355834523203,
          0.0468647373893717,
          0.04609639174155734,
          0.04534060351085285,
          0.04460050639017971,
          0.043871996336937134,
          0.04296560746528346,
          0.04205092852460304
         ],
         "yaxis": "y"
        },
        {
         "fill": "toself",
         "hoverinfo": "name",
         "legendgroup": "VXF A431 Erlotinib",
         "line": {
          "color": "rgb(255, 0, 0)",
          "width": 1
         },
         "name": "25th to 75th percentile",
         "showlegend": false,
         "type": "scatter",
         "x": [
          0,
          0.30303030303030304,
          0.6060606060606061,
          0.9090909090909092,
          1.2121212121212122,
          1.5151515151515151,
          1.8181818181818183,
          2.121212121212121,
          2.4242424242424243,
          2.7272727272727275,
          3.0303030303030303,
          3.3333333333333335,
          3.6363636363636367,
          3.9393939393939394,
          4.242424242424242,
          4.545454545454546,
          4.848484848484849,
          5.151515151515151,
          5.454545454545455,
          5.757575757575758,
          6.0606060606060606,
          6.363636363636364,
          6.666666666666667,
          6.96969696969697,
          7.272727272727273,
          7.575757575757576,
          7.878787878787879,
          8.181818181818182,
          8.484848484848484,
          8.787878787878789,
          9.090909090909092,
          9.393939393939394,
          9.696969696969697,
          10,
          10.303030303030303,
          10.606060606060606,
          10.90909090909091,
          11.212121212121213,
          11.515151515151516,
          11.818181818181818,
          12.121212121212121,
          12.424242424242424,
          12.727272727272728,
          13.030303030303031,
          13.333333333333334,
          13.636363636363637,
          13.93939393939394,
          14.242424242424242,
          14.545454545454547,
          14.84848484848485,
          15.151515151515152,
          15.454545454545455,
          15.757575757575758,
          16.060606060606062,
          16.363636363636363,
          16.666666666666668,
          16.96969696969697,
          17.272727272727273,
          17.575757575757578,
          17.87878787878788,
          18.181818181818183,
          18.484848484848484,
          18.78787878787879,
          19.09090909090909,
          19.393939393939394,
          19.6969696969697,
          20,
          20.303030303030305,
          20.606060606060606,
          20.90909090909091,
          21.21212121212121,
          21.515151515151516,
          21.81818181818182,
          22.12121212121212,
          22.424242424242426,
          22.727272727272727,
          23.03030303030303,
          23.333333333333336,
          23.636363636363637,
          23.93939393939394,
          24.242424242424242,
          24.545454545454547,
          24.848484848484848,
          25.151515151515152,
          25.454545454545457,
          25.757575757575758,
          26.060606060606062,
          26.363636363636363,
          26.666666666666668,
          26.96969696969697,
          27.272727272727273,
          27.575757575757578,
          27.87878787878788,
          28.181818181818183,
          28.484848484848484,
          28.78787878787879,
          29.090909090909093,
          29.393939393939394,
          29.6969696969697,
          30,
          30,
          29.6969696969697,
          29.393939393939394,
          29.090909090909093,
          28.78787878787879,
          28.484848484848484,
          28.181818181818183,
          27.87878787878788,
          27.575757575757578,
          27.272727272727273,
          26.96969696969697,
          26.666666666666668,
          26.363636363636363,
          26.060606060606062,
          25.757575757575758,
          25.454545454545457,
          25.151515151515152,
          24.848484848484848,
          24.545454545454547,
          24.242424242424242,
          23.93939393939394,
          23.636363636363637,
          23.333333333333336,
          23.03030303030303,
          22.727272727272727,
          22.424242424242426,
          22.12121212121212,
          21.81818181818182,
          21.515151515151516,
          21.21212121212121,
          20.90909090909091,
          20.606060606060606,
          20.303030303030305,
          20,
          19.6969696969697,
          19.393939393939394,
          19.09090909090909,
          18.78787878787879,
          18.484848484848484,
          18.181818181818183,
          17.87878787878788,
          17.575757575757578,
          17.272727272727273,
          16.96969696969697,
          16.666666666666668,
          16.363636363636363,
          16.060606060606062,
          15.757575757575758,
          15.454545454545455,
          15.151515151515152,
          14.84848484848485,
          14.545454545454547,
          14.242424242424242,
          13.93939393939394,
          13.636363636363637,
          13.333333333333334,
          13.030303030303031,
          12.727272727272728,
          12.424242424242424,
          12.121212121212121,
          11.818181818181818,
          11.515151515151516,
          11.212121212121213,
          10.90909090909091,
          10.606060606060606,
          10.303030303030303,
          10,
          9.696969696969697,
          9.393939393939394,
          9.090909090909092,
          8.787878787878789,
          8.484848484848484,
          8.181818181818182,
          7.878787878787879,
          7.575757575757576,
          7.272727272727273,
          6.96969696969697,
          6.666666666666667,
          6.363636363636364,
          6.0606060606060606,
          5.757575757575758,
          5.454545454545455,
          5.151515151515151,
          4.848484848484849,
          4.545454545454546,
          4.242424242424242,
          3.9393939393939394,
          3.6363636363636367,
          3.3333333333333335,
          3.0303030303030303,
          2.7272727272727275,
          2.4242424242424243,
          2.121212121212121,
          1.8181818181818183,
          1.5151515151515151,
          1.2121212121212122,
          0.9090909090909092,
          0.6060606060606061,
          0.30303030303030304,
          0
         ],
         "xaxis": "x",
         "y": [
          0.03501511482795888,
          0.03540082317486001,
          0.03579081132810944,
          0.03618449074279767,
          0.03658218233090828,
          0.036984546234825603,
          0.03739134877939845,
          0.037802845610671015,
          0.03821903849351898,
          0.03864003912166955,
          0.038920284317172954,
          0.03801512179411931,
          0.03815243705665705,
          0.03850716868171622,
          0.03766825399325269,
          0.037642571790239804,
          0.03795667507520882,
          0.03745246649941805,
          0.03717171487490984,
          0.03742868244733025,
          0.03744503186691958,
          0.036753248769804084,
          0.036925492473814034,
          0.03727450295944333,
          0.03640803727543429,
          0.036565667846982244,
          0.03699386117050939,
          0.036864219932297604,
          0.03713272994709679,
          0.03753488113831653,
          0.03763721409134421,
          0.037736396755502485,
          0.038134183490538494,
          0.03855814368420653,
          0.03705684176351942,
          0.03693998502783149,
          0.03739312483235716,
          0.03504003072078549,
          0.03493995603447371,
          0.035216886118840315,
          0.03490180832756114,
          0.03456108401048942,
          0.03478146743682057,
          0.034992798960677515,
          0.03423313458765143,
          0.034368008386206045,
          0.03468154061019537,
          0.03397905836010362,
          0.03398026506128149,
          0.03426185883445244,
          0.03383927278063588,
          0.03362448218035521,
          0.03385990982149727,
          0.03388127466301896,
          0.033311304980998296,
          0.03347736670328112,
          0.03378756998107253,
          0.03413263237224742,
          0.034488974853299596,
          0.034851072830752325,
          0.0352176583707115,
          0.035588436383152844,
          0.03596337921756043,
          0.03634250775187895,
          0.036725868103910195,
          0.03711350836136022,
          0.037505476687208814,
          0.037901823973881255,
          0.038302600783038473,
          0.038707859464139835,
          0.03911765239876365,
          0.039532034073281666,
          0.03995110834896426,
          0.040374878118346356,
          0.04080338753255294,
          0.04123667953903609,
          0.0416749512106489,
          0.0421181890681561,
          0.0425663975853205,
          0.04301962028760374,
          0.043477900700467406,
          0.043941282858958694,
          0.04440988081468924,
          0.04488393370629102,
          0.04536331055333747,
          0.04584805754840188,
          0.04633822088405758,
          0.04683387831187174,
          0.04733506648613628,
          0.04788888781366911,
          0.04852538322295351,
          0.04917168988766676,
          0.049827956251501423,
          0.05049427710578501,
          0.051170794879359674,
          0.05185765200106756,
          0.05255529770010445,
          0.053263898693147786,
          0.0539828781721005,
          0.054710674966359216,
          0.08549250895639614,
          0.08454323459380064,
          0.08360432520812416,
          0.08267562147167724,
          0.08175703123794707,
          0.08084846236042087,
          0.07994982269258588,
          0.07904287710263622,
          0.07812717540145214,
          0.07722164892232519,
          0.07632624807945235,
          0.07544092328703053,
          0.0745656249592567,
          0.07370030554209855,
          0.07284537924929885,
          0.07201587383235336,
          0.07133901500589893,
          0.07066874820613854,
          0.0700052045180855,
          0.06934413582286861,
          0.06868906762589924,
          0.06789310828601272,
          0.06703467886884804,
          0.06611024072290539,
          0.06507126221296325,
          0.06406216166195725,
          0.06326147477909216,
          0.062461595327152356,
          0.06167170238890134,
          0.06089167550222138,
          0.06012139132235062,
          0.059360734918889345,
          0.058609041709162715,
          0.05786545686690194,
          0.05713119642763298,
          0.05640614441013951,
          0.05569018457741727,
          0.05498323396587417,
          0.05431139395203926,
          0.0537017255526023,
          0.05309896586835033,
          0.05250348876000768,
          0.05191756570520055,
          0.051352215765514936,
          0.0508634608187184,
          0.05069809823234503,
          0.05287440924894943,
          0.053281666544295586,
          0.052756180419195775,
          0.05294605795333024,
          0.05537259175846761,
          0.0544801985610589,
          0.054598723008761126,
          0.056646301952556974,
          0.055816200293185514,
          0.05526459281513106,
          0.0567499677650677,
          0.05620746396450531,
          0.055514580664649746,
          0.05592200235438741,
          0.05661996438819082,
          0.055843543271578616,
          0.05566196450029029,
          0.05704962857381145,
          0.05622065037805281,
          0.055675051420803354,
          0.05622989914924385,
          0.05541809335261072,
          0.05477485245394678,
          0.0548088592129919,
          0.054597734362767304,
          0.05397521603339893,
          0.053977816441783386,
          0.05630062525850078,
          0.055562617730786745,
          0.05515389099576262,
          0.05510114400559206,
          0.05407252252560841,
          0.0531034203742514,
          0.05285356746234175,
          0.05229864745654893,
          0.05149074843793791,
          0.05114693291875873,
          0.050868072168447506,
          0.04999544081312393,
          0.049269070954525776,
          0.048989322685608475,
          0.04822561718297063,
          0.04752581203126084,
          0.04724303158354126,
          0.046566764157226825,
          0.04584091112556135,
          0.04512648871366995,
          0.04442317712855641,
          0.04373082009470593,
          0.04304929741604795,
          0.04220582513349141,
          0.04137132016662401,
          0.04055217096357783,
          0.03974751694535293
         ],
         "yaxis": "y"
        },
        {
         "hovertemplate": "<b></b>Median<br>Population size: 1000<br>Time: %{x:.02f} day<br>Tumour volume: %{y:.02f} cm^3<br><extra></extra>",
         "legendgroup": "VXF A431 Erlotinib",
         "line": {
          "color": "rgb(204, 0, 0)"
         },
         "name": "VXF A431 Erlotinib",
         "type": "scatter",
         "x": [
          0,
          0.30303030303030304,
          0.6060606060606061,
          0.9090909090909092,
          1.2121212121212122,
          1.5151515151515151,
          1.8181818181818183,
          2.121212121212121,
          2.4242424242424243,
          2.7272727272727275,
          3.0303030303030303,
          3.3333333333333335,
          3.6363636363636367,
          3.9393939393939394,
          4.242424242424242,
          4.545454545454546,
          4.848484848484849,
          5.151515151515151,
          5.454545454545455,
          5.757575757575758,
          6.0606060606060606,
          6.363636363636364,
          6.666666666666667,
          6.96969696969697,
          7.272727272727273,
          7.575757575757576,
          7.878787878787879,
          8.181818181818182,
          8.484848484848484,
          8.787878787878789,
          9.090909090909092,
          9.393939393939394,
          9.696969696969697,
          10,
          10.303030303030303,
          10.606060606060606,
          10.90909090909091,
          11.212121212121213,
          11.515151515151516,
          11.818181818181818,
          12.121212121212121,
          12.424242424242424,
          12.727272727272728,
          13.030303030303031,
          13.333333333333334,
          13.636363636363637,
          13.93939393939394,
          14.242424242424242,
          14.545454545454547,
          14.84848484848485,
          15.151515151515152,
          15.454545454545455,
          15.757575757575758,
          16.060606060606062,
          16.363636363636363,
          16.666666666666668,
          16.96969696969697,
          17.272727272727273,
          17.575757575757578,
          17.87878787878788,
          18.181818181818183,
          18.484848484848484,
          18.78787878787879,
          19.09090909090909,
          19.393939393939394,
          19.6969696969697,
          20,
          20.303030303030305,
          20.606060606060606,
          20.90909090909091,
          21.21212121212121,
          21.515151515151516,
          21.81818181818182,
          22.12121212121212,
          22.424242424242426,
          22.727272727272727,
          23.03030303030303,
          23.333333333333336,
          23.636363636363637,
          23.93939393939394,
          24.242424242424242,
          24.545454545454547,
          24.848484848484848,
          25.151515151515152,
          25.454545454545457,
          25.757575757575758,
          26.060606060606062,
          26.363636363636363,
          26.666666666666668,
          26.96969696969697,
          27.272727272727273,
          27.575757575757578,
          27.87878787878788,
          28.181818181818183,
          28.484848484848484,
          28.78787878787879,
          29.090909090909093,
          29.393939393939394,
          29.6969696969697,
          30
         ],
         "xaxis": "x",
         "y": [
          0.03811909430860419,
          0.038535900802953715,
          0.03895728099919644,
          0.03968458734118296,
          0.04051518535855637,
          0.04136305629796762,
          0.04222848182495828,
          0.043111741270971934,
          0.04393254685850228,
          0.044637255650829245,
          0.0452890979618919,
          0.04541904089600622,
          0.04603077035630909,
          0.04674626144699141,
          0.04690420231266006,
          0.047456892262257244,
          0.048179182311936235,
          0.04850032207960953,
          0.04893821752487255,
          0.049657287102267335,
          0.05025573997136991,
          0.05048540273905109,
          0.05118358408761473,
          0.05198163475395841,
          0.05211561980631531,
          0.0527623438700454,
          0.05346207279710239,
          0.05124608096910846,
          0.04888217593775409,
          0.04938526106509286,
          0.04689553493013964,
          0.04694518907414484,
          0.047413487758270784,
          0.04792493470099679,
          0.04764825577229888,
          0.048084413293604834,
          0.048598286560308845,
          0.048430780471446555,
          0.048404668746912724,
          0.04882968284735983,
          0.04772082239524459,
          0.04677621891174085,
          0.047094879075185316,
          0.04728411064901609,
          0.04528567572369367,
          0.04543423009965097,
          0.045894230485914185,
          0.0455927056283273,
          0.04618241008334806,
          0.04682516676494812,
          0.04700484893023028,
          0.04752701537607988,
          0.048185339530737586,
          0.04754692628977015,
          0.04325722593102012,
          0.043551581202222175,
          0.04436439580424153,
          0.045252882672177044,
          0.04616606685647652,
          0.047098252275778706,
          0.048049205694766436,
          0.04901901747264315,
          0.050008247567479375,
          0.05101715295052907,
          0.05204616532240857,
          0.053095640010956686,
          0.05416598292310548,
          0.055257613508401235,
          0.056370918278388006,
          0.0575063146398079,
          0.05866423899653187,
          0.05984512714439601,
          0.06078284651076696,
          0.06144723446555671,
          0.06211880799835214,
          0.06279767040579637,
          0.0634838984526197,
          0.06417755278568753,
          0.0648787077488273,
          0.06558744025000678,
          0.06630382253996267,
          0.0670279287373024,
          0.06775984421939375,
          0.06849973649820972,
          0.06924761863236054,
          0.0700035685217117,
          0.07076766503193746,
          0.07153998817122675,
          0.0723206196068074,
          0.07310963596199709,
          0.07390720102574518,
          0.07471341306100392,
          0.07552831389416025,
          0.07626782495686235,
          0.07682230999183409,
          0.07738079874684192,
          0.0779433212204524,
          0.07850990364353683,
          0.07908057391853031,
          0.0796553682371734
         ],
         "yaxis": "y"
        }
       ],
       "layout": {
        "autosize": true,
        "template": {
         "data": {
          "bar": [
           {
            "error_x": {
             "color": "#2a3f5f"
            },
            "error_y": {
             "color": "#2a3f5f"
            },
            "marker": {
             "line": {
              "color": "white",
              "width": 0.5
             }
            },
            "type": "bar"
           }
          ],
          "barpolar": [
           {
            "marker": {
             "line": {
              "color": "white",
              "width": 0.5
             }
            },
            "type": "barpolar"
           }
          ],
          "carpet": [
           {
            "aaxis": {
             "endlinecolor": "#2a3f5f",
             "gridcolor": "#C8D4E3",
             "linecolor": "#C8D4E3",
             "minorgridcolor": "#C8D4E3",
             "startlinecolor": "#2a3f5f"
            },
            "baxis": {
             "endlinecolor": "#2a3f5f",
             "gridcolor": "#C8D4E3",
             "linecolor": "#C8D4E3",
             "minorgridcolor": "#C8D4E3",
             "startlinecolor": "#2a3f5f"
            },
            "type": "carpet"
           }
          ],
          "choropleth": [
           {
            "colorbar": {
             "outlinewidth": 0,
             "ticks": ""
            },
            "type": "choropleth"
           }
          ],
          "contour": [
           {
            "colorbar": {
             "outlinewidth": 0,
             "ticks": ""
            },
            "colorscale": [
             [
              0,
              "#0d0887"
             ],
             [
              0.1111111111111111,
              "#46039f"
             ],
             [
              0.2222222222222222,
              "#7201a8"
             ],
             [
              0.3333333333333333,
              "#9c179e"
             ],
             [
              0.4444444444444444,
              "#bd3786"
             ],
             [
              0.5555555555555556,
              "#d8576b"
             ],
             [
              0.6666666666666666,
              "#ed7953"
             ],
             [
              0.7777777777777778,
              "#fb9f3a"
             ],
             [
              0.8888888888888888,
              "#fdca26"
             ],
             [
              1,
              "#f0f921"
             ]
            ],
            "type": "contour"
           }
          ],
          "contourcarpet": [
           {
            "colorbar": {
             "outlinewidth": 0,
             "ticks": ""
            },
            "type": "contourcarpet"
           }
          ],
          "heatmap": [
           {
            "colorbar": {
             "outlinewidth": 0,
             "ticks": ""
            },
            "colorscale": [
             [
              0,
              "#0d0887"
             ],
             [
              0.1111111111111111,
              "#46039f"
             ],
             [
              0.2222222222222222,
              "#7201a8"
             ],
             [
              0.3333333333333333,
              "#9c179e"
             ],
             [
              0.4444444444444444,
              "#bd3786"
             ],
             [
              0.5555555555555556,
              "#d8576b"
             ],
             [
              0.6666666666666666,
              "#ed7953"
             ],
             [
              0.7777777777777778,
              "#fb9f3a"
             ],
             [
              0.8888888888888888,
              "#fdca26"
             ],
             [
              1,
              "#f0f921"
             ]
            ],
            "type": "heatmap"
           }
          ],
          "heatmapgl": [
           {
            "colorbar": {
             "outlinewidth": 0,
             "ticks": ""
            },
            "colorscale": [
             [
              0,
              "#0d0887"
             ],
             [
              0.1111111111111111,
              "#46039f"
             ],
             [
              0.2222222222222222,
              "#7201a8"
             ],
             [
              0.3333333333333333,
              "#9c179e"
             ],
             [
              0.4444444444444444,
              "#bd3786"
             ],
             [
              0.5555555555555556,
              "#d8576b"
             ],
             [
              0.6666666666666666,
              "#ed7953"
             ],
             [
              0.7777777777777778,
              "#fb9f3a"
             ],
             [
              0.8888888888888888,
              "#fdca26"
             ],
             [
              1,
              "#f0f921"
             ]
            ],
            "type": "heatmapgl"
           }
          ],
          "histogram": [
           {
            "marker": {
             "colorbar": {
              "outlinewidth": 0,
              "ticks": ""
             }
            },
            "type": "histogram"
           }
          ],
          "histogram2d": [
           {
            "colorbar": {
             "outlinewidth": 0,
             "ticks": ""
            },
            "colorscale": [
             [
              0,
              "#0d0887"
             ],
             [
              0.1111111111111111,
              "#46039f"
             ],
             [
              0.2222222222222222,
              "#7201a8"
             ],
             [
              0.3333333333333333,
              "#9c179e"
             ],
             [
              0.4444444444444444,
              "#bd3786"
             ],
             [
              0.5555555555555556,
              "#d8576b"
             ],
             [
              0.6666666666666666,
              "#ed7953"
             ],
             [
              0.7777777777777778,
              "#fb9f3a"
             ],
             [
              0.8888888888888888,
              "#fdca26"
             ],
             [
              1,
              "#f0f921"
             ]
            ],
            "type": "histogram2d"
           }
          ],
          "histogram2dcontour": [
           {
            "colorbar": {
             "outlinewidth": 0,
             "ticks": ""
            },
            "colorscale": [
             [
              0,
              "#0d0887"
             ],
             [
              0.1111111111111111,
              "#46039f"
             ],
             [
              0.2222222222222222,
              "#7201a8"
             ],
             [
              0.3333333333333333,
              "#9c179e"
             ],
             [
              0.4444444444444444,
              "#bd3786"
             ],
             [
              0.5555555555555556,
              "#d8576b"
             ],
             [
              0.6666666666666666,
              "#ed7953"
             ],
             [
              0.7777777777777778,
              "#fb9f3a"
             ],
             [
              0.8888888888888888,
              "#fdca26"
             ],
             [
              1,
              "#f0f921"
             ]
            ],
            "type": "histogram2dcontour"
           }
          ],
          "mesh3d": [
           {
            "colorbar": {
             "outlinewidth": 0,
             "ticks": ""
            },
            "type": "mesh3d"
           }
          ],
          "parcoords": [
           {
            "line": {
             "colorbar": {
              "outlinewidth": 0,
              "ticks": ""
             }
            },
            "type": "parcoords"
           }
          ],
          "pie": [
           {
            "automargin": true,
            "type": "pie"
           }
          ],
          "scatter": [
           {
            "marker": {
             "colorbar": {
              "outlinewidth": 0,
              "ticks": ""
             }
            },
            "type": "scatter"
           }
          ],
          "scatter3d": [
           {
            "line": {
             "colorbar": {
              "outlinewidth": 0,
              "ticks": ""
             }
            },
            "marker": {
             "colorbar": {
              "outlinewidth": 0,
              "ticks": ""
             }
            },
            "type": "scatter3d"
           }
          ],
          "scattercarpet": [
           {
            "marker": {
             "colorbar": {
              "outlinewidth": 0,
              "ticks": ""
             }
            },
            "type": "scattercarpet"
           }
          ],
          "scattergeo": [
           {
            "marker": {
             "colorbar": {
              "outlinewidth": 0,
              "ticks": ""
             }
            },
            "type": "scattergeo"
           }
          ],
          "scattergl": [
           {
            "marker": {
             "colorbar": {
              "outlinewidth": 0,
              "ticks": ""
             }
            },
            "type": "scattergl"
           }
          ],
          "scattermapbox": [
           {
            "marker": {
             "colorbar": {
              "outlinewidth": 0,
              "ticks": ""
             }
            },
            "type": "scattermapbox"
           }
          ],
          "scatterpolar": [
           {
            "marker": {
             "colorbar": {
              "outlinewidth": 0,
              "ticks": ""
             }
            },
            "type": "scatterpolar"
           }
          ],
          "scatterpolargl": [
           {
            "marker": {
             "colorbar": {
              "outlinewidth": 0,
              "ticks": ""
             }
            },
            "type": "scatterpolargl"
           }
          ],
          "scatterternary": [
           {
            "marker": {
             "colorbar": {
              "outlinewidth": 0,
              "ticks": ""
             }
            },
            "type": "scatterternary"
           }
          ],
          "surface": [
           {
            "colorbar": {
             "outlinewidth": 0,
             "ticks": ""
            },
            "colorscale": [
             [
              0,
              "#0d0887"
             ],
             [
              0.1111111111111111,
              "#46039f"
             ],
             [
              0.2222222222222222,
              "#7201a8"
             ],
             [
              0.3333333333333333,
              "#9c179e"
             ],
             [
              0.4444444444444444,
              "#bd3786"
             ],
             [
              0.5555555555555556,
              "#d8576b"
             ],
             [
              0.6666666666666666,
              "#ed7953"
             ],
             [
              0.7777777777777778,
              "#fb9f3a"
             ],
             [
              0.8888888888888888,
              "#fdca26"
             ],
             [
              1,
              "#f0f921"
             ]
            ],
            "type": "surface"
           }
          ],
          "table": [
           {
            "cells": {
             "fill": {
              "color": "#EBF0F8"
             },
             "line": {
              "color": "white"
             }
            },
            "header": {
             "fill": {
              "color": "#C8D4E3"
             },
             "line": {
              "color": "white"
             }
            },
            "type": "table"
           }
          ]
         },
         "layout": {
          "annotationdefaults": {
           "arrowcolor": "#2a3f5f",
           "arrowhead": 0,
           "arrowwidth": 1
          },
          "coloraxis": {
           "colorbar": {
            "outlinewidth": 0,
            "ticks": ""
           }
          },
          "colorscale": {
           "diverging": [
            [
             0,
             "#8e0152"
            ],
            [
             0.1,
             "#c51b7d"
            ],
            [
             0.2,
             "#de77ae"
            ],
            [
             0.3,
             "#f1b6da"
            ],
            [
             0.4,
             "#fde0ef"
            ],
            [
             0.5,
             "#f7f7f7"
            ],
            [
             0.6,
             "#e6f5d0"
            ],
            [
             0.7,
             "#b8e186"
            ],
            [
             0.8,
             "#7fbc41"
            ],
            [
             0.9,
             "#4d9221"
            ],
            [
             1,
             "#276419"
            ]
           ],
           "sequential": [
            [
             0,
             "#0d0887"
            ],
            [
             0.1111111111111111,
             "#46039f"
            ],
            [
             0.2222222222222222,
             "#7201a8"
            ],
            [
             0.3333333333333333,
             "#9c179e"
            ],
            [
             0.4444444444444444,
             "#bd3786"
            ],
            [
             0.5555555555555556,
             "#d8576b"
            ],
            [
             0.6666666666666666,
             "#ed7953"
            ],
            [
             0.7777777777777778,
             "#fb9f3a"
            ],
            [
             0.8888888888888888,
             "#fdca26"
            ],
            [
             1,
             "#f0f921"
            ]
           ],
           "sequentialminus": [
            [
             0,
             "#0d0887"
            ],
            [
             0.1111111111111111,
             "#46039f"
            ],
            [
             0.2222222222222222,
             "#7201a8"
            ],
            [
             0.3333333333333333,
             "#9c179e"
            ],
            [
             0.4444444444444444,
             "#bd3786"
            ],
            [
             0.5555555555555556,
             "#d8576b"
            ],
            [
             0.6666666666666666,
             "#ed7953"
            ],
            [
             0.7777777777777778,
             "#fb9f3a"
            ],
            [
             0.8888888888888888,
             "#fdca26"
            ],
            [
             1,
             "#f0f921"
            ]
           ]
          },
          "colorway": [
           "#636efa",
           "#EF553B",
           "#00cc96",
           "#ab63fa",
           "#FFA15A",
           "#19d3f3",
           "#FF6692",
           "#B6E880",
           "#FF97FF",
           "#FECB52"
          ],
          "font": {
           "color": "#2a3f5f"
          },
          "geo": {
           "bgcolor": "white",
           "lakecolor": "white",
           "landcolor": "white",
           "showlakes": true,
           "showland": true,
           "subunitcolor": "#C8D4E3"
          },
          "hoverlabel": {
           "align": "left"
          },
          "hovermode": "closest",
          "mapbox": {
           "style": "light"
          },
          "paper_bgcolor": "white",
          "plot_bgcolor": "white",
          "polar": {
           "angularaxis": {
            "gridcolor": "#EBF0F8",
            "linecolor": "#EBF0F8",
            "ticks": ""
           },
           "bgcolor": "white",
           "radialaxis": {
            "gridcolor": "#EBF0F8",
            "linecolor": "#EBF0F8",
            "ticks": ""
           }
          },
          "scene": {
           "xaxis": {
            "backgroundcolor": "white",
            "gridcolor": "#DFE8F3",
            "gridwidth": 2,
            "linecolor": "#EBF0F8",
            "showbackground": true,
            "ticks": "",
            "zerolinecolor": "#EBF0F8"
           },
           "yaxis": {
            "backgroundcolor": "white",
            "gridcolor": "#DFE8F3",
            "gridwidth": 2,
            "linecolor": "#EBF0F8",
            "showbackground": true,
            "ticks": "",
            "zerolinecolor": "#EBF0F8"
           },
           "zaxis": {
            "backgroundcolor": "white",
            "gridcolor": "#DFE8F3",
            "gridwidth": 2,
            "linecolor": "#EBF0F8",
            "showbackground": true,
            "ticks": "",
            "zerolinecolor": "#EBF0F8"
           }
          },
          "shapedefaults": {
           "line": {
            "color": "#2a3f5f"
           }
          },
          "ternary": {
           "aaxis": {
            "gridcolor": "#DFE8F3",
            "linecolor": "#A2B1C6",
            "ticks": ""
           },
           "baxis": {
            "gridcolor": "#DFE8F3",
            "linecolor": "#A2B1C6",
            "ticks": ""
           },
           "bgcolor": "white",
           "caxis": {
            "gridcolor": "#DFE8F3",
            "linecolor": "#A2B1C6",
            "ticks": ""
           }
          },
          "title": {
           "x": 0.05
          },
          "xaxis": {
           "automargin": true,
           "gridcolor": "#EBF0F8",
           "linecolor": "#EBF0F8",
           "ticks": "",
           "title": {
            "standoff": 15
           },
           "zerolinecolor": "#EBF0F8",
           "zerolinewidth": 2
          },
          "yaxis": {
           "automargin": true,
           "gridcolor": "#EBF0F8",
           "linecolor": "#EBF0F8",
           "ticks": "",
           "title": {
            "standoff": 15
           },
           "zerolinecolor": "#EBF0F8",
           "zerolinewidth": 2
          }
         }
        },
        "updatemenus": [
         {
          "buttons": [
           {
            "args": [
             {
              "yaxis.type": "linear"
             }
            ],
            "label": "Linear y-scale",
            "method": "relayout"
           },
           {
            "args": [
             {
              "yaxis.type": "log"
             }
            ],
            "label": "Log y-scale",
            "method": "relayout"
           }
          ],
          "direction": "left",
          "pad": {
           "r": 0,
           "t": -10
          },
          "showactive": true,
          "type": "buttons",
          "x": 0.11,
          "xanchor": "left",
          "y": 1.1,
          "yanchor": "top"
         }
        ],
        "xaxis": {
         "anchor": "y",
         "domain": [
          0,
          0.94
         ],
         "title": {
          "text": "$\\text{Time in day}$"
         }
        },
        "yaxis": {
         "anchor": "x",
         "domain": [
          0,
          1
         ],
         "title": {
          "text": "$\\text{Tumour volume in cm}^3$"
         }
        },
        "yaxis2": {
         "anchor": "x",
         "overlaying": "y",
         "side": "right",
         "title": {
          "text": "$\\text{Amount administered in mg}$"
         }
        }
       }
      }
     },
     "metadata": {}
    }
   ],
   "source": [
    "#\n",
    "# Illustrate population PKPD simulation.\n",
    "#\n",
    "# Needs above defined dosing regimens, percentiles, times, simulation results,\n",
    "# and the population size:\n",
    "# [dosing_regimens, percentiles, times, population_results, N]\n",
    "#\n",
    "\n",
    "# import plotly.io\n",
    "import plotly.graph_objects as go\n",
    "from plotly.subplots import make_subplots\n",
    "\n",
    "\n",
    "# Create figure\n",
    "#fig = go.Figure()\n",
    "fig = make_subplots(specs=[[{\"secondary_y\": True}]])\n",
    "\n",
    "# Plot administered drug\n",
    "# Convert dosing regimen into time\n",
    "\n",
    "# Plot data LXF A677 Erlotinib\n",
    "# Plot 0th percentile to 100th precentile\n",
    "fig.add_trace(\n",
    "    go.Scatter(\n",
    "        x=np.hstack([times,times[::-1]]),\n",
    "        y=np.hstack([\n",
    "            population_results[0, 0, 0, :], \n",
    "            population_results[0, 0, 4, ::-1]]),\n",
    "        line=dict(width=1, color='rgb(51, 153, 255)'),\n",
    "        fill='toself',\n",
    "        legendgroup=\"LXF A677 Erlotinib\",\n",
    "        name=\"0th to 100th percentile\",\n",
    "        hoverinfo='name',\n",
    "        showlegend=False),\n",
    "    secondary_y=False)\n",
    "\n",
    "# Plot 25th percentile to 75th precentile\n",
    "fig.add_trace(\n",
    "    go.Scatter(\n",
    "        x=np.hstack([times,times[::-1]]),\n",
    "        y=np.hstack([\n",
    "            population_results[0, 0, 1, :], \n",
    "            population_results[0, 0, 3, ::-1]]),\n",
    "        line=dict(width=1, color='rgb(0, 128, 255)'),\n",
    "        fill='toself',\n",
    "        legendgroup=\"LXF A677 Erlotinib\",\n",
    "        name=\"25th to 75th percentile\",\n",
    "        hoverinfo='name',\n",
    "        showlegend=False),\n",
    "    secondary_y=False)\n",
    "\n",
    "# Plot Median\n",
    "fig.add_trace(\n",
    "    go.Scatter(\n",
    "        x=times,\n",
    "        y=population_results[0, 0, 2, :],\n",
    "        legendgroup=\"LXF A677 Erlotinib\",\n",
    "        name=\"LXF A677 Erlotinib\",\n",
    "        hovertemplate=\n",
    "                \"<b></b>Median<br>\" +\n",
    "                \"Population size: %d<br>\" % N +\n",
    "                \"Time: %{x:.02f} day<br>\" +\n",
    "                \"Tumour volume: %{y:.02f} cm^3<br>\" +\n",
    "                \"<extra></extra>\",\n",
    "        line=dict(color='rgb(0, 102, 204)')),\n",
    "    secondary_y=False)\n",
    "\n",
    "# Plot data VXF A431 Erlotinib\n",
    "# Plot 0th percentile to 100th precentile\n",
    "fig.add_trace(\n",
    "    go.Scatter(\n",
    "        x=np.hstack([times,times[::-1]]),\n",
    "        y=np.hstack([\n",
    "            population_results[1, 0, 0, :], \n",
    "            population_results[1, 0, 4, ::-1]]),\n",
    "        line=dict(width=1, color='rgb(255, 51, 51)'),\n",
    "        fill='toself',\n",
    "        legendgroup=\"VXF A431 Erlotinib\",\n",
    "        name=\"0th to 100th percentile\",\n",
    "        hoverinfo='name',\n",
    "        showlegend=False),\n",
    "    secondary_y=False)\n",
    "\n",
    "# Plot 25th percentile to 75th precentile\n",
    "fig.add_trace(\n",
    "    go.Scatter(\n",
    "        x=np.hstack([times,times[::-1]]),\n",
    "        y=np.hstack([\n",
    "            population_results[1, 0, 1, :], \n",
    "            population_results[1, 0, 3, ::-1]]),\n",
    "        line=dict(width=1, color='rgb(255, 0, 0)'),\n",
    "        fill='toself',\n",
    "        legendgroup=\"VXF A431 Erlotinib\",\n",
    "        name=\"25th to 75th percentile\",\n",
    "        hoverinfo='name',\n",
    "        showlegend=False),\n",
    "    secondary_y=False)\n",
    "\n",
    "# Plot Median\n",
    "fig.add_trace(\n",
    "    go.Scatter(\n",
    "        x=times,\n",
    "        y=population_results[1, 0, 2, :],\n",
    "        legendgroup=\"VXF A431 Erlotinib\",\n",
    "        name=\"VXF A431 Erlotinib\",\n",
    "        hovertemplate=\n",
    "                \"<b></b>Median<br>\" +\n",
    "                \"Population size: %d<br>\" % N +\n",
    "                \"Time: %{x:.02f} day<br>\" +\n",
    "                \"Tumour volume: %{y:.02f} cm^3<br>\" +\n",
    "                \"<extra></extra>\",\n",
    "        line=dict(color='rgb(204, 0, 0)')),\n",
    "    secondary_y=False)\n",
    "\n",
    "# Set X axis label and figure size\n",
    "fig.update_layout(\n",
    "    autosize=True,\n",
    "    xaxis_title=r'$\\text{Time in day}$',\n",
    "    template=\"plotly_white\")\n",
    "\n",
    "# Set Y axes labels\n",
    "fig.update_yaxes(title_text=r'$\\text{Tumour volume in cm}^3$', secondary_y=False)\n",
    "fig.update_yaxes(title_text=r'$\\text{Amount administered in mg}$', secondary_y=True)\n",
    "\n",
    "# Add switch between linear and log y-scale\n",
    "fig.update_layout(\n",
    "    updatemenus=[\n",
    "        dict(\n",
    "            type = \"buttons\",\n",
    "            direction = \"left\",\n",
    "            buttons=list([\n",
    "                dict(\n",
    "                    args=[{\"yaxis.type\": \"linear\"}],\n",
    "                    label=\"Linear y-scale\",\n",
    "                    method=\"relayout\"\n",
    "                ),\n",
    "                dict(\n",
    "                    args=[{\"yaxis.type\": \"log\"}],\n",
    "                    label=\"Log y-scale\",\n",
    "                    method=\"relayout\"\n",
    "                )\n",
    "            ]),\n",
    "            pad={\"r\": 0, \"t\": -10},\n",
    "            showactive=True,\n",
    "            x=0.11,\n",
    "            xanchor=\"left\",\n",
    "            y=1.1,\n",
    "            yanchor=\"top\"\n",
    "        ),\n",
    "    ]\n",
    ")\n",
    "\n",
    "# Show figure\n",
    "fig.show()\n"
   ]
  },
  {
   "cell_type": "code",
   "execution_count": 20,
   "metadata": {},
   "outputs": [
    {
     "output_type": "display_data",
     "data": {
      "application/vnd.plotly.v1+json": {
       "config": {
        "plotlyServerURL": "https://plot.ly"
       },
       "data": [
        {
         "hovertemplate": "Potency of Erlotinib: %{x:.02f} L/mg/day<br>Probability density in population: %{y:.02f}<br><extra></extra>",
         "mode": "lines",
         "name": "LXF A677",
         "type": "scatter",
         "x": [
          0.01,
          0.010781895093053743,
          0.011624926179761637,
          0.0125338734534684,
          0.01351389086849075,
          0.01457053536430442,
          0.015709798374755987,
          0.016938139800964532,
          0.018262524640547777,
          0.019690462480869513,
          0.021230050080244586,
          0.02289001727854743,
          0.024679776497548593,
          0.026609476111658224,
          0.02869005799170186,
          0.030933319548015776,
          0.03335198062466147,
          0.0359597556240661,
          0.03877143127105301,
          0.04180295045720368,
          0.04507150264096931,
          0.04859562131612258,
          0.052395289101219995,
          0.05649205104595761,
          0.06090913679689519,
          0.06567159231525833,
          0.07080642189369098,
          0.07634274127722798,
          0.08231194275672159,
          0.0887478731708417,
          0.09568702582596546,
          0.10316874742218837,
          0.11123546115877937,
          0.11993290728414135,
          0.12931040245425532,
          0.139421119370234,
          0.1503223882805986,
          0.16207602205787056,
          0.17474866669274255,
          0.1884121791932165,
          0.20314403503149034,
          0.21902776744891633,
          0.23615344110999875,
          0.2546181627911651,
          0.27452663200004224,
          0.2959917346473826,
          0.319135183137908,
          0.3440882065095418,
          0.37099229453428917,
          0.4
         ],
         "y": [
          0.05176318003516785,
          0.07352961154084209,
          0.10307393489938266,
          0.1425872527965301,
          0.19465152436067654,
          0.2622286736444307,
          0.3486163962314813,
          0.45736265637968027,
          0.5921324416186887,
          0.756523236006865,
          0.9538299368284737,
          1.1867654331940574,
          1.4571494240080078,
          1.7655846784843787,
          2.111146033005219,
          2.4911120431280147,
          2.9007714258491086,
          3.3333354252623466,
          3.7799824946002243,
          4.2300531183393755,
          4.671400631173694,
          5.090889502726038,
          5.475017204384693,
          5.810621239998102,
          6.0856210854696045,
          6.289737350515174,
          6.415128712112585,
          6.456891669832596,
          6.413378735282393,
          6.286306275677819,
          6.080642171630852,
          5.80428353861245,
          5.467553653892736,
          5.0825627498595765,
          4.6624877794171615,
          4.220830630042407,
          3.770712374040747,
          3.3242536053842993,
          2.892079002993303,
          2.4829696897649827,
          2.1036716068302046,
          1.7588537711920622,
          1.4511983799520018,
          1.181596231398791,
          0.9494162726393941,
          0.7528171542391191,
          0.5890709471198873,
          0.45487384185289026,
          0.3466247612241338,
          0.2606594446603914
         ]
        },
        {
         "hovertemplate": "Potency of Erlotinib: %{x:.02f} L/mg/day<br>Probability density in population: %{y:.02f}<br><extra></extra>",
         "mode": "lines",
         "name": "VXF A431",
         "type": "scatter",
         "x": [
          0.01,
          0.010781895093053743,
          0.011624926179761637,
          0.0125338734534684,
          0.01351389086849075,
          0.01457053536430442,
          0.015709798374755987,
          0.016938139800964532,
          0.018262524640547777,
          0.019690462480869513,
          0.021230050080244586,
          0.02289001727854743,
          0.024679776497548593,
          0.026609476111658224,
          0.02869005799170186,
          0.030933319548015776,
          0.03335198062466147,
          0.0359597556240661,
          0.03877143127105301,
          0.04180295045720368,
          0.04507150264096931,
          0.04859562131612258,
          0.052395289101219995,
          0.05649205104595761,
          0.06090913679689519,
          0.06567159231525833,
          0.07080642189369098,
          0.07634274127722798,
          0.08231194275672159,
          0.0887478731708417,
          0.09568702582596546,
          0.10316874742218837,
          0.11123546115877937,
          0.11993290728414135,
          0.12931040245425532,
          0.139421119370234,
          0.1503223882805986,
          0.16207602205787056,
          0.17474866669274255,
          0.1884121791932165,
          0.20314403503149034,
          0.21902776744891633,
          0.23615344110999875,
          0.2546181627911651,
          0.27452663200004224,
          0.2959917346473826,
          0.319135183137908,
          0.3440882065095418,
          0.37099229453428917,
          0.4
         ],
         "y": [
          4.073212691284754,
          5.0854170847210085,
          6.244874881167925,
          7.5427303060292035,
          8.960682552066073,
          10.470351909802229,
          12.033421787671701,
          13.602686055528821,
          15.124042335946504,
          16.539362588723268,
          17.790056459794116,
          18.821037449353216,
          19.584724451222712,
          20.044676271227193,
          20.178473182733196,
          19.979528342657503,
          19.45762528722649,
          18.63812043769761,
          17.55990112988129,
          16.272328128348136,
          14.831497205018149,
          13.296213182403777,
          11.724075847623862,
          10.168032915161794,
          8.673670935573579,
          7.277406164844878,
          6.005621550049455,
          4.874689775172474,
          3.891738743709732,
          3.0559626905989967,
          2.3602613343063865,
          1.7929980211368088,
          1.33969890666292,
          0.9845601866710204,
          0.711680409656865,
          0.5059824187818918,
          0.3538290746788211,
          0.24336565079381692,
          0.1646389999142972,
          0.10955036581564871,
          0.07169726995585232,
          0.04615290909755108,
          0.029221547827423526,
          0.018197638196584095,
          0.011146397082950638,
          0.006715242013379495,
          0.0039792067246437164,
          0.002319204307729691,
          0.0013295025984121666,
          0.0007496301512583699
         ]
        }
       ],
       "layout": {
        "autosize": true,
        "template": {
         "data": {
          "bar": [
           {
            "error_x": {
             "color": "#2a3f5f"
            },
            "error_y": {
             "color": "#2a3f5f"
            },
            "marker": {
             "line": {
              "color": "white",
              "width": 0.5
             }
            },
            "type": "bar"
           }
          ],
          "barpolar": [
           {
            "marker": {
             "line": {
              "color": "white",
              "width": 0.5
             }
            },
            "type": "barpolar"
           }
          ],
          "carpet": [
           {
            "aaxis": {
             "endlinecolor": "#2a3f5f",
             "gridcolor": "#C8D4E3",
             "linecolor": "#C8D4E3",
             "minorgridcolor": "#C8D4E3",
             "startlinecolor": "#2a3f5f"
            },
            "baxis": {
             "endlinecolor": "#2a3f5f",
             "gridcolor": "#C8D4E3",
             "linecolor": "#C8D4E3",
             "minorgridcolor": "#C8D4E3",
             "startlinecolor": "#2a3f5f"
            },
            "type": "carpet"
           }
          ],
          "choropleth": [
           {
            "colorbar": {
             "outlinewidth": 0,
             "ticks": ""
            },
            "type": "choropleth"
           }
          ],
          "contour": [
           {
            "colorbar": {
             "outlinewidth": 0,
             "ticks": ""
            },
            "colorscale": [
             [
              0,
              "#0d0887"
             ],
             [
              0.1111111111111111,
              "#46039f"
             ],
             [
              0.2222222222222222,
              "#7201a8"
             ],
             [
              0.3333333333333333,
              "#9c179e"
             ],
             [
              0.4444444444444444,
              "#bd3786"
             ],
             [
              0.5555555555555556,
              "#d8576b"
             ],
             [
              0.6666666666666666,
              "#ed7953"
             ],
             [
              0.7777777777777778,
              "#fb9f3a"
             ],
             [
              0.8888888888888888,
              "#fdca26"
             ],
             [
              1,
              "#f0f921"
             ]
            ],
            "type": "contour"
           }
          ],
          "contourcarpet": [
           {
            "colorbar": {
             "outlinewidth": 0,
             "ticks": ""
            },
            "type": "contourcarpet"
           }
          ],
          "heatmap": [
           {
            "colorbar": {
             "outlinewidth": 0,
             "ticks": ""
            },
            "colorscale": [
             [
              0,
              "#0d0887"
             ],
             [
              0.1111111111111111,
              "#46039f"
             ],
             [
              0.2222222222222222,
              "#7201a8"
             ],
             [
              0.3333333333333333,
              "#9c179e"
             ],
             [
              0.4444444444444444,
              "#bd3786"
             ],
             [
              0.5555555555555556,
              "#d8576b"
             ],
             [
              0.6666666666666666,
              "#ed7953"
             ],
             [
              0.7777777777777778,
              "#fb9f3a"
             ],
             [
              0.8888888888888888,
              "#fdca26"
             ],
             [
              1,
              "#f0f921"
             ]
            ],
            "type": "heatmap"
           }
          ],
          "heatmapgl": [
           {
            "colorbar": {
             "outlinewidth": 0,
             "ticks": ""
            },
            "colorscale": [
             [
              0,
              "#0d0887"
             ],
             [
              0.1111111111111111,
              "#46039f"
             ],
             [
              0.2222222222222222,
              "#7201a8"
             ],
             [
              0.3333333333333333,
              "#9c179e"
             ],
             [
              0.4444444444444444,
              "#bd3786"
             ],
             [
              0.5555555555555556,
              "#d8576b"
             ],
             [
              0.6666666666666666,
              "#ed7953"
             ],
             [
              0.7777777777777778,
              "#fb9f3a"
             ],
             [
              0.8888888888888888,
              "#fdca26"
             ],
             [
              1,
              "#f0f921"
             ]
            ],
            "type": "heatmapgl"
           }
          ],
          "histogram": [
           {
            "marker": {
             "colorbar": {
              "outlinewidth": 0,
              "ticks": ""
             }
            },
            "type": "histogram"
           }
          ],
          "histogram2d": [
           {
            "colorbar": {
             "outlinewidth": 0,
             "ticks": ""
            },
            "colorscale": [
             [
              0,
              "#0d0887"
             ],
             [
              0.1111111111111111,
              "#46039f"
             ],
             [
              0.2222222222222222,
              "#7201a8"
             ],
             [
              0.3333333333333333,
              "#9c179e"
             ],
             [
              0.4444444444444444,
              "#bd3786"
             ],
             [
              0.5555555555555556,
              "#d8576b"
             ],
             [
              0.6666666666666666,
              "#ed7953"
             ],
             [
              0.7777777777777778,
              "#fb9f3a"
             ],
             [
              0.8888888888888888,
              "#fdca26"
             ],
             [
              1,
              "#f0f921"
             ]
            ],
            "type": "histogram2d"
           }
          ],
          "histogram2dcontour": [
           {
            "colorbar": {
             "outlinewidth": 0,
             "ticks": ""
            },
            "colorscale": [
             [
              0,
              "#0d0887"
             ],
             [
              0.1111111111111111,
              "#46039f"
             ],
             [
              0.2222222222222222,
              "#7201a8"
             ],
             [
              0.3333333333333333,
              "#9c179e"
             ],
             [
              0.4444444444444444,
              "#bd3786"
             ],
             [
              0.5555555555555556,
              "#d8576b"
             ],
             [
              0.6666666666666666,
              "#ed7953"
             ],
             [
              0.7777777777777778,
              "#fb9f3a"
             ],
             [
              0.8888888888888888,
              "#fdca26"
             ],
             [
              1,
              "#f0f921"
             ]
            ],
            "type": "histogram2dcontour"
           }
          ],
          "mesh3d": [
           {
            "colorbar": {
             "outlinewidth": 0,
             "ticks": ""
            },
            "type": "mesh3d"
           }
          ],
          "parcoords": [
           {
            "line": {
             "colorbar": {
              "outlinewidth": 0,
              "ticks": ""
             }
            },
            "type": "parcoords"
           }
          ],
          "pie": [
           {
            "automargin": true,
            "type": "pie"
           }
          ],
          "scatter": [
           {
            "marker": {
             "colorbar": {
              "outlinewidth": 0,
              "ticks": ""
             }
            },
            "type": "scatter"
           }
          ],
          "scatter3d": [
           {
            "line": {
             "colorbar": {
              "outlinewidth": 0,
              "ticks": ""
             }
            },
            "marker": {
             "colorbar": {
              "outlinewidth": 0,
              "ticks": ""
             }
            },
            "type": "scatter3d"
           }
          ],
          "scattercarpet": [
           {
            "marker": {
             "colorbar": {
              "outlinewidth": 0,
              "ticks": ""
             }
            },
            "type": "scattercarpet"
           }
          ],
          "scattergeo": [
           {
            "marker": {
             "colorbar": {
              "outlinewidth": 0,
              "ticks": ""
             }
            },
            "type": "scattergeo"
           }
          ],
          "scattergl": [
           {
            "marker": {
             "colorbar": {
              "outlinewidth": 0,
              "ticks": ""
             }
            },
            "type": "scattergl"
           }
          ],
          "scattermapbox": [
           {
            "marker": {
             "colorbar": {
              "outlinewidth": 0,
              "ticks": ""
             }
            },
            "type": "scattermapbox"
           }
          ],
          "scatterpolar": [
           {
            "marker": {
             "colorbar": {
              "outlinewidth": 0,
              "ticks": ""
             }
            },
            "type": "scatterpolar"
           }
          ],
          "scatterpolargl": [
           {
            "marker": {
             "colorbar": {
              "outlinewidth": 0,
              "ticks": ""
             }
            },
            "type": "scatterpolargl"
           }
          ],
          "scatterternary": [
           {
            "marker": {
             "colorbar": {
              "outlinewidth": 0,
              "ticks": ""
             }
            },
            "type": "scatterternary"
           }
          ],
          "surface": [
           {
            "colorbar": {
             "outlinewidth": 0,
             "ticks": ""
            },
            "colorscale": [
             [
              0,
              "#0d0887"
             ],
             [
              0.1111111111111111,
              "#46039f"
             ],
             [
              0.2222222222222222,
              "#7201a8"
             ],
             [
              0.3333333333333333,
              "#9c179e"
             ],
             [
              0.4444444444444444,
              "#bd3786"
             ],
             [
              0.5555555555555556,
              "#d8576b"
             ],
             [
              0.6666666666666666,
              "#ed7953"
             ],
             [
              0.7777777777777778,
              "#fb9f3a"
             ],
             [
              0.8888888888888888,
              "#fdca26"
             ],
             [
              1,
              "#f0f921"
             ]
            ],
            "type": "surface"
           }
          ],
          "table": [
           {
            "cells": {
             "fill": {
              "color": "#EBF0F8"
             },
             "line": {
              "color": "white"
             }
            },
            "header": {
             "fill": {
              "color": "#C8D4E3"
             },
             "line": {
              "color": "white"
             }
            },
            "type": "table"
           }
          ]
         },
         "layout": {
          "annotationdefaults": {
           "arrowcolor": "#2a3f5f",
           "arrowhead": 0,
           "arrowwidth": 1
          },
          "coloraxis": {
           "colorbar": {
            "outlinewidth": 0,
            "ticks": ""
           }
          },
          "colorscale": {
           "diverging": [
            [
             0,
             "#8e0152"
            ],
            [
             0.1,
             "#c51b7d"
            ],
            [
             0.2,
             "#de77ae"
            ],
            [
             0.3,
             "#f1b6da"
            ],
            [
             0.4,
             "#fde0ef"
            ],
            [
             0.5,
             "#f7f7f7"
            ],
            [
             0.6,
             "#e6f5d0"
            ],
            [
             0.7,
             "#b8e186"
            ],
            [
             0.8,
             "#7fbc41"
            ],
            [
             0.9,
             "#4d9221"
            ],
            [
             1,
             "#276419"
            ]
           ],
           "sequential": [
            [
             0,
             "#0d0887"
            ],
            [
             0.1111111111111111,
             "#46039f"
            ],
            [
             0.2222222222222222,
             "#7201a8"
            ],
            [
             0.3333333333333333,
             "#9c179e"
            ],
            [
             0.4444444444444444,
             "#bd3786"
            ],
            [
             0.5555555555555556,
             "#d8576b"
            ],
            [
             0.6666666666666666,
             "#ed7953"
            ],
            [
             0.7777777777777778,
             "#fb9f3a"
            ],
            [
             0.8888888888888888,
             "#fdca26"
            ],
            [
             1,
             "#f0f921"
            ]
           ],
           "sequentialminus": [
            [
             0,
             "#0d0887"
            ],
            [
             0.1111111111111111,
             "#46039f"
            ],
            [
             0.2222222222222222,
             "#7201a8"
            ],
            [
             0.3333333333333333,
             "#9c179e"
            ],
            [
             0.4444444444444444,
             "#bd3786"
            ],
            [
             0.5555555555555556,
             "#d8576b"
            ],
            [
             0.6666666666666666,
             "#ed7953"
            ],
            [
             0.7777777777777778,
             "#fb9f3a"
            ],
            [
             0.8888888888888888,
             "#fdca26"
            ],
            [
             1,
             "#f0f921"
            ]
           ]
          },
          "colorway": [
           "#636efa",
           "#EF553B",
           "#00cc96",
           "#ab63fa",
           "#FFA15A",
           "#19d3f3",
           "#FF6692",
           "#B6E880",
           "#FF97FF",
           "#FECB52"
          ],
          "font": {
           "color": "#2a3f5f"
          },
          "geo": {
           "bgcolor": "white",
           "lakecolor": "white",
           "landcolor": "white",
           "showlakes": true,
           "showland": true,
           "subunitcolor": "#C8D4E3"
          },
          "hoverlabel": {
           "align": "left"
          },
          "hovermode": "closest",
          "mapbox": {
           "style": "light"
          },
          "paper_bgcolor": "white",
          "plot_bgcolor": "white",
          "polar": {
           "angularaxis": {
            "gridcolor": "#EBF0F8",
            "linecolor": "#EBF0F8",
            "ticks": ""
           },
           "bgcolor": "white",
           "radialaxis": {
            "gridcolor": "#EBF0F8",
            "linecolor": "#EBF0F8",
            "ticks": ""
           }
          },
          "scene": {
           "xaxis": {
            "backgroundcolor": "white",
            "gridcolor": "#DFE8F3",
            "gridwidth": 2,
            "linecolor": "#EBF0F8",
            "showbackground": true,
            "ticks": "",
            "zerolinecolor": "#EBF0F8"
           },
           "yaxis": {
            "backgroundcolor": "white",
            "gridcolor": "#DFE8F3",
            "gridwidth": 2,
            "linecolor": "#EBF0F8",
            "showbackground": true,
            "ticks": "",
            "zerolinecolor": "#EBF0F8"
           },
           "zaxis": {
            "backgroundcolor": "white",
            "gridcolor": "#DFE8F3",
            "gridwidth": 2,
            "linecolor": "#EBF0F8",
            "showbackground": true,
            "ticks": "",
            "zerolinecolor": "#EBF0F8"
           }
          },
          "shapedefaults": {
           "line": {
            "color": "#2a3f5f"
           }
          },
          "ternary": {
           "aaxis": {
            "gridcolor": "#DFE8F3",
            "linecolor": "#A2B1C6",
            "ticks": ""
           },
           "baxis": {
            "gridcolor": "#DFE8F3",
            "linecolor": "#A2B1C6",
            "ticks": ""
           },
           "bgcolor": "white",
           "caxis": {
            "gridcolor": "#DFE8F3",
            "linecolor": "#A2B1C6",
            "ticks": ""
           }
          },
          "title": {
           "x": 0.05
          },
          "xaxis": {
           "automargin": true,
           "gridcolor": "#EBF0F8",
           "linecolor": "#EBF0F8",
           "ticks": "",
           "title": {
            "standoff": 15
           },
           "zerolinecolor": "#EBF0F8",
           "zerolinewidth": 2
          },
          "yaxis": {
           "automargin": true,
           "gridcolor": "#EBF0F8",
           "linecolor": "#EBF0F8",
           "ticks": "",
           "title": {
            "standoff": 15
           },
           "zerolinecolor": "#EBF0F8",
           "zerolinewidth": 2
          }
         }
        },
        "updatemenus": [
         {
          "buttons": [
           {
            "args": [
             {
              "xaxis.type": "linear"
             }
            ],
            "label": "Linear x-scale",
            "method": "relayout"
           },
           {
            "args": [
             {
              "xaxis.type": "log"
             }
            ],
            "label": "Log x-scale",
            "method": "relayout"
           }
          ],
          "direction": "left",
          "pad": {
           "r": 0,
           "t": -10
          },
          "showactive": true,
          "type": "buttons",
          "x": 0.11,
          "xanchor": "left",
          "y": 1.1,
          "yanchor": "top"
         }
        ],
        "xaxis": {
         "title": {
          "text": "$\\text{Erlotinib potency }\\kappa \\text{ in L/mg/day}$"
         }
        },
        "yaxis": {
         "title": {
          "text": "$\\text{Probability density in population}$"
         }
        }
       }
      }
     },
     "metadata": {}
    }
   ],
   "source": [
    "#\n",
    "# Illustration of Erlotinib's potency population distribution for LXF A677 mice assuming estimate for population mean and standard deviation in [1] were exact.\n",
    "#\n",
    "\n",
    "import numpy as np\n",
    "import plotly.graph_objects as go\n",
    "from scipy.stats import lognorm\n",
    "\n",
    "\n",
    "# Estimates for mean and s.d. kappa from Table 1, LXF A677\n",
    "mean = 0.117  # in \"log(L/mg/day)\"\n",
    "sd = 0.654  # in \"log(L/mg/day)\"\n",
    "\n",
    "# Get 1st and 99th percentile\n",
    "start = -2  \n",
    "end = np.log10(0.4)\n",
    "\n",
    "# Trace out probability density\n",
    "lxf_kappa = np.logspace(start=start, stop=end)\n",
    "lxf_pdf = lognorm.pdf(lxf_kappa, scale=mean, s=sd)\n",
    "\n",
    "# Estimates for mean and s.d. kappa from Table 1, LXF A677\n",
    "mean = 0.0401  # in \"log(L/mg/day)\"\n",
    "sd = 0.585  # in \"log(L/mg/day)\"\n",
    "\n",
    "# Get 1st and 99th percentile\n",
    "start = -2  \n",
    "end = np.log10(0.4)\n",
    "\n",
    "# Trace out probability density\n",
    "vxf_kappa = np.logspace(start=start, stop=end)\n",
    "vxf_pdf = lognorm.pdf(vxf_kappa, scale=mean, s=sd)  # log(x/mean) = log(x) - log(mean)\n",
    "\n",
    "# Create figure\n",
    "fig = go.Figure()\n",
    "\n",
    "# Plot dsitribution of kappa for LXF A677\n",
    "fig.add_trace(go.Scatter(\n",
    "    x=lxf_kappa,\n",
    "    y=lxf_pdf,\n",
    "    name='LXF A677',\n",
    "    hovertemplate=\n",
    "        \"Potency of Erlotinib: %{x:.02f} L/mg/day<br>\" +\n",
    "        \"Probability density in population: %{y:.02f}<br>\" +\n",
    "        \"<extra></extra>\",\n",
    "    mode=\"lines\",\n",
    "))\n",
    "\n",
    "# Plot distribution of kappa for VXF A431\n",
    "fig.add_trace(go.Scatter(\n",
    "    x=vxf_kappa,\n",
    "    y=vxf_pdf,\n",
    "    name='VXF A431',\n",
    "    hovertemplate=\n",
    "        \"Potency of Erlotinib: %{x:.02f} L/mg/day<br>\" +\n",
    "        \"Probability density in population: %{y:.02f}<br>\" +\n",
    "        \"<extra></extra>\",\n",
    "    mode=\"lines\",\n",
    "))\n",
    "\n",
    "# Set X, Y axis and figure size\n",
    "fig.update_layout(\n",
    "    autosize=True,\n",
    "    xaxis_title=r'$\\text{Erlotinib potency }\\kappa \\text{ in L/mg/day}$',\n",
    "    yaxis_title=r'$\\text{Probability density in population}$',\n",
    "    template=\"plotly_white\")\n",
    "\n",
    "# Add switch between linear and log y-scale\n",
    "fig.update_layout(\n",
    "    updatemenus=[\n",
    "        dict(\n",
    "            type = \"buttons\",\n",
    "            direction = \"left\",\n",
    "            buttons=list([\n",
    "                dict(\n",
    "                    args=[{\"xaxis.type\": \"linear\"}],\n",
    "                    label=\"Linear x-scale\",\n",
    "                    method=\"relayout\"\n",
    "                ),\n",
    "                dict(\n",
    "                    args=[{\"xaxis.type\": \"log\"}],\n",
    "                    label=\"Log x-scale\",\n",
    "                    method=\"relayout\"\n",
    "                )\n",
    "            ]),\n",
    "            pad={\"r\": 0, \"t\": -10},\n",
    "            showactive=True,\n",
    "            x=0.11,\n",
    "            xanchor=\"left\",\n",
    "            y=1.1,\n",
    "            yanchor=\"top\"\n",
    "        ),\n",
    "    ]\n",
    ")\n",
    "\n",
    "# Show figure\n",
    "fig.show()"
   ]
  },
  {
   "cell_type": "code",
   "execution_count": 6,
   "metadata": {},
   "outputs": [
    {
     "output_type": "execute_result",
     "data": {
      "text/plain": "0.20876826722338207"
     },
     "metadata": {},
     "execution_count": 6
    }
   ],
   "source": [
    "# Check whether analytical expressions exist for lognormal with uncertain mean and variance\n",
    "# Plot population dose-response curve predictions (including all uncertainty of possible)"
   ]
  },
  {
   "cell_type": "markdown",
   "metadata": {},
   "source": [
    "## Bibliography\n",
    "\n",
    "- <a name=\"ref1\"> [1] </a> Eigenmann et. al., Combining Nonclinical Experiments with Translational PKPD Modeling to Differentiate Erlotinib and Gefitinib, Mol Cancer Ther (2016)"
   ]
  },
  {
   "cell_type": "code",
   "execution_count": null,
   "metadata": {},
   "outputs": [],
   "source": []
  }
 ],
 "metadata": {
  "language_info": {
   "codemirror_mode": {
    "name": "ipython",
    "version": 3
   },
   "file_extension": ".py",
   "mimetype": "text/x-python",
   "name": "python",
   "nbconvert_exporter": "python",
   "pygments_lexer": "ipython3",
   "version": "3.7.5-final"
  },
  "orig_nbformat": 2,
  "kernelspec": {
   "name": "python37564bitvenvvenv6a1cf9e436c848d3930f390a42386651",
   "display_name": "Python 3.7.5 64-bit ('venv': venv)"
  }
 },
 "nbformat": 4,
 "nbformat_minor": 2
}