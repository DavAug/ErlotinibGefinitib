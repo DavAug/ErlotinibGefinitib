{
 "cells": [
  {
   "cell_type": "markdown",
   "metadata": {},
   "source": [
    "# Exploration of Published Models\n",
    "\n",
    "(discussion)"
   ]
  },
  {
   "cell_type": "markdown",
   "metadata": {},
   "source": [
    "## Structural model\n",
    "\n",
    "The structural model reported in [1] is a system of ordindary differential and algebraic equations. It combines a mechanistic description of the pharmacokinetics (PK) and the pharacodynamics (PD) of the compound, as well as an empirical model of the tumour growth.\n",
    "\n",
    "The distribution of the compound in the mouse system after an oral dose is modelled by a one-compartment PK model with indirect drug administration\n",
    "\n",
    "\\begin{align*}\n",
    "\\frac{\\text{d}A_d}{\\text{d}t} = r_d(t) - k_{a}A_d,\\qquad \\frac{\\text{d}A_c}{\\text{d}t} = k_{a} A_d - k_e A_c,\\qquad C_c = \\frac{A_c}{V_c}.\n",
    "\\end{align*}\n",
    "\n",
    "Here, $A_d$ is the amount of the compound in the dose compartment, and $A_c$ the amount in the central compartment. The dose compartment may be interpreted as the gut compartment. As the drug is orally administered the uptake into the dose compartment may be modelled by a time dependent dose rate $r_d$. The drug diffuses at a constant rate $k_a$ (absorption rate) into the central compartment. The central compartment models the drug circulating in the plasma. The clearance of the drug through the liver is modelled with a linear elimination rate $k_e$ from the central compartment. The concentration of the compound in the central compartment $C_c$ can be derived by normalising the amount of the drug by its effective volume of distribution in the central compartment $V_c$.\n",
    "\n",
    "The tumour growth is modelled by an empirical model in [1]. In absence of the drug the tumour growth is modelled by an exponential growth phase for small tumour volumes, and by a linear growth phase for large tumour volumes. The growth inhibiting effects of the compound are assumed to be proportional to its concentration in central compartment and the volume of the tumour\n",
    "\n",
    "\\begin{align*}\n",
    "\\frac{\\text{d}V^s_T}{\\text{d}t} = \\frac{2\\lambda _0\\lambda _1 V^s_T}{2\\lambda _0 V^s_T + \\lambda _1} - \\kappa C_cV^s_T.\n",
    "\\end{align*}\n",
    "\n",
    "Here, $V^s_T$ is the predicted tumour volume by the structural model, $\\lambda _0$ is the exponential growth rate, $\\lambda _1$ is the linear growth rate, and $\\kappa $ is the growth inhibiting potency of the compound.\n",
    "\n",
    "In [1], the dose and central compartment were assumed to contain no amount of the compound initially, $A_d(t=0)=0$ and $A_c(t=0)=0$. As the dose rate $r_t$ is determined by the dosing regimen, this leaves the structural model with seven parameters that determine the PKPD of the drug\n",
    "\n",
    "\\begin{align*}\n",
    "\\psi = (k_a, k_e, V_c, V_0, \\lambda _0, \\lambda _1, \\kappa ),\n",
    "\\end{align*}\n",
    "\n",
    "where $V_0$ is the initial tumour volume, $V^s_T(t=0)=V_0$."
   ]
  },
  {
   "cell_type": "markdown",
   "metadata": {},
   "source": [
    "We have implemented the structural model in a separate python [module](https://github.com/DavAug/ErlotinibGefitinib/blob/master/pkpd/model.py), such that its myokit representation can be created with `pkpd.model.create_pktgi_model()`."
   ]
  },
  {
   "cell_type": "code",
   "execution_count": 1,
   "metadata": {
    "tags": []
   },
   "outputs": [
    {
     "output_type": "stream",
     "name": "stdout",
     "text": "[[model]]\n# Initial values\ncentral.amount   = 0\ncentral.volume_t = 0\ndepot.amount     = 0\n\n[central]\ndot(amount) = -k_e * amount + depot.k_a * depot.amount\n    in [mg]\nconc = amount / volume_c\n    in [mg/L]\nk_e = 0\n    in [1/day]\nkappa = 0\n    in [L/mg/day]\nlambda_0 = 0\n    in [1/day]\nlambda_1 = 1\n    in [cm^3/day]\ntime = 0 bind time\n    in [day]\nvolume_c = 1\n    in [L]\ndot(volume_t) = 2 * (lambda_0 * (lambda_1 * volume_t)) / (2 * (lambda_0 * volume_t) + lambda_1) - kappa * (conc * volume_t)\n    in [cm^3]\n\n[depot]\ndot(amount) = -k_a * amount + dose_rate * regimen\n    in [mg]\ndose_rate = 0\n    in [mg/day]\nk_a = 0\n    in [1/day]\nregimen = 0 bind pace\n    in [1]\n\n\n"
    }
   ],
   "source": [
    "#\n",
    "# Create structural model.\n",
    "#\n",
    "\n",
    "import pkpd.model as m\n",
    "\n",
    "\n",
    "# Create model\n",
    "model = m.create_pktgi_model()\n",
    "\n",
    "# Set route of administration to 'oral dosing'\n",
    "model.set_roa(dose_comp='central', indirect=True)\n",
    "\n",
    "# Show model\n",
    "print(model.code())"
   ]
  },
  {
   "cell_type": "markdown",
   "metadata": {},
   "source": [
    "## Error model\n",
    "\n",
    "The expected random deviations of the observed tumour volumes from the structural model predictions $V^s_T$ are modelled in [1] by a combined error model. A combined error model assumes that the deviations $\\varepsilon $ of the observable tumour volume $V_T$ from the structural model predictions $V^s_T$ may be modelled by a base-level Gaussian noise, and a Gaussian noise contribution whose standard deviation grows relative to the structural model predictions\n",
    "\n",
    "\\begin{equation*}\n",
    "    \\varepsilon = \\left(\\sigma _{\\text{base}} + \\sigma _{\\text{rel}} V^s_T\\right) \\varepsilon _n.\n",
    "\\end{equation*}\n",
    "\n",
    "Here, $\\sigma _{\\text{base}}$ is the standard deviation of the base-level noise, and $\\sigma _{\\text{rel}}$ is the standard deviation relative to $V^s_T$. $\\varepsilon _n$ is a standard Gaussian random variable $\\mathcal{N}(0, 1)$. As a result, the model predictions of the tumour volume are Gaussian-distributed, centered at the structural model predictions $V^s_T = V^s_T(t, r_d; \\psi)$ and a standard deviation $\\sigma _{\\text{tot}} = \\sigma _{\\text{base}} + \\sigma _{\\text{rel}} V^s_T$\n",
    "\n",
    "\\begin{equation*}\n",
    "    V_T \\sim \\mathcal{N}(V^s_T, \\sigma ^2_{\\text{tot}}).\n",
    "\\end{equation*}\n",
    "\n",
    "The error model introduces two further parameters\n",
    "\n",
    "\\begin{equation*}\n",
    "    \\theta _V = (\\sigma _{\\text{base}}, \\sigma _{\\text{rel}}),\n",
    "\\end{equation*}\n",
    "\n",
    "such that the PKPD model has nine parameters ($\\psi$, $\\theta _V$)."
   ]
  },
  {
   "cell_type": "markdown",
   "metadata": {},
   "source": [
    "## Population model\n",
    "\n",
    "In [1] it is assumed that some of the parameters $\\psi $ can vary between individuals, while the error model parameters $\\theta _V$ remain the same. In particular, all $\\psi $ except the absorption rate $k_a$ are assumed to be log-normally distributed in the mouse population\n",
    "\n",
    "\\begin{equation*}\n",
    "    \\log \\psi _i \\sim \\mathcal{N} (\\mu _i, \\sigma ^2_i), \\quad \\psi _i \\neq k_a,\n",
    "\\end{equation*}\n",
    "\n",
    "where $\\mu _i $ is the mean, and $\\sigma _i$ the standard deviation of $\\log \\psi _i$ in the population. As a result, for each $\\psi _i$ except the absorption rate, the constant parameter is replaced by a distribution parameterised by the population mean and variance. Defining the population parameters as \n",
    "\n",
    "\\begin{equation*}\n",
    "    \\theta _{\\psi } = (k_a, \\mu _{k_e}, \\sigma _{k_e}, \\mu _{V_c}, \\sigma _{V_c}, \\mu _{V_0}, \\sigma _{V_0}, \\mu _{\\lambda _0}, \\sigma _{\\lambda _0}, \\mu _{\\lambda _1}, \\sigma _{\\lambda _1}, \\mu _{\\kappa}, \\sigma _{\\kappa})\n",
    "\\end{equation*}\n",
    "\n",
    "The full population tumour growth inhibition PKPD of Erlotinib and Gefitinib is parameterised by 15 parameters each, $(\\theta _{\\psi}, \\theta _V)$."
   ]
  },
  {
   "cell_type": "markdown",
   "metadata": {},
   "source": [
    "## Parameter estimates"
   ]
  },
  {
   "cell_type": "markdown",
   "metadata": {},
   "source": [
    "The in [1] inferred model parameters $(\\theta _{\\psi}, \\theta _V)$ are documented in Table 1, p. 3117 [1]. Note that the \"Estimate\" for a parameter $\\psi _i$ corresponds in our notation to the exponential of the population mean, $\\exp \\mu _i$, while the interindividual variability \"Var\" is equivalent to the population standard deviation $\\sigma _i$. The provided relative standard error (RSE) is the standard deviation of the estimates relative to their value. For later convenience we will translate the RSE values back into absolute standard deviations. For more details on the Monolix's conventions please have a look at its [documentation](http://monolix.lixoft.com/data-and-models/individualdistribution/)."
   ]
  },
  {
   "cell_type": "code",
   "execution_count": 32,
   "metadata": {
    "tags": []
   },
   "outputs": [
    {
     "output_type": "stream",
     "name": "stdout",
     "text": "Erlotinib LXF A677\n"
    },
    {
     "output_type": "display_data",
     "data": {
      "text/plain": "                    k_a in 1/day  pop. mean V_c in L  sigma V_c in \"log L\"  \\\nestimate                    55.0             0.12700                 0.251   \nstandard deviation           NaN             0.01905                   NaN   \n\n                    pop. mean k_e in 1/day  sigma k_e in \"log 1/day\"  \\\nestimate                             7.560                   0.33200   \nstandard deviation                   0.756                   0.12948   \n\n                    pop. mean V_0 in mm^3  sigma V_0 in \"log mm^3\"  \\\nestimate                            122.0                   0.3680   \nstandard deviation                    6.1                   0.0061   \n\n                    pop. mean lambda_0 in 1/day  \\\nestimate                               0.097100   \nstandard deviation                     0.007768   \n\n                    sigma lambda_0 in \"log 1/day\"  \\\nestimate                                  0.45600   \nstandard deviation                        0.05928   \n\n                    pop. mean lambda_1 in mm^3/day  \\\nestimate                                    127.00   \nstandard deviation                           16.51   \n\n                    pop. mean kappa in L/µg/day  \\\nestimate                               0.000117   \nstandard deviation                     0.000020   \n\n                    sigma kappa in \"log L/µg/day\"  \\\nestimate                                  0.65400   \nstandard deviation                        0.13734   \n\n                    sigma lambda_1 in \"log mm^3/day\"  sigma base in mm^3  \\\nestimate                                        0.71              14.100   \nstandard deviation                               NaN               1.269   \n\n                    sigma rel in dimless  \nestimate                        0.090700  \nstandard deviation              0.005442  ",
      "text/html": "<div>\n<style scoped>\n    .dataframe tbody tr th:only-of-type {\n        vertical-align: middle;\n    }\n\n    .dataframe tbody tr th {\n        vertical-align: top;\n    }\n\n    .dataframe thead th {\n        text-align: right;\n    }\n</style>\n<table border=\"1\" class=\"dataframe\">\n  <thead>\n    <tr style=\"text-align: right;\">\n      <th></th>\n      <th>k_a in 1/day</th>\n      <th>pop. mean V_c in L</th>\n      <th>sigma V_c in \"log L\"</th>\n      <th>pop. mean k_e in 1/day</th>\n      <th>sigma k_e in \"log 1/day\"</th>\n      <th>pop. mean V_0 in mm^3</th>\n      <th>sigma V_0 in \"log mm^3\"</th>\n      <th>pop. mean lambda_0 in 1/day</th>\n      <th>sigma lambda_0 in \"log 1/day\"</th>\n      <th>pop. mean lambda_1 in mm^3/day</th>\n      <th>pop. mean kappa in L/µg/day</th>\n      <th>sigma kappa in \"log L/µg/day\"</th>\n      <th>sigma lambda_1 in \"log mm^3/day\"</th>\n      <th>sigma base in mm^3</th>\n      <th>sigma rel in dimless</th>\n    </tr>\n  </thead>\n  <tbody>\n    <tr>\n      <th>estimate</th>\n      <td>55.0</td>\n      <td>0.12700</td>\n      <td>0.251</td>\n      <td>7.560</td>\n      <td>0.33200</td>\n      <td>122.0</td>\n      <td>0.3680</td>\n      <td>0.097100</td>\n      <td>0.45600</td>\n      <td>127.00</td>\n      <td>0.000117</td>\n      <td>0.65400</td>\n      <td>0.71</td>\n      <td>14.100</td>\n      <td>0.090700</td>\n    </tr>\n    <tr>\n      <th>standard deviation</th>\n      <td>NaN</td>\n      <td>0.01905</td>\n      <td>NaN</td>\n      <td>0.756</td>\n      <td>0.12948</td>\n      <td>6.1</td>\n      <td>0.0061</td>\n      <td>0.007768</td>\n      <td>0.05928</td>\n      <td>16.51</td>\n      <td>0.000020</td>\n      <td>0.13734</td>\n      <td>NaN</td>\n      <td>1.269</td>\n      <td>0.005442</td>\n    </tr>\n  </tbody>\n</table>\n</div>"
     },
     "metadata": {}
    },
    {
     "output_type": "stream",
     "name": "stdout",
     "text": "Erlotinib VXF A341\n"
    },
    {
     "output_type": "display_data",
     "data": {
      "text/plain": "                    k_a in 1/day  pop. mean V_c in L  sigma V_c in \"log L\"  \\\nestimate                    55.0              0.1200                0.1900   \nstandard deviation           NaN              0.0072                0.0437   \n\n                    pop. mean k_e in 1/day  sigma k_e in \"log 1/day\"  \\\nestimate                            7.8500                    0.2350   \nstandard deviation                  0.5495                    0.0611   \n\n                    pop. mean V_0 in mm^3  sigma V_0 in \"log mm^3\"  \\\nestimate                           114.00                  0.42300   \nstandard deviation                   6.84                  0.04653   \n\n                    pop. mean lambda_0 in 1/day  \\\nestimate                                0.02900   \nstandard deviation                      0.00174   \n\n                    sigma lambda_0 in \"log 1/day\"  \\\nestimate                                  0.32100   \nstandard deviation                        0.04494   \n\n                    pop. mean lambda_1 in mm^3/day  \\\nestimate                                    298.00   \nstandard deviation                          110.26   \n\n                    pop. mean kappa in L/µg/day  \\\nestimate                               0.000040   \nstandard deviation                     0.000006   \n\n                    sigma kappa in \"log L/µg/day\"  \\\nestimate                                  0.58500   \nstandard deviation                        0.12285   \n\n                    sigma lambda_1 in \"log mm^3/day\"  sigma base in mm^3  \\\nestimate                                        0.68               4.320   \nstandard deviation                               NaN               1.296   \n\n                    sigma rel in dimless  \nestimate                         0.13900  \nstandard deviation               0.00695  ",
      "text/html": "<div>\n<style scoped>\n    .dataframe tbody tr th:only-of-type {\n        vertical-align: middle;\n    }\n\n    .dataframe tbody tr th {\n        vertical-align: top;\n    }\n\n    .dataframe thead th {\n        text-align: right;\n    }\n</style>\n<table border=\"1\" class=\"dataframe\">\n  <thead>\n    <tr style=\"text-align: right;\">\n      <th></th>\n      <th>k_a in 1/day</th>\n      <th>pop. mean V_c in L</th>\n      <th>sigma V_c in \"log L\"</th>\n      <th>pop. mean k_e in 1/day</th>\n      <th>sigma k_e in \"log 1/day\"</th>\n      <th>pop. mean V_0 in mm^3</th>\n      <th>sigma V_0 in \"log mm^3\"</th>\n      <th>pop. mean lambda_0 in 1/day</th>\n      <th>sigma lambda_0 in \"log 1/day\"</th>\n      <th>pop. mean lambda_1 in mm^3/day</th>\n      <th>pop. mean kappa in L/µg/day</th>\n      <th>sigma kappa in \"log L/µg/day\"</th>\n      <th>sigma lambda_1 in \"log mm^3/day\"</th>\n      <th>sigma base in mm^3</th>\n      <th>sigma rel in dimless</th>\n    </tr>\n  </thead>\n  <tbody>\n    <tr>\n      <th>estimate</th>\n      <td>55.0</td>\n      <td>0.1200</td>\n      <td>0.1900</td>\n      <td>7.8500</td>\n      <td>0.2350</td>\n      <td>114.00</td>\n      <td>0.42300</td>\n      <td>0.02900</td>\n      <td>0.32100</td>\n      <td>298.00</td>\n      <td>0.000040</td>\n      <td>0.58500</td>\n      <td>0.68</td>\n      <td>4.320</td>\n      <td>0.13900</td>\n    </tr>\n    <tr>\n      <th>standard deviation</th>\n      <td>NaN</td>\n      <td>0.0072</td>\n      <td>0.0437</td>\n      <td>0.5495</td>\n      <td>0.0611</td>\n      <td>6.84</td>\n      <td>0.04653</td>\n      <td>0.00174</td>\n      <td>0.04494</td>\n      <td>110.26</td>\n      <td>0.000006</td>\n      <td>0.12285</td>\n      <td>NaN</td>\n      <td>1.296</td>\n      <td>0.00695</td>\n    </tr>\n  </tbody>\n</table>\n</div>"
     },
     "metadata": {}
    }
   ],
   "source": [
    "#\n",
    "# Estimates according to Eigenmann et. al. [1] for the Erlotinib and Gefitinib PKPD in LXF A677 and VXF A431.\n",
    "#\n",
    "\n",
    "import pandas as pd\n",
    "\n",
    "\n",
    "# Create pandas dataframe with estimate, standard deviation entries LXF A677\n",
    "lxf_erlotinib_estimates = pd.DataFrame(\n",
    "    data={\n",
    "        'k_a in 1/day': [55.0, None],\n",
    "        'pop. mean V_c in L': [0.127, 0.127 * 0.15],\n",
    "        'sigma V_c in \"log L\"': [0.251, None],\n",
    "        'pop. mean k_e in 1/day': [7.56, 7.56 * 0.1],\n",
    "        'sigma k_e in \"log 1/day\"': [0.332, 0.332 * 0.39],\n",
    "        'pop. mean V_0 in mm^3': [122, 122 * 0.05],\n",
    "        'sigma V_0 in \"log mm^3\"': [0.368, 0.122 * 0.05],\n",
    "        'pop. mean lambda_0 in 1/day': [0.0971, 0.0971 * 0.08],\n",
    "        'sigma lambda_0 in \"log 1/day\"': [0.456, 0.456 * 0.13],\n",
    "        'pop. mean lambda_1 in mm^3/day': [127, 127 * 0.13],\n",
    "        'pop. mean kappa in L/µg/day': [0.000117, 0.000117 * 0.17],\n",
    "        'sigma kappa in \"log L/µg/day\"': [0.654, 0.654 * 0.21],\n",
    "        'sigma lambda_1 in \"log mm^3/day\"': [0.710, None],\n",
    "        'sigma base in mm^3': [14.1, 14.1 * 0.09],\n",
    "        'sigma rel in dimless': [0.0907, 0.0907 * 0.06]},\n",
    "    index=['estimate', 'standard deviation'])\n",
    "\n",
    "# Show dataframe\n",
    "print('Erlotinib LXF A677')\n",
    "display(lxf_erlotinib_estimates)\n",
    "\n",
    "# Create pandas dataframe with estimate, standard deviation entries VXF A341\n",
    "vxf_erlotinib_estimates = pd.DataFrame(\n",
    "    data={\n",
    "        'k_a in 1/day': [55.0, None],\n",
    "        'pop. mean V_c in L': [0.120, 0.120 * 0.06],\n",
    "        'sigma V_c in \"log L\"': [0.190, 0.190 * 0.23],\n",
    "        'pop. mean k_e in 1/day': [7.85, 7.85 * 0.07],\n",
    "        'sigma k_e in \"log 1/day\"': [0.235, 0.235 * 0.26],\n",
    "        'pop. mean V_0 in mm^3': [114, 114 * 0.06],\n",
    "        'sigma V_0 in \"log mm^3\"': [0.423, 0.423 * 0.11],\n",
    "        'pop. mean lambda_0 in 1/day': [0.0290, 0.0290 * 0.06],\n",
    "        'sigma lambda_0 in \"log 1/day\"': [0.321, 0.321 * 0.14],\n",
    "        'pop. mean lambda_1 in mm^3/day': [298, 298 * 0.37],\n",
    "        'pop. mean kappa in L/µg/day': [0.0000401, 0.0000401 * 0.16],\n",
    "        'sigma kappa in \"log L/µg/day\"': [0.585, 0.585 * 0.21],\n",
    "        'sigma lambda_1 in \"log mm^3/day\"': [0.68, None],\n",
    "        'sigma base in mm^3': [4.32, 4.32 * 0.3],\n",
    "        'sigma rel in dimless': [0.139, 0.139 * 0.05]},\n",
    "    index=['estimate', 'standard deviation'])\n",
    "\n",
    "# Show dataframe\n",
    "print('Erlotinib VXF A341')\n",
    "display(vxf_erlotinib_estimates)"
   ]
  },
  {
   "cell_type": "markdown",
   "metadata": {},
   "source": [
    "Note that the population mean of the parameters $\\psi$ is not of the same scale as the standard deviation of the log-normal distribution $\\sigma _i$. To illustrate this point, we plotted the inferred distribution of Erlotinib's potency across indiviudal mice for LXF A677 and VXF A431 below. The population means reported in [1] were 0.117 L/mg/day and 0.0401 L/mg/day with log-normal standard deviations of 0.654 and 0.585."
   ]
  },
  {
   "cell_type": "code",
   "execution_count": 20,
   "metadata": {},
   "outputs": [
    {
     "output_type": "display_data",
     "data": {
      "application/vnd.plotly.v1+json": {
       "config": {
        "plotlyServerURL": "https://plot.ly"
       },
       "data": [
        {
         "hovertemplate": "Potency of Erlotinib: %{x:.02f} L/mg/day<br>Probability density in population: %{y:.02f}<br><extra></extra>",
         "mode": "lines",
         "name": "LXF A677",
         "type": "scatter",
         "x": [
          0.01,
          0.010781895093053743,
          0.011624926179761637,
          0.0125338734534684,
          0.01351389086849075,
          0.01457053536430442,
          0.015709798374755987,
          0.016938139800964532,
          0.018262524640547777,
          0.019690462480869513,
          0.021230050080244586,
          0.02289001727854743,
          0.024679776497548593,
          0.026609476111658224,
          0.02869005799170186,
          0.030933319548015776,
          0.03335198062466147,
          0.0359597556240661,
          0.03877143127105301,
          0.04180295045720368,
          0.04507150264096931,
          0.04859562131612258,
          0.052395289101219995,
          0.05649205104595761,
          0.06090913679689519,
          0.06567159231525833,
          0.07080642189369098,
          0.07634274127722798,
          0.08231194275672159,
          0.0887478731708417,
          0.09568702582596546,
          0.10316874742218837,
          0.11123546115877937,
          0.11993290728414135,
          0.12931040245425532,
          0.139421119370234,
          0.1503223882805986,
          0.16207602205787056,
          0.17474866669274255,
          0.1884121791932165,
          0.20314403503149034,
          0.21902776744891633,
          0.23615344110999875,
          0.2546181627911651,
          0.27452663200004224,
          0.2959917346473826,
          0.319135183137908,
          0.3440882065095418,
          0.37099229453428917,
          0.4
         ],
         "y": [
          0.05176318003516785,
          0.07352961154084209,
          0.10307393489938266,
          0.1425872527965301,
          0.19465152436067654,
          0.2622286736444307,
          0.3486163962314813,
          0.45736265637968027,
          0.5921324416186887,
          0.756523236006865,
          0.9538299368284737,
          1.1867654331940574,
          1.4571494240080078,
          1.7655846784843787,
          2.111146033005219,
          2.4911120431280147,
          2.9007714258491086,
          3.3333354252623466,
          3.7799824946002243,
          4.2300531183393755,
          4.671400631173694,
          5.090889502726038,
          5.475017204384693,
          5.810621239998102,
          6.0856210854696045,
          6.289737350515174,
          6.415128712112585,
          6.456891669832596,
          6.413378735282393,
          6.286306275677819,
          6.080642171630852,
          5.80428353861245,
          5.467553653892736,
          5.0825627498595765,
          4.6624877794171615,
          4.220830630042407,
          3.770712374040747,
          3.3242536053842993,
          2.892079002993303,
          2.4829696897649827,
          2.1036716068302046,
          1.7588537711920622,
          1.4511983799520018,
          1.181596231398791,
          0.9494162726393941,
          0.7528171542391191,
          0.5890709471198873,
          0.45487384185289026,
          0.3466247612241338,
          0.2606594446603914
         ]
        },
        {
         "hovertemplate": "Potency of Erlotinib: %{x:.02f} L/mg/day<br>Probability density in population: %{y:.02f}<br><extra></extra>",
         "mode": "lines",
         "name": "VXF A431",
         "type": "scatter",
         "x": [
          0.01,
          0.010781895093053743,
          0.011624926179761637,
          0.0125338734534684,
          0.01351389086849075,
          0.01457053536430442,
          0.015709798374755987,
          0.016938139800964532,
          0.018262524640547777,
          0.019690462480869513,
          0.021230050080244586,
          0.02289001727854743,
          0.024679776497548593,
          0.026609476111658224,
          0.02869005799170186,
          0.030933319548015776,
          0.03335198062466147,
          0.0359597556240661,
          0.03877143127105301,
          0.04180295045720368,
          0.04507150264096931,
          0.04859562131612258,
          0.052395289101219995,
          0.05649205104595761,
          0.06090913679689519,
          0.06567159231525833,
          0.07080642189369098,
          0.07634274127722798,
          0.08231194275672159,
          0.0887478731708417,
          0.09568702582596546,
          0.10316874742218837,
          0.11123546115877937,
          0.11993290728414135,
          0.12931040245425532,
          0.139421119370234,
          0.1503223882805986,
          0.16207602205787056,
          0.17474866669274255,
          0.1884121791932165,
          0.20314403503149034,
          0.21902776744891633,
          0.23615344110999875,
          0.2546181627911651,
          0.27452663200004224,
          0.2959917346473826,
          0.319135183137908,
          0.3440882065095418,
          0.37099229453428917,
          0.4
         ],
         "y": [
          4.073212691284754,
          5.0854170847210085,
          6.244874881167925,
          7.5427303060292035,
          8.960682552066073,
          10.470351909802229,
          12.033421787671701,
          13.602686055528821,
          15.124042335946504,
          16.539362588723268,
          17.790056459794116,
          18.821037449353216,
          19.584724451222712,
          20.044676271227193,
          20.178473182733196,
          19.979528342657503,
          19.45762528722649,
          18.63812043769761,
          17.55990112988129,
          16.272328128348136,
          14.831497205018149,
          13.296213182403777,
          11.724075847623862,
          10.168032915161794,
          8.673670935573579,
          7.277406164844878,
          6.005621550049455,
          4.874689775172474,
          3.891738743709732,
          3.0559626905989967,
          2.3602613343063865,
          1.7929980211368088,
          1.33969890666292,
          0.9845601866710204,
          0.711680409656865,
          0.5059824187818918,
          0.3538290746788211,
          0.24336565079381692,
          0.1646389999142972,
          0.10955036581564871,
          0.07169726995585232,
          0.04615290909755108,
          0.029221547827423526,
          0.018197638196584095,
          0.011146397082950638,
          0.006715242013379495,
          0.0039792067246437164,
          0.002319204307729691,
          0.0013295025984121666,
          0.0007496301512583699
         ]
        }
       ],
       "layout": {
        "autosize": true,
        "template": {
         "data": {
          "bar": [
           {
            "error_x": {
             "color": "#2a3f5f"
            },
            "error_y": {
             "color": "#2a3f5f"
            },
            "marker": {
             "line": {
              "color": "white",
              "width": 0.5
             }
            },
            "type": "bar"
           }
          ],
          "barpolar": [
           {
            "marker": {
             "line": {
              "color": "white",
              "width": 0.5
             }
            },
            "type": "barpolar"
           }
          ],
          "carpet": [
           {
            "aaxis": {
             "endlinecolor": "#2a3f5f",
             "gridcolor": "#C8D4E3",
             "linecolor": "#C8D4E3",
             "minorgridcolor": "#C8D4E3",
             "startlinecolor": "#2a3f5f"
            },
            "baxis": {
             "endlinecolor": "#2a3f5f",
             "gridcolor": "#C8D4E3",
             "linecolor": "#C8D4E3",
             "minorgridcolor": "#C8D4E3",
             "startlinecolor": "#2a3f5f"
            },
            "type": "carpet"
           }
          ],
          "choropleth": [
           {
            "colorbar": {
             "outlinewidth": 0,
             "ticks": ""
            },
            "type": "choropleth"
           }
          ],
          "contour": [
           {
            "colorbar": {
             "outlinewidth": 0,
             "ticks": ""
            },
            "colorscale": [
             [
              0,
              "#0d0887"
             ],
             [
              0.1111111111111111,
              "#46039f"
             ],
             [
              0.2222222222222222,
              "#7201a8"
             ],
             [
              0.3333333333333333,
              "#9c179e"
             ],
             [
              0.4444444444444444,
              "#bd3786"
             ],
             [
              0.5555555555555556,
              "#d8576b"
             ],
             [
              0.6666666666666666,
              "#ed7953"
             ],
             [
              0.7777777777777778,
              "#fb9f3a"
             ],
             [
              0.8888888888888888,
              "#fdca26"
             ],
             [
              1,
              "#f0f921"
             ]
            ],
            "type": "contour"
           }
          ],
          "contourcarpet": [
           {
            "colorbar": {
             "outlinewidth": 0,
             "ticks": ""
            },
            "type": "contourcarpet"
           }
          ],
          "heatmap": [
           {
            "colorbar": {
             "outlinewidth": 0,
             "ticks": ""
            },
            "colorscale": [
             [
              0,
              "#0d0887"
             ],
             [
              0.1111111111111111,
              "#46039f"
             ],
             [
              0.2222222222222222,
              "#7201a8"
             ],
             [
              0.3333333333333333,
              "#9c179e"
             ],
             [
              0.4444444444444444,
              "#bd3786"
             ],
             [
              0.5555555555555556,
              "#d8576b"
             ],
             [
              0.6666666666666666,
              "#ed7953"
             ],
             [
              0.7777777777777778,
              "#fb9f3a"
             ],
             [
              0.8888888888888888,
              "#fdca26"
             ],
             [
              1,
              "#f0f921"
             ]
            ],
            "type": "heatmap"
           }
          ],
          "heatmapgl": [
           {
            "colorbar": {
             "outlinewidth": 0,
             "ticks": ""
            },
            "colorscale": [
             [
              0,
              "#0d0887"
             ],
             [
              0.1111111111111111,
              "#46039f"
             ],
             [
              0.2222222222222222,
              "#7201a8"
             ],
             [
              0.3333333333333333,
              "#9c179e"
             ],
             [
              0.4444444444444444,
              "#bd3786"
             ],
             [
              0.5555555555555556,
              "#d8576b"
             ],
             [
              0.6666666666666666,
              "#ed7953"
             ],
             [
              0.7777777777777778,
              "#fb9f3a"
             ],
             [
              0.8888888888888888,
              "#fdca26"
             ],
             [
              1,
              "#f0f921"
             ]
            ],
            "type": "heatmapgl"
           }
          ],
          "histogram": [
           {
            "marker": {
             "colorbar": {
              "outlinewidth": 0,
              "ticks": ""
             }
            },
            "type": "histogram"
           }
          ],
          "histogram2d": [
           {
            "colorbar": {
             "outlinewidth": 0,
             "ticks": ""
            },
            "colorscale": [
             [
              0,
              "#0d0887"
             ],
             [
              0.1111111111111111,
              "#46039f"
             ],
             [
              0.2222222222222222,
              "#7201a8"
             ],
             [
              0.3333333333333333,
              "#9c179e"
             ],
             [
              0.4444444444444444,
              "#bd3786"
             ],
             [
              0.5555555555555556,
              "#d8576b"
             ],
             [
              0.6666666666666666,
              "#ed7953"
             ],
             [
              0.7777777777777778,
              "#fb9f3a"
             ],
             [
              0.8888888888888888,
              "#fdca26"
             ],
             [
              1,
              "#f0f921"
             ]
            ],
            "type": "histogram2d"
           }
          ],
          "histogram2dcontour": [
           {
            "colorbar": {
             "outlinewidth": 0,
             "ticks": ""
            },
            "colorscale": [
             [
              0,
              "#0d0887"
             ],
             [
              0.1111111111111111,
              "#46039f"
             ],
             [
              0.2222222222222222,
              "#7201a8"
             ],
             [
              0.3333333333333333,
              "#9c179e"
             ],
             [
              0.4444444444444444,
              "#bd3786"
             ],
             [
              0.5555555555555556,
              "#d8576b"
             ],
             [
              0.6666666666666666,
              "#ed7953"
             ],
             [
              0.7777777777777778,
              "#fb9f3a"
             ],
             [
              0.8888888888888888,
              "#fdca26"
             ],
             [
              1,
              "#f0f921"
             ]
            ],
            "type": "histogram2dcontour"
           }
          ],
          "mesh3d": [
           {
            "colorbar": {
             "outlinewidth": 0,
             "ticks": ""
            },
            "type": "mesh3d"
           }
          ],
          "parcoords": [
           {
            "line": {
             "colorbar": {
              "outlinewidth": 0,
              "ticks": ""
             }
            },
            "type": "parcoords"
           }
          ],
          "pie": [
           {
            "automargin": true,
            "type": "pie"
           }
          ],
          "scatter": [
           {
            "marker": {
             "colorbar": {
              "outlinewidth": 0,
              "ticks": ""
             }
            },
            "type": "scatter"
           }
          ],
          "scatter3d": [
           {
            "line": {
             "colorbar": {
              "outlinewidth": 0,
              "ticks": ""
             }
            },
            "marker": {
             "colorbar": {
              "outlinewidth": 0,
              "ticks": ""
             }
            },
            "type": "scatter3d"
           }
          ],
          "scattercarpet": [
           {
            "marker": {
             "colorbar": {
              "outlinewidth": 0,
              "ticks": ""
             }
            },
            "type": "scattercarpet"
           }
          ],
          "scattergeo": [
           {
            "marker": {
             "colorbar": {
              "outlinewidth": 0,
              "ticks": ""
             }
            },
            "type": "scattergeo"
           }
          ],
          "scattergl": [
           {
            "marker": {
             "colorbar": {
              "outlinewidth": 0,
              "ticks": ""
             }
            },
            "type": "scattergl"
           }
          ],
          "scattermapbox": [
           {
            "marker": {
             "colorbar": {
              "outlinewidth": 0,
              "ticks": ""
             }
            },
            "type": "scattermapbox"
           }
          ],
          "scatterpolar": [
           {
            "marker": {
             "colorbar": {
              "outlinewidth": 0,
              "ticks": ""
             }
            },
            "type": "scatterpolar"
           }
          ],
          "scatterpolargl": [
           {
            "marker": {
             "colorbar": {
              "outlinewidth": 0,
              "ticks": ""
             }
            },
            "type": "scatterpolargl"
           }
          ],
          "scatterternary": [
           {
            "marker": {
             "colorbar": {
              "outlinewidth": 0,
              "ticks": ""
             }
            },
            "type": "scatterternary"
           }
          ],
          "surface": [
           {
            "colorbar": {
             "outlinewidth": 0,
             "ticks": ""
            },
            "colorscale": [
             [
              0,
              "#0d0887"
             ],
             [
              0.1111111111111111,
              "#46039f"
             ],
             [
              0.2222222222222222,
              "#7201a8"
             ],
             [
              0.3333333333333333,
              "#9c179e"
             ],
             [
              0.4444444444444444,
              "#bd3786"
             ],
             [
              0.5555555555555556,
              "#d8576b"
             ],
             [
              0.6666666666666666,
              "#ed7953"
             ],
             [
              0.7777777777777778,
              "#fb9f3a"
             ],
             [
              0.8888888888888888,
              "#fdca26"
             ],
             [
              1,
              "#f0f921"
             ]
            ],
            "type": "surface"
           }
          ],
          "table": [
           {
            "cells": {
             "fill": {
              "color": "#EBF0F8"
             },
             "line": {
              "color": "white"
             }
            },
            "header": {
             "fill": {
              "color": "#C8D4E3"
             },
             "line": {
              "color": "white"
             }
            },
            "type": "table"
           }
          ]
         },
         "layout": {
          "annotationdefaults": {
           "arrowcolor": "#2a3f5f",
           "arrowhead": 0,
           "arrowwidth": 1
          },
          "coloraxis": {
           "colorbar": {
            "outlinewidth": 0,
            "ticks": ""
           }
          },
          "colorscale": {
           "diverging": [
            [
             0,
             "#8e0152"
            ],
            [
             0.1,
             "#c51b7d"
            ],
            [
             0.2,
             "#de77ae"
            ],
            [
             0.3,
             "#f1b6da"
            ],
            [
             0.4,
             "#fde0ef"
            ],
            [
             0.5,
             "#f7f7f7"
            ],
            [
             0.6,
             "#e6f5d0"
            ],
            [
             0.7,
             "#b8e186"
            ],
            [
             0.8,
             "#7fbc41"
            ],
            [
             0.9,
             "#4d9221"
            ],
            [
             1,
             "#276419"
            ]
           ],
           "sequential": [
            [
             0,
             "#0d0887"
            ],
            [
             0.1111111111111111,
             "#46039f"
            ],
            [
             0.2222222222222222,
             "#7201a8"
            ],
            [
             0.3333333333333333,
             "#9c179e"
            ],
            [
             0.4444444444444444,
             "#bd3786"
            ],
            [
             0.5555555555555556,
             "#d8576b"
            ],
            [
             0.6666666666666666,
             "#ed7953"
            ],
            [
             0.7777777777777778,
             "#fb9f3a"
            ],
            [
             0.8888888888888888,
             "#fdca26"
            ],
            [
             1,
             "#f0f921"
            ]
           ],
           "sequentialminus": [
            [
             0,
             "#0d0887"
            ],
            [
             0.1111111111111111,
             "#46039f"
            ],
            [
             0.2222222222222222,
             "#7201a8"
            ],
            [
             0.3333333333333333,
             "#9c179e"
            ],
            [
             0.4444444444444444,
             "#bd3786"
            ],
            [
             0.5555555555555556,
             "#d8576b"
            ],
            [
             0.6666666666666666,
             "#ed7953"
            ],
            [
             0.7777777777777778,
             "#fb9f3a"
            ],
            [
             0.8888888888888888,
             "#fdca26"
            ],
            [
             1,
             "#f0f921"
            ]
           ]
          },
          "colorway": [
           "#636efa",
           "#EF553B",
           "#00cc96",
           "#ab63fa",
           "#FFA15A",
           "#19d3f3",
           "#FF6692",
           "#B6E880",
           "#FF97FF",
           "#FECB52"
          ],
          "font": {
           "color": "#2a3f5f"
          },
          "geo": {
           "bgcolor": "white",
           "lakecolor": "white",
           "landcolor": "white",
           "showlakes": true,
           "showland": true,
           "subunitcolor": "#C8D4E3"
          },
          "hoverlabel": {
           "align": "left"
          },
          "hovermode": "closest",
          "mapbox": {
           "style": "light"
          },
          "paper_bgcolor": "white",
          "plot_bgcolor": "white",
          "polar": {
           "angularaxis": {
            "gridcolor": "#EBF0F8",
            "linecolor": "#EBF0F8",
            "ticks": ""
           },
           "bgcolor": "white",
           "radialaxis": {
            "gridcolor": "#EBF0F8",
            "linecolor": "#EBF0F8",
            "ticks": ""
           }
          },
          "scene": {
           "xaxis": {
            "backgroundcolor": "white",
            "gridcolor": "#DFE8F3",
            "gridwidth": 2,
            "linecolor": "#EBF0F8",
            "showbackground": true,
            "ticks": "",
            "zerolinecolor": "#EBF0F8"
           },
           "yaxis": {
            "backgroundcolor": "white",
            "gridcolor": "#DFE8F3",
            "gridwidth": 2,
            "linecolor": "#EBF0F8",
            "showbackground": true,
            "ticks": "",
            "zerolinecolor": "#EBF0F8"
           },
           "zaxis": {
            "backgroundcolor": "white",
            "gridcolor": "#DFE8F3",
            "gridwidth": 2,
            "linecolor": "#EBF0F8",
            "showbackground": true,
            "ticks": "",
            "zerolinecolor": "#EBF0F8"
           }
          },
          "shapedefaults": {
           "line": {
            "color": "#2a3f5f"
           }
          },
          "ternary": {
           "aaxis": {
            "gridcolor": "#DFE8F3",
            "linecolor": "#A2B1C6",
            "ticks": ""
           },
           "baxis": {
            "gridcolor": "#DFE8F3",
            "linecolor": "#A2B1C6",
            "ticks": ""
           },
           "bgcolor": "white",
           "caxis": {
            "gridcolor": "#DFE8F3",
            "linecolor": "#A2B1C6",
            "ticks": ""
           }
          },
          "title": {
           "x": 0.05
          },
          "xaxis": {
           "automargin": true,
           "gridcolor": "#EBF0F8",
           "linecolor": "#EBF0F8",
           "ticks": "",
           "title": {
            "standoff": 15
           },
           "zerolinecolor": "#EBF0F8",
           "zerolinewidth": 2
          },
          "yaxis": {
           "automargin": true,
           "gridcolor": "#EBF0F8",
           "linecolor": "#EBF0F8",
           "ticks": "",
           "title": {
            "standoff": 15
           },
           "zerolinecolor": "#EBF0F8",
           "zerolinewidth": 2
          }
         }
        },
        "updatemenus": [
         {
          "buttons": [
           {
            "args": [
             {
              "xaxis.type": "linear"
             }
            ],
            "label": "Linear x-scale",
            "method": "relayout"
           },
           {
            "args": [
             {
              "xaxis.type": "log"
             }
            ],
            "label": "Log x-scale",
            "method": "relayout"
           }
          ],
          "direction": "left",
          "pad": {
           "r": 0,
           "t": -10
          },
          "showactive": true,
          "type": "buttons",
          "x": 0.11,
          "xanchor": "left",
          "y": 1.1,
          "yanchor": "top"
         }
        ],
        "xaxis": {
         "title": {
          "text": "$\\text{Erlotinib potency }\\kappa \\text{ in L/mg/day}$"
         }
        },
        "yaxis": {
         "title": {
          "text": "$\\text{Probability density in population}$"
         }
        }
       }
      }
     },
     "metadata": {}
    }
   ],
   "source": [
    "#\n",
    "# Illustration of Erlotinib's potency population distribution for LXF A677 mice assuming estimate for population mean and standard deviation in [1] were exact.\n",
    "#\n",
    "\n",
    "import numpy as np\n",
    "import plotly.graph_objects as go\n",
    "from scipy.stats import lognorm\n",
    "\n",
    "\n",
    "# Estimates for mean and s.d. kappa from Table 1, LXF A677\n",
    "mean = 0.117  # in \"log(L/mg/day)\"\n",
    "sd = 0.654  # in \"log(L/mg/day)\"\n",
    "\n",
    "# Get 1st and 99th percentile\n",
    "start = -2  \n",
    "end = np.log10(0.4)\n",
    "\n",
    "# Trace out probability density\n",
    "lxf_kappa = np.logspace(start=start, stop=end)\n",
    "lxf_pdf = lognorm.pdf(lxf_kappa, scale=mean, s=sd)\n",
    "\n",
    "# Estimates for mean and s.d. kappa from Table 1, LXF A677\n",
    "mean = 0.0401  # in \"log(L/mg/day)\"\n",
    "sd = 0.585  # in \"log(L/mg/day)\"\n",
    "\n",
    "# Get 1st and 99th percentile\n",
    "start = -2  \n",
    "end = np.log10(0.4)\n",
    "\n",
    "# Trace out probability density\n",
    "vxf_kappa = np.logspace(start=start, stop=end)\n",
    "vxf_pdf = lognorm.pdf(vxf_kappa, scale=mean, s=sd)  # log(x/mean) = log(x) - log(mean)\n",
    "\n",
    "# Create figure\n",
    "fig = go.Figure()\n",
    "\n",
    "# Plot dsitribution of kappa for LXF A677\n",
    "fig.add_trace(go.Scatter(\n",
    "    x=lxf_kappa,\n",
    "    y=lxf_pdf,\n",
    "    name='LXF A677',\n",
    "    hovertemplate=\n",
    "        \"Potency of Erlotinib: %{x:.02f} L/mg/day<br>\" +\n",
    "        \"Probability density in population: %{y:.02f}<br>\" +\n",
    "        \"<extra></extra>\",\n",
    "    mode=\"lines\",\n",
    "))\n",
    "\n",
    "# Plot distribution of kappa for VXF A431\n",
    "fig.add_trace(go.Scatter(\n",
    "    x=vxf_kappa,\n",
    "    y=vxf_pdf,\n",
    "    name='VXF A431',\n",
    "    hovertemplate=\n",
    "        \"Potency of Erlotinib: %{x:.02f} L/mg/day<br>\" +\n",
    "        \"Probability density in population: %{y:.02f}<br>\" +\n",
    "        \"<extra></extra>\",\n",
    "    mode=\"lines\",\n",
    "))\n",
    "\n",
    "# Set X, Y axis and figure size\n",
    "fig.update_layout(\n",
    "    autosize=True,\n",
    "    xaxis_title=r'$\\text{Erlotinib potency }\\kappa \\text{ in L/mg/day}$',\n",
    "    yaxis_title=r'$\\text{Probability density in population}$',\n",
    "    template=\"plotly_white\")\n",
    "\n",
    "# Add switch between linear and log y-scale\n",
    "fig.update_layout(\n",
    "    updatemenus=[\n",
    "        dict(\n",
    "            type = \"buttons\",\n",
    "            direction = \"left\",\n",
    "            buttons=list([\n",
    "                dict(\n",
    "                    args=[{\"xaxis.type\": \"linear\"}],\n",
    "                    label=\"Linear x-scale\",\n",
    "                    method=\"relayout\"\n",
    "                ),\n",
    "                dict(\n",
    "                    args=[{\"xaxis.type\": \"log\"}],\n",
    "                    label=\"Log x-scale\",\n",
    "                    method=\"relayout\"\n",
    "                )\n",
    "            ]),\n",
    "            pad={\"r\": 0, \"t\": -10},\n",
    "            showactive=True,\n",
    "            x=0.11,\n",
    "            xanchor=\"left\",\n",
    "            y=1.1,\n",
    "            yanchor=\"top\"\n",
    "        ),\n",
    "    ]\n",
    ")\n",
    "\n",
    "# Show figure\n",
    "fig.show()"
   ]
  },
  {
   "cell_type": "code",
   "execution_count": 6,
   "metadata": {},
   "outputs": [
    {
     "output_type": "execute_result",
     "data": {
      "text/plain": "0.20876826722338207"
     },
     "metadata": {},
     "execution_count": 6
    }
   ],
   "source": []
  },
  {
   "cell_type": "markdown",
   "metadata": {},
   "source": [
    "## Bibliography\n",
    "\n",
    "- <a name=\"ref1\"> [1] </a> Eigenmann et. al., Combining Nonclinical Experiments with Translational PKPD Modeling to Differentiate Erlotinib and Gefitinib, Mol Cancer Ther (2016)"
   ]
  },
  {
   "cell_type": "code",
   "execution_count": null,
   "metadata": {},
   "outputs": [],
   "source": []
  }
 ],
 "metadata": {
  "language_info": {
   "codemirror_mode": {
    "name": "ipython",
    "version": 3
   },
   "file_extension": ".py",
   "mimetype": "text/x-python",
   "name": "python",
   "nbconvert_exporter": "python",
   "pygments_lexer": "ipython3",
   "version": "3.7.5-final"
  },
  "orig_nbformat": 2,
  "kernelspec": {
   "name": "python37564bitvenvvenv6a1cf9e436c848d3930f390a42386651",
   "display_name": "Python 3.7.5 64-bit ('venv': venv)"
  }
 },
 "nbformat": 4,
 "nbformat_minor": 2
}