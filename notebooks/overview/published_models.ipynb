{
 "cells": [
  {
   "cell_type": "markdown",
   "metadata": {},
   "source": [
    "# Exploration of Published Models\n",
    "\n",
    "The tumour growth inhibiting effects of Erlotininb and Gefitinib were modelled with a population PKPD model in [1]. A population PKPD model is a hierarchical model which consists of a structural model, a population model, and an error model. Each sub-model captures a different aspect of the tumour growth inhibition biology, and is parametrised by a set of parameters. In this notebook, we review the population PKPD model structure presented in [1]. We further investigate the reported model parameters reported, and explore their consequences for dose efficacy predictions of Erlotinib and Gefitinib. \n",
    "\n",
    "Note that in [1] it was argued that the PKPD properties of Erlotinib and Gefinitib are structurally the same. That is why in the following we introduce just one PKPD model structure and review the drug-specific model parameters in a subsequent step."
   ]
  },
  {
   "cell_type": "markdown",
   "metadata": {},
   "source": [
    "## Structural model\n",
    "\n",
    "The structural model reported in [1] is a system of ordindary differential and algebraic equations. It combines a mechanistic description of the pharmacokinetics (PK) and the pharmacodynamics (PD) of the compound, as well as an empirical model of the tumour growth.\n",
    "\n",
    "The distribution of the compound in the mouse system after an oral dose is modelled by a one-compartment PK model with indirect drug administration\n",
    "\n",
    "\\begin{align*}\n",
    "\\frac{\\text{d}A_d}{\\text{d}t} = r_d(t) - k_{a}A_d,\\qquad \\frac{\\text{d}A_c}{\\text{d}t} = k_{a} A_d - k_e A_c,\\qquad C_c = \\frac{A_c}{V_c}.\n",
    "\\end{align*}\n",
    "\n",
    "Here, $A_d$ is the amount of the compound in the dose compartment, and $A_c$ the amount in the central compartment. The dose compartment may be interpreted as the gut compartment. As the drug is orally administered, the uptake into the dose compartment may be modelled by a time dependent dose rate $r_d$. The drug diffuses at a constant rate $k_a$ (absorption rate) into the central compartment. The central compartment models the drug circulating in the plasma. The clearance from the central compartment of the drug through the liver is modelled with a linear elimination rate $k_e$. The concentration of the compound in the central compartment $C_c$ can be derived from its amount and its effective volume of distribution in the central compartment $V_c$.\n",
    "\n",
    "The tumour growth is modelled by an empirical model. In absence of the drug the tumour growth is assumed to grow exponentially for small tumour volumes, and to grow linearly for large tumour volumes. The growth inhibiting effects of the compound are assumed to be proportional to its concentration in the central compartment and the volume of the tumour\n",
    "\n",
    "\\begin{align*}\n",
    "\\frac{\\text{d}V^s_T}{\\text{d}t} = \\frac{2\\lambda _0\\lambda _1 V^s_T}{2\\lambda _0 V^s_T + \\lambda _1} - \\kappa C_cV^s_T.\n",
    "\\end{align*}\n",
    "\n",
    "Here, $V^s_T$ is the predicted tumour volume by the structural model, $\\lambda _0$ is the exponential growth rate, $\\lambda _1$ is the linear growth rate, and $\\kappa $ is the growth inhibiting potency of the compound.\n",
    "\n",
    "In [1], the dose and central compartment were assumed to contain no amount of the compound initially, $A_d(t=0)=0$ and $A_c(t=0)=0$. The structural model is then parameterised by seven parameters that determine the PKPD of the drug\n",
    "\n",
    "\\begin{align*}\n",
    "\\psi = (k_a, k_e, V_c, V_0, \\lambda _0, \\lambda _1, \\kappa ),\n",
    "\\end{align*}\n",
    "\n",
    "where $V_0$ is the initial tumour volume, $V^s_T(t=0)=V_0$. Note that in this model $r_d$ is determined by the dosing regimen."
   ]
  },
  {
   "cell_type": "markdown",
   "metadata": {},
   "source": [
    "We have implemented the structural model in a separate python [module](https://github.com/DavAug/ErlotinibGefitinib/blob/master/pkpd/model.py), which generates with `pkpd.model.create_pktgi_model()` a [myokit](http://myokit.org/) representation of the model. [myokit](http://myokit.org/) allows us to solve the system of ODEs numerically."
   ]
  },
  {
   "cell_type": "code",
   "execution_count": 57,
   "metadata": {
    "tags": []
   },
   "outputs": [
    {
     "output_type": "stream",
     "name": "stdout",
     "text": "[[model]]\n# Initial values\ncentral.amount   = 0\ncentral.volume_t = 0\ndepot.amount     = 0\n\n[central]\ndot(amount) = -k_e * amount + depot.k_a * depot.amount\n    in [mg]\nconc = amount / volume_c\n    in [mg/L]\nk_e = 0\n    in [1/day]\nkappa = 0\n    in [L/mg/day]\nlambda_0 = 0\n    in [1/day]\nlambda_1 = 1\n    in [cm^3/day]\ntime = 0 bind time\n    in [day]\nvolume_c = 1\n    in [L]\ndot(volume_t) = 2 * (lambda_0 * (lambda_1 * volume_t)) / (2 * (lambda_0 * volume_t) + lambda_1) - kappa * (conc * volume_t)\n    in [cm^3]\n\n[depot]\ndot(amount) = -k_a * amount + dose_rate * regimen\n    in [mg]\ndose_rate = 0\n    in [mg/day]\nk_a = 0\n    in [1/day]\nregimen = 0 bind pace\n    in [1]\n\n\n"
    }
   ],
   "source": [
    "#\n",
    "# Create structural model.\n",
    "#\n",
    "\n",
    "import pkpd.model as m\n",
    "\n",
    "\n",
    "# Create model\n",
    "model = m.create_pktgi_model()\n",
    "\n",
    "# Set route of administration to 'oral dosing'\n",
    "model.set_roa(dose_comp='central', indirect=True)\n",
    "\n",
    "# Show model\n",
    "print(model.code())"
   ]
  },
  {
   "cell_type": "markdown",
   "metadata": {},
   "source": [
    "## Error model\n",
    "\n",
    "The expected random deviations of the observed tumour volumes from the structural model predictions $V^s_T$ are modelled in [1] by a combined error model. A combined error model assumes that the deviations $\\varepsilon $ of the observable tumour volume $V_T$ from the structural model predictions $V^s_T$ may be modelled by a base-level Gaussian noise, and a Gaussian noise contribution whose standard deviation grows relative to the structural model predictions\n",
    "\n",
    "\\begin{equation*}\n",
    "    \\varepsilon = \\left(\\sigma _{\\text{base}} + \\sigma _{\\text{rel}} V^s_T\\right) \\varepsilon _n.\n",
    "\\end{equation*}\n",
    "\n",
    "Here, $\\sigma _{\\text{base}}$ is the standard deviation of the base-level noise, and $\\sigma _{\\text{rel}}$ is the standard deviation relative to $V^s_T$. $\\varepsilon _n$ is a standard Gaussian random variable $\\mathcal{N}(0, 1)$. As a result, the model predictions of the tumour volume are Gaussian-distributed, centered at the structural model predictions $V^s_T = V^s_T(t, r_d; \\psi)$ with a standard deviation $\\sigma _{\\text{tot}} = \\sigma _{\\text{base}} + \\sigma _{\\text{rel}} V^s_T$\n",
    "\n",
    "\\begin{equation*}\n",
    "    V_T \\sim \\mathcal{N}(V^s_T, \\sigma ^2_{\\text{tot}}).\n",
    "\\end{equation*}\n",
    "\n",
    "The error model introduces two further parameters to the model\n",
    "\n",
    "\\begin{equation*}\n",
    "    \\theta _V = (\\sigma _{\\text{base}}, \\sigma _{\\text{rel}}),\n",
    "\\end{equation*}\n",
    "\n",
    "such that at this point the PKPD model has nine parameters ($\\psi$, $\\theta _V$)."
   ]
  },
  {
   "cell_type": "markdown",
   "metadata": {},
   "source": [
    "## Population model\n",
    "\n",
    "Generally, the structural model parameters $\\psi$ can be split into system-specific and process-specific parameters. System-specific parameters are expected to vary between individuals, while process-specfic parameters are assumed to be constant across individuals. In [1] all structural model parameters $\\psi $ are assumed to vary between individuals, except the absorption rate $k_a$. The population model defines the distribution of system-specific parameters in the population. \n",
    "\n",
    "In [1] all $\\psi $ except the absorption rate $k_a$ are assumed to be [log-normally distributed](https://en.wikipedia.org/wiki/Log-normal_distribution) in the mouse population\n",
    "\n",
    "\\begin{equation*}\n",
    "    \\log \\psi _i \\sim \\mathcal{N} (\\log \\mu _i, \\sigma ^2_i), \\quad \\psi _i \\neq k_a,\n",
    "\\end{equation*}\n",
    "\n",
    "where $\\mu _i $ is the median of $\\psi $ in the population, and $\\sigma _i$ the standard deviation of $\\log \\psi _i$ in the population. Note that $\\mu _i$ is of linear scale and $\\sigma _i$ is of logarithmic scale. Their values can therefore not be directly compared, like one might be used to for a Gaussian distribution. \n",
    "\n",
    "The introduction of a population model replaces all system-specific structural model parameters by a distribution which is parameterised by the population median $\\mu _i $ and log-scale standard deviation $\\sigma _i$. Defining the population parameters as \n",
    "\n",
    "\\begin{equation*}\n",
    "    \\theta _{\\psi } = (k_a, \\mu _{k_e}, \\sigma _{k_e}, \\mu _{V_c}, \\sigma _{V_c}, \\mu _{V_0}, \\sigma _{V_0}, \\mu _{\\lambda _0}, \\sigma _{\\lambda _0}, \\mu _{\\lambda _1}, \\sigma _{\\lambda _1}, \\mu _{\\kappa}, \\sigma _{\\kappa}),\n",
    "\\end{equation*}\n",
    "\n",
    "the full population tumour growth inhibition PKPD model of Erlotinib and Gefitinib is parameterised by 15 parameters each, $(\\theta _{\\psi}, \\theta _V)$."
   ]
  },
  {
   "cell_type": "markdown",
   "metadata": {},
   "source": [
    "## Parameter estimates"
   ]
  },
  {
   "cell_type": "markdown",
   "metadata": {},
   "source": [
    "Below we report the inferred model parameters $(\\theta _{\\psi}, \\theta _V)$ from Table 1, p. 3117 [1]. These model parameters were inferred with Monolix. Note that the \"Estimate\" for a parameter $\\psi _i$ corresponds to the median of the population distribution $\\mu _i$, while the interindividual variability \"Var\" is equivalent to the log-scale population standard deviation $\\sigma _i$. The provided relative standard error (RSE) is the standard deviation of the estimates relative to their value (this assumes a Gaussian error of the estimates of $\\mu _i$ and $\\sigma _i$). For later convenience we will translate the RSE values back into absolute standard deviations. For more details on the Monolix's conventions please have a look at its [documentation](http://monolix.lixoft.com/data-and-models/individualdistribution/)."
   ]
  },
  {
   "cell_type": "code",
   "execution_count": 63,
   "metadata": {
    "tags": []
   },
   "outputs": [
    {
     "output_type": "stream",
     "name": "stdout",
     "text": "Erlotinib LXF A677\n"
    },
    {
     "output_type": "display_data",
     "data": {
      "text/plain": "                    k_a in 1/day  mu V_c in L  sigma V_c in dimless  \\\nestimate                    55.0      0.12700                 0.251   \nstandard deviation           NaN      0.01905                   NaN   \n\n                    mu k_e in 1/day  sigma k_e in dimless  mu V_0 in cm^3  \\\nestimate                      7.560               0.33200          0.1220   \nstandard deviation            0.756               0.12948          0.0061   \n\n                    sigma V_0 in dimless  mu lambda_0 in 1/day  \\\nestimate                          0.3680              0.097100   \nstandard deviation                0.0061              0.007768   \n\n                    sigma lambda_0 in dimless  mu lambda_1 in cm^3/day  \\\nestimate                              0.45600                  0.12700   \nstandard deviation                    0.05928                  0.01651   \n\n                    sigma lambda_1 in dimless  mu kappa in L/mg/day  \\\nestimate                                 0.71               0.11700   \nstandard deviation                        NaN               0.01989   \n\n                    sigma kappa in dimless  sigma base in cm^3  \\\nestimate                           0.65400            0.014100   \nstandard deviation                 0.13734            0.001269   \n\n                    sigma rel in dimless  \nestimate                        0.090700  \nstandard deviation              0.005442  ",
      "text/html": "<div>\n<style scoped>\n    .dataframe tbody tr th:only-of-type {\n        vertical-align: middle;\n    }\n\n    .dataframe tbody tr th {\n        vertical-align: top;\n    }\n\n    .dataframe thead th {\n        text-align: right;\n    }\n</style>\n<table border=\"1\" class=\"dataframe\">\n  <thead>\n    <tr style=\"text-align: right;\">\n      <th></th>\n      <th>k_a in 1/day</th>\n      <th>mu V_c in L</th>\n      <th>sigma V_c in dimless</th>\n      <th>mu k_e in 1/day</th>\n      <th>sigma k_e in dimless</th>\n      <th>mu V_0 in cm^3</th>\n      <th>sigma V_0 in dimless</th>\n      <th>mu lambda_0 in 1/day</th>\n      <th>sigma lambda_0 in dimless</th>\n      <th>mu lambda_1 in cm^3/day</th>\n      <th>sigma lambda_1 in dimless</th>\n      <th>mu kappa in L/mg/day</th>\n      <th>sigma kappa in dimless</th>\n      <th>sigma base in cm^3</th>\n      <th>sigma rel in dimless</th>\n    </tr>\n  </thead>\n  <tbody>\n    <tr>\n      <th>estimate</th>\n      <td>55.0</td>\n      <td>0.12700</td>\n      <td>0.251</td>\n      <td>7.560</td>\n      <td>0.33200</td>\n      <td>0.1220</td>\n      <td>0.3680</td>\n      <td>0.097100</td>\n      <td>0.45600</td>\n      <td>0.12700</td>\n      <td>0.71</td>\n      <td>0.11700</td>\n      <td>0.65400</td>\n      <td>0.014100</td>\n      <td>0.090700</td>\n    </tr>\n    <tr>\n      <th>standard deviation</th>\n      <td>NaN</td>\n      <td>0.01905</td>\n      <td>NaN</td>\n      <td>0.756</td>\n      <td>0.12948</td>\n      <td>0.0061</td>\n      <td>0.0061</td>\n      <td>0.007768</td>\n      <td>0.05928</td>\n      <td>0.01651</td>\n      <td>NaN</td>\n      <td>0.01989</td>\n      <td>0.13734</td>\n      <td>0.001269</td>\n      <td>0.005442</td>\n    </tr>\n  </tbody>\n</table>\n</div>"
     },
     "metadata": {}
    },
    {
     "output_type": "stream",
     "name": "stdout",
     "text": "Erlotinib VXF A341\n"
    },
    {
     "output_type": "display_data",
     "data": {
      "text/plain": "                    k_a in 1/day  mu V_c in L  sigma V_c dimless  \\\nestimate                    55.0       0.1200             0.1900   \nstandard deviation           NaN       0.0072             0.0437   \n\n                    mu k_e in 1/day  sigma k_e in dimless  mu V_0 in cm^3  \\\nestimate                     7.8500                0.2350         0.11400   \nstandard deviation           0.5495                0.0611         0.00684   \n\n                    sigma V_0 in dimless  mu lambda_0 in 1/day  \\\nestimate                         0.42300               0.02900   \nstandard deviation               0.04653               0.00174   \n\n                    sigma lambda_0 in dimless  mu lambda_1 in cm^3/day  \\\nestimate                              0.32100                  0.29800   \nstandard deviation                    0.04494                  0.11026   \n\n                    sigma lambda_1 in dimless  mu kappa in L/mg/day  \\\nestimate                                 0.68              0.040100   \nstandard deviation                        NaN              0.006416   \n\n                    sigma kappa in dimless  sigma base in cm^3  \\\nestimate                           0.58500            0.004320   \nstandard deviation                 0.12285            0.001296   \n\n                    sigma rel in dimless  \nestimate                         0.13900  \nstandard deviation               0.00695  ",
      "text/html": "<div>\n<style scoped>\n    .dataframe tbody tr th:only-of-type {\n        vertical-align: middle;\n    }\n\n    .dataframe tbody tr th {\n        vertical-align: top;\n    }\n\n    .dataframe thead th {\n        text-align: right;\n    }\n</style>\n<table border=\"1\" class=\"dataframe\">\n  <thead>\n    <tr style=\"text-align: right;\">\n      <th></th>\n      <th>k_a in 1/day</th>\n      <th>mu V_c in L</th>\n      <th>sigma V_c dimless</th>\n      <th>mu k_e in 1/day</th>\n      <th>sigma k_e in dimless</th>\n      <th>mu V_0 in cm^3</th>\n      <th>sigma V_0 in dimless</th>\n      <th>mu lambda_0 in 1/day</th>\n      <th>sigma lambda_0 in dimless</th>\n      <th>mu lambda_1 in cm^3/day</th>\n      <th>sigma lambda_1 in dimless</th>\n      <th>mu kappa in L/mg/day</th>\n      <th>sigma kappa in dimless</th>\n      <th>sigma base in cm^3</th>\n      <th>sigma rel in dimless</th>\n    </tr>\n  </thead>\n  <tbody>\n    <tr>\n      <th>estimate</th>\n      <td>55.0</td>\n      <td>0.1200</td>\n      <td>0.1900</td>\n      <td>7.8500</td>\n      <td>0.2350</td>\n      <td>0.11400</td>\n      <td>0.42300</td>\n      <td>0.02900</td>\n      <td>0.32100</td>\n      <td>0.29800</td>\n      <td>0.68</td>\n      <td>0.040100</td>\n      <td>0.58500</td>\n      <td>0.004320</td>\n      <td>0.13900</td>\n    </tr>\n    <tr>\n      <th>standard deviation</th>\n      <td>NaN</td>\n      <td>0.0072</td>\n      <td>0.0437</td>\n      <td>0.5495</td>\n      <td>0.0611</td>\n      <td>0.00684</td>\n      <td>0.04653</td>\n      <td>0.00174</td>\n      <td>0.04494</td>\n      <td>0.11026</td>\n      <td>NaN</td>\n      <td>0.006416</td>\n      <td>0.12285</td>\n      <td>0.001296</td>\n      <td>0.00695</td>\n    </tr>\n  </tbody>\n</table>\n</div>"
     },
     "metadata": {}
    }
   ],
   "source": [
    "#\n",
    "# Estimates according to Eigenmann et. al. [1] for the Erlotinib and Gefitinib PKPD in LXF A677 and VXF A431.\n",
    "#\n",
    "\n",
    "import pandas as pd\n",
    "\n",
    "\n",
    "# Create pandas dataframe for LXF A677 Erlotinib model parameters\n",
    "lxf_erlotinib_estimates = pd.DataFrame(\n",
    "    data={\n",
    "        'k_a in 1/day': [55.0, None],\n",
    "        'mu V_c in L': [0.127, 0.127 * 0.15],\n",
    "        'sigma V_c in dimless': [0.251, None],\n",
    "        'mu k_e in 1/day': [7.56, 7.56 * 0.1],\n",
    "        'sigma k_e in dimless': [0.332, 0.332 * 0.39],\n",
    "        'mu V_0 in cm^3': [0.122, 0.122 * 0.05],\n",
    "        'sigma V_0 in dimless': [0.368, 0.122 * 0.05],\n",
    "        'mu lambda_0 in 1/day': [0.0971, 0.0971 * 0.08],\n",
    "        'sigma lambda_0 in dimless': [0.456, 0.456 * 0.13],\n",
    "        'mu lambda_1 in cm^3/day': [0.127, 0.127 * 0.13],\n",
    "        'sigma lambda_1 in dimless': [0.710, None],\n",
    "        'mu kappa in L/mg/day': [0.117, 0.117 * 0.17],\n",
    "        'sigma kappa in dimless': [0.654, 0.654 * 0.21],\n",
    "        'sigma base in cm^3': [0.0141, 0.0141 * 0.09],\n",
    "        'sigma rel in dimless': [0.0907, 0.0907 * 0.06]},\n",
    "    index=['estimate', 'standard deviation'])\n",
    "\n",
    "# Show dataframe\n",
    "print('Erlotinib LXF A677')\n",
    "display(lxf_erlotinib_estimates)\n",
    "\n",
    "# Create pandas dataframe for VXF A341 Erlotinib model parameters\n",
    "vxf_erlotinib_estimates = pd.DataFrame(\n",
    "    data={\n",
    "        'k_a in 1/day': [55.0, None],\n",
    "        'mu V_c in L': [0.120, 0.120 * 0.06],\n",
    "        'sigma V_c dimless': [0.190, 0.190 * 0.23],\n",
    "        'mu k_e in 1/day': [7.85, 7.85 * 0.07],\n",
    "        'sigma k_e in dimless': [0.235, 0.235 * 0.26],\n",
    "        'mu V_0 in cm^3': [0.114, 0.114 * 0.06],\n",
    "        'sigma V_0 in dimless': [0.423, 0.423 * 0.11],\n",
    "        'mu lambda_0 in 1/day': [0.0290, 0.0290 * 0.06],\n",
    "        'sigma lambda_0 in dimless': [0.321, 0.321 * 0.14],\n",
    "        'mu lambda_1 in cm^3/day': [0.298, 0.298 * 0.37],\n",
    "        'sigma lambda_1 in dimless': [0.68, None],\n",
    "        'mu kappa in L/mg/day': [0.0401, 0.0401 * 0.16],\n",
    "        'sigma kappa in dimless': [0.585, 0.585 * 0.21],\n",
    "        'sigma base in cm^3': [0.00432, 0.00432 * 0.3],\n",
    "        'sigma rel in dimless': [0.139, 0.139 * 0.05]},\n",
    "    index=['estimate', 'standard deviation'])\n",
    "\n",
    "# Show dataframe\n",
    "print('Erlotinib VXF A341')\n",
    "display(vxf_erlotinib_estimates)"
   ]
  },
  {
   "cell_type": "markdown",
   "metadata": {},
   "source": [
    "## Explore predictions for tumour growth inhibition\n",
    "\n",
    "With these model parameters, we can simulate dose-response tumour growth curves for different Erlotinib and Gefitinib treatment strategies. We first simulate the dose-response in a population of mice for 3 dosing regimens similar to the ones presented in [1]. We then explore the dose-response of a \"median\" mouse for a larger variety of dosing strategies.\n",
    "\n",
    "The distribution of dose-response curves in the population can be approximated by repeatedly sampling individuals from the population distribution. Each 'virtual' mouse in the population is then fully characterised by a sample of structural model parameters $\\psi _i \\sim \\mathcal{N}(\\log \\mu _i , \\sigma _i^2)$ for all $i$. Denoting the structural model parameter set of individual $j$ by \n",
    "\n",
    "\\begin{align*}\n",
    "\\psi _j = (k_{a, j}, k_{e, j}, V_{c, j}, V_{0, j}, \\lambda _{0, j}, \\lambda _{1, j}, \\kappa _j),\n",
    "\\end{align*}\n",
    "\n",
    "we can sample the tumour growth predictions from the structural-error model $V_{T,j} = \\mathcal{N}(V^s_{T,j}, \\sigma ^2_{\\text{tot}, j})$ , where the mean and the variance are determined by the individual's set of structural model parameters $\\psi _j$, $V^s_{T,j} = V^s_{T}(t, r_d;\\psi _j)$ and $\\sigma _{\\text{tot}, j} = \\sigma _{\\text{base}} + \\sigma _{\\text{rel}}V^s_{T,j}$. Note that the estimates reported in [1] are not exact and partly display significant uncertainty. From a Bayesian perspective we would therefore like to construct posterior distributions of the model parameters which reflect the uncertainty in their estimates. With just the estimates and their standard deviation, this is however not possible.\n",
    "\n",
    "Denoting the estimates with a \"hat\", we thus construct the population dose-response curves according to\n",
    "\n",
    "\\begin{equation*}\n",
    "    V_{T,j} = \\mathcal{N}(V^s_{T,j}, \\sigma ^2_{\\text{tot}, j})\\quad \\text{with}\\quad \\log \\psi _{ij} \\sim \\mathcal{N}(\\log \\hat{\\mu} _i, \\hat{\\sigma}^2_i),\n",
    "\\end{equation*}\n",
    "\n",
    "and $k_{a,j}=\\hat{k}_{a}$, $\\sigma _{\\text{base}}= \\hat{\\sigma }_{\\text{base}}$, $\\sigma _{\\text{rel}}=\\hat{\\sigma }_{\\text{rel}}$, acknowledging the fact, that the uncertainty in the model predictions will be underestimated. \n",
    "\n",
    "To simulate the population behaviour, we sample N=1000 individuals from the PKPD model, and visualise the variation of dose-response curves by computing percentiles at predefined time points. Note that this representation captures the spread of different tumour volumes in the population well, however, loses any information about individual growth curves. That is to say, that the median growth curve in the population does not actually describe the tumour growth of a median mouse in the population, but rather the median tumour volume at each sampled time point."
   ]
  },
  {
   "cell_type": "code",
   "execution_count": 114,
   "metadata": {},
   "outputs": [],
   "source": [
    "#\n",
    "# Sampling mice from Erlotinib LXF A677, Erlotinib VXF A431, Gefitinib LXF A677 and Gefitinib VXF A431 population.\n",
    "#\n",
    "# This cell needs the above defined parameter estimates \n",
    "# [lxf_erlotinib_estimates, vxf_erlotinib_estimates]\n",
    "#\n",
    "\n",
    "import numpy as np\n",
    "from scipy.stats import lognorm\n",
    "\n",
    "\n",
    "# Define population size\n",
    "N = 10\n",
    "\n",
    "# Number of parameters that define mouse (noise params are not mouse specific)\n",
    "n_params = 7  # [v_0, k_a, k_e, V_c, lambda_0, lambda_1, kappa]\n",
    "\n",
    "# Define population parameters\n",
    "populations = [lxf_erlotinib_estimates]\n",
    "n_populations = len(populations)\n",
    "\n",
    "# Create container for mice (N, n_parameters, n_populations)\n",
    "mice_parameters = np.empty(shape=(N, n_params, n_populations))\n",
    "\n",
    "# Sample mice for each of the populations\n",
    "for pop_id, population in enumerate(populations):\n",
    "    # Sample initial tumour volumes\n",
    "    median = population.loc['estimate', 'mu V_0 in cm^3']\n",
    "    std = population.loc['estimate', 'sigma V_0 in dimless']\n",
    "    mice_parameters[:, 0, pop_id] = lognorm.rvs(scale=median, s=std, size=N)\n",
    "\n",
    "    # Sample absorption rate\n",
    "    mice_parameters[:, 1, pop_id] = np.full(shape=N,fill_value=population.loc['estimate', 'k_a in 1/day'])\n",
    "\n",
    "    # Sample volume of distribution\n",
    "    median = population.loc['estimate', 'mu V_c in L']\n",
    "    std = population.loc['estimate', 'sigma V_c in dimless']\n",
    "    mice_parameters[:, 2, pop_id] = lognorm.rvs(scale=median, s=std, size=N)\n",
    "\n",
    "    # Sample elimination rate\n",
    "    median = population.loc['estimate', 'mu k_e in 1/day']\n",
    "    std = population.loc['estimate', 'sigma k_e in dimless']\n",
    "    mice_parameters[:, 3, pop_id] = lognorm.rvs(scale=median, s=std, size=N)\n",
    "\n",
    "    # Sample exponential growth rate\n",
    "    median = population.loc['estimate', 'mu lambda_0 in 1/day']\n",
    "    std = population.loc['estimate', 'sigma lambda_0 in dimless']\n",
    "    mice_parameters[:, 4, pop_id] = lognorm.rvs(scale=median, s=std, size=N)\n",
    "\n",
    "    # Sample linear growth rate\n",
    "    median = population.loc['estimate', 'mu lambda_1 in cm^3/day']\n",
    "    std = population.loc['estimate', 'sigma lambda_1 in dimless']\n",
    "    mice_parameters[:, 5, pop_id] = lognorm.rvs(scale=median, s=std, size=N)\n",
    "\n",
    "    # Sample potency\n",
    "    median = population.loc['estimate', 'mu kappa in L/mg/day']\n",
    "    std = population.loc['estimate', 'sigma kappa in dimless']\n",
    "    mice_parameters[:, 6, pop_id] = lognorm.rvs(scale=median, s=std, size=N)\n"
   ]
  },
  {
   "cell_type": "code",
   "execution_count": 95,
   "metadata": {
    "tags": []
   },
   "outputs": [],
   "source": [
    "#\n",
    "# Illustrate LXF A677 and VXF A431 tumour growth under Erlotinib treatment.\n",
    "#\n",
    "# This cell needs the above defined parameter estimates (lxf_erlotinib_estimates, etc.).\n",
    "# \n",
    "\n",
    "import myokit\n",
    "import plotly.graph_objects as go\n",
    "from scipy.stats import lognorm, norm\n",
    "\n",
    "import pkpd.model as m\n",
    "\n",
    "\n",
    "# Define dosing regimens\n",
    "# amount [mg], start [day], period [day], multiplier [dimless]\n",
    "dosing_regimens = [\n",
    "    [2, 3, 1, 14]]\n",
    "\n",
    "# Create structural model and set route of administration\n",
    "model = m.create_pktgi_model()\n",
    "model.set_roa(dose_comp='central', indirect=True)\n",
    "\n",
    "# Define simulation time points in days\n",
    "times = np.linspace(0, 30, num=100)\n",
    "\n",
    "# Sample individuals from population distribution (n_indiv, n_params)\n",
    "parameters = np.empty(shape=(10, 15))\n",
    "\n",
    "parameters[:, 0] = \n",
    "\n",
    "# Simulate dose-response for dosing regimens\n",
    "for dosing_regimen in dosing_regimens:\n",
    "    # Get regimen\n",
    "    amount, start, period, multiplier = dosing_regimen\n",
    "\n",
    "    # Create myokit dosing regimen\n",
    "    model.set_regimen(amount=amount, start=start, period=period, multiplier=multiplier)\n",
    "    _, protocol = model.dosing_regimen()\n",
    "\n",
    "    # Create simulator\n",
    "    simulator = myokit.Simulation(model, protocol)\n",
    "\n",
    "    # TODO: Loop through individuals\n",
    "    simulator.reset()\n",
    "\n",
    "    # Set individual initial state\n",
    "    # central.amount, central.volume_t, depot.amount\n",
    "    simulator.set_state([0, lxf_erlotinib_estimates.loc['estimate', 'mu V_0 in cm^3'], 0])\n",
    "\n",
    "    # Set individual parameters\n",
    "    simulator.set_constant('depot.k_a', lxf_erlotinib_estimates.loc['estimate', 'k_a in 1/day'])\n",
    "    simulator.set_constant('central.volume_c', lxf_erlotinib_estimates.loc['estimate', 'mu V_c in L'])\n",
    "    simulator.set_constant('central.k_e', lxf_erlotinib_estimates.loc['estimate', 'mu k_e in 1/day'])\n",
    "    simulator.set_constant('central.lambda_0', lxf_erlotinib_estimates.loc['estimate', 'mu lambda_0 in 1/day'])\n",
    "    simulator.set_constant('central.lambda_1', lxf_erlotinib_estimates.loc['estimate', 'mu lambda_1 in cm^3/day'])\n",
    "    simulator.set_constant('central.kappa', lxf_erlotinib_estimates.loc['estimate', 'mu kappa in L/mg/day'])\n",
    "\n",
    "    # Simulate individual\n",
    "    # Define logged variable\n",
    "    loggedVariable = 'central.volume_t'\n",
    "\n",
    "    # Simulate individual\n",
    "    output = simulator.run(times[-1] + 1, log=[loggedVariable], log_times=times)\n",
    "    result = np.array(output[loggedVariable])\n"
   ]
  },
  {
   "cell_type": "code",
   "execution_count": 96,
   "metadata": {},
   "outputs": [
    {
     "output_type": "display_data",
     "data": {
      "application/vnd.plotly.v1+json": {
       "config": {
        "plotlyServerURL": "https://plot.ly"
       },
       "data": [
        {
         "legendgroup": "LXF A677",
         "name": "LXF A677",
         "type": "scatter",
         "x": [
          0,
          0.30303030303030304,
          0.6060606060606061,
          0.9090909090909092,
          1.2121212121212122,
          1.5151515151515151,
          1.8181818181818183,
          2.121212121212121,
          2.4242424242424243,
          2.7272727272727275,
          3.0303030303030303,
          3.3333333333333335,
          3.6363636363636367,
          3.9393939393939394,
          4.242424242424242,
          4.545454545454546,
          4.848484848484849,
          5.151515151515151,
          5.454545454545455,
          5.757575757575758,
          6.0606060606060606,
          6.363636363636364,
          6.666666666666667,
          6.96969696969697,
          7.272727272727273,
          7.575757575757576,
          7.878787878787879,
          8.181818181818182,
          8.484848484848484,
          8.787878787878789,
          9.090909090909092,
          9.393939393939394,
          9.696969696969697,
          10,
          10.303030303030303,
          10.606060606060606,
          10.90909090909091,
          11.212121212121213,
          11.515151515151516,
          11.818181818181818,
          12.121212121212121,
          12.424242424242424,
          12.727272727272728,
          13.030303030303031,
          13.333333333333334,
          13.636363636363637,
          13.93939393939394,
          14.242424242424242,
          14.545454545454547,
          14.84848484848485,
          15.151515151515152,
          15.454545454545455,
          15.757575757575758,
          16.060606060606062,
          16.363636363636363,
          16.666666666666668,
          16.96969696969697,
          17.272727272727273,
          17.575757575757578,
          17.87878787878788,
          18.181818181818183,
          18.484848484848484,
          18.78787878787879,
          19.09090909090909,
          19.393939393939394,
          19.6969696969697,
          20,
          20.303030303030305,
          20.606060606060606,
          20.90909090909091,
          21.21212121212121,
          21.515151515151516,
          21.81818181818182,
          22.12121212121212,
          22.424242424242426,
          22.727272727272727,
          23.03030303030303,
          23.333333333333336,
          23.636363636363637,
          23.93939393939394,
          24.242424242424242,
          24.545454545454547,
          24.848484848484848,
          25.151515151515152,
          25.454545454545457,
          25.757575757575758,
          26.060606060606062,
          26.363636363636363,
          26.666666666666668,
          26.96969696969697,
          27.272727272727273,
          27.575757575757578,
          27.87878787878788,
          28.181818181818183,
          28.484848484848484,
          28.78787878787879,
          29.090909090909093,
          29.393939393939394,
          29.6969696969697,
          30
         ],
         "y": [
          0.122,
          0.1282013703797041,
          0.13464405694449635,
          0.1413514257855605,
          0.14833092352154617,
          0.15558860617612005,
          0.16313053970754582,
          0.17096740083544212,
          0.17909935168181731,
          0.18752747928273036,
          0.19116088446548968,
          0.1648569070350929,
          0.16927961113594084,
          0.1769772128733422,
          0.15206083647586946,
          0.15314874849646176,
          0.1599380702544334,
          0.14373222999081678,
          0.13916260114207776,
          0.14486874197632094,
          0.14211160882516977,
          0.12727290484606335,
          0.13152886859799526,
          0.13787978606221324,
          0.11765689859490329,
          0.11973698543215464,
          0.12541040480498855,
          0.11090095486103857,
          0.10937816900366527,
          0.11427095548041467,
          0.10842527010987756,
          0.10042661239487195,
          0.1043131267816053,
          0.10958156053302182,
          0.09299676179507523,
          0.09542344194394929,
          0.10017510862888492,
          0.08745528095841275,
          0.08752914386472115,
          0.09170366058076218,
          0.08468147440015843,
          0.08061329648983799,
          0.0840708487177052,
          0.0861650804349358,
          0.07474809509737042,
          0.07720178863938092,
          0.08119457335665058,
          0.07016464135400326,
          0.0710473053612948,
          0.07460362147272939,
          0.06741142047570854,
          0.06559409248603297,
          0.06862710942995823,
          0.06766763643388263,
          0.06088642333521118,
          0.06321326429235814,
          0.06658018553745747,
          0.07021192501194679,
          0.07403261711596319,
          0.07804018976143169,
          0.0822406021523523,
          0.08664065572083153,
          0.09124729228982892,
          0.09606751061460253,
          0.10110823615948109,
          0.1063764121376405,
          0.11187900281471325,
          0.11762289977504381,
          0.12361476345756348,
          0.12986119931757173,
          0.1363687383460386,
          0.14314377979197804,
          0.15019266488844804,
          0.15752148529212784,
          0.16513582276461095,
          0.17304110422499822,
          0.1812425992617028,
          0.1897451532617067,
          0.19855353059016928,
          0.20767218877665766,
          0.21710490119354098,
          0.22685601959853016,
          0.2369285256496895,
          0.24732607849095345,
          0.2580512764623694,
          0.269105998162594,
          0.28049212453797057,
          0.29221127330821234,
          0.304264289636617,
          0.31665206714551536,
          0.32937512129033625,
          0.3424334830568048,
          0.355826678489533,
          0.36955433775478536,
          0.3836158001549886,
          0.3980100907022647,
          0.4127346648392919,
          0.42778848128910746,
          0.4431697506404978,
          0.4588765544334367
         ]
        }
       ],
       "layout": {
        "autosize": true,
        "template": {
         "data": {
          "bar": [
           {
            "error_x": {
             "color": "#2a3f5f"
            },
            "error_y": {
             "color": "#2a3f5f"
            },
            "marker": {
             "line": {
              "color": "white",
              "width": 0.5
             }
            },
            "type": "bar"
           }
          ],
          "barpolar": [
           {
            "marker": {
             "line": {
              "color": "white",
              "width": 0.5
             }
            },
            "type": "barpolar"
           }
          ],
          "carpet": [
           {
            "aaxis": {
             "endlinecolor": "#2a3f5f",
             "gridcolor": "#C8D4E3",
             "linecolor": "#C8D4E3",
             "minorgridcolor": "#C8D4E3",
             "startlinecolor": "#2a3f5f"
            },
            "baxis": {
             "endlinecolor": "#2a3f5f",
             "gridcolor": "#C8D4E3",
             "linecolor": "#C8D4E3",
             "minorgridcolor": "#C8D4E3",
             "startlinecolor": "#2a3f5f"
            },
            "type": "carpet"
           }
          ],
          "choropleth": [
           {
            "colorbar": {
             "outlinewidth": 0,
             "ticks": ""
            },
            "type": "choropleth"
           }
          ],
          "contour": [
           {
            "colorbar": {
             "outlinewidth": 0,
             "ticks": ""
            },
            "colorscale": [
             [
              0,
              "#0d0887"
             ],
             [
              0.1111111111111111,
              "#46039f"
             ],
             [
              0.2222222222222222,
              "#7201a8"
             ],
             [
              0.3333333333333333,
              "#9c179e"
             ],
             [
              0.4444444444444444,
              "#bd3786"
             ],
             [
              0.5555555555555556,
              "#d8576b"
             ],
             [
              0.6666666666666666,
              "#ed7953"
             ],
             [
              0.7777777777777778,
              "#fb9f3a"
             ],
             [
              0.8888888888888888,
              "#fdca26"
             ],
             [
              1,
              "#f0f921"
             ]
            ],
            "type": "contour"
           }
          ],
          "contourcarpet": [
           {
            "colorbar": {
             "outlinewidth": 0,
             "ticks": ""
            },
            "type": "contourcarpet"
           }
          ],
          "heatmap": [
           {
            "colorbar": {
             "outlinewidth": 0,
             "ticks": ""
            },
            "colorscale": [
             [
              0,
              "#0d0887"
             ],
             [
              0.1111111111111111,
              "#46039f"
             ],
             [
              0.2222222222222222,
              "#7201a8"
             ],
             [
              0.3333333333333333,
              "#9c179e"
             ],
             [
              0.4444444444444444,
              "#bd3786"
             ],
             [
              0.5555555555555556,
              "#d8576b"
             ],
             [
              0.6666666666666666,
              "#ed7953"
             ],
             [
              0.7777777777777778,
              "#fb9f3a"
             ],
             [
              0.8888888888888888,
              "#fdca26"
             ],
             [
              1,
              "#f0f921"
             ]
            ],
            "type": "heatmap"
           }
          ],
          "heatmapgl": [
           {
            "colorbar": {
             "outlinewidth": 0,
             "ticks": ""
            },
            "colorscale": [
             [
              0,
              "#0d0887"
             ],
             [
              0.1111111111111111,
              "#46039f"
             ],
             [
              0.2222222222222222,
              "#7201a8"
             ],
             [
              0.3333333333333333,
              "#9c179e"
             ],
             [
              0.4444444444444444,
              "#bd3786"
             ],
             [
              0.5555555555555556,
              "#d8576b"
             ],
             [
              0.6666666666666666,
              "#ed7953"
             ],
             [
              0.7777777777777778,
              "#fb9f3a"
             ],
             [
              0.8888888888888888,
              "#fdca26"
             ],
             [
              1,
              "#f0f921"
             ]
            ],
            "type": "heatmapgl"
           }
          ],
          "histogram": [
           {
            "marker": {
             "colorbar": {
              "outlinewidth": 0,
              "ticks": ""
             }
            },
            "type": "histogram"
           }
          ],
          "histogram2d": [
           {
            "colorbar": {
             "outlinewidth": 0,
             "ticks": ""
            },
            "colorscale": [
             [
              0,
              "#0d0887"
             ],
             [
              0.1111111111111111,
              "#46039f"
             ],
             [
              0.2222222222222222,
              "#7201a8"
             ],
             [
              0.3333333333333333,
              "#9c179e"
             ],
             [
              0.4444444444444444,
              "#bd3786"
             ],
             [
              0.5555555555555556,
              "#d8576b"
             ],
             [
              0.6666666666666666,
              "#ed7953"
             ],
             [
              0.7777777777777778,
              "#fb9f3a"
             ],
             [
              0.8888888888888888,
              "#fdca26"
             ],
             [
              1,
              "#f0f921"
             ]
            ],
            "type": "histogram2d"
           }
          ],
          "histogram2dcontour": [
           {
            "colorbar": {
             "outlinewidth": 0,
             "ticks": ""
            },
            "colorscale": [
             [
              0,
              "#0d0887"
             ],
             [
              0.1111111111111111,
              "#46039f"
             ],
             [
              0.2222222222222222,
              "#7201a8"
             ],
             [
              0.3333333333333333,
              "#9c179e"
             ],
             [
              0.4444444444444444,
              "#bd3786"
             ],
             [
              0.5555555555555556,
              "#d8576b"
             ],
             [
              0.6666666666666666,
              "#ed7953"
             ],
             [
              0.7777777777777778,
              "#fb9f3a"
             ],
             [
              0.8888888888888888,
              "#fdca26"
             ],
             [
              1,
              "#f0f921"
             ]
            ],
            "type": "histogram2dcontour"
           }
          ],
          "mesh3d": [
           {
            "colorbar": {
             "outlinewidth": 0,
             "ticks": ""
            },
            "type": "mesh3d"
           }
          ],
          "parcoords": [
           {
            "line": {
             "colorbar": {
              "outlinewidth": 0,
              "ticks": ""
             }
            },
            "type": "parcoords"
           }
          ],
          "pie": [
           {
            "automargin": true,
            "type": "pie"
           }
          ],
          "scatter": [
           {
            "marker": {
             "colorbar": {
              "outlinewidth": 0,
              "ticks": ""
             }
            },
            "type": "scatter"
           }
          ],
          "scatter3d": [
           {
            "line": {
             "colorbar": {
              "outlinewidth": 0,
              "ticks": ""
             }
            },
            "marker": {
             "colorbar": {
              "outlinewidth": 0,
              "ticks": ""
             }
            },
            "type": "scatter3d"
           }
          ],
          "scattercarpet": [
           {
            "marker": {
             "colorbar": {
              "outlinewidth": 0,
              "ticks": ""
             }
            },
            "type": "scattercarpet"
           }
          ],
          "scattergeo": [
           {
            "marker": {
             "colorbar": {
              "outlinewidth": 0,
              "ticks": ""
             }
            },
            "type": "scattergeo"
           }
          ],
          "scattergl": [
           {
            "marker": {
             "colorbar": {
              "outlinewidth": 0,
              "ticks": ""
             }
            },
            "type": "scattergl"
           }
          ],
          "scattermapbox": [
           {
            "marker": {
             "colorbar": {
              "outlinewidth": 0,
              "ticks": ""
             }
            },
            "type": "scattermapbox"
           }
          ],
          "scatterpolar": [
           {
            "marker": {
             "colorbar": {
              "outlinewidth": 0,
              "ticks": ""
             }
            },
            "type": "scatterpolar"
           }
          ],
          "scatterpolargl": [
           {
            "marker": {
             "colorbar": {
              "outlinewidth": 0,
              "ticks": ""
             }
            },
            "type": "scatterpolargl"
           }
          ],
          "scatterternary": [
           {
            "marker": {
             "colorbar": {
              "outlinewidth": 0,
              "ticks": ""
             }
            },
            "type": "scatterternary"
           }
          ],
          "surface": [
           {
            "colorbar": {
             "outlinewidth": 0,
             "ticks": ""
            },
            "colorscale": [
             [
              0,
              "#0d0887"
             ],
             [
              0.1111111111111111,
              "#46039f"
             ],
             [
              0.2222222222222222,
              "#7201a8"
             ],
             [
              0.3333333333333333,
              "#9c179e"
             ],
             [
              0.4444444444444444,
              "#bd3786"
             ],
             [
              0.5555555555555556,
              "#d8576b"
             ],
             [
              0.6666666666666666,
              "#ed7953"
             ],
             [
              0.7777777777777778,
              "#fb9f3a"
             ],
             [
              0.8888888888888888,
              "#fdca26"
             ],
             [
              1,
              "#f0f921"
             ]
            ],
            "type": "surface"
           }
          ],
          "table": [
           {
            "cells": {
             "fill": {
              "color": "#EBF0F8"
             },
             "line": {
              "color": "white"
             }
            },
            "header": {
             "fill": {
              "color": "#C8D4E3"
             },
             "line": {
              "color": "white"
             }
            },
            "type": "table"
           }
          ]
         },
         "layout": {
          "annotationdefaults": {
           "arrowcolor": "#2a3f5f",
           "arrowhead": 0,
           "arrowwidth": 1
          },
          "coloraxis": {
           "colorbar": {
            "outlinewidth": 0,
            "ticks": ""
           }
          },
          "colorscale": {
           "diverging": [
            [
             0,
             "#8e0152"
            ],
            [
             0.1,
             "#c51b7d"
            ],
            [
             0.2,
             "#de77ae"
            ],
            [
             0.3,
             "#f1b6da"
            ],
            [
             0.4,
             "#fde0ef"
            ],
            [
             0.5,
             "#f7f7f7"
            ],
            [
             0.6,
             "#e6f5d0"
            ],
            [
             0.7,
             "#b8e186"
            ],
            [
             0.8,
             "#7fbc41"
            ],
            [
             0.9,
             "#4d9221"
            ],
            [
             1,
             "#276419"
            ]
           ],
           "sequential": [
            [
             0,
             "#0d0887"
            ],
            [
             0.1111111111111111,
             "#46039f"
            ],
            [
             0.2222222222222222,
             "#7201a8"
            ],
            [
             0.3333333333333333,
             "#9c179e"
            ],
            [
             0.4444444444444444,
             "#bd3786"
            ],
            [
             0.5555555555555556,
             "#d8576b"
            ],
            [
             0.6666666666666666,
             "#ed7953"
            ],
            [
             0.7777777777777778,
             "#fb9f3a"
            ],
            [
             0.8888888888888888,
             "#fdca26"
            ],
            [
             1,
             "#f0f921"
            ]
           ],
           "sequentialminus": [
            [
             0,
             "#0d0887"
            ],
            [
             0.1111111111111111,
             "#46039f"
            ],
            [
             0.2222222222222222,
             "#7201a8"
            ],
            [
             0.3333333333333333,
             "#9c179e"
            ],
            [
             0.4444444444444444,
             "#bd3786"
            ],
            [
             0.5555555555555556,
             "#d8576b"
            ],
            [
             0.6666666666666666,
             "#ed7953"
            ],
            [
             0.7777777777777778,
             "#fb9f3a"
            ],
            [
             0.8888888888888888,
             "#fdca26"
            ],
            [
             1,
             "#f0f921"
            ]
           ]
          },
          "colorway": [
           "#636efa",
           "#EF553B",
           "#00cc96",
           "#ab63fa",
           "#FFA15A",
           "#19d3f3",
           "#FF6692",
           "#B6E880",
           "#FF97FF",
           "#FECB52"
          ],
          "font": {
           "color": "#2a3f5f"
          },
          "geo": {
           "bgcolor": "white",
           "lakecolor": "white",
           "landcolor": "white",
           "showlakes": true,
           "showland": true,
           "subunitcolor": "#C8D4E3"
          },
          "hoverlabel": {
           "align": "left"
          },
          "hovermode": "closest",
          "mapbox": {
           "style": "light"
          },
          "paper_bgcolor": "white",
          "plot_bgcolor": "white",
          "polar": {
           "angularaxis": {
            "gridcolor": "#EBF0F8",
            "linecolor": "#EBF0F8",
            "ticks": ""
           },
           "bgcolor": "white",
           "radialaxis": {
            "gridcolor": "#EBF0F8",
            "linecolor": "#EBF0F8",
            "ticks": ""
           }
          },
          "scene": {
           "xaxis": {
            "backgroundcolor": "white",
            "gridcolor": "#DFE8F3",
            "gridwidth": 2,
            "linecolor": "#EBF0F8",
            "showbackground": true,
            "ticks": "",
            "zerolinecolor": "#EBF0F8"
           },
           "yaxis": {
            "backgroundcolor": "white",
            "gridcolor": "#DFE8F3",
            "gridwidth": 2,
            "linecolor": "#EBF0F8",
            "showbackground": true,
            "ticks": "",
            "zerolinecolor": "#EBF0F8"
           },
           "zaxis": {
            "backgroundcolor": "white",
            "gridcolor": "#DFE8F3",
            "gridwidth": 2,
            "linecolor": "#EBF0F8",
            "showbackground": true,
            "ticks": "",
            "zerolinecolor": "#EBF0F8"
           }
          },
          "shapedefaults": {
           "line": {
            "color": "#2a3f5f"
           }
          },
          "ternary": {
           "aaxis": {
            "gridcolor": "#DFE8F3",
            "linecolor": "#A2B1C6",
            "ticks": ""
           },
           "baxis": {
            "gridcolor": "#DFE8F3",
            "linecolor": "#A2B1C6",
            "ticks": ""
           },
           "bgcolor": "white",
           "caxis": {
            "gridcolor": "#DFE8F3",
            "linecolor": "#A2B1C6",
            "ticks": ""
           }
          },
          "title": {
           "x": 0.05
          },
          "xaxis": {
           "automargin": true,
           "gridcolor": "#EBF0F8",
           "linecolor": "#EBF0F8",
           "ticks": "",
           "title": {
            "standoff": 15
           },
           "zerolinecolor": "#EBF0F8",
           "zerolinewidth": 2
          },
          "yaxis": {
           "automargin": true,
           "gridcolor": "#EBF0F8",
           "linecolor": "#EBF0F8",
           "ticks": "",
           "title": {
            "standoff": 15
           },
           "zerolinecolor": "#EBF0F8",
           "zerolinewidth": 2
          }
         }
        },
        "updatemenus": [
         {
          "buttons": [
           {
            "args": [
             {
              "yaxis.type": "linear"
             }
            ],
            "label": "Linear y-scale",
            "method": "relayout"
           },
           {
            "args": [
             {
              "yaxis.type": "log"
             }
            ],
            "label": "Log y-scale",
            "method": "relayout"
           }
          ],
          "direction": "left",
          "pad": {
           "r": 0,
           "t": -10
          },
          "showactive": true,
          "type": "buttons",
          "x": 0.11,
          "xanchor": "left",
          "y": 1.1,
          "yanchor": "top"
         }
        ],
        "xaxis": {
         "title": {
          "text": "$\\text{Time in day}$"
         }
        },
        "yaxis": {
         "title": {
          "text": "$\\text{Tumour volume in cm}^3$"
         }
        }
       }
      }
     },
     "metadata": {}
    }
   ],
   "source": [
    "#\n",
    "# Illustrate PKPD simulation.\n",
    "#\n",
    "\n",
    "import plotly.io\n",
    "import plotly.graph_objects as go\n",
    "\n",
    "\n",
    "# Create figure\n",
    "fig = go.Figure()\n",
    "\n",
    "# Plot data\n",
    "fig.add_trace(go.Scatter(\n",
    "    x=times,\n",
    "    y=result,\n",
    "    legendgroup=\"LXF A677\",\n",
    "    name=\"LXF A677\"))\n",
    "\n",
    "# Set X, Y axis and figure size\n",
    "fig.update_layout(\n",
    "    autosize=True,\n",
    "    xaxis_title=r'$\\text{Time in day}$',\n",
    "    yaxis_title=r'$\\text{Tumour volume in cm}^3$',\n",
    "    template=\"plotly_white\")\n",
    "\n",
    "# Add switch between linear and log y-scale\n",
    "fig.update_layout(\n",
    "    updatemenus=[\n",
    "        dict(\n",
    "            type = \"buttons\",\n",
    "            direction = \"left\",\n",
    "            buttons=list([\n",
    "                dict(\n",
    "                    args=[{\"yaxis.type\": \"linear\"}],\n",
    "                    label=\"Linear y-scale\",\n",
    "                    method=\"relayout\"\n",
    "                ),\n",
    "                dict(\n",
    "                    args=[{\"yaxis.type\": \"log\"}],\n",
    "                    label=\"Log y-scale\",\n",
    "                    method=\"relayout\"\n",
    "                )\n",
    "            ]),\n",
    "            pad={\"r\": 0, \"t\": -10},\n",
    "            showactive=True,\n",
    "            x=0.11,\n",
    "            xanchor=\"left\",\n",
    "            y=1.1,\n",
    "            yanchor=\"top\"\n",
    "        ),\n",
    "    ]\n",
    ")\n",
    "\n",
    "# Show figure\n",
    "fig.show()\n"
   ]
  },
  {
   "cell_type": "code",
   "execution_count": 20,
   "metadata": {},
   "outputs": [
    {
     "output_type": "display_data",
     "data": {
      "application/vnd.plotly.v1+json": {
       "config": {
        "plotlyServerURL": "https://plot.ly"
       },
       "data": [
        {
         "hovertemplate": "Potency of Erlotinib: %{x:.02f} L/mg/day<br>Probability density in population: %{y:.02f}<br><extra></extra>",
         "mode": "lines",
         "name": "LXF A677",
         "type": "scatter",
         "x": [
          0.01,
          0.010781895093053743,
          0.011624926179761637,
          0.0125338734534684,
          0.01351389086849075,
          0.01457053536430442,
          0.015709798374755987,
          0.016938139800964532,
          0.018262524640547777,
          0.019690462480869513,
          0.021230050080244586,
          0.02289001727854743,
          0.024679776497548593,
          0.026609476111658224,
          0.02869005799170186,
          0.030933319548015776,
          0.03335198062466147,
          0.0359597556240661,
          0.03877143127105301,
          0.04180295045720368,
          0.04507150264096931,
          0.04859562131612258,
          0.052395289101219995,
          0.05649205104595761,
          0.06090913679689519,
          0.06567159231525833,
          0.07080642189369098,
          0.07634274127722798,
          0.08231194275672159,
          0.0887478731708417,
          0.09568702582596546,
          0.10316874742218837,
          0.11123546115877937,
          0.11993290728414135,
          0.12931040245425532,
          0.139421119370234,
          0.1503223882805986,
          0.16207602205787056,
          0.17474866669274255,
          0.1884121791932165,
          0.20314403503149034,
          0.21902776744891633,
          0.23615344110999875,
          0.2546181627911651,
          0.27452663200004224,
          0.2959917346473826,
          0.319135183137908,
          0.3440882065095418,
          0.37099229453428917,
          0.4
         ],
         "y": [
          0.05176318003516785,
          0.07352961154084209,
          0.10307393489938266,
          0.1425872527965301,
          0.19465152436067654,
          0.2622286736444307,
          0.3486163962314813,
          0.45736265637968027,
          0.5921324416186887,
          0.756523236006865,
          0.9538299368284737,
          1.1867654331940574,
          1.4571494240080078,
          1.7655846784843787,
          2.111146033005219,
          2.4911120431280147,
          2.9007714258491086,
          3.3333354252623466,
          3.7799824946002243,
          4.2300531183393755,
          4.671400631173694,
          5.090889502726038,
          5.475017204384693,
          5.810621239998102,
          6.0856210854696045,
          6.289737350515174,
          6.415128712112585,
          6.456891669832596,
          6.413378735282393,
          6.286306275677819,
          6.080642171630852,
          5.80428353861245,
          5.467553653892736,
          5.0825627498595765,
          4.6624877794171615,
          4.220830630042407,
          3.770712374040747,
          3.3242536053842993,
          2.892079002993303,
          2.4829696897649827,
          2.1036716068302046,
          1.7588537711920622,
          1.4511983799520018,
          1.181596231398791,
          0.9494162726393941,
          0.7528171542391191,
          0.5890709471198873,
          0.45487384185289026,
          0.3466247612241338,
          0.2606594446603914
         ]
        },
        {
         "hovertemplate": "Potency of Erlotinib: %{x:.02f} L/mg/day<br>Probability density in population: %{y:.02f}<br><extra></extra>",
         "mode": "lines",
         "name": "VXF A431",
         "type": "scatter",
         "x": [
          0.01,
          0.010781895093053743,
          0.011624926179761637,
          0.0125338734534684,
          0.01351389086849075,
          0.01457053536430442,
          0.015709798374755987,
          0.016938139800964532,
          0.018262524640547777,
          0.019690462480869513,
          0.021230050080244586,
          0.02289001727854743,
          0.024679776497548593,
          0.026609476111658224,
          0.02869005799170186,
          0.030933319548015776,
          0.03335198062466147,
          0.0359597556240661,
          0.03877143127105301,
          0.04180295045720368,
          0.04507150264096931,
          0.04859562131612258,
          0.052395289101219995,
          0.05649205104595761,
          0.06090913679689519,
          0.06567159231525833,
          0.07080642189369098,
          0.07634274127722798,
          0.08231194275672159,
          0.0887478731708417,
          0.09568702582596546,
          0.10316874742218837,
          0.11123546115877937,
          0.11993290728414135,
          0.12931040245425532,
          0.139421119370234,
          0.1503223882805986,
          0.16207602205787056,
          0.17474866669274255,
          0.1884121791932165,
          0.20314403503149034,
          0.21902776744891633,
          0.23615344110999875,
          0.2546181627911651,
          0.27452663200004224,
          0.2959917346473826,
          0.319135183137908,
          0.3440882065095418,
          0.37099229453428917,
          0.4
         ],
         "y": [
          4.073212691284754,
          5.0854170847210085,
          6.244874881167925,
          7.5427303060292035,
          8.960682552066073,
          10.470351909802229,
          12.033421787671701,
          13.602686055528821,
          15.124042335946504,
          16.539362588723268,
          17.790056459794116,
          18.821037449353216,
          19.584724451222712,
          20.044676271227193,
          20.178473182733196,
          19.979528342657503,
          19.45762528722649,
          18.63812043769761,
          17.55990112988129,
          16.272328128348136,
          14.831497205018149,
          13.296213182403777,
          11.724075847623862,
          10.168032915161794,
          8.673670935573579,
          7.277406164844878,
          6.005621550049455,
          4.874689775172474,
          3.891738743709732,
          3.0559626905989967,
          2.3602613343063865,
          1.7929980211368088,
          1.33969890666292,
          0.9845601866710204,
          0.711680409656865,
          0.5059824187818918,
          0.3538290746788211,
          0.24336565079381692,
          0.1646389999142972,
          0.10955036581564871,
          0.07169726995585232,
          0.04615290909755108,
          0.029221547827423526,
          0.018197638196584095,
          0.011146397082950638,
          0.006715242013379495,
          0.0039792067246437164,
          0.002319204307729691,
          0.0013295025984121666,
          0.0007496301512583699
         ]
        }
       ],
       "layout": {
        "autosize": true,
        "template": {
         "data": {
          "bar": [
           {
            "error_x": {
             "color": "#2a3f5f"
            },
            "error_y": {
             "color": "#2a3f5f"
            },
            "marker": {
             "line": {
              "color": "white",
              "width": 0.5
             }
            },
            "type": "bar"
           }
          ],
          "barpolar": [
           {
            "marker": {
             "line": {
              "color": "white",
              "width": 0.5
             }
            },
            "type": "barpolar"
           }
          ],
          "carpet": [
           {
            "aaxis": {
             "endlinecolor": "#2a3f5f",
             "gridcolor": "#C8D4E3",
             "linecolor": "#C8D4E3",
             "minorgridcolor": "#C8D4E3",
             "startlinecolor": "#2a3f5f"
            },
            "baxis": {
             "endlinecolor": "#2a3f5f",
             "gridcolor": "#C8D4E3",
             "linecolor": "#C8D4E3",
             "minorgridcolor": "#C8D4E3",
             "startlinecolor": "#2a3f5f"
            },
            "type": "carpet"
           }
          ],
          "choropleth": [
           {
            "colorbar": {
             "outlinewidth": 0,
             "ticks": ""
            },
            "type": "choropleth"
           }
          ],
          "contour": [
           {
            "colorbar": {
             "outlinewidth": 0,
             "ticks": ""
            },
            "colorscale": [
             [
              0,
              "#0d0887"
             ],
             [
              0.1111111111111111,
              "#46039f"
             ],
             [
              0.2222222222222222,
              "#7201a8"
             ],
             [
              0.3333333333333333,
              "#9c179e"
             ],
             [
              0.4444444444444444,
              "#bd3786"
             ],
             [
              0.5555555555555556,
              "#d8576b"
             ],
             [
              0.6666666666666666,
              "#ed7953"
             ],
             [
              0.7777777777777778,
              "#fb9f3a"
             ],
             [
              0.8888888888888888,
              "#fdca26"
             ],
             [
              1,
              "#f0f921"
             ]
            ],
            "type": "contour"
           }
          ],
          "contourcarpet": [
           {
            "colorbar": {
             "outlinewidth": 0,
             "ticks": ""
            },
            "type": "contourcarpet"
           }
          ],
          "heatmap": [
           {
            "colorbar": {
             "outlinewidth": 0,
             "ticks": ""
            },
            "colorscale": [
             [
              0,
              "#0d0887"
             ],
             [
              0.1111111111111111,
              "#46039f"
             ],
             [
              0.2222222222222222,
              "#7201a8"
             ],
             [
              0.3333333333333333,
              "#9c179e"
             ],
             [
              0.4444444444444444,
              "#bd3786"
             ],
             [
              0.5555555555555556,
              "#d8576b"
             ],
             [
              0.6666666666666666,
              "#ed7953"
             ],
             [
              0.7777777777777778,
              "#fb9f3a"
             ],
             [
              0.8888888888888888,
              "#fdca26"
             ],
             [
              1,
              "#f0f921"
             ]
            ],
            "type": "heatmap"
           }
          ],
          "heatmapgl": [
           {
            "colorbar": {
             "outlinewidth": 0,
             "ticks": ""
            },
            "colorscale": [
             [
              0,
              "#0d0887"
             ],
             [
              0.1111111111111111,
              "#46039f"
             ],
             [
              0.2222222222222222,
              "#7201a8"
             ],
             [
              0.3333333333333333,
              "#9c179e"
             ],
             [
              0.4444444444444444,
              "#bd3786"
             ],
             [
              0.5555555555555556,
              "#d8576b"
             ],
             [
              0.6666666666666666,
              "#ed7953"
             ],
             [
              0.7777777777777778,
              "#fb9f3a"
             ],
             [
              0.8888888888888888,
              "#fdca26"
             ],
             [
              1,
              "#f0f921"
             ]
            ],
            "type": "heatmapgl"
           }
          ],
          "histogram": [
           {
            "marker": {
             "colorbar": {
              "outlinewidth": 0,
              "ticks": ""
             }
            },
            "type": "histogram"
           }
          ],
          "histogram2d": [
           {
            "colorbar": {
             "outlinewidth": 0,
             "ticks": ""
            },
            "colorscale": [
             [
              0,
              "#0d0887"
             ],
             [
              0.1111111111111111,
              "#46039f"
             ],
             [
              0.2222222222222222,
              "#7201a8"
             ],
             [
              0.3333333333333333,
              "#9c179e"
             ],
             [
              0.4444444444444444,
              "#bd3786"
             ],
             [
              0.5555555555555556,
              "#d8576b"
             ],
             [
              0.6666666666666666,
              "#ed7953"
             ],
             [
              0.7777777777777778,
              "#fb9f3a"
             ],
             [
              0.8888888888888888,
              "#fdca26"
             ],
             [
              1,
              "#f0f921"
             ]
            ],
            "type": "histogram2d"
           }
          ],
          "histogram2dcontour": [
           {
            "colorbar": {
             "outlinewidth": 0,
             "ticks": ""
            },
            "colorscale": [
             [
              0,
              "#0d0887"
             ],
             [
              0.1111111111111111,
              "#46039f"
             ],
             [
              0.2222222222222222,
              "#7201a8"
             ],
             [
              0.3333333333333333,
              "#9c179e"
             ],
             [
              0.4444444444444444,
              "#bd3786"
             ],
             [
              0.5555555555555556,
              "#d8576b"
             ],
             [
              0.6666666666666666,
              "#ed7953"
             ],
             [
              0.7777777777777778,
              "#fb9f3a"
             ],
             [
              0.8888888888888888,
              "#fdca26"
             ],
             [
              1,
              "#f0f921"
             ]
            ],
            "type": "histogram2dcontour"
           }
          ],
          "mesh3d": [
           {
            "colorbar": {
             "outlinewidth": 0,
             "ticks": ""
            },
            "type": "mesh3d"
           }
          ],
          "parcoords": [
           {
            "line": {
             "colorbar": {
              "outlinewidth": 0,
              "ticks": ""
             }
            },
            "type": "parcoords"
           }
          ],
          "pie": [
           {
            "automargin": true,
            "type": "pie"
           }
          ],
          "scatter": [
           {
            "marker": {
             "colorbar": {
              "outlinewidth": 0,
              "ticks": ""
             }
            },
            "type": "scatter"
           }
          ],
          "scatter3d": [
           {
            "line": {
             "colorbar": {
              "outlinewidth": 0,
              "ticks": ""
             }
            },
            "marker": {
             "colorbar": {
              "outlinewidth": 0,
              "ticks": ""
             }
            },
            "type": "scatter3d"
           }
          ],
          "scattercarpet": [
           {
            "marker": {
             "colorbar": {
              "outlinewidth": 0,
              "ticks": ""
             }
            },
            "type": "scattercarpet"
           }
          ],
          "scattergeo": [
           {
            "marker": {
             "colorbar": {
              "outlinewidth": 0,
              "ticks": ""
             }
            },
            "type": "scattergeo"
           }
          ],
          "scattergl": [
           {
            "marker": {
             "colorbar": {
              "outlinewidth": 0,
              "ticks": ""
             }
            },
            "type": "scattergl"
           }
          ],
          "scattermapbox": [
           {
            "marker": {
             "colorbar": {
              "outlinewidth": 0,
              "ticks": ""
             }
            },
            "type": "scattermapbox"
           }
          ],
          "scatterpolar": [
           {
            "marker": {
             "colorbar": {
              "outlinewidth": 0,
              "ticks": ""
             }
            },
            "type": "scatterpolar"
           }
          ],
          "scatterpolargl": [
           {
            "marker": {
             "colorbar": {
              "outlinewidth": 0,
              "ticks": ""
             }
            },
            "type": "scatterpolargl"
           }
          ],
          "scatterternary": [
           {
            "marker": {
             "colorbar": {
              "outlinewidth": 0,
              "ticks": ""
             }
            },
            "type": "scatterternary"
           }
          ],
          "surface": [
           {
            "colorbar": {
             "outlinewidth": 0,
             "ticks": ""
            },
            "colorscale": [
             [
              0,
              "#0d0887"
             ],
             [
              0.1111111111111111,
              "#46039f"
             ],
             [
              0.2222222222222222,
              "#7201a8"
             ],
             [
              0.3333333333333333,
              "#9c179e"
             ],
             [
              0.4444444444444444,
              "#bd3786"
             ],
             [
              0.5555555555555556,
              "#d8576b"
             ],
             [
              0.6666666666666666,
              "#ed7953"
             ],
             [
              0.7777777777777778,
              "#fb9f3a"
             ],
             [
              0.8888888888888888,
              "#fdca26"
             ],
             [
              1,
              "#f0f921"
             ]
            ],
            "type": "surface"
           }
          ],
          "table": [
           {
            "cells": {
             "fill": {
              "color": "#EBF0F8"
             },
             "line": {
              "color": "white"
             }
            },
            "header": {
             "fill": {
              "color": "#C8D4E3"
             },
             "line": {
              "color": "white"
             }
            },
            "type": "table"
           }
          ]
         },
         "layout": {
          "annotationdefaults": {
           "arrowcolor": "#2a3f5f",
           "arrowhead": 0,
           "arrowwidth": 1
          },
          "coloraxis": {
           "colorbar": {
            "outlinewidth": 0,
            "ticks": ""
           }
          },
          "colorscale": {
           "diverging": [
            [
             0,
             "#8e0152"
            ],
            [
             0.1,
             "#c51b7d"
            ],
            [
             0.2,
             "#de77ae"
            ],
            [
             0.3,
             "#f1b6da"
            ],
            [
             0.4,
             "#fde0ef"
            ],
            [
             0.5,
             "#f7f7f7"
            ],
            [
             0.6,
             "#e6f5d0"
            ],
            [
             0.7,
             "#b8e186"
            ],
            [
             0.8,
             "#7fbc41"
            ],
            [
             0.9,
             "#4d9221"
            ],
            [
             1,
             "#276419"
            ]
           ],
           "sequential": [
            [
             0,
             "#0d0887"
            ],
            [
             0.1111111111111111,
             "#46039f"
            ],
            [
             0.2222222222222222,
             "#7201a8"
            ],
            [
             0.3333333333333333,
             "#9c179e"
            ],
            [
             0.4444444444444444,
             "#bd3786"
            ],
            [
             0.5555555555555556,
             "#d8576b"
            ],
            [
             0.6666666666666666,
             "#ed7953"
            ],
            [
             0.7777777777777778,
             "#fb9f3a"
            ],
            [
             0.8888888888888888,
             "#fdca26"
            ],
            [
             1,
             "#f0f921"
            ]
           ],
           "sequentialminus": [
            [
             0,
             "#0d0887"
            ],
            [
             0.1111111111111111,
             "#46039f"
            ],
            [
             0.2222222222222222,
             "#7201a8"
            ],
            [
             0.3333333333333333,
             "#9c179e"
            ],
            [
             0.4444444444444444,
             "#bd3786"
            ],
            [
             0.5555555555555556,
             "#d8576b"
            ],
            [
             0.6666666666666666,
             "#ed7953"
            ],
            [
             0.7777777777777778,
             "#fb9f3a"
            ],
            [
             0.8888888888888888,
             "#fdca26"
            ],
            [
             1,
             "#f0f921"
            ]
           ]
          },
          "colorway": [
           "#636efa",
           "#EF553B",
           "#00cc96",
           "#ab63fa",
           "#FFA15A",
           "#19d3f3",
           "#FF6692",
           "#B6E880",
           "#FF97FF",
           "#FECB52"
          ],
          "font": {
           "color": "#2a3f5f"
          },
          "geo": {
           "bgcolor": "white",
           "lakecolor": "white",
           "landcolor": "white",
           "showlakes": true,
           "showland": true,
           "subunitcolor": "#C8D4E3"
          },
          "hoverlabel": {
           "align": "left"
          },
          "hovermode": "closest",
          "mapbox": {
           "style": "light"
          },
          "paper_bgcolor": "white",
          "plot_bgcolor": "white",
          "polar": {
           "angularaxis": {
            "gridcolor": "#EBF0F8",
            "linecolor": "#EBF0F8",
            "ticks": ""
           },
           "bgcolor": "white",
           "radialaxis": {
            "gridcolor": "#EBF0F8",
            "linecolor": "#EBF0F8",
            "ticks": ""
           }
          },
          "scene": {
           "xaxis": {
            "backgroundcolor": "white",
            "gridcolor": "#DFE8F3",
            "gridwidth": 2,
            "linecolor": "#EBF0F8",
            "showbackground": true,
            "ticks": "",
            "zerolinecolor": "#EBF0F8"
           },
           "yaxis": {
            "backgroundcolor": "white",
            "gridcolor": "#DFE8F3",
            "gridwidth": 2,
            "linecolor": "#EBF0F8",
            "showbackground": true,
            "ticks": "",
            "zerolinecolor": "#EBF0F8"
           },
           "zaxis": {
            "backgroundcolor": "white",
            "gridcolor": "#DFE8F3",
            "gridwidth": 2,
            "linecolor": "#EBF0F8",
            "showbackground": true,
            "ticks": "",
            "zerolinecolor": "#EBF0F8"
           }
          },
          "shapedefaults": {
           "line": {
            "color": "#2a3f5f"
           }
          },
          "ternary": {
           "aaxis": {
            "gridcolor": "#DFE8F3",
            "linecolor": "#A2B1C6",
            "ticks": ""
           },
           "baxis": {
            "gridcolor": "#DFE8F3",
            "linecolor": "#A2B1C6",
            "ticks": ""
           },
           "bgcolor": "white",
           "caxis": {
            "gridcolor": "#DFE8F3",
            "linecolor": "#A2B1C6",
            "ticks": ""
           }
          },
          "title": {
           "x": 0.05
          },
          "xaxis": {
           "automargin": true,
           "gridcolor": "#EBF0F8",
           "linecolor": "#EBF0F8",
           "ticks": "",
           "title": {
            "standoff": 15
           },
           "zerolinecolor": "#EBF0F8",
           "zerolinewidth": 2
          },
          "yaxis": {
           "automargin": true,
           "gridcolor": "#EBF0F8",
           "linecolor": "#EBF0F8",
           "ticks": "",
           "title": {
            "standoff": 15
           },
           "zerolinecolor": "#EBF0F8",
           "zerolinewidth": 2
          }
         }
        },
        "updatemenus": [
         {
          "buttons": [
           {
            "args": [
             {
              "xaxis.type": "linear"
             }
            ],
            "label": "Linear x-scale",
            "method": "relayout"
           },
           {
            "args": [
             {
              "xaxis.type": "log"
             }
            ],
            "label": "Log x-scale",
            "method": "relayout"
           }
          ],
          "direction": "left",
          "pad": {
           "r": 0,
           "t": -10
          },
          "showactive": true,
          "type": "buttons",
          "x": 0.11,
          "xanchor": "left",
          "y": 1.1,
          "yanchor": "top"
         }
        ],
        "xaxis": {
         "title": {
          "text": "$\\text{Erlotinib potency }\\kappa \\text{ in L/mg/day}$"
         }
        },
        "yaxis": {
         "title": {
          "text": "$\\text{Probability density in population}$"
         }
        }
       }
      }
     },
     "metadata": {}
    }
   ],
   "source": [
    "#\n",
    "# Illustration of Erlotinib's potency population distribution for LXF A677 mice assuming estimate for population mean and standard deviation in [1] were exact.\n",
    "#\n",
    "\n",
    "import numpy as np\n",
    "import plotly.graph_objects as go\n",
    "from scipy.stats import lognorm\n",
    "\n",
    "\n",
    "# Estimates for mean and s.d. kappa from Table 1, LXF A677\n",
    "mean = 0.117  # in \"log(L/mg/day)\"\n",
    "sd = 0.654  # in \"log(L/mg/day)\"\n",
    "\n",
    "# Get 1st and 99th percentile\n",
    "start = -2  \n",
    "end = np.log10(0.4)\n",
    "\n",
    "# Trace out probability density\n",
    "lxf_kappa = np.logspace(start=start, stop=end)\n",
    "lxf_pdf = lognorm.pdf(lxf_kappa, scale=mean, s=sd)\n",
    "\n",
    "# Estimates for mean and s.d. kappa from Table 1, LXF A677\n",
    "mean = 0.0401  # in \"log(L/mg/day)\"\n",
    "sd = 0.585  # in \"log(L/mg/day)\"\n",
    "\n",
    "# Get 1st and 99th percentile\n",
    "start = -2  \n",
    "end = np.log10(0.4)\n",
    "\n",
    "# Trace out probability density\n",
    "vxf_kappa = np.logspace(start=start, stop=end)\n",
    "vxf_pdf = lognorm.pdf(vxf_kappa, scale=mean, s=sd)  # log(x/mean) = log(x) - log(mean)\n",
    "\n",
    "# Create figure\n",
    "fig = go.Figure()\n",
    "\n",
    "# Plot dsitribution of kappa for LXF A677\n",
    "fig.add_trace(go.Scatter(\n",
    "    x=lxf_kappa,\n",
    "    y=lxf_pdf,\n",
    "    name='LXF A677',\n",
    "    hovertemplate=\n",
    "        \"Potency of Erlotinib: %{x:.02f} L/mg/day<br>\" +\n",
    "        \"Probability density in population: %{y:.02f}<br>\" +\n",
    "        \"<extra></extra>\",\n",
    "    mode=\"lines\",\n",
    "))\n",
    "\n",
    "# Plot distribution of kappa for VXF A431\n",
    "fig.add_trace(go.Scatter(\n",
    "    x=vxf_kappa,\n",
    "    y=vxf_pdf,\n",
    "    name='VXF A431',\n",
    "    hovertemplate=\n",
    "        \"Potency of Erlotinib: %{x:.02f} L/mg/day<br>\" +\n",
    "        \"Probability density in population: %{y:.02f}<br>\" +\n",
    "        \"<extra></extra>\",\n",
    "    mode=\"lines\",\n",
    "))\n",
    "\n",
    "# Set X, Y axis and figure size\n",
    "fig.update_layout(\n",
    "    autosize=True,\n",
    "    xaxis_title=r'$\\text{Erlotinib potency }\\kappa \\text{ in L/mg/day}$',\n",
    "    yaxis_title=r'$\\text{Probability density in population}$',\n",
    "    template=\"plotly_white\")\n",
    "\n",
    "# Add switch between linear and log y-scale\n",
    "fig.update_layout(\n",
    "    updatemenus=[\n",
    "        dict(\n",
    "            type = \"buttons\",\n",
    "            direction = \"left\",\n",
    "            buttons=list([\n",
    "                dict(\n",
    "                    args=[{\"xaxis.type\": \"linear\"}],\n",
    "                    label=\"Linear x-scale\",\n",
    "                    method=\"relayout\"\n",
    "                ),\n",
    "                dict(\n",
    "                    args=[{\"xaxis.type\": \"log\"}],\n",
    "                    label=\"Log x-scale\",\n",
    "                    method=\"relayout\"\n",
    "                )\n",
    "            ]),\n",
    "            pad={\"r\": 0, \"t\": -10},\n",
    "            showactive=True,\n",
    "            x=0.11,\n",
    "            xanchor=\"left\",\n",
    "            y=1.1,\n",
    "            yanchor=\"top\"\n",
    "        ),\n",
    "    ]\n",
    ")\n",
    "\n",
    "# Show figure\n",
    "fig.show()"
   ]
  },
  {
   "cell_type": "code",
   "execution_count": 6,
   "metadata": {},
   "outputs": [
    {
     "output_type": "execute_result",
     "data": {
      "text/plain": "0.20876826722338207"
     },
     "metadata": {},
     "execution_count": 6
    }
   ],
   "source": [
    "# Check whether analytical expressions exist for lognormal with uncertain mean and variance\n",
    "# Plot population dose-response curve predictions (including all uncertainty of possible)"
   ]
  },
  {
   "cell_type": "markdown",
   "metadata": {},
   "source": [
    "## Bibliography\n",
    "\n",
    "- <a name=\"ref1\"> [1] </a> Eigenmann et. al., Combining Nonclinical Experiments with Translational PKPD Modeling to Differentiate Erlotinib and Gefitinib, Mol Cancer Ther (2016)"
   ]
  },
  {
   "cell_type": "code",
   "execution_count": null,
   "metadata": {},
   "outputs": [],
   "source": []
  }
 ],
 "metadata": {
  "language_info": {
   "codemirror_mode": {
    "name": "ipython",
    "version": 3
   },
   "file_extension": ".py",
   "mimetype": "text/x-python",
   "name": "python",
   "nbconvert_exporter": "python",
   "pygments_lexer": "ipython3",
   "version": "3.7.5-final"
  },
  "orig_nbformat": 2,
  "kernelspec": {
   "name": "python37564bitvenvvenv6a1cf9e436c848d3930f390a42386651",
   "display_name": "Python 3.7.5 64-bit ('venv': venv)"
  }
 },
 "nbformat": 4,
 "nbformat_minor": 2
}