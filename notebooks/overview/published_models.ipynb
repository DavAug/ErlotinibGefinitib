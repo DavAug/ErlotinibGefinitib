{
 "cells": [
  {
   "cell_type": "markdown",
   "metadata": {},
   "source": [
    "# Exploration of Published Models\n",
    "\n",
    "The tumour growth inhibiting effects of Erlotininb and Gefitinib were modelled with a population PKPD model in [1]. A population PKPD model is a hierarchical model which consists of a structural model, a population model, and an error model. Each sub-model captures a different aspect of the tumour growth inhibition biology, and is parametrised by a set of parameters. In this notebook, we review the population PKPD model structure presented in [1]. We further investigate the reported model parameters reported, and explore their consequences for dose efficacy predictions of Erlotinib and Gefitinib. \n",
    "\n",
    "Note that in [1] it was argued that the PKPD properties of Erlotinib and Gefinitib are structurally the same. That is why in the following we introduce just one PKPD model structure and review the drug-specific model parameters in a subsequent step."
   ]
  },
  {
   "cell_type": "markdown",
   "metadata": {},
   "source": [
    "## Structural model\n",
    "\n",
    "The structural model reported in [1] is a system of ordindary differential and algebraic equations. It combines a mechanistic description of the pharmacokinetics (PK) and the pharmacodynamics (PD) of the compound, as well as an empirical model of the tumour growth.\n",
    "\n",
    "The distribution of the compound in the mouse system after an oral dose is modelled by a one-compartment PK model with indirect drug administration\n",
    "\n",
    "\\begin{align*}\n",
    "\\frac{\\text{d}A_d}{\\text{d}t} = r_d(t) - k_{a}A_d,\\qquad \\frac{\\text{d}A_c}{\\text{d}t} = k_{a} A_d - k_e A_c,\\qquad C_c = \\frac{A_c}{V_c}.\n",
    "\\end{align*}\n",
    "\n",
    "Here, $A_d$ is the amount of the compound in the dose compartment, and $A_c$ the amount in the central compartment. The dose compartment may be interpreted as the gut compartment. As the drug is orally administered, the uptake into the dose compartment may be modelled by a time dependent dose rate $r_d$. The drug diffuses at a constant rate $k_a$ (absorption rate) into the central compartment. The central compartment models the drug circulating in the plasma. The clearance from the central compartment of the drug through the liver is modelled with a linear elimination rate $k_e$. The concentration of the compound in the central compartment $C_c$ can be derived from its amount and its effective volume of distribution in the central compartment $V_c$.\n",
    "\n",
    "The tumour growth is modelled by an empirical model. In absence of the drug the tumour growth is assumed to grow exponentially for small tumour volumes, and to grow linearly for large tumour volumes. The growth inhibiting effects of the compound are assumed to be proportional to its concentration in the central compartment and the volume of the tumour\n",
    "\n",
    "\\begin{align*}\n",
    "\\frac{\\text{d}V^s_T}{\\text{d}t} = \\frac{2\\lambda _0\\lambda _1 V^s_T}{2\\lambda _0 V^s_T + \\lambda _1} - \\kappa C_cV^s_T.\n",
    "\\end{align*}\n",
    "\n",
    "Here, $V^s_T$ is the predicted tumour volume by the structural model, $\\lambda _0$ is the exponential growth rate, $\\lambda _1$ is the linear growth rate, and $\\kappa $ is the growth inhibiting potency of the compound.\n",
    "\n",
    "In [1], the dose and central compartment were assumed to contain no amount of the compound initially, $A_d(t=0)=0$ and $A_c(t=0)=0$. The structural model is then parameterised by seven parameters that determine the PKPD of the drug\n",
    "\n",
    "\\begin{align*}\n",
    "\\psi = (k_a, k_e, V_c, V_0, \\lambda _0, \\lambda _1, \\kappa ),\n",
    "\\end{align*}\n",
    "\n",
    "where $V_0$ is the initial tumour volume, $V^s_T(t=0)=V_0$. Note that in this model $r_d$ is determined by the dosing regimen."
   ]
  },
  {
   "cell_type": "markdown",
   "metadata": {},
   "source": [
    "We have implemented the structural model in a separate python [module](https://github.com/DavAug/ErlotinibGefitinib/blob/master/pkpd/model.py), which generates with `pkpd.model.create_pktgi_model()` a [myokit](http://myokit.org/) representation of the model. [myokit](http://myokit.org/) allows us to solve the system of ODEs numerically."
   ]
  },
  {
   "cell_type": "code",
   "execution_count": 57,
   "metadata": {
    "tags": []
   },
   "outputs": [
    {
     "output_type": "stream",
     "name": "stdout",
     "text": "[[model]]\n# Initial values\ncentral.amount   = 0\ncentral.volume_t = 0\ndepot.amount     = 0\n\n[central]\ndot(amount) = -k_e * amount + depot.k_a * depot.amount\n    in [mg]\nconc = amount / volume_c\n    in [mg/L]\nk_e = 0\n    in [1/day]\nkappa = 0\n    in [L/mg/day]\nlambda_0 = 0\n    in [1/day]\nlambda_1 = 1\n    in [cm^3/day]\ntime = 0 bind time\n    in [day]\nvolume_c = 1\n    in [L]\ndot(volume_t) = 2 * (lambda_0 * (lambda_1 * volume_t)) / (2 * (lambda_0 * volume_t) + lambda_1) - kappa * (conc * volume_t)\n    in [cm^3]\n\n[depot]\ndot(amount) = -k_a * amount + dose_rate * regimen\n    in [mg]\ndose_rate = 0\n    in [mg/day]\nk_a = 0\n    in [1/day]\nregimen = 0 bind pace\n    in [1]\n\n\n"
    }
   ],
   "source": [
    "#\n",
    "# Create structural model.\n",
    "#\n",
    "\n",
    "import pkpd.model as m\n",
    "\n",
    "\n",
    "# Create model\n",
    "model = m.create_pktgi_model()\n",
    "\n",
    "# Set route of administration to 'oral dosing'\n",
    "model.set_roa(dose_comp='central', indirect=True)\n",
    "\n",
    "# Show model\n",
    "print(model.code())"
   ]
  },
  {
   "cell_type": "markdown",
   "metadata": {},
   "source": [
    "## Error model\n",
    "\n",
    "The expected random deviations of the observed tumour volumes from the structural model predictions $V^s_T$ are modelled in [1] by a combined error model. A combined error model assumes that the deviations $\\varepsilon $ of the observable tumour volume $V_T$ from the structural model predictions $V^s_T$ may be modelled by a base-level Gaussian noise, and a Gaussian noise contribution whose standard deviation grows relative to the structural model predictions\n",
    "\n",
    "\\begin{equation*}\n",
    "    \\varepsilon = \\left(\\sigma _{\\text{base}} + \\sigma _{\\text{rel}} V^s_T\\right) \\varepsilon _n.\n",
    "\\end{equation*}\n",
    "\n",
    "Here, $\\sigma _{\\text{base}}$ is the standard deviation of the base-level noise, and $\\sigma _{\\text{rel}}$ is the standard deviation relative to $V^s_T$. $\\varepsilon _n$ is a standard Gaussian random variable $\\mathcal{N}(0, 1)$. As a result, the model predictions of the tumour volume are Gaussian-distributed, centered at the structural model predictions $V^s_T = V^s_T(t, r_d; \\psi)$ with a standard deviation $\\sigma _{\\text{tot}} = \\sigma _{\\text{base}} + \\sigma _{\\text{rel}} V^s_T$\n",
    "\n",
    "\\begin{equation*}\n",
    "    V_T \\sim \\mathcal{N}(V^s_T, \\sigma ^2_{\\text{tot}}).\n",
    "\\end{equation*}\n",
    "\n",
    "The error model introduces two further parameters to the model\n",
    "\n",
    "\\begin{equation*}\n",
    "    \\theta _V = (\\sigma _{\\text{base}}, \\sigma _{\\text{rel}}),\n",
    "\\end{equation*}\n",
    "\n",
    "such that at this point the PKPD model has nine parameters ($\\psi$, $\\theta _V$)."
   ]
  },
  {
   "cell_type": "markdown",
   "metadata": {},
   "source": [
    "## Population model\n",
    "\n",
    "Generally, the structural model parameters $\\psi$ can be split into system-specific and process-specific parameters. System-specific parameters are expected to vary between individuals, while process-specfic parameters are assumed to be constant across individuals. In [1] all structural model parameters $\\psi $ are assumed to vary between individuals, except the absorption rate $k_a$. The population model defines the distribution of system-specific parameters in the population. \n",
    "\n",
    "In [1] all $\\psi $ except the absorption rate $k_a$ are assumed to be [log-normally distributed](https://en.wikipedia.org/wiki/Log-normal_distribution) in the mouse population\n",
    "\n",
    "\\begin{equation*}\n",
    "    \\log \\psi _i \\sim \\mathcal{N} (\\log \\mu _i, \\sigma ^2_i), \\quad \\psi _i \\neq k_a,\n",
    "\\end{equation*}\n",
    "\n",
    "where $\\mu _i $ is the median of $\\psi $ in the population, and $\\sigma _i$ the standard deviation of $\\log \\psi _i$ in the population. Note that $\\mu _i$ is of linear scale and $\\sigma _i$ is of logarithmic scale. Their values can therefore not be directly compared, like one might be used to for a Gaussian distribution. \n",
    "\n",
    "The introduction of a population model replaces all system-specific structural model parameters by a distribution which is parameterised by the population median $\\mu _i $ and log-scale standard deviation $\\sigma _i$. Defining the population parameters as \n",
    "\n",
    "\\begin{equation*}\n",
    "    \\theta _{\\psi } = (k_a, \\mu _{k_e}, \\sigma _{k_e}, \\mu _{V_c}, \\sigma _{V_c}, \\mu _{V_0}, \\sigma _{V_0}, \\mu _{\\lambda _0}, \\sigma _{\\lambda _0}, \\mu _{\\lambda _1}, \\sigma _{\\lambda _1}, \\mu _{\\kappa}, \\sigma _{\\kappa}),\n",
    "\\end{equation*}\n",
    "\n",
    "the full population tumour growth inhibition PKPD model of Erlotinib and Gefitinib is parameterised by 15 parameters each, $(\\theta _{\\psi}, \\theta _V)$."
   ]
  },
  {
   "cell_type": "markdown",
   "metadata": {},
   "source": [
    "## Parameter estimates"
   ]
  },
  {
   "cell_type": "markdown",
   "metadata": {},
   "source": [
    "Below we report the inferred model parameters $(\\theta _{\\psi}, \\theta _V)$ from Table 1, p. 3117 [1]. These model parameters were inferred with Monolix. Note that the \"Estimate\" for a parameter $\\psi _i$ corresponds to the median of the population distribution $\\mu _i$, while the interindividual variability \"Var\" is equivalent to the log-scale population standard deviation $\\sigma _i$. The provided relative standard error (RSE) is the standard deviation of the estimates relative to their value (this assumes a Gaussian error of the estimates of $\\mu _i$ and $\\sigma _i$). For later convenience we will translate the RSE values back into absolute standard deviations. For more details on the Monolix's conventions please have a look at its [documentation](http://monolix.lixoft.com/data-and-models/individualdistribution/)."
   ]
  },
  {
   "cell_type": "code",
   "execution_count": 168,
   "metadata": {
    "tags": []
   },
   "outputs": [
    {
     "output_type": "stream",
     "name": "stdout",
     "text": "Erlotinib LXF A677\n"
    },
    {
     "output_type": "display_data",
     "data": {
      "text/plain": "                    k_a in 1/day  mu V_c in L  sigma V_c in dimless  \\\nestimate                    55.0      0.12700                 0.251   \nstandard deviation           NaN      0.01905                   NaN   \n\n                    mu k_e in 1/day  sigma k_e in dimless  mu V_0 in cm^3  \\\nestimate                      7.560               0.33200          0.1220   \nstandard deviation            0.756               0.12948          0.0061   \n\n                    sigma V_0 in dimless  mu lambda_0 in 1/day  \\\nestimate                          0.3680              0.097100   \nstandard deviation                0.0061              0.007768   \n\n                    sigma lambda_0 in dimless  mu lambda_1 in cm^3/day  \\\nestimate                              0.45600                  0.12700   \nstandard deviation                    0.05928                  0.01651   \n\n                    sigma lambda_1 in dimless  mu kappa in L/mg/day  \\\nestimate                                 0.71               0.11700   \nstandard deviation                        NaN               0.01989   \n\n                    sigma kappa in dimless  sigma base in cm^3  \\\nestimate                           0.65400            0.014100   \nstandard deviation                 0.13734            0.001269   \n\n                    sigma rel in dimless  \nestimate                        0.090700  \nstandard deviation              0.005442  ",
      "text/html": "<div>\n<style scoped>\n    .dataframe tbody tr th:only-of-type {\n        vertical-align: middle;\n    }\n\n    .dataframe tbody tr th {\n        vertical-align: top;\n    }\n\n    .dataframe thead th {\n        text-align: right;\n    }\n</style>\n<table border=\"1\" class=\"dataframe\">\n  <thead>\n    <tr style=\"text-align: right;\">\n      <th></th>\n      <th>k_a in 1/day</th>\n      <th>mu V_c in L</th>\n      <th>sigma V_c in dimless</th>\n      <th>mu k_e in 1/day</th>\n      <th>sigma k_e in dimless</th>\n      <th>mu V_0 in cm^3</th>\n      <th>sigma V_0 in dimless</th>\n      <th>mu lambda_0 in 1/day</th>\n      <th>sigma lambda_0 in dimless</th>\n      <th>mu lambda_1 in cm^3/day</th>\n      <th>sigma lambda_1 in dimless</th>\n      <th>mu kappa in L/mg/day</th>\n      <th>sigma kappa in dimless</th>\n      <th>sigma base in cm^3</th>\n      <th>sigma rel in dimless</th>\n    </tr>\n  </thead>\n  <tbody>\n    <tr>\n      <th>estimate</th>\n      <td>55.0</td>\n      <td>0.12700</td>\n      <td>0.251</td>\n      <td>7.560</td>\n      <td>0.33200</td>\n      <td>0.1220</td>\n      <td>0.3680</td>\n      <td>0.097100</td>\n      <td>0.45600</td>\n      <td>0.12700</td>\n      <td>0.71</td>\n      <td>0.11700</td>\n      <td>0.65400</td>\n      <td>0.014100</td>\n      <td>0.090700</td>\n    </tr>\n    <tr>\n      <th>standard deviation</th>\n      <td>NaN</td>\n      <td>0.01905</td>\n      <td>NaN</td>\n      <td>0.756</td>\n      <td>0.12948</td>\n      <td>0.0061</td>\n      <td>0.0061</td>\n      <td>0.007768</td>\n      <td>0.05928</td>\n      <td>0.01651</td>\n      <td>NaN</td>\n      <td>0.01989</td>\n      <td>0.13734</td>\n      <td>0.001269</td>\n      <td>0.005442</td>\n    </tr>\n  </tbody>\n</table>\n</div>"
     },
     "metadata": {}
    },
    {
     "output_type": "stream",
     "name": "stdout",
     "text": "Erlotinib VXF A341\n"
    },
    {
     "output_type": "display_data",
     "data": {
      "text/plain": "                    k_a in 1/day  mu V_c in L  sigma V_c in dimless  \\\nestimate                    55.0       0.1200                0.1900   \nstandard deviation           NaN       0.0072                0.0437   \n\n                    mu k_e in 1/day  sigma k_e in dimless  mu V_0 in cm^3  \\\nestimate                     7.8500                0.2350         0.11400   \nstandard deviation           0.5495                0.0611         0.00684   \n\n                    sigma V_0 in dimless  mu lambda_0 in 1/day  \\\nestimate                         0.42300               0.02900   \nstandard deviation               0.04653               0.00174   \n\n                    sigma lambda_0 in dimless  mu lambda_1 in cm^3/day  \\\nestimate                              0.32100                  0.29800   \nstandard deviation                    0.04494                  0.11026   \n\n                    sigma lambda_1 in dimless  mu kappa in L/mg/day  \\\nestimate                                 0.68              0.040100   \nstandard deviation                        NaN              0.006416   \n\n                    sigma kappa in dimless  sigma base in cm^3  \\\nestimate                           0.58500            0.004320   \nstandard deviation                 0.12285            0.001296   \n\n                    sigma rel in dimless  \nestimate                         0.13900  \nstandard deviation               0.00695  ",
      "text/html": "<div>\n<style scoped>\n    .dataframe tbody tr th:only-of-type {\n        vertical-align: middle;\n    }\n\n    .dataframe tbody tr th {\n        vertical-align: top;\n    }\n\n    .dataframe thead th {\n        text-align: right;\n    }\n</style>\n<table border=\"1\" class=\"dataframe\">\n  <thead>\n    <tr style=\"text-align: right;\">\n      <th></th>\n      <th>k_a in 1/day</th>\n      <th>mu V_c in L</th>\n      <th>sigma V_c in dimless</th>\n      <th>mu k_e in 1/day</th>\n      <th>sigma k_e in dimless</th>\n      <th>mu V_0 in cm^3</th>\n      <th>sigma V_0 in dimless</th>\n      <th>mu lambda_0 in 1/day</th>\n      <th>sigma lambda_0 in dimless</th>\n      <th>mu lambda_1 in cm^3/day</th>\n      <th>sigma lambda_1 in dimless</th>\n      <th>mu kappa in L/mg/day</th>\n      <th>sigma kappa in dimless</th>\n      <th>sigma base in cm^3</th>\n      <th>sigma rel in dimless</th>\n    </tr>\n  </thead>\n  <tbody>\n    <tr>\n      <th>estimate</th>\n      <td>55.0</td>\n      <td>0.1200</td>\n      <td>0.1900</td>\n      <td>7.8500</td>\n      <td>0.2350</td>\n      <td>0.11400</td>\n      <td>0.42300</td>\n      <td>0.02900</td>\n      <td>0.32100</td>\n      <td>0.29800</td>\n      <td>0.68</td>\n      <td>0.040100</td>\n      <td>0.58500</td>\n      <td>0.004320</td>\n      <td>0.13900</td>\n    </tr>\n    <tr>\n      <th>standard deviation</th>\n      <td>NaN</td>\n      <td>0.0072</td>\n      <td>0.0437</td>\n      <td>0.5495</td>\n      <td>0.0611</td>\n      <td>0.00684</td>\n      <td>0.04653</td>\n      <td>0.00174</td>\n      <td>0.04494</td>\n      <td>0.11026</td>\n      <td>NaN</td>\n      <td>0.006416</td>\n      <td>0.12285</td>\n      <td>0.001296</td>\n      <td>0.00695</td>\n    </tr>\n  </tbody>\n</table>\n</div>"
     },
     "metadata": {}
    }
   ],
   "source": [
    "#\n",
    "# Estimates according to Eigenmann et. al. [1] for the Erlotinib and Gefitinib PKPD in LXF A677 and VXF A431.\n",
    "#\n",
    "\n",
    "import pandas as pd\n",
    "\n",
    "\n",
    "# Create pandas dataframe for LXF A677 Erlotinib model parameters\n",
    "lxf_erlotinib_estimates = pd.DataFrame(\n",
    "    data={\n",
    "        'k_a in 1/day': [55.0, None],\n",
    "        'mu V_c in L': [0.127, 0.127 * 0.15],\n",
    "        'sigma V_c in dimless': [0.251, None],\n",
    "        'mu k_e in 1/day': [7.56, 7.56 * 0.1],\n",
    "        'sigma k_e in dimless': [0.332, 0.332 * 0.39],\n",
    "        'mu V_0 in cm^3': [0.122, 0.122 * 0.05],\n",
    "        'sigma V_0 in dimless': [0.368, 0.122 * 0.05],\n",
    "        'mu lambda_0 in 1/day': [0.0971, 0.0971 * 0.08],\n",
    "        'sigma lambda_0 in dimless': [0.456, 0.456 * 0.13],\n",
    "        'mu lambda_1 in cm^3/day': [0.127, 0.127 * 0.13],\n",
    "        'sigma lambda_1 in dimless': [0.710, None],\n",
    "        'mu kappa in L/mg/day': [0.117, 0.117 * 0.17],\n",
    "        'sigma kappa in dimless': [0.654, 0.654 * 0.21],\n",
    "        'sigma base in cm^3': [0.0141, 0.0141 * 0.09],\n",
    "        'sigma rel in dimless': [0.0907, 0.0907 * 0.06]},\n",
    "    index=['estimate', 'standard deviation'])\n",
    "\n",
    "# Show dataframe\n",
    "print('Erlotinib LXF A677')\n",
    "display(lxf_erlotinib_estimates)\n",
    "\n",
    "# Create pandas dataframe for VXF A341 Erlotinib model parameters\n",
    "vxf_erlotinib_estimates = pd.DataFrame(\n",
    "    data={\n",
    "        'k_a in 1/day': [55.0, None],\n",
    "        'mu V_c in L': [0.120, 0.120 * 0.06],\n",
    "        'sigma V_c in dimless': [0.190, 0.190 * 0.23],\n",
    "        'mu k_e in 1/day': [7.85, 7.85 * 0.07],\n",
    "        'sigma k_e in dimless': [0.235, 0.235 * 0.26],\n",
    "        'mu V_0 in cm^3': [0.114, 0.114 * 0.06],\n",
    "        'sigma V_0 in dimless': [0.423, 0.423 * 0.11],\n",
    "        'mu lambda_0 in 1/day': [0.0290, 0.0290 * 0.06],\n",
    "        'sigma lambda_0 in dimless': [0.321, 0.321 * 0.14],\n",
    "        'mu lambda_1 in cm^3/day': [0.298, 0.298 * 0.37],\n",
    "        'sigma lambda_1 in dimless': [0.68, None],\n",
    "        'mu kappa in L/mg/day': [0.0401, 0.0401 * 0.16],\n",
    "        'sigma kappa in dimless': [0.585, 0.585 * 0.21],\n",
    "        'sigma base in cm^3': [0.00432, 0.00432 * 0.3],\n",
    "        'sigma rel in dimless': [0.139, 0.139 * 0.05]},\n",
    "    index=['estimate', 'standard deviation'])\n",
    "\n",
    "# Show dataframe\n",
    "print('Erlotinib VXF A341')\n",
    "display(vxf_erlotinib_estimates)"
   ]
  },
  {
   "cell_type": "markdown",
   "metadata": {},
   "source": [
    "## Explore predictions for tumour growth inhibition\n",
    "\n",
    "With these model parameters, we can simulate dose-response tumour growth curves for different Erlotinib and Gefitinib treatment strategies. We first simulate the dose-response in a population of mice for 3 dosing regimens similar to the ones presented in [1]. We then explore the dose-response of a \"median\" mouse for a larger variety of dosing strategies.\n",
    "\n",
    "The distribution of dose-response curves in the population can be approximated by repeatedly sampling individuals from the population distribution. Each 'virtual' mouse in the population is then fully characterised by a sample of structural model parameters $\\psi _i \\sim \\mathcal{N}(\\log \\mu _i , \\sigma _i^2)$ for all $i$. Denoting the structural model parameter set of individual $j$ by \n",
    "\n",
    "\\begin{align*}\n",
    "\\psi _j = (k_{a, j}, k_{e, j}, V_{c, j}, V_{0, j}, \\lambda _{0, j}, \\lambda _{1, j}, \\kappa _j),\n",
    "\\end{align*}\n",
    "\n",
    "we can sample the tumour growth predictions from the structural-error model $V_{T,j} = \\mathcal{N}(V^s_{T,j}, \\sigma ^2_{\\text{tot}, j})$ , where the mean and the variance are determined by the individual's set of structural model parameters $\\psi _j$, $V^s_{T,j} = V^s_{T}(t, r_d;\\psi _j)$ and $\\sigma _{\\text{tot}, j} = \\sigma _{\\text{base}} + \\sigma _{\\text{rel}}V^s_{T,j}$. Note that the estimates reported in [1] are not exact and partly display significant uncertainty. From a Bayesian perspective we would therefore like to construct posterior distributions of the model parameters which reflect the uncertainty in their estimates. With just the estimates and their standard deviation, this is however not possible.\n",
    "\n",
    "Denoting the estimates with a \"hat\", we thus construct the population dose-response curves according to\n",
    "\n",
    "\\begin{equation*}\n",
    "    V_{T,j} = \\mathcal{N}(V^s_{T,j}, \\sigma ^2_{\\text{tot}, j})\\quad \\text{with}\\quad \\log \\psi _{ij} \\sim \\mathcal{N}(\\log \\hat{\\mu} _i, \\hat{\\sigma}^2_i),\n",
    "\\end{equation*}\n",
    "\n",
    "and $k_{a,j}=\\hat{k}_{a}$, $\\sigma _{\\text{base}}= \\hat{\\sigma }_{\\text{base}}$, $\\sigma _{\\text{rel}}=\\hat{\\sigma }_{\\text{rel}}$, acknowledging the fact, that the uncertainty in the model predictions will be underestimated. \n",
    "\n",
    "To simulate the population behaviour, we sample N=1000 individuals from the PKPD model, and visualise the variation of dose-response curves by computing percentiles at predefined time points. Note that this representation captures the spread of different tumour volumes in the population well, however, loses any information about individual growth curves. That is to say, that the median growth curve in the population does not actually describe the tumour growth of a median mouse in the population, but rather the median tumour volume at each sampled time point."
   ]
  },
  {
   "cell_type": "code",
   "execution_count": 197,
   "metadata": {},
   "outputs": [],
   "source": [
    "#\n",
    "# Sampling mice from Erlotinib LXF A677, Erlotinib VXF A431, Gefitinib LXF A677 and Gefitinib VXF A431 population.\n",
    "#\n",
    "# This cell needs the above defined parameter estimates \n",
    "# [lxf_erlotinib_estimates, vxf_erlotinib_estimates]\n",
    "#\n",
    "\n",
    "import numpy as np\n",
    "from scipy.stats import lognorm\n",
    "\n",
    "\n",
    "# Define population size\n",
    "N = 1000\n",
    "\n",
    "# Number of parameters that define mouse (noise params are not mouse specific)\n",
    "n_params = 7  # [V_0, k_a, V_c, k_e, lambda_0, lambda_1, kappa]\n",
    "\n",
    "# Define population parameters\n",
    "populations = [lxf_erlotinib_estimates, vxf_erlotinib_estimates]\n",
    "n_populations = len(populations)\n",
    "\n",
    "# Create container for mice (n_populations, N, n_parameters)\n",
    "mice_parameters = np.empty(shape=(n_populations, N, n_params))\n",
    "\n",
    "# Sample mice for each of the populations\n",
    "for pop_id, population in enumerate(populations):\n",
    "    # Sample initial tumour volumes\n",
    "    median = population.loc['estimate', 'mu V_0 in cm^3']\n",
    "    std = population.loc['estimate', 'sigma V_0 in dimless']\n",
    "    mice_parameters[pop_id, :, 0] = lognorm.rvs(scale=median, s=std, size=N)\n",
    "\n",
    "    # Sample absorption rate\n",
    "    mice_parameters[pop_id, :, 1] = np.full(shape=N,fill_value=population.loc['estimate', 'k_a in 1/day'])\n",
    "\n",
    "    # Sample volume of distribution\n",
    "    median = population.loc['estimate', 'mu V_c in L']\n",
    "    std = population.loc['estimate', 'sigma V_c in dimless']\n",
    "    mice_parameters[pop_id, :, 2] = lognorm.rvs(scale=median, s=std, size=N)\n",
    "\n",
    "    # Sample elimination rate\n",
    "    median = population.loc['estimate', 'mu k_e in 1/day']\n",
    "    std = population.loc['estimate', 'sigma k_e in dimless']\n",
    "    mice_parameters[pop_id, :, 3] = lognorm.rvs(scale=median, s=std, size=N)\n",
    "\n",
    "    # Sample exponential growth rate\n",
    "    median = population.loc['estimate', 'mu lambda_0 in 1/day']\n",
    "    std = population.loc['estimate', 'sigma lambda_0 in dimless']\n",
    "    mice_parameters[pop_id, :, 4] = lognorm.rvs(scale=median, s=std, size=N)\n",
    "\n",
    "    # Sample linear growth rate\n",
    "    median = population.loc['estimate', 'mu lambda_1 in cm^3/day']\n",
    "    std = population.loc['estimate', 'sigma lambda_1 in dimless']\n",
    "    mice_parameters[pop_id, :, 5] = lognorm.rvs(scale=median, s=std, size=N)\n",
    "\n",
    "    # Sample potency\n",
    "    median = population.loc['estimate', 'mu kappa in L/mg/day']\n",
    "    std = population.loc['estimate', 'sigma kappa in dimless']\n",
    "    mice_parameters[pop_id, :, 6] = lognorm.rvs(scale=median, s=std, size=N)\n"
   ]
  },
  {
   "cell_type": "code",
   "execution_count": 198,
   "metadata": {
    "tags": []
   },
   "outputs": [],
   "source": [
    "#\n",
    "# Simulate tumour growth curves for simulated mice under different dosing strategies.\n",
    "#\n",
    "# Dosing strategies: \n",
    "# Daily oral administration from day 3 to (including) 16 of\n",
    "#   1. 25 mg/kg/day (amount drug per mouse weight per day)\n",
    "#   2. 50 mg/kg/day\n",
    "#   3. 100 mg/kg/day\n",
    "# Following [1], all mice in the population are assumed to weigh 20 mg.\n",
    "#\n",
    "# This cell needs the above simulated mice parameters: mice_parameeters\n",
    "# \n",
    "\n",
    "import myokit\n",
    "import plotly.graph_objects as go\n",
    "from scipy.stats import lognorm, norm\n",
    "\n",
    "import pkpd.model as m\n",
    "\n",
    "# Get population size and number of populations\n",
    "n_populations = mice_parameters.shape[0]\n",
    "N = mice_parameters.shape[1]\n",
    "\n",
    "# Define dosing regimens\n",
    "# Amount [mg], dose duration [day], start [day], period [day], multiplier [dimless]\n",
    "mouse_mass = 0.02  # 20 mg\n",
    "dosing_regimens = [\n",
    "    [25 * mouse_mass, 1E-03, 3, 1, 14],\n",
    "    [50 * mouse_mass, 1E-03, 3, 1, 14],\n",
    "    [100 * mouse_mass, 1E-03, 3, 1, 14]]\n",
    "n_regimens = len(dosing_regimens)\n",
    "\n",
    "# Define percentiles for population summary\n",
    "percentiles = [0.0, 0.25, 0.5, 0.75, 1]\n",
    "n_percentiles = len(percentiles)\n",
    "\n",
    "# Define simulation time points in days\n",
    "times = np.linspace(0, 30, num=100)\n",
    "n_times = len(times)\n",
    "\n",
    "# Create container for simulation results \n",
    "# (n_populations, n_regimens, n_percentiles, n_times)\n",
    "population_results = np.empty(shape=(\n",
    "    n_populations, n_regimens, n_percentiles, n_times))\n",
    "\n",
    "# Create structural model and set route of administration\n",
    "model = m.create_pktgi_model()\n",
    "model.set_roa(dose_comp='central', indirect=True)\n",
    "\n",
    "# Create temporary container for structural model predictions of mice in a population\n",
    "# (population size, n_times)\n",
    "mice_dose_response_no_noise = np.empty(shape=(N, n_times)) \n",
    "\n",
    "# Simulate dose-response in population for dosing regimens\n",
    "for regimen_id, dosing_regimen in enumerate(dosing_regimens):\n",
    "    # Get regimen\n",
    "    amount, duration, start, period, multiplier = dosing_regimen\n",
    "\n",
    "    # Create myokit dosing regimen\n",
    "    model.set_regimen(\n",
    "        amount=amount, duration=duration, start=start, period=period, multiplier=multiplier)\n",
    "    _, protocol = model.dosing_regimen()\n",
    "\n",
    "    # Create simulator\n",
    "    simulator = myokit.Simulation(model, protocol)\n",
    "\n",
    "    # Loop through populations\n",
    "    # Recall: mice_parameters shape = (n_populations, N, n_parameters)\n",
    "    for pop_id, population in enumerate(mice_parameters):\n",
    "        \n",
    "        # Loop through indiviuals in population\n",
    "        # `mouse` contains parameters: [V_0, k_a, V_c, k_e, lambda_0, lambda_1, kappa]\n",
    "        for mouse_id, mouse in enumerate(population):\n",
    "            # Reset simulator\n",
    "            simulator.reset()\n",
    "\n",
    "            # Set initial state\n",
    "            # central.amount, central.volume_t, depot.amount\n",
    "            simulator.set_state([0, mouse[0], 0])\n",
    "\n",
    "            # Set parameters\n",
    "            simulator.set_constant('depot.k_a', mouse[1])\n",
    "            simulator.set_constant('central.volume_c', mouse[2])\n",
    "            simulator.set_constant('central.k_e', mouse[3])\n",
    "            simulator.set_constant('central.lambda_0', mouse[4])\n",
    "            simulator.set_constant('central.lambda_1', mouse[5])\n",
    "            simulator.set_constant('central.kappa', mouse[6])\n",
    "\n",
    "            # Define logged variable\n",
    "            loggedVariable = 'central.volume_t'\n",
    "\n",
    "            # Solve structural model\n",
    "            output = simulator.run(times[-1] + 1, log=[loggedVariable], log_times=times)\n",
    "            mice_dose_response_no_noise[mouse_id, :] = np.array(output[loggedVariable])\n",
    "\n",
    "        # TODO: Add noise\n",
    "        mice_dose_response = mice_dose_response_no_noise\n",
    "\n",
    "        # Compute population percentiles\n",
    "        for perc_id, percentile in enumerate(percentiles):\n",
    "            population_results[pop_id, regimen_id, perc_id, :] = np.percentile(\n",
    "                a=mice_dose_response, q=percentile, axis=0)\n"
   ]
  },
  {
   "cell_type": "code",
   "execution_count": 199,
   "metadata": {},
   "outputs": [],
   "source": [
    "#\n",
    "# Convert dosing regimen into time series for illustration.\n",
    "#\n",
    "\n",
    "# Create container for dosing regimen time series\n",
    "dosing_time_series = []\n",
    "\n",
    "# Compute dosing regimen time series\n",
    "for regimen in dosing_regimens:\n",
    "    amount, duration, start, period, multiplier = regimen\n",
    "\n",
    "    # Initialise container (start with zero amount at time 0, and continue to end of simulation)\n",
    "    # Construct series by adding a point at dosing start and after finishing the dose.\n",
    "    dose_series = np.zeros(shape=(2, 2*multiplier+2))\n",
    "\n",
    "    # Construct dosing times\n",
    "    dose_series[0, 1:-2:2] = np.arange(\n",
    "        start=start, \n",
    "        stop=start+period*multiplier,\n",
    "        step=period)  # time points of dose start\n",
    "    dose_series[0, 2:-1:2] = dose_series[0, 1:-2:2] + duration  # time points of dose end\n",
    "    \n",
    "    # Compute dose amount administered\n",
    "    dose_series[1, 1:-2:2] = np.arange(multiplier) * amount  # Start of dose\n",
    "    dose_series[1, 2:-1:2] = np.arange(1, multiplier+1) * amount\n",
    "\n",
    "    # Repeat last full amount for the rest of the simulation period\n",
    "    dose_series[0, -1] = times[-1]\n",
    "    dose_series[1, -1] = dose_series[1, -2]\n",
    "\n",
    "    # Append to container\n",
    "    dosing_time_series.append(dose_series)"
   ]
  },
  {
   "cell_type": "code",
   "execution_count": 215,
   "metadata": {},
   "outputs": [
    {
     "output_type": "display_data",
     "data": {
      "application/vnd.plotly.v1+json": {
       "config": {
        "plotlyServerURL": "https://plot.ly"
       },
       "data": [
        {
         "hovertemplate": "<b></b>Cumulative amount of compound<br>Time: %{x:.0f} day<br>Amount: %{y:.01f} mg<br><extra></extra>",
         "line": {
          "color": "rgb(0, 0, 0)"
         },
         "mode": "lines",
         "name": "Amount",
         "type": "scatter",
         "x": [
          0,
          3,
          3.001,
          4,
          4.001,
          5,
          5.001,
          6,
          6.001,
          7,
          7.001,
          8,
          8.001,
          9,
          9.001,
          10,
          10.001,
          11,
          11.001,
          12,
          12.001,
          13,
          13.001,
          14,
          14.001,
          15,
          15.001,
          16,
          16.001,
          30
         ],
         "xaxis": "x",
         "y": [
          0,
          0,
          0.5,
          0.5,
          1,
          1,
          1.5,
          1.5,
          2,
          2,
          2.5,
          2.5,
          3,
          3,
          3.5,
          3.5,
          4,
          4,
          4.5,
          4.5,
          5,
          5,
          5.5,
          5.5,
          6,
          6,
          6.5,
          6.5,
          7,
          7
         ],
         "yaxis": "y2"
        },
        {
         "fill": "toself",
         "hoverinfo": "name",
         "legendgroup": "LXF A677 Erlotinib",
         "line": {
          "color": "rgb(51, 153, 255)",
          "width": 1
         },
         "name": "0th to 100th percentile",
         "showlegend": false,
         "type": "scatter",
         "x": [
          0,
          0.30303030303030304,
          0.6060606060606061,
          0.9090909090909092,
          1.2121212121212122,
          1.5151515151515151,
          1.8181818181818183,
          2.121212121212121,
          2.4242424242424243,
          2.7272727272727275,
          3.0303030303030303,
          3.3333333333333335,
          3.6363636363636367,
          3.9393939393939394,
          4.242424242424242,
          4.545454545454546,
          4.848484848484849,
          5.151515151515151,
          5.454545454545455,
          5.757575757575758,
          6.0606060606060606,
          6.363636363636364,
          6.666666666666667,
          6.96969696969697,
          7.272727272727273,
          7.575757575757576,
          7.878787878787879,
          8.181818181818182,
          8.484848484848484,
          8.787878787878789,
          9.090909090909092,
          9.393939393939394,
          9.696969696969697,
          10,
          10.303030303030303,
          10.606060606060606,
          10.90909090909091,
          11.212121212121213,
          11.515151515151516,
          11.818181818181818,
          12.121212121212121,
          12.424242424242424,
          12.727272727272728,
          13.030303030303031,
          13.333333333333334,
          13.636363636363637,
          13.93939393939394,
          14.242424242424242,
          14.545454545454547,
          14.84848484848485,
          15.151515151515152,
          15.454545454545455,
          15.757575757575758,
          16.060606060606062,
          16.363636363636363,
          16.666666666666668,
          16.96969696969697,
          17.272727272727273,
          17.575757575757578,
          17.87878787878788,
          18.181818181818183,
          18.484848484848484,
          18.78787878787879,
          19.09090909090909,
          19.393939393939394,
          19.6969696969697,
          20,
          20.303030303030305,
          20.606060606060606,
          20.90909090909091,
          21.21212121212121,
          21.515151515151516,
          21.81818181818182,
          22.12121212121212,
          22.424242424242426,
          22.727272727272727,
          23.03030303030303,
          23.333333333333336,
          23.636363636363637,
          23.93939393939394,
          24.242424242424242,
          24.545454545454547,
          24.848484848484848,
          25.151515151515152,
          25.454545454545457,
          25.757575757575758,
          26.060606060606062,
          26.363636363636363,
          26.666666666666668,
          26.96969696969697,
          27.272727272727273,
          27.575757575757578,
          27.87878787878788,
          28.181818181818183,
          28.484848484848484,
          28.78787878787879,
          29.090909090909093,
          29.393939393939394,
          29.6969696969697,
          30,
          30,
          29.6969696969697,
          29.393939393939394,
          29.090909090909093,
          28.78787878787879,
          28.484848484848484,
          28.181818181818183,
          27.87878787878788,
          27.575757575757578,
          27.272727272727273,
          26.96969696969697,
          26.666666666666668,
          26.363636363636363,
          26.060606060606062,
          25.757575757575758,
          25.454545454545457,
          25.151515151515152,
          24.848484848484848,
          24.545454545454547,
          24.242424242424242,
          23.93939393939394,
          23.636363636363637,
          23.333333333333336,
          23.03030303030303,
          22.727272727272727,
          22.424242424242426,
          22.12121212121212,
          21.81818181818182,
          21.515151515151516,
          21.21212121212121,
          20.90909090909091,
          20.606060606060606,
          20.303030303030305,
          20,
          19.6969696969697,
          19.393939393939394,
          19.09090909090909,
          18.78787878787879,
          18.484848484848484,
          18.181818181818183,
          17.87878787878788,
          17.575757575757578,
          17.272727272727273,
          16.96969696969697,
          16.666666666666668,
          16.363636363636363,
          16.060606060606062,
          15.757575757575758,
          15.454545454545455,
          15.151515151515152,
          14.84848484848485,
          14.545454545454547,
          14.242424242424242,
          13.93939393939394,
          13.636363636363637,
          13.333333333333334,
          13.030303030303031,
          12.727272727272728,
          12.424242424242424,
          12.121212121212121,
          11.818181818181818,
          11.515151515151516,
          11.212121212121213,
          10.90909090909091,
          10.606060606060606,
          10.303030303030303,
          10,
          9.696969696969697,
          9.393939393939394,
          9.090909090909092,
          8.787878787878789,
          8.484848484848484,
          8.181818181818182,
          7.878787878787879,
          7.575757575757576,
          7.272727272727273,
          6.96969696969697,
          6.666666666666667,
          6.363636363636364,
          6.0606060606060606,
          5.757575757575758,
          5.454545454545455,
          5.151515151515151,
          4.848484848484849,
          4.545454545454546,
          4.242424242424242,
          3.9393939393939394,
          3.6363636363636367,
          3.3333333333333335,
          3.0303030303030303,
          2.7272727272727275,
          2.4242424242424243,
          2.121212121212121,
          1.8181818181818183,
          1.5151515151515151,
          1.2121212121212122,
          0.9090909090909092,
          0.6060606060606061,
          0.30303030303030304,
          0
         ],
         "xaxis": "x",
         "y": [
          0.03891121599751714,
          0.04389654377108836,
          0.04945733772310334,
          0.05247758953819111,
          0.054602760882752746,
          0.056807995128030656,
          0.05909508419767792,
          0.06146681571645466,
          0.06392587186868531,
          0.06647489456184488,
          0.06767183471851582,
          0.05665574872566519,
          0.0565627251264562,
          0.05817272158066981,
          0.04887083815221042,
          0.04754731740269617,
          0.04870936248296003,
          0.0431446403417864,
          0.0367255096603137,
          0.036956193011900916,
          0.03341747809098364,
          0.023950319830606522,
          0.023545498495569386,
          0.02422661977624907,
          0.015970397940008645,
          0.015054030052185878,
          0.015398800003088898,
          0.011075880892988478,
          0.00968235201949063,
          0.00979852749260195,
          0.008234942400442353,
          0.0062907834622018205,
          0.006244632266891594,
          0.006435773956484172,
          0.004161883541285414,
          0.003990638225940334,
          0.004092570911378908,
          0.0028433835823473137,
          0.002562153173373901,
          0.0026044057901509154,
          0.002057453679136481,
          0.0016586484099084336,
          0.0016593952317020236,
          0.0016270161677781822,
          0.0010897288443727834,
          0.0010595449557059358,
          0.0010888107380503517,
          0.0007351195507274167,
          0.0006791062963033131,
          0.000692780338897312,
          0.0005199311618519658,
          0.0004382220674474164,
          0.00044122995806907423,
          0.0003992108720402096,
          0.00028623671867843327,
          0.0002815077227885665,
          0.00028976069618534,
          0.0003002042848385111,
          0.0003113145907834077,
          0.00032287983515288146,
          0.00033488084473401876,
          0.00034732500116149923,
          0.0003602320820913125,
          0.00037361934685348176,
          0.000387510891576673,
          0.0004019193809689184,
          0.00041685668200438326,
          0.000432345512710115,
          0.0004484082971931663,
          0.0004650657719144557,
          0.00048234415832334624,
          0.0005002684885088654,
          0.0005188612970758708,
          0.0005381463473708478,
          0.0005581510366701668,
          0.0005789004397313653,
          0.0006004208608905701,
          0.0006227469929794322,
          0.0006458999138641645,
          0.0006699146325955397,
          0.0006948212410716228,
          0.0007206457579538549,
          0.0007474307646472662,
          0.0007752078002798169,
          0.0008040151280170106,
          0.0008338924659885554,
          0.0008648796362089128,
          0.0008970184658966084,
          0.0009303522314144112,
          0.00096492486097805,
          0.001000782319539259,
          0.0010379721766303734,
          0.001076543228613082,
          0.0011165456947177784,
          0.0011580384438938914,
          0.0012010739731345332,
          0.0012457079054251751,
          0.0012919981782654195,
          0.001340004592093961,
          0.0013898007366132995,
          0.06584014377465297,
          0.06191558829396397,
          0.059142902144054835,
          0.05771265348547817,
          0.056316002044350034,
          0.05495369713357249,
          0.05364166127682601,
          0.05235991801068517,
          0.051107890119626825,
          0.04988499518896893,
          0.04869154845507142,
          0.04752591806707889,
          0.04638726496119297,
          0.04527508231398846,
          0.04418886250069236,
          0.04283040686606237,
          0.040759119703634966,
          0.03878169960670958,
          0.036894460419902804,
          0.03509385287703504,
          0.03393983254086875,
          0.03314723870230612,
          0.03237305598692278,
          0.031550983523010785,
          0.029190010089698112,
          0.026967195101963496,
          0.024879191069897336,
          0.023350724510437373,
          0.02218390556627537,
          0.021485151501940008,
          0.020822033559063202,
          0.020180310917160844,
          0.01955826514486476,
          0.018962781019461725,
          0.018491275038786684,
          0.018031319161299457,
          0.017582637174099348,
          0.016717060821746392,
          0.01619563910052314,
          0.015690426284434664,
          0.015200990725638752,
          0.014727000925449513,
          0.014268830477752055,
          0.013831916402040434,
          0.013453382538963164,
          0.012945239960452767,
          0.0154331511859214,
          0.015933218867072683,
          0.015047556791383507,
          0.015975394861697148,
          0.0188959788166116,
          0.017680556047724304,
          0.0173310956492984,
          0.022427827340373456,
          0.020579231554632343,
          0.019455675441804633,
          0.02522596174699476,
          0.024113128151041007,
          0.022792437878050235,
          0.025914753569871978,
          0.028722263610866983,
          0.027873577614261274,
          0.028238804034822998,
          0.035928752517515525,
          0.03342646521242366,
          0.032434743456671696,
          0.043249476348930886,
          0.04041703129887365,
          0.038406316307812834,
          0.04456610880132,
          0.04699779980112981,
          0.04532575834481865,
          0.04566742542541883,
          0.053636894620600555,
          0.05042171924641761,
          0.051219963046825745,
          0.06285357335319473,
          0.06143579657090992,
          0.05942000951009046,
          0.06838576309869784,
          0.06964528155293573,
          0.06851463885765827,
          0.0703960046108349,
          0.07779314163112497,
          0.07589834006929261,
          0.07533955042897539,
          0.08336929057180154,
          0.08128042219778743,
          0.0798486934024512,
          0.08208200385884201,
          0.08030199870582486,
          0.07810722961471876,
          0.07597620625164957,
          0.07384102193621041,
          0.06990833087781527,
          0.06574774449718444,
          0.06354126710213023,
          0.06135726095118924,
          0.058816431101147974,
          0.056392191427823174
         ],
         "yaxis": "y"
        },
        {
         "fill": "toself",
         "hoverinfo": "name",
         "legendgroup": "LXF A677 Erlotinib",
         "line": {
          "color": "rgb(0, 128, 255)",
          "width": 1
         },
         "name": "25th to 75th percentile",
         "showlegend": false,
         "type": "scatter",
         "x": [
          0,
          0.30303030303030304,
          0.6060606060606061,
          0.9090909090909092,
          1.2121212121212122,
          1.5151515151515151,
          1.8181818181818183,
          2.121212121212121,
          2.4242424242424243,
          2.7272727272727275,
          3.0303030303030303,
          3.3333333333333335,
          3.6363636363636367,
          3.9393939393939394,
          4.242424242424242,
          4.545454545454546,
          4.848484848484849,
          5.151515151515151,
          5.454545454545455,
          5.757575757575758,
          6.0606060606060606,
          6.363636363636364,
          6.666666666666667,
          6.96969696969697,
          7.272727272727273,
          7.575757575757576,
          7.878787878787879,
          8.181818181818182,
          8.484848484848484,
          8.787878787878789,
          9.090909090909092,
          9.393939393939394,
          9.696969696969697,
          10,
          10.303030303030303,
          10.606060606060606,
          10.90909090909091,
          11.212121212121213,
          11.515151515151516,
          11.818181818181818,
          12.121212121212121,
          12.424242424242424,
          12.727272727272728,
          13.030303030303031,
          13.333333333333334,
          13.636363636363637,
          13.93939393939394,
          14.242424242424242,
          14.545454545454547,
          14.84848484848485,
          15.151515151515152,
          15.454545454545455,
          15.757575757575758,
          16.060606060606062,
          16.363636363636363,
          16.666666666666668,
          16.96969696969697,
          17.272727272727273,
          17.575757575757578,
          17.87878787878788,
          18.181818181818183,
          18.484848484848484,
          18.78787878787879,
          19.09090909090909,
          19.393939393939394,
          19.6969696969697,
          20,
          20.303030303030305,
          20.606060606060606,
          20.90909090909091,
          21.21212121212121,
          21.515151515151516,
          21.81818181818182,
          22.12121212121212,
          22.424242424242426,
          22.727272727272727,
          23.03030303030303,
          23.333333333333336,
          23.636363636363637,
          23.93939393939394,
          24.242424242424242,
          24.545454545454547,
          24.848484848484848,
          25.151515151515152,
          25.454545454545457,
          25.757575757575758,
          26.060606060606062,
          26.363636363636363,
          26.666666666666668,
          26.96969696969697,
          27.272727272727273,
          27.575757575757578,
          27.87878787878788,
          28.181818181818183,
          28.484848484848484,
          28.78787878787879,
          29.090909090909093,
          29.393939393939394,
          29.6969696969697,
          30,
          30,
          29.6969696969697,
          29.393939393939394,
          29.090909090909093,
          28.78787878787879,
          28.484848484848484,
          28.181818181818183,
          27.87878787878788,
          27.575757575757578,
          27.272727272727273,
          26.96969696969697,
          26.666666666666668,
          26.363636363636363,
          26.060606060606062,
          25.757575757575758,
          25.454545454545457,
          25.151515151515152,
          24.848484848484848,
          24.545454545454547,
          24.242424242424242,
          23.93939393939394,
          23.636363636363637,
          23.333333333333336,
          23.03030303030303,
          22.727272727272727,
          22.424242424242426,
          22.12121212121212,
          21.81818181818182,
          21.515151515151516,
          21.21212121212121,
          20.90909090909091,
          20.606060606060606,
          20.303030303030305,
          20,
          19.6969696969697,
          19.393939393939394,
          19.09090909090909,
          18.78787878787879,
          18.484848484848484,
          18.181818181818183,
          17.87878787878788,
          17.575757575757578,
          17.272727272727273,
          16.96969696969697,
          16.666666666666668,
          16.363636363636363,
          16.060606060606062,
          15.757575757575758,
          15.454545454545455,
          15.151515151515152,
          14.84848484848485,
          14.545454545454547,
          14.242424242424242,
          13.93939393939394,
          13.636363636363637,
          13.333333333333334,
          13.030303030303031,
          12.727272727272728,
          12.424242424242424,
          12.121212121212121,
          11.818181818181818,
          11.515151515151516,
          11.212121212121213,
          10.90909090909091,
          10.606060606060606,
          10.303030303030303,
          10,
          9.696969696969697,
          9.393939393939394,
          9.090909090909092,
          8.787878787878789,
          8.484848484848484,
          8.181818181818182,
          7.878787878787879,
          7.575757575757576,
          7.272727272727273,
          6.96969696969697,
          6.666666666666667,
          6.363636363636364,
          6.0606060606060606,
          5.757575757575758,
          5.454545454545455,
          5.151515151515151,
          4.848484848484849,
          4.545454545454546,
          4.242424242424242,
          3.9393939393939394,
          3.6363636363636367,
          3.3333333333333335,
          3.0303030303030303,
          2.7272727272727275,
          2.4242424242424243,
          2.121212121212121,
          1.8181818181818183,
          1.5151515151515151,
          1.2121212121212122,
          0.9090909090909092,
          0.6060606060606061,
          0.30303030303030304,
          0
         ],
         "xaxis": "x",
         "y": [
          0.04698905471573476,
          0.04923385119867696,
          0.05259672424635396,
          0.0552875249060398,
          0.0597279956583328,
          0.06272795150833774,
          0.0648324487850704,
          0.0669418214377561,
          0.06904034318121613,
          0.0712095654832019,
          0.0728481165542049,
          0.07185476221084351,
          0.07287117599591414,
          0.07437456426701888,
          0.061237907850966534,
          0.057844679154252315,
          0.05942842881252511,
          0.05308166282700612,
          0.050163991312623724,
          0.05129356384991509,
          0.049935230442035634,
          0.04131658160002133,
          0.04056310826899723,
          0.04186899213841058,
          0.03320871604408873,
          0.031650852509161685,
          0.03247465664953654,
          0.027522543119060563,
          0.02527605331759901,
          0.02575743012521375,
          0.024221140219191695,
          0.020807697078954114,
          0.020874273041376526,
          0.02178848850460768,
          0.017433477772419076,
          0.017063870525605856,
          0.017710360906097972,
          0.014530363847823522,
          0.013248602723012835,
          0.013656193127293697,
          0.01212352738947994,
          0.010428347840684679,
          0.01048556402768415,
          0.010500721198585855,
          0.008382792496092112,
          0.008262447579532945,
          0.008476317999361847,
          0.006845632117915525,
          0.006532208516972066,
          0.006661835705382403,
          0.005741587774412867,
          0.005191095338829511,
          0.005242218260261414,
          0.005025812549085982,
          0.004159544838260216,
          0.00413205411728141,
          0.004245478834019007,
          0.004389029478355179,
          0.004542554484033584,
          0.0047024019935024116,
          0.004868053357736362,
          0.005039482487012073,
          0.005216917841491684,
          0.005400583461943978,
          0.005601092785821554,
          0.005923954891795958,
          0.006267085761014343,
          0.006632117734458887,
          0.006958331628927951,
          0.007233340489394682,
          0.007519027062908933,
          0.007815792847317617,
          0.00812405397136904,
          0.00844424057302799,
          0.00877677882692299,
          0.009122135183329648,
          0.009480759180499815,
          0.00985320879713012,
          0.010239923053775121,
          0.010641384739906359,
          0.011058115816637487,
          0.01149081799250807,
          0.011939927355595391,
          0.01240597042429265,
          0.01288965550434409,
          0.013391684918750743,
          0.013912525891872304,
          0.014452755325508224,
          0.01501309207632515,
          0.015594527511945866,
          0.016197474335736463,
          0.01682257970543637,
          0.017470586865352532,
          0.01814266877338036,
          0.0188394500125483,
          0.01956157034881891,
          0.020309765165958067,
          0.021084774107485132,
          0.02188781893065858,
          0.022719425404905146,
          0.0536036791455754,
          0.05216881567426471,
          0.05077256024476929,
          0.049413672486742874,
          0.048091108652873894,
          0.04673580381572892,
          0.044531009955848244,
          0.04241903749389152,
          0.04039535447185537,
          0.03846894608280272,
          0.03663598272066972,
          0.03526156904367925,
          0.03428148476103605,
          0.03332842286822113,
          0.032401776472424176,
          0.03150102127034372,
          0.030625098725177824,
          0.029773348703948984,
          0.02894520005699924,
          0.028140189438050953,
          0.027357485307289788,
          0.026596482720547737,
          0.025856564128111877,
          0.025137350002154397,
          0.024438054290077484,
          0.02375820037505581,
          0.023097291590472777,
          0.022454868928221537,
          0.021285561601173262,
          0.020153390768282972,
          0.018872309147054848,
          0.01762224096784483,
          0.016450912851497378,
          0.015354501289202462,
          0.014329183870603477,
          0.013371184501906736,
          0.012476769719371046,
          0.011642325134642344,
          0.010864398436554472,
          0.010139763229443594,
          0.009679517641739693,
          0.009249255412534962,
          0.008842212385442774,
          0.008468883709684178,
          0.008177089879144669,
          0.008188872147730536,
          0.009721334017257596,
          0.009987375668158629,
          0.00983366564636035,
          0.01059762012079479,
          0.011859589447832466,
          0.011434972769150911,
          0.01171096890911636,
          0.013898036972586486,
          0.01333748668072127,
          0.013275565430488887,
          0.01593358561588163,
          0.015630784695314464,
          0.015297940974396709,
          0.01683426112716363,
          0.018635759693803065,
          0.017955268048636827,
          0.018762810122871537,
          0.022825760137577727,
          0.02195830816325111,
          0.022097655358420735,
          0.028236238419144414,
          0.02710651446003151,
          0.02670778551563911,
          0.03188720264779184,
          0.034402368329152506,
          0.03366072546496119,
          0.03718740497517889,
          0.04660767322734449,
          0.045259707811583165,
          0.045710773562021675,
          0.05608393868741502,
          0.05417237332944121,
          0.053318722312082484,
          0.0621748920069368,
          0.0649027837256167,
          0.06361427624534598,
          0.06861811021017011,
          0.07566771756976226,
          0.07415716423668503,
          0.07332900300026285,
          0.08174334783570458,
          0.07902319313540657,
          0.0768026908989686,
          0.08103983329083342,
          0.0789786638467723,
          0.07656360346783306,
          0.07382306282506862,
          0.0711823327015603,
          0.0683893342372934,
          0.06481655959604057,
          0.06226751627273103,
          0.05986554454697467,
          0.05688545656657829,
          0.0533630077670129
         ],
         "yaxis": "y"
        },
        {
         "hovertemplate": "<b></b>Median<br>Population size: 1000<br>Time: %{x:.02f} day<br>Tumour volume: %{y:.02f} cm^3<br><extra></extra>",
         "legendgroup": "LXF A677 Erlotinib",
         "line": {
          "color": "rgb(0, 102, 204)"
         },
         "name": "LXF A677 Erlotinib",
         "type": "scatter",
         "x": [
          0,
          0.30303030303030304,
          0.6060606060606061,
          0.9090909090909092,
          1.2121212121212122,
          1.5151515151515151,
          1.8181818181818183,
          2.121212121212121,
          2.4242424242424243,
          2.7272727272727275,
          3.0303030303030303,
          3.3333333333333335,
          3.6363636363636367,
          3.9393939393939394,
          4.242424242424242,
          4.545454545454546,
          4.848484848484849,
          5.151515151515151,
          5.454545454545455,
          5.757575757575758,
          6.0606060606060606,
          6.363636363636364,
          6.666666666666667,
          6.96969696969697,
          7.272727272727273,
          7.575757575757576,
          7.878787878787879,
          8.181818181818182,
          8.484848484848484,
          8.787878787878789,
          9.090909090909092,
          9.393939393939394,
          9.696969696969697,
          10,
          10.303030303030303,
          10.606060606060606,
          10.90909090909091,
          11.212121212121213,
          11.515151515151516,
          11.818181818181818,
          12.121212121212121,
          12.424242424242424,
          12.727272727272728,
          13.030303030303031,
          13.333333333333334,
          13.636363636363637,
          13.93939393939394,
          14.242424242424242,
          14.545454545454547,
          14.84848484848485,
          15.151515151515152,
          15.454545454545455,
          15.757575757575758,
          16.060606060606062,
          16.363636363636363,
          16.666666666666668,
          16.96969696969697,
          17.272727272727273,
          17.575757575757578,
          17.87878787878788,
          18.181818181818183,
          18.484848484848484,
          18.78787878787879,
          19.09090909090909,
          19.393939393939394,
          19.6969696969697,
          20,
          20.303030303030305,
          20.606060606060606,
          20.90909090909091,
          21.21212121212121,
          21.515151515151516,
          21.81818181818182,
          22.12121212121212,
          22.424242424242426,
          22.727272727272727,
          23.03030303030303,
          23.333333333333336,
          23.636363636363637,
          23.93939393939394,
          24.242424242424242,
          24.545454545454547,
          24.848484848484848,
          25.151515151515152,
          25.454545454545457,
          25.757575757575758,
          26.060606060606062,
          26.363636363636363,
          26.666666666666668,
          26.96969696969697,
          27.272727272727273,
          27.575757575757578,
          27.87878787878788,
          28.181818181818183,
          28.484848484848484,
          28.78787878787879,
          29.090909090909093,
          29.393939393939394,
          29.6969696969697,
          30
         ],
         "xaxis": "x",
         "y": [
          0.049349586217031415,
          0.05132183274919658,
          0.05502227627811088,
          0.05924704505173304,
          0.06400967381501035,
          0.0672862275073601,
          0.06968220979432356,
          0.07204853894707179,
          0.07448464544952216,
          0.07699101513061064,
          0.07882326862437207,
          0.07369383006647234,
          0.0742030690201466,
          0.0761898660442988,
          0.07075596936944951,
          0.07023051932208257,
          0.07287025476010672,
          0.06259871879019156,
          0.05901232926808605,
          0.05861990204883669,
          0.056278051052432075,
          0.04750391012225621,
          0.04812403142353136,
          0.049422700698686726,
          0.03877974864938642,
          0.03833408947324818,
          0.03982012257444072,
          0.03173209435690294,
          0.029983846166014433,
          0.031151871856167343,
          0.027015661829173785,
          0.023524840078981694,
          0.02441117614136501,
          0.02539514862766265,
          0.01856369286862421,
          0.01802904501430271,
          0.018784685022464973,
          0.014876207696049139,
          0.014837448985028331,
          0.015184181975717616,
          0.012632316302504939,
          0.011701569815244395,
          0.011937623031684094,
          0.011940247257774733,
          0.009170394513851944,
          0.009192394182421034,
          0.009530364314314211,
          0.007476346958408915,
          0.007304370005153912,
          0.007636754730015351,
          0.0061619558215364354,
          0.006027343430373108,
          0.006201345459064325,
          0.005622241180120281,
          0.004763923958175863,
          0.004946739343143955,
          0.005156143131136837,
          0.005374716919066342,
          0.00560244870055919,
          0.005839692950072272,
          0.006086831278743303,
          0.006344265252632163,
          0.006612416375170816,
          0.0068917118184389,
          0.007182595137893338,
          0.007485528680415782,
          0.0078009937294776606,
          0.008129488356192177,
          0.0084721542904605,
          0.008829666580553716,
          0.00920197329680678,
          0.009589683557115154,
          0.010158621150666782,
          0.01093994797253988,
          0.011778834987471816,
          0.012679140051497595,
          0.013644982630317767,
          0.014171660026324636,
          0.014676774748090619,
          0.01519964236684761,
          0.015740847263165384,
          0.016301242776915567,
          0.016881284350077356,
          0.01748157018891544,
          0.018102854621382735,
          0.018746045043632004,
          0.019411651712102858,
          0.02010034684052719,
          0.0208131217667383,
          0.021550827294975067,
          0.022314094569271938,
          0.023103680877703574,
          0.02392097335258145,
          0.02476669103483129,
          0.02564165335638267,
          0.02654674534521348,
          0.02748285535463485,
          0.02845092806145359,
          0.02945279818331326,
          0.030489004694833555
         ],
         "yaxis": "y"
        },
        {
         "fill": "toself",
         "hoverinfo": "name",
         "legendgroup": "VXF A431 Erlotinib",
         "line": {
          "color": "rgb(255, 51, 51)",
          "width": 1
         },
         "name": "0th to 100th percentile",
         "showlegend": false,
         "type": "scatter",
         "x": [
          0,
          0.30303030303030304,
          0.6060606060606061,
          0.9090909090909092,
          1.2121212121212122,
          1.5151515151515151,
          1.8181818181818183,
          2.121212121212121,
          2.4242424242424243,
          2.7272727272727275,
          3.0303030303030303,
          3.3333333333333335,
          3.6363636363636367,
          3.9393939393939394,
          4.242424242424242,
          4.545454545454546,
          4.848484848484849,
          5.151515151515151,
          5.454545454545455,
          5.757575757575758,
          6.0606060606060606,
          6.363636363636364,
          6.666666666666667,
          6.96969696969697,
          7.272727272727273,
          7.575757575757576,
          7.878787878787879,
          8.181818181818182,
          8.484848484848484,
          8.787878787878789,
          9.090909090909092,
          9.393939393939394,
          9.696969696969697,
          10,
          10.303030303030303,
          10.606060606060606,
          10.90909090909091,
          11.212121212121213,
          11.515151515151516,
          11.818181818181818,
          12.121212121212121,
          12.424242424242424,
          12.727272727272728,
          13.030303030303031,
          13.333333333333334,
          13.636363636363637,
          13.93939393939394,
          14.242424242424242,
          14.545454545454547,
          14.84848484848485,
          15.151515151515152,
          15.454545454545455,
          15.757575757575758,
          16.060606060606062,
          16.363636363636363,
          16.666666666666668,
          16.96969696969697,
          17.272727272727273,
          17.575757575757578,
          17.87878787878788,
          18.181818181818183,
          18.484848484848484,
          18.78787878787879,
          19.09090909090909,
          19.393939393939394,
          19.6969696969697,
          20,
          20.303030303030305,
          20.606060606060606,
          20.90909090909091,
          21.21212121212121,
          21.515151515151516,
          21.81818181818182,
          22.12121212121212,
          22.424242424242426,
          22.727272727272727,
          23.03030303030303,
          23.333333333333336,
          23.636363636363637,
          23.93939393939394,
          24.242424242424242,
          24.545454545454547,
          24.848484848484848,
          25.151515151515152,
          25.454545454545457,
          25.757575757575758,
          26.060606060606062,
          26.363636363636363,
          26.666666666666668,
          26.96969696969697,
          27.272727272727273,
          27.575757575757578,
          27.87878787878788,
          28.181818181818183,
          28.484848484848484,
          28.78787878787879,
          29.090909090909093,
          29.393939393939394,
          29.6969696969697,
          30,
          30,
          29.6969696969697,
          29.393939393939394,
          29.090909090909093,
          28.78787878787879,
          28.484848484848484,
          28.181818181818183,
          27.87878787878788,
          27.575757575757578,
          27.272727272727273,
          26.96969696969697,
          26.666666666666668,
          26.363636363636363,
          26.060606060606062,
          25.757575757575758,
          25.454545454545457,
          25.151515151515152,
          24.848484848484848,
          24.545454545454547,
          24.242424242424242,
          23.93939393939394,
          23.636363636363637,
          23.333333333333336,
          23.03030303030303,
          22.727272727272727,
          22.424242424242426,
          22.12121212121212,
          21.81818181818182,
          21.515151515151516,
          21.21212121212121,
          20.90909090909091,
          20.606060606060606,
          20.303030303030305,
          20,
          19.6969696969697,
          19.393939393939394,
          19.09090909090909,
          18.78787878787879,
          18.484848484848484,
          18.181818181818183,
          17.87878787878788,
          17.575757575757578,
          17.272727272727273,
          16.96969696969697,
          16.666666666666668,
          16.363636363636363,
          16.060606060606062,
          15.757575757575758,
          15.454545454545455,
          15.151515151515152,
          14.84848484848485,
          14.545454545454547,
          14.242424242424242,
          13.93939393939394,
          13.636363636363637,
          13.333333333333334,
          13.030303030303031,
          12.727272727272728,
          12.424242424242424,
          12.121212121212121,
          11.818181818181818,
          11.515151515151516,
          11.212121212121213,
          10.90909090909091,
          10.606060606060606,
          10.303030303030303,
          10,
          9.696969696969697,
          9.393939393939394,
          9.090909090909092,
          8.787878787878789,
          8.484848484848484,
          8.181818181818182,
          7.878787878787879,
          7.575757575757576,
          7.272727272727273,
          6.96969696969697,
          6.666666666666667,
          6.363636363636364,
          6.0606060606060606,
          5.757575757575758,
          5.454545454545455,
          5.151515151515151,
          4.848484848484849,
          4.545454545454546,
          4.242424242424242,
          3.9393939393939394,
          3.6363636363636367,
          3.3333333333333335,
          3.0303030303030303,
          2.7272727272727275,
          2.4242424242424243,
          2.121212121212121,
          1.8181818181818183,
          1.5151515151515151,
          1.2121212121212122,
          0.9090909090909092,
          0.6060606060606061,
          0.30303030303030304,
          0
         ],
         "xaxis": "x",
         "y": [
          0.03376149507075611,
          0.034208348273028225,
          0.034660514084239855,
          0.03511761542820118,
          0.035580395623313624,
          0.036049143622629204,
          0.036523885267172006,
          0.03700502797508356,
          0.037492345221951835,
          0.03798604392915678,
          0.0380122918594281,
          0.03568793330996468,
          0.03600890408341624,
          0.03647518139435394,
          0.03403442317136403,
          0.034137952558998604,
          0.034569528194193525,
          0.03274938929726118,
          0.032379300028760806,
          0.032764370841792595,
          0.032183894553964636,
          0.030745882410749534,
          0.03105541426718974,
          0.03145943685862749,
          0.02927486363387738,
          0.029439859904764616,
          0.029816158485091514,
          0.028060470662555414,
          0.027918033992770597,
          0.028259338321456294,
          0.027332079037838443,
          0.026497084886458667,
          0.026785064301771952,
          0.02713476136571523,
          0.02519969742977114,
          0.025390455733442892,
          0.02571764449851641,
          0.02408479060196148,
          0.02407467413785845,
          0.024374950228434715,
          0.023297567132862698,
          0.022841325718650576,
          0.02310317560833602,
          0.02311734840286488,
          0.02170397961061486,
          0.02189953349563982,
          0.022183448931721216,
          0.02069932691520828,
          0.02076258852472732,
          0.02102538402969633,
          0.01991865649654739,
          0.019693811180775938,
          0.019928309508776918,
          0.01957552030477579,
          0.018701083075170516,
          0.018889625185646956,
          0.019135628649670115,
          0.019387731111632157,
          0.019643313956115203,
          0.019902252827969563,
          0.020164601993496442,
          0.02043040822401343,
          0.020699716846999318,
          0.02097256664027143,
          0.021249004186627014,
          0.02152907885071926,
          0.02181283988855555,
          0.02210033462318997,
          0.022391656345855552,
          0.022686843909345583,
          0.022985875349072322,
          0.023288931333581026,
          0.02359593193289484,
          0.023907042542557766,
          0.02422237051801187,
          0.024541792566607875,
          0.024865308688345793,
          0.025193206371917274,
          0.02552550537558709,
          0.02586209124259916,
          0.02620296397295348,
          0.02654853069085474,
          0.026898671282936756,
          0.02725331309616145,
          0.027612456130528824,
          0.02797676154587323,
          0.028345913118712863,
          0.02871991721018885,
          0.029098796924594078,
          0.029482575366221404,
          0.029871275639363707,
          0.030264920848313854,
          0.03066382416810741,
          0.031068209271542965,
          0.03147787230680907,
          0.03189286578024258,
          0.03231324219818035,
          0.03273905406695924,
          0.033170353892916116,
          0.03360719418238781,
          0.0894906658590998,
          0.08870309505829801,
          0.08792199028928986,
          0.08714730146019645,
          0.0863789842840214,
          0.0856169947433025,
          0.08486129163161248,
          0.08411182686207418,
          0.08336855646251541,
          0.08263143678414217,
          0.08190042384162818,
          0.08117547365560207,
          0.08045654289397403,
          0.0797435884159253,
          0.07903656720828828,
          0.07833543522222355,
          0.07764015023094221,
          0.07695066947859497,
          0.07626694974751866,
          0.07558894943892147,
          0.07491662643735852,
          0.0742499405422076,
          0.07353099047905752,
          0.07253905048142628,
          0.07156047877977503,
          0.07059504189504297,
          0.06964257019136143,
          0.06870290332449705,
          0.06777585191844561,
          0.06686125661696013,
          0.06595895854628464,
          0.06506878213222071,
          0.06419089055326542,
          0.06332496744074373,
          0.06247068211656676,
          0.061627879684702805,
          0.06079640596353906,
          0.059976108274746046,
          0.05916683833878198,
          0.058368452832055884,
          0.05758081125069455,
          0.056778999432402305,
          0.055969066775185004,
          0.055173452665955545,
          0.05441164157656791,
          0.053837526498118356,
          0.05467113298699499,
          0.05433617202636389,
          0.05360249482733834,
          0.05364398853052201,
          0.054818951452714544,
          0.054296678119053386,
          0.05455866164834766,
          0.057465347664824265,
          0.056716957230417885,
          0.05601030809499442,
          0.056866047893970186,
          0.056348266669833086,
          0.05560018465698362,
          0.05582042720439004,
          0.05621332854988091,
          0.055728373062133185,
          0.055488728508393294,
          0.059214850850196545,
          0.058442275653322995,
          0.05838053809394069,
          0.060239451535565335,
          0.05953349147227059,
          0.058954817186562626,
          0.06013953692210316,
          0.06039091106224381,
          0.05922117882716443,
          0.05861294477629666,
          0.05933426595408552,
          0.05873019771756363,
          0.05818804246019118,
          0.06019592658449739,
          0.059285013872072474,
          0.057844179257193366,
          0.058590277567202344,
          0.058212614770120255,
          0.05729484029212395,
          0.056653655338794406,
          0.05646785470402404,
          0.05537959586090915,
          0.05442335963908071,
          0.054558346175845034,
          0.053476702591057114,
          0.052386502812000406,
          0.0526222213049636,
          0.051753905351055916,
          0.0507693397313811,
          0.04979986689468795,
          0.04885585116549998,
          0.04792969470522564,
          0.04710657387499797,
          0.04631764644778567,
          0.04565549712524265,
          0.04472693895059341,
          0.043743874998401905
         ],
         "yaxis": "y"
        },
        {
         "fill": "toself",
         "hoverinfo": "name",
         "legendgroup": "VXF A431 Erlotinib",
         "line": {
          "color": "rgb(255, 0, 0)",
          "width": 1
         },
         "name": "25th to 75th percentile",
         "showlegend": false,
         "type": "scatter",
         "x": [
          0,
          0.30303030303030304,
          0.6060606060606061,
          0.9090909090909092,
          1.2121212121212122,
          1.5151515151515151,
          1.8181818181818183,
          2.121212121212121,
          2.4242424242424243,
          2.7272727272727275,
          3.0303030303030303,
          3.3333333333333335,
          3.6363636363636367,
          3.9393939393939394,
          4.242424242424242,
          4.545454545454546,
          4.848484848484849,
          5.151515151515151,
          5.454545454545455,
          5.757575757575758,
          6.0606060606060606,
          6.363636363636364,
          6.666666666666667,
          6.96969696969697,
          7.272727272727273,
          7.575757575757576,
          7.878787878787879,
          8.181818181818182,
          8.484848484848484,
          8.787878787878789,
          9.090909090909092,
          9.393939393939394,
          9.696969696969697,
          10,
          10.303030303030303,
          10.606060606060606,
          10.90909090909091,
          11.212121212121213,
          11.515151515151516,
          11.818181818181818,
          12.121212121212121,
          12.424242424242424,
          12.727272727272728,
          13.030303030303031,
          13.333333333333334,
          13.636363636363637,
          13.93939393939394,
          14.242424242424242,
          14.545454545454547,
          14.84848484848485,
          15.151515151515152,
          15.454545454545455,
          15.757575757575758,
          16.060606060606062,
          16.363636363636363,
          16.666666666666668,
          16.96969696969697,
          17.272727272727273,
          17.575757575757578,
          17.87878787878788,
          18.181818181818183,
          18.484848484848484,
          18.78787878787879,
          19.09090909090909,
          19.393939393939394,
          19.6969696969697,
          20,
          20.303030303030305,
          20.606060606060606,
          20.90909090909091,
          21.21212121212121,
          21.515151515151516,
          21.81818181818182,
          22.12121212121212,
          22.424242424242426,
          22.727272727272727,
          23.03030303030303,
          23.333333333333336,
          23.636363636363637,
          23.93939393939394,
          24.242424242424242,
          24.545454545454547,
          24.848484848484848,
          25.151515151515152,
          25.454545454545457,
          25.757575757575758,
          26.060606060606062,
          26.363636363636363,
          26.666666666666668,
          26.96969696969697,
          27.272727272727273,
          27.575757575757578,
          27.87878787878788,
          28.181818181818183,
          28.484848484848484,
          28.78787878787879,
          29.090909090909093,
          29.393939393939394,
          29.6969696969697,
          30,
          30,
          29.6969696969697,
          29.393939393939394,
          29.090909090909093,
          28.78787878787879,
          28.484848484848484,
          28.181818181818183,
          27.87878787878788,
          27.575757575757578,
          27.272727272727273,
          26.96969696969697,
          26.666666666666668,
          26.363636363636363,
          26.060606060606062,
          25.757575757575758,
          25.454545454545457,
          25.151515151515152,
          24.848484848484848,
          24.545454545454547,
          24.242424242424242,
          23.93939393939394,
          23.636363636363637,
          23.333333333333336,
          23.03030303030303,
          22.727272727272727,
          22.424242424242426,
          22.12121212121212,
          21.81818181818182,
          21.515151515151516,
          21.21212121212121,
          20.90909090909091,
          20.606060606060606,
          20.303030303030305,
          20,
          19.6969696969697,
          19.393939393939394,
          19.09090909090909,
          18.78787878787879,
          18.484848484848484,
          18.181818181818183,
          17.87878787878788,
          17.575757575757578,
          17.272727272727273,
          16.96969696969697,
          16.666666666666668,
          16.363636363636363,
          16.060606060606062,
          15.757575757575758,
          15.454545454545455,
          15.151515151515152,
          14.84848484848485,
          14.545454545454547,
          14.242424242424242,
          13.93939393939394,
          13.636363636363637,
          13.333333333333334,
          13.030303030303031,
          12.727272727272728,
          12.424242424242424,
          12.121212121212121,
          11.818181818181818,
          11.515151515151516,
          11.212121212121213,
          10.90909090909091,
          10.606060606060606,
          10.303030303030303,
          10,
          9.696969696969697,
          9.393939393939394,
          9.090909090909092,
          8.787878787878789,
          8.484848484848484,
          8.181818181818182,
          7.878787878787879,
          7.575757575757576,
          7.272727272727273,
          6.96969696969697,
          6.666666666666667,
          6.363636363636364,
          6.0606060606060606,
          5.757575757575758,
          5.454545454545455,
          5.151515151515151,
          4.848484848484849,
          4.545454545454546,
          4.242424242424242,
          3.9393939393939394,
          3.6363636363636367,
          3.3333333333333335,
          3.0303030303030303,
          2.7272727272727275,
          2.4242424242424243,
          2.121212121212121,
          1.8181818181818183,
          1.5151515151515151,
          1.2121212121212122,
          0.9090909090909092,
          0.6060606060606061,
          0.30303030303030304,
          0
         ],
         "xaxis": "x",
         "y": [
          0.03950684166233379,
          0.0405532212406452,
          0.04140707934734687,
          0.04212917457857977,
          0.042862719475113914,
          0.043609063992655475,
          0.04436878130792106,
          0.04514239984682558,
          0.045930032362086474,
          0.04664497247807006,
          0.04708031778454817,
          0.046177911061134655,
          0.04663461111026686,
          0.0472511017237552,
          0.04633267952791614,
          0.04662972296379625,
          0.04722808361710648,
          0.046668920904802146,
          0.04665733563584936,
          0.04722188311296458,
          0.047345745613335155,
          0.046735095975728926,
          0.047235240378456785,
          0.04786361062952105,
          0.04736838471210088,
          0.04789355612336994,
          0.04855277754875985,
          0.048378147559458226,
          0.048310896783850255,
          0.048969949777741884,
          0.04828745742057537,
          0.04676684525985013,
          0.04723647774074087,
          0.048060516562965463,
          0.04549706749503325,
          0.04569561325248351,
          0.04643889668120367,
          0.04404248189485832,
          0.04364265779478596,
          0.044034174002281545,
          0.04233222166235355,
          0.04112418777741897,
          0.04156212508403795,
          0.04166287050894225,
          0.03881459365975817,
          0.03906765252961457,
          0.039603294947943915,
          0.03637258773912767,
          0.035926529460565404,
          0.03630452770361091,
          0.03417060422414836,
          0.03306975500599806,
          0.03330440572557723,
          0.03265612193175715,
          0.030013785672759592,
          0.03007889382731465,
          0.030430768299472888,
          0.03082054189901081,
          0.031219575164124852,
          0.03162446487936324,
          0.03203485153402924,
          0.03245072990700591,
          0.032872161713087086,
          0.03336025825294575,
          0.03392260409646501,
          0.034495710220890555,
          0.03507980618157316,
          0.03567510776083843,
          0.03628183172168073,
          0.03690021735297838,
          0.037530510185992474,
          0.03817215231176886,
          0.0388244883451509,
          0.039489387155273684,
          0.040167102121209955,
          0.04085789352352174,
          0.041562025317591275,
          0.04227977174503489,
          0.04301139791782284,
          0.04375718633733388,
          0.044517432582761536,
          0.045292416840453084,
          0.046082434295303995,
          0.046887794257022136,
          0.047746602416540496,
          0.04869367560808325,
          0.04965985381381645,
          0.05064543502532187,
          0.05165089320951316,
          0.052676674833860807,
          0.05372305021030141,
          0.054790486557419804,
          0.05587957766015393,
          0.05680622298888889,
          0.057744441888467786,
          0.05869808263459898,
          0.05966736122274384,
          0.06065253241042588,
          0.061653854876051725,
          0.0626715638806784,
          0.08003395427293139,
          0.07900704748040605,
          0.0779933543365331,
          0.07702542235057291,
          0.0760831681672424,
          0.07515243129840524,
          0.0742330951883492,
          0.07332504328136202,
          0.0724285676644911,
          0.07154299598810657,
          0.07066821930958636,
          0.06980417714017007,
          0.06895082085551482,
          0.06810792141657683,
          0.0672753882879958,
          0.06645313093441149,
          0.06564129571677257,
          0.06483947839465445,
          0.06404745942566215,
          0.06326513408909465,
          0.06249262544848483,
          0.06172955578826432,
          0.0609758023198614,
          0.06023128854692453,
          0.059496135880996476,
          0.058769931980340306,
          0.05805260709895834,
          0.05734412663760581,
          0.05664448779978888,
          0.055953410387086705,
          0.055270874300597295,
          0.05459672497752206,
          0.05391520916587566,
          0.05323408542612183,
          0.052561562004956396,
          0.051897531242197065,
          0.051241888405907446,
          0.05059452023819785,
          0.049955336348686964,
          0.049324233798606926,
          0.048701159341247226,
          0.04808629327584564,
          0.04748107778050095,
          0.04689435118799408,
          0.04637848513351148,
          0.04625066791609442,
          0.04853045144055377,
          0.048970596720822344,
          0.04863342368513024,
          0.049752775821899374,
          0.051026643108115874,
          0.05043486189218893,
          0.050445625611947015,
          0.05217793480303681,
          0.05152496490852169,
          0.051240561980181246,
          0.053375190479154525,
          0.05301790413033673,
          0.052469610210517416,
          0.05349069342494019,
          0.055663270479492113,
          0.054980048143519825,
          0.05464389920310594,
          0.05515427523992111,
          0.05447001424900044,
          0.053832235583468196,
          0.055009855492848606,
          0.054384042478227326,
          0.053808087011719644,
          0.054522037706845695,
          0.05512432645264595,
          0.054623162823969756,
          0.05520261618986575,
          0.05726518879939836,
          0.05620309070312739,
          0.0560147762397626,
          0.05728826201065852,
          0.056409697297383404,
          0.05563079036226641,
          0.055460672581060494,
          0.05485608601449907,
          0.054056859308327106,
          0.053750500725690056,
          0.05392732941561357,
          0.053296545992354505,
          0.05290143728132693,
          0.05334141940499434,
          0.05263155745485759,
          0.051840579375478174,
          0.05162805233593448,
          0.050868846405951476,
          0.049821915824351255,
          0.04874416785488332,
          0.0474612849513332,
          0.046522695272516,
          0.045810294629212336,
          0.04512570830214835,
          0.04421587031895641,
          0.04333805674969262,
          0.042504732937361255
         ],
         "yaxis": "y"
        },
        {
         "hovertemplate": "<b></b>Median<br>Population size: 1000<br>Time: %{x:.02f} day<br>Tumour volume: %{y:.02f} cm^3<br><extra></extra>",
         "legendgroup": "VXF A431 Erlotinib",
         "line": {
          "color": "rgb(204, 0, 0)"
         },
         "name": "VXF A431 Erlotinib",
         "type": "scatter",
         "x": [
          0,
          0.30303030303030304,
          0.6060606060606061,
          0.9090909090909092,
          1.2121212121212122,
          1.5151515151515151,
          1.8181818181818183,
          2.121212121212121,
          2.4242424242424243,
          2.7272727272727275,
          3.0303030303030303,
          3.3333333333333335,
          3.6363636363636367,
          3.9393939393939394,
          4.242424242424242,
          4.545454545454546,
          4.848484848484849,
          5.151515151515151,
          5.454545454545455,
          5.757575757575758,
          6.0606060606060606,
          6.363636363636364,
          6.666666666666667,
          6.96969696969697,
          7.272727272727273,
          7.575757575757576,
          7.878787878787879,
          8.181818181818182,
          8.484848484848484,
          8.787878787878789,
          9.090909090909092,
          9.393939393939394,
          9.696969696969697,
          10,
          10.303030303030303,
          10.606060606060606,
          10.90909090909091,
          11.212121212121213,
          11.515151515151516,
          11.818181818181818,
          12.121212121212121,
          12.424242424242424,
          12.727272727272728,
          13.030303030303031,
          13.333333333333334,
          13.636363636363637,
          13.93939393939394,
          14.242424242424242,
          14.545454545454547,
          14.84848484848485,
          15.151515151515152,
          15.454545454545455,
          15.757575757575758,
          16.060606060606062,
          16.363636363636363,
          16.666666666666668,
          16.96969696969697,
          17.272727272727273,
          17.575757575757578,
          17.87878787878788,
          18.181818181818183,
          18.484848484848484,
          18.78787878787879,
          19.09090909090909,
          19.393939393939394,
          19.6969696969697,
          20,
          20.303030303030305,
          20.606060606060606,
          20.90909090909091,
          21.21212121212121,
          21.515151515151516,
          21.81818181818182,
          22.12121212121212,
          22.424242424242426,
          22.727272727272727,
          23.03030303030303,
          23.333333333333336,
          23.636363636363637,
          23.93939393939394,
          24.242424242424242,
          24.545454545454547,
          24.848484848484848,
          25.151515151515152,
          25.454545454545457,
          25.757575757575758,
          26.060606060606062,
          26.363636363636363,
          26.666666666666668,
          26.96969696969697,
          27.272727272727273,
          27.575757575757578,
          27.87878787878788,
          28.181818181818183,
          28.484848484848484,
          28.78787878787879,
          29.090909090909093,
          29.393939393939394,
          29.6969696969697,
          30
         ],
         "xaxis": "x",
         "y": [
          0.04051251547954352,
          0.04106497197919458,
          0.04217678848814183,
          0.04337541534271634,
          0.044583386919647125,
          0.04583353362224997,
          0.047068479161371996,
          0.04778445311887772,
          0.04822282041907761,
          0.04866600332348475,
          0.04904712281635466,
          0.04894494282733132,
          0.04934804960985521,
          0.050369523003858475,
          0.05024387433578107,
          0.05097842689155438,
          0.05194186999192897,
          0.05133360571103783,
          0.05158725376993752,
          0.05229315442328226,
          0.052401360751586974,
          0.05197103397140106,
          0.05264768014695323,
          0.05338877491006187,
          0.05241066956460722,
          0.05294296452140866,
          0.05366320267438798,
          0.05282607661509049,
          0.05289831694574086,
          0.053578657744734186,
          0.05341507999795231,
          0.05253861127699378,
          0.05314945556398984,
          0.05386140467550651,
          0.051175095011816975,
          0.051284017740330756,
          0.05202474345081421,
          0.048762991542696046,
          0.04920086911991499,
          0.04989344046147806,
          0.04991518106793485,
          0.050089263527221733,
          0.05020064159504903,
          0.04999464854100367,
          0.04511269260661651,
          0.044868172234073224,
          0.045245068151675366,
          0.0408945775853052,
          0.04014940213697579,
          0.040415627465750927,
          0.03918076780797444,
          0.03888324988424066,
          0.03931708180049181,
          0.03924795308211134,
          0.038244789850582835,
          0.03858290608718883,
          0.03909238092423931,
          0.03962988552503534,
          0.040177521117766526,
          0.04073306607563946,
          0.04129634275531,
          0.041867405006392217,
          0.04244635987800528,
          0.04303328830275116,
          0.04362832911216118,
          0.04423157676766151,
          0.04484313869628765,
          0.04546313900415696,
          0.04609169219056943,
          0.04672891511884477,
          0.047374926555585,
          0.048029846530966425,
          0.04869379730390416,
          0.049366901644423075,
          0.050049284989283835,
          0.050741073171421305,
          0.05144239817147499,
          0.052153399068211946,
          0.052874217682069076,
          0.05360497569114136,
          0.054345805316362676,
          0.055096840983314806,
          0.05585821279320734,
          0.0566300691552757,
          0.057412555471642264,
          0.058205819993814086,
          0.059010017422695134,
          0.05982529301940828,
          0.06065180268566194,
          0.061489706823875154,
          0.06233915405284911,
          0.06320028924816838,
          0.06407330651618477,
          0.0649602011482123,
          0.06585937747150974,
          0.06678735011363755,
          0.06834116264344388,
          0.06993009097454375,
          0.07155516845312407,
          0.07321671736520906
         ],
         "yaxis": "y"
        }
       ],
       "layout": {
        "autosize": true,
        "legend": {
         "x": 1.05,
         "xanchor": "left",
         "y": 0.99,
         "yanchor": "top"
        },
        "template": {
         "data": {
          "bar": [
           {
            "error_x": {
             "color": "#2a3f5f"
            },
            "error_y": {
             "color": "#2a3f5f"
            },
            "marker": {
             "line": {
              "color": "white",
              "width": 0.5
             }
            },
            "type": "bar"
           }
          ],
          "barpolar": [
           {
            "marker": {
             "line": {
              "color": "white",
              "width": 0.5
             }
            },
            "type": "barpolar"
           }
          ],
          "carpet": [
           {
            "aaxis": {
             "endlinecolor": "#2a3f5f",
             "gridcolor": "#C8D4E3",
             "linecolor": "#C8D4E3",
             "minorgridcolor": "#C8D4E3",
             "startlinecolor": "#2a3f5f"
            },
            "baxis": {
             "endlinecolor": "#2a3f5f",
             "gridcolor": "#C8D4E3",
             "linecolor": "#C8D4E3",
             "minorgridcolor": "#C8D4E3",
             "startlinecolor": "#2a3f5f"
            },
            "type": "carpet"
           }
          ],
          "choropleth": [
           {
            "colorbar": {
             "outlinewidth": 0,
             "ticks": ""
            },
            "type": "choropleth"
           }
          ],
          "contour": [
           {
            "colorbar": {
             "outlinewidth": 0,
             "ticks": ""
            },
            "colorscale": [
             [
              0,
              "#0d0887"
             ],
             [
              0.1111111111111111,
              "#46039f"
             ],
             [
              0.2222222222222222,
              "#7201a8"
             ],
             [
              0.3333333333333333,
              "#9c179e"
             ],
             [
              0.4444444444444444,
              "#bd3786"
             ],
             [
              0.5555555555555556,
              "#d8576b"
             ],
             [
              0.6666666666666666,
              "#ed7953"
             ],
             [
              0.7777777777777778,
              "#fb9f3a"
             ],
             [
              0.8888888888888888,
              "#fdca26"
             ],
             [
              1,
              "#f0f921"
             ]
            ],
            "type": "contour"
           }
          ],
          "contourcarpet": [
           {
            "colorbar": {
             "outlinewidth": 0,
             "ticks": ""
            },
            "type": "contourcarpet"
           }
          ],
          "heatmap": [
           {
            "colorbar": {
             "outlinewidth": 0,
             "ticks": ""
            },
            "colorscale": [
             [
              0,
              "#0d0887"
             ],
             [
              0.1111111111111111,
              "#46039f"
             ],
             [
              0.2222222222222222,
              "#7201a8"
             ],
             [
              0.3333333333333333,
              "#9c179e"
             ],
             [
              0.4444444444444444,
              "#bd3786"
             ],
             [
              0.5555555555555556,
              "#d8576b"
             ],
             [
              0.6666666666666666,
              "#ed7953"
             ],
             [
              0.7777777777777778,
              "#fb9f3a"
             ],
             [
              0.8888888888888888,
              "#fdca26"
             ],
             [
              1,
              "#f0f921"
             ]
            ],
            "type": "heatmap"
           }
          ],
          "heatmapgl": [
           {
            "colorbar": {
             "outlinewidth": 0,
             "ticks": ""
            },
            "colorscale": [
             [
              0,
              "#0d0887"
             ],
             [
              0.1111111111111111,
              "#46039f"
             ],
             [
              0.2222222222222222,
              "#7201a8"
             ],
             [
              0.3333333333333333,
              "#9c179e"
             ],
             [
              0.4444444444444444,
              "#bd3786"
             ],
             [
              0.5555555555555556,
              "#d8576b"
             ],
             [
              0.6666666666666666,
              "#ed7953"
             ],
             [
              0.7777777777777778,
              "#fb9f3a"
             ],
             [
              0.8888888888888888,
              "#fdca26"
             ],
             [
              1,
              "#f0f921"
             ]
            ],
            "type": "heatmapgl"
           }
          ],
          "histogram": [
           {
            "marker": {
             "colorbar": {
              "outlinewidth": 0,
              "ticks": ""
             }
            },
            "type": "histogram"
           }
          ],
          "histogram2d": [
           {
            "colorbar": {
             "outlinewidth": 0,
             "ticks": ""
            },
            "colorscale": [
             [
              0,
              "#0d0887"
             ],
             [
              0.1111111111111111,
              "#46039f"
             ],
             [
              0.2222222222222222,
              "#7201a8"
             ],
             [
              0.3333333333333333,
              "#9c179e"
             ],
             [
              0.4444444444444444,
              "#bd3786"
             ],
             [
              0.5555555555555556,
              "#d8576b"
             ],
             [
              0.6666666666666666,
              "#ed7953"
             ],
             [
              0.7777777777777778,
              "#fb9f3a"
             ],
             [
              0.8888888888888888,
              "#fdca26"
             ],
             [
              1,
              "#f0f921"
             ]
            ],
            "type": "histogram2d"
           }
          ],
          "histogram2dcontour": [
           {
            "colorbar": {
             "outlinewidth": 0,
             "ticks": ""
            },
            "colorscale": [
             [
              0,
              "#0d0887"
             ],
             [
              0.1111111111111111,
              "#46039f"
             ],
             [
              0.2222222222222222,
              "#7201a8"
             ],
             [
              0.3333333333333333,
              "#9c179e"
             ],
             [
              0.4444444444444444,
              "#bd3786"
             ],
             [
              0.5555555555555556,
              "#d8576b"
             ],
             [
              0.6666666666666666,
              "#ed7953"
             ],
             [
              0.7777777777777778,
              "#fb9f3a"
             ],
             [
              0.8888888888888888,
              "#fdca26"
             ],
             [
              1,
              "#f0f921"
             ]
            ],
            "type": "histogram2dcontour"
           }
          ],
          "mesh3d": [
           {
            "colorbar": {
             "outlinewidth": 0,
             "ticks": ""
            },
            "type": "mesh3d"
           }
          ],
          "parcoords": [
           {
            "line": {
             "colorbar": {
              "outlinewidth": 0,
              "ticks": ""
             }
            },
            "type": "parcoords"
           }
          ],
          "pie": [
           {
            "automargin": true,
            "type": "pie"
           }
          ],
          "scatter": [
           {
            "marker": {
             "colorbar": {
              "outlinewidth": 0,
              "ticks": ""
             }
            },
            "type": "scatter"
           }
          ],
          "scatter3d": [
           {
            "line": {
             "colorbar": {
              "outlinewidth": 0,
              "ticks": ""
             }
            },
            "marker": {
             "colorbar": {
              "outlinewidth": 0,
              "ticks": ""
             }
            },
            "type": "scatter3d"
           }
          ],
          "scattercarpet": [
           {
            "marker": {
             "colorbar": {
              "outlinewidth": 0,
              "ticks": ""
             }
            },
            "type": "scattercarpet"
           }
          ],
          "scattergeo": [
           {
            "marker": {
             "colorbar": {
              "outlinewidth": 0,
              "ticks": ""
             }
            },
            "type": "scattergeo"
           }
          ],
          "scattergl": [
           {
            "marker": {
             "colorbar": {
              "outlinewidth": 0,
              "ticks": ""
             }
            },
            "type": "scattergl"
           }
          ],
          "scattermapbox": [
           {
            "marker": {
             "colorbar": {
              "outlinewidth": 0,
              "ticks": ""
             }
            },
            "type": "scattermapbox"
           }
          ],
          "scatterpolar": [
           {
            "marker": {
             "colorbar": {
              "outlinewidth": 0,
              "ticks": ""
             }
            },
            "type": "scatterpolar"
           }
          ],
          "scatterpolargl": [
           {
            "marker": {
             "colorbar": {
              "outlinewidth": 0,
              "ticks": ""
             }
            },
            "type": "scatterpolargl"
           }
          ],
          "scatterternary": [
           {
            "marker": {
             "colorbar": {
              "outlinewidth": 0,
              "ticks": ""
             }
            },
            "type": "scatterternary"
           }
          ],
          "surface": [
           {
            "colorbar": {
             "outlinewidth": 0,
             "ticks": ""
            },
            "colorscale": [
             [
              0,
              "#0d0887"
             ],
             [
              0.1111111111111111,
              "#46039f"
             ],
             [
              0.2222222222222222,
              "#7201a8"
             ],
             [
              0.3333333333333333,
              "#9c179e"
             ],
             [
              0.4444444444444444,
              "#bd3786"
             ],
             [
              0.5555555555555556,
              "#d8576b"
             ],
             [
              0.6666666666666666,
              "#ed7953"
             ],
             [
              0.7777777777777778,
              "#fb9f3a"
             ],
             [
              0.8888888888888888,
              "#fdca26"
             ],
             [
              1,
              "#f0f921"
             ]
            ],
            "type": "surface"
           }
          ],
          "table": [
           {
            "cells": {
             "fill": {
              "color": "#EBF0F8"
             },
             "line": {
              "color": "white"
             }
            },
            "header": {
             "fill": {
              "color": "#C8D4E3"
             },
             "line": {
              "color": "white"
             }
            },
            "type": "table"
           }
          ]
         },
         "layout": {
          "annotationdefaults": {
           "arrowcolor": "#2a3f5f",
           "arrowhead": 0,
           "arrowwidth": 1
          },
          "coloraxis": {
           "colorbar": {
            "outlinewidth": 0,
            "ticks": ""
           }
          },
          "colorscale": {
           "diverging": [
            [
             0,
             "#8e0152"
            ],
            [
             0.1,
             "#c51b7d"
            ],
            [
             0.2,
             "#de77ae"
            ],
            [
             0.3,
             "#f1b6da"
            ],
            [
             0.4,
             "#fde0ef"
            ],
            [
             0.5,
             "#f7f7f7"
            ],
            [
             0.6,
             "#e6f5d0"
            ],
            [
             0.7,
             "#b8e186"
            ],
            [
             0.8,
             "#7fbc41"
            ],
            [
             0.9,
             "#4d9221"
            ],
            [
             1,
             "#276419"
            ]
           ],
           "sequential": [
            [
             0,
             "#0d0887"
            ],
            [
             0.1111111111111111,
             "#46039f"
            ],
            [
             0.2222222222222222,
             "#7201a8"
            ],
            [
             0.3333333333333333,
             "#9c179e"
            ],
            [
             0.4444444444444444,
             "#bd3786"
            ],
            [
             0.5555555555555556,
             "#d8576b"
            ],
            [
             0.6666666666666666,
             "#ed7953"
            ],
            [
             0.7777777777777778,
             "#fb9f3a"
            ],
            [
             0.8888888888888888,
             "#fdca26"
            ],
            [
             1,
             "#f0f921"
            ]
           ],
           "sequentialminus": [
            [
             0,
             "#0d0887"
            ],
            [
             0.1111111111111111,
             "#46039f"
            ],
            [
             0.2222222222222222,
             "#7201a8"
            ],
            [
             0.3333333333333333,
             "#9c179e"
            ],
            [
             0.4444444444444444,
             "#bd3786"
            ],
            [
             0.5555555555555556,
             "#d8576b"
            ],
            [
             0.6666666666666666,
             "#ed7953"
            ],
            [
             0.7777777777777778,
             "#fb9f3a"
            ],
            [
             0.8888888888888888,
             "#fdca26"
            ],
            [
             1,
             "#f0f921"
            ]
           ]
          },
          "colorway": [
           "#636efa",
           "#EF553B",
           "#00cc96",
           "#ab63fa",
           "#FFA15A",
           "#19d3f3",
           "#FF6692",
           "#B6E880",
           "#FF97FF",
           "#FECB52"
          ],
          "font": {
           "color": "#2a3f5f"
          },
          "geo": {
           "bgcolor": "white",
           "lakecolor": "white",
           "landcolor": "white",
           "showlakes": true,
           "showland": true,
           "subunitcolor": "#C8D4E3"
          },
          "hoverlabel": {
           "align": "left"
          },
          "hovermode": "closest",
          "mapbox": {
           "style": "light"
          },
          "paper_bgcolor": "white",
          "plot_bgcolor": "white",
          "polar": {
           "angularaxis": {
            "gridcolor": "#EBF0F8",
            "linecolor": "#EBF0F8",
            "ticks": ""
           },
           "bgcolor": "white",
           "radialaxis": {
            "gridcolor": "#EBF0F8",
            "linecolor": "#EBF0F8",
            "ticks": ""
           }
          },
          "scene": {
           "xaxis": {
            "backgroundcolor": "white",
            "gridcolor": "#DFE8F3",
            "gridwidth": 2,
            "linecolor": "#EBF0F8",
            "showbackground": true,
            "ticks": "",
            "zerolinecolor": "#EBF0F8"
           },
           "yaxis": {
            "backgroundcolor": "white",
            "gridcolor": "#DFE8F3",
            "gridwidth": 2,
            "linecolor": "#EBF0F8",
            "showbackground": true,
            "ticks": "",
            "zerolinecolor": "#EBF0F8"
           },
           "zaxis": {
            "backgroundcolor": "white",
            "gridcolor": "#DFE8F3",
            "gridwidth": 2,
            "linecolor": "#EBF0F8",
            "showbackground": true,
            "ticks": "",
            "zerolinecolor": "#EBF0F8"
           }
          },
          "shapedefaults": {
           "line": {
            "color": "#2a3f5f"
           }
          },
          "ternary": {
           "aaxis": {
            "gridcolor": "#DFE8F3",
            "linecolor": "#A2B1C6",
            "ticks": ""
           },
           "baxis": {
            "gridcolor": "#DFE8F3",
            "linecolor": "#A2B1C6",
            "ticks": ""
           },
           "bgcolor": "white",
           "caxis": {
            "gridcolor": "#DFE8F3",
            "linecolor": "#A2B1C6",
            "ticks": ""
           }
          },
          "title": {
           "x": 0.05
          },
          "xaxis": {
           "automargin": true,
           "gridcolor": "#EBF0F8",
           "linecolor": "#EBF0F8",
           "ticks": "",
           "title": {
            "standoff": 15
           },
           "zerolinecolor": "#EBF0F8",
           "zerolinewidth": 2
          },
          "yaxis": {
           "automargin": true,
           "gridcolor": "#EBF0F8",
           "linecolor": "#EBF0F8",
           "ticks": "",
           "title": {
            "standoff": 15
           },
           "zerolinecolor": "#EBF0F8",
           "zerolinewidth": 2
          }
         }
        },
        "updatemenus": [
         {
          "buttons": [
           {
            "args": [
             {
              "yaxis.type": "linear"
             }
            ],
            "label": "Linear y-scale",
            "method": "relayout"
           },
           {
            "args": [
             {
              "yaxis.type": "log"
             }
            ],
            "label": "Log y-scale",
            "method": "relayout"
           }
          ],
          "direction": "left",
          "pad": {
           "r": 0,
           "t": -10
          },
          "showactive": true,
          "type": "buttons",
          "x": 0.11,
          "xanchor": "left",
          "y": 1.1,
          "yanchor": "top"
         }
        ],
        "xaxis": {
         "anchor": "y",
         "domain": [
          0,
          0.94
         ],
         "title": {
          "text": "$\\text{Time in day}$"
         }
        },
        "yaxis": {
         "anchor": "x",
         "domain": [
          0,
          1
         ],
         "title": {
          "text": "$\\text{Tumour volume in cm}^3$"
         }
        },
        "yaxis2": {
         "anchor": "x",
         "overlaying": "y",
         "position": 0.85,
         "side": "right",
         "title": {
          "text": "$\\text{Amount administered in mg}$"
         }
        }
       }
      }
     },
     "metadata": {}
    }
   ],
   "source": [
    "#\n",
    "# Illustrate population PKPD simulation.\n",
    "#\n",
    "# Needs above defined dosing regimens, percentiles, times, simulation results,\n",
    "# and the population size:\n",
    "# [dosing_regimens, percentiles, times, population_results, N]\n",
    "#\n",
    "\n",
    "# import plotly.io\n",
    "import plotly.graph_objects as go\n",
    "from plotly.subplots import make_subplots\n",
    "\n",
    "\n",
    "# Create figure\n",
    "#fig = go.Figure()\n",
    "fig = make_subplots(specs=[[{\"secondary_y\": True}]])\n",
    "\n",
    "# Plot administered drug\n",
    "# Convert dosing regimen into time\n",
    "dose_series = dosing_time_series[0]\n",
    "fig.add_trace(\n",
    "    go.Scatter(\n",
    "        x=dose_series[0, :],\n",
    "        y=dose_series[1, :],\n",
    "        name=\"Amount\",\n",
    "        hovertemplate=\n",
    "                \"<b></b>Cumulative amount of compound<br>\" +\n",
    "                \"Time: %{x:.0f} day<br>\" +\n",
    "                \"Amount: %{y:.01f} mg<br>\" +\n",
    "                \"<extra></extra>\",\n",
    "        line=dict(color='rgb(0, 0, 0)'),\n",
    "        mode='lines'),\n",
    "    secondary_y=True)\n",
    "\n",
    "# Plot data LXF A677 Erlotinib\n",
    "# Plot 0th percentile to 100th precentile\n",
    "fig.add_trace(\n",
    "    go.Scatter(\n",
    "        x=np.hstack([times,times[::-1]]),\n",
    "        y=np.hstack([\n",
    "            population_results[0, 0, 0, :], \n",
    "            population_results[0, 0, 4, ::-1]]),\n",
    "        line=dict(width=1, color='rgb(51, 153, 255)'),\n",
    "        fill='toself',\n",
    "        legendgroup=\"LXF A677 Erlotinib\",\n",
    "        name=\"0th to 100th percentile\",\n",
    "        hoverinfo='name',\n",
    "        showlegend=False),\n",
    "    secondary_y=False)\n",
    "\n",
    "# Plot 25th percentile to 75th precentile\n",
    "fig.add_trace(\n",
    "    go.Scatter(\n",
    "        x=np.hstack([times,times[::-1]]),\n",
    "        y=np.hstack([\n",
    "            population_results[0, 0, 1, :], \n",
    "            population_results[0, 0, 3, ::-1]]),\n",
    "        line=dict(width=1, color='rgb(0, 128, 255)'),\n",
    "        fill='toself',\n",
    "        legendgroup=\"LXF A677 Erlotinib\",\n",
    "        name=\"25th to 75th percentile\",\n",
    "        hoverinfo='name',\n",
    "        showlegend=False),\n",
    "    secondary_y=False)\n",
    "\n",
    "# Plot Median\n",
    "fig.add_trace(\n",
    "    go.Scatter(\n",
    "        x=times,\n",
    "        y=population_results[0, 0, 2, :],\n",
    "        legendgroup=\"LXF A677 Erlotinib\",\n",
    "        name=\"LXF A677 Erlotinib\",\n",
    "        hovertemplate=\n",
    "                \"<b></b>Median<br>\" +\n",
    "                \"Population size: %d<br>\" % N +\n",
    "                \"Time: %{x:.02f} day<br>\" +\n",
    "                \"Tumour volume: %{y:.02f} cm^3<br>\" +\n",
    "                \"<extra></extra>\",\n",
    "        line=dict(color='rgb(0, 102, 204)')),\n",
    "    secondary_y=False)\n",
    "\n",
    "# Plot data VXF A431 Erlotinib\n",
    "# Plot 0th percentile to 100th precentile\n",
    "fig.add_trace(\n",
    "    go.Scatter(\n",
    "        x=np.hstack([times,times[::-1]]),\n",
    "        y=np.hstack([\n",
    "            population_results[1, 0, 0, :], \n",
    "            population_results[1, 0, 4, ::-1]]),\n",
    "        line=dict(width=1, color='rgb(255, 51, 51)'),\n",
    "        fill='toself',\n",
    "        legendgroup=\"VXF A431 Erlotinib\",\n",
    "        name=\"0th to 100th percentile\",\n",
    "        hoverinfo='name',\n",
    "        showlegend=False),\n",
    "    secondary_y=False)\n",
    "\n",
    "# Plot 25th percentile to 75th precentile\n",
    "fig.add_trace(\n",
    "    go.Scatter(\n",
    "        x=np.hstack([times,times[::-1]]),\n",
    "        y=np.hstack([\n",
    "            population_results[1, 0, 1, :], \n",
    "            population_results[1, 0, 3, ::-1]]),\n",
    "        line=dict(width=1, color='rgb(255, 0, 0)'),\n",
    "        fill='toself',\n",
    "        legendgroup=\"VXF A431 Erlotinib\",\n",
    "        name=\"25th to 75th percentile\",\n",
    "        hoverinfo='name',\n",
    "        showlegend=False),\n",
    "    secondary_y=False)\n",
    "\n",
    "# Plot Median\n",
    "fig.add_trace(\n",
    "    go.Scatter(\n",
    "        x=times,\n",
    "        y=population_results[1, 0, 2, :],\n",
    "        legendgroup=\"VXF A431 Erlotinib\",\n",
    "        name=\"VXF A431 Erlotinib\",\n",
    "        hovertemplate=\n",
    "                \"<b></b>Median<br>\" +\n",
    "                \"Population size: %d<br>\" % N +\n",
    "                \"Time: %{x:.02f} day<br>\" +\n",
    "                \"Tumour volume: %{y:.02f} cm^3<br>\" +\n",
    "                \"<extra></extra>\",\n",
    "        line=dict(color='rgb(204, 0, 0)')),\n",
    "    secondary_y=False)\n",
    "\n",
    "# Set X, Y axes label and figure size\n",
    "fig.update_layout(\n",
    "    autosize=True,\n",
    "    xaxis_title=r'$\\text{Time in day}$',\n",
    "    template=\"plotly_white\")\n",
    "\n",
    "# Set Y axes labels\n",
    "fig.update_yaxes(title_text=r'$\\text{Tumour volume in cm}^3$', secondary_y=False)\n",
    "fig.update_yaxes(title_text=r'$\\text{Amount administered in mg}$', secondary_y=True, position=0.85)\n",
    "\n",
    "# Add switch between linear and log y-scale\n",
    "fig.update_layout(\n",
    "    updatemenus=[\n",
    "        dict(\n",
    "            type = \"buttons\",\n",
    "            direction = \"left\",\n",
    "            buttons=list([\n",
    "                dict(\n",
    "                    args=[{\"yaxis.type\": \"linear\"}],\n",
    "                    label=\"Linear y-scale\",\n",
    "                    method=\"relayout\"\n",
    "                ),\n",
    "                dict(\n",
    "                    args=[{\"yaxis.type\": \"log\"}],\n",
    "                    label=\"Log y-scale\",\n",
    "                    method=\"relayout\"\n",
    "                )\n",
    "            ]),\n",
    "            pad={\"r\": 0, \"t\": -10},\n",
    "            showactive=True,\n",
    "            x=0.11,\n",
    "            xanchor=\"left\",\n",
    "            y=1.1,\n",
    "            yanchor=\"top\"\n",
    "        ),\n",
    "    ]\n",
    ")\n",
    "\n",
    "# Position legend\n",
    "fig.update_layout(legend=dict(\n",
    "    yanchor=\"top\",\n",
    "    y=0.99,\n",
    "    xanchor=\"left\",\n",
    "    x=1.05))\n",
    "\n",
    "# Show figure\n",
    "fig.show()\n"
   ]
  },
  {
   "cell_type": "code",
   "execution_count": 20,
   "metadata": {},
   "outputs": [
    {
     "output_type": "display_data",
     "data": {
      "application/vnd.plotly.v1+json": {
       "config": {
        "plotlyServerURL": "https://plot.ly"
       },
       "data": [
        {
         "hovertemplate": "Potency of Erlotinib: %{x:.02f} L/mg/day<br>Probability density in population: %{y:.02f}<br><extra></extra>",
         "mode": "lines",
         "name": "LXF A677",
         "type": "scatter",
         "x": [
          0.01,
          0.010781895093053743,
          0.011624926179761637,
          0.0125338734534684,
          0.01351389086849075,
          0.01457053536430442,
          0.015709798374755987,
          0.016938139800964532,
          0.018262524640547777,
          0.019690462480869513,
          0.021230050080244586,
          0.02289001727854743,
          0.024679776497548593,
          0.026609476111658224,
          0.02869005799170186,
          0.030933319548015776,
          0.03335198062466147,
          0.0359597556240661,
          0.03877143127105301,
          0.04180295045720368,
          0.04507150264096931,
          0.04859562131612258,
          0.052395289101219995,
          0.05649205104595761,
          0.06090913679689519,
          0.06567159231525833,
          0.07080642189369098,
          0.07634274127722798,
          0.08231194275672159,
          0.0887478731708417,
          0.09568702582596546,
          0.10316874742218837,
          0.11123546115877937,
          0.11993290728414135,
          0.12931040245425532,
          0.139421119370234,
          0.1503223882805986,
          0.16207602205787056,
          0.17474866669274255,
          0.1884121791932165,
          0.20314403503149034,
          0.21902776744891633,
          0.23615344110999875,
          0.2546181627911651,
          0.27452663200004224,
          0.2959917346473826,
          0.319135183137908,
          0.3440882065095418,
          0.37099229453428917,
          0.4
         ],
         "y": [
          0.05176318003516785,
          0.07352961154084209,
          0.10307393489938266,
          0.1425872527965301,
          0.19465152436067654,
          0.2622286736444307,
          0.3486163962314813,
          0.45736265637968027,
          0.5921324416186887,
          0.756523236006865,
          0.9538299368284737,
          1.1867654331940574,
          1.4571494240080078,
          1.7655846784843787,
          2.111146033005219,
          2.4911120431280147,
          2.9007714258491086,
          3.3333354252623466,
          3.7799824946002243,
          4.2300531183393755,
          4.671400631173694,
          5.090889502726038,
          5.475017204384693,
          5.810621239998102,
          6.0856210854696045,
          6.289737350515174,
          6.415128712112585,
          6.456891669832596,
          6.413378735282393,
          6.286306275677819,
          6.080642171630852,
          5.80428353861245,
          5.467553653892736,
          5.0825627498595765,
          4.6624877794171615,
          4.220830630042407,
          3.770712374040747,
          3.3242536053842993,
          2.892079002993303,
          2.4829696897649827,
          2.1036716068302046,
          1.7588537711920622,
          1.4511983799520018,
          1.181596231398791,
          0.9494162726393941,
          0.7528171542391191,
          0.5890709471198873,
          0.45487384185289026,
          0.3466247612241338,
          0.2606594446603914
         ]
        },
        {
         "hovertemplate": "Potency of Erlotinib: %{x:.02f} L/mg/day<br>Probability density in population: %{y:.02f}<br><extra></extra>",
         "mode": "lines",
         "name": "VXF A431",
         "type": "scatter",
         "x": [
          0.01,
          0.010781895093053743,
          0.011624926179761637,
          0.0125338734534684,
          0.01351389086849075,
          0.01457053536430442,
          0.015709798374755987,
          0.016938139800964532,
          0.018262524640547777,
          0.019690462480869513,
          0.021230050080244586,
          0.02289001727854743,
          0.024679776497548593,
          0.026609476111658224,
          0.02869005799170186,
          0.030933319548015776,
          0.03335198062466147,
          0.0359597556240661,
          0.03877143127105301,
          0.04180295045720368,
          0.04507150264096931,
          0.04859562131612258,
          0.052395289101219995,
          0.05649205104595761,
          0.06090913679689519,
          0.06567159231525833,
          0.07080642189369098,
          0.07634274127722798,
          0.08231194275672159,
          0.0887478731708417,
          0.09568702582596546,
          0.10316874742218837,
          0.11123546115877937,
          0.11993290728414135,
          0.12931040245425532,
          0.139421119370234,
          0.1503223882805986,
          0.16207602205787056,
          0.17474866669274255,
          0.1884121791932165,
          0.20314403503149034,
          0.21902776744891633,
          0.23615344110999875,
          0.2546181627911651,
          0.27452663200004224,
          0.2959917346473826,
          0.319135183137908,
          0.3440882065095418,
          0.37099229453428917,
          0.4
         ],
         "y": [
          4.073212691284754,
          5.0854170847210085,
          6.244874881167925,
          7.5427303060292035,
          8.960682552066073,
          10.470351909802229,
          12.033421787671701,
          13.602686055528821,
          15.124042335946504,
          16.539362588723268,
          17.790056459794116,
          18.821037449353216,
          19.584724451222712,
          20.044676271227193,
          20.178473182733196,
          19.979528342657503,
          19.45762528722649,
          18.63812043769761,
          17.55990112988129,
          16.272328128348136,
          14.831497205018149,
          13.296213182403777,
          11.724075847623862,
          10.168032915161794,
          8.673670935573579,
          7.277406164844878,
          6.005621550049455,
          4.874689775172474,
          3.891738743709732,
          3.0559626905989967,
          2.3602613343063865,
          1.7929980211368088,
          1.33969890666292,
          0.9845601866710204,
          0.711680409656865,
          0.5059824187818918,
          0.3538290746788211,
          0.24336565079381692,
          0.1646389999142972,
          0.10955036581564871,
          0.07169726995585232,
          0.04615290909755108,
          0.029221547827423526,
          0.018197638196584095,
          0.011146397082950638,
          0.006715242013379495,
          0.0039792067246437164,
          0.002319204307729691,
          0.0013295025984121666,
          0.0007496301512583699
         ]
        }
       ],
       "layout": {
        "autosize": true,
        "template": {
         "data": {
          "bar": [
           {
            "error_x": {
             "color": "#2a3f5f"
            },
            "error_y": {
             "color": "#2a3f5f"
            },
            "marker": {
             "line": {
              "color": "white",
              "width": 0.5
             }
            },
            "type": "bar"
           }
          ],
          "barpolar": [
           {
            "marker": {
             "line": {
              "color": "white",
              "width": 0.5
             }
            },
            "type": "barpolar"
           }
          ],
          "carpet": [
           {
            "aaxis": {
             "endlinecolor": "#2a3f5f",
             "gridcolor": "#C8D4E3",
             "linecolor": "#C8D4E3",
             "minorgridcolor": "#C8D4E3",
             "startlinecolor": "#2a3f5f"
            },
            "baxis": {
             "endlinecolor": "#2a3f5f",
             "gridcolor": "#C8D4E3",
             "linecolor": "#C8D4E3",
             "minorgridcolor": "#C8D4E3",
             "startlinecolor": "#2a3f5f"
            },
            "type": "carpet"
           }
          ],
          "choropleth": [
           {
            "colorbar": {
             "outlinewidth": 0,
             "ticks": ""
            },
            "type": "choropleth"
           }
          ],
          "contour": [
           {
            "colorbar": {
             "outlinewidth": 0,
             "ticks": ""
            },
            "colorscale": [
             [
              0,
              "#0d0887"
             ],
             [
              0.1111111111111111,
              "#46039f"
             ],
             [
              0.2222222222222222,
              "#7201a8"
             ],
             [
              0.3333333333333333,
              "#9c179e"
             ],
             [
              0.4444444444444444,
              "#bd3786"
             ],
             [
              0.5555555555555556,
              "#d8576b"
             ],
             [
              0.6666666666666666,
              "#ed7953"
             ],
             [
              0.7777777777777778,
              "#fb9f3a"
             ],
             [
              0.8888888888888888,
              "#fdca26"
             ],
             [
              1,
              "#f0f921"
             ]
            ],
            "type": "contour"
           }
          ],
          "contourcarpet": [
           {
            "colorbar": {
             "outlinewidth": 0,
             "ticks": ""
            },
            "type": "contourcarpet"
           }
          ],
          "heatmap": [
           {
            "colorbar": {
             "outlinewidth": 0,
             "ticks": ""
            },
            "colorscale": [
             [
              0,
              "#0d0887"
             ],
             [
              0.1111111111111111,
              "#46039f"
             ],
             [
              0.2222222222222222,
              "#7201a8"
             ],
             [
              0.3333333333333333,
              "#9c179e"
             ],
             [
              0.4444444444444444,
              "#bd3786"
             ],
             [
              0.5555555555555556,
              "#d8576b"
             ],
             [
              0.6666666666666666,
              "#ed7953"
             ],
             [
              0.7777777777777778,
              "#fb9f3a"
             ],
             [
              0.8888888888888888,
              "#fdca26"
             ],
             [
              1,
              "#f0f921"
             ]
            ],
            "type": "heatmap"
           }
          ],
          "heatmapgl": [
           {
            "colorbar": {
             "outlinewidth": 0,
             "ticks": ""
            },
            "colorscale": [
             [
              0,
              "#0d0887"
             ],
             [
              0.1111111111111111,
              "#46039f"
             ],
             [
              0.2222222222222222,
              "#7201a8"
             ],
             [
              0.3333333333333333,
              "#9c179e"
             ],
             [
              0.4444444444444444,
              "#bd3786"
             ],
             [
              0.5555555555555556,
              "#d8576b"
             ],
             [
              0.6666666666666666,
              "#ed7953"
             ],
             [
              0.7777777777777778,
              "#fb9f3a"
             ],
             [
              0.8888888888888888,
              "#fdca26"
             ],
             [
              1,
              "#f0f921"
             ]
            ],
            "type": "heatmapgl"
           }
          ],
          "histogram": [
           {
            "marker": {
             "colorbar": {
              "outlinewidth": 0,
              "ticks": ""
             }
            },
            "type": "histogram"
           }
          ],
          "histogram2d": [
           {
            "colorbar": {
             "outlinewidth": 0,
             "ticks": ""
            },
            "colorscale": [
             [
              0,
              "#0d0887"
             ],
             [
              0.1111111111111111,
              "#46039f"
             ],
             [
              0.2222222222222222,
              "#7201a8"
             ],
             [
              0.3333333333333333,
              "#9c179e"
             ],
             [
              0.4444444444444444,
              "#bd3786"
             ],
             [
              0.5555555555555556,
              "#d8576b"
             ],
             [
              0.6666666666666666,
              "#ed7953"
             ],
             [
              0.7777777777777778,
              "#fb9f3a"
             ],
             [
              0.8888888888888888,
              "#fdca26"
             ],
             [
              1,
              "#f0f921"
             ]
            ],
            "type": "histogram2d"
           }
          ],
          "histogram2dcontour": [
           {
            "colorbar": {
             "outlinewidth": 0,
             "ticks": ""
            },
            "colorscale": [
             [
              0,
              "#0d0887"
             ],
             [
              0.1111111111111111,
              "#46039f"
             ],
             [
              0.2222222222222222,
              "#7201a8"
             ],
             [
              0.3333333333333333,
              "#9c179e"
             ],
             [
              0.4444444444444444,
              "#bd3786"
             ],
             [
              0.5555555555555556,
              "#d8576b"
             ],
             [
              0.6666666666666666,
              "#ed7953"
             ],
             [
              0.7777777777777778,
              "#fb9f3a"
             ],
             [
              0.8888888888888888,
              "#fdca26"
             ],
             [
              1,
              "#f0f921"
             ]
            ],
            "type": "histogram2dcontour"
           }
          ],
          "mesh3d": [
           {
            "colorbar": {
             "outlinewidth": 0,
             "ticks": ""
            },
            "type": "mesh3d"
           }
          ],
          "parcoords": [
           {
            "line": {
             "colorbar": {
              "outlinewidth": 0,
              "ticks": ""
             }
            },
            "type": "parcoords"
           }
          ],
          "pie": [
           {
            "automargin": true,
            "type": "pie"
           }
          ],
          "scatter": [
           {
            "marker": {
             "colorbar": {
              "outlinewidth": 0,
              "ticks": ""
             }
            },
            "type": "scatter"
           }
          ],
          "scatter3d": [
           {
            "line": {
             "colorbar": {
              "outlinewidth": 0,
              "ticks": ""
             }
            },
            "marker": {
             "colorbar": {
              "outlinewidth": 0,
              "ticks": ""
             }
            },
            "type": "scatter3d"
           }
          ],
          "scattercarpet": [
           {
            "marker": {
             "colorbar": {
              "outlinewidth": 0,
              "ticks": ""
             }
            },
            "type": "scattercarpet"
           }
          ],
          "scattergeo": [
           {
            "marker": {
             "colorbar": {
              "outlinewidth": 0,
              "ticks": ""
             }
            },
            "type": "scattergeo"
           }
          ],
          "scattergl": [
           {
            "marker": {
             "colorbar": {
              "outlinewidth": 0,
              "ticks": ""
             }
            },
            "type": "scattergl"
           }
          ],
          "scattermapbox": [
           {
            "marker": {
             "colorbar": {
              "outlinewidth": 0,
              "ticks": ""
             }
            },
            "type": "scattermapbox"
           }
          ],
          "scatterpolar": [
           {
            "marker": {
             "colorbar": {
              "outlinewidth": 0,
              "ticks": ""
             }
            },
            "type": "scatterpolar"
           }
          ],
          "scatterpolargl": [
           {
            "marker": {
             "colorbar": {
              "outlinewidth": 0,
              "ticks": ""
             }
            },
            "type": "scatterpolargl"
           }
          ],
          "scatterternary": [
           {
            "marker": {
             "colorbar": {
              "outlinewidth": 0,
              "ticks": ""
             }
            },
            "type": "scatterternary"
           }
          ],
          "surface": [
           {
            "colorbar": {
             "outlinewidth": 0,
             "ticks": ""
            },
            "colorscale": [
             [
              0,
              "#0d0887"
             ],
             [
              0.1111111111111111,
              "#46039f"
             ],
             [
              0.2222222222222222,
              "#7201a8"
             ],
             [
              0.3333333333333333,
              "#9c179e"
             ],
             [
              0.4444444444444444,
              "#bd3786"
             ],
             [
              0.5555555555555556,
              "#d8576b"
             ],
             [
              0.6666666666666666,
              "#ed7953"
             ],
             [
              0.7777777777777778,
              "#fb9f3a"
             ],
             [
              0.8888888888888888,
              "#fdca26"
             ],
             [
              1,
              "#f0f921"
             ]
            ],
            "type": "surface"
           }
          ],
          "table": [
           {
            "cells": {
             "fill": {
              "color": "#EBF0F8"
             },
             "line": {
              "color": "white"
             }
            },
            "header": {
             "fill": {
              "color": "#C8D4E3"
             },
             "line": {
              "color": "white"
             }
            },
            "type": "table"
           }
          ]
         },
         "layout": {
          "annotationdefaults": {
           "arrowcolor": "#2a3f5f",
           "arrowhead": 0,
           "arrowwidth": 1
          },
          "coloraxis": {
           "colorbar": {
            "outlinewidth": 0,
            "ticks": ""
           }
          },
          "colorscale": {
           "diverging": [
            [
             0,
             "#8e0152"
            ],
            [
             0.1,
             "#c51b7d"
            ],
            [
             0.2,
             "#de77ae"
            ],
            [
             0.3,
             "#f1b6da"
            ],
            [
             0.4,
             "#fde0ef"
            ],
            [
             0.5,
             "#f7f7f7"
            ],
            [
             0.6,
             "#e6f5d0"
            ],
            [
             0.7,
             "#b8e186"
            ],
            [
             0.8,
             "#7fbc41"
            ],
            [
             0.9,
             "#4d9221"
            ],
            [
             1,
             "#276419"
            ]
           ],
           "sequential": [
            [
             0,
             "#0d0887"
            ],
            [
             0.1111111111111111,
             "#46039f"
            ],
            [
             0.2222222222222222,
             "#7201a8"
            ],
            [
             0.3333333333333333,
             "#9c179e"
            ],
            [
             0.4444444444444444,
             "#bd3786"
            ],
            [
             0.5555555555555556,
             "#d8576b"
            ],
            [
             0.6666666666666666,
             "#ed7953"
            ],
            [
             0.7777777777777778,
             "#fb9f3a"
            ],
            [
             0.8888888888888888,
             "#fdca26"
            ],
            [
             1,
             "#f0f921"
            ]
           ],
           "sequentialminus": [
            [
             0,
             "#0d0887"
            ],
            [
             0.1111111111111111,
             "#46039f"
            ],
            [
             0.2222222222222222,
             "#7201a8"
            ],
            [
             0.3333333333333333,
             "#9c179e"
            ],
            [
             0.4444444444444444,
             "#bd3786"
            ],
            [
             0.5555555555555556,
             "#d8576b"
            ],
            [
             0.6666666666666666,
             "#ed7953"
            ],
            [
             0.7777777777777778,
             "#fb9f3a"
            ],
            [
             0.8888888888888888,
             "#fdca26"
            ],
            [
             1,
             "#f0f921"
            ]
           ]
          },
          "colorway": [
           "#636efa",
           "#EF553B",
           "#00cc96",
           "#ab63fa",
           "#FFA15A",
           "#19d3f3",
           "#FF6692",
           "#B6E880",
           "#FF97FF",
           "#FECB52"
          ],
          "font": {
           "color": "#2a3f5f"
          },
          "geo": {
           "bgcolor": "white",
           "lakecolor": "white",
           "landcolor": "white",
           "showlakes": true,
           "showland": true,
           "subunitcolor": "#C8D4E3"
          },
          "hoverlabel": {
           "align": "left"
          },
          "hovermode": "closest",
          "mapbox": {
           "style": "light"
          },
          "paper_bgcolor": "white",
          "plot_bgcolor": "white",
          "polar": {
           "angularaxis": {
            "gridcolor": "#EBF0F8",
            "linecolor": "#EBF0F8",
            "ticks": ""
           },
           "bgcolor": "white",
           "radialaxis": {
            "gridcolor": "#EBF0F8",
            "linecolor": "#EBF0F8",
            "ticks": ""
           }
          },
          "scene": {
           "xaxis": {
            "backgroundcolor": "white",
            "gridcolor": "#DFE8F3",
            "gridwidth": 2,
            "linecolor": "#EBF0F8",
            "showbackground": true,
            "ticks": "",
            "zerolinecolor": "#EBF0F8"
           },
           "yaxis": {
            "backgroundcolor": "white",
            "gridcolor": "#DFE8F3",
            "gridwidth": 2,
            "linecolor": "#EBF0F8",
            "showbackground": true,
            "ticks": "",
            "zerolinecolor": "#EBF0F8"
           },
           "zaxis": {
            "backgroundcolor": "white",
            "gridcolor": "#DFE8F3",
            "gridwidth": 2,
            "linecolor": "#EBF0F8",
            "showbackground": true,
            "ticks": "",
            "zerolinecolor": "#EBF0F8"
           }
          },
          "shapedefaults": {
           "line": {
            "color": "#2a3f5f"
           }
          },
          "ternary": {
           "aaxis": {
            "gridcolor": "#DFE8F3",
            "linecolor": "#A2B1C6",
            "ticks": ""
           },
           "baxis": {
            "gridcolor": "#DFE8F3",
            "linecolor": "#A2B1C6",
            "ticks": ""
           },
           "bgcolor": "white",
           "caxis": {
            "gridcolor": "#DFE8F3",
            "linecolor": "#A2B1C6",
            "ticks": ""
           }
          },
          "title": {
           "x": 0.05
          },
          "xaxis": {
           "automargin": true,
           "gridcolor": "#EBF0F8",
           "linecolor": "#EBF0F8",
           "ticks": "",
           "title": {
            "standoff": 15
           },
           "zerolinecolor": "#EBF0F8",
           "zerolinewidth": 2
          },
          "yaxis": {
           "automargin": true,
           "gridcolor": "#EBF0F8",
           "linecolor": "#EBF0F8",
           "ticks": "",
           "title": {
            "standoff": 15
           },
           "zerolinecolor": "#EBF0F8",
           "zerolinewidth": 2
          }
         }
        },
        "updatemenus": [
         {
          "buttons": [
           {
            "args": [
             {
              "xaxis.type": "linear"
             }
            ],
            "label": "Linear x-scale",
            "method": "relayout"
           },
           {
            "args": [
             {
              "xaxis.type": "log"
             }
            ],
            "label": "Log x-scale",
            "method": "relayout"
           }
          ],
          "direction": "left",
          "pad": {
           "r": 0,
           "t": -10
          },
          "showactive": true,
          "type": "buttons",
          "x": 0.11,
          "xanchor": "left",
          "y": 1.1,
          "yanchor": "top"
         }
        ],
        "xaxis": {
         "title": {
          "text": "$\\text{Erlotinib potency }\\kappa \\text{ in L/mg/day}$"
         }
        },
        "yaxis": {
         "title": {
          "text": "$\\text{Probability density in population}$"
         }
        }
       }
      }
     },
     "metadata": {}
    }
   ],
   "source": [
    "#\n",
    "# Illustration of Erlotinib's potency population distribution for LXF A677 mice assuming estimate for population mean and standard deviation in [1] were exact.\n",
    "#\n",
    "\n",
    "import numpy as np\n",
    "import plotly.graph_objects as go\n",
    "from scipy.stats import lognorm\n",
    "\n",
    "\n",
    "# Estimates for mean and s.d. kappa from Table 1, LXF A677\n",
    "mean = 0.117  # in \"log(L/mg/day)\"\n",
    "sd = 0.654  # in \"log(L/mg/day)\"\n",
    "\n",
    "# Get 1st and 99th percentile\n",
    "start = -2  \n",
    "end = np.log10(0.4)\n",
    "\n",
    "# Trace out probability density\n",
    "lxf_kappa = np.logspace(start=start, stop=end)\n",
    "lxf_pdf = lognorm.pdf(lxf_kappa, scale=mean, s=sd)\n",
    "\n",
    "# Estimates for mean and s.d. kappa from Table 1, LXF A677\n",
    "mean = 0.0401  # in \"log(L/mg/day)\"\n",
    "sd = 0.585  # in \"log(L/mg/day)\"\n",
    "\n",
    "# Get 1st and 99th percentile\n",
    "start = -2  \n",
    "end = np.log10(0.4)\n",
    "\n",
    "# Trace out probability density\n",
    "vxf_kappa = np.logspace(start=start, stop=end)\n",
    "vxf_pdf = lognorm.pdf(vxf_kappa, scale=mean, s=sd)  # log(x/mean) = log(x) - log(mean)\n",
    "\n",
    "# Create figure\n",
    "fig = go.Figure()\n",
    "\n",
    "# Plot dsitribution of kappa for LXF A677\n",
    "fig.add_trace(go.Scatter(\n",
    "    x=lxf_kappa,\n",
    "    y=lxf_pdf,\n",
    "    name='LXF A677',\n",
    "    hovertemplate=\n",
    "        \"Potency of Erlotinib: %{x:.02f} L/mg/day<br>\" +\n",
    "        \"Probability density in population: %{y:.02f}<br>\" +\n",
    "        \"<extra></extra>\",\n",
    "    mode=\"lines\",\n",
    "))\n",
    "\n",
    "# Plot distribution of kappa for VXF A431\n",
    "fig.add_trace(go.Scatter(\n",
    "    x=vxf_kappa,\n",
    "    y=vxf_pdf,\n",
    "    name='VXF A431',\n",
    "    hovertemplate=\n",
    "        \"Potency of Erlotinib: %{x:.02f} L/mg/day<br>\" +\n",
    "        \"Probability density in population: %{y:.02f}<br>\" +\n",
    "        \"<extra></extra>\",\n",
    "    mode=\"lines\",\n",
    "))\n",
    "\n",
    "# Set X, Y axis and figure size\n",
    "fig.update_layout(\n",
    "    autosize=True,\n",
    "    xaxis_title=r'$\\text{Erlotinib potency }\\kappa \\text{ in L/mg/day}$',\n",
    "    yaxis_title=r'$\\text{Probability density in population}$',\n",
    "    template=\"plotly_white\")\n",
    "\n",
    "# Add switch between linear and log y-scale\n",
    "fig.update_layout(\n",
    "    updatemenus=[\n",
    "        dict(\n",
    "            type = \"buttons\",\n",
    "            direction = \"left\",\n",
    "            buttons=list([\n",
    "                dict(\n",
    "                    args=[{\"xaxis.type\": \"linear\"}],\n",
    "                    label=\"Linear x-scale\",\n",
    "                    method=\"relayout\"\n",
    "                ),\n",
    "                dict(\n",
    "                    args=[{\"xaxis.type\": \"log\"}],\n",
    "                    label=\"Log x-scale\",\n",
    "                    method=\"relayout\"\n",
    "                )\n",
    "            ]),\n",
    "            pad={\"r\": 0, \"t\": -10},\n",
    "            showactive=True,\n",
    "            x=0.11,\n",
    "            xanchor=\"left\",\n",
    "            y=1.1,\n",
    "            yanchor=\"top\"\n",
    "        ),\n",
    "    ]\n",
    ")\n",
    "\n",
    "# Show figure\n",
    "fig.show()"
   ]
  },
  {
   "cell_type": "code",
   "execution_count": 6,
   "metadata": {},
   "outputs": [
    {
     "output_type": "execute_result",
     "data": {
      "text/plain": "0.20876826722338207"
     },
     "metadata": {},
     "execution_count": 6
    }
   ],
   "source": [
    "# Check whether analytical expressions exist for lognormal with uncertain mean and variance\n",
    "# Plot population dose-response curve predictions (including all uncertainty of possible)"
   ]
  },
  {
   "cell_type": "markdown",
   "metadata": {},
   "source": [
    "## Bibliography\n",
    "\n",
    "- <a name=\"ref1\"> [1] </a> Eigenmann et. al., Combining Nonclinical Experiments with Translational PKPD Modeling to Differentiate Erlotinib and Gefitinib, Mol Cancer Ther (2016)"
   ]
  },
  {
   "cell_type": "code",
   "execution_count": null,
   "metadata": {},
   "outputs": [],
   "source": []
  }
 ],
 "metadata": {
  "language_info": {
   "codemirror_mode": {
    "name": "ipython",
    "version": 3
   },
   "file_extension": ".py",
   "mimetype": "text/x-python",
   "name": "python",
   "nbconvert_exporter": "python",
   "pygments_lexer": "ipython3",
   "version": "3.7.5-final"
  },
  "orig_nbformat": 2,
  "kernelspec": {
   "name": "python37564bitvenvvenv6a1cf9e436c848d3930f390a42386651",
   "display_name": "Python 3.7.5 64-bit ('venv': venv)"
  }
 },
 "nbformat": 4,
 "nbformat_minor": 2
}