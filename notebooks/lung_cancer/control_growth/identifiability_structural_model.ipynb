{
 "cells": [
  {
   "cell_type": "markdown",
   "metadata": {},
   "source": [
    "# Identifiability of Structural Model for Lung Cancer Growth in Absence of Treatment\n",
    "\n",
    "The tumour growth inhibitory effects of Erlotinib and Gefitinib were modelled with a population PKPD model in [1]. A population PKPD model is a hierarchical model which consists of a structural model, a population model, and an error model. Each sub-model captures a different aspect of the tumour growth inhibition biology, and is parametrised by a set of parameters. \n",
    "\n",
    "In this notebook we explore the identifiability of the structural model for the untreated tumour growth of LXF A677 explants implanted in mice [1]. In particular, we investigate the effects of log-transformations and non-dimensionalisation of the model parameters on the stability of the optimisation. "
   ]
  },
  {
   "cell_type": "markdown",
   "metadata": {},
   "source": [
    "## Structural growth model in absence of treatment\n",
    "\n",
    "In a PKPD model the structural model is a mechanistic or empirical description of the drug's pharmacokinetics (PK) and pharmacodynamics (PD) for an individual. The PK model describes how the drug is distributed in the body upon administration of that individual, which is often referred to as \"what the body does to the drug\". The PD model captures the drug's effects on the progression of the disease, or \"what the drug does to the body\". 'Progression of the disease' may be quantified by any disease-related observable, such as biomarkers or in this case the tumour volume. A PD model does therefore not only need to capture the disease progression of an individual *under the influence* of a compound, but also needs to be able to describe its progresion in the *absence* of any treatment.\n",
    "\n",
    "In [1] a structural model is proposed for the tumour growth in absence of the compound, which assumes that the tumour grows exponentially for small tumour volumes, and linearly for large tumour volumes\n",
    "\n",
    "\\begin{equation*}\n",
    "    \\frac{\\text{d}V^s_T}{\\text{d}t} = \\frac{2\\lambda _0\\lambda _1 V^s_T}{2\\lambda _0 V^s_T + \\lambda _1}.\n",
    "\\end{equation*}\n",
    "\n",
    "Here, $V^s_T$ is the predicted tumour volume by the structural model, $\\lambda _0$ is the exponential growth rate, and $\\lambda _1$ is the linear growth rate. The tumour growth of an individual in absence of the drug is thus parameterised by three parameters\n",
    "\n",
    "\\begin{equation*}\n",
    "    \\psi = (V_0, \\lambda _0, \\lambda _1),\n",
    "\\end{equation*}\n",
    "\n",
    "where $V_0$ is the initial tumour volume, $V^s_T(t=0, \\psi) = V_0$."
   ]
  },
  {
   "cell_type": "markdown",
   "metadata": {},
   "source": [
    "## Identifiability\n",
    "\n",
    "The identifiability of a parametric model addresses the question of whether a unique set of model parameters $\\psi $ can be inferred from data, which most closely capture the data, see e.g. [2, 3, 4]. In particular, under the assumption that the model could have generated the data with a given set of model parameters, identifiability addresses the question of whether those *true* parameters can be recovered from the data. \n",
    "\n",
    "In the PKPD modelling context, the identifiability of the structural model is of particular importance, as parameter values can often be biologically interpreted. This allows for example to characterise biochemical properties of the compound, or to translate the model from preclinical to clinical application. However, for those biological interpretations to be meaningful, we need to make sure that the values tightly couple the observed data and the proposed structural model. If multiple parameters for a model exist that equally well capture the observed behaviour, it is hard to imagine that the parameter values carry significant biological meaning.\n",
    "\n",
    "In this study, we are interested in learning the structural model parameters $\\psi $ of the tumour growth in absence of the compound from an *in vivo* experiment reported in [1]. Here, patient-derived tumour explants LXF A677 (adenocarcinoma of the lung) were implanted in mice. The tumour growth was monitored over a period of 30 days, see the [Lung Cancer Tumour Growth in Absence of Treatment](https://nbviewer.jupyter.org/github/DavAug/ErlotinibGefitinib/blob/master/notebooks/lung_cancer/control_growth/data_preparation.ipynb) for details."
   ]
  },
  {
   "cell_type": "code",
   "execution_count": 1,
   "metadata": {},
   "outputs": [
    {
     "output_type": "display_data",
     "data": {
      "application/vnd.plotly.v1+json": {
       "config": {
        "plotlyServerURL": "https://plot.ly"
       },
       "data": [
        {
         "hovertemplate": "<b>ID: 40</b><br>Time: %{x:} day<br>Tumour volume: %{y:.02f} cm^3<br>Body weight: %{text}<br>Cancer type: Lung cancer (LXF A677)<br><extra></extra>",
         "marker": {
          "color": "#636EFA",
          "line": {
           "color": "black",
           "width": 1
          },
          "opacity": 0.7,
          "symbol": "circle"
         },
         "mode": "markers",
         "name": "ID: 40",
         "showlegend": true,
         "text": [
          "26.8 g",
          "26.1 g",
          "26.5 g",
          "26.5 g",
          "27.1 g",
          "26.0 g",
          "26.4 g",
          "26.0 g",
          "25.4 g",
          "26.2 g"
         ],
         "type": "scatter",
         "x": [
          0,
          2,
          4,
          7,
          9,
          11,
          14,
          16,
          18,
          21
         ],
         "y": [
          0.191808,
          0.249158,
          0.330672,
          0.6683669999999999,
          0.915008,
          1.119258,
          1.470432,
          1.6692479999999998,
          1.7521919999999997,
          2.276736
         ]
        },
        {
         "hovertemplate": "<b>ID: 40</b><br>Time: %{x:} day<br>Tumour volume: %{y:.02f} cm^3<br>Body weight: %{text}<br>Cancer type: Lung cancer (LXF A677)<br><extra></extra>",
         "marker": {
          "color": "#636EFA",
          "line": {
           "color": "black",
           "width": 1
          },
          "opacity": 0.7,
          "symbol": "circle"
         },
         "mode": "markers",
         "name": "ID: 40",
         "showlegend": true,
         "text": [
          "26.8 g",
          "26.1 g",
          "26.5 g",
          "26.5 g",
          "27.1 g",
          "26.0 g",
          "26.4 g",
          "26.0 g",
          "25.4 g",
          "26.2 g"
         ],
         "type": "scatter",
         "visible": false,
         "x": [
          0,
          2,
          4,
          7,
          9,
          11,
          14,
          16,
          18,
          21
         ],
         "y": [
          26.8,
          26.1,
          26.5,
          26.5,
          27.1,
          26,
          26.4,
          26,
          25.4,
          26.2
         ]
        },
        {
         "hovertemplate": "<b>ID: 94</b><br>Time: %{x:} day<br>Tumour volume: %{y:.02f} cm^3<br>Body weight: %{text}<br>Cancer type: Lung cancer (LXF A677)<br><extra></extra>",
         "marker": {
          "color": "#EF553B",
          "line": {
           "color": "black",
           "width": 1
          },
          "opacity": 0.7,
          "symbol": "circle"
         },
         "mode": "markers",
         "name": "ID: 94",
         "showlegend": true,
         "text": [
          "18.3 g",
          "18.2 g",
          "18.5 g",
          "18.3 g",
          "18.7 g",
          "17.9 g",
          "18.4 g",
          "18.2 g",
          "18.7 g",
          "20.0 g",
          "20.2 g",
          "20.3 g",
          "20.0 g",
          "19.2 g"
         ],
         "type": "scatter",
         "x": [
          0,
          2,
          4,
          7,
          9,
          11,
          14,
          16,
          18,
          21,
          23,
          25,
          28,
          30
         ],
         "y": [
          0.07724750000000001,
          0.0884835,
          0.125316,
          0.165528,
          0.189486,
          0.264654,
          0.264654,
          0.306936,
          0.389207,
          0.389207,
          0.405769,
          0.4264715,
          0.5551309999999999,
          0.57624
         ]
        },
        {
         "hovertemplate": "<b>ID: 94</b><br>Time: %{x:} day<br>Tumour volume: %{y:.02f} cm^3<br>Body weight: %{text}<br>Cancer type: Lung cancer (LXF A677)<br><extra></extra>",
         "marker": {
          "color": "#EF553B",
          "line": {
           "color": "black",
           "width": 1
          },
          "opacity": 0.7,
          "symbol": "circle"
         },
         "mode": "markers",
         "name": "ID: 94",
         "showlegend": true,
         "text": [
          "18.3 g",
          "18.2 g",
          "18.5 g",
          "18.3 g",
          "18.7 g",
          "17.9 g",
          "18.4 g",
          "18.2 g",
          "18.7 g",
          "20.0 g",
          "20.2 g",
          "20.3 g",
          "20.0 g",
          "19.2 g"
         ],
         "type": "scatter",
         "visible": false,
         "x": [
          0,
          2,
          4,
          7,
          9,
          11,
          14,
          16,
          18,
          21,
          23,
          25,
          28,
          30
         ],
         "y": [
          18.3,
          18.2,
          18.5,
          18.3,
          18.7,
          17.9,
          18.4,
          18.2,
          18.7,
          20,
          20.2,
          20.3,
          20,
          19.2
         ]
        },
        {
         "hovertemplate": "<b>ID: 95</b><br>Time: %{x:} day<br>Tumour volume: %{y:.02f} cm^3<br>Body weight: %{text}<br>Cancer type: Lung cancer (LXF A677)<br><extra></extra>",
         "marker": {
          "color": "#00CC96",
          "line": {
           "color": "black",
           "width": 1
          },
          "opacity": 0.7,
          "symbol": "circle"
         },
         "mode": "markers",
         "name": "ID: 95",
         "showlegend": true,
         "text": [
          "22.3 g",
          "23.0 g",
          "22.4 g",
          "23.6 g",
          "24.1 g",
          "22.7 g",
          "23.6 g",
          "23.3 g",
          "23.3 g",
          "23.3 g"
         ],
         "type": "scatter",
         "x": [
          0,
          2,
          4,
          7,
          9,
          11,
          14,
          16,
          18,
          21
         ],
         "y": [
          0.1862,
          0.24641999999999997,
          0.4293,
          0.62426,
          0.7246720000000001,
          0.7300800000000001,
          0.9196,
          1.131184,
          1.675872,
          2.346616
         ]
        },
        {
         "hovertemplate": "<b>ID: 95</b><br>Time: %{x:} day<br>Tumour volume: %{y:.02f} cm^3<br>Body weight: %{text}<br>Cancer type: Lung cancer (LXF A677)<br><extra></extra>",
         "marker": {
          "color": "#00CC96",
          "line": {
           "color": "black",
           "width": 1
          },
          "opacity": 0.7,
          "symbol": "circle"
         },
         "mode": "markers",
         "name": "ID: 95",
         "showlegend": true,
         "text": [
          "22.3 g",
          "23.0 g",
          "22.4 g",
          "23.6 g",
          "24.1 g",
          "22.7 g",
          "23.6 g",
          "23.3 g",
          "23.3 g",
          "23.3 g"
         ],
         "type": "scatter",
         "visible": false,
         "x": [
          0,
          2,
          4,
          7,
          9,
          11,
          14,
          16,
          18,
          21
         ],
         "y": [
          22.3,
          23,
          22.4,
          23.6,
          24.1,
          22.7,
          23.6,
          23.3,
          23.3,
          23.3
         ]
        },
        {
         "hovertemplate": "<b>ID: 136</b><br>Time: %{x:} day<br>Tumour volume: %{y:.02f} cm^3<br>Body weight: %{text}<br>Cancer type: Lung cancer (LXF A677)<br><extra></extra>",
         "marker": {
          "color": "#AB63FA",
          "line": {
           "color": "black",
           "width": 1
          },
          "opacity": 0.7,
          "symbol": "circle"
         },
         "mode": "markers",
         "name": "ID: 136",
         "showlegend": true,
         "text": [
          "25.4 g",
          "26.2 g",
          "28.3 g",
          "28.0 g",
          "25.1 g",
          "22.9 g",
          "24.1 g",
          "23.9 g",
          "23.0 g",
          "24.0 g",
          "23.7 g",
          "24.7 g",
          "24.6 g",
          "24.2 g"
         ],
         "type": "scatter",
         "x": [
          0,
          2,
          4,
          7,
          9,
          11,
          14,
          16,
          18,
          21,
          23,
          25,
          28,
          30
         ],
         "y": [
          0.1185885,
          0.175071,
          0.22999200000000006,
          0.3026885,
          0.3026885,
          0.37044,
          0.5341545,
          0.651688,
          0.7212869999999999,
          0.78732,
          0.8529505000000001,
          1.104558,
          1.1328799999999999,
          1.4593425
         ]
        },
        {
         "hovertemplate": "<b>ID: 136</b><br>Time: %{x:} day<br>Tumour volume: %{y:.02f} cm^3<br>Body weight: %{text}<br>Cancer type: Lung cancer (LXF A677)<br><extra></extra>",
         "marker": {
          "color": "#AB63FA",
          "line": {
           "color": "black",
           "width": 1
          },
          "opacity": 0.7,
          "symbol": "circle"
         },
         "mode": "markers",
         "name": "ID: 136",
         "showlegend": true,
         "text": [
          "25.4 g",
          "26.2 g",
          "28.3 g",
          "28.0 g",
          "25.1 g",
          "22.9 g",
          "24.1 g",
          "23.9 g",
          "23.0 g",
          "24.0 g",
          "23.7 g",
          "24.7 g",
          "24.6 g",
          "24.2 g"
         ],
         "type": "scatter",
         "visible": false,
         "x": [
          0,
          2,
          4,
          7,
          9,
          11,
          14,
          16,
          18,
          21,
          23,
          25,
          28,
          30
         ],
         "y": [
          25.4,
          26.2,
          28.3,
          28,
          25.1,
          22.9,
          24.1,
          23.9,
          23,
          24,
          23.7,
          24.7,
          24.6,
          24.2
         ]
        },
        {
         "hovertemplate": "<b>ID: 140</b><br>Time: %{x:} day<br>Tumour volume: %{y:.02f} cm^3<br>Body weight: %{text}<br>Cancer type: Lung cancer (LXF A677)<br><extra></extra>",
         "marker": {
          "color": "#FFA15A",
          "line": {
           "color": "black",
           "width": 1
          },
          "opacity": 0.7,
          "symbol": "circle"
         },
         "mode": "markers",
         "name": "ID: 140",
         "showlegend": true,
         "text": [
          "22.7 g",
          "23.6 g",
          "23.6 g",
          "24.4 g",
          "25.0 g",
          "23.5 g",
          "24.8 g",
          "24.3 g",
          "23.8 g",
          "23.3 g",
          "23.7 g",
          "24.8 g",
          "24.7 g",
          "24.1 g"
         ],
         "type": "scatter",
         "x": [
          0,
          2,
          4,
          7,
          9,
          11,
          14,
          16,
          18,
          21,
          23,
          25,
          28,
          30
         ],
         "y": [
          0.0793305,
          0.12685200000000002,
          0.146072,
          0.261121,
          0.34574400000000005,
          0.3552,
          0.41905,
          0.48029799999999995,
          0.556668,
          0.8089919999999999,
          0.8573040000000001,
          1.097675,
          1.992144,
          2.1225820000000004
         ]
        },
        {
         "hovertemplate": "<b>ID: 140</b><br>Time: %{x:} day<br>Tumour volume: %{y:.02f} cm^3<br>Body weight: %{text}<br>Cancer type: Lung cancer (LXF A677)<br><extra></extra>",
         "marker": {
          "color": "#FFA15A",
          "line": {
           "color": "black",
           "width": 1
          },
          "opacity": 0.7,
          "symbol": "circle"
         },
         "mode": "markers",
         "name": "ID: 140",
         "showlegend": true,
         "text": [
          "22.7 g",
          "23.6 g",
          "23.6 g",
          "24.4 g",
          "25.0 g",
          "23.5 g",
          "24.8 g",
          "24.3 g",
          "23.8 g",
          "23.3 g",
          "23.7 g",
          "24.8 g",
          "24.7 g",
          "24.1 g"
         ],
         "type": "scatter",
         "visible": false,
         "x": [
          0,
          2,
          4,
          7,
          9,
          11,
          14,
          16,
          18,
          21,
          23,
          25,
          28,
          30
         ],
         "y": [
          22.7,
          23.6,
          23.6,
          24.4,
          25,
          23.5,
          24.8,
          24.3,
          23.8,
          23.3,
          23.7,
          24.8,
          24.7,
          24.1
         ]
        },
        {
         "hovertemplate": "<b>ID: 155</b><br>Time: %{x:} day<br>Tumour volume: %{y:.02f} cm^3<br>Body weight: %{text}<br>Cancer type: Lung cancer (LXF A677)<br><extra></extra>",
         "marker": {
          "color": "#19D3F3",
          "line": {
           "color": "black",
           "width": 1
          },
          "opacity": 0.7,
          "symbol": "circle"
         },
         "mode": "markers",
         "name": "ID: 155",
         "showlegend": true,
         "text": [
          "26.0 g",
          "27.3 g",
          "27.5 g",
          "28.2 g",
          "28.7 g",
          "27.9 g",
          "28.6 g",
          "29.0 g",
          "28.0 g",
          "28.9 g",
          "28.5 g",
          "29.6 g"
         ],
         "type": "scatter",
         "x": [
          0,
          2,
          4,
          7,
          9,
          11,
          14,
          16,
          18,
          21,
          23,
          25
         ],
         "y": [
          0.105875,
          0.167706,
          0.35632800000000003,
          0.6489600000000001,
          0.692224,
          0.7300800000000001,
          0.81648,
          1.4949540000000001,
          1.5166985,
          1.72405,
          1.637784,
          2.25108
         ]
        },
        {
         "hovertemplate": "<b>ID: 155</b><br>Time: %{x:} day<br>Tumour volume: %{y:.02f} cm^3<br>Body weight: %{text}<br>Cancer type: Lung cancer (LXF A677)<br><extra></extra>",
         "marker": {
          "color": "#19D3F3",
          "line": {
           "color": "black",
           "width": 1
          },
          "opacity": 0.7,
          "symbol": "circle"
         },
         "mode": "markers",
         "name": "ID: 155",
         "showlegend": true,
         "text": [
          "26.0 g",
          "27.3 g",
          "27.5 g",
          "28.2 g",
          "28.7 g",
          "27.9 g",
          "28.6 g",
          "29.0 g",
          "28.0 g",
          "28.9 g",
          "28.5 g",
          "29.6 g"
         ],
         "type": "scatter",
         "visible": false,
         "x": [
          0,
          2,
          4,
          7,
          9,
          11,
          14,
          16,
          18,
          21,
          23,
          25
         ],
         "y": [
          26,
          27.3,
          27.5,
          28.2,
          28.7,
          27.9,
          28.6,
          29,
          28,
          28.9,
          28.5,
          29.6
         ]
        },
        {
         "hovertemplate": "<b>ID: 169</b><br>Time: %{x:} day<br>Tumour volume: %{y:.02f} cm^3<br>Body weight: %{text}<br>Cancer type: Lung cancer (LXF A677)<br><extra></extra>",
         "marker": {
          "color": "#FF6692",
          "line": {
           "color": "black",
           "width": 1
          },
          "opacity": 0.7,
          "symbol": "circle"
         },
         "mode": "markers",
         "name": "ID: 169",
         "showlegend": true,
         "text": [
          "26.9 g",
          "26.8 g",
          "26.2 g",
          "26.2 g",
          "27.3 g",
          "26.6 g",
          "28.0 g",
          "27.6 g",
          "26.6 g",
          "27.9 g",
          "27.4 g",
          "28.6 g",
          "27.5 g",
          "28.0 g"
         ],
         "type": "scatter",
         "x": [
          0,
          2,
          4,
          7,
          9,
          11,
          14,
          16,
          18,
          21,
          23,
          25,
          28,
          30
         ],
         "y": [
          0.123008,
          0.128774,
          0.1764,
          0.20516650000000006,
          0.24605349999999998,
          0.2788425,
          0.333036,
          0.35644499999999996,
          0.39285,
          0.479859,
          0.5390550000000001,
          0.6354195,
          0.7146180000000001,
          0.7469865
         ]
        },
        {
         "hovertemplate": "<b>ID: 169</b><br>Time: %{x:} day<br>Tumour volume: %{y:.02f} cm^3<br>Body weight: %{text}<br>Cancer type: Lung cancer (LXF A677)<br><extra></extra>",
         "marker": {
          "color": "#FF6692",
          "line": {
           "color": "black",
           "width": 1
          },
          "opacity": 0.7,
          "symbol": "circle"
         },
         "mode": "markers",
         "name": "ID: 169",
         "showlegend": true,
         "text": [
          "26.9 g",
          "26.8 g",
          "26.2 g",
          "26.2 g",
          "27.3 g",
          "26.6 g",
          "28.0 g",
          "27.6 g",
          "26.6 g",
          "27.9 g",
          "27.4 g",
          "28.6 g",
          "27.5 g",
          "28.0 g"
         ],
         "type": "scatter",
         "visible": false,
         "x": [
          0,
          2,
          4,
          7,
          9,
          11,
          14,
          16,
          18,
          21,
          23,
          25,
          28,
          30
         ],
         "y": [
          26.9,
          26.8,
          26.2,
          26.2,
          27.3,
          26.6,
          28,
          27.6,
          26.6,
          27.9,
          27.4,
          28.6,
          27.5,
          28
         ]
        },
        {
         "hovertemplate": "<b>ID: 170</b><br>Time: %{x:} day<br>Tumour volume: %{y:.02f} cm^3<br>Body weight: %{text}<br>Cancer type: Lung cancer (LXF A677)<br><extra></extra>",
         "marker": {
          "color": "#B6E880",
          "line": {
           "color": "black",
           "width": 1
          },
          "opacity": 0.7,
          "symbol": "circle"
         },
         "mode": "markers",
         "name": "ID: 170",
         "showlegend": true,
         "text": [
          "28.3 g",
          "27.7 g",
          "27.9 g",
          "28.8 g",
          "29.3 g",
          "28.6 g",
          "29.5 g",
          "28.9 g",
          "26.8 g",
          "28.7 g",
          "27.3 g",
          "28.7 g",
          "28.5 g",
          "27.5 g"
         ],
         "type": "scatter",
         "x": [
          0,
          2,
          4,
          7,
          9,
          11,
          14,
          16,
          18,
          21,
          23,
          25,
          28,
          30
         ],
         "y": [
          0.0800565,
          0.094221,
          0.10933,
          0.158994,
          0.17615699999999998,
          0.19407850000000001,
          0.2041605,
          0.246402,
          0.3050865,
          0.3683265,
          0.41817600000000005,
          0.4396155,
          0.5661554999999999,
          0.6206265000000001
         ]
        },
        {
         "hovertemplate": "<b>ID: 170</b><br>Time: %{x:} day<br>Tumour volume: %{y:.02f} cm^3<br>Body weight: %{text}<br>Cancer type: Lung cancer (LXF A677)<br><extra></extra>",
         "marker": {
          "color": "#B6E880",
          "line": {
           "color": "black",
           "width": 1
          },
          "opacity": 0.7,
          "symbol": "circle"
         },
         "mode": "markers",
         "name": "ID: 170",
         "showlegend": true,
         "text": [
          "28.3 g",
          "27.7 g",
          "27.9 g",
          "28.8 g",
          "29.3 g",
          "28.6 g",
          "29.5 g",
          "28.9 g",
          "26.8 g",
          "28.7 g",
          "27.3 g",
          "28.7 g",
          "28.5 g",
          "27.5 g"
         ],
         "type": "scatter",
         "visible": false,
         "x": [
          0,
          2,
          4,
          7,
          9,
          11,
          14,
          16,
          18,
          21,
          23,
          25,
          28,
          30
         ],
         "y": [
          28.3,
          27.7,
          27.9,
          28.8,
          29.3,
          28.6,
          29.5,
          28.9,
          26.8,
          28.7,
          27.3,
          28.7,
          28.5,
          27.5
         ]
        }
       ],
       "layout": {
        "autosize": true,
        "legend": {
         "x": 1.05,
         "xanchor": "left",
         "y": 0.01,
         "yanchor": "bottom"
        },
        "template": {
         "data": {
          "bar": [
           {
            "error_x": {
             "color": "#2a3f5f"
            },
            "error_y": {
             "color": "#2a3f5f"
            },
            "marker": {
             "line": {
              "color": "white",
              "width": 0.5
             }
            },
            "type": "bar"
           }
          ],
          "barpolar": [
           {
            "marker": {
             "line": {
              "color": "white",
              "width": 0.5
             }
            },
            "type": "barpolar"
           }
          ],
          "carpet": [
           {
            "aaxis": {
             "endlinecolor": "#2a3f5f",
             "gridcolor": "#C8D4E3",
             "linecolor": "#C8D4E3",
             "minorgridcolor": "#C8D4E3",
             "startlinecolor": "#2a3f5f"
            },
            "baxis": {
             "endlinecolor": "#2a3f5f",
             "gridcolor": "#C8D4E3",
             "linecolor": "#C8D4E3",
             "minorgridcolor": "#C8D4E3",
             "startlinecolor": "#2a3f5f"
            },
            "type": "carpet"
           }
          ],
          "choropleth": [
           {
            "colorbar": {
             "outlinewidth": 0,
             "ticks": ""
            },
            "type": "choropleth"
           }
          ],
          "contour": [
           {
            "colorbar": {
             "outlinewidth": 0,
             "ticks": ""
            },
            "colorscale": [
             [
              0,
              "#0d0887"
             ],
             [
              0.1111111111111111,
              "#46039f"
             ],
             [
              0.2222222222222222,
              "#7201a8"
             ],
             [
              0.3333333333333333,
              "#9c179e"
             ],
             [
              0.4444444444444444,
              "#bd3786"
             ],
             [
              0.5555555555555556,
              "#d8576b"
             ],
             [
              0.6666666666666666,
              "#ed7953"
             ],
             [
              0.7777777777777778,
              "#fb9f3a"
             ],
             [
              0.8888888888888888,
              "#fdca26"
             ],
             [
              1,
              "#f0f921"
             ]
            ],
            "type": "contour"
           }
          ],
          "contourcarpet": [
           {
            "colorbar": {
             "outlinewidth": 0,
             "ticks": ""
            },
            "type": "contourcarpet"
           }
          ],
          "heatmap": [
           {
            "colorbar": {
             "outlinewidth": 0,
             "ticks": ""
            },
            "colorscale": [
             [
              0,
              "#0d0887"
             ],
             [
              0.1111111111111111,
              "#46039f"
             ],
             [
              0.2222222222222222,
              "#7201a8"
             ],
             [
              0.3333333333333333,
              "#9c179e"
             ],
             [
              0.4444444444444444,
              "#bd3786"
             ],
             [
              0.5555555555555556,
              "#d8576b"
             ],
             [
              0.6666666666666666,
              "#ed7953"
             ],
             [
              0.7777777777777778,
              "#fb9f3a"
             ],
             [
              0.8888888888888888,
              "#fdca26"
             ],
             [
              1,
              "#f0f921"
             ]
            ],
            "type": "heatmap"
           }
          ],
          "heatmapgl": [
           {
            "colorbar": {
             "outlinewidth": 0,
             "ticks": ""
            },
            "colorscale": [
             [
              0,
              "#0d0887"
             ],
             [
              0.1111111111111111,
              "#46039f"
             ],
             [
              0.2222222222222222,
              "#7201a8"
             ],
             [
              0.3333333333333333,
              "#9c179e"
             ],
             [
              0.4444444444444444,
              "#bd3786"
             ],
             [
              0.5555555555555556,
              "#d8576b"
             ],
             [
              0.6666666666666666,
              "#ed7953"
             ],
             [
              0.7777777777777778,
              "#fb9f3a"
             ],
             [
              0.8888888888888888,
              "#fdca26"
             ],
             [
              1,
              "#f0f921"
             ]
            ],
            "type": "heatmapgl"
           }
          ],
          "histogram": [
           {
            "marker": {
             "colorbar": {
              "outlinewidth": 0,
              "ticks": ""
             }
            },
            "type": "histogram"
           }
          ],
          "histogram2d": [
           {
            "colorbar": {
             "outlinewidth": 0,
             "ticks": ""
            },
            "colorscale": [
             [
              0,
              "#0d0887"
             ],
             [
              0.1111111111111111,
              "#46039f"
             ],
             [
              0.2222222222222222,
              "#7201a8"
             ],
             [
              0.3333333333333333,
              "#9c179e"
             ],
             [
              0.4444444444444444,
              "#bd3786"
             ],
             [
              0.5555555555555556,
              "#d8576b"
             ],
             [
              0.6666666666666666,
              "#ed7953"
             ],
             [
              0.7777777777777778,
              "#fb9f3a"
             ],
             [
              0.8888888888888888,
              "#fdca26"
             ],
             [
              1,
              "#f0f921"
             ]
            ],
            "type": "histogram2d"
           }
          ],
          "histogram2dcontour": [
           {
            "colorbar": {
             "outlinewidth": 0,
             "ticks": ""
            },
            "colorscale": [
             [
              0,
              "#0d0887"
             ],
             [
              0.1111111111111111,
              "#46039f"
             ],
             [
              0.2222222222222222,
              "#7201a8"
             ],
             [
              0.3333333333333333,
              "#9c179e"
             ],
             [
              0.4444444444444444,
              "#bd3786"
             ],
             [
              0.5555555555555556,
              "#d8576b"
             ],
             [
              0.6666666666666666,
              "#ed7953"
             ],
             [
              0.7777777777777778,
              "#fb9f3a"
             ],
             [
              0.8888888888888888,
              "#fdca26"
             ],
             [
              1,
              "#f0f921"
             ]
            ],
            "type": "histogram2dcontour"
           }
          ],
          "mesh3d": [
           {
            "colorbar": {
             "outlinewidth": 0,
             "ticks": ""
            },
            "type": "mesh3d"
           }
          ],
          "parcoords": [
           {
            "line": {
             "colorbar": {
              "outlinewidth": 0,
              "ticks": ""
             }
            },
            "type": "parcoords"
           }
          ],
          "pie": [
           {
            "automargin": true,
            "type": "pie"
           }
          ],
          "scatter": [
           {
            "marker": {
             "colorbar": {
              "outlinewidth": 0,
              "ticks": ""
             }
            },
            "type": "scatter"
           }
          ],
          "scatter3d": [
           {
            "line": {
             "colorbar": {
              "outlinewidth": 0,
              "ticks": ""
             }
            },
            "marker": {
             "colorbar": {
              "outlinewidth": 0,
              "ticks": ""
             }
            },
            "type": "scatter3d"
           }
          ],
          "scattercarpet": [
           {
            "marker": {
             "colorbar": {
              "outlinewidth": 0,
              "ticks": ""
             }
            },
            "type": "scattercarpet"
           }
          ],
          "scattergeo": [
           {
            "marker": {
             "colorbar": {
              "outlinewidth": 0,
              "ticks": ""
             }
            },
            "type": "scattergeo"
           }
          ],
          "scattergl": [
           {
            "marker": {
             "colorbar": {
              "outlinewidth": 0,
              "ticks": ""
             }
            },
            "type": "scattergl"
           }
          ],
          "scattermapbox": [
           {
            "marker": {
             "colorbar": {
              "outlinewidth": 0,
              "ticks": ""
             }
            },
            "type": "scattermapbox"
           }
          ],
          "scatterpolar": [
           {
            "marker": {
             "colorbar": {
              "outlinewidth": 0,
              "ticks": ""
             }
            },
            "type": "scatterpolar"
           }
          ],
          "scatterpolargl": [
           {
            "marker": {
             "colorbar": {
              "outlinewidth": 0,
              "ticks": ""
             }
            },
            "type": "scatterpolargl"
           }
          ],
          "scatterternary": [
           {
            "marker": {
             "colorbar": {
              "outlinewidth": 0,
              "ticks": ""
             }
            },
            "type": "scatterternary"
           }
          ],
          "surface": [
           {
            "colorbar": {
             "outlinewidth": 0,
             "ticks": ""
            },
            "colorscale": [
             [
              0,
              "#0d0887"
             ],
             [
              0.1111111111111111,
              "#46039f"
             ],
             [
              0.2222222222222222,
              "#7201a8"
             ],
             [
              0.3333333333333333,
              "#9c179e"
             ],
             [
              0.4444444444444444,
              "#bd3786"
             ],
             [
              0.5555555555555556,
              "#d8576b"
             ],
             [
              0.6666666666666666,
              "#ed7953"
             ],
             [
              0.7777777777777778,
              "#fb9f3a"
             ],
             [
              0.8888888888888888,
              "#fdca26"
             ],
             [
              1,
              "#f0f921"
             ]
            ],
            "type": "surface"
           }
          ],
          "table": [
           {
            "cells": {
             "fill": {
              "color": "#EBF0F8"
             },
             "line": {
              "color": "white"
             }
            },
            "header": {
             "fill": {
              "color": "#C8D4E3"
             },
             "line": {
              "color": "white"
             }
            },
            "type": "table"
           }
          ]
         },
         "layout": {
          "annotationdefaults": {
           "arrowcolor": "#2a3f5f",
           "arrowhead": 0,
           "arrowwidth": 1
          },
          "coloraxis": {
           "colorbar": {
            "outlinewidth": 0,
            "ticks": ""
           }
          },
          "colorscale": {
           "diverging": [
            [
             0,
             "#8e0152"
            ],
            [
             0.1,
             "#c51b7d"
            ],
            [
             0.2,
             "#de77ae"
            ],
            [
             0.3,
             "#f1b6da"
            ],
            [
             0.4,
             "#fde0ef"
            ],
            [
             0.5,
             "#f7f7f7"
            ],
            [
             0.6,
             "#e6f5d0"
            ],
            [
             0.7,
             "#b8e186"
            ],
            [
             0.8,
             "#7fbc41"
            ],
            [
             0.9,
             "#4d9221"
            ],
            [
             1,
             "#276419"
            ]
           ],
           "sequential": [
            [
             0,
             "#0d0887"
            ],
            [
             0.1111111111111111,
             "#46039f"
            ],
            [
             0.2222222222222222,
             "#7201a8"
            ],
            [
             0.3333333333333333,
             "#9c179e"
            ],
            [
             0.4444444444444444,
             "#bd3786"
            ],
            [
             0.5555555555555556,
             "#d8576b"
            ],
            [
             0.6666666666666666,
             "#ed7953"
            ],
            [
             0.7777777777777778,
             "#fb9f3a"
            ],
            [
             0.8888888888888888,
             "#fdca26"
            ],
            [
             1,
             "#f0f921"
            ]
           ],
           "sequentialminus": [
            [
             0,
             "#0d0887"
            ],
            [
             0.1111111111111111,
             "#46039f"
            ],
            [
             0.2222222222222222,
             "#7201a8"
            ],
            [
             0.3333333333333333,
             "#9c179e"
            ],
            [
             0.4444444444444444,
             "#bd3786"
            ],
            [
             0.5555555555555556,
             "#d8576b"
            ],
            [
             0.6666666666666666,
             "#ed7953"
            ],
            [
             0.7777777777777778,
             "#fb9f3a"
            ],
            [
             0.8888888888888888,
             "#fdca26"
            ],
            [
             1,
             "#f0f921"
            ]
           ]
          },
          "colorway": [
           "#636efa",
           "#EF553B",
           "#00cc96",
           "#ab63fa",
           "#FFA15A",
           "#19d3f3",
           "#FF6692",
           "#B6E880",
           "#FF97FF",
           "#FECB52"
          ],
          "font": {
           "color": "#2a3f5f"
          },
          "geo": {
           "bgcolor": "white",
           "lakecolor": "white",
           "landcolor": "white",
           "showlakes": true,
           "showland": true,
           "subunitcolor": "#C8D4E3"
          },
          "hoverlabel": {
           "align": "left"
          },
          "hovermode": "closest",
          "mapbox": {
           "style": "light"
          },
          "paper_bgcolor": "white",
          "plot_bgcolor": "white",
          "polar": {
           "angularaxis": {
            "gridcolor": "#EBF0F8",
            "linecolor": "#EBF0F8",
            "ticks": ""
           },
           "bgcolor": "white",
           "radialaxis": {
            "gridcolor": "#EBF0F8",
            "linecolor": "#EBF0F8",
            "ticks": ""
           }
          },
          "scene": {
           "xaxis": {
            "backgroundcolor": "white",
            "gridcolor": "#DFE8F3",
            "gridwidth": 2,
            "linecolor": "#EBF0F8",
            "showbackground": true,
            "ticks": "",
            "zerolinecolor": "#EBF0F8"
           },
           "yaxis": {
            "backgroundcolor": "white",
            "gridcolor": "#DFE8F3",
            "gridwidth": 2,
            "linecolor": "#EBF0F8",
            "showbackground": true,
            "ticks": "",
            "zerolinecolor": "#EBF0F8"
           },
           "zaxis": {
            "backgroundcolor": "white",
            "gridcolor": "#DFE8F3",
            "gridwidth": 2,
            "linecolor": "#EBF0F8",
            "showbackground": true,
            "ticks": "",
            "zerolinecolor": "#EBF0F8"
           }
          },
          "shapedefaults": {
           "line": {
            "color": "#2a3f5f"
           }
          },
          "ternary": {
           "aaxis": {
            "gridcolor": "#DFE8F3",
            "linecolor": "#A2B1C6",
            "ticks": ""
           },
           "baxis": {
            "gridcolor": "#DFE8F3",
            "linecolor": "#A2B1C6",
            "ticks": ""
           },
           "bgcolor": "white",
           "caxis": {
            "gridcolor": "#DFE8F3",
            "linecolor": "#A2B1C6",
            "ticks": ""
           }
          },
          "title": {
           "x": 0.05
          },
          "xaxis": {
           "automargin": true,
           "gridcolor": "#EBF0F8",
           "linecolor": "#EBF0F8",
           "ticks": "",
           "title": {
            "standoff": 15
           },
           "zerolinecolor": "#EBF0F8",
           "zerolinewidth": 2
          },
          "yaxis": {
           "automargin": true,
           "gridcolor": "#EBF0F8",
           "linecolor": "#EBF0F8",
           "ticks": "",
           "title": {
            "standoff": 15
           },
           "zerolinecolor": "#EBF0F8",
           "zerolinewidth": 2
          }
         }
        },
        "updatemenus": [
         {
          "buttons": [
           {
            "args": [
             {
              "yaxis.type": "linear"
             }
            ],
            "label": "Linear y-scale",
            "method": "relayout"
           },
           {
            "args": [
             {
              "yaxis.type": "log"
             }
            ],
            "label": "Log y-scale",
            "method": "relayout"
           }
          ],
          "direction": "left",
          "pad": {
           "r": 0,
           "t": -10
          },
          "showactive": true,
          "type": "buttons",
          "x": 0,
          "xanchor": "left",
          "y": 1.15,
          "yanchor": "top"
         },
         {
          "buttons": [
           {
            "args": [
             {
              "visible": [
               true,
               false,
               true,
               false,
               true,
               false,
               true,
               false,
               true,
               false,
               true,
               false,
               true,
               false,
               true,
               false
              ]
             },
             {
              "yaxis": {
               "title": "$\\text{Tumour volume in cm}^3$"
              }
             }
            ],
            "label": "Tumour volume",
            "method": "update"
           },
           {
            "args": [
             {
              "visible": [
               false,
               true,
               false,
               true,
               false,
               true,
               false,
               true,
               false,
               true,
               false,
               true,
               false,
               true,
               false,
               true
              ]
             },
             {
              "yaxis": {
               "title": "$\\text{Body weight in g}$"
              }
             }
            ],
            "label": "Body weight",
            "method": "update"
           }
          ],
          "direction": "down",
          "pad": {
           "r": 0,
           "t": -10
          },
          "showactive": true,
          "type": "buttons",
          "x": 1.07,
          "xanchor": "left",
          "y": 1.1,
          "yanchor": "top"
         }
        ],
        "xaxis": {
         "title": {
          "text": "$\\text{Time in day}$"
         }
        },
        "yaxis": {
         "title": {
          "text": "$\\text{Tumour volume in cm}^3$"
         }
        }
       }
      }
     },
     "metadata": {}
    }
   ],
   "source": [
    "#\n",
    "# Visualise control growth data.\n",
    "#\n",
    "\n",
    "import os\n",
    "\n",
    "import pandas as pd\n",
    "\n",
    "import pkpd.plots\n",
    "\n",
    "\n",
    "# Import data\n",
    "# Get path of current working directory\n",
    "path = os.getcwd()\n",
    "\n",
    "# Import LXF A677 control growth data\n",
    "data = pd.read_csv(path + '/data/lxf_control_growth.csv')\n",
    "\n",
    "# Create scatter plot\n",
    "fig = pkpd.plots.plot_measurements(data)\n",
    "\n",
    "# Show figure\n",
    "fig.show()"
   ]
  },
  {
   "cell_type": "markdown",
   "metadata": {},
   "source": [
    "**Figure 1 - Untreated tumour growth:** Untreated tumour growth of patient-derived tumour explants LXF A677 (adenocarcinoma of the lung) implanted in mice. The colouring of the data points indicates the identity of the mice. The evolution of the body weight can be explored by using the buttons in the top right."
   ]
  },
  {
   "cell_type": "markdown",
   "metadata": {},
   "source": [
    "## Naïve optimisation of model parameters\n",
    "\n",
    "Let us begin to explore the identifiability of the model by attempting to find an optimal set of model parameters $\\psi $ for each mouse. Typically such a set of optimal parameters can be found by defining an objective function and an optimisation algorithm. The objective function $L(\\psi | V^{\\text{obs}}_{T})$ quantifies how close the model predictions $V^s_T(t_i, \\psi)$ for a given set of model parameters $\\psi $ are to the observed data $V^{\\text{obs}}_{T, i}$. There are many choices for objective functions. We somewhat arbitrarily choose the Squared Distance Error Measure\n",
    "\n",
    "\\begin{equation*}\n",
    "    L(\\psi | V^\\text{obs}_{T}) = \\sum ^{n}_{i=1}\\left( V^\\text{obs}_{T, i} - V^s_T(t_i, \\psi)\\right) ^2,\n",
    "\\end{equation*}\n",
    "\n",
    "where $n$ is the number of measurements, $V^\\text{obs}_{T, i}$ is the measured tumour volume at time $t_i$, and $V^s_T(t_i, \\psi)$ is the model prediction at time $t_i$ for model parameters $\\psi $. This objective function is greater or equal to zero for all $\\psi $, and only vanishes for a model parameter set $\\hat \\psi $ for which the model identically reproduces the observations. We would like to find this parameter set $\\hat \\psi $.\n",
    "\n",
    "For real measurements, the measurement noise alone will make it improbable that the model will be able to reproduce the observations exactly, even if the structural model did capture the true underlying biological process. As a result, we are forced to weaken our condition for an optimal parameter set and look for the set of parameters $\\hat \\psi $ that globally minimises the objective function $L$. Note that this step introduces uncertainty into the modelling process, not only because we can no longer decide whether a given set of parameters is optimal by comparing its objective function score to zero, but also because it's much harder to decide whether the deviations from the observations are due to noise or due to the wrong modelling choice (more about model selection in following notebooks).\n",
    "\n",
    "There are many algorithms that are designed to minimise an objective function. One of those algorithms is the Covariance Matrix Adaptation Evolution Strategy (CMA-ES) optimiser [5]. We will choose to minimise the objective function $L$ with this algorithm, but other choices are equally valid. From a naïve perspective, we can choose any initial starting point $\\psi _0 $ for the optimisation algorithm, as the true global minimum is independent of the method we use to find it. We therefore choose to start the optimisation somewhat arbitrarily at $\\psi _0 = (1, 1, 1)$."
   ]
  },
  {
   "cell_type": "code",
   "execution_count": 2,
   "metadata": {
    "tags": []
   },
   "outputs": [
    {
     "output_type": "stream",
     "name": "stdout",
     "text": "[[model]]\n# Initial values\ncentral.volume_t = 0\n\n[central]\nlambda_0 = 0\n    in [1/day]\nlambda_1 = 1\n    in [cm^3/day]\ntime = 0 bind time\n    in [day]\ndot(volume_t) = 2 * (lambda_0 * (lambda_1 * volume_t)) / (2 * (lambda_0 * volume_t) + lambda_1)\n    in [cm^3]\n\n\n"
    }
   ],
   "source": [
    "#\n",
    "# Create structural growth model\n",
    "#\n",
    "\n",
    "import pkpd\n",
    "\n",
    "# Create model\n",
    "model = pkpd.TumourGrowthModel()\n",
    "\n",
    "# Show model\n",
    "print(model)"
   ]
  },
  {
   "cell_type": "code",
   "execution_count": 3,
   "metadata": {
    "tags": []
   },
   "outputs": [
    {
     "output_type": "display_data",
     "data": {
      "text/plain": "HBox(children=(FloatProgress(value=0.0, max=8.0), HTML(value='')))",
      "application/vnd.jupyter.widget-view+json": {
       "version_major": 2,
       "version_minor": 0,
       "model_id": "fd35b8c6796f4fd98e5cd7a414ba450b"
      }
     },
     "metadata": {}
    },
    {
     "output_type": "stream",
     "name": "stdout",
     "text": "\n"
    }
   ],
   "source": [
    "#\n",
    "# Naive attempt to find an optimal parameter set psi for each mouse in the LXF A677 population.\n",
    "#\n",
    "\n",
    "import os\n",
    "\n",
    "import numpy as np\n",
    "import pandas as pd\n",
    "import pints\n",
    "from tqdm.notebook import tqdm\n",
    "\n",
    "import pkpd\n",
    "\n",
    "\n",
    "# Import data\n",
    "# Get path of current working directory\n",
    "path = os.getcwd()\n",
    "\n",
    "# Import LXF A677 control growth data\n",
    "data = pd.read_csv(path + '/data/lxf_control_growth.csv')\n",
    "n_mice = len(data['#ID'].unique())\n",
    "\n",
    "# Define container for the structural model estimates\n",
    "# Shape (n_mice, n_parameters)\n",
    "n_parameters = 3\n",
    "mouse_parameters = np.empty(shape=(n_mice, n_parameters))\n",
    "\n",
    "# Define container for the objective function score for the optimised parameters\n",
    "mouse_scores = np.empty(shape=n_mice)\n",
    "\n",
    "# Define \"arbitrary\" starting point for the optimisations\n",
    "initial_parameters = [1, 1, 1]\n",
    "\n",
    "# Find mouse parameters for LXF A677 population\n",
    "mouse_ids = data['#ID'].unique()\n",
    "for index, mouse_id in enumerate(tqdm(mouse_ids)):\n",
    "    # Create mask for mouse with specfied ID\n",
    "    mouse_mask = data['#ID'] == mouse_id\n",
    "\n",
    "    # Get relevant time points\n",
    "    times = data[mouse_mask]['TIME in day'].to_numpy()\n",
    "\n",
    "    # Get measured tumour volumes\n",
    "    observed_volumes = data[mouse_mask]['TUMOUR VOLUME in cm^3'].to_numpy()\n",
    "\n",
    "    # Create inverse problem\n",
    "    problem = pints.SingleOutputProblem(pkpd.TumourGrowthModel(), times, observed_volumes)\n",
    "\n",
    "    # Create sum of squares error objective function\n",
    "    error = pints.SumOfSquaresError(problem)\n",
    "\n",
    "    # Create optimisation controller with a CMA-ES optimiser\n",
    "    optimiser = pints.OptimisationController(\n",
    "        function=error,\n",
    "        x0=initial_parameters,\n",
    "        method=pints.CMAES)\n",
    "\n",
    "    # Disable logging mode\n",
    "    optimiser.set_log_to_screen(False)\n",
    "\n",
    "    # Parallelise optimisation\n",
    "    optimiser.set_parallel(True)\n",
    "\n",
    "    # Find optimal parameters\n",
    "    estimates, score = optimiser.run()\n",
    "\n",
    "    # Save estimates and score\n",
    "    mouse_parameters[index, :] = estimates\n",
    "    mouse_scores[index] = score"
   ]
  },
  {
   "cell_type": "code",
   "execution_count": 3,
   "metadata": {},
   "outputs": [],
   "source": [
    "#\n",
    "# Solve structural model for inferred model parameters.\n",
    "#\n",
    "# This cell needs the inferred model parameters:\n",
    "# [mouse_parameters]\n",
    "#\n",
    "\n",
    "import numpy as np\n",
    "\n",
    "import pkpd\n",
    "\n",
    "\n",
    "# Create tumour growth model\n",
    "model = pkpd.TumourGrowthModel()\n",
    "\n",
    "# Define simulation time points in day\n",
    "times = np.linspace(start=0, stop=30, num=200)\n",
    "n_times = len(times)\n",
    "\n",
    "# Create container for simulated tumour growth\n",
    "# Shape (n_mice, n_times)\n",
    "n_mice = len(mouse_parameters)\n",
    "tumour_growth = np.empty(shape=(n_mice, n_times))\n",
    "\n",
    "# Solve structural model for LXF A677 population\n",
    "for mouse_id, mouse_params in enumerate(mouse_parameters):\n",
    "    # Simulate mouse tumour growth\n",
    "    tumour_growth[mouse_id, :] = model.simulate(parameters=mouse_params, times=times)\n"
   ]
  },
  {
   "cell_type": "code",
   "execution_count": 36,
   "metadata": {},
   "outputs": [
    {
     "output_type": "display_data",
     "data": {
      "application/vnd.plotly.v1+json": {
       "config": {
        "plotlyServerURL": "https://plot.ly"
       },
       "data": [
        {
         "hovertemplate": "<b>Measurement </b><br>ID: 40<br>Time: %{x:} day<br>Tumour volume: %{y:.02f} cm^3<br>Cancer type: LXF A677<br><extra></extra>",
         "legendgroup": "ID: 40",
         "marker": {
          "color": "#636EFA",
          "line": {
           "color": "black",
           "width": 1
          },
          "opacity": 0.7,
          "symbol": "circle"
         },
         "mode": "markers",
         "name": "ID: 40",
         "showlegend": true,
         "type": "scatter",
         "x": [
          0,
          2,
          4,
          7,
          9,
          11,
          14,
          16,
          18,
          21
         ],
         "y": [
          0.191808,
          0.249158,
          0.330672,
          0.6683669999999999,
          0.915008,
          1.119258,
          1.470432,
          1.6692479999999998,
          1.7521919999999997,
          2.276736
         ]
        },
        {
         "hovertemplate": "<b>Simulation </b><br>ID: 40<br>Time: %{x:.0f} day<br>Tumour volume: %{y:.02f} cm^3<br>Cancer type: LXF A677<br><br><b>Parameter estimates </b><br>Initial tumour volume: 0.14 cm^3<br>Expon. growth rate: 0.27 1/day<br>Lin. growth rate: 0.13 cm^3/day<br><extra></extra>",
         "legendgroup": "ID: 40",
         "line": {
          "color": "#636EFA"
         },
         "mode": "lines",
         "name": "ID: 40",
         "showlegend": false,
         "type": "scatter",
         "x": [
          0,
          0.1507537688442211,
          0.3015075376884422,
          0.4522613065326633,
          0.6030150753768844,
          0.7537688442211055,
          0.9045226130653266,
          1.0552763819095476,
          1.2060301507537687,
          1.3567839195979898,
          1.507537688442211,
          1.658291457286432,
          1.809045226130653,
          1.9597989949748742,
          2.1105527638190953,
          2.2613065326633164,
          2.4120603015075375,
          2.5628140703517586,
          2.7135678391959797,
          2.8643216080402008,
          3.015075376884422,
          3.165829145728643,
          3.316582914572864,
          3.467336683417085,
          3.618090452261306,
          3.7688442211055273,
          3.9195979899497484,
          4.0703517587939695,
          4.221105527638191,
          4.371859296482412,
          4.522613065326633,
          4.673366834170854,
          4.824120603015075,
          4.974874371859296,
          5.125628140703517,
          5.276381909547738,
          5.427135678391959,
          5.57788944723618,
          5.7286432160804015,
          5.879396984924623,
          6.030150753768844,
          6.180904522613065,
          6.331658291457286,
          6.482412060301507,
          6.633165829145728,
          6.783919597989949,
          6.93467336683417,
          7.085427135678391,
          7.236180904522612,
          7.3869346733668335,
          7.537688442211055,
          7.688442211055276,
          7.839195979899497,
          7.989949748743718,
          8.140703517587939,
          8.29145728643216,
          8.442211055276381,
          8.592964824120603,
          8.743718592964823,
          8.894472361809044,
          9.045226130653266,
          9.195979899497488,
          9.346733668341708,
          9.497487437185928,
          9.64824120603015,
          9.798994974874372,
          9.949748743718592,
          10.100502512562812,
          10.251256281407034,
          10.402010050251256,
          10.552763819095476,
          10.703517587939697,
          10.854271356783919,
          11.00502512562814,
          11.15577889447236,
          11.306532663316581,
          11.457286432160803,
          11.608040201005025,
          11.758793969849245,
          11.909547738693465,
          12.060301507537687,
          12.21105527638191,
          12.36180904522613,
          12.51256281407035,
          12.663316582914572,
          12.814070351758794,
          12.964824120603014,
          13.115577889447234,
          13.266331658291456,
          13.417085427135678,
          13.567839195979898,
          13.718592964824118,
          13.86934673366834,
          14.020100502512562,
          14.170854271356783,
          14.321608040201003,
          14.472361809045225,
          14.623115577889447,
          14.773869346733667,
          14.924623115577887,
          15.07537688442211,
          15.226130653266331,
          15.376884422110551,
          15.527638190954772,
          15.678391959798994,
          15.829145728643216,
          15.979899497487436,
          16.130653266331656,
          16.281407035175878,
          16.4321608040201,
          16.58291457286432,
          16.73366834170854,
          16.884422110552762,
          17.035175879396984,
          17.185929648241206,
          17.336683417085425,
          17.487437185929647,
          17.63819095477387,
          17.788944723618087,
          17.93969849246231,
          18.09045226130653,
          18.241206030150753,
          18.391959798994975,
          18.542713567839193,
          18.693467336683415,
          18.844221105527637,
          18.994974874371856,
          19.145728643216078,
          19.2964824120603,
          19.44723618090452,
          19.597989949748744,
          19.748743718592962,
          19.899497487437184,
          20.050251256281406,
          20.201005025125625,
          20.351758793969847,
          20.50251256281407,
          20.65326633165829,
          20.804020100502512,
          20.95477386934673,
          21.105527638190953,
          21.256281407035175,
          21.407035175879393,
          21.557788944723615,
          21.708542713567837,
          21.85929648241206,
          22.01005025125628,
          22.1608040201005,
          22.31155778894472,
          22.462311557788944,
          22.613065326633162,
          22.763819095477384,
          22.914572864321606,
          23.065326633165828,
          23.21608040201005,
          23.36683417085427,
          23.51758793969849,
          23.668341708542712,
          23.81909547738693,
          23.969849246231153,
          24.120603015075375,
          24.271356783919597,
          24.42211055276382,
          24.572864321608037,
          24.72361809045226,
          24.87437185929648,
          25.0251256281407,
          25.17587939698492,
          25.326633165829143,
          25.477386934673365,
          25.628140703517587,
          25.778894472361806,
          25.929648241206028,
          26.08040201005025,
          26.23115577889447,
          26.38190954773869,
          26.532663316582912,
          26.683417085427134,
          26.834170854271356,
          26.984924623115575,
          27.135678391959797,
          27.28643216080402,
          27.437185929648237,
          27.58793969849246,
          27.73869346733668,
          27.889447236180903,
          28.040201005025125,
          28.190954773869343,
          28.341708542713565,
          28.492462311557787,
          28.643216080402006,
          28.793969849246228,
          28.94472361809045,
          29.09547738693467,
          29.246231155778894,
          29.396984924623112,
          29.547738693467334,
          29.698492462311556,
          29.849246231155774,
          30
         ],
         "y": [
          0.1395199095256739,
          0.1469509945942976,
          0.15460514326249272,
          0.16249374480790857,
          0.17061237894471187,
          0.1789603564688919,
          0.18753931967908238,
          0.19633956318009177,
          0.2053585672976459,
          0.2146003121804396,
          0.22405877910701696,
          0.23372889597151886,
          0.24360360129381506,
          0.25368224147401297,
          0.2639572619823113,
          0.2744251967853733,
          0.28507918815638056,
          0.2959198636482627,
          0.3069434679940499,
          0.3181398742126126,
          0.32950916922171675,
          0.341047788362379,
          0.3527490692812509,
          0.3646098503328703,
          0.37662607266981996,
          0.38879343433213126,
          0.4011076749240725,
          0.4135646301815198,
          0.42616131780655864,
          0.4388965366143073,
          0.4517642854007963,
          0.46476047742406457,
          0.4778810259421511,
          0.4911218442130949,
          0.5044788454949349,
          0.5179479430457101,
          0.5315324755967158,
          0.5452309726142696,
          0.559034947142794,
          0.5729409181602352,
          0.5869454046445395,
          0.6010449255736532,
          0.6152359999255227,
          0.6295151466780942,
          0.6438918400673321,
          0.6583586056774888,
          0.6729097634664216,
          0.6875425405404327,
          0.7022541640058244,
          0.7170418609688991,
          0.731902858535959,
          0.7468347316309528,
          0.7618517743961738,
          0.776940213260186,
          0.7920980052946611,
          0.807323107571271,
          0.8226134771616875,
          0.8379670711375825,
          0.8533818465706274,
          0.8688575988985149,
          0.8843974668467334,
          0.8999955204002736,
          0.9156500996098913,
          0.9313595509636796,
          0.9471222273870691,
          0.9629364882428268,
          0.9788006993310576,
          0.9947132328892037,
          1.0106724675920442,
          1.0266767885516959,
          1.0427245873176119,
          1.0588214591032412,
          1.0749669975423701,
          1.0911556893345538,
          1.1073865175860775,
          1.1236584988131022,
          1.1399706829416647,
          1.156322153307676,
          1.1727120266569222,
          1.189139453145066,
          1.2056036163376445,
          1.2221037332100697,
          1.2386390541476293,
          1.2552107517452749,
          1.2718170889171245,
          1.2884573191892448,
          1.305130918268584,
          1.3218373998745574,
          1.3385763157390471,
          1.3553472556064001,
          1.3721498472334308,
          1.3889837563894194,
          1.405848686856113,
          1.4227443804277249,
          1.43966875148296,
          1.4566150475398227,
          1.4735884867737477,
          1.4905885614098093,
          1.5076147808097857,
          1.5246666714721597,
          1.5417437770321172,
          1.5588456582615484,
          1.5759718930690467,
          1.5931220764999103,
          1.6102958207361406,
          1.6274927550964433,
          1.644713432821445,
          1.6619578096419998,
          1.67922496676468,
          1.6965146785500296,
          1.7138267404066092,
          1.7311609687909975,
          1.7485172012077883,
          1.7658952962095924,
          1.7832951333970382,
          1.800716613418769,
          1.8181596579714472,
          1.8356242097997502,
          1.8531026397662123,
          1.8705986672679173,
          1.8881130376847934,
          1.90564538898767,
          1.9231953606259866,
          1.9407625935277932,
          1.958346730099752,
          1.975947414227134,
          1.9935642912738216,
          2.0111970080823087,
          2.0288452129736987,
          2.046509422948375,
          2.0641935117486834,
          2.0818938315707514,
          2.0996102712116644,
          2.1173427331670003,
          2.135091133630831,
          2.152855402495724,
          2.170635483352739,
          2.18843133349143,
          2.206242923899846,
          2.224070239264528,
          2.241913277970513,
          2.259768160695178,
          2.277632911040322,
          2.2955106593124426,
          2.313401099862966,
          2.3313039223535243,
          2.3492188117559536,
          2.367145448352295,
          2.3850835077347945,
          2.403032660805903,
          2.420992573778274,
          2.438962908174769,
          2.4569433208284517,
          2.4749401381701355,
          2.492950214846825,
          2.510972204021126,
          2.5290061055433757,
          2.547051932815469,
          2.5651097127908544,
          2.583179485974539,
          2.601261306423086,
          2.6193552417446133,
          2.637461373098796,
          2.6555797951968656,
          2.6737094642482604,
          2.6918423027920073,
          2.7099846216707273,
          2.7281361520570964,
          2.7462966168628347,
          2.764465730738707,
          2.7826432000745216,
          2.8008287229991318,
          2.8190219893804365,
          2.837222680825377,
          2.85543047067994,
          2.8736450240291567,
          2.8918704374891764,
          2.910109662995853,
          2.928358109305443,
          2.946615859480507,
          2.9648830114870446,
          2.9831596781944887,
          3.0014459873757087,
          3.0197420817070113,
          3.0380481187681383,
          3.0563642710422667,
          3.0746907259160112,
          3.09302768567942,
          3.111365987543642,
          3.129709022484711,
          3.1480589591634107,
          3.166415519942286,
          3.1847784148230347,
          3.2031473414465075,
          3.2215219850927093,
          3.239902018680797,
          3.258287102769084,
          3.276676885555034,
          3.295071002875264,
          3.3134701099298343
         ]
        },
        {
         "hovertemplate": "<b>Measurement </b><br>ID: 94<br>Time: %{x:} day<br>Tumour volume: %{y:.02f} cm^3<br>Cancer type: LXF A677<br><extra></extra>",
         "legendgroup": "ID: 94",
         "marker": {
          "color": "#EF553B",
          "line": {
           "color": "black",
           "width": 1
          },
          "opacity": 0.7,
          "symbol": "circle"
         },
         "mode": "markers",
         "name": "ID: 94",
         "showlegend": true,
         "type": "scatter",
         "x": [
          0,
          2,
          4,
          7,
          9,
          11,
          14,
          16,
          18,
          21,
          23,
          25,
          28,
          30
         ],
         "y": [
          0.07724750000000001,
          0.0884835,
          0.125316,
          0.165528,
          0.189486,
          0.264654,
          0.264654,
          0.306936,
          0.389207,
          0.389207,
          0.405769,
          0.4264715,
          0.5551309999999999,
          0.57624
         ]
        },
        {
         "hovertemplate": "<b>Simulation </b><br>ID: 94<br>Time: %{x:.0f} day<br>Tumour volume: %{y:.02f} cm^3<br>Cancer type: LXF A677<br><br><b>Parameter estimates </b><br>Initial tumour volume: 0.12 cm^3<br>Expon. growth rate: 0.03 1/day<br>Lin. growth rate: -4263736539.90 cm^3/day<br><extra></extra>",
         "legendgroup": "ID: 94",
         "line": {
          "color": "#EF553B"
         },
         "mode": "lines",
         "name": "ID: 94",
         "showlegend": false,
         "type": "scatter",
         "x": [
          0,
          0.1507537688442211,
          0.3015075376884422,
          0.4522613065326633,
          0.6030150753768844,
          0.7537688442211055,
          0.9045226130653266,
          1.0552763819095476,
          1.2060301507537687,
          1.3567839195979898,
          1.507537688442211,
          1.658291457286432,
          1.809045226130653,
          1.9597989949748742,
          2.1105527638190953,
          2.2613065326633164,
          2.4120603015075375,
          2.5628140703517586,
          2.7135678391959797,
          2.8643216080402008,
          3.015075376884422,
          3.165829145728643,
          3.316582914572864,
          3.467336683417085,
          3.618090452261306,
          3.7688442211055273,
          3.9195979899497484,
          4.0703517587939695,
          4.221105527638191,
          4.371859296482412,
          4.522613065326633,
          4.673366834170854,
          4.824120603015075,
          4.974874371859296,
          5.125628140703517,
          5.276381909547738,
          5.427135678391959,
          5.57788944723618,
          5.7286432160804015,
          5.879396984924623,
          6.030150753768844,
          6.180904522613065,
          6.331658291457286,
          6.482412060301507,
          6.633165829145728,
          6.783919597989949,
          6.93467336683417,
          7.085427135678391,
          7.236180904522612,
          7.3869346733668335,
          7.537688442211055,
          7.688442211055276,
          7.839195979899497,
          7.989949748743718,
          8.140703517587939,
          8.29145728643216,
          8.442211055276381,
          8.592964824120603,
          8.743718592964823,
          8.894472361809044,
          9.045226130653266,
          9.195979899497488,
          9.346733668341708,
          9.497487437185928,
          9.64824120603015,
          9.798994974874372,
          9.949748743718592,
          10.100502512562812,
          10.251256281407034,
          10.402010050251256,
          10.552763819095476,
          10.703517587939697,
          10.854271356783919,
          11.00502512562814,
          11.15577889447236,
          11.306532663316581,
          11.457286432160803,
          11.608040201005025,
          11.758793969849245,
          11.909547738693465,
          12.060301507537687,
          12.21105527638191,
          12.36180904522613,
          12.51256281407035,
          12.663316582914572,
          12.814070351758794,
          12.964824120603014,
          13.115577889447234,
          13.266331658291456,
          13.417085427135678,
          13.567839195979898,
          13.718592964824118,
          13.86934673366834,
          14.020100502512562,
          14.170854271356783,
          14.321608040201003,
          14.472361809045225,
          14.623115577889447,
          14.773869346733667,
          14.924623115577887,
          15.07537688442211,
          15.226130653266331,
          15.376884422110551,
          15.527638190954772,
          15.678391959798994,
          15.829145728643216,
          15.979899497487436,
          16.130653266331656,
          16.281407035175878,
          16.4321608040201,
          16.58291457286432,
          16.73366834170854,
          16.884422110552762,
          17.035175879396984,
          17.185929648241206,
          17.336683417085425,
          17.487437185929647,
          17.63819095477387,
          17.788944723618087,
          17.93969849246231,
          18.09045226130653,
          18.241206030150753,
          18.391959798994975,
          18.542713567839193,
          18.693467336683415,
          18.844221105527637,
          18.994974874371856,
          19.145728643216078,
          19.2964824120603,
          19.44723618090452,
          19.597989949748744,
          19.748743718592962,
          19.899497487437184,
          20.050251256281406,
          20.201005025125625,
          20.351758793969847,
          20.50251256281407,
          20.65326633165829,
          20.804020100502512,
          20.95477386934673,
          21.105527638190953,
          21.256281407035175,
          21.407035175879393,
          21.557788944723615,
          21.708542713567837,
          21.85929648241206,
          22.01005025125628,
          22.1608040201005,
          22.31155778894472,
          22.462311557788944,
          22.613065326633162,
          22.763819095477384,
          22.914572864321606,
          23.065326633165828,
          23.21608040201005,
          23.36683417085427,
          23.51758793969849,
          23.668341708542712,
          23.81909547738693,
          23.969849246231153,
          24.120603015075375,
          24.271356783919597,
          24.42211055276382,
          24.572864321608037,
          24.72361809045226,
          24.87437185929648,
          25.0251256281407,
          25.17587939698492,
          25.326633165829143,
          25.477386934673365,
          25.628140703517587,
          25.778894472361806,
          25.929648241206028,
          26.08040201005025,
          26.23115577889447,
          26.38190954773869,
          26.532663316582912,
          26.683417085427134,
          26.834170854271356,
          26.984924623115575,
          27.135678391959797,
          27.28643216080402,
          27.437185929648237,
          27.58793969849246,
          27.73869346733668,
          27.889447236180903,
          28.040201005025125,
          28.190954773869343,
          28.341708542713565,
          28.492462311557787,
          28.643216080402006,
          28.793969849246228,
          28.94472361809045,
          29.09547738693467,
          29.246231155778894,
          29.396984924623112,
          29.547738693467334,
          29.698492462311556,
          29.849246231155774,
          30
         ],
         "y": [
          0.1226331197952022,
          0.12361987263164473,
          0.1246142562836235,
          0.12561654784766432,
          0.12662453476598715,
          0.12764060811312863,
          0.12866403000910465,
          0.1296956875758033,
          0.13073536889978155,
          0.13178361249371284,
          0.13284010521349388,
          0.13390489988698961,
          0.13497844424819844,
          0.13606049269503367,
          0.13715106200193566,
          0.13825062844436958,
          0.13935899996014886,
          0.14047620967689256,
          0.1416022907222198,
          0.14273727622374963,
          0.1438814429911752,
          0.14503481523381132,
          0.14619739211192237,
          0.14736923525083,
          0.14855040627585583,
          0.14974102822417412,
          0.15094123181745364,
          0.15215103519345272,
          0.15337051287318723,
          0.15459973937767305,
          0.15583880423825952,
          0.1570878749596812,
          0.15834696213323515,
          0.15961614300915006,
          0.16089549483765467,
          0.16218509486897764,
          0.16348502035334775,
          0.1647953485409937,
          0.16611615668214416,
          0.1674475220270279,
          0.16878975831060425,
          0.17014287813879714,
          0.17150687133965048,
          0.17288181895704563,
          0.17426780203486403,
          0.175664901616987,
          0.17707319874729593,
          0.17849277446967224,
          0.17992370982799727,
          0.18136608586615244,
          0.18281998362801907,
          0.1842854841574786,
          0.1857626684984124,
          0.1872516176947018,
          0.18875241279022825,
          0.19026572986854315,
          0.19179132290034054,
          0.1933291577933347,
          0.1948793247449352,
          0.1964419139525517,
          0.1980170156135938,
          0.19960471992547116,
          0.20120511708559335,
          0.20281829729137002,
          0.20444435074021078,
          0.20608336762952525,
          0.20773543815672302,
          0.20940065251921378,
          0.2110791009144071,
          0.2127708735397126,
          0.21447693653565372,
          0.21619674928824373,
          0.21793035284912013,
          0.2196778490727858,
          0.2214393398137437,
          0.22321492692649678,
          0.225004712265548,
          0.2268087976854003,
          0.2286272850405566,
          0.23046027618551987,
          0.23230787297479305,
          0.2341701772628791,
          0.23604729090428092,
          0.2379393157535015,
          0.23984639787677905,
          0.24176963590796108,
          0.24370830114243036,
          0.24566250864543077,
          0.24763237348220596,
          0.24961801071799972,
          0.2516195354180557,
          0.25363706264761776,
          0.25567070747192955,
          0.2577205849562349,
          0.2597868101657774,
          0.26186949816580096,
          0.26396876402154923,
          0.26608472279826595,
          0.2682174895611949,
          0.2703673573675137,
          0.2725353190249176,
          0.27472066967384023,
          0.27692353907618245,
          0.27914405699384515,
          0.28138235318872906,
          0.28363855742273514,
          0.28591279945776416,
          0.2882052090557169,
          0.2905159159784943,
          0.2928450499879972,
          0.29519274084612634,
          0.2975591183147826,
          0.29994431215586687,
          0.30234845213128,
          0.3047720142041601,
          0.3072158442697341,
          0.3096792751919986,
          0.31216245315698865,
          0.31466552435073913,
          0.31718863495928523,
          0.31973193116866183,
          0.32229555916490393,
          0.32487966513404665,
          0.32748439526212475,
          0.3301098957351735,
          0.33275631273922784,
          0.33542379246032267,
          0.3381124810844931,
          0.34082252479777414,
          0.34355462789210045,
          0.3463094362352291,
          0.34908633852950705,
          0.35188549940982944,
          0.35470708351109115,
          0.35755125546818717,
          0.3604181799160126,
          0.3633080214894624,
          0.36622094482343154,
          0.369157114552815,
          0.3721166953125078,
          0.375099851737405,
          0.37810674846240155,
          0.38113755012239237,
          0.3841924213522726,
          0.38727234988504555,
          0.3903777115240603,
          0.3935079771258393,
          0.3966633320944719,
          0.399843961834048,
          0.4030500517486571,
          0.40628178724238856,
          0.4095393537193322,
          0.41282293658357744,
          0.41613272123921397,
          0.41946889309033125,
          0.42283163754101877,
          0.42622113999536637,
          0.4296375858574634,
          0.4330811605313995,
          0.43655320081152427,
          0.44005372477722876,
          0.4435823200006021,
          0.4471391952794137,
          0.45072455941143286,
          0.4543386211944292,
          0.457981589426172,
          0.46165367290443066,
          0.46535508042697465,
          0.46908602079157347,
          0.47284670279599633,
          0.4766373352380128,
          0.48045812691539214,
          0.4843092866259039,
          0.4881910231673175,
          0.49210510035303506,
          0.4960510714496696,
          0.5000286838690147,
          0.5040381727583634,
          0.5080797732650089,
          0.5121537205362439,
          0.5162602497193617,
          0.5203995959616554,
          0.5245719944104178,
          0.5287776802129422,
          0.5330168885165216,
          0.537289854468449,
          0.5415968132160174,
          0.5459379999065198,
          0.5503136496872494,
          0.5547260460724461,
          0.5591741477337403,
          0.5636579147923353,
          0.5681776120720651,
          0.5727335043967638,
          0.5773258565902657,
          0.5819549334764046,
          0.586620999879015,
          0.5913243206219307,
          0.596065160528986,
          0.6008437844240151
         ]
        },
        {
         "hovertemplate": "<b>Measurement </b><br>ID: 95<br>Time: %{x:} day<br>Tumour volume: %{y:.02f} cm^3<br>Cancer type: LXF A677<br><extra></extra>",
         "legendgroup": "ID: 95",
         "marker": {
          "color": "#00CC96",
          "line": {
           "color": "black",
           "width": 1
          },
          "opacity": 0.7,
          "symbol": "circle"
         },
         "mode": "markers",
         "name": "ID: 95",
         "showlegend": true,
         "type": "scatter",
         "x": [
          0,
          2,
          4,
          7,
          9,
          11,
          14,
          16,
          18,
          21
         ],
         "y": [
          0.1862,
          0.24641999999999997,
          0.4293,
          0.62426,
          0.7246720000000001,
          0.7300800000000001,
          0.9196,
          1.131184,
          1.675872,
          2.346616
         ]
        },
        {
         "hovertemplate": "<b>Simulation </b><br>ID: 95<br>Time: %{x:.0f} day<br>Tumour volume: %{y:.02f} cm^3<br>Cancer type: LXF A677<br><br><b>Parameter estimates </b><br>Initial tumour volume: 0.22 cm^3<br>Expon. growth rate: 0.06 1/day<br>Lin. growth rate: 1499672261035.19 cm^3/day<br><extra></extra>",
         "legendgroup": "ID: 95",
         "line": {
          "color": "#00CC96"
         },
         "mode": "lines",
         "name": "ID: 95",
         "showlegend": false,
         "type": "scatter",
         "x": [
          0,
          0.1507537688442211,
          0.3015075376884422,
          0.4522613065326633,
          0.6030150753768844,
          0.7537688442211055,
          0.9045226130653266,
          1.0552763819095476,
          1.2060301507537687,
          1.3567839195979898,
          1.507537688442211,
          1.658291457286432,
          1.809045226130653,
          1.9597989949748742,
          2.1105527638190953,
          2.2613065326633164,
          2.4120603015075375,
          2.5628140703517586,
          2.7135678391959797,
          2.8643216080402008,
          3.015075376884422,
          3.165829145728643,
          3.316582914572864,
          3.467336683417085,
          3.618090452261306,
          3.7688442211055273,
          3.9195979899497484,
          4.0703517587939695,
          4.221105527638191,
          4.371859296482412,
          4.522613065326633,
          4.673366834170854,
          4.824120603015075,
          4.974874371859296,
          5.125628140703517,
          5.276381909547738,
          5.427135678391959,
          5.57788944723618,
          5.7286432160804015,
          5.879396984924623,
          6.030150753768844,
          6.180904522613065,
          6.331658291457286,
          6.482412060301507,
          6.633165829145728,
          6.783919597989949,
          6.93467336683417,
          7.085427135678391,
          7.236180904522612,
          7.3869346733668335,
          7.537688442211055,
          7.688442211055276,
          7.839195979899497,
          7.989949748743718,
          8.140703517587939,
          8.29145728643216,
          8.442211055276381,
          8.592964824120603,
          8.743718592964823,
          8.894472361809044,
          9.045226130653266,
          9.195979899497488,
          9.346733668341708,
          9.497487437185928,
          9.64824120603015,
          9.798994974874372,
          9.949748743718592,
          10.100502512562812,
          10.251256281407034,
          10.402010050251256,
          10.552763819095476,
          10.703517587939697,
          10.854271356783919,
          11.00502512562814,
          11.15577889447236,
          11.306532663316581,
          11.457286432160803,
          11.608040201005025,
          11.758793969849245,
          11.909547738693465,
          12.060301507537687,
          12.21105527638191,
          12.36180904522613,
          12.51256281407035,
          12.663316582914572,
          12.814070351758794,
          12.964824120603014,
          13.115577889447234,
          13.266331658291456,
          13.417085427135678,
          13.567839195979898,
          13.718592964824118,
          13.86934673366834,
          14.020100502512562,
          14.170854271356783,
          14.321608040201003,
          14.472361809045225,
          14.623115577889447,
          14.773869346733667,
          14.924623115577887,
          15.07537688442211,
          15.226130653266331,
          15.376884422110551,
          15.527638190954772,
          15.678391959798994,
          15.829145728643216,
          15.979899497487436,
          16.130653266331656,
          16.281407035175878,
          16.4321608040201,
          16.58291457286432,
          16.73366834170854,
          16.884422110552762,
          17.035175879396984,
          17.185929648241206,
          17.336683417085425,
          17.487437185929647,
          17.63819095477387,
          17.788944723618087,
          17.93969849246231,
          18.09045226130653,
          18.241206030150753,
          18.391959798994975,
          18.542713567839193,
          18.693467336683415,
          18.844221105527637,
          18.994974874371856,
          19.145728643216078,
          19.2964824120603,
          19.44723618090452,
          19.597989949748744,
          19.748743718592962,
          19.899497487437184,
          20.050251256281406,
          20.201005025125625,
          20.351758793969847,
          20.50251256281407,
          20.65326633165829,
          20.804020100502512,
          20.95477386934673,
          21.105527638190953,
          21.256281407035175,
          21.407035175879393,
          21.557788944723615,
          21.708542713567837,
          21.85929648241206,
          22.01005025125628,
          22.1608040201005,
          22.31155778894472,
          22.462311557788944,
          22.613065326633162,
          22.763819095477384,
          22.914572864321606,
          23.065326633165828,
          23.21608040201005,
          23.36683417085427,
          23.51758793969849,
          23.668341708542712,
          23.81909547738693,
          23.969849246231153,
          24.120603015075375,
          24.271356783919597,
          24.42211055276382,
          24.572864321608037,
          24.72361809045226,
          24.87437185929648,
          25.0251256281407,
          25.17587939698492,
          25.326633165829143,
          25.477386934673365,
          25.628140703517587,
          25.778894472361806,
          25.929648241206028,
          26.08040201005025,
          26.23115577889447,
          26.38190954773869,
          26.532663316582912,
          26.683417085427134,
          26.834170854271356,
          26.984924623115575,
          27.135678391959797,
          27.28643216080402,
          27.437185929648237,
          27.58793969849246,
          27.73869346733668,
          27.889447236180903,
          28.040201005025125,
          28.190954773869343,
          28.341708542713565,
          28.492462311557787,
          28.643216080402006,
          28.793969849246228,
          28.94472361809045,
          29.09547738693467,
          29.246231155778894,
          29.396984924623112,
          29.547738693467334,
          29.698492462311556,
          29.849246231155774,
          30
         ],
         "y": [
          0.2210876675424537,
          0.2248345529666647,
          0.22863846701430646,
          0.23250116551905867,
          0.23642774001991573,
          0.24042037259418578,
          0.24448045136821164,
          0.24860882111855157,
          0.25280728525176427,
          0.25707597263963217,
          0.2614169848094092,
          0.2658309867061721,
          0.27031924008326025,
          0.2748832872370758,
          0.2795242029579196,
          0.2842437299012264,
          0.2890429600742141,
          0.29392317154844255,
          0.29888564497833503,
          0.3039323528464266,
          0.3090649971997034,
          0.31428444573545555,
          0.31959204092185084,
          0.32498912522705664,
          0.3304770411192406,
          0.33605713106657015,
          0.3417320242760373,
          0.3475040957892125,
          0.35337365241016405,
          0.35934218712509547,
          0.36541119292021024,
          0.37158216278171186,
          0.3778565896958038,
          0.384237374539421,
          0.3907276976342479,
          0.39732758140361446,
          0.40403871071535197,
          0.41086277043729186,
          0.41780144543726544,
          0.4248564205831041,
          0.4320307185940173,
          0.4393283450970679,
          0.4467491537941225,
          0.45429504695544143,
          0.4619679268512853,
          0.46976969575191446,
          0.47770225592758947,
          0.4857687177174624,
          0.49397400584315154,
          0.5023178090182416,
          0.5108022712211916,
          0.5194295364304601,
          0.528201748624506,
          0.537121051781788,
          0.5461906345003266,
          0.5554164963070982,
          0.5647981170565842,
          0.5743379106690879,
          0.5840382910649122,
          0.593901672164361,
          0.6039304678877372,
          0.6141279311884915,
          0.624501327617897,
          0.6350498720124638,
          0.6457762813220308,
          0.6566832724964371,
          0.6677735624855217,
          0.6790498682391237,
          0.6905154845540211,
          0.7021791587307078,
          0.7140397819173542,
          0.7261004120001234,
          0.7383641068651787,
          0.750833924398683,
          0.7635129224867991,
          0.7764044076211974,
          0.7895188505738339,
          0.8028547563857464,
          0.816415566733699,
          0.8302047232944559,
          0.8442256677447815,
          0.8584818417614397,
          0.8729766870211947,
          0.8877221883262083,
          0.9027168781952672,
          0.9179644692860056,
          0.9334688353026972,
          0.9492338499496163,
          0.9652633869310374,
          0.9815613199512344,
          0.998140431957089,
          1.0150002314944062,
          1.0321444138259608,
          1.0495773389451282,
          1.0673033668452836,
          1.085326857519803,
          1.1036521709620621,
          1.1222929156888621,
          1.1412498141256406,
          1.1605264955667354,
          1.18012786734833,
          1.200058836806608,
          1.2203243112777524,
          1.2409291980979469,
          1.2618879553073898,
          1.2832027975873532,
          1.3048772294309716,
          1.3269167742284624,
          1.3493269553700429,
          1.3721132962459297,
          1.3952813202463394,
          1.4188463541480176,
          1.442812429973407,
          1.4671828566862437,
          1.491963851066852,
          1.517161629895557,
          1.5427824099526846,
          1.5688324080185592,
          1.5953278326615807,
          1.6222749119894433,
          1.6496766749676022,
          1.6775401188117087,
          1.705872240737414,
          1.734680037960369,
          1.7639705076962264,
          1.7937607456012876,
          1.8240596161209384,
          1.8548697679177137,
          1.8861990766157395,
          1.918055417839142,
          1.950446667212048,
          1.9833807003585828,
          2.0168754957131094,
          2.050943064720784,
          2.0855855572201096,
          2.1208118375163147,
          2.1566307699146265,
          2.193051218720271,
          2.2300820482384753,
          2.2677421036174565,
          2.306047134475138,
          2.344998652387418,
          2.3846066344565795,
          2.4248810577849103,
          2.465831899474694,
          2.507469136628215,
          2.5498124507912436,
          2.5928820128952386,
          2.6366785328380944,
          2.681213240216229,
          2.7264973646260624,
          2.772542135664015,
          2.819358782926507,
          2.8669677768916686,
          2.9153944978974264,
          2.964638663310652,
          3.0147129124560976,
          3.0656298846585135,
          3.1174022192426496,
          3.170042555533259,
          3.223572084975872,
          3.278022305065038,
          3.333391718435299,
          3.389694551112615,
          3.4469450291229506,
          3.505157378492266,
          3.5643458252465217,
          3.6245321894665237,
          3.685755129853388,
          3.7480116763453513,
          3.8113178408590733,
          3.8756896353112116,
          3.941143071618429,
          4.0076941616973825,
          4.07536523311081,
          4.144203304940609,
          4.214203635723409,
          4.285384247461698,
          4.3577631621579584,
          4.431358401814675,
          4.506187988434338,
          4.582274601966301,
          4.659674997448937,
          4.7383823169628405,
          4.81841684493619,
          4.899798865797169,
          4.982548663973958,
          5.066686523894736,
          5.152235282982003,
          5.239263008245894,
          5.3277603275949375,
          5.417750071900844,
          5.50925507203532,
          5.60229815887007,
          5.696902163276802,
          5.79308991612722,
          5.890942367676132,
          5.9904474065064415,
          6.091630652165632,
          6.19451780164148
         ]
        },
        {
         "hovertemplate": "<b>Measurement </b><br>ID: 136<br>Time: %{x:} day<br>Tumour volume: %{y:.02f} cm^3<br>Cancer type: LXF A677<br><extra></extra>",
         "legendgroup": "ID: 136",
         "marker": {
          "color": "#AB63FA",
          "line": {
           "color": "black",
           "width": 1
          },
          "opacity": 0.7,
          "symbol": "circle"
         },
         "mode": "markers",
         "name": "ID: 136",
         "showlegend": true,
         "type": "scatter",
         "x": [
          0,
          2,
          4,
          7,
          9,
          11,
          14,
          16,
          18,
          21,
          23,
          25,
          28,
          30
         ],
         "y": [
          0.1185885,
          0.175071,
          0.22999200000000006,
          0.3026885,
          0.3026885,
          0.37044,
          0.5341545,
          0.651688,
          0.7212869999999999,
          0.78732,
          0.8529505000000001,
          1.104558,
          1.1328799999999999,
          1.4593425
         ]
        },
        {
         "hovertemplate": "<b>Simulation </b><br>ID: 136<br>Time: %{x:.0f} day<br>Tumour volume: %{y:.02f} cm^3<br>Cancer type: LXF A677<br><br><b>Parameter estimates </b><br>Initial tumour volume: 0.19 cm^3<br>Expon. growth rate: 0.03 1/day<br>Lin. growth rate: -24908115111.58 cm^3/day<br><extra></extra>",
         "legendgroup": "ID: 136",
         "line": {
          "color": "#AB63FA"
         },
         "mode": "lines",
         "name": "ID: 136",
         "showlegend": false,
         "type": "scatter",
         "x": [
          0,
          0.1507537688442211,
          0.3015075376884422,
          0.4522613065326633,
          0.6030150753768844,
          0.7537688442211055,
          0.9045226130653266,
          1.0552763819095476,
          1.2060301507537687,
          1.3567839195979898,
          1.507537688442211,
          1.658291457286432,
          1.809045226130653,
          1.9597989949748742,
          2.1105527638190953,
          2.2613065326633164,
          2.4120603015075375,
          2.5628140703517586,
          2.7135678391959797,
          2.8643216080402008,
          3.015075376884422,
          3.165829145728643,
          3.316582914572864,
          3.467336683417085,
          3.618090452261306,
          3.7688442211055273,
          3.9195979899497484,
          4.0703517587939695,
          4.221105527638191,
          4.371859296482412,
          4.522613065326633,
          4.673366834170854,
          4.824120603015075,
          4.974874371859296,
          5.125628140703517,
          5.276381909547738,
          5.427135678391959,
          5.57788944723618,
          5.7286432160804015,
          5.879396984924623,
          6.030150753768844,
          6.180904522613065,
          6.331658291457286,
          6.482412060301507,
          6.633165829145728,
          6.783919597989949,
          6.93467336683417,
          7.085427135678391,
          7.236180904522612,
          7.3869346733668335,
          7.537688442211055,
          7.688442211055276,
          7.839195979899497,
          7.989949748743718,
          8.140703517587939,
          8.29145728643216,
          8.442211055276381,
          8.592964824120603,
          8.743718592964823,
          8.894472361809044,
          9.045226130653266,
          9.195979899497488,
          9.346733668341708,
          9.497487437185928,
          9.64824120603015,
          9.798994974874372,
          9.949748743718592,
          10.100502512562812,
          10.251256281407034,
          10.402010050251256,
          10.552763819095476,
          10.703517587939697,
          10.854271356783919,
          11.00502512562814,
          11.15577889447236,
          11.306532663316581,
          11.457286432160803,
          11.608040201005025,
          11.758793969849245,
          11.909547738693465,
          12.060301507537687,
          12.21105527638191,
          12.36180904522613,
          12.51256281407035,
          12.663316582914572,
          12.814070351758794,
          12.964824120603014,
          13.115577889447234,
          13.266331658291456,
          13.417085427135678,
          13.567839195979898,
          13.718592964824118,
          13.86934673366834,
          14.020100502512562,
          14.170854271356783,
          14.321608040201003,
          14.472361809045225,
          14.623115577889447,
          14.773869346733667,
          14.924623115577887,
          15.07537688442211,
          15.226130653266331,
          15.376884422110551,
          15.527638190954772,
          15.678391959798994,
          15.829145728643216,
          15.979899497487436,
          16.130653266331656,
          16.281407035175878,
          16.4321608040201,
          16.58291457286432,
          16.73366834170854,
          16.884422110552762,
          17.035175879396984,
          17.185929648241206,
          17.336683417085425,
          17.487437185929647,
          17.63819095477387,
          17.788944723618087,
          17.93969849246231,
          18.09045226130653,
          18.241206030150753,
          18.391959798994975,
          18.542713567839193,
          18.693467336683415,
          18.844221105527637,
          18.994974874371856,
          19.145728643216078,
          19.2964824120603,
          19.44723618090452,
          19.597989949748744,
          19.748743718592962,
          19.899497487437184,
          20.050251256281406,
          20.201005025125625,
          20.351758793969847,
          20.50251256281407,
          20.65326633165829,
          20.804020100502512,
          20.95477386934673,
          21.105527638190953,
          21.256281407035175,
          21.407035175879393,
          21.557788944723615,
          21.708542713567837,
          21.85929648241206,
          22.01005025125628,
          22.1608040201005,
          22.31155778894472,
          22.462311557788944,
          22.613065326633162,
          22.763819095477384,
          22.914572864321606,
          23.065326633165828,
          23.21608040201005,
          23.36683417085427,
          23.51758793969849,
          23.668341708542712,
          23.81909547738693,
          23.969849246231153,
          24.120603015075375,
          24.271356783919597,
          24.42211055276382,
          24.572864321608037,
          24.72361809045226,
          24.87437185929648,
          25.0251256281407,
          25.17587939698492,
          25.326633165829143,
          25.477386934673365,
          25.628140703517587,
          25.778894472361806,
          25.929648241206028,
          26.08040201005025,
          26.23115577889447,
          26.38190954773869,
          26.532663316582912,
          26.683417085427134,
          26.834170854271356,
          26.984924623115575,
          27.135678391959797,
          27.28643216080402,
          27.437185929648237,
          27.58793969849246,
          27.73869346733668,
          27.889447236180903,
          28.040201005025125,
          28.190954773869343,
          28.341708542713565,
          28.492462311557787,
          28.643216080402006,
          28.793969849246228,
          28.94472361809045,
          29.09547738693467,
          29.246231155778894,
          29.396984924623112,
          29.547738693467334,
          29.698492462311556,
          29.849246231155774,
          30
         ],
         "y": [
          0.19325459517755325,
          0.19521548206684886,
          0.19719453586031677,
          0.1991902345504492,
          0.201205208705315,
          0.20323895528297536,
          0.20529292471596597,
          0.2073679050421406,
          0.20946359009264678,
          0.21158030774226036,
          0.21371856814247026,
          0.21587809901121283,
          0.218059897375178,
          0.22026369230346496,
          0.2224895881554659,
          0.22473768929057322,
          0.22700872913399633,
          0.22930268159002679,
          0.23161969398837262,
          0.23395996009370612,
          0.2363238991815213,
          0.238711729042689,
          0.24112363200179196,
          0.2435598421349093,
          0.24602072272408046,
          0.24850654838215916,
          0.25101749681096697,
          0.25355381049063724,
          0.2561157319013034,
          0.2587035035230987,
          0.26131736783615656,
          0.26395766394290016,
          0.26662517488350074,
          0.26931971115912895,
          0.2720415269906938,
          0.27479087659910406,
          0.2775680142052689,
          0.2803731940300972,
          0.2832066702944979,
          0.28606869721938,
          0.2889595290256525,
          0.2918794199342243,
          0.29482862416600436,
          0.29780792892502,
          0.30081815033816683,
          0.303858823222924,
          0.3069302303416135,
          0.3100326544565571,
          0.3131663783300769,
          0.3163316847244947,
          0.3195288564021325,
          0.32275817612531227,
          0.3260199266563558,
          0.32931439075758523,
          0.3326418511913223,
          0.33600370564202175,
          0.33940018844403486,
          0.34283100279395734,
          0.3462964678321332,
          0.3497969026989066,
          0.35333262653462183,
          0.35690395847962286,
          0.36051121767425376,
          0.3641547232588588,
          0.36783479437378197,
          0.37155175015936753,
          0.3753059097559595,
          0.3790993759922205,
          0.38293149521927644,
          0.3868023368497123,
          0.3907122612420588,
          0.39466162875484634,
          0.3986507997466056,
          0.40268013457586704,
          0.40674999360116115,
          0.4108607371810185,
          0.41501272567396974,
          0.4192063194385453,
          0.4234420358382093,
          0.4277223566416105,
          0.43204595245474603,
          0.4364132294676054,
          0.44082459387017825,
          0.4452804518524541,
          0.44978120960442264,
          0.45432727331607337,
          0.45891904917739595,
          0.46355694337837994,
          0.468241362109015,
          0.47297271155929066,
          0.47775214190273724,
          0.48258143790175867,
          0.4874595524362268,
          0.49238694288719975,
          0.49736406663573574,
          0.5023913810628929,
          0.5074693435497296,
          0.512598411477304,
          0.5177790422266741,
          0.5230116931788985,
          0.5282968217150351,
          0.5336348852161422,
          0.5390278512436725,
          0.5444765423803498,
          0.549980305173317,
          0.5555396544758995,
          0.5611551051414229,
          0.5668271720232129,
          0.5725563699745952,
          0.5783432138488955,
          0.5841882184994391,
          0.5900918987795521,
          0.59605476954256,
          0.6020773456417883,
          0.6081626425027307,
          0.6143101749696778,
          0.6205198324505309,
          0.6267921944673147,
          0.633127840542054,
          0.6395273501967735,
          0.6459913029534982,
          0.6525202783342524,
          0.6591148558610612,
          0.6657756150559492,
          0.6725031354409412,
          0.6792979965380621,
          0.6861645431884419,
          0.6931005484137057,
          0.7001066348423379,
          0.7071834548014858,
          0.7143316606182968,
          0.7215519046199179,
          0.7288448391334967,
          0.7362111164861804,
          0.7436513890051161,
          0.7511663090174514,
          0.7587565288503335,
          0.7664235593873802,
          0.7741708410254083,
          0.781996444278734,
          0.7899011034389744,
          0.7978855527977461,
          0.8059505266466658,
          0.8140967592773507,
          0.8223249849814176,
          0.8306359380504833,
          0.8390303527761647,
          0.8475089634500784,
          0.8560725043638417,
          0.8647237386661226,
          0.8734646813437945,
          0.8822939769842828,
          0.8912124521481237,
          0.9002209333958533,
          0.9093202472880081,
          0.9185112203851241,
          0.9277946792477381,
          0.9371714504363862,
          0.9466423605116043,
          0.9562082360339293,
          0.9658699035638973,
          0.9756317361662517,
          0.9854937825301977,
          0.9954554975596906,
          1.0055178116797405,
          1.0156816553153563,
          1.0259479588915472,
          1.0363176528333233,
          1.0467916675656939,
          1.0573709335136678,
          1.068056381102255,
          1.0788489407564645,
          1.089749542901306,
          1.10076460806353,
          1.1118915455714065,
          1.123130916183724,
          1.134483767241273,
          1.1459511460848453,
          1.1575341000552315,
          1.1692336764932225,
          1.1810509227396102,
          1.1929868861351853,
          1.2050426140207384,
          1.2172191537370618,
          1.22951840771406,
          1.2419468119972428,
          1.254500869024324,
          1.2671817577430078,
          1.2799906571009991,
          1.2929287460460022,
          1.305997203525721,
          1.3191972084878607,
          1.3325299398801251,
          1.3459965766502189,
          1.3595982977458465,
          1.373336282114712,
          1.387214343182415,
          1.4012368074821815,
          1.4154010182530985,
          1.4297083025870916
         ]
        },
        {
         "hovertemplate": "<b>Measurement </b><br>ID: 140<br>Time: %{x:} day<br>Tumour volume: %{y:.02f} cm^3<br>Cancer type: LXF A677<br><extra></extra>",
         "legendgroup": "ID: 140",
         "marker": {
          "color": "#FFA15A",
          "line": {
           "color": "black",
           "width": 1
          },
          "opacity": 0.7,
          "symbol": "circle"
         },
         "mode": "markers",
         "name": "ID: 140",
         "showlegend": true,
         "type": "scatter",
         "x": [
          0,
          2,
          4,
          7,
          9,
          11,
          14,
          16,
          18,
          21,
          23,
          25,
          28,
          30
         ],
         "y": [
          0.0793305,
          0.12685200000000002,
          0.146072,
          0.261121,
          0.34574400000000005,
          0.3552,
          0.41905,
          0.48029799999999995,
          0.556668,
          0.8089919999999999,
          0.8573040000000001,
          1.097675,
          1.992144,
          2.1225820000000004
         ]
        },
        {
         "hovertemplate": "<b>Simulation </b><br>ID: 140<br>Time: %{x:.0f} day<br>Tumour volume: %{y:.02f} cm^3<br>Cancer type: LXF A677<br><br><b>Parameter estimates </b><br>Initial tumour volume: 0.08 cm^3<br>Expon. growth rate: 0.05 1/day<br>Lin. growth rate: 29912851969.72 cm^3/day<br><extra></extra>",
         "legendgroup": "ID: 140",
         "line": {
          "color": "#FFA15A"
         },
         "mode": "lines",
         "name": "ID: 140",
         "showlegend": false,
         "type": "scatter",
         "x": [
          0,
          0.1507537688442211,
          0.3015075376884422,
          0.4522613065326633,
          0.6030150753768844,
          0.7537688442211055,
          0.9045226130653266,
          1.0552763819095476,
          1.2060301507537687,
          1.3567839195979898,
          1.507537688442211,
          1.658291457286432,
          1.809045226130653,
          1.9597989949748742,
          2.1105527638190953,
          2.2613065326633164,
          2.4120603015075375,
          2.5628140703517586,
          2.7135678391959797,
          2.8643216080402008,
          3.015075376884422,
          3.165829145728643,
          3.316582914572864,
          3.467336683417085,
          3.618090452261306,
          3.7688442211055273,
          3.9195979899497484,
          4.0703517587939695,
          4.221105527638191,
          4.371859296482412,
          4.522613065326633,
          4.673366834170854,
          4.824120603015075,
          4.974874371859296,
          5.125628140703517,
          5.276381909547738,
          5.427135678391959,
          5.57788944723618,
          5.7286432160804015,
          5.879396984924623,
          6.030150753768844,
          6.180904522613065,
          6.331658291457286,
          6.482412060301507,
          6.633165829145728,
          6.783919597989949,
          6.93467336683417,
          7.085427135678391,
          7.236180904522612,
          7.3869346733668335,
          7.537688442211055,
          7.688442211055276,
          7.839195979899497,
          7.989949748743718,
          8.140703517587939,
          8.29145728643216,
          8.442211055276381,
          8.592964824120603,
          8.743718592964823,
          8.894472361809044,
          9.045226130653266,
          9.195979899497488,
          9.346733668341708,
          9.497487437185928,
          9.64824120603015,
          9.798994974874372,
          9.949748743718592,
          10.100502512562812,
          10.251256281407034,
          10.402010050251256,
          10.552763819095476,
          10.703517587939697,
          10.854271356783919,
          11.00502512562814,
          11.15577889447236,
          11.306532663316581,
          11.457286432160803,
          11.608040201005025,
          11.758793969849245,
          11.909547738693465,
          12.060301507537687,
          12.21105527638191,
          12.36180904522613,
          12.51256281407035,
          12.663316582914572,
          12.814070351758794,
          12.964824120603014,
          13.115577889447234,
          13.266331658291456,
          13.417085427135678,
          13.567839195979898,
          13.718592964824118,
          13.86934673366834,
          14.020100502512562,
          14.170854271356783,
          14.321608040201003,
          14.472361809045225,
          14.623115577889447,
          14.773869346733667,
          14.924623115577887,
          15.07537688442211,
          15.226130653266331,
          15.376884422110551,
          15.527638190954772,
          15.678391959798994,
          15.829145728643216,
          15.979899497487436,
          16.130653266331656,
          16.281407035175878,
          16.4321608040201,
          16.58291457286432,
          16.73366834170854,
          16.884422110552762,
          17.035175879396984,
          17.185929648241206,
          17.336683417085425,
          17.487437185929647,
          17.63819095477387,
          17.788944723618087,
          17.93969849246231,
          18.09045226130653,
          18.241206030150753,
          18.391959798994975,
          18.542713567839193,
          18.693467336683415,
          18.844221105527637,
          18.994974874371856,
          19.145728643216078,
          19.2964824120603,
          19.44723618090452,
          19.597989949748744,
          19.748743718592962,
          19.899497487437184,
          20.050251256281406,
          20.201005025125625,
          20.351758793969847,
          20.50251256281407,
          20.65326633165829,
          20.804020100502512,
          20.95477386934673,
          21.105527638190953,
          21.256281407035175,
          21.407035175879393,
          21.557788944723615,
          21.708542713567837,
          21.85929648241206,
          22.01005025125628,
          22.1608040201005,
          22.31155778894472,
          22.462311557788944,
          22.613065326633162,
          22.763819095477384,
          22.914572864321606,
          23.065326633165828,
          23.21608040201005,
          23.36683417085427,
          23.51758793969849,
          23.668341708542712,
          23.81909547738693,
          23.969849246231153,
          24.120603015075375,
          24.271356783919597,
          24.42211055276382,
          24.572864321608037,
          24.72361809045226,
          24.87437185929648,
          25.0251256281407,
          25.17587939698492,
          25.326633165829143,
          25.477386934673365,
          25.628140703517587,
          25.778894472361806,
          25.929648241206028,
          26.08040201005025,
          26.23115577889447,
          26.38190954773869,
          26.532663316582912,
          26.683417085427134,
          26.834170854271356,
          26.984924623115575,
          27.135678391959797,
          27.28643216080402,
          27.437185929648237,
          27.58793969849246,
          27.73869346733668,
          27.889447236180903,
          28.040201005025125,
          28.190954773869343,
          28.341708542713565,
          28.492462311557787,
          28.643216080402006,
          28.793969849246228,
          28.94472361809045,
          29.09547738693467,
          29.246231155778894,
          29.396984924623112,
          29.547738693467334,
          29.698492462311556,
          29.849246231155774,
          30
         ],
         "y": [
          0.08430619145282095,
          0.08569869338187797,
          0.08711210216984923,
          0.08854653997609849,
          0.09000389996114949,
          0.09148527338806486,
          0.09299084713867585,
          0.09452109342316195,
          0.09607677068555319,
          0.09765790048551846,
          0.09926489130543208,
          0.10089839297695778,
          0.1025586142232832,
          0.10424613061507074,
          0.10596138483641192,
          0.10770481010629669,
          0.10947701983428532,
          0.11127839288584344,
          0.113109384486482,
          0.11497044986171193,
          0.11686229817598966,
          0.1187855687518434,
          0.12074054152651609,
          0.1227276944639781,
          0.12474750552819984,
          0.12680045268315168,
          0.12888701389280405,
          0.13100785037585283,
          0.1331643301109913,
          0.13535631990475744,
          0.13758435209608705,
          0.13984895902391598,
          0.14215067302718007,
          0.14449002644481515,
          0.14686755161575707,
          0.14928504620323696,
          0.1517425048147764,
          0.1542403673954883,
          0.15677923546288586,
          0.1593597105344824,
          0.16198239412779109,
          0.16464788776032524,
          0.16735764950027737,
          0.17011261525105775,
          0.1729128908077005,
          0.17575915610633075,
          0.17865209108307353,
          0.18159237567405392,
          0.184580689815397,
          0.18761809257779796,
          0.19070655798498712,
          0.1938458389961825,
          0.19703670283965774,
          0.20027991674368653,
          0.20357624793654255,
          0.20692646364649944,
          0.21033133110183094,
          0.2137935243358133,
          0.21731285180362958,
          0.22089003391848494,
          0.22452593552506084,
          0.22822142146803864,
          0.23197735659209967,
          0.23579460574192543,
          0.23967535453530459,
          0.24362073721436503,
          0.24763100666429452,
          0.25170713744844936,
          0.2558501041301858,
          0.26006088127286,
          0.264340443439828,
          0.2686904246071996,
          0.2731134364330708,
          0.27760921974636676,
          0.28217887270261754,
          0.2868234934573532,
          0.29154418016610395,
          0.29634203098439976,
          0.30121814406777064,
          0.3061765144784879,
          0.3112165814627265,
          0.31633949814779483,
          0.32154650198125484,
          0.32683883041066863,
          0.33221772088359836,
          0.33768441084760603,
          0.343242205671035,
          0.3488924384353749,
          0.3546355905293296,
          0.36047305638478444,
          0.3664062304336246,
          0.3724365071077354,
          0.37856528083900215,
          0.38479506884744846,
          0.39112932326117567,
          0.39756778816616406,
          0.40411203490447223,
          0.4107636348181584,
          0.41752415924928094,
          0.4243951795398983,
          0.4313783242957713,
          0.43847939525919216,
          0.4456973372789023,
          0.45303392105397494,
          0.46049091728348324,
          0.4680700966665,
          0.4757732299020984,
          0.4836020876893515,
          0.49156165946459046,
          0.4996534295893079,
          0.5078782618103279,
          0.5162381514759533,
          0.5247350939344867,
          0.5333710845342305,
          0.5421481186234874,
          0.5510700590890845,
          0.5601414278740195,
          0.5693620284578473,
          0.5787341093388122,
          0.588259919015159,
          0.597941705985132,
          0.6077817187469757,
          0.6177825476388511,
          0.6279520873270976,
          0.6382889896502105,
          0.6487957883731927,
          0.659475017261047,
          0.6703292100787768,
          0.6813609005913848,
          0.6925726225638741,
          0.7039718933610939,
          0.7155602192756627,
          0.7273390923681639,
          0.7393113678620258,
          0.7514799009806775,
          0.7638475469475483,
          0.7764171609860672,
          0.7891946509886332,
          0.8021858764849876,
          0.8153908052138736,
          0.8288126546405291,
          0.8424546422301913,
          0.8563199854480972,
          0.8704119017594849,
          0.8847344772787027,
          0.8992984118710353,
          0.9141020143212055,
          0.9291489102938415,
          0.9444427254535732,
          0.9599870854650289,
          0.9757856159928371,
          0.9918419427016275,
          1.008167372443393,
          1.0247631591337742,
          1.0416318124572723,
          1.05877741806612,
          1.076204061612551,
          1.0939158287487982,
          1.1119168051270942,
          1.130215998950977,
          1.1488209014705946,
          1.167731831563632,
          1.1869533932284986,
          1.206490190463602,
          1.2263468272673528,
          1.2465279076381588,
          1.2670398325406582,
          1.2878970382582469,
          1.3090974546864564,
          1.330646269932386,
          1.3525486721031348,
          1.3748098493058012,
          1.3974349896474851,
          1.4204292812352854,
          1.4438097039134659,
          1.467576736695607,
          1.4917345186779143,
          1.5162888961819685,
          1.5412457155293504,
          1.5666108230416402,
          1.5923900650404201,
          1.6185971395689522,
          1.645241460478947,
          1.6723240191317974,
          1.6998514035711554,
          1.727830201840674,
          1.7562670019840056,
          1.7851683920448025,
          1.8145443398980654,
          1.8444142220987718,
          1.874775590830462,
          1.905635869961045,
          1.937002483358428,
          1.968882854890519,
          2.001284408425226,
          2.034214567830456,
          2.0676987949829204,
          2.1017358568538085,
          2.1363324772516377,
          2.1714970219094902
         ]
        },
        {
         "hovertemplate": "<b>Measurement </b><br>ID: 155<br>Time: %{x:} day<br>Tumour volume: %{y:.02f} cm^3<br>Cancer type: LXF A677<br><extra></extra>",
         "legendgroup": "ID: 155",
         "marker": {
          "color": "#19D3F3",
          "line": {
           "color": "black",
           "width": 1
          },
          "opacity": 0.7,
          "symbol": "circle"
         },
         "mode": "markers",
         "name": "ID: 155",
         "showlegend": true,
         "type": "scatter",
         "x": [
          0,
          2,
          4,
          7,
          9,
          11,
          14,
          16,
          18,
          21,
          23,
          25
         ],
         "y": [
          0.105875,
          0.167706,
          0.35632800000000003,
          0.6489600000000001,
          0.692224,
          0.7300800000000001,
          0.81648,
          1.4949540000000001,
          1.5166985,
          1.72405,
          1.637784,
          2.25108
         ]
        },
        {
         "hovertemplate": "<b>Simulation </b><br>ID: 155<br>Time: %{x:.0f} day<br>Tumour volume: %{y:.02f} cm^3<br>Cancer type: LXF A677<br><br><b>Parameter estimates </b><br>Initial tumour volume: 0.13 cm^3<br>Expon. growth rate: 0.20 1/day<br>Lin. growth rate: 0.11 cm^3/day<br><extra></extra>",
         "legendgroup": "ID: 155",
         "line": {
          "color": "#19D3F3"
         },
         "mode": "lines",
         "name": "ID: 155",
         "showlegend": false,
         "type": "scatter",
         "x": [
          0,
          0.1507537688442211,
          0.3015075376884422,
          0.4522613065326633,
          0.6030150753768844,
          0.7537688442211055,
          0.9045226130653266,
          1.0552763819095476,
          1.2060301507537687,
          1.3567839195979898,
          1.507537688442211,
          1.658291457286432,
          1.809045226130653,
          1.9597989949748742,
          2.1105527638190953,
          2.2613065326633164,
          2.4120603015075375,
          2.5628140703517586,
          2.7135678391959797,
          2.8643216080402008,
          3.015075376884422,
          3.165829145728643,
          3.316582914572864,
          3.467336683417085,
          3.618090452261306,
          3.7688442211055273,
          3.9195979899497484,
          4.0703517587939695,
          4.221105527638191,
          4.371859296482412,
          4.522613065326633,
          4.673366834170854,
          4.824120603015075,
          4.974874371859296,
          5.125628140703517,
          5.276381909547738,
          5.427135678391959,
          5.57788944723618,
          5.7286432160804015,
          5.879396984924623,
          6.030150753768844,
          6.180904522613065,
          6.331658291457286,
          6.482412060301507,
          6.633165829145728,
          6.783919597989949,
          6.93467336683417,
          7.085427135678391,
          7.236180904522612,
          7.3869346733668335,
          7.537688442211055,
          7.688442211055276,
          7.839195979899497,
          7.989949748743718,
          8.140703517587939,
          8.29145728643216,
          8.442211055276381,
          8.592964824120603,
          8.743718592964823,
          8.894472361809044,
          9.045226130653266,
          9.195979899497488,
          9.346733668341708,
          9.497487437185928,
          9.64824120603015,
          9.798994974874372,
          9.949748743718592,
          10.100502512562812,
          10.251256281407034,
          10.402010050251256,
          10.552763819095476,
          10.703517587939697,
          10.854271356783919,
          11.00502512562814,
          11.15577889447236,
          11.306532663316581,
          11.457286432160803,
          11.608040201005025,
          11.758793969849245,
          11.909547738693465,
          12.060301507537687,
          12.21105527638191,
          12.36180904522613,
          12.51256281407035,
          12.663316582914572,
          12.814070351758794,
          12.964824120603014,
          13.115577889447234,
          13.266331658291456,
          13.417085427135678,
          13.567839195979898,
          13.718592964824118,
          13.86934673366834,
          14.020100502512562,
          14.170854271356783,
          14.321608040201003,
          14.472361809045225,
          14.623115577889447,
          14.773869346733667,
          14.924623115577887,
          15.07537688442211,
          15.226130653266331,
          15.376884422110551,
          15.527638190954772,
          15.678391959798994,
          15.829145728643216,
          15.979899497487436,
          16.130653266331656,
          16.281407035175878,
          16.4321608040201,
          16.58291457286432,
          16.73366834170854,
          16.884422110552762,
          17.035175879396984,
          17.185929648241206,
          17.336683417085425,
          17.487437185929647,
          17.63819095477387,
          17.788944723618087,
          17.93969849246231,
          18.09045226130653,
          18.241206030150753,
          18.391959798994975,
          18.542713567839193,
          18.693467336683415,
          18.844221105527637,
          18.994974874371856,
          19.145728643216078,
          19.2964824120603,
          19.44723618090452,
          19.597989949748744,
          19.748743718592962,
          19.899497487437184,
          20.050251256281406,
          20.201005025125625,
          20.351758793969847,
          20.50251256281407,
          20.65326633165829,
          20.804020100502512,
          20.95477386934673,
          21.105527638190953,
          21.256281407035175,
          21.407035175879393,
          21.557788944723615,
          21.708542713567837,
          21.85929648241206,
          22.01005025125628,
          22.1608040201005,
          22.31155778894472,
          22.462311557788944,
          22.613065326633162,
          22.763819095477384,
          22.914572864321606,
          23.065326633165828,
          23.21608040201005,
          23.36683417085427,
          23.51758793969849,
          23.668341708542712,
          23.81909547738693,
          23.969849246231153,
          24.120603015075375,
          24.271356783919597,
          24.42211055276382,
          24.572864321608037,
          24.72361809045226,
          24.87437185929648,
          25.0251256281407,
          25.17587939698492,
          25.326633165829143,
          25.477386934673365,
          25.628140703517587,
          25.778894472361806,
          25.929648241206028,
          26.08040201005025,
          26.23115577889447,
          26.38190954773869,
          26.532663316582912,
          26.683417085427134,
          26.834170854271356,
          26.984924623115575,
          27.135678391959797,
          27.28643216080402,
          27.437185929648237,
          27.58793969849246,
          27.73869346733668,
          27.889447236180903,
          28.040201005025125,
          28.190954773869343,
          28.341708542713565,
          28.492462311557787,
          28.643216080402006,
          28.793969849246228,
          28.94472361809045,
          29.09547738693467,
          29.246231155778894,
          29.396984924623112,
          29.547738693467334,
          29.698492462311556,
          29.849246231155774,
          30
         ],
         "y": [
          0.13327409685619518,
          0.13870411723550669,
          0.14426634552186757,
          0.1499694910750163,
          0.155816178579913,
          0.16180554509753375,
          0.16793766629523788,
          0.1742110655212951,
          0.1806226257020573,
          0.1871749018223222,
          0.19386789388208966,
          0.2007008485040579,
          0.20766384598822663,
          0.21476333086383703,
          0.22199930313088906,
          0.22937176278938276,
          0.2368744185845667,
          0.2445080583107343,
          0.25227039907154963,
          0.2601583443650424,
          0.2681729069477385,
          0.27630833522300396,
          0.284567182933747,
          0.29294145521715065,
          0.3014314494928854,
          0.3100375929659922,
          0.3187593286400242,
          0.3275960995185349,
          0.33654145895286713,
          0.3455931510330946,
          0.354752309866183,
          0.3640175167040983,
          0.3733873527988067,
          0.38285864151338533,
          0.39242767386477445,
          0.4020943926242075,
          0.4118569741257847,
          0.4217135947036063,
          0.4316624703620595,
          0.4417019459645493,
          0.45183011142098295,
          0.46204516201499946,
          0.4723452930302379,
          0.4827287270796267,
          0.4931972800693202,
          0.5037468184690398,
          0.5143755951776119,
          0.5250818630938627,
          0.5358638751166185,
          0.5467198841447054,
          0.5576481430769498,
          0.5686469048121777,
          0.5797144222492157,
          0.5908489482868897,
          0.6020487358240262,
          0.6133236218292158,
          0.6246634814425959,
          0.6360666770428054,
          0.6475317164126212,
          0.6590571073348206,
          0.6706413575921805,
          0.6822829749674777,
          0.693980467243489,
          0.7057323422029915,
          0.7175371076287624,
          0.7293932713035783,
          0.7413128272822412,
          0.7532849073247809,
          0.7653078665546752,
          0.7773805175155223,
          0.7895016727509202,
          0.8016701448044673,
          0.8138847462197619,
          0.8261442895404022,
          0.838447587309986,
          0.850793452072112,
          0.8631806963703783,
          0.8756198466793557,
          0.888101915569457,
          0.9006253278184899,
          0.9131891679949486,
          0.9257925206673271,
          0.938434470404119,
          0.9511141017738185,
          0.9638304993449199,
          0.9765827476859169,
          0.9893699313653035,
          1.0021911349515737,
          1.0150562708781137,
          1.0279575475511185,
          1.0408934434405601,
          1.053863301669958,
          1.066866465362832,
          1.0799022776427019,
          1.0929700816330872,
          1.1060692204575078,
          1.1191990372394836,
          1.132358875102534,
          1.1455480771701785,
          1.1587687079484128,
          1.1720184705797358,
          1.1852964904151717,
          1.1986021774407645,
          1.211934941642558,
          1.2252941930065964,
          1.2386793415189232,
          1.2520897971655824,
          1.2655249699326176,
          1.2789842698060732,
          1.2924671067719926,
          1.3059796045630299,
          1.3195173564066933,
          1.333079065080829,
          1.3466643104093596,
          1.3602726722162064,
          1.3739037303252917,
          1.3875570645605375,
          1.4012322547458658,
          1.414928880705198,
          1.4286465222624571,
          1.4423847592415646,
          1.4561455372972483,
          1.469927176409927,
          1.4837289440585157,
          1.4975504817319487,
          1.5113914309191603,
          1.5252514331090838,
          1.5391301297906546,
          1.553027162452806,
          1.5669421725844725,
          1.5808748016745882,
          1.5948246912120867,
          1.6087949910600392,
          1.6227836077334943,
          1.6367896206926131,
          1.6508127657178608,
          1.6648527785897023,
          1.678909395088602,
          1.6929823509950253,
          1.707071382089436,
          1.7211762241523003,
          1.7352966129640826,
          1.7494322843052472,
          1.763584355514331,
          1.7777519346652608,
          1.7919344950631275,
          1.806131810805454,
          1.8203436559897628,
          1.8345698047135774,
          1.8488100310744204,
          1.8630641091698146,
          1.8773318130972836,
          1.8916129169543496,
          1.9059071948385358,
          1.9202162006996486,
          1.9345389757078695,
          1.9488748996636966,
          1.9632237976479443,
          1.9775854947414264,
          1.9919598160249583,
          2.0063465865793537,
          2.020745631485427,
          2.0351567758239923,
          2.049579844675864,
          2.064014663121857,
          2.078461859118711,
          2.092920963382664,
          2.1073915962581835,
          2.1218736065999497,
          2.1363668432626435,
          2.150871155100946,
          2.1653863909695374,
          2.1799123997231,
          2.1944490302163135,
          2.208996131303859,
          2.2235535518404173,
          2.238122628618265,
          2.2527026217019657,
          2.2672929014292267,
          2.281893331086749,
          2.296503773961232,
          2.3111240933393766,
          2.3257541525078818,
          2.340393814753449,
          2.3550429433627773,
          2.3697014016225673,
          2.3843690528195194,
          2.399045760240332,
          2.4137313871717074,
          2.4284257969003447,
          2.4431288527129436,
          2.4578404178962048,
          2.472560355736828,
          2.487288529521514,
          2.5020260218232346,
          2.51677670452696,
          2.5315362086053392,
          2.546304447801174,
          2.561081335857267,
          2.5758667865164213
         ]
        },
        {
         "hovertemplate": "<b>Measurement </b><br>ID: 169<br>Time: %{x:} day<br>Tumour volume: %{y:.02f} cm^3<br>Cancer type: LXF A677<br><extra></extra>",
         "legendgroup": "ID: 169",
         "marker": {
          "color": "#FF6692",
          "line": {
           "color": "black",
           "width": 1
          },
          "opacity": 0.7,
          "symbol": "circle"
         },
         "mode": "markers",
         "name": "ID: 169",
         "showlegend": true,
         "type": "scatter",
         "x": [
          0,
          2,
          4,
          7,
          9,
          11,
          14,
          16,
          18,
          21,
          23,
          25,
          28,
          30
         ],
         "y": [
          0.123008,
          0.128774,
          0.1764,
          0.20516650000000006,
          0.24605349999999998,
          0.2788425,
          0.333036,
          0.35644499999999996,
          0.39285,
          0.479859,
          0.5390550000000001,
          0.6354195,
          0.7146180000000001,
          0.7469865
         ]
        },
        {
         "hovertemplate": "<b>Simulation </b><br>ID: 169<br>Time: %{x:.0f} day<br>Tumour volume: %{y:.02f} cm^3<br>Cancer type: LXF A677<br><br><b>Parameter estimates </b><br>Initial tumour volume: 0.12 cm^3<br>Expon. growth rate: 0.04 1/day<br>Lin. growth rate: 0.07 cm^3/day<br><extra></extra>",
         "legendgroup": "ID: 169",
         "line": {
          "color": "#FF6692"
         },
         "mode": "lines",
         "name": "ID: 169",
         "showlegend": false,
         "type": "scatter",
         "x": [
          0,
          0.1507537688442211,
          0.3015075376884422,
          0.4522613065326633,
          0.6030150753768844,
          0.7537688442211055,
          0.9045226130653266,
          1.0552763819095476,
          1.2060301507537687,
          1.3567839195979898,
          1.507537688442211,
          1.658291457286432,
          1.809045226130653,
          1.9597989949748742,
          2.1105527638190953,
          2.2613065326633164,
          2.4120603015075375,
          2.5628140703517586,
          2.7135678391959797,
          2.8643216080402008,
          3.015075376884422,
          3.165829145728643,
          3.316582914572864,
          3.467336683417085,
          3.618090452261306,
          3.7688442211055273,
          3.9195979899497484,
          4.0703517587939695,
          4.221105527638191,
          4.371859296482412,
          4.522613065326633,
          4.673366834170854,
          4.824120603015075,
          4.974874371859296,
          5.125628140703517,
          5.276381909547738,
          5.427135678391959,
          5.57788944723618,
          5.7286432160804015,
          5.879396984924623,
          6.030150753768844,
          6.180904522613065,
          6.331658291457286,
          6.482412060301507,
          6.633165829145728,
          6.783919597989949,
          6.93467336683417,
          7.085427135678391,
          7.236180904522612,
          7.3869346733668335,
          7.537688442211055,
          7.688442211055276,
          7.839195979899497,
          7.989949748743718,
          8.140703517587939,
          8.29145728643216,
          8.442211055276381,
          8.592964824120603,
          8.743718592964823,
          8.894472361809044,
          9.045226130653266,
          9.195979899497488,
          9.346733668341708,
          9.497487437185928,
          9.64824120603015,
          9.798994974874372,
          9.949748743718592,
          10.100502512562812,
          10.251256281407034,
          10.402010050251256,
          10.552763819095476,
          10.703517587939697,
          10.854271356783919,
          11.00502512562814,
          11.15577889447236,
          11.306532663316581,
          11.457286432160803,
          11.608040201005025,
          11.758793969849245,
          11.909547738693465,
          12.060301507537687,
          12.21105527638191,
          12.36180904522613,
          12.51256281407035,
          12.663316582914572,
          12.814070351758794,
          12.964824120603014,
          13.115577889447234,
          13.266331658291456,
          13.417085427135678,
          13.567839195979898,
          13.718592964824118,
          13.86934673366834,
          14.020100502512562,
          14.170854271356783,
          14.321608040201003,
          14.472361809045225,
          14.623115577889447,
          14.773869346733667,
          14.924623115577887,
          15.07537688442211,
          15.226130653266331,
          15.376884422110551,
          15.527638190954772,
          15.678391959798994,
          15.829145728643216,
          15.979899497487436,
          16.130653266331656,
          16.281407035175878,
          16.4321608040201,
          16.58291457286432,
          16.73366834170854,
          16.884422110552762,
          17.035175879396984,
          17.185929648241206,
          17.336683417085425,
          17.487437185929647,
          17.63819095477387,
          17.788944723618087,
          17.93969849246231,
          18.09045226130653,
          18.241206030150753,
          18.391959798994975,
          18.542713567839193,
          18.693467336683415,
          18.844221105527637,
          18.994974874371856,
          19.145728643216078,
          19.2964824120603,
          19.44723618090452,
          19.597989949748744,
          19.748743718592962,
          19.899497487437184,
          20.050251256281406,
          20.201005025125625,
          20.351758793969847,
          20.50251256281407,
          20.65326633165829,
          20.804020100502512,
          20.95477386934673,
          21.105527638190953,
          21.256281407035175,
          21.407035175879393,
          21.557788944723615,
          21.708542713567837,
          21.85929648241206,
          22.01005025125628,
          22.1608040201005,
          22.31155778894472,
          22.462311557788944,
          22.613065326633162,
          22.763819095477384,
          22.914572864321606,
          23.065326633165828,
          23.21608040201005,
          23.36683417085427,
          23.51758793969849,
          23.668341708542712,
          23.81909547738693,
          23.969849246231153,
          24.120603015075375,
          24.271356783919597,
          24.42211055276382,
          24.572864321608037,
          24.72361809045226,
          24.87437185929648,
          25.0251256281407,
          25.17587939698492,
          25.326633165829143,
          25.477386934673365,
          25.628140703517587,
          25.778894472361806,
          25.929648241206028,
          26.08040201005025,
          26.23115577889447,
          26.38190954773869,
          26.532663316582912,
          26.683417085427134,
          26.834170854271356,
          26.984924623115575,
          27.135678391959797,
          27.28643216080402,
          27.437185929648237,
          27.58793969849246,
          27.73869346733668,
          27.889447236180903,
          28.040201005025125,
          28.190954773869343,
          28.341708542713565,
          28.492462311557787,
          28.643216080402006,
          28.793969849246228,
          28.94472361809045,
          29.09547738693467,
          29.246231155778894,
          29.396984924623112,
          29.547738693467334,
          29.698492462311556,
          29.849246231155774,
          30
         ],
         "y": [
          0.12332979167802109,
          0.12474931067784967,
          0.12618193702398636,
          0.12762630751942322,
          0.129084328462942,
          0.13055564017251572,
          0.1320411470491574,
          0.13354132814959843,
          0.1350559522913958,
          0.1365853622304439,
          0.13812981305328548,
          0.13968902542547856,
          0.1412629993470232,
          0.14285243097402905,
          0.14445704856919808,
          0.1460767782158299,
          0.14771178350269504,
          0.1493626164149263,
          0.15102890441315753,
          0.15271064749738875,
          0.1544087511230115,
          0.15612346411941058,
          0.15785436205297046,
          0.15960145734905337,
          0.16136476243302159,
          0.16314428973023737,
          0.164940051666063,
          0.16675206066586068,
          0.16858032915499274,
          0.17042486955882144,
          0.172285694302709,
          0.17416281581201773,
          0.1760577783927956,
          0.17797032551503592,
          0.17989981834966595,
          0.18184631425931483,
          0.1838098706066117,
          0.18579054475418566,
          0.18778839406466585,
          0.18980347590068142,
          0.19183584762486144,
          0.1938855665998351,
          0.19595269018823147,
          0.19803727575267974,
          0.20014009320017126,
          0.20226099099317416,
          0.20439978726129832,
          0.20655655872340709,
          0.20873138209836373,
          0.2109243341050315,
          0.21313549146227376,
          0.21536493088895373,
          0.21761272910393475,
          0.21987896282608008,
          0.22216370877425298,
          0.2244670436673168,
          0.2267889699993919,
          0.22912959386248782,
          0.2314890111088793,
          0.23386729658140276,
          0.2362645251228946,
          0.23868077157619114,
          0.24111611078412876,
          0.2435706175895438,
          0.24604436683527267,
          0.24853743336415174,
          0.25104989201901734,
          0.2535818176427058,
          0.2561322545788797,
          0.2587018495045308,
          0.26129089587334625,
          0.26389946135035075,
          0.266527613600569,
          0.2691754202890254,
          0.27184294908074474,
          0.2745302676407515,
          0.27723744363407044,
          0.27996454472572607,
          0.28271163858074294,
          0.2854787928641458,
          0.28826607524095915,
          0.2910735533762077,
          0.29390129493491596,
          0.29674936758210857,
          0.29961783898281014,
          0.30250677680204535,
          0.3054162487048387,
          0.30834632235621484,
          0.31129671079560195,
          0.3142650736920388,
          0.3172538048078866,
          0.32026295178968,
          0.32329256228395337,
          0.32634268393724136,
          0.3294133643960784,
          0.33250465130699897,
          0.3356165923165378,
          0.3387492350712292,
          0.34190262721760784,
          0.3450768164022081,
          0.34827185027156465,
          0.35148777647221197,
          0.35472464265068454,
          0.35798249645351693,
          0.36126138552724363,
          0.36456135751839924,
          0.36788246007351816,
          0.371224740839135,
          0.3745882474617843,
          0.3779713942604669,
          0.38137339834777817,
          0.38479621351440785,
          0.3882398621971984,
          0.39170436683299253,
          0.3951897498586328,
          0.39869603371096185,
          0.40222324082682237,
          0.40577139364305703,
          0.4093405145965083,
          0.412930626124019,
          0.4165417506624317,
          0.420173910648589,
          0.4238271285193336,
          0.427501426711508,
          0.43119682766195494,
          0.4349133538075171,
          0.438651027585037,
          0.44240987143135735,
          0.44618990778332085,
          0.44999115907777,
          0.4538111992760782,
          0.4576513083755107,
          0.4615122177101808,
          0.4653939282368386,
          0.4692964409122343,
          0.4732197566931184,
          0.477163876536241,
          0.48112880139835223,
          0.48511453223620254,
          0.489121070006542,
          0.49314841566612094,
          0.49719657017168967,
          0.5012655344799982,
          0.5053553095477972,
          0.5094658963318365,
          0.5135972957888666,
          0.5177495088756376,
          0.5219225365488998,
          0.5261163797654035,
          0.5303310394818989,
          0.5345663562482866,
          0.5388203057579358,
          0.5430947219407648,
          0.5473896047967735,
          0.5517049543259618,
          0.5560407705283298,
          0.5603970534038777,
          0.5647738029526053,
          0.5691710191745124,
          0.5735887020695994,
          0.5780268516378662,
          0.5824854678793127,
          0.5869645507939388,
          0.5914619251368225,
          0.595978164954776,
          0.6005143584468791,
          0.6050705056131319,
          0.6096466064535345,
          0.614242660968087,
          0.6188586691567891,
          0.623494631019641,
          0.6281505465566425,
          0.6328264157677939,
          0.637522238653095,
          0.6422380152125456,
          0.6469730014433277,
          0.6517250248890879,
          0.6564964742432587,
          0.6612873495058401,
          0.666097650676832,
          0.6709273777562346,
          0.6757765307440478,
          0.6806451096402715,
          0.6855331144449059,
          0.690440545157951,
          0.6953674017794066,
          0.7003136843092728,
          0.7052793927475495,
          0.7102602898713893,
          0.7152587438822797,
          0.7202757286022724,
          0.7253112279482784,
          0.7303652258372083,
          0.7354377061859729,
          0.740528652911483,
          0.7456380499306491,
          0.7507658811603821,
          0.755912130517593,
          0.761076781919192,
          0.7662598192820906
         ]
        },
        {
         "hovertemplate": "<b>Measurement </b><br>ID: 170<br>Time: %{x:} day<br>Tumour volume: %{y:.02f} cm^3<br>Cancer type: LXF A677<br><extra></extra>",
         "legendgroup": "ID: 170",
         "marker": {
          "color": "#B6E880",
          "line": {
           "color": "black",
           "width": 1
          },
          "opacity": 0.7,
          "symbol": "circle"
         },
         "mode": "markers",
         "name": "ID: 170",
         "showlegend": true,
         "type": "scatter",
         "x": [
          0,
          2,
          4,
          7,
          9,
          11,
          14,
          16,
          18,
          21,
          23,
          25,
          28,
          30
         ],
         "y": [
          0.0800565,
          0.094221,
          0.10933,
          0.158994,
          0.17615699999999998,
          0.19407850000000001,
          0.2041605,
          0.246402,
          0.3050865,
          0.3683265,
          0.41817600000000005,
          0.4396155,
          0.5661554999999999,
          0.6206265000000001
         ]
        },
        {
         "hovertemplate": "<b>Simulation </b><br>ID: 170<br>Time: %{x:.0f} day<br>Tumour volume: %{y:.02f} cm^3<br>Cancer type: LXF A677<br><br><b>Parameter estimates </b><br>Initial tumour volume: 0.09 cm^3<br>Expon. growth rate: 0.04 1/day<br>Lin. growth rate: 0.20 cm^3/day<br><extra></extra>",
         "legendgroup": "ID: 170",
         "line": {
          "color": "#B6E880"
         },
         "mode": "lines",
         "name": "ID: 170",
         "showlegend": false,
         "type": "scatter",
         "x": [
          0,
          0.1507537688442211,
          0.3015075376884422,
          0.4522613065326633,
          0.6030150753768844,
          0.7537688442211055,
          0.9045226130653266,
          1.0552763819095476,
          1.2060301507537687,
          1.3567839195979898,
          1.507537688442211,
          1.658291457286432,
          1.809045226130653,
          1.9597989949748742,
          2.1105527638190953,
          2.2613065326633164,
          2.4120603015075375,
          2.5628140703517586,
          2.7135678391959797,
          2.8643216080402008,
          3.015075376884422,
          3.165829145728643,
          3.316582914572864,
          3.467336683417085,
          3.618090452261306,
          3.7688442211055273,
          3.9195979899497484,
          4.0703517587939695,
          4.221105527638191,
          4.371859296482412,
          4.522613065326633,
          4.673366834170854,
          4.824120603015075,
          4.974874371859296,
          5.125628140703517,
          5.276381909547738,
          5.427135678391959,
          5.57788944723618,
          5.7286432160804015,
          5.879396984924623,
          6.030150753768844,
          6.180904522613065,
          6.331658291457286,
          6.482412060301507,
          6.633165829145728,
          6.783919597989949,
          6.93467336683417,
          7.085427135678391,
          7.236180904522612,
          7.3869346733668335,
          7.537688442211055,
          7.688442211055276,
          7.839195979899497,
          7.989949748743718,
          8.140703517587939,
          8.29145728643216,
          8.442211055276381,
          8.592964824120603,
          8.743718592964823,
          8.894472361809044,
          9.045226130653266,
          9.195979899497488,
          9.346733668341708,
          9.497487437185928,
          9.64824120603015,
          9.798994974874372,
          9.949748743718592,
          10.100502512562812,
          10.251256281407034,
          10.402010050251256,
          10.552763819095476,
          10.703517587939697,
          10.854271356783919,
          11.00502512562814,
          11.15577889447236,
          11.306532663316581,
          11.457286432160803,
          11.608040201005025,
          11.758793969849245,
          11.909547738693465,
          12.060301507537687,
          12.21105527638191,
          12.36180904522613,
          12.51256281407035,
          12.663316582914572,
          12.814070351758794,
          12.964824120603014,
          13.115577889447234,
          13.266331658291456,
          13.417085427135678,
          13.567839195979898,
          13.718592964824118,
          13.86934673366834,
          14.020100502512562,
          14.170854271356783,
          14.321608040201003,
          14.472361809045225,
          14.623115577889447,
          14.773869346733667,
          14.924623115577887,
          15.07537688442211,
          15.226130653266331,
          15.376884422110551,
          15.527638190954772,
          15.678391959798994,
          15.829145728643216,
          15.979899497487436,
          16.130653266331656,
          16.281407035175878,
          16.4321608040201,
          16.58291457286432,
          16.73366834170854,
          16.884422110552762,
          17.035175879396984,
          17.185929648241206,
          17.336683417085425,
          17.487437185929647,
          17.63819095477387,
          17.788944723618087,
          17.93969849246231,
          18.09045226130653,
          18.241206030150753,
          18.391959798994975,
          18.542713567839193,
          18.693467336683415,
          18.844221105527637,
          18.994974874371856,
          19.145728643216078,
          19.2964824120603,
          19.44723618090452,
          19.597989949748744,
          19.748743718592962,
          19.899497487437184,
          20.050251256281406,
          20.201005025125625,
          20.351758793969847,
          20.50251256281407,
          20.65326633165829,
          20.804020100502512,
          20.95477386934673,
          21.105527638190953,
          21.256281407035175,
          21.407035175879393,
          21.557788944723615,
          21.708542713567837,
          21.85929648241206,
          22.01005025125628,
          22.1608040201005,
          22.31155778894472,
          22.462311557788944,
          22.613065326633162,
          22.763819095477384,
          22.914572864321606,
          23.065326633165828,
          23.21608040201005,
          23.36683417085427,
          23.51758793969849,
          23.668341708542712,
          23.81909547738693,
          23.969849246231153,
          24.120603015075375,
          24.271356783919597,
          24.42211055276382,
          24.572864321608037,
          24.72361809045226,
          24.87437185929648,
          25.0251256281407,
          25.17587939698492,
          25.326633165829143,
          25.477386934673365,
          25.628140703517587,
          25.778894472361806,
          25.929648241206028,
          26.08040201005025,
          26.23115577889447,
          26.38190954773869,
          26.532663316582912,
          26.683417085427134,
          26.834170854271356,
          26.984924623115575,
          27.135678391959797,
          27.28643216080402,
          27.437185929648237,
          27.58793969849246,
          27.73869346733668,
          27.889447236180903,
          28.040201005025125,
          28.190954773869343,
          28.341708542713565,
          28.492462311557787,
          28.643216080402006,
          28.793969849246228,
          28.94472361809045,
          29.09547738693467,
          29.246231155778894,
          29.396984924623112,
          29.547738693467334,
          29.698492462311556,
          29.849246231155774,
          30
         ],
         "y": [
          0.08718954235496362,
          0.08811678089542728,
          0.08905275371674808,
          0.08999671000350977,
          0.09094991075087071,
          0.09191210228232406,
          0.09288398489344313,
          0.09386590945154087,
          0.0948577509761083,
          0.09585964168190837,
          0.0968718307072255,
          0.09789417845939456,
          0.09892714278744201,
          0.09997060052455382,
          0.10102459896938883,
          0.10208918542060583,
          0.1031646747279069,
          0.10425106782427458,
          0.10534842716434678,
          0.10645683925157237,
          0.10757648329772691,
          0.10870745757493898,
          0.10984984333814424,
          0.11100374394302119,
          0.11216931015721401,
          0.11334665929787395,
          0.11453587407529378,
          0.11573706066849887,
          0.11695032525651458,
          0.11817577401836625,
          0.11941351313307927,
          0.12066364877967897,
          0.12192651897301165,
          0.12320208739875362,
          0.1244904446943836,
          0.12579170058796815,
          0.1271059648075738,
          0.12843334708126714,
          0.12977395713711462,
          0.13112790470318286,
          0.1324952995075384,
          0.13387625127824776,
          0.1352708697433775,
          0.13667926463099414,
          0.13810157866149333,
          0.13953842464643137,
          0.14098950294475868,
          0.1424549323914976,
          0.14393483182167044,
          0.14542932007029957,
          0.14693851597240726,
          0.14846253836301587,
          0.15000150607714774,
          0.15155553794982515,
          0.1531247528160705,
          0.15470926951090602,
          0.1563092068693541,
          0.15792481687281734,
          0.15955665222009766,
          0.16120441732322735,
          0.16286824186567922,
          0.16454825553092603,
          0.16624458800244057,
          0.16795736896369562,
          0.16968672809816399,
          0.17143279508931844,
          0.17319569962063175,
          0.1749755713755767,
          0.1767725400376261,
          0.17858673529025273,
          0.18041852062168146,
          0.18226829186407212,
          0.18413583535081576,
          0.1860212917802113,
          0.18792480185055754,
          0.18984650626015345,
          0.19178654570729797,
          0.19374506089028995,
          0.19572219250742828,
          0.19771808125701187,
          0.19973286783733968,
          0.20176669294671054,
          0.20381969728342336,
          0.20589260356853933,
          0.2079856924461492,
          0.21009864377106446,
          0.21223161366561644,
          0.21438475793395292,
          0.2165582320620384,
          0.2187521912176537,
          0.2209667902503964,
          0.22320218369168054,
          0.22545852575473674,
          0.22773597033461218,
          0.23003467100817052,
          0.23235478103409207,
          0.2346964533528737,
          0.23705984058682877,
          0.23944509504008715,
          0.24185236869859544,
          0.24428181323011663,
          0.24673357998423037,
          0.2492078199923327,
          0.2517046839676365,
          0.25422432230517095,
          0.25676688508178186,
          0.2593325220561316,
          0.26192138266869913,
          0.26453361604178,
          0.2671693709794861,
          0.2698287959677461,
          0.2725120391743053,
          0.27522052456198975,
          0.2779537351961706,
          0.28071151536500255,
          0.2834940369219871,
          0.28630147227322583,
          0.2891339943774199,
          0.29199177674587007,
          0.2948749934424774,
          0.2977838190837424,
          0.3007184288387655,
          0.30367899842924684,
          0.3066657041294864,
          0.3096787227663841,
          0.31271823171943947,
          0.3157844089207518,
          0.31887743285502057,
          0.32199748255954463,
          0.32514473762422286,
          0.3283193781915538,
          0.33152162707939675,
          0.33475183324981933,
          0.3380100142831087,
          0.3412963561889999,
          0.34461104565018347,
          0.34795427002230533,
          0.35132621733396663,
          0.354727076286724,
          0.3581570362550893,
          0.36161628728653017,
          0.3651050201014691,
          0.36862342609328425,
          0.3721716973283092,
          0.3757500265458328,
          0.3793586071580992,
          0.38299763325030817,
          0.3866672995806145,
          0.3903678015801288,
          0.39409933535291675,
          0.39786209767599934,
          0.4016558907908314,
          0.40548093376307237,
          0.40933766486055556,
          0.41322627294479847,
          0.41714694721336004,
          0.4210998771998414,
          0.425085252773885,
          0.42910326414117517,
          0.43315410184343806,
          0.4372379567584415,
          0.44135502009999494,
          0.4455054834179496,
          0.44968953859819843,
          0.4539073778626764,
          0.4581591937693597,
          0.4624451792122666,
          0.46676552742145705,
          0.4711204319630327,
          0.47551008673913686,
          0.4799346859879547,
          0.48439357075006617,
          0.48888762649599615,
          0.49341703965387557,
          0.49798199253206205,
          0.5025826673586888,
          0.5072192462816644,
          0.5118919113686724,
          0.516600844607172,
          0.5213462279043978,
          0.5261282430873596,
          0.5309470719028428,
          0.5358028960174078,
          0.5406958970173906,
          0.5456262564089027,
          0.5505941556178304,
          0.5555997759898361,
          0.5606432987903568,
          0.5657249052046055,
          0.5708447763375702,
          0.5760020607316493,
          0.581196202099219,
          0.5864288366850615,
          0.5917001385993782,
          0.5970102819523704,
          0.602359440854239,
          0.6077477894151859,
          0.613175501745412,
          0.6186427519551186,
          0.6241497141545074
         ]
        }
       ],
       "layout": {
        "autosize": true,
        "template": {
         "data": {
          "bar": [
           {
            "error_x": {
             "color": "#2a3f5f"
            },
            "error_y": {
             "color": "#2a3f5f"
            },
            "marker": {
             "line": {
              "color": "white",
              "width": 0.5
             }
            },
            "type": "bar"
           }
          ],
          "barpolar": [
           {
            "marker": {
             "line": {
              "color": "white",
              "width": 0.5
             }
            },
            "type": "barpolar"
           }
          ],
          "carpet": [
           {
            "aaxis": {
             "endlinecolor": "#2a3f5f",
             "gridcolor": "#C8D4E3",
             "linecolor": "#C8D4E3",
             "minorgridcolor": "#C8D4E3",
             "startlinecolor": "#2a3f5f"
            },
            "baxis": {
             "endlinecolor": "#2a3f5f",
             "gridcolor": "#C8D4E3",
             "linecolor": "#C8D4E3",
             "minorgridcolor": "#C8D4E3",
             "startlinecolor": "#2a3f5f"
            },
            "type": "carpet"
           }
          ],
          "choropleth": [
           {
            "colorbar": {
             "outlinewidth": 0,
             "ticks": ""
            },
            "type": "choropleth"
           }
          ],
          "contour": [
           {
            "colorbar": {
             "outlinewidth": 0,
             "ticks": ""
            },
            "colorscale": [
             [
              0,
              "#0d0887"
             ],
             [
              0.1111111111111111,
              "#46039f"
             ],
             [
              0.2222222222222222,
              "#7201a8"
             ],
             [
              0.3333333333333333,
              "#9c179e"
             ],
             [
              0.4444444444444444,
              "#bd3786"
             ],
             [
              0.5555555555555556,
              "#d8576b"
             ],
             [
              0.6666666666666666,
              "#ed7953"
             ],
             [
              0.7777777777777778,
              "#fb9f3a"
             ],
             [
              0.8888888888888888,
              "#fdca26"
             ],
             [
              1,
              "#f0f921"
             ]
            ],
            "type": "contour"
           }
          ],
          "contourcarpet": [
           {
            "colorbar": {
             "outlinewidth": 0,
             "ticks": ""
            },
            "type": "contourcarpet"
           }
          ],
          "heatmap": [
           {
            "colorbar": {
             "outlinewidth": 0,
             "ticks": ""
            },
            "colorscale": [
             [
              0,
              "#0d0887"
             ],
             [
              0.1111111111111111,
              "#46039f"
             ],
             [
              0.2222222222222222,
              "#7201a8"
             ],
             [
              0.3333333333333333,
              "#9c179e"
             ],
             [
              0.4444444444444444,
              "#bd3786"
             ],
             [
              0.5555555555555556,
              "#d8576b"
             ],
             [
              0.6666666666666666,
              "#ed7953"
             ],
             [
              0.7777777777777778,
              "#fb9f3a"
             ],
             [
              0.8888888888888888,
              "#fdca26"
             ],
             [
              1,
              "#f0f921"
             ]
            ],
            "type": "heatmap"
           }
          ],
          "heatmapgl": [
           {
            "colorbar": {
             "outlinewidth": 0,
             "ticks": ""
            },
            "colorscale": [
             [
              0,
              "#0d0887"
             ],
             [
              0.1111111111111111,
              "#46039f"
             ],
             [
              0.2222222222222222,
              "#7201a8"
             ],
             [
              0.3333333333333333,
              "#9c179e"
             ],
             [
              0.4444444444444444,
              "#bd3786"
             ],
             [
              0.5555555555555556,
              "#d8576b"
             ],
             [
              0.6666666666666666,
              "#ed7953"
             ],
             [
              0.7777777777777778,
              "#fb9f3a"
             ],
             [
              0.8888888888888888,
              "#fdca26"
             ],
             [
              1,
              "#f0f921"
             ]
            ],
            "type": "heatmapgl"
           }
          ],
          "histogram": [
           {
            "marker": {
             "colorbar": {
              "outlinewidth": 0,
              "ticks": ""
             }
            },
            "type": "histogram"
           }
          ],
          "histogram2d": [
           {
            "colorbar": {
             "outlinewidth": 0,
             "ticks": ""
            },
            "colorscale": [
             [
              0,
              "#0d0887"
             ],
             [
              0.1111111111111111,
              "#46039f"
             ],
             [
              0.2222222222222222,
              "#7201a8"
             ],
             [
              0.3333333333333333,
              "#9c179e"
             ],
             [
              0.4444444444444444,
              "#bd3786"
             ],
             [
              0.5555555555555556,
              "#d8576b"
             ],
             [
              0.6666666666666666,
              "#ed7953"
             ],
             [
              0.7777777777777778,
              "#fb9f3a"
             ],
             [
              0.8888888888888888,
              "#fdca26"
             ],
             [
              1,
              "#f0f921"
             ]
            ],
            "type": "histogram2d"
           }
          ],
          "histogram2dcontour": [
           {
            "colorbar": {
             "outlinewidth": 0,
             "ticks": ""
            },
            "colorscale": [
             [
              0,
              "#0d0887"
             ],
             [
              0.1111111111111111,
              "#46039f"
             ],
             [
              0.2222222222222222,
              "#7201a8"
             ],
             [
              0.3333333333333333,
              "#9c179e"
             ],
             [
              0.4444444444444444,
              "#bd3786"
             ],
             [
              0.5555555555555556,
              "#d8576b"
             ],
             [
              0.6666666666666666,
              "#ed7953"
             ],
             [
              0.7777777777777778,
              "#fb9f3a"
             ],
             [
              0.8888888888888888,
              "#fdca26"
             ],
             [
              1,
              "#f0f921"
             ]
            ],
            "type": "histogram2dcontour"
           }
          ],
          "mesh3d": [
           {
            "colorbar": {
             "outlinewidth": 0,
             "ticks": ""
            },
            "type": "mesh3d"
           }
          ],
          "parcoords": [
           {
            "line": {
             "colorbar": {
              "outlinewidth": 0,
              "ticks": ""
             }
            },
            "type": "parcoords"
           }
          ],
          "pie": [
           {
            "automargin": true,
            "type": "pie"
           }
          ],
          "scatter": [
           {
            "marker": {
             "colorbar": {
              "outlinewidth": 0,
              "ticks": ""
             }
            },
            "type": "scatter"
           }
          ],
          "scatter3d": [
           {
            "line": {
             "colorbar": {
              "outlinewidth": 0,
              "ticks": ""
             }
            },
            "marker": {
             "colorbar": {
              "outlinewidth": 0,
              "ticks": ""
             }
            },
            "type": "scatter3d"
           }
          ],
          "scattercarpet": [
           {
            "marker": {
             "colorbar": {
              "outlinewidth": 0,
              "ticks": ""
             }
            },
            "type": "scattercarpet"
           }
          ],
          "scattergeo": [
           {
            "marker": {
             "colorbar": {
              "outlinewidth": 0,
              "ticks": ""
             }
            },
            "type": "scattergeo"
           }
          ],
          "scattergl": [
           {
            "marker": {
             "colorbar": {
              "outlinewidth": 0,
              "ticks": ""
             }
            },
            "type": "scattergl"
           }
          ],
          "scattermapbox": [
           {
            "marker": {
             "colorbar": {
              "outlinewidth": 0,
              "ticks": ""
             }
            },
            "type": "scattermapbox"
           }
          ],
          "scatterpolar": [
           {
            "marker": {
             "colorbar": {
              "outlinewidth": 0,
              "ticks": ""
             }
            },
            "type": "scatterpolar"
           }
          ],
          "scatterpolargl": [
           {
            "marker": {
             "colorbar": {
              "outlinewidth": 0,
              "ticks": ""
             }
            },
            "type": "scatterpolargl"
           }
          ],
          "scatterternary": [
           {
            "marker": {
             "colorbar": {
              "outlinewidth": 0,
              "ticks": ""
             }
            },
            "type": "scatterternary"
           }
          ],
          "surface": [
           {
            "colorbar": {
             "outlinewidth": 0,
             "ticks": ""
            },
            "colorscale": [
             [
              0,
              "#0d0887"
             ],
             [
              0.1111111111111111,
              "#46039f"
             ],
             [
              0.2222222222222222,
              "#7201a8"
             ],
             [
              0.3333333333333333,
              "#9c179e"
             ],
             [
              0.4444444444444444,
              "#bd3786"
             ],
             [
              0.5555555555555556,
              "#d8576b"
             ],
             [
              0.6666666666666666,
              "#ed7953"
             ],
             [
              0.7777777777777778,
              "#fb9f3a"
             ],
             [
              0.8888888888888888,
              "#fdca26"
             ],
             [
              1,
              "#f0f921"
             ]
            ],
            "type": "surface"
           }
          ],
          "table": [
           {
            "cells": {
             "fill": {
              "color": "#EBF0F8"
             },
             "line": {
              "color": "white"
             }
            },
            "header": {
             "fill": {
              "color": "#C8D4E3"
             },
             "line": {
              "color": "white"
             }
            },
            "type": "table"
           }
          ]
         },
         "layout": {
          "annotationdefaults": {
           "arrowcolor": "#2a3f5f",
           "arrowhead": 0,
           "arrowwidth": 1
          },
          "coloraxis": {
           "colorbar": {
            "outlinewidth": 0,
            "ticks": ""
           }
          },
          "colorscale": {
           "diverging": [
            [
             0,
             "#8e0152"
            ],
            [
             0.1,
             "#c51b7d"
            ],
            [
             0.2,
             "#de77ae"
            ],
            [
             0.3,
             "#f1b6da"
            ],
            [
             0.4,
             "#fde0ef"
            ],
            [
             0.5,
             "#f7f7f7"
            ],
            [
             0.6,
             "#e6f5d0"
            ],
            [
             0.7,
             "#b8e186"
            ],
            [
             0.8,
             "#7fbc41"
            ],
            [
             0.9,
             "#4d9221"
            ],
            [
             1,
             "#276419"
            ]
           ],
           "sequential": [
            [
             0,
             "#0d0887"
            ],
            [
             0.1111111111111111,
             "#46039f"
            ],
            [
             0.2222222222222222,
             "#7201a8"
            ],
            [
             0.3333333333333333,
             "#9c179e"
            ],
            [
             0.4444444444444444,
             "#bd3786"
            ],
            [
             0.5555555555555556,
             "#d8576b"
            ],
            [
             0.6666666666666666,
             "#ed7953"
            ],
            [
             0.7777777777777778,
             "#fb9f3a"
            ],
            [
             0.8888888888888888,
             "#fdca26"
            ],
            [
             1,
             "#f0f921"
            ]
           ],
           "sequentialminus": [
            [
             0,
             "#0d0887"
            ],
            [
             0.1111111111111111,
             "#46039f"
            ],
            [
             0.2222222222222222,
             "#7201a8"
            ],
            [
             0.3333333333333333,
             "#9c179e"
            ],
            [
             0.4444444444444444,
             "#bd3786"
            ],
            [
             0.5555555555555556,
             "#d8576b"
            ],
            [
             0.6666666666666666,
             "#ed7953"
            ],
            [
             0.7777777777777778,
             "#fb9f3a"
            ],
            [
             0.8888888888888888,
             "#fdca26"
            ],
            [
             1,
             "#f0f921"
            ]
           ]
          },
          "colorway": [
           "#636efa",
           "#EF553B",
           "#00cc96",
           "#ab63fa",
           "#FFA15A",
           "#19d3f3",
           "#FF6692",
           "#B6E880",
           "#FF97FF",
           "#FECB52"
          ],
          "font": {
           "color": "#2a3f5f"
          },
          "geo": {
           "bgcolor": "white",
           "lakecolor": "white",
           "landcolor": "white",
           "showlakes": true,
           "showland": true,
           "subunitcolor": "#C8D4E3"
          },
          "hoverlabel": {
           "align": "left"
          },
          "hovermode": "closest",
          "mapbox": {
           "style": "light"
          },
          "paper_bgcolor": "white",
          "plot_bgcolor": "white",
          "polar": {
           "angularaxis": {
            "gridcolor": "#EBF0F8",
            "linecolor": "#EBF0F8",
            "ticks": ""
           },
           "bgcolor": "white",
           "radialaxis": {
            "gridcolor": "#EBF0F8",
            "linecolor": "#EBF0F8",
            "ticks": ""
           }
          },
          "scene": {
           "xaxis": {
            "backgroundcolor": "white",
            "gridcolor": "#DFE8F3",
            "gridwidth": 2,
            "linecolor": "#EBF0F8",
            "showbackground": true,
            "ticks": "",
            "zerolinecolor": "#EBF0F8"
           },
           "yaxis": {
            "backgroundcolor": "white",
            "gridcolor": "#DFE8F3",
            "gridwidth": 2,
            "linecolor": "#EBF0F8",
            "showbackground": true,
            "ticks": "",
            "zerolinecolor": "#EBF0F8"
           },
           "zaxis": {
            "backgroundcolor": "white",
            "gridcolor": "#DFE8F3",
            "gridwidth": 2,
            "linecolor": "#EBF0F8",
            "showbackground": true,
            "ticks": "",
            "zerolinecolor": "#EBF0F8"
           }
          },
          "shapedefaults": {
           "line": {
            "color": "#2a3f5f"
           }
          },
          "ternary": {
           "aaxis": {
            "gridcolor": "#DFE8F3",
            "linecolor": "#A2B1C6",
            "ticks": ""
           },
           "baxis": {
            "gridcolor": "#DFE8F3",
            "linecolor": "#A2B1C6",
            "ticks": ""
           },
           "bgcolor": "white",
           "caxis": {
            "gridcolor": "#DFE8F3",
            "linecolor": "#A2B1C6",
            "ticks": ""
           }
          },
          "title": {
           "x": 0.05
          },
          "xaxis": {
           "automargin": true,
           "gridcolor": "#EBF0F8",
           "linecolor": "#EBF0F8",
           "ticks": "",
           "title": {
            "standoff": 15
           },
           "zerolinecolor": "#EBF0F8",
           "zerolinewidth": 2
          },
          "yaxis": {
           "automargin": true,
           "gridcolor": "#EBF0F8",
           "linecolor": "#EBF0F8",
           "ticks": "",
           "title": {
            "standoff": 15
           },
           "zerolinecolor": "#EBF0F8",
           "zerolinewidth": 2
          }
         }
        },
        "updatemenus": [
         {
          "buttons": [
           {
            "args": [
             {
              "yaxis.type": "linear"
             }
            ],
            "label": "Linear y-scale",
            "method": "relayout"
           },
           {
            "args": [
             {
              "yaxis.type": "log"
             }
            ],
            "label": "Log y-scale",
            "method": "relayout"
           }
          ],
          "direction": "left",
          "pad": {
           "r": 0,
           "t": -10
          },
          "showactive": true,
          "type": "buttons",
          "x": 0,
          "xanchor": "left",
          "y": 1.15,
          "yanchor": "top"
         }
        ],
        "xaxis": {
         "title": {
          "text": "$\\text{Time in day}$"
         }
        },
        "yaxis": {
         "title": {
          "text": "$\\text{Tumour volume in cm}^3$"
         }
        }
       }
      }
     },
     "metadata": {}
    }
   ],
   "source": [
    "#\n",
    "# Visualise simulated tumour growth together with control growth data.\n",
    "#\n",
    "# This cell needs the optimised model parameters, the simulated tumour growth and the control growth data:\n",
    "# [mouse_parameters, times, tumour_growth, data]\n",
    "#\n",
    "\n",
    "import pandas as pd\n",
    "import plotly.colors\n",
    "import plotly.graph_objects as go\n",
    "\n",
    "\n",
    "# Get number of individual mice\n",
    "n_mice = len(tumour_growth)\n",
    "\n",
    "# Define colorscheme\n",
    "colors = plotly.colors.qualitative.Plotly[:n_mice]\n",
    "\n",
    "# Create figure\n",
    "fig = go.Figure()\n",
    "\n",
    "# Scatter plot LXF A677 time-series data for each mouse\n",
    "mouse_ids = data['#ID'].unique()\n",
    "for index, id_m in enumerate(mouse_ids):\n",
    "    # Create mask for mouse\n",
    "    mask = data['#ID'] == id_m\n",
    "\n",
    "    # Get time points for mouse\n",
    "    observed_times = data['TIME in day'][mask]\n",
    "\n",
    "    # Get observed tumour volumes for mouse\n",
    "    observed_volumes = data['TUMOUR VOLUME in cm^3'][mask]\n",
    "\n",
    "    # Get simulated tumour volumes for mouse\n",
    "    simulated_volumes = tumour_growth[index, :]\n",
    "\n",
    "    # Get mouse parameters\n",
    "    params = mouse_parameters[index, :]\n",
    "\n",
    "    # Plot data\n",
    "    fig.add_trace(go.Scatter(\n",
    "        x=observed_times,\n",
    "        y=observed_volumes,\n",
    "        legendgroup=\"ID: %d\" % id_m,\n",
    "        name=\"ID: %d\" % id_m,\n",
    "        showlegend=True,\n",
    "        hovertemplate=\n",
    "            \"<b>Measurement </b><br>\" +\n",
    "            \"ID: %d<br>\" % id_m +\n",
    "            \"Time: %{x:} day<br>\" +\n",
    "            \"Tumour volume: %{y:.02f} cm^3<br>\" +\n",
    "            \"Cancer type: LXF A677<br>\" +\n",
    "            \"<extra></extra>\",\n",
    "        mode=\"markers\",\n",
    "        marker=dict(\n",
    "            symbol='circle',\n",
    "            opacity=0.7,\n",
    "            line=dict(color='black', width=1),\n",
    "            color=colors[index])\n",
    "    ))\n",
    "\n",
    "    # Plot simulated growth\n",
    "    fig.add_trace(go.Scatter(\n",
    "        x=times,\n",
    "        y=simulated_volumes,\n",
    "        legendgroup=\"ID: %d\" % id_m,\n",
    "        name=\"ID: %d\" % id_m,\n",
    "        showlegend=False,\n",
    "        hovertemplate=\n",
    "            \"<b>Simulation </b><br>\" +\n",
    "            \"ID: %d<br>\" % id_m +\n",
    "            \"Time: %{x:.0f} day<br>\" +\n",
    "            \"Tumour volume: %{y:.02f} cm^3<br>\" +\n",
    "            \"Cancer type: LXF A677<br>\" +\n",
    "            \"<br>\" +\n",
    "            \"<b>Parameter estimates </b><br>\" +\n",
    "            \"Initial tumour volume: %.02f cm^3<br>\" % params[0] +\n",
    "            \"Expon. growth rate: %.02f 1/day<br>\" % params[1] +\n",
    "            \"Lin. growth rate: %.02f cm^3/day<br>\" % params[2] +\n",
    "            \"<extra></extra>\",\n",
    "        mode=\"lines\",\n",
    "        line=dict(color=colors[index])\n",
    "    ))\n",
    "\n",
    "# Set X, Y axis and figure size\n",
    "fig.update_layout(\n",
    "    autosize=True,\n",
    "    xaxis_title=r'$\\text{Time in day}$',\n",
    "    yaxis_title=r'$\\text{Tumour volume in cm}^3$',\n",
    "    template=\"plotly_white\")\n",
    "\n",
    "# Add switch between linear and log y-scale\n",
    "fig.update_layout(\n",
    "    updatemenus=[\n",
    "        dict(\n",
    "            type = \"buttons\",\n",
    "            direction = \"left\",\n",
    "            buttons=list([\n",
    "                dict(\n",
    "                    args=[{\"yaxis.type\": \"linear\"}],\n",
    "                    label=\"Linear y-scale\",\n",
    "                    method=\"relayout\"\n",
    "                ),\n",
    "                dict(\n",
    "                    args=[{\"yaxis.type\": \"log\"}],\n",
    "                    label=\"Log y-scale\",\n",
    "                    method=\"relayout\"\n",
    "                )\n",
    "            ]),\n",
    "            pad={\"r\": 0, \"t\": -10},\n",
    "            showactive=True,\n",
    "            x=0.0,\n",
    "            xanchor=\"left\",\n",
    "            y=1.15,\n",
    "            yanchor=\"top\"\n",
    "        ),\n",
    "    ]\n",
    ")\n",
    "\n",
    "# Show figure\n",
    "fig.show()"
   ]
  },
  {
   "cell_type": "markdown",
   "metadata": {},
   "source": [
    "**Figure 2 - Naïve fits:** Naïve optimisation of the structural model starting from an initial point $\\psi _0=(1, 1, 1)$ in parameter space for each mouse. We used the CMA-ES optimiser to minimise the squared distance between the model predictions and the observations."
   ]
  },
  {
   "cell_type": "markdown",
   "metadata": {},
   "source": [
    "## Stability of optimisation\n",
    "\n",
    "Minimising the squared distance between the structural model predictions and the observations using the CMA-ES optimiser results in more or less(!) good fits of the data. In particular, each fit corresponds to a mouse-specific set of model parameters $\\hat \\psi$, which in theory globally minimise the associated objective function $L$. But how can we be sure that those estimates $\\hat \\psi$ truly minimise the objective function?\n",
    "\n",
    "While a numerical method will never be able to globally explore a continuous space of model parameter, we can check that the optimisation at least realiably returns the same set of model parameters for each mouse. In other words, are the $\\hat \\psi $ consistent across multiple optimisation runs. If all runs return the same parameters for a mouse, we can be more confident that the parameter estimates (in combination with the proposed model) do capture its biology (assuming that there are no systematic problems with the objective function or the optimiser). \n",
    "\n",
    "To test the stability of the CMA-ES optimiser, we choose different starting points for a number of optimisations (uniform in $[10^{-3}, 10^3]$ for each parameter). Ideally we would like to see that each optimisation returns very similar model parameters for a mouse. This would give us confidence to interpret those model parameters in a biological context."
   ]
  },
  {
   "cell_type": "code",
   "execution_count": 3,
   "metadata": {
    "tags": []
   },
   "outputs": [
    {
     "output_type": "display_data",
     "data": {
      "text/plain": "HBox(children=(FloatProgress(value=0.0, max=10.0), HTML(value='')))",
      "application/vnd.jupyter.widget-view+json": {
       "version_major": 2,
       "version_minor": 0,
       "model_id": "7fc60032a8384127b583b6d3c8cb9756"
      }
     },
     "metadata": {}
    },
    {
     "output_type": "stream",
     "name": "stdout",
     "text": "\n"
    },
    {
     "output_type": "display_data",
     "data": {
      "text/plain": "HBox(children=(FloatProgress(value=0.0, max=10.0), HTML(value='')))",
      "application/vnd.jupyter.widget-view+json": {
       "version_major": 2,
       "version_minor": 0,
       "model_id": "fe30faff9a2448bdbad1d937299df902"
      }
     },
     "metadata": {}
    },
    {
     "output_type": "stream",
     "name": "stdout",
     "text": "\n"
    },
    {
     "output_type": "display_data",
     "data": {
      "text/plain": "HBox(children=(FloatProgress(value=0.0, max=10.0), HTML(value='')))",
      "application/vnd.jupyter.widget-view+json": {
       "version_major": 2,
       "version_minor": 0,
       "model_id": "71617f2895ae4270b942a67c302417da"
      }
     },
     "metadata": {}
    },
    {
     "output_type": "stream",
     "name": "stdout",
     "text": "\n----------------------------------------\nUnexpected termination.\nCurrent best score: 355.8225057866121\nCurrent best position:\n 5.77505038035620366e+00\n 2.37741144625073872e+02\n 1.06447912564149871e-01\n----------------------------------------\n\n"
    },
    {
     "output_type": "display_data",
     "data": {
      "text/plain": "HBox(children=(FloatProgress(value=0.0, max=10.0), HTML(value='')))",
      "application/vnd.jupyter.widget-view+json": {
       "version_major": 2,
       "version_minor": 0,
       "model_id": "2182eb74c77f4b0a9d9169d89e21003e"
      }
     },
     "metadata": {}
    },
    {
     "output_type": "stream",
     "name": "stdout",
     "text": "\n"
    },
    {
     "output_type": "display_data",
     "data": {
      "text/plain": "HBox(children=(FloatProgress(value=0.0, max=10.0), HTML(value='')))",
      "application/vnd.jupyter.widget-view+json": {
       "version_major": 2,
       "version_minor": 0,
       "model_id": "77ee1f74c1e941f6bf212a0f618fa5fc"
      }
     },
     "metadata": {}
    },
    {
     "output_type": "stream",
     "name": "stdout",
     "text": "\n----------------------------------------\nUnexpected termination.\nCurrent best score: 1.1143903892920437\nCurrent best position:\n-1.98193859211602985e-01\n 6.85203818703210459e+02\n 6.01382961286088605e-02\n----------------------------------------\n\n----------------------------------------\nUnexpected termination.\nCurrent best score: 1.1204039287515835\nCurrent best position:\n-1.83690385962424457e-01\n 1.15435668722883790e+02\n 5.87309614935655616e-02\n----------------------------------------\n\n"
    },
    {
     "output_type": "display_data",
     "data": {
      "text/plain": "HBox(children=(FloatProgress(value=0.0, max=10.0), HTML(value='')))",
      "application/vnd.jupyter.widget-view+json": {
       "version_major": 2,
       "version_minor": 0,
       "model_id": "3c867e99c1e64cf398e1a9185212400c"
      }
     },
     "metadata": {}
    },
    {
     "output_type": "stream",
     "name": "stdout",
     "text": "\n"
    },
    {
     "output_type": "display_data",
     "data": {
      "text/plain": "HBox(children=(FloatProgress(value=0.0, max=10.0), HTML(value='')))",
      "application/vnd.jupyter.widget-view+json": {
       "version_major": 2,
       "version_minor": 0,
       "model_id": "2be3c01c307a4567bc9139a367b6c36d"
      }
     },
     "metadata": {}
    },
    {
     "output_type": "stream",
     "name": "stdout",
     "text": "\n----------------------------------------\nUnexpected termination.\nCurrent best score: 6567.761433282033\nCurrent best position:\n 8.11486075169024161e+01\n-2.44603126403854219e+02\n-2.37478826592146220e+02\n----------------------------------------\n\n"
    },
    {
     "output_type": "display_data",
     "data": {
      "text/plain": "HBox(children=(FloatProgress(value=0.0, max=10.0), HTML(value='')))",
      "application/vnd.jupyter.widget-view+json": {
       "version_major": 2,
       "version_minor": 0,
       "model_id": "e3c3dc02725349338e1b402111adab7d"
      }
     },
     "metadata": {}
    },
    {
     "output_type": "stream",
     "name": "stdout",
     "text": "\n"
    }
   ],
   "source": [
    "#\n",
    "# Run optimisation multiple times from random initial starting points.\n",
    "#\n",
    "# This cell needs above defined wrapped myokit model:\n",
    "# [PintsModel]\n",
    "#\n",
    "\n",
    "import os\n",
    "\n",
    "import myokit\n",
    "import numpy as np\n",
    "import pandas as pd\n",
    "import pints\n",
    "from tqdm.notebook import tqdm\n",
    "\n",
    "\n",
    "# Define number of optimisation runs for each individual\n",
    "n_runs = 10\n",
    "\n",
    "# Import data\n",
    "# Get path of current working directory\n",
    "path = os.getcwd()\n",
    "\n",
    "# Import LXF A677 control growth data\n",
    "data = pd.read_csv(path + '/data/lxf_control_growth.csv')\n",
    "n_mice = len(data['#ID'].unique())\n",
    "\n",
    "# Define container for the structural model estimates\n",
    "# Shape (n_mice, n_runs, n_parameters)\n",
    "n_parameters = 3\n",
    "mouse_parameters_multi_runs = np.empty(shape=(n_mice, n_runs, n_parameters))\n",
    "\n",
    "# Define container for the objective function score for the optimised parameters\n",
    "mouse_scores_multi_runs = np.empty(shape=(n_mice, n_runs))\n",
    "\n",
    "# Define random starting points over many orders of magnitude\n",
    "# Shape = (n_runs, n_parameters)\n",
    "initial_parameters = np.random.uniform(low=1E-3, high=1E3, size=(n_runs, n_parameters))\n",
    "\n",
    "# Find mouse parameters for LXF A677 population\n",
    "mouse_ids = data['#ID'].unique()\n",
    "for index, mouse_id in enumerate(tqdm(mouse_ids)):\n",
    "    # Create mask for mouse with specfied ID\n",
    "    mouse_mask = data['#ID'] == mouse_id\n",
    "\n",
    "    # Get relevant time points\n",
    "    times = data[mouse_mask]['TIME in day'].to_numpy()\n",
    "\n",
    "    # Get measured tumour volumes\n",
    "    observed_volumes = data[mouse_mask]['TUMOUR VOLUME in cm^3'].to_numpy()\n",
    "\n",
    "    # Create inverse problem\n",
    "    problem = pints.SingleOutputProblem(PintsModel(), times, observed_volumes)\n",
    "\n",
    "    # Create sum of squares error objective function\n",
    "    error = pints.SumOfSquaresError(problem)\n",
    "\n",
    "    # Run optimisation multiple times\n",
    "    for run_id, initial_params in enumerate(initial_parameters):\n",
    "        # Create optimisation controller with a CMA-ES optimiser\n",
    "        optimiser = pints.OptimisationController(\n",
    "            function=error,\n",
    "            x0=initial_params,\n",
    "            method=pints.CMAES)\n",
    "\n",
    "        # Disable logging mode\n",
    "        optimiser.set_log_to_screen(False)\n",
    "\n",
    "        # Parallelise optimisation\n",
    "        optimiser.set_parallel(True)\n",
    "\n",
    "        # Find optimal parameters\n",
    "        try:\n",
    "            estimates, score = optimiser.run()\n",
    "        except:\n",
    "            # If inference breaks fill estimates with nan\n",
    "            estimates = np.array([np.nan, np.nan, np.nan])\n",
    "            score = np.nan\n",
    "\n",
    "        # Save estimates and score\n",
    "        mouse_parameters_multi_runs[index, run_id, :] = estimates\n",
    "        mouse_scores_multi_runs[index, run_id] = score"
   ]
  },
  {
   "cell_type": "markdown",
   "metadata": {},
   "source": [
    "The \"Unexpected termination\" message indicates that we ran into optimisation errors for at least one run. Let us explore the parameters from the successfull optimisations below."
   ]
  },
  {
   "cell_type": "code",
   "execution_count": 5,
   "metadata": {},
   "outputs": [
    {
     "output_type": "display_data",
     "data": {
      "application/vnd.plotly.v1+json": {
       "config": {
        "plotlyServerURL": "https://plot.ly"
       },
       "data": [
        {
         "boxpoints": "all",
         "jitter": 0.2,
         "line": {
          "color": "#636EFA"
         },
         "marker": {
          "color": "#636EFA",
          "line": {
           "color": "black",
           "width": 1
          },
          "opacity": 0.7,
          "symbol": "circle"
         },
         "name": "Initial tumour volume in cm^3",
         "pointpos": -1.5,
         "type": "box",
         "visible": true,
         "y": [
          0.13999455354721563,
          0.1377179190641737,
          0.19179933993550172,
          0.1403937356300102,
          0.13932378785586574,
          0.1918085788145427,
          0.14007248047567075,
          0.19180834172063393,
          0.19184792262059358,
          0.13932601723187552
         ]
        },
        {
         "boxpoints": "all",
         "jitter": 0.2,
         "line": {
          "color": "#EF553B"
         },
         "marker": {
          "color": "#EF553B",
          "line": {
           "color": "black",
           "width": 1
          },
          "opacity": 0.7,
          "symbol": "circle"
         },
         "name": "Exponential growth rate in 1/day",
         "pointpos": -1.5,
         "type": "box",
         "visible": true,
         "y": [
          0.2741834577257658,
          0.28495315877471367,
          -344.6708620203097,
          0.273384081476666,
          0.2754106424818876,
          -618.3264001829841,
          0.27392313081083197,
          -12.829661381133352,
          -2211.6552171531603,
          0.27531223113207887
         ]
        },
        {
         "boxpoints": "all",
         "jitter": 0.2,
         "line": {
          "color": "#00CC96"
         },
         "marker": {
          "color": "#00CC96",
          "line": {
           "color": "black",
           "width": 1
          },
          "opacity": 0.7,
          "symbol": "circle"
         },
         "name": "Linear growth rate in cm^3/day",
         "pointpos": -1.5,
         "type": "box",
         "visible": true,
         "y": [
          0.131014320570529,
          0.12961974786702588,
          -144.23734839626485,
          0.13100431446283137,
          0.130968807909829,
          -40.053600286502316,
          0.13100125980660607,
          16.348720330344293,
          -3154.485841791595,
          0.13097167563964604
         ]
        },
        {
         "boxpoints": "all",
         "jitter": 0.2,
         "line": {
          "color": "#AB63FA"
         },
         "marker": {
          "color": "#AB63FA",
          "line": {
           "color": "black",
           "width": 1
          },
          "opacity": 0.7,
          "symbol": "circle"
         },
         "name": "Score",
         "pointpos": -1.5,
         "type": "box",
         "visible": true,
         "y": [
          0.03186172712127768,
          0.03190273166319746,
          15.91037832055256,
          0.031867083930944805,
          0.03186018809095265,
          15.910377263192416,
          0.031864379540929445,
          15.910376487103992,
          15.910378871102584,
          0.031860916598391666
         ]
        },
        {
         "boxpoints": "all",
         "jitter": 0.2,
         "line": {
          "color": "#636EFA"
         },
         "marker": {
          "color": "#636EFA",
          "line": {
           "color": "black",
           "width": 1
          },
          "opacity": 0.7,
          "symbol": "circle"
         },
         "name": "Initial tumour volume in cm^3",
         "pointpos": -1.5,
         "type": "box",
         "visible": false,
         "y": [
          0.05752258498637755,
          0.07724854788157771,
          0.07724752395726846,
          0.07724751669069563,
          0.0745489408205007,
          0.07724748586769419,
          0.0438457558641215,
          0.0772472747549882,
          0.057520691927816864,
          0.0772489058015131
         ]
        },
        {
         "boxpoints": "all",
         "jitter": 0.2,
         "line": {
          "color": "#EF553B"
         },
         "marker": {
          "color": "#EF553B",
          "line": {
           "color": "black",
           "width": 1
          },
          "opacity": 0.7,
          "symbol": "circle"
         },
         "name": "Exponential growth rate in 1/day",
         "pointpos": -1.5,
         "type": "box",
         "visible": false,
         "y": [
          338.2104815366386,
          -508.03876874193867,
          -359.6894419378645,
          -293.7175472477904,
          0.16798449013825356,
          -462.2498138110463,
          -0.3289885413186724,
          -1007.4487794338615,
          1282.6376530850994,
          -189.60648877431132
         ]
        },
        {
         "boxpoints": "all",
         "jitter": 0.2,
         "line": {
          "color": "#00CC96"
         },
         "marker": {
          "color": "#00CC96",
          "line": {
           "color": "black",
           "width": 1
          },
          "opacity": 0.7,
          "symbol": "circle"
         },
         "name": "Linear growth rate in cm^3/day",
         "pointpos": -1.5,
         "type": "box",
         "visible": false,
         "y": [
          0.016440585420848832,
          -13.516006514782786,
          -781.1229588929729,
          -331.2119807917222,
          0.020311921881659846,
          -84.82647000179192,
          15.59806230114616,
          172.68343769615433,
          0.016438400230209357,
          72.48700053763037
         ]
        },
        {
         "boxpoints": "all",
         "jitter": 0.2,
         "line": {
          "color": "#AB63FA"
         },
         "marker": {
          "color": "#AB63FA",
          "line": {
           "color": "black",
           "width": 1
          },
          "opacity": 0.7,
          "symbol": "circle"
         },
         "name": "Score",
         "pointpos": -1.5,
         "type": "box",
         "visible": false,
         "y": [
          0.008274231176280074,
          1.6108442853135956,
          1.6108443609550287,
          1.6108442676291688,
          0.007448232520936493,
          1.610844449947765,
          1.6090387395782288,
          1.6108445156507178,
          0.008274945550933001,
          1.6108445013145751
         ]
        },
        {
         "boxpoints": "all",
         "jitter": 0.2,
         "line": {
          "color": "#636EFA"
         },
         "marker": {
          "color": "#636EFA",
          "line": {
           "color": "black",
           "width": 1
          },
          "opacity": 0.7,
          "symbol": "circle"
         },
         "name": "Initial tumour volume in cm^3",
         "pointpos": -1.5,
         "type": "box",
         "visible": false,
         "y": [
          0.18619999018298256,
          -0.000012273489754934793,
          0.18659092826648582,
          0.18620001556011334,
          -4.284677508135994e-7,
          null,
          0.18620607089099897,
          0.18620038820299542,
          0.1861999878636571,
          0.18619965069148328
         ]
        },
        {
         "boxpoints": "all",
         "jitter": 0.2,
         "line": {
          "color": "#EF553B"
         },
         "marker": {
          "color": "#EF553B",
          "line": {
           "color": "black",
           "width": 1
          },
          "opacity": 0.7,
          "symbol": "circle"
         },
         "name": "Exponential growth rate in 1/day",
         "pointpos": -1.5,
         "type": "box",
         "visible": false,
         "y": [
          -175.5344318621765,
          819.0600358264121,
          -706.863628860396,
          -7006.521172814246,
          1921.0211612923363,
          null,
          -173.42580932386167,
          -542.6458739068136,
          -930.5824843301199,
          -77.7205399601871
         ]
        },
        {
         "boxpoints": "all",
         "jitter": 0.2,
         "line": {
          "color": "#00CC96"
         },
         "marker": {
          "color": "#00CC96",
          "line": {
           "color": "black",
           "width": 1
          },
          "opacity": 0.7,
          "symbol": "circle"
         },
         "name": "Linear growth rate in cm^3/day",
         "pointpos": -1.5,
         "type": "box",
         "visible": false,
         "y": [
          -217.63431054333898,
          0.08838528843035431,
          -0.37619095057396684,
          -4327.412221242561,
          0.088369387814363,
          null,
          96.55392103081654,
          -337.0852312281089,
          4041.8515178465477,
          86.59297723360932
         ]
        },
        {
         "boxpoints": "all",
         "jitter": 0.2,
         "line": {
          "color": "#AB63FA"
         },
         "marker": {
          "color": "#AB63FA",
          "line": {
           "color": "black",
           "width": 1
          },
          "opacity": 0.7,
          "symbol": "circle"
         },
         "name": "Score",
         "pointpos": -1.5,
         "type": "box",
         "visible": false,
         "y": [
          12.133283181679843,
          0.5360832860497442,
          12.133282969727908,
          12.133283110755873,
          0.5352476694155162,
          null,
          12.133282110651006,
          12.13328276364932,
          12.133283085147712,
          12.133282346449482
         ]
        },
        {
         "boxpoints": "all",
         "jitter": 0.2,
         "line": {
          "color": "#636EFA"
         },
         "marker": {
          "color": "#636EFA",
          "line": {
           "color": "black",
           "width": 1
          },
          "opacity": 0.7,
          "symbol": "circle"
         },
         "name": "Initial tumour volume in cm^3",
         "pointpos": -1.5,
         "type": "box",
         "visible": false,
         "y": [
          0.14772326814880893,
          0.11858848945882573,
          0.118588479475537,
          0.017841472404257576,
          0.11853193441237492,
          0.01843793699415734,
          0.14900261027927914,
          0.14772326076057693,
          0.11858825615358456,
          0.11859124002560932
         ]
        },
        {
         "boxpoints": "all",
         "jitter": 0.2,
         "line": {
          "color": "#EF553B"
         },
         "marker": {
          "color": "#EF553B",
          "line": {
           "color": "black",
           "width": 1
          },
          "opacity": 0.7,
          "symbol": "circle"
         },
         "name": "Exponential growth rate in 1/day",
         "pointpos": -1.5,
         "type": "box",
         "visible": false,
         "y": [
          0.05525832179408031,
          -1100.6220752387815,
          -3763.9092879787822,
          1855.336173463525,
          -518.9814938531338,
          275.4757563744992,
          0.054263295481696325,
          0.05525834884157949,
          -21002.13016919471,
          -1182.2654646670885
         ]
        },
        {
         "boxpoints": "all",
         "jitter": 0.2,
         "line": {
          "color": "#00CC96"
         },
         "marker": {
          "color": "#00CC96",
          "line": {
           "color": "black",
           "width": 1
          },
          "opacity": 0.7,
          "symbol": "circle"
         },
         "name": "Linear growth rate in cm^3/day",
         "pointpos": -1.5,
         "type": "box",
         "visible": false,
         "y": [
          0.124692225840854,
          299.4595247438063,
          -1230.9905165854473,
          0.040830191944830396,
          -27.234517563836636,
          0.040816287334460556,
          0.12882020229378757,
          0.1246922797589297,
          -2882.9365647952495,
          -441.3825622291313
         ]
        },
        {
         "boxpoints": "all",
         "jitter": 0.2,
         "line": {
          "color": "#AB63FA"
         },
         "marker": {
          "color": "#AB63FA",
          "line": {
           "color": "black",
           "width": 1
          },
          "opacity": 0.7,
          "symbol": "circle"
         },
         "name": "Score",
         "pointpos": -1.5,
         "type": "box",
         "visible": false,
         "y": [
          0.040211974600936506,
          7.61482873562154,
          7.6148289410586525,
          0.10936593787283291,
          7.61482892086849,
          0.1093677057208279,
          0.04018550217108214,
          0.04021197460240264,
          7.614829026043131,
          7.614829074401017
         ]
        },
        {
         "boxpoints": "all",
         "jitter": 0.2,
         "line": {
          "color": "#636EFA"
         },
         "marker": {
          "color": "#636EFA",
          "line": {
           "color": "black",
           "width": 1
          },
          "opacity": 0.7,
          "symbol": "circle"
         },
         "name": "Initial tumour volume in cm^3",
         "pointpos": -1.5,
         "type": "box",
         "visible": false,
         "y": [
          0.07933063882871234,
          -0.21242113695592174,
          0.0793304739959332,
          null,
          -0.1942146004478902,
          0.07933045958809147,
          -0.1884083088672442,
          -0.16608272751511866,
          0.08502683678821693,
          null
         ]
        },
        {
         "boxpoints": "all",
         "jitter": 0.2,
         "line": {
          "color": "#EF553B"
         },
         "marker": {
          "color": "#EF553B",
          "line": {
           "color": "black",
           "width": 1
          },
          "opacity": 0.7,
          "symbol": "circle"
         },
         "name": "Exponential growth rate in 1/day",
         "pointpos": -1.5,
         "type": "box",
         "visible": false,
         "y": [
          -575.0476457523956,
          495.1322783479918,
          -1742.398465713584,
          null,
          495.5860125907335,
          -460.84924017173284,
          1717.1046236702434,
          154.7716898502863,
          0.05398570178101312,
          null
         ]
        },
        {
         "boxpoints": "all",
         "jitter": 0.2,
         "line": {
          "color": "#00CC96"
         },
         "marker": {
          "color": "#00CC96",
          "line": {
           "color": "black",
           "width": 1
          },
          "opacity": 0.7,
          "symbol": "circle"
         },
         "name": "Linear growth rate in cm^3/day",
         "pointpos": -1.5,
         "type": "box",
         "visible": false,
         "y": [
          459.43460943167065,
          0.06047094375043506,
          -1801.3928203636888,
          null,
          0.059336089605714876,
          281.80603328610573,
          0.059144151663873046,
          0.06172334586728417,
          -67.06068410137607,
          null
         ]
        },
        {
         "boxpoints": "all",
         "jitter": 0.2,
         "line": {
          "color": "#AB63FA"
         },
         "marker": {
          "color": "#AB63FA",
          "line": {
           "color": "black",
           "width": 1
          },
          "opacity": 0.7,
          "symbol": "circle"
         },
         "name": "Score",
         "pointpos": -1.5,
         "type": "box",
         "visible": false,
         "y": [
          12.135807200296718,
          1.1149787034402456,
          12.135807596358003,
          null,
          1.1162366008340905,
          12.13580695025589,
          1.1143600195603136,
          1.177699524417816,
          0.14575872881529411,
          null
         ]
        },
        {
         "boxpoints": "all",
         "jitter": 0.2,
         "line": {
          "color": "#636EFA"
         },
         "marker": {
          "color": "#636EFA",
          "line": {
           "color": "black",
           "width": 1
          },
          "opacity": 0.7,
          "symbol": "circle"
         },
         "name": "Initial tumour volume in cm^3",
         "pointpos": -1.5,
         "type": "box",
         "visible": false,
         "y": [
          0.00960222373022744,
          0.008588774941580123,
          0.10587501615110803,
          0.008565327330178608,
          0.10587846366018609,
          0.010335197329541341,
          0.10590401213895491,
          0.006375952622322042,
          0.10587502302768186,
          0.10587492583107637
         ]
        },
        {
         "boxpoints": "all",
         "jitter": 0.2,
         "line": {
          "color": "#EF553B"
         },
         "marker": {
          "color": "#EF553B",
          "line": {
           "color": "black",
           "width": 1
          },
          "opacity": 0.7,
          "symbol": "circle"
         },
         "name": "Exponential growth rate in 1/day",
         "pointpos": -1.5,
         "type": "box",
         "visible": false,
         "y": [
          555.4483571942449,
          838.7153329595624,
          -924.9154682340645,
          1432.905771684608,
          -107.55679964637673,
          513.5322251865938,
          -420.28086829028814,
          657.1951949743664,
          -372.35228815517814,
          -1582.4265074120274
         ]
        },
        {
         "boxpoints": "all",
         "jitter": 0.2,
         "line": {
          "color": "#00CC96"
         },
         "marker": {
          "color": "#00CC96",
          "line": {
           "color": "black",
           "width": 1
          },
          "opacity": 0.7,
          "symbol": "circle"
         },
         "name": "Linear growth rate in cm^3/day",
         "pointpos": -1.5,
         "type": "box",
         "visible": false,
         "y": [
          0.08023657337835494,
          0.0802872958997993,
          -932.5909445188795,
          0.08028211979090485,
          -1.877140358044004,
          0.08017508827757706,
          -40.59006132207571,
          0.0804135772327907,
          499.64578984936816,
          -493.8363711333231
         ]
        },
        {
         "boxpoints": "all",
         "jitter": 0.2,
         "line": {
          "color": "#AB63FA"
         },
         "marker": {
          "color": "#AB63FA",
          "line": {
           "color": "black",
           "width": 1
          },
          "opacity": 0.7,
          "symbol": "circle"
         },
         "name": "Score",
         "pointpos": -1.5,
         "type": "box",
         "visible": false,
         "y": [
          0.29199256322779454,
          0.2920404664695354,
          17.51238229217025,
          0.292055755740321,
          17.51238164076213,
          0.2920016452040997,
          17.5123822917422,
          0.29201275755832756,
          17.512381320961897,
          17.51238215796439
         ]
        },
        {
         "boxpoints": "all",
         "jitter": 0.2,
         "line": {
          "color": "#636EFA"
         },
         "marker": {
          "color": "#636EFA",
          "line": {
           "color": "black",
           "width": 1
          },
          "opacity": 0.7,
          "symbol": "circle"
         },
         "name": "Initial tumour volume in cm^3",
         "pointpos": -1.5,
         "type": "box",
         "visible": false,
         "y": [
          0.12302175983147244,
          0.06624799550836294,
          0.12301026491265979,
          0.12300799582940874,
          0.12332977486144091,
          0.06622618906104906,
          null,
          0.06622613625435747,
          0.06622333263787143,
          0.06622338163837364
         ]
        },
        {
         "boxpoints": "all",
         "jitter": 0.2,
         "line": {
          "color": "#EF553B"
         },
         "marker": {
          "color": "#EF553B",
          "line": {
           "color": "black",
           "width": 1
          },
          "opacity": 0.7,
          "symbol": "circle"
         },
         "name": "Exponential growth rate in 1/day",
         "pointpos": -1.5,
         "type": "box",
         "visible": false,
         "y": [
          -418.46137501359595,
          198.19554194899325,
          -115.77475676707624,
          -735.7273371429861,
          0.04352116876052126,
          448.0138043484113,
          null,
          448.01428944865387,
          1211.8015627857244,
          1211.8857719206765
         ]
        },
        {
         "boxpoints": "all",
         "jitter": 0.2,
         "line": {
          "color": "#00CC96"
         },
         "marker": {
          "color": "#00CC96",
          "line": {
           "color": "black",
           "width": 1
          },
          "opacity": 0.7,
          "symbol": "circle"
         },
         "name": "Linear growth rate in cm^3/day",
         "pointpos": -1.5,
         "type": "box",
         "visible": false,
         "y": [
          -1195.1673407603691,
          0.021299330135637805,
          -2124.752918685709,
          2034.4684652996536,
          0.07139560680117264,
          0.02129778971357224,
          null,
          0.021297798780009793,
          0.021296213273596213,
          0.02129621104810295
         ]
        },
        {
         "boxpoints": "all",
         "jitter": 0.2,
         "line": {
          "color": "#AB63FA"
         },
         "marker": {
          "color": "#AB63FA",
          "line": {
           "color": "black",
           "width": 1
          },
          "opacity": 0.7,
          "symbol": "circle"
         },
         "name": "Score",
         "pointpos": -1.5,
         "type": "box",
         "visible": false,
         "y": [
          2.6136551090412876,
          0.01893397113791302,
          2.613655486375605,
          2.613656159632529,
          0.002916019145862628,
          0.01894082543538471,
          null,
          0.018940825435300124,
          0.018944615918892672,
          0.01894461591889403
         ]
        },
        {
         "boxpoints": "all",
         "jitter": 0.2,
         "line": {
          "color": "#636EFA"
         },
         "marker": {
          "color": "#636EFA",
          "line": {
           "color": "black",
           "width": 1
          },
          "opacity": 0.7,
          "symbol": "circle"
         },
         "name": "Initial tumour volume in cm^3",
         "pointpos": -1.5,
         "type": "box",
         "visible": false,
         "y": [
          0.026960689555130257,
          0.17416043711187426,
          0.07995189496064556,
          0.02690594318223589,
          0.08005650185084633,
          0.08710914318250851,
          0.08005605465296786,
          0.08704782543576103,
          0.0800565051092095,
          0.026906046581021525
         ]
        },
        {
         "boxpoints": "all",
         "jitter": 0.2,
         "line": {
          "color": "#EF553B"
         },
         "marker": {
          "color": "#EF553B",
          "line": {
           "color": "black",
           "width": 1
          },
          "opacity": 0.7,
          "symbol": "circle"
         },
         "name": "Exponential growth rate in 1/day",
         "pointpos": -1.5,
         "type": "box",
         "visible": false,
         "y": [
          382.6791467072145,
          -132.80831430355514,
          -13.498788178455525,
          721.0319014326616,
          -15529.68558440081,
          0.03611834533011521,
          -1724.698732692219,
          0.03617215637674958,
          -582.569920765079,
          721.0287749773217
         ]
        },
        {
         "boxpoints": "all",
         "jitter": 0.2,
         "line": {
          "color": "#00CC96"
         },
         "marker": {
          "color": "#00CC96",
          "line": {
           "color": "black",
           "width": 1
          },
          "opacity": 0.7,
          "symbol": "circle"
         },
         "name": "Linear growth rate in cm^3/day",
         "pointpos": -1.5,
         "type": "box",
         "visible": false,
         "y": [
          0.01733020996879255,
          -0.03238246839358905,
          -11.830798788279832,
          0.01733244227574107,
          3225.473303948275,
          0.1953475608200476,
          -160.790361866123,
          0.19325840878378328,
          -1010.1330918705321,
          0.017332436825234367
         ]
        },
        {
         "boxpoints": "all",
         "jitter": 0.2,
         "line": {
          "color": "#AB63FA"
         },
         "marker": {
          "color": "#AB63FA",
          "line": {
           "color": "black",
           "width": 1
          },
          "opacity": 0.7,
          "symbol": "circle"
         },
         "name": "Score",
         "pointpos": -1.5,
         "type": "box",
         "visible": false,
         "y": [
          0.022865785631069543,
          1.5122057645292375,
          1.5197869482652195,
          0.022869807188013742,
          1.5197873175439618,
          0.0023157352352722,
          1.5197873421288075,
          0.0023155933407803886,
          1.5197873865357499,
          0.022869807187922055
         ]
        }
       ],
       "layout": {
        "autosize": true,
        "legend": {
         "x": 1.05,
         "xanchor": "left",
         "y": 0.01,
         "yanchor": "bottom"
        },
        "template": {
         "data": {
          "bar": [
           {
            "error_x": {
             "color": "#2a3f5f"
            },
            "error_y": {
             "color": "#2a3f5f"
            },
            "marker": {
             "line": {
              "color": "white",
              "width": 0.5
             }
            },
            "type": "bar"
           }
          ],
          "barpolar": [
           {
            "marker": {
             "line": {
              "color": "white",
              "width": 0.5
             }
            },
            "type": "barpolar"
           }
          ],
          "carpet": [
           {
            "aaxis": {
             "endlinecolor": "#2a3f5f",
             "gridcolor": "#C8D4E3",
             "linecolor": "#C8D4E3",
             "minorgridcolor": "#C8D4E3",
             "startlinecolor": "#2a3f5f"
            },
            "baxis": {
             "endlinecolor": "#2a3f5f",
             "gridcolor": "#C8D4E3",
             "linecolor": "#C8D4E3",
             "minorgridcolor": "#C8D4E3",
             "startlinecolor": "#2a3f5f"
            },
            "type": "carpet"
           }
          ],
          "choropleth": [
           {
            "colorbar": {
             "outlinewidth": 0,
             "ticks": ""
            },
            "type": "choropleth"
           }
          ],
          "contour": [
           {
            "colorbar": {
             "outlinewidth": 0,
             "ticks": ""
            },
            "colorscale": [
             [
              0,
              "#0d0887"
             ],
             [
              0.1111111111111111,
              "#46039f"
             ],
             [
              0.2222222222222222,
              "#7201a8"
             ],
             [
              0.3333333333333333,
              "#9c179e"
             ],
             [
              0.4444444444444444,
              "#bd3786"
             ],
             [
              0.5555555555555556,
              "#d8576b"
             ],
             [
              0.6666666666666666,
              "#ed7953"
             ],
             [
              0.7777777777777778,
              "#fb9f3a"
             ],
             [
              0.8888888888888888,
              "#fdca26"
             ],
             [
              1,
              "#f0f921"
             ]
            ],
            "type": "contour"
           }
          ],
          "contourcarpet": [
           {
            "colorbar": {
             "outlinewidth": 0,
             "ticks": ""
            },
            "type": "contourcarpet"
           }
          ],
          "heatmap": [
           {
            "colorbar": {
             "outlinewidth": 0,
             "ticks": ""
            },
            "colorscale": [
             [
              0,
              "#0d0887"
             ],
             [
              0.1111111111111111,
              "#46039f"
             ],
             [
              0.2222222222222222,
              "#7201a8"
             ],
             [
              0.3333333333333333,
              "#9c179e"
             ],
             [
              0.4444444444444444,
              "#bd3786"
             ],
             [
              0.5555555555555556,
              "#d8576b"
             ],
             [
              0.6666666666666666,
              "#ed7953"
             ],
             [
              0.7777777777777778,
              "#fb9f3a"
             ],
             [
              0.8888888888888888,
              "#fdca26"
             ],
             [
              1,
              "#f0f921"
             ]
            ],
            "type": "heatmap"
           }
          ],
          "heatmapgl": [
           {
            "colorbar": {
             "outlinewidth": 0,
             "ticks": ""
            },
            "colorscale": [
             [
              0,
              "#0d0887"
             ],
             [
              0.1111111111111111,
              "#46039f"
             ],
             [
              0.2222222222222222,
              "#7201a8"
             ],
             [
              0.3333333333333333,
              "#9c179e"
             ],
             [
              0.4444444444444444,
              "#bd3786"
             ],
             [
              0.5555555555555556,
              "#d8576b"
             ],
             [
              0.6666666666666666,
              "#ed7953"
             ],
             [
              0.7777777777777778,
              "#fb9f3a"
             ],
             [
              0.8888888888888888,
              "#fdca26"
             ],
             [
              1,
              "#f0f921"
             ]
            ],
            "type": "heatmapgl"
           }
          ],
          "histogram": [
           {
            "marker": {
             "colorbar": {
              "outlinewidth": 0,
              "ticks": ""
             }
            },
            "type": "histogram"
           }
          ],
          "histogram2d": [
           {
            "colorbar": {
             "outlinewidth": 0,
             "ticks": ""
            },
            "colorscale": [
             [
              0,
              "#0d0887"
             ],
             [
              0.1111111111111111,
              "#46039f"
             ],
             [
              0.2222222222222222,
              "#7201a8"
             ],
             [
              0.3333333333333333,
              "#9c179e"
             ],
             [
              0.4444444444444444,
              "#bd3786"
             ],
             [
              0.5555555555555556,
              "#d8576b"
             ],
             [
              0.6666666666666666,
              "#ed7953"
             ],
             [
              0.7777777777777778,
              "#fb9f3a"
             ],
             [
              0.8888888888888888,
              "#fdca26"
             ],
             [
              1,
              "#f0f921"
             ]
            ],
            "type": "histogram2d"
           }
          ],
          "histogram2dcontour": [
           {
            "colorbar": {
             "outlinewidth": 0,
             "ticks": ""
            },
            "colorscale": [
             [
              0,
              "#0d0887"
             ],
             [
              0.1111111111111111,
              "#46039f"
             ],
             [
              0.2222222222222222,
              "#7201a8"
             ],
             [
              0.3333333333333333,
              "#9c179e"
             ],
             [
              0.4444444444444444,
              "#bd3786"
             ],
             [
              0.5555555555555556,
              "#d8576b"
             ],
             [
              0.6666666666666666,
              "#ed7953"
             ],
             [
              0.7777777777777778,
              "#fb9f3a"
             ],
             [
              0.8888888888888888,
              "#fdca26"
             ],
             [
              1,
              "#f0f921"
             ]
            ],
            "type": "histogram2dcontour"
           }
          ],
          "mesh3d": [
           {
            "colorbar": {
             "outlinewidth": 0,
             "ticks": ""
            },
            "type": "mesh3d"
           }
          ],
          "parcoords": [
           {
            "line": {
             "colorbar": {
              "outlinewidth": 0,
              "ticks": ""
             }
            },
            "type": "parcoords"
           }
          ],
          "pie": [
           {
            "automargin": true,
            "type": "pie"
           }
          ],
          "scatter": [
           {
            "marker": {
             "colorbar": {
              "outlinewidth": 0,
              "ticks": ""
             }
            },
            "type": "scatter"
           }
          ],
          "scatter3d": [
           {
            "line": {
             "colorbar": {
              "outlinewidth": 0,
              "ticks": ""
             }
            },
            "marker": {
             "colorbar": {
              "outlinewidth": 0,
              "ticks": ""
             }
            },
            "type": "scatter3d"
           }
          ],
          "scattercarpet": [
           {
            "marker": {
             "colorbar": {
              "outlinewidth": 0,
              "ticks": ""
             }
            },
            "type": "scattercarpet"
           }
          ],
          "scattergeo": [
           {
            "marker": {
             "colorbar": {
              "outlinewidth": 0,
              "ticks": ""
             }
            },
            "type": "scattergeo"
           }
          ],
          "scattergl": [
           {
            "marker": {
             "colorbar": {
              "outlinewidth": 0,
              "ticks": ""
             }
            },
            "type": "scattergl"
           }
          ],
          "scattermapbox": [
           {
            "marker": {
             "colorbar": {
              "outlinewidth": 0,
              "ticks": ""
             }
            },
            "type": "scattermapbox"
           }
          ],
          "scatterpolar": [
           {
            "marker": {
             "colorbar": {
              "outlinewidth": 0,
              "ticks": ""
             }
            },
            "type": "scatterpolar"
           }
          ],
          "scatterpolargl": [
           {
            "marker": {
             "colorbar": {
              "outlinewidth": 0,
              "ticks": ""
             }
            },
            "type": "scatterpolargl"
           }
          ],
          "scatterternary": [
           {
            "marker": {
             "colorbar": {
              "outlinewidth": 0,
              "ticks": ""
             }
            },
            "type": "scatterternary"
           }
          ],
          "surface": [
           {
            "colorbar": {
             "outlinewidth": 0,
             "ticks": ""
            },
            "colorscale": [
             [
              0,
              "#0d0887"
             ],
             [
              0.1111111111111111,
              "#46039f"
             ],
             [
              0.2222222222222222,
              "#7201a8"
             ],
             [
              0.3333333333333333,
              "#9c179e"
             ],
             [
              0.4444444444444444,
              "#bd3786"
             ],
             [
              0.5555555555555556,
              "#d8576b"
             ],
             [
              0.6666666666666666,
              "#ed7953"
             ],
             [
              0.7777777777777778,
              "#fb9f3a"
             ],
             [
              0.8888888888888888,
              "#fdca26"
             ],
             [
              1,
              "#f0f921"
             ]
            ],
            "type": "surface"
           }
          ],
          "table": [
           {
            "cells": {
             "fill": {
              "color": "#EBF0F8"
             },
             "line": {
              "color": "white"
             }
            },
            "header": {
             "fill": {
              "color": "#C8D4E3"
             },
             "line": {
              "color": "white"
             }
            },
            "type": "table"
           }
          ]
         },
         "layout": {
          "annotationdefaults": {
           "arrowcolor": "#2a3f5f",
           "arrowhead": 0,
           "arrowwidth": 1
          },
          "coloraxis": {
           "colorbar": {
            "outlinewidth": 0,
            "ticks": ""
           }
          },
          "colorscale": {
           "diverging": [
            [
             0,
             "#8e0152"
            ],
            [
             0.1,
             "#c51b7d"
            ],
            [
             0.2,
             "#de77ae"
            ],
            [
             0.3,
             "#f1b6da"
            ],
            [
             0.4,
             "#fde0ef"
            ],
            [
             0.5,
             "#f7f7f7"
            ],
            [
             0.6,
             "#e6f5d0"
            ],
            [
             0.7,
             "#b8e186"
            ],
            [
             0.8,
             "#7fbc41"
            ],
            [
             0.9,
             "#4d9221"
            ],
            [
             1,
             "#276419"
            ]
           ],
           "sequential": [
            [
             0,
             "#0d0887"
            ],
            [
             0.1111111111111111,
             "#46039f"
            ],
            [
             0.2222222222222222,
             "#7201a8"
            ],
            [
             0.3333333333333333,
             "#9c179e"
            ],
            [
             0.4444444444444444,
             "#bd3786"
            ],
            [
             0.5555555555555556,
             "#d8576b"
            ],
            [
             0.6666666666666666,
             "#ed7953"
            ],
            [
             0.7777777777777778,
             "#fb9f3a"
            ],
            [
             0.8888888888888888,
             "#fdca26"
            ],
            [
             1,
             "#f0f921"
            ]
           ],
           "sequentialminus": [
            [
             0,
             "#0d0887"
            ],
            [
             0.1111111111111111,
             "#46039f"
            ],
            [
             0.2222222222222222,
             "#7201a8"
            ],
            [
             0.3333333333333333,
             "#9c179e"
            ],
            [
             0.4444444444444444,
             "#bd3786"
            ],
            [
             0.5555555555555556,
             "#d8576b"
            ],
            [
             0.6666666666666666,
             "#ed7953"
            ],
            [
             0.7777777777777778,
             "#fb9f3a"
            ],
            [
             0.8888888888888888,
             "#fdca26"
            ],
            [
             1,
             "#f0f921"
            ]
           ]
          },
          "colorway": [
           "#636efa",
           "#EF553B",
           "#00cc96",
           "#ab63fa",
           "#FFA15A",
           "#19d3f3",
           "#FF6692",
           "#B6E880",
           "#FF97FF",
           "#FECB52"
          ],
          "font": {
           "color": "#2a3f5f"
          },
          "geo": {
           "bgcolor": "white",
           "lakecolor": "white",
           "landcolor": "white",
           "showlakes": true,
           "showland": true,
           "subunitcolor": "#C8D4E3"
          },
          "hoverlabel": {
           "align": "left"
          },
          "hovermode": "closest",
          "mapbox": {
           "style": "light"
          },
          "paper_bgcolor": "white",
          "plot_bgcolor": "white",
          "polar": {
           "angularaxis": {
            "gridcolor": "#EBF0F8",
            "linecolor": "#EBF0F8",
            "ticks": ""
           },
           "bgcolor": "white",
           "radialaxis": {
            "gridcolor": "#EBF0F8",
            "linecolor": "#EBF0F8",
            "ticks": ""
           }
          },
          "scene": {
           "xaxis": {
            "backgroundcolor": "white",
            "gridcolor": "#DFE8F3",
            "gridwidth": 2,
            "linecolor": "#EBF0F8",
            "showbackground": true,
            "ticks": "",
            "zerolinecolor": "#EBF0F8"
           },
           "yaxis": {
            "backgroundcolor": "white",
            "gridcolor": "#DFE8F3",
            "gridwidth": 2,
            "linecolor": "#EBF0F8",
            "showbackground": true,
            "ticks": "",
            "zerolinecolor": "#EBF0F8"
           },
           "zaxis": {
            "backgroundcolor": "white",
            "gridcolor": "#DFE8F3",
            "gridwidth": 2,
            "linecolor": "#EBF0F8",
            "showbackground": true,
            "ticks": "",
            "zerolinecolor": "#EBF0F8"
           }
          },
          "shapedefaults": {
           "line": {
            "color": "#2a3f5f"
           }
          },
          "ternary": {
           "aaxis": {
            "gridcolor": "#DFE8F3",
            "linecolor": "#A2B1C6",
            "ticks": ""
           },
           "baxis": {
            "gridcolor": "#DFE8F3",
            "linecolor": "#A2B1C6",
            "ticks": ""
           },
           "bgcolor": "white",
           "caxis": {
            "gridcolor": "#DFE8F3",
            "linecolor": "#A2B1C6",
            "ticks": ""
           }
          },
          "title": {
           "x": 0.05
          },
          "xaxis": {
           "automargin": true,
           "gridcolor": "#EBF0F8",
           "linecolor": "#EBF0F8",
           "ticks": "",
           "title": {
            "standoff": 15
           },
           "zerolinecolor": "#EBF0F8",
           "zerolinewidth": 2
          },
          "yaxis": {
           "automargin": true,
           "gridcolor": "#EBF0F8",
           "linecolor": "#EBF0F8",
           "ticks": "",
           "title": {
            "standoff": 15
           },
           "zerolinecolor": "#EBF0F8",
           "zerolinewidth": 2
          }
         }
        },
        "updatemenus": [
         {
          "buttons": [
           {
            "args": [
             {
              "visible": [
               true,
               true,
               true,
               true,
               false,
               false,
               false,
               false,
               false,
               false,
               false,
               false,
               false,
               false,
               false,
               false,
               false,
               false,
               false,
               false,
               false,
               false,
               false,
               false,
               false,
               false,
               false,
               false,
               false,
               false,
               false,
               false
              ]
             }
            ],
            "label": "ID: 40",
            "method": "restyle"
           },
           {
            "args": [
             {
              "visible": [
               false,
               false,
               false,
               false,
               true,
               true,
               true,
               true,
               false,
               false,
               false,
               false,
               false,
               false,
               false,
               false,
               false,
               false,
               false,
               false,
               false,
               false,
               false,
               false,
               false,
               false,
               false,
               false,
               false,
               false,
               false,
               false
              ]
             }
            ],
            "label": "ID: 94",
            "method": "restyle"
           },
           {
            "args": [
             {
              "visible": [
               false,
               false,
               false,
               false,
               false,
               false,
               false,
               false,
               true,
               true,
               true,
               true,
               false,
               false,
               false,
               false,
               false,
               false,
               false,
               false,
               false,
               false,
               false,
               false,
               false,
               false,
               false,
               false,
               false,
               false,
               false,
               false
              ]
             }
            ],
            "label": "ID: 95",
            "method": "restyle"
           },
           {
            "args": [
             {
              "visible": [
               false,
               false,
               false,
               false,
               false,
               false,
               false,
               false,
               false,
               false,
               false,
               false,
               true,
               true,
               true,
               true,
               false,
               false,
               false,
               false,
               false,
               false,
               false,
               false,
               false,
               false,
               false,
               false,
               false,
               false,
               false,
               false
              ]
             }
            ],
            "label": "ID: 136",
            "method": "restyle"
           },
           {
            "args": [
             {
              "visible": [
               false,
               false,
               false,
               false,
               false,
               false,
               false,
               false,
               false,
               false,
               false,
               false,
               false,
               false,
               false,
               false,
               true,
               true,
               true,
               true,
               false,
               false,
               false,
               false,
               false,
               false,
               false,
               false,
               false,
               false,
               false,
               false
              ]
             }
            ],
            "label": "ID: 140",
            "method": "restyle"
           },
           {
            "args": [
             {
              "visible": [
               false,
               false,
               false,
               false,
               false,
               false,
               false,
               false,
               false,
               false,
               false,
               false,
               false,
               false,
               false,
               false,
               false,
               false,
               false,
               false,
               true,
               true,
               true,
               true,
               false,
               false,
               false,
               false,
               false,
               false,
               false,
               false
              ]
             }
            ],
            "label": "ID: 155",
            "method": "restyle"
           },
           {
            "args": [
             {
              "visible": [
               false,
               false,
               false,
               false,
               false,
               false,
               false,
               false,
               false,
               false,
               false,
               false,
               false,
               false,
               false,
               false,
               false,
               false,
               false,
               false,
               false,
               false,
               false,
               false,
               true,
               true,
               true,
               true,
               false,
               false,
               false,
               false
              ]
             }
            ],
            "label": "ID: 169",
            "method": "restyle"
           },
           {
            "args": [
             {
              "visible": [
               false,
               false,
               false,
               false,
               false,
               false,
               false,
               false,
               false,
               false,
               false,
               false,
               false,
               false,
               false,
               false,
               false,
               false,
               false,
               false,
               false,
               false,
               false,
               false,
               false,
               false,
               false,
               false,
               true,
               true,
               true,
               true
              ]
             }
            ],
            "label": "ID: 170",
            "method": "restyle"
           }
          ],
          "direction": "right",
          "pad": {
           "r": 0,
           "t": -10
          },
          "showactive": true,
          "type": "buttons",
          "x": 0,
          "xanchor": "left",
          "y": 1.1,
          "yanchor": "top"
         }
        ],
        "yaxis": {
         "title": {
          "text": "Estimates"
         }
        }
       }
      }
     },
     "metadata": {}
    }
   ],
   "source": [
    "#\n",
    "# Visualisation of the spread of optimised model parameters for multiple runs from different initial points.\n",
    "#\n",
    "# This cell needs the above optimised model parameters and their respective objective function scores, as well as the data\n",
    "# [mouse_parameters_multi_runs, mouse_scores_multi_runs, data]\n",
    "#\n",
    "\n",
    "import plotly.colors\n",
    "import plotly.graph_objects as go\n",
    "\n",
    "\n",
    "# Get mouse ids\n",
    "mouse_ids = data['#ID'].unique()\n",
    "\n",
    "# Get number of parameters + score (for visualisation)\n",
    "n_params = mouse_parameters_multi_runs.shape[2] + 1\n",
    "\n",
    "# Define colorscheme\n",
    "colors = plotly.colors.qualitative.Plotly[:n_params]\n",
    "\n",
    "# Get optimised parameter sets\n",
    "optimised_parameters =  mouse_parameters_multi_runs\n",
    "\n",
    "# Get scores for parameters\n",
    "scores = mouse_scores_multi_runs\n",
    "\n",
    "# Create figure\n",
    "fig = go.Figure()\n",
    "\n",
    "# Box plot of optimised model parameters\n",
    "for index, id_m in enumerate(mouse_ids):\n",
    "    # Get optimised parameters\n",
    "    parameters = optimised_parameters[index, ...]\n",
    "\n",
    "    # Get scores\n",
    "    score = scores[index, :]\n",
    "\n",
    "    # Create box plot of for initial tumour volume\n",
    "    fig.add_trace(\n",
    "        go.Box(\n",
    "            y=parameters[:, 0],  \n",
    "            name=\"Initial tumour volume in cm^3\",\n",
    "            boxpoints='all',\n",
    "            jitter=0.2,\n",
    "            pointpos=-1.5,\n",
    "            visible=True if index == 0 else False,\n",
    "            marker=dict(\n",
    "                symbol='circle',\n",
    "                opacity=0.7,\n",
    "                line=dict(color='black', width=1)),\n",
    "            marker_color=colors[0],\n",
    "            line_color=colors[0]))\n",
    "\n",
    "    # Create box plot of for exponential tumour growth\n",
    "    fig.add_trace(\n",
    "        go.Box(\n",
    "            y=parameters[:, 1],  \n",
    "            name=\"Exponential growth rate in 1/day\",\n",
    "            boxpoints='all',\n",
    "            jitter=0.2,\n",
    "            pointpos=-1.5,\n",
    "            visible=True if index == 0 else False,\n",
    "            marker=dict(\n",
    "                symbol='circle',\n",
    "                opacity=0.7,\n",
    "                line=dict(color='black', width=1)),\n",
    "            marker_color=colors[1],\n",
    "            line_color=colors[1]))\n",
    "\n",
    "    # Create box plot of for linear tumour growth\n",
    "    fig.add_trace(\n",
    "        go.Box(\n",
    "            y=parameters[:, 2],  \n",
    "            name=\"Linear growth rate in cm^3/day\",\n",
    "            boxpoints='all',\n",
    "            jitter=0.2,\n",
    "            pointpos=-1.5,\n",
    "            visible=True if index == 0 else False,\n",
    "            marker=dict(\n",
    "                symbol='circle',\n",
    "                opacity=0.7,\n",
    "                line=dict(color='black', width=1)),\n",
    "            marker_color=colors[2],\n",
    "            line_color=colors[2]))\n",
    "    \n",
    "    # Create box plot of for objective function score\n",
    "    fig.add_trace(\n",
    "        go.Box(\n",
    "            y=score,  \n",
    "            name=\"Score\",\n",
    "            boxpoints='all',\n",
    "            jitter=0.2,\n",
    "            pointpos=-1.5,\n",
    "            visible=True if index == 0 else False,\n",
    "            marker=dict(\n",
    "                symbol='circle',\n",
    "                opacity=0.7,\n",
    "                line=dict(color='black', width=1)),\n",
    "            marker_color=colors[3],\n",
    "            line_color=colors[3]))\n",
    "\n",
    "# Set figure size\n",
    "fig.update_layout(\n",
    "    autosize=True,\n",
    "    template=\"plotly_white\",\n",
    "    yaxis_title=\"Estimates\")\n",
    "\n",
    "# Add switch between mice\n",
    "fig.update_layout(\n",
    "    updatemenus=[\n",
    "        dict(\n",
    "            type = \"buttons\",\n",
    "            direction = \"right\",\n",
    "            buttons=list([\n",
    "                dict(\n",
    "                    args=[{\"visible\": [True]*4 + [False]*(4 * 7)}],\n",
    "                    label=\"ID: %d\" % mouse_ids[0],\n",
    "                    method=\"restyle\"\n",
    "                ),\n",
    "                dict(\n",
    "                    args=[{\"visible\": [False]*4 + [True]*4 + [False]*(4 * 6)}],\n",
    "                    label=\"ID: %d\" % mouse_ids[1],\n",
    "                    method=\"restyle\"\n",
    "                ),\n",
    "                dict(\n",
    "                    args=[{\"visible\": [False]*(4 * 2) + [True]*4 + [False]*(4 * 5)}],\n",
    "                    label=\"ID: %d\" % mouse_ids[2],\n",
    "                    method=\"restyle\"\n",
    "                ),\n",
    "                dict(\n",
    "                    args=[{\"visible\": [False]*(4 * 3) + [True]*4 + [False]*(4 * 4)}],\n",
    "                    label=\"ID: %d\" % mouse_ids[3],\n",
    "                    method=\"restyle\"\n",
    "                ),\n",
    "                dict(\n",
    "                    args=[{\"visible\": [False]*(4 * 4) + [True]*4 + [False]*(4 * 3)}],\n",
    "                    label=\"ID: %d\" % mouse_ids[4],\n",
    "                    method=\"restyle\"\n",
    "                ),\n",
    "                dict(\n",
    "                    args=[{\"visible\": [False]*(4 * 5) + [True]*4 + [False]*(4 * 2)}],\n",
    "                    label=\"ID: %d\" % mouse_ids[5],\n",
    "                    method=\"restyle\"\n",
    "                ),\n",
    "                dict(\n",
    "                    args=[{\"visible\": [False]*(4 * 6) + [True]*4 + [False]* 4}],\n",
    "                    label=\"ID: %d\" % mouse_ids[6],\n",
    "                    method=\"restyle\"\n",
    "                ),\n",
    "                dict(\n",
    "                    args=[{\"visible\": [False]*(4 * 7) + [True]*4}],\n",
    "                    label=\"ID: %d\" % mouse_ids[7],\n",
    "                    method=\"restyle\"\n",
    "                )\n",
    "            ]),\n",
    "            pad={\"r\": 0, \"t\": -10},\n",
    "            showactive=True,\n",
    "            x=0.0,\n",
    "            xanchor=\"left\",\n",
    "            y=1.1,\n",
    "            yanchor=\"top\"\n",
    "        )\n",
    "    ]\n",
    ")\n",
    "\n",
    "# Position legend\n",
    "fig.update_layout(legend=dict(\n",
    "    yanchor=\"bottom\",\n",
    "    y=0.01,\n",
    "    xanchor=\"left\",\n",
    "    x=1.05))\n",
    "\n",
    "# Show figure\n",
    "fig.show()\n"
   ]
  },
  {
   "cell_type": "markdown",
   "metadata": {},
   "source": [
    "**Figure 3 - Naïve optimisation:** Box plot of the structural model parameter estimates $\\hat \\psi $ (initial tumour volume $V_0$, exponential growth rate $\\lambda _0$, linear growth rate $\\lambda _1$) found by naïve optimisation of the squared distance between the predictions and the observations using a CMA-ES optimiser. For each individual the optimisation routine was run 10 times from a uniformly sampled starting point in $[10^{-3}, 10^3]$. In addition to the optimised parameters, also the distribution of the associated objective function scores is presented."
   ]
  },
  {
   "cell_type": "markdown",
   "metadata": {},
   "source": [
    "Running the same optimisation routine multiple times from varying starting points reveals that the CMA-ES optimiser does indeed not return the same \"optimal\" set of model parameters every time, see Figure 3. Especially the estimates for the exponential growth rate $\\lambda _0$ and the linear growth rate $\\lambda _1$ appear to vary significantly between optimisations for all individuals. This exercise highlights the importance of running optimisation routines multiple times to test their stability.\n",
    "\n",
    "The reasons why numerical optimisers, such as CMA-ES, may fail to produce the same estimates when running the optimisation routine multiple times from different starting points can be grouped into two categories: Limitations of the optimisation algorithm; and non-identifiability of the model.\n",
    "\n",
    "No numerical (\"black box\") optimiser can guarantee to find the global minimum of an objective function. That is because such optimisers try to find the smallest value of an objective function by repeatedly evaluating it at different points until an optimiser-specific convergence criterion is met. The point with the smallest objective function value is then returned as the minimum of the objective function. This illustrates a generic problem of numerical optimisation: No numerical optimiser globally explores the search space (numerically not feasible / impossible), but instead relies on good heuristics to suggest points for evaluation and to determine convergence. As a result, the performance of an optimiser strongly depends on whether those strategies are well suited for the objective function at hand. Fortunately there seem to be a number of strategies to generically improve the performance of optimisers, such as limiting the search space, non-dimensionalising the model, and log-transforming the model parameters. For more details on the pitfalls of optimisation routines, please have a look at the dedicated notebook, [Numerical Optimisation and its Pitfalls](https://nbviewer.jupyter.org/github/DavAug/ErlotinibGefitinib/blob/master/notebooks/inference_pitfalls/optimisation_pitfalls.ipynb).\n",
    "\n",
    "In addition, a model may not have a unique minimum in the search space. Such a model is said to be non-identifiable [6]. This occurs when either the model is redundantly parameterised (structural non-identifiability), or the predictions of the observed behaviour are not sensitive to a subset of the model parameters (practical non-identifiability). For more details on structural or practical identifiability, please have a look at the dedicated notebook,[Structural and Practical Identifiability Explained](https://nbviewer.jupyter.org/github/DavAug/ErlotinibGefitinib/blob/master/notebooks/inference_pitfalls/identifiability.ipynb)."
   ]
  },
  {
   "cell_type": "markdown",
   "metadata": {},
   "source": [
    "## Limiting the search space\n",
    "\n",
    "Figure 3 shows that naïvely minimising the squared distance between the model predictions and the observations does not lead to reliable parameter estimates. In particular, extremely large parameter estimates as well as negative values are not biologically feasible, and therefore are almost certainly artefacts of the numerical optimisation procedure. \n",
    "\n",
    "In fact, one can show that for large parameter magnitudes the optimiser fails to explore the parameter space meaningfully as differences in the objective function score are beyond numerical floating point accuracy. As a result, the CMA-ES optimiser is no longer able to detect a descend of the objective function in any direction and terminates prematurely. For more details please have a look at the dedicated notebook, [Numerical Optimisation and its Pitfalls](https://nbviewer.jupyter.org/github/DavAug/ErlotinibGefitinib/blob/master/notebooks/inference_pitfalls/optimisation_pitfalls.ipynb). In addition, negative parameter values may locally minimise the objective, but are biologically not feasible and should therefore be excluded from the search space.\n",
    "\n",
    "As a result, our first measure to stabilise the optimisation will be to limit the search space to biologically feasible parameter values. We choose to limit the model parameters to values in $[10^{-3}, 10^3]$. Those parameter ranges should be sufficient, unless we have chosen vastly inappropriate units for the model parameters."
   ]
  },
  {
   "cell_type": "code",
   "execution_count": 7,
   "metadata": {
    "tags": []
   },
   "outputs": [
    {
     "output_type": "display_data",
     "data": {
      "text/plain": "HBox(children=(FloatProgress(value=0.0, max=8.0), HTML(value='')))",
      "application/vnd.jupyter.widget-view+json": {
       "version_major": 2,
       "version_minor": 0,
       "model_id": "d05e8d822dc145698c216dd0e8b9e89f"
      }
     },
     "metadata": {}
    },
    {
     "output_type": "stream",
     "name": "stdout",
     "text": "\n"
    }
   ],
   "source": [
    "#\n",
    "# Run optimisation multiple times from random initial starting points. The search space is limited to [10^-3, 10^3].\n",
    "#\n",
    "# This cell needs above defined wrapped myokit model:\n",
    "# [PintsModel]\n",
    "#\n",
    "\n",
    "import os\n",
    "\n",
    "import myokit\n",
    "import numpy as np\n",
    "import pandas as pd\n",
    "import pints\n",
    "from tqdm.notebook import tqdm\n",
    "\n",
    "\n",
    "# Define number of optimisation runs for each individual\n",
    "n_runs = 10\n",
    "\n",
    "# Import data\n",
    "# Get path of current working directory\n",
    "path = os.getcwd()\n",
    "\n",
    "# Import LXF A677 control growth data\n",
    "data = pd.read_csv(path + '/data/lxf_control_growth.csv')\n",
    "n_mice = len(data['#ID'].unique())\n",
    "\n",
    "# Define container for the structural model estimates\n",
    "# Shape (n_mice, n_runs, n_parameters)\n",
    "n_parameters = 3\n",
    "mouse_parameters_constrained = np.empty(shape=(n_mice, n_runs, n_parameters))\n",
    "\n",
    "# Define container for the objective function score for the optimised parameters\n",
    "mouse_scores_constrained = np.empty(shape=(n_mice, n_runs))\n",
    "\n",
    "# Define random starting points over many orders of magnitude\n",
    "# Shape = (n_runs, n_parameters)\n",
    "initial_parameters = np.random.uniform(low=1E-3, high=1E3, size=(n_runs, n_parameters))\n",
    "\n",
    "# Find mouse parameters for LXF A677 population\n",
    "mouse_ids = data['#ID'].unique()\n",
    "for index, mouse_id in enumerate(tqdm(mouse_ids)):\n",
    "    # Create mask for mouse with specfied ID\n",
    "    mouse_mask = data['#ID'] == mouse_id\n",
    "\n",
    "    # Get relevant time points\n",
    "    times = data[mouse_mask]['TIME in day'].to_numpy()\n",
    "\n",
    "    # Get measured tumour volumes\n",
    "    observed_volumes = data[mouse_mask]['TUMOUR VOLUME in cm^3'].to_numpy()\n",
    "\n",
    "    # Create inverse problem\n",
    "    problem = pints.SingleOutputProblem(PintsModel(), times, observed_volumes)\n",
    "\n",
    "    # Create sum of squares error objective function\n",
    "    error = pints.SumOfSquaresError(problem)\n",
    "\n",
    "    # Create boundaries to biologically relevant values\n",
    "    boundary = pints.RectangularBoundaries(lower=[1E-3]*3, upper=[1E3]*3)\n",
    "\n",
    "    # Run optimisation multiple times\n",
    "    for run_id, initial_params in enumerate(initial_parameters):\n",
    "        # Create optimisation controller with a CMA-ES optimiser\n",
    "        optimiser = pints.OptimisationController(\n",
    "            function=error,\n",
    "            x0=initial_params,\n",
    "            boundaries=boundary,\n",
    "            method=pints.CMAES)\n",
    "\n",
    "        # Disable logging mode\n",
    "        optimiser.set_log_to_screen(False)\n",
    "\n",
    "        # Parallelise optimisation\n",
    "        optimiser.set_parallel(True)\n",
    "\n",
    "        # Find optimal parameters\n",
    "        try:\n",
    "            estimates, score = optimiser.run()\n",
    "        except:\n",
    "            # If inference breaks fill estimates with nan\n",
    "            estimates = np.array([np.nan, np.nan, np.nan])\n",
    "            score = np.nan\n",
    "\n",
    "        # Save estimates and score\n",
    "        mouse_parameters_constrained[index, run_id, :] = estimates\n",
    "        mouse_scores_constrained[index, run_id] = score"
   ]
  },
  {
   "cell_type": "code",
   "execution_count": 8,
   "metadata": {},
   "outputs": [
    {
     "output_type": "display_data",
     "data": {
      "application/vnd.plotly.v1+json": {
       "config": {
        "plotlyServerURL": "https://plot.ly"
       },
       "data": [
        {
         "boxpoints": "all",
         "jitter": 0.2,
         "line": {
          "color": "#636EFA"
         },
         "marker": {
          "color": "#636EFA",
          "line": {
           "color": "black",
           "width": 1
          },
          "opacity": 0.7,
          "symbol": "circle"
         },
         "name": "Initial tumour volume in cm^3",
         "pointpos": -1.5,
         "type": "box",
         "visible": true,
         "y": [
          0.13935644770626696,
          0.03673253139747102,
          0.13932337001343165,
          0.036734096708987404,
          0.13918643332089128,
          0.13771800514812826,
          0.1373492119429696,
          0.13771720653858355,
          0.1393235347564593,
          0.13731867399818992
         ]
        },
        {
         "boxpoints": "all",
         "jitter": 0.2,
         "line": {
          "color": "#EF553B"
         },
         "marker": {
          "color": "#EF553B",
          "line": {
           "color": "black",
           "width": 1
          },
          "opacity": 0.7,
          "symbol": "circle"
         },
         "name": "Exponential growth rate in 1/day",
         "pointpos": -1.5,
         "type": "box",
         "visible": true,
         "y": [
          0.2752759450340818,
          175.97582899979096,
          0.27541144912883286,
          175.98468815987954,
          0.27559581935217164,
          0.28495296339102116,
          0.27869620753827684,
          0.2849543552549596,
          0.27541116859417747,
          0.2838695164428264
         ]
        },
        {
         "boxpoints": "all",
         "jitter": 0.2,
         "line": {
          "color": "#00CC96"
         },
         "marker": {
          "color": "#00CC96",
          "line": {
           "color": "black",
           "width": 1
          },
          "opacity": 0.7,
          "symbol": "circle"
         },
         "name": "Linear growth rate in cm^3/day",
         "pointpos": -1.5,
         "type": "box",
         "visible": true,
         "y": [
          0.13093908382591884,
          0.1008400319325217,
          0.1309688063170395,
          0.10083983958269388,
          0.13093824173120083,
          0.12961973886566583,
          0.1307198780679111,
          0.129619631871346,
          0.13096882493257544,
          0.12996422521700693
         ]
        },
        {
         "boxpoints": "all",
         "jitter": 0.2,
         "line": {
          "color": "#AB63FA"
         },
         "marker": {
          "color": "#AB63FA",
          "line": {
           "color": "black",
           "width": 1
          },
          "opacity": 0.7,
          "symbol": "circle"
         },
         "name": "Score",
         "pointpos": -1.5,
         "type": "box",
         "visible": true,
         "y": [
          0.031861508314297265,
          0.06876017413634136,
          0.03186018809106756,
          0.06876017423728358,
          0.03186087881885197,
          0.03190273165992866,
          0.03188261855800057,
          0.03190273165741597,
          0.03186018809022124,
          0.031904047234738914
         ]
        },
        {
         "boxpoints": "all",
         "jitter": 0.2,
         "line": {
          "color": "#636EFA"
         },
         "marker": {
          "color": "#636EFA",
          "line": {
           "color": "black",
           "width": 1
          },
          "opacity": 0.7,
          "symbol": "circle"
         },
         "name": "Initial tumour volume in cm^3",
         "pointpos": -1.5,
         "type": "box",
         "visible": false,
         "y": [
          0.05752673467874042,
          0.05751976969571575,
          0.05754181213709,
          0.05752671842205295,
          0.057522139455587984,
          0.07455448513760718,
          0.07461488447915587,
          0.07443717450517529,
          0.05752670772636703,
          0.07464178879580698
         ]
        },
        {
         "boxpoints": "all",
         "jitter": 0.2,
         "line": {
          "color": "#EF553B"
         },
         "marker": {
          "color": "#EF553B",
          "line": {
           "color": "black",
           "width": 1
          },
          "opacity": 0.7,
          "symbol": "circle"
         },
         "name": "Exponential growth rate in 1/day",
         "pointpos": -1.5,
         "type": "box",
         "visible": false,
         "y": [
          390.8478380184453,
          371.45527078961936,
          173.33039716947832,
          390.8479625658102,
          999.9999997261242,
          0.16791172982428487,
          0.1677296700728203,
          0.16939958507896347,
          390.8480478952818,
          0.1676428668984925
         ]
        },
        {
         "boxpoints": "all",
         "jitter": 0.2,
         "line": {
          "color": "#00CC96"
         },
         "marker": {
          "color": "#00CC96",
          "line": {
           "color": "black",
           "width": 1
          },
          "opacity": 0.7,
          "symbol": "circle"
         },
         "name": "Linear growth rate in cm^3/day",
         "pointpos": -1.5,
         "type": "box",
         "visible": false,
         "y": [
          0.016439696847198856,
          0.016440468115467042,
          0.016441170832382092,
          0.016439698252548415,
          0.01643852799286386,
          0.020313884784453642,
          0.020308279240574725,
          0.02027456036727191,
          0.016439699089277456,
          0.02030461278667185
         ]
        },
        {
         "boxpoints": "all",
         "jitter": 0.2,
         "line": {
          "color": "#AB63FA"
         },
         "marker": {
          "color": "#AB63FA",
          "line": {
           "color": "black",
           "width": 1
          },
          "opacity": 0.7,
          "symbol": "circle"
         },
         "name": "Score",
         "pointpos": -1.5,
         "type": "box",
         "visible": false,
         "y": [
          0.008274291669379343,
          0.008274380260211968,
          0.008273018389448134,
          0.008274291669379409,
          0.008274993986062374,
          0.007448217819762981,
          0.007448517553052905,
          0.007448563913365032,
          0.008274291669385859,
          0.0074486450007509985
         ]
        },
        {
         "boxpoints": "all",
         "jitter": 0.2,
         "line": {
          "color": "#636EFA"
         },
         "marker": {
          "color": "#636EFA",
          "line": {
           "color": "black",
           "width": 1
          },
          "opacity": 0.7,
          "symbol": "circle"
         },
         "name": "Initial tumour volume in cm^3",
         "pointpos": -1.5,
         "type": "box",
         "visible": false,
         "y": [
          0.0010031815541817887,
          0.221069143321661,
          0.001261913328112759,
          0.0014972904140112,
          0.22106914701378122,
          0.0010389017922341256,
          0.0010694262102919848,
          0.2210691395087731,
          0.0010311526670897886,
          0.00100000006080851
         ]
        },
        {
         "boxpoints": "all",
         "jitter": 0.2,
         "line": {
          "color": "#EF553B"
         },
         "marker": {
          "color": "#EF553B",
          "line": {
           "color": "black",
           "width": 1
          },
          "opacity": 0.7,
          "symbol": "circle"
         },
         "name": "Exponential growth rate in 1/day",
         "pointpos": -1.5,
         "type": "box",
         "visible": false,
         "y": [
          87.24201007746896,
          0.05553423884717487,
          611.5395270451155,
          806.2820359569497,
          0.05553423850748879,
          375.4217422701425,
          440.4121830055983,
          0.055534239812352705,
          679.3948246864807,
          765.6024353361742
         ]
        },
        {
         "boxpoints": "all",
         "jitter": 0.2,
         "line": {
          "color": "#00CC96"
         },
         "marker": {
          "color": "#00CC96",
          "line": {
           "color": "black",
           "width": 1
          },
          "opacity": 0.7,
          "symbol": "circle"
         },
         "name": "Linear growth rate in cm^3/day",
         "pointpos": -1.5,
         "type": "box",
         "visible": false,
         "y": [
          0.08863400283665719,
          999.9999999405296,
          0.08843767336348773,
          0.08833995733144344,
          999.9999999991854,
          0.08840305742892601,
          0.08846681444487262,
          999.9999999843633,
          0.08836961474446847,
          0.08836833233673758
         ]
        },
        {
         "boxpoints": "all",
         "jitter": 0.2,
         "line": {
          "color": "#AB63FA"
         },
         "marker": {
          "color": "#AB63FA",
          "line": {
           "color": "black",
           "width": 1
          },
          "opacity": 0.7,
          "symbol": "circle"
         },
         "name": "Score",
         "pointpos": -1.5,
         "type": "box",
         "visible": false,
         "y": [
          0.535885625200263,
          0.09931836749903664,
          0.5375593613226752,
          0.5374000484399182,
          0.09931836749903389,
          0.5374201238737888,
          0.5375391868466572,
          0.09931836749903482,
          0.5371735559944361,
          0.5376980394382805
         ]
        },
        {
         "boxpoints": "all",
         "jitter": 0.2,
         "line": {
          "color": "#636EFA"
         },
         "marker": {
          "color": "#636EFA",
          "line": {
           "color": "black",
           "width": 1
          },
          "opacity": 0.7,
          "symbol": "circle"
         },
         "name": "Initial tumour volume in cm^3",
         "pointpos": -1.5,
         "type": "box",
         "visible": false,
         "y": [
          0.14903258274593192,
          0.01855484637863466,
          0.019026662790240317,
          0.14894802210378444,
          0.1481921159738814,
          0.01965651093028261,
          0.018294175700319396,
          0.01829420221526815,
          0.14902292054811841,
          0.14883931098808548
         ]
        },
        {
         "boxpoints": "all",
         "jitter": 0.2,
         "line": {
          "color": "#EF553B"
         },
         "marker": {
          "color": "#EF553B",
          "line": {
           "color": "black",
           "width": 1
          },
          "opacity": 0.7,
          "symbol": "circle"
         },
         "name": "Exponential growth rate in 1/day",
         "pointpos": -1.5,
         "type": "box",
         "visible": false,
         "y": [
          0.05425206673265299,
          316.0601874851589,
          146.84680356701801,
          0.05427176125321583,
          0.0547677726166413,
          26.30570627444398,
          717.0392536102653,
          717.0382755623881,
          0.054255427466159745,
          0.054623926109601484
         ]
        },
        {
         "boxpoints": "all",
         "jitter": 0.2,
         "line": {
          "color": "#00CC96"
         },
         "marker": {
          "color": "#00CC96",
          "line": {
           "color": "black",
           "width": 1
          },
          "opacity": 0.7,
          "symbol": "circle"
         },
         "name": "Linear growth rate in cm^3/day",
         "pointpos": -1.5,
         "type": "box",
         "visible": false,
         "y": [
          0.12881406023159514,
          0.04080869202631855,
          0.04079373045224965,
          0.1287903773003147,
          0.12676344162117217,
          0.04088517257035622,
          0.04081428329777957,
          0.0408142851348256,
          0.12881465464643843,
          0.1269689652143405
         ]
        },
        {
         "boxpoints": "all",
         "jitter": 0.2,
         "line": {
          "color": "#AB63FA"
         },
         "marker": {
          "color": "#AB63FA",
          "line": {
           "color": "black",
           "width": 1
          },
          "opacity": 0.7,
          "symbol": "circle"
         },
         "name": "Score",
         "pointpos": -1.5,
         "type": "box",
         "visible": false,
         "y": [
          0.04018450344753188,
          0.1093762978025335,
          0.10929899682876294,
          0.04018478272015993,
          0.04018108195349569,
          0.10879403838562916,
          0.10940559023059651,
          0.10940559023035432,
          0.040184666880866936,
          0.04018301363608164
         ]
        },
        {
         "boxpoints": "all",
         "jitter": 0.2,
         "line": {
          "color": "#636EFA"
         },
         "marker": {
          "color": "#636EFA",
          "line": {
           "color": "black",
           "width": 1
          },
          "opacity": 0.7,
          "symbol": "circle"
         },
         "name": "Initial tumour volume in cm^3",
         "pointpos": -1.5,
         "type": "box",
         "visible": false,
         "y": [
          0.0010000000109421443,
          0.001000181768304167,
          0.0010036649106375782,
          0.0010000000021638809,
          0.0010000000387442314,
          0.08430036105327023,
          0.0010000000000409436,
          0.001115777756108929,
          0.001000000000004111,
          0.0010000000046161619
         ]
        },
        {
         "boxpoints": "all",
         "jitter": 0.2,
         "line": {
          "color": "#EF553B"
         },
         "marker": {
          "color": "#EF553B",
          "line": {
           "color": "black",
           "width": 1
          },
          "opacity": 0.7,
          "symbol": "circle"
         },
         "name": "Exponential growth rate in 1/day",
         "pointpos": -1.5,
         "type": "box",
         "visible": false,
         "y": [
          716.9461055742107,
          428.0670102596283,
          110.49001156283049,
          957.5283853652764,
          935.562076731595,
          0.05412914665921356,
          587.9096991454221,
          866.3445327150913,
          440.7502222175727,
          957.5291269930309
         ]
        },
        {
         "boxpoints": "all",
         "jitter": 0.2,
         "line": {
          "color": "#00CC96"
         },
         "marker": {
          "color": "#00CC96",
          "line": {
           "color": "black",
           "width": 1
          },
          "opacity": 0.7,
          "symbol": "circle"
         },
         "name": "Linear growth rate in cm^3/day",
         "pointpos": -1.5,
         "type": "box",
         "visible": false,
         "y": [
          0.050094952357915425,
          0.05008856810868469,
          0.05015594377953364,
          0.050090647206807705,
          0.050090660066411274,
          999.999999797092,
          0.050097373609037855,
          0.05005013838851546,
          0.0501016619481964,
          0.0500906826806556
         ]
        },
        {
         "boxpoints": "all",
         "jitter": 0.2,
         "line": {
          "color": "#AB63FA"
         },
         "marker": {
          "color": "#AB63FA",
          "line": {
           "color": "black",
           "width": 1
          },
          "opacity": 0.7,
          "symbol": "circle"
         },
         "name": "Score",
         "pointpos": -1.5,
         "type": "box",
         "visible": false,
         "y": [
          1.2719566911264795,
          1.2714367491778051,
          1.268994540764524,
          1.2720681197367845,
          1.2720651550712074,
          0.14589083590908278,
          1.2718869510002087,
          1.2717248785711035,
          1.2717629342432974,
          1.2720681197749766
         ]
        },
        {
         "boxpoints": "all",
         "jitter": 0.2,
         "line": {
          "color": "#636EFA"
         },
         "marker": {
          "color": "#636EFA",
          "line": {
           "color": "black",
           "width": 1
          },
          "opacity": 0.7,
          "symbol": "circle"
         },
         "name": "Initial tumour volume in cm^3",
         "pointpos": -1.5,
         "type": "box",
         "visible": false,
         "y": [
          0.007577606370635099,
          0.007227784467322356,
          0.0030746184837985124,
          0.007047979730954857,
          0.008322244739235747,
          0.0069075009500508084,
          0.00797918886634461,
          0.010194238511264376,
          0.13327419807092156,
          0.008006047833027578
         ]
        },
        {
         "boxpoints": "all",
         "jitter": 0.2,
         "line": {
          "color": "#EF553B"
         },
         "marker": {
          "color": "#EF553B",
          "line": {
           "color": "black",
           "width": 1
          },
          "opacity": 0.7,
          "symbol": "circle"
         },
         "name": "Exponential growth rate in 1/day",
         "pointpos": -1.5,
         "type": "box",
         "visible": false,
         "y": [
          808.7935233207435,
          156.04647024720646,
          581.9802550068351,
          98.03871151296323,
          733.0044524062668,
          161.0550995247856,
          764.8733083991851,
          518.0627519488667,
          0.1973594834225878,
          767.4049273524846
         ]
        },
        {
         "boxpoints": "all",
         "jitter": 0.2,
         "line": {
          "color": "#00CC96"
         },
         "marker": {
          "color": "#00CC96",
          "line": {
           "color": "black",
           "width": 1
          },
          "opacity": 0.7,
          "symbol": "circle"
         },
         "name": "Linear growth rate in cm^3/day",
         "pointpos": -1.5,
         "type": "box",
         "visible": false,
         "y": [
          0.08035865457245905,
          0.08044680875380365,
          0.08050615216056717,
          0.08047775276574543,
          0.08028866032313758,
          0.08044968275047942,
          0.08027439576250564,
          0.08021109562141684,
          0.10853691783758512,
          0.08031536658824631
         ]
        },
        {
         "boxpoints": "all",
         "jitter": 0.2,
         "line": {
          "color": "#AB63FA"
         },
         "marker": {
          "color": "#AB63FA",
          "line": {
           "color": "black",
           "width": 1
          },
          "opacity": 0.7,
          "symbol": "circle"
         },
         "name": "Score",
         "pointpos": -1.5,
         "type": "box",
         "visible": false,
         "y": [
          0.2920173331932546,
          0.29157841808013235,
          0.29199217296007146,
          0.29143756983037483,
          0.29202942643716123,
          0.2915482204694627,
          0.2920275210175959,
          0.2919963832015098,
          0.25885734650670694,
          0.29202222899147623
         ]
        },
        {
         "boxpoints": "all",
         "jitter": 0.2,
         "line": {
          "color": "#636EFA"
         },
         "marker": {
          "color": "#636EFA",
          "line": {
           "color": "black",
           "width": 1
          },
          "opacity": 0.7,
          "symbol": "circle"
         },
         "name": "Initial tumour volume in cm^3",
         "pointpos": -1.5,
         "type": "box",
         "visible": false,
         "y": [
          0.06622301360779499,
          0.12332979981414774,
          0.1233297913452012,
          0.12332980418744882,
          0.12332985580398802,
          0.12332978669846698,
          0.123329801512053,
          0.06622617753031404,
          0.12332984537060951,
          0.06622620132417027
         ]
        },
        {
         "boxpoints": "all",
         "jitter": 0.2,
         "line": {
          "color": "#EF553B"
         },
         "marker": {
          "color": "#EF553B",
          "line": {
           "color": "black",
           "width": 1
          },
          "opacity": 0.7,
          "symbol": "circle"
         },
         "name": "Exponential growth rate in 1/day",
         "pointpos": -1.5,
         "type": "box",
         "visible": false,
         "y": [
          373.252867228468,
          0.043521168857191525,
          0.04352116938307952,
          0.04352116628312118,
          0.04352115004126973,
          0.043521173268197745,
          0.04352116909809949,
          448.0140340889502,
          0.04352115378798511,
          448.0138495248442
         ]
        },
        {
         "boxpoints": "all",
         "jitter": 0.2,
         "line": {
          "color": "#00CC96"
         },
         "marker": {
          "color": "#00CC96",
          "line": {
           "color": "black",
           "width": 1
          },
          "opacity": 0.7,
          "symbol": "circle"
         },
         "name": "Linear growth rate in cm^3/day",
         "pointpos": -1.5,
         "type": "box",
         "visible": false,
         "y": [
          0.021298730228700657,
          0.07139562095914193,
          0.07139561708212044,
          0.07139561921328484,
          0.07139562152181503,
          0.07139562078436493,
          0.07139562231712704,
          0.02129779944105336,
          0.07139562180304476,
          0.02129779585459765
         ]
        },
        {
         "boxpoints": "all",
         "jitter": 0.2,
         "line": {
          "color": "#AB63FA"
         },
         "marker": {
          "color": "#AB63FA",
          "line": {
           "color": "black",
           "width": 1
          },
          "opacity": 0.7,
          "symbol": "circle"
         },
         "name": "Score",
         "pointpos": -1.5,
         "type": "box",
         "visible": false,
         "y": [
          0.018941496052006915,
          0.0029160191458222477,
          0.002916019145811035,
          0.002916019145825538,
          0.002916019145885549,
          0.0029160191458383316,
          0.0029160191457789733,
          0.018940825435112888,
          0.002916019145821876,
          0.018940825435286458
         ]
        },
        {
         "boxpoints": "all",
         "jitter": 0.2,
         "line": {
          "color": "#636EFA"
         },
         "marker": {
          "color": "#636EFA",
          "line": {
           "color": "black",
           "width": 1
          },
          "opacity": 0.7,
          "symbol": "circle"
         },
         "name": "Initial tumour volume in cm^3",
         "pointpos": -1.5,
         "type": "box",
         "visible": false,
         "y": [
          0.08704782481258239,
          0.08710915089067617,
          0.0870010275022933,
          0.08704782634713223,
          0.026939317573903398,
          0.08704783801889292,
          0.08704781933730829,
          0.08706569637472811,
          0.08704781512506088,
          0.026960684910487538
         ]
        },
        {
         "boxpoints": "all",
         "jitter": 0.2,
         "line": {
          "color": "#EF553B"
         },
         "marker": {
          "color": "#EF553B",
          "line": {
           "color": "black",
           "width": 1
          },
          "opacity": 0.7,
          "symbol": "circle"
         },
         "name": "Exponential growth rate in 1/day",
         "pointpos": -1.5,
         "type": "box",
         "visible": false,
         "y": [
          0.03617215822027036,
          0.03611834297791657,
          0.036187063988646406,
          0.03617215646704943,
          830.5888680938094,
          0.036172153232822656,
          0.03617215680784908,
          0.036166987013989904,
          0.036172158661343864,
          382.67922296156934
         ]
        },
        {
         "boxpoints": "all",
         "jitter": 0.2,
         "line": {
          "color": "#00CC96"
         },
         "marker": {
          "color": "#00CC96",
          "line": {
           "color": "black",
           "width": 1
          },
          "opacity": 0.7,
          "symbol": "circle"
         },
         "name": "Linear growth rate in cm^3/day",
         "pointpos": -1.5,
         "type": "box",
         "visible": false,
         "y": [
          0.1932584173550777,
          0.19534756557600882,
          0.1930180642958238,
          0.19325841083597722,
          0.017329879357892757,
          0.19325841891711248,
          0.19325839790671806,
          0.19324078319067903,
          0.19325839855045815,
          0.017330211013457657
         ]
        },
        {
         "boxpoints": "all",
         "jitter": 0.2,
         "line": {
          "color": "#AB63FA"
         },
         "marker": {
          "color": "#AB63FA",
          "line": {
           "color": "black",
           "width": 1
          },
          "opacity": 0.7,
          "symbol": "circle"
         },
         "name": "Score",
         "pointpos": -1.5,
         "type": "box",
         "visible": false,
         "y": [
          0.002315593340792064,
          0.0023157352352742664,
          0.0023156306817095815,
          0.0023155933407829968,
          0.02287048849422143,
          0.0023155933407852294,
          0.002315593340783704,
          0.002315601038564744,
          0.002315593340781322,
          0.022865785631044255
         ]
        }
       ],
       "layout": {
        "autosize": true,
        "legend": {
         "x": 1.05,
         "xanchor": "left",
         "y": 0.01,
         "yanchor": "bottom"
        },
        "template": {
         "data": {
          "bar": [
           {
            "error_x": {
             "color": "#2a3f5f"
            },
            "error_y": {
             "color": "#2a3f5f"
            },
            "marker": {
             "line": {
              "color": "white",
              "width": 0.5
             }
            },
            "type": "bar"
           }
          ],
          "barpolar": [
           {
            "marker": {
             "line": {
              "color": "white",
              "width": 0.5
             }
            },
            "type": "barpolar"
           }
          ],
          "carpet": [
           {
            "aaxis": {
             "endlinecolor": "#2a3f5f",
             "gridcolor": "#C8D4E3",
             "linecolor": "#C8D4E3",
             "minorgridcolor": "#C8D4E3",
             "startlinecolor": "#2a3f5f"
            },
            "baxis": {
             "endlinecolor": "#2a3f5f",
             "gridcolor": "#C8D4E3",
             "linecolor": "#C8D4E3",
             "minorgridcolor": "#C8D4E3",
             "startlinecolor": "#2a3f5f"
            },
            "type": "carpet"
           }
          ],
          "choropleth": [
           {
            "colorbar": {
             "outlinewidth": 0,
             "ticks": ""
            },
            "type": "choropleth"
           }
          ],
          "contour": [
           {
            "colorbar": {
             "outlinewidth": 0,
             "ticks": ""
            },
            "colorscale": [
             [
              0,
              "#0d0887"
             ],
             [
              0.1111111111111111,
              "#46039f"
             ],
             [
              0.2222222222222222,
              "#7201a8"
             ],
             [
              0.3333333333333333,
              "#9c179e"
             ],
             [
              0.4444444444444444,
              "#bd3786"
             ],
             [
              0.5555555555555556,
              "#d8576b"
             ],
             [
              0.6666666666666666,
              "#ed7953"
             ],
             [
              0.7777777777777778,
              "#fb9f3a"
             ],
             [
              0.8888888888888888,
              "#fdca26"
             ],
             [
              1,
              "#f0f921"
             ]
            ],
            "type": "contour"
           }
          ],
          "contourcarpet": [
           {
            "colorbar": {
             "outlinewidth": 0,
             "ticks": ""
            },
            "type": "contourcarpet"
           }
          ],
          "heatmap": [
           {
            "colorbar": {
             "outlinewidth": 0,
             "ticks": ""
            },
            "colorscale": [
             [
              0,
              "#0d0887"
             ],
             [
              0.1111111111111111,
              "#46039f"
             ],
             [
              0.2222222222222222,
              "#7201a8"
             ],
             [
              0.3333333333333333,
              "#9c179e"
             ],
             [
              0.4444444444444444,
              "#bd3786"
             ],
             [
              0.5555555555555556,
              "#d8576b"
             ],
             [
              0.6666666666666666,
              "#ed7953"
             ],
             [
              0.7777777777777778,
              "#fb9f3a"
             ],
             [
              0.8888888888888888,
              "#fdca26"
             ],
             [
              1,
              "#f0f921"
             ]
            ],
            "type": "heatmap"
           }
          ],
          "heatmapgl": [
           {
            "colorbar": {
             "outlinewidth": 0,
             "ticks": ""
            },
            "colorscale": [
             [
              0,
              "#0d0887"
             ],
             [
              0.1111111111111111,
              "#46039f"
             ],
             [
              0.2222222222222222,
              "#7201a8"
             ],
             [
              0.3333333333333333,
              "#9c179e"
             ],
             [
              0.4444444444444444,
              "#bd3786"
             ],
             [
              0.5555555555555556,
              "#d8576b"
             ],
             [
              0.6666666666666666,
              "#ed7953"
             ],
             [
              0.7777777777777778,
              "#fb9f3a"
             ],
             [
              0.8888888888888888,
              "#fdca26"
             ],
             [
              1,
              "#f0f921"
             ]
            ],
            "type": "heatmapgl"
           }
          ],
          "histogram": [
           {
            "marker": {
             "colorbar": {
              "outlinewidth": 0,
              "ticks": ""
             }
            },
            "type": "histogram"
           }
          ],
          "histogram2d": [
           {
            "colorbar": {
             "outlinewidth": 0,
             "ticks": ""
            },
            "colorscale": [
             [
              0,
              "#0d0887"
             ],
             [
              0.1111111111111111,
              "#46039f"
             ],
             [
              0.2222222222222222,
              "#7201a8"
             ],
             [
              0.3333333333333333,
              "#9c179e"
             ],
             [
              0.4444444444444444,
              "#bd3786"
             ],
             [
              0.5555555555555556,
              "#d8576b"
             ],
             [
              0.6666666666666666,
              "#ed7953"
             ],
             [
              0.7777777777777778,
              "#fb9f3a"
             ],
             [
              0.8888888888888888,
              "#fdca26"
             ],
             [
              1,
              "#f0f921"
             ]
            ],
            "type": "histogram2d"
           }
          ],
          "histogram2dcontour": [
           {
            "colorbar": {
             "outlinewidth": 0,
             "ticks": ""
            },
            "colorscale": [
             [
              0,
              "#0d0887"
             ],
             [
              0.1111111111111111,
              "#46039f"
             ],
             [
              0.2222222222222222,
              "#7201a8"
             ],
             [
              0.3333333333333333,
              "#9c179e"
             ],
             [
              0.4444444444444444,
              "#bd3786"
             ],
             [
              0.5555555555555556,
              "#d8576b"
             ],
             [
              0.6666666666666666,
              "#ed7953"
             ],
             [
              0.7777777777777778,
              "#fb9f3a"
             ],
             [
              0.8888888888888888,
              "#fdca26"
             ],
             [
              1,
              "#f0f921"
             ]
            ],
            "type": "histogram2dcontour"
           }
          ],
          "mesh3d": [
           {
            "colorbar": {
             "outlinewidth": 0,
             "ticks": ""
            },
            "type": "mesh3d"
           }
          ],
          "parcoords": [
           {
            "line": {
             "colorbar": {
              "outlinewidth": 0,
              "ticks": ""
             }
            },
            "type": "parcoords"
           }
          ],
          "pie": [
           {
            "automargin": true,
            "type": "pie"
           }
          ],
          "scatter": [
           {
            "marker": {
             "colorbar": {
              "outlinewidth": 0,
              "ticks": ""
             }
            },
            "type": "scatter"
           }
          ],
          "scatter3d": [
           {
            "line": {
             "colorbar": {
              "outlinewidth": 0,
              "ticks": ""
             }
            },
            "marker": {
             "colorbar": {
              "outlinewidth": 0,
              "ticks": ""
             }
            },
            "type": "scatter3d"
           }
          ],
          "scattercarpet": [
           {
            "marker": {
             "colorbar": {
              "outlinewidth": 0,
              "ticks": ""
             }
            },
            "type": "scattercarpet"
           }
          ],
          "scattergeo": [
           {
            "marker": {
             "colorbar": {
              "outlinewidth": 0,
              "ticks": ""
             }
            },
            "type": "scattergeo"
           }
          ],
          "scattergl": [
           {
            "marker": {
             "colorbar": {
              "outlinewidth": 0,
              "ticks": ""
             }
            },
            "type": "scattergl"
           }
          ],
          "scattermapbox": [
           {
            "marker": {
             "colorbar": {
              "outlinewidth": 0,
              "ticks": ""
             }
            },
            "type": "scattermapbox"
           }
          ],
          "scatterpolar": [
           {
            "marker": {
             "colorbar": {
              "outlinewidth": 0,
              "ticks": ""
             }
            },
            "type": "scatterpolar"
           }
          ],
          "scatterpolargl": [
           {
            "marker": {
             "colorbar": {
              "outlinewidth": 0,
              "ticks": ""
             }
            },
            "type": "scatterpolargl"
           }
          ],
          "scatterternary": [
           {
            "marker": {
             "colorbar": {
              "outlinewidth": 0,
              "ticks": ""
             }
            },
            "type": "scatterternary"
           }
          ],
          "surface": [
           {
            "colorbar": {
             "outlinewidth": 0,
             "ticks": ""
            },
            "colorscale": [
             [
              0,
              "#0d0887"
             ],
             [
              0.1111111111111111,
              "#46039f"
             ],
             [
              0.2222222222222222,
              "#7201a8"
             ],
             [
              0.3333333333333333,
              "#9c179e"
             ],
             [
              0.4444444444444444,
              "#bd3786"
             ],
             [
              0.5555555555555556,
              "#d8576b"
             ],
             [
              0.6666666666666666,
              "#ed7953"
             ],
             [
              0.7777777777777778,
              "#fb9f3a"
             ],
             [
              0.8888888888888888,
              "#fdca26"
             ],
             [
              1,
              "#f0f921"
             ]
            ],
            "type": "surface"
           }
          ],
          "table": [
           {
            "cells": {
             "fill": {
              "color": "#EBF0F8"
             },
             "line": {
              "color": "white"
             }
            },
            "header": {
             "fill": {
              "color": "#C8D4E3"
             },
             "line": {
              "color": "white"
             }
            },
            "type": "table"
           }
          ]
         },
         "layout": {
          "annotationdefaults": {
           "arrowcolor": "#2a3f5f",
           "arrowhead": 0,
           "arrowwidth": 1
          },
          "coloraxis": {
           "colorbar": {
            "outlinewidth": 0,
            "ticks": ""
           }
          },
          "colorscale": {
           "diverging": [
            [
             0,
             "#8e0152"
            ],
            [
             0.1,
             "#c51b7d"
            ],
            [
             0.2,
             "#de77ae"
            ],
            [
             0.3,
             "#f1b6da"
            ],
            [
             0.4,
             "#fde0ef"
            ],
            [
             0.5,
             "#f7f7f7"
            ],
            [
             0.6,
             "#e6f5d0"
            ],
            [
             0.7,
             "#b8e186"
            ],
            [
             0.8,
             "#7fbc41"
            ],
            [
             0.9,
             "#4d9221"
            ],
            [
             1,
             "#276419"
            ]
           ],
           "sequential": [
            [
             0,
             "#0d0887"
            ],
            [
             0.1111111111111111,
             "#46039f"
            ],
            [
             0.2222222222222222,
             "#7201a8"
            ],
            [
             0.3333333333333333,
             "#9c179e"
            ],
            [
             0.4444444444444444,
             "#bd3786"
            ],
            [
             0.5555555555555556,
             "#d8576b"
            ],
            [
             0.6666666666666666,
             "#ed7953"
            ],
            [
             0.7777777777777778,
             "#fb9f3a"
            ],
            [
             0.8888888888888888,
             "#fdca26"
            ],
            [
             1,
             "#f0f921"
            ]
           ],
           "sequentialminus": [
            [
             0,
             "#0d0887"
            ],
            [
             0.1111111111111111,
             "#46039f"
            ],
            [
             0.2222222222222222,
             "#7201a8"
            ],
            [
             0.3333333333333333,
             "#9c179e"
            ],
            [
             0.4444444444444444,
             "#bd3786"
            ],
            [
             0.5555555555555556,
             "#d8576b"
            ],
            [
             0.6666666666666666,
             "#ed7953"
            ],
            [
             0.7777777777777778,
             "#fb9f3a"
            ],
            [
             0.8888888888888888,
             "#fdca26"
            ],
            [
             1,
             "#f0f921"
            ]
           ]
          },
          "colorway": [
           "#636efa",
           "#EF553B",
           "#00cc96",
           "#ab63fa",
           "#FFA15A",
           "#19d3f3",
           "#FF6692",
           "#B6E880",
           "#FF97FF",
           "#FECB52"
          ],
          "font": {
           "color": "#2a3f5f"
          },
          "geo": {
           "bgcolor": "white",
           "lakecolor": "white",
           "landcolor": "white",
           "showlakes": true,
           "showland": true,
           "subunitcolor": "#C8D4E3"
          },
          "hoverlabel": {
           "align": "left"
          },
          "hovermode": "closest",
          "mapbox": {
           "style": "light"
          },
          "paper_bgcolor": "white",
          "plot_bgcolor": "white",
          "polar": {
           "angularaxis": {
            "gridcolor": "#EBF0F8",
            "linecolor": "#EBF0F8",
            "ticks": ""
           },
           "bgcolor": "white",
           "radialaxis": {
            "gridcolor": "#EBF0F8",
            "linecolor": "#EBF0F8",
            "ticks": ""
           }
          },
          "scene": {
           "xaxis": {
            "backgroundcolor": "white",
            "gridcolor": "#DFE8F3",
            "gridwidth": 2,
            "linecolor": "#EBF0F8",
            "showbackground": true,
            "ticks": "",
            "zerolinecolor": "#EBF0F8"
           },
           "yaxis": {
            "backgroundcolor": "white",
            "gridcolor": "#DFE8F3",
            "gridwidth": 2,
            "linecolor": "#EBF0F8",
            "showbackground": true,
            "ticks": "",
            "zerolinecolor": "#EBF0F8"
           },
           "zaxis": {
            "backgroundcolor": "white",
            "gridcolor": "#DFE8F3",
            "gridwidth": 2,
            "linecolor": "#EBF0F8",
            "showbackground": true,
            "ticks": "",
            "zerolinecolor": "#EBF0F8"
           }
          },
          "shapedefaults": {
           "line": {
            "color": "#2a3f5f"
           }
          },
          "ternary": {
           "aaxis": {
            "gridcolor": "#DFE8F3",
            "linecolor": "#A2B1C6",
            "ticks": ""
           },
           "baxis": {
            "gridcolor": "#DFE8F3",
            "linecolor": "#A2B1C6",
            "ticks": ""
           },
           "bgcolor": "white",
           "caxis": {
            "gridcolor": "#DFE8F3",
            "linecolor": "#A2B1C6",
            "ticks": ""
           }
          },
          "title": {
           "x": 0.05
          },
          "xaxis": {
           "automargin": true,
           "gridcolor": "#EBF0F8",
           "linecolor": "#EBF0F8",
           "ticks": "",
           "title": {
            "standoff": 15
           },
           "zerolinecolor": "#EBF0F8",
           "zerolinewidth": 2
          },
          "yaxis": {
           "automargin": true,
           "gridcolor": "#EBF0F8",
           "linecolor": "#EBF0F8",
           "ticks": "",
           "title": {
            "standoff": 15
           },
           "zerolinecolor": "#EBF0F8",
           "zerolinewidth": 2
          }
         }
        },
        "updatemenus": [
         {
          "buttons": [
           {
            "args": [
             {
              "visible": [
               true,
               true,
               true,
               true,
               false,
               false,
               false,
               false,
               false,
               false,
               false,
               false,
               false,
               false,
               false,
               false,
               false,
               false,
               false,
               false,
               false,
               false,
               false,
               false,
               false,
               false,
               false,
               false,
               false,
               false,
               false,
               false
              ]
             }
            ],
            "label": "ID: 40",
            "method": "restyle"
           },
           {
            "args": [
             {
              "visible": [
               false,
               false,
               false,
               false,
               true,
               true,
               true,
               true,
               false,
               false,
               false,
               false,
               false,
               false,
               false,
               false,
               false,
               false,
               false,
               false,
               false,
               false,
               false,
               false,
               false,
               false,
               false,
               false,
               false,
               false,
               false,
               false
              ]
             }
            ],
            "label": "ID: 94",
            "method": "restyle"
           },
           {
            "args": [
             {
              "visible": [
               false,
               false,
               false,
               false,
               false,
               false,
               false,
               false,
               true,
               true,
               true,
               true,
               false,
               false,
               false,
               false,
               false,
               false,
               false,
               false,
               false,
               false,
               false,
               false,
               false,
               false,
               false,
               false,
               false,
               false,
               false,
               false
              ]
             }
            ],
            "label": "ID: 95",
            "method": "restyle"
           },
           {
            "args": [
             {
              "visible": [
               false,
               false,
               false,
               false,
               false,
               false,
               false,
               false,
               false,
               false,
               false,
               false,
               true,
               true,
               true,
               true,
               false,
               false,
               false,
               false,
               false,
               false,
               false,
               false,
               false,
               false,
               false,
               false,
               false,
               false,
               false,
               false
              ]
             }
            ],
            "label": "ID: 136",
            "method": "restyle"
           },
           {
            "args": [
             {
              "visible": [
               false,
               false,
               false,
               false,
               false,
               false,
               false,
               false,
               false,
               false,
               false,
               false,
               false,
               false,
               false,
               false,
               true,
               true,
               true,
               true,
               false,
               false,
               false,
               false,
               false,
               false,
               false,
               false,
               false,
               false,
               false,
               false
              ]
             }
            ],
            "label": "ID: 140",
            "method": "restyle"
           },
           {
            "args": [
             {
              "visible": [
               false,
               false,
               false,
               false,
               false,
               false,
               false,
               false,
               false,
               false,
               false,
               false,
               false,
               false,
               false,
               false,
               false,
               false,
               false,
               false,
               true,
               true,
               true,
               true,
               false,
               false,
               false,
               false,
               false,
               false,
               false,
               false
              ]
             }
            ],
            "label": "ID: 155",
            "method": "restyle"
           },
           {
            "args": [
             {
              "visible": [
               false,
               false,
               false,
               false,
               false,
               false,
               false,
               false,
               false,
               false,
               false,
               false,
               false,
               false,
               false,
               false,
               false,
               false,
               false,
               false,
               false,
               false,
               false,
               false,
               true,
               true,
               true,
               true,
               false,
               false,
               false,
               false
              ]
             }
            ],
            "label": "ID: 169",
            "method": "restyle"
           },
           {
            "args": [
             {
              "visible": [
               false,
               false,
               false,
               false,
               false,
               false,
               false,
               false,
               false,
               false,
               false,
               false,
               false,
               false,
               false,
               false,
               false,
               false,
               false,
               false,
               false,
               false,
               false,
               false,
               false,
               false,
               false,
               false,
               true,
               true,
               true,
               true
              ]
             }
            ],
            "label": "ID: 170",
            "method": "restyle"
           }
          ],
          "direction": "right",
          "pad": {
           "r": 0,
           "t": -10
          },
          "showactive": true,
          "type": "buttons",
          "x": 0,
          "xanchor": "left",
          "y": 1.1,
          "yanchor": "top"
         }
        ],
        "yaxis": {
         "title": {
          "text": "Estimates"
         }
        }
       }
      }
     },
     "metadata": {}
    }
   ],
   "source": [
    "#\n",
    "# Visualisation of the spread of optimised model parameters for multiple runs from different initial points.\n",
    "#\n",
    "# This cell needs the above optimised model parameters and their respective objective function scores, as well as the data\n",
    "# [mouse_parameters_constrained, mouse_parameters_constrained, data]\n",
    "#\n",
    "\n",
    "import plotly.colors\n",
    "import plotly.graph_objects as go\n",
    "\n",
    "\n",
    "# Get mouse ids\n",
    "mouse_ids = data['#ID'].unique()\n",
    "\n",
    "# Get number of parameters + score (for visualisation)\n",
    "n_params = mouse_parameters_constrained.shape[2] + 1\n",
    "\n",
    "# Define colorscheme\n",
    "colors = plotly.colors.qualitative.Plotly[:n_params]\n",
    "\n",
    "# Get optimised parameter sets\n",
    "optimised_parameters =  mouse_parameters_constrained\n",
    "\n",
    "# Get scores for parameters\n",
    "scores = mouse_scores_constrained\n",
    "\n",
    "# Create figure\n",
    "fig = go.Figure()\n",
    "\n",
    "# Box plot of optimised model parameters\n",
    "for index, id_m in enumerate(mouse_ids):\n",
    "    # Get optimised parameters\n",
    "    parameters = optimised_parameters[index, ...]\n",
    "\n",
    "    # Get scores\n",
    "    score = scores[index, :]\n",
    "\n",
    "    # Create box plot of for initial tumour volume\n",
    "    fig.add_trace(\n",
    "        go.Box(\n",
    "            y=parameters[:, 0],  \n",
    "            name=\"Initial tumour volume in cm^3\",\n",
    "            boxpoints='all',\n",
    "            jitter=0.2,\n",
    "            pointpos=-1.5,\n",
    "            visible=True if index == 0 else False,\n",
    "            marker=dict(\n",
    "                symbol='circle',\n",
    "                opacity=0.7,\n",
    "                line=dict(color='black', width=1)),\n",
    "            marker_color=colors[0],\n",
    "            line_color=colors[0]))\n",
    "\n",
    "    # Create box plot of for exponential tumour growth\n",
    "    fig.add_trace(\n",
    "        go.Box(\n",
    "            y=parameters[:, 1],  \n",
    "            name=\"Exponential growth rate in 1/day\",\n",
    "            boxpoints='all',\n",
    "            jitter=0.2,\n",
    "            pointpos=-1.5,\n",
    "            visible=True if index == 0 else False,\n",
    "            marker=dict(\n",
    "                symbol='circle',\n",
    "                opacity=0.7,\n",
    "                line=dict(color='black', width=1)),\n",
    "            marker_color=colors[1],\n",
    "            line_color=colors[1]))\n",
    "\n",
    "    # Create box plot of for linear tumour growth\n",
    "    fig.add_trace(\n",
    "        go.Box(\n",
    "            y=parameters[:, 2],  \n",
    "            name=\"Linear growth rate in cm^3/day\",\n",
    "            boxpoints='all',\n",
    "            jitter=0.2,\n",
    "            pointpos=-1.5,\n",
    "            visible=True if index == 0 else False,\n",
    "            marker=dict(\n",
    "                symbol='circle',\n",
    "                opacity=0.7,\n",
    "                line=dict(color='black', width=1)),\n",
    "            marker_color=colors[2],\n",
    "            line_color=colors[2]))\n",
    "    \n",
    "    # Create box plot of for objective function score\n",
    "    fig.add_trace(\n",
    "        go.Box(\n",
    "            y=score,  \n",
    "            name=\"Score\",\n",
    "            boxpoints='all',\n",
    "            jitter=0.2,\n",
    "            pointpos=-1.5,\n",
    "            visible=True if index == 0 else False,\n",
    "            marker=dict(\n",
    "                symbol='circle',\n",
    "                opacity=0.7,\n",
    "                line=dict(color='black', width=1)),\n",
    "            marker_color=colors[3],\n",
    "            line_color=colors[3]))\n",
    "\n",
    "# Set figure size\n",
    "fig.update_layout(\n",
    "    autosize=True,\n",
    "    template=\"plotly_white\",\n",
    "    yaxis_title=\"Estimates\")\n",
    "\n",
    "# Add switch between mice\n",
    "fig.update_layout(\n",
    "    updatemenus=[\n",
    "        dict(\n",
    "            type = \"buttons\",\n",
    "            direction = \"right\",\n",
    "            buttons=list([\n",
    "                dict(\n",
    "                    args=[{\"visible\": [True]*4 + [False]*(4 * 7)}],\n",
    "                    label=\"ID: %d\" % mouse_ids[0],\n",
    "                    method=\"restyle\"\n",
    "                ),\n",
    "                dict(\n",
    "                    args=[{\"visible\": [False]*4 + [True]*4 + [False]*(4 * 6)}],\n",
    "                    label=\"ID: %d\" % mouse_ids[1],\n",
    "                    method=\"restyle\"\n",
    "                ),\n",
    "                dict(\n",
    "                    args=[{\"visible\": [False]*(4 * 2) + [True]*4 + [False]*(4 * 5)}],\n",
    "                    label=\"ID: %d\" % mouse_ids[2],\n",
    "                    method=\"restyle\"\n",
    "                ),\n",
    "                dict(\n",
    "                    args=[{\"visible\": [False]*(4 * 3) + [True]*4 + [False]*(4 * 4)}],\n",
    "                    label=\"ID: %d\" % mouse_ids[3],\n",
    "                    method=\"restyle\"\n",
    "                ),\n",
    "                dict(\n",
    "                    args=[{\"visible\": [False]*(4 * 4) + [True]*4 + [False]*(4 * 3)}],\n",
    "                    label=\"ID: %d\" % mouse_ids[4],\n",
    "                    method=\"restyle\"\n",
    "                ),\n",
    "                dict(\n",
    "                    args=[{\"visible\": [False]*(4 * 5) + [True]*4 + [False]*(4 * 2)}],\n",
    "                    label=\"ID: %d\" % mouse_ids[5],\n",
    "                    method=\"restyle\"\n",
    "                ),\n",
    "                dict(\n",
    "                    args=[{\"visible\": [False]*(4 * 6) + [True]*4 + [False]* 4}],\n",
    "                    label=\"ID: %d\" % mouse_ids[6],\n",
    "                    method=\"restyle\"\n",
    "                ),\n",
    "                dict(\n",
    "                    args=[{\"visible\": [False]*(4 * 7) + [True]*4}],\n",
    "                    label=\"ID: %d\" % mouse_ids[7],\n",
    "                    method=\"restyle\"\n",
    "                )\n",
    "            ]),\n",
    "            pad={\"r\": 0, \"t\": -10},\n",
    "            showactive=True,\n",
    "            x=0.0,\n",
    "            xanchor=\"left\",\n",
    "            y=1.1,\n",
    "            yanchor=\"top\"\n",
    "        )\n",
    "    ]\n",
    ")\n",
    "\n",
    "# Position legend\n",
    "fig.update_layout(legend=dict(\n",
    "    yanchor=\"bottom\",\n",
    "    y=0.01,\n",
    "    xanchor=\"left\",\n",
    "    x=1.05))\n",
    "\n",
    "# Show figure\n",
    "fig.show()\n"
   ]
  },
  {
   "cell_type": "markdown",
   "metadata": {},
   "source": [
    "**Figure 4 - Constrained search space:** Scatter and box plot of the structural model parameter estimates $\\hat \\psi $ (initial tumour volume $V_0$, exponential growth rate $\\lambda _0$, linear growth rate $\\lambda _1$) found by minimising the squared distance between the predictions and the observations using a CMA-ES optimiser. For each individual the optimisation routine was run 10 times from a uniformly sampled starting point in $[10^{-3}, 10^3]$. The search space was constrained to values within a biologically realistic range of $[10^{-3}, 10^3]$ for all parameters. In addition to the optimised parameters, also the distribution of the associated objective function scores is presented."
   ]
  },
  {
   "cell_type": "markdown",
   "metadata": {},
   "source": [
    "Constraining the search space for the optimisation leads to a significantly improved stability of the optimisation. However, for some mice the spread of the optimised model parameters still extends over the entire allowed parameter range."
   ]
  },
  {
   "cell_type": "markdown",
   "metadata": {},
   "source": [
    "## Non-dimensionalisation of the model\n",
    "\n",
    "The reason why constraining the parameter space is not sufficient to remove the instabilities of the optimisation is that the structural model introduces apparent practical non-identifiabilities for vastly different growth parameters, $2\\lambda _0\\ll \\lambda _1$ or $2\\lambda _0\\gg \\lambda _1$. This becomes most obvious in the limit where the parameter ratio $V_{\\text{crit}} = \\lambda _1 / 2\\lambda _0$ goes to infinity or zero, e.g.\n",
    "\n",
    "\\begin{equation*}\n",
    "    \\lim _{V_{\\text{crit}}\\rightarrow 0} \\frac{\\text{d}V^s_T}{\\text{d}t} = \\lambda _1.\n",
    "\\end{equation*}\n",
    "\n",
    "In this limit the exponentially growth rate $\\lambda _0$ becomes non-identifiable. But already for finitely small critical volumes $V_{\\text{crit}}\\ll V^s_T$ the differences in \n",
    "\n",
    "for any small is tehroeticallyb identifiable but not with nbumerical methods.\n",
    "\n",
    "One of the simplest strategies to avoid a structural non-identifiability of a model is to transform the model parameters $\\psi $ from a biologically meaningful set of parameters $(V_0, \\lambda _0, \\lambda _1)$ to a set of dimensionless model parameters. This can be done by introducing characteristic scales of the problem, such as a characteristic tumour volume $V^c_T$ and a characteristic time $t^c$. If we express the structural predictions of the tumour volume in units of the characteristic tumour volume $v = V^s_T / V^c_T$ and the time in units of the characteristic time $\\tau = t / t^c $, we can rewrite the structural model in a nondimensional form\n",
    "\n",
    "\\begin{equation*}\n",
    "   \\frac{\\text{d}v}{\\text{d}\\tau} = \\frac{a_1 v}{v + a_0},\n",
    "\\end{equation*}\n",
    "\n",
    "where $a_0 = \\lambda _1 / 2 \\lambda _0 V^c_T$ and $a_1 = \\lambda _1 t^c / V^c_T$. In other words, we used the characteristic volume and time scales to express the model parameters in units of them\n",
    "\n",
    "\\begin{equation*}\n",
    "   (V_0, \\lambda _0, \\lambda _1) = \\left( v_0\\, V^c_T, \\frac{a_1}{2a_0}\\frac{1}{t^c}, a_1 \\frac{V^c_T}{t^c} \\right) .\n",
    "\\end{equation*}\n",
    "\n",
    "Here, $(v_0, a_0, a_1)$ take the role of the model parameters. Arguably for this biological process a characteristic volume scale is $1\\, \\text{cm}^3$ and a characteristic time scale is $1\\, \\text{day}$.\n"
   ]
  },
  {
   "cell_type": "code",
   "execution_count": 11,
   "metadata": {
    "tags": []
   },
   "outputs": [
    {
     "name": "stdout",
     "output_type": "stream",
     "text": [
      "[[model]]\n",
      "# Initial values\n",
      "central.volume_t = 0\n",
      "\n",
      "[central]\n",
      "a_0 = 1\n",
      "    in [1]\n",
      "a_1 = 0\n",
      "    in [1]\n",
      "time = 0 bind time\n",
      "    in [1]\n",
      "dot(volume_t) = a_1 * volume_t / (volume_t + a_0)\n",
      "    in [1]\n",
      "\n",
      "\n"
     ]
    }
   ],
   "source": [
    "#\n",
    "# Create structural model.\n",
    "#\n",
    "\n",
    "import pkpd.model as m\n",
    "\n",
    "\n",
    "# Create model\n",
    "model = m.create_dimless_tumour_growth_model()\n",
    "\n",
    "# Show model\n",
    "print(model.code())"
   ]
  },
  {
   "cell_type": "code",
   "execution_count": 12,
   "metadata": {},
   "outputs": [],
   "source": [
    "#\n",
    "# Define pints model wrapper such that myokit model can be used for inference.\n",
    "#\n",
    "\n",
    "import myokit\n",
    "import pints\n",
    "\n",
    "from pkpd import model as model\n",
    "\n",
    "\n",
    "# Wrap myokit model, so it can be used with pints\n",
    "class DimensionlessPintsModel(pints.ForwardModel):\n",
    "    def __init__(self):\n",
    "        # Create myokit model\n",
    "        model = m.create_dimless_tumour_growth_model()\n",
    "\n",
    "        # Create simulator\n",
    "        self.sim = myokit.Simulation(model)\n",
    "\n",
    "    def n_parameters(self):\n",
    "        \"\"\"\n",
    "        Number of parameters to fit. Here initial v, a_0, a_1.\n",
    "        \"\"\"\n",
    "        return 3\n",
    "\n",
    "    def n_outputs(self):\n",
    "        return 1\n",
    "\n",
    "    def simulate(self, parameters, times):\n",
    "        # Reset simulation\n",
    "        self.sim.reset()\n",
    "\n",
    "        # Sort input parameters\n",
    "        initial_volume, a_0, a_1 = parameters\n",
    "\n",
    "        # Set initial condition\n",
    "        self.sim.set_state([initial_volume])\n",
    "\n",
    "        # Set growth constants\n",
    "        self.sim.set_constant('central.a_0', a_0)\n",
    "        self.sim.set_constant('central.a_1', a_1)\n",
    "\n",
    "        # Define logged variable\n",
    "        loggedVariable = 'central.volume_t'\n",
    "\n",
    "        # Simulate\n",
    "        output = self.sim.run(times[-1] + 1, log=[loggedVariable], log_times=times)\n",
    "        result = output[loggedVariable]\n",
    "\n",
    "        return np.array(result)"
   ]
  },
  {
   "cell_type": "code",
   "execution_count": 13,
   "metadata": {
    "tags": []
   },
   "outputs": [],
   "source": [
    "#\n",
    "# Run optimisation multiple times from random initial starting points. \n",
    "#\n",
    "# Characteristic scale were chosen to be: V^c_T = 1 cm^3, t^c = 1 day.\n",
    "#\n",
    "# This cell needs above defined wrapped myokit model:\n",
    "# [DimensionlessPintsModel]\n",
    "#\n",
    "\n",
    "import os\n",
    "\n",
    "import myokit\n",
    "import numpy as np\n",
    "import pandas as pd\n",
    "import pints\n",
    "\n",
    "\n",
    "# Define characteristic scales\n",
    "characteristic_volume = 1  # in cm^3\n",
    "characteristic_time = 1  # in day\n",
    "\n",
    "# Define number of optimisation runs for each individual\n",
    "n_runs = 10\n",
    "\n",
    "# Import data\n",
    "# Get path of current working directory\n",
    "path = os.getcwd()\n",
    "\n",
    "# Import LXF A677 control growth data\n",
    "data = pd.read_csv(path + '/data/lxf_control_growth.csv')\n",
    "n_mice = len(data['#ID'].unique())\n",
    "\n",
    "# Define container for the structural model estimates\n",
    "# Shape (n_mice, n_runs, n_parameters)\n",
    "n_parameters = 3\n",
    "mouse_parameters_multi_runs_dimless = np.empty(shape=(n_mice, n_runs, n_parameters))\n",
    "\n",
    "# Define container for the objective function score for the optimised parameters\n",
    "mouse_scores_multi_runs_dimless = np.empty(shape=(n_mice, n_runs))\n",
    "\n",
    "# Define random starting points over many orders of magnitude\n",
    "# Shape = (n_runs, n_parameters)\n",
    "initial_parameters = np.random.uniform(low=1E-3, high=1E3, size=(n_runs, n_parameters))\n",
    "\n",
    "# Find mouse parameters for LXF A677 population\n",
    "mouse_ids = data['#ID'].unique()\n",
    "for index, mouse_id in enumerate(mouse_ids):\n",
    "    # Create mask for mouse with specfied ID\n",
    "    mouse_mask = data['#ID'] == mouse_id\n",
    "\n",
    "    # Get relevant time points\n",
    "    times = data[mouse_mask]['TIME in day'].to_numpy() / characteristic_time\n",
    "\n",
    "    # Get measured tumour volumes\n",
    "    observed_volumes = data[mouse_mask]['TUMOUR VOLUME in cm^3'].to_numpy() / characteristic_volume\n",
    "\n",
    "    # Create inverse problem\n",
    "    problem = pints.SingleOutputProblem(DimensionlessPintsModel(), times, observed_volumes)\n",
    "\n",
    "    # Create sum of squares error objective function\n",
    "    error = pints.SumOfSquaresError(problem)\n",
    "\n",
    "    # Create boundaries to biologically relevant values\n",
    "    boundary = pints.RectangularBoundaries(lower=[1E-3]*3, upper=[1E3]*3)\n",
    "\n",
    "    # Run optimisation multiple times\n",
    "    for run_id, initial_params in enumerate(initial_parameters):\n",
    "        # Create optimisation controller with a CMA-ES optimiser\n",
    "        optimiser = pints.OptimisationController(\n",
    "            function=error,\n",
    "            x0=initial_params,\n",
    "            boundaries=boundary,\n",
    "            method=pints.CMAES)\n",
    "\n",
    "        # Disable logging mode\n",
    "        optimiser.set_log_to_screen(False)\n",
    "\n",
    "        # Parallelise optimisation\n",
    "        optimiser.set_parallel(True)\n",
    "\n",
    "        # Find optimal parameters\n",
    "        try:\n",
    "            estimates, score = optimiser.run()\n",
    "        except:\n",
    "            # If inference breaks fill estimates with nan\n",
    "            estimates = np.array([np.nan, np.nan, np.nan])\n",
    "            score = np.nan\n",
    "\n",
    "        # Save estimates and score\n",
    "        mouse_parameters_multi_runs_dimless[index, run_id, :] = estimates\n",
    "        mouse_scores_multi_runs_dimless[index, run_id] = score"
   ]
  },
  {
   "cell_type": "code",
   "execution_count": 14,
   "metadata": {},
   "outputs": [],
   "source": [
    "#\n",
    "# Transform dimensionless parameters back to biological parameters.\n",
    "# \n",
    "# This cell needs the above inferred dimensionless parameters and the characteristic volume and time scale:\n",
    "# [mouse_parameters_multi_runs_dimless, characteristic_volume, characteristic_time]\n",
    "#\n",
    "\n",
    "import numpy as np\n",
    "\n",
    "\n",
    "# Initialise container for backtransformed paramters\n",
    "# Shape (n_mice, n_runs, n_parameters)\n",
    "mouse_parameters_dimless_optimisation = np.empty(shape=mouse_parameters_multi_runs_dimless.shape)\n",
    "\n",
    "# Transform initial volumes\n",
    "mouse_parameters_dimless_optimisation[:, :, 0] = mouse_parameters_multi_runs_dimless[:, :, 0] * characteristic_volume\n",
    "\n",
    "# Transform exponential growth rate\n",
    "# lambda_0 = a_1 / a_0 /t^c\n",
    "mouse_parameters_dimless_optimisation[:, :, 1] = \\\n",
    "    mouse_parameters_multi_runs_dimless[:, :, 2] / 2 / mouse_parameters_multi_runs_dimless[:, :, 1] / characteristic_time\n",
    "\n",
    "# Transform linear growth rate\n",
    "# lambda_1 = a_1 / a_0 /t^c\n",
    "mouse_parameters_dimless_optimisation[:, :, 2] = \\\n",
    "    mouse_parameters_multi_runs_dimless[:, :, 2] * characteristic_volume / characteristic_time\n"
   ]
  },
  {
   "cell_type": "code",
   "execution_count": 15,
   "metadata": {},
   "outputs": [
    {
     "data": {
      "application/vnd.plotly.v1+json": {
       "config": {
        "plotlyServerURL": "https://plot.ly"
       },
       "data": [
        {
         "boxpoints": "all",
         "jitter": 0.2,
         "line": {
          "color": "#636EFA"
         },
         "marker": {
          "color": "#636EFA",
          "line": {
           "color": "black",
           "width": 1
          },
          "opacity": 0.7,
          "symbol": "circle"
         },
         "name": "Initial tumour volume in cm^3",
         "pointpos": -1.5,
         "type": "box",
         "visible": true,
         "y": [
          0.13983691058087655,
          0.14015754884141476,
          0.1394725245237712,
          0.1388164898991585,
          0.1390377777957604,
          0.13918212509848926,
          0.13922859475889127,
          0.13917637134351923,
          0.13967240458636998,
          0.13947435614153247
         ]
        },
        {
         "boxpoints": "all",
         "jitter": 0.2,
         "line": {
          "color": "#EF553B"
         },
         "marker": {
          "color": "#EF553B",
          "line": {
           "color": "black",
           "width": 1
          },
          "opacity": 0.7,
          "symbol": "circle"
         },
         "name": "Exponential growth rate in 1/day",
         "pointpos": -1.5,
         "type": "box",
         "visible": true,
         "y": [
          0.27452410842490593,
          0.27389557886380156,
          0.2750995016257509,
          0.276288550671363,
          0.27587865235576464,
          0.2756361742875112,
          0.27556338588343543,
          0.2756432198594623,
          0.27475033813612687,
          0.27505983447742766
         ]
        },
        {
         "boxpoints": "all",
         "jitter": 0.2,
         "line": {
          "color": "#00CC96"
         },
         "marker": {
          "color": "#00CC96",
          "line": {
           "color": "black",
           "width": 1
          },
          "opacity": 0.7,
          "symbol": "circle"
         },
         "name": "Linear growth rate in cm^3/day",
         "pointpos": -1.5,
         "type": "box",
         "visible": true,
         "y": [
          0.13103308934784155,
          0.13102573000642237,
          0.13096711093207777,
          0.13092951129533037,
          0.13094594226208667,
          0.13095485187150538,
          0.13095340824757634,
          0.1309473954911482,
          0.13101424930888228,
          0.13097759910310083
         ]
        },
        {
         "boxpoints": "all",
         "jitter": 0.2,
         "line": {
          "color": "#AB63FA"
         },
         "marker": {
          "color": "#AB63FA",
          "line": {
           "color": "black",
           "width": 1
          },
          "opacity": 0.7,
          "symbol": "circle"
         },
         "name": "Score",
         "pointpos": -1.5,
         "type": "box",
         "visible": true,
         "y": [
          0.03186144771489304,
          0.031862434237245336,
          0.03186065867019787,
          0.03186108141570591,
          0.03186069491291434,
          0.03186039965252897,
          0.031860279087979365,
          0.03186043077206227,
          0.031861008223522724,
          0.031860913750047966
         ]
        },
        {
         "boxpoints": "all",
         "jitter": 0.2,
         "line": {
          "color": "#636EFA"
         },
         "marker": {
          "color": "#636EFA",
          "line": {
           "color": "black",
           "width": 1
          },
          "opacity": 0.7,
          "symbol": "circle"
         },
         "name": "Initial tumour volume in cm^3",
         "pointpos": -1.5,
         "type": "box",
         "visible": false,
         "y": [
          0.07443700819734811,
          0.0747993046393276,
          0.07454900741267391,
          0.07479926159685715,
          0.07443724566014183,
          0.0747992920988379,
          0.07455452541195923,
          0.07443674285696034,
          0.07455457816364242,
          0.07455531604715648
         ]
        },
        {
         "boxpoints": "all",
         "jitter": 0.2,
         "line": {
          "color": "#EF553B"
         },
         "marker": {
          "color": "#EF553B",
          "line": {
           "color": "black",
           "width": 1
          },
          "opacity": 0.7,
          "symbol": "circle"
         },
         "name": "Exponential growth rate in 1/day",
         "pointpos": -1.5,
         "type": "box",
         "visible": false,
         "y": [
          0.16939987239138615,
          0.1650351155856661,
          0.16798433520612574,
          0.16503522474364993,
          0.1693992550800286,
          0.1650351527411923,
          0.16791178048394653,
          0.1694004684748515,
          0.16791157501369836,
          0.16791005716476828
         ]
        },
        {
         "boxpoints": "all",
         "jitter": 0.2,
         "line": {
          "color": "#00CC96"
         },
         "marker": {
          "color": "#00CC96",
          "line": {
           "color": "black",
           "width": 1
          },
          "opacity": 0.7,
          "symbol": "circle"
         },
         "name": "Linear growth rate in cm^3/day",
         "pointpos": -1.5,
         "type": "box",
         "visible": false,
         "y": [
          0.020274551828819137,
          0.020388811634985973,
          0.020311920172158857,
          0.020388813967676504,
          0.020274539243620056,
          0.020388812976914642,
          0.02031390117346603,
          0.020274554650037625,
          0.020313889824075934,
          0.020313894954604485
         ]
        },
        {
         "boxpoints": "all",
         "jitter": 0.2,
         "line": {
          "color": "#AB63FA"
         },
         "marker": {
          "color": "#AB63FA",
          "line": {
           "color": "black",
           "width": 1
          },
          "opacity": 0.7,
          "symbol": "circle"
         },
         "name": "Score",
         "pointpos": -1.5,
         "type": "box",
         "visible": false,
         "y": [
          0.007448563913010367,
          0.007450327517825339,
          0.0074482325210271485,
          0.007450327517832801,
          0.007448563913799115,
          0.007450327517830959,
          0.007448217820531365,
          0.00744856391320898,
          0.007448217819888208,
          0.007448217824482109
         ]
        },
        {
         "boxpoints": "all",
         "jitter": 0.2,
         "line": {
          "color": "#636EFA"
         },
         "marker": {
          "color": "#636EFA",
          "line": {
           "color": "black",
           "width": 1
          },
          "opacity": 0.7,
          "symbol": "circle"
         },
         "name": "Initial tumour volume in cm^3",
         "pointpos": -1.5,
         "type": "box",
         "visible": false,
         "y": [
          0.22090437055478077,
          0.2209043742745247,
          0.2209043888316885,
          0.2209043733723241,
          0.22090438724167916,
          0.22090437785583356,
          0.2209043668232518,
          0.2199939279018276,
          0.22090438142937652,
          0.2209043945322107
         ]
        },
        {
         "boxpoints": "all",
         "jitter": 0.2,
         "line": {
          "color": "#EF553B"
         },
         "marker": {
          "color": "#EF553B",
          "line": {
           "color": "black",
           "width": 1
          },
          "opacity": 0.7,
          "symbol": "circle"
         },
         "name": "Exponential growth rate in 1/day",
         "pointpos": -1.5,
         "type": "box",
         "visible": false,
         "y": [
          0.05559246566272553,
          0.055592465368020275,
          0.0555924639934578,
          0.05559246613658181,
          0.05559246391321989,
          0.05559246499796467,
          0.05559246635083724,
          0.055986957906612775,
          0.05559246468001668,
          0.05559246312026577
         ]
        },
        {
         "boxpoints": "all",
         "jitter": 0.2,
         "line": {
          "color": "#00CC96"
         },
         "marker": {
          "color": "#00CC96",
          "line": {
           "color": "black",
           "width": 1
          },
          "opacity": 0.7,
          "symbol": "circle"
         },
         "name": "Linear growth rate in cm^3/day",
         "pointpos": -1.5,
         "type": "box",
         "visible": false,
         "y": [
          111.18493132537807,
          111.18493073601385,
          111.18492798466457,
          111.18493227294871,
          111.18492782487435,
          111.18492999583106,
          111.18493270024524,
          14.698934229640304,
          111.18492935941926,
          111.18492624026938
         ]
        },
        {
         "boxpoints": "all",
         "jitter": 0.2,
         "line": {
          "color": "#AB63FA"
         },
         "marker": {
          "color": "#AB63FA",
          "line": {
           "color": "black",
           "width": 1
          },
          "opacity": 0.7,
          "symbol": "circle"
         },
         "name": "Score",
         "pointpos": -1.5,
         "type": "box",
         "visible": false,
         "y": [
          0.09948736196066102,
          0.09948736196065573,
          0.09948736196067207,
          0.09948736196066145,
          0.09948736196066756,
          0.09948736196065519,
          0.09948736196065543,
          0.10074219556121158,
          0.0994873619606703,
          0.09948736196066742
         ]
        },
        {
         "boxpoints": "all",
         "jitter": 0.2,
         "line": {
          "color": "#636EFA"
         },
         "marker": {
          "color": "#636EFA",
          "line": {
           "color": "black",
           "width": 1
          },
          "opacity": 0.7,
          "symbol": "circle"
         },
         "name": "Initial tumour volume in cm^3",
         "pointpos": -1.5,
         "type": "box",
         "visible": false,
         "y": [
          0.14817307433906277,
          0.14910847552664674,
          0.14949524522304014,
          0.14951449173292714,
          0.14898951644184963,
          0.14898848177440993,
          0.14825429785131983,
          0.1481500923292267,
          0.14903306248077064,
          0.14798391155628188
         ]
        },
        {
         "boxpoints": "all",
         "jitter": 0.2,
         "line": {
          "color": "#EF553B"
         },
         "marker": {
          "color": "#EF553B",
          "line": {
           "color": "black",
           "width": 1
          },
          "opacity": 0.7,
          "symbol": "circle"
         },
         "name": "Exponential growth rate in 1/day",
         "pointpos": -1.5,
         "type": "box",
         "visible": false,
         "y": [
          0.05479034938682762,
          0.05423354046197787,
          0.053802348258033865,
          0.053788192239946096,
          0.05426522682445665,
          0.05427216442508999,
          0.054795868716698275,
          0.054820146194777736,
          0.05425114278771652,
          0.05487233453326596
         ]
        },
        {
         "boxpoints": "all",
         "jitter": 0.2,
         "line": {
          "color": "#00CC96"
         },
         "marker": {
          "color": "#00CC96",
          "line": {
           "color": "black",
           "width": 1
          },
          "opacity": 0.7,
          "symbol": "circle"
         },
         "name": "Linear growth rate in cm^3/day",
         "pointpos": -1.5,
         "type": "box",
         "visible": false,
         "y": [
          0.1266341650068026,
          0.12883854178034088,
          0.13093383176288287,
          0.13101507555940656,
          0.12876357859047413,
          0.12877859896495897,
          0.12674003581937368,
          0.12672384255223818,
          0.1288153664946843,
          0.1266620222182615
         ]
        },
        {
         "boxpoints": "all",
         "jitter": 0.2,
         "line": {
          "color": "#AB63FA"
         },
         "marker": {
          "color": "#AB63FA",
          "line": {
           "color": "black",
           "width": 1
          },
          "opacity": 0.7,
          "symbol": "circle"
         },
         "name": "Score",
         "pointpos": -1.5,
         "type": "box",
         "visible": false,
         "y": [
          0.04018248001842445,
          0.0401853911414587,
          0.04018662031403205,
          0.040187284111060304,
          0.0401846699543266,
          0.04018478526830572,
          0.040181614056923234,
          0.04018152456568455,
          0.040185101031404734,
          0.040182738477266944
         ]
        },
        {
         "boxpoints": "all",
         "jitter": 0.2,
         "line": {
          "color": "#636EFA"
         },
         "marker": {
          "color": "#636EFA",
          "line": {
           "color": "black",
           "width": 1
          },
          "opacity": 0.7,
          "symbol": "circle"
         },
         "name": "Initial tumour volume in cm^3",
         "pointpos": -1.5,
         "type": "box",
         "visible": false,
         "y": [
          0.08417665377586886,
          0.08417665842522426,
          0.08417665655716862,
          0.0841766843672077,
          0.08417664364158134,
          0.0841766417426378,
          0.08417664819186745,
          0.08417666210465335,
          0.08417665094078043,
          0.08417667136252971
         ]
        },
        {
         "boxpoints": "all",
         "jitter": 0.2,
         "line": {
          "color": "#EF553B"
         },
         "marker": {
          "color": "#EF553B",
          "line": {
           "color": "black",
           "width": 1
          },
          "opacity": 0.7,
          "symbol": "circle"
         },
         "name": "Exponential growth rate in 1/day",
         "pointpos": -1.5,
         "type": "box",
         "visible": false,
         "y": [
          0.05418267951825342,
          0.05418267994512732,
          0.05418268117131145,
          0.05418267388459923,
          0.054182683711216206,
          0.05418268368521888,
          0.05418268160116868,
          0.05418267899229616,
          0.05418268256490853,
          0.05418267719642435
         ]
        },
        {
         "boxpoints": "all",
         "jitter": 0.2,
         "line": {
          "color": "#00CC96"
         },
         "marker": {
          "color": "#00CC96",
          "line": {
           "color": "black",
           "width": 1
          },
          "opacity": 0.7,
          "symbol": "circle"
         },
         "name": "Linear growth rate in cm^3/day",
         "pointpos": -1.5,
         "type": "box",
         "visible": false,
         "y": [
          108.36535902849779,
          108.36535988860678,
          108.36536233795773,
          108.36534776460513,
          108.36536742061492,
          108.36536736775085,
          108.36536320184038,
          108.3653579709923,
          108.36536512974679,
          108.36535439078665
         ]
        },
        {
         "boxpoints": "all",
         "jitter": 0.2,
         "line": {
          "color": "#AB63FA"
         },
         "marker": {
          "color": "#AB63FA",
          "line": {
           "color": "black",
           "width": 1
          },
          "opacity": 0.7,
          "symbol": "circle"
         },
         "name": "Score",
         "pointpos": -1.5,
         "type": "box",
         "visible": false,
         "y": [
          0.14604315833668813,
          0.14604315833659276,
          0.14604315833659148,
          0.14604315833684467,
          0.14604315833669734,
          0.14604315833663833,
          0.1460431583366585,
          0.14604315833660203,
          0.14604315833665968,
          0.14604315833658094
         ]
        },
        {
         "boxpoints": "all",
         "jitter": 0.2,
         "line": {
          "color": "#636EFA"
         },
         "marker": {
          "color": "#636EFA",
          "line": {
           "color": "black",
           "width": 1
          },
          "opacity": 0.7,
          "symbol": "circle"
         },
         "name": "Initial tumour volume in cm^3",
         "pointpos": -1.5,
         "type": "box",
         "visible": false,
         "y": [
          0.13327412456160814,
          0.13327396902166078,
          0.1332740065780671,
          0.13327424293370002,
          0.13327408062144644,
          0.13327418908224464,
          0.13327391725686943,
          0.1332740151374483,
          0.1332739692141441,
          0.13289506464074935
         ]
        },
        {
         "boxpoints": "all",
         "jitter": 0.2,
         "line": {
          "color": "#EF553B"
         },
         "marker": {
          "color": "#EF553B",
          "line": {
           "color": "black",
           "width": 1
          },
          "opacity": 0.7,
          "symbol": "circle"
         },
         "name": "Exponential growth rate in 1/day",
         "pointpos": -1.5,
         "type": "box",
         "visible": false,
         "y": [
          0.1973595816395984,
          0.1973598042029497,
          0.19735974947457308,
          0.19735943128787262,
          0.19735965885447865,
          0.1973594873996384,
          0.1973598713998418,
          0.19735972171200328,
          0.1973598109763084,
          0.19900641136678318
         ]
        },
        {
         "boxpoints": "all",
         "jitter": 0.2,
         "line": {
          "color": "#00CC96"
         },
         "marker": {
          "color": "#00CC96",
          "line": {
           "color": "black",
           "width": 1
          },
          "opacity": 0.7,
          "symbol": "circle"
         },
         "name": "Linear growth rate in cm^3/day",
         "pointpos": -1.5,
         "type": "box",
         "visible": false,
         "y": [
          0.10853691246125094,
          0.10853690887211839,
          0.10853690917296518,
          0.1085369254826164,
          0.10853691925992745,
          0.10853691274505639,
          0.10853690395520721,
          0.10853690090331958,
          0.10853691273809096,
          0.10827363602946688
         ]
        },
        {
         "boxpoints": "all",
         "jitter": 0.2,
         "line": {
          "color": "#AB63FA"
         },
         "marker": {
          "color": "#AB63FA",
          "line": {
           "color": "black",
           "width": 1
          },
          "opacity": 0.7,
          "symbol": "circle"
         },
         "name": "Score",
         "pointpos": -1.5,
         "type": "box",
         "visible": false,
         "y": [
          0.2588573465076962,
          0.25885734650762954,
          0.2588573465077549,
          0.2588573465075943,
          0.2588573465075406,
          0.2588573465075647,
          0.25885734650732667,
          0.2588573465082111,
          0.2588573465074746,
          0.25885804033572385
         ]
        },
        {
         "boxpoints": "all",
         "jitter": 0.2,
         "line": {
          "color": "#636EFA"
         },
         "marker": {
          "color": "#636EFA",
          "line": {
           "color": "black",
           "width": 1
          },
          "opacity": 0.7,
          "symbol": "circle"
         },
         "name": "Initial tumour volume in cm^3",
         "pointpos": -1.5,
         "type": "box",
         "visible": false,
         "y": [
          0.12380947926933264,
          0.12375204233207937,
          0.1238095080497146,
          0.12380947097114209,
          0.12380949238345118,
          0.1238094862469088,
          0.12380952454911864,
          0.12380946627850715,
          0.12380943582898597,
          0.12332978765316374
         ]
        },
        {
         "boxpoints": "all",
         "jitter": 0.2,
         "line": {
          "color": "#EF553B"
         },
         "marker": {
          "color": "#EF553B",
          "line": {
           "color": "black",
           "width": 1
          },
          "opacity": 0.7,
          "symbol": "circle"
         },
         "name": "Exponential growth rate in 1/day",
         "pointpos": -1.5,
         "type": "box",
         "visible": false,
         "y": [
          0.043031621093488855,
          0.04299490278781422,
          0.04303160860494105,
          0.04303162047956739,
          0.04303161172740619,
          0.04303161462777581,
          0.04303160580215425,
          0.043031617558250454,
          0.04303163205571626,
          0.043521167323288076
         ]
        },
        {
         "boxpoints": "all",
         "jitter": 0.2,
         "line": {
          "color": "#00CC96"
         },
         "marker": {
          "color": "#00CC96",
          "line": {
           "color": "black",
           "width": 1
          },
          "opacity": 0.7,
          "symbol": "circle"
         },
         "name": "Linear growth rate in cm^3/day",
         "pointpos": -1.5,
         "type": "box",
         "visible": false,
         "y": [
          0.07299522691912569,
          0.07320569287508802,
          0.07299522177633516,
          0.07299522083346997,
          0.07299521845635581,
          0.07299521963863254,
          0.07299522628859026,
          0.07299521316872609,
          0.07299522066869328,
          0.07139561157939484
         ]
        },
        {
         "boxpoints": "all",
         "jitter": 0.2,
         "line": {
          "color": "#AB63FA"
         },
         "marker": {
          "color": "#AB63FA",
          "line": {
           "color": "black",
           "width": 1
          },
          "opacity": 0.7,
          "symbol": "circle"
         },
         "name": "Score",
         "pointpos": -1.5,
         "type": "box",
         "visible": false,
         "y": [
          0.0029152929592707304,
          0.0029155749484043774,
          0.0029152929591844345,
          0.0029152929592007105,
          0.00291529295922699,
          0.0029152929592145436,
          0.002915292959205436,
          0.0029152929591476687,
          0.0029152929592472046,
          0.002916019145911036
         ]
        },
        {
         "boxpoints": "all",
         "jitter": 0.2,
         "line": {
          "color": "#636EFA"
         },
         "marker": {
          "color": "#636EFA",
          "line": {
           "color": "black",
           "width": 1
          },
          "opacity": 0.7,
          "symbol": "circle"
         },
         "name": "Initial tumour volume in cm^3",
         "pointpos": -1.5,
         "type": "box",
         "visible": false,
         "y": [
          0.08709062689256979,
          0.08704782142485207,
          0.08704783005898484,
          0.08704782626171646,
          0.0870478205289823,
          0.08706150105252378,
          0.08718952470460972,
          0.0871283724996868,
          0.08703632115649704,
          0.08704782662584762
         ]
        },
        {
         "boxpoints": "all",
         "jitter": 0.2,
         "line": {
          "color": "#EF553B"
         },
         "marker": {
          "color": "#EF553B",
          "line": {
           "color": "black",
           "width": 1
          },
          "opacity": 0.7,
          "symbol": "circle"
         },
         "name": "Exponential growth rate in 1/day",
         "pointpos": -1.5,
         "type": "box",
         "visible": false,
         "y": [
          0.036162119275219395,
          0.036172157326260425,
          0.03617215451433301,
          0.036172156241540375,
          0.03617215758071389,
          0.03616768209047334,
          0.03604580599476792,
          0.03614872693642981,
          0.03617844295231843,
          0.036172154791365055
         ]
        },
        {
         "boxpoints": "all",
         "jitter": 0.2,
         "line": {
          "color": "#00CC96"
         },
         "marker": {
          "color": "#00CC96",
          "line": {
           "color": "black",
           "width": 1
          },
          "opacity": 0.7,
          "symbol": "circle"
         },
         "name": "Linear growth rate in cm^3/day",
         "pointpos": -1.5,
         "type": "box",
         "visible": false,
         "y": [
          0.19324366577128144,
          0.19325840518053342,
          0.19325840885068235,
          0.19325840974171274,
          0.19325840452152449,
          0.19325681590184224,
          0.1986498021249713,
          0.1932665359369135,
          0.1931347363732071,
          0.19325840261362687
         ]
        },
        {
         "boxpoints": "all",
         "jitter": 0.2,
         "line": {
          "color": "#AB63FA"
         },
         "marker": {
          "color": "#AB63FA",
          "line": {
           "color": "black",
           "width": 1
          },
          "opacity": 0.7,
          "symbol": "circle"
         },
         "name": "Score",
         "pointpos": -1.5,
         "type": "box",
         "visible": false,
         "y": [
          0.002315620280364251,
          0.0023155933407801696,
          0.002315593340782402,
          0.0023155933407815158,
          0.002315593340780744,
          0.0023155982459682704,
          0.00231575182290097,
          0.002315687467732273,
          0.0023156072069740693,
          0.0023155933407857454
         ]
        }
       ],
       "layout": {
        "autosize": true,
        "legend": {
         "x": 1.05,
         "xanchor": "left",
         "y": 0.01,
         "yanchor": "bottom"
        },
        "template": {
         "data": {
          "bar": [
           {
            "error_x": {
             "color": "#2a3f5f"
            },
            "error_y": {
             "color": "#2a3f5f"
            },
            "marker": {
             "line": {
              "color": "white",
              "width": 0.5
             }
            },
            "type": "bar"
           }
          ],
          "barpolar": [
           {
            "marker": {
             "line": {
              "color": "white",
              "width": 0.5
             }
            },
            "type": "barpolar"
           }
          ],
          "carpet": [
           {
            "aaxis": {
             "endlinecolor": "#2a3f5f",
             "gridcolor": "#C8D4E3",
             "linecolor": "#C8D4E3",
             "minorgridcolor": "#C8D4E3",
             "startlinecolor": "#2a3f5f"
            },
            "baxis": {
             "endlinecolor": "#2a3f5f",
             "gridcolor": "#C8D4E3",
             "linecolor": "#C8D4E3",
             "minorgridcolor": "#C8D4E3",
             "startlinecolor": "#2a3f5f"
            },
            "type": "carpet"
           }
          ],
          "choropleth": [
           {
            "colorbar": {
             "outlinewidth": 0,
             "ticks": ""
            },
            "type": "choropleth"
           }
          ],
          "contour": [
           {
            "colorbar": {
             "outlinewidth": 0,
             "ticks": ""
            },
            "colorscale": [
             [
              0,
              "#0d0887"
             ],
             [
              0.1111111111111111,
              "#46039f"
             ],
             [
              0.2222222222222222,
              "#7201a8"
             ],
             [
              0.3333333333333333,
              "#9c179e"
             ],
             [
              0.4444444444444444,
              "#bd3786"
             ],
             [
              0.5555555555555556,
              "#d8576b"
             ],
             [
              0.6666666666666666,
              "#ed7953"
             ],
             [
              0.7777777777777778,
              "#fb9f3a"
             ],
             [
              0.8888888888888888,
              "#fdca26"
             ],
             [
              1,
              "#f0f921"
             ]
            ],
            "type": "contour"
           }
          ],
          "contourcarpet": [
           {
            "colorbar": {
             "outlinewidth": 0,
             "ticks": ""
            },
            "type": "contourcarpet"
           }
          ],
          "heatmap": [
           {
            "colorbar": {
             "outlinewidth": 0,
             "ticks": ""
            },
            "colorscale": [
             [
              0,
              "#0d0887"
             ],
             [
              0.1111111111111111,
              "#46039f"
             ],
             [
              0.2222222222222222,
              "#7201a8"
             ],
             [
              0.3333333333333333,
              "#9c179e"
             ],
             [
              0.4444444444444444,
              "#bd3786"
             ],
             [
              0.5555555555555556,
              "#d8576b"
             ],
             [
              0.6666666666666666,
              "#ed7953"
             ],
             [
              0.7777777777777778,
              "#fb9f3a"
             ],
             [
              0.8888888888888888,
              "#fdca26"
             ],
             [
              1,
              "#f0f921"
             ]
            ],
            "type": "heatmap"
           }
          ],
          "heatmapgl": [
           {
            "colorbar": {
             "outlinewidth": 0,
             "ticks": ""
            },
            "colorscale": [
             [
              0,
              "#0d0887"
             ],
             [
              0.1111111111111111,
              "#46039f"
             ],
             [
              0.2222222222222222,
              "#7201a8"
             ],
             [
              0.3333333333333333,
              "#9c179e"
             ],
             [
              0.4444444444444444,
              "#bd3786"
             ],
             [
              0.5555555555555556,
              "#d8576b"
             ],
             [
              0.6666666666666666,
              "#ed7953"
             ],
             [
              0.7777777777777778,
              "#fb9f3a"
             ],
             [
              0.8888888888888888,
              "#fdca26"
             ],
             [
              1,
              "#f0f921"
             ]
            ],
            "type": "heatmapgl"
           }
          ],
          "histogram": [
           {
            "marker": {
             "colorbar": {
              "outlinewidth": 0,
              "ticks": ""
             }
            },
            "type": "histogram"
           }
          ],
          "histogram2d": [
           {
            "colorbar": {
             "outlinewidth": 0,
             "ticks": ""
            },
            "colorscale": [
             [
              0,
              "#0d0887"
             ],
             [
              0.1111111111111111,
              "#46039f"
             ],
             [
              0.2222222222222222,
              "#7201a8"
             ],
             [
              0.3333333333333333,
              "#9c179e"
             ],
             [
              0.4444444444444444,
              "#bd3786"
             ],
             [
              0.5555555555555556,
              "#d8576b"
             ],
             [
              0.6666666666666666,
              "#ed7953"
             ],
             [
              0.7777777777777778,
              "#fb9f3a"
             ],
             [
              0.8888888888888888,
              "#fdca26"
             ],
             [
              1,
              "#f0f921"
             ]
            ],
            "type": "histogram2d"
           }
          ],
          "histogram2dcontour": [
           {
            "colorbar": {
             "outlinewidth": 0,
             "ticks": ""
            },
            "colorscale": [
             [
              0,
              "#0d0887"
             ],
             [
              0.1111111111111111,
              "#46039f"
             ],
             [
              0.2222222222222222,
              "#7201a8"
             ],
             [
              0.3333333333333333,
              "#9c179e"
             ],
             [
              0.4444444444444444,
              "#bd3786"
             ],
             [
              0.5555555555555556,
              "#d8576b"
             ],
             [
              0.6666666666666666,
              "#ed7953"
             ],
             [
              0.7777777777777778,
              "#fb9f3a"
             ],
             [
              0.8888888888888888,
              "#fdca26"
             ],
             [
              1,
              "#f0f921"
             ]
            ],
            "type": "histogram2dcontour"
           }
          ],
          "mesh3d": [
           {
            "colorbar": {
             "outlinewidth": 0,
             "ticks": ""
            },
            "type": "mesh3d"
           }
          ],
          "parcoords": [
           {
            "line": {
             "colorbar": {
              "outlinewidth": 0,
              "ticks": ""
             }
            },
            "type": "parcoords"
           }
          ],
          "pie": [
           {
            "automargin": true,
            "type": "pie"
           }
          ],
          "scatter": [
           {
            "marker": {
             "colorbar": {
              "outlinewidth": 0,
              "ticks": ""
             }
            },
            "type": "scatter"
           }
          ],
          "scatter3d": [
           {
            "line": {
             "colorbar": {
              "outlinewidth": 0,
              "ticks": ""
             }
            },
            "marker": {
             "colorbar": {
              "outlinewidth": 0,
              "ticks": ""
             }
            },
            "type": "scatter3d"
           }
          ],
          "scattercarpet": [
           {
            "marker": {
             "colorbar": {
              "outlinewidth": 0,
              "ticks": ""
             }
            },
            "type": "scattercarpet"
           }
          ],
          "scattergeo": [
           {
            "marker": {
             "colorbar": {
              "outlinewidth": 0,
              "ticks": ""
             }
            },
            "type": "scattergeo"
           }
          ],
          "scattergl": [
           {
            "marker": {
             "colorbar": {
              "outlinewidth": 0,
              "ticks": ""
             }
            },
            "type": "scattergl"
           }
          ],
          "scattermapbox": [
           {
            "marker": {
             "colorbar": {
              "outlinewidth": 0,
              "ticks": ""
             }
            },
            "type": "scattermapbox"
           }
          ],
          "scatterpolar": [
           {
            "marker": {
             "colorbar": {
              "outlinewidth": 0,
              "ticks": ""
             }
            },
            "type": "scatterpolar"
           }
          ],
          "scatterpolargl": [
           {
            "marker": {
             "colorbar": {
              "outlinewidth": 0,
              "ticks": ""
             }
            },
            "type": "scatterpolargl"
           }
          ],
          "scatterternary": [
           {
            "marker": {
             "colorbar": {
              "outlinewidth": 0,
              "ticks": ""
             }
            },
            "type": "scatterternary"
           }
          ],
          "surface": [
           {
            "colorbar": {
             "outlinewidth": 0,
             "ticks": ""
            },
            "colorscale": [
             [
              0,
              "#0d0887"
             ],
             [
              0.1111111111111111,
              "#46039f"
             ],
             [
              0.2222222222222222,
              "#7201a8"
             ],
             [
              0.3333333333333333,
              "#9c179e"
             ],
             [
              0.4444444444444444,
              "#bd3786"
             ],
             [
              0.5555555555555556,
              "#d8576b"
             ],
             [
              0.6666666666666666,
              "#ed7953"
             ],
             [
              0.7777777777777778,
              "#fb9f3a"
             ],
             [
              0.8888888888888888,
              "#fdca26"
             ],
             [
              1,
              "#f0f921"
             ]
            ],
            "type": "surface"
           }
          ],
          "table": [
           {
            "cells": {
             "fill": {
              "color": "#EBF0F8"
             },
             "line": {
              "color": "white"
             }
            },
            "header": {
             "fill": {
              "color": "#C8D4E3"
             },
             "line": {
              "color": "white"
             }
            },
            "type": "table"
           }
          ]
         },
         "layout": {
          "annotationdefaults": {
           "arrowcolor": "#2a3f5f",
           "arrowhead": 0,
           "arrowwidth": 1
          },
          "coloraxis": {
           "colorbar": {
            "outlinewidth": 0,
            "ticks": ""
           }
          },
          "colorscale": {
           "diverging": [
            [
             0,
             "#8e0152"
            ],
            [
             0.1,
             "#c51b7d"
            ],
            [
             0.2,
             "#de77ae"
            ],
            [
             0.3,
             "#f1b6da"
            ],
            [
             0.4,
             "#fde0ef"
            ],
            [
             0.5,
             "#f7f7f7"
            ],
            [
             0.6,
             "#e6f5d0"
            ],
            [
             0.7,
             "#b8e186"
            ],
            [
             0.8,
             "#7fbc41"
            ],
            [
             0.9,
             "#4d9221"
            ],
            [
             1,
             "#276419"
            ]
           ],
           "sequential": [
            [
             0,
             "#0d0887"
            ],
            [
             0.1111111111111111,
             "#46039f"
            ],
            [
             0.2222222222222222,
             "#7201a8"
            ],
            [
             0.3333333333333333,
             "#9c179e"
            ],
            [
             0.4444444444444444,
             "#bd3786"
            ],
            [
             0.5555555555555556,
             "#d8576b"
            ],
            [
             0.6666666666666666,
             "#ed7953"
            ],
            [
             0.7777777777777778,
             "#fb9f3a"
            ],
            [
             0.8888888888888888,
             "#fdca26"
            ],
            [
             1,
             "#f0f921"
            ]
           ],
           "sequentialminus": [
            [
             0,
             "#0d0887"
            ],
            [
             0.1111111111111111,
             "#46039f"
            ],
            [
             0.2222222222222222,
             "#7201a8"
            ],
            [
             0.3333333333333333,
             "#9c179e"
            ],
            [
             0.4444444444444444,
             "#bd3786"
            ],
            [
             0.5555555555555556,
             "#d8576b"
            ],
            [
             0.6666666666666666,
             "#ed7953"
            ],
            [
             0.7777777777777778,
             "#fb9f3a"
            ],
            [
             0.8888888888888888,
             "#fdca26"
            ],
            [
             1,
             "#f0f921"
            ]
           ]
          },
          "colorway": [
           "#636efa",
           "#EF553B",
           "#00cc96",
           "#ab63fa",
           "#FFA15A",
           "#19d3f3",
           "#FF6692",
           "#B6E880",
           "#FF97FF",
           "#FECB52"
          ],
          "font": {
           "color": "#2a3f5f"
          },
          "geo": {
           "bgcolor": "white",
           "lakecolor": "white",
           "landcolor": "white",
           "showlakes": true,
           "showland": true,
           "subunitcolor": "#C8D4E3"
          },
          "hoverlabel": {
           "align": "left"
          },
          "hovermode": "closest",
          "mapbox": {
           "style": "light"
          },
          "paper_bgcolor": "white",
          "plot_bgcolor": "white",
          "polar": {
           "angularaxis": {
            "gridcolor": "#EBF0F8",
            "linecolor": "#EBF0F8",
            "ticks": ""
           },
           "bgcolor": "white",
           "radialaxis": {
            "gridcolor": "#EBF0F8",
            "linecolor": "#EBF0F8",
            "ticks": ""
           }
          },
          "scene": {
           "xaxis": {
            "backgroundcolor": "white",
            "gridcolor": "#DFE8F3",
            "gridwidth": 2,
            "linecolor": "#EBF0F8",
            "showbackground": true,
            "ticks": "",
            "zerolinecolor": "#EBF0F8"
           },
           "yaxis": {
            "backgroundcolor": "white",
            "gridcolor": "#DFE8F3",
            "gridwidth": 2,
            "linecolor": "#EBF0F8",
            "showbackground": true,
            "ticks": "",
            "zerolinecolor": "#EBF0F8"
           },
           "zaxis": {
            "backgroundcolor": "white",
            "gridcolor": "#DFE8F3",
            "gridwidth": 2,
            "linecolor": "#EBF0F8",
            "showbackground": true,
            "ticks": "",
            "zerolinecolor": "#EBF0F8"
           }
          },
          "shapedefaults": {
           "line": {
            "color": "#2a3f5f"
           }
          },
          "ternary": {
           "aaxis": {
            "gridcolor": "#DFE8F3",
            "linecolor": "#A2B1C6",
            "ticks": ""
           },
           "baxis": {
            "gridcolor": "#DFE8F3",
            "linecolor": "#A2B1C6",
            "ticks": ""
           },
           "bgcolor": "white",
           "caxis": {
            "gridcolor": "#DFE8F3",
            "linecolor": "#A2B1C6",
            "ticks": ""
           }
          },
          "title": {
           "x": 0.05
          },
          "xaxis": {
           "automargin": true,
           "gridcolor": "#EBF0F8",
           "linecolor": "#EBF0F8",
           "ticks": "",
           "title": {
            "standoff": 15
           },
           "zerolinecolor": "#EBF0F8",
           "zerolinewidth": 2
          },
          "yaxis": {
           "automargin": true,
           "gridcolor": "#EBF0F8",
           "linecolor": "#EBF0F8",
           "ticks": "",
           "title": {
            "standoff": 15
           },
           "zerolinecolor": "#EBF0F8",
           "zerolinewidth": 2
          }
         }
        },
        "updatemenus": [
         {
          "buttons": [
           {
            "args": [
             {
              "visible": [
               true,
               true,
               true,
               true,
               false,
               false,
               false,
               false,
               false,
               false,
               false,
               false,
               false,
               false,
               false,
               false,
               false,
               false,
               false,
               false,
               false,
               false,
               false,
               false,
               false,
               false,
               false,
               false,
               false,
               false,
               false,
               false
              ]
             }
            ],
            "label": "ID: 40",
            "method": "restyle"
           },
           {
            "args": [
             {
              "visible": [
               false,
               false,
               false,
               false,
               true,
               true,
               true,
               true,
               false,
               false,
               false,
               false,
               false,
               false,
               false,
               false,
               false,
               false,
               false,
               false,
               false,
               false,
               false,
               false,
               false,
               false,
               false,
               false,
               false,
               false,
               false,
               false
              ]
             }
            ],
            "label": "ID: 94",
            "method": "restyle"
           },
           {
            "args": [
             {
              "visible": [
               false,
               false,
               false,
               false,
               false,
               false,
               false,
               false,
               true,
               true,
               true,
               true,
               false,
               false,
               false,
               false,
               false,
               false,
               false,
               false,
               false,
               false,
               false,
               false,
               false,
               false,
               false,
               false,
               false,
               false,
               false,
               false
              ]
             }
            ],
            "label": "ID: 95",
            "method": "restyle"
           },
           {
            "args": [
             {
              "visible": [
               false,
               false,
               false,
               false,
               false,
               false,
               false,
               false,
               false,
               false,
               false,
               false,
               true,
               true,
               true,
               true,
               false,
               false,
               false,
               false,
               false,
               false,
               false,
               false,
               false,
               false,
               false,
               false,
               false,
               false,
               false,
               false
              ]
             }
            ],
            "label": "ID: 136",
            "method": "restyle"
           },
           {
            "args": [
             {
              "visible": [
               false,
               false,
               false,
               false,
               false,
               false,
               false,
               false,
               false,
               false,
               false,
               false,
               false,
               false,
               false,
               false,
               true,
               true,
               true,
               true,
               false,
               false,
               false,
               false,
               false,
               false,
               false,
               false,
               false,
               false,
               false,
               false
              ]
             }
            ],
            "label": "ID: 140",
            "method": "restyle"
           },
           {
            "args": [
             {
              "visible": [
               false,
               false,
               false,
               false,
               false,
               false,
               false,
               false,
               false,
               false,
               false,
               false,
               false,
               false,
               false,
               false,
               false,
               false,
               false,
               false,
               true,
               true,
               true,
               true,
               false,
               false,
               false,
               false,
               false,
               false,
               false,
               false
              ]
             }
            ],
            "label": "ID: 155",
            "method": "restyle"
           },
           {
            "args": [
             {
              "visible": [
               false,
               false,
               false,
               false,
               false,
               false,
               false,
               false,
               false,
               false,
               false,
               false,
               false,
               false,
               false,
               false,
               false,
               false,
               false,
               false,
               false,
               false,
               false,
               false,
               true,
               true,
               true,
               true,
               false,
               false,
               false,
               false
              ]
             }
            ],
            "label": "ID: 169",
            "method": "restyle"
           },
           {
            "args": [
             {
              "visible": [
               false,
               false,
               false,
               false,
               false,
               false,
               false,
               false,
               false,
               false,
               false,
               false,
               false,
               false,
               false,
               false,
               false,
               false,
               false,
               false,
               false,
               false,
               false,
               false,
               false,
               false,
               false,
               false,
               true,
               true,
               true,
               true
              ]
             }
            ],
            "label": "ID: 170",
            "method": "restyle"
           }
          ],
          "direction": "right",
          "pad": {
           "r": 0,
           "t": -10
          },
          "showactive": true,
          "type": "buttons",
          "x": 0,
          "xanchor": "left",
          "y": 1.1,
          "yanchor": "top"
         }
        ]
       }
      },
      "text/html": [
       "<div>\n",
       "        \n",
       "        \n",
       "            <div id=\"f5dabaa2-c51e-4279-a2fc-41a73981de84\" class=\"plotly-graph-div\" style=\"height:525px; width:100%;\"></div>\n",
       "            <script type=\"text/javascript\">\n",
       "                require([\"plotly\"], function(Plotly) {\n",
       "                    window.PLOTLYENV=window.PLOTLYENV || {};\n",
       "                    \n",
       "                if (document.getElementById(\"f5dabaa2-c51e-4279-a2fc-41a73981de84\")) {\n",
       "                    Plotly.newPlot(\n",
       "                        'f5dabaa2-c51e-4279-a2fc-41a73981de84',\n",
       "                        [{\"boxpoints\": \"all\", \"jitter\": 0.2, \"line\": {\"color\": \"#636EFA\"}, \"marker\": {\"color\": \"#636EFA\", \"line\": {\"color\": \"black\", \"width\": 1}, \"opacity\": 0.7, \"symbol\": \"circle\"}, \"name\": \"Initial tumour volume in cm^3\", \"pointpos\": -1.5, \"type\": \"box\", \"visible\": true, \"y\": [0.13983691058087655, 0.14015754884141476, 0.1394725245237712, 0.1388164898991585, 0.1390377777957604, 0.13918212509848926, 0.13922859475889127, 0.13917637134351923, 0.13967240458636998, 0.13947435614153247]}, {\"boxpoints\": \"all\", \"jitter\": 0.2, \"line\": {\"color\": \"#EF553B\"}, \"marker\": {\"color\": \"#EF553B\", \"line\": {\"color\": \"black\", \"width\": 1}, \"opacity\": 0.7, \"symbol\": \"circle\"}, \"name\": \"Exponential growth rate in 1/day\", \"pointpos\": -1.5, \"type\": \"box\", \"visible\": true, \"y\": [0.27452410842490593, 0.27389557886380156, 0.2750995016257509, 0.276288550671363, 0.27587865235576464, 0.2756361742875112, 0.27556338588343543, 0.2756432198594623, 0.27475033813612687, 0.27505983447742766]}, {\"boxpoints\": \"all\", \"jitter\": 0.2, \"line\": {\"color\": \"#00CC96\"}, \"marker\": {\"color\": \"#00CC96\", \"line\": {\"color\": \"black\", \"width\": 1}, \"opacity\": 0.7, \"symbol\": \"circle\"}, \"name\": \"Linear growth rate in cm^3/day\", \"pointpos\": -1.5, \"type\": \"box\", \"visible\": true, \"y\": [0.13103308934784155, 0.13102573000642237, 0.13096711093207777, 0.13092951129533037, 0.13094594226208667, 0.13095485187150538, 0.13095340824757634, 0.1309473954911482, 0.13101424930888228, 0.13097759910310083]}, {\"boxpoints\": \"all\", \"jitter\": 0.2, \"line\": {\"color\": \"#AB63FA\"}, \"marker\": {\"color\": \"#AB63FA\", \"line\": {\"color\": \"black\", \"width\": 1}, \"opacity\": 0.7, \"symbol\": \"circle\"}, \"name\": \"Score\", \"pointpos\": -1.5, \"type\": \"box\", \"visible\": true, \"y\": [0.03186144771489304, 0.031862434237245336, 0.03186065867019787, 0.03186108141570591, 0.03186069491291434, 0.03186039965252897, 0.031860279087979365, 0.03186043077206227, 0.031861008223522724, 0.031860913750047966]}, {\"boxpoints\": \"all\", \"jitter\": 0.2, \"line\": {\"color\": \"#636EFA\"}, \"marker\": {\"color\": \"#636EFA\", \"line\": {\"color\": \"black\", \"width\": 1}, \"opacity\": 0.7, \"symbol\": \"circle\"}, \"name\": \"Initial tumour volume in cm^3\", \"pointpos\": -1.5, \"type\": \"box\", \"visible\": false, \"y\": [0.07443700819734811, 0.0747993046393276, 0.07454900741267391, 0.07479926159685715, 0.07443724566014183, 0.0747992920988379, 0.07455452541195923, 0.07443674285696034, 0.07455457816364242, 0.07455531604715648]}, {\"boxpoints\": \"all\", \"jitter\": 0.2, \"line\": {\"color\": \"#EF553B\"}, \"marker\": {\"color\": \"#EF553B\", \"line\": {\"color\": \"black\", \"width\": 1}, \"opacity\": 0.7, \"symbol\": \"circle\"}, \"name\": \"Exponential growth rate in 1/day\", \"pointpos\": -1.5, \"type\": \"box\", \"visible\": false, \"y\": [0.16939987239138615, 0.1650351155856661, 0.16798433520612574, 0.16503522474364993, 0.1693992550800286, 0.1650351527411923, 0.16791178048394653, 0.1694004684748515, 0.16791157501369836, 0.16791005716476828]}, {\"boxpoints\": \"all\", \"jitter\": 0.2, \"line\": {\"color\": \"#00CC96\"}, \"marker\": {\"color\": \"#00CC96\", \"line\": {\"color\": \"black\", \"width\": 1}, \"opacity\": 0.7, \"symbol\": \"circle\"}, \"name\": \"Linear growth rate in cm^3/day\", \"pointpos\": -1.5, \"type\": \"box\", \"visible\": false, \"y\": [0.020274551828819137, 0.020388811634985973, 0.020311920172158857, 0.020388813967676504, 0.020274539243620056, 0.020388812976914642, 0.02031390117346603, 0.020274554650037625, 0.020313889824075934, 0.020313894954604485]}, {\"boxpoints\": \"all\", \"jitter\": 0.2, \"line\": {\"color\": \"#AB63FA\"}, \"marker\": {\"color\": \"#AB63FA\", \"line\": {\"color\": \"black\", \"width\": 1}, \"opacity\": 0.7, \"symbol\": \"circle\"}, \"name\": \"Score\", \"pointpos\": -1.5, \"type\": \"box\", \"visible\": false, \"y\": [0.007448563913010367, 0.007450327517825339, 0.0074482325210271485, 0.007450327517832801, 0.007448563913799115, 0.007450327517830959, 0.007448217820531365, 0.00744856391320898, 0.007448217819888208, 0.007448217824482109]}, {\"boxpoints\": \"all\", \"jitter\": 0.2, \"line\": {\"color\": \"#636EFA\"}, \"marker\": {\"color\": \"#636EFA\", \"line\": {\"color\": \"black\", \"width\": 1}, \"opacity\": 0.7, \"symbol\": \"circle\"}, \"name\": \"Initial tumour volume in cm^3\", \"pointpos\": -1.5, \"type\": \"box\", \"visible\": false, \"y\": [0.22090437055478077, 0.2209043742745247, 0.2209043888316885, 0.2209043733723241, 0.22090438724167916, 0.22090437785583356, 0.2209043668232518, 0.2199939279018276, 0.22090438142937652, 0.2209043945322107]}, {\"boxpoints\": \"all\", \"jitter\": 0.2, \"line\": {\"color\": \"#EF553B\"}, \"marker\": {\"color\": \"#EF553B\", \"line\": {\"color\": \"black\", \"width\": 1}, \"opacity\": 0.7, \"symbol\": \"circle\"}, \"name\": \"Exponential growth rate in 1/day\", \"pointpos\": -1.5, \"type\": \"box\", \"visible\": false, \"y\": [0.05559246566272553, 0.055592465368020275, 0.0555924639934578, 0.05559246613658181, 0.05559246391321989, 0.05559246499796467, 0.05559246635083724, 0.055986957906612775, 0.05559246468001668, 0.05559246312026577]}, {\"boxpoints\": \"all\", \"jitter\": 0.2, \"line\": {\"color\": \"#00CC96\"}, \"marker\": {\"color\": \"#00CC96\", \"line\": {\"color\": \"black\", \"width\": 1}, \"opacity\": 0.7, \"symbol\": \"circle\"}, \"name\": \"Linear growth rate in cm^3/day\", \"pointpos\": -1.5, \"type\": \"box\", \"visible\": false, \"y\": [111.18493132537807, 111.18493073601385, 111.18492798466457, 111.18493227294871, 111.18492782487435, 111.18492999583106, 111.18493270024524, 14.698934229640304, 111.18492935941926, 111.18492624026938]}, {\"boxpoints\": \"all\", \"jitter\": 0.2, \"line\": {\"color\": \"#AB63FA\"}, \"marker\": {\"color\": \"#AB63FA\", \"line\": {\"color\": \"black\", \"width\": 1}, \"opacity\": 0.7, \"symbol\": \"circle\"}, \"name\": \"Score\", \"pointpos\": -1.5, \"type\": \"box\", \"visible\": false, \"y\": [0.09948736196066102, 0.09948736196065573, 0.09948736196067207, 0.09948736196066145, 0.09948736196066756, 0.09948736196065519, 0.09948736196065543, 0.10074219556121158, 0.0994873619606703, 0.09948736196066742]}, {\"boxpoints\": \"all\", \"jitter\": 0.2, \"line\": {\"color\": \"#636EFA\"}, \"marker\": {\"color\": \"#636EFA\", \"line\": {\"color\": \"black\", \"width\": 1}, \"opacity\": 0.7, \"symbol\": \"circle\"}, \"name\": \"Initial tumour volume in cm^3\", \"pointpos\": -1.5, \"type\": \"box\", \"visible\": false, \"y\": [0.14817307433906277, 0.14910847552664674, 0.14949524522304014, 0.14951449173292714, 0.14898951644184963, 0.14898848177440993, 0.14825429785131983, 0.1481500923292267, 0.14903306248077064, 0.14798391155628188]}, {\"boxpoints\": \"all\", \"jitter\": 0.2, \"line\": {\"color\": \"#EF553B\"}, \"marker\": {\"color\": \"#EF553B\", \"line\": {\"color\": \"black\", \"width\": 1}, \"opacity\": 0.7, \"symbol\": \"circle\"}, \"name\": \"Exponential growth rate in 1/day\", \"pointpos\": -1.5, \"type\": \"box\", \"visible\": false, \"y\": [0.05479034938682762, 0.05423354046197787, 0.053802348258033865, 0.053788192239946096, 0.05426522682445665, 0.05427216442508999, 0.054795868716698275, 0.054820146194777736, 0.05425114278771652, 0.05487233453326596]}, {\"boxpoints\": \"all\", \"jitter\": 0.2, \"line\": {\"color\": \"#00CC96\"}, \"marker\": {\"color\": \"#00CC96\", \"line\": {\"color\": \"black\", \"width\": 1}, \"opacity\": 0.7, \"symbol\": \"circle\"}, \"name\": \"Linear growth rate in cm^3/day\", \"pointpos\": -1.5, \"type\": \"box\", \"visible\": false, \"y\": [0.1266341650068026, 0.12883854178034088, 0.13093383176288287, 0.13101507555940656, 0.12876357859047413, 0.12877859896495897, 0.12674003581937368, 0.12672384255223818, 0.1288153664946843, 0.1266620222182615]}, {\"boxpoints\": \"all\", \"jitter\": 0.2, \"line\": {\"color\": \"#AB63FA\"}, \"marker\": {\"color\": \"#AB63FA\", \"line\": {\"color\": \"black\", \"width\": 1}, \"opacity\": 0.7, \"symbol\": \"circle\"}, \"name\": \"Score\", \"pointpos\": -1.5, \"type\": \"box\", \"visible\": false, \"y\": [0.04018248001842445, 0.0401853911414587, 0.04018662031403205, 0.040187284111060304, 0.0401846699543266, 0.04018478526830572, 0.040181614056923234, 0.04018152456568455, 0.040185101031404734, 0.040182738477266944]}, {\"boxpoints\": \"all\", \"jitter\": 0.2, \"line\": {\"color\": \"#636EFA\"}, \"marker\": {\"color\": \"#636EFA\", \"line\": {\"color\": \"black\", \"width\": 1}, \"opacity\": 0.7, \"symbol\": \"circle\"}, \"name\": \"Initial tumour volume in cm^3\", \"pointpos\": -1.5, \"type\": \"box\", \"visible\": false, \"y\": [0.08417665377586886, 0.08417665842522426, 0.08417665655716862, 0.0841766843672077, 0.08417664364158134, 0.0841766417426378, 0.08417664819186745, 0.08417666210465335, 0.08417665094078043, 0.08417667136252971]}, {\"boxpoints\": \"all\", \"jitter\": 0.2, \"line\": {\"color\": \"#EF553B\"}, \"marker\": {\"color\": \"#EF553B\", \"line\": {\"color\": \"black\", \"width\": 1}, \"opacity\": 0.7, \"symbol\": \"circle\"}, \"name\": \"Exponential growth rate in 1/day\", \"pointpos\": -1.5, \"type\": \"box\", \"visible\": false, \"y\": [0.05418267951825342, 0.05418267994512732, 0.05418268117131145, 0.05418267388459923, 0.054182683711216206, 0.05418268368521888, 0.05418268160116868, 0.05418267899229616, 0.05418268256490853, 0.05418267719642435]}, {\"boxpoints\": \"all\", \"jitter\": 0.2, \"line\": {\"color\": \"#00CC96\"}, \"marker\": {\"color\": \"#00CC96\", \"line\": {\"color\": \"black\", \"width\": 1}, \"opacity\": 0.7, \"symbol\": \"circle\"}, \"name\": \"Linear growth rate in cm^3/day\", \"pointpos\": -1.5, \"type\": \"box\", \"visible\": false, \"y\": [108.36535902849779, 108.36535988860678, 108.36536233795773, 108.36534776460513, 108.36536742061492, 108.36536736775085, 108.36536320184038, 108.3653579709923, 108.36536512974679, 108.36535439078665]}, {\"boxpoints\": \"all\", \"jitter\": 0.2, \"line\": {\"color\": \"#AB63FA\"}, \"marker\": {\"color\": \"#AB63FA\", \"line\": {\"color\": \"black\", \"width\": 1}, \"opacity\": 0.7, \"symbol\": \"circle\"}, \"name\": \"Score\", \"pointpos\": -1.5, \"type\": \"box\", \"visible\": false, \"y\": [0.14604315833668813, 0.14604315833659276, 0.14604315833659148, 0.14604315833684467, 0.14604315833669734, 0.14604315833663833, 0.1460431583366585, 0.14604315833660203, 0.14604315833665968, 0.14604315833658094]}, {\"boxpoints\": \"all\", \"jitter\": 0.2, \"line\": {\"color\": \"#636EFA\"}, \"marker\": {\"color\": \"#636EFA\", \"line\": {\"color\": \"black\", \"width\": 1}, \"opacity\": 0.7, \"symbol\": \"circle\"}, \"name\": \"Initial tumour volume in cm^3\", \"pointpos\": -1.5, \"type\": \"box\", \"visible\": false, \"y\": [0.13327412456160814, 0.13327396902166078, 0.1332740065780671, 0.13327424293370002, 0.13327408062144644, 0.13327418908224464, 0.13327391725686943, 0.1332740151374483, 0.1332739692141441, 0.13289506464074935]}, {\"boxpoints\": \"all\", \"jitter\": 0.2, \"line\": {\"color\": \"#EF553B\"}, \"marker\": {\"color\": \"#EF553B\", \"line\": {\"color\": \"black\", \"width\": 1}, \"opacity\": 0.7, \"symbol\": \"circle\"}, \"name\": \"Exponential growth rate in 1/day\", \"pointpos\": -1.5, \"type\": \"box\", \"visible\": false, \"y\": [0.1973595816395984, 0.1973598042029497, 0.19735974947457308, 0.19735943128787262, 0.19735965885447865, 0.1973594873996384, 0.1973598713998418, 0.19735972171200328, 0.1973598109763084, 0.19900641136678318]}, {\"boxpoints\": \"all\", \"jitter\": 0.2, \"line\": {\"color\": \"#00CC96\"}, \"marker\": {\"color\": \"#00CC96\", \"line\": {\"color\": \"black\", \"width\": 1}, \"opacity\": 0.7, \"symbol\": \"circle\"}, \"name\": \"Linear growth rate in cm^3/day\", \"pointpos\": -1.5, \"type\": \"box\", \"visible\": false, \"y\": [0.10853691246125094, 0.10853690887211839, 0.10853690917296518, 0.1085369254826164, 0.10853691925992745, 0.10853691274505639, 0.10853690395520721, 0.10853690090331958, 0.10853691273809096, 0.10827363602946688]}, {\"boxpoints\": \"all\", \"jitter\": 0.2, \"line\": {\"color\": \"#AB63FA\"}, \"marker\": {\"color\": \"#AB63FA\", \"line\": {\"color\": \"black\", \"width\": 1}, \"opacity\": 0.7, \"symbol\": \"circle\"}, \"name\": \"Score\", \"pointpos\": -1.5, \"type\": \"box\", \"visible\": false, \"y\": [0.2588573465076962, 0.25885734650762954, 0.2588573465077549, 0.2588573465075943, 0.2588573465075406, 0.2588573465075647, 0.25885734650732667, 0.2588573465082111, 0.2588573465074746, 0.25885804033572385]}, {\"boxpoints\": \"all\", \"jitter\": 0.2, \"line\": {\"color\": \"#636EFA\"}, \"marker\": {\"color\": \"#636EFA\", \"line\": {\"color\": \"black\", \"width\": 1}, \"opacity\": 0.7, \"symbol\": \"circle\"}, \"name\": \"Initial tumour volume in cm^3\", \"pointpos\": -1.5, \"type\": \"box\", \"visible\": false, \"y\": [0.12380947926933264, 0.12375204233207937, 0.1238095080497146, 0.12380947097114209, 0.12380949238345118, 0.1238094862469088, 0.12380952454911864, 0.12380946627850715, 0.12380943582898597, 0.12332978765316374]}, {\"boxpoints\": \"all\", \"jitter\": 0.2, \"line\": {\"color\": \"#EF553B\"}, \"marker\": {\"color\": \"#EF553B\", \"line\": {\"color\": \"black\", \"width\": 1}, \"opacity\": 0.7, \"symbol\": \"circle\"}, \"name\": \"Exponential growth rate in 1/day\", \"pointpos\": -1.5, \"type\": \"box\", \"visible\": false, \"y\": [0.043031621093488855, 0.04299490278781422, 0.04303160860494105, 0.04303162047956739, 0.04303161172740619, 0.04303161462777581, 0.04303160580215425, 0.043031617558250454, 0.04303163205571626, 0.043521167323288076]}, {\"boxpoints\": \"all\", \"jitter\": 0.2, \"line\": {\"color\": \"#00CC96\"}, \"marker\": {\"color\": \"#00CC96\", \"line\": {\"color\": \"black\", \"width\": 1}, \"opacity\": 0.7, \"symbol\": \"circle\"}, \"name\": \"Linear growth rate in cm^3/day\", \"pointpos\": -1.5, \"type\": \"box\", \"visible\": false, \"y\": [0.07299522691912569, 0.07320569287508802, 0.07299522177633516, 0.07299522083346997, 0.07299521845635581, 0.07299521963863254, 0.07299522628859026, 0.07299521316872609, 0.07299522066869328, 0.07139561157939484]}, {\"boxpoints\": \"all\", \"jitter\": 0.2, \"line\": {\"color\": \"#AB63FA\"}, \"marker\": {\"color\": \"#AB63FA\", \"line\": {\"color\": \"black\", \"width\": 1}, \"opacity\": 0.7, \"symbol\": \"circle\"}, \"name\": \"Score\", \"pointpos\": -1.5, \"type\": \"box\", \"visible\": false, \"y\": [0.0029152929592707304, 0.0029155749484043774, 0.0029152929591844345, 0.0029152929592007105, 0.00291529295922699, 0.0029152929592145436, 0.002915292959205436, 0.0029152929591476687, 0.0029152929592472046, 0.002916019145911036]}, {\"boxpoints\": \"all\", \"jitter\": 0.2, \"line\": {\"color\": \"#636EFA\"}, \"marker\": {\"color\": \"#636EFA\", \"line\": {\"color\": \"black\", \"width\": 1}, \"opacity\": 0.7, \"symbol\": \"circle\"}, \"name\": \"Initial tumour volume in cm^3\", \"pointpos\": -1.5, \"type\": \"box\", \"visible\": false, \"y\": [0.08709062689256979, 0.08704782142485207, 0.08704783005898484, 0.08704782626171646, 0.0870478205289823, 0.08706150105252378, 0.08718952470460972, 0.0871283724996868, 0.08703632115649704, 0.08704782662584762]}, {\"boxpoints\": \"all\", \"jitter\": 0.2, \"line\": {\"color\": \"#EF553B\"}, \"marker\": {\"color\": \"#EF553B\", \"line\": {\"color\": \"black\", \"width\": 1}, \"opacity\": 0.7, \"symbol\": \"circle\"}, \"name\": \"Exponential growth rate in 1/day\", \"pointpos\": -1.5, \"type\": \"box\", \"visible\": false, \"y\": [0.036162119275219395, 0.036172157326260425, 0.03617215451433301, 0.036172156241540375, 0.03617215758071389, 0.03616768209047334, 0.03604580599476792, 0.03614872693642981, 0.03617844295231843, 0.036172154791365055]}, {\"boxpoints\": \"all\", \"jitter\": 0.2, \"line\": {\"color\": \"#00CC96\"}, \"marker\": {\"color\": \"#00CC96\", \"line\": {\"color\": \"black\", \"width\": 1}, \"opacity\": 0.7, \"symbol\": \"circle\"}, \"name\": \"Linear growth rate in cm^3/day\", \"pointpos\": -1.5, \"type\": \"box\", \"visible\": false, \"y\": [0.19324366577128144, 0.19325840518053342, 0.19325840885068235, 0.19325840974171274, 0.19325840452152449, 0.19325681590184224, 0.1986498021249713, 0.1932665359369135, 0.1931347363732071, 0.19325840261362687]}, {\"boxpoints\": \"all\", \"jitter\": 0.2, \"line\": {\"color\": \"#AB63FA\"}, \"marker\": {\"color\": \"#AB63FA\", \"line\": {\"color\": \"black\", \"width\": 1}, \"opacity\": 0.7, \"symbol\": \"circle\"}, \"name\": \"Score\", \"pointpos\": -1.5, \"type\": \"box\", \"visible\": false, \"y\": [0.002315620280364251, 0.0023155933407801696, 0.002315593340782402, 0.0023155933407815158, 0.002315593340780744, 0.0023155982459682704, 0.00231575182290097, 0.002315687467732273, 0.0023156072069740693, 0.0023155933407857454]}],\n",
       "                        {\"autosize\": true, \"legend\": {\"x\": 1.05, \"xanchor\": \"left\", \"y\": 0.01, \"yanchor\": \"bottom\"}, \"template\": {\"data\": {\"bar\": [{\"error_x\": {\"color\": \"#2a3f5f\"}, \"error_y\": {\"color\": \"#2a3f5f\"}, \"marker\": {\"line\": {\"color\": \"white\", \"width\": 0.5}}, \"type\": \"bar\"}], \"barpolar\": [{\"marker\": {\"line\": {\"color\": \"white\", \"width\": 0.5}}, \"type\": \"barpolar\"}], \"carpet\": [{\"aaxis\": {\"endlinecolor\": \"#2a3f5f\", \"gridcolor\": \"#C8D4E3\", \"linecolor\": \"#C8D4E3\", \"minorgridcolor\": \"#C8D4E3\", \"startlinecolor\": \"#2a3f5f\"}, \"baxis\": {\"endlinecolor\": \"#2a3f5f\", \"gridcolor\": \"#C8D4E3\", \"linecolor\": \"#C8D4E3\", \"minorgridcolor\": \"#C8D4E3\", \"startlinecolor\": \"#2a3f5f\"}, \"type\": \"carpet\"}], \"choropleth\": [{\"colorbar\": {\"outlinewidth\": 0, \"ticks\": \"\"}, \"type\": \"choropleth\"}], \"contour\": [{\"colorbar\": {\"outlinewidth\": 0, \"ticks\": \"\"}, \"colorscale\": [[0.0, \"#0d0887\"], [0.1111111111111111, \"#46039f\"], [0.2222222222222222, \"#7201a8\"], [0.3333333333333333, \"#9c179e\"], [0.4444444444444444, \"#bd3786\"], [0.5555555555555556, \"#d8576b\"], [0.6666666666666666, \"#ed7953\"], [0.7777777777777778, \"#fb9f3a\"], [0.8888888888888888, \"#fdca26\"], [1.0, \"#f0f921\"]], \"type\": \"contour\"}], \"contourcarpet\": [{\"colorbar\": {\"outlinewidth\": 0, \"ticks\": \"\"}, \"type\": \"contourcarpet\"}], \"heatmap\": [{\"colorbar\": {\"outlinewidth\": 0, \"ticks\": \"\"}, \"colorscale\": [[0.0, \"#0d0887\"], [0.1111111111111111, \"#46039f\"], [0.2222222222222222, \"#7201a8\"], [0.3333333333333333, \"#9c179e\"], [0.4444444444444444, \"#bd3786\"], [0.5555555555555556, \"#d8576b\"], [0.6666666666666666, \"#ed7953\"], [0.7777777777777778, \"#fb9f3a\"], [0.8888888888888888, \"#fdca26\"], [1.0, \"#f0f921\"]], \"type\": \"heatmap\"}], \"heatmapgl\": [{\"colorbar\": {\"outlinewidth\": 0, \"ticks\": \"\"}, \"colorscale\": [[0.0, \"#0d0887\"], [0.1111111111111111, \"#46039f\"], [0.2222222222222222, \"#7201a8\"], [0.3333333333333333, \"#9c179e\"], [0.4444444444444444, \"#bd3786\"], [0.5555555555555556, \"#d8576b\"], [0.6666666666666666, \"#ed7953\"], [0.7777777777777778, \"#fb9f3a\"], [0.8888888888888888, \"#fdca26\"], [1.0, \"#f0f921\"]], \"type\": \"heatmapgl\"}], \"histogram\": [{\"marker\": {\"colorbar\": {\"outlinewidth\": 0, \"ticks\": \"\"}}, \"type\": \"histogram\"}], \"histogram2d\": [{\"colorbar\": {\"outlinewidth\": 0, \"ticks\": \"\"}, \"colorscale\": [[0.0, \"#0d0887\"], [0.1111111111111111, \"#46039f\"], [0.2222222222222222, \"#7201a8\"], [0.3333333333333333, \"#9c179e\"], [0.4444444444444444, \"#bd3786\"], [0.5555555555555556, \"#d8576b\"], [0.6666666666666666, \"#ed7953\"], [0.7777777777777778, \"#fb9f3a\"], [0.8888888888888888, \"#fdca26\"], [1.0, \"#f0f921\"]], \"type\": \"histogram2d\"}], \"histogram2dcontour\": [{\"colorbar\": {\"outlinewidth\": 0, \"ticks\": \"\"}, \"colorscale\": [[0.0, \"#0d0887\"], [0.1111111111111111, \"#46039f\"], [0.2222222222222222, \"#7201a8\"], [0.3333333333333333, \"#9c179e\"], [0.4444444444444444, \"#bd3786\"], [0.5555555555555556, \"#d8576b\"], [0.6666666666666666, \"#ed7953\"], [0.7777777777777778, \"#fb9f3a\"], [0.8888888888888888, \"#fdca26\"], [1.0, \"#f0f921\"]], \"type\": \"histogram2dcontour\"}], \"mesh3d\": [{\"colorbar\": {\"outlinewidth\": 0, \"ticks\": \"\"}, \"type\": \"mesh3d\"}], \"parcoords\": [{\"line\": {\"colorbar\": {\"outlinewidth\": 0, \"ticks\": \"\"}}, \"type\": \"parcoords\"}], \"pie\": [{\"automargin\": true, \"type\": \"pie\"}], \"scatter\": [{\"marker\": {\"colorbar\": {\"outlinewidth\": 0, \"ticks\": \"\"}}, \"type\": \"scatter\"}], \"scatter3d\": [{\"line\": {\"colorbar\": {\"outlinewidth\": 0, \"ticks\": \"\"}}, \"marker\": {\"colorbar\": {\"outlinewidth\": 0, \"ticks\": \"\"}}, \"type\": \"scatter3d\"}], \"scattercarpet\": [{\"marker\": {\"colorbar\": {\"outlinewidth\": 0, \"ticks\": \"\"}}, \"type\": \"scattercarpet\"}], \"scattergeo\": [{\"marker\": {\"colorbar\": {\"outlinewidth\": 0, \"ticks\": \"\"}}, \"type\": \"scattergeo\"}], \"scattergl\": [{\"marker\": {\"colorbar\": {\"outlinewidth\": 0, \"ticks\": \"\"}}, \"type\": \"scattergl\"}], \"scattermapbox\": [{\"marker\": {\"colorbar\": {\"outlinewidth\": 0, \"ticks\": \"\"}}, \"type\": \"scattermapbox\"}], \"scatterpolar\": [{\"marker\": {\"colorbar\": {\"outlinewidth\": 0, \"ticks\": \"\"}}, \"type\": \"scatterpolar\"}], \"scatterpolargl\": [{\"marker\": {\"colorbar\": {\"outlinewidth\": 0, \"ticks\": \"\"}}, \"type\": \"scatterpolargl\"}], \"scatterternary\": [{\"marker\": {\"colorbar\": {\"outlinewidth\": 0, \"ticks\": \"\"}}, \"type\": \"scatterternary\"}], \"surface\": [{\"colorbar\": {\"outlinewidth\": 0, \"ticks\": \"\"}, \"colorscale\": [[0.0, \"#0d0887\"], [0.1111111111111111, \"#46039f\"], [0.2222222222222222, \"#7201a8\"], [0.3333333333333333, \"#9c179e\"], [0.4444444444444444, \"#bd3786\"], [0.5555555555555556, \"#d8576b\"], [0.6666666666666666, \"#ed7953\"], [0.7777777777777778, \"#fb9f3a\"], [0.8888888888888888, \"#fdca26\"], [1.0, \"#f0f921\"]], \"type\": \"surface\"}], \"table\": [{\"cells\": {\"fill\": {\"color\": \"#EBF0F8\"}, \"line\": {\"color\": \"white\"}}, \"header\": {\"fill\": {\"color\": \"#C8D4E3\"}, \"line\": {\"color\": \"white\"}}, \"type\": \"table\"}]}, \"layout\": {\"annotationdefaults\": {\"arrowcolor\": \"#2a3f5f\", \"arrowhead\": 0, \"arrowwidth\": 1}, \"coloraxis\": {\"colorbar\": {\"outlinewidth\": 0, \"ticks\": \"\"}}, \"colorscale\": {\"diverging\": [[0, \"#8e0152\"], [0.1, \"#c51b7d\"], [0.2, \"#de77ae\"], [0.3, \"#f1b6da\"], [0.4, \"#fde0ef\"], [0.5, \"#f7f7f7\"], [0.6, \"#e6f5d0\"], [0.7, \"#b8e186\"], [0.8, \"#7fbc41\"], [0.9, \"#4d9221\"], [1, \"#276419\"]], \"sequential\": [[0.0, \"#0d0887\"], [0.1111111111111111, \"#46039f\"], [0.2222222222222222, \"#7201a8\"], [0.3333333333333333, \"#9c179e\"], [0.4444444444444444, \"#bd3786\"], [0.5555555555555556, \"#d8576b\"], [0.6666666666666666, \"#ed7953\"], [0.7777777777777778, \"#fb9f3a\"], [0.8888888888888888, \"#fdca26\"], [1.0, \"#f0f921\"]], \"sequentialminus\": [[0.0, \"#0d0887\"], [0.1111111111111111, \"#46039f\"], [0.2222222222222222, \"#7201a8\"], [0.3333333333333333, \"#9c179e\"], [0.4444444444444444, \"#bd3786\"], [0.5555555555555556, \"#d8576b\"], [0.6666666666666666, \"#ed7953\"], [0.7777777777777778, \"#fb9f3a\"], [0.8888888888888888, \"#fdca26\"], [1.0, \"#f0f921\"]]}, \"colorway\": [\"#636efa\", \"#EF553B\", \"#00cc96\", \"#ab63fa\", \"#FFA15A\", \"#19d3f3\", \"#FF6692\", \"#B6E880\", \"#FF97FF\", \"#FECB52\"], \"font\": {\"color\": \"#2a3f5f\"}, \"geo\": {\"bgcolor\": \"white\", \"lakecolor\": \"white\", \"landcolor\": \"white\", \"showlakes\": true, \"showland\": true, \"subunitcolor\": \"#C8D4E3\"}, \"hoverlabel\": {\"align\": \"left\"}, \"hovermode\": \"closest\", \"mapbox\": {\"style\": \"light\"}, \"paper_bgcolor\": \"white\", \"plot_bgcolor\": \"white\", \"polar\": {\"angularaxis\": {\"gridcolor\": \"#EBF0F8\", \"linecolor\": \"#EBF0F8\", \"ticks\": \"\"}, \"bgcolor\": \"white\", \"radialaxis\": {\"gridcolor\": \"#EBF0F8\", \"linecolor\": \"#EBF0F8\", \"ticks\": \"\"}}, \"scene\": {\"xaxis\": {\"backgroundcolor\": \"white\", \"gridcolor\": \"#DFE8F3\", \"gridwidth\": 2, \"linecolor\": \"#EBF0F8\", \"showbackground\": true, \"ticks\": \"\", \"zerolinecolor\": \"#EBF0F8\"}, \"yaxis\": {\"backgroundcolor\": \"white\", \"gridcolor\": \"#DFE8F3\", \"gridwidth\": 2, \"linecolor\": \"#EBF0F8\", \"showbackground\": true, \"ticks\": \"\", \"zerolinecolor\": \"#EBF0F8\"}, \"zaxis\": {\"backgroundcolor\": \"white\", \"gridcolor\": \"#DFE8F3\", \"gridwidth\": 2, \"linecolor\": \"#EBF0F8\", \"showbackground\": true, \"ticks\": \"\", \"zerolinecolor\": \"#EBF0F8\"}}, \"shapedefaults\": {\"line\": {\"color\": \"#2a3f5f\"}}, \"ternary\": {\"aaxis\": {\"gridcolor\": \"#DFE8F3\", \"linecolor\": \"#A2B1C6\", \"ticks\": \"\"}, \"baxis\": {\"gridcolor\": \"#DFE8F3\", \"linecolor\": \"#A2B1C6\", \"ticks\": \"\"}, \"bgcolor\": \"white\", \"caxis\": {\"gridcolor\": \"#DFE8F3\", \"linecolor\": \"#A2B1C6\", \"ticks\": \"\"}}, \"title\": {\"x\": 0.05}, \"xaxis\": {\"automargin\": true, \"gridcolor\": \"#EBF0F8\", \"linecolor\": \"#EBF0F8\", \"ticks\": \"\", \"title\": {\"standoff\": 15}, \"zerolinecolor\": \"#EBF0F8\", \"zerolinewidth\": 2}, \"yaxis\": {\"automargin\": true, \"gridcolor\": \"#EBF0F8\", \"linecolor\": \"#EBF0F8\", \"ticks\": \"\", \"title\": {\"standoff\": 15}, \"zerolinecolor\": \"#EBF0F8\", \"zerolinewidth\": 2}}}, \"updatemenus\": [{\"buttons\": [{\"args\": [{\"visible\": [true, true, true, true, false, false, false, false, false, false, false, false, false, false, false, false, false, false, false, false, false, false, false, false, false, false, false, false, false, false, false, false]}], \"label\": \"ID: 40\", \"method\": \"restyle\"}, {\"args\": [{\"visible\": [false, false, false, false, true, true, true, true, false, false, false, false, false, false, false, false, false, false, false, false, false, false, false, false, false, false, false, false, false, false, false, false]}], \"label\": \"ID: 94\", \"method\": \"restyle\"}, {\"args\": [{\"visible\": [false, false, false, false, false, false, false, false, true, true, true, true, false, false, false, false, false, false, false, false, false, false, false, false, false, false, false, false, false, false, false, false]}], \"label\": \"ID: 95\", \"method\": \"restyle\"}, {\"args\": [{\"visible\": [false, false, false, false, false, false, false, false, false, false, false, false, true, true, true, true, false, false, false, false, false, false, false, false, false, false, false, false, false, false, false, false]}], \"label\": \"ID: 136\", \"method\": \"restyle\"}, {\"args\": [{\"visible\": [false, false, false, false, false, false, false, false, false, false, false, false, false, false, false, false, true, true, true, true, false, false, false, false, false, false, false, false, false, false, false, false]}], \"label\": \"ID: 140\", \"method\": \"restyle\"}, {\"args\": [{\"visible\": [false, false, false, false, false, false, false, false, false, false, false, false, false, false, false, false, false, false, false, false, true, true, true, true, false, false, false, false, false, false, false, false]}], \"label\": \"ID: 155\", \"method\": \"restyle\"}, {\"args\": [{\"visible\": [false, false, false, false, false, false, false, false, false, false, false, false, false, false, false, false, false, false, false, false, false, false, false, false, true, true, true, true, false, false, false, false]}], \"label\": \"ID: 169\", \"method\": \"restyle\"}, {\"args\": [{\"visible\": [false, false, false, false, false, false, false, false, false, false, false, false, false, false, false, false, false, false, false, false, false, false, false, false, false, false, false, false, true, true, true, true]}], \"label\": \"ID: 170\", \"method\": \"restyle\"}], \"direction\": \"right\", \"pad\": {\"r\": 0, \"t\": -10}, \"showactive\": true, \"type\": \"buttons\", \"x\": 0.0, \"xanchor\": \"left\", \"y\": 1.1, \"yanchor\": \"top\"}]},\n",
       "                        {\"responsive\": true}\n",
       "                    ).then(function(){\n",
       "                            \n",
       "var gd = document.getElementById('f5dabaa2-c51e-4279-a2fc-41a73981de84');\n",
       "var x = new MutationObserver(function (mutations, observer) {{\n",
       "        var display = window.getComputedStyle(gd).display;\n",
       "        if (!display || display === 'none') {{\n",
       "            console.log([gd, 'removed!']);\n",
       "            Plotly.purge(gd);\n",
       "            observer.disconnect();\n",
       "        }}\n",
       "}});\n",
       "\n",
       "// Listen for the removal of the full notebook cells\n",
       "var notebookContainer = gd.closest('#notebook-container');\n",
       "if (notebookContainer) {{\n",
       "    x.observe(notebookContainer, {childList: true});\n",
       "}}\n",
       "\n",
       "// Listen for the clearing of the current output cell\n",
       "var outputEl = gd.closest('.output');\n",
       "if (outputEl) {{\n",
       "    x.observe(outputEl, {childList: true});\n",
       "}}\n",
       "\n",
       "                        })\n",
       "                };\n",
       "                });\n",
       "            </script>\n",
       "        </div>"
      ]
     },
     "metadata": {},
     "output_type": "display_data"
    }
   ],
   "source": [
    "#\n",
    "# Visualisation of the spread of optimised model parameters for multiple runs from different initial points.\n",
    "#\n",
    "# This cell needs the above optimised paraemeters and their respective objective function scores, as well as the data\n",
    "# [mouse_parameters_dimless_optimisation, mouse_scores_multi_runs_dimless, data]\n",
    "#\n",
    "\n",
    "import plotly.colors\n",
    "import plotly.graph_objects as go\n",
    "\n",
    "\n",
    "# Get mouse ids\n",
    "mouse_ids = data['#ID'].unique()\n",
    "\n",
    "# Get number of parameters + score (for visualisation)\n",
    "n_params = mouse_parameters_multi_runs_dimless.shape[2] + 1\n",
    "\n",
    "# Define colorscheme\n",
    "colors = plotly.colors.qualitative.Plotly[:n_params]\n",
    "\n",
    "# Get optimised parameter sets\n",
    "optimised_parameters =  mouse_parameters_dimless_optimisation\n",
    "\n",
    "# Get scores for parameters\n",
    "scores = mouse_scores_multi_runs_dimless\n",
    "\n",
    "# Create figure\n",
    "fig = go.Figure()\n",
    "\n",
    "# Box plot of optimised model parameters\n",
    "for index, id_m in enumerate(mouse_ids):\n",
    "    # Get optimised parameters\n",
    "    parameters = optimised_parameters[index, ...]\n",
    "\n",
    "    # Get scores\n",
    "    score = scores[index, :]\n",
    "\n",
    "    # Create box plot of for initial tumour volume\n",
    "    fig.add_trace(\n",
    "        go.Box(\n",
    "            y=parameters[:, 0],  \n",
    "            name=\"Initial tumour volume in cm^3\",\n",
    "            boxpoints='all',\n",
    "            jitter=0.2,\n",
    "            pointpos=-1.5,\n",
    "            visible=True if index == 0 else False,\n",
    "            marker=dict(\n",
    "                symbol='circle',\n",
    "                opacity=0.7,\n",
    "                line=dict(color='black', width=1)),\n",
    "            marker_color=colors[0],\n",
    "            line_color=colors[0]))\n",
    "\n",
    "    # Create box plot of for exponential tumour growth\n",
    "    fig.add_trace(\n",
    "        go.Box(\n",
    "            y=parameters[:, 1],  \n",
    "            name=\"Exponential growth rate in 1/day\",\n",
    "            boxpoints='all',\n",
    "            jitter=0.2,\n",
    "            pointpos=-1.5,\n",
    "            visible=True if index == 0 else False,\n",
    "            marker=dict(\n",
    "                symbol='circle',\n",
    "                opacity=0.7,\n",
    "                line=dict(color='black', width=1)),\n",
    "            marker_color=colors[1],\n",
    "            line_color=colors[1]))\n",
    "\n",
    "    # Create box plot of for linear tumour growth\n",
    "    fig.add_trace(\n",
    "        go.Box(\n",
    "            y=parameters[:, 2],  \n",
    "            name=\"Linear growth rate in cm^3/day\",\n",
    "            boxpoints='all',\n",
    "            jitter=0.2,\n",
    "            pointpos=-1.5,\n",
    "            visible=True if index == 0 else False,\n",
    "            marker=dict(\n",
    "                symbol='circle',\n",
    "                opacity=0.7,\n",
    "                line=dict(color='black', width=1)),\n",
    "            marker_color=colors[2],\n",
    "            line_color=colors[2]))\n",
    "    \n",
    "    # Create box plot of for objective function score\n",
    "    fig.add_trace(\n",
    "        go.Box(\n",
    "            y=score,  \n",
    "            name=\"Score\",\n",
    "            boxpoints='all',\n",
    "            jitter=0.2,\n",
    "            pointpos=-1.5,\n",
    "            visible=True if index == 0 else False,\n",
    "            marker=dict(\n",
    "                symbol='circle',\n",
    "                opacity=0.7,\n",
    "                line=dict(color='black', width=1)),\n",
    "            marker_color=colors[3],\n",
    "            line_color=colors[3]))\n",
    "\n",
    "# Set figure size\n",
    "fig.update_layout(\n",
    "    autosize=True,\n",
    "    template=\"plotly_white\")\n",
    "\n",
    "# Add switch between mice\n",
    "fig.update_layout(\n",
    "    updatemenus=[\n",
    "        dict(\n",
    "            type = \"buttons\",\n",
    "            direction = \"right\",\n",
    "            buttons=list([\n",
    "                dict(\n",
    "                    args=[{\"visible\": [True]*4 + [False]*(4 * 7)}],\n",
    "                    label=\"ID: %d\" % mouse_ids[0],\n",
    "                    method=\"restyle\"\n",
    "                ),\n",
    "                dict(\n",
    "                    args=[{\"visible\": [False]*4 + [True]*4 + [False]*(4 * 6)}],\n",
    "                    label=\"ID: %d\" % mouse_ids[1],\n",
    "                    method=\"restyle\"\n",
    "                ),\n",
    "                dict(\n",
    "                    args=[{\"visible\": [False]*(4 * 2) + [True]*4 + [False]*(4 * 5)}],\n",
    "                    label=\"ID: %d\" % mouse_ids[2],\n",
    "                    method=\"restyle\"\n",
    "                ),\n",
    "                dict(\n",
    "                    args=[{\"visible\": [False]*(4 * 3) + [True]*4 + [False]*(4 * 4)}],\n",
    "                    label=\"ID: %d\" % mouse_ids[3],\n",
    "                    method=\"restyle\"\n",
    "                ),\n",
    "                dict(\n",
    "                    args=[{\"visible\": [False]*(4 * 4) + [True]*4 + [False]*(4 * 3)}],\n",
    "                    label=\"ID: %d\" % mouse_ids[4],\n",
    "                    method=\"restyle\"\n",
    "                ),\n",
    "                dict(\n",
    "                    args=[{\"visible\": [False]*(4 * 5) + [True]*4 + [False]*(4 * 2)}],\n",
    "                    label=\"ID: %d\" % mouse_ids[5],\n",
    "                    method=\"restyle\"\n",
    "                ),\n",
    "                dict(\n",
    "                    args=[{\"visible\": [False]*(4 * 6) + [True]*4 + [False]* 4}],\n",
    "                    label=\"ID: %d\" % mouse_ids[6],\n",
    "                    method=\"restyle\"\n",
    "                ),\n",
    "                dict(\n",
    "                    args=[{\"visible\": [False]*(4 * 7) + [True]*4}],\n",
    "                    label=\"ID: %d\" % mouse_ids[7],\n",
    "                    method=\"restyle\"\n",
    "                )\n",
    "            ]),\n",
    "            pad={\"r\": 0, \"t\": -10},\n",
    "            showactive=True,\n",
    "            x=0.0,\n",
    "            xanchor=\"left\",\n",
    "            y=1.1,\n",
    "            yanchor=\"top\"\n",
    "        )\n",
    "    ]\n",
    ")\n",
    "\n",
    "# Position legend\n",
    "fig.update_layout(legend=dict(\n",
    "    yanchor=\"bottom\",\n",
    "    y=0.01,\n",
    "    xanchor=\"left\",\n",
    "    x=1.05))\n",
    "\n",
    "# Show figure\n",
    "fig.show()\n"
   ]
  },
  {
   "cell_type": "markdown",
   "metadata": {},
   "source": [
    "**Figure 5:** Scatter and box plot of the structural model parameters $\\psi $ (initial tumour volume $V_0$, exponential growth rate $\\lambda _0$, linear growth rate $\\lambda _1$) found by minimising the squared distance between the predictions and the observations using a CMA-ES optimiser. For each individual the optimisation routine was run 10 times from a uniformly sampled starting point in $[10^{-3}, 10^3]$. In addition to the optimised parameters, also the distribution of the associated objective function scores is presented."
   ]
  },
  {
   "cell_type": "markdown",
   "metadata": {},
   "source": [
    "## Log-transforming the model parameters"
   ]
  },
  {
   "cell_type": "markdown",
   "metadata": {},
   "source": [
    "In fact, one can show that for large parameter magnitudes the model can develop apparent practical non-identifiabilties which are related to the floating point accuracy of the numerically evaluated objective function. For example in a scenario where $2\\lambda _0 \\ll \\lambda _1 $, the structural growth model approximately reduces to\n",
    "\n",
    "\\begin{equation*}\n",
    "    \n",
    "\\begin{equation*}"
   ]
  },
  {
   "cell_type": "code",
   "execution_count": 16,
   "metadata": {},
   "outputs": [],
   "source": [
    "#\n",
    "# Define log-tranformed pints model wrapper such that myokit model can be used for inference. In contrast to the PintsModel above, this model expects log-transformed parameters log(psi).\n",
    "#\n",
    "\n",
    "import myokit\n",
    "import numpy as np\n",
    "import pints\n",
    "\n",
    "from pkpd import model as m\n",
    "\n",
    "\n",
    "# Wrap myokit model, so it can be used with pints\n",
    "class LogTransformedPintsModel(pints.ForwardModel):\n",
    "    def __init__(self):\n",
    "        # Create myokit model\n",
    "        model = m.create_tumour_growth_model()\n",
    "\n",
    "        # Create simulator\n",
    "        self.sim = myokit.Simulation(model)\n",
    "\n",
    "    def n_parameters(self):\n",
    "        \"\"\"\n",
    "        Number of parameters to fit. Here log(V^s_T), log(lambda_0), log(lambda_1)\n",
    "        \"\"\"\n",
    "        return 3\n",
    "\n",
    "    def n_outputs(self):\n",
    "        return 1\n",
    "\n",
    "    def simulate(self, log_parameters, times):\n",
    "        # Reset simulation\n",
    "        self.sim.reset()\n",
    "\n",
    "        # Sort input parameters and transform to linear scale\n",
    "        initial_volume, lambda_0, lambda_1 = np.exp(log_parameters)\n",
    "\n",
    "        # Set initial condition\n",
    "        self.sim.set_state([initial_volume])\n",
    "\n",
    "        # Set growth constants\n",
    "        self.sim.set_constant('central.lambda_0', lambda_0)\n",
    "        self.sim.set_constant('central.lambda_1', lambda_1)\n",
    "\n",
    "        # Define logged variable\n",
    "        loggedVariable = 'central.volume_t'\n",
    "\n",
    "        # Simulate\n",
    "        output = self.sim.run(times[-1] + 1, log=[loggedVariable], log_times=times)\n",
    "        result = output[loggedVariable]\n",
    "\n",
    "        return np.array(result)"
   ]
  },
  {
   "cell_type": "code",
   "execution_count": 17,
   "metadata": {
    "tags": []
   },
   "outputs": [],
   "source": [
    "#\n",
    "# Run optimisation multiple times from random initial starting points.\n",
    "#\n",
    "# This cell needs above defined wrapped myokit model:\n",
    "# [LogTransformedPintsModel]\n",
    "#\n",
    "\n",
    "import os\n",
    "\n",
    "import myokit\n",
    "import numpy as np\n",
    "import pandas as pd\n",
    "import pints\n",
    "\n",
    "\n",
    "# Define number of optimisation runs for each individual\n",
    "n_runs = 10\n",
    "\n",
    "# Import data\n",
    "# Get path of current working directory\n",
    "path = os.getcwd()\n",
    "\n",
    "# Import LXF A677 control growth data\n",
    "data = pd.read_csv(path + '/data/lxf_control_growth.csv')\n",
    "n_mice = len(data['#ID'].unique())\n",
    "\n",
    "# Define container for the structural model estimates\n",
    "# Shape (n_mice, n_runs, n_parameters)\n",
    "n_parameters = 3\n",
    "mouse_parameters_multi_runs_log_transformed = np.empty(shape=(n_mice, n_runs, n_parameters))\n",
    "\n",
    "# Define container for the objective function score for the optimised parameters\n",
    "mouse_scores_multi_runs_log_transformed = np.empty(shape=(n_mice, n_runs))\n",
    "\n",
    "# Define random starting points over many orders of magnitude\n",
    "# Shape = (n_runs, n_parameters)\n",
    "initial_parameters = np.random.uniform(low=1E-3, high=1E3, size=(n_runs, n_parameters))\n",
    "\n",
    "# Find mouse parameters for LXF A677 population\n",
    "mouse_ids = data['#ID'].unique()\n",
    "for index, mouse_id in enumerate(mouse_ids):\n",
    "    # Create mask for mouse with specfied ID\n",
    "    mouse_mask = data['#ID'] == mouse_id\n",
    "\n",
    "    # Get relevant time points\n",
    "    times = data[mouse_mask]['TIME in day'].to_numpy()\n",
    "\n",
    "    # Get measured tumour volumes\n",
    "    observed_volumes = data[mouse_mask]['TUMOUR VOLUME in cm^3'].to_numpy()\n",
    "\n",
    "    # Create inverse problem\n",
    "    problem = pints.SingleOutputProblem(LogTransformedPintsModel(), times, observed_volumes)\n",
    "\n",
    "    # Create sum of squares error objective function\n",
    "    error = pints.SumOfSquaresError(problem)\n",
    "\n",
    "    # Create boundaries to biologically relevant values\n",
    "    boundary = pints.RectangularBoundaries(lower=np.log([1E-3]*3), upper=np.log([1E3]*3))\n",
    "\n",
    "    # Run optimisation multiple times\n",
    "    for run_id, initial_params in enumerate(initial_parameters):\n",
    "        # Transform parameters to log-scale\n",
    "        log_initial_params = np.log(initial_params)\n",
    "\n",
    "        # Create optimisation controller with a CMA-ES optimiser\n",
    "        optimiser = pints.OptimisationController(\n",
    "            function=error,\n",
    "            x0=log_initial_params,\n",
    "            boundaries=boundary,\n",
    "            method=pints.CMAES)\n",
    "\n",
    "        # Disable logging mode\n",
    "        optimiser.set_log_to_screen(False)\n",
    "\n",
    "        # Parallelise optimisation\n",
    "        optimiser.set_parallel(True)\n",
    "\n",
    "        # Find optimal parameters\n",
    "        try:\n",
    "            estimates, score = optimiser.run()\n",
    "        except:\n",
    "            # If inference breaks fill estimates with nan\n",
    "            estimates = np.array([np.nan, np.nan, np.nan])\n",
    "            score = np.nan\n",
    "\n",
    "        # Save estimates and score (back transformed to linear scale)\n",
    "        mouse_parameters_multi_runs_log_transformed[index, run_id, :] = np.exp(estimates)\n",
    "        mouse_scores_multi_runs_log_transformed[index, run_id] = score"
   ]
  },
  {
   "cell_type": "code",
   "execution_count": 18,
   "metadata": {},
   "outputs": [
    {
     "data": {
      "application/vnd.plotly.v1+json": {
       "config": {
        "plotlyServerURL": "https://plot.ly"
       },
       "data": [
        {
         "boxpoints": "all",
         "jitter": 0.2,
         "line": {
          "color": "#636EFA"
         },
         "marker": {
          "color": "#636EFA",
          "line": {
           "color": "black",
           "width": 1
          },
          "opacity": 0.7,
          "symbol": "circle"
         },
         "name": "Initial tumour volume in cm^3",
         "pointpos": -1.5,
         "type": "box",
         "visible": true,
         "y": [
          0.13919276924727553,
          0.1393825913552939,
          0.13926091496297482,
          0.1395526934730309,
          0.1393233827116885,
          0.13929787746369882,
          0.13950083954312403,
          0.13945458469564845,
          0.13932308436844137,
          0.13954637859377453
         ]
        },
        {
         "boxpoints": "all",
         "jitter": 0.2,
         "line": {
          "color": "#EF553B"
         },
         "marker": {
          "color": "#EF553B",
          "line": {
           "color": "black",
           "width": 1
          },
          "opacity": 0.7,
          "symbol": "circle"
         },
         "name": "Exponential growth rate in 1/day",
         "pointpos": -1.5,
         "type": "box",
         "visible": true,
         "y": [
          0.2756019558125923,
          0.2752641684609353,
          0.2754993142014071,
          0.27494612246020866,
          0.2754114958941548,
          0.2753857408611185,
          0.27497619985868027,
          0.2751633934420117,
          0.2754119451337784,
          0.27496057552490094
         ]
        },
        {
         "boxpoints": "all",
         "jitter": 0.2,
         "line": {
          "color": "#00CC96"
         },
         "marker": {
          "color": "#00CC96",
          "line": {
           "color": "black",
           "width": 1
          },
          "opacity": 0.7,
          "symbol": "circle"
         },
         "name": "Linear growth rate in cm^3/day",
         "pointpos": -1.5,
         "type": "box",
         "visible": true,
         "y": [
          0.130940631799957,
          0.130967564784696,
          0.13095581432240366,
          0.13097616404640683,
          0.13096883942260062,
          0.13095241904703653,
          0.13095589129634552,
          0.130989459686877,
          0.13096877832515044,
          0.13098392209183862
         ]
        },
        {
         "boxpoints": "all",
         "jitter": 0.2,
         "line": {
          "color": "#AB63FA"
         },
         "marker": {
          "color": "#AB63FA",
          "line": {
           "color": "black",
           "width": 1
          },
          "opacity": 0.7,
          "symbol": "circle"
         },
         "name": "Score",
         "pointpos": -1.5,
         "type": "box",
         "visible": true,
         "y": [
          0.03186062799275207,
          0.03186048514320033,
          0.03186032216822964,
          0.0318608290800345,
          0.031860188089662934,
          0.031860873606283965,
          0.031862094342221405,
          0.031860474453445746,
          0.03186018809240841,
          0.03186071623832946
         ]
        },
        {
         "boxpoints": "all",
         "jitter": 0.2,
         "line": {
          "color": "#636EFA"
         },
         "marker": {
          "color": "#636EFA",
          "line": {
           "color": "black",
           "width": 1
          },
          "opacity": 0.7,
          "symbol": "circle"
         },
         "name": "Initial tumour volume in cm^3",
         "pointpos": -1.5,
         "type": "box",
         "visible": false,
         "y": [
          0.07460091222105544,
          0.07443685382987536,
          0.07454257912120527,
          0.07443700321242427,
          0.0747992742529079,
          0.0745547755024388,
          0.07479927551174735,
          0.057526707355627996,
          0.0744373633861524,
          0.07455482335087578
         ]
        },
        {
         "boxpoints": "all",
         "jitter": 0.2,
         "line": {
          "color": "#EF553B"
         },
         "marker": {
          "color": "#EF553B",
          "line": {
           "color": "black",
           "width": 1
          },
          "opacity": 0.7,
          "symbol": "circle"
         },
         "name": "Exponential growth rate in 1/day",
         "pointpos": -1.5,
         "type": "box",
         "visible": false,
         "y": [
          0.16536800987495168,
          0.16940028228063359,
          0.1679526595727639,
          0.16939992270672413,
          0.16503518878442738,
          0.16791095642763543,
          0.16503518495166725,
          390.8480308490011,
          0.16939904336781808,
          0.16791093038078456
         ]
        },
        {
         "boxpoints": "all",
         "jitter": 0.2,
         "line": {
          "color": "#00CC96"
         },
         "marker": {
          "color": "#00CC96",
          "line": {
           "color": "black",
           "width": 1
          },
          "opacity": 0.7,
          "symbol": "circle"
         },
         "name": "Linear growth rate in cm^3/day",
         "pointpos": -1.5,
         "type": "box",
         "visible": false,
         "y": [
          0.020393821605137096,
          0.020274561026714523,
          0.020315791052554693,
          0.020274556565054516,
          0.020388812803669082,
          0.02031386553542157,
          0.02038881265561109,
          0.016439697910691012,
          0.020274544274485332,
          0.020313874503319482
         ]
        },
        {
         "boxpoints": "all",
         "jitter": 0.2,
         "line": {
          "color": "#AB63FA"
         },
         "marker": {
          "color": "#AB63FA",
          "line": {
           "color": "black",
           "width": 1
          },
          "opacity": 0.7,
          "symbol": "circle"
         },
         "name": "Score",
         "pointpos": -1.5,
         "type": "box",
         "visible": false,
         "y": [
          0.007450648499193944,
          0.007448563912883328,
          0.007448226999777552,
          0.0074485639130945835,
          0.007450327517828544,
          0.00744821782035877,
          0.007450327517819774,
          0.008274291669388588,
          0.007448563913725603,
          0.007448217820535804
         ]
        },
        {
         "boxpoints": "all",
         "jitter": 0.2,
         "line": {
          "color": "#636EFA"
         },
         "marker": {
          "color": "#636EFA",
          "line": {
           "color": "black",
           "width": 1
          },
          "opacity": 0.7,
          "symbol": "circle"
         },
         "name": "Initial tumour volume in cm^3",
         "pointpos": -1.5,
         "type": "box",
         "visible": false,
         "y": [
          0.22106913942661868,
          0.22106914143795117,
          0.22106913897534716,
          0.0033981517689429808,
          0.22106914312288575,
          0.22106914295215194,
          0.2210691409656733,
          0.221069132220249,
          0.22106914144814735,
          0.22106914878199282
         ]
        },
        {
         "boxpoints": "all",
         "jitter": 0.2,
         "line": {
          "color": "#EF553B"
         },
         "marker": {
          "color": "#EF553B",
          "line": {
           "color": "black",
           "width": 1
          },
          "opacity": 0.7,
          "symbol": "circle"
         },
         "name": "Exponential growth rate in 1/day",
         "pointpos": -1.5,
         "type": "box",
         "visible": false,
         "y": [
          0.05553423935403408,
          0.055534239410003954,
          0.05553423935380728,
          999.0805551619661,
          0.05553423891875885,
          0.05553423956795481,
          0.05553423942721459,
          0.055534240237615426,
          0.05553423896529252,
          0.05553423857909948
         ]
        },
        {
         "boxpoints": "all",
         "jitter": 0.2,
         "line": {
          "color": "#00CC96"
         },
         "marker": {
          "color": "#00CC96",
          "line": {
           "color": "black",
           "width": 1
          },
          "opacity": 0.7,
          "symbol": "circle"
         },
         "name": "Linear growth rate in cm^3/day",
         "pointpos": -1.5,
         "type": "box",
         "visible": false,
         "y": [
          999.9999999986248,
          999.9999999527478,
          999.9999999831865,
          0.08813513970246464,
          999.9999999848279,
          999.9999999903613,
          999.9999999852231,
          999.9999999791524,
          999.9999999949948,
          999.999999979077
         ]
        },
        {
         "boxpoints": "all",
         "jitter": 0.2,
         "line": {
          "color": "#AB63FA"
         },
         "marker": {
          "color": "#AB63FA",
          "line": {
           "color": "black",
           "width": 1
          },
          "opacity": 0.7,
          "symbol": "circle"
         },
         "name": "Score",
         "pointpos": -1.5,
         "type": "box",
         "visible": false,
         "y": [
          0.0993183674990339,
          0.09931836749903304,
          0.09931836749903757,
          0.5376140165247733,
          0.09931836749903568,
          0.09931836749903487,
          0.09931836749903476,
          0.09931836749903106,
          0.09931836749903253,
          0.09931836749903526
         ]
        },
        {
         "boxpoints": "all",
         "jitter": 0.2,
         "line": {
          "color": "#636EFA"
         },
         "marker": {
          "color": "#636EFA",
          "line": {
           "color": "black",
           "width": 1
          },
          "opacity": 0.7,
          "symbol": "circle"
         },
         "name": "Initial tumour volume in cm^3",
         "pointpos": -1.5,
         "type": "box",
         "visible": false,
         "y": [
          0.1481505084873295,
          0.14903750248779096,
          0.14899827925627152,
          0.1489849904371094,
          0.14891707443316562,
          0.1484202496477121,
          0.1485517654686136,
          0.1491017345398812,
          0.14862888485756207,
          0.14902297102009773
         ]
        },
        {
         "boxpoints": "all",
         "jitter": 0.2,
         "line": {
          "color": "#EF553B"
         },
         "marker": {
          "color": "#EF553B",
          "line": {
           "color": "black",
           "width": 1
          },
          "opacity": 0.7,
          "symbol": "circle"
         },
         "name": "Exponential growth rate in 1/day",
         "pointpos": -1.5,
         "type": "box",
         "visible": false,
         "y": [
          0.05479736979446461,
          0.05425893673564967,
          0.054256607134634344,
          0.054266241275508116,
          0.054287586619988025,
          0.054745581733220666,
          0.0547173997739065,
          0.0545532872478183,
          0.05468288639028309,
          0.05425531355582151
         ]
        },
        {
         "boxpoints": "all",
         "jitter": 0.2,
         "line": {
          "color": "#00CC96"
         },
         "marker": {
          "color": "#00CC96",
          "line": {
           "color": "black",
           "width": 1
          },
          "opacity": 0.7,
          "symbol": "circle"
         },
         "name": "Linear growth rate in cm^3/day",
         "pointpos": -1.5,
         "type": "box",
         "visible": false,
         "y": [
          0.12676740907392334,
          0.12878859278574203,
          0.12879856218475258,
          0.1288075690877382,
          0.12875537198380135,
          0.12688361776537263,
          0.12672972656945497,
          0.12688157110157208,
          0.12681886606424245,
          0.12881401373864912
         ]
        },
        {
         "boxpoints": "all",
         "jitter": 0.2,
         "line": {
          "color": "#AB63FA"
         },
         "marker": {
          "color": "#AB63FA",
          "line": {
           "color": "black",
           "width": 1
          },
          "opacity": 0.7,
          "symbol": "circle"
         },
         "name": "Score",
         "pointpos": -1.5,
         "type": "box",
         "visible": false,
         "y": [
          0.04018035915429626,
          0.040184758620663966,
          0.040185109628370914,
          0.04018455237826866,
          0.04018471951449029,
          0.04018231422430599,
          0.040182082615779484,
          0.04018733503901925,
          0.040181756160195974,
          0.04018458188190811
         ]
        },
        {
         "boxpoints": "all",
         "jitter": 0.2,
         "line": {
          "color": "#636EFA"
         },
         "marker": {
          "color": "#636EFA",
          "line": {
           "color": "black",
           "width": 1
          },
          "opacity": 0.7,
          "symbol": "circle"
         },
         "name": "Initial tumour volume in cm^3",
         "pointpos": -1.5,
         "type": "box",
         "visible": false,
         "y": [
          0.08430032996963435,
          0.08430035773509043,
          0.08430034898703909,
          0.08430039461690399,
          0.0843003707731004,
          0.08430033252688948,
          0.08430036143851671,
          0.08430034192091733,
          0.08430032812771936,
          0.08430036852629788
         ]
        },
        {
         "boxpoints": "all",
         "jitter": 0.2,
         "line": {
          "color": "#EF553B"
         },
         "marker": {
          "color": "#EF553B",
          "line": {
           "color": "black",
           "width": 1
          },
          "opacity": 0.7,
          "symbol": "circle"
         },
         "name": "Exponential growth rate in 1/day",
         "pointpos": -1.5,
         "type": "box",
         "visible": false,
         "y": [
          0.05412915307779471,
          0.05412914836404497,
          0.05412915084126272,
          0.054129140998950366,
          0.05412914464788496,
          0.054129152581042,
          0.054129148507569,
          0.05412915073313357,
          0.05412915365318979,
          0.05412914578547555
         ]
        },
        {
         "boxpoints": "all",
         "jitter": 0.2,
         "line": {
          "color": "#00CC96"
         },
         "marker": {
          "color": "#00CC96",
          "line": {
           "color": "black",
           "width": 1
          },
          "opacity": 0.7,
          "symbol": "circle"
         },
         "name": "Linear growth rate in cm^3/day",
         "pointpos": -1.5,
         "type": "box",
         "visible": false,
         "y": [
          999.9999997474507,
          999.9999994594837,
          999.9999960338861,
          999.9999991151707,
          999.9999980372578,
          999.9999996398692,
          999.9999995754603,
          999.9999985391959,
          999.9999999877411,
          999.9999999960252
         ]
        },
        {
         "boxpoints": "all",
         "jitter": 0.2,
         "line": {
          "color": "#AB63FA"
         },
         "marker": {
          "color": "#AB63FA",
          "line": {
           "color": "black",
           "width": 1
          },
          "opacity": 0.7,
          "symbol": "circle"
         },
         "name": "Score",
         "pointpos": -1.5,
         "type": "box",
         "visible": false,
         "y": [
          0.14589083590903149,
          0.14589083590898044,
          0.14589083590894902,
          0.14589083590917676,
          0.14589083590907295,
          0.14589083590912877,
          0.14589083590884525,
          0.14589083590909965,
          0.14589083590898783,
          0.14589083590886556
         ]
        },
        {
         "boxpoints": "all",
         "jitter": 0.2,
         "line": {
          "color": "#636EFA"
         },
         "marker": {
          "color": "#636EFA",
          "line": {
           "color": "black",
           "width": 1
          },
          "opacity": 0.7,
          "symbol": "circle"
         },
         "name": "Initial tumour volume in cm^3",
         "pointpos": -1.5,
         "type": "box",
         "visible": false,
         "y": [
          0.1332741328342255,
          0.13289511644846788,
          0.1332742131239166,
          0.13327403030374815,
          0.13289532512764682,
          0.0010481961952744344,
          0.13327425528343814,
          0.1332743413402371,
          0.13289509500559346,
          0.13289573488957493
         ]
        },
        {
         "boxpoints": "all",
         "jitter": 0.2,
         "line": {
          "color": "#EF553B"
         },
         "marker": {
          "color": "#EF553B",
          "line": {
           "color": "black",
           "width": 1
          },
          "opacity": 0.7,
          "symbol": "circle"
         },
         "name": "Exponential growth rate in 1/day",
         "pointpos": -1.5,
         "type": "box",
         "visible": false,
         "y": [
          0.19735958088035274,
          0.19900633007595092,
          0.19735946116599723,
          0.19735969932697878,
          0.1990060809734414,
          5.622344130859304,
          0.1973593953388395,
          0.19735931904476367,
          0.19900633476720028,
          0.1990055082443543
         ]
        },
        {
         "boxpoints": "all",
         "jitter": 0.2,
         "line": {
          "color": "#00CC96"
         },
         "marker": {
          "color": "#00CC96",
          "line": {
           "color": "black",
           "width": 1
          },
          "opacity": 0.7,
          "symbol": "circle"
         },
         "name": "Linear growth rate in cm^3/day",
         "pointpos": -1.5,
         "type": "box",
         "visible": false,
         "y": [
          0.10853691868755867,
          0.10827363420095738,
          0.10853691780207202,
          0.10853690078647607,
          0.10827366948785568,
          0.08364587418734562,
          0.1085369158125252,
          0.10853694339670594,
          0.10827361921617316,
          0.10827369338277179
         ]
        },
        {
         "boxpoints": "all",
         "jitter": 0.2,
         "line": {
          "color": "#AB63FA"
         },
         "marker": {
          "color": "#AB63FA",
          "line": {
           "color": "black",
           "width": 1
          },
          "opacity": 0.7,
          "symbol": "circle"
         },
         "name": "Score",
         "pointpos": -1.5,
         "type": "box",
         "visible": false,
         "y": [
          0.25885734650737224,
          0.2588580403358694,
          0.25885734650684333,
          0.25885734650645503,
          0.25885804033636767,
          0.287945946671264,
          0.2588573465076448,
          0.25885734650719133,
          0.2588580403356818,
          0.25885804033699056
         ]
        },
        {
         "boxpoints": "all",
         "jitter": 0.2,
         "line": {
          "color": "#636EFA"
         },
         "marker": {
          "color": "#636EFA",
          "line": {
           "color": "black",
           "width": 1
          },
          "opacity": 0.7,
          "symbol": "circle"
         },
         "name": "Initial tumour volume in cm^3",
         "pointpos": -1.5,
         "type": "box",
         "visible": false,
         "y": [
          0.12332977966156766,
          0.12380939680622383,
          0.1233298304290303,
          0.12380945621335232,
          0.12332981839874418,
          0.12332975799788044,
          0.12380950016695166,
          0.12380943222870659,
          0.1238178791244636,
          0.12332984502352981
         ]
        },
        {
         "boxpoints": "all",
         "jitter": 0.2,
         "line": {
          "color": "#EF553B"
         },
         "marker": {
          "color": "#EF553B",
          "line": {
           "color": "black",
           "width": 1
          },
          "opacity": 0.7,
          "symbol": "circle"
         },
         "name": "Exponential growth rate in 1/day",
         "pointpos": -1.5,
         "type": "box",
         "visible": false,
         "y": [
          0.04352117579768446,
          0.04303163989740282,
          0.04352116174764521,
          0.04303161550262676,
          0.04352116136971142,
          0.04352118329829368,
          0.04303161110858325,
          0.043031633097236614,
          0.042985046435527884,
          0.043521152968351254
         ]
        },
        {
         "boxpoints": "all",
         "jitter": 0.2,
         "line": {
          "color": "#00CC96"
         },
         "marker": {
          "color": "#00CC96",
          "line": {
           "color": "black",
           "width": 1
          },
          "opacity": 0.7,
          "symbol": "circle"
         },
         "name": "Linear growth rate in cm^3/day",
         "pointpos": -1.5,
         "type": "box",
         "visible": false,
         "y": [
          0.07139562096097982,
          0.07299521206428083,
          0.07139562647491077,
          0.07299520403868795,
          0.07139561902080482,
          0.07139562123036879,
          0.0729952213901877,
          0.07299522014839831,
          0.07319363930129619,
          0.07139562032040271
         ]
        },
        {
         "boxpoints": "all",
         "jitter": 0.2,
         "line": {
          "color": "#AB63FA"
         },
         "marker": {
          "color": "#AB63FA",
          "line": {
           "color": "black",
           "width": 1
          },
          "opacity": 0.7,
          "symbol": "circle"
         },
         "name": "Score",
         "pointpos": -1.5,
         "type": "box",
         "visible": false,
         "y": [
          0.002916019145864722,
          0.0029152929592450366,
          0.0029160191458489,
          0.0029152929592706346,
          0.002916019145854895,
          0.002916019145784468,
          0.0029152929591661487,
          0.0029152929591233345,
          0.0029154163316993656,
          0.00291601914581609
         ]
        },
        {
         "boxpoints": "all",
         "jitter": 0.2,
         "line": {
          "color": "#636EFA"
         },
         "marker": {
          "color": "#636EFA",
          "line": {
           "color": "black",
           "width": 1
          },
          "opacity": 0.7,
          "symbol": "circle"
         },
         "name": "Initial tumour volume in cm^3",
         "pointpos": -1.5,
         "type": "box",
         "visible": false,
         "y": [
          0.08701895715606392,
          0.08701114331558771,
          0.087047806422338,
          0.08710914269010074,
          0.0870478330048205,
          0.08710914847447174,
          0.08704782729503312,
          0.0870405915395547,
          0.08700600007536195,
          0.08704783497004434
         ]
        },
        {
         "boxpoints": "all",
         "jitter": 0.2,
         "line": {
          "color": "#EF553B"
         },
         "marker": {
          "color": "#EF553B",
          "line": {
           "color": "black",
           "width": 1
          },
          "opacity": 0.7,
          "symbol": "circle"
         },
         "name": "Exponential growth rate in 1/day",
         "pointpos": -1.5,
         "type": "box",
         "visible": false,
         "y": [
          0.036176797497038615,
          0.03618510398337434,
          0.0361721615230318,
          0.036118346145486896,
          0.03617215515924832,
          0.03611834615959378,
          0.03617215556189543,
          0.03617555632501728,
          0.03618379875300149,
          0.03617215461145966
         ]
        },
        {
         "boxpoints": "all",
         "jitter": 0.2,
         "line": {
          "color": "#00CC96"
         },
         "marker": {
          "color": "#00CC96",
          "line": {
           "color": "black",
           "width": 1
          },
          "opacity": 0.7,
          "symbol": "circle"
         },
         "name": "Linear growth rate in cm^3/day",
         "pointpos": -1.5,
         "type": "box",
         "visible": false,
         "y": [
          0.1930409721596083,
          0.19317025140241123,
          0.19325839499870295,
          0.19534756504179987,
          0.1932584185059418,
          0.19534757763993357,
          0.19325840793904528,
          0.19314655315717597,
          0.1932120870396048,
          0.19325841975800653
         ]
        },
        {
         "boxpoints": "all",
         "jitter": 0.2,
         "line": {
          "color": "#AB63FA"
         },
         "marker": {
          "color": "#AB63FA",
          "line": {
           "color": "black",
           "width": 1
          },
          "opacity": 0.7,
          "symbol": "circle"
         },
         "name": "Score",
         "pointpos": -1.5,
         "type": "box",
         "visible": false,
         "y": [
          0.0023157018933869264,
          0.0023156224231451676,
          0.002315593340783343,
          0.0023157352352754187,
          0.002315593340785007,
          0.0023157352352838646,
          0.0023155933407832956,
          0.0023156018774206856,
          0.002315614194249467,
          0.002315593340786571
         ]
        }
       ],
       "layout": {
        "autosize": true,
        "legend": {
         "x": 1.05,
         "xanchor": "left",
         "y": 0.01,
         "yanchor": "bottom"
        },
        "template": {
         "data": {
          "bar": [
           {
            "error_x": {
             "color": "#2a3f5f"
            },
            "error_y": {
             "color": "#2a3f5f"
            },
            "marker": {
             "line": {
              "color": "white",
              "width": 0.5
             }
            },
            "type": "bar"
           }
          ],
          "barpolar": [
           {
            "marker": {
             "line": {
              "color": "white",
              "width": 0.5
             }
            },
            "type": "barpolar"
           }
          ],
          "carpet": [
           {
            "aaxis": {
             "endlinecolor": "#2a3f5f",
             "gridcolor": "#C8D4E3",
             "linecolor": "#C8D4E3",
             "minorgridcolor": "#C8D4E3",
             "startlinecolor": "#2a3f5f"
            },
            "baxis": {
             "endlinecolor": "#2a3f5f",
             "gridcolor": "#C8D4E3",
             "linecolor": "#C8D4E3",
             "minorgridcolor": "#C8D4E3",
             "startlinecolor": "#2a3f5f"
            },
            "type": "carpet"
           }
          ],
          "choropleth": [
           {
            "colorbar": {
             "outlinewidth": 0,
             "ticks": ""
            },
            "type": "choropleth"
           }
          ],
          "contour": [
           {
            "colorbar": {
             "outlinewidth": 0,
             "ticks": ""
            },
            "colorscale": [
             [
              0,
              "#0d0887"
             ],
             [
              0.1111111111111111,
              "#46039f"
             ],
             [
              0.2222222222222222,
              "#7201a8"
             ],
             [
              0.3333333333333333,
              "#9c179e"
             ],
             [
              0.4444444444444444,
              "#bd3786"
             ],
             [
              0.5555555555555556,
              "#d8576b"
             ],
             [
              0.6666666666666666,
              "#ed7953"
             ],
             [
              0.7777777777777778,
              "#fb9f3a"
             ],
             [
              0.8888888888888888,
              "#fdca26"
             ],
             [
              1,
              "#f0f921"
             ]
            ],
            "type": "contour"
           }
          ],
          "contourcarpet": [
           {
            "colorbar": {
             "outlinewidth": 0,
             "ticks": ""
            },
            "type": "contourcarpet"
           }
          ],
          "heatmap": [
           {
            "colorbar": {
             "outlinewidth": 0,
             "ticks": ""
            },
            "colorscale": [
             [
              0,
              "#0d0887"
             ],
             [
              0.1111111111111111,
              "#46039f"
             ],
             [
              0.2222222222222222,
              "#7201a8"
             ],
             [
              0.3333333333333333,
              "#9c179e"
             ],
             [
              0.4444444444444444,
              "#bd3786"
             ],
             [
              0.5555555555555556,
              "#d8576b"
             ],
             [
              0.6666666666666666,
              "#ed7953"
             ],
             [
              0.7777777777777778,
              "#fb9f3a"
             ],
             [
              0.8888888888888888,
              "#fdca26"
             ],
             [
              1,
              "#f0f921"
             ]
            ],
            "type": "heatmap"
           }
          ],
          "heatmapgl": [
           {
            "colorbar": {
             "outlinewidth": 0,
             "ticks": ""
            },
            "colorscale": [
             [
              0,
              "#0d0887"
             ],
             [
              0.1111111111111111,
              "#46039f"
             ],
             [
              0.2222222222222222,
              "#7201a8"
             ],
             [
              0.3333333333333333,
              "#9c179e"
             ],
             [
              0.4444444444444444,
              "#bd3786"
             ],
             [
              0.5555555555555556,
              "#d8576b"
             ],
             [
              0.6666666666666666,
              "#ed7953"
             ],
             [
              0.7777777777777778,
              "#fb9f3a"
             ],
             [
              0.8888888888888888,
              "#fdca26"
             ],
             [
              1,
              "#f0f921"
             ]
            ],
            "type": "heatmapgl"
           }
          ],
          "histogram": [
           {
            "marker": {
             "colorbar": {
              "outlinewidth": 0,
              "ticks": ""
             }
            },
            "type": "histogram"
           }
          ],
          "histogram2d": [
           {
            "colorbar": {
             "outlinewidth": 0,
             "ticks": ""
            },
            "colorscale": [
             [
              0,
              "#0d0887"
             ],
             [
              0.1111111111111111,
              "#46039f"
             ],
             [
              0.2222222222222222,
              "#7201a8"
             ],
             [
              0.3333333333333333,
              "#9c179e"
             ],
             [
              0.4444444444444444,
              "#bd3786"
             ],
             [
              0.5555555555555556,
              "#d8576b"
             ],
             [
              0.6666666666666666,
              "#ed7953"
             ],
             [
              0.7777777777777778,
              "#fb9f3a"
             ],
             [
              0.8888888888888888,
              "#fdca26"
             ],
             [
              1,
              "#f0f921"
             ]
            ],
            "type": "histogram2d"
           }
          ],
          "histogram2dcontour": [
           {
            "colorbar": {
             "outlinewidth": 0,
             "ticks": ""
            },
            "colorscale": [
             [
              0,
              "#0d0887"
             ],
             [
              0.1111111111111111,
              "#46039f"
             ],
             [
              0.2222222222222222,
              "#7201a8"
             ],
             [
              0.3333333333333333,
              "#9c179e"
             ],
             [
              0.4444444444444444,
              "#bd3786"
             ],
             [
              0.5555555555555556,
              "#d8576b"
             ],
             [
              0.6666666666666666,
              "#ed7953"
             ],
             [
              0.7777777777777778,
              "#fb9f3a"
             ],
             [
              0.8888888888888888,
              "#fdca26"
             ],
             [
              1,
              "#f0f921"
             ]
            ],
            "type": "histogram2dcontour"
           }
          ],
          "mesh3d": [
           {
            "colorbar": {
             "outlinewidth": 0,
             "ticks": ""
            },
            "type": "mesh3d"
           }
          ],
          "parcoords": [
           {
            "line": {
             "colorbar": {
              "outlinewidth": 0,
              "ticks": ""
             }
            },
            "type": "parcoords"
           }
          ],
          "pie": [
           {
            "automargin": true,
            "type": "pie"
           }
          ],
          "scatter": [
           {
            "marker": {
             "colorbar": {
              "outlinewidth": 0,
              "ticks": ""
             }
            },
            "type": "scatter"
           }
          ],
          "scatter3d": [
           {
            "line": {
             "colorbar": {
              "outlinewidth": 0,
              "ticks": ""
             }
            },
            "marker": {
             "colorbar": {
              "outlinewidth": 0,
              "ticks": ""
             }
            },
            "type": "scatter3d"
           }
          ],
          "scattercarpet": [
           {
            "marker": {
             "colorbar": {
              "outlinewidth": 0,
              "ticks": ""
             }
            },
            "type": "scattercarpet"
           }
          ],
          "scattergeo": [
           {
            "marker": {
             "colorbar": {
              "outlinewidth": 0,
              "ticks": ""
             }
            },
            "type": "scattergeo"
           }
          ],
          "scattergl": [
           {
            "marker": {
             "colorbar": {
              "outlinewidth": 0,
              "ticks": ""
             }
            },
            "type": "scattergl"
           }
          ],
          "scattermapbox": [
           {
            "marker": {
             "colorbar": {
              "outlinewidth": 0,
              "ticks": ""
             }
            },
            "type": "scattermapbox"
           }
          ],
          "scatterpolar": [
           {
            "marker": {
             "colorbar": {
              "outlinewidth": 0,
              "ticks": ""
             }
            },
            "type": "scatterpolar"
           }
          ],
          "scatterpolargl": [
           {
            "marker": {
             "colorbar": {
              "outlinewidth": 0,
              "ticks": ""
             }
            },
            "type": "scatterpolargl"
           }
          ],
          "scatterternary": [
           {
            "marker": {
             "colorbar": {
              "outlinewidth": 0,
              "ticks": ""
             }
            },
            "type": "scatterternary"
           }
          ],
          "surface": [
           {
            "colorbar": {
             "outlinewidth": 0,
             "ticks": ""
            },
            "colorscale": [
             [
              0,
              "#0d0887"
             ],
             [
              0.1111111111111111,
              "#46039f"
             ],
             [
              0.2222222222222222,
              "#7201a8"
             ],
             [
              0.3333333333333333,
              "#9c179e"
             ],
             [
              0.4444444444444444,
              "#bd3786"
             ],
             [
              0.5555555555555556,
              "#d8576b"
             ],
             [
              0.6666666666666666,
              "#ed7953"
             ],
             [
              0.7777777777777778,
              "#fb9f3a"
             ],
             [
              0.8888888888888888,
              "#fdca26"
             ],
             [
              1,
              "#f0f921"
             ]
            ],
            "type": "surface"
           }
          ],
          "table": [
           {
            "cells": {
             "fill": {
              "color": "#EBF0F8"
             },
             "line": {
              "color": "white"
             }
            },
            "header": {
             "fill": {
              "color": "#C8D4E3"
             },
             "line": {
              "color": "white"
             }
            },
            "type": "table"
           }
          ]
         },
         "layout": {
          "annotationdefaults": {
           "arrowcolor": "#2a3f5f",
           "arrowhead": 0,
           "arrowwidth": 1
          },
          "coloraxis": {
           "colorbar": {
            "outlinewidth": 0,
            "ticks": ""
           }
          },
          "colorscale": {
           "diverging": [
            [
             0,
             "#8e0152"
            ],
            [
             0.1,
             "#c51b7d"
            ],
            [
             0.2,
             "#de77ae"
            ],
            [
             0.3,
             "#f1b6da"
            ],
            [
             0.4,
             "#fde0ef"
            ],
            [
             0.5,
             "#f7f7f7"
            ],
            [
             0.6,
             "#e6f5d0"
            ],
            [
             0.7,
             "#b8e186"
            ],
            [
             0.8,
             "#7fbc41"
            ],
            [
             0.9,
             "#4d9221"
            ],
            [
             1,
             "#276419"
            ]
           ],
           "sequential": [
            [
             0,
             "#0d0887"
            ],
            [
             0.1111111111111111,
             "#46039f"
            ],
            [
             0.2222222222222222,
             "#7201a8"
            ],
            [
             0.3333333333333333,
             "#9c179e"
            ],
            [
             0.4444444444444444,
             "#bd3786"
            ],
            [
             0.5555555555555556,
             "#d8576b"
            ],
            [
             0.6666666666666666,
             "#ed7953"
            ],
            [
             0.7777777777777778,
             "#fb9f3a"
            ],
            [
             0.8888888888888888,
             "#fdca26"
            ],
            [
             1,
             "#f0f921"
            ]
           ],
           "sequentialminus": [
            [
             0,
             "#0d0887"
            ],
            [
             0.1111111111111111,
             "#46039f"
            ],
            [
             0.2222222222222222,
             "#7201a8"
            ],
            [
             0.3333333333333333,
             "#9c179e"
            ],
            [
             0.4444444444444444,
             "#bd3786"
            ],
            [
             0.5555555555555556,
             "#d8576b"
            ],
            [
             0.6666666666666666,
             "#ed7953"
            ],
            [
             0.7777777777777778,
             "#fb9f3a"
            ],
            [
             0.8888888888888888,
             "#fdca26"
            ],
            [
             1,
             "#f0f921"
            ]
           ]
          },
          "colorway": [
           "#636efa",
           "#EF553B",
           "#00cc96",
           "#ab63fa",
           "#FFA15A",
           "#19d3f3",
           "#FF6692",
           "#B6E880",
           "#FF97FF",
           "#FECB52"
          ],
          "font": {
           "color": "#2a3f5f"
          },
          "geo": {
           "bgcolor": "white",
           "lakecolor": "white",
           "landcolor": "white",
           "showlakes": true,
           "showland": true,
           "subunitcolor": "#C8D4E3"
          },
          "hoverlabel": {
           "align": "left"
          },
          "hovermode": "closest",
          "mapbox": {
           "style": "light"
          },
          "paper_bgcolor": "white",
          "plot_bgcolor": "white",
          "polar": {
           "angularaxis": {
            "gridcolor": "#EBF0F8",
            "linecolor": "#EBF0F8",
            "ticks": ""
           },
           "bgcolor": "white",
           "radialaxis": {
            "gridcolor": "#EBF0F8",
            "linecolor": "#EBF0F8",
            "ticks": ""
           }
          },
          "scene": {
           "xaxis": {
            "backgroundcolor": "white",
            "gridcolor": "#DFE8F3",
            "gridwidth": 2,
            "linecolor": "#EBF0F8",
            "showbackground": true,
            "ticks": "",
            "zerolinecolor": "#EBF0F8"
           },
           "yaxis": {
            "backgroundcolor": "white",
            "gridcolor": "#DFE8F3",
            "gridwidth": 2,
            "linecolor": "#EBF0F8",
            "showbackground": true,
            "ticks": "",
            "zerolinecolor": "#EBF0F8"
           },
           "zaxis": {
            "backgroundcolor": "white",
            "gridcolor": "#DFE8F3",
            "gridwidth": 2,
            "linecolor": "#EBF0F8",
            "showbackground": true,
            "ticks": "",
            "zerolinecolor": "#EBF0F8"
           }
          },
          "shapedefaults": {
           "line": {
            "color": "#2a3f5f"
           }
          },
          "ternary": {
           "aaxis": {
            "gridcolor": "#DFE8F3",
            "linecolor": "#A2B1C6",
            "ticks": ""
           },
           "baxis": {
            "gridcolor": "#DFE8F3",
            "linecolor": "#A2B1C6",
            "ticks": ""
           },
           "bgcolor": "white",
           "caxis": {
            "gridcolor": "#DFE8F3",
            "linecolor": "#A2B1C6",
            "ticks": ""
           }
          },
          "title": {
           "x": 0.05
          },
          "xaxis": {
           "automargin": true,
           "gridcolor": "#EBF0F8",
           "linecolor": "#EBF0F8",
           "ticks": "",
           "title": {
            "standoff": 15
           },
           "zerolinecolor": "#EBF0F8",
           "zerolinewidth": 2
          },
          "yaxis": {
           "automargin": true,
           "gridcolor": "#EBF0F8",
           "linecolor": "#EBF0F8",
           "ticks": "",
           "title": {
            "standoff": 15
           },
           "zerolinecolor": "#EBF0F8",
           "zerolinewidth": 2
          }
         }
        },
        "updatemenus": [
         {
          "buttons": [
           {
            "args": [
             {
              "visible": [
               true,
               true,
               true,
               true,
               false,
               false,
               false,
               false,
               false,
               false,
               false,
               false,
               false,
               false,
               false,
               false,
               false,
               false,
               false,
               false,
               false,
               false,
               false,
               false,
               false,
               false,
               false,
               false,
               false,
               false,
               false,
               false
              ]
             }
            ],
            "label": "ID: 40",
            "method": "restyle"
           },
           {
            "args": [
             {
              "visible": [
               false,
               false,
               false,
               false,
               true,
               true,
               true,
               true,
               false,
               false,
               false,
               false,
               false,
               false,
               false,
               false,
               false,
               false,
               false,
               false,
               false,
               false,
               false,
               false,
               false,
               false,
               false,
               false,
               false,
               false,
               false,
               false
              ]
             }
            ],
            "label": "ID: 94",
            "method": "restyle"
           },
           {
            "args": [
             {
              "visible": [
               false,
               false,
               false,
               false,
               false,
               false,
               false,
               false,
               true,
               true,
               true,
               true,
               false,
               false,
               false,
               false,
               false,
               false,
               false,
               false,
               false,
               false,
               false,
               false,
               false,
               false,
               false,
               false,
               false,
               false,
               false,
               false
              ]
             }
            ],
            "label": "ID: 95",
            "method": "restyle"
           },
           {
            "args": [
             {
              "visible": [
               false,
               false,
               false,
               false,
               false,
               false,
               false,
               false,
               false,
               false,
               false,
               false,
               true,
               true,
               true,
               true,
               false,
               false,
               false,
               false,
               false,
               false,
               false,
               false,
               false,
               false,
               false,
               false,
               false,
               false,
               false,
               false
              ]
             }
            ],
            "label": "ID: 136",
            "method": "restyle"
           },
           {
            "args": [
             {
              "visible": [
               false,
               false,
               false,
               false,
               false,
               false,
               false,
               false,
               false,
               false,
               false,
               false,
               false,
               false,
               false,
               false,
               true,
               true,
               true,
               true,
               false,
               false,
               false,
               false,
               false,
               false,
               false,
               false,
               false,
               false,
               false,
               false
              ]
             }
            ],
            "label": "ID: 140",
            "method": "restyle"
           },
           {
            "args": [
             {
              "visible": [
               false,
               false,
               false,
               false,
               false,
               false,
               false,
               false,
               false,
               false,
               false,
               false,
               false,
               false,
               false,
               false,
               false,
               false,
               false,
               false,
               true,
               true,
               true,
               true,
               false,
               false,
               false,
               false,
               false,
               false,
               false,
               false
              ]
             }
            ],
            "label": "ID: 155",
            "method": "restyle"
           },
           {
            "args": [
             {
              "visible": [
               false,
               false,
               false,
               false,
               false,
               false,
               false,
               false,
               false,
               false,
               false,
               false,
               false,
               false,
               false,
               false,
               false,
               false,
               false,
               false,
               false,
               false,
               false,
               false,
               true,
               true,
               true,
               true,
               false,
               false,
               false,
               false
              ]
             }
            ],
            "label": "ID: 169",
            "method": "restyle"
           },
           {
            "args": [
             {
              "visible": [
               false,
               false,
               false,
               false,
               false,
               false,
               false,
               false,
               false,
               false,
               false,
               false,
               false,
               false,
               false,
               false,
               false,
               false,
               false,
               false,
               false,
               false,
               false,
               false,
               false,
               false,
               false,
               false,
               true,
               true,
               true,
               true
              ]
             }
            ],
            "label": "ID: 170",
            "method": "restyle"
           }
          ],
          "direction": "right",
          "pad": {
           "r": 0,
           "t": -10
          },
          "showactive": true,
          "type": "buttons",
          "x": 0,
          "xanchor": "left",
          "y": 1.1,
          "yanchor": "top"
         }
        ]
       }
      },
      "text/html": [
       "<div>\n",
       "        \n",
       "        \n",
       "            <div id=\"d95783c0-62df-4d57-a9fb-24c0756d7665\" class=\"plotly-graph-div\" style=\"height:525px; width:100%;\"></div>\n",
       "            <script type=\"text/javascript\">\n",
       "                require([\"plotly\"], function(Plotly) {\n",
       "                    window.PLOTLYENV=window.PLOTLYENV || {};\n",
       "                    \n",
       "                if (document.getElementById(\"d95783c0-62df-4d57-a9fb-24c0756d7665\")) {\n",
       "                    Plotly.newPlot(\n",
       "                        'd95783c0-62df-4d57-a9fb-24c0756d7665',\n",
       "                        [{\"boxpoints\": \"all\", \"jitter\": 0.2, \"line\": {\"color\": \"#636EFA\"}, \"marker\": {\"color\": \"#636EFA\", \"line\": {\"color\": \"black\", \"width\": 1}, \"opacity\": 0.7, \"symbol\": \"circle\"}, \"name\": \"Initial tumour volume in cm^3\", \"pointpos\": -1.5, \"type\": \"box\", \"visible\": true, \"y\": [0.13919276924727553, 0.1393825913552939, 0.13926091496297482, 0.1395526934730309, 0.1393233827116885, 0.13929787746369882, 0.13950083954312403, 0.13945458469564845, 0.13932308436844137, 0.13954637859377453]}, {\"boxpoints\": \"all\", \"jitter\": 0.2, \"line\": {\"color\": \"#EF553B\"}, \"marker\": {\"color\": \"#EF553B\", \"line\": {\"color\": \"black\", \"width\": 1}, \"opacity\": 0.7, \"symbol\": \"circle\"}, \"name\": \"Exponential growth rate in 1/day\", \"pointpos\": -1.5, \"type\": \"box\", \"visible\": true, \"y\": [0.2756019558125923, 0.2752641684609353, 0.2754993142014071, 0.27494612246020866, 0.2754114958941548, 0.2753857408611185, 0.27497619985868027, 0.2751633934420117, 0.2754119451337784, 0.27496057552490094]}, {\"boxpoints\": \"all\", \"jitter\": 0.2, \"line\": {\"color\": \"#00CC96\"}, \"marker\": {\"color\": \"#00CC96\", \"line\": {\"color\": \"black\", \"width\": 1}, \"opacity\": 0.7, \"symbol\": \"circle\"}, \"name\": \"Linear growth rate in cm^3/day\", \"pointpos\": -1.5, \"type\": \"box\", \"visible\": true, \"y\": [0.130940631799957, 0.130967564784696, 0.13095581432240366, 0.13097616404640683, 0.13096883942260062, 0.13095241904703653, 0.13095589129634552, 0.130989459686877, 0.13096877832515044, 0.13098392209183862]}, {\"boxpoints\": \"all\", \"jitter\": 0.2, \"line\": {\"color\": \"#AB63FA\"}, \"marker\": {\"color\": \"#AB63FA\", \"line\": {\"color\": \"black\", \"width\": 1}, \"opacity\": 0.7, \"symbol\": \"circle\"}, \"name\": \"Score\", \"pointpos\": -1.5, \"type\": \"box\", \"visible\": true, \"y\": [0.03186062799275207, 0.03186048514320033, 0.03186032216822964, 0.0318608290800345, 0.031860188089662934, 0.031860873606283965, 0.031862094342221405, 0.031860474453445746, 0.03186018809240841, 0.03186071623832946]}, {\"boxpoints\": \"all\", \"jitter\": 0.2, \"line\": {\"color\": \"#636EFA\"}, \"marker\": {\"color\": \"#636EFA\", \"line\": {\"color\": \"black\", \"width\": 1}, \"opacity\": 0.7, \"symbol\": \"circle\"}, \"name\": \"Initial tumour volume in cm^3\", \"pointpos\": -1.5, \"type\": \"box\", \"visible\": false, \"y\": [0.07460091222105544, 0.07443685382987536, 0.07454257912120527, 0.07443700321242427, 0.0747992742529079, 0.0745547755024388, 0.07479927551174735, 0.057526707355627996, 0.0744373633861524, 0.07455482335087578]}, {\"boxpoints\": \"all\", \"jitter\": 0.2, \"line\": {\"color\": \"#EF553B\"}, \"marker\": {\"color\": \"#EF553B\", \"line\": {\"color\": \"black\", \"width\": 1}, \"opacity\": 0.7, \"symbol\": \"circle\"}, \"name\": \"Exponential growth rate in 1/day\", \"pointpos\": -1.5, \"type\": \"box\", \"visible\": false, \"y\": [0.16536800987495168, 0.16940028228063359, 0.1679526595727639, 0.16939992270672413, 0.16503518878442738, 0.16791095642763543, 0.16503518495166725, 390.8480308490011, 0.16939904336781808, 0.16791093038078456]}, {\"boxpoints\": \"all\", \"jitter\": 0.2, \"line\": {\"color\": \"#00CC96\"}, \"marker\": {\"color\": \"#00CC96\", \"line\": {\"color\": \"black\", \"width\": 1}, \"opacity\": 0.7, \"symbol\": \"circle\"}, \"name\": \"Linear growth rate in cm^3/day\", \"pointpos\": -1.5, \"type\": \"box\", \"visible\": false, \"y\": [0.020393821605137096, 0.020274561026714523, 0.020315791052554693, 0.020274556565054516, 0.020388812803669082, 0.02031386553542157, 0.02038881265561109, 0.016439697910691012, 0.020274544274485332, 0.020313874503319482]}, {\"boxpoints\": \"all\", \"jitter\": 0.2, \"line\": {\"color\": \"#AB63FA\"}, \"marker\": {\"color\": \"#AB63FA\", \"line\": {\"color\": \"black\", \"width\": 1}, \"opacity\": 0.7, \"symbol\": \"circle\"}, \"name\": \"Score\", \"pointpos\": -1.5, \"type\": \"box\", \"visible\": false, \"y\": [0.007450648499193944, 0.007448563912883328, 0.007448226999777552, 0.0074485639130945835, 0.007450327517828544, 0.00744821782035877, 0.007450327517819774, 0.008274291669388588, 0.007448563913725603, 0.007448217820535804]}, {\"boxpoints\": \"all\", \"jitter\": 0.2, \"line\": {\"color\": \"#636EFA\"}, \"marker\": {\"color\": \"#636EFA\", \"line\": {\"color\": \"black\", \"width\": 1}, \"opacity\": 0.7, \"symbol\": \"circle\"}, \"name\": \"Initial tumour volume in cm^3\", \"pointpos\": -1.5, \"type\": \"box\", \"visible\": false, \"y\": [0.22106913942661868, 0.22106914143795117, 0.22106913897534716, 0.0033981517689429808, 0.22106914312288575, 0.22106914295215194, 0.2210691409656733, 0.221069132220249, 0.22106914144814735, 0.22106914878199282]}, {\"boxpoints\": \"all\", \"jitter\": 0.2, \"line\": {\"color\": \"#EF553B\"}, \"marker\": {\"color\": \"#EF553B\", \"line\": {\"color\": \"black\", \"width\": 1}, \"opacity\": 0.7, \"symbol\": \"circle\"}, \"name\": \"Exponential growth rate in 1/day\", \"pointpos\": -1.5, \"type\": \"box\", \"visible\": false, \"y\": [0.05553423935403408, 0.055534239410003954, 0.05553423935380728, 999.0805551619661, 0.05553423891875885, 0.05553423956795481, 0.05553423942721459, 0.055534240237615426, 0.05553423896529252, 0.05553423857909948]}, {\"boxpoints\": \"all\", \"jitter\": 0.2, \"line\": {\"color\": \"#00CC96\"}, \"marker\": {\"color\": \"#00CC96\", \"line\": {\"color\": \"black\", \"width\": 1}, \"opacity\": 0.7, \"symbol\": \"circle\"}, \"name\": \"Linear growth rate in cm^3/day\", \"pointpos\": -1.5, \"type\": \"box\", \"visible\": false, \"y\": [999.9999999986248, 999.9999999527478, 999.9999999831865, 0.08813513970246464, 999.9999999848279, 999.9999999903613, 999.9999999852231, 999.9999999791524, 999.9999999949948, 999.999999979077]}, {\"boxpoints\": \"all\", \"jitter\": 0.2, \"line\": {\"color\": \"#AB63FA\"}, \"marker\": {\"color\": \"#AB63FA\", \"line\": {\"color\": \"black\", \"width\": 1}, \"opacity\": 0.7, \"symbol\": \"circle\"}, \"name\": \"Score\", \"pointpos\": -1.5, \"type\": \"box\", \"visible\": false, \"y\": [0.0993183674990339, 0.09931836749903304, 0.09931836749903757, 0.5376140165247733, 0.09931836749903568, 0.09931836749903487, 0.09931836749903476, 0.09931836749903106, 0.09931836749903253, 0.09931836749903526]}, {\"boxpoints\": \"all\", \"jitter\": 0.2, \"line\": {\"color\": \"#636EFA\"}, \"marker\": {\"color\": \"#636EFA\", \"line\": {\"color\": \"black\", \"width\": 1}, \"opacity\": 0.7, \"symbol\": \"circle\"}, \"name\": \"Initial tumour volume in cm^3\", \"pointpos\": -1.5, \"type\": \"box\", \"visible\": false, \"y\": [0.1481505084873295, 0.14903750248779096, 0.14899827925627152, 0.1489849904371094, 0.14891707443316562, 0.1484202496477121, 0.1485517654686136, 0.1491017345398812, 0.14862888485756207, 0.14902297102009773]}, {\"boxpoints\": \"all\", \"jitter\": 0.2, \"line\": {\"color\": \"#EF553B\"}, \"marker\": {\"color\": \"#EF553B\", \"line\": {\"color\": \"black\", \"width\": 1}, \"opacity\": 0.7, \"symbol\": \"circle\"}, \"name\": \"Exponential growth rate in 1/day\", \"pointpos\": -1.5, \"type\": \"box\", \"visible\": false, \"y\": [0.05479736979446461, 0.05425893673564967, 0.054256607134634344, 0.054266241275508116, 0.054287586619988025, 0.054745581733220666, 0.0547173997739065, 0.0545532872478183, 0.05468288639028309, 0.05425531355582151]}, {\"boxpoints\": \"all\", \"jitter\": 0.2, \"line\": {\"color\": \"#00CC96\"}, \"marker\": {\"color\": \"#00CC96\", \"line\": {\"color\": \"black\", \"width\": 1}, \"opacity\": 0.7, \"symbol\": \"circle\"}, \"name\": \"Linear growth rate in cm^3/day\", \"pointpos\": -1.5, \"type\": \"box\", \"visible\": false, \"y\": [0.12676740907392334, 0.12878859278574203, 0.12879856218475258, 0.1288075690877382, 0.12875537198380135, 0.12688361776537263, 0.12672972656945497, 0.12688157110157208, 0.12681886606424245, 0.12881401373864912]}, {\"boxpoints\": \"all\", \"jitter\": 0.2, \"line\": {\"color\": \"#AB63FA\"}, \"marker\": {\"color\": \"#AB63FA\", \"line\": {\"color\": \"black\", \"width\": 1}, \"opacity\": 0.7, \"symbol\": \"circle\"}, \"name\": \"Score\", \"pointpos\": -1.5, \"type\": \"box\", \"visible\": false, \"y\": [0.04018035915429626, 0.040184758620663966, 0.040185109628370914, 0.04018455237826866, 0.04018471951449029, 0.04018231422430599, 0.040182082615779484, 0.04018733503901925, 0.040181756160195974, 0.04018458188190811]}, {\"boxpoints\": \"all\", \"jitter\": 0.2, \"line\": {\"color\": \"#636EFA\"}, \"marker\": {\"color\": \"#636EFA\", \"line\": {\"color\": \"black\", \"width\": 1}, \"opacity\": 0.7, \"symbol\": \"circle\"}, \"name\": \"Initial tumour volume in cm^3\", \"pointpos\": -1.5, \"type\": \"box\", \"visible\": false, \"y\": [0.08430032996963435, 0.08430035773509043, 0.08430034898703909, 0.08430039461690399, 0.0843003707731004, 0.08430033252688948, 0.08430036143851671, 0.08430034192091733, 0.08430032812771936, 0.08430036852629788]}, {\"boxpoints\": \"all\", \"jitter\": 0.2, \"line\": {\"color\": \"#EF553B\"}, \"marker\": {\"color\": \"#EF553B\", \"line\": {\"color\": \"black\", \"width\": 1}, \"opacity\": 0.7, \"symbol\": \"circle\"}, \"name\": \"Exponential growth rate in 1/day\", \"pointpos\": -1.5, \"type\": \"box\", \"visible\": false, \"y\": [0.05412915307779471, 0.05412914836404497, 0.05412915084126272, 0.054129140998950366, 0.05412914464788496, 0.054129152581042, 0.054129148507569, 0.05412915073313357, 0.05412915365318979, 0.05412914578547555]}, {\"boxpoints\": \"all\", \"jitter\": 0.2, \"line\": {\"color\": \"#00CC96\"}, \"marker\": {\"color\": \"#00CC96\", \"line\": {\"color\": \"black\", \"width\": 1}, \"opacity\": 0.7, \"symbol\": \"circle\"}, \"name\": \"Linear growth rate in cm^3/day\", \"pointpos\": -1.5, \"type\": \"box\", \"visible\": false, \"y\": [999.9999997474507, 999.9999994594837, 999.9999960338861, 999.9999991151707, 999.9999980372578, 999.9999996398692, 999.9999995754603, 999.9999985391959, 999.9999999877411, 999.9999999960252]}, {\"boxpoints\": \"all\", \"jitter\": 0.2, \"line\": {\"color\": \"#AB63FA\"}, \"marker\": {\"color\": \"#AB63FA\", \"line\": {\"color\": \"black\", \"width\": 1}, \"opacity\": 0.7, \"symbol\": \"circle\"}, \"name\": \"Score\", \"pointpos\": -1.5, \"type\": \"box\", \"visible\": false, \"y\": [0.14589083590903149, 0.14589083590898044, 0.14589083590894902, 0.14589083590917676, 0.14589083590907295, 0.14589083590912877, 0.14589083590884525, 0.14589083590909965, 0.14589083590898783, 0.14589083590886556]}, {\"boxpoints\": \"all\", \"jitter\": 0.2, \"line\": {\"color\": \"#636EFA\"}, \"marker\": {\"color\": \"#636EFA\", \"line\": {\"color\": \"black\", \"width\": 1}, \"opacity\": 0.7, \"symbol\": \"circle\"}, \"name\": \"Initial tumour volume in cm^3\", \"pointpos\": -1.5, \"type\": \"box\", \"visible\": false, \"y\": [0.1332741328342255, 0.13289511644846788, 0.1332742131239166, 0.13327403030374815, 0.13289532512764682, 0.0010481961952744344, 0.13327425528343814, 0.1332743413402371, 0.13289509500559346, 0.13289573488957493]}, {\"boxpoints\": \"all\", \"jitter\": 0.2, \"line\": {\"color\": \"#EF553B\"}, \"marker\": {\"color\": \"#EF553B\", \"line\": {\"color\": \"black\", \"width\": 1}, \"opacity\": 0.7, \"symbol\": \"circle\"}, \"name\": \"Exponential growth rate in 1/day\", \"pointpos\": -1.5, \"type\": \"box\", \"visible\": false, \"y\": [0.19735958088035274, 0.19900633007595092, 0.19735946116599723, 0.19735969932697878, 0.1990060809734414, 5.622344130859304, 0.1973593953388395, 0.19735931904476367, 0.19900633476720028, 0.1990055082443543]}, {\"boxpoints\": \"all\", \"jitter\": 0.2, \"line\": {\"color\": \"#00CC96\"}, \"marker\": {\"color\": \"#00CC96\", \"line\": {\"color\": \"black\", \"width\": 1}, \"opacity\": 0.7, \"symbol\": \"circle\"}, \"name\": \"Linear growth rate in cm^3/day\", \"pointpos\": -1.5, \"type\": \"box\", \"visible\": false, \"y\": [0.10853691868755867, 0.10827363420095738, 0.10853691780207202, 0.10853690078647607, 0.10827366948785568, 0.08364587418734562, 0.1085369158125252, 0.10853694339670594, 0.10827361921617316, 0.10827369338277179]}, {\"boxpoints\": \"all\", \"jitter\": 0.2, \"line\": {\"color\": \"#AB63FA\"}, \"marker\": {\"color\": \"#AB63FA\", \"line\": {\"color\": \"black\", \"width\": 1}, \"opacity\": 0.7, \"symbol\": \"circle\"}, \"name\": \"Score\", \"pointpos\": -1.5, \"type\": \"box\", \"visible\": false, \"y\": [0.25885734650737224, 0.2588580403358694, 0.25885734650684333, 0.25885734650645503, 0.25885804033636767, 0.287945946671264, 0.2588573465076448, 0.25885734650719133, 0.2588580403356818, 0.25885804033699056]}, {\"boxpoints\": \"all\", \"jitter\": 0.2, \"line\": {\"color\": \"#636EFA\"}, \"marker\": {\"color\": \"#636EFA\", \"line\": {\"color\": \"black\", \"width\": 1}, \"opacity\": 0.7, \"symbol\": \"circle\"}, \"name\": \"Initial tumour volume in cm^3\", \"pointpos\": -1.5, \"type\": \"box\", \"visible\": false, \"y\": [0.12332977966156766, 0.12380939680622383, 0.1233298304290303, 0.12380945621335232, 0.12332981839874418, 0.12332975799788044, 0.12380950016695166, 0.12380943222870659, 0.1238178791244636, 0.12332984502352981]}, {\"boxpoints\": \"all\", \"jitter\": 0.2, \"line\": {\"color\": \"#EF553B\"}, \"marker\": {\"color\": \"#EF553B\", \"line\": {\"color\": \"black\", \"width\": 1}, \"opacity\": 0.7, \"symbol\": \"circle\"}, \"name\": \"Exponential growth rate in 1/day\", \"pointpos\": -1.5, \"type\": \"box\", \"visible\": false, \"y\": [0.04352117579768446, 0.04303163989740282, 0.04352116174764521, 0.04303161550262676, 0.04352116136971142, 0.04352118329829368, 0.04303161110858325, 0.043031633097236614, 0.042985046435527884, 0.043521152968351254]}, {\"boxpoints\": \"all\", \"jitter\": 0.2, \"line\": {\"color\": \"#00CC96\"}, \"marker\": {\"color\": \"#00CC96\", \"line\": {\"color\": \"black\", \"width\": 1}, \"opacity\": 0.7, \"symbol\": \"circle\"}, \"name\": \"Linear growth rate in cm^3/day\", \"pointpos\": -1.5, \"type\": \"box\", \"visible\": false, \"y\": [0.07139562096097982, 0.07299521206428083, 0.07139562647491077, 0.07299520403868795, 0.07139561902080482, 0.07139562123036879, 0.0729952213901877, 0.07299522014839831, 0.07319363930129619, 0.07139562032040271]}, {\"boxpoints\": \"all\", \"jitter\": 0.2, \"line\": {\"color\": \"#AB63FA\"}, \"marker\": {\"color\": \"#AB63FA\", \"line\": {\"color\": \"black\", \"width\": 1}, \"opacity\": 0.7, \"symbol\": \"circle\"}, \"name\": \"Score\", \"pointpos\": -1.5, \"type\": \"box\", \"visible\": false, \"y\": [0.002916019145864722, 0.0029152929592450366, 0.0029160191458489, 0.0029152929592706346, 0.002916019145854895, 0.002916019145784468, 0.0029152929591661487, 0.0029152929591233345, 0.0029154163316993656, 0.00291601914581609]}, {\"boxpoints\": \"all\", \"jitter\": 0.2, \"line\": {\"color\": \"#636EFA\"}, \"marker\": {\"color\": \"#636EFA\", \"line\": {\"color\": \"black\", \"width\": 1}, \"opacity\": 0.7, \"symbol\": \"circle\"}, \"name\": \"Initial tumour volume in cm^3\", \"pointpos\": -1.5, \"type\": \"box\", \"visible\": false, \"y\": [0.08701895715606392, 0.08701114331558771, 0.087047806422338, 0.08710914269010074, 0.0870478330048205, 0.08710914847447174, 0.08704782729503312, 0.0870405915395547, 0.08700600007536195, 0.08704783497004434]}, {\"boxpoints\": \"all\", \"jitter\": 0.2, \"line\": {\"color\": \"#EF553B\"}, \"marker\": {\"color\": \"#EF553B\", \"line\": {\"color\": \"black\", \"width\": 1}, \"opacity\": 0.7, \"symbol\": \"circle\"}, \"name\": \"Exponential growth rate in 1/day\", \"pointpos\": -1.5, \"type\": \"box\", \"visible\": false, \"y\": [0.036176797497038615, 0.03618510398337434, 0.0361721615230318, 0.036118346145486896, 0.03617215515924832, 0.03611834615959378, 0.03617215556189543, 0.03617555632501728, 0.03618379875300149, 0.03617215461145966]}, {\"boxpoints\": \"all\", \"jitter\": 0.2, \"line\": {\"color\": \"#00CC96\"}, \"marker\": {\"color\": \"#00CC96\", \"line\": {\"color\": \"black\", \"width\": 1}, \"opacity\": 0.7, \"symbol\": \"circle\"}, \"name\": \"Linear growth rate in cm^3/day\", \"pointpos\": -1.5, \"type\": \"box\", \"visible\": false, \"y\": [0.1930409721596083, 0.19317025140241123, 0.19325839499870295, 0.19534756504179987, 0.1932584185059418, 0.19534757763993357, 0.19325840793904528, 0.19314655315717597, 0.1932120870396048, 0.19325841975800653]}, {\"boxpoints\": \"all\", \"jitter\": 0.2, \"line\": {\"color\": \"#AB63FA\"}, \"marker\": {\"color\": \"#AB63FA\", \"line\": {\"color\": \"black\", \"width\": 1}, \"opacity\": 0.7, \"symbol\": \"circle\"}, \"name\": \"Score\", \"pointpos\": -1.5, \"type\": \"box\", \"visible\": false, \"y\": [0.0023157018933869264, 0.0023156224231451676, 0.002315593340783343, 0.0023157352352754187, 0.002315593340785007, 0.0023157352352838646, 0.0023155933407832956, 0.0023156018774206856, 0.002315614194249467, 0.002315593340786571]}],\n",
       "                        {\"autosize\": true, \"legend\": {\"x\": 1.05, \"xanchor\": \"left\", \"y\": 0.01, \"yanchor\": \"bottom\"}, \"template\": {\"data\": {\"bar\": [{\"error_x\": {\"color\": \"#2a3f5f\"}, \"error_y\": {\"color\": \"#2a3f5f\"}, \"marker\": {\"line\": {\"color\": \"white\", \"width\": 0.5}}, \"type\": \"bar\"}], \"barpolar\": [{\"marker\": {\"line\": {\"color\": \"white\", \"width\": 0.5}}, \"type\": \"barpolar\"}], \"carpet\": [{\"aaxis\": {\"endlinecolor\": \"#2a3f5f\", \"gridcolor\": \"#C8D4E3\", \"linecolor\": \"#C8D4E3\", \"minorgridcolor\": \"#C8D4E3\", \"startlinecolor\": \"#2a3f5f\"}, \"baxis\": {\"endlinecolor\": \"#2a3f5f\", \"gridcolor\": \"#C8D4E3\", \"linecolor\": \"#C8D4E3\", \"minorgridcolor\": \"#C8D4E3\", \"startlinecolor\": \"#2a3f5f\"}, \"type\": \"carpet\"}], \"choropleth\": [{\"colorbar\": {\"outlinewidth\": 0, \"ticks\": \"\"}, \"type\": \"choropleth\"}], \"contour\": [{\"colorbar\": {\"outlinewidth\": 0, \"ticks\": \"\"}, \"colorscale\": [[0.0, \"#0d0887\"], [0.1111111111111111, \"#46039f\"], [0.2222222222222222, \"#7201a8\"], [0.3333333333333333, \"#9c179e\"], [0.4444444444444444, \"#bd3786\"], [0.5555555555555556, \"#d8576b\"], [0.6666666666666666, \"#ed7953\"], [0.7777777777777778, \"#fb9f3a\"], [0.8888888888888888, \"#fdca26\"], [1.0, \"#f0f921\"]], \"type\": \"contour\"}], \"contourcarpet\": [{\"colorbar\": {\"outlinewidth\": 0, \"ticks\": \"\"}, \"type\": \"contourcarpet\"}], \"heatmap\": [{\"colorbar\": {\"outlinewidth\": 0, \"ticks\": \"\"}, \"colorscale\": [[0.0, \"#0d0887\"], [0.1111111111111111, \"#46039f\"], [0.2222222222222222, \"#7201a8\"], [0.3333333333333333, \"#9c179e\"], [0.4444444444444444, \"#bd3786\"], [0.5555555555555556, \"#d8576b\"], [0.6666666666666666, \"#ed7953\"], [0.7777777777777778, \"#fb9f3a\"], [0.8888888888888888, \"#fdca26\"], [1.0, \"#f0f921\"]], \"type\": \"heatmap\"}], \"heatmapgl\": [{\"colorbar\": {\"outlinewidth\": 0, \"ticks\": \"\"}, \"colorscale\": [[0.0, \"#0d0887\"], [0.1111111111111111, \"#46039f\"], [0.2222222222222222, \"#7201a8\"], [0.3333333333333333, \"#9c179e\"], [0.4444444444444444, \"#bd3786\"], [0.5555555555555556, \"#d8576b\"], [0.6666666666666666, \"#ed7953\"], [0.7777777777777778, \"#fb9f3a\"], [0.8888888888888888, \"#fdca26\"], [1.0, \"#f0f921\"]], \"type\": \"heatmapgl\"}], \"histogram\": [{\"marker\": {\"colorbar\": {\"outlinewidth\": 0, \"ticks\": \"\"}}, \"type\": \"histogram\"}], \"histogram2d\": [{\"colorbar\": {\"outlinewidth\": 0, \"ticks\": \"\"}, \"colorscale\": [[0.0, \"#0d0887\"], [0.1111111111111111, \"#46039f\"], [0.2222222222222222, \"#7201a8\"], [0.3333333333333333, \"#9c179e\"], [0.4444444444444444, \"#bd3786\"], [0.5555555555555556, \"#d8576b\"], [0.6666666666666666, \"#ed7953\"], [0.7777777777777778, \"#fb9f3a\"], [0.8888888888888888, \"#fdca26\"], [1.0, \"#f0f921\"]], \"type\": \"histogram2d\"}], \"histogram2dcontour\": [{\"colorbar\": {\"outlinewidth\": 0, \"ticks\": \"\"}, \"colorscale\": [[0.0, \"#0d0887\"], [0.1111111111111111, \"#46039f\"], [0.2222222222222222, \"#7201a8\"], [0.3333333333333333, \"#9c179e\"], [0.4444444444444444, \"#bd3786\"], [0.5555555555555556, \"#d8576b\"], [0.6666666666666666, \"#ed7953\"], [0.7777777777777778, \"#fb9f3a\"], [0.8888888888888888, \"#fdca26\"], [1.0, \"#f0f921\"]], \"type\": \"histogram2dcontour\"}], \"mesh3d\": [{\"colorbar\": {\"outlinewidth\": 0, \"ticks\": \"\"}, \"type\": \"mesh3d\"}], \"parcoords\": [{\"line\": {\"colorbar\": {\"outlinewidth\": 0, \"ticks\": \"\"}}, \"type\": \"parcoords\"}], \"pie\": [{\"automargin\": true, \"type\": \"pie\"}], \"scatter\": [{\"marker\": {\"colorbar\": {\"outlinewidth\": 0, \"ticks\": \"\"}}, \"type\": \"scatter\"}], \"scatter3d\": [{\"line\": {\"colorbar\": {\"outlinewidth\": 0, \"ticks\": \"\"}}, \"marker\": {\"colorbar\": {\"outlinewidth\": 0, \"ticks\": \"\"}}, \"type\": \"scatter3d\"}], \"scattercarpet\": [{\"marker\": {\"colorbar\": {\"outlinewidth\": 0, \"ticks\": \"\"}}, \"type\": \"scattercarpet\"}], \"scattergeo\": [{\"marker\": {\"colorbar\": {\"outlinewidth\": 0, \"ticks\": \"\"}}, \"type\": \"scattergeo\"}], \"scattergl\": [{\"marker\": {\"colorbar\": {\"outlinewidth\": 0, \"ticks\": \"\"}}, \"type\": \"scattergl\"}], \"scattermapbox\": [{\"marker\": {\"colorbar\": {\"outlinewidth\": 0, \"ticks\": \"\"}}, \"type\": \"scattermapbox\"}], \"scatterpolar\": [{\"marker\": {\"colorbar\": {\"outlinewidth\": 0, \"ticks\": \"\"}}, \"type\": \"scatterpolar\"}], \"scatterpolargl\": [{\"marker\": {\"colorbar\": {\"outlinewidth\": 0, \"ticks\": \"\"}}, \"type\": \"scatterpolargl\"}], \"scatterternary\": [{\"marker\": {\"colorbar\": {\"outlinewidth\": 0, \"ticks\": \"\"}}, \"type\": \"scatterternary\"}], \"surface\": [{\"colorbar\": {\"outlinewidth\": 0, \"ticks\": \"\"}, \"colorscale\": [[0.0, \"#0d0887\"], [0.1111111111111111, \"#46039f\"], [0.2222222222222222, \"#7201a8\"], [0.3333333333333333, \"#9c179e\"], [0.4444444444444444, \"#bd3786\"], [0.5555555555555556, \"#d8576b\"], [0.6666666666666666, \"#ed7953\"], [0.7777777777777778, \"#fb9f3a\"], [0.8888888888888888, \"#fdca26\"], [1.0, \"#f0f921\"]], \"type\": \"surface\"}], \"table\": [{\"cells\": {\"fill\": {\"color\": \"#EBF0F8\"}, \"line\": {\"color\": \"white\"}}, \"header\": {\"fill\": {\"color\": \"#C8D4E3\"}, \"line\": {\"color\": \"white\"}}, \"type\": \"table\"}]}, \"layout\": {\"annotationdefaults\": {\"arrowcolor\": \"#2a3f5f\", \"arrowhead\": 0, \"arrowwidth\": 1}, \"coloraxis\": {\"colorbar\": {\"outlinewidth\": 0, \"ticks\": \"\"}}, \"colorscale\": {\"diverging\": [[0, \"#8e0152\"], [0.1, \"#c51b7d\"], [0.2, \"#de77ae\"], [0.3, \"#f1b6da\"], [0.4, \"#fde0ef\"], [0.5, \"#f7f7f7\"], [0.6, \"#e6f5d0\"], [0.7, \"#b8e186\"], [0.8, \"#7fbc41\"], [0.9, \"#4d9221\"], [1, \"#276419\"]], \"sequential\": [[0.0, \"#0d0887\"], [0.1111111111111111, \"#46039f\"], [0.2222222222222222, \"#7201a8\"], [0.3333333333333333, \"#9c179e\"], [0.4444444444444444, \"#bd3786\"], [0.5555555555555556, \"#d8576b\"], [0.6666666666666666, \"#ed7953\"], [0.7777777777777778, \"#fb9f3a\"], [0.8888888888888888, \"#fdca26\"], [1.0, \"#f0f921\"]], \"sequentialminus\": [[0.0, \"#0d0887\"], [0.1111111111111111, \"#46039f\"], [0.2222222222222222, \"#7201a8\"], [0.3333333333333333, \"#9c179e\"], [0.4444444444444444, \"#bd3786\"], [0.5555555555555556, \"#d8576b\"], [0.6666666666666666, \"#ed7953\"], [0.7777777777777778, \"#fb9f3a\"], [0.8888888888888888, \"#fdca26\"], [1.0, \"#f0f921\"]]}, \"colorway\": [\"#636efa\", \"#EF553B\", \"#00cc96\", \"#ab63fa\", \"#FFA15A\", \"#19d3f3\", \"#FF6692\", \"#B6E880\", \"#FF97FF\", \"#FECB52\"], \"font\": {\"color\": \"#2a3f5f\"}, \"geo\": {\"bgcolor\": \"white\", \"lakecolor\": \"white\", \"landcolor\": \"white\", \"showlakes\": true, \"showland\": true, \"subunitcolor\": \"#C8D4E3\"}, \"hoverlabel\": {\"align\": \"left\"}, \"hovermode\": \"closest\", \"mapbox\": {\"style\": \"light\"}, \"paper_bgcolor\": \"white\", \"plot_bgcolor\": \"white\", \"polar\": {\"angularaxis\": {\"gridcolor\": \"#EBF0F8\", \"linecolor\": \"#EBF0F8\", \"ticks\": \"\"}, \"bgcolor\": \"white\", \"radialaxis\": {\"gridcolor\": \"#EBF0F8\", \"linecolor\": \"#EBF0F8\", \"ticks\": \"\"}}, \"scene\": {\"xaxis\": {\"backgroundcolor\": \"white\", \"gridcolor\": \"#DFE8F3\", \"gridwidth\": 2, \"linecolor\": \"#EBF0F8\", \"showbackground\": true, \"ticks\": \"\", \"zerolinecolor\": \"#EBF0F8\"}, \"yaxis\": {\"backgroundcolor\": \"white\", \"gridcolor\": \"#DFE8F3\", \"gridwidth\": 2, \"linecolor\": \"#EBF0F8\", \"showbackground\": true, \"ticks\": \"\", \"zerolinecolor\": \"#EBF0F8\"}, \"zaxis\": {\"backgroundcolor\": \"white\", \"gridcolor\": \"#DFE8F3\", \"gridwidth\": 2, \"linecolor\": \"#EBF0F8\", \"showbackground\": true, \"ticks\": \"\", \"zerolinecolor\": \"#EBF0F8\"}}, \"shapedefaults\": {\"line\": {\"color\": \"#2a3f5f\"}}, \"ternary\": {\"aaxis\": {\"gridcolor\": \"#DFE8F3\", \"linecolor\": \"#A2B1C6\", \"ticks\": \"\"}, \"baxis\": {\"gridcolor\": \"#DFE8F3\", \"linecolor\": \"#A2B1C6\", \"ticks\": \"\"}, \"bgcolor\": \"white\", \"caxis\": {\"gridcolor\": \"#DFE8F3\", \"linecolor\": \"#A2B1C6\", \"ticks\": \"\"}}, \"title\": {\"x\": 0.05}, \"xaxis\": {\"automargin\": true, \"gridcolor\": \"#EBF0F8\", \"linecolor\": \"#EBF0F8\", \"ticks\": \"\", \"title\": {\"standoff\": 15}, \"zerolinecolor\": \"#EBF0F8\", \"zerolinewidth\": 2}, \"yaxis\": {\"automargin\": true, \"gridcolor\": \"#EBF0F8\", \"linecolor\": \"#EBF0F8\", \"ticks\": \"\", \"title\": {\"standoff\": 15}, \"zerolinecolor\": \"#EBF0F8\", \"zerolinewidth\": 2}}}, \"updatemenus\": [{\"buttons\": [{\"args\": [{\"visible\": [true, true, true, true, false, false, false, false, false, false, false, false, false, false, false, false, false, false, false, false, false, false, false, false, false, false, false, false, false, false, false, false]}], \"label\": \"ID: 40\", \"method\": \"restyle\"}, {\"args\": [{\"visible\": [false, false, false, false, true, true, true, true, false, false, false, false, false, false, false, false, false, false, false, false, false, false, false, false, false, false, false, false, false, false, false, false]}], \"label\": \"ID: 94\", \"method\": \"restyle\"}, {\"args\": [{\"visible\": [false, false, false, false, false, false, false, false, true, true, true, true, false, false, false, false, false, false, false, false, false, false, false, false, false, false, false, false, false, false, false, false]}], \"label\": \"ID: 95\", \"method\": \"restyle\"}, {\"args\": [{\"visible\": [false, false, false, false, false, false, false, false, false, false, false, false, true, true, true, true, false, false, false, false, false, false, false, false, false, false, false, false, false, false, false, false]}], \"label\": \"ID: 136\", \"method\": \"restyle\"}, {\"args\": [{\"visible\": [false, false, false, false, false, false, false, false, false, false, false, false, false, false, false, false, true, true, true, true, false, false, false, false, false, false, false, false, false, false, false, false]}], \"label\": \"ID: 140\", \"method\": \"restyle\"}, {\"args\": [{\"visible\": [false, false, false, false, false, false, false, false, false, false, false, false, false, false, false, false, false, false, false, false, true, true, true, true, false, false, false, false, false, false, false, false]}], \"label\": \"ID: 155\", \"method\": \"restyle\"}, {\"args\": [{\"visible\": [false, false, false, false, false, false, false, false, false, false, false, false, false, false, false, false, false, false, false, false, false, false, false, false, true, true, true, true, false, false, false, false]}], \"label\": \"ID: 169\", \"method\": \"restyle\"}, {\"args\": [{\"visible\": [false, false, false, false, false, false, false, false, false, false, false, false, false, false, false, false, false, false, false, false, false, false, false, false, false, false, false, false, true, true, true, true]}], \"label\": \"ID: 170\", \"method\": \"restyle\"}], \"direction\": \"right\", \"pad\": {\"r\": 0, \"t\": -10}, \"showactive\": true, \"type\": \"buttons\", \"x\": 0.0, \"xanchor\": \"left\", \"y\": 1.1, \"yanchor\": \"top\"}]},\n",
       "                        {\"responsive\": true}\n",
       "                    ).then(function(){\n",
       "                            \n",
       "var gd = document.getElementById('d95783c0-62df-4d57-a9fb-24c0756d7665');\n",
       "var x = new MutationObserver(function (mutations, observer) {{\n",
       "        var display = window.getComputedStyle(gd).display;\n",
       "        if (!display || display === 'none') {{\n",
       "            console.log([gd, 'removed!']);\n",
       "            Plotly.purge(gd);\n",
       "            observer.disconnect();\n",
       "        }}\n",
       "}});\n",
       "\n",
       "// Listen for the removal of the full notebook cells\n",
       "var notebookContainer = gd.closest('#notebook-container');\n",
       "if (notebookContainer) {{\n",
       "    x.observe(notebookContainer, {childList: true});\n",
       "}}\n",
       "\n",
       "// Listen for the clearing of the current output cell\n",
       "var outputEl = gd.closest('.output');\n",
       "if (outputEl) {{\n",
       "    x.observe(outputEl, {childList: true});\n",
       "}}\n",
       "\n",
       "                        })\n",
       "                };\n",
       "                });\n",
       "            </script>\n",
       "        </div>"
      ]
     },
     "metadata": {},
     "output_type": "display_data"
    }
   ],
   "source": [
    "#\n",
    "# Visualisation of the spread of optimised model parameters for multiple runs from different initial points.\n",
    "#\n",
    "# This cell needs the above optimised initial parameter from psi_0=(1, 1, 1) and the five runs from a random initial starting point, and their respective objective function scores, as well as the data\n",
    "# [mouse_parameters_multi_runs_log_transformed, mouse_scores_multi_runs_log_transformed, data]\n",
    "#\n",
    "\n",
    "import plotly.colors\n",
    "import plotly.graph_objects as go\n",
    "\n",
    "\n",
    "# Get mouse ids\n",
    "mouse_ids = data['#ID'].unique()\n",
    "\n",
    "# Get number of parameters + score (for visualisation)\n",
    "n_params = mouse_parameters_multi_runs_log_transformed.shape[2] + 1\n",
    "\n",
    "# Define colorscheme\n",
    "colors = plotly.colors.qualitative.Plotly[:n_params]\n",
    "\n",
    "# Get optimised parameters\n",
    "optimised_parameters = mouse_parameters_multi_runs_log_transformed\n",
    "\n",
    "# Get optimised parameters\n",
    "scores = mouse_scores_multi_runs_log_transformed\n",
    "\n",
    "# Create figure\n",
    "fig = go.Figure()\n",
    "\n",
    "# Box plot of optimised model parameters\n",
    "for index, id_m in enumerate(mouse_ids):\n",
    "    # Get optimised parameters\n",
    "    parameters = optimised_parameters[index, ...]\n",
    "\n",
    "    # Get scores\n",
    "    score = scores[index, :]\n",
    "\n",
    "    # Create box plot of for initial tumour volume\n",
    "    fig.add_trace(\n",
    "        go.Box(\n",
    "            y=parameters[:, 0],  \n",
    "            name=\"Initial tumour volume in cm^3\",\n",
    "            boxpoints='all',\n",
    "            jitter=0.2,\n",
    "            pointpos=-1.5,\n",
    "            visible=True if index == 0 else False,\n",
    "            marker=dict(\n",
    "                symbol='circle',\n",
    "                opacity=0.7,\n",
    "                line=dict(color='black', width=1)),\n",
    "            marker_color=colors[0],\n",
    "            line_color=colors[0]))\n",
    "\n",
    "    # Create box plot of for exponential tumour growth\n",
    "    fig.add_trace(\n",
    "        go.Box(\n",
    "            y=parameters[:, 1],  \n",
    "            name=\"Exponential growth rate in 1/day\",\n",
    "            boxpoints='all',\n",
    "            jitter=0.2,\n",
    "            pointpos=-1.5,\n",
    "            visible=True if index == 0 else False,\n",
    "            marker=dict(\n",
    "                symbol='circle',\n",
    "                opacity=0.7,\n",
    "                line=dict(color='black', width=1)),\n",
    "            marker_color=colors[1],\n",
    "            line_color=colors[1]))\n",
    "\n",
    "    # Create box plot of for linear tumour growth\n",
    "    fig.add_trace(\n",
    "        go.Box(\n",
    "            y=parameters[:, 2],  \n",
    "            name=\"Linear growth rate in cm^3/day\",\n",
    "            boxpoints='all',\n",
    "            jitter=0.2,\n",
    "            pointpos=-1.5,\n",
    "            visible=True if index == 0 else False,\n",
    "            marker=dict(\n",
    "                symbol='circle',\n",
    "                opacity=0.7,\n",
    "                line=dict(color='black', width=1)),\n",
    "            marker_color=colors[2],\n",
    "            line_color=colors[2]))\n",
    "    \n",
    "    # Create box plot of for objective function score\n",
    "    fig.add_trace(\n",
    "        go.Box(\n",
    "            y=score,  \n",
    "            name=\"Score\",\n",
    "            boxpoints='all',\n",
    "            jitter=0.2,\n",
    "            pointpos=-1.5,\n",
    "            visible=True if index == 0 else False,\n",
    "            marker=dict(\n",
    "                symbol='circle',\n",
    "                opacity=0.7,\n",
    "                line=dict(color='black', width=1)),\n",
    "            marker_color=colors[3],\n",
    "            line_color=colors[3]))\n",
    "\n",
    "# Set figure size\n",
    "fig.update_layout(\n",
    "    autosize=True,\n",
    "    template=\"plotly_white\")\n",
    "\n",
    "# Add switch between mice\n",
    "fig.update_layout(\n",
    "    updatemenus=[\n",
    "        dict(\n",
    "            type = \"buttons\",\n",
    "            direction = \"right\",\n",
    "            buttons=list([\n",
    "                dict(\n",
    "                    args=[{\"visible\": [True]*4 + [False]*(4 * 7)}],\n",
    "                    label=\"ID: %d\" % mouse_ids[0],\n",
    "                    method=\"restyle\"\n",
    "                ),\n",
    "                dict(\n",
    "                    args=[{\"visible\": [False]*4 + [True]*4 + [False]*(4 * 6)}],\n",
    "                    label=\"ID: %d\" % mouse_ids[1],\n",
    "                    method=\"restyle\"\n",
    "                ),\n",
    "                dict(\n",
    "                    args=[{\"visible\": [False]*(4 * 2) + [True]*4 + [False]*(4 * 5)}],\n",
    "                    label=\"ID: %d\" % mouse_ids[2],\n",
    "                    method=\"restyle\"\n",
    "                ),\n",
    "                dict(\n",
    "                    args=[{\"visible\": [False]*(4 * 3) + [True]*4 + [False]*(4 * 4)}],\n",
    "                    label=\"ID: %d\" % mouse_ids[3],\n",
    "                    method=\"restyle\"\n",
    "                ),\n",
    "                dict(\n",
    "                    args=[{\"visible\": [False]*(4 * 4) + [True]*4 + [False]*(4 * 3)}],\n",
    "                    label=\"ID: %d\" % mouse_ids[4],\n",
    "                    method=\"restyle\"\n",
    "                ),\n",
    "                dict(\n",
    "                    args=[{\"visible\": [False]*(4 * 5) + [True]*4 + [False]*(4 * 2)}],\n",
    "                    label=\"ID: %d\" % mouse_ids[5],\n",
    "                    method=\"restyle\"\n",
    "                ),\n",
    "                dict(\n",
    "                    args=[{\"visible\": [False]*(4 * 6) + [True]*4 + [False]* 4}],\n",
    "                    label=\"ID: %d\" % mouse_ids[6],\n",
    "                    method=\"restyle\"\n",
    "                ),\n",
    "                dict(\n",
    "                    args=[{\"visible\": [False]*(4 * 7) + [True]*4}],\n",
    "                    label=\"ID: %d\" % mouse_ids[7],\n",
    "                    method=\"restyle\"\n",
    "                )\n",
    "            ]),\n",
    "            pad={\"r\": 0, \"t\": -10},\n",
    "            showactive=True,\n",
    "            x=0.0,\n",
    "            xanchor=\"left\",\n",
    "            y=1.1,\n",
    "            yanchor=\"top\"\n",
    "        )\n",
    "    ]\n",
    ")\n",
    "\n",
    "# Position legend\n",
    "fig.update_layout(legend=dict(\n",
    "    yanchor=\"bottom\",\n",
    "    y=0.01,\n",
    "    xanchor=\"left\",\n",
    "    x=1.05))\n",
    "\n",
    "# Show figure\n",
    "fig.show()\n"
   ]
  },
  {
   "cell_type": "markdown",
   "metadata": {},
   "source": [
    "**Figure 6**:"
   ]
  },
  {
   "cell_type": "markdown",
   "metadata": {},
   "source": [
    "## Non-dimensional model with log-transformed parameters"
   ]
  },
  {
   "cell_type": "code",
   "execution_count": 1,
   "metadata": {},
   "outputs": [],
   "source": [
    "#\n",
    "# Define pints model wrapper such that myokit model can be used for inference.\n",
    "#\n",
    "\n",
    "import myokit\n",
    "import pints\n",
    "\n",
    "from pkpd import model as m\n",
    "\n",
    "\n",
    "# Wrap myokit model, so it can be used with pints\n",
    "class DimensionlessLogTransformedPintsModel(pints.ForwardModel):\n",
    "    def __init__(self):\n",
    "        # Create myokit model\n",
    "        model = m.create_dimless_tumour_growth_model()\n",
    "\n",
    "        # Create simulator\n",
    "        self.sim = myokit.Simulation(model)\n",
    "\n",
    "    def n_parameters(self):\n",
    "        \"\"\"\n",
    "        Number of parameters to fit. Here log v, log a_0, log a_1.\n",
    "        \"\"\"\n",
    "        return 3\n",
    "\n",
    "    def n_outputs(self):\n",
    "        return 1\n",
    "\n",
    "    def simulate(self, log_parameters, times):\n",
    "        # Reset simulation\n",
    "        self.sim.reset()\n",
    "\n",
    "        # Sort input parameters\n",
    "        initial_volume, a_0, a_1 = np.exp(log_parameters)\n",
    "\n",
    "        # Set initial condition\n",
    "        self.sim.set_state([initial_volume])\n",
    "\n",
    "        # Set growth constants\n",
    "        self.sim.set_constant('central.a_0', a_0)\n",
    "        self.sim.set_constant('central.a_1', a_1)\n",
    "\n",
    "        # Define logged variable\n",
    "        loggedVariable = 'central.volume_t'\n",
    "\n",
    "        # Simulate\n",
    "        output = self.sim.run(times[-1] + 1, log=[loggedVariable], log_times=times)\n",
    "        result = output[loggedVariable]\n",
    "\n",
    "        return np.array(result)"
   ]
  },
  {
   "cell_type": "code",
   "execution_count": 2,
   "metadata": {
    "tags": []
   },
   "outputs": [],
   "source": [
    "#\n",
    "# Run optimisation multiple times from random initial starting points.\n",
    "#\n",
    "# This cell needs the above defined wrapped myokit model:\n",
    "# [DimensionlessLogTransformedPintsModel]\n",
    "#\n",
    "\n",
    "import os\n",
    "\n",
    "import myokit\n",
    "import numpy as np\n",
    "import pandas as pd\n",
    "import pints\n",
    "\n",
    "\n",
    "# Define characteristic scales\n",
    "characteristic_volume = 1  # in cm^3\n",
    "characteristic_time = 1  # in day\n",
    "\n",
    "# Define number of optimisation runs for each individual\n",
    "n_runs = 10\n",
    "\n",
    "# Import data\n",
    "# Get path of current working directory\n",
    "path = os.getcwd()\n",
    "\n",
    "# Import LXF A677 control growth data\n",
    "data = pd.read_csv(path + '/data/lxf_control_growth.csv')\n",
    "n_mice = len(data['#ID'].unique())\n",
    "\n",
    "# Define container for the structural model estimates\n",
    "# Shape (n_mice, n_runs, n_parameters)\n",
    "n_parameters = 3\n",
    "mouse_parameters_dimless_log_transformed = np.empty(shape=(n_mice, n_runs, n_parameters))\n",
    "\n",
    "# Define container for the objective function score for the optimised parameters\n",
    "mouse_scores_dimless_log_transformed = np.empty(shape=(n_mice, n_runs))\n",
    "\n",
    "# Define random starting points over many orders of magnitude\n",
    "# Shape = (n_runs, n_parameters)\n",
    "initial_parameters = np.random.uniform(low=1E-3, high=1E3, size=(n_runs, n_parameters))\n",
    "\n",
    "# Find mouse parameters for LXF A677 population\n",
    "mouse_ids = data['#ID'].unique()\n",
    "for index, mouse_id in enumerate(mouse_ids):\n",
    "    # Create mask for mouse with specfied ID\n",
    "    mouse_mask = data['#ID'] == mouse_id\n",
    "\n",
    "    # Get relevant time points\n",
    "    times = data[mouse_mask]['TIME in day'].to_numpy() / characteristic_time\n",
    "\n",
    "    # Get measured tumour volumes\n",
    "    observed_volumes = data[mouse_mask]['TUMOUR VOLUME in cm^3'].to_numpy() / characteristic_volume\n",
    "\n",
    "    # Create inverse problem\n",
    "    problem = pints.SingleOutputProblem(DimensionlessLogTransformedPintsModel(), times, observed_volumes)\n",
    "\n",
    "    # Create sum of squares error objective function\n",
    "    error = pints.SumOfSquaresError(problem)\n",
    "\n",
    "    # Create boundaries to biologically relevant values\n",
    "    boundary = pints.RectangularBoundaries(lower=np.log([1E-3]*3), upper=np.log([1E3]*3))\n",
    "\n",
    "    # Run optimisation multiple times\n",
    "    for run_id, initial_params in enumerate(initial_parameters):\n",
    "        # Transform parameters to log-scale\n",
    "        log_initial_params = np.log(initial_params)\n",
    "\n",
    "        # Create optimisation controller with a CMA-ES optimiser\n",
    "        optimiser = pints.OptimisationController(\n",
    "            function=error,\n",
    "            x0=log_initial_params,\n",
    "            boundaries=boundary,\n",
    "            method=pints.CMAES)\n",
    "\n",
    "        # Disable logging mode\n",
    "        optimiser.set_log_to_screen(False)\n",
    "\n",
    "        # Parallelise optimisation\n",
    "        optimiser.set_parallel(True)\n",
    "\n",
    "        # Find optimal parameters\n",
    "        try:\n",
    "            estimates, score = optimiser.run()\n",
    "        except:\n",
    "            # If inference breaks fill estimates with nan\n",
    "            estimates = np.array([np.nan, np.nan, np.nan])\n",
    "            score = np.nan\n",
    "\n",
    "        # Save estimates and score (back transformed to linear scale)\n",
    "        mouse_parameters_dimless_log_transformed[index, run_id, :] = np.exp(estimates)\n",
    "        mouse_scores_dimless_log_transformed[index, run_id] = score"
   ]
  },
  {
   "cell_type": "code",
   "execution_count": 4,
   "metadata": {},
   "outputs": [],
   "source": [
    "#\n",
    "# Transform dimensionless parameters back to biological parameters.\n",
    "# \n",
    "# This cell needs the above inferred dimensionless parameters and the characteristic volume and time scale:\n",
    "# [mouse_parameters_multi_runs_dimless, characteristic_volume, characteristic_time]\n",
    "#\n",
    "\n",
    "import numpy as np\n",
    "\n",
    "\n",
    "# Initialise container for backtransformed paramters\n",
    "# Shape (n_mice, n_runs, n_parameters)\n",
    "mouse_parameters_dimless_log_transformed_optimisation = np.empty(shape=mouse_parameters_dimless_log_transformed.shape)\n",
    "\n",
    "# Transform initial volumes\n",
    "mouse_parameters_dimless_log_transformed_optimisation[:, :, 0] = mouse_parameters_dimless_log_transformed[:, :, 0] * characteristic_volume\n",
    "\n",
    "# Transform exponential growth rate\n",
    "# lambda_0 = a_1 / a_0 /t^c\n",
    "mouse_parameters_dimless_log_transformed_optimisation[:, :, 1] = \\\n",
    "    mouse_parameters_dimless_log_transformed[:, :, 2] / 2 / mouse_parameters_dimless_log_transformed[:, :, 1] / characteristic_time\n",
    "\n",
    "# Transform linear growth rate\n",
    "# lambda_1 = a_1 / a_0 /t^c\n",
    "mouse_parameters_dimless_log_transformed_optimisation[:, :, 2] = \\\n",
    "    mouse_parameters_dimless_log_transformed[:, :, 2] * characteristic_volume / characteristic_time\n"
   ]
  },
  {
   "cell_type": "code",
   "execution_count": 22,
   "metadata": {},
   "outputs": [
    {
     "data": {
      "application/vnd.plotly.v1+json": {
       "config": {
        "plotlyServerURL": "https://plot.ly"
       },
       "data": [
        {
         "boxpoints": "all",
         "jitter": 0.2,
         "line": {
          "color": "#636EFA"
         },
         "marker": {
          "color": "#636EFA",
          "line": {
           "color": "black",
           "width": 1
          },
          "opacity": 0.7,
          "symbol": "circle"
         },
         "name": "Initial tumour volume in cm^3",
         "pointpos": -1.5,
         "type": "box",
         "visible": true,
         "y": [
          0.13983829873319853,
          0.14007982344804992,
          0.1399548888639088,
          0.13983987274952697,
          0.13932734486109344,
          0.13857994848817246,
          0.14135651141908864,
          0.13944896011364954,
          0.13863249109685577,
          0.138355123369633
         ]
        },
        {
         "boxpoints": "all",
         "jitter": 0.2,
         "line": {
          "color": "#EF553B"
         },
         "marker": {
          "color": "#EF553B",
          "line": {
           "color": "black",
           "width": 1
          },
          "opacity": 0.7,
          "symbol": "circle"
         },
         "name": "Exponential growth rate in 1/day",
         "pointpos": -1.5,
         "type": "box",
         "visible": true,
         "y": [
          0.2744261227344327,
          0.2739392294834647,
          0.27434271129641735,
          0.274421986233766,
          0.2753737271771192,
          0.27664434178073505,
          0.2717169366784129,
          0.2751482426827337,
          0.27654207483346915,
          0.2770484610945924
         ]
        },
        {
         "boxpoints": "all",
         "jitter": 0.2,
         "line": {
          "color": "#00CC96"
         },
         "marker": {
          "color": "#00CC96",
          "line": {
           "color": "black",
           "width": 1
          },
          "opacity": 0.7,
          "symbol": "circle"
         },
         "name": "Linear growth rate in cm^3/day",
         "pointpos": -1.5,
         "type": "box",
         "visible": true,
         "y": [
          0.13102190531120428,
          0.13100853336709142,
          0.1310517708482545,
          0.13098492684825921,
          0.13095682544321538,
          0.1308667783537486,
          0.13107383198018507,
          0.13098559761412382,
          0.13086889796444556,
          0.13087197312822113
         ]
        },
        {
         "boxpoints": "all",
         "jitter": 0.2,
         "line": {
          "color": "#AB63FA"
         },
         "marker": {
          "color": "#AB63FA",
          "line": {
           "color": "black",
           "width": 1
          },
          "opacity": 0.7,
          "symbol": "circle"
         },
         "name": "Score",
         "pointpos": -1.5,
         "type": "box",
         "visible": true,
         "y": [
          0.031861459110526985,
          0.03186357115504949,
          0.03186231076978173,
          0.031861989616298714,
          0.03186040474246982,
          0.03186367399240071,
          0.03187587652642702,
          0.03186054846201417,
          0.0318637514273931,
          0.031863786762465825
         ]
        },
        {
         "boxpoints": "all",
         "jitter": 0.2,
         "line": {
          "color": "#636EFA"
         },
         "marker": {
          "color": "#636EFA",
          "line": {
           "color": "black",
           "width": 1
          },
          "opacity": 0.7,
          "symbol": "circle"
         },
         "name": "Initial tumour volume in cm^3",
         "pointpos": -1.5,
         "type": "box",
         "visible": false,
         "y": [
          0.07479927613165054,
          0.07454962658633227,
          0.07443660493151147,
          0.07530396537899813,
          0.07454908430108526,
          0.07415834482212327,
          0.07449589367272998,
          0.07479928413939711,
          0.07479928897577087,
          0.07479931332971904
         ]
        },
        {
         "boxpoints": "all",
         "jitter": 0.2,
         "line": {
          "color": "#EF553B"
         },
         "marker": {
          "color": "#EF553B",
          "line": {
           "color": "black",
           "width": 1
          },
          "opacity": 0.7,
          "symbol": "circle"
         },
         "name": "Exponential growth rate in 1/day",
         "pointpos": -1.5,
         "type": "box",
         "visible": false,
         "y": [
          0.1650351972445622,
          0.16798334622203126,
          0.16940077696626052,
          0.15896807475748265,
          0.1679840563907493,
          0.16903100639837945,
          0.16792794649444778,
          0.165035164649611,
          0.1650351450844766,
          0.1650350918016813
         ]
        },
        {
         "boxpoints": "all",
         "jitter": 0.2,
         "line": {
          "color": "#00CC96"
         },
         "marker": {
          "color": "#00CC96",
          "line": {
           "color": "black",
           "width": 1
          },
          "opacity": 0.7,
          "symbol": "circle"
         },
         "name": "Linear growth rate in cm^3/day",
         "pointpos": -1.5,
         "type": "box",
         "visible": false,
         "y": [
          0.020388814333310964,
          0.02031195896874616,
          0.02027455596691281,
          0.020569163549300114,
          0.02031190607554203,
          0.020321121815964422,
          0.020292767388726176,
          0.02038881238601678,
          0.020388811220309902,
          0.020388810950362032
         ]
        },
        {
         "boxpoints": "all",
         "jitter": 0.2,
         "line": {
          "color": "#AB63FA"
         },
         "marker": {
          "color": "#AB63FA",
          "line": {
           "color": "black",
           "width": 1
          },
          "opacity": 0.7,
          "symbol": "circle"
         },
         "name": "Score",
         "pointpos": -1.5,
         "type": "box",
         "visible": false,
         "y": [
          0.007450327517829466,
          0.007448232537856347,
          0.007448563913658762,
          0.00745166887197908,
          0.007448232522265392,
          0.0074493012622735555,
          0.007449959042289224,
          0.007450327517827172,
          0.007450327517827524,
          0.0074503275178319775
         ]
        },
        {
         "boxpoints": "all",
         "jitter": 0.2,
         "line": {
          "color": "#636EFA"
         },
         "marker": {
          "color": "#636EFA",
          "line": {
           "color": "black",
           "width": 1
          },
          "opacity": 0.7,
          "symbol": "circle"
         },
         "name": "Initial tumour volume in cm^3",
         "pointpos": -1.5,
         "type": "box",
         "visible": false,
         "y": [
          0.22090437242426864,
          0.2209043815733419,
          0.22090438538230278,
          0.22090437422306372,
          0.2209043924733716,
          0.22090437609610564,
          0.2209043890817588,
          0.2209043927502329,
          0.220904387073551,
          0.2209043816822304
         ]
        },
        {
         "boxpoints": "all",
         "jitter": 0.2,
         "line": {
          "color": "#EF553B"
         },
         "marker": {
          "color": "#EF553B",
          "line": {
           "color": "black",
           "width": 1
          },
          "opacity": 0.7,
          "symbol": "circle"
         },
         "name": "Exponential growth rate in 1/day",
         "pointpos": -1.5,
         "type": "box",
         "visible": false,
         "y": [
          0.055592465720717896,
          0.05559246462041953,
          0.05559246441597493,
          0.05559246535890952,
          0.05559246362645107,
          0.055592465201474595,
          0.05559246350120928,
          0.055592463086603726,
          0.05559246396849609,
          0.05559246405639929
         ]
        },
        {
         "boxpoints": "all",
         "jitter": 0.2,
         "line": {
          "color": "#00CC96"
         },
         "marker": {
          "color": "#00CC96",
          "line": {
           "color": "black",
           "width": 1
          },
          "opacity": 0.7,
          "symbol": "circle"
         },
         "name": "Linear growth rate in cm^3/day",
         "pointpos": -1.5,
         "type": "box",
         "visible": false,
         "y": [
          111.18493143979302,
          111.18492924073149,
          111.1849288319205,
          111.18493071752542,
          111.18492725286845,
          111.18493040250745,
          111.1849270021746,
          111.18492617310086,
          111.18492793698248,
          111.18492811229818
         ]
        },
        {
         "boxpoints": "all",
         "jitter": 0.2,
         "line": {
          "color": "#AB63FA"
         },
         "marker": {
          "color": "#AB63FA",
          "line": {
           "color": "black",
           "width": 1
          },
          "opacity": 0.7,
          "symbol": "circle"
         },
         "name": "Score",
         "pointpos": -1.5,
         "type": "box",
         "visible": false,
         "y": [
          0.09948736196066213,
          0.0994873619606537,
          0.09948736196066464,
          0.099487361960657,
          0.09948736196066935,
          0.09948736196066313,
          0.09948736196066374,
          0.09948736196066457,
          0.0994873619606639,
          0.09948736196065791
         ]
        },
        {
         "boxpoints": "all",
         "jitter": 0.2,
         "line": {
          "color": "#636EFA"
         },
         "marker": {
          "color": "#636EFA",
          "line": {
           "color": "black",
           "width": 1
          },
          "opacity": 0.7,
          "symbol": "circle"
         },
         "name": "Initial tumour volume in cm^3",
         "pointpos": -1.5,
         "type": "box",
         "visible": false,
         "y": [
          0.14757463109207622,
          0.14891840799772157,
          0.14898030127517373,
          0.14869107466589096,
          0.14898530279291025,
          0.1482448383691893,
          0.1490695199429091,
          0.14903308124703546,
          0.1483736538868331,
          0.14974610777622285
         ]
        },
        {
         "boxpoints": "all",
         "jitter": 0.2,
         "line": {
          "color": "#EF553B"
         },
         "marker": {
          "color": "#EF553B",
          "line": {
           "color": "black",
           "width": 1
          },
          "opacity": 0.7,
          "symbol": "circle"
         },
         "name": "Exponential growth rate in 1/day",
         "pointpos": -1.5,
         "type": "box",
         "visible": false,
         "y": [
          0.05496538192445882,
          0.054283048649214856,
          0.054268430505623064,
          0.05466201308503514,
          0.054265050553798336,
          0.05478982557520019,
          0.05424633532635222,
          0.05425388008012529,
          0.054722039520234696,
          0.05373540331880301
         ]
        },
        {
         "boxpoints": "all",
         "jitter": 0.2,
         "line": {
          "color": "#00CC96"
         },
         "marker": {
          "color": "#00CC96",
          "line": {
           "color": "black",
           "width": 1
          },
          "opacity": 0.7,
          "symbol": "circle"
         },
         "name": "Linear growth rate in cm^3/day",
         "pointpos": -1.5,
         "type": "box",
         "visible": false,
         "y": [
          0.12655197388238595,
          0.1287915165377748,
          0.12881240821412163,
          0.12683851068984903,
          0.12881042946522425,
          0.12679538796974657,
          0.12878611567669385,
          0.12881886661318967,
          0.12675969342315335,
          0.13099981813549488
         ]
        },
        {
         "boxpoints": "all",
         "jitter": 0.2,
         "line": {
          "color": "#AB63FA"
         },
         "marker": {
          "color": "#AB63FA",
          "line": {
           "color": "black",
           "width": 1
          },
          "opacity": 0.7,
          "symbol": "circle"
         },
         "name": "Score",
         "pointpos": -1.5,
         "type": "box",
         "visible": false,
         "y": [
          0.04018510682817683,
          0.040184705747427614,
          0.04018529160831231,
          0.04018206068259415,
          0.04018554919471544,
          0.04018130495471484,
          0.04018467244507598,
          0.04018453900200692,
          0.04018205232635645,
          0.0401862104745401
         ]
        },
        {
         "boxpoints": "all",
         "jitter": 0.2,
         "line": {
          "color": "#636EFA"
         },
         "marker": {
          "color": "#636EFA",
          "line": {
           "color": "black",
           "width": 1
          },
          "opacity": 0.7,
          "symbol": "circle"
         },
         "name": "Initial tumour volume in cm^3",
         "pointpos": -1.5,
         "type": "box",
         "visible": false,
         "y": [
          0.0841766436002978,
          0.0841766555835959,
          0.08417666475144676,
          0.08417659456311197,
          0.08417662138412794,
          0.08417664912140449,
          0.08417664076105666,
          0.08417665475265622,
          0.08417666027962487,
          0.08417664717740479
         ]
        },
        {
         "boxpoints": "all",
         "jitter": 0.2,
         "line": {
          "color": "#EF553B"
         },
         "marker": {
          "color": "#EF553B",
          "line": {
           "color": "black",
           "width": 1
          },
          "opacity": 0.7,
          "symbol": "circle"
         },
         "name": "Exponential growth rate in 1/day",
         "pointpos": -1.5,
         "type": "box",
         "visible": false,
         "y": [
          0.05418268319274858,
          0.054182681669008276,
          0.05418267852621647,
          0.05418269501684887,
          0.05418268911549844,
          0.05418268164929326,
          0.054182684116769825,
          0.05418268006824232,
          0.05418267875473818,
          0.05418268370202336
         ]
        },
        {
         "boxpoints": "all",
         "jitter": 0.2,
         "line": {
          "color": "#00CC96"
         },
         "marker": {
          "color": "#00CC96",
          "line": {
           "color": "black",
           "width": 1
          },
          "opacity": 0.7,
          "symbol": "circle"
         },
         "name": "Linear growth rate in cm^3/day",
         "pointpos": -1.5,
         "type": "box",
         "visible": false,
         "y": [
          108.36536635780223,
          108.36536333666444,
          108.36535705232204,
          108.36539003079363,
          108.36537822931464,
          108.3653632958086,
          108.36536823353134,
          108.36536012561112,
          108.36535750834157,
          108.36536736541649
         ]
        },
        {
         "boxpoints": "all",
         "jitter": 0.2,
         "line": {
          "color": "#AB63FA"
         },
         "marker": {
          "color": "#AB63FA",
          "line": {
           "color": "black",
           "width": 1
          },
          "opacity": 0.7,
          "symbol": "circle"
         },
         "name": "Score",
         "pointpos": -1.5,
         "type": "box",
         "visible": false,
         "y": [
          0.1460431583366721,
          0.1460431583366587,
          0.14604315833664677,
          0.14604315833666504,
          0.14604315833673018,
          0.14604315833666925,
          0.14604315833672638,
          0.146043158336714,
          0.14604315833662973,
          0.14604315833669596
         ]
        },
        {
         "boxpoints": "all",
         "jitter": 0.2,
         "line": {
          "color": "#636EFA"
         },
         "marker": {
          "color": "#636EFA",
          "line": {
           "color": "black",
           "width": 1
          },
          "opacity": 0.7,
          "symbol": "circle"
         },
         "name": "Initial tumour volume in cm^3",
         "pointpos": -1.5,
         "type": "box",
         "visible": false,
         "y": [
          0.1328950238545739,
          0.13327404297584827,
          0.13327487621685685,
          0.13289527850742222,
          0.13327425707860205,
          0.13327413168704552,
          0.13327368144405008,
          0.1332740963693574,
          0.13327406503024272,
          0.132895133671451
         ]
        },
        {
         "boxpoints": "all",
         "jitter": 0.2,
         "line": {
          "color": "#EF553B"
         },
         "marker": {
          "color": "#EF553B",
          "line": {
           "color": "black",
           "width": 1
          },
          "opacity": 0.7,
          "symbol": "circle"
         },
         "name": "Exponential growth rate in 1/day",
         "pointpos": -1.5,
         "type": "box",
         "visible": false,
         "y": [
          0.19900644078813906,
          0.1973597094066088,
          0.19735865045279039,
          0.19900613748028223,
          0.19735944315855658,
          0.19735957625931966,
          0.1973601655407496,
          0.19735960499001295,
          0.19735964349078852,
          0.19900629952146692
         ]
        },
        {
         "boxpoints": "all",
         "jitter": 0.2,
         "line": {
          "color": "#00CC96"
         },
         "marker": {
          "color": "#00CC96",
          "line": {
           "color": "black",
           "width": 1
          },
          "opacity": 0.7,
          "symbol": "circle"
         },
         "name": "Linear growth rate in cm^3/day",
         "pointpos": -1.5,
         "type": "box",
         "visible": false,
         "y": [
          0.10827361866057054,
          0.1085369166202275,
          0.10853700863568906,
          0.10827366210457767,
          0.10853694346249626,
          0.10853691515699895,
          0.10853687487294877,
          0.10853690236553552,
          0.10853689820426926,
          0.10827363170787499
         ]
        },
        {
         "boxpoints": "all",
         "jitter": 0.2,
         "line": {
          "color": "#AB63FA"
         },
         "marker": {
          "color": "#AB63FA",
          "line": {
           "color": "black",
           "width": 1
          },
          "opacity": 0.7,
          "symbol": "circle"
         },
         "name": "Score",
         "pointpos": -1.5,
         "type": "box",
         "visible": false,
         "y": [
          0.25885804033559895,
          0.258857346507351,
          0.25885734651030434,
          0.258858040336119,
          0.2588573465074114,
          0.2588573465075083,
          0.2588573465078787,
          0.25885734650758,
          0.25885734650779246,
          0.2588580403355476
         ]
        },
        {
         "boxpoints": "all",
         "jitter": 0.2,
         "line": {
          "color": "#636EFA"
         },
         "marker": {
          "color": "#636EFA",
          "line": {
           "color": "black",
           "width": 1
          },
          "opacity": 0.7,
          "symbol": "circle"
         },
         "name": "Initial tumour volume in cm^3",
         "pointpos": -1.5,
         "type": "box",
         "visible": false,
         "y": [
          0.12380955318290432,
          0.12380950103966697,
          0.12332972305063546,
          0.12332982228271855,
          0.12380956898279728,
          0.12390309627226889,
          0.12380946449258576,
          0.12380952597820687,
          0.1238093899834464,
          0.12380948586583526
         ]
        },
        {
         "boxpoints": "all",
         "jitter": 0.2,
         "line": {
          "color": "#EF553B"
         },
         "marker": {
          "color": "#EF553B",
          "line": {
           "color": "black",
           "width": 1
          },
          "opacity": 0.7,
          "symbol": "circle"
         },
         "name": "Exponential growth rate in 1/day",
         "pointpos": -1.5,
         "type": "box",
         "visible": false,
         "y": [
          0.043031596668474434,
          0.043031612398121886,
          0.04352118525045186,
          0.04352116101636632,
          0.04303159136109812,
          0.04299457902913199,
          0.04303162405265811,
          0.04303160413110073,
          0.043031639417736134,
          0.04303161406755695
         ]
        },
        {
         "boxpoints": "all",
         "jitter": 0.2,
         "line": {
          "color": "#00CC96"
         },
         "marker": {
          "color": "#00CC96",
          "line": {
           "color": "black",
           "width": 1
          },
          "opacity": 0.7,
          "symbol": "circle"
         },
         "name": "Linear growth rate in cm^3/day",
         "pointpos": -1.5,
         "type": "box",
         "visible": false,
         "y": [
          0.07299522678029723,
          0.0729952242858743,
          0.07139560475172475,
          0.07139562065576782,
          0.07299522722307883,
          0.0730118641071391,
          0.07299522310330311,
          0.07299522434666628,
          0.07299520746686579,
          0.07299521855736364
         ]
        },
        {
         "boxpoints": "all",
         "jitter": 0.2,
         "line": {
          "color": "#AB63FA"
         },
         "marker": {
          "color": "#AB63FA",
          "line": {
           "color": "black",
           "width": 1
          },
          "opacity": 0.7,
          "symbol": "circle"
         },
         "name": "Score",
         "pointpos": -1.5,
         "type": "box",
         "visible": false,
         "y": [
          0.0029152929591462454,
          0.0029152929591792047,
          0.0029160191458859524,
          0.0029160191458718885,
          0.0029152929592806713,
          0.0029154484570916234,
          0.0029152929591683427,
          0.002915292959216168,
          0.002915292959341759,
          0.0029152929591627075
         ]
        },
        {
         "boxpoints": "all",
         "jitter": 0.2,
         "line": {
          "color": "#636EFA"
         },
         "marker": {
          "color": "#636EFA",
          "line": {
           "color": "black",
           "width": 1
          },
          "opacity": 0.7,
          "symbol": "circle"
         },
         "name": "Initial tumour volume in cm^3",
         "pointpos": -1.5,
         "type": "box",
         "visible": false,
         "y": [
          0.08704782247188275,
          0.08704782262547404,
          0.08701975084380342,
          0.08704782158453918,
          0.0871091462545371,
          0.08709257573322222,
          0.08704782324771403,
          0.0870478367117227,
          0.08710914891568275,
          0.0871895339894276
         ]
        },
        {
         "boxpoints": "all",
         "jitter": 0.2,
         "line": {
          "color": "#EF553B"
         },
         "marker": {
          "color": "#EF553B",
          "line": {
           "color": "black",
           "width": 1
          },
          "opacity": 0.7,
          "symbol": "circle"
         },
         "name": "Exponential growth rate in 1/day",
         "pointpos": -1.5,
         "type": "box",
         "visible": false,
         "y": [
          0.036172156987332386,
          0.036172157210144856,
          0.03618249851397363,
          0.03617215720513877,
          0.03611834497841441,
          0.036158645788609924,
          0.03617215932335323,
          0.0361721536960612,
          0.03611834459859223,
          0.0360458040809005
         ]
        },
        {
         "boxpoints": "all",
         "jitter": 0.2,
         "line": {
          "color": "#00CC96"
         },
         "marker": {
          "color": "#00CC96",
          "line": {
           "color": "black",
           "width": 1
          },
          "opacity": 0.7,
          "symbol": "circle"
         },
         "name": "Linear growth rate in cm^3/day",
         "pointpos": -1.5,
         "type": "box",
         "visible": false,
         "y": [
          0.19325840569564506,
          0.19325840693709193,
          0.1930539790928431,
          0.19325840460365587,
          0.1953475658117555,
          0.19309529814485507,
          0.19325841997035045,
          0.19325841851230027,
          0.19534756965569414,
          0.19864981188307004
         ]
        },
        {
         "boxpoints": "all",
         "jitter": 0.2,
         "line": {
          "color": "#AB63FA"
         },
         "marker": {
          "color": "#AB63FA",
          "line": {
           "color": "black",
           "width": 1
          },
          "opacity": 0.7,
          "symbol": "circle"
         },
         "name": "Score",
         "pointpos": -1.5,
         "type": "box",
         "visible": false,
         "y": [
          0.0023155933407800226,
          0.002315593340781343,
          0.002315613501561583,
          0.0023155933407814247,
          0.002315735235268487,
          0.0023156834585473076,
          0.0023155933407968477,
          0.002315593340785314,
          0.0023157352352718165,
          0.002315751822892631
         ]
        }
       ],
       "layout": {
        "autosize": true,
        "legend": {
         "x": 1.05,
         "xanchor": "left",
         "y": 0.01,
         "yanchor": "bottom"
        },
        "template": {
         "data": {
          "bar": [
           {
            "error_x": {
             "color": "#2a3f5f"
            },
            "error_y": {
             "color": "#2a3f5f"
            },
            "marker": {
             "line": {
              "color": "white",
              "width": 0.5
             }
            },
            "type": "bar"
           }
          ],
          "barpolar": [
           {
            "marker": {
             "line": {
              "color": "white",
              "width": 0.5
             }
            },
            "type": "barpolar"
           }
          ],
          "carpet": [
           {
            "aaxis": {
             "endlinecolor": "#2a3f5f",
             "gridcolor": "#C8D4E3",
             "linecolor": "#C8D4E3",
             "minorgridcolor": "#C8D4E3",
             "startlinecolor": "#2a3f5f"
            },
            "baxis": {
             "endlinecolor": "#2a3f5f",
             "gridcolor": "#C8D4E3",
             "linecolor": "#C8D4E3",
             "minorgridcolor": "#C8D4E3",
             "startlinecolor": "#2a3f5f"
            },
            "type": "carpet"
           }
          ],
          "choropleth": [
           {
            "colorbar": {
             "outlinewidth": 0,
             "ticks": ""
            },
            "type": "choropleth"
           }
          ],
          "contour": [
           {
            "colorbar": {
             "outlinewidth": 0,
             "ticks": ""
            },
            "colorscale": [
             [
              0,
              "#0d0887"
             ],
             [
              0.1111111111111111,
              "#46039f"
             ],
             [
              0.2222222222222222,
              "#7201a8"
             ],
             [
              0.3333333333333333,
              "#9c179e"
             ],
             [
              0.4444444444444444,
              "#bd3786"
             ],
             [
              0.5555555555555556,
              "#d8576b"
             ],
             [
              0.6666666666666666,
              "#ed7953"
             ],
             [
              0.7777777777777778,
              "#fb9f3a"
             ],
             [
              0.8888888888888888,
              "#fdca26"
             ],
             [
              1,
              "#f0f921"
             ]
            ],
            "type": "contour"
           }
          ],
          "contourcarpet": [
           {
            "colorbar": {
             "outlinewidth": 0,
             "ticks": ""
            },
            "type": "contourcarpet"
           }
          ],
          "heatmap": [
           {
            "colorbar": {
             "outlinewidth": 0,
             "ticks": ""
            },
            "colorscale": [
             [
              0,
              "#0d0887"
             ],
             [
              0.1111111111111111,
              "#46039f"
             ],
             [
              0.2222222222222222,
              "#7201a8"
             ],
             [
              0.3333333333333333,
              "#9c179e"
             ],
             [
              0.4444444444444444,
              "#bd3786"
             ],
             [
              0.5555555555555556,
              "#d8576b"
             ],
             [
              0.6666666666666666,
              "#ed7953"
             ],
             [
              0.7777777777777778,
              "#fb9f3a"
             ],
             [
              0.8888888888888888,
              "#fdca26"
             ],
             [
              1,
              "#f0f921"
             ]
            ],
            "type": "heatmap"
           }
          ],
          "heatmapgl": [
           {
            "colorbar": {
             "outlinewidth": 0,
             "ticks": ""
            },
            "colorscale": [
             [
              0,
              "#0d0887"
             ],
             [
              0.1111111111111111,
              "#46039f"
             ],
             [
              0.2222222222222222,
              "#7201a8"
             ],
             [
              0.3333333333333333,
              "#9c179e"
             ],
             [
              0.4444444444444444,
              "#bd3786"
             ],
             [
              0.5555555555555556,
              "#d8576b"
             ],
             [
              0.6666666666666666,
              "#ed7953"
             ],
             [
              0.7777777777777778,
              "#fb9f3a"
             ],
             [
              0.8888888888888888,
              "#fdca26"
             ],
             [
              1,
              "#f0f921"
             ]
            ],
            "type": "heatmapgl"
           }
          ],
          "histogram": [
           {
            "marker": {
             "colorbar": {
              "outlinewidth": 0,
              "ticks": ""
             }
            },
            "type": "histogram"
           }
          ],
          "histogram2d": [
           {
            "colorbar": {
             "outlinewidth": 0,
             "ticks": ""
            },
            "colorscale": [
             [
              0,
              "#0d0887"
             ],
             [
              0.1111111111111111,
              "#46039f"
             ],
             [
              0.2222222222222222,
              "#7201a8"
             ],
             [
              0.3333333333333333,
              "#9c179e"
             ],
             [
              0.4444444444444444,
              "#bd3786"
             ],
             [
              0.5555555555555556,
              "#d8576b"
             ],
             [
              0.6666666666666666,
              "#ed7953"
             ],
             [
              0.7777777777777778,
              "#fb9f3a"
             ],
             [
              0.8888888888888888,
              "#fdca26"
             ],
             [
              1,
              "#f0f921"
             ]
            ],
            "type": "histogram2d"
           }
          ],
          "histogram2dcontour": [
           {
            "colorbar": {
             "outlinewidth": 0,
             "ticks": ""
            },
            "colorscale": [
             [
              0,
              "#0d0887"
             ],
             [
              0.1111111111111111,
              "#46039f"
             ],
             [
              0.2222222222222222,
              "#7201a8"
             ],
             [
              0.3333333333333333,
              "#9c179e"
             ],
             [
              0.4444444444444444,
              "#bd3786"
             ],
             [
              0.5555555555555556,
              "#d8576b"
             ],
             [
              0.6666666666666666,
              "#ed7953"
             ],
             [
              0.7777777777777778,
              "#fb9f3a"
             ],
             [
              0.8888888888888888,
              "#fdca26"
             ],
             [
              1,
              "#f0f921"
             ]
            ],
            "type": "histogram2dcontour"
           }
          ],
          "mesh3d": [
           {
            "colorbar": {
             "outlinewidth": 0,
             "ticks": ""
            },
            "type": "mesh3d"
           }
          ],
          "parcoords": [
           {
            "line": {
             "colorbar": {
              "outlinewidth": 0,
              "ticks": ""
             }
            },
            "type": "parcoords"
           }
          ],
          "pie": [
           {
            "automargin": true,
            "type": "pie"
           }
          ],
          "scatter": [
           {
            "marker": {
             "colorbar": {
              "outlinewidth": 0,
              "ticks": ""
             }
            },
            "type": "scatter"
           }
          ],
          "scatter3d": [
           {
            "line": {
             "colorbar": {
              "outlinewidth": 0,
              "ticks": ""
             }
            },
            "marker": {
             "colorbar": {
              "outlinewidth": 0,
              "ticks": ""
             }
            },
            "type": "scatter3d"
           }
          ],
          "scattercarpet": [
           {
            "marker": {
             "colorbar": {
              "outlinewidth": 0,
              "ticks": ""
             }
            },
            "type": "scattercarpet"
           }
          ],
          "scattergeo": [
           {
            "marker": {
             "colorbar": {
              "outlinewidth": 0,
              "ticks": ""
             }
            },
            "type": "scattergeo"
           }
          ],
          "scattergl": [
           {
            "marker": {
             "colorbar": {
              "outlinewidth": 0,
              "ticks": ""
             }
            },
            "type": "scattergl"
           }
          ],
          "scattermapbox": [
           {
            "marker": {
             "colorbar": {
              "outlinewidth": 0,
              "ticks": ""
             }
            },
            "type": "scattermapbox"
           }
          ],
          "scatterpolar": [
           {
            "marker": {
             "colorbar": {
              "outlinewidth": 0,
              "ticks": ""
             }
            },
            "type": "scatterpolar"
           }
          ],
          "scatterpolargl": [
           {
            "marker": {
             "colorbar": {
              "outlinewidth": 0,
              "ticks": ""
             }
            },
            "type": "scatterpolargl"
           }
          ],
          "scatterternary": [
           {
            "marker": {
             "colorbar": {
              "outlinewidth": 0,
              "ticks": ""
             }
            },
            "type": "scatterternary"
           }
          ],
          "surface": [
           {
            "colorbar": {
             "outlinewidth": 0,
             "ticks": ""
            },
            "colorscale": [
             [
              0,
              "#0d0887"
             ],
             [
              0.1111111111111111,
              "#46039f"
             ],
             [
              0.2222222222222222,
              "#7201a8"
             ],
             [
              0.3333333333333333,
              "#9c179e"
             ],
             [
              0.4444444444444444,
              "#bd3786"
             ],
             [
              0.5555555555555556,
              "#d8576b"
             ],
             [
              0.6666666666666666,
              "#ed7953"
             ],
             [
              0.7777777777777778,
              "#fb9f3a"
             ],
             [
              0.8888888888888888,
              "#fdca26"
             ],
             [
              1,
              "#f0f921"
             ]
            ],
            "type": "surface"
           }
          ],
          "table": [
           {
            "cells": {
             "fill": {
              "color": "#EBF0F8"
             },
             "line": {
              "color": "white"
             }
            },
            "header": {
             "fill": {
              "color": "#C8D4E3"
             },
             "line": {
              "color": "white"
             }
            },
            "type": "table"
           }
          ]
         },
         "layout": {
          "annotationdefaults": {
           "arrowcolor": "#2a3f5f",
           "arrowhead": 0,
           "arrowwidth": 1
          },
          "coloraxis": {
           "colorbar": {
            "outlinewidth": 0,
            "ticks": ""
           }
          },
          "colorscale": {
           "diverging": [
            [
             0,
             "#8e0152"
            ],
            [
             0.1,
             "#c51b7d"
            ],
            [
             0.2,
             "#de77ae"
            ],
            [
             0.3,
             "#f1b6da"
            ],
            [
             0.4,
             "#fde0ef"
            ],
            [
             0.5,
             "#f7f7f7"
            ],
            [
             0.6,
             "#e6f5d0"
            ],
            [
             0.7,
             "#b8e186"
            ],
            [
             0.8,
             "#7fbc41"
            ],
            [
             0.9,
             "#4d9221"
            ],
            [
             1,
             "#276419"
            ]
           ],
           "sequential": [
            [
             0,
             "#0d0887"
            ],
            [
             0.1111111111111111,
             "#46039f"
            ],
            [
             0.2222222222222222,
             "#7201a8"
            ],
            [
             0.3333333333333333,
             "#9c179e"
            ],
            [
             0.4444444444444444,
             "#bd3786"
            ],
            [
             0.5555555555555556,
             "#d8576b"
            ],
            [
             0.6666666666666666,
             "#ed7953"
            ],
            [
             0.7777777777777778,
             "#fb9f3a"
            ],
            [
             0.8888888888888888,
             "#fdca26"
            ],
            [
             1,
             "#f0f921"
            ]
           ],
           "sequentialminus": [
            [
             0,
             "#0d0887"
            ],
            [
             0.1111111111111111,
             "#46039f"
            ],
            [
             0.2222222222222222,
             "#7201a8"
            ],
            [
             0.3333333333333333,
             "#9c179e"
            ],
            [
             0.4444444444444444,
             "#bd3786"
            ],
            [
             0.5555555555555556,
             "#d8576b"
            ],
            [
             0.6666666666666666,
             "#ed7953"
            ],
            [
             0.7777777777777778,
             "#fb9f3a"
            ],
            [
             0.8888888888888888,
             "#fdca26"
            ],
            [
             1,
             "#f0f921"
            ]
           ]
          },
          "colorway": [
           "#636efa",
           "#EF553B",
           "#00cc96",
           "#ab63fa",
           "#FFA15A",
           "#19d3f3",
           "#FF6692",
           "#B6E880",
           "#FF97FF",
           "#FECB52"
          ],
          "font": {
           "color": "#2a3f5f"
          },
          "geo": {
           "bgcolor": "white",
           "lakecolor": "white",
           "landcolor": "white",
           "showlakes": true,
           "showland": true,
           "subunitcolor": "#C8D4E3"
          },
          "hoverlabel": {
           "align": "left"
          },
          "hovermode": "closest",
          "mapbox": {
           "style": "light"
          },
          "paper_bgcolor": "white",
          "plot_bgcolor": "white",
          "polar": {
           "angularaxis": {
            "gridcolor": "#EBF0F8",
            "linecolor": "#EBF0F8",
            "ticks": ""
           },
           "bgcolor": "white",
           "radialaxis": {
            "gridcolor": "#EBF0F8",
            "linecolor": "#EBF0F8",
            "ticks": ""
           }
          },
          "scene": {
           "xaxis": {
            "backgroundcolor": "white",
            "gridcolor": "#DFE8F3",
            "gridwidth": 2,
            "linecolor": "#EBF0F8",
            "showbackground": true,
            "ticks": "",
            "zerolinecolor": "#EBF0F8"
           },
           "yaxis": {
            "backgroundcolor": "white",
            "gridcolor": "#DFE8F3",
            "gridwidth": 2,
            "linecolor": "#EBF0F8",
            "showbackground": true,
            "ticks": "",
            "zerolinecolor": "#EBF0F8"
           },
           "zaxis": {
            "backgroundcolor": "white",
            "gridcolor": "#DFE8F3",
            "gridwidth": 2,
            "linecolor": "#EBF0F8",
            "showbackground": true,
            "ticks": "",
            "zerolinecolor": "#EBF0F8"
           }
          },
          "shapedefaults": {
           "line": {
            "color": "#2a3f5f"
           }
          },
          "ternary": {
           "aaxis": {
            "gridcolor": "#DFE8F3",
            "linecolor": "#A2B1C6",
            "ticks": ""
           },
           "baxis": {
            "gridcolor": "#DFE8F3",
            "linecolor": "#A2B1C6",
            "ticks": ""
           },
           "bgcolor": "white",
           "caxis": {
            "gridcolor": "#DFE8F3",
            "linecolor": "#A2B1C6",
            "ticks": ""
           }
          },
          "title": {
           "x": 0.05
          },
          "xaxis": {
           "automargin": true,
           "gridcolor": "#EBF0F8",
           "linecolor": "#EBF0F8",
           "ticks": "",
           "title": {
            "standoff": 15
           },
           "zerolinecolor": "#EBF0F8",
           "zerolinewidth": 2
          },
          "yaxis": {
           "automargin": true,
           "gridcolor": "#EBF0F8",
           "linecolor": "#EBF0F8",
           "ticks": "",
           "title": {
            "standoff": 15
           },
           "zerolinecolor": "#EBF0F8",
           "zerolinewidth": 2
          }
         }
        },
        "updatemenus": [
         {
          "buttons": [
           {
            "args": [
             {
              "visible": [
               true,
               true,
               true,
               true,
               false,
               false,
               false,
               false,
               false,
               false,
               false,
               false,
               false,
               false,
               false,
               false,
               false,
               false,
               false,
               false,
               false,
               false,
               false,
               false,
               false,
               false,
               false,
               false,
               false,
               false,
               false,
               false
              ]
             }
            ],
            "label": "ID: 40",
            "method": "restyle"
           },
           {
            "args": [
             {
              "visible": [
               false,
               false,
               false,
               false,
               true,
               true,
               true,
               true,
               false,
               false,
               false,
               false,
               false,
               false,
               false,
               false,
               false,
               false,
               false,
               false,
               false,
               false,
               false,
               false,
               false,
               false,
               false,
               false,
               false,
               false,
               false,
               false
              ]
             }
            ],
            "label": "ID: 94",
            "method": "restyle"
           },
           {
            "args": [
             {
              "visible": [
               false,
               false,
               false,
               false,
               false,
               false,
               false,
               false,
               true,
               true,
               true,
               true,
               false,
               false,
               false,
               false,
               false,
               false,
               false,
               false,
               false,
               false,
               false,
               false,
               false,
               false,
               false,
               false,
               false,
               false,
               false,
               false
              ]
             }
            ],
            "label": "ID: 95",
            "method": "restyle"
           },
           {
            "args": [
             {
              "visible": [
               false,
               false,
               false,
               false,
               false,
               false,
               false,
               false,
               false,
               false,
               false,
               false,
               true,
               true,
               true,
               true,
               false,
               false,
               false,
               false,
               false,
               false,
               false,
               false,
               false,
               false,
               false,
               false,
               false,
               false,
               false,
               false
              ]
             }
            ],
            "label": "ID: 136",
            "method": "restyle"
           },
           {
            "args": [
             {
              "visible": [
               false,
               false,
               false,
               false,
               false,
               false,
               false,
               false,
               false,
               false,
               false,
               false,
               false,
               false,
               false,
               false,
               true,
               true,
               true,
               true,
               false,
               false,
               false,
               false,
               false,
               false,
               false,
               false,
               false,
               false,
               false,
               false
              ]
             }
            ],
            "label": "ID: 140",
            "method": "restyle"
           },
           {
            "args": [
             {
              "visible": [
               false,
               false,
               false,
               false,
               false,
               false,
               false,
               false,
               false,
               false,
               false,
               false,
               false,
               false,
               false,
               false,
               false,
               false,
               false,
               false,
               true,
               true,
               true,
               true,
               false,
               false,
               false,
               false,
               false,
               false,
               false,
               false
              ]
             }
            ],
            "label": "ID: 155",
            "method": "restyle"
           },
           {
            "args": [
             {
              "visible": [
               false,
               false,
               false,
               false,
               false,
               false,
               false,
               false,
               false,
               false,
               false,
               false,
               false,
               false,
               false,
               false,
               false,
               false,
               false,
               false,
               false,
               false,
               false,
               false,
               true,
               true,
               true,
               true,
               false,
               false,
               false,
               false
              ]
             }
            ],
            "label": "ID: 169",
            "method": "restyle"
           },
           {
            "args": [
             {
              "visible": [
               false,
               false,
               false,
               false,
               false,
               false,
               false,
               false,
               false,
               false,
               false,
               false,
               false,
               false,
               false,
               false,
               false,
               false,
               false,
               false,
               false,
               false,
               false,
               false,
               false,
               false,
               false,
               false,
               true,
               true,
               true,
               true
              ]
             }
            ],
            "label": "ID: 170",
            "method": "restyle"
           }
          ],
          "direction": "right",
          "pad": {
           "r": 0,
           "t": -10
          },
          "showactive": true,
          "type": "buttons",
          "x": 0,
          "xanchor": "left",
          "y": 1.1,
          "yanchor": "top"
         }
        ]
       }
      },
      "text/html": [
       "<div>\n",
       "        \n",
       "        \n",
       "            <div id=\"390e073e-f3c6-4aee-a759-597bc9aebd11\" class=\"plotly-graph-div\" style=\"height:525px; width:100%;\"></div>\n",
       "            <script type=\"text/javascript\">\n",
       "                require([\"plotly\"], function(Plotly) {\n",
       "                    window.PLOTLYENV=window.PLOTLYENV || {};\n",
       "                    \n",
       "                if (document.getElementById(\"390e073e-f3c6-4aee-a759-597bc9aebd11\")) {\n",
       "                    Plotly.newPlot(\n",
       "                        '390e073e-f3c6-4aee-a759-597bc9aebd11',\n",
       "                        [{\"boxpoints\": \"all\", \"jitter\": 0.2, \"line\": {\"color\": \"#636EFA\"}, \"marker\": {\"color\": \"#636EFA\", \"line\": {\"color\": \"black\", \"width\": 1}, \"opacity\": 0.7, \"symbol\": \"circle\"}, \"name\": \"Initial tumour volume in cm^3\", \"pointpos\": -1.5, \"type\": \"box\", \"visible\": true, \"y\": [0.13983829873319853, 0.14007982344804992, 0.1399548888639088, 0.13983987274952697, 0.13932734486109344, 0.13857994848817246, 0.14135651141908864, 0.13944896011364954, 0.13863249109685577, 0.138355123369633]}, {\"boxpoints\": \"all\", \"jitter\": 0.2, \"line\": {\"color\": \"#EF553B\"}, \"marker\": {\"color\": \"#EF553B\", \"line\": {\"color\": \"black\", \"width\": 1}, \"opacity\": 0.7, \"symbol\": \"circle\"}, \"name\": \"Exponential growth rate in 1/day\", \"pointpos\": -1.5, \"type\": \"box\", \"visible\": true, \"y\": [0.2744261227344327, 0.2739392294834647, 0.27434271129641735, 0.274421986233766, 0.2753737271771192, 0.27664434178073505, 0.2717169366784129, 0.2751482426827337, 0.27654207483346915, 0.2770484610945924]}, {\"boxpoints\": \"all\", \"jitter\": 0.2, \"line\": {\"color\": \"#00CC96\"}, \"marker\": {\"color\": \"#00CC96\", \"line\": {\"color\": \"black\", \"width\": 1}, \"opacity\": 0.7, \"symbol\": \"circle\"}, \"name\": \"Linear growth rate in cm^3/day\", \"pointpos\": -1.5, \"type\": \"box\", \"visible\": true, \"y\": [0.13102190531120428, 0.13100853336709142, 0.1310517708482545, 0.13098492684825921, 0.13095682544321538, 0.1308667783537486, 0.13107383198018507, 0.13098559761412382, 0.13086889796444556, 0.13087197312822113]}, {\"boxpoints\": \"all\", \"jitter\": 0.2, \"line\": {\"color\": \"#AB63FA\"}, \"marker\": {\"color\": \"#AB63FA\", \"line\": {\"color\": \"black\", \"width\": 1}, \"opacity\": 0.7, \"symbol\": \"circle\"}, \"name\": \"Score\", \"pointpos\": -1.5, \"type\": \"box\", \"visible\": true, \"y\": [0.031861459110526985, 0.03186357115504949, 0.03186231076978173, 0.031861989616298714, 0.03186040474246982, 0.03186367399240071, 0.03187587652642702, 0.03186054846201417, 0.0318637514273931, 0.031863786762465825]}, {\"boxpoints\": \"all\", \"jitter\": 0.2, \"line\": {\"color\": \"#636EFA\"}, \"marker\": {\"color\": \"#636EFA\", \"line\": {\"color\": \"black\", \"width\": 1}, \"opacity\": 0.7, \"symbol\": \"circle\"}, \"name\": \"Initial tumour volume in cm^3\", \"pointpos\": -1.5, \"type\": \"box\", \"visible\": false, \"y\": [0.07479927613165054, 0.07454962658633227, 0.07443660493151147, 0.07530396537899813, 0.07454908430108526, 0.07415834482212327, 0.07449589367272998, 0.07479928413939711, 0.07479928897577087, 0.07479931332971904]}, {\"boxpoints\": \"all\", \"jitter\": 0.2, \"line\": {\"color\": \"#EF553B\"}, \"marker\": {\"color\": \"#EF553B\", \"line\": {\"color\": \"black\", \"width\": 1}, \"opacity\": 0.7, \"symbol\": \"circle\"}, \"name\": \"Exponential growth rate in 1/day\", \"pointpos\": -1.5, \"type\": \"box\", \"visible\": false, \"y\": [0.1650351972445622, 0.16798334622203126, 0.16940077696626052, 0.15896807475748265, 0.1679840563907493, 0.16903100639837945, 0.16792794649444778, 0.165035164649611, 0.1650351450844766, 0.1650350918016813]}, {\"boxpoints\": \"all\", \"jitter\": 0.2, \"line\": {\"color\": \"#00CC96\"}, \"marker\": {\"color\": \"#00CC96\", \"line\": {\"color\": \"black\", \"width\": 1}, \"opacity\": 0.7, \"symbol\": \"circle\"}, \"name\": \"Linear growth rate in cm^3/day\", \"pointpos\": -1.5, \"type\": \"box\", \"visible\": false, \"y\": [0.020388814333310964, 0.02031195896874616, 0.02027455596691281, 0.020569163549300114, 0.02031190607554203, 0.020321121815964422, 0.020292767388726176, 0.02038881238601678, 0.020388811220309902, 0.020388810950362032]}, {\"boxpoints\": \"all\", \"jitter\": 0.2, \"line\": {\"color\": \"#AB63FA\"}, \"marker\": {\"color\": \"#AB63FA\", \"line\": {\"color\": \"black\", \"width\": 1}, \"opacity\": 0.7, \"symbol\": \"circle\"}, \"name\": \"Score\", \"pointpos\": -1.5, \"type\": \"box\", \"visible\": false, \"y\": [0.007450327517829466, 0.007448232537856347, 0.007448563913658762, 0.00745166887197908, 0.007448232522265392, 0.0074493012622735555, 0.007449959042289224, 0.007450327517827172, 0.007450327517827524, 0.0074503275178319775]}, {\"boxpoints\": \"all\", \"jitter\": 0.2, \"line\": {\"color\": \"#636EFA\"}, \"marker\": {\"color\": \"#636EFA\", \"line\": {\"color\": \"black\", \"width\": 1}, \"opacity\": 0.7, \"symbol\": \"circle\"}, \"name\": \"Initial tumour volume in cm^3\", \"pointpos\": -1.5, \"type\": \"box\", \"visible\": false, \"y\": [0.22090437242426864, 0.2209043815733419, 0.22090438538230278, 0.22090437422306372, 0.2209043924733716, 0.22090437609610564, 0.2209043890817588, 0.2209043927502329, 0.220904387073551, 0.2209043816822304]}, {\"boxpoints\": \"all\", \"jitter\": 0.2, \"line\": {\"color\": \"#EF553B\"}, \"marker\": {\"color\": \"#EF553B\", \"line\": {\"color\": \"black\", \"width\": 1}, \"opacity\": 0.7, \"symbol\": \"circle\"}, \"name\": \"Exponential growth rate in 1/day\", \"pointpos\": -1.5, \"type\": \"box\", \"visible\": false, \"y\": [0.055592465720717896, 0.05559246462041953, 0.05559246441597493, 0.05559246535890952, 0.05559246362645107, 0.055592465201474595, 0.05559246350120928, 0.055592463086603726, 0.05559246396849609, 0.05559246405639929]}, {\"boxpoints\": \"all\", \"jitter\": 0.2, \"line\": {\"color\": \"#00CC96\"}, \"marker\": {\"color\": \"#00CC96\", \"line\": {\"color\": \"black\", \"width\": 1}, \"opacity\": 0.7, \"symbol\": \"circle\"}, \"name\": \"Linear growth rate in cm^3/day\", \"pointpos\": -1.5, \"type\": \"box\", \"visible\": false, \"y\": [111.18493143979302, 111.18492924073149, 111.1849288319205, 111.18493071752542, 111.18492725286845, 111.18493040250745, 111.1849270021746, 111.18492617310086, 111.18492793698248, 111.18492811229818]}, {\"boxpoints\": \"all\", \"jitter\": 0.2, \"line\": {\"color\": \"#AB63FA\"}, \"marker\": {\"color\": \"#AB63FA\", \"line\": {\"color\": \"black\", \"width\": 1}, \"opacity\": 0.7, \"symbol\": \"circle\"}, \"name\": \"Score\", \"pointpos\": -1.5, \"type\": \"box\", \"visible\": false, \"y\": [0.09948736196066213, 0.0994873619606537, 0.09948736196066464, 0.099487361960657, 0.09948736196066935, 0.09948736196066313, 0.09948736196066374, 0.09948736196066457, 0.0994873619606639, 0.09948736196065791]}, {\"boxpoints\": \"all\", \"jitter\": 0.2, \"line\": {\"color\": \"#636EFA\"}, \"marker\": {\"color\": \"#636EFA\", \"line\": {\"color\": \"black\", \"width\": 1}, \"opacity\": 0.7, \"symbol\": \"circle\"}, \"name\": \"Initial tumour volume in cm^3\", \"pointpos\": -1.5, \"type\": \"box\", \"visible\": false, \"y\": [0.14757463109207622, 0.14891840799772157, 0.14898030127517373, 0.14869107466589096, 0.14898530279291025, 0.1482448383691893, 0.1490695199429091, 0.14903308124703546, 0.1483736538868331, 0.14974610777622285]}, {\"boxpoints\": \"all\", \"jitter\": 0.2, \"line\": {\"color\": \"#EF553B\"}, \"marker\": {\"color\": \"#EF553B\", \"line\": {\"color\": \"black\", \"width\": 1}, \"opacity\": 0.7, \"symbol\": \"circle\"}, \"name\": \"Exponential growth rate in 1/day\", \"pointpos\": -1.5, \"type\": \"box\", \"visible\": false, \"y\": [0.05496538192445882, 0.054283048649214856, 0.054268430505623064, 0.05466201308503514, 0.054265050553798336, 0.05478982557520019, 0.05424633532635222, 0.05425388008012529, 0.054722039520234696, 0.05373540331880301]}, {\"boxpoints\": \"all\", \"jitter\": 0.2, \"line\": {\"color\": \"#00CC96\"}, \"marker\": {\"color\": \"#00CC96\", \"line\": {\"color\": \"black\", \"width\": 1}, \"opacity\": 0.7, \"symbol\": \"circle\"}, \"name\": \"Linear growth rate in cm^3/day\", \"pointpos\": -1.5, \"type\": \"box\", \"visible\": false, \"y\": [0.12655197388238595, 0.1287915165377748, 0.12881240821412163, 0.12683851068984903, 0.12881042946522425, 0.12679538796974657, 0.12878611567669385, 0.12881886661318967, 0.12675969342315335, 0.13099981813549488]}, {\"boxpoints\": \"all\", \"jitter\": 0.2, \"line\": {\"color\": \"#AB63FA\"}, \"marker\": {\"color\": \"#AB63FA\", \"line\": {\"color\": \"black\", \"width\": 1}, \"opacity\": 0.7, \"symbol\": \"circle\"}, \"name\": \"Score\", \"pointpos\": -1.5, \"type\": \"box\", \"visible\": false, \"y\": [0.04018510682817683, 0.040184705747427614, 0.04018529160831231, 0.04018206068259415, 0.04018554919471544, 0.04018130495471484, 0.04018467244507598, 0.04018453900200692, 0.04018205232635645, 0.0401862104745401]}, {\"boxpoints\": \"all\", \"jitter\": 0.2, \"line\": {\"color\": \"#636EFA\"}, \"marker\": {\"color\": \"#636EFA\", \"line\": {\"color\": \"black\", \"width\": 1}, \"opacity\": 0.7, \"symbol\": \"circle\"}, \"name\": \"Initial tumour volume in cm^3\", \"pointpos\": -1.5, \"type\": \"box\", \"visible\": false, \"y\": [0.0841766436002978, 0.0841766555835959, 0.08417666475144676, 0.08417659456311197, 0.08417662138412794, 0.08417664912140449, 0.08417664076105666, 0.08417665475265622, 0.08417666027962487, 0.08417664717740479]}, {\"boxpoints\": \"all\", \"jitter\": 0.2, \"line\": {\"color\": \"#EF553B\"}, \"marker\": {\"color\": \"#EF553B\", \"line\": {\"color\": \"black\", \"width\": 1}, \"opacity\": 0.7, \"symbol\": \"circle\"}, \"name\": \"Exponential growth rate in 1/day\", \"pointpos\": -1.5, \"type\": \"box\", \"visible\": false, \"y\": [0.05418268319274858, 0.054182681669008276, 0.05418267852621647, 0.05418269501684887, 0.05418268911549844, 0.05418268164929326, 0.054182684116769825, 0.05418268006824232, 0.05418267875473818, 0.05418268370202336]}, {\"boxpoints\": \"all\", \"jitter\": 0.2, \"line\": {\"color\": \"#00CC96\"}, \"marker\": {\"color\": \"#00CC96\", \"line\": {\"color\": \"black\", \"width\": 1}, \"opacity\": 0.7, \"symbol\": \"circle\"}, \"name\": \"Linear growth rate in cm^3/day\", \"pointpos\": -1.5, \"type\": \"box\", \"visible\": false, \"y\": [108.36536635780223, 108.36536333666444, 108.36535705232204, 108.36539003079363, 108.36537822931464, 108.3653632958086, 108.36536823353134, 108.36536012561112, 108.36535750834157, 108.36536736541649]}, {\"boxpoints\": \"all\", \"jitter\": 0.2, \"line\": {\"color\": \"#AB63FA\"}, \"marker\": {\"color\": \"#AB63FA\", \"line\": {\"color\": \"black\", \"width\": 1}, \"opacity\": 0.7, \"symbol\": \"circle\"}, \"name\": \"Score\", \"pointpos\": -1.5, \"type\": \"box\", \"visible\": false, \"y\": [0.1460431583366721, 0.1460431583366587, 0.14604315833664677, 0.14604315833666504, 0.14604315833673018, 0.14604315833666925, 0.14604315833672638, 0.146043158336714, 0.14604315833662973, 0.14604315833669596]}, {\"boxpoints\": \"all\", \"jitter\": 0.2, \"line\": {\"color\": \"#636EFA\"}, \"marker\": {\"color\": \"#636EFA\", \"line\": {\"color\": \"black\", \"width\": 1}, \"opacity\": 0.7, \"symbol\": \"circle\"}, \"name\": \"Initial tumour volume in cm^3\", \"pointpos\": -1.5, \"type\": \"box\", \"visible\": false, \"y\": [0.1328950238545739, 0.13327404297584827, 0.13327487621685685, 0.13289527850742222, 0.13327425707860205, 0.13327413168704552, 0.13327368144405008, 0.1332740963693574, 0.13327406503024272, 0.132895133671451]}, {\"boxpoints\": \"all\", \"jitter\": 0.2, \"line\": {\"color\": \"#EF553B\"}, \"marker\": {\"color\": \"#EF553B\", \"line\": {\"color\": \"black\", \"width\": 1}, \"opacity\": 0.7, \"symbol\": \"circle\"}, \"name\": \"Exponential growth rate in 1/day\", \"pointpos\": -1.5, \"type\": \"box\", \"visible\": false, \"y\": [0.19900644078813906, 0.1973597094066088, 0.19735865045279039, 0.19900613748028223, 0.19735944315855658, 0.19735957625931966, 0.1973601655407496, 0.19735960499001295, 0.19735964349078852, 0.19900629952146692]}, {\"boxpoints\": \"all\", \"jitter\": 0.2, \"line\": {\"color\": \"#00CC96\"}, \"marker\": {\"color\": \"#00CC96\", \"line\": {\"color\": \"black\", \"width\": 1}, \"opacity\": 0.7, \"symbol\": \"circle\"}, \"name\": \"Linear growth rate in cm^3/day\", \"pointpos\": -1.5, \"type\": \"box\", \"visible\": false, \"y\": [0.10827361866057054, 0.1085369166202275, 0.10853700863568906, 0.10827366210457767, 0.10853694346249626, 0.10853691515699895, 0.10853687487294877, 0.10853690236553552, 0.10853689820426926, 0.10827363170787499]}, {\"boxpoints\": \"all\", \"jitter\": 0.2, \"line\": {\"color\": \"#AB63FA\"}, \"marker\": {\"color\": \"#AB63FA\", \"line\": {\"color\": \"black\", \"width\": 1}, \"opacity\": 0.7, \"symbol\": \"circle\"}, \"name\": \"Score\", \"pointpos\": -1.5, \"type\": \"box\", \"visible\": false, \"y\": [0.25885804033559895, 0.258857346507351, 0.25885734651030434, 0.258858040336119, 0.2588573465074114, 0.2588573465075083, 0.2588573465078787, 0.25885734650758, 0.25885734650779246, 0.2588580403355476]}, {\"boxpoints\": \"all\", \"jitter\": 0.2, \"line\": {\"color\": \"#636EFA\"}, \"marker\": {\"color\": \"#636EFA\", \"line\": {\"color\": \"black\", \"width\": 1}, \"opacity\": 0.7, \"symbol\": \"circle\"}, \"name\": \"Initial tumour volume in cm^3\", \"pointpos\": -1.5, \"type\": \"box\", \"visible\": false, \"y\": [0.12380955318290432, 0.12380950103966697, 0.12332972305063546, 0.12332982228271855, 0.12380956898279728, 0.12390309627226889, 0.12380946449258576, 0.12380952597820687, 0.1238093899834464, 0.12380948586583526]}, {\"boxpoints\": \"all\", \"jitter\": 0.2, \"line\": {\"color\": \"#EF553B\"}, \"marker\": {\"color\": \"#EF553B\", \"line\": {\"color\": \"black\", \"width\": 1}, \"opacity\": 0.7, \"symbol\": \"circle\"}, \"name\": \"Exponential growth rate in 1/day\", \"pointpos\": -1.5, \"type\": \"box\", \"visible\": false, \"y\": [0.043031596668474434, 0.043031612398121886, 0.04352118525045186, 0.04352116101636632, 0.04303159136109812, 0.04299457902913199, 0.04303162405265811, 0.04303160413110073, 0.043031639417736134, 0.04303161406755695]}, {\"boxpoints\": \"all\", \"jitter\": 0.2, \"line\": {\"color\": \"#00CC96\"}, \"marker\": {\"color\": \"#00CC96\", \"line\": {\"color\": \"black\", \"width\": 1}, \"opacity\": 0.7, \"symbol\": \"circle\"}, \"name\": \"Linear growth rate in cm^3/day\", \"pointpos\": -1.5, \"type\": \"box\", \"visible\": false, \"y\": [0.07299522678029723, 0.0729952242858743, 0.07139560475172475, 0.07139562065576782, 0.07299522722307883, 0.0730118641071391, 0.07299522310330311, 0.07299522434666628, 0.07299520746686579, 0.07299521855736364]}, {\"boxpoints\": \"all\", \"jitter\": 0.2, \"line\": {\"color\": \"#AB63FA\"}, \"marker\": {\"color\": \"#AB63FA\", \"line\": {\"color\": \"black\", \"width\": 1}, \"opacity\": 0.7, \"symbol\": \"circle\"}, \"name\": \"Score\", \"pointpos\": -1.5, \"type\": \"box\", \"visible\": false, \"y\": [0.0029152929591462454, 0.0029152929591792047, 0.0029160191458859524, 0.0029160191458718885, 0.0029152929592806713, 0.0029154484570916234, 0.0029152929591683427, 0.002915292959216168, 0.002915292959341759, 0.0029152929591627075]}, {\"boxpoints\": \"all\", \"jitter\": 0.2, \"line\": {\"color\": \"#636EFA\"}, \"marker\": {\"color\": \"#636EFA\", \"line\": {\"color\": \"black\", \"width\": 1}, \"opacity\": 0.7, \"symbol\": \"circle\"}, \"name\": \"Initial tumour volume in cm^3\", \"pointpos\": -1.5, \"type\": \"box\", \"visible\": false, \"y\": [0.08704782247188275, 0.08704782262547404, 0.08701975084380342, 0.08704782158453918, 0.0871091462545371, 0.08709257573322222, 0.08704782324771403, 0.0870478367117227, 0.08710914891568275, 0.0871895339894276]}, {\"boxpoints\": \"all\", \"jitter\": 0.2, \"line\": {\"color\": \"#EF553B\"}, \"marker\": {\"color\": \"#EF553B\", \"line\": {\"color\": \"black\", \"width\": 1}, \"opacity\": 0.7, \"symbol\": \"circle\"}, \"name\": \"Exponential growth rate in 1/day\", \"pointpos\": -1.5, \"type\": \"box\", \"visible\": false, \"y\": [0.036172156987332386, 0.036172157210144856, 0.03618249851397363, 0.03617215720513877, 0.03611834497841441, 0.036158645788609924, 0.03617215932335323, 0.0361721536960612, 0.03611834459859223, 0.0360458040809005]}, {\"boxpoints\": \"all\", \"jitter\": 0.2, \"line\": {\"color\": \"#00CC96\"}, \"marker\": {\"color\": \"#00CC96\", \"line\": {\"color\": \"black\", \"width\": 1}, \"opacity\": 0.7, \"symbol\": \"circle\"}, \"name\": \"Linear growth rate in cm^3/day\", \"pointpos\": -1.5, \"type\": \"box\", \"visible\": false, \"y\": [0.19325840569564506, 0.19325840693709193, 0.1930539790928431, 0.19325840460365587, 0.1953475658117555, 0.19309529814485507, 0.19325841997035045, 0.19325841851230027, 0.19534756965569414, 0.19864981188307004]}, {\"boxpoints\": \"all\", \"jitter\": 0.2, \"line\": {\"color\": \"#AB63FA\"}, \"marker\": {\"color\": \"#AB63FA\", \"line\": {\"color\": \"black\", \"width\": 1}, \"opacity\": 0.7, \"symbol\": \"circle\"}, \"name\": \"Score\", \"pointpos\": -1.5, \"type\": \"box\", \"visible\": false, \"y\": [0.0023155933407800226, 0.002315593340781343, 0.002315613501561583, 0.0023155933407814247, 0.002315735235268487, 0.0023156834585473076, 0.0023155933407968477, 0.002315593340785314, 0.0023157352352718165, 0.002315751822892631]}],\n",
       "                        {\"autosize\": true, \"legend\": {\"x\": 1.05, \"xanchor\": \"left\", \"y\": 0.01, \"yanchor\": \"bottom\"}, \"template\": {\"data\": {\"bar\": [{\"error_x\": {\"color\": \"#2a3f5f\"}, \"error_y\": {\"color\": \"#2a3f5f\"}, \"marker\": {\"line\": {\"color\": \"white\", \"width\": 0.5}}, \"type\": \"bar\"}], \"barpolar\": [{\"marker\": {\"line\": {\"color\": \"white\", \"width\": 0.5}}, \"type\": \"barpolar\"}], \"carpet\": [{\"aaxis\": {\"endlinecolor\": \"#2a3f5f\", \"gridcolor\": \"#C8D4E3\", \"linecolor\": \"#C8D4E3\", \"minorgridcolor\": \"#C8D4E3\", \"startlinecolor\": \"#2a3f5f\"}, \"baxis\": {\"endlinecolor\": \"#2a3f5f\", \"gridcolor\": \"#C8D4E3\", \"linecolor\": \"#C8D4E3\", \"minorgridcolor\": \"#C8D4E3\", \"startlinecolor\": \"#2a3f5f\"}, \"type\": \"carpet\"}], \"choropleth\": [{\"colorbar\": {\"outlinewidth\": 0, \"ticks\": \"\"}, \"type\": \"choropleth\"}], \"contour\": [{\"colorbar\": {\"outlinewidth\": 0, \"ticks\": \"\"}, \"colorscale\": [[0.0, \"#0d0887\"], [0.1111111111111111, \"#46039f\"], [0.2222222222222222, \"#7201a8\"], [0.3333333333333333, \"#9c179e\"], [0.4444444444444444, \"#bd3786\"], [0.5555555555555556, \"#d8576b\"], [0.6666666666666666, \"#ed7953\"], [0.7777777777777778, \"#fb9f3a\"], [0.8888888888888888, \"#fdca26\"], [1.0, \"#f0f921\"]], \"type\": \"contour\"}], \"contourcarpet\": [{\"colorbar\": {\"outlinewidth\": 0, \"ticks\": \"\"}, \"type\": \"contourcarpet\"}], \"heatmap\": [{\"colorbar\": {\"outlinewidth\": 0, \"ticks\": \"\"}, \"colorscale\": [[0.0, \"#0d0887\"], [0.1111111111111111, \"#46039f\"], [0.2222222222222222, \"#7201a8\"], [0.3333333333333333, \"#9c179e\"], [0.4444444444444444, \"#bd3786\"], [0.5555555555555556, \"#d8576b\"], [0.6666666666666666, \"#ed7953\"], [0.7777777777777778, \"#fb9f3a\"], [0.8888888888888888, \"#fdca26\"], [1.0, \"#f0f921\"]], \"type\": \"heatmap\"}], \"heatmapgl\": [{\"colorbar\": {\"outlinewidth\": 0, \"ticks\": \"\"}, \"colorscale\": [[0.0, \"#0d0887\"], [0.1111111111111111, \"#46039f\"], [0.2222222222222222, \"#7201a8\"], [0.3333333333333333, \"#9c179e\"], [0.4444444444444444, \"#bd3786\"], [0.5555555555555556, \"#d8576b\"], [0.6666666666666666, \"#ed7953\"], [0.7777777777777778, \"#fb9f3a\"], [0.8888888888888888, \"#fdca26\"], [1.0, \"#f0f921\"]], \"type\": \"heatmapgl\"}], \"histogram\": [{\"marker\": {\"colorbar\": {\"outlinewidth\": 0, \"ticks\": \"\"}}, \"type\": \"histogram\"}], \"histogram2d\": [{\"colorbar\": {\"outlinewidth\": 0, \"ticks\": \"\"}, \"colorscale\": [[0.0, \"#0d0887\"], [0.1111111111111111, \"#46039f\"], [0.2222222222222222, \"#7201a8\"], [0.3333333333333333, \"#9c179e\"], [0.4444444444444444, \"#bd3786\"], [0.5555555555555556, \"#d8576b\"], [0.6666666666666666, \"#ed7953\"], [0.7777777777777778, \"#fb9f3a\"], [0.8888888888888888, \"#fdca26\"], [1.0, \"#f0f921\"]], \"type\": \"histogram2d\"}], \"histogram2dcontour\": [{\"colorbar\": {\"outlinewidth\": 0, \"ticks\": \"\"}, \"colorscale\": [[0.0, \"#0d0887\"], [0.1111111111111111, \"#46039f\"], [0.2222222222222222, \"#7201a8\"], [0.3333333333333333, \"#9c179e\"], [0.4444444444444444, \"#bd3786\"], [0.5555555555555556, \"#d8576b\"], [0.6666666666666666, \"#ed7953\"], [0.7777777777777778, \"#fb9f3a\"], [0.8888888888888888, \"#fdca26\"], [1.0, \"#f0f921\"]], \"type\": \"histogram2dcontour\"}], \"mesh3d\": [{\"colorbar\": {\"outlinewidth\": 0, \"ticks\": \"\"}, \"type\": \"mesh3d\"}], \"parcoords\": [{\"line\": {\"colorbar\": {\"outlinewidth\": 0, \"ticks\": \"\"}}, \"type\": \"parcoords\"}], \"pie\": [{\"automargin\": true, \"type\": \"pie\"}], \"scatter\": [{\"marker\": {\"colorbar\": {\"outlinewidth\": 0, \"ticks\": \"\"}}, \"type\": \"scatter\"}], \"scatter3d\": [{\"line\": {\"colorbar\": {\"outlinewidth\": 0, \"ticks\": \"\"}}, \"marker\": {\"colorbar\": {\"outlinewidth\": 0, \"ticks\": \"\"}}, \"type\": \"scatter3d\"}], \"scattercarpet\": [{\"marker\": {\"colorbar\": {\"outlinewidth\": 0, \"ticks\": \"\"}}, \"type\": \"scattercarpet\"}], \"scattergeo\": [{\"marker\": {\"colorbar\": {\"outlinewidth\": 0, \"ticks\": \"\"}}, \"type\": \"scattergeo\"}], \"scattergl\": [{\"marker\": {\"colorbar\": {\"outlinewidth\": 0, \"ticks\": \"\"}}, \"type\": \"scattergl\"}], \"scattermapbox\": [{\"marker\": {\"colorbar\": {\"outlinewidth\": 0, \"ticks\": \"\"}}, \"type\": \"scattermapbox\"}], \"scatterpolar\": [{\"marker\": {\"colorbar\": {\"outlinewidth\": 0, \"ticks\": \"\"}}, \"type\": \"scatterpolar\"}], \"scatterpolargl\": [{\"marker\": {\"colorbar\": {\"outlinewidth\": 0, \"ticks\": \"\"}}, \"type\": \"scatterpolargl\"}], \"scatterternary\": [{\"marker\": {\"colorbar\": {\"outlinewidth\": 0, \"ticks\": \"\"}}, \"type\": \"scatterternary\"}], \"surface\": [{\"colorbar\": {\"outlinewidth\": 0, \"ticks\": \"\"}, \"colorscale\": [[0.0, \"#0d0887\"], [0.1111111111111111, \"#46039f\"], [0.2222222222222222, \"#7201a8\"], [0.3333333333333333, \"#9c179e\"], [0.4444444444444444, \"#bd3786\"], [0.5555555555555556, \"#d8576b\"], [0.6666666666666666, \"#ed7953\"], [0.7777777777777778, \"#fb9f3a\"], [0.8888888888888888, \"#fdca26\"], [1.0, \"#f0f921\"]], \"type\": \"surface\"}], \"table\": [{\"cells\": {\"fill\": {\"color\": \"#EBF0F8\"}, \"line\": {\"color\": \"white\"}}, \"header\": {\"fill\": {\"color\": \"#C8D4E3\"}, \"line\": {\"color\": \"white\"}}, \"type\": \"table\"}]}, \"layout\": {\"annotationdefaults\": {\"arrowcolor\": \"#2a3f5f\", \"arrowhead\": 0, \"arrowwidth\": 1}, \"coloraxis\": {\"colorbar\": {\"outlinewidth\": 0, \"ticks\": \"\"}}, \"colorscale\": {\"diverging\": [[0, \"#8e0152\"], [0.1, \"#c51b7d\"], [0.2, \"#de77ae\"], [0.3, \"#f1b6da\"], [0.4, \"#fde0ef\"], [0.5, \"#f7f7f7\"], [0.6, \"#e6f5d0\"], [0.7, \"#b8e186\"], [0.8, \"#7fbc41\"], [0.9, \"#4d9221\"], [1, \"#276419\"]], \"sequential\": [[0.0, \"#0d0887\"], [0.1111111111111111, \"#46039f\"], [0.2222222222222222, \"#7201a8\"], [0.3333333333333333, \"#9c179e\"], [0.4444444444444444, \"#bd3786\"], [0.5555555555555556, \"#d8576b\"], [0.6666666666666666, \"#ed7953\"], [0.7777777777777778, \"#fb9f3a\"], [0.8888888888888888, \"#fdca26\"], [1.0, \"#f0f921\"]], \"sequentialminus\": [[0.0, \"#0d0887\"], [0.1111111111111111, \"#46039f\"], [0.2222222222222222, \"#7201a8\"], [0.3333333333333333, \"#9c179e\"], [0.4444444444444444, \"#bd3786\"], [0.5555555555555556, \"#d8576b\"], [0.6666666666666666, \"#ed7953\"], [0.7777777777777778, \"#fb9f3a\"], [0.8888888888888888, \"#fdca26\"], [1.0, \"#f0f921\"]]}, \"colorway\": [\"#636efa\", \"#EF553B\", \"#00cc96\", \"#ab63fa\", \"#FFA15A\", \"#19d3f3\", \"#FF6692\", \"#B6E880\", \"#FF97FF\", \"#FECB52\"], \"font\": {\"color\": \"#2a3f5f\"}, \"geo\": {\"bgcolor\": \"white\", \"lakecolor\": \"white\", \"landcolor\": \"white\", \"showlakes\": true, \"showland\": true, \"subunitcolor\": \"#C8D4E3\"}, \"hoverlabel\": {\"align\": \"left\"}, \"hovermode\": \"closest\", \"mapbox\": {\"style\": \"light\"}, \"paper_bgcolor\": \"white\", \"plot_bgcolor\": \"white\", \"polar\": {\"angularaxis\": {\"gridcolor\": \"#EBF0F8\", \"linecolor\": \"#EBF0F8\", \"ticks\": \"\"}, \"bgcolor\": \"white\", \"radialaxis\": {\"gridcolor\": \"#EBF0F8\", \"linecolor\": \"#EBF0F8\", \"ticks\": \"\"}}, \"scene\": {\"xaxis\": {\"backgroundcolor\": \"white\", \"gridcolor\": \"#DFE8F3\", \"gridwidth\": 2, \"linecolor\": \"#EBF0F8\", \"showbackground\": true, \"ticks\": \"\", \"zerolinecolor\": \"#EBF0F8\"}, \"yaxis\": {\"backgroundcolor\": \"white\", \"gridcolor\": \"#DFE8F3\", \"gridwidth\": 2, \"linecolor\": \"#EBF0F8\", \"showbackground\": true, \"ticks\": \"\", \"zerolinecolor\": \"#EBF0F8\"}, \"zaxis\": {\"backgroundcolor\": \"white\", \"gridcolor\": \"#DFE8F3\", \"gridwidth\": 2, \"linecolor\": \"#EBF0F8\", \"showbackground\": true, \"ticks\": \"\", \"zerolinecolor\": \"#EBF0F8\"}}, \"shapedefaults\": {\"line\": {\"color\": \"#2a3f5f\"}}, \"ternary\": {\"aaxis\": {\"gridcolor\": \"#DFE8F3\", \"linecolor\": \"#A2B1C6\", \"ticks\": \"\"}, \"baxis\": {\"gridcolor\": \"#DFE8F3\", \"linecolor\": \"#A2B1C6\", \"ticks\": \"\"}, \"bgcolor\": \"white\", \"caxis\": {\"gridcolor\": \"#DFE8F3\", \"linecolor\": \"#A2B1C6\", \"ticks\": \"\"}}, \"title\": {\"x\": 0.05}, \"xaxis\": {\"automargin\": true, \"gridcolor\": \"#EBF0F8\", \"linecolor\": \"#EBF0F8\", \"ticks\": \"\", \"title\": {\"standoff\": 15}, \"zerolinecolor\": \"#EBF0F8\", \"zerolinewidth\": 2}, \"yaxis\": {\"automargin\": true, \"gridcolor\": \"#EBF0F8\", \"linecolor\": \"#EBF0F8\", \"ticks\": \"\", \"title\": {\"standoff\": 15}, \"zerolinecolor\": \"#EBF0F8\", \"zerolinewidth\": 2}}}, \"updatemenus\": [{\"buttons\": [{\"args\": [{\"visible\": [true, true, true, true, false, false, false, false, false, false, false, false, false, false, false, false, false, false, false, false, false, false, false, false, false, false, false, false, false, false, false, false]}], \"label\": \"ID: 40\", \"method\": \"restyle\"}, {\"args\": [{\"visible\": [false, false, false, false, true, true, true, true, false, false, false, false, false, false, false, false, false, false, false, false, false, false, false, false, false, false, false, false, false, false, false, false]}], \"label\": \"ID: 94\", \"method\": \"restyle\"}, {\"args\": [{\"visible\": [false, false, false, false, false, false, false, false, true, true, true, true, false, false, false, false, false, false, false, false, false, false, false, false, false, false, false, false, false, false, false, false]}], \"label\": \"ID: 95\", \"method\": \"restyle\"}, {\"args\": [{\"visible\": [false, false, false, false, false, false, false, false, false, false, false, false, true, true, true, true, false, false, false, false, false, false, false, false, false, false, false, false, false, false, false, false]}], \"label\": \"ID: 136\", \"method\": \"restyle\"}, {\"args\": [{\"visible\": [false, false, false, false, false, false, false, false, false, false, false, false, false, false, false, false, true, true, true, true, false, false, false, false, false, false, false, false, false, false, false, false]}], \"label\": \"ID: 140\", \"method\": \"restyle\"}, {\"args\": [{\"visible\": [false, false, false, false, false, false, false, false, false, false, false, false, false, false, false, false, false, false, false, false, true, true, true, true, false, false, false, false, false, false, false, false]}], \"label\": \"ID: 155\", \"method\": \"restyle\"}, {\"args\": [{\"visible\": [false, false, false, false, false, false, false, false, false, false, false, false, false, false, false, false, false, false, false, false, false, false, false, false, true, true, true, true, false, false, false, false]}], \"label\": \"ID: 169\", \"method\": \"restyle\"}, {\"args\": [{\"visible\": [false, false, false, false, false, false, false, false, false, false, false, false, false, false, false, false, false, false, false, false, false, false, false, false, false, false, false, false, true, true, true, true]}], \"label\": \"ID: 170\", \"method\": \"restyle\"}], \"direction\": \"right\", \"pad\": {\"r\": 0, \"t\": -10}, \"showactive\": true, \"type\": \"buttons\", \"x\": 0.0, \"xanchor\": \"left\", \"y\": 1.1, \"yanchor\": \"top\"}]},\n",
       "                        {\"responsive\": true}\n",
       "                    ).then(function(){\n",
       "                            \n",
       "var gd = document.getElementById('390e073e-f3c6-4aee-a759-597bc9aebd11');\n",
       "var x = new MutationObserver(function (mutations, observer) {{\n",
       "        var display = window.getComputedStyle(gd).display;\n",
       "        if (!display || display === 'none') {{\n",
       "            console.log([gd, 'removed!']);\n",
       "            Plotly.purge(gd);\n",
       "            observer.disconnect();\n",
       "        }}\n",
       "}});\n",
       "\n",
       "// Listen for the removal of the full notebook cells\n",
       "var notebookContainer = gd.closest('#notebook-container');\n",
       "if (notebookContainer) {{\n",
       "    x.observe(notebookContainer, {childList: true});\n",
       "}}\n",
       "\n",
       "// Listen for the clearing of the current output cell\n",
       "var outputEl = gd.closest('.output');\n",
       "if (outputEl) {{\n",
       "    x.observe(outputEl, {childList: true});\n",
       "}}\n",
       "\n",
       "                        })\n",
       "                };\n",
       "                });\n",
       "            </script>\n",
       "        </div>"
      ]
     },
     "metadata": {},
     "output_type": "display_data"
    }
   ],
   "source": [
    "#\n",
    "# Visualisation of the spread of optimised model parameters for multiple runs from different initial points.\n",
    "#\n",
    "# This cell needs the above optimised initial parameter from psi_0=(1, 1, 1) and the five runs from a random initial starting point, and their respective objective function scores, as well as the data\n",
    "# [mouse_parameters_dimless_log_transformed_optimisation, mouse_scores_dimless_log_transformed, data]\n",
    "#\n",
    "\n",
    "import plotly.colors\n",
    "import plotly.graph_objects as go\n",
    "\n",
    "\n",
    "# Get mouse ids\n",
    "mouse_ids = data['#ID'].unique()\n",
    "\n",
    "# Get number of parameters + score (for visualisation)\n",
    "n_params = mouse_parameters_dimless_log_transformed_optimisation.shape[2] + 1\n",
    "\n",
    "# Define colorscheme\n",
    "colors = plotly.colors.qualitative.Plotly[:n_params]\n",
    "\n",
    "# Get optimised parameters\n",
    "optimised_parameters = mouse_parameters_dimless_log_transformed_optimisation\n",
    "\n",
    "# Get optimised parameters\n",
    "scores = mouse_scores_dimless_log_transformed\n",
    "\n",
    "# Create figure\n",
    "fig = go.Figure()\n",
    "\n",
    "# Box plot of optimised model parameters\n",
    "for index, id_m in enumerate(mouse_ids):\n",
    "    # Get optimised parameters\n",
    "    parameters = optimised_parameters[index, ...]\n",
    "\n",
    "    # Get scores\n",
    "    score = scores[index, :]\n",
    "\n",
    "    # Create box plot of for initial tumour volume\n",
    "    fig.add_trace(\n",
    "        go.Box(\n",
    "            y=parameters[:, 0],  \n",
    "            name=\"Initial tumour volume in cm^3\",\n",
    "            boxpoints='all',\n",
    "            jitter=0.2,\n",
    "            pointpos=-1.5,\n",
    "            visible=True if index == 0 else False,\n",
    "            marker=dict(\n",
    "                symbol='circle',\n",
    "                opacity=0.7,\n",
    "                line=dict(color='black', width=1)),\n",
    "            marker_color=colors[0],\n",
    "            line_color=colors[0]))\n",
    "\n",
    "    # Create box plot of for exponential tumour growth\n",
    "    fig.add_trace(\n",
    "        go.Box(\n",
    "            y=parameters[:, 1],  \n",
    "            name=\"Exponential growth rate in 1/day\",\n",
    "            boxpoints='all',\n",
    "            jitter=0.2,\n",
    "            pointpos=-1.5,\n",
    "            visible=True if index == 0 else False,\n",
    "            marker=dict(\n",
    "                symbol='circle',\n",
    "                opacity=0.7,\n",
    "                line=dict(color='black', width=1)),\n",
    "            marker_color=colors[1],\n",
    "            line_color=colors[1]))\n",
    "\n",
    "    # Create box plot of for linear tumour growth\n",
    "    fig.add_trace(\n",
    "        go.Box(\n",
    "            y=parameters[:, 2],  \n",
    "            name=\"Linear growth rate in cm^3/day\",\n",
    "            boxpoints='all',\n",
    "            jitter=0.2,\n",
    "            pointpos=-1.5,\n",
    "            visible=True if index == 0 else False,\n",
    "            marker=dict(\n",
    "                symbol='circle',\n",
    "                opacity=0.7,\n",
    "                line=dict(color='black', width=1)),\n",
    "            marker_color=colors[2],\n",
    "            line_color=colors[2]))\n",
    "    \n",
    "    # Create box plot of for objective function score\n",
    "    fig.add_trace(\n",
    "        go.Box(\n",
    "            y=score,  \n",
    "            name=\"Score\",\n",
    "            boxpoints='all',\n",
    "            jitter=0.2,\n",
    "            pointpos=-1.5,\n",
    "            visible=True if index == 0 else False,\n",
    "            marker=dict(\n",
    "                symbol='circle',\n",
    "                opacity=0.7,\n",
    "                line=dict(color='black', width=1)),\n",
    "            marker_color=colors[3],\n",
    "            line_color=colors[3]))\n",
    "\n",
    "# Set figure size\n",
    "fig.update_layout(\n",
    "    autosize=True,\n",
    "    template=\"plotly_white\")\n",
    "\n",
    "# Add switch between mice\n",
    "fig.update_layout(\n",
    "    updatemenus=[\n",
    "        dict(\n",
    "            type = \"buttons\",\n",
    "            direction = \"right\",\n",
    "            buttons=list([\n",
    "                dict(\n",
    "                    args=[{\"visible\": [True]*4 + [False]*(4 * 7)}],\n",
    "                    label=\"ID: %d\" % mouse_ids[0],\n",
    "                    method=\"restyle\"\n",
    "                ),\n",
    "                dict(\n",
    "                    args=[{\"visible\": [False]*4 + [True]*4 + [False]*(4 * 6)}],\n",
    "                    label=\"ID: %d\" % mouse_ids[1],\n",
    "                    method=\"restyle\"\n",
    "                ),\n",
    "                dict(\n",
    "                    args=[{\"visible\": [False]*(4 * 2) + [True]*4 + [False]*(4 * 5)}],\n",
    "                    label=\"ID: %d\" % mouse_ids[2],\n",
    "                    method=\"restyle\"\n",
    "                ),\n",
    "                dict(\n",
    "                    args=[{\"visible\": [False]*(4 * 3) + [True]*4 + [False]*(4 * 4)}],\n",
    "                    label=\"ID: %d\" % mouse_ids[3],\n",
    "                    method=\"restyle\"\n",
    "                ),\n",
    "                dict(\n",
    "                    args=[{\"visible\": [False]*(4 * 4) + [True]*4 + [False]*(4 * 3)}],\n",
    "                    label=\"ID: %d\" % mouse_ids[4],\n",
    "                    method=\"restyle\"\n",
    "                ),\n",
    "                dict(\n",
    "                    args=[{\"visible\": [False]*(4 * 5) + [True]*4 + [False]*(4 * 2)}],\n",
    "                    label=\"ID: %d\" % mouse_ids[5],\n",
    "                    method=\"restyle\"\n",
    "                ),\n",
    "                dict(\n",
    "                    args=[{\"visible\": [False]*(4 * 6) + [True]*4 + [False]* 4}],\n",
    "                    label=\"ID: %d\" % mouse_ids[6],\n",
    "                    method=\"restyle\"\n",
    "                ),\n",
    "                dict(\n",
    "                    args=[{\"visible\": [False]*(4 * 7) + [True]*4}],\n",
    "                    label=\"ID: %d\" % mouse_ids[7],\n",
    "                    method=\"restyle\"\n",
    "                )\n",
    "            ]),\n",
    "            pad={\"r\": 0, \"t\": -10},\n",
    "            showactive=True,\n",
    "            x=0.0,\n",
    "            xanchor=\"left\",\n",
    "            y=1.1,\n",
    "            yanchor=\"top\"\n",
    "        )\n",
    "    ]\n",
    ")\n",
    "\n",
    "# Position legend\n",
    "fig.update_layout(legend=dict(\n",
    "    yanchor=\"bottom\",\n",
    "    y=0.01,\n",
    "    xanchor=\"left\",\n",
    "    x=1.05))\n",
    "\n",
    "# Show figure\n",
    "fig.show()\n"
   ]
  },
  {
   "cell_type": "markdown",
   "metadata": {},
   "source": [
    "**Figure 7:**"
   ]
  },
  {
   "cell_type": "markdown",
   "metadata": {},
   "source": [
    "A linear growth of 100 cm^3/day does not seem feasible. It looks more like an artefact of the model. An extremely large linear growth rate keeps the model in the exponential growth phase for longer."
   ]
  },
  {
   "cell_type": "markdown",
   "metadata": {},
   "source": [
    "## Ultimate identifiability test\n",
    "\n",
    "We now have a good idea for reasonable parameter values $\\psi $ for all mice. The ultimate identifiability test is now to simulate data with the inferred parameters and check whether we can recover the exact same parameters."
   ]
  },
  {
   "cell_type": "code",
   "execution_count": 20,
   "metadata": {
    "tags": []
   },
   "outputs": [],
   "source": [
    "#\n",
    "# Simulate \"noise-free\" data for with median of inferred model parameters. \n",
    "#\n",
    "# This cell needs the above inferred model parameters, and the above defined model.\n",
    "# [mouse_parameters_dimless_log_transformed_optimisation, PintsModel]\n",
    "#\n",
    "\n",
    "import os\n",
    "\n",
    "import numpy as np\n",
    "import pandas as pd\n",
    "\n",
    "\n",
    "# Import data\n",
    "# Get path of current working directory\n",
    "path = os.getcwd()\n",
    "\n",
    "# Import LXF A677 control growth data\n",
    "data = pd.read_csv(path + '/data/lxf_control_growth.csv')\n",
    "\n",
    "# Get mouse IDs and times\n",
    "mouse_ids_and_times = data[['#ID', 'TIME in day']]\n",
    "\n",
    "# Get median parameters for each mouse\n",
    "median_parameters = np.median(mouse_parameters_dimless_log_transformed_optimisation, axis=1)\n",
    "\n",
    "# Instantiate model\n",
    "model = PintsModel()\n",
    "\n",
    "# Create container for simulated synthesised data\n",
    "simulated_data = []\n",
    "\n",
    "# Simulate \"noise-free\" data\n",
    "mouse_ids = mouse_ids_and_times['#ID'].unique()\n",
    "for index, mouse_id in enumerate(mouse_ids):\n",
    "    # Create mask for mouse\n",
    "    mask = mouse_ids_and_times['#ID'] == mouse_id\n",
    "\n",
    "    # Get times\n",
    "    times = mouse_ids_and_times[mask]['TIME in day'].to_numpy()\n",
    "\n",
    "    # Get parameters\n",
    "    parameters = median_parameters[index, :]\n",
    "\n",
    "    # Simulate data\n",
    "    simulated_volumes = model.simulate(parameters, times)\n",
    "\n",
    "    # Save dataframe\n",
    "    df = pd.DataFrame({\n",
    "        '#ID': mouse_ids_and_times[mask]['#ID'],\n",
    "        'TIME in day': mouse_ids_and_times[mask]['TIME in day'],\n",
    "        'SIMULATED TUMOUR VOLUME in cm^3': simulated_volumes})\n",
    "    simulated_data.append(df)\n",
    "\n",
    "# Merge mouse dataframes to one dataframe\n",
    "simulated_data = pd.concat(simulated_data)\n"
   ]
  },
  {
   "cell_type": "code",
   "execution_count": 24,
   "metadata": {},
   "outputs": [],
   "source": [
    "#\n",
    "# Run optimisation multiple times from random initial starting points.\n",
    "#\n",
    "# This cell needs the above defined wrapped myokit model and the simulated data:\n",
    "# [DimensionlessLogTransformedPintsModel, simulated_data]\n",
    "#\n",
    "\n",
    "import myokit\n",
    "import numpy as np\n",
    "import pandas as pd\n",
    "import pints\n",
    "\n",
    "\n",
    "# Define characteristic scales\n",
    "characteristic_volume = 1  # in cm^3\n",
    "characteristic_time = 1  # in day\n",
    "\n",
    "# Define number of optimisation runs for each individual\n",
    "n_runs = 10\n",
    "\n",
    "# Get number of mice\n",
    "n_mice = len(simulated_data['#ID'].unique())\n",
    "\n",
    "# Define container for the structural model estimates\n",
    "# Shape (n_mice, n_runs, n_parameters)\n",
    "n_parameters = 3\n",
    "recovered_parameters = np.empty(shape=(n_mice, n_runs, n_parameters))\n",
    "\n",
    "# Define container for the objective function score for the optimised parameters\n",
    "recovered_parameters_scores = np.empty(shape=(n_mice, n_runs))\n",
    "\n",
    "# Define random starting points over many orders of magnitude\n",
    "# Shape = (n_runs, n_parameters)\n",
    "initial_parameters = np.random.uniform(low=1E-3, high=1E3, size=(n_runs, n_parameters))\n",
    "\n",
    "# Find mouse parameters for LXF A677 population\n",
    "mouse_ids = simulated_data['#ID'].unique()\n",
    "for index, mouse_id in enumerate(mouse_ids):\n",
    "    # Create mask for mouse with specfied ID\n",
    "    mouse_mask = simulated_data['#ID'] == mouse_id\n",
    "\n",
    "    # Get relevant time points\n",
    "    times = simulated_data[mouse_mask]['TIME in day'].to_numpy() / characteristic_time\n",
    "\n",
    "    # Get measured tumour volumes\n",
    "    observed_volumes = simulated_data[mouse_mask]['SIMULATED TUMOUR VOLUME in cm^3'].to_numpy() / characteristic_volume\n",
    "\n",
    "    # Create inverse problem\n",
    "    problem = pints.SingleOutputProblem(DimensionlessLogTransformedPintsModel(), times, observed_volumes)\n",
    "\n",
    "    # Create sum of squares error objective function\n",
    "    error = pints.SumOfSquaresError(problem)\n",
    "\n",
    "    # Create boundaries to biologically relevant values\n",
    "    boundary = pints.RectangularBoundaries(lower=np.log([1E-3]*3), upper=np.log([1E3]*3))\n",
    "\n",
    "    # Run optimisation multiple times\n",
    "    for run_id, initial_params in enumerate(initial_parameters):\n",
    "        # Transform parameters to log-scale\n",
    "        log_initial_params = np.log(initial_params)\n",
    "\n",
    "        # Create optimisation controller with a CMA-ES optimiser\n",
    "        optimiser = pints.OptimisationController(\n",
    "            function=error,\n",
    "            x0=log_initial_params,\n",
    "            boundaries=boundary,\n",
    "            method=pints.CMAES)\n",
    "\n",
    "        # Disable logging mode\n",
    "        optimiser.set_log_to_screen(False)\n",
    "\n",
    "        # Parallelise optimisation\n",
    "        optimiser.set_parallel(True)\n",
    "\n",
    "        # Find optimal parameters\n",
    "        try:\n",
    "            estimates, score = optimiser.run()\n",
    "        except:\n",
    "            # If inference breaks fill estimates with nan\n",
    "            estimates = np.array([np.nan, np.nan, np.nan])\n",
    "            score = np.nan\n",
    "\n",
    "        # Save estimates and score (back transformed to linear scale)\n",
    "        recovered_parameters[index, run_id, :] = np.exp(estimates)\n",
    "        recovered_parameters_scores[index, run_id] = score"
   ]
  },
  {
   "cell_type": "code",
   "execution_count": 25,
   "metadata": {},
   "outputs": [],
   "source": [
    "#\n",
    "# Transform dimensionless parameters back to biological parameters.\n",
    "# \n",
    "# This cell needs the above inferred dimensionless parameters and the characteristic volume and time scale:\n",
    "# [recovered_parameters, characteristic_volume, characteristic_time]\n",
    "#\n",
    "\n",
    "import numpy as np\n",
    "\n",
    "\n",
    "# Initialise container for backtransformed paramters\n",
    "# Shape (n_mice, n_runs, n_parameters)\n",
    "recovered_parameters_transformed = np.empty(shape=recovered_parameters.shape)\n",
    "\n",
    "# Transform initial volumes\n",
    "recovered_parameters_transformed[:, :, 0] = recovered_parameters[:, :, 0] * characteristic_volume\n",
    "\n",
    "# Transform exponential growth rate\n",
    "# lambda_0 = a_1 / a_0 /t^c\n",
    "recovered_parameters_transformed[:, :, 1] = \\\n",
    "    recovered_parameters[:, :, 2] / 2 / recovered_parameters[:, :, 1] / characteristic_time\n",
    "\n",
    "# Transform linear growth rate\n",
    "# lambda_1 = a_1 / a_0 /t^c\n",
    "recovered_parameters_transformed[:, :, 2] = \\\n",
    "    recovered_parameters[:, :, 2] * characteristic_volume / characteristic_time\n"
   ]
  },
  {
   "cell_type": "code",
   "execution_count": 26,
   "metadata": {},
   "outputs": [
    {
     "data": {
      "application/vnd.plotly.v1+json": {
       "config": {
        "plotlyServerURL": "https://plot.ly"
       },
       "data": [
        {
         "boxpoints": "all",
         "jitter": 0.2,
         "line": {
          "color": "#636EFA"
         },
         "marker": {
          "color": "#636EFA",
          "line": {
           "color": "black",
           "width": 1
          },
          "opacity": 0.7,
          "symbol": "circle"
         },
         "name": "Initial tumour volume in cm^3",
         "pointpos": -1.5,
         "type": "box",
         "visible": true,
         "y": [
          0.13961516233473997,
          0.13961518492172578,
          0.13961520248151962,
          0.13964469320354414,
          0.13961517162157938,
          0.1396125885964337,
          0.13954253124001023,
          0.1396151603504244,
          0.13961519435743724,
          0.1396152080443933
         ]
        },
        {
         "boxpoints": "all",
         "jitter": 0.2,
         "line": {
          "color": "#EF553B"
         },
         "marker": {
          "color": "#EF553B",
          "line": {
           "color": "black",
           "width": 1
          },
          "opacity": 0.7,
          "symbol": "circle"
         },
         "name": "Exponential growth rate in 1/day",
         "pointpos": -1.5,
         "type": "box",
         "visible": true,
         "y": [
          0.27514260290119036,
          0.27514256312060603,
          0.27514253639065794,
          0.27474974913732286,
          0.27514258494348715,
          0.275153982589139,
          0.2755059048184821,
          0.2751426064039479,
          0.27514254522648574,
          0.27514252224659164
         ]
        },
        {
         "boxpoints": "all",
         "jitter": 0.2,
         "line": {
          "color": "#00CC96"
         },
         "marker": {
          "color": "#00CC96",
          "line": {
           "color": "black",
           "width": 1
          },
          "opacity": 0.7,
          "symbol": "circle"
         },
         "name": "Linear growth rate in cm^3/day",
         "pointpos": -1.5,
         "type": "box",
         "visible": true,
         "y": [
          0.13088963557236474,
          0.1308896374309398,
          0.13088964097281505,
          0.1309895670466508,
          0.13088963555173386,
          0.13088827868034872,
          0.13084464419662592,
          0.13088963519531258,
          0.13088963757644592,
          0.1308896394342268
         ]
        },
        {
         "boxpoints": "all",
         "jitter": 0.2,
         "line": {
          "color": "#AB63FA"
         },
         "marker": {
          "color": "#AB63FA",
          "line": {
           "color": "black",
           "width": 1
          },
          "opacity": 0.7,
          "symbol": "circle"
         },
         "name": "Score",
         "pointpos": -1.5,
         "type": "box",
         "visible": true,
         "y": [
          1.1859706982200828e-8,
          1.1859704626480632e-8,
          1.1859714758739927e-8,
          4.637463199390404e-9,
          1.1859704837788615e-8,
          1.2055353774485822e-8,
          3.2608167323635924e-8,
          1.185970238356352e-8,
          1.1859703788370919e-8,
          1.1859711271287577e-8
         ]
        },
        {
         "boxpoints": "all",
         "jitter": 0.2,
         "line": {
          "color": "#636EFA"
         },
         "marker": {
          "color": "#636EFA",
          "line": {
           "color": "black",
           "width": 1
          },
          "opacity": 0.7,
          "symbol": "circle"
         },
         "name": "Initial tumour volume in cm^3",
         "pointpos": -1.5,
         "type": "box",
         "visible": false,
         "y": [
          0.07467445135898927,
          0.07471092799645968,
          0.0746744513589901,
          0.07474032675704667,
          0.07467445135911088,
          0.07467445135897359,
          0.07467445135899034,
          0.07467445135898579,
          0.07467445135899163,
          0.07467445135899056
         ]
        },
        {
         "boxpoints": "all",
         "jitter": 0.2,
         "line": {
          "color": "#EF553B"
         },
         "marker": {
          "color": "#EF553B",
          "line": {
           "color": "black",
           "width": 1
          },
          "opacity": 0.7,
          "symbol": "circle"
         },
         "name": "Exponential growth rate in 1/day",
         "pointpos": -1.5,
         "type": "box",
         "visible": false,
         "y": [
          0.16648157186955947,
          0.16634374885819223,
          0.16648157186950793,
          0.16548523197438947,
          0.16648157186768808,
          0.16648157186978024,
          0.16648157186952148,
          0.1664815718695637,
          0.16648157186950663,
          0.16648157186951215
         ]
        },
        {
         "boxpoints": "all",
         "jitter": 0.2,
         "line": {
          "color": "#00CC96"
         },
         "marker": {
          "color": "#00CC96",
          "line": {
           "color": "black",
           "width": 1
          },
          "opacity": 0.7,
          "symbol": "circle"
         },
         "name": "Linear growth rate in cm^3/day",
         "pointpos": -1.5,
         "type": "box",
         "visible": false,
         "y": [
          0.0203549663831615,
          0.02034985209049468,
          0.02035496638316331,
          0.02038123798659614,
          0.020354966383226186,
          0.02035496638315523,
          0.020354966383162632,
          0.02035496638316179,
          0.02035496638316314,
          0.02035496638316302
         ]
        },
        {
         "boxpoints": "all",
         "jitter": 0.2,
         "line": {
          "color": "#AB63FA"
         },
         "marker": {
          "color": "#AB63FA",
          "line": {
           "color": "black",
           "width": 1
          },
          "opacity": 0.7,
          "symbol": "circle"
         },
         "name": "Score",
         "pointpos": -1.5,
         "type": "box",
         "visible": false,
         "y": [
          1.4374775178216895e-28,
          1.1140295436830122e-8,
          9.74867219249931e-30,
          1.3671968027566876e-8,
          2.344470653674269e-25,
          2.1548914295237902e-27,
          8.685366270203118e-30,
          1.409921312177397e-28,
          1.3335138934937221e-30,
          3.632689061103204e-30
         ]
        },
        {
         "boxpoints": "all",
         "jitter": 0.2,
         "line": {
          "color": "#636EFA"
         },
         "marker": {
          "color": "#636EFA",
          "line": {
           "color": "black",
           "width": 1
          },
          "opacity": 0.7,
          "symbol": "circle"
         },
         "name": "Initial tumour volume in cm^3",
         "pointpos": -1.5,
         "type": "box",
         "visible": false,
         "y": [
          0.22088761939162777,
          0.22089128337273017,
          0.22089086619452483,
          0.22089078343303994,
          0.2208908465303827,
          0.22089134844025154,
          0.22089218375747066,
          0.22089067916452823,
          0.22089090183753818,
          0.22089057640907064
         ]
        },
        {
         "boxpoints": "all",
         "jitter": 0.2,
         "line": {
          "color": "#EF553B"
         },
         "marker": {
          "color": "#EF553B",
          "line": {
           "color": "black",
           "width": 1
          },
          "opacity": 0.7,
          "symbol": "circle"
         },
         "name": "Exponential growth rate in 1/day",
         "pointpos": -1.5,
         "type": "box",
         "visible": false,
         "y": [
          0.0555980398408789,
          0.055596954747088666,
          0.05559699598514412,
          0.05559701511867691,
          0.0555969735182316,
          0.05559689448067573,
          0.05559655894213884,
          0.05559721516290301,
          0.05559696193586649,
          0.05559709251259703
         ]
        },
        {
         "boxpoints": "all",
         "jitter": 0.2,
         "line": {
          "color": "#00CC96"
         },
         "marker": {
          "color": "#00CC96",
          "line": {
           "color": "black",
           "width": 1
          },
          "opacity": 0.7,
          "symbol": "circle"
         },
         "name": "Linear growth rate in cm^3/day",
         "pointpos": -1.5,
         "type": "box",
         "visible": false,
         "y": [
          102.87174663480401,
          104.30011119071082,
          104.3160901050692,
          104.26726435406798,
          104.32639006580247,
          104.39170495805573,
          104.90141528622347,
          103.82337555014061,
          104.34030754708459,
          104.16401303014962
         ]
        },
        {
         "boxpoints": "all",
         "jitter": 0.2,
         "line": {
          "color": "#AB63FA"
         },
         "marker": {
          "color": "#AB63FA",
          "line": {
           "color": "black",
           "width": 1
          },
          "opacity": 0.7,
          "symbol": "circle"
         },
         "name": "Score",
         "pointpos": -1.5,
         "type": "box",
         "visible": false,
         "y": [
          2.058818695885026e-9,
          1.378442753659529e-9,
          1.36871613149886e-9,
          1.3856510497758828e-9,
          1.3608428000467693e-9,
          1.3342552020350322e-9,
          1.1292970561059872e-9,
          1.590674590432995e-9,
          1.354719426921892e-9,
          1.4313270089462852e-9
         ]
        },
        {
         "boxpoints": "all",
         "jitter": 0.2,
         "line": {
          "color": "#636EFA"
         },
         "marker": {
          "color": "#636EFA",
          "line": {
           "color": "black",
           "width": 1
          },
          "opacity": 0.7,
          "symbol": "circle"
         },
         "name": "Initial tumour volume in cm^3",
         "pointpos": -1.5,
         "type": "box",
         "visible": false,
         "y": [
          0.14895068010822976,
          0.14895068009462897,
          0.14895067843653703,
          0.1489506801310463,
          0.14895067827189348,
          0.14895068012532506,
          0.14895068209474774,
          0.14895067832187137,
          0.1489506784933573,
          0.1489506782767016
         ]
        },
        {
         "boxpoints": "all",
         "jitter": 0.2,
         "line": {
          "color": "#EF553B"
         },
         "marker": {
          "color": "#EF553B",
          "line": {
           "color": "black",
           "width": 1
          },
          "opacity": 0.7,
          "symbol": "circle"
         },
         "name": "Exponential growth rate in 1/day",
         "pointpos": -1.5,
         "type": "box",
         "visible": false,
         "y": [
          0.054248486286652825,
          0.05424848615983237,
          0.0542484870302166,
          0.05424848608460255,
          0.05424848727974356,
          0.054248486441355846,
          0.05424848558345453,
          0.05424848696782019,
          0.0542484869991864,
          0.054248487293629424
         ]
        },
        {
         "boxpoints": "all",
         "jitter": 0.2,
         "line": {
          "color": "#00CC96"
         },
         "marker": {
          "color": "#00CC96",
          "line": {
           "color": "black",
           "width": 1
          },
          "opacity": 0.7,
          "symbol": "circle"
         },
         "name": "Linear growth rate in cm^3/day",
         "pointpos": -1.5,
         "type": "box",
         "visible": false,
         "y": [
          0.12905803376432365,
          0.12905803461998416,
          0.12905803170806462,
          0.12905803490460402,
          0.12905803089194462,
          0.12905803301501179,
          0.1290580349056926,
          0.12905803206529742,
          0.12905803167839078,
          0.12905803032030702
         ]
        },
        {
         "boxpoints": "all",
         "jitter": 0.2,
         "line": {
          "color": "#AB63FA"
         },
         "marker": {
          "color": "#AB63FA",
          "line": {
           "color": "black",
           "width": 1
          },
          "opacity": 0.7,
          "symbol": "circle"
         },
         "name": "Score",
         "pointpos": -1.5,
         "type": "box",
         "visible": false,
         "y": [
          3.813525066233808e-8,
          3.8135250545960596e-8,
          3.813525065132413e-8,
          3.8135250659490334e-8,
          3.813525067352806e-8,
          3.8135250555661194e-8,
          3.813525062370248e-8,
          3.813525064996304e-8,
          3.8135250650920935e-8,
          3.813525065599096e-8
         ]
        },
        {
         "boxpoints": "all",
         "jitter": 0.2,
         "line": {
          "color": "#636EFA"
         },
         "marker": {
          "color": "#636EFA",
          "line": {
           "color": "black",
           "width": 1
          },
          "opacity": 0.7,
          "symbol": "circle"
         },
         "name": "Initial tumour volume in cm^3",
         "pointpos": -1.5,
         "type": "box",
         "visible": false,
         "y": [
          0.08416732622565821,
          0.0841676226276983,
          0.08416635935287753,
          0.08416575957397009,
          0.08416662301135375,
          0.08416726314227625,
          0.08416569007955703,
          0.08416661668677913,
          0.08416699054399218,
          0.08416631674798652
         ]
        },
        {
         "boxpoints": "all",
         "jitter": 0.2,
         "line": {
          "color": "#EF553B"
         },
         "marker": {
          "color": "#EF553B",
          "line": {
           "color": "black",
           "width": 1
          },
          "opacity": 0.7,
          "symbol": "circle"
         },
         "name": "Exponential growth rate in 1/day",
         "pointpos": -1.5,
         "type": "box",
         "visible": false,
         "y": [
          0.05418676973163373,
          0.05418661886527469,
          0.054187184913259884,
          0.054187380108485686,
          0.054187094850121166,
          0.05418680083718048,
          0.05418745974408474,
          0.054187110464519524,
          0.054186902659383855,
          0.05418724292102794
         ]
        },
        {
         "boxpoints": "all",
         "jitter": 0.2,
         "line": {
          "color": "#00CC96"
         },
         "marker": {
          "color": "#00CC96",
          "line": {
           "color": "black",
           "width": 1
          },
          "opacity": 0.7,
          "symbol": "circle"
         },
         "name": "Linear growth rate in cm^3/day",
         "pointpos": -1.5,
         "type": "box",
         "visible": false,
         "y": [
          101.43849531179595,
          101.72769296518297,
          100.81920078572666,
          100.60673509715257,
          100.92445927734755,
          101.40107923160772,
          100.3879580330307,
          100.8761708282693,
          101.26173197226223,
          100.65158603161827
         ]
        },
        {
         "boxpoints": "all",
         "jitter": 0.2,
         "line": {
          "color": "#AB63FA"
         },
         "marker": {
          "color": "#AB63FA",
          "line": {
           "color": "black",
           "width": 1
          },
          "opacity": 0.7,
          "symbol": "circle"
         },
         "name": "Score",
         "pointpos": -1.5,
         "type": "box",
         "visible": false,
         "y": [
          1.581744091580363e-9,
          1.4453232897228545e-9,
          1.9016793697452837e-9,
          2.023051920483536e-9,
          1.8456854416961328e-9,
          1.6007590920179427e-9,
          2.14300130686728e-9,
          1.8714332736438107e-9,
          1.6697477813469058e-9,
          1.9932946572531643e-9
         ]
        },
        {
         "boxpoints": "all",
         "jitter": 0.2,
         "line": {
          "color": "#636EFA"
         },
         "marker": {
          "color": "#636EFA",
          "line": {
           "color": "black",
           "width": 1
          },
          "opacity": 0.7,
          "symbol": "circle"
         },
         "name": "Initial tumour volume in cm^3",
         "pointpos": -1.5,
         "type": "box",
         "visible": false,
         "y": [
          0.1333107914725385,
          0.13327405400303735,
          0.13331079191590778,
          0.13331079158031894,
          0.13331078995800535,
          0.13331079181682792,
          0.13331079341185606,
          0.13331079166983256,
          0.13331079000246834,
          0.133310793346137
         ]
        },
        {
         "boxpoints": "all",
         "jitter": 0.2,
         "line": {
          "color": "#EF553B"
         },
         "marker": {
          "color": "#EF553B",
          "line": {
           "color": "black",
           "width": 1
          },
          "opacity": 0.7,
          "symbol": "circle"
         },
         "name": "Exponential growth rate in 1/day",
         "pointpos": -1.5,
         "type": "box",
         "visible": false,
         "y": [
          0.19708265868588806,
          0.19735967644869937,
          0.19708265841152017,
          0.19708266075352987,
          0.19708266221143056,
          0.19708265794322302,
          0.19708265629081,
          0.19708266202655084,
          0.19708266200611424,
          0.19708265641648243
         ]
        },
        {
         "boxpoints": "all",
         "jitter": 0.2,
         "line": {
          "color": "#00CC96"
         },
         "marker": {
          "color": "#00CC96",
          "line": {
           "color": "black",
           "width": 1
          },
          "opacity": 0.7,
          "symbol": "circle"
         },
         "name": "Linear growth rate in cm^3/day",
         "pointpos": -1.5,
         "type": "box",
         "visible": false,
         "y": [
          0.10854331125369325,
          0.1085369002849056,
          0.10854331113229523,
          0.10854331060563535,
          0.10854331057202463,
          0.10854331124032601,
          0.10854331129418408,
          0.10854331027012727,
          0.10854331056572243,
          0.10854331127591692
         ]
        },
        {
         "boxpoints": "all",
         "jitter": 0.2,
         "line": {
          "color": "#AB63FA"
         },
         "marker": {
          "color": "#AB63FA",
          "line": {
           "color": "black",
           "width": 1
          },
          "opacity": 0.7,
          "symbol": "circle"
         },
         "name": "Score",
         "pointpos": -1.5,
         "type": "box",
         "visible": false,
         "y": [
          1.0637112311785615e-8,
          1.6029414778777856e-27,
          1.0637112292408544e-8,
          1.063711229435922e-8,
          1.0637112314280763e-8,
          1.0637112296332613e-8,
          1.0637112372608428e-8,
          1.0637112306244033e-8,
          1.063711231792856e-8,
          1.0637112372531652e-8
         ]
        },
        {
         "boxpoints": "all",
         "jitter": 0.2,
         "line": {
          "color": "#636EFA"
         },
         "marker": {
          "color": "#636EFA",
          "line": {
           "color": "black",
           "width": 1
          },
          "opacity": 0.7,
          "symbol": "circle"
         },
         "name": "Initial tumour volume in cm^3",
         "pointpos": -1.5,
         "type": "box",
         "visible": false,
         "y": [
          0.12380949345349215,
          0.12377473355326099,
          0.12380949345348352,
          0.12380949345348848,
          0.12380949345282852,
          0.12380949345279893,
          0.12380949345289505,
          0.12380949345350953,
          0.12380949345352234,
          0.1238094934532278
         ]
        },
        {
         "boxpoints": "all",
         "jitter": 0.2,
         "line": {
          "color": "#EF553B"
         },
         "marker": {
          "color": "#EF553B",
          "line": {
           "color": "black",
           "width": 1
          },
          "opacity": 0.7,
          "symbol": "circle"
         },
         "name": "Exponential growth rate in 1/day",
         "pointpos": -1.5,
         "type": "box",
         "visible": false,
         "y": [
          0.04303161323184579,
          0.04304985268538408,
          0.04303161323184798,
          0.043031613231843104,
          0.04303161323316706,
          0.0430316132327544,
          0.043031613232799526,
          0.04303161323186222,
          0.04303161323181902,
          0.04303161323225137
         ]
        },
        {
         "boxpoints": "all",
         "jitter": 0.2,
         "line": {
          "color": "#00CC96"
         },
         "marker": {
          "color": "#00CC96",
          "line": {
           "color": "black",
           "width": 1
          },
          "opacity": 0.7,
          "symbol": "circle"
         },
         "name": "Linear growth rate in cm^3/day",
         "pointpos": -1.5,
         "type": "box",
         "visible": false,
         "y": [
          0.07299522369655996,
          0.07300650070280973,
          0.07299522369656758,
          0.07299522369658122,
          0.072995223692955,
          0.07299522369490138,
          0.07299522369454639,
          0.07299522369650174,
          0.07299522369665537,
          0.07299522369672995
         ]
        },
        {
         "boxpoints": "all",
         "jitter": 0.2,
         "line": {
          "color": "#AB63FA"
         },
         "marker": {
          "color": "#AB63FA",
          "line": {
           "color": "black",
           "width": 1
          },
          "opacity": 0.7,
          "symbol": "circle"
         },
         "name": "Score",
         "pointpos": -1.5,
         "type": "box",
         "visible": false,
         "y": [
          3.914925040463892e-24,
          1.0420505191796427e-8,
          3.9124437483977764e-24,
          3.9138410745133035e-24,
          3.4936139691594495e-24,
          9.636667136578046e-26,
          3.2031179000603444e-25,
          4.004393163080265e-24,
          3.9204293559486706e-24,
          2.3482597471209698e-24
         ]
        },
        {
         "boxpoints": "all",
         "jitter": 0.2,
         "line": {
          "color": "#636EFA"
         },
         "marker": {
          "color": "#636EFA",
          "line": {
           "color": "black",
           "width": 1
          },
          "opacity": 0.7,
          "symbol": "circle"
         },
         "name": "Initial tumour volume in cm^3",
         "pointpos": -1.5,
         "type": "box",
         "visible": false,
         "y": [
          0.08704782997971748,
          0.08704782997971934,
          0.0870478299797181,
          0.0870478299797181,
          0.08704782997971856,
          0.08704782997971655,
          0.0870478299797178,
          0.08704782997971965,
          0.0870478299797183,
          0.08704782997971872
         ]
        },
        {
         "boxpoints": "all",
         "jitter": 0.2,
         "line": {
          "color": "#EF553B"
         },
         "marker": {
          "color": "#EF553B",
          "line": {
           "color": "black",
           "width": 1
          },
          "opacity": 0.7,
          "symbol": "circle"
         },
         "name": "Exponential growth rate in 1/day",
         "pointpos": -1.5,
         "type": "box",
         "visible": false,
         "y": [
          0.03617215534169737,
          0.03617215534169627,
          0.03617215534169651,
          0.036172155341696995,
          0.03617215534169666,
          0.03617215534169793,
          0.03617215534169731,
          0.03617215534169512,
          0.03617215534169667,
          0.03617215534169666
         ]
        },
        {
         "boxpoints": "all",
         "jitter": 0.2,
         "line": {
          "color": "#00CC96"
         },
         "marker": {
          "color": "#00CC96",
          "line": {
           "color": "black",
           "width": 1
          },
          "opacity": 0.7,
          "symbol": "circle"
         },
         "name": "Linear growth rate in cm^3/day",
         "pointpos": -1.5,
         "type": "box",
         "visible": false,
         "y": [
          0.19325841272466907,
          0.19325841272471508,
          0.19325841272472558,
          0.19325841272469044,
          0.19325841272470204,
          0.19325841272466318,
          0.19325841272467015,
          0.1932584127247646,
          0.19325841272470826,
          0.19325841272470135
         ]
        },
        {
         "boxpoints": "all",
         "jitter": 0.2,
         "line": {
          "color": "#AB63FA"
         },
         "marker": {
          "color": "#AB63FA",
          "line": {
           "color": "black",
           "width": 1
          },
          "opacity": 0.7,
          "symbol": "circle"
         },
         "name": "Score",
         "pointpos": -1.5,
         "type": "box",
         "visible": false,
         "y": [
          2.8225273706972696e-29,
          3.900085174581928e-29,
          1.488474216819119e-29,
          1.5671291957478938e-30,
          3.9654897554933186e-30,
          2.8886060270891957e-29,
          5.987716197099916e-30,
          8.632191344438586e-29,
          1.5998700048024768e-30,
          4.183505025197954e-30
         ]
        }
       ],
       "layout": {
        "autosize": true,
        "legend": {
         "x": 1.05,
         "xanchor": "left",
         "y": 0.01,
         "yanchor": "bottom"
        },
        "template": {
         "data": {
          "bar": [
           {
            "error_x": {
             "color": "#2a3f5f"
            },
            "error_y": {
             "color": "#2a3f5f"
            },
            "marker": {
             "line": {
              "color": "white",
              "width": 0.5
             }
            },
            "type": "bar"
           }
          ],
          "barpolar": [
           {
            "marker": {
             "line": {
              "color": "white",
              "width": 0.5
             }
            },
            "type": "barpolar"
           }
          ],
          "carpet": [
           {
            "aaxis": {
             "endlinecolor": "#2a3f5f",
             "gridcolor": "#C8D4E3",
             "linecolor": "#C8D4E3",
             "minorgridcolor": "#C8D4E3",
             "startlinecolor": "#2a3f5f"
            },
            "baxis": {
             "endlinecolor": "#2a3f5f",
             "gridcolor": "#C8D4E3",
             "linecolor": "#C8D4E3",
             "minorgridcolor": "#C8D4E3",
             "startlinecolor": "#2a3f5f"
            },
            "type": "carpet"
           }
          ],
          "choropleth": [
           {
            "colorbar": {
             "outlinewidth": 0,
             "ticks": ""
            },
            "type": "choropleth"
           }
          ],
          "contour": [
           {
            "colorbar": {
             "outlinewidth": 0,
             "ticks": ""
            },
            "colorscale": [
             [
              0,
              "#0d0887"
             ],
             [
              0.1111111111111111,
              "#46039f"
             ],
             [
              0.2222222222222222,
              "#7201a8"
             ],
             [
              0.3333333333333333,
              "#9c179e"
             ],
             [
              0.4444444444444444,
              "#bd3786"
             ],
             [
              0.5555555555555556,
              "#d8576b"
             ],
             [
              0.6666666666666666,
              "#ed7953"
             ],
             [
              0.7777777777777778,
              "#fb9f3a"
             ],
             [
              0.8888888888888888,
              "#fdca26"
             ],
             [
              1,
              "#f0f921"
             ]
            ],
            "type": "contour"
           }
          ],
          "contourcarpet": [
           {
            "colorbar": {
             "outlinewidth": 0,
             "ticks": ""
            },
            "type": "contourcarpet"
           }
          ],
          "heatmap": [
           {
            "colorbar": {
             "outlinewidth": 0,
             "ticks": ""
            },
            "colorscale": [
             [
              0,
              "#0d0887"
             ],
             [
              0.1111111111111111,
              "#46039f"
             ],
             [
              0.2222222222222222,
              "#7201a8"
             ],
             [
              0.3333333333333333,
              "#9c179e"
             ],
             [
              0.4444444444444444,
              "#bd3786"
             ],
             [
              0.5555555555555556,
              "#d8576b"
             ],
             [
              0.6666666666666666,
              "#ed7953"
             ],
             [
              0.7777777777777778,
              "#fb9f3a"
             ],
             [
              0.8888888888888888,
              "#fdca26"
             ],
             [
              1,
              "#f0f921"
             ]
            ],
            "type": "heatmap"
           }
          ],
          "heatmapgl": [
           {
            "colorbar": {
             "outlinewidth": 0,
             "ticks": ""
            },
            "colorscale": [
             [
              0,
              "#0d0887"
             ],
             [
              0.1111111111111111,
              "#46039f"
             ],
             [
              0.2222222222222222,
              "#7201a8"
             ],
             [
              0.3333333333333333,
              "#9c179e"
             ],
             [
              0.4444444444444444,
              "#bd3786"
             ],
             [
              0.5555555555555556,
              "#d8576b"
             ],
             [
              0.6666666666666666,
              "#ed7953"
             ],
             [
              0.7777777777777778,
              "#fb9f3a"
             ],
             [
              0.8888888888888888,
              "#fdca26"
             ],
             [
              1,
              "#f0f921"
             ]
            ],
            "type": "heatmapgl"
           }
          ],
          "histogram": [
           {
            "marker": {
             "colorbar": {
              "outlinewidth": 0,
              "ticks": ""
             }
            },
            "type": "histogram"
           }
          ],
          "histogram2d": [
           {
            "colorbar": {
             "outlinewidth": 0,
             "ticks": ""
            },
            "colorscale": [
             [
              0,
              "#0d0887"
             ],
             [
              0.1111111111111111,
              "#46039f"
             ],
             [
              0.2222222222222222,
              "#7201a8"
             ],
             [
              0.3333333333333333,
              "#9c179e"
             ],
             [
              0.4444444444444444,
              "#bd3786"
             ],
             [
              0.5555555555555556,
              "#d8576b"
             ],
             [
              0.6666666666666666,
              "#ed7953"
             ],
             [
              0.7777777777777778,
              "#fb9f3a"
             ],
             [
              0.8888888888888888,
              "#fdca26"
             ],
             [
              1,
              "#f0f921"
             ]
            ],
            "type": "histogram2d"
           }
          ],
          "histogram2dcontour": [
           {
            "colorbar": {
             "outlinewidth": 0,
             "ticks": ""
            },
            "colorscale": [
             [
              0,
              "#0d0887"
             ],
             [
              0.1111111111111111,
              "#46039f"
             ],
             [
              0.2222222222222222,
              "#7201a8"
             ],
             [
              0.3333333333333333,
              "#9c179e"
             ],
             [
              0.4444444444444444,
              "#bd3786"
             ],
             [
              0.5555555555555556,
              "#d8576b"
             ],
             [
              0.6666666666666666,
              "#ed7953"
             ],
             [
              0.7777777777777778,
              "#fb9f3a"
             ],
             [
              0.8888888888888888,
              "#fdca26"
             ],
             [
              1,
              "#f0f921"
             ]
            ],
            "type": "histogram2dcontour"
           }
          ],
          "mesh3d": [
           {
            "colorbar": {
             "outlinewidth": 0,
             "ticks": ""
            },
            "type": "mesh3d"
           }
          ],
          "parcoords": [
           {
            "line": {
             "colorbar": {
              "outlinewidth": 0,
              "ticks": ""
             }
            },
            "type": "parcoords"
           }
          ],
          "pie": [
           {
            "automargin": true,
            "type": "pie"
           }
          ],
          "scatter": [
           {
            "marker": {
             "colorbar": {
              "outlinewidth": 0,
              "ticks": ""
             }
            },
            "type": "scatter"
           }
          ],
          "scatter3d": [
           {
            "line": {
             "colorbar": {
              "outlinewidth": 0,
              "ticks": ""
             }
            },
            "marker": {
             "colorbar": {
              "outlinewidth": 0,
              "ticks": ""
             }
            },
            "type": "scatter3d"
           }
          ],
          "scattercarpet": [
           {
            "marker": {
             "colorbar": {
              "outlinewidth": 0,
              "ticks": ""
             }
            },
            "type": "scattercarpet"
           }
          ],
          "scattergeo": [
           {
            "marker": {
             "colorbar": {
              "outlinewidth": 0,
              "ticks": ""
             }
            },
            "type": "scattergeo"
           }
          ],
          "scattergl": [
           {
            "marker": {
             "colorbar": {
              "outlinewidth": 0,
              "ticks": ""
             }
            },
            "type": "scattergl"
           }
          ],
          "scattermapbox": [
           {
            "marker": {
             "colorbar": {
              "outlinewidth": 0,
              "ticks": ""
             }
            },
            "type": "scattermapbox"
           }
          ],
          "scatterpolar": [
           {
            "marker": {
             "colorbar": {
              "outlinewidth": 0,
              "ticks": ""
             }
            },
            "type": "scatterpolar"
           }
          ],
          "scatterpolargl": [
           {
            "marker": {
             "colorbar": {
              "outlinewidth": 0,
              "ticks": ""
             }
            },
            "type": "scatterpolargl"
           }
          ],
          "scatterternary": [
           {
            "marker": {
             "colorbar": {
              "outlinewidth": 0,
              "ticks": ""
             }
            },
            "type": "scatterternary"
           }
          ],
          "surface": [
           {
            "colorbar": {
             "outlinewidth": 0,
             "ticks": ""
            },
            "colorscale": [
             [
              0,
              "#0d0887"
             ],
             [
              0.1111111111111111,
              "#46039f"
             ],
             [
              0.2222222222222222,
              "#7201a8"
             ],
             [
              0.3333333333333333,
              "#9c179e"
             ],
             [
              0.4444444444444444,
              "#bd3786"
             ],
             [
              0.5555555555555556,
              "#d8576b"
             ],
             [
              0.6666666666666666,
              "#ed7953"
             ],
             [
              0.7777777777777778,
              "#fb9f3a"
             ],
             [
              0.8888888888888888,
              "#fdca26"
             ],
             [
              1,
              "#f0f921"
             ]
            ],
            "type": "surface"
           }
          ],
          "table": [
           {
            "cells": {
             "fill": {
              "color": "#EBF0F8"
             },
             "line": {
              "color": "white"
             }
            },
            "header": {
             "fill": {
              "color": "#C8D4E3"
             },
             "line": {
              "color": "white"
             }
            },
            "type": "table"
           }
          ]
         },
         "layout": {
          "annotationdefaults": {
           "arrowcolor": "#2a3f5f",
           "arrowhead": 0,
           "arrowwidth": 1
          },
          "coloraxis": {
           "colorbar": {
            "outlinewidth": 0,
            "ticks": ""
           }
          },
          "colorscale": {
           "diverging": [
            [
             0,
             "#8e0152"
            ],
            [
             0.1,
             "#c51b7d"
            ],
            [
             0.2,
             "#de77ae"
            ],
            [
             0.3,
             "#f1b6da"
            ],
            [
             0.4,
             "#fde0ef"
            ],
            [
             0.5,
             "#f7f7f7"
            ],
            [
             0.6,
             "#e6f5d0"
            ],
            [
             0.7,
             "#b8e186"
            ],
            [
             0.8,
             "#7fbc41"
            ],
            [
             0.9,
             "#4d9221"
            ],
            [
             1,
             "#276419"
            ]
           ],
           "sequential": [
            [
             0,
             "#0d0887"
            ],
            [
             0.1111111111111111,
             "#46039f"
            ],
            [
             0.2222222222222222,
             "#7201a8"
            ],
            [
             0.3333333333333333,
             "#9c179e"
            ],
            [
             0.4444444444444444,
             "#bd3786"
            ],
            [
             0.5555555555555556,
             "#d8576b"
            ],
            [
             0.6666666666666666,
             "#ed7953"
            ],
            [
             0.7777777777777778,
             "#fb9f3a"
            ],
            [
             0.8888888888888888,
             "#fdca26"
            ],
            [
             1,
             "#f0f921"
            ]
           ],
           "sequentialminus": [
            [
             0,
             "#0d0887"
            ],
            [
             0.1111111111111111,
             "#46039f"
            ],
            [
             0.2222222222222222,
             "#7201a8"
            ],
            [
             0.3333333333333333,
             "#9c179e"
            ],
            [
             0.4444444444444444,
             "#bd3786"
            ],
            [
             0.5555555555555556,
             "#d8576b"
            ],
            [
             0.6666666666666666,
             "#ed7953"
            ],
            [
             0.7777777777777778,
             "#fb9f3a"
            ],
            [
             0.8888888888888888,
             "#fdca26"
            ],
            [
             1,
             "#f0f921"
            ]
           ]
          },
          "colorway": [
           "#636efa",
           "#EF553B",
           "#00cc96",
           "#ab63fa",
           "#FFA15A",
           "#19d3f3",
           "#FF6692",
           "#B6E880",
           "#FF97FF",
           "#FECB52"
          ],
          "font": {
           "color": "#2a3f5f"
          },
          "geo": {
           "bgcolor": "white",
           "lakecolor": "white",
           "landcolor": "white",
           "showlakes": true,
           "showland": true,
           "subunitcolor": "#C8D4E3"
          },
          "hoverlabel": {
           "align": "left"
          },
          "hovermode": "closest",
          "mapbox": {
           "style": "light"
          },
          "paper_bgcolor": "white",
          "plot_bgcolor": "white",
          "polar": {
           "angularaxis": {
            "gridcolor": "#EBF0F8",
            "linecolor": "#EBF0F8",
            "ticks": ""
           },
           "bgcolor": "white",
           "radialaxis": {
            "gridcolor": "#EBF0F8",
            "linecolor": "#EBF0F8",
            "ticks": ""
           }
          },
          "scene": {
           "xaxis": {
            "backgroundcolor": "white",
            "gridcolor": "#DFE8F3",
            "gridwidth": 2,
            "linecolor": "#EBF0F8",
            "showbackground": true,
            "ticks": "",
            "zerolinecolor": "#EBF0F8"
           },
           "yaxis": {
            "backgroundcolor": "white",
            "gridcolor": "#DFE8F3",
            "gridwidth": 2,
            "linecolor": "#EBF0F8",
            "showbackground": true,
            "ticks": "",
            "zerolinecolor": "#EBF0F8"
           },
           "zaxis": {
            "backgroundcolor": "white",
            "gridcolor": "#DFE8F3",
            "gridwidth": 2,
            "linecolor": "#EBF0F8",
            "showbackground": true,
            "ticks": "",
            "zerolinecolor": "#EBF0F8"
           }
          },
          "shapedefaults": {
           "line": {
            "color": "#2a3f5f"
           }
          },
          "ternary": {
           "aaxis": {
            "gridcolor": "#DFE8F3",
            "linecolor": "#A2B1C6",
            "ticks": ""
           },
           "baxis": {
            "gridcolor": "#DFE8F3",
            "linecolor": "#A2B1C6",
            "ticks": ""
           },
           "bgcolor": "white",
           "caxis": {
            "gridcolor": "#DFE8F3",
            "linecolor": "#A2B1C6",
            "ticks": ""
           }
          },
          "title": {
           "x": 0.05
          },
          "xaxis": {
           "automargin": true,
           "gridcolor": "#EBF0F8",
           "linecolor": "#EBF0F8",
           "ticks": "",
           "title": {
            "standoff": 15
           },
           "zerolinecolor": "#EBF0F8",
           "zerolinewidth": 2
          },
          "yaxis": {
           "automargin": true,
           "gridcolor": "#EBF0F8",
           "linecolor": "#EBF0F8",
           "ticks": "",
           "title": {
            "standoff": 15
           },
           "zerolinecolor": "#EBF0F8",
           "zerolinewidth": 2
          }
         }
        },
        "updatemenus": [
         {
          "buttons": [
           {
            "args": [
             {
              "visible": [
               true,
               true,
               true,
               true,
               false,
               false,
               false,
               false,
               false,
               false,
               false,
               false,
               false,
               false,
               false,
               false,
               false,
               false,
               false,
               false,
               false,
               false,
               false,
               false,
               false,
               false,
               false,
               false,
               false,
               false,
               false,
               false
              ]
             }
            ],
            "label": "ID: 40",
            "method": "restyle"
           },
           {
            "args": [
             {
              "visible": [
               false,
               false,
               false,
               false,
               true,
               true,
               true,
               true,
               false,
               false,
               false,
               false,
               false,
               false,
               false,
               false,
               false,
               false,
               false,
               false,
               false,
               false,
               false,
               false,
               false,
               false,
               false,
               false,
               false,
               false,
               false,
               false
              ]
             }
            ],
            "label": "ID: 94",
            "method": "restyle"
           },
           {
            "args": [
             {
              "visible": [
               false,
               false,
               false,
               false,
               false,
               false,
               false,
               false,
               true,
               true,
               true,
               true,
               false,
               false,
               false,
               false,
               false,
               false,
               false,
               false,
               false,
               false,
               false,
               false,
               false,
               false,
               false,
               false,
               false,
               false,
               false,
               false
              ]
             }
            ],
            "label": "ID: 95",
            "method": "restyle"
           },
           {
            "args": [
             {
              "visible": [
               false,
               false,
               false,
               false,
               false,
               false,
               false,
               false,
               false,
               false,
               false,
               false,
               true,
               true,
               true,
               true,
               false,
               false,
               false,
               false,
               false,
               false,
               false,
               false,
               false,
               false,
               false,
               false,
               false,
               false,
               false,
               false
              ]
             }
            ],
            "label": "ID: 136",
            "method": "restyle"
           },
           {
            "args": [
             {
              "visible": [
               false,
               false,
               false,
               false,
               false,
               false,
               false,
               false,
               false,
               false,
               false,
               false,
               false,
               false,
               false,
               false,
               true,
               true,
               true,
               true,
               false,
               false,
               false,
               false,
               false,
               false,
               false,
               false,
               false,
               false,
               false,
               false
              ]
             }
            ],
            "label": "ID: 140",
            "method": "restyle"
           },
           {
            "args": [
             {
              "visible": [
               false,
               false,
               false,
               false,
               false,
               false,
               false,
               false,
               false,
               false,
               false,
               false,
               false,
               false,
               false,
               false,
               false,
               false,
               false,
               false,
               true,
               true,
               true,
               true,
               false,
               false,
               false,
               false,
               false,
               false,
               false,
               false
              ]
             }
            ],
            "label": "ID: 155",
            "method": "restyle"
           },
           {
            "args": [
             {
              "visible": [
               false,
               false,
               false,
               false,
               false,
               false,
               false,
               false,
               false,
               false,
               false,
               false,
               false,
               false,
               false,
               false,
               false,
               false,
               false,
               false,
               false,
               false,
               false,
               false,
               true,
               true,
               true,
               true,
               false,
               false,
               false,
               false
              ]
             }
            ],
            "label": "ID: 169",
            "method": "restyle"
           },
           {
            "args": [
             {
              "visible": [
               false,
               false,
               false,
               false,
               false,
               false,
               false,
               false,
               false,
               false,
               false,
               false,
               false,
               false,
               false,
               false,
               false,
               false,
               false,
               false,
               false,
               false,
               false,
               false,
               false,
               false,
               false,
               false,
               true,
               true,
               true,
               true
              ]
             }
            ],
            "label": "ID: 170",
            "method": "restyle"
           }
          ],
          "direction": "right",
          "pad": {
           "r": 0,
           "t": -10
          },
          "showactive": true,
          "type": "buttons",
          "x": 0,
          "xanchor": "left",
          "y": 1.1,
          "yanchor": "top"
         }
        ]
       }
      },
      "text/html": [
       "<div>\n",
       "        \n",
       "        \n",
       "            <div id=\"37926a45-0e5e-4c4d-bc16-5d5e1bcd8695\" class=\"plotly-graph-div\" style=\"height:525px; width:100%;\"></div>\n",
       "            <script type=\"text/javascript\">\n",
       "                require([\"plotly\"], function(Plotly) {\n",
       "                    window.PLOTLYENV=window.PLOTLYENV || {};\n",
       "                    \n",
       "                if (document.getElementById(\"37926a45-0e5e-4c4d-bc16-5d5e1bcd8695\")) {\n",
       "                    Plotly.newPlot(\n",
       "                        '37926a45-0e5e-4c4d-bc16-5d5e1bcd8695',\n",
       "                        [{\"boxpoints\": \"all\", \"jitter\": 0.2, \"line\": {\"color\": \"#636EFA\"}, \"marker\": {\"color\": \"#636EFA\", \"line\": {\"color\": \"black\", \"width\": 1}, \"opacity\": 0.7, \"symbol\": \"circle\"}, \"name\": \"Initial tumour volume in cm^3\", \"pointpos\": -1.5, \"type\": \"box\", \"visible\": true, \"y\": [0.13961516233473997, 0.13961518492172578, 0.13961520248151962, 0.13964469320354414, 0.13961517162157938, 0.1396125885964337, 0.13954253124001023, 0.1396151603504244, 0.13961519435743724, 0.1396152080443933]}, {\"boxpoints\": \"all\", \"jitter\": 0.2, \"line\": {\"color\": \"#EF553B\"}, \"marker\": {\"color\": \"#EF553B\", \"line\": {\"color\": \"black\", \"width\": 1}, \"opacity\": 0.7, \"symbol\": \"circle\"}, \"name\": \"Exponential growth rate in 1/day\", \"pointpos\": -1.5, \"type\": \"box\", \"visible\": true, \"y\": [0.27514260290119036, 0.27514256312060603, 0.27514253639065794, 0.27474974913732286, 0.27514258494348715, 0.275153982589139, 0.2755059048184821, 0.2751426064039479, 0.27514254522648574, 0.27514252224659164]}, {\"boxpoints\": \"all\", \"jitter\": 0.2, \"line\": {\"color\": \"#00CC96\"}, \"marker\": {\"color\": \"#00CC96\", \"line\": {\"color\": \"black\", \"width\": 1}, \"opacity\": 0.7, \"symbol\": \"circle\"}, \"name\": \"Linear growth rate in cm^3/day\", \"pointpos\": -1.5, \"type\": \"box\", \"visible\": true, \"y\": [0.13088963557236474, 0.1308896374309398, 0.13088964097281505, 0.1309895670466508, 0.13088963555173386, 0.13088827868034872, 0.13084464419662592, 0.13088963519531258, 0.13088963757644592, 0.1308896394342268]}, {\"boxpoints\": \"all\", \"jitter\": 0.2, \"line\": {\"color\": \"#AB63FA\"}, \"marker\": {\"color\": \"#AB63FA\", \"line\": {\"color\": \"black\", \"width\": 1}, \"opacity\": 0.7, \"symbol\": \"circle\"}, \"name\": \"Score\", \"pointpos\": -1.5, \"type\": \"box\", \"visible\": true, \"y\": [1.1859706982200828e-08, 1.1859704626480632e-08, 1.1859714758739927e-08, 4.637463199390404e-09, 1.1859704837788615e-08, 1.2055353774485822e-08, 3.2608167323635924e-08, 1.185970238356352e-08, 1.1859703788370919e-08, 1.1859711271287577e-08]}, {\"boxpoints\": \"all\", \"jitter\": 0.2, \"line\": {\"color\": \"#636EFA\"}, \"marker\": {\"color\": \"#636EFA\", \"line\": {\"color\": \"black\", \"width\": 1}, \"opacity\": 0.7, \"symbol\": \"circle\"}, \"name\": \"Initial tumour volume in cm^3\", \"pointpos\": -1.5, \"type\": \"box\", \"visible\": false, \"y\": [0.07467445135898927, 0.07471092799645968, 0.0746744513589901, 0.07474032675704667, 0.07467445135911088, 0.07467445135897359, 0.07467445135899034, 0.07467445135898579, 0.07467445135899163, 0.07467445135899056]}, {\"boxpoints\": \"all\", \"jitter\": 0.2, \"line\": {\"color\": \"#EF553B\"}, \"marker\": {\"color\": \"#EF553B\", \"line\": {\"color\": \"black\", \"width\": 1}, \"opacity\": 0.7, \"symbol\": \"circle\"}, \"name\": \"Exponential growth rate in 1/day\", \"pointpos\": -1.5, \"type\": \"box\", \"visible\": false, \"y\": [0.16648157186955947, 0.16634374885819223, 0.16648157186950793, 0.16548523197438947, 0.16648157186768808, 0.16648157186978024, 0.16648157186952148, 0.1664815718695637, 0.16648157186950663, 0.16648157186951215]}, {\"boxpoints\": \"all\", \"jitter\": 0.2, \"line\": {\"color\": \"#00CC96\"}, \"marker\": {\"color\": \"#00CC96\", \"line\": {\"color\": \"black\", \"width\": 1}, \"opacity\": 0.7, \"symbol\": \"circle\"}, \"name\": \"Linear growth rate in cm^3/day\", \"pointpos\": -1.5, \"type\": \"box\", \"visible\": false, \"y\": [0.0203549663831615, 0.02034985209049468, 0.02035496638316331, 0.02038123798659614, 0.020354966383226186, 0.02035496638315523, 0.020354966383162632, 0.02035496638316179, 0.02035496638316314, 0.02035496638316302]}, {\"boxpoints\": \"all\", \"jitter\": 0.2, \"line\": {\"color\": \"#AB63FA\"}, \"marker\": {\"color\": \"#AB63FA\", \"line\": {\"color\": \"black\", \"width\": 1}, \"opacity\": 0.7, \"symbol\": \"circle\"}, \"name\": \"Score\", \"pointpos\": -1.5, \"type\": \"box\", \"visible\": false, \"y\": [1.4374775178216895e-28, 1.1140295436830122e-08, 9.74867219249931e-30, 1.3671968027566876e-08, 2.344470653674269e-25, 2.1548914295237902e-27, 8.685366270203118e-30, 1.409921312177397e-28, 1.3335138934937221e-30, 3.632689061103204e-30]}, {\"boxpoints\": \"all\", \"jitter\": 0.2, \"line\": {\"color\": \"#636EFA\"}, \"marker\": {\"color\": \"#636EFA\", \"line\": {\"color\": \"black\", \"width\": 1}, \"opacity\": 0.7, \"symbol\": \"circle\"}, \"name\": \"Initial tumour volume in cm^3\", \"pointpos\": -1.5, \"type\": \"box\", \"visible\": false, \"y\": [0.22088761939162777, 0.22089128337273017, 0.22089086619452483, 0.22089078343303994, 0.2208908465303827, 0.22089134844025154, 0.22089218375747066, 0.22089067916452823, 0.22089090183753818, 0.22089057640907064]}, {\"boxpoints\": \"all\", \"jitter\": 0.2, \"line\": {\"color\": \"#EF553B\"}, \"marker\": {\"color\": \"#EF553B\", \"line\": {\"color\": \"black\", \"width\": 1}, \"opacity\": 0.7, \"symbol\": \"circle\"}, \"name\": \"Exponential growth rate in 1/day\", \"pointpos\": -1.5, \"type\": \"box\", \"visible\": false, \"y\": [0.0555980398408789, 0.055596954747088666, 0.05559699598514412, 0.05559701511867691, 0.0555969735182316, 0.05559689448067573, 0.05559655894213884, 0.05559721516290301, 0.05559696193586649, 0.05559709251259703]}, {\"boxpoints\": \"all\", \"jitter\": 0.2, \"line\": {\"color\": \"#00CC96\"}, \"marker\": {\"color\": \"#00CC96\", \"line\": {\"color\": \"black\", \"width\": 1}, \"opacity\": 0.7, \"symbol\": \"circle\"}, \"name\": \"Linear growth rate in cm^3/day\", \"pointpos\": -1.5, \"type\": \"box\", \"visible\": false, \"y\": [102.87174663480401, 104.30011119071082, 104.3160901050692, 104.26726435406798, 104.32639006580247, 104.39170495805573, 104.90141528622347, 103.82337555014061, 104.34030754708459, 104.16401303014962]}, {\"boxpoints\": \"all\", \"jitter\": 0.2, \"line\": {\"color\": \"#AB63FA\"}, \"marker\": {\"color\": \"#AB63FA\", \"line\": {\"color\": \"black\", \"width\": 1}, \"opacity\": 0.7, \"symbol\": \"circle\"}, \"name\": \"Score\", \"pointpos\": -1.5, \"type\": \"box\", \"visible\": false, \"y\": [2.058818695885026e-09, 1.378442753659529e-09, 1.36871613149886e-09, 1.3856510497758828e-09, 1.3608428000467693e-09, 1.3342552020350322e-09, 1.1292970561059872e-09, 1.590674590432995e-09, 1.354719426921892e-09, 1.4313270089462852e-09]}, {\"boxpoints\": \"all\", \"jitter\": 0.2, \"line\": {\"color\": \"#636EFA\"}, \"marker\": {\"color\": \"#636EFA\", \"line\": {\"color\": \"black\", \"width\": 1}, \"opacity\": 0.7, \"symbol\": \"circle\"}, \"name\": \"Initial tumour volume in cm^3\", \"pointpos\": -1.5, \"type\": \"box\", \"visible\": false, \"y\": [0.14895068010822976, 0.14895068009462897, 0.14895067843653703, 0.1489506801310463, 0.14895067827189348, 0.14895068012532506, 0.14895068209474774, 0.14895067832187137, 0.1489506784933573, 0.1489506782767016]}, {\"boxpoints\": \"all\", \"jitter\": 0.2, \"line\": {\"color\": \"#EF553B\"}, \"marker\": {\"color\": \"#EF553B\", \"line\": {\"color\": \"black\", \"width\": 1}, \"opacity\": 0.7, \"symbol\": \"circle\"}, \"name\": \"Exponential growth rate in 1/day\", \"pointpos\": -1.5, \"type\": \"box\", \"visible\": false, \"y\": [0.054248486286652825, 0.05424848615983237, 0.0542484870302166, 0.05424848608460255, 0.05424848727974356, 0.054248486441355846, 0.05424848558345453, 0.05424848696782019, 0.0542484869991864, 0.054248487293629424]}, {\"boxpoints\": \"all\", \"jitter\": 0.2, \"line\": {\"color\": \"#00CC96\"}, \"marker\": {\"color\": \"#00CC96\", \"line\": {\"color\": \"black\", \"width\": 1}, \"opacity\": 0.7, \"symbol\": \"circle\"}, \"name\": \"Linear growth rate in cm^3/day\", \"pointpos\": -1.5, \"type\": \"box\", \"visible\": false, \"y\": [0.12905803376432365, 0.12905803461998416, 0.12905803170806462, 0.12905803490460402, 0.12905803089194462, 0.12905803301501179, 0.1290580349056926, 0.12905803206529742, 0.12905803167839078, 0.12905803032030702]}, {\"boxpoints\": \"all\", \"jitter\": 0.2, \"line\": {\"color\": \"#AB63FA\"}, \"marker\": {\"color\": \"#AB63FA\", \"line\": {\"color\": \"black\", \"width\": 1}, \"opacity\": 0.7, \"symbol\": \"circle\"}, \"name\": \"Score\", \"pointpos\": -1.5, \"type\": \"box\", \"visible\": false, \"y\": [3.813525066233808e-08, 3.8135250545960596e-08, 3.813525065132413e-08, 3.8135250659490334e-08, 3.813525067352806e-08, 3.8135250555661194e-08, 3.813525062370248e-08, 3.813525064996304e-08, 3.8135250650920935e-08, 3.813525065599096e-08]}, {\"boxpoints\": \"all\", \"jitter\": 0.2, \"line\": {\"color\": \"#636EFA\"}, \"marker\": {\"color\": \"#636EFA\", \"line\": {\"color\": \"black\", \"width\": 1}, \"opacity\": 0.7, \"symbol\": \"circle\"}, \"name\": \"Initial tumour volume in cm^3\", \"pointpos\": -1.5, \"type\": \"box\", \"visible\": false, \"y\": [0.08416732622565821, 0.0841676226276983, 0.08416635935287753, 0.08416575957397009, 0.08416662301135375, 0.08416726314227625, 0.08416569007955703, 0.08416661668677913, 0.08416699054399218, 0.08416631674798652]}, {\"boxpoints\": \"all\", \"jitter\": 0.2, \"line\": {\"color\": \"#EF553B\"}, \"marker\": {\"color\": \"#EF553B\", \"line\": {\"color\": \"black\", \"width\": 1}, \"opacity\": 0.7, \"symbol\": \"circle\"}, \"name\": \"Exponential growth rate in 1/day\", \"pointpos\": -1.5, \"type\": \"box\", \"visible\": false, \"y\": [0.05418676973163373, 0.05418661886527469, 0.054187184913259884, 0.054187380108485686, 0.054187094850121166, 0.05418680083718048, 0.05418745974408474, 0.054187110464519524, 0.054186902659383855, 0.05418724292102794]}, {\"boxpoints\": \"all\", \"jitter\": 0.2, \"line\": {\"color\": \"#00CC96\"}, \"marker\": {\"color\": \"#00CC96\", \"line\": {\"color\": \"black\", \"width\": 1}, \"opacity\": 0.7, \"symbol\": \"circle\"}, \"name\": \"Linear growth rate in cm^3/day\", \"pointpos\": -1.5, \"type\": \"box\", \"visible\": false, \"y\": [101.43849531179595, 101.72769296518297, 100.81920078572666, 100.60673509715257, 100.92445927734755, 101.40107923160772, 100.3879580330307, 100.8761708282693, 101.26173197226223, 100.65158603161827]}, {\"boxpoints\": \"all\", \"jitter\": 0.2, \"line\": {\"color\": \"#AB63FA\"}, \"marker\": {\"color\": \"#AB63FA\", \"line\": {\"color\": \"black\", \"width\": 1}, \"opacity\": 0.7, \"symbol\": \"circle\"}, \"name\": \"Score\", \"pointpos\": -1.5, \"type\": \"box\", \"visible\": false, \"y\": [1.581744091580363e-09, 1.4453232897228545e-09, 1.9016793697452837e-09, 2.023051920483536e-09, 1.8456854416961328e-09, 1.6007590920179427e-09, 2.14300130686728e-09, 1.8714332736438107e-09, 1.6697477813469058e-09, 1.9932946572531643e-09]}, {\"boxpoints\": \"all\", \"jitter\": 0.2, \"line\": {\"color\": \"#636EFA\"}, \"marker\": {\"color\": \"#636EFA\", \"line\": {\"color\": \"black\", \"width\": 1}, \"opacity\": 0.7, \"symbol\": \"circle\"}, \"name\": \"Initial tumour volume in cm^3\", \"pointpos\": -1.5, \"type\": \"box\", \"visible\": false, \"y\": [0.1333107914725385, 0.13327405400303735, 0.13331079191590778, 0.13331079158031894, 0.13331078995800535, 0.13331079181682792, 0.13331079341185606, 0.13331079166983256, 0.13331079000246834, 0.133310793346137]}, {\"boxpoints\": \"all\", \"jitter\": 0.2, \"line\": {\"color\": \"#EF553B\"}, \"marker\": {\"color\": \"#EF553B\", \"line\": {\"color\": \"black\", \"width\": 1}, \"opacity\": 0.7, \"symbol\": \"circle\"}, \"name\": \"Exponential growth rate in 1/day\", \"pointpos\": -1.5, \"type\": \"box\", \"visible\": false, \"y\": [0.19708265868588806, 0.19735967644869937, 0.19708265841152017, 0.19708266075352987, 0.19708266221143056, 0.19708265794322302, 0.19708265629081, 0.19708266202655084, 0.19708266200611424, 0.19708265641648243]}, {\"boxpoints\": \"all\", \"jitter\": 0.2, \"line\": {\"color\": \"#00CC96\"}, \"marker\": {\"color\": \"#00CC96\", \"line\": {\"color\": \"black\", \"width\": 1}, \"opacity\": 0.7, \"symbol\": \"circle\"}, \"name\": \"Linear growth rate in cm^3/day\", \"pointpos\": -1.5, \"type\": \"box\", \"visible\": false, \"y\": [0.10854331125369325, 0.1085369002849056, 0.10854331113229523, 0.10854331060563535, 0.10854331057202463, 0.10854331124032601, 0.10854331129418408, 0.10854331027012727, 0.10854331056572243, 0.10854331127591692]}, {\"boxpoints\": \"all\", \"jitter\": 0.2, \"line\": {\"color\": \"#AB63FA\"}, \"marker\": {\"color\": \"#AB63FA\", \"line\": {\"color\": \"black\", \"width\": 1}, \"opacity\": 0.7, \"symbol\": \"circle\"}, \"name\": \"Score\", \"pointpos\": -1.5, \"type\": \"box\", \"visible\": false, \"y\": [1.0637112311785615e-08, 1.6029414778777856e-27, 1.0637112292408544e-08, 1.063711229435922e-08, 1.0637112314280763e-08, 1.0637112296332613e-08, 1.0637112372608428e-08, 1.0637112306244033e-08, 1.063711231792856e-08, 1.0637112372531652e-08]}, {\"boxpoints\": \"all\", \"jitter\": 0.2, \"line\": {\"color\": \"#636EFA\"}, \"marker\": {\"color\": \"#636EFA\", \"line\": {\"color\": \"black\", \"width\": 1}, \"opacity\": 0.7, \"symbol\": \"circle\"}, \"name\": \"Initial tumour volume in cm^3\", \"pointpos\": -1.5, \"type\": \"box\", \"visible\": false, \"y\": [0.12380949345349215, 0.12377473355326099, 0.12380949345348352, 0.12380949345348848, 0.12380949345282852, 0.12380949345279893, 0.12380949345289505, 0.12380949345350953, 0.12380949345352234, 0.1238094934532278]}, {\"boxpoints\": \"all\", \"jitter\": 0.2, \"line\": {\"color\": \"#EF553B\"}, \"marker\": {\"color\": \"#EF553B\", \"line\": {\"color\": \"black\", \"width\": 1}, \"opacity\": 0.7, \"symbol\": \"circle\"}, \"name\": \"Exponential growth rate in 1/day\", \"pointpos\": -1.5, \"type\": \"box\", \"visible\": false, \"y\": [0.04303161323184579, 0.04304985268538408, 0.04303161323184798, 0.043031613231843104, 0.04303161323316706, 0.0430316132327544, 0.043031613232799526, 0.04303161323186222, 0.04303161323181902, 0.04303161323225137]}, {\"boxpoints\": \"all\", \"jitter\": 0.2, \"line\": {\"color\": \"#00CC96\"}, \"marker\": {\"color\": \"#00CC96\", \"line\": {\"color\": \"black\", \"width\": 1}, \"opacity\": 0.7, \"symbol\": \"circle\"}, \"name\": \"Linear growth rate in cm^3/day\", \"pointpos\": -1.5, \"type\": \"box\", \"visible\": false, \"y\": [0.07299522369655996, 0.07300650070280973, 0.07299522369656758, 0.07299522369658122, 0.072995223692955, 0.07299522369490138, 0.07299522369454639, 0.07299522369650174, 0.07299522369665537, 0.07299522369672995]}, {\"boxpoints\": \"all\", \"jitter\": 0.2, \"line\": {\"color\": \"#AB63FA\"}, \"marker\": {\"color\": \"#AB63FA\", \"line\": {\"color\": \"black\", \"width\": 1}, \"opacity\": 0.7, \"symbol\": \"circle\"}, \"name\": \"Score\", \"pointpos\": -1.5, \"type\": \"box\", \"visible\": false, \"y\": [3.914925040463892e-24, 1.0420505191796427e-08, 3.9124437483977764e-24, 3.9138410745133035e-24, 3.4936139691594495e-24, 9.636667136578046e-26, 3.2031179000603444e-25, 4.004393163080265e-24, 3.9204293559486706e-24, 2.3482597471209698e-24]}, {\"boxpoints\": \"all\", \"jitter\": 0.2, \"line\": {\"color\": \"#636EFA\"}, \"marker\": {\"color\": \"#636EFA\", \"line\": {\"color\": \"black\", \"width\": 1}, \"opacity\": 0.7, \"symbol\": \"circle\"}, \"name\": \"Initial tumour volume in cm^3\", \"pointpos\": -1.5, \"type\": \"box\", \"visible\": false, \"y\": [0.08704782997971748, 0.08704782997971934, 0.0870478299797181, 0.0870478299797181, 0.08704782997971856, 0.08704782997971655, 0.0870478299797178, 0.08704782997971965, 0.0870478299797183, 0.08704782997971872]}, {\"boxpoints\": \"all\", \"jitter\": 0.2, \"line\": {\"color\": \"#EF553B\"}, \"marker\": {\"color\": \"#EF553B\", \"line\": {\"color\": \"black\", \"width\": 1}, \"opacity\": 0.7, \"symbol\": \"circle\"}, \"name\": \"Exponential growth rate in 1/day\", \"pointpos\": -1.5, \"type\": \"box\", \"visible\": false, \"y\": [0.03617215534169737, 0.03617215534169627, 0.03617215534169651, 0.036172155341696995, 0.03617215534169666, 0.03617215534169793, 0.03617215534169731, 0.03617215534169512, 0.03617215534169667, 0.03617215534169666]}, {\"boxpoints\": \"all\", \"jitter\": 0.2, \"line\": {\"color\": \"#00CC96\"}, \"marker\": {\"color\": \"#00CC96\", \"line\": {\"color\": \"black\", \"width\": 1}, \"opacity\": 0.7, \"symbol\": \"circle\"}, \"name\": \"Linear growth rate in cm^3/day\", \"pointpos\": -1.5, \"type\": \"box\", \"visible\": false, \"y\": [0.19325841272466907, 0.19325841272471508, 0.19325841272472558, 0.19325841272469044, 0.19325841272470204, 0.19325841272466318, 0.19325841272467015, 0.1932584127247646, 0.19325841272470826, 0.19325841272470135]}, {\"boxpoints\": \"all\", \"jitter\": 0.2, \"line\": {\"color\": \"#AB63FA\"}, \"marker\": {\"color\": \"#AB63FA\", \"line\": {\"color\": \"black\", \"width\": 1}, \"opacity\": 0.7, \"symbol\": \"circle\"}, \"name\": \"Score\", \"pointpos\": -1.5, \"type\": \"box\", \"visible\": false, \"y\": [2.8225273706972696e-29, 3.900085174581928e-29, 1.488474216819119e-29, 1.5671291957478938e-30, 3.9654897554933186e-30, 2.8886060270891957e-29, 5.987716197099916e-30, 8.632191344438586e-29, 1.5998700048024768e-30, 4.183505025197954e-30]}],\n",
       "                        {\"autosize\": true, \"legend\": {\"x\": 1.05, \"xanchor\": \"left\", \"y\": 0.01, \"yanchor\": \"bottom\"}, \"template\": {\"data\": {\"bar\": [{\"error_x\": {\"color\": \"#2a3f5f\"}, \"error_y\": {\"color\": \"#2a3f5f\"}, \"marker\": {\"line\": {\"color\": \"white\", \"width\": 0.5}}, \"type\": \"bar\"}], \"barpolar\": [{\"marker\": {\"line\": {\"color\": \"white\", \"width\": 0.5}}, \"type\": \"barpolar\"}], \"carpet\": [{\"aaxis\": {\"endlinecolor\": \"#2a3f5f\", \"gridcolor\": \"#C8D4E3\", \"linecolor\": \"#C8D4E3\", \"minorgridcolor\": \"#C8D4E3\", \"startlinecolor\": \"#2a3f5f\"}, \"baxis\": {\"endlinecolor\": \"#2a3f5f\", \"gridcolor\": \"#C8D4E3\", \"linecolor\": \"#C8D4E3\", \"minorgridcolor\": \"#C8D4E3\", \"startlinecolor\": \"#2a3f5f\"}, \"type\": \"carpet\"}], \"choropleth\": [{\"colorbar\": {\"outlinewidth\": 0, \"ticks\": \"\"}, \"type\": \"choropleth\"}], \"contour\": [{\"colorbar\": {\"outlinewidth\": 0, \"ticks\": \"\"}, \"colorscale\": [[0.0, \"#0d0887\"], [0.1111111111111111, \"#46039f\"], [0.2222222222222222, \"#7201a8\"], [0.3333333333333333, \"#9c179e\"], [0.4444444444444444, \"#bd3786\"], [0.5555555555555556, \"#d8576b\"], [0.6666666666666666, \"#ed7953\"], [0.7777777777777778, \"#fb9f3a\"], [0.8888888888888888, \"#fdca26\"], [1.0, \"#f0f921\"]], \"type\": \"contour\"}], \"contourcarpet\": [{\"colorbar\": {\"outlinewidth\": 0, \"ticks\": \"\"}, \"type\": \"contourcarpet\"}], \"heatmap\": [{\"colorbar\": {\"outlinewidth\": 0, \"ticks\": \"\"}, \"colorscale\": [[0.0, \"#0d0887\"], [0.1111111111111111, \"#46039f\"], [0.2222222222222222, \"#7201a8\"], [0.3333333333333333, \"#9c179e\"], [0.4444444444444444, \"#bd3786\"], [0.5555555555555556, \"#d8576b\"], [0.6666666666666666, \"#ed7953\"], [0.7777777777777778, \"#fb9f3a\"], [0.8888888888888888, \"#fdca26\"], [1.0, \"#f0f921\"]], \"type\": \"heatmap\"}], \"heatmapgl\": [{\"colorbar\": {\"outlinewidth\": 0, \"ticks\": \"\"}, \"colorscale\": [[0.0, \"#0d0887\"], [0.1111111111111111, \"#46039f\"], [0.2222222222222222, \"#7201a8\"], [0.3333333333333333, \"#9c179e\"], [0.4444444444444444, \"#bd3786\"], [0.5555555555555556, \"#d8576b\"], [0.6666666666666666, \"#ed7953\"], [0.7777777777777778, \"#fb9f3a\"], [0.8888888888888888, \"#fdca26\"], [1.0, \"#f0f921\"]], \"type\": \"heatmapgl\"}], \"histogram\": [{\"marker\": {\"colorbar\": {\"outlinewidth\": 0, \"ticks\": \"\"}}, \"type\": \"histogram\"}], \"histogram2d\": [{\"colorbar\": {\"outlinewidth\": 0, \"ticks\": \"\"}, \"colorscale\": [[0.0, \"#0d0887\"], [0.1111111111111111, \"#46039f\"], [0.2222222222222222, \"#7201a8\"], [0.3333333333333333, \"#9c179e\"], [0.4444444444444444, \"#bd3786\"], [0.5555555555555556, \"#d8576b\"], [0.6666666666666666, \"#ed7953\"], [0.7777777777777778, \"#fb9f3a\"], [0.8888888888888888, \"#fdca26\"], [1.0, \"#f0f921\"]], \"type\": \"histogram2d\"}], \"histogram2dcontour\": [{\"colorbar\": {\"outlinewidth\": 0, \"ticks\": \"\"}, \"colorscale\": [[0.0, \"#0d0887\"], [0.1111111111111111, \"#46039f\"], [0.2222222222222222, \"#7201a8\"], [0.3333333333333333, \"#9c179e\"], [0.4444444444444444, \"#bd3786\"], [0.5555555555555556, \"#d8576b\"], [0.6666666666666666, \"#ed7953\"], [0.7777777777777778, \"#fb9f3a\"], [0.8888888888888888, \"#fdca26\"], [1.0, \"#f0f921\"]], \"type\": \"histogram2dcontour\"}], \"mesh3d\": [{\"colorbar\": {\"outlinewidth\": 0, \"ticks\": \"\"}, \"type\": \"mesh3d\"}], \"parcoords\": [{\"line\": {\"colorbar\": {\"outlinewidth\": 0, \"ticks\": \"\"}}, \"type\": \"parcoords\"}], \"pie\": [{\"automargin\": true, \"type\": \"pie\"}], \"scatter\": [{\"marker\": {\"colorbar\": {\"outlinewidth\": 0, \"ticks\": \"\"}}, \"type\": \"scatter\"}], \"scatter3d\": [{\"line\": {\"colorbar\": {\"outlinewidth\": 0, \"ticks\": \"\"}}, \"marker\": {\"colorbar\": {\"outlinewidth\": 0, \"ticks\": \"\"}}, \"type\": \"scatter3d\"}], \"scattercarpet\": [{\"marker\": {\"colorbar\": {\"outlinewidth\": 0, \"ticks\": \"\"}}, \"type\": \"scattercarpet\"}], \"scattergeo\": [{\"marker\": {\"colorbar\": {\"outlinewidth\": 0, \"ticks\": \"\"}}, \"type\": \"scattergeo\"}], \"scattergl\": [{\"marker\": {\"colorbar\": {\"outlinewidth\": 0, \"ticks\": \"\"}}, \"type\": \"scattergl\"}], \"scattermapbox\": [{\"marker\": {\"colorbar\": {\"outlinewidth\": 0, \"ticks\": \"\"}}, \"type\": \"scattermapbox\"}], \"scatterpolar\": [{\"marker\": {\"colorbar\": {\"outlinewidth\": 0, \"ticks\": \"\"}}, \"type\": \"scatterpolar\"}], \"scatterpolargl\": [{\"marker\": {\"colorbar\": {\"outlinewidth\": 0, \"ticks\": \"\"}}, \"type\": \"scatterpolargl\"}], \"scatterternary\": [{\"marker\": {\"colorbar\": {\"outlinewidth\": 0, \"ticks\": \"\"}}, \"type\": \"scatterternary\"}], \"surface\": [{\"colorbar\": {\"outlinewidth\": 0, \"ticks\": \"\"}, \"colorscale\": [[0.0, \"#0d0887\"], [0.1111111111111111, \"#46039f\"], [0.2222222222222222, \"#7201a8\"], [0.3333333333333333, \"#9c179e\"], [0.4444444444444444, \"#bd3786\"], [0.5555555555555556, \"#d8576b\"], [0.6666666666666666, \"#ed7953\"], [0.7777777777777778, \"#fb9f3a\"], [0.8888888888888888, \"#fdca26\"], [1.0, \"#f0f921\"]], \"type\": \"surface\"}], \"table\": [{\"cells\": {\"fill\": {\"color\": \"#EBF0F8\"}, \"line\": {\"color\": \"white\"}}, \"header\": {\"fill\": {\"color\": \"#C8D4E3\"}, \"line\": {\"color\": \"white\"}}, \"type\": \"table\"}]}, \"layout\": {\"annotationdefaults\": {\"arrowcolor\": \"#2a3f5f\", \"arrowhead\": 0, \"arrowwidth\": 1}, \"coloraxis\": {\"colorbar\": {\"outlinewidth\": 0, \"ticks\": \"\"}}, \"colorscale\": {\"diverging\": [[0, \"#8e0152\"], [0.1, \"#c51b7d\"], [0.2, \"#de77ae\"], [0.3, \"#f1b6da\"], [0.4, \"#fde0ef\"], [0.5, \"#f7f7f7\"], [0.6, \"#e6f5d0\"], [0.7, \"#b8e186\"], [0.8, \"#7fbc41\"], [0.9, \"#4d9221\"], [1, \"#276419\"]], \"sequential\": [[0.0, \"#0d0887\"], [0.1111111111111111, \"#46039f\"], [0.2222222222222222, \"#7201a8\"], [0.3333333333333333, \"#9c179e\"], [0.4444444444444444, \"#bd3786\"], [0.5555555555555556, \"#d8576b\"], [0.6666666666666666, \"#ed7953\"], [0.7777777777777778, \"#fb9f3a\"], [0.8888888888888888, \"#fdca26\"], [1.0, \"#f0f921\"]], \"sequentialminus\": [[0.0, \"#0d0887\"], [0.1111111111111111, \"#46039f\"], [0.2222222222222222, \"#7201a8\"], [0.3333333333333333, \"#9c179e\"], [0.4444444444444444, \"#bd3786\"], [0.5555555555555556, \"#d8576b\"], [0.6666666666666666, \"#ed7953\"], [0.7777777777777778, \"#fb9f3a\"], [0.8888888888888888, \"#fdca26\"], [1.0, \"#f0f921\"]]}, \"colorway\": [\"#636efa\", \"#EF553B\", \"#00cc96\", \"#ab63fa\", \"#FFA15A\", \"#19d3f3\", \"#FF6692\", \"#B6E880\", \"#FF97FF\", \"#FECB52\"], \"font\": {\"color\": \"#2a3f5f\"}, \"geo\": {\"bgcolor\": \"white\", \"lakecolor\": \"white\", \"landcolor\": \"white\", \"showlakes\": true, \"showland\": true, \"subunitcolor\": \"#C8D4E3\"}, \"hoverlabel\": {\"align\": \"left\"}, \"hovermode\": \"closest\", \"mapbox\": {\"style\": \"light\"}, \"paper_bgcolor\": \"white\", \"plot_bgcolor\": \"white\", \"polar\": {\"angularaxis\": {\"gridcolor\": \"#EBF0F8\", \"linecolor\": \"#EBF0F8\", \"ticks\": \"\"}, \"bgcolor\": \"white\", \"radialaxis\": {\"gridcolor\": \"#EBF0F8\", \"linecolor\": \"#EBF0F8\", \"ticks\": \"\"}}, \"scene\": {\"xaxis\": {\"backgroundcolor\": \"white\", \"gridcolor\": \"#DFE8F3\", \"gridwidth\": 2, \"linecolor\": \"#EBF0F8\", \"showbackground\": true, \"ticks\": \"\", \"zerolinecolor\": \"#EBF0F8\"}, \"yaxis\": {\"backgroundcolor\": \"white\", \"gridcolor\": \"#DFE8F3\", \"gridwidth\": 2, \"linecolor\": \"#EBF0F8\", \"showbackground\": true, \"ticks\": \"\", \"zerolinecolor\": \"#EBF0F8\"}, \"zaxis\": {\"backgroundcolor\": \"white\", \"gridcolor\": \"#DFE8F3\", \"gridwidth\": 2, \"linecolor\": \"#EBF0F8\", \"showbackground\": true, \"ticks\": \"\", \"zerolinecolor\": \"#EBF0F8\"}}, \"shapedefaults\": {\"line\": {\"color\": \"#2a3f5f\"}}, \"ternary\": {\"aaxis\": {\"gridcolor\": \"#DFE8F3\", \"linecolor\": \"#A2B1C6\", \"ticks\": \"\"}, \"baxis\": {\"gridcolor\": \"#DFE8F3\", \"linecolor\": \"#A2B1C6\", \"ticks\": \"\"}, \"bgcolor\": \"white\", \"caxis\": {\"gridcolor\": \"#DFE8F3\", \"linecolor\": \"#A2B1C6\", \"ticks\": \"\"}}, \"title\": {\"x\": 0.05}, \"xaxis\": {\"automargin\": true, \"gridcolor\": \"#EBF0F8\", \"linecolor\": \"#EBF0F8\", \"ticks\": \"\", \"title\": {\"standoff\": 15}, \"zerolinecolor\": \"#EBF0F8\", \"zerolinewidth\": 2}, \"yaxis\": {\"automargin\": true, \"gridcolor\": \"#EBF0F8\", \"linecolor\": \"#EBF0F8\", \"ticks\": \"\", \"title\": {\"standoff\": 15}, \"zerolinecolor\": \"#EBF0F8\", \"zerolinewidth\": 2}}}, \"updatemenus\": [{\"buttons\": [{\"args\": [{\"visible\": [true, true, true, true, false, false, false, false, false, false, false, false, false, false, false, false, false, false, false, false, false, false, false, false, false, false, false, false, false, false, false, false]}], \"label\": \"ID: 40\", \"method\": \"restyle\"}, {\"args\": [{\"visible\": [false, false, false, false, true, true, true, true, false, false, false, false, false, false, false, false, false, false, false, false, false, false, false, false, false, false, false, false, false, false, false, false]}], \"label\": \"ID: 94\", \"method\": \"restyle\"}, {\"args\": [{\"visible\": [false, false, false, false, false, false, false, false, true, true, true, true, false, false, false, false, false, false, false, false, false, false, false, false, false, false, false, false, false, false, false, false]}], \"label\": \"ID: 95\", \"method\": \"restyle\"}, {\"args\": [{\"visible\": [false, false, false, false, false, false, false, false, false, false, false, false, true, true, true, true, false, false, false, false, false, false, false, false, false, false, false, false, false, false, false, false]}], \"label\": \"ID: 136\", \"method\": \"restyle\"}, {\"args\": [{\"visible\": [false, false, false, false, false, false, false, false, false, false, false, false, false, false, false, false, true, true, true, true, false, false, false, false, false, false, false, false, false, false, false, false]}], \"label\": \"ID: 140\", \"method\": \"restyle\"}, {\"args\": [{\"visible\": [false, false, false, false, false, false, false, false, false, false, false, false, false, false, false, false, false, false, false, false, true, true, true, true, false, false, false, false, false, false, false, false]}], \"label\": \"ID: 155\", \"method\": \"restyle\"}, {\"args\": [{\"visible\": [false, false, false, false, false, false, false, false, false, false, false, false, false, false, false, false, false, false, false, false, false, false, false, false, true, true, true, true, false, false, false, false]}], \"label\": \"ID: 169\", \"method\": \"restyle\"}, {\"args\": [{\"visible\": [false, false, false, false, false, false, false, false, false, false, false, false, false, false, false, false, false, false, false, false, false, false, false, false, false, false, false, false, true, true, true, true]}], \"label\": \"ID: 170\", \"method\": \"restyle\"}], \"direction\": \"right\", \"pad\": {\"r\": 0, \"t\": -10}, \"showactive\": true, \"type\": \"buttons\", \"x\": 0.0, \"xanchor\": \"left\", \"y\": 1.1, \"yanchor\": \"top\"}]},\n",
       "                        {\"responsive\": true}\n",
       "                    ).then(function(){\n",
       "                            \n",
       "var gd = document.getElementById('37926a45-0e5e-4c4d-bc16-5d5e1bcd8695');\n",
       "var x = new MutationObserver(function (mutations, observer) {{\n",
       "        var display = window.getComputedStyle(gd).display;\n",
       "        if (!display || display === 'none') {{\n",
       "            console.log([gd, 'removed!']);\n",
       "            Plotly.purge(gd);\n",
       "            observer.disconnect();\n",
       "        }}\n",
       "}});\n",
       "\n",
       "// Listen for the removal of the full notebook cells\n",
       "var notebookContainer = gd.closest('#notebook-container');\n",
       "if (notebookContainer) {{\n",
       "    x.observe(notebookContainer, {childList: true});\n",
       "}}\n",
       "\n",
       "// Listen for the clearing of the current output cell\n",
       "var outputEl = gd.closest('.output');\n",
       "if (outputEl) {{\n",
       "    x.observe(outputEl, {childList: true});\n",
       "}}\n",
       "\n",
       "                        })\n",
       "                };\n",
       "                });\n",
       "            </script>\n",
       "        </div>"
      ]
     },
     "metadata": {},
     "output_type": "display_data"
    }
   ],
   "source": [
    "#\n",
    "# Visualisation of the spread of optimised model parameters for multiple runs from different initial points.\n",
    "#\n",
    "# This cell needs the above optimised initial parameter from psi_0=(1, 1, 1) and the five runs from a random initial starting point, and their respective objective function scores, as well as the data\n",
    "# [recovered_parameters_transformed, recovered_parameters_scores, data]\n",
    "#\n",
    "\n",
    "import plotly.colors\n",
    "import plotly.graph_objects as go\n",
    "\n",
    "\n",
    "# Get mouse ids\n",
    "mouse_ids = data['#ID'].unique()\n",
    "\n",
    "# Get number of parameters + score (for visualisation)\n",
    "n_params = recovered_parameters_transformed.shape[2] + 1\n",
    "\n",
    "# Define colorscheme\n",
    "colors = plotly.colors.qualitative.Plotly[:n_params]\n",
    "\n",
    "# Get optimised parameters\n",
    "optimised_parameters = recovered_parameters_transformed\n",
    "\n",
    "# Get optimised parameters\n",
    "scores = recovered_parameters_scores\n",
    "\n",
    "# Create figure\n",
    "fig = go.Figure()\n",
    "\n",
    "# Box plot of optimised model parameters\n",
    "for index, id_m in enumerate(mouse_ids):\n",
    "    # Get optimised parameters\n",
    "    parameters = optimised_parameters[index, ...]\n",
    "\n",
    "    # Get scores\n",
    "    score = scores[index, :]\n",
    "\n",
    "    # Create box plot of for initial tumour volume\n",
    "    fig.add_trace(\n",
    "        go.Box(\n",
    "            y=parameters[:, 0],  \n",
    "            name=\"Initial tumour volume in cm^3\",\n",
    "            boxpoints='all',\n",
    "            jitter=0.2,\n",
    "            pointpos=-1.5,\n",
    "            visible=True if index == 0 else False,\n",
    "            marker=dict(\n",
    "                symbol='circle',\n",
    "                opacity=0.7,\n",
    "                line=dict(color='black', width=1)),\n",
    "            marker_color=colors[0],\n",
    "            line_color=colors[0]))\n",
    "\n",
    "    # Create box plot of for exponential tumour growth\n",
    "    fig.add_trace(\n",
    "        go.Box(\n",
    "            y=parameters[:, 1],  \n",
    "            name=\"Exponential growth rate in 1/day\",\n",
    "            boxpoints='all',\n",
    "            jitter=0.2,\n",
    "            pointpos=-1.5,\n",
    "            visible=True if index == 0 else False,\n",
    "            marker=dict(\n",
    "                symbol='circle',\n",
    "                opacity=0.7,\n",
    "                line=dict(color='black', width=1)),\n",
    "            marker_color=colors[1],\n",
    "            line_color=colors[1]))\n",
    "\n",
    "    # Create box plot of for linear tumour growth\n",
    "    fig.add_trace(\n",
    "        go.Box(\n",
    "            y=parameters[:, 2],  \n",
    "            name=\"Linear growth rate in cm^3/day\",\n",
    "            boxpoints='all',\n",
    "            jitter=0.2,\n",
    "            pointpos=-1.5,\n",
    "            visible=True if index == 0 else False,\n",
    "            marker=dict(\n",
    "                symbol='circle',\n",
    "                opacity=0.7,\n",
    "                line=dict(color='black', width=1)),\n",
    "            marker_color=colors[2],\n",
    "            line_color=colors[2]))\n",
    "    \n",
    "    # Create box plot of for objective function score\n",
    "    fig.add_trace(\n",
    "        go.Box(\n",
    "            y=score,  \n",
    "            name=\"Score\",\n",
    "            boxpoints='all',\n",
    "            jitter=0.2,\n",
    "            pointpos=-1.5,\n",
    "            visible=True if index == 0 else False,\n",
    "            marker=dict(\n",
    "                symbol='circle',\n",
    "                opacity=0.7,\n",
    "                line=dict(color='black', width=1)),\n",
    "            marker_color=colors[3],\n",
    "            line_color=colors[3]))\n",
    "\n",
    "# Set figure size\n",
    "fig.update_layout(\n",
    "    autosize=True,\n",
    "    template=\"plotly_white\")\n",
    "\n",
    "# Add switch between mice\n",
    "fig.update_layout(\n",
    "    updatemenus=[\n",
    "        dict(\n",
    "            type = \"buttons\",\n",
    "            direction = \"right\",\n",
    "            buttons=list([\n",
    "                dict(\n",
    "                    args=[{\"visible\": [True]*4 + [False]*(4 * 7)}],\n",
    "                    label=\"ID: %d\" % mouse_ids[0],\n",
    "                    method=\"restyle\"\n",
    "                ),\n",
    "                dict(\n",
    "                    args=[{\"visible\": [False]*4 + [True]*4 + [False]*(4 * 6)}],\n",
    "                    label=\"ID: %d\" % mouse_ids[1],\n",
    "                    method=\"restyle\"\n",
    "                ),\n",
    "                dict(\n",
    "                    args=[{\"visible\": [False]*(4 * 2) + [True]*4 + [False]*(4 * 5)}],\n",
    "                    label=\"ID: %d\" % mouse_ids[2],\n",
    "                    method=\"restyle\"\n",
    "                ),\n",
    "                dict(\n",
    "                    args=[{\"visible\": [False]*(4 * 3) + [True]*4 + [False]*(4 * 4)}],\n",
    "                    label=\"ID: %d\" % mouse_ids[3],\n",
    "                    method=\"restyle\"\n",
    "                ),\n",
    "                dict(\n",
    "                    args=[{\"visible\": [False]*(4 * 4) + [True]*4 + [False]*(4 * 3)}],\n",
    "                    label=\"ID: %d\" % mouse_ids[4],\n",
    "                    method=\"restyle\"\n",
    "                ),\n",
    "                dict(\n",
    "                    args=[{\"visible\": [False]*(4 * 5) + [True]*4 + [False]*(4 * 2)}],\n",
    "                    label=\"ID: %d\" % mouse_ids[5],\n",
    "                    method=\"restyle\"\n",
    "                ),\n",
    "                dict(\n",
    "                    args=[{\"visible\": [False]*(4 * 6) + [True]*4 + [False]* 4}],\n",
    "                    label=\"ID: %d\" % mouse_ids[6],\n",
    "                    method=\"restyle\"\n",
    "                ),\n",
    "                dict(\n",
    "                    args=[{\"visible\": [False]*(4 * 7) + [True]*4}],\n",
    "                    label=\"ID: %d\" % mouse_ids[7],\n",
    "                    method=\"restyle\"\n",
    "                )\n",
    "            ]),\n",
    "            pad={\"r\": 0, \"t\": -10},\n",
    "            showactive=True,\n",
    "            x=0.0,\n",
    "            xanchor=\"left\",\n",
    "            y=1.1,\n",
    "            yanchor=\"top\"\n",
    "        )\n",
    "    ]\n",
    ")\n",
    "\n",
    "# Position legend\n",
    "fig.update_layout(legend=dict(\n",
    "    yanchor=\"bottom\",\n",
    "    y=0.01,\n",
    "    xanchor=\"left\",\n",
    "    x=1.05))\n",
    "\n",
    "# Show figure\n",
    "fig.show()\n"
   ]
  },
  {
   "cell_type": "markdown",
   "metadata": {},
   "source": [
    "The model seems ok but can already see that sometimes the model tries to stay exponential by cranking up the linear growth rate. This limits the interpretability of the linear growth rate. \n",
    "\n",
    "A more feasible parameterisation may be the following\n",
    "\n",
    "\\begin{equation*}\n",
    "    \\frac{\\text{d}V^s_T}{\\text{d}t} = \\frac{\\lambda V^s_T}{V^s_T / V_{\\text{crit}} + 1}.\n",
    "\\end{equation*}\n",
    "\n",
    "$\\lambda $ is exponential growth rate and $V_{\\text{crit}}$ is the critical tumour volume above which the tumour growth transitions to a linear growth phase with linear growth rate $\\lambda V_{\\text{crit}}$.\n",
    "\n",
    "Then $V_{\\text{crit}} = a_0 V^c_T$ and $\\lambda = a_1 / a_0 t^c$. "
   ]
  },
  {
   "cell_type": "code",
   "execution_count": 27,
   "metadata": {},
   "outputs": [],
   "source": [
    "#\n",
    "# Transform dimensionless parameters to new set of biological parameters.\n",
    "# \n",
    "# This cell needs the above inferred dimensionless parameters and the characteristic volume and time scale:\n",
    "# [recovered_parameters, characteristic_volume, characteristic_time]\n",
    "#\n",
    "\n",
    "import numpy as np\n",
    "\n",
    "\n",
    "# Initialise container for backtransformed paramters\n",
    "# Shape (n_mice, n_runs, n_parameters)\n",
    "new_parameters = np.empty(shape=recovered_parameters.shape)\n",
    "\n",
    "# Transform initial volumes\n",
    "new_parameters[:, :, 0] = recovered_parameters[:, :, 0] * characteristic_volume\n",
    "\n",
    "# Transform critical volume \n",
    "# V_crit = a_0 * V^c\n",
    "new_parameters[:, :, 1] = recovered_parameters[:, :, 1] * characteristic_volume\n",
    "\n",
    "# Transform exponential growth rate\n",
    "# lambda = a_1 / a_0 / t^c\n",
    "new_parameters[:, :, 2] = \\\n",
    "    recovered_parameters[:, :, 2] / recovered_parameters[:, :, 1] / characteristic_time\n"
   ]
  },
  {
   "cell_type": "code",
   "execution_count": 28,
   "metadata": {},
   "outputs": [
    {
     "data": {
      "application/vnd.plotly.v1+json": {
       "config": {
        "plotlyServerURL": "https://plot.ly"
       },
       "data": [
        {
         "boxpoints": "all",
         "jitter": 0.2,
         "line": {
          "color": "#636EFA"
         },
         "marker": {
          "color": "#636EFA",
          "line": {
           "color": "black",
           "width": 1
          },
          "opacity": 0.7,
          "symbol": "circle"
         },
         "name": "Initial tumour volume in cm^3",
         "pointpos": -1.5,
         "type": "box",
         "visible": true,
         "y": [
          0.13961516233473997,
          0.13961518492172578,
          0.13961520248151962,
          0.13964469320354414,
          0.13961517162157938,
          0.1396125885964337,
          0.13954253124001023,
          0.1396151603504244,
          0.13961519435743724,
          0.1396152080443933
         ]
        },
        {
         "boxpoints": "all",
         "jitter": 0.2,
         "line": {
          "color": "#EF553B"
         },
         "marker": {
          "color": "#EF553B",
          "line": {
           "color": "black",
           "width": 1
          },
          "opacity": 0.7,
          "symbol": "circle"
         },
         "name": "Critical volume in cm^3",
         "pointpos": -1.5,
         "type": "box",
         "visible": true,
         "y": [
          0.23785781298901582,
          0.23785785075638333,
          0.23785788030058158,
          0.23837977551925044,
          0.2378578284757663,
          0.23784551008260638,
          0.23746250426616686,
          0.23785780927572567,
          0.23785786649008261,
          0.23785788973199729
         ]
        },
        {
         "boxpoints": "all",
         "jitter": 0.2,
         "line": {
          "color": "#00CC96"
         },
         "marker": {
          "color": "#00CC96",
          "line": {
           "color": "black",
           "width": 1
          },
          "opacity": 0.7,
          "symbol": "circle"
         },
         "name": "Exponential growth rate in 1/day",
         "pointpos": -1.5,
         "type": "box",
         "visible": true,
         "y": [
          0.5502852058023807,
          0.5502851262412121,
          0.5502850727813159,
          0.5494994982746457,
          0.5502851698869743,
          0.550307965178278,
          0.5510118096369642,
          0.5502852128078958,
          0.5502850904529715,
          0.5502850444931833
         ]
        },
        {
         "boxpoints": "all",
         "jitter": 0.2,
         "line": {
          "color": "#AB63FA"
         },
         "marker": {
          "color": "#AB63FA",
          "line": {
           "color": "black",
           "width": 1
          },
          "opacity": 0.7,
          "symbol": "circle"
         },
         "name": "Score",
         "pointpos": -1.5,
         "type": "box",
         "visible": true,
         "y": [
          1.1859706982200828e-8,
          1.1859704626480632e-8,
          1.1859714758739927e-8,
          4.637463199390404e-9,
          1.1859704837788615e-8,
          1.2055353774485822e-8,
          3.2608167323635924e-8,
          1.185970238356352e-8,
          1.1859703788370919e-8,
          1.1859711271287577e-8
         ]
        },
        {
         "boxpoints": "all",
         "jitter": 0.2,
         "line": {
          "color": "#636EFA"
         },
         "marker": {
          "color": "#636EFA",
          "line": {
           "color": "black",
           "width": 1
          },
          "opacity": 0.7,
          "symbol": "circle"
         },
         "name": "Initial tumour volume in cm^3",
         "pointpos": -1.5,
         "type": "box",
         "visible": false,
         "y": [
          0.07467445135898927,
          0.07471092799645968,
          0.0746744513589901,
          0.07474032675704667,
          0.07467445135911088,
          0.07467445135897359,
          0.07467445135899034,
          0.07467445135898579,
          0.07467445135899163,
          0.07467445135899056
         ]
        },
        {
         "boxpoints": "all",
         "jitter": 0.2,
         "line": {
          "color": "#EF553B"
         },
         "marker": {
          "color": "#EF553B",
          "line": {
           "color": "black",
           "width": 1
          },
          "opacity": 0.7,
          "symbol": "circle"
         },
         "name": "Critical volume in cm^3",
         "pointpos": -1.5,
         "type": "box",
         "visible": false,
         "y": [
          0.061132791319119355,
          0.061168069825824636,
          0.06113279131914371,
          0.06158023209512238,
          0.06113279132000081,
          0.06113279131901945,
          0.0611327913191367,
          0.061132791319118675,
          0.06113279131914368,
          0.061132791319141296
         ]
        },
        {
         "boxpoints": "all",
         "jitter": 0.2,
         "line": {
          "color": "#00CC96"
         },
         "marker": {
          "color": "#00CC96",
          "line": {
           "color": "black",
           "width": 1
          },
          "opacity": 0.7,
          "symbol": "circle"
         },
         "name": "Exponential growth rate in 1/day",
         "pointpos": -1.5,
         "type": "box",
         "visible": false,
         "y": [
          0.33296314373911895,
          0.33268749771638445,
          0.33296314373901587,
          0.33097046394877894,
          0.33296314373537617,
          0.3329631437395605,
          0.33296314373904295,
          0.3329631437391274,
          0.33296314373901326,
          0.3329631437390243
         ]
        },
        {
         "boxpoints": "all",
         "jitter": 0.2,
         "line": {
          "color": "#AB63FA"
         },
         "marker": {
          "color": "#AB63FA",
          "line": {
           "color": "black",
           "width": 1
          },
          "opacity": 0.7,
          "symbol": "circle"
         },
         "name": "Score",
         "pointpos": -1.5,
         "type": "box",
         "visible": false,
         "y": [
          1.4374775178216895e-28,
          1.1140295436830122e-8,
          9.74867219249931e-30,
          1.3671968027566876e-8,
          2.344470653674269e-25,
          2.1548914295237902e-27,
          8.685366270203118e-30,
          1.409921312177397e-28,
          1.3335138934937221e-30,
          3.632689061103204e-30
         ]
        },
        {
         "boxpoints": "all",
         "jitter": 0.2,
         "line": {
          "color": "#636EFA"
         },
         "marker": {
          "color": "#636EFA",
          "line": {
           "color": "black",
           "width": 1
          },
          "opacity": 0.7,
          "symbol": "circle"
         },
         "name": "Initial tumour volume in cm^3",
         "pointpos": -1.5,
         "type": "box",
         "visible": false,
         "y": [
          0.22088761939162777,
          0.22089128337273017,
          0.22089086619452483,
          0.22089078343303994,
          0.2208908465303827,
          0.22089134844025154,
          0.22089218375747066,
          0.22089067916452823,
          0.22089090183753818,
          0.22089057640907064
         ]
        },
        {
         "boxpoints": "all",
         "jitter": 0.2,
         "line": {
          "color": "#EF553B"
         },
         "marker": {
          "color": "#EF553B",
          "line": {
           "color": "black",
           "width": 1
          },
          "opacity": 0.7,
          "symbol": "circle"
         },
         "name": "Critical volume in cm^3",
         "pointpos": -1.5,
         "type": "box",
         "visible": false,
         "y": [
          925.138250639969,
          938.0020152648063,
          938.145022556103,
          937.70559562865,
          938.2380322518034,
          938.8267630158732,
          943.4164387349746,
          933.7102159337676,
          938.3633917573201,
          936.7757226382696
         ]
        },
        {
         "boxpoints": "all",
         "jitter": 0.2,
         "line": {
          "color": "#00CC96"
         },
         "marker": {
          "color": "#00CC96",
          "line": {
           "color": "black",
           "width": 1
          },
          "opacity": 0.7,
          "symbol": "circle"
         },
         "name": "Exponential growth rate in 1/day",
         "pointpos": -1.5,
         "type": "box",
         "visible": false,
         "y": [
          0.1111960796817578,
          0.11119390949417733,
          0.11119399197028824,
          0.11119403023735382,
          0.1111939470364632,
          0.11119378896135146,
          0.11119311788427769,
          0.11119443032580602,
          0.11119392387173298,
          0.11119418502519406
         ]
        },
        {
         "boxpoints": "all",
         "jitter": 0.2,
         "line": {
          "color": "#AB63FA"
         },
         "marker": {
          "color": "#AB63FA",
          "line": {
           "color": "black",
           "width": 1
          },
          "opacity": 0.7,
          "symbol": "circle"
         },
         "name": "Score",
         "pointpos": -1.5,
         "type": "box",
         "visible": false,
         "y": [
          2.058818695885026e-9,
          1.378442753659529e-9,
          1.36871613149886e-9,
          1.3856510497758828e-9,
          1.3608428000467693e-9,
          1.3342552020350322e-9,
          1.1292970561059872e-9,
          1.590674590432995e-9,
          1.354719426921892e-9,
          1.4313270089462852e-9
         ]
        },
        {
         "boxpoints": "all",
         "jitter": 0.2,
         "line": {
          "color": "#636EFA"
         },
         "marker": {
          "color": "#636EFA",
          "line": {
           "color": "black",
           "width": 1
          },
          "opacity": 0.7,
          "symbol": "circle"
         },
         "name": "Initial tumour volume in cm^3",
         "pointpos": -1.5,
         "type": "box",
         "visible": false,
         "y": [
          0.14895068010822976,
          0.14895068009462897,
          0.14895067843653703,
          0.1489506801310463,
          0.14895067827189348,
          0.14895068012532506,
          0.14895068209474774,
          0.14895067832187137,
          0.1489506784933573,
          0.1489506782767016
         ]
        },
        {
         "boxpoints": "all",
         "jitter": 0.2,
         "line": {
          "color": "#EF553B"
         },
         "marker": {
          "color": "#EF553B",
          "line": {
           "color": "black",
           "width": 1
          },
          "opacity": 0.7,
          "symbol": "circle"
         },
         "name": "Critical volume in cm^3",
         "pointpos": -1.5,
         "type": "box",
         "visible": false,
         "y": [
          1.1895081558808103,
          1.1895081665480982,
          1.1895081206244411,
          1.1895081708209623,
          1.1895081076310032,
          1.1895081455823397,
          1.1895081818196833,
          1.189508125285169,
          1.1895081210313418,
          1.1895081020578313
         ]
        },
        {
         "boxpoints": "all",
         "jitter": 0.2,
         "line": {
          "color": "#00CC96"
         },
         "marker": {
          "color": "#00CC96",
          "line": {
           "color": "black",
           "width": 1
          },
          "opacity": 0.7,
          "symbol": "circle"
         },
         "name": "Exponential growth rate in 1/day",
         "pointpos": -1.5,
         "type": "box",
         "visible": false,
         "y": [
          0.10849697257330565,
          0.10849697231966474,
          0.1084969740604332,
          0.1084969721692051,
          0.10849697455948712,
          0.10849697288271169,
          0.10849697116690905,
          0.10849697393564038,
          0.1084969739983728,
          0.10849697458725885
         ]
        },
        {
         "boxpoints": "all",
         "jitter": 0.2,
         "line": {
          "color": "#AB63FA"
         },
         "marker": {
          "color": "#AB63FA",
          "line": {
           "color": "black",
           "width": 1
          },
          "opacity": 0.7,
          "symbol": "circle"
         },
         "name": "Score",
         "pointpos": -1.5,
         "type": "box",
         "visible": false,
         "y": [
          3.813525066233808e-8,
          3.8135250545960596e-8,
          3.813525065132413e-8,
          3.8135250659490334e-8,
          3.813525067352806e-8,
          3.8135250555661194e-8,
          3.813525062370248e-8,
          3.813525064996304e-8,
          3.8135250650920935e-8,
          3.813525065599096e-8
         ]
        },
        {
         "boxpoints": "all",
         "jitter": 0.2,
         "line": {
          "color": "#636EFA"
         },
         "marker": {
          "color": "#636EFA",
          "line": {
           "color": "black",
           "width": 1
          },
          "opacity": 0.7,
          "symbol": "circle"
         },
         "name": "Initial tumour volume in cm^3",
         "pointpos": -1.5,
         "type": "box",
         "visible": false,
         "y": [
          0.08416732622565821,
          0.0841676226276983,
          0.08416635935287753,
          0.08416575957397009,
          0.08416662301135375,
          0.08416726314227625,
          0.08416569007955703,
          0.08416661668677913,
          0.08416699054399218,
          0.08416631674798652
         ]
        },
        {
         "boxpoints": "all",
         "jitter": 0.2,
         "line": {
          "color": "#EF553B"
         },
         "marker": {
          "color": "#EF553B",
          "line": {
           "color": "black",
           "width": 1
          },
          "opacity": 0.7,
          "symbol": "circle"
         },
         "name": "Critical volume in cm^3",
         "pointpos": -1.5,
         "type": "box",
         "visible": false,
         "y": [
          936.0079574237575,
          938.6790973073133,
          930.2863854905266,
          928.3225623358534,
          931.2591822508628,
          935.6621692457528,
          926.3024923768395,
          930.8133425413106,
          934.3746090156544,
          928.7387640141343
         ]
        },
        {
         "boxpoints": "all",
         "jitter": 0.2,
         "line": {
          "color": "#00CC96"
         },
         "marker": {
          "color": "#00CC96",
          "line": {
           "color": "black",
           "width": 1
          },
          "opacity": 0.7,
          "symbol": "circle"
         },
         "name": "Exponential growth rate in 1/day",
         "pointpos": -1.5,
         "type": "box",
         "visible": false,
         "y": [
          0.10837353946326746,
          0.10837323773054938,
          0.10837436982651977,
          0.10837476021697137,
          0.10837418970024233,
          0.10837360167436096,
          0.10837491948816948,
          0.10837422092903905,
          0.10837380531876771,
          0.10837448584205588
         ]
        },
        {
         "boxpoints": "all",
         "jitter": 0.2,
         "line": {
          "color": "#AB63FA"
         },
         "marker": {
          "color": "#AB63FA",
          "line": {
           "color": "black",
           "width": 1
          },
          "opacity": 0.7,
          "symbol": "circle"
         },
         "name": "Score",
         "pointpos": -1.5,
         "type": "box",
         "visible": false,
         "y": [
          1.581744091580363e-9,
          1.4453232897228545e-9,
          1.9016793697452837e-9,
          2.023051920483536e-9,
          1.8456854416961328e-9,
          1.6007590920179427e-9,
          2.14300130686728e-9,
          1.8714332736438107e-9,
          1.6697477813469058e-9,
          1.9932946572531643e-9
         ]
        },
        {
         "boxpoints": "all",
         "jitter": 0.2,
         "line": {
          "color": "#636EFA"
         },
         "marker": {
          "color": "#636EFA",
          "line": {
           "color": "black",
           "width": 1
          },
          "opacity": 0.7,
          "symbol": "circle"
         },
         "name": "Initial tumour volume in cm^3",
         "pointpos": -1.5,
         "type": "box",
         "visible": false,
         "y": [
          0.1333107914725385,
          0.13327405400303735,
          0.13331079191590778,
          0.13331079158031894,
          0.13331078995800535,
          0.13331079181682792,
          0.13331079341185606,
          0.13331079166983256,
          0.13331079000246834,
          0.133310793346137
         ]
        },
        {
         "boxpoints": "all",
         "jitter": 0.2,
         "line": {
          "color": "#EF553B"
         },
         "marker": {
          "color": "#EF553B",
          "line": {
           "color": "black",
           "width": 1
          },
          "opacity": 0.7,
          "symbol": "circle"
         },
         "name": "Critical volume in cm^3",
         "pointpos": -1.5,
         "type": "box",
         "visible": false,
         "y": [
          0.2753750938246943,
          0.27497233031064,
          0.27537509390006915,
          0.27537508929154053,
          0.2753750871692082,
          0.27537509482847533,
          0.27537509727395904,
          0.27537508666161714,
          0.27537508744009914,
          0.27537509705201846
         ]
        },
        {
         "boxpoints": "all",
         "jitter": 0.2,
         "line": {
          "color": "#00CC96"
         },
         "marker": {
          "color": "#00CC96",
          "line": {
           "color": "black",
           "width": 1
          },
          "opacity": 0.7,
          "symbol": "circle"
         },
         "name": "Exponential growth rate in 1/day",
         "pointpos": -1.5,
         "type": "box",
         "visible": false,
         "y": [
          0.3941653173717761,
          0.39471935289739873,
          0.39416531682304035,
          0.39416532150705974,
          0.3941653244228611,
          0.39416531588644604,
          0.39416531258162,
          0.3941653240531017,
          0.3941653240122285,
          0.39416531283296485
         ]
        },
        {
         "boxpoints": "all",
         "jitter": 0.2,
         "line": {
          "color": "#AB63FA"
         },
         "marker": {
          "color": "#AB63FA",
          "line": {
           "color": "black",
           "width": 1
          },
          "opacity": 0.7,
          "symbol": "circle"
         },
         "name": "Score",
         "pointpos": -1.5,
         "type": "box",
         "visible": false,
         "y": [
          1.0637112311785615e-8,
          1.6029414778777856e-27,
          1.0637112292408544e-8,
          1.063711229435922e-8,
          1.0637112314280763e-8,
          1.0637112296332613e-8,
          1.0637112372608428e-8,
          1.0637112306244033e-8,
          1.063711231792856e-8,
          1.0637112372531652e-8
         ]
        },
        {
         "boxpoints": "all",
         "jitter": 0.2,
         "line": {
          "color": "#636EFA"
         },
         "marker": {
          "color": "#636EFA",
          "line": {
           "color": "black",
           "width": 1
          },
          "opacity": 0.7,
          "symbol": "circle"
         },
         "name": "Initial tumour volume in cm^3",
         "pointpos": -1.5,
         "type": "box",
         "visible": false,
         "y": [
          0.12380949345349215,
          0.12377473355326099,
          0.12380949345348352,
          0.12380949345348848,
          0.12380949345282852,
          0.12380949345279893,
          0.12380949345289505,
          0.12380949345350953,
          0.12380949345352234,
          0.1238094934532278
         ]
        },
        {
         "boxpoints": "all",
         "jitter": 0.2,
         "line": {
          "color": "#EF553B"
         },
         "marker": {
          "color": "#EF553B",
          "line": {
           "color": "black",
           "width": 1
          },
          "opacity": 0.7,
          "symbol": "circle"
         },
         "name": "Critical volume in cm^3",
         "pointpos": -1.5,
         "type": "box",
         "visible": false,
         "y": [
          0.8481581123077607,
          0.8479297389976467,
          0.8481581123078059,
          0.8481581123080606,
          0.8481581122398308,
          0.8481581122705801,
          0.848158112265566,
          0.8481581123067603,
          0.848158112309397,
          0.8481581123017418
         ]
        },
        {
         "boxpoints": "all",
         "jitter": 0.2,
         "line": {
          "color": "#00CC96"
         },
         "marker": {
          "color": "#00CC96",
          "line": {
           "color": "black",
           "width": 1
          },
          "opacity": 0.7,
          "symbol": "circle"
         },
         "name": "Exponential growth rate in 1/day",
         "pointpos": -1.5,
         "type": "box",
         "visible": false,
         "y": [
          0.08606322646369158,
          0.08609970537076816,
          0.08606322646369596,
          0.08606322646368621,
          0.08606322646633412,
          0.0860632264655088,
          0.08606322646559905,
          0.08606322646372444,
          0.08606322646363804,
          0.08606322646450273
         ]
        },
        {
         "boxpoints": "all",
         "jitter": 0.2,
         "line": {
          "color": "#AB63FA"
         },
         "marker": {
          "color": "#AB63FA",
          "line": {
           "color": "black",
           "width": 1
          },
          "opacity": 0.7,
          "symbol": "circle"
         },
         "name": "Score",
         "pointpos": -1.5,
         "type": "box",
         "visible": false,
         "y": [
          3.914925040463892e-24,
          1.0420505191796427e-8,
          3.9124437483977764e-24,
          3.9138410745133035e-24,
          3.4936139691594495e-24,
          9.636667136578046e-26,
          3.2031179000603444e-25,
          4.004393163080265e-24,
          3.9204293559486706e-24,
          2.3482597471209698e-24
         ]
        },
        {
         "boxpoints": "all",
         "jitter": 0.2,
         "line": {
          "color": "#636EFA"
         },
         "marker": {
          "color": "#636EFA",
          "line": {
           "color": "black",
           "width": 1
          },
          "opacity": 0.7,
          "symbol": "circle"
         },
         "name": "Initial tumour volume in cm^3",
         "pointpos": -1.5,
         "type": "box",
         "visible": false,
         "y": [
          0.08704782997971748,
          0.08704782997971934,
          0.0870478299797181,
          0.0870478299797181,
          0.08704782997971856,
          0.08704782997971655,
          0.0870478299797178,
          0.08704782997971965,
          0.0870478299797183,
          0.08704782997971872
         ]
        },
        {
         "boxpoints": "all",
         "jitter": 0.2,
         "line": {
          "color": "#EF553B"
         },
         "marker": {
          "color": "#EF553B",
          "line": {
           "color": "black",
           "width": 1
          },
          "opacity": 0.7,
          "symbol": "circle"
         },
         "name": "Critical volume in cm^3",
         "pointpos": -1.5,
         "type": "box",
         "visible": false,
         "y": [
          2.6713698824284724,
          2.671369882429189,
          2.671369882429317,
          2.6713698824287953,
          2.6713698824289804,
          2.6713698824283494,
          2.671369882428492,
          2.6713698824299588,
          2.6713698824290657,
          2.6713698824289707
         ]
        },
        {
         "boxpoints": "all",
         "jitter": 0.2,
         "line": {
          "color": "#00CC96"
         },
         "marker": {
          "color": "#00CC96",
          "line": {
           "color": "black",
           "width": 1
          },
          "opacity": 0.7,
          "symbol": "circle"
         },
         "name": "Exponential growth rate in 1/day",
         "pointpos": -1.5,
         "type": "box",
         "visible": false,
         "y": [
          0.07234431068339474,
          0.07234431068339255,
          0.07234431068339302,
          0.07234431068339399,
          0.07234431068339332,
          0.07234431068339586,
          0.07234431068339461,
          0.07234431068339024,
          0.07234431068339334,
          0.07234431068339332
         ]
        },
        {
         "boxpoints": "all",
         "jitter": 0.2,
         "line": {
          "color": "#AB63FA"
         },
         "marker": {
          "color": "#AB63FA",
          "line": {
           "color": "black",
           "width": 1
          },
          "opacity": 0.7,
          "symbol": "circle"
         },
         "name": "Score",
         "pointpos": -1.5,
         "type": "box",
         "visible": false,
         "y": [
          2.8225273706972696e-29,
          3.900085174581928e-29,
          1.488474216819119e-29,
          1.5671291957478938e-30,
          3.9654897554933186e-30,
          2.8886060270891957e-29,
          5.987716197099916e-30,
          8.632191344438586e-29,
          1.5998700048024768e-30,
          4.183505025197954e-30
         ]
        }
       ],
       "layout": {
        "autosize": true,
        "legend": {
         "x": 1.05,
         "xanchor": "left",
         "y": 0.01,
         "yanchor": "bottom"
        },
        "template": {
         "data": {
          "bar": [
           {
            "error_x": {
             "color": "#2a3f5f"
            },
            "error_y": {
             "color": "#2a3f5f"
            },
            "marker": {
             "line": {
              "color": "white",
              "width": 0.5
             }
            },
            "type": "bar"
           }
          ],
          "barpolar": [
           {
            "marker": {
             "line": {
              "color": "white",
              "width": 0.5
             }
            },
            "type": "barpolar"
           }
          ],
          "carpet": [
           {
            "aaxis": {
             "endlinecolor": "#2a3f5f",
             "gridcolor": "#C8D4E3",
             "linecolor": "#C8D4E3",
             "minorgridcolor": "#C8D4E3",
             "startlinecolor": "#2a3f5f"
            },
            "baxis": {
             "endlinecolor": "#2a3f5f",
             "gridcolor": "#C8D4E3",
             "linecolor": "#C8D4E3",
             "minorgridcolor": "#C8D4E3",
             "startlinecolor": "#2a3f5f"
            },
            "type": "carpet"
           }
          ],
          "choropleth": [
           {
            "colorbar": {
             "outlinewidth": 0,
             "ticks": ""
            },
            "type": "choropleth"
           }
          ],
          "contour": [
           {
            "colorbar": {
             "outlinewidth": 0,
             "ticks": ""
            },
            "colorscale": [
             [
              0,
              "#0d0887"
             ],
             [
              0.1111111111111111,
              "#46039f"
             ],
             [
              0.2222222222222222,
              "#7201a8"
             ],
             [
              0.3333333333333333,
              "#9c179e"
             ],
             [
              0.4444444444444444,
              "#bd3786"
             ],
             [
              0.5555555555555556,
              "#d8576b"
             ],
             [
              0.6666666666666666,
              "#ed7953"
             ],
             [
              0.7777777777777778,
              "#fb9f3a"
             ],
             [
              0.8888888888888888,
              "#fdca26"
             ],
             [
              1,
              "#f0f921"
             ]
            ],
            "type": "contour"
           }
          ],
          "contourcarpet": [
           {
            "colorbar": {
             "outlinewidth": 0,
             "ticks": ""
            },
            "type": "contourcarpet"
           }
          ],
          "heatmap": [
           {
            "colorbar": {
             "outlinewidth": 0,
             "ticks": ""
            },
            "colorscale": [
             [
              0,
              "#0d0887"
             ],
             [
              0.1111111111111111,
              "#46039f"
             ],
             [
              0.2222222222222222,
              "#7201a8"
             ],
             [
              0.3333333333333333,
              "#9c179e"
             ],
             [
              0.4444444444444444,
              "#bd3786"
             ],
             [
              0.5555555555555556,
              "#d8576b"
             ],
             [
              0.6666666666666666,
              "#ed7953"
             ],
             [
              0.7777777777777778,
              "#fb9f3a"
             ],
             [
              0.8888888888888888,
              "#fdca26"
             ],
             [
              1,
              "#f0f921"
             ]
            ],
            "type": "heatmap"
           }
          ],
          "heatmapgl": [
           {
            "colorbar": {
             "outlinewidth": 0,
             "ticks": ""
            },
            "colorscale": [
             [
              0,
              "#0d0887"
             ],
             [
              0.1111111111111111,
              "#46039f"
             ],
             [
              0.2222222222222222,
              "#7201a8"
             ],
             [
              0.3333333333333333,
              "#9c179e"
             ],
             [
              0.4444444444444444,
              "#bd3786"
             ],
             [
              0.5555555555555556,
              "#d8576b"
             ],
             [
              0.6666666666666666,
              "#ed7953"
             ],
             [
              0.7777777777777778,
              "#fb9f3a"
             ],
             [
              0.8888888888888888,
              "#fdca26"
             ],
             [
              1,
              "#f0f921"
             ]
            ],
            "type": "heatmapgl"
           }
          ],
          "histogram": [
           {
            "marker": {
             "colorbar": {
              "outlinewidth": 0,
              "ticks": ""
             }
            },
            "type": "histogram"
           }
          ],
          "histogram2d": [
           {
            "colorbar": {
             "outlinewidth": 0,
             "ticks": ""
            },
            "colorscale": [
             [
              0,
              "#0d0887"
             ],
             [
              0.1111111111111111,
              "#46039f"
             ],
             [
              0.2222222222222222,
              "#7201a8"
             ],
             [
              0.3333333333333333,
              "#9c179e"
             ],
             [
              0.4444444444444444,
              "#bd3786"
             ],
             [
              0.5555555555555556,
              "#d8576b"
             ],
             [
              0.6666666666666666,
              "#ed7953"
             ],
             [
              0.7777777777777778,
              "#fb9f3a"
             ],
             [
              0.8888888888888888,
              "#fdca26"
             ],
             [
              1,
              "#f0f921"
             ]
            ],
            "type": "histogram2d"
           }
          ],
          "histogram2dcontour": [
           {
            "colorbar": {
             "outlinewidth": 0,
             "ticks": ""
            },
            "colorscale": [
             [
              0,
              "#0d0887"
             ],
             [
              0.1111111111111111,
              "#46039f"
             ],
             [
              0.2222222222222222,
              "#7201a8"
             ],
             [
              0.3333333333333333,
              "#9c179e"
             ],
             [
              0.4444444444444444,
              "#bd3786"
             ],
             [
              0.5555555555555556,
              "#d8576b"
             ],
             [
              0.6666666666666666,
              "#ed7953"
             ],
             [
              0.7777777777777778,
              "#fb9f3a"
             ],
             [
              0.8888888888888888,
              "#fdca26"
             ],
             [
              1,
              "#f0f921"
             ]
            ],
            "type": "histogram2dcontour"
           }
          ],
          "mesh3d": [
           {
            "colorbar": {
             "outlinewidth": 0,
             "ticks": ""
            },
            "type": "mesh3d"
           }
          ],
          "parcoords": [
           {
            "line": {
             "colorbar": {
              "outlinewidth": 0,
              "ticks": ""
             }
            },
            "type": "parcoords"
           }
          ],
          "pie": [
           {
            "automargin": true,
            "type": "pie"
           }
          ],
          "scatter": [
           {
            "marker": {
             "colorbar": {
              "outlinewidth": 0,
              "ticks": ""
             }
            },
            "type": "scatter"
           }
          ],
          "scatter3d": [
           {
            "line": {
             "colorbar": {
              "outlinewidth": 0,
              "ticks": ""
             }
            },
            "marker": {
             "colorbar": {
              "outlinewidth": 0,
              "ticks": ""
             }
            },
            "type": "scatter3d"
           }
          ],
          "scattercarpet": [
           {
            "marker": {
             "colorbar": {
              "outlinewidth": 0,
              "ticks": ""
             }
            },
            "type": "scattercarpet"
           }
          ],
          "scattergeo": [
           {
            "marker": {
             "colorbar": {
              "outlinewidth": 0,
              "ticks": ""
             }
            },
            "type": "scattergeo"
           }
          ],
          "scattergl": [
           {
            "marker": {
             "colorbar": {
              "outlinewidth": 0,
              "ticks": ""
             }
            },
            "type": "scattergl"
           }
          ],
          "scattermapbox": [
           {
            "marker": {
             "colorbar": {
              "outlinewidth": 0,
              "ticks": ""
             }
            },
            "type": "scattermapbox"
           }
          ],
          "scatterpolar": [
           {
            "marker": {
             "colorbar": {
              "outlinewidth": 0,
              "ticks": ""
             }
            },
            "type": "scatterpolar"
           }
          ],
          "scatterpolargl": [
           {
            "marker": {
             "colorbar": {
              "outlinewidth": 0,
              "ticks": ""
             }
            },
            "type": "scatterpolargl"
           }
          ],
          "scatterternary": [
           {
            "marker": {
             "colorbar": {
              "outlinewidth": 0,
              "ticks": ""
             }
            },
            "type": "scatterternary"
           }
          ],
          "surface": [
           {
            "colorbar": {
             "outlinewidth": 0,
             "ticks": ""
            },
            "colorscale": [
             [
              0,
              "#0d0887"
             ],
             [
              0.1111111111111111,
              "#46039f"
             ],
             [
              0.2222222222222222,
              "#7201a8"
             ],
             [
              0.3333333333333333,
              "#9c179e"
             ],
             [
              0.4444444444444444,
              "#bd3786"
             ],
             [
              0.5555555555555556,
              "#d8576b"
             ],
             [
              0.6666666666666666,
              "#ed7953"
             ],
             [
              0.7777777777777778,
              "#fb9f3a"
             ],
             [
              0.8888888888888888,
              "#fdca26"
             ],
             [
              1,
              "#f0f921"
             ]
            ],
            "type": "surface"
           }
          ],
          "table": [
           {
            "cells": {
             "fill": {
              "color": "#EBF0F8"
             },
             "line": {
              "color": "white"
             }
            },
            "header": {
             "fill": {
              "color": "#C8D4E3"
             },
             "line": {
              "color": "white"
             }
            },
            "type": "table"
           }
          ]
         },
         "layout": {
          "annotationdefaults": {
           "arrowcolor": "#2a3f5f",
           "arrowhead": 0,
           "arrowwidth": 1
          },
          "coloraxis": {
           "colorbar": {
            "outlinewidth": 0,
            "ticks": ""
           }
          },
          "colorscale": {
           "diverging": [
            [
             0,
             "#8e0152"
            ],
            [
             0.1,
             "#c51b7d"
            ],
            [
             0.2,
             "#de77ae"
            ],
            [
             0.3,
             "#f1b6da"
            ],
            [
             0.4,
             "#fde0ef"
            ],
            [
             0.5,
             "#f7f7f7"
            ],
            [
             0.6,
             "#e6f5d0"
            ],
            [
             0.7,
             "#b8e186"
            ],
            [
             0.8,
             "#7fbc41"
            ],
            [
             0.9,
             "#4d9221"
            ],
            [
             1,
             "#276419"
            ]
           ],
           "sequential": [
            [
             0,
             "#0d0887"
            ],
            [
             0.1111111111111111,
             "#46039f"
            ],
            [
             0.2222222222222222,
             "#7201a8"
            ],
            [
             0.3333333333333333,
             "#9c179e"
            ],
            [
             0.4444444444444444,
             "#bd3786"
            ],
            [
             0.5555555555555556,
             "#d8576b"
            ],
            [
             0.6666666666666666,
             "#ed7953"
            ],
            [
             0.7777777777777778,
             "#fb9f3a"
            ],
            [
             0.8888888888888888,
             "#fdca26"
            ],
            [
             1,
             "#f0f921"
            ]
           ],
           "sequentialminus": [
            [
             0,
             "#0d0887"
            ],
            [
             0.1111111111111111,
             "#46039f"
            ],
            [
             0.2222222222222222,
             "#7201a8"
            ],
            [
             0.3333333333333333,
             "#9c179e"
            ],
            [
             0.4444444444444444,
             "#bd3786"
            ],
            [
             0.5555555555555556,
             "#d8576b"
            ],
            [
             0.6666666666666666,
             "#ed7953"
            ],
            [
             0.7777777777777778,
             "#fb9f3a"
            ],
            [
             0.8888888888888888,
             "#fdca26"
            ],
            [
             1,
             "#f0f921"
            ]
           ]
          },
          "colorway": [
           "#636efa",
           "#EF553B",
           "#00cc96",
           "#ab63fa",
           "#FFA15A",
           "#19d3f3",
           "#FF6692",
           "#B6E880",
           "#FF97FF",
           "#FECB52"
          ],
          "font": {
           "color": "#2a3f5f"
          },
          "geo": {
           "bgcolor": "white",
           "lakecolor": "white",
           "landcolor": "white",
           "showlakes": true,
           "showland": true,
           "subunitcolor": "#C8D4E3"
          },
          "hoverlabel": {
           "align": "left"
          },
          "hovermode": "closest",
          "mapbox": {
           "style": "light"
          },
          "paper_bgcolor": "white",
          "plot_bgcolor": "white",
          "polar": {
           "angularaxis": {
            "gridcolor": "#EBF0F8",
            "linecolor": "#EBF0F8",
            "ticks": ""
           },
           "bgcolor": "white",
           "radialaxis": {
            "gridcolor": "#EBF0F8",
            "linecolor": "#EBF0F8",
            "ticks": ""
           }
          },
          "scene": {
           "xaxis": {
            "backgroundcolor": "white",
            "gridcolor": "#DFE8F3",
            "gridwidth": 2,
            "linecolor": "#EBF0F8",
            "showbackground": true,
            "ticks": "",
            "zerolinecolor": "#EBF0F8"
           },
           "yaxis": {
            "backgroundcolor": "white",
            "gridcolor": "#DFE8F3",
            "gridwidth": 2,
            "linecolor": "#EBF0F8",
            "showbackground": true,
            "ticks": "",
            "zerolinecolor": "#EBF0F8"
           },
           "zaxis": {
            "backgroundcolor": "white",
            "gridcolor": "#DFE8F3",
            "gridwidth": 2,
            "linecolor": "#EBF0F8",
            "showbackground": true,
            "ticks": "",
            "zerolinecolor": "#EBF0F8"
           }
          },
          "shapedefaults": {
           "line": {
            "color": "#2a3f5f"
           }
          },
          "ternary": {
           "aaxis": {
            "gridcolor": "#DFE8F3",
            "linecolor": "#A2B1C6",
            "ticks": ""
           },
           "baxis": {
            "gridcolor": "#DFE8F3",
            "linecolor": "#A2B1C6",
            "ticks": ""
           },
           "bgcolor": "white",
           "caxis": {
            "gridcolor": "#DFE8F3",
            "linecolor": "#A2B1C6",
            "ticks": ""
           }
          },
          "title": {
           "x": 0.05
          },
          "xaxis": {
           "automargin": true,
           "gridcolor": "#EBF0F8",
           "linecolor": "#EBF0F8",
           "ticks": "",
           "title": {
            "standoff": 15
           },
           "zerolinecolor": "#EBF0F8",
           "zerolinewidth": 2
          },
          "yaxis": {
           "automargin": true,
           "gridcolor": "#EBF0F8",
           "linecolor": "#EBF0F8",
           "ticks": "",
           "title": {
            "standoff": 15
           },
           "zerolinecolor": "#EBF0F8",
           "zerolinewidth": 2
          }
         }
        },
        "updatemenus": [
         {
          "buttons": [
           {
            "args": [
             {
              "visible": [
               true,
               true,
               true,
               true,
               false,
               false,
               false,
               false,
               false,
               false,
               false,
               false,
               false,
               false,
               false,
               false,
               false,
               false,
               false,
               false,
               false,
               false,
               false,
               false,
               false,
               false,
               false,
               false,
               false,
               false,
               false,
               false
              ]
             }
            ],
            "label": "ID: 40",
            "method": "restyle"
           },
           {
            "args": [
             {
              "visible": [
               false,
               false,
               false,
               false,
               true,
               true,
               true,
               true,
               false,
               false,
               false,
               false,
               false,
               false,
               false,
               false,
               false,
               false,
               false,
               false,
               false,
               false,
               false,
               false,
               false,
               false,
               false,
               false,
               false,
               false,
               false,
               false
              ]
             }
            ],
            "label": "ID: 94",
            "method": "restyle"
           },
           {
            "args": [
             {
              "visible": [
               false,
               false,
               false,
               false,
               false,
               false,
               false,
               false,
               true,
               true,
               true,
               true,
               false,
               false,
               false,
               false,
               false,
               false,
               false,
               false,
               false,
               false,
               false,
               false,
               false,
               false,
               false,
               false,
               false,
               false,
               false,
               false
              ]
             }
            ],
            "label": "ID: 95",
            "method": "restyle"
           },
           {
            "args": [
             {
              "visible": [
               false,
               false,
               false,
               false,
               false,
               false,
               false,
               false,
               false,
               false,
               false,
               false,
               true,
               true,
               true,
               true,
               false,
               false,
               false,
               false,
               false,
               false,
               false,
               false,
               false,
               false,
               false,
               false,
               false,
               false,
               false,
               false
              ]
             }
            ],
            "label": "ID: 136",
            "method": "restyle"
           },
           {
            "args": [
             {
              "visible": [
               false,
               false,
               false,
               false,
               false,
               false,
               false,
               false,
               false,
               false,
               false,
               false,
               false,
               false,
               false,
               false,
               true,
               true,
               true,
               true,
               false,
               false,
               false,
               false,
               false,
               false,
               false,
               false,
               false,
               false,
               false,
               false
              ]
             }
            ],
            "label": "ID: 140",
            "method": "restyle"
           },
           {
            "args": [
             {
              "visible": [
               false,
               false,
               false,
               false,
               false,
               false,
               false,
               false,
               false,
               false,
               false,
               false,
               false,
               false,
               false,
               false,
               false,
               false,
               false,
               false,
               true,
               true,
               true,
               true,
               false,
               false,
               false,
               false,
               false,
               false,
               false,
               false
              ]
             }
            ],
            "label": "ID: 155",
            "method": "restyle"
           },
           {
            "args": [
             {
              "visible": [
               false,
               false,
               false,
               false,
               false,
               false,
               false,
               false,
               false,
               false,
               false,
               false,
               false,
               false,
               false,
               false,
               false,
               false,
               false,
               false,
               false,
               false,
               false,
               false,
               true,
               true,
               true,
               true,
               false,
               false,
               false,
               false
              ]
             }
            ],
            "label": "ID: 169",
            "method": "restyle"
           },
           {
            "args": [
             {
              "visible": [
               false,
               false,
               false,
               false,
               false,
               false,
               false,
               false,
               false,
               false,
               false,
               false,
               false,
               false,
               false,
               false,
               false,
               false,
               false,
               false,
               false,
               false,
               false,
               false,
               false,
               false,
               false,
               false,
               true,
               true,
               true,
               true
              ]
             }
            ],
            "label": "ID: 170",
            "method": "restyle"
           }
          ],
          "direction": "right",
          "pad": {
           "r": 0,
           "t": -10
          },
          "showactive": true,
          "type": "buttons",
          "x": 0,
          "xanchor": "left",
          "y": 1.1,
          "yanchor": "top"
         }
        ]
       }
      },
      "text/html": [
       "<div>\n",
       "        \n",
       "        \n",
       "            <div id=\"ba82bda3-3f13-4e47-835c-e4d00e99d142\" class=\"plotly-graph-div\" style=\"height:525px; width:100%;\"></div>\n",
       "            <script type=\"text/javascript\">\n",
       "                require([\"plotly\"], function(Plotly) {\n",
       "                    window.PLOTLYENV=window.PLOTLYENV || {};\n",
       "                    \n",
       "                if (document.getElementById(\"ba82bda3-3f13-4e47-835c-e4d00e99d142\")) {\n",
       "                    Plotly.newPlot(\n",
       "                        'ba82bda3-3f13-4e47-835c-e4d00e99d142',\n",
       "                        [{\"boxpoints\": \"all\", \"jitter\": 0.2, \"line\": {\"color\": \"#636EFA\"}, \"marker\": {\"color\": \"#636EFA\", \"line\": {\"color\": \"black\", \"width\": 1}, \"opacity\": 0.7, \"symbol\": \"circle\"}, \"name\": \"Initial tumour volume in cm^3\", \"pointpos\": -1.5, \"type\": \"box\", \"visible\": true, \"y\": [0.13961516233473997, 0.13961518492172578, 0.13961520248151962, 0.13964469320354414, 0.13961517162157938, 0.1396125885964337, 0.13954253124001023, 0.1396151603504244, 0.13961519435743724, 0.1396152080443933]}, {\"boxpoints\": \"all\", \"jitter\": 0.2, \"line\": {\"color\": \"#EF553B\"}, \"marker\": {\"color\": \"#EF553B\", \"line\": {\"color\": \"black\", \"width\": 1}, \"opacity\": 0.7, \"symbol\": \"circle\"}, \"name\": \"Critical volume in cm^3\", \"pointpos\": -1.5, \"type\": \"box\", \"visible\": true, \"y\": [0.23785781298901582, 0.23785785075638333, 0.23785788030058158, 0.23837977551925044, 0.2378578284757663, 0.23784551008260638, 0.23746250426616686, 0.23785780927572567, 0.23785786649008261, 0.23785788973199729]}, {\"boxpoints\": \"all\", \"jitter\": 0.2, \"line\": {\"color\": \"#00CC96\"}, \"marker\": {\"color\": \"#00CC96\", \"line\": {\"color\": \"black\", \"width\": 1}, \"opacity\": 0.7, \"symbol\": \"circle\"}, \"name\": \"Exponential growth rate in 1/day\", \"pointpos\": -1.5, \"type\": \"box\", \"visible\": true, \"y\": [0.5502852058023807, 0.5502851262412121, 0.5502850727813159, 0.5494994982746457, 0.5502851698869743, 0.550307965178278, 0.5510118096369642, 0.5502852128078958, 0.5502850904529715, 0.5502850444931833]}, {\"boxpoints\": \"all\", \"jitter\": 0.2, \"line\": {\"color\": \"#AB63FA\"}, \"marker\": {\"color\": \"#AB63FA\", \"line\": {\"color\": \"black\", \"width\": 1}, \"opacity\": 0.7, \"symbol\": \"circle\"}, \"name\": \"Score\", \"pointpos\": -1.5, \"type\": \"box\", \"visible\": true, \"y\": [1.1859706982200828e-08, 1.1859704626480632e-08, 1.1859714758739927e-08, 4.637463199390404e-09, 1.1859704837788615e-08, 1.2055353774485822e-08, 3.2608167323635924e-08, 1.185970238356352e-08, 1.1859703788370919e-08, 1.1859711271287577e-08]}, {\"boxpoints\": \"all\", \"jitter\": 0.2, \"line\": {\"color\": \"#636EFA\"}, \"marker\": {\"color\": \"#636EFA\", \"line\": {\"color\": \"black\", \"width\": 1}, \"opacity\": 0.7, \"symbol\": \"circle\"}, \"name\": \"Initial tumour volume in cm^3\", \"pointpos\": -1.5, \"type\": \"box\", \"visible\": false, \"y\": [0.07467445135898927, 0.07471092799645968, 0.0746744513589901, 0.07474032675704667, 0.07467445135911088, 0.07467445135897359, 0.07467445135899034, 0.07467445135898579, 0.07467445135899163, 0.07467445135899056]}, {\"boxpoints\": \"all\", \"jitter\": 0.2, \"line\": {\"color\": \"#EF553B\"}, \"marker\": {\"color\": \"#EF553B\", \"line\": {\"color\": \"black\", \"width\": 1}, \"opacity\": 0.7, \"symbol\": \"circle\"}, \"name\": \"Critical volume in cm^3\", \"pointpos\": -1.5, \"type\": \"box\", \"visible\": false, \"y\": [0.061132791319119355, 0.061168069825824636, 0.06113279131914371, 0.06158023209512238, 0.06113279132000081, 0.06113279131901945, 0.0611327913191367, 0.061132791319118675, 0.06113279131914368, 0.061132791319141296]}, {\"boxpoints\": \"all\", \"jitter\": 0.2, \"line\": {\"color\": \"#00CC96\"}, \"marker\": {\"color\": \"#00CC96\", \"line\": {\"color\": \"black\", \"width\": 1}, \"opacity\": 0.7, \"symbol\": \"circle\"}, \"name\": \"Exponential growth rate in 1/day\", \"pointpos\": -1.5, \"type\": \"box\", \"visible\": false, \"y\": [0.33296314373911895, 0.33268749771638445, 0.33296314373901587, 0.33097046394877894, 0.33296314373537617, 0.3329631437395605, 0.33296314373904295, 0.3329631437391274, 0.33296314373901326, 0.3329631437390243]}, {\"boxpoints\": \"all\", \"jitter\": 0.2, \"line\": {\"color\": \"#AB63FA\"}, \"marker\": {\"color\": \"#AB63FA\", \"line\": {\"color\": \"black\", \"width\": 1}, \"opacity\": 0.7, \"symbol\": \"circle\"}, \"name\": \"Score\", \"pointpos\": -1.5, \"type\": \"box\", \"visible\": false, \"y\": [1.4374775178216895e-28, 1.1140295436830122e-08, 9.74867219249931e-30, 1.3671968027566876e-08, 2.344470653674269e-25, 2.1548914295237902e-27, 8.685366270203118e-30, 1.409921312177397e-28, 1.3335138934937221e-30, 3.632689061103204e-30]}, {\"boxpoints\": \"all\", \"jitter\": 0.2, \"line\": {\"color\": \"#636EFA\"}, \"marker\": {\"color\": \"#636EFA\", \"line\": {\"color\": \"black\", \"width\": 1}, \"opacity\": 0.7, \"symbol\": \"circle\"}, \"name\": \"Initial tumour volume in cm^3\", \"pointpos\": -1.5, \"type\": \"box\", \"visible\": false, \"y\": [0.22088761939162777, 0.22089128337273017, 0.22089086619452483, 0.22089078343303994, 0.2208908465303827, 0.22089134844025154, 0.22089218375747066, 0.22089067916452823, 0.22089090183753818, 0.22089057640907064]}, {\"boxpoints\": \"all\", \"jitter\": 0.2, \"line\": {\"color\": \"#EF553B\"}, \"marker\": {\"color\": \"#EF553B\", \"line\": {\"color\": \"black\", \"width\": 1}, \"opacity\": 0.7, \"symbol\": \"circle\"}, \"name\": \"Critical volume in cm^3\", \"pointpos\": -1.5, \"type\": \"box\", \"visible\": false, \"y\": [925.138250639969, 938.0020152648063, 938.145022556103, 937.70559562865, 938.2380322518034, 938.8267630158732, 943.4164387349746, 933.7102159337676, 938.3633917573201, 936.7757226382696]}, {\"boxpoints\": \"all\", \"jitter\": 0.2, \"line\": {\"color\": \"#00CC96\"}, \"marker\": {\"color\": \"#00CC96\", \"line\": {\"color\": \"black\", \"width\": 1}, \"opacity\": 0.7, \"symbol\": \"circle\"}, \"name\": \"Exponential growth rate in 1/day\", \"pointpos\": -1.5, \"type\": \"box\", \"visible\": false, \"y\": [0.1111960796817578, 0.11119390949417733, 0.11119399197028824, 0.11119403023735382, 0.1111939470364632, 0.11119378896135146, 0.11119311788427769, 0.11119443032580602, 0.11119392387173298, 0.11119418502519406]}, {\"boxpoints\": \"all\", \"jitter\": 0.2, \"line\": {\"color\": \"#AB63FA\"}, \"marker\": {\"color\": \"#AB63FA\", \"line\": {\"color\": \"black\", \"width\": 1}, \"opacity\": 0.7, \"symbol\": \"circle\"}, \"name\": \"Score\", \"pointpos\": -1.5, \"type\": \"box\", \"visible\": false, \"y\": [2.058818695885026e-09, 1.378442753659529e-09, 1.36871613149886e-09, 1.3856510497758828e-09, 1.3608428000467693e-09, 1.3342552020350322e-09, 1.1292970561059872e-09, 1.590674590432995e-09, 1.354719426921892e-09, 1.4313270089462852e-09]}, {\"boxpoints\": \"all\", \"jitter\": 0.2, \"line\": {\"color\": \"#636EFA\"}, \"marker\": {\"color\": \"#636EFA\", \"line\": {\"color\": \"black\", \"width\": 1}, \"opacity\": 0.7, \"symbol\": \"circle\"}, \"name\": \"Initial tumour volume in cm^3\", \"pointpos\": -1.5, \"type\": \"box\", \"visible\": false, \"y\": [0.14895068010822976, 0.14895068009462897, 0.14895067843653703, 0.1489506801310463, 0.14895067827189348, 0.14895068012532506, 0.14895068209474774, 0.14895067832187137, 0.1489506784933573, 0.1489506782767016]}, {\"boxpoints\": \"all\", \"jitter\": 0.2, \"line\": {\"color\": \"#EF553B\"}, \"marker\": {\"color\": \"#EF553B\", \"line\": {\"color\": \"black\", \"width\": 1}, \"opacity\": 0.7, \"symbol\": \"circle\"}, \"name\": \"Critical volume in cm^3\", \"pointpos\": -1.5, \"type\": \"box\", \"visible\": false, \"y\": [1.1895081558808103, 1.1895081665480982, 1.1895081206244411, 1.1895081708209623, 1.1895081076310032, 1.1895081455823397, 1.1895081818196833, 1.189508125285169, 1.1895081210313418, 1.1895081020578313]}, {\"boxpoints\": \"all\", \"jitter\": 0.2, \"line\": {\"color\": \"#00CC96\"}, \"marker\": {\"color\": \"#00CC96\", \"line\": {\"color\": \"black\", \"width\": 1}, \"opacity\": 0.7, \"symbol\": \"circle\"}, \"name\": \"Exponential growth rate in 1/day\", \"pointpos\": -1.5, \"type\": \"box\", \"visible\": false, \"y\": [0.10849697257330565, 0.10849697231966474, 0.1084969740604332, 0.1084969721692051, 0.10849697455948712, 0.10849697288271169, 0.10849697116690905, 0.10849697393564038, 0.1084969739983728, 0.10849697458725885]}, {\"boxpoints\": \"all\", \"jitter\": 0.2, \"line\": {\"color\": \"#AB63FA\"}, \"marker\": {\"color\": \"#AB63FA\", \"line\": {\"color\": \"black\", \"width\": 1}, \"opacity\": 0.7, \"symbol\": \"circle\"}, \"name\": \"Score\", \"pointpos\": -1.5, \"type\": \"box\", \"visible\": false, \"y\": [3.813525066233808e-08, 3.8135250545960596e-08, 3.813525065132413e-08, 3.8135250659490334e-08, 3.813525067352806e-08, 3.8135250555661194e-08, 3.813525062370248e-08, 3.813525064996304e-08, 3.8135250650920935e-08, 3.813525065599096e-08]}, {\"boxpoints\": \"all\", \"jitter\": 0.2, \"line\": {\"color\": \"#636EFA\"}, \"marker\": {\"color\": \"#636EFA\", \"line\": {\"color\": \"black\", \"width\": 1}, \"opacity\": 0.7, \"symbol\": \"circle\"}, \"name\": \"Initial tumour volume in cm^3\", \"pointpos\": -1.5, \"type\": \"box\", \"visible\": false, \"y\": [0.08416732622565821, 0.0841676226276983, 0.08416635935287753, 0.08416575957397009, 0.08416662301135375, 0.08416726314227625, 0.08416569007955703, 0.08416661668677913, 0.08416699054399218, 0.08416631674798652]}, {\"boxpoints\": \"all\", \"jitter\": 0.2, \"line\": {\"color\": \"#EF553B\"}, \"marker\": {\"color\": \"#EF553B\", \"line\": {\"color\": \"black\", \"width\": 1}, \"opacity\": 0.7, \"symbol\": \"circle\"}, \"name\": \"Critical volume in cm^3\", \"pointpos\": -1.5, \"type\": \"box\", \"visible\": false, \"y\": [936.0079574237575, 938.6790973073133, 930.2863854905266, 928.3225623358534, 931.2591822508628, 935.6621692457528, 926.3024923768395, 930.8133425413106, 934.3746090156544, 928.7387640141343]}, {\"boxpoints\": \"all\", \"jitter\": 0.2, \"line\": {\"color\": \"#00CC96\"}, \"marker\": {\"color\": \"#00CC96\", \"line\": {\"color\": \"black\", \"width\": 1}, \"opacity\": 0.7, \"symbol\": \"circle\"}, \"name\": \"Exponential growth rate in 1/day\", \"pointpos\": -1.5, \"type\": \"box\", \"visible\": false, \"y\": [0.10837353946326746, 0.10837323773054938, 0.10837436982651977, 0.10837476021697137, 0.10837418970024233, 0.10837360167436096, 0.10837491948816948, 0.10837422092903905, 0.10837380531876771, 0.10837448584205588]}, {\"boxpoints\": \"all\", \"jitter\": 0.2, \"line\": {\"color\": \"#AB63FA\"}, \"marker\": {\"color\": \"#AB63FA\", \"line\": {\"color\": \"black\", \"width\": 1}, \"opacity\": 0.7, \"symbol\": \"circle\"}, \"name\": \"Score\", \"pointpos\": -1.5, \"type\": \"box\", \"visible\": false, \"y\": [1.581744091580363e-09, 1.4453232897228545e-09, 1.9016793697452837e-09, 2.023051920483536e-09, 1.8456854416961328e-09, 1.6007590920179427e-09, 2.14300130686728e-09, 1.8714332736438107e-09, 1.6697477813469058e-09, 1.9932946572531643e-09]}, {\"boxpoints\": \"all\", \"jitter\": 0.2, \"line\": {\"color\": \"#636EFA\"}, \"marker\": {\"color\": \"#636EFA\", \"line\": {\"color\": \"black\", \"width\": 1}, \"opacity\": 0.7, \"symbol\": \"circle\"}, \"name\": \"Initial tumour volume in cm^3\", \"pointpos\": -1.5, \"type\": \"box\", \"visible\": false, \"y\": [0.1333107914725385, 0.13327405400303735, 0.13331079191590778, 0.13331079158031894, 0.13331078995800535, 0.13331079181682792, 0.13331079341185606, 0.13331079166983256, 0.13331079000246834, 0.133310793346137]}, {\"boxpoints\": \"all\", \"jitter\": 0.2, \"line\": {\"color\": \"#EF553B\"}, \"marker\": {\"color\": \"#EF553B\", \"line\": {\"color\": \"black\", \"width\": 1}, \"opacity\": 0.7, \"symbol\": \"circle\"}, \"name\": \"Critical volume in cm^3\", \"pointpos\": -1.5, \"type\": \"box\", \"visible\": false, \"y\": [0.2753750938246943, 0.27497233031064, 0.27537509390006915, 0.27537508929154053, 0.2753750871692082, 0.27537509482847533, 0.27537509727395904, 0.27537508666161714, 0.27537508744009914, 0.27537509705201846]}, {\"boxpoints\": \"all\", \"jitter\": 0.2, \"line\": {\"color\": \"#00CC96\"}, \"marker\": {\"color\": \"#00CC96\", \"line\": {\"color\": \"black\", \"width\": 1}, \"opacity\": 0.7, \"symbol\": \"circle\"}, \"name\": \"Exponential growth rate in 1/day\", \"pointpos\": -1.5, \"type\": \"box\", \"visible\": false, \"y\": [0.3941653173717761, 0.39471935289739873, 0.39416531682304035, 0.39416532150705974, 0.3941653244228611, 0.39416531588644604, 0.39416531258162, 0.3941653240531017, 0.3941653240122285, 0.39416531283296485]}, {\"boxpoints\": \"all\", \"jitter\": 0.2, \"line\": {\"color\": \"#AB63FA\"}, \"marker\": {\"color\": \"#AB63FA\", \"line\": {\"color\": \"black\", \"width\": 1}, \"opacity\": 0.7, \"symbol\": \"circle\"}, \"name\": \"Score\", \"pointpos\": -1.5, \"type\": \"box\", \"visible\": false, \"y\": [1.0637112311785615e-08, 1.6029414778777856e-27, 1.0637112292408544e-08, 1.063711229435922e-08, 1.0637112314280763e-08, 1.0637112296332613e-08, 1.0637112372608428e-08, 1.0637112306244033e-08, 1.063711231792856e-08, 1.0637112372531652e-08]}, {\"boxpoints\": \"all\", \"jitter\": 0.2, \"line\": {\"color\": \"#636EFA\"}, \"marker\": {\"color\": \"#636EFA\", \"line\": {\"color\": \"black\", \"width\": 1}, \"opacity\": 0.7, \"symbol\": \"circle\"}, \"name\": \"Initial tumour volume in cm^3\", \"pointpos\": -1.5, \"type\": \"box\", \"visible\": false, \"y\": [0.12380949345349215, 0.12377473355326099, 0.12380949345348352, 0.12380949345348848, 0.12380949345282852, 0.12380949345279893, 0.12380949345289505, 0.12380949345350953, 0.12380949345352234, 0.1238094934532278]}, {\"boxpoints\": \"all\", \"jitter\": 0.2, \"line\": {\"color\": \"#EF553B\"}, \"marker\": {\"color\": \"#EF553B\", \"line\": {\"color\": \"black\", \"width\": 1}, \"opacity\": 0.7, \"symbol\": \"circle\"}, \"name\": \"Critical volume in cm^3\", \"pointpos\": -1.5, \"type\": \"box\", \"visible\": false, \"y\": [0.8481581123077607, 0.8479297389976467, 0.8481581123078059, 0.8481581123080606, 0.8481581122398308, 0.8481581122705801, 0.848158112265566, 0.8481581123067603, 0.848158112309397, 0.8481581123017418]}, {\"boxpoints\": \"all\", \"jitter\": 0.2, \"line\": {\"color\": \"#00CC96\"}, \"marker\": {\"color\": \"#00CC96\", \"line\": {\"color\": \"black\", \"width\": 1}, \"opacity\": 0.7, \"symbol\": \"circle\"}, \"name\": \"Exponential growth rate in 1/day\", \"pointpos\": -1.5, \"type\": \"box\", \"visible\": false, \"y\": [0.08606322646369158, 0.08609970537076816, 0.08606322646369596, 0.08606322646368621, 0.08606322646633412, 0.0860632264655088, 0.08606322646559905, 0.08606322646372444, 0.08606322646363804, 0.08606322646450273]}, {\"boxpoints\": \"all\", \"jitter\": 0.2, \"line\": {\"color\": \"#AB63FA\"}, \"marker\": {\"color\": \"#AB63FA\", \"line\": {\"color\": \"black\", \"width\": 1}, \"opacity\": 0.7, \"symbol\": \"circle\"}, \"name\": \"Score\", \"pointpos\": -1.5, \"type\": \"box\", \"visible\": false, \"y\": [3.914925040463892e-24, 1.0420505191796427e-08, 3.9124437483977764e-24, 3.9138410745133035e-24, 3.4936139691594495e-24, 9.636667136578046e-26, 3.2031179000603444e-25, 4.004393163080265e-24, 3.9204293559486706e-24, 2.3482597471209698e-24]}, {\"boxpoints\": \"all\", \"jitter\": 0.2, \"line\": {\"color\": \"#636EFA\"}, \"marker\": {\"color\": \"#636EFA\", \"line\": {\"color\": \"black\", \"width\": 1}, \"opacity\": 0.7, \"symbol\": \"circle\"}, \"name\": \"Initial tumour volume in cm^3\", \"pointpos\": -1.5, \"type\": \"box\", \"visible\": false, \"y\": [0.08704782997971748, 0.08704782997971934, 0.0870478299797181, 0.0870478299797181, 0.08704782997971856, 0.08704782997971655, 0.0870478299797178, 0.08704782997971965, 0.0870478299797183, 0.08704782997971872]}, {\"boxpoints\": \"all\", \"jitter\": 0.2, \"line\": {\"color\": \"#EF553B\"}, \"marker\": {\"color\": \"#EF553B\", \"line\": {\"color\": \"black\", \"width\": 1}, \"opacity\": 0.7, \"symbol\": \"circle\"}, \"name\": \"Critical volume in cm^3\", \"pointpos\": -1.5, \"type\": \"box\", \"visible\": false, \"y\": [2.6713698824284724, 2.671369882429189, 2.671369882429317, 2.6713698824287953, 2.6713698824289804, 2.6713698824283494, 2.671369882428492, 2.6713698824299588, 2.6713698824290657, 2.6713698824289707]}, {\"boxpoints\": \"all\", \"jitter\": 0.2, \"line\": {\"color\": \"#00CC96\"}, \"marker\": {\"color\": \"#00CC96\", \"line\": {\"color\": \"black\", \"width\": 1}, \"opacity\": 0.7, \"symbol\": \"circle\"}, \"name\": \"Exponential growth rate in 1/day\", \"pointpos\": -1.5, \"type\": \"box\", \"visible\": false, \"y\": [0.07234431068339474, 0.07234431068339255, 0.07234431068339302, 0.07234431068339399, 0.07234431068339332, 0.07234431068339586, 0.07234431068339461, 0.07234431068339024, 0.07234431068339334, 0.07234431068339332]}, {\"boxpoints\": \"all\", \"jitter\": 0.2, \"line\": {\"color\": \"#AB63FA\"}, \"marker\": {\"color\": \"#AB63FA\", \"line\": {\"color\": \"black\", \"width\": 1}, \"opacity\": 0.7, \"symbol\": \"circle\"}, \"name\": \"Score\", \"pointpos\": -1.5, \"type\": \"box\", \"visible\": false, \"y\": [2.8225273706972696e-29, 3.900085174581928e-29, 1.488474216819119e-29, 1.5671291957478938e-30, 3.9654897554933186e-30, 2.8886060270891957e-29, 5.987716197099916e-30, 8.632191344438586e-29, 1.5998700048024768e-30, 4.183505025197954e-30]}],\n",
       "                        {\"autosize\": true, \"legend\": {\"x\": 1.05, \"xanchor\": \"left\", \"y\": 0.01, \"yanchor\": \"bottom\"}, \"template\": {\"data\": {\"bar\": [{\"error_x\": {\"color\": \"#2a3f5f\"}, \"error_y\": {\"color\": \"#2a3f5f\"}, \"marker\": {\"line\": {\"color\": \"white\", \"width\": 0.5}}, \"type\": \"bar\"}], \"barpolar\": [{\"marker\": {\"line\": {\"color\": \"white\", \"width\": 0.5}}, \"type\": \"barpolar\"}], \"carpet\": [{\"aaxis\": {\"endlinecolor\": \"#2a3f5f\", \"gridcolor\": \"#C8D4E3\", \"linecolor\": \"#C8D4E3\", \"minorgridcolor\": \"#C8D4E3\", \"startlinecolor\": \"#2a3f5f\"}, \"baxis\": {\"endlinecolor\": \"#2a3f5f\", \"gridcolor\": \"#C8D4E3\", \"linecolor\": \"#C8D4E3\", \"minorgridcolor\": \"#C8D4E3\", \"startlinecolor\": \"#2a3f5f\"}, \"type\": \"carpet\"}], \"choropleth\": [{\"colorbar\": {\"outlinewidth\": 0, \"ticks\": \"\"}, \"type\": \"choropleth\"}], \"contour\": [{\"colorbar\": {\"outlinewidth\": 0, \"ticks\": \"\"}, \"colorscale\": [[0.0, \"#0d0887\"], [0.1111111111111111, \"#46039f\"], [0.2222222222222222, \"#7201a8\"], [0.3333333333333333, \"#9c179e\"], [0.4444444444444444, \"#bd3786\"], [0.5555555555555556, \"#d8576b\"], [0.6666666666666666, \"#ed7953\"], [0.7777777777777778, \"#fb9f3a\"], [0.8888888888888888, \"#fdca26\"], [1.0, \"#f0f921\"]], \"type\": \"contour\"}], \"contourcarpet\": [{\"colorbar\": {\"outlinewidth\": 0, \"ticks\": \"\"}, \"type\": \"contourcarpet\"}], \"heatmap\": [{\"colorbar\": {\"outlinewidth\": 0, \"ticks\": \"\"}, \"colorscale\": [[0.0, \"#0d0887\"], [0.1111111111111111, \"#46039f\"], [0.2222222222222222, \"#7201a8\"], [0.3333333333333333, \"#9c179e\"], [0.4444444444444444, \"#bd3786\"], [0.5555555555555556, \"#d8576b\"], [0.6666666666666666, \"#ed7953\"], [0.7777777777777778, \"#fb9f3a\"], [0.8888888888888888, \"#fdca26\"], [1.0, \"#f0f921\"]], \"type\": \"heatmap\"}], \"heatmapgl\": [{\"colorbar\": {\"outlinewidth\": 0, \"ticks\": \"\"}, \"colorscale\": [[0.0, \"#0d0887\"], [0.1111111111111111, \"#46039f\"], [0.2222222222222222, \"#7201a8\"], [0.3333333333333333, \"#9c179e\"], [0.4444444444444444, \"#bd3786\"], [0.5555555555555556, \"#d8576b\"], [0.6666666666666666, \"#ed7953\"], [0.7777777777777778, \"#fb9f3a\"], [0.8888888888888888, \"#fdca26\"], [1.0, \"#f0f921\"]], \"type\": \"heatmapgl\"}], \"histogram\": [{\"marker\": {\"colorbar\": {\"outlinewidth\": 0, \"ticks\": \"\"}}, \"type\": \"histogram\"}], \"histogram2d\": [{\"colorbar\": {\"outlinewidth\": 0, \"ticks\": \"\"}, \"colorscale\": [[0.0, \"#0d0887\"], [0.1111111111111111, \"#46039f\"], [0.2222222222222222, \"#7201a8\"], [0.3333333333333333, \"#9c179e\"], [0.4444444444444444, \"#bd3786\"], [0.5555555555555556, \"#d8576b\"], [0.6666666666666666, \"#ed7953\"], [0.7777777777777778, \"#fb9f3a\"], [0.8888888888888888, \"#fdca26\"], [1.0, \"#f0f921\"]], \"type\": \"histogram2d\"}], \"histogram2dcontour\": [{\"colorbar\": {\"outlinewidth\": 0, \"ticks\": \"\"}, \"colorscale\": [[0.0, \"#0d0887\"], [0.1111111111111111, \"#46039f\"], [0.2222222222222222, \"#7201a8\"], [0.3333333333333333, \"#9c179e\"], [0.4444444444444444, \"#bd3786\"], [0.5555555555555556, \"#d8576b\"], [0.6666666666666666, \"#ed7953\"], [0.7777777777777778, \"#fb9f3a\"], [0.8888888888888888, \"#fdca26\"], [1.0, \"#f0f921\"]], \"type\": \"histogram2dcontour\"}], \"mesh3d\": [{\"colorbar\": {\"outlinewidth\": 0, \"ticks\": \"\"}, \"type\": \"mesh3d\"}], \"parcoords\": [{\"line\": {\"colorbar\": {\"outlinewidth\": 0, \"ticks\": \"\"}}, \"type\": \"parcoords\"}], \"pie\": [{\"automargin\": true, \"type\": \"pie\"}], \"scatter\": [{\"marker\": {\"colorbar\": {\"outlinewidth\": 0, \"ticks\": \"\"}}, \"type\": \"scatter\"}], \"scatter3d\": [{\"line\": {\"colorbar\": {\"outlinewidth\": 0, \"ticks\": \"\"}}, \"marker\": {\"colorbar\": {\"outlinewidth\": 0, \"ticks\": \"\"}}, \"type\": \"scatter3d\"}], \"scattercarpet\": [{\"marker\": {\"colorbar\": {\"outlinewidth\": 0, \"ticks\": \"\"}}, \"type\": \"scattercarpet\"}], \"scattergeo\": [{\"marker\": {\"colorbar\": {\"outlinewidth\": 0, \"ticks\": \"\"}}, \"type\": \"scattergeo\"}], \"scattergl\": [{\"marker\": {\"colorbar\": {\"outlinewidth\": 0, \"ticks\": \"\"}}, \"type\": \"scattergl\"}], \"scattermapbox\": [{\"marker\": {\"colorbar\": {\"outlinewidth\": 0, \"ticks\": \"\"}}, \"type\": \"scattermapbox\"}], \"scatterpolar\": [{\"marker\": {\"colorbar\": {\"outlinewidth\": 0, \"ticks\": \"\"}}, \"type\": \"scatterpolar\"}], \"scatterpolargl\": [{\"marker\": {\"colorbar\": {\"outlinewidth\": 0, \"ticks\": \"\"}}, \"type\": \"scatterpolargl\"}], \"scatterternary\": [{\"marker\": {\"colorbar\": {\"outlinewidth\": 0, \"ticks\": \"\"}}, \"type\": \"scatterternary\"}], \"surface\": [{\"colorbar\": {\"outlinewidth\": 0, \"ticks\": \"\"}, \"colorscale\": [[0.0, \"#0d0887\"], [0.1111111111111111, \"#46039f\"], [0.2222222222222222, \"#7201a8\"], [0.3333333333333333, \"#9c179e\"], [0.4444444444444444, \"#bd3786\"], [0.5555555555555556, \"#d8576b\"], [0.6666666666666666, \"#ed7953\"], [0.7777777777777778, \"#fb9f3a\"], [0.8888888888888888, \"#fdca26\"], [1.0, \"#f0f921\"]], \"type\": \"surface\"}], \"table\": [{\"cells\": {\"fill\": {\"color\": \"#EBF0F8\"}, \"line\": {\"color\": \"white\"}}, \"header\": {\"fill\": {\"color\": \"#C8D4E3\"}, \"line\": {\"color\": \"white\"}}, \"type\": \"table\"}]}, \"layout\": {\"annotationdefaults\": {\"arrowcolor\": \"#2a3f5f\", \"arrowhead\": 0, \"arrowwidth\": 1}, \"coloraxis\": {\"colorbar\": {\"outlinewidth\": 0, \"ticks\": \"\"}}, \"colorscale\": {\"diverging\": [[0, \"#8e0152\"], [0.1, \"#c51b7d\"], [0.2, \"#de77ae\"], [0.3, \"#f1b6da\"], [0.4, \"#fde0ef\"], [0.5, \"#f7f7f7\"], [0.6, \"#e6f5d0\"], [0.7, \"#b8e186\"], [0.8, \"#7fbc41\"], [0.9, \"#4d9221\"], [1, \"#276419\"]], \"sequential\": [[0.0, \"#0d0887\"], [0.1111111111111111, \"#46039f\"], [0.2222222222222222, \"#7201a8\"], [0.3333333333333333, \"#9c179e\"], [0.4444444444444444, \"#bd3786\"], [0.5555555555555556, \"#d8576b\"], [0.6666666666666666, \"#ed7953\"], [0.7777777777777778, \"#fb9f3a\"], [0.8888888888888888, \"#fdca26\"], [1.0, \"#f0f921\"]], \"sequentialminus\": [[0.0, \"#0d0887\"], [0.1111111111111111, \"#46039f\"], [0.2222222222222222, \"#7201a8\"], [0.3333333333333333, \"#9c179e\"], [0.4444444444444444, \"#bd3786\"], [0.5555555555555556, \"#d8576b\"], [0.6666666666666666, \"#ed7953\"], [0.7777777777777778, \"#fb9f3a\"], [0.8888888888888888, \"#fdca26\"], [1.0, \"#f0f921\"]]}, \"colorway\": [\"#636efa\", \"#EF553B\", \"#00cc96\", \"#ab63fa\", \"#FFA15A\", \"#19d3f3\", \"#FF6692\", \"#B6E880\", \"#FF97FF\", \"#FECB52\"], \"font\": {\"color\": \"#2a3f5f\"}, \"geo\": {\"bgcolor\": \"white\", \"lakecolor\": \"white\", \"landcolor\": \"white\", \"showlakes\": true, \"showland\": true, \"subunitcolor\": \"#C8D4E3\"}, \"hoverlabel\": {\"align\": \"left\"}, \"hovermode\": \"closest\", \"mapbox\": {\"style\": \"light\"}, \"paper_bgcolor\": \"white\", \"plot_bgcolor\": \"white\", \"polar\": {\"angularaxis\": {\"gridcolor\": \"#EBF0F8\", \"linecolor\": \"#EBF0F8\", \"ticks\": \"\"}, \"bgcolor\": \"white\", \"radialaxis\": {\"gridcolor\": \"#EBF0F8\", \"linecolor\": \"#EBF0F8\", \"ticks\": \"\"}}, \"scene\": {\"xaxis\": {\"backgroundcolor\": \"white\", \"gridcolor\": \"#DFE8F3\", \"gridwidth\": 2, \"linecolor\": \"#EBF0F8\", \"showbackground\": true, \"ticks\": \"\", \"zerolinecolor\": \"#EBF0F8\"}, \"yaxis\": {\"backgroundcolor\": \"white\", \"gridcolor\": \"#DFE8F3\", \"gridwidth\": 2, \"linecolor\": \"#EBF0F8\", \"showbackground\": true, \"ticks\": \"\", \"zerolinecolor\": \"#EBF0F8\"}, \"zaxis\": {\"backgroundcolor\": \"white\", \"gridcolor\": \"#DFE8F3\", \"gridwidth\": 2, \"linecolor\": \"#EBF0F8\", \"showbackground\": true, \"ticks\": \"\", \"zerolinecolor\": \"#EBF0F8\"}}, \"shapedefaults\": {\"line\": {\"color\": \"#2a3f5f\"}}, \"ternary\": {\"aaxis\": {\"gridcolor\": \"#DFE8F3\", \"linecolor\": \"#A2B1C6\", \"ticks\": \"\"}, \"baxis\": {\"gridcolor\": \"#DFE8F3\", \"linecolor\": \"#A2B1C6\", \"ticks\": \"\"}, \"bgcolor\": \"white\", \"caxis\": {\"gridcolor\": \"#DFE8F3\", \"linecolor\": \"#A2B1C6\", \"ticks\": \"\"}}, \"title\": {\"x\": 0.05}, \"xaxis\": {\"automargin\": true, \"gridcolor\": \"#EBF0F8\", \"linecolor\": \"#EBF0F8\", \"ticks\": \"\", \"title\": {\"standoff\": 15}, \"zerolinecolor\": \"#EBF0F8\", \"zerolinewidth\": 2}, \"yaxis\": {\"automargin\": true, \"gridcolor\": \"#EBF0F8\", \"linecolor\": \"#EBF0F8\", \"ticks\": \"\", \"title\": {\"standoff\": 15}, \"zerolinecolor\": \"#EBF0F8\", \"zerolinewidth\": 2}}}, \"updatemenus\": [{\"buttons\": [{\"args\": [{\"visible\": [true, true, true, true, false, false, false, false, false, false, false, false, false, false, false, false, false, false, false, false, false, false, false, false, false, false, false, false, false, false, false, false]}], \"label\": \"ID: 40\", \"method\": \"restyle\"}, {\"args\": [{\"visible\": [false, false, false, false, true, true, true, true, false, false, false, false, false, false, false, false, false, false, false, false, false, false, false, false, false, false, false, false, false, false, false, false]}], \"label\": \"ID: 94\", \"method\": \"restyle\"}, {\"args\": [{\"visible\": [false, false, false, false, false, false, false, false, true, true, true, true, false, false, false, false, false, false, false, false, false, false, false, false, false, false, false, false, false, false, false, false]}], \"label\": \"ID: 95\", \"method\": \"restyle\"}, {\"args\": [{\"visible\": [false, false, false, false, false, false, false, false, false, false, false, false, true, true, true, true, false, false, false, false, false, false, false, false, false, false, false, false, false, false, false, false]}], \"label\": \"ID: 136\", \"method\": \"restyle\"}, {\"args\": [{\"visible\": [false, false, false, false, false, false, false, false, false, false, false, false, false, false, false, false, true, true, true, true, false, false, false, false, false, false, false, false, false, false, false, false]}], \"label\": \"ID: 140\", \"method\": \"restyle\"}, {\"args\": [{\"visible\": [false, false, false, false, false, false, false, false, false, false, false, false, false, false, false, false, false, false, false, false, true, true, true, true, false, false, false, false, false, false, false, false]}], \"label\": \"ID: 155\", \"method\": \"restyle\"}, {\"args\": [{\"visible\": [false, false, false, false, false, false, false, false, false, false, false, false, false, false, false, false, false, false, false, false, false, false, false, false, true, true, true, true, false, false, false, false]}], \"label\": \"ID: 169\", \"method\": \"restyle\"}, {\"args\": [{\"visible\": [false, false, false, false, false, false, false, false, false, false, false, false, false, false, false, false, false, false, false, false, false, false, false, false, false, false, false, false, true, true, true, true]}], \"label\": \"ID: 170\", \"method\": \"restyle\"}], \"direction\": \"right\", \"pad\": {\"r\": 0, \"t\": -10}, \"showactive\": true, \"type\": \"buttons\", \"x\": 0.0, \"xanchor\": \"left\", \"y\": 1.1, \"yanchor\": \"top\"}]},\n",
       "                        {\"responsive\": true}\n",
       "                    ).then(function(){\n",
       "                            \n",
       "var gd = document.getElementById('ba82bda3-3f13-4e47-835c-e4d00e99d142');\n",
       "var x = new MutationObserver(function (mutations, observer) {{\n",
       "        var display = window.getComputedStyle(gd).display;\n",
       "        if (!display || display === 'none') {{\n",
       "            console.log([gd, 'removed!']);\n",
       "            Plotly.purge(gd);\n",
       "            observer.disconnect();\n",
       "        }}\n",
       "}});\n",
       "\n",
       "// Listen for the removal of the full notebook cells\n",
       "var notebookContainer = gd.closest('#notebook-container');\n",
       "if (notebookContainer) {{\n",
       "    x.observe(notebookContainer, {childList: true});\n",
       "}}\n",
       "\n",
       "// Listen for the clearing of the current output cell\n",
       "var outputEl = gd.closest('.output');\n",
       "if (outputEl) {{\n",
       "    x.observe(outputEl, {childList: true});\n",
       "}}\n",
       "\n",
       "                        })\n",
       "                };\n",
       "                });\n",
       "            </script>\n",
       "        </div>"
      ]
     },
     "metadata": {},
     "output_type": "display_data"
    }
   ],
   "source": [
    "#\n",
    "# Visualisation of the spread of optimised model parameters for multiple runs from different initial points.\n",
    "#\n",
    "# This cell needs the above optimised initial parameter from psi_0=(1, 1, 1) and the five runs from a random initial starting point, and their respective objective function scores, as well as the data\n",
    "# [new_parameters, recovered_parameters_scores, data]\n",
    "#\n",
    "\n",
    "import plotly.colors\n",
    "import plotly.graph_objects as go\n",
    "\n",
    "\n",
    "# Get mouse ids\n",
    "mouse_ids = data['#ID'].unique()\n",
    "\n",
    "# Get number of parameters + score (for visualisation)\n",
    "n_params = new_parameters.shape[2] + 1\n",
    "\n",
    "# Define colorscheme\n",
    "colors = plotly.colors.qualitative.Plotly[:n_params]\n",
    "\n",
    "# Get optimised parameters\n",
    "optimised_parameters = new_parameters\n",
    "\n",
    "# Get optimised parameters\n",
    "scores = recovered_parameters_scores\n",
    "\n",
    "# Create figure\n",
    "fig = go.Figure()\n",
    "\n",
    "# Box plot of optimised model parameters\n",
    "for index, id_m in enumerate(mouse_ids):\n",
    "    # Get optimised parameters\n",
    "    parameters = optimised_parameters[index, ...]\n",
    "\n",
    "    # Get scores\n",
    "    score = scores[index, :]\n",
    "\n",
    "    # Create box plot of for initial tumour volume\n",
    "    fig.add_trace(\n",
    "        go.Box(\n",
    "            y=parameters[:, 0],  \n",
    "            name=\"Initial tumour volume in cm^3\",\n",
    "            boxpoints='all',\n",
    "            jitter=0.2,\n",
    "            pointpos=-1.5,\n",
    "            visible=True if index == 0 else False,\n",
    "            marker=dict(\n",
    "                symbol='circle',\n",
    "                opacity=0.7,\n",
    "                line=dict(color='black', width=1)),\n",
    "            marker_color=colors[0],\n",
    "            line_color=colors[0]))\n",
    "\n",
    "    # Create box plot for critical volume\n",
    "    fig.add_trace(\n",
    "        go.Box(\n",
    "            y=parameters[:, 1],  \n",
    "            name=\"Critical volume in cm^3\",\n",
    "            boxpoints='all',\n",
    "            jitter=0.2,\n",
    "            pointpos=-1.5,\n",
    "            visible=True if index == 0 else False,\n",
    "            marker=dict(\n",
    "                symbol='circle',\n",
    "                opacity=0.7,\n",
    "                line=dict(color='black', width=1)),\n",
    "            marker_color=colors[1],\n",
    "            line_color=colors[1]))\n",
    "\n",
    "    # Create box plot of for exponential tumour growth\n",
    "    fig.add_trace(\n",
    "        go.Box(\n",
    "            y=parameters[:, 2],  \n",
    "            name=\"Exponential growth rate in 1/day\",\n",
    "            boxpoints='all',\n",
    "            jitter=0.2,\n",
    "            pointpos=-1.5,\n",
    "            visible=True if index == 0 else False,\n",
    "            marker=dict(\n",
    "                symbol='circle',\n",
    "                opacity=0.7,\n",
    "                line=dict(color='black', width=1)),\n",
    "            marker_color=colors[2],\n",
    "            line_color=colors[2]))\n",
    "    \n",
    "    # Create box plot of for objective function score\n",
    "    fig.add_trace(\n",
    "        go.Box(\n",
    "            y=score,  \n",
    "            name=\"Score\",\n",
    "            boxpoints='all',\n",
    "            jitter=0.2,\n",
    "            pointpos=-1.5,\n",
    "            visible=True if index == 0 else False,\n",
    "            marker=dict(\n",
    "                symbol='circle',\n",
    "                opacity=0.7,\n",
    "                line=dict(color='black', width=1)),\n",
    "            marker_color=colors[3],\n",
    "            line_color=colors[3]))\n",
    "\n",
    "# Set figure size\n",
    "fig.update_layout(\n",
    "    autosize=True,\n",
    "    template=\"plotly_white\")\n",
    "\n",
    "# Add switch between mice\n",
    "fig.update_layout(\n",
    "    updatemenus=[\n",
    "        dict(\n",
    "            type = \"buttons\",\n",
    "            direction = \"right\",\n",
    "            buttons=list([\n",
    "                dict(\n",
    "                    args=[{\"visible\": [True]*4 + [False]*(4 * 7)}],\n",
    "                    label=\"ID: %d\" % mouse_ids[0],\n",
    "                    method=\"restyle\"\n",
    "                ),\n",
    "                dict(\n",
    "                    args=[{\"visible\": [False]*4 + [True]*4 + [False]*(4 * 6)}],\n",
    "                    label=\"ID: %d\" % mouse_ids[1],\n",
    "                    method=\"restyle\"\n",
    "                ),\n",
    "                dict(\n",
    "                    args=[{\"visible\": [False]*(4 * 2) + [True]*4 + [False]*(4 * 5)}],\n",
    "                    label=\"ID: %d\" % mouse_ids[2],\n",
    "                    method=\"restyle\"\n",
    "                ),\n",
    "                dict(\n",
    "                    args=[{\"visible\": [False]*(4 * 3) + [True]*4 + [False]*(4 * 4)}],\n",
    "                    label=\"ID: %d\" % mouse_ids[3],\n",
    "                    method=\"restyle\"\n",
    "                ),\n",
    "                dict(\n",
    "                    args=[{\"visible\": [False]*(4 * 4) + [True]*4 + [False]*(4 * 3)}],\n",
    "                    label=\"ID: %d\" % mouse_ids[4],\n",
    "                    method=\"restyle\"\n",
    "                ),\n",
    "                dict(\n",
    "                    args=[{\"visible\": [False]*(4 * 5) + [True]*4 + [False]*(4 * 2)}],\n",
    "                    label=\"ID: %d\" % mouse_ids[5],\n",
    "                    method=\"restyle\"\n",
    "                ),\n",
    "                dict(\n",
    "                    args=[{\"visible\": [False]*(4 * 6) + [True]*4 + [False]* 4}],\n",
    "                    label=\"ID: %d\" % mouse_ids[6],\n",
    "                    method=\"restyle\"\n",
    "                ),\n",
    "                dict(\n",
    "                    args=[{\"visible\": [False]*(4 * 7) + [True]*4}],\n",
    "                    label=\"ID: %d\" % mouse_ids[7],\n",
    "                    method=\"restyle\"\n",
    "                )\n",
    "            ]),\n",
    "            pad={\"r\": 0, \"t\": -10},\n",
    "            showactive=True,\n",
    "            x=0.0,\n",
    "            xanchor=\"left\",\n",
    "            y=1.1,\n",
    "            yanchor=\"top\"\n",
    "        )\n",
    "    ]\n",
    ")\n",
    "\n",
    "# Position legend\n",
    "fig.update_layout(legend=dict(\n",
    "    yanchor=\"bottom\",\n",
    "    y=0.01,\n",
    "    xanchor=\"left\",\n",
    "    x=1.05))\n",
    "\n",
    "# Show figure\n",
    "fig.show()\n"
   ]
  },
  {
   "cell_type": "markdown",
   "metadata": {},
   "source": [
    "**Figure X:**"
   ]
  },
  {
   "cell_type": "markdown",
   "metadata": {},
   "source": [
    "There is a qulatitative differnce to observe. Some mice have biologically infeasibly large critical volumes. ALthough mice 95 and 140 seem be among the lighter mice in the control group, there is little evidence just yet to correlate this to the body mass. It is more likely that the qualitative change in growth behaviour is induced by a change in the tumour biology, i.e. metabolic adaptation of the tumour."
   ]
  },
  {
   "cell_type": "markdown",
   "metadata": {},
   "source": [
    "## Bibliography\n",
    "\n",
    "- <a name=\"ref1\"> [1] </a> Eigenmann et. al., Combining Nonclinical Experiments with Translational PKPD Modeling to Differentiate Erlotinib and Gefitinib, Mol Cancer Ther (2016)\n",
    "- <a name=\"ref2\"> [2] </a> Bellman, R. & Åström, K., On structural identifiability.Mathematical Biosciences, 7, 329 – 339 (1970)\n",
    "- <a name=\"ref2\"> [3] </a> Janzén, D. L. I. et al., Parameter identifiability of fundamental pharmacodynamic models.Frontiers in Physiology, 7, 590 (2016)\n",
    "- <a name=\"ref2\"> [4] </a> Lavielle, M. & Aarons, L., What do we mean by identifiability in mixed effects models?Journal of Pharmacoki-netics and Pharmacodynamics, 43, 111–122 (2016)\n",
    "- <a name=\"ref2\"> [5] </a> Hansen, N & Müller, S. D. & Koumoutsakos, P., Reducing the Time Complexity of the Derandomized Evolution Strategy with Covariance Matrix Adaptation (CMA-ES), Evolutionary Computation, 1-18 (2003)\n",
    "- <a name=\"ref2\"> [6] </a> Raue, A. et al., Structural and practical identifiability analysis of partially observed dynamical models by ex-ploiting the profile likelihood, Bioinformatics, 25, 1923–1929 (2009)"
   ]
  },
  {
   "cell_type": "markdown",
   "metadata": {},
   "source": [
    "[Back to project overview](https://github.com/DavAug/ErlotinibGefitinib/blob/master/README.md) | [Back to lung cancer control growth overview](https://nbviewer.jupyter.org/github/DavAug/ErlotinibGefitinib/blob/master/notebooks/lung_cancer/control_growth/overview.ipynb) | [Forward to next notebook](https://nbviewer.jupyter.org/github/DavAug/ErlotinibGefitinib/blob/master/notebooks/lung_cancer/control_growth/error_model.ipynb)"
   ]
  }
 ],
 "metadata": {
  "kernelspec": {
   "display_name": "Python 3.7.5 64-bit ('venv': venv)",
   "language": "python",
   "name": "python37564bitvenvvenv244669d31e9a466f969539273faabb23"
  },
  "language_info": {
   "codemirror_mode": {
    "name": "ipython",
    "version": 3
   },
   "file_extension": ".py",
   "mimetype": "text/x-python",
   "name": "python",
   "nbconvert_exporter": "python",
   "pygments_lexer": "ipython3",
   "version": "3.7.5-final"
  },
  "widgets": {
   "application/vnd.jupyter.widget-state+json": {
    "state": {},
    "version_major": 2,
    "version_minor": 0
   }
  }
 },
 "nbformat": 4,
 "nbformat_minor": 2
}