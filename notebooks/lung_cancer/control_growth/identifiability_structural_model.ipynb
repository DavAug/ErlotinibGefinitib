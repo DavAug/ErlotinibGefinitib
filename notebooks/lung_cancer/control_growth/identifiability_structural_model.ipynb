{
 "cells": [
  {
   "cell_type": "markdown",
   "metadata": {},
   "source": [
    "# Identifiability of Structural Model for Lung Cancer Growth in Absence of Treatment\n",
    "\n",
    "The tumour growth inhibitory effects of Erlotinib and Gefitinib were modelled with a population PKPD model in [1]. A population PKPD model is a hierarchical model which consists of a structural model, a population model, and an error model. Each sub-model captures a different aspect of the tumour growth inhibition biology, and is parametrised by a set of parameters. \n",
    "\n",
    "In this notebook we explore the identifiability of the structural model for the untreated tumour growth of LXF A677 explants implanted in mice [1]. In particular, we investigate the effects of log-transformations and non-dimensionalisation of the model parameters on the stability of the optimisation. "
   ]
  },
  {
   "cell_type": "markdown",
   "metadata": {},
   "source": [
    "## Structural growth model in absence of treatment\n",
    "\n",
    "In a PKPD model the structural model is a mechanistic or empirical description of the drug's pharmacokinetics (PK) and pharmacodynamics (PD) for an individual. The PK model describes how the drug is distributed in the body upon administration of that individual, which is often referred to as \"what the body does to the drug\". The PD model captures the drug's effects on the progression of the disease, or \"what the drug does to the body\". 'Progression of the disease' may be quantified by any disease-related observable, such as biomarkers or in this case the tumour volume. A PD model does therefore not only need to capture the disease progression of an individual *under the influence* of a compound, but also needs to be able to describe its progresion in the *absence* of any treatment.\n",
    "\n",
    "In [1] a structural model is proposed for the tumour growth in absence of the compound, which assumes that the tumour grows exponentially for small tumour volumes, and linearly for large tumour volumes\n",
    "\n",
    "\\begin{equation*}\n",
    "    \\frac{\\text{d}V^s_T}{\\text{d}t} = \\frac{2\\lambda _0\\lambda _1 V^s_T}{2\\lambda _0 V^s_T + \\lambda _1}.\n",
    "\\end{equation*}\n",
    "\n",
    "Here, $V^s_T$ is the predicted tumour volume by the structural model, $\\lambda _0$ is the exponential growth rate, and $\\lambda _1$ is the linear growth rate. The tumour growth of an individual in absence of the drug is thus parameterised by three parameters\n",
    "\n",
    "\\begin{equation*}\n",
    "    \\psi = (V_0, \\lambda _0, \\lambda _1),\n",
    "\\end{equation*}\n",
    "\n",
    "where $V_0$ is the initial tumour volume, $V^s_T(t=0, \\psi) = V_0$."
   ]
  },
  {
   "cell_type": "markdown",
   "metadata": {},
   "source": [
    "## Identifiability\n",
    "\n",
    "The identifiability of a parametric model addresses the question of whether a unique set of model parameters $\\psi $ can be inferred from data, which most closely capture the data, see e.g. [2, 3, 4]. In particular, under the assumption that the model could have generated the data with a given set of model parameters, identifiability addresses the question of whether those *true* parameters can be recovered from the data. \n",
    "\n",
    "In the PKPD modelling context, the identifiability of the structural model is of particular importance, as parameter values can often be biologically interpreted. This allows for example to characterise biochemical properties of the compound, or to translate the model from preclinical to clinical application. However, for those biological interpretations to be meaningful, we need to make sure that the values tightly couple the observed data and the proposed structural model. If multiple parameters for a model exist that equally well capture the observed behaviour, it is hard to imagine that the parameter values carry significant biological meaning.\n",
    "\n",
    "In this study, we are interested in learning the structural model parameters $\\psi $ of the tumour growth in absence of the compound from an *in vivo* experiment reported in [1]. Here, patient-derived tumour explants LXF A677 (adenocarcinoma of the lung) were implanted in mice. The tumour growth was monitored over a period of 30 days, see the [Lung Cancer Tumour Growth in Absence of Treatment](https://nbviewer.jupyter.org/github/DavAug/ErlotinibGefitinib/blob/master/notebooks/lung_cancer/control_growth/data_preparation.ipynb) for details."
   ]
  },
  {
   "cell_type": "code",
   "execution_count": 1,
   "metadata": {},
   "outputs": [
    {
     "output_type": "display_data",
     "data": {
      "application/vnd.plotly.v1+json": {
       "config": {
        "plotlyServerURL": "https://plot.ly"
       },
       "data": [
        {
         "hovertemplate": "<b>ID: 40</b><br>Time: %{x:} day<br>Tumour volume: %{y:.02f} cm^3<br>Body weight: %{text}<br>Cancer type: Lung cancer (LXF A677)<br><extra></extra>",
         "marker": {
          "color": "#636EFA",
          "line": {
           "color": "black",
           "width": 1
          },
          "opacity": 0.7,
          "symbol": "circle"
         },
         "mode": "markers",
         "name": "ID: 40",
         "showlegend": true,
         "text": [
          "26.8 g",
          "26.1 g",
          "26.5 g",
          "26.5 g",
          "27.1 g",
          "26.0 g",
          "26.4 g",
          "26.0 g",
          "25.4 g",
          "26.2 g"
         ],
         "type": "scatter",
         "x": [
          0,
          2,
          4,
          7,
          9,
          11,
          14,
          16,
          18,
          21
         ],
         "y": [
          0.191808,
          0.249158,
          0.330672,
          0.6683669999999999,
          0.915008,
          1.119258,
          1.470432,
          1.6692479999999998,
          1.7521919999999997,
          2.276736
         ]
        },
        {
         "hovertemplate": "<b>ID: 40</b><br>Time: %{x:} day<br>Tumour volume: %{y:.02f} cm^3<br>Body weight: %{text}<br>Cancer type: Lung cancer (LXF A677)<br><extra></extra>",
         "marker": {
          "color": "#636EFA",
          "line": {
           "color": "black",
           "width": 1
          },
          "opacity": 0.7,
          "symbol": "circle"
         },
         "mode": "markers",
         "name": "ID: 40",
         "showlegend": true,
         "text": [
          "26.8 g",
          "26.1 g",
          "26.5 g",
          "26.5 g",
          "27.1 g",
          "26.0 g",
          "26.4 g",
          "26.0 g",
          "25.4 g",
          "26.2 g"
         ],
         "type": "scatter",
         "visible": false,
         "x": [
          0,
          2,
          4,
          7,
          9,
          11,
          14,
          16,
          18,
          21
         ],
         "y": [
          26.8,
          26.1,
          26.5,
          26.5,
          27.1,
          26,
          26.4,
          26,
          25.4,
          26.2
         ]
        },
        {
         "hovertemplate": "<b>ID: 94</b><br>Time: %{x:} day<br>Tumour volume: %{y:.02f} cm^3<br>Body weight: %{text}<br>Cancer type: Lung cancer (LXF A677)<br><extra></extra>",
         "marker": {
          "color": "#EF553B",
          "line": {
           "color": "black",
           "width": 1
          },
          "opacity": 0.7,
          "symbol": "circle"
         },
         "mode": "markers",
         "name": "ID: 94",
         "showlegend": true,
         "text": [
          "18.3 g",
          "18.2 g",
          "18.5 g",
          "18.3 g",
          "18.7 g",
          "17.9 g",
          "18.4 g",
          "18.2 g",
          "18.7 g",
          "20.0 g",
          "20.2 g",
          "20.3 g",
          "20.0 g",
          "19.2 g"
         ],
         "type": "scatter",
         "x": [
          0,
          2,
          4,
          7,
          9,
          11,
          14,
          16,
          18,
          21,
          23,
          25,
          28,
          30
         ],
         "y": [
          0.07724750000000001,
          0.0884835,
          0.125316,
          0.165528,
          0.189486,
          0.264654,
          0.264654,
          0.306936,
          0.389207,
          0.389207,
          0.405769,
          0.4264715,
          0.5551309999999999,
          0.57624
         ]
        },
        {
         "hovertemplate": "<b>ID: 94</b><br>Time: %{x:} day<br>Tumour volume: %{y:.02f} cm^3<br>Body weight: %{text}<br>Cancer type: Lung cancer (LXF A677)<br><extra></extra>",
         "marker": {
          "color": "#EF553B",
          "line": {
           "color": "black",
           "width": 1
          },
          "opacity": 0.7,
          "symbol": "circle"
         },
         "mode": "markers",
         "name": "ID: 94",
         "showlegend": true,
         "text": [
          "18.3 g",
          "18.2 g",
          "18.5 g",
          "18.3 g",
          "18.7 g",
          "17.9 g",
          "18.4 g",
          "18.2 g",
          "18.7 g",
          "20.0 g",
          "20.2 g",
          "20.3 g",
          "20.0 g",
          "19.2 g"
         ],
         "type": "scatter",
         "visible": false,
         "x": [
          0,
          2,
          4,
          7,
          9,
          11,
          14,
          16,
          18,
          21,
          23,
          25,
          28,
          30
         ],
         "y": [
          18.3,
          18.2,
          18.5,
          18.3,
          18.7,
          17.9,
          18.4,
          18.2,
          18.7,
          20,
          20.2,
          20.3,
          20,
          19.2
         ]
        },
        {
         "hovertemplate": "<b>ID: 95</b><br>Time: %{x:} day<br>Tumour volume: %{y:.02f} cm^3<br>Body weight: %{text}<br>Cancer type: Lung cancer (LXF A677)<br><extra></extra>",
         "marker": {
          "color": "#00CC96",
          "line": {
           "color": "black",
           "width": 1
          },
          "opacity": 0.7,
          "symbol": "circle"
         },
         "mode": "markers",
         "name": "ID: 95",
         "showlegend": true,
         "text": [
          "22.3 g",
          "23.0 g",
          "22.4 g",
          "23.6 g",
          "24.1 g",
          "22.7 g",
          "23.6 g",
          "23.3 g",
          "23.3 g",
          "23.3 g"
         ],
         "type": "scatter",
         "x": [
          0,
          2,
          4,
          7,
          9,
          11,
          14,
          16,
          18,
          21
         ],
         "y": [
          0.1862,
          0.24641999999999997,
          0.4293,
          0.62426,
          0.7246720000000001,
          0.7300800000000001,
          0.9196,
          1.131184,
          1.675872,
          2.346616
         ]
        },
        {
         "hovertemplate": "<b>ID: 95</b><br>Time: %{x:} day<br>Tumour volume: %{y:.02f} cm^3<br>Body weight: %{text}<br>Cancer type: Lung cancer (LXF A677)<br><extra></extra>",
         "marker": {
          "color": "#00CC96",
          "line": {
           "color": "black",
           "width": 1
          },
          "opacity": 0.7,
          "symbol": "circle"
         },
         "mode": "markers",
         "name": "ID: 95",
         "showlegend": true,
         "text": [
          "22.3 g",
          "23.0 g",
          "22.4 g",
          "23.6 g",
          "24.1 g",
          "22.7 g",
          "23.6 g",
          "23.3 g",
          "23.3 g",
          "23.3 g"
         ],
         "type": "scatter",
         "visible": false,
         "x": [
          0,
          2,
          4,
          7,
          9,
          11,
          14,
          16,
          18,
          21
         ],
         "y": [
          22.3,
          23,
          22.4,
          23.6,
          24.1,
          22.7,
          23.6,
          23.3,
          23.3,
          23.3
         ]
        },
        {
         "hovertemplate": "<b>ID: 136</b><br>Time: %{x:} day<br>Tumour volume: %{y:.02f} cm^3<br>Body weight: %{text}<br>Cancer type: Lung cancer (LXF A677)<br><extra></extra>",
         "marker": {
          "color": "#AB63FA",
          "line": {
           "color": "black",
           "width": 1
          },
          "opacity": 0.7,
          "symbol": "circle"
         },
         "mode": "markers",
         "name": "ID: 136",
         "showlegend": true,
         "text": [
          "25.4 g",
          "26.2 g",
          "28.3 g",
          "28.0 g",
          "25.1 g",
          "22.9 g",
          "24.1 g",
          "23.9 g",
          "23.0 g",
          "24.0 g",
          "23.7 g",
          "24.7 g",
          "24.6 g",
          "24.2 g"
         ],
         "type": "scatter",
         "x": [
          0,
          2,
          4,
          7,
          9,
          11,
          14,
          16,
          18,
          21,
          23,
          25,
          28,
          30
         ],
         "y": [
          0.1185885,
          0.175071,
          0.22999200000000006,
          0.3026885,
          0.3026885,
          0.37044,
          0.5341545,
          0.651688,
          0.7212869999999999,
          0.78732,
          0.8529505000000001,
          1.104558,
          1.1328799999999999,
          1.4593425
         ]
        },
        {
         "hovertemplate": "<b>ID: 136</b><br>Time: %{x:} day<br>Tumour volume: %{y:.02f} cm^3<br>Body weight: %{text}<br>Cancer type: Lung cancer (LXF A677)<br><extra></extra>",
         "marker": {
          "color": "#AB63FA",
          "line": {
           "color": "black",
           "width": 1
          },
          "opacity": 0.7,
          "symbol": "circle"
         },
         "mode": "markers",
         "name": "ID: 136",
         "showlegend": true,
         "text": [
          "25.4 g",
          "26.2 g",
          "28.3 g",
          "28.0 g",
          "25.1 g",
          "22.9 g",
          "24.1 g",
          "23.9 g",
          "23.0 g",
          "24.0 g",
          "23.7 g",
          "24.7 g",
          "24.6 g",
          "24.2 g"
         ],
         "type": "scatter",
         "visible": false,
         "x": [
          0,
          2,
          4,
          7,
          9,
          11,
          14,
          16,
          18,
          21,
          23,
          25,
          28,
          30
         ],
         "y": [
          25.4,
          26.2,
          28.3,
          28,
          25.1,
          22.9,
          24.1,
          23.9,
          23,
          24,
          23.7,
          24.7,
          24.6,
          24.2
         ]
        },
        {
         "hovertemplate": "<b>ID: 140</b><br>Time: %{x:} day<br>Tumour volume: %{y:.02f} cm^3<br>Body weight: %{text}<br>Cancer type: Lung cancer (LXF A677)<br><extra></extra>",
         "marker": {
          "color": "#FFA15A",
          "line": {
           "color": "black",
           "width": 1
          },
          "opacity": 0.7,
          "symbol": "circle"
         },
         "mode": "markers",
         "name": "ID: 140",
         "showlegend": true,
         "text": [
          "22.7 g",
          "23.6 g",
          "23.6 g",
          "24.4 g",
          "25.0 g",
          "23.5 g",
          "24.8 g",
          "24.3 g",
          "23.8 g",
          "23.3 g",
          "23.7 g",
          "24.8 g",
          "24.7 g",
          "24.1 g"
         ],
         "type": "scatter",
         "x": [
          0,
          2,
          4,
          7,
          9,
          11,
          14,
          16,
          18,
          21,
          23,
          25,
          28,
          30
         ],
         "y": [
          0.0793305,
          0.12685200000000002,
          0.146072,
          0.261121,
          0.34574400000000005,
          0.3552,
          0.41905,
          0.48029799999999995,
          0.556668,
          0.8089919999999999,
          0.8573040000000001,
          1.097675,
          1.992144,
          2.1225820000000004
         ]
        },
        {
         "hovertemplate": "<b>ID: 140</b><br>Time: %{x:} day<br>Tumour volume: %{y:.02f} cm^3<br>Body weight: %{text}<br>Cancer type: Lung cancer (LXF A677)<br><extra></extra>",
         "marker": {
          "color": "#FFA15A",
          "line": {
           "color": "black",
           "width": 1
          },
          "opacity": 0.7,
          "symbol": "circle"
         },
         "mode": "markers",
         "name": "ID: 140",
         "showlegend": true,
         "text": [
          "22.7 g",
          "23.6 g",
          "23.6 g",
          "24.4 g",
          "25.0 g",
          "23.5 g",
          "24.8 g",
          "24.3 g",
          "23.8 g",
          "23.3 g",
          "23.7 g",
          "24.8 g",
          "24.7 g",
          "24.1 g"
         ],
         "type": "scatter",
         "visible": false,
         "x": [
          0,
          2,
          4,
          7,
          9,
          11,
          14,
          16,
          18,
          21,
          23,
          25,
          28,
          30
         ],
         "y": [
          22.7,
          23.6,
          23.6,
          24.4,
          25,
          23.5,
          24.8,
          24.3,
          23.8,
          23.3,
          23.7,
          24.8,
          24.7,
          24.1
         ]
        },
        {
         "hovertemplate": "<b>ID: 155</b><br>Time: %{x:} day<br>Tumour volume: %{y:.02f} cm^3<br>Body weight: %{text}<br>Cancer type: Lung cancer (LXF A677)<br><extra></extra>",
         "marker": {
          "color": "#19D3F3",
          "line": {
           "color": "black",
           "width": 1
          },
          "opacity": 0.7,
          "symbol": "circle"
         },
         "mode": "markers",
         "name": "ID: 155",
         "showlegend": true,
         "text": [
          "26.0 g",
          "27.3 g",
          "27.5 g",
          "28.2 g",
          "28.7 g",
          "27.9 g",
          "28.6 g",
          "29.0 g",
          "28.0 g",
          "28.9 g",
          "28.5 g",
          "29.6 g"
         ],
         "type": "scatter",
         "x": [
          0,
          2,
          4,
          7,
          9,
          11,
          14,
          16,
          18,
          21,
          23,
          25
         ],
         "y": [
          0.105875,
          0.167706,
          0.35632800000000003,
          0.6489600000000001,
          0.692224,
          0.7300800000000001,
          0.81648,
          1.4949540000000001,
          1.5166985,
          1.72405,
          1.637784,
          2.25108
         ]
        },
        {
         "hovertemplate": "<b>ID: 155</b><br>Time: %{x:} day<br>Tumour volume: %{y:.02f} cm^3<br>Body weight: %{text}<br>Cancer type: Lung cancer (LXF A677)<br><extra></extra>",
         "marker": {
          "color": "#19D3F3",
          "line": {
           "color": "black",
           "width": 1
          },
          "opacity": 0.7,
          "symbol": "circle"
         },
         "mode": "markers",
         "name": "ID: 155",
         "showlegend": true,
         "text": [
          "26.0 g",
          "27.3 g",
          "27.5 g",
          "28.2 g",
          "28.7 g",
          "27.9 g",
          "28.6 g",
          "29.0 g",
          "28.0 g",
          "28.9 g",
          "28.5 g",
          "29.6 g"
         ],
         "type": "scatter",
         "visible": false,
         "x": [
          0,
          2,
          4,
          7,
          9,
          11,
          14,
          16,
          18,
          21,
          23,
          25
         ],
         "y": [
          26,
          27.3,
          27.5,
          28.2,
          28.7,
          27.9,
          28.6,
          29,
          28,
          28.9,
          28.5,
          29.6
         ]
        },
        {
         "hovertemplate": "<b>ID: 169</b><br>Time: %{x:} day<br>Tumour volume: %{y:.02f} cm^3<br>Body weight: %{text}<br>Cancer type: Lung cancer (LXF A677)<br><extra></extra>",
         "marker": {
          "color": "#FF6692",
          "line": {
           "color": "black",
           "width": 1
          },
          "opacity": 0.7,
          "symbol": "circle"
         },
         "mode": "markers",
         "name": "ID: 169",
         "showlegend": true,
         "text": [
          "26.9 g",
          "26.8 g",
          "26.2 g",
          "26.2 g",
          "27.3 g",
          "26.6 g",
          "28.0 g",
          "27.6 g",
          "26.6 g",
          "27.9 g",
          "27.4 g",
          "28.6 g",
          "27.5 g",
          "28.0 g"
         ],
         "type": "scatter",
         "x": [
          0,
          2,
          4,
          7,
          9,
          11,
          14,
          16,
          18,
          21,
          23,
          25,
          28,
          30
         ],
         "y": [
          0.123008,
          0.128774,
          0.1764,
          0.20516650000000006,
          0.24605349999999998,
          0.2788425,
          0.333036,
          0.35644499999999996,
          0.39285,
          0.479859,
          0.5390550000000001,
          0.6354195,
          0.7146180000000001,
          0.7469865
         ]
        },
        {
         "hovertemplate": "<b>ID: 169</b><br>Time: %{x:} day<br>Tumour volume: %{y:.02f} cm^3<br>Body weight: %{text}<br>Cancer type: Lung cancer (LXF A677)<br><extra></extra>",
         "marker": {
          "color": "#FF6692",
          "line": {
           "color": "black",
           "width": 1
          },
          "opacity": 0.7,
          "symbol": "circle"
         },
         "mode": "markers",
         "name": "ID: 169",
         "showlegend": true,
         "text": [
          "26.9 g",
          "26.8 g",
          "26.2 g",
          "26.2 g",
          "27.3 g",
          "26.6 g",
          "28.0 g",
          "27.6 g",
          "26.6 g",
          "27.9 g",
          "27.4 g",
          "28.6 g",
          "27.5 g",
          "28.0 g"
         ],
         "type": "scatter",
         "visible": false,
         "x": [
          0,
          2,
          4,
          7,
          9,
          11,
          14,
          16,
          18,
          21,
          23,
          25,
          28,
          30
         ],
         "y": [
          26.9,
          26.8,
          26.2,
          26.2,
          27.3,
          26.6,
          28,
          27.6,
          26.6,
          27.9,
          27.4,
          28.6,
          27.5,
          28
         ]
        },
        {
         "hovertemplate": "<b>ID: 170</b><br>Time: %{x:} day<br>Tumour volume: %{y:.02f} cm^3<br>Body weight: %{text}<br>Cancer type: Lung cancer (LXF A677)<br><extra></extra>",
         "marker": {
          "color": "#B6E880",
          "line": {
           "color": "black",
           "width": 1
          },
          "opacity": 0.7,
          "symbol": "circle"
         },
         "mode": "markers",
         "name": "ID: 170",
         "showlegend": true,
         "text": [
          "28.3 g",
          "27.7 g",
          "27.9 g",
          "28.8 g",
          "29.3 g",
          "28.6 g",
          "29.5 g",
          "28.9 g",
          "26.8 g",
          "28.7 g",
          "27.3 g",
          "28.7 g",
          "28.5 g",
          "27.5 g"
         ],
         "type": "scatter",
         "x": [
          0,
          2,
          4,
          7,
          9,
          11,
          14,
          16,
          18,
          21,
          23,
          25,
          28,
          30
         ],
         "y": [
          0.0800565,
          0.094221,
          0.10933,
          0.158994,
          0.17615699999999998,
          0.19407850000000001,
          0.2041605,
          0.246402,
          0.3050865,
          0.3683265,
          0.41817600000000005,
          0.4396155,
          0.5661554999999999,
          0.6206265000000001
         ]
        },
        {
         "hovertemplate": "<b>ID: 170</b><br>Time: %{x:} day<br>Tumour volume: %{y:.02f} cm^3<br>Body weight: %{text}<br>Cancer type: Lung cancer (LXF A677)<br><extra></extra>",
         "marker": {
          "color": "#B6E880",
          "line": {
           "color": "black",
           "width": 1
          },
          "opacity": 0.7,
          "symbol": "circle"
         },
         "mode": "markers",
         "name": "ID: 170",
         "showlegend": true,
         "text": [
          "28.3 g",
          "27.7 g",
          "27.9 g",
          "28.8 g",
          "29.3 g",
          "28.6 g",
          "29.5 g",
          "28.9 g",
          "26.8 g",
          "28.7 g",
          "27.3 g",
          "28.7 g",
          "28.5 g",
          "27.5 g"
         ],
         "type": "scatter",
         "visible": false,
         "x": [
          0,
          2,
          4,
          7,
          9,
          11,
          14,
          16,
          18,
          21,
          23,
          25,
          28,
          30
         ],
         "y": [
          28.3,
          27.7,
          27.9,
          28.8,
          29.3,
          28.6,
          29.5,
          28.9,
          26.8,
          28.7,
          27.3,
          28.7,
          28.5,
          27.5
         ]
        }
       ],
       "layout": {
        "autosize": true,
        "legend": {
         "x": 1.05,
         "xanchor": "left",
         "y": 0.01,
         "yanchor": "bottom"
        },
        "template": {
         "data": {
          "bar": [
           {
            "error_x": {
             "color": "#2a3f5f"
            },
            "error_y": {
             "color": "#2a3f5f"
            },
            "marker": {
             "line": {
              "color": "white",
              "width": 0.5
             }
            },
            "type": "bar"
           }
          ],
          "barpolar": [
           {
            "marker": {
             "line": {
              "color": "white",
              "width": 0.5
             }
            },
            "type": "barpolar"
           }
          ],
          "carpet": [
           {
            "aaxis": {
             "endlinecolor": "#2a3f5f",
             "gridcolor": "#C8D4E3",
             "linecolor": "#C8D4E3",
             "minorgridcolor": "#C8D4E3",
             "startlinecolor": "#2a3f5f"
            },
            "baxis": {
             "endlinecolor": "#2a3f5f",
             "gridcolor": "#C8D4E3",
             "linecolor": "#C8D4E3",
             "minorgridcolor": "#C8D4E3",
             "startlinecolor": "#2a3f5f"
            },
            "type": "carpet"
           }
          ],
          "choropleth": [
           {
            "colorbar": {
             "outlinewidth": 0,
             "ticks": ""
            },
            "type": "choropleth"
           }
          ],
          "contour": [
           {
            "colorbar": {
             "outlinewidth": 0,
             "ticks": ""
            },
            "colorscale": [
             [
              0,
              "#0d0887"
             ],
             [
              0.1111111111111111,
              "#46039f"
             ],
             [
              0.2222222222222222,
              "#7201a8"
             ],
             [
              0.3333333333333333,
              "#9c179e"
             ],
             [
              0.4444444444444444,
              "#bd3786"
             ],
             [
              0.5555555555555556,
              "#d8576b"
             ],
             [
              0.6666666666666666,
              "#ed7953"
             ],
             [
              0.7777777777777778,
              "#fb9f3a"
             ],
             [
              0.8888888888888888,
              "#fdca26"
             ],
             [
              1,
              "#f0f921"
             ]
            ],
            "type": "contour"
           }
          ],
          "contourcarpet": [
           {
            "colorbar": {
             "outlinewidth": 0,
             "ticks": ""
            },
            "type": "contourcarpet"
           }
          ],
          "heatmap": [
           {
            "colorbar": {
             "outlinewidth": 0,
             "ticks": ""
            },
            "colorscale": [
             [
              0,
              "#0d0887"
             ],
             [
              0.1111111111111111,
              "#46039f"
             ],
             [
              0.2222222222222222,
              "#7201a8"
             ],
             [
              0.3333333333333333,
              "#9c179e"
             ],
             [
              0.4444444444444444,
              "#bd3786"
             ],
             [
              0.5555555555555556,
              "#d8576b"
             ],
             [
              0.6666666666666666,
              "#ed7953"
             ],
             [
              0.7777777777777778,
              "#fb9f3a"
             ],
             [
              0.8888888888888888,
              "#fdca26"
             ],
             [
              1,
              "#f0f921"
             ]
            ],
            "type": "heatmap"
           }
          ],
          "heatmapgl": [
           {
            "colorbar": {
             "outlinewidth": 0,
             "ticks": ""
            },
            "colorscale": [
             [
              0,
              "#0d0887"
             ],
             [
              0.1111111111111111,
              "#46039f"
             ],
             [
              0.2222222222222222,
              "#7201a8"
             ],
             [
              0.3333333333333333,
              "#9c179e"
             ],
             [
              0.4444444444444444,
              "#bd3786"
             ],
             [
              0.5555555555555556,
              "#d8576b"
             ],
             [
              0.6666666666666666,
              "#ed7953"
             ],
             [
              0.7777777777777778,
              "#fb9f3a"
             ],
             [
              0.8888888888888888,
              "#fdca26"
             ],
             [
              1,
              "#f0f921"
             ]
            ],
            "type": "heatmapgl"
           }
          ],
          "histogram": [
           {
            "marker": {
             "colorbar": {
              "outlinewidth": 0,
              "ticks": ""
             }
            },
            "type": "histogram"
           }
          ],
          "histogram2d": [
           {
            "colorbar": {
             "outlinewidth": 0,
             "ticks": ""
            },
            "colorscale": [
             [
              0,
              "#0d0887"
             ],
             [
              0.1111111111111111,
              "#46039f"
             ],
             [
              0.2222222222222222,
              "#7201a8"
             ],
             [
              0.3333333333333333,
              "#9c179e"
             ],
             [
              0.4444444444444444,
              "#bd3786"
             ],
             [
              0.5555555555555556,
              "#d8576b"
             ],
             [
              0.6666666666666666,
              "#ed7953"
             ],
             [
              0.7777777777777778,
              "#fb9f3a"
             ],
             [
              0.8888888888888888,
              "#fdca26"
             ],
             [
              1,
              "#f0f921"
             ]
            ],
            "type": "histogram2d"
           }
          ],
          "histogram2dcontour": [
           {
            "colorbar": {
             "outlinewidth": 0,
             "ticks": ""
            },
            "colorscale": [
             [
              0,
              "#0d0887"
             ],
             [
              0.1111111111111111,
              "#46039f"
             ],
             [
              0.2222222222222222,
              "#7201a8"
             ],
             [
              0.3333333333333333,
              "#9c179e"
             ],
             [
              0.4444444444444444,
              "#bd3786"
             ],
             [
              0.5555555555555556,
              "#d8576b"
             ],
             [
              0.6666666666666666,
              "#ed7953"
             ],
             [
              0.7777777777777778,
              "#fb9f3a"
             ],
             [
              0.8888888888888888,
              "#fdca26"
             ],
             [
              1,
              "#f0f921"
             ]
            ],
            "type": "histogram2dcontour"
           }
          ],
          "mesh3d": [
           {
            "colorbar": {
             "outlinewidth": 0,
             "ticks": ""
            },
            "type": "mesh3d"
           }
          ],
          "parcoords": [
           {
            "line": {
             "colorbar": {
              "outlinewidth": 0,
              "ticks": ""
             }
            },
            "type": "parcoords"
           }
          ],
          "pie": [
           {
            "automargin": true,
            "type": "pie"
           }
          ],
          "scatter": [
           {
            "marker": {
             "colorbar": {
              "outlinewidth": 0,
              "ticks": ""
             }
            },
            "type": "scatter"
           }
          ],
          "scatter3d": [
           {
            "line": {
             "colorbar": {
              "outlinewidth": 0,
              "ticks": ""
             }
            },
            "marker": {
             "colorbar": {
              "outlinewidth": 0,
              "ticks": ""
             }
            },
            "type": "scatter3d"
           }
          ],
          "scattercarpet": [
           {
            "marker": {
             "colorbar": {
              "outlinewidth": 0,
              "ticks": ""
             }
            },
            "type": "scattercarpet"
           }
          ],
          "scattergeo": [
           {
            "marker": {
             "colorbar": {
              "outlinewidth": 0,
              "ticks": ""
             }
            },
            "type": "scattergeo"
           }
          ],
          "scattergl": [
           {
            "marker": {
             "colorbar": {
              "outlinewidth": 0,
              "ticks": ""
             }
            },
            "type": "scattergl"
           }
          ],
          "scattermapbox": [
           {
            "marker": {
             "colorbar": {
              "outlinewidth": 0,
              "ticks": ""
             }
            },
            "type": "scattermapbox"
           }
          ],
          "scatterpolar": [
           {
            "marker": {
             "colorbar": {
              "outlinewidth": 0,
              "ticks": ""
             }
            },
            "type": "scatterpolar"
           }
          ],
          "scatterpolargl": [
           {
            "marker": {
             "colorbar": {
              "outlinewidth": 0,
              "ticks": ""
             }
            },
            "type": "scatterpolargl"
           }
          ],
          "scatterternary": [
           {
            "marker": {
             "colorbar": {
              "outlinewidth": 0,
              "ticks": ""
             }
            },
            "type": "scatterternary"
           }
          ],
          "surface": [
           {
            "colorbar": {
             "outlinewidth": 0,
             "ticks": ""
            },
            "colorscale": [
             [
              0,
              "#0d0887"
             ],
             [
              0.1111111111111111,
              "#46039f"
             ],
             [
              0.2222222222222222,
              "#7201a8"
             ],
             [
              0.3333333333333333,
              "#9c179e"
             ],
             [
              0.4444444444444444,
              "#bd3786"
             ],
             [
              0.5555555555555556,
              "#d8576b"
             ],
             [
              0.6666666666666666,
              "#ed7953"
             ],
             [
              0.7777777777777778,
              "#fb9f3a"
             ],
             [
              0.8888888888888888,
              "#fdca26"
             ],
             [
              1,
              "#f0f921"
             ]
            ],
            "type": "surface"
           }
          ],
          "table": [
           {
            "cells": {
             "fill": {
              "color": "#EBF0F8"
             },
             "line": {
              "color": "white"
             }
            },
            "header": {
             "fill": {
              "color": "#C8D4E3"
             },
             "line": {
              "color": "white"
             }
            },
            "type": "table"
           }
          ]
         },
         "layout": {
          "annotationdefaults": {
           "arrowcolor": "#2a3f5f",
           "arrowhead": 0,
           "arrowwidth": 1
          },
          "coloraxis": {
           "colorbar": {
            "outlinewidth": 0,
            "ticks": ""
           }
          },
          "colorscale": {
           "diverging": [
            [
             0,
             "#8e0152"
            ],
            [
             0.1,
             "#c51b7d"
            ],
            [
             0.2,
             "#de77ae"
            ],
            [
             0.3,
             "#f1b6da"
            ],
            [
             0.4,
             "#fde0ef"
            ],
            [
             0.5,
             "#f7f7f7"
            ],
            [
             0.6,
             "#e6f5d0"
            ],
            [
             0.7,
             "#b8e186"
            ],
            [
             0.8,
             "#7fbc41"
            ],
            [
             0.9,
             "#4d9221"
            ],
            [
             1,
             "#276419"
            ]
           ],
           "sequential": [
            [
             0,
             "#0d0887"
            ],
            [
             0.1111111111111111,
             "#46039f"
            ],
            [
             0.2222222222222222,
             "#7201a8"
            ],
            [
             0.3333333333333333,
             "#9c179e"
            ],
            [
             0.4444444444444444,
             "#bd3786"
            ],
            [
             0.5555555555555556,
             "#d8576b"
            ],
            [
             0.6666666666666666,
             "#ed7953"
            ],
            [
             0.7777777777777778,
             "#fb9f3a"
            ],
            [
             0.8888888888888888,
             "#fdca26"
            ],
            [
             1,
             "#f0f921"
            ]
           ],
           "sequentialminus": [
            [
             0,
             "#0d0887"
            ],
            [
             0.1111111111111111,
             "#46039f"
            ],
            [
             0.2222222222222222,
             "#7201a8"
            ],
            [
             0.3333333333333333,
             "#9c179e"
            ],
            [
             0.4444444444444444,
             "#bd3786"
            ],
            [
             0.5555555555555556,
             "#d8576b"
            ],
            [
             0.6666666666666666,
             "#ed7953"
            ],
            [
             0.7777777777777778,
             "#fb9f3a"
            ],
            [
             0.8888888888888888,
             "#fdca26"
            ],
            [
             1,
             "#f0f921"
            ]
           ]
          },
          "colorway": [
           "#636efa",
           "#EF553B",
           "#00cc96",
           "#ab63fa",
           "#FFA15A",
           "#19d3f3",
           "#FF6692",
           "#B6E880",
           "#FF97FF",
           "#FECB52"
          ],
          "font": {
           "color": "#2a3f5f"
          },
          "geo": {
           "bgcolor": "white",
           "lakecolor": "white",
           "landcolor": "white",
           "showlakes": true,
           "showland": true,
           "subunitcolor": "#C8D4E3"
          },
          "hoverlabel": {
           "align": "left"
          },
          "hovermode": "closest",
          "mapbox": {
           "style": "light"
          },
          "paper_bgcolor": "white",
          "plot_bgcolor": "white",
          "polar": {
           "angularaxis": {
            "gridcolor": "#EBF0F8",
            "linecolor": "#EBF0F8",
            "ticks": ""
           },
           "bgcolor": "white",
           "radialaxis": {
            "gridcolor": "#EBF0F8",
            "linecolor": "#EBF0F8",
            "ticks": ""
           }
          },
          "scene": {
           "xaxis": {
            "backgroundcolor": "white",
            "gridcolor": "#DFE8F3",
            "gridwidth": 2,
            "linecolor": "#EBF0F8",
            "showbackground": true,
            "ticks": "",
            "zerolinecolor": "#EBF0F8"
           },
           "yaxis": {
            "backgroundcolor": "white",
            "gridcolor": "#DFE8F3",
            "gridwidth": 2,
            "linecolor": "#EBF0F8",
            "showbackground": true,
            "ticks": "",
            "zerolinecolor": "#EBF0F8"
           },
           "zaxis": {
            "backgroundcolor": "white",
            "gridcolor": "#DFE8F3",
            "gridwidth": 2,
            "linecolor": "#EBF0F8",
            "showbackground": true,
            "ticks": "",
            "zerolinecolor": "#EBF0F8"
           }
          },
          "shapedefaults": {
           "line": {
            "color": "#2a3f5f"
           }
          },
          "ternary": {
           "aaxis": {
            "gridcolor": "#DFE8F3",
            "linecolor": "#A2B1C6",
            "ticks": ""
           },
           "baxis": {
            "gridcolor": "#DFE8F3",
            "linecolor": "#A2B1C6",
            "ticks": ""
           },
           "bgcolor": "white",
           "caxis": {
            "gridcolor": "#DFE8F3",
            "linecolor": "#A2B1C6",
            "ticks": ""
           }
          },
          "title": {
           "x": 0.05
          },
          "xaxis": {
           "automargin": true,
           "gridcolor": "#EBF0F8",
           "linecolor": "#EBF0F8",
           "ticks": "",
           "title": {
            "standoff": 15
           },
           "zerolinecolor": "#EBF0F8",
           "zerolinewidth": 2
          },
          "yaxis": {
           "automargin": true,
           "gridcolor": "#EBF0F8",
           "linecolor": "#EBF0F8",
           "ticks": "",
           "title": {
            "standoff": 15
           },
           "zerolinecolor": "#EBF0F8",
           "zerolinewidth": 2
          }
         }
        },
        "updatemenus": [
         {
          "buttons": [
           {
            "args": [
             {
              "yaxis.type": "linear"
             }
            ],
            "label": "Linear y-scale",
            "method": "relayout"
           },
           {
            "args": [
             {
              "yaxis.type": "log"
             }
            ],
            "label": "Log y-scale",
            "method": "relayout"
           }
          ],
          "direction": "left",
          "pad": {
           "r": 0,
           "t": -10
          },
          "showactive": true,
          "type": "buttons",
          "x": 0,
          "xanchor": "left",
          "y": 1.15,
          "yanchor": "top"
         },
         {
          "buttons": [
           {
            "args": [
             {
              "visible": [
               true,
               false,
               true,
               false,
               true,
               false,
               true,
               false,
               true,
               false,
               true,
               false,
               true,
               false,
               true,
               false
              ]
             },
             {
              "yaxis": {
               "title": "$\\text{Tumour volume in cm}^3$"
              }
             }
            ],
            "label": "Tumour volume",
            "method": "update"
           },
           {
            "args": [
             {
              "visible": [
               false,
               true,
               false,
               true,
               false,
               true,
               false,
               true,
               false,
               true,
               false,
               true,
               false,
               true,
               false,
               true
              ]
             },
             {
              "yaxis": {
               "title": "$\\text{Body weight in g}$"
              }
             }
            ],
            "label": "Body weight",
            "method": "update"
           }
          ],
          "direction": "down",
          "pad": {
           "r": 0,
           "t": -10
          },
          "showactive": true,
          "type": "buttons",
          "x": 1.07,
          "xanchor": "left",
          "y": 1.1,
          "yanchor": "top"
         }
        ],
        "xaxis": {
         "title": {
          "text": "$\\text{Time in day}$"
         }
        },
        "yaxis": {
         "title": {
          "text": "$\\text{Tumour volume in cm}^3$"
         }
        }
       }
      }
     },
     "metadata": {}
    }
   ],
   "source": [
    "#\n",
    "# Visualise control growth data.\n",
    "#\n",
    "\n",
    "import os\n",
    "\n",
    "import pandas as pd\n",
    "\n",
    "import pkpd.plots\n",
    "\n",
    "\n",
    "# Import data\n",
    "# Get path of current working directory\n",
    "path = os.getcwd()\n",
    "\n",
    "# Import LXF A677 control growth data\n",
    "data = pd.read_csv(path + '/data/lxf_control_growth.csv')\n",
    "\n",
    "# Create scatter plot\n",
    "fig = pkpd.plots.plot_measurements(data)\n",
    "\n",
    "# Show figure\n",
    "fig.show()"
   ]
  },
  {
   "cell_type": "markdown",
   "metadata": {},
   "source": [
    "**Figure 1 - Untreated tumour growth:** Untreated tumour growth of patient-derived tumour explants LXF A677 (adenocarcinoma of the lung) implanted in mice. The colouring of the data points indicates the identity of the mice. The evolution of the body weight can be explored by using the buttons in the top right."
   ]
  },
  {
   "cell_type": "markdown",
   "metadata": {},
   "source": [
    "## Naïve optimisation of model parameters\n",
    "\n",
    "Let us begin to explore the identifiability of the model by attempting to find an optimal set of model parameters $\\psi $ for each mouse. Typically such a set of optimal parameters can be found by defining an objective function and an optimisation algorithm. The objective function $L(\\psi | V^{\\text{obs}}_{T})$ quantifies how close the model predictions $V^s_T(t_i, \\psi)$ for a given set of model parameters $\\psi $ are to the observed data $V^{\\text{obs}}_{T, i}$. There are many choices for objective functions. We somewhat arbitrarily choose the Squared Distance Error Measure\n",
    "\n",
    "\\begin{equation*}\n",
    "    L(\\psi | V^\\text{obs}_{T}) = \\sum ^{n}_{i=1}\\left( V^\\text{obs}_{T, i} - V^s_T(t_i, \\psi)\\right) ^2,\n",
    "\\end{equation*}\n",
    "\n",
    "where $n$ is the number of measurements, $V^\\text{obs}_{T, i}$ is the measured tumour volume at time $t_i$, and $V^s_T(t_i, \\psi)$ is the model prediction at time $t_i$ for model parameters $\\psi $. This objective function is greater or equal to zero for all $\\psi $, and only vanishes for a model parameter set $\\hat \\psi $ for which the model identically reproduces the observations. We would like to find this parameter set $\\hat \\psi $.\n",
    "\n",
    "For real measurements, the measurement noise alone will make it improbable that the model will be able to reproduce the observations exactly, even if the structural model did capture the true underlying biological process. As a result, we are forced to weaken our condition for an optimal parameter set and look for the set of parameters $\\hat \\psi $ that globally minimises the objective function $L$. Note that this step introduces uncertainty into the modelling process, not only because we can no longer decide whether a given set of parameters is optimal by comparing its objective function score to zero, but also because it's much harder to decide whether the deviations from the observations are due to noise or due to the wrong modelling choice (more about model selection in following notebooks).\n",
    "\n",
    "There are many algorithms that are designed to minimise an objective function. One of those algorithms is the Covariance Matrix Adaptation Evolution Strategy (CMA-ES) optimiser [5]. We will choose to minimise the objective function $L$ with this algorithm, but other choices are equally valid. From a naïve perspective, we can choose any initial starting point $\\psi _0 $ for the optimisation algorithm, as the true global minimum is independent of the method we use to find it. We therefore choose to start the optimisation somewhat arbitrarily at $\\psi _0 = (1, 1, 1)$."
   ]
  },
  {
   "cell_type": "code",
   "execution_count": 5,
   "metadata": {
    "tags": []
   },
   "outputs": [
    {
     "output_type": "display_data",
     "data": {
      "text/plain": "HBox(children=(FloatProgress(value=0.0, max=8.0), HTML(value='')))",
      "application/vnd.jupyter.widget-view+json": {
       "version_major": 2,
       "version_minor": 0,
       "model_id": "686dc4626df94ff7a6aa5c264f004604"
      }
     },
     "metadata": {}
    },
    {
     "output_type": "stream",
     "name": "stdout",
     "text": "\n"
    }
   ],
   "source": [
    "#\n",
    "# Naive attempt to find an optimal parameter set psi for each mouse in the LXF A677 population.\n",
    "#\n",
    "\n",
    "import os\n",
    "\n",
    "import numpy as np\n",
    "import pandas as pd\n",
    "import pints\n",
    "from tqdm.notebook import tqdm\n",
    "\n",
    "import pkpd\n",
    "\n",
    "\n",
    "# Import data\n",
    "# Get path of current working directory\n",
    "path = os.getcwd()\n",
    "\n",
    "# Import LXF A677 control growth data\n",
    "data = pd.read_csv(path + '/data/lxf_control_growth.csv')\n",
    "\n",
    "# Define model\n",
    "path = pkpd.ModelLibrary().get_path('Tumour growth without treatment - Eigenmann et. al.')\n",
    "model = pkpd.PharmacodynamicModel(path, is_log_transformed=False)\n",
    "\n",
    "# Define container for the structural model estimates\n",
    "# Shape (n_mice, n_parameters)\n",
    "n_parameters = 3\n",
    "n_mice = len(data['#ID'].unique())\n",
    "mouse_parameters = np.empty(shape=(n_mice, n_parameters))\n",
    "\n",
    "# Define container for the objective function score for the optimised parameters\n",
    "mouse_scores = np.empty(shape=n_mice)\n",
    "\n",
    "# Define \"arbitrary\" starting point for the optimisations\n",
    "initial_parameters = [1, 1, 1]\n",
    "\n",
    "# Find mouse parameters for LXF A677 population\n",
    "mouse_ids = data['#ID'].unique()\n",
    "for index, mouse_id in enumerate(tqdm(mouse_ids)):\n",
    "    # Create mask for mouse with specfied ID\n",
    "    mouse_mask = data['#ID'] == mouse_id\n",
    "\n",
    "    # Get relevant time points\n",
    "    times = data[mouse_mask]['TIME in day'].to_numpy()\n",
    "\n",
    "    # Get measured tumour volumes\n",
    "    observed_volumes = data[mouse_mask]['TUMOUR VOLUME in cm^3'].to_numpy()\n",
    "\n",
    "    # Create inverse problem\n",
    "    problem = pints.SingleOutputProblem(model, times, observed_volumes)\n",
    "\n",
    "    # Create sum of squares error objective function\n",
    "    error = pints.SumOfSquaresError(problem)\n",
    "\n",
    "    # Create optimisation controller with a CMA-ES optimiser\n",
    "    optimiser = pints.OptimisationController(\n",
    "        function=error,\n",
    "        x0=initial_parameters,\n",
    "        method=pints.CMAES)\n",
    "\n",
    "    # Disable logging mode\n",
    "    optimiser.set_log_to_screen(False)\n",
    "\n",
    "    # Parallelise optimisation\n",
    "    optimiser.set_parallel(True)\n",
    "\n",
    "    # Find optimal parameters\n",
    "    estimates, score = optimiser.run()\n",
    "\n",
    "    # Save estimates and score\n",
    "    mouse_parameters[index, :] = estimates\n",
    "    mouse_scores[index] = score"
   ]
  },
  {
   "cell_type": "code",
   "execution_count": 6,
   "metadata": {},
   "outputs": [],
   "source": [
    "#\n",
    "# Solve structural model for inferred model parameters.\n",
    "#\n",
    "# This cell needs the inferred model parameters:\n",
    "# [mouse_parameters]\n",
    "#\n",
    "\n",
    "import numpy as np\n",
    "\n",
    "import pkpd\n",
    "\n",
    "\n",
    "# Create tumour growth model\n",
    "path = pkpd.ModelLibrary().get_path('Tumour growth without treatment - Eigenmann et. al.')\n",
    "model = pkpd.PharmacodynamicModel(path, is_log_transformed=False)\n",
    "\n",
    "# Define simulation time points in day\n",
    "times = np.linspace(start=0, stop=30, num=200)\n",
    "n_times = len(times)\n",
    "\n",
    "# Create container for simulated tumour growth\n",
    "# Shape (n_mice, n_times)\n",
    "n_mice = len(mouse_parameters)\n",
    "tumour_growth = np.empty(shape=(n_mice, n_times))\n",
    "\n",
    "# Solve structural model for LXF A677 population\n",
    "for mouse_id, mouse_params in enumerate(mouse_parameters):\n",
    "    # Simulate mouse tumour growth\n",
    "    tumour_growth[mouse_id, :] = model.simulate(parameters=mouse_params, times=times)\n"
   ]
  },
  {
   "cell_type": "code",
   "execution_count": 7,
   "metadata": {},
   "outputs": [
    {
     "output_type": "display_data",
     "data": {
      "application/vnd.plotly.v1+json": {
       "config": {
        "plotlyServerURL": "https://plot.ly"
       },
       "data": [
        {
         "hovertemplate": "<b>Measurement </b><br>ID: 40<br>Time: %{x:} day<br>Tumour volume: %{y:.02f} cm^3<br>Cancer type: LXF A677<br><extra></extra>",
         "legendgroup": "ID: 40",
         "marker": {
          "color": "#636EFA",
          "line": {
           "color": "black",
           "width": 1
          },
          "opacity": 0.7,
          "symbol": "circle"
         },
         "mode": "markers",
         "name": "ID: 40",
         "showlegend": true,
         "type": "scatter",
         "x": [
          0,
          2,
          4,
          7,
          9,
          11,
          14,
          16,
          18,
          21
         ],
         "y": [
          0.191808,
          0.249158,
          0.330672,
          0.6683669999999999,
          0.915008,
          1.119258,
          1.470432,
          1.6692479999999998,
          1.7521919999999997,
          2.276736
         ]
        },
        {
         "hovertemplate": "<b>Simulation </b><br>ID: 40<br>Time: %{x:.0f} day<br>Tumour volume: %{y:.02f} cm^3<br>Cancer type: LXF A677<br><br><b>Parameter estimates </b><br>Initial tumour volume: 0.14 cm^3<br>Expon. growth rate: 0.28 1/day<br>Lin. growth rate: 0.13 cm^3/day<br><extra></extra>",
         "legendgroup": "ID: 40",
         "line": {
          "color": "#636EFA"
         },
         "mode": "lines",
         "name": "ID: 40",
         "showlegend": false,
         "type": "scatter",
         "x": [
          0,
          0.1507537688442211,
          0.3015075376884422,
          0.4522613065326633,
          0.6030150753768844,
          0.7537688442211055,
          0.9045226130653266,
          1.0552763819095476,
          1.2060301507537687,
          1.3567839195979898,
          1.507537688442211,
          1.658291457286432,
          1.809045226130653,
          1.9597989949748742,
          2.1105527638190953,
          2.2613065326633164,
          2.4120603015075375,
          2.5628140703517586,
          2.7135678391959797,
          2.8643216080402008,
          3.015075376884422,
          3.165829145728643,
          3.316582914572864,
          3.467336683417085,
          3.618090452261306,
          3.7688442211055273,
          3.9195979899497484,
          4.0703517587939695,
          4.221105527638191,
          4.371859296482412,
          4.522613065326633,
          4.673366834170854,
          4.824120603015075,
          4.974874371859296,
          5.125628140703517,
          5.276381909547738,
          5.427135678391959,
          5.57788944723618,
          5.7286432160804015,
          5.879396984924623,
          6.030150753768844,
          6.180904522613065,
          6.331658291457286,
          6.482412060301507,
          6.633165829145728,
          6.783919597989949,
          6.93467336683417,
          7.085427135678391,
          7.236180904522612,
          7.3869346733668335,
          7.537688442211055,
          7.688442211055276,
          7.839195979899497,
          7.989949748743718,
          8.140703517587939,
          8.29145728643216,
          8.442211055276381,
          8.592964824120603,
          8.743718592964823,
          8.894472361809044,
          9.045226130653266,
          9.195979899497488,
          9.346733668341708,
          9.497487437185928,
          9.64824120603015,
          9.798994974874372,
          9.949748743718592,
          10.100502512562812,
          10.251256281407034,
          10.402010050251256,
          10.552763819095476,
          10.703517587939697,
          10.854271356783919,
          11.00502512562814,
          11.15577889447236,
          11.306532663316581,
          11.457286432160803,
          11.608040201005025,
          11.758793969849245,
          11.909547738693465,
          12.060301507537687,
          12.21105527638191,
          12.36180904522613,
          12.51256281407035,
          12.663316582914572,
          12.814070351758794,
          12.964824120603014,
          13.115577889447234,
          13.266331658291456,
          13.417085427135678,
          13.567839195979898,
          13.718592964824118,
          13.86934673366834,
          14.020100502512562,
          14.170854271356783,
          14.321608040201003,
          14.472361809045225,
          14.623115577889447,
          14.773869346733667,
          14.924623115577887,
          15.07537688442211,
          15.226130653266331,
          15.376884422110551,
          15.527638190954772,
          15.678391959798994,
          15.829145728643216,
          15.979899497487436,
          16.130653266331656,
          16.281407035175878,
          16.4321608040201,
          16.58291457286432,
          16.73366834170854,
          16.884422110552762,
          17.035175879396984,
          17.185929648241206,
          17.336683417085425,
          17.487437185929647,
          17.63819095477387,
          17.788944723618087,
          17.93969849246231,
          18.09045226130653,
          18.241206030150753,
          18.391959798994975,
          18.542713567839193,
          18.693467336683415,
          18.844221105527637,
          18.994974874371856,
          19.145728643216078,
          19.2964824120603,
          19.44723618090452,
          19.597989949748744,
          19.748743718592962,
          19.899497487437184,
          20.050251256281406,
          20.201005025125625,
          20.351758793969847,
          20.50251256281407,
          20.65326633165829,
          20.804020100502512,
          20.95477386934673,
          21.105527638190953,
          21.256281407035175,
          21.407035175879393,
          21.557788944723615,
          21.708542713567837,
          21.85929648241206,
          22.01005025125628,
          22.1608040201005,
          22.31155778894472,
          22.462311557788944,
          22.613065326633162,
          22.763819095477384,
          22.914572864321606,
          23.065326633165828,
          23.21608040201005,
          23.36683417085427,
          23.51758793969849,
          23.668341708542712,
          23.81909547738693,
          23.969849246231153,
          24.120603015075375,
          24.271356783919597,
          24.42211055276382,
          24.572864321608037,
          24.72361809045226,
          24.87437185929648,
          25.0251256281407,
          25.17587939698492,
          25.326633165829143,
          25.477386934673365,
          25.628140703517587,
          25.778894472361806,
          25.929648241206028,
          26.08040201005025,
          26.23115577889447,
          26.38190954773869,
          26.532663316582912,
          26.683417085427134,
          26.834170854271356,
          26.984924623115575,
          27.135678391959797,
          27.28643216080402,
          27.437185929648237,
          27.58793969849246,
          27.73869346733668,
          27.889447236180903,
          28.040201005025125,
          28.190954773869343,
          28.341708542713565,
          28.492462311557787,
          28.643216080402006,
          28.793969849246228,
          28.94472361809045,
          29.09547738693467,
          29.246231155778894,
          29.396984924623112,
          29.547738693467334,
          29.698492462311556,
          29.849246231155774,
          30
         ],
         "y": [
          0.13892338964397086,
          0.14638356027708385,
          0.15406857217453424,
          0.16198972529665637,
          0.17014156616182824,
          0.17852394856322676,
          0.18713857501682563,
          0.1959763569675945,
          0.20503179859456427,
          0.21431047853123325,
          0.223808773903188,
          0.23351769423601934,
          0.24343357669961768,
          0.2535532155081557,
          0.2638683906292534,
          0.274378468198721,
          0.2850739789364084,
          0.29595574338691744,
          0.30702017784795493,
          0.31825768640420016,
          0.3296676366822783,
          0.34124602232434553,
          0.3529866098930003,
          0.3648860765471644,
          0.3769401335347899,
          0.3891444237144238,
          0.40149467167882863,
          0.4139865758314071,
          0.42662228269020985,
          0.4393950353278192,
          0.4523002076822979,
          0.4653335752170594,
          0.4784909133955174,
          0.4917679976810853,
          0.5051606035371768,
          0.5186645064272054,
          0.5322754818145847,
          0.5459893051627281,
          0.5598128477681718,
          0.5737383225773915,
          0.5877613289761399,
          0.6018786644951404,
          0.6160871266651169,
          0.6303864439180441,
          0.6447776099695082,
          0.6592547918905152,
          0.6738154410123499,
          0.6884570086662976,
          0.7031769461836428,
          0.7179763640114935,
          0.7328512626315511,
          0.7477991866475976,
          0.7628178982791397,
          0.7779051597456846,
          0.7930606933100485,
          0.8082843608619562,
          0.8235725198545352,
          0.8389233156972299,
          0.8543348937994851,
          0.8698053995707461,
          0.8853365929737196,
          0.9009249200262556,
          0.9165687549287518,
          0.9322665307160689,
          0.948016680423068,
          0.9638191160740189,
          0.9796734288909638,
          0.9955772060154476,
          1.0115291371349093,
          1.027527911936787,
          1.04357228254976,
          1.0596634907866889,
          1.0757989435259028,
          1.0919775351880798,
          1.1081981601938986,
          1.1244597129640383,
          1.140762601800189,
          1.1571065520155932,
          1.1734897740332033,
          1.189911400159398,
          1.2063705630799881,
          1.222866395860216,
          1.2393980319447564,
          1.2559646051577167,
          1.272565249702636,
          1.2891999437567776,
          1.3058686907258614,
          1.322569854642008,
          1.3393027217812195,
          1.3560665876225868,
          1.3728607568482896,
          1.3896845433435983,
          1.4065372701968715,
          1.4234182696995572,
          1.4403273823291998,
          1.457265057454353,
          1.4742298350529301,
          1.49122121090497,
          1.50823869817028,
          1.5252818273884363,
          1.542350146478784,
          1.5594432207404367,
          1.5765606328522759,
          1.5937019022305141,
          1.6108662354239065,
          1.6280535414411246,
          1.6452634366569474,
          1.6624955524945537,
          1.6797495354255207,
          1.6970250469698247,
          1.7143217636958408,
          1.731639377220344,
          1.7489775145390523,
          1.7663341473609577,
          1.7837102592157401,
          1.8011055467494546,
          1.8185197219950586,
          1.8359525123724119,
          1.8534036606882751,
          1.8708729251363132,
          1.8883600792970916,
          1.9058649121380782,
          1.9233872280136433,
          1.9409268466650587,
          1.9584836032205002,
          1.9760573481950434,
          1.9936479474906672,
          2.0112552823962533,
          2.0288792495875843,
          2.0465118641208684,
          2.064158528290884,
          2.0818195604991554,
          2.099494775058317,
          2.117184007315663,
          2.134887114691126,
          2.1526039777152493,
          2.1703345010671646,
          2.188078614612564,
          2.205836274441678,
          2.223607463907248,
          2.241392194662505,
          2.2591905076991394,
          2.2770024743852804,
          2.2948281975034703,
          2.312667812288638,
          2.3305214874660747,
          2.34838942628941,
          2.366271867578585,
          2.384169086757831,
          2.4020813968936396,
          2.4200091497327407,
          2.4379320400084232,
          2.4558580759367317,
          2.4737946979520204,
          2.491741861313814,
          2.5096995395944113,
          2.5276677253261086,
          2.5456464306484192,
          2.5636356879552955,
          2.581635550542353,
          2.59964609325409,
          2.6176674131311093,
          2.635699630057341,
          2.6537428874072644,
          2.671797352693129,
          2.689863218212177,
          2.7079407016938646,
          2.7260300469470837,
          2.744131524507384,
          2.7622454322841956,
          2.780372096208049,
          2.798511870877798,
          2.8166651402078413,
          2.8348181249535105,
          2.852967109683662,
          2.871125057510552,
          2.889291941555333,
          2.9074677413546994,
          2.925652442963209,
          2.9438460390556,
          2.9620485290291145,
          2.9802599191058174,
          2.9984802224349174,
          3.0167094591950874,
          3.0349476566967857,
          3.0531948494845755,
          3.071451079439445,
          3.089716395881129,
          3.107990855670431,
          3.1262745233115394,
          3.1445674710543514,
          3.162869778996792,
          3.181181535187137,
          3.199502835726328,
          3.217833784870299,
          3.2361713285621265,
          3.2545093254094772,
          3.2728550272908614,
          3.2912083602979845,
          3.309569248714702
         ]
        },
        {
         "hovertemplate": "<b>Measurement </b><br>ID: 94<br>Time: %{x:} day<br>Tumour volume: %{y:.02f} cm^3<br>Cancer type: LXF A677<br><extra></extra>",
         "legendgroup": "ID: 94",
         "marker": {
          "color": "#EF553B",
          "line": {
           "color": "black",
           "width": 1
          },
          "opacity": 0.7,
          "symbol": "circle"
         },
         "mode": "markers",
         "name": "ID: 94",
         "showlegend": true,
         "type": "scatter",
         "x": [
          0,
          2,
          4,
          7,
          9,
          11,
          14,
          16,
          18,
          21,
          23,
          25,
          28,
          30
         ],
         "y": [
          0.07724750000000001,
          0.0884835,
          0.125316,
          0.165528,
          0.189486,
          0.264654,
          0.264654,
          0.306936,
          0.389207,
          0.389207,
          0.405769,
          0.4264715,
          0.5551309999999999,
          0.57624
         ]
        },
        {
         "hovertemplate": "<b>Simulation </b><br>ID: 94<br>Time: %{x:.0f} day<br>Tumour volume: %{y:.02f} cm^3<br>Cancer type: LXF A677<br><br><b>Parameter estimates </b><br>Initial tumour volume: 0.07 cm^3<br>Expon. growth rate: 0.17 1/day<br>Lin. growth rate: 0.02 cm^3/day<br><extra></extra>",
         "legendgroup": "ID: 94",
         "line": {
          "color": "#EF553B"
         },
         "mode": "lines",
         "name": "ID: 94",
         "showlegend": false,
         "type": "scatter",
         "x": [
          0,
          0.1507537688442211,
          0.3015075376884422,
          0.4522613065326633,
          0.6030150753768844,
          0.7537688442211055,
          0.9045226130653266,
          1.0552763819095476,
          1.2060301507537687,
          1.3567839195979898,
          1.507537688442211,
          1.658291457286432,
          1.809045226130653,
          1.9597989949748742,
          2.1105527638190953,
          2.2613065326633164,
          2.4120603015075375,
          2.5628140703517586,
          2.7135678391959797,
          2.8643216080402008,
          3.015075376884422,
          3.165829145728643,
          3.316582914572864,
          3.467336683417085,
          3.618090452261306,
          3.7688442211055273,
          3.9195979899497484,
          4.0703517587939695,
          4.221105527638191,
          4.371859296482412,
          4.522613065326633,
          4.673366834170854,
          4.824120603015075,
          4.974874371859296,
          5.125628140703517,
          5.276381909547738,
          5.427135678391959,
          5.57788944723618,
          5.7286432160804015,
          5.879396984924623,
          6.030150753768844,
          6.180904522613065,
          6.331658291457286,
          6.482412060301507,
          6.633165829145728,
          6.783919597989949,
          6.93467336683417,
          7.085427135678391,
          7.236180904522612,
          7.3869346733668335,
          7.537688442211055,
          7.688442211055276,
          7.839195979899497,
          7.989949748743718,
          8.140703517587939,
          8.29145728643216,
          8.442211055276381,
          8.592964824120603,
          8.743718592964823,
          8.894472361809044,
          9.045226130653266,
          9.195979899497488,
          9.346733668341708,
          9.497487437185928,
          9.64824120603015,
          9.798994974874372,
          9.949748743718592,
          10.100502512562812,
          10.251256281407034,
          10.402010050251256,
          10.552763819095476,
          10.703517587939697,
          10.854271356783919,
          11.00502512562814,
          11.15577889447236,
          11.306532663316581,
          11.457286432160803,
          11.608040201005025,
          11.758793969849245,
          11.909547738693465,
          12.060301507537687,
          12.21105527638191,
          12.36180904522613,
          12.51256281407035,
          12.663316582914572,
          12.814070351758794,
          12.964824120603014,
          13.115577889447234,
          13.266331658291456,
          13.417085427135678,
          13.567839195979898,
          13.718592964824118,
          13.86934673366834,
          14.020100502512562,
          14.170854271356783,
          14.321608040201003,
          14.472361809045225,
          14.623115577889447,
          14.773869346733667,
          14.924623115577887,
          15.07537688442211,
          15.226130653266331,
          15.376884422110551,
          15.527638190954772,
          15.678391959798994,
          15.829145728643216,
          15.979899497487436,
          16.130653266331656,
          16.281407035175878,
          16.4321608040201,
          16.58291457286432,
          16.73366834170854,
          16.884422110552762,
          17.035175879396984,
          17.185929648241206,
          17.336683417085425,
          17.487437185929647,
          17.63819095477387,
          17.788944723618087,
          17.93969849246231,
          18.09045226130653,
          18.241206030150753,
          18.391959798994975,
          18.542713567839193,
          18.693467336683415,
          18.844221105527637,
          18.994974874371856,
          19.145728643216078,
          19.2964824120603,
          19.44723618090452,
          19.597989949748744,
          19.748743718592962,
          19.899497487437184,
          20.050251256281406,
          20.201005025125625,
          20.351758793969847,
          20.50251256281407,
          20.65326633165829,
          20.804020100502512,
          20.95477386934673,
          21.105527638190953,
          21.256281407035175,
          21.407035175879393,
          21.557788944723615,
          21.708542713567837,
          21.85929648241206,
          22.01005025125628,
          22.1608040201005,
          22.31155778894472,
          22.462311557788944,
          22.613065326633162,
          22.763819095477384,
          22.914572864321606,
          23.065326633165828,
          23.21608040201005,
          23.36683417085427,
          23.51758793969849,
          23.668341708542712,
          23.81909547738693,
          23.969849246231153,
          24.120603015075375,
          24.271356783919597,
          24.42211055276382,
          24.572864321608037,
          24.72361809045226,
          24.87437185929648,
          25.0251256281407,
          25.17587939698492,
          25.326633165829143,
          25.477386934673365,
          25.628140703517587,
          25.778894472361806,
          25.929648241206028,
          26.08040201005025,
          26.23115577889447,
          26.38190954773869,
          26.532663316582912,
          26.683417085427134,
          26.834170854271356,
          26.984924623115575,
          27.135678391959797,
          27.28643216080402,
          27.437185929648237,
          27.58793969849246,
          27.73869346733668,
          27.889447236180903,
          28.040201005025125,
          28.190954773869343,
          28.341708542713565,
          28.492462311557787,
          28.643216080402006,
          28.793969849246228,
          28.94472361809045,
          29.09547738693467,
          29.246231155778894,
          29.396984924623112,
          29.547738693467334,
          29.698492462311556,
          29.849246231155774,
          30
         ],
         "y": [
          0.07479931916644908,
          0.07649558713600044,
          0.07820785214311708,
          0.07993448134731804,
          0.08167676256291762,
          0.08343492192658301,
          0.08520889518047135,
          0.08699736367786622,
          0.08880065901994129,
          0.09061917632167871,
          0.09245291558307847,
          0.09430187680414058,
          0.09616524608581359,
          0.09804105157797849,
          0.0999310520483556,
          0.10183524749694495,
          0.10375363792374655,
          0.10568622332876036,
          0.10763007401688676,
          0.10958643636618734,
          0.11155585406080502,
          0.11353832710073981,
          0.11553385548599171,
          0.11754129806714211,
          0.11955904594750791,
          0.12158876543607927,
          0.12363045653285622,
          0.12568411923783873,
          0.12774975355102683,
          0.12982442974237282,
          0.1319097990971631,
          0.134006121936199,
          0.1361133982594805,
          0.1382316280670076,
          0.140359827954086,
          0.14249709331439814,
          0.14464431617313434,
          0.14680141588446424,
          0.14896831180255748,
          0.15114492328158374,
          0.1533311696757126,
          0.15552697033911372,
          0.15773192711676468,
          0.15994478966328926,
          0.16216637203219858,
          0.1643965308607175,
          0.16663512278607087,
          0.16888200444548354,
          0.17113703247618034,
          0.17340006351538612,
          0.17567095420032572,
          0.17794952170045675,
          0.18023564777954745,
          0.1825291881232211,
          0.18482999787169402,
          0.18713793216518246,
          0.1894528461439028,
          0.19177459494807125,
          0.19410303371790416,
          0.1964396269545491,
          0.198783603602757,
          0.2011343633463288,
          0.2034917734113362,
          0.2058557010238507,
          0.20822601340994396,
          0.2106025777956875,
          0.2129852614071529,
          0.2153739314704118,
          0.21776845521153576,
          0.22016869985659637,
          0.22257453263166518,
          0.2249858207628138,
          0.2274024314761138,
          0.22982423199763677,
          0.23225108955345428,
          0.23468287136963795,
          0.23711944467225932,
          0.23956067668739003,
          0.24200858115265267,
          0.2444615256265343,
          0.24691933888833734,
          0.24938193638829764,
          0.2518492335766511,
          0.25432114590363364,
          0.2567975888194811,
          0.2592784777744295,
          0.26176372821871463,
          0.26425325560257246,
          0.26674697537623887,
          0.2692456100770586,
          0.271748796144694,
          0.27425622626022544,
          0.2767678394384021,
          0.27928357469397297,
          0.2818033710416871,
          0.2843271674962937,
          0.28685490307254186,
          0.2893865167851806,
          0.291921947648959,
          0.29446113467862617,
          0.29700423108312646,
          0.2995512358268291,
          0.30210192898343763,
          0.30465625860903567,
          0.30721417275970697,
          0.3097756194915352,
          0.31234054686060386,
          0.3149089029229967,
          0.3174806357347975,
          0.3200556933520897,
          0.3226340238309571,
          0.3252156975143223,
          0.3278008777425353,
          0.3303892870576441,
          0.33298088246073265,
          0.33557562095288496,
          0.33817345953518524,
          0.34077435520871746,
          0.34337826497456564,
          0.34598514583381385,
          0.3485949547875461,
          0.35120764883684646,
          0.3538232135623034,
          0.35644188270530924,
          0.3590633921025628,
          0.36168770558988794,
          0.3643147870031088,
          0.36694460017804953,
          0.36957710895053403,
          0.37221227715638644,
          0.3748500686314308,
          0.37749044721149105,
          0.38013337673239145,
          0.3827788210299559,
          0.3854270629437986,
          0.3880778771332536,
          0.39073119844310783,
          0.393386998469929,
          0.3960452488182415,
          0.3987059211005266,
          0.4013689869372228,
          0.4040344179567252,
          0.4067021857953858,
          0.4093722620975138,
          0.4120446185153751,
          0.4147192267091925,
          0.41739605834714577,
          0.42007508510537156,
          0.4227562786679635,
          0.4254396107269721,
          0.4281250529824047,
          0.43081257714222576,
          0.4335022260211656,
          0.4361941730211791,
          0.43888818367028587,
          0.4415842352934562,
          0.44428230539472485,
          0.44698237165719046,
          0.4496844119430161,
          0.45238840429342914,
          0.45509432692872104,
          0.45780215824824744,
          0.4605118768304283,
          0.4632234614327478,
          0.46593689099175445,
          0.46865214462306076,
          0.47136920162134366,
          0.4740880414603442,
          0.47680864379286775,
          0.4795309884507838,
          0.4822550554450261,
          0.48498092748998894,
          0.48770858371328746,
          0.49043794080560715,
          0.4931689825807508,
          0.4959016931342727,
          0.49863605684347817,
          0.501372058367424,
          0.5041096826469184,
          0.5068489149045206,
          0.5095897406445412,
          0.5123321456530425,
          0.5150761159978378,
          0.5178216380284915,
          0.5205686983763197,
          0.5233172839543896,
          0.5260673819575199,
          0.5288189798622802,
          0.5315720654269921,
          0.5343266266917278,
          0.5370826070153193,
          0.53984002751242,
          0.5425988793136227,
          0.545359150758022,
          0.5481208304392337,
          0.5508839072053955,
          0.5536483701591665,
          0.5564142086577272,
          0.5591814123127798,
          0.5619499709905483
         ]
        },
        {
         "hovertemplate": "<b>Measurement </b><br>ID: 95<br>Time: %{x:} day<br>Tumour volume: %{y:.02f} cm^3<br>Cancer type: LXF A677<br><extra></extra>",
         "legendgroup": "ID: 95",
         "marker": {
          "color": "#00CC96",
          "line": {
           "color": "black",
           "width": 1
          },
          "opacity": 0.7,
          "symbol": "circle"
         },
         "mode": "markers",
         "name": "ID: 95",
         "showlegend": true,
         "type": "scatter",
         "x": [
          0,
          2,
          4,
          7,
          9,
          11,
          14,
          16,
          18,
          21
         ],
         "y": [
          0.1862,
          0.24641999999999997,
          0.4293,
          0.62426,
          0.7246720000000001,
          0.7300800000000001,
          0.9196,
          1.131184,
          1.675872,
          2.346616
         ]
        },
        {
         "hovertemplate": "<b>Simulation </b><br>ID: 95<br>Time: %{x:.0f} day<br>Tumour volume: %{y:.02f} cm^3<br>Cancer type: LXF A677<br><br><b>Parameter estimates </b><br>Initial tumour volume: 0.22 cm^3<br>Expon. growth rate: 0.06 1/day<br>Lin. growth rate: 740376006849.86 cm^3/day<br><extra></extra>",
         "legendgroup": "ID: 95",
         "line": {
          "color": "#00CC96"
         },
         "mode": "lines",
         "name": "ID: 95",
         "showlegend": false,
         "type": "scatter",
         "x": [
          0,
          0.1507537688442211,
          0.3015075376884422,
          0.4522613065326633,
          0.6030150753768844,
          0.7537688442211055,
          0.9045226130653266,
          1.0552763819095476,
          1.2060301507537687,
          1.3567839195979898,
          1.507537688442211,
          1.658291457286432,
          1.809045226130653,
          1.9597989949748742,
          2.1105527638190953,
          2.2613065326633164,
          2.4120603015075375,
          2.5628140703517586,
          2.7135678391959797,
          2.8643216080402008,
          3.015075376884422,
          3.165829145728643,
          3.316582914572864,
          3.467336683417085,
          3.618090452261306,
          3.7688442211055273,
          3.9195979899497484,
          4.0703517587939695,
          4.221105527638191,
          4.371859296482412,
          4.522613065326633,
          4.673366834170854,
          4.824120603015075,
          4.974874371859296,
          5.125628140703517,
          5.276381909547738,
          5.427135678391959,
          5.57788944723618,
          5.7286432160804015,
          5.879396984924623,
          6.030150753768844,
          6.180904522613065,
          6.331658291457286,
          6.482412060301507,
          6.633165829145728,
          6.783919597989949,
          6.93467336683417,
          7.085427135678391,
          7.236180904522612,
          7.3869346733668335,
          7.537688442211055,
          7.688442211055276,
          7.839195979899497,
          7.989949748743718,
          8.140703517587939,
          8.29145728643216,
          8.442211055276381,
          8.592964824120603,
          8.743718592964823,
          8.894472361809044,
          9.045226130653266,
          9.195979899497488,
          9.346733668341708,
          9.497487437185928,
          9.64824120603015,
          9.798994974874372,
          9.949748743718592,
          10.100502512562812,
          10.251256281407034,
          10.402010050251256,
          10.552763819095476,
          10.703517587939697,
          10.854271356783919,
          11.00502512562814,
          11.15577889447236,
          11.306532663316581,
          11.457286432160803,
          11.608040201005025,
          11.758793969849245,
          11.909547738693465,
          12.060301507537687,
          12.21105527638191,
          12.36180904522613,
          12.51256281407035,
          12.663316582914572,
          12.814070351758794,
          12.964824120603014,
          13.115577889447234,
          13.266331658291456,
          13.417085427135678,
          13.567839195979898,
          13.718592964824118,
          13.86934673366834,
          14.020100502512562,
          14.170854271356783,
          14.321608040201003,
          14.472361809045225,
          14.623115577889447,
          14.773869346733667,
          14.924623115577887,
          15.07537688442211,
          15.226130653266331,
          15.376884422110551,
          15.527638190954772,
          15.678391959798994,
          15.829145728643216,
          15.979899497487436,
          16.130653266331656,
          16.281407035175878,
          16.4321608040201,
          16.58291457286432,
          16.73366834170854,
          16.884422110552762,
          17.035175879396984,
          17.185929648241206,
          17.336683417085425,
          17.487437185929647,
          17.63819095477387,
          17.788944723618087,
          17.93969849246231,
          18.09045226130653,
          18.241206030150753,
          18.391959798994975,
          18.542713567839193,
          18.693467336683415,
          18.844221105527637,
          18.994974874371856,
          19.145728643216078,
          19.2964824120603,
          19.44723618090452,
          19.597989949748744,
          19.748743718592962,
          19.899497487437184,
          20.050251256281406,
          20.201005025125625,
          20.351758793969847,
          20.50251256281407,
          20.65326633165829,
          20.804020100502512,
          20.95477386934673,
          21.105527638190953,
          21.256281407035175,
          21.407035175879393,
          21.557788944723615,
          21.708542713567837,
          21.85929648241206,
          22.01005025125628,
          22.1608040201005,
          22.31155778894472,
          22.462311557788944,
          22.613065326633162,
          22.763819095477384,
          22.914572864321606,
          23.065326633165828,
          23.21608040201005,
          23.36683417085427,
          23.51758793969849,
          23.668341708542712,
          23.81909547738693,
          23.969849246231153,
          24.120603015075375,
          24.271356783919597,
          24.42211055276382,
          24.572864321608037,
          24.72361809045226,
          24.87437185929648,
          25.0251256281407,
          25.17587939698492,
          25.326633165829143,
          25.477386934673365,
          25.628140703517587,
          25.778894472361806,
          25.929648241206028,
          26.08040201005025,
          26.23115577889447,
          26.38190954773869,
          26.532663316582912,
          26.683417085427134,
          26.834170854271356,
          26.984924623115575,
          27.135678391959797,
          27.28643216080402,
          27.437185929648237,
          27.58793969849246,
          27.73869346733668,
          27.889447236180903,
          28.040201005025125,
          28.190954773869343,
          28.341708542713565,
          28.492462311557787,
          28.643216080402006,
          28.793969849246228,
          28.94472361809045,
          29.09547738693467,
          29.246231155778894,
          29.396984924623112,
          29.547738693467334,
          29.698492462311556,
          29.849246231155774,
          30
         ],
         "y": [
          0.22108765500858685,
          0.22483454031955993,
          0.22863845425347992,
          0.23250115264460952,
          0.23642772703188059,
          0.24042035949223947,
          0.24448043815245876,
          0.24860880778891148,
          0.2528072718079874,
          0.2570759590815411,
          0.2614169711373413,
          0.2658309729198758,
          0.2703192261829207,
          0.2748832732227005,
          0.2795241888296049,
          0.2842437156593266,
          0.2890429457187748,
          0.2939231570796592,
          0.29888563039643157,
          0.30393233815232623,
          0.3090649823932945,
          0.31428443081707674,
          0.31959202589187036,
          0.3249891100858727,
          0.3304770258672814,
          0.3360571157042937,
          0.34173200880585564,
          0.3475040802104305,
          0.35337363672342903,
          0.35934217133108803,
          0.3654111770196443,
          0.37158214677533474,
          0.37785657358439606,
          0.38423735832688494,
          0.39072768131951974,
          0.39732756498773597,
          0.4040386941994027,
          0.41086275382238896,
          0.4178014287245637,
          0.424856403773796,
          0.4320307016935171,
          0.43932832810409717,
          0.446749136710209,
          0.4542950297821557,
          0.4619679095902402,
          0.4697696784047656,
          0.4777022384960348,
          0.48576870020861673,
          0.4939739882555777,
          0.5023177913540569,
          0.5108022534825609,
          0.5194295186195969,
          0.5282017307436716,
          0.5371210338332918,
          0.5461906164932908,
          0.5554164782399339,
          0.5647980989321194,
          0.5743378924902047,
          0.5840382728345473,
          0.5939016538855048,
          0.6039304495634348,
          0.6141279128302448,
          0.6245013092239693,
          0.6350498535865379,
          0.645776262867851,
          0.6566832540178084,
          0.6677735439863104,
          0.6790498497232572,
          0.690515466035799,
          0.7021791402082669,
          0.7140397633954021,
          0.7261003934834368,
          0.7383640883586031,
          0.7508339059071327,
          0.7635129040152575,
          0.7764043891872292,
          0.7895188321754918,
          0.8028547380289622,
          0.8164155484244823,
          0.8302047050388938,
          0.8442256495490386,
          0.8584818236317585,
          0.8729766689638953,
          0.8877221703694015,
          0.9027168603313034,
          0.9179644515223612,
          0.9334688176469365,
          0.9492338324093912,
          0.965263369514087,
          0.9815613026653855,
          0.9981404148363001,
          1.015000214529868,
          1.0321443970268909,
          1.0495773223208427,
          1.0673033504051974,
          1.0853268412734298,
          1.1036521549190144,
          1.1222928998898767,
          1.1412497985606596,
          1.1605264802470363,
          1.1801278522853023,
          1.2000588220117514,
          1.2203242967626786,
          1.2409291838743786,
          1.261887941423905,
          1.2832027840325615,
          1.3048772162185824,
          1.3269167613723112,
          1.3493269428840902,
          1.3721132841442616,
          1.3952813085431677,
          1.4188463429009726,
          1.4428124191696887,
          1.4671828463424268,
          1.491963841199653,
          1.517161620521833,
          1.5427824010894349,
          1.568832399682924,
          1.5953278249216227,
          1.622274904830889,
          1.6496766684103947,
          1.6775401128759504,
          1.7058722354433669,
          1.734680033328454,
          1.7639705037470244,
          1.7937607424148612,
          1.8240596136814957,
          1.8548697662491505,
          1.886199075742131,
          1.9180554177847433,
          1.9504466680012935,
          1.9833807020160872,
          2.0168754983327184,
          2.050943068285166,
          2.0855855617577914,
          2.120811843056025,
          2.1566307764852968,
          2.1930512263510353,
          2.2300820569586706,
          2.267742113536734,
          2.3060471455746403,
          2.344998664701088,
          2.3846066480185892,
          2.4248810726296592,
          2.4658319156368096,
          2.5074691541425547,
          2.549812469785558,
          2.5928820333492024,
          2.636678554791977,
          2.681213263710559,
          2.726497389701624,
          2.772542162361851,
          2.8193588112879167,
          2.8669678070651035,
          2.915394529861205,
          2.9646386971124246,
          3.014712948143806,
          3.0656299222803884,
          3.1174022588472123,
          3.1700425971693216,
          3.2235721288155266,
          3.278022351085429,
          3.333391766692674,
          3.3896946016635487,
          3.4469450820243446,
          3.5051574338013487,
          3.564345883020849,
          3.6245322499051604,
          3.685755192932593,
          3.7480117421313826,
          3.8113179094185576,
          3.875689706711145,
          3.941143145926176,
          4.007694238980678,
          4.0753653135994545,
          4.144203388610345,
          4.214203722652128,
          4.285384337727705,
          4.357763255839976,
          4.431358498991842,
          4.506188089186206,
          4.582274706557655,
          4.659675105855541,
          4.738382429276093,
          4.81841696124796,
          4.899798986199793,
          4.982548788560241,
          5.0666866527579515,
          5.152235416426718,
          5.239263146248583,
          5.327760470262675,
          5.41775021934123,
          5.509255224356484,
          5.60229831618067,
          5.696902325686024,
          5.793090083744777,
          5.890942540960203,
          5.990447585342223,
          6.091630836678961,
          6.194517991958788
         ]
        },
        {
         "hovertemplate": "<b>Measurement </b><br>ID: 136<br>Time: %{x:} day<br>Tumour volume: %{y:.02f} cm^3<br>Cancer type: LXF A677<br><extra></extra>",
         "legendgroup": "ID: 136",
         "marker": {
          "color": "#AB63FA",
          "line": {
           "color": "black",
           "width": 1
          },
          "opacity": 0.7,
          "symbol": "circle"
         },
         "mode": "markers",
         "name": "ID: 136",
         "showlegend": true,
         "type": "scatter",
         "x": [
          0,
          2,
          4,
          7,
          9,
          11,
          14,
          16,
          18,
          21,
          23,
          25,
          28,
          30
         ],
         "y": [
          0.1185885,
          0.175071,
          0.22999200000000006,
          0.3026885,
          0.3026885,
          0.37044,
          0.5341545,
          0.651688,
          0.7212869999999999,
          0.78732,
          0.8529505000000001,
          1.104558,
          1.1328799999999999,
          1.4593425
         ]
        },
        {
         "hovertemplate": "<b>Simulation </b><br>ID: 136<br>Time: %{x:.0f} day<br>Tumour volume: %{y:.02f} cm^3<br>Cancer type: LXF A677<br><br><b>Parameter estimates </b><br>Initial tumour volume: 0.15 cm^3<br>Expon. growth rate: 0.05 1/day<br>Lin. growth rate: 0.13 cm^3/day<br><extra></extra>",
         "legendgroup": "ID: 136",
         "line": {
          "color": "#AB63FA"
         },
         "mode": "lines",
         "name": "ID: 136",
         "showlegend": false,
         "type": "scatter",
         "x": [
          0,
          0.1507537688442211,
          0.3015075376884422,
          0.4522613065326633,
          0.6030150753768844,
          0.7537688442211055,
          0.9045226130653266,
          1.0552763819095476,
          1.2060301507537687,
          1.3567839195979898,
          1.507537688442211,
          1.658291457286432,
          1.809045226130653,
          1.9597989949748742,
          2.1105527638190953,
          2.2613065326633164,
          2.4120603015075375,
          2.5628140703517586,
          2.7135678391959797,
          2.8643216080402008,
          3.015075376884422,
          3.165829145728643,
          3.316582914572864,
          3.467336683417085,
          3.618090452261306,
          3.7688442211055273,
          3.9195979899497484,
          4.0703517587939695,
          4.221105527638191,
          4.371859296482412,
          4.522613065326633,
          4.673366834170854,
          4.824120603015075,
          4.974874371859296,
          5.125628140703517,
          5.276381909547738,
          5.427135678391959,
          5.57788944723618,
          5.7286432160804015,
          5.879396984924623,
          6.030150753768844,
          6.180904522613065,
          6.331658291457286,
          6.482412060301507,
          6.633165829145728,
          6.783919597989949,
          6.93467336683417,
          7.085427135678391,
          7.236180904522612,
          7.3869346733668335,
          7.537688442211055,
          7.688442211055276,
          7.839195979899497,
          7.989949748743718,
          8.140703517587939,
          8.29145728643216,
          8.442211055276381,
          8.592964824120603,
          8.743718592964823,
          8.894472361809044,
          9.045226130653266,
          9.195979899497488,
          9.346733668341708,
          9.497487437185928,
          9.64824120603015,
          9.798994974874372,
          9.949748743718592,
          10.100502512562812,
          10.251256281407034,
          10.402010050251256,
          10.552763819095476,
          10.703517587939697,
          10.854271356783919,
          11.00502512562814,
          11.15577889447236,
          11.306532663316581,
          11.457286432160803,
          11.608040201005025,
          11.758793969849245,
          11.909547738693465,
          12.060301507537687,
          12.21105527638191,
          12.36180904522613,
          12.51256281407035,
          12.663316582914572,
          12.814070351758794,
          12.964824120603014,
          13.115577889447234,
          13.266331658291456,
          13.417085427135678,
          13.567839195979898,
          13.718592964824118,
          13.86934673366834,
          14.020100502512562,
          14.170854271356783,
          14.321608040201003,
          14.472361809045225,
          14.623115577889447,
          14.773869346733667,
          14.924623115577887,
          15.07537688442211,
          15.226130653266331,
          15.376884422110551,
          15.527638190954772,
          15.678391959798994,
          15.829145728643216,
          15.979899497487436,
          16.130653266331656,
          16.281407035175878,
          16.4321608040201,
          16.58291457286432,
          16.73366834170854,
          16.884422110552762,
          17.035175879396984,
          17.185929648241206,
          17.336683417085425,
          17.487437185929647,
          17.63819095477387,
          17.788944723618087,
          17.93969849246231,
          18.09045226130653,
          18.241206030150753,
          18.391959798994975,
          18.542713567839193,
          18.693467336683415,
          18.844221105527637,
          18.994974874371856,
          19.145728643216078,
          19.2964824120603,
          19.44723618090452,
          19.597989949748744,
          19.748743718592962,
          19.899497487437184,
          20.050251256281406,
          20.201005025125625,
          20.351758793969847,
          20.50251256281407,
          20.65326633165829,
          20.804020100502512,
          20.95477386934673,
          21.105527638190953,
          21.256281407035175,
          21.407035175879393,
          21.557788944723615,
          21.708542713567837,
          21.85929648241206,
          22.01005025125628,
          22.1608040201005,
          22.31155778894472,
          22.462311557788944,
          22.613065326633162,
          22.763819095477384,
          22.914572864321606,
          23.065326633165828,
          23.21608040201005,
          23.36683417085427,
          23.51758793969849,
          23.668341708542712,
          23.81909547738693,
          23.969849246231153,
          24.120603015075375,
          24.271356783919597,
          24.42211055276382,
          24.572864321608037,
          24.72361809045226,
          24.87437185929648,
          25.0251256281407,
          25.17587939698492,
          25.326633165829143,
          25.477386934673365,
          25.628140703517587,
          25.778894472361806,
          25.929648241206028,
          26.08040201005025,
          26.23115577889447,
          26.38190954773869,
          26.532663316582912,
          26.683417085427134,
          26.834170854271356,
          26.984924623115575,
          27.135678391959797,
          27.28643216080402,
          27.437185929648237,
          27.58793969849246,
          27.73869346733668,
          27.889447236180903,
          28.040201005025125,
          28.190954773869343,
          28.341708542713565,
          28.492462311557787,
          28.643216080402006,
          28.793969849246228,
          28.94472361809045,
          29.09547738693467,
          29.246231155778894,
          29.396984924623112,
          29.547738693467334,
          29.698492462311556,
          29.849246231155774,
          30
         ],
         "y": [
          0.14816487381787657,
          0.1503573450203699,
          0.15257697154577252,
          0.15482116180383063,
          0.15709299820685266,
          0.1593937622399343,
          0.16172410063476417,
          0.16408429001106678,
          0.16647483763589335,
          0.16889532945395322,
          0.1713468109599834,
          0.1738292102627128,
          0.1763423366609942,
          0.17888757545098824,
          0.18146427161334128,
          0.18407288388284776,
          0.18671500682959732,
          0.1893898785272126,
          0.192097569271319,
          0.19483814935754196,
          0.19761168908150692,
          0.20041825873883934,
          0.20325896814755745,
          0.20613462972267527,
          0.20904456674268918,
          0.21198897467887967,
          0.21496804900252717,
          0.21798198518491205,
          0.22103097869731478,
          0.22411591256877367,
          0.2272369259594158,
          0.23039404388312118,
          0.23358751609581552,
          0.23681759235342453,
          0.24008452241187392,
          0.2433885560270894,
          0.2467300551829658,
          0.2501092135302049,
          0.25352628089116164,
          0.25698151347183856,
          0.26047516747823807,
          0.2640074991163626,
          0.2675786577482174,
          0.2711883076730878,
          0.2748371783176258,
          0.2785255170399635,
          0.28225357119823336,
          0.2860215881505679,
          0.2898298152550993,
          0.29367849986996014,
          0.29756788935328266,
          0.3014982310631993,
          0.30546977235784245,
          0.3094827605953444,
          0.3135374431338377,
          0.3176340673314545,
          0.321771304047857,
          0.3259499644396946,
          0.3301708014133699,
          0.3344340288680224,
          0.33873986070279155,
          0.3430885108168165,
          0.3474801931092366,
          0.35191512147919124,
          0.35639350982581985,
          0.3609155720482617,
          0.36548152204565604,
          0.37009157371714235,
          0.3747459409618599,
          0.3794439997155422,
          0.38418433206295444,
          0.38896893690690065,
          0.3937979816383392,
          0.3986716336482281,
          0.40359006032752565,
          0.40855342906719005,
          0.41356190725817954,
          0.4186156622914523,
          0.42371486155796645,
          0.4288596724486803,
          0.4340502623545521,
          0.4392867986665399,
          0.444569448775602,
          0.4498955863241221,
          0.45526704641643856,
          0.46068436704949917,
          0.4661476662077027,
          0.4716570618754481,
          0.4772126720371344,
          0.4828146146771604,
          0.48846300777992496,
          0.49415796932982703,
          0.49989961731126553,
          0.5056880697086393,
          0.5115234445063472,
          0.5174058596887884,
          0.5233340079819795,
          0.5293069514944984,
          0.5353264945347581,
          0.5413927015875829,
          0.5475056371377971,
          0.5536653656702248,
          0.5598719516696904,
          0.566125459621018,
          0.5724259540090321,
          0.5787734993185567,
          0.5851681600344161,
          0.5916100006414347,
          0.5980990856244367,
          0.6046354794682464,
          0.6112157564801766,
          0.6178426765070998,
          0.6245162860609237,
          0.6312365969257148,
          0.6380036208855397,
          0.6448173697244651,
          0.651677855226558,
          0.6585850891758848,
          0.6655390833565121,
          0.6725398495525068,
          0.6795873995479356,
          0.6866817451268649,
          0.6938228980733616,
          0.7010082504474606,
          0.7082375491425624,
          0.7155126237630989,
          0.7228334227401914,
          0.7301998953744555,
          0.7376119918359997,
          0.7450696631644261,
          0.7525728612688309,
          0.7601215389278031,
          0.7677156497894263,
          0.7753551483712767,
          0.7830399900604245,
          0.7907701311134336,
          0.7985455286563615,
          0.8063661406847589,
          0.8142319260636705,
          0.822142844527634,
          0.8300988566806815,
          0.8380999239963383,
          0.8461460088176227,
          0.8542370743570478,
          0.8623730846966192,
          0.8705540047878366,
          0.8787798004516933,
          0.8870504383786756,
          0.8953658861287644,
          0.9037261121314334,
          0.9121282639811401,
          0.9205716663353507,
          0.9290586579909026,
          0.9375891169269596,
          0.9461629185478817,
          0.9547799356832253,
          0.9634400385877435,
          0.9721430949413852,
          0.9808889698492954,
          0.9896775258418165,
          0.9985086228744862,
          1.0073821183280387,
          1.0162978670084049,
          1.0252557211467115,
          1.0342555303992822,
          1.0432971418476362,
          1.0523803999984898,
          1.061505146783755,
          1.0706712215605405,
          1.0798783302526296,
          1.0891263767411865,
          1.0984152195450019,
          1.107744684929809,
          1.1171145964925233,
          1.1265247751612435,
          1.135975039195251,
          1.14546520418501,
          1.1549950830521671,
          1.1645644860495528,
          1.1741732207611788,
          1.1838210921022414,
          1.1935079023191184,
          1.2032334509893707,
          1.2129975350217423,
          1.2227999486561603,
          1.2326404834637332,
          1.2425189283467541,
          1.2524355146228419,
          1.2623945297063037,
          1.2723916326935814,
          1.2824266422668595,
          1.2924993743284767,
          1.3026096420009239,
          1.3127572556268452,
          1.3229420227690385,
          1.3331637482104541,
          1.3434222339541964,
          1.3537172792235221,
          1.3640486804618415,
          1.3744162313327184
         ]
        },
        {
         "hovertemplate": "<b>Measurement </b><br>ID: 140<br>Time: %{x:} day<br>Tumour volume: %{y:.02f} cm^3<br>Cancer type: LXF A677<br><extra></extra>",
         "legendgroup": "ID: 140",
         "marker": {
          "color": "#FFA15A",
          "line": {
           "color": "black",
           "width": 1
          },
          "opacity": 0.7,
          "symbol": "circle"
         },
         "mode": "markers",
         "name": "ID: 140",
         "showlegend": true,
         "type": "scatter",
         "x": [
          0,
          2,
          4,
          7,
          9,
          11,
          14,
          16,
          18,
          21,
          23,
          25,
          28,
          30
         ],
         "y": [
          0.0793305,
          0.12685200000000002,
          0.146072,
          0.261121,
          0.34574400000000005,
          0.3552,
          0.41905,
          0.48029799999999995,
          0.556668,
          0.8089919999999999,
          0.8573040000000001,
          1.097675,
          1.992144,
          2.1225820000000004
         ]
        },
        {
         "hovertemplate": "<b>Simulation </b><br>ID: 140<br>Time: %{x:.0f} day<br>Tumour volume: %{y:.02f} cm^3<br>Cancer type: LXF A677<br><br><b>Parameter estimates </b><br>Initial tumour volume: 0.08 cm^3<br>Expon. growth rate: 0.05 1/day<br>Lin. growth rate: 5807812786.35 cm^3/day<br><extra></extra>",
         "legendgroup": "ID: 140",
         "line": {
          "color": "#FFA15A"
         },
         "mode": "lines",
         "name": "ID: 140",
         "showlegend": false,
         "type": "scatter",
         "x": [
          0,
          0.1507537688442211,
          0.3015075376884422,
          0.4522613065326633,
          0.6030150753768844,
          0.7537688442211055,
          0.9045226130653266,
          1.0552763819095476,
          1.2060301507537687,
          1.3567839195979898,
          1.507537688442211,
          1.658291457286432,
          1.809045226130653,
          1.9597989949748742,
          2.1105527638190953,
          2.2613065326633164,
          2.4120603015075375,
          2.5628140703517586,
          2.7135678391959797,
          2.8643216080402008,
          3.015075376884422,
          3.165829145728643,
          3.316582914572864,
          3.467336683417085,
          3.618090452261306,
          3.7688442211055273,
          3.9195979899497484,
          4.0703517587939695,
          4.221105527638191,
          4.371859296482412,
          4.522613065326633,
          4.673366834170854,
          4.824120603015075,
          4.974874371859296,
          5.125628140703517,
          5.276381909547738,
          5.427135678391959,
          5.57788944723618,
          5.7286432160804015,
          5.879396984924623,
          6.030150753768844,
          6.180904522613065,
          6.331658291457286,
          6.482412060301507,
          6.633165829145728,
          6.783919597989949,
          6.93467336683417,
          7.085427135678391,
          7.236180904522612,
          7.3869346733668335,
          7.537688442211055,
          7.688442211055276,
          7.839195979899497,
          7.989949748743718,
          8.140703517587939,
          8.29145728643216,
          8.442211055276381,
          8.592964824120603,
          8.743718592964823,
          8.894472361809044,
          9.045226130653266,
          9.195979899497488,
          9.346733668341708,
          9.497487437185928,
          9.64824120603015,
          9.798994974874372,
          9.949748743718592,
          10.100502512562812,
          10.251256281407034,
          10.402010050251256,
          10.552763819095476,
          10.703517587939697,
          10.854271356783919,
          11.00502512562814,
          11.15577889447236,
          11.306532663316581,
          11.457286432160803,
          11.608040201005025,
          11.758793969849245,
          11.909547738693465,
          12.060301507537687,
          12.21105527638191,
          12.36180904522613,
          12.51256281407035,
          12.663316582914572,
          12.814070351758794,
          12.964824120603014,
          13.115577889447234,
          13.266331658291456,
          13.417085427135678,
          13.567839195979898,
          13.718592964824118,
          13.86934673366834,
          14.020100502512562,
          14.170854271356783,
          14.321608040201003,
          14.472361809045225,
          14.623115577889447,
          14.773869346733667,
          14.924623115577887,
          15.07537688442211,
          15.226130653266331,
          15.376884422110551,
          15.527638190954772,
          15.678391959798994,
          15.829145728643216,
          15.979899497487436,
          16.130653266331656,
          16.281407035175878,
          16.4321608040201,
          16.58291457286432,
          16.73366834170854,
          16.884422110552762,
          17.035175879396984,
          17.185929648241206,
          17.336683417085425,
          17.487437185929647,
          17.63819095477387,
          17.788944723618087,
          17.93969849246231,
          18.09045226130653,
          18.241206030150753,
          18.391959798994975,
          18.542713567839193,
          18.693467336683415,
          18.844221105527637,
          18.994974874371856,
          19.145728643216078,
          19.2964824120603,
          19.44723618090452,
          19.597989949748744,
          19.748743718592962,
          19.899497487437184,
          20.050251256281406,
          20.201005025125625,
          20.351758793969847,
          20.50251256281407,
          20.65326633165829,
          20.804020100502512,
          20.95477386934673,
          21.105527638190953,
          21.256281407035175,
          21.407035175879393,
          21.557788944723615,
          21.708542713567837,
          21.85929648241206,
          22.01005025125628,
          22.1608040201005,
          22.31155778894472,
          22.462311557788944,
          22.613065326633162,
          22.763819095477384,
          22.914572864321606,
          23.065326633165828,
          23.21608040201005,
          23.36683417085427,
          23.51758793969849,
          23.668341708542712,
          23.81909547738693,
          23.969849246231153,
          24.120603015075375,
          24.271356783919597,
          24.42211055276382,
          24.572864321608037,
          24.72361809045226,
          24.87437185929648,
          25.0251256281407,
          25.17587939698492,
          25.326633165829143,
          25.477386934673365,
          25.628140703517587,
          25.778894472361806,
          25.929648241206028,
          26.08040201005025,
          26.23115577889447,
          26.38190954773869,
          26.532663316582912,
          26.683417085427134,
          26.834170854271356,
          26.984924623115575,
          27.135678391959797,
          27.28643216080402,
          27.437185929648237,
          27.58793969849246,
          27.73869346733668,
          27.889447236180903,
          28.040201005025125,
          28.190954773869343,
          28.341708542713565,
          28.492462311557787,
          28.643216080402006,
          28.793969849246228,
          28.94472361809045,
          29.09547738693467,
          29.246231155778894,
          29.396984924623112,
          29.547738693467334,
          29.698492462311556,
          29.849246231155774,
          30
         ],
         "y": [
          0.08430618476059966,
          0.08569868658176878,
          0.08711209526028117,
          0.08854653295547338,
          0.09000389282772914,
          0.09148526614003995,
          0.09299083977421406,
          0.09452108594040189,
          0.09607676308258034,
          0.09765789276041695,
          0.09926488345624593,
          0.10089838500169523,
          0.10255860611993324,
          0.10424612238157256,
          0.10596137647068224,
          0.10770480160621249,
          0.10947701119768524,
          0.11127838411053664,
          0.11310937557024439,
          0.11497044080228622,
          0.11686228897104926,
          0.11878555939904387,
          0.12074053202348126,
          0.12272768480829706,
          0.12474749571742688,
          0.12680044271480634,
          0.12888700376437107,
          0.13100784008474067,
          0.1331643196545544,
          0.13535630928034165,
          0.13758434130099972,
          0.13984894805542578,
          0.14215066188251704,
          0.1444900151211707,
          0.146867540110284,
          0.1492850345129199,
          0.1517424929366628,
          0.15424035532656782,
          0.1567792232001047,
          0.15935969807474307,
          0.16198238146795266,
          0.16464787489720314,
          0.16735763643055157,
          0.17011260197138905,
          0.17291287731472244,
          0.17575914239662765,
          0.1786520771531806,
          0.18159236152045724,
          0.1845806754345335,
          0.18761807796600674,
          0.1907065431384985,
          0.1938458239112314,
          0.19703668751242379,
          0.20027990117029393,
          0.2035762321130602,
          0.20692644756894085,
          0.21033131476615433,
          0.21379350773776556,
          0.21731283493900233,
          0.2208900167830052,
          0.22452591811439335,
          0.22822140377778588,
          0.2319773386178019,
          0.23579458747906057,
          0.23967533597918672,
          0.24362071836023755,
          0.24763098750737858,
          0.25170711798389606,
          0.2558500843530761,
          0.26006086117820487,
          0.26434042302256855,
          0.26869040386216486,
          0.27311341535489364,
          0.2776091983297027,
          0.2821788509420433,
          0.2868234713473668,
          0.2915441577011246,
          0.29634200815876793,
          0.30121812087574806,
          0.3061764909140751,
          0.3112165575199231,
          0.3163394738205354,
          0.3215464772633855,
          0.32683880529594683,
          0.332217695365693,
          0.33768438492009745,
          0.34324217932730994,
          0.3488924116686552,
          0.3546355633328321,
          0.3604730287516262,
          0.36640620235682303,
          0.37243647858020845,
          0.37856525185356804,
          0.38479503939680637,
          0.3911292933376814,
          0.39756775776223174,
          0.40411200401240394,
          0.4107636034301441,
          0.4175241273573987,
          0.42439514713611404,
          0.431378291372013,
          0.438479361806852,
          0.4456973032894971,
          0.4530338865188955,
          0.4604908821939943,
          0.46807006101374055,
          0.4757731936770811,
          0.48360205088296315,
          0.4915616220675019,
          0.49965339159185806,
          0.5078782232028888,
          0.5162381122487554,
          0.5247350540776184,
          0.5333710440376388,
          0.5421480774769774,
          0.5510700172823525,
          0.5601413853961759,
          0.5693619852981249,
          0.5787340654862847,
          0.5882598744587406,
          0.5979416607135776,
          0.6077816727488808,
          0.6177825009028183,
          0.6279520398408706,
          0.6382889414017489,
          0.648795739350277,
          0.6594749674512782,
          0.6703291594695769,
          0.6813608491699966,
          0.692572570317361,
          0.7039718402763011,
          0.7155601653388164,
          0.7273390375655987,
          0.7393113121798749,
          0.7514798444048721,
          0.7638474894638184,
          0.7764171025799407,
          0.7891945916455746,
          0.8021858161894795,
          0.8153907439506342,
          0.8288125923940498,
          0.8424545789847369,
          0.8563199211877056,
          0.8704118364679673,
          0.8847344109399724,
          0.8992983444676368,
          0.9141019458360498,
          0.9291488407095849,
          0.9444426547526166,
          0.9599870136295183,
          0.9757855430046636,
          0.991841868542427,
          1.0081672970946243,
          1.0247630825757943,
          1.0416317346706856,
          1.0587773390312436,
          1.0762039813094155,
          1.0939157471571472,
          1.1119167222263842,
          1.1302159147207103,
          1.1488208158886533,
          1.1677317446083266,
          1.186953304877816,
          1.2064901006952073,
          1.2263467360585876,
          1.2465278149660428,
          1.267039738382494,
          1.2878969425891662,
          1.3090973574822038,
          1.3306461711683433,
          1.3525485717543204,
          1.3748097473468706,
          1.3974348860527313,
          1.4204291759786378,
          1.4438095969688036,
          1.467576628034909,
          1.4917344082736506,
          1.5162887840062005,
          1.5412456015537317,
          1.566610707237416,
          1.5923899473784275,
          1.618597020020297,
          1.645241339012093,
          1.6723238957159576,
          1.699851278175084,
          1.7278300744326656,
          1.7562668725318955,
          1.7851682605159669,
          1.814544206260493,
          1.8444140863170237,
          1.8747754528701104,
          1.9056357297871451,
          1.9370023409355186,
          1.9688827101826223,
          2.0012842613958473,
          2.034214418442584,
          2.067698643199766,
          2.101735702635381,
          2.1363323205588576,
          2.171496862702696
         ]
        },
        {
         "hovertemplate": "<b>Measurement </b><br>ID: 155<br>Time: %{x:} day<br>Tumour volume: %{y:.02f} cm^3<br>Cancer type: LXF A677<br><extra></extra>",
         "legendgroup": "ID: 155",
         "marker": {
          "color": "#19D3F3",
          "line": {
           "color": "black",
           "width": 1
          },
          "opacity": 0.7,
          "symbol": "circle"
         },
         "mode": "markers",
         "name": "ID: 155",
         "showlegend": true,
         "type": "scatter",
         "x": [
          0,
          2,
          4,
          7,
          9,
          11,
          14,
          16,
          18,
          21,
          23,
          25
         ],
         "y": [
          0.105875,
          0.167706,
          0.35632800000000003,
          0.6489600000000001,
          0.692224,
          0.7300800000000001,
          0.81648,
          1.4949540000000001,
          1.5166985,
          1.72405,
          1.637784,
          2.25108
         ]
        },
        {
         "hovertemplate": "<b>Simulation </b><br>ID: 155<br>Time: %{x:.0f} day<br>Tumour volume: %{y:.02f} cm^3<br>Cancer type: LXF A677<br><br><b>Parameter estimates </b><br>Initial tumour volume: 0.13 cm^3<br>Expon. growth rate: 0.20 1/day<br>Lin. growth rate: 0.11 cm^3/day<br><extra></extra>",
         "legendgroup": "ID: 155",
         "line": {
          "color": "#19D3F3"
         },
         "mode": "lines",
         "name": "ID: 155",
         "showlegend": false,
         "type": "scatter",
         "x": [
          0,
          0.1507537688442211,
          0.3015075376884422,
          0.4522613065326633,
          0.6030150753768844,
          0.7537688442211055,
          0.9045226130653266,
          1.0552763819095476,
          1.2060301507537687,
          1.3567839195979898,
          1.507537688442211,
          1.658291457286432,
          1.809045226130653,
          1.9597989949748742,
          2.1105527638190953,
          2.2613065326633164,
          2.4120603015075375,
          2.5628140703517586,
          2.7135678391959797,
          2.8643216080402008,
          3.015075376884422,
          3.165829145728643,
          3.316582914572864,
          3.467336683417085,
          3.618090452261306,
          3.7688442211055273,
          3.9195979899497484,
          4.0703517587939695,
          4.221105527638191,
          4.371859296482412,
          4.522613065326633,
          4.673366834170854,
          4.824120603015075,
          4.974874371859296,
          5.125628140703517,
          5.276381909547738,
          5.427135678391959,
          5.57788944723618,
          5.7286432160804015,
          5.879396984924623,
          6.030150753768844,
          6.180904522613065,
          6.331658291457286,
          6.482412060301507,
          6.633165829145728,
          6.783919597989949,
          6.93467336683417,
          7.085427135678391,
          7.236180904522612,
          7.3869346733668335,
          7.537688442211055,
          7.688442211055276,
          7.839195979899497,
          7.989949748743718,
          8.140703517587939,
          8.29145728643216,
          8.442211055276381,
          8.592964824120603,
          8.743718592964823,
          8.894472361809044,
          9.045226130653266,
          9.195979899497488,
          9.346733668341708,
          9.497487437185928,
          9.64824120603015,
          9.798994974874372,
          9.949748743718592,
          10.100502512562812,
          10.251256281407034,
          10.402010050251256,
          10.552763819095476,
          10.703517587939697,
          10.854271356783919,
          11.00502512562814,
          11.15577889447236,
          11.306532663316581,
          11.457286432160803,
          11.608040201005025,
          11.758793969849245,
          11.909547738693465,
          12.060301507537687,
          12.21105527638191,
          12.36180904522613,
          12.51256281407035,
          12.663316582914572,
          12.814070351758794,
          12.964824120603014,
          13.115577889447234,
          13.266331658291456,
          13.417085427135678,
          13.567839195979898,
          13.718592964824118,
          13.86934673366834,
          14.020100502512562,
          14.170854271356783,
          14.321608040201003,
          14.472361809045225,
          14.623115577889447,
          14.773869346733667,
          14.924623115577887,
          15.07537688442211,
          15.226130653266331,
          15.376884422110551,
          15.527638190954772,
          15.678391959798994,
          15.829145728643216,
          15.979899497487436,
          16.130653266331656,
          16.281407035175878,
          16.4321608040201,
          16.58291457286432,
          16.73366834170854,
          16.884422110552762,
          17.035175879396984,
          17.185929648241206,
          17.336683417085425,
          17.487437185929647,
          17.63819095477387,
          17.788944723618087,
          17.93969849246231,
          18.09045226130653,
          18.241206030150753,
          18.391959798994975,
          18.542713567839193,
          18.693467336683415,
          18.844221105527637,
          18.994974874371856,
          19.145728643216078,
          19.2964824120603,
          19.44723618090452,
          19.597989949748744,
          19.748743718592962,
          19.899497487437184,
          20.050251256281406,
          20.201005025125625,
          20.351758793969847,
          20.50251256281407,
          20.65326633165829,
          20.804020100502512,
          20.95477386934673,
          21.105527638190953,
          21.256281407035175,
          21.407035175879393,
          21.557788944723615,
          21.708542713567837,
          21.85929648241206,
          22.01005025125628,
          22.1608040201005,
          22.31155778894472,
          22.462311557788944,
          22.613065326633162,
          22.763819095477384,
          22.914572864321606,
          23.065326633165828,
          23.21608040201005,
          23.36683417085427,
          23.51758793969849,
          23.668341708542712,
          23.81909547738693,
          23.969849246231153,
          24.120603015075375,
          24.271356783919597,
          24.42211055276382,
          24.572864321608037,
          24.72361809045226,
          24.87437185929648,
          25.0251256281407,
          25.17587939698492,
          25.326633165829143,
          25.477386934673365,
          25.628140703517587,
          25.778894472361806,
          25.929648241206028,
          26.08040201005025,
          26.23115577889447,
          26.38190954773869,
          26.532663316582912,
          26.683417085427134,
          26.834170854271356,
          26.984924623115575,
          27.135678391959797,
          27.28643216080402,
          27.437185929648237,
          27.58793969849246,
          27.73869346733668,
          27.889447236180903,
          28.040201005025125,
          28.190954773869343,
          28.341708542713565,
          28.492462311557787,
          28.643216080402006,
          28.793969849246228,
          28.94472361809045,
          29.09547738693467,
          29.246231155778894,
          29.396984924623112,
          29.547738693467334,
          29.698492462311556,
          29.849246231155774,
          30
         ],
         "y": [
          0.13327382550777717,
          0.1387038451129321,
          0.144266072890655,
          0.14996921818462994,
          0.1558159056756753,
          0.1618052724184524,
          0.16793739408924707,
          0.17421079397074626,
          0.18062235508579957,
          0.18717463238132867,
          0.19386762585733358,
          0.20070058195138837,
          0.20766358124617387,
          0.2147630681659577,
          0.2219990427107399,
          0.22937150488052044,
          0.23687416315628895,
          0.24450780572004585,
          0.2522701493144705,
          0.2601580977527818,
          0.26817266349770724,
          0.27630809519991956,
          0.2845669465482993,
          0.29294122217953067,
          0.30143122021489355,
          0.310037367621244,
          0.31875910740011143,
          0.3275958825530255,
          0.336541245883743,
          0.3455929422867212,
          0.3547521055500056,
          0.364017316920462,
          0.3733871576449566,
          0.38285845080507175,
          0.3924274878129039,
          0.4020942112808122,
          0.41185679753636206,
          0.4217134229071187,
          0.43166230340445594,
          0.44170178386628384,
          0.4518299542030494,
          0.4620450096919341,
          0.4723451456101195,
          0.48272858480566566,
          0.49319714279787485,
          0.5037466861955997,
          0.5143754678914227,
          0.5250817407779264,
          0.5358637577476929,
          0.5467197716933051,
          0.5576480355073452,
          0.5686468020823958,
          0.5797143243110393,
          0.5908488550858582,
          0.6020486472994349,
          0.6133235392525478,
          0.6246634037284576,
          0.6360666041437032,
          0.6475316482757131,
          0.6590570439019163,
          0.6706412987997419,
          0.6822829207466186,
          0.693980417519975,
          0.7057322968972402,
          0.717537066655843,
          0.7293932345732124,
          0.7413127966334582,
          0.753284881193845,
          0.7653078448800001,
          0.7773805002312381,
          0.7895016597868731,
          0.8016701360862201,
          0.8138847416685936,
          0.8261442890733081,
          0.838447590839678,
          0.850793459507018,
          0.8631807076146428,
          0.8756198636552044,
          0.8881019366445728,
          0.9006253529300511,
          0.9131891970768028,
          0.9257925536499909,
          0.9384345072147787,
          0.9511141423363296,
          0.9638305435798071,
          0.9765827955103742,
          0.9893699826931941,
          1.0021911896934301,
          1.0150563311410756,
          1.02795761157839,
          1.040893511181932,
          1.0538633730727982,
          1.0668665403720845,
          1.0799023562008867,
          1.0929701636803004,
          1.1060693059314217,
          1.1191991260753469,
          1.1323589672331715,
          1.1455481725259913,
          1.1587688070983746,
          1.1720185729672083,
          1.1852965959778197,
          1.19860228611409,
          1.2119350533599,
          1.2252943076991318,
          1.2386794591156662,
          1.2520899175933842,
          1.2655250931161672,
          1.2789843956678966,
          1.2924672352324535,
          1.305979737343978,
          1.3195174920649895,
          1.333079203570047,
          1.3466644516815023,
          1.3602728162217073,
          1.3739038770130132,
          1.387557213877773,
          1.4012324066383377,
          1.414929035117059,
          1.4286466791362893,
          1.4423849185183801,
          1.4561456996363837,
          1.4699273412085339,
          1.4837291112689868,
          1.4975506513053483,
          1.5113916028052232,
          1.5252516072562168,
          1.5391303061459345,
          1.5530273409619817,
          1.566942353191963,
          1.5808749843234846,
          1.5948248758441506,
          1.608795178811758,
          1.622783797644549,
          1.6367898127269302,
          1.6508129598383683,
          1.6648529747583285,
          1.678909593266276,
          1.6929825511416774,
          1.7070715841639972,
          1.7211764281127022,
          1.7352968187672575,
          1.7494324919071287,
          1.7635845653954567,
          1.7777521463856392,
          1.7919347085874011,
          1.8061320260974194,
          1.8203438730123709,
          1.834570023428933,
          1.8488102514437823,
          1.8630643311535955,
          1.87733203665505,
          1.8916131420448228,
          1.9059074214195906,
          1.920216429477904,
          1.9345392060771032,
          1.9488751315956185,
          1.9632240311135976,
          1.9775857297111874,
          1.991960052468537,
          2.0063468244657936,
          2.020745870783105,
          2.035157016500619,
          2.0495800866984832,
          2.064014906456846,
          2.078462104105305,
          2.09292120970656,
          2.1073918438920725,
          2.1218738555159518,
          2.136367093432309,
          2.1508714064952543,
          2.1653866435588984,
          2.179912653477352,
          2.194449285104726,
          2.20899638729513,
          2.2235538089026763,
          2.2381228874639727,
          2.2527028816946038,
          2.2672931625408874,
          2.281893593289008,
          2.296504037225149,
          2.3111243576354945,
          2.3257544178062277,
          2.340394081023533,
          2.3550432105735943,
          2.369701669742595,
          2.384369321816719,
          2.39904603008215,
          2.4137316578250716,
          2.4284260683316683,
          2.443129124888123,
          2.45784069078062,
          2.472560629295343,
          2.487288803718476,
          2.502026298884699,
          2.516776982520193,
          2.531536487513923,
          2.5463047276083546,
          2.561081616545954,
          2.575867068069188
         ]
        },
        {
         "hovertemplate": "<b>Measurement </b><br>ID: 169<br>Time: %{x:} day<br>Tumour volume: %{y:.02f} cm^3<br>Cancer type: LXF A677<br><extra></extra>",
         "legendgroup": "ID: 169",
         "marker": {
          "color": "#FF6692",
          "line": {
           "color": "black",
           "width": 1
          },
          "opacity": 0.7,
          "symbol": "circle"
         },
         "mode": "markers",
         "name": "ID: 169",
         "showlegend": true,
         "type": "scatter",
         "x": [
          0,
          2,
          4,
          7,
          9,
          11,
          14,
          16,
          18,
          21,
          23,
          25,
          28,
          30
         ],
         "y": [
          0.123008,
          0.128774,
          0.1764,
          0.20516650000000006,
          0.24605349999999998,
          0.2788425,
          0.333036,
          0.35644499999999996,
          0.39285,
          0.479859,
          0.5390550000000001,
          0.6354195,
          0.7146180000000001,
          0.7469865
         ]
        },
        {
         "hovertemplate": "<b>Simulation </b><br>ID: 169<br>Time: %{x:.0f} day<br>Tumour volume: %{y:.02f} cm^3<br>Cancer type: LXF A677<br><br><b>Parameter estimates </b><br>Initial tumour volume: 0.12 cm^3<br>Expon. growth rate: 0.04 1/day<br>Lin. growth rate: 0.07 cm^3/day<br><extra></extra>",
         "legendgroup": "ID: 169",
         "line": {
          "color": "#FF6692"
         },
         "mode": "lines",
         "name": "ID: 169",
         "showlegend": false,
         "type": "scatter",
         "x": [
          0,
          0.1507537688442211,
          0.3015075376884422,
          0.4522613065326633,
          0.6030150753768844,
          0.7537688442211055,
          0.9045226130653266,
          1.0552763819095476,
          1.2060301507537687,
          1.3567839195979898,
          1.507537688442211,
          1.658291457286432,
          1.809045226130653,
          1.9597989949748742,
          2.1105527638190953,
          2.2613065326633164,
          2.4120603015075375,
          2.5628140703517586,
          2.7135678391959797,
          2.8643216080402008,
          3.015075376884422,
          3.165829145728643,
          3.316582914572864,
          3.467336683417085,
          3.618090452261306,
          3.7688442211055273,
          3.9195979899497484,
          4.0703517587939695,
          4.221105527638191,
          4.371859296482412,
          4.522613065326633,
          4.673366834170854,
          4.824120603015075,
          4.974874371859296,
          5.125628140703517,
          5.276381909547738,
          5.427135678391959,
          5.57788944723618,
          5.7286432160804015,
          5.879396984924623,
          6.030150753768844,
          6.180904522613065,
          6.331658291457286,
          6.482412060301507,
          6.633165829145728,
          6.783919597989949,
          6.93467336683417,
          7.085427135678391,
          7.236180904522612,
          7.3869346733668335,
          7.537688442211055,
          7.688442211055276,
          7.839195979899497,
          7.989949748743718,
          8.140703517587939,
          8.29145728643216,
          8.442211055276381,
          8.592964824120603,
          8.743718592964823,
          8.894472361809044,
          9.045226130653266,
          9.195979899497488,
          9.346733668341708,
          9.497487437185928,
          9.64824120603015,
          9.798994974874372,
          9.949748743718592,
          10.100502512562812,
          10.251256281407034,
          10.402010050251256,
          10.552763819095476,
          10.703517587939697,
          10.854271356783919,
          11.00502512562814,
          11.15577889447236,
          11.306532663316581,
          11.457286432160803,
          11.608040201005025,
          11.758793969849245,
          11.909547738693465,
          12.060301507537687,
          12.21105527638191,
          12.36180904522613,
          12.51256281407035,
          12.663316582914572,
          12.814070351758794,
          12.964824120603014,
          13.115577889447234,
          13.266331658291456,
          13.417085427135678,
          13.567839195979898,
          13.718592964824118,
          13.86934673366834,
          14.020100502512562,
          14.170854271356783,
          14.321608040201003,
          14.472361809045225,
          14.623115577889447,
          14.773869346733667,
          14.924623115577887,
          15.07537688442211,
          15.226130653266331,
          15.376884422110551,
          15.527638190954772,
          15.678391959798994,
          15.829145728643216,
          15.979899497487436,
          16.130653266331656,
          16.281407035175878,
          16.4321608040201,
          16.58291457286432,
          16.73366834170854,
          16.884422110552762,
          17.035175879396984,
          17.185929648241206,
          17.336683417085425,
          17.487437185929647,
          17.63819095477387,
          17.788944723618087,
          17.93969849246231,
          18.09045226130653,
          18.241206030150753,
          18.391959798994975,
          18.542713567839193,
          18.693467336683415,
          18.844221105527637,
          18.994974874371856,
          19.145728643216078,
          19.2964824120603,
          19.44723618090452,
          19.597989949748744,
          19.748743718592962,
          19.899497487437184,
          20.050251256281406,
          20.201005025125625,
          20.351758793969847,
          20.50251256281407,
          20.65326633165829,
          20.804020100502512,
          20.95477386934673,
          21.105527638190953,
          21.256281407035175,
          21.407035175879393,
          21.557788944723615,
          21.708542713567837,
          21.85929648241206,
          22.01005025125628,
          22.1608040201005,
          22.31155778894472,
          22.462311557788944,
          22.613065326633162,
          22.763819095477384,
          22.914572864321606,
          23.065326633165828,
          23.21608040201005,
          23.36683417085427,
          23.51758793969849,
          23.668341708542712,
          23.81909547738693,
          23.969849246231153,
          24.120603015075375,
          24.271356783919597,
          24.42211055276382,
          24.572864321608037,
          24.72361809045226,
          24.87437185929648,
          25.0251256281407,
          25.17587939698492,
          25.326633165829143,
          25.477386934673365,
          25.628140703517587,
          25.778894472361806,
          25.929648241206028,
          26.08040201005025,
          26.23115577889447,
          26.38190954773869,
          26.532663316582912,
          26.683417085427134,
          26.834170854271356,
          26.984924623115575,
          27.135678391959797,
          27.28643216080402,
          27.437185929648237,
          27.58793969849246,
          27.73869346733668,
          27.889447236180903,
          28.040201005025125,
          28.190954773869343,
          28.341708542713565,
          28.492462311557787,
          28.643216080402006,
          28.793969849246228,
          28.94472361809045,
          29.09547738693467,
          29.246231155778894,
          29.396984924623112,
          29.547738693467334,
          29.698492462311556,
          29.849246231155774,
          30
         ],
         "y": [
          0.12332985914484004,
          0.1247493781864968,
          0.12618200456798787,
          0.12762637509318078,
          0.12908439606023145,
          0.13055570778374828,
          0.1320412146683772,
          0.1335413957666141,
          0.13505601990097257,
          0.13658542982195093,
          0.13812988062161186,
          0.13968909296343646,
          0.1412630668474247,
          0.14285249842389486,
          0.14445711596475944,
          0.14607684554972022,
          0.14771185076197485,
          0.14936268359496543,
          0.15102897150641373,
          0.1527107144963198,
          0.1544088180035229,
          0.15612353088302575,
          0.1578544286916269,
          0.15960152385467682,
          0.161364828797526,
          0.16314435594552487,
          0.16494011772402392,
          0.1667521265583736,
          0.16858039487392437,
          0.17042493509602671,
          0.17228575965003107,
          0.17416288096128796,
          0.1760578432971462,
          0.1779703901953793,
          0.1798998827967378,
          0.18184637846379306,
          0.1838099345591165,
          0.18579060844527956,
          0.1877884574848536,
          0.18980353904041,
          0.1918359104745202,
          0.19388562914975557,
          0.19595275242868754,
          0.19803733767388748,
          0.200140154769212,
          0.20226105221761675,
          0.20439984813061624,
          0.2065566192269961,
          0.20873144222554202,
          0.21092439384503966,
          0.21313555080427468,
          0.21536498982203278,
          0.2176127876170996,
          0.2198790209082608,
          0.2221637664143021,
          0.22446710085400914,
          0.22678902672429882,
          0.229129650112047,
          0.2314890668716998,
          0.2338673518460179,
          0.23626457987776217,
          0.23868082580969333,
          0.24111616448457202,
          0.2435706707451591,
          0.2460444194342153,
          0.24853748539450135,
          0.251049943468778,
          0.253581868499806,
          0.25613230487580363,
          0.25870189919229863,
          0.2612909449400236,
          0.26389950978393506,
          0.26652766138898987,
          0.26917546742014453,
          0.27184299554235575,
          0.2745303134205801,
          0.27723748871977444,
          0.27996458910489525,
          0.28271168224089915,
          0.28547883579274297,
          0.2882661174253833,
          0.2910735948037767,
          0.29390133559287995,
          0.2967494074576496,
          0.29961787806304246,
          0.30250681507401506,
          0.305416286155524,
          0.3083463589725261,
          0.3112967466896102,
          0.3142651087437799,
          0.31725383900516096,
          0.3202629851202403,
          0.32329259473550503,
          0.3263427154974418,
          0.3294133950525377,
          0.3325046810472795,
          0.3356166211281542,
          0.3387492629416487,
          0.34190265413424986,
          0.3450768423524447,
          0.34827187524271996,
          0.35148780045156275,
          0.3547246656254598,
          0.3579825184108981,
          0.36126140645436466,
          0.36456137740234623,
          0.36788247890132975,
          0.37122475859780213,
          0.3745882641382504,
          0.3779714100471361,
          0.38137341305546835,
          0.38479622713156975,
          0.3882398747122607,
          0.39170437823436166,
          0.3951897601346932,
          0.3986960428500757,
          0.40222324881732985,
          0.4057714004732761,
          0.4093405202547347,
          0.4129306305985266,
          0.41654175394147197,
          0.4201739127203914,
          0.4238271293721054,
          0.42750142633343446,
          0.43119682604119913,
          0.4349133509322199,
          0.43865102344331713,
          0.4424098660113115,
          0.4461899010730235,
          0.44999115106527354,
          0.4538111901684287,
          0.45765129797223725,
          0.4615122060009073,
          0.4653939152111885,
          0.4692964265598305,
          0.4732197410035831,
          0.477163859499196,
          0.4811287830034188,
          0.48511451247300125,
          0.489121048864693,
          0.4931483931352439,
          0.4971965462414035,
          0.5012655091399215,
          0.5053552827875478,
          0.5094658681410319,
          0.5135972661571235,
          0.5177494777925725,
          0.5219225040041283,
          0.5261163457485408,
          0.5303310039825597,
          0.5345663194186447,
          0.5388202674515321,
          0.5430946821474595,
          0.547389563506427,
          0.5517049115284346,
          0.5560407262134822,
          0.5603970075615701,
          0.5647737555726979,
          0.5691709702468659,
          0.5735886515840741,
          0.5780267995843223,
          0.5824854142476107,
          0.5869644955739391,
          0.59146186860425,
          0.5959781068555935,
          0.6005142987712088,
          0.6050704443510957,
          0.6096465435952545,
          0.614242596503685,
          0.6188586030763873,
          0.6234945633133613,
          0.6281504772146069,
          0.6328263447801245,
          0.6375221660099137,
          0.6422379409039747,
          0.6469729257566269,
          0.6517249475636138,
          0.6564963952694016,
          0.6612872688739907,
          0.6660975683773808,
          0.6709272937795719,
          0.6757764450805642,
          0.6806450222803576,
          0.6855330253789521,
          0.6904404543763477,
          0.6953673092725444,
          0.7003135900675421,
          0.7052792967613409,
          0.7102601926623513,
          0.7152586449933697,
          0.7202756280258632,
          0.725311125676759,
          0.7303651218629839,
          0.7354376005014647,
          0.7405285455091281,
          0.7456379408029009,
          0.7507657702997103,
          0.7559120179164829,
          0.7610766675701455,
          0.7662597031776253
         ]
        },
        {
         "hovertemplate": "<b>Measurement </b><br>ID: 170<br>Time: %{x:} day<br>Tumour volume: %{y:.02f} cm^3<br>Cancer type: LXF A677<br><extra></extra>",
         "legendgroup": "ID: 170",
         "marker": {
          "color": "#B6E880",
          "line": {
           "color": "black",
           "width": 1
          },
          "opacity": 0.7,
          "symbol": "circle"
         },
         "mode": "markers",
         "name": "ID: 170",
         "showlegend": true,
         "type": "scatter",
         "x": [
          0,
          2,
          4,
          7,
          9,
          11,
          14,
          16,
          18,
          21,
          23,
          25,
          28,
          30
         ],
         "y": [
          0.0800565,
          0.094221,
          0.10933,
          0.158994,
          0.17615699999999998,
          0.19407850000000001,
          0.2041605,
          0.246402,
          0.3050865,
          0.3683265,
          0.41817600000000005,
          0.4396155,
          0.5661554999999999,
          0.6206265000000001
         ]
        },
        {
         "hovertemplate": "<b>Simulation </b><br>ID: 170<br>Time: %{x:.0f} day<br>Tumour volume: %{y:.02f} cm^3<br>Cancer type: LXF A677<br><br><b>Parameter estimates </b><br>Initial tumour volume: 0.09 cm^3<br>Expon. growth rate: 0.04 1/day<br>Lin. growth rate: 0.19 cm^3/day<br><extra></extra>",
         "legendgroup": "ID: 170",
         "line": {
          "color": "#B6E880"
         },
         "mode": "lines",
         "name": "ID: 170",
         "showlegend": false,
         "type": "scatter",
         "x": [
          0,
          0.1507537688442211,
          0.3015075376884422,
          0.4522613065326633,
          0.6030150753768844,
          0.7537688442211055,
          0.9045226130653266,
          1.0552763819095476,
          1.2060301507537687,
          1.3567839195979898,
          1.507537688442211,
          1.658291457286432,
          1.809045226130653,
          1.9597989949748742,
          2.1105527638190953,
          2.2613065326633164,
          2.4120603015075375,
          2.5628140703517586,
          2.7135678391959797,
          2.8643216080402008,
          3.015075376884422,
          3.165829145728643,
          3.316582914572864,
          3.467336683417085,
          3.618090452261306,
          3.7688442211055273,
          3.9195979899497484,
          4.0703517587939695,
          4.221105527638191,
          4.371859296482412,
          4.522613065326633,
          4.673366834170854,
          4.824120603015075,
          4.974874371859296,
          5.125628140703517,
          5.276381909547738,
          5.427135678391959,
          5.57788944723618,
          5.7286432160804015,
          5.879396984924623,
          6.030150753768844,
          6.180904522613065,
          6.331658291457286,
          6.482412060301507,
          6.633165829145728,
          6.783919597989949,
          6.93467336683417,
          7.085427135678391,
          7.236180904522612,
          7.3869346733668335,
          7.537688442211055,
          7.688442211055276,
          7.839195979899497,
          7.989949748743718,
          8.140703517587939,
          8.29145728643216,
          8.442211055276381,
          8.592964824120603,
          8.743718592964823,
          8.894472361809044,
          9.045226130653266,
          9.195979899497488,
          9.346733668341708,
          9.497487437185928,
          9.64824120603015,
          9.798994974874372,
          9.949748743718592,
          10.100502512562812,
          10.251256281407034,
          10.402010050251256,
          10.552763819095476,
          10.703517587939697,
          10.854271356783919,
          11.00502512562814,
          11.15577889447236,
          11.306532663316581,
          11.457286432160803,
          11.608040201005025,
          11.758793969849245,
          11.909547738693465,
          12.060301507537687,
          12.21105527638191,
          12.36180904522613,
          12.51256281407035,
          12.663316582914572,
          12.814070351758794,
          12.964824120603014,
          13.115577889447234,
          13.266331658291456,
          13.417085427135678,
          13.567839195979898,
          13.718592964824118,
          13.86934673366834,
          14.020100502512562,
          14.170854271356783,
          14.321608040201003,
          14.472361809045225,
          14.623115577889447,
          14.773869346733667,
          14.924623115577887,
          15.07537688442211,
          15.226130653266331,
          15.376884422110551,
          15.527638190954772,
          15.678391959798994,
          15.829145728643216,
          15.979899497487436,
          16.130653266331656,
          16.281407035175878,
          16.4321608040201,
          16.58291457286432,
          16.73366834170854,
          16.884422110552762,
          17.035175879396984,
          17.185929648241206,
          17.336683417085425,
          17.487437185929647,
          17.63819095477387,
          17.788944723618087,
          17.93969849246231,
          18.09045226130653,
          18.241206030150753,
          18.391959798994975,
          18.542713567839193,
          18.693467336683415,
          18.844221105527637,
          18.994974874371856,
          19.145728643216078,
          19.2964824120603,
          19.44723618090452,
          19.597989949748744,
          19.748743718592962,
          19.899497487437184,
          20.050251256281406,
          20.201005025125625,
          20.351758793969847,
          20.50251256281407,
          20.65326633165829,
          20.804020100502512,
          20.95477386934673,
          21.105527638190953,
          21.256281407035175,
          21.407035175879393,
          21.557788944723615,
          21.708542713567837,
          21.85929648241206,
          22.01005025125628,
          22.1608040201005,
          22.31155778894472,
          22.462311557788944,
          22.613065326633162,
          22.763819095477384,
          22.914572864321606,
          23.065326633165828,
          23.21608040201005,
          23.36683417085427,
          23.51758793969849,
          23.668341708542712,
          23.81909547738693,
          23.969849246231153,
          24.120603015075375,
          24.271356783919597,
          24.42211055276382,
          24.572864321608037,
          24.72361809045226,
          24.87437185929648,
          25.0251256281407,
          25.17587939698492,
          25.326633165829143,
          25.477386934673365,
          25.628140703517587,
          25.778894472361806,
          25.929648241206028,
          26.08040201005025,
          26.23115577889447,
          26.38190954773869,
          26.532663316582912,
          26.683417085427134,
          26.834170854271356,
          26.984924623115575,
          27.135678391959797,
          27.28643216080402,
          27.437185929648237,
          27.58793969849246,
          27.73869346733668,
          27.889447236180903,
          28.040201005025125,
          28.190954773869343,
          28.341708542713565,
          28.492462311557787,
          28.643216080402006,
          28.793969849246228,
          28.94472361809045,
          29.09547738693467,
          29.246231155778894,
          29.396984924623112,
          29.547738693467334,
          29.698492462311556,
          29.849246231155774,
          30
         ],
         "y": [
          0.08704781870118868,
          0.08797595287976587,
          0.08891284420097191,
          0.08985773825186837,
          0.09081190193441814,
          0.09177508642160402,
          0.09274798420915412,
          0.09373095741074632,
          0.09472386716031383,
          0.09572685797232106,
          0.09674016855787591,
          0.09776366898019609,
          0.09879781003734256,
          0.09984247021499881,
          0.1008976969102866,
          0.10196353752032769,
          0.10304031717495418,
          0.10412802172446477,
          0.1052267196987016,
          0.10633649773216515,
          0.1074575403930201,
          0.10858993821931553,
          0.10973377562308492,
          0.11088915607588436,
          0.11205623401288833,
          0.11323512049526638,
          0.11442590094835503,
          0.1156286816402414,
          0.11684356883901258,
          0.11807066881275567,
          0.11931008782955779,
          0.12056193215750605,
          0.121826551740039,
          0.12310388701274998,
          0.12439403961055659,
          0.12569711930126923,
          0.12701323585269828,
          0.1283424990326541,
          0.12968501860894707,
          0.1310409043493876,
          0.13241026602178602,
          0.13379321339395273,
          0.1351898562336981,
          0.13660030430883255,
          0.13802471518092554,
          0.13946367064610246,
          0.140916886312758,
          0.1423844809484416,
          0.14386657332070268,
          0.14536328219709072,
          0.14687472634515508,
          0.14840102453244527,
          0.14994229552651073,
          0.15149865809490085,
          0.1530702310051651,
          0.15465713302485287,
          0.15625948292151368,
          0.15787753719486736,
          0.15951183242919756,
          0.16116208250631694,
          0.1628284168827753,
          0.16451096501512236,
          0.16620985635990787,
          0.16792522037368154,
          0.16965718651299322,
          0.1714058842343926,
          0.1731714429944294,
          0.1749539922496534,
          0.17675366145661442,
          0.17857058007186213,
          0.18040510092617876,
          0.18225762649437438,
          0.18412794344853675,
          0.18601619204185166,
          0.18792251252750494,
          0.18984704515868253,
          0.19178993018857027,
          0.19375130787035402,
          0.1957313184572196,
          0.19773010220235293,
          0.19974779935893985,
          0.20178455018016625,
          0.20384049491921793,
          0.20591614806074798,
          0.20801179391344732,
          0.21012724188086676,
          0.21226264534323963,
          0.21441815768936645,
          0.21659393231661475,
          0.21879012263091915,
          0.22100688204678134,
          0.22324436398727013,
          0.2255027218840214,
          0.22778210917723807,
          0.2300826793156901,
          0.23240458575671466,
          0.23474798196621594,
          0.23711302141866514,
          0.2394998575971006,
          0.24190864399312778,
          0.24433953410691917,
          0.24679268144721428,
          0.2492682395313198,
          0.2517663618851094,
          0.2542872339741199,
          0.25683198719377204,
          0.25939994468318633,
          0.2619912732880838,
          0.2646061402206822,
          0.2672447130596955,
          0.2699071597503344,
          0.27259364860430635,
          0.2753043482998151,
          0.27803942788156094,
          0.2807990567607408,
          0.28358340471504817,
          0.28639264188867314,
          0.28922693879230227,
          0.2920864663031186,
          0.2949713956648019,
          0.29788189848752844,
          0.30081814674797097,
          0.3037803127892988,
          0.30676856932117774,
          0.3097830894197705,
          0.3128240465277359,
          0.31589179687516894,
          0.3189865099061417,
          0.3221082404634517,
          0.32525716764650325,
          0.32843347104350995,
          0.3316373307314945,
          0.33486892727628903,
          0.3381284417325346,
          0.34141605564368155,
          0.3447319510419896,
          0.3480763104485276,
          0.35144931687317343,
          0.35485115381461435,
          0.3582820052603467,
          0.3617420556866762,
          0.3652314900587178,
          0.36875049383039527,
          0.37229925294444205,
          0.3758779538324006,
          0.3794867834146225,
          0.38312592910026866,
          0.3867955285653618,
          0.39049539840001346,
          0.39422607037716445,
          0.39798772803083154,
          0.40178055521136646,
          0.4056047360854553,
          0.40946045513611873,
          0.4133478971627123,
          0.41726724728092585,
          0.4212186909227843,
          0.42520241383664686,
          0.4292186020872074,
          0.4332674420554947,
          0.43734912043887186,
          0.44146382425103675,
          0.4456117408220219,
          0.4497930577981942,
          0.45400796314225567,
          0.4582566451332426,
          0.4625392923665259,
          0.46685609375381143,
          0.4712072385231394,
          0.47559229142959786,
          0.48001160806642307,
          0.48446566434306,
          0.4889546382709137,
          0.493478707814304,
          0.4980380508904656,
          0.5026328453695489,
          0.5072632690746188,
          0.5119294997816556,
          0.5166317152195543,
          0.5213700930701253,
          0.5261448109680941,
          0.5309560465011011,
          0.5358039772097015,
          0.5406887805873662,
          0.5456106340804809,
          0.5505697150883461,
          0.5555662009631775,
          0.5606002690101062,
          0.565672096487178,
          0.5707818606053537,
          0.5759289874760398,
          0.5811111535128696,
          0.5863313708758892,
          0.591589808457196,
          0.5968866351488876,
          0.6022220198430615,
          0.6075961314318151,
          0.6130091388072461,
          0.6184612108614518,
          0.6239525164865302
         ]
        }
       ],
       "layout": {
        "autosize": true,
        "template": {
         "data": {
          "bar": [
           {
            "error_x": {
             "color": "#2a3f5f"
            },
            "error_y": {
             "color": "#2a3f5f"
            },
            "marker": {
             "line": {
              "color": "white",
              "width": 0.5
             }
            },
            "type": "bar"
           }
          ],
          "barpolar": [
           {
            "marker": {
             "line": {
              "color": "white",
              "width": 0.5
             }
            },
            "type": "barpolar"
           }
          ],
          "carpet": [
           {
            "aaxis": {
             "endlinecolor": "#2a3f5f",
             "gridcolor": "#C8D4E3",
             "linecolor": "#C8D4E3",
             "minorgridcolor": "#C8D4E3",
             "startlinecolor": "#2a3f5f"
            },
            "baxis": {
             "endlinecolor": "#2a3f5f",
             "gridcolor": "#C8D4E3",
             "linecolor": "#C8D4E3",
             "minorgridcolor": "#C8D4E3",
             "startlinecolor": "#2a3f5f"
            },
            "type": "carpet"
           }
          ],
          "choropleth": [
           {
            "colorbar": {
             "outlinewidth": 0,
             "ticks": ""
            },
            "type": "choropleth"
           }
          ],
          "contour": [
           {
            "colorbar": {
             "outlinewidth": 0,
             "ticks": ""
            },
            "colorscale": [
             [
              0,
              "#0d0887"
             ],
             [
              0.1111111111111111,
              "#46039f"
             ],
             [
              0.2222222222222222,
              "#7201a8"
             ],
             [
              0.3333333333333333,
              "#9c179e"
             ],
             [
              0.4444444444444444,
              "#bd3786"
             ],
             [
              0.5555555555555556,
              "#d8576b"
             ],
             [
              0.6666666666666666,
              "#ed7953"
             ],
             [
              0.7777777777777778,
              "#fb9f3a"
             ],
             [
              0.8888888888888888,
              "#fdca26"
             ],
             [
              1,
              "#f0f921"
             ]
            ],
            "type": "contour"
           }
          ],
          "contourcarpet": [
           {
            "colorbar": {
             "outlinewidth": 0,
             "ticks": ""
            },
            "type": "contourcarpet"
           }
          ],
          "heatmap": [
           {
            "colorbar": {
             "outlinewidth": 0,
             "ticks": ""
            },
            "colorscale": [
             [
              0,
              "#0d0887"
             ],
             [
              0.1111111111111111,
              "#46039f"
             ],
             [
              0.2222222222222222,
              "#7201a8"
             ],
             [
              0.3333333333333333,
              "#9c179e"
             ],
             [
              0.4444444444444444,
              "#bd3786"
             ],
             [
              0.5555555555555556,
              "#d8576b"
             ],
             [
              0.6666666666666666,
              "#ed7953"
             ],
             [
              0.7777777777777778,
              "#fb9f3a"
             ],
             [
              0.8888888888888888,
              "#fdca26"
             ],
             [
              1,
              "#f0f921"
             ]
            ],
            "type": "heatmap"
           }
          ],
          "heatmapgl": [
           {
            "colorbar": {
             "outlinewidth": 0,
             "ticks": ""
            },
            "colorscale": [
             [
              0,
              "#0d0887"
             ],
             [
              0.1111111111111111,
              "#46039f"
             ],
             [
              0.2222222222222222,
              "#7201a8"
             ],
             [
              0.3333333333333333,
              "#9c179e"
             ],
             [
              0.4444444444444444,
              "#bd3786"
             ],
             [
              0.5555555555555556,
              "#d8576b"
             ],
             [
              0.6666666666666666,
              "#ed7953"
             ],
             [
              0.7777777777777778,
              "#fb9f3a"
             ],
             [
              0.8888888888888888,
              "#fdca26"
             ],
             [
              1,
              "#f0f921"
             ]
            ],
            "type": "heatmapgl"
           }
          ],
          "histogram": [
           {
            "marker": {
             "colorbar": {
              "outlinewidth": 0,
              "ticks": ""
             }
            },
            "type": "histogram"
           }
          ],
          "histogram2d": [
           {
            "colorbar": {
             "outlinewidth": 0,
             "ticks": ""
            },
            "colorscale": [
             [
              0,
              "#0d0887"
             ],
             [
              0.1111111111111111,
              "#46039f"
             ],
             [
              0.2222222222222222,
              "#7201a8"
             ],
             [
              0.3333333333333333,
              "#9c179e"
             ],
             [
              0.4444444444444444,
              "#bd3786"
             ],
             [
              0.5555555555555556,
              "#d8576b"
             ],
             [
              0.6666666666666666,
              "#ed7953"
             ],
             [
              0.7777777777777778,
              "#fb9f3a"
             ],
             [
              0.8888888888888888,
              "#fdca26"
             ],
             [
              1,
              "#f0f921"
             ]
            ],
            "type": "histogram2d"
           }
          ],
          "histogram2dcontour": [
           {
            "colorbar": {
             "outlinewidth": 0,
             "ticks": ""
            },
            "colorscale": [
             [
              0,
              "#0d0887"
             ],
             [
              0.1111111111111111,
              "#46039f"
             ],
             [
              0.2222222222222222,
              "#7201a8"
             ],
             [
              0.3333333333333333,
              "#9c179e"
             ],
             [
              0.4444444444444444,
              "#bd3786"
             ],
             [
              0.5555555555555556,
              "#d8576b"
             ],
             [
              0.6666666666666666,
              "#ed7953"
             ],
             [
              0.7777777777777778,
              "#fb9f3a"
             ],
             [
              0.8888888888888888,
              "#fdca26"
             ],
             [
              1,
              "#f0f921"
             ]
            ],
            "type": "histogram2dcontour"
           }
          ],
          "mesh3d": [
           {
            "colorbar": {
             "outlinewidth": 0,
             "ticks": ""
            },
            "type": "mesh3d"
           }
          ],
          "parcoords": [
           {
            "line": {
             "colorbar": {
              "outlinewidth": 0,
              "ticks": ""
             }
            },
            "type": "parcoords"
           }
          ],
          "pie": [
           {
            "automargin": true,
            "type": "pie"
           }
          ],
          "scatter": [
           {
            "marker": {
             "colorbar": {
              "outlinewidth": 0,
              "ticks": ""
             }
            },
            "type": "scatter"
           }
          ],
          "scatter3d": [
           {
            "line": {
             "colorbar": {
              "outlinewidth": 0,
              "ticks": ""
             }
            },
            "marker": {
             "colorbar": {
              "outlinewidth": 0,
              "ticks": ""
             }
            },
            "type": "scatter3d"
           }
          ],
          "scattercarpet": [
           {
            "marker": {
             "colorbar": {
              "outlinewidth": 0,
              "ticks": ""
             }
            },
            "type": "scattercarpet"
           }
          ],
          "scattergeo": [
           {
            "marker": {
             "colorbar": {
              "outlinewidth": 0,
              "ticks": ""
             }
            },
            "type": "scattergeo"
           }
          ],
          "scattergl": [
           {
            "marker": {
             "colorbar": {
              "outlinewidth": 0,
              "ticks": ""
             }
            },
            "type": "scattergl"
           }
          ],
          "scattermapbox": [
           {
            "marker": {
             "colorbar": {
              "outlinewidth": 0,
              "ticks": ""
             }
            },
            "type": "scattermapbox"
           }
          ],
          "scatterpolar": [
           {
            "marker": {
             "colorbar": {
              "outlinewidth": 0,
              "ticks": ""
             }
            },
            "type": "scatterpolar"
           }
          ],
          "scatterpolargl": [
           {
            "marker": {
             "colorbar": {
              "outlinewidth": 0,
              "ticks": ""
             }
            },
            "type": "scatterpolargl"
           }
          ],
          "scatterternary": [
           {
            "marker": {
             "colorbar": {
              "outlinewidth": 0,
              "ticks": ""
             }
            },
            "type": "scatterternary"
           }
          ],
          "surface": [
           {
            "colorbar": {
             "outlinewidth": 0,
             "ticks": ""
            },
            "colorscale": [
             [
              0,
              "#0d0887"
             ],
             [
              0.1111111111111111,
              "#46039f"
             ],
             [
              0.2222222222222222,
              "#7201a8"
             ],
             [
              0.3333333333333333,
              "#9c179e"
             ],
             [
              0.4444444444444444,
              "#bd3786"
             ],
             [
              0.5555555555555556,
              "#d8576b"
             ],
             [
              0.6666666666666666,
              "#ed7953"
             ],
             [
              0.7777777777777778,
              "#fb9f3a"
             ],
             [
              0.8888888888888888,
              "#fdca26"
             ],
             [
              1,
              "#f0f921"
             ]
            ],
            "type": "surface"
           }
          ],
          "table": [
           {
            "cells": {
             "fill": {
              "color": "#EBF0F8"
             },
             "line": {
              "color": "white"
             }
            },
            "header": {
             "fill": {
              "color": "#C8D4E3"
             },
             "line": {
              "color": "white"
             }
            },
            "type": "table"
           }
          ]
         },
         "layout": {
          "annotationdefaults": {
           "arrowcolor": "#2a3f5f",
           "arrowhead": 0,
           "arrowwidth": 1
          },
          "coloraxis": {
           "colorbar": {
            "outlinewidth": 0,
            "ticks": ""
           }
          },
          "colorscale": {
           "diverging": [
            [
             0,
             "#8e0152"
            ],
            [
             0.1,
             "#c51b7d"
            ],
            [
             0.2,
             "#de77ae"
            ],
            [
             0.3,
             "#f1b6da"
            ],
            [
             0.4,
             "#fde0ef"
            ],
            [
             0.5,
             "#f7f7f7"
            ],
            [
             0.6,
             "#e6f5d0"
            ],
            [
             0.7,
             "#b8e186"
            ],
            [
             0.8,
             "#7fbc41"
            ],
            [
             0.9,
             "#4d9221"
            ],
            [
             1,
             "#276419"
            ]
           ],
           "sequential": [
            [
             0,
             "#0d0887"
            ],
            [
             0.1111111111111111,
             "#46039f"
            ],
            [
             0.2222222222222222,
             "#7201a8"
            ],
            [
             0.3333333333333333,
             "#9c179e"
            ],
            [
             0.4444444444444444,
             "#bd3786"
            ],
            [
             0.5555555555555556,
             "#d8576b"
            ],
            [
             0.6666666666666666,
             "#ed7953"
            ],
            [
             0.7777777777777778,
             "#fb9f3a"
            ],
            [
             0.8888888888888888,
             "#fdca26"
            ],
            [
             1,
             "#f0f921"
            ]
           ],
           "sequentialminus": [
            [
             0,
             "#0d0887"
            ],
            [
             0.1111111111111111,
             "#46039f"
            ],
            [
             0.2222222222222222,
             "#7201a8"
            ],
            [
             0.3333333333333333,
             "#9c179e"
            ],
            [
             0.4444444444444444,
             "#bd3786"
            ],
            [
             0.5555555555555556,
             "#d8576b"
            ],
            [
             0.6666666666666666,
             "#ed7953"
            ],
            [
             0.7777777777777778,
             "#fb9f3a"
            ],
            [
             0.8888888888888888,
             "#fdca26"
            ],
            [
             1,
             "#f0f921"
            ]
           ]
          },
          "colorway": [
           "#636efa",
           "#EF553B",
           "#00cc96",
           "#ab63fa",
           "#FFA15A",
           "#19d3f3",
           "#FF6692",
           "#B6E880",
           "#FF97FF",
           "#FECB52"
          ],
          "font": {
           "color": "#2a3f5f"
          },
          "geo": {
           "bgcolor": "white",
           "lakecolor": "white",
           "landcolor": "white",
           "showlakes": true,
           "showland": true,
           "subunitcolor": "#C8D4E3"
          },
          "hoverlabel": {
           "align": "left"
          },
          "hovermode": "closest",
          "mapbox": {
           "style": "light"
          },
          "paper_bgcolor": "white",
          "plot_bgcolor": "white",
          "polar": {
           "angularaxis": {
            "gridcolor": "#EBF0F8",
            "linecolor": "#EBF0F8",
            "ticks": ""
           },
           "bgcolor": "white",
           "radialaxis": {
            "gridcolor": "#EBF0F8",
            "linecolor": "#EBF0F8",
            "ticks": ""
           }
          },
          "scene": {
           "xaxis": {
            "backgroundcolor": "white",
            "gridcolor": "#DFE8F3",
            "gridwidth": 2,
            "linecolor": "#EBF0F8",
            "showbackground": true,
            "ticks": "",
            "zerolinecolor": "#EBF0F8"
           },
           "yaxis": {
            "backgroundcolor": "white",
            "gridcolor": "#DFE8F3",
            "gridwidth": 2,
            "linecolor": "#EBF0F8",
            "showbackground": true,
            "ticks": "",
            "zerolinecolor": "#EBF0F8"
           },
           "zaxis": {
            "backgroundcolor": "white",
            "gridcolor": "#DFE8F3",
            "gridwidth": 2,
            "linecolor": "#EBF0F8",
            "showbackground": true,
            "ticks": "",
            "zerolinecolor": "#EBF0F8"
           }
          },
          "shapedefaults": {
           "line": {
            "color": "#2a3f5f"
           }
          },
          "ternary": {
           "aaxis": {
            "gridcolor": "#DFE8F3",
            "linecolor": "#A2B1C6",
            "ticks": ""
           },
           "baxis": {
            "gridcolor": "#DFE8F3",
            "linecolor": "#A2B1C6",
            "ticks": ""
           },
           "bgcolor": "white",
           "caxis": {
            "gridcolor": "#DFE8F3",
            "linecolor": "#A2B1C6",
            "ticks": ""
           }
          },
          "title": {
           "x": 0.05
          },
          "xaxis": {
           "automargin": true,
           "gridcolor": "#EBF0F8",
           "linecolor": "#EBF0F8",
           "ticks": "",
           "title": {
            "standoff": 15
           },
           "zerolinecolor": "#EBF0F8",
           "zerolinewidth": 2
          },
          "yaxis": {
           "automargin": true,
           "gridcolor": "#EBF0F8",
           "linecolor": "#EBF0F8",
           "ticks": "",
           "title": {
            "standoff": 15
           },
           "zerolinecolor": "#EBF0F8",
           "zerolinewidth": 2
          }
         }
        },
        "updatemenus": [
         {
          "buttons": [
           {
            "args": [
             {
              "yaxis.type": "linear"
             }
            ],
            "label": "Linear y-scale",
            "method": "relayout"
           },
           {
            "args": [
             {
              "yaxis.type": "log"
             }
            ],
            "label": "Log y-scale",
            "method": "relayout"
           }
          ],
          "direction": "left",
          "pad": {
           "r": 0,
           "t": -10
          },
          "showactive": true,
          "type": "buttons",
          "x": 0,
          "xanchor": "left",
          "y": 1.15,
          "yanchor": "top"
         }
        ],
        "xaxis": {
         "title": {
          "text": "$\\text{Time in day}$"
         }
        },
        "yaxis": {
         "title": {
          "text": "$\\text{Tumour volume in cm}^3$"
         }
        }
       }
      }
     },
     "metadata": {}
    }
   ],
   "source": [
    "#\n",
    "# Visualise simulated tumour growth together with control growth data.\n",
    "#\n",
    "# This cell needs the optimised model parameters, the simulated tumour growth and the control growth data:\n",
    "# [mouse_parameters, times, tumour_growth, data]\n",
    "#\n",
    "\n",
    "import pandas as pd\n",
    "import plotly.colors\n",
    "import plotly.graph_objects as go\n",
    "\n",
    "\n",
    "# Get number of individual mice\n",
    "n_mice = len(tumour_growth)\n",
    "\n",
    "# Define colorscheme\n",
    "colors = plotly.colors.qualitative.Plotly[:n_mice]\n",
    "\n",
    "# Create figure\n",
    "fig = go.Figure()\n",
    "\n",
    "# Scatter plot LXF A677 time-series data for each mouse\n",
    "mouse_ids = data['#ID'].unique()\n",
    "for index, id_m in enumerate(mouse_ids):\n",
    "    # Create mask for mouse\n",
    "    mask = data['#ID'] == id_m\n",
    "\n",
    "    # Get time points for mouse\n",
    "    observed_times = data['TIME in day'][mask]\n",
    "\n",
    "    # Get observed tumour volumes for mouse\n",
    "    observed_volumes = data['TUMOUR VOLUME in cm^3'][mask]\n",
    "\n",
    "    # Get simulated tumour volumes for mouse\n",
    "    simulated_volumes = tumour_growth[index, :]\n",
    "\n",
    "    # Get mouse parameters\n",
    "    params = mouse_parameters[index, :]\n",
    "\n",
    "    # Plot data\n",
    "    fig.add_trace(go.Scatter(\n",
    "        x=observed_times,\n",
    "        y=observed_volumes,\n",
    "        legendgroup=\"ID: %d\" % id_m,\n",
    "        name=\"ID: %d\" % id_m,\n",
    "        showlegend=True,\n",
    "        hovertemplate=\n",
    "            \"<b>Measurement </b><br>\" +\n",
    "            \"ID: %d<br>\" % id_m +\n",
    "            \"Time: %{x:} day<br>\" +\n",
    "            \"Tumour volume: %{y:.02f} cm^3<br>\" +\n",
    "            \"Cancer type: LXF A677<br>\" +\n",
    "            \"<extra></extra>\",\n",
    "        mode=\"markers\",\n",
    "        marker=dict(\n",
    "            symbol='circle',\n",
    "            opacity=0.7,\n",
    "            line=dict(color='black', width=1),\n",
    "            color=colors[index])\n",
    "    ))\n",
    "\n",
    "    # Plot simulated growth\n",
    "    fig.add_trace(go.Scatter(\n",
    "        x=times,\n",
    "        y=simulated_volumes,\n",
    "        legendgroup=\"ID: %d\" % id_m,\n",
    "        name=\"ID: %d\" % id_m,\n",
    "        showlegend=False,\n",
    "        hovertemplate=\n",
    "            \"<b>Simulation </b><br>\" +\n",
    "            \"ID: %d<br>\" % id_m +\n",
    "            \"Time: %{x:.0f} day<br>\" +\n",
    "            \"Tumour volume: %{y:.02f} cm^3<br>\" +\n",
    "            \"Cancer type: LXF A677<br>\" +\n",
    "            \"<br>\" +\n",
    "            \"<b>Parameter estimates </b><br>\" +\n",
    "            \"Initial tumour volume: %.02f cm^3<br>\" % params[0] +\n",
    "            \"Expon. growth rate: %.02f 1/day<br>\" % params[1] +\n",
    "            \"Lin. growth rate: %.02f cm^3/day<br>\" % params[2] +\n",
    "            \"<extra></extra>\",\n",
    "        mode=\"lines\",\n",
    "        line=dict(color=colors[index])\n",
    "    ))\n",
    "\n",
    "# Set X, Y axis and figure size\n",
    "fig.update_layout(\n",
    "    autosize=True,\n",
    "    xaxis_title=r'$\\text{Time in day}$',\n",
    "    yaxis_title=r'$\\text{Tumour volume in cm}^3$',\n",
    "    template=\"plotly_white\")\n",
    "\n",
    "# Add switch between linear and log y-scale\n",
    "fig.update_layout(\n",
    "    updatemenus=[\n",
    "        dict(\n",
    "            type = \"buttons\",\n",
    "            direction = \"left\",\n",
    "            buttons=list([\n",
    "                dict(\n",
    "                    args=[{\"yaxis.type\": \"linear\"}],\n",
    "                    label=\"Linear y-scale\",\n",
    "                    method=\"relayout\"\n",
    "                ),\n",
    "                dict(\n",
    "                    args=[{\"yaxis.type\": \"log\"}],\n",
    "                    label=\"Log y-scale\",\n",
    "                    method=\"relayout\"\n",
    "                )\n",
    "            ]),\n",
    "            pad={\"r\": 0, \"t\": -10},\n",
    "            showactive=True,\n",
    "            x=0.0,\n",
    "            xanchor=\"left\",\n",
    "            y=1.15,\n",
    "            yanchor=\"top\"\n",
    "        ),\n",
    "    ]\n",
    ")\n",
    "\n",
    "# Show figure\n",
    "fig.show()"
   ]
  },
  {
   "cell_type": "markdown",
   "metadata": {},
   "source": [
    "**Figure 2 - Naïve fits:** Naïve optimisation of the structural model starting from an initial point $\\psi _0=(1, 1, 1)$ in parameter space for each mouse. We used the CMA-ES optimiser to minimise the squared distance between the model predictions and the observations."
   ]
  },
  {
   "cell_type": "markdown",
   "metadata": {},
   "source": [
    "## Stability of optimisation\n",
    "\n",
    "Minimising the squared distance between the structural model predictions and the observations using the CMA-ES optimiser results in more or less(!) good fits of the data. In particular, each fit corresponds to a mouse-specific set of model parameters $\\hat \\psi$, which in theory globally minimise the associated objective function $L$. But how can we be sure that those estimates $\\hat \\psi$ truly minimise the objective function?\n",
    "\n",
    "While a numerical method will never be able to globally explore a continuous space of model parameter, we can check that the optimisation at least realiably returns the same set of model parameters for each mouse. In other words, are the $\\hat \\psi $ consistent across multiple optimisation runs. If all runs return the same parameters for a mouse, we can be more confident that the parameter estimates (in combination with the proposed model) do capture its biology (assuming that there are no systematic problems with the objective function or the optimiser). \n",
    "\n",
    "To test the stability of the CMA-ES optimiser, we choose different starting points for a number of optimisations (uniform in $[10^{-3}, 10^3]$ for each parameter). Ideally we would like to see that each optimisation returns very similar model parameters for a mouse. This would give us confidence to interpret those model parameters in a biological context."
   ]
  },
  {
   "cell_type": "code",
   "execution_count": 8,
   "metadata": {
    "tags": []
   },
   "outputs": [
    {
     "output_type": "display_data",
     "data": {
      "text/plain": "HBox(children=(FloatProgress(value=0.0, max=8.0), HTML(value='')))",
      "application/vnd.jupyter.widget-view+json": {
       "version_major": 2,
       "version_minor": 0,
       "model_id": "50fa5b284038448284a6c308aac76996"
      }
     },
     "metadata": {}
    },
    {
     "output_type": "stream",
     "name": "stdout",
     "text": "\n----------------------------------------\nUnexpected termination.\nCurrent best score: 25.45899353057233\nCurrent best position:\n-1.08111371323725081e+00\n 6.60199714917513688e+02\n 2.96821134744734483e-01\n----------------------------------------\n\n----------------------------------------\nUnexpected termination.\nCurrent best score: 0.035169538434994\nCurrent best position:\n 8.69507435832342912e-02\n 8.91004106099757450e+02\n 1.73507969227128869e-02\n----------------------------------------\n\n----------------------------------------\nUnexpected termination.\nCurrent best score: 0.5368848031481722\nCurrent best position:\n 1.08536205370707100e-03\n 1.41514881538292616e+03\n 8.84423973622239373e-02\n----------------------------------------\n\n----------------------------------------\nUnexpected termination.\nCurrent best score: 87410.5652064881\nCurrent best position:\n 1.38010718451190030e+02\n 6.28111128977293674e+02\n-4.87318981654374284e+00\n----------------------------------------\n\n----------------------------------------\nUnexpected termination.\nCurrent best score: 534278.8417896391\nCurrent best position:\n 6.02887940258070785e+02\n-1.23120977653459789e+02\n-1.10892604462570887e+02\n----------------------------------------\n\n----------------------------------------\nUnexpected termination.\nCurrent best score: 6.697270224291287\nCurrent best position:\n 1.26257877458272882e-02\n 5.68963892529932650e+02\n 3.08109760405682817e-02\n----------------------------------------\n\n"
    }
   ],
   "source": [
    "#\n",
    "# Run optimisation multiple times from random initial starting points.\n",
    "#\n",
    "\n",
    "import os\n",
    "\n",
    "import myokit\n",
    "import numpy as np\n",
    "import pandas as pd\n",
    "import pints\n",
    "from tqdm.notebook import tqdm\n",
    "\n",
    "\n",
    "# Define number of optimisation runs for each individual\n",
    "n_runs = 10\n",
    "\n",
    "# Import data\n",
    "# Get path of current working directory\n",
    "path = os.getcwd()\n",
    "\n",
    "# Import LXF A677 control growth data\n",
    "data = pd.read_csv(path + '/data/lxf_control_growth.csv')\n",
    "\n",
    "# Define model\n",
    "path = pkpd.ModelLibrary().get_path('Tumour growth without treatment - Eigenmann et. al.')\n",
    "model = pkpd.PharmacodynamicModel(path, is_log_transformed=False)\n",
    "\n",
    "# Define container for the structural model estimates\n",
    "# Shape (n_mice, n_runs, n_parameters)\n",
    "n_mice = len(data['#ID'].unique())\n",
    "n_parameters = 3\n",
    "mouse_parameters_multi_runs = np.empty(shape=(n_mice, n_runs, n_parameters))\n",
    "\n",
    "# Define container for the objective function score for the optimised parameters\n",
    "mouse_scores_multi_runs = np.empty(shape=(n_mice, n_runs))\n",
    "\n",
    "# Define random starting points over many orders of magnitude\n",
    "# Shape = (n_runs, n_parameters)\n",
    "initial_parameters = np.random.uniform(low=1E-3, high=1E3, size=(n_runs, n_parameters))\n",
    "\n",
    "# Find mouse parameters for LXF A677 population\n",
    "mouse_ids = data['#ID'].unique()\n",
    "for index, mouse_id in enumerate(tqdm(mouse_ids)):\n",
    "    # Create mask for mouse with specfied ID\n",
    "    mouse_mask = data['#ID'] == mouse_id\n",
    "\n",
    "    # Get relevant time points\n",
    "    times = data[mouse_mask]['TIME in day'].to_numpy()\n",
    "\n",
    "    # Get measured tumour volumes\n",
    "    observed_volumes = data[mouse_mask]['TUMOUR VOLUME in cm^3'].to_numpy()\n",
    "\n",
    "    # Create inverse problem\n",
    "    problem = pints.SingleOutputProblem(model, times, observed_volumes)\n",
    "\n",
    "    # Create sum of squares error objective function\n",
    "    error = pints.SumOfSquaresError(problem)\n",
    "\n",
    "    # Run optimisation multiple times\n",
    "    for run_id, initial_params in enumerate(initial_parameters):\n",
    "        # Create optimisation controller with a CMA-ES optimiser\n",
    "        optimiser = pints.OptimisationController(\n",
    "            function=error,\n",
    "            x0=initial_params,\n",
    "            method=pints.CMAES)\n",
    "\n",
    "        # Disable logging mode\n",
    "        optimiser.set_log_to_screen(False)\n",
    "\n",
    "        # Parallelise optimisation\n",
    "        optimiser.set_parallel(True)\n",
    "\n",
    "        # Find optimal parameters\n",
    "        try:\n",
    "            estimates, score = optimiser.run()\n",
    "        except:\n",
    "            # If inference breaks fill estimates with nan\n",
    "            estimates = np.array([np.nan, np.nan, np.nan])\n",
    "            score = np.nan\n",
    "\n",
    "        # Save estimates and score\n",
    "        mouse_parameters_multi_runs[index, run_id, :] = estimates\n",
    "        mouse_scores_multi_runs[index, run_id] = score"
   ]
  },
  {
   "cell_type": "markdown",
   "metadata": {},
   "source": [
    "The \"Unexpected termination\" message indicates that we ran into optimisation errors for at least one run. Let us explore the parameters from the successfull optimisations below."
   ]
  },
  {
   "cell_type": "code",
   "execution_count": 9,
   "metadata": {},
   "outputs": [
    {
     "output_type": "display_data",
     "data": {
      "application/vnd.plotly.v1+json": {
       "config": {
        "plotlyServerURL": "https://plot.ly"
       },
       "data": [
        {
         "boxpoints": "all",
         "jitter": 0.2,
         "line": {
          "color": "#636EFA"
         },
         "marker": {
          "color": "#636EFA",
          "line": {
           "color": "black",
           "width": 1
          },
          "opacity": 0.7,
          "symbol": "circle"
         },
         "name": "Initial tumour volume in cm^3",
         "pointpos": -1.5,
         "type": "box",
         "visible": true,
         "y": [
          0.1918079576285887,
          0.19180719226178994,
          0.19180752655945033,
          0.19180921640049162,
          0.13738885801599066,
          0.13866494164314477,
          null,
          0.19180798536006777,
          0.1394113477010568,
          0.19180800249851243
         ]
        },
        {
         "boxpoints": "all",
         "jitter": 0.2,
         "line": {
          "color": "#EF553B"
         },
         "marker": {
          "color": "#EF553B",
          "line": {
           "color": "black",
           "width": 1
          },
          "opacity": 0.7,
          "symbol": "circle"
         },
         "name": "Exponential growth rate in 1/day",
         "pointpos": -1.5,
         "type": "box",
         "visible": true,
         "y": [
          -505.3339400721858,
          -57.46227770994517,
          -2.5041793309631544,
          -291.3889696185318,
          0.27890172409787434,
          0.27650809772377066,
          null,
          -1521.396578074264,
          0.2753456988341618,
          -970.4651448547625
         ]
        },
        {
         "boxpoints": "all",
         "jitter": 0.2,
         "line": {
          "color": "#00CC96"
         },
         "marker": {
          "color": "#00CC96",
          "line": {
           "color": "black",
           "width": 1
          },
          "opacity": 0.7,
          "symbol": "circle"
         },
         "name": "Linear growth rate in cm^3/day",
         "pointpos": -1.5,
         "type": "box",
         "visible": true,
         "y": [
          -49.5095721029496,
          423.62371223749926,
          -3.817665235426574,
          -5.8825306692122705,
          0.1308503678722536,
          0.13088391479684683,
          null,
          -1156.7015655390767,
          0.13082011172311653,
          -458.0943307153905
         ]
        },
        {
         "boxpoints": "all",
         "jitter": 0.2,
         "line": {
          "color": "#AB63FA"
         },
         "marker": {
          "color": "#AB63FA",
          "line": {
           "color": "black",
           "width": 1
          },
          "opacity": 0.7,
          "symbol": "circle"
         },
         "name": "Score",
         "pointpos": -1.5,
         "type": "box",
         "visible": true,
         "y": [
          15.910378127468016,
          15.910376733464574,
          15.910373775399055,
          15.91037851599737,
          0.03187298916025525,
          0.031862608101726225,
          null,
          15.910378989995186,
          0.03188933624436149,
          15.91037883274112
         ]
        },
        {
         "boxpoints": "all",
         "jitter": 0.2,
         "line": {
          "color": "#636EFA"
         },
         "marker": {
          "color": "#636EFA",
          "line": {
           "color": "black",
           "width": 1
          },
          "opacity": 0.7,
          "symbol": "circle"
         },
         "name": "Initial tumour volume in cm^3",
         "pointpos": -1.5,
         "type": "box",
         "visible": false,
         "y": [
          0.07720962831277507,
          0.057520658371016956,
          0.05752067444352562,
          0.0772474794368045,
          0.057520714641514016,
          0.057526776314235376,
          null,
          0.0772471282173903,
          0.07479932376087943,
          0.05752068064347994
         ]
        },
        {
         "boxpoints": "all",
         "jitter": 0.2,
         "line": {
          "color": "#EF553B"
         },
         "marker": {
          "color": "#EF553B",
          "line": {
           "color": "black",
           "width": 1
          },
          "opacity": 0.7,
          "symbol": "circle"
         },
         "name": "Exponential growth rate in 1/day",
         "pointpos": -1.5,
         "type": "box",
         "visible": false,
         "y": [
          -74.18451515124664,
          1282.6399121770512,
          1282.638860100878,
          -3875.8389849415935,
          1282.6361081747657,
          390.84749167957835,
          null,
          -60.88911890415353,
          0.16503506920399844,
          1282.6382352009848
         ]
        },
        {
         "boxpoints": "all",
         "jitter": 0.2,
         "line": {
          "color": "#00CC96"
         },
         "marker": {
          "color": "#00CC96",
          "line": {
           "color": "black",
           "width": 1
          },
          "opacity": 0.7,
          "symbol": "circle"
         },
         "name": "Linear growth rate in cm^3/day",
         "pointpos": -1.5,
         "type": "box",
         "visible": false,
         "y": [
          -77.16139993128607,
          0.016438401482494494,
          0.01643840108366578,
          -1104.3744411844923,
          0.016438399230358763,
          0.016439692791532408,
          null,
          -168.4535119278686,
          0.020388810862496873,
          0.016438400299250342
         ]
        },
        {
         "boxpoints": "all",
         "jitter": 0.2,
         "line": {
          "color": "#AB63FA"
         },
         "marker": {
          "color": "#AB63FA",
          "line": {
           "color": "black",
           "width": 1
          },
          "opacity": 0.7,
          "symbol": "circle"
         },
         "name": "Score",
         "pointpos": -1.5,
         "type": "box",
         "visible": false,
         "y": [
          1.610844438944191,
          0.008274945550941694,
          0.008274945550938363,
          1.610844589532848,
          0.008274945550944185,
          0.00827429166937254,
          null,
          1.6108441762032653,
          0.007450327517836776,
          0.008274945550944561
         ]
        },
        {
         "boxpoints": "all",
         "jitter": 0.2,
         "line": {
          "color": "#636EFA"
         },
         "marker": {
          "color": "#636EFA",
          "line": {
           "color": "black",
           "width": 1
          },
          "opacity": 0.7,
          "symbol": "circle"
         },
         "name": "Initial tumour volume in cm^3",
         "pointpos": -1.5,
         "type": "box",
         "visible": false,
         "y": [
          -0.0000023056945576588835,
          0.1862000139435417,
          0.18620015951387525,
          null,
          null,
          0.0004614412781054826,
          -0.00014048922020840518,
          0.18620271973099334,
          0.22108766049120693,
          0.18620000256629338
         ]
        },
        {
         "boxpoints": "all",
         "jitter": 0.2,
         "line": {
          "color": "#EF553B"
         },
         "marker": {
          "color": "#EF553B",
          "line": {
           "color": "black",
           "width": 1
          },
          "opacity": 0.7,
          "symbol": "circle"
         },
         "name": "Exponential growth rate in 1/day",
         "pointpos": -1.5,
         "type": "box",
         "visible": false,
         "y": [
          832.1326297849885,
          -1242.6759471758198,
          -271.37436951790005,
          null,
          null,
          908.4661211715608,
          604.382431140501,
          -466.0544999336926,
          0.055527232432791396,
          -1972.3338284051563
         ]
        },
        {
         "boxpoints": "all",
         "jitter": 0.2,
         "line": {
          "color": "#00CC96"
         },
         "marker": {
          "color": "#00CC96",
          "line": {
           "color": "black",
           "width": 1
          },
          "opacity": 0.7,
          "symbol": "circle"
         },
         "name": "Linear growth rate in cm^3/day",
         "pointpos": -1.5,
         "type": "box",
         "visible": false,
         "y": [
          0.0884018439425763,
          -397.8857985429388,
          120.22026285459287,
          null,
          null,
          0.08844733921310867,
          0.08859253383547568,
          -268.9733892140799,
          832215982910.1073,
          -1260.3856899522696
         ]
        },
        {
         "boxpoints": "all",
         "jitter": 0.2,
         "line": {
          "color": "#AB63FA"
         },
         "marker": {
          "color": "#AB63FA",
          "line": {
           "color": "black",
           "width": 1
          },
          "opacity": 0.7,
          "symbol": "circle"
         },
         "name": "Score",
         "pointpos": -1.5,
         "type": "box",
         "visible": false,
         "y": [
          0.5358828738859159,
          12.13328318168,
          12.133281748932395,
          null,
          null,
          0.5370644789261466,
          0.5342374790073687,
          12.13328278808254,
          0.09929726073743081,
          12.13328318167991
         ]
        },
        {
         "boxpoints": "all",
         "jitter": 0.2,
         "line": {
          "color": "#636EFA"
         },
         "marker": {
          "color": "#636EFA",
          "line": {
           "color": "black",
           "width": 1
          },
          "opacity": 0.7,
          "symbol": "circle"
         },
         "name": "Initial tumour volume in cm^3",
         "pointpos": -1.5,
         "type": "box",
         "visible": false,
         "y": [
          0.14842524829366793,
          0.11858852872476082,
          0.14899566743703463,
          0.11858702625048709,
          0.018227747114299708,
          0.018176232399417278,
          0.1476441364625526,
          0.14973868495388593,
          0.149032881212764,
          0.11858870573788394
         ]
        },
        {
         "boxpoints": "all",
         "jitter": 0.2,
         "line": {
          "color": "#EF553B"
         },
         "marker": {
          "color": "#EF553B",
          "line": {
           "color": "black",
           "width": 1
          },
          "opacity": 0.7,
          "symbol": "circle"
         },
         "name": "Exponential growth rate in 1/day",
         "pointpos": -1.5,
         "type": "box",
         "visible": false,
         "y": [
          0.05471842087020989,
          -1046.6393676689827,
          0.05425266456289985,
          -1528.9713369175972,
          1199.4720544881557,
          6.5664440884844515,
          0.05486589952735203,
          0.05374441685008396,
          0.05425198062219789,
          -556.1729320485418
         ]
        },
        {
         "boxpoints": "all",
         "jitter": 0.2,
         "line": {
          "color": "#00CC96"
         },
         "marker": {
          "color": "#00CC96",
          "line": {
           "color": "black",
           "width": 1
          },
          "opacity": 0.7,
          "symbol": "circle"
         },
         "name": "Linear growth rate in cm^3/day",
         "pointpos": -1.5,
         "type": "box",
         "visible": false,
         "y": [
          0.12685424535235573,
          2194.2780334019835,
          0.12879044495306619,
          -1281.3623950985432,
          0.04081470656027873,
          0.04093026884263726,
          0.1265402395449902,
          0.13098154230926895,
          0.1288141077878174,
          576.4610374133046
         ]
        },
        {
         "boxpoints": "all",
         "jitter": 0.2,
         "line": {
          "color": "#AB63FA"
         },
         "marker": {
          "color": "#AB63FA",
          "line": {
           "color": "black",
           "width": 1
          },
          "opacity": 0.7,
          "symbol": "circle"
         },
         "name": "Score",
         "pointpos": -1.5,
         "type": "box",
         "visible": false,
         "y": [
          0.0401800540370397,
          7.6148284631306815,
          0.04018593314288306,
          7.61482899159504,
          0.10941716880710961,
          0.10777233130867285,
          0.04020035756403976,
          0.04018593968509961,
          0.040184503448425835,
          7.614828463711165
         ]
        },
        {
         "boxpoints": "all",
         "jitter": 0.2,
         "line": {
          "color": "#636EFA"
         },
         "marker": {
          "color": "#636EFA",
          "line": {
           "color": "black",
           "width": 1
          },
          "opacity": 0.7,
          "symbol": "circle"
         },
         "name": "Initial tumour volume in cm^3",
         "pointpos": -1.5,
         "type": "box",
         "visible": false,
         "y": [
          null,
          0.0793258367361158,
          0.07933205760307886,
          0.07933102643074189,
          -0.2016350553732337,
          -0.19792880261826992,
          -0.1803110004943924,
          0.07933113841808151,
          -0.19509960636186113,
          0.07927494616772347
         ]
        },
        {
         "boxpoints": "all",
         "jitter": 0.2,
         "line": {
          "color": "#EF553B"
         },
         "marker": {
          "color": "#EF553B",
          "line": {
           "color": "black",
           "width": 1
          },
          "opacity": 0.7,
          "symbol": "circle"
         },
         "name": "Exponential growth rate in 1/day",
         "pointpos": -1.5,
         "type": "box",
         "visible": false,
         "y": [
          null,
          -323.76617911350775,
          -55.577472195718784,
          -519.1907871467304,
          358.8117887205646,
          389.4745687130517,
          521.2526752408646,
          -1271.9924145185062,
          690.4923315215362,
          -53.691916883339005
         ]
        },
        {
         "boxpoints": "all",
         "jitter": 0.2,
         "line": {
          "color": "#00CC96"
         },
         "marker": {
          "color": "#00CC96",
          "line": {
           "color": "black",
           "width": 1
          },
          "opacity": 0.7,
          "symbol": "circle"
         },
         "name": "Linear growth rate in cm^3/day",
         "pointpos": -1.5,
         "type": "box",
         "visible": false,
         "y": [
          null,
          956.4492141062232,
          -93.02994084287035,
          -133.1235432780072,
          0.06102022380467826,
          0.05959440618056221,
          0.058327388133274365,
          972.7203716633334,
          0.059327857991580704,
          -921.5994147617984
         ]
        },
        {
         "boxpoints": "all",
         "jitter": 0.2,
         "line": {
          "color": "#AB63FA"
         },
         "marker": {
          "color": "#AB63FA",
          "line": {
           "color": "black",
           "width": 1
          },
          "opacity": 0.7,
          "symbol": "circle"
         },
         "name": "Score",
         "pointpos": -1.5,
         "type": "box",
         "visible": false,
         "y": [
          null,
          12.13580752477931,
          12.135806790001801,
          12.135806904303678,
          1.1164628810158408,
          1.11247857343954,
          1.1169016748970604,
          12.135807186381351,
          1.1163585931518223,
          12.135807370567555
         ]
        },
        {
         "boxpoints": "all",
         "jitter": 0.2,
         "line": {
          "color": "#636EFA"
         },
         "marker": {
          "color": "#636EFA",
          "line": {
           "color": "black",
           "width": 1
          },
          "opacity": 0.7,
          "symbol": "circle"
         },
         "name": "Initial tumour volume in cm^3",
         "pointpos": -1.5,
         "type": "box",
         "visible": false,
         "y": [
          0.10587440604481899,
          0.10588856973826619,
          null,
          0.13327405147341032,
          0.13289502411059373,
          0.008697107458504685,
          0.00834310704163163,
          0.10607769629251412,
          0.009784291791040092,
          0.10588074354523777
         ]
        },
        {
         "boxpoints": "all",
         "jitter": 0.2,
         "line": {
          "color": "#EF553B"
         },
         "marker": {
          "color": "#EF553B",
          "line": {
           "color": "black",
           "width": 1
          },
          "opacity": 0.7,
          "symbol": "circle"
         },
         "name": "Exponential growth rate in 1/day",
         "pointpos": -1.5,
         "type": "box",
         "visible": false,
         "y": [
          -2713.911447412086,
          -5170.5466621028545,
          null,
          0.19735970033511907,
          0.1990064285648896,
          791.1464451956183,
          518.9302118612352,
          -27.564428978945116,
          24.92452069660484,
          -312.72454570112995
         ]
        },
        {
         "boxpoints": "all",
         "jitter": 0.2,
         "line": {
          "color": "#00CC96"
         },
         "marker": {
          "color": "#00CC96",
          "line": {
           "color": "black",
           "width": 1
          },
          "opacity": 0.7,
          "symbol": "circle"
         },
         "name": "Linear growth rate in cm^3/day",
         "pointpos": -1.5,
         "type": "box",
         "visible": false,
         "y": [
          -628.9830436999347,
          -18.276915505104302,
          null,
          0.1085369184877453,
          0.10827361222605925,
          0.08028162335814805,
          0.08030949029117937,
          -36.64190965536614,
          0.08065209973110024,
          -563.5810243380578
         ]
        },
        {
         "boxpoints": "all",
         "jitter": 0.2,
         "line": {
          "color": "#AB63FA"
         },
         "marker": {
          "color": "#AB63FA",
          "line": {
           "color": "black",
           "width": 1
          },
          "opacity": 0.7,
          "symbol": "circle"
         },
         "name": "Score",
         "pointpos": -1.5,
         "type": "box",
         "visible": false,
         "y": [
          17.512382021983264,
          17.51238178220835,
          null,
          0.25885734650713543,
          0.25885804033572,
          0.29203974212728484,
          0.2920093843859672,
          17.51237448749541,
          0.29058348624269575,
          17.512381643998978
         ]
        },
        {
         "boxpoints": "all",
         "jitter": 0.2,
         "line": {
          "color": "#636EFA"
         },
         "marker": {
          "color": "#636EFA",
          "line": {
           "color": "black",
           "width": 1
          },
          "opacity": 0.7,
          "symbol": "circle"
         },
         "name": "Initial tumour volume in cm^3",
         "pointpos": -1.5,
         "type": "box",
         "visible": false,
         "y": [
          0.12296700543111183,
          0.12300681413978536,
          0.0662233453049469,
          0.06622331774002342,
          0.0662233755755681,
          0.06622336162893484,
          0.06622615824872041,
          0.12300680203975625,
          0.12332976283089295,
          0.12300803106218955
         ]
        },
        {
         "boxpoints": "all",
         "jitter": 0.2,
         "line": {
          "color": "#EF553B"
         },
         "marker": {
          "color": "#EF553B",
          "line": {
           "color": "black",
           "width": 1
          },
          "opacity": 0.7,
          "symbol": "circle"
         },
         "name": "Exponential growth rate in 1/day",
         "pointpos": -1.5,
         "type": "box",
         "visible": false,
         "y": [
          -15.317759755568332,
          -491.6334756806999,
          1211.9058176512995,
          1211.8224233021579,
          1211.7104122132862,
          1211.7656372165059,
          448.01412901650434,
          -0.12238492771266607,
          0.0435211752611998,
          -521.2892704327279
         ]
        },
        {
         "boxpoints": "all",
         "jitter": 0.2,
         "line": {
          "color": "#00CC96"
         },
         "marker": {
          "color": "#00CC96",
          "line": {
           "color": "black",
           "width": 1
          },
          "opacity": 0.7,
          "symbol": "circle"
         },
         "name": "Linear growth rate in cm^3/day",
         "pointpos": -1.5,
         "type": "box",
         "visible": false,
         "y": [
          -762.9782517110125,
          126.00519578377917,
          0.02129621438109452,
          0.021296212685036026,
          0.02129621204908933,
          0.021296211937791153,
          0.021297798096390368,
          -133.63129699610656,
          0.07139561071227754,
          132.35919340970239
         ]
        },
        {
         "boxpoints": "all",
         "jitter": 0.2,
         "line": {
          "color": "#AB63FA"
         },
         "marker": {
          "color": "#AB63FA",
          "line": {
           "color": "black",
           "width": 1
          },
          "opacity": 0.7,
          "symbol": "circle"
         },
         "name": "Score",
         "pointpos": -1.5,
         "type": "box",
         "visible": false,
         "y": [
          2.6136548092110963,
          2.613656010199247,
          0.018944615918910147,
          0.01894461591893449,
          0.018944615918922776,
          0.018944615918943284,
          0.01894082543512178,
          2.558783360233471,
          0.002916019145855307,
          2.6136559571712032
         ]
        },
        {
         "boxpoints": "all",
         "jitter": 0.2,
         "line": {
          "color": "#636EFA"
         },
         "marker": {
          "color": "#636EFA",
          "line": {
           "color": "black",
           "width": 1
          },
          "opacity": 0.7,
          "symbol": "circle"
         },
         "name": "Initial tumour volume in cm^3",
         "pointpos": -1.5,
         "type": "box",
         "visible": false,
         "y": [
          0.1127136597659632,
          0.08005667134377559,
          0.08005650545610088,
          0.08008791384540251,
          0.026915590666905437,
          0.02693931538632825,
          0.02692576110629568,
          0.026925052787412793,
          0.026960675104183016,
          0.08005551931002979
         ]
        },
        {
         "boxpoints": "all",
         "jitter": 0.2,
         "line": {
          "color": "#EF553B"
         },
         "marker": {
          "color": "#EF553B",
          "line": {
           "color": "black",
           "width": 1
          },
          "opacity": 0.7,
          "symbol": "circle"
         },
         "name": "Exponential growth rate in 1/day",
         "pointpos": -1.5,
         "type": "box",
         "visible": false,
         "y": [
          -490.02231754757406,
          -514.3072194877136,
          -728.0040187320462,
          -2590.3729578441894,
          669.010935880936,
          830.5887754445844,
          553.7800757674149,
          2997.830015404119,
          382.6793515227976,
          -487.8045674993867
         ]
        },
        {
         "boxpoints": "all",
         "jitter": 0.2,
         "line": {
          "color": "#00CC96"
         },
         "marker": {
          "color": "#00CC96",
          "line": {
           "color": "black",
           "width": 1
          },
          "opacity": 0.7,
          "symbol": "circle"
         },
         "name": "Linear growth rate in cm^3/day",
         "pointpos": -1.5,
         "type": "box",
         "visible": false,
         "y": [
          0.006682456448849017,
          -348.5184548879445,
          -916.4115319074123,
          -748.0413467820927,
          0.017331994365072215,
          0.017329876019586687,
          0.017331498839973022,
          0.01732944593707137,
          0.017330212465583285,
          -710.5304072908522
         ]
        },
        {
         "boxpoints": "all",
         "jitter": 0.2,
         "line": {
          "color": "#AB63FA"
         },
         "marker": {
          "color": "#AB63FA",
          "line": {
           "color": "black",
           "width": 1
          },
          "opacity": 0.7,
          "symbol": "circle"
         },
         "name": "Score",
         "pointpos": -1.5,
         "type": "box",
         "visible": false,
         "y": [
          0.23628989349375157,
          1.5197868493913762,
          1.5197873559519077,
          1.5197872172991027,
          0.02286916004773132,
          0.022870488494232413,
          0.022868138367136873,
          0.022873563968666973,
          0.022865785631103547,
          1.5197864797008989
         ]
        }
       ],
       "layout": {
        "autosize": true,
        "legend": {
         "x": 1.05,
         "xanchor": "left",
         "y": 0.01,
         "yanchor": "bottom"
        },
        "template": {
         "data": {
          "bar": [
           {
            "error_x": {
             "color": "#2a3f5f"
            },
            "error_y": {
             "color": "#2a3f5f"
            },
            "marker": {
             "line": {
              "color": "white",
              "width": 0.5
             }
            },
            "type": "bar"
           }
          ],
          "barpolar": [
           {
            "marker": {
             "line": {
              "color": "white",
              "width": 0.5
             }
            },
            "type": "barpolar"
           }
          ],
          "carpet": [
           {
            "aaxis": {
             "endlinecolor": "#2a3f5f",
             "gridcolor": "#C8D4E3",
             "linecolor": "#C8D4E3",
             "minorgridcolor": "#C8D4E3",
             "startlinecolor": "#2a3f5f"
            },
            "baxis": {
             "endlinecolor": "#2a3f5f",
             "gridcolor": "#C8D4E3",
             "linecolor": "#C8D4E3",
             "minorgridcolor": "#C8D4E3",
             "startlinecolor": "#2a3f5f"
            },
            "type": "carpet"
           }
          ],
          "choropleth": [
           {
            "colorbar": {
             "outlinewidth": 0,
             "ticks": ""
            },
            "type": "choropleth"
           }
          ],
          "contour": [
           {
            "colorbar": {
             "outlinewidth": 0,
             "ticks": ""
            },
            "colorscale": [
             [
              0,
              "#0d0887"
             ],
             [
              0.1111111111111111,
              "#46039f"
             ],
             [
              0.2222222222222222,
              "#7201a8"
             ],
             [
              0.3333333333333333,
              "#9c179e"
             ],
             [
              0.4444444444444444,
              "#bd3786"
             ],
             [
              0.5555555555555556,
              "#d8576b"
             ],
             [
              0.6666666666666666,
              "#ed7953"
             ],
             [
              0.7777777777777778,
              "#fb9f3a"
             ],
             [
              0.8888888888888888,
              "#fdca26"
             ],
             [
              1,
              "#f0f921"
             ]
            ],
            "type": "contour"
           }
          ],
          "contourcarpet": [
           {
            "colorbar": {
             "outlinewidth": 0,
             "ticks": ""
            },
            "type": "contourcarpet"
           }
          ],
          "heatmap": [
           {
            "colorbar": {
             "outlinewidth": 0,
             "ticks": ""
            },
            "colorscale": [
             [
              0,
              "#0d0887"
             ],
             [
              0.1111111111111111,
              "#46039f"
             ],
             [
              0.2222222222222222,
              "#7201a8"
             ],
             [
              0.3333333333333333,
              "#9c179e"
             ],
             [
              0.4444444444444444,
              "#bd3786"
             ],
             [
              0.5555555555555556,
              "#d8576b"
             ],
             [
              0.6666666666666666,
              "#ed7953"
             ],
             [
              0.7777777777777778,
              "#fb9f3a"
             ],
             [
              0.8888888888888888,
              "#fdca26"
             ],
             [
              1,
              "#f0f921"
             ]
            ],
            "type": "heatmap"
           }
          ],
          "heatmapgl": [
           {
            "colorbar": {
             "outlinewidth": 0,
             "ticks": ""
            },
            "colorscale": [
             [
              0,
              "#0d0887"
             ],
             [
              0.1111111111111111,
              "#46039f"
             ],
             [
              0.2222222222222222,
              "#7201a8"
             ],
             [
              0.3333333333333333,
              "#9c179e"
             ],
             [
              0.4444444444444444,
              "#bd3786"
             ],
             [
              0.5555555555555556,
              "#d8576b"
             ],
             [
              0.6666666666666666,
              "#ed7953"
             ],
             [
              0.7777777777777778,
              "#fb9f3a"
             ],
             [
              0.8888888888888888,
              "#fdca26"
             ],
             [
              1,
              "#f0f921"
             ]
            ],
            "type": "heatmapgl"
           }
          ],
          "histogram": [
           {
            "marker": {
             "colorbar": {
              "outlinewidth": 0,
              "ticks": ""
             }
            },
            "type": "histogram"
           }
          ],
          "histogram2d": [
           {
            "colorbar": {
             "outlinewidth": 0,
             "ticks": ""
            },
            "colorscale": [
             [
              0,
              "#0d0887"
             ],
             [
              0.1111111111111111,
              "#46039f"
             ],
             [
              0.2222222222222222,
              "#7201a8"
             ],
             [
              0.3333333333333333,
              "#9c179e"
             ],
             [
              0.4444444444444444,
              "#bd3786"
             ],
             [
              0.5555555555555556,
              "#d8576b"
             ],
             [
              0.6666666666666666,
              "#ed7953"
             ],
             [
              0.7777777777777778,
              "#fb9f3a"
             ],
             [
              0.8888888888888888,
              "#fdca26"
             ],
             [
              1,
              "#f0f921"
             ]
            ],
            "type": "histogram2d"
           }
          ],
          "histogram2dcontour": [
           {
            "colorbar": {
             "outlinewidth": 0,
             "ticks": ""
            },
            "colorscale": [
             [
              0,
              "#0d0887"
             ],
             [
              0.1111111111111111,
              "#46039f"
             ],
             [
              0.2222222222222222,
              "#7201a8"
             ],
             [
              0.3333333333333333,
              "#9c179e"
             ],
             [
              0.4444444444444444,
              "#bd3786"
             ],
             [
              0.5555555555555556,
              "#d8576b"
             ],
             [
              0.6666666666666666,
              "#ed7953"
             ],
             [
              0.7777777777777778,
              "#fb9f3a"
             ],
             [
              0.8888888888888888,
              "#fdca26"
             ],
             [
              1,
              "#f0f921"
             ]
            ],
            "type": "histogram2dcontour"
           }
          ],
          "mesh3d": [
           {
            "colorbar": {
             "outlinewidth": 0,
             "ticks": ""
            },
            "type": "mesh3d"
           }
          ],
          "parcoords": [
           {
            "line": {
             "colorbar": {
              "outlinewidth": 0,
              "ticks": ""
             }
            },
            "type": "parcoords"
           }
          ],
          "pie": [
           {
            "automargin": true,
            "type": "pie"
           }
          ],
          "scatter": [
           {
            "marker": {
             "colorbar": {
              "outlinewidth": 0,
              "ticks": ""
             }
            },
            "type": "scatter"
           }
          ],
          "scatter3d": [
           {
            "line": {
             "colorbar": {
              "outlinewidth": 0,
              "ticks": ""
             }
            },
            "marker": {
             "colorbar": {
              "outlinewidth": 0,
              "ticks": ""
             }
            },
            "type": "scatter3d"
           }
          ],
          "scattercarpet": [
           {
            "marker": {
             "colorbar": {
              "outlinewidth": 0,
              "ticks": ""
             }
            },
            "type": "scattercarpet"
           }
          ],
          "scattergeo": [
           {
            "marker": {
             "colorbar": {
              "outlinewidth": 0,
              "ticks": ""
             }
            },
            "type": "scattergeo"
           }
          ],
          "scattergl": [
           {
            "marker": {
             "colorbar": {
              "outlinewidth": 0,
              "ticks": ""
             }
            },
            "type": "scattergl"
           }
          ],
          "scattermapbox": [
           {
            "marker": {
             "colorbar": {
              "outlinewidth": 0,
              "ticks": ""
             }
            },
            "type": "scattermapbox"
           }
          ],
          "scatterpolar": [
           {
            "marker": {
             "colorbar": {
              "outlinewidth": 0,
              "ticks": ""
             }
            },
            "type": "scatterpolar"
           }
          ],
          "scatterpolargl": [
           {
            "marker": {
             "colorbar": {
              "outlinewidth": 0,
              "ticks": ""
             }
            },
            "type": "scatterpolargl"
           }
          ],
          "scatterternary": [
           {
            "marker": {
             "colorbar": {
              "outlinewidth": 0,
              "ticks": ""
             }
            },
            "type": "scatterternary"
           }
          ],
          "surface": [
           {
            "colorbar": {
             "outlinewidth": 0,
             "ticks": ""
            },
            "colorscale": [
             [
              0,
              "#0d0887"
             ],
             [
              0.1111111111111111,
              "#46039f"
             ],
             [
              0.2222222222222222,
              "#7201a8"
             ],
             [
              0.3333333333333333,
              "#9c179e"
             ],
             [
              0.4444444444444444,
              "#bd3786"
             ],
             [
              0.5555555555555556,
              "#d8576b"
             ],
             [
              0.6666666666666666,
              "#ed7953"
             ],
             [
              0.7777777777777778,
              "#fb9f3a"
             ],
             [
              0.8888888888888888,
              "#fdca26"
             ],
             [
              1,
              "#f0f921"
             ]
            ],
            "type": "surface"
           }
          ],
          "table": [
           {
            "cells": {
             "fill": {
              "color": "#EBF0F8"
             },
             "line": {
              "color": "white"
             }
            },
            "header": {
             "fill": {
              "color": "#C8D4E3"
             },
             "line": {
              "color": "white"
             }
            },
            "type": "table"
           }
          ]
         },
         "layout": {
          "annotationdefaults": {
           "arrowcolor": "#2a3f5f",
           "arrowhead": 0,
           "arrowwidth": 1
          },
          "coloraxis": {
           "colorbar": {
            "outlinewidth": 0,
            "ticks": ""
           }
          },
          "colorscale": {
           "diverging": [
            [
             0,
             "#8e0152"
            ],
            [
             0.1,
             "#c51b7d"
            ],
            [
             0.2,
             "#de77ae"
            ],
            [
             0.3,
             "#f1b6da"
            ],
            [
             0.4,
             "#fde0ef"
            ],
            [
             0.5,
             "#f7f7f7"
            ],
            [
             0.6,
             "#e6f5d0"
            ],
            [
             0.7,
             "#b8e186"
            ],
            [
             0.8,
             "#7fbc41"
            ],
            [
             0.9,
             "#4d9221"
            ],
            [
             1,
             "#276419"
            ]
           ],
           "sequential": [
            [
             0,
             "#0d0887"
            ],
            [
             0.1111111111111111,
             "#46039f"
            ],
            [
             0.2222222222222222,
             "#7201a8"
            ],
            [
             0.3333333333333333,
             "#9c179e"
            ],
            [
             0.4444444444444444,
             "#bd3786"
            ],
            [
             0.5555555555555556,
             "#d8576b"
            ],
            [
             0.6666666666666666,
             "#ed7953"
            ],
            [
             0.7777777777777778,
             "#fb9f3a"
            ],
            [
             0.8888888888888888,
             "#fdca26"
            ],
            [
             1,
             "#f0f921"
            ]
           ],
           "sequentialminus": [
            [
             0,
             "#0d0887"
            ],
            [
             0.1111111111111111,
             "#46039f"
            ],
            [
             0.2222222222222222,
             "#7201a8"
            ],
            [
             0.3333333333333333,
             "#9c179e"
            ],
            [
             0.4444444444444444,
             "#bd3786"
            ],
            [
             0.5555555555555556,
             "#d8576b"
            ],
            [
             0.6666666666666666,
             "#ed7953"
            ],
            [
             0.7777777777777778,
             "#fb9f3a"
            ],
            [
             0.8888888888888888,
             "#fdca26"
            ],
            [
             1,
             "#f0f921"
            ]
           ]
          },
          "colorway": [
           "#636efa",
           "#EF553B",
           "#00cc96",
           "#ab63fa",
           "#FFA15A",
           "#19d3f3",
           "#FF6692",
           "#B6E880",
           "#FF97FF",
           "#FECB52"
          ],
          "font": {
           "color": "#2a3f5f"
          },
          "geo": {
           "bgcolor": "white",
           "lakecolor": "white",
           "landcolor": "white",
           "showlakes": true,
           "showland": true,
           "subunitcolor": "#C8D4E3"
          },
          "hoverlabel": {
           "align": "left"
          },
          "hovermode": "closest",
          "mapbox": {
           "style": "light"
          },
          "paper_bgcolor": "white",
          "plot_bgcolor": "white",
          "polar": {
           "angularaxis": {
            "gridcolor": "#EBF0F8",
            "linecolor": "#EBF0F8",
            "ticks": ""
           },
           "bgcolor": "white",
           "radialaxis": {
            "gridcolor": "#EBF0F8",
            "linecolor": "#EBF0F8",
            "ticks": ""
           }
          },
          "scene": {
           "xaxis": {
            "backgroundcolor": "white",
            "gridcolor": "#DFE8F3",
            "gridwidth": 2,
            "linecolor": "#EBF0F8",
            "showbackground": true,
            "ticks": "",
            "zerolinecolor": "#EBF0F8"
           },
           "yaxis": {
            "backgroundcolor": "white",
            "gridcolor": "#DFE8F3",
            "gridwidth": 2,
            "linecolor": "#EBF0F8",
            "showbackground": true,
            "ticks": "",
            "zerolinecolor": "#EBF0F8"
           },
           "zaxis": {
            "backgroundcolor": "white",
            "gridcolor": "#DFE8F3",
            "gridwidth": 2,
            "linecolor": "#EBF0F8",
            "showbackground": true,
            "ticks": "",
            "zerolinecolor": "#EBF0F8"
           }
          },
          "shapedefaults": {
           "line": {
            "color": "#2a3f5f"
           }
          },
          "ternary": {
           "aaxis": {
            "gridcolor": "#DFE8F3",
            "linecolor": "#A2B1C6",
            "ticks": ""
           },
           "baxis": {
            "gridcolor": "#DFE8F3",
            "linecolor": "#A2B1C6",
            "ticks": ""
           },
           "bgcolor": "white",
           "caxis": {
            "gridcolor": "#DFE8F3",
            "linecolor": "#A2B1C6",
            "ticks": ""
           }
          },
          "title": {
           "x": 0.05
          },
          "xaxis": {
           "automargin": true,
           "gridcolor": "#EBF0F8",
           "linecolor": "#EBF0F8",
           "ticks": "",
           "title": {
            "standoff": 15
           },
           "zerolinecolor": "#EBF0F8",
           "zerolinewidth": 2
          },
          "yaxis": {
           "automargin": true,
           "gridcolor": "#EBF0F8",
           "linecolor": "#EBF0F8",
           "ticks": "",
           "title": {
            "standoff": 15
           },
           "zerolinecolor": "#EBF0F8",
           "zerolinewidth": 2
          }
         }
        },
        "updatemenus": [
         {
          "buttons": [
           {
            "args": [
             {
              "visible": [
               true,
               true,
               true,
               true,
               false,
               false,
               false,
               false,
               false,
               false,
               false,
               false,
               false,
               false,
               false,
               false,
               false,
               false,
               false,
               false,
               false,
               false,
               false,
               false,
               false,
               false,
               false,
               false,
               false,
               false,
               false,
               false
              ]
             }
            ],
            "label": "ID: 40",
            "method": "restyle"
           },
           {
            "args": [
             {
              "visible": [
               false,
               false,
               false,
               false,
               true,
               true,
               true,
               true,
               false,
               false,
               false,
               false,
               false,
               false,
               false,
               false,
               false,
               false,
               false,
               false,
               false,
               false,
               false,
               false,
               false,
               false,
               false,
               false,
               false,
               false,
               false,
               false
              ]
             }
            ],
            "label": "ID: 94",
            "method": "restyle"
           },
           {
            "args": [
             {
              "visible": [
               false,
               false,
               false,
               false,
               false,
               false,
               false,
               false,
               true,
               true,
               true,
               true,
               false,
               false,
               false,
               false,
               false,
               false,
               false,
               false,
               false,
               false,
               false,
               false,
               false,
               false,
               false,
               false,
               false,
               false,
               false,
               false
              ]
             }
            ],
            "label": "ID: 95",
            "method": "restyle"
           },
           {
            "args": [
             {
              "visible": [
               false,
               false,
               false,
               false,
               false,
               false,
               false,
               false,
               false,
               false,
               false,
               false,
               true,
               true,
               true,
               true,
               false,
               false,
               false,
               false,
               false,
               false,
               false,
               false,
               false,
               false,
               false,
               false,
               false,
               false,
               false,
               false
              ]
             }
            ],
            "label": "ID: 136",
            "method": "restyle"
           },
           {
            "args": [
             {
              "visible": [
               false,
               false,
               false,
               false,
               false,
               false,
               false,
               false,
               false,
               false,
               false,
               false,
               false,
               false,
               false,
               false,
               true,
               true,
               true,
               true,
               false,
               false,
               false,
               false,
               false,
               false,
               false,
               false,
               false,
               false,
               false,
               false
              ]
             }
            ],
            "label": "ID: 140",
            "method": "restyle"
           },
           {
            "args": [
             {
              "visible": [
               false,
               false,
               false,
               false,
               false,
               false,
               false,
               false,
               false,
               false,
               false,
               false,
               false,
               false,
               false,
               false,
               false,
               false,
               false,
               false,
               true,
               true,
               true,
               true,
               false,
               false,
               false,
               false,
               false,
               false,
               false,
               false
              ]
             }
            ],
            "label": "ID: 155",
            "method": "restyle"
           },
           {
            "args": [
             {
              "visible": [
               false,
               false,
               false,
               false,
               false,
               false,
               false,
               false,
               false,
               false,
               false,
               false,
               false,
               false,
               false,
               false,
               false,
               false,
               false,
               false,
               false,
               false,
               false,
               false,
               true,
               true,
               true,
               true,
               false,
               false,
               false,
               false
              ]
             }
            ],
            "label": "ID: 169",
            "method": "restyle"
           },
           {
            "args": [
             {
              "visible": [
               false,
               false,
               false,
               false,
               false,
               false,
               false,
               false,
               false,
               false,
               false,
               false,
               false,
               false,
               false,
               false,
               false,
               false,
               false,
               false,
               false,
               false,
               false,
               false,
               false,
               false,
               false,
               false,
               true,
               true,
               true,
               true
              ]
             }
            ],
            "label": "ID: 170",
            "method": "restyle"
           }
          ],
          "direction": "right",
          "pad": {
           "r": 0,
           "t": -10
          },
          "showactive": true,
          "type": "buttons",
          "x": 0,
          "xanchor": "left",
          "y": 1.1,
          "yanchor": "top"
         }
        ],
        "yaxis": {
         "title": {
          "text": "Estimates"
         }
        }
       }
      }
     },
     "metadata": {}
    }
   ],
   "source": [
    "#\n",
    "# Visualisation of the spread of optimised model parameters for multiple runs from different initial points.\n",
    "#\n",
    "# This cell needs the above optimised model parameters and their respective objective function scores, as well as the data\n",
    "# [mouse_parameters_multi_runs, mouse_scores_multi_runs, data]\n",
    "#\n",
    "\n",
    "import plotly.colors\n",
    "import plotly.graph_objects as go\n",
    "\n",
    "\n",
    "# Get mouse ids\n",
    "mouse_ids = data['#ID'].unique()\n",
    "\n",
    "# Get number of parameters + score (for visualisation)\n",
    "n_params = mouse_parameters_multi_runs.shape[2] + 1\n",
    "\n",
    "# Define colorscheme\n",
    "colors = plotly.colors.qualitative.Plotly[:n_params]\n",
    "\n",
    "# Get optimised parameter sets\n",
    "optimised_parameters =  mouse_parameters_multi_runs\n",
    "\n",
    "# Get scores for parameters\n",
    "scores = mouse_scores_multi_runs\n",
    "\n",
    "# Create figure\n",
    "fig = go.Figure()\n",
    "\n",
    "# Box plot of optimised model parameters\n",
    "for index, id_m in enumerate(mouse_ids):\n",
    "    # Get optimised parameters\n",
    "    parameters = optimised_parameters[index, ...]\n",
    "\n",
    "    # Get scores\n",
    "    score = scores[index, :]\n",
    "\n",
    "    # Create box plot of for initial tumour volume\n",
    "    fig.add_trace(\n",
    "        go.Box(\n",
    "            y=parameters[:, 0],  \n",
    "            name=\"Initial tumour volume in cm^3\",\n",
    "            boxpoints='all',\n",
    "            jitter=0.2,\n",
    "            pointpos=-1.5,\n",
    "            visible=True if index == 0 else False,\n",
    "            marker=dict(\n",
    "                symbol='circle',\n",
    "                opacity=0.7,\n",
    "                line=dict(color='black', width=1)),\n",
    "            marker_color=colors[0],\n",
    "            line_color=colors[0]))\n",
    "\n",
    "    # Create box plot of for exponential tumour growth\n",
    "    fig.add_trace(\n",
    "        go.Box(\n",
    "            y=parameters[:, 1],  \n",
    "            name=\"Exponential growth rate in 1/day\",\n",
    "            boxpoints='all',\n",
    "            jitter=0.2,\n",
    "            pointpos=-1.5,\n",
    "            visible=True if index == 0 else False,\n",
    "            marker=dict(\n",
    "                symbol='circle',\n",
    "                opacity=0.7,\n",
    "                line=dict(color='black', width=1)),\n",
    "            marker_color=colors[1],\n",
    "            line_color=colors[1]))\n",
    "\n",
    "    # Create box plot of for linear tumour growth\n",
    "    fig.add_trace(\n",
    "        go.Box(\n",
    "            y=parameters[:, 2],  \n",
    "            name=\"Linear growth rate in cm^3/day\",\n",
    "            boxpoints='all',\n",
    "            jitter=0.2,\n",
    "            pointpos=-1.5,\n",
    "            visible=True if index == 0 else False,\n",
    "            marker=dict(\n",
    "                symbol='circle',\n",
    "                opacity=0.7,\n",
    "                line=dict(color='black', width=1)),\n",
    "            marker_color=colors[2],\n",
    "            line_color=colors[2]))\n",
    "    \n",
    "    # Create box plot of for objective function score\n",
    "    fig.add_trace(\n",
    "        go.Box(\n",
    "            y=score,  \n",
    "            name=\"Score\",\n",
    "            boxpoints='all',\n",
    "            jitter=0.2,\n",
    "            pointpos=-1.5,\n",
    "            visible=True if index == 0 else False,\n",
    "            marker=dict(\n",
    "                symbol='circle',\n",
    "                opacity=0.7,\n",
    "                line=dict(color='black', width=1)),\n",
    "            marker_color=colors[3],\n",
    "            line_color=colors[3]))\n",
    "\n",
    "# Set figure size\n",
    "fig.update_layout(\n",
    "    autosize=True,\n",
    "    template=\"plotly_white\",\n",
    "    yaxis_title=\"Estimates\")\n",
    "\n",
    "# Add switch between mice\n",
    "fig.update_layout(\n",
    "    updatemenus=[\n",
    "        dict(\n",
    "            type = \"buttons\",\n",
    "            direction = \"right\",\n",
    "            buttons=list([\n",
    "                dict(\n",
    "                    args=[{\"visible\": [True]*4 + [False]*(4 * 7)}],\n",
    "                    label=\"ID: %d\" % mouse_ids[0],\n",
    "                    method=\"restyle\"\n",
    "                ),\n",
    "                dict(\n",
    "                    args=[{\"visible\": [False]*4 + [True]*4 + [False]*(4 * 6)}],\n",
    "                    label=\"ID: %d\" % mouse_ids[1],\n",
    "                    method=\"restyle\"\n",
    "                ),\n",
    "                dict(\n",
    "                    args=[{\"visible\": [False]*(4 * 2) + [True]*4 + [False]*(4 * 5)}],\n",
    "                    label=\"ID: %d\" % mouse_ids[2],\n",
    "                    method=\"restyle\"\n",
    "                ),\n",
    "                dict(\n",
    "                    args=[{\"visible\": [False]*(4 * 3) + [True]*4 + [False]*(4 * 4)}],\n",
    "                    label=\"ID: %d\" % mouse_ids[3],\n",
    "                    method=\"restyle\"\n",
    "                ),\n",
    "                dict(\n",
    "                    args=[{\"visible\": [False]*(4 * 4) + [True]*4 + [False]*(4 * 3)}],\n",
    "                    label=\"ID: %d\" % mouse_ids[4],\n",
    "                    method=\"restyle\"\n",
    "                ),\n",
    "                dict(\n",
    "                    args=[{\"visible\": [False]*(4 * 5) + [True]*4 + [False]*(4 * 2)}],\n",
    "                    label=\"ID: %d\" % mouse_ids[5],\n",
    "                    method=\"restyle\"\n",
    "                ),\n",
    "                dict(\n",
    "                    args=[{\"visible\": [False]*(4 * 6) + [True]*4 + [False]* 4}],\n",
    "                    label=\"ID: %d\" % mouse_ids[6],\n",
    "                    method=\"restyle\"\n",
    "                ),\n",
    "                dict(\n",
    "                    args=[{\"visible\": [False]*(4 * 7) + [True]*4}],\n",
    "                    label=\"ID: %d\" % mouse_ids[7],\n",
    "                    method=\"restyle\"\n",
    "                )\n",
    "            ]),\n",
    "            pad={\"r\": 0, \"t\": -10},\n",
    "            showactive=True,\n",
    "            x=0.0,\n",
    "            xanchor=\"left\",\n",
    "            y=1.1,\n",
    "            yanchor=\"top\"\n",
    "        )\n",
    "    ]\n",
    ")\n",
    "\n",
    "# Position legend\n",
    "fig.update_layout(legend=dict(\n",
    "    yanchor=\"bottom\",\n",
    "    y=0.01,\n",
    "    xanchor=\"left\",\n",
    "    x=1.05))\n",
    "\n",
    "# Show figure\n",
    "fig.show()\n"
   ]
  },
  {
   "cell_type": "markdown",
   "metadata": {},
   "source": [
    "**Figure 3 - Naïve optimisation:** Box plot of the structural model parameter estimates $\\hat \\psi $ (initial tumour volume $V_0$, exponential growth rate $\\lambda _0$, linear growth rate $\\lambda _1$) found by naïve optimisation of the squared distance between the predictions and the observations using a CMA-ES optimiser. For each individual the optimisation routine was run 10 times from a uniformly sampled starting point in $[10^{-3}, 10^3]$. In addition to the optimised parameters, also the distribution of the associated objective function scores is presented."
   ]
  },
  {
   "cell_type": "markdown",
   "metadata": {},
   "source": [
    "Running the same optimisation routine multiple times from varying starting points reveals that the CMA-ES optimiser does indeed not return the same \"optimal\" set of model parameters every time, see Figure 3. Especially the estimates for the exponential growth rate $\\lambda _0$ and the linear growth rate $\\lambda _1$ appear to vary significantly between optimisations for all individuals. This exercise highlights the importance of running optimisation routines multiple times to test their stability.\n",
    "\n",
    "The reasons why numerical optimisers, such as CMA-ES, may fail to produce the same estimates when running the optimisation routine multiple times from different starting points can be grouped into two categories: Limitations of the optimisation algorithm; and non-identifiability of the model.\n",
    "\n",
    "No numerical (\"black box\") optimiser can guarantee to find the global minimum of an objective function. That is because such optimisers try to find the smallest value of an objective function by repeatedly evaluating it at different points until an optimiser-specific convergence criterion is met. The point with the smallest objective function value is then returned as the minimum of the objective function. This illustrates a generic problem of numerical optimisation: No numerical optimiser globally explores the search space (numerically not feasible / impossible), but instead relies on good heuristics to suggest points for evaluation and to determine convergence. As a result, the performance of an optimiser strongly depends on whether those strategies are well suited for the objective function at hand. Fortunately there seem to be a number of strategies to generically improve the performance of optimisers, such as limiting the search space, non-dimensionalising the model, and log-transforming the model parameters. For more details on the pitfalls of optimisation routines, please have a look at the dedicated notebook, [Numerical Optimisation and its Pitfalls](https://nbviewer.jupyter.org/github/DavAug/ErlotinibGefitinib/blob/master/notebooks/inference_pitfalls/optimisation_pitfalls.ipynb).\n",
    "\n",
    "In addition, a model may not have a unique minimum in the search space. Such a model is said to be non-identifiable [6]. This occurs when either the model is redundantly parameterised (structural non-identifiability), or the predictions of the observed behaviour are not sensitive to a subset of the model parameters (practical non-identifiability). For more details on structural or practical identifiability, please have a look at the dedicated notebook,[Structural and Practical Identifiability Explained](https://nbviewer.jupyter.org/github/DavAug/ErlotinibGefitinib/blob/master/notebooks/inference_pitfalls/identifiability.ipynb)."
   ]
  },
  {
   "cell_type": "markdown",
   "metadata": {},
   "source": [
    "## Limiting the search space\n",
    "\n",
    "Figure 3 shows that naïvely minimising the squared distance between the model predictions and the observations does not lead to reliable parameter estimates. In particular, extremely large parameter estimates as well as negative values are not biologically feasible, and therefore are almost certainly artefacts of the numerical optimisation procedure. \n",
    "\n",
    "In fact, one can show that for large parameter magnitudes the optimiser fails to explore the parameter space meaningfully as differences in the objective function score are beyond numerical floating point accuracy. As a result, the CMA-ES optimiser is no longer able to detect a descend of the objective function in any direction and terminates prematurely. For more details please have a look at the dedicated notebook, [Numerical Optimisation and its Pitfalls](https://nbviewer.jupyter.org/github/DavAug/ErlotinibGefitinib/blob/master/notebooks/inference_pitfalls/optimisation_pitfalls.ipynb). In addition, negative parameter values may locally minimise the objective, but are biologically not feasible and should therefore be excluded from the search space.\n",
    "\n",
    "As a result, our first measure to stabilise the optimisation will be to limit the search space to biologically feasible parameter values. We choose to limit the model parameters to values in $[10^{-3}, 10^3]$. Those parameter ranges should be sufficient, unless we have chosen vastly inappropriate units for the model parameters."
   ]
  },
  {
   "cell_type": "code",
   "execution_count": 7,
   "metadata": {
    "tags": []
   },
   "outputs": [
    {
     "output_type": "display_data",
     "data": {
      "text/plain": "HBox(children=(FloatProgress(value=0.0, max=8.0), HTML(value='')))",
      "application/vnd.jupyter.widget-view+json": {
       "version_major": 2,
       "version_minor": 0,
       "model_id": "d05e8d822dc145698c216dd0e8b9e89f"
      }
     },
     "metadata": {}
    },
    {
     "output_type": "stream",
     "name": "stdout",
     "text": "\n"
    }
   ],
   "source": [
    "#\n",
    "# Run optimisation multiple times from random initial starting points. The search space is limited to [10^-3, 10^3].\n",
    "#\n",
    "\n",
    "import os\n",
    "\n",
    "import myokit\n",
    "import numpy as np\n",
    "import pandas as pd\n",
    "import pints\n",
    "from tqdm.notebook import tqdm\n",
    "\n",
    "\n",
    "# Define number of optimisation runs for each individual\n",
    "n_runs = 10\n",
    "\n",
    "# Import data\n",
    "# Get path of current working directory\n",
    "path = os.getcwd()\n",
    "\n",
    "# Import LXF A677 control growth data\n",
    "data = pd.read_csv(path + '/data/lxf_control_growth.csv')\n",
    "\n",
    "# Define model\n",
    "path = pkpd.ModelLibrary().get_path('Tumour growth without treatment - Eigenmann et. al.')\n",
    "model = pkpd.PharmacodynamicModel(path, is_log_transformed=False)\n",
    "\n",
    "# Define container for the structural model estimates\n",
    "# Shape (n_mice, n_runs, n_parameters)\n",
    "n_mice = len(data['#ID'].unique())\n",
    "n_parameters = 3\n",
    "mouse_parameters_constrained = np.empty(shape=(n_mice, n_runs, n_parameters))\n",
    "\n",
    "# Define container for the objective function score for the optimised parameters\n",
    "mouse_scores_constrained = np.empty(shape=(n_mice, n_runs))\n",
    "\n",
    "# Define random starting points over many orders of magnitude\n",
    "# Shape = (n_runs, n_parameters)\n",
    "initial_parameters = np.random.uniform(low=1E-3, high=1E3, size=(n_runs, n_parameters))\n",
    "\n",
    "# Find mouse parameters for LXF A677 population\n",
    "mouse_ids = data['#ID'].unique()\n",
    "for index, mouse_id in enumerate(tqdm(mouse_ids)):\n",
    "    # Create mask for mouse with specfied ID\n",
    "    mouse_mask = data['#ID'] == mouse_id\n",
    "\n",
    "    # Get relevant time points\n",
    "    times = data[mouse_mask]['TIME in day'].to_numpy()\n",
    "\n",
    "    # Get measured tumour volumes\n",
    "    observed_volumes = data[mouse_mask]['TUMOUR VOLUME in cm^3'].to_numpy()\n",
    "\n",
    "    # Create inverse problem\n",
    "    problem = pints.SingleOutputProblem(model, times, observed_volumes)\n",
    "\n",
    "    # Create sum of squares error objective function\n",
    "    error = pints.SumOfSquaresError(problem)\n",
    "\n",
    "    # Create boundaries to biologically relevant values\n",
    "    boundary = pints.RectangularBoundaries(lower=[1E-3]*3, upper=[1E3]*3)\n",
    "\n",
    "    # Run optimisation multiple times\n",
    "    for run_id, initial_params in enumerate(initial_parameters):\n",
    "        # Create optimisation controller with a CMA-ES optimiser\n",
    "        optimiser = pints.OptimisationController(\n",
    "            function=error,\n",
    "            x0=initial_params,\n",
    "            boundaries=boundary,\n",
    "            method=pints.CMAES)\n",
    "\n",
    "        # Disable logging mode\n",
    "        optimiser.set_log_to_screen(False)\n",
    "\n",
    "        # Parallelise optimisation\n",
    "        optimiser.set_parallel(True)\n",
    "\n",
    "        # Find optimal parameters\n",
    "        try:\n",
    "            estimates, score = optimiser.run()\n",
    "        except:\n",
    "            # If inference breaks fill estimates with nan\n",
    "            estimates = np.array([np.nan, np.nan, np.nan])\n",
    "            score = np.nan\n",
    "\n",
    "        # Save estimates and score\n",
    "        mouse_parameters_constrained[index, run_id, :] = estimates\n",
    "        mouse_scores_constrained[index, run_id] = score"
   ]
  },
  {
   "cell_type": "code",
   "execution_count": 8,
   "metadata": {},
   "outputs": [
    {
     "output_type": "display_data",
     "data": {
      "application/vnd.plotly.v1+json": {
       "config": {
        "plotlyServerURL": "https://plot.ly"
       },
       "data": [
        {
         "boxpoints": "all",
         "jitter": 0.2,
         "line": {
          "color": "#636EFA"
         },
         "marker": {
          "color": "#636EFA",
          "line": {
           "color": "black",
           "width": 1
          },
          "opacity": 0.7,
          "symbol": "circle"
         },
         "name": "Initial tumour volume in cm^3",
         "pointpos": -1.5,
         "type": "box",
         "visible": true,
         "y": [
          0.13935644770626696,
          0.03673253139747102,
          0.13932337001343165,
          0.036734096708987404,
          0.13918643332089128,
          0.13771800514812826,
          0.1373492119429696,
          0.13771720653858355,
          0.1393235347564593,
          0.13731867399818992
         ]
        },
        {
         "boxpoints": "all",
         "jitter": 0.2,
         "line": {
          "color": "#EF553B"
         },
         "marker": {
          "color": "#EF553B",
          "line": {
           "color": "black",
           "width": 1
          },
          "opacity": 0.7,
          "symbol": "circle"
         },
         "name": "Exponential growth rate in 1/day",
         "pointpos": -1.5,
         "type": "box",
         "visible": true,
         "y": [
          0.2752759450340818,
          175.97582899979096,
          0.27541144912883286,
          175.98468815987954,
          0.27559581935217164,
          0.28495296339102116,
          0.27869620753827684,
          0.2849543552549596,
          0.27541116859417747,
          0.2838695164428264
         ]
        },
        {
         "boxpoints": "all",
         "jitter": 0.2,
         "line": {
          "color": "#00CC96"
         },
         "marker": {
          "color": "#00CC96",
          "line": {
           "color": "black",
           "width": 1
          },
          "opacity": 0.7,
          "symbol": "circle"
         },
         "name": "Linear growth rate in cm^3/day",
         "pointpos": -1.5,
         "type": "box",
         "visible": true,
         "y": [
          0.13093908382591884,
          0.1008400319325217,
          0.1309688063170395,
          0.10083983958269388,
          0.13093824173120083,
          0.12961973886566583,
          0.1307198780679111,
          0.129619631871346,
          0.13096882493257544,
          0.12996422521700693
         ]
        },
        {
         "boxpoints": "all",
         "jitter": 0.2,
         "line": {
          "color": "#AB63FA"
         },
         "marker": {
          "color": "#AB63FA",
          "line": {
           "color": "black",
           "width": 1
          },
          "opacity": 0.7,
          "symbol": "circle"
         },
         "name": "Score",
         "pointpos": -1.5,
         "type": "box",
         "visible": true,
         "y": [
          0.031861508314297265,
          0.06876017413634136,
          0.03186018809106756,
          0.06876017423728358,
          0.03186087881885197,
          0.03190273165992866,
          0.03188261855800057,
          0.03190273165741597,
          0.03186018809022124,
          0.031904047234738914
         ]
        },
        {
         "boxpoints": "all",
         "jitter": 0.2,
         "line": {
          "color": "#636EFA"
         },
         "marker": {
          "color": "#636EFA",
          "line": {
           "color": "black",
           "width": 1
          },
          "opacity": 0.7,
          "symbol": "circle"
         },
         "name": "Initial tumour volume in cm^3",
         "pointpos": -1.5,
         "type": "box",
         "visible": false,
         "y": [
          0.05752673467874042,
          0.05751976969571575,
          0.05754181213709,
          0.05752671842205295,
          0.057522139455587984,
          0.07455448513760718,
          0.07461488447915587,
          0.07443717450517529,
          0.05752670772636703,
          0.07464178879580698
         ]
        },
        {
         "boxpoints": "all",
         "jitter": 0.2,
         "line": {
          "color": "#EF553B"
         },
         "marker": {
          "color": "#EF553B",
          "line": {
           "color": "black",
           "width": 1
          },
          "opacity": 0.7,
          "symbol": "circle"
         },
         "name": "Exponential growth rate in 1/day",
         "pointpos": -1.5,
         "type": "box",
         "visible": false,
         "y": [
          390.8478380184453,
          371.45527078961936,
          173.33039716947832,
          390.8479625658102,
          999.9999997261242,
          0.16791172982428487,
          0.1677296700728203,
          0.16939958507896347,
          390.8480478952818,
          0.1676428668984925
         ]
        },
        {
         "boxpoints": "all",
         "jitter": 0.2,
         "line": {
          "color": "#00CC96"
         },
         "marker": {
          "color": "#00CC96",
          "line": {
           "color": "black",
           "width": 1
          },
          "opacity": 0.7,
          "symbol": "circle"
         },
         "name": "Linear growth rate in cm^3/day",
         "pointpos": -1.5,
         "type": "box",
         "visible": false,
         "y": [
          0.016439696847198856,
          0.016440468115467042,
          0.016441170832382092,
          0.016439698252548415,
          0.01643852799286386,
          0.020313884784453642,
          0.020308279240574725,
          0.02027456036727191,
          0.016439699089277456,
          0.02030461278667185
         ]
        },
        {
         "boxpoints": "all",
         "jitter": 0.2,
         "line": {
          "color": "#AB63FA"
         },
         "marker": {
          "color": "#AB63FA",
          "line": {
           "color": "black",
           "width": 1
          },
          "opacity": 0.7,
          "symbol": "circle"
         },
         "name": "Score",
         "pointpos": -1.5,
         "type": "box",
         "visible": false,
         "y": [
          0.008274291669379343,
          0.008274380260211968,
          0.008273018389448134,
          0.008274291669379409,
          0.008274993986062374,
          0.007448217819762981,
          0.007448517553052905,
          0.007448563913365032,
          0.008274291669385859,
          0.0074486450007509985
         ]
        },
        {
         "boxpoints": "all",
         "jitter": 0.2,
         "line": {
          "color": "#636EFA"
         },
         "marker": {
          "color": "#636EFA",
          "line": {
           "color": "black",
           "width": 1
          },
          "opacity": 0.7,
          "symbol": "circle"
         },
         "name": "Initial tumour volume in cm^3",
         "pointpos": -1.5,
         "type": "box",
         "visible": false,
         "y": [
          0.0010031815541817887,
          0.221069143321661,
          0.001261913328112759,
          0.0014972904140112,
          0.22106914701378122,
          0.0010389017922341256,
          0.0010694262102919848,
          0.2210691395087731,
          0.0010311526670897886,
          0.00100000006080851
         ]
        },
        {
         "boxpoints": "all",
         "jitter": 0.2,
         "line": {
          "color": "#EF553B"
         },
         "marker": {
          "color": "#EF553B",
          "line": {
           "color": "black",
           "width": 1
          },
          "opacity": 0.7,
          "symbol": "circle"
         },
         "name": "Exponential growth rate in 1/day",
         "pointpos": -1.5,
         "type": "box",
         "visible": false,
         "y": [
          87.24201007746896,
          0.05553423884717487,
          611.5395270451155,
          806.2820359569497,
          0.05553423850748879,
          375.4217422701425,
          440.4121830055983,
          0.055534239812352705,
          679.3948246864807,
          765.6024353361742
         ]
        },
        {
         "boxpoints": "all",
         "jitter": 0.2,
         "line": {
          "color": "#00CC96"
         },
         "marker": {
          "color": "#00CC96",
          "line": {
           "color": "black",
           "width": 1
          },
          "opacity": 0.7,
          "symbol": "circle"
         },
         "name": "Linear growth rate in cm^3/day",
         "pointpos": -1.5,
         "type": "box",
         "visible": false,
         "y": [
          0.08863400283665719,
          999.9999999405296,
          0.08843767336348773,
          0.08833995733144344,
          999.9999999991854,
          0.08840305742892601,
          0.08846681444487262,
          999.9999999843633,
          0.08836961474446847,
          0.08836833233673758
         ]
        },
        {
         "boxpoints": "all",
         "jitter": 0.2,
         "line": {
          "color": "#AB63FA"
         },
         "marker": {
          "color": "#AB63FA",
          "line": {
           "color": "black",
           "width": 1
          },
          "opacity": 0.7,
          "symbol": "circle"
         },
         "name": "Score",
         "pointpos": -1.5,
         "type": "box",
         "visible": false,
         "y": [
          0.535885625200263,
          0.09931836749903664,
          0.5375593613226752,
          0.5374000484399182,
          0.09931836749903389,
          0.5374201238737888,
          0.5375391868466572,
          0.09931836749903482,
          0.5371735559944361,
          0.5376980394382805
         ]
        },
        {
         "boxpoints": "all",
         "jitter": 0.2,
         "line": {
          "color": "#636EFA"
         },
         "marker": {
          "color": "#636EFA",
          "line": {
           "color": "black",
           "width": 1
          },
          "opacity": 0.7,
          "symbol": "circle"
         },
         "name": "Initial tumour volume in cm^3",
         "pointpos": -1.5,
         "type": "box",
         "visible": false,
         "y": [
          0.14903258274593192,
          0.01855484637863466,
          0.019026662790240317,
          0.14894802210378444,
          0.1481921159738814,
          0.01965651093028261,
          0.018294175700319396,
          0.01829420221526815,
          0.14902292054811841,
          0.14883931098808548
         ]
        },
        {
         "boxpoints": "all",
         "jitter": 0.2,
         "line": {
          "color": "#EF553B"
         },
         "marker": {
          "color": "#EF553B",
          "line": {
           "color": "black",
           "width": 1
          },
          "opacity": 0.7,
          "symbol": "circle"
         },
         "name": "Exponential growth rate in 1/day",
         "pointpos": -1.5,
         "type": "box",
         "visible": false,
         "y": [
          0.05425206673265299,
          316.0601874851589,
          146.84680356701801,
          0.05427176125321583,
          0.0547677726166413,
          26.30570627444398,
          717.0392536102653,
          717.0382755623881,
          0.054255427466159745,
          0.054623926109601484
         ]
        },
        {
         "boxpoints": "all",
         "jitter": 0.2,
         "line": {
          "color": "#00CC96"
         },
         "marker": {
          "color": "#00CC96",
          "line": {
           "color": "black",
           "width": 1
          },
          "opacity": 0.7,
          "symbol": "circle"
         },
         "name": "Linear growth rate in cm^3/day",
         "pointpos": -1.5,
         "type": "box",
         "visible": false,
         "y": [
          0.12881406023159514,
          0.04080869202631855,
          0.04079373045224965,
          0.1287903773003147,
          0.12676344162117217,
          0.04088517257035622,
          0.04081428329777957,
          0.0408142851348256,
          0.12881465464643843,
          0.1269689652143405
         ]
        },
        {
         "boxpoints": "all",
         "jitter": 0.2,
         "line": {
          "color": "#AB63FA"
         },
         "marker": {
          "color": "#AB63FA",
          "line": {
           "color": "black",
           "width": 1
          },
          "opacity": 0.7,
          "symbol": "circle"
         },
         "name": "Score",
         "pointpos": -1.5,
         "type": "box",
         "visible": false,
         "y": [
          0.04018450344753188,
          0.1093762978025335,
          0.10929899682876294,
          0.04018478272015993,
          0.04018108195349569,
          0.10879403838562916,
          0.10940559023059651,
          0.10940559023035432,
          0.040184666880866936,
          0.04018301363608164
         ]
        },
        {
         "boxpoints": "all",
         "jitter": 0.2,
         "line": {
          "color": "#636EFA"
         },
         "marker": {
          "color": "#636EFA",
          "line": {
           "color": "black",
           "width": 1
          },
          "opacity": 0.7,
          "symbol": "circle"
         },
         "name": "Initial tumour volume in cm^3",
         "pointpos": -1.5,
         "type": "box",
         "visible": false,
         "y": [
          0.0010000000109421443,
          0.001000181768304167,
          0.0010036649106375782,
          0.0010000000021638809,
          0.0010000000387442314,
          0.08430036105327023,
          0.0010000000000409436,
          0.001115777756108929,
          0.001000000000004111,
          0.0010000000046161619
         ]
        },
        {
         "boxpoints": "all",
         "jitter": 0.2,
         "line": {
          "color": "#EF553B"
         },
         "marker": {
          "color": "#EF553B",
          "line": {
           "color": "black",
           "width": 1
          },
          "opacity": 0.7,
          "symbol": "circle"
         },
         "name": "Exponential growth rate in 1/day",
         "pointpos": -1.5,
         "type": "box",
         "visible": false,
         "y": [
          716.9461055742107,
          428.0670102596283,
          110.49001156283049,
          957.5283853652764,
          935.562076731595,
          0.05412914665921356,
          587.9096991454221,
          866.3445327150913,
          440.7502222175727,
          957.5291269930309
         ]
        },
        {
         "boxpoints": "all",
         "jitter": 0.2,
         "line": {
          "color": "#00CC96"
         },
         "marker": {
          "color": "#00CC96",
          "line": {
           "color": "black",
           "width": 1
          },
          "opacity": 0.7,
          "symbol": "circle"
         },
         "name": "Linear growth rate in cm^3/day",
         "pointpos": -1.5,
         "type": "box",
         "visible": false,
         "y": [
          0.050094952357915425,
          0.05008856810868469,
          0.05015594377953364,
          0.050090647206807705,
          0.050090660066411274,
          999.999999797092,
          0.050097373609037855,
          0.05005013838851546,
          0.0501016619481964,
          0.0500906826806556
         ]
        },
        {
         "boxpoints": "all",
         "jitter": 0.2,
         "line": {
          "color": "#AB63FA"
         },
         "marker": {
          "color": "#AB63FA",
          "line": {
           "color": "black",
           "width": 1
          },
          "opacity": 0.7,
          "symbol": "circle"
         },
         "name": "Score",
         "pointpos": -1.5,
         "type": "box",
         "visible": false,
         "y": [
          1.2719566911264795,
          1.2714367491778051,
          1.268994540764524,
          1.2720681197367845,
          1.2720651550712074,
          0.14589083590908278,
          1.2718869510002087,
          1.2717248785711035,
          1.2717629342432974,
          1.2720681197749766
         ]
        },
        {
         "boxpoints": "all",
         "jitter": 0.2,
         "line": {
          "color": "#636EFA"
         },
         "marker": {
          "color": "#636EFA",
          "line": {
           "color": "black",
           "width": 1
          },
          "opacity": 0.7,
          "symbol": "circle"
         },
         "name": "Initial tumour volume in cm^3",
         "pointpos": -1.5,
         "type": "box",
         "visible": false,
         "y": [
          0.007577606370635099,
          0.007227784467322356,
          0.0030746184837985124,
          0.007047979730954857,
          0.008322244739235747,
          0.0069075009500508084,
          0.00797918886634461,
          0.010194238511264376,
          0.13327419807092156,
          0.008006047833027578
         ]
        },
        {
         "boxpoints": "all",
         "jitter": 0.2,
         "line": {
          "color": "#EF553B"
         },
         "marker": {
          "color": "#EF553B",
          "line": {
           "color": "black",
           "width": 1
          },
          "opacity": 0.7,
          "symbol": "circle"
         },
         "name": "Exponential growth rate in 1/day",
         "pointpos": -1.5,
         "type": "box",
         "visible": false,
         "y": [
          808.7935233207435,
          156.04647024720646,
          581.9802550068351,
          98.03871151296323,
          733.0044524062668,
          161.0550995247856,
          764.8733083991851,
          518.0627519488667,
          0.1973594834225878,
          767.4049273524846
         ]
        },
        {
         "boxpoints": "all",
         "jitter": 0.2,
         "line": {
          "color": "#00CC96"
         },
         "marker": {
          "color": "#00CC96",
          "line": {
           "color": "black",
           "width": 1
          },
          "opacity": 0.7,
          "symbol": "circle"
         },
         "name": "Linear growth rate in cm^3/day",
         "pointpos": -1.5,
         "type": "box",
         "visible": false,
         "y": [
          0.08035865457245905,
          0.08044680875380365,
          0.08050615216056717,
          0.08047775276574543,
          0.08028866032313758,
          0.08044968275047942,
          0.08027439576250564,
          0.08021109562141684,
          0.10853691783758512,
          0.08031536658824631
         ]
        },
        {
         "boxpoints": "all",
         "jitter": 0.2,
         "line": {
          "color": "#AB63FA"
         },
         "marker": {
          "color": "#AB63FA",
          "line": {
           "color": "black",
           "width": 1
          },
          "opacity": 0.7,
          "symbol": "circle"
         },
         "name": "Score",
         "pointpos": -1.5,
         "type": "box",
         "visible": false,
         "y": [
          0.2920173331932546,
          0.29157841808013235,
          0.29199217296007146,
          0.29143756983037483,
          0.29202942643716123,
          0.2915482204694627,
          0.2920275210175959,
          0.2919963832015098,
          0.25885734650670694,
          0.29202222899147623
         ]
        },
        {
         "boxpoints": "all",
         "jitter": 0.2,
         "line": {
          "color": "#636EFA"
         },
         "marker": {
          "color": "#636EFA",
          "line": {
           "color": "black",
           "width": 1
          },
          "opacity": 0.7,
          "symbol": "circle"
         },
         "name": "Initial tumour volume in cm^3",
         "pointpos": -1.5,
         "type": "box",
         "visible": false,
         "y": [
          0.06622301360779499,
          0.12332979981414774,
          0.1233297913452012,
          0.12332980418744882,
          0.12332985580398802,
          0.12332978669846698,
          0.123329801512053,
          0.06622617753031404,
          0.12332984537060951,
          0.06622620132417027
         ]
        },
        {
         "boxpoints": "all",
         "jitter": 0.2,
         "line": {
          "color": "#EF553B"
         },
         "marker": {
          "color": "#EF553B",
          "line": {
           "color": "black",
           "width": 1
          },
          "opacity": 0.7,
          "symbol": "circle"
         },
         "name": "Exponential growth rate in 1/day",
         "pointpos": -1.5,
         "type": "box",
         "visible": false,
         "y": [
          373.252867228468,
          0.043521168857191525,
          0.04352116938307952,
          0.04352116628312118,
          0.04352115004126973,
          0.043521173268197745,
          0.04352116909809949,
          448.0140340889502,
          0.04352115378798511,
          448.0138495248442
         ]
        },
        {
         "boxpoints": "all",
         "jitter": 0.2,
         "line": {
          "color": "#00CC96"
         },
         "marker": {
          "color": "#00CC96",
          "line": {
           "color": "black",
           "width": 1
          },
          "opacity": 0.7,
          "symbol": "circle"
         },
         "name": "Linear growth rate in cm^3/day",
         "pointpos": -1.5,
         "type": "box",
         "visible": false,
         "y": [
          0.021298730228700657,
          0.07139562095914193,
          0.07139561708212044,
          0.07139561921328484,
          0.07139562152181503,
          0.07139562078436493,
          0.07139562231712704,
          0.02129779944105336,
          0.07139562180304476,
          0.02129779585459765
         ]
        },
        {
         "boxpoints": "all",
         "jitter": 0.2,
         "line": {
          "color": "#AB63FA"
         },
         "marker": {
          "color": "#AB63FA",
          "line": {
           "color": "black",
           "width": 1
          },
          "opacity": 0.7,
          "symbol": "circle"
         },
         "name": "Score",
         "pointpos": -1.5,
         "type": "box",
         "visible": false,
         "y": [
          0.018941496052006915,
          0.0029160191458222477,
          0.002916019145811035,
          0.002916019145825538,
          0.002916019145885549,
          0.0029160191458383316,
          0.0029160191457789733,
          0.018940825435112888,
          0.002916019145821876,
          0.018940825435286458
         ]
        },
        {
         "boxpoints": "all",
         "jitter": 0.2,
         "line": {
          "color": "#636EFA"
         },
         "marker": {
          "color": "#636EFA",
          "line": {
           "color": "black",
           "width": 1
          },
          "opacity": 0.7,
          "symbol": "circle"
         },
         "name": "Initial tumour volume in cm^3",
         "pointpos": -1.5,
         "type": "box",
         "visible": false,
         "y": [
          0.08704782481258239,
          0.08710915089067617,
          0.0870010275022933,
          0.08704782634713223,
          0.026939317573903398,
          0.08704783801889292,
          0.08704781933730829,
          0.08706569637472811,
          0.08704781512506088,
          0.026960684910487538
         ]
        },
        {
         "boxpoints": "all",
         "jitter": 0.2,
         "line": {
          "color": "#EF553B"
         },
         "marker": {
          "color": "#EF553B",
          "line": {
           "color": "black",
           "width": 1
          },
          "opacity": 0.7,
          "symbol": "circle"
         },
         "name": "Exponential growth rate in 1/day",
         "pointpos": -1.5,
         "type": "box",
         "visible": false,
         "y": [
          0.03617215822027036,
          0.03611834297791657,
          0.036187063988646406,
          0.03617215646704943,
          830.5888680938094,
          0.036172153232822656,
          0.03617215680784908,
          0.036166987013989904,
          0.036172158661343864,
          382.67922296156934
         ]
        },
        {
         "boxpoints": "all",
         "jitter": 0.2,
         "line": {
          "color": "#00CC96"
         },
         "marker": {
          "color": "#00CC96",
          "line": {
           "color": "black",
           "width": 1
          },
          "opacity": 0.7,
          "symbol": "circle"
         },
         "name": "Linear growth rate in cm^3/day",
         "pointpos": -1.5,
         "type": "box",
         "visible": false,
         "y": [
          0.1932584173550777,
          0.19534756557600882,
          0.1930180642958238,
          0.19325841083597722,
          0.017329879357892757,
          0.19325841891711248,
          0.19325839790671806,
          0.19324078319067903,
          0.19325839855045815,
          0.017330211013457657
         ]
        },
        {
         "boxpoints": "all",
         "jitter": 0.2,
         "line": {
          "color": "#AB63FA"
         },
         "marker": {
          "color": "#AB63FA",
          "line": {
           "color": "black",
           "width": 1
          },
          "opacity": 0.7,
          "symbol": "circle"
         },
         "name": "Score",
         "pointpos": -1.5,
         "type": "box",
         "visible": false,
         "y": [
          0.002315593340792064,
          0.0023157352352742664,
          0.0023156306817095815,
          0.0023155933407829968,
          0.02287048849422143,
          0.0023155933407852294,
          0.002315593340783704,
          0.002315601038564744,
          0.002315593340781322,
          0.022865785631044255
         ]
        }
       ],
       "layout": {
        "autosize": true,
        "legend": {
         "x": 1.05,
         "xanchor": "left",
         "y": 0.01,
         "yanchor": "bottom"
        },
        "template": {
         "data": {
          "bar": [
           {
            "error_x": {
             "color": "#2a3f5f"
            },
            "error_y": {
             "color": "#2a3f5f"
            },
            "marker": {
             "line": {
              "color": "white",
              "width": 0.5
             }
            },
            "type": "bar"
           }
          ],
          "barpolar": [
           {
            "marker": {
             "line": {
              "color": "white",
              "width": 0.5
             }
            },
            "type": "barpolar"
           }
          ],
          "carpet": [
           {
            "aaxis": {
             "endlinecolor": "#2a3f5f",
             "gridcolor": "#C8D4E3",
             "linecolor": "#C8D4E3",
             "minorgridcolor": "#C8D4E3",
             "startlinecolor": "#2a3f5f"
            },
            "baxis": {
             "endlinecolor": "#2a3f5f",
             "gridcolor": "#C8D4E3",
             "linecolor": "#C8D4E3",
             "minorgridcolor": "#C8D4E3",
             "startlinecolor": "#2a3f5f"
            },
            "type": "carpet"
           }
          ],
          "choropleth": [
           {
            "colorbar": {
             "outlinewidth": 0,
             "ticks": ""
            },
            "type": "choropleth"
           }
          ],
          "contour": [
           {
            "colorbar": {
             "outlinewidth": 0,
             "ticks": ""
            },
            "colorscale": [
             [
              0,
              "#0d0887"
             ],
             [
              0.1111111111111111,
              "#46039f"
             ],
             [
              0.2222222222222222,
              "#7201a8"
             ],
             [
              0.3333333333333333,
              "#9c179e"
             ],
             [
              0.4444444444444444,
              "#bd3786"
             ],
             [
              0.5555555555555556,
              "#d8576b"
             ],
             [
              0.6666666666666666,
              "#ed7953"
             ],
             [
              0.7777777777777778,
              "#fb9f3a"
             ],
             [
              0.8888888888888888,
              "#fdca26"
             ],
             [
              1,
              "#f0f921"
             ]
            ],
            "type": "contour"
           }
          ],
          "contourcarpet": [
           {
            "colorbar": {
             "outlinewidth": 0,
             "ticks": ""
            },
            "type": "contourcarpet"
           }
          ],
          "heatmap": [
           {
            "colorbar": {
             "outlinewidth": 0,
             "ticks": ""
            },
            "colorscale": [
             [
              0,
              "#0d0887"
             ],
             [
              0.1111111111111111,
              "#46039f"
             ],
             [
              0.2222222222222222,
              "#7201a8"
             ],
             [
              0.3333333333333333,
              "#9c179e"
             ],
             [
              0.4444444444444444,
              "#bd3786"
             ],
             [
              0.5555555555555556,
              "#d8576b"
             ],
             [
              0.6666666666666666,
              "#ed7953"
             ],
             [
              0.7777777777777778,
              "#fb9f3a"
             ],
             [
              0.8888888888888888,
              "#fdca26"
             ],
             [
              1,
              "#f0f921"
             ]
            ],
            "type": "heatmap"
           }
          ],
          "heatmapgl": [
           {
            "colorbar": {
             "outlinewidth": 0,
             "ticks": ""
            },
            "colorscale": [
             [
              0,
              "#0d0887"
             ],
             [
              0.1111111111111111,
              "#46039f"
             ],
             [
              0.2222222222222222,
              "#7201a8"
             ],
             [
              0.3333333333333333,
              "#9c179e"
             ],
             [
              0.4444444444444444,
              "#bd3786"
             ],
             [
              0.5555555555555556,
              "#d8576b"
             ],
             [
              0.6666666666666666,
              "#ed7953"
             ],
             [
              0.7777777777777778,
              "#fb9f3a"
             ],
             [
              0.8888888888888888,
              "#fdca26"
             ],
             [
              1,
              "#f0f921"
             ]
            ],
            "type": "heatmapgl"
           }
          ],
          "histogram": [
           {
            "marker": {
             "colorbar": {
              "outlinewidth": 0,
              "ticks": ""
             }
            },
            "type": "histogram"
           }
          ],
          "histogram2d": [
           {
            "colorbar": {
             "outlinewidth": 0,
             "ticks": ""
            },
            "colorscale": [
             [
              0,
              "#0d0887"
             ],
             [
              0.1111111111111111,
              "#46039f"
             ],
             [
              0.2222222222222222,
              "#7201a8"
             ],
             [
              0.3333333333333333,
              "#9c179e"
             ],
             [
              0.4444444444444444,
              "#bd3786"
             ],
             [
              0.5555555555555556,
              "#d8576b"
             ],
             [
              0.6666666666666666,
              "#ed7953"
             ],
             [
              0.7777777777777778,
              "#fb9f3a"
             ],
             [
              0.8888888888888888,
              "#fdca26"
             ],
             [
              1,
              "#f0f921"
             ]
            ],
            "type": "histogram2d"
           }
          ],
          "histogram2dcontour": [
           {
            "colorbar": {
             "outlinewidth": 0,
             "ticks": ""
            },
            "colorscale": [
             [
              0,
              "#0d0887"
             ],
             [
              0.1111111111111111,
              "#46039f"
             ],
             [
              0.2222222222222222,
              "#7201a8"
             ],
             [
              0.3333333333333333,
              "#9c179e"
             ],
             [
              0.4444444444444444,
              "#bd3786"
             ],
             [
              0.5555555555555556,
              "#d8576b"
             ],
             [
              0.6666666666666666,
              "#ed7953"
             ],
             [
              0.7777777777777778,
              "#fb9f3a"
             ],
             [
              0.8888888888888888,
              "#fdca26"
             ],
             [
              1,
              "#f0f921"
             ]
            ],
            "type": "histogram2dcontour"
           }
          ],
          "mesh3d": [
           {
            "colorbar": {
             "outlinewidth": 0,
             "ticks": ""
            },
            "type": "mesh3d"
           }
          ],
          "parcoords": [
           {
            "line": {
             "colorbar": {
              "outlinewidth": 0,
              "ticks": ""
             }
            },
            "type": "parcoords"
           }
          ],
          "pie": [
           {
            "automargin": true,
            "type": "pie"
           }
          ],
          "scatter": [
           {
            "marker": {
             "colorbar": {
              "outlinewidth": 0,
              "ticks": ""
             }
            },
            "type": "scatter"
           }
          ],
          "scatter3d": [
           {
            "line": {
             "colorbar": {
              "outlinewidth": 0,
              "ticks": ""
             }
            },
            "marker": {
             "colorbar": {
              "outlinewidth": 0,
              "ticks": ""
             }
            },
            "type": "scatter3d"
           }
          ],
          "scattercarpet": [
           {
            "marker": {
             "colorbar": {
              "outlinewidth": 0,
              "ticks": ""
             }
            },
            "type": "scattercarpet"
           }
          ],
          "scattergeo": [
           {
            "marker": {
             "colorbar": {
              "outlinewidth": 0,
              "ticks": ""
             }
            },
            "type": "scattergeo"
           }
          ],
          "scattergl": [
           {
            "marker": {
             "colorbar": {
              "outlinewidth": 0,
              "ticks": ""
             }
            },
            "type": "scattergl"
           }
          ],
          "scattermapbox": [
           {
            "marker": {
             "colorbar": {
              "outlinewidth": 0,
              "ticks": ""
             }
            },
            "type": "scattermapbox"
           }
          ],
          "scatterpolar": [
           {
            "marker": {
             "colorbar": {
              "outlinewidth": 0,
              "ticks": ""
             }
            },
            "type": "scatterpolar"
           }
          ],
          "scatterpolargl": [
           {
            "marker": {
             "colorbar": {
              "outlinewidth": 0,
              "ticks": ""
             }
            },
            "type": "scatterpolargl"
           }
          ],
          "scatterternary": [
           {
            "marker": {
             "colorbar": {
              "outlinewidth": 0,
              "ticks": ""
             }
            },
            "type": "scatterternary"
           }
          ],
          "surface": [
           {
            "colorbar": {
             "outlinewidth": 0,
             "ticks": ""
            },
            "colorscale": [
             [
              0,
              "#0d0887"
             ],
             [
              0.1111111111111111,
              "#46039f"
             ],
             [
              0.2222222222222222,
              "#7201a8"
             ],
             [
              0.3333333333333333,
              "#9c179e"
             ],
             [
              0.4444444444444444,
              "#bd3786"
             ],
             [
              0.5555555555555556,
              "#d8576b"
             ],
             [
              0.6666666666666666,
              "#ed7953"
             ],
             [
              0.7777777777777778,
              "#fb9f3a"
             ],
             [
              0.8888888888888888,
              "#fdca26"
             ],
             [
              1,
              "#f0f921"
             ]
            ],
            "type": "surface"
           }
          ],
          "table": [
           {
            "cells": {
             "fill": {
              "color": "#EBF0F8"
             },
             "line": {
              "color": "white"
             }
            },
            "header": {
             "fill": {
              "color": "#C8D4E3"
             },
             "line": {
              "color": "white"
             }
            },
            "type": "table"
           }
          ]
         },
         "layout": {
          "annotationdefaults": {
           "arrowcolor": "#2a3f5f",
           "arrowhead": 0,
           "arrowwidth": 1
          },
          "coloraxis": {
           "colorbar": {
            "outlinewidth": 0,
            "ticks": ""
           }
          },
          "colorscale": {
           "diverging": [
            [
             0,
             "#8e0152"
            ],
            [
             0.1,
             "#c51b7d"
            ],
            [
             0.2,
             "#de77ae"
            ],
            [
             0.3,
             "#f1b6da"
            ],
            [
             0.4,
             "#fde0ef"
            ],
            [
             0.5,
             "#f7f7f7"
            ],
            [
             0.6,
             "#e6f5d0"
            ],
            [
             0.7,
             "#b8e186"
            ],
            [
             0.8,
             "#7fbc41"
            ],
            [
             0.9,
             "#4d9221"
            ],
            [
             1,
             "#276419"
            ]
           ],
           "sequential": [
            [
             0,
             "#0d0887"
            ],
            [
             0.1111111111111111,
             "#46039f"
            ],
            [
             0.2222222222222222,
             "#7201a8"
            ],
            [
             0.3333333333333333,
             "#9c179e"
            ],
            [
             0.4444444444444444,
             "#bd3786"
            ],
            [
             0.5555555555555556,
             "#d8576b"
            ],
            [
             0.6666666666666666,
             "#ed7953"
            ],
            [
             0.7777777777777778,
             "#fb9f3a"
            ],
            [
             0.8888888888888888,
             "#fdca26"
            ],
            [
             1,
             "#f0f921"
            ]
           ],
           "sequentialminus": [
            [
             0,
             "#0d0887"
            ],
            [
             0.1111111111111111,
             "#46039f"
            ],
            [
             0.2222222222222222,
             "#7201a8"
            ],
            [
             0.3333333333333333,
             "#9c179e"
            ],
            [
             0.4444444444444444,
             "#bd3786"
            ],
            [
             0.5555555555555556,
             "#d8576b"
            ],
            [
             0.6666666666666666,
             "#ed7953"
            ],
            [
             0.7777777777777778,
             "#fb9f3a"
            ],
            [
             0.8888888888888888,
             "#fdca26"
            ],
            [
             1,
             "#f0f921"
            ]
           ]
          },
          "colorway": [
           "#636efa",
           "#EF553B",
           "#00cc96",
           "#ab63fa",
           "#FFA15A",
           "#19d3f3",
           "#FF6692",
           "#B6E880",
           "#FF97FF",
           "#FECB52"
          ],
          "font": {
           "color": "#2a3f5f"
          },
          "geo": {
           "bgcolor": "white",
           "lakecolor": "white",
           "landcolor": "white",
           "showlakes": true,
           "showland": true,
           "subunitcolor": "#C8D4E3"
          },
          "hoverlabel": {
           "align": "left"
          },
          "hovermode": "closest",
          "mapbox": {
           "style": "light"
          },
          "paper_bgcolor": "white",
          "plot_bgcolor": "white",
          "polar": {
           "angularaxis": {
            "gridcolor": "#EBF0F8",
            "linecolor": "#EBF0F8",
            "ticks": ""
           },
           "bgcolor": "white",
           "radialaxis": {
            "gridcolor": "#EBF0F8",
            "linecolor": "#EBF0F8",
            "ticks": ""
           }
          },
          "scene": {
           "xaxis": {
            "backgroundcolor": "white",
            "gridcolor": "#DFE8F3",
            "gridwidth": 2,
            "linecolor": "#EBF0F8",
            "showbackground": true,
            "ticks": "",
            "zerolinecolor": "#EBF0F8"
           },
           "yaxis": {
            "backgroundcolor": "white",
            "gridcolor": "#DFE8F3",
            "gridwidth": 2,
            "linecolor": "#EBF0F8",
            "showbackground": true,
            "ticks": "",
            "zerolinecolor": "#EBF0F8"
           },
           "zaxis": {
            "backgroundcolor": "white",
            "gridcolor": "#DFE8F3",
            "gridwidth": 2,
            "linecolor": "#EBF0F8",
            "showbackground": true,
            "ticks": "",
            "zerolinecolor": "#EBF0F8"
           }
          },
          "shapedefaults": {
           "line": {
            "color": "#2a3f5f"
           }
          },
          "ternary": {
           "aaxis": {
            "gridcolor": "#DFE8F3",
            "linecolor": "#A2B1C6",
            "ticks": ""
           },
           "baxis": {
            "gridcolor": "#DFE8F3",
            "linecolor": "#A2B1C6",
            "ticks": ""
           },
           "bgcolor": "white",
           "caxis": {
            "gridcolor": "#DFE8F3",
            "linecolor": "#A2B1C6",
            "ticks": ""
           }
          },
          "title": {
           "x": 0.05
          },
          "xaxis": {
           "automargin": true,
           "gridcolor": "#EBF0F8",
           "linecolor": "#EBF0F8",
           "ticks": "",
           "title": {
            "standoff": 15
           },
           "zerolinecolor": "#EBF0F8",
           "zerolinewidth": 2
          },
          "yaxis": {
           "automargin": true,
           "gridcolor": "#EBF0F8",
           "linecolor": "#EBF0F8",
           "ticks": "",
           "title": {
            "standoff": 15
           },
           "zerolinecolor": "#EBF0F8",
           "zerolinewidth": 2
          }
         }
        },
        "updatemenus": [
         {
          "buttons": [
           {
            "args": [
             {
              "visible": [
               true,
               true,
               true,
               true,
               false,
               false,
               false,
               false,
               false,
               false,
               false,
               false,
               false,
               false,
               false,
               false,
               false,
               false,
               false,
               false,
               false,
               false,
               false,
               false,
               false,
               false,
               false,
               false,
               false,
               false,
               false,
               false
              ]
             }
            ],
            "label": "ID: 40",
            "method": "restyle"
           },
           {
            "args": [
             {
              "visible": [
               false,
               false,
               false,
               false,
               true,
               true,
               true,
               true,
               false,
               false,
               false,
               false,
               false,
               false,
               false,
               false,
               false,
               false,
               false,
               false,
               false,
               false,
               false,
               false,
               false,
               false,
               false,
               false,
               false,
               false,
               false,
               false
              ]
             }
            ],
            "label": "ID: 94",
            "method": "restyle"
           },
           {
            "args": [
             {
              "visible": [
               false,
               false,
               false,
               false,
               false,
               false,
               false,
               false,
               true,
               true,
               true,
               true,
               false,
               false,
               false,
               false,
               false,
               false,
               false,
               false,
               false,
               false,
               false,
               false,
               false,
               false,
               false,
               false,
               false,
               false,
               false,
               false
              ]
             }
            ],
            "label": "ID: 95",
            "method": "restyle"
           },
           {
            "args": [
             {
              "visible": [
               false,
               false,
               false,
               false,
               false,
               false,
               false,
               false,
               false,
               false,
               false,
               false,
               true,
               true,
               true,
               true,
               false,
               false,
               false,
               false,
               false,
               false,
               false,
               false,
               false,
               false,
               false,
               false,
               false,
               false,
               false,
               false
              ]
             }
            ],
            "label": "ID: 136",
            "method": "restyle"
           },
           {
            "args": [
             {
              "visible": [
               false,
               false,
               false,
               false,
               false,
               false,
               false,
               false,
               false,
               false,
               false,
               false,
               false,
               false,
               false,
               false,
               true,
               true,
               true,
               true,
               false,
               false,
               false,
               false,
               false,
               false,
               false,
               false,
               false,
               false,
               false,
               false
              ]
             }
            ],
            "label": "ID: 140",
            "method": "restyle"
           },
           {
            "args": [
             {
              "visible": [
               false,
               false,
               false,
               false,
               false,
               false,
               false,
               false,
               false,
               false,
               false,
               false,
               false,
               false,
               false,
               false,
               false,
               false,
               false,
               false,
               true,
               true,
               true,
               true,
               false,
               false,
               false,
               false,
               false,
               false,
               false,
               false
              ]
             }
            ],
            "label": "ID: 155",
            "method": "restyle"
           },
           {
            "args": [
             {
              "visible": [
               false,
               false,
               false,
               false,
               false,
               false,
               false,
               false,
               false,
               false,
               false,
               false,
               false,
               false,
               false,
               false,
               false,
               false,
               false,
               false,
               false,
               false,
               false,
               false,
               true,
               true,
               true,
               true,
               false,
               false,
               false,
               false
              ]
             }
            ],
            "label": "ID: 169",
            "method": "restyle"
           },
           {
            "args": [
             {
              "visible": [
               false,
               false,
               false,
               false,
               false,
               false,
               false,
               false,
               false,
               false,
               false,
               false,
               false,
               false,
               false,
               false,
               false,
               false,
               false,
               false,
               false,
               false,
               false,
               false,
               false,
               false,
               false,
               false,
               true,
               true,
               true,
               true
              ]
             }
            ],
            "label": "ID: 170",
            "method": "restyle"
           }
          ],
          "direction": "right",
          "pad": {
           "r": 0,
           "t": -10
          },
          "showactive": true,
          "type": "buttons",
          "x": 0,
          "xanchor": "left",
          "y": 1.1,
          "yanchor": "top"
         }
        ],
        "yaxis": {
         "title": {
          "text": "Estimates"
         }
        }
       }
      }
     },
     "metadata": {}
    }
   ],
   "source": [
    "#\n",
    "# Visualisation of the spread of optimised model parameters for multiple runs from different initial points.\n",
    "#\n",
    "# This cell needs the above optimised model parameters and their respective objective function scores, as well as the data\n",
    "# [mouse_parameters_constrained, mouse_parameters_constrained, data]\n",
    "#\n",
    "\n",
    "import plotly.colors\n",
    "import plotly.graph_objects as go\n",
    "\n",
    "\n",
    "# Get mouse ids\n",
    "mouse_ids = data['#ID'].unique()\n",
    "\n",
    "# Get number of parameters + score (for visualisation)\n",
    "n_params = mouse_parameters_constrained.shape[2] + 1\n",
    "\n",
    "# Define colorscheme\n",
    "colors = plotly.colors.qualitative.Plotly[:n_params]\n",
    "\n",
    "# Get optimised parameter sets\n",
    "optimised_parameters =  mouse_parameters_constrained\n",
    "\n",
    "# Get scores for parameters\n",
    "scores = mouse_scores_constrained\n",
    "\n",
    "# Create figure\n",
    "fig = go.Figure()\n",
    "\n",
    "# Box plot of optimised model parameters\n",
    "for index, id_m in enumerate(mouse_ids):\n",
    "    # Get optimised parameters\n",
    "    parameters = optimised_parameters[index, ...]\n",
    "\n",
    "    # Get scores\n",
    "    score = scores[index, :]\n",
    "\n",
    "    # Create box plot of for initial tumour volume\n",
    "    fig.add_trace(\n",
    "        go.Box(\n",
    "            y=parameters[:, 0],  \n",
    "            name=\"Initial tumour volume in cm^3\",\n",
    "            boxpoints='all',\n",
    "            jitter=0.2,\n",
    "            pointpos=-1.5,\n",
    "            visible=True if index == 0 else False,\n",
    "            marker=dict(\n",
    "                symbol='circle',\n",
    "                opacity=0.7,\n",
    "                line=dict(color='black', width=1)),\n",
    "            marker_color=colors[0],\n",
    "            line_color=colors[0]))\n",
    "\n",
    "    # Create box plot of for exponential tumour growth\n",
    "    fig.add_trace(\n",
    "        go.Box(\n",
    "            y=parameters[:, 1],  \n",
    "            name=\"Exponential growth rate in 1/day\",\n",
    "            boxpoints='all',\n",
    "            jitter=0.2,\n",
    "            pointpos=-1.5,\n",
    "            visible=True if index == 0 else False,\n",
    "            marker=dict(\n",
    "                symbol='circle',\n",
    "                opacity=0.7,\n",
    "                line=dict(color='black', width=1)),\n",
    "            marker_color=colors[1],\n",
    "            line_color=colors[1]))\n",
    "\n",
    "    # Create box plot of for linear tumour growth\n",
    "    fig.add_trace(\n",
    "        go.Box(\n",
    "            y=parameters[:, 2],  \n",
    "            name=\"Linear growth rate in cm^3/day\",\n",
    "            boxpoints='all',\n",
    "            jitter=0.2,\n",
    "            pointpos=-1.5,\n",
    "            visible=True if index == 0 else False,\n",
    "            marker=dict(\n",
    "                symbol='circle',\n",
    "                opacity=0.7,\n",
    "                line=dict(color='black', width=1)),\n",
    "            marker_color=colors[2],\n",
    "            line_color=colors[2]))\n",
    "    \n",
    "    # Create box plot of for objective function score\n",
    "    fig.add_trace(\n",
    "        go.Box(\n",
    "            y=score,  \n",
    "            name=\"Score\",\n",
    "            boxpoints='all',\n",
    "            jitter=0.2,\n",
    "            pointpos=-1.5,\n",
    "            visible=True if index == 0 else False,\n",
    "            marker=dict(\n",
    "                symbol='circle',\n",
    "                opacity=0.7,\n",
    "                line=dict(color='black', width=1)),\n",
    "            marker_color=colors[3],\n",
    "            line_color=colors[3]))\n",
    "\n",
    "# Set figure size\n",
    "fig.update_layout(\n",
    "    autosize=True,\n",
    "    template=\"plotly_white\",\n",
    "    yaxis_title=\"Estimates\")\n",
    "\n",
    "# Add switch between mice\n",
    "fig.update_layout(\n",
    "    updatemenus=[\n",
    "        dict(\n",
    "            type = \"buttons\",\n",
    "            direction = \"right\",\n",
    "            buttons=list([\n",
    "                dict(\n",
    "                    args=[{\"visible\": [True]*4 + [False]*(4 * 7)}],\n",
    "                    label=\"ID: %d\" % mouse_ids[0],\n",
    "                    method=\"restyle\"\n",
    "                ),\n",
    "                dict(\n",
    "                    args=[{\"visible\": [False]*4 + [True]*4 + [False]*(4 * 6)}],\n",
    "                    label=\"ID: %d\" % mouse_ids[1],\n",
    "                    method=\"restyle\"\n",
    "                ),\n",
    "                dict(\n",
    "                    args=[{\"visible\": [False]*(4 * 2) + [True]*4 + [False]*(4 * 5)}],\n",
    "                    label=\"ID: %d\" % mouse_ids[2],\n",
    "                    method=\"restyle\"\n",
    "                ),\n",
    "                dict(\n",
    "                    args=[{\"visible\": [False]*(4 * 3) + [True]*4 + [False]*(4 * 4)}],\n",
    "                    label=\"ID: %d\" % mouse_ids[3],\n",
    "                    method=\"restyle\"\n",
    "                ),\n",
    "                dict(\n",
    "                    args=[{\"visible\": [False]*(4 * 4) + [True]*4 + [False]*(4 * 3)}],\n",
    "                    label=\"ID: %d\" % mouse_ids[4],\n",
    "                    method=\"restyle\"\n",
    "                ),\n",
    "                dict(\n",
    "                    args=[{\"visible\": [False]*(4 * 5) + [True]*4 + [False]*(4 * 2)}],\n",
    "                    label=\"ID: %d\" % mouse_ids[5],\n",
    "                    method=\"restyle\"\n",
    "                ),\n",
    "                dict(\n",
    "                    args=[{\"visible\": [False]*(4 * 6) + [True]*4 + [False]* 4}],\n",
    "                    label=\"ID: %d\" % mouse_ids[6],\n",
    "                    method=\"restyle\"\n",
    "                ),\n",
    "                dict(\n",
    "                    args=[{\"visible\": [False]*(4 * 7) + [True]*4}],\n",
    "                    label=\"ID: %d\" % mouse_ids[7],\n",
    "                    method=\"restyle\"\n",
    "                )\n",
    "            ]),\n",
    "            pad={\"r\": 0, \"t\": -10},\n",
    "            showactive=True,\n",
    "            x=0.0,\n",
    "            xanchor=\"left\",\n",
    "            y=1.1,\n",
    "            yanchor=\"top\"\n",
    "        )\n",
    "    ]\n",
    ")\n",
    "\n",
    "# Position legend\n",
    "fig.update_layout(legend=dict(\n",
    "    yanchor=\"bottom\",\n",
    "    y=0.01,\n",
    "    xanchor=\"left\",\n",
    "    x=1.05))\n",
    "\n",
    "# Show figure\n",
    "fig.show()\n"
   ]
  },
  {
   "cell_type": "markdown",
   "metadata": {},
   "source": [
    "**Figure 4 - Constrained search space:** Scatter and box plot of the structural model parameter estimates $\\hat \\psi $ (initial tumour volume $V_0$, exponential growth rate $\\lambda _0$, linear growth rate $\\lambda _1$) found by minimising the squared distance between the predictions and the observations using a CMA-ES optimiser. For each individual the optimisation routine was run 10 times from a uniformly sampled starting point in $[10^{-3}, 10^3]$. The search space was constrained to values within a biologically realistic range of $[10^{-3}, 10^3]$ for all parameters. In addition to the optimised parameters, also the distribution of the associated objective function scores is presented."
   ]
  },
  {
   "cell_type": "markdown",
   "metadata": {},
   "source": [
    "Constraining the search space for the optimisation leads to a significantly improved stability of the optimisation. However, for some mice the spread of the optimised model parameters still extends over the entire allowed parameter range."
   ]
  },
  {
   "cell_type": "markdown",
   "metadata": {},
   "source": [
    "## Non-dimensionalisation of the model\n",
    "\n",
    "The reason why constraining the parameter space is not sufficient to remove the instabilities of the optimisation is that the structural model introduces apparent practical non-identifiabilities for vastly different growth parameters, $2\\lambda _0\\ll \\lambda _1$ or $2\\lambda _0\\gg \\lambda _1$. This becomes most obvious in the limit where the parameter ratio $V_{\\text{crit}} = \\lambda _1 / 2\\lambda _0$ goes to infinity or zero, e.g.\n",
    "\n",
    "\\begin{equation*}\n",
    "    \\lim _{V_{\\text{crit}}\\rightarrow 0} \\frac{\\text{d}V^s_T}{\\text{d}t} = \\lambda _1.\n",
    "\\end{equation*}\n",
    "\n",
    "In this limit the exponentially growth rate $\\lambda _0$ becomes non-identifiable. But already for finitely small critical volumes $V_{\\text{crit}}\\ll V^s_T$ the differences in \n",
    "\n",
    "for any small is tehroeticallyb identifiable but not with nbumerical methods.\n",
    "\n",
    "One of the simplest strategies to avoid a structural non-identifiability of a model is to transform the model parameters $\\psi $ from a biologically meaningful set of parameters $(V_0, \\lambda _0, \\lambda _1)$ to a set of dimensionless model parameters. This can be done by introducing characteristic scales of the problem, such as a characteristic tumour volume $V^c_T$ and a characteristic time $t^c$. If we express the structural predictions of the tumour volume in units of the characteristic tumour volume $v = V^s_T / V^c_T$ and the time in units of the characteristic time $\\tau = t / t^c $, we can rewrite the structural model in a nondimensional form\n",
    "\n",
    "\\begin{equation*}\n",
    "   \\frac{\\text{d}v}{\\text{d}\\tau} = \\frac{a_1 v}{v + a_0},\n",
    "\\end{equation*}\n",
    "\n",
    "where $a_0 = \\lambda _1 / 2 \\lambda _0 V^c_T$ and $a_1 = \\lambda _1 t^c / V^c_T$. In other words, we used the characteristic volume and time scales to express the model parameters in units of them\n",
    "\n",
    "\\begin{equation*}\n",
    "   (V_0, \\lambda _0, \\lambda _1) = \\left( v_0\\, V^c_T, \\frac{a_1}{2a_0}\\frac{1}{t^c}, a_1 \\frac{V^c_T}{t^c} \\right) .\n",
    "\\end{equation*}\n",
    "\n",
    "Here, $(v_0, a_0, a_1)$ take the role of the model parameters. Arguably for this biological process a characteristic volume scale is $1\\, \\text{cm}^3$ and a characteristic time scale is $1\\, \\text{day}$.\n"
   ]
  },
  {
   "cell_type": "code",
   "execution_count": 1,
   "metadata": {
    "tags": []
   },
   "outputs": [
    {
     "output_type": "display_data",
     "data": {
      "text/plain": "HBox(children=(FloatProgress(value=0.0, max=8.0), HTML(value='')))",
      "application/vnd.jupyter.widget-view+json": {
       "version_major": 2,
       "version_minor": 0,
       "model_id": "8430c0d156724e299b4e404a3012a8bc"
      }
     },
     "metadata": {}
    },
    {
     "output_type": "stream",
     "name": "stdout",
     "text": "\n"
    }
   ],
   "source": [
    "#\n",
    "# Run optimisation multiple times from random initial starting points. \n",
    "#\n",
    "# Characteristic scale were chosen to be: V^c_T = 1 cm^3, t^c = 1 day.\n",
    "#\n",
    "\n",
    "import os\n",
    "\n",
    "import myokit\n",
    "import numpy as np\n",
    "import pandas as pd\n",
    "import pints\n",
    "from tqdm.notebook import tqdm \n",
    "\n",
    "import pkpd\n",
    "\n",
    "\n",
    "# Define characteristic scales\n",
    "characteristic_volume = 1  # in cm^3\n",
    "characteristic_time = 1  # in day\n",
    "\n",
    "# Define number of optimisation runs for each individual\n",
    "n_runs = 10\n",
    "\n",
    "# Import data\n",
    "# Get path of current working directory\n",
    "path = os.getcwd()\n",
    "\n",
    "# Import LXF A677 control growth data\n",
    "data = pd.read_csv(path + '/data/lxf_control_growth.csv')\n",
    "\n",
    "# Define model\n",
    "path = pkpd.ModelLibrary().get_path('Tumour growth without treatment - dimensionless')\n",
    "model = pkpd.PharmacodynamicModel(path, is_log_transformed=False)\n",
    "\n",
    "# Define container for the structural model estimates\n",
    "# Shape (n_mice, n_runs, n_parameters)\n",
    "n_mice = len(data['#ID'].unique())\n",
    "n_parameters = 3\n",
    "mouse_parameters_multi_runs_dimless = np.empty(shape=(n_mice, n_runs, n_parameters))\n",
    "\n",
    "# Define container for the objective function score for the optimised parameters\n",
    "mouse_scores_multi_runs_dimless = np.empty(shape=(n_mice, n_runs))\n",
    "\n",
    "# Define random starting points over many orders of magnitude\n",
    "# Shape = (n_runs, n_parameters)\n",
    "initial_parameters = np.random.uniform(low=1E-3, high=1E3, size=(n_runs, n_parameters))\n",
    "\n",
    "# Find mouse parameters for LXF A677 population\n",
    "mouse_ids = data['#ID'].unique()\n",
    "for index, mouse_id in enumerate(tqdm(mouse_ids)):\n",
    "    # Create mask for mouse with specfied ID\n",
    "    mouse_mask = data['#ID'] == mouse_id\n",
    "\n",
    "    # Get relevant time points\n",
    "    times = data[mouse_mask]['TIME in day'].to_numpy() / characteristic_time\n",
    "\n",
    "    # Get measured tumour volumes\n",
    "    observed_volumes = data[mouse_mask]['TUMOUR VOLUME in cm^3'].to_numpy() / characteristic_volume\n",
    "\n",
    "    # Create inverse problem\n",
    "    problem = pints.SingleOutputProblem(model, times, observed_volumes)\n",
    "\n",
    "    # Create sum of squares error objective function\n",
    "    error = pints.SumOfSquaresError(problem)\n",
    "\n",
    "    # Create boundaries to biologically relevant values\n",
    "    boundary = pints.RectangularBoundaries(lower=[1E-3]*3, upper=[1E3]*3)\n",
    "\n",
    "    # Run optimisation multiple times\n",
    "    for run_id, initial_params in enumerate(initial_parameters):\n",
    "        # Create optimisation controller with a CMA-ES optimiser\n",
    "        optimiser = pints.OptimisationController(\n",
    "            function=error,\n",
    "            x0=initial_params,\n",
    "            boundaries=boundary,\n",
    "            method=pints.CMAES)\n",
    "\n",
    "        # Disable logging mode\n",
    "        optimiser.set_log_to_screen(False)\n",
    "\n",
    "        # Parallelise optimisation\n",
    "        optimiser.set_parallel(True)\n",
    "\n",
    "        # Find optimal parameters\n",
    "        try:\n",
    "            estimates, score = optimiser.run()\n",
    "        except:\n",
    "            # If inference breaks fill estimates with nan\n",
    "            estimates = np.array([np.nan, np.nan, np.nan])\n",
    "            score = np.nan\n",
    "\n",
    "        # Save estimates and score\n",
    "        mouse_parameters_multi_runs_dimless[index, run_id, :] = estimates\n",
    "        mouse_scores_multi_runs_dimless[index, run_id] = score"
   ]
  },
  {
   "cell_type": "code",
   "execution_count": 14,
   "metadata": {},
   "outputs": [],
   "source": [
    "#\n",
    "# Transform dimensionless parameters back to biological parameters.\n",
    "# \n",
    "# This cell needs the above inferred dimensionless parameters and the characteristic volume and time scale:\n",
    "# [mouse_parameters_multi_runs_dimless, characteristic_volume, characteristic_time]\n",
    "#\n",
    "\n",
    "import numpy as np\n",
    "\n",
    "\n",
    "# Initialise container for backtransformed paramters\n",
    "# Shape (n_mice, n_runs, n_parameters)\n",
    "mouse_parameters_dimless_optimisation = np.empty(shape=mouse_parameters_multi_runs_dimless.shape)\n",
    "\n",
    "# Transform initial volumes\n",
    "mouse_parameters_dimless_optimisation[:, :, 0] = mouse_parameters_multi_runs_dimless[:, :, 0] * characteristic_volume\n",
    "\n",
    "# Transform exponential growth rate\n",
    "# lambda_0 = a_1 / a_0 /t^c\n",
    "mouse_parameters_dimless_optimisation[:, :, 1] = \\\n",
    "    mouse_parameters_multi_runs_dimless[:, :, 2] / 2 / mouse_parameters_multi_runs_dimless[:, :, 1] / characteristic_time\n",
    "\n",
    "# Transform linear growth rate\n",
    "# lambda_1 = a_1 / a_0 /t^c\n",
    "mouse_parameters_dimless_optimisation[:, :, 2] = \\\n",
    "    mouse_parameters_multi_runs_dimless[:, :, 2] * characteristic_volume / characteristic_time\n"
   ]
  },
  {
   "cell_type": "code",
   "execution_count": 15,
   "metadata": {},
   "outputs": [
    {
     "data": {
      "application/vnd.plotly.v1+json": {
       "config": {
        "plotlyServerURL": "https://plot.ly"
       },
       "data": [
        {
         "boxpoints": "all",
         "jitter": 0.2,
         "line": {
          "color": "#636EFA"
         },
         "marker": {
          "color": "#636EFA",
          "line": {
           "color": "black",
           "width": 1
          },
          "opacity": 0.7,
          "symbol": "circle"
         },
         "name": "Initial tumour volume in cm^3",
         "pointpos": -1.5,
         "type": "box",
         "visible": true,
         "y": [
          0.13983691058087655,
          0.14015754884141476,
          0.1394725245237712,
          0.1388164898991585,
          0.1390377777957604,
          0.13918212509848926,
          0.13922859475889127,
          0.13917637134351923,
          0.13967240458636998,
          0.13947435614153247
         ]
        },
        {
         "boxpoints": "all",
         "jitter": 0.2,
         "line": {
          "color": "#EF553B"
         },
         "marker": {
          "color": "#EF553B",
          "line": {
           "color": "black",
           "width": 1
          },
          "opacity": 0.7,
          "symbol": "circle"
         },
         "name": "Exponential growth rate in 1/day",
         "pointpos": -1.5,
         "type": "box",
         "visible": true,
         "y": [
          0.27452410842490593,
          0.27389557886380156,
          0.2750995016257509,
          0.276288550671363,
          0.27587865235576464,
          0.2756361742875112,
          0.27556338588343543,
          0.2756432198594623,
          0.27475033813612687,
          0.27505983447742766
         ]
        },
        {
         "boxpoints": "all",
         "jitter": 0.2,
         "line": {
          "color": "#00CC96"
         },
         "marker": {
          "color": "#00CC96",
          "line": {
           "color": "black",
           "width": 1
          },
          "opacity": 0.7,
          "symbol": "circle"
         },
         "name": "Linear growth rate in cm^3/day",
         "pointpos": -1.5,
         "type": "box",
         "visible": true,
         "y": [
          0.13103308934784155,
          0.13102573000642237,
          0.13096711093207777,
          0.13092951129533037,
          0.13094594226208667,
          0.13095485187150538,
          0.13095340824757634,
          0.1309473954911482,
          0.13101424930888228,
          0.13097759910310083
         ]
        },
        {
         "boxpoints": "all",
         "jitter": 0.2,
         "line": {
          "color": "#AB63FA"
         },
         "marker": {
          "color": "#AB63FA",
          "line": {
           "color": "black",
           "width": 1
          },
          "opacity": 0.7,
          "symbol": "circle"
         },
         "name": "Score",
         "pointpos": -1.5,
         "type": "box",
         "visible": true,
         "y": [
          0.03186144771489304,
          0.031862434237245336,
          0.03186065867019787,
          0.03186108141570591,
          0.03186069491291434,
          0.03186039965252897,
          0.031860279087979365,
          0.03186043077206227,
          0.031861008223522724,
          0.031860913750047966
         ]
        },
        {
         "boxpoints": "all",
         "jitter": 0.2,
         "line": {
          "color": "#636EFA"
         },
         "marker": {
          "color": "#636EFA",
          "line": {
           "color": "black",
           "width": 1
          },
          "opacity": 0.7,
          "symbol": "circle"
         },
         "name": "Initial tumour volume in cm^3",
         "pointpos": -1.5,
         "type": "box",
         "visible": false,
         "y": [
          0.07443700819734811,
          0.0747993046393276,
          0.07454900741267391,
          0.07479926159685715,
          0.07443724566014183,
          0.0747992920988379,
          0.07455452541195923,
          0.07443674285696034,
          0.07455457816364242,
          0.07455531604715648
         ]
        },
        {
         "boxpoints": "all",
         "jitter": 0.2,
         "line": {
          "color": "#EF553B"
         },
         "marker": {
          "color": "#EF553B",
          "line": {
           "color": "black",
           "width": 1
          },
          "opacity": 0.7,
          "symbol": "circle"
         },
         "name": "Exponential growth rate in 1/day",
         "pointpos": -1.5,
         "type": "box",
         "visible": false,
         "y": [
          0.16939987239138615,
          0.1650351155856661,
          0.16798433520612574,
          0.16503522474364993,
          0.1693992550800286,
          0.1650351527411923,
          0.16791178048394653,
          0.1694004684748515,
          0.16791157501369836,
          0.16791005716476828
         ]
        },
        {
         "boxpoints": "all",
         "jitter": 0.2,
         "line": {
          "color": "#00CC96"
         },
         "marker": {
          "color": "#00CC96",
          "line": {
           "color": "black",
           "width": 1
          },
          "opacity": 0.7,
          "symbol": "circle"
         },
         "name": "Linear growth rate in cm^3/day",
         "pointpos": -1.5,
         "type": "box",
         "visible": false,
         "y": [
          0.020274551828819137,
          0.020388811634985973,
          0.020311920172158857,
          0.020388813967676504,
          0.020274539243620056,
          0.020388812976914642,
          0.02031390117346603,
          0.020274554650037625,
          0.020313889824075934,
          0.020313894954604485
         ]
        },
        {
         "boxpoints": "all",
         "jitter": 0.2,
         "line": {
          "color": "#AB63FA"
         },
         "marker": {
          "color": "#AB63FA",
          "line": {
           "color": "black",
           "width": 1
          },
          "opacity": 0.7,
          "symbol": "circle"
         },
         "name": "Score",
         "pointpos": -1.5,
         "type": "box",
         "visible": false,
         "y": [
          0.007448563913010367,
          0.007450327517825339,
          0.0074482325210271485,
          0.007450327517832801,
          0.007448563913799115,
          0.007450327517830959,
          0.007448217820531365,
          0.00744856391320898,
          0.007448217819888208,
          0.007448217824482109
         ]
        },
        {
         "boxpoints": "all",
         "jitter": 0.2,
         "line": {
          "color": "#636EFA"
         },
         "marker": {
          "color": "#636EFA",
          "line": {
           "color": "black",
           "width": 1
          },
          "opacity": 0.7,
          "symbol": "circle"
         },
         "name": "Initial tumour volume in cm^3",
         "pointpos": -1.5,
         "type": "box",
         "visible": false,
         "y": [
          0.22090437055478077,
          0.2209043742745247,
          0.2209043888316885,
          0.2209043733723241,
          0.22090438724167916,
          0.22090437785583356,
          0.2209043668232518,
          0.2199939279018276,
          0.22090438142937652,
          0.2209043945322107
         ]
        },
        {
         "boxpoints": "all",
         "jitter": 0.2,
         "line": {
          "color": "#EF553B"
         },
         "marker": {
          "color": "#EF553B",
          "line": {
           "color": "black",
           "width": 1
          },
          "opacity": 0.7,
          "symbol": "circle"
         },
         "name": "Exponential growth rate in 1/day",
         "pointpos": -1.5,
         "type": "box",
         "visible": false,
         "y": [
          0.05559246566272553,
          0.055592465368020275,
          0.0555924639934578,
          0.05559246613658181,
          0.05559246391321989,
          0.05559246499796467,
          0.05559246635083724,
          0.055986957906612775,
          0.05559246468001668,
          0.05559246312026577
         ]
        },
        {
         "boxpoints": "all",
         "jitter": 0.2,
         "line": {
          "color": "#00CC96"
         },
         "marker": {
          "color": "#00CC96",
          "line": {
           "color": "black",
           "width": 1
          },
          "opacity": 0.7,
          "symbol": "circle"
         },
         "name": "Linear growth rate in cm^3/day",
         "pointpos": -1.5,
         "type": "box",
         "visible": false,
         "y": [
          111.18493132537807,
          111.18493073601385,
          111.18492798466457,
          111.18493227294871,
          111.18492782487435,
          111.18492999583106,
          111.18493270024524,
          14.698934229640304,
          111.18492935941926,
          111.18492624026938
         ]
        },
        {
         "boxpoints": "all",
         "jitter": 0.2,
         "line": {
          "color": "#AB63FA"
         },
         "marker": {
          "color": "#AB63FA",
          "line": {
           "color": "black",
           "width": 1
          },
          "opacity": 0.7,
          "symbol": "circle"
         },
         "name": "Score",
         "pointpos": -1.5,
         "type": "box",
         "visible": false,
         "y": [
          0.09948736196066102,
          0.09948736196065573,
          0.09948736196067207,
          0.09948736196066145,
          0.09948736196066756,
          0.09948736196065519,
          0.09948736196065543,
          0.10074219556121158,
          0.0994873619606703,
          0.09948736196066742
         ]
        },
        {
         "boxpoints": "all",
         "jitter": 0.2,
         "line": {
          "color": "#636EFA"
         },
         "marker": {
          "color": "#636EFA",
          "line": {
           "color": "black",
           "width": 1
          },
          "opacity": 0.7,
          "symbol": "circle"
         },
         "name": "Initial tumour volume in cm^3",
         "pointpos": -1.5,
         "type": "box",
         "visible": false,
         "y": [
          0.14817307433906277,
          0.14910847552664674,
          0.14949524522304014,
          0.14951449173292714,
          0.14898951644184963,
          0.14898848177440993,
          0.14825429785131983,
          0.1481500923292267,
          0.14903306248077064,
          0.14798391155628188
         ]
        },
        {
         "boxpoints": "all",
         "jitter": 0.2,
         "line": {
          "color": "#EF553B"
         },
         "marker": {
          "color": "#EF553B",
          "line": {
           "color": "black",
           "width": 1
          },
          "opacity": 0.7,
          "symbol": "circle"
         },
         "name": "Exponential growth rate in 1/day",
         "pointpos": -1.5,
         "type": "box",
         "visible": false,
         "y": [
          0.05479034938682762,
          0.05423354046197787,
          0.053802348258033865,
          0.053788192239946096,
          0.05426522682445665,
          0.05427216442508999,
          0.054795868716698275,
          0.054820146194777736,
          0.05425114278771652,
          0.05487233453326596
         ]
        },
        {
         "boxpoints": "all",
         "jitter": 0.2,
         "line": {
          "color": "#00CC96"
         },
         "marker": {
          "color": "#00CC96",
          "line": {
           "color": "black",
           "width": 1
          },
          "opacity": 0.7,
          "symbol": "circle"
         },
         "name": "Linear growth rate in cm^3/day",
         "pointpos": -1.5,
         "type": "box",
         "visible": false,
         "y": [
          0.1266341650068026,
          0.12883854178034088,
          0.13093383176288287,
          0.13101507555940656,
          0.12876357859047413,
          0.12877859896495897,
          0.12674003581937368,
          0.12672384255223818,
          0.1288153664946843,
          0.1266620222182615
         ]
        },
        {
         "boxpoints": "all",
         "jitter": 0.2,
         "line": {
          "color": "#AB63FA"
         },
         "marker": {
          "color": "#AB63FA",
          "line": {
           "color": "black",
           "width": 1
          },
          "opacity": 0.7,
          "symbol": "circle"
         },
         "name": "Score",
         "pointpos": -1.5,
         "type": "box",
         "visible": false,
         "y": [
          0.04018248001842445,
          0.0401853911414587,
          0.04018662031403205,
          0.040187284111060304,
          0.0401846699543266,
          0.04018478526830572,
          0.040181614056923234,
          0.04018152456568455,
          0.040185101031404734,
          0.040182738477266944
         ]
        },
        {
         "boxpoints": "all",
         "jitter": 0.2,
         "line": {
          "color": "#636EFA"
         },
         "marker": {
          "color": "#636EFA",
          "line": {
           "color": "black",
           "width": 1
          },
          "opacity": 0.7,
          "symbol": "circle"
         },
         "name": "Initial tumour volume in cm^3",
         "pointpos": -1.5,
         "type": "box",
         "visible": false,
         "y": [
          0.08417665377586886,
          0.08417665842522426,
          0.08417665655716862,
          0.0841766843672077,
          0.08417664364158134,
          0.0841766417426378,
          0.08417664819186745,
          0.08417666210465335,
          0.08417665094078043,
          0.08417667136252971
         ]
        },
        {
         "boxpoints": "all",
         "jitter": 0.2,
         "line": {
          "color": "#EF553B"
         },
         "marker": {
          "color": "#EF553B",
          "line": {
           "color": "black",
           "width": 1
          },
          "opacity": 0.7,
          "symbol": "circle"
         },
         "name": "Exponential growth rate in 1/day",
         "pointpos": -1.5,
         "type": "box",
         "visible": false,
         "y": [
          0.05418267951825342,
          0.05418267994512732,
          0.05418268117131145,
          0.05418267388459923,
          0.054182683711216206,
          0.05418268368521888,
          0.05418268160116868,
          0.05418267899229616,
          0.05418268256490853,
          0.05418267719642435
         ]
        },
        {
         "boxpoints": "all",
         "jitter": 0.2,
         "line": {
          "color": "#00CC96"
         },
         "marker": {
          "color": "#00CC96",
          "line": {
           "color": "black",
           "width": 1
          },
          "opacity": 0.7,
          "symbol": "circle"
         },
         "name": "Linear growth rate in cm^3/day",
         "pointpos": -1.5,
         "type": "box",
         "visible": false,
         "y": [
          108.36535902849779,
          108.36535988860678,
          108.36536233795773,
          108.36534776460513,
          108.36536742061492,
          108.36536736775085,
          108.36536320184038,
          108.3653579709923,
          108.36536512974679,
          108.36535439078665
         ]
        },
        {
         "boxpoints": "all",
         "jitter": 0.2,
         "line": {
          "color": "#AB63FA"
         },
         "marker": {
          "color": "#AB63FA",
          "line": {
           "color": "black",
           "width": 1
          },
          "opacity": 0.7,
          "symbol": "circle"
         },
         "name": "Score",
         "pointpos": -1.5,
         "type": "box",
         "visible": false,
         "y": [
          0.14604315833668813,
          0.14604315833659276,
          0.14604315833659148,
          0.14604315833684467,
          0.14604315833669734,
          0.14604315833663833,
          0.1460431583366585,
          0.14604315833660203,
          0.14604315833665968,
          0.14604315833658094
         ]
        },
        {
         "boxpoints": "all",
         "jitter": 0.2,
         "line": {
          "color": "#636EFA"
         },
         "marker": {
          "color": "#636EFA",
          "line": {
           "color": "black",
           "width": 1
          },
          "opacity": 0.7,
          "symbol": "circle"
         },
         "name": "Initial tumour volume in cm^3",
         "pointpos": -1.5,
         "type": "box",
         "visible": false,
         "y": [
          0.13327412456160814,
          0.13327396902166078,
          0.1332740065780671,
          0.13327424293370002,
          0.13327408062144644,
          0.13327418908224464,
          0.13327391725686943,
          0.1332740151374483,
          0.1332739692141441,
          0.13289506464074935
         ]
        },
        {
         "boxpoints": "all",
         "jitter": 0.2,
         "line": {
          "color": "#EF553B"
         },
         "marker": {
          "color": "#EF553B",
          "line": {
           "color": "black",
           "width": 1
          },
          "opacity": 0.7,
          "symbol": "circle"
         },
         "name": "Exponential growth rate in 1/day",
         "pointpos": -1.5,
         "type": "box",
         "visible": false,
         "y": [
          0.1973595816395984,
          0.1973598042029497,
          0.19735974947457308,
          0.19735943128787262,
          0.19735965885447865,
          0.1973594873996384,
          0.1973598713998418,
          0.19735972171200328,
          0.1973598109763084,
          0.19900641136678318
         ]
        },
        {
         "boxpoints": "all",
         "jitter": 0.2,
         "line": {
          "color": "#00CC96"
         },
         "marker": {
          "color": "#00CC96",
          "line": {
           "color": "black",
           "width": 1
          },
          "opacity": 0.7,
          "symbol": "circle"
         },
         "name": "Linear growth rate in cm^3/day",
         "pointpos": -1.5,
         "type": "box",
         "visible": false,
         "y": [
          0.10853691246125094,
          0.10853690887211839,
          0.10853690917296518,
          0.1085369254826164,
          0.10853691925992745,
          0.10853691274505639,
          0.10853690395520721,
          0.10853690090331958,
          0.10853691273809096,
          0.10827363602946688
         ]
        },
        {
         "boxpoints": "all",
         "jitter": 0.2,
         "line": {
          "color": "#AB63FA"
         },
         "marker": {
          "color": "#AB63FA",
          "line": {
           "color": "black",
           "width": 1
          },
          "opacity": 0.7,
          "symbol": "circle"
         },
         "name": "Score",
         "pointpos": -1.5,
         "type": "box",
         "visible": false,
         "y": [
          0.2588573465076962,
          0.25885734650762954,
          0.2588573465077549,
          0.2588573465075943,
          0.2588573465075406,
          0.2588573465075647,
          0.25885734650732667,
          0.2588573465082111,
          0.2588573465074746,
          0.25885804033572385
         ]
        },
        {
         "boxpoints": "all",
         "jitter": 0.2,
         "line": {
          "color": "#636EFA"
         },
         "marker": {
          "color": "#636EFA",
          "line": {
           "color": "black",
           "width": 1
          },
          "opacity": 0.7,
          "symbol": "circle"
         },
         "name": "Initial tumour volume in cm^3",
         "pointpos": -1.5,
         "type": "box",
         "visible": false,
         "y": [
          0.12380947926933264,
          0.12375204233207937,
          0.1238095080497146,
          0.12380947097114209,
          0.12380949238345118,
          0.1238094862469088,
          0.12380952454911864,
          0.12380946627850715,
          0.12380943582898597,
          0.12332978765316374
         ]
        },
        {
         "boxpoints": "all",
         "jitter": 0.2,
         "line": {
          "color": "#EF553B"
         },
         "marker": {
          "color": "#EF553B",
          "line": {
           "color": "black",
           "width": 1
          },
          "opacity": 0.7,
          "symbol": "circle"
         },
         "name": "Exponential growth rate in 1/day",
         "pointpos": -1.5,
         "type": "box",
         "visible": false,
         "y": [
          0.043031621093488855,
          0.04299490278781422,
          0.04303160860494105,
          0.04303162047956739,
          0.04303161172740619,
          0.04303161462777581,
          0.04303160580215425,
          0.043031617558250454,
          0.04303163205571626,
          0.043521167323288076
         ]
        },
        {
         "boxpoints": "all",
         "jitter": 0.2,
         "line": {
          "color": "#00CC96"
         },
         "marker": {
          "color": "#00CC96",
          "line": {
           "color": "black",
           "width": 1
          },
          "opacity": 0.7,
          "symbol": "circle"
         },
         "name": "Linear growth rate in cm^3/day",
         "pointpos": -1.5,
         "type": "box",
         "visible": false,
         "y": [
          0.07299522691912569,
          0.07320569287508802,
          0.07299522177633516,
          0.07299522083346997,
          0.07299521845635581,
          0.07299521963863254,
          0.07299522628859026,
          0.07299521316872609,
          0.07299522066869328,
          0.07139561157939484
         ]
        },
        {
         "boxpoints": "all",
         "jitter": 0.2,
         "line": {
          "color": "#AB63FA"
         },
         "marker": {
          "color": "#AB63FA",
          "line": {
           "color": "black",
           "width": 1
          },
          "opacity": 0.7,
          "symbol": "circle"
         },
         "name": "Score",
         "pointpos": -1.5,
         "type": "box",
         "visible": false,
         "y": [
          0.0029152929592707304,
          0.0029155749484043774,
          0.0029152929591844345,
          0.0029152929592007105,
          0.00291529295922699,
          0.0029152929592145436,
          0.002915292959205436,
          0.0029152929591476687,
          0.0029152929592472046,
          0.002916019145911036
         ]
        },
        {
         "boxpoints": "all",
         "jitter": 0.2,
         "line": {
          "color": "#636EFA"
         },
         "marker": {
          "color": "#636EFA",
          "line": {
           "color": "black",
           "width": 1
          },
          "opacity": 0.7,
          "symbol": "circle"
         },
         "name": "Initial tumour volume in cm^3",
         "pointpos": -1.5,
         "type": "box",
         "visible": false,
         "y": [
          0.08709062689256979,
          0.08704782142485207,
          0.08704783005898484,
          0.08704782626171646,
          0.0870478205289823,
          0.08706150105252378,
          0.08718952470460972,
          0.0871283724996868,
          0.08703632115649704,
          0.08704782662584762
         ]
        },
        {
         "boxpoints": "all",
         "jitter": 0.2,
         "line": {
          "color": "#EF553B"
         },
         "marker": {
          "color": "#EF553B",
          "line": {
           "color": "black",
           "width": 1
          },
          "opacity": 0.7,
          "symbol": "circle"
         },
         "name": "Exponential growth rate in 1/day",
         "pointpos": -1.5,
         "type": "box",
         "visible": false,
         "y": [
          0.036162119275219395,
          0.036172157326260425,
          0.03617215451433301,
          0.036172156241540375,
          0.03617215758071389,
          0.03616768209047334,
          0.03604580599476792,
          0.03614872693642981,
          0.03617844295231843,
          0.036172154791365055
         ]
        },
        {
         "boxpoints": "all",
         "jitter": 0.2,
         "line": {
          "color": "#00CC96"
         },
         "marker": {
          "color": "#00CC96",
          "line": {
           "color": "black",
           "width": 1
          },
          "opacity": 0.7,
          "symbol": "circle"
         },
         "name": "Linear growth rate in cm^3/day",
         "pointpos": -1.5,
         "type": "box",
         "visible": false,
         "y": [
          0.19324366577128144,
          0.19325840518053342,
          0.19325840885068235,
          0.19325840974171274,
          0.19325840452152449,
          0.19325681590184224,
          0.1986498021249713,
          0.1932665359369135,
          0.1931347363732071,
          0.19325840261362687
         ]
        },
        {
         "boxpoints": "all",
         "jitter": 0.2,
         "line": {
          "color": "#AB63FA"
         },
         "marker": {
          "color": "#AB63FA",
          "line": {
           "color": "black",
           "width": 1
          },
          "opacity": 0.7,
          "symbol": "circle"
         },
         "name": "Score",
         "pointpos": -1.5,
         "type": "box",
         "visible": false,
         "y": [
          0.002315620280364251,
          0.0023155933407801696,
          0.002315593340782402,
          0.0023155933407815158,
          0.002315593340780744,
          0.0023155982459682704,
          0.00231575182290097,
          0.002315687467732273,
          0.0023156072069740693,
          0.0023155933407857454
         ]
        }
       ],
       "layout": {
        "autosize": true,
        "legend": {
         "x": 1.05,
         "xanchor": "left",
         "y": 0.01,
         "yanchor": "bottom"
        },
        "template": {
         "data": {
          "bar": [
           {
            "error_x": {
             "color": "#2a3f5f"
            },
            "error_y": {
             "color": "#2a3f5f"
            },
            "marker": {
             "line": {
              "color": "white",
              "width": 0.5
             }
            },
            "type": "bar"
           }
          ],
          "barpolar": [
           {
            "marker": {
             "line": {
              "color": "white",
              "width": 0.5
             }
            },
            "type": "barpolar"
           }
          ],
          "carpet": [
           {
            "aaxis": {
             "endlinecolor": "#2a3f5f",
             "gridcolor": "#C8D4E3",
             "linecolor": "#C8D4E3",
             "minorgridcolor": "#C8D4E3",
             "startlinecolor": "#2a3f5f"
            },
            "baxis": {
             "endlinecolor": "#2a3f5f",
             "gridcolor": "#C8D4E3",
             "linecolor": "#C8D4E3",
             "minorgridcolor": "#C8D4E3",
             "startlinecolor": "#2a3f5f"
            },
            "type": "carpet"
           }
          ],
          "choropleth": [
           {
            "colorbar": {
             "outlinewidth": 0,
             "ticks": ""
            },
            "type": "choropleth"
           }
          ],
          "contour": [
           {
            "colorbar": {
             "outlinewidth": 0,
             "ticks": ""
            },
            "colorscale": [
             [
              0,
              "#0d0887"
             ],
             [
              0.1111111111111111,
              "#46039f"
             ],
             [
              0.2222222222222222,
              "#7201a8"
             ],
             [
              0.3333333333333333,
              "#9c179e"
             ],
             [
              0.4444444444444444,
              "#bd3786"
             ],
             [
              0.5555555555555556,
              "#d8576b"
             ],
             [
              0.6666666666666666,
              "#ed7953"
             ],
             [
              0.7777777777777778,
              "#fb9f3a"
             ],
             [
              0.8888888888888888,
              "#fdca26"
             ],
             [
              1,
              "#f0f921"
             ]
            ],
            "type": "contour"
           }
          ],
          "contourcarpet": [
           {
            "colorbar": {
             "outlinewidth": 0,
             "ticks": ""
            },
            "type": "contourcarpet"
           }
          ],
          "heatmap": [
           {
            "colorbar": {
             "outlinewidth": 0,
             "ticks": ""
            },
            "colorscale": [
             [
              0,
              "#0d0887"
             ],
             [
              0.1111111111111111,
              "#46039f"
             ],
             [
              0.2222222222222222,
              "#7201a8"
             ],
             [
              0.3333333333333333,
              "#9c179e"
             ],
             [
              0.4444444444444444,
              "#bd3786"
             ],
             [
              0.5555555555555556,
              "#d8576b"
             ],
             [
              0.6666666666666666,
              "#ed7953"
             ],
             [
              0.7777777777777778,
              "#fb9f3a"
             ],
             [
              0.8888888888888888,
              "#fdca26"
             ],
             [
              1,
              "#f0f921"
             ]
            ],
            "type": "heatmap"
           }
          ],
          "heatmapgl": [
           {
            "colorbar": {
             "outlinewidth": 0,
             "ticks": ""
            },
            "colorscale": [
             [
              0,
              "#0d0887"
             ],
             [
              0.1111111111111111,
              "#46039f"
             ],
             [
              0.2222222222222222,
              "#7201a8"
             ],
             [
              0.3333333333333333,
              "#9c179e"
             ],
             [
              0.4444444444444444,
              "#bd3786"
             ],
             [
              0.5555555555555556,
              "#d8576b"
             ],
             [
              0.6666666666666666,
              "#ed7953"
             ],
             [
              0.7777777777777778,
              "#fb9f3a"
             ],
             [
              0.8888888888888888,
              "#fdca26"
             ],
             [
              1,
              "#f0f921"
             ]
            ],
            "type": "heatmapgl"
           }
          ],
          "histogram": [
           {
            "marker": {
             "colorbar": {
              "outlinewidth": 0,
              "ticks": ""
             }
            },
            "type": "histogram"
           }
          ],
          "histogram2d": [
           {
            "colorbar": {
             "outlinewidth": 0,
             "ticks": ""
            },
            "colorscale": [
             [
              0,
              "#0d0887"
             ],
             [
              0.1111111111111111,
              "#46039f"
             ],
             [
              0.2222222222222222,
              "#7201a8"
             ],
             [
              0.3333333333333333,
              "#9c179e"
             ],
             [
              0.4444444444444444,
              "#bd3786"
             ],
             [
              0.5555555555555556,
              "#d8576b"
             ],
             [
              0.6666666666666666,
              "#ed7953"
             ],
             [
              0.7777777777777778,
              "#fb9f3a"
             ],
             [
              0.8888888888888888,
              "#fdca26"
             ],
             [
              1,
              "#f0f921"
             ]
            ],
            "type": "histogram2d"
           }
          ],
          "histogram2dcontour": [
           {
            "colorbar": {
             "outlinewidth": 0,
             "ticks": ""
            },
            "colorscale": [
             [
              0,
              "#0d0887"
             ],
             [
              0.1111111111111111,
              "#46039f"
             ],
             [
              0.2222222222222222,
              "#7201a8"
             ],
             [
              0.3333333333333333,
              "#9c179e"
             ],
             [
              0.4444444444444444,
              "#bd3786"
             ],
             [
              0.5555555555555556,
              "#d8576b"
             ],
             [
              0.6666666666666666,
              "#ed7953"
             ],
             [
              0.7777777777777778,
              "#fb9f3a"
             ],
             [
              0.8888888888888888,
              "#fdca26"
             ],
             [
              1,
              "#f0f921"
             ]
            ],
            "type": "histogram2dcontour"
           }
          ],
          "mesh3d": [
           {
            "colorbar": {
             "outlinewidth": 0,
             "ticks": ""
            },
            "type": "mesh3d"
           }
          ],
          "parcoords": [
           {
            "line": {
             "colorbar": {
              "outlinewidth": 0,
              "ticks": ""
             }
            },
            "type": "parcoords"
           }
          ],
          "pie": [
           {
            "automargin": true,
            "type": "pie"
           }
          ],
          "scatter": [
           {
            "marker": {
             "colorbar": {
              "outlinewidth": 0,
              "ticks": ""
             }
            },
            "type": "scatter"
           }
          ],
          "scatter3d": [
           {
            "line": {
             "colorbar": {
              "outlinewidth": 0,
              "ticks": ""
             }
            },
            "marker": {
             "colorbar": {
              "outlinewidth": 0,
              "ticks": ""
             }
            },
            "type": "scatter3d"
           }
          ],
          "scattercarpet": [
           {
            "marker": {
             "colorbar": {
              "outlinewidth": 0,
              "ticks": ""
             }
            },
            "type": "scattercarpet"
           }
          ],
          "scattergeo": [
           {
            "marker": {
             "colorbar": {
              "outlinewidth": 0,
              "ticks": ""
             }
            },
            "type": "scattergeo"
           }
          ],
          "scattergl": [
           {
            "marker": {
             "colorbar": {
              "outlinewidth": 0,
              "ticks": ""
             }
            },
            "type": "scattergl"
           }
          ],
          "scattermapbox": [
           {
            "marker": {
             "colorbar": {
              "outlinewidth": 0,
              "ticks": ""
             }
            },
            "type": "scattermapbox"
           }
          ],
          "scatterpolar": [
           {
            "marker": {
             "colorbar": {
              "outlinewidth": 0,
              "ticks": ""
             }
            },
            "type": "scatterpolar"
           }
          ],
          "scatterpolargl": [
           {
            "marker": {
             "colorbar": {
              "outlinewidth": 0,
              "ticks": ""
             }
            },
            "type": "scatterpolargl"
           }
          ],
          "scatterternary": [
           {
            "marker": {
             "colorbar": {
              "outlinewidth": 0,
              "ticks": ""
             }
            },
            "type": "scatterternary"
           }
          ],
          "surface": [
           {
            "colorbar": {
             "outlinewidth": 0,
             "ticks": ""
            },
            "colorscale": [
             [
              0,
              "#0d0887"
             ],
             [
              0.1111111111111111,
              "#46039f"
             ],
             [
              0.2222222222222222,
              "#7201a8"
             ],
             [
              0.3333333333333333,
              "#9c179e"
             ],
             [
              0.4444444444444444,
              "#bd3786"
             ],
             [
              0.5555555555555556,
              "#d8576b"
             ],
             [
              0.6666666666666666,
              "#ed7953"
             ],
             [
              0.7777777777777778,
              "#fb9f3a"
             ],
             [
              0.8888888888888888,
              "#fdca26"
             ],
             [
              1,
              "#f0f921"
             ]
            ],
            "type": "surface"
           }
          ],
          "table": [
           {
            "cells": {
             "fill": {
              "color": "#EBF0F8"
             },
             "line": {
              "color": "white"
             }
            },
            "header": {
             "fill": {
              "color": "#C8D4E3"
             },
             "line": {
              "color": "white"
             }
            },
            "type": "table"
           }
          ]
         },
         "layout": {
          "annotationdefaults": {
           "arrowcolor": "#2a3f5f",
           "arrowhead": 0,
           "arrowwidth": 1
          },
          "coloraxis": {
           "colorbar": {
            "outlinewidth": 0,
            "ticks": ""
           }
          },
          "colorscale": {
           "diverging": [
            [
             0,
             "#8e0152"
            ],
            [
             0.1,
             "#c51b7d"
            ],
            [
             0.2,
             "#de77ae"
            ],
            [
             0.3,
             "#f1b6da"
            ],
            [
             0.4,
             "#fde0ef"
            ],
            [
             0.5,
             "#f7f7f7"
            ],
            [
             0.6,
             "#e6f5d0"
            ],
            [
             0.7,
             "#b8e186"
            ],
            [
             0.8,
             "#7fbc41"
            ],
            [
             0.9,
             "#4d9221"
            ],
            [
             1,
             "#276419"
            ]
           ],
           "sequential": [
            [
             0,
             "#0d0887"
            ],
            [
             0.1111111111111111,
             "#46039f"
            ],
            [
             0.2222222222222222,
             "#7201a8"
            ],
            [
             0.3333333333333333,
             "#9c179e"
            ],
            [
             0.4444444444444444,
             "#bd3786"
            ],
            [
             0.5555555555555556,
             "#d8576b"
            ],
            [
             0.6666666666666666,
             "#ed7953"
            ],
            [
             0.7777777777777778,
             "#fb9f3a"
            ],
            [
             0.8888888888888888,
             "#fdca26"
            ],
            [
             1,
             "#f0f921"
            ]
           ],
           "sequentialminus": [
            [
             0,
             "#0d0887"
            ],
            [
             0.1111111111111111,
             "#46039f"
            ],
            [
             0.2222222222222222,
             "#7201a8"
            ],
            [
             0.3333333333333333,
             "#9c179e"
            ],
            [
             0.4444444444444444,
             "#bd3786"
            ],
            [
             0.5555555555555556,
             "#d8576b"
            ],
            [
             0.6666666666666666,
             "#ed7953"
            ],
            [
             0.7777777777777778,
             "#fb9f3a"
            ],
            [
             0.8888888888888888,
             "#fdca26"
            ],
            [
             1,
             "#f0f921"
            ]
           ]
          },
          "colorway": [
           "#636efa",
           "#EF553B",
           "#00cc96",
           "#ab63fa",
           "#FFA15A",
           "#19d3f3",
           "#FF6692",
           "#B6E880",
           "#FF97FF",
           "#FECB52"
          ],
          "font": {
           "color": "#2a3f5f"
          },
          "geo": {
           "bgcolor": "white",
           "lakecolor": "white",
           "landcolor": "white",
           "showlakes": true,
           "showland": true,
           "subunitcolor": "#C8D4E3"
          },
          "hoverlabel": {
           "align": "left"
          },
          "hovermode": "closest",
          "mapbox": {
           "style": "light"
          },
          "paper_bgcolor": "white",
          "plot_bgcolor": "white",
          "polar": {
           "angularaxis": {
            "gridcolor": "#EBF0F8",
            "linecolor": "#EBF0F8",
            "ticks": ""
           },
           "bgcolor": "white",
           "radialaxis": {
            "gridcolor": "#EBF0F8",
            "linecolor": "#EBF0F8",
            "ticks": ""
           }
          },
          "scene": {
           "xaxis": {
            "backgroundcolor": "white",
            "gridcolor": "#DFE8F3",
            "gridwidth": 2,
            "linecolor": "#EBF0F8",
            "showbackground": true,
            "ticks": "",
            "zerolinecolor": "#EBF0F8"
           },
           "yaxis": {
            "backgroundcolor": "white",
            "gridcolor": "#DFE8F3",
            "gridwidth": 2,
            "linecolor": "#EBF0F8",
            "showbackground": true,
            "ticks": "",
            "zerolinecolor": "#EBF0F8"
           },
           "zaxis": {
            "backgroundcolor": "white",
            "gridcolor": "#DFE8F3",
            "gridwidth": 2,
            "linecolor": "#EBF0F8",
            "showbackground": true,
            "ticks": "",
            "zerolinecolor": "#EBF0F8"
           }
          },
          "shapedefaults": {
           "line": {
            "color": "#2a3f5f"
           }
          },
          "ternary": {
           "aaxis": {
            "gridcolor": "#DFE8F3",
            "linecolor": "#A2B1C6",
            "ticks": ""
           },
           "baxis": {
            "gridcolor": "#DFE8F3",
            "linecolor": "#A2B1C6",
            "ticks": ""
           },
           "bgcolor": "white",
           "caxis": {
            "gridcolor": "#DFE8F3",
            "linecolor": "#A2B1C6",
            "ticks": ""
           }
          },
          "title": {
           "x": 0.05
          },
          "xaxis": {
           "automargin": true,
           "gridcolor": "#EBF0F8",
           "linecolor": "#EBF0F8",
           "ticks": "",
           "title": {
            "standoff": 15
           },
           "zerolinecolor": "#EBF0F8",
           "zerolinewidth": 2
          },
          "yaxis": {
           "automargin": true,
           "gridcolor": "#EBF0F8",
           "linecolor": "#EBF0F8",
           "ticks": "",
           "title": {
            "standoff": 15
           },
           "zerolinecolor": "#EBF0F8",
           "zerolinewidth": 2
          }
         }
        },
        "updatemenus": [
         {
          "buttons": [
           {
            "args": [
             {
              "visible": [
               true,
               true,
               true,
               true,
               false,
               false,
               false,
               false,
               false,
               false,
               false,
               false,
               false,
               false,
               false,
               false,
               false,
               false,
               false,
               false,
               false,
               false,
               false,
               false,
               false,
               false,
               false,
               false,
               false,
               false,
               false,
               false
              ]
             }
            ],
            "label": "ID: 40",
            "method": "restyle"
           },
           {
            "args": [
             {
              "visible": [
               false,
               false,
               false,
               false,
               true,
               true,
               true,
               true,
               false,
               false,
               false,
               false,
               false,
               false,
               false,
               false,
               false,
               false,
               false,
               false,
               false,
               false,
               false,
               false,
               false,
               false,
               false,
               false,
               false,
               false,
               false,
               false
              ]
             }
            ],
            "label": "ID: 94",
            "method": "restyle"
           },
           {
            "args": [
             {
              "visible": [
               false,
               false,
               false,
               false,
               false,
               false,
               false,
               false,
               true,
               true,
               true,
               true,
               false,
               false,
               false,
               false,
               false,
               false,
               false,
               false,
               false,
               false,
               false,
               false,
               false,
               false,
               false,
               false,
               false,
               false,
               false,
               false
              ]
             }
            ],
            "label": "ID: 95",
            "method": "restyle"
           },
           {
            "args": [
             {
              "visible": [
               false,
               false,
               false,
               false,
               false,
               false,
               false,
               false,
               false,
               false,
               false,
               false,
               true,
               true,
               true,
               true,
               false,
               false,
               false,
               false,
               false,
               false,
               false,
               false,
               false,
               false,
               false,
               false,
               false,
               false,
               false,
               false
              ]
             }
            ],
            "label": "ID: 136",
            "method": "restyle"
           },
           {
            "args": [
             {
              "visible": [
               false,
               false,
               false,
               false,
               false,
               false,
               false,
               false,
               false,
               false,
               false,
               false,
               false,
               false,
               false,
               false,
               true,
               true,
               true,
               true,
               false,
               false,
               false,
               false,
               false,
               false,
               false,
               false,
               false,
               false,
               false,
               false
              ]
             }
            ],
            "label": "ID: 140",
            "method": "restyle"
           },
           {
            "args": [
             {
              "visible": [
               false,
               false,
               false,
               false,
               false,
               false,
               false,
               false,
               false,
               false,
               false,
               false,
               false,
               false,
               false,
               false,
               false,
               false,
               false,
               false,
               true,
               true,
               true,
               true,
               false,
               false,
               false,
               false,
               false,
               false,
               false,
               false
              ]
             }
            ],
            "label": "ID: 155",
            "method": "restyle"
           },
           {
            "args": [
             {
              "visible": [
               false,
               false,
               false,
               false,
               false,
               false,
               false,
               false,
               false,
               false,
               false,
               false,
               false,
               false,
               false,
               false,
               false,
               false,
               false,
               false,
               false,
               false,
               false,
               false,
               true,
               true,
               true,
               true,
               false,
               false,
               false,
               false
              ]
             }
            ],
            "label": "ID: 169",
            "method": "restyle"
           },
           {
            "args": [
             {
              "visible": [
               false,
               false,
               false,
               false,
               false,
               false,
               false,
               false,
               false,
               false,
               false,
               false,
               false,
               false,
               false,
               false,
               false,
               false,
               false,
               false,
               false,
               false,
               false,
               false,
               false,
               false,
               false,
               false,
               true,
               true,
               true,
               true
              ]
             }
            ],
            "label": "ID: 170",
            "method": "restyle"
           }
          ],
          "direction": "right",
          "pad": {
           "r": 0,
           "t": -10
          },
          "showactive": true,
          "type": "buttons",
          "x": 0,
          "xanchor": "left",
          "y": 1.1,
          "yanchor": "top"
         }
        ]
       }
      },
      "text/html": [
       "<div>\n",
       "        \n",
       "        \n",
       "            <div id=\"f5dabaa2-c51e-4279-a2fc-41a73981de84\" class=\"plotly-graph-div\" style=\"height:525px; width:100%;\"></div>\n",
       "            <script type=\"text/javascript\">\n",
       "                require([\"plotly\"], function(Plotly) {\n",
       "                    window.PLOTLYENV=window.PLOTLYENV || {};\n",
       "                    \n",
       "                if (document.getElementById(\"f5dabaa2-c51e-4279-a2fc-41a73981de84\")) {\n",
       "                    Plotly.newPlot(\n",
       "                        'f5dabaa2-c51e-4279-a2fc-41a73981de84',\n",
       "                        [{\"boxpoints\": \"all\", \"jitter\": 0.2, \"line\": {\"color\": \"#636EFA\"}, \"marker\": {\"color\": \"#636EFA\", \"line\": {\"color\": \"black\", \"width\": 1}, \"opacity\": 0.7, \"symbol\": \"circle\"}, \"name\": \"Initial tumour volume in cm^3\", \"pointpos\": -1.5, \"type\": \"box\", \"visible\": true, \"y\": [0.13983691058087655, 0.14015754884141476, 0.1394725245237712, 0.1388164898991585, 0.1390377777957604, 0.13918212509848926, 0.13922859475889127, 0.13917637134351923, 0.13967240458636998, 0.13947435614153247]}, {\"boxpoints\": \"all\", \"jitter\": 0.2, \"line\": {\"color\": \"#EF553B\"}, \"marker\": {\"color\": \"#EF553B\", \"line\": {\"color\": \"black\", \"width\": 1}, \"opacity\": 0.7, \"symbol\": \"circle\"}, \"name\": \"Exponential growth rate in 1/day\", \"pointpos\": -1.5, \"type\": \"box\", \"visible\": true, \"y\": [0.27452410842490593, 0.27389557886380156, 0.2750995016257509, 0.276288550671363, 0.27587865235576464, 0.2756361742875112, 0.27556338588343543, 0.2756432198594623, 0.27475033813612687, 0.27505983447742766]}, {\"boxpoints\": \"all\", \"jitter\": 0.2, \"line\": {\"color\": \"#00CC96\"}, \"marker\": {\"color\": \"#00CC96\", \"line\": {\"color\": \"black\", \"width\": 1}, \"opacity\": 0.7, \"symbol\": \"circle\"}, \"name\": \"Linear growth rate in cm^3/day\", \"pointpos\": -1.5, \"type\": \"box\", \"visible\": true, \"y\": [0.13103308934784155, 0.13102573000642237, 0.13096711093207777, 0.13092951129533037, 0.13094594226208667, 0.13095485187150538, 0.13095340824757634, 0.1309473954911482, 0.13101424930888228, 0.13097759910310083]}, {\"boxpoints\": \"all\", \"jitter\": 0.2, \"line\": {\"color\": \"#AB63FA\"}, \"marker\": {\"color\": \"#AB63FA\", \"line\": {\"color\": \"black\", \"width\": 1}, \"opacity\": 0.7, \"symbol\": \"circle\"}, \"name\": \"Score\", \"pointpos\": -1.5, \"type\": \"box\", \"visible\": true, \"y\": [0.03186144771489304, 0.031862434237245336, 0.03186065867019787, 0.03186108141570591, 0.03186069491291434, 0.03186039965252897, 0.031860279087979365, 0.03186043077206227, 0.031861008223522724, 0.031860913750047966]}, {\"boxpoints\": \"all\", \"jitter\": 0.2, \"line\": {\"color\": \"#636EFA\"}, \"marker\": {\"color\": \"#636EFA\", \"line\": {\"color\": \"black\", \"width\": 1}, \"opacity\": 0.7, \"symbol\": \"circle\"}, \"name\": \"Initial tumour volume in cm^3\", \"pointpos\": -1.5, \"type\": \"box\", \"visible\": false, \"y\": [0.07443700819734811, 0.0747993046393276, 0.07454900741267391, 0.07479926159685715, 0.07443724566014183, 0.0747992920988379, 0.07455452541195923, 0.07443674285696034, 0.07455457816364242, 0.07455531604715648]}, {\"boxpoints\": \"all\", \"jitter\": 0.2, \"line\": {\"color\": \"#EF553B\"}, \"marker\": {\"color\": \"#EF553B\", \"line\": {\"color\": \"black\", \"width\": 1}, \"opacity\": 0.7, \"symbol\": \"circle\"}, \"name\": \"Exponential growth rate in 1/day\", \"pointpos\": -1.5, \"type\": \"box\", \"visible\": false, \"y\": [0.16939987239138615, 0.1650351155856661, 0.16798433520612574, 0.16503522474364993, 0.1693992550800286, 0.1650351527411923, 0.16791178048394653, 0.1694004684748515, 0.16791157501369836, 0.16791005716476828]}, {\"boxpoints\": \"all\", \"jitter\": 0.2, \"line\": {\"color\": \"#00CC96\"}, \"marker\": {\"color\": \"#00CC96\", \"line\": {\"color\": \"black\", \"width\": 1}, \"opacity\": 0.7, \"symbol\": \"circle\"}, \"name\": \"Linear growth rate in cm^3/day\", \"pointpos\": -1.5, \"type\": \"box\", \"visible\": false, \"y\": [0.020274551828819137, 0.020388811634985973, 0.020311920172158857, 0.020388813967676504, 0.020274539243620056, 0.020388812976914642, 0.02031390117346603, 0.020274554650037625, 0.020313889824075934, 0.020313894954604485]}, {\"boxpoints\": \"all\", \"jitter\": 0.2, \"line\": {\"color\": \"#AB63FA\"}, \"marker\": {\"color\": \"#AB63FA\", \"line\": {\"color\": \"black\", \"width\": 1}, \"opacity\": 0.7, \"symbol\": \"circle\"}, \"name\": \"Score\", \"pointpos\": -1.5, \"type\": \"box\", \"visible\": false, \"y\": [0.007448563913010367, 0.007450327517825339, 0.0074482325210271485, 0.007450327517832801, 0.007448563913799115, 0.007450327517830959, 0.007448217820531365, 0.00744856391320898, 0.007448217819888208, 0.007448217824482109]}, {\"boxpoints\": \"all\", \"jitter\": 0.2, \"line\": {\"color\": \"#636EFA\"}, \"marker\": {\"color\": \"#636EFA\", \"line\": {\"color\": \"black\", \"width\": 1}, \"opacity\": 0.7, \"symbol\": \"circle\"}, \"name\": \"Initial tumour volume in cm^3\", \"pointpos\": -1.5, \"type\": \"box\", \"visible\": false, \"y\": [0.22090437055478077, 0.2209043742745247, 0.2209043888316885, 0.2209043733723241, 0.22090438724167916, 0.22090437785583356, 0.2209043668232518, 0.2199939279018276, 0.22090438142937652, 0.2209043945322107]}, {\"boxpoints\": \"all\", \"jitter\": 0.2, \"line\": {\"color\": \"#EF553B\"}, \"marker\": {\"color\": \"#EF553B\", \"line\": {\"color\": \"black\", \"width\": 1}, \"opacity\": 0.7, \"symbol\": \"circle\"}, \"name\": \"Exponential growth rate in 1/day\", \"pointpos\": -1.5, \"type\": \"box\", \"visible\": false, \"y\": [0.05559246566272553, 0.055592465368020275, 0.0555924639934578, 0.05559246613658181, 0.05559246391321989, 0.05559246499796467, 0.05559246635083724, 0.055986957906612775, 0.05559246468001668, 0.05559246312026577]}, {\"boxpoints\": \"all\", \"jitter\": 0.2, \"line\": {\"color\": \"#00CC96\"}, \"marker\": {\"color\": \"#00CC96\", \"line\": {\"color\": \"black\", \"width\": 1}, \"opacity\": 0.7, \"symbol\": \"circle\"}, \"name\": \"Linear growth rate in cm^3/day\", \"pointpos\": -1.5, \"type\": \"box\", \"visible\": false, \"y\": [111.18493132537807, 111.18493073601385, 111.18492798466457, 111.18493227294871, 111.18492782487435, 111.18492999583106, 111.18493270024524, 14.698934229640304, 111.18492935941926, 111.18492624026938]}, {\"boxpoints\": \"all\", \"jitter\": 0.2, \"line\": {\"color\": \"#AB63FA\"}, \"marker\": {\"color\": \"#AB63FA\", \"line\": {\"color\": \"black\", \"width\": 1}, \"opacity\": 0.7, \"symbol\": \"circle\"}, \"name\": \"Score\", \"pointpos\": -1.5, \"type\": \"box\", \"visible\": false, \"y\": [0.09948736196066102, 0.09948736196065573, 0.09948736196067207, 0.09948736196066145, 0.09948736196066756, 0.09948736196065519, 0.09948736196065543, 0.10074219556121158, 0.0994873619606703, 0.09948736196066742]}, {\"boxpoints\": \"all\", \"jitter\": 0.2, \"line\": {\"color\": \"#636EFA\"}, \"marker\": {\"color\": \"#636EFA\", \"line\": {\"color\": \"black\", \"width\": 1}, \"opacity\": 0.7, \"symbol\": \"circle\"}, \"name\": \"Initial tumour volume in cm^3\", \"pointpos\": -1.5, \"type\": \"box\", \"visible\": false, \"y\": [0.14817307433906277, 0.14910847552664674, 0.14949524522304014, 0.14951449173292714, 0.14898951644184963, 0.14898848177440993, 0.14825429785131983, 0.1481500923292267, 0.14903306248077064, 0.14798391155628188]}, {\"boxpoints\": \"all\", \"jitter\": 0.2, \"line\": {\"color\": \"#EF553B\"}, \"marker\": {\"color\": \"#EF553B\", \"line\": {\"color\": \"black\", \"width\": 1}, \"opacity\": 0.7, \"symbol\": \"circle\"}, \"name\": \"Exponential growth rate in 1/day\", \"pointpos\": -1.5, \"type\": \"box\", \"visible\": false, \"y\": [0.05479034938682762, 0.05423354046197787, 0.053802348258033865, 0.053788192239946096, 0.05426522682445665, 0.05427216442508999, 0.054795868716698275, 0.054820146194777736, 0.05425114278771652, 0.05487233453326596]}, {\"boxpoints\": \"all\", \"jitter\": 0.2, \"line\": {\"color\": \"#00CC96\"}, \"marker\": {\"color\": \"#00CC96\", \"line\": {\"color\": \"black\", \"width\": 1}, \"opacity\": 0.7, \"symbol\": \"circle\"}, \"name\": \"Linear growth rate in cm^3/day\", \"pointpos\": -1.5, \"type\": \"box\", \"visible\": false, \"y\": [0.1266341650068026, 0.12883854178034088, 0.13093383176288287, 0.13101507555940656, 0.12876357859047413, 0.12877859896495897, 0.12674003581937368, 0.12672384255223818, 0.1288153664946843, 0.1266620222182615]}, {\"boxpoints\": \"all\", \"jitter\": 0.2, \"line\": {\"color\": \"#AB63FA\"}, \"marker\": {\"color\": \"#AB63FA\", \"line\": {\"color\": \"black\", \"width\": 1}, \"opacity\": 0.7, \"symbol\": \"circle\"}, \"name\": \"Score\", \"pointpos\": -1.5, \"type\": \"box\", \"visible\": false, \"y\": [0.04018248001842445, 0.0401853911414587, 0.04018662031403205, 0.040187284111060304, 0.0401846699543266, 0.04018478526830572, 0.040181614056923234, 0.04018152456568455, 0.040185101031404734, 0.040182738477266944]}, {\"boxpoints\": \"all\", \"jitter\": 0.2, \"line\": {\"color\": \"#636EFA\"}, \"marker\": {\"color\": \"#636EFA\", \"line\": {\"color\": \"black\", \"width\": 1}, \"opacity\": 0.7, \"symbol\": \"circle\"}, \"name\": \"Initial tumour volume in cm^3\", \"pointpos\": -1.5, \"type\": \"box\", \"visible\": false, \"y\": [0.08417665377586886, 0.08417665842522426, 0.08417665655716862, 0.0841766843672077, 0.08417664364158134, 0.0841766417426378, 0.08417664819186745, 0.08417666210465335, 0.08417665094078043, 0.08417667136252971]}, {\"boxpoints\": \"all\", \"jitter\": 0.2, \"line\": {\"color\": \"#EF553B\"}, \"marker\": {\"color\": \"#EF553B\", \"line\": {\"color\": \"black\", \"width\": 1}, \"opacity\": 0.7, \"symbol\": \"circle\"}, \"name\": \"Exponential growth rate in 1/day\", \"pointpos\": -1.5, \"type\": \"box\", \"visible\": false, \"y\": [0.05418267951825342, 0.05418267994512732, 0.05418268117131145, 0.05418267388459923, 0.054182683711216206, 0.05418268368521888, 0.05418268160116868, 0.05418267899229616, 0.05418268256490853, 0.05418267719642435]}, {\"boxpoints\": \"all\", \"jitter\": 0.2, \"line\": {\"color\": \"#00CC96\"}, \"marker\": {\"color\": \"#00CC96\", \"line\": {\"color\": \"black\", \"width\": 1}, \"opacity\": 0.7, \"symbol\": \"circle\"}, \"name\": \"Linear growth rate in cm^3/day\", \"pointpos\": -1.5, \"type\": \"box\", \"visible\": false, \"y\": [108.36535902849779, 108.36535988860678, 108.36536233795773, 108.36534776460513, 108.36536742061492, 108.36536736775085, 108.36536320184038, 108.3653579709923, 108.36536512974679, 108.36535439078665]}, {\"boxpoints\": \"all\", \"jitter\": 0.2, \"line\": {\"color\": \"#AB63FA\"}, \"marker\": {\"color\": \"#AB63FA\", \"line\": {\"color\": \"black\", \"width\": 1}, \"opacity\": 0.7, \"symbol\": \"circle\"}, \"name\": \"Score\", \"pointpos\": -1.5, \"type\": \"box\", \"visible\": false, \"y\": [0.14604315833668813, 0.14604315833659276, 0.14604315833659148, 0.14604315833684467, 0.14604315833669734, 0.14604315833663833, 0.1460431583366585, 0.14604315833660203, 0.14604315833665968, 0.14604315833658094]}, {\"boxpoints\": \"all\", \"jitter\": 0.2, \"line\": {\"color\": \"#636EFA\"}, \"marker\": {\"color\": \"#636EFA\", \"line\": {\"color\": \"black\", \"width\": 1}, \"opacity\": 0.7, \"symbol\": \"circle\"}, \"name\": \"Initial tumour volume in cm^3\", \"pointpos\": -1.5, \"type\": \"box\", \"visible\": false, \"y\": [0.13327412456160814, 0.13327396902166078, 0.1332740065780671, 0.13327424293370002, 0.13327408062144644, 0.13327418908224464, 0.13327391725686943, 0.1332740151374483, 0.1332739692141441, 0.13289506464074935]}, {\"boxpoints\": \"all\", \"jitter\": 0.2, \"line\": {\"color\": \"#EF553B\"}, \"marker\": {\"color\": \"#EF553B\", \"line\": {\"color\": \"black\", \"width\": 1}, \"opacity\": 0.7, \"symbol\": \"circle\"}, \"name\": \"Exponential growth rate in 1/day\", \"pointpos\": -1.5, \"type\": \"box\", \"visible\": false, \"y\": [0.1973595816395984, 0.1973598042029497, 0.19735974947457308, 0.19735943128787262, 0.19735965885447865, 0.1973594873996384, 0.1973598713998418, 0.19735972171200328, 0.1973598109763084, 0.19900641136678318]}, {\"boxpoints\": \"all\", \"jitter\": 0.2, \"line\": {\"color\": \"#00CC96\"}, \"marker\": {\"color\": \"#00CC96\", \"line\": {\"color\": \"black\", \"width\": 1}, \"opacity\": 0.7, \"symbol\": \"circle\"}, \"name\": \"Linear growth rate in cm^3/day\", \"pointpos\": -1.5, \"type\": \"box\", \"visible\": false, \"y\": [0.10853691246125094, 0.10853690887211839, 0.10853690917296518, 0.1085369254826164, 0.10853691925992745, 0.10853691274505639, 0.10853690395520721, 0.10853690090331958, 0.10853691273809096, 0.10827363602946688]}, {\"boxpoints\": \"all\", \"jitter\": 0.2, \"line\": {\"color\": \"#AB63FA\"}, \"marker\": {\"color\": \"#AB63FA\", \"line\": {\"color\": \"black\", \"width\": 1}, \"opacity\": 0.7, \"symbol\": \"circle\"}, \"name\": \"Score\", \"pointpos\": -1.5, \"type\": \"box\", \"visible\": false, \"y\": [0.2588573465076962, 0.25885734650762954, 0.2588573465077549, 0.2588573465075943, 0.2588573465075406, 0.2588573465075647, 0.25885734650732667, 0.2588573465082111, 0.2588573465074746, 0.25885804033572385]}, {\"boxpoints\": \"all\", \"jitter\": 0.2, \"line\": {\"color\": \"#636EFA\"}, \"marker\": {\"color\": \"#636EFA\", \"line\": {\"color\": \"black\", \"width\": 1}, \"opacity\": 0.7, \"symbol\": \"circle\"}, \"name\": \"Initial tumour volume in cm^3\", \"pointpos\": -1.5, \"type\": \"box\", \"visible\": false, \"y\": [0.12380947926933264, 0.12375204233207937, 0.1238095080497146, 0.12380947097114209, 0.12380949238345118, 0.1238094862469088, 0.12380952454911864, 0.12380946627850715, 0.12380943582898597, 0.12332978765316374]}, {\"boxpoints\": \"all\", \"jitter\": 0.2, \"line\": {\"color\": \"#EF553B\"}, \"marker\": {\"color\": \"#EF553B\", \"line\": {\"color\": \"black\", \"width\": 1}, \"opacity\": 0.7, \"symbol\": \"circle\"}, \"name\": \"Exponential growth rate in 1/day\", \"pointpos\": -1.5, \"type\": \"box\", \"visible\": false, \"y\": [0.043031621093488855, 0.04299490278781422, 0.04303160860494105, 0.04303162047956739, 0.04303161172740619, 0.04303161462777581, 0.04303160580215425, 0.043031617558250454, 0.04303163205571626, 0.043521167323288076]}, {\"boxpoints\": \"all\", \"jitter\": 0.2, \"line\": {\"color\": \"#00CC96\"}, \"marker\": {\"color\": \"#00CC96\", \"line\": {\"color\": \"black\", \"width\": 1}, \"opacity\": 0.7, \"symbol\": \"circle\"}, \"name\": \"Linear growth rate in cm^3/day\", \"pointpos\": -1.5, \"type\": \"box\", \"visible\": false, \"y\": [0.07299522691912569, 0.07320569287508802, 0.07299522177633516, 0.07299522083346997, 0.07299521845635581, 0.07299521963863254, 0.07299522628859026, 0.07299521316872609, 0.07299522066869328, 0.07139561157939484]}, {\"boxpoints\": \"all\", \"jitter\": 0.2, \"line\": {\"color\": \"#AB63FA\"}, \"marker\": {\"color\": \"#AB63FA\", \"line\": {\"color\": \"black\", \"width\": 1}, \"opacity\": 0.7, \"symbol\": \"circle\"}, \"name\": \"Score\", \"pointpos\": -1.5, \"type\": \"box\", \"visible\": false, \"y\": [0.0029152929592707304, 0.0029155749484043774, 0.0029152929591844345, 0.0029152929592007105, 0.00291529295922699, 0.0029152929592145436, 0.002915292959205436, 0.0029152929591476687, 0.0029152929592472046, 0.002916019145911036]}, {\"boxpoints\": \"all\", \"jitter\": 0.2, \"line\": {\"color\": \"#636EFA\"}, \"marker\": {\"color\": \"#636EFA\", \"line\": {\"color\": \"black\", \"width\": 1}, \"opacity\": 0.7, \"symbol\": \"circle\"}, \"name\": \"Initial tumour volume in cm^3\", \"pointpos\": -1.5, \"type\": \"box\", \"visible\": false, \"y\": [0.08709062689256979, 0.08704782142485207, 0.08704783005898484, 0.08704782626171646, 0.0870478205289823, 0.08706150105252378, 0.08718952470460972, 0.0871283724996868, 0.08703632115649704, 0.08704782662584762]}, {\"boxpoints\": \"all\", \"jitter\": 0.2, \"line\": {\"color\": \"#EF553B\"}, \"marker\": {\"color\": \"#EF553B\", \"line\": {\"color\": \"black\", \"width\": 1}, \"opacity\": 0.7, \"symbol\": \"circle\"}, \"name\": \"Exponential growth rate in 1/day\", \"pointpos\": -1.5, \"type\": \"box\", \"visible\": false, \"y\": [0.036162119275219395, 0.036172157326260425, 0.03617215451433301, 0.036172156241540375, 0.03617215758071389, 0.03616768209047334, 0.03604580599476792, 0.03614872693642981, 0.03617844295231843, 0.036172154791365055]}, {\"boxpoints\": \"all\", \"jitter\": 0.2, \"line\": {\"color\": \"#00CC96\"}, \"marker\": {\"color\": \"#00CC96\", \"line\": {\"color\": \"black\", \"width\": 1}, \"opacity\": 0.7, \"symbol\": \"circle\"}, \"name\": \"Linear growth rate in cm^3/day\", \"pointpos\": -1.5, \"type\": \"box\", \"visible\": false, \"y\": [0.19324366577128144, 0.19325840518053342, 0.19325840885068235, 0.19325840974171274, 0.19325840452152449, 0.19325681590184224, 0.1986498021249713, 0.1932665359369135, 0.1931347363732071, 0.19325840261362687]}, {\"boxpoints\": \"all\", \"jitter\": 0.2, \"line\": {\"color\": \"#AB63FA\"}, \"marker\": {\"color\": \"#AB63FA\", \"line\": {\"color\": \"black\", \"width\": 1}, \"opacity\": 0.7, \"symbol\": \"circle\"}, \"name\": \"Score\", \"pointpos\": -1.5, \"type\": \"box\", \"visible\": false, \"y\": [0.002315620280364251, 0.0023155933407801696, 0.002315593340782402, 0.0023155933407815158, 0.002315593340780744, 0.0023155982459682704, 0.00231575182290097, 0.002315687467732273, 0.0023156072069740693, 0.0023155933407857454]}],\n",
       "                        {\"autosize\": true, \"legend\": {\"x\": 1.05, \"xanchor\": \"left\", \"y\": 0.01, \"yanchor\": \"bottom\"}, \"template\": {\"data\": {\"bar\": [{\"error_x\": {\"color\": \"#2a3f5f\"}, \"error_y\": {\"color\": \"#2a3f5f\"}, \"marker\": {\"line\": {\"color\": \"white\", \"width\": 0.5}}, \"type\": \"bar\"}], \"barpolar\": [{\"marker\": {\"line\": {\"color\": \"white\", \"width\": 0.5}}, \"type\": \"barpolar\"}], \"carpet\": [{\"aaxis\": {\"endlinecolor\": \"#2a3f5f\", \"gridcolor\": \"#C8D4E3\", \"linecolor\": \"#C8D4E3\", \"minorgridcolor\": \"#C8D4E3\", \"startlinecolor\": \"#2a3f5f\"}, \"baxis\": {\"endlinecolor\": \"#2a3f5f\", \"gridcolor\": \"#C8D4E3\", \"linecolor\": \"#C8D4E3\", \"minorgridcolor\": \"#C8D4E3\", \"startlinecolor\": \"#2a3f5f\"}, \"type\": \"carpet\"}], \"choropleth\": [{\"colorbar\": {\"outlinewidth\": 0, \"ticks\": \"\"}, \"type\": \"choropleth\"}], \"contour\": [{\"colorbar\": {\"outlinewidth\": 0, \"ticks\": \"\"}, \"colorscale\": [[0.0, \"#0d0887\"], [0.1111111111111111, \"#46039f\"], [0.2222222222222222, \"#7201a8\"], [0.3333333333333333, \"#9c179e\"], [0.4444444444444444, \"#bd3786\"], [0.5555555555555556, \"#d8576b\"], [0.6666666666666666, \"#ed7953\"], [0.7777777777777778, \"#fb9f3a\"], [0.8888888888888888, \"#fdca26\"], [1.0, \"#f0f921\"]], \"type\": \"contour\"}], \"contourcarpet\": [{\"colorbar\": {\"outlinewidth\": 0, \"ticks\": \"\"}, \"type\": \"contourcarpet\"}], \"heatmap\": [{\"colorbar\": {\"outlinewidth\": 0, \"ticks\": \"\"}, \"colorscale\": [[0.0, \"#0d0887\"], [0.1111111111111111, \"#46039f\"], [0.2222222222222222, \"#7201a8\"], [0.3333333333333333, \"#9c179e\"], [0.4444444444444444, \"#bd3786\"], [0.5555555555555556, \"#d8576b\"], [0.6666666666666666, \"#ed7953\"], [0.7777777777777778, \"#fb9f3a\"], [0.8888888888888888, \"#fdca26\"], [1.0, \"#f0f921\"]], \"type\": \"heatmap\"}], \"heatmapgl\": [{\"colorbar\": {\"outlinewidth\": 0, \"ticks\": \"\"}, \"colorscale\": [[0.0, \"#0d0887\"], [0.1111111111111111, \"#46039f\"], [0.2222222222222222, \"#7201a8\"], [0.3333333333333333, \"#9c179e\"], [0.4444444444444444, \"#bd3786\"], [0.5555555555555556, \"#d8576b\"], [0.6666666666666666, \"#ed7953\"], [0.7777777777777778, \"#fb9f3a\"], [0.8888888888888888, \"#fdca26\"], [1.0, \"#f0f921\"]], \"type\": \"heatmapgl\"}], \"histogram\": [{\"marker\": {\"colorbar\": {\"outlinewidth\": 0, \"ticks\": \"\"}}, \"type\": \"histogram\"}], \"histogram2d\": [{\"colorbar\": {\"outlinewidth\": 0, \"ticks\": \"\"}, \"colorscale\": [[0.0, \"#0d0887\"], [0.1111111111111111, \"#46039f\"], [0.2222222222222222, \"#7201a8\"], [0.3333333333333333, \"#9c179e\"], [0.4444444444444444, \"#bd3786\"], [0.5555555555555556, \"#d8576b\"], [0.6666666666666666, \"#ed7953\"], [0.7777777777777778, \"#fb9f3a\"], [0.8888888888888888, \"#fdca26\"], [1.0, \"#f0f921\"]], \"type\": \"histogram2d\"}], \"histogram2dcontour\": [{\"colorbar\": {\"outlinewidth\": 0, \"ticks\": \"\"}, \"colorscale\": [[0.0, \"#0d0887\"], [0.1111111111111111, \"#46039f\"], [0.2222222222222222, \"#7201a8\"], [0.3333333333333333, \"#9c179e\"], [0.4444444444444444, \"#bd3786\"], [0.5555555555555556, \"#d8576b\"], [0.6666666666666666, \"#ed7953\"], [0.7777777777777778, \"#fb9f3a\"], [0.8888888888888888, \"#fdca26\"], [1.0, \"#f0f921\"]], \"type\": \"histogram2dcontour\"}], \"mesh3d\": [{\"colorbar\": {\"outlinewidth\": 0, \"ticks\": \"\"}, \"type\": \"mesh3d\"}], \"parcoords\": [{\"line\": {\"colorbar\": {\"outlinewidth\": 0, \"ticks\": \"\"}}, \"type\": \"parcoords\"}], \"pie\": [{\"automargin\": true, \"type\": \"pie\"}], \"scatter\": [{\"marker\": {\"colorbar\": {\"outlinewidth\": 0, \"ticks\": \"\"}}, \"type\": \"scatter\"}], \"scatter3d\": [{\"line\": {\"colorbar\": {\"outlinewidth\": 0, \"ticks\": \"\"}}, \"marker\": {\"colorbar\": {\"outlinewidth\": 0, \"ticks\": \"\"}}, \"type\": \"scatter3d\"}], \"scattercarpet\": [{\"marker\": {\"colorbar\": {\"outlinewidth\": 0, \"ticks\": \"\"}}, \"type\": \"scattercarpet\"}], \"scattergeo\": [{\"marker\": {\"colorbar\": {\"outlinewidth\": 0, \"ticks\": \"\"}}, \"type\": \"scattergeo\"}], \"scattergl\": [{\"marker\": {\"colorbar\": {\"outlinewidth\": 0, \"ticks\": \"\"}}, \"type\": \"scattergl\"}], \"scattermapbox\": [{\"marker\": {\"colorbar\": {\"outlinewidth\": 0, \"ticks\": \"\"}}, \"type\": \"scattermapbox\"}], \"scatterpolar\": [{\"marker\": {\"colorbar\": {\"outlinewidth\": 0, \"ticks\": \"\"}}, \"type\": \"scatterpolar\"}], \"scatterpolargl\": [{\"marker\": {\"colorbar\": {\"outlinewidth\": 0, \"ticks\": \"\"}}, \"type\": \"scatterpolargl\"}], \"scatterternary\": [{\"marker\": {\"colorbar\": {\"outlinewidth\": 0, \"ticks\": \"\"}}, \"type\": \"scatterternary\"}], \"surface\": [{\"colorbar\": {\"outlinewidth\": 0, \"ticks\": \"\"}, \"colorscale\": [[0.0, \"#0d0887\"], [0.1111111111111111, \"#46039f\"], [0.2222222222222222, \"#7201a8\"], [0.3333333333333333, \"#9c179e\"], [0.4444444444444444, \"#bd3786\"], [0.5555555555555556, \"#d8576b\"], [0.6666666666666666, \"#ed7953\"], [0.7777777777777778, \"#fb9f3a\"], [0.8888888888888888, \"#fdca26\"], [1.0, \"#f0f921\"]], \"type\": \"surface\"}], \"table\": [{\"cells\": {\"fill\": {\"color\": \"#EBF0F8\"}, \"line\": {\"color\": \"white\"}}, \"header\": {\"fill\": {\"color\": \"#C8D4E3\"}, \"line\": {\"color\": \"white\"}}, \"type\": \"table\"}]}, \"layout\": {\"annotationdefaults\": {\"arrowcolor\": \"#2a3f5f\", \"arrowhead\": 0, \"arrowwidth\": 1}, \"coloraxis\": {\"colorbar\": {\"outlinewidth\": 0, \"ticks\": \"\"}}, \"colorscale\": {\"diverging\": [[0, \"#8e0152\"], [0.1, \"#c51b7d\"], [0.2, \"#de77ae\"], [0.3, \"#f1b6da\"], [0.4, \"#fde0ef\"], [0.5, \"#f7f7f7\"], [0.6, \"#e6f5d0\"], [0.7, \"#b8e186\"], [0.8, \"#7fbc41\"], [0.9, \"#4d9221\"], [1, \"#276419\"]], \"sequential\": [[0.0, \"#0d0887\"], [0.1111111111111111, \"#46039f\"], [0.2222222222222222, \"#7201a8\"], [0.3333333333333333, \"#9c179e\"], [0.4444444444444444, \"#bd3786\"], [0.5555555555555556, \"#d8576b\"], [0.6666666666666666, \"#ed7953\"], [0.7777777777777778, \"#fb9f3a\"], [0.8888888888888888, \"#fdca26\"], [1.0, \"#f0f921\"]], \"sequentialminus\": [[0.0, \"#0d0887\"], [0.1111111111111111, \"#46039f\"], [0.2222222222222222, \"#7201a8\"], [0.3333333333333333, \"#9c179e\"], [0.4444444444444444, \"#bd3786\"], [0.5555555555555556, \"#d8576b\"], [0.6666666666666666, \"#ed7953\"], [0.7777777777777778, \"#fb9f3a\"], [0.8888888888888888, \"#fdca26\"], [1.0, \"#f0f921\"]]}, \"colorway\": [\"#636efa\", \"#EF553B\", \"#00cc96\", \"#ab63fa\", \"#FFA15A\", \"#19d3f3\", \"#FF6692\", \"#B6E880\", \"#FF97FF\", \"#FECB52\"], \"font\": {\"color\": \"#2a3f5f\"}, \"geo\": {\"bgcolor\": \"white\", \"lakecolor\": \"white\", \"landcolor\": \"white\", \"showlakes\": true, \"showland\": true, \"subunitcolor\": \"#C8D4E3\"}, \"hoverlabel\": {\"align\": \"left\"}, \"hovermode\": \"closest\", \"mapbox\": {\"style\": \"light\"}, \"paper_bgcolor\": \"white\", \"plot_bgcolor\": \"white\", \"polar\": {\"angularaxis\": {\"gridcolor\": \"#EBF0F8\", \"linecolor\": \"#EBF0F8\", \"ticks\": \"\"}, \"bgcolor\": \"white\", \"radialaxis\": {\"gridcolor\": \"#EBF0F8\", \"linecolor\": \"#EBF0F8\", \"ticks\": \"\"}}, \"scene\": {\"xaxis\": {\"backgroundcolor\": \"white\", \"gridcolor\": \"#DFE8F3\", \"gridwidth\": 2, \"linecolor\": \"#EBF0F8\", \"showbackground\": true, \"ticks\": \"\", \"zerolinecolor\": \"#EBF0F8\"}, \"yaxis\": {\"backgroundcolor\": \"white\", \"gridcolor\": \"#DFE8F3\", \"gridwidth\": 2, \"linecolor\": \"#EBF0F8\", \"showbackground\": true, \"ticks\": \"\", \"zerolinecolor\": \"#EBF0F8\"}, \"zaxis\": {\"backgroundcolor\": \"white\", \"gridcolor\": \"#DFE8F3\", \"gridwidth\": 2, \"linecolor\": \"#EBF0F8\", \"showbackground\": true, \"ticks\": \"\", \"zerolinecolor\": \"#EBF0F8\"}}, \"shapedefaults\": {\"line\": {\"color\": \"#2a3f5f\"}}, \"ternary\": {\"aaxis\": {\"gridcolor\": \"#DFE8F3\", \"linecolor\": \"#A2B1C6\", \"ticks\": \"\"}, \"baxis\": {\"gridcolor\": \"#DFE8F3\", \"linecolor\": \"#A2B1C6\", \"ticks\": \"\"}, \"bgcolor\": \"white\", \"caxis\": {\"gridcolor\": \"#DFE8F3\", \"linecolor\": \"#A2B1C6\", \"ticks\": \"\"}}, \"title\": {\"x\": 0.05}, \"xaxis\": {\"automargin\": true, \"gridcolor\": \"#EBF0F8\", \"linecolor\": \"#EBF0F8\", \"ticks\": \"\", \"title\": {\"standoff\": 15}, \"zerolinecolor\": \"#EBF0F8\", \"zerolinewidth\": 2}, \"yaxis\": {\"automargin\": true, \"gridcolor\": \"#EBF0F8\", \"linecolor\": \"#EBF0F8\", \"ticks\": \"\", \"title\": {\"standoff\": 15}, \"zerolinecolor\": \"#EBF0F8\", \"zerolinewidth\": 2}}}, \"updatemenus\": [{\"buttons\": [{\"args\": [{\"visible\": [true, true, true, true, false, false, false, false, false, false, false, false, false, false, false, false, false, false, false, false, false, false, false, false, false, false, false, false, false, false, false, false]}], \"label\": \"ID: 40\", \"method\": \"restyle\"}, {\"args\": [{\"visible\": [false, false, false, false, true, true, true, true, false, false, false, false, false, false, false, false, false, false, false, false, false, false, false, false, false, false, false, false, false, false, false, false]}], \"label\": \"ID: 94\", \"method\": \"restyle\"}, {\"args\": [{\"visible\": [false, false, false, false, false, false, false, false, true, true, true, true, false, false, false, false, false, false, false, false, false, false, false, false, false, false, false, false, false, false, false, false]}], \"label\": \"ID: 95\", \"method\": \"restyle\"}, {\"args\": [{\"visible\": [false, false, false, false, false, false, false, false, false, false, false, false, true, true, true, true, false, false, false, false, false, false, false, false, false, false, false, false, false, false, false, false]}], \"label\": \"ID: 136\", \"method\": \"restyle\"}, {\"args\": [{\"visible\": [false, false, false, false, false, false, false, false, false, false, false, false, false, false, false, false, true, true, true, true, false, false, false, false, false, false, false, false, false, false, false, false]}], \"label\": \"ID: 140\", \"method\": \"restyle\"}, {\"args\": [{\"visible\": [false, false, false, false, false, false, false, false, false, false, false, false, false, false, false, false, false, false, false, false, true, true, true, true, false, false, false, false, false, false, false, false]}], \"label\": \"ID: 155\", \"method\": \"restyle\"}, {\"args\": [{\"visible\": [false, false, false, false, false, false, false, false, false, false, false, false, false, false, false, false, false, false, false, false, false, false, false, false, true, true, true, true, false, false, false, false]}], \"label\": \"ID: 169\", \"method\": \"restyle\"}, {\"args\": [{\"visible\": [false, false, false, false, false, false, false, false, false, false, false, false, false, false, false, false, false, false, false, false, false, false, false, false, false, false, false, false, true, true, true, true]}], \"label\": \"ID: 170\", \"method\": \"restyle\"}], \"direction\": \"right\", \"pad\": {\"r\": 0, \"t\": -10}, \"showactive\": true, \"type\": \"buttons\", \"x\": 0.0, \"xanchor\": \"left\", \"y\": 1.1, \"yanchor\": \"top\"}]},\n",
       "                        {\"responsive\": true}\n",
       "                    ).then(function(){\n",
       "                            \n",
       "var gd = document.getElementById('f5dabaa2-c51e-4279-a2fc-41a73981de84');\n",
       "var x = new MutationObserver(function (mutations, observer) {{\n",
       "        var display = window.getComputedStyle(gd).display;\n",
       "        if (!display || display === 'none') {{\n",
       "            console.log([gd, 'removed!']);\n",
       "            Plotly.purge(gd);\n",
       "            observer.disconnect();\n",
       "        }}\n",
       "}});\n",
       "\n",
       "// Listen for the removal of the full notebook cells\n",
       "var notebookContainer = gd.closest('#notebook-container');\n",
       "if (notebookContainer) {{\n",
       "    x.observe(notebookContainer, {childList: true});\n",
       "}}\n",
       "\n",
       "// Listen for the clearing of the current output cell\n",
       "var outputEl = gd.closest('.output');\n",
       "if (outputEl) {{\n",
       "    x.observe(outputEl, {childList: true});\n",
       "}}\n",
       "\n",
       "                        })\n",
       "                };\n",
       "                });\n",
       "            </script>\n",
       "        </div>"
      ]
     },
     "metadata": {},
     "output_type": "display_data"
    }
   ],
   "source": [
    "#\n",
    "# Visualisation of the spread of optimised model parameters for multiple runs from different initial points.\n",
    "#\n",
    "# This cell needs the above optimised paraemeters and their respective objective function scores, as well as the data\n",
    "# [mouse_parameters_dimless_optimisation, mouse_scores_multi_runs_dimless, data]\n",
    "#\n",
    "\n",
    "import plotly.colors\n",
    "import plotly.graph_objects as go\n",
    "\n",
    "\n",
    "# Get mouse ids\n",
    "mouse_ids = data['#ID'].unique()\n",
    "\n",
    "# Get number of parameters + score (for visualisation)\n",
    "n_params = mouse_parameters_multi_runs_dimless.shape[2] + 1\n",
    "\n",
    "# Define colorscheme\n",
    "colors = plotly.colors.qualitative.Plotly[:n_params]\n",
    "\n",
    "# Get optimised parameter sets\n",
    "optimised_parameters =  mouse_parameters_dimless_optimisation\n",
    "\n",
    "# Get scores for parameters\n",
    "scores = mouse_scores_multi_runs_dimless\n",
    "\n",
    "# Create figure\n",
    "fig = go.Figure()\n",
    "\n",
    "# Box plot of optimised model parameters\n",
    "for index, id_m in enumerate(mouse_ids):\n",
    "    # Get optimised parameters\n",
    "    parameters = optimised_parameters[index, ...]\n",
    "\n",
    "    # Get scores\n",
    "    score = scores[index, :]\n",
    "\n",
    "    # Create box plot of for initial tumour volume\n",
    "    fig.add_trace(\n",
    "        go.Box(\n",
    "            y=parameters[:, 0],  \n",
    "            name=\"Initial tumour volume in cm^3\",\n",
    "            boxpoints='all',\n",
    "            jitter=0.2,\n",
    "            pointpos=-1.5,\n",
    "            visible=True if index == 0 else False,\n",
    "            marker=dict(\n",
    "                symbol='circle',\n",
    "                opacity=0.7,\n",
    "                line=dict(color='black', width=1)),\n",
    "            marker_color=colors[0],\n",
    "            line_color=colors[0]))\n",
    "\n",
    "    # Create box plot of for exponential tumour growth\n",
    "    fig.add_trace(\n",
    "        go.Box(\n",
    "            y=parameters[:, 1],  \n",
    "            name=\"Exponential growth rate in 1/day\",\n",
    "            boxpoints='all',\n",
    "            jitter=0.2,\n",
    "            pointpos=-1.5,\n",
    "            visible=True if index == 0 else False,\n",
    "            marker=dict(\n",
    "                symbol='circle',\n",
    "                opacity=0.7,\n",
    "                line=dict(color='black', width=1)),\n",
    "            marker_color=colors[1],\n",
    "            line_color=colors[1]))\n",
    "\n",
    "    # Create box plot of for linear tumour growth\n",
    "    fig.add_trace(\n",
    "        go.Box(\n",
    "            y=parameters[:, 2],  \n",
    "            name=\"Linear growth rate in cm^3/day\",\n",
    "            boxpoints='all',\n",
    "            jitter=0.2,\n",
    "            pointpos=-1.5,\n",
    "            visible=True if index == 0 else False,\n",
    "            marker=dict(\n",
    "                symbol='circle',\n",
    "                opacity=0.7,\n",
    "                line=dict(color='black', width=1)),\n",
    "            marker_color=colors[2],\n",
    "            line_color=colors[2]))\n",
    "    \n",
    "    # Create box plot of for objective function score\n",
    "    fig.add_trace(\n",
    "        go.Box(\n",
    "            y=score,  \n",
    "            name=\"Score\",\n",
    "            boxpoints='all',\n",
    "            jitter=0.2,\n",
    "            pointpos=-1.5,\n",
    "            visible=True if index == 0 else False,\n",
    "            marker=dict(\n",
    "                symbol='circle',\n",
    "                opacity=0.7,\n",
    "                line=dict(color='black', width=1)),\n",
    "            marker_color=colors[3],\n",
    "            line_color=colors[3]))\n",
    "\n",
    "# Set figure size\n",
    "fig.update_layout(\n",
    "    autosize=True,\n",
    "    template=\"plotly_white\")\n",
    "\n",
    "# Add switch between mice\n",
    "fig.update_layout(\n",
    "    updatemenus=[\n",
    "        dict(\n",
    "            type = \"buttons\",\n",
    "            direction = \"right\",\n",
    "            buttons=list([\n",
    "                dict(\n",
    "                    args=[{\"visible\": [True]*4 + [False]*(4 * 7)}],\n",
    "                    label=\"ID: %d\" % mouse_ids[0],\n",
    "                    method=\"restyle\"\n",
    "                ),\n",
    "                dict(\n",
    "                    args=[{\"visible\": [False]*4 + [True]*4 + [False]*(4 * 6)}],\n",
    "                    label=\"ID: %d\" % mouse_ids[1],\n",
    "                    method=\"restyle\"\n",
    "                ),\n",
    "                dict(\n",
    "                    args=[{\"visible\": [False]*(4 * 2) + [True]*4 + [False]*(4 * 5)}],\n",
    "                    label=\"ID: %d\" % mouse_ids[2],\n",
    "                    method=\"restyle\"\n",
    "                ),\n",
    "                dict(\n",
    "                    args=[{\"visible\": [False]*(4 * 3) + [True]*4 + [False]*(4 * 4)}],\n",
    "                    label=\"ID: %d\" % mouse_ids[3],\n",
    "                    method=\"restyle\"\n",
    "                ),\n",
    "                dict(\n",
    "                    args=[{\"visible\": [False]*(4 * 4) + [True]*4 + [False]*(4 * 3)}],\n",
    "                    label=\"ID: %d\" % mouse_ids[4],\n",
    "                    method=\"restyle\"\n",
    "                ),\n",
    "                dict(\n",
    "                    args=[{\"visible\": [False]*(4 * 5) + [True]*4 + [False]*(4 * 2)}],\n",
    "                    label=\"ID: %d\" % mouse_ids[5],\n",
    "                    method=\"restyle\"\n",
    "                ),\n",
    "                dict(\n",
    "                    args=[{\"visible\": [False]*(4 * 6) + [True]*4 + [False]* 4}],\n",
    "                    label=\"ID: %d\" % mouse_ids[6],\n",
    "                    method=\"restyle\"\n",
    "                ),\n",
    "                dict(\n",
    "                    args=[{\"visible\": [False]*(4 * 7) + [True]*4}],\n",
    "                    label=\"ID: %d\" % mouse_ids[7],\n",
    "                    method=\"restyle\"\n",
    "                )\n",
    "            ]),\n",
    "            pad={\"r\": 0, \"t\": -10},\n",
    "            showactive=True,\n",
    "            x=0.0,\n",
    "            xanchor=\"left\",\n",
    "            y=1.1,\n",
    "            yanchor=\"top\"\n",
    "        )\n",
    "    ]\n",
    ")\n",
    "\n",
    "# Position legend\n",
    "fig.update_layout(legend=dict(\n",
    "    yanchor=\"bottom\",\n",
    "    y=0.01,\n",
    "    xanchor=\"left\",\n",
    "    x=1.05))\n",
    "\n",
    "# Show figure\n",
    "fig.show()\n"
   ]
  },
  {
   "cell_type": "markdown",
   "metadata": {},
   "source": [
    "**Figure 5:** Scatter and box plot of the structural model parameters $\\psi $ (initial tumour volume $V_0$, exponential growth rate $\\lambda _0$, linear growth rate $\\lambda _1$) found by minimising the squared distance between the predictions and the observations using a CMA-ES optimiser. For each individual the optimisation routine was run 10 times from a uniformly sampled starting point in $[10^{-3}, 10^3]$. In addition to the optimised parameters, also the distribution of the associated objective function scores is presented."
   ]
  },
  {
   "cell_type": "markdown",
   "metadata": {},
   "source": [
    "## Log-transforming the model parameters"
   ]
  },
  {
   "cell_type": "markdown",
   "metadata": {},
   "source": [
    "In fact, one can show that for large parameter magnitudes the model can develop apparent practical non-identifiabilties which are related to the floating point accuracy of the numerically evaluated objective function. For example in a scenario where $2\\lambda _0 \\ll \\lambda _1 $, the structural growth model approximately reduces to\n",
    "\n",
    "\\begin{equation*}\n",
    "    \n",
    "\\begin{equation*}"
   ]
  },
  {
   "cell_type": "code",
   "execution_count": 17,
   "metadata": {
    "tags": []
   },
   "outputs": [],
   "source": [
    "#\n",
    "# Run optimisation multiple times from random initial starting points.\n",
    "#\n",
    "\n",
    "import os\n",
    "\n",
    "import myokit\n",
    "import numpy as np\n",
    "import pandas as pd\n",
    "import pints\n",
    "\n",
    "\n",
    "# Define number of optimisation runs for each individual\n",
    "n_runs = 10\n",
    "\n",
    "# Import data\n",
    "# Get path of current working directory\n",
    "path = os.getcwd()\n",
    "\n",
    "# Import LXF A677 control growth data\n",
    "data = pd.read_csv(path + '/data/lxf_control_growth.csv')\n",
    "\n",
    "# Define model\n",
    "path = pkpd.ModelLibrary().get_path('Tumour growth without treatment - Eigenmann et. al.')\n",
    "model = pkpd.PharmacodynamicModel(path, is_log_transformed=True)\n",
    "\n",
    "# Define container for the structural model estimates\n",
    "# Shape (n_mice, n_runs, n_parameters)\n",
    "n_mice = len(data['#ID'].unique())\n",
    "n_parameters = 3\n",
    "mouse_parameters_multi_runs_log_transformed = np.empty(shape=(n_mice, n_runs, n_parameters))\n",
    "\n",
    "# Define container for the objective function score for the optimised parameters\n",
    "mouse_scores_multi_runs_log_transformed = np.empty(shape=(n_mice, n_runs))\n",
    "\n",
    "# Define random starting points over many orders of magnitude\n",
    "# Shape = (n_runs, n_parameters)\n",
    "initial_parameters = np.random.uniform(low=1E-3, high=1E3, size=(n_runs, n_parameters))\n",
    "\n",
    "# Find mouse parameters for LXF A677 population\n",
    "mouse_ids = data['#ID'].unique()\n",
    "for index, mouse_id in enumerate(mouse_ids):\n",
    "    # Create mask for mouse with specfied ID\n",
    "    mouse_mask = data['#ID'] == mouse_id\n",
    "\n",
    "    # Get relevant time points\n",
    "    times = data[mouse_mask]['TIME in day'].to_numpy()\n",
    "\n",
    "    # Get measured tumour volumes\n",
    "    observed_volumes = data[mouse_mask]['TUMOUR VOLUME in cm^3'].to_numpy()\n",
    "\n",
    "    # Create inverse problem\n",
    "    problem = pints.SingleOutputProblem(model, times, observed_volumes)\n",
    "\n",
    "    # Create sum of squares error objective function\n",
    "    error = pints.SumOfSquaresError(problem)\n",
    "\n",
    "    # Create boundaries to biologically relevant values\n",
    "    boundary = pints.RectangularBoundaries(lower=np.log([1E-3]*3), upper=np.log([1E3]*3))\n",
    "\n",
    "    # Run optimisation multiple times\n",
    "    for run_id, initial_params in enumerate(initial_parameters):\n",
    "        # Transform parameters to log-scale\n",
    "        log_initial_params = np.log(initial_params)\n",
    "\n",
    "        # Create optimisation controller with a CMA-ES optimiser\n",
    "        optimiser = pints.OptimisationController(\n",
    "            function=error,\n",
    "            x0=log_initial_params,\n",
    "            boundaries=boundary,\n",
    "            method=pints.CMAES)\n",
    "\n",
    "        # Disable logging mode\n",
    "        optimiser.set_log_to_screen(False)\n",
    "\n",
    "        # Parallelise optimisation\n",
    "        optimiser.set_parallel(True)\n",
    "\n",
    "        # Find optimal parameters\n",
    "        try:\n",
    "            estimates, score = optimiser.run()\n",
    "        except:\n",
    "            # If inference breaks fill estimates with nan\n",
    "            estimates = np.array([np.nan, np.nan, np.nan])\n",
    "            score = np.nan\n",
    "\n",
    "        # Save estimates and score (back transformed to linear scale)\n",
    "        mouse_parameters_multi_runs_log_transformed[index, run_id, :] = np.exp(estimates)\n",
    "        mouse_scores_multi_runs_log_transformed[index, run_id] = score"
   ]
  },
  {
   "cell_type": "code",
   "execution_count": 18,
   "metadata": {},
   "outputs": [
    {
     "data": {
      "application/vnd.plotly.v1+json": {
       "config": {
        "plotlyServerURL": "https://plot.ly"
       },
       "data": [
        {
         "boxpoints": "all",
         "jitter": 0.2,
         "line": {
          "color": "#636EFA"
         },
         "marker": {
          "color": "#636EFA",
          "line": {
           "color": "black",
           "width": 1
          },
          "opacity": 0.7,
          "symbol": "circle"
         },
         "name": "Initial tumour volume in cm^3",
         "pointpos": -1.5,
         "type": "box",
         "visible": true,
         "y": [
          0.13919276924727553,
          0.1393825913552939,
          0.13926091496297482,
          0.1395526934730309,
          0.1393233827116885,
          0.13929787746369882,
          0.13950083954312403,
          0.13945458469564845,
          0.13932308436844137,
          0.13954637859377453
         ]
        },
        {
         "boxpoints": "all",
         "jitter": 0.2,
         "line": {
          "color": "#EF553B"
         },
         "marker": {
          "color": "#EF553B",
          "line": {
           "color": "black",
           "width": 1
          },
          "opacity": 0.7,
          "symbol": "circle"
         },
         "name": "Exponential growth rate in 1/day",
         "pointpos": -1.5,
         "type": "box",
         "visible": true,
         "y": [
          0.2756019558125923,
          0.2752641684609353,
          0.2754993142014071,
          0.27494612246020866,
          0.2754114958941548,
          0.2753857408611185,
          0.27497619985868027,
          0.2751633934420117,
          0.2754119451337784,
          0.27496057552490094
         ]
        },
        {
         "boxpoints": "all",
         "jitter": 0.2,
         "line": {
          "color": "#00CC96"
         },
         "marker": {
          "color": "#00CC96",
          "line": {
           "color": "black",
           "width": 1
          },
          "opacity": 0.7,
          "symbol": "circle"
         },
         "name": "Linear growth rate in cm^3/day",
         "pointpos": -1.5,
         "type": "box",
         "visible": true,
         "y": [
          0.130940631799957,
          0.130967564784696,
          0.13095581432240366,
          0.13097616404640683,
          0.13096883942260062,
          0.13095241904703653,
          0.13095589129634552,
          0.130989459686877,
          0.13096877832515044,
          0.13098392209183862
         ]
        },
        {
         "boxpoints": "all",
         "jitter": 0.2,
         "line": {
          "color": "#AB63FA"
         },
         "marker": {
          "color": "#AB63FA",
          "line": {
           "color": "black",
           "width": 1
          },
          "opacity": 0.7,
          "symbol": "circle"
         },
         "name": "Score",
         "pointpos": -1.5,
         "type": "box",
         "visible": true,
         "y": [
          0.03186062799275207,
          0.03186048514320033,
          0.03186032216822964,
          0.0318608290800345,
          0.031860188089662934,
          0.031860873606283965,
          0.031862094342221405,
          0.031860474453445746,
          0.03186018809240841,
          0.03186071623832946
         ]
        },
        {
         "boxpoints": "all",
         "jitter": 0.2,
         "line": {
          "color": "#636EFA"
         },
         "marker": {
          "color": "#636EFA",
          "line": {
           "color": "black",
           "width": 1
          },
          "opacity": 0.7,
          "symbol": "circle"
         },
         "name": "Initial tumour volume in cm^3",
         "pointpos": -1.5,
         "type": "box",
         "visible": false,
         "y": [
          0.07460091222105544,
          0.07443685382987536,
          0.07454257912120527,
          0.07443700321242427,
          0.0747992742529079,
          0.0745547755024388,
          0.07479927551174735,
          0.057526707355627996,
          0.0744373633861524,
          0.07455482335087578
         ]
        },
        {
         "boxpoints": "all",
         "jitter": 0.2,
         "line": {
          "color": "#EF553B"
         },
         "marker": {
          "color": "#EF553B",
          "line": {
           "color": "black",
           "width": 1
          },
          "opacity": 0.7,
          "symbol": "circle"
         },
         "name": "Exponential growth rate in 1/day",
         "pointpos": -1.5,
         "type": "box",
         "visible": false,
         "y": [
          0.16536800987495168,
          0.16940028228063359,
          0.1679526595727639,
          0.16939992270672413,
          0.16503518878442738,
          0.16791095642763543,
          0.16503518495166725,
          390.8480308490011,
          0.16939904336781808,
          0.16791093038078456
         ]
        },
        {
         "boxpoints": "all",
         "jitter": 0.2,
         "line": {
          "color": "#00CC96"
         },
         "marker": {
          "color": "#00CC96",
          "line": {
           "color": "black",
           "width": 1
          },
          "opacity": 0.7,
          "symbol": "circle"
         },
         "name": "Linear growth rate in cm^3/day",
         "pointpos": -1.5,
         "type": "box",
         "visible": false,
         "y": [
          0.020393821605137096,
          0.020274561026714523,
          0.020315791052554693,
          0.020274556565054516,
          0.020388812803669082,
          0.02031386553542157,
          0.02038881265561109,
          0.016439697910691012,
          0.020274544274485332,
          0.020313874503319482
         ]
        },
        {
         "boxpoints": "all",
         "jitter": 0.2,
         "line": {
          "color": "#AB63FA"
         },
         "marker": {
          "color": "#AB63FA",
          "line": {
           "color": "black",
           "width": 1
          },
          "opacity": 0.7,
          "symbol": "circle"
         },
         "name": "Score",
         "pointpos": -1.5,
         "type": "box",
         "visible": false,
         "y": [
          0.007450648499193944,
          0.007448563912883328,
          0.007448226999777552,
          0.0074485639130945835,
          0.007450327517828544,
          0.00744821782035877,
          0.007450327517819774,
          0.008274291669388588,
          0.007448563913725603,
          0.007448217820535804
         ]
        },
        {
         "boxpoints": "all",
         "jitter": 0.2,
         "line": {
          "color": "#636EFA"
         },
         "marker": {
          "color": "#636EFA",
          "line": {
           "color": "black",
           "width": 1
          },
          "opacity": 0.7,
          "symbol": "circle"
         },
         "name": "Initial tumour volume in cm^3",
         "pointpos": -1.5,
         "type": "box",
         "visible": false,
         "y": [
          0.22106913942661868,
          0.22106914143795117,
          0.22106913897534716,
          0.0033981517689429808,
          0.22106914312288575,
          0.22106914295215194,
          0.2210691409656733,
          0.221069132220249,
          0.22106914144814735,
          0.22106914878199282
         ]
        },
        {
         "boxpoints": "all",
         "jitter": 0.2,
         "line": {
          "color": "#EF553B"
         },
         "marker": {
          "color": "#EF553B",
          "line": {
           "color": "black",
           "width": 1
          },
          "opacity": 0.7,
          "symbol": "circle"
         },
         "name": "Exponential growth rate in 1/day",
         "pointpos": -1.5,
         "type": "box",
         "visible": false,
         "y": [
          0.05553423935403408,
          0.055534239410003954,
          0.05553423935380728,
          999.0805551619661,
          0.05553423891875885,
          0.05553423956795481,
          0.05553423942721459,
          0.055534240237615426,
          0.05553423896529252,
          0.05553423857909948
         ]
        },
        {
         "boxpoints": "all",
         "jitter": 0.2,
         "line": {
          "color": "#00CC96"
         },
         "marker": {
          "color": "#00CC96",
          "line": {
           "color": "black",
           "width": 1
          },
          "opacity": 0.7,
          "symbol": "circle"
         },
         "name": "Linear growth rate in cm^3/day",
         "pointpos": -1.5,
         "type": "box",
         "visible": false,
         "y": [
          999.9999999986248,
          999.9999999527478,
          999.9999999831865,
          0.08813513970246464,
          999.9999999848279,
          999.9999999903613,
          999.9999999852231,
          999.9999999791524,
          999.9999999949948,
          999.999999979077
         ]
        },
        {
         "boxpoints": "all",
         "jitter": 0.2,
         "line": {
          "color": "#AB63FA"
         },
         "marker": {
          "color": "#AB63FA",
          "line": {
           "color": "black",
           "width": 1
          },
          "opacity": 0.7,
          "symbol": "circle"
         },
         "name": "Score",
         "pointpos": -1.5,
         "type": "box",
         "visible": false,
         "y": [
          0.0993183674990339,
          0.09931836749903304,
          0.09931836749903757,
          0.5376140165247733,
          0.09931836749903568,
          0.09931836749903487,
          0.09931836749903476,
          0.09931836749903106,
          0.09931836749903253,
          0.09931836749903526
         ]
        },
        {
         "boxpoints": "all",
         "jitter": 0.2,
         "line": {
          "color": "#636EFA"
         },
         "marker": {
          "color": "#636EFA",
          "line": {
           "color": "black",
           "width": 1
          },
          "opacity": 0.7,
          "symbol": "circle"
         },
         "name": "Initial tumour volume in cm^3",
         "pointpos": -1.5,
         "type": "box",
         "visible": false,
         "y": [
          0.1481505084873295,
          0.14903750248779096,
          0.14899827925627152,
          0.1489849904371094,
          0.14891707443316562,
          0.1484202496477121,
          0.1485517654686136,
          0.1491017345398812,
          0.14862888485756207,
          0.14902297102009773
         ]
        },
        {
         "boxpoints": "all",
         "jitter": 0.2,
         "line": {
          "color": "#EF553B"
         },
         "marker": {
          "color": "#EF553B",
          "line": {
           "color": "black",
           "width": 1
          },
          "opacity": 0.7,
          "symbol": "circle"
         },
         "name": "Exponential growth rate in 1/day",
         "pointpos": -1.5,
         "type": "box",
         "visible": false,
         "y": [
          0.05479736979446461,
          0.05425893673564967,
          0.054256607134634344,
          0.054266241275508116,
          0.054287586619988025,
          0.054745581733220666,
          0.0547173997739065,
          0.0545532872478183,
          0.05468288639028309,
          0.05425531355582151
         ]
        },
        {
         "boxpoints": "all",
         "jitter": 0.2,
         "line": {
          "color": "#00CC96"
         },
         "marker": {
          "color": "#00CC96",
          "line": {
           "color": "black",
           "width": 1
          },
          "opacity": 0.7,
          "symbol": "circle"
         },
         "name": "Linear growth rate in cm^3/day",
         "pointpos": -1.5,
         "type": "box",
         "visible": false,
         "y": [
          0.12676740907392334,
          0.12878859278574203,
          0.12879856218475258,
          0.1288075690877382,
          0.12875537198380135,
          0.12688361776537263,
          0.12672972656945497,
          0.12688157110157208,
          0.12681886606424245,
          0.12881401373864912
         ]
        },
        {
         "boxpoints": "all",
         "jitter": 0.2,
         "line": {
          "color": "#AB63FA"
         },
         "marker": {
          "color": "#AB63FA",
          "line": {
           "color": "black",
           "width": 1
          },
          "opacity": 0.7,
          "symbol": "circle"
         },
         "name": "Score",
         "pointpos": -1.5,
         "type": "box",
         "visible": false,
         "y": [
          0.04018035915429626,
          0.040184758620663966,
          0.040185109628370914,
          0.04018455237826866,
          0.04018471951449029,
          0.04018231422430599,
          0.040182082615779484,
          0.04018733503901925,
          0.040181756160195974,
          0.04018458188190811
         ]
        },
        {
         "boxpoints": "all",
         "jitter": 0.2,
         "line": {
          "color": "#636EFA"
         },
         "marker": {
          "color": "#636EFA",
          "line": {
           "color": "black",
           "width": 1
          },
          "opacity": 0.7,
          "symbol": "circle"
         },
         "name": "Initial tumour volume in cm^3",
         "pointpos": -1.5,
         "type": "box",
         "visible": false,
         "y": [
          0.08430032996963435,
          0.08430035773509043,
          0.08430034898703909,
          0.08430039461690399,
          0.0843003707731004,
          0.08430033252688948,
          0.08430036143851671,
          0.08430034192091733,
          0.08430032812771936,
          0.08430036852629788
         ]
        },
        {
         "boxpoints": "all",
         "jitter": 0.2,
         "line": {
          "color": "#EF553B"
         },
         "marker": {
          "color": "#EF553B",
          "line": {
           "color": "black",
           "width": 1
          },
          "opacity": 0.7,
          "symbol": "circle"
         },
         "name": "Exponential growth rate in 1/day",
         "pointpos": -1.5,
         "type": "box",
         "visible": false,
         "y": [
          0.05412915307779471,
          0.05412914836404497,
          0.05412915084126272,
          0.054129140998950366,
          0.05412914464788496,
          0.054129152581042,
          0.054129148507569,
          0.05412915073313357,
          0.05412915365318979,
          0.05412914578547555
         ]
        },
        {
         "boxpoints": "all",
         "jitter": 0.2,
         "line": {
          "color": "#00CC96"
         },
         "marker": {
          "color": "#00CC96",
          "line": {
           "color": "black",
           "width": 1
          },
          "opacity": 0.7,
          "symbol": "circle"
         },
         "name": "Linear growth rate in cm^3/day",
         "pointpos": -1.5,
         "type": "box",
         "visible": false,
         "y": [
          999.9999997474507,
          999.9999994594837,
          999.9999960338861,
          999.9999991151707,
          999.9999980372578,
          999.9999996398692,
          999.9999995754603,
          999.9999985391959,
          999.9999999877411,
          999.9999999960252
         ]
        },
        {
         "boxpoints": "all",
         "jitter": 0.2,
         "line": {
          "color": "#AB63FA"
         },
         "marker": {
          "color": "#AB63FA",
          "line": {
           "color": "black",
           "width": 1
          },
          "opacity": 0.7,
          "symbol": "circle"
         },
         "name": "Score",
         "pointpos": -1.5,
         "type": "box",
         "visible": false,
         "y": [
          0.14589083590903149,
          0.14589083590898044,
          0.14589083590894902,
          0.14589083590917676,
          0.14589083590907295,
          0.14589083590912877,
          0.14589083590884525,
          0.14589083590909965,
          0.14589083590898783,
          0.14589083590886556
         ]
        },
        {
         "boxpoints": "all",
         "jitter": 0.2,
         "line": {
          "color": "#636EFA"
         },
         "marker": {
          "color": "#636EFA",
          "line": {
           "color": "black",
           "width": 1
          },
          "opacity": 0.7,
          "symbol": "circle"
         },
         "name": "Initial tumour volume in cm^3",
         "pointpos": -1.5,
         "type": "box",
         "visible": false,
         "y": [
          0.1332741328342255,
          0.13289511644846788,
          0.1332742131239166,
          0.13327403030374815,
          0.13289532512764682,
          0.0010481961952744344,
          0.13327425528343814,
          0.1332743413402371,
          0.13289509500559346,
          0.13289573488957493
         ]
        },
        {
         "boxpoints": "all",
         "jitter": 0.2,
         "line": {
          "color": "#EF553B"
         },
         "marker": {
          "color": "#EF553B",
          "line": {
           "color": "black",
           "width": 1
          },
          "opacity": 0.7,
          "symbol": "circle"
         },
         "name": "Exponential growth rate in 1/day",
         "pointpos": -1.5,
         "type": "box",
         "visible": false,
         "y": [
          0.19735958088035274,
          0.19900633007595092,
          0.19735946116599723,
          0.19735969932697878,
          0.1990060809734414,
          5.622344130859304,
          0.1973593953388395,
          0.19735931904476367,
          0.19900633476720028,
          0.1990055082443543
         ]
        },
        {
         "boxpoints": "all",
         "jitter": 0.2,
         "line": {
          "color": "#00CC96"
         },
         "marker": {
          "color": "#00CC96",
          "line": {
           "color": "black",
           "width": 1
          },
          "opacity": 0.7,
          "symbol": "circle"
         },
         "name": "Linear growth rate in cm^3/day",
         "pointpos": -1.5,
         "type": "box",
         "visible": false,
         "y": [
          0.10853691868755867,
          0.10827363420095738,
          0.10853691780207202,
          0.10853690078647607,
          0.10827366948785568,
          0.08364587418734562,
          0.1085369158125252,
          0.10853694339670594,
          0.10827361921617316,
          0.10827369338277179
         ]
        },
        {
         "boxpoints": "all",
         "jitter": 0.2,
         "line": {
          "color": "#AB63FA"
         },
         "marker": {
          "color": "#AB63FA",
          "line": {
           "color": "black",
           "width": 1
          },
          "opacity": 0.7,
          "symbol": "circle"
         },
         "name": "Score",
         "pointpos": -1.5,
         "type": "box",
         "visible": false,
         "y": [
          0.25885734650737224,
          0.2588580403358694,
          0.25885734650684333,
          0.25885734650645503,
          0.25885804033636767,
          0.287945946671264,
          0.2588573465076448,
          0.25885734650719133,
          0.2588580403356818,
          0.25885804033699056
         ]
        },
        {
         "boxpoints": "all",
         "jitter": 0.2,
         "line": {
          "color": "#636EFA"
         },
         "marker": {
          "color": "#636EFA",
          "line": {
           "color": "black",
           "width": 1
          },
          "opacity": 0.7,
          "symbol": "circle"
         },
         "name": "Initial tumour volume in cm^3",
         "pointpos": -1.5,
         "type": "box",
         "visible": false,
         "y": [
          0.12332977966156766,
          0.12380939680622383,
          0.1233298304290303,
          0.12380945621335232,
          0.12332981839874418,
          0.12332975799788044,
          0.12380950016695166,
          0.12380943222870659,
          0.1238178791244636,
          0.12332984502352981
         ]
        },
        {
         "boxpoints": "all",
         "jitter": 0.2,
         "line": {
          "color": "#EF553B"
         },
         "marker": {
          "color": "#EF553B",
          "line": {
           "color": "black",
           "width": 1
          },
          "opacity": 0.7,
          "symbol": "circle"
         },
         "name": "Exponential growth rate in 1/day",
         "pointpos": -1.5,
         "type": "box",
         "visible": false,
         "y": [
          0.04352117579768446,
          0.04303163989740282,
          0.04352116174764521,
          0.04303161550262676,
          0.04352116136971142,
          0.04352118329829368,
          0.04303161110858325,
          0.043031633097236614,
          0.042985046435527884,
          0.043521152968351254
         ]
        },
        {
         "boxpoints": "all",
         "jitter": 0.2,
         "line": {
          "color": "#00CC96"
         },
         "marker": {
          "color": "#00CC96",
          "line": {
           "color": "black",
           "width": 1
          },
          "opacity": 0.7,
          "symbol": "circle"
         },
         "name": "Linear growth rate in cm^3/day",
         "pointpos": -1.5,
         "type": "box",
         "visible": false,
         "y": [
          0.07139562096097982,
          0.07299521206428083,
          0.07139562647491077,
          0.07299520403868795,
          0.07139561902080482,
          0.07139562123036879,
          0.0729952213901877,
          0.07299522014839831,
          0.07319363930129619,
          0.07139562032040271
         ]
        },
        {
         "boxpoints": "all",
         "jitter": 0.2,
         "line": {
          "color": "#AB63FA"
         },
         "marker": {
          "color": "#AB63FA",
          "line": {
           "color": "black",
           "width": 1
          },
          "opacity": 0.7,
          "symbol": "circle"
         },
         "name": "Score",
         "pointpos": -1.5,
         "type": "box",
         "visible": false,
         "y": [
          0.002916019145864722,
          0.0029152929592450366,
          0.0029160191458489,
          0.0029152929592706346,
          0.002916019145854895,
          0.002916019145784468,
          0.0029152929591661487,
          0.0029152929591233345,
          0.0029154163316993656,
          0.00291601914581609
         ]
        },
        {
         "boxpoints": "all",
         "jitter": 0.2,
         "line": {
          "color": "#636EFA"
         },
         "marker": {
          "color": "#636EFA",
          "line": {
           "color": "black",
           "width": 1
          },
          "opacity": 0.7,
          "symbol": "circle"
         },
         "name": "Initial tumour volume in cm^3",
         "pointpos": -1.5,
         "type": "box",
         "visible": false,
         "y": [
          0.08701895715606392,
          0.08701114331558771,
          0.087047806422338,
          0.08710914269010074,
          0.0870478330048205,
          0.08710914847447174,
          0.08704782729503312,
          0.0870405915395547,
          0.08700600007536195,
          0.08704783497004434
         ]
        },
        {
         "boxpoints": "all",
         "jitter": 0.2,
         "line": {
          "color": "#EF553B"
         },
         "marker": {
          "color": "#EF553B",
          "line": {
           "color": "black",
           "width": 1
          },
          "opacity": 0.7,
          "symbol": "circle"
         },
         "name": "Exponential growth rate in 1/day",
         "pointpos": -1.5,
         "type": "box",
         "visible": false,
         "y": [
          0.036176797497038615,
          0.03618510398337434,
          0.0361721615230318,
          0.036118346145486896,
          0.03617215515924832,
          0.03611834615959378,
          0.03617215556189543,
          0.03617555632501728,
          0.03618379875300149,
          0.03617215461145966
         ]
        },
        {
         "boxpoints": "all",
         "jitter": 0.2,
         "line": {
          "color": "#00CC96"
         },
         "marker": {
          "color": "#00CC96",
          "line": {
           "color": "black",
           "width": 1
          },
          "opacity": 0.7,
          "symbol": "circle"
         },
         "name": "Linear growth rate in cm^3/day",
         "pointpos": -1.5,
         "type": "box",
         "visible": false,
         "y": [
          0.1930409721596083,
          0.19317025140241123,
          0.19325839499870295,
          0.19534756504179987,
          0.1932584185059418,
          0.19534757763993357,
          0.19325840793904528,
          0.19314655315717597,
          0.1932120870396048,
          0.19325841975800653
         ]
        },
        {
         "boxpoints": "all",
         "jitter": 0.2,
         "line": {
          "color": "#AB63FA"
         },
         "marker": {
          "color": "#AB63FA",
          "line": {
           "color": "black",
           "width": 1
          },
          "opacity": 0.7,
          "symbol": "circle"
         },
         "name": "Score",
         "pointpos": -1.5,
         "type": "box",
         "visible": false,
         "y": [
          0.0023157018933869264,
          0.0023156224231451676,
          0.002315593340783343,
          0.0023157352352754187,
          0.002315593340785007,
          0.0023157352352838646,
          0.0023155933407832956,
          0.0023156018774206856,
          0.002315614194249467,
          0.002315593340786571
         ]
        }
       ],
       "layout": {
        "autosize": true,
        "legend": {
         "x": 1.05,
         "xanchor": "left",
         "y": 0.01,
         "yanchor": "bottom"
        },
        "template": {
         "data": {
          "bar": [
           {
            "error_x": {
             "color": "#2a3f5f"
            },
            "error_y": {
             "color": "#2a3f5f"
            },
            "marker": {
             "line": {
              "color": "white",
              "width": 0.5
             }
            },
            "type": "bar"
           }
          ],
          "barpolar": [
           {
            "marker": {
             "line": {
              "color": "white",
              "width": 0.5
             }
            },
            "type": "barpolar"
           }
          ],
          "carpet": [
           {
            "aaxis": {
             "endlinecolor": "#2a3f5f",
             "gridcolor": "#C8D4E3",
             "linecolor": "#C8D4E3",
             "minorgridcolor": "#C8D4E3",
             "startlinecolor": "#2a3f5f"
            },
            "baxis": {
             "endlinecolor": "#2a3f5f",
             "gridcolor": "#C8D4E3",
             "linecolor": "#C8D4E3",
             "minorgridcolor": "#C8D4E3",
             "startlinecolor": "#2a3f5f"
            },
            "type": "carpet"
           }
          ],
          "choropleth": [
           {
            "colorbar": {
             "outlinewidth": 0,
             "ticks": ""
            },
            "type": "choropleth"
           }
          ],
          "contour": [
           {
            "colorbar": {
             "outlinewidth": 0,
             "ticks": ""
            },
            "colorscale": [
             [
              0,
              "#0d0887"
             ],
             [
              0.1111111111111111,
              "#46039f"
             ],
             [
              0.2222222222222222,
              "#7201a8"
             ],
             [
              0.3333333333333333,
              "#9c179e"
             ],
             [
              0.4444444444444444,
              "#bd3786"
             ],
             [
              0.5555555555555556,
              "#d8576b"
             ],
             [
              0.6666666666666666,
              "#ed7953"
             ],
             [
              0.7777777777777778,
              "#fb9f3a"
             ],
             [
              0.8888888888888888,
              "#fdca26"
             ],
             [
              1,
              "#f0f921"
             ]
            ],
            "type": "contour"
           }
          ],
          "contourcarpet": [
           {
            "colorbar": {
             "outlinewidth": 0,
             "ticks": ""
            },
            "type": "contourcarpet"
           }
          ],
          "heatmap": [
           {
            "colorbar": {
             "outlinewidth": 0,
             "ticks": ""
            },
            "colorscale": [
             [
              0,
              "#0d0887"
             ],
             [
              0.1111111111111111,
              "#46039f"
             ],
             [
              0.2222222222222222,
              "#7201a8"
             ],
             [
              0.3333333333333333,
              "#9c179e"
             ],
             [
              0.4444444444444444,
              "#bd3786"
             ],
             [
              0.5555555555555556,
              "#d8576b"
             ],
             [
              0.6666666666666666,
              "#ed7953"
             ],
             [
              0.7777777777777778,
              "#fb9f3a"
             ],
             [
              0.8888888888888888,
              "#fdca26"
             ],
             [
              1,
              "#f0f921"
             ]
            ],
            "type": "heatmap"
           }
          ],
          "heatmapgl": [
           {
            "colorbar": {
             "outlinewidth": 0,
             "ticks": ""
            },
            "colorscale": [
             [
              0,
              "#0d0887"
             ],
             [
              0.1111111111111111,
              "#46039f"
             ],
             [
              0.2222222222222222,
              "#7201a8"
             ],
             [
              0.3333333333333333,
              "#9c179e"
             ],
             [
              0.4444444444444444,
              "#bd3786"
             ],
             [
              0.5555555555555556,
              "#d8576b"
             ],
             [
              0.6666666666666666,
              "#ed7953"
             ],
             [
              0.7777777777777778,
              "#fb9f3a"
             ],
             [
              0.8888888888888888,
              "#fdca26"
             ],
             [
              1,
              "#f0f921"
             ]
            ],
            "type": "heatmapgl"
           }
          ],
          "histogram": [
           {
            "marker": {
             "colorbar": {
              "outlinewidth": 0,
              "ticks": ""
             }
            },
            "type": "histogram"
           }
          ],
          "histogram2d": [
           {
            "colorbar": {
             "outlinewidth": 0,
             "ticks": ""
            },
            "colorscale": [
             [
              0,
              "#0d0887"
             ],
             [
              0.1111111111111111,
              "#46039f"
             ],
             [
              0.2222222222222222,
              "#7201a8"
             ],
             [
              0.3333333333333333,
              "#9c179e"
             ],
             [
              0.4444444444444444,
              "#bd3786"
             ],
             [
              0.5555555555555556,
              "#d8576b"
             ],
             [
              0.6666666666666666,
              "#ed7953"
             ],
             [
              0.7777777777777778,
              "#fb9f3a"
             ],
             [
              0.8888888888888888,
              "#fdca26"
             ],
             [
              1,
              "#f0f921"
             ]
            ],
            "type": "histogram2d"
           }
          ],
          "histogram2dcontour": [
           {
            "colorbar": {
             "outlinewidth": 0,
             "ticks": ""
            },
            "colorscale": [
             [
              0,
              "#0d0887"
             ],
             [
              0.1111111111111111,
              "#46039f"
             ],
             [
              0.2222222222222222,
              "#7201a8"
             ],
             [
              0.3333333333333333,
              "#9c179e"
             ],
             [
              0.4444444444444444,
              "#bd3786"
             ],
             [
              0.5555555555555556,
              "#d8576b"
             ],
             [
              0.6666666666666666,
              "#ed7953"
             ],
             [
              0.7777777777777778,
              "#fb9f3a"
             ],
             [
              0.8888888888888888,
              "#fdca26"
             ],
             [
              1,
              "#f0f921"
             ]
            ],
            "type": "histogram2dcontour"
           }
          ],
          "mesh3d": [
           {
            "colorbar": {
             "outlinewidth": 0,
             "ticks": ""
            },
            "type": "mesh3d"
           }
          ],
          "parcoords": [
           {
            "line": {
             "colorbar": {
              "outlinewidth": 0,
              "ticks": ""
             }
            },
            "type": "parcoords"
           }
          ],
          "pie": [
           {
            "automargin": true,
            "type": "pie"
           }
          ],
          "scatter": [
           {
            "marker": {
             "colorbar": {
              "outlinewidth": 0,
              "ticks": ""
             }
            },
            "type": "scatter"
           }
          ],
          "scatter3d": [
           {
            "line": {
             "colorbar": {
              "outlinewidth": 0,
              "ticks": ""
             }
            },
            "marker": {
             "colorbar": {
              "outlinewidth": 0,
              "ticks": ""
             }
            },
            "type": "scatter3d"
           }
          ],
          "scattercarpet": [
           {
            "marker": {
             "colorbar": {
              "outlinewidth": 0,
              "ticks": ""
             }
            },
            "type": "scattercarpet"
           }
          ],
          "scattergeo": [
           {
            "marker": {
             "colorbar": {
              "outlinewidth": 0,
              "ticks": ""
             }
            },
            "type": "scattergeo"
           }
          ],
          "scattergl": [
           {
            "marker": {
             "colorbar": {
              "outlinewidth": 0,
              "ticks": ""
             }
            },
            "type": "scattergl"
           }
          ],
          "scattermapbox": [
           {
            "marker": {
             "colorbar": {
              "outlinewidth": 0,
              "ticks": ""
             }
            },
            "type": "scattermapbox"
           }
          ],
          "scatterpolar": [
           {
            "marker": {
             "colorbar": {
              "outlinewidth": 0,
              "ticks": ""
             }
            },
            "type": "scatterpolar"
           }
          ],
          "scatterpolargl": [
           {
            "marker": {
             "colorbar": {
              "outlinewidth": 0,
              "ticks": ""
             }
            },
            "type": "scatterpolargl"
           }
          ],
          "scatterternary": [
           {
            "marker": {
             "colorbar": {
              "outlinewidth": 0,
              "ticks": ""
             }
            },
            "type": "scatterternary"
           }
          ],
          "surface": [
           {
            "colorbar": {
             "outlinewidth": 0,
             "ticks": ""
            },
            "colorscale": [
             [
              0,
              "#0d0887"
             ],
             [
              0.1111111111111111,
              "#46039f"
             ],
             [
              0.2222222222222222,
              "#7201a8"
             ],
             [
              0.3333333333333333,
              "#9c179e"
             ],
             [
              0.4444444444444444,
              "#bd3786"
             ],
             [
              0.5555555555555556,
              "#d8576b"
             ],
             [
              0.6666666666666666,
              "#ed7953"
             ],
             [
              0.7777777777777778,
              "#fb9f3a"
             ],
             [
              0.8888888888888888,
              "#fdca26"
             ],
             [
              1,
              "#f0f921"
             ]
            ],
            "type": "surface"
           }
          ],
          "table": [
           {
            "cells": {
             "fill": {
              "color": "#EBF0F8"
             },
             "line": {
              "color": "white"
             }
            },
            "header": {
             "fill": {
              "color": "#C8D4E3"
             },
             "line": {
              "color": "white"
             }
            },
            "type": "table"
           }
          ]
         },
         "layout": {
          "annotationdefaults": {
           "arrowcolor": "#2a3f5f",
           "arrowhead": 0,
           "arrowwidth": 1
          },
          "coloraxis": {
           "colorbar": {
            "outlinewidth": 0,
            "ticks": ""
           }
          },
          "colorscale": {
           "diverging": [
            [
             0,
             "#8e0152"
            ],
            [
             0.1,
             "#c51b7d"
            ],
            [
             0.2,
             "#de77ae"
            ],
            [
             0.3,
             "#f1b6da"
            ],
            [
             0.4,
             "#fde0ef"
            ],
            [
             0.5,
             "#f7f7f7"
            ],
            [
             0.6,
             "#e6f5d0"
            ],
            [
             0.7,
             "#b8e186"
            ],
            [
             0.8,
             "#7fbc41"
            ],
            [
             0.9,
             "#4d9221"
            ],
            [
             1,
             "#276419"
            ]
           ],
           "sequential": [
            [
             0,
             "#0d0887"
            ],
            [
             0.1111111111111111,
             "#46039f"
            ],
            [
             0.2222222222222222,
             "#7201a8"
            ],
            [
             0.3333333333333333,
             "#9c179e"
            ],
            [
             0.4444444444444444,
             "#bd3786"
            ],
            [
             0.5555555555555556,
             "#d8576b"
            ],
            [
             0.6666666666666666,
             "#ed7953"
            ],
            [
             0.7777777777777778,
             "#fb9f3a"
            ],
            [
             0.8888888888888888,
             "#fdca26"
            ],
            [
             1,
             "#f0f921"
            ]
           ],
           "sequentialminus": [
            [
             0,
             "#0d0887"
            ],
            [
             0.1111111111111111,
             "#46039f"
            ],
            [
             0.2222222222222222,
             "#7201a8"
            ],
            [
             0.3333333333333333,
             "#9c179e"
            ],
            [
             0.4444444444444444,
             "#bd3786"
            ],
            [
             0.5555555555555556,
             "#d8576b"
            ],
            [
             0.6666666666666666,
             "#ed7953"
            ],
            [
             0.7777777777777778,
             "#fb9f3a"
            ],
            [
             0.8888888888888888,
             "#fdca26"
            ],
            [
             1,
             "#f0f921"
            ]
           ]
          },
          "colorway": [
           "#636efa",
           "#EF553B",
           "#00cc96",
           "#ab63fa",
           "#FFA15A",
           "#19d3f3",
           "#FF6692",
           "#B6E880",
           "#FF97FF",
           "#FECB52"
          ],
          "font": {
           "color": "#2a3f5f"
          },
          "geo": {
           "bgcolor": "white",
           "lakecolor": "white",
           "landcolor": "white",
           "showlakes": true,
           "showland": true,
           "subunitcolor": "#C8D4E3"
          },
          "hoverlabel": {
           "align": "left"
          },
          "hovermode": "closest",
          "mapbox": {
           "style": "light"
          },
          "paper_bgcolor": "white",
          "plot_bgcolor": "white",
          "polar": {
           "angularaxis": {
            "gridcolor": "#EBF0F8",
            "linecolor": "#EBF0F8",
            "ticks": ""
           },
           "bgcolor": "white",
           "radialaxis": {
            "gridcolor": "#EBF0F8",
            "linecolor": "#EBF0F8",
            "ticks": ""
           }
          },
          "scene": {
           "xaxis": {
            "backgroundcolor": "white",
            "gridcolor": "#DFE8F3",
            "gridwidth": 2,
            "linecolor": "#EBF0F8",
            "showbackground": true,
            "ticks": "",
            "zerolinecolor": "#EBF0F8"
           },
           "yaxis": {
            "backgroundcolor": "white",
            "gridcolor": "#DFE8F3",
            "gridwidth": 2,
            "linecolor": "#EBF0F8",
            "showbackground": true,
            "ticks": "",
            "zerolinecolor": "#EBF0F8"
           },
           "zaxis": {
            "backgroundcolor": "white",
            "gridcolor": "#DFE8F3",
            "gridwidth": 2,
            "linecolor": "#EBF0F8",
            "showbackground": true,
            "ticks": "",
            "zerolinecolor": "#EBF0F8"
           }
          },
          "shapedefaults": {
           "line": {
            "color": "#2a3f5f"
           }
          },
          "ternary": {
           "aaxis": {
            "gridcolor": "#DFE8F3",
            "linecolor": "#A2B1C6",
            "ticks": ""
           },
           "baxis": {
            "gridcolor": "#DFE8F3",
            "linecolor": "#A2B1C6",
            "ticks": ""
           },
           "bgcolor": "white",
           "caxis": {
            "gridcolor": "#DFE8F3",
            "linecolor": "#A2B1C6",
            "ticks": ""
           }
          },
          "title": {
           "x": 0.05
          },
          "xaxis": {
           "automargin": true,
           "gridcolor": "#EBF0F8",
           "linecolor": "#EBF0F8",
           "ticks": "",
           "title": {
            "standoff": 15
           },
           "zerolinecolor": "#EBF0F8",
           "zerolinewidth": 2
          },
          "yaxis": {
           "automargin": true,
           "gridcolor": "#EBF0F8",
           "linecolor": "#EBF0F8",
           "ticks": "",
           "title": {
            "standoff": 15
           },
           "zerolinecolor": "#EBF0F8",
           "zerolinewidth": 2
          }
         }
        },
        "updatemenus": [
         {
          "buttons": [
           {
            "args": [
             {
              "visible": [
               true,
               true,
               true,
               true,
               false,
               false,
               false,
               false,
               false,
               false,
               false,
               false,
               false,
               false,
               false,
               false,
               false,
               false,
               false,
               false,
               false,
               false,
               false,
               false,
               false,
               false,
               false,
               false,
               false,
               false,
               false,
               false
              ]
             }
            ],
            "label": "ID: 40",
            "method": "restyle"
           },
           {
            "args": [
             {
              "visible": [
               false,
               false,
               false,
               false,
               true,
               true,
               true,
               true,
               false,
               false,
               false,
               false,
               false,
               false,
               false,
               false,
               false,
               false,
               false,
               false,
               false,
               false,
               false,
               false,
               false,
               false,
               false,
               false,
               false,
               false,
               false,
               false
              ]
             }
            ],
            "label": "ID: 94",
            "method": "restyle"
           },
           {
            "args": [
             {
              "visible": [
               false,
               false,
               false,
               false,
               false,
               false,
               false,
               false,
               true,
               true,
               true,
               true,
               false,
               false,
               false,
               false,
               false,
               false,
               false,
               false,
               false,
               false,
               false,
               false,
               false,
               false,
               false,
               false,
               false,
               false,
               false,
               false
              ]
             }
            ],
            "label": "ID: 95",
            "method": "restyle"
           },
           {
            "args": [
             {
              "visible": [
               false,
               false,
               false,
               false,
               false,
               false,
               false,
               false,
               false,
               false,
               false,
               false,
               true,
               true,
               true,
               true,
               false,
               false,
               false,
               false,
               false,
               false,
               false,
               false,
               false,
               false,
               false,
               false,
               false,
               false,
               false,
               false
              ]
             }
            ],
            "label": "ID: 136",
            "method": "restyle"
           },
           {
            "args": [
             {
              "visible": [
               false,
               false,
               false,
               false,
               false,
               false,
               false,
               false,
               false,
               false,
               false,
               false,
               false,
               false,
               false,
               false,
               true,
               true,
               true,
               true,
               false,
               false,
               false,
               false,
               false,
               false,
               false,
               false,
               false,
               false,
               false,
               false
              ]
             }
            ],
            "label": "ID: 140",
            "method": "restyle"
           },
           {
            "args": [
             {
              "visible": [
               false,
               false,
               false,
               false,
               false,
               false,
               false,
               false,
               false,
               false,
               false,
               false,
               false,
               false,
               false,
               false,
               false,
               false,
               false,
               false,
               true,
               true,
               true,
               true,
               false,
               false,
               false,
               false,
               false,
               false,
               false,
               false
              ]
             }
            ],
            "label": "ID: 155",
            "method": "restyle"
           },
           {
            "args": [
             {
              "visible": [
               false,
               false,
               false,
               false,
               false,
               false,
               false,
               false,
               false,
               false,
               false,
               false,
               false,
               false,
               false,
               false,
               false,
               false,
               false,
               false,
               false,
               false,
               false,
               false,
               true,
               true,
               true,
               true,
               false,
               false,
               false,
               false
              ]
             }
            ],
            "label": "ID: 169",
            "method": "restyle"
           },
           {
            "args": [
             {
              "visible": [
               false,
               false,
               false,
               false,
               false,
               false,
               false,
               false,
               false,
               false,
               false,
               false,
               false,
               false,
               false,
               false,
               false,
               false,
               false,
               false,
               false,
               false,
               false,
               false,
               false,
               false,
               false,
               false,
               true,
               true,
               true,
               true
              ]
             }
            ],
            "label": "ID: 170",
            "method": "restyle"
           }
          ],
          "direction": "right",
          "pad": {
           "r": 0,
           "t": -10
          },
          "showactive": true,
          "type": "buttons",
          "x": 0,
          "xanchor": "left",
          "y": 1.1,
          "yanchor": "top"
         }
        ]
       }
      },
      "text/html": [
       "<div>\n",
       "        \n",
       "        \n",
       "            <div id=\"d95783c0-62df-4d57-a9fb-24c0756d7665\" class=\"plotly-graph-div\" style=\"height:525px; width:100%;\"></div>\n",
       "            <script type=\"text/javascript\">\n",
       "                require([\"plotly\"], function(Plotly) {\n",
       "                    window.PLOTLYENV=window.PLOTLYENV || {};\n",
       "                    \n",
       "                if (document.getElementById(\"d95783c0-62df-4d57-a9fb-24c0756d7665\")) {\n",
       "                    Plotly.newPlot(\n",
       "                        'd95783c0-62df-4d57-a9fb-24c0756d7665',\n",
       "                        [{\"boxpoints\": \"all\", \"jitter\": 0.2, \"line\": {\"color\": \"#636EFA\"}, \"marker\": {\"color\": \"#636EFA\", \"line\": {\"color\": \"black\", \"width\": 1}, \"opacity\": 0.7, \"symbol\": \"circle\"}, \"name\": \"Initial tumour volume in cm^3\", \"pointpos\": -1.5, \"type\": \"box\", \"visible\": true, \"y\": [0.13919276924727553, 0.1393825913552939, 0.13926091496297482, 0.1395526934730309, 0.1393233827116885, 0.13929787746369882, 0.13950083954312403, 0.13945458469564845, 0.13932308436844137, 0.13954637859377453]}, {\"boxpoints\": \"all\", \"jitter\": 0.2, \"line\": {\"color\": \"#EF553B\"}, \"marker\": {\"color\": \"#EF553B\", \"line\": {\"color\": \"black\", \"width\": 1}, \"opacity\": 0.7, \"symbol\": \"circle\"}, \"name\": \"Exponential growth rate in 1/day\", \"pointpos\": -1.5, \"type\": \"box\", \"visible\": true, \"y\": [0.2756019558125923, 0.2752641684609353, 0.2754993142014071, 0.27494612246020866, 0.2754114958941548, 0.2753857408611185, 0.27497619985868027, 0.2751633934420117, 0.2754119451337784, 0.27496057552490094]}, {\"boxpoints\": \"all\", \"jitter\": 0.2, \"line\": {\"color\": \"#00CC96\"}, \"marker\": {\"color\": \"#00CC96\", \"line\": {\"color\": \"black\", \"width\": 1}, \"opacity\": 0.7, \"symbol\": \"circle\"}, \"name\": \"Linear growth rate in cm^3/day\", \"pointpos\": -1.5, \"type\": \"box\", \"visible\": true, \"y\": [0.130940631799957, 0.130967564784696, 0.13095581432240366, 0.13097616404640683, 0.13096883942260062, 0.13095241904703653, 0.13095589129634552, 0.130989459686877, 0.13096877832515044, 0.13098392209183862]}, {\"boxpoints\": \"all\", \"jitter\": 0.2, \"line\": {\"color\": \"#AB63FA\"}, \"marker\": {\"color\": \"#AB63FA\", \"line\": {\"color\": \"black\", \"width\": 1}, \"opacity\": 0.7, \"symbol\": \"circle\"}, \"name\": \"Score\", \"pointpos\": -1.5, \"type\": \"box\", \"visible\": true, \"y\": [0.03186062799275207, 0.03186048514320033, 0.03186032216822964, 0.0318608290800345, 0.031860188089662934, 0.031860873606283965, 0.031862094342221405, 0.031860474453445746, 0.03186018809240841, 0.03186071623832946]}, {\"boxpoints\": \"all\", \"jitter\": 0.2, \"line\": {\"color\": \"#636EFA\"}, \"marker\": {\"color\": \"#636EFA\", \"line\": {\"color\": \"black\", \"width\": 1}, \"opacity\": 0.7, \"symbol\": \"circle\"}, \"name\": \"Initial tumour volume in cm^3\", \"pointpos\": -1.5, \"type\": \"box\", \"visible\": false, \"y\": [0.07460091222105544, 0.07443685382987536, 0.07454257912120527, 0.07443700321242427, 0.0747992742529079, 0.0745547755024388, 0.07479927551174735, 0.057526707355627996, 0.0744373633861524, 0.07455482335087578]}, {\"boxpoints\": \"all\", \"jitter\": 0.2, \"line\": {\"color\": \"#EF553B\"}, \"marker\": {\"color\": \"#EF553B\", \"line\": {\"color\": \"black\", \"width\": 1}, \"opacity\": 0.7, \"symbol\": \"circle\"}, \"name\": \"Exponential growth rate in 1/day\", \"pointpos\": -1.5, \"type\": \"box\", \"visible\": false, \"y\": [0.16536800987495168, 0.16940028228063359, 0.1679526595727639, 0.16939992270672413, 0.16503518878442738, 0.16791095642763543, 0.16503518495166725, 390.8480308490011, 0.16939904336781808, 0.16791093038078456]}, {\"boxpoints\": \"all\", \"jitter\": 0.2, \"line\": {\"color\": \"#00CC96\"}, \"marker\": {\"color\": \"#00CC96\", \"line\": {\"color\": \"black\", \"width\": 1}, \"opacity\": 0.7, \"symbol\": \"circle\"}, \"name\": \"Linear growth rate in cm^3/day\", \"pointpos\": -1.5, \"type\": \"box\", \"visible\": false, \"y\": [0.020393821605137096, 0.020274561026714523, 0.020315791052554693, 0.020274556565054516, 0.020388812803669082, 0.02031386553542157, 0.02038881265561109, 0.016439697910691012, 0.020274544274485332, 0.020313874503319482]}, {\"boxpoints\": \"all\", \"jitter\": 0.2, \"line\": {\"color\": \"#AB63FA\"}, \"marker\": {\"color\": \"#AB63FA\", \"line\": {\"color\": \"black\", \"width\": 1}, \"opacity\": 0.7, \"symbol\": \"circle\"}, \"name\": \"Score\", \"pointpos\": -1.5, \"type\": \"box\", \"visible\": false, \"y\": [0.007450648499193944, 0.007448563912883328, 0.007448226999777552, 0.0074485639130945835, 0.007450327517828544, 0.00744821782035877, 0.007450327517819774, 0.008274291669388588, 0.007448563913725603, 0.007448217820535804]}, {\"boxpoints\": \"all\", \"jitter\": 0.2, \"line\": {\"color\": \"#636EFA\"}, \"marker\": {\"color\": \"#636EFA\", \"line\": {\"color\": \"black\", \"width\": 1}, \"opacity\": 0.7, \"symbol\": \"circle\"}, \"name\": \"Initial tumour volume in cm^3\", \"pointpos\": -1.5, \"type\": \"box\", \"visible\": false, \"y\": [0.22106913942661868, 0.22106914143795117, 0.22106913897534716, 0.0033981517689429808, 0.22106914312288575, 0.22106914295215194, 0.2210691409656733, 0.221069132220249, 0.22106914144814735, 0.22106914878199282]}, {\"boxpoints\": \"all\", \"jitter\": 0.2, \"line\": {\"color\": \"#EF553B\"}, \"marker\": {\"color\": \"#EF553B\", \"line\": {\"color\": \"black\", \"width\": 1}, \"opacity\": 0.7, \"symbol\": \"circle\"}, \"name\": \"Exponential growth rate in 1/day\", \"pointpos\": -1.5, \"type\": \"box\", \"visible\": false, \"y\": [0.05553423935403408, 0.055534239410003954, 0.05553423935380728, 999.0805551619661, 0.05553423891875885, 0.05553423956795481, 0.05553423942721459, 0.055534240237615426, 0.05553423896529252, 0.05553423857909948]}, {\"boxpoints\": \"all\", \"jitter\": 0.2, \"line\": {\"color\": \"#00CC96\"}, \"marker\": {\"color\": \"#00CC96\", \"line\": {\"color\": \"black\", \"width\": 1}, \"opacity\": 0.7, \"symbol\": \"circle\"}, \"name\": \"Linear growth rate in cm^3/day\", \"pointpos\": -1.5, \"type\": \"box\", \"visible\": false, \"y\": [999.9999999986248, 999.9999999527478, 999.9999999831865, 0.08813513970246464, 999.9999999848279, 999.9999999903613, 999.9999999852231, 999.9999999791524, 999.9999999949948, 999.999999979077]}, {\"boxpoints\": \"all\", \"jitter\": 0.2, \"line\": {\"color\": \"#AB63FA\"}, \"marker\": {\"color\": \"#AB63FA\", \"line\": {\"color\": \"black\", \"width\": 1}, \"opacity\": 0.7, \"symbol\": \"circle\"}, \"name\": \"Score\", \"pointpos\": -1.5, \"type\": \"box\", \"visible\": false, \"y\": [0.0993183674990339, 0.09931836749903304, 0.09931836749903757, 0.5376140165247733, 0.09931836749903568, 0.09931836749903487, 0.09931836749903476, 0.09931836749903106, 0.09931836749903253, 0.09931836749903526]}, {\"boxpoints\": \"all\", \"jitter\": 0.2, \"line\": {\"color\": \"#636EFA\"}, \"marker\": {\"color\": \"#636EFA\", \"line\": {\"color\": \"black\", \"width\": 1}, \"opacity\": 0.7, \"symbol\": \"circle\"}, \"name\": \"Initial tumour volume in cm^3\", \"pointpos\": -1.5, \"type\": \"box\", \"visible\": false, \"y\": [0.1481505084873295, 0.14903750248779096, 0.14899827925627152, 0.1489849904371094, 0.14891707443316562, 0.1484202496477121, 0.1485517654686136, 0.1491017345398812, 0.14862888485756207, 0.14902297102009773]}, {\"boxpoints\": \"all\", \"jitter\": 0.2, \"line\": {\"color\": \"#EF553B\"}, \"marker\": {\"color\": \"#EF553B\", \"line\": {\"color\": \"black\", \"width\": 1}, \"opacity\": 0.7, \"symbol\": \"circle\"}, \"name\": \"Exponential growth rate in 1/day\", \"pointpos\": -1.5, \"type\": \"box\", \"visible\": false, \"y\": [0.05479736979446461, 0.05425893673564967, 0.054256607134634344, 0.054266241275508116, 0.054287586619988025, 0.054745581733220666, 0.0547173997739065, 0.0545532872478183, 0.05468288639028309, 0.05425531355582151]}, {\"boxpoints\": \"all\", \"jitter\": 0.2, \"line\": {\"color\": \"#00CC96\"}, \"marker\": {\"color\": \"#00CC96\", \"line\": {\"color\": \"black\", \"width\": 1}, \"opacity\": 0.7, \"symbol\": \"circle\"}, \"name\": \"Linear growth rate in cm^3/day\", \"pointpos\": -1.5, \"type\": \"box\", \"visible\": false, \"y\": [0.12676740907392334, 0.12878859278574203, 0.12879856218475258, 0.1288075690877382, 0.12875537198380135, 0.12688361776537263, 0.12672972656945497, 0.12688157110157208, 0.12681886606424245, 0.12881401373864912]}, {\"boxpoints\": \"all\", \"jitter\": 0.2, \"line\": {\"color\": \"#AB63FA\"}, \"marker\": {\"color\": \"#AB63FA\", \"line\": {\"color\": \"black\", \"width\": 1}, \"opacity\": 0.7, \"symbol\": \"circle\"}, \"name\": \"Score\", \"pointpos\": -1.5, \"type\": \"box\", \"visible\": false, \"y\": [0.04018035915429626, 0.040184758620663966, 0.040185109628370914, 0.04018455237826866, 0.04018471951449029, 0.04018231422430599, 0.040182082615779484, 0.04018733503901925, 0.040181756160195974, 0.04018458188190811]}, {\"boxpoints\": \"all\", \"jitter\": 0.2, \"line\": {\"color\": \"#636EFA\"}, \"marker\": {\"color\": \"#636EFA\", \"line\": {\"color\": \"black\", \"width\": 1}, \"opacity\": 0.7, \"symbol\": \"circle\"}, \"name\": \"Initial tumour volume in cm^3\", \"pointpos\": -1.5, \"type\": \"box\", \"visible\": false, \"y\": [0.08430032996963435, 0.08430035773509043, 0.08430034898703909, 0.08430039461690399, 0.0843003707731004, 0.08430033252688948, 0.08430036143851671, 0.08430034192091733, 0.08430032812771936, 0.08430036852629788]}, {\"boxpoints\": \"all\", \"jitter\": 0.2, \"line\": {\"color\": \"#EF553B\"}, \"marker\": {\"color\": \"#EF553B\", \"line\": {\"color\": \"black\", \"width\": 1}, \"opacity\": 0.7, \"symbol\": \"circle\"}, \"name\": \"Exponential growth rate in 1/day\", \"pointpos\": -1.5, \"type\": \"box\", \"visible\": false, \"y\": [0.05412915307779471, 0.05412914836404497, 0.05412915084126272, 0.054129140998950366, 0.05412914464788496, 0.054129152581042, 0.054129148507569, 0.05412915073313357, 0.05412915365318979, 0.05412914578547555]}, {\"boxpoints\": \"all\", \"jitter\": 0.2, \"line\": {\"color\": \"#00CC96\"}, \"marker\": {\"color\": \"#00CC96\", \"line\": {\"color\": \"black\", \"width\": 1}, \"opacity\": 0.7, \"symbol\": \"circle\"}, \"name\": \"Linear growth rate in cm^3/day\", \"pointpos\": -1.5, \"type\": \"box\", \"visible\": false, \"y\": [999.9999997474507, 999.9999994594837, 999.9999960338861, 999.9999991151707, 999.9999980372578, 999.9999996398692, 999.9999995754603, 999.9999985391959, 999.9999999877411, 999.9999999960252]}, {\"boxpoints\": \"all\", \"jitter\": 0.2, \"line\": {\"color\": \"#AB63FA\"}, \"marker\": {\"color\": \"#AB63FA\", \"line\": {\"color\": \"black\", \"width\": 1}, \"opacity\": 0.7, \"symbol\": \"circle\"}, \"name\": \"Score\", \"pointpos\": -1.5, \"type\": \"box\", \"visible\": false, \"y\": [0.14589083590903149, 0.14589083590898044, 0.14589083590894902, 0.14589083590917676, 0.14589083590907295, 0.14589083590912877, 0.14589083590884525, 0.14589083590909965, 0.14589083590898783, 0.14589083590886556]}, {\"boxpoints\": \"all\", \"jitter\": 0.2, \"line\": {\"color\": \"#636EFA\"}, \"marker\": {\"color\": \"#636EFA\", \"line\": {\"color\": \"black\", \"width\": 1}, \"opacity\": 0.7, \"symbol\": \"circle\"}, \"name\": \"Initial tumour volume in cm^3\", \"pointpos\": -1.5, \"type\": \"box\", \"visible\": false, \"y\": [0.1332741328342255, 0.13289511644846788, 0.1332742131239166, 0.13327403030374815, 0.13289532512764682, 0.0010481961952744344, 0.13327425528343814, 0.1332743413402371, 0.13289509500559346, 0.13289573488957493]}, {\"boxpoints\": \"all\", \"jitter\": 0.2, \"line\": {\"color\": \"#EF553B\"}, \"marker\": {\"color\": \"#EF553B\", \"line\": {\"color\": \"black\", \"width\": 1}, \"opacity\": 0.7, \"symbol\": \"circle\"}, \"name\": \"Exponential growth rate in 1/day\", \"pointpos\": -1.5, \"type\": \"box\", \"visible\": false, \"y\": [0.19735958088035274, 0.19900633007595092, 0.19735946116599723, 0.19735969932697878, 0.1990060809734414, 5.622344130859304, 0.1973593953388395, 0.19735931904476367, 0.19900633476720028, 0.1990055082443543]}, {\"boxpoints\": \"all\", \"jitter\": 0.2, \"line\": {\"color\": \"#00CC96\"}, \"marker\": {\"color\": \"#00CC96\", \"line\": {\"color\": \"black\", \"width\": 1}, \"opacity\": 0.7, \"symbol\": \"circle\"}, \"name\": \"Linear growth rate in cm^3/day\", \"pointpos\": -1.5, \"type\": \"box\", \"visible\": false, \"y\": [0.10853691868755867, 0.10827363420095738, 0.10853691780207202, 0.10853690078647607, 0.10827366948785568, 0.08364587418734562, 0.1085369158125252, 0.10853694339670594, 0.10827361921617316, 0.10827369338277179]}, {\"boxpoints\": \"all\", \"jitter\": 0.2, \"line\": {\"color\": \"#AB63FA\"}, \"marker\": {\"color\": \"#AB63FA\", \"line\": {\"color\": \"black\", \"width\": 1}, \"opacity\": 0.7, \"symbol\": \"circle\"}, \"name\": \"Score\", \"pointpos\": -1.5, \"type\": \"box\", \"visible\": false, \"y\": [0.25885734650737224, 0.2588580403358694, 0.25885734650684333, 0.25885734650645503, 0.25885804033636767, 0.287945946671264, 0.2588573465076448, 0.25885734650719133, 0.2588580403356818, 0.25885804033699056]}, {\"boxpoints\": \"all\", \"jitter\": 0.2, \"line\": {\"color\": \"#636EFA\"}, \"marker\": {\"color\": \"#636EFA\", \"line\": {\"color\": \"black\", \"width\": 1}, \"opacity\": 0.7, \"symbol\": \"circle\"}, \"name\": \"Initial tumour volume in cm^3\", \"pointpos\": -1.5, \"type\": \"box\", \"visible\": false, \"y\": [0.12332977966156766, 0.12380939680622383, 0.1233298304290303, 0.12380945621335232, 0.12332981839874418, 0.12332975799788044, 0.12380950016695166, 0.12380943222870659, 0.1238178791244636, 0.12332984502352981]}, {\"boxpoints\": \"all\", \"jitter\": 0.2, \"line\": {\"color\": \"#EF553B\"}, \"marker\": {\"color\": \"#EF553B\", \"line\": {\"color\": \"black\", \"width\": 1}, \"opacity\": 0.7, \"symbol\": \"circle\"}, \"name\": \"Exponential growth rate in 1/day\", \"pointpos\": -1.5, \"type\": \"box\", \"visible\": false, \"y\": [0.04352117579768446, 0.04303163989740282, 0.04352116174764521, 0.04303161550262676, 0.04352116136971142, 0.04352118329829368, 0.04303161110858325, 0.043031633097236614, 0.042985046435527884, 0.043521152968351254]}, {\"boxpoints\": \"all\", \"jitter\": 0.2, \"line\": {\"color\": \"#00CC96\"}, \"marker\": {\"color\": \"#00CC96\", \"line\": {\"color\": \"black\", \"width\": 1}, \"opacity\": 0.7, \"symbol\": \"circle\"}, \"name\": \"Linear growth rate in cm^3/day\", \"pointpos\": -1.5, \"type\": \"box\", \"visible\": false, \"y\": [0.07139562096097982, 0.07299521206428083, 0.07139562647491077, 0.07299520403868795, 0.07139561902080482, 0.07139562123036879, 0.0729952213901877, 0.07299522014839831, 0.07319363930129619, 0.07139562032040271]}, {\"boxpoints\": \"all\", \"jitter\": 0.2, \"line\": {\"color\": \"#AB63FA\"}, \"marker\": {\"color\": \"#AB63FA\", \"line\": {\"color\": \"black\", \"width\": 1}, \"opacity\": 0.7, \"symbol\": \"circle\"}, \"name\": \"Score\", \"pointpos\": -1.5, \"type\": \"box\", \"visible\": false, \"y\": [0.002916019145864722, 0.0029152929592450366, 0.0029160191458489, 0.0029152929592706346, 0.002916019145854895, 0.002916019145784468, 0.0029152929591661487, 0.0029152929591233345, 0.0029154163316993656, 0.00291601914581609]}, {\"boxpoints\": \"all\", \"jitter\": 0.2, \"line\": {\"color\": \"#636EFA\"}, \"marker\": {\"color\": \"#636EFA\", \"line\": {\"color\": \"black\", \"width\": 1}, \"opacity\": 0.7, \"symbol\": \"circle\"}, \"name\": \"Initial tumour volume in cm^3\", \"pointpos\": -1.5, \"type\": \"box\", \"visible\": false, \"y\": [0.08701895715606392, 0.08701114331558771, 0.087047806422338, 0.08710914269010074, 0.0870478330048205, 0.08710914847447174, 0.08704782729503312, 0.0870405915395547, 0.08700600007536195, 0.08704783497004434]}, {\"boxpoints\": \"all\", \"jitter\": 0.2, \"line\": {\"color\": \"#EF553B\"}, \"marker\": {\"color\": \"#EF553B\", \"line\": {\"color\": \"black\", \"width\": 1}, \"opacity\": 0.7, \"symbol\": \"circle\"}, \"name\": \"Exponential growth rate in 1/day\", \"pointpos\": -1.5, \"type\": \"box\", \"visible\": false, \"y\": [0.036176797497038615, 0.03618510398337434, 0.0361721615230318, 0.036118346145486896, 0.03617215515924832, 0.03611834615959378, 0.03617215556189543, 0.03617555632501728, 0.03618379875300149, 0.03617215461145966]}, {\"boxpoints\": \"all\", \"jitter\": 0.2, \"line\": {\"color\": \"#00CC96\"}, \"marker\": {\"color\": \"#00CC96\", \"line\": {\"color\": \"black\", \"width\": 1}, \"opacity\": 0.7, \"symbol\": \"circle\"}, \"name\": \"Linear growth rate in cm^3/day\", \"pointpos\": -1.5, \"type\": \"box\", \"visible\": false, \"y\": [0.1930409721596083, 0.19317025140241123, 0.19325839499870295, 0.19534756504179987, 0.1932584185059418, 0.19534757763993357, 0.19325840793904528, 0.19314655315717597, 0.1932120870396048, 0.19325841975800653]}, {\"boxpoints\": \"all\", \"jitter\": 0.2, \"line\": {\"color\": \"#AB63FA\"}, \"marker\": {\"color\": \"#AB63FA\", \"line\": {\"color\": \"black\", \"width\": 1}, \"opacity\": 0.7, \"symbol\": \"circle\"}, \"name\": \"Score\", \"pointpos\": -1.5, \"type\": \"box\", \"visible\": false, \"y\": [0.0023157018933869264, 0.0023156224231451676, 0.002315593340783343, 0.0023157352352754187, 0.002315593340785007, 0.0023157352352838646, 0.0023155933407832956, 0.0023156018774206856, 0.002315614194249467, 0.002315593340786571]}],\n",
       "                        {\"autosize\": true, \"legend\": {\"x\": 1.05, \"xanchor\": \"left\", \"y\": 0.01, \"yanchor\": \"bottom\"}, \"template\": {\"data\": {\"bar\": [{\"error_x\": {\"color\": \"#2a3f5f\"}, \"error_y\": {\"color\": \"#2a3f5f\"}, \"marker\": {\"line\": {\"color\": \"white\", \"width\": 0.5}}, \"type\": \"bar\"}], \"barpolar\": [{\"marker\": {\"line\": {\"color\": \"white\", \"width\": 0.5}}, \"type\": \"barpolar\"}], \"carpet\": [{\"aaxis\": {\"endlinecolor\": \"#2a3f5f\", \"gridcolor\": \"#C8D4E3\", \"linecolor\": \"#C8D4E3\", \"minorgridcolor\": \"#C8D4E3\", \"startlinecolor\": \"#2a3f5f\"}, \"baxis\": {\"endlinecolor\": \"#2a3f5f\", \"gridcolor\": \"#C8D4E3\", \"linecolor\": \"#C8D4E3\", \"minorgridcolor\": \"#C8D4E3\", \"startlinecolor\": \"#2a3f5f\"}, \"type\": \"carpet\"}], \"choropleth\": [{\"colorbar\": {\"outlinewidth\": 0, \"ticks\": \"\"}, \"type\": \"choropleth\"}], \"contour\": [{\"colorbar\": {\"outlinewidth\": 0, \"ticks\": \"\"}, \"colorscale\": [[0.0, \"#0d0887\"], [0.1111111111111111, \"#46039f\"], [0.2222222222222222, \"#7201a8\"], [0.3333333333333333, \"#9c179e\"], [0.4444444444444444, \"#bd3786\"], [0.5555555555555556, \"#d8576b\"], [0.6666666666666666, \"#ed7953\"], [0.7777777777777778, \"#fb9f3a\"], [0.8888888888888888, \"#fdca26\"], [1.0, \"#f0f921\"]], \"type\": \"contour\"}], \"contourcarpet\": [{\"colorbar\": {\"outlinewidth\": 0, \"ticks\": \"\"}, \"type\": \"contourcarpet\"}], \"heatmap\": [{\"colorbar\": {\"outlinewidth\": 0, \"ticks\": \"\"}, \"colorscale\": [[0.0, \"#0d0887\"], [0.1111111111111111, \"#46039f\"], [0.2222222222222222, \"#7201a8\"], [0.3333333333333333, \"#9c179e\"], [0.4444444444444444, \"#bd3786\"], [0.5555555555555556, \"#d8576b\"], [0.6666666666666666, \"#ed7953\"], [0.7777777777777778, \"#fb9f3a\"], [0.8888888888888888, \"#fdca26\"], [1.0, \"#f0f921\"]], \"type\": \"heatmap\"}], \"heatmapgl\": [{\"colorbar\": {\"outlinewidth\": 0, \"ticks\": \"\"}, \"colorscale\": [[0.0, \"#0d0887\"], [0.1111111111111111, \"#46039f\"], [0.2222222222222222, \"#7201a8\"], [0.3333333333333333, \"#9c179e\"], [0.4444444444444444, \"#bd3786\"], [0.5555555555555556, \"#d8576b\"], [0.6666666666666666, \"#ed7953\"], [0.7777777777777778, \"#fb9f3a\"], [0.8888888888888888, \"#fdca26\"], [1.0, \"#f0f921\"]], \"type\": \"heatmapgl\"}], \"histogram\": [{\"marker\": {\"colorbar\": {\"outlinewidth\": 0, \"ticks\": \"\"}}, \"type\": \"histogram\"}], \"histogram2d\": [{\"colorbar\": {\"outlinewidth\": 0, \"ticks\": \"\"}, \"colorscale\": [[0.0, \"#0d0887\"], [0.1111111111111111, \"#46039f\"], [0.2222222222222222, \"#7201a8\"], [0.3333333333333333, \"#9c179e\"], [0.4444444444444444, \"#bd3786\"], [0.5555555555555556, \"#d8576b\"], [0.6666666666666666, \"#ed7953\"], [0.7777777777777778, \"#fb9f3a\"], [0.8888888888888888, \"#fdca26\"], [1.0, \"#f0f921\"]], \"type\": \"histogram2d\"}], \"histogram2dcontour\": [{\"colorbar\": {\"outlinewidth\": 0, \"ticks\": \"\"}, \"colorscale\": [[0.0, \"#0d0887\"], [0.1111111111111111, \"#46039f\"], [0.2222222222222222, \"#7201a8\"], [0.3333333333333333, \"#9c179e\"], [0.4444444444444444, \"#bd3786\"], [0.5555555555555556, \"#d8576b\"], [0.6666666666666666, \"#ed7953\"], [0.7777777777777778, \"#fb9f3a\"], [0.8888888888888888, \"#fdca26\"], [1.0, \"#f0f921\"]], \"type\": \"histogram2dcontour\"}], \"mesh3d\": [{\"colorbar\": {\"outlinewidth\": 0, \"ticks\": \"\"}, \"type\": \"mesh3d\"}], \"parcoords\": [{\"line\": {\"colorbar\": {\"outlinewidth\": 0, \"ticks\": \"\"}}, \"type\": \"parcoords\"}], \"pie\": [{\"automargin\": true, \"type\": \"pie\"}], \"scatter\": [{\"marker\": {\"colorbar\": {\"outlinewidth\": 0, \"ticks\": \"\"}}, \"type\": \"scatter\"}], \"scatter3d\": [{\"line\": {\"colorbar\": {\"outlinewidth\": 0, \"ticks\": \"\"}}, \"marker\": {\"colorbar\": {\"outlinewidth\": 0, \"ticks\": \"\"}}, \"type\": \"scatter3d\"}], \"scattercarpet\": [{\"marker\": {\"colorbar\": {\"outlinewidth\": 0, \"ticks\": \"\"}}, \"type\": \"scattercarpet\"}], \"scattergeo\": [{\"marker\": {\"colorbar\": {\"outlinewidth\": 0, \"ticks\": \"\"}}, \"type\": \"scattergeo\"}], \"scattergl\": [{\"marker\": {\"colorbar\": {\"outlinewidth\": 0, \"ticks\": \"\"}}, \"type\": \"scattergl\"}], \"scattermapbox\": [{\"marker\": {\"colorbar\": {\"outlinewidth\": 0, \"ticks\": \"\"}}, \"type\": \"scattermapbox\"}], \"scatterpolar\": [{\"marker\": {\"colorbar\": {\"outlinewidth\": 0, \"ticks\": \"\"}}, \"type\": \"scatterpolar\"}], \"scatterpolargl\": [{\"marker\": {\"colorbar\": {\"outlinewidth\": 0, \"ticks\": \"\"}}, \"type\": \"scatterpolargl\"}], \"scatterternary\": [{\"marker\": {\"colorbar\": {\"outlinewidth\": 0, \"ticks\": \"\"}}, \"type\": \"scatterternary\"}], \"surface\": [{\"colorbar\": {\"outlinewidth\": 0, \"ticks\": \"\"}, \"colorscale\": [[0.0, \"#0d0887\"], [0.1111111111111111, \"#46039f\"], [0.2222222222222222, \"#7201a8\"], [0.3333333333333333, \"#9c179e\"], [0.4444444444444444, \"#bd3786\"], [0.5555555555555556, \"#d8576b\"], [0.6666666666666666, \"#ed7953\"], [0.7777777777777778, \"#fb9f3a\"], [0.8888888888888888, \"#fdca26\"], [1.0, \"#f0f921\"]], \"type\": \"surface\"}], \"table\": [{\"cells\": {\"fill\": {\"color\": \"#EBF0F8\"}, \"line\": {\"color\": \"white\"}}, \"header\": {\"fill\": {\"color\": \"#C8D4E3\"}, \"line\": {\"color\": \"white\"}}, \"type\": \"table\"}]}, \"layout\": {\"annotationdefaults\": {\"arrowcolor\": \"#2a3f5f\", \"arrowhead\": 0, \"arrowwidth\": 1}, \"coloraxis\": {\"colorbar\": {\"outlinewidth\": 0, \"ticks\": \"\"}}, \"colorscale\": {\"diverging\": [[0, \"#8e0152\"], [0.1, \"#c51b7d\"], [0.2, \"#de77ae\"], [0.3, \"#f1b6da\"], [0.4, \"#fde0ef\"], [0.5, \"#f7f7f7\"], [0.6, \"#e6f5d0\"], [0.7, \"#b8e186\"], [0.8, \"#7fbc41\"], [0.9, \"#4d9221\"], [1, \"#276419\"]], \"sequential\": [[0.0, \"#0d0887\"], [0.1111111111111111, \"#46039f\"], [0.2222222222222222, \"#7201a8\"], [0.3333333333333333, \"#9c179e\"], [0.4444444444444444, \"#bd3786\"], [0.5555555555555556, \"#d8576b\"], [0.6666666666666666, \"#ed7953\"], [0.7777777777777778, \"#fb9f3a\"], [0.8888888888888888, \"#fdca26\"], [1.0, \"#f0f921\"]], \"sequentialminus\": [[0.0, \"#0d0887\"], [0.1111111111111111, \"#46039f\"], [0.2222222222222222, \"#7201a8\"], [0.3333333333333333, \"#9c179e\"], [0.4444444444444444, \"#bd3786\"], [0.5555555555555556, \"#d8576b\"], [0.6666666666666666, \"#ed7953\"], [0.7777777777777778, \"#fb9f3a\"], [0.8888888888888888, \"#fdca26\"], [1.0, \"#f0f921\"]]}, \"colorway\": [\"#636efa\", \"#EF553B\", \"#00cc96\", \"#ab63fa\", \"#FFA15A\", \"#19d3f3\", \"#FF6692\", \"#B6E880\", \"#FF97FF\", \"#FECB52\"], \"font\": {\"color\": \"#2a3f5f\"}, \"geo\": {\"bgcolor\": \"white\", \"lakecolor\": \"white\", \"landcolor\": \"white\", \"showlakes\": true, \"showland\": true, \"subunitcolor\": \"#C8D4E3\"}, \"hoverlabel\": {\"align\": \"left\"}, \"hovermode\": \"closest\", \"mapbox\": {\"style\": \"light\"}, \"paper_bgcolor\": \"white\", \"plot_bgcolor\": \"white\", \"polar\": {\"angularaxis\": {\"gridcolor\": \"#EBF0F8\", \"linecolor\": \"#EBF0F8\", \"ticks\": \"\"}, \"bgcolor\": \"white\", \"radialaxis\": {\"gridcolor\": \"#EBF0F8\", \"linecolor\": \"#EBF0F8\", \"ticks\": \"\"}}, \"scene\": {\"xaxis\": {\"backgroundcolor\": \"white\", \"gridcolor\": \"#DFE8F3\", \"gridwidth\": 2, \"linecolor\": \"#EBF0F8\", \"showbackground\": true, \"ticks\": \"\", \"zerolinecolor\": \"#EBF0F8\"}, \"yaxis\": {\"backgroundcolor\": \"white\", \"gridcolor\": \"#DFE8F3\", \"gridwidth\": 2, \"linecolor\": \"#EBF0F8\", \"showbackground\": true, \"ticks\": \"\", \"zerolinecolor\": \"#EBF0F8\"}, \"zaxis\": {\"backgroundcolor\": \"white\", \"gridcolor\": \"#DFE8F3\", \"gridwidth\": 2, \"linecolor\": \"#EBF0F8\", \"showbackground\": true, \"ticks\": \"\", \"zerolinecolor\": \"#EBF0F8\"}}, \"shapedefaults\": {\"line\": {\"color\": \"#2a3f5f\"}}, \"ternary\": {\"aaxis\": {\"gridcolor\": \"#DFE8F3\", \"linecolor\": \"#A2B1C6\", \"ticks\": \"\"}, \"baxis\": {\"gridcolor\": \"#DFE8F3\", \"linecolor\": \"#A2B1C6\", \"ticks\": \"\"}, \"bgcolor\": \"white\", \"caxis\": {\"gridcolor\": \"#DFE8F3\", \"linecolor\": \"#A2B1C6\", \"ticks\": \"\"}}, \"title\": {\"x\": 0.05}, \"xaxis\": {\"automargin\": true, \"gridcolor\": \"#EBF0F8\", \"linecolor\": \"#EBF0F8\", \"ticks\": \"\", \"title\": {\"standoff\": 15}, \"zerolinecolor\": \"#EBF0F8\", \"zerolinewidth\": 2}, \"yaxis\": {\"automargin\": true, \"gridcolor\": \"#EBF0F8\", \"linecolor\": \"#EBF0F8\", \"ticks\": \"\", \"title\": {\"standoff\": 15}, \"zerolinecolor\": \"#EBF0F8\", \"zerolinewidth\": 2}}}, \"updatemenus\": [{\"buttons\": [{\"args\": [{\"visible\": [true, true, true, true, false, false, false, false, false, false, false, false, false, false, false, false, false, false, false, false, false, false, false, false, false, false, false, false, false, false, false, false]}], \"label\": \"ID: 40\", \"method\": \"restyle\"}, {\"args\": [{\"visible\": [false, false, false, false, true, true, true, true, false, false, false, false, false, false, false, false, false, false, false, false, false, false, false, false, false, false, false, false, false, false, false, false]}], \"label\": \"ID: 94\", \"method\": \"restyle\"}, {\"args\": [{\"visible\": [false, false, false, false, false, false, false, false, true, true, true, true, false, false, false, false, false, false, false, false, false, false, false, false, false, false, false, false, false, false, false, false]}], \"label\": \"ID: 95\", \"method\": \"restyle\"}, {\"args\": [{\"visible\": [false, false, false, false, false, false, false, false, false, false, false, false, true, true, true, true, false, false, false, false, false, false, false, false, false, false, false, false, false, false, false, false]}], \"label\": \"ID: 136\", \"method\": \"restyle\"}, {\"args\": [{\"visible\": [false, false, false, false, false, false, false, false, false, false, false, false, false, false, false, false, true, true, true, true, false, false, false, false, false, false, false, false, false, false, false, false]}], \"label\": \"ID: 140\", \"method\": \"restyle\"}, {\"args\": [{\"visible\": [false, false, false, false, false, false, false, false, false, false, false, false, false, false, false, false, false, false, false, false, true, true, true, true, false, false, false, false, false, false, false, false]}], \"label\": \"ID: 155\", \"method\": \"restyle\"}, {\"args\": [{\"visible\": [false, false, false, false, false, false, false, false, false, false, false, false, false, false, false, false, false, false, false, false, false, false, false, false, true, true, true, true, false, false, false, false]}], \"label\": \"ID: 169\", \"method\": \"restyle\"}, {\"args\": [{\"visible\": [false, false, false, false, false, false, false, false, false, false, false, false, false, false, false, false, false, false, false, false, false, false, false, false, false, false, false, false, true, true, true, true]}], \"label\": \"ID: 170\", \"method\": \"restyle\"}], \"direction\": \"right\", \"pad\": {\"r\": 0, \"t\": -10}, \"showactive\": true, \"type\": \"buttons\", \"x\": 0.0, \"xanchor\": \"left\", \"y\": 1.1, \"yanchor\": \"top\"}]},\n",
       "                        {\"responsive\": true}\n",
       "                    ).then(function(){\n",
       "                            \n",
       "var gd = document.getElementById('d95783c0-62df-4d57-a9fb-24c0756d7665');\n",
       "var x = new MutationObserver(function (mutations, observer) {{\n",
       "        var display = window.getComputedStyle(gd).display;\n",
       "        if (!display || display === 'none') {{\n",
       "            console.log([gd, 'removed!']);\n",
       "            Plotly.purge(gd);\n",
       "            observer.disconnect();\n",
       "        }}\n",
       "}});\n",
       "\n",
       "// Listen for the removal of the full notebook cells\n",
       "var notebookContainer = gd.closest('#notebook-container');\n",
       "if (notebookContainer) {{\n",
       "    x.observe(notebookContainer, {childList: true});\n",
       "}}\n",
       "\n",
       "// Listen for the clearing of the current output cell\n",
       "var outputEl = gd.closest('.output');\n",
       "if (outputEl) {{\n",
       "    x.observe(outputEl, {childList: true});\n",
       "}}\n",
       "\n",
       "                        })\n",
       "                };\n",
       "                });\n",
       "            </script>\n",
       "        </div>"
      ]
     },
     "metadata": {},
     "output_type": "display_data"
    }
   ],
   "source": [
    "#\n",
    "# Visualisation of the spread of optimised model parameters for multiple runs from different initial points.\n",
    "#\n",
    "# This cell needs the above optimised initial parameter from psi_0=(1, 1, 1) and the five runs from a random initial starting point, and their respective objective function scores, as well as the data\n",
    "# [mouse_parameters_multi_runs_log_transformed, mouse_scores_multi_runs_log_transformed, data]\n",
    "#\n",
    "\n",
    "import plotly.colors\n",
    "import plotly.graph_objects as go\n",
    "\n",
    "\n",
    "# Get mouse ids\n",
    "mouse_ids = data['#ID'].unique()\n",
    "\n",
    "# Get number of parameters + score (for visualisation)\n",
    "n_params = mouse_parameters_multi_runs_log_transformed.shape[2] + 1\n",
    "\n",
    "# Define colorscheme\n",
    "colors = plotly.colors.qualitative.Plotly[:n_params]\n",
    "\n",
    "# Get optimised parameters\n",
    "optimised_parameters = mouse_parameters_multi_runs_log_transformed\n",
    "\n",
    "# Get optimised parameters\n",
    "scores = mouse_scores_multi_runs_log_transformed\n",
    "\n",
    "# Create figure\n",
    "fig = go.Figure()\n",
    "\n",
    "# Box plot of optimised model parameters\n",
    "for index, id_m in enumerate(mouse_ids):\n",
    "    # Get optimised parameters\n",
    "    parameters = optimised_parameters[index, ...]\n",
    "\n",
    "    # Get scores\n",
    "    score = scores[index, :]\n",
    "\n",
    "    # Create box plot of for initial tumour volume\n",
    "    fig.add_trace(\n",
    "        go.Box(\n",
    "            y=parameters[:, 0],  \n",
    "            name=\"Initial tumour volume in cm^3\",\n",
    "            boxpoints='all',\n",
    "            jitter=0.2,\n",
    "            pointpos=-1.5,\n",
    "            visible=True if index == 0 else False,\n",
    "            marker=dict(\n",
    "                symbol='circle',\n",
    "                opacity=0.7,\n",
    "                line=dict(color='black', width=1)),\n",
    "            marker_color=colors[0],\n",
    "            line_color=colors[0]))\n",
    "\n",
    "    # Create box plot of for exponential tumour growth\n",
    "    fig.add_trace(\n",
    "        go.Box(\n",
    "            y=parameters[:, 1],  \n",
    "            name=\"Exponential growth rate in 1/day\",\n",
    "            boxpoints='all',\n",
    "            jitter=0.2,\n",
    "            pointpos=-1.5,\n",
    "            visible=True if index == 0 else False,\n",
    "            marker=dict(\n",
    "                symbol='circle',\n",
    "                opacity=0.7,\n",
    "                line=dict(color='black', width=1)),\n",
    "            marker_color=colors[1],\n",
    "            line_color=colors[1]))\n",
    "\n",
    "    # Create box plot of for linear tumour growth\n",
    "    fig.add_trace(\n",
    "        go.Box(\n",
    "            y=parameters[:, 2],  \n",
    "            name=\"Linear growth rate in cm^3/day\",\n",
    "            boxpoints='all',\n",
    "            jitter=0.2,\n",
    "            pointpos=-1.5,\n",
    "            visible=True if index == 0 else False,\n",
    "            marker=dict(\n",
    "                symbol='circle',\n",
    "                opacity=0.7,\n",
    "                line=dict(color='black', width=1)),\n",
    "            marker_color=colors[2],\n",
    "            line_color=colors[2]))\n",
    "    \n",
    "    # Create box plot of for objective function score\n",
    "    fig.add_trace(\n",
    "        go.Box(\n",
    "            y=score,  \n",
    "            name=\"Score\",\n",
    "            boxpoints='all',\n",
    "            jitter=0.2,\n",
    "            pointpos=-1.5,\n",
    "            visible=True if index == 0 else False,\n",
    "            marker=dict(\n",
    "                symbol='circle',\n",
    "                opacity=0.7,\n",
    "                line=dict(color='black', width=1)),\n",
    "            marker_color=colors[3],\n",
    "            line_color=colors[3]))\n",
    "\n",
    "# Set figure size\n",
    "fig.update_layout(\n",
    "    autosize=True,\n",
    "    template=\"plotly_white\")\n",
    "\n",
    "# Add switch between mice\n",
    "fig.update_layout(\n",
    "    updatemenus=[\n",
    "        dict(\n",
    "            type = \"buttons\",\n",
    "            direction = \"right\",\n",
    "            buttons=list([\n",
    "                dict(\n",
    "                    args=[{\"visible\": [True]*4 + [False]*(4 * 7)}],\n",
    "                    label=\"ID: %d\" % mouse_ids[0],\n",
    "                    method=\"restyle\"\n",
    "                ),\n",
    "                dict(\n",
    "                    args=[{\"visible\": [False]*4 + [True]*4 + [False]*(4 * 6)}],\n",
    "                    label=\"ID: %d\" % mouse_ids[1],\n",
    "                    method=\"restyle\"\n",
    "                ),\n",
    "                dict(\n",
    "                    args=[{\"visible\": [False]*(4 * 2) + [True]*4 + [False]*(4 * 5)}],\n",
    "                    label=\"ID: %d\" % mouse_ids[2],\n",
    "                    method=\"restyle\"\n",
    "                ),\n",
    "                dict(\n",
    "                    args=[{\"visible\": [False]*(4 * 3) + [True]*4 + [False]*(4 * 4)}],\n",
    "                    label=\"ID: %d\" % mouse_ids[3],\n",
    "                    method=\"restyle\"\n",
    "                ),\n",
    "                dict(\n",
    "                    args=[{\"visible\": [False]*(4 * 4) + [True]*4 + [False]*(4 * 3)}],\n",
    "                    label=\"ID: %d\" % mouse_ids[4],\n",
    "                    method=\"restyle\"\n",
    "                ),\n",
    "                dict(\n",
    "                    args=[{\"visible\": [False]*(4 * 5) + [True]*4 + [False]*(4 * 2)}],\n",
    "                    label=\"ID: %d\" % mouse_ids[5],\n",
    "                    method=\"restyle\"\n",
    "                ),\n",
    "                dict(\n",
    "                    args=[{\"visible\": [False]*(4 * 6) + [True]*4 + [False]* 4}],\n",
    "                    label=\"ID: %d\" % mouse_ids[6],\n",
    "                    method=\"restyle\"\n",
    "                ),\n",
    "                dict(\n",
    "                    args=[{\"visible\": [False]*(4 * 7) + [True]*4}],\n",
    "                    label=\"ID: %d\" % mouse_ids[7],\n",
    "                    method=\"restyle\"\n",
    "                )\n",
    "            ]),\n",
    "            pad={\"r\": 0, \"t\": -10},\n",
    "            showactive=True,\n",
    "            x=0.0,\n",
    "            xanchor=\"left\",\n",
    "            y=1.1,\n",
    "            yanchor=\"top\"\n",
    "        )\n",
    "    ]\n",
    ")\n",
    "\n",
    "# Position legend\n",
    "fig.update_layout(legend=dict(\n",
    "    yanchor=\"bottom\",\n",
    "    y=0.01,\n",
    "    xanchor=\"left\",\n",
    "    x=1.05))\n",
    "\n",
    "# Show figure\n",
    "fig.show()\n"
   ]
  },
  {
   "cell_type": "markdown",
   "metadata": {},
   "source": [
    "**Figure 6**:"
   ]
  },
  {
   "cell_type": "markdown",
   "metadata": {},
   "source": [
    "## Non-dimensional model with log-transformed parameters"
   ]
  },
  {
   "cell_type": "code",
   "execution_count": 2,
   "metadata": {
    "tags": []
   },
   "outputs": [],
   "source": [
    "#\n",
    "# Run optimisation multiple times from random initial starting points.\n",
    "#\n",
    "\n",
    "import os\n",
    "\n",
    "import myokit\n",
    "import numpy as np\n",
    "import pandas as pd\n",
    "import pints\n",
    "\n",
    "\n",
    "# Define characteristic scales\n",
    "characteristic_volume = 1  # in cm^3\n",
    "characteristic_time = 1  # in day\n",
    "\n",
    "# Define number of optimisation runs for each individual\n",
    "n_runs = 10\n",
    "\n",
    "# Import data\n",
    "# Get path of current working directory\n",
    "path = os.getcwd()\n",
    "\n",
    "# Import LXF A677 control growth data\n",
    "data = pd.read_csv(path + '/data/lxf_control_growth.csv')\n",
    "\n",
    "# Define model\n",
    "path = pkpd.ModelLibrary().get_path('Tumour growth without treatment - dimensionless')\n",
    "model = pkpd.PharmacodynamicModel(path, is_log_transformed=True)\n",
    "\n",
    "# Define container for the structural model estimates\n",
    "# Shape (n_mice, n_runs, n_parameters)\n",
    "n_mice = len(data['#ID'].unique())\n",
    "n_parameters = 3\n",
    "mouse_parameters_dimless_log_transformed = np.empty(shape=(n_mice, n_runs, n_parameters))\n",
    "\n",
    "# Define container for the objective function score for the optimised parameters\n",
    "mouse_scores_dimless_log_transformed = np.empty(shape=(n_mice, n_runs))\n",
    "\n",
    "# Define random starting points over many orders of magnitude\n",
    "# Shape = (n_runs, n_parameters)\n",
    "initial_parameters = np.random.uniform(low=1E-3, high=1E3, size=(n_runs, n_parameters))\n",
    "\n",
    "# Find mouse parameters for LXF A677 population\n",
    "mouse_ids = data['#ID'].unique()\n",
    "for index, mouse_id in enumerate(mouse_ids):\n",
    "    # Create mask for mouse with specfied ID\n",
    "    mouse_mask = data['#ID'] == mouse_id\n",
    "\n",
    "    # Get relevant time points\n",
    "    times = data[mouse_mask]['TIME in day'].to_numpy() / characteristic_time\n",
    "\n",
    "    # Get measured tumour volumes\n",
    "    observed_volumes = data[mouse_mask]['TUMOUR VOLUME in cm^3'].to_numpy() / characteristic_volume\n",
    "\n",
    "    # Create inverse problem\n",
    "    problem = pints.SingleOutputProblem(model, times, observed_volumes)\n",
    "\n",
    "    # Create sum of squares error objective function\n",
    "    error = pints.SumOfSquaresError(problem)\n",
    "\n",
    "    # Create boundaries to biologically relevant values\n",
    "    boundary = pints.RectangularBoundaries(lower=np.log([1E-3]*3), upper=np.log([1E3]*3))\n",
    "\n",
    "    # Run optimisation multiple times\n",
    "    for run_id, initial_params in enumerate(initial_parameters):\n",
    "        # Transform parameters to log-scale\n",
    "        log_initial_params = np.log(initial_params)\n",
    "\n",
    "        # Create optimisation controller with a CMA-ES optimiser\n",
    "        optimiser = pints.OptimisationController(\n",
    "            function=error,\n",
    "            x0=log_initial_params,\n",
    "            boundaries=boundary,\n",
    "            method=pints.CMAES)\n",
    "\n",
    "        # Disable logging mode\n",
    "        optimiser.set_log_to_screen(False)\n",
    "\n",
    "        # Parallelise optimisation\n",
    "        optimiser.set_parallel(True)\n",
    "\n",
    "        # Find optimal parameters\n",
    "        try:\n",
    "            estimates, score = optimiser.run()\n",
    "        except:\n",
    "            # If inference breaks fill estimates with nan\n",
    "            estimates = np.array([np.nan, np.nan, np.nan])\n",
    "            score = np.nan\n",
    "\n",
    "        # Save estimates and score (back transformed to linear scale)\n",
    "        mouse_parameters_dimless_log_transformed[index, run_id, :] = np.exp(estimates)\n",
    "        mouse_scores_dimless_log_transformed[index, run_id] = score"
   ]
  },
  {
   "cell_type": "code",
   "execution_count": 4,
   "metadata": {},
   "outputs": [],
   "source": [
    "#\n",
    "# Transform dimensionless parameters back to biological parameters.\n",
    "# \n",
    "# This cell needs the above inferred dimensionless parameters and the characteristic volume and time scale:\n",
    "# [mouse_parameters_multi_runs_dimless, characteristic_volume, characteristic_time]\n",
    "#\n",
    "\n",
    "import numpy as np\n",
    "\n",
    "\n",
    "# Initialise container for backtransformed paramters\n",
    "# Shape (n_mice, n_runs, n_parameters)\n",
    "mouse_parameters_dimless_log_transformed_optimisation = np.empty(shape=mouse_parameters_dimless_log_transformed.shape)\n",
    "\n",
    "# Transform initial volumes\n",
    "mouse_parameters_dimless_log_transformed_optimisation[:, :, 0] = mouse_parameters_dimless_log_transformed[:, :, 0] * characteristic_volume\n",
    "\n",
    "# Transform exponential growth rate\n",
    "# lambda_0 = a_1 / a_0 /t^c\n",
    "mouse_parameters_dimless_log_transformed_optimisation[:, :, 1] = \\\n",
    "    mouse_parameters_dimless_log_transformed[:, :, 2] / 2 / mouse_parameters_dimless_log_transformed[:, :, 1] / characteristic_time\n",
    "\n",
    "# Transform linear growth rate\n",
    "# lambda_1 = a_1 / a_0 /t^c\n",
    "mouse_parameters_dimless_log_transformed_optimisation[:, :, 2] = \\\n",
    "    mouse_parameters_dimless_log_transformed[:, :, 2] * characteristic_volume / characteristic_time\n"
   ]
  },
  {
   "cell_type": "code",
   "execution_count": 22,
   "metadata": {},
   "outputs": [
    {
     "data": {
      "application/vnd.plotly.v1+json": {
       "config": {
        "plotlyServerURL": "https://plot.ly"
       },
       "data": [
        {
         "boxpoints": "all",
         "jitter": 0.2,
         "line": {
          "color": "#636EFA"
         },
         "marker": {
          "color": "#636EFA",
          "line": {
           "color": "black",
           "width": 1
          },
          "opacity": 0.7,
          "symbol": "circle"
         },
         "name": "Initial tumour volume in cm^3",
         "pointpos": -1.5,
         "type": "box",
         "visible": true,
         "y": [
          0.13983829873319853,
          0.14007982344804992,
          0.1399548888639088,
          0.13983987274952697,
          0.13932734486109344,
          0.13857994848817246,
          0.14135651141908864,
          0.13944896011364954,
          0.13863249109685577,
          0.138355123369633
         ]
        },
        {
         "boxpoints": "all",
         "jitter": 0.2,
         "line": {
          "color": "#EF553B"
         },
         "marker": {
          "color": "#EF553B",
          "line": {
           "color": "black",
           "width": 1
          },
          "opacity": 0.7,
          "symbol": "circle"
         },
         "name": "Exponential growth rate in 1/day",
         "pointpos": -1.5,
         "type": "box",
         "visible": true,
         "y": [
          0.2744261227344327,
          0.2739392294834647,
          0.27434271129641735,
          0.274421986233766,
          0.2753737271771192,
          0.27664434178073505,
          0.2717169366784129,
          0.2751482426827337,
          0.27654207483346915,
          0.2770484610945924
         ]
        },
        {
         "boxpoints": "all",
         "jitter": 0.2,
         "line": {
          "color": "#00CC96"
         },
         "marker": {
          "color": "#00CC96",
          "line": {
           "color": "black",
           "width": 1
          },
          "opacity": 0.7,
          "symbol": "circle"
         },
         "name": "Linear growth rate in cm^3/day",
         "pointpos": -1.5,
         "type": "box",
         "visible": true,
         "y": [
          0.13102190531120428,
          0.13100853336709142,
          0.1310517708482545,
          0.13098492684825921,
          0.13095682544321538,
          0.1308667783537486,
          0.13107383198018507,
          0.13098559761412382,
          0.13086889796444556,
          0.13087197312822113
         ]
        },
        {
         "boxpoints": "all",
         "jitter": 0.2,
         "line": {
          "color": "#AB63FA"
         },
         "marker": {
          "color": "#AB63FA",
          "line": {
           "color": "black",
           "width": 1
          },
          "opacity": 0.7,
          "symbol": "circle"
         },
         "name": "Score",
         "pointpos": -1.5,
         "type": "box",
         "visible": true,
         "y": [
          0.031861459110526985,
          0.03186357115504949,
          0.03186231076978173,
          0.031861989616298714,
          0.03186040474246982,
          0.03186367399240071,
          0.03187587652642702,
          0.03186054846201417,
          0.0318637514273931,
          0.031863786762465825
         ]
        },
        {
         "boxpoints": "all",
         "jitter": 0.2,
         "line": {
          "color": "#636EFA"
         },
         "marker": {
          "color": "#636EFA",
          "line": {
           "color": "black",
           "width": 1
          },
          "opacity": 0.7,
          "symbol": "circle"
         },
         "name": "Initial tumour volume in cm^3",
         "pointpos": -1.5,
         "type": "box",
         "visible": false,
         "y": [
          0.07479927613165054,
          0.07454962658633227,
          0.07443660493151147,
          0.07530396537899813,
          0.07454908430108526,
          0.07415834482212327,
          0.07449589367272998,
          0.07479928413939711,
          0.07479928897577087,
          0.07479931332971904
         ]
        },
        {
         "boxpoints": "all",
         "jitter": 0.2,
         "line": {
          "color": "#EF553B"
         },
         "marker": {
          "color": "#EF553B",
          "line": {
           "color": "black",
           "width": 1
          },
          "opacity": 0.7,
          "symbol": "circle"
         },
         "name": "Exponential growth rate in 1/day",
         "pointpos": -1.5,
         "type": "box",
         "visible": false,
         "y": [
          0.1650351972445622,
          0.16798334622203126,
          0.16940077696626052,
          0.15896807475748265,
          0.1679840563907493,
          0.16903100639837945,
          0.16792794649444778,
          0.165035164649611,
          0.1650351450844766,
          0.1650350918016813
         ]
        },
        {
         "boxpoints": "all",
         "jitter": 0.2,
         "line": {
          "color": "#00CC96"
         },
         "marker": {
          "color": "#00CC96",
          "line": {
           "color": "black",
           "width": 1
          },
          "opacity": 0.7,
          "symbol": "circle"
         },
         "name": "Linear growth rate in cm^3/day",
         "pointpos": -1.5,
         "type": "box",
         "visible": false,
         "y": [
          0.020388814333310964,
          0.02031195896874616,
          0.02027455596691281,
          0.020569163549300114,
          0.02031190607554203,
          0.020321121815964422,
          0.020292767388726176,
          0.02038881238601678,
          0.020388811220309902,
          0.020388810950362032
         ]
        },
        {
         "boxpoints": "all",
         "jitter": 0.2,
         "line": {
          "color": "#AB63FA"
         },
         "marker": {
          "color": "#AB63FA",
          "line": {
           "color": "black",
           "width": 1
          },
          "opacity": 0.7,
          "symbol": "circle"
         },
         "name": "Score",
         "pointpos": -1.5,
         "type": "box",
         "visible": false,
         "y": [
          0.007450327517829466,
          0.007448232537856347,
          0.007448563913658762,
          0.00745166887197908,
          0.007448232522265392,
          0.0074493012622735555,
          0.007449959042289224,
          0.007450327517827172,
          0.007450327517827524,
          0.0074503275178319775
         ]
        },
        {
         "boxpoints": "all",
         "jitter": 0.2,
         "line": {
          "color": "#636EFA"
         },
         "marker": {
          "color": "#636EFA",
          "line": {
           "color": "black",
           "width": 1
          },
          "opacity": 0.7,
          "symbol": "circle"
         },
         "name": "Initial tumour volume in cm^3",
         "pointpos": -1.5,
         "type": "box",
         "visible": false,
         "y": [
          0.22090437242426864,
          0.2209043815733419,
          0.22090438538230278,
          0.22090437422306372,
          0.2209043924733716,
          0.22090437609610564,
          0.2209043890817588,
          0.2209043927502329,
          0.220904387073551,
          0.2209043816822304
         ]
        },
        {
         "boxpoints": "all",
         "jitter": 0.2,
         "line": {
          "color": "#EF553B"
         },
         "marker": {
          "color": "#EF553B",
          "line": {
           "color": "black",
           "width": 1
          },
          "opacity": 0.7,
          "symbol": "circle"
         },
         "name": "Exponential growth rate in 1/day",
         "pointpos": -1.5,
         "type": "box",
         "visible": false,
         "y": [
          0.055592465720717896,
          0.05559246462041953,
          0.05559246441597493,
          0.05559246535890952,
          0.05559246362645107,
          0.055592465201474595,
          0.05559246350120928,
          0.055592463086603726,
          0.05559246396849609,
          0.05559246405639929
         ]
        },
        {
         "boxpoints": "all",
         "jitter": 0.2,
         "line": {
          "color": "#00CC96"
         },
         "marker": {
          "color": "#00CC96",
          "line": {
           "color": "black",
           "width": 1
          },
          "opacity": 0.7,
          "symbol": "circle"
         },
         "name": "Linear growth rate in cm^3/day",
         "pointpos": -1.5,
         "type": "box",
         "visible": false,
         "y": [
          111.18493143979302,
          111.18492924073149,
          111.1849288319205,
          111.18493071752542,
          111.18492725286845,
          111.18493040250745,
          111.1849270021746,
          111.18492617310086,
          111.18492793698248,
          111.18492811229818
         ]
        },
        {
         "boxpoints": "all",
         "jitter": 0.2,
         "line": {
          "color": "#AB63FA"
         },
         "marker": {
          "color": "#AB63FA",
          "line": {
           "color": "black",
           "width": 1
          },
          "opacity": 0.7,
          "symbol": "circle"
         },
         "name": "Score",
         "pointpos": -1.5,
         "type": "box",
         "visible": false,
         "y": [
          0.09948736196066213,
          0.0994873619606537,
          0.09948736196066464,
          0.099487361960657,
          0.09948736196066935,
          0.09948736196066313,
          0.09948736196066374,
          0.09948736196066457,
          0.0994873619606639,
          0.09948736196065791
         ]
        },
        {
         "boxpoints": "all",
         "jitter": 0.2,
         "line": {
          "color": "#636EFA"
         },
         "marker": {
          "color": "#636EFA",
          "line": {
           "color": "black",
           "width": 1
          },
          "opacity": 0.7,
          "symbol": "circle"
         },
         "name": "Initial tumour volume in cm^3",
         "pointpos": -1.5,
         "type": "box",
         "visible": false,
         "y": [
          0.14757463109207622,
          0.14891840799772157,
          0.14898030127517373,
          0.14869107466589096,
          0.14898530279291025,
          0.1482448383691893,
          0.1490695199429091,
          0.14903308124703546,
          0.1483736538868331,
          0.14974610777622285
         ]
        },
        {
         "boxpoints": "all",
         "jitter": 0.2,
         "line": {
          "color": "#EF553B"
         },
         "marker": {
          "color": "#EF553B",
          "line": {
           "color": "black",
           "width": 1
          },
          "opacity": 0.7,
          "symbol": "circle"
         },
         "name": "Exponential growth rate in 1/day",
         "pointpos": -1.5,
         "type": "box",
         "visible": false,
         "y": [
          0.05496538192445882,
          0.054283048649214856,
          0.054268430505623064,
          0.05466201308503514,
          0.054265050553798336,
          0.05478982557520019,
          0.05424633532635222,
          0.05425388008012529,
          0.054722039520234696,
          0.05373540331880301
         ]
        },
        {
         "boxpoints": "all",
         "jitter": 0.2,
         "line": {
          "color": "#00CC96"
         },
         "marker": {
          "color": "#00CC96",
          "line": {
           "color": "black",
           "width": 1
          },
          "opacity": 0.7,
          "symbol": "circle"
         },
         "name": "Linear growth rate in cm^3/day",
         "pointpos": -1.5,
         "type": "box",
         "visible": false,
         "y": [
          0.12655197388238595,
          0.1287915165377748,
          0.12881240821412163,
          0.12683851068984903,
          0.12881042946522425,
          0.12679538796974657,
          0.12878611567669385,
          0.12881886661318967,
          0.12675969342315335,
          0.13099981813549488
         ]
        },
        {
         "boxpoints": "all",
         "jitter": 0.2,
         "line": {
          "color": "#AB63FA"
         },
         "marker": {
          "color": "#AB63FA",
          "line": {
           "color": "black",
           "width": 1
          },
          "opacity": 0.7,
          "symbol": "circle"
         },
         "name": "Score",
         "pointpos": -1.5,
         "type": "box",
         "visible": false,
         "y": [
          0.04018510682817683,
          0.040184705747427614,
          0.04018529160831231,
          0.04018206068259415,
          0.04018554919471544,
          0.04018130495471484,
          0.04018467244507598,
          0.04018453900200692,
          0.04018205232635645,
          0.0401862104745401
         ]
        },
        {
         "boxpoints": "all",
         "jitter": 0.2,
         "line": {
          "color": "#636EFA"
         },
         "marker": {
          "color": "#636EFA",
          "line": {
           "color": "black",
           "width": 1
          },
          "opacity": 0.7,
          "symbol": "circle"
         },
         "name": "Initial tumour volume in cm^3",
         "pointpos": -1.5,
         "type": "box",
         "visible": false,
         "y": [
          0.0841766436002978,
          0.0841766555835959,
          0.08417666475144676,
          0.08417659456311197,
          0.08417662138412794,
          0.08417664912140449,
          0.08417664076105666,
          0.08417665475265622,
          0.08417666027962487,
          0.08417664717740479
         ]
        },
        {
         "boxpoints": "all",
         "jitter": 0.2,
         "line": {
          "color": "#EF553B"
         },
         "marker": {
          "color": "#EF553B",
          "line": {
           "color": "black",
           "width": 1
          },
          "opacity": 0.7,
          "symbol": "circle"
         },
         "name": "Exponential growth rate in 1/day",
         "pointpos": -1.5,
         "type": "box",
         "visible": false,
         "y": [
          0.05418268319274858,
          0.054182681669008276,
          0.05418267852621647,
          0.05418269501684887,
          0.05418268911549844,
          0.05418268164929326,
          0.054182684116769825,
          0.05418268006824232,
          0.05418267875473818,
          0.05418268370202336
         ]
        },
        {
         "boxpoints": "all",
         "jitter": 0.2,
         "line": {
          "color": "#00CC96"
         },
         "marker": {
          "color": "#00CC96",
          "line": {
           "color": "black",
           "width": 1
          },
          "opacity": 0.7,
          "symbol": "circle"
         },
         "name": "Linear growth rate in cm^3/day",
         "pointpos": -1.5,
         "type": "box",
         "visible": false,
         "y": [
          108.36536635780223,
          108.36536333666444,
          108.36535705232204,
          108.36539003079363,
          108.36537822931464,
          108.3653632958086,
          108.36536823353134,
          108.36536012561112,
          108.36535750834157,
          108.36536736541649
         ]
        },
        {
         "boxpoints": "all",
         "jitter": 0.2,
         "line": {
          "color": "#AB63FA"
         },
         "marker": {
          "color": "#AB63FA",
          "line": {
           "color": "black",
           "width": 1
          },
          "opacity": 0.7,
          "symbol": "circle"
         },
         "name": "Score",
         "pointpos": -1.5,
         "type": "box",
         "visible": false,
         "y": [
          0.1460431583366721,
          0.1460431583366587,
          0.14604315833664677,
          0.14604315833666504,
          0.14604315833673018,
          0.14604315833666925,
          0.14604315833672638,
          0.146043158336714,
          0.14604315833662973,
          0.14604315833669596
         ]
        },
        {
         "boxpoints": "all",
         "jitter": 0.2,
         "line": {
          "color": "#636EFA"
         },
         "marker": {
          "color": "#636EFA",
          "line": {
           "color": "black",
           "width": 1
          },
          "opacity": 0.7,
          "symbol": "circle"
         },
         "name": "Initial tumour volume in cm^3",
         "pointpos": -1.5,
         "type": "box",
         "visible": false,
         "y": [
          0.1328950238545739,
          0.13327404297584827,
          0.13327487621685685,
          0.13289527850742222,
          0.13327425707860205,
          0.13327413168704552,
          0.13327368144405008,
          0.1332740963693574,
          0.13327406503024272,
          0.132895133671451
         ]
        },
        {
         "boxpoints": "all",
         "jitter": 0.2,
         "line": {
          "color": "#EF553B"
         },
         "marker": {
          "color": "#EF553B",
          "line": {
           "color": "black",
           "width": 1
          },
          "opacity": 0.7,
          "symbol": "circle"
         },
         "name": "Exponential growth rate in 1/day",
         "pointpos": -1.5,
         "type": "box",
         "visible": false,
         "y": [
          0.19900644078813906,
          0.1973597094066088,
          0.19735865045279039,
          0.19900613748028223,
          0.19735944315855658,
          0.19735957625931966,
          0.1973601655407496,
          0.19735960499001295,
          0.19735964349078852,
          0.19900629952146692
         ]
        },
        {
         "boxpoints": "all",
         "jitter": 0.2,
         "line": {
          "color": "#00CC96"
         },
         "marker": {
          "color": "#00CC96",
          "line": {
           "color": "black",
           "width": 1
          },
          "opacity": 0.7,
          "symbol": "circle"
         },
         "name": "Linear growth rate in cm^3/day",
         "pointpos": -1.5,
         "type": "box",
         "visible": false,
         "y": [
          0.10827361866057054,
          0.1085369166202275,
          0.10853700863568906,
          0.10827366210457767,
          0.10853694346249626,
          0.10853691515699895,
          0.10853687487294877,
          0.10853690236553552,
          0.10853689820426926,
          0.10827363170787499
         ]
        },
        {
         "boxpoints": "all",
         "jitter": 0.2,
         "line": {
          "color": "#AB63FA"
         },
         "marker": {
          "color": "#AB63FA",
          "line": {
           "color": "black",
           "width": 1
          },
          "opacity": 0.7,
          "symbol": "circle"
         },
         "name": "Score",
         "pointpos": -1.5,
         "type": "box",
         "visible": false,
         "y": [
          0.25885804033559895,
          0.258857346507351,
          0.25885734651030434,
          0.258858040336119,
          0.2588573465074114,
          0.2588573465075083,
          0.2588573465078787,
          0.25885734650758,
          0.25885734650779246,
          0.2588580403355476
         ]
        },
        {
         "boxpoints": "all",
         "jitter": 0.2,
         "line": {
          "color": "#636EFA"
         },
         "marker": {
          "color": "#636EFA",
          "line": {
           "color": "black",
           "width": 1
          },
          "opacity": 0.7,
          "symbol": "circle"
         },
         "name": "Initial tumour volume in cm^3",
         "pointpos": -1.5,
         "type": "box",
         "visible": false,
         "y": [
          0.12380955318290432,
          0.12380950103966697,
          0.12332972305063546,
          0.12332982228271855,
          0.12380956898279728,
          0.12390309627226889,
          0.12380946449258576,
          0.12380952597820687,
          0.1238093899834464,
          0.12380948586583526
         ]
        },
        {
         "boxpoints": "all",
         "jitter": 0.2,
         "line": {
          "color": "#EF553B"
         },
         "marker": {
          "color": "#EF553B",
          "line": {
           "color": "black",
           "width": 1
          },
          "opacity": 0.7,
          "symbol": "circle"
         },
         "name": "Exponential growth rate in 1/day",
         "pointpos": -1.5,
         "type": "box",
         "visible": false,
         "y": [
          0.043031596668474434,
          0.043031612398121886,
          0.04352118525045186,
          0.04352116101636632,
          0.04303159136109812,
          0.04299457902913199,
          0.04303162405265811,
          0.04303160413110073,
          0.043031639417736134,
          0.04303161406755695
         ]
        },
        {
         "boxpoints": "all",
         "jitter": 0.2,
         "line": {
          "color": "#00CC96"
         },
         "marker": {
          "color": "#00CC96",
          "line": {
           "color": "black",
           "width": 1
          },
          "opacity": 0.7,
          "symbol": "circle"
         },
         "name": "Linear growth rate in cm^3/day",
         "pointpos": -1.5,
         "type": "box",
         "visible": false,
         "y": [
          0.07299522678029723,
          0.0729952242858743,
          0.07139560475172475,
          0.07139562065576782,
          0.07299522722307883,
          0.0730118641071391,
          0.07299522310330311,
          0.07299522434666628,
          0.07299520746686579,
          0.07299521855736364
         ]
        },
        {
         "boxpoints": "all",
         "jitter": 0.2,
         "line": {
          "color": "#AB63FA"
         },
         "marker": {
          "color": "#AB63FA",
          "line": {
           "color": "black",
           "width": 1
          },
          "opacity": 0.7,
          "symbol": "circle"
         },
         "name": "Score",
         "pointpos": -1.5,
         "type": "box",
         "visible": false,
         "y": [
          0.0029152929591462454,
          0.0029152929591792047,
          0.0029160191458859524,
          0.0029160191458718885,
          0.0029152929592806713,
          0.0029154484570916234,
          0.0029152929591683427,
          0.002915292959216168,
          0.002915292959341759,
          0.0029152929591627075
         ]
        },
        {
         "boxpoints": "all",
         "jitter": 0.2,
         "line": {
          "color": "#636EFA"
         },
         "marker": {
          "color": "#636EFA",
          "line": {
           "color": "black",
           "width": 1
          },
          "opacity": 0.7,
          "symbol": "circle"
         },
         "name": "Initial tumour volume in cm^3",
         "pointpos": -1.5,
         "type": "box",
         "visible": false,
         "y": [
          0.08704782247188275,
          0.08704782262547404,
          0.08701975084380342,
          0.08704782158453918,
          0.0871091462545371,
          0.08709257573322222,
          0.08704782324771403,
          0.0870478367117227,
          0.08710914891568275,
          0.0871895339894276
         ]
        },
        {
         "boxpoints": "all",
         "jitter": 0.2,
         "line": {
          "color": "#EF553B"
         },
         "marker": {
          "color": "#EF553B",
          "line": {
           "color": "black",
           "width": 1
          },
          "opacity": 0.7,
          "symbol": "circle"
         },
         "name": "Exponential growth rate in 1/day",
         "pointpos": -1.5,
         "type": "box",
         "visible": false,
         "y": [
          0.036172156987332386,
          0.036172157210144856,
          0.03618249851397363,
          0.03617215720513877,
          0.03611834497841441,
          0.036158645788609924,
          0.03617215932335323,
          0.0361721536960612,
          0.03611834459859223,
          0.0360458040809005
         ]
        },
        {
         "boxpoints": "all",
         "jitter": 0.2,
         "line": {
          "color": "#00CC96"
         },
         "marker": {
          "color": "#00CC96",
          "line": {
           "color": "black",
           "width": 1
          },
          "opacity": 0.7,
          "symbol": "circle"
         },
         "name": "Linear growth rate in cm^3/day",
         "pointpos": -1.5,
         "type": "box",
         "visible": false,
         "y": [
          0.19325840569564506,
          0.19325840693709193,
          0.1930539790928431,
          0.19325840460365587,
          0.1953475658117555,
          0.19309529814485507,
          0.19325841997035045,
          0.19325841851230027,
          0.19534756965569414,
          0.19864981188307004
         ]
        },
        {
         "boxpoints": "all",
         "jitter": 0.2,
         "line": {
          "color": "#AB63FA"
         },
         "marker": {
          "color": "#AB63FA",
          "line": {
           "color": "black",
           "width": 1
          },
          "opacity": 0.7,
          "symbol": "circle"
         },
         "name": "Score",
         "pointpos": -1.5,
         "type": "box",
         "visible": false,
         "y": [
          0.0023155933407800226,
          0.002315593340781343,
          0.002315613501561583,
          0.0023155933407814247,
          0.002315735235268487,
          0.0023156834585473076,
          0.0023155933407968477,
          0.002315593340785314,
          0.0023157352352718165,
          0.002315751822892631
         ]
        }
       ],
       "layout": {
        "autosize": true,
        "legend": {
         "x": 1.05,
         "xanchor": "left",
         "y": 0.01,
         "yanchor": "bottom"
        },
        "template": {
         "data": {
          "bar": [
           {
            "error_x": {
             "color": "#2a3f5f"
            },
            "error_y": {
             "color": "#2a3f5f"
            },
            "marker": {
             "line": {
              "color": "white",
              "width": 0.5
             }
            },
            "type": "bar"
           }
          ],
          "barpolar": [
           {
            "marker": {
             "line": {
              "color": "white",
              "width": 0.5
             }
            },
            "type": "barpolar"
           }
          ],
          "carpet": [
           {
            "aaxis": {
             "endlinecolor": "#2a3f5f",
             "gridcolor": "#C8D4E3",
             "linecolor": "#C8D4E3",
             "minorgridcolor": "#C8D4E3",
             "startlinecolor": "#2a3f5f"
            },
            "baxis": {
             "endlinecolor": "#2a3f5f",
             "gridcolor": "#C8D4E3",
             "linecolor": "#C8D4E3",
             "minorgridcolor": "#C8D4E3",
             "startlinecolor": "#2a3f5f"
            },
            "type": "carpet"
           }
          ],
          "choropleth": [
           {
            "colorbar": {
             "outlinewidth": 0,
             "ticks": ""
            },
            "type": "choropleth"
           }
          ],
          "contour": [
           {
            "colorbar": {
             "outlinewidth": 0,
             "ticks": ""
            },
            "colorscale": [
             [
              0,
              "#0d0887"
             ],
             [
              0.1111111111111111,
              "#46039f"
             ],
             [
              0.2222222222222222,
              "#7201a8"
             ],
             [
              0.3333333333333333,
              "#9c179e"
             ],
             [
              0.4444444444444444,
              "#bd3786"
             ],
             [
              0.5555555555555556,
              "#d8576b"
             ],
             [
              0.6666666666666666,
              "#ed7953"
             ],
             [
              0.7777777777777778,
              "#fb9f3a"
             ],
             [
              0.8888888888888888,
              "#fdca26"
             ],
             [
              1,
              "#f0f921"
             ]
            ],
            "type": "contour"
           }
          ],
          "contourcarpet": [
           {
            "colorbar": {
             "outlinewidth": 0,
             "ticks": ""
            },
            "type": "contourcarpet"
           }
          ],
          "heatmap": [
           {
            "colorbar": {
             "outlinewidth": 0,
             "ticks": ""
            },
            "colorscale": [
             [
              0,
              "#0d0887"
             ],
             [
              0.1111111111111111,
              "#46039f"
             ],
             [
              0.2222222222222222,
              "#7201a8"
             ],
             [
              0.3333333333333333,
              "#9c179e"
             ],
             [
              0.4444444444444444,
              "#bd3786"
             ],
             [
              0.5555555555555556,
              "#d8576b"
             ],
             [
              0.6666666666666666,
              "#ed7953"
             ],
             [
              0.7777777777777778,
              "#fb9f3a"
             ],
             [
              0.8888888888888888,
              "#fdca26"
             ],
             [
              1,
              "#f0f921"
             ]
            ],
            "type": "heatmap"
           }
          ],
          "heatmapgl": [
           {
            "colorbar": {
             "outlinewidth": 0,
             "ticks": ""
            },
            "colorscale": [
             [
              0,
              "#0d0887"
             ],
             [
              0.1111111111111111,
              "#46039f"
             ],
             [
              0.2222222222222222,
              "#7201a8"
             ],
             [
              0.3333333333333333,
              "#9c179e"
             ],
             [
              0.4444444444444444,
              "#bd3786"
             ],
             [
              0.5555555555555556,
              "#d8576b"
             ],
             [
              0.6666666666666666,
              "#ed7953"
             ],
             [
              0.7777777777777778,
              "#fb9f3a"
             ],
             [
              0.8888888888888888,
              "#fdca26"
             ],
             [
              1,
              "#f0f921"
             ]
            ],
            "type": "heatmapgl"
           }
          ],
          "histogram": [
           {
            "marker": {
             "colorbar": {
              "outlinewidth": 0,
              "ticks": ""
             }
            },
            "type": "histogram"
           }
          ],
          "histogram2d": [
           {
            "colorbar": {
             "outlinewidth": 0,
             "ticks": ""
            },
            "colorscale": [
             [
              0,
              "#0d0887"
             ],
             [
              0.1111111111111111,
              "#46039f"
             ],
             [
              0.2222222222222222,
              "#7201a8"
             ],
             [
              0.3333333333333333,
              "#9c179e"
             ],
             [
              0.4444444444444444,
              "#bd3786"
             ],
             [
              0.5555555555555556,
              "#d8576b"
             ],
             [
              0.6666666666666666,
              "#ed7953"
             ],
             [
              0.7777777777777778,
              "#fb9f3a"
             ],
             [
              0.8888888888888888,
              "#fdca26"
             ],
             [
              1,
              "#f0f921"
             ]
            ],
            "type": "histogram2d"
           }
          ],
          "histogram2dcontour": [
           {
            "colorbar": {
             "outlinewidth": 0,
             "ticks": ""
            },
            "colorscale": [
             [
              0,
              "#0d0887"
             ],
             [
              0.1111111111111111,
              "#46039f"
             ],
             [
              0.2222222222222222,
              "#7201a8"
             ],
             [
              0.3333333333333333,
              "#9c179e"
             ],
             [
              0.4444444444444444,
              "#bd3786"
             ],
             [
              0.5555555555555556,
              "#d8576b"
             ],
             [
              0.6666666666666666,
              "#ed7953"
             ],
             [
              0.7777777777777778,
              "#fb9f3a"
             ],
             [
              0.8888888888888888,
              "#fdca26"
             ],
             [
              1,
              "#f0f921"
             ]
            ],
            "type": "histogram2dcontour"
           }
          ],
          "mesh3d": [
           {
            "colorbar": {
             "outlinewidth": 0,
             "ticks": ""
            },
            "type": "mesh3d"
           }
          ],
          "parcoords": [
           {
            "line": {
             "colorbar": {
              "outlinewidth": 0,
              "ticks": ""
             }
            },
            "type": "parcoords"
           }
          ],
          "pie": [
           {
            "automargin": true,
            "type": "pie"
           }
          ],
          "scatter": [
           {
            "marker": {
             "colorbar": {
              "outlinewidth": 0,
              "ticks": ""
             }
            },
            "type": "scatter"
           }
          ],
          "scatter3d": [
           {
            "line": {
             "colorbar": {
              "outlinewidth": 0,
              "ticks": ""
             }
            },
            "marker": {
             "colorbar": {
              "outlinewidth": 0,
              "ticks": ""
             }
            },
            "type": "scatter3d"
           }
          ],
          "scattercarpet": [
           {
            "marker": {
             "colorbar": {
              "outlinewidth": 0,
              "ticks": ""
             }
            },
            "type": "scattercarpet"
           }
          ],
          "scattergeo": [
           {
            "marker": {
             "colorbar": {
              "outlinewidth": 0,
              "ticks": ""
             }
            },
            "type": "scattergeo"
           }
          ],
          "scattergl": [
           {
            "marker": {
             "colorbar": {
              "outlinewidth": 0,
              "ticks": ""
             }
            },
            "type": "scattergl"
           }
          ],
          "scattermapbox": [
           {
            "marker": {
             "colorbar": {
              "outlinewidth": 0,
              "ticks": ""
             }
            },
            "type": "scattermapbox"
           }
          ],
          "scatterpolar": [
           {
            "marker": {
             "colorbar": {
              "outlinewidth": 0,
              "ticks": ""
             }
            },
            "type": "scatterpolar"
           }
          ],
          "scatterpolargl": [
           {
            "marker": {
             "colorbar": {
              "outlinewidth": 0,
              "ticks": ""
             }
            },
            "type": "scatterpolargl"
           }
          ],
          "scatterternary": [
           {
            "marker": {
             "colorbar": {
              "outlinewidth": 0,
              "ticks": ""
             }
            },
            "type": "scatterternary"
           }
          ],
          "surface": [
           {
            "colorbar": {
             "outlinewidth": 0,
             "ticks": ""
            },
            "colorscale": [
             [
              0,
              "#0d0887"
             ],
             [
              0.1111111111111111,
              "#46039f"
             ],
             [
              0.2222222222222222,
              "#7201a8"
             ],
             [
              0.3333333333333333,
              "#9c179e"
             ],
             [
              0.4444444444444444,
              "#bd3786"
             ],
             [
              0.5555555555555556,
              "#d8576b"
             ],
             [
              0.6666666666666666,
              "#ed7953"
             ],
             [
              0.7777777777777778,
              "#fb9f3a"
             ],
             [
              0.8888888888888888,
              "#fdca26"
             ],
             [
              1,
              "#f0f921"
             ]
            ],
            "type": "surface"
           }
          ],
          "table": [
           {
            "cells": {
             "fill": {
              "color": "#EBF0F8"
             },
             "line": {
              "color": "white"
             }
            },
            "header": {
             "fill": {
              "color": "#C8D4E3"
             },
             "line": {
              "color": "white"
             }
            },
            "type": "table"
           }
          ]
         },
         "layout": {
          "annotationdefaults": {
           "arrowcolor": "#2a3f5f",
           "arrowhead": 0,
           "arrowwidth": 1
          },
          "coloraxis": {
           "colorbar": {
            "outlinewidth": 0,
            "ticks": ""
           }
          },
          "colorscale": {
           "diverging": [
            [
             0,
             "#8e0152"
            ],
            [
             0.1,
             "#c51b7d"
            ],
            [
             0.2,
             "#de77ae"
            ],
            [
             0.3,
             "#f1b6da"
            ],
            [
             0.4,
             "#fde0ef"
            ],
            [
             0.5,
             "#f7f7f7"
            ],
            [
             0.6,
             "#e6f5d0"
            ],
            [
             0.7,
             "#b8e186"
            ],
            [
             0.8,
             "#7fbc41"
            ],
            [
             0.9,
             "#4d9221"
            ],
            [
             1,
             "#276419"
            ]
           ],
           "sequential": [
            [
             0,
             "#0d0887"
            ],
            [
             0.1111111111111111,
             "#46039f"
            ],
            [
             0.2222222222222222,
             "#7201a8"
            ],
            [
             0.3333333333333333,
             "#9c179e"
            ],
            [
             0.4444444444444444,
             "#bd3786"
            ],
            [
             0.5555555555555556,
             "#d8576b"
            ],
            [
             0.6666666666666666,
             "#ed7953"
            ],
            [
             0.7777777777777778,
             "#fb9f3a"
            ],
            [
             0.8888888888888888,
             "#fdca26"
            ],
            [
             1,
             "#f0f921"
            ]
           ],
           "sequentialminus": [
            [
             0,
             "#0d0887"
            ],
            [
             0.1111111111111111,
             "#46039f"
            ],
            [
             0.2222222222222222,
             "#7201a8"
            ],
            [
             0.3333333333333333,
             "#9c179e"
            ],
            [
             0.4444444444444444,
             "#bd3786"
            ],
            [
             0.5555555555555556,
             "#d8576b"
            ],
            [
             0.6666666666666666,
             "#ed7953"
            ],
            [
             0.7777777777777778,
             "#fb9f3a"
            ],
            [
             0.8888888888888888,
             "#fdca26"
            ],
            [
             1,
             "#f0f921"
            ]
           ]
          },
          "colorway": [
           "#636efa",
           "#EF553B",
           "#00cc96",
           "#ab63fa",
           "#FFA15A",
           "#19d3f3",
           "#FF6692",
           "#B6E880",
           "#FF97FF",
           "#FECB52"
          ],
          "font": {
           "color": "#2a3f5f"
          },
          "geo": {
           "bgcolor": "white",
           "lakecolor": "white",
           "landcolor": "white",
           "showlakes": true,
           "showland": true,
           "subunitcolor": "#C8D4E3"
          },
          "hoverlabel": {
           "align": "left"
          },
          "hovermode": "closest",
          "mapbox": {
           "style": "light"
          },
          "paper_bgcolor": "white",
          "plot_bgcolor": "white",
          "polar": {
           "angularaxis": {
            "gridcolor": "#EBF0F8",
            "linecolor": "#EBF0F8",
            "ticks": ""
           },
           "bgcolor": "white",
           "radialaxis": {
            "gridcolor": "#EBF0F8",
            "linecolor": "#EBF0F8",
            "ticks": ""
           }
          },
          "scene": {
           "xaxis": {
            "backgroundcolor": "white",
            "gridcolor": "#DFE8F3",
            "gridwidth": 2,
            "linecolor": "#EBF0F8",
            "showbackground": true,
            "ticks": "",
            "zerolinecolor": "#EBF0F8"
           },
           "yaxis": {
            "backgroundcolor": "white",
            "gridcolor": "#DFE8F3",
            "gridwidth": 2,
            "linecolor": "#EBF0F8",
            "showbackground": true,
            "ticks": "",
            "zerolinecolor": "#EBF0F8"
           },
           "zaxis": {
            "backgroundcolor": "white",
            "gridcolor": "#DFE8F3",
            "gridwidth": 2,
            "linecolor": "#EBF0F8",
            "showbackground": true,
            "ticks": "",
            "zerolinecolor": "#EBF0F8"
           }
          },
          "shapedefaults": {
           "line": {
            "color": "#2a3f5f"
           }
          },
          "ternary": {
           "aaxis": {
            "gridcolor": "#DFE8F3",
            "linecolor": "#A2B1C6",
            "ticks": ""
           },
           "baxis": {
            "gridcolor": "#DFE8F3",
            "linecolor": "#A2B1C6",
            "ticks": ""
           },
           "bgcolor": "white",
           "caxis": {
            "gridcolor": "#DFE8F3",
            "linecolor": "#A2B1C6",
            "ticks": ""
           }
          },
          "title": {
           "x": 0.05
          },
          "xaxis": {
           "automargin": true,
           "gridcolor": "#EBF0F8",
           "linecolor": "#EBF0F8",
           "ticks": "",
           "title": {
            "standoff": 15
           },
           "zerolinecolor": "#EBF0F8",
           "zerolinewidth": 2
          },
          "yaxis": {
           "automargin": true,
           "gridcolor": "#EBF0F8",
           "linecolor": "#EBF0F8",
           "ticks": "",
           "title": {
            "standoff": 15
           },
           "zerolinecolor": "#EBF0F8",
           "zerolinewidth": 2
          }
         }
        },
        "updatemenus": [
         {
          "buttons": [
           {
            "args": [
             {
              "visible": [
               true,
               true,
               true,
               true,
               false,
               false,
               false,
               false,
               false,
               false,
               false,
               false,
               false,
               false,
               false,
               false,
               false,
               false,
               false,
               false,
               false,
               false,
               false,
               false,
               false,
               false,
               false,
               false,
               false,
               false,
               false,
               false
              ]
             }
            ],
            "label": "ID: 40",
            "method": "restyle"
           },
           {
            "args": [
             {
              "visible": [
               false,
               false,
               false,
               false,
               true,
               true,
               true,
               true,
               false,
               false,
               false,
               false,
               false,
               false,
               false,
               false,
               false,
               false,
               false,
               false,
               false,
               false,
               false,
               false,
               false,
               false,
               false,
               false,
               false,
               false,
               false,
               false
              ]
             }
            ],
            "label": "ID: 94",
            "method": "restyle"
           },
           {
            "args": [
             {
              "visible": [
               false,
               false,
               false,
               false,
               false,
               false,
               false,
               false,
               true,
               true,
               true,
               true,
               false,
               false,
               false,
               false,
               false,
               false,
               false,
               false,
               false,
               false,
               false,
               false,
               false,
               false,
               false,
               false,
               false,
               false,
               false,
               false
              ]
             }
            ],
            "label": "ID: 95",
            "method": "restyle"
           },
           {
            "args": [
             {
              "visible": [
               false,
               false,
               false,
               false,
               false,
               false,
               false,
               false,
               false,
               false,
               false,
               false,
               true,
               true,
               true,
               true,
               false,
               false,
               false,
               false,
               false,
               false,
               false,
               false,
               false,
               false,
               false,
               false,
               false,
               false,
               false,
               false
              ]
             }
            ],
            "label": "ID: 136",
            "method": "restyle"
           },
           {
            "args": [
             {
              "visible": [
               false,
               false,
               false,
               false,
               false,
               false,
               false,
               false,
               false,
               false,
               false,
               false,
               false,
               false,
               false,
               false,
               true,
               true,
               true,
               true,
               false,
               false,
               false,
               false,
               false,
               false,
               false,
               false,
               false,
               false,
               false,
               false
              ]
             }
            ],
            "label": "ID: 140",
            "method": "restyle"
           },
           {
            "args": [
             {
              "visible": [
               false,
               false,
               false,
               false,
               false,
               false,
               false,
               false,
               false,
               false,
               false,
               false,
               false,
               false,
               false,
               false,
               false,
               false,
               false,
               false,
               true,
               true,
               true,
               true,
               false,
               false,
               false,
               false,
               false,
               false,
               false,
               false
              ]
             }
            ],
            "label": "ID: 155",
            "method": "restyle"
           },
           {
            "args": [
             {
              "visible": [
               false,
               false,
               false,
               false,
               false,
               false,
               false,
               false,
               false,
               false,
               false,
               false,
               false,
               false,
               false,
               false,
               false,
               false,
               false,
               false,
               false,
               false,
               false,
               false,
               true,
               true,
               true,
               true,
               false,
               false,
               false,
               false
              ]
             }
            ],
            "label": "ID: 169",
            "method": "restyle"
           },
           {
            "args": [
             {
              "visible": [
               false,
               false,
               false,
               false,
               false,
               false,
               false,
               false,
               false,
               false,
               false,
               false,
               false,
               false,
               false,
               false,
               false,
               false,
               false,
               false,
               false,
               false,
               false,
               false,
               false,
               false,
               false,
               false,
               true,
               true,
               true,
               true
              ]
             }
            ],
            "label": "ID: 170",
            "method": "restyle"
           }
          ],
          "direction": "right",
          "pad": {
           "r": 0,
           "t": -10
          },
          "showactive": true,
          "type": "buttons",
          "x": 0,
          "xanchor": "left",
          "y": 1.1,
          "yanchor": "top"
         }
        ]
       }
      },
      "text/html": [
       "<div>\n",
       "        \n",
       "        \n",
       "            <div id=\"390e073e-f3c6-4aee-a759-597bc9aebd11\" class=\"plotly-graph-div\" style=\"height:525px; width:100%;\"></div>\n",
       "            <script type=\"text/javascript\">\n",
       "                require([\"plotly\"], function(Plotly) {\n",
       "                    window.PLOTLYENV=window.PLOTLYENV || {};\n",
       "                    \n",
       "                if (document.getElementById(\"390e073e-f3c6-4aee-a759-597bc9aebd11\")) {\n",
       "                    Plotly.newPlot(\n",
       "                        '390e073e-f3c6-4aee-a759-597bc9aebd11',\n",
       "                        [{\"boxpoints\": \"all\", \"jitter\": 0.2, \"line\": {\"color\": \"#636EFA\"}, \"marker\": {\"color\": \"#636EFA\", \"line\": {\"color\": \"black\", \"width\": 1}, \"opacity\": 0.7, \"symbol\": \"circle\"}, \"name\": \"Initial tumour volume in cm^3\", \"pointpos\": -1.5, \"type\": \"box\", \"visible\": true, \"y\": [0.13983829873319853, 0.14007982344804992, 0.1399548888639088, 0.13983987274952697, 0.13932734486109344, 0.13857994848817246, 0.14135651141908864, 0.13944896011364954, 0.13863249109685577, 0.138355123369633]}, {\"boxpoints\": \"all\", \"jitter\": 0.2, \"line\": {\"color\": \"#EF553B\"}, \"marker\": {\"color\": \"#EF553B\", \"line\": {\"color\": \"black\", \"width\": 1}, \"opacity\": 0.7, \"symbol\": \"circle\"}, \"name\": \"Exponential growth rate in 1/day\", \"pointpos\": -1.5, \"type\": \"box\", \"visible\": true, \"y\": [0.2744261227344327, 0.2739392294834647, 0.27434271129641735, 0.274421986233766, 0.2753737271771192, 0.27664434178073505, 0.2717169366784129, 0.2751482426827337, 0.27654207483346915, 0.2770484610945924]}, {\"boxpoints\": \"all\", \"jitter\": 0.2, \"line\": {\"color\": \"#00CC96\"}, \"marker\": {\"color\": \"#00CC96\", \"line\": {\"color\": \"black\", \"width\": 1}, \"opacity\": 0.7, \"symbol\": \"circle\"}, \"name\": \"Linear growth rate in cm^3/day\", \"pointpos\": -1.5, \"type\": \"box\", \"visible\": true, \"y\": [0.13102190531120428, 0.13100853336709142, 0.1310517708482545, 0.13098492684825921, 0.13095682544321538, 0.1308667783537486, 0.13107383198018507, 0.13098559761412382, 0.13086889796444556, 0.13087197312822113]}, {\"boxpoints\": \"all\", \"jitter\": 0.2, \"line\": {\"color\": \"#AB63FA\"}, \"marker\": {\"color\": \"#AB63FA\", \"line\": {\"color\": \"black\", \"width\": 1}, \"opacity\": 0.7, \"symbol\": \"circle\"}, \"name\": \"Score\", \"pointpos\": -1.5, \"type\": \"box\", \"visible\": true, \"y\": [0.031861459110526985, 0.03186357115504949, 0.03186231076978173, 0.031861989616298714, 0.03186040474246982, 0.03186367399240071, 0.03187587652642702, 0.03186054846201417, 0.0318637514273931, 0.031863786762465825]}, {\"boxpoints\": \"all\", \"jitter\": 0.2, \"line\": {\"color\": \"#636EFA\"}, \"marker\": {\"color\": \"#636EFA\", \"line\": {\"color\": \"black\", \"width\": 1}, \"opacity\": 0.7, \"symbol\": \"circle\"}, \"name\": \"Initial tumour volume in cm^3\", \"pointpos\": -1.5, \"type\": \"box\", \"visible\": false, \"y\": [0.07479927613165054, 0.07454962658633227, 0.07443660493151147, 0.07530396537899813, 0.07454908430108526, 0.07415834482212327, 0.07449589367272998, 0.07479928413939711, 0.07479928897577087, 0.07479931332971904]}, {\"boxpoints\": \"all\", \"jitter\": 0.2, \"line\": {\"color\": \"#EF553B\"}, \"marker\": {\"color\": \"#EF553B\", \"line\": {\"color\": \"black\", \"width\": 1}, \"opacity\": 0.7, \"symbol\": \"circle\"}, \"name\": \"Exponential growth rate in 1/day\", \"pointpos\": -1.5, \"type\": \"box\", \"visible\": false, \"y\": [0.1650351972445622, 0.16798334622203126, 0.16940077696626052, 0.15896807475748265, 0.1679840563907493, 0.16903100639837945, 0.16792794649444778, 0.165035164649611, 0.1650351450844766, 0.1650350918016813]}, {\"boxpoints\": \"all\", \"jitter\": 0.2, \"line\": {\"color\": \"#00CC96\"}, \"marker\": {\"color\": \"#00CC96\", \"line\": {\"color\": \"black\", \"width\": 1}, \"opacity\": 0.7, \"symbol\": \"circle\"}, \"name\": \"Linear growth rate in cm^3/day\", \"pointpos\": -1.5, \"type\": \"box\", \"visible\": false, \"y\": [0.020388814333310964, 0.02031195896874616, 0.02027455596691281, 0.020569163549300114, 0.02031190607554203, 0.020321121815964422, 0.020292767388726176, 0.02038881238601678, 0.020388811220309902, 0.020388810950362032]}, {\"boxpoints\": \"all\", \"jitter\": 0.2, \"line\": {\"color\": \"#AB63FA\"}, \"marker\": {\"color\": \"#AB63FA\", \"line\": {\"color\": \"black\", \"width\": 1}, \"opacity\": 0.7, \"symbol\": \"circle\"}, \"name\": \"Score\", \"pointpos\": -1.5, \"type\": \"box\", \"visible\": false, \"y\": [0.007450327517829466, 0.007448232537856347, 0.007448563913658762, 0.00745166887197908, 0.007448232522265392, 0.0074493012622735555, 0.007449959042289224, 0.007450327517827172, 0.007450327517827524, 0.0074503275178319775]}, {\"boxpoints\": \"all\", \"jitter\": 0.2, \"line\": {\"color\": \"#636EFA\"}, \"marker\": {\"color\": \"#636EFA\", \"line\": {\"color\": \"black\", \"width\": 1}, \"opacity\": 0.7, \"symbol\": \"circle\"}, \"name\": \"Initial tumour volume in cm^3\", \"pointpos\": -1.5, \"type\": \"box\", \"visible\": false, \"y\": [0.22090437242426864, 0.2209043815733419, 0.22090438538230278, 0.22090437422306372, 0.2209043924733716, 0.22090437609610564, 0.2209043890817588, 0.2209043927502329, 0.220904387073551, 0.2209043816822304]}, {\"boxpoints\": \"all\", \"jitter\": 0.2, \"line\": {\"color\": \"#EF553B\"}, \"marker\": {\"color\": \"#EF553B\", \"line\": {\"color\": \"black\", \"width\": 1}, \"opacity\": 0.7, \"symbol\": \"circle\"}, \"name\": \"Exponential growth rate in 1/day\", \"pointpos\": -1.5, \"type\": \"box\", \"visible\": false, \"y\": [0.055592465720717896, 0.05559246462041953, 0.05559246441597493, 0.05559246535890952, 0.05559246362645107, 0.055592465201474595, 0.05559246350120928, 0.055592463086603726, 0.05559246396849609, 0.05559246405639929]}, {\"boxpoints\": \"all\", \"jitter\": 0.2, \"line\": {\"color\": \"#00CC96\"}, \"marker\": {\"color\": \"#00CC96\", \"line\": {\"color\": \"black\", \"width\": 1}, \"opacity\": 0.7, \"symbol\": \"circle\"}, \"name\": \"Linear growth rate in cm^3/day\", \"pointpos\": -1.5, \"type\": \"box\", \"visible\": false, \"y\": [111.18493143979302, 111.18492924073149, 111.1849288319205, 111.18493071752542, 111.18492725286845, 111.18493040250745, 111.1849270021746, 111.18492617310086, 111.18492793698248, 111.18492811229818]}, {\"boxpoints\": \"all\", \"jitter\": 0.2, \"line\": {\"color\": \"#AB63FA\"}, \"marker\": {\"color\": \"#AB63FA\", \"line\": {\"color\": \"black\", \"width\": 1}, \"opacity\": 0.7, \"symbol\": \"circle\"}, \"name\": \"Score\", \"pointpos\": -1.5, \"type\": \"box\", \"visible\": false, \"y\": [0.09948736196066213, 0.0994873619606537, 0.09948736196066464, 0.099487361960657, 0.09948736196066935, 0.09948736196066313, 0.09948736196066374, 0.09948736196066457, 0.0994873619606639, 0.09948736196065791]}, {\"boxpoints\": \"all\", \"jitter\": 0.2, \"line\": {\"color\": \"#636EFA\"}, \"marker\": {\"color\": \"#636EFA\", \"line\": {\"color\": \"black\", \"width\": 1}, \"opacity\": 0.7, \"symbol\": \"circle\"}, \"name\": \"Initial tumour volume in cm^3\", \"pointpos\": -1.5, \"type\": \"box\", \"visible\": false, \"y\": [0.14757463109207622, 0.14891840799772157, 0.14898030127517373, 0.14869107466589096, 0.14898530279291025, 0.1482448383691893, 0.1490695199429091, 0.14903308124703546, 0.1483736538868331, 0.14974610777622285]}, {\"boxpoints\": \"all\", \"jitter\": 0.2, \"line\": {\"color\": \"#EF553B\"}, \"marker\": {\"color\": \"#EF553B\", \"line\": {\"color\": \"black\", \"width\": 1}, \"opacity\": 0.7, \"symbol\": \"circle\"}, \"name\": \"Exponential growth rate in 1/day\", \"pointpos\": -1.5, \"type\": \"box\", \"visible\": false, \"y\": [0.05496538192445882, 0.054283048649214856, 0.054268430505623064, 0.05466201308503514, 0.054265050553798336, 0.05478982557520019, 0.05424633532635222, 0.05425388008012529, 0.054722039520234696, 0.05373540331880301]}, {\"boxpoints\": \"all\", \"jitter\": 0.2, \"line\": {\"color\": \"#00CC96\"}, \"marker\": {\"color\": \"#00CC96\", \"line\": {\"color\": \"black\", \"width\": 1}, \"opacity\": 0.7, \"symbol\": \"circle\"}, \"name\": \"Linear growth rate in cm^3/day\", \"pointpos\": -1.5, \"type\": \"box\", \"visible\": false, \"y\": [0.12655197388238595, 0.1287915165377748, 0.12881240821412163, 0.12683851068984903, 0.12881042946522425, 0.12679538796974657, 0.12878611567669385, 0.12881886661318967, 0.12675969342315335, 0.13099981813549488]}, {\"boxpoints\": \"all\", \"jitter\": 0.2, \"line\": {\"color\": \"#AB63FA\"}, \"marker\": {\"color\": \"#AB63FA\", \"line\": {\"color\": \"black\", \"width\": 1}, \"opacity\": 0.7, \"symbol\": \"circle\"}, \"name\": \"Score\", \"pointpos\": -1.5, \"type\": \"box\", \"visible\": false, \"y\": [0.04018510682817683, 0.040184705747427614, 0.04018529160831231, 0.04018206068259415, 0.04018554919471544, 0.04018130495471484, 0.04018467244507598, 0.04018453900200692, 0.04018205232635645, 0.0401862104745401]}, {\"boxpoints\": \"all\", \"jitter\": 0.2, \"line\": {\"color\": \"#636EFA\"}, \"marker\": {\"color\": \"#636EFA\", \"line\": {\"color\": \"black\", \"width\": 1}, \"opacity\": 0.7, \"symbol\": \"circle\"}, \"name\": \"Initial tumour volume in cm^3\", \"pointpos\": -1.5, \"type\": \"box\", \"visible\": false, \"y\": [0.0841766436002978, 0.0841766555835959, 0.08417666475144676, 0.08417659456311197, 0.08417662138412794, 0.08417664912140449, 0.08417664076105666, 0.08417665475265622, 0.08417666027962487, 0.08417664717740479]}, {\"boxpoints\": \"all\", \"jitter\": 0.2, \"line\": {\"color\": \"#EF553B\"}, \"marker\": {\"color\": \"#EF553B\", \"line\": {\"color\": \"black\", \"width\": 1}, \"opacity\": 0.7, \"symbol\": \"circle\"}, \"name\": \"Exponential growth rate in 1/day\", \"pointpos\": -1.5, \"type\": \"box\", \"visible\": false, \"y\": [0.05418268319274858, 0.054182681669008276, 0.05418267852621647, 0.05418269501684887, 0.05418268911549844, 0.05418268164929326, 0.054182684116769825, 0.05418268006824232, 0.05418267875473818, 0.05418268370202336]}, {\"boxpoints\": \"all\", \"jitter\": 0.2, \"line\": {\"color\": \"#00CC96\"}, \"marker\": {\"color\": \"#00CC96\", \"line\": {\"color\": \"black\", \"width\": 1}, \"opacity\": 0.7, \"symbol\": \"circle\"}, \"name\": \"Linear growth rate in cm^3/day\", \"pointpos\": -1.5, \"type\": \"box\", \"visible\": false, \"y\": [108.36536635780223, 108.36536333666444, 108.36535705232204, 108.36539003079363, 108.36537822931464, 108.3653632958086, 108.36536823353134, 108.36536012561112, 108.36535750834157, 108.36536736541649]}, {\"boxpoints\": \"all\", \"jitter\": 0.2, \"line\": {\"color\": \"#AB63FA\"}, \"marker\": {\"color\": \"#AB63FA\", \"line\": {\"color\": \"black\", \"width\": 1}, \"opacity\": 0.7, \"symbol\": \"circle\"}, \"name\": \"Score\", \"pointpos\": -1.5, \"type\": \"box\", \"visible\": false, \"y\": [0.1460431583366721, 0.1460431583366587, 0.14604315833664677, 0.14604315833666504, 0.14604315833673018, 0.14604315833666925, 0.14604315833672638, 0.146043158336714, 0.14604315833662973, 0.14604315833669596]}, {\"boxpoints\": \"all\", \"jitter\": 0.2, \"line\": {\"color\": \"#636EFA\"}, \"marker\": {\"color\": \"#636EFA\", \"line\": {\"color\": \"black\", \"width\": 1}, \"opacity\": 0.7, \"symbol\": \"circle\"}, \"name\": \"Initial tumour volume in cm^3\", \"pointpos\": -1.5, \"type\": \"box\", \"visible\": false, \"y\": [0.1328950238545739, 0.13327404297584827, 0.13327487621685685, 0.13289527850742222, 0.13327425707860205, 0.13327413168704552, 0.13327368144405008, 0.1332740963693574, 0.13327406503024272, 0.132895133671451]}, {\"boxpoints\": \"all\", \"jitter\": 0.2, \"line\": {\"color\": \"#EF553B\"}, \"marker\": {\"color\": \"#EF553B\", \"line\": {\"color\": \"black\", \"width\": 1}, \"opacity\": 0.7, \"symbol\": \"circle\"}, \"name\": \"Exponential growth rate in 1/day\", \"pointpos\": -1.5, \"type\": \"box\", \"visible\": false, \"y\": [0.19900644078813906, 0.1973597094066088, 0.19735865045279039, 0.19900613748028223, 0.19735944315855658, 0.19735957625931966, 0.1973601655407496, 0.19735960499001295, 0.19735964349078852, 0.19900629952146692]}, {\"boxpoints\": \"all\", \"jitter\": 0.2, \"line\": {\"color\": \"#00CC96\"}, \"marker\": {\"color\": \"#00CC96\", \"line\": {\"color\": \"black\", \"width\": 1}, \"opacity\": 0.7, \"symbol\": \"circle\"}, \"name\": \"Linear growth rate in cm^3/day\", \"pointpos\": -1.5, \"type\": \"box\", \"visible\": false, \"y\": [0.10827361866057054, 0.1085369166202275, 0.10853700863568906, 0.10827366210457767, 0.10853694346249626, 0.10853691515699895, 0.10853687487294877, 0.10853690236553552, 0.10853689820426926, 0.10827363170787499]}, {\"boxpoints\": \"all\", \"jitter\": 0.2, \"line\": {\"color\": \"#AB63FA\"}, \"marker\": {\"color\": \"#AB63FA\", \"line\": {\"color\": \"black\", \"width\": 1}, \"opacity\": 0.7, \"symbol\": \"circle\"}, \"name\": \"Score\", \"pointpos\": -1.5, \"type\": \"box\", \"visible\": false, \"y\": [0.25885804033559895, 0.258857346507351, 0.25885734651030434, 0.258858040336119, 0.2588573465074114, 0.2588573465075083, 0.2588573465078787, 0.25885734650758, 0.25885734650779246, 0.2588580403355476]}, {\"boxpoints\": \"all\", \"jitter\": 0.2, \"line\": {\"color\": \"#636EFA\"}, \"marker\": {\"color\": \"#636EFA\", \"line\": {\"color\": \"black\", \"width\": 1}, \"opacity\": 0.7, \"symbol\": \"circle\"}, \"name\": \"Initial tumour volume in cm^3\", \"pointpos\": -1.5, \"type\": \"box\", \"visible\": false, \"y\": [0.12380955318290432, 0.12380950103966697, 0.12332972305063546, 0.12332982228271855, 0.12380956898279728, 0.12390309627226889, 0.12380946449258576, 0.12380952597820687, 0.1238093899834464, 0.12380948586583526]}, {\"boxpoints\": \"all\", \"jitter\": 0.2, \"line\": {\"color\": \"#EF553B\"}, \"marker\": {\"color\": \"#EF553B\", \"line\": {\"color\": \"black\", \"width\": 1}, \"opacity\": 0.7, \"symbol\": \"circle\"}, \"name\": \"Exponential growth rate in 1/day\", \"pointpos\": -1.5, \"type\": \"box\", \"visible\": false, \"y\": [0.043031596668474434, 0.043031612398121886, 0.04352118525045186, 0.04352116101636632, 0.04303159136109812, 0.04299457902913199, 0.04303162405265811, 0.04303160413110073, 0.043031639417736134, 0.04303161406755695]}, {\"boxpoints\": \"all\", \"jitter\": 0.2, \"line\": {\"color\": \"#00CC96\"}, \"marker\": {\"color\": \"#00CC96\", \"line\": {\"color\": \"black\", \"width\": 1}, \"opacity\": 0.7, \"symbol\": \"circle\"}, \"name\": \"Linear growth rate in cm^3/day\", \"pointpos\": -1.5, \"type\": \"box\", \"visible\": false, \"y\": [0.07299522678029723, 0.0729952242858743, 0.07139560475172475, 0.07139562065576782, 0.07299522722307883, 0.0730118641071391, 0.07299522310330311, 0.07299522434666628, 0.07299520746686579, 0.07299521855736364]}, {\"boxpoints\": \"all\", \"jitter\": 0.2, \"line\": {\"color\": \"#AB63FA\"}, \"marker\": {\"color\": \"#AB63FA\", \"line\": {\"color\": \"black\", \"width\": 1}, \"opacity\": 0.7, \"symbol\": \"circle\"}, \"name\": \"Score\", \"pointpos\": -1.5, \"type\": \"box\", \"visible\": false, \"y\": [0.0029152929591462454, 0.0029152929591792047, 0.0029160191458859524, 0.0029160191458718885, 0.0029152929592806713, 0.0029154484570916234, 0.0029152929591683427, 0.002915292959216168, 0.002915292959341759, 0.0029152929591627075]}, {\"boxpoints\": \"all\", \"jitter\": 0.2, \"line\": {\"color\": \"#636EFA\"}, \"marker\": {\"color\": \"#636EFA\", \"line\": {\"color\": \"black\", \"width\": 1}, \"opacity\": 0.7, \"symbol\": \"circle\"}, \"name\": \"Initial tumour volume in cm^3\", \"pointpos\": -1.5, \"type\": \"box\", \"visible\": false, \"y\": [0.08704782247188275, 0.08704782262547404, 0.08701975084380342, 0.08704782158453918, 0.0871091462545371, 0.08709257573322222, 0.08704782324771403, 0.0870478367117227, 0.08710914891568275, 0.0871895339894276]}, {\"boxpoints\": \"all\", \"jitter\": 0.2, \"line\": {\"color\": \"#EF553B\"}, \"marker\": {\"color\": \"#EF553B\", \"line\": {\"color\": \"black\", \"width\": 1}, \"opacity\": 0.7, \"symbol\": \"circle\"}, \"name\": \"Exponential growth rate in 1/day\", \"pointpos\": -1.5, \"type\": \"box\", \"visible\": false, \"y\": [0.036172156987332386, 0.036172157210144856, 0.03618249851397363, 0.03617215720513877, 0.03611834497841441, 0.036158645788609924, 0.03617215932335323, 0.0361721536960612, 0.03611834459859223, 0.0360458040809005]}, {\"boxpoints\": \"all\", \"jitter\": 0.2, \"line\": {\"color\": \"#00CC96\"}, \"marker\": {\"color\": \"#00CC96\", \"line\": {\"color\": \"black\", \"width\": 1}, \"opacity\": 0.7, \"symbol\": \"circle\"}, \"name\": \"Linear growth rate in cm^3/day\", \"pointpos\": -1.5, \"type\": \"box\", \"visible\": false, \"y\": [0.19325840569564506, 0.19325840693709193, 0.1930539790928431, 0.19325840460365587, 0.1953475658117555, 0.19309529814485507, 0.19325841997035045, 0.19325841851230027, 0.19534756965569414, 0.19864981188307004]}, {\"boxpoints\": \"all\", \"jitter\": 0.2, \"line\": {\"color\": \"#AB63FA\"}, \"marker\": {\"color\": \"#AB63FA\", \"line\": {\"color\": \"black\", \"width\": 1}, \"opacity\": 0.7, \"symbol\": \"circle\"}, \"name\": \"Score\", \"pointpos\": -1.5, \"type\": \"box\", \"visible\": false, \"y\": [0.0023155933407800226, 0.002315593340781343, 0.002315613501561583, 0.0023155933407814247, 0.002315735235268487, 0.0023156834585473076, 0.0023155933407968477, 0.002315593340785314, 0.0023157352352718165, 0.002315751822892631]}],\n",
       "                        {\"autosize\": true, \"legend\": {\"x\": 1.05, \"xanchor\": \"left\", \"y\": 0.01, \"yanchor\": \"bottom\"}, \"template\": {\"data\": {\"bar\": [{\"error_x\": {\"color\": \"#2a3f5f\"}, \"error_y\": {\"color\": \"#2a3f5f\"}, \"marker\": {\"line\": {\"color\": \"white\", \"width\": 0.5}}, \"type\": \"bar\"}], \"barpolar\": [{\"marker\": {\"line\": {\"color\": \"white\", \"width\": 0.5}}, \"type\": \"barpolar\"}], \"carpet\": [{\"aaxis\": {\"endlinecolor\": \"#2a3f5f\", \"gridcolor\": \"#C8D4E3\", \"linecolor\": \"#C8D4E3\", \"minorgridcolor\": \"#C8D4E3\", \"startlinecolor\": \"#2a3f5f\"}, \"baxis\": {\"endlinecolor\": \"#2a3f5f\", \"gridcolor\": \"#C8D4E3\", \"linecolor\": \"#C8D4E3\", \"minorgridcolor\": \"#C8D4E3\", \"startlinecolor\": \"#2a3f5f\"}, \"type\": \"carpet\"}], \"choropleth\": [{\"colorbar\": {\"outlinewidth\": 0, \"ticks\": \"\"}, \"type\": \"choropleth\"}], \"contour\": [{\"colorbar\": {\"outlinewidth\": 0, \"ticks\": \"\"}, \"colorscale\": [[0.0, \"#0d0887\"], [0.1111111111111111, \"#46039f\"], [0.2222222222222222, \"#7201a8\"], [0.3333333333333333, \"#9c179e\"], [0.4444444444444444, \"#bd3786\"], [0.5555555555555556, \"#d8576b\"], [0.6666666666666666, \"#ed7953\"], [0.7777777777777778, \"#fb9f3a\"], [0.8888888888888888, \"#fdca26\"], [1.0, \"#f0f921\"]], \"type\": \"contour\"}], \"contourcarpet\": [{\"colorbar\": {\"outlinewidth\": 0, \"ticks\": \"\"}, \"type\": \"contourcarpet\"}], \"heatmap\": [{\"colorbar\": {\"outlinewidth\": 0, \"ticks\": \"\"}, \"colorscale\": [[0.0, \"#0d0887\"], [0.1111111111111111, \"#46039f\"], [0.2222222222222222, \"#7201a8\"], [0.3333333333333333, \"#9c179e\"], [0.4444444444444444, \"#bd3786\"], [0.5555555555555556, \"#d8576b\"], [0.6666666666666666, \"#ed7953\"], [0.7777777777777778, \"#fb9f3a\"], [0.8888888888888888, \"#fdca26\"], [1.0, \"#f0f921\"]], \"type\": \"heatmap\"}], \"heatmapgl\": [{\"colorbar\": {\"outlinewidth\": 0, \"ticks\": \"\"}, \"colorscale\": [[0.0, \"#0d0887\"], [0.1111111111111111, \"#46039f\"], [0.2222222222222222, \"#7201a8\"], [0.3333333333333333, \"#9c179e\"], [0.4444444444444444, \"#bd3786\"], [0.5555555555555556, \"#d8576b\"], [0.6666666666666666, \"#ed7953\"], [0.7777777777777778, \"#fb9f3a\"], [0.8888888888888888, \"#fdca26\"], [1.0, \"#f0f921\"]], \"type\": \"heatmapgl\"}], \"histogram\": [{\"marker\": {\"colorbar\": {\"outlinewidth\": 0, \"ticks\": \"\"}}, \"type\": \"histogram\"}], \"histogram2d\": [{\"colorbar\": {\"outlinewidth\": 0, \"ticks\": \"\"}, \"colorscale\": [[0.0, \"#0d0887\"], [0.1111111111111111, \"#46039f\"], [0.2222222222222222, \"#7201a8\"], [0.3333333333333333, \"#9c179e\"], [0.4444444444444444, \"#bd3786\"], [0.5555555555555556, \"#d8576b\"], [0.6666666666666666, \"#ed7953\"], [0.7777777777777778, \"#fb9f3a\"], [0.8888888888888888, \"#fdca26\"], [1.0, \"#f0f921\"]], \"type\": \"histogram2d\"}], \"histogram2dcontour\": [{\"colorbar\": {\"outlinewidth\": 0, \"ticks\": \"\"}, \"colorscale\": [[0.0, \"#0d0887\"], [0.1111111111111111, \"#46039f\"], [0.2222222222222222, \"#7201a8\"], [0.3333333333333333, \"#9c179e\"], [0.4444444444444444, \"#bd3786\"], [0.5555555555555556, \"#d8576b\"], [0.6666666666666666, \"#ed7953\"], [0.7777777777777778, \"#fb9f3a\"], [0.8888888888888888, \"#fdca26\"], [1.0, \"#f0f921\"]], \"type\": \"histogram2dcontour\"}], \"mesh3d\": [{\"colorbar\": {\"outlinewidth\": 0, \"ticks\": \"\"}, \"type\": \"mesh3d\"}], \"parcoords\": [{\"line\": {\"colorbar\": {\"outlinewidth\": 0, \"ticks\": \"\"}}, \"type\": \"parcoords\"}], \"pie\": [{\"automargin\": true, \"type\": \"pie\"}], \"scatter\": [{\"marker\": {\"colorbar\": {\"outlinewidth\": 0, \"ticks\": \"\"}}, \"type\": \"scatter\"}], \"scatter3d\": [{\"line\": {\"colorbar\": {\"outlinewidth\": 0, \"ticks\": \"\"}}, \"marker\": {\"colorbar\": {\"outlinewidth\": 0, \"ticks\": \"\"}}, \"type\": \"scatter3d\"}], \"scattercarpet\": [{\"marker\": {\"colorbar\": {\"outlinewidth\": 0, \"ticks\": \"\"}}, \"type\": \"scattercarpet\"}], \"scattergeo\": [{\"marker\": {\"colorbar\": {\"outlinewidth\": 0, \"ticks\": \"\"}}, \"type\": \"scattergeo\"}], \"scattergl\": [{\"marker\": {\"colorbar\": {\"outlinewidth\": 0, \"ticks\": \"\"}}, \"type\": \"scattergl\"}], \"scattermapbox\": [{\"marker\": {\"colorbar\": {\"outlinewidth\": 0, \"ticks\": \"\"}}, \"type\": \"scattermapbox\"}], \"scatterpolar\": [{\"marker\": {\"colorbar\": {\"outlinewidth\": 0, \"ticks\": \"\"}}, \"type\": \"scatterpolar\"}], \"scatterpolargl\": [{\"marker\": {\"colorbar\": {\"outlinewidth\": 0, \"ticks\": \"\"}}, \"type\": \"scatterpolargl\"}], \"scatterternary\": [{\"marker\": {\"colorbar\": {\"outlinewidth\": 0, \"ticks\": \"\"}}, \"type\": \"scatterternary\"}], \"surface\": [{\"colorbar\": {\"outlinewidth\": 0, \"ticks\": \"\"}, \"colorscale\": [[0.0, \"#0d0887\"], [0.1111111111111111, \"#46039f\"], [0.2222222222222222, \"#7201a8\"], [0.3333333333333333, \"#9c179e\"], [0.4444444444444444, \"#bd3786\"], [0.5555555555555556, \"#d8576b\"], [0.6666666666666666, \"#ed7953\"], [0.7777777777777778, \"#fb9f3a\"], [0.8888888888888888, \"#fdca26\"], [1.0, \"#f0f921\"]], \"type\": \"surface\"}], \"table\": [{\"cells\": {\"fill\": {\"color\": \"#EBF0F8\"}, \"line\": {\"color\": \"white\"}}, \"header\": {\"fill\": {\"color\": \"#C8D4E3\"}, \"line\": {\"color\": \"white\"}}, \"type\": \"table\"}]}, \"layout\": {\"annotationdefaults\": {\"arrowcolor\": \"#2a3f5f\", \"arrowhead\": 0, \"arrowwidth\": 1}, \"coloraxis\": {\"colorbar\": {\"outlinewidth\": 0, \"ticks\": \"\"}}, \"colorscale\": {\"diverging\": [[0, \"#8e0152\"], [0.1, \"#c51b7d\"], [0.2, \"#de77ae\"], [0.3, \"#f1b6da\"], [0.4, \"#fde0ef\"], [0.5, \"#f7f7f7\"], [0.6, \"#e6f5d0\"], [0.7, \"#b8e186\"], [0.8, \"#7fbc41\"], [0.9, \"#4d9221\"], [1, \"#276419\"]], \"sequential\": [[0.0, \"#0d0887\"], [0.1111111111111111, \"#46039f\"], [0.2222222222222222, \"#7201a8\"], [0.3333333333333333, \"#9c179e\"], [0.4444444444444444, \"#bd3786\"], [0.5555555555555556, \"#d8576b\"], [0.6666666666666666, \"#ed7953\"], [0.7777777777777778, \"#fb9f3a\"], [0.8888888888888888, \"#fdca26\"], [1.0, \"#f0f921\"]], \"sequentialminus\": [[0.0, \"#0d0887\"], [0.1111111111111111, \"#46039f\"], [0.2222222222222222, \"#7201a8\"], [0.3333333333333333, \"#9c179e\"], [0.4444444444444444, \"#bd3786\"], [0.5555555555555556, \"#d8576b\"], [0.6666666666666666, \"#ed7953\"], [0.7777777777777778, \"#fb9f3a\"], [0.8888888888888888, \"#fdca26\"], [1.0, \"#f0f921\"]]}, \"colorway\": [\"#636efa\", \"#EF553B\", \"#00cc96\", \"#ab63fa\", \"#FFA15A\", \"#19d3f3\", \"#FF6692\", \"#B6E880\", \"#FF97FF\", \"#FECB52\"], \"font\": {\"color\": \"#2a3f5f\"}, \"geo\": {\"bgcolor\": \"white\", \"lakecolor\": \"white\", \"landcolor\": \"white\", \"showlakes\": true, \"showland\": true, \"subunitcolor\": \"#C8D4E3\"}, \"hoverlabel\": {\"align\": \"left\"}, \"hovermode\": \"closest\", \"mapbox\": {\"style\": \"light\"}, \"paper_bgcolor\": \"white\", \"plot_bgcolor\": \"white\", \"polar\": {\"angularaxis\": {\"gridcolor\": \"#EBF0F8\", \"linecolor\": \"#EBF0F8\", \"ticks\": \"\"}, \"bgcolor\": \"white\", \"radialaxis\": {\"gridcolor\": \"#EBF0F8\", \"linecolor\": \"#EBF0F8\", \"ticks\": \"\"}}, \"scene\": {\"xaxis\": {\"backgroundcolor\": \"white\", \"gridcolor\": \"#DFE8F3\", \"gridwidth\": 2, \"linecolor\": \"#EBF0F8\", \"showbackground\": true, \"ticks\": \"\", \"zerolinecolor\": \"#EBF0F8\"}, \"yaxis\": {\"backgroundcolor\": \"white\", \"gridcolor\": \"#DFE8F3\", \"gridwidth\": 2, \"linecolor\": \"#EBF0F8\", \"showbackground\": true, \"ticks\": \"\", \"zerolinecolor\": \"#EBF0F8\"}, \"zaxis\": {\"backgroundcolor\": \"white\", \"gridcolor\": \"#DFE8F3\", \"gridwidth\": 2, \"linecolor\": \"#EBF0F8\", \"showbackground\": true, \"ticks\": \"\", \"zerolinecolor\": \"#EBF0F8\"}}, \"shapedefaults\": {\"line\": {\"color\": \"#2a3f5f\"}}, \"ternary\": {\"aaxis\": {\"gridcolor\": \"#DFE8F3\", \"linecolor\": \"#A2B1C6\", \"ticks\": \"\"}, \"baxis\": {\"gridcolor\": \"#DFE8F3\", \"linecolor\": \"#A2B1C6\", \"ticks\": \"\"}, \"bgcolor\": \"white\", \"caxis\": {\"gridcolor\": \"#DFE8F3\", \"linecolor\": \"#A2B1C6\", \"ticks\": \"\"}}, \"title\": {\"x\": 0.05}, \"xaxis\": {\"automargin\": true, \"gridcolor\": \"#EBF0F8\", \"linecolor\": \"#EBF0F8\", \"ticks\": \"\", \"title\": {\"standoff\": 15}, \"zerolinecolor\": \"#EBF0F8\", \"zerolinewidth\": 2}, \"yaxis\": {\"automargin\": true, \"gridcolor\": \"#EBF0F8\", \"linecolor\": \"#EBF0F8\", \"ticks\": \"\", \"title\": {\"standoff\": 15}, \"zerolinecolor\": \"#EBF0F8\", \"zerolinewidth\": 2}}}, \"updatemenus\": [{\"buttons\": [{\"args\": [{\"visible\": [true, true, true, true, false, false, false, false, false, false, false, false, false, false, false, false, false, false, false, false, false, false, false, false, false, false, false, false, false, false, false, false]}], \"label\": \"ID: 40\", \"method\": \"restyle\"}, {\"args\": [{\"visible\": [false, false, false, false, true, true, true, true, false, false, false, false, false, false, false, false, false, false, false, false, false, false, false, false, false, false, false, false, false, false, false, false]}], \"label\": \"ID: 94\", \"method\": \"restyle\"}, {\"args\": [{\"visible\": [false, false, false, false, false, false, false, false, true, true, true, true, false, false, false, false, false, false, false, false, false, false, false, false, false, false, false, false, false, false, false, false]}], \"label\": \"ID: 95\", \"method\": \"restyle\"}, {\"args\": [{\"visible\": [false, false, false, false, false, false, false, false, false, false, false, false, true, true, true, true, false, false, false, false, false, false, false, false, false, false, false, false, false, false, false, false]}], \"label\": \"ID: 136\", \"method\": \"restyle\"}, {\"args\": [{\"visible\": [false, false, false, false, false, false, false, false, false, false, false, false, false, false, false, false, true, true, true, true, false, false, false, false, false, false, false, false, false, false, false, false]}], \"label\": \"ID: 140\", \"method\": \"restyle\"}, {\"args\": [{\"visible\": [false, false, false, false, false, false, false, false, false, false, false, false, false, false, false, false, false, false, false, false, true, true, true, true, false, false, false, false, false, false, false, false]}], \"label\": \"ID: 155\", \"method\": \"restyle\"}, {\"args\": [{\"visible\": [false, false, false, false, false, false, false, false, false, false, false, false, false, false, false, false, false, false, false, false, false, false, false, false, true, true, true, true, false, false, false, false]}], \"label\": \"ID: 169\", \"method\": \"restyle\"}, {\"args\": [{\"visible\": [false, false, false, false, false, false, false, false, false, false, false, false, false, false, false, false, false, false, false, false, false, false, false, false, false, false, false, false, true, true, true, true]}], \"label\": \"ID: 170\", \"method\": \"restyle\"}], \"direction\": \"right\", \"pad\": {\"r\": 0, \"t\": -10}, \"showactive\": true, \"type\": \"buttons\", \"x\": 0.0, \"xanchor\": \"left\", \"y\": 1.1, \"yanchor\": \"top\"}]},\n",
       "                        {\"responsive\": true}\n",
       "                    ).then(function(){\n",
       "                            \n",
       "var gd = document.getElementById('390e073e-f3c6-4aee-a759-597bc9aebd11');\n",
       "var x = new MutationObserver(function (mutations, observer) {{\n",
       "        var display = window.getComputedStyle(gd).display;\n",
       "        if (!display || display === 'none') {{\n",
       "            console.log([gd, 'removed!']);\n",
       "            Plotly.purge(gd);\n",
       "            observer.disconnect();\n",
       "        }}\n",
       "}});\n",
       "\n",
       "// Listen for the removal of the full notebook cells\n",
       "var notebookContainer = gd.closest('#notebook-container');\n",
       "if (notebookContainer) {{\n",
       "    x.observe(notebookContainer, {childList: true});\n",
       "}}\n",
       "\n",
       "// Listen for the clearing of the current output cell\n",
       "var outputEl = gd.closest('.output');\n",
       "if (outputEl) {{\n",
       "    x.observe(outputEl, {childList: true});\n",
       "}}\n",
       "\n",
       "                        })\n",
       "                };\n",
       "                });\n",
       "            </script>\n",
       "        </div>"
      ]
     },
     "metadata": {},
     "output_type": "display_data"
    }
   ],
   "source": [
    "#\n",
    "# Visualisation of the spread of optimised model parameters for multiple runs from different initial points.\n",
    "#\n",
    "# This cell needs the above optimised initial parameter from psi_0=(1, 1, 1) and the five runs from a random initial starting point, and their respective objective function scores, as well as the data\n",
    "# [mouse_parameters_dimless_log_transformed_optimisation, mouse_scores_dimless_log_transformed, data]\n",
    "#\n",
    "\n",
    "import plotly.colors\n",
    "import plotly.graph_objects as go\n",
    "\n",
    "\n",
    "# Get mouse ids\n",
    "mouse_ids = data['#ID'].unique()\n",
    "\n",
    "# Get number of parameters + score (for visualisation)\n",
    "n_params = mouse_parameters_dimless_log_transformed_optimisation.shape[2] + 1\n",
    "\n",
    "# Define colorscheme\n",
    "colors = plotly.colors.qualitative.Plotly[:n_params]\n",
    "\n",
    "# Get optimised parameters\n",
    "optimised_parameters = mouse_parameters_dimless_log_transformed_optimisation\n",
    "\n",
    "# Get optimised parameters\n",
    "scores = mouse_scores_dimless_log_transformed\n",
    "\n",
    "# Create figure\n",
    "fig = go.Figure()\n",
    "\n",
    "# Box plot of optimised model parameters\n",
    "for index, id_m in enumerate(mouse_ids):\n",
    "    # Get optimised parameters\n",
    "    parameters = optimised_parameters[index, ...]\n",
    "\n",
    "    # Get scores\n",
    "    score = scores[index, :]\n",
    "\n",
    "    # Create box plot of for initial tumour volume\n",
    "    fig.add_trace(\n",
    "        go.Box(\n",
    "            y=parameters[:, 0],  \n",
    "            name=\"Initial tumour volume in cm^3\",\n",
    "            boxpoints='all',\n",
    "            jitter=0.2,\n",
    "            pointpos=-1.5,\n",
    "            visible=True if index == 0 else False,\n",
    "            marker=dict(\n",
    "                symbol='circle',\n",
    "                opacity=0.7,\n",
    "                line=dict(color='black', width=1)),\n",
    "            marker_color=colors[0],\n",
    "            line_color=colors[0]))\n",
    "\n",
    "    # Create box plot of for exponential tumour growth\n",
    "    fig.add_trace(\n",
    "        go.Box(\n",
    "            y=parameters[:, 1],  \n",
    "            name=\"Exponential growth rate in 1/day\",\n",
    "            boxpoints='all',\n",
    "            jitter=0.2,\n",
    "            pointpos=-1.5,\n",
    "            visible=True if index == 0 else False,\n",
    "            marker=dict(\n",
    "                symbol='circle',\n",
    "                opacity=0.7,\n",
    "                line=dict(color='black', width=1)),\n",
    "            marker_color=colors[1],\n",
    "            line_color=colors[1]))\n",
    "\n",
    "    # Create box plot of for linear tumour growth\n",
    "    fig.add_trace(\n",
    "        go.Box(\n",
    "            y=parameters[:, 2],  \n",
    "            name=\"Linear growth rate in cm^3/day\",\n",
    "            boxpoints='all',\n",
    "            jitter=0.2,\n",
    "            pointpos=-1.5,\n",
    "            visible=True if index == 0 else False,\n",
    "            marker=dict(\n",
    "                symbol='circle',\n",
    "                opacity=0.7,\n",
    "                line=dict(color='black', width=1)),\n",
    "            marker_color=colors[2],\n",
    "            line_color=colors[2]))\n",
    "    \n",
    "    # Create box plot of for objective function score\n",
    "    fig.add_trace(\n",
    "        go.Box(\n",
    "            y=score,  \n",
    "            name=\"Score\",\n",
    "            boxpoints='all',\n",
    "            jitter=0.2,\n",
    "            pointpos=-1.5,\n",
    "            visible=True if index == 0 else False,\n",
    "            marker=dict(\n",
    "                symbol='circle',\n",
    "                opacity=0.7,\n",
    "                line=dict(color='black', width=1)),\n",
    "            marker_color=colors[3],\n",
    "            line_color=colors[3]))\n",
    "\n",
    "# Set figure size\n",
    "fig.update_layout(\n",
    "    autosize=True,\n",
    "    template=\"plotly_white\")\n",
    "\n",
    "# Add switch between mice\n",
    "fig.update_layout(\n",
    "    updatemenus=[\n",
    "        dict(\n",
    "            type = \"buttons\",\n",
    "            direction = \"right\",\n",
    "            buttons=list([\n",
    "                dict(\n",
    "                    args=[{\"visible\": [True]*4 + [False]*(4 * 7)}],\n",
    "                    label=\"ID: %d\" % mouse_ids[0],\n",
    "                    method=\"restyle\"\n",
    "                ),\n",
    "                dict(\n",
    "                    args=[{\"visible\": [False]*4 + [True]*4 + [False]*(4 * 6)}],\n",
    "                    label=\"ID: %d\" % mouse_ids[1],\n",
    "                    method=\"restyle\"\n",
    "                ),\n",
    "                dict(\n",
    "                    args=[{\"visible\": [False]*(4 * 2) + [True]*4 + [False]*(4 * 5)}],\n",
    "                    label=\"ID: %d\" % mouse_ids[2],\n",
    "                    method=\"restyle\"\n",
    "                ),\n",
    "                dict(\n",
    "                    args=[{\"visible\": [False]*(4 * 3) + [True]*4 + [False]*(4 * 4)}],\n",
    "                    label=\"ID: %d\" % mouse_ids[3],\n",
    "                    method=\"restyle\"\n",
    "                ),\n",
    "                dict(\n",
    "                    args=[{\"visible\": [False]*(4 * 4) + [True]*4 + [False]*(4 * 3)}],\n",
    "                    label=\"ID: %d\" % mouse_ids[4],\n",
    "                    method=\"restyle\"\n",
    "                ),\n",
    "                dict(\n",
    "                    args=[{\"visible\": [False]*(4 * 5) + [True]*4 + [False]*(4 * 2)}],\n",
    "                    label=\"ID: %d\" % mouse_ids[5],\n",
    "                    method=\"restyle\"\n",
    "                ),\n",
    "                dict(\n",
    "                    args=[{\"visible\": [False]*(4 * 6) + [True]*4 + [False]* 4}],\n",
    "                    label=\"ID: %d\" % mouse_ids[6],\n",
    "                    method=\"restyle\"\n",
    "                ),\n",
    "                dict(\n",
    "                    args=[{\"visible\": [False]*(4 * 7) + [True]*4}],\n",
    "                    label=\"ID: %d\" % mouse_ids[7],\n",
    "                    method=\"restyle\"\n",
    "                )\n",
    "            ]),\n",
    "            pad={\"r\": 0, \"t\": -10},\n",
    "            showactive=True,\n",
    "            x=0.0,\n",
    "            xanchor=\"left\",\n",
    "            y=1.1,\n",
    "            yanchor=\"top\"\n",
    "        )\n",
    "    ]\n",
    ")\n",
    "\n",
    "# Position legend\n",
    "fig.update_layout(legend=dict(\n",
    "    yanchor=\"bottom\",\n",
    "    y=0.01,\n",
    "    xanchor=\"left\",\n",
    "    x=1.05))\n",
    "\n",
    "# Show figure\n",
    "fig.show()\n"
   ]
  },
  {
   "cell_type": "markdown",
   "metadata": {},
   "source": [
    "**Figure 7:**"
   ]
  },
  {
   "cell_type": "markdown",
   "metadata": {},
   "source": [
    "A linear growth of 100 cm^3/day does not seem feasible. It looks more like an artefact of the model. An extremely large linear growth rate keeps the model in the exponential growth phase for longer."
   ]
  },
  {
   "cell_type": "markdown",
   "metadata": {},
   "source": [
    "## Ultimate identifiability test\n",
    "\n",
    "We now have a good idea for reasonable parameter values $\\psi $ for all mice. The ultimate identifiability test is now to simulate data with the inferred parameters and check whether we can recover the exact same parameters."
   ]
  },
  {
   "cell_type": "code",
   "execution_count": 20,
   "metadata": {
    "tags": []
   },
   "outputs": [],
   "source": [
    "#\n",
    "# Simulate \"noise-free\" data for with median of inferred model parameters. \n",
    "#\n",
    "# This cell needs the above inferred model parameters, and the above defined model.\n",
    "# [mouse_parameters_dimless_log_transformed_optimisation]\n",
    "#\n",
    "\n",
    "import os\n",
    "\n",
    "import numpy as np\n",
    "import pandas as pd\n",
    "\n",
    "\n",
    "# Import data\n",
    "# Get path of current working directory\n",
    "path = os.getcwd()\n",
    "\n",
    "# Import LXF A677 control growth data\n",
    "data = pd.read_csv(path + '/data/lxf_control_growth.csv')\n",
    "\n",
    "# Get mouse IDs and times\n",
    "mouse_ids_and_times = data[['#ID', 'TIME in day']]\n",
    "\n",
    "# Get median parameters for each mouse\n",
    "median_parameters = np.median(mouse_parameters_dimless_log_transformed_optimisation, axis=1)\n",
    "\n",
    "# Define model\n",
    "path = pkpd.ModelLibrary().get_path('Tumour growth without treatment - Eigenmann et. al.')\n",
    "model = pkpd.PharmacodynamicModel(path, is_log_transformed=False)\n",
    "\n",
    "# Create container for simulated synthesised data\n",
    "simulated_data = []\n",
    "\n",
    "# Simulate \"noise-free\" data\n",
    "mouse_ids = mouse_ids_and_times['#ID'].unique()\n",
    "for index, mouse_id in enumerate(mouse_ids):\n",
    "    # Create mask for mouse\n",
    "    mask = mouse_ids_and_times['#ID'] == mouse_id\n",
    "\n",
    "    # Get times\n",
    "    times = mouse_ids_and_times[mask]['TIME in day'].to_numpy()\n",
    "\n",
    "    # Get parameters\n",
    "    parameters = median_parameters[index, :]\n",
    "\n",
    "    # Simulate data\n",
    "    simulated_volumes = model.simulate(parameters, times)\n",
    "\n",
    "    # Save dataframe\n",
    "    df = pd.DataFrame({\n",
    "        '#ID': mouse_ids_and_times[mask]['#ID'],\n",
    "        'TIME in day': mouse_ids_and_times[mask]['TIME in day'],\n",
    "        'SIMULATED TUMOUR VOLUME in cm^3': simulated_volumes})\n",
    "    simulated_data.append(df)\n",
    "\n",
    "# Merge mouse dataframes to one dataframe\n",
    "simulated_data = pd.concat(simulated_data)\n"
   ]
  },
  {
   "cell_type": "code",
   "execution_count": 24,
   "metadata": {},
   "outputs": [],
   "source": [
    "#\n",
    "# Run optimisation multiple times from random initial starting points.\n",
    "#\n",
    "# This cell needs the above defined wrapped myokit model and the simulated data:\n",
    "# [simulated_data]\n",
    "#\n",
    "\n",
    "import myokit\n",
    "import numpy as np\n",
    "import pandas as pd\n",
    "import pints\n",
    "\n",
    "\n",
    "# Define characteristic scales\n",
    "characteristic_volume = 1  # in cm^3\n",
    "characteristic_time = 1  # in day\n",
    "\n",
    "# Define number of optimisation runs for each individual\n",
    "n_runs = 10\n",
    "\n",
    "# Define model\n",
    "path = pkpd.ModelLibrary().get_path('Tumour growth without treatment - dimensionless')\n",
    "model = pkpd.PharmacodynamicModel(path, is_log_transformed=True)\n",
    "\n",
    "# Define container for the structural model estimates\n",
    "# Shape (n_mice, n_runs, n_parameters)\n",
    "n_mice = len(simulated_data['#ID'].unique())\n",
    "n_parameters = 3\n",
    "recovered_parameters = np.empty(shape=(n_mice, n_runs, n_parameters))\n",
    "\n",
    "# Define container for the objective function score for the optimised parameters\n",
    "recovered_parameters_scores = np.empty(shape=(n_mice, n_runs))\n",
    "\n",
    "# Define random starting points over many orders of magnitude\n",
    "# Shape = (n_runs, n_parameters)\n",
    "initial_parameters = np.random.uniform(low=1E-3, high=1E3, size=(n_runs, n_parameters))\n",
    "\n",
    "# Find mouse parameters for LXF A677 population\n",
    "mouse_ids = simulated_data['#ID'].unique()\n",
    "for index, mouse_id in enumerate(mouse_ids):\n",
    "    # Create mask for mouse with specfied ID\n",
    "    mouse_mask = simulated_data['#ID'] == mouse_id\n",
    "\n",
    "    # Get relevant time points\n",
    "    times = simulated_data[mouse_mask]['TIME in day'].to_numpy() / characteristic_time\n",
    "\n",
    "    # Get measured tumour volumes\n",
    "    observed_volumes = simulated_data[mouse_mask]['SIMULATED TUMOUR VOLUME in cm^3'].to_numpy() / characteristic_volume\n",
    "\n",
    "    # Create inverse problem\n",
    "    problem = pints.SingleOutputProblem(model, times, observed_volumes)\n",
    "\n",
    "    # Create sum of squares error objective function\n",
    "    error = pints.SumOfSquaresError(problem)\n",
    "\n",
    "    # Create boundaries to biologically relevant values\n",
    "    boundary = pints.RectangularBoundaries(lower=np.log([1E-3]*3), upper=np.log([1E3]*3))\n",
    "\n",
    "    # Run optimisation multiple times\n",
    "    for run_id, initial_params in enumerate(initial_parameters):\n",
    "        # Transform parameters to log-scale\n",
    "        log_initial_params = np.log(initial_params)\n",
    "\n",
    "        # Create optimisation controller with a CMA-ES optimiser\n",
    "        optimiser = pints.OptimisationController(\n",
    "            function=error,\n",
    "            x0=log_initial_params,\n",
    "            boundaries=boundary,\n",
    "            method=pints.CMAES)\n",
    "\n",
    "        # Disable logging mode\n",
    "        optimiser.set_log_to_screen(False)\n",
    "\n",
    "        # Parallelise optimisation\n",
    "        optimiser.set_parallel(True)\n",
    "\n",
    "        # Find optimal parameters\n",
    "        try:\n",
    "            estimates, score = optimiser.run()\n",
    "        except:\n",
    "            # If inference breaks fill estimates with nan\n",
    "            estimates = np.array([np.nan, np.nan, np.nan])\n",
    "            score = np.nan\n",
    "\n",
    "        # Save estimates and score (back transformed to linear scale)\n",
    "        recovered_parameters[index, run_id, :] = np.exp(estimates)\n",
    "        recovered_parameters_scores[index, run_id] = score"
   ]
  },
  {
   "cell_type": "code",
   "execution_count": 25,
   "metadata": {},
   "outputs": [],
   "source": [
    "#\n",
    "# Transform dimensionless parameters back to biological parameters.\n",
    "# \n",
    "# This cell needs the above inferred dimensionless parameters and the characteristic volume and time scale:\n",
    "# [recovered_parameters, characteristic_volume, characteristic_time]\n",
    "#\n",
    "\n",
    "import numpy as np\n",
    "\n",
    "\n",
    "# Initialise container for backtransformed paramters\n",
    "# Shape (n_mice, n_runs, n_parameters)\n",
    "recovered_parameters_transformed = np.empty(shape=recovered_parameters.shape)\n",
    "\n",
    "# Transform initial volumes\n",
    "recovered_parameters_transformed[:, :, 0] = recovered_parameters[:, :, 0] * characteristic_volume\n",
    "\n",
    "# Transform exponential growth rate\n",
    "# lambda_0 = a_1 / a_0 /t^c\n",
    "recovered_parameters_transformed[:, :, 1] = \\\n",
    "    recovered_parameters[:, :, 2] / 2 / recovered_parameters[:, :, 1] / characteristic_time\n",
    "\n",
    "# Transform linear growth rate\n",
    "# lambda_1 = a_1 / a_0 /t^c\n",
    "recovered_parameters_transformed[:, :, 2] = \\\n",
    "    recovered_parameters[:, :, 2] * characteristic_volume / characteristic_time\n"
   ]
  },
  {
   "cell_type": "code",
   "execution_count": 26,
   "metadata": {},
   "outputs": [
    {
     "data": {
      "application/vnd.plotly.v1+json": {
       "config": {
        "plotlyServerURL": "https://plot.ly"
       },
       "data": [
        {
         "boxpoints": "all",
         "jitter": 0.2,
         "line": {
          "color": "#636EFA"
         },
         "marker": {
          "color": "#636EFA",
          "line": {
           "color": "black",
           "width": 1
          },
          "opacity": 0.7,
          "symbol": "circle"
         },
         "name": "Initial tumour volume in cm^3",
         "pointpos": -1.5,
         "type": "box",
         "visible": true,
         "y": [
          0.13961516233473997,
          0.13961518492172578,
          0.13961520248151962,
          0.13964469320354414,
          0.13961517162157938,
          0.1396125885964337,
          0.13954253124001023,
          0.1396151603504244,
          0.13961519435743724,
          0.1396152080443933
         ]
        },
        {
         "boxpoints": "all",
         "jitter": 0.2,
         "line": {
          "color": "#EF553B"
         },
         "marker": {
          "color": "#EF553B",
          "line": {
           "color": "black",
           "width": 1
          },
          "opacity": 0.7,
          "symbol": "circle"
         },
         "name": "Exponential growth rate in 1/day",
         "pointpos": -1.5,
         "type": "box",
         "visible": true,
         "y": [
          0.27514260290119036,
          0.27514256312060603,
          0.27514253639065794,
          0.27474974913732286,
          0.27514258494348715,
          0.275153982589139,
          0.2755059048184821,
          0.2751426064039479,
          0.27514254522648574,
          0.27514252224659164
         ]
        },
        {
         "boxpoints": "all",
         "jitter": 0.2,
         "line": {
          "color": "#00CC96"
         },
         "marker": {
          "color": "#00CC96",
          "line": {
           "color": "black",
           "width": 1
          },
          "opacity": 0.7,
          "symbol": "circle"
         },
         "name": "Linear growth rate in cm^3/day",
         "pointpos": -1.5,
         "type": "box",
         "visible": true,
         "y": [
          0.13088963557236474,
          0.1308896374309398,
          0.13088964097281505,
          0.1309895670466508,
          0.13088963555173386,
          0.13088827868034872,
          0.13084464419662592,
          0.13088963519531258,
          0.13088963757644592,
          0.1308896394342268
         ]
        },
        {
         "boxpoints": "all",
         "jitter": 0.2,
         "line": {
          "color": "#AB63FA"
         },
         "marker": {
          "color": "#AB63FA",
          "line": {
           "color": "black",
           "width": 1
          },
          "opacity": 0.7,
          "symbol": "circle"
         },
         "name": "Score",
         "pointpos": -1.5,
         "type": "box",
         "visible": true,
         "y": [
          1.1859706982200828e-8,
          1.1859704626480632e-8,
          1.1859714758739927e-8,
          4.637463199390404e-9,
          1.1859704837788615e-8,
          1.2055353774485822e-8,
          3.2608167323635924e-8,
          1.185970238356352e-8,
          1.1859703788370919e-8,
          1.1859711271287577e-8
         ]
        },
        {
         "boxpoints": "all",
         "jitter": 0.2,
         "line": {
          "color": "#636EFA"
         },
         "marker": {
          "color": "#636EFA",
          "line": {
           "color": "black",
           "width": 1
          },
          "opacity": 0.7,
          "symbol": "circle"
         },
         "name": "Initial tumour volume in cm^3",
         "pointpos": -1.5,
         "type": "box",
         "visible": false,
         "y": [
          0.07467445135898927,
          0.07471092799645968,
          0.0746744513589901,
          0.07474032675704667,
          0.07467445135911088,
          0.07467445135897359,
          0.07467445135899034,
          0.07467445135898579,
          0.07467445135899163,
          0.07467445135899056
         ]
        },
        {
         "boxpoints": "all",
         "jitter": 0.2,
         "line": {
          "color": "#EF553B"
         },
         "marker": {
          "color": "#EF553B",
          "line": {
           "color": "black",
           "width": 1
          },
          "opacity": 0.7,
          "symbol": "circle"
         },
         "name": "Exponential growth rate in 1/day",
         "pointpos": -1.5,
         "type": "box",
         "visible": false,
         "y": [
          0.16648157186955947,
          0.16634374885819223,
          0.16648157186950793,
          0.16548523197438947,
          0.16648157186768808,
          0.16648157186978024,
          0.16648157186952148,
          0.1664815718695637,
          0.16648157186950663,
          0.16648157186951215
         ]
        },
        {
         "boxpoints": "all",
         "jitter": 0.2,
         "line": {
          "color": "#00CC96"
         },
         "marker": {
          "color": "#00CC96",
          "line": {
           "color": "black",
           "width": 1
          },
          "opacity": 0.7,
          "symbol": "circle"
         },
         "name": "Linear growth rate in cm^3/day",
         "pointpos": -1.5,
         "type": "box",
         "visible": false,
         "y": [
          0.0203549663831615,
          0.02034985209049468,
          0.02035496638316331,
          0.02038123798659614,
          0.020354966383226186,
          0.02035496638315523,
          0.020354966383162632,
          0.02035496638316179,
          0.02035496638316314,
          0.02035496638316302
         ]
        },
        {
         "boxpoints": "all",
         "jitter": 0.2,
         "line": {
          "color": "#AB63FA"
         },
         "marker": {
          "color": "#AB63FA",
          "line": {
           "color": "black",
           "width": 1
          },
          "opacity": 0.7,
          "symbol": "circle"
         },
         "name": "Score",
         "pointpos": -1.5,
         "type": "box",
         "visible": false,
         "y": [
          1.4374775178216895e-28,
          1.1140295436830122e-8,
          9.74867219249931e-30,
          1.3671968027566876e-8,
          2.344470653674269e-25,
          2.1548914295237902e-27,
          8.685366270203118e-30,
          1.409921312177397e-28,
          1.3335138934937221e-30,
          3.632689061103204e-30
         ]
        },
        {
         "boxpoints": "all",
         "jitter": 0.2,
         "line": {
          "color": "#636EFA"
         },
         "marker": {
          "color": "#636EFA",
          "line": {
           "color": "black",
           "width": 1
          },
          "opacity": 0.7,
          "symbol": "circle"
         },
         "name": "Initial tumour volume in cm^3",
         "pointpos": -1.5,
         "type": "box",
         "visible": false,
         "y": [
          0.22088761939162777,
          0.22089128337273017,
          0.22089086619452483,
          0.22089078343303994,
          0.2208908465303827,
          0.22089134844025154,
          0.22089218375747066,
          0.22089067916452823,
          0.22089090183753818,
          0.22089057640907064
         ]
        },
        {
         "boxpoints": "all",
         "jitter": 0.2,
         "line": {
          "color": "#EF553B"
         },
         "marker": {
          "color": "#EF553B",
          "line": {
           "color": "black",
           "width": 1
          },
          "opacity": 0.7,
          "symbol": "circle"
         },
         "name": "Exponential growth rate in 1/day",
         "pointpos": -1.5,
         "type": "box",
         "visible": false,
         "y": [
          0.0555980398408789,
          0.055596954747088666,
          0.05559699598514412,
          0.05559701511867691,
          0.0555969735182316,
          0.05559689448067573,
          0.05559655894213884,
          0.05559721516290301,
          0.05559696193586649,
          0.05559709251259703
         ]
        },
        {
         "boxpoints": "all",
         "jitter": 0.2,
         "line": {
          "color": "#00CC96"
         },
         "marker": {
          "color": "#00CC96",
          "line": {
           "color": "black",
           "width": 1
          },
          "opacity": 0.7,
          "symbol": "circle"
         },
         "name": "Linear growth rate in cm^3/day",
         "pointpos": -1.5,
         "type": "box",
         "visible": false,
         "y": [
          102.87174663480401,
          104.30011119071082,
          104.3160901050692,
          104.26726435406798,
          104.32639006580247,
          104.39170495805573,
          104.90141528622347,
          103.82337555014061,
          104.34030754708459,
          104.16401303014962
         ]
        },
        {
         "boxpoints": "all",
         "jitter": 0.2,
         "line": {
          "color": "#AB63FA"
         },
         "marker": {
          "color": "#AB63FA",
          "line": {
           "color": "black",
           "width": 1
          },
          "opacity": 0.7,
          "symbol": "circle"
         },
         "name": "Score",
         "pointpos": -1.5,
         "type": "box",
         "visible": false,
         "y": [
          2.058818695885026e-9,
          1.378442753659529e-9,
          1.36871613149886e-9,
          1.3856510497758828e-9,
          1.3608428000467693e-9,
          1.3342552020350322e-9,
          1.1292970561059872e-9,
          1.590674590432995e-9,
          1.354719426921892e-9,
          1.4313270089462852e-9
         ]
        },
        {
         "boxpoints": "all",
         "jitter": 0.2,
         "line": {
          "color": "#636EFA"
         },
         "marker": {
          "color": "#636EFA",
          "line": {
           "color": "black",
           "width": 1
          },
          "opacity": 0.7,
          "symbol": "circle"
         },
         "name": "Initial tumour volume in cm^3",
         "pointpos": -1.5,
         "type": "box",
         "visible": false,
         "y": [
          0.14895068010822976,
          0.14895068009462897,
          0.14895067843653703,
          0.1489506801310463,
          0.14895067827189348,
          0.14895068012532506,
          0.14895068209474774,
          0.14895067832187137,
          0.1489506784933573,
          0.1489506782767016
         ]
        },
        {
         "boxpoints": "all",
         "jitter": 0.2,
         "line": {
          "color": "#EF553B"
         },
         "marker": {
          "color": "#EF553B",
          "line": {
           "color": "black",
           "width": 1
          },
          "opacity": 0.7,
          "symbol": "circle"
         },
         "name": "Exponential growth rate in 1/day",
         "pointpos": -1.5,
         "type": "box",
         "visible": false,
         "y": [
          0.054248486286652825,
          0.05424848615983237,
          0.0542484870302166,
          0.05424848608460255,
          0.05424848727974356,
          0.054248486441355846,
          0.05424848558345453,
          0.05424848696782019,
          0.0542484869991864,
          0.054248487293629424
         ]
        },
        {
         "boxpoints": "all",
         "jitter": 0.2,
         "line": {
          "color": "#00CC96"
         },
         "marker": {
          "color": "#00CC96",
          "line": {
           "color": "black",
           "width": 1
          },
          "opacity": 0.7,
          "symbol": "circle"
         },
         "name": "Linear growth rate in cm^3/day",
         "pointpos": -1.5,
         "type": "box",
         "visible": false,
         "y": [
          0.12905803376432365,
          0.12905803461998416,
          0.12905803170806462,
          0.12905803490460402,
          0.12905803089194462,
          0.12905803301501179,
          0.1290580349056926,
          0.12905803206529742,
          0.12905803167839078,
          0.12905803032030702
         ]
        },
        {
         "boxpoints": "all",
         "jitter": 0.2,
         "line": {
          "color": "#AB63FA"
         },
         "marker": {
          "color": "#AB63FA",
          "line": {
           "color": "black",
           "width": 1
          },
          "opacity": 0.7,
          "symbol": "circle"
         },
         "name": "Score",
         "pointpos": -1.5,
         "type": "box",
         "visible": false,
         "y": [
          3.813525066233808e-8,
          3.8135250545960596e-8,
          3.813525065132413e-8,
          3.8135250659490334e-8,
          3.813525067352806e-8,
          3.8135250555661194e-8,
          3.813525062370248e-8,
          3.813525064996304e-8,
          3.8135250650920935e-8,
          3.813525065599096e-8
         ]
        },
        {
         "boxpoints": "all",
         "jitter": 0.2,
         "line": {
          "color": "#636EFA"
         },
         "marker": {
          "color": "#636EFA",
          "line": {
           "color": "black",
           "width": 1
          },
          "opacity": 0.7,
          "symbol": "circle"
         },
         "name": "Initial tumour volume in cm^3",
         "pointpos": -1.5,
         "type": "box",
         "visible": false,
         "y": [
          0.08416732622565821,
          0.0841676226276983,
          0.08416635935287753,
          0.08416575957397009,
          0.08416662301135375,
          0.08416726314227625,
          0.08416569007955703,
          0.08416661668677913,
          0.08416699054399218,
          0.08416631674798652
         ]
        },
        {
         "boxpoints": "all",
         "jitter": 0.2,
         "line": {
          "color": "#EF553B"
         },
         "marker": {
          "color": "#EF553B",
          "line": {
           "color": "black",
           "width": 1
          },
          "opacity": 0.7,
          "symbol": "circle"
         },
         "name": "Exponential growth rate in 1/day",
         "pointpos": -1.5,
         "type": "box",
         "visible": false,
         "y": [
          0.05418676973163373,
          0.05418661886527469,
          0.054187184913259884,
          0.054187380108485686,
          0.054187094850121166,
          0.05418680083718048,
          0.05418745974408474,
          0.054187110464519524,
          0.054186902659383855,
          0.05418724292102794
         ]
        },
        {
         "boxpoints": "all",
         "jitter": 0.2,
         "line": {
          "color": "#00CC96"
         },
         "marker": {
          "color": "#00CC96",
          "line": {
           "color": "black",
           "width": 1
          },
          "opacity": 0.7,
          "symbol": "circle"
         },
         "name": "Linear growth rate in cm^3/day",
         "pointpos": -1.5,
         "type": "box",
         "visible": false,
         "y": [
          101.43849531179595,
          101.72769296518297,
          100.81920078572666,
          100.60673509715257,
          100.92445927734755,
          101.40107923160772,
          100.3879580330307,
          100.8761708282693,
          101.26173197226223,
          100.65158603161827
         ]
        },
        {
         "boxpoints": "all",
         "jitter": 0.2,
         "line": {
          "color": "#AB63FA"
         },
         "marker": {
          "color": "#AB63FA",
          "line": {
           "color": "black",
           "width": 1
          },
          "opacity": 0.7,
          "symbol": "circle"
         },
         "name": "Score",
         "pointpos": -1.5,
         "type": "box",
         "visible": false,
         "y": [
          1.581744091580363e-9,
          1.4453232897228545e-9,
          1.9016793697452837e-9,
          2.023051920483536e-9,
          1.8456854416961328e-9,
          1.6007590920179427e-9,
          2.14300130686728e-9,
          1.8714332736438107e-9,
          1.6697477813469058e-9,
          1.9932946572531643e-9
         ]
        },
        {
         "boxpoints": "all",
         "jitter": 0.2,
         "line": {
          "color": "#636EFA"
         },
         "marker": {
          "color": "#636EFA",
          "line": {
           "color": "black",
           "width": 1
          },
          "opacity": 0.7,
          "symbol": "circle"
         },
         "name": "Initial tumour volume in cm^3",
         "pointpos": -1.5,
         "type": "box",
         "visible": false,
         "y": [
          0.1333107914725385,
          0.13327405400303735,
          0.13331079191590778,
          0.13331079158031894,
          0.13331078995800535,
          0.13331079181682792,
          0.13331079341185606,
          0.13331079166983256,
          0.13331079000246834,
          0.133310793346137
         ]
        },
        {
         "boxpoints": "all",
         "jitter": 0.2,
         "line": {
          "color": "#EF553B"
         },
         "marker": {
          "color": "#EF553B",
          "line": {
           "color": "black",
           "width": 1
          },
          "opacity": 0.7,
          "symbol": "circle"
         },
         "name": "Exponential growth rate in 1/day",
         "pointpos": -1.5,
         "type": "box",
         "visible": false,
         "y": [
          0.19708265868588806,
          0.19735967644869937,
          0.19708265841152017,
          0.19708266075352987,
          0.19708266221143056,
          0.19708265794322302,
          0.19708265629081,
          0.19708266202655084,
          0.19708266200611424,
          0.19708265641648243
         ]
        },
        {
         "boxpoints": "all",
         "jitter": 0.2,
         "line": {
          "color": "#00CC96"
         },
         "marker": {
          "color": "#00CC96",
          "line": {
           "color": "black",
           "width": 1
          },
          "opacity": 0.7,
          "symbol": "circle"
         },
         "name": "Linear growth rate in cm^3/day",
         "pointpos": -1.5,
         "type": "box",
         "visible": false,
         "y": [
          0.10854331125369325,
          0.1085369002849056,
          0.10854331113229523,
          0.10854331060563535,
          0.10854331057202463,
          0.10854331124032601,
          0.10854331129418408,
          0.10854331027012727,
          0.10854331056572243,
          0.10854331127591692
         ]
        },
        {
         "boxpoints": "all",
         "jitter": 0.2,
         "line": {
          "color": "#AB63FA"
         },
         "marker": {
          "color": "#AB63FA",
          "line": {
           "color": "black",
           "width": 1
          },
          "opacity": 0.7,
          "symbol": "circle"
         },
         "name": "Score",
         "pointpos": -1.5,
         "type": "box",
         "visible": false,
         "y": [
          1.0637112311785615e-8,
          1.6029414778777856e-27,
          1.0637112292408544e-8,
          1.063711229435922e-8,
          1.0637112314280763e-8,
          1.0637112296332613e-8,
          1.0637112372608428e-8,
          1.0637112306244033e-8,
          1.063711231792856e-8,
          1.0637112372531652e-8
         ]
        },
        {
         "boxpoints": "all",
         "jitter": 0.2,
         "line": {
          "color": "#636EFA"
         },
         "marker": {
          "color": "#636EFA",
          "line": {
           "color": "black",
           "width": 1
          },
          "opacity": 0.7,
          "symbol": "circle"
         },
         "name": "Initial tumour volume in cm^3",
         "pointpos": -1.5,
         "type": "box",
         "visible": false,
         "y": [
          0.12380949345349215,
          0.12377473355326099,
          0.12380949345348352,
          0.12380949345348848,
          0.12380949345282852,
          0.12380949345279893,
          0.12380949345289505,
          0.12380949345350953,
          0.12380949345352234,
          0.1238094934532278
         ]
        },
        {
         "boxpoints": "all",
         "jitter": 0.2,
         "line": {
          "color": "#EF553B"
         },
         "marker": {
          "color": "#EF553B",
          "line": {
           "color": "black",
           "width": 1
          },
          "opacity": 0.7,
          "symbol": "circle"
         },
         "name": "Exponential growth rate in 1/day",
         "pointpos": -1.5,
         "type": "box",
         "visible": false,
         "y": [
          0.04303161323184579,
          0.04304985268538408,
          0.04303161323184798,
          0.043031613231843104,
          0.04303161323316706,
          0.0430316132327544,
          0.043031613232799526,
          0.04303161323186222,
          0.04303161323181902,
          0.04303161323225137
         ]
        },
        {
         "boxpoints": "all",
         "jitter": 0.2,
         "line": {
          "color": "#00CC96"
         },
         "marker": {
          "color": "#00CC96",
          "line": {
           "color": "black",
           "width": 1
          },
          "opacity": 0.7,
          "symbol": "circle"
         },
         "name": "Linear growth rate in cm^3/day",
         "pointpos": -1.5,
         "type": "box",
         "visible": false,
         "y": [
          0.07299522369655996,
          0.07300650070280973,
          0.07299522369656758,
          0.07299522369658122,
          0.072995223692955,
          0.07299522369490138,
          0.07299522369454639,
          0.07299522369650174,
          0.07299522369665537,
          0.07299522369672995
         ]
        },
        {
         "boxpoints": "all",
         "jitter": 0.2,
         "line": {
          "color": "#AB63FA"
         },
         "marker": {
          "color": "#AB63FA",
          "line": {
           "color": "black",
           "width": 1
          },
          "opacity": 0.7,
          "symbol": "circle"
         },
         "name": "Score",
         "pointpos": -1.5,
         "type": "box",
         "visible": false,
         "y": [
          3.914925040463892e-24,
          1.0420505191796427e-8,
          3.9124437483977764e-24,
          3.9138410745133035e-24,
          3.4936139691594495e-24,
          9.636667136578046e-26,
          3.2031179000603444e-25,
          4.004393163080265e-24,
          3.9204293559486706e-24,
          2.3482597471209698e-24
         ]
        },
        {
         "boxpoints": "all",
         "jitter": 0.2,
         "line": {
          "color": "#636EFA"
         },
         "marker": {
          "color": "#636EFA",
          "line": {
           "color": "black",
           "width": 1
          },
          "opacity": 0.7,
          "symbol": "circle"
         },
         "name": "Initial tumour volume in cm^3",
         "pointpos": -1.5,
         "type": "box",
         "visible": false,
         "y": [
          0.08704782997971748,
          0.08704782997971934,
          0.0870478299797181,
          0.0870478299797181,
          0.08704782997971856,
          0.08704782997971655,
          0.0870478299797178,
          0.08704782997971965,
          0.0870478299797183,
          0.08704782997971872
         ]
        },
        {
         "boxpoints": "all",
         "jitter": 0.2,
         "line": {
          "color": "#EF553B"
         },
         "marker": {
          "color": "#EF553B",
          "line": {
           "color": "black",
           "width": 1
          },
          "opacity": 0.7,
          "symbol": "circle"
         },
         "name": "Exponential growth rate in 1/day",
         "pointpos": -1.5,
         "type": "box",
         "visible": false,
         "y": [
          0.03617215534169737,
          0.03617215534169627,
          0.03617215534169651,
          0.036172155341696995,
          0.03617215534169666,
          0.03617215534169793,
          0.03617215534169731,
          0.03617215534169512,
          0.03617215534169667,
          0.03617215534169666
         ]
        },
        {
         "boxpoints": "all",
         "jitter": 0.2,
         "line": {
          "color": "#00CC96"
         },
         "marker": {
          "color": "#00CC96",
          "line": {
           "color": "black",
           "width": 1
          },
          "opacity": 0.7,
          "symbol": "circle"
         },
         "name": "Linear growth rate in cm^3/day",
         "pointpos": -1.5,
         "type": "box",
         "visible": false,
         "y": [
          0.19325841272466907,
          0.19325841272471508,
          0.19325841272472558,
          0.19325841272469044,
          0.19325841272470204,
          0.19325841272466318,
          0.19325841272467015,
          0.1932584127247646,
          0.19325841272470826,
          0.19325841272470135
         ]
        },
        {
         "boxpoints": "all",
         "jitter": 0.2,
         "line": {
          "color": "#AB63FA"
         },
         "marker": {
          "color": "#AB63FA",
          "line": {
           "color": "black",
           "width": 1
          },
          "opacity": 0.7,
          "symbol": "circle"
         },
         "name": "Score",
         "pointpos": -1.5,
         "type": "box",
         "visible": false,
         "y": [
          2.8225273706972696e-29,
          3.900085174581928e-29,
          1.488474216819119e-29,
          1.5671291957478938e-30,
          3.9654897554933186e-30,
          2.8886060270891957e-29,
          5.987716197099916e-30,
          8.632191344438586e-29,
          1.5998700048024768e-30,
          4.183505025197954e-30
         ]
        }
       ],
       "layout": {
        "autosize": true,
        "legend": {
         "x": 1.05,
         "xanchor": "left",
         "y": 0.01,
         "yanchor": "bottom"
        },
        "template": {
         "data": {
          "bar": [
           {
            "error_x": {
             "color": "#2a3f5f"
            },
            "error_y": {
             "color": "#2a3f5f"
            },
            "marker": {
             "line": {
              "color": "white",
              "width": 0.5
             }
            },
            "type": "bar"
           }
          ],
          "barpolar": [
           {
            "marker": {
             "line": {
              "color": "white",
              "width": 0.5
             }
            },
            "type": "barpolar"
           }
          ],
          "carpet": [
           {
            "aaxis": {
             "endlinecolor": "#2a3f5f",
             "gridcolor": "#C8D4E3",
             "linecolor": "#C8D4E3",
             "minorgridcolor": "#C8D4E3",
             "startlinecolor": "#2a3f5f"
            },
            "baxis": {
             "endlinecolor": "#2a3f5f",
             "gridcolor": "#C8D4E3",
             "linecolor": "#C8D4E3",
             "minorgridcolor": "#C8D4E3",
             "startlinecolor": "#2a3f5f"
            },
            "type": "carpet"
           }
          ],
          "choropleth": [
           {
            "colorbar": {
             "outlinewidth": 0,
             "ticks": ""
            },
            "type": "choropleth"
           }
          ],
          "contour": [
           {
            "colorbar": {
             "outlinewidth": 0,
             "ticks": ""
            },
            "colorscale": [
             [
              0,
              "#0d0887"
             ],
             [
              0.1111111111111111,
              "#46039f"
             ],
             [
              0.2222222222222222,
              "#7201a8"
             ],
             [
              0.3333333333333333,
              "#9c179e"
             ],
             [
              0.4444444444444444,
              "#bd3786"
             ],
             [
              0.5555555555555556,
              "#d8576b"
             ],
             [
              0.6666666666666666,
              "#ed7953"
             ],
             [
              0.7777777777777778,
              "#fb9f3a"
             ],
             [
              0.8888888888888888,
              "#fdca26"
             ],
             [
              1,
              "#f0f921"
             ]
            ],
            "type": "contour"
           }
          ],
          "contourcarpet": [
           {
            "colorbar": {
             "outlinewidth": 0,
             "ticks": ""
            },
            "type": "contourcarpet"
           }
          ],
          "heatmap": [
           {
            "colorbar": {
             "outlinewidth": 0,
             "ticks": ""
            },
            "colorscale": [
             [
              0,
              "#0d0887"
             ],
             [
              0.1111111111111111,
              "#46039f"
             ],
             [
              0.2222222222222222,
              "#7201a8"
             ],
             [
              0.3333333333333333,
              "#9c179e"
             ],
             [
              0.4444444444444444,
              "#bd3786"
             ],
             [
              0.5555555555555556,
              "#d8576b"
             ],
             [
              0.6666666666666666,
              "#ed7953"
             ],
             [
              0.7777777777777778,
              "#fb9f3a"
             ],
             [
              0.8888888888888888,
              "#fdca26"
             ],
             [
              1,
              "#f0f921"
             ]
            ],
            "type": "heatmap"
           }
          ],
          "heatmapgl": [
           {
            "colorbar": {
             "outlinewidth": 0,
             "ticks": ""
            },
            "colorscale": [
             [
              0,
              "#0d0887"
             ],
             [
              0.1111111111111111,
              "#46039f"
             ],
             [
              0.2222222222222222,
              "#7201a8"
             ],
             [
              0.3333333333333333,
              "#9c179e"
             ],
             [
              0.4444444444444444,
              "#bd3786"
             ],
             [
              0.5555555555555556,
              "#d8576b"
             ],
             [
              0.6666666666666666,
              "#ed7953"
             ],
             [
              0.7777777777777778,
              "#fb9f3a"
             ],
             [
              0.8888888888888888,
              "#fdca26"
             ],
             [
              1,
              "#f0f921"
             ]
            ],
            "type": "heatmapgl"
           }
          ],
          "histogram": [
           {
            "marker": {
             "colorbar": {
              "outlinewidth": 0,
              "ticks": ""
             }
            },
            "type": "histogram"
           }
          ],
          "histogram2d": [
           {
            "colorbar": {
             "outlinewidth": 0,
             "ticks": ""
            },
            "colorscale": [
             [
              0,
              "#0d0887"
             ],
             [
              0.1111111111111111,
              "#46039f"
             ],
             [
              0.2222222222222222,
              "#7201a8"
             ],
             [
              0.3333333333333333,
              "#9c179e"
             ],
             [
              0.4444444444444444,
              "#bd3786"
             ],
             [
              0.5555555555555556,
              "#d8576b"
             ],
             [
              0.6666666666666666,
              "#ed7953"
             ],
             [
              0.7777777777777778,
              "#fb9f3a"
             ],
             [
              0.8888888888888888,
              "#fdca26"
             ],
             [
              1,
              "#f0f921"
             ]
            ],
            "type": "histogram2d"
           }
          ],
          "histogram2dcontour": [
           {
            "colorbar": {
             "outlinewidth": 0,
             "ticks": ""
            },
            "colorscale": [
             [
              0,
              "#0d0887"
             ],
             [
              0.1111111111111111,
              "#46039f"
             ],
             [
              0.2222222222222222,
              "#7201a8"
             ],
             [
              0.3333333333333333,
              "#9c179e"
             ],
             [
              0.4444444444444444,
              "#bd3786"
             ],
             [
              0.5555555555555556,
              "#d8576b"
             ],
             [
              0.6666666666666666,
              "#ed7953"
             ],
             [
              0.7777777777777778,
              "#fb9f3a"
             ],
             [
              0.8888888888888888,
              "#fdca26"
             ],
             [
              1,
              "#f0f921"
             ]
            ],
            "type": "histogram2dcontour"
           }
          ],
          "mesh3d": [
           {
            "colorbar": {
             "outlinewidth": 0,
             "ticks": ""
            },
            "type": "mesh3d"
           }
          ],
          "parcoords": [
           {
            "line": {
             "colorbar": {
              "outlinewidth": 0,
              "ticks": ""
             }
            },
            "type": "parcoords"
           }
          ],
          "pie": [
           {
            "automargin": true,
            "type": "pie"
           }
          ],
          "scatter": [
           {
            "marker": {
             "colorbar": {
              "outlinewidth": 0,
              "ticks": ""
             }
            },
            "type": "scatter"
           }
          ],
          "scatter3d": [
           {
            "line": {
             "colorbar": {
              "outlinewidth": 0,
              "ticks": ""
             }
            },
            "marker": {
             "colorbar": {
              "outlinewidth": 0,
              "ticks": ""
             }
            },
            "type": "scatter3d"
           }
          ],
          "scattercarpet": [
           {
            "marker": {
             "colorbar": {
              "outlinewidth": 0,
              "ticks": ""
             }
            },
            "type": "scattercarpet"
           }
          ],
          "scattergeo": [
           {
            "marker": {
             "colorbar": {
              "outlinewidth": 0,
              "ticks": ""
             }
            },
            "type": "scattergeo"
           }
          ],
          "scattergl": [
           {
            "marker": {
             "colorbar": {
              "outlinewidth": 0,
              "ticks": ""
             }
            },
            "type": "scattergl"
           }
          ],
          "scattermapbox": [
           {
            "marker": {
             "colorbar": {
              "outlinewidth": 0,
              "ticks": ""
             }
            },
            "type": "scattermapbox"
           }
          ],
          "scatterpolar": [
           {
            "marker": {
             "colorbar": {
              "outlinewidth": 0,
              "ticks": ""
             }
            },
            "type": "scatterpolar"
           }
          ],
          "scatterpolargl": [
           {
            "marker": {
             "colorbar": {
              "outlinewidth": 0,
              "ticks": ""
             }
            },
            "type": "scatterpolargl"
           }
          ],
          "scatterternary": [
           {
            "marker": {
             "colorbar": {
              "outlinewidth": 0,
              "ticks": ""
             }
            },
            "type": "scatterternary"
           }
          ],
          "surface": [
           {
            "colorbar": {
             "outlinewidth": 0,
             "ticks": ""
            },
            "colorscale": [
             [
              0,
              "#0d0887"
             ],
             [
              0.1111111111111111,
              "#46039f"
             ],
             [
              0.2222222222222222,
              "#7201a8"
             ],
             [
              0.3333333333333333,
              "#9c179e"
             ],
             [
              0.4444444444444444,
              "#bd3786"
             ],
             [
              0.5555555555555556,
              "#d8576b"
             ],
             [
              0.6666666666666666,
              "#ed7953"
             ],
             [
              0.7777777777777778,
              "#fb9f3a"
             ],
             [
              0.8888888888888888,
              "#fdca26"
             ],
             [
              1,
              "#f0f921"
             ]
            ],
            "type": "surface"
           }
          ],
          "table": [
           {
            "cells": {
             "fill": {
              "color": "#EBF0F8"
             },
             "line": {
              "color": "white"
             }
            },
            "header": {
             "fill": {
              "color": "#C8D4E3"
             },
             "line": {
              "color": "white"
             }
            },
            "type": "table"
           }
          ]
         },
         "layout": {
          "annotationdefaults": {
           "arrowcolor": "#2a3f5f",
           "arrowhead": 0,
           "arrowwidth": 1
          },
          "coloraxis": {
           "colorbar": {
            "outlinewidth": 0,
            "ticks": ""
           }
          },
          "colorscale": {
           "diverging": [
            [
             0,
             "#8e0152"
            ],
            [
             0.1,
             "#c51b7d"
            ],
            [
             0.2,
             "#de77ae"
            ],
            [
             0.3,
             "#f1b6da"
            ],
            [
             0.4,
             "#fde0ef"
            ],
            [
             0.5,
             "#f7f7f7"
            ],
            [
             0.6,
             "#e6f5d0"
            ],
            [
             0.7,
             "#b8e186"
            ],
            [
             0.8,
             "#7fbc41"
            ],
            [
             0.9,
             "#4d9221"
            ],
            [
             1,
             "#276419"
            ]
           ],
           "sequential": [
            [
             0,
             "#0d0887"
            ],
            [
             0.1111111111111111,
             "#46039f"
            ],
            [
             0.2222222222222222,
             "#7201a8"
            ],
            [
             0.3333333333333333,
             "#9c179e"
            ],
            [
             0.4444444444444444,
             "#bd3786"
            ],
            [
             0.5555555555555556,
             "#d8576b"
            ],
            [
             0.6666666666666666,
             "#ed7953"
            ],
            [
             0.7777777777777778,
             "#fb9f3a"
            ],
            [
             0.8888888888888888,
             "#fdca26"
            ],
            [
             1,
             "#f0f921"
            ]
           ],
           "sequentialminus": [
            [
             0,
             "#0d0887"
            ],
            [
             0.1111111111111111,
             "#46039f"
            ],
            [
             0.2222222222222222,
             "#7201a8"
            ],
            [
             0.3333333333333333,
             "#9c179e"
            ],
            [
             0.4444444444444444,
             "#bd3786"
            ],
            [
             0.5555555555555556,
             "#d8576b"
            ],
            [
             0.6666666666666666,
             "#ed7953"
            ],
            [
             0.7777777777777778,
             "#fb9f3a"
            ],
            [
             0.8888888888888888,
             "#fdca26"
            ],
            [
             1,
             "#f0f921"
            ]
           ]
          },
          "colorway": [
           "#636efa",
           "#EF553B",
           "#00cc96",
           "#ab63fa",
           "#FFA15A",
           "#19d3f3",
           "#FF6692",
           "#B6E880",
           "#FF97FF",
           "#FECB52"
          ],
          "font": {
           "color": "#2a3f5f"
          },
          "geo": {
           "bgcolor": "white",
           "lakecolor": "white",
           "landcolor": "white",
           "showlakes": true,
           "showland": true,
           "subunitcolor": "#C8D4E3"
          },
          "hoverlabel": {
           "align": "left"
          },
          "hovermode": "closest",
          "mapbox": {
           "style": "light"
          },
          "paper_bgcolor": "white",
          "plot_bgcolor": "white",
          "polar": {
           "angularaxis": {
            "gridcolor": "#EBF0F8",
            "linecolor": "#EBF0F8",
            "ticks": ""
           },
           "bgcolor": "white",
           "radialaxis": {
            "gridcolor": "#EBF0F8",
            "linecolor": "#EBF0F8",
            "ticks": ""
           }
          },
          "scene": {
           "xaxis": {
            "backgroundcolor": "white",
            "gridcolor": "#DFE8F3",
            "gridwidth": 2,
            "linecolor": "#EBF0F8",
            "showbackground": true,
            "ticks": "",
            "zerolinecolor": "#EBF0F8"
           },
           "yaxis": {
            "backgroundcolor": "white",
            "gridcolor": "#DFE8F3",
            "gridwidth": 2,
            "linecolor": "#EBF0F8",
            "showbackground": true,
            "ticks": "",
            "zerolinecolor": "#EBF0F8"
           },
           "zaxis": {
            "backgroundcolor": "white",
            "gridcolor": "#DFE8F3",
            "gridwidth": 2,
            "linecolor": "#EBF0F8",
            "showbackground": true,
            "ticks": "",
            "zerolinecolor": "#EBF0F8"
           }
          },
          "shapedefaults": {
           "line": {
            "color": "#2a3f5f"
           }
          },
          "ternary": {
           "aaxis": {
            "gridcolor": "#DFE8F3",
            "linecolor": "#A2B1C6",
            "ticks": ""
           },
           "baxis": {
            "gridcolor": "#DFE8F3",
            "linecolor": "#A2B1C6",
            "ticks": ""
           },
           "bgcolor": "white",
           "caxis": {
            "gridcolor": "#DFE8F3",
            "linecolor": "#A2B1C6",
            "ticks": ""
           }
          },
          "title": {
           "x": 0.05
          },
          "xaxis": {
           "automargin": true,
           "gridcolor": "#EBF0F8",
           "linecolor": "#EBF0F8",
           "ticks": "",
           "title": {
            "standoff": 15
           },
           "zerolinecolor": "#EBF0F8",
           "zerolinewidth": 2
          },
          "yaxis": {
           "automargin": true,
           "gridcolor": "#EBF0F8",
           "linecolor": "#EBF0F8",
           "ticks": "",
           "title": {
            "standoff": 15
           },
           "zerolinecolor": "#EBF0F8",
           "zerolinewidth": 2
          }
         }
        },
        "updatemenus": [
         {
          "buttons": [
           {
            "args": [
             {
              "visible": [
               true,
               true,
               true,
               true,
               false,
               false,
               false,
               false,
               false,
               false,
               false,
               false,
               false,
               false,
               false,
               false,
               false,
               false,
               false,
               false,
               false,
               false,
               false,
               false,
               false,
               false,
               false,
               false,
               false,
               false,
               false,
               false
              ]
             }
            ],
            "label": "ID: 40",
            "method": "restyle"
           },
           {
            "args": [
             {
              "visible": [
               false,
               false,
               false,
               false,
               true,
               true,
               true,
               true,
               false,
               false,
               false,
               false,
               false,
               false,
               false,
               false,
               false,
               false,
               false,
               false,
               false,
               false,
               false,
               false,
               false,
               false,
               false,
               false,
               false,
               false,
               false,
               false
              ]
             }
            ],
            "label": "ID: 94",
            "method": "restyle"
           },
           {
            "args": [
             {
              "visible": [
               false,
               false,
               false,
               false,
               false,
               false,
               false,
               false,
               true,
               true,
               true,
               true,
               false,
               false,
               false,
               false,
               false,
               false,
               false,
               false,
               false,
               false,
               false,
               false,
               false,
               false,
               false,
               false,
               false,
               false,
               false,
               false
              ]
             }
            ],
            "label": "ID: 95",
            "method": "restyle"
           },
           {
            "args": [
             {
              "visible": [
               false,
               false,
               false,
               false,
               false,
               false,
               false,
               false,
               false,
               false,
               false,
               false,
               true,
               true,
               true,
               true,
               false,
               false,
               false,
               false,
               false,
               false,
               false,
               false,
               false,
               false,
               false,
               false,
               false,
               false,
               false,
               false
              ]
             }
            ],
            "label": "ID: 136",
            "method": "restyle"
           },
           {
            "args": [
             {
              "visible": [
               false,
               false,
               false,
               false,
               false,
               false,
               false,
               false,
               false,
               false,
               false,
               false,
               false,
               false,
               false,
               false,
               true,
               true,
               true,
               true,
               false,
               false,
               false,
               false,
               false,
               false,
               false,
               false,
               false,
               false,
               false,
               false
              ]
             }
            ],
            "label": "ID: 140",
            "method": "restyle"
           },
           {
            "args": [
             {
              "visible": [
               false,
               false,
               false,
               false,
               false,
               false,
               false,
               false,
               false,
               false,
               false,
               false,
               false,
               false,
               false,
               false,
               false,
               false,
               false,
               false,
               true,
               true,
               true,
               true,
               false,
               false,
               false,
               false,
               false,
               false,
               false,
               false
              ]
             }
            ],
            "label": "ID: 155",
            "method": "restyle"
           },
           {
            "args": [
             {
              "visible": [
               false,
               false,
               false,
               false,
               false,
               false,
               false,
               false,
               false,
               false,
               false,
               false,
               false,
               false,
               false,
               false,
               false,
               false,
               false,
               false,
               false,
               false,
               false,
               false,
               true,
               true,
               true,
               true,
               false,
               false,
               false,
               false
              ]
             }
            ],
            "label": "ID: 169",
            "method": "restyle"
           },
           {
            "args": [
             {
              "visible": [
               false,
               false,
               false,
               false,
               false,
               false,
               false,
               false,
               false,
               false,
               false,
               false,
               false,
               false,
               false,
               false,
               false,
               false,
               false,
               false,
               false,
               false,
               false,
               false,
               false,
               false,
               false,
               false,
               true,
               true,
               true,
               true
              ]
             }
            ],
            "label": "ID: 170",
            "method": "restyle"
           }
          ],
          "direction": "right",
          "pad": {
           "r": 0,
           "t": -10
          },
          "showactive": true,
          "type": "buttons",
          "x": 0,
          "xanchor": "left",
          "y": 1.1,
          "yanchor": "top"
         }
        ]
       }
      },
      "text/html": [
       "<div>\n",
       "        \n",
       "        \n",
       "            <div id=\"37926a45-0e5e-4c4d-bc16-5d5e1bcd8695\" class=\"plotly-graph-div\" style=\"height:525px; width:100%;\"></div>\n",
       "            <script type=\"text/javascript\">\n",
       "                require([\"plotly\"], function(Plotly) {\n",
       "                    window.PLOTLYENV=window.PLOTLYENV || {};\n",
       "                    \n",
       "                if (document.getElementById(\"37926a45-0e5e-4c4d-bc16-5d5e1bcd8695\")) {\n",
       "                    Plotly.newPlot(\n",
       "                        '37926a45-0e5e-4c4d-bc16-5d5e1bcd8695',\n",
       "                        [{\"boxpoints\": \"all\", \"jitter\": 0.2, \"line\": {\"color\": \"#636EFA\"}, \"marker\": {\"color\": \"#636EFA\", \"line\": {\"color\": \"black\", \"width\": 1}, \"opacity\": 0.7, \"symbol\": \"circle\"}, \"name\": \"Initial tumour volume in cm^3\", \"pointpos\": -1.5, \"type\": \"box\", \"visible\": true, \"y\": [0.13961516233473997, 0.13961518492172578, 0.13961520248151962, 0.13964469320354414, 0.13961517162157938, 0.1396125885964337, 0.13954253124001023, 0.1396151603504244, 0.13961519435743724, 0.1396152080443933]}, {\"boxpoints\": \"all\", \"jitter\": 0.2, \"line\": {\"color\": \"#EF553B\"}, \"marker\": {\"color\": \"#EF553B\", \"line\": {\"color\": \"black\", \"width\": 1}, \"opacity\": 0.7, \"symbol\": \"circle\"}, \"name\": \"Exponential growth rate in 1/day\", \"pointpos\": -1.5, \"type\": \"box\", \"visible\": true, \"y\": [0.27514260290119036, 0.27514256312060603, 0.27514253639065794, 0.27474974913732286, 0.27514258494348715, 0.275153982589139, 0.2755059048184821, 0.2751426064039479, 0.27514254522648574, 0.27514252224659164]}, {\"boxpoints\": \"all\", \"jitter\": 0.2, \"line\": {\"color\": \"#00CC96\"}, \"marker\": {\"color\": \"#00CC96\", \"line\": {\"color\": \"black\", \"width\": 1}, \"opacity\": 0.7, \"symbol\": \"circle\"}, \"name\": \"Linear growth rate in cm^3/day\", \"pointpos\": -1.5, \"type\": \"box\", \"visible\": true, \"y\": [0.13088963557236474, 0.1308896374309398, 0.13088964097281505, 0.1309895670466508, 0.13088963555173386, 0.13088827868034872, 0.13084464419662592, 0.13088963519531258, 0.13088963757644592, 0.1308896394342268]}, {\"boxpoints\": \"all\", \"jitter\": 0.2, \"line\": {\"color\": \"#AB63FA\"}, \"marker\": {\"color\": \"#AB63FA\", \"line\": {\"color\": \"black\", \"width\": 1}, \"opacity\": 0.7, \"symbol\": \"circle\"}, \"name\": \"Score\", \"pointpos\": -1.5, \"type\": \"box\", \"visible\": true, \"y\": [1.1859706982200828e-08, 1.1859704626480632e-08, 1.1859714758739927e-08, 4.637463199390404e-09, 1.1859704837788615e-08, 1.2055353774485822e-08, 3.2608167323635924e-08, 1.185970238356352e-08, 1.1859703788370919e-08, 1.1859711271287577e-08]}, {\"boxpoints\": \"all\", \"jitter\": 0.2, \"line\": {\"color\": \"#636EFA\"}, \"marker\": {\"color\": \"#636EFA\", \"line\": {\"color\": \"black\", \"width\": 1}, \"opacity\": 0.7, \"symbol\": \"circle\"}, \"name\": \"Initial tumour volume in cm^3\", \"pointpos\": -1.5, \"type\": \"box\", \"visible\": false, \"y\": [0.07467445135898927, 0.07471092799645968, 0.0746744513589901, 0.07474032675704667, 0.07467445135911088, 0.07467445135897359, 0.07467445135899034, 0.07467445135898579, 0.07467445135899163, 0.07467445135899056]}, {\"boxpoints\": \"all\", \"jitter\": 0.2, \"line\": {\"color\": \"#EF553B\"}, \"marker\": {\"color\": \"#EF553B\", \"line\": {\"color\": \"black\", \"width\": 1}, \"opacity\": 0.7, \"symbol\": \"circle\"}, \"name\": \"Exponential growth rate in 1/day\", \"pointpos\": -1.5, \"type\": \"box\", \"visible\": false, \"y\": [0.16648157186955947, 0.16634374885819223, 0.16648157186950793, 0.16548523197438947, 0.16648157186768808, 0.16648157186978024, 0.16648157186952148, 0.1664815718695637, 0.16648157186950663, 0.16648157186951215]}, {\"boxpoints\": \"all\", \"jitter\": 0.2, \"line\": {\"color\": \"#00CC96\"}, \"marker\": {\"color\": \"#00CC96\", \"line\": {\"color\": \"black\", \"width\": 1}, \"opacity\": 0.7, \"symbol\": \"circle\"}, \"name\": \"Linear growth rate in cm^3/day\", \"pointpos\": -1.5, \"type\": \"box\", \"visible\": false, \"y\": [0.0203549663831615, 0.02034985209049468, 0.02035496638316331, 0.02038123798659614, 0.020354966383226186, 0.02035496638315523, 0.020354966383162632, 0.02035496638316179, 0.02035496638316314, 0.02035496638316302]}, {\"boxpoints\": \"all\", \"jitter\": 0.2, \"line\": {\"color\": \"#AB63FA\"}, \"marker\": {\"color\": \"#AB63FA\", \"line\": {\"color\": \"black\", \"width\": 1}, \"opacity\": 0.7, \"symbol\": \"circle\"}, \"name\": \"Score\", \"pointpos\": -1.5, \"type\": \"box\", \"visible\": false, \"y\": [1.4374775178216895e-28, 1.1140295436830122e-08, 9.74867219249931e-30, 1.3671968027566876e-08, 2.344470653674269e-25, 2.1548914295237902e-27, 8.685366270203118e-30, 1.409921312177397e-28, 1.3335138934937221e-30, 3.632689061103204e-30]}, {\"boxpoints\": \"all\", \"jitter\": 0.2, \"line\": {\"color\": \"#636EFA\"}, \"marker\": {\"color\": \"#636EFA\", \"line\": {\"color\": \"black\", \"width\": 1}, \"opacity\": 0.7, \"symbol\": \"circle\"}, \"name\": \"Initial tumour volume in cm^3\", \"pointpos\": -1.5, \"type\": \"box\", \"visible\": false, \"y\": [0.22088761939162777, 0.22089128337273017, 0.22089086619452483, 0.22089078343303994, 0.2208908465303827, 0.22089134844025154, 0.22089218375747066, 0.22089067916452823, 0.22089090183753818, 0.22089057640907064]}, {\"boxpoints\": \"all\", \"jitter\": 0.2, \"line\": {\"color\": \"#EF553B\"}, \"marker\": {\"color\": \"#EF553B\", \"line\": {\"color\": \"black\", \"width\": 1}, \"opacity\": 0.7, \"symbol\": \"circle\"}, \"name\": \"Exponential growth rate in 1/day\", \"pointpos\": -1.5, \"type\": \"box\", \"visible\": false, \"y\": [0.0555980398408789, 0.055596954747088666, 0.05559699598514412, 0.05559701511867691, 0.0555969735182316, 0.05559689448067573, 0.05559655894213884, 0.05559721516290301, 0.05559696193586649, 0.05559709251259703]}, {\"boxpoints\": \"all\", \"jitter\": 0.2, \"line\": {\"color\": \"#00CC96\"}, \"marker\": {\"color\": \"#00CC96\", \"line\": {\"color\": \"black\", \"width\": 1}, \"opacity\": 0.7, \"symbol\": \"circle\"}, \"name\": \"Linear growth rate in cm^3/day\", \"pointpos\": -1.5, \"type\": \"box\", \"visible\": false, \"y\": [102.87174663480401, 104.30011119071082, 104.3160901050692, 104.26726435406798, 104.32639006580247, 104.39170495805573, 104.90141528622347, 103.82337555014061, 104.34030754708459, 104.16401303014962]}, {\"boxpoints\": \"all\", \"jitter\": 0.2, \"line\": {\"color\": \"#AB63FA\"}, \"marker\": {\"color\": \"#AB63FA\", \"line\": {\"color\": \"black\", \"width\": 1}, \"opacity\": 0.7, \"symbol\": \"circle\"}, \"name\": \"Score\", \"pointpos\": -1.5, \"type\": \"box\", \"visible\": false, \"y\": [2.058818695885026e-09, 1.378442753659529e-09, 1.36871613149886e-09, 1.3856510497758828e-09, 1.3608428000467693e-09, 1.3342552020350322e-09, 1.1292970561059872e-09, 1.590674590432995e-09, 1.354719426921892e-09, 1.4313270089462852e-09]}, {\"boxpoints\": \"all\", \"jitter\": 0.2, \"line\": {\"color\": \"#636EFA\"}, \"marker\": {\"color\": \"#636EFA\", \"line\": {\"color\": \"black\", \"width\": 1}, \"opacity\": 0.7, \"symbol\": \"circle\"}, \"name\": \"Initial tumour volume in cm^3\", \"pointpos\": -1.5, \"type\": \"box\", \"visible\": false, \"y\": [0.14895068010822976, 0.14895068009462897, 0.14895067843653703, 0.1489506801310463, 0.14895067827189348, 0.14895068012532506, 0.14895068209474774, 0.14895067832187137, 0.1489506784933573, 0.1489506782767016]}, {\"boxpoints\": \"all\", \"jitter\": 0.2, \"line\": {\"color\": \"#EF553B\"}, \"marker\": {\"color\": \"#EF553B\", \"line\": {\"color\": \"black\", \"width\": 1}, \"opacity\": 0.7, \"symbol\": \"circle\"}, \"name\": \"Exponential growth rate in 1/day\", \"pointpos\": -1.5, \"type\": \"box\", \"visible\": false, \"y\": [0.054248486286652825, 0.05424848615983237, 0.0542484870302166, 0.05424848608460255, 0.05424848727974356, 0.054248486441355846, 0.05424848558345453, 0.05424848696782019, 0.0542484869991864, 0.054248487293629424]}, {\"boxpoints\": \"all\", \"jitter\": 0.2, \"line\": {\"color\": \"#00CC96\"}, \"marker\": {\"color\": \"#00CC96\", \"line\": {\"color\": \"black\", \"width\": 1}, \"opacity\": 0.7, \"symbol\": \"circle\"}, \"name\": \"Linear growth rate in cm^3/day\", \"pointpos\": -1.5, \"type\": \"box\", \"visible\": false, \"y\": [0.12905803376432365, 0.12905803461998416, 0.12905803170806462, 0.12905803490460402, 0.12905803089194462, 0.12905803301501179, 0.1290580349056926, 0.12905803206529742, 0.12905803167839078, 0.12905803032030702]}, {\"boxpoints\": \"all\", \"jitter\": 0.2, \"line\": {\"color\": \"#AB63FA\"}, \"marker\": {\"color\": \"#AB63FA\", \"line\": {\"color\": \"black\", \"width\": 1}, \"opacity\": 0.7, \"symbol\": \"circle\"}, \"name\": \"Score\", \"pointpos\": -1.5, \"type\": \"box\", \"visible\": false, \"y\": [3.813525066233808e-08, 3.8135250545960596e-08, 3.813525065132413e-08, 3.8135250659490334e-08, 3.813525067352806e-08, 3.8135250555661194e-08, 3.813525062370248e-08, 3.813525064996304e-08, 3.8135250650920935e-08, 3.813525065599096e-08]}, {\"boxpoints\": \"all\", \"jitter\": 0.2, \"line\": {\"color\": \"#636EFA\"}, \"marker\": {\"color\": \"#636EFA\", \"line\": {\"color\": \"black\", \"width\": 1}, \"opacity\": 0.7, \"symbol\": \"circle\"}, \"name\": \"Initial tumour volume in cm^3\", \"pointpos\": -1.5, \"type\": \"box\", \"visible\": false, \"y\": [0.08416732622565821, 0.0841676226276983, 0.08416635935287753, 0.08416575957397009, 0.08416662301135375, 0.08416726314227625, 0.08416569007955703, 0.08416661668677913, 0.08416699054399218, 0.08416631674798652]}, {\"boxpoints\": \"all\", \"jitter\": 0.2, \"line\": {\"color\": \"#EF553B\"}, \"marker\": {\"color\": \"#EF553B\", \"line\": {\"color\": \"black\", \"width\": 1}, \"opacity\": 0.7, \"symbol\": \"circle\"}, \"name\": \"Exponential growth rate in 1/day\", \"pointpos\": -1.5, \"type\": \"box\", \"visible\": false, \"y\": [0.05418676973163373, 0.05418661886527469, 0.054187184913259884, 0.054187380108485686, 0.054187094850121166, 0.05418680083718048, 0.05418745974408474, 0.054187110464519524, 0.054186902659383855, 0.05418724292102794]}, {\"boxpoints\": \"all\", \"jitter\": 0.2, \"line\": {\"color\": \"#00CC96\"}, \"marker\": {\"color\": \"#00CC96\", \"line\": {\"color\": \"black\", \"width\": 1}, \"opacity\": 0.7, \"symbol\": \"circle\"}, \"name\": \"Linear growth rate in cm^3/day\", \"pointpos\": -1.5, \"type\": \"box\", \"visible\": false, \"y\": [101.43849531179595, 101.72769296518297, 100.81920078572666, 100.60673509715257, 100.92445927734755, 101.40107923160772, 100.3879580330307, 100.8761708282693, 101.26173197226223, 100.65158603161827]}, {\"boxpoints\": \"all\", \"jitter\": 0.2, \"line\": {\"color\": \"#AB63FA\"}, \"marker\": {\"color\": \"#AB63FA\", \"line\": {\"color\": \"black\", \"width\": 1}, \"opacity\": 0.7, \"symbol\": \"circle\"}, \"name\": \"Score\", \"pointpos\": -1.5, \"type\": \"box\", \"visible\": false, \"y\": [1.581744091580363e-09, 1.4453232897228545e-09, 1.9016793697452837e-09, 2.023051920483536e-09, 1.8456854416961328e-09, 1.6007590920179427e-09, 2.14300130686728e-09, 1.8714332736438107e-09, 1.6697477813469058e-09, 1.9932946572531643e-09]}, {\"boxpoints\": \"all\", \"jitter\": 0.2, \"line\": {\"color\": \"#636EFA\"}, \"marker\": {\"color\": \"#636EFA\", \"line\": {\"color\": \"black\", \"width\": 1}, \"opacity\": 0.7, \"symbol\": \"circle\"}, \"name\": \"Initial tumour volume in cm^3\", \"pointpos\": -1.5, \"type\": \"box\", \"visible\": false, \"y\": [0.1333107914725385, 0.13327405400303735, 0.13331079191590778, 0.13331079158031894, 0.13331078995800535, 0.13331079181682792, 0.13331079341185606, 0.13331079166983256, 0.13331079000246834, 0.133310793346137]}, {\"boxpoints\": \"all\", \"jitter\": 0.2, \"line\": {\"color\": \"#EF553B\"}, \"marker\": {\"color\": \"#EF553B\", \"line\": {\"color\": \"black\", \"width\": 1}, \"opacity\": 0.7, \"symbol\": \"circle\"}, \"name\": \"Exponential growth rate in 1/day\", \"pointpos\": -1.5, \"type\": \"box\", \"visible\": false, \"y\": [0.19708265868588806, 0.19735967644869937, 0.19708265841152017, 0.19708266075352987, 0.19708266221143056, 0.19708265794322302, 0.19708265629081, 0.19708266202655084, 0.19708266200611424, 0.19708265641648243]}, {\"boxpoints\": \"all\", \"jitter\": 0.2, \"line\": {\"color\": \"#00CC96\"}, \"marker\": {\"color\": \"#00CC96\", \"line\": {\"color\": \"black\", \"width\": 1}, \"opacity\": 0.7, \"symbol\": \"circle\"}, \"name\": \"Linear growth rate in cm^3/day\", \"pointpos\": -1.5, \"type\": \"box\", \"visible\": false, \"y\": [0.10854331125369325, 0.1085369002849056, 0.10854331113229523, 0.10854331060563535, 0.10854331057202463, 0.10854331124032601, 0.10854331129418408, 0.10854331027012727, 0.10854331056572243, 0.10854331127591692]}, {\"boxpoints\": \"all\", \"jitter\": 0.2, \"line\": {\"color\": \"#AB63FA\"}, \"marker\": {\"color\": \"#AB63FA\", \"line\": {\"color\": \"black\", \"width\": 1}, \"opacity\": 0.7, \"symbol\": \"circle\"}, \"name\": \"Score\", \"pointpos\": -1.5, \"type\": \"box\", \"visible\": false, \"y\": [1.0637112311785615e-08, 1.6029414778777856e-27, 1.0637112292408544e-08, 1.063711229435922e-08, 1.0637112314280763e-08, 1.0637112296332613e-08, 1.0637112372608428e-08, 1.0637112306244033e-08, 1.063711231792856e-08, 1.0637112372531652e-08]}, {\"boxpoints\": \"all\", \"jitter\": 0.2, \"line\": {\"color\": \"#636EFA\"}, \"marker\": {\"color\": \"#636EFA\", \"line\": {\"color\": \"black\", \"width\": 1}, \"opacity\": 0.7, \"symbol\": \"circle\"}, \"name\": \"Initial tumour volume in cm^3\", \"pointpos\": -1.5, \"type\": \"box\", \"visible\": false, \"y\": [0.12380949345349215, 0.12377473355326099, 0.12380949345348352, 0.12380949345348848, 0.12380949345282852, 0.12380949345279893, 0.12380949345289505, 0.12380949345350953, 0.12380949345352234, 0.1238094934532278]}, {\"boxpoints\": \"all\", \"jitter\": 0.2, \"line\": {\"color\": \"#EF553B\"}, \"marker\": {\"color\": \"#EF553B\", \"line\": {\"color\": \"black\", \"width\": 1}, \"opacity\": 0.7, \"symbol\": \"circle\"}, \"name\": \"Exponential growth rate in 1/day\", \"pointpos\": -1.5, \"type\": \"box\", \"visible\": false, \"y\": [0.04303161323184579, 0.04304985268538408, 0.04303161323184798, 0.043031613231843104, 0.04303161323316706, 0.0430316132327544, 0.043031613232799526, 0.04303161323186222, 0.04303161323181902, 0.04303161323225137]}, {\"boxpoints\": \"all\", \"jitter\": 0.2, \"line\": {\"color\": \"#00CC96\"}, \"marker\": {\"color\": \"#00CC96\", \"line\": {\"color\": \"black\", \"width\": 1}, \"opacity\": 0.7, \"symbol\": \"circle\"}, \"name\": \"Linear growth rate in cm^3/day\", \"pointpos\": -1.5, \"type\": \"box\", \"visible\": false, \"y\": [0.07299522369655996, 0.07300650070280973, 0.07299522369656758, 0.07299522369658122, 0.072995223692955, 0.07299522369490138, 0.07299522369454639, 0.07299522369650174, 0.07299522369665537, 0.07299522369672995]}, {\"boxpoints\": \"all\", \"jitter\": 0.2, \"line\": {\"color\": \"#AB63FA\"}, \"marker\": {\"color\": \"#AB63FA\", \"line\": {\"color\": \"black\", \"width\": 1}, \"opacity\": 0.7, \"symbol\": \"circle\"}, \"name\": \"Score\", \"pointpos\": -1.5, \"type\": \"box\", \"visible\": false, \"y\": [3.914925040463892e-24, 1.0420505191796427e-08, 3.9124437483977764e-24, 3.9138410745133035e-24, 3.4936139691594495e-24, 9.636667136578046e-26, 3.2031179000603444e-25, 4.004393163080265e-24, 3.9204293559486706e-24, 2.3482597471209698e-24]}, {\"boxpoints\": \"all\", \"jitter\": 0.2, \"line\": {\"color\": \"#636EFA\"}, \"marker\": {\"color\": \"#636EFA\", \"line\": {\"color\": \"black\", \"width\": 1}, \"opacity\": 0.7, \"symbol\": \"circle\"}, \"name\": \"Initial tumour volume in cm^3\", \"pointpos\": -1.5, \"type\": \"box\", \"visible\": false, \"y\": [0.08704782997971748, 0.08704782997971934, 0.0870478299797181, 0.0870478299797181, 0.08704782997971856, 0.08704782997971655, 0.0870478299797178, 0.08704782997971965, 0.0870478299797183, 0.08704782997971872]}, {\"boxpoints\": \"all\", \"jitter\": 0.2, \"line\": {\"color\": \"#EF553B\"}, \"marker\": {\"color\": \"#EF553B\", \"line\": {\"color\": \"black\", \"width\": 1}, \"opacity\": 0.7, \"symbol\": \"circle\"}, \"name\": \"Exponential growth rate in 1/day\", \"pointpos\": -1.5, \"type\": \"box\", \"visible\": false, \"y\": [0.03617215534169737, 0.03617215534169627, 0.03617215534169651, 0.036172155341696995, 0.03617215534169666, 0.03617215534169793, 0.03617215534169731, 0.03617215534169512, 0.03617215534169667, 0.03617215534169666]}, {\"boxpoints\": \"all\", \"jitter\": 0.2, \"line\": {\"color\": \"#00CC96\"}, \"marker\": {\"color\": \"#00CC96\", \"line\": {\"color\": \"black\", \"width\": 1}, \"opacity\": 0.7, \"symbol\": \"circle\"}, \"name\": \"Linear growth rate in cm^3/day\", \"pointpos\": -1.5, \"type\": \"box\", \"visible\": false, \"y\": [0.19325841272466907, 0.19325841272471508, 0.19325841272472558, 0.19325841272469044, 0.19325841272470204, 0.19325841272466318, 0.19325841272467015, 0.1932584127247646, 0.19325841272470826, 0.19325841272470135]}, {\"boxpoints\": \"all\", \"jitter\": 0.2, \"line\": {\"color\": \"#AB63FA\"}, \"marker\": {\"color\": \"#AB63FA\", \"line\": {\"color\": \"black\", \"width\": 1}, \"opacity\": 0.7, \"symbol\": \"circle\"}, \"name\": \"Score\", \"pointpos\": -1.5, \"type\": \"box\", \"visible\": false, \"y\": [2.8225273706972696e-29, 3.900085174581928e-29, 1.488474216819119e-29, 1.5671291957478938e-30, 3.9654897554933186e-30, 2.8886060270891957e-29, 5.987716197099916e-30, 8.632191344438586e-29, 1.5998700048024768e-30, 4.183505025197954e-30]}],\n",
       "                        {\"autosize\": true, \"legend\": {\"x\": 1.05, \"xanchor\": \"left\", \"y\": 0.01, \"yanchor\": \"bottom\"}, \"template\": {\"data\": {\"bar\": [{\"error_x\": {\"color\": \"#2a3f5f\"}, \"error_y\": {\"color\": \"#2a3f5f\"}, \"marker\": {\"line\": {\"color\": \"white\", \"width\": 0.5}}, \"type\": \"bar\"}], \"barpolar\": [{\"marker\": {\"line\": {\"color\": \"white\", \"width\": 0.5}}, \"type\": \"barpolar\"}], \"carpet\": [{\"aaxis\": {\"endlinecolor\": \"#2a3f5f\", \"gridcolor\": \"#C8D4E3\", \"linecolor\": \"#C8D4E3\", \"minorgridcolor\": \"#C8D4E3\", \"startlinecolor\": \"#2a3f5f\"}, \"baxis\": {\"endlinecolor\": \"#2a3f5f\", \"gridcolor\": \"#C8D4E3\", \"linecolor\": \"#C8D4E3\", \"minorgridcolor\": \"#C8D4E3\", \"startlinecolor\": \"#2a3f5f\"}, \"type\": \"carpet\"}], \"choropleth\": [{\"colorbar\": {\"outlinewidth\": 0, \"ticks\": \"\"}, \"type\": \"choropleth\"}], \"contour\": [{\"colorbar\": {\"outlinewidth\": 0, \"ticks\": \"\"}, \"colorscale\": [[0.0, \"#0d0887\"], [0.1111111111111111, \"#46039f\"], [0.2222222222222222, \"#7201a8\"], [0.3333333333333333, \"#9c179e\"], [0.4444444444444444, \"#bd3786\"], [0.5555555555555556, \"#d8576b\"], [0.6666666666666666, \"#ed7953\"], [0.7777777777777778, \"#fb9f3a\"], [0.8888888888888888, \"#fdca26\"], [1.0, \"#f0f921\"]], \"type\": \"contour\"}], \"contourcarpet\": [{\"colorbar\": {\"outlinewidth\": 0, \"ticks\": \"\"}, \"type\": \"contourcarpet\"}], \"heatmap\": [{\"colorbar\": {\"outlinewidth\": 0, \"ticks\": \"\"}, \"colorscale\": [[0.0, \"#0d0887\"], [0.1111111111111111, \"#46039f\"], [0.2222222222222222, \"#7201a8\"], [0.3333333333333333, \"#9c179e\"], [0.4444444444444444, \"#bd3786\"], [0.5555555555555556, \"#d8576b\"], [0.6666666666666666, \"#ed7953\"], [0.7777777777777778, \"#fb9f3a\"], [0.8888888888888888, \"#fdca26\"], [1.0, \"#f0f921\"]], \"type\": \"heatmap\"}], \"heatmapgl\": [{\"colorbar\": {\"outlinewidth\": 0, \"ticks\": \"\"}, \"colorscale\": [[0.0, \"#0d0887\"], [0.1111111111111111, \"#46039f\"], [0.2222222222222222, \"#7201a8\"], [0.3333333333333333, \"#9c179e\"], [0.4444444444444444, \"#bd3786\"], [0.5555555555555556, \"#d8576b\"], [0.6666666666666666, \"#ed7953\"], [0.7777777777777778, \"#fb9f3a\"], [0.8888888888888888, \"#fdca26\"], [1.0, \"#f0f921\"]], \"type\": \"heatmapgl\"}], \"histogram\": [{\"marker\": {\"colorbar\": {\"outlinewidth\": 0, \"ticks\": \"\"}}, \"type\": \"histogram\"}], \"histogram2d\": [{\"colorbar\": {\"outlinewidth\": 0, \"ticks\": \"\"}, \"colorscale\": [[0.0, \"#0d0887\"], [0.1111111111111111, \"#46039f\"], [0.2222222222222222, \"#7201a8\"], [0.3333333333333333, \"#9c179e\"], [0.4444444444444444, \"#bd3786\"], [0.5555555555555556, \"#d8576b\"], [0.6666666666666666, \"#ed7953\"], [0.7777777777777778, \"#fb9f3a\"], [0.8888888888888888, \"#fdca26\"], [1.0, \"#f0f921\"]], \"type\": \"histogram2d\"}], \"histogram2dcontour\": [{\"colorbar\": {\"outlinewidth\": 0, \"ticks\": \"\"}, \"colorscale\": [[0.0, \"#0d0887\"], [0.1111111111111111, \"#46039f\"], [0.2222222222222222, \"#7201a8\"], [0.3333333333333333, \"#9c179e\"], [0.4444444444444444, \"#bd3786\"], [0.5555555555555556, \"#d8576b\"], [0.6666666666666666, \"#ed7953\"], [0.7777777777777778, \"#fb9f3a\"], [0.8888888888888888, \"#fdca26\"], [1.0, \"#f0f921\"]], \"type\": \"histogram2dcontour\"}], \"mesh3d\": [{\"colorbar\": {\"outlinewidth\": 0, \"ticks\": \"\"}, \"type\": \"mesh3d\"}], \"parcoords\": [{\"line\": {\"colorbar\": {\"outlinewidth\": 0, \"ticks\": \"\"}}, \"type\": \"parcoords\"}], \"pie\": [{\"automargin\": true, \"type\": \"pie\"}], \"scatter\": [{\"marker\": {\"colorbar\": {\"outlinewidth\": 0, \"ticks\": \"\"}}, \"type\": \"scatter\"}], \"scatter3d\": [{\"line\": {\"colorbar\": {\"outlinewidth\": 0, \"ticks\": \"\"}}, \"marker\": {\"colorbar\": {\"outlinewidth\": 0, \"ticks\": \"\"}}, \"type\": \"scatter3d\"}], \"scattercarpet\": [{\"marker\": {\"colorbar\": {\"outlinewidth\": 0, \"ticks\": \"\"}}, \"type\": \"scattercarpet\"}], \"scattergeo\": [{\"marker\": {\"colorbar\": {\"outlinewidth\": 0, \"ticks\": \"\"}}, \"type\": \"scattergeo\"}], \"scattergl\": [{\"marker\": {\"colorbar\": {\"outlinewidth\": 0, \"ticks\": \"\"}}, \"type\": \"scattergl\"}], \"scattermapbox\": [{\"marker\": {\"colorbar\": {\"outlinewidth\": 0, \"ticks\": \"\"}}, \"type\": \"scattermapbox\"}], \"scatterpolar\": [{\"marker\": {\"colorbar\": {\"outlinewidth\": 0, \"ticks\": \"\"}}, \"type\": \"scatterpolar\"}], \"scatterpolargl\": [{\"marker\": {\"colorbar\": {\"outlinewidth\": 0, \"ticks\": \"\"}}, \"type\": \"scatterpolargl\"}], \"scatterternary\": [{\"marker\": {\"colorbar\": {\"outlinewidth\": 0, \"ticks\": \"\"}}, \"type\": \"scatterternary\"}], \"surface\": [{\"colorbar\": {\"outlinewidth\": 0, \"ticks\": \"\"}, \"colorscale\": [[0.0, \"#0d0887\"], [0.1111111111111111, \"#46039f\"], [0.2222222222222222, \"#7201a8\"], [0.3333333333333333, \"#9c179e\"], [0.4444444444444444, \"#bd3786\"], [0.5555555555555556, \"#d8576b\"], [0.6666666666666666, \"#ed7953\"], [0.7777777777777778, \"#fb9f3a\"], [0.8888888888888888, \"#fdca26\"], [1.0, \"#f0f921\"]], \"type\": \"surface\"}], \"table\": [{\"cells\": {\"fill\": {\"color\": \"#EBF0F8\"}, \"line\": {\"color\": \"white\"}}, \"header\": {\"fill\": {\"color\": \"#C8D4E3\"}, \"line\": {\"color\": \"white\"}}, \"type\": \"table\"}]}, \"layout\": {\"annotationdefaults\": {\"arrowcolor\": \"#2a3f5f\", \"arrowhead\": 0, \"arrowwidth\": 1}, \"coloraxis\": {\"colorbar\": {\"outlinewidth\": 0, \"ticks\": \"\"}}, \"colorscale\": {\"diverging\": [[0, \"#8e0152\"], [0.1, \"#c51b7d\"], [0.2, \"#de77ae\"], [0.3, \"#f1b6da\"], [0.4, \"#fde0ef\"], [0.5, \"#f7f7f7\"], [0.6, \"#e6f5d0\"], [0.7, \"#b8e186\"], [0.8, \"#7fbc41\"], [0.9, \"#4d9221\"], [1, \"#276419\"]], \"sequential\": [[0.0, \"#0d0887\"], [0.1111111111111111, \"#46039f\"], [0.2222222222222222, \"#7201a8\"], [0.3333333333333333, \"#9c179e\"], [0.4444444444444444, \"#bd3786\"], [0.5555555555555556, \"#d8576b\"], [0.6666666666666666, \"#ed7953\"], [0.7777777777777778, \"#fb9f3a\"], [0.8888888888888888, \"#fdca26\"], [1.0, \"#f0f921\"]], \"sequentialminus\": [[0.0, \"#0d0887\"], [0.1111111111111111, \"#46039f\"], [0.2222222222222222, \"#7201a8\"], [0.3333333333333333, \"#9c179e\"], [0.4444444444444444, \"#bd3786\"], [0.5555555555555556, \"#d8576b\"], [0.6666666666666666, \"#ed7953\"], [0.7777777777777778, \"#fb9f3a\"], [0.8888888888888888, \"#fdca26\"], [1.0, \"#f0f921\"]]}, \"colorway\": [\"#636efa\", \"#EF553B\", \"#00cc96\", \"#ab63fa\", \"#FFA15A\", \"#19d3f3\", \"#FF6692\", \"#B6E880\", \"#FF97FF\", \"#FECB52\"], \"font\": {\"color\": \"#2a3f5f\"}, \"geo\": {\"bgcolor\": \"white\", \"lakecolor\": \"white\", \"landcolor\": \"white\", \"showlakes\": true, \"showland\": true, \"subunitcolor\": \"#C8D4E3\"}, \"hoverlabel\": {\"align\": \"left\"}, \"hovermode\": \"closest\", \"mapbox\": {\"style\": \"light\"}, \"paper_bgcolor\": \"white\", \"plot_bgcolor\": \"white\", \"polar\": {\"angularaxis\": {\"gridcolor\": \"#EBF0F8\", \"linecolor\": \"#EBF0F8\", \"ticks\": \"\"}, \"bgcolor\": \"white\", \"radialaxis\": {\"gridcolor\": \"#EBF0F8\", \"linecolor\": \"#EBF0F8\", \"ticks\": \"\"}}, \"scene\": {\"xaxis\": {\"backgroundcolor\": \"white\", \"gridcolor\": \"#DFE8F3\", \"gridwidth\": 2, \"linecolor\": \"#EBF0F8\", \"showbackground\": true, \"ticks\": \"\", \"zerolinecolor\": \"#EBF0F8\"}, \"yaxis\": {\"backgroundcolor\": \"white\", \"gridcolor\": \"#DFE8F3\", \"gridwidth\": 2, \"linecolor\": \"#EBF0F8\", \"showbackground\": true, \"ticks\": \"\", \"zerolinecolor\": \"#EBF0F8\"}, \"zaxis\": {\"backgroundcolor\": \"white\", \"gridcolor\": \"#DFE8F3\", \"gridwidth\": 2, \"linecolor\": \"#EBF0F8\", \"showbackground\": true, \"ticks\": \"\", \"zerolinecolor\": \"#EBF0F8\"}}, \"shapedefaults\": {\"line\": {\"color\": \"#2a3f5f\"}}, \"ternary\": {\"aaxis\": {\"gridcolor\": \"#DFE8F3\", \"linecolor\": \"#A2B1C6\", \"ticks\": \"\"}, \"baxis\": {\"gridcolor\": \"#DFE8F3\", \"linecolor\": \"#A2B1C6\", \"ticks\": \"\"}, \"bgcolor\": \"white\", \"caxis\": {\"gridcolor\": \"#DFE8F3\", \"linecolor\": \"#A2B1C6\", \"ticks\": \"\"}}, \"title\": {\"x\": 0.05}, \"xaxis\": {\"automargin\": true, \"gridcolor\": \"#EBF0F8\", \"linecolor\": \"#EBF0F8\", \"ticks\": \"\", \"title\": {\"standoff\": 15}, \"zerolinecolor\": \"#EBF0F8\", \"zerolinewidth\": 2}, \"yaxis\": {\"automargin\": true, \"gridcolor\": \"#EBF0F8\", \"linecolor\": \"#EBF0F8\", \"ticks\": \"\", \"title\": {\"standoff\": 15}, \"zerolinecolor\": \"#EBF0F8\", \"zerolinewidth\": 2}}}, \"updatemenus\": [{\"buttons\": [{\"args\": [{\"visible\": [true, true, true, true, false, false, false, false, false, false, false, false, false, false, false, false, false, false, false, false, false, false, false, false, false, false, false, false, false, false, false, false]}], \"label\": \"ID: 40\", \"method\": \"restyle\"}, {\"args\": [{\"visible\": [false, false, false, false, true, true, true, true, false, false, false, false, false, false, false, false, false, false, false, false, false, false, false, false, false, false, false, false, false, false, false, false]}], \"label\": \"ID: 94\", \"method\": \"restyle\"}, {\"args\": [{\"visible\": [false, false, false, false, false, false, false, false, true, true, true, true, false, false, false, false, false, false, false, false, false, false, false, false, false, false, false, false, false, false, false, false]}], \"label\": \"ID: 95\", \"method\": \"restyle\"}, {\"args\": [{\"visible\": [false, false, false, false, false, false, false, false, false, false, false, false, true, true, true, true, false, false, false, false, false, false, false, false, false, false, false, false, false, false, false, false]}], \"label\": \"ID: 136\", \"method\": \"restyle\"}, {\"args\": [{\"visible\": [false, false, false, false, false, false, false, false, false, false, false, false, false, false, false, false, true, true, true, true, false, false, false, false, false, false, false, false, false, false, false, false]}], \"label\": \"ID: 140\", \"method\": \"restyle\"}, {\"args\": [{\"visible\": [false, false, false, false, false, false, false, false, false, false, false, false, false, false, false, false, false, false, false, false, true, true, true, true, false, false, false, false, false, false, false, false]}], \"label\": \"ID: 155\", \"method\": \"restyle\"}, {\"args\": [{\"visible\": [false, false, false, false, false, false, false, false, false, false, false, false, false, false, false, false, false, false, false, false, false, false, false, false, true, true, true, true, false, false, false, false]}], \"label\": \"ID: 169\", \"method\": \"restyle\"}, {\"args\": [{\"visible\": [false, false, false, false, false, false, false, false, false, false, false, false, false, false, false, false, false, false, false, false, false, false, false, false, false, false, false, false, true, true, true, true]}], \"label\": \"ID: 170\", \"method\": \"restyle\"}], \"direction\": \"right\", \"pad\": {\"r\": 0, \"t\": -10}, \"showactive\": true, \"type\": \"buttons\", \"x\": 0.0, \"xanchor\": \"left\", \"y\": 1.1, \"yanchor\": \"top\"}]},\n",
       "                        {\"responsive\": true}\n",
       "                    ).then(function(){\n",
       "                            \n",
       "var gd = document.getElementById('37926a45-0e5e-4c4d-bc16-5d5e1bcd8695');\n",
       "var x = new MutationObserver(function (mutations, observer) {{\n",
       "        var display = window.getComputedStyle(gd).display;\n",
       "        if (!display || display === 'none') {{\n",
       "            console.log([gd, 'removed!']);\n",
       "            Plotly.purge(gd);\n",
       "            observer.disconnect();\n",
       "        }}\n",
       "}});\n",
       "\n",
       "// Listen for the removal of the full notebook cells\n",
       "var notebookContainer = gd.closest('#notebook-container');\n",
       "if (notebookContainer) {{\n",
       "    x.observe(notebookContainer, {childList: true});\n",
       "}}\n",
       "\n",
       "// Listen for the clearing of the current output cell\n",
       "var outputEl = gd.closest('.output');\n",
       "if (outputEl) {{\n",
       "    x.observe(outputEl, {childList: true});\n",
       "}}\n",
       "\n",
       "                        })\n",
       "                };\n",
       "                });\n",
       "            </script>\n",
       "        </div>"
      ]
     },
     "metadata": {},
     "output_type": "display_data"
    }
   ],
   "source": [
    "#\n",
    "# Visualisation of the spread of optimised model parameters for multiple runs from different initial points.\n",
    "#\n",
    "# This cell needs the above optimised initial parameter from psi_0=(1, 1, 1) and the five runs from a random initial starting point, and their respective objective function scores, as well as the data\n",
    "# [recovered_parameters_transformed, recovered_parameters_scores, data]\n",
    "#\n",
    "\n",
    "import plotly.colors\n",
    "import plotly.graph_objects as go\n",
    "\n",
    "\n",
    "# Get mouse ids\n",
    "mouse_ids = data['#ID'].unique()\n",
    "\n",
    "# Get number of parameters + score (for visualisation)\n",
    "n_params = recovered_parameters_transformed.shape[2] + 1\n",
    "\n",
    "# Define colorscheme\n",
    "colors = plotly.colors.qualitative.Plotly[:n_params]\n",
    "\n",
    "# Get optimised parameters\n",
    "optimised_parameters = recovered_parameters_transformed\n",
    "\n",
    "# Get optimised parameters\n",
    "scores = recovered_parameters_scores\n",
    "\n",
    "# Create figure\n",
    "fig = go.Figure()\n",
    "\n",
    "# Box plot of optimised model parameters\n",
    "for index, id_m in enumerate(mouse_ids):\n",
    "    # Get optimised parameters\n",
    "    parameters = optimised_parameters[index, ...]\n",
    "\n",
    "    # Get scores\n",
    "    score = scores[index, :]\n",
    "\n",
    "    # Create box plot of for initial tumour volume\n",
    "    fig.add_trace(\n",
    "        go.Box(\n",
    "            y=parameters[:, 0],  \n",
    "            name=\"Initial tumour volume in cm^3\",\n",
    "            boxpoints='all',\n",
    "            jitter=0.2,\n",
    "            pointpos=-1.5,\n",
    "            visible=True if index == 0 else False,\n",
    "            marker=dict(\n",
    "                symbol='circle',\n",
    "                opacity=0.7,\n",
    "                line=dict(color='black', width=1)),\n",
    "            marker_color=colors[0],\n",
    "            line_color=colors[0]))\n",
    "\n",
    "    # Create box plot of for exponential tumour growth\n",
    "    fig.add_trace(\n",
    "        go.Box(\n",
    "            y=parameters[:, 1],  \n",
    "            name=\"Exponential growth rate in 1/day\",\n",
    "            boxpoints='all',\n",
    "            jitter=0.2,\n",
    "            pointpos=-1.5,\n",
    "            visible=True if index == 0 else False,\n",
    "            marker=dict(\n",
    "                symbol='circle',\n",
    "                opacity=0.7,\n",
    "                line=dict(color='black', width=1)),\n",
    "            marker_color=colors[1],\n",
    "            line_color=colors[1]))\n",
    "\n",
    "    # Create box plot of for linear tumour growth\n",
    "    fig.add_trace(\n",
    "        go.Box(\n",
    "            y=parameters[:, 2],  \n",
    "            name=\"Linear growth rate in cm^3/day\",\n",
    "            boxpoints='all',\n",
    "            jitter=0.2,\n",
    "            pointpos=-1.5,\n",
    "            visible=True if index == 0 else False,\n",
    "            marker=dict(\n",
    "                symbol='circle',\n",
    "                opacity=0.7,\n",
    "                line=dict(color='black', width=1)),\n",
    "            marker_color=colors[2],\n",
    "            line_color=colors[2]))\n",
    "    \n",
    "    # Create box plot of for objective function score\n",
    "    fig.add_trace(\n",
    "        go.Box(\n",
    "            y=score,  \n",
    "            name=\"Score\",\n",
    "            boxpoints='all',\n",
    "            jitter=0.2,\n",
    "            pointpos=-1.5,\n",
    "            visible=True if index == 0 else False,\n",
    "            marker=dict(\n",
    "                symbol='circle',\n",
    "                opacity=0.7,\n",
    "                line=dict(color='black', width=1)),\n",
    "            marker_color=colors[3],\n",
    "            line_color=colors[3]))\n",
    "\n",
    "# Set figure size\n",
    "fig.update_layout(\n",
    "    autosize=True,\n",
    "    template=\"plotly_white\")\n",
    "\n",
    "# Add switch between mice\n",
    "fig.update_layout(\n",
    "    updatemenus=[\n",
    "        dict(\n",
    "            type = \"buttons\",\n",
    "            direction = \"right\",\n",
    "            buttons=list([\n",
    "                dict(\n",
    "                    args=[{\"visible\": [True]*4 + [False]*(4 * 7)}],\n",
    "                    label=\"ID: %d\" % mouse_ids[0],\n",
    "                    method=\"restyle\"\n",
    "                ),\n",
    "                dict(\n",
    "                    args=[{\"visible\": [False]*4 + [True]*4 + [False]*(4 * 6)}],\n",
    "                    label=\"ID: %d\" % mouse_ids[1],\n",
    "                    method=\"restyle\"\n",
    "                ),\n",
    "                dict(\n",
    "                    args=[{\"visible\": [False]*(4 * 2) + [True]*4 + [False]*(4 * 5)}],\n",
    "                    label=\"ID: %d\" % mouse_ids[2],\n",
    "                    method=\"restyle\"\n",
    "                ),\n",
    "                dict(\n",
    "                    args=[{\"visible\": [False]*(4 * 3) + [True]*4 + [False]*(4 * 4)}],\n",
    "                    label=\"ID: %d\" % mouse_ids[3],\n",
    "                    method=\"restyle\"\n",
    "                ),\n",
    "                dict(\n",
    "                    args=[{\"visible\": [False]*(4 * 4) + [True]*4 + [False]*(4 * 3)}],\n",
    "                    label=\"ID: %d\" % mouse_ids[4],\n",
    "                    method=\"restyle\"\n",
    "                ),\n",
    "                dict(\n",
    "                    args=[{\"visible\": [False]*(4 * 5) + [True]*4 + [False]*(4 * 2)}],\n",
    "                    label=\"ID: %d\" % mouse_ids[5],\n",
    "                    method=\"restyle\"\n",
    "                ),\n",
    "                dict(\n",
    "                    args=[{\"visible\": [False]*(4 * 6) + [True]*4 + [False]* 4}],\n",
    "                    label=\"ID: %d\" % mouse_ids[6],\n",
    "                    method=\"restyle\"\n",
    "                ),\n",
    "                dict(\n",
    "                    args=[{\"visible\": [False]*(4 * 7) + [True]*4}],\n",
    "                    label=\"ID: %d\" % mouse_ids[7],\n",
    "                    method=\"restyle\"\n",
    "                )\n",
    "            ]),\n",
    "            pad={\"r\": 0, \"t\": -10},\n",
    "            showactive=True,\n",
    "            x=0.0,\n",
    "            xanchor=\"left\",\n",
    "            y=1.1,\n",
    "            yanchor=\"top\"\n",
    "        )\n",
    "    ]\n",
    ")\n",
    "\n",
    "# Position legend\n",
    "fig.update_layout(legend=dict(\n",
    "    yanchor=\"bottom\",\n",
    "    y=0.01,\n",
    "    xanchor=\"left\",\n",
    "    x=1.05))\n",
    "\n",
    "# Show figure\n",
    "fig.show()\n"
   ]
  },
  {
   "cell_type": "markdown",
   "metadata": {},
   "source": [
    "The model seems ok but can already see that sometimes the model tries to stay exponential by cranking up the linear growth rate. This limits the interpretability of the linear growth rate. \n",
    "\n",
    "A more feasible parameterisation may be the following\n",
    "\n",
    "\\begin{equation*}\n",
    "    \\frac{\\text{d}V^s_T}{\\text{d}t} = \\frac{\\lambda V^s_T}{V^s_T / V_{\\text{crit}} + 1}.\n",
    "\\end{equation*}\n",
    "\n",
    "$\\lambda $ is exponential growth rate and $V_{\\text{crit}}$ is the critical tumour volume above which the tumour growth transitions to a linear growth phase with linear growth rate $\\lambda V_{\\text{crit}}$.\n",
    "\n",
    "Then $V_{\\text{crit}} = a_0 V^c_T$ and $\\lambda = a_1 / a_0 t^c$. "
   ]
  },
  {
   "cell_type": "code",
   "execution_count": 27,
   "metadata": {},
   "outputs": [],
   "source": [
    "#\n",
    "# Transform dimensionless parameters to new set of biological parameters.\n",
    "# \n",
    "# This cell needs the above inferred dimensionless parameters and the characteristic volume and time scale:\n",
    "# [recovered_parameters, characteristic_volume, characteristic_time]\n",
    "#\n",
    "\n",
    "import numpy as np\n",
    "\n",
    "\n",
    "# Initialise container for backtransformed paramters\n",
    "# Shape (n_mice, n_runs, n_parameters)\n",
    "new_parameters = np.empty(shape=recovered_parameters.shape)\n",
    "\n",
    "# Transform initial volumes\n",
    "new_parameters[:, :, 0] = recovered_parameters[:, :, 0] * characteristic_volume\n",
    "\n",
    "# Transform critical volume \n",
    "# V_crit = a_0 * V^c\n",
    "new_parameters[:, :, 1] = recovered_parameters[:, :, 1] * characteristic_volume\n",
    "\n",
    "# Transform exponential growth rate\n",
    "# lambda = a_1 / a_0 / t^c\n",
    "new_parameters[:, :, 2] = \\\n",
    "    recovered_parameters[:, :, 2] / recovered_parameters[:, :, 1] / characteristic_time\n"
   ]
  },
  {
   "cell_type": "code",
   "execution_count": 28,
   "metadata": {},
   "outputs": [
    {
     "data": {
      "application/vnd.plotly.v1+json": {
       "config": {
        "plotlyServerURL": "https://plot.ly"
       },
       "data": [
        {
         "boxpoints": "all",
         "jitter": 0.2,
         "line": {
          "color": "#636EFA"
         },
         "marker": {
          "color": "#636EFA",
          "line": {
           "color": "black",
           "width": 1
          },
          "opacity": 0.7,
          "symbol": "circle"
         },
         "name": "Initial tumour volume in cm^3",
         "pointpos": -1.5,
         "type": "box",
         "visible": true,
         "y": [
          0.13961516233473997,
          0.13961518492172578,
          0.13961520248151962,
          0.13964469320354414,
          0.13961517162157938,
          0.1396125885964337,
          0.13954253124001023,
          0.1396151603504244,
          0.13961519435743724,
          0.1396152080443933
         ]
        },
        {
         "boxpoints": "all",
         "jitter": 0.2,
         "line": {
          "color": "#EF553B"
         },
         "marker": {
          "color": "#EF553B",
          "line": {
           "color": "black",
           "width": 1
          },
          "opacity": 0.7,
          "symbol": "circle"
         },
         "name": "Critical volume in cm^3",
         "pointpos": -1.5,
         "type": "box",
         "visible": true,
         "y": [
          0.23785781298901582,
          0.23785785075638333,
          0.23785788030058158,
          0.23837977551925044,
          0.2378578284757663,
          0.23784551008260638,
          0.23746250426616686,
          0.23785780927572567,
          0.23785786649008261,
          0.23785788973199729
         ]
        },
        {
         "boxpoints": "all",
         "jitter": 0.2,
         "line": {
          "color": "#00CC96"
         },
         "marker": {
          "color": "#00CC96",
          "line": {
           "color": "black",
           "width": 1
          },
          "opacity": 0.7,
          "symbol": "circle"
         },
         "name": "Exponential growth rate in 1/day",
         "pointpos": -1.5,
         "type": "box",
         "visible": true,
         "y": [
          0.5502852058023807,
          0.5502851262412121,
          0.5502850727813159,
          0.5494994982746457,
          0.5502851698869743,
          0.550307965178278,
          0.5510118096369642,
          0.5502852128078958,
          0.5502850904529715,
          0.5502850444931833
         ]
        },
        {
         "boxpoints": "all",
         "jitter": 0.2,
         "line": {
          "color": "#AB63FA"
         },
         "marker": {
          "color": "#AB63FA",
          "line": {
           "color": "black",
           "width": 1
          },
          "opacity": 0.7,
          "symbol": "circle"
         },
         "name": "Score",
         "pointpos": -1.5,
         "type": "box",
         "visible": true,
         "y": [
          1.1859706982200828e-8,
          1.1859704626480632e-8,
          1.1859714758739927e-8,
          4.637463199390404e-9,
          1.1859704837788615e-8,
          1.2055353774485822e-8,
          3.2608167323635924e-8,
          1.185970238356352e-8,
          1.1859703788370919e-8,
          1.1859711271287577e-8
         ]
        },
        {
         "boxpoints": "all",
         "jitter": 0.2,
         "line": {
          "color": "#636EFA"
         },
         "marker": {
          "color": "#636EFA",
          "line": {
           "color": "black",
           "width": 1
          },
          "opacity": 0.7,
          "symbol": "circle"
         },
         "name": "Initial tumour volume in cm^3",
         "pointpos": -1.5,
         "type": "box",
         "visible": false,
         "y": [
          0.07467445135898927,
          0.07471092799645968,
          0.0746744513589901,
          0.07474032675704667,
          0.07467445135911088,
          0.07467445135897359,
          0.07467445135899034,
          0.07467445135898579,
          0.07467445135899163,
          0.07467445135899056
         ]
        },
        {
         "boxpoints": "all",
         "jitter": 0.2,
         "line": {
          "color": "#EF553B"
         },
         "marker": {
          "color": "#EF553B",
          "line": {
           "color": "black",
           "width": 1
          },
          "opacity": 0.7,
          "symbol": "circle"
         },
         "name": "Critical volume in cm^3",
         "pointpos": -1.5,
         "type": "box",
         "visible": false,
         "y": [
          0.061132791319119355,
          0.061168069825824636,
          0.06113279131914371,
          0.06158023209512238,
          0.06113279132000081,
          0.06113279131901945,
          0.0611327913191367,
          0.061132791319118675,
          0.06113279131914368,
          0.061132791319141296
         ]
        },
        {
         "boxpoints": "all",
         "jitter": 0.2,
         "line": {
          "color": "#00CC96"
         },
         "marker": {
          "color": "#00CC96",
          "line": {
           "color": "black",
           "width": 1
          },
          "opacity": 0.7,
          "symbol": "circle"
         },
         "name": "Exponential growth rate in 1/day",
         "pointpos": -1.5,
         "type": "box",
         "visible": false,
         "y": [
          0.33296314373911895,
          0.33268749771638445,
          0.33296314373901587,
          0.33097046394877894,
          0.33296314373537617,
          0.3329631437395605,
          0.33296314373904295,
          0.3329631437391274,
          0.33296314373901326,
          0.3329631437390243
         ]
        },
        {
         "boxpoints": "all",
         "jitter": 0.2,
         "line": {
          "color": "#AB63FA"
         },
         "marker": {
          "color": "#AB63FA",
          "line": {
           "color": "black",
           "width": 1
          },
          "opacity": 0.7,
          "symbol": "circle"
         },
         "name": "Score",
         "pointpos": -1.5,
         "type": "box",
         "visible": false,
         "y": [
          1.4374775178216895e-28,
          1.1140295436830122e-8,
          9.74867219249931e-30,
          1.3671968027566876e-8,
          2.344470653674269e-25,
          2.1548914295237902e-27,
          8.685366270203118e-30,
          1.409921312177397e-28,
          1.3335138934937221e-30,
          3.632689061103204e-30
         ]
        },
        {
         "boxpoints": "all",
         "jitter": 0.2,
         "line": {
          "color": "#636EFA"
         },
         "marker": {
          "color": "#636EFA",
          "line": {
           "color": "black",
           "width": 1
          },
          "opacity": 0.7,
          "symbol": "circle"
         },
         "name": "Initial tumour volume in cm^3",
         "pointpos": -1.5,
         "type": "box",
         "visible": false,
         "y": [
          0.22088761939162777,
          0.22089128337273017,
          0.22089086619452483,
          0.22089078343303994,
          0.2208908465303827,
          0.22089134844025154,
          0.22089218375747066,
          0.22089067916452823,
          0.22089090183753818,
          0.22089057640907064
         ]
        },
        {
         "boxpoints": "all",
         "jitter": 0.2,
         "line": {
          "color": "#EF553B"
         },
         "marker": {
          "color": "#EF553B",
          "line": {
           "color": "black",
           "width": 1
          },
          "opacity": 0.7,
          "symbol": "circle"
         },
         "name": "Critical volume in cm^3",
         "pointpos": -1.5,
         "type": "box",
         "visible": false,
         "y": [
          925.138250639969,
          938.0020152648063,
          938.145022556103,
          937.70559562865,
          938.2380322518034,
          938.8267630158732,
          943.4164387349746,
          933.7102159337676,
          938.3633917573201,
          936.7757226382696
         ]
        },
        {
         "boxpoints": "all",
         "jitter": 0.2,
         "line": {
          "color": "#00CC96"
         },
         "marker": {
          "color": "#00CC96",
          "line": {
           "color": "black",
           "width": 1
          },
          "opacity": 0.7,
          "symbol": "circle"
         },
         "name": "Exponential growth rate in 1/day",
         "pointpos": -1.5,
         "type": "box",
         "visible": false,
         "y": [
          0.1111960796817578,
          0.11119390949417733,
          0.11119399197028824,
          0.11119403023735382,
          0.1111939470364632,
          0.11119378896135146,
          0.11119311788427769,
          0.11119443032580602,
          0.11119392387173298,
          0.11119418502519406
         ]
        },
        {
         "boxpoints": "all",
         "jitter": 0.2,
         "line": {
          "color": "#AB63FA"
         },
         "marker": {
          "color": "#AB63FA",
          "line": {
           "color": "black",
           "width": 1
          },
          "opacity": 0.7,
          "symbol": "circle"
         },
         "name": "Score",
         "pointpos": -1.5,
         "type": "box",
         "visible": false,
         "y": [
          2.058818695885026e-9,
          1.378442753659529e-9,
          1.36871613149886e-9,
          1.3856510497758828e-9,
          1.3608428000467693e-9,
          1.3342552020350322e-9,
          1.1292970561059872e-9,
          1.590674590432995e-9,
          1.354719426921892e-9,
          1.4313270089462852e-9
         ]
        },
        {
         "boxpoints": "all",
         "jitter": 0.2,
         "line": {
          "color": "#636EFA"
         },
         "marker": {
          "color": "#636EFA",
          "line": {
           "color": "black",
           "width": 1
          },
          "opacity": 0.7,
          "symbol": "circle"
         },
         "name": "Initial tumour volume in cm^3",
         "pointpos": -1.5,
         "type": "box",
         "visible": false,
         "y": [
          0.14895068010822976,
          0.14895068009462897,
          0.14895067843653703,
          0.1489506801310463,
          0.14895067827189348,
          0.14895068012532506,
          0.14895068209474774,
          0.14895067832187137,
          0.1489506784933573,
          0.1489506782767016
         ]
        },
        {
         "boxpoints": "all",
         "jitter": 0.2,
         "line": {
          "color": "#EF553B"
         },
         "marker": {
          "color": "#EF553B",
          "line": {
           "color": "black",
           "width": 1
          },
          "opacity": 0.7,
          "symbol": "circle"
         },
         "name": "Critical volume in cm^3",
         "pointpos": -1.5,
         "type": "box",
         "visible": false,
         "y": [
          1.1895081558808103,
          1.1895081665480982,
          1.1895081206244411,
          1.1895081708209623,
          1.1895081076310032,
          1.1895081455823397,
          1.1895081818196833,
          1.189508125285169,
          1.1895081210313418,
          1.1895081020578313
         ]
        },
        {
         "boxpoints": "all",
         "jitter": 0.2,
         "line": {
          "color": "#00CC96"
         },
         "marker": {
          "color": "#00CC96",
          "line": {
           "color": "black",
           "width": 1
          },
          "opacity": 0.7,
          "symbol": "circle"
         },
         "name": "Exponential growth rate in 1/day",
         "pointpos": -1.5,
         "type": "box",
         "visible": false,
         "y": [
          0.10849697257330565,
          0.10849697231966474,
          0.1084969740604332,
          0.1084969721692051,
          0.10849697455948712,
          0.10849697288271169,
          0.10849697116690905,
          0.10849697393564038,
          0.1084969739983728,
          0.10849697458725885
         ]
        },
        {
         "boxpoints": "all",
         "jitter": 0.2,
         "line": {
          "color": "#AB63FA"
         },
         "marker": {
          "color": "#AB63FA",
          "line": {
           "color": "black",
           "width": 1
          },
          "opacity": 0.7,
          "symbol": "circle"
         },
         "name": "Score",
         "pointpos": -1.5,
         "type": "box",
         "visible": false,
         "y": [
          3.813525066233808e-8,
          3.8135250545960596e-8,
          3.813525065132413e-8,
          3.8135250659490334e-8,
          3.813525067352806e-8,
          3.8135250555661194e-8,
          3.813525062370248e-8,
          3.813525064996304e-8,
          3.8135250650920935e-8,
          3.813525065599096e-8
         ]
        },
        {
         "boxpoints": "all",
         "jitter": 0.2,
         "line": {
          "color": "#636EFA"
         },
         "marker": {
          "color": "#636EFA",
          "line": {
           "color": "black",
           "width": 1
          },
          "opacity": 0.7,
          "symbol": "circle"
         },
         "name": "Initial tumour volume in cm^3",
         "pointpos": -1.5,
         "type": "box",
         "visible": false,
         "y": [
          0.08416732622565821,
          0.0841676226276983,
          0.08416635935287753,
          0.08416575957397009,
          0.08416662301135375,
          0.08416726314227625,
          0.08416569007955703,
          0.08416661668677913,
          0.08416699054399218,
          0.08416631674798652
         ]
        },
        {
         "boxpoints": "all",
         "jitter": 0.2,
         "line": {
          "color": "#EF553B"
         },
         "marker": {
          "color": "#EF553B",
          "line": {
           "color": "black",
           "width": 1
          },
          "opacity": 0.7,
          "symbol": "circle"
         },
         "name": "Critical volume in cm^3",
         "pointpos": -1.5,
         "type": "box",
         "visible": false,
         "y": [
          936.0079574237575,
          938.6790973073133,
          930.2863854905266,
          928.3225623358534,
          931.2591822508628,
          935.6621692457528,
          926.3024923768395,
          930.8133425413106,
          934.3746090156544,
          928.7387640141343
         ]
        },
        {
         "boxpoints": "all",
         "jitter": 0.2,
         "line": {
          "color": "#00CC96"
         },
         "marker": {
          "color": "#00CC96",
          "line": {
           "color": "black",
           "width": 1
          },
          "opacity": 0.7,
          "symbol": "circle"
         },
         "name": "Exponential growth rate in 1/day",
         "pointpos": -1.5,
         "type": "box",
         "visible": false,
         "y": [
          0.10837353946326746,
          0.10837323773054938,
          0.10837436982651977,
          0.10837476021697137,
          0.10837418970024233,
          0.10837360167436096,
          0.10837491948816948,
          0.10837422092903905,
          0.10837380531876771,
          0.10837448584205588
         ]
        },
        {
         "boxpoints": "all",
         "jitter": 0.2,
         "line": {
          "color": "#AB63FA"
         },
         "marker": {
          "color": "#AB63FA",
          "line": {
           "color": "black",
           "width": 1
          },
          "opacity": 0.7,
          "symbol": "circle"
         },
         "name": "Score",
         "pointpos": -1.5,
         "type": "box",
         "visible": false,
         "y": [
          1.581744091580363e-9,
          1.4453232897228545e-9,
          1.9016793697452837e-9,
          2.023051920483536e-9,
          1.8456854416961328e-9,
          1.6007590920179427e-9,
          2.14300130686728e-9,
          1.8714332736438107e-9,
          1.6697477813469058e-9,
          1.9932946572531643e-9
         ]
        },
        {
         "boxpoints": "all",
         "jitter": 0.2,
         "line": {
          "color": "#636EFA"
         },
         "marker": {
          "color": "#636EFA",
          "line": {
           "color": "black",
           "width": 1
          },
          "opacity": 0.7,
          "symbol": "circle"
         },
         "name": "Initial tumour volume in cm^3",
         "pointpos": -1.5,
         "type": "box",
         "visible": false,
         "y": [
          0.1333107914725385,
          0.13327405400303735,
          0.13331079191590778,
          0.13331079158031894,
          0.13331078995800535,
          0.13331079181682792,
          0.13331079341185606,
          0.13331079166983256,
          0.13331079000246834,
          0.133310793346137
         ]
        },
        {
         "boxpoints": "all",
         "jitter": 0.2,
         "line": {
          "color": "#EF553B"
         },
         "marker": {
          "color": "#EF553B",
          "line": {
           "color": "black",
           "width": 1
          },
          "opacity": 0.7,
          "symbol": "circle"
         },
         "name": "Critical volume in cm^3",
         "pointpos": -1.5,
         "type": "box",
         "visible": false,
         "y": [
          0.2753750938246943,
          0.27497233031064,
          0.27537509390006915,
          0.27537508929154053,
          0.2753750871692082,
          0.27537509482847533,
          0.27537509727395904,
          0.27537508666161714,
          0.27537508744009914,
          0.27537509705201846
         ]
        },
        {
         "boxpoints": "all",
         "jitter": 0.2,
         "line": {
          "color": "#00CC96"
         },
         "marker": {
          "color": "#00CC96",
          "line": {
           "color": "black",
           "width": 1
          },
          "opacity": 0.7,
          "symbol": "circle"
         },
         "name": "Exponential growth rate in 1/day",
         "pointpos": -1.5,
         "type": "box",
         "visible": false,
         "y": [
          0.3941653173717761,
          0.39471935289739873,
          0.39416531682304035,
          0.39416532150705974,
          0.3941653244228611,
          0.39416531588644604,
          0.39416531258162,
          0.3941653240531017,
          0.3941653240122285,
          0.39416531283296485
         ]
        },
        {
         "boxpoints": "all",
         "jitter": 0.2,
         "line": {
          "color": "#AB63FA"
         },
         "marker": {
          "color": "#AB63FA",
          "line": {
           "color": "black",
           "width": 1
          },
          "opacity": 0.7,
          "symbol": "circle"
         },
         "name": "Score",
         "pointpos": -1.5,
         "type": "box",
         "visible": false,
         "y": [
          1.0637112311785615e-8,
          1.6029414778777856e-27,
          1.0637112292408544e-8,
          1.063711229435922e-8,
          1.0637112314280763e-8,
          1.0637112296332613e-8,
          1.0637112372608428e-8,
          1.0637112306244033e-8,
          1.063711231792856e-8,
          1.0637112372531652e-8
         ]
        },
        {
         "boxpoints": "all",
         "jitter": 0.2,
         "line": {
          "color": "#636EFA"
         },
         "marker": {
          "color": "#636EFA",
          "line": {
           "color": "black",
           "width": 1
          },
          "opacity": 0.7,
          "symbol": "circle"
         },
         "name": "Initial tumour volume in cm^3",
         "pointpos": -1.5,
         "type": "box",
         "visible": false,
         "y": [
          0.12380949345349215,
          0.12377473355326099,
          0.12380949345348352,
          0.12380949345348848,
          0.12380949345282852,
          0.12380949345279893,
          0.12380949345289505,
          0.12380949345350953,
          0.12380949345352234,
          0.1238094934532278
         ]
        },
        {
         "boxpoints": "all",
         "jitter": 0.2,
         "line": {
          "color": "#EF553B"
         },
         "marker": {
          "color": "#EF553B",
          "line": {
           "color": "black",
           "width": 1
          },
          "opacity": 0.7,
          "symbol": "circle"
         },
         "name": "Critical volume in cm^3",
         "pointpos": -1.5,
         "type": "box",
         "visible": false,
         "y": [
          0.8481581123077607,
          0.8479297389976467,
          0.8481581123078059,
          0.8481581123080606,
          0.8481581122398308,
          0.8481581122705801,
          0.848158112265566,
          0.8481581123067603,
          0.848158112309397,
          0.8481581123017418
         ]
        },
        {
         "boxpoints": "all",
         "jitter": 0.2,
         "line": {
          "color": "#00CC96"
         },
         "marker": {
          "color": "#00CC96",
          "line": {
           "color": "black",
           "width": 1
          },
          "opacity": 0.7,
          "symbol": "circle"
         },
         "name": "Exponential growth rate in 1/day",
         "pointpos": -1.5,
         "type": "box",
         "visible": false,
         "y": [
          0.08606322646369158,
          0.08609970537076816,
          0.08606322646369596,
          0.08606322646368621,
          0.08606322646633412,
          0.0860632264655088,
          0.08606322646559905,
          0.08606322646372444,
          0.08606322646363804,
          0.08606322646450273
         ]
        },
        {
         "boxpoints": "all",
         "jitter": 0.2,
         "line": {
          "color": "#AB63FA"
         },
         "marker": {
          "color": "#AB63FA",
          "line": {
           "color": "black",
           "width": 1
          },
          "opacity": 0.7,
          "symbol": "circle"
         },
         "name": "Score",
         "pointpos": -1.5,
         "type": "box",
         "visible": false,
         "y": [
          3.914925040463892e-24,
          1.0420505191796427e-8,
          3.9124437483977764e-24,
          3.9138410745133035e-24,
          3.4936139691594495e-24,
          9.636667136578046e-26,
          3.2031179000603444e-25,
          4.004393163080265e-24,
          3.9204293559486706e-24,
          2.3482597471209698e-24
         ]
        },
        {
         "boxpoints": "all",
         "jitter": 0.2,
         "line": {
          "color": "#636EFA"
         },
         "marker": {
          "color": "#636EFA",
          "line": {
           "color": "black",
           "width": 1
          },
          "opacity": 0.7,
          "symbol": "circle"
         },
         "name": "Initial tumour volume in cm^3",
         "pointpos": -1.5,
         "type": "box",
         "visible": false,
         "y": [
          0.08704782997971748,
          0.08704782997971934,
          0.0870478299797181,
          0.0870478299797181,
          0.08704782997971856,
          0.08704782997971655,
          0.0870478299797178,
          0.08704782997971965,
          0.0870478299797183,
          0.08704782997971872
         ]
        },
        {
         "boxpoints": "all",
         "jitter": 0.2,
         "line": {
          "color": "#EF553B"
         },
         "marker": {
          "color": "#EF553B",
          "line": {
           "color": "black",
           "width": 1
          },
          "opacity": 0.7,
          "symbol": "circle"
         },
         "name": "Critical volume in cm^3",
         "pointpos": -1.5,
         "type": "box",
         "visible": false,
         "y": [
          2.6713698824284724,
          2.671369882429189,
          2.671369882429317,
          2.6713698824287953,
          2.6713698824289804,
          2.6713698824283494,
          2.671369882428492,
          2.6713698824299588,
          2.6713698824290657,
          2.6713698824289707
         ]
        },
        {
         "boxpoints": "all",
         "jitter": 0.2,
         "line": {
          "color": "#00CC96"
         },
         "marker": {
          "color": "#00CC96",
          "line": {
           "color": "black",
           "width": 1
          },
          "opacity": 0.7,
          "symbol": "circle"
         },
         "name": "Exponential growth rate in 1/day",
         "pointpos": -1.5,
         "type": "box",
         "visible": false,
         "y": [
          0.07234431068339474,
          0.07234431068339255,
          0.07234431068339302,
          0.07234431068339399,
          0.07234431068339332,
          0.07234431068339586,
          0.07234431068339461,
          0.07234431068339024,
          0.07234431068339334,
          0.07234431068339332
         ]
        },
        {
         "boxpoints": "all",
         "jitter": 0.2,
         "line": {
          "color": "#AB63FA"
         },
         "marker": {
          "color": "#AB63FA",
          "line": {
           "color": "black",
           "width": 1
          },
          "opacity": 0.7,
          "symbol": "circle"
         },
         "name": "Score",
         "pointpos": -1.5,
         "type": "box",
         "visible": false,
         "y": [
          2.8225273706972696e-29,
          3.900085174581928e-29,
          1.488474216819119e-29,
          1.5671291957478938e-30,
          3.9654897554933186e-30,
          2.8886060270891957e-29,
          5.987716197099916e-30,
          8.632191344438586e-29,
          1.5998700048024768e-30,
          4.183505025197954e-30
         ]
        }
       ],
       "layout": {
        "autosize": true,
        "legend": {
         "x": 1.05,
         "xanchor": "left",
         "y": 0.01,
         "yanchor": "bottom"
        },
        "template": {
         "data": {
          "bar": [
           {
            "error_x": {
             "color": "#2a3f5f"
            },
            "error_y": {
             "color": "#2a3f5f"
            },
            "marker": {
             "line": {
              "color": "white",
              "width": 0.5
             }
            },
            "type": "bar"
           }
          ],
          "barpolar": [
           {
            "marker": {
             "line": {
              "color": "white",
              "width": 0.5
             }
            },
            "type": "barpolar"
           }
          ],
          "carpet": [
           {
            "aaxis": {
             "endlinecolor": "#2a3f5f",
             "gridcolor": "#C8D4E3",
             "linecolor": "#C8D4E3",
             "minorgridcolor": "#C8D4E3",
             "startlinecolor": "#2a3f5f"
            },
            "baxis": {
             "endlinecolor": "#2a3f5f",
             "gridcolor": "#C8D4E3",
             "linecolor": "#C8D4E3",
             "minorgridcolor": "#C8D4E3",
             "startlinecolor": "#2a3f5f"
            },
            "type": "carpet"
           }
          ],
          "choropleth": [
           {
            "colorbar": {
             "outlinewidth": 0,
             "ticks": ""
            },
            "type": "choropleth"
           }
          ],
          "contour": [
           {
            "colorbar": {
             "outlinewidth": 0,
             "ticks": ""
            },
            "colorscale": [
             [
              0,
              "#0d0887"
             ],
             [
              0.1111111111111111,
              "#46039f"
             ],
             [
              0.2222222222222222,
              "#7201a8"
             ],
             [
              0.3333333333333333,
              "#9c179e"
             ],
             [
              0.4444444444444444,
              "#bd3786"
             ],
             [
              0.5555555555555556,
              "#d8576b"
             ],
             [
              0.6666666666666666,
              "#ed7953"
             ],
             [
              0.7777777777777778,
              "#fb9f3a"
             ],
             [
              0.8888888888888888,
              "#fdca26"
             ],
             [
              1,
              "#f0f921"
             ]
            ],
            "type": "contour"
           }
          ],
          "contourcarpet": [
           {
            "colorbar": {
             "outlinewidth": 0,
             "ticks": ""
            },
            "type": "contourcarpet"
           }
          ],
          "heatmap": [
           {
            "colorbar": {
             "outlinewidth": 0,
             "ticks": ""
            },
            "colorscale": [
             [
              0,
              "#0d0887"
             ],
             [
              0.1111111111111111,
              "#46039f"
             ],
             [
              0.2222222222222222,
              "#7201a8"
             ],
             [
              0.3333333333333333,
              "#9c179e"
             ],
             [
              0.4444444444444444,
              "#bd3786"
             ],
             [
              0.5555555555555556,
              "#d8576b"
             ],
             [
              0.6666666666666666,
              "#ed7953"
             ],
             [
              0.7777777777777778,
              "#fb9f3a"
             ],
             [
              0.8888888888888888,
              "#fdca26"
             ],
             [
              1,
              "#f0f921"
             ]
            ],
            "type": "heatmap"
           }
          ],
          "heatmapgl": [
           {
            "colorbar": {
             "outlinewidth": 0,
             "ticks": ""
            },
            "colorscale": [
             [
              0,
              "#0d0887"
             ],
             [
              0.1111111111111111,
              "#46039f"
             ],
             [
              0.2222222222222222,
              "#7201a8"
             ],
             [
              0.3333333333333333,
              "#9c179e"
             ],
             [
              0.4444444444444444,
              "#bd3786"
             ],
             [
              0.5555555555555556,
              "#d8576b"
             ],
             [
              0.6666666666666666,
              "#ed7953"
             ],
             [
              0.7777777777777778,
              "#fb9f3a"
             ],
             [
              0.8888888888888888,
              "#fdca26"
             ],
             [
              1,
              "#f0f921"
             ]
            ],
            "type": "heatmapgl"
           }
          ],
          "histogram": [
           {
            "marker": {
             "colorbar": {
              "outlinewidth": 0,
              "ticks": ""
             }
            },
            "type": "histogram"
           }
          ],
          "histogram2d": [
           {
            "colorbar": {
             "outlinewidth": 0,
             "ticks": ""
            },
            "colorscale": [
             [
              0,
              "#0d0887"
             ],
             [
              0.1111111111111111,
              "#46039f"
             ],
             [
              0.2222222222222222,
              "#7201a8"
             ],
             [
              0.3333333333333333,
              "#9c179e"
             ],
             [
              0.4444444444444444,
              "#bd3786"
             ],
             [
              0.5555555555555556,
              "#d8576b"
             ],
             [
              0.6666666666666666,
              "#ed7953"
             ],
             [
              0.7777777777777778,
              "#fb9f3a"
             ],
             [
              0.8888888888888888,
              "#fdca26"
             ],
             [
              1,
              "#f0f921"
             ]
            ],
            "type": "histogram2d"
           }
          ],
          "histogram2dcontour": [
           {
            "colorbar": {
             "outlinewidth": 0,
             "ticks": ""
            },
            "colorscale": [
             [
              0,
              "#0d0887"
             ],
             [
              0.1111111111111111,
              "#46039f"
             ],
             [
              0.2222222222222222,
              "#7201a8"
             ],
             [
              0.3333333333333333,
              "#9c179e"
             ],
             [
              0.4444444444444444,
              "#bd3786"
             ],
             [
              0.5555555555555556,
              "#d8576b"
             ],
             [
              0.6666666666666666,
              "#ed7953"
             ],
             [
              0.7777777777777778,
              "#fb9f3a"
             ],
             [
              0.8888888888888888,
              "#fdca26"
             ],
             [
              1,
              "#f0f921"
             ]
            ],
            "type": "histogram2dcontour"
           }
          ],
          "mesh3d": [
           {
            "colorbar": {
             "outlinewidth": 0,
             "ticks": ""
            },
            "type": "mesh3d"
           }
          ],
          "parcoords": [
           {
            "line": {
             "colorbar": {
              "outlinewidth": 0,
              "ticks": ""
             }
            },
            "type": "parcoords"
           }
          ],
          "pie": [
           {
            "automargin": true,
            "type": "pie"
           }
          ],
          "scatter": [
           {
            "marker": {
             "colorbar": {
              "outlinewidth": 0,
              "ticks": ""
             }
            },
            "type": "scatter"
           }
          ],
          "scatter3d": [
           {
            "line": {
             "colorbar": {
              "outlinewidth": 0,
              "ticks": ""
             }
            },
            "marker": {
             "colorbar": {
              "outlinewidth": 0,
              "ticks": ""
             }
            },
            "type": "scatter3d"
           }
          ],
          "scattercarpet": [
           {
            "marker": {
             "colorbar": {
              "outlinewidth": 0,
              "ticks": ""
             }
            },
            "type": "scattercarpet"
           }
          ],
          "scattergeo": [
           {
            "marker": {
             "colorbar": {
              "outlinewidth": 0,
              "ticks": ""
             }
            },
            "type": "scattergeo"
           }
          ],
          "scattergl": [
           {
            "marker": {
             "colorbar": {
              "outlinewidth": 0,
              "ticks": ""
             }
            },
            "type": "scattergl"
           }
          ],
          "scattermapbox": [
           {
            "marker": {
             "colorbar": {
              "outlinewidth": 0,
              "ticks": ""
             }
            },
            "type": "scattermapbox"
           }
          ],
          "scatterpolar": [
           {
            "marker": {
             "colorbar": {
              "outlinewidth": 0,
              "ticks": ""
             }
            },
            "type": "scatterpolar"
           }
          ],
          "scatterpolargl": [
           {
            "marker": {
             "colorbar": {
              "outlinewidth": 0,
              "ticks": ""
             }
            },
            "type": "scatterpolargl"
           }
          ],
          "scatterternary": [
           {
            "marker": {
             "colorbar": {
              "outlinewidth": 0,
              "ticks": ""
             }
            },
            "type": "scatterternary"
           }
          ],
          "surface": [
           {
            "colorbar": {
             "outlinewidth": 0,
             "ticks": ""
            },
            "colorscale": [
             [
              0,
              "#0d0887"
             ],
             [
              0.1111111111111111,
              "#46039f"
             ],
             [
              0.2222222222222222,
              "#7201a8"
             ],
             [
              0.3333333333333333,
              "#9c179e"
             ],
             [
              0.4444444444444444,
              "#bd3786"
             ],
             [
              0.5555555555555556,
              "#d8576b"
             ],
             [
              0.6666666666666666,
              "#ed7953"
             ],
             [
              0.7777777777777778,
              "#fb9f3a"
             ],
             [
              0.8888888888888888,
              "#fdca26"
             ],
             [
              1,
              "#f0f921"
             ]
            ],
            "type": "surface"
           }
          ],
          "table": [
           {
            "cells": {
             "fill": {
              "color": "#EBF0F8"
             },
             "line": {
              "color": "white"
             }
            },
            "header": {
             "fill": {
              "color": "#C8D4E3"
             },
             "line": {
              "color": "white"
             }
            },
            "type": "table"
           }
          ]
         },
         "layout": {
          "annotationdefaults": {
           "arrowcolor": "#2a3f5f",
           "arrowhead": 0,
           "arrowwidth": 1
          },
          "coloraxis": {
           "colorbar": {
            "outlinewidth": 0,
            "ticks": ""
           }
          },
          "colorscale": {
           "diverging": [
            [
             0,
             "#8e0152"
            ],
            [
             0.1,
             "#c51b7d"
            ],
            [
             0.2,
             "#de77ae"
            ],
            [
             0.3,
             "#f1b6da"
            ],
            [
             0.4,
             "#fde0ef"
            ],
            [
             0.5,
             "#f7f7f7"
            ],
            [
             0.6,
             "#e6f5d0"
            ],
            [
             0.7,
             "#b8e186"
            ],
            [
             0.8,
             "#7fbc41"
            ],
            [
             0.9,
             "#4d9221"
            ],
            [
             1,
             "#276419"
            ]
           ],
           "sequential": [
            [
             0,
             "#0d0887"
            ],
            [
             0.1111111111111111,
             "#46039f"
            ],
            [
             0.2222222222222222,
             "#7201a8"
            ],
            [
             0.3333333333333333,
             "#9c179e"
            ],
            [
             0.4444444444444444,
             "#bd3786"
            ],
            [
             0.5555555555555556,
             "#d8576b"
            ],
            [
             0.6666666666666666,
             "#ed7953"
            ],
            [
             0.7777777777777778,
             "#fb9f3a"
            ],
            [
             0.8888888888888888,
             "#fdca26"
            ],
            [
             1,
             "#f0f921"
            ]
           ],
           "sequentialminus": [
            [
             0,
             "#0d0887"
            ],
            [
             0.1111111111111111,
             "#46039f"
            ],
            [
             0.2222222222222222,
             "#7201a8"
            ],
            [
             0.3333333333333333,
             "#9c179e"
            ],
            [
             0.4444444444444444,
             "#bd3786"
            ],
            [
             0.5555555555555556,
             "#d8576b"
            ],
            [
             0.6666666666666666,
             "#ed7953"
            ],
            [
             0.7777777777777778,
             "#fb9f3a"
            ],
            [
             0.8888888888888888,
             "#fdca26"
            ],
            [
             1,
             "#f0f921"
            ]
           ]
          },
          "colorway": [
           "#636efa",
           "#EF553B",
           "#00cc96",
           "#ab63fa",
           "#FFA15A",
           "#19d3f3",
           "#FF6692",
           "#B6E880",
           "#FF97FF",
           "#FECB52"
          ],
          "font": {
           "color": "#2a3f5f"
          },
          "geo": {
           "bgcolor": "white",
           "lakecolor": "white",
           "landcolor": "white",
           "showlakes": true,
           "showland": true,
           "subunitcolor": "#C8D4E3"
          },
          "hoverlabel": {
           "align": "left"
          },
          "hovermode": "closest",
          "mapbox": {
           "style": "light"
          },
          "paper_bgcolor": "white",
          "plot_bgcolor": "white",
          "polar": {
           "angularaxis": {
            "gridcolor": "#EBF0F8",
            "linecolor": "#EBF0F8",
            "ticks": ""
           },
           "bgcolor": "white",
           "radialaxis": {
            "gridcolor": "#EBF0F8",
            "linecolor": "#EBF0F8",
            "ticks": ""
           }
          },
          "scene": {
           "xaxis": {
            "backgroundcolor": "white",
            "gridcolor": "#DFE8F3",
            "gridwidth": 2,
            "linecolor": "#EBF0F8",
            "showbackground": true,
            "ticks": "",
            "zerolinecolor": "#EBF0F8"
           },
           "yaxis": {
            "backgroundcolor": "white",
            "gridcolor": "#DFE8F3",
            "gridwidth": 2,
            "linecolor": "#EBF0F8",
            "showbackground": true,
            "ticks": "",
            "zerolinecolor": "#EBF0F8"
           },
           "zaxis": {
            "backgroundcolor": "white",
            "gridcolor": "#DFE8F3",
            "gridwidth": 2,
            "linecolor": "#EBF0F8",
            "showbackground": true,
            "ticks": "",
            "zerolinecolor": "#EBF0F8"
           }
          },
          "shapedefaults": {
           "line": {
            "color": "#2a3f5f"
           }
          },
          "ternary": {
           "aaxis": {
            "gridcolor": "#DFE8F3",
            "linecolor": "#A2B1C6",
            "ticks": ""
           },
           "baxis": {
            "gridcolor": "#DFE8F3",
            "linecolor": "#A2B1C6",
            "ticks": ""
           },
           "bgcolor": "white",
           "caxis": {
            "gridcolor": "#DFE8F3",
            "linecolor": "#A2B1C6",
            "ticks": ""
           }
          },
          "title": {
           "x": 0.05
          },
          "xaxis": {
           "automargin": true,
           "gridcolor": "#EBF0F8",
           "linecolor": "#EBF0F8",
           "ticks": "",
           "title": {
            "standoff": 15
           },
           "zerolinecolor": "#EBF0F8",
           "zerolinewidth": 2
          },
          "yaxis": {
           "automargin": true,
           "gridcolor": "#EBF0F8",
           "linecolor": "#EBF0F8",
           "ticks": "",
           "title": {
            "standoff": 15
           },
           "zerolinecolor": "#EBF0F8",
           "zerolinewidth": 2
          }
         }
        },
        "updatemenus": [
         {
          "buttons": [
           {
            "args": [
             {
              "visible": [
               true,
               true,
               true,
               true,
               false,
               false,
               false,
               false,
               false,
               false,
               false,
               false,
               false,
               false,
               false,
               false,
               false,
               false,
               false,
               false,
               false,
               false,
               false,
               false,
               false,
               false,
               false,
               false,
               false,
               false,
               false,
               false
              ]
             }
            ],
            "label": "ID: 40",
            "method": "restyle"
           },
           {
            "args": [
             {
              "visible": [
               false,
               false,
               false,
               false,
               true,
               true,
               true,
               true,
               false,
               false,
               false,
               false,
               false,
               false,
               false,
               false,
               false,
               false,
               false,
               false,
               false,
               false,
               false,
               false,
               false,
               false,
               false,
               false,
               false,
               false,
               false,
               false
              ]
             }
            ],
            "label": "ID: 94",
            "method": "restyle"
           },
           {
            "args": [
             {
              "visible": [
               false,
               false,
               false,
               false,
               false,
               false,
               false,
               false,
               true,
               true,
               true,
               true,
               false,
               false,
               false,
               false,
               false,
               false,
               false,
               false,
               false,
               false,
               false,
               false,
               false,
               false,
               false,
               false,
               false,
               false,
               false,
               false
              ]
             }
            ],
            "label": "ID: 95",
            "method": "restyle"
           },
           {
            "args": [
             {
              "visible": [
               false,
               false,
               false,
               false,
               false,
               false,
               false,
               false,
               false,
               false,
               false,
               false,
               true,
               true,
               true,
               true,
               false,
               false,
               false,
               false,
               false,
               false,
               false,
               false,
               false,
               false,
               false,
               false,
               false,
               false,
               false,
               false
              ]
             }
            ],
            "label": "ID: 136",
            "method": "restyle"
           },
           {
            "args": [
             {
              "visible": [
               false,
               false,
               false,
               false,
               false,
               false,
               false,
               false,
               false,
               false,
               false,
               false,
               false,
               false,
               false,
               false,
               true,
               true,
               true,
               true,
               false,
               false,
               false,
               false,
               false,
               false,
               false,
               false,
               false,
               false,
               false,
               false
              ]
             }
            ],
            "label": "ID: 140",
            "method": "restyle"
           },
           {
            "args": [
             {
              "visible": [
               false,
               false,
               false,
               false,
               false,
               false,
               false,
               false,
               false,
               false,
               false,
               false,
               false,
               false,
               false,
               false,
               false,
               false,
               false,
               false,
               true,
               true,
               true,
               true,
               false,
               false,
               false,
               false,
               false,
               false,
               false,
               false
              ]
             }
            ],
            "label": "ID: 155",
            "method": "restyle"
           },
           {
            "args": [
             {
              "visible": [
               false,
               false,
               false,
               false,
               false,
               false,
               false,
               false,
               false,
               false,
               false,
               false,
               false,
               false,
               false,
               false,
               false,
               false,
               false,
               false,
               false,
               false,
               false,
               false,
               true,
               true,
               true,
               true,
               false,
               false,
               false,
               false
              ]
             }
            ],
            "label": "ID: 169",
            "method": "restyle"
           },
           {
            "args": [
             {
              "visible": [
               false,
               false,
               false,
               false,
               false,
               false,
               false,
               false,
               false,
               false,
               false,
               false,
               false,
               false,
               false,
               false,
               false,
               false,
               false,
               false,
               false,
               false,
               false,
               false,
               false,
               false,
               false,
               false,
               true,
               true,
               true,
               true
              ]
             }
            ],
            "label": "ID: 170",
            "method": "restyle"
           }
          ],
          "direction": "right",
          "pad": {
           "r": 0,
           "t": -10
          },
          "showactive": true,
          "type": "buttons",
          "x": 0,
          "xanchor": "left",
          "y": 1.1,
          "yanchor": "top"
         }
        ]
       }
      },
      "text/html": [
       "<div>\n",
       "        \n",
       "        \n",
       "            <div id=\"ba82bda3-3f13-4e47-835c-e4d00e99d142\" class=\"plotly-graph-div\" style=\"height:525px; width:100%;\"></div>\n",
       "            <script type=\"text/javascript\">\n",
       "                require([\"plotly\"], function(Plotly) {\n",
       "                    window.PLOTLYENV=window.PLOTLYENV || {};\n",
       "                    \n",
       "                if (document.getElementById(\"ba82bda3-3f13-4e47-835c-e4d00e99d142\")) {\n",
       "                    Plotly.newPlot(\n",
       "                        'ba82bda3-3f13-4e47-835c-e4d00e99d142',\n",
       "                        [{\"boxpoints\": \"all\", \"jitter\": 0.2, \"line\": {\"color\": \"#636EFA\"}, \"marker\": {\"color\": \"#636EFA\", \"line\": {\"color\": \"black\", \"width\": 1}, \"opacity\": 0.7, \"symbol\": \"circle\"}, \"name\": \"Initial tumour volume in cm^3\", \"pointpos\": -1.5, \"type\": \"box\", \"visible\": true, \"y\": [0.13961516233473997, 0.13961518492172578, 0.13961520248151962, 0.13964469320354414, 0.13961517162157938, 0.1396125885964337, 0.13954253124001023, 0.1396151603504244, 0.13961519435743724, 0.1396152080443933]}, {\"boxpoints\": \"all\", \"jitter\": 0.2, \"line\": {\"color\": \"#EF553B\"}, \"marker\": {\"color\": \"#EF553B\", \"line\": {\"color\": \"black\", \"width\": 1}, \"opacity\": 0.7, \"symbol\": \"circle\"}, \"name\": \"Critical volume in cm^3\", \"pointpos\": -1.5, \"type\": \"box\", \"visible\": true, \"y\": [0.23785781298901582, 0.23785785075638333, 0.23785788030058158, 0.23837977551925044, 0.2378578284757663, 0.23784551008260638, 0.23746250426616686, 0.23785780927572567, 0.23785786649008261, 0.23785788973199729]}, {\"boxpoints\": \"all\", \"jitter\": 0.2, \"line\": {\"color\": \"#00CC96\"}, \"marker\": {\"color\": \"#00CC96\", \"line\": {\"color\": \"black\", \"width\": 1}, \"opacity\": 0.7, \"symbol\": \"circle\"}, \"name\": \"Exponential growth rate in 1/day\", \"pointpos\": -1.5, \"type\": \"box\", \"visible\": true, \"y\": [0.5502852058023807, 0.5502851262412121, 0.5502850727813159, 0.5494994982746457, 0.5502851698869743, 0.550307965178278, 0.5510118096369642, 0.5502852128078958, 0.5502850904529715, 0.5502850444931833]}, {\"boxpoints\": \"all\", \"jitter\": 0.2, \"line\": {\"color\": \"#AB63FA\"}, \"marker\": {\"color\": \"#AB63FA\", \"line\": {\"color\": \"black\", \"width\": 1}, \"opacity\": 0.7, \"symbol\": \"circle\"}, \"name\": \"Score\", \"pointpos\": -1.5, \"type\": \"box\", \"visible\": true, \"y\": [1.1859706982200828e-08, 1.1859704626480632e-08, 1.1859714758739927e-08, 4.637463199390404e-09, 1.1859704837788615e-08, 1.2055353774485822e-08, 3.2608167323635924e-08, 1.185970238356352e-08, 1.1859703788370919e-08, 1.1859711271287577e-08]}, {\"boxpoints\": \"all\", \"jitter\": 0.2, \"line\": {\"color\": \"#636EFA\"}, \"marker\": {\"color\": \"#636EFA\", \"line\": {\"color\": \"black\", \"width\": 1}, \"opacity\": 0.7, \"symbol\": \"circle\"}, \"name\": \"Initial tumour volume in cm^3\", \"pointpos\": -1.5, \"type\": \"box\", \"visible\": false, \"y\": [0.07467445135898927, 0.07471092799645968, 0.0746744513589901, 0.07474032675704667, 0.07467445135911088, 0.07467445135897359, 0.07467445135899034, 0.07467445135898579, 0.07467445135899163, 0.07467445135899056]}, {\"boxpoints\": \"all\", \"jitter\": 0.2, \"line\": {\"color\": \"#EF553B\"}, \"marker\": {\"color\": \"#EF553B\", \"line\": {\"color\": \"black\", \"width\": 1}, \"opacity\": 0.7, \"symbol\": \"circle\"}, \"name\": \"Critical volume in cm^3\", \"pointpos\": -1.5, \"type\": \"box\", \"visible\": false, \"y\": [0.061132791319119355, 0.061168069825824636, 0.06113279131914371, 0.06158023209512238, 0.06113279132000081, 0.06113279131901945, 0.0611327913191367, 0.061132791319118675, 0.06113279131914368, 0.061132791319141296]}, {\"boxpoints\": \"all\", \"jitter\": 0.2, \"line\": {\"color\": \"#00CC96\"}, \"marker\": {\"color\": \"#00CC96\", \"line\": {\"color\": \"black\", \"width\": 1}, \"opacity\": 0.7, \"symbol\": \"circle\"}, \"name\": \"Exponential growth rate in 1/day\", \"pointpos\": -1.5, \"type\": \"box\", \"visible\": false, \"y\": [0.33296314373911895, 0.33268749771638445, 0.33296314373901587, 0.33097046394877894, 0.33296314373537617, 0.3329631437395605, 0.33296314373904295, 0.3329631437391274, 0.33296314373901326, 0.3329631437390243]}, {\"boxpoints\": \"all\", \"jitter\": 0.2, \"line\": {\"color\": \"#AB63FA\"}, \"marker\": {\"color\": \"#AB63FA\", \"line\": {\"color\": \"black\", \"width\": 1}, \"opacity\": 0.7, \"symbol\": \"circle\"}, \"name\": \"Score\", \"pointpos\": -1.5, \"type\": \"box\", \"visible\": false, \"y\": [1.4374775178216895e-28, 1.1140295436830122e-08, 9.74867219249931e-30, 1.3671968027566876e-08, 2.344470653674269e-25, 2.1548914295237902e-27, 8.685366270203118e-30, 1.409921312177397e-28, 1.3335138934937221e-30, 3.632689061103204e-30]}, {\"boxpoints\": \"all\", \"jitter\": 0.2, \"line\": {\"color\": \"#636EFA\"}, \"marker\": {\"color\": \"#636EFA\", \"line\": {\"color\": \"black\", \"width\": 1}, \"opacity\": 0.7, \"symbol\": \"circle\"}, \"name\": \"Initial tumour volume in cm^3\", \"pointpos\": -1.5, \"type\": \"box\", \"visible\": false, \"y\": [0.22088761939162777, 0.22089128337273017, 0.22089086619452483, 0.22089078343303994, 0.2208908465303827, 0.22089134844025154, 0.22089218375747066, 0.22089067916452823, 0.22089090183753818, 0.22089057640907064]}, {\"boxpoints\": \"all\", \"jitter\": 0.2, \"line\": {\"color\": \"#EF553B\"}, \"marker\": {\"color\": \"#EF553B\", \"line\": {\"color\": \"black\", \"width\": 1}, \"opacity\": 0.7, \"symbol\": \"circle\"}, \"name\": \"Critical volume in cm^3\", \"pointpos\": -1.5, \"type\": \"box\", \"visible\": false, \"y\": [925.138250639969, 938.0020152648063, 938.145022556103, 937.70559562865, 938.2380322518034, 938.8267630158732, 943.4164387349746, 933.7102159337676, 938.3633917573201, 936.7757226382696]}, {\"boxpoints\": \"all\", \"jitter\": 0.2, \"line\": {\"color\": \"#00CC96\"}, \"marker\": {\"color\": \"#00CC96\", \"line\": {\"color\": \"black\", \"width\": 1}, \"opacity\": 0.7, \"symbol\": \"circle\"}, \"name\": \"Exponential growth rate in 1/day\", \"pointpos\": -1.5, \"type\": \"box\", \"visible\": false, \"y\": [0.1111960796817578, 0.11119390949417733, 0.11119399197028824, 0.11119403023735382, 0.1111939470364632, 0.11119378896135146, 0.11119311788427769, 0.11119443032580602, 0.11119392387173298, 0.11119418502519406]}, {\"boxpoints\": \"all\", \"jitter\": 0.2, \"line\": {\"color\": \"#AB63FA\"}, \"marker\": {\"color\": \"#AB63FA\", \"line\": {\"color\": \"black\", \"width\": 1}, \"opacity\": 0.7, \"symbol\": \"circle\"}, \"name\": \"Score\", \"pointpos\": -1.5, \"type\": \"box\", \"visible\": false, \"y\": [2.058818695885026e-09, 1.378442753659529e-09, 1.36871613149886e-09, 1.3856510497758828e-09, 1.3608428000467693e-09, 1.3342552020350322e-09, 1.1292970561059872e-09, 1.590674590432995e-09, 1.354719426921892e-09, 1.4313270089462852e-09]}, {\"boxpoints\": \"all\", \"jitter\": 0.2, \"line\": {\"color\": \"#636EFA\"}, \"marker\": {\"color\": \"#636EFA\", \"line\": {\"color\": \"black\", \"width\": 1}, \"opacity\": 0.7, \"symbol\": \"circle\"}, \"name\": \"Initial tumour volume in cm^3\", \"pointpos\": -1.5, \"type\": \"box\", \"visible\": false, \"y\": [0.14895068010822976, 0.14895068009462897, 0.14895067843653703, 0.1489506801310463, 0.14895067827189348, 0.14895068012532506, 0.14895068209474774, 0.14895067832187137, 0.1489506784933573, 0.1489506782767016]}, {\"boxpoints\": \"all\", \"jitter\": 0.2, \"line\": {\"color\": \"#EF553B\"}, \"marker\": {\"color\": \"#EF553B\", \"line\": {\"color\": \"black\", \"width\": 1}, \"opacity\": 0.7, \"symbol\": \"circle\"}, \"name\": \"Critical volume in cm^3\", \"pointpos\": -1.5, \"type\": \"box\", \"visible\": false, \"y\": [1.1895081558808103, 1.1895081665480982, 1.1895081206244411, 1.1895081708209623, 1.1895081076310032, 1.1895081455823397, 1.1895081818196833, 1.189508125285169, 1.1895081210313418, 1.1895081020578313]}, {\"boxpoints\": \"all\", \"jitter\": 0.2, \"line\": {\"color\": \"#00CC96\"}, \"marker\": {\"color\": \"#00CC96\", \"line\": {\"color\": \"black\", \"width\": 1}, \"opacity\": 0.7, \"symbol\": \"circle\"}, \"name\": \"Exponential growth rate in 1/day\", \"pointpos\": -1.5, \"type\": \"box\", \"visible\": false, \"y\": [0.10849697257330565, 0.10849697231966474, 0.1084969740604332, 0.1084969721692051, 0.10849697455948712, 0.10849697288271169, 0.10849697116690905, 0.10849697393564038, 0.1084969739983728, 0.10849697458725885]}, {\"boxpoints\": \"all\", \"jitter\": 0.2, \"line\": {\"color\": \"#AB63FA\"}, \"marker\": {\"color\": \"#AB63FA\", \"line\": {\"color\": \"black\", \"width\": 1}, \"opacity\": 0.7, \"symbol\": \"circle\"}, \"name\": \"Score\", \"pointpos\": -1.5, \"type\": \"box\", \"visible\": false, \"y\": [3.813525066233808e-08, 3.8135250545960596e-08, 3.813525065132413e-08, 3.8135250659490334e-08, 3.813525067352806e-08, 3.8135250555661194e-08, 3.813525062370248e-08, 3.813525064996304e-08, 3.8135250650920935e-08, 3.813525065599096e-08]}, {\"boxpoints\": \"all\", \"jitter\": 0.2, \"line\": {\"color\": \"#636EFA\"}, \"marker\": {\"color\": \"#636EFA\", \"line\": {\"color\": \"black\", \"width\": 1}, \"opacity\": 0.7, \"symbol\": \"circle\"}, \"name\": \"Initial tumour volume in cm^3\", \"pointpos\": -1.5, \"type\": \"box\", \"visible\": false, \"y\": [0.08416732622565821, 0.0841676226276983, 0.08416635935287753, 0.08416575957397009, 0.08416662301135375, 0.08416726314227625, 0.08416569007955703, 0.08416661668677913, 0.08416699054399218, 0.08416631674798652]}, {\"boxpoints\": \"all\", \"jitter\": 0.2, \"line\": {\"color\": \"#EF553B\"}, \"marker\": {\"color\": \"#EF553B\", \"line\": {\"color\": \"black\", \"width\": 1}, \"opacity\": 0.7, \"symbol\": \"circle\"}, \"name\": \"Critical volume in cm^3\", \"pointpos\": -1.5, \"type\": \"box\", \"visible\": false, \"y\": [936.0079574237575, 938.6790973073133, 930.2863854905266, 928.3225623358534, 931.2591822508628, 935.6621692457528, 926.3024923768395, 930.8133425413106, 934.3746090156544, 928.7387640141343]}, {\"boxpoints\": \"all\", \"jitter\": 0.2, \"line\": {\"color\": \"#00CC96\"}, \"marker\": {\"color\": \"#00CC96\", \"line\": {\"color\": \"black\", \"width\": 1}, \"opacity\": 0.7, \"symbol\": \"circle\"}, \"name\": \"Exponential growth rate in 1/day\", \"pointpos\": -1.5, \"type\": \"box\", \"visible\": false, \"y\": [0.10837353946326746, 0.10837323773054938, 0.10837436982651977, 0.10837476021697137, 0.10837418970024233, 0.10837360167436096, 0.10837491948816948, 0.10837422092903905, 0.10837380531876771, 0.10837448584205588]}, {\"boxpoints\": \"all\", \"jitter\": 0.2, \"line\": {\"color\": \"#AB63FA\"}, \"marker\": {\"color\": \"#AB63FA\", \"line\": {\"color\": \"black\", \"width\": 1}, \"opacity\": 0.7, \"symbol\": \"circle\"}, \"name\": \"Score\", \"pointpos\": -1.5, \"type\": \"box\", \"visible\": false, \"y\": [1.581744091580363e-09, 1.4453232897228545e-09, 1.9016793697452837e-09, 2.023051920483536e-09, 1.8456854416961328e-09, 1.6007590920179427e-09, 2.14300130686728e-09, 1.8714332736438107e-09, 1.6697477813469058e-09, 1.9932946572531643e-09]}, {\"boxpoints\": \"all\", \"jitter\": 0.2, \"line\": {\"color\": \"#636EFA\"}, \"marker\": {\"color\": \"#636EFA\", \"line\": {\"color\": \"black\", \"width\": 1}, \"opacity\": 0.7, \"symbol\": \"circle\"}, \"name\": \"Initial tumour volume in cm^3\", \"pointpos\": -1.5, \"type\": \"box\", \"visible\": false, \"y\": [0.1333107914725385, 0.13327405400303735, 0.13331079191590778, 0.13331079158031894, 0.13331078995800535, 0.13331079181682792, 0.13331079341185606, 0.13331079166983256, 0.13331079000246834, 0.133310793346137]}, {\"boxpoints\": \"all\", \"jitter\": 0.2, \"line\": {\"color\": \"#EF553B\"}, \"marker\": {\"color\": \"#EF553B\", \"line\": {\"color\": \"black\", \"width\": 1}, \"opacity\": 0.7, \"symbol\": \"circle\"}, \"name\": \"Critical volume in cm^3\", \"pointpos\": -1.5, \"type\": \"box\", \"visible\": false, \"y\": [0.2753750938246943, 0.27497233031064, 0.27537509390006915, 0.27537508929154053, 0.2753750871692082, 0.27537509482847533, 0.27537509727395904, 0.27537508666161714, 0.27537508744009914, 0.27537509705201846]}, {\"boxpoints\": \"all\", \"jitter\": 0.2, \"line\": {\"color\": \"#00CC96\"}, \"marker\": {\"color\": \"#00CC96\", \"line\": {\"color\": \"black\", \"width\": 1}, \"opacity\": 0.7, \"symbol\": \"circle\"}, \"name\": \"Exponential growth rate in 1/day\", \"pointpos\": -1.5, \"type\": \"box\", \"visible\": false, \"y\": [0.3941653173717761, 0.39471935289739873, 0.39416531682304035, 0.39416532150705974, 0.3941653244228611, 0.39416531588644604, 0.39416531258162, 0.3941653240531017, 0.3941653240122285, 0.39416531283296485]}, {\"boxpoints\": \"all\", \"jitter\": 0.2, \"line\": {\"color\": \"#AB63FA\"}, \"marker\": {\"color\": \"#AB63FA\", \"line\": {\"color\": \"black\", \"width\": 1}, \"opacity\": 0.7, \"symbol\": \"circle\"}, \"name\": \"Score\", \"pointpos\": -1.5, \"type\": \"box\", \"visible\": false, \"y\": [1.0637112311785615e-08, 1.6029414778777856e-27, 1.0637112292408544e-08, 1.063711229435922e-08, 1.0637112314280763e-08, 1.0637112296332613e-08, 1.0637112372608428e-08, 1.0637112306244033e-08, 1.063711231792856e-08, 1.0637112372531652e-08]}, {\"boxpoints\": \"all\", \"jitter\": 0.2, \"line\": {\"color\": \"#636EFA\"}, \"marker\": {\"color\": \"#636EFA\", \"line\": {\"color\": \"black\", \"width\": 1}, \"opacity\": 0.7, \"symbol\": \"circle\"}, \"name\": \"Initial tumour volume in cm^3\", \"pointpos\": -1.5, \"type\": \"box\", \"visible\": false, \"y\": [0.12380949345349215, 0.12377473355326099, 0.12380949345348352, 0.12380949345348848, 0.12380949345282852, 0.12380949345279893, 0.12380949345289505, 0.12380949345350953, 0.12380949345352234, 0.1238094934532278]}, {\"boxpoints\": \"all\", \"jitter\": 0.2, \"line\": {\"color\": \"#EF553B\"}, \"marker\": {\"color\": \"#EF553B\", \"line\": {\"color\": \"black\", \"width\": 1}, \"opacity\": 0.7, \"symbol\": \"circle\"}, \"name\": \"Critical volume in cm^3\", \"pointpos\": -1.5, \"type\": \"box\", \"visible\": false, \"y\": [0.8481581123077607, 0.8479297389976467, 0.8481581123078059, 0.8481581123080606, 0.8481581122398308, 0.8481581122705801, 0.848158112265566, 0.8481581123067603, 0.848158112309397, 0.8481581123017418]}, {\"boxpoints\": \"all\", \"jitter\": 0.2, \"line\": {\"color\": \"#00CC96\"}, \"marker\": {\"color\": \"#00CC96\", \"line\": {\"color\": \"black\", \"width\": 1}, \"opacity\": 0.7, \"symbol\": \"circle\"}, \"name\": \"Exponential growth rate in 1/day\", \"pointpos\": -1.5, \"type\": \"box\", \"visible\": false, \"y\": [0.08606322646369158, 0.08609970537076816, 0.08606322646369596, 0.08606322646368621, 0.08606322646633412, 0.0860632264655088, 0.08606322646559905, 0.08606322646372444, 0.08606322646363804, 0.08606322646450273]}, {\"boxpoints\": \"all\", \"jitter\": 0.2, \"line\": {\"color\": \"#AB63FA\"}, \"marker\": {\"color\": \"#AB63FA\", \"line\": {\"color\": \"black\", \"width\": 1}, \"opacity\": 0.7, \"symbol\": \"circle\"}, \"name\": \"Score\", \"pointpos\": -1.5, \"type\": \"box\", \"visible\": false, \"y\": [3.914925040463892e-24, 1.0420505191796427e-08, 3.9124437483977764e-24, 3.9138410745133035e-24, 3.4936139691594495e-24, 9.636667136578046e-26, 3.2031179000603444e-25, 4.004393163080265e-24, 3.9204293559486706e-24, 2.3482597471209698e-24]}, {\"boxpoints\": \"all\", \"jitter\": 0.2, \"line\": {\"color\": \"#636EFA\"}, \"marker\": {\"color\": \"#636EFA\", \"line\": {\"color\": \"black\", \"width\": 1}, \"opacity\": 0.7, \"symbol\": \"circle\"}, \"name\": \"Initial tumour volume in cm^3\", \"pointpos\": -1.5, \"type\": \"box\", \"visible\": false, \"y\": [0.08704782997971748, 0.08704782997971934, 0.0870478299797181, 0.0870478299797181, 0.08704782997971856, 0.08704782997971655, 0.0870478299797178, 0.08704782997971965, 0.0870478299797183, 0.08704782997971872]}, {\"boxpoints\": \"all\", \"jitter\": 0.2, \"line\": {\"color\": \"#EF553B\"}, \"marker\": {\"color\": \"#EF553B\", \"line\": {\"color\": \"black\", \"width\": 1}, \"opacity\": 0.7, \"symbol\": \"circle\"}, \"name\": \"Critical volume in cm^3\", \"pointpos\": -1.5, \"type\": \"box\", \"visible\": false, \"y\": [2.6713698824284724, 2.671369882429189, 2.671369882429317, 2.6713698824287953, 2.6713698824289804, 2.6713698824283494, 2.671369882428492, 2.6713698824299588, 2.6713698824290657, 2.6713698824289707]}, {\"boxpoints\": \"all\", \"jitter\": 0.2, \"line\": {\"color\": \"#00CC96\"}, \"marker\": {\"color\": \"#00CC96\", \"line\": {\"color\": \"black\", \"width\": 1}, \"opacity\": 0.7, \"symbol\": \"circle\"}, \"name\": \"Exponential growth rate in 1/day\", \"pointpos\": -1.5, \"type\": \"box\", \"visible\": false, \"y\": [0.07234431068339474, 0.07234431068339255, 0.07234431068339302, 0.07234431068339399, 0.07234431068339332, 0.07234431068339586, 0.07234431068339461, 0.07234431068339024, 0.07234431068339334, 0.07234431068339332]}, {\"boxpoints\": \"all\", \"jitter\": 0.2, \"line\": {\"color\": \"#AB63FA\"}, \"marker\": {\"color\": \"#AB63FA\", \"line\": {\"color\": \"black\", \"width\": 1}, \"opacity\": 0.7, \"symbol\": \"circle\"}, \"name\": \"Score\", \"pointpos\": -1.5, \"type\": \"box\", \"visible\": false, \"y\": [2.8225273706972696e-29, 3.900085174581928e-29, 1.488474216819119e-29, 1.5671291957478938e-30, 3.9654897554933186e-30, 2.8886060270891957e-29, 5.987716197099916e-30, 8.632191344438586e-29, 1.5998700048024768e-30, 4.183505025197954e-30]}],\n",
       "                        {\"autosize\": true, \"legend\": {\"x\": 1.05, \"xanchor\": \"left\", \"y\": 0.01, \"yanchor\": \"bottom\"}, \"template\": {\"data\": {\"bar\": [{\"error_x\": {\"color\": \"#2a3f5f\"}, \"error_y\": {\"color\": \"#2a3f5f\"}, \"marker\": {\"line\": {\"color\": \"white\", \"width\": 0.5}}, \"type\": \"bar\"}], \"barpolar\": [{\"marker\": {\"line\": {\"color\": \"white\", \"width\": 0.5}}, \"type\": \"barpolar\"}], \"carpet\": [{\"aaxis\": {\"endlinecolor\": \"#2a3f5f\", \"gridcolor\": \"#C8D4E3\", \"linecolor\": \"#C8D4E3\", \"minorgridcolor\": \"#C8D4E3\", \"startlinecolor\": \"#2a3f5f\"}, \"baxis\": {\"endlinecolor\": \"#2a3f5f\", \"gridcolor\": \"#C8D4E3\", \"linecolor\": \"#C8D4E3\", \"minorgridcolor\": \"#C8D4E3\", \"startlinecolor\": \"#2a3f5f\"}, \"type\": \"carpet\"}], \"choropleth\": [{\"colorbar\": {\"outlinewidth\": 0, \"ticks\": \"\"}, \"type\": \"choropleth\"}], \"contour\": [{\"colorbar\": {\"outlinewidth\": 0, \"ticks\": \"\"}, \"colorscale\": [[0.0, \"#0d0887\"], [0.1111111111111111, \"#46039f\"], [0.2222222222222222, \"#7201a8\"], [0.3333333333333333, \"#9c179e\"], [0.4444444444444444, \"#bd3786\"], [0.5555555555555556, \"#d8576b\"], [0.6666666666666666, \"#ed7953\"], [0.7777777777777778, \"#fb9f3a\"], [0.8888888888888888, \"#fdca26\"], [1.0, \"#f0f921\"]], \"type\": \"contour\"}], \"contourcarpet\": [{\"colorbar\": {\"outlinewidth\": 0, \"ticks\": \"\"}, \"type\": \"contourcarpet\"}], \"heatmap\": [{\"colorbar\": {\"outlinewidth\": 0, \"ticks\": \"\"}, \"colorscale\": [[0.0, \"#0d0887\"], [0.1111111111111111, \"#46039f\"], [0.2222222222222222, \"#7201a8\"], [0.3333333333333333, \"#9c179e\"], [0.4444444444444444, \"#bd3786\"], [0.5555555555555556, \"#d8576b\"], [0.6666666666666666, \"#ed7953\"], [0.7777777777777778, \"#fb9f3a\"], [0.8888888888888888, \"#fdca26\"], [1.0, \"#f0f921\"]], \"type\": \"heatmap\"}], \"heatmapgl\": [{\"colorbar\": {\"outlinewidth\": 0, \"ticks\": \"\"}, \"colorscale\": [[0.0, \"#0d0887\"], [0.1111111111111111, \"#46039f\"], [0.2222222222222222, \"#7201a8\"], [0.3333333333333333, \"#9c179e\"], [0.4444444444444444, \"#bd3786\"], [0.5555555555555556, \"#d8576b\"], [0.6666666666666666, \"#ed7953\"], [0.7777777777777778, \"#fb9f3a\"], [0.8888888888888888, \"#fdca26\"], [1.0, \"#f0f921\"]], \"type\": \"heatmapgl\"}], \"histogram\": [{\"marker\": {\"colorbar\": {\"outlinewidth\": 0, \"ticks\": \"\"}}, \"type\": \"histogram\"}], \"histogram2d\": [{\"colorbar\": {\"outlinewidth\": 0, \"ticks\": \"\"}, \"colorscale\": [[0.0, \"#0d0887\"], [0.1111111111111111, \"#46039f\"], [0.2222222222222222, \"#7201a8\"], [0.3333333333333333, \"#9c179e\"], [0.4444444444444444, \"#bd3786\"], [0.5555555555555556, \"#d8576b\"], [0.6666666666666666, \"#ed7953\"], [0.7777777777777778, \"#fb9f3a\"], [0.8888888888888888, \"#fdca26\"], [1.0, \"#f0f921\"]], \"type\": \"histogram2d\"}], \"histogram2dcontour\": [{\"colorbar\": {\"outlinewidth\": 0, \"ticks\": \"\"}, \"colorscale\": [[0.0, \"#0d0887\"], [0.1111111111111111, \"#46039f\"], [0.2222222222222222, \"#7201a8\"], [0.3333333333333333, \"#9c179e\"], [0.4444444444444444, \"#bd3786\"], [0.5555555555555556, \"#d8576b\"], [0.6666666666666666, \"#ed7953\"], [0.7777777777777778, \"#fb9f3a\"], [0.8888888888888888, \"#fdca26\"], [1.0, \"#f0f921\"]], \"type\": \"histogram2dcontour\"}], \"mesh3d\": [{\"colorbar\": {\"outlinewidth\": 0, \"ticks\": \"\"}, \"type\": \"mesh3d\"}], \"parcoords\": [{\"line\": {\"colorbar\": {\"outlinewidth\": 0, \"ticks\": \"\"}}, \"type\": \"parcoords\"}], \"pie\": [{\"automargin\": true, \"type\": \"pie\"}], \"scatter\": [{\"marker\": {\"colorbar\": {\"outlinewidth\": 0, \"ticks\": \"\"}}, \"type\": \"scatter\"}], \"scatter3d\": [{\"line\": {\"colorbar\": {\"outlinewidth\": 0, \"ticks\": \"\"}}, \"marker\": {\"colorbar\": {\"outlinewidth\": 0, \"ticks\": \"\"}}, \"type\": \"scatter3d\"}], \"scattercarpet\": [{\"marker\": {\"colorbar\": {\"outlinewidth\": 0, \"ticks\": \"\"}}, \"type\": \"scattercarpet\"}], \"scattergeo\": [{\"marker\": {\"colorbar\": {\"outlinewidth\": 0, \"ticks\": \"\"}}, \"type\": \"scattergeo\"}], \"scattergl\": [{\"marker\": {\"colorbar\": {\"outlinewidth\": 0, \"ticks\": \"\"}}, \"type\": \"scattergl\"}], \"scattermapbox\": [{\"marker\": {\"colorbar\": {\"outlinewidth\": 0, \"ticks\": \"\"}}, \"type\": \"scattermapbox\"}], \"scatterpolar\": [{\"marker\": {\"colorbar\": {\"outlinewidth\": 0, \"ticks\": \"\"}}, \"type\": \"scatterpolar\"}], \"scatterpolargl\": [{\"marker\": {\"colorbar\": {\"outlinewidth\": 0, \"ticks\": \"\"}}, \"type\": \"scatterpolargl\"}], \"scatterternary\": [{\"marker\": {\"colorbar\": {\"outlinewidth\": 0, \"ticks\": \"\"}}, \"type\": \"scatterternary\"}], \"surface\": [{\"colorbar\": {\"outlinewidth\": 0, \"ticks\": \"\"}, \"colorscale\": [[0.0, \"#0d0887\"], [0.1111111111111111, \"#46039f\"], [0.2222222222222222, \"#7201a8\"], [0.3333333333333333, \"#9c179e\"], [0.4444444444444444, \"#bd3786\"], [0.5555555555555556, \"#d8576b\"], [0.6666666666666666, \"#ed7953\"], [0.7777777777777778, \"#fb9f3a\"], [0.8888888888888888, \"#fdca26\"], [1.0, \"#f0f921\"]], \"type\": \"surface\"}], \"table\": [{\"cells\": {\"fill\": {\"color\": \"#EBF0F8\"}, \"line\": {\"color\": \"white\"}}, \"header\": {\"fill\": {\"color\": \"#C8D4E3\"}, \"line\": {\"color\": \"white\"}}, \"type\": \"table\"}]}, \"layout\": {\"annotationdefaults\": {\"arrowcolor\": \"#2a3f5f\", \"arrowhead\": 0, \"arrowwidth\": 1}, \"coloraxis\": {\"colorbar\": {\"outlinewidth\": 0, \"ticks\": \"\"}}, \"colorscale\": {\"diverging\": [[0, \"#8e0152\"], [0.1, \"#c51b7d\"], [0.2, \"#de77ae\"], [0.3, \"#f1b6da\"], [0.4, \"#fde0ef\"], [0.5, \"#f7f7f7\"], [0.6, \"#e6f5d0\"], [0.7, \"#b8e186\"], [0.8, \"#7fbc41\"], [0.9, \"#4d9221\"], [1, \"#276419\"]], \"sequential\": [[0.0, \"#0d0887\"], [0.1111111111111111, \"#46039f\"], [0.2222222222222222, \"#7201a8\"], [0.3333333333333333, \"#9c179e\"], [0.4444444444444444, \"#bd3786\"], [0.5555555555555556, \"#d8576b\"], [0.6666666666666666, \"#ed7953\"], [0.7777777777777778, \"#fb9f3a\"], [0.8888888888888888, \"#fdca26\"], [1.0, \"#f0f921\"]], \"sequentialminus\": [[0.0, \"#0d0887\"], [0.1111111111111111, \"#46039f\"], [0.2222222222222222, \"#7201a8\"], [0.3333333333333333, \"#9c179e\"], [0.4444444444444444, \"#bd3786\"], [0.5555555555555556, \"#d8576b\"], [0.6666666666666666, \"#ed7953\"], [0.7777777777777778, \"#fb9f3a\"], [0.8888888888888888, \"#fdca26\"], [1.0, \"#f0f921\"]]}, \"colorway\": [\"#636efa\", \"#EF553B\", \"#00cc96\", \"#ab63fa\", \"#FFA15A\", \"#19d3f3\", \"#FF6692\", \"#B6E880\", \"#FF97FF\", \"#FECB52\"], \"font\": {\"color\": \"#2a3f5f\"}, \"geo\": {\"bgcolor\": \"white\", \"lakecolor\": \"white\", \"landcolor\": \"white\", \"showlakes\": true, \"showland\": true, \"subunitcolor\": \"#C8D4E3\"}, \"hoverlabel\": {\"align\": \"left\"}, \"hovermode\": \"closest\", \"mapbox\": {\"style\": \"light\"}, \"paper_bgcolor\": \"white\", \"plot_bgcolor\": \"white\", \"polar\": {\"angularaxis\": {\"gridcolor\": \"#EBF0F8\", \"linecolor\": \"#EBF0F8\", \"ticks\": \"\"}, \"bgcolor\": \"white\", \"radialaxis\": {\"gridcolor\": \"#EBF0F8\", \"linecolor\": \"#EBF0F8\", \"ticks\": \"\"}}, \"scene\": {\"xaxis\": {\"backgroundcolor\": \"white\", \"gridcolor\": \"#DFE8F3\", \"gridwidth\": 2, \"linecolor\": \"#EBF0F8\", \"showbackground\": true, \"ticks\": \"\", \"zerolinecolor\": \"#EBF0F8\"}, \"yaxis\": {\"backgroundcolor\": \"white\", \"gridcolor\": \"#DFE8F3\", \"gridwidth\": 2, \"linecolor\": \"#EBF0F8\", \"showbackground\": true, \"ticks\": \"\", \"zerolinecolor\": \"#EBF0F8\"}, \"zaxis\": {\"backgroundcolor\": \"white\", \"gridcolor\": \"#DFE8F3\", \"gridwidth\": 2, \"linecolor\": \"#EBF0F8\", \"showbackground\": true, \"ticks\": \"\", \"zerolinecolor\": \"#EBF0F8\"}}, \"shapedefaults\": {\"line\": {\"color\": \"#2a3f5f\"}}, \"ternary\": {\"aaxis\": {\"gridcolor\": \"#DFE8F3\", \"linecolor\": \"#A2B1C6\", \"ticks\": \"\"}, \"baxis\": {\"gridcolor\": \"#DFE8F3\", \"linecolor\": \"#A2B1C6\", \"ticks\": \"\"}, \"bgcolor\": \"white\", \"caxis\": {\"gridcolor\": \"#DFE8F3\", \"linecolor\": \"#A2B1C6\", \"ticks\": \"\"}}, \"title\": {\"x\": 0.05}, \"xaxis\": {\"automargin\": true, \"gridcolor\": \"#EBF0F8\", \"linecolor\": \"#EBF0F8\", \"ticks\": \"\", \"title\": {\"standoff\": 15}, \"zerolinecolor\": \"#EBF0F8\", \"zerolinewidth\": 2}, \"yaxis\": {\"automargin\": true, \"gridcolor\": \"#EBF0F8\", \"linecolor\": \"#EBF0F8\", \"ticks\": \"\", \"title\": {\"standoff\": 15}, \"zerolinecolor\": \"#EBF0F8\", \"zerolinewidth\": 2}}}, \"updatemenus\": [{\"buttons\": [{\"args\": [{\"visible\": [true, true, true, true, false, false, false, false, false, false, false, false, false, false, false, false, false, false, false, false, false, false, false, false, false, false, false, false, false, false, false, false]}], \"label\": \"ID: 40\", \"method\": \"restyle\"}, {\"args\": [{\"visible\": [false, false, false, false, true, true, true, true, false, false, false, false, false, false, false, false, false, false, false, false, false, false, false, false, false, false, false, false, false, false, false, false]}], \"label\": \"ID: 94\", \"method\": \"restyle\"}, {\"args\": [{\"visible\": [false, false, false, false, false, false, false, false, true, true, true, true, false, false, false, false, false, false, false, false, false, false, false, false, false, false, false, false, false, false, false, false]}], \"label\": \"ID: 95\", \"method\": \"restyle\"}, {\"args\": [{\"visible\": [false, false, false, false, false, false, false, false, false, false, false, false, true, true, true, true, false, false, false, false, false, false, false, false, false, false, false, false, false, false, false, false]}], \"label\": \"ID: 136\", \"method\": \"restyle\"}, {\"args\": [{\"visible\": [false, false, false, false, false, false, false, false, false, false, false, false, false, false, false, false, true, true, true, true, false, false, false, false, false, false, false, false, false, false, false, false]}], \"label\": \"ID: 140\", \"method\": \"restyle\"}, {\"args\": [{\"visible\": [false, false, false, false, false, false, false, false, false, false, false, false, false, false, false, false, false, false, false, false, true, true, true, true, false, false, false, false, false, false, false, false]}], \"label\": \"ID: 155\", \"method\": \"restyle\"}, {\"args\": [{\"visible\": [false, false, false, false, false, false, false, false, false, false, false, false, false, false, false, false, false, false, false, false, false, false, false, false, true, true, true, true, false, false, false, false]}], \"label\": \"ID: 169\", \"method\": \"restyle\"}, {\"args\": [{\"visible\": [false, false, false, false, false, false, false, false, false, false, false, false, false, false, false, false, false, false, false, false, false, false, false, false, false, false, false, false, true, true, true, true]}], \"label\": \"ID: 170\", \"method\": \"restyle\"}], \"direction\": \"right\", \"pad\": {\"r\": 0, \"t\": -10}, \"showactive\": true, \"type\": \"buttons\", \"x\": 0.0, \"xanchor\": \"left\", \"y\": 1.1, \"yanchor\": \"top\"}]},\n",
       "                        {\"responsive\": true}\n",
       "                    ).then(function(){\n",
       "                            \n",
       "var gd = document.getElementById('ba82bda3-3f13-4e47-835c-e4d00e99d142');\n",
       "var x = new MutationObserver(function (mutations, observer) {{\n",
       "        var display = window.getComputedStyle(gd).display;\n",
       "        if (!display || display === 'none') {{\n",
       "            console.log([gd, 'removed!']);\n",
       "            Plotly.purge(gd);\n",
       "            observer.disconnect();\n",
       "        }}\n",
       "}});\n",
       "\n",
       "// Listen for the removal of the full notebook cells\n",
       "var notebookContainer = gd.closest('#notebook-container');\n",
       "if (notebookContainer) {{\n",
       "    x.observe(notebookContainer, {childList: true});\n",
       "}}\n",
       "\n",
       "// Listen for the clearing of the current output cell\n",
       "var outputEl = gd.closest('.output');\n",
       "if (outputEl) {{\n",
       "    x.observe(outputEl, {childList: true});\n",
       "}}\n",
       "\n",
       "                        })\n",
       "                };\n",
       "                });\n",
       "            </script>\n",
       "        </div>"
      ]
     },
     "metadata": {},
     "output_type": "display_data"
    }
   ],
   "source": [
    "#\n",
    "# Visualisation of the spread of optimised model parameters for multiple runs from different initial points.\n",
    "#\n",
    "# This cell needs the above optimised initial parameter from psi_0=(1, 1, 1) and the five runs from a random initial starting point, and their respective objective function scores, as well as the data\n",
    "# [new_parameters, recovered_parameters_scores, data]\n",
    "#\n",
    "\n",
    "import plotly.colors\n",
    "import plotly.graph_objects as go\n",
    "\n",
    "\n",
    "# Get mouse ids\n",
    "mouse_ids = data['#ID'].unique()\n",
    "\n",
    "# Get number of parameters + score (for visualisation)\n",
    "n_params = new_parameters.shape[2] + 1\n",
    "\n",
    "# Define colorscheme\n",
    "colors = plotly.colors.qualitative.Plotly[:n_params]\n",
    "\n",
    "# Get optimised parameters\n",
    "optimised_parameters = new_parameters\n",
    "\n",
    "# Get optimised parameters\n",
    "scores = recovered_parameters_scores\n",
    "\n",
    "# Create figure\n",
    "fig = go.Figure()\n",
    "\n",
    "# Box plot of optimised model parameters\n",
    "for index, id_m in enumerate(mouse_ids):\n",
    "    # Get optimised parameters\n",
    "    parameters = optimised_parameters[index, ...]\n",
    "\n",
    "    # Get scores\n",
    "    score = scores[index, :]\n",
    "\n",
    "    # Create box plot of for initial tumour volume\n",
    "    fig.add_trace(\n",
    "        go.Box(\n",
    "            y=parameters[:, 0],  \n",
    "            name=\"Initial tumour volume in cm^3\",\n",
    "            boxpoints='all',\n",
    "            jitter=0.2,\n",
    "            pointpos=-1.5,\n",
    "            visible=True if index == 0 else False,\n",
    "            marker=dict(\n",
    "                symbol='circle',\n",
    "                opacity=0.7,\n",
    "                line=dict(color='black', width=1)),\n",
    "            marker_color=colors[0],\n",
    "            line_color=colors[0]))\n",
    "\n",
    "    # Create box plot for critical volume\n",
    "    fig.add_trace(\n",
    "        go.Box(\n",
    "            y=parameters[:, 1],  \n",
    "            name=\"Critical volume in cm^3\",\n",
    "            boxpoints='all',\n",
    "            jitter=0.2,\n",
    "            pointpos=-1.5,\n",
    "            visible=True if index == 0 else False,\n",
    "            marker=dict(\n",
    "                symbol='circle',\n",
    "                opacity=0.7,\n",
    "                line=dict(color='black', width=1)),\n",
    "            marker_color=colors[1],\n",
    "            line_color=colors[1]))\n",
    "\n",
    "    # Create box plot of for exponential tumour growth\n",
    "    fig.add_trace(\n",
    "        go.Box(\n",
    "            y=parameters[:, 2],  \n",
    "            name=\"Exponential growth rate in 1/day\",\n",
    "            boxpoints='all',\n",
    "            jitter=0.2,\n",
    "            pointpos=-1.5,\n",
    "            visible=True if index == 0 else False,\n",
    "            marker=dict(\n",
    "                symbol='circle',\n",
    "                opacity=0.7,\n",
    "                line=dict(color='black', width=1)),\n",
    "            marker_color=colors[2],\n",
    "            line_color=colors[2]))\n",
    "    \n",
    "    # Create box plot of for objective function score\n",
    "    fig.add_trace(\n",
    "        go.Box(\n",
    "            y=score,  \n",
    "            name=\"Score\",\n",
    "            boxpoints='all',\n",
    "            jitter=0.2,\n",
    "            pointpos=-1.5,\n",
    "            visible=True if index == 0 else False,\n",
    "            marker=dict(\n",
    "                symbol='circle',\n",
    "                opacity=0.7,\n",
    "                line=dict(color='black', width=1)),\n",
    "            marker_color=colors[3],\n",
    "            line_color=colors[3]))\n",
    "\n",
    "# Set figure size\n",
    "fig.update_layout(\n",
    "    autosize=True,\n",
    "    template=\"plotly_white\")\n",
    "\n",
    "# Add switch between mice\n",
    "fig.update_layout(\n",
    "    updatemenus=[\n",
    "        dict(\n",
    "            type = \"buttons\",\n",
    "            direction = \"right\",\n",
    "            buttons=list([\n",
    "                dict(\n",
    "                    args=[{\"visible\": [True]*4 + [False]*(4 * 7)}],\n",
    "                    label=\"ID: %d\" % mouse_ids[0],\n",
    "                    method=\"restyle\"\n",
    "                ),\n",
    "                dict(\n",
    "                    args=[{\"visible\": [False]*4 + [True]*4 + [False]*(4 * 6)}],\n",
    "                    label=\"ID: %d\" % mouse_ids[1],\n",
    "                    method=\"restyle\"\n",
    "                ),\n",
    "                dict(\n",
    "                    args=[{\"visible\": [False]*(4 * 2) + [True]*4 + [False]*(4 * 5)}],\n",
    "                    label=\"ID: %d\" % mouse_ids[2],\n",
    "                    method=\"restyle\"\n",
    "                ),\n",
    "                dict(\n",
    "                    args=[{\"visible\": [False]*(4 * 3) + [True]*4 + [False]*(4 * 4)}],\n",
    "                    label=\"ID: %d\" % mouse_ids[3],\n",
    "                    method=\"restyle\"\n",
    "                ),\n",
    "                dict(\n",
    "                    args=[{\"visible\": [False]*(4 * 4) + [True]*4 + [False]*(4 * 3)}],\n",
    "                    label=\"ID: %d\" % mouse_ids[4],\n",
    "                    method=\"restyle\"\n",
    "                ),\n",
    "                dict(\n",
    "                    args=[{\"visible\": [False]*(4 * 5) + [True]*4 + [False]*(4 * 2)}],\n",
    "                    label=\"ID: %d\" % mouse_ids[5],\n",
    "                    method=\"restyle\"\n",
    "                ),\n",
    "                dict(\n",
    "                    args=[{\"visible\": [False]*(4 * 6) + [True]*4 + [False]* 4}],\n",
    "                    label=\"ID: %d\" % mouse_ids[6],\n",
    "                    method=\"restyle\"\n",
    "                ),\n",
    "                dict(\n",
    "                    args=[{\"visible\": [False]*(4 * 7) + [True]*4}],\n",
    "                    label=\"ID: %d\" % mouse_ids[7],\n",
    "                    method=\"restyle\"\n",
    "                )\n",
    "            ]),\n",
    "            pad={\"r\": 0, \"t\": -10},\n",
    "            showactive=True,\n",
    "            x=0.0,\n",
    "            xanchor=\"left\",\n",
    "            y=1.1,\n",
    "            yanchor=\"top\"\n",
    "        )\n",
    "    ]\n",
    ")\n",
    "\n",
    "# Position legend\n",
    "fig.update_layout(legend=dict(\n",
    "    yanchor=\"bottom\",\n",
    "    y=0.01,\n",
    "    xanchor=\"left\",\n",
    "    x=1.05))\n",
    "\n",
    "# Show figure\n",
    "fig.show()\n"
   ]
  },
  {
   "cell_type": "markdown",
   "metadata": {},
   "source": [
    "**Figure X:**"
   ]
  },
  {
   "cell_type": "markdown",
   "metadata": {},
   "source": [
    "There is a qulatitative differnce to observe. Some mice have biologically infeasibly large critical volumes. ALthough mice 95 and 140 seem be among the lighter mice in the control group, there is little evidence just yet to correlate this to the body mass. It is more likely that the qualitative change in growth behaviour is induced by a change in the tumour biology, i.e. metabolic adaptation of the tumour."
   ]
  },
  {
   "cell_type": "markdown",
   "metadata": {},
   "source": [
    "## Bibliography\n",
    "\n",
    "- <a name=\"ref1\"> [1] </a> Eigenmann et. al., Combining Nonclinical Experiments with Translational PKPD Modeling to Differentiate Erlotinib and Gefitinib, Mol Cancer Ther (2016)\n",
    "- <a name=\"ref2\"> [2] </a> Bellman, R. & Åström, K., On structural identifiability.Mathematical Biosciences, 7, 329 – 339 (1970)\n",
    "- <a name=\"ref2\"> [3] </a> Janzén, D. L. I. et al., Parameter identifiability of fundamental pharmacodynamic models.Frontiers in Physiology, 7, 590 (2016)\n",
    "- <a name=\"ref2\"> [4] </a> Lavielle, M. & Aarons, L., What do we mean by identifiability in mixed effects models?Journal of Pharmacoki-netics and Pharmacodynamics, 43, 111–122 (2016)\n",
    "- <a name=\"ref2\"> [5] </a> Hansen, N & Müller, S. D. & Koumoutsakos, P., Reducing the Time Complexity of the Derandomized Evolution Strategy with Covariance Matrix Adaptation (CMA-ES), Evolutionary Computation, 1-18 (2003)\n",
    "- <a name=\"ref2\"> [6] </a> Raue, A. et al., Structural and practical identifiability analysis of partially observed dynamical models by ex-ploiting the profile likelihood, Bioinformatics, 25, 1923–1929 (2009)"
   ]
  },
  {
   "cell_type": "markdown",
   "metadata": {},
   "source": [
    "[Back to project overview](https://github.com/DavAug/ErlotinibGefitinib/blob/master/README.md) | [Back to lung cancer control growth overview](https://nbviewer.jupyter.org/github/DavAug/ErlotinibGefitinib/blob/master/notebooks/lung_cancer/control_growth/overview.ipynb) | [Forward to next notebook](https://nbviewer.jupyter.org/github/DavAug/ErlotinibGefitinib/blob/master/notebooks/lung_cancer/control_growth/error_model.ipynb)"
   ]
  }
 ],
 "metadata": {
  "kernelspec": {
   "display_name": "Python 3.7.5 64-bit ('venv': venv)",
   "language": "python",
   "name": "python37564bitvenvvenv244669d31e9a466f969539273faabb23"
  },
  "language_info": {
   "codemirror_mode": {
    "name": "ipython",
    "version": 3
   },
   "file_extension": ".py",
   "mimetype": "text/x-python",
   "name": "python",
   "nbconvert_exporter": "python",
   "pygments_lexer": "ipython3",
   "version": "3.7.5-final"
  },
  "widgets": {
   "application/vnd.jupyter.widget-state+json": {
    "state": {},
    "version_major": 2,
    "version_minor": 0
   }
  }
 },
 "nbformat": 4,
 "nbformat_minor": 2
}