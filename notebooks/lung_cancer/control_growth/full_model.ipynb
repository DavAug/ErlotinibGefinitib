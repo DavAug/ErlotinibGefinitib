{
 "cells": [
  {
   "cell_type": "markdown",
   "metadata": {},
   "source": [
    "# Control Growth PD Model\n",
    "\n",
    "In [1], the tumour growth inhibition (TGI) PKPD model of Erlotinib and Gefitinib was derived from two separate in vivo experiments. In particular, the growth of patient-derived tumour explants LXF A677 (adenocarcinoma of the lung) and cell line-derived tumour xenografts VXF A431 (vulva cancer) in mice were monitored. Each experiment comprised a control growth group and three groups that were treated with either Erlotinib or Gefitinib at one of three dose levels. Treatments were orally administered once a day.\n",
    "\n",
    "The population PD model for the tumour growth in absence of any treatement is a hierarchical model which consists of a structural model, a population model and an error model. Each sub-model captures a different aspect of the tumour growth biology, and is parameterised by a set of parameters.\n",
    "\n",
    "In this notebook, we introduce the population PD model for the untreated lung cancer tumour growth in absence of any treatment reported in [1]."
   ]
  },
  {
   "cell_type": "markdown",
   "metadata": {},
   "source": [
    "## Structural model\n",
    "\n",
    "The structural tumour growth model in absence of any treatment is an ordinary differential equation for the dynamics of the tumour volume [1]\n",
    "\n",
    "\\begin{equation*}\n",
    "\\frac{\\text{d}V^s_T}{\\text{d}t} = \\frac{2\\lambda _0\\lambda _1 V^s_T}{2\\lambda _0 V^s_T + \\lambda _1}.\n",
    "\\end{equation*}\n",
    "\n",
    "Here, $V^s_T$ is the predicted tumour volume by the structural model, $\\lambda _0$ is the exponential growth rate, and $\\lambda _1$ is the linear growth rate. Note that this model is a purely empirical description of the tumour which allows the tumour volume to grow exponentially for small tumour volumes, and to grow linearly for large tumour volumes. To be more precise, there is a critical tumour volume \n",
    "\n",
    "\\begin{equation*}\n",
    "    V_{\\text{crit}} = \\frac{\\lambda _1}{2\\lambda _0}\n",
    "\\end{equation*}\n",
    "\n",
    "far below which the tumour grows exponentially and far above the tumour grows linearly.\n"
   ]
  },
  {
   "cell_type": "code",
   "execution_count": null,
   "metadata": {},
   "outputs": [],
   "source": []
  },
  {
   "cell_type": "markdown",
   "metadata": {},
   "source": [
    "## Bibliography\n",
    "\n",
    "- <a name=\"ref1\"> [1] </a> Eigenmann et. al., Combining Nonclinical Experiments with Translational PKPD Modeling to Differentiate Erlotinib and Gefitinib, Mol Cancer Ther (2016)"
   ]
  }
 ],
 "metadata": {
  "language_info": {
   "codemirror_mode": {
    "name": "ipython",
    "version": 3
   },
   "file_extension": ".py",
   "mimetype": "text/x-python",
   "name": "python",
   "nbconvert_exporter": "python",
   "pygments_lexer": "ipython3",
   "version": 3
  },
  "orig_nbformat": 2
 },
 "nbformat": 4,
 "nbformat_minor": 2
}