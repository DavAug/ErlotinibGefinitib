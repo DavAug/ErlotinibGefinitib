{
 "cells": [
  {
   "cell_type": "markdown",
   "metadata": {},
   "source": [
    "# Structural Lung Cancer Growth Model in Absence of Treatment\n",
    "\n",
    "The tumour growth inhibitory effects of Erlotinib and Gefitinib were modelled with a population PKPD model in [1]. A population PKPD model is a hierarchical model which consists of a structural model, a population model, and an error model. Each sub-model captures a different aspect of the tumour growth inhibition biology, and is parametrised by a set of parameters. \n",
    "\n",
    "In this notebook we introduce the structural model for the tumour growth in absence of treatment proposed in [1]. "
   ]
  },
  {
   "cell_type": "markdown",
   "metadata": {},
   "source": [
    "## Structural growth model in absence of treatment\n",
    "\n",
    "In a population PKPD model the structural model is a mechanistic or empirical description of the drug's pharmacokinetics (PK) and pharmacodynamics (PD). The PK part of the model describes how the drug is distributed in the body upon administration, which is often referred to as \"what the body does to the drug\". The PD part of the model captures the drug's effects on the progression of the disease, or \"what the drug does to the body\". 'Progression of the disease' may be quantified by any disease-related observable, such as biomarkers or in this case the tumour volume. A PD model does therefore not only need to capture the disease progression of an individual *under the influence* of a compound, but also needs to be able to describe its progresion in the *absence* of any treatment.\n",
    "\n",
    "In [1] a structural model is proposed for the tumour growth in absence of the compound, which assumes that the tumour grows exponentially for small tumour volumes, and linearly for large tumour volumes\n",
    "\n",
    "\\begin{equation*}\n",
    "    \\frac{\\text{d}V^s_T}{\\text{d}t} = \\frac{2\\lambda _0\\lambda _1 V^s_T}{2\\lambda _0 V^s_T + \\lambda _1}.\n",
    "\\end{equation*}\n",
    "\n",
    "Here, $V^s_T$ is the predicted tumour volume by the structural model, $\\lambda _0$ is the exponential growth rate, and $\\lambda _1$ is the linear growth rate. The tumour growth of an individual in absence of the drug is thus parameterised by three parameters\n",
    "\n",
    "\\begin{equation*}\n",
    "    \\psi = (V_0, \\lambda _0, \\lambda _1),\n",
    "\\end{equation*}\n",
    "\n",
    "where $V_0$ is the initial tumour volume, $V^s_T(t=0, \\psi) = V_0$.\n",
    "\n",
    "This model makes a number of assumptions and approximations to describe the tumour growth. The most obvious assumption of the model is a transition of the tumour growth from an exponential growth to a linear growth at a characteristic tumour volume\n",
    "\n",
    "\\begin{equation*}\n",
    "    V_{\\text{crit}} = \\frac{\\lambda _1}{2\\lambda _0}.\n",
    "\\end{equation*}\n",
    "\n",
    "For $V^s_T \\ll V_{\\text{crit}}$ the tumour is modelled by an exponential growth, while for $V^s_T \\gg V_{\\text{crit}}$ the tumour growth is linear. This tumour growth model was first introduced in [2], and builds on the intuition that in the early stages of the tumour an abundance of oxygen and nutrients leads to a constant doubling time of cancerous cells, and therefore to an exponential growth. However, in later stages of the tumour growth oxygen and other sources of nutrition are being depleted inside the tumour, and only the 'shell' tumour cells are able to proliferate at the inital rate. While there are ways for the tumour mass to expand in the inside too, by changing the mode of metabolism to glycolysis or rewiring of the blood vessels to improve the oxygen supply [3, 4, 5], it is clear that the total growth rate of the tumour should be expected to slow down. Due to the complexity of the process it is not obvious that the growth should be expected to change qualitatively from exponential to linear. However, in [2] it was argued that a linear growth phase was observed for later stages of tumour evolution in experiments. By investigating the estimate for $V_{\\text{crit}}$ we will be able to assess this modelling choice directly."
   ]
  },
  {
   "cell_type": "markdown",
   "metadata": {},
   "source": [
    "## Visualisation of the structural model"
   ]
  },
  {
   "cell_type": "code",
   "execution_count": 33,
   "metadata": {},
   "outputs": [
    {
     "output_type": "display_data",
     "data": {
      "text/plain": "VBox(children=(HBox(children=(FloatSlider(value=0.1, description='Initial tumour volume in cm^3:', max=1.0, mi…",
      "application/vnd.jupyter.widget-view+json": {
       "version_major": 2,
       "version_minor": 0,
       "model_id": "01c5ba0f5f2a4ae2b03de78ead89bea3"
      }
     },
     "metadata": {}
    }
   ],
   "source": [
    "#\n",
    "# Create a visualisation of the structural model with parameter sliders.\n",
    "#\n",
    "\n",
    "from ipywidgets import widgets\n",
    "import pandas as pd\n",
    "import plotly.graph_objects as go\n",
    "\n",
    "import pkpd\n",
    "\n",
    "\n",
    "# Import data\n",
    "path = os.getcwd()\n",
    "data = pd.read_csv(path + '/data/lxf_control_growth.csv')\n",
    "\n",
    "# Define model\n",
    "path = pkpd.ModelLibrary().get_path('Tumour growth without treatment - Eigenmann et. al.')\n",
    "model = pkpd.PharmacodynamicModel(path, is_log_transformed=False)\n",
    "\n",
    "# Create figure widget\n",
    "fig = go.FigureWidget()\n",
    "\n",
    "# TODO: Generalise! Create mask for mouse\n",
    "id_m = 40\n",
    "mask = data['#ID'] == id_m\n",
    "\n",
    "# Get observed data for indiviudal\n",
    "observed_times = data['TIME in day'][mask].to_numpy()\n",
    "observed_data = data['TUMOUR VOLUME in cm^3'][mask]\n",
    "\n",
    "# Simulate data\n",
    "params = [0.1, 0.1, 0.1]\n",
    "start_experiment = data['TIME in day'].min()\n",
    "end_experiment = data['TIME in day'].max()\n",
    "simulated_times = np.linspace(\n",
    "    start=start_experiment, stop=end_experiment)\n",
    "simulated_data = model.simulate(params, simulated_times)\n",
    "\n",
    "# Add time series plot\n",
    "fig.add_trace(go.Scatter(\n",
    "    x=simulated_times,\n",
    "    y=simulated_data,\n",
    "    legendgroup=\"ID: %d\" % id_m,\n",
    "    name=\"ID: %d\" % id_m,\n",
    "    showlegend=False,\n",
    "    hovertemplate=(\n",
    "        \"<b>Simulation </b><br>\" +\n",
    "        \"ID: %d<br>\" % id_m +\n",
    "        \"Time: %{x:.0f} day<br>\" +\n",
    "        \"Tumour volume: %{y:.02f} cm^3<br>\" +\n",
    "        \"Cancer type: LXF A677<br>\" +\n",
    "        \"<br>\" +\n",
    "        \"<b>Parameter estimates </b><br>\" +\n",
    "        \"Initial tumour volume: %.02f cm^3<br>\" % params[0] +\n",
    "        \"Expon. growth rate: %.02f 1/day<br>\" % params[1] +\n",
    "        \"Lin. growth rate: %.02f cm^3/day<br>\" % params[2] +\n",
    "        \"<extra></extra>\"),\n",
    "    mode=\"lines\"\n",
    "))\n",
    "\n",
    "# Define sliders for model parameters\n",
    "initial_volume = widgets.FloatSlider(value=0.1, min=0.01, max=1.0, step=0.01,\n",
    "    description='Initial tumour volume in cm^3:', continuous_update=True)\n",
    "lambda_0 = widgets.FloatSlider(value=0.1, min=0.01, max=1.0, step=0.01,\n",
    "    description='Exponential growth in 1/day:', continuous_update=True)\n",
    "lambda_1 = widgets.FloatSlider(value=0.1, min=0.01, max=1.0, step=0.01,\n",
    "    description='Linear growth in cm^3/day:', continuous_update=True)\n",
    "\n",
    "# Define routine to update parameters\n",
    "def update_parameters(change):\n",
    "    parameters = [initial_volume.value, lambda_0.value, lambda_1.value]\n",
    "    start_experiment = data['TIME in day'].min()\n",
    "    end_experiment = data['TIME in day'].max()\n",
    "    simulated_times = np.linspace(\n",
    "        start=start_experiment, stop=end_experiment)\n",
    "    simulated_data = model.simulate(parameters, simulated_times)\n",
    "    with fig.batch_update():\n",
    "        fig.data[0].y = simulated_data\n",
    "\n",
    "# Connect update routine to sliders\n",
    "initial_volume.observe(update_parameters, names=\"value\")\n",
    "lambda_0.observe(update_parameters, names=\"value\")\n",
    "lambda_1.observe(update_parameters, names=\"value\")\n",
    "\n",
    "# Group sliders\n",
    "sliders = widgets.HBox([initial_volume, lambda_0, lambda_1])\n",
    "\n",
    "widgets.VBox([sliders, fig])"
   ]
  },
  {
   "cell_type": "markdown",
   "metadata": {},
   "source": [
    "## Bibliography\n",
    "\n",
    "- <a name=\"ref1\"> [1] </a> Eigenmann et. al., Combining Nonclinical Experiments with Translational PKPD Modeling to Differentiate Erlotinib and Gefitinib, Mol Cancer Ther (2016)\n",
    "- <a name=\"ref1\"> [2] </a> Koch et. al., Modeling of tumor growth and anticancer effects of combination therapy, Journal of Pharmacokinetics and Pharmacokinetics, (2009)\n",
    "- <a name=\"ref1\"> [3] </a> Hanahan & Weinberg, Hallmarks of Cancer, Cell, (2000)\n",
    "- <a name=\"ref1\"> [4] </a> Hanahan & Weinberg, Hallmarks of Cancer: The Next Generation, Cell, (2011)\n",
    "- <a name=\"ref1\"> [5] </a> Fouad & Aanei, Revisiting the hallmarks of cancer, American Journal of Cancer Research, (2017)"
   ]
  },
  {
   "cell_type": "markdown",
   "metadata": {},
   "source": [
    "[Back to project overview](https://github.com/DavAug/ErlotinibGefitinib/blob/master/README.md) | [Back to lung cancer control growth overview](https://nbviewer.jupyter.org/github/DavAug/ErlotinibGefitinib/blob/master/notebooks/lung_cancer/control_growth/overview.ipynb) | [Forward to next notebook](https://nbviewer.jupyter.org/github/DavAug/ErlotinibGefitinib/blob/master/notebooks/lung_cancer/control_growth/identifiability_structural_model.ipynb)"
   ]
  }
 ],
 "metadata": {
  "language_info": {
   "codemirror_mode": {
    "name": "ipython",
    "version": 3
   },
   "file_extension": ".py",
   "mimetype": "text/x-python",
   "name": "python",
   "nbconvert_exporter": "python",
   "pygments_lexer": "ipython3",
   "version": "3.7.5-final"
  },
  "orig_nbformat": 2,
  "kernelspec": {
   "name": "python37564bitvenvvenv6a1cf9e436c848d3930f390a42386651",
   "display_name": "Python 3.7.5 64-bit ('venv': venv)"
  }
 },
 "nbformat": 4,
 "nbformat_minor": 2
}