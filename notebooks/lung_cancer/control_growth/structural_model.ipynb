{
 "cells": [
  {
   "cell_type": "markdown",
   "metadata": {},
   "source": [
    "# Structural Lung Cancer Growth Model in Absence of Treatment\n",
    "\n",
    "The tumour growth inhibitory effects of Erlotinib and Gefitinib were modelled with a population PKPD model in [1]. A population PKPD model is a hierarchical model which consists of a structural model, a population model, and an error model. Each sub-model captures a different aspect of the tumour growth inhibition biology, and is parametrised by a set of parameters. \n",
    "\n",
    "In this notebook we introduce the structural model for the tumour growth in absence of treatment proposed in [1]. "
   ]
  },
  {
   "cell_type": "markdown",
   "metadata": {},
   "source": [
    "## Structural growth model in absence of treatment\n",
    "\n",
    "In a population PKPD model the structural model is a mechanistic or empirical description of the drug's pharmacokinetics (PK) and pharmacodynamics (PD). The PK part of the model describes how the drug is distributed in the body upon administration, which is often referred to as \"what the body does to the drug\". The PD part of the model captures the drug's effects on the progression of the disease, or \"what the drug does to the body\". 'Progression of the disease' may be quantified by any disease-related observable, such as biomarkers or in this case the tumour volume. A PD model does therefore not only need to capture the disease progression of an individual *under the influence* of a compound, but also needs to be able to describe its progresion in the *absence* of any treatment.\n",
    "\n",
    "In [1] a structural model is proposed for the tumour growth in absence of the compound, which assumes that the tumour grows exponentially for small tumour volumes, and linearly for large tumour volumes\n",
    "\n",
    "\\begin{equation*}\n",
    "    \\frac{\\text{d}V^s_T}{\\text{d}t} = \\frac{2\\lambda _0\\lambda _1 V^s_T}{2\\lambda _0 V^s_T + \\lambda _1}.\n",
    "\\end{equation*}\n",
    "\n",
    "Here, $V^s_T$ is the predicted tumour volume by the structural model, $\\lambda _0$ is the exponential growth rate, and $\\lambda _1$ is the linear growth rate. The tumour growth of an individual in absence of the drug is thus parameterised by three parameters\n",
    "\n",
    "\\begin{equation*}\n",
    "    \\psi = (V_0, \\lambda _0, \\lambda _1),\n",
    "\\end{equation*}\n",
    "\n",
    "where $V_0$ is the initial tumour volume, $V^s_T(t=0, \\psi) = V_0$.\n",
    "\n",
    "This model makes a number of assumptions and approximations to describe the tumour growth. The most obvious assumption of the model is a transition of the tumour growth from an exponential growth to a linear growth at a characteristic tumour volume\n",
    "\n",
    "\\begin{equation*}\n",
    "    V_{\\text{crit}} = \\frac{\\lambda _1}{2\\lambda _0}.\n",
    "\\end{equation*}\n",
    "\n",
    "For $V^s_T \\ll V_{\\text{crit}}$ the tumour is modelled by an exponential growth, while for $V^s_T \\gg V_{\\text{crit}}$ the tumour growth is linear. This tumour growth model was first introduced in [2], and builds on the intuition that in the early stages of the tumour an abundance of oxygen and nutrients leads to a constant doubling time of cancerous cells, and therefore to an exponential growth. However, in later stages of the tumour growth oxygen and other sources of nutrition are being depleted inside the tumour, and only the 'shell' tumour cells are able to proliferate at the inital rate. While there are ways for the tumour mass to expand in the inside too, by changing the mode of metabolism to glycolysis or rewiring of the blood vessels to improve the oxygen supply [3, 4], it is clear that the total growth rate of the tumour should be expected to slow down. Due to the complexity of the process it is not obvious that the growth should be expected to change qualitatively from exponential to linear. However, in [2] it was argued that a linear growth phase was observed for later stages of tumour evolution in experiments. By investigating the estimate for $V_{\\text{crit}}$ we will be able to assess this modelling choice directly."
   ]
  },
  {
   "cell_type": "markdown",
   "metadata": {},
   "source": [
    "## Bibliography\n",
    "\n",
    "- <a name=\"ref1\"> [1] </a> Eigenmann et. al., Combining Nonclinical Experiments with Translational PKPD Modeling to Differentiate Erlotinib and Gefitinib, Mol Cancer Ther (2016)\n",
    "- <a name=\"ref1\"> [2] </a> Koch et. al., Modeling of tumor growth and anticancer effects of combination therapy, Journal of Pharmacokinetics and Pharmacokinetics, (2009)\n",
    "- <a name=\"ref1\"> [3] </a> Hanahan & Weinberg, Hallmarks of Cancer, Cell, (2000)\n",
    "- <a name=\"ref1\"> [4] </a> Hanahan & Weinberg, Hallmarks of Cancer: The Next Generation, Cell, (2011)"
   ]
  },
  {
   "cell_type": "markdown",
   "metadata": {},
   "source": [
    "[Back to project overview](https://github.com/DavAug/ErlotinibGefitinib/blob/master/README.md) | [Back to lung cancer control growth overview](https://nbviewer.jupyter.org/github/DavAug/ErlotinibGefitinib/blob/master/notebooks/lung_cancer/control_growth/overview.ipynb) | [Forward to next notebook](https://nbviewer.jupyter.org/github/DavAug/ErlotinibGefitinib/blob/master/notebooks/lung_cancer/control_growth/identifiability_structural_model.ipynb)"
   ]
  }
 ],
 "metadata": {
  "language_info": {
   "codemirror_mode": {
    "name": "ipython",
    "version": 3
   },
   "file_extension": ".py",
   "mimetype": "text/x-python",
   "name": "python",
   "nbconvert_exporter": "python",
   "pygments_lexer": "ipython3",
   "version": 3
  },
  "orig_nbformat": 2
 },
 "nbformat": 4,
 "nbformat_minor": 2
}