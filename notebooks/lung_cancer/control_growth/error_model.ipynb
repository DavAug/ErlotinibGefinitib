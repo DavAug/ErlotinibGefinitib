{
 "cells": [
  {
   "cell_type": "markdown",
   "metadata": {},
   "source": [
    "# Error Modelling of Structural Growth Model for Lung Cancer in Absence of Treatment"
   ]
  },
  {
   "cell_type": "markdown",
   "metadata": {},
   "source": [
    "The tumour growth inhibitory effects of Erlotinib and Gefitinib were modelled with a population PKPD model in [1]. A population PKPD model is a hierarchical model which consists of a structural model, a population model, and an error model. Each sub-model captures a different aspect of the tumour growth inhibition biology, and is parametrised by a set of parameters.\n",
    "\n",
    "In this notebook we model the error of the structural lung cancer growth model in absence of treatment. We investigate the influence of the different noise model choices on the idenfifiability of the model, and employ visual, as well quantitative predictive checks to select the most promising error model. "
   ]
  },
  {
   "cell_type": "markdown",
   "metadata": {},
   "source": [
    "## Measured Tumour Growth in Absence of Treatment\n",
    "\n",
    "In [1] patient-derived tumour explants LXF A677 (adenocarcinoma of the lung) were implanted in mice. The tumour growth was monitored over a period of 30 days, see the [Control Growth Data notebook](https://nbviewer.jupyter.org/github/DavAug/ErlotinibGefitinib/blob/master/notebooks/lung_cancer/control_growth/data_preparation.ipynb) for details."
   ]
  },
  {
   "cell_type": "code",
   "execution_count": 1,
   "metadata": {},
   "outputs": [
    {
     "output_type": "display_data",
     "data": {
      "application/vnd.plotly.v1+json": {
       "config": {
        "plotlyServerURL": "https://plot.ly"
       },
       "data": [
        {
         "hovertemplate": "<b>ID: 40</b><br>Time: %{x:} day<br>Tumour volume: %{y:.02f} cm^3<br>Body weight: %{text}<br>Cancer type: Lung cancer (LXF A677)<br><extra></extra>",
         "marker": {
          "color": "#636EFA",
          "line": {
           "color": "black",
           "width": 1
          },
          "opacity": 0.7,
          "symbol": "circle"
         },
         "mode": "markers",
         "name": "ID: 40",
         "showlegend": true,
         "text": [
          "26.8 g",
          "26.1 g",
          "26.5 g",
          "26.5 g",
          "27.1 g",
          "26.0 g",
          "26.4 g",
          "26.0 g",
          "25.4 g",
          "26.2 g"
         ],
         "type": "scatter",
         "x": [
          0,
          2,
          4,
          7,
          9,
          11,
          14,
          16,
          18,
          21
         ],
         "y": [
          0.191808,
          0.249158,
          0.330672,
          0.6683669999999999,
          0.915008,
          1.119258,
          1.470432,
          1.6692479999999998,
          1.7521919999999997,
          2.276736
         ]
        },
        {
         "hovertemplate": "<b>ID: 40</b><br>Time: %{x:} day<br>Tumour volume: %{y:.02f} cm^3<br>Body weight: %{text}<br>Cancer type: Lung cancer (LXF A677)<br><extra></extra>",
         "marker": {
          "color": "#636EFA",
          "line": {
           "color": "black",
           "width": 1
          },
          "opacity": 0.7,
          "symbol": "circle"
         },
         "mode": "markers",
         "name": "ID: 40",
         "showlegend": true,
         "text": [
          "26.8 g",
          "26.1 g",
          "26.5 g",
          "26.5 g",
          "27.1 g",
          "26.0 g",
          "26.4 g",
          "26.0 g",
          "25.4 g",
          "26.2 g"
         ],
         "type": "scatter",
         "visible": false,
         "x": [
          0,
          2,
          4,
          7,
          9,
          11,
          14,
          16,
          18,
          21
         ],
         "y": [
          26.8,
          26.1,
          26.5,
          26.5,
          27.1,
          26,
          26.4,
          26,
          25.4,
          26.2
         ]
        },
        {
         "hovertemplate": "<b>ID: 94</b><br>Time: %{x:} day<br>Tumour volume: %{y:.02f} cm^3<br>Body weight: %{text}<br>Cancer type: Lung cancer (LXF A677)<br><extra></extra>",
         "marker": {
          "color": "#EF553B",
          "line": {
           "color": "black",
           "width": 1
          },
          "opacity": 0.7,
          "symbol": "circle"
         },
         "mode": "markers",
         "name": "ID: 94",
         "showlegend": true,
         "text": [
          "18.3 g",
          "18.2 g",
          "18.5 g",
          "18.3 g",
          "18.7 g",
          "17.9 g",
          "18.4 g",
          "18.2 g",
          "18.7 g",
          "20.0 g",
          "20.2 g",
          "20.3 g",
          "20.0 g",
          "19.2 g"
         ],
         "type": "scatter",
         "x": [
          0,
          2,
          4,
          7,
          9,
          11,
          14,
          16,
          18,
          21,
          23,
          25,
          28,
          30
         ],
         "y": [
          0.07724750000000001,
          0.0884835,
          0.125316,
          0.165528,
          0.189486,
          0.264654,
          0.264654,
          0.306936,
          0.389207,
          0.389207,
          0.405769,
          0.4264715,
          0.5551309999999999,
          0.57624
         ]
        },
        {
         "hovertemplate": "<b>ID: 94</b><br>Time: %{x:} day<br>Tumour volume: %{y:.02f} cm^3<br>Body weight: %{text}<br>Cancer type: Lung cancer (LXF A677)<br><extra></extra>",
         "marker": {
          "color": "#EF553B",
          "line": {
           "color": "black",
           "width": 1
          },
          "opacity": 0.7,
          "symbol": "circle"
         },
         "mode": "markers",
         "name": "ID: 94",
         "showlegend": true,
         "text": [
          "18.3 g",
          "18.2 g",
          "18.5 g",
          "18.3 g",
          "18.7 g",
          "17.9 g",
          "18.4 g",
          "18.2 g",
          "18.7 g",
          "20.0 g",
          "20.2 g",
          "20.3 g",
          "20.0 g",
          "19.2 g"
         ],
         "type": "scatter",
         "visible": false,
         "x": [
          0,
          2,
          4,
          7,
          9,
          11,
          14,
          16,
          18,
          21,
          23,
          25,
          28,
          30
         ],
         "y": [
          18.3,
          18.2,
          18.5,
          18.3,
          18.7,
          17.9,
          18.4,
          18.2,
          18.7,
          20,
          20.2,
          20.3,
          20,
          19.2
         ]
        },
        {
         "hovertemplate": "<b>ID: 95</b><br>Time: %{x:} day<br>Tumour volume: %{y:.02f} cm^3<br>Body weight: %{text}<br>Cancer type: Lung cancer (LXF A677)<br><extra></extra>",
         "marker": {
          "color": "#00CC96",
          "line": {
           "color": "black",
           "width": 1
          },
          "opacity": 0.7,
          "symbol": "circle"
         },
         "mode": "markers",
         "name": "ID: 95",
         "showlegend": true,
         "text": [
          "22.3 g",
          "23.0 g",
          "22.4 g",
          "23.6 g",
          "24.1 g",
          "22.7 g",
          "23.6 g",
          "23.3 g",
          "23.3 g",
          "23.3 g"
         ],
         "type": "scatter",
         "x": [
          0,
          2,
          4,
          7,
          9,
          11,
          14,
          16,
          18,
          21
         ],
         "y": [
          0.1862,
          0.24641999999999997,
          0.4293,
          0.62426,
          0.7246720000000001,
          0.7300800000000001,
          0.9196,
          1.131184,
          1.675872,
          2.346616
         ]
        },
        {
         "hovertemplate": "<b>ID: 95</b><br>Time: %{x:} day<br>Tumour volume: %{y:.02f} cm^3<br>Body weight: %{text}<br>Cancer type: Lung cancer (LXF A677)<br><extra></extra>",
         "marker": {
          "color": "#00CC96",
          "line": {
           "color": "black",
           "width": 1
          },
          "opacity": 0.7,
          "symbol": "circle"
         },
         "mode": "markers",
         "name": "ID: 95",
         "showlegend": true,
         "text": [
          "22.3 g",
          "23.0 g",
          "22.4 g",
          "23.6 g",
          "24.1 g",
          "22.7 g",
          "23.6 g",
          "23.3 g",
          "23.3 g",
          "23.3 g"
         ],
         "type": "scatter",
         "visible": false,
         "x": [
          0,
          2,
          4,
          7,
          9,
          11,
          14,
          16,
          18,
          21
         ],
         "y": [
          22.3,
          23,
          22.4,
          23.6,
          24.1,
          22.7,
          23.6,
          23.3,
          23.3,
          23.3
         ]
        },
        {
         "hovertemplate": "<b>ID: 136</b><br>Time: %{x:} day<br>Tumour volume: %{y:.02f} cm^3<br>Body weight: %{text}<br>Cancer type: Lung cancer (LXF A677)<br><extra></extra>",
         "marker": {
          "color": "#AB63FA",
          "line": {
           "color": "black",
           "width": 1
          },
          "opacity": 0.7,
          "symbol": "circle"
         },
         "mode": "markers",
         "name": "ID: 136",
         "showlegend": true,
         "text": [
          "25.4 g",
          "26.2 g",
          "28.3 g",
          "28.0 g",
          "25.1 g",
          "22.9 g",
          "24.1 g",
          "23.9 g",
          "23.0 g",
          "24.0 g",
          "23.7 g",
          "24.7 g",
          "24.6 g",
          "24.2 g"
         ],
         "type": "scatter",
         "x": [
          0,
          2,
          4,
          7,
          9,
          11,
          14,
          16,
          18,
          21,
          23,
          25,
          28,
          30
         ],
         "y": [
          0.1185885,
          0.175071,
          0.22999200000000006,
          0.3026885,
          0.3026885,
          0.37044,
          0.5341545,
          0.651688,
          0.7212869999999999,
          0.78732,
          0.8529505000000001,
          1.104558,
          1.1328799999999999,
          1.4593425
         ]
        },
        {
         "hovertemplate": "<b>ID: 136</b><br>Time: %{x:} day<br>Tumour volume: %{y:.02f} cm^3<br>Body weight: %{text}<br>Cancer type: Lung cancer (LXF A677)<br><extra></extra>",
         "marker": {
          "color": "#AB63FA",
          "line": {
           "color": "black",
           "width": 1
          },
          "opacity": 0.7,
          "symbol": "circle"
         },
         "mode": "markers",
         "name": "ID: 136",
         "showlegend": true,
         "text": [
          "25.4 g",
          "26.2 g",
          "28.3 g",
          "28.0 g",
          "25.1 g",
          "22.9 g",
          "24.1 g",
          "23.9 g",
          "23.0 g",
          "24.0 g",
          "23.7 g",
          "24.7 g",
          "24.6 g",
          "24.2 g"
         ],
         "type": "scatter",
         "visible": false,
         "x": [
          0,
          2,
          4,
          7,
          9,
          11,
          14,
          16,
          18,
          21,
          23,
          25,
          28,
          30
         ],
         "y": [
          25.4,
          26.2,
          28.3,
          28,
          25.1,
          22.9,
          24.1,
          23.9,
          23,
          24,
          23.7,
          24.7,
          24.6,
          24.2
         ]
        },
        {
         "hovertemplate": "<b>ID: 140</b><br>Time: %{x:} day<br>Tumour volume: %{y:.02f} cm^3<br>Body weight: %{text}<br>Cancer type: Lung cancer (LXF A677)<br><extra></extra>",
         "marker": {
          "color": "#FFA15A",
          "line": {
           "color": "black",
           "width": 1
          },
          "opacity": 0.7,
          "symbol": "circle"
         },
         "mode": "markers",
         "name": "ID: 140",
         "showlegend": true,
         "text": [
          "22.7 g",
          "23.6 g",
          "23.6 g",
          "24.4 g",
          "25.0 g",
          "23.5 g",
          "24.8 g",
          "24.3 g",
          "23.8 g",
          "23.3 g",
          "23.7 g",
          "24.8 g",
          "24.7 g",
          "24.1 g"
         ],
         "type": "scatter",
         "x": [
          0,
          2,
          4,
          7,
          9,
          11,
          14,
          16,
          18,
          21,
          23,
          25,
          28,
          30
         ],
         "y": [
          0.0793305,
          0.12685200000000002,
          0.146072,
          0.261121,
          0.34574400000000005,
          0.3552,
          0.41905,
          0.48029799999999995,
          0.556668,
          0.8089919999999999,
          0.8573040000000001,
          1.097675,
          1.992144,
          2.1225820000000004
         ]
        },
        {
         "hovertemplate": "<b>ID: 140</b><br>Time: %{x:} day<br>Tumour volume: %{y:.02f} cm^3<br>Body weight: %{text}<br>Cancer type: Lung cancer (LXF A677)<br><extra></extra>",
         "marker": {
          "color": "#FFA15A",
          "line": {
           "color": "black",
           "width": 1
          },
          "opacity": 0.7,
          "symbol": "circle"
         },
         "mode": "markers",
         "name": "ID: 140",
         "showlegend": true,
         "text": [
          "22.7 g",
          "23.6 g",
          "23.6 g",
          "24.4 g",
          "25.0 g",
          "23.5 g",
          "24.8 g",
          "24.3 g",
          "23.8 g",
          "23.3 g",
          "23.7 g",
          "24.8 g",
          "24.7 g",
          "24.1 g"
         ],
         "type": "scatter",
         "visible": false,
         "x": [
          0,
          2,
          4,
          7,
          9,
          11,
          14,
          16,
          18,
          21,
          23,
          25,
          28,
          30
         ],
         "y": [
          22.7,
          23.6,
          23.6,
          24.4,
          25,
          23.5,
          24.8,
          24.3,
          23.8,
          23.3,
          23.7,
          24.8,
          24.7,
          24.1
         ]
        },
        {
         "hovertemplate": "<b>ID: 155</b><br>Time: %{x:} day<br>Tumour volume: %{y:.02f} cm^3<br>Body weight: %{text}<br>Cancer type: Lung cancer (LXF A677)<br><extra></extra>",
         "marker": {
          "color": "#19D3F3",
          "line": {
           "color": "black",
           "width": 1
          },
          "opacity": 0.7,
          "symbol": "circle"
         },
         "mode": "markers",
         "name": "ID: 155",
         "showlegend": true,
         "text": [
          "26.0 g",
          "27.3 g",
          "27.5 g",
          "28.2 g",
          "28.7 g",
          "27.9 g",
          "28.6 g",
          "29.0 g",
          "28.0 g",
          "28.9 g",
          "28.5 g",
          "29.6 g"
         ],
         "type": "scatter",
         "x": [
          0,
          2,
          4,
          7,
          9,
          11,
          14,
          16,
          18,
          21,
          23,
          25
         ],
         "y": [
          0.105875,
          0.167706,
          0.35632800000000003,
          0.6489600000000001,
          0.692224,
          0.7300800000000001,
          0.81648,
          1.4949540000000001,
          1.5166985,
          1.72405,
          1.637784,
          2.25108
         ]
        },
        {
         "hovertemplate": "<b>ID: 155</b><br>Time: %{x:} day<br>Tumour volume: %{y:.02f} cm^3<br>Body weight: %{text}<br>Cancer type: Lung cancer (LXF A677)<br><extra></extra>",
         "marker": {
          "color": "#19D3F3",
          "line": {
           "color": "black",
           "width": 1
          },
          "opacity": 0.7,
          "symbol": "circle"
         },
         "mode": "markers",
         "name": "ID: 155",
         "showlegend": true,
         "text": [
          "26.0 g",
          "27.3 g",
          "27.5 g",
          "28.2 g",
          "28.7 g",
          "27.9 g",
          "28.6 g",
          "29.0 g",
          "28.0 g",
          "28.9 g",
          "28.5 g",
          "29.6 g"
         ],
         "type": "scatter",
         "visible": false,
         "x": [
          0,
          2,
          4,
          7,
          9,
          11,
          14,
          16,
          18,
          21,
          23,
          25
         ],
         "y": [
          26,
          27.3,
          27.5,
          28.2,
          28.7,
          27.9,
          28.6,
          29,
          28,
          28.9,
          28.5,
          29.6
         ]
        },
        {
         "hovertemplate": "<b>ID: 169</b><br>Time: %{x:} day<br>Tumour volume: %{y:.02f} cm^3<br>Body weight: %{text}<br>Cancer type: Lung cancer (LXF A677)<br><extra></extra>",
         "marker": {
          "color": "#FF6692",
          "line": {
           "color": "black",
           "width": 1
          },
          "opacity": 0.7,
          "symbol": "circle"
         },
         "mode": "markers",
         "name": "ID: 169",
         "showlegend": true,
         "text": [
          "26.9 g",
          "26.8 g",
          "26.2 g",
          "26.2 g",
          "27.3 g",
          "26.6 g",
          "28.0 g",
          "27.6 g",
          "26.6 g",
          "27.9 g",
          "27.4 g",
          "28.6 g",
          "27.5 g",
          "28.0 g"
         ],
         "type": "scatter",
         "x": [
          0,
          2,
          4,
          7,
          9,
          11,
          14,
          16,
          18,
          21,
          23,
          25,
          28,
          30
         ],
         "y": [
          0.123008,
          0.128774,
          0.1764,
          0.20516650000000006,
          0.24605349999999998,
          0.2788425,
          0.333036,
          0.35644499999999996,
          0.39285,
          0.479859,
          0.5390550000000001,
          0.6354195,
          0.7146180000000001,
          0.7469865
         ]
        },
        {
         "hovertemplate": "<b>ID: 169</b><br>Time: %{x:} day<br>Tumour volume: %{y:.02f} cm^3<br>Body weight: %{text}<br>Cancer type: Lung cancer (LXF A677)<br><extra></extra>",
         "marker": {
          "color": "#FF6692",
          "line": {
           "color": "black",
           "width": 1
          },
          "opacity": 0.7,
          "symbol": "circle"
         },
         "mode": "markers",
         "name": "ID: 169",
         "showlegend": true,
         "text": [
          "26.9 g",
          "26.8 g",
          "26.2 g",
          "26.2 g",
          "27.3 g",
          "26.6 g",
          "28.0 g",
          "27.6 g",
          "26.6 g",
          "27.9 g",
          "27.4 g",
          "28.6 g",
          "27.5 g",
          "28.0 g"
         ],
         "type": "scatter",
         "visible": false,
         "x": [
          0,
          2,
          4,
          7,
          9,
          11,
          14,
          16,
          18,
          21,
          23,
          25,
          28,
          30
         ],
         "y": [
          26.9,
          26.8,
          26.2,
          26.2,
          27.3,
          26.6,
          28,
          27.6,
          26.6,
          27.9,
          27.4,
          28.6,
          27.5,
          28
         ]
        },
        {
         "hovertemplate": "<b>ID: 170</b><br>Time: %{x:} day<br>Tumour volume: %{y:.02f} cm^3<br>Body weight: %{text}<br>Cancer type: Lung cancer (LXF A677)<br><extra></extra>",
         "marker": {
          "color": "#B6E880",
          "line": {
           "color": "black",
           "width": 1
          },
          "opacity": 0.7,
          "symbol": "circle"
         },
         "mode": "markers",
         "name": "ID: 170",
         "showlegend": true,
         "text": [
          "28.3 g",
          "27.7 g",
          "27.9 g",
          "28.8 g",
          "29.3 g",
          "28.6 g",
          "29.5 g",
          "28.9 g",
          "26.8 g",
          "28.7 g",
          "27.3 g",
          "28.7 g",
          "28.5 g",
          "27.5 g"
         ],
         "type": "scatter",
         "x": [
          0,
          2,
          4,
          7,
          9,
          11,
          14,
          16,
          18,
          21,
          23,
          25,
          28,
          30
         ],
         "y": [
          0.0800565,
          0.094221,
          0.10933,
          0.158994,
          0.17615699999999998,
          0.19407850000000001,
          0.2041605,
          0.246402,
          0.3050865,
          0.3683265,
          0.41817600000000005,
          0.4396155,
          0.5661554999999999,
          0.6206265000000001
         ]
        },
        {
         "hovertemplate": "<b>ID: 170</b><br>Time: %{x:} day<br>Tumour volume: %{y:.02f} cm^3<br>Body weight: %{text}<br>Cancer type: Lung cancer (LXF A677)<br><extra></extra>",
         "marker": {
          "color": "#B6E880",
          "line": {
           "color": "black",
           "width": 1
          },
          "opacity": 0.7,
          "symbol": "circle"
         },
         "mode": "markers",
         "name": "ID: 170",
         "showlegend": true,
         "text": [
          "28.3 g",
          "27.7 g",
          "27.9 g",
          "28.8 g",
          "29.3 g",
          "28.6 g",
          "29.5 g",
          "28.9 g",
          "26.8 g",
          "28.7 g",
          "27.3 g",
          "28.7 g",
          "28.5 g",
          "27.5 g"
         ],
         "type": "scatter",
         "visible": false,
         "x": [
          0,
          2,
          4,
          7,
          9,
          11,
          14,
          16,
          18,
          21,
          23,
          25,
          28,
          30
         ],
         "y": [
          28.3,
          27.7,
          27.9,
          28.8,
          29.3,
          28.6,
          29.5,
          28.9,
          26.8,
          28.7,
          27.3,
          28.7,
          28.5,
          27.5
         ]
        }
       ],
       "layout": {
        "autosize": true,
        "legend": {
         "x": 1.05,
         "xanchor": "left",
         "y": 0.01,
         "yanchor": "bottom"
        },
        "template": {
         "data": {
          "bar": [
           {
            "error_x": {
             "color": "#2a3f5f"
            },
            "error_y": {
             "color": "#2a3f5f"
            },
            "marker": {
             "line": {
              "color": "white",
              "width": 0.5
             }
            },
            "type": "bar"
           }
          ],
          "barpolar": [
           {
            "marker": {
             "line": {
              "color": "white",
              "width": 0.5
             }
            },
            "type": "barpolar"
           }
          ],
          "carpet": [
           {
            "aaxis": {
             "endlinecolor": "#2a3f5f",
             "gridcolor": "#C8D4E3",
             "linecolor": "#C8D4E3",
             "minorgridcolor": "#C8D4E3",
             "startlinecolor": "#2a3f5f"
            },
            "baxis": {
             "endlinecolor": "#2a3f5f",
             "gridcolor": "#C8D4E3",
             "linecolor": "#C8D4E3",
             "minorgridcolor": "#C8D4E3",
             "startlinecolor": "#2a3f5f"
            },
            "type": "carpet"
           }
          ],
          "choropleth": [
           {
            "colorbar": {
             "outlinewidth": 0,
             "ticks": ""
            },
            "type": "choropleth"
           }
          ],
          "contour": [
           {
            "colorbar": {
             "outlinewidth": 0,
             "ticks": ""
            },
            "colorscale": [
             [
              0,
              "#0d0887"
             ],
             [
              0.1111111111111111,
              "#46039f"
             ],
             [
              0.2222222222222222,
              "#7201a8"
             ],
             [
              0.3333333333333333,
              "#9c179e"
             ],
             [
              0.4444444444444444,
              "#bd3786"
             ],
             [
              0.5555555555555556,
              "#d8576b"
             ],
             [
              0.6666666666666666,
              "#ed7953"
             ],
             [
              0.7777777777777778,
              "#fb9f3a"
             ],
             [
              0.8888888888888888,
              "#fdca26"
             ],
             [
              1,
              "#f0f921"
             ]
            ],
            "type": "contour"
           }
          ],
          "contourcarpet": [
           {
            "colorbar": {
             "outlinewidth": 0,
             "ticks": ""
            },
            "type": "contourcarpet"
           }
          ],
          "heatmap": [
           {
            "colorbar": {
             "outlinewidth": 0,
             "ticks": ""
            },
            "colorscale": [
             [
              0,
              "#0d0887"
             ],
             [
              0.1111111111111111,
              "#46039f"
             ],
             [
              0.2222222222222222,
              "#7201a8"
             ],
             [
              0.3333333333333333,
              "#9c179e"
             ],
             [
              0.4444444444444444,
              "#bd3786"
             ],
             [
              0.5555555555555556,
              "#d8576b"
             ],
             [
              0.6666666666666666,
              "#ed7953"
             ],
             [
              0.7777777777777778,
              "#fb9f3a"
             ],
             [
              0.8888888888888888,
              "#fdca26"
             ],
             [
              1,
              "#f0f921"
             ]
            ],
            "type": "heatmap"
           }
          ],
          "heatmapgl": [
           {
            "colorbar": {
             "outlinewidth": 0,
             "ticks": ""
            },
            "colorscale": [
             [
              0,
              "#0d0887"
             ],
             [
              0.1111111111111111,
              "#46039f"
             ],
             [
              0.2222222222222222,
              "#7201a8"
             ],
             [
              0.3333333333333333,
              "#9c179e"
             ],
             [
              0.4444444444444444,
              "#bd3786"
             ],
             [
              0.5555555555555556,
              "#d8576b"
             ],
             [
              0.6666666666666666,
              "#ed7953"
             ],
             [
              0.7777777777777778,
              "#fb9f3a"
             ],
             [
              0.8888888888888888,
              "#fdca26"
             ],
             [
              1,
              "#f0f921"
             ]
            ],
            "type": "heatmapgl"
           }
          ],
          "histogram": [
           {
            "marker": {
             "colorbar": {
              "outlinewidth": 0,
              "ticks": ""
             }
            },
            "type": "histogram"
           }
          ],
          "histogram2d": [
           {
            "colorbar": {
             "outlinewidth": 0,
             "ticks": ""
            },
            "colorscale": [
             [
              0,
              "#0d0887"
             ],
             [
              0.1111111111111111,
              "#46039f"
             ],
             [
              0.2222222222222222,
              "#7201a8"
             ],
             [
              0.3333333333333333,
              "#9c179e"
             ],
             [
              0.4444444444444444,
              "#bd3786"
             ],
             [
              0.5555555555555556,
              "#d8576b"
             ],
             [
              0.6666666666666666,
              "#ed7953"
             ],
             [
              0.7777777777777778,
              "#fb9f3a"
             ],
             [
              0.8888888888888888,
              "#fdca26"
             ],
             [
              1,
              "#f0f921"
             ]
            ],
            "type": "histogram2d"
           }
          ],
          "histogram2dcontour": [
           {
            "colorbar": {
             "outlinewidth": 0,
             "ticks": ""
            },
            "colorscale": [
             [
              0,
              "#0d0887"
             ],
             [
              0.1111111111111111,
              "#46039f"
             ],
             [
              0.2222222222222222,
              "#7201a8"
             ],
             [
              0.3333333333333333,
              "#9c179e"
             ],
             [
              0.4444444444444444,
              "#bd3786"
             ],
             [
              0.5555555555555556,
              "#d8576b"
             ],
             [
              0.6666666666666666,
              "#ed7953"
             ],
             [
              0.7777777777777778,
              "#fb9f3a"
             ],
             [
              0.8888888888888888,
              "#fdca26"
             ],
             [
              1,
              "#f0f921"
             ]
            ],
            "type": "histogram2dcontour"
           }
          ],
          "mesh3d": [
           {
            "colorbar": {
             "outlinewidth": 0,
             "ticks": ""
            },
            "type": "mesh3d"
           }
          ],
          "parcoords": [
           {
            "line": {
             "colorbar": {
              "outlinewidth": 0,
              "ticks": ""
             }
            },
            "type": "parcoords"
           }
          ],
          "pie": [
           {
            "automargin": true,
            "type": "pie"
           }
          ],
          "scatter": [
           {
            "marker": {
             "colorbar": {
              "outlinewidth": 0,
              "ticks": ""
             }
            },
            "type": "scatter"
           }
          ],
          "scatter3d": [
           {
            "line": {
             "colorbar": {
              "outlinewidth": 0,
              "ticks": ""
             }
            },
            "marker": {
             "colorbar": {
              "outlinewidth": 0,
              "ticks": ""
             }
            },
            "type": "scatter3d"
           }
          ],
          "scattercarpet": [
           {
            "marker": {
             "colorbar": {
              "outlinewidth": 0,
              "ticks": ""
             }
            },
            "type": "scattercarpet"
           }
          ],
          "scattergeo": [
           {
            "marker": {
             "colorbar": {
              "outlinewidth": 0,
              "ticks": ""
             }
            },
            "type": "scattergeo"
           }
          ],
          "scattergl": [
           {
            "marker": {
             "colorbar": {
              "outlinewidth": 0,
              "ticks": ""
             }
            },
            "type": "scattergl"
           }
          ],
          "scattermapbox": [
           {
            "marker": {
             "colorbar": {
              "outlinewidth": 0,
              "ticks": ""
             }
            },
            "type": "scattermapbox"
           }
          ],
          "scatterpolar": [
           {
            "marker": {
             "colorbar": {
              "outlinewidth": 0,
              "ticks": ""
             }
            },
            "type": "scatterpolar"
           }
          ],
          "scatterpolargl": [
           {
            "marker": {
             "colorbar": {
              "outlinewidth": 0,
              "ticks": ""
             }
            },
            "type": "scatterpolargl"
           }
          ],
          "scatterternary": [
           {
            "marker": {
             "colorbar": {
              "outlinewidth": 0,
              "ticks": ""
             }
            },
            "type": "scatterternary"
           }
          ],
          "surface": [
           {
            "colorbar": {
             "outlinewidth": 0,
             "ticks": ""
            },
            "colorscale": [
             [
              0,
              "#0d0887"
             ],
             [
              0.1111111111111111,
              "#46039f"
             ],
             [
              0.2222222222222222,
              "#7201a8"
             ],
             [
              0.3333333333333333,
              "#9c179e"
             ],
             [
              0.4444444444444444,
              "#bd3786"
             ],
             [
              0.5555555555555556,
              "#d8576b"
             ],
             [
              0.6666666666666666,
              "#ed7953"
             ],
             [
              0.7777777777777778,
              "#fb9f3a"
             ],
             [
              0.8888888888888888,
              "#fdca26"
             ],
             [
              1,
              "#f0f921"
             ]
            ],
            "type": "surface"
           }
          ],
          "table": [
           {
            "cells": {
             "fill": {
              "color": "#EBF0F8"
             },
             "line": {
              "color": "white"
             }
            },
            "header": {
             "fill": {
              "color": "#C8D4E3"
             },
             "line": {
              "color": "white"
             }
            },
            "type": "table"
           }
          ]
         },
         "layout": {
          "annotationdefaults": {
           "arrowcolor": "#2a3f5f",
           "arrowhead": 0,
           "arrowwidth": 1
          },
          "coloraxis": {
           "colorbar": {
            "outlinewidth": 0,
            "ticks": ""
           }
          },
          "colorscale": {
           "diverging": [
            [
             0,
             "#8e0152"
            ],
            [
             0.1,
             "#c51b7d"
            ],
            [
             0.2,
             "#de77ae"
            ],
            [
             0.3,
             "#f1b6da"
            ],
            [
             0.4,
             "#fde0ef"
            ],
            [
             0.5,
             "#f7f7f7"
            ],
            [
             0.6,
             "#e6f5d0"
            ],
            [
             0.7,
             "#b8e186"
            ],
            [
             0.8,
             "#7fbc41"
            ],
            [
             0.9,
             "#4d9221"
            ],
            [
             1,
             "#276419"
            ]
           ],
           "sequential": [
            [
             0,
             "#0d0887"
            ],
            [
             0.1111111111111111,
             "#46039f"
            ],
            [
             0.2222222222222222,
             "#7201a8"
            ],
            [
             0.3333333333333333,
             "#9c179e"
            ],
            [
             0.4444444444444444,
             "#bd3786"
            ],
            [
             0.5555555555555556,
             "#d8576b"
            ],
            [
             0.6666666666666666,
             "#ed7953"
            ],
            [
             0.7777777777777778,
             "#fb9f3a"
            ],
            [
             0.8888888888888888,
             "#fdca26"
            ],
            [
             1,
             "#f0f921"
            ]
           ],
           "sequentialminus": [
            [
             0,
             "#0d0887"
            ],
            [
             0.1111111111111111,
             "#46039f"
            ],
            [
             0.2222222222222222,
             "#7201a8"
            ],
            [
             0.3333333333333333,
             "#9c179e"
            ],
            [
             0.4444444444444444,
             "#bd3786"
            ],
            [
             0.5555555555555556,
             "#d8576b"
            ],
            [
             0.6666666666666666,
             "#ed7953"
            ],
            [
             0.7777777777777778,
             "#fb9f3a"
            ],
            [
             0.8888888888888888,
             "#fdca26"
            ],
            [
             1,
             "#f0f921"
            ]
           ]
          },
          "colorway": [
           "#636efa",
           "#EF553B",
           "#00cc96",
           "#ab63fa",
           "#FFA15A",
           "#19d3f3",
           "#FF6692",
           "#B6E880",
           "#FF97FF",
           "#FECB52"
          ],
          "font": {
           "color": "#2a3f5f"
          },
          "geo": {
           "bgcolor": "white",
           "lakecolor": "white",
           "landcolor": "white",
           "showlakes": true,
           "showland": true,
           "subunitcolor": "#C8D4E3"
          },
          "hoverlabel": {
           "align": "left"
          },
          "hovermode": "closest",
          "mapbox": {
           "style": "light"
          },
          "paper_bgcolor": "white",
          "plot_bgcolor": "white",
          "polar": {
           "angularaxis": {
            "gridcolor": "#EBF0F8",
            "linecolor": "#EBF0F8",
            "ticks": ""
           },
           "bgcolor": "white",
           "radialaxis": {
            "gridcolor": "#EBF0F8",
            "linecolor": "#EBF0F8",
            "ticks": ""
           }
          },
          "scene": {
           "xaxis": {
            "backgroundcolor": "white",
            "gridcolor": "#DFE8F3",
            "gridwidth": 2,
            "linecolor": "#EBF0F8",
            "showbackground": true,
            "ticks": "",
            "zerolinecolor": "#EBF0F8"
           },
           "yaxis": {
            "backgroundcolor": "white",
            "gridcolor": "#DFE8F3",
            "gridwidth": 2,
            "linecolor": "#EBF0F8",
            "showbackground": true,
            "ticks": "",
            "zerolinecolor": "#EBF0F8"
           },
           "zaxis": {
            "backgroundcolor": "white",
            "gridcolor": "#DFE8F3",
            "gridwidth": 2,
            "linecolor": "#EBF0F8",
            "showbackground": true,
            "ticks": "",
            "zerolinecolor": "#EBF0F8"
           }
          },
          "shapedefaults": {
           "line": {
            "color": "#2a3f5f"
           }
          },
          "ternary": {
           "aaxis": {
            "gridcolor": "#DFE8F3",
            "linecolor": "#A2B1C6",
            "ticks": ""
           },
           "baxis": {
            "gridcolor": "#DFE8F3",
            "linecolor": "#A2B1C6",
            "ticks": ""
           },
           "bgcolor": "white",
           "caxis": {
            "gridcolor": "#DFE8F3",
            "linecolor": "#A2B1C6",
            "ticks": ""
           }
          },
          "title": {
           "x": 0.05
          },
          "xaxis": {
           "automargin": true,
           "gridcolor": "#EBF0F8",
           "linecolor": "#EBF0F8",
           "ticks": "",
           "title": {
            "standoff": 15
           },
           "zerolinecolor": "#EBF0F8",
           "zerolinewidth": 2
          },
          "yaxis": {
           "automargin": true,
           "gridcolor": "#EBF0F8",
           "linecolor": "#EBF0F8",
           "ticks": "",
           "title": {
            "standoff": 15
           },
           "zerolinecolor": "#EBF0F8",
           "zerolinewidth": 2
          }
         }
        },
        "updatemenus": [
         {
          "buttons": [
           {
            "args": [
             {
              "yaxis.type": "linear"
             }
            ],
            "label": "Linear y-scale",
            "method": "relayout"
           },
           {
            "args": [
             {
              "yaxis.type": "log"
             }
            ],
            "label": "Log y-scale",
            "method": "relayout"
           }
          ],
          "direction": "left",
          "pad": {
           "r": 0,
           "t": -10
          },
          "showactive": true,
          "type": "buttons",
          "x": 0,
          "xanchor": "left",
          "y": 1.15,
          "yanchor": "top"
         },
         {
          "buttons": [
           {
            "args": [
             {
              "visible": [
               true,
               false,
               true,
               false,
               true,
               false,
               true,
               false,
               true,
               false,
               true,
               false,
               true,
               false,
               true,
               false
              ]
             },
             {
              "yaxis": {
               "title": "$\\text{Tumour volume in cm}^3$"
              }
             }
            ],
            "label": "Tumour volume",
            "method": "update"
           },
           {
            "args": [
             {
              "visible": [
               false,
               true,
               false,
               true,
               false,
               true,
               false,
               true,
               false,
               true,
               false,
               true,
               false,
               true,
               false,
               true
              ]
             },
             {
              "yaxis": {
               "title": "$\\text{Body weight in g}$"
              }
             }
            ],
            "label": "Body weight",
            "method": "update"
           }
          ],
          "direction": "down",
          "pad": {
           "r": 0,
           "t": -10
          },
          "showactive": true,
          "type": "buttons",
          "x": 1.07,
          "xanchor": "left",
          "y": 1.1,
          "yanchor": "top"
         }
        ],
        "xaxis": {
         "title": {
          "text": "$\\text{Time in day}$"
         }
        },
        "yaxis": {
         "title": {
          "text": "$\\text{Tumour volume in cm}^3$"
         }
        }
       }
      }
     },
     "metadata": {}
    }
   ],
   "source": [
    "#\n",
    "# Visualise control growth data.\n",
    "#\n",
    "\n",
    "import os\n",
    "\n",
    "import pandas as pd\n",
    "import plotly.colors\n",
    "import plotly.graph_objects as go\n",
    "\n",
    "\n",
    "# Import data\n",
    "# Get path of current working directory\n",
    "path = os.getcwd()\n",
    "\n",
    "# Import LXF A677 control growth data\n",
    "data = pd.read_csv(path + '/data/lxf_control_growth.csv')\n",
    "\n",
    "# Get mouse ids\n",
    "mouse_ids = data['#ID'].unique()\n",
    "\n",
    "# Get number of mice\n",
    "n_mice = len(mouse_ids)\n",
    "\n",
    "# Define colorscheme\n",
    "colors = plotly.colors.qualitative.Plotly[:n_mice]\n",
    "\n",
    "# Create figure\n",
    "fig = go.Figure()\n",
    "\n",
    "# Scatter plot LXF A677 time-series data for each mouse\n",
    "for index, id_m in enumerate(mouse_ids):\n",
    "    # Create mask for mouse\n",
    "    mask = data['#ID'] == id_m\n",
    "\n",
    "    # Get time points for mouse\n",
    "    times = data['TIME in day'][mask]\n",
    "\n",
    "    # Get observed tumour volumes for mouse\n",
    "    observed_volumes = data['TUMOUR VOLUME in cm^3'][mask]\n",
    "\n",
    "    # Get mass time series\n",
    "    masses = data['BODY WEIGHT in g'][mask]\n",
    "\n",
    "    # Plot tumour volume over time\n",
    "    fig.add_trace(go.Scatter(\n",
    "        x=times,\n",
    "        y=observed_volumes,\n",
    "        name=\"ID: %d\" % id_m,\n",
    "        showlegend=True,\n",
    "        hovertemplate=\n",
    "            \"<b>ID: %d</b><br>\" % (id_m) +\n",
    "            \"Time: %{x:} day<br>\" +\n",
    "            \"Tumour volume: %{y:.02f} cm^3<br>\" +\n",
    "            \"Body weight: %{text}<br>\" +\n",
    "            \"Cancer type: Lung cancer (LXF A677)<br>\" +\n",
    "            \"<extra></extra>\",\n",
    "        text=['%.01f g' % mass for mass in masses],\n",
    "        mode=\"markers\",\n",
    "        marker=dict(\n",
    "            symbol='circle',\n",
    "            color=colors[index],\n",
    "            opacity=0.7,\n",
    "            line=dict(color='black', width=1))\n",
    "    ))\n",
    "\n",
    "    # Plot mass over time\n",
    "    fig.add_trace(go.Scatter(\n",
    "        x=times,\n",
    "        y=masses,\n",
    "        name=\"ID: %d\" % id_m,\n",
    "        showlegend=True,\n",
    "        visible=False,\n",
    "        hovertemplate=\n",
    "            \"<b>ID: %d</b><br>\" % (id_m) +\n",
    "            \"Time: %{x:} day<br>\" +\n",
    "            \"Tumour volume: %{y:.02f} cm^3<br>\" +\n",
    "            \"Body weight: %{text}<br>\" +\n",
    "            \"Cancer type: Lung cancer (LXF A677)<br>\" +\n",
    "            \"<extra></extra>\",\n",
    "        text=['%.01f g' % mass for mass in masses],\n",
    "        mode=\"markers\",\n",
    "        marker=dict(\n",
    "            symbol='circle',\n",
    "            color=colors[index],\n",
    "            opacity=0.7,\n",
    "            line=dict(color='black', width=1))\n",
    "    ))\n",
    "\n",
    "# Set X, Y axis and figure size\n",
    "fig.update_layout(\n",
    "    autosize=True,\n",
    "    xaxis_title=r'$\\text{Time in day}$',\n",
    "    yaxis_title=r'$\\text{Tumour volume in cm}^3$',\n",
    "    template=\"plotly_white\")\n",
    "\n",
    "# Add switch between linear and log y-scale\n",
    "fig.update_layout(\n",
    "    updatemenus=[\n",
    "        dict(\n",
    "            type = \"buttons\",\n",
    "            direction = \"left\",\n",
    "            buttons=list([\n",
    "                dict(\n",
    "                    args=[{\"yaxis.type\": \"linear\"}],\n",
    "                    label=\"Linear y-scale\",\n",
    "                    method=\"relayout\"\n",
    "                ),\n",
    "                dict(\n",
    "                    args=[{\"yaxis.type\": \"log\"}],\n",
    "                    label=\"Log y-scale\",\n",
    "                    method=\"relayout\"\n",
    "                )\n",
    "            ]),\n",
    "            pad={\"r\": 0, \"t\": -10},\n",
    "            showactive=True,\n",
    "            x=0.0,\n",
    "            xanchor=\"left\",\n",
    "            y=1.15,\n",
    "            yanchor=\"top\"\n",
    "        ),\n",
    "        dict(\n",
    "            type = \"buttons\",\n",
    "            direction = \"down\",\n",
    "            buttons=list([\n",
    "                dict(\n",
    "                    args=[\n",
    "                        {\"visible\": [True, False] * n_mice},\n",
    "                        {\"yaxis\": {\"title\": r'$\\text{Tumour volume in cm}^3$'}}],\n",
    "                    label=\"Tumour volume\",\n",
    "                    method=\"update\"\n",
    "                ),\n",
    "                dict(\n",
    "                    args=[\n",
    "                        {\"visible\": [False, True] * n_mice}, \n",
    "                        {\"yaxis\": {\"title\": r'$\\text{Body weight in g}$'}}],\n",
    "                    label=\"Body weight\",\n",
    "                    method=\"update\"\n",
    "                ),\n",
    "            ]),\n",
    "            pad={\"r\": 0, \"t\": -10},\n",
    "            showactive=True,\n",
    "            x=1.07,\n",
    "            xanchor=\"left\",\n",
    "            y=1.1,\n",
    "            yanchor=\"top\"\n",
    "        ),\n",
    "    ]\n",
    ")\n",
    "\n",
    "# Position legend\n",
    "fig.update_layout(legend=dict(\n",
    "    yanchor=\"bottom\",\n",
    "    y=0.01,\n",
    "    xanchor=\"left\",\n",
    "    x=1.05))\n",
    "\n",
    "# Show figure\n",
    "fig.show()"
   ]
  },
  {
   "cell_type": "markdown",
   "metadata": {},
   "source": [
    "**Figure 1 - Untreated tumour growth:** Untreated tumour growth of patient-derived tumour explants LXF A677 (adenocarcinoma of the lung) implanted in mice. The colouring of the data points indicates the identity of the mice. The evolution of the body weight can be explored by using the buttons in the top right."
   ]
  },
  {
   "cell_type": "markdown",
   "metadata": {},
   "source": [
    "## Structural model\n",
    "\n",
    "In [[n1](https://nbviewer.jupyter.org/github/DavAug/ErlotinibGefitinib/blob/master/notebooks/lung_cancer/control_growth/identifiability_structural_model.ipynb)] we showed that a structural model with a transition from exponential growth of the tumour volume to a linear growth of the tumour volume is capable of capturing the observed tumour growth\n",
    "\n",
    "\\begin{equation*}\n",
    "    \\frac{\\text{d}V^s_T}{\\text{d}t} = \\frac{\\lambda V^s_T}{V^s_T / V_{\\text{crit}} + 1}.\n",
    "\\end{equation*}\n",
    "\n",
    "Here, $V^s_T$ is the tumour volume predicted by the structural model, $V_{\\text{crit}}$ is the critical tumour volume at which the growth transitions from exponential to linear, and $\\lambda $ is the exponential growth rate. We can see that the tumour growth is exponential for tumour volumes much smaller than the critical volume $V^s_T \\ll V_{\\text{crit}}$, and linear for tumour volumes much larger than the critical volume $V^s_T \\gg V_{\\text{crit}}$. This parameterisation is equivalent to the structural model presented in [1] when setting $\\lambda $ equal to twice the exponential growth rate ($\\lambda = 2\\lambda _0$), and $\\lambda V_{\\text{crit}}$ equal to the linear growth rate ($\\lambda V_{\\text{crit}}=\\lambda _0$)."
   ]
  },
  {
   "cell_type": "markdown",
   "metadata": {},
   "source": [
    "## Constant noise model (all mice have their own noise parameter)\n",
    "\n",
    "Explanation\n",
    "\n",
    "- Identifiability, joined noise model"
   ]
  },
  {
   "cell_type": "markdown",
   "metadata": {},
   "source": [
    "### Identifiability"
   ]
  },
  {
   "cell_type": "code",
   "execution_count": 9,
   "metadata": {},
   "outputs": [],
   "source": [
    "#\n",
    "# Define pints model wrapper such that myokit model can be used for inference.\n",
    "#\n",
    "\n",
    "import myokit\n",
    "import pints\n",
    "\n",
    "from pkpd import model as m\n",
    "\n",
    "\n",
    "# Wrap myokit model, so it can be used with pints\n",
    "class DimensionlessLogTransformedPintsModel(pints.ForwardModel):\n",
    "    def __init__(self):\n",
    "        # Create myokit model\n",
    "        model = m.create_dimless_tumour_growth_model()\n",
    "\n",
    "        # Create simulator\n",
    "        self.sim = myokit.Simulation(model)\n",
    "\n",
    "    def n_parameters(self):\n",
    "        \"\"\"\n",
    "        Number of parameters to fit. Here log v, log a_0, log a_1.\n",
    "        \"\"\"\n",
    "        return 3\n",
    "\n",
    "    def n_outputs(self):\n",
    "        return 1\n",
    "\n",
    "    def simulate(self, log_parameters, times):\n",
    "        # Reset simulation\n",
    "        self.sim.reset()\n",
    "\n",
    "        # Sort input parameters\n",
    "        initial_volume, a_0, a_1 = np.exp(log_parameters)\n",
    "\n",
    "        # Set initial condition\n",
    "        self.sim.set_state([initial_volume])\n",
    "\n",
    "        # Set growth constants\n",
    "        self.sim.set_constant('central.a_0', a_0)\n",
    "        self.sim.set_constant('central.a_1', a_1)\n",
    "\n",
    "        # Define logged variable\n",
    "        loggedVariable = 'central.volume_t'\n",
    "\n",
    "        # Simulate\n",
    "        output = self.sim.run(times[-1] + 1, log=[loggedVariable], log_times=times)\n",
    "        result = output[loggedVariable]\n",
    "\n",
    "        return np.array(result)"
   ]
  },
  {
   "cell_type": "code",
   "execution_count": 15,
   "metadata": {
    "tags": []
   },
   "outputs": [
    {
     "output_type": "display_data",
     "data": {
      "text/plain": "HBox(children=(FloatProgress(value=0.0, max=8.0), HTML(value='')))",
      "application/vnd.jupyter.widget-view+json": {
       "version_major": 2,
       "version_minor": 0,
       "model_id": "d02508e60ac642c19526324897b78725"
      }
     },
     "metadata": {}
    },
    {
     "output_type": "stream",
     "name": "stdout",
     "text": "\n"
    }
   ],
   "source": [
    "#\n",
    "# Run optimisation multiple times from random initial starting points.\n",
    "#\n",
    "# This cell needs the above defined wrapped myokit model:\n",
    "# [DimensionlessLogTransformedPintsModel]\n",
    "#\n",
    "\n",
    "import os\n",
    "\n",
    "import myokit\n",
    "import numpy as np\n",
    "import pandas as pd\n",
    "import pints\n",
    "from tqdm.notebook import tqdm\n",
    "\n",
    "import pkpd.likelihoods\n",
    "\n",
    "\n",
    "# Define characteristic scales\n",
    "characteristic_volume = 1  # in cm^3\n",
    "characteristic_time = 1  # in day\n",
    "\n",
    "# Define number of optimisation runs for each individual\n",
    "n_runs = 10\n",
    "\n",
    "# Import data\n",
    "# Get path of current working directory\n",
    "path = os.getcwd()\n",
    "\n",
    "# Import LXF A677 control growth data\n",
    "data = pd.read_csv(path + '/data/lxf_control_growth.csv')\n",
    "n_mice = len(data['#ID'].unique())\n",
    "\n",
    "# Define container for the structural model estimates\n",
    "# Shape (n_mice, n_runs, n_structural_params + n_noise_params)\n",
    "n_structural_params = 3\n",
    "n_noise_params = 1\n",
    "transf_params = np.empty(shape=(n_mice, n_runs, n_structural_params + n_noise_params))\n",
    "\n",
    "# Define container for the objective function score for the optimised parameters\n",
    "log_posterior_scores = np.empty(shape=(n_mice, n_runs))\n",
    "\n",
    "# Create priors for tranformed parameters\n",
    "log_prior_structural_params = pints.UniformLogPrior(\n",
    "    lower_or_boundaries=np.log([1E-3] * n_structural_params),\n",
    "    upper=np.log([1E3] * n_structural_params))\n",
    "log_prior_sigma = pints.HalfCauchyLogPrior(location=0, scale=3)\n",
    "log_prior = pints.ComposedLogPrior(log_prior_structural_params, log_prior_sigma)\n",
    "\n",
    "# Create inverse problems for the LXF A677 population\n",
    "mouse_ids = data['#ID'].unique()\n",
    "for index, mouse_id in enumerate(tqdm(mouse_ids)):\n",
    "    # Create mask for mouse with specfied ID\n",
    "    mouse_mask = data['#ID'] == mouse_id\n",
    "\n",
    "    # Get relevant time points\n",
    "    times = data[mouse_mask]['TIME in day'].to_numpy() / characteristic_time\n",
    "\n",
    "    # Get measured tumour volumes\n",
    "    observed_volumes = data[mouse_mask]['TUMOUR VOLUME in cm^3'].to_numpy() / characteristic_volume\n",
    "\n",
    "    # Create inverse problem\n",
    "    problem = pints.SingleOutputProblem(\n",
    "        DimensionlessLogTransformedPintsModel(), times, observed_volumes)\n",
    "\n",
    "    # Create likelihood assuming a constant Gaussian noise\n",
    "    log_likelihood = pints.GaussianLogLikelihood(problem)\n",
    "\n",
    "    # Create posterior\n",
    "    log_posterior = pints.LogPosterior(log_likelihood, log_prior)\n",
    "\n",
    "    # Define initial starting points by sampling from prior\n",
    "    initial_parameters = log_prior.sample(n=n_runs)\n",
    "\n",
    "    # Run optimisation multiple times\n",
    "    for run_id, initial_params in enumerate(initial_parameters):\n",
    "\n",
    "        # Create optimisation controller with a CMA-ES optimiser\n",
    "        optimiser = pints.OptimisationController(\n",
    "            function=log_posterior,\n",
    "            x0=initial_params,\n",
    "            method=pints.CMAES)\n",
    "\n",
    "        # Disable logging mode\n",
    "        optimiser.set_log_to_screen(False)\n",
    "\n",
    "        # Parallelise optimisation\n",
    "        optimiser.set_parallel(True)\n",
    "\n",
    "        # Find optimal parameters\n",
    "        try:\n",
    "            estimates, score = optimiser.run()\n",
    "        except:\n",
    "            # If inference breaks fill estimates with nan\n",
    "            estimates = np.array([np.nan] * (n_structural_params + n_noise_params))\n",
    "            score = np.nan\n",
    "\n",
    "        # Save estimates and score\n",
    "        transf_params[index, run_id, :] = estimates\n",
    "        log_posterior_scores[index, run_id] = score"
   ]
  },
  {
   "cell_type": "code",
   "execution_count": 16,
   "metadata": {},
   "outputs": [],
   "source": [
    "#\n",
    "# Transform parameters to biological parameters (initial tumour volume, critical tumour volume, growth rate, sigma).\n",
    "# \n",
    "# This cell needs the above inferred dimensionless parameters and the characteristic volume and time scale:\n",
    "# [mouse_parameters, characteristic_volume, characteristic_time]\n",
    "#\n",
    "\n",
    "import numpy as np\n",
    "\n",
    "\n",
    "# Initialise container for backtransformed paramters\n",
    "# Shape (n_mice, n_runs, n_parameters)\n",
    "mouse_parameters = np.empty(shape=transf_params.shape)\n",
    "\n",
    "# Transform initial volumes\n",
    "# V_0 = exp(log(v_0)) * V^c\n",
    "mouse_parameters[:, :, 0] = np.exp(transf_params[:, :, 0]) * characteristic_volume\n",
    "\n",
    "# Transform critical volume \n",
    "# V_crit = exp(log(a_0)) * V^c\n",
    "mouse_parameters[:, :, 1] = np.exp(transf_params[:, :, 1]) * characteristic_volume\n",
    "\n",
    "# Transform exponential growth rate\n",
    "# lambda = exp(log(a_1 / a_0) / t^c\n",
    "mouse_parameters[:, :, 2] = \\\n",
    "    np.exp(transf_params[:, :, 2] - transf_params[:, :, 1]) / characteristic_time\n",
    "\n",
    "# Transform sigma\n",
    "# sigma = sigma_dimensionless * V^c\n",
    "mouse_parameters[:, :, 3] = np.exp(transf_params[:, :, 3]) * characteristic_volume"
   ]
  },
  {
   "cell_type": "code",
   "execution_count": 18,
   "metadata": {},
   "outputs": [
    {
     "output_type": "display_data",
     "data": {
      "application/vnd.plotly.v1+json": {
       "config": {
        "plotlyServerURL": "https://plot.ly"
       },
       "data": [
        {
         "boxpoints": "all",
         "jitter": 0.2,
         "line": {
          "color": "#636EFA"
         },
         "marker": {
          "color": "#636EFA",
          "line": {
           "color": "black",
           "width": 1
          },
          "opacity": 0.7,
          "symbol": "circle"
         },
         "name": "Initial tumour volume in cm^3",
         "pointpos": -1.5,
         "type": "box",
         "visible": true,
         "y": [
          0.13922658162953808,
          0.13996915980236613,
          0.13911107784805524,
          0.13969809896903762,
          0.1395002948845064,
          0.13771776665353347,
          0.13983593888884407,
          0.1396526863261827,
          0.13932379180908985,
          0.13973851682537217
         ]
        },
        {
         "boxpoints": "all",
         "jitter": 0.2,
         "line": {
          "color": "#EF553B"
         },
         "marker": {
          "color": "#EF553B",
          "line": {
           "color": "black",
           "width": 1
          },
          "opacity": 0.7,
          "symbol": "circle"
         },
         "name": "Critical volume in cm^3",
         "pointpos": -1.5,
         "type": "box",
         "visible": true,
         "y": [
          0.23768626774368745,
          0.2388818530412902,
          0.2374635165968374,
          0.23844284266798907,
          0.23810332714945226,
          0.22744019965185083,
          0.23868931004948993,
          0.2384002668653028,
          0.2377700637022847,
          0.2384679708376264
         ]
        },
        {
         "boxpoints": "all",
         "jitter": 0.2,
         "line": {
          "color": "#00CC96"
         },
         "marker": {
          "color": "#00CC96",
          "line": {
           "color": "black",
           "width": 1
          },
          "opacity": 0.7,
          "symbol": "circle"
         },
         "name": "Exponential growth rate in 1/day",
         "pointpos": -1.5,
         "type": "box",
         "visible": true,
         "y": [
          0.5510746175015742,
          0.5484835838799131,
          0.5514804209182356,
          0.54951859253904,
          0.5500448271354985,
          0.569906670356701,
          0.5487711616872047,
          0.5496000174248243,
          0.5508213191171784,
          0.5493638329613286
         ]
        },
        {
         "boxpoints": "all",
         "jitter": 0.2,
         "line": {
          "color": "#AB63FA"
         },
         "marker": {
          "color": "#AB63FA",
          "line": {
           "color": "black",
           "width": 1
          },
          "opacity": 0.7,
          "symbol": "circle"
         },
         "name": "Standard deviation in cm^3",
         "pointpos": -1.5,
         "type": "box",
         "visible": true,
         "y": [
          1.0583324188810472,
          1.0578932364425573,
          1.0583813512544116,
          1.058185459723548,
          1.0580952649698765,
          1.0581059975532114,
          1.058352716439572,
          1.0584814122410948,
          1.0580659324615682,
          1.057908492975456
         ]
        },
        {
         "boxpoints": "all",
         "jitter": 0.2,
         "line": {
          "color": "#FFA15A"
         },
         "marker": {
          "color": "#FFA15A",
          "line": {
           "color": "black",
           "width": 1
          },
          "opacity": 0.7,
          "symbol": "circle"
         },
         "name": "Unnorm. log-posterior score",
         "pointpos": -1.5,
         "type": "box",
         "visible": true,
         "y": [
          5.127302091834432,
          5.127312141246776,
          5.127253050929911,
          5.127373573224785,
          5.127469870321409,
          5.120933200638575,
          5.1270048367025005,
          5.126954426762408,
          5.127605822717944,
          5.127458429773434
         ]
        },
        {
         "boxpoints": "all",
         "jitter": 0.2,
         "line": {
          "color": "#636EFA"
         },
         "marker": {
          "color": "#636EFA",
          "line": {
           "color": "black",
           "width": 1
          },
          "opacity": 0.7,
          "symbol": "circle"
         },
         "name": "Initial tumour volume in cm^3",
         "pointpos": -1.5,
         "type": "box",
         "visible": false,
         "y": [
          0.07479919898488112,
          0.07455511422182251,
          0.07479927250623976,
          0.07479931232144524,
          0.07479928393094895,
          0.07479928335333225,
          0.07498925419220742,
          0.07455480863854091,
          0.07454839444126411,
          0.0753039483887237
         ]
        },
        {
         "boxpoints": "all",
         "jitter": 0.2,
         "line": {
          "color": "#EF553B"
         },
         "marker": {
          "color": "#EF553B",
          "line": {
           "color": "black",
           "width": 1
          },
          "opacity": 0.7,
          "symbol": "circle"
         },
         "name": "Critical volume in cm^3",
         "pointpos": -1.5,
         "type": "box",
         "visible": false,
         "y": [
          0.06177104849379586,
          0.06049025185656157,
          0.06177110621884192,
          0.06177113747780991,
          0.06177111518765028,
          0.061771114714313805,
          0.06205663589049602,
          0.06049001914205555,
          0.0604573140104396,
          0.06469588057394718
         ]
        },
        {
         "boxpoints": "all",
         "jitter": 0.2,
         "line": {
          "color": "#00CC96"
         },
         "marker": {
          "color": "#00CC96",
          "line": {
           "color": "black",
           "width": 1
          },
          "opacity": 0.7,
          "symbol": "circle"
         },
         "name": "Exponential growth rate in 1/day",
         "pointpos": -1.5,
         "type": "box",
         "visible": false,
         "y": [
          0.33007075363593286,
          0.33582037562711564,
          0.33007036712260024,
          0.33007020387342473,
          0.3300703322316443,
          0.33007033700874205,
          0.32863497119150165,
          0.33582223553152707,
          0.3359715170151805,
          0.31793618399884793
         ]
        },
        {
         "boxpoints": "all",
         "jitter": 0.2,
         "line": {
          "color": "#AB63FA"
         },
         "marker": {
          "color": "#AB63FA",
          "line": {
           "color": "black",
           "width": 1
          },
          "opacity": 0.7,
          "symbol": "circle"
         },
         "name": "Standard deviation in cm^3",
         "pointpos": -1.5,
         "type": "box",
         "visible": false,
         "y": [
          1.0233367629034453,
          1.023333478862037,
          1.023336769154863,
          1.0233367698422529,
          1.023336776334688,
          1.0233367621257587,
          1.02334555910678,
          1.0233333332333212,
          1.0233334366610702,
          1.0233388821987488
         ]
        },
        {
         "boxpoints": "all",
         "jitter": 0.2,
         "line": {
          "color": "#FFA15A"
         },
         "marker": {
          "color": "#FFA15A",
          "line": {
           "color": "black",
           "width": 1
          },
          "opacity": 0.7,
          "symbol": "circle"
         },
         "name": "Unnorm. log-posterior score",
         "pointpos": -1.5,
         "type": "box",
         "visible": false,
         "y": [
          23.47711297545279,
          23.47909545097565,
          23.477112975490833,
          23.47711297549531,
          23.477112975497597,
          23.47711297551343,
          23.476791763204492,
          23.479095451877786,
          23.47908163540135,
          23.475852800946676
         ]
        },
        {
         "boxpoints": "all",
         "jitter": 0.2,
         "line": {
          "color": "#636EFA"
         },
         "marker": {
          "color": "#636EFA",
          "line": {
           "color": "black",
           "width": 1
          },
          "opacity": 0.7,
          "symbol": "circle"
         },
         "name": "Initial tumour volume in cm^3",
         "pointpos": -1.5,
         "type": "box",
         "visible": false,
         "y": [
          0.22090439278244234,
          0.22090434099257877,
          0.22090437954351297,
          0.22090438898847048,
          0.2209043741323782,
          0.2209043612045724,
          0.2209043890953531,
          0.22090437032142685,
          0.22090437041484817,
          0.22090438718761388
         ]
        },
        {
         "boxpoints": "all",
         "jitter": 0.2,
         "line": {
          "color": "#EF553B"
         },
         "marker": {
          "color": "#EF553B",
          "line": {
           "color": "black",
           "width": 1
          },
          "opacity": 0.7,
          "symbol": "circle"
         },
         "name": "Critical volume in cm^3",
         "pointpos": -1.5,
         "type": "box",
         "visible": false,
         "y": [
          999.9999999944602,
          999.99999995941,
          999.9999999712281,
          999.9999999916145,
          999.9999999755003,
          999.9999999739255,
          999.9999999969391,
          999.9999999872562,
          999.9999999708062,
          999.9999999954211
         ]
        },
        {
         "boxpoints": "all",
         "jitter": 0.2,
         "line": {
          "color": "#00CC96"
         },
         "marker": {
          "color": "#00CC96",
          "line": {
           "color": "black",
           "width": 1
          },
          "opacity": 0.7,
          "symbol": "circle"
         },
         "name": "Exponential growth rate in 1/day",
         "pointpos": -1.5,
         "type": "box",
         "visible": false,
         "y": [
          0.1111849260536349,
          0.11118493872240809,
          0.11118492980178242,
          0.11118492697971782,
          0.11118493072502013,
          0.11118493415323603,
          0.11118492677898097,
          0.11118493274920138,
          0.1111849328016812,
          0.11118492782665246
         ]
        },
        {
         "boxpoints": "all",
         "jitter": 0.2,
         "line": {
          "color": "#AB63FA"
         },
         "marker": {
          "color": "#AB63FA",
          "line": {
           "color": "black",
           "width": 1
          },
          "opacity": 0.7,
          "symbol": "circle"
         },
         "name": "Standard deviation in cm^3",
         "pointpos": -1.5,
         "type": "box",
         "visible": false,
         "y": [
          1.104875162089374,
          1.1048751733815043,
          1.1048751509096422,
          1.1048751591855925,
          1.1048751551631861,
          1.1048751462514812,
          1.1048751473203853,
          1.1048751370555565,
          1.1048751413815938,
          1.104875170398091
         ]
        },
        {
         "boxpoints": "all",
         "jitter": 0.2,
         "line": {
          "color": "#FFA15A"
         },
         "marker": {
          "color": "#FFA15A",
          "line": {
           "color": "black",
           "width": 1
          },
          "opacity": 0.7,
          "symbol": "circle"
         },
         "name": "Unnorm. log-posterior score",
         "pointpos": -1.5,
         "type": "box",
         "visible": false,
         "y": [
          -0.566511995407863,
          -0.5665119954093285,
          -0.5665119954077404,
          -0.5665119954077635,
          -0.5665119954074971,
          -0.566511995407696,
          -0.5665119954077937,
          -0.5665119954076463,
          -0.56651199540768,
          -0.5665119954080442
         ]
        },
        {
         "boxpoints": "all",
         "jitter": 0.2,
         "line": {
          "color": "#636EFA"
         },
         "marker": {
          "color": "#636EFA",
          "line": {
           "color": "black",
           "width": 1
          },
          "opacity": 0.7,
          "symbol": "circle"
         },
         "name": "Initial tumour volume in cm^3",
         "pointpos": -1.5,
         "type": "box",
         "visible": false,
         "y": [
          0.1490264712853129,
          0.1489823670524278,
          0.1489763031139022,
          0.14895915417104058,
          0.14894067525694155,
          0.14958261441167509,
          0.14772296626177162,
          0.14898456324629383,
          0.1489166441198681,
          0.1501370369924156
         ]
        },
        {
         "boxpoints": "all",
         "jitter": 0.2,
         "line": {
          "color": "#EF553B"
         },
         "marker": {
          "color": "#EF553B",
          "line": {
           "color": "black",
           "width": 1
          },
          "opacity": 0.7,
          "symbol": "circle"
         },
         "name": "Critical volume in cm^3",
         "pointpos": -1.5,
         "type": "box",
         "visible": false,
         "y": [
          1.1871358917990746,
          1.1863669177640075,
          1.186313708570619,
          1.1861929759735956,
          1.186038990396119,
          1.2176372841055836,
          1.1282642286306053,
          1.186809517704568,
          1.1858578894216758,
          1.2230605136168402
         ]
        },
        {
         "boxpoints": "all",
         "jitter": 0.2,
         "line": {
          "color": "#00CC96"
         },
         "marker": {
          "color": "#00CC96",
          "line": {
           "color": "black",
           "width": 1
          },
          "opacity": 0.7,
          "symbol": "circle"
         },
         "name": "Exponential growth rate in 1/day",
         "pointpos": -1.5,
         "type": "box",
         "visible": false,
         "y": [
          0.10850357097022499,
          0.10852503871400171,
          0.10854586934657359,
          0.10855242713528762,
          0.10856460023903805,
          0.10757658685179096,
          0.11051683347652674,
          0.10853851611742564,
          0.10857382083745619,
          0.1072765850848174
         ]
        },
        {
         "boxpoints": "all",
         "jitter": 0.2,
         "line": {
          "color": "#AB63FA"
         },
         "marker": {
          "color": "#AB63FA",
          "line": {
           "color": "black",
           "width": 1
          },
          "opacity": 0.7,
          "symbol": "circle"
         },
         "name": "Standard deviation in cm^3",
         "pointpos": -1.5,
         "type": "box",
         "visible": false,
         "y": [
          1.054993662279399,
          1.0550481989965588,
          1.0550416083646312,
          1.0550422076119945,
          1.055061336021525,
          1.0549766213649656,
          1.055054498801202,
          1.054921317981878,
          1.0550622381299941,
          1.0551253917802836
         ]
        },
        {
         "boxpoints": "all",
         "jitter": 0.2,
         "line": {
          "color": "#FFA15A"
         },
         "marker": {
          "color": "#FFA15A",
          "line": {
           "color": "black",
           "width": 1
          },
          "opacity": 0.7,
          "symbol": "circle"
         },
         "name": "Unnorm. log-posterior score",
         "pointpos": -1.5,
         "type": "box",
         "visible": false,
         "y": [
          11.680269674124942,
          11.680193187537535,
          11.68022364845305,
          11.680269192459662,
          11.680222423805604,
          11.679879336823785,
          11.675505184817993,
          11.68019960056239,
          11.680238257955553,
          11.679542334548188
         ]
        },
        {
         "boxpoints": "all",
         "jitter": 0.2,
         "line": {
          "color": "#636EFA"
         },
         "marker": {
          "color": "#636EFA",
          "line": {
           "color": "black",
           "width": 1
          },
          "opacity": 0.7,
          "symbol": "circle"
         },
         "name": "Initial tumour volume in cm^3",
         "pointpos": -1.5,
         "type": "box",
         "visible": false,
         "y": [
          0.08417662788065956,
          0.08417663802154599,
          0.08417666108699566,
          0.08417664360201285,
          0.08417657789988602,
          0.08417665012770652,
          0.08417663987038866,
          0.08417662696547555,
          0.08417665182963839,
          0.08417665290573172
         ]
        },
        {
         "boxpoints": "all",
         "jitter": 0.2,
         "line": {
          "color": "#EF553B"
         },
         "marker": {
          "color": "#EF553B",
          "line": {
           "color": "black",
           "width": 1
          },
          "opacity": 0.7,
          "symbol": "circle"
         },
         "name": "Critical volume in cm^3",
         "pointpos": -1.5,
         "type": "box",
         "visible": false,
         "y": [
          999.9999998101819,
          999.999999586233,
          999.9999996660002,
          999.9999999981542,
          999.9999997536954,
          999.9999998052356,
          999.9999998255553,
          999.9999998703044,
          999.999999582317,
          999.9999991318009
         ]
        },
        {
         "boxpoints": "all",
         "jitter": 0.2,
         "line": {
          "color": "#00CC96"
         },
         "marker": {
          "color": "#00CC96",
          "line": {
           "color": "black",
           "width": 1
          },
          "opacity": 0.7,
          "symbol": "circle"
         },
         "name": "Exponential growth rate in 1/day",
         "pointpos": -1.5,
         "type": "box",
         "visible": false,
         "y": [
          0.10836537256402329,
          0.10836537061160367,
          0.10836535916454565,
          0.1083653662239033,
          0.1083653961059067,
          0.10836536506777537,
          0.10836537114405229,
          0.10836537663159905,
          0.10836535986575707,
          0.10836536414503492
         ]
        },
        {
         "boxpoints": "all",
         "jitter": 0.2,
         "line": {
          "color": "#AB63FA"
         },
         "marker": {
          "color": "#AB63FA",
          "line": {
           "color": "black",
           "width": 1
          },
          "opacity": 0.7,
          "symbol": "circle"
         },
         "name": "Standard deviation in cm^3",
         "pointpos": -1.5,
         "type": "box",
         "visible": false,
         "y": [
          1.1075241476904611,
          1.1075241360893853,
          1.107524195021589,
          1.107524220788012,
          1.1075241889098661,
          1.1075242016497824,
          1.1075241498531716,
          1.1075241648813603,
          1.107524183328723,
          1.107524184004461
         ]
        },
        {
         "boxpoints": "all",
         "jitter": 0.2,
         "line": {
          "color": "#FFA15A"
         },
         "marker": {
          "color": "#FFA15A",
          "line": {
           "color": "black",
           "width": 1
          },
          "opacity": 0.7,
          "symbol": "circle"
         },
         "name": "Unnorm. log-posterior score",
         "pointpos": -1.5,
         "type": "box",
         "visible": false,
         "y": [
          2.6465044706651035,
          2.6465044706646115,
          2.6465044706669936,
          2.6465044706632135,
          2.646504470659961,
          2.646504470668063,
          2.6465044706663594,
          2.6465044706648015,
          2.6465044706605685,
          2.6465044706628493
         ]
        },
        {
         "boxpoints": "all",
         "jitter": 0.2,
         "line": {
          "color": "#636EFA"
         },
         "marker": {
          "color": "#636EFA",
          "line": {
           "color": "black",
           "width": 1
          },
          "opacity": 0.7,
          "symbol": "circle"
         },
         "name": "Initial tumour volume in cm^3",
         "pointpos": -1.5,
         "type": "box",
         "visible": false,
         "y": [
          0.13327407296452515,
          0.13289502360976083,
          0.1332745088654749,
          0.1332739553225652,
          0.1332738655394661,
          0.13327401912370537,
          0.13327409459462913,
          0.13327395602020484,
          0.133274345721702,
          0.13327413910650104
         ]
        },
        {
         "boxpoints": "all",
         "jitter": 0.2,
         "line": {
          "color": "#EF553B"
         },
         "marker": {
          "color": "#EF553B",
          "line": {
           "color": "black",
           "width": 1
          },
          "opacity": 0.7,
          "symbol": "circle"
         },
         "name": "Critical volume in cm^3",
         "pointpos": -1.5,
         "type": "box",
         "visible": false,
         "y": [
          0.2749723871789971,
          0.27203546285167074,
          0.2749732810931391,
          0.2749721462671264,
          0.27497196186631234,
          0.2749722768823886,
          0.2749724315182463,
          0.274972147408504,
          0.27497294643295095,
          0.274972522959907
         ]
        },
        {
         "boxpoints": "all",
         "jitter": 0.2,
         "line": {
          "color": "#00CC96"
         },
         "marker": {
          "color": "#00CC96",
          "line": {
           "color": "black",
           "width": 1
          },
          "opacity": 0.7,
          "symbol": "circle"
         },
         "name": "Exponential growth rate in 1/day",
         "pointpos": -1.5,
         "type": "box",
         "visible": false,
         "y": [
          0.3947192926788781,
          0.3980128823310562,
          0.39471817687123917,
          0.3947195948077878,
          0.3947198940031915,
          0.3947194671527514,
          0.3947192672523418,
          0.39471960037261544,
          0.3947185942527443,
          0.39471910562595663
         ]
        },
        {
         "boxpoints": "all",
         "jitter": 0.2,
         "line": {
          "color": "#AB63FA"
         },
         "marker": {
          "color": "#AB63FA",
          "line": {
           "color": "black",
           "width": 1
          },
          "opacity": 0.7,
          "symbol": "circle"
         },
         "name": "Standard deviation in cm^3",
         "pointpos": -1.5,
         "type": "box",
         "visible": false,
         "y": [
          1.1581722354758803,
          1.1581723533736858,
          1.158171970757347,
          1.158172099798962,
          1.1581720641838251,
          1.1581720160573596,
          1.158171923562508,
          1.1581720409035,
          1.1581721005505539,
          1.1581723404741395
         ]
        },
        {
         "boxpoints": "all",
         "jitter": 0.2,
         "line": {
          "color": "#FFA15A"
         },
         "marker": {
          "color": "#FFA15A",
          "line": {
           "color": "black",
           "width": 1
          },
          "opacity": 0.7,
          "symbol": "circle"
         },
         "name": "Unnorm. log-posterior score",
         "pointpos": -1.5,
         "type": "box",
         "visible": false,
         "y": [
          -3.438917792161556,
          -3.4389338806392873,
          -3.4389177921750553,
          -3.4389177921737613,
          -3.438917792150666,
          -3.4389177921589598,
          -3.4389177921585654,
          -3.4389177921583913,
          -3.438917792146735,
          -3.4389177921919325
         ]
        },
        {
         "boxpoints": "all",
         "jitter": 0.2,
         "line": {
          "color": "#636EFA"
         },
         "marker": {
          "color": "#636EFA",
          "line": {
           "color": "black",
           "width": 1
          },
          "opacity": 0.7,
          "symbol": "circle"
         },
         "name": "Initial tumour volume in cm^3",
         "pointpos": -1.5,
         "type": "box",
         "visible": false,
         "y": [
          0.12380947439592509,
          0.12332974972546834,
          0.12380945060192679,
          0.12332979883776693,
          0.12380950615911047,
          0.12332977742140468,
          0.12332981624060727,
          0.12380957246191743,
          0.12332976567391342,
          0.12332978571114885
         ]
        },
        {
         "boxpoints": "all",
         "jitter": 0.2,
         "line": {
          "color": "#EF553B"
         },
         "marker": {
          "color": "#EF553B",
          "line": {
           "color": "black",
           "width": 1
          },
          "opacity": 0.7,
          "symbol": "circle"
         },
         "name": "Critical volume in cm^3",
         "pointpos": -1.5,
         "type": "box",
         "visible": false,
         "y": [
          0.8481579588734806,
          0.8202398361112831,
          0.8481578026270337,
          0.8202401534385151,
          0.8481581673068541,
          0.8202400146449048,
          0.8202402653977238,
          0.8481586010592722,
          0.8202399389871741,
          0.8202400683573471
         ]
        },
        {
         "boxpoints": "all",
         "jitter": 0.2,
         "line": {
          "color": "#00CC96"
         },
         "marker": {
          "color": "#00CC96",
          "line": {
           "color": "black",
           "width": 1
          },
          "opacity": 0.7,
          "symbol": "circle"
         },
         "name": "Exponential growth rate in 1/day",
         "pointpos": -1.5,
         "type": "box",
         "visible": false,
         "y": [
          0.08606324030184771,
          0.08704237018126271,
          0.08606325212438701,
          0.0870423339208769,
          0.08606322603885394,
          0.08704234092628295,
          0.08704232463110229,
          0.08606318525471035,
          0.08704236272352338,
          0.08704233389235572
         ]
        },
        {
         "boxpoints": "all",
         "jitter": 0.2,
         "line": {
          "color": "#AB63FA"
         },
         "marker": {
          "color": "#AB63FA",
          "line": {
           "color": "black",
           "width": 1
          },
          "opacity": 0.7,
          "symbol": "circle"
         },
         "name": "Standard deviation in cm^3",
         "pointpos": -1.5,
         "type": "box",
         "visible": false,
         "y": [
          1.014534957922675,
          1.014536813630549,
          1.0145349770415588,
          1.0145367765501065,
          1.0145349709457552,
          1.014536797401512,
          1.0145367838778303,
          1.0145349248241018,
          1.0145367743353628,
          1.0145367761028667
         ]
        },
        {
         "boxpoints": "all",
         "jitter": 0.2,
         "line": {
          "color": "#FFA15A"
         },
         "marker": {
          "color": "#FFA15A",
          "line": {
           "color": "black",
           "width": 1
          },
          "opacity": 0.7,
          "symbol": "circle"
         },
         "name": "Unnorm. log-posterior score",
         "pointpos": -1.5,
         "type": "box",
         "visible": false,
         "y": [
          30.045162713700428,
          30.043419255727784,
          30.045162713699302,
          30.043419255873857,
          30.045162713697195,
          30.04341925576903,
          30.04341925591362,
          30.04516271371158,
          30.043419255803713,
          30.043419255787914
         ]
        },
        {
         "boxpoints": "all",
         "jitter": 0.2,
         "line": {
          "color": "#636EFA"
         },
         "marker": {
          "color": "#636EFA",
          "line": {
           "color": "black",
           "width": 1
          },
          "opacity": 0.7,
          "symbol": "circle"
         },
         "name": "Initial tumour volume in cm^3",
         "pointpos": -1.5,
         "type": "box",
         "visible": false,
         "y": [
          0.08704781573047177,
          0.08700621778429382,
          0.08705268588067613,
          0.08704681826162629,
          0.08704781891306698,
          0.08704783110842317,
          0.08704781345927357,
          0.08704783782352866,
          0.0871895375614195,
          0.08718954875445578
         ]
        },
        {
         "boxpoints": "all",
         "jitter": 0.2,
         "line": {
          "color": "#EF553B"
         },
         "marker": {
          "color": "#EF553B",
          "line": {
           "color": "black",
           "width": 1
          },
          "opacity": 0.7,
          "symbol": "circle"
         },
         "name": "Critical volume in cm^3",
         "pointpos": -1.5,
         "type": "box",
         "visible": false,
         "y": [
          2.671369463879897,
          2.666602464682202,
          2.6689944324053148,
          2.668243790196319,
          2.6713695573341423,
          2.6713699194939218,
          2.6713693886462844,
          2.671370119820246,
          2.755519329862391,
          2.755519676343489
         ]
        },
        {
         "boxpoints": "all",
         "jitter": 0.2,
         "line": {
          "color": "#00CC96"
         },
         "marker": {
          "color": "#00CC96",
          "line": {
           "color": "black",
           "width": 1
          },
          "opacity": 0.7,
          "symbol": "circle"
         },
         "name": "Exponential growth rate in 1/day",
         "pointpos": -1.5,
         "type": "box",
         "visible": false,
         "y": [
          0.07234431636484805,
          0.07237445129569117,
          0.07235428265387618,
          0.07234594668404841,
          0.07234431479449946,
          0.07234430984327539,
          0.07234431878328552,
          0.07234430561300449,
          0.07209160473475963,
          0.07209159915047396
         ]
        },
        {
         "boxpoints": "all",
         "jitter": 0.2,
         "line": {
          "color": "#AB63FA"
         },
         "marker": {
          "color": "#AB63FA",
          "line": {
           "color": "black",
           "width": 1
          },
          "opacity": 0.7,
          "symbol": "circle"
         },
         "name": "Standard deviation in cm^3",
         "pointpos": -1.5,
         "type": "box",
         "visible": false,
         "y": [
          1.012943811707461,
          1.012956302942969,
          1.0129393098959671,
          1.0129525947293525,
          1.012943813494544,
          1.0129438110949174,
          1.0129438206173094,
          1.0129438111179099,
          1.0129442626565839,
          1.0129442582234764
         ]
        },
        {
         "boxpoints": "all",
         "jitter": 0.2,
         "line": {
          "color": "#FFA15A"
         },
         "marker": {
          "color": "#FFA15A",
          "line": {
           "color": "black",
           "width": 1
          },
          "opacity": 0.7,
          "symbol": "circle"
         },
         "name": "Unnorm. log-posterior score",
         "pointpos": -1.5,
         "type": "box",
         "visible": false,
         "y": [
          31.65729797851983,
          31.657188847458098,
          31.657156716253606,
          31.65718011097824,
          31.657297978519093,
          31.65729797851552,
          31.65729797851011,
          31.65729797850949,
          31.656818904874047,
          31.656818904858675
         ]
        }
       ],
       "layout": {
        "autosize": true,
        "legend": {
         "x": 1.05,
         "xanchor": "left",
         "y": 0.01,
         "yanchor": "bottom"
        },
        "template": {
         "data": {
          "bar": [
           {
            "error_x": {
             "color": "#2a3f5f"
            },
            "error_y": {
             "color": "#2a3f5f"
            },
            "marker": {
             "line": {
              "color": "white",
              "width": 0.5
             }
            },
            "type": "bar"
           }
          ],
          "barpolar": [
           {
            "marker": {
             "line": {
              "color": "white",
              "width": 0.5
             }
            },
            "type": "barpolar"
           }
          ],
          "carpet": [
           {
            "aaxis": {
             "endlinecolor": "#2a3f5f",
             "gridcolor": "#C8D4E3",
             "linecolor": "#C8D4E3",
             "minorgridcolor": "#C8D4E3",
             "startlinecolor": "#2a3f5f"
            },
            "baxis": {
             "endlinecolor": "#2a3f5f",
             "gridcolor": "#C8D4E3",
             "linecolor": "#C8D4E3",
             "minorgridcolor": "#C8D4E3",
             "startlinecolor": "#2a3f5f"
            },
            "type": "carpet"
           }
          ],
          "choropleth": [
           {
            "colorbar": {
             "outlinewidth": 0,
             "ticks": ""
            },
            "type": "choropleth"
           }
          ],
          "contour": [
           {
            "colorbar": {
             "outlinewidth": 0,
             "ticks": ""
            },
            "colorscale": [
             [
              0,
              "#0d0887"
             ],
             [
              0.1111111111111111,
              "#46039f"
             ],
             [
              0.2222222222222222,
              "#7201a8"
             ],
             [
              0.3333333333333333,
              "#9c179e"
             ],
             [
              0.4444444444444444,
              "#bd3786"
             ],
             [
              0.5555555555555556,
              "#d8576b"
             ],
             [
              0.6666666666666666,
              "#ed7953"
             ],
             [
              0.7777777777777778,
              "#fb9f3a"
             ],
             [
              0.8888888888888888,
              "#fdca26"
             ],
             [
              1,
              "#f0f921"
             ]
            ],
            "type": "contour"
           }
          ],
          "contourcarpet": [
           {
            "colorbar": {
             "outlinewidth": 0,
             "ticks": ""
            },
            "type": "contourcarpet"
           }
          ],
          "heatmap": [
           {
            "colorbar": {
             "outlinewidth": 0,
             "ticks": ""
            },
            "colorscale": [
             [
              0,
              "#0d0887"
             ],
             [
              0.1111111111111111,
              "#46039f"
             ],
             [
              0.2222222222222222,
              "#7201a8"
             ],
             [
              0.3333333333333333,
              "#9c179e"
             ],
             [
              0.4444444444444444,
              "#bd3786"
             ],
             [
              0.5555555555555556,
              "#d8576b"
             ],
             [
              0.6666666666666666,
              "#ed7953"
             ],
             [
              0.7777777777777778,
              "#fb9f3a"
             ],
             [
              0.8888888888888888,
              "#fdca26"
             ],
             [
              1,
              "#f0f921"
             ]
            ],
            "type": "heatmap"
           }
          ],
          "heatmapgl": [
           {
            "colorbar": {
             "outlinewidth": 0,
             "ticks": ""
            },
            "colorscale": [
             [
              0,
              "#0d0887"
             ],
             [
              0.1111111111111111,
              "#46039f"
             ],
             [
              0.2222222222222222,
              "#7201a8"
             ],
             [
              0.3333333333333333,
              "#9c179e"
             ],
             [
              0.4444444444444444,
              "#bd3786"
             ],
             [
              0.5555555555555556,
              "#d8576b"
             ],
             [
              0.6666666666666666,
              "#ed7953"
             ],
             [
              0.7777777777777778,
              "#fb9f3a"
             ],
             [
              0.8888888888888888,
              "#fdca26"
             ],
             [
              1,
              "#f0f921"
             ]
            ],
            "type": "heatmapgl"
           }
          ],
          "histogram": [
           {
            "marker": {
             "colorbar": {
              "outlinewidth": 0,
              "ticks": ""
             }
            },
            "type": "histogram"
           }
          ],
          "histogram2d": [
           {
            "colorbar": {
             "outlinewidth": 0,
             "ticks": ""
            },
            "colorscale": [
             [
              0,
              "#0d0887"
             ],
             [
              0.1111111111111111,
              "#46039f"
             ],
             [
              0.2222222222222222,
              "#7201a8"
             ],
             [
              0.3333333333333333,
              "#9c179e"
             ],
             [
              0.4444444444444444,
              "#bd3786"
             ],
             [
              0.5555555555555556,
              "#d8576b"
             ],
             [
              0.6666666666666666,
              "#ed7953"
             ],
             [
              0.7777777777777778,
              "#fb9f3a"
             ],
             [
              0.8888888888888888,
              "#fdca26"
             ],
             [
              1,
              "#f0f921"
             ]
            ],
            "type": "histogram2d"
           }
          ],
          "histogram2dcontour": [
           {
            "colorbar": {
             "outlinewidth": 0,
             "ticks": ""
            },
            "colorscale": [
             [
              0,
              "#0d0887"
             ],
             [
              0.1111111111111111,
              "#46039f"
             ],
             [
              0.2222222222222222,
              "#7201a8"
             ],
             [
              0.3333333333333333,
              "#9c179e"
             ],
             [
              0.4444444444444444,
              "#bd3786"
             ],
             [
              0.5555555555555556,
              "#d8576b"
             ],
             [
              0.6666666666666666,
              "#ed7953"
             ],
             [
              0.7777777777777778,
              "#fb9f3a"
             ],
             [
              0.8888888888888888,
              "#fdca26"
             ],
             [
              1,
              "#f0f921"
             ]
            ],
            "type": "histogram2dcontour"
           }
          ],
          "mesh3d": [
           {
            "colorbar": {
             "outlinewidth": 0,
             "ticks": ""
            },
            "type": "mesh3d"
           }
          ],
          "parcoords": [
           {
            "line": {
             "colorbar": {
              "outlinewidth": 0,
              "ticks": ""
             }
            },
            "type": "parcoords"
           }
          ],
          "pie": [
           {
            "automargin": true,
            "type": "pie"
           }
          ],
          "scatter": [
           {
            "marker": {
             "colorbar": {
              "outlinewidth": 0,
              "ticks": ""
             }
            },
            "type": "scatter"
           }
          ],
          "scatter3d": [
           {
            "line": {
             "colorbar": {
              "outlinewidth": 0,
              "ticks": ""
             }
            },
            "marker": {
             "colorbar": {
              "outlinewidth": 0,
              "ticks": ""
             }
            },
            "type": "scatter3d"
           }
          ],
          "scattercarpet": [
           {
            "marker": {
             "colorbar": {
              "outlinewidth": 0,
              "ticks": ""
             }
            },
            "type": "scattercarpet"
           }
          ],
          "scattergeo": [
           {
            "marker": {
             "colorbar": {
              "outlinewidth": 0,
              "ticks": ""
             }
            },
            "type": "scattergeo"
           }
          ],
          "scattergl": [
           {
            "marker": {
             "colorbar": {
              "outlinewidth": 0,
              "ticks": ""
             }
            },
            "type": "scattergl"
           }
          ],
          "scattermapbox": [
           {
            "marker": {
             "colorbar": {
              "outlinewidth": 0,
              "ticks": ""
             }
            },
            "type": "scattermapbox"
           }
          ],
          "scatterpolar": [
           {
            "marker": {
             "colorbar": {
              "outlinewidth": 0,
              "ticks": ""
             }
            },
            "type": "scatterpolar"
           }
          ],
          "scatterpolargl": [
           {
            "marker": {
             "colorbar": {
              "outlinewidth": 0,
              "ticks": ""
             }
            },
            "type": "scatterpolargl"
           }
          ],
          "scatterternary": [
           {
            "marker": {
             "colorbar": {
              "outlinewidth": 0,
              "ticks": ""
             }
            },
            "type": "scatterternary"
           }
          ],
          "surface": [
           {
            "colorbar": {
             "outlinewidth": 0,
             "ticks": ""
            },
            "colorscale": [
             [
              0,
              "#0d0887"
             ],
             [
              0.1111111111111111,
              "#46039f"
             ],
             [
              0.2222222222222222,
              "#7201a8"
             ],
             [
              0.3333333333333333,
              "#9c179e"
             ],
             [
              0.4444444444444444,
              "#bd3786"
             ],
             [
              0.5555555555555556,
              "#d8576b"
             ],
             [
              0.6666666666666666,
              "#ed7953"
             ],
             [
              0.7777777777777778,
              "#fb9f3a"
             ],
             [
              0.8888888888888888,
              "#fdca26"
             ],
             [
              1,
              "#f0f921"
             ]
            ],
            "type": "surface"
           }
          ],
          "table": [
           {
            "cells": {
             "fill": {
              "color": "#EBF0F8"
             },
             "line": {
              "color": "white"
             }
            },
            "header": {
             "fill": {
              "color": "#C8D4E3"
             },
             "line": {
              "color": "white"
             }
            },
            "type": "table"
           }
          ]
         },
         "layout": {
          "annotationdefaults": {
           "arrowcolor": "#2a3f5f",
           "arrowhead": 0,
           "arrowwidth": 1
          },
          "coloraxis": {
           "colorbar": {
            "outlinewidth": 0,
            "ticks": ""
           }
          },
          "colorscale": {
           "diverging": [
            [
             0,
             "#8e0152"
            ],
            [
             0.1,
             "#c51b7d"
            ],
            [
             0.2,
             "#de77ae"
            ],
            [
             0.3,
             "#f1b6da"
            ],
            [
             0.4,
             "#fde0ef"
            ],
            [
             0.5,
             "#f7f7f7"
            ],
            [
             0.6,
             "#e6f5d0"
            ],
            [
             0.7,
             "#b8e186"
            ],
            [
             0.8,
             "#7fbc41"
            ],
            [
             0.9,
             "#4d9221"
            ],
            [
             1,
             "#276419"
            ]
           ],
           "sequential": [
            [
             0,
             "#0d0887"
            ],
            [
             0.1111111111111111,
             "#46039f"
            ],
            [
             0.2222222222222222,
             "#7201a8"
            ],
            [
             0.3333333333333333,
             "#9c179e"
            ],
            [
             0.4444444444444444,
             "#bd3786"
            ],
            [
             0.5555555555555556,
             "#d8576b"
            ],
            [
             0.6666666666666666,
             "#ed7953"
            ],
            [
             0.7777777777777778,
             "#fb9f3a"
            ],
            [
             0.8888888888888888,
             "#fdca26"
            ],
            [
             1,
             "#f0f921"
            ]
           ],
           "sequentialminus": [
            [
             0,
             "#0d0887"
            ],
            [
             0.1111111111111111,
             "#46039f"
            ],
            [
             0.2222222222222222,
             "#7201a8"
            ],
            [
             0.3333333333333333,
             "#9c179e"
            ],
            [
             0.4444444444444444,
             "#bd3786"
            ],
            [
             0.5555555555555556,
             "#d8576b"
            ],
            [
             0.6666666666666666,
             "#ed7953"
            ],
            [
             0.7777777777777778,
             "#fb9f3a"
            ],
            [
             0.8888888888888888,
             "#fdca26"
            ],
            [
             1,
             "#f0f921"
            ]
           ]
          },
          "colorway": [
           "#636efa",
           "#EF553B",
           "#00cc96",
           "#ab63fa",
           "#FFA15A",
           "#19d3f3",
           "#FF6692",
           "#B6E880",
           "#FF97FF",
           "#FECB52"
          ],
          "font": {
           "color": "#2a3f5f"
          },
          "geo": {
           "bgcolor": "white",
           "lakecolor": "white",
           "landcolor": "white",
           "showlakes": true,
           "showland": true,
           "subunitcolor": "#C8D4E3"
          },
          "hoverlabel": {
           "align": "left"
          },
          "hovermode": "closest",
          "mapbox": {
           "style": "light"
          },
          "paper_bgcolor": "white",
          "plot_bgcolor": "white",
          "polar": {
           "angularaxis": {
            "gridcolor": "#EBF0F8",
            "linecolor": "#EBF0F8",
            "ticks": ""
           },
           "bgcolor": "white",
           "radialaxis": {
            "gridcolor": "#EBF0F8",
            "linecolor": "#EBF0F8",
            "ticks": ""
           }
          },
          "scene": {
           "xaxis": {
            "backgroundcolor": "white",
            "gridcolor": "#DFE8F3",
            "gridwidth": 2,
            "linecolor": "#EBF0F8",
            "showbackground": true,
            "ticks": "",
            "zerolinecolor": "#EBF0F8"
           },
           "yaxis": {
            "backgroundcolor": "white",
            "gridcolor": "#DFE8F3",
            "gridwidth": 2,
            "linecolor": "#EBF0F8",
            "showbackground": true,
            "ticks": "",
            "zerolinecolor": "#EBF0F8"
           },
           "zaxis": {
            "backgroundcolor": "white",
            "gridcolor": "#DFE8F3",
            "gridwidth": 2,
            "linecolor": "#EBF0F8",
            "showbackground": true,
            "ticks": "",
            "zerolinecolor": "#EBF0F8"
           }
          },
          "shapedefaults": {
           "line": {
            "color": "#2a3f5f"
           }
          },
          "ternary": {
           "aaxis": {
            "gridcolor": "#DFE8F3",
            "linecolor": "#A2B1C6",
            "ticks": ""
           },
           "baxis": {
            "gridcolor": "#DFE8F3",
            "linecolor": "#A2B1C6",
            "ticks": ""
           },
           "bgcolor": "white",
           "caxis": {
            "gridcolor": "#DFE8F3",
            "linecolor": "#A2B1C6",
            "ticks": ""
           }
          },
          "title": {
           "x": 0.05
          },
          "xaxis": {
           "automargin": true,
           "gridcolor": "#EBF0F8",
           "linecolor": "#EBF0F8",
           "ticks": "",
           "title": {
            "standoff": 15
           },
           "zerolinecolor": "#EBF0F8",
           "zerolinewidth": 2
          },
          "yaxis": {
           "automargin": true,
           "gridcolor": "#EBF0F8",
           "linecolor": "#EBF0F8",
           "ticks": "",
           "title": {
            "standoff": 15
           },
           "zerolinecolor": "#EBF0F8",
           "zerolinewidth": 2
          }
         }
        },
        "updatemenus": [
         {
          "buttons": [
           {
            "args": [
             {
              "visible": [
               true,
               true,
               true,
               true,
               true,
               false,
               false,
               false,
               false,
               false,
               false,
               false,
               false,
               false,
               false,
               false,
               false,
               false,
               false,
               false,
               false,
               false,
               false,
               false,
               false,
               false,
               false,
               false,
               false,
               false,
               false,
               false,
               false,
               false,
               false,
               false,
               false,
               false,
               false,
               false
              ]
             }
            ],
            "label": "ID: 40",
            "method": "restyle"
           },
           {
            "args": [
             {
              "visible": [
               false,
               false,
               false,
               false,
               false,
               true,
               true,
               true,
               true,
               true,
               false,
               false,
               false,
               false,
               false,
               false,
               false,
               false,
               false,
               false,
               false,
               false,
               false,
               false,
               false,
               false,
               false,
               false,
               false,
               false,
               false,
               false,
               false,
               false,
               false,
               false,
               false,
               false,
               false,
               false
              ]
             }
            ],
            "label": "ID: 94",
            "method": "restyle"
           },
           {
            "args": [
             {
              "visible": [
               false,
               false,
               false,
               false,
               false,
               false,
               false,
               false,
               false,
               false,
               true,
               true,
               true,
               true,
               true,
               false,
               false,
               false,
               false,
               false,
               false,
               false,
               false,
               false,
               false,
               false,
               false,
               false,
               false,
               false,
               false,
               false,
               false,
               false,
               false,
               false,
               false,
               false,
               false,
               false
              ]
             }
            ],
            "label": "ID: 95",
            "method": "restyle"
           },
           {
            "args": [
             {
              "visible": [
               false,
               false,
               false,
               false,
               false,
               false,
               false,
               false,
               false,
               false,
               false,
               false,
               false,
               false,
               false,
               true,
               true,
               true,
               true,
               true,
               false,
               false,
               false,
               false,
               false,
               false,
               false,
               false,
               false,
               false,
               false,
               false,
               false,
               false,
               false,
               false,
               false,
               false,
               false,
               false
              ]
             }
            ],
            "label": "ID: 136",
            "method": "restyle"
           },
           {
            "args": [
             {
              "visible": [
               false,
               false,
               false,
               false,
               false,
               false,
               false,
               false,
               false,
               false,
               false,
               false,
               false,
               false,
               false,
               false,
               false,
               false,
               false,
               false,
               true,
               true,
               true,
               true,
               true,
               false,
               false,
               false,
               false,
               false,
               false,
               false,
               false,
               false,
               false,
               false,
               false,
               false,
               false,
               false
              ]
             }
            ],
            "label": "ID: 140",
            "method": "restyle"
           },
           {
            "args": [
             {
              "visible": [
               false,
               false,
               false,
               false,
               false,
               false,
               false,
               false,
               false,
               false,
               false,
               false,
               false,
               false,
               false,
               false,
               false,
               false,
               false,
               false,
               false,
               false,
               false,
               false,
               false,
               true,
               true,
               true,
               true,
               true,
               false,
               false,
               false,
               false,
               false,
               false,
               false,
               false,
               false,
               false
              ]
             }
            ],
            "label": "ID: 155",
            "method": "restyle"
           },
           {
            "args": [
             {
              "visible": [
               false,
               false,
               false,
               false,
               false,
               false,
               false,
               false,
               false,
               false,
               false,
               false,
               false,
               false,
               false,
               false,
               false,
               false,
               false,
               false,
               false,
               false,
               false,
               false,
               false,
               false,
               false,
               false,
               false,
               false,
               true,
               true,
               true,
               true,
               true,
               false,
               false,
               false,
               false,
               false
              ]
             }
            ],
            "label": "ID: 169",
            "method": "restyle"
           },
           {
            "args": [
             {
              "visible": [
               false,
               false,
               false,
               false,
               false,
               false,
               false,
               false,
               false,
               false,
               false,
               false,
               false,
               false,
               false,
               false,
               false,
               false,
               false,
               false,
               false,
               false,
               false,
               false,
               false,
               false,
               false,
               false,
               false,
               false,
               false,
               false,
               false,
               false,
               false,
               true,
               true,
               true,
               true,
               true
              ]
             }
            ],
            "label": "ID: 170",
            "method": "restyle"
           }
          ],
          "direction": "right",
          "pad": {
           "r": 0,
           "t": -10
          },
          "showactive": true,
          "type": "buttons",
          "x": 0,
          "xanchor": "left",
          "y": 1.1,
          "yanchor": "top"
         }
        ]
       }
      }
     },
     "metadata": {}
    }
   ],
   "source": [
    "#\n",
    "# Visualisation of the spread of optimised model parameters for multiple runs from different initial points.\n",
    "#\n",
    "# This cell needs the above optimised parameters, and their respective objective function scores, as well as the data\n",
    "# [mouse_parameters, log_posterior_scores, data]\n",
    "#\n",
    "\n",
    "import plotly.colors\n",
    "import plotly.graph_objects as go\n",
    "\n",
    "\n",
    "# Get mouse ids\n",
    "mouse_ids = data['#ID'].unique()\n",
    "\n",
    "# Get number of parameters + score (for visualisation)\n",
    "n_params = mouse_parameters.shape[2] + 1\n",
    "\n",
    "# Define colorscheme\n",
    "colors = plotly.colors.qualitative.Plotly[:n_params]\n",
    "\n",
    "# Get optimised parameters\n",
    "optimised_parameters = mouse_parameters\n",
    "\n",
    "# Get optimised parameters\n",
    "scores = log_posterior_scores\n",
    "\n",
    "# Create figure\n",
    "fig = go.Figure()\n",
    "\n",
    "# Box plot of optimised model parameters\n",
    "for index, id_m in enumerate(mouse_ids):\n",
    "    # Get optimised parameters\n",
    "    parameters = optimised_parameters[index, ...]\n",
    "\n",
    "    # Get scores\n",
    "    score = scores[index, :]\n",
    "\n",
    "    # Create box plot of for initial tumour volume\n",
    "    fig.add_trace(\n",
    "        go.Box(\n",
    "            y=parameters[:, 0],  \n",
    "            name=\"Initial tumour volume in cm^3\",\n",
    "            boxpoints='all',\n",
    "            jitter=0.2,\n",
    "            pointpos=-1.5,\n",
    "            visible=True if index == 0 else False,\n",
    "            marker=dict(\n",
    "                symbol='circle',\n",
    "                opacity=0.7,\n",
    "                line=dict(color='black', width=1)),\n",
    "            marker_color=colors[0],\n",
    "            line_color=colors[0]))\n",
    "\n",
    "    # Create box plot for critical volume\n",
    "    fig.add_trace(\n",
    "        go.Box(\n",
    "            y=parameters[:, 1],  \n",
    "            name=\"Critical volume in cm^3\",\n",
    "            boxpoints='all',\n",
    "            jitter=0.2,\n",
    "            pointpos=-1.5,\n",
    "            visible=True if index == 0 else False,\n",
    "            marker=dict(\n",
    "                symbol='circle',\n",
    "                opacity=0.7,\n",
    "                line=dict(color='black', width=1)),\n",
    "            marker_color=colors[1],\n",
    "            line_color=colors[1]))\n",
    "\n",
    "    # Create box plot of for exponential tumour growth\n",
    "    fig.add_trace(\n",
    "        go.Box(\n",
    "            y=parameters[:, 2],  \n",
    "            name=\"Exponential growth rate in 1/day\",\n",
    "            boxpoints='all',\n",
    "            jitter=0.2,\n",
    "            pointpos=-1.5,\n",
    "            visible=True if index == 0 else False,\n",
    "            marker=dict(\n",
    "                symbol='circle',\n",
    "                opacity=0.7,\n",
    "                line=dict(color='black', width=1)),\n",
    "            marker_color=colors[2],\n",
    "            line_color=colors[2]))\n",
    "\n",
    "    # Create box plot for sigma\n",
    "    fig.add_trace(\n",
    "        go.Box(\n",
    "            y=parameters[:, 3],  \n",
    "            name=\"Standard deviation in cm^3\",\n",
    "            boxpoints='all',\n",
    "            jitter=0.2,\n",
    "            pointpos=-1.5,\n",
    "            visible=True if index == 0 else False,\n",
    "            marker=dict(\n",
    "                symbol='circle',\n",
    "                opacity=0.7,\n",
    "                line=dict(color='black', width=1)),\n",
    "            marker_color=colors[3],\n",
    "            line_color=colors[3]))\n",
    "    \n",
    "    # Create box plot of for objective function score\n",
    "    fig.add_trace(\n",
    "        go.Box(\n",
    "            y=score,  \n",
    "            name=\"Unnorm. log-posterior score\",\n",
    "            boxpoints='all',\n",
    "            jitter=0.2,\n",
    "            pointpos=-1.5,\n",
    "            visible=True if index == 0 else False,\n",
    "            marker=dict(\n",
    "                symbol='circle',\n",
    "                opacity=0.7,\n",
    "                line=dict(color='black', width=1)),\n",
    "            marker_color=colors[4],\n",
    "            line_color=colors[4]))\n",
    "\n",
    "# Set figure size\n",
    "fig.update_layout(\n",
    "    autosize=True,\n",
    "    template=\"plotly_white\")\n",
    "\n",
    "# Add switch between mice\n",
    "fig.update_layout(\n",
    "    updatemenus=[\n",
    "        dict(\n",
    "            type = \"buttons\",\n",
    "            direction = \"right\",\n",
    "            buttons=list([\n",
    "                dict(\n",
    "                    args=[{\"visible\": [True]*5 + [False]*(5 * 7)}],\n",
    "                    label=\"ID: %d\" % mouse_ids[0],\n",
    "                    method=\"restyle\"\n",
    "                ),\n",
    "                dict(\n",
    "                    args=[{\"visible\": [False]*5 + [True]*5 + [False]*(5 * 6)}],\n",
    "                    label=\"ID: %d\" % mouse_ids[1],\n",
    "                    method=\"restyle\"\n",
    "                ),\n",
    "                dict(\n",
    "                    args=[{\"visible\": [False]*(5 * 2) + [True]*5 + [False]*(5 * 5)}],\n",
    "                    label=\"ID: %d\" % mouse_ids[2],\n",
    "                    method=\"restyle\"\n",
    "                ),\n",
    "                dict(\n",
    "                    args=[{\"visible\": [False]*(5 * 3) + [True]*5 + [False]*(5 * 4)}],\n",
    "                    label=\"ID: %d\" % mouse_ids[3],\n",
    "                    method=\"restyle\"\n",
    "                ),\n",
    "                dict(\n",
    "                    args=[{\"visible\": [False]*(5 * 4) + [True]*5 + [False]*(5 * 3)}],\n",
    "                    label=\"ID: %d\" % mouse_ids[4],\n",
    "                    method=\"restyle\"\n",
    "                ),\n",
    "                dict(\n",
    "                    args=[{\"visible\": [False]*(5 * 5) + [True]*5 + [False]*(5 * 2)}],\n",
    "                    label=\"ID: %d\" % mouse_ids[5],\n",
    "                    method=\"restyle\"\n",
    "                ),\n",
    "                dict(\n",
    "                    args=[{\"visible\": [False]*(5 * 6) + [True]*5 + [False]* 5}],\n",
    "                    label=\"ID: %d\" % mouse_ids[6],\n",
    "                    method=\"restyle\"\n",
    "                ),\n",
    "                dict(\n",
    "                    args=[{\"visible\": [False]*(5 * 7) + [True]*5}],\n",
    "                    label=\"ID: %d\" % mouse_ids[7],\n",
    "                    method=\"restyle\"\n",
    "                )\n",
    "            ]),\n",
    "            pad={\"r\": 0, \"t\": -10},\n",
    "            showactive=True,\n",
    "            x=0.0,\n",
    "            xanchor=\"left\",\n",
    "            y=1.1,\n",
    "            yanchor=\"top\"\n",
    "        )\n",
    "    ]\n",
    ")\n",
    "\n",
    "# Position legend\n",
    "fig.update_layout(legend=dict(\n",
    "    yanchor=\"bottom\",\n",
    "    y=0.01,\n",
    "    xanchor=\"left\",\n",
    "    x=1.05))\n",
    "\n",
    "# Show figure\n",
    "fig.show()\n"
   ]
  },
  {
   "cell_type": "markdown",
   "metadata": {},
   "source": [
    "** Figure 2 - Independent noise:** Scatter and box plot of the structural and error model parameter estimates $(\\hat \\psi , \\hat \\sigma )$ found by maximising the log-posterior for each mouse using a CMA-ES optimiser. The structural model parameters $\\psi $ were assigned log-uniform priors, while the noise parameter $\\sigma $ was assigned with a Half-Cauchy prior. For each mouse the optimisation routine was run 10 times from a starting point randomly sampled from the prior. In addition to the parameter estimates, also the distribution of the associated unnormalised log-posterior scores is presented."
   ]
  },
  {
   "cell_type": "markdown",
   "metadata": {},
   "source": [
    "Discussion"
   ]
  },
  {
   "cell_type": "markdown",
   "metadata": {},
   "source": [
    "### Visual check: Validity of error model\n",
    "\n",
    "- Predict tumour growth with structural model using median of optimised model parameters\n",
    "\n",
    "- Plot\n",
    "    1. Structural model predictions versus observations\n",
    "    2. Residulas versus observations\n",
    "\n",
    "- Both plots should include 1, 2, 3 sigma intervals of inferred model."
   ]
  },
  {
   "cell_type": "code",
   "execution_count": null,
   "metadata": {},
   "outputs": [],
   "source": [
    "#\n",
    "# Compute structural model predictions for each mouse.\n",
    "#\n",
    "# This cell needs the aboove optimised model parameters and the data:\n",
    "# [mouse_parameters, data]\n",
    "#\n",
    "\n",
    "import numpy as np\n",
    "\n",
    "\n",
    "# Create container for predicted tumour volumes\n",
    "predicted_volumes = np.empty()\n",
    "\n",
    "# Get median parameters from the optimisation runs for each mouse\n",
    "parameters = np.median(mouse_parameters, axis=1)\n",
    "\n"
   ]
  },
  {
   "cell_type": "code",
   "execution_count": null,
   "metadata": {},
   "outputs": [],
   "source": []
  },
  {
   "cell_type": "code",
   "execution_count": 5,
   "metadata": {
    "tags": []
   },
   "outputs": [
    {
     "output_type": "display_data",
     "data": {
      "text/plain": "HBox(children=(FloatProgress(value=1.0, bar_style='info', max=1.0), HTML(value='')))",
      "application/vnd.jupyter.widget-view+json": {
       "version_major": 2,
       "version_minor": 0,
       "model_id": "58ef3e18817c4f7294c5a208b913a82d"
      }
     },
     "metadata": {}
    },
    {
     "output_type": "stream",
     "name": "stdout",
     "text": "\n"
    }
   ],
   "source": [
    "#\n",
    "# Run optimisation multiple times from random initial starting points.\n",
    "#\n",
    "# This cell needs the above defined wrapped myokit model:\n",
    "# [DimensionlessLogTransformedPintsModel]\n",
    "#\n",
    "\n",
    "import os\n",
    "\n",
    "import myokit\n",
    "import numpy as np\n",
    "import pandas as pd\n",
    "import pints\n",
    "from tqdm.notebook import tqdm\n",
    "\n",
    "import pkpd.likelihoods\n",
    "\n",
    "\n",
    "# Define characteristic scales\n",
    "characteristic_volume = 1  # in cm^3\n",
    "characteristic_time = 1  # in day\n",
    "\n",
    "# Define number of optimisation runs for each individual\n",
    "n_runs = 10\n",
    "\n",
    "# Import data\n",
    "# Get path of current working directory\n",
    "path = os.getcwd()\n",
    "\n",
    "# Import LXF A677 control growth data\n",
    "data = pd.read_csv(path + '/data/lxf_control_growth.csv')\n",
    "n_mice = len(data['#ID'].unique())\n",
    "\n",
    "# Define container for the structural model estimates\n",
    "# Shape (n_mice, n_runs, n_structural_params + n_noise_params)\n",
    "n_structural_params = 3\n",
    "n_noise_params = 1\n",
    "mouse_parameters = np.empty(shape=(n_mice, n_runs, n_structural_params + n_noise_params))\n",
    "total_n_parameters = n_mice * n_structural_params + n_noise_params\n",
    "\n",
    "# Define container for the objective function score for the optimised parameters\n",
    "mouse_scores = np.empty(shape=n_runs)\n",
    "\n",
    "# Define random starting points over many orders of magnitude\n",
    "# Shape = (n_runs, n_mice * n_parameters +1)\n",
    "# For each mouse 3 structural parameters, and one shared noise parameter\n",
    "initial_parameters = np.random.uniform(low=1E-3, high=1E1, size=(n_runs, total_n_parameters))\n",
    "\n",
    "# Create inverse problems for the LXF A677 population\n",
    "problems = []\n",
    "mouse_ids = data['#ID'].unique()\n",
    "for mouse_id in mouse_ids:\n",
    "    # Create mask for mouse with specfied ID\n",
    "    mouse_mask = data['#ID'] == mouse_id\n",
    "\n",
    "    # Get relevant time points\n",
    "    times = data[mouse_mask]['TIME in day'].to_numpy() / characteristic_time\n",
    "\n",
    "    # Get measured tumour volumes\n",
    "    observed_volumes = data[mouse_mask]['TUMOUR VOLUME in cm^3'].to_numpy() / characteristic_volume\n",
    "\n",
    "    # Create inverse problem\n",
    "    problems.append(\n",
    "        pints.SingleOutputProblem(\n",
    "            DimensionlessLogTransformedPintsModel(), times, observed_volumes))\n",
    "\n",
    "# Create likelihood assuming a constant Gaussian noise\n",
    "log_likelihood = pkpd.likelihoods.SharedNoiseLogLikelihood(\n",
    "    problems=problems, log_likelihood=pints.GaussianLogLikelihood)\n",
    "\n",
    "# Create prior to biologically relevant values\n",
    "log_prior_structural_params = pints.UniformLogPrior(\n",
    "    lower_or_boundaries=np.log([1E-3] * (total_n_parameters - 1)),\n",
    "    upper=np.log([1E3] * (total_n_parameters - 1)))\n",
    "log_prior_sigma = pints.HalfCauchyLogPrior(location=0, scale=3)\n",
    "log_prior = pints.ComposedLogPrior(log_prior_structural_params, log_prior_sigma)\n",
    "\n",
    "# Create posterior\n",
    "log_posterior = pints.LogPosterior(log_likelihood, log_prior)\n",
    "\n",
    "# Define initial starting points by sampling from prior\n",
    "initial_parameters = log_prior.sample(n=n_runs)\n",
    "\n",
    "# boundary = pints.RectangularBoundaries(\n",
    "#     lower=[np.log(1E-3)] * (total_n_parameters - 1) + [1E-3], \n",
    "#     upper=[np.log(1E3)] * (total_n_parameters - 1) + [1E1])\n",
    "\n",
    "# Run optimisation multiple times\n",
    "for run_id, initial_params in tqdm(enumerate(initial_parameters)):\n",
    "\n",
    "    # Create optimisation controller with a CMA-ES optimiser\n",
    "    optimiser = pints.OptimisationController(\n",
    "        function=log_posterior,\n",
    "        x0=initial_params,\n",
    "        method=pints.CMAES)\n",
    "\n",
    "    # Disable logging mode\n",
    "    optimiser.set_log_to_screen(False)\n",
    "\n",
    "    # Parallelise optimisation\n",
    "    optimiser.set_parallel(True)\n",
    "\n",
    "    # TODO: Remove this\n",
    "    optimiser.set_max_iterations(500)\n",
    "\n",
    "    # Find optimal parameters\n",
    "    try:\n",
    "        estimates, score = optimiser.run()\n",
    "    except:\n",
    "        # If inference breaks fill estimates with nan\n",
    "        estimates = np.array([np.nan] * total_n_parameters)\n",
    "        score = np.nan\n",
    "\n",
    "    # Save estimates and score (back transformed to linear scale)\n",
    "    # Noise parameter is not on log-scale\n",
    "    estimates[:-n_noise_params] = np.exp(estimates[:-n_noise_params])\n",
    "    for index, _ in enumerate(mouse_ids):\n",
    "        # Match mice with structural model parameters\n",
    "        mouse_parameters[index, run_id, :-n_noise_params:] = np.exp(\n",
    "            estimates[index * n_structural_params:(index + 1) * n_structural_params])\n",
    "    \n",
    "    # Get noise parameter\n",
    "    mouse_parameters[:, run_id, -n_noise_params:] = np.array(np.repeat(\n",
    "        a=estimates[-n_noise_params:, np.newaxis], repeats=n_mice, axis=0))\n",
    "    mouse_scores[run_id] = score"
   ]
  },
  {
   "cell_type": "code",
   "execution_count": 6,
   "metadata": {},
   "outputs": [],
   "source": [
    "#\n",
    "# Transform dimensionless parameters to new set of biological parameters.\n",
    "# \n",
    "# This cell needs the above inferred dimensionless parameters and the characteristic volume and time scale:\n",
    "# [mouse_parameters, characteristic_volume, characteristic_time]\n",
    "#\n",
    "\n",
    "import numpy as np\n",
    "\n",
    "\n",
    "# Initialise container for backtransformed paramters\n",
    "# Shape (n_mice, n_runs, n_parameters)\n",
    "new_parameters = np.empty(shape=mouse_parameters.shape)\n",
    "\n",
    "# Transform initial volumes\n",
    "mouse_parameters[:, :, 0] = mouse_parameters[:, :, 0] * characteristic_volume\n",
    "\n",
    "# Transform critical volume \n",
    "# V_crit = a_0 * V^c\n",
    "mouse_parameters[:, :, 1] = mouse_parameters[:, :, 1] * characteristic_volume\n",
    "\n",
    "# Transform exponential growth rate\n",
    "# lambda = a_1 / a_0 / t^c\n",
    "mouse_parameters[:, :, 2] = \\\n",
    "    mouse_parameters[:, :, 2] / mouse_parameters[:, :, 1] / characteristic_time"
   ]
  },
  {
   "cell_type": "code",
   "execution_count": 7,
   "metadata": {},
   "outputs": [
    {
     "output_type": "display_data",
     "data": {
      "application/vnd.plotly.v1+json": {
       "config": {
        "plotlyServerURL": "https://plot.ly"
       },
       "data": [
        {
         "boxpoints": "all",
         "jitter": 0.2,
         "line": {
          "color": "#636EFA"
         },
         "marker": {
          "color": "#636EFA",
          "line": {
           "color": "black",
           "width": 1
          },
          "opacity": 0.7,
          "symbol": "circle"
         },
         "name": "Initial tumour volume in cm^3",
         "pointpos": -1.5,
         "type": "box",
         "visible": true,
         "y": [
          1.0564376933041582,
          1.113813450011091,
          1.027251602779547,
          1.0290010800189044,
          1.1337073013829604,
          1.0306434793972077,
          1.0013836884507277,
          2.979585527234177,
          1.170742889595271,
          1.096040230262255
         ]
        },
        {
         "boxpoints": "all",
         "jitter": 0.2,
         "line": {
          "color": "#EF553B"
         },
         "marker": {
          "color": "#EF553B",
          "line": {
           "color": "black",
           "width": 1
          },
          "opacity": 0.7,
          "symbol": "circle"
         },
         "name": "Critical volume in cm^3",
         "pointpos": -1.5,
         "type": "box",
         "visible": true,
         "y": [
          1.0017586195993278,
          1.001961055853451,
          1.0187125921695528,
          1.050602050967835,
          1.1707673532443303,
          32.06623480596406,
          1.0057179946142667,
          31.694846644032452,
          1.308267397036218,
          1.0011565359995795
         ]
        },
        {
         "boxpoints": "all",
         "jitter": 0.2,
         "line": {
          "color": "#00CC96"
         },
         "marker": {
          "color": "#00CC96",
          "line": {
           "color": "black",
           "width": 1
          },
          "opacity": 0.7,
          "symbol": "circle"
         },
         "name": "Exponential growth rate in 1/day",
         "pointpos": -1.5,
         "type": "box",
         "visible": true,
         "y": [
          1.1044154381136195,
          1.0988537624442434,
          1.0901913735581676,
          1.0671957928746927,
          0.9633753900838757,
          0.03602086257595888,
          1.1033690185275824,
          0.031636301223474765,
          0.8725692864154301,
          1.1009201839602203
         ]
        },
        {
         "boxpoints": "all",
         "jitter": 0.2,
         "line": {
          "color": "#AB63FA"
         },
         "marker": {
          "color": "#AB63FA",
          "line": {
           "color": "black",
           "width": 1
          },
          "opacity": 0.7,
          "symbol": "circle"
         },
         "name": "Standard deviation in cm^3",
         "pointpos": -1.5,
         "type": "box",
         "visible": true,
         "y": [
          0.15829257262823432,
          0.32899572710993885,
          0.19167696381747273,
          0.17032344572254576,
          0.11593627828598164,
          0.4795687512769207,
          0.182487596509829,
          0.24122918840825278,
          0.15629715515998302,
          0.13412348654935644
         ]
        },
        {
         "boxpoints": "all",
         "jitter": 0.2,
         "line": {
          "color": "#FFA15A"
         },
         "marker": {
          "color": "#FFA15A",
          "line": {
           "color": "black",
           "width": 1
          },
          "opacity": 0.7,
          "symbol": "circle"
         },
         "name": "Score",
         "pointpos": -1.5,
         "type": "box",
         "visible": true,
         "y": [
          -26.51247346027624,
          -95.6611417594053,
          -39.61675207408105,
          -29.580955286285118,
          11.422956328152935,
          -134.43374912137665,
          -34.418705498945904,
          -64.45091577150987,
          -21.39892253133302,
          -4.248341131470923
         ]
        },
        {
         "boxpoints": "all",
         "jitter": 0.2,
         "line": {
          "color": "#636EFA"
         },
         "marker": {
          "color": "#636EFA",
          "line": {
           "color": "black",
           "width": 1
          },
          "opacity": 0.7,
          "symbol": "circle"
         },
         "name": "Initial tumour volume in cm^3",
         "pointpos": -1.5,
         "type": "box",
         "visible": false,
         "y": [
          1.0644403721138733,
          1.1341212911812295,
          1.133701793760723,
          1.1406869902261492,
          1.1510652342622945,
          1.003711864610111,
          1.0508990849747566,
          1.3217773465875815,
          1.0803233803559384,
          1.1356483114155593
         ]
        },
        {
         "boxpoints": "all",
         "jitter": 0.2,
         "line": {
          "color": "#EF553B"
         },
         "marker": {
          "color": "#EF553B",
          "line": {
           "color": "black",
           "width": 1
          },
          "opacity": 0.7,
          "symbol": "circle"
         },
         "name": "Critical volume in cm^3",
         "pointpos": -1.5,
         "type": "box",
         "visible": false,
         "y": [
          4.306116012920316e+106,
          2.1819383845953275e+113,
          328.6838710588062,
          8.318202759489549e+80,
          3.392465811832214,
          1.009695978053749,
          1.7548863569577249,
          998250531.9783044,
          1.1264932766244287,
          27988246238903.938
         ]
        },
        {
         "boxpoints": "all",
         "jitter": 0.2,
         "line": {
          "color": "#00CC96"
         },
         "marker": {
          "color": "#00CC96",
          "line": {
           "color": "black",
           "width": 1
          },
          "opacity": 0.7,
          "symbol": "circle"
         },
         "name": "Exponential growth rate in 1/day",
         "pointpos": -1.5,
         "type": "box",
         "visible": false,
         "y": [
          2.393734720119759e-107,
          3.428323912355901e-108,
          0.004190065686431532,
          1.6271321125128062e-77,
          0.3163683117066981,
          1.0142103487816594,
          0.6113928215538654,
          1.0030752031139983e-9,
          0.9097224393550498,
          1.853775241188247e-13
         ]
        },
        {
         "boxpoints": "all",
         "jitter": 0.2,
         "line": {
          "color": "#AB63FA"
         },
         "marker": {
          "color": "#AB63FA",
          "line": {
           "color": "black",
           "width": 1
          },
          "opacity": 0.7,
          "symbol": "circle"
         },
         "name": "Standard deviation in cm^3",
         "pointpos": -1.5,
         "type": "box",
         "visible": false,
         "y": [
          0.15829257262823432,
          0.32899572710993885,
          0.19167696381747273,
          0.17032344572254576,
          0.11593627828598164,
          0.4795687512769207,
          0.182487596509829,
          0.24122918840825278,
          0.15629715515998302,
          0.13412348654935644
         ]
        },
        {
         "boxpoints": "all",
         "jitter": 0.2,
         "line": {
          "color": "#FFA15A"
         },
         "marker": {
          "color": "#FFA15A",
          "line": {
           "color": "black",
           "width": 1
          },
          "opacity": 0.7,
          "symbol": "circle"
         },
         "name": "Score",
         "pointpos": -1.5,
         "type": "box",
         "visible": false,
         "y": [
          -26.51247346027624,
          -95.6611417594053,
          -39.61675207408105,
          -29.580955286285118,
          11.422956328152935,
          -134.43374912137665,
          -34.418705498945904,
          -64.45091577150987,
          -21.39892253133302,
          -4.248341131470923
         ]
        },
        {
         "boxpoints": "all",
         "jitter": 0.2,
         "line": {
          "color": "#636EFA"
         },
         "marker": {
          "color": "#636EFA",
          "line": {
           "color": "black",
           "width": 1
          },
          "opacity": 0.7,
          "symbol": "circle"
         },
         "name": "Initial tumour volume in cm^3",
         "pointpos": -1.5,
         "type": "box",
         "visible": false,
         "y": [
          1.250344713286392,
          1.2266100817015404,
          1.2355477369558747,
          1.00690417301963,
          1.1934378239392889,
          1.110678672023882,
          1.2527260812662795,
          1.197953065768435,
          1.0092214078701347,
          1.2112374624171496
         ]
        },
        {
         "boxpoints": "all",
         "jitter": 0.2,
         "line": {
          "color": "#EF553B"
         },
         "marker": {
          "color": "#EF553B",
          "line": {
           "color": "black",
           "width": 1
          },
          "opacity": 0.7,
          "symbol": "circle"
         },
         "name": "Critical volume in cm^3",
         "pointpos": -1.5,
         "type": "box",
         "visible": false,
         "y": [
          3.36771897253456e+71,
          63052.0757892338,
          20116.26713233345,
          1.0151694386608645,
          15.672072476529866,
          2.860855360709595,
          2.074294150584747e+107,
          10716208508.169476,
          1.0945307073904242,
          74.47344491220606
         ]
        },
        {
         "boxpoints": "all",
         "jitter": 0.2,
         "line": {
          "color": "#00CC96"
         },
         "marker": {
          "color": "#00CC96",
          "line": {
           "color": "black",
           "width": 1
          },
          "opacity": 0.7,
          "symbol": "circle"
         },
         "name": "Exponential growth rate in 1/day",
         "pointpos": -1.5,
         "type": "box",
         "visible": false,
         "y": [
          1.86880554995481e-64,
          0.00006152301218946176,
          0.00016292605686088574,
          1.0791728212914244,
          0.09741838425245737,
          0.45322427873248433,
          2.694908998757505e-96,
          1.6493811648768225e-9,
          1.0256298806583448,
          0.02444877866492171
         ]
        },
        {
         "boxpoints": "all",
         "jitter": 0.2,
         "line": {
          "color": "#AB63FA"
         },
         "marker": {
          "color": "#AB63FA",
          "line": {
           "color": "black",
           "width": 1
          },
          "opacity": 0.7,
          "symbol": "circle"
         },
         "name": "Standard deviation in cm^3",
         "pointpos": -1.5,
         "type": "box",
         "visible": false,
         "y": [
          0.15829257262823432,
          0.32899572710993885,
          0.19167696381747273,
          0.17032344572254576,
          0.11593627828598164,
          0.4795687512769207,
          0.182487596509829,
          0.24122918840825278,
          0.15629715515998302,
          0.13412348654935644
         ]
        },
        {
         "boxpoints": "all",
         "jitter": 0.2,
         "line": {
          "color": "#FFA15A"
         },
         "marker": {
          "color": "#FFA15A",
          "line": {
           "color": "black",
           "width": 1
          },
          "opacity": 0.7,
          "symbol": "circle"
         },
         "name": "Score",
         "pointpos": -1.5,
         "type": "box",
         "visible": false,
         "y": [
          -26.51247346027624,
          -95.6611417594053,
          -39.61675207408105,
          -29.580955286285118,
          11.422956328152935,
          -134.43374912137665,
          -34.418705498945904,
          -64.45091577150987,
          -21.39892253133302,
          -4.248341131470923
         ]
        },
        {
         "boxpoints": "all",
         "jitter": 0.2,
         "line": {
          "color": "#636EFA"
         },
         "marker": {
          "color": "#636EFA",
          "line": {
           "color": "black",
           "width": 1
          },
          "opacity": 0.7,
          "symbol": "circle"
         },
         "name": "Initial tumour volume in cm^3",
         "pointpos": -1.5,
         "type": "box",
         "visible": false,
         "y": [
          1.152972365637227,
          1.2139034902900614,
          1.8227323446488815,
          1.0042203279686015,
          1.099834276108433,
          1.0312722467316209,
          1.0812250132235643,
          1.2771166316387026,
          1.01471313095457,
          1.2035201693858413
         ]
        },
        {
         "boxpoints": "all",
         "jitter": 0.2,
         "line": {
          "color": "#EF553B"
         },
         "marker": {
          "color": "#EF553B",
          "line": {
           "color": "black",
           "width": 1
          },
          "opacity": 0.7,
          "symbol": "circle"
         },
         "name": "Critical volume in cm^3",
         "pointpos": -1.5,
         "type": "box",
         "visible": false,
         "y": [
          1.0053297117034754,
          1826567794567.6711,
          6.412443147875471e+59,
          1.0011637280617023,
          1.068455955845778,
          1993.5815357948304,
          1.002042281197242,
          7.977340617529746e+24,
          1.0022855061702414,
          3984.86442428972
         ]
        },
        {
         "boxpoints": "all",
         "jitter": 0.2,
         "line": {
          "color": "#00CC96"
         },
         "marker": {
          "color": "#00CC96",
          "line": {
           "color": "black",
           "width": 1
          },
          "opacity": 0.7,
          "symbol": "circle"
         },
         "name": "Exponential growth rate in 1/day",
         "pointpos": -1.5,
         "type": "box",
         "visible": false,
         "y": [
          1.0307838989822198,
          3.781921989540541e-12,
          1.562487205978357e-60,
          1.040101340074657,
          0.9773312343485612,
          0.0005021433557076141,
          1.0383749708572145,
          3.73212083056788e-24,
          1.0400463726799882,
          0.0004563253084499197
         ]
        },
        {
         "boxpoints": "all",
         "jitter": 0.2,
         "line": {
          "color": "#AB63FA"
         },
         "marker": {
          "color": "#AB63FA",
          "line": {
           "color": "black",
           "width": 1
          },
          "opacity": 0.7,
          "symbol": "circle"
         },
         "name": "Standard deviation in cm^3",
         "pointpos": -1.5,
         "type": "box",
         "visible": false,
         "y": [
          0.15829257262823432,
          0.32899572710993885,
          0.19167696381747273,
          0.17032344572254576,
          0.11593627828598164,
          0.4795687512769207,
          0.182487596509829,
          0.24122918840825278,
          0.15629715515998302,
          0.13412348654935644
         ]
        },
        {
         "boxpoints": "all",
         "jitter": 0.2,
         "line": {
          "color": "#FFA15A"
         },
         "marker": {
          "color": "#FFA15A",
          "line": {
           "color": "black",
           "width": 1
          },
          "opacity": 0.7,
          "symbol": "circle"
         },
         "name": "Score",
         "pointpos": -1.5,
         "type": "box",
         "visible": false,
         "y": [
          -26.51247346027624,
          -95.6611417594053,
          -39.61675207408105,
          -29.580955286285118,
          11.422956328152935,
          -134.43374912137665,
          -34.418705498945904,
          -64.45091577150987,
          -21.39892253133302,
          -4.248341131470923
         ]
        },
        {
         "boxpoints": "all",
         "jitter": 0.2,
         "line": {
          "color": "#636EFA"
         },
         "marker": {
          "color": "#636EFA",
          "line": {
           "color": "black",
           "width": 1
          },
          "opacity": 0.7,
          "symbol": "circle"
         },
         "name": "Initial tumour volume in cm^3",
         "pointpos": -1.5,
         "type": "box",
         "visible": false,
         "y": [
          1.0379685842861754,
          1.9932972893024024,
          1.001173562383495,
          1.08405641059425,
          1.0705850407116608,
          1.0704239832293063,
          1.0024058298061151,
          1.0064070084929624,
          1.005798377702181,
          1.0135478076605706
         ]
        },
        {
         "boxpoints": "all",
         "jitter": 0.2,
         "line": {
          "color": "#EF553B"
         },
         "marker": {
          "color": "#EF553B",
          "line": {
           "color": "black",
           "width": 1
          },
          "opacity": 0.7,
          "symbol": "circle"
         },
         "name": "Critical volume in cm^3",
         "pointpos": -1.5,
         "type": "box",
         "visible": false,
         "y": [
          1.5277904122048103,
          4.8733057051334464e+291,
          1.2107549275243281,
          42323546.63345348,
          201.64334687480292,
          1.3774882757200522e+52,
          1.2782431250636912,
          1.8369602121066102,
          1.0018677878856777,
          2.385476622549654
         ]
        },
        {
         "boxpoints": "all",
         "jitter": 0.2,
         "line": {
          "color": "#00CC96"
         },
         "marker": {
          "color": "#00CC96",
          "line": {
           "color": "black",
           "width": 1
          },
          "opacity": 0.7,
          "symbol": "circle"
         },
         "name": "Exponential growth rate in 1/day",
         "pointpos": -1.5,
         "type": "box",
         "visible": false,
         "y": [
          0.7308081193752365,
          2.0742793153678007e-292,
          0.9200686768339565,
          1.7083511789963548e-7,
          0.009713458322389944,
          8.351635260763998e-47,
          0.8791995008911113,
          0.653661068005676,
          1.0498506750742223,
          0.5188308346119679
         ]
        },
        {
         "boxpoints": "all",
         "jitter": 0.2,
         "line": {
          "color": "#AB63FA"
         },
         "marker": {
          "color": "#AB63FA",
          "line": {
           "color": "black",
           "width": 1
          },
          "opacity": 0.7,
          "symbol": "circle"
         },
         "name": "Standard deviation in cm^3",
         "pointpos": -1.5,
         "type": "box",
         "visible": false,
         "y": [
          0.15829257262823432,
          0.32899572710993885,
          0.19167696381747273,
          0.17032344572254576,
          0.11593627828598164,
          0.4795687512769207,
          0.182487596509829,
          0.24122918840825278,
          0.15629715515998302,
          0.13412348654935644
         ]
        },
        {
         "boxpoints": "all",
         "jitter": 0.2,
         "line": {
          "color": "#FFA15A"
         },
         "marker": {
          "color": "#FFA15A",
          "line": {
           "color": "black",
           "width": 1
          },
          "opacity": 0.7,
          "symbol": "circle"
         },
         "name": "Score",
         "pointpos": -1.5,
         "type": "box",
         "visible": false,
         "y": [
          -26.51247346027624,
          -95.6611417594053,
          -39.61675207408105,
          -29.580955286285118,
          11.422956328152935,
          -134.43374912137665,
          -34.418705498945904,
          -64.45091577150987,
          -21.39892253133302,
          -4.248341131470923
         ]
        },
        {
         "boxpoints": "all",
         "jitter": 0.2,
         "line": {
          "color": "#636EFA"
         },
         "marker": {
          "color": "#636EFA",
          "line": {
           "color": "black",
           "width": 1
          },
          "opacity": 0.7,
          "symbol": "circle"
         },
         "name": "Initial tumour volume in cm^3",
         "pointpos": -1.5,
         "type": "box",
         "visible": false,
         "y": [
          1.1938673527915962,
          2.758424673958128,
          1.2252106075931712,
          1.0985775231976613,
          1.0590692424624182,
          1.2625120515102704,
          1.2018105141841389,
          1.3147584963869374,
          1.1460404679212444,
          1.1956565582411611
         ]
        },
        {
         "boxpoints": "all",
         "jitter": 0.2,
         "line": {
          "color": "#EF553B"
         },
         "marker": {
          "color": "#EF553B",
          "line": {
           "color": "black",
           "width": 1
          },
          "opacity": 0.7,
          "symbol": "circle"
         },
         "name": "Critical volume in cm^3",
         "pointpos": -1.5,
         "type": "box",
         "visible": false,
         "y": [
          2.248698793004329,
          2.2854229083735832e+36,
          2.155128516863205,
          1.1565670447714091,
          1.0719336947178806,
          20.16914608329557,
          1.1040481675633285,
          2.366440101547616,
          1.3682757440493913,
          1.834964300512836
         ]
        },
        {
         "boxpoints": "all",
         "jitter": 0.2,
         "line": {
          "color": "#00CC96"
         },
         "marker": {
          "color": "#00CC96",
          "line": {
           "color": "black",
           "width": 1
          },
          "opacity": 0.7,
          "symbol": "circle"
         },
         "name": "Exponential growth rate in 1/day",
         "pointpos": -1.5,
         "type": "box",
         "visible": false,
         "y": [
          0.5212785172174615,
          4.4350335379723915e-37,
          0.538411774199173,
          0.9530241094074167,
          1.01948896000023,
          0.06906780818372897,
          0.9836316413051552,
          0.48620459457557397,
          0.817842999117146,
          0.6256501120159356
         ]
        },
        {
         "boxpoints": "all",
         "jitter": 0.2,
         "line": {
          "color": "#AB63FA"
         },
         "marker": {
          "color": "#AB63FA",
          "line": {
           "color": "black",
           "width": 1
          },
          "opacity": 0.7,
          "symbol": "circle"
         },
         "name": "Standard deviation in cm^3",
         "pointpos": -1.5,
         "type": "box",
         "visible": false,
         "y": [
          0.15829257262823432,
          0.32899572710993885,
          0.19167696381747273,
          0.17032344572254576,
          0.11593627828598164,
          0.4795687512769207,
          0.182487596509829,
          0.24122918840825278,
          0.15629715515998302,
          0.13412348654935644
         ]
        },
        {
         "boxpoints": "all",
         "jitter": 0.2,
         "line": {
          "color": "#FFA15A"
         },
         "marker": {
          "color": "#FFA15A",
          "line": {
           "color": "black",
           "width": 1
          },
          "opacity": 0.7,
          "symbol": "circle"
         },
         "name": "Score",
         "pointpos": -1.5,
         "type": "box",
         "visible": false,
         "y": [
          -26.51247346027624,
          -95.6611417594053,
          -39.61675207408105,
          -29.580955286285118,
          11.422956328152935,
          -134.43374912137665,
          -34.418705498945904,
          -64.45091577150987,
          -21.39892253133302,
          -4.248341131470923
         ]
        },
        {
         "boxpoints": "all",
         "jitter": 0.2,
         "line": {
          "color": "#636EFA"
         },
         "marker": {
          "color": "#636EFA",
          "line": {
           "color": "black",
           "width": 1
          },
          "opacity": 0.7,
          "symbol": "circle"
         },
         "name": "Initial tumour volume in cm^3",
         "pointpos": -1.5,
         "type": "box",
         "visible": false,
         "y": [
          1.0170097924912227,
          1.141306466823712,
          1.1390157009907376,
          1.3811215493189588,
          1.4613576712522585,
          1.418887629240723,
          1.4609750529733423,
          1.1847713182722752,
          1.066965097667525,
          1.4588963256758947
         ]
        },
        {
         "boxpoints": "all",
         "jitter": 0.2,
         "line": {
          "color": "#EF553B"
         },
         "marker": {
          "color": "#EF553B",
          "line": {
           "color": "black",
           "width": 1
          },
          "opacity": 0.7,
          "symbol": "circle"
         },
         "name": "Critical volume in cm^3",
         "pointpos": -1.5,
         "type": "box",
         "visible": false,
         "y": [
          5530223686.01257,
          7.262054267876188,
          8.714483564108052e+289,
          1.020503682719335,
          1438106.1540627182,
          62625237.900318876,
          48.09099464469948,
          4.296438500213171,
          1.001537900474221,
          null
         ]
        },
        {
         "boxpoints": "all",
         "jitter": 0.2,
         "line": {
          "color": "#00CC96"
         },
         "marker": {
          "color": "#00CC96",
          "line": {
           "color": "black",
           "width": 1
          },
          "opacity": 0.7,
          "symbol": "circle"
         },
         "name": "Exponential growth rate in 1/day",
         "pointpos": -1.5,
         "type": "box",
         "visible": false,
         "y": [
          3.969283646203146e-9,
          0.15780196312628333,
          1.9027247543592286e-273,
          0.9847223881483792,
          7.027284666067101e-7,
          1.632433752752686e-8,
          0.020838932697561072,
          0.2547753060289186,
          1.020299305739084,
          0
         ]
        },
        {
         "boxpoints": "all",
         "jitter": 0.2,
         "line": {
          "color": "#AB63FA"
         },
         "marker": {
          "color": "#AB63FA",
          "line": {
           "color": "black",
           "width": 1
          },
          "opacity": 0.7,
          "symbol": "circle"
         },
         "name": "Standard deviation in cm^3",
         "pointpos": -1.5,
         "type": "box",
         "visible": false,
         "y": [
          0.15829257262823432,
          0.32899572710993885,
          0.19167696381747273,
          0.17032344572254576,
          0.11593627828598164,
          0.4795687512769207,
          0.182487596509829,
          0.24122918840825278,
          0.15629715515998302,
          0.13412348654935644
         ]
        },
        {
         "boxpoints": "all",
         "jitter": 0.2,
         "line": {
          "color": "#FFA15A"
         },
         "marker": {
          "color": "#FFA15A",
          "line": {
           "color": "black",
           "width": 1
          },
          "opacity": 0.7,
          "symbol": "circle"
         },
         "name": "Score",
         "pointpos": -1.5,
         "type": "box",
         "visible": false,
         "y": [
          -26.51247346027624,
          -95.6611417594053,
          -39.61675207408105,
          -29.580955286285118,
          11.422956328152935,
          -134.43374912137665,
          -34.418705498945904,
          -64.45091577150987,
          -21.39892253133302,
          -4.248341131470923
         ]
        },
        {
         "boxpoints": "all",
         "jitter": 0.2,
         "line": {
          "color": "#636EFA"
         },
         "marker": {
          "color": "#636EFA",
          "line": {
           "color": "black",
           "width": 1
          },
          "opacity": 0.7,
          "symbol": "circle"
         },
         "name": "Initial tumour volume in cm^3",
         "pointpos": -1.5,
         "type": "box",
         "visible": false,
         "y": [
          1.0569013633595474,
          1.1053800197702641,
          1.3055275496537626,
          1.0014430622353079,
          1.0869130264428748,
          1.139727069043296,
          1.0055676873617678,
          1.1395811800542162,
          1.3342104957810337,
          1.3024531374359132
         ]
        },
        {
         "boxpoints": "all",
         "jitter": 0.2,
         "line": {
          "color": "#EF553B"
         },
         "marker": {
          "color": "#EF553B",
          "line": {
           "color": "black",
           "width": 1
          },
          "opacity": 0.7,
          "symbol": "circle"
         },
         "name": "Critical volume in cm^3",
         "pointpos": -1.5,
         "type": "box",
         "visible": false,
         "y": [
          1.0660098822198172,
          11.491397702473895,
          null,
          4.792925364802547e+141,
          411.3340503791032,
          181607.18581231002,
          11.130755243072597,
          1.0691687383936288,
          2.388184014970315e+215,
          1.1433389087735113
         ]
        },
        {
         "boxpoints": "all",
         "jitter": 0.2,
         "line": {
          "color": "#00CC96"
         },
         "marker": {
          "color": "#00CC96",
          "line": {
           "color": "black",
           "width": 1
          },
          "opacity": 0.7,
          "symbol": "circle"
         },
         "name": "Exponential growth rate in 1/day",
         "pointpos": -1.5,
         "type": "box",
         "visible": false,
         "y": [
          0.961236631482445,
          0.1024764058905557,
          0,
          2.09217930084934e-142,
          0.003671247458490554,
          0.00001043874001118618,
          0.09013308409519569,
          0.9498698725793694,
          4.2718330296701815e-216,
          0.8762977793913399
         ]
        },
        {
         "boxpoints": "all",
         "jitter": 0.2,
         "line": {
          "color": "#AB63FA"
         },
         "marker": {
          "color": "#AB63FA",
          "line": {
           "color": "black",
           "width": 1
          },
          "opacity": 0.7,
          "symbol": "circle"
         },
         "name": "Standard deviation in cm^3",
         "pointpos": -1.5,
         "type": "box",
         "visible": false,
         "y": [
          0.15829257262823432,
          0.32899572710993885,
          0.19167696381747273,
          0.17032344572254576,
          0.11593627828598164,
          0.4795687512769207,
          0.182487596509829,
          0.24122918840825278,
          0.15629715515998302,
          0.13412348654935644
         ]
        },
        {
         "boxpoints": "all",
         "jitter": 0.2,
         "line": {
          "color": "#FFA15A"
         },
         "marker": {
          "color": "#FFA15A",
          "line": {
           "color": "black",
           "width": 1
          },
          "opacity": 0.7,
          "symbol": "circle"
         },
         "name": "Score",
         "pointpos": -1.5,
         "type": "box",
         "visible": false,
         "y": [
          -26.51247346027624,
          -95.6611417594053,
          -39.61675207408105,
          -29.580955286285118,
          11.422956328152935,
          -134.43374912137665,
          -34.418705498945904,
          -64.45091577150987,
          -21.39892253133302,
          -4.248341131470923
         ]
        }
       ],
       "layout": {
        "autosize": true,
        "legend": {
         "x": 1.05,
         "xanchor": "left",
         "y": 0.01,
         "yanchor": "bottom"
        },
        "template": {
         "data": {
          "bar": [
           {
            "error_x": {
             "color": "#2a3f5f"
            },
            "error_y": {
             "color": "#2a3f5f"
            },
            "marker": {
             "line": {
              "color": "white",
              "width": 0.5
             }
            },
            "type": "bar"
           }
          ],
          "barpolar": [
           {
            "marker": {
             "line": {
              "color": "white",
              "width": 0.5
             }
            },
            "type": "barpolar"
           }
          ],
          "carpet": [
           {
            "aaxis": {
             "endlinecolor": "#2a3f5f",
             "gridcolor": "#C8D4E3",
             "linecolor": "#C8D4E3",
             "minorgridcolor": "#C8D4E3",
             "startlinecolor": "#2a3f5f"
            },
            "baxis": {
             "endlinecolor": "#2a3f5f",
             "gridcolor": "#C8D4E3",
             "linecolor": "#C8D4E3",
             "minorgridcolor": "#C8D4E3",
             "startlinecolor": "#2a3f5f"
            },
            "type": "carpet"
           }
          ],
          "choropleth": [
           {
            "colorbar": {
             "outlinewidth": 0,
             "ticks": ""
            },
            "type": "choropleth"
           }
          ],
          "contour": [
           {
            "colorbar": {
             "outlinewidth": 0,
             "ticks": ""
            },
            "colorscale": [
             [
              0,
              "#0d0887"
             ],
             [
              0.1111111111111111,
              "#46039f"
             ],
             [
              0.2222222222222222,
              "#7201a8"
             ],
             [
              0.3333333333333333,
              "#9c179e"
             ],
             [
              0.4444444444444444,
              "#bd3786"
             ],
             [
              0.5555555555555556,
              "#d8576b"
             ],
             [
              0.6666666666666666,
              "#ed7953"
             ],
             [
              0.7777777777777778,
              "#fb9f3a"
             ],
             [
              0.8888888888888888,
              "#fdca26"
             ],
             [
              1,
              "#f0f921"
             ]
            ],
            "type": "contour"
           }
          ],
          "contourcarpet": [
           {
            "colorbar": {
             "outlinewidth": 0,
             "ticks": ""
            },
            "type": "contourcarpet"
           }
          ],
          "heatmap": [
           {
            "colorbar": {
             "outlinewidth": 0,
             "ticks": ""
            },
            "colorscale": [
             [
              0,
              "#0d0887"
             ],
             [
              0.1111111111111111,
              "#46039f"
             ],
             [
              0.2222222222222222,
              "#7201a8"
             ],
             [
              0.3333333333333333,
              "#9c179e"
             ],
             [
              0.4444444444444444,
              "#bd3786"
             ],
             [
              0.5555555555555556,
              "#d8576b"
             ],
             [
              0.6666666666666666,
              "#ed7953"
             ],
             [
              0.7777777777777778,
              "#fb9f3a"
             ],
             [
              0.8888888888888888,
              "#fdca26"
             ],
             [
              1,
              "#f0f921"
             ]
            ],
            "type": "heatmap"
           }
          ],
          "heatmapgl": [
           {
            "colorbar": {
             "outlinewidth": 0,
             "ticks": ""
            },
            "colorscale": [
             [
              0,
              "#0d0887"
             ],
             [
              0.1111111111111111,
              "#46039f"
             ],
             [
              0.2222222222222222,
              "#7201a8"
             ],
             [
              0.3333333333333333,
              "#9c179e"
             ],
             [
              0.4444444444444444,
              "#bd3786"
             ],
             [
              0.5555555555555556,
              "#d8576b"
             ],
             [
              0.6666666666666666,
              "#ed7953"
             ],
             [
              0.7777777777777778,
              "#fb9f3a"
             ],
             [
              0.8888888888888888,
              "#fdca26"
             ],
             [
              1,
              "#f0f921"
             ]
            ],
            "type": "heatmapgl"
           }
          ],
          "histogram": [
           {
            "marker": {
             "colorbar": {
              "outlinewidth": 0,
              "ticks": ""
             }
            },
            "type": "histogram"
           }
          ],
          "histogram2d": [
           {
            "colorbar": {
             "outlinewidth": 0,
             "ticks": ""
            },
            "colorscale": [
             [
              0,
              "#0d0887"
             ],
             [
              0.1111111111111111,
              "#46039f"
             ],
             [
              0.2222222222222222,
              "#7201a8"
             ],
             [
              0.3333333333333333,
              "#9c179e"
             ],
             [
              0.4444444444444444,
              "#bd3786"
             ],
             [
              0.5555555555555556,
              "#d8576b"
             ],
             [
              0.6666666666666666,
              "#ed7953"
             ],
             [
              0.7777777777777778,
              "#fb9f3a"
             ],
             [
              0.8888888888888888,
              "#fdca26"
             ],
             [
              1,
              "#f0f921"
             ]
            ],
            "type": "histogram2d"
           }
          ],
          "histogram2dcontour": [
           {
            "colorbar": {
             "outlinewidth": 0,
             "ticks": ""
            },
            "colorscale": [
             [
              0,
              "#0d0887"
             ],
             [
              0.1111111111111111,
              "#46039f"
             ],
             [
              0.2222222222222222,
              "#7201a8"
             ],
             [
              0.3333333333333333,
              "#9c179e"
             ],
             [
              0.4444444444444444,
              "#bd3786"
             ],
             [
              0.5555555555555556,
              "#d8576b"
             ],
             [
              0.6666666666666666,
              "#ed7953"
             ],
             [
              0.7777777777777778,
              "#fb9f3a"
             ],
             [
              0.8888888888888888,
              "#fdca26"
             ],
             [
              1,
              "#f0f921"
             ]
            ],
            "type": "histogram2dcontour"
           }
          ],
          "mesh3d": [
           {
            "colorbar": {
             "outlinewidth": 0,
             "ticks": ""
            },
            "type": "mesh3d"
           }
          ],
          "parcoords": [
           {
            "line": {
             "colorbar": {
              "outlinewidth": 0,
              "ticks": ""
             }
            },
            "type": "parcoords"
           }
          ],
          "pie": [
           {
            "automargin": true,
            "type": "pie"
           }
          ],
          "scatter": [
           {
            "marker": {
             "colorbar": {
              "outlinewidth": 0,
              "ticks": ""
             }
            },
            "type": "scatter"
           }
          ],
          "scatter3d": [
           {
            "line": {
             "colorbar": {
              "outlinewidth": 0,
              "ticks": ""
             }
            },
            "marker": {
             "colorbar": {
              "outlinewidth": 0,
              "ticks": ""
             }
            },
            "type": "scatter3d"
           }
          ],
          "scattercarpet": [
           {
            "marker": {
             "colorbar": {
              "outlinewidth": 0,
              "ticks": ""
             }
            },
            "type": "scattercarpet"
           }
          ],
          "scattergeo": [
           {
            "marker": {
             "colorbar": {
              "outlinewidth": 0,
              "ticks": ""
             }
            },
            "type": "scattergeo"
           }
          ],
          "scattergl": [
           {
            "marker": {
             "colorbar": {
              "outlinewidth": 0,
              "ticks": ""
             }
            },
            "type": "scattergl"
           }
          ],
          "scattermapbox": [
           {
            "marker": {
             "colorbar": {
              "outlinewidth": 0,
              "ticks": ""
             }
            },
            "type": "scattermapbox"
           }
          ],
          "scatterpolar": [
           {
            "marker": {
             "colorbar": {
              "outlinewidth": 0,
              "ticks": ""
             }
            },
            "type": "scatterpolar"
           }
          ],
          "scatterpolargl": [
           {
            "marker": {
             "colorbar": {
              "outlinewidth": 0,
              "ticks": ""
             }
            },
            "type": "scatterpolargl"
           }
          ],
          "scatterternary": [
           {
            "marker": {
             "colorbar": {
              "outlinewidth": 0,
              "ticks": ""
             }
            },
            "type": "scatterternary"
           }
          ],
          "surface": [
           {
            "colorbar": {
             "outlinewidth": 0,
             "ticks": ""
            },
            "colorscale": [
             [
              0,
              "#0d0887"
             ],
             [
              0.1111111111111111,
              "#46039f"
             ],
             [
              0.2222222222222222,
              "#7201a8"
             ],
             [
              0.3333333333333333,
              "#9c179e"
             ],
             [
              0.4444444444444444,
              "#bd3786"
             ],
             [
              0.5555555555555556,
              "#d8576b"
             ],
             [
              0.6666666666666666,
              "#ed7953"
             ],
             [
              0.7777777777777778,
              "#fb9f3a"
             ],
             [
              0.8888888888888888,
              "#fdca26"
             ],
             [
              1,
              "#f0f921"
             ]
            ],
            "type": "surface"
           }
          ],
          "table": [
           {
            "cells": {
             "fill": {
              "color": "#EBF0F8"
             },
             "line": {
              "color": "white"
             }
            },
            "header": {
             "fill": {
              "color": "#C8D4E3"
             },
             "line": {
              "color": "white"
             }
            },
            "type": "table"
           }
          ]
         },
         "layout": {
          "annotationdefaults": {
           "arrowcolor": "#2a3f5f",
           "arrowhead": 0,
           "arrowwidth": 1
          },
          "coloraxis": {
           "colorbar": {
            "outlinewidth": 0,
            "ticks": ""
           }
          },
          "colorscale": {
           "diverging": [
            [
             0,
             "#8e0152"
            ],
            [
             0.1,
             "#c51b7d"
            ],
            [
             0.2,
             "#de77ae"
            ],
            [
             0.3,
             "#f1b6da"
            ],
            [
             0.4,
             "#fde0ef"
            ],
            [
             0.5,
             "#f7f7f7"
            ],
            [
             0.6,
             "#e6f5d0"
            ],
            [
             0.7,
             "#b8e186"
            ],
            [
             0.8,
             "#7fbc41"
            ],
            [
             0.9,
             "#4d9221"
            ],
            [
             1,
             "#276419"
            ]
           ],
           "sequential": [
            [
             0,
             "#0d0887"
            ],
            [
             0.1111111111111111,
             "#46039f"
            ],
            [
             0.2222222222222222,
             "#7201a8"
            ],
            [
             0.3333333333333333,
             "#9c179e"
            ],
            [
             0.4444444444444444,
             "#bd3786"
            ],
            [
             0.5555555555555556,
             "#d8576b"
            ],
            [
             0.6666666666666666,
             "#ed7953"
            ],
            [
             0.7777777777777778,
             "#fb9f3a"
            ],
            [
             0.8888888888888888,
             "#fdca26"
            ],
            [
             1,
             "#f0f921"
            ]
           ],
           "sequentialminus": [
            [
             0,
             "#0d0887"
            ],
            [
             0.1111111111111111,
             "#46039f"
            ],
            [
             0.2222222222222222,
             "#7201a8"
            ],
            [
             0.3333333333333333,
             "#9c179e"
            ],
            [
             0.4444444444444444,
             "#bd3786"
            ],
            [
             0.5555555555555556,
             "#d8576b"
            ],
            [
             0.6666666666666666,
             "#ed7953"
            ],
            [
             0.7777777777777778,
             "#fb9f3a"
            ],
            [
             0.8888888888888888,
             "#fdca26"
            ],
            [
             1,
             "#f0f921"
            ]
           ]
          },
          "colorway": [
           "#636efa",
           "#EF553B",
           "#00cc96",
           "#ab63fa",
           "#FFA15A",
           "#19d3f3",
           "#FF6692",
           "#B6E880",
           "#FF97FF",
           "#FECB52"
          ],
          "font": {
           "color": "#2a3f5f"
          },
          "geo": {
           "bgcolor": "white",
           "lakecolor": "white",
           "landcolor": "white",
           "showlakes": true,
           "showland": true,
           "subunitcolor": "#C8D4E3"
          },
          "hoverlabel": {
           "align": "left"
          },
          "hovermode": "closest",
          "mapbox": {
           "style": "light"
          },
          "paper_bgcolor": "white",
          "plot_bgcolor": "white",
          "polar": {
           "angularaxis": {
            "gridcolor": "#EBF0F8",
            "linecolor": "#EBF0F8",
            "ticks": ""
           },
           "bgcolor": "white",
           "radialaxis": {
            "gridcolor": "#EBF0F8",
            "linecolor": "#EBF0F8",
            "ticks": ""
           }
          },
          "scene": {
           "xaxis": {
            "backgroundcolor": "white",
            "gridcolor": "#DFE8F3",
            "gridwidth": 2,
            "linecolor": "#EBF0F8",
            "showbackground": true,
            "ticks": "",
            "zerolinecolor": "#EBF0F8"
           },
           "yaxis": {
            "backgroundcolor": "white",
            "gridcolor": "#DFE8F3",
            "gridwidth": 2,
            "linecolor": "#EBF0F8",
            "showbackground": true,
            "ticks": "",
            "zerolinecolor": "#EBF0F8"
           },
           "zaxis": {
            "backgroundcolor": "white",
            "gridcolor": "#DFE8F3",
            "gridwidth": 2,
            "linecolor": "#EBF0F8",
            "showbackground": true,
            "ticks": "",
            "zerolinecolor": "#EBF0F8"
           }
          },
          "shapedefaults": {
           "line": {
            "color": "#2a3f5f"
           }
          },
          "ternary": {
           "aaxis": {
            "gridcolor": "#DFE8F3",
            "linecolor": "#A2B1C6",
            "ticks": ""
           },
           "baxis": {
            "gridcolor": "#DFE8F3",
            "linecolor": "#A2B1C6",
            "ticks": ""
           },
           "bgcolor": "white",
           "caxis": {
            "gridcolor": "#DFE8F3",
            "linecolor": "#A2B1C6",
            "ticks": ""
           }
          },
          "title": {
           "x": 0.05
          },
          "xaxis": {
           "automargin": true,
           "gridcolor": "#EBF0F8",
           "linecolor": "#EBF0F8",
           "ticks": "",
           "title": {
            "standoff": 15
           },
           "zerolinecolor": "#EBF0F8",
           "zerolinewidth": 2
          },
          "yaxis": {
           "automargin": true,
           "gridcolor": "#EBF0F8",
           "linecolor": "#EBF0F8",
           "ticks": "",
           "title": {
            "standoff": 15
           },
           "zerolinecolor": "#EBF0F8",
           "zerolinewidth": 2
          }
         }
        },
        "updatemenus": [
         {
          "buttons": [
           {
            "args": [
             {
              "visible": [
               true,
               true,
               true,
               true,
               true,
               false,
               false,
               false,
               false,
               false,
               false,
               false,
               false,
               false,
               false,
               false,
               false,
               false,
               false,
               false,
               false,
               false,
               false,
               false,
               false,
               false,
               false,
               false,
               false,
               false,
               false,
               false,
               false,
               false,
               false,
               false,
               false,
               false,
               false,
               false
              ]
             }
            ],
            "label": "ID: 40",
            "method": "restyle"
           },
           {
            "args": [
             {
              "visible": [
               false,
               false,
               false,
               false,
               false,
               true,
               true,
               true,
               true,
               true,
               false,
               false,
               false,
               false,
               false,
               false,
               false,
               false,
               false,
               false,
               false,
               false,
               false,
               false,
               false,
               false,
               false,
               false,
               false,
               false,
               false,
               false,
               false,
               false,
               false,
               false,
               false,
               false,
               false,
               false
              ]
             }
            ],
            "label": "ID: 94",
            "method": "restyle"
           },
           {
            "args": [
             {
              "visible": [
               false,
               false,
               false,
               false,
               false,
               false,
               false,
               false,
               false,
               false,
               true,
               true,
               true,
               true,
               true,
               false,
               false,
               false,
               false,
               false,
               false,
               false,
               false,
               false,
               false,
               false,
               false,
               false,
               false,
               false,
               false,
               false,
               false,
               false,
               false,
               false,
               false,
               false,
               false,
               false
              ]
             }
            ],
            "label": "ID: 95",
            "method": "restyle"
           },
           {
            "args": [
             {
              "visible": [
               false,
               false,
               false,
               false,
               false,
               false,
               false,
               false,
               false,
               false,
               false,
               false,
               false,
               false,
               false,
               true,
               true,
               true,
               true,
               true,
               false,
               false,
               false,
               false,
               false,
               false,
               false,
               false,
               false,
               false,
               false,
               false,
               false,
               false,
               false,
               false,
               false,
               false,
               false,
               false
              ]
             }
            ],
            "label": "ID: 136",
            "method": "restyle"
           },
           {
            "args": [
             {
              "visible": [
               false,
               false,
               false,
               false,
               false,
               false,
               false,
               false,
               false,
               false,
               false,
               false,
               false,
               false,
               false,
               false,
               false,
               false,
               false,
               false,
               true,
               true,
               true,
               true,
               true,
               false,
               false,
               false,
               false,
               false,
               false,
               false,
               false,
               false,
               false,
               false,
               false,
               false,
               false,
               false
              ]
             }
            ],
            "label": "ID: 155",
            "method": "restyle"
           },
           {
            "args": [
             {
              "visible": [
               false,
               false,
               false,
               false,
               false,
               false,
               false,
               false,
               false,
               false,
               false,
               false,
               false,
               false,
               false,
               false,
               false,
               false,
               false,
               false,
               false,
               false,
               false,
               false,
               false,
               true,
               true,
               true,
               true,
               true,
               false,
               false,
               false,
               false,
               false,
               false,
               false,
               false,
               false,
               false
              ]
             }
            ],
            "label": "ID: 155",
            "method": "restyle"
           },
           {
            "args": [
             {
              "visible": [
               false,
               false,
               false,
               false,
               false,
               false,
               false,
               false,
               false,
               false,
               false,
               false,
               false,
               false,
               false,
               false,
               false,
               false,
               false,
               false,
               false,
               false,
               false,
               false,
               false,
               false,
               false,
               false,
               false,
               false,
               true,
               true,
               true,
               true,
               true,
               false,
               false,
               false,
               false,
               false
              ]
             }
            ],
            "label": "ID: 169",
            "method": "restyle"
           },
           {
            "args": [
             {
              "visible": [
               false,
               false,
               false,
               false,
               false,
               false,
               false,
               false,
               false,
               false,
               false,
               false,
               false,
               false,
               false,
               false,
               false,
               false,
               false,
               false,
               false,
               false,
               false,
               false,
               false,
               false,
               false,
               false,
               false,
               false,
               false,
               false,
               false,
               false,
               false,
               true,
               true,
               true,
               true,
               true
              ]
             }
            ],
            "label": "ID: 170",
            "method": "restyle"
           }
          ],
          "direction": "right",
          "pad": {
           "r": 0,
           "t": -10
          },
          "showactive": true,
          "type": "buttons",
          "x": 0,
          "xanchor": "left",
          "y": 1.1,
          "yanchor": "top"
         }
        ]
       }
      }
     },
     "metadata": {}
    }
   ],
   "source": [
    "#\n",
    "# Visualisation of the spread of optimised model parameters for multiple runs from different initial points.\n",
    "#\n",
    "# This cell needs the above optimised parameters, and their respective objective function scores, as well as the data\n",
    "# [mouse_parameters, mouse_scores, data]\n",
    "#\n",
    "\n",
    "import plotly.colors\n",
    "import plotly.graph_objects as go\n",
    "\n",
    "\n",
    "# Get mouse ids\n",
    "mouse_ids = data['#ID'].unique()\n",
    "\n",
    "# Get number of parameters + score (for visualisation)\n",
    "n_params = mouse_parameters.shape[2] + 1\n",
    "\n",
    "# Define colorscheme\n",
    "colors = plotly.colors.qualitative.Plotly[:n_params]\n",
    "\n",
    "# Get optimised parameters\n",
    "optimised_parameters = mouse_parameters\n",
    "\n",
    "# Get optimised parameters\n",
    "scores = mouse_scores\n",
    "\n",
    "# Create figure\n",
    "fig = go.Figure()\n",
    "\n",
    "# Box plot of optimised model parameters\n",
    "for index, id_m in enumerate(mouse_ids):\n",
    "    # Get optimised parameters\n",
    "    parameters = optimised_parameters[index, ...]\n",
    "\n",
    "    # Get scores\n",
    "    score = scores\n",
    "\n",
    "    # Create box plot of for initial tumour volume\n",
    "    fig.add_trace(\n",
    "        go.Box(\n",
    "            y=parameters[:, 0],  \n",
    "            name=\"Initial tumour volume in cm^3\",\n",
    "            boxpoints='all',\n",
    "            jitter=0.2,\n",
    "            pointpos=-1.5,\n",
    "            visible=True if index == 0 else False,\n",
    "            marker=dict(\n",
    "                symbol='circle',\n",
    "                opacity=0.7,\n",
    "                line=dict(color='black', width=1)),\n",
    "            marker_color=colors[0],\n",
    "            line_color=colors[0]))\n",
    "\n",
    "    # Create box plot for critical volume\n",
    "    fig.add_trace(\n",
    "        go.Box(\n",
    "            y=parameters[:, 1],  \n",
    "            name=\"Critical volume in cm^3\",\n",
    "            boxpoints='all',\n",
    "            jitter=0.2,\n",
    "            pointpos=-1.5,\n",
    "            visible=True if index == 0 else False,\n",
    "            marker=dict(\n",
    "                symbol='circle',\n",
    "                opacity=0.7,\n",
    "                line=dict(color='black', width=1)),\n",
    "            marker_color=colors[1],\n",
    "            line_color=colors[1]))\n",
    "\n",
    "    # Create box plot of for exponential tumour growth\n",
    "    fig.add_trace(\n",
    "        go.Box(\n",
    "            y=parameters[:, 2],  \n",
    "            name=\"Exponential growth rate in 1/day\",\n",
    "            boxpoints='all',\n",
    "            jitter=0.2,\n",
    "            pointpos=-1.5,\n",
    "            visible=True if index == 0 else False,\n",
    "            marker=dict(\n",
    "                symbol='circle',\n",
    "                opacity=0.7,\n",
    "                line=dict(color='black', width=1)),\n",
    "            marker_color=colors[2],\n",
    "            line_color=colors[2]))\n",
    "\n",
    "    # Create box plot for sigma\n",
    "    fig.add_trace(\n",
    "        go.Box(\n",
    "            y=parameters[:, 3],  \n",
    "            name=\"Standard deviation in cm^3\",\n",
    "            boxpoints='all',\n",
    "            jitter=0.2,\n",
    "            pointpos=-1.5,\n",
    "            visible=True if index == 0 else False,\n",
    "            marker=dict(\n",
    "                symbol='circle',\n",
    "                opacity=0.7,\n",
    "                line=dict(color='black', width=1)),\n",
    "            marker_color=colors[3],\n",
    "            line_color=colors[3]))\n",
    "    \n",
    "    # Create box plot of for objective function score\n",
    "    fig.add_trace(\n",
    "        go.Box(\n",
    "            y=score,  \n",
    "            name=\"Score\",\n",
    "            boxpoints='all',\n",
    "            jitter=0.2,\n",
    "            pointpos=-1.5,\n",
    "            visible=True if index == 0 else False,\n",
    "            marker=dict(\n",
    "                symbol='circle',\n",
    "                opacity=0.7,\n",
    "                line=dict(color='black', width=1)),\n",
    "            marker_color=colors[4],\n",
    "            line_color=colors[4]))\n",
    "\n",
    "# Set figure size\n",
    "fig.update_layout(\n",
    "    autosize=True,\n",
    "    template=\"plotly_white\")\n",
    "\n",
    "# Add switch between mice\n",
    "fig.update_layout(\n",
    "    updatemenus=[\n",
    "        dict(\n",
    "            type = \"buttons\",\n",
    "            direction = \"right\",\n",
    "            buttons=list([\n",
    "                dict(\n",
    "                    args=[{\"visible\": [True]*5 + [False]*(5 * 7)}],\n",
    "                    label=\"ID: %d\" % mouse_ids[0],\n",
    "                    method=\"restyle\"\n",
    "                ),\n",
    "                dict(\n",
    "                    args=[{\"visible\": [False]*5 + [True]*5 + [False]*(5 * 6)}],\n",
    "                    label=\"ID: %d\" % mouse_ids[1],\n",
    "                    method=\"restyle\"\n",
    "                ),\n",
    "                dict(\n",
    "                    args=[{\"visible\": [False]*(5 * 2) + [True]*5 + [False]*(5 * 5)}],\n",
    "                    label=\"ID: %d\" % mouse_ids[2],\n",
    "                    method=\"restyle\"\n",
    "                ),\n",
    "                dict(\n",
    "                    args=[{\"visible\": [False]*(5 * 3) + [True]*5 + [False]*(5 * 4)}],\n",
    "                    label=\"ID: %d\" % mouse_ids[3],\n",
    "                    method=\"restyle\"\n",
    "                ),\n",
    "                dict(\n",
    "                    args=[{\"visible\": [False]*(5 * 4) + [True]*5 + [False]*(5 * 3)}],\n",
    "                    label=\"ID: %d\" % mouse_ids[5],\n",
    "                    method=\"restyle\"\n",
    "                ),\n",
    "                dict(\n",
    "                    args=[{\"visible\": [False]*(5 * 5) + [True]*5 + [False]*(5 * 2)}],\n",
    "                    label=\"ID: %d\" % mouse_ids[5],\n",
    "                    method=\"restyle\"\n",
    "                ),\n",
    "                dict(\n",
    "                    args=[{\"visible\": [False]*(5 * 6) + [True]*5 + [False]* 5}],\n",
    "                    label=\"ID: %d\" % mouse_ids[6],\n",
    "                    method=\"restyle\"\n",
    "                ),\n",
    "                dict(\n",
    "                    args=[{\"visible\": [False]*(5 * 7) + [True]*5}],\n",
    "                    label=\"ID: %d\" % mouse_ids[7],\n",
    "                    method=\"restyle\"\n",
    "                )\n",
    "            ]),\n",
    "            pad={\"r\": 0, \"t\": -10},\n",
    "            showactive=True,\n",
    "            x=0.0,\n",
    "            xanchor=\"left\",\n",
    "            y=1.1,\n",
    "            yanchor=\"top\"\n",
    "        )\n",
    "    ]\n",
    ")\n",
    "\n",
    "# Position legend\n",
    "fig.update_layout(legend=dict(\n",
    "    yanchor=\"bottom\",\n",
    "    y=0.01,\n",
    "    xanchor=\"left\",\n",
    "    x=1.05))\n",
    "\n",
    "# Show figure\n",
    "fig.show()\n"
   ]
  },
  {
   "cell_type": "code",
   "execution_count": 5,
   "metadata": {},
   "outputs": [
    {
     "output_type": "execute_result",
     "data": {
      "text/plain": "array([ 3,  6,  9, 12, 15, 18, 21, 24])"
     },
     "metadata": {},
     "execution_count": 5
    }
   ],
   "source": [
    "log_likelihood._cum_n_problem_params"
   ]
  },
  {
   "cell_type": "markdown",
   "metadata": {},
   "source": [
    "## Heteroscedastic noise model\n",
    "\n",
    "Explanation\n",
    "\n",
    "- Identifiability"
   ]
  },
  {
   "cell_type": "code",
   "execution_count": null,
   "metadata": {},
   "outputs": [],
   "source": []
  },
  {
   "cell_type": "markdown",
   "metadata": {},
   "source": [
    "## Linear heteroscedastic noise model\n",
    "\n",
    "Explanation\n",
    "\n",
    "- Identifiability"
   ]
  },
  {
   "cell_type": "code",
   "execution_count": null,
   "metadata": {},
   "outputs": [],
   "source": []
  },
  {
   "cell_type": "markdown",
   "metadata": {},
   "source": [
    "## Bibliography\n",
    "\n",
    "- <a name=\"ref1\"> [1] </a> Eigenmann et. al., Combining Nonclinical Experiments with Translational PKPD Modeling to Differentiate Erlotinib and Gefitinib, Mol Cancer Ther (2016)"
   ]
  },
  {
   "cell_type": "markdown",
   "metadata": {},
   "source": [
    "## Notebook references\n",
    "\n",
    "- <a name=\"ref1\"> [n1] </a> [Identifiability of the Structural Model for Lung Cancer Growth in Absence of Treatment](https://nbviewer.jupyter.org/github/DavAug/ErlotinibGefitinib/blob/master/notebooks/lung_cancer/control_growth/identifiability_structural_model.ipynb)"
   ]
  },
  {
   "cell_type": "markdown",
   "metadata": {},
   "source": [
    "[Back to project overview](https://github.com/DavAug/ErlotinibGefitinib/blob/master/README.md) | [Back to lung cancer control growth overview](https://nbviewer.jupyter.org/github/DavAug/ErlotinibGefitinib/blob/master/notebooks/lung_cancer/control_growth/overview.ipynb) | [Forward to next notebook](https://nbviewer.jupyter.org/github/DavAug/ErlotinibGefitinib/blob/master/notebooks/lung_cancer/control_growth/population_model.ipynb)"
   ]
  }
 ],
 "metadata": {
  "language_info": {
   "codemirror_mode": {
    "name": "ipython",
    "version": 3
   },
   "file_extension": ".py",
   "mimetype": "text/x-python",
   "name": "python",
   "nbconvert_exporter": "python",
   "pygments_lexer": "ipython3",
   "version": "3.7.5-final"
  },
  "orig_nbformat": 2,
  "kernelspec": {
   "name": "python37564bitvenvvenv6a1cf9e436c848d3930f390a42386651",
   "display_name": "Python 3.7.5 64-bit ('venv': venv)"
  }
 },
 "nbformat": 4,
 "nbformat_minor": 2
}