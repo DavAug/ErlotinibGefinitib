{
 "cells": [
  {
   "cell_type": "markdown",
   "metadata": {},
   "source": [
    "# Error Modelling of Structural Growth Model for Lung Cancer in Absence of Treatment"
   ]
  },
  {
   "cell_type": "markdown",
   "metadata": {},
   "source": [
    "The tumour growth inhibitory effects of Erlotinib and Gefitinib were modelled with a population PKPD model in [1]. A population PKPD model is a hierarchical model which consists of a structural model, a population model, and an error model. Each sub-model captures a different aspect of the tumour growth inhibition biology, and is parametrised by a set of parameters.\n",
    "\n",
    "In this notebook we model the error of the structural lung cancer growth model in absence of treatment. We investigate the influence of the different noise model choices on the idenfifiability of the model, and employ visual, as well quantitative predictive checks to select the most promising error model. "
   ]
  },
  {
   "cell_type": "markdown",
   "metadata": {},
   "source": [
    "## Measured Tumour Growth in Absence of Treatment\n",
    "\n",
    "In [1] patient-derived tumour explants LXF A677 (adenocarcinoma of the lung) were implanted in mice. The tumour growth was monitored over a period of 30 days, see the [Control Growth Data notebook](https://nbviewer.jupyter.org/github/DavAug/ErlotinibGefitinib/blob/master/notebooks/lung_cancer/control_growth/data_preparation.ipynb) for details."
   ]
  },
  {
   "cell_type": "code",
   "execution_count": 2,
   "metadata": {},
   "outputs": [
    {
     "output_type": "display_data",
     "data": {
      "application/vnd.plotly.v1+json": {
       "config": {
        "plotlyServerURL": "https://plot.ly"
       },
       "data": [
        {
         "hovertemplate": "<b>ID: 40</b><br>Time: %{x:} day<br>Tumour volume: %{y:.02f} cm^3<br>Body weight: %{text}<br>Cancer type: Lung cancer (LXF A677)<br><extra></extra>",
         "marker": {
          "color": "#636EFA",
          "line": {
           "color": "black",
           "width": 1
          },
          "opacity": 0.7,
          "symbol": "circle"
         },
         "mode": "markers",
         "name": "ID: 40",
         "showlegend": true,
         "text": [
          "26.8 g",
          "26.1 g",
          "26.5 g",
          "26.5 g",
          "27.1 g",
          "26.0 g",
          "26.4 g",
          "26.0 g",
          "25.4 g",
          "26.2 g"
         ],
         "type": "scatter",
         "x": [
          0,
          2,
          4,
          7,
          9,
          11,
          14,
          16,
          18,
          21
         ],
         "y": [
          0.191808,
          0.249158,
          0.330672,
          0.6683669999999999,
          0.915008,
          1.119258,
          1.470432,
          1.6692479999999998,
          1.7521919999999997,
          2.276736
         ]
        },
        {
         "hovertemplate": "<b>ID: 40</b><br>Time: %{x:} day<br>Tumour volume: %{y:.02f} cm^3<br>Body weight: %{text}<br>Cancer type: Lung cancer (LXF A677)<br><extra></extra>",
         "marker": {
          "color": "#636EFA",
          "line": {
           "color": "black",
           "width": 1
          },
          "opacity": 0.7,
          "symbol": "circle"
         },
         "mode": "markers",
         "name": "ID: 40",
         "showlegend": true,
         "text": [
          "26.8 g",
          "26.1 g",
          "26.5 g",
          "26.5 g",
          "27.1 g",
          "26.0 g",
          "26.4 g",
          "26.0 g",
          "25.4 g",
          "26.2 g"
         ],
         "type": "scatter",
         "visible": false,
         "x": [
          0,
          2,
          4,
          7,
          9,
          11,
          14,
          16,
          18,
          21
         ],
         "y": [
          26.8,
          26.1,
          26.5,
          26.5,
          27.1,
          26,
          26.4,
          26,
          25.4,
          26.2
         ]
        },
        {
         "hovertemplate": "<b>ID: 94</b><br>Time: %{x:} day<br>Tumour volume: %{y:.02f} cm^3<br>Body weight: %{text}<br>Cancer type: Lung cancer (LXF A677)<br><extra></extra>",
         "marker": {
          "color": "#EF553B",
          "line": {
           "color": "black",
           "width": 1
          },
          "opacity": 0.7,
          "symbol": "circle"
         },
         "mode": "markers",
         "name": "ID: 94",
         "showlegend": true,
         "text": [
          "18.3 g",
          "18.2 g",
          "18.5 g",
          "18.3 g",
          "18.7 g",
          "17.9 g",
          "18.4 g",
          "18.2 g",
          "18.7 g",
          "20.0 g",
          "20.2 g",
          "20.3 g",
          "20.0 g",
          "19.2 g"
         ],
         "type": "scatter",
         "x": [
          0,
          2,
          4,
          7,
          9,
          11,
          14,
          16,
          18,
          21,
          23,
          25,
          28,
          30
         ],
         "y": [
          0.07724750000000001,
          0.0884835,
          0.125316,
          0.165528,
          0.189486,
          0.264654,
          0.264654,
          0.306936,
          0.389207,
          0.389207,
          0.405769,
          0.4264715,
          0.5551309999999999,
          0.57624
         ]
        },
        {
         "hovertemplate": "<b>ID: 94</b><br>Time: %{x:} day<br>Tumour volume: %{y:.02f} cm^3<br>Body weight: %{text}<br>Cancer type: Lung cancer (LXF A677)<br><extra></extra>",
         "marker": {
          "color": "#EF553B",
          "line": {
           "color": "black",
           "width": 1
          },
          "opacity": 0.7,
          "symbol": "circle"
         },
         "mode": "markers",
         "name": "ID: 94",
         "showlegend": true,
         "text": [
          "18.3 g",
          "18.2 g",
          "18.5 g",
          "18.3 g",
          "18.7 g",
          "17.9 g",
          "18.4 g",
          "18.2 g",
          "18.7 g",
          "20.0 g",
          "20.2 g",
          "20.3 g",
          "20.0 g",
          "19.2 g"
         ],
         "type": "scatter",
         "visible": false,
         "x": [
          0,
          2,
          4,
          7,
          9,
          11,
          14,
          16,
          18,
          21,
          23,
          25,
          28,
          30
         ],
         "y": [
          18.3,
          18.2,
          18.5,
          18.3,
          18.7,
          17.9,
          18.4,
          18.2,
          18.7,
          20,
          20.2,
          20.3,
          20,
          19.2
         ]
        },
        {
         "hovertemplate": "<b>ID: 95</b><br>Time: %{x:} day<br>Tumour volume: %{y:.02f} cm^3<br>Body weight: %{text}<br>Cancer type: Lung cancer (LXF A677)<br><extra></extra>",
         "marker": {
          "color": "#00CC96",
          "line": {
           "color": "black",
           "width": 1
          },
          "opacity": 0.7,
          "symbol": "circle"
         },
         "mode": "markers",
         "name": "ID: 95",
         "showlegend": true,
         "text": [
          "22.3 g",
          "23.0 g",
          "22.4 g",
          "23.6 g",
          "24.1 g",
          "22.7 g",
          "23.6 g",
          "23.3 g",
          "23.3 g",
          "23.3 g"
         ],
         "type": "scatter",
         "x": [
          0,
          2,
          4,
          7,
          9,
          11,
          14,
          16,
          18,
          21
         ],
         "y": [
          0.1862,
          0.24641999999999997,
          0.4293,
          0.62426,
          0.7246720000000001,
          0.7300800000000001,
          0.9196,
          1.131184,
          1.675872,
          2.346616
         ]
        },
        {
         "hovertemplate": "<b>ID: 95</b><br>Time: %{x:} day<br>Tumour volume: %{y:.02f} cm^3<br>Body weight: %{text}<br>Cancer type: Lung cancer (LXF A677)<br><extra></extra>",
         "marker": {
          "color": "#00CC96",
          "line": {
           "color": "black",
           "width": 1
          },
          "opacity": 0.7,
          "symbol": "circle"
         },
         "mode": "markers",
         "name": "ID: 95",
         "showlegend": true,
         "text": [
          "22.3 g",
          "23.0 g",
          "22.4 g",
          "23.6 g",
          "24.1 g",
          "22.7 g",
          "23.6 g",
          "23.3 g",
          "23.3 g",
          "23.3 g"
         ],
         "type": "scatter",
         "visible": false,
         "x": [
          0,
          2,
          4,
          7,
          9,
          11,
          14,
          16,
          18,
          21
         ],
         "y": [
          22.3,
          23,
          22.4,
          23.6,
          24.1,
          22.7,
          23.6,
          23.3,
          23.3,
          23.3
         ]
        },
        {
         "hovertemplate": "<b>ID: 136</b><br>Time: %{x:} day<br>Tumour volume: %{y:.02f} cm^3<br>Body weight: %{text}<br>Cancer type: Lung cancer (LXF A677)<br><extra></extra>",
         "marker": {
          "color": "#AB63FA",
          "line": {
           "color": "black",
           "width": 1
          },
          "opacity": 0.7,
          "symbol": "circle"
         },
         "mode": "markers",
         "name": "ID: 136",
         "showlegend": true,
         "text": [
          "25.4 g",
          "26.2 g",
          "28.3 g",
          "28.0 g",
          "25.1 g",
          "22.9 g",
          "24.1 g",
          "23.9 g",
          "23.0 g",
          "24.0 g",
          "23.7 g",
          "24.7 g",
          "24.6 g",
          "24.2 g"
         ],
         "type": "scatter",
         "x": [
          0,
          2,
          4,
          7,
          9,
          11,
          14,
          16,
          18,
          21,
          23,
          25,
          28,
          30
         ],
         "y": [
          0.1185885,
          0.175071,
          0.22999200000000006,
          0.3026885,
          0.3026885,
          0.37044,
          0.5341545,
          0.651688,
          0.7212869999999999,
          0.78732,
          0.8529505000000001,
          1.104558,
          1.1328799999999999,
          1.4593425
         ]
        },
        {
         "hovertemplate": "<b>ID: 136</b><br>Time: %{x:} day<br>Tumour volume: %{y:.02f} cm^3<br>Body weight: %{text}<br>Cancer type: Lung cancer (LXF A677)<br><extra></extra>",
         "marker": {
          "color": "#AB63FA",
          "line": {
           "color": "black",
           "width": 1
          },
          "opacity": 0.7,
          "symbol": "circle"
         },
         "mode": "markers",
         "name": "ID: 136",
         "showlegend": true,
         "text": [
          "25.4 g",
          "26.2 g",
          "28.3 g",
          "28.0 g",
          "25.1 g",
          "22.9 g",
          "24.1 g",
          "23.9 g",
          "23.0 g",
          "24.0 g",
          "23.7 g",
          "24.7 g",
          "24.6 g",
          "24.2 g"
         ],
         "type": "scatter",
         "visible": false,
         "x": [
          0,
          2,
          4,
          7,
          9,
          11,
          14,
          16,
          18,
          21,
          23,
          25,
          28,
          30
         ],
         "y": [
          25.4,
          26.2,
          28.3,
          28,
          25.1,
          22.9,
          24.1,
          23.9,
          23,
          24,
          23.7,
          24.7,
          24.6,
          24.2
         ]
        },
        {
         "hovertemplate": "<b>ID: 140</b><br>Time: %{x:} day<br>Tumour volume: %{y:.02f} cm^3<br>Body weight: %{text}<br>Cancer type: Lung cancer (LXF A677)<br><extra></extra>",
         "marker": {
          "color": "#FFA15A",
          "line": {
           "color": "black",
           "width": 1
          },
          "opacity": 0.7,
          "symbol": "circle"
         },
         "mode": "markers",
         "name": "ID: 140",
         "showlegend": true,
         "text": [
          "22.7 g",
          "23.6 g",
          "23.6 g",
          "24.4 g",
          "25.0 g",
          "23.5 g",
          "24.8 g",
          "24.3 g",
          "23.8 g",
          "23.3 g",
          "23.7 g",
          "24.8 g",
          "24.7 g",
          "24.1 g"
         ],
         "type": "scatter",
         "x": [
          0,
          2,
          4,
          7,
          9,
          11,
          14,
          16,
          18,
          21,
          23,
          25,
          28,
          30
         ],
         "y": [
          0.0793305,
          0.12685200000000002,
          0.146072,
          0.261121,
          0.34574400000000005,
          0.3552,
          0.41905,
          0.48029799999999995,
          0.556668,
          0.8089919999999999,
          0.8573040000000001,
          1.097675,
          1.992144,
          2.1225820000000004
         ]
        },
        {
         "hovertemplate": "<b>ID: 140</b><br>Time: %{x:} day<br>Tumour volume: %{y:.02f} cm^3<br>Body weight: %{text}<br>Cancer type: Lung cancer (LXF A677)<br><extra></extra>",
         "marker": {
          "color": "#FFA15A",
          "line": {
           "color": "black",
           "width": 1
          },
          "opacity": 0.7,
          "symbol": "circle"
         },
         "mode": "markers",
         "name": "ID: 140",
         "showlegend": true,
         "text": [
          "22.7 g",
          "23.6 g",
          "23.6 g",
          "24.4 g",
          "25.0 g",
          "23.5 g",
          "24.8 g",
          "24.3 g",
          "23.8 g",
          "23.3 g",
          "23.7 g",
          "24.8 g",
          "24.7 g",
          "24.1 g"
         ],
         "type": "scatter",
         "visible": false,
         "x": [
          0,
          2,
          4,
          7,
          9,
          11,
          14,
          16,
          18,
          21,
          23,
          25,
          28,
          30
         ],
         "y": [
          22.7,
          23.6,
          23.6,
          24.4,
          25,
          23.5,
          24.8,
          24.3,
          23.8,
          23.3,
          23.7,
          24.8,
          24.7,
          24.1
         ]
        },
        {
         "hovertemplate": "<b>ID: 155</b><br>Time: %{x:} day<br>Tumour volume: %{y:.02f} cm^3<br>Body weight: %{text}<br>Cancer type: Lung cancer (LXF A677)<br><extra></extra>",
         "marker": {
          "color": "#19D3F3",
          "line": {
           "color": "black",
           "width": 1
          },
          "opacity": 0.7,
          "symbol": "circle"
         },
         "mode": "markers",
         "name": "ID: 155",
         "showlegend": true,
         "text": [
          "26.0 g",
          "27.3 g",
          "27.5 g",
          "28.2 g",
          "28.7 g",
          "27.9 g",
          "28.6 g",
          "29.0 g",
          "28.0 g",
          "28.9 g",
          "28.5 g",
          "29.6 g"
         ],
         "type": "scatter",
         "x": [
          0,
          2,
          4,
          7,
          9,
          11,
          14,
          16,
          18,
          21,
          23,
          25
         ],
         "y": [
          0.105875,
          0.167706,
          0.35632800000000003,
          0.6489600000000001,
          0.692224,
          0.7300800000000001,
          0.81648,
          1.4949540000000001,
          1.5166985,
          1.72405,
          1.637784,
          2.25108
         ]
        },
        {
         "hovertemplate": "<b>ID: 155</b><br>Time: %{x:} day<br>Tumour volume: %{y:.02f} cm^3<br>Body weight: %{text}<br>Cancer type: Lung cancer (LXF A677)<br><extra></extra>",
         "marker": {
          "color": "#19D3F3",
          "line": {
           "color": "black",
           "width": 1
          },
          "opacity": 0.7,
          "symbol": "circle"
         },
         "mode": "markers",
         "name": "ID: 155",
         "showlegend": true,
         "text": [
          "26.0 g",
          "27.3 g",
          "27.5 g",
          "28.2 g",
          "28.7 g",
          "27.9 g",
          "28.6 g",
          "29.0 g",
          "28.0 g",
          "28.9 g",
          "28.5 g",
          "29.6 g"
         ],
         "type": "scatter",
         "visible": false,
         "x": [
          0,
          2,
          4,
          7,
          9,
          11,
          14,
          16,
          18,
          21,
          23,
          25
         ],
         "y": [
          26,
          27.3,
          27.5,
          28.2,
          28.7,
          27.9,
          28.6,
          29,
          28,
          28.9,
          28.5,
          29.6
         ]
        },
        {
         "hovertemplate": "<b>ID: 169</b><br>Time: %{x:} day<br>Tumour volume: %{y:.02f} cm^3<br>Body weight: %{text}<br>Cancer type: Lung cancer (LXF A677)<br><extra></extra>",
         "marker": {
          "color": "#FF6692",
          "line": {
           "color": "black",
           "width": 1
          },
          "opacity": 0.7,
          "symbol": "circle"
         },
         "mode": "markers",
         "name": "ID: 169",
         "showlegend": true,
         "text": [
          "26.9 g",
          "26.8 g",
          "26.2 g",
          "26.2 g",
          "27.3 g",
          "26.6 g",
          "28.0 g",
          "27.6 g",
          "26.6 g",
          "27.9 g",
          "27.4 g",
          "28.6 g",
          "27.5 g",
          "28.0 g"
         ],
         "type": "scatter",
         "x": [
          0,
          2,
          4,
          7,
          9,
          11,
          14,
          16,
          18,
          21,
          23,
          25,
          28,
          30
         ],
         "y": [
          0.123008,
          0.128774,
          0.1764,
          0.20516650000000006,
          0.24605349999999998,
          0.2788425,
          0.333036,
          0.35644499999999996,
          0.39285,
          0.479859,
          0.5390550000000001,
          0.6354195,
          0.7146180000000001,
          0.7469865
         ]
        },
        {
         "hovertemplate": "<b>ID: 169</b><br>Time: %{x:} day<br>Tumour volume: %{y:.02f} cm^3<br>Body weight: %{text}<br>Cancer type: Lung cancer (LXF A677)<br><extra></extra>",
         "marker": {
          "color": "#FF6692",
          "line": {
           "color": "black",
           "width": 1
          },
          "opacity": 0.7,
          "symbol": "circle"
         },
         "mode": "markers",
         "name": "ID: 169",
         "showlegend": true,
         "text": [
          "26.9 g",
          "26.8 g",
          "26.2 g",
          "26.2 g",
          "27.3 g",
          "26.6 g",
          "28.0 g",
          "27.6 g",
          "26.6 g",
          "27.9 g",
          "27.4 g",
          "28.6 g",
          "27.5 g",
          "28.0 g"
         ],
         "type": "scatter",
         "visible": false,
         "x": [
          0,
          2,
          4,
          7,
          9,
          11,
          14,
          16,
          18,
          21,
          23,
          25,
          28,
          30
         ],
         "y": [
          26.9,
          26.8,
          26.2,
          26.2,
          27.3,
          26.6,
          28,
          27.6,
          26.6,
          27.9,
          27.4,
          28.6,
          27.5,
          28
         ]
        },
        {
         "hovertemplate": "<b>ID: 170</b><br>Time: %{x:} day<br>Tumour volume: %{y:.02f} cm^3<br>Body weight: %{text}<br>Cancer type: Lung cancer (LXF A677)<br><extra></extra>",
         "marker": {
          "color": "#B6E880",
          "line": {
           "color": "black",
           "width": 1
          },
          "opacity": 0.7,
          "symbol": "circle"
         },
         "mode": "markers",
         "name": "ID: 170",
         "showlegend": true,
         "text": [
          "28.3 g",
          "27.7 g",
          "27.9 g",
          "28.8 g",
          "29.3 g",
          "28.6 g",
          "29.5 g",
          "28.9 g",
          "26.8 g",
          "28.7 g",
          "27.3 g",
          "28.7 g",
          "28.5 g",
          "27.5 g"
         ],
         "type": "scatter",
         "x": [
          0,
          2,
          4,
          7,
          9,
          11,
          14,
          16,
          18,
          21,
          23,
          25,
          28,
          30
         ],
         "y": [
          0.0800565,
          0.094221,
          0.10933,
          0.158994,
          0.17615699999999998,
          0.19407850000000001,
          0.2041605,
          0.246402,
          0.3050865,
          0.3683265,
          0.41817600000000005,
          0.4396155,
          0.5661554999999999,
          0.6206265000000001
         ]
        },
        {
         "hovertemplate": "<b>ID: 170</b><br>Time: %{x:} day<br>Tumour volume: %{y:.02f} cm^3<br>Body weight: %{text}<br>Cancer type: Lung cancer (LXF A677)<br><extra></extra>",
         "marker": {
          "color": "#B6E880",
          "line": {
           "color": "black",
           "width": 1
          },
          "opacity": 0.7,
          "symbol": "circle"
         },
         "mode": "markers",
         "name": "ID: 170",
         "showlegend": true,
         "text": [
          "28.3 g",
          "27.7 g",
          "27.9 g",
          "28.8 g",
          "29.3 g",
          "28.6 g",
          "29.5 g",
          "28.9 g",
          "26.8 g",
          "28.7 g",
          "27.3 g",
          "28.7 g",
          "28.5 g",
          "27.5 g"
         ],
         "type": "scatter",
         "visible": false,
         "x": [
          0,
          2,
          4,
          7,
          9,
          11,
          14,
          16,
          18,
          21,
          23,
          25,
          28,
          30
         ],
         "y": [
          28.3,
          27.7,
          27.9,
          28.8,
          29.3,
          28.6,
          29.5,
          28.9,
          26.8,
          28.7,
          27.3,
          28.7,
          28.5,
          27.5
         ]
        }
       ],
       "layout": {
        "autosize": true,
        "legend": {
         "x": 1.05,
         "xanchor": "left",
         "y": 0.01,
         "yanchor": "bottom"
        },
        "template": {
         "data": {
          "bar": [
           {
            "error_x": {
             "color": "#2a3f5f"
            },
            "error_y": {
             "color": "#2a3f5f"
            },
            "marker": {
             "line": {
              "color": "white",
              "width": 0.5
             }
            },
            "type": "bar"
           }
          ],
          "barpolar": [
           {
            "marker": {
             "line": {
              "color": "white",
              "width": 0.5
             }
            },
            "type": "barpolar"
           }
          ],
          "carpet": [
           {
            "aaxis": {
             "endlinecolor": "#2a3f5f",
             "gridcolor": "#C8D4E3",
             "linecolor": "#C8D4E3",
             "minorgridcolor": "#C8D4E3",
             "startlinecolor": "#2a3f5f"
            },
            "baxis": {
             "endlinecolor": "#2a3f5f",
             "gridcolor": "#C8D4E3",
             "linecolor": "#C8D4E3",
             "minorgridcolor": "#C8D4E3",
             "startlinecolor": "#2a3f5f"
            },
            "type": "carpet"
           }
          ],
          "choropleth": [
           {
            "colorbar": {
             "outlinewidth": 0,
             "ticks": ""
            },
            "type": "choropleth"
           }
          ],
          "contour": [
           {
            "colorbar": {
             "outlinewidth": 0,
             "ticks": ""
            },
            "colorscale": [
             [
              0,
              "#0d0887"
             ],
             [
              0.1111111111111111,
              "#46039f"
             ],
             [
              0.2222222222222222,
              "#7201a8"
             ],
             [
              0.3333333333333333,
              "#9c179e"
             ],
             [
              0.4444444444444444,
              "#bd3786"
             ],
             [
              0.5555555555555556,
              "#d8576b"
             ],
             [
              0.6666666666666666,
              "#ed7953"
             ],
             [
              0.7777777777777778,
              "#fb9f3a"
             ],
             [
              0.8888888888888888,
              "#fdca26"
             ],
             [
              1,
              "#f0f921"
             ]
            ],
            "type": "contour"
           }
          ],
          "contourcarpet": [
           {
            "colorbar": {
             "outlinewidth": 0,
             "ticks": ""
            },
            "type": "contourcarpet"
           }
          ],
          "heatmap": [
           {
            "colorbar": {
             "outlinewidth": 0,
             "ticks": ""
            },
            "colorscale": [
             [
              0,
              "#0d0887"
             ],
             [
              0.1111111111111111,
              "#46039f"
             ],
             [
              0.2222222222222222,
              "#7201a8"
             ],
             [
              0.3333333333333333,
              "#9c179e"
             ],
             [
              0.4444444444444444,
              "#bd3786"
             ],
             [
              0.5555555555555556,
              "#d8576b"
             ],
             [
              0.6666666666666666,
              "#ed7953"
             ],
             [
              0.7777777777777778,
              "#fb9f3a"
             ],
             [
              0.8888888888888888,
              "#fdca26"
             ],
             [
              1,
              "#f0f921"
             ]
            ],
            "type": "heatmap"
           }
          ],
          "heatmapgl": [
           {
            "colorbar": {
             "outlinewidth": 0,
             "ticks": ""
            },
            "colorscale": [
             [
              0,
              "#0d0887"
             ],
             [
              0.1111111111111111,
              "#46039f"
             ],
             [
              0.2222222222222222,
              "#7201a8"
             ],
             [
              0.3333333333333333,
              "#9c179e"
             ],
             [
              0.4444444444444444,
              "#bd3786"
             ],
             [
              0.5555555555555556,
              "#d8576b"
             ],
             [
              0.6666666666666666,
              "#ed7953"
             ],
             [
              0.7777777777777778,
              "#fb9f3a"
             ],
             [
              0.8888888888888888,
              "#fdca26"
             ],
             [
              1,
              "#f0f921"
             ]
            ],
            "type": "heatmapgl"
           }
          ],
          "histogram": [
           {
            "marker": {
             "colorbar": {
              "outlinewidth": 0,
              "ticks": ""
             }
            },
            "type": "histogram"
           }
          ],
          "histogram2d": [
           {
            "colorbar": {
             "outlinewidth": 0,
             "ticks": ""
            },
            "colorscale": [
             [
              0,
              "#0d0887"
             ],
             [
              0.1111111111111111,
              "#46039f"
             ],
             [
              0.2222222222222222,
              "#7201a8"
             ],
             [
              0.3333333333333333,
              "#9c179e"
             ],
             [
              0.4444444444444444,
              "#bd3786"
             ],
             [
              0.5555555555555556,
              "#d8576b"
             ],
             [
              0.6666666666666666,
              "#ed7953"
             ],
             [
              0.7777777777777778,
              "#fb9f3a"
             ],
             [
              0.8888888888888888,
              "#fdca26"
             ],
             [
              1,
              "#f0f921"
             ]
            ],
            "type": "histogram2d"
           }
          ],
          "histogram2dcontour": [
           {
            "colorbar": {
             "outlinewidth": 0,
             "ticks": ""
            },
            "colorscale": [
             [
              0,
              "#0d0887"
             ],
             [
              0.1111111111111111,
              "#46039f"
             ],
             [
              0.2222222222222222,
              "#7201a8"
             ],
             [
              0.3333333333333333,
              "#9c179e"
             ],
             [
              0.4444444444444444,
              "#bd3786"
             ],
             [
              0.5555555555555556,
              "#d8576b"
             ],
             [
              0.6666666666666666,
              "#ed7953"
             ],
             [
              0.7777777777777778,
              "#fb9f3a"
             ],
             [
              0.8888888888888888,
              "#fdca26"
             ],
             [
              1,
              "#f0f921"
             ]
            ],
            "type": "histogram2dcontour"
           }
          ],
          "mesh3d": [
           {
            "colorbar": {
             "outlinewidth": 0,
             "ticks": ""
            },
            "type": "mesh3d"
           }
          ],
          "parcoords": [
           {
            "line": {
             "colorbar": {
              "outlinewidth": 0,
              "ticks": ""
             }
            },
            "type": "parcoords"
           }
          ],
          "pie": [
           {
            "automargin": true,
            "type": "pie"
           }
          ],
          "scatter": [
           {
            "marker": {
             "colorbar": {
              "outlinewidth": 0,
              "ticks": ""
             }
            },
            "type": "scatter"
           }
          ],
          "scatter3d": [
           {
            "line": {
             "colorbar": {
              "outlinewidth": 0,
              "ticks": ""
             }
            },
            "marker": {
             "colorbar": {
              "outlinewidth": 0,
              "ticks": ""
             }
            },
            "type": "scatter3d"
           }
          ],
          "scattercarpet": [
           {
            "marker": {
             "colorbar": {
              "outlinewidth": 0,
              "ticks": ""
             }
            },
            "type": "scattercarpet"
           }
          ],
          "scattergeo": [
           {
            "marker": {
             "colorbar": {
              "outlinewidth": 0,
              "ticks": ""
             }
            },
            "type": "scattergeo"
           }
          ],
          "scattergl": [
           {
            "marker": {
             "colorbar": {
              "outlinewidth": 0,
              "ticks": ""
             }
            },
            "type": "scattergl"
           }
          ],
          "scattermapbox": [
           {
            "marker": {
             "colorbar": {
              "outlinewidth": 0,
              "ticks": ""
             }
            },
            "type": "scattermapbox"
           }
          ],
          "scatterpolar": [
           {
            "marker": {
             "colorbar": {
              "outlinewidth": 0,
              "ticks": ""
             }
            },
            "type": "scatterpolar"
           }
          ],
          "scatterpolargl": [
           {
            "marker": {
             "colorbar": {
              "outlinewidth": 0,
              "ticks": ""
             }
            },
            "type": "scatterpolargl"
           }
          ],
          "scatterternary": [
           {
            "marker": {
             "colorbar": {
              "outlinewidth": 0,
              "ticks": ""
             }
            },
            "type": "scatterternary"
           }
          ],
          "surface": [
           {
            "colorbar": {
             "outlinewidth": 0,
             "ticks": ""
            },
            "colorscale": [
             [
              0,
              "#0d0887"
             ],
             [
              0.1111111111111111,
              "#46039f"
             ],
             [
              0.2222222222222222,
              "#7201a8"
             ],
             [
              0.3333333333333333,
              "#9c179e"
             ],
             [
              0.4444444444444444,
              "#bd3786"
             ],
             [
              0.5555555555555556,
              "#d8576b"
             ],
             [
              0.6666666666666666,
              "#ed7953"
             ],
             [
              0.7777777777777778,
              "#fb9f3a"
             ],
             [
              0.8888888888888888,
              "#fdca26"
             ],
             [
              1,
              "#f0f921"
             ]
            ],
            "type": "surface"
           }
          ],
          "table": [
           {
            "cells": {
             "fill": {
              "color": "#EBF0F8"
             },
             "line": {
              "color": "white"
             }
            },
            "header": {
             "fill": {
              "color": "#C8D4E3"
             },
             "line": {
              "color": "white"
             }
            },
            "type": "table"
           }
          ]
         },
         "layout": {
          "annotationdefaults": {
           "arrowcolor": "#2a3f5f",
           "arrowhead": 0,
           "arrowwidth": 1
          },
          "coloraxis": {
           "colorbar": {
            "outlinewidth": 0,
            "ticks": ""
           }
          },
          "colorscale": {
           "diverging": [
            [
             0,
             "#8e0152"
            ],
            [
             0.1,
             "#c51b7d"
            ],
            [
             0.2,
             "#de77ae"
            ],
            [
             0.3,
             "#f1b6da"
            ],
            [
             0.4,
             "#fde0ef"
            ],
            [
             0.5,
             "#f7f7f7"
            ],
            [
             0.6,
             "#e6f5d0"
            ],
            [
             0.7,
             "#b8e186"
            ],
            [
             0.8,
             "#7fbc41"
            ],
            [
             0.9,
             "#4d9221"
            ],
            [
             1,
             "#276419"
            ]
           ],
           "sequential": [
            [
             0,
             "#0d0887"
            ],
            [
             0.1111111111111111,
             "#46039f"
            ],
            [
             0.2222222222222222,
             "#7201a8"
            ],
            [
             0.3333333333333333,
             "#9c179e"
            ],
            [
             0.4444444444444444,
             "#bd3786"
            ],
            [
             0.5555555555555556,
             "#d8576b"
            ],
            [
             0.6666666666666666,
             "#ed7953"
            ],
            [
             0.7777777777777778,
             "#fb9f3a"
            ],
            [
             0.8888888888888888,
             "#fdca26"
            ],
            [
             1,
             "#f0f921"
            ]
           ],
           "sequentialminus": [
            [
             0,
             "#0d0887"
            ],
            [
             0.1111111111111111,
             "#46039f"
            ],
            [
             0.2222222222222222,
             "#7201a8"
            ],
            [
             0.3333333333333333,
             "#9c179e"
            ],
            [
             0.4444444444444444,
             "#bd3786"
            ],
            [
             0.5555555555555556,
             "#d8576b"
            ],
            [
             0.6666666666666666,
             "#ed7953"
            ],
            [
             0.7777777777777778,
             "#fb9f3a"
            ],
            [
             0.8888888888888888,
             "#fdca26"
            ],
            [
             1,
             "#f0f921"
            ]
           ]
          },
          "colorway": [
           "#636efa",
           "#EF553B",
           "#00cc96",
           "#ab63fa",
           "#FFA15A",
           "#19d3f3",
           "#FF6692",
           "#B6E880",
           "#FF97FF",
           "#FECB52"
          ],
          "font": {
           "color": "#2a3f5f"
          },
          "geo": {
           "bgcolor": "white",
           "lakecolor": "white",
           "landcolor": "white",
           "showlakes": true,
           "showland": true,
           "subunitcolor": "#C8D4E3"
          },
          "hoverlabel": {
           "align": "left"
          },
          "hovermode": "closest",
          "mapbox": {
           "style": "light"
          },
          "paper_bgcolor": "white",
          "plot_bgcolor": "white",
          "polar": {
           "angularaxis": {
            "gridcolor": "#EBF0F8",
            "linecolor": "#EBF0F8",
            "ticks": ""
           },
           "bgcolor": "white",
           "radialaxis": {
            "gridcolor": "#EBF0F8",
            "linecolor": "#EBF0F8",
            "ticks": ""
           }
          },
          "scene": {
           "xaxis": {
            "backgroundcolor": "white",
            "gridcolor": "#DFE8F3",
            "gridwidth": 2,
            "linecolor": "#EBF0F8",
            "showbackground": true,
            "ticks": "",
            "zerolinecolor": "#EBF0F8"
           },
           "yaxis": {
            "backgroundcolor": "white",
            "gridcolor": "#DFE8F3",
            "gridwidth": 2,
            "linecolor": "#EBF0F8",
            "showbackground": true,
            "ticks": "",
            "zerolinecolor": "#EBF0F8"
           },
           "zaxis": {
            "backgroundcolor": "white",
            "gridcolor": "#DFE8F3",
            "gridwidth": 2,
            "linecolor": "#EBF0F8",
            "showbackground": true,
            "ticks": "",
            "zerolinecolor": "#EBF0F8"
           }
          },
          "shapedefaults": {
           "line": {
            "color": "#2a3f5f"
           }
          },
          "ternary": {
           "aaxis": {
            "gridcolor": "#DFE8F3",
            "linecolor": "#A2B1C6",
            "ticks": ""
           },
           "baxis": {
            "gridcolor": "#DFE8F3",
            "linecolor": "#A2B1C6",
            "ticks": ""
           },
           "bgcolor": "white",
           "caxis": {
            "gridcolor": "#DFE8F3",
            "linecolor": "#A2B1C6",
            "ticks": ""
           }
          },
          "title": {
           "x": 0.05
          },
          "xaxis": {
           "automargin": true,
           "gridcolor": "#EBF0F8",
           "linecolor": "#EBF0F8",
           "ticks": "",
           "title": {
            "standoff": 15
           },
           "zerolinecolor": "#EBF0F8",
           "zerolinewidth": 2
          },
          "yaxis": {
           "automargin": true,
           "gridcolor": "#EBF0F8",
           "linecolor": "#EBF0F8",
           "ticks": "",
           "title": {
            "standoff": 15
           },
           "zerolinecolor": "#EBF0F8",
           "zerolinewidth": 2
          }
         }
        },
        "updatemenus": [
         {
          "buttons": [
           {
            "args": [
             {
              "yaxis.type": "linear"
             }
            ],
            "label": "Linear y-scale",
            "method": "relayout"
           },
           {
            "args": [
             {
              "yaxis.type": "log"
             }
            ],
            "label": "Log y-scale",
            "method": "relayout"
           }
          ],
          "direction": "left",
          "pad": {
           "r": 0,
           "t": -10
          },
          "showactive": true,
          "type": "buttons",
          "x": 0,
          "xanchor": "left",
          "y": 1.15,
          "yanchor": "top"
         },
         {
          "buttons": [
           {
            "args": [
             {
              "visible": [
               true,
               false,
               true,
               false,
               true,
               false,
               true,
               false,
               true,
               false,
               true,
               false,
               true,
               false,
               true,
               false
              ]
             },
             {
              "yaxis": {
               "title": "$\\text{Tumour volume in cm}^3$"
              }
             }
            ],
            "label": "Tumour volume",
            "method": "update"
           },
           {
            "args": [
             {
              "visible": [
               false,
               true,
               false,
               true,
               false,
               true,
               false,
               true,
               false,
               true,
               false,
               true,
               false,
               true,
               false,
               true
              ]
             },
             {
              "yaxis": {
               "title": "$\\text{Body weight in g}$"
              }
             }
            ],
            "label": "Body weight",
            "method": "update"
           }
          ],
          "direction": "down",
          "pad": {
           "r": 0,
           "t": -10
          },
          "showactive": true,
          "type": "buttons",
          "x": 1.07,
          "xanchor": "left",
          "y": 1.1,
          "yanchor": "top"
         }
        ],
        "xaxis": {
         "title": {
          "text": "$\\text{Time in day}$"
         }
        },
        "yaxis": {
         "title": {
          "text": "$\\text{Tumour volume in cm}^3$"
         }
        }
       }
      }
     },
     "metadata": {}
    }
   ],
   "source": [
    "#\n",
    "# Visualise control growth data.\n",
    "#\n",
    "\n",
    "import os\n",
    "\n",
    "import pandas as pd\n",
    "import plotly.colors\n",
    "import plotly.graph_objects as go\n",
    "\n",
    "\n",
    "# Import data\n",
    "# Get path of current working directory\n",
    "path = os.getcwd()\n",
    "\n",
    "# Import LXF A677 control growth data\n",
    "data = pd.read_csv(path + '/data/lxf_control_growth.csv')\n",
    "\n",
    "# Get mouse ids\n",
    "mouse_ids = data['#ID'].unique()\n",
    "\n",
    "# Get number of mice\n",
    "n_mice = len(mouse_ids)\n",
    "\n",
    "# Define colorscheme\n",
    "colors = plotly.colors.qualitative.Plotly[:n_mice]\n",
    "\n",
    "# Create figure\n",
    "fig = go.Figure()\n",
    "\n",
    "# Scatter plot LXF A677 time-series data for each mouse\n",
    "for index, id_m in enumerate(mouse_ids):\n",
    "    # Create mask for mouse\n",
    "    mask = data['#ID'] == id_m\n",
    "\n",
    "    # Get time points for mouse\n",
    "    times = data['TIME in day'][mask]\n",
    "\n",
    "    # Get observed tumour volumes for mouse\n",
    "    observed_volumes = data['TUMOUR VOLUME in cm^3'][mask]\n",
    "\n",
    "    # Get mass time series\n",
    "    masses = data['BODY WEIGHT in g'][mask]\n",
    "\n",
    "    # Plot tumour volume over time\n",
    "    fig.add_trace(go.Scatter(\n",
    "        x=times,\n",
    "        y=observed_volumes,\n",
    "        name=\"ID: %d\" % id_m,\n",
    "        showlegend=True,\n",
    "        hovertemplate=\n",
    "            \"<b>ID: %d</b><br>\" % (id_m) +\n",
    "            \"Time: %{x:} day<br>\" +\n",
    "            \"Tumour volume: %{y:.02f} cm^3<br>\" +\n",
    "            \"Body weight: %{text}<br>\" +\n",
    "            \"Cancer type: Lung cancer (LXF A677)<br>\" +\n",
    "            \"<extra></extra>\",\n",
    "        text=['%.01f g' % mass for mass in masses],\n",
    "        mode=\"markers\",\n",
    "        marker=dict(\n",
    "            symbol='circle',\n",
    "            color=colors[index],\n",
    "            opacity=0.7,\n",
    "            line=dict(color='black', width=1))\n",
    "    ))\n",
    "\n",
    "    # Plot mass over time\n",
    "    fig.add_trace(go.Scatter(\n",
    "        x=times,\n",
    "        y=masses,\n",
    "        name=\"ID: %d\" % id_m,\n",
    "        showlegend=True,\n",
    "        visible=False,\n",
    "        hovertemplate=\n",
    "            \"<b>ID: %d</b><br>\" % (id_m) +\n",
    "            \"Time: %{x:} day<br>\" +\n",
    "            \"Tumour volume: %{y:.02f} cm^3<br>\" +\n",
    "            \"Body weight: %{text}<br>\" +\n",
    "            \"Cancer type: Lung cancer (LXF A677)<br>\" +\n",
    "            \"<extra></extra>\",\n",
    "        text=['%.01f g' % mass for mass in masses],\n",
    "        mode=\"markers\",\n",
    "        marker=dict(\n",
    "            symbol='circle',\n",
    "            color=colors[index],\n",
    "            opacity=0.7,\n",
    "            line=dict(color='black', width=1))\n",
    "    ))\n",
    "\n",
    "# Set X, Y axis and figure size\n",
    "fig.update_layout(\n",
    "    autosize=True,\n",
    "    xaxis_title=r'$\\text{Time in day}$',\n",
    "    yaxis_title=r'$\\text{Tumour volume in cm}^3$',\n",
    "    template=\"plotly_white\")\n",
    "\n",
    "# Add switch between linear and log y-scale\n",
    "fig.update_layout(\n",
    "    updatemenus=[\n",
    "        dict(\n",
    "            type = \"buttons\",\n",
    "            direction = \"left\",\n",
    "            buttons=list([\n",
    "                dict(\n",
    "                    args=[{\"yaxis.type\": \"linear\"}],\n",
    "                    label=\"Linear y-scale\",\n",
    "                    method=\"relayout\"\n",
    "                ),\n",
    "                dict(\n",
    "                    args=[{\"yaxis.type\": \"log\"}],\n",
    "                    label=\"Log y-scale\",\n",
    "                    method=\"relayout\"\n",
    "                )\n",
    "            ]),\n",
    "            pad={\"r\": 0, \"t\": -10},\n",
    "            showactive=True,\n",
    "            x=0.0,\n",
    "            xanchor=\"left\",\n",
    "            y=1.15,\n",
    "            yanchor=\"top\"\n",
    "        ),\n",
    "        dict(\n",
    "            type = \"buttons\",\n",
    "            direction = \"down\",\n",
    "            buttons=list([\n",
    "                dict(\n",
    "                    args=[\n",
    "                        {\"visible\": [True, False] * n_mice},\n",
    "                        {\"yaxis\": {\"title\": r'$\\text{Tumour volume in cm}^3$'}}],\n",
    "                    label=\"Tumour volume\",\n",
    "                    method=\"update\"\n",
    "                ),\n",
    "                dict(\n",
    "                    args=[\n",
    "                        {\"visible\": [False, True] * n_mice}, \n",
    "                        {\"yaxis\": {\"title\": r'$\\text{Body weight in g}$'}}],\n",
    "                    label=\"Body weight\",\n",
    "                    method=\"update\"\n",
    "                ),\n",
    "            ]),\n",
    "            pad={\"r\": 0, \"t\": -10},\n",
    "            showactive=True,\n",
    "            x=1.07,\n",
    "            xanchor=\"left\",\n",
    "            y=1.1,\n",
    "            yanchor=\"top\"\n",
    "        ),\n",
    "    ]\n",
    ")\n",
    "\n",
    "# Position legend\n",
    "fig.update_layout(legend=dict(\n",
    "    yanchor=\"bottom\",\n",
    "    y=0.01,\n",
    "    xanchor=\"left\",\n",
    "    x=1.05))\n",
    "\n",
    "# Show figure\n",
    "fig.show()"
   ]
  },
  {
   "cell_type": "markdown",
   "metadata": {},
   "source": [
    "**Figure 1 - Untreated tumour growth:** Untreated tumour growth of patient-derived tumour explants LXF A677 (adenocarcinoma of the lung) implanted in mice. The colouring of the data points indicates the identity of the mice. The evolution of the body weight can be explored by using the buttons in the top right."
   ]
  },
  {
   "cell_type": "markdown",
   "metadata": {},
   "source": [
    "## Structural model\n",
    "\n",
    "In [[n1](https://nbviewer.jupyter.org/github/DavAug/ErlotinibGefitinib/blob/master/notebooks/lung_cancer/control_growth/identifiability_structural_model.ipynb)] we showed that a structural model with a transition from exponential growth of the tumour volume to a linear growth of the tumour volume is capable of capturing the observed data\n",
    "\n",
    "\\begin{equation*}\n",
    "    \\frac{\\text{d}V^s_T}{\\text{d}t} = \\frac{\\lambda V^s_T}{V^s_T / V_{\\text{crit}} + 1}.\n",
    "\\end{equation*}\n",
    "\n",
    "Here, $V^s_T$ is the tumour volume predicted by the structural model, $V_{\\text{crit}}$ is the critical tumour volume at which the growth transitions from exponential to linear, and $\\lambda $ is the exponential growth rate. We can see that the tumour growth is exponential for tumour volumes much smaller than the critical volume $V^s_T \\ll V_{\\text{crit}}$, and linear for tumour volumes much larger than the critical volume $V^s_T \\gg V_{\\text{crit}}$. This parameterisation is equivalent to the structural model presented in [1] when setting $\\lambda $ equal to twice the exponential growth rate ($\\lambda = 2\\lambda _0$), and $\\lambda V_{\\text{crit}}$ equal to the linear growth rate ($\\lambda V_{\\text{crit}}=\\lambda _0$).\n",
    "\n",
    "In [[n1](https://nbviewer.jupyter.org/github/DavAug/ErlotinibGefitinib/blob/master/notebooks/lung_cancer/control_growth/identifiability_structural_model.ipynb)] we argued that the stability of the optimisation can be improved by non-dimensionalising the model, and log-transforming its parameteters. We thus perform all optimisations in this transformed search space."
   ]
  },
  {
   "cell_type": "markdown",
   "metadata": {},
   "source": [
    "## Constant noise model (all mice have their own noise parameter)\n",
    "\n",
    "Explanation\n",
    "\n",
    "- Identifiability, joined noise model"
   ]
  },
  {
   "cell_type": "markdown",
   "metadata": {},
   "source": [
    "### Identifiability"
   ]
  },
  {
   "cell_type": "code",
   "execution_count": 1,
   "metadata": {
    "tags": []
   },
   "outputs": [],
   "source": [
    "#\n",
    "# Define pints model wrapper such that myokit model can be used for inference.\n",
    "#\n",
    "\n",
    "import myokit\n",
    "import pints\n",
    "\n",
    "from pkpd import model as m\n",
    "\n",
    "\n",
    "# Wrap myokit model, so it can be used with pints\n",
    "class DimensionlessLogTransformedPintsModel(pints.ForwardModel):\n",
    "    def __init__(self):\n",
    "        # Create myokit model\n",
    "        model = m.create_dimless_tumour_growth_model()\n",
    "\n",
    "        # Create simulator\n",
    "        self.sim = myokit.Simulation(model)\n",
    "\n",
    "    def n_parameters(self):\n",
    "        \"\"\"\n",
    "        Number of parameters to fit. Here log v, log a_0, log a_1.\n",
    "        \"\"\"\n",
    "        return 3\n",
    "\n",
    "    def n_outputs(self):\n",
    "        return 1\n",
    "\n",
    "    def simulate(self, log_parameters, times):\n",
    "        # Reset simulation\n",
    "        self.sim.reset()\n",
    "\n",
    "        # Sort input parameters\n",
    "        initial_volume, a_0, a_1 = np.exp(log_parameters)\n",
    "\n",
    "        # Set initial condition\n",
    "        self.sim.set_state([initial_volume])\n",
    "\n",
    "        # Set growth constants\n",
    "        self.sim.set_constant('central.a_0', a_0)\n",
    "        self.sim.set_constant('central.a_1', a_1)\n",
    "\n",
    "        # Define logged variable\n",
    "        loggedVariable = 'central.volume_t'\n",
    "\n",
    "        # Simulate\n",
    "        output = self.sim.run(times[-1] + 1, log=[loggedVariable], log_times=times)\n",
    "        result = output[loggedVariable]\n",
    "\n",
    "        return np.array(result)"
   ]
  },
  {
   "cell_type": "code",
   "execution_count": 4,
   "metadata": {
    "tags": []
   },
   "outputs": [
    {
     "output_type": "display_data",
     "data": {
      "text/plain": "HBox(children=(FloatProgress(value=0.0, max=8.0), HTML(value='')))",
      "application/vnd.jupyter.widget-view+json": {
       "version_major": 2,
       "version_minor": 0,
       "model_id": "ebd706a150cd4084b9220b470f1f1c7e"
      }
     },
     "metadata": {}
    },
    {
     "output_type": "stream",
     "name": "stderr",
     "text": "/Users/david/Documents/SABS/DPhil/Rotation 1 - PKPD Modelling Workflow/notebooks/ErlotinibGefitinib/venv/lib/python3.7/site-packages/cma/evolution_strategy.py:3597: RuntimeWarning:\n\ninvalid value encountered in double_scalars\n\n/Users/david/Documents/SABS/DPhil/Rotation 1 - PKPD Modelling Workflow/notebooks/ErlotinibGefitinib/venv/lib/python3.7/site-packages/cma/evolution_strategy.py:3591: RuntimeWarning:\n\ninvalid value encountered in double_scalars\n\n\n"
    }
   ],
   "source": [
    "#\n",
    "# Run optimisation multiple times from random initial starting points.\n",
    "#\n",
    "# This cell needs the above defined wrapped myokit model:\n",
    "# [DimensionlessLogTransformedPintsModel]\n",
    "#\n",
    "\n",
    "import os\n",
    "\n",
    "import myokit\n",
    "import numpy as np\n",
    "import pandas as pd\n",
    "import pints\n",
    "from tqdm.notebook import tqdm\n",
    "\n",
    "import pkpd.likelihoods\n",
    "\n",
    "\n",
    "# Define characteristic scales\n",
    "characteristic_volume = 1  # in cm^3\n",
    "characteristic_time = 1  # in day\n",
    "\n",
    "# Define number of optimisation runs for each individual\n",
    "n_runs = 10\n",
    "\n",
    "# Import data\n",
    "# Get path of current working directory\n",
    "path = os.getcwd()\n",
    "\n",
    "# Import LXF A677 control growth data\n",
    "data = pd.read_csv(path + '/data/lxf_control_growth.csv')\n",
    "n_mice = len(data['#ID'].unique())\n",
    "\n",
    "# Define container for the structural model estimates\n",
    "# Shape (n_mice, n_runs, n_structural_params + n_noise_params)\n",
    "n_structural_params = 3\n",
    "n_noise_params = 1\n",
    "transf_params = np.empty(shape=(n_mice, n_runs, n_structural_params + n_noise_params))\n",
    "\n",
    "# Define container for the objective function score for the optimised parameters\n",
    "log_posterior_scores = np.empty(shape=(n_mice, n_runs))\n",
    "\n",
    "# Create priors for tranformed parameters\n",
    "log_prior_structural_params = pints.UniformLogPrior(\n",
    "    lower_or_boundaries=np.log([1E-3] * n_structural_params),\n",
    "    upper=np.log([1E3] * n_structural_params))\n",
    "log_prior_sigma = pints.HalfCauchyLogPrior(location=0, scale=3)\n",
    "log_prior = pints.ComposedLogPrior(log_prior_structural_params, log_prior_sigma)\n",
    "\n",
    "# Create inverse problems for the LXF A677 population\n",
    "mouse_ids = data['#ID'].unique()\n",
    "for index, mouse_id in enumerate(tqdm(mouse_ids)):\n",
    "    # Create mask for mouse with specfied ID\n",
    "    mouse_mask = data['#ID'] == mouse_id\n",
    "\n",
    "    # Get relevant time points\n",
    "    times = data[mouse_mask]['TIME in day'].to_numpy() / characteristic_time\n",
    "\n",
    "    # Get measured tumour volumes\n",
    "    observed_volumes = data[mouse_mask]['TUMOUR VOLUME in cm^3'].to_numpy() / characteristic_volume\n",
    "\n",
    "    # Create inverse problem\n",
    "    problem = pints.SingleOutputProblem(\n",
    "        DimensionlessLogTransformedPintsModel(), times, observed_volumes)\n",
    "\n",
    "    # Create likelihood assuming a constant Gaussian noise\n",
    "    log_likelihood = pints.GaussianLogLikelihood(problem)\n",
    "\n",
    "    # Create posterior\n",
    "    log_posterior = pints.LogPosterior(log_likelihood, log_prior)\n",
    "\n",
    "    # Define initial starting points by sampling from prior\n",
    "    initial_parameters = log_prior.sample(n=n_runs)\n",
    "\n",
    "    # Run optimisation multiple times\n",
    "    for run_id, initial_params in enumerate(initial_parameters):\n",
    "\n",
    "        # Create optimisation controller with a CMA-ES optimiser\n",
    "        optimiser = pints.OptimisationController(\n",
    "            function=log_posterior,\n",
    "            x0=initial_params,\n",
    "            method=pints.CMAES)\n",
    "\n",
    "        # Disable logging mode\n",
    "        optimiser.set_log_to_screen(False)\n",
    "\n",
    "        # Parallelise optimisation\n",
    "        optimiser.set_parallel(True)\n",
    "\n",
    "        # Find optimal parameters\n",
    "        try:\n",
    "            estimates, score = optimiser.run()\n",
    "        except:\n",
    "            # If inference breaks fill estimates with nan\n",
    "            estimates = np.array([np.nan] * (n_structural_params + n_noise_params))\n",
    "            score = np.nan\n",
    "\n",
    "        # Save estimates and score\n",
    "        transf_params[index, run_id, :] = estimates\n",
    "        log_posterior_scores[index, run_id] = score"
   ]
  },
  {
   "cell_type": "code",
   "execution_count": 5,
   "metadata": {},
   "outputs": [],
   "source": [
    "#\n",
    "# Transform parameters to biological parameters (initial tumour volume, critical tumour volume, growth rate, sigma).\n",
    "# \n",
    "# This cell needs the above inferred dimensionless parameters and the characteristic volume and time scale:\n",
    "# [transf_params, characteristic_volume, characteristic_time]\n",
    "#\n",
    "\n",
    "import numpy as np\n",
    "\n",
    "\n",
    "# Initialise container for backtransformed paramters\n",
    "# Shape (n_mice, n_runs, n_parameters)\n",
    "mouse_parameters = np.empty(shape=transf_params.shape)\n",
    "\n",
    "# Transform initial volumes\n",
    "# V_0 = exp(log(v_0)) * V^c\n",
    "mouse_parameters[:, :, 0] = np.exp(transf_params[:, :, 0]) * characteristic_volume\n",
    "\n",
    "# Transform critical volume \n",
    "# V_crit = exp(log(a_0)) * V^c\n",
    "mouse_parameters[:, :, 1] = np.exp(transf_params[:, :, 1]) * characteristic_volume\n",
    "\n",
    "# Transform exponential growth rate\n",
    "# lambda = exp(log(a_1 / a_0) / t^c\n",
    "mouse_parameters[:, :, 2] = \\\n",
    "    np.exp(transf_params[:, :, 2] - transf_params[:, :, 1]) / characteristic_time\n",
    "\n",
    "# Transform sigma\n",
    "# sigma = sigma_dimensionless * V^c\n",
    "mouse_parameters[:, :, 3] = np.exp(transf_params[:, :, 3]) * characteristic_volume"
   ]
  },
  {
   "cell_type": "code",
   "execution_count": 6,
   "metadata": {},
   "outputs": [
    {
     "output_type": "display_data",
     "data": {
      "application/vnd.plotly.v1+json": {
       "config": {
        "plotlyServerURL": "https://plot.ly"
       },
       "data": [
        {
         "boxpoints": "all",
         "jitter": 0.2,
         "line": {
          "color": "#636EFA"
         },
         "marker": {
          "color": "#636EFA",
          "line": {
           "color": "black",
           "width": 1
          },
          "opacity": 0.7,
          "symbol": "circle"
         },
         "name": "Initial tumour volume in cm^3",
         "pointpos": -1.5,
         "type": "box",
         "visible": true,
         "y": [
          0.14029105974755962,
          0.1396707516047919,
          0.14053773926544946,
          0.13886310405214536,
          0.13932410627691963,
          0.13941962234234848,
          0.13967428778401322,
          0.13898233670133256,
          0.13920735978929724,
          0.1385655228221115
         ]
        },
        {
         "boxpoints": "all",
         "jitter": 0.2,
         "line": {
          "color": "#EF553B"
         },
         "marker": {
          "color": "#EF553B",
          "line": {
           "color": "black",
           "width": 1
          },
          "opacity": 0.7,
          "symbol": "circle"
         },
         "name": "Critical volume in cm^3",
         "pointpos": -1.5,
         "type": "box",
         "visible": true,
         "y": [
          0.23947811344666944,
          0.23842513183649905,
          0.2398383773926901,
          0.23699803731968302,
          0.23777059204901266,
          0.23794615471625466,
          0.23836963406979103,
          0.23720343613596645,
          0.23757654963682465,
          0.2365161567473794
         ]
        },
        {
         "boxpoints": "all",
         "jitter": 0.2,
         "line": {
          "color": "#00CC96"
         },
         "marker": {
          "color": "#00CC96",
          "line": {
           "color": "black",
           "width": 1
          },
          "opacity": 0.7,
          "symbol": "circle"
         },
         "name": "Exponential growth rate in 1/day",
         "pointpos": -1.5,
         "type": "box",
         "visible": true,
         "y": [
          0.5473329906228143,
          0.549364188112526,
          0.5462195372736351,
          0.5521633674602789,
          0.5508203124737759,
          0.55039896096502,
          0.549609549490668,
          0.5515559749646959,
          0.5510915348336473,
          0.5537793975206823
         ]
        },
        {
         "boxpoints": "all",
         "jitter": 0.2,
         "line": {
          "color": "#AB63FA"
         },
         "marker": {
          "color": "#AB63FA",
          "line": {
           "color": "black",
           "width": 1
          },
          "opacity": 0.7,
          "symbol": "circle"
         },
         "name": "Standard deviation in cm^3",
         "pointpos": -1.5,
         "type": "box",
         "visible": true,
         "y": [
          1.058055771945072,
          1.058215115212874,
          1.0581076320812393,
          1.0582415930694677,
          1.058066425996047,
          1.0579884324969442,
          1.0582062029673358,
          1.0585798132219164,
          1.0583313400805692,
          1.058018919278442
         ]
        },
        {
         "boxpoints": "all",
         "jitter": 0.2,
         "line": {
          "color": "#FFA15A"
         },
         "marker": {
          "color": "#FFA15A",
          "line": {
           "color": "black",
           "width": 1
          },
          "opacity": 0.7,
          "symbol": "circle"
         },
         "name": "Unnorm. log-posterior score",
         "pointpos": -1.5,
         "type": "box",
         "visible": true,
         "y": [
          5.127094570866081,
          5.127297880615977,
          5.126131208580077,
          5.126578881433662,
          5.127605822591798,
          5.127535431788679,
          5.1274660178795415,
          5.124691565688762,
          5.127210057648062,
          5.126508977168543
         ]
        },
        {
         "boxpoints": "all",
         "jitter": 0.2,
         "line": {
          "color": "#636EFA"
         },
         "marker": {
          "color": "#636EFA",
          "line": {
           "color": "black",
           "width": 1
          },
          "opacity": 0.7,
          "symbol": "circle"
         },
         "name": "Initial tumour volume in cm^3",
         "pointpos": -1.5,
         "type": "box",
         "visible": false,
         "y": [
          0.07479926789178125,
          0.07456913546751293,
          0.07479929482780584,
          0.07445622214611822,
          0.07454907479394726,
          0.07454890658823325,
          0.07479929516465328,
          0.07479927917798018,
          0.074799290689922,
          0.07443681510413137
         ]
        },
        {
         "boxpoints": "all",
         "jitter": 0.2,
         "line": {
          "color": "#EF553B"
         },
         "marker": {
          "color": "#EF553B",
          "line": {
           "color": "black",
           "width": 1
          },
          "opacity": 0.7,
          "symbol": "circle"
         },
         "name": "Critical volume in cm^3",
         "pointpos": -1.5,
         "type": "box",
         "visible": false,
         "y": [
          0.06177110258753126,
          0.06050114828054004,
          0.061771123746354094,
          0.05995457772907961,
          0.060457831837204136,
          0.060457703792871825,
          0.06177112399872526,
          0.061771111441509034,
          0.06177112049799933,
          0.059842140586496013
         ]
        },
        {
         "boxpoints": "all",
         "jitter": 0.2,
         "line": {
          "color": "#00CC96"
         },
         "marker": {
          "color": "#00CC96",
          "line": {
           "color": "black",
           "width": 1
          },
          "opacity": 0.7,
          "symbol": "circle"
         },
         "name": "Exponential growth rate in 1/day",
         "pointpos": -1.5,
         "type": "box",
         "visible": false,
         "y": [
          0.33007041828647243,
          0.3358028347232727,
          0.3300702763032949,
          0.33827925236080447,
          0.3359684147369871,
          0.3359689963698522,
          0.3300703110499321,
          0.3300703704953061,
          0.3300703105461952,
          0.3388007913984869
         ]
        },
        {
         "boxpoints": "all",
         "jitter": 0.2,
         "line": {
          "color": "#AB63FA"
         },
         "marker": {
          "color": "#AB63FA",
          "line": {
           "color": "black",
           "width": 1
          },
          "opacity": 0.7,
          "symbol": "circle"
         },
         "name": "Standard deviation in cm^3",
         "pointpos": -1.5,
         "type": "box",
         "visible": false,
         "y": [
          1.0233367717663007,
          1.0233143390829325,
          1.023336769871376,
          1.0233343493011762,
          1.023333513106332,
          1.023333439825031,
          1.0233367724470803,
          1.023336777835874,
          1.0233367606413268,
          1.023334029400302
         ]
        },
        {
         "boxpoints": "all",
         "jitter": 0.2,
         "line": {
          "color": "#FFA15A"
         },
         "marker": {
          "color": "#FFA15A",
          "line": {
           "color": "black",
           "width": 1
          },
          "opacity": 0.7,
          "symbol": "circle"
         },
         "name": "Unnorm. log-posterior score",
         "pointpos": -1.5,
         "type": "box",
         "visible": false,
         "y": [
          23.477112975502386,
          23.479042353662795,
          23.4771129754959,
          23.478530536052034,
          23.479081635125844,
          23.479081635225345,
          23.477112975493647,
          23.477112975499267,
          23.47711297548914,
          23.478770191321416
         ]
        },
        {
         "boxpoints": "all",
         "jitter": 0.2,
         "line": {
          "color": "#636EFA"
         },
         "marker": {
          "color": "#636EFA",
          "line": {
           "color": "black",
           "width": 1
          },
          "opacity": 0.7,
          "symbol": "circle"
         },
         "name": "Initial tumour volume in cm^3",
         "pointpos": -1.5,
         "type": "box",
         "visible": false,
         "y": [
          0.22090437402783866,
          0.22090435545786002,
          0.22090440188898158,
          0.22090437785334216,
          0.22090437708671382,
          0.22090438706923574,
          0.22090437226780818,
          0.22090438342685734,
          0.22090436879415112,
          0.2209043697244586
         ]
        },
        {
         "boxpoints": "all",
         "jitter": 0.2,
         "line": {
          "color": "#EF553B"
         },
         "marker": {
          "color": "#EF553B",
          "line": {
           "color": "black",
           "width": 1
          },
          "opacity": 0.7,
          "symbol": "circle"
         },
         "name": "Critical volume in cm^3",
         "pointpos": -1.5,
         "type": "box",
         "visible": false,
         "y": [
          999.9999999985911,
          999.9999999703967,
          999.9999999687652,
          999.999999998092,
          999.9999999916384,
          999.9999999890236,
          999.9999999697679,
          999.9999999786302,
          999.9999999980786,
          999.9999999826856
         ]
        },
        {
         "boxpoints": "all",
         "jitter": 0.2,
         "line": {
          "color": "#00CC96"
         },
         "marker": {
          "color": "#00CC96",
          "line": {
           "color": "black",
           "width": 1
          },
          "opacity": 0.7,
          "symbol": "circle"
         },
         "name": "Exponential growth rate in 1/day",
         "pointpos": -1.5,
         "type": "box",
         "visible": false,
         "y": [
          0.11118493118374309,
          0.11118493501922463,
          0.1111849245812502,
          0.11118493044002832,
          0.11118493030345768,
          0.1111849288485473,
          0.11118493103176673,
          0.11118492872155018,
          0.11118493311297059,
          0.11118493272891979
         ]
        },
        {
         "boxpoints": "all",
         "jitter": 0.2,
         "line": {
          "color": "#AB63FA"
         },
         "marker": {
          "color": "#AB63FA",
          "line": {
           "color": "black",
           "width": 1
          },
          "opacity": 0.7,
          "symbol": "circle"
         },
         "name": "Standard deviation in cm^3",
         "pointpos": -1.5,
         "type": "box",
         "visible": false,
         "y": [
          1.104875155840318,
          1.1048751571911917,
          1.1048751555949743,
          1.104875134761541,
          1.104875159429002,
          1.1048751352409951,
          1.1048751462503619,
          1.1048751361415652,
          1.1048751439793825,
          1.1048751609556682
         ]
        },
        {
         "boxpoints": "all",
         "jitter": 0.2,
         "line": {
          "color": "#FFA15A"
         },
         "marker": {
          "color": "#FFA15A",
          "line": {
           "color": "black",
           "width": 1
          },
          "opacity": 0.7,
          "symbol": "circle"
         },
         "name": "Unnorm. log-posterior score",
         "pointpos": -1.5,
         "type": "box",
         "visible": false,
         "y": [
          -0.5665119954070068,
          -0.5665119954078897,
          -0.5665119954082716,
          -0.5665119954078666,
          -0.5665119954073976,
          -0.5665119954082325,
          -0.5665119954072679,
          -0.5665119954079518,
          -0.566511995407776,
          -0.5665119954078293
         ]
        },
        {
         "boxpoints": "all",
         "jitter": 0.2,
         "line": {
          "color": "#636EFA"
         },
         "marker": {
          "color": "#636EFA",
          "line": {
           "color": "black",
           "width": 1
          },
          "opacity": 0.7,
          "symbol": "circle"
         },
         "name": "Initial tumour volume in cm^3",
         "pointpos": -1.5,
         "type": "box",
         "visible": false,
         "y": [
          0.14901871972272712,
          0.14906614716147784,
          0.14764452078942428,
          0.148799325120857,
          0.14897123252252173,
          0.1477229781445431,
          0.14891548410698635,
          0.1490797762840458,
          0.1482342678108574,
          0.14825657574659956
         ]
        },
        {
         "boxpoints": "all",
         "jitter": 0.2,
         "line": {
          "color": "#EF553B"
         },
         "marker": {
          "color": "#EF553B",
          "line": {
           "color": "black",
           "width": 1
          },
          "opacity": 0.7,
          "symbol": "circle"
         },
         "name": "Critical volume in cm^3",
         "pointpos": -1.5,
         "type": "box",
         "visible": false,
         "y": [
          1.1870748701023166,
          1.1874848824145112,
          1.1529554358913086,
          1.1854048829575414,
          1.186743882875139,
          1.1282643257318303,
          1.1862791174903566,
          1.187553261912813,
          1.1568681647621806,
          1.156497903200416
         ]
        },
        {
         "boxpoints": "all",
         "jitter": 0.2,
         "line": {
          "color": "#00CC96"
         },
         "marker": {
          "color": "#00CC96",
          "line": {
           "color": "black",
           "width": 1
          },
          "opacity": 0.7,
          "symbol": "circle"
         },
         "name": "Exponential growth rate in 1/day",
         "pointpos": -1.5,
         "type": "box",
         "visible": false,
         "y": [
          0.10851034631158911,
          0.10848967408425969,
          0.10985522751889784,
          0.10861972120524918,
          0.10853586711477516,
          0.11051681165035833,
          0.10855527289783519,
          0.10847557315886544,
          0.10957240522344724,
          0.10953952167494566
         ]
        },
        {
         "boxpoints": "all",
         "jitter": 0.2,
         "line": {
          "color": "#AB63FA"
         },
         "marker": {
          "color": "#AB63FA",
          "line": {
           "color": "black",
           "width": 1
          },
          "opacity": 0.7,
          "symbol": "circle"
         },
         "name": "Standard deviation in cm^3",
         "pointpos": -1.5,
         "type": "box",
         "visible": false,
         "y": [
          1.0550167863939086,
          1.055016543788136,
          1.0550610788652213,
          1.0551522896754888,
          1.0550784309926704,
          1.0550546100984168,
          1.054974706813505,
          1.0550415108024518,
          1.0551031139032194,
          1.055165940916352
         ]
        },
        {
         "boxpoints": "all",
         "jitter": 0.2,
         "line": {
          "color": "#FFA15A"
         },
         "marker": {
          "color": "#FFA15A",
          "line": {
           "color": "black",
           "width": 1
          },
          "opacity": 0.7,
          "symbol": "circle"
         },
         "name": "Unnorm. log-posterior score",
         "pointpos": -1.5,
         "type": "box",
         "visible": false,
         "y": [
          11.680280917869212,
          11.680131727025282,
          11.680403827799871,
          11.68000317030346,
          11.68013121477021,
          11.675505184932042,
          11.680200201301435,
          11.680263026408447,
          11.680941639496794,
          11.680715148421422
         ]
        },
        {
         "boxpoints": "all",
         "jitter": 0.2,
         "line": {
          "color": "#636EFA"
         },
         "marker": {
          "color": "#636EFA",
          "line": {
           "color": "black",
           "width": 1
          },
          "opacity": 0.7,
          "symbol": "circle"
         },
         "name": "Initial tumour volume in cm^3",
         "pointpos": -1.5,
         "type": "box",
         "visible": false,
         "y": [
          0.08417661224224292,
          0.08417663952765216,
          0.08417665078490988,
          0.08417659092857308,
          0.08417664641646623,
          0.08417664549560591,
          0.08417663805539286,
          0.08417666025618097,
          0.08417665196749541,
          0.08417664080553679
         ]
        },
        {
         "boxpoints": "all",
         "jitter": 0.2,
         "line": {
          "color": "#EF553B"
         },
         "marker": {
          "color": "#EF553B",
          "line": {
           "color": "black",
           "width": 1
          },
          "opacity": 0.7,
          "symbol": "circle"
         },
         "name": "Critical volume in cm^3",
         "pointpos": -1.5,
         "type": "box",
         "visible": false,
         "y": [
          999.999999547313,
          999.9999996581461,
          999.9999997592457,
          999.999999876821,
          999.9999999765083,
          999.9999997831252,
          999.9999997657019,
          999.9999997964852,
          999.9999997712982,
          999.9999999646014
         ]
        },
        {
         "boxpoints": "all",
         "jitter": 0.2,
         "line": {
          "color": "#00CC96"
         },
         "marker": {
          "color": "#00CC96",
          "line": {
           "color": "black",
           "width": 1
          },
          "opacity": 0.7,
          "symbol": "circle"
         },
         "name": "Exponential growth rate in 1/day",
         "pointpos": -1.5,
         "type": "box",
         "visible": false,
         "y": [
          0.10836538173632367,
          0.10836536788063975,
          0.10836536664622788,
          0.10836539023943184,
          0.10836536564179355,
          0.10836536682444345,
          0.10836536920200984,
          0.10836536101626765,
          0.10836536276192549,
          0.10836536712310917
         ]
        },
        {
         "boxpoints": "all",
         "jitter": 0.2,
         "line": {
          "color": "#AB63FA"
         },
         "marker": {
          "color": "#AB63FA",
          "line": {
           "color": "black",
           "width": 1
          },
          "opacity": 0.7,
          "symbol": "circle"
         },
         "name": "Standard deviation in cm^3",
         "pointpos": -1.5,
         "type": "box",
         "visible": false,
         "y": [
          1.107524107860881,
          1.1075241894527312,
          1.107524135938359,
          1.107524107905887,
          1.1075241377421428,
          1.1075241192283112,
          1.1075240805168232,
          1.10752413238267,
          1.1075241308350077,
          1.1075241552596162
         ]
        },
        {
         "boxpoints": "all",
         "jitter": 0.2,
         "line": {
          "color": "#FFA15A"
         },
         "marker": {
          "color": "#FFA15A",
          "line": {
           "color": "black",
           "width": 1
          },
          "opacity": 0.7,
          "symbol": "circle"
         },
         "name": "Unnorm. log-posterior score",
         "pointpos": -1.5,
         "type": "box",
         "visible": false,
         "y": [
          2.6465044706602967,
          2.6465044706549925,
          2.6465044706641514,
          2.646504470663375,
          2.646504470672255,
          2.6465044706696723,
          2.646504470662098,
          2.6465044706630216,
          2.646504470671685,
          2.646504470669111
         ]
        },
        {
         "boxpoints": "all",
         "jitter": 0.2,
         "line": {
          "color": "#636EFA"
         },
         "marker": {
          "color": "#636EFA",
          "line": {
           "color": "black",
           "width": 1
          },
          "opacity": 0.7,
          "symbol": "circle"
         },
         "name": "Initial tumour volume in cm^3",
         "pointpos": -1.5,
         "type": "box",
         "visible": false,
         "y": [
          0.13327398204468244,
          0.13327404305868817,
          0.13327424262368998,
          0.13327410222767028,
          0.13327434587351727,
          0.13327424279626143,
          0.13327405210189228,
          0.1332740133037152,
          0.12497456721851428,
          0.13327408023154136
         ]
        },
        {
         "boxpoints": "all",
         "jitter": 0.2,
         "line": {
          "color": "#EF553B"
         },
         "marker": {
          "color": "#EF553B",
          "line": {
           "color": "black",
           "width": 1
          },
          "opacity": 0.7,
          "symbol": "circle"
         },
         "name": "Critical volume in cm^3",
         "pointpos": -1.5,
         "type": "box",
         "visible": false,
         "y": [
          0.2749722007798519,
          0.2749723258334644,
          0.2749727350960521,
          0.2749724471749478,
          0.27497294682326573,
          0.2749727353765306,
          0.2749723445312311,
          0.2749722648678731,
          0.22987008845640675,
          0.2749724021825766
         ]
        },
        {
         "boxpoints": "all",
         "jitter": 0.2,
         "line": {
          "color": "#00CC96"
         },
         "marker": {
          "color": "#00CC96",
          "line": {
           "color": "black",
           "width": 1
          },
          "opacity": 0.7,
          "symbol": "circle"
         },
         "name": "Exponential growth rate in 1/day",
         "pointpos": -1.5,
         "type": "box",
         "visible": false,
         "y": [
          0.3947195531969188,
          0.39471937976453364,
          0.3947188847790591,
          0.39471922346809896,
          0.3947186249297468,
          0.3947188539222368,
          0.3947194314124225,
          0.39471948445930716,
          0.4530531920087406,
          0.3947192799134116
         ]
        },
        {
         "boxpoints": "all",
         "jitter": 0.2,
         "line": {
          "color": "#AB63FA"
         },
         "marker": {
          "color": "#AB63FA",
          "line": {
           "color": "black",
           "width": 1
          },
          "opacity": 0.7,
          "symbol": "circle"
         },
         "name": "Standard deviation in cm^3",
         "pointpos": -1.5,
         "type": "box",
         "visible": false,
         "y": [
          1.1581720263817368,
          1.1581720906557476,
          1.1581721170780201,
          1.1581721083135301,
          1.1581720557051485,
          1.1581720728443174,
          1.1581719608912693,
          1.1581721086586485,
          1.1582416752779323,
          1.1581719610836427
         ]
        },
        {
         "boxpoints": "all",
         "jitter": 0.2,
         "line": {
          "color": "#FFA15A"
         },
         "marker": {
          "color": "#FFA15A",
          "line": {
           "color": "black",
           "width": 1
          },
          "opacity": 0.7,
          "symbol": "circle"
         },
         "name": "Unnorm. log-posterior score",
         "pointpos": -1.5,
         "type": "box",
         "visible": false,
         "y": [
          -3.438917792153669,
          -3.4389177921445455,
          -3.438917792155327,
          -3.438917792156923,
          -3.4389177921538225,
          -3.4389177921522904,
          -3.438917792178051,
          -3.438917792155036,
          -3.443826874293114,
          -3.4389177921642426
         ]
        },
        {
         "boxpoints": "all",
         "jitter": 0.2,
         "line": {
          "color": "#636EFA"
         },
         "marker": {
          "color": "#636EFA",
          "line": {
           "color": "black",
           "width": 1
          },
          "opacity": 0.7,
          "symbol": "circle"
         },
         "name": "Initial tumour volume in cm^3",
         "pointpos": -1.5,
         "type": "box",
         "visible": false,
         "y": [
          0.12379423958030189,
          0.12384095678481069,
          0.12380945885505693,
          0.12332981432109617,
          0.12332978381803189,
          0.12407284606434929,
          0.12380949928726431,
          0.12332980630506829,
          0.12380947831934991,
          0.12380947741019305
         ]
        },
        {
         "boxpoints": "all",
         "jitter": 0.2,
         "line": {
          "color": "#EF553B"
         },
         "marker": {
          "color": "#EF553B",
          "line": {
           "color": "black",
           "width": 1
          },
          "opacity": 0.7,
          "symbol": "circle"
         },
         "name": "Critical volume in cm^3",
         "pointpos": -1.5,
         "type": "box",
         "visible": false,
         "y": [
          0.8487454777512246,
          0.849059144161309,
          0.8481578551514074,
          0.8202402527974134,
          0.8202400558404774,
          0.853482748113447,
          0.8481581242767275,
          0.8202402008759762,
          0.8481579865876391,
          0.8481579794359282
         ]
        },
        {
         "boxpoints": "all",
         "jitter": 0.2,
         "line": {
          "color": "#00CC96"
         },
         "marker": {
          "color": "#00CC96",
          "line": {
           "color": "black",
           "width": 1
          },
          "opacity": 0.7,
          "symbol": "circle"
         },
         "name": "Exponential growth rate in 1/day",
         "pointpos": -1.5,
         "type": "box",
         "visible": false,
         "y": [
          0.08604912882182099,
          0.08602489852831001,
          0.0860632521123993,
          0.08704232478719547,
          0.08704233538065347,
          0.08579764138573609,
          0.08606322614201106,
          0.08704232723087611,
          0.08606323961745369,
          0.08606323630383372
         ]
        },
        {
         "boxpoints": "all",
         "jitter": 0.2,
         "line": {
          "color": "#AB63FA"
         },
         "marker": {
          "color": "#AB63FA",
          "line": {
           "color": "black",
           "width": 1
          },
          "opacity": 0.7,
          "symbol": "circle"
         },
         "name": "Standard deviation in cm^3",
         "pointpos": -1.5,
         "type": "box",
         "visible": false,
         "y": [
          1.0145674413996508,
          1.0146075815561775,
          1.01453499275232,
          1.0145367639674012,
          1.0145367702175077,
          1.014519424082122,
          1.0145349304874658,
          1.0145367998328565,
          1.01453497722019,
          1.0145349606023086
         ]
        },
        {
         "boxpoints": "all",
         "jitter": 0.2,
         "line": {
          "color": "#FFA15A"
         },
         "marker": {
          "color": "#FFA15A",
          "line": {
           "color": "black",
           "width": 1
          },
          "opacity": 0.7,
          "symbol": "circle"
         },
         "name": "Unnorm. log-posterior score",
         "pointpos": -1.5,
         "type": "box",
         "visible": false,
         "y": [
          30.04501527425228,
          30.04476504433592,
          30.045162713611646,
          30.043419255867082,
          30.043419255728217,
          30.04350959751781,
          30.04516271366547,
          30.043419255735234,
          30.045162713675914,
          30.045162713765265
         ]
        },
        {
         "boxpoints": "all",
         "jitter": 0.2,
         "line": {
          "color": "#636EFA"
         },
         "marker": {
          "color": "#636EFA",
          "line": {
           "color": "black",
           "width": 1
          },
          "opacity": 0.7,
          "symbol": "circle"
         },
         "name": "Initial tumour volume in cm^3",
         "pointpos": -1.5,
         "type": "box",
         "visible": false,
         "y": [
          0.08702922498332379,
          0.08704782392698186,
          0.0870478373921793,
          0.0870478100058066,
          0.08704783040734487,
          0.08704147183048482,
          0.0871091246753575,
          0.0870478213547703,
          0.08704787160760373,
          0.08710914170942449
         ]
        },
        {
         "boxpoints": "all",
         "jitter": 0.2,
         "line": {
          "color": "#EF553B"
         },
         "marker": {
          "color": "#EF553B",
          "line": {
           "color": "black",
           "width": 1
          },
          "opacity": 0.7,
          "symbol": "circle"
         },
         "name": "Critical volume in cm^3",
         "pointpos": -1.5,
         "type": "box",
         "visible": false,
         "y": [
          2.669709417902652,
          2.671369704632681,
          2.6713701062521187,
          2.6713692898715298,
          2.671369897956925,
          2.668937154834841,
          2.704270071665297,
          2.6713696329726044,
          2.6713711260519095,
          2.7042705830339764
         ]
        },
        {
         "boxpoints": "all",
         "jitter": 0.2,
         "line": {
          "color": "#00CC96"
         },
         "marker": {
          "color": "#00CC96",
          "line": {
           "color": "black",
           "width": 1
          },
          "opacity": 0.7,
          "symbol": "circle"
         },
         "name": "Exponential growth rate in 1/day",
         "pointpos": -1.5,
         "type": "box",
         "visible": false,
         "y": [
          0.0723524798601012,
          0.07234431220314515,
          0.07234431081667302,
          0.07234432191226008,
          0.07234430903981161,
          0.07235557457451607,
          0.07223670071325812,
          0.07234431212642949,
          0.07234428465403966,
          0.07223669061971073
         ]
        },
        {
         "boxpoints": "all",
         "jitter": 0.2,
         "line": {
          "color": "#AB63FA"
         },
         "marker": {
          "color": "#AB63FA",
          "line": {
           "color": "black",
           "width": 1
          },
          "opacity": 0.7,
          "symbol": "circle"
         },
         "name": "Standard deviation in cm^3",
         "pointpos": -1.5,
         "type": "box",
         "visible": false,
         "y": [
          1.0129609488541564,
          1.0129438086757954,
          1.0129438082373265,
          1.0129438020108423,
          1.0129438210862391,
          1.0129344278406225,
          1.012944220224884,
          1.0129438250067582,
          1.0129437738426939,
          1.0129442110059819
         ]
        },
        {
         "boxpoints": "all",
         "jitter": 0.2,
         "line": {
          "color": "#FFA15A"
         },
         "marker": {
          "color": "#FFA15A",
          "line": {
           "color": "black",
           "width": 1
          },
          "opacity": 0.7,
          "symbol": "circle"
         },
         "name": "Unnorm. log-posterior score",
         "pointpos": -1.5,
         "type": "box",
         "visible": false,
         "y": [
          31.657211554807613,
          31.65729797851597,
          31.657297978458708,
          31.657297978502793,
          31.65729797849899,
          31.657239079349413,
          31.656869045844775,
          31.657297978486877,
          31.657297978284255,
          31.656869045868653
         ]
        }
       ],
       "layout": {
        "autosize": true,
        "legend": {
         "x": 1.05,
         "xanchor": "left",
         "y": 0.01,
         "yanchor": "bottom"
        },
        "template": {
         "data": {
          "bar": [
           {
            "error_x": {
             "color": "#2a3f5f"
            },
            "error_y": {
             "color": "#2a3f5f"
            },
            "marker": {
             "line": {
              "color": "white",
              "width": 0.5
             }
            },
            "type": "bar"
           }
          ],
          "barpolar": [
           {
            "marker": {
             "line": {
              "color": "white",
              "width": 0.5
             }
            },
            "type": "barpolar"
           }
          ],
          "carpet": [
           {
            "aaxis": {
             "endlinecolor": "#2a3f5f",
             "gridcolor": "#C8D4E3",
             "linecolor": "#C8D4E3",
             "minorgridcolor": "#C8D4E3",
             "startlinecolor": "#2a3f5f"
            },
            "baxis": {
             "endlinecolor": "#2a3f5f",
             "gridcolor": "#C8D4E3",
             "linecolor": "#C8D4E3",
             "minorgridcolor": "#C8D4E3",
             "startlinecolor": "#2a3f5f"
            },
            "type": "carpet"
           }
          ],
          "choropleth": [
           {
            "colorbar": {
             "outlinewidth": 0,
             "ticks": ""
            },
            "type": "choropleth"
           }
          ],
          "contour": [
           {
            "colorbar": {
             "outlinewidth": 0,
             "ticks": ""
            },
            "colorscale": [
             [
              0,
              "#0d0887"
             ],
             [
              0.1111111111111111,
              "#46039f"
             ],
             [
              0.2222222222222222,
              "#7201a8"
             ],
             [
              0.3333333333333333,
              "#9c179e"
             ],
             [
              0.4444444444444444,
              "#bd3786"
             ],
             [
              0.5555555555555556,
              "#d8576b"
             ],
             [
              0.6666666666666666,
              "#ed7953"
             ],
             [
              0.7777777777777778,
              "#fb9f3a"
             ],
             [
              0.8888888888888888,
              "#fdca26"
             ],
             [
              1,
              "#f0f921"
             ]
            ],
            "type": "contour"
           }
          ],
          "contourcarpet": [
           {
            "colorbar": {
             "outlinewidth": 0,
             "ticks": ""
            },
            "type": "contourcarpet"
           }
          ],
          "heatmap": [
           {
            "colorbar": {
             "outlinewidth": 0,
             "ticks": ""
            },
            "colorscale": [
             [
              0,
              "#0d0887"
             ],
             [
              0.1111111111111111,
              "#46039f"
             ],
             [
              0.2222222222222222,
              "#7201a8"
             ],
             [
              0.3333333333333333,
              "#9c179e"
             ],
             [
              0.4444444444444444,
              "#bd3786"
             ],
             [
              0.5555555555555556,
              "#d8576b"
             ],
             [
              0.6666666666666666,
              "#ed7953"
             ],
             [
              0.7777777777777778,
              "#fb9f3a"
             ],
             [
              0.8888888888888888,
              "#fdca26"
             ],
             [
              1,
              "#f0f921"
             ]
            ],
            "type": "heatmap"
           }
          ],
          "heatmapgl": [
           {
            "colorbar": {
             "outlinewidth": 0,
             "ticks": ""
            },
            "colorscale": [
             [
              0,
              "#0d0887"
             ],
             [
              0.1111111111111111,
              "#46039f"
             ],
             [
              0.2222222222222222,
              "#7201a8"
             ],
             [
              0.3333333333333333,
              "#9c179e"
             ],
             [
              0.4444444444444444,
              "#bd3786"
             ],
             [
              0.5555555555555556,
              "#d8576b"
             ],
             [
              0.6666666666666666,
              "#ed7953"
             ],
             [
              0.7777777777777778,
              "#fb9f3a"
             ],
             [
              0.8888888888888888,
              "#fdca26"
             ],
             [
              1,
              "#f0f921"
             ]
            ],
            "type": "heatmapgl"
           }
          ],
          "histogram": [
           {
            "marker": {
             "colorbar": {
              "outlinewidth": 0,
              "ticks": ""
             }
            },
            "type": "histogram"
           }
          ],
          "histogram2d": [
           {
            "colorbar": {
             "outlinewidth": 0,
             "ticks": ""
            },
            "colorscale": [
             [
              0,
              "#0d0887"
             ],
             [
              0.1111111111111111,
              "#46039f"
             ],
             [
              0.2222222222222222,
              "#7201a8"
             ],
             [
              0.3333333333333333,
              "#9c179e"
             ],
             [
              0.4444444444444444,
              "#bd3786"
             ],
             [
              0.5555555555555556,
              "#d8576b"
             ],
             [
              0.6666666666666666,
              "#ed7953"
             ],
             [
              0.7777777777777778,
              "#fb9f3a"
             ],
             [
              0.8888888888888888,
              "#fdca26"
             ],
             [
              1,
              "#f0f921"
             ]
            ],
            "type": "histogram2d"
           }
          ],
          "histogram2dcontour": [
           {
            "colorbar": {
             "outlinewidth": 0,
             "ticks": ""
            },
            "colorscale": [
             [
              0,
              "#0d0887"
             ],
             [
              0.1111111111111111,
              "#46039f"
             ],
             [
              0.2222222222222222,
              "#7201a8"
             ],
             [
              0.3333333333333333,
              "#9c179e"
             ],
             [
              0.4444444444444444,
              "#bd3786"
             ],
             [
              0.5555555555555556,
              "#d8576b"
             ],
             [
              0.6666666666666666,
              "#ed7953"
             ],
             [
              0.7777777777777778,
              "#fb9f3a"
             ],
             [
              0.8888888888888888,
              "#fdca26"
             ],
             [
              1,
              "#f0f921"
             ]
            ],
            "type": "histogram2dcontour"
           }
          ],
          "mesh3d": [
           {
            "colorbar": {
             "outlinewidth": 0,
             "ticks": ""
            },
            "type": "mesh3d"
           }
          ],
          "parcoords": [
           {
            "line": {
             "colorbar": {
              "outlinewidth": 0,
              "ticks": ""
             }
            },
            "type": "parcoords"
           }
          ],
          "pie": [
           {
            "automargin": true,
            "type": "pie"
           }
          ],
          "scatter": [
           {
            "marker": {
             "colorbar": {
              "outlinewidth": 0,
              "ticks": ""
             }
            },
            "type": "scatter"
           }
          ],
          "scatter3d": [
           {
            "line": {
             "colorbar": {
              "outlinewidth": 0,
              "ticks": ""
             }
            },
            "marker": {
             "colorbar": {
              "outlinewidth": 0,
              "ticks": ""
             }
            },
            "type": "scatter3d"
           }
          ],
          "scattercarpet": [
           {
            "marker": {
             "colorbar": {
              "outlinewidth": 0,
              "ticks": ""
             }
            },
            "type": "scattercarpet"
           }
          ],
          "scattergeo": [
           {
            "marker": {
             "colorbar": {
              "outlinewidth": 0,
              "ticks": ""
             }
            },
            "type": "scattergeo"
           }
          ],
          "scattergl": [
           {
            "marker": {
             "colorbar": {
              "outlinewidth": 0,
              "ticks": ""
             }
            },
            "type": "scattergl"
           }
          ],
          "scattermapbox": [
           {
            "marker": {
             "colorbar": {
              "outlinewidth": 0,
              "ticks": ""
             }
            },
            "type": "scattermapbox"
           }
          ],
          "scatterpolar": [
           {
            "marker": {
             "colorbar": {
              "outlinewidth": 0,
              "ticks": ""
             }
            },
            "type": "scatterpolar"
           }
          ],
          "scatterpolargl": [
           {
            "marker": {
             "colorbar": {
              "outlinewidth": 0,
              "ticks": ""
             }
            },
            "type": "scatterpolargl"
           }
          ],
          "scatterternary": [
           {
            "marker": {
             "colorbar": {
              "outlinewidth": 0,
              "ticks": ""
             }
            },
            "type": "scatterternary"
           }
          ],
          "surface": [
           {
            "colorbar": {
             "outlinewidth": 0,
             "ticks": ""
            },
            "colorscale": [
             [
              0,
              "#0d0887"
             ],
             [
              0.1111111111111111,
              "#46039f"
             ],
             [
              0.2222222222222222,
              "#7201a8"
             ],
             [
              0.3333333333333333,
              "#9c179e"
             ],
             [
              0.4444444444444444,
              "#bd3786"
             ],
             [
              0.5555555555555556,
              "#d8576b"
             ],
             [
              0.6666666666666666,
              "#ed7953"
             ],
             [
              0.7777777777777778,
              "#fb9f3a"
             ],
             [
              0.8888888888888888,
              "#fdca26"
             ],
             [
              1,
              "#f0f921"
             ]
            ],
            "type": "surface"
           }
          ],
          "table": [
           {
            "cells": {
             "fill": {
              "color": "#EBF0F8"
             },
             "line": {
              "color": "white"
             }
            },
            "header": {
             "fill": {
              "color": "#C8D4E3"
             },
             "line": {
              "color": "white"
             }
            },
            "type": "table"
           }
          ]
         },
         "layout": {
          "annotationdefaults": {
           "arrowcolor": "#2a3f5f",
           "arrowhead": 0,
           "arrowwidth": 1
          },
          "coloraxis": {
           "colorbar": {
            "outlinewidth": 0,
            "ticks": ""
           }
          },
          "colorscale": {
           "diverging": [
            [
             0,
             "#8e0152"
            ],
            [
             0.1,
             "#c51b7d"
            ],
            [
             0.2,
             "#de77ae"
            ],
            [
             0.3,
             "#f1b6da"
            ],
            [
             0.4,
             "#fde0ef"
            ],
            [
             0.5,
             "#f7f7f7"
            ],
            [
             0.6,
             "#e6f5d0"
            ],
            [
             0.7,
             "#b8e186"
            ],
            [
             0.8,
             "#7fbc41"
            ],
            [
             0.9,
             "#4d9221"
            ],
            [
             1,
             "#276419"
            ]
           ],
           "sequential": [
            [
             0,
             "#0d0887"
            ],
            [
             0.1111111111111111,
             "#46039f"
            ],
            [
             0.2222222222222222,
             "#7201a8"
            ],
            [
             0.3333333333333333,
             "#9c179e"
            ],
            [
             0.4444444444444444,
             "#bd3786"
            ],
            [
             0.5555555555555556,
             "#d8576b"
            ],
            [
             0.6666666666666666,
             "#ed7953"
            ],
            [
             0.7777777777777778,
             "#fb9f3a"
            ],
            [
             0.8888888888888888,
             "#fdca26"
            ],
            [
             1,
             "#f0f921"
            ]
           ],
           "sequentialminus": [
            [
             0,
             "#0d0887"
            ],
            [
             0.1111111111111111,
             "#46039f"
            ],
            [
             0.2222222222222222,
             "#7201a8"
            ],
            [
             0.3333333333333333,
             "#9c179e"
            ],
            [
             0.4444444444444444,
             "#bd3786"
            ],
            [
             0.5555555555555556,
             "#d8576b"
            ],
            [
             0.6666666666666666,
             "#ed7953"
            ],
            [
             0.7777777777777778,
             "#fb9f3a"
            ],
            [
             0.8888888888888888,
             "#fdca26"
            ],
            [
             1,
             "#f0f921"
            ]
           ]
          },
          "colorway": [
           "#636efa",
           "#EF553B",
           "#00cc96",
           "#ab63fa",
           "#FFA15A",
           "#19d3f3",
           "#FF6692",
           "#B6E880",
           "#FF97FF",
           "#FECB52"
          ],
          "font": {
           "color": "#2a3f5f"
          },
          "geo": {
           "bgcolor": "white",
           "lakecolor": "white",
           "landcolor": "white",
           "showlakes": true,
           "showland": true,
           "subunitcolor": "#C8D4E3"
          },
          "hoverlabel": {
           "align": "left"
          },
          "hovermode": "closest",
          "mapbox": {
           "style": "light"
          },
          "paper_bgcolor": "white",
          "plot_bgcolor": "white",
          "polar": {
           "angularaxis": {
            "gridcolor": "#EBF0F8",
            "linecolor": "#EBF0F8",
            "ticks": ""
           },
           "bgcolor": "white",
           "radialaxis": {
            "gridcolor": "#EBF0F8",
            "linecolor": "#EBF0F8",
            "ticks": ""
           }
          },
          "scene": {
           "xaxis": {
            "backgroundcolor": "white",
            "gridcolor": "#DFE8F3",
            "gridwidth": 2,
            "linecolor": "#EBF0F8",
            "showbackground": true,
            "ticks": "",
            "zerolinecolor": "#EBF0F8"
           },
           "yaxis": {
            "backgroundcolor": "white",
            "gridcolor": "#DFE8F3",
            "gridwidth": 2,
            "linecolor": "#EBF0F8",
            "showbackground": true,
            "ticks": "",
            "zerolinecolor": "#EBF0F8"
           },
           "zaxis": {
            "backgroundcolor": "white",
            "gridcolor": "#DFE8F3",
            "gridwidth": 2,
            "linecolor": "#EBF0F8",
            "showbackground": true,
            "ticks": "",
            "zerolinecolor": "#EBF0F8"
           }
          },
          "shapedefaults": {
           "line": {
            "color": "#2a3f5f"
           }
          },
          "ternary": {
           "aaxis": {
            "gridcolor": "#DFE8F3",
            "linecolor": "#A2B1C6",
            "ticks": ""
           },
           "baxis": {
            "gridcolor": "#DFE8F3",
            "linecolor": "#A2B1C6",
            "ticks": ""
           },
           "bgcolor": "white",
           "caxis": {
            "gridcolor": "#DFE8F3",
            "linecolor": "#A2B1C6",
            "ticks": ""
           }
          },
          "title": {
           "x": 0.05
          },
          "xaxis": {
           "automargin": true,
           "gridcolor": "#EBF0F8",
           "linecolor": "#EBF0F8",
           "ticks": "",
           "title": {
            "standoff": 15
           },
           "zerolinecolor": "#EBF0F8",
           "zerolinewidth": 2
          },
          "yaxis": {
           "automargin": true,
           "gridcolor": "#EBF0F8",
           "linecolor": "#EBF0F8",
           "ticks": "",
           "title": {
            "standoff": 15
           },
           "zerolinecolor": "#EBF0F8",
           "zerolinewidth": 2
          }
         }
        },
        "updatemenus": [
         {
          "buttons": [
           {
            "args": [
             {
              "visible": [
               true,
               true,
               true,
               true,
               true,
               false,
               false,
               false,
               false,
               false,
               false,
               false,
               false,
               false,
               false,
               false,
               false,
               false,
               false,
               false,
               false,
               false,
               false,
               false,
               false,
               false,
               false,
               false,
               false,
               false,
               false,
               false,
               false,
               false,
               false,
               false,
               false,
               false,
               false,
               false
              ]
             }
            ],
            "label": "ID: 40",
            "method": "restyle"
           },
           {
            "args": [
             {
              "visible": [
               false,
               false,
               false,
               false,
               false,
               true,
               true,
               true,
               true,
               true,
               false,
               false,
               false,
               false,
               false,
               false,
               false,
               false,
               false,
               false,
               false,
               false,
               false,
               false,
               false,
               false,
               false,
               false,
               false,
               false,
               false,
               false,
               false,
               false,
               false,
               false,
               false,
               false,
               false,
               false
              ]
             }
            ],
            "label": "ID: 94",
            "method": "restyle"
           },
           {
            "args": [
             {
              "visible": [
               false,
               false,
               false,
               false,
               false,
               false,
               false,
               false,
               false,
               false,
               true,
               true,
               true,
               true,
               true,
               false,
               false,
               false,
               false,
               false,
               false,
               false,
               false,
               false,
               false,
               false,
               false,
               false,
               false,
               false,
               false,
               false,
               false,
               false,
               false,
               false,
               false,
               false,
               false,
               false
              ]
             }
            ],
            "label": "ID: 95",
            "method": "restyle"
           },
           {
            "args": [
             {
              "visible": [
               false,
               false,
               false,
               false,
               false,
               false,
               false,
               false,
               false,
               false,
               false,
               false,
               false,
               false,
               false,
               true,
               true,
               true,
               true,
               true,
               false,
               false,
               false,
               false,
               false,
               false,
               false,
               false,
               false,
               false,
               false,
               false,
               false,
               false,
               false,
               false,
               false,
               false,
               false,
               false
              ]
             }
            ],
            "label": "ID: 136",
            "method": "restyle"
           },
           {
            "args": [
             {
              "visible": [
               false,
               false,
               false,
               false,
               false,
               false,
               false,
               false,
               false,
               false,
               false,
               false,
               false,
               false,
               false,
               false,
               false,
               false,
               false,
               false,
               true,
               true,
               true,
               true,
               true,
               false,
               false,
               false,
               false,
               false,
               false,
               false,
               false,
               false,
               false,
               false,
               false,
               false,
               false,
               false
              ]
             }
            ],
            "label": "ID: 140",
            "method": "restyle"
           },
           {
            "args": [
             {
              "visible": [
               false,
               false,
               false,
               false,
               false,
               false,
               false,
               false,
               false,
               false,
               false,
               false,
               false,
               false,
               false,
               false,
               false,
               false,
               false,
               false,
               false,
               false,
               false,
               false,
               false,
               true,
               true,
               true,
               true,
               true,
               false,
               false,
               false,
               false,
               false,
               false,
               false,
               false,
               false,
               false
              ]
             }
            ],
            "label": "ID: 155",
            "method": "restyle"
           },
           {
            "args": [
             {
              "visible": [
               false,
               false,
               false,
               false,
               false,
               false,
               false,
               false,
               false,
               false,
               false,
               false,
               false,
               false,
               false,
               false,
               false,
               false,
               false,
               false,
               false,
               false,
               false,
               false,
               false,
               false,
               false,
               false,
               false,
               false,
               true,
               true,
               true,
               true,
               true,
               false,
               false,
               false,
               false,
               false
              ]
             }
            ],
            "label": "ID: 169",
            "method": "restyle"
           },
           {
            "args": [
             {
              "visible": [
               false,
               false,
               false,
               false,
               false,
               false,
               false,
               false,
               false,
               false,
               false,
               false,
               false,
               false,
               false,
               false,
               false,
               false,
               false,
               false,
               false,
               false,
               false,
               false,
               false,
               false,
               false,
               false,
               false,
               false,
               false,
               false,
               false,
               false,
               false,
               true,
               true,
               true,
               true,
               true
              ]
             }
            ],
            "label": "ID: 170",
            "method": "restyle"
           }
          ],
          "direction": "right",
          "pad": {
           "r": 0,
           "t": -10
          },
          "showactive": true,
          "type": "buttons",
          "x": 0,
          "xanchor": "left",
          "y": 1.1,
          "yanchor": "top"
         }
        ]
       }
      }
     },
     "metadata": {}
    }
   ],
   "source": [
    "#\n",
    "# Visualisation of the spread of optimised model parameters for multiple runs from different initial points.\n",
    "#\n",
    "# This cell needs the above optimised parameters, and their respective objective function scores, as well as the data\n",
    "# [mouse_parameters, log_posterior_scores, data]\n",
    "#\n",
    "\n",
    "import plotly.colors\n",
    "import plotly.graph_objects as go\n",
    "\n",
    "\n",
    "# Get mouse ids\n",
    "mouse_ids = data['#ID'].unique()\n",
    "\n",
    "# Get number of parameters + score (for visualisation)\n",
    "n_params = mouse_parameters.shape[2] + 1\n",
    "\n",
    "# Define colorscheme\n",
    "colors = plotly.colors.qualitative.Plotly[:n_params]\n",
    "\n",
    "# Get optimised parameters\n",
    "optimised_parameters = mouse_parameters\n",
    "\n",
    "# Get optimised parameters\n",
    "scores = log_posterior_scores\n",
    "\n",
    "# Create figure\n",
    "fig = go.Figure()\n",
    "\n",
    "# Box plot of optimised model parameters\n",
    "for index, id_m in enumerate(mouse_ids):\n",
    "    # Get optimised parameters\n",
    "    parameters = optimised_parameters[index, ...]\n",
    "\n",
    "    # Get scores\n",
    "    score = scores[index, :]\n",
    "\n",
    "    # Create box plot of for initial tumour volume\n",
    "    fig.add_trace(\n",
    "        go.Box(\n",
    "            y=parameters[:, 0],  \n",
    "            name=\"Initial tumour volume in cm^3\",\n",
    "            boxpoints='all',\n",
    "            jitter=0.2,\n",
    "            pointpos=-1.5,\n",
    "            visible=True if index == 0 else False,\n",
    "            marker=dict(\n",
    "                symbol='circle',\n",
    "                opacity=0.7,\n",
    "                line=dict(color='black', width=1)),\n",
    "            marker_color=colors[0],\n",
    "            line_color=colors[0]))\n",
    "\n",
    "    # Create box plot for critical volume\n",
    "    fig.add_trace(\n",
    "        go.Box(\n",
    "            y=parameters[:, 1],  \n",
    "            name=\"Critical volume in cm^3\",\n",
    "            boxpoints='all',\n",
    "            jitter=0.2,\n",
    "            pointpos=-1.5,\n",
    "            visible=True if index == 0 else False,\n",
    "            marker=dict(\n",
    "                symbol='circle',\n",
    "                opacity=0.7,\n",
    "                line=dict(color='black', width=1)),\n",
    "            marker_color=colors[1],\n",
    "            line_color=colors[1]))\n",
    "\n",
    "    # Create box plot of for exponential tumour growth\n",
    "    fig.add_trace(\n",
    "        go.Box(\n",
    "            y=parameters[:, 2],  \n",
    "            name=\"Exponential growth rate in 1/day\",\n",
    "            boxpoints='all',\n",
    "            jitter=0.2,\n",
    "            pointpos=-1.5,\n",
    "            visible=True if index == 0 else False,\n",
    "            marker=dict(\n",
    "                symbol='circle',\n",
    "                opacity=0.7,\n",
    "                line=dict(color='black', width=1)),\n",
    "            marker_color=colors[2],\n",
    "            line_color=colors[2]))\n",
    "\n",
    "    # Create box plot for sigma\n",
    "    fig.add_trace(\n",
    "        go.Box(\n",
    "            y=parameters[:, 3],  \n",
    "            name=\"Standard deviation in cm^3\",\n",
    "            boxpoints='all',\n",
    "            jitter=0.2,\n",
    "            pointpos=-1.5,\n",
    "            visible=True if index == 0 else False,\n",
    "            marker=dict(\n",
    "                symbol='circle',\n",
    "                opacity=0.7,\n",
    "                line=dict(color='black', width=1)),\n",
    "            marker_color=colors[3],\n",
    "            line_color=colors[3]))\n",
    "    \n",
    "    # Create box plot of for objective function score\n",
    "    fig.add_trace(\n",
    "        go.Box(\n",
    "            y=score,  \n",
    "            name=\"Unnorm. log-posterior score\",\n",
    "            boxpoints='all',\n",
    "            jitter=0.2,\n",
    "            pointpos=-1.5,\n",
    "            visible=True if index == 0 else False,\n",
    "            marker=dict(\n",
    "                symbol='circle',\n",
    "                opacity=0.7,\n",
    "                line=dict(color='black', width=1)),\n",
    "            marker_color=colors[4],\n",
    "            line_color=colors[4]))\n",
    "\n",
    "# Set figure size\n",
    "fig.update_layout(\n",
    "    autosize=True,\n",
    "    template=\"plotly_white\")\n",
    "\n",
    "# Add switch between mice\n",
    "fig.update_layout(\n",
    "    updatemenus=[\n",
    "        dict(\n",
    "            type = \"buttons\",\n",
    "            direction = \"right\",\n",
    "            buttons=list([\n",
    "                dict(\n",
    "                    args=[{\"visible\": [True]*5 + [False]*(5 * 7)}],\n",
    "                    label=\"ID: %d\" % mouse_ids[0],\n",
    "                    method=\"restyle\"\n",
    "                ),\n",
    "                dict(\n",
    "                    args=[{\"visible\": [False]*5 + [True]*5 + [False]*(5 * 6)}],\n",
    "                    label=\"ID: %d\" % mouse_ids[1],\n",
    "                    method=\"restyle\"\n",
    "                ),\n",
    "                dict(\n",
    "                    args=[{\"visible\": [False]*(5 * 2) + [True]*5 + [False]*(5 * 5)}],\n",
    "                    label=\"ID: %d\" % mouse_ids[2],\n",
    "                    method=\"restyle\"\n",
    "                ),\n",
    "                dict(\n",
    "                    args=[{\"visible\": [False]*(5 * 3) + [True]*5 + [False]*(5 * 4)}],\n",
    "                    label=\"ID: %d\" % mouse_ids[3],\n",
    "                    method=\"restyle\"\n",
    "                ),\n",
    "                dict(\n",
    "                    args=[{\"visible\": [False]*(5 * 4) + [True]*5 + [False]*(5 * 3)}],\n",
    "                    label=\"ID: %d\" % mouse_ids[4],\n",
    "                    method=\"restyle\"\n",
    "                ),\n",
    "                dict(\n",
    "                    args=[{\"visible\": [False]*(5 * 5) + [True]*5 + [False]*(5 * 2)}],\n",
    "                    label=\"ID: %d\" % mouse_ids[5],\n",
    "                    method=\"restyle\"\n",
    "                ),\n",
    "                dict(\n",
    "                    args=[{\"visible\": [False]*(5 * 6) + [True]*5 + [False]* 5}],\n",
    "                    label=\"ID: %d\" % mouse_ids[6],\n",
    "                    method=\"restyle\"\n",
    "                ),\n",
    "                dict(\n",
    "                    args=[{\"visible\": [False]*(5 * 7) + [True]*5}],\n",
    "                    label=\"ID: %d\" % mouse_ids[7],\n",
    "                    method=\"restyle\"\n",
    "                )\n",
    "            ]),\n",
    "            pad={\"r\": 0, \"t\": -10},\n",
    "            showactive=True,\n",
    "            x=0.0,\n",
    "            xanchor=\"left\",\n",
    "            y=1.1,\n",
    "            yanchor=\"top\"\n",
    "        )\n",
    "    ]\n",
    ")\n",
    "\n",
    "# Position legend\n",
    "fig.update_layout(legend=dict(\n",
    "    yanchor=\"bottom\",\n",
    "    y=0.01,\n",
    "    xanchor=\"left\",\n",
    "    x=1.05))\n",
    "\n",
    "# Show figure\n",
    "fig.show()\n"
   ]
  },
  {
   "cell_type": "markdown",
   "metadata": {},
   "source": [
    "** Figure 2 - Independent noise:** Scatter and box plot of the structural and error model parameter estimates $(\\hat \\psi , \\hat \\sigma )$ found by maximising the log-posterior for each mouse using a CMA-ES optimiser. The structural model parameters $\\psi $ were assigned log-uniform priors, while the noise parameter $\\sigma $ was assigned with a Half-Cauchy prior. For each mouse the optimisation routine was run 10 times from a starting point randomly sampled from the prior. In addition to the parameter estimates, also the distribution of the associated unnormalised log-posterior scores is presented."
   ]
  },
  {
   "cell_type": "markdown",
   "metadata": {},
   "source": [
    "Discussion"
   ]
  },
  {
   "cell_type": "markdown",
   "metadata": {},
   "source": [
    "### Visual check: Validity of error model\n",
    "\n",
    "- Predict tumour growth with structural model using median of optimised model parameters\n",
    "\n",
    "- Plot\n",
    "    1. Structural model predictions versus observations\n",
    "    2. Residulas versus observations\n",
    "\n",
    "- Both plots should include 1, 2, 3 sigma intervals of inferred model."
   ]
  },
  {
   "cell_type": "code",
   "execution_count": 12,
   "metadata": {
    "tags": []
   },
   "outputs": [],
   "source": [
    "#\n",
    "# Compute structural model predictions for each mouse.\n",
    "#\n",
    "# This cell needs the above optimised (non-dimensional) model parameters, the number of structural model parameters, and the characteristic time and volume scale:\n",
    "# [transf_params, n_structural_params, characteristic_time, characteristic_volume]\n",
    "#\n",
    "\n",
    "import os\n",
    "\n",
    "import numpy as np\n",
    "import pandas as pd\n",
    "\n",
    "\n",
    "# Import data\n",
    "# Get path of current working directory\n",
    "path = os.getcwd()\n",
    "\n",
    "# Import LXF A677 control growth data\n",
    "data = pd.read_csv(path + '/data/lxf_control_growth.csv')\n",
    "\n",
    "# Get mouse IDs and times\n",
    "mouse_ids_and_times = data[['#ID', 'TIME in day']]\n",
    "\n",
    "# Get median parameters for each mouse\n",
    "median_parameters = np.median(transf_params, axis=1)\n",
    "\n",
    "# Instantiate model\n",
    "model = DimensionlessLogTransformedPintsModel()\n",
    "\n",
    "# Create container for simulated synthesised data\n",
    "structural_model_predictions = []\n",
    "\n",
    "# Simulate \"noise-free\" data\n",
    "mouse_ids = mouse_ids_and_times['#ID'].unique()\n",
    "for index, mouse_id in enumerate(mouse_ids):\n",
    "    # Create mask for mouse\n",
    "    mask = mouse_ids_and_times['#ID'] == mouse_id\n",
    "\n",
    "    # Get times\n",
    "    times = mouse_ids_and_times[mask]['TIME in day'].to_numpy() / characteristic_time\n",
    "\n",
    "    # Get parameters\n",
    "    parameters = median_parameters[index, :n_structural_params]\n",
    "\n",
    "    # Predict volumes\n",
    "    predicted_volumes = model.simulate(parameters, times) * characteristic_volume\n",
    "\n",
    "    # Save dataframe\n",
    "    df = pd.DataFrame({\n",
    "        '#ID': mouse_ids_and_times[mask]['#ID'],\n",
    "        'TIME in day': mouse_ids_and_times[mask]['TIME in day'],\n",
    "        'PREDICTED TUMOUR VOLUME in cm^3': predicted_volumes})\n",
    "    structural_model_predictions.append(df)\n",
    "\n",
    "# Merge mouse dataframes to one dataframe\n",
    "structural_model_predictions = pd.concat(structural_model_predictions)"
   ]
  },
  {
   "cell_type": "code",
   "execution_count": 45,
   "metadata": {},
   "outputs": [
    {
     "output_type": "display_data",
     "data": {
      "application/vnd.plotly.v1+json": {
       "config": {
        "plotlyServerURL": "https://plot.ly"
       },
       "data": [
        {
         "hovertemplate": "<b>ID: 40</b><br>Structural model: %{x:.02f} cm^3<br>Measurement: %{y:.02f} cm^3<br>Cancer type: Lung cancer (LXF A677)<br><extra></extra>",
         "legendgroup": "Measurement",
         "marker": {
          "color": "#636EFA",
          "line": {
           "color": "black",
           "width": 1
          },
          "opacity": 0.7,
          "symbol": "circle"
         },
         "mode": "markers",
         "name": "Measurement",
         "showlegend": true,
         "type": "scatter",
         "visible": true,
         "x": [
          0.13937185612710104,
          0.2563182322581012,
          0.40775459991106544,
          0.6794428409299147,
          0.880051133816142,
          1.091050766126161,
          1.4210847924833985,
          1.647705965796381,
          1.8783943620466537,
          2.230355463994624
         ],
         "xaxis": "x",
         "y": [
          0.191808,
          0.249158,
          0.330672,
          0.6683669999999999,
          0.915008,
          1.119258,
          1.470432,
          1.6692479999999998,
          1.7521919999999997,
          2.276736
         ],
         "yaxis": "y"
        },
        {
         "hovertemplate": "<b>Error model: Mean</b><br>Hypothetical measurement: %{y:.02f} cm^3<br>Cancer type: Lung cancer (LXF A677)<br><extra></extra>",
         "legendgroup": "Error model",
         "line": {
          "color": "#636EFA"
         },
         "mode": "lines",
         "name": "Error model",
         "opacity": 0.7,
         "showlegend": true,
         "type": "scatter",
         "visible": true,
         "x": [
          0.13937185612710104,
          0.2563182322581012,
          0.40775459991106544,
          0.6794428409299147,
          0.880051133816142,
          1.091050766126161,
          1.4210847924833985,
          1.647705965796381,
          1.8783943620466537,
          2.230355463994624
         ],
         "xaxis": "x",
         "y": [
          0.13937185612710104,
          0.2563182322581012,
          0.40775459991106544,
          0.6794428409299147,
          0.880051133816142,
          1.091050766126161,
          1.4210847924833985,
          1.647705965796381,
          1.8783943620466537,
          2.230355463994624
         ],
         "yaxis": "y"
        },
        {
         "hovertemplate": "<b>Error model: 1-sigma interval</b><br>Hypothetical measurement: %{y:.02f} cm^3<br>Cancer type: Lung cancer (LXF A677)<br><extra></extra>",
         "legendgroup": "Error model",
         "line": {
          "color": "Black"
         },
         "mode": "lines",
         "name": "Error model",
         "opacity": 0.7,
         "showlegend": false,
         "type": "scatter",
         "visible": true,
         "x": [
          0.13937185612710104,
          0.2563182322581012,
          0.40775459991106544,
          0.6794428409299147,
          0.880051133816142,
          1.091050766126161,
          1.4210847924833985,
          1.647705965796381,
          1.8783943620466537,
          2.230355463994624
         ],
         "xaxis": "x",
         "y": [
          0.19590049272124427,
          0.31284686885224444,
          0.4642832365052087,
          0.7359714775240579,
          0.9365797704102852,
          1.1475794027203043,
          1.4776134290775418,
          1.7042346023905244,
          1.934922998640797,
          2.2868841005887672
         ],
         "yaxis": "y"
        },
        {
         "hovertemplate": "<b>Error model: 1-sigma interval</b><br>Hypothetical measurement: %{y:.02f} cm^3<br>Cancer type: Lung cancer (LXF A677)<br><extra></extra>",
         "legendgroup": "Error model",
         "line": {
          "color": "Black"
         },
         "mode": "lines",
         "name": "Error model",
         "opacity": 0.7,
         "showlegend": false,
         "type": "scatter",
         "visible": true,
         "x": [
          0.13937185612710104,
          0.2563182322581012,
          0.40775459991106544,
          0.6794428409299147,
          0.880051133816142,
          1.091050766126161,
          1.4210847924833985,
          1.647705965796381,
          1.8783943620466537,
          2.230355463994624
         ],
         "xaxis": "x",
         "y": [
          0.0828432195329578,
          0.19978959566395793,
          0.3512259633169222,
          0.6229142043357715,
          0.8235224972219988,
          1.0345221295320177,
          1.3645561558892552,
          1.5911773292022378,
          1.8218657254525104,
          2.1738268274004806
         ],
         "yaxis": "y"
        },
        {
         "hovertemplate": "<b>Error model: 2-sigma interval</b><br>Hypothetical measurement: %{y:.02f} cm^3<br>Cancer type: Lung cancer (LXF A677)<br><extra></extra>",
         "legendgroup": "Error model",
         "line": {
          "color": "Black",
          "width": 1.5
         },
         "mode": "lines",
         "name": "Error model",
         "opacity": 0.5,
         "showlegend": false,
         "type": "scatter",
         "visible": true,
         "x": [
          0.13937185612710104,
          0.2563182322581012,
          0.40775459991106544,
          0.6794428409299147,
          0.880051133816142,
          1.091050766126161,
          1.4210847924833985,
          1.647705965796381,
          1.8783943620466537,
          2.230355463994624
         ],
         "xaxis": "x",
         "y": [
          0.2524291293153875,
          0.36937550544638764,
          0.520811873099352,
          0.7925001141182012,
          0.9931084070044285,
          1.2041080393144474,
          1.5341420656716849,
          1.7607632389846675,
          1.99145163523494,
          2.3434127371829105
         ],
         "yaxis": "y"
        },
        {
         "hovertemplate": "<b>Error model: 2-sigma interval</b><br>Hypothetical measurement: %{y:.02f} cm^3<br>Cancer type: Lung cancer (LXF A677)<br><extra></extra>",
         "legendgroup": "Error model",
         "line": {
          "color": "Black",
          "width": 1.5
         },
         "mode": "lines",
         "name": "Error model",
         "opacity": 0.5,
         "showlegend": false,
         "type": "scatter",
         "visible": true,
         "x": [
          0.13937185612710104,
          0.2563182322581012,
          0.40775459991106544,
          0.6794428409299147,
          0.880051133816142,
          1.091050766126161,
          1.4210847924833985,
          1.647705965796381,
          1.8783943620466537,
          2.230355463994624
         ],
         "xaxis": "x",
         "y": [
          0.026314582938814557,
          0.1432609590698147,
          0.29469732672277893,
          0.5663855677416282,
          0.7669938606278555,
          0.9779934929378745,
          1.308027519295112,
          1.5346486926080947,
          1.7653370888583673,
          2.1172981908063373
         ],
         "yaxis": "y"
        },
        {
         "hovertemplate": "<b>Error model: 3-sigma interval</b><br>Hypothetical measurement: %{y:.02f} cm^3<br>Cancer type: Lung cancer (LXF A677)<br><extra></extra>",
         "legendgroup": "Error model",
         "line": {
          "color": "Black",
          "width": 1
         },
         "mode": "lines",
         "name": "Error model",
         "opacity": 0.3,
         "showlegend": false,
         "type": "scatter",
         "visible": true,
         "x": [
          0.13937185612710104,
          0.2563182322581012,
          0.40775459991106544,
          0.6794428409299147,
          0.880051133816142,
          1.091050766126161,
          1.4210847924833985,
          1.647705965796381,
          1.8783943620466537,
          2.230355463994624
         ],
         "xaxis": "x",
         "y": [
          0.3089577659095307,
          0.4259041420405309,
          0.5773405096934952,
          0.8490287507123444,
          1.0496370435985716,
          1.2606366759085907,
          1.5906707022658282,
          1.8172918755788108,
          2.0479802718290836,
          2.399941373777054
         ],
         "yaxis": "y"
        },
        {
         "hovertemplate": "<b>Error model: 3-sigma interval</b><br>Hypothetical measurement: %{y:.02f} cm^3<br>Cancer type: Lung cancer (LXF A677)<br><extra></extra>",
         "legendgroup": "Error model",
         "line": {
          "color": "Black",
          "width": 1
         },
         "mode": "lines",
         "name": "Error model",
         "opacity": 0.3,
         "showlegend": false,
         "type": "scatter",
         "visible": true,
         "x": [
          0.13937185612710104,
          0.2563182322581012,
          0.40775459991106544,
          0.6794428409299147,
          0.880051133816142,
          1.091050766126161,
          1.4210847924833985,
          1.647705965796381,
          1.8783943620466537,
          2.230355463994624
         ],
         "xaxis": "x",
         "y": [
          -0.03021405365532867,
          0.08673232247567148,
          0.23816869012863573,
          0.509856931147485,
          0.7104652240337123,
          0.9214648563437313,
          1.2514988827009688,
          1.4781200560139514,
          1.708808452264224,
          2.060769554212194
         ],
         "yaxis": "y"
        },
        {
         "hovertemplate": "<b>ID: 40</b><br>Structural model: %{x:.02f} cm^3<br>Residual: %{y:.02f} cm^3<br>Cancer type: Lung cancer (LXF A677)<br><extra></extra>",
         "legendgroup": "Measurement",
         "marker": {
          "color": "#636EFA",
          "line": {
           "color": "black",
           "width": 1
          },
          "opacity": 0.7,
          "symbol": "circle"
         },
         "mode": "markers",
         "name": "Measurement",
         "showlegend": false,
         "type": "scatter",
         "visible": true,
         "x": [
          0.13937185612710104,
          0.2563182322581012,
          0.40775459991106544,
          0.6794428409299147,
          0.880051133816142,
          1.091050766126161,
          1.4210847924833985,
          1.647705965796381,
          1.8783943620466537,
          2.230355463994624
         ],
         "xaxis": "x2",
         "y": [
          0.052436143872898966,
          -0.007160232258101196,
          -0.07708259991106542,
          -0.01107584092991476,
          0.03495686618385807,
          0.028207233873839055,
          0.04934720751660149,
          0.021542034203618776,
          -0.12620236204665392,
          0.04638053600537617
         ],
         "yaxis": "y2"
        },
        {
         "hovertemplate": "<b>Error model: Mean</b><br>Hypothetical residual: %{y:.02f} cm^3<br>Cancer type: Lung cancer (LXF A677)<br><extra></extra>",
         "legendgroup": "Error model",
         "line": {
          "color": "#636EFA"
         },
         "mode": "lines",
         "name": "Error model",
         "opacity": 0.7,
         "showlegend": false,
         "type": "scatter",
         "visible": true,
         "x": [
          0.13937185612710104,
          0.2563182322581012,
          0.40775459991106544,
          0.6794428409299147,
          0.880051133816142,
          1.091050766126161,
          1.4210847924833985,
          1.647705965796381,
          1.8783943620466537,
          2.230355463994624
         ],
         "xaxis": "x2",
         "y": [
          0,
          0,
          0,
          0,
          0,
          0,
          0,
          0,
          0,
          0
         ],
         "yaxis": "y2"
        },
        {
         "hovertemplate": "<b>Error model: 1-sigma interval</b><br>Hypothetical residual: %{y:.02f} cm^3<br>Cancer type: Lung cancer (LXF A677)<br><extra></extra>",
         "legendgroup": "Error model",
         "line": {
          "color": "Black"
         },
         "mode": "lines",
         "name": "Error model",
         "opacity": 0.7,
         "showlegend": false,
         "type": "scatter",
         "visible": true,
         "x": [
          0.13937185612710104,
          0.2563182322581012,
          0.40775459991106544,
          0.6794428409299147,
          0.880051133816142,
          1.091050766126161,
          1.4210847924833985,
          1.647705965796381,
          1.8783943620466537,
          2.230355463994624
         ],
         "xaxis": "x2",
         "y": [
          0.05652863659414324,
          0.05652863659414324,
          0.05652863659414324,
          0.05652863659414324,
          0.05652863659414324,
          0.05652863659414324,
          0.05652863659414324,
          0.05652863659414324,
          0.05652863659414324,
          0.05652863659414324
         ],
         "yaxis": "y2"
        },
        {
         "hovertemplate": "<b>Error model: 1-sigma interval</b><br>Hypothetical measurement: %{y:.02f} cm^3<br>Cancer type: Lung cancer (LXF A677)<br><extra></extra>",
         "legendgroup": "Error model",
         "line": {
          "color": "Black"
         },
         "mode": "lines",
         "name": "Error model",
         "opacity": 0.7,
         "showlegend": false,
         "type": "scatter",
         "visible": true,
         "x": [
          0.13937185612710104,
          0.2563182322581012,
          0.40775459991106544,
          0.6794428409299147,
          0.880051133816142,
          1.091050766126161,
          1.4210847924833985,
          1.647705965796381,
          1.8783943620466537,
          2.230355463994624
         ],
         "xaxis": "x2",
         "y": [
          -0.05652863659414324,
          -0.05652863659414324,
          -0.05652863659414324,
          -0.05652863659414324,
          -0.05652863659414324,
          -0.05652863659414324,
          -0.05652863659414324,
          -0.05652863659414324,
          -0.05652863659414324,
          -0.05652863659414324
         ],
         "yaxis": "y2"
        },
        {
         "hovertemplate": "<b>Error model: 2-sigma interval</b><br>Hypothetical residual: %{y:.02f} cm^3<br>Cancer type: Lung cancer (LXF A677)<br><extra></extra>",
         "legendgroup": "Error model",
         "line": {
          "color": "Black"
         },
         "mode": "lines",
         "name": "Error model",
         "opacity": 0.5,
         "showlegend": false,
         "type": "scatter",
         "visible": true,
         "x": [
          0.13937185612710104,
          0.2563182322581012,
          0.40775459991106544,
          0.6794428409299147,
          0.880051133816142,
          1.091050766126161,
          1.4210847924833985,
          1.647705965796381,
          1.8783943620466537,
          2.230355463994624
         ],
         "xaxis": "x2",
         "y": [
          0.11305727318828648,
          0.11305727318828648,
          0.11305727318828648,
          0.11305727318828648,
          0.11305727318828648,
          0.11305727318828648,
          0.11305727318828648,
          0.11305727318828648,
          0.11305727318828648,
          0.11305727318828648
         ],
         "yaxis": "y2"
        },
        {
         "hovertemplate": "<b>Error model: 2-sigma interval</b><br>Hypothetical measurement: %{y:.02f} cm^3<br>Cancer type: Lung cancer (LXF A677)<br><extra></extra>",
         "legendgroup": "Error model",
         "line": {
          "color": "Black"
         },
         "mode": "lines",
         "name": "Error model",
         "opacity": 0.5,
         "showlegend": false,
         "type": "scatter",
         "visible": true,
         "x": [
          0.13937185612710104,
          0.2563182322581012,
          0.40775459991106544,
          0.6794428409299147,
          0.880051133816142,
          1.091050766126161,
          1.4210847924833985,
          1.647705965796381,
          1.8783943620466537,
          2.230355463994624
         ],
         "xaxis": "x2",
         "y": [
          -0.11305727318828648,
          -0.11305727318828648,
          -0.11305727318828648,
          -0.11305727318828648,
          -0.11305727318828648,
          -0.11305727318828648,
          -0.11305727318828648,
          -0.11305727318828648,
          -0.11305727318828648,
          -0.11305727318828648
         ],
         "yaxis": "y2"
        },
        {
         "hovertemplate": "<b>Error model: 3-sigma interval</b><br>Hypothetical residual: %{y:.02f} cm^3<br>Cancer type: Lung cancer (LXF A677)<br><extra></extra>",
         "legendgroup": "Error model",
         "line": {
          "color": "Black"
         },
         "mode": "lines",
         "name": "Error model",
         "opacity": 0.3,
         "showlegend": false,
         "type": "scatter",
         "visible": true,
         "x": [
          0.13937185612710104,
          0.2563182322581012,
          0.40775459991106544,
          0.6794428409299147,
          0.880051133816142,
          1.091050766126161,
          1.4210847924833985,
          1.647705965796381,
          1.8783943620466537,
          2.230355463994624
         ],
         "xaxis": "x2",
         "y": [
          0.1695859097824297,
          0.1695859097824297,
          0.1695859097824297,
          0.1695859097824297,
          0.1695859097824297,
          0.1695859097824297,
          0.1695859097824297,
          0.1695859097824297,
          0.1695859097824297,
          0.1695859097824297
         ],
         "yaxis": "y2"
        },
        {
         "hovertemplate": "<b>Error model: 3-sigma interval</b><br>Hypothetical measurement: %{y:.02f} cm^3<br>Cancer type: Lung cancer (LXF A677)<br><extra></extra>",
         "legendgroup": "Error model",
         "line": {
          "color": "Black"
         },
         "mode": "lines",
         "name": "Error model",
         "opacity": 0.3,
         "showlegend": false,
         "type": "scatter",
         "visible": true,
         "x": [
          0.13937185612710104,
          0.2563182322581012,
          0.40775459991106544,
          0.6794428409299147,
          0.880051133816142,
          1.091050766126161,
          1.4210847924833985,
          1.647705965796381,
          1.8783943620466537,
          2.230355463994624
         ],
         "xaxis": "x2",
         "y": [
          -0.1695859097824297,
          -0.1695859097824297,
          -0.1695859097824297,
          -0.1695859097824297,
          -0.1695859097824297,
          -0.1695859097824297,
          -0.1695859097824297,
          -0.1695859097824297,
          -0.1695859097824297,
          -0.1695859097824297
         ],
         "yaxis": "y2"
        },
        {
         "hovertemplate": "<b>ID: 94</b><br>Structural model: %{x:.02f} cm^3<br>Measurement: %{y:.02f} cm^3<br>Cancer type: Lung cancer (LXF A677)<br><extra></extra>",
         "legendgroup": "Measurement",
         "marker": {
          "color": "#EF553B",
          "line": {
           "color": "black",
           "width": 1
          },
          "opacity": 0.7,
          "symbol": "circle"
         },
         "mode": "markers",
         "name": "Measurement",
         "showlegend": true,
         "type": "scatter",
         "visible": false,
         "x": [
          0.07468411303813567,
          0.09847790632508238,
          0.12470394900082221,
          0.16762707446703742,
          0.1980979230023861,
          0.2297447106362789,
          0.2789705639446174,
          0.3127189607093728,
          0.34706736528026616,
          0.399534031301463,
          0.43504050853095455,
          0.47090752817522036,
          0.5252922114279635,
          0.5618863135096059
         ],
         "xaxis": "x",
         "y": [
          0.07724750000000001,
          0.0884835,
          0.125316,
          0.165528,
          0.189486,
          0.264654,
          0.264654,
          0.306936,
          0.389207,
          0.389207,
          0.405769,
          0.4264715,
          0.5551309999999999,
          0.57624
         ],
         "yaxis": "y"
        },
        {
         "hovertemplate": "<b>Error model: Mean</b><br>Hypothetical measurement: %{y:.02f} cm^3<br>Cancer type: Lung cancer (LXF A677)<br><extra></extra>",
         "legendgroup": "Error model",
         "line": {
          "color": "#EF553B"
         },
         "mode": "lines",
         "name": "Error model",
         "opacity": 0.7,
         "showlegend": true,
         "type": "scatter",
         "visible": false,
         "x": [
          0.07468411303813567,
          0.09847790632508238,
          0.12470394900082221,
          0.16762707446703742,
          0.1980979230023861,
          0.2297447106362789,
          0.2789705639446174,
          0.3127189607093728,
          0.34706736528026616,
          0.399534031301463,
          0.43504050853095455,
          0.47090752817522036,
          0.5252922114279635,
          0.5618863135096059
         ],
         "xaxis": "x",
         "y": [
          0.07468411303813567,
          0.09847790632508238,
          0.12470394900082221,
          0.16762707446703742,
          0.1980979230023861,
          0.2297447106362789,
          0.2789705639446174,
          0.3127189607093728,
          0.34706736528026616,
          0.399534031301463,
          0.43504050853095455,
          0.47090752817522036,
          0.5252922114279635,
          0.5618863135096059
         ],
         "yaxis": "y"
        },
        {
         "hovertemplate": "<b>Error model: 1-sigma interval</b><br>Hypothetical measurement: %{y:.02f} cm^3<br>Cancer type: Lung cancer (LXF A677)<br><extra></extra>",
         "legendgroup": "Error model",
         "line": {
          "color": "Black"
         },
         "mode": "lines",
         "name": "Error model",
         "opacity": 0.7,
         "showlegend": false,
         "type": "scatter",
         "visible": false,
         "x": [
          0.07468411303813567,
          0.09847790632508238,
          0.12470394900082221,
          0.16762707446703742,
          0.1980979230023861,
          0.2297447106362789,
          0.2789705639446174,
          0.3127189607093728,
          0.34706736528026616,
          0.399534031301463,
          0.43504050853095455,
          0.47090752817522036,
          0.5252922114279635,
          0.5618863135096059
         ],
         "xaxis": "x",
         "y": [
          0.09775155694776014,
          0.12154535023470683,
          0.14777139291044666,
          0.19069451837666188,
          0.22116536691201055,
          0.2528121545459034,
          0.30203800785424184,
          0.3357864046189972,
          0.3701348091898906,
          0.42260147521108743,
          0.458107952440579,
          0.4939749720848448,
          0.5483596553375879,
          0.5849537574192304
         ],
         "yaxis": "y"
        },
        {
         "hovertemplate": "<b>Error model: 1-sigma interval</b><br>Hypothetical measurement: %{y:.02f} cm^3<br>Cancer type: Lung cancer (LXF A677)<br><extra></extra>",
         "legendgroup": "Error model",
         "line": {
          "color": "Black"
         },
         "mode": "lines",
         "name": "Error model",
         "opacity": 0.7,
         "showlegend": false,
         "type": "scatter",
         "visible": false,
         "x": [
          0.07468411303813567,
          0.09847790632508238,
          0.12470394900082221,
          0.16762707446703742,
          0.1980979230023861,
          0.2297447106362789,
          0.2789705639446174,
          0.3127189607093728,
          0.34706736528026616,
          0.399534031301463,
          0.43504050853095455,
          0.47090752817522036,
          0.5252922114279635,
          0.5618863135096059
         ],
         "xaxis": "x",
         "y": [
          0.05161666912851121,
          0.07541046241545793,
          0.10163650509119776,
          0.14455963055741297,
          0.17503047909276165,
          0.20667726672665446,
          0.25590312003499294,
          0.2896515167997483,
          0.3239999213706417,
          0.3764665873918385,
          0.4119730646213301,
          0.4478400842655959,
          0.502224767518339,
          0.5388188695999815
         ],
         "yaxis": "y"
        },
        {
         "hovertemplate": "<b>Error model: 2-sigma interval</b><br>Hypothetical measurement: %{y:.02f} cm^3<br>Cancer type: Lung cancer (LXF A677)<br><extra></extra>",
         "legendgroup": "Error model",
         "line": {
          "color": "Black",
          "width": 1.5
         },
         "mode": "lines",
         "name": "Error model",
         "opacity": 0.5,
         "showlegend": false,
         "type": "scatter",
         "visible": false,
         "x": [
          0.07468411303813567,
          0.09847790632508238,
          0.12470394900082221,
          0.16762707446703742,
          0.1980979230023861,
          0.2297447106362789,
          0.2789705639446174,
          0.3127189607093728,
          0.34706736528026616,
          0.399534031301463,
          0.43504050853095455,
          0.47090752817522036,
          0.5252922114279635,
          0.5618863135096059
         ],
         "xaxis": "x",
         "y": [
          0.12081900085738459,
          0.1446127941443313,
          0.17083883682007112,
          0.21376196228628636,
          0.244232810821635,
          0.27587959845552784,
          0.3251054517638663,
          0.3588538485286217,
          0.39320225309951506,
          0.4456689191207119,
          0.48117539635020345,
          0.5170424159944693,
          0.5714270992472124,
          0.6080212013288548
         ],
         "yaxis": "y"
        },
        {
         "hovertemplate": "<b>Error model: 2-sigma interval</b><br>Hypothetical measurement: %{y:.02f} cm^3<br>Cancer type: Lung cancer (LXF A677)<br><extra></extra>",
         "legendgroup": "Error model",
         "line": {
          "color": "Black",
          "width": 1.5
         },
         "mode": "lines",
         "name": "Error model",
         "opacity": 0.5,
         "showlegend": false,
         "type": "scatter",
         "visible": false,
         "x": [
          0.07468411303813567,
          0.09847790632508238,
          0.12470394900082221,
          0.16762707446703742,
          0.1980979230023861,
          0.2297447106362789,
          0.2789705639446174,
          0.3127189607093728,
          0.34706736528026616,
          0.399534031301463,
          0.43504050853095455,
          0.47090752817522036,
          0.5252922114279635,
          0.5618863135096059
         ],
         "xaxis": "x",
         "y": [
          0.028549225218886753,
          0.052343018505833463,
          0.0785690611815733,
          0.1214921866477885,
          0.1519630351831372,
          0.18360982281702998,
          0.23283567612536848,
          0.26658407289012387,
          0.30093247746101726,
          0.3533991434822141,
          0.38890562071170565,
          0.42477264035597145,
          0.47915732360871455,
          0.515751425690357
         ],
         "yaxis": "y"
        },
        {
         "hovertemplate": "<b>Error model: 3-sigma interval</b><br>Hypothetical measurement: %{y:.02f} cm^3<br>Cancer type: Lung cancer (LXF A677)<br><extra></extra>",
         "legendgroup": "Error model",
         "line": {
          "color": "Black",
          "width": 1
         },
         "mode": "lines",
         "name": "Error model",
         "opacity": 0.3,
         "showlegend": false,
         "type": "scatter",
         "visible": false,
         "x": [
          0.07468411303813567,
          0.09847790632508238,
          0.12470394900082221,
          0.16762707446703742,
          0.1980979230023861,
          0.2297447106362789,
          0.2789705639446174,
          0.3127189607093728,
          0.34706736528026616,
          0.399534031301463,
          0.43504050853095455,
          0.47090752817522036,
          0.5252922114279635,
          0.5618863135096059
         ],
         "xaxis": "x",
         "y": [
          0.14388644476700907,
          0.16768023805395577,
          0.1939062807296956,
          0.2368294061959108,
          0.2673002547312595,
          0.2989470423651523,
          0.34817289567349075,
          0.38192129243824613,
          0.4162696970091395,
          0.4687363630303364,
          0.5042428402598279,
          0.5401098599040938,
          0.5944945431568368,
          0.6310886452384793
         ],
         "yaxis": "y"
        },
        {
         "hovertemplate": "<b>Error model: 3-sigma interval</b><br>Hypothetical measurement: %{y:.02f} cm^3<br>Cancer type: Lung cancer (LXF A677)<br><extra></extra>",
         "legendgroup": "Error model",
         "line": {
          "color": "Black",
          "width": 1
         },
         "mode": "lines",
         "name": "Error model",
         "opacity": 0.3,
         "showlegend": false,
         "type": "scatter",
         "visible": false,
         "x": [
          0.07468411303813567,
          0.09847790632508238,
          0.12470394900082221,
          0.16762707446703742,
          0.1980979230023861,
          0.2297447106362789,
          0.2789705639446174,
          0.3127189607093728,
          0.34706736528026616,
          0.399534031301463,
          0.43504050853095455,
          0.47090752817522036,
          0.5252922114279635,
          0.5618863135096059
         ],
         "xaxis": "x",
         "y": [
          0.0054817813092622875,
          0.029275574596208997,
          0.05550161727194883,
          0.09842474273816404,
          0.12889559127351272,
          0.16054237890740553,
          0.209768232215744,
          0.2435166289804994,
          0.2778650335513928,
          0.33033169957258957,
          0.3658381768020812,
          0.40170519644634695,
          0.4560898796990901,
          0.4926839817807326
         ],
         "yaxis": "y"
        },
        {
         "hovertemplate": "<b>ID: 94</b><br>Structural model: %{x:.02f} cm^3<br>Residual: %{y:.02f} cm^3<br>Cancer type: Lung cancer (LXF A677)<br><extra></extra>",
         "legendgroup": "Measurement",
         "marker": {
          "color": "#EF553B",
          "line": {
           "color": "black",
           "width": 1
          },
          "opacity": 0.7,
          "symbol": "circle"
         },
         "mode": "markers",
         "name": "Measurement",
         "showlegend": false,
         "type": "scatter",
         "visible": false,
         "x": [
          0.07468411303813567,
          0.09847790632508238,
          0.12470394900082221,
          0.16762707446703742,
          0.1980979230023861,
          0.2297447106362789,
          0.2789705639446174,
          0.3127189607093728,
          0.34706736528026616,
          0.399534031301463,
          0.43504050853095455,
          0.47090752817522036,
          0.5252922114279635,
          0.5618863135096059
         ],
         "xaxis": "x2",
         "y": [
          0.002563386961864339,
          -0.009994406325082375,
          0.0006120509991777989,
          -0.002099074467037415,
          -0.008611923002386113,
          0.03490928936372109,
          -0.014316563944617389,
          -0.005782960709372786,
          0.042139634719733865,
          -0.010327031301462952,
          -0.02927150853095456,
          -0.044436028175220355,
          0.02983878857203648,
          0.014353686490394035
         ],
         "yaxis": "y2"
        },
        {
         "hovertemplate": "<b>Error model: Mean</b><br>Hypothetical residual: %{y:.02f} cm^3<br>Cancer type: Lung cancer (LXF A677)<br><extra></extra>",
         "legendgroup": "Error model",
         "line": {
          "color": "#EF553B"
         },
         "mode": "lines",
         "name": "Error model",
         "opacity": 0.7,
         "showlegend": false,
         "type": "scatter",
         "visible": false,
         "x": [
          0.07468411303813567,
          0.09847790632508238,
          0.12470394900082221,
          0.16762707446703742,
          0.1980979230023861,
          0.2297447106362789,
          0.2789705639446174,
          0.3127189607093728,
          0.34706736528026616,
          0.399534031301463,
          0.43504050853095455,
          0.47090752817522036,
          0.5252922114279635,
          0.5618863135096059
         ],
         "xaxis": "x2",
         "y": [
          0,
          0,
          0,
          0,
          0,
          0,
          0,
          0,
          0,
          0,
          0,
          0,
          0,
          0
         ],
         "yaxis": "y2"
        },
        {
         "hovertemplate": "<b>Error model: 1-sigma interval</b><br>Hypothetical residual: %{y:.02f} cm^3<br>Cancer type: Lung cancer (LXF A677)<br><extra></extra>",
         "legendgroup": "Error model",
         "line": {
          "color": "Black"
         },
         "mode": "lines",
         "name": "Error model",
         "opacity": 0.7,
         "showlegend": false,
         "type": "scatter",
         "visible": false,
         "x": [
          0.07468411303813567,
          0.09847790632508238,
          0.12470394900082221,
          0.16762707446703742,
          0.1980979230023861,
          0.2297447106362789,
          0.2789705639446174,
          0.3127189607093728,
          0.34706736528026616,
          0.399534031301463,
          0.43504050853095455,
          0.47090752817522036,
          0.5252922114279635,
          0.5618863135096059
         ],
         "xaxis": "x2",
         "y": [
          0.02306744390962446,
          0.02306744390962446,
          0.02306744390962446,
          0.02306744390962446,
          0.02306744390962446,
          0.02306744390962446,
          0.02306744390962446,
          0.02306744390962446,
          0.02306744390962446,
          0.02306744390962446,
          0.02306744390962446,
          0.02306744390962446,
          0.02306744390962446,
          0.02306744390962446
         ],
         "yaxis": "y2"
        },
        {
         "hovertemplate": "<b>Error model: 1-sigma interval</b><br>Hypothetical measurement: %{y:.02f} cm^3<br>Cancer type: Lung cancer (LXF A677)<br><extra></extra>",
         "legendgroup": "Error model",
         "line": {
          "color": "Black"
         },
         "mode": "lines",
         "name": "Error model",
         "opacity": 0.7,
         "showlegend": false,
         "type": "scatter",
         "visible": false,
         "x": [
          0.07468411303813567,
          0.09847790632508238,
          0.12470394900082221,
          0.16762707446703742,
          0.1980979230023861,
          0.2297447106362789,
          0.2789705639446174,
          0.3127189607093728,
          0.34706736528026616,
          0.399534031301463,
          0.43504050853095455,
          0.47090752817522036,
          0.5252922114279635,
          0.5618863135096059
         ],
         "xaxis": "x2",
         "y": [
          -0.02306744390962446,
          -0.02306744390962446,
          -0.02306744390962446,
          -0.02306744390962446,
          -0.02306744390962446,
          -0.02306744390962446,
          -0.02306744390962446,
          -0.02306744390962446,
          -0.02306744390962446,
          -0.02306744390962446,
          -0.02306744390962446,
          -0.02306744390962446,
          -0.02306744390962446,
          -0.02306744390962446
         ],
         "yaxis": "y2"
        },
        {
         "hovertemplate": "<b>Error model: 2-sigma interval</b><br>Hypothetical residual: %{y:.02f} cm^3<br>Cancer type: Lung cancer (LXF A677)<br><extra></extra>",
         "legendgroup": "Error model",
         "line": {
          "color": "Black"
         },
         "mode": "lines",
         "name": "Error model",
         "opacity": 0.5,
         "showlegend": false,
         "type": "scatter",
         "visible": false,
         "x": [
          0.07468411303813567,
          0.09847790632508238,
          0.12470394900082221,
          0.16762707446703742,
          0.1980979230023861,
          0.2297447106362789,
          0.2789705639446174,
          0.3127189607093728,
          0.34706736528026616,
          0.399534031301463,
          0.43504050853095455,
          0.47090752817522036,
          0.5252922114279635,
          0.5618863135096059
         ],
         "xaxis": "x2",
         "y": [
          0.04613488781924892,
          0.04613488781924892,
          0.04613488781924892,
          0.04613488781924892,
          0.04613488781924892,
          0.04613488781924892,
          0.04613488781924892,
          0.04613488781924892,
          0.04613488781924892,
          0.04613488781924892,
          0.04613488781924892,
          0.04613488781924892,
          0.04613488781924892,
          0.04613488781924892
         ],
         "yaxis": "y2"
        },
        {
         "hovertemplate": "<b>Error model: 2-sigma interval</b><br>Hypothetical measurement: %{y:.02f} cm^3<br>Cancer type: Lung cancer (LXF A677)<br><extra></extra>",
         "legendgroup": "Error model",
         "line": {
          "color": "Black"
         },
         "mode": "lines",
         "name": "Error model",
         "opacity": 0.5,
         "showlegend": false,
         "type": "scatter",
         "visible": false,
         "x": [
          0.07468411303813567,
          0.09847790632508238,
          0.12470394900082221,
          0.16762707446703742,
          0.1980979230023861,
          0.2297447106362789,
          0.2789705639446174,
          0.3127189607093728,
          0.34706736528026616,
          0.399534031301463,
          0.43504050853095455,
          0.47090752817522036,
          0.5252922114279635,
          0.5618863135096059
         ],
         "xaxis": "x2",
         "y": [
          -0.04613488781924892,
          -0.04613488781924892,
          -0.04613488781924892,
          -0.04613488781924892,
          -0.04613488781924892,
          -0.04613488781924892,
          -0.04613488781924892,
          -0.04613488781924892,
          -0.04613488781924892,
          -0.04613488781924892,
          -0.04613488781924892,
          -0.04613488781924892,
          -0.04613488781924892,
          -0.04613488781924892
         ],
         "yaxis": "y2"
        },
        {
         "hovertemplate": "<b>Error model: 3-sigma interval</b><br>Hypothetical residual: %{y:.02f} cm^3<br>Cancer type: Lung cancer (LXF A677)<br><extra></extra>",
         "legendgroup": "Error model",
         "line": {
          "color": "Black"
         },
         "mode": "lines",
         "name": "Error model",
         "opacity": 0.3,
         "showlegend": false,
         "type": "scatter",
         "visible": false,
         "x": [
          0.07468411303813567,
          0.09847790632508238,
          0.12470394900082221,
          0.16762707446703742,
          0.1980979230023861,
          0.2297447106362789,
          0.2789705639446174,
          0.3127189607093728,
          0.34706736528026616,
          0.399534031301463,
          0.43504050853095455,
          0.47090752817522036,
          0.5252922114279635,
          0.5618863135096059
         ],
         "xaxis": "x2",
         "y": [
          0.06920233172887338,
          0.06920233172887338,
          0.06920233172887338,
          0.06920233172887338,
          0.06920233172887338,
          0.06920233172887338,
          0.06920233172887338,
          0.06920233172887338,
          0.06920233172887338,
          0.06920233172887338,
          0.06920233172887338,
          0.06920233172887338,
          0.06920233172887338,
          0.06920233172887338
         ],
         "yaxis": "y2"
        },
        {
         "hovertemplate": "<b>Error model: 3-sigma interval</b><br>Hypothetical measurement: %{y:.02f} cm^3<br>Cancer type: Lung cancer (LXF A677)<br><extra></extra>",
         "legendgroup": "Error model",
         "line": {
          "color": "Black"
         },
         "mode": "lines",
         "name": "Error model",
         "opacity": 0.3,
         "showlegend": false,
         "type": "scatter",
         "visible": false,
         "x": [
          0.07468411303813567,
          0.09847790632508238,
          0.12470394900082221,
          0.16762707446703742,
          0.1980979230023861,
          0.2297447106362789,
          0.2789705639446174,
          0.3127189607093728,
          0.34706736528026616,
          0.399534031301463,
          0.43504050853095455,
          0.47090752817522036,
          0.5252922114279635,
          0.5618863135096059
         ],
         "xaxis": "x2",
         "y": [
          -0.06920233172887338,
          -0.06920233172887338,
          -0.06920233172887338,
          -0.06920233172887338,
          -0.06920233172887338,
          -0.06920233172887338,
          -0.06920233172887338,
          -0.06920233172887338,
          -0.06920233172887338,
          -0.06920233172887338,
          -0.06920233172887338,
          -0.06920233172887338,
          -0.06920233172887338,
          -0.06920233172887338
         ],
         "yaxis": "y2"
        },
        {
         "hovertemplate": "<b>ID: 95</b><br>Structural model: %{x:.02f} cm^3<br>Measurement: %{y:.02f} cm^3<br>Cancer type: Lung cancer (LXF A677)<br><extra></extra>",
         "legendgroup": "Measurement",
         "marker": {
          "color": "#00CC96",
          "line": {
           "color": "black",
           "width": 1
          },
          "opacity": 0.7,
          "symbol": "circle"
         },
         "mode": "markers",
         "name": "Measurement",
         "showlegend": true,
         "type": "scatter",
         "visible": false,
         "x": [
          0.22090437555727624,
          0.27594120572380687,
          0.34464979460215717,
          0.48109592947714985,
          0.6008830554944408,
          0.7504717139255347,
          1.0474135813290408,
          1.3080157466884084,
          1.6333500378395216,
          2.2788189641187993
         ],
         "xaxis": "x",
         "y": [
          0.1862,
          0.24641999999999997,
          0.4293,
          0.62426,
          0.7246720000000001,
          0.7300800000000001,
          0.9196,
          1.131184,
          1.675872,
          2.346616
         ],
         "yaxis": "y"
        },
        {
         "hovertemplate": "<b>Error model: Mean</b><br>Hypothetical measurement: %{y:.02f} cm^3<br>Cancer type: Lung cancer (LXF A677)<br><extra></extra>",
         "legendgroup": "Error model",
         "line": {
          "color": "#00CC96"
         },
         "mode": "lines",
         "name": "Error model",
         "opacity": 0.7,
         "showlegend": true,
         "type": "scatter",
         "visible": false,
         "x": [
          0.22090437555727624,
          0.27594120572380687,
          0.34464979460215717,
          0.48109592947714985,
          0.6008830554944408,
          0.7504717139255347,
          1.0474135813290408,
          1.3080157466884084,
          1.6333500378395216,
          2.2788189641187993
         ],
         "xaxis": "x",
         "y": [
          0.22090437555727624,
          0.27594120572380687,
          0.34464979460215717,
          0.48109592947714985,
          0.6008830554944408,
          0.7504717139255347,
          1.0474135813290408,
          1.3080157466884084,
          1.6333500378395216,
          2.2788189641187993
         ],
         "yaxis": "y"
        },
        {
         "hovertemplate": "<b>Error model: 1-sigma interval</b><br>Hypothetical measurement: %{y:.02f} cm^3<br>Cancer type: Lung cancer (LXF A677)<br><extra></extra>",
         "legendgroup": "Error model",
         "line": {
          "color": "Black"
         },
         "mode": "lines",
         "name": "Error model",
         "opacity": 0.7,
         "showlegend": false,
         "type": "scatter",
         "visible": false,
         "x": [
          0.22090437555727624,
          0.27594120572380687,
          0.34464979460215717,
          0.48109592947714985,
          0.6008830554944408,
          0.7504717139255347,
          1.0474135813290408,
          1.3080157466884084,
          1.6333500378395216,
          2.2788189641187993
         ],
         "xaxis": "x",
         "y": [
          0.3206367185532941,
          0.3756735487198247,
          0.444382137598175,
          0.5808282724731677,
          0.7006153984904586,
          0.8502040569215525,
          1.1471459243250588,
          1.4077480896844263,
          1.7330823808355396,
          2.378551307114817
         ],
         "yaxis": "y"
        },
        {
         "hovertemplate": "<b>Error model: 1-sigma interval</b><br>Hypothetical measurement: %{y:.02f} cm^3<br>Cancer type: Lung cancer (LXF A677)<br><extra></extra>",
         "legendgroup": "Error model",
         "line": {
          "color": "Black"
         },
         "mode": "lines",
         "name": "Error model",
         "opacity": 0.7,
         "showlegend": false,
         "type": "scatter",
         "visible": false,
         "x": [
          0.22090437555727624,
          0.27594120572380687,
          0.34464979460215717,
          0.48109592947714985,
          0.6008830554944408,
          0.7504717139255347,
          1.0474135813290408,
          1.3080157466884084,
          1.6333500378395216,
          2.2788189641187993
         ],
         "xaxis": "x",
         "y": [
          0.12117203256125837,
          0.17620886272778902,
          0.2449174516061393,
          0.381363586481132,
          0.5011507124984229,
          0.6507393709295168,
          0.947681238333023,
          1.2082834036923904,
          1.5336176948435036,
          2.1790866211227815
         ],
         "yaxis": "y"
        },
        {
         "hovertemplate": "<b>Error model: 2-sigma interval</b><br>Hypothetical measurement: %{y:.02f} cm^3<br>Cancer type: Lung cancer (LXF A677)<br><extra></extra>",
         "legendgroup": "Error model",
         "line": {
          "color": "Black",
          "width": 1.5
         },
         "mode": "lines",
         "name": "Error model",
         "opacity": 0.5,
         "showlegend": false,
         "type": "scatter",
         "visible": false,
         "x": [
          0.22090437555727624,
          0.27594120572380687,
          0.34464979460215717,
          0.48109592947714985,
          0.6008830554944408,
          0.7504717139255347,
          1.0474135813290408,
          1.3080157466884084,
          1.6333500378395216,
          2.2788189641187993
         ],
         "xaxis": "x",
         "y": [
          0.420369061549312,
          0.4754058917158426,
          0.5441144805941929,
          0.6805606154691856,
          0.8003477414864765,
          0.9499363999175704,
          1.2468782673210765,
          1.507480432680444,
          1.8328147238315573,
          2.478283650110835
         ],
         "yaxis": "y"
        },
        {
         "hovertemplate": "<b>Error model: 2-sigma interval</b><br>Hypothetical measurement: %{y:.02f} cm^3<br>Cancer type: Lung cancer (LXF A677)<br><extra></extra>",
         "legendgroup": "Error model",
         "line": {
          "color": "Black",
          "width": 1.5
         },
         "mode": "lines",
         "name": "Error model",
         "opacity": 0.5,
         "showlegend": false,
         "type": "scatter",
         "visible": false,
         "x": [
          0.22090437555727624,
          0.27594120572380687,
          0.34464979460215717,
          0.48109592947714985,
          0.6008830554944408,
          0.7504717139255347,
          1.0474135813290408,
          1.3080157466884084,
          1.6333500378395216,
          2.2788189641187993
         ],
         "xaxis": "x",
         "y": [
          0.021439689565240505,
          0.07647651973177114,
          0.14518510861012143,
          0.28163124348511415,
          0.40141836950240506,
          0.551007027933499,
          0.8479488953370051,
          1.1085510606963727,
          1.433885351847486,
          2.0793542781267633
         ],
         "yaxis": "y"
        },
        {
         "hovertemplate": "<b>Error model: 3-sigma interval</b><br>Hypothetical measurement: %{y:.02f} cm^3<br>Cancer type: Lung cancer (LXF A677)<br><extra></extra>",
         "legendgroup": "Error model",
         "line": {
          "color": "Black",
          "width": 1
         },
         "mode": "lines",
         "name": "Error model",
         "opacity": 0.3,
         "showlegend": false,
         "type": "scatter",
         "visible": false,
         "x": [
          0.22090437555727624,
          0.27594120572380687,
          0.34464979460215717,
          0.48109592947714985,
          0.6008830554944408,
          0.7504717139255347,
          1.0474135813290408,
          1.3080157466884084,
          1.6333500378395216,
          2.2788189641187993
         ],
         "xaxis": "x",
         "y": [
          0.5201014045453298,
          0.5751382347118605,
          0.6438468235902108,
          0.7802929584652034,
          0.9000800844824943,
          1.0496687429135882,
          1.3466106103170945,
          1.607212775676462,
          1.9325470668275753,
          2.578015993106853
         ],
         "yaxis": "y"
        },
        {
         "hovertemplate": "<b>Error model: 3-sigma interval</b><br>Hypothetical measurement: %{y:.02f} cm^3<br>Cancer type: Lung cancer (LXF A677)<br><extra></extra>",
         "legendgroup": "Error model",
         "line": {
          "color": "Black",
          "width": 1
         },
         "mode": "lines",
         "name": "Error model",
         "opacity": 0.3,
         "showlegend": false,
         "type": "scatter",
         "visible": false,
         "x": [
          0.22090437555727624,
          0.27594120572380687,
          0.34464979460215717,
          0.48109592947714985,
          0.6008830554944408,
          0.7504717139255347,
          1.0474135813290408,
          1.3080157466884084,
          1.6333500378395216,
          2.2788189641187993
         ],
         "xaxis": "x",
         "y": [
          -0.07829265343077738,
          -0.023255823264246744,
          0.04545276561410355,
          0.18189890048909624,
          0.30168602650638715,
          0.4512746849374811,
          0.7482165523409872,
          1.0088187177003547,
          1.334153008851468,
          1.9796219351307456
         ],
         "yaxis": "y"
        },
        {
         "hovertemplate": "<b>ID: 95</b><br>Structural model: %{x:.02f} cm^3<br>Residual: %{y:.02f} cm^3<br>Cancer type: Lung cancer (LXF A677)<br><extra></extra>",
         "legendgroup": "Measurement",
         "marker": {
          "color": "#00CC96",
          "line": {
           "color": "black",
           "width": 1
          },
          "opacity": 0.7,
          "symbol": "circle"
         },
         "mode": "markers",
         "name": "Measurement",
         "showlegend": false,
         "type": "scatter",
         "visible": false,
         "x": [
          0.22090437555727624,
          0.27594120572380687,
          0.34464979460215717,
          0.48109592947714985,
          0.6008830554944408,
          0.7504717139255347,
          1.0474135813290408,
          1.3080157466884084,
          1.6333500378395216,
          2.2788189641187993
         ],
         "xaxis": "x2",
         "y": [
          -0.034704375557276235,
          -0.029521205723806898,
          0.08465020539784285,
          0.14316407052285018,
          0.12378894450555933,
          -0.020391713925534627,
          -0.12781358132904086,
          -0.1768317466884084,
          0.04252196216047843,
          0.06779703588120078
         ],
         "yaxis": "y2"
        },
        {
         "hovertemplate": "<b>Error model: Mean</b><br>Hypothetical residual: %{y:.02f} cm^3<br>Cancer type: Lung cancer (LXF A677)<br><extra></extra>",
         "legendgroup": "Error model",
         "line": {
          "color": "#00CC96"
         },
         "mode": "lines",
         "name": "Error model",
         "opacity": 0.7,
         "showlegend": false,
         "type": "scatter",
         "visible": false,
         "x": [
          0.22090437555727624,
          0.27594120572380687,
          0.34464979460215717,
          0.48109592947714985,
          0.6008830554944408,
          0.7504717139255347,
          1.0474135813290408,
          1.3080157466884084,
          1.6333500378395216,
          2.2788189641187993
         ],
         "xaxis": "x2",
         "y": [
          0,
          0,
          0,
          0,
          0,
          0,
          0,
          0,
          0,
          0
         ],
         "yaxis": "y2"
        },
        {
         "hovertemplate": "<b>Error model: 1-sigma interval</b><br>Hypothetical residual: %{y:.02f} cm^3<br>Cancer type: Lung cancer (LXF A677)<br><extra></extra>",
         "legendgroup": "Error model",
         "line": {
          "color": "Black"
         },
         "mode": "lines",
         "name": "Error model",
         "opacity": 0.7,
         "showlegend": false,
         "type": "scatter",
         "visible": false,
         "x": [
          0.22090437555727624,
          0.27594120572380687,
          0.34464979460215717,
          0.48109592947714985,
          0.6008830554944408,
          0.7504717139255347,
          1.0474135813290408,
          1.3080157466884084,
          1.6333500378395216,
          2.2788189641187993
         ],
         "xaxis": "x2",
         "y": [
          0.09973234299601787,
          0.09973234299601787,
          0.09973234299601787,
          0.09973234299601787,
          0.09973234299601787,
          0.09973234299601787,
          0.09973234299601787,
          0.09973234299601787,
          0.09973234299601787,
          0.09973234299601787
         ],
         "yaxis": "y2"
        },
        {
         "hovertemplate": "<b>Error model: 1-sigma interval</b><br>Hypothetical measurement: %{y:.02f} cm^3<br>Cancer type: Lung cancer (LXF A677)<br><extra></extra>",
         "legendgroup": "Error model",
         "line": {
          "color": "Black"
         },
         "mode": "lines",
         "name": "Error model",
         "opacity": 0.7,
         "showlegend": false,
         "type": "scatter",
         "visible": false,
         "x": [
          0.22090437555727624,
          0.27594120572380687,
          0.34464979460215717,
          0.48109592947714985,
          0.6008830554944408,
          0.7504717139255347,
          1.0474135813290408,
          1.3080157466884084,
          1.6333500378395216,
          2.2788189641187993
         ],
         "xaxis": "x2",
         "y": [
          -0.09973234299601787,
          -0.09973234299601787,
          -0.09973234299601787,
          -0.09973234299601787,
          -0.09973234299601787,
          -0.09973234299601787,
          -0.09973234299601787,
          -0.09973234299601787,
          -0.09973234299601787,
          -0.09973234299601787
         ],
         "yaxis": "y2"
        },
        {
         "hovertemplate": "<b>Error model: 2-sigma interval</b><br>Hypothetical residual: %{y:.02f} cm^3<br>Cancer type: Lung cancer (LXF A677)<br><extra></extra>",
         "legendgroup": "Error model",
         "line": {
          "color": "Black"
         },
         "mode": "lines",
         "name": "Error model",
         "opacity": 0.5,
         "showlegend": false,
         "type": "scatter",
         "visible": false,
         "x": [
          0.22090437555727624,
          0.27594120572380687,
          0.34464979460215717,
          0.48109592947714985,
          0.6008830554944408,
          0.7504717139255347,
          1.0474135813290408,
          1.3080157466884084,
          1.6333500378395216,
          2.2788189641187993
         ],
         "xaxis": "x2",
         "y": [
          0.19946468599203573,
          0.19946468599203573,
          0.19946468599203573,
          0.19946468599203573,
          0.19946468599203573,
          0.19946468599203573,
          0.19946468599203573,
          0.19946468599203573,
          0.19946468599203573,
          0.19946468599203573
         ],
         "yaxis": "y2"
        },
        {
         "hovertemplate": "<b>Error model: 2-sigma interval</b><br>Hypothetical measurement: %{y:.02f} cm^3<br>Cancer type: Lung cancer (LXF A677)<br><extra></extra>",
         "legendgroup": "Error model",
         "line": {
          "color": "Black"
         },
         "mode": "lines",
         "name": "Error model",
         "opacity": 0.5,
         "showlegend": false,
         "type": "scatter",
         "visible": false,
         "x": [
          0.22090437555727624,
          0.27594120572380687,
          0.34464979460215717,
          0.48109592947714985,
          0.6008830554944408,
          0.7504717139255347,
          1.0474135813290408,
          1.3080157466884084,
          1.6333500378395216,
          2.2788189641187993
         ],
         "xaxis": "x2",
         "y": [
          -0.19946468599203573,
          -0.19946468599203573,
          -0.19946468599203573,
          -0.19946468599203573,
          -0.19946468599203573,
          -0.19946468599203573,
          -0.19946468599203573,
          -0.19946468599203573,
          -0.19946468599203573,
          -0.19946468599203573
         ],
         "yaxis": "y2"
        },
        {
         "hovertemplate": "<b>Error model: 3-sigma interval</b><br>Hypothetical residual: %{y:.02f} cm^3<br>Cancer type: Lung cancer (LXF A677)<br><extra></extra>",
         "legendgroup": "Error model",
         "line": {
          "color": "Black"
         },
         "mode": "lines",
         "name": "Error model",
         "opacity": 0.3,
         "showlegend": false,
         "type": "scatter",
         "visible": false,
         "x": [
          0.22090437555727624,
          0.27594120572380687,
          0.34464979460215717,
          0.48109592947714985,
          0.6008830554944408,
          0.7504717139255347,
          1.0474135813290408,
          1.3080157466884084,
          1.6333500378395216,
          2.2788189641187993
         ],
         "xaxis": "x2",
         "y": [
          0.2991970289880536,
          0.2991970289880536,
          0.2991970289880536,
          0.2991970289880536,
          0.2991970289880536,
          0.2991970289880536,
          0.2991970289880536,
          0.2991970289880536,
          0.2991970289880536,
          0.2991970289880536
         ],
         "yaxis": "y2"
        },
        {
         "hovertemplate": "<b>Error model: 3-sigma interval</b><br>Hypothetical measurement: %{y:.02f} cm^3<br>Cancer type: Lung cancer (LXF A677)<br><extra></extra>",
         "legendgroup": "Error model",
         "line": {
          "color": "Black"
         },
         "mode": "lines",
         "name": "Error model",
         "opacity": 0.3,
         "showlegend": false,
         "type": "scatter",
         "visible": false,
         "x": [
          0.22090437555727624,
          0.27594120572380687,
          0.34464979460215717,
          0.48109592947714985,
          0.6008830554944408,
          0.7504717139255347,
          1.0474135813290408,
          1.3080157466884084,
          1.6333500378395216,
          2.2788189641187993
         ],
         "xaxis": "x2",
         "y": [
          -0.2991970289880536,
          -0.2991970289880536,
          -0.2991970289880536,
          -0.2991970289880536,
          -0.2991970289880536,
          -0.2991970289880536,
          -0.2991970289880536,
          -0.2991970289880536,
          -0.2991970289880536,
          -0.2991970289880536
         ],
         "yaxis": "y2"
        },
        {
         "hovertemplate": "<b>ID: 136</b><br>Structural model: %{x:.02f} cm^3<br>Measurement: %{y:.02f} cm^3<br>Cancer type: Lung cancer (LXF A677)<br><extra></extra>",
         "legendgroup": "Measurement",
         "marker": {
          "color": "#AB63FA",
          "line": {
           "color": "black",
           "width": 1
          },
          "opacity": 0.7,
          "symbol": "circle"
         },
         "mode": "markers",
         "name": "Measurement",
         "showlegend": true,
         "type": "scatter",
         "visible": false,
         "x": [
          0.14885739328352246,
          0.1801752438718177,
          0.2170490891202855,
          0.2841055913724219,
          0.33746510041734834,
          0.39831245685123795,
          0.5044074689539257,
          0.5853477857759892,
          0.6745593624495113,
          0.8236829402183181,
          0.9331376010710725,
          1.0503239782056446,
          1.2398919227157066,
          1.374906450548377
         ],
         "xaxis": "x",
         "y": [
          0.1185885,
          0.175071,
          0.22999200000000006,
          0.3026885,
          0.3026885,
          0.37044,
          0.5341545,
          0.651688,
          0.7212869999999999,
          0.78732,
          0.8529505000000001,
          1.104558,
          1.1328799999999999,
          1.4593425
         ],
         "yaxis": "y"
        },
        {
         "hovertemplate": "<b>Error model: Mean</b><br>Hypothetical measurement: %{y:.02f} cm^3<br>Cancer type: Lung cancer (LXF A677)<br><extra></extra>",
         "legendgroup": "Error model",
         "line": {
          "color": "#AB63FA"
         },
         "mode": "lines",
         "name": "Error model",
         "opacity": 0.7,
         "showlegend": true,
         "type": "scatter",
         "visible": false,
         "x": [
          0.14885739328352246,
          0.1801752438718177,
          0.2170490891202855,
          0.2841055913724219,
          0.33746510041734834,
          0.39831245685123795,
          0.5044074689539257,
          0.5853477857759892,
          0.6745593624495113,
          0.8236829402183181,
          0.9331376010710725,
          1.0503239782056446,
          1.2398919227157066,
          1.374906450548377
         ],
         "xaxis": "x",
         "y": [
          0.14885739328352246,
          0.1801752438718177,
          0.2170490891202855,
          0.2841055913724219,
          0.33746510041734834,
          0.39831245685123795,
          0.5044074689539257,
          0.5853477857759892,
          0.6745593624495113,
          0.8236829402183181,
          0.9331376010710725,
          1.0503239782056446,
          1.2398919227157066,
          1.374906450548377
         ],
         "yaxis": "y"
        },
        {
         "hovertemplate": "<b>Error model: 1-sigma interval</b><br>Hypothetical measurement: %{y:.02f} cm^3<br>Cancer type: Lung cancer (LXF A677)<br><extra></extra>",
         "legendgroup": "Error model",
         "line": {
          "color": "Black"
         },
         "mode": "lines",
         "name": "Error model",
         "opacity": 0.7,
         "showlegend": false,
         "type": "scatter",
         "visible": false,
         "x": [
          0.14885739328352246,
          0.1801752438718177,
          0.2170490891202855,
          0.2841055913724219,
          0.33746510041734834,
          0.39831245685123795,
          0.5044074689539257,
          0.5853477857759892,
          0.6745593624495113,
          0.8236829402183181,
          0.9331376010710725,
          1.0503239782056446,
          1.2398919227157066,
          1.374906450548377
         ],
         "xaxis": "x",
         "y": [
          0.20245298759652403,
          0.23377083818481925,
          0.27064468343328707,
          0.3377011856854235,
          0.39106069473034993,
          0.45190805116423954,
          0.5580030632669273,
          0.6389433800889908,
          0.7281549567625129,
          0.8772785345313197,
          0.986733195384074,
          1.1039195725186461,
          1.2934875170287081,
          1.4285020448613786
         ],
         "yaxis": "y"
        },
        {
         "hovertemplate": "<b>Error model: 1-sigma interval</b><br>Hypothetical measurement: %{y:.02f} cm^3<br>Cancer type: Lung cancer (LXF A677)<br><extra></extra>",
         "legendgroup": "Error model",
         "line": {
          "color": "Black"
         },
         "mode": "lines",
         "name": "Error model",
         "opacity": 0.7,
         "showlegend": false,
         "type": "scatter",
         "visible": false,
         "x": [
          0.14885739328352246,
          0.1801752438718177,
          0.2170490891202855,
          0.2841055913724219,
          0.33746510041734834,
          0.39831245685123795,
          0.5044074689539257,
          0.5853477857759892,
          0.6745593624495113,
          0.8236829402183181,
          0.9331376010710725,
          1.0503239782056446,
          1.2398919227157066,
          1.374906450548377
         ],
         "xaxis": "x",
         "y": [
          0.09526179897052088,
          0.12657964955881612,
          0.16345349480728394,
          0.23050999705942032,
          0.28386950610434675,
          0.34471686253823636,
          0.45081187464092415,
          0.5317521914629877,
          0.6209637681365098,
          0.7700873459053166,
          0.8795420067580709,
          0.9967283838926431,
          1.186296328402705,
          1.3213108562353755
         ],
         "yaxis": "y"
        },
        {
         "hovertemplate": "<b>Error model: 2-sigma interval</b><br>Hypothetical measurement: %{y:.02f} cm^3<br>Cancer type: Lung cancer (LXF A677)<br><extra></extra>",
         "legendgroup": "Error model",
         "line": {
          "color": "Black",
          "width": 1.5
         },
         "mode": "lines",
         "name": "Error model",
         "opacity": 0.5,
         "showlegend": false,
         "type": "scatter",
         "visible": false,
         "x": [
          0.14885739328352246,
          0.1801752438718177,
          0.2170490891202855,
          0.2841055913724219,
          0.33746510041734834,
          0.39831245685123795,
          0.5044074689539257,
          0.5853477857759892,
          0.6745593624495113,
          0.8236829402183181,
          0.9331376010710725,
          1.0503239782056446,
          1.2398919227157066,
          1.374906450548377
         ],
         "xaxis": "x",
         "y": [
          0.2560485819095256,
          0.28736643249782085,
          0.32424027774628866,
          0.39129677999842505,
          0.4446562890433515,
          0.5055036454772411,
          0.6115986575799289,
          0.6925389744019924,
          0.7817505510755145,
          0.9308741288443213,
          1.0403287896970757,
          1.1575151668316477,
          1.3470831113417097,
          1.48209763917438
         ],
         "yaxis": "y"
        },
        {
         "hovertemplate": "<b>Error model: 2-sigma interval</b><br>Hypothetical measurement: %{y:.02f} cm^3<br>Cancer type: Lung cancer (LXF A677)<br><extra></extra>",
         "legendgroup": "Error model",
         "line": {
          "color": "Black",
          "width": 1.5
         },
         "mode": "lines",
         "name": "Error model",
         "opacity": 0.5,
         "showlegend": false,
         "type": "scatter",
         "visible": false,
         "x": [
          0.14885739328352246,
          0.1801752438718177,
          0.2170490891202855,
          0.2841055913724219,
          0.33746510041734834,
          0.39831245685123795,
          0.5044074689539257,
          0.5853477857759892,
          0.6745593624495113,
          0.8236829402183181,
          0.9331376010710725,
          1.0503239782056446,
          1.2398919227157066,
          1.374906450548377
         ],
         "xaxis": "x",
         "y": [
          0.0416662046575193,
          0.07298405524581453,
          0.10985790049428235,
          0.17691440274641876,
          0.23027391179134518,
          0.29112126822523476,
          0.39721628032792256,
          0.47815659714998604,
          0.5673681738235081,
          0.7164917515923149,
          0.8259464124450693,
          0.9431327895796414,
          1.1327007340897035,
          1.267715261922374
         ],
         "yaxis": "y"
        },
        {
         "hovertemplate": "<b>Error model: 3-sigma interval</b><br>Hypothetical measurement: %{y:.02f} cm^3<br>Cancer type: Lung cancer (LXF A677)<br><extra></extra>",
         "legendgroup": "Error model",
         "line": {
          "color": "Black",
          "width": 1
         },
         "mode": "lines",
         "name": "Error model",
         "opacity": 0.3,
         "showlegend": false,
         "type": "scatter",
         "visible": false,
         "x": [
          0.14885739328352246,
          0.1801752438718177,
          0.2170490891202855,
          0.2841055913724219,
          0.33746510041734834,
          0.39831245685123795,
          0.5044074689539257,
          0.5853477857759892,
          0.6745593624495113,
          0.8236829402183181,
          0.9331376010710725,
          1.0503239782056446,
          1.2398919227157066,
          1.374906450548377
         ],
         "xaxis": "x",
         "y": [
          0.30964417622252716,
          0.34096202681082244,
          0.37783587205929026,
          0.44489237431142664,
          0.49825188335635306,
          0.5590992397902427,
          0.6651942518929305,
          0.746134568714994,
          0.835346145388516,
          0.9844697231573228,
          1.0939243840100772,
          1.2111107611446492,
          1.4006787056547112,
          1.5356932334873816
         ],
         "yaxis": "y"
        },
        {
         "hovertemplate": "<b>Error model: 3-sigma interval</b><br>Hypothetical measurement: %{y:.02f} cm^3<br>Cancer type: Lung cancer (LXF A677)<br><extra></extra>",
         "legendgroup": "Error model",
         "line": {
          "color": "Black",
          "width": 1
         },
         "mode": "lines",
         "name": "Error model",
         "opacity": 0.3,
         "showlegend": false,
         "type": "scatter",
         "visible": false,
         "x": [
          0.14885739328352246,
          0.1801752438718177,
          0.2170490891202855,
          0.2841055913724219,
          0.33746510041734834,
          0.39831245685123795,
          0.5044074689539257,
          0.5853477857759892,
          0.6745593624495113,
          0.8236829402183181,
          0.9331376010710725,
          1.0503239782056446,
          1.2398919227157066,
          1.374906450548377
         ],
         "xaxis": "x",
         "y": [
          -0.011929389655482264,
          0.019388460932812962,
          0.05626230618128078,
          0.12331880843341719,
          0.17667831747834362,
          0.23752567391223323,
          0.343620686014921,
          0.4245610028369845,
          0.5137725795105066,
          0.6628961572793134,
          0.7723508181320677,
          0.8895371952666399,
          1.079105139776702,
          1.2141196676093724
         ],
         "yaxis": "y"
        },
        {
         "hovertemplate": "<b>ID: 136</b><br>Structural model: %{x:.02f} cm^3<br>Residual: %{y:.02f} cm^3<br>Cancer type: Lung cancer (LXF A677)<br><extra></extra>",
         "legendgroup": "Measurement",
         "marker": {
          "color": "#AB63FA",
          "line": {
           "color": "black",
           "width": 1
          },
          "opacity": 0.7,
          "symbol": "circle"
         },
         "mode": "markers",
         "name": "Measurement",
         "showlegend": false,
         "type": "scatter",
         "visible": false,
         "x": [
          0.14885739328352246,
          0.1801752438718177,
          0.2170490891202855,
          0.2841055913724219,
          0.33746510041734834,
          0.39831245685123795,
          0.5044074689539257,
          0.5853477857759892,
          0.6745593624495113,
          0.8236829402183181,
          0.9331376010710725,
          1.0503239782056446,
          1.2398919227157066,
          1.374906450548377
         ],
         "xaxis": "x2",
         "y": [
          -0.03026889328352246,
          -0.005104243871817682,
          0.012942910879714553,
          0.01858290862757811,
          -0.03477660041734831,
          -0.02787245685123796,
          0.029747031046074235,
          0.06634021422401082,
          0.04672763755048859,
          -0.036362940218318096,
          -0.08018710107107241,
          0.054234021794355325,
          -0.1070119227157067,
          0.08443604945162297
         ],
         "yaxis": "y2"
        },
        {
         "hovertemplate": "<b>Error model: Mean</b><br>Hypothetical residual: %{y:.02f} cm^3<br>Cancer type: Lung cancer (LXF A677)<br><extra></extra>",
         "legendgroup": "Error model",
         "line": {
          "color": "#AB63FA"
         },
         "mode": "lines",
         "name": "Error model",
         "opacity": 0.7,
         "showlegend": false,
         "type": "scatter",
         "visible": false,
         "x": [
          0.14885739328352246,
          0.1801752438718177,
          0.2170490891202855,
          0.2841055913724219,
          0.33746510041734834,
          0.39831245685123795,
          0.5044074689539257,
          0.5853477857759892,
          0.6745593624495113,
          0.8236829402183181,
          0.9331376010710725,
          1.0503239782056446,
          1.2398919227157066,
          1.374906450548377
         ],
         "xaxis": "x2",
         "y": [
          0,
          0,
          0,
          0,
          0,
          0,
          0,
          0,
          0,
          0,
          0,
          0,
          0,
          0
         ],
         "yaxis": "y2"
        },
        {
         "hovertemplate": "<b>Error model: 1-sigma interval</b><br>Hypothetical residual: %{y:.02f} cm^3<br>Cancer type: Lung cancer (LXF A677)<br><extra></extra>",
         "legendgroup": "Error model",
         "line": {
          "color": "Black"
         },
         "mode": "lines",
         "name": "Error model",
         "opacity": 0.7,
         "showlegend": false,
         "type": "scatter",
         "visible": false,
         "x": [
          0.14885739328352246,
          0.1801752438718177,
          0.2170490891202855,
          0.2841055913724219,
          0.33746510041734834,
          0.39831245685123795,
          0.5044074689539257,
          0.5853477857759892,
          0.6745593624495113,
          0.8236829402183181,
          0.9331376010710725,
          1.0503239782056446,
          1.2398919227157066,
          1.374906450548377
         ],
         "xaxis": "x2",
         "y": [
          0.05359559431300158,
          0.05359559431300158,
          0.05359559431300158,
          0.05359559431300158,
          0.05359559431300158,
          0.05359559431300158,
          0.05359559431300158,
          0.05359559431300158,
          0.05359559431300158,
          0.05359559431300158,
          0.05359559431300158,
          0.05359559431300158,
          0.05359559431300158,
          0.05359559431300158
         ],
         "yaxis": "y2"
        },
        {
         "hovertemplate": "<b>Error model: 1-sigma interval</b><br>Hypothetical measurement: %{y:.02f} cm^3<br>Cancer type: Lung cancer (LXF A677)<br><extra></extra>",
         "legendgroup": "Error model",
         "line": {
          "color": "Black"
         },
         "mode": "lines",
         "name": "Error model",
         "opacity": 0.7,
         "showlegend": false,
         "type": "scatter",
         "visible": false,
         "x": [
          0.14885739328352246,
          0.1801752438718177,
          0.2170490891202855,
          0.2841055913724219,
          0.33746510041734834,
          0.39831245685123795,
          0.5044074689539257,
          0.5853477857759892,
          0.6745593624495113,
          0.8236829402183181,
          0.9331376010710725,
          1.0503239782056446,
          1.2398919227157066,
          1.374906450548377
         ],
         "xaxis": "x2",
         "y": [
          -0.05359559431300158,
          -0.05359559431300158,
          -0.05359559431300158,
          -0.05359559431300158,
          -0.05359559431300158,
          -0.05359559431300158,
          -0.05359559431300158,
          -0.05359559431300158,
          -0.05359559431300158,
          -0.05359559431300158,
          -0.05359559431300158,
          -0.05359559431300158,
          -0.05359559431300158,
          -0.05359559431300158
         ],
         "yaxis": "y2"
        },
        {
         "hovertemplate": "<b>Error model: 2-sigma interval</b><br>Hypothetical residual: %{y:.02f} cm^3<br>Cancer type: Lung cancer (LXF A677)<br><extra></extra>",
         "legendgroup": "Error model",
         "line": {
          "color": "Black"
         },
         "mode": "lines",
         "name": "Error model",
         "opacity": 0.5,
         "showlegend": false,
         "type": "scatter",
         "visible": false,
         "x": [
          0.14885739328352246,
          0.1801752438718177,
          0.2170490891202855,
          0.2841055913724219,
          0.33746510041734834,
          0.39831245685123795,
          0.5044074689539257,
          0.5853477857759892,
          0.6745593624495113,
          0.8236829402183181,
          0.9331376010710725,
          1.0503239782056446,
          1.2398919227157066,
          1.374906450548377
         ],
         "xaxis": "x2",
         "y": [
          0.10719118862600316,
          0.10719118862600316,
          0.10719118862600316,
          0.10719118862600316,
          0.10719118862600316,
          0.10719118862600316,
          0.10719118862600316,
          0.10719118862600316,
          0.10719118862600316,
          0.10719118862600316,
          0.10719118862600316,
          0.10719118862600316,
          0.10719118862600316,
          0.10719118862600316
         ],
         "yaxis": "y2"
        },
        {
         "hovertemplate": "<b>Error model: 2-sigma interval</b><br>Hypothetical measurement: %{y:.02f} cm^3<br>Cancer type: Lung cancer (LXF A677)<br><extra></extra>",
         "legendgroup": "Error model",
         "line": {
          "color": "Black"
         },
         "mode": "lines",
         "name": "Error model",
         "opacity": 0.5,
         "showlegend": false,
         "type": "scatter",
         "visible": false,
         "x": [
          0.14885739328352246,
          0.1801752438718177,
          0.2170490891202855,
          0.2841055913724219,
          0.33746510041734834,
          0.39831245685123795,
          0.5044074689539257,
          0.5853477857759892,
          0.6745593624495113,
          0.8236829402183181,
          0.9331376010710725,
          1.0503239782056446,
          1.2398919227157066,
          1.374906450548377
         ],
         "xaxis": "x2",
         "y": [
          -0.10719118862600316,
          -0.10719118862600316,
          -0.10719118862600316,
          -0.10719118862600316,
          -0.10719118862600316,
          -0.10719118862600316,
          -0.10719118862600316,
          -0.10719118862600316,
          -0.10719118862600316,
          -0.10719118862600316,
          -0.10719118862600316,
          -0.10719118862600316,
          -0.10719118862600316,
          -0.10719118862600316
         ],
         "yaxis": "y2"
        },
        {
         "hovertemplate": "<b>Error model: 3-sigma interval</b><br>Hypothetical residual: %{y:.02f} cm^3<br>Cancer type: Lung cancer (LXF A677)<br><extra></extra>",
         "legendgroup": "Error model",
         "line": {
          "color": "Black"
         },
         "mode": "lines",
         "name": "Error model",
         "opacity": 0.3,
         "showlegend": false,
         "type": "scatter",
         "visible": false,
         "x": [
          0.14885739328352246,
          0.1801752438718177,
          0.2170490891202855,
          0.2841055913724219,
          0.33746510041734834,
          0.39831245685123795,
          0.5044074689539257,
          0.5853477857759892,
          0.6745593624495113,
          0.8236829402183181,
          0.9331376010710725,
          1.0503239782056446,
          1.2398919227157066,
          1.374906450548377
         ],
         "xaxis": "x2",
         "y": [
          0.16078678293900472,
          0.16078678293900472,
          0.16078678293900472,
          0.16078678293900472,
          0.16078678293900472,
          0.16078678293900472,
          0.16078678293900472,
          0.16078678293900472,
          0.16078678293900472,
          0.16078678293900472,
          0.16078678293900472,
          0.16078678293900472,
          0.16078678293900472,
          0.16078678293900472
         ],
         "yaxis": "y2"
        },
        {
         "hovertemplate": "<b>Error model: 3-sigma interval</b><br>Hypothetical measurement: %{y:.02f} cm^3<br>Cancer type: Lung cancer (LXF A677)<br><extra></extra>",
         "legendgroup": "Error model",
         "line": {
          "color": "Black"
         },
         "mode": "lines",
         "name": "Error model",
         "opacity": 0.3,
         "showlegend": false,
         "type": "scatter",
         "visible": false,
         "x": [
          0.14885739328352246,
          0.1801752438718177,
          0.2170490891202855,
          0.2841055913724219,
          0.33746510041734834,
          0.39831245685123795,
          0.5044074689539257,
          0.5853477857759892,
          0.6745593624495113,
          0.8236829402183181,
          0.9331376010710725,
          1.0503239782056446,
          1.2398919227157066,
          1.374906450548377
         ],
         "xaxis": "x2",
         "y": [
          -0.16078678293900472,
          -0.16078678293900472,
          -0.16078678293900472,
          -0.16078678293900472,
          -0.16078678293900472,
          -0.16078678293900472,
          -0.16078678293900472,
          -0.16078678293900472,
          -0.16078678293900472,
          -0.16078678293900472,
          -0.16078678293900472,
          -0.16078678293900472,
          -0.16078678293900472,
          -0.16078678293900472
         ],
         "yaxis": "y2"
        },
        {
         "hovertemplate": "<b>ID: 140</b><br>Structural model: %{x:.02f} cm^3<br>Measurement: %{y:.02f} cm^3<br>Cancer type: Lung cancer (LXF A677)<br><extra></extra>",
         "legendgroup": "Measurement",
         "marker": {
          "color": "#FFA15A",
          "line": {
           "color": "black",
           "width": 1
          },
          "opacity": 0.7,
          "symbol": "circle"
         },
         "mode": "markers",
         "name": "Measurement",
         "showlegend": true,
         "type": "scatter",
         "visible": false,
         "x": [
          0.0841766431505713,
          0.10456203742665926,
          0.12986826846584673,
          0.17977261056863345,
          0.22328754510587231,
          0.27733190752930653,
          0.3838761360914642,
          0.476773742053005,
          0.5921379734279173,
          0.8195262463718683,
          1.0177358153444462,
          1.263822899312182,
          1.7487081277816519,
          2.171166566398839
         ],
         "xaxis": "x",
         "y": [
          0.0793305,
          0.12685200000000002,
          0.146072,
          0.261121,
          0.34574400000000005,
          0.3552,
          0.41905,
          0.48029799999999995,
          0.556668,
          0.8089919999999999,
          0.8573040000000001,
          1.097675,
          1.992144,
          2.1225820000000004
         ],
         "yaxis": "y"
        },
        {
         "hovertemplate": "<b>Error model: Mean</b><br>Hypothetical measurement: %{y:.02f} cm^3<br>Cancer type: Lung cancer (LXF A677)<br><extra></extra>",
         "legendgroup": "Error model",
         "line": {
          "color": "#FFA15A"
         },
         "mode": "lines",
         "name": "Error model",
         "opacity": 0.7,
         "showlegend": true,
         "type": "scatter",
         "visible": false,
         "x": [
          0.0841766431505713,
          0.10456203742665926,
          0.12986826846584673,
          0.17977261056863345,
          0.22328754510587231,
          0.27733190752930653,
          0.3838761360914642,
          0.476773742053005,
          0.5921379734279173,
          0.8195262463718683,
          1.0177358153444462,
          1.263822899312182,
          1.7487081277816519,
          2.171166566398839
         ],
         "xaxis": "x",
         "y": [
          0.0841766431505713,
          0.10456203742665926,
          0.12986826846584673,
          0.17977261056863345,
          0.22328754510587231,
          0.27733190752930653,
          0.3838761360914642,
          0.476773742053005,
          0.5921379734279173,
          0.8195262463718683,
          1.0177358153444462,
          1.263822899312182,
          1.7487081277816519,
          2.171166566398839
         ],
         "yaxis": "y"
        },
        {
         "hovertemplate": "<b>Error model: 1-sigma interval</b><br>Hypothetical measurement: %{y:.02f} cm^3<br>Cancer type: Lung cancer (LXF A677)<br><extra></extra>",
         "legendgroup": "Error model",
         "line": {
          "color": "Black"
         },
         "mode": "lines",
         "name": "Error model",
         "opacity": 0.7,
         "showlegend": false,
         "type": "scatter",
         "visible": false,
         "x": [
          0.0841766431505713,
          0.10456203742665926,
          0.12986826846584673,
          0.17977261056863345,
          0.22328754510587231,
          0.27733190752930653,
          0.3838761360914642,
          0.476773742053005,
          0.5921379734279173,
          0.8195262463718683,
          1.0177358153444462,
          1.263822899312182,
          1.7487081277816519,
          2.171166566398839
         ],
         "xaxis": "x",
         "y": [
          0.18630365511340233,
          0.2066890493894903,
          0.23199528042867776,
          0.2818996225314645,
          0.32541455706870337,
          0.37945891949213756,
          0.48600314805429523,
          0.578900754015836,
          0.6942649853907483,
          0.9216532583346994,
          1.1198628273072773,
          1.365949911275013,
          1.8508351397444829,
          2.27329357836167
         ],
         "yaxis": "y"
        },
        {
         "hovertemplate": "<b>Error model: 1-sigma interval</b><br>Hypothetical measurement: %{y:.02f} cm^3<br>Cancer type: Lung cancer (LXF A677)<br><extra></extra>",
         "legendgroup": "Error model",
         "line": {
          "color": "Black"
         },
         "mode": "lines",
         "name": "Error model",
         "opacity": 0.7,
         "showlegend": false,
         "type": "scatter",
         "visible": false,
         "x": [
          0.0841766431505713,
          0.10456203742665926,
          0.12986826846584673,
          0.17977261056863345,
          0.22328754510587231,
          0.27733190752930653,
          0.3838761360914642,
          0.476773742053005,
          0.5921379734279173,
          0.8195262463718683,
          1.0177358153444462,
          1.263822899312182,
          1.7487081277816519,
          2.171166566398839
         ],
         "xaxis": "x",
         "y": [
          -0.017950368812259726,
          0.002435025463828233,
          0.027741256503015704,
          0.07764559860580242,
          0.12116053314304129,
          0.1752048955664755,
          0.2817491241286332,
          0.37464673009017396,
          0.49001096146508627,
          0.7173992344090373,
          0.9156088033816152,
          1.161695887349351,
          1.6465811158188208,
          2.069039554436008
         ],
         "yaxis": "y"
        },
        {
         "hovertemplate": "<b>Error model: 2-sigma interval</b><br>Hypothetical measurement: %{y:.02f} cm^3<br>Cancer type: Lung cancer (LXF A677)<br><extra></extra>",
         "legendgroup": "Error model",
         "line": {
          "color": "Black",
          "width": 1.5
         },
         "mode": "lines",
         "name": "Error model",
         "opacity": 0.5,
         "showlegend": false,
         "type": "scatter",
         "visible": false,
         "x": [
          0.0841766431505713,
          0.10456203742665926,
          0.12986826846584673,
          0.17977261056863345,
          0.22328754510587231,
          0.27733190752930653,
          0.3838761360914642,
          0.476773742053005,
          0.5921379734279173,
          0.8195262463718683,
          1.0177358153444462,
          1.263822899312182,
          1.7487081277816519,
          2.171166566398839
         ],
         "xaxis": "x",
         "y": [
          0.2884306670762333,
          0.3088160613523213,
          0.3341222923915088,
          0.3840266344942955,
          0.4275415690315344,
          0.4815859314549686,
          0.5881301600171263,
          0.681027765978667,
          0.7963919973535794,
          1.0237802702975305,
          1.2219898392701083,
          1.4680769232378441,
          1.952962151707314,
          2.375420590324501
         ],
         "yaxis": "y"
        },
        {
         "hovertemplate": "<b>Error model: 2-sigma interval</b><br>Hypothetical measurement: %{y:.02f} cm^3<br>Cancer type: Lung cancer (LXF A677)<br><extra></extra>",
         "legendgroup": "Error model",
         "line": {
          "color": "Black",
          "width": 1.5
         },
         "mode": "lines",
         "name": "Error model",
         "opacity": 0.5,
         "showlegend": false,
         "type": "scatter",
         "visible": false,
         "x": [
          0.0841766431505713,
          0.10456203742665926,
          0.12986826846584673,
          0.17977261056863345,
          0.22328754510587231,
          0.27733190752930653,
          0.3838761360914642,
          0.476773742053005,
          0.5921379734279173,
          0.8195262463718683,
          1.0177358153444462,
          1.263822899312182,
          1.7487081277816519,
          2.171166566398839
         ],
         "xaxis": "x",
         "y": [
          -0.12007738077509075,
          -0.0996919864990028,
          -0.07438575545981532,
          -0.02448141335702861,
          0.01903352118021026,
          0.07307788360364448,
          0.17962211216580215,
          0.27251971812734294,
          0.38788394950225524,
          0.6152722224462063,
          0.8134817914187842,
          1.05956887538652,
          1.5444541038559898,
          1.9669125424731768
         ],
         "yaxis": "y"
        },
        {
         "hovertemplate": "<b>Error model: 3-sigma interval</b><br>Hypothetical measurement: %{y:.02f} cm^3<br>Cancer type: Lung cancer (LXF A677)<br><extra></extra>",
         "legendgroup": "Error model",
         "line": {
          "color": "Black",
          "width": 1
         },
         "mode": "lines",
         "name": "Error model",
         "opacity": 0.3,
         "showlegend": false,
         "type": "scatter",
         "visible": false,
         "x": [
          0.0841766431505713,
          0.10456203742665926,
          0.12986826846584673,
          0.17977261056863345,
          0.22328754510587231,
          0.27733190752930653,
          0.3838761360914642,
          0.476773742053005,
          0.5921379734279173,
          0.8195262463718683,
          1.0177358153444462,
          1.263822899312182,
          1.7487081277816519,
          2.171166566398839
         ],
         "xaxis": "x",
         "y": [
          0.39055767903906435,
          0.41094307331515234,
          0.43624930435433984,
          0.48615364645712655,
          0.5296685809943654,
          0.5837129434177997,
          0.6902571719799573,
          0.783154777941498,
          0.8985190093164104,
          1.1259072822603615,
          1.3241168512329393,
          1.5702039352006751,
          2.0550891636701447,
          2.477547602287332
         ],
         "yaxis": "y"
        },
        {
         "hovertemplate": "<b>Error model: 3-sigma interval</b><br>Hypothetical measurement: %{y:.02f} cm^3<br>Cancer type: Lung cancer (LXF A677)<br><extra></extra>",
         "legendgroup": "Error model",
         "line": {
          "color": "Black",
          "width": 1
         },
         "mode": "lines",
         "name": "Error model",
         "opacity": 0.3,
         "showlegend": false,
         "type": "scatter",
         "visible": false,
         "x": [
          0.0841766431505713,
          0.10456203742665926,
          0.12986826846584673,
          0.17977261056863345,
          0.22328754510587231,
          0.27733190752930653,
          0.3838761360914642,
          0.476773742053005,
          0.5921379734279173,
          0.8195262463718683,
          1.0177358153444462,
          1.263822899312182,
          1.7487081277816519,
          2.171166566398839
         ],
         "xaxis": "x",
         "y": [
          -0.22220439273792178,
          -0.20181899846183382,
          -0.17651276742264635,
          -0.12660842531985964,
          -0.08309349078262077,
          -0.02904912835918655,
          0.07749510020297112,
          0.1703927061645119,
          0.2857569375394242,
          0.5131452104833752,
          0.7113547794559532,
          0.957441863423689,
          1.4423270918931588,
          1.8647855305103458
         ],
         "yaxis": "y"
        },
        {
         "hovertemplate": "<b>ID: 140</b><br>Structural model: %{x:.02f} cm^3<br>Residual: %{y:.02f} cm^3<br>Cancer type: Lung cancer (LXF A677)<br><extra></extra>",
         "legendgroup": "Measurement",
         "marker": {
          "color": "#FFA15A",
          "line": {
           "color": "black",
           "width": 1
          },
          "opacity": 0.7,
          "symbol": "circle"
         },
         "mode": "markers",
         "name": "Measurement",
         "showlegend": false,
         "type": "scatter",
         "visible": false,
         "x": [
          0.0841766431505713,
          0.10456203742665926,
          0.12986826846584673,
          0.17977261056863345,
          0.22328754510587231,
          0.27733190752930653,
          0.3838761360914642,
          0.476773742053005,
          0.5921379734279173,
          0.8195262463718683,
          1.0177358153444462,
          1.263822899312182,
          1.7487081277816519,
          2.171166566398839
         ],
         "xaxis": "x2",
         "y": [
          -0.004846143150571303,
          0.02228996257334076,
          0.016203731534153276,
          0.08134838943136655,
          0.12245645489412774,
          0.07786809247069348,
          0.035173863908535774,
          0.0035242579469949575,
          -0.035469973427917245,
          -0.010534246371868394,
          -0.16043181534444617,
          -0.1661478993121821,
          0.24343587221834806,
          -0.04858456639883846
         ],
         "yaxis": "y2"
        },
        {
         "hovertemplate": "<b>Error model: Mean</b><br>Hypothetical residual: %{y:.02f} cm^3<br>Cancer type: Lung cancer (LXF A677)<br><extra></extra>",
         "legendgroup": "Error model",
         "line": {
          "color": "#FFA15A"
         },
         "mode": "lines",
         "name": "Error model",
         "opacity": 0.7,
         "showlegend": false,
         "type": "scatter",
         "visible": false,
         "x": [
          0.0841766431505713,
          0.10456203742665926,
          0.12986826846584673,
          0.17977261056863345,
          0.22328754510587231,
          0.27733190752930653,
          0.3838761360914642,
          0.476773742053005,
          0.5921379734279173,
          0.8195262463718683,
          1.0177358153444462,
          1.263822899312182,
          1.7487081277816519,
          2.171166566398839
         ],
         "xaxis": "x2",
         "y": [
          0,
          0,
          0,
          0,
          0,
          0,
          0,
          0,
          0,
          0,
          0,
          0,
          0,
          0
         ],
         "yaxis": "y2"
        },
        {
         "hovertemplate": "<b>Error model: 1-sigma interval</b><br>Hypothetical residual: %{y:.02f} cm^3<br>Cancer type: Lung cancer (LXF A677)<br><extra></extra>",
         "legendgroup": "Error model",
         "line": {
          "color": "Black"
         },
         "mode": "lines",
         "name": "Error model",
         "opacity": 0.7,
         "showlegend": false,
         "type": "scatter",
         "visible": false,
         "x": [
          0.0841766431505713,
          0.10456203742665926,
          0.12986826846584673,
          0.17977261056863345,
          0.22328754510587231,
          0.27733190752930653,
          0.3838761360914642,
          0.476773742053005,
          0.5921379734279173,
          0.8195262463718683,
          1.0177358153444462,
          1.263822899312182,
          1.7487081277816519,
          2.171166566398839
         ],
         "xaxis": "x2",
         "y": [
          0.10212701196283103,
          0.10212701196283103,
          0.10212701196283103,
          0.10212701196283103,
          0.10212701196283103,
          0.10212701196283103,
          0.10212701196283103,
          0.10212701196283103,
          0.10212701196283103,
          0.10212701196283103,
          0.10212701196283103,
          0.10212701196283103,
          0.10212701196283103,
          0.10212701196283103
         ],
         "yaxis": "y2"
        },
        {
         "hovertemplate": "<b>Error model: 1-sigma interval</b><br>Hypothetical measurement: %{y:.02f} cm^3<br>Cancer type: Lung cancer (LXF A677)<br><extra></extra>",
         "legendgroup": "Error model",
         "line": {
          "color": "Black"
         },
         "mode": "lines",
         "name": "Error model",
         "opacity": 0.7,
         "showlegend": false,
         "type": "scatter",
         "visible": false,
         "x": [
          0.0841766431505713,
          0.10456203742665926,
          0.12986826846584673,
          0.17977261056863345,
          0.22328754510587231,
          0.27733190752930653,
          0.3838761360914642,
          0.476773742053005,
          0.5921379734279173,
          0.8195262463718683,
          1.0177358153444462,
          1.263822899312182,
          1.7487081277816519,
          2.171166566398839
         ],
         "xaxis": "x2",
         "y": [
          -0.10212701196283103,
          -0.10212701196283103,
          -0.10212701196283103,
          -0.10212701196283103,
          -0.10212701196283103,
          -0.10212701196283103,
          -0.10212701196283103,
          -0.10212701196283103,
          -0.10212701196283103,
          -0.10212701196283103,
          -0.10212701196283103,
          -0.10212701196283103,
          -0.10212701196283103,
          -0.10212701196283103
         ],
         "yaxis": "y2"
        },
        {
         "hovertemplate": "<b>Error model: 2-sigma interval</b><br>Hypothetical residual: %{y:.02f} cm^3<br>Cancer type: Lung cancer (LXF A677)<br><extra></extra>",
         "legendgroup": "Error model",
         "line": {
          "color": "Black"
         },
         "mode": "lines",
         "name": "Error model",
         "opacity": 0.5,
         "showlegend": false,
         "type": "scatter",
         "visible": false,
         "x": [
          0.0841766431505713,
          0.10456203742665926,
          0.12986826846584673,
          0.17977261056863345,
          0.22328754510587231,
          0.27733190752930653,
          0.3838761360914642,
          0.476773742053005,
          0.5921379734279173,
          0.8195262463718683,
          1.0177358153444462,
          1.263822899312182,
          1.7487081277816519,
          2.171166566398839
         ],
         "xaxis": "x2",
         "y": [
          0.20425402392566205,
          0.20425402392566205,
          0.20425402392566205,
          0.20425402392566205,
          0.20425402392566205,
          0.20425402392566205,
          0.20425402392566205,
          0.20425402392566205,
          0.20425402392566205,
          0.20425402392566205,
          0.20425402392566205,
          0.20425402392566205,
          0.20425402392566205,
          0.20425402392566205
         ],
         "yaxis": "y2"
        },
        {
         "hovertemplate": "<b>Error model: 2-sigma interval</b><br>Hypothetical measurement: %{y:.02f} cm^3<br>Cancer type: Lung cancer (LXF A677)<br><extra></extra>",
         "legendgroup": "Error model",
         "line": {
          "color": "Black"
         },
         "mode": "lines",
         "name": "Error model",
         "opacity": 0.5,
         "showlegend": false,
         "type": "scatter",
         "visible": false,
         "x": [
          0.0841766431505713,
          0.10456203742665926,
          0.12986826846584673,
          0.17977261056863345,
          0.22328754510587231,
          0.27733190752930653,
          0.3838761360914642,
          0.476773742053005,
          0.5921379734279173,
          0.8195262463718683,
          1.0177358153444462,
          1.263822899312182,
          1.7487081277816519,
          2.171166566398839
         ],
         "xaxis": "x2",
         "y": [
          -0.20425402392566205,
          -0.20425402392566205,
          -0.20425402392566205,
          -0.20425402392566205,
          -0.20425402392566205,
          -0.20425402392566205,
          -0.20425402392566205,
          -0.20425402392566205,
          -0.20425402392566205,
          -0.20425402392566205,
          -0.20425402392566205,
          -0.20425402392566205,
          -0.20425402392566205,
          -0.20425402392566205
         ],
         "yaxis": "y2"
        },
        {
         "hovertemplate": "<b>Error model: 3-sigma interval</b><br>Hypothetical residual: %{y:.02f} cm^3<br>Cancer type: Lung cancer (LXF A677)<br><extra></extra>",
         "legendgroup": "Error model",
         "line": {
          "color": "Black"
         },
         "mode": "lines",
         "name": "Error model",
         "opacity": 0.3,
         "showlegend": false,
         "type": "scatter",
         "visible": false,
         "x": [
          0.0841766431505713,
          0.10456203742665926,
          0.12986826846584673,
          0.17977261056863345,
          0.22328754510587231,
          0.27733190752930653,
          0.3838761360914642,
          0.476773742053005,
          0.5921379734279173,
          0.8195262463718683,
          1.0177358153444462,
          1.263822899312182,
          1.7487081277816519,
          2.171166566398839
         ],
         "xaxis": "x2",
         "y": [
          0.3063810358884931,
          0.3063810358884931,
          0.3063810358884931,
          0.3063810358884931,
          0.3063810358884931,
          0.3063810358884931,
          0.3063810358884931,
          0.3063810358884931,
          0.3063810358884931,
          0.3063810358884931,
          0.3063810358884931,
          0.3063810358884931,
          0.3063810358884931,
          0.3063810358884931
         ],
         "yaxis": "y2"
        },
        {
         "hovertemplate": "<b>Error model: 3-sigma interval</b><br>Hypothetical measurement: %{y:.02f} cm^3<br>Cancer type: Lung cancer (LXF A677)<br><extra></extra>",
         "legendgroup": "Error model",
         "line": {
          "color": "Black"
         },
         "mode": "lines",
         "name": "Error model",
         "opacity": 0.3,
         "showlegend": false,
         "type": "scatter",
         "visible": false,
         "x": [
          0.0841766431505713,
          0.10456203742665926,
          0.12986826846584673,
          0.17977261056863345,
          0.22328754510587231,
          0.27733190752930653,
          0.3838761360914642,
          0.476773742053005,
          0.5921379734279173,
          0.8195262463718683,
          1.0177358153444462,
          1.263822899312182,
          1.7487081277816519,
          2.171166566398839
         ],
         "xaxis": "x2",
         "y": [
          -0.3063810358884931,
          -0.3063810358884931,
          -0.3063810358884931,
          -0.3063810358884931,
          -0.3063810358884931,
          -0.3063810358884931,
          -0.3063810358884931,
          -0.3063810358884931,
          -0.3063810358884931,
          -0.3063810358884931,
          -0.3063810358884931,
          -0.3063810358884931,
          -0.3063810358884931,
          -0.3063810358884931
         ],
         "yaxis": "y2"
        },
        {
         "hovertemplate": "<b>ID: 155</b><br>Structural model: %{x:.02f} cm^3<br>Measurement: %{y:.02f} cm^3<br>Cancer type: Lung cancer (LXF A677)<br><extra></extra>",
         "legendgroup": "Measurement",
         "marker": {
          "color": "#19D3F3",
          "line": {
           "color": "black",
           "width": 1
          },
          "opacity": 0.7,
          "symbol": "circle"
         },
         "mode": "markers",
         "name": "Measurement",
         "showlegend": true,
         "type": "scatter",
         "visible": false,
         "x": [
          0.13327406616671608,
          0.21667954848581863,
          0.32345796850613256,
          0.5190055525409336,
          0.6671599849022665,
          0.8257349273210978,
          1.078162316498397,
          1.2538797532271277,
          1.4341393884094906,
          1.7113012111782537,
          1.8997114321674053,
          2.090510337843381
         ],
         "xaxis": "x",
         "y": [
          0.105875,
          0.167706,
          0.35632800000000003,
          0.6489600000000001,
          0.692224,
          0.7300800000000001,
          0.81648,
          1.4949540000000001,
          1.5166985,
          1.72405,
          1.637784,
          2.25108
         ],
         "yaxis": "y"
        },
        {
         "hovertemplate": "<b>Error model: Mean</b><br>Hypothetical measurement: %{y:.02f} cm^3<br>Cancer type: Lung cancer (LXF A677)<br><extra></extra>",
         "legendgroup": "Error model",
         "line": {
          "color": "#19D3F3"
         },
         "mode": "lines",
         "name": "Error model",
         "opacity": 0.7,
         "showlegend": true,
         "type": "scatter",
         "visible": false,
         "x": [
          0.13327406616671608,
          0.21667954848581863,
          0.32345796850613256,
          0.5190055525409336,
          0.6671599849022665,
          0.8257349273210978,
          1.078162316498397,
          1.2538797532271277,
          1.4341393884094906,
          1.7113012111782537,
          1.8997114321674053,
          2.090510337843381
         ],
         "xaxis": "x",
         "y": [
          0.13327406616671608,
          0.21667954848581863,
          0.32345796850613256,
          0.5190055525409336,
          0.6671599849022665,
          0.8257349273210978,
          1.078162316498397,
          1.2538797532271277,
          1.4341393884094906,
          1.7113012111782537,
          1.8997114321674053,
          2.090510337843381
         ],
         "yaxis": "y"
        },
        {
         "hovertemplate": "<b>Error model: 1-sigma interval</b><br>Hypothetical measurement: %{y:.02f} cm^3<br>Cancer type: Lung cancer (LXF A677)<br><extra></extra>",
         "legendgroup": "Error model",
         "line": {
          "color": "Black"
         },
         "mode": "lines",
         "name": "Error model",
         "opacity": 0.7,
         "showlegend": false,
         "type": "scatter",
         "visible": false,
         "x": [
          0.13327406616671608,
          0.21667954848581863,
          0.32345796850613256,
          0.5190055525409336,
          0.6671599849022665,
          0.8257349273210978,
          1.078162316498397,
          1.2538797532271277,
          1.4341393884094906,
          1.7113012111782537,
          1.8997114321674053,
          2.090510337843381
         ],
         "xaxis": "x",
         "y": [
          0.2801170368247785,
          0.3635225191438811,
          0.470300939164195,
          0.6658485231989961,
          0.814002955560329,
          0.9725778979791602,
          1.2250052871564596,
          1.4007227238851903,
          1.5809823590675531,
          1.8581441818363162,
          2.0465544028254676,
          2.237353308501443
         ],
         "yaxis": "y"
        },
        {
         "hovertemplate": "<b>Error model: 1-sigma interval</b><br>Hypothetical measurement: %{y:.02f} cm^3<br>Cancer type: Lung cancer (LXF A677)<br><extra></extra>",
         "legendgroup": "Error model",
         "line": {
          "color": "Black"
         },
         "mode": "lines",
         "name": "Error model",
         "opacity": 0.7,
         "showlegend": false,
         "type": "scatter",
         "visible": false,
         "x": [
          0.13327406616671608,
          0.21667954848581863,
          0.32345796850613256,
          0.5190055525409336,
          0.6671599849022665,
          0.8257349273210978,
          1.078162316498397,
          1.2538797532271277,
          1.4341393884094906,
          1.7113012111782537,
          1.8997114321674053,
          2.090510337843381
         ],
         "xaxis": "x",
         "y": [
          -0.013568904491346373,
          0.06983657782775618,
          0.1766149978480701,
          0.37216258188287116,
          0.520317014244204,
          0.6788919566630354,
          0.9313193458403346,
          1.1070367825690652,
          1.2872964177514281,
          1.5644582405201912,
          1.7528684615093428,
          1.9436673671853184
         ],
         "yaxis": "y"
        },
        {
         "hovertemplate": "<b>Error model: 2-sigma interval</b><br>Hypothetical measurement: %{y:.02f} cm^3<br>Cancer type: Lung cancer (LXF A677)<br><extra></extra>",
         "legendgroup": "Error model",
         "line": {
          "color": "Black",
          "width": 1.5
         },
         "mode": "lines",
         "name": "Error model",
         "opacity": 0.5,
         "showlegend": false,
         "type": "scatter",
         "visible": false,
         "x": [
          0.13327406616671608,
          0.21667954848581863,
          0.32345796850613256,
          0.5190055525409336,
          0.6671599849022665,
          0.8257349273210978,
          1.078162316498397,
          1.2538797532271277,
          1.4341393884094906,
          1.7113012111782537,
          1.8997114321674053,
          2.090510337843381
         ],
         "xaxis": "x",
         "y": [
          0.426960007482841,
          0.5103654898019435,
          0.6171439098222575,
          0.8126914938570585,
          0.9608459262183914,
          1.1194208686372227,
          1.3718482578145221,
          1.5475656945432528,
          1.7278253297256154,
          2.0049871524943788,
          2.1933973734835304,
          2.384196279159506
         ],
         "yaxis": "y"
        },
        {
         "hovertemplate": "<b>Error model: 2-sigma interval</b><br>Hypothetical measurement: %{y:.02f} cm^3<br>Cancer type: Lung cancer (LXF A677)<br><extra></extra>",
         "legendgroup": "Error model",
         "line": {
          "color": "Black",
          "width": 1.5
         },
         "mode": "lines",
         "name": "Error model",
         "opacity": 0.5,
         "showlegend": false,
         "type": "scatter",
         "visible": false,
         "x": [
          0.13327406616671608,
          0.21667954848581863,
          0.32345796850613256,
          0.5190055525409336,
          0.6671599849022665,
          0.8257349273210978,
          1.078162316498397,
          1.2538797532271277,
          1.4341393884094906,
          1.7113012111782537,
          1.8997114321674053,
          2.090510337843381
         ],
         "xaxis": "x",
         "y": [
          -0.16041187514940883,
          -0.07700639283030628,
          0.029772027190007655,
          0.2253196112248087,
          0.37347404358614156,
          0.5320489860049729,
          0.7844763751822722,
          0.9601938119110028,
          1.1404534470933658,
          1.4176152698621287,
          1.6060254908512803,
          1.796824396527256
         ],
         "yaxis": "y"
        },
        {
         "hovertemplate": "<b>Error model: 3-sigma interval</b><br>Hypothetical measurement: %{y:.02f} cm^3<br>Cancer type: Lung cancer (LXF A677)<br><extra></extra>",
         "legendgroup": "Error model",
         "line": {
          "color": "Black",
          "width": 1
         },
         "mode": "lines",
         "name": "Error model",
         "opacity": 0.3,
         "showlegend": false,
         "type": "scatter",
         "visible": false,
         "x": [
          0.13327406616671608,
          0.21667954848581863,
          0.32345796850613256,
          0.5190055525409336,
          0.6671599849022665,
          0.8257349273210978,
          1.078162316498397,
          1.2538797532271277,
          1.4341393884094906,
          1.7113012111782537,
          1.8997114321674053,
          2.090510337843381
         ],
         "xaxis": "x",
         "y": [
          0.5738029781409034,
          0.657208460460006,
          0.7639868804803199,
          0.9595344645151209,
          1.1076888968764538,
          1.2662638392952852,
          1.5186912284725844,
          1.694408665201315,
          1.874668300383678,
          2.151830123152441,
          2.3402403441415927,
          2.5310392498175682
         ],
         "yaxis": "y"
        },
        {
         "hovertemplate": "<b>Error model: 3-sigma interval</b><br>Hypothetical measurement: %{y:.02f} cm^3<br>Cancer type: Lung cancer (LXF A677)<br><extra></extra>",
         "legendgroup": "Error model",
         "line": {
          "color": "Black",
          "width": 1
         },
         "mode": "lines",
         "name": "Error model",
         "opacity": 0.3,
         "showlegend": false,
         "type": "scatter",
         "visible": false,
         "x": [
          0.13327406616671608,
          0.21667954848581863,
          0.32345796850613256,
          0.5190055525409336,
          0.6671599849022665,
          0.8257349273210978,
          1.078162316498397,
          1.2538797532271277,
          1.4341393884094906,
          1.7113012111782537,
          1.8997114321674053,
          2.090510337843381
         ],
         "xaxis": "x",
         "y": [
          -0.3072548458074713,
          -0.22384936348836873,
          -0.1170709434680548,
          0.07847664056674625,
          0.2266310729280791,
          0.3852060153469104,
          0.6376334045242098,
          0.8133508412529404,
          0.9936104764353033,
          1.2707722992040664,
          1.459182520193218,
          1.6499814258691936
         ],
         "yaxis": "y"
        },
        {
         "hovertemplate": "<b>ID: 155</b><br>Structural model: %{x:.02f} cm^3<br>Residual: %{y:.02f} cm^3<br>Cancer type: Lung cancer (LXF A677)<br><extra></extra>",
         "legendgroup": "Measurement",
         "marker": {
          "color": "#19D3F3",
          "line": {
           "color": "black",
           "width": 1
          },
          "opacity": 0.7,
          "symbol": "circle"
         },
         "mode": "markers",
         "name": "Measurement",
         "showlegend": false,
         "type": "scatter",
         "visible": false,
         "x": [
          0.13327406616671608,
          0.21667954848581863,
          0.32345796850613256,
          0.5190055525409336,
          0.6671599849022665,
          0.8257349273210978,
          1.078162316498397,
          1.2538797532271277,
          1.4341393884094906,
          1.7113012111782537,
          1.8997114321674053,
          2.090510337843381
         ],
         "xaxis": "x2",
         "y": [
          -0.027399066166716085,
          -0.04897354848581864,
          0.03287003149386747,
          0.12995444745906648,
          0.025064015097733483,
          -0.0956549273210977,
          -0.2616823164983971,
          0.24107424677287237,
          0.08255911159050933,
          0.012748788821746349,
          -0.26192743216740544,
          0.16056966215661905
         ],
         "yaxis": "y2"
        },
        {
         "hovertemplate": "<b>Error model: Mean</b><br>Hypothetical residual: %{y:.02f} cm^3<br>Cancer type: Lung cancer (LXF A677)<br><extra></extra>",
         "legendgroup": "Error model",
         "line": {
          "color": "#19D3F3"
         },
         "mode": "lines",
         "name": "Error model",
         "opacity": 0.7,
         "showlegend": false,
         "type": "scatter",
         "visible": false,
         "x": [
          0.13327406616671608,
          0.21667954848581863,
          0.32345796850613256,
          0.5190055525409336,
          0.6671599849022665,
          0.8257349273210978,
          1.078162316498397,
          1.2538797532271277,
          1.4341393884094906,
          1.7113012111782537,
          1.8997114321674053,
          2.090510337843381
         ],
         "xaxis": "x2",
         "y": [
          0,
          0,
          0,
          0,
          0,
          0,
          0,
          0,
          0,
          0,
          0,
          0
         ],
         "yaxis": "y2"
        },
        {
         "hovertemplate": "<b>Error model: 1-sigma interval</b><br>Hypothetical residual: %{y:.02f} cm^3<br>Cancer type: Lung cancer (LXF A677)<br><extra></extra>",
         "legendgroup": "Error model",
         "line": {
          "color": "Black"
         },
         "mode": "lines",
         "name": "Error model",
         "opacity": 0.7,
         "showlegend": false,
         "type": "scatter",
         "visible": false,
         "x": [
          0.13327406616671608,
          0.21667954848581863,
          0.32345796850613256,
          0.5190055525409336,
          0.6671599849022665,
          0.8257349273210978,
          1.078162316498397,
          1.2538797532271277,
          1.4341393884094906,
          1.7113012111782537,
          1.8997114321674053,
          2.090510337843381
         ],
         "xaxis": "x2",
         "y": [
          0.14684297065806245,
          0.14684297065806245,
          0.14684297065806245,
          0.14684297065806245,
          0.14684297065806245,
          0.14684297065806245,
          0.14684297065806245,
          0.14684297065806245,
          0.14684297065806245,
          0.14684297065806245,
          0.14684297065806245,
          0.14684297065806245
         ],
         "yaxis": "y2"
        },
        {
         "hovertemplate": "<b>Error model: 1-sigma interval</b><br>Hypothetical measurement: %{y:.02f} cm^3<br>Cancer type: Lung cancer (LXF A677)<br><extra></extra>",
         "legendgroup": "Error model",
         "line": {
          "color": "Black"
         },
         "mode": "lines",
         "name": "Error model",
         "opacity": 0.7,
         "showlegend": false,
         "type": "scatter",
         "visible": false,
         "x": [
          0.13327406616671608,
          0.21667954848581863,
          0.32345796850613256,
          0.5190055525409336,
          0.6671599849022665,
          0.8257349273210978,
          1.078162316498397,
          1.2538797532271277,
          1.4341393884094906,
          1.7113012111782537,
          1.8997114321674053,
          2.090510337843381
         ],
         "xaxis": "x2",
         "y": [
          -0.14684297065806245,
          -0.14684297065806245,
          -0.14684297065806245,
          -0.14684297065806245,
          -0.14684297065806245,
          -0.14684297065806245,
          -0.14684297065806245,
          -0.14684297065806245,
          -0.14684297065806245,
          -0.14684297065806245,
          -0.14684297065806245,
          -0.14684297065806245
         ],
         "yaxis": "y2"
        },
        {
         "hovertemplate": "<b>Error model: 2-sigma interval</b><br>Hypothetical residual: %{y:.02f} cm^3<br>Cancer type: Lung cancer (LXF A677)<br><extra></extra>",
         "legendgroup": "Error model",
         "line": {
          "color": "Black"
         },
         "mode": "lines",
         "name": "Error model",
         "opacity": 0.5,
         "showlegend": false,
         "type": "scatter",
         "visible": false,
         "x": [
          0.13327406616671608,
          0.21667954848581863,
          0.32345796850613256,
          0.5190055525409336,
          0.6671599849022665,
          0.8257349273210978,
          1.078162316498397,
          1.2538797532271277,
          1.4341393884094906,
          1.7113012111782537,
          1.8997114321674053,
          2.090510337843381
         ],
         "xaxis": "x2",
         "y": [
          0.2936859413161249,
          0.2936859413161249,
          0.2936859413161249,
          0.2936859413161249,
          0.2936859413161249,
          0.2936859413161249,
          0.2936859413161249,
          0.2936859413161249,
          0.2936859413161249,
          0.2936859413161249,
          0.2936859413161249,
          0.2936859413161249
         ],
         "yaxis": "y2"
        },
        {
         "hovertemplate": "<b>Error model: 2-sigma interval</b><br>Hypothetical measurement: %{y:.02f} cm^3<br>Cancer type: Lung cancer (LXF A677)<br><extra></extra>",
         "legendgroup": "Error model",
         "line": {
          "color": "Black"
         },
         "mode": "lines",
         "name": "Error model",
         "opacity": 0.5,
         "showlegend": false,
         "type": "scatter",
         "visible": false,
         "x": [
          0.13327406616671608,
          0.21667954848581863,
          0.32345796850613256,
          0.5190055525409336,
          0.6671599849022665,
          0.8257349273210978,
          1.078162316498397,
          1.2538797532271277,
          1.4341393884094906,
          1.7113012111782537,
          1.8997114321674053,
          2.090510337843381
         ],
         "xaxis": "x2",
         "y": [
          -0.2936859413161249,
          -0.2936859413161249,
          -0.2936859413161249,
          -0.2936859413161249,
          -0.2936859413161249,
          -0.2936859413161249,
          -0.2936859413161249,
          -0.2936859413161249,
          -0.2936859413161249,
          -0.2936859413161249,
          -0.2936859413161249,
          -0.2936859413161249
         ],
         "yaxis": "y2"
        },
        {
         "hovertemplate": "<b>Error model: 3-sigma interval</b><br>Hypothetical residual: %{y:.02f} cm^3<br>Cancer type: Lung cancer (LXF A677)<br><extra></extra>",
         "legendgroup": "Error model",
         "line": {
          "color": "Black"
         },
         "mode": "lines",
         "name": "Error model",
         "opacity": 0.3,
         "showlegend": false,
         "type": "scatter",
         "visible": false,
         "x": [
          0.13327406616671608,
          0.21667954848581863,
          0.32345796850613256,
          0.5190055525409336,
          0.6671599849022665,
          0.8257349273210978,
          1.078162316498397,
          1.2538797532271277,
          1.4341393884094906,
          1.7113012111782537,
          1.8997114321674053,
          2.090510337843381
         ],
         "xaxis": "x2",
         "y": [
          0.44052891197418736,
          0.44052891197418736,
          0.44052891197418736,
          0.44052891197418736,
          0.44052891197418736,
          0.44052891197418736,
          0.44052891197418736,
          0.44052891197418736,
          0.44052891197418736,
          0.44052891197418736,
          0.44052891197418736,
          0.44052891197418736
         ],
         "yaxis": "y2"
        },
        {
         "hovertemplate": "<b>Error model: 3-sigma interval</b><br>Hypothetical measurement: %{y:.02f} cm^3<br>Cancer type: Lung cancer (LXF A677)<br><extra></extra>",
         "legendgroup": "Error model",
         "line": {
          "color": "Black"
         },
         "mode": "lines",
         "name": "Error model",
         "opacity": 0.3,
         "showlegend": false,
         "type": "scatter",
         "visible": false,
         "x": [
          0.13327406616671608,
          0.21667954848581863,
          0.32345796850613256,
          0.5190055525409336,
          0.6671599849022665,
          0.8257349273210978,
          1.078162316498397,
          1.2538797532271277,
          1.4341393884094906,
          1.7113012111782537,
          1.8997114321674053,
          2.090510337843381
         ],
         "xaxis": "x2",
         "y": [
          -0.44052891197418736,
          -0.44052891197418736,
          -0.44052891197418736,
          -0.44052891197418736,
          -0.44052891197418736,
          -0.44052891197418736,
          -0.44052891197418736,
          -0.44052891197418736,
          -0.44052891197418736,
          -0.44052891197418736,
          -0.44052891197418736,
          -0.44052891197418736
         ],
         "yaxis": "y2"
        },
        {
         "hovertemplate": "<b>ID: 169</b><br>Structural model: %{x:.02f} cm^3<br>Measurement: %{y:.02f} cm^3<br>Cancer type: Lung cancer (LXF A677)<br><extra></extra>",
         "legendgroup": "Measurement",
         "marker": {
          "color": "#FF6692",
          "line": {
           "color": "black",
           "width": 1
          },
          "opacity": 0.7,
          "symbol": "circle"
         },
         "mode": "markers",
         "name": "Measurement",
         "showlegend": true,
         "type": "scatter",
         "visible": false,
         "x": [
          0.12380946813262461,
          0.14368245360440998,
          0.16621612866326155,
          0.20548239808833932,
          0.2355750244365649,
          0.26899867863809496,
          0.32567810267896924,
          0.36796685043047,
          0.4139721483571292,
          0.4899627284431305,
          0.5452472383368052,
          0.6041731622601781,
          0.6992152097753618,
          0.7668568993471954
         ],
         "xaxis": "x",
         "y": [
          0.123008,
          0.128774,
          0.1764,
          0.20516650000000006,
          0.24605349999999998,
          0.2788425,
          0.333036,
          0.35644499999999996,
          0.39285,
          0.479859,
          0.5390550000000001,
          0.6354195,
          0.7146180000000001,
          0.7469865
         ],
         "yaxis": "y"
        },
        {
         "hovertemplate": "<b>Error model: Mean</b><br>Hypothetical measurement: %{y:.02f} cm^3<br>Cancer type: Lung cancer (LXF A677)<br><extra></extra>",
         "legendgroup": "Error model",
         "line": {
          "color": "#FF6692"
         },
         "mode": "lines",
         "name": "Error model",
         "opacity": 0.7,
         "showlegend": true,
         "type": "scatter",
         "visible": false,
         "x": [
          0.12380946813262461,
          0.14368245360440998,
          0.16621612866326155,
          0.20548239808833932,
          0.2355750244365649,
          0.26899867863809496,
          0.32567810267896924,
          0.36796685043047,
          0.4139721483571292,
          0.4899627284431305,
          0.5452472383368052,
          0.6041731622601781,
          0.6992152097753618,
          0.7668568993471954
         ],
         "xaxis": "x",
         "y": [
          0.12380946813262461,
          0.14368245360440998,
          0.16621612866326155,
          0.20548239808833932,
          0.2355750244365649,
          0.26899867863809496,
          0.32567810267896924,
          0.36796685043047,
          0.4139721483571292,
          0.4899627284431305,
          0.5452472383368052,
          0.6041731622601781,
          0.6992152097753618,
          0.7668568993471954
         ],
         "yaxis": "y"
        },
        {
         "hovertemplate": "<b>Error model: 1-sigma interval</b><br>Hypothetical measurement: %{y:.02f} cm^3<br>Cancer type: Lung cancer (LXF A677)<br><extra></extra>",
         "legendgroup": "Error model",
         "line": {
          "color": "Black"
         },
         "mode": "lines",
         "name": "Error model",
         "opacity": 0.7,
         "showlegend": false,
         "type": "scatter",
         "visible": false,
         "x": [
          0.12380946813262461,
          0.14368245360440998,
          0.16621612866326155,
          0.20548239808833932,
          0.2355750244365649,
          0.26899867863809496,
          0.32567810267896924,
          0.36796685043047,
          0.4139721483571292,
          0.4899627284431305,
          0.5452472383368052,
          0.6041731622601781,
          0.6992152097753618,
          0.7668568993471954
         ],
         "xaxis": "x",
         "y": [
          0.13824071334988083,
          0.1581136988216662,
          0.18064737388051777,
          0.21991364330559554,
          0.2500062696538211,
          0.28342992385535115,
          0.34010934789622543,
          0.3823980956477262,
          0.4284033935743854,
          0.5043939736603867,
          0.5596784835540615,
          0.6186044074774344,
          0.713646454992618,
          0.7812881445644516
         ],
         "yaxis": "y"
        },
        {
         "hovertemplate": "<b>Error model: 1-sigma interval</b><br>Hypothetical measurement: %{y:.02f} cm^3<br>Cancer type: Lung cancer (LXF A677)<br><extra></extra>",
         "legendgroup": "Error model",
         "line": {
          "color": "Black"
         },
         "mode": "lines",
         "name": "Error model",
         "opacity": 0.7,
         "showlegend": false,
         "type": "scatter",
         "visible": false,
         "x": [
          0.12380946813262461,
          0.14368245360440998,
          0.16621612866326155,
          0.20548239808833932,
          0.2355750244365649,
          0.26899867863809496,
          0.32567810267896924,
          0.36796685043047,
          0.4139721483571292,
          0.4899627284431305,
          0.5452472383368052,
          0.6041731622601781,
          0.6992152097753618,
          0.7668568993471954
         ],
         "xaxis": "x",
         "y": [
          0.1093782229153684,
          0.12925120838715376,
          0.15178488344600533,
          0.1910511528710831,
          0.22114377921930867,
          0.25456743342083876,
          0.31124685746171304,
          0.3535356052132138,
          0.399540903139873,
          0.4755314832258743,
          0.530815993119549,
          0.5897419170429219,
          0.6847839645581055,
          0.7524256541299391
         ],
         "yaxis": "y"
        },
        {
         "hovertemplate": "<b>Error model: 2-sigma interval</b><br>Hypothetical measurement: %{y:.02f} cm^3<br>Cancer type: Lung cancer (LXF A677)<br><extra></extra>",
         "legendgroup": "Error model",
         "line": {
          "color": "Black",
          "width": 1.5
         },
         "mode": "lines",
         "name": "Error model",
         "opacity": 0.5,
         "showlegend": false,
         "type": "scatter",
         "visible": false,
         "x": [
          0.12380946813262461,
          0.14368245360440998,
          0.16621612866326155,
          0.20548239808833932,
          0.2355750244365649,
          0.26899867863809496,
          0.32567810267896924,
          0.36796685043047,
          0.4139721483571292,
          0.4899627284431305,
          0.5452472383368052,
          0.6041731622601781,
          0.6992152097753618,
          0.7668568993471954
         ],
         "xaxis": "x",
         "y": [
          0.15267195856713703,
          0.1725449440389224,
          0.19507861909777396,
          0.23434488852285174,
          0.2644375148710773,
          0.2978611690726074,
          0.3545405931134817,
          0.39682934086498245,
          0.44283463879164164,
          0.5188252188776429,
          0.5741097287713176,
          0.6330356526946905,
          0.7280777002098742,
          0.7957193897817078
         ],
         "yaxis": "y"
        },
        {
         "hovertemplate": "<b>Error model: 2-sigma interval</b><br>Hypothetical measurement: %{y:.02f} cm^3<br>Cancer type: Lung cancer (LXF A677)<br><extra></extra>",
         "legendgroup": "Error model",
         "line": {
          "color": "Black",
          "width": 1.5
         },
         "mode": "lines",
         "name": "Error model",
         "opacity": 0.5,
         "showlegend": false,
         "type": "scatter",
         "visible": false,
         "x": [
          0.12380946813262461,
          0.14368245360440998,
          0.16621612866326155,
          0.20548239808833932,
          0.2355750244365649,
          0.26899867863809496,
          0.32567810267896924,
          0.36796685043047,
          0.4139721483571292,
          0.4899627284431305,
          0.5452472383368052,
          0.6041731622601781,
          0.6992152097753618,
          0.7668568993471954
         ],
         "xaxis": "x",
         "y": [
          0.09494697769811218,
          0.11481996316989755,
          0.13735363822874913,
          0.1766199076538269,
          0.20671253400205247,
          0.24013618820358254,
          0.2968156122444568,
          0.33910435999595756,
          0.38510965792261675,
          0.46110023800861805,
          0.5163847479022928,
          0.5753106718256658,
          0.6703527193408494,
          0.737994408912683
         ],
         "yaxis": "y"
        },
        {
         "hovertemplate": "<b>Error model: 3-sigma interval</b><br>Hypothetical measurement: %{y:.02f} cm^3<br>Cancer type: Lung cancer (LXF A677)<br><extra></extra>",
         "legendgroup": "Error model",
         "line": {
          "color": "Black",
          "width": 1
         },
         "mode": "lines",
         "name": "Error model",
         "opacity": 0.3,
         "showlegend": false,
         "type": "scatter",
         "visible": false,
         "x": [
          0.12380946813262461,
          0.14368245360440998,
          0.16621612866326155,
          0.20548239808833932,
          0.2355750244365649,
          0.26899867863809496,
          0.32567810267896924,
          0.36796685043047,
          0.4139721483571292,
          0.4899627284431305,
          0.5452472383368052,
          0.6041731622601781,
          0.6992152097753618,
          0.7668568993471954
         ],
         "xaxis": "x",
         "y": [
          0.16710320378439325,
          0.18697618925617862,
          0.2095098643150302,
          0.24877613374010796,
          0.2788687600883335,
          0.3122924142898636,
          0.3689718383307379,
          0.41126058608223864,
          0.45726588400889784,
          0.5332564640948991,
          0.5885409739885739,
          0.6474668979119468,
          0.7425089454271304,
          0.810150634998964
         ],
         "yaxis": "y"
        },
        {
         "hovertemplate": "<b>Error model: 3-sigma interval</b><br>Hypothetical measurement: %{y:.02f} cm^3<br>Cancer type: Lung cancer (LXF A677)<br><extra></extra>",
         "legendgroup": "Error model",
         "line": {
          "color": "Black",
          "width": 1
         },
         "mode": "lines",
         "name": "Error model",
         "opacity": 0.3,
         "showlegend": false,
         "type": "scatter",
         "visible": false,
         "x": [
          0.12380946813262461,
          0.14368245360440998,
          0.16621612866326155,
          0.20548239808833932,
          0.2355750244365649,
          0.26899867863809496,
          0.32567810267896924,
          0.36796685043047,
          0.4139721483571292,
          0.4899627284431305,
          0.5452472383368052,
          0.6041731622601781,
          0.6992152097753618,
          0.7668568993471954
         ],
         "xaxis": "x",
         "y": [
          0.08051573248085597,
          0.10038871795264134,
          0.12292239301149291,
          0.16218866243657068,
          0.19228128878479625,
          0.22570494298632632,
          0.2823843670272006,
          0.32467311477870137,
          0.37067841270536056,
          0.44666899279136185,
          0.5019535026850366,
          0.5608794266084095,
          0.6559214741235931,
          0.7235631636954267
         ],
         "yaxis": "y"
        },
        {
         "hovertemplate": "<b>ID: 169</b><br>Structural model: %{x:.02f} cm^3<br>Residual: %{y:.02f} cm^3<br>Cancer type: Lung cancer (LXF A677)<br><extra></extra>",
         "legendgroup": "Measurement",
         "marker": {
          "color": "#FF6692",
          "line": {
           "color": "black",
           "width": 1
          },
          "opacity": 0.7,
          "symbol": "circle"
         },
         "mode": "markers",
         "name": "Measurement",
         "showlegend": false,
         "type": "scatter",
         "visible": false,
         "x": [
          0.12380946813262461,
          0.14368245360440998,
          0.16621612866326155,
          0.20548239808833932,
          0.2355750244365649,
          0.26899867863809496,
          0.32567810267896924,
          0.36796685043047,
          0.4139721483571292,
          0.4899627284431305,
          0.5452472383368052,
          0.6041731622601781,
          0.6992152097753618,
          0.7668568993471954
         ],
         "xaxis": "x2",
         "y": [
          -0.0008014681326246054,
          -0.014908453604409982,
          0.010183871336738454,
          -0.0003158980883392615,
          0.010478475563435091,
          0.009843821361905036,
          0.00735789732103076,
          -0.011521850430470049,
          -0.021122148357129222,
          -0.01010372844313051,
          -0.006192238336805156,
          0.031246337739821883,
          0.015402790224638307,
          -0.019870399347195367
         ],
         "yaxis": "y2"
        },
        {
         "hovertemplate": "<b>Error model: Mean</b><br>Hypothetical residual: %{y:.02f} cm^3<br>Cancer type: Lung cancer (LXF A677)<br><extra></extra>",
         "legendgroup": "Error model",
         "line": {
          "color": "#FF6692"
         },
         "mode": "lines",
         "name": "Error model",
         "opacity": 0.7,
         "showlegend": false,
         "type": "scatter",
         "visible": false,
         "x": [
          0.12380946813262461,
          0.14368245360440998,
          0.16621612866326155,
          0.20548239808833932,
          0.2355750244365649,
          0.26899867863809496,
          0.32567810267896924,
          0.36796685043047,
          0.4139721483571292,
          0.4899627284431305,
          0.5452472383368052,
          0.6041731622601781,
          0.6992152097753618,
          0.7668568993471954
         ],
         "xaxis": "x2",
         "y": [
          0,
          0,
          0,
          0,
          0,
          0,
          0,
          0,
          0,
          0,
          0,
          0,
          0,
          0
         ],
         "yaxis": "y2"
        },
        {
         "hovertemplate": "<b>Error model: 1-sigma interval</b><br>Hypothetical residual: %{y:.02f} cm^3<br>Cancer type: Lung cancer (LXF A677)<br><extra></extra>",
         "legendgroup": "Error model",
         "line": {
          "color": "Black"
         },
         "mode": "lines",
         "name": "Error model",
         "opacity": 0.7,
         "showlegend": false,
         "type": "scatter",
         "visible": false,
         "x": [
          0.12380946813262461,
          0.14368245360440998,
          0.16621612866326155,
          0.20548239808833932,
          0.2355750244365649,
          0.26899867863809496,
          0.32567810267896924,
          0.36796685043047,
          0.4139721483571292,
          0.4899627284431305,
          0.5452472383368052,
          0.6041731622601781,
          0.6992152097753618,
          0.7668568993471954
         ],
         "xaxis": "x2",
         "y": [
          0.014431245217256214,
          0.014431245217256214,
          0.014431245217256214,
          0.014431245217256214,
          0.014431245217256214,
          0.014431245217256214,
          0.014431245217256214,
          0.014431245217256214,
          0.014431245217256214,
          0.014431245217256214,
          0.014431245217256214,
          0.014431245217256214,
          0.014431245217256214,
          0.014431245217256214
         ],
         "yaxis": "y2"
        },
        {
         "hovertemplate": "<b>Error model: 1-sigma interval</b><br>Hypothetical measurement: %{y:.02f} cm^3<br>Cancer type: Lung cancer (LXF A677)<br><extra></extra>",
         "legendgroup": "Error model",
         "line": {
          "color": "Black"
         },
         "mode": "lines",
         "name": "Error model",
         "opacity": 0.7,
         "showlegend": false,
         "type": "scatter",
         "visible": false,
         "x": [
          0.12380946813262461,
          0.14368245360440998,
          0.16621612866326155,
          0.20548239808833932,
          0.2355750244365649,
          0.26899867863809496,
          0.32567810267896924,
          0.36796685043047,
          0.4139721483571292,
          0.4899627284431305,
          0.5452472383368052,
          0.6041731622601781,
          0.6992152097753618,
          0.7668568993471954
         ],
         "xaxis": "x2",
         "y": [
          -0.014431245217256214,
          -0.014431245217256214,
          -0.014431245217256214,
          -0.014431245217256214,
          -0.014431245217256214,
          -0.014431245217256214,
          -0.014431245217256214,
          -0.014431245217256214,
          -0.014431245217256214,
          -0.014431245217256214,
          -0.014431245217256214,
          -0.014431245217256214,
          -0.014431245217256214,
          -0.014431245217256214
         ],
         "yaxis": "y2"
        },
        {
         "hovertemplate": "<b>Error model: 2-sigma interval</b><br>Hypothetical residual: %{y:.02f} cm^3<br>Cancer type: Lung cancer (LXF A677)<br><extra></extra>",
         "legendgroup": "Error model",
         "line": {
          "color": "Black"
         },
         "mode": "lines",
         "name": "Error model",
         "opacity": 0.5,
         "showlegend": false,
         "type": "scatter",
         "visible": false,
         "x": [
          0.12380946813262461,
          0.14368245360440998,
          0.16621612866326155,
          0.20548239808833932,
          0.2355750244365649,
          0.26899867863809496,
          0.32567810267896924,
          0.36796685043047,
          0.4139721483571292,
          0.4899627284431305,
          0.5452472383368052,
          0.6041731622601781,
          0.6992152097753618,
          0.7668568993471954
         ],
         "xaxis": "x2",
         "y": [
          0.028862490434512427,
          0.028862490434512427,
          0.028862490434512427,
          0.028862490434512427,
          0.028862490434512427,
          0.028862490434512427,
          0.028862490434512427,
          0.028862490434512427,
          0.028862490434512427,
          0.028862490434512427,
          0.028862490434512427,
          0.028862490434512427,
          0.028862490434512427,
          0.028862490434512427
         ],
         "yaxis": "y2"
        },
        {
         "hovertemplate": "<b>Error model: 2-sigma interval</b><br>Hypothetical measurement: %{y:.02f} cm^3<br>Cancer type: Lung cancer (LXF A677)<br><extra></extra>",
         "legendgroup": "Error model",
         "line": {
          "color": "Black"
         },
         "mode": "lines",
         "name": "Error model",
         "opacity": 0.5,
         "showlegend": false,
         "type": "scatter",
         "visible": false,
         "x": [
          0.12380946813262461,
          0.14368245360440998,
          0.16621612866326155,
          0.20548239808833932,
          0.2355750244365649,
          0.26899867863809496,
          0.32567810267896924,
          0.36796685043047,
          0.4139721483571292,
          0.4899627284431305,
          0.5452472383368052,
          0.6041731622601781,
          0.6992152097753618,
          0.7668568993471954
         ],
         "xaxis": "x2",
         "y": [
          -0.028862490434512427,
          -0.028862490434512427,
          -0.028862490434512427,
          -0.028862490434512427,
          -0.028862490434512427,
          -0.028862490434512427,
          -0.028862490434512427,
          -0.028862490434512427,
          -0.028862490434512427,
          -0.028862490434512427,
          -0.028862490434512427,
          -0.028862490434512427,
          -0.028862490434512427,
          -0.028862490434512427
         ],
         "yaxis": "y2"
        },
        {
         "hovertemplate": "<b>Error model: 3-sigma interval</b><br>Hypothetical residual: %{y:.02f} cm^3<br>Cancer type: Lung cancer (LXF A677)<br><extra></extra>",
         "legendgroup": "Error model",
         "line": {
          "color": "Black"
         },
         "mode": "lines",
         "name": "Error model",
         "opacity": 0.3,
         "showlegend": false,
         "type": "scatter",
         "visible": false,
         "x": [
          0.12380946813262461,
          0.14368245360440998,
          0.16621612866326155,
          0.20548239808833932,
          0.2355750244365649,
          0.26899867863809496,
          0.32567810267896924,
          0.36796685043047,
          0.4139721483571292,
          0.4899627284431305,
          0.5452472383368052,
          0.6041731622601781,
          0.6992152097753618,
          0.7668568993471954
         ],
         "xaxis": "x2",
         "y": [
          0.04329373565176864,
          0.04329373565176864,
          0.04329373565176864,
          0.04329373565176864,
          0.04329373565176864,
          0.04329373565176864,
          0.04329373565176864,
          0.04329373565176864,
          0.04329373565176864,
          0.04329373565176864,
          0.04329373565176864,
          0.04329373565176864,
          0.04329373565176864,
          0.04329373565176864
         ],
         "yaxis": "y2"
        },
        {
         "hovertemplate": "<b>Error model: 3-sigma interval</b><br>Hypothetical measurement: %{y:.02f} cm^3<br>Cancer type: Lung cancer (LXF A677)<br><extra></extra>",
         "legendgroup": "Error model",
         "line": {
          "color": "Black"
         },
         "mode": "lines",
         "name": "Error model",
         "opacity": 0.3,
         "showlegend": false,
         "type": "scatter",
         "visible": false,
         "x": [
          0.12380946813262461,
          0.14368245360440998,
          0.16621612866326155,
          0.20548239808833932,
          0.2355750244365649,
          0.26899867863809496,
          0.32567810267896924,
          0.36796685043047,
          0.4139721483571292,
          0.4899627284431305,
          0.5452472383368052,
          0.6041731622601781,
          0.6992152097753618,
          0.7668568993471954
         ],
         "xaxis": "x2",
         "y": [
          -0.04329373565176864,
          -0.04329373565176864,
          -0.04329373565176864,
          -0.04329373565176864,
          -0.04329373565176864,
          -0.04329373565176864,
          -0.04329373565176864,
          -0.04329373565176864,
          -0.04329373565176864,
          -0.04329373565176864,
          -0.04329373565176864,
          -0.04329373565176864,
          -0.04329373565176864,
          -0.04329373565176864
         ],
         "yaxis": "y2"
        },
        {
         "hovertemplate": "<b>ID: 170</b><br>Structural model: %{x:.02f} cm^3<br>Measurement: %{y:.02f} cm^3<br>Cancer type: Lung cancer (LXF A677)<br><extra></extra>",
         "legendgroup": "Measurement",
         "marker": {
          "color": "#B6E880",
          "line": {
           "color": "black",
           "width": 1
          },
          "opacity": 0.7,
          "symbol": "circle"
         },
         "mode": "markers",
         "name": "Measurement",
         "showlegend": true,
         "type": "scatter",
         "visible": false,
         "x": [
          0.08704782716716335,
          0.10012283756707072,
          0.11506589266720504,
          0.14155108028082442,
          0.1623268283534212,
          0.18595296778233045,
          0.22747697656665006,
          0.25974410595088204,
          0.2961325211890407,
          0.3593169450378715,
          0.4077857551375951,
          0.4618231427384417,
          0.5542301216506843,
          0.6239790673732575
         ],
         "xaxis": "x",
         "y": [
          0.0800565,
          0.094221,
          0.10933,
          0.158994,
          0.17615699999999998,
          0.19407850000000001,
          0.2041605,
          0.246402,
          0.3050865,
          0.3683265,
          0.41817600000000005,
          0.4396155,
          0.5661554999999999,
          0.6206265000000001
         ],
         "yaxis": "y"
        },
        {
         "hovertemplate": "<b>Error model: Mean</b><br>Hypothetical measurement: %{y:.02f} cm^3<br>Cancer type: Lung cancer (LXF A677)<br><extra></extra>",
         "legendgroup": "Error model",
         "line": {
          "color": "#B6E880"
         },
         "mode": "lines",
         "name": "Error model",
         "opacity": 0.7,
         "showlegend": true,
         "type": "scatter",
         "visible": false,
         "x": [
          0.08704782716716335,
          0.10012283756707072,
          0.11506589266720504,
          0.14155108028082442,
          0.1623268283534212,
          0.18595296778233045,
          0.22747697656665006,
          0.25974410595088204,
          0.2961325211890407,
          0.3593169450378715,
          0.4077857551375951,
          0.4618231427384417,
          0.5542301216506843,
          0.6239790673732575
         ],
         "xaxis": "x",
         "y": [
          0.08704782716716335,
          0.10012283756707072,
          0.11506589266720504,
          0.14155108028082442,
          0.1623268283534212,
          0.18595296778233045,
          0.22747697656665006,
          0.25974410595088204,
          0.2961325211890407,
          0.3593169450378715,
          0.4077857551375951,
          0.4618231427384417,
          0.5542301216506843,
          0.6239790673732575
         ],
         "yaxis": "y"
        },
        {
         "hovertemplate": "<b>Error model: 1-sigma interval</b><br>Hypothetical measurement: %{y:.02f} cm^3<br>Cancer type: Lung cancer (LXF A677)<br><extra></extra>",
         "legendgroup": "Error model",
         "line": {
          "color": "Black"
         },
         "mode": "lines",
         "name": "Error model",
         "opacity": 0.7,
         "showlegend": false,
         "type": "scatter",
         "visible": false,
         "x": [
          0.08704782716716335,
          0.10012283756707072,
          0.11506589266720504,
          0.14155108028082442,
          0.1623268283534212,
          0.18595296778233045,
          0.22747697656665006,
          0.25974410595088204,
          0.2961325211890407,
          0.3593169450378715,
          0.4077857551375951,
          0.4618231427384417,
          0.5542301216506843,
          0.6239790673732575
         ],
         "xaxis": "x",
         "y": [
          0.09990858680965387,
          0.11298359720956125,
          0.12792665230969558,
          0.15441183992331495,
          0.17518758799591172,
          0.19881372742482098,
          0.2403377362091406,
          0.27260486559337255,
          0.3089932808315312,
          0.372177704680362,
          0.4206465147800856,
          0.4746839023809322,
          0.5670908812931749,
          0.636839827015748
         ],
         "yaxis": "y"
        },
        {
         "hovertemplate": "<b>Error model: 1-sigma interval</b><br>Hypothetical measurement: %{y:.02f} cm^3<br>Cancer type: Lung cancer (LXF A677)<br><extra></extra>",
         "legendgroup": "Error model",
         "line": {
          "color": "Black"
         },
         "mode": "lines",
         "name": "Error model",
         "opacity": 0.7,
         "showlegend": false,
         "type": "scatter",
         "visible": false,
         "x": [
          0.08704782716716335,
          0.10012283756707072,
          0.11506589266720504,
          0.14155108028082442,
          0.1623268283534212,
          0.18595296778233045,
          0.22747697656665006,
          0.25974410595088204,
          0.2961325211890407,
          0.3593169450378715,
          0.4077857551375951,
          0.4618231427384417,
          0.5542301216506843,
          0.6239790673732575
         ],
         "xaxis": "x",
         "y": [
          0.07418706752467283,
          0.08726207792458018,
          0.10220513302471451,
          0.12869032063833388,
          0.14946606871093066,
          0.17309220813983991,
          0.21461621692415953,
          0.2468833463083915,
          0.2832717615465502,
          0.346456185395381,
          0.39492499549510457,
          0.4489623830959512,
          0.5413693620081937,
          0.6111183077307669
         ],
         "yaxis": "y"
        },
        {
         "hovertemplate": "<b>Error model: 2-sigma interval</b><br>Hypothetical measurement: %{y:.02f} cm^3<br>Cancer type: Lung cancer (LXF A677)<br><extra></extra>",
         "legendgroup": "Error model",
         "line": {
          "color": "Black",
          "width": 1.5
         },
         "mode": "lines",
         "name": "Error model",
         "opacity": 0.5,
         "showlegend": false,
         "type": "scatter",
         "visible": false,
         "x": [
          0.08704782716716335,
          0.10012283756707072,
          0.11506589266720504,
          0.14155108028082442,
          0.1623268283534212,
          0.18595296778233045,
          0.22747697656665006,
          0.25974410595088204,
          0.2961325211890407,
          0.3593169450378715,
          0.4077857551375951,
          0.4618231427384417,
          0.5542301216506843,
          0.6239790673732575
         ],
         "xaxis": "x",
         "y": [
          0.1127693464521444,
          0.12584435685205175,
          0.14078741195218608,
          0.16727259956580548,
          0.18804834763840222,
          0.2116744870673115,
          0.2531984958516311,
          0.2854656252358631,
          0.3218540404740218,
          0.38503846432285255,
          0.43350727442257614,
          0.4875446620234228,
          0.5799516409356653,
          0.6497005866582385
         ],
         "yaxis": "y"
        },
        {
         "hovertemplate": "<b>Error model: 2-sigma interval</b><br>Hypothetical measurement: %{y:.02f} cm^3<br>Cancer type: Lung cancer (LXF A677)<br><extra></extra>",
         "legendgroup": "Error model",
         "line": {
          "color": "Black",
          "width": 1.5
         },
         "mode": "lines",
         "name": "Error model",
         "opacity": 0.5,
         "showlegend": false,
         "type": "scatter",
         "visible": false,
         "x": [
          0.08704782716716335,
          0.10012283756707072,
          0.11506589266720504,
          0.14155108028082442,
          0.1623268283534212,
          0.18595296778233045,
          0.22747697656665006,
          0.25974410595088204,
          0.2961325211890407,
          0.3593169450378715,
          0.4077857551375951,
          0.4618231427384417,
          0.5542301216506843,
          0.6239790673732575
         ],
         "xaxis": "x",
         "y": [
          0.061326307882182296,
          0.07440131828208967,
          0.089344373382224,
          0.11582956099584336,
          0.13660530906844015,
          0.16023144849734938,
          0.201755457281669,
          0.23402258666590098,
          0.27041100190405964,
          0.3335954257528904,
          0.382064235852614,
          0.43610162345346065,
          0.5285086023657033,
          0.5982575480882765
         ],
         "yaxis": "y"
        },
        {
         "hovertemplate": "<b>Error model: 3-sigma interval</b><br>Hypothetical measurement: %{y:.02f} cm^3<br>Cancer type: Lung cancer (LXF A677)<br><extra></extra>",
         "legendgroup": "Error model",
         "line": {
          "color": "Black",
          "width": 1
         },
         "mode": "lines",
         "name": "Error model",
         "opacity": 0.3,
         "showlegend": false,
         "type": "scatter",
         "visible": false,
         "x": [
          0.08704782716716335,
          0.10012283756707072,
          0.11506589266720504,
          0.14155108028082442,
          0.1623268283534212,
          0.18595296778233045,
          0.22747697656665006,
          0.25974410595088204,
          0.2961325211890407,
          0.3593169450378715,
          0.4077857551375951,
          0.4618231427384417,
          0.5542301216506843,
          0.6239790673732575
         ],
         "xaxis": "x",
         "y": [
          0.12563010609463493,
          0.13870511649454229,
          0.1536481715946766,
          0.18013335920829598,
          0.20090910728089276,
          0.22453524670980202,
          0.2660592554941216,
          0.2983263848783536,
          0.3347148001165123,
          0.39789922396534305,
          0.44636803406506664,
          0.5004054216659133,
          0.5928124005781559,
          0.662561346300729
         ],
         "yaxis": "y"
        },
        {
         "hovertemplate": "<b>Error model: 3-sigma interval</b><br>Hypothetical measurement: %{y:.02f} cm^3<br>Cancer type: Lung cancer (LXF A677)<br><extra></extra>",
         "legendgroup": "Error model",
         "line": {
          "color": "Black",
          "width": 1
         },
         "mode": "lines",
         "name": "Error model",
         "opacity": 0.3,
         "showlegend": false,
         "type": "scatter",
         "visible": false,
         "x": [
          0.08704782716716335,
          0.10012283756707072,
          0.11506589266720504,
          0.14155108028082442,
          0.1623268283534212,
          0.18595296778233045,
          0.22747697656665006,
          0.25974410595088204,
          0.2961325211890407,
          0.3593169450378715,
          0.4077857551375951,
          0.4618231427384417,
          0.5542301216506843,
          0.6239790673732575
         ],
         "xaxis": "x",
         "y": [
          0.04846554823969177,
          0.06154055863959914,
          0.07648361373973347,
          0.10296880135335285,
          0.12374454942594962,
          0.14737068885485888,
          0.1888946976391785,
          0.22116182702341047,
          0.25755024226156914,
          0.3207346661103999,
          0.3692034762101235,
          0.42324086381097015,
          0.5156478427232127,
          0.5853967884457859
         ],
         "yaxis": "y"
        },
        {
         "hovertemplate": "<b>ID: 170</b><br>Structural model: %{x:.02f} cm^3<br>Residual: %{y:.02f} cm^3<br>Cancer type: Lung cancer (LXF A677)<br><extra></extra>",
         "legendgroup": "Measurement",
         "marker": {
          "color": "#B6E880",
          "line": {
           "color": "black",
           "width": 1
          },
          "opacity": 0.7,
          "symbol": "circle"
         },
         "mode": "markers",
         "name": "Measurement",
         "showlegend": false,
         "type": "scatter",
         "visible": false,
         "x": [
          0.08704782716716335,
          0.10012283756707072,
          0.11506589266720504,
          0.14155108028082442,
          0.1623268283534212,
          0.18595296778233045,
          0.22747697656665006,
          0.25974410595088204,
          0.2961325211890407,
          0.3593169450378715,
          0.4077857551375951,
          0.4618231427384417,
          0.5542301216506843,
          0.6239790673732575
         ],
         "xaxis": "x2",
         "y": [
          -0.006991327167163344,
          -0.005901837567070717,
          -0.0057358926672050475,
          0.01744291971917558,
          0.013830171646578793,
          0.008125532217669568,
          -0.023316476566650063,
          -0.013342105950882033,
          0.008953978810959273,
          0.009009554962128519,
          0.010390244862404974,
          -0.022207642738441724,
          0.011925378349315618,
          -0.003352567373257398
         ],
         "yaxis": "y2"
        },
        {
         "hovertemplate": "<b>Error model: Mean</b><br>Hypothetical residual: %{y:.02f} cm^3<br>Cancer type: Lung cancer (LXF A677)<br><extra></extra>",
         "legendgroup": "Error model",
         "line": {
          "color": "#B6E880"
         },
         "mode": "lines",
         "name": "Error model",
         "opacity": 0.7,
         "showlegend": false,
         "type": "scatter",
         "visible": false,
         "x": [
          0.08704782716716335,
          0.10012283756707072,
          0.11506589266720504,
          0.14155108028082442,
          0.1623268283534212,
          0.18595296778233045,
          0.22747697656665006,
          0.25974410595088204,
          0.2961325211890407,
          0.3593169450378715,
          0.4077857551375951,
          0.4618231427384417,
          0.5542301216506843,
          0.6239790673732575
         ],
         "xaxis": "x2",
         "y": [
          0,
          0,
          0,
          0,
          0,
          0,
          0,
          0,
          0,
          0,
          0,
          0,
          0,
          0
         ],
         "yaxis": "y2"
        },
        {
         "hovertemplate": "<b>Error model: 1-sigma interval</b><br>Hypothetical residual: %{y:.02f} cm^3<br>Cancer type: Lung cancer (LXF A677)<br><extra></extra>",
         "legendgroup": "Error model",
         "line": {
          "color": "Black"
         },
         "mode": "lines",
         "name": "Error model",
         "opacity": 0.7,
         "showlegend": false,
         "type": "scatter",
         "visible": false,
         "x": [
          0.08704782716716335,
          0.10012283756707072,
          0.11506589266720504,
          0.14155108028082442,
          0.1623268283534212,
          0.18595296778233045,
          0.22747697656665006,
          0.25974410595088204,
          0.2961325211890407,
          0.3593169450378715,
          0.4077857551375951,
          0.4618231427384417,
          0.5542301216506843,
          0.6239790673732575
         ],
         "xaxis": "x2",
         "y": [
          0.012860759642490525,
          0.012860759642490525,
          0.012860759642490525,
          0.012860759642490525,
          0.012860759642490525,
          0.012860759642490525,
          0.012860759642490525,
          0.012860759642490525,
          0.012860759642490525,
          0.012860759642490525,
          0.012860759642490525,
          0.012860759642490525,
          0.012860759642490525,
          0.012860759642490525
         ],
         "yaxis": "y2"
        },
        {
         "hovertemplate": "<b>Error model: 1-sigma interval</b><br>Hypothetical measurement: %{y:.02f} cm^3<br>Cancer type: Lung cancer (LXF A677)<br><extra></extra>",
         "legendgroup": "Error model",
         "line": {
          "color": "Black"
         },
         "mode": "lines",
         "name": "Error model",
         "opacity": 0.7,
         "showlegend": false,
         "type": "scatter",
         "visible": false,
         "x": [
          0.08704782716716335,
          0.10012283756707072,
          0.11506589266720504,
          0.14155108028082442,
          0.1623268283534212,
          0.18595296778233045,
          0.22747697656665006,
          0.25974410595088204,
          0.2961325211890407,
          0.3593169450378715,
          0.4077857551375951,
          0.4618231427384417,
          0.5542301216506843,
          0.6239790673732575
         ],
         "xaxis": "x2",
         "y": [
          -0.012860759642490525,
          -0.012860759642490525,
          -0.012860759642490525,
          -0.012860759642490525,
          -0.012860759642490525,
          -0.012860759642490525,
          -0.012860759642490525,
          -0.012860759642490525,
          -0.012860759642490525,
          -0.012860759642490525,
          -0.012860759642490525,
          -0.012860759642490525,
          -0.012860759642490525,
          -0.012860759642490525
         ],
         "yaxis": "y2"
        },
        {
         "hovertemplate": "<b>Error model: 2-sigma interval</b><br>Hypothetical residual: %{y:.02f} cm^3<br>Cancer type: Lung cancer (LXF A677)<br><extra></extra>",
         "legendgroup": "Error model",
         "line": {
          "color": "Black"
         },
         "mode": "lines",
         "name": "Error model",
         "opacity": 0.5,
         "showlegend": false,
         "type": "scatter",
         "visible": false,
         "x": [
          0.08704782716716335,
          0.10012283756707072,
          0.11506589266720504,
          0.14155108028082442,
          0.1623268283534212,
          0.18595296778233045,
          0.22747697656665006,
          0.25974410595088204,
          0.2961325211890407,
          0.3593169450378715,
          0.4077857551375951,
          0.4618231427384417,
          0.5542301216506843,
          0.6239790673732575
         ],
         "xaxis": "x2",
         "y": [
          0.02572151928498105,
          0.02572151928498105,
          0.02572151928498105,
          0.02572151928498105,
          0.02572151928498105,
          0.02572151928498105,
          0.02572151928498105,
          0.02572151928498105,
          0.02572151928498105,
          0.02572151928498105,
          0.02572151928498105,
          0.02572151928498105,
          0.02572151928498105,
          0.02572151928498105
         ],
         "yaxis": "y2"
        },
        {
         "hovertemplate": "<b>Error model: 2-sigma interval</b><br>Hypothetical measurement: %{y:.02f} cm^3<br>Cancer type: Lung cancer (LXF A677)<br><extra></extra>",
         "legendgroup": "Error model",
         "line": {
          "color": "Black"
         },
         "mode": "lines",
         "name": "Error model",
         "opacity": 0.5,
         "showlegend": false,
         "type": "scatter",
         "visible": false,
         "x": [
          0.08704782716716335,
          0.10012283756707072,
          0.11506589266720504,
          0.14155108028082442,
          0.1623268283534212,
          0.18595296778233045,
          0.22747697656665006,
          0.25974410595088204,
          0.2961325211890407,
          0.3593169450378715,
          0.4077857551375951,
          0.4618231427384417,
          0.5542301216506843,
          0.6239790673732575
         ],
         "xaxis": "x2",
         "y": [
          -0.02572151928498105,
          -0.02572151928498105,
          -0.02572151928498105,
          -0.02572151928498105,
          -0.02572151928498105,
          -0.02572151928498105,
          -0.02572151928498105,
          -0.02572151928498105,
          -0.02572151928498105,
          -0.02572151928498105,
          -0.02572151928498105,
          -0.02572151928498105,
          -0.02572151928498105,
          -0.02572151928498105
         ],
         "yaxis": "y2"
        },
        {
         "hovertemplate": "<b>Error model: 3-sigma interval</b><br>Hypothetical residual: %{y:.02f} cm^3<br>Cancer type: Lung cancer (LXF A677)<br><extra></extra>",
         "legendgroup": "Error model",
         "line": {
          "color": "Black"
         },
         "mode": "lines",
         "name": "Error model",
         "opacity": 0.3,
         "showlegend": false,
         "type": "scatter",
         "visible": false,
         "x": [
          0.08704782716716335,
          0.10012283756707072,
          0.11506589266720504,
          0.14155108028082442,
          0.1623268283534212,
          0.18595296778233045,
          0.22747697656665006,
          0.25974410595088204,
          0.2961325211890407,
          0.3593169450378715,
          0.4077857551375951,
          0.4618231427384417,
          0.5542301216506843,
          0.6239790673732575
         ],
         "xaxis": "x2",
         "y": [
          0.038582278927471576,
          0.038582278927471576,
          0.038582278927471576,
          0.038582278927471576,
          0.038582278927471576,
          0.038582278927471576,
          0.038582278927471576,
          0.038582278927471576,
          0.038582278927471576,
          0.038582278927471576,
          0.038582278927471576,
          0.038582278927471576,
          0.038582278927471576,
          0.038582278927471576
         ],
         "yaxis": "y2"
        },
        {
         "hovertemplate": "<b>Error model: 3-sigma interval</b><br>Hypothetical measurement: %{y:.02f} cm^3<br>Cancer type: Lung cancer (LXF A677)<br><extra></extra>",
         "legendgroup": "Error model",
         "line": {
          "color": "Black"
         },
         "mode": "lines",
         "name": "Error model",
         "opacity": 0.3,
         "showlegend": false,
         "type": "scatter",
         "visible": false,
         "x": [
          0.08704782716716335,
          0.10012283756707072,
          0.11506589266720504,
          0.14155108028082442,
          0.1623268283534212,
          0.18595296778233045,
          0.22747697656665006,
          0.25974410595088204,
          0.2961325211890407,
          0.3593169450378715,
          0.4077857551375951,
          0.4618231427384417,
          0.5542301216506843,
          0.6239790673732575
         ],
         "xaxis": "x2",
         "y": [
          -0.038582278927471576,
          -0.038582278927471576,
          -0.038582278927471576,
          -0.038582278927471576,
          -0.038582278927471576,
          -0.038582278927471576,
          -0.038582278927471576,
          -0.038582278927471576,
          -0.038582278927471576,
          -0.038582278927471576,
          -0.038582278927471576,
          -0.038582278927471576,
          -0.038582278927471576,
          -0.038582278927471576
         ],
         "yaxis": "y2"
        }
       ],
       "layout": {
        "autosize": true,
        "legend": {
         "x": 1.05,
         "xanchor": "left",
         "y": 0.01,
         "yanchor": "bottom"
        },
        "template": {
         "data": {
          "bar": [
           {
            "error_x": {
             "color": "#2a3f5f"
            },
            "error_y": {
             "color": "#2a3f5f"
            },
            "marker": {
             "line": {
              "color": "white",
              "width": 0.5
             }
            },
            "type": "bar"
           }
          ],
          "barpolar": [
           {
            "marker": {
             "line": {
              "color": "white",
              "width": 0.5
             }
            },
            "type": "barpolar"
           }
          ],
          "carpet": [
           {
            "aaxis": {
             "endlinecolor": "#2a3f5f",
             "gridcolor": "#C8D4E3",
             "linecolor": "#C8D4E3",
             "minorgridcolor": "#C8D4E3",
             "startlinecolor": "#2a3f5f"
            },
            "baxis": {
             "endlinecolor": "#2a3f5f",
             "gridcolor": "#C8D4E3",
             "linecolor": "#C8D4E3",
             "minorgridcolor": "#C8D4E3",
             "startlinecolor": "#2a3f5f"
            },
            "type": "carpet"
           }
          ],
          "choropleth": [
           {
            "colorbar": {
             "outlinewidth": 0,
             "ticks": ""
            },
            "type": "choropleth"
           }
          ],
          "contour": [
           {
            "colorbar": {
             "outlinewidth": 0,
             "ticks": ""
            },
            "colorscale": [
             [
              0,
              "#0d0887"
             ],
             [
              0.1111111111111111,
              "#46039f"
             ],
             [
              0.2222222222222222,
              "#7201a8"
             ],
             [
              0.3333333333333333,
              "#9c179e"
             ],
             [
              0.4444444444444444,
              "#bd3786"
             ],
             [
              0.5555555555555556,
              "#d8576b"
             ],
             [
              0.6666666666666666,
              "#ed7953"
             ],
             [
              0.7777777777777778,
              "#fb9f3a"
             ],
             [
              0.8888888888888888,
              "#fdca26"
             ],
             [
              1,
              "#f0f921"
             ]
            ],
            "type": "contour"
           }
          ],
          "contourcarpet": [
           {
            "colorbar": {
             "outlinewidth": 0,
             "ticks": ""
            },
            "type": "contourcarpet"
           }
          ],
          "heatmap": [
           {
            "colorbar": {
             "outlinewidth": 0,
             "ticks": ""
            },
            "colorscale": [
             [
              0,
              "#0d0887"
             ],
             [
              0.1111111111111111,
              "#46039f"
             ],
             [
              0.2222222222222222,
              "#7201a8"
             ],
             [
              0.3333333333333333,
              "#9c179e"
             ],
             [
              0.4444444444444444,
              "#bd3786"
             ],
             [
              0.5555555555555556,
              "#d8576b"
             ],
             [
              0.6666666666666666,
              "#ed7953"
             ],
             [
              0.7777777777777778,
              "#fb9f3a"
             ],
             [
              0.8888888888888888,
              "#fdca26"
             ],
             [
              1,
              "#f0f921"
             ]
            ],
            "type": "heatmap"
           }
          ],
          "heatmapgl": [
           {
            "colorbar": {
             "outlinewidth": 0,
             "ticks": ""
            },
            "colorscale": [
             [
              0,
              "#0d0887"
             ],
             [
              0.1111111111111111,
              "#46039f"
             ],
             [
              0.2222222222222222,
              "#7201a8"
             ],
             [
              0.3333333333333333,
              "#9c179e"
             ],
             [
              0.4444444444444444,
              "#bd3786"
             ],
             [
              0.5555555555555556,
              "#d8576b"
             ],
             [
              0.6666666666666666,
              "#ed7953"
             ],
             [
              0.7777777777777778,
              "#fb9f3a"
             ],
             [
              0.8888888888888888,
              "#fdca26"
             ],
             [
              1,
              "#f0f921"
             ]
            ],
            "type": "heatmapgl"
           }
          ],
          "histogram": [
           {
            "marker": {
             "colorbar": {
              "outlinewidth": 0,
              "ticks": ""
             }
            },
            "type": "histogram"
           }
          ],
          "histogram2d": [
           {
            "colorbar": {
             "outlinewidth": 0,
             "ticks": ""
            },
            "colorscale": [
             [
              0,
              "#0d0887"
             ],
             [
              0.1111111111111111,
              "#46039f"
             ],
             [
              0.2222222222222222,
              "#7201a8"
             ],
             [
              0.3333333333333333,
              "#9c179e"
             ],
             [
              0.4444444444444444,
              "#bd3786"
             ],
             [
              0.5555555555555556,
              "#d8576b"
             ],
             [
              0.6666666666666666,
              "#ed7953"
             ],
             [
              0.7777777777777778,
              "#fb9f3a"
             ],
             [
              0.8888888888888888,
              "#fdca26"
             ],
             [
              1,
              "#f0f921"
             ]
            ],
            "type": "histogram2d"
           }
          ],
          "histogram2dcontour": [
           {
            "colorbar": {
             "outlinewidth": 0,
             "ticks": ""
            },
            "colorscale": [
             [
              0,
              "#0d0887"
             ],
             [
              0.1111111111111111,
              "#46039f"
             ],
             [
              0.2222222222222222,
              "#7201a8"
             ],
             [
              0.3333333333333333,
              "#9c179e"
             ],
             [
              0.4444444444444444,
              "#bd3786"
             ],
             [
              0.5555555555555556,
              "#d8576b"
             ],
             [
              0.6666666666666666,
              "#ed7953"
             ],
             [
              0.7777777777777778,
              "#fb9f3a"
             ],
             [
              0.8888888888888888,
              "#fdca26"
             ],
             [
              1,
              "#f0f921"
             ]
            ],
            "type": "histogram2dcontour"
           }
          ],
          "mesh3d": [
           {
            "colorbar": {
             "outlinewidth": 0,
             "ticks": ""
            },
            "type": "mesh3d"
           }
          ],
          "parcoords": [
           {
            "line": {
             "colorbar": {
              "outlinewidth": 0,
              "ticks": ""
             }
            },
            "type": "parcoords"
           }
          ],
          "pie": [
           {
            "automargin": true,
            "type": "pie"
           }
          ],
          "scatter": [
           {
            "marker": {
             "colorbar": {
              "outlinewidth": 0,
              "ticks": ""
             }
            },
            "type": "scatter"
           }
          ],
          "scatter3d": [
           {
            "line": {
             "colorbar": {
              "outlinewidth": 0,
              "ticks": ""
             }
            },
            "marker": {
             "colorbar": {
              "outlinewidth": 0,
              "ticks": ""
             }
            },
            "type": "scatter3d"
           }
          ],
          "scattercarpet": [
           {
            "marker": {
             "colorbar": {
              "outlinewidth": 0,
              "ticks": ""
             }
            },
            "type": "scattercarpet"
           }
          ],
          "scattergeo": [
           {
            "marker": {
             "colorbar": {
              "outlinewidth": 0,
              "ticks": ""
             }
            },
            "type": "scattergeo"
           }
          ],
          "scattergl": [
           {
            "marker": {
             "colorbar": {
              "outlinewidth": 0,
              "ticks": ""
             }
            },
            "type": "scattergl"
           }
          ],
          "scattermapbox": [
           {
            "marker": {
             "colorbar": {
              "outlinewidth": 0,
              "ticks": ""
             }
            },
            "type": "scattermapbox"
           }
          ],
          "scatterpolar": [
           {
            "marker": {
             "colorbar": {
              "outlinewidth": 0,
              "ticks": ""
             }
            },
            "type": "scatterpolar"
           }
          ],
          "scatterpolargl": [
           {
            "marker": {
             "colorbar": {
              "outlinewidth": 0,
              "ticks": ""
             }
            },
            "type": "scatterpolargl"
           }
          ],
          "scatterternary": [
           {
            "marker": {
             "colorbar": {
              "outlinewidth": 0,
              "ticks": ""
             }
            },
            "type": "scatterternary"
           }
          ],
          "surface": [
           {
            "colorbar": {
             "outlinewidth": 0,
             "ticks": ""
            },
            "colorscale": [
             [
              0,
              "#0d0887"
             ],
             [
              0.1111111111111111,
              "#46039f"
             ],
             [
              0.2222222222222222,
              "#7201a8"
             ],
             [
              0.3333333333333333,
              "#9c179e"
             ],
             [
              0.4444444444444444,
              "#bd3786"
             ],
             [
              0.5555555555555556,
              "#d8576b"
             ],
             [
              0.6666666666666666,
              "#ed7953"
             ],
             [
              0.7777777777777778,
              "#fb9f3a"
             ],
             [
              0.8888888888888888,
              "#fdca26"
             ],
             [
              1,
              "#f0f921"
             ]
            ],
            "type": "surface"
           }
          ],
          "table": [
           {
            "cells": {
             "fill": {
              "color": "#EBF0F8"
             },
             "line": {
              "color": "white"
             }
            },
            "header": {
             "fill": {
              "color": "#C8D4E3"
             },
             "line": {
              "color": "white"
             }
            },
            "type": "table"
           }
          ]
         },
         "layout": {
          "annotationdefaults": {
           "arrowcolor": "#2a3f5f",
           "arrowhead": 0,
           "arrowwidth": 1
          },
          "coloraxis": {
           "colorbar": {
            "outlinewidth": 0,
            "ticks": ""
           }
          },
          "colorscale": {
           "diverging": [
            [
             0,
             "#8e0152"
            ],
            [
             0.1,
             "#c51b7d"
            ],
            [
             0.2,
             "#de77ae"
            ],
            [
             0.3,
             "#f1b6da"
            ],
            [
             0.4,
             "#fde0ef"
            ],
            [
             0.5,
             "#f7f7f7"
            ],
            [
             0.6,
             "#e6f5d0"
            ],
            [
             0.7,
             "#b8e186"
            ],
            [
             0.8,
             "#7fbc41"
            ],
            [
             0.9,
             "#4d9221"
            ],
            [
             1,
             "#276419"
            ]
           ],
           "sequential": [
            [
             0,
             "#0d0887"
            ],
            [
             0.1111111111111111,
             "#46039f"
            ],
            [
             0.2222222222222222,
             "#7201a8"
            ],
            [
             0.3333333333333333,
             "#9c179e"
            ],
            [
             0.4444444444444444,
             "#bd3786"
            ],
            [
             0.5555555555555556,
             "#d8576b"
            ],
            [
             0.6666666666666666,
             "#ed7953"
            ],
            [
             0.7777777777777778,
             "#fb9f3a"
            ],
            [
             0.8888888888888888,
             "#fdca26"
            ],
            [
             1,
             "#f0f921"
            ]
           ],
           "sequentialminus": [
            [
             0,
             "#0d0887"
            ],
            [
             0.1111111111111111,
             "#46039f"
            ],
            [
             0.2222222222222222,
             "#7201a8"
            ],
            [
             0.3333333333333333,
             "#9c179e"
            ],
            [
             0.4444444444444444,
             "#bd3786"
            ],
            [
             0.5555555555555556,
             "#d8576b"
            ],
            [
             0.6666666666666666,
             "#ed7953"
            ],
            [
             0.7777777777777778,
             "#fb9f3a"
            ],
            [
             0.8888888888888888,
             "#fdca26"
            ],
            [
             1,
             "#f0f921"
            ]
           ]
          },
          "colorway": [
           "#636efa",
           "#EF553B",
           "#00cc96",
           "#ab63fa",
           "#FFA15A",
           "#19d3f3",
           "#FF6692",
           "#B6E880",
           "#FF97FF",
           "#FECB52"
          ],
          "font": {
           "color": "#2a3f5f"
          },
          "geo": {
           "bgcolor": "white",
           "lakecolor": "white",
           "landcolor": "white",
           "showlakes": true,
           "showland": true,
           "subunitcolor": "#C8D4E3"
          },
          "hoverlabel": {
           "align": "left"
          },
          "hovermode": "closest",
          "mapbox": {
           "style": "light"
          },
          "paper_bgcolor": "white",
          "plot_bgcolor": "white",
          "polar": {
           "angularaxis": {
            "gridcolor": "#EBF0F8",
            "linecolor": "#EBF0F8",
            "ticks": ""
           },
           "bgcolor": "white",
           "radialaxis": {
            "gridcolor": "#EBF0F8",
            "linecolor": "#EBF0F8",
            "ticks": ""
           }
          },
          "scene": {
           "xaxis": {
            "backgroundcolor": "white",
            "gridcolor": "#DFE8F3",
            "gridwidth": 2,
            "linecolor": "#EBF0F8",
            "showbackground": true,
            "ticks": "",
            "zerolinecolor": "#EBF0F8"
           },
           "yaxis": {
            "backgroundcolor": "white",
            "gridcolor": "#DFE8F3",
            "gridwidth": 2,
            "linecolor": "#EBF0F8",
            "showbackground": true,
            "ticks": "",
            "zerolinecolor": "#EBF0F8"
           },
           "zaxis": {
            "backgroundcolor": "white",
            "gridcolor": "#DFE8F3",
            "gridwidth": 2,
            "linecolor": "#EBF0F8",
            "showbackground": true,
            "ticks": "",
            "zerolinecolor": "#EBF0F8"
           }
          },
          "shapedefaults": {
           "line": {
            "color": "#2a3f5f"
           }
          },
          "ternary": {
           "aaxis": {
            "gridcolor": "#DFE8F3",
            "linecolor": "#A2B1C6",
            "ticks": ""
           },
           "baxis": {
            "gridcolor": "#DFE8F3",
            "linecolor": "#A2B1C6",
            "ticks": ""
           },
           "bgcolor": "white",
           "caxis": {
            "gridcolor": "#DFE8F3",
            "linecolor": "#A2B1C6",
            "ticks": ""
           }
          },
          "title": {
           "x": 0.05
          },
          "xaxis": {
           "automargin": true,
           "gridcolor": "#EBF0F8",
           "linecolor": "#EBF0F8",
           "ticks": "",
           "title": {
            "standoff": 15
           },
           "zerolinecolor": "#EBF0F8",
           "zerolinewidth": 2
          },
          "yaxis": {
           "automargin": true,
           "gridcolor": "#EBF0F8",
           "linecolor": "#EBF0F8",
           "ticks": "",
           "title": {
            "standoff": 15
           },
           "zerolinecolor": "#EBF0F8",
           "zerolinewidth": 2
          }
         }
        },
        "updatemenus": [
         {
          "buttons": [
           {
            "args": [
             {
              "visible": [
               true,
               true,
               true,
               true,
               true,
               true,
               true,
               true,
               true,
               true,
               true,
               true,
               true,
               true,
               true,
               true,
               false,
               false,
               false,
               false,
               false,
               false,
               false,
               false,
               false,
               false,
               false,
               false,
               false,
               false,
               false,
               false,
               false,
               false,
               false,
               false,
               false,
               false,
               false,
               false,
               false,
               false,
               false,
               false,
               false,
               false,
               false,
               false,
               false,
               false,
               false,
               false,
               false,
               false,
               false,
               false,
               false,
               false,
               false,
               false,
               false,
               false,
               false,
               false,
               false,
               false,
               false,
               false,
               false,
               false,
               false,
               false,
               false,
               false,
               false,
               false,
               false,
               false,
               false,
               false,
               false,
               false,
               false,
               false,
               false,
               false,
               false,
               false,
               false,
               false,
               false,
               false,
               false,
               false,
               false,
               false,
               false,
               false,
               false,
               false,
               false,
               false,
               false,
               false,
               false,
               false,
               false,
               false,
               false,
               false,
               false,
               false,
               false,
               false,
               false,
               false,
               false,
               false,
               false,
               false,
               false,
               false,
               false,
               false,
               false,
               false,
               false,
               false
              ]
             }
            ],
            "label": "ID: 40",
            "method": "restyle"
           },
           {
            "args": [
             {
              "visible": [
               false,
               false,
               false,
               false,
               false,
               false,
               false,
               false,
               false,
               false,
               false,
               false,
               false,
               false,
               false,
               false,
               true,
               true,
               true,
               true,
               true,
               true,
               true,
               true,
               true,
               true,
               true,
               true,
               true,
               true,
               true,
               true,
               false,
               false,
               false,
               false,
               false,
               false,
               false,
               false,
               false,
               false,
               false,
               false,
               false,
               false,
               false,
               false,
               false,
               false,
               false,
               false,
               false,
               false,
               false,
               false,
               false,
               false,
               false,
               false,
               false,
               false,
               false,
               false,
               false,
               false,
               false,
               false,
               false,
               false,
               false,
               false,
               false,
               false,
               false,
               false,
               false,
               false,
               false,
               false,
               false,
               false,
               false,
               false,
               false,
               false,
               false,
               false,
               false,
               false,
               false,
               false,
               false,
               false,
               false,
               false,
               false,
               false,
               false,
               false,
               false,
               false,
               false,
               false,
               false,
               false,
               false,
               false,
               false,
               false,
               false,
               false,
               false,
               false,
               false,
               false,
               false,
               false,
               false,
               false,
               false,
               false,
               false,
               false,
               false,
               false,
               false,
               false
              ]
             }
            ],
            "label": "ID: 94",
            "method": "restyle"
           },
           {
            "args": [
             {
              "visible": [
               false,
               false,
               false,
               false,
               false,
               false,
               false,
               false,
               false,
               false,
               false,
               false,
               false,
               false,
               false,
               false,
               false,
               false,
               false,
               false,
               false,
               false,
               false,
               false,
               false,
               false,
               false,
               false,
               false,
               false,
               false,
               false,
               true,
               true,
               true,
               true,
               true,
               true,
               true,
               true,
               true,
               true,
               true,
               true,
               true,
               true,
               true,
               true,
               false,
               false,
               false,
               false,
               false,
               false,
               false,
               false,
               false,
               false,
               false,
               false,
               false,
               false,
               false,
               false,
               false,
               false,
               false,
               false,
               false,
               false,
               false,
               false,
               false,
               false,
               false,
               false,
               false,
               false,
               false,
               false,
               false,
               false,
               false,
               false,
               false,
               false,
               false,
               false,
               false,
               false,
               false,
               false,
               false,
               false,
               false,
               false,
               false,
               false,
               false,
               false,
               false,
               false,
               false,
               false,
               false,
               false,
               false,
               false,
               false,
               false,
               false,
               false,
               false,
               false,
               false,
               false,
               false,
               false,
               false,
               false,
               false,
               false,
               false,
               false,
               false,
               false,
               false,
               false
              ]
             }
            ],
            "label": "ID: 95",
            "method": "restyle"
           },
           {
            "args": [
             {
              "visible": [
               false,
               false,
               false,
               false,
               false,
               false,
               false,
               false,
               false,
               false,
               false,
               false,
               false,
               false,
               false,
               false,
               false,
               false,
               false,
               false,
               false,
               false,
               false,
               false,
               false,
               false,
               false,
               false,
               false,
               false,
               false,
               false,
               false,
               false,
               false,
               false,
               false,
               false,
               false,
               false,
               false,
               false,
               false,
               false,
               false,
               false,
               false,
               false,
               true,
               true,
               true,
               true,
               true,
               true,
               true,
               true,
               true,
               true,
               true,
               true,
               true,
               true,
               true,
               true,
               false,
               false,
               false,
               false,
               false,
               false,
               false,
               false,
               false,
               false,
               false,
               false,
               false,
               false,
               false,
               false,
               false,
               false,
               false,
               false,
               false,
               false,
               false,
               false,
               false,
               false,
               false,
               false,
               false,
               false,
               false,
               false,
               false,
               false,
               false,
               false,
               false,
               false,
               false,
               false,
               false,
               false,
               false,
               false,
               false,
               false,
               false,
               false,
               false,
               false,
               false,
               false,
               false,
               false,
               false,
               false,
               false,
               false,
               false,
               false,
               false,
               false,
               false,
               false
              ]
             }
            ],
            "label": "ID: 136",
            "method": "restyle"
           },
           {
            "args": [
             {
              "visible": [
               false,
               false,
               false,
               false,
               false,
               false,
               false,
               false,
               false,
               false,
               false,
               false,
               false,
               false,
               false,
               false,
               false,
               false,
               false,
               false,
               false,
               false,
               false,
               false,
               false,
               false,
               false,
               false,
               false,
               false,
               false,
               false,
               false,
               false,
               false,
               false,
               false,
               false,
               false,
               false,
               false,
               false,
               false,
               false,
               false,
               false,
               false,
               false,
               false,
               false,
               false,
               false,
               false,
               false,
               false,
               false,
               false,
               false,
               false,
               false,
               false,
               false,
               false,
               false,
               true,
               true,
               true,
               true,
               true,
               true,
               true,
               true,
               true,
               true,
               true,
               true,
               true,
               true,
               true,
               true,
               false,
               false,
               false,
               false,
               false,
               false,
               false,
               false,
               false,
               false,
               false,
               false,
               false,
               false,
               false,
               false,
               false,
               false,
               false,
               false,
               false,
               false,
               false,
               false,
               false,
               false,
               false,
               false,
               false,
               false,
               false,
               false,
               false,
               false,
               false,
               false,
               false,
               false,
               false,
               false,
               false,
               false,
               false,
               false,
               false,
               false,
               false,
               false
              ]
             }
            ],
            "label": "ID: 140",
            "method": "restyle"
           },
           {
            "args": [
             {
              "visible": [
               false,
               false,
               false,
               false,
               false,
               false,
               false,
               false,
               false,
               false,
               false,
               false,
               false,
               false,
               false,
               false,
               false,
               false,
               false,
               false,
               false,
               false,
               false,
               false,
               false,
               false,
               false,
               false,
               false,
               false,
               false,
               false,
               false,
               false,
               false,
               false,
               false,
               false,
               false,
               false,
               false,
               false,
               false,
               false,
               false,
               false,
               false,
               false,
               false,
               false,
               false,
               false,
               false,
               false,
               false,
               false,
               false,
               false,
               false,
               false,
               false,
               false,
               false,
               false,
               false,
               false,
               false,
               false,
               false,
               false,
               false,
               false,
               false,
               false,
               false,
               false,
               false,
               false,
               false,
               false,
               true,
               true,
               true,
               true,
               true,
               true,
               true,
               true,
               true,
               true,
               true,
               true,
               true,
               true,
               true,
               true,
               false,
               false,
               false,
               false,
               false,
               false,
               false,
               false,
               false,
               false,
               false,
               false,
               false,
               false,
               false,
               false,
               false,
               false,
               false,
               false,
               false,
               false,
               false,
               false,
               false,
               false,
               false,
               false,
               false,
               false,
               false,
               false
              ]
             }
            ],
            "label": "ID: 155",
            "method": "restyle"
           },
           {
            "args": [
             {
              "visible": [
               false,
               false,
               false,
               false,
               false,
               false,
               false,
               false,
               false,
               false,
               false,
               false,
               false,
               false,
               false,
               false,
               false,
               false,
               false,
               false,
               false,
               false,
               false,
               false,
               false,
               false,
               false,
               false,
               false,
               false,
               false,
               false,
               false,
               false,
               false,
               false,
               false,
               false,
               false,
               false,
               false,
               false,
               false,
               false,
               false,
               false,
               false,
               false,
               false,
               false,
               false,
               false,
               false,
               false,
               false,
               false,
               false,
               false,
               false,
               false,
               false,
               false,
               false,
               false,
               false,
               false,
               false,
               false,
               false,
               false,
               false,
               false,
               false,
               false,
               false,
               false,
               false,
               false,
               false,
               false,
               false,
               false,
               false,
               false,
               false,
               false,
               false,
               false,
               false,
               false,
               false,
               false,
               false,
               false,
               false,
               false,
               true,
               true,
               true,
               true,
               true,
               true,
               true,
               true,
               true,
               true,
               true,
               true,
               true,
               true,
               true,
               true,
               false,
               false,
               false,
               false,
               false,
               false,
               false,
               false,
               false,
               false,
               false,
               false,
               false,
               false,
               false,
               false
              ]
             }
            ],
            "label": "ID: 169",
            "method": "restyle"
           },
           {
            "args": [
             {
              "visible": [
               false,
               false,
               false,
               false,
               false,
               false,
               false,
               false,
               false,
               false,
               false,
               false,
               false,
               false,
               false,
               false,
               false,
               false,
               false,
               false,
               false,
               false,
               false,
               false,
               false,
               false,
               false,
               false,
               false,
               false,
               false,
               false,
               false,
               false,
               false,
               false,
               false,
               false,
               false,
               false,
               false,
               false,
               false,
               false,
               false,
               false,
               false,
               false,
               false,
               false,
               false,
               false,
               false,
               false,
               false,
               false,
               false,
               false,
               false,
               false,
               false,
               false,
               false,
               false,
               false,
               false,
               false,
               false,
               false,
               false,
               false,
               false,
               false,
               false,
               false,
               false,
               false,
               false,
               false,
               false,
               false,
               false,
               false,
               false,
               false,
               false,
               false,
               false,
               false,
               false,
               false,
               false,
               false,
               false,
               false,
               false,
               false,
               false,
               false,
               false,
               false,
               false,
               false,
               false,
               false,
               false,
               false,
               false,
               false,
               false,
               false,
               false,
               true,
               true,
               true,
               true,
               true,
               true,
               true,
               true,
               true,
               true,
               true,
               true,
               true,
               true,
               true,
               true
              ]
             }
            ],
            "label": "ID: 170",
            "method": "restyle"
           }
          ],
          "direction": "right",
          "pad": {
           "r": 0,
           "t": -10
          },
          "showactive": true,
          "type": "buttons",
          "x": 0,
          "xanchor": "left",
          "y": 1.1,
          "yanchor": "top"
         }
        ],
        "xaxis": {
         "anchor": "y",
         "domain": [
          0,
          1
         ],
         "matches": "x2",
         "showticklabels": false
        },
        "xaxis2": {
         "anchor": "y2",
         "domain": [
          0,
          1
         ],
         "title": {
          "text": "$\\text{Structural model predictions in cm}^3$"
         }
        },
        "yaxis": {
         "anchor": "x",
         "domain": [
          0.525,
          1
         ],
         "title": {
          "text": "$\\text{Tumour volume in cm}^3$"
         }
        },
        "yaxis2": {
         "anchor": "x2",
         "domain": [
          0,
          0.475
         ],
         "title": {
          "text": "$\\text{Residuals in cm}^3$"
         }
        }
       }
      }
     },
     "metadata": {}
    }
   ],
   "source": [
    "#\n",
    "# Visualise noise model.\n",
    "#\n",
    "# This cell needs the structural model predictions for the tumour growth, and the medians of the optimised parameters:\n",
    "# [structural_model_predictions, median_parameters]\n",
    "#\n",
    "\n",
    "import os\n",
    "\n",
    "import pandas as pd\n",
    "import plotly.colors\n",
    "import plotly.graph_objects as go\n",
    "from plotly.subplots import make_subplots\n",
    "\n",
    "\n",
    "# Import data\n",
    "# Get path of current working directory\n",
    "path = os.getcwd()\n",
    "\n",
    "# Import LXF A677 control growth data\n",
    "data = pd.read_csv(path + '/data/lxf_control_growth.csv')\n",
    "\n",
    "# Match observations with predictions\n",
    "data = data.merge(structural_model_predictions, on=['#ID', 'TIME in day'])\n",
    "\n",
    "# Get noise parameters\n",
    "sigmas = median_parameters[:, -1]\n",
    "\n",
    "# Get mouse ids\n",
    "mouse_ids = data['#ID'].unique()\n",
    "\n",
    "# Get number of mice\n",
    "n_mice = len(mouse_ids)\n",
    "\n",
    "# Define colorscheme\n",
    "colors = plotly.colors.qualitative.Plotly[:n_mice]\n",
    "\n",
    "# Create figure\n",
    "fig = make_subplots(rows=2, cols=1, shared_xaxes=True, row_heights=[0.5, 0.5], vertical_spacing=0.05)\n",
    "\n",
    "# Scatter plot LXF A677 time-series data for each mouse\n",
    "for index, id_m in enumerate(mouse_ids):\n",
    "    # Create mask for mouse\n",
    "    mask = data['#ID'] == id_m\n",
    "\n",
    "    # Get predicted tumour volumes for mouse\n",
    "    predicted_volumes = data['PREDICTED TUMOUR VOLUME in cm^3'][mask]\n",
    "\n",
    "    # Get observed tumour volumes for mouse\n",
    "    observed_volumes = data['TUMOUR VOLUME in cm^3'][mask]\n",
    "\n",
    "    # Get noise parameter\n",
    "    sigma = sigmas[index]\n",
    "\n",
    "    # Plot I: Measured vs predicted volumes\n",
    "    # Plot measured tumour volume versus structural model tumour volume\n",
    "    fig.add_trace(\n",
    "        go.Scatter(\n",
    "            x=predicted_volumes,\n",
    "            y=observed_volumes,\n",
    "            legendgroup=\"Measurement\",\n",
    "            name=\"Measurement\",\n",
    "            showlegend=True,\n",
    "            visible=True if index == 0 else False,\n",
    "            hovertemplate=\n",
    "                \"<b>ID: %d</b><br>\" % (id_m) +\n",
    "                \"Structural model: %{x:.02f} cm^3<br>\" +\n",
    "                \"Measurement: %{y:.02f} cm^3<br>\" +\n",
    "                \"Cancer type: Lung cancer (LXF A677)<br>\" +\n",
    "                \"<extra></extra>\",\n",
    "            mode=\"markers\",\n",
    "            marker=dict(\n",
    "                symbol='circle',\n",
    "                color=colors[index],\n",
    "                opacity=0.7,\n",
    "                line=dict(color='black', width=1))),\n",
    "        row=1,\n",
    "        col=1)\n",
    "\n",
    "    # Plot median of error model\n",
    "    fig.add_trace(\n",
    "        go.Scatter(\n",
    "            x=predicted_volumes,\n",
    "            y=predicted_volumes,\n",
    "            legendgroup=\"Error model\",\n",
    "            name=\"Error model\",\n",
    "            showlegend=True,\n",
    "            visible=True if index == 0 else False,\n",
    "            hovertemplate=\n",
    "                \"<b>Error model: Mean</b><br>\" +\n",
    "                \"Hypothetical measurement: %{y:.02f} cm^3<br>\" +\n",
    "                \"Cancer type: Lung cancer (LXF A677)<br>\" +\n",
    "                \"<extra></extra>\",\n",
    "            mode=\"lines\",\n",
    "            line=dict(color=colors[index]),\n",
    "            opacity=0.7),\n",
    "        row=1,\n",
    "        col=1)\n",
    "\n",
    "    # Plot 1-sigma interval of error model\n",
    "    fig.add_trace(\n",
    "        go.Scatter(\n",
    "            x=predicted_volumes,\n",
    "            y=predicted_volumes + sigma,\n",
    "            legendgroup=\"Error model\",\n",
    "            name=\"Error model\",\n",
    "            showlegend=False,\n",
    "            visible=True if index == 0 else False,\n",
    "            hovertemplate=\n",
    "                \"<b>Error model: 1-sigma interval</b><br>\" +\n",
    "                \"Hypothetical measurement: %{y:.02f} cm^3<br>\" +\n",
    "                \"Cancer type: Lung cancer (LXF A677)<br>\" +\n",
    "                \"<extra></extra>\",\n",
    "            mode=\"lines\",\n",
    "            line=dict(\n",
    "                color='Black'),\n",
    "            opacity=0.7),\n",
    "        row=1,\n",
    "        col=1)\n",
    "    fig.add_trace(\n",
    "        go.Scatter(\n",
    "            x=predicted_volumes,\n",
    "            y=predicted_volumes - sigma,\n",
    "            legendgroup=\"Error model\",\n",
    "            name=\"Error model\",\n",
    "            showlegend=False,\n",
    "            visible=True if index == 0 else False,\n",
    "            hovertemplate=\n",
    "                \"<b>Error model: 1-sigma interval</b><br>\" +\n",
    "                \"Hypothetical measurement: %{y:.02f} cm^3<br>\" +\n",
    "                \"Cancer type: Lung cancer (LXF A677)<br>\" +\n",
    "                \"<extra></extra>\",\n",
    "            mode=\"lines\",\n",
    "            line=dict(\n",
    "                color='Black'),\n",
    "            opacity=0.7),\n",
    "        row=1,\n",
    "        col=1)\n",
    "\n",
    "    # Plot 2-sigma interval of error model\n",
    "    fig.add_trace(\n",
    "        go.Scatter(\n",
    "            x=predicted_volumes,\n",
    "            y=predicted_volumes + 2 * sigma,\n",
    "            legendgroup=\"Error model\",\n",
    "            name=\"Error model\",\n",
    "            showlegend=False,\n",
    "            visible=True if index == 0 else False,\n",
    "            hovertemplate=\n",
    "                \"<b>Error model: 2-sigma interval</b><br>\" +\n",
    "                \"Hypothetical measurement: %{y:.02f} cm^3<br>\" +\n",
    "                \"Cancer type: Lung cancer (LXF A677)<br>\" +\n",
    "                \"<extra></extra>\",\n",
    "            mode=\"lines\",\n",
    "            line=dict(\n",
    "                color='Black',\n",
    "                width=1.5),\n",
    "            opacity=0.5),\n",
    "        row=1,\n",
    "        col=1)\n",
    "    fig.add_trace(\n",
    "        go.Scatter(\n",
    "            x=predicted_volumes,\n",
    "            y=predicted_volumes - 2 * sigma,\n",
    "            legendgroup=\"Error model\",\n",
    "            name=\"Error model\",\n",
    "            showlegend=False,\n",
    "            visible=True if index == 0 else False,\n",
    "            hovertemplate=\n",
    "                \"<b>Error model: 2-sigma interval</b><br>\" +\n",
    "                \"Hypothetical measurement: %{y:.02f} cm^3<br>\" +\n",
    "                \"Cancer type: Lung cancer (LXF A677)<br>\" +\n",
    "                \"<extra></extra>\",\n",
    "            mode=\"lines\",\n",
    "            line=dict(\n",
    "                color='Black',\n",
    "                width=1.5),\n",
    "            opacity=0.5),\n",
    "        row=1,\n",
    "        col=1)\n",
    "\n",
    "    # Plot 3-sigma interval of error model\n",
    "    fig.add_trace(\n",
    "        go.Scatter(\n",
    "            x=predicted_volumes,\n",
    "            y=predicted_volumes + 3 * sigma,\n",
    "            legendgroup=\"Error model\",\n",
    "            name=\"Error model\",\n",
    "            showlegend=False,\n",
    "            visible=True if index == 0 else False,\n",
    "            hovertemplate=\n",
    "                \"<b>Error model: 3-sigma interval</b><br>\" +\n",
    "                \"Hypothetical measurement: %{y:.02f} cm^3<br>\" +\n",
    "                \"Cancer type: Lung cancer (LXF A677)<br>\" +\n",
    "                \"<extra></extra>\",\n",
    "            mode=\"lines\",\n",
    "            line=dict(\n",
    "                color='Black',\n",
    "                width=1),\n",
    "            opacity=0.3),\n",
    "        row=1,\n",
    "        col=1)\n",
    "    fig.add_trace(\n",
    "        go.Scatter(\n",
    "            x=predicted_volumes,\n",
    "            y=predicted_volumes - 3 * sigma,\n",
    "            legendgroup=\"Error model\",\n",
    "            name=\"Error model\",\n",
    "            showlegend=False,\n",
    "            visible=True if index == 0 else False,\n",
    "            hovertemplate=\n",
    "                \"<b>Error model: 3-sigma interval</b><br>\" +\n",
    "                \"Hypothetical measurement: %{y:.02f} cm^3<br>\" +\n",
    "                \"Cancer type: Lung cancer (LXF A677)<br>\" +\n",
    "                \"<extra></extra>\",\n",
    "            mode=\"lines\",\n",
    "            line=dict(\n",
    "                color='Black',\n",
    "                width=1),\n",
    "            opacity=0.3),\n",
    "        row=1,\n",
    "        col=1)\n",
    "\n",
    "    # Plot II: Residuals vs predicted volumes\n",
    "    # Plot residuals versus structural model tumour volume\n",
    "    fig.add_trace(\n",
    "        go.Scatter(\n",
    "            x=predicted_volumes,\n",
    "            y=observed_volumes - predicted_volumes,\n",
    "            legendgroup=\"Measurement\",\n",
    "            name=\"Measurement\",\n",
    "            showlegend=False,\n",
    "            visible=True if index == 0 else False,\n",
    "            hovertemplate=\n",
    "                \"<b>ID: %d</b><br>\" % (id_m) +\n",
    "                \"Structural model: %{x:.02f} cm^3<br>\" +\n",
    "                \"Residual: %{y:.02f} cm^3<br>\" +\n",
    "                \"Cancer type: Lung cancer (LXF A677)<br>\" +\n",
    "                \"<extra></extra>\",\n",
    "            mode=\"markers\",\n",
    "            marker=dict(\n",
    "                symbol='circle',\n",
    "                color=colors[index],\n",
    "                opacity=0.7,\n",
    "                line=dict(color='black', width=1))),\n",
    "        row=2,\n",
    "        col=1)\n",
    "\n",
    "    # Plot median of error model\n",
    "    fig.add_trace(\n",
    "        go.Scatter(\n",
    "            x=predicted_volumes,\n",
    "            y=np.full(shape=len(predicted_volumes), fill_value=0),\n",
    "            legendgroup=\"Error model\",\n",
    "            name=\"Error model\",\n",
    "            showlegend=False,\n",
    "            visible=True if index == 0 else False,\n",
    "            hovertemplate=\n",
    "                \"<b>Error model: Mean</b><br>\" +\n",
    "                \"Hypothetical residual: %{y:.02f} cm^3<br>\" +\n",
    "                \"Cancer type: Lung cancer (LXF A677)<br>\" +\n",
    "                \"<extra></extra>\",\n",
    "            mode=\"lines\",\n",
    "            line=dict(color=colors[index]),\n",
    "            opacity=0.7),\n",
    "        row=2,\n",
    "        col=1)\n",
    "\n",
    "    # Plot 1-sigma interval of error model\n",
    "    fig.add_trace(\n",
    "        go.Scatter(\n",
    "            x=predicted_volumes,\n",
    "            y=np.full(shape=len(predicted_volumes), fill_value=sigma),\n",
    "            legendgroup=\"Error model\",\n",
    "            name=\"Error model\",\n",
    "            showlegend=False,\n",
    "            visible=True if index == 0 else False,\n",
    "            hovertemplate=\n",
    "                \"<b>Error model: 1-sigma interval</b><br>\" +\n",
    "                \"Hypothetical residual: %{y:.02f} cm^3<br>\" +\n",
    "                \"Cancer type: Lung cancer (LXF A677)<br>\" +\n",
    "                \"<extra></extra>\",\n",
    "            mode=\"lines\",\n",
    "            line=dict(\n",
    "                color='Black'),\n",
    "            opacity=0.7),\n",
    "        row=2,\n",
    "        col=1)\n",
    "    fig.add_trace(\n",
    "        go.Scatter(\n",
    "            x=predicted_volumes,\n",
    "            y=np.full(shape=len(predicted_volumes), fill_value=-sigma),\n",
    "            legendgroup=\"Error model\",\n",
    "            name=\"Error model\",\n",
    "            showlegend=False,\n",
    "            visible=True if index == 0 else False,\n",
    "            hovertemplate=\n",
    "                \"<b>Error model: 1-sigma interval</b><br>\" +\n",
    "                \"Hypothetical measurement: %{y:.02f} cm^3<br>\" +\n",
    "                \"Cancer type: Lung cancer (LXF A677)<br>\" +\n",
    "                \"<extra></extra>\",\n",
    "            mode=\"lines\",\n",
    "            line=dict(\n",
    "                color='Black'),\n",
    "            opacity=0.7),\n",
    "        row=2,\n",
    "        col=1)\n",
    "\n",
    "    # Plot 2-sigma interval of error model\n",
    "    fig.add_trace(\n",
    "        go.Scatter(\n",
    "            x=predicted_volumes,\n",
    "            y=np.full(shape=len(predicted_volumes), fill_value=2 * sigma),\n",
    "            legendgroup=\"Error model\",\n",
    "            name=\"Error model\",\n",
    "            showlegend=False,\n",
    "            visible=True if index == 0 else False,\n",
    "            hovertemplate=\n",
    "                \"<b>Error model: 2-sigma interval</b><br>\" +\n",
    "                \"Hypothetical residual: %{y:.02f} cm^3<br>\" +\n",
    "                \"Cancer type: Lung cancer (LXF A677)<br>\" +\n",
    "                \"<extra></extra>\",\n",
    "            mode=\"lines\",\n",
    "            line=dict(\n",
    "                color='Black'),\n",
    "            opacity=0.5),\n",
    "        row=2,\n",
    "        col=1)\n",
    "    fig.add_trace(\n",
    "        go.Scatter(\n",
    "            x=predicted_volumes,\n",
    "            y=np.full(shape=len(predicted_volumes), fill_value=-2 * sigma),\n",
    "            legendgroup=\"Error model\",\n",
    "            name=\"Error model\",\n",
    "            showlegend=False,\n",
    "            visible=True if index == 0 else False,\n",
    "            hovertemplate=\n",
    "                \"<b>Error model: 2-sigma interval</b><br>\" +\n",
    "                \"Hypothetical measurement: %{y:.02f} cm^3<br>\" +\n",
    "                \"Cancer type: Lung cancer (LXF A677)<br>\" +\n",
    "                \"<extra></extra>\",\n",
    "            mode=\"lines\",\n",
    "            line=dict(\n",
    "                color='Black'),\n",
    "            opacity=0.5),\n",
    "        row=2,\n",
    "        col=1)\n",
    "\n",
    "    # Plot 3-sigma interval of error model\n",
    "    fig.add_trace(\n",
    "        go.Scatter(\n",
    "            x=predicted_volumes,\n",
    "            y=np.full(shape=len(predicted_volumes), fill_value=3 * sigma),\n",
    "            legendgroup=\"Error model\",\n",
    "            name=\"Error model\",\n",
    "            showlegend=False,\n",
    "            visible=True if index == 0 else False,\n",
    "            hovertemplate=\n",
    "                \"<b>Error model: 3-sigma interval</b><br>\" +\n",
    "                \"Hypothetical residual: %{y:.02f} cm^3<br>\" +\n",
    "                \"Cancer type: Lung cancer (LXF A677)<br>\" +\n",
    "                \"<extra></extra>\",\n",
    "            mode=\"lines\",\n",
    "            line=dict(\n",
    "                color='Black'),\n",
    "            opacity=0.3),\n",
    "        row=2,\n",
    "        col=1)\n",
    "    fig.add_trace(\n",
    "        go.Scatter(\n",
    "            x=predicted_volumes,\n",
    "            y=np.full(shape=len(predicted_volumes), fill_value=-3 * sigma),\n",
    "            legendgroup=\"Error model\",\n",
    "            name=\"Error model\",\n",
    "            showlegend=False,\n",
    "            visible=True if index == 0 else False,\n",
    "            hovertemplate=\n",
    "                \"<b>Error model: 3-sigma interval</b><br>\" +\n",
    "                \"Hypothetical measurement: %{y:.02f} cm^3<br>\" +\n",
    "                \"Cancer type: Lung cancer (LXF A677)<br>\" +\n",
    "                \"<extra></extra>\",\n",
    "            mode=\"lines\",\n",
    "            line=dict(\n",
    "                color='Black'),\n",
    "            opacity=0.3),\n",
    "        row=2,\n",
    "        col=1)\n",
    "\n",
    "# Set figure size\n",
    "fig.update_layout(\n",
    "    autosize=True,\n",
    "    template=\"plotly_white\")\n",
    "\n",
    "# Set X and Y axes\n",
    "fig.update_xaxes(title_text=r'$\\text{Structural model predictions in cm}^3$', row=2, col=1)\n",
    "fig.update_yaxes(title_text=r'$\\text{Tumour volume in cm}^3$', row=1, col=1)\n",
    "fig.update_yaxes(title_text=r'$\\text{Residuals in cm}^3$', row=2, col=1)\n",
    "\n",
    "\n",
    "# Add switch between mice\n",
    "fig.update_layout(\n",
    "    updatemenus=[\n",
    "        dict(\n",
    "            type = \"buttons\",\n",
    "            direction = \"right\",\n",
    "            buttons=list([\n",
    "                dict(\n",
    "                    args=[{\"visible\": [True]*(8 * 2) + [False]*(8 * 2 * 7)}],\n",
    "                    label=\"ID: %d\" % mouse_ids[0],\n",
    "                    method=\"restyle\"\n",
    "                ),\n",
    "                dict(\n",
    "                    args=[{\"visible\": [False]*(8 * 2) + [True]*(8 * 2) + [False]*(8 * 2 * 6)}],\n",
    "                    label=\"ID: %d\" % mouse_ids[1],\n",
    "                    method=\"restyle\"\n",
    "                ),\n",
    "                dict(\n",
    "                    args=[{\"visible\": [False]*(8 * 2 * 2) + [True]*(8 * 2) + [False]*(8 * 2 * 5)}],\n",
    "                    label=\"ID: %d\" % mouse_ids[2],\n",
    "                    method=\"restyle\"\n",
    "                ),\n",
    "                dict(\n",
    "                    args=[{\"visible\": [False]*(8 * 2 * 3) + [True]*(8 * 2) + [False]*(8 * 2 * 4)}],\n",
    "                    label=\"ID: %d\" % mouse_ids[3],\n",
    "                    method=\"restyle\"\n",
    "                ),\n",
    "                dict(\n",
    "                    args=[{\"visible\": [False]*(8 * 2 * 4) + [True]*(8 * 2) + [False]*(8 * 2 * 3)}],\n",
    "                    label=\"ID: %d\" % mouse_ids[4],\n",
    "                    method=\"restyle\"\n",
    "                ),\n",
    "                dict(\n",
    "                    args=[{\"visible\": [False]*(8 * 2 * 5) + [True]*(8 * 2) + [False]*(8 * 2 * 2)}],\n",
    "                    label=\"ID: %d\" % mouse_ids[5],\n",
    "                    method=\"restyle\"\n",
    "                ),\n",
    "                dict(\n",
    "                    args=[{\"visible\": [False]*(8 * 2 * 6) + [True]*(8 * 2) + [False]*(8 * 2)}],\n",
    "                    label=\"ID: %d\" % mouse_ids[6],\n",
    "                    method=\"restyle\"\n",
    "                ),\n",
    "                dict(\n",
    "                    args=[{\"visible\": [False]*(8 * 2 * 7) + [True]*(8 * 2)}],\n",
    "                    label=\"ID: %d\" % mouse_ids[7],\n",
    "                    method=\"restyle\"\n",
    "                )\n",
    "            ]),\n",
    "            pad={\"r\": 0, \"t\": -10},\n",
    "            showactive=True,\n",
    "            x=0.0,\n",
    "            xanchor=\"left\",\n",
    "            y=1.1,\n",
    "            yanchor=\"top\"\n",
    "        )\n",
    "    ]\n",
    ")\n",
    "\n",
    "# Position legend\n",
    "fig.update_layout(legend=dict(\n",
    "    yanchor=\"bottom\",\n",
    "    y=0.01,\n",
    "    xanchor=\"left\",\n",
    "    x=1.05))\n",
    "\n",
    "# Show figure\n",
    "fig.show()"
   ]
  },
  {
   "cell_type": "markdown",
   "metadata": {},
   "source": [
    "**Figure 3 - :**"
   ]
  },
  {
   "cell_type": "markdown",
   "metadata": {},
   "source": [
    "Discussion:\n",
    "\n",
    "- Correlation? \n",
    "- WAIC\n",
    "- Symmetry test"
   ]
  },
  {
   "cell_type": "markdown",
   "metadata": {},
   "source": []
  },
  {
   "cell_type": "markdown",
   "metadata": {},
   "source": [
    "## Multiplicative Gaussian error model (all mice have their own noise parameter)\n",
    "\n",
    "Explanation"
   ]
  },
  {
   "cell_type": "code",
   "execution_count": 53,
   "metadata": {},
   "outputs": [],
   "source": [
    "#\n",
    "# Implements log-likelihood wrapper that allows fixing `eta` of `pints.MultiplicativeGaussianLogLikelihood`.\n",
    "#\n",
    "\n",
    "import pints\n",
    "\n",
    "class FixedEtaMultiplicativeLogLikelihood(pints.LogPDF):\n",
    "    \"\"\"\n",
    "    Implements log-likelihood wrapper for a `pints.MultiplicativeGaussianLogLikelihood`\n",
    "    that allows fixing `eta`.\n",
    "    \"\"\"\n",
    "\n",
    "    def __init__(self, log_likelihood, eta):\n",
    "        if not isinstance(log_likelihood, pints.MultiplicativeGaussianLogLikelihood):\n",
    "            raise ValueError(\n",
    "                'This likelihood wrapper is only defined for a `pints.MultiplicativeLogLikelihood`.')\n",
    "        if log_likelihood._problem.n_outputs() != 1:\n",
    "            raise ValueError(\n",
    "                'This likelihood wrapper is only defined for a `pints.SingleOutputProblem`.')\n",
    "        \n",
    "        self._log_pdf = log_likelihood\n",
    "        self._eta = eta\n",
    "\n",
    "    def __call__(self, parameters):\n",
    "        # Create parameter container\n",
    "        params = np.empty(shape=len(parameters)+1)\n",
    "\n",
    "        # Fill container with parameters \n",
    "        # (Eta is at second last postion for SingleOutputProblems)\n",
    "        params[:-2] = np.asarray(parameters[:-1])\n",
    "        params[-2] = self._eta\n",
    "        params[-1] = parameters[-1]\n",
    "\n",
    "        return self._log_pdf(params)\n",
    "\n",
    "    def n_parameters(self):\n",
    "        return self._log_pdf.n_parameters() - 1\n"
   ]
  },
  {
   "cell_type": "code",
   "execution_count": 54,
   "metadata": {
    "tags": []
   },
   "outputs": [
    {
     "output_type": "display_data",
     "data": {
      "text/plain": "HBox(children=(FloatProgress(value=0.0, max=8.0), HTML(value='')))",
      "application/vnd.jupyter.widget-view+json": {
       "version_major": 2,
       "version_minor": 0,
       "model_id": "a68671416ef6401abe386b26b215e737"
      }
     },
     "metadata": {}
    },
    {
     "output_type": "stream",
     "name": "stderr",
     "text": "/Users/david/Documents/SABS/DPhil/Rotation 1 - PKPD Modelling Workflow/notebooks/ErlotinibGefitinib/venv/lib/python3.7/site-packages/cma/evolution_strategy.py:3597: RuntimeWarning:\n\ninvalid value encountered in double_scalars\n\n\n"
    }
   ],
   "source": [
    "#\n",
    "# Run optimisation multiple times from random initial starting points.\n",
    "#\n",
    "# This cell needs the above defined wrapped myokit model:\n",
    "# [DimensionlessLogTransformedPintsModel]\n",
    "#\n",
    "\n",
    "import os\n",
    "\n",
    "import myokit\n",
    "import numpy as np\n",
    "import pandas as pd\n",
    "import pints\n",
    "from tqdm.notebook import tqdm\n",
    "\n",
    "import pkpd.likelihoods\n",
    "\n",
    "\n",
    "# Define characteristic scales\n",
    "characteristic_volume = 1  # in cm^3\n",
    "characteristic_time = 1  # in day\n",
    "\n",
    "# Define number of optimisation runs for each individual\n",
    "n_runs = 10\n",
    "\n",
    "# Import data\n",
    "# Get path of current working directory\n",
    "path = os.getcwd()\n",
    "\n",
    "# Import LXF A677 control growth data\n",
    "data = pd.read_csv(path + '/data/lxf_control_growth.csv')\n",
    "n_mice = len(data['#ID'].unique())\n",
    "\n",
    "# Define container for the structural model estimates\n",
    "# Shape (n_mice, n_runs, n_structural_params + n_noise_params)\n",
    "n_structural_params = 3\n",
    "n_noise_params = 1\n",
    "transf_params_multiplicative_noise = np.empty(\n",
    "    shape=(n_mice, n_runs, n_structural_params + n_noise_params))\n",
    "\n",
    "# Define container for the objective function score for the optimised parameters\n",
    "log_posterior_scores_multiplicative_noise = np.empty(shape=(n_mice, n_runs))\n",
    "\n",
    "# Create priors for tranformed parameters\n",
    "log_prior_structural_params = pints.UniformLogPrior(\n",
    "    lower_or_boundaries=np.log([1E-3] * n_structural_params),\n",
    "    upper=np.log([1E3] * n_structural_params))\n",
    "log_prior_sigma = pints.HalfCauchyLogPrior(location=0, scale=1)\n",
    "log_prior = pints.ComposedLogPrior(log_prior_structural_params, log_prior_sigma)\n",
    "\n",
    "# Create inverse problems for the LXF A677 population\n",
    "mouse_ids = data['#ID'].unique()\n",
    "for index, mouse_id in enumerate(tqdm(mouse_ids)):\n",
    "    # Create mask for mouse with specfied ID\n",
    "    mouse_mask = data['#ID'] == mouse_id\n",
    "\n",
    "    # Get relevant time points\n",
    "    times = data[mouse_mask]['TIME in day'].to_numpy() / characteristic_time\n",
    "\n",
    "    # Get measured tumour volumes\n",
    "    observed_volumes = data[mouse_mask]['TUMOUR VOLUME in cm^3'].to_numpy() / characteristic_volume\n",
    "\n",
    "    # Create inverse problem\n",
    "    problem = pints.SingleOutputProblem(\n",
    "        DimensionlessLogTransformedPintsModel(), times, observed_volumes)\n",
    "\n",
    "    # Create likelihood assuming a multiplicative Gaussian noise with fixed eta\n",
    "    log_likelihood = pints.MultiplicativeGaussianLogLikelihood(problem)\n",
    "    log_likelihood = FixedEtaMultiplicativeLogLikelihood(log_likelihood=log_likelihood, eta=1)\n",
    "\n",
    "    # Create posterior\n",
    "    log_posterior = pints.LogPosterior(log_likelihood, log_prior)\n",
    "\n",
    "    # Define initial starting points by sampling from prior\n",
    "    initial_parameters = log_prior.sample(n=n_runs)\n",
    "\n",
    "    # Run optimisation multiple times\n",
    "    for run_id, initial_params in enumerate(initial_parameters):\n",
    "\n",
    "        # Create optimisation controller with a CMA-ES optimiser\n",
    "        optimiser = pints.OptimisationController(\n",
    "            function=log_posterior,\n",
    "            x0=initial_params,\n",
    "            method=pints.CMAES)\n",
    "\n",
    "        # Disable logging mode\n",
    "        optimiser.set_log_to_screen(False)\n",
    "\n",
    "        # Parallelise optimisation\n",
    "        optimiser.set_parallel(True)\n",
    "\n",
    "        # Find optimal parameters\n",
    "        try:\n",
    "            estimates, score = optimiser.run()\n",
    "        except:\n",
    "            # If inference breaks fill estimates with nan\n",
    "            estimates = np.array([np.nan] * (n_structural_params + n_noise_params))\n",
    "            score = np.nan\n",
    "\n",
    "        # Save estimates and score\n",
    "        transf_params_multiplicative_noise[index, run_id, :] = estimates\n",
    "        log_posterior_scores_multiplicative_noise[index, run_id] = score"
   ]
  },
  {
   "cell_type": "code",
   "execution_count": 62,
   "metadata": {},
   "outputs": [],
   "source": [
    "#\n",
    "# Transform parameters to biological parameters (initial tumour volume, critical tumour volume, growth rate, sigma).\n",
    "# \n",
    "# This cell needs the above inferred dimensionless parameters and the characteristic volume and time scale:\n",
    "# [transf_params_multiplicative_noise, characteristic_volume, characteristic_time]\n",
    "#\n",
    "\n",
    "import numpy as np\n",
    "\n",
    "\n",
    "# Initialise container for backtransformed paramters\n",
    "# Shape (n_mice, n_runs, n_parameters)\n",
    "mouse_parameters_multiplicative_noise = np.empty(shape=transf_params_multiplicative_noise.shape)\n",
    "\n",
    "# Transform initial volumes\n",
    "# V_0 = exp(log(v_0)) * V^c\n",
    "mouse_parameters_multiplicative_noise[:, :, 0] = np.exp(transf_params_multiplicative_noise[:, :, 0]) * characteristic_volume\n",
    "\n",
    "# Transform critical volume \n",
    "# V_crit = exp(log(a_0)) * V^c\n",
    "mouse_parameters_multiplicative_noise[:, :, 1] = np.exp(transf_params_multiplicative_noise[:, :, 1]) * characteristic_volume\n",
    "\n",
    "# Transform exponential growth rate\n",
    "# lambda = exp(log(a_1 / a_0) / t^c\n",
    "mouse_parameters_multiplicative_noise[:, :, 2] = \\\n",
    "    np.exp(transf_params_multiplicative_noise[:, :, 2] - transf_params_multiplicative_noise[:, :, 1]) / characteristic_time\n",
    "\n",
    "# Transform sigma\n",
    "# sigma = sigma_dimensionless * V^c\n",
    "mouse_parameters_multiplicative_noise[:, :, 3] = \\\n",
    "    np.exp(transf_params_multiplicative_noise[:, :, 3]) * characteristic_volume"
   ]
  },
  {
   "cell_type": "code",
   "execution_count": 64,
   "metadata": {},
   "outputs": [
    {
     "output_type": "display_data",
     "data": {
      "application/vnd.plotly.v1+json": {
       "config": {
        "plotlyServerURL": "https://plot.ly"
       },
       "data": [
        {
         "boxpoints": "all",
         "jitter": 0.2,
         "line": {
          "color": "#636EFA"
         },
         "marker": {
          "color": "#636EFA",
          "line": {
           "color": "black",
           "width": 1
          },
          "opacity": 0.7,
          "symbol": "circle"
         },
         "name": "Initial tumour volume in cm^3",
         "pointpos": -1.5,
         "type": "box",
         "visible": true,
         "y": [
          0.17571752018598177,
          0.17572646013100016,
          0.17568243926432067,
          0.1760388437637108,
          0.1756771485407221,
          0.17571751546874667,
          0.1757849551725862,
          0.17581538399889377,
          0.17571749024872543,
          0.17571749530982683
         ]
        },
        {
         "boxpoints": "all",
         "jitter": 0.2,
         "line": {
          "color": "#EF553B"
         },
         "marker": {
          "color": "#EF553B",
          "line": {
           "color": "black",
           "width": 1
          },
          "opacity": 0.7,
          "symbol": "circle"
         },
         "name": "Critical volume in cm^3",
         "pointpos": -1.5,
         "type": "box",
         "visible": true,
         "y": [
          0.5861194251732156,
          0.5867642798463286,
          0.5863165841352237,
          0.607882844632955,
          0.5859626587956414,
          0.5861194095968971,
          0.5863255731928386,
          0.5928668345245329,
          0.5861193257897048,
          0.5861193426703892
         ]
        },
        {
         "boxpoints": "all",
         "jitter": 0.2,
         "line": {
          "color": "#00CC96"
         },
         "marker": {
          "color": "#00CC96",
          "line": {
           "color": "black",
           "width": 1
          },
          "opacity": 0.7,
          "symbol": "circle"
         },
         "name": "Exponential growth rate in 1/day",
         "pointpos": -1.5,
         "type": "box",
         "visible": true,
         "y": [
          0.29791039260873287,
          0.29773524619126523,
          0.2977446374426645,
          0.29256115894641355,
          0.29794873118532766,
          0.29791040234010857,
          0.2978333386025223,
          0.29621233318016893,
          0.29791044724456567,
          0.297910425963453
         ]
        },
        {
         "boxpoints": "all",
         "jitter": 0.2,
         "line": {
          "color": "#AB63FA"
         },
         "marker": {
          "color": "#AB63FA",
          "line": {
           "color": "black",
           "width": 1
          },
          "opacity": 0.7,
          "symbol": "circle"
         },
         "name": "Rel. standard deviation in dimless",
         "pointpos": -1.5,
         "type": "box",
         "visible": true,
         "y": [
          1.0864616699003353,
          1.0864649272531757,
          1.0864946565327143,
          1.0864787959814053,
          1.0865283851361207,
          1.0864617132439385,
          1.0864244640561591,
          1.0864689697705008,
          1.0864617198570228,
          1.0864616522901525
         ]
        },
        {
         "boxpoints": "all",
         "jitter": 0.2,
         "line": {
          "color": "#FFA15A"
         },
         "marker": {
          "color": "#FFA15A",
          "line": {
           "color": "black",
           "width": 1
          },
          "opacity": 0.7,
          "symbol": "circle"
         },
         "name": "Unnorm. log-posterior score",
         "pointpos": -1.5,
         "type": "box",
         "visible": true,
         "y": [
          4.575076031105025,
          4.574709089696395,
          4.574490625015557,
          4.573238776714835,
          4.5750543641152515,
          4.575076031108763,
          4.575049471704256,
          4.574276561891891,
          4.575076031097298,
          4.575076031110319
         ]
        },
        {
         "boxpoints": "all",
         "jitter": 0.2,
         "line": {
          "color": "#636EFA"
         },
         "marker": {
          "color": "#636EFA",
          "line": {
           "color": "black",
           "width": 1
          },
          "opacity": 0.7,
          "symbol": "circle"
         },
         "name": "Initial tumour volume in cm^3",
         "pointpos": -1.5,
         "type": "box",
         "visible": false,
         "y": [
          0.07325131522018519,
          0.07325129950481005,
          0.07325130384449247,
          0.07353179267757426,
          0.07325130678950477,
          0.07325130950917594,
          0.07325131490866518,
          0.07325129971063409,
          0.07325130334270928,
          0.07325132274178241
         ]
        },
        {
         "boxpoints": "all",
         "jitter": 0.2,
         "line": {
          "color": "#EF553B"
         },
         "marker": {
          "color": "#EF553B",
          "line": {
           "color": "black",
           "width": 1
          },
          "opacity": 0.7,
          "symbol": "circle"
         },
         "name": "Critical volume in cm^3",
         "pointpos": -1.5,
         "type": "box",
         "visible": false,
         "y": [
          0.05610889519719597,
          0.05610891575571328,
          0.05610887485340997,
          0.06077609251783958,
          0.05610887965174442,
          0.05610883711657817,
          0.05610894874897522,
          0.05610878397799263,
          0.05610886674594688,
          0.056108997023808754
         ]
        },
        {
         "boxpoints": "all",
         "jitter": 0.2,
         "line": {
          "color": "#00CC96"
         },
         "marker": {
          "color": "#00CC96",
          "line": {
           "color": "black",
           "width": 1
          },
          "opacity": 0.7,
          "symbol": "circle"
         },
         "name": "Exponential growth rate in 1/day",
         "pointpos": -1.5,
         "type": "box",
         "visible": false,
         "y": [
          0.3583506397381672,
          0.3583505863909762,
          0.3583507619546653,
          0.3369609269054036,
          0.35835073459278133,
          0.3583509329686451,
          0.3583503804073805,
          0.35835121647614054,
          0.35835080396407504,
          0.35835013355533857
         ]
        },
        {
         "boxpoints": "all",
         "jitter": 0.2,
         "line": {
          "color": "#AB63FA"
         },
         "marker": {
          "color": "#AB63FA",
          "line": {
           "color": "black",
           "width": 1
          },
          "opacity": 0.7,
          "symbol": "circle"
         },
         "name": "Rel. standard deviation in dimless",
         "pointpos": -1.5,
         "type": "box",
         "visible": false,
         "y": [
          1.0742708140528434,
          1.0742708075843848,
          1.0742708296432952,
          1.0743122761290291,
          1.0742708654731543,
          1.0742708700827024,
          1.0742708364537803,
          1.0742708448999483,
          1.0742708493586441,
          1.0742708272365666
         ]
        },
        {
         "boxpoints": "all",
         "jitter": 0.2,
         "line": {
          "color": "#FFA15A"
         },
         "marker": {
          "color": "#FFA15A",
          "line": {
           "color": "black",
           "width": 1
          },
          "opacity": 0.7,
          "symbol": "circle"
         },
         "name": "Unnorm. log-posterior score",
         "pointpos": -1.5,
         "type": "box",
         "visible": false,
         "y": [
          27.81119888209235,
          27.811198882095194,
          27.811198882097084,
          27.80358927293525,
          27.811198882100552,
          27.81119888208614,
          27.811198882086313,
          27.811198882093333,
          27.811198882095653,
          27.811198882086124
         ]
        },
        {
         "boxpoints": "all",
         "jitter": 0.2,
         "line": {
          "color": "#636EFA"
         },
         "marker": {
          "color": "#636EFA",
          "line": {
           "color": "black",
           "width": 1
          },
          "opacity": 0.7,
          "symbol": "circle"
         },
         "name": "Initial tumour volume in cm^3",
         "pointpos": -1.5,
         "type": "box",
         "visible": false,
         "y": [
          0.19716591958403976,
          0.19676937241315606,
          0.19676951543927704,
          0.19676935708097534,
          0.19676974914675702,
          0.1967694607473577,
          0.196769449248423,
          0.1967695416132215,
          0.19676934570527424,
          0.19676948126360194
         ]
        },
        {
         "boxpoints": "all",
         "jitter": 0.2,
         "line": {
          "color": "#EF553B"
         },
         "marker": {
          "color": "#EF553B",
          "line": {
           "color": "black",
           "width": 1
          },
          "opacity": 0.7,
          "symbol": "circle"
         },
         "name": "Critical volume in cm^3",
         "pointpos": -1.5,
         "type": "box",
         "visible": false,
         "y": [
          1.06439376210909,
          1.0427413179459242,
          1.0427420678690054,
          1.042741237662534,
          1.0427432908545669,
          1.0427417817542997,
          1.0427417203254827,
          1.0427422043523047,
          1.042741177559475,
          1.0427418879334065
         ]
        },
        {
         "boxpoints": "all",
         "jitter": 0.2,
         "line": {
          "color": "#00CC96"
         },
         "marker": {
          "color": "#00CC96",
          "line": {
           "color": "black",
           "width": 1
          },
          "opacity": 0.7,
          "symbol": "circle"
         },
         "name": "Exponential growth rate in 1/day",
         "pointpos": -1.5,
         "type": "box",
         "visible": false,
         "y": [
          0.18917477887230724,
          0.19073874640683927,
          0.19073865577708912,
          0.19073883790829702,
          0.19073849780079605,
          0.19073873608305383,
          0.1907387550217476,
          0.1907386061428867,
          0.1907388309137485,
          0.19073864721644848
         ]
        },
        {
         "boxpoints": "all",
         "jitter": 0.2,
         "line": {
          "color": "#AB63FA"
         },
         "marker": {
          "color": "#AB63FA",
          "line": {
           "color": "black",
           "width": 1
          },
          "opacity": 0.7,
          "symbol": "circle"
         },
         "name": "Rel. standard deviation in dimless",
         "pointpos": -1.5,
         "type": "box",
         "visible": false,
         "y": [
          1.1523357496129254,
          1.1523229891304807,
          1.1523230822006016,
          1.1523232165358097,
          1.152323178509568,
          1.1523228232885228,
          1.1523230828880173,
          1.1523230797402089,
          1.1523229619049655,
          1.152323172473429
         ]
        },
        {
         "boxpoints": "all",
         "jitter": 0.2,
         "line": {
          "color": "#FFA15A"
         },
         "marker": {
          "color": "#FFA15A",
          "line": {
           "color": "black",
           "width": 1
          },
          "opacity": 0.7,
          "symbol": "circle"
         },
         "name": "Unnorm. log-posterior score",
         "pointpos": -1.5,
         "type": "box",
         "visible": false,
         "y": [
          0.4997779373486466,
          0.5005599306201489,
          0.5005599306218773,
          0.5005599306031616,
          0.5005599305520487,
          0.5005599306029094,
          0.5005599306512813,
          0.500559930628814,
          0.5005599306654247,
          0.5005599306352551
         ]
        },
        {
         "boxpoints": "all",
         "jitter": 0.2,
         "line": {
          "color": "#636EFA"
         },
         "marker": {
          "color": "#636EFA",
          "line": {
           "color": "black",
           "width": 1
          },
          "opacity": 0.7,
          "symbol": "circle"
         },
         "name": "Initial tumour volume in cm^3",
         "pointpos": -1.5,
         "type": "box",
         "visible": false,
         "y": [
          0.13141563709441992,
          0.13166075857897863,
          0.13150402506456724,
          0.13141561605909358,
          0.13141557012892272,
          0.13152841027637457,
          0.13141557078959956,
          0.13141558774895054,
          0.13151173741263608,
          0.13141558429618713
         ]
        },
        {
         "boxpoints": "all",
         "jitter": 0.2,
         "line": {
          "color": "#EF553B"
         },
         "marker": {
          "color": "#EF553B",
          "line": {
           "color": "black",
           "width": 1
          },
          "opacity": 0.7,
          "symbol": "circle"
         },
         "name": "Critical volume in cm^3",
         "pointpos": -1.5,
         "type": "box",
         "visible": false,
         "y": [
          0.5607525941241183,
          0.5676711807776108,
          0.5670271997164225,
          0.560752506037964,
          0.5607523136807787,
          0.567112069731606,
          0.5607523164236703,
          0.5607523879126438,
          0.561048030086701,
          0.5607523731481227
         ]
        },
        {
         "boxpoints": "all",
         "jitter": 0.2,
         "line": {
          "color": "#00CC96"
         },
         "marker": {
          "color": "#00CC96",
          "line": {
           "color": "black",
           "width": 1
          },
          "opacity": 0.7,
          "symbol": "circle"
         },
         "name": "Exponential growth rate in 1/day",
         "pointpos": -1.5,
         "type": "box",
         "visible": false,
         "y": [
          0.14821431044791955,
          0.14741107453135072,
          0.1475747159949809,
          0.1482143448778648,
          0.14821439117962232,
          0.14754437435383153,
          0.14821438270637963,
          0.14821437551497202,
          0.14811744979491276,
          0.14821440619147555
         ]
        },
        {
         "boxpoints": "all",
         "jitter": 0.2,
         "line": {
          "color": "#AB63FA"
         },
         "marker": {
          "color": "#AB63FA",
          "line": {
           "color": "black",
           "width": 1
          },
          "opacity": 0.7,
          "symbol": "circle"
         },
         "name": "Rel. standard deviation in dimless",
         "pointpos": -1.5,
         "type": "box",
         "visible": false,
         "y": [
          1.0828001292198104,
          1.0829346786668248,
          1.0825010575663632,
          1.082800023590657,
          1.082800028704016,
          1.0828694870041646,
          1.0828000065953134,
          1.082800138061227,
          1.0828264714414975,
          1.0827999599853197
         ]
        },
        {
         "boxpoints": "all",
         "jitter": 0.2,
         "line": {
          "color": "#FFA15A"
         },
         "marker": {
          "color": "#FFA15A",
          "line": {
           "color": "black",
           "width": 1
          },
          "opacity": 0.7,
          "symbol": "circle"
         },
         "name": "Unnorm. log-posterior score",
         "pointpos": -1.5,
         "type": "box",
         "visible": false,
         "y": [
          17.092912602398478,
          17.093581339309843,
          17.09364769776802,
          17.092912602417258,
          17.09291260237319,
          17.093805135762512,
          17.092912602367285,
          17.092912602436503,
          17.092747919399514,
          17.092912602351976
         ]
        },
        {
         "boxpoints": "all",
         "jitter": 0.2,
         "line": {
          "color": "#636EFA"
         },
         "marker": {
          "color": "#636EFA",
          "line": {
           "color": "black",
           "width": 1
          },
          "opacity": 0.7,
          "symbol": "circle"
         },
         "name": "Initial tumour volume in cm^3",
         "pointpos": -1.5,
         "type": "box",
         "visible": false,
         "y": [
          0.10805819232199358,
          0.10805815840017896,
          0.10805819343021672,
          0.10805819448447118,
          0.10805818960489663,
          0.10805819537289797,
          0.1080581990351951,
          0.10805820134849856,
          0.1080582025053751,
          0.10805820189013345
         ]
        },
        {
         "boxpoints": "all",
         "jitter": 0.2,
         "line": {
          "color": "#EF553B"
         },
         "marker": {
          "color": "#EF553B",
          "line": {
           "color": "black",
           "width": 1
          },
          "opacity": 0.7,
          "symbol": "circle"
         },
         "name": "Critical volume in cm^3",
         "pointpos": -1.5,
         "type": "box",
         "visible": false,
         "y": [
          999.9999983875528,
          999.9999993643003,
          999.9999920298064,
          999.9999979433409,
          999.9999990661086,
          999.9999982788174,
          999.999995505253,
          999.9999998338216,
          999.9999997315354,
          999.999999069846
         ]
        },
        {
         "boxpoints": "all",
         "jitter": 0.2,
         "line": {
          "color": "#00CC96"
         },
         "marker": {
          "color": "#00CC96",
          "line": {
           "color": "black",
           "width": 1
          },
          "opacity": 0.7,
          "symbol": "circle"
         },
         "name": "Exponential growth rate in 1/day",
         "pointpos": -1.5,
         "type": "box",
         "visible": false,
         "y": [
          0.09779083102741468,
          0.09779083259456582,
          0.09779083192953468,
          0.09779082727705199,
          0.09779083123077871,
          0.0977908340010652,
          0.09779082776082305,
          0.09779083114591278,
          0.09779082970066129,
          0.09779081994434843
         ]
        },
        {
         "boxpoints": "all",
         "jitter": 0.2,
         "line": {
          "color": "#AB63FA"
         },
         "marker": {
          "color": "#AB63FA",
          "line": {
           "color": "black",
           "width": 1
          },
          "opacity": 0.7,
          "symbol": "circle"
         },
         "name": "Rel. standard deviation in dimless",
         "pointpos": -1.5,
         "type": "box",
         "visible": false,
         "y": [
          1.1705091835228407,
          1.1705092003120443,
          1.170509253908077,
          1.1705091920218735,
          1.1705093012626575,
          1.1705092515684188,
          1.1705091993593502,
          1.1705091890484431,
          1.1705092492890385,
          1.1705093693473594
         ]
        },
        {
         "boxpoints": "all",
         "jitter": 0.2,
         "line": {
          "color": "#FFA15A"
         },
         "marker": {
          "color": "#FFA15A",
          "line": {
           "color": "black",
           "width": 1
          },
          "opacity": 0.7,
          "symbol": "circle"
         },
         "name": "Unnorm. log-posterior score",
         "pointpos": -1.5,
         "type": "box",
         "visible": false,
         "y": [
          8.450188807218385,
          8.450188807191171,
          8.450188807213221,
          8.450188807220561,
          8.450188807216946,
          8.450188807220158,
          8.45018880721385,
          8.45018880721555,
          8.450188807212674,
          8.4501888072071
         ]
        },
        {
         "boxpoints": "all",
         "jitter": 0.2,
         "line": {
          "color": "#636EFA"
         },
         "marker": {
          "color": "#636EFA",
          "line": {
           "color": "black",
           "width": 1
          },
          "opacity": 0.7,
          "symbol": "circle"
         },
         "name": "Initial tumour volume in cm^3",
         "pointpos": -1.5,
         "type": "box",
         "visible": false,
         "y": [
          0.10049195422824467,
          0.10022493642122171,
          0.10009428151903785,
          0.1002382282903909,
          0.10024742139285528,
          0.10024766151051608,
          0.10024602314044108,
          0.10036379029677979,
          0.10026336182203988,
          0.10024650831287302
         ]
        },
        {
         "boxpoints": "all",
         "jitter": 0.2,
         "line": {
          "color": "#EF553B"
         },
         "marker": {
          "color": "#EF553B",
          "line": {
           "color": "black",
           "width": 1
          },
          "opacity": 0.7,
          "symbol": "circle"
         },
         "name": "Critical volume in cm^3",
         "pointpos": -1.5,
         "type": "box",
         "visible": false,
         "y": [
          0.12263766715750565,
          0.12234255413774604,
          0.11820923261828316,
          0.12235797607228706,
          0.12237016065353497,
          0.12225141437765108,
          0.12224930223116899,
          0.12247266374284357,
          0.12234297117779551,
          0.12224992594671798
         ]
        },
        {
         "boxpoints": "all",
         "jitter": 0.2,
         "line": {
          "color": "#00CC96"
         },
         "marker": {
          "color": "#00CC96",
          "line": {
           "color": "black",
           "width": 1
          },
          "opacity": 0.7,
          "symbol": "circle"
         },
         "name": "Exponential growth rate in 1/day",
         "pointpos": -1.5,
         "type": "box",
         "visible": false,
         "y": [
          0.7547140271475424,
          0.7555493895595876,
          0.7763174407053625,
          0.7555869155625892,
          0.7557406536301366,
          0.7564383061551972,
          0.7564504585976941,
          0.7550858529913406,
          0.7562620561081244,
          0.7564471776944781
         ]
        },
        {
         "boxpoints": "all",
         "jitter": 0.2,
         "line": {
          "color": "#AB63FA"
         },
         "marker": {
          "color": "#AB63FA",
          "line": {
           "color": "black",
           "width": 1
          },
          "opacity": 0.7,
          "symbol": "circle"
         },
         "name": "Rel. standard deviation in dimless",
         "pointpos": -1.5,
         "type": "box",
         "visible": false,
         "y": [
          1.1470935469011403,
          1.1472537561758964,
          1.1471583918543613,
          1.1475808183790268,
          1.1475286858641593,
          1.1471376341560267,
          1.1471369129137317,
          1.146932424180671,
          1.1472661046528707,
          1.1471370534233725
         ]
        },
        {
         "boxpoints": "all",
         "jitter": 0.2,
         "line": {
          "color": "#FFA15A"
         },
         "marker": {
          "color": "#FFA15A",
          "line": {
           "color": "black",
           "width": 1
          },
          "opacity": 0.7,
          "symbol": "circle"
         },
         "name": "Unnorm. log-posterior score",
         "pointpos": -1.5,
         "type": "box",
         "visible": false,
         "y": [
          2.029345843059252,
          2.0286513191317805,
          2.0267676809581303,
          2.0286847358637914,
          2.028750238028273,
          2.0285856648651777,
          2.028585676355071,
          2.0296265812447363,
          2.0296070559516455,
          2.0285856746909285
         ]
        },
        {
         "boxpoints": "all",
         "jitter": 0.2,
         "line": {
          "color": "#636EFA"
         },
         "marker": {
          "color": "#636EFA",
          "line": {
           "color": "black",
           "width": 1
          },
          "opacity": 0.7,
          "symbol": "circle"
         },
         "name": "Initial tumour volume in cm^3",
         "pointpos": -1.5,
         "type": "box",
         "visible": false,
         "y": [
          0.12150498813711348,
          0.12150498158687989,
          0.12150499181827365,
          0.1215049866809949,
          0.12150498682554861,
          0.12150499652232662,
          0.12150499180783603,
          0.12150499102759137,
          0.12150498653816226,
          0.12150499023819074
         ]
        },
        {
         "boxpoints": "all",
         "jitter": 0.2,
         "line": {
          "color": "#EF553B"
         },
         "marker": {
          "color": "#EF553B",
          "line": {
           "color": "black",
           "width": 1
          },
          "opacity": 0.7,
          "symbol": "circle"
         },
         "name": "Critical volume in cm^3",
         "pointpos": -1.5,
         "type": "box",
         "visible": false,
         "y": [
          0.6516925339046468,
          0.6516923967837354,
          0.651693027136107,
          0.6516931581951018,
          0.6516928629340961,
          0.6516934473877676,
          0.6516927436799501,
          0.6516928092986991,
          0.6516927177157283,
          0.6516925892727589
         ]
        },
        {
         "boxpoints": "all",
         "jitter": 0.2,
         "line": {
          "color": "#00CC96"
         },
         "marker": {
          "color": "#00CC96",
          "line": {
           "color": "black",
           "width": 1
          },
          "opacity": 0.7,
          "symbol": "circle"
         },
         "name": "Exponential growth rate in 1/day",
         "pointpos": -1.5,
         "type": "box",
         "visible": false,
         "y": [
          0.09366581777833165,
          0.0936658275357118,
          0.09366579310417684,
          0.09366579007024776,
          0.09366580692343034,
          0.09366577448293946,
          0.09366580451390481,
          0.09366580634648457,
          0.09366581109545671,
          0.093665812792165
         ]
        },
        {
         "boxpoints": "all",
         "jitter": 0.2,
         "line": {
          "color": "#AB63FA"
         },
         "marker": {
          "color": "#AB63FA",
          "line": {
           "color": "black",
           "width": 1
          },
          "opacity": 0.7,
          "symbol": "circle"
         },
         "name": "Rel. standard deviation in dimless",
         "pointpos": -1.5,
         "type": "box",
         "visible": false,
         "y": [
          1.043670534429566,
          1.043670543512086,
          1.0436705271219573,
          1.043670539541583,
          1.0436704848875626,
          1.0436705212593742,
          1.0436705285255854,
          1.0436705466116154,
          1.0436705359019627,
          1.0436705556299375
         ]
        },
        {
         "boxpoints": "all",
         "jitter": 0.2,
         "line": {
          "color": "#FFA15A"
         },
         "marker": {
          "color": "#FFA15A",
          "line": {
           "color": "black",
           "width": 1
          },
          "opacity": 0.7,
          "symbol": "circle"
         },
         "name": "Unnorm. log-posterior score",
         "pointpos": -1.5,
         "type": "box",
         "visible": false,
         "y": [
          31.5669156357675,
          31.566915635764435,
          31.566915635773135,
          31.566915635767486,
          31.56691563576431,
          31.5669156357673,
          31.566915635773235,
          31.56691563576552,
          31.566915635776482,
          31.566915635761646
         ]
        },
        {
         "boxpoints": "all",
         "jitter": 0.2,
         "line": {
          "color": "#636EFA"
         },
         "marker": {
          "color": "#636EFA",
          "line": {
           "color": "black",
           "width": 1
          },
          "opacity": 0.7,
          "symbol": "circle"
         },
         "name": "Initial tumour volume in cm^3",
         "pointpos": -1.5,
         "type": "box",
         "visible": false,
         "y": [
          0.08314055955160396,
          0.08314051219326009,
          0.08314058154267123,
          0.08314052238232429,
          0.0831405390675242,
          0.08314053928890869,
          0.08314056867959307,
          0.08314058060685997,
          0.08314054298312333,
          0.08314055490341787
         ]
        },
        {
         "boxpoints": "all",
         "jitter": 0.2,
         "line": {
          "color": "#EF553B"
         },
         "marker": {
          "color": "#EF553B",
          "line": {
           "color": "black",
           "width": 1
          },
          "opacity": 0.7,
          "symbol": "circle"
         },
         "name": "Critical volume in cm^3",
         "pointpos": -1.5,
         "type": "box",
         "visible": false,
         "y": [
          1.0138558472731207,
          1.0138552798132807,
          1.0138561115544518,
          1.013855402489626,
          1.0138556018241354,
          1.0138556051902567,
          1.0138559570496761,
          1.013856099408294,
          1.0138556491203032,
          1.0138557923323817
         ]
        },
        {
         "boxpoints": "all",
         "jitter": 0.2,
         "line": {
          "color": "#00CC96"
         },
         "marker": {
          "color": "#00CC96",
          "line": {
           "color": "black",
           "width": 1
          },
          "opacity": 0.7,
          "symbol": "circle"
         },
         "name": "Exponential growth rate in 1/day",
         "pointpos": -1.5,
         "type": "box",
         "visible": false,
         "y": [
          0.08359547633071482,
          0.08359552024194819,
          0.08359544966561477,
          0.08359550371080503,
          0.08359549543384427,
          0.0835954891197154,
          0.08359548197342676,
          0.08359544596419492,
          0.08359550307950701,
          0.08359546763733905
         ]
        },
        {
         "boxpoints": "all",
         "jitter": 0.2,
         "line": {
          "color": "#AB63FA"
         },
         "marker": {
          "color": "#AB63FA",
          "line": {
           "color": "black",
           "width": 1
          },
          "opacity": 0.7,
          "symbol": "circle"
         },
         "name": "Rel. standard deviation in dimless",
         "pointpos": -1.5,
         "type": "box",
         "visible": false,
         "y": [
          1.0616711903315241,
          1.061671087609843,
          1.0616712033212816,
          1.0616712784308386,
          1.0616712546188574,
          1.0616713309153192,
          1.0616713061992993,
          1.0616713072448922,
          1.0616713370436925,
          1.0616711983454923
         ]
        },
        {
         "boxpoints": "all",
         "jitter": 0.2,
         "line": {
          "color": "#FFA15A"
         },
         "marker": {
          "color": "#FFA15A",
          "line": {
           "color": "black",
           "width": 1
          },
          "opacity": 0.7,
          "symbol": "circle"
         },
         "name": "Unnorm. log-posterior score",
         "pointpos": -1.5,
         "type": "box",
         "visible": false,
         "y": [
          31.428269567299033,
          31.428269567071197,
          31.428269567192437,
          31.428269567264145,
          31.42826956731983,
          31.428269567289433,
          31.428269567247874,
          31.428269567223552,
          31.42826956726536,
          31.428269567235738
         ]
        }
       ],
       "layout": {
        "autosize": true,
        "legend": {
         "x": 1.05,
         "xanchor": "left",
         "y": 0.01,
         "yanchor": "bottom"
        },
        "template": {
         "data": {
          "bar": [
           {
            "error_x": {
             "color": "#2a3f5f"
            },
            "error_y": {
             "color": "#2a3f5f"
            },
            "marker": {
             "line": {
              "color": "white",
              "width": 0.5
             }
            },
            "type": "bar"
           }
          ],
          "barpolar": [
           {
            "marker": {
             "line": {
              "color": "white",
              "width": 0.5
             }
            },
            "type": "barpolar"
           }
          ],
          "carpet": [
           {
            "aaxis": {
             "endlinecolor": "#2a3f5f",
             "gridcolor": "#C8D4E3",
             "linecolor": "#C8D4E3",
             "minorgridcolor": "#C8D4E3",
             "startlinecolor": "#2a3f5f"
            },
            "baxis": {
             "endlinecolor": "#2a3f5f",
             "gridcolor": "#C8D4E3",
             "linecolor": "#C8D4E3",
             "minorgridcolor": "#C8D4E3",
             "startlinecolor": "#2a3f5f"
            },
            "type": "carpet"
           }
          ],
          "choropleth": [
           {
            "colorbar": {
             "outlinewidth": 0,
             "ticks": ""
            },
            "type": "choropleth"
           }
          ],
          "contour": [
           {
            "colorbar": {
             "outlinewidth": 0,
             "ticks": ""
            },
            "colorscale": [
             [
              0,
              "#0d0887"
             ],
             [
              0.1111111111111111,
              "#46039f"
             ],
             [
              0.2222222222222222,
              "#7201a8"
             ],
             [
              0.3333333333333333,
              "#9c179e"
             ],
             [
              0.4444444444444444,
              "#bd3786"
             ],
             [
              0.5555555555555556,
              "#d8576b"
             ],
             [
              0.6666666666666666,
              "#ed7953"
             ],
             [
              0.7777777777777778,
              "#fb9f3a"
             ],
             [
              0.8888888888888888,
              "#fdca26"
             ],
             [
              1,
              "#f0f921"
             ]
            ],
            "type": "contour"
           }
          ],
          "contourcarpet": [
           {
            "colorbar": {
             "outlinewidth": 0,
             "ticks": ""
            },
            "type": "contourcarpet"
           }
          ],
          "heatmap": [
           {
            "colorbar": {
             "outlinewidth": 0,
             "ticks": ""
            },
            "colorscale": [
             [
              0,
              "#0d0887"
             ],
             [
              0.1111111111111111,
              "#46039f"
             ],
             [
              0.2222222222222222,
              "#7201a8"
             ],
             [
              0.3333333333333333,
              "#9c179e"
             ],
             [
              0.4444444444444444,
              "#bd3786"
             ],
             [
              0.5555555555555556,
              "#d8576b"
             ],
             [
              0.6666666666666666,
              "#ed7953"
             ],
             [
              0.7777777777777778,
              "#fb9f3a"
             ],
             [
              0.8888888888888888,
              "#fdca26"
             ],
             [
              1,
              "#f0f921"
             ]
            ],
            "type": "heatmap"
           }
          ],
          "heatmapgl": [
           {
            "colorbar": {
             "outlinewidth": 0,
             "ticks": ""
            },
            "colorscale": [
             [
              0,
              "#0d0887"
             ],
             [
              0.1111111111111111,
              "#46039f"
             ],
             [
              0.2222222222222222,
              "#7201a8"
             ],
             [
              0.3333333333333333,
              "#9c179e"
             ],
             [
              0.4444444444444444,
              "#bd3786"
             ],
             [
              0.5555555555555556,
              "#d8576b"
             ],
             [
              0.6666666666666666,
              "#ed7953"
             ],
             [
              0.7777777777777778,
              "#fb9f3a"
             ],
             [
              0.8888888888888888,
              "#fdca26"
             ],
             [
              1,
              "#f0f921"
             ]
            ],
            "type": "heatmapgl"
           }
          ],
          "histogram": [
           {
            "marker": {
             "colorbar": {
              "outlinewidth": 0,
              "ticks": ""
             }
            },
            "type": "histogram"
           }
          ],
          "histogram2d": [
           {
            "colorbar": {
             "outlinewidth": 0,
             "ticks": ""
            },
            "colorscale": [
             [
              0,
              "#0d0887"
             ],
             [
              0.1111111111111111,
              "#46039f"
             ],
             [
              0.2222222222222222,
              "#7201a8"
             ],
             [
              0.3333333333333333,
              "#9c179e"
             ],
             [
              0.4444444444444444,
              "#bd3786"
             ],
             [
              0.5555555555555556,
              "#d8576b"
             ],
             [
              0.6666666666666666,
              "#ed7953"
             ],
             [
              0.7777777777777778,
              "#fb9f3a"
             ],
             [
              0.8888888888888888,
              "#fdca26"
             ],
             [
              1,
              "#f0f921"
             ]
            ],
            "type": "histogram2d"
           }
          ],
          "histogram2dcontour": [
           {
            "colorbar": {
             "outlinewidth": 0,
             "ticks": ""
            },
            "colorscale": [
             [
              0,
              "#0d0887"
             ],
             [
              0.1111111111111111,
              "#46039f"
             ],
             [
              0.2222222222222222,
              "#7201a8"
             ],
             [
              0.3333333333333333,
              "#9c179e"
             ],
             [
              0.4444444444444444,
              "#bd3786"
             ],
             [
              0.5555555555555556,
              "#d8576b"
             ],
             [
              0.6666666666666666,
              "#ed7953"
             ],
             [
              0.7777777777777778,
              "#fb9f3a"
             ],
             [
              0.8888888888888888,
              "#fdca26"
             ],
             [
              1,
              "#f0f921"
             ]
            ],
            "type": "histogram2dcontour"
           }
          ],
          "mesh3d": [
           {
            "colorbar": {
             "outlinewidth": 0,
             "ticks": ""
            },
            "type": "mesh3d"
           }
          ],
          "parcoords": [
           {
            "line": {
             "colorbar": {
              "outlinewidth": 0,
              "ticks": ""
             }
            },
            "type": "parcoords"
           }
          ],
          "pie": [
           {
            "automargin": true,
            "type": "pie"
           }
          ],
          "scatter": [
           {
            "marker": {
             "colorbar": {
              "outlinewidth": 0,
              "ticks": ""
             }
            },
            "type": "scatter"
           }
          ],
          "scatter3d": [
           {
            "line": {
             "colorbar": {
              "outlinewidth": 0,
              "ticks": ""
             }
            },
            "marker": {
             "colorbar": {
              "outlinewidth": 0,
              "ticks": ""
             }
            },
            "type": "scatter3d"
           }
          ],
          "scattercarpet": [
           {
            "marker": {
             "colorbar": {
              "outlinewidth": 0,
              "ticks": ""
             }
            },
            "type": "scattercarpet"
           }
          ],
          "scattergeo": [
           {
            "marker": {
             "colorbar": {
              "outlinewidth": 0,
              "ticks": ""
             }
            },
            "type": "scattergeo"
           }
          ],
          "scattergl": [
           {
            "marker": {
             "colorbar": {
              "outlinewidth": 0,
              "ticks": ""
             }
            },
            "type": "scattergl"
           }
          ],
          "scattermapbox": [
           {
            "marker": {
             "colorbar": {
              "outlinewidth": 0,
              "ticks": ""
             }
            },
            "type": "scattermapbox"
           }
          ],
          "scatterpolar": [
           {
            "marker": {
             "colorbar": {
              "outlinewidth": 0,
              "ticks": ""
             }
            },
            "type": "scatterpolar"
           }
          ],
          "scatterpolargl": [
           {
            "marker": {
             "colorbar": {
              "outlinewidth": 0,
              "ticks": ""
             }
            },
            "type": "scatterpolargl"
           }
          ],
          "scatterternary": [
           {
            "marker": {
             "colorbar": {
              "outlinewidth": 0,
              "ticks": ""
             }
            },
            "type": "scatterternary"
           }
          ],
          "surface": [
           {
            "colorbar": {
             "outlinewidth": 0,
             "ticks": ""
            },
            "colorscale": [
             [
              0,
              "#0d0887"
             ],
             [
              0.1111111111111111,
              "#46039f"
             ],
             [
              0.2222222222222222,
              "#7201a8"
             ],
             [
              0.3333333333333333,
              "#9c179e"
             ],
             [
              0.4444444444444444,
              "#bd3786"
             ],
             [
              0.5555555555555556,
              "#d8576b"
             ],
             [
              0.6666666666666666,
              "#ed7953"
             ],
             [
              0.7777777777777778,
              "#fb9f3a"
             ],
             [
              0.8888888888888888,
              "#fdca26"
             ],
             [
              1,
              "#f0f921"
             ]
            ],
            "type": "surface"
           }
          ],
          "table": [
           {
            "cells": {
             "fill": {
              "color": "#EBF0F8"
             },
             "line": {
              "color": "white"
             }
            },
            "header": {
             "fill": {
              "color": "#C8D4E3"
             },
             "line": {
              "color": "white"
             }
            },
            "type": "table"
           }
          ]
         },
         "layout": {
          "annotationdefaults": {
           "arrowcolor": "#2a3f5f",
           "arrowhead": 0,
           "arrowwidth": 1
          },
          "coloraxis": {
           "colorbar": {
            "outlinewidth": 0,
            "ticks": ""
           }
          },
          "colorscale": {
           "diverging": [
            [
             0,
             "#8e0152"
            ],
            [
             0.1,
             "#c51b7d"
            ],
            [
             0.2,
             "#de77ae"
            ],
            [
             0.3,
             "#f1b6da"
            ],
            [
             0.4,
             "#fde0ef"
            ],
            [
             0.5,
             "#f7f7f7"
            ],
            [
             0.6,
             "#e6f5d0"
            ],
            [
             0.7,
             "#b8e186"
            ],
            [
             0.8,
             "#7fbc41"
            ],
            [
             0.9,
             "#4d9221"
            ],
            [
             1,
             "#276419"
            ]
           ],
           "sequential": [
            [
             0,
             "#0d0887"
            ],
            [
             0.1111111111111111,
             "#46039f"
            ],
            [
             0.2222222222222222,
             "#7201a8"
            ],
            [
             0.3333333333333333,
             "#9c179e"
            ],
            [
             0.4444444444444444,
             "#bd3786"
            ],
            [
             0.5555555555555556,
             "#d8576b"
            ],
            [
             0.6666666666666666,
             "#ed7953"
            ],
            [
             0.7777777777777778,
             "#fb9f3a"
            ],
            [
             0.8888888888888888,
             "#fdca26"
            ],
            [
             1,
             "#f0f921"
            ]
           ],
           "sequentialminus": [
            [
             0,
             "#0d0887"
            ],
            [
             0.1111111111111111,
             "#46039f"
            ],
            [
             0.2222222222222222,
             "#7201a8"
            ],
            [
             0.3333333333333333,
             "#9c179e"
            ],
            [
             0.4444444444444444,
             "#bd3786"
            ],
            [
             0.5555555555555556,
             "#d8576b"
            ],
            [
             0.6666666666666666,
             "#ed7953"
            ],
            [
             0.7777777777777778,
             "#fb9f3a"
            ],
            [
             0.8888888888888888,
             "#fdca26"
            ],
            [
             1,
             "#f0f921"
            ]
           ]
          },
          "colorway": [
           "#636efa",
           "#EF553B",
           "#00cc96",
           "#ab63fa",
           "#FFA15A",
           "#19d3f3",
           "#FF6692",
           "#B6E880",
           "#FF97FF",
           "#FECB52"
          ],
          "font": {
           "color": "#2a3f5f"
          },
          "geo": {
           "bgcolor": "white",
           "lakecolor": "white",
           "landcolor": "white",
           "showlakes": true,
           "showland": true,
           "subunitcolor": "#C8D4E3"
          },
          "hoverlabel": {
           "align": "left"
          },
          "hovermode": "closest",
          "mapbox": {
           "style": "light"
          },
          "paper_bgcolor": "white",
          "plot_bgcolor": "white",
          "polar": {
           "angularaxis": {
            "gridcolor": "#EBF0F8",
            "linecolor": "#EBF0F8",
            "ticks": ""
           },
           "bgcolor": "white",
           "radialaxis": {
            "gridcolor": "#EBF0F8",
            "linecolor": "#EBF0F8",
            "ticks": ""
           }
          },
          "scene": {
           "xaxis": {
            "backgroundcolor": "white",
            "gridcolor": "#DFE8F3",
            "gridwidth": 2,
            "linecolor": "#EBF0F8",
            "showbackground": true,
            "ticks": "",
            "zerolinecolor": "#EBF0F8"
           },
           "yaxis": {
            "backgroundcolor": "white",
            "gridcolor": "#DFE8F3",
            "gridwidth": 2,
            "linecolor": "#EBF0F8",
            "showbackground": true,
            "ticks": "",
            "zerolinecolor": "#EBF0F8"
           },
           "zaxis": {
            "backgroundcolor": "white",
            "gridcolor": "#DFE8F3",
            "gridwidth": 2,
            "linecolor": "#EBF0F8",
            "showbackground": true,
            "ticks": "",
            "zerolinecolor": "#EBF0F8"
           }
          },
          "shapedefaults": {
           "line": {
            "color": "#2a3f5f"
           }
          },
          "ternary": {
           "aaxis": {
            "gridcolor": "#DFE8F3",
            "linecolor": "#A2B1C6",
            "ticks": ""
           },
           "baxis": {
            "gridcolor": "#DFE8F3",
            "linecolor": "#A2B1C6",
            "ticks": ""
           },
           "bgcolor": "white",
           "caxis": {
            "gridcolor": "#DFE8F3",
            "linecolor": "#A2B1C6",
            "ticks": ""
           }
          },
          "title": {
           "x": 0.05
          },
          "xaxis": {
           "automargin": true,
           "gridcolor": "#EBF0F8",
           "linecolor": "#EBF0F8",
           "ticks": "",
           "title": {
            "standoff": 15
           },
           "zerolinecolor": "#EBF0F8",
           "zerolinewidth": 2
          },
          "yaxis": {
           "automargin": true,
           "gridcolor": "#EBF0F8",
           "linecolor": "#EBF0F8",
           "ticks": "",
           "title": {
            "standoff": 15
           },
           "zerolinecolor": "#EBF0F8",
           "zerolinewidth": 2
          }
         }
        },
        "updatemenus": [
         {
          "buttons": [
           {
            "args": [
             {
              "visible": [
               true,
               true,
               true,
               true,
               true,
               false,
               false,
               false,
               false,
               false,
               false,
               false,
               false,
               false,
               false,
               false,
               false,
               false,
               false,
               false,
               false,
               false,
               false,
               false,
               false,
               false,
               false,
               false,
               false,
               false,
               false,
               false,
               false,
               false,
               false,
               false,
               false,
               false,
               false,
               false
              ]
             }
            ],
            "label": "ID: 40",
            "method": "restyle"
           },
           {
            "args": [
             {
              "visible": [
               false,
               false,
               false,
               false,
               false,
               true,
               true,
               true,
               true,
               true,
               false,
               false,
               false,
               false,
               false,
               false,
               false,
               false,
               false,
               false,
               false,
               false,
               false,
               false,
               false,
               false,
               false,
               false,
               false,
               false,
               false,
               false,
               false,
               false,
               false,
               false,
               false,
               false,
               false,
               false
              ]
             }
            ],
            "label": "ID: 94",
            "method": "restyle"
           },
           {
            "args": [
             {
              "visible": [
               false,
               false,
               false,
               false,
               false,
               false,
               false,
               false,
               false,
               false,
               true,
               true,
               true,
               true,
               true,
               false,
               false,
               false,
               false,
               false,
               false,
               false,
               false,
               false,
               false,
               false,
               false,
               false,
               false,
               false,
               false,
               false,
               false,
               false,
               false,
               false,
               false,
               false,
               false,
               false
              ]
             }
            ],
            "label": "ID: 95",
            "method": "restyle"
           },
           {
            "args": [
             {
              "visible": [
               false,
               false,
               false,
               false,
               false,
               false,
               false,
               false,
               false,
               false,
               false,
               false,
               false,
               false,
               false,
               true,
               true,
               true,
               true,
               true,
               false,
               false,
               false,
               false,
               false,
               false,
               false,
               false,
               false,
               false,
               false,
               false,
               false,
               false,
               false,
               false,
               false,
               false,
               false,
               false
              ]
             }
            ],
            "label": "ID: 136",
            "method": "restyle"
           },
           {
            "args": [
             {
              "visible": [
               false,
               false,
               false,
               false,
               false,
               false,
               false,
               false,
               false,
               false,
               false,
               false,
               false,
               false,
               false,
               false,
               false,
               false,
               false,
               false,
               true,
               true,
               true,
               true,
               true,
               false,
               false,
               false,
               false,
               false,
               false,
               false,
               false,
               false,
               false,
               false,
               false,
               false,
               false,
               false
              ]
             }
            ],
            "label": "ID: 140",
            "method": "restyle"
           },
           {
            "args": [
             {
              "visible": [
               false,
               false,
               false,
               false,
               false,
               false,
               false,
               false,
               false,
               false,
               false,
               false,
               false,
               false,
               false,
               false,
               false,
               false,
               false,
               false,
               false,
               false,
               false,
               false,
               false,
               true,
               true,
               true,
               true,
               true,
               false,
               false,
               false,
               false,
               false,
               false,
               false,
               false,
               false,
               false
              ]
             }
            ],
            "label": "ID: 155",
            "method": "restyle"
           },
           {
            "args": [
             {
              "visible": [
               false,
               false,
               false,
               false,
               false,
               false,
               false,
               false,
               false,
               false,
               false,
               false,
               false,
               false,
               false,
               false,
               false,
               false,
               false,
               false,
               false,
               false,
               false,
               false,
               false,
               false,
               false,
               false,
               false,
               false,
               true,
               true,
               true,
               true,
               true,
               false,
               false,
               false,
               false,
               false
              ]
             }
            ],
            "label": "ID: 169",
            "method": "restyle"
           },
           {
            "args": [
             {
              "visible": [
               false,
               false,
               false,
               false,
               false,
               false,
               false,
               false,
               false,
               false,
               false,
               false,
               false,
               false,
               false,
               false,
               false,
               false,
               false,
               false,
               false,
               false,
               false,
               false,
               false,
               false,
               false,
               false,
               false,
               false,
               false,
               false,
               false,
               false,
               false,
               true,
               true,
               true,
               true,
               true
              ]
             }
            ],
            "label": "ID: 170",
            "method": "restyle"
           }
          ],
          "direction": "right",
          "pad": {
           "r": 0,
           "t": -10
          },
          "showactive": true,
          "type": "buttons",
          "x": 0,
          "xanchor": "left",
          "y": 1.1,
          "yanchor": "top"
         }
        ]
       }
      }
     },
     "metadata": {}
    }
   ],
   "source": [
    "#\n",
    "# Visualisation of the spread of optimised model parameters for multiple runs from different initial points.\n",
    "#\n",
    "# This cell needs the above optimised parameters, and their respective objective function scores, as well as the data\n",
    "# [mouse_parameters_multiplicative_noise, log_posterior_scores_multiplicative_noise, data]\n",
    "#\n",
    "\n",
    "import plotly.colors\n",
    "import plotly.graph_objects as go\n",
    "\n",
    "\n",
    "# Get mouse ids\n",
    "mouse_ids = data['#ID'].unique()\n",
    "\n",
    "# Get number of parameters + score (for visualisation)\n",
    "n_params = mouse_parameters.shape[2] + 1\n",
    "\n",
    "# Define colorscheme\n",
    "colors = plotly.colors.qualitative.Plotly[:n_params]\n",
    "\n",
    "# Get optimised parameters\n",
    "optimised_parameters = mouse_parameters_multiplicative_noise\n",
    "\n",
    "# Get optimised parameters\n",
    "scores = log_posterior_scores_multiplicative_noise\n",
    "\n",
    "# Create figure\n",
    "fig = go.Figure()\n",
    "\n",
    "# Box plot of optimised model parameters\n",
    "for index, id_m in enumerate(mouse_ids):\n",
    "    # Get optimised parameters\n",
    "    parameters = optimised_parameters[index, ...]\n",
    "\n",
    "    # Get scores\n",
    "    score = scores[index, :]\n",
    "\n",
    "    # Create box plot of for initial tumour volume\n",
    "    fig.add_trace(\n",
    "        go.Box(\n",
    "            y=parameters[:, 0],  \n",
    "            name=\"Initial tumour volume in cm^3\",\n",
    "            boxpoints='all',\n",
    "            jitter=0.2,\n",
    "            pointpos=-1.5,\n",
    "            visible=True if index == 0 else False,\n",
    "            marker=dict(\n",
    "                symbol='circle',\n",
    "                opacity=0.7,\n",
    "                line=dict(color='black', width=1)),\n",
    "            marker_color=colors[0],\n",
    "            line_color=colors[0]))\n",
    "\n",
    "    # Create box plot for critical volume\n",
    "    fig.add_trace(\n",
    "        go.Box(\n",
    "            y=parameters[:, 1],  \n",
    "            name=\"Critical volume in cm^3\",\n",
    "            boxpoints='all',\n",
    "            jitter=0.2,\n",
    "            pointpos=-1.5,\n",
    "            visible=True if index == 0 else False,\n",
    "            marker=dict(\n",
    "                symbol='circle',\n",
    "                opacity=0.7,\n",
    "                line=dict(color='black', width=1)),\n",
    "            marker_color=colors[1],\n",
    "            line_color=colors[1]))\n",
    "\n",
    "    # Create box plot of for exponential tumour growth\n",
    "    fig.add_trace(\n",
    "        go.Box(\n",
    "            y=parameters[:, 2],  \n",
    "            name=\"Exponential growth rate in 1/day\",\n",
    "            boxpoints='all',\n",
    "            jitter=0.2,\n",
    "            pointpos=-1.5,\n",
    "            visible=True if index == 0 else False,\n",
    "            marker=dict(\n",
    "                symbol='circle',\n",
    "                opacity=0.7,\n",
    "                line=dict(color='black', width=1)),\n",
    "            marker_color=colors[2],\n",
    "            line_color=colors[2]))\n",
    "\n",
    "    # Create box plot for sigma\n",
    "    fig.add_trace(\n",
    "        go.Box(\n",
    "            y=parameters[:, 3],  \n",
    "            name=\"Rel. standard deviation in dimless\",\n",
    "            boxpoints='all',\n",
    "            jitter=0.2,\n",
    "            pointpos=-1.5,\n",
    "            visible=True if index == 0 else False,\n",
    "            marker=dict(\n",
    "                symbol='circle',\n",
    "                opacity=0.7,\n",
    "                line=dict(color='black', width=1)),\n",
    "            marker_color=colors[3],\n",
    "            line_color=colors[3]))\n",
    "    \n",
    "    # Create box plot of for objective function score\n",
    "    fig.add_trace(\n",
    "        go.Box(\n",
    "            y=score,  \n",
    "            name=\"Unnorm. log-posterior score\",\n",
    "            boxpoints='all',\n",
    "            jitter=0.2,\n",
    "            pointpos=-1.5,\n",
    "            visible=True if index == 0 else False,\n",
    "            marker=dict(\n",
    "                symbol='circle',\n",
    "                opacity=0.7,\n",
    "                line=dict(color='black', width=1)),\n",
    "            marker_color=colors[4],\n",
    "            line_color=colors[4]))\n",
    "\n",
    "# Set figure size\n",
    "fig.update_layout(\n",
    "    autosize=True,\n",
    "    template=\"plotly_white\")\n",
    "\n",
    "# Add switch between mice\n",
    "fig.update_layout(\n",
    "    updatemenus=[\n",
    "        dict(\n",
    "            type = \"buttons\",\n",
    "            direction = \"right\",\n",
    "            buttons=list([\n",
    "                dict(\n",
    "                    args=[{\"visible\": [True]*5 + [False]*(5 * 7)}],\n",
    "                    label=\"ID: %d\" % mouse_ids[0],\n",
    "                    method=\"restyle\"\n",
    "                ),\n",
    "                dict(\n",
    "                    args=[{\"visible\": [False]*5 + [True]*5 + [False]*(5 * 6)}],\n",
    "                    label=\"ID: %d\" % mouse_ids[1],\n",
    "                    method=\"restyle\"\n",
    "                ),\n",
    "                dict(\n",
    "                    args=[{\"visible\": [False]*(5 * 2) + [True]*5 + [False]*(5 * 5)}],\n",
    "                    label=\"ID: %d\" % mouse_ids[2],\n",
    "                    method=\"restyle\"\n",
    "                ),\n",
    "                dict(\n",
    "                    args=[{\"visible\": [False]*(5 * 3) + [True]*5 + [False]*(5 * 4)}],\n",
    "                    label=\"ID: %d\" % mouse_ids[3],\n",
    "                    method=\"restyle\"\n",
    "                ),\n",
    "                dict(\n",
    "                    args=[{\"visible\": [False]*(5 * 4) + [True]*5 + [False]*(5 * 3)}],\n",
    "                    label=\"ID: %d\" % mouse_ids[4],\n",
    "                    method=\"restyle\"\n",
    "                ),\n",
    "                dict(\n",
    "                    args=[{\"visible\": [False]*(5 * 5) + [True]*5 + [False]*(5 * 2)}],\n",
    "                    label=\"ID: %d\" % mouse_ids[5],\n",
    "                    method=\"restyle\"\n",
    "                ),\n",
    "                dict(\n",
    "                    args=[{\"visible\": [False]*(5 * 6) + [True]*5 + [False]* 5}],\n",
    "                    label=\"ID: %d\" % mouse_ids[6],\n",
    "                    method=\"restyle\"\n",
    "                ),\n",
    "                dict(\n",
    "                    args=[{\"visible\": [False]*(5 * 7) + [True]*5}],\n",
    "                    label=\"ID: %d\" % mouse_ids[7],\n",
    "                    method=\"restyle\"\n",
    "                )\n",
    "            ]),\n",
    "            pad={\"r\": 0, \"t\": -10},\n",
    "            showactive=True,\n",
    "            x=0.0,\n",
    "            xanchor=\"left\",\n",
    "            y=1.1,\n",
    "            yanchor=\"top\"\n",
    "        )\n",
    "    ]\n",
    ")\n",
    "\n",
    "# Position legend\n",
    "fig.update_layout(legend=dict(\n",
    "    yanchor=\"bottom\",\n",
    "    y=0.01,\n",
    "    xanchor=\"left\",\n",
    "    x=1.05))\n",
    "\n",
    "# Show figure\n",
    "fig.show()\n"
   ]
  },
  {
   "cell_type": "markdown",
   "metadata": {},
   "source": [
    "**Figure 4 - :**"
   ]
  },
  {
   "cell_type": "markdown",
   "metadata": {},
   "source": [
    "### Visual check"
   ]
  },
  {
   "cell_type": "code",
   "execution_count": 67,
   "metadata": {},
   "outputs": [],
   "source": [
    "#\n",
    "# Compute structural model predictions for each mouse.\n",
    "#\n",
    "# This cell needs the above optimised (non-dimensional) model parameters, the number of structural model parameters, and the characteristic time and volume scale:\n",
    "# [transf_params_multiplicative_noise, n_structural_params, characteristic_time, characteristic_volume]\n",
    "#\n",
    "\n",
    "import os\n",
    "\n",
    "import numpy as np\n",
    "import pandas as pd\n",
    "\n",
    "\n",
    "# Import data\n",
    "# Get path of current working directory\n",
    "path = os.getcwd()\n",
    "\n",
    "# Import LXF A677 control growth data\n",
    "data = pd.read_csv(path + '/data/lxf_control_growth.csv')\n",
    "\n",
    "# Get mouse IDs and times\n",
    "mouse_ids_and_times = data[['#ID', 'TIME in day']]\n",
    "\n",
    "# Get median parameters for each mouse\n",
    "median_parameters_multiplicative_noise = np.median(\n",
    "    transf_params_multiplicative_noise, axis=1)\n",
    "\n",
    "# Instantiate model\n",
    "model = DimensionlessLogTransformedPintsModel()\n",
    "\n",
    "# Create container for simulated synthesised data\n",
    "structural_model_predictions_multiplicative_noise = []\n",
    "\n",
    "# Simulate \"noise-free\" data\n",
    "mouse_ids = mouse_ids_and_times['#ID'].unique()\n",
    "for index, mouse_id in enumerate(mouse_ids):\n",
    "    # Create mask for mouse\n",
    "    mask = mouse_ids_and_times['#ID'] == mouse_id\n",
    "\n",
    "    # Get times\n",
    "    times = mouse_ids_and_times[mask]['TIME in day'].to_numpy() / characteristic_time\n",
    "\n",
    "    # Get parameters\n",
    "    parameters = median_parameters_multiplicative_noise[index, :n_structural_params]\n",
    "\n",
    "    # Predict volumes\n",
    "    predicted_volumes = model.simulate(parameters, times) * characteristic_volume\n",
    "\n",
    "    # Save dataframe\n",
    "    df = pd.DataFrame({\n",
    "        '#ID': mouse_ids_and_times[mask]['#ID'],\n",
    "        'TIME in day': mouse_ids_and_times[mask]['TIME in day'],\n",
    "        'PREDICTED TUMOUR VOLUME in cm^3': predicted_volumes})\n",
    "    structural_model_predictions_multiplicative_noise.append(df)\n",
    "\n",
    "# Merge mouse dataframes to one dataframe\n",
    "structural_model_predictions_multiplicative_noise = pd.concat(\n",
    "    structural_model_predictions_multiplicative_noise)"
   ]
  },
  {
   "cell_type": "code",
   "execution_count": 68,
   "metadata": {},
   "outputs": [
    {
     "output_type": "display_data",
     "data": {
      "application/vnd.plotly.v1+json": {
       "config": {
        "plotlyServerURL": "https://plot.ly"
       },
       "data": [
        {
         "hovertemplate": "<b>ID: 40</b><br>Structural model: %{x:.02f} cm^3<br>Measurement: %{y:.02f} cm^3<br>Cancer type: Lung cancer (LXF A677)<br><extra></extra>",
         "legendgroup": "Measurement",
         "marker": {
          "color": "#636EFA",
          "line": {
           "color": "black",
           "width": 1
          },
          "opacity": 0.7,
          "symbol": "circle"
         },
         "mode": "markers",
         "name": "Measurement",
         "showlegend": true,
         "type": "scatter",
         "visible": true,
         "x": [
          0.17571751782736422,
          0.2710353357554181,
          0.39677691285759736,
          0.6400761107880015,
          0.8340717809666407,
          1.0490391431193093,
          1.4028119361109825,
          1.655166779944638,
          1.9180671696514835,
          2.328406508661116
         ],
         "xaxis": "x",
         "y": [
          0.191808,
          0.249158,
          0.330672,
          0.6683669999999999,
          0.915008,
          1.119258,
          1.470432,
          1.6692479999999998,
          1.7521919999999997,
          2.276736
         ],
         "yaxis": "y"
        },
        {
         "hovertemplate": "<b>Error model: Mean</b><br>Hypothetical measurement: %{y:.02f} cm^3<br>Cancer type: Lung cancer (LXF A677)<br><extra></extra>",
         "legendgroup": "Error model",
         "line": {
          "color": "#636EFA"
         },
         "mode": "lines",
         "name": "Error model",
         "opacity": 0.7,
         "showlegend": true,
         "type": "scatter",
         "visible": true,
         "x": [
          0.17571751782736422,
          0.2710353357554181,
          0.39677691285759736,
          0.6400761107880015,
          0.8340717809666407,
          1.0490391431193093,
          1.4028119361109825,
          1.655166779944638,
          1.9180671696514835,
          2.328406508661116
         ],
         "xaxis": "x",
         "y": [
          0.17571751782736422,
          0.2710353357554181,
          0.39677691285759736,
          0.6400761107880015,
          0.8340717809666407,
          1.0490391431193093,
          1.4028119361109825,
          1.655166779944638,
          1.9180671696514835,
          2.328406508661116
         ],
         "yaxis": "y"
        },
        {
         "hovertemplate": "<b>Error model: 1-sigma interval</b><br>Hypothetical measurement: %{y:.02f} cm^3<br>Cancer type: Lung cancer (LXF A677)<br><extra></extra>",
         "legendgroup": "Error model",
         "line": {
          "color": "Black"
         },
         "mode": "lines",
         "name": "Error model",
         "opacity": 0.7,
         "showlegend": false,
         "type": "scatter",
         "visible": true,
         "x": [
          0.17571751782736422,
          0.2710353357554181,
          0.39677691285759736,
          0.6400761107880015,
          0.8340717809666407,
          1.0490391431193093,
          1.4028119361109825,
          1.655166779944638,
          1.9180671696514835,
          2.328406508661116
         ],
         "xaxis": "x",
         "y": [
          0.190289378612536,
          0.29351169001606997,
          0.4296807349034535,
          0.6931561912127687,
          0.9032394884744772,
          1.1360336132252942,
          1.5191439927751884,
          1.792426059450795,
          2.077128190535181,
          2.5214960532609427
         ],
         "yaxis": "y"
        },
        {
         "hovertemplate": "<b>Error model: 1-sigma interval</b><br>Hypothetical measurement: %{y:.02f} cm^3<br>Cancer type: Lung cancer (LXF A677)<br><extra></extra>",
         "legendgroup": "Error model",
         "line": {
          "color": "Black"
         },
         "mode": "lines",
         "name": "Error model",
         "opacity": 0.7,
         "showlegend": false,
         "type": "scatter",
         "visible": true,
         "x": [
          0.17571751782736422,
          0.2710353357554181,
          0.39677691285759736,
          0.6400761107880015,
          0.8340717809666407,
          1.0490391431193093,
          1.4028119361109825,
          1.655166779944638,
          1.9180671696514835,
          2.328406508661116
         ],
         "xaxis": "x",
         "y": [
          0.16114565704219244,
          0.24855898149476627,
          0.36387309081174124,
          0.5869960303632343,
          0.7649040734588042,
          0.9620446730133246,
          1.2864798794467767,
          1.5179075004384808,
          1.759006148767786,
          2.1353169640612895
         ],
         "yaxis": "y"
        },
        {
         "hovertemplate": "<b>Error model: 2-sigma interval</b><br>Hypothetical measurement: %{y:.02f} cm^3<br>Cancer type: Lung cancer (LXF A677)<br><extra></extra>",
         "legendgroup": "Error model",
         "line": {
          "color": "Black",
          "width": 1.5
         },
         "mode": "lines",
         "name": "Error model",
         "opacity": 0.5,
         "showlegend": false,
         "type": "scatter",
         "visible": true,
         "x": [
          0.17571751782736422,
          0.2710353357554181,
          0.39677691285759736,
          0.6400761107880015,
          0.8340717809666407,
          1.0490391431193093,
          1.4028119361109825,
          1.655166779944638,
          1.9180671696514835,
          2.328406508661116
         ],
         "xaxis": "x",
         "y": [
          0.20486123939770778,
          0.3159880442767218,
          0.46258455694930967,
          0.7462362716375358,
          0.9724071959823137,
          1.2230280833312788,
          1.6354760494393943,
          1.929685338956952,
          2.236189211418879,
          2.7145855978607694
         ],
         "yaxis": "y"
        },
        {
         "hovertemplate": "<b>Error model: 2-sigma interval</b><br>Hypothetical measurement: %{y:.02f} cm^3<br>Cancer type: Lung cancer (LXF A677)<br><extra></extra>",
         "legendgroup": "Error model",
         "line": {
          "color": "Black",
          "width": 1.5
         },
         "mode": "lines",
         "name": "Error model",
         "opacity": 0.5,
         "showlegend": false,
         "type": "scatter",
         "visible": true,
         "x": [
          0.17571751782736422,
          0.2710353357554181,
          0.39677691285759736,
          0.6400761107880015,
          0.8340717809666407,
          1.0490391431193093,
          1.4028119361109825,
          1.655166779944638,
          1.9180671696514835,
          2.328406508661116
         ],
         "xaxis": "x",
         "y": [
          0.14657379625702066,
          0.2260826272341144,
          0.33096926876588506,
          0.5339159499384672,
          0.6957363659509677,
          0.8750502029073399,
          1.1701478227825708,
          1.3806482209323239,
          1.5999451278840882,
          1.9422274194614628
         ],
         "yaxis": "y"
        },
        {
         "hovertemplate": "<b>Error model: 3-sigma interval</b><br>Hypothetical measurement: %{y:.02f} cm^3<br>Cancer type: Lung cancer (LXF A677)<br><extra></extra>",
         "legendgroup": "Error model",
         "line": {
          "color": "Black",
          "width": 1
         },
         "mode": "lines",
         "name": "Error model",
         "opacity": 0.3,
         "showlegend": false,
         "type": "scatter",
         "visible": true,
         "x": [
          0.17571751782736422,
          0.2710353357554181,
          0.39677691285759736,
          0.6400761107880015,
          0.8340717809666407,
          1.0490391431193093,
          1.4028119361109825,
          1.655166779944638,
          1.9180671696514835,
          2.328406508661116
         ],
         "xaxis": "x",
         "y": [
          0.21943310018287956,
          0.33846439853737365,
          0.49548837899516573,
          0.799316352062303,
          1.0415749034901503,
          1.3100225534372636,
          1.7518081061036,
          2.066944618463109,
          2.395250232302576,
          2.9076751424605956
         ],
         "yaxis": "y"
        },
        {
         "hovertemplate": "<b>Error model: 3-sigma interval</b><br>Hypothetical measurement: %{y:.02f} cm^3<br>Cancer type: Lung cancer (LXF A677)<br><extra></extra>",
         "legendgroup": "Error model",
         "line": {
          "color": "Black",
          "width": 1
         },
         "mode": "lines",
         "name": "Error model",
         "opacity": 0.3,
         "showlegend": false,
         "type": "scatter",
         "visible": true,
         "x": [
          0.17571751782736422,
          0.2710353357554181,
          0.39677691285759736,
          0.6400761107880015,
          0.8340717809666407,
          1.0490391431193093,
          1.4028119361109825,
          1.655166779944638,
          1.9180671696514835,
          2.328406508661116
         ],
         "xaxis": "x",
         "y": [
          0.13200193547184888,
          0.20360627297346257,
          0.298065446720029,
          0.48083586951370005,
          0.6265686584431311,
          0.7880557328013551,
          1.0538157661183651,
          1.2433889414261667,
          1.4408841070003906,
          1.7491378748616364
         ],
         "yaxis": "y"
        },
        {
         "hovertemplate": "<b>ID: 40</b><br>Structural model: %{x:.02f} cm^3<br>Residual: %{y:.02f} cm^3<br>Cancer type: Lung cancer (LXF A677)<br><extra></extra>",
         "legendgroup": "Measurement",
         "marker": {
          "color": "#636EFA",
          "line": {
           "color": "black",
           "width": 1
          },
          "opacity": 0.7,
          "symbol": "circle"
         },
         "mode": "markers",
         "name": "Measurement",
         "showlegend": false,
         "type": "scatter",
         "visible": true,
         "x": [
          0.17571751782736422,
          0.2710353357554181,
          0.39677691285759736,
          0.6400761107880015,
          0.8340717809666407,
          1.0490391431193093,
          1.4028119361109825,
          1.655166779944638,
          1.9180671696514835,
          2.328406508661116
         ],
         "xaxis": "x2",
         "y": [
          0.016090482172635784,
          -0.021877335755418115,
          -0.06610491285759734,
          0.028290889211998405,
          0.08093621903335935,
          0.07021885688069074,
          0.06762006388901742,
          0.014081220055361943,
          -0.16587516965148374,
          -0.051670508661116
         ],
         "yaxis": "y2"
        },
        {
         "hovertemplate": "<b>Error model: Mean</b><br>Hypothetical residual: %{y:.02f} cm^3<br>Cancer type: Lung cancer (LXF A677)<br><extra></extra>",
         "legendgroup": "Error model",
         "line": {
          "color": "#636EFA"
         },
         "mode": "lines",
         "name": "Error model",
         "opacity": 0.7,
         "showlegend": false,
         "type": "scatter",
         "visible": true,
         "x": [
          0.17571751782736422,
          0.2710353357554181,
          0.39677691285759736,
          0.6400761107880015,
          0.8340717809666407,
          1.0490391431193093,
          1.4028119361109825,
          1.655166779944638,
          1.9180671696514835,
          2.328406508661116
         ],
         "xaxis": "x2",
         "y": [
          0,
          0,
          0,
          0,
          0,
          0,
          0,
          0,
          0,
          0
         ],
         "yaxis": "y2"
        },
        {
         "hovertemplate": "<b>Error model: 1-sigma interval</b><br>Hypothetical residual: %{y:.02f} cm^3<br>Cancer type: Lung cancer (LXF A677)<br><extra></extra>",
         "legendgroup": "Error model",
         "line": {
          "color": "Black"
         },
         "mode": "lines",
         "name": "Error model",
         "opacity": 0.7,
         "showlegend": false,
         "type": "scatter",
         "visible": true,
         "x": [
          0.17571751782736422,
          0.2710353357554181,
          0.39677691285759736,
          0.6400761107880015,
          0.8340717809666407,
          1.0490391431193093,
          1.4028119361109825,
          1.655166779944638,
          1.9180671696514835,
          2.328406508661116
         ],
         "xaxis": "x2",
         "y": [
          0.014571860785171784,
          0.022476354260651848,
          0.03290382204585614,
          0.05308008042476716,
          0.06916770750783655,
          0.08699447010598473,
          0.11633205666420583,
          0.13725927950615707,
          0.1590610208836976,
          0.19308954459982658
         ],
         "yaxis": "y2"
        },
        {
         "hovertemplate": "<b>Error model: 1-sigma interval</b><br>Hypothetical measurement: %{y:.02f} cm^3<br>Cancer type: Lung cancer (LXF A677)<br><extra></extra>",
         "legendgroup": "Error model",
         "line": {
          "color": "Black"
         },
         "mode": "lines",
         "name": "Error model",
         "opacity": 0.7,
         "showlegend": false,
         "type": "scatter",
         "visible": true,
         "x": [
          0.17571751782736422,
          0.2710353357554181,
          0.39677691285759736,
          0.6400761107880015,
          0.8340717809666407,
          1.0490391431193093,
          1.4028119361109825,
          1.655166779944638,
          1.9180671696514835,
          2.328406508661116
         ],
         "xaxis": "x2",
         "y": [
          -0.014571860785171784,
          -0.022476354260651848,
          -0.03290382204585614,
          -0.05308008042476716,
          -0.06916770750783655,
          -0.08699447010598473,
          -0.11633205666420583,
          -0.13725927950615707,
          -0.1590610208836976,
          -0.19308954459982658
         ],
         "yaxis": "y2"
        },
        {
         "hovertemplate": "<b>Error model: 2-sigma interval</b><br>Hypothetical residual: %{y:.02f} cm^3<br>Cancer type: Lung cancer (LXF A677)<br><extra></extra>",
         "legendgroup": "Error model",
         "line": {
          "color": "Black"
         },
         "mode": "lines",
         "name": "Error model",
         "opacity": 0.5,
         "showlegend": false,
         "type": "scatter",
         "visible": true,
         "x": [
          0.17571751782736422,
          0.2710353357554181,
          0.39677691285759736,
          0.6400761107880015,
          0.8340717809666407,
          1.0490391431193093,
          1.4028119361109825,
          1.655166779944638,
          1.9180671696514835,
          2.328406508661116
         ],
         "xaxis": "x2",
         "y": [
          0.02914372157034357,
          0.044952708521303696,
          0.06580764409171228,
          0.10616016084953432,
          0.1383354150156731,
          0.17398894021196945,
          0.23266411332841166,
          0.27451855901231415,
          0.3181220417673952,
          0.38617908919965316
         ],
         "yaxis": "y2"
        },
        {
         "hovertemplate": "<b>Error model: 2-sigma interval</b><br>Hypothetical measurement: %{y:.02f} cm^3<br>Cancer type: Lung cancer (LXF A677)<br><extra></extra>",
         "legendgroup": "Error model",
         "line": {
          "color": "Black"
         },
         "mode": "lines",
         "name": "Error model",
         "opacity": 0.5,
         "showlegend": false,
         "type": "scatter",
         "visible": true,
         "x": [
          0.17571751782736422,
          0.2710353357554181,
          0.39677691285759736,
          0.6400761107880015,
          0.8340717809666407,
          1.0490391431193093,
          1.4028119361109825,
          1.655166779944638,
          1.9180671696514835,
          2.328406508661116
         ],
         "xaxis": "x2",
         "y": [
          -0.02914372157034357,
          -0.044952708521303696,
          -0.06580764409171228,
          -0.10616016084953432,
          -0.1383354150156731,
          -0.17398894021196945,
          -0.23266411332841166,
          -0.27451855901231415,
          -0.3181220417673952,
          -0.38617908919965316
         ],
         "yaxis": "y2"
        },
        {
         "hovertemplate": "<b>Error model: 3-sigma interval</b><br>Hypothetical residual: %{y:.02f} cm^3<br>Cancer type: Lung cancer (LXF A677)<br><extra></extra>",
         "legendgroup": "Error model",
         "line": {
          "color": "Black"
         },
         "mode": "lines",
         "name": "Error model",
         "opacity": 0.3,
         "showlegend": false,
         "type": "scatter",
         "visible": true,
         "x": [
          0.17571751782736422,
          0.2710353357554181,
          0.39677691285759736,
          0.6400761107880015,
          0.8340717809666407,
          1.0490391431193093,
          1.4028119361109825,
          1.655166779944638,
          1.9180671696514835,
          2.328406508661116
         ],
         "xaxis": "x2",
         "y": [
          0.04371558235551535,
          0.06742906278195554,
          0.0987114661375684,
          0.15924024127430148,
          0.2075031225235096,
          0.2609834103179542,
          0.34899616999261746,
          0.4117778385184712,
          0.47718306265109284,
          0.5792686337994797
         ],
         "yaxis": "y2"
        },
        {
         "hovertemplate": "<b>Error model: 3-sigma interval</b><br>Hypothetical measurement: %{y:.02f} cm^3<br>Cancer type: Lung cancer (LXF A677)<br><extra></extra>",
         "legendgroup": "Error model",
         "line": {
          "color": "Black"
         },
         "mode": "lines",
         "name": "Error model",
         "opacity": 0.3,
         "showlegend": false,
         "type": "scatter",
         "visible": true,
         "x": [
          0.17571751782736422,
          0.2710353357554181,
          0.39677691285759736,
          0.6400761107880015,
          0.8340717809666407,
          1.0490391431193093,
          1.4028119361109825,
          1.655166779944638,
          1.9180671696514835,
          2.328406508661116
         ],
         "xaxis": "x2",
         "y": [
          -0.04371558235551535,
          -0.06742906278195554,
          -0.0987114661375684,
          -0.15924024127430148,
          -0.2075031225235096,
          -0.2609834103179542,
          -0.34899616999261746,
          -0.4117778385184712,
          -0.47718306265109284,
          -0.5792686337994797
         ],
         "yaxis": "y2"
        },
        {
         "hovertemplate": "<b>ID: 94</b><br>Structural model: %{x:.02f} cm^3<br>Measurement: %{y:.02f} cm^3<br>Cancer type: Lung cancer (LXF A677)<br><extra></extra>",
         "legendgroup": "Measurement",
         "marker": {
          "color": "#EF553B",
          "line": {
           "color": "black",
           "width": 1
          },
          "opacity": 0.7,
          "symbol": "circle"
         },
         "mode": "markers",
         "name": "Measurement",
         "showlegend": true,
         "type": "scatter",
         "visible": false,
         "x": [
          0.07325130814934036,
          0.09744413944184528,
          0.12407926441701697,
          0.1675479371122284,
          0.1983154949082868,
          0.23018337038544193,
          0.2796057696424632,
          0.3134204665479477,
          0.34780016706893735,
          0.4002490240979911,
          0.4357034188376783,
          0.4714876186334648,
          0.5256938811122556,
          0.5621348213234139
         ],
         "xaxis": "x",
         "y": [
          0.07724750000000001,
          0.0884835,
          0.125316,
          0.165528,
          0.189486,
          0.264654,
          0.264654,
          0.306936,
          0.389207,
          0.389207,
          0.405769,
          0.4264715,
          0.5551309999999999,
          0.57624
         ],
         "yaxis": "y"
        },
        {
         "hovertemplate": "<b>Error model: Mean</b><br>Hypothetical measurement: %{y:.02f} cm^3<br>Cancer type: Lung cancer (LXF A677)<br><extra></extra>",
         "legendgroup": "Error model",
         "line": {
          "color": "#EF553B"
         },
         "mode": "lines",
         "name": "Error model",
         "opacity": 0.7,
         "showlegend": true,
         "type": "scatter",
         "visible": false,
         "x": [
          0.07325130814934036,
          0.09744413944184528,
          0.12407926441701697,
          0.1675479371122284,
          0.1983154949082868,
          0.23018337038544193,
          0.2796057696424632,
          0.3134204665479477,
          0.34780016706893735,
          0.4002490240979911,
          0.4357034188376783,
          0.4714876186334648,
          0.5256938811122556,
          0.5621348213234139
         ],
         "xaxis": "x",
         "y": [
          0.07325130814934036,
          0.09744413944184528,
          0.12407926441701697,
          0.1675479371122284,
          0.1983154949082868,
          0.23018337038544193,
          0.2796057696424632,
          0.3134204665479477,
          0.34780016706893735,
          0.4002490240979911,
          0.4357034188376783,
          0.4714876186334648,
          0.5256938811122556,
          0.5621348213234139
         ],
         "yaxis": "y"
        },
        {
         "hovertemplate": "<b>Error model: 1-sigma interval</b><br>Hypothetical measurement: %{y:.02f} cm^3<br>Cancer type: Lung cancer (LXF A677)<br><extra></extra>",
         "legendgroup": "Error model",
         "line": {
          "color": "Black"
         },
         "mode": "lines",
         "name": "Error model",
         "opacity": 0.7,
         "showlegend": false,
         "type": "scatter",
         "visible": false,
         "x": [
          0.07325130814934036,
          0.09744413944184528,
          0.12407926441701697,
          0.1675479371122284,
          0.1983154949082868,
          0.23018337038544193,
          0.2796057696424632,
          0.3134204665479477,
          0.34780016706893735,
          0.4002490240979911,
          0.4357034188376783,
          0.4714876186334648,
          0.5256938811122556,
          0.5621348213234139
         ],
         "xaxis": "x",
         "y": [
          0.07849918889369316,
          0.10442524648206807,
          0.13296856890807113,
          0.17955143049878597,
          0.2125232420916436,
          0.24667420048301836,
          0.29963732636941076,
          0.3358745806496336,
          0.3727173166155724,
          0.42892372219659103,
          0.46691814577887253,
          0.505266002358474,
          0.5633557176829918,
          0.6024073649691741
         ],
         "yaxis": "y"
        },
        {
         "hovertemplate": "<b>Error model: 1-sigma interval</b><br>Hypothetical measurement: %{y:.02f} cm^3<br>Cancer type: Lung cancer (LXF A677)<br><extra></extra>",
         "legendgroup": "Error model",
         "line": {
          "color": "Black"
         },
         "mode": "lines",
         "name": "Error model",
         "opacity": 0.7,
         "showlegend": false,
         "type": "scatter",
         "visible": false,
         "x": [
          0.07325130814934036,
          0.09744413944184528,
          0.12407926441701697,
          0.1675479371122284,
          0.1983154949082868,
          0.23018337038544193,
          0.2796057696424632,
          0.3134204665479477,
          0.34780016706893735,
          0.4002490240979911,
          0.4357034188376783,
          0.4714876186334648,
          0.5256938811122556,
          0.5621348213234139
         ],
         "xaxis": "x",
         "y": [
          0.06800342740498756,
          0.0904630324016225,
          0.11518995992596283,
          0.15554444372567083,
          0.18410774772492997,
          0.2136925402878655,
          0.25957421291551563,
          0.2909663524462618,
          0.3228830175223023,
          0.3715743259993912,
          0.4044886918964841,
          0.43770923490845554,
          0.4880320445415194,
          0.5218622776776536
         ],
         "yaxis": "y"
        },
        {
         "hovertemplate": "<b>Error model: 2-sigma interval</b><br>Hypothetical measurement: %{y:.02f} cm^3<br>Cancer type: Lung cancer (LXF A677)<br><extra></extra>",
         "legendgroup": "Error model",
         "line": {
          "color": "Black",
          "width": 1.5
         },
         "mode": "lines",
         "name": "Error model",
         "opacity": 0.5,
         "showlegend": false,
         "type": "scatter",
         "visible": false,
         "x": [
          0.07325130814934036,
          0.09744413944184528,
          0.12407926441701697,
          0.1675479371122284,
          0.1983154949082868,
          0.23018337038544193,
          0.2796057696424632,
          0.3134204665479477,
          0.34780016706893735,
          0.4002490240979911,
          0.4357034188376783,
          0.4714876186334648,
          0.5256938811122556,
          0.5621348213234139
         ],
         "xaxis": "x",
         "y": [
          0.08374706963804596,
          0.11140635352229085,
          0.14185787339912526,
          0.1915549238853435,
          0.22673098927500043,
          0.2631650305805948,
          0.31966888309635827,
          0.3583286947513195,
          0.3976344661622075,
          0.45759842029519093,
          0.49813287272006673,
          0.5390443860834833,
          0.6010175542537279,
          0.6426799086149343
         ],
         "yaxis": "y"
        },
        {
         "hovertemplate": "<b>Error model: 2-sigma interval</b><br>Hypothetical measurement: %{y:.02f} cm^3<br>Cancer type: Lung cancer (LXF A677)<br><extra></extra>",
         "legendgroup": "Error model",
         "line": {
          "color": "Black",
          "width": 1.5
         },
         "mode": "lines",
         "name": "Error model",
         "opacity": 0.5,
         "showlegend": false,
         "type": "scatter",
         "visible": false,
         "x": [
          0.07325130814934036,
          0.09744413944184528,
          0.12407926441701697,
          0.1675479371122284,
          0.1983154949082868,
          0.23018337038544193,
          0.2796057696424632,
          0.3134204665479477,
          0.34780016706893735,
          0.4002490240979911,
          0.4357034188376783,
          0.4714876186334648,
          0.5256938811122556,
          0.5621348213234139
         ],
         "xaxis": "x",
         "y": [
          0.06275554666063476,
          0.08348192536139971,
          0.10630065543490869,
          0.1435409503391133,
          0.16990000054157314,
          0.19720171019028906,
          0.23954265618856813,
          0.2685122383445759,
          0.2979658679756672,
          0.3428996279007913,
          0.3732739649552899,
          0.40393085118344635,
          0.4503702079707832,
          0.48158973403189337
         ],
         "yaxis": "y"
        },
        {
         "hovertemplate": "<b>Error model: 3-sigma interval</b><br>Hypothetical measurement: %{y:.02f} cm^3<br>Cancer type: Lung cancer (LXF A677)<br><extra></extra>",
         "legendgroup": "Error model",
         "line": {
          "color": "Black",
          "width": 1
         },
         "mode": "lines",
         "name": "Error model",
         "opacity": 0.3,
         "showlegend": false,
         "type": "scatter",
         "visible": false,
         "x": [
          0.07325130814934036,
          0.09744413944184528,
          0.12407926441701697,
          0.1675479371122284,
          0.1983154949082868,
          0.23018337038544193,
          0.2796057696424632,
          0.3134204665479477,
          0.34780016706893735,
          0.4002490240979911,
          0.4357034188376783,
          0.4714876186334648,
          0.5256938811122556,
          0.5621348213234139
         ],
         "xaxis": "x",
         "y": [
          0.08899495038239874,
          0.11838746056251363,
          0.15074717789017938,
          0.20355841727190105,
          0.24093873645835723,
          0.2796558606781712,
          0.3397004398233058,
          0.3807828088530054,
          0.42255161570884253,
          0.48627311839379084,
          0.5293475996612609,
          0.5728227698084924,
          0.6386793908244641,
          0.6829524522606946
         ],
         "yaxis": "y"
        },
        {
         "hovertemplate": "<b>Error model: 3-sigma interval</b><br>Hypothetical measurement: %{y:.02f} cm^3<br>Cancer type: Lung cancer (LXF A677)<br><extra></extra>",
         "legendgroup": "Error model",
         "line": {
          "color": "Black",
          "width": 1
         },
         "mode": "lines",
         "name": "Error model",
         "opacity": 0.3,
         "showlegend": false,
         "type": "scatter",
         "visible": false,
         "x": [
          0.07325130814934036,
          0.09744413944184528,
          0.12407926441701697,
          0.1675479371122284,
          0.1983154949082868,
          0.23018337038544193,
          0.2796057696424632,
          0.3134204665479477,
          0.34780016706893735,
          0.4002490240979911,
          0.4357034188376783,
          0.4714876186334648,
          0.5256938811122556,
          0.5621348213234139
         ],
         "xaxis": "x",
         "y": [
          0.05750766591628198,
          0.07650081832117693,
          0.09741135094385454,
          0.13153745695255575,
          0.15569225335821635,
          0.18071088009271263,
          0.2195110994616206,
          0.24605812424288995,
          0.27304871842903217,
          0.3142249298021914,
          0.3420592380140957,
          0.3701524674584371,
          0.412708371400047,
          0.44131719038613315
         ],
         "yaxis": "y"
        },
        {
         "hovertemplate": "<b>ID: 94</b><br>Structural model: %{x:.02f} cm^3<br>Residual: %{y:.02f} cm^3<br>Cancer type: Lung cancer (LXF A677)<br><extra></extra>",
         "legendgroup": "Measurement",
         "marker": {
          "color": "#EF553B",
          "line": {
           "color": "black",
           "width": 1
          },
          "opacity": 0.7,
          "symbol": "circle"
         },
         "mode": "markers",
         "name": "Measurement",
         "showlegend": false,
         "type": "scatter",
         "visible": false,
         "x": [
          0.07325130814934036,
          0.09744413944184528,
          0.12407926441701697,
          0.1675479371122284,
          0.1983154949082868,
          0.23018337038544193,
          0.2796057696424632,
          0.3134204665479477,
          0.34780016706893735,
          0.4002490240979911,
          0.4357034188376783,
          0.4714876186334648,
          0.5256938811122556,
          0.5621348213234139
         ],
         "xaxis": "x2",
         "y": [
          0.00399619185065965,
          -0.008960639441845275,
          0.0012367355829830395,
          -0.0020199371122283927,
          -0.0088294949082868,
          0.034470629614558074,
          -0.014951769642463197,
          -0.006484466547947709,
          0.041406832931062676,
          -0.011042024097991099,
          -0.029934418837678334,
          -0.045016118633464774,
          0.029437118887744362,
          0.014105178676586116
         ],
         "yaxis": "y2"
        },
        {
         "hovertemplate": "<b>Error model: Mean</b><br>Hypothetical residual: %{y:.02f} cm^3<br>Cancer type: Lung cancer (LXF A677)<br><extra></extra>",
         "legendgroup": "Error model",
         "line": {
          "color": "#EF553B"
         },
         "mode": "lines",
         "name": "Error model",
         "opacity": 0.7,
         "showlegend": false,
         "type": "scatter",
         "visible": false,
         "x": [
          0.07325130814934036,
          0.09744413944184528,
          0.12407926441701697,
          0.1675479371122284,
          0.1983154949082868,
          0.23018337038544193,
          0.2796057696424632,
          0.3134204665479477,
          0.34780016706893735,
          0.4002490240979911,
          0.4357034188376783,
          0.4714876186334648,
          0.5256938811122556,
          0.5621348213234139
         ],
         "xaxis": "x2",
         "y": [
          0,
          0,
          0,
          0,
          0,
          0,
          0,
          0,
          0,
          0,
          0,
          0,
          0,
          0
         ],
         "yaxis": "y2"
        },
        {
         "hovertemplate": "<b>Error model: 1-sigma interval</b><br>Hypothetical residual: %{y:.02f} cm^3<br>Cancer type: Lung cancer (LXF A677)<br><extra></extra>",
         "legendgroup": "Error model",
         "line": {
          "color": "Black"
         },
         "mode": "lines",
         "name": "Error model",
         "opacity": 0.7,
         "showlegend": false,
         "type": "scatter",
         "visible": false,
         "x": [
          0.07325130814934036,
          0.09744413944184528,
          0.12407926441701697,
          0.1675479371122284,
          0.1983154949082868,
          0.23018337038544193,
          0.2796057696424632,
          0.3134204665479477,
          0.34780016706893735,
          0.4002490240979911,
          0.4357034188376783,
          0.4714876186334648,
          0.5256938811122556,
          0.5621348213234139
         ],
         "xaxis": "x2",
         "y": [
          0.005247880744352795,
          0.006981107040222784,
          0.008889304491054144,
          0.012003493386557554,
          0.014207747183356819,
          0.016490830097576435,
          0.020031556726947536,
          0.022454114101685917,
          0.02491714954663506,
          0.028674698098599898,
          0.0312147269411942,
          0.03377838372500922,
          0.0376618365707362,
          0.04027254364576024
         ],
         "yaxis": "y2"
        },
        {
         "hovertemplate": "<b>Error model: 1-sigma interval</b><br>Hypothetical measurement: %{y:.02f} cm^3<br>Cancer type: Lung cancer (LXF A677)<br><extra></extra>",
         "legendgroup": "Error model",
         "line": {
          "color": "Black"
         },
         "mode": "lines",
         "name": "Error model",
         "opacity": 0.7,
         "showlegend": false,
         "type": "scatter",
         "visible": false,
         "x": [
          0.07325130814934036,
          0.09744413944184528,
          0.12407926441701697,
          0.1675479371122284,
          0.1983154949082868,
          0.23018337038544193,
          0.2796057696424632,
          0.3134204665479477,
          0.34780016706893735,
          0.4002490240979911,
          0.4357034188376783,
          0.4714876186334648,
          0.5256938811122556,
          0.5621348213234139
         ],
         "xaxis": "x2",
         "y": [
          -0.005247880744352795,
          -0.006981107040222784,
          -0.008889304491054144,
          -0.012003493386557554,
          -0.014207747183356819,
          -0.016490830097576435,
          -0.020031556726947536,
          -0.022454114101685917,
          -0.02491714954663506,
          -0.028674698098599898,
          -0.0312147269411942,
          -0.03377838372500922,
          -0.0376618365707362,
          -0.04027254364576024
         ],
         "yaxis": "y2"
        },
        {
         "hovertemplate": "<b>Error model: 2-sigma interval</b><br>Hypothetical residual: %{y:.02f} cm^3<br>Cancer type: Lung cancer (LXF A677)<br><extra></extra>",
         "legendgroup": "Error model",
         "line": {
          "color": "Black"
         },
         "mode": "lines",
         "name": "Error model",
         "opacity": 0.5,
         "showlegend": false,
         "type": "scatter",
         "visible": false,
         "x": [
          0.07325130814934036,
          0.09744413944184528,
          0.12407926441701697,
          0.1675479371122284,
          0.1983154949082868,
          0.23018337038544193,
          0.2796057696424632,
          0.3134204665479477,
          0.34780016706893735,
          0.4002490240979911,
          0.4357034188376783,
          0.4714876186334648,
          0.5256938811122556,
          0.5621348213234139
         ],
         "xaxis": "x2",
         "y": [
          0.01049576148870559,
          0.013962214080445567,
          0.01777860898210829,
          0.024006986773115108,
          0.028415494366713638,
          0.03298166019515287,
          0.04006311345389507,
          0.044908228203371835,
          0.04983429909327012,
          0.057349396197199795,
          0.0624294538823884,
          0.06755676745001844,
          0.0753236731414724,
          0.08054508729152048
         ],
         "yaxis": "y2"
        },
        {
         "hovertemplate": "<b>Error model: 2-sigma interval</b><br>Hypothetical measurement: %{y:.02f} cm^3<br>Cancer type: Lung cancer (LXF A677)<br><extra></extra>",
         "legendgroup": "Error model",
         "line": {
          "color": "Black"
         },
         "mode": "lines",
         "name": "Error model",
         "opacity": 0.5,
         "showlegend": false,
         "type": "scatter",
         "visible": false,
         "x": [
          0.07325130814934036,
          0.09744413944184528,
          0.12407926441701697,
          0.1675479371122284,
          0.1983154949082868,
          0.23018337038544193,
          0.2796057696424632,
          0.3134204665479477,
          0.34780016706893735,
          0.4002490240979911,
          0.4357034188376783,
          0.4714876186334648,
          0.5256938811122556,
          0.5621348213234139
         ],
         "xaxis": "x2",
         "y": [
          -0.01049576148870559,
          -0.013962214080445567,
          -0.01777860898210829,
          -0.024006986773115108,
          -0.028415494366713638,
          -0.03298166019515287,
          -0.04006311345389507,
          -0.044908228203371835,
          -0.04983429909327012,
          -0.057349396197199795,
          -0.0624294538823884,
          -0.06755676745001844,
          -0.0753236731414724,
          -0.08054508729152048
         ],
         "yaxis": "y2"
        },
        {
         "hovertemplate": "<b>Error model: 3-sigma interval</b><br>Hypothetical residual: %{y:.02f} cm^3<br>Cancer type: Lung cancer (LXF A677)<br><extra></extra>",
         "legendgroup": "Error model",
         "line": {
          "color": "Black"
         },
         "mode": "lines",
         "name": "Error model",
         "opacity": 0.3,
         "showlegend": false,
         "type": "scatter",
         "visible": false,
         "x": [
          0.07325130814934036,
          0.09744413944184528,
          0.12407926441701697,
          0.1675479371122284,
          0.1983154949082868,
          0.23018337038544193,
          0.2796057696424632,
          0.3134204665479477,
          0.34780016706893735,
          0.4002490240979911,
          0.4357034188376783,
          0.4714876186334648,
          0.5256938811122556,
          0.5621348213234139
         ],
         "xaxis": "x2",
         "y": [
          0.015743642233058384,
          0.020943321120668348,
          0.026667913473162427,
          0.036010480159672655,
          0.042623241550070454,
          0.0494724902927293,
          0.06009467018084261,
          0.06736234230505775,
          0.07475144863990518,
          0.08602409429579969,
          0.0936441808235826,
          0.10133515117502766,
          0.11298550971220858,
          0.1208176309372807
         ],
         "yaxis": "y2"
        },
        {
         "hovertemplate": "<b>Error model: 3-sigma interval</b><br>Hypothetical measurement: %{y:.02f} cm^3<br>Cancer type: Lung cancer (LXF A677)<br><extra></extra>",
         "legendgroup": "Error model",
         "line": {
          "color": "Black"
         },
         "mode": "lines",
         "name": "Error model",
         "opacity": 0.3,
         "showlegend": false,
         "type": "scatter",
         "visible": false,
         "x": [
          0.07325130814934036,
          0.09744413944184528,
          0.12407926441701697,
          0.1675479371122284,
          0.1983154949082868,
          0.23018337038544193,
          0.2796057696424632,
          0.3134204665479477,
          0.34780016706893735,
          0.4002490240979911,
          0.4357034188376783,
          0.4714876186334648,
          0.5256938811122556,
          0.5621348213234139
         ],
         "xaxis": "x2",
         "y": [
          -0.015743642233058384,
          -0.020943321120668348,
          -0.026667913473162427,
          -0.036010480159672655,
          -0.042623241550070454,
          -0.0494724902927293,
          -0.06009467018084261,
          -0.06736234230505775,
          -0.07475144863990518,
          -0.08602409429579969,
          -0.0936441808235826,
          -0.10133515117502766,
          -0.11298550971220858,
          -0.1208176309372807
         ],
         "yaxis": "y2"
        },
        {
         "hovertemplate": "<b>ID: 95</b><br>Structural model: %{x:.02f} cm^3<br>Measurement: %{y:.02f} cm^3<br>Cancer type: Lung cancer (LXF A677)<br><extra></extra>",
         "legendgroup": "Measurement",
         "marker": {
          "color": "#00CC96",
          "line": {
           "color": "black",
           "width": 1
          },
          "opacity": 0.7,
          "symbol": "circle"
         },
         "mode": "markers",
         "name": "Measurement",
         "showlegend": true,
         "type": "scatter",
         "visible": false,
         "x": [
          0.19676947100547956,
          0.26895300135463346,
          0.36071096169629097,
          0.538784145334321,
          0.6854140571421553,
          0.8538706359334441,
          1.144749253281351,
          1.361650925656708,
          1.594764640174615,
          1.970805901400905
         ],
         "xaxis": "x",
         "y": [
          0.1862,
          0.24641999999999997,
          0.4293,
          0.62426,
          0.7246720000000001,
          0.7300800000000001,
          0.9196,
          1.131184,
          1.675872,
          2.346616
         ],
         "yaxis": "y"
        },
        {
         "hovertemplate": "<b>Error model: Mean</b><br>Hypothetical measurement: %{y:.02f} cm^3<br>Cancer type: Lung cancer (LXF A677)<br><extra></extra>",
         "legendgroup": "Error model",
         "line": {
          "color": "#00CC96"
         },
         "mode": "lines",
         "name": "Error model",
         "opacity": 0.7,
         "showlegend": true,
         "type": "scatter",
         "visible": false,
         "x": [
          0.19676947100547956,
          0.26895300135463346,
          0.36071096169629097,
          0.538784145334321,
          0.6854140571421553,
          0.8538706359334441,
          1.144749253281351,
          1.361650925656708,
          1.594764640174615,
          1.970805901400905
         ],
         "xaxis": "x",
         "y": [
          0.19676947100547956,
          0.26895300135463346,
          0.36071096169629097,
          0.538784145334321,
          0.6854140571421553,
          0.8538706359334441,
          1.144749253281351,
          1.361650925656708,
          1.594764640174615,
          1.970805901400905
         ],
         "yaxis": "y"
        },
        {
         "hovertemplate": "<b>Error model: 1-sigma interval</b><br>Hypothetical measurement: %{y:.02f} cm^3<br>Cancer type: Lung cancer (LXF A677)<br><extra></extra>",
         "legendgroup": "Error model",
         "line": {
          "color": "Black"
         },
         "mode": "lines",
         "name": "Error model",
         "opacity": 0.7,
         "showlegend": false,
         "type": "scatter",
         "visible": false,
         "x": [
          0.19676947100547956,
          0.26895300135463346,
          0.36071096169629097,
          0.538784145334321,
          0.6854140571421553,
          0.8538706359334441,
          1.144749253281351,
          1.361650925656708,
          1.594764640174615,
          1.970805901400905
         ],
         "xaxis": "x",
         "y": [
          0.22466744199067407,
          0.30708515158013056,
          0.4118525533874354,
          0.6151729488261041,
          0.7825920460917917,
          0.9749323946740438,
          1.3070517755688498,
          1.554705761967551,
          1.820870333463624,
          2.250226715888948
         ],
         "yaxis": "y"
        },
        {
         "hovertemplate": "<b>Error model: 1-sigma interval</b><br>Hypothetical measurement: %{y:.02f} cm^3<br>Cancer type: Lung cancer (LXF A677)<br><extra></extra>",
         "legendgroup": "Error model",
         "line": {
          "color": "Black"
         },
         "mode": "lines",
         "name": "Error model",
         "opacity": 0.7,
         "showlegend": false,
         "type": "scatter",
         "visible": false,
         "x": [
          0.19676947100547956,
          0.26895300135463346,
          0.36071096169629097,
          0.538784145334321,
          0.6854140571421553,
          0.8538706359334441,
          1.144749253281351,
          1.361650925656708,
          1.594764640174615,
          1.970805901400905
         ],
         "xaxis": "x",
         "y": [
          0.16887150002028506,
          0.23082085112913636,
          0.3095693700051465,
          0.46239534184253783,
          0.588236068192519,
          0.7328088771928445,
          0.9824467309938523,
          1.168596089345865,
          1.3686589468856059,
          1.6913850869128617
         ],
         "yaxis": "y"
        },
        {
         "hovertemplate": "<b>Error model: 2-sigma interval</b><br>Hypothetical measurement: %{y:.02f} cm^3<br>Cancer type: Lung cancer (LXF A677)<br><extra></extra>",
         "legendgroup": "Error model",
         "line": {
          "color": "Black",
          "width": 1.5
         },
         "mode": "lines",
         "name": "Error model",
         "opacity": 0.5,
         "showlegend": false,
         "type": "scatter",
         "visible": false,
         "x": [
          0.19676947100547956,
          0.26895300135463346,
          0.36071096169629097,
          0.538784145334321,
          0.6854140571421553,
          0.8538706359334441,
          1.144749253281351,
          1.361650925656708,
          1.594764640174615,
          1.970805901400905
         ],
         "xaxis": "x",
         "y": [
          0.25256541297586854,
          0.3452173018056276,
          0.46299414507857994,
          0.6915617523178872,
          0.879770035041428,
          1.0959941534146436,
          1.4693542978563485,
          1.7477605982783944,
          2.0469760267526333,
          2.5296475303769914
         ],
         "yaxis": "y"
        },
        {
         "hovertemplate": "<b>Error model: 2-sigma interval</b><br>Hypothetical measurement: %{y:.02f} cm^3<br>Cancer type: Lung cancer (LXF A677)<br><extra></extra>",
         "legendgroup": "Error model",
         "line": {
          "color": "Black",
          "width": 1.5
         },
         "mode": "lines",
         "name": "Error model",
         "opacity": 0.5,
         "showlegend": false,
         "type": "scatter",
         "visible": false,
         "x": [
          0.19676947100547956,
          0.26895300135463346,
          0.36071096169629097,
          0.538784145334321,
          0.6854140571421553,
          0.8538706359334441,
          1.144749253281351,
          1.361650925656708,
          1.594764640174615,
          1.970805901400905
         ],
         "xaxis": "x",
         "y": [
          0.14097352903509058,
          0.1926887009036393,
          0.258427778314002,
          0.3860065383507547,
          0.4910580792428826,
          0.6117471184522447,
          0.8201442087063535,
          0.9755412530350216,
          1.1425532535965965,
          1.4119642724248185
         ],
         "yaxis": "y"
        },
        {
         "hovertemplate": "<b>Error model: 3-sigma interval</b><br>Hypothetical measurement: %{y:.02f} cm^3<br>Cancer type: Lung cancer (LXF A677)<br><extra></extra>",
         "legendgroup": "Error model",
         "line": {
          "color": "Black",
          "width": 1
         },
         "mode": "lines",
         "name": "Error model",
         "opacity": 0.3,
         "showlegend": false,
         "type": "scatter",
         "visible": false,
         "x": [
          0.19676947100547956,
          0.26895300135463346,
          0.36071096169629097,
          0.538784145334321,
          0.6854140571421553,
          0.8538706359334441,
          1.144749253281351,
          1.361650925656708,
          1.594764640174615,
          1.970805901400905
         ],
         "xaxis": "x",
         "y": [
          0.280463383961063,
          0.3833494520311247,
          0.5141357367697243,
          0.7679505558096704,
          0.9769480239910644,
          1.2170559121552431,
          1.6316568201438473,
          1.9408154345892377,
          2.2730817200416427,
          2.809068344865035
         ],
         "yaxis": "y"
        },
        {
         "hovertemplate": "<b>Error model: 3-sigma interval</b><br>Hypothetical measurement: %{y:.02f} cm^3<br>Cancer type: Lung cancer (LXF A677)<br><extra></extra>",
         "legendgroup": "Error model",
         "line": {
          "color": "Black",
          "width": 1
         },
         "mode": "lines",
         "name": "Error model",
         "opacity": 0.3,
         "showlegend": false,
         "type": "scatter",
         "visible": false,
         "x": [
          0.19676947100547956,
          0.26895300135463346,
          0.36071096169629097,
          0.538784145334321,
          0.6854140571421553,
          0.8538706359334441,
          1.144749253281351,
          1.361650925656708,
          1.594764640174615,
          1.970805901400905
         ],
         "xaxis": "x",
         "y": [
          0.1130755580498961,
          0.15455655067814222,
          0.20728618662285755,
          0.30961773485897154,
          0.39388009029324617,
          0.49068535971164506,
          0.6578416864188548,
          0.7824864167241784,
          0.9164475603075874,
          1.132543457936775
         ],
         "yaxis": "y"
        },
        {
         "hovertemplate": "<b>ID: 95</b><br>Structural model: %{x:.02f} cm^3<br>Residual: %{y:.02f} cm^3<br>Cancer type: Lung cancer (LXF A677)<br><extra></extra>",
         "legendgroup": "Measurement",
         "marker": {
          "color": "#00CC96",
          "line": {
           "color": "black",
           "width": 1
          },
          "opacity": 0.7,
          "symbol": "circle"
         },
         "mode": "markers",
         "name": "Measurement",
         "showlegend": false,
         "type": "scatter",
         "visible": false,
         "x": [
          0.19676947100547956,
          0.26895300135463346,
          0.36071096169629097,
          0.538784145334321,
          0.6854140571421553,
          0.8538706359334441,
          1.144749253281351,
          1.361650925656708,
          1.594764640174615,
          1.970805901400905
         ],
         "xaxis": "x2",
         "y": [
          -0.010569471005479558,
          -0.022533001354633486,
          0.06858903830370905,
          0.08547585466567909,
          0.039257942857844785,
          -0.12379063593344408,
          -0.22514925328135105,
          -0.230466925656708,
          0.08110735982538508,
          0.3758100985990951
         ],
         "yaxis": "y2"
        },
        {
         "hovertemplate": "<b>Error model: Mean</b><br>Hypothetical residual: %{y:.02f} cm^3<br>Cancer type: Lung cancer (LXF A677)<br><extra></extra>",
         "legendgroup": "Error model",
         "line": {
          "color": "#00CC96"
         },
         "mode": "lines",
         "name": "Error model",
         "opacity": 0.7,
         "showlegend": false,
         "type": "scatter",
         "visible": false,
         "x": [
          0.19676947100547956,
          0.26895300135463346,
          0.36071096169629097,
          0.538784145334321,
          0.6854140571421553,
          0.8538706359334441,
          1.144749253281351,
          1.361650925656708,
          1.594764640174615,
          1.970805901400905
         ],
         "xaxis": "x2",
         "y": [
          0,
          0,
          0,
          0,
          0,
          0,
          0,
          0,
          0,
          0
         ],
         "yaxis": "y2"
        },
        {
         "hovertemplate": "<b>Error model: 1-sigma interval</b><br>Hypothetical residual: %{y:.02f} cm^3<br>Cancer type: Lung cancer (LXF A677)<br><extra></extra>",
         "legendgroup": "Error model",
         "line": {
          "color": "Black"
         },
         "mode": "lines",
         "name": "Error model",
         "opacity": 0.7,
         "showlegend": false,
         "type": "scatter",
         "visible": false,
         "x": [
          0.19676947100547956,
          0.26895300135463346,
          0.36071096169629097,
          0.538784145334321,
          0.6854140571421553,
          0.8538706359334441,
          1.144749253281351,
          1.361650925656708,
          1.594764640174615,
          1.970805901400905
         ],
         "xaxis": "x2",
         "y": [
          0.027897970985194493,
          0.03813215022549708,
          0.051141591691144475,
          0.07638880349178313,
          0.09717798894963638,
          0.1210617587405997,
          0.16230252228749878,
          0.1930548363108432,
          0.22610569328900915,
          0.2794208144880433
         ],
         "yaxis": "y2"
        },
        {
         "hovertemplate": "<b>Error model: 1-sigma interval</b><br>Hypothetical measurement: %{y:.02f} cm^3<br>Cancer type: Lung cancer (LXF A677)<br><extra></extra>",
         "legendgroup": "Error model",
         "line": {
          "color": "Black"
         },
         "mode": "lines",
         "name": "Error model",
         "opacity": 0.7,
         "showlegend": false,
         "type": "scatter",
         "visible": false,
         "x": [
          0.19676947100547956,
          0.26895300135463346,
          0.36071096169629097,
          0.538784145334321,
          0.6854140571421553,
          0.8538706359334441,
          1.144749253281351,
          1.361650925656708,
          1.594764640174615,
          1.970805901400905
         ],
         "xaxis": "x2",
         "y": [
          -0.027897970985194493,
          -0.03813215022549708,
          -0.051141591691144475,
          -0.07638880349178313,
          -0.09717798894963638,
          -0.1210617587405997,
          -0.16230252228749878,
          -0.1930548363108432,
          -0.22610569328900915,
          -0.2794208144880433
         ],
         "yaxis": "y2"
        },
        {
         "hovertemplate": "<b>Error model: 2-sigma interval</b><br>Hypothetical residual: %{y:.02f} cm^3<br>Cancer type: Lung cancer (LXF A677)<br><extra></extra>",
         "legendgroup": "Error model",
         "line": {
          "color": "Black"
         },
         "mode": "lines",
         "name": "Error model",
         "opacity": 0.5,
         "showlegend": false,
         "type": "scatter",
         "visible": false,
         "x": [
          0.19676947100547956,
          0.26895300135463346,
          0.36071096169629097,
          0.538784145334321,
          0.6854140571421553,
          0.8538706359334441,
          1.144749253281351,
          1.361650925656708,
          1.594764640174615,
          1.970805901400905
         ],
         "xaxis": "x2",
         "y": [
          0.055795941970388986,
          0.07626430045099417,
          0.10228318338228895,
          0.15277760698356627,
          0.19435597789927275,
          0.2421235174811994,
          0.32460504457499756,
          0.3861096726216864,
          0.4522113865780183,
          0.5588416289760866
         ],
         "yaxis": "y2"
        },
        {
         "hovertemplate": "<b>Error model: 2-sigma interval</b><br>Hypothetical measurement: %{y:.02f} cm^3<br>Cancer type: Lung cancer (LXF A677)<br><extra></extra>",
         "legendgroup": "Error model",
         "line": {
          "color": "Black"
         },
         "mode": "lines",
         "name": "Error model",
         "opacity": 0.5,
         "showlegend": false,
         "type": "scatter",
         "visible": false,
         "x": [
          0.19676947100547956,
          0.26895300135463346,
          0.36071096169629097,
          0.538784145334321,
          0.6854140571421553,
          0.8538706359334441,
          1.144749253281351,
          1.361650925656708,
          1.594764640174615,
          1.970805901400905
         ],
         "xaxis": "x2",
         "y": [
          -0.055795941970388986,
          -0.07626430045099417,
          -0.10228318338228895,
          -0.15277760698356627,
          -0.19435597789927275,
          -0.2421235174811994,
          -0.32460504457499756,
          -0.3861096726216864,
          -0.4522113865780183,
          -0.5588416289760866
         ],
         "yaxis": "y2"
        },
        {
         "hovertemplate": "<b>Error model: 3-sigma interval</b><br>Hypothetical residual: %{y:.02f} cm^3<br>Cancer type: Lung cancer (LXF A677)<br><extra></extra>",
         "legendgroup": "Error model",
         "line": {
          "color": "Black"
         },
         "mode": "lines",
         "name": "Error model",
         "opacity": 0.3,
         "showlegend": false,
         "type": "scatter",
         "visible": false,
         "x": [
          0.19676947100547956,
          0.26895300135463346,
          0.36071096169629097,
          0.538784145334321,
          0.6854140571421553,
          0.8538706359334441,
          1.144749253281351,
          1.361650925656708,
          1.594764640174615,
          1.970805901400905
         ],
         "xaxis": "x2",
         "y": [
          0.08369391295558347,
          0.11439645067649125,
          0.1534247750734334,
          0.2291664104753494,
          0.29153396684890914,
          0.3631852762217991,
          0.4869075668624963,
          0.5791645089325296,
          0.6783170798670275,
          0.8382624434641299
         ],
         "yaxis": "y2"
        },
        {
         "hovertemplate": "<b>Error model: 3-sigma interval</b><br>Hypothetical measurement: %{y:.02f} cm^3<br>Cancer type: Lung cancer (LXF A677)<br><extra></extra>",
         "legendgroup": "Error model",
         "line": {
          "color": "Black"
         },
         "mode": "lines",
         "name": "Error model",
         "opacity": 0.3,
         "showlegend": false,
         "type": "scatter",
         "visible": false,
         "x": [
          0.19676947100547956,
          0.26895300135463346,
          0.36071096169629097,
          0.538784145334321,
          0.6854140571421553,
          0.8538706359334441,
          1.144749253281351,
          1.361650925656708,
          1.594764640174615,
          1.970805901400905
         ],
         "xaxis": "x2",
         "y": [
          -0.08369391295558347,
          -0.11439645067649125,
          -0.1534247750734334,
          -0.2291664104753494,
          -0.29153396684890914,
          -0.3631852762217991,
          -0.4869075668624963,
          -0.5791645089325296,
          -0.6783170798670275,
          -0.8382624434641299
         ],
         "yaxis": "y2"
        },
        {
         "hovertemplate": "<b>ID: 136</b><br>Structural model: %{x:.02f} cm^3<br>Measurement: %{y:.02f} cm^3<br>Cancer type: Lung cancer (LXF A677)<br><extra></extra>",
         "legendgroup": "Measurement",
         "marker": {
          "color": "#AB63FA",
          "line": {
           "color": "black",
           "width": 1
          },
          "opacity": 0.7,
          "symbol": "circle"
         },
         "mode": "markers",
         "name": "Measurement",
         "showlegend": true,
         "type": "scatter",
         "visible": false,
         "x": [
          0.13141562657675637,
          0.16616995871844734,
          0.2076015940120506,
          0.2830444260444012,
          0.34241475627485873,
          0.40897035161838996,
          0.5217074671477485,
          0.6049200019433271,
          0.694052794370366,
          0.8378230912784349,
          0.9397317614629883,
          1.046009049566022,
          1.21261142144349,
          1.327953015678328
         ],
         "xaxis": "x",
         "y": [
          0.1185885,
          0.175071,
          0.22999200000000006,
          0.3026885,
          0.3026885,
          0.37044,
          0.5341545,
          0.651688,
          0.7212869999999999,
          0.78732,
          0.8529505000000001,
          1.104558,
          1.1328799999999999,
          1.4593425
         ],
         "yaxis": "y"
        },
        {
         "hovertemplate": "<b>Error model: Mean</b><br>Hypothetical measurement: %{y:.02f} cm^3<br>Cancer type: Lung cancer (LXF A677)<br><extra></extra>",
         "legendgroup": "Error model",
         "line": {
          "color": "#AB63FA"
         },
         "mode": "lines",
         "name": "Error model",
         "opacity": 0.7,
         "showlegend": true,
         "type": "scatter",
         "visible": false,
         "x": [
          0.13141562657675637,
          0.16616995871844734,
          0.2076015940120506,
          0.2830444260444012,
          0.34241475627485873,
          0.40897035161838996,
          0.5217074671477485,
          0.6049200019433271,
          0.694052794370366,
          0.8378230912784349,
          0.9397317614629883,
          1.046009049566022,
          1.21261142144349,
          1.327953015678328
         ],
         "xaxis": "x",
         "y": [
          0.13141562657675637,
          0.16616995871844734,
          0.2076015940120506,
          0.2830444260444012,
          0.34241475627485873,
          0.40897035161838996,
          0.5217074671477485,
          0.6049200019433271,
          0.694052794370366,
          0.8378230912784349,
          0.9397317614629883,
          1.046009049566022,
          1.21261142144349,
          1.327953015678328
         ],
         "yaxis": "y"
        },
        {
         "hovertemplate": "<b>Error model: 1-sigma interval</b><br>Hypothetical measurement: %{y:.02f} cm^3<br>Cancer type: Lung cancer (LXF A677)<br><extra></extra>",
         "legendgroup": "Error model",
         "line": {
          "color": "Black"
         },
         "mode": "lines",
         "name": "Error model",
         "opacity": 0.7,
         "showlegend": false,
         "type": "scatter",
         "visible": false,
         "x": [
          0.13141562657675637,
          0.16616995871844734,
          0.2076015940120506,
          0.2830444260444012,
          0.34241475627485873,
          0.40897035161838996,
          0.5217074671477485,
          0.6049200019433271,
          0.694052794370366,
          0.8378230912784349,
          0.9397317614629883,
          1.046009049566022,
          1.21261142144349,
          1.327953015678328
         ],
         "xaxis": "x",
         "y": [
          0.14186978588742488,
          0.17938883737345437,
          0.22411637382541694,
          0.305560709677814,
          0.36965397055757054,
          0.441504086917073,
          0.5632094796343867,
          0.6530416008372897,
          0.7492649382482829,
          0.9044722128367892,
          1.0144877535739512,
          1.1292194373213718,
          1.3090750864727188,
          1.4335921450924807
         ],
         "yaxis": "y"
        },
        {
         "hovertemplate": "<b>Error model: 1-sigma interval</b><br>Hypothetical measurement: %{y:.02f} cm^3<br>Cancer type: Lung cancer (LXF A677)<br><extra></extra>",
         "legendgroup": "Error model",
         "line": {
          "color": "Black"
         },
         "mode": "lines",
         "name": "Error model",
         "opacity": 0.7,
         "showlegend": false,
         "type": "scatter",
         "visible": false,
         "x": [
          0.13141562657675637,
          0.16616995871844734,
          0.2076015940120506,
          0.2830444260444012,
          0.34241475627485873,
          0.40897035161838996,
          0.5217074671477485,
          0.6049200019433271,
          0.694052794370366,
          0.8378230912784349,
          0.9397317614629883,
          1.046009049566022,
          1.21261142144349,
          1.327953015678328
         ],
         "xaxis": "x",
         "y": [
          0.12096146726608785,
          0.1529510800634403,
          0.19108681419868428,
          0.26052814241098843,
          0.3151755419921469,
          0.37643661631970693,
          0.4802054546611103,
          0.5567984030493645,
          0.6388406504924492,
          0.7711739697200806,
          0.8649757693520256,
          0.9627986618106721,
          1.1161477564142612,
          1.2223138862641751
         ],
         "yaxis": "y"
        },
        {
         "hovertemplate": "<b>Error model: 2-sigma interval</b><br>Hypothetical measurement: %{y:.02f} cm^3<br>Cancer type: Lung cancer (LXF A677)<br><extra></extra>",
         "legendgroup": "Error model",
         "line": {
          "color": "Black",
          "width": 1.5
         },
         "mode": "lines",
         "name": "Error model",
         "opacity": 0.5,
         "showlegend": false,
         "type": "scatter",
         "visible": false,
         "x": [
          0.13141562657675637,
          0.16616995871844734,
          0.2076015940120506,
          0.2830444260444012,
          0.34241475627485873,
          0.40897035161838996,
          0.5217074671477485,
          0.6049200019433271,
          0.694052794370366,
          0.8378230912784349,
          0.9397317614629883,
          1.046009049566022,
          1.21261142144349,
          1.327953015678328
         ],
         "xaxis": "x",
         "y": [
          0.15232394519809342,
          0.19260771602846138,
          0.2406311536387833,
          0.32807699331122675,
          0.3968931848402824,
          0.4740378222157561,
          0.6047114921210249,
          0.7011631997312524,
          0.8044770821261997,
          0.9711213343951435,
          1.0892437456849138,
          1.2124298250767216,
          1.4055387515019477,
          1.5392312745066332
         ],
         "yaxis": "y"
        },
        {
         "hovertemplate": "<b>Error model: 2-sigma interval</b><br>Hypothetical measurement: %{y:.02f} cm^3<br>Cancer type: Lung cancer (LXF A677)<br><extra></extra>",
         "legendgroup": "Error model",
         "line": {
          "color": "Black",
          "width": 1.5
         },
         "mode": "lines",
         "name": "Error model",
         "opacity": 0.5,
         "showlegend": false,
         "type": "scatter",
         "visible": false,
         "x": [
          0.13141562657675637,
          0.16616995871844734,
          0.2076015940120506,
          0.2830444260444012,
          0.34241475627485873,
          0.40897035161838996,
          0.5217074671477485,
          0.6049200019433271,
          0.694052794370366,
          0.8378230912784349,
          0.9397317614629883,
          1.046009049566022,
          1.21261142144349,
          1.327953015678328
         ],
         "xaxis": "x",
         "y": [
          0.11050730795541934,
          0.1397322014084333,
          0.17457203438531793,
          0.2380118587775757,
          0.28793632770943506,
          0.34390288102102384,
          0.4387034421744721,
          0.5086768041554017,
          0.5836285066145324,
          0.7045248481617263,
          0.7902197772410628,
          0.8795882740553223,
          1.0196840913850322,
          1.1166747568500226
         ],
         "yaxis": "y"
        },
        {
         "hovertemplate": "<b>Error model: 3-sigma interval</b><br>Hypothetical measurement: %{y:.02f} cm^3<br>Cancer type: Lung cancer (LXF A677)<br><extra></extra>",
         "legendgroup": "Error model",
         "line": {
          "color": "Black",
          "width": 1
         },
         "mode": "lines",
         "name": "Error model",
         "opacity": 0.3,
         "showlegend": false,
         "type": "scatter",
         "visible": false,
         "x": [
          0.13141562657675637,
          0.16616995871844734,
          0.2076015940120506,
          0.2830444260444012,
          0.34241475627485873,
          0.40897035161838996,
          0.5217074671477485,
          0.6049200019433271,
          0.694052794370366,
          0.8378230912784349,
          0.9397317614629883,
          1.046009049566022,
          1.21261142144349,
          1.327953015678328
         ],
         "xaxis": "x",
         "y": [
          0.16277810450876193,
          0.20582659468346842,
          0.25714593345214964,
          0.35059327694463954,
          0.4241323991229942,
          0.5065715575144392,
          0.6462135046076631,
          0.7492847986252151,
          0.8596892260041166,
          1.0377704559534977,
          1.1639997377958766,
          1.2956402128320714,
          1.5020024165311765,
          1.644870403920786
         ],
         "yaxis": "y"
        },
        {
         "hovertemplate": "<b>Error model: 3-sigma interval</b><br>Hypothetical measurement: %{y:.02f} cm^3<br>Cancer type: Lung cancer (LXF A677)<br><extra></extra>",
         "legendgroup": "Error model",
         "line": {
          "color": "Black",
          "width": 1
         },
         "mode": "lines",
         "name": "Error model",
         "opacity": 0.3,
         "showlegend": false,
         "type": "scatter",
         "visible": false,
         "x": [
          0.13141562657675637,
          0.16616995871844734,
          0.2076015940120506,
          0.2830444260444012,
          0.34241475627485873,
          0.40897035161838996,
          0.5217074671477485,
          0.6049200019433271,
          0.694052794370366,
          0.8378230912784349,
          0.9397317614629883,
          1.046009049566022,
          1.21261142144349,
          1.327953015678328
         ],
         "xaxis": "x",
         "y": [
          0.10005314864475082,
          0.12651332275342625,
          0.1580572545719516,
          0.2154955751441629,
          0.26069711342672325,
          0.3113691457223408,
          0.3972014296878339,
          0.46055520526143906,
          0.5284163627366155,
          0.637875726603372,
          0.7154637851301,
          0.7963778862999724,
          0.9232204263558035,
          1.0110356274358698
         ],
         "yaxis": "y"
        },
        {
         "hovertemplate": "<b>ID: 136</b><br>Structural model: %{x:.02f} cm^3<br>Residual: %{y:.02f} cm^3<br>Cancer type: Lung cancer (LXF A677)<br><extra></extra>",
         "legendgroup": "Measurement",
         "marker": {
          "color": "#AB63FA",
          "line": {
           "color": "black",
           "width": 1
          },
          "opacity": 0.7,
          "symbol": "circle"
         },
         "mode": "markers",
         "name": "Measurement",
         "showlegend": false,
         "type": "scatter",
         "visible": false,
         "x": [
          0.13141562657675637,
          0.16616995871844734,
          0.2076015940120506,
          0.2830444260444012,
          0.34241475627485873,
          0.40897035161838996,
          0.5217074671477485,
          0.6049200019433271,
          0.694052794370366,
          0.8378230912784349,
          0.9397317614629883,
          1.046009049566022,
          1.21261142144349,
          1.327953015678328
         ],
         "xaxis": "x2",
         "y": [
          -0.012827126576756373,
          0.008901041281552668,
          0.022390405987949447,
          0.019644073955598806,
          -0.03972625627485871,
          -0.03853035161838997,
          0.01244703285225146,
          0.04676799805667298,
          0.027234205629633856,
          -0.050503091278434886,
          -0.08678126146298826,
          0.05854895043397801,
          -0.0797314214434901,
          0.13138948432167208
         ],
         "yaxis": "y2"
        },
        {
         "hovertemplate": "<b>Error model: Mean</b><br>Hypothetical residual: %{y:.02f} cm^3<br>Cancer type: Lung cancer (LXF A677)<br><extra></extra>",
         "legendgroup": "Error model",
         "line": {
          "color": "#AB63FA"
         },
         "mode": "lines",
         "name": "Error model",
         "opacity": 0.7,
         "showlegend": false,
         "type": "scatter",
         "visible": false,
         "x": [
          0.13141562657675637,
          0.16616995871844734,
          0.2076015940120506,
          0.2830444260444012,
          0.34241475627485873,
          0.40897035161838996,
          0.5217074671477485,
          0.6049200019433271,
          0.694052794370366,
          0.8378230912784349,
          0.9397317614629883,
          1.046009049566022,
          1.21261142144349,
          1.327953015678328
         ],
         "xaxis": "x2",
         "y": [
          0,
          0,
          0,
          0,
          0,
          0,
          0,
          0,
          0,
          0,
          0,
          0,
          0,
          0
         ],
         "yaxis": "y2"
        },
        {
         "hovertemplate": "<b>Error model: 1-sigma interval</b><br>Hypothetical residual: %{y:.02f} cm^3<br>Cancer type: Lung cancer (LXF A677)<br><extra></extra>",
         "legendgroup": "Error model",
         "line": {
          "color": "Black"
         },
         "mode": "lines",
         "name": "Error model",
         "opacity": 0.7,
         "showlegend": false,
         "type": "scatter",
         "visible": false,
         "x": [
          0.13141562657675637,
          0.16616995871844734,
          0.2076015940120506,
          0.2830444260444012,
          0.34241475627485873,
          0.40897035161838996,
          0.5217074671477485,
          0.6049200019433271,
          0.694052794370366,
          0.8378230912784349,
          0.9397317614629883,
          1.046009049566022,
          1.21261142144349,
          1.327953015678328
         ],
         "xaxis": "x2",
         "y": [
          0.010454159310668518,
          0.013218878655007031,
          0.016514779813366336,
          0.02251628363341277,
          0.027239214282711827,
          0.03253373529868305,
          0.0415020124866382,
          0.04812159889396267,
          0.05521214387791684,
          0.06664912155835429,
          0.07475599211096276,
          0.08321038775534985,
          0.09646366502922882,
          0.10563912941415268
         ],
         "yaxis": "y2"
        },
        {
         "hovertemplate": "<b>Error model: 1-sigma interval</b><br>Hypothetical measurement: %{y:.02f} cm^3<br>Cancer type: Lung cancer (LXF A677)<br><extra></extra>",
         "legendgroup": "Error model",
         "line": {
          "color": "Black"
         },
         "mode": "lines",
         "name": "Error model",
         "opacity": 0.7,
         "showlegend": false,
         "type": "scatter",
         "visible": false,
         "x": [
          0.13141562657675637,
          0.16616995871844734,
          0.2076015940120506,
          0.2830444260444012,
          0.34241475627485873,
          0.40897035161838996,
          0.5217074671477485,
          0.6049200019433271,
          0.694052794370366,
          0.8378230912784349,
          0.9397317614629883,
          1.046009049566022,
          1.21261142144349,
          1.327953015678328
         ],
         "xaxis": "x2",
         "y": [
          -0.010454159310668518,
          -0.013218878655007031,
          -0.016514779813366336,
          -0.02251628363341277,
          -0.027239214282711827,
          -0.03253373529868305,
          -0.0415020124866382,
          -0.04812159889396267,
          -0.05521214387791684,
          -0.06664912155835429,
          -0.07475599211096276,
          -0.08321038775534985,
          -0.09646366502922882,
          -0.10563912941415268
         ],
         "yaxis": "y2"
        },
        {
         "hovertemplate": "<b>Error model: 2-sigma interval</b><br>Hypothetical residual: %{y:.02f} cm^3<br>Cancer type: Lung cancer (LXF A677)<br><extra></extra>",
         "legendgroup": "Error model",
         "line": {
          "color": "Black"
         },
         "mode": "lines",
         "name": "Error model",
         "opacity": 0.5,
         "showlegend": false,
         "type": "scatter",
         "visible": false,
         "x": [
          0.13141562657675637,
          0.16616995871844734,
          0.2076015940120506,
          0.2830444260444012,
          0.34241475627485873,
          0.40897035161838996,
          0.5217074671477485,
          0.6049200019433271,
          0.694052794370366,
          0.8378230912784349,
          0.9397317614629883,
          1.046009049566022,
          1.21261142144349,
          1.327953015678328
         ],
         "xaxis": "x2",
         "y": [
          0.020908318621337036,
          0.026437757310014062,
          0.03302955962673267,
          0.04503256726682554,
          0.054478428565423655,
          0.0650674705973661,
          0.0830040249732764,
          0.09624319778792534,
          0.11042428775583368,
          0.13329824311670857,
          0.14951198422192552,
          0.1664207755106997,
          0.19292733005845764,
          0.21127825882830537
         ],
         "yaxis": "y2"
        },
        {
         "hovertemplate": "<b>Error model: 2-sigma interval</b><br>Hypothetical measurement: %{y:.02f} cm^3<br>Cancer type: Lung cancer (LXF A677)<br><extra></extra>",
         "legendgroup": "Error model",
         "line": {
          "color": "Black"
         },
         "mode": "lines",
         "name": "Error model",
         "opacity": 0.5,
         "showlegend": false,
         "type": "scatter",
         "visible": false,
         "x": [
          0.13141562657675637,
          0.16616995871844734,
          0.2076015940120506,
          0.2830444260444012,
          0.34241475627485873,
          0.40897035161838996,
          0.5217074671477485,
          0.6049200019433271,
          0.694052794370366,
          0.8378230912784349,
          0.9397317614629883,
          1.046009049566022,
          1.21261142144349,
          1.327953015678328
         ],
         "xaxis": "x2",
         "y": [
          -0.020908318621337036,
          -0.026437757310014062,
          -0.03302955962673267,
          -0.04503256726682554,
          -0.054478428565423655,
          -0.0650674705973661,
          -0.0830040249732764,
          -0.09624319778792534,
          -0.11042428775583368,
          -0.13329824311670857,
          -0.14951198422192552,
          -0.1664207755106997,
          -0.19292733005845764,
          -0.21127825882830537
         ],
         "yaxis": "y2"
        },
        {
         "hovertemplate": "<b>Error model: 3-sigma interval</b><br>Hypothetical residual: %{y:.02f} cm^3<br>Cancer type: Lung cancer (LXF A677)<br><extra></extra>",
         "legendgroup": "Error model",
         "line": {
          "color": "Black"
         },
         "mode": "lines",
         "name": "Error model",
         "opacity": 0.3,
         "showlegend": false,
         "type": "scatter",
         "visible": false,
         "x": [
          0.13141562657675637,
          0.16616995871844734,
          0.2076015940120506,
          0.2830444260444012,
          0.34241475627485873,
          0.40897035161838996,
          0.5217074671477485,
          0.6049200019433271,
          0.694052794370366,
          0.8378230912784349,
          0.9397317614629883,
          1.046009049566022,
          1.21261142144349,
          1.327953015678328
         ],
         "xaxis": "x2",
         "y": [
          0.031362477932005556,
          0.03965663596502109,
          0.049544339440099006,
          0.06754885090023831,
          0.08171764284813547,
          0.09760120589604915,
          0.12450603745991459,
          0.144364796681888,
          0.16563643163375052,
          0.19994736467506288,
          0.22426797633288825,
          0.24963116326604953,
          0.28939099508768645,
          0.316917388242458
         ],
         "yaxis": "y2"
        },
        {
         "hovertemplate": "<b>Error model: 3-sigma interval</b><br>Hypothetical measurement: %{y:.02f} cm^3<br>Cancer type: Lung cancer (LXF A677)<br><extra></extra>",
         "legendgroup": "Error model",
         "line": {
          "color": "Black"
         },
         "mode": "lines",
         "name": "Error model",
         "opacity": 0.3,
         "showlegend": false,
         "type": "scatter",
         "visible": false,
         "x": [
          0.13141562657675637,
          0.16616995871844734,
          0.2076015940120506,
          0.2830444260444012,
          0.34241475627485873,
          0.40897035161838996,
          0.5217074671477485,
          0.6049200019433271,
          0.694052794370366,
          0.8378230912784349,
          0.9397317614629883,
          1.046009049566022,
          1.21261142144349,
          1.327953015678328
         ],
         "xaxis": "x2",
         "y": [
          -0.031362477932005556,
          -0.03965663596502109,
          -0.049544339440099006,
          -0.06754885090023831,
          -0.08171764284813547,
          -0.09760120589604915,
          -0.12450603745991459,
          -0.144364796681888,
          -0.16563643163375052,
          -0.19994736467506288,
          -0.22426797633288825,
          -0.24963116326604953,
          -0.28939099508768645,
          -0.316917388242458
         ],
         "yaxis": "y2"
        },
        {
         "hovertemplate": "<b>ID: 140</b><br>Structural model: %{x:.02f} cm^3<br>Measurement: %{y:.02f} cm^3<br>Cancer type: Lung cancer (LXF A677)<br><extra></extra>",
         "legendgroup": "Measurement",
         "marker": {
          "color": "#FFA15A",
          "line": {
           "color": "black",
           "width": 1
          },
          "opacity": 0.7,
          "symbol": "circle"
         },
         "mode": "markers",
         "name": "Measurement",
         "showlegend": true,
         "type": "scatter",
         "visible": false,
         "x": [
          0.10805819492868458,
          0.1314170408183705,
          0.15980563342703547,
          0.21429962438774863,
          0.26060037689894705,
          0.3168993922288244,
          0.42494286716527957,
          0.516728794926017,
          0.628323209878195,
          0.8424589663775901,
          1.0243282047317173,
          1.245414350612633,
          1.669499953327986,
          2.0295429852687086
         ],
         "xaxis": "x",
         "y": [
          0.0793305,
          0.12685200000000002,
          0.146072,
          0.261121,
          0.34574400000000005,
          0.3552,
          0.41905,
          0.48029799999999995,
          0.556668,
          0.8089919999999999,
          0.8573040000000001,
          1.097675,
          1.992144,
          2.1225820000000004
         ],
         "yaxis": "y"
        },
        {
         "hovertemplate": "<b>Error model: Mean</b><br>Hypothetical measurement: %{y:.02f} cm^3<br>Cancer type: Lung cancer (LXF A677)<br><extra></extra>",
         "legendgroup": "Error model",
         "line": {
          "color": "#FFA15A"
         },
         "mode": "lines",
         "name": "Error model",
         "opacity": 0.7,
         "showlegend": true,
         "type": "scatter",
         "visible": false,
         "x": [
          0.10805819492868458,
          0.1314170408183705,
          0.15980563342703547,
          0.21429962438774863,
          0.26060037689894705,
          0.3168993922288244,
          0.42494286716527957,
          0.516728794926017,
          0.628323209878195,
          0.8424589663775901,
          1.0243282047317173,
          1.245414350612633,
          1.669499953327986,
          2.0295429852687086
         ],
         "xaxis": "x",
         "y": [
          0.10805819492868458,
          0.1314170408183705,
          0.15980563342703547,
          0.21429962438774863,
          0.26060037689894705,
          0.3168993922288244,
          0.42494286716527957,
          0.516728794926017,
          0.628323209878195,
          0.8424589663775901,
          1.0243282047317173,
          1.245414350612633,
          1.669499953327986,
          2.0295429852687086
         ],
         "yaxis": "y"
        },
        {
         "hovertemplate": "<b>Error model: 1-sigma interval</b><br>Hypothetical measurement: %{y:.02f} cm^3<br>Cancer type: Lung cancer (LXF A677)<br><extra></extra>",
         "legendgroup": "Error model",
         "line": {
          "color": "Black"
         },
         "mode": "lines",
         "name": "Error model",
         "opacity": 0.7,
         "showlegend": false,
         "type": "scatter",
         "visible": false,
         "x": [
          0.10805819492868458,
          0.1314170408183705,
          0.15980563342703547,
          0.21429962438774863,
          0.26060037689894705,
          0.3168993922288244,
          0.42494286716527957,
          0.516728794926017,
          0.628323209878195,
          0.8424589663775901,
          1.0243282047317173,
          1.245414350612633,
          1.669499953327986,
          2.0295429852687086
         ],
         "xaxis": "x",
         "y": [
          0.12507075708502924,
          0.15210719371978565,
          0.18496525480888193,
          0.24803871916333692,
          0.3016290107095169,
          0.3667916804644256,
          0.4918454000580028,
          0.5980820023107384,
          0.7272457179710007,
          0.9750947700676997,
          1.1855972992506127,
          1.4414910023111396,
          1.9323441711566447,
          2.349071978036397
         ],
         "yaxis": "y"
        },
        {
         "hovertemplate": "<b>Error model: 1-sigma interval</b><br>Hypothetical measurement: %{y:.02f} cm^3<br>Cancer type: Lung cancer (LXF A677)<br><extra></extra>",
         "legendgroup": "Error model",
         "line": {
          "color": "Black"
         },
         "mode": "lines",
         "name": "Error model",
         "opacity": 0.7,
         "showlegend": false,
         "type": "scatter",
         "visible": false,
         "x": [
          0.10805819492868458,
          0.1314170408183705,
          0.15980563342703547,
          0.21429962438774863,
          0.26060037689894705,
          0.3168993922288244,
          0.42494286716527957,
          0.516728794926017,
          0.628323209878195,
          0.8424589663775901,
          1.0243282047317173,
          1.245414350612633,
          1.669499953327986,
          2.0295429852687086
         ],
         "xaxis": "x",
         "y": [
          0.09104563277233994,
          0.11072688791695533,
          0.134646012045189,
          0.18056052961216035,
          0.21957174308837718,
          0.2670071039932232,
          0.3580403342725563,
          0.4353755875412956,
          0.5294007017853893,
          0.7098231626874805,
          0.8630591102128219,
          1.0493376989141263,
          1.4066557354993272,
          1.7100139925010198
         ],
         "yaxis": "y"
        },
        {
         "hovertemplate": "<b>Error model: 2-sigma interval</b><br>Hypothetical measurement: %{y:.02f} cm^3<br>Cancer type: Lung cancer (LXF A677)<br><extra></extra>",
         "legendgroup": "Error model",
         "line": {
          "color": "Black",
          "width": 1.5
         },
         "mode": "lines",
         "name": "Error model",
         "opacity": 0.5,
         "showlegend": false,
         "type": "scatter",
         "visible": false,
         "x": [
          0.10805819492868458,
          0.1314170408183705,
          0.15980563342703547,
          0.21429962438774863,
          0.26060037689894705,
          0.3168993922288244,
          0.42494286716527957,
          0.516728794926017,
          0.628323209878195,
          0.8424589663775901,
          1.0243282047317173,
          1.245414350612633,
          1.669499953327986,
          2.0295429852687086
         ],
         "xaxis": "x",
         "y": [
          0.14208331924137385,
          0.17279734662120083,
          0.21012487619072842,
          0.2817778139389252,
          0.34265764452008673,
          0.4166839687000269,
          0.5587479329507261,
          0.6794352096954598,
          0.8261682260638064,
          1.1077305737578094,
          1.346866393769508,
          1.637567654009646,
          2.1951883889853034,
          2.668600970804086
         ],
         "yaxis": "y"
        },
        {
         "hovertemplate": "<b>Error model: 2-sigma interval</b><br>Hypothetical measurement: %{y:.02f} cm^3<br>Cancer type: Lung cancer (LXF A677)<br><extra></extra>",
         "legendgroup": "Error model",
         "line": {
          "color": "Black",
          "width": 1.5
         },
         "mode": "lines",
         "name": "Error model",
         "opacity": 0.5,
         "showlegend": false,
         "type": "scatter",
         "visible": false,
         "x": [
          0.10805819492868458,
          0.1314170408183705,
          0.15980563342703547,
          0.21429962438774863,
          0.26060037689894705,
          0.3168993922288244,
          0.42494286716527957,
          0.516728794926017,
          0.628323209878195,
          0.8424589663775901,
          1.0243282047317173,
          1.245414350612633,
          1.669499953327986,
          2.0295429852687086
         ],
         "xaxis": "x",
         "y": [
          0.0740330706159953,
          0.09003673501554016,
          0.10948639066334251,
          0.14682143483657206,
          0.17854310927780734,
          0.21711481575762193,
          0.29113780137983303,
          0.35402238015657417,
          0.4304781936925837,
          0.5771873589973708,
          0.7017900156939265,
          0.8532610472156199,
          1.1438115176706685,
          1.390484999733331
         ],
         "yaxis": "y"
        },
        {
         "hovertemplate": "<b>Error model: 3-sigma interval</b><br>Hypothetical measurement: %{y:.02f} cm^3<br>Cancer type: Lung cancer (LXF A677)<br><extra></extra>",
         "legendgroup": "Error model",
         "line": {
          "color": "Black",
          "width": 1
         },
         "mode": "lines",
         "name": "Error model",
         "opacity": 0.3,
         "showlegend": false,
         "type": "scatter",
         "visible": false,
         "x": [
          0.10805819492868458,
          0.1314170408183705,
          0.15980563342703547,
          0.21429962438774863,
          0.26060037689894705,
          0.3168993922288244,
          0.42494286716527957,
          0.516728794926017,
          0.628323209878195,
          0.8424589663775901,
          1.0243282047317173,
          1.245414350612633,
          1.669499953327986,
          2.0295429852687086
         ],
         "xaxis": "x",
         "y": [
          0.15909588139771852,
          0.19348749952261599,
          0.2352844975725749,
          0.3155169087145135,
          0.3836862783306566,
          0.4665762569356281,
          0.6256504658434494,
          0.7607884170801812,
          0.9250907341566119,
          1.240366377447919,
          1.5081354882884035,
          1.8336443057081526,
          2.458032606813962,
          2.988129963571775
         ],
         "yaxis": "y"
        },
        {
         "hovertemplate": "<b>Error model: 3-sigma interval</b><br>Hypothetical measurement: %{y:.02f} cm^3<br>Cancer type: Lung cancer (LXF A677)<br><extra></extra>",
         "legendgroup": "Error model",
         "line": {
          "color": "Black",
          "width": 1
         },
         "mode": "lines",
         "name": "Error model",
         "opacity": 0.3,
         "showlegend": false,
         "type": "scatter",
         "visible": false,
         "x": [
          0.10805819492868458,
          0.1314170408183705,
          0.15980563342703547,
          0.21429962438774863,
          0.26060037689894705,
          0.3168993922288244,
          0.42494286716527957,
          0.516728794926017,
          0.628323209878195,
          0.8424589663775901,
          1.0243282047317173,
          1.245414350612633,
          1.669499953327986,
          2.0295429852687086
         ],
         "xaxis": "x",
         "y": [
          0.05702050845965066,
          0.069346582114125,
          0.08432676928149603,
          0.11308234006098376,
          0.1375144754672375,
          0.16722252752202071,
          0.22423526848710978,
          0.27266917277185276,
          0.33155568559977805,
          0.44455155530726115,
          0.540520921175031,
          0.6571843955171133,
          0.8809672998420098,
          1.0709560069656423
         ],
         "yaxis": "y"
        },
        {
         "hovertemplate": "<b>ID: 140</b><br>Structural model: %{x:.02f} cm^3<br>Residual: %{y:.02f} cm^3<br>Cancer type: Lung cancer (LXF A677)<br><extra></extra>",
         "legendgroup": "Measurement",
         "marker": {
          "color": "#FFA15A",
          "line": {
           "color": "black",
           "width": 1
          },
          "opacity": 0.7,
          "symbol": "circle"
         },
         "mode": "markers",
         "name": "Measurement",
         "showlegend": false,
         "type": "scatter",
         "visible": false,
         "x": [
          0.10805819492868458,
          0.1314170408183705,
          0.15980563342703547,
          0.21429962438774863,
          0.26060037689894705,
          0.3168993922288244,
          0.42494286716527957,
          0.516728794926017,
          0.628323209878195,
          0.8424589663775901,
          1.0243282047317173,
          1.245414350612633,
          1.669499953327986,
          2.0295429852687086
         ],
         "xaxis": "x2",
         "y": [
          -0.028727694928684586,
          -0.004565040818370475,
          -0.013733633427035458,
          0.04682137561225136,
          0.085143623101053,
          0.03830060777117561,
          -0.005892867165279592,
          -0.03643079492601703,
          -0.07165520987819496,
          -0.03346696637759017,
          -0.1670242047317172,
          -0.147739350612633,
          0.32264404667201396,
          0.09303901473129184
         ],
         "yaxis": "y2"
        },
        {
         "hovertemplate": "<b>Error model: Mean</b><br>Hypothetical residual: %{y:.02f} cm^3<br>Cancer type: Lung cancer (LXF A677)<br><extra></extra>",
         "legendgroup": "Error model",
         "line": {
          "color": "#FFA15A"
         },
         "mode": "lines",
         "name": "Error model",
         "opacity": 0.7,
         "showlegend": false,
         "type": "scatter",
         "visible": false,
         "x": [
          0.10805819492868458,
          0.1314170408183705,
          0.15980563342703547,
          0.21429962438774863,
          0.26060037689894705,
          0.3168993922288244,
          0.42494286716527957,
          0.516728794926017,
          0.628323209878195,
          0.8424589663775901,
          1.0243282047317173,
          1.245414350612633,
          1.669499953327986,
          2.0295429852687086
         ],
         "xaxis": "x2",
         "y": [
          0,
          0,
          0,
          0,
          0,
          0,
          0,
          0,
          0,
          0,
          0,
          0,
          0,
          0
         ],
         "yaxis": "y2"
        },
        {
         "hovertemplate": "<b>Error model: 1-sigma interval</b><br>Hypothetical residual: %{y:.02f} cm^3<br>Cancer type: Lung cancer (LXF A677)<br><extra></extra>",
         "legendgroup": "Error model",
         "line": {
          "color": "Black"
         },
         "mode": "lines",
         "name": "Error model",
         "opacity": 0.7,
         "showlegend": false,
         "type": "scatter",
         "visible": false,
         "x": [
          0.10805819492868458,
          0.1314170408183705,
          0.15980563342703547,
          0.21429962438774863,
          0.26060037689894705,
          0.3168993922288244,
          0.42494286716527957,
          0.516728794926017,
          0.628323209878195,
          0.8424589663775901,
          1.0243282047317173,
          1.245414350612633,
          1.669499953327986,
          2.0295429852687086
         ],
         "xaxis": "x2",
         "y": [
          0.01701256215634464,
          0.020690152901415165,
          0.025159621381846478,
          0.03373909477558829,
          0.041028633810569856,
          0.04989228823560123,
          0.06690253289272326,
          0.08135320738472139,
          0.09892250809280564,
          0.13263580369010966,
          0.1612690945188954,
          0.19607665169850655,
          0.26284421782865874,
          0.31952899276768876
         ],
         "yaxis": "y2"
        },
        {
         "hovertemplate": "<b>Error model: 1-sigma interval</b><br>Hypothetical measurement: %{y:.02f} cm^3<br>Cancer type: Lung cancer (LXF A677)<br><extra></extra>",
         "legendgroup": "Error model",
         "line": {
          "color": "Black"
         },
         "mode": "lines",
         "name": "Error model",
         "opacity": 0.7,
         "showlegend": false,
         "type": "scatter",
         "visible": false,
         "x": [
          0.10805819492868458,
          0.1314170408183705,
          0.15980563342703547,
          0.21429962438774863,
          0.26060037689894705,
          0.3168993922288244,
          0.42494286716527957,
          0.516728794926017,
          0.628323209878195,
          0.8424589663775901,
          1.0243282047317173,
          1.245414350612633,
          1.669499953327986,
          2.0295429852687086
         ],
         "xaxis": "x2",
         "y": [
          -0.01701256215634464,
          -0.020690152901415165,
          -0.025159621381846478,
          -0.03373909477558829,
          -0.041028633810569856,
          -0.04989228823560123,
          -0.06690253289272326,
          -0.08135320738472139,
          -0.09892250809280564,
          -0.13263580369010966,
          -0.1612690945188954,
          -0.19607665169850655,
          -0.26284421782865874,
          -0.31952899276768876
         ],
         "yaxis": "y2"
        },
        {
         "hovertemplate": "<b>Error model: 2-sigma interval</b><br>Hypothetical residual: %{y:.02f} cm^3<br>Cancer type: Lung cancer (LXF A677)<br><extra></extra>",
         "legendgroup": "Error model",
         "line": {
          "color": "Black"
         },
         "mode": "lines",
         "name": "Error model",
         "opacity": 0.5,
         "showlegend": false,
         "type": "scatter",
         "visible": false,
         "x": [
          0.10805819492868458,
          0.1314170408183705,
          0.15980563342703547,
          0.21429962438774863,
          0.26060037689894705,
          0.3168993922288244,
          0.42494286716527957,
          0.516728794926017,
          0.628323209878195,
          0.8424589663775901,
          1.0243282047317173,
          1.245414350612633,
          1.669499953327986,
          2.0295429852687086
         ],
         "xaxis": "x2",
         "y": [
          0.03402512431268928,
          0.04138030580283033,
          0.050319242763692956,
          0.06747818955117658,
          0.08205726762113971,
          0.09978457647120247,
          0.13380506578544651,
          0.16270641476944278,
          0.1978450161856113,
          0.2652716073802193,
          0.3225381890377908,
          0.3921533033970131,
          0.5256884356573175,
          0.6390579855353775
         ],
         "yaxis": "y2"
        },
        {
         "hovertemplate": "<b>Error model: 2-sigma interval</b><br>Hypothetical measurement: %{y:.02f} cm^3<br>Cancer type: Lung cancer (LXF A677)<br><extra></extra>",
         "legendgroup": "Error model",
         "line": {
          "color": "Black"
         },
         "mode": "lines",
         "name": "Error model",
         "opacity": 0.5,
         "showlegend": false,
         "type": "scatter",
         "visible": false,
         "x": [
          0.10805819492868458,
          0.1314170408183705,
          0.15980563342703547,
          0.21429962438774863,
          0.26060037689894705,
          0.3168993922288244,
          0.42494286716527957,
          0.516728794926017,
          0.628323209878195,
          0.8424589663775901,
          1.0243282047317173,
          1.245414350612633,
          1.669499953327986,
          2.0295429852687086
         ],
         "xaxis": "x2",
         "y": [
          -0.03402512431268928,
          -0.04138030580283033,
          -0.050319242763692956,
          -0.06747818955117658,
          -0.08205726762113971,
          -0.09978457647120247,
          -0.13380506578544651,
          -0.16270641476944278,
          -0.1978450161856113,
          -0.2652716073802193,
          -0.3225381890377908,
          -0.3921533033970131,
          -0.5256884356573175,
          -0.6390579855353775
         ],
         "yaxis": "y2"
        },
        {
         "hovertemplate": "<b>Error model: 3-sigma interval</b><br>Hypothetical residual: %{y:.02f} cm^3<br>Cancer type: Lung cancer (LXF A677)<br><extra></extra>",
         "legendgroup": "Error model",
         "line": {
          "color": "Black"
         },
         "mode": "lines",
         "name": "Error model",
         "opacity": 0.3,
         "showlegend": false,
         "type": "scatter",
         "visible": false,
         "x": [
          0.10805819492868458,
          0.1314170408183705,
          0.15980563342703547,
          0.21429962438774863,
          0.26060037689894705,
          0.3168993922288244,
          0.42494286716527957,
          0.516728794926017,
          0.628323209878195,
          0.8424589663775901,
          1.0243282047317173,
          1.245414350612633,
          1.669499953327986,
          2.0295429852687086
         ],
         "xaxis": "x2",
         "y": [
          0.05103768646903392,
          0.06207045870424549,
          0.07547886414553943,
          0.10121728432676487,
          0.12308590143170957,
          0.1496768647068037,
          0.20070759867816979,
          0.24405962215416419,
          0.29676752427841696,
          0.39790741107032895,
          0.4838072835566862,
          0.5882299550955197,
          0.7885326534859761,
          0.9585869783030663
         ],
         "yaxis": "y2"
        },
        {
         "hovertemplate": "<b>Error model: 3-sigma interval</b><br>Hypothetical measurement: %{y:.02f} cm^3<br>Cancer type: Lung cancer (LXF A677)<br><extra></extra>",
         "legendgroup": "Error model",
         "line": {
          "color": "Black"
         },
         "mode": "lines",
         "name": "Error model",
         "opacity": 0.3,
         "showlegend": false,
         "type": "scatter",
         "visible": false,
         "x": [
          0.10805819492868458,
          0.1314170408183705,
          0.15980563342703547,
          0.21429962438774863,
          0.26060037689894705,
          0.3168993922288244,
          0.42494286716527957,
          0.516728794926017,
          0.628323209878195,
          0.8424589663775901,
          1.0243282047317173,
          1.245414350612633,
          1.669499953327986,
          2.0295429852687086
         ],
         "xaxis": "x2",
         "y": [
          -0.05103768646903392,
          -0.06207045870424549,
          -0.07547886414553943,
          -0.10121728432676487,
          -0.12308590143170957,
          -0.1496768647068037,
          -0.20070759867816979,
          -0.24405962215416419,
          -0.29676752427841696,
          -0.39790741107032895,
          -0.4838072835566862,
          -0.5882299550955197,
          -0.7885326534859761,
          -0.9585869783030663
         ],
         "yaxis": "y2"
        },
        {
         "hovertemplate": "<b>ID: 155</b><br>Structural model: %{x:.02f} cm^3<br>Measurement: %{y:.02f} cm^3<br>Cancer type: Lung cancer (LXF A677)<br><extra></extra>",
         "legendgroup": "Measurement",
         "marker": {
          "color": "#19D3F3",
          "line": {
           "color": "black",
           "width": 1
          },
          "opacity": 0.7,
          "symbol": "circle"
         },
         "mode": "markers",
         "name": "Measurement",
         "showlegend": true,
         "type": "scatter",
         "visible": false,
         "x": [
          0.10024696485182459,
          0.20044255404723985,
          0.3259732177223118,
          0.5414489171166463,
          0.6956777189178757,
          0.8552924122925543,
          1.1016253592175547,
          1.2692079354991097,
          1.4388923702643002,
          1.6962771062657371,
          1.8694319345278054,
          2.043579043022922
         ],
         "xaxis": "x",
         "y": [
          0.105875,
          0.167706,
          0.35632800000000003,
          0.6489600000000001,
          0.692224,
          0.7300800000000001,
          0.81648,
          1.4949540000000001,
          1.5166985,
          1.72405,
          1.637784,
          2.25108
         ],
         "yaxis": "y"
        },
        {
         "hovertemplate": "<b>Error model: Mean</b><br>Hypothetical measurement: %{y:.02f} cm^3<br>Cancer type: Lung cancer (LXF A677)<br><extra></extra>",
         "legendgroup": "Error model",
         "line": {
          "color": "#19D3F3"
         },
         "mode": "lines",
         "name": "Error model",
         "opacity": 0.7,
         "showlegend": true,
         "type": "scatter",
         "visible": false,
         "x": [
          0.10024696485182459,
          0.20044255404723985,
          0.3259732177223118,
          0.5414489171166463,
          0.6956777189178757,
          0.8552924122925543,
          1.1016253592175547,
          1.2692079354991097,
          1.4388923702643002,
          1.6962771062657371,
          1.8694319345278054,
          2.043579043022922
         ],
         "xaxis": "x",
         "y": [
          0.10024696485182459,
          0.20044255404723985,
          0.3259732177223118,
          0.5414489171166463,
          0.6956777189178757,
          0.8552924122925543,
          1.1016253592175547,
          1.2692079354991097,
          1.4388923702643002,
          1.6962771062657371,
          1.8694319345278054,
          2.043579043022922
         ],
         "yaxis": "y"
        },
        {
         "hovertemplate": "<b>Error model: 1-sigma interval</b><br>Hypothetical measurement: %{y:.02f} cm^3<br>Cancer type: Lung cancer (LXF A677)<br><extra></extra>",
         "legendgroup": "Error model",
         "line": {
          "color": "Black"
         },
         "mode": "lines",
         "name": "Error model",
         "opacity": 0.7,
         "showlegend": false,
         "type": "scatter",
         "visible": false,
         "x": [
          0.10024696485182459,
          0.20044255404723985,
          0.3259732177223118,
          0.5414489171166463,
          0.6956777189178757,
          0.8552924122925543,
          1.1016253592175547,
          1.2692079354991097,
          1.4388923702643002,
          1.6962771062657371,
          1.8694319345278054,
          2.043579043022922
         ],
         "xaxis": "x",
         "y": [
          0.11400875524618724,
          0.22795908204373425,
          0.37072245380243785,
          0.6157784144498347,
          0.7911795724046836,
          0.9727059910603179,
          1.252855247414918,
          1.4434433709660877,
          1.636421893765525,
          1.9291401163497797,
          2.1260654443555227,
          2.324119271706781
         ],
         "yaxis": "y"
        },
        {
         "hovertemplate": "<b>Error model: 1-sigma interval</b><br>Hypothetical measurement: %{y:.02f} cm^3<br>Cancer type: Lung cancer (LXF A677)<br><extra></extra>",
         "legendgroup": "Error model",
         "line": {
          "color": "Black"
         },
         "mode": "lines",
         "name": "Error model",
         "opacity": 0.7,
         "showlegend": false,
         "type": "scatter",
         "visible": false,
         "x": [
          0.10024696485182459,
          0.20044255404723985,
          0.3259732177223118,
          0.5414489171166463,
          0.6956777189178757,
          0.8552924122925543,
          1.1016253592175547,
          1.2692079354991097,
          1.4388923702643002,
          1.6962771062657371,
          1.8694319345278054,
          2.043579043022922
         ],
         "xaxis": "x",
         "y": [
          0.08648517445746194,
          0.17292602605074545,
          0.28122398164218576,
          0.467119419783458,
          0.6001758654310677,
          0.7378788335247907,
          0.9503954710201913,
          1.0949725000321318,
          1.2413628467630753,
          1.4634140961816946,
          1.6127984247000884,
          1.7630388143390627
         ],
         "yaxis": "y"
        },
        {
         "hovertemplate": "<b>Error model: 2-sigma interval</b><br>Hypothetical measurement: %{y:.02f} cm^3<br>Cancer type: Lung cancer (LXF A677)<br><extra></extra>",
         "legendgroup": "Error model",
         "line": {
          "color": "Black",
          "width": 1.5
         },
         "mode": "lines",
         "name": "Error model",
         "opacity": 0.5,
         "showlegend": false,
         "type": "scatter",
         "visible": false,
         "x": [
          0.10024696485182459,
          0.20044255404723985,
          0.3259732177223118,
          0.5414489171166463,
          0.6956777189178757,
          0.8552924122925543,
          1.1016253592175547,
          1.2692079354991097,
          1.4388923702643002,
          1.6962771062657371,
          1.8694319345278054,
          2.043579043022922
         ],
         "xaxis": "x",
         "y": [
          0.1277705456405499,
          0.2554756100402287,
          0.4154716898825639,
          0.690107911783023,
          0.8866814258914916,
          1.0901195698280814,
          1.4040851356122814,
          1.6176788064330658,
          1.83395141726675,
          2.1620031264338224,
          2.3826989541832395,
          2.6046595003906403
         ],
         "yaxis": "y"
        },
        {
         "hovertemplate": "<b>Error model: 2-sigma interval</b><br>Hypothetical measurement: %{y:.02f} cm^3<br>Cancer type: Lung cancer (LXF A677)<br><extra></extra>",
         "legendgroup": "Error model",
         "line": {
          "color": "Black",
          "width": 1.5
         },
         "mode": "lines",
         "name": "Error model",
         "opacity": 0.5,
         "showlegend": false,
         "type": "scatter",
         "visible": false,
         "x": [
          0.10024696485182459,
          0.20044255404723985,
          0.3259732177223118,
          0.5414489171166463,
          0.6956777189178757,
          0.8552924122925543,
          1.1016253592175547,
          1.2692079354991097,
          1.4388923702643002,
          1.6962771062657371,
          1.8694319345278054,
          2.043579043022922
         ],
         "xaxis": "x",
         "y": [
          0.07272338406309929,
          0.14540949805425105,
          0.23647474556205975,
          0.39278992245026967,
          0.5046740119442598,
          0.6204652547570271,
          0.7991655828228279,
          0.9207370645651537,
          1.0438333232618504,
          1.2305510860976518,
          1.3561649148723713,
          1.4824985856552035
         ],
         "yaxis": "y"
        },
        {
         "hovertemplate": "<b>Error model: 3-sigma interval</b><br>Hypothetical measurement: %{y:.02f} cm^3<br>Cancer type: Lung cancer (LXF A677)<br><extra></extra>",
         "legendgroup": "Error model",
         "line": {
          "color": "Black",
          "width": 1
         },
         "mode": "lines",
         "name": "Error model",
         "opacity": 0.3,
         "showlegend": false,
         "type": "scatter",
         "visible": false,
         "x": [
          0.10024696485182459,
          0.20044255404723985,
          0.3259732177223118,
          0.5414489171166463,
          0.6956777189178757,
          0.8552924122925543,
          1.1016253592175547,
          1.2692079354991097,
          1.4388923702643002,
          1.6962771062657371,
          1.8694319345278054,
          2.043579043022922
         ],
         "xaxis": "x",
         "y": [
          0.14153233603491255,
          0.2829921380367231,
          0.46022092596268993,
          0.7644374091162114,
          0.9821832793782996,
          1.207533148595845,
          1.5553150238096447,
          1.7919142419000438,
          2.031480940767975,
          2.394866136517865,
          2.639332464010957,
          2.8851997290744995
         ],
         "yaxis": "y"
        },
        {
         "hovertemplate": "<b>Error model: 3-sigma interval</b><br>Hypothetical measurement: %{y:.02f} cm^3<br>Cancer type: Lung cancer (LXF A677)<br><extra></extra>",
         "legendgroup": "Error model",
         "line": {
          "color": "Black",
          "width": 1
         },
         "mode": "lines",
         "name": "Error model",
         "opacity": 0.3,
         "showlegend": false,
         "type": "scatter",
         "visible": false,
         "x": [
          0.10024696485182459,
          0.20044255404723985,
          0.3259732177223118,
          0.5414489171166463,
          0.6956777189178757,
          0.8552924122925543,
          1.1016253592175547,
          1.2692079354991097,
          1.4388923702643002,
          1.6962771062657371,
          1.8694319345278054,
          2.043579043022922
         ],
         "xaxis": "x",
         "y": [
          0.05896159366873664,
          0.11789297005775665,
          0.1917255094819337,
          0.3184604251170813,
          0.40917215845745175,
          0.5030516759892636,
          0.6479356946254646,
          0.7465016290981756,
          0.8463037997606255,
          0.9976880760136094,
          1.099531405044654,
          1.2019583569713443
         ],
         "yaxis": "y"
        },
        {
         "hovertemplate": "<b>ID: 155</b><br>Structural model: %{x:.02f} cm^3<br>Residual: %{y:.02f} cm^3<br>Cancer type: Lung cancer (LXF A677)<br><extra></extra>",
         "legendgroup": "Measurement",
         "marker": {
          "color": "#19D3F3",
          "line": {
           "color": "black",
           "width": 1
          },
          "opacity": 0.7,
          "symbol": "circle"
         },
         "mode": "markers",
         "name": "Measurement",
         "showlegend": false,
         "type": "scatter",
         "visible": false,
         "x": [
          0.10024696485182459,
          0.20044255404723985,
          0.3259732177223118,
          0.5414489171166463,
          0.6956777189178757,
          0.8552924122925543,
          1.1016253592175547,
          1.2692079354991097,
          1.4388923702643002,
          1.6962771062657371,
          1.8694319345278054,
          2.043579043022922
         ],
         "xaxis": "x2",
         "y": [
          0.005628035148175406,
          -0.03273655404723985,
          0.03035478227768823,
          0.10751108288335376,
          -0.0034537189178757144,
          -0.1252124122925542,
          -0.2851453592175547,
          0.2257460645008904,
          0.07780612973569978,
          0.02777289373426295,
          -0.23164793452780552,
          0.20750095697707804
         ],
         "yaxis": "y2"
        },
        {
         "hovertemplate": "<b>Error model: Mean</b><br>Hypothetical residual: %{y:.02f} cm^3<br>Cancer type: Lung cancer (LXF A677)<br><extra></extra>",
         "legendgroup": "Error model",
         "line": {
          "color": "#19D3F3"
         },
         "mode": "lines",
         "name": "Error model",
         "opacity": 0.7,
         "showlegend": false,
         "type": "scatter",
         "visible": false,
         "x": [
          0.10024696485182459,
          0.20044255404723985,
          0.3259732177223118,
          0.5414489171166463,
          0.6956777189178757,
          0.8552924122925543,
          1.1016253592175547,
          1.2692079354991097,
          1.4388923702643002,
          1.6962771062657371,
          1.8694319345278054,
          2.043579043022922
         ],
         "xaxis": "x2",
         "y": [
          0,
          0,
          0,
          0,
          0,
          0,
          0,
          0,
          0,
          0,
          0,
          0
         ],
         "yaxis": "y2"
        },
        {
         "hovertemplate": "<b>Error model: 1-sigma interval</b><br>Hypothetical residual: %{y:.02f} cm^3<br>Cancer type: Lung cancer (LXF A677)<br><extra></extra>",
         "legendgroup": "Error model",
         "line": {
          "color": "Black"
         },
         "mode": "lines",
         "name": "Error model",
         "opacity": 0.7,
         "showlegend": false,
         "type": "scatter",
         "visible": false,
         "x": [
          0.10024696485182459,
          0.20044255404723985,
          0.3259732177223118,
          0.5414489171166463,
          0.6956777189178757,
          0.8552924122925543,
          1.1016253592175547,
          1.2692079354991097,
          1.4388923702643002,
          1.6962771062657371,
          1.8694319345278054,
          2.043579043022922
         ],
         "xaxis": "x2",
         "y": [
          0.01376179039436265,
          0.0275165279964944,
          0.04474923608012603,
          0.07432949733318835,
          0.09550185348680797,
          0.11741357876776357,
          0.15122988819736335,
          0.174235435466978,
          0.19752952350122488,
          0.2328630100840426,
          0.2566335098277171,
          0.28054022868385914
         ],
         "yaxis": "y2"
        },
        {
         "hovertemplate": "<b>Error model: 1-sigma interval</b><br>Hypothetical measurement: %{y:.02f} cm^3<br>Cancer type: Lung cancer (LXF A677)<br><extra></extra>",
         "legendgroup": "Error model",
         "line": {
          "color": "Black"
         },
         "mode": "lines",
         "name": "Error model",
         "opacity": 0.7,
         "showlegend": false,
         "type": "scatter",
         "visible": false,
         "x": [
          0.10024696485182459,
          0.20044255404723985,
          0.3259732177223118,
          0.5414489171166463,
          0.6956777189178757,
          0.8552924122925543,
          1.1016253592175547,
          1.2692079354991097,
          1.4388923702643002,
          1.6962771062657371,
          1.8694319345278054,
          2.043579043022922
         ],
         "xaxis": "x2",
         "y": [
          -0.01376179039436265,
          -0.0275165279964944,
          -0.04474923608012603,
          -0.07432949733318835,
          -0.09550185348680797,
          -0.11741357876776357,
          -0.15122988819736335,
          -0.174235435466978,
          -0.19752952350122488,
          -0.2328630100840426,
          -0.2566335098277171,
          -0.28054022868385914
         ],
         "yaxis": "y2"
        },
        {
         "hovertemplate": "<b>Error model: 2-sigma interval</b><br>Hypothetical residual: %{y:.02f} cm^3<br>Cancer type: Lung cancer (LXF A677)<br><extra></extra>",
         "legendgroup": "Error model",
         "line": {
          "color": "Black"
         },
         "mode": "lines",
         "name": "Error model",
         "opacity": 0.5,
         "showlegend": false,
         "type": "scatter",
         "visible": false,
         "x": [
          0.10024696485182459,
          0.20044255404723985,
          0.3259732177223118,
          0.5414489171166463,
          0.6956777189178757,
          0.8552924122925543,
          1.1016253592175547,
          1.2692079354991097,
          1.4388923702643002,
          1.6962771062657371,
          1.8694319345278054,
          2.043579043022922
         ],
         "xaxis": "x2",
         "y": [
          0.0275235807887253,
          0.0550330559929888,
          0.08949847216025206,
          0.1486589946663767,
          0.19100370697361593,
          0.23482715753552713,
          0.3024597763947267,
          0.348470870933956,
          0.39505904700244976,
          0.4657260201680852,
          0.5132670196554342,
          0.5610804573677183
         ],
         "yaxis": "y2"
        },
        {
         "hovertemplate": "<b>Error model: 2-sigma interval</b><br>Hypothetical measurement: %{y:.02f} cm^3<br>Cancer type: Lung cancer (LXF A677)<br><extra></extra>",
         "legendgroup": "Error model",
         "line": {
          "color": "Black"
         },
         "mode": "lines",
         "name": "Error model",
         "opacity": 0.5,
         "showlegend": false,
         "type": "scatter",
         "visible": false,
         "x": [
          0.10024696485182459,
          0.20044255404723985,
          0.3259732177223118,
          0.5414489171166463,
          0.6956777189178757,
          0.8552924122925543,
          1.1016253592175547,
          1.2692079354991097,
          1.4388923702643002,
          1.6962771062657371,
          1.8694319345278054,
          2.043579043022922
         ],
         "xaxis": "x2",
         "y": [
          -0.0275235807887253,
          -0.0550330559929888,
          -0.08949847216025206,
          -0.1486589946663767,
          -0.19100370697361593,
          -0.23482715753552713,
          -0.3024597763947267,
          -0.348470870933956,
          -0.39505904700244976,
          -0.4657260201680852,
          -0.5132670196554342,
          -0.5610804573677183
         ],
         "yaxis": "y2"
        },
        {
         "hovertemplate": "<b>Error model: 3-sigma interval</b><br>Hypothetical residual: %{y:.02f} cm^3<br>Cancer type: Lung cancer (LXF A677)<br><extra></extra>",
         "legendgroup": "Error model",
         "line": {
          "color": "Black"
         },
         "mode": "lines",
         "name": "Error model",
         "opacity": 0.3,
         "showlegend": false,
         "type": "scatter",
         "visible": false,
         "x": [
          0.10024696485182459,
          0.20044255404723985,
          0.3259732177223118,
          0.5414489171166463,
          0.6956777189178757,
          0.8552924122925543,
          1.1016253592175547,
          1.2692079354991097,
          1.4388923702643002,
          1.6962771062657371,
          1.8694319345278054,
          2.043579043022922
         ],
         "xaxis": "x2",
         "y": [
          0.04128537118308795,
          0.0825495839894832,
          0.1342477082403781,
          0.22298849199956502,
          0.2865055604604239,
          0.35224073630329067,
          0.4536896645920901,
          0.5227063064009341,
          0.5925885705036746,
          0.6985890302521277,
          0.7699005294831514,
          0.8416206860515775
         ],
         "yaxis": "y2"
        },
        {
         "hovertemplate": "<b>Error model: 3-sigma interval</b><br>Hypothetical measurement: %{y:.02f} cm^3<br>Cancer type: Lung cancer (LXF A677)<br><extra></extra>",
         "legendgroup": "Error model",
         "line": {
          "color": "Black"
         },
         "mode": "lines",
         "name": "Error model",
         "opacity": 0.3,
         "showlegend": false,
         "type": "scatter",
         "visible": false,
         "x": [
          0.10024696485182459,
          0.20044255404723985,
          0.3259732177223118,
          0.5414489171166463,
          0.6956777189178757,
          0.8552924122925543,
          1.1016253592175547,
          1.2692079354991097,
          1.4388923702643002,
          1.6962771062657371,
          1.8694319345278054,
          2.043579043022922
         ],
         "xaxis": "x2",
         "y": [
          -0.04128537118308795,
          -0.0825495839894832,
          -0.1342477082403781,
          -0.22298849199956502,
          -0.2865055604604239,
          -0.35224073630329067,
          -0.4536896645920901,
          -0.5227063064009341,
          -0.5925885705036746,
          -0.6985890302521277,
          -0.7699005294831514,
          -0.8416206860515775
         ],
         "yaxis": "y2"
        },
        {
         "hovertemplate": "<b>ID: 169</b><br>Structural model: %{x:.02f} cm^3<br>Measurement: %{y:.02f} cm^3<br>Cancer type: Lung cancer (LXF A677)<br><extra></extra>",
         "legendgroup": "Measurement",
         "marker": {
          "color": "#FF6692",
          "line": {
           "color": "black",
           "width": 1
          },
          "opacity": 0.7,
          "symbol": "circle"
         },
         "mode": "markers",
         "name": "Measurement",
         "showlegend": true,
         "type": "scatter",
         "visible": false,
         "x": [
          0.12150498918765207,
          0.14202150929310542,
          0.16528823446364116,
          0.20575215343264058,
          0.23664980708736066,
          0.27081272744450957,
          0.3283389718779609,
          0.3709141423231315,
          0.4168520452019687,
          0.4919581625220245,
          0.5460395705884505,
          0.6032076478170503,
          0.6944822257765938,
          0.758818173899888
         ],
         "xaxis": "x",
         "y": [
          0.123008,
          0.128774,
          0.1764,
          0.20516650000000006,
          0.24605349999999998,
          0.2788425,
          0.333036,
          0.35644499999999996,
          0.39285,
          0.479859,
          0.5390550000000001,
          0.6354195,
          0.7146180000000001,
          0.7469865
         ],
         "yaxis": "y"
        },
        {
         "hovertemplate": "<b>Error model: Mean</b><br>Hypothetical measurement: %{y:.02f} cm^3<br>Cancer type: Lung cancer (LXF A677)<br><extra></extra>",
         "legendgroup": "Error model",
         "line": {
          "color": "#FF6692"
         },
         "mode": "lines",
         "name": "Error model",
         "opacity": 0.7,
         "showlegend": true,
         "type": "scatter",
         "visible": false,
         "x": [
          0.12150498918765207,
          0.14202150929310542,
          0.16528823446364116,
          0.20575215343264058,
          0.23664980708736066,
          0.27081272744450957,
          0.3283389718779609,
          0.3709141423231315,
          0.4168520452019687,
          0.4919581625220245,
          0.5460395705884505,
          0.6032076478170503,
          0.6944822257765938,
          0.758818173899888
         ],
         "xaxis": "x",
         "y": [
          0.12150498918765207,
          0.14202150929310542,
          0.16528823446364116,
          0.20575215343264058,
          0.23664980708736066,
          0.27081272744450957,
          0.3283389718779609,
          0.3709141423231315,
          0.4168520452019687,
          0.4919581625220245,
          0.5460395705884505,
          0.6032076478170503,
          0.6944822257765938,
          0.758818173899888
         ],
         "yaxis": "y"
        },
        {
         "hovertemplate": "<b>Error model: 1-sigma interval</b><br>Hypothetical measurement: %{y:.02f} cm^3<br>Cancer type: Lung cancer (LXF A677)<br><extra></extra>",
         "legendgroup": "Error model",
         "line": {
          "color": "Black"
         },
         "mode": "lines",
         "name": "Error model",
         "opacity": 0.7,
         "showlegend": false,
         "type": "scatter",
         "visible": false,
         "x": [
          0.12150498918765207,
          0.14202150929310542,
          0.16528823446364116,
          0.20575215343264058,
          0.23664980708736066,
          0.27081272744450957,
          0.3283389718779609,
          0.3709141423231315,
          0.4168520452019687,
          0.4919581625220245,
          0.5460395705884505,
          0.6032076478170503,
          0.6944822257765938,
          0.758818173899888
         ],
         "xaxis": "x",
         "y": [
          0.12669858147266003,
          0.14809205684758242,
          0.17235329166871755,
          0.21454679473779062,
          0.2467651333842864,
          0.28238830883702,
          0.34237344702678973,
          0.38676844461021426,
          0.43466991079271555,
          0.5129863535000516,
          0.5693794097183275,
          0.6289910712542731,
          0.7241670770241261,
          0.7912529919270213
         ],
         "yaxis": "y"
        },
        {
         "hovertemplate": "<b>Error model: 1-sigma interval</b><br>Hypothetical measurement: %{y:.02f} cm^3<br>Cancer type: Lung cancer (LXF A677)<br><extra></extra>",
         "legendgroup": "Error model",
         "line": {
          "color": "Black"
         },
         "mode": "lines",
         "name": "Error model",
         "opacity": 0.7,
         "showlegend": false,
         "type": "scatter",
         "visible": false,
         "x": [
          0.12150498918765207,
          0.14202150929310542,
          0.16528823446364116,
          0.20575215343264058,
          0.23664980708736066,
          0.27081272744450957,
          0.3283389718779609,
          0.3709141423231315,
          0.4168520452019687,
          0.4919581625220245,
          0.5460395705884505,
          0.6032076478170503,
          0.6944822257765938,
          0.758818173899888
         ],
         "xaxis": "x",
         "y": [
          0.11631139690264412,
          0.13595096173862842,
          0.15822317725856477,
          0.19695751212749055,
          0.22653448079043492,
          0.25923714605199916,
          0.3143044967291321,
          0.3550598400360488,
          0.3990341796112219,
          0.47092997154399735,
          0.5226997314585736,
          0.5774242243798274,
          0.6647973745290615,
          0.7263833558727548
         ],
         "yaxis": "y"
        },
        {
         "hovertemplate": "<b>Error model: 2-sigma interval</b><br>Hypothetical measurement: %{y:.02f} cm^3<br>Cancer type: Lung cancer (LXF A677)<br><extra></extra>",
         "legendgroup": "Error model",
         "line": {
          "color": "Black",
          "width": 1.5
         },
         "mode": "lines",
         "name": "Error model",
         "opacity": 0.5,
         "showlegend": false,
         "type": "scatter",
         "visible": false,
         "x": [
          0.12150498918765207,
          0.14202150929310542,
          0.16528823446364116,
          0.20575215343264058,
          0.23664980708736066,
          0.27081272744450957,
          0.3283389718779609,
          0.3709141423231315,
          0.4168520452019687,
          0.4919581625220245,
          0.5460395705884505,
          0.6032076478170503,
          0.6944822257765938,
          0.758818173899888
         ],
         "xaxis": "x",
         "y": [
          0.13189217375766796,
          0.15416260440205942,
          0.17941834887379396,
          0.22334143604294066,
          0.25688045968121215,
          0.2939638902295304,
          0.35640792217561856,
          0.402622746897297,
          0.4524877763834623,
          0.5340145444780788,
          0.5927192488482043,
          0.6547744946914961,
          0.7538519282716583,
          0.8236878099541544
         ],
         "yaxis": "y"
        },
        {
         "hovertemplate": "<b>Error model: 2-sigma interval</b><br>Hypothetical measurement: %{y:.02f} cm^3<br>Cancer type: Lung cancer (LXF A677)<br><extra></extra>",
         "legendgroup": "Error model",
         "line": {
          "color": "Black",
          "width": 1.5
         },
         "mode": "lines",
         "name": "Error model",
         "opacity": 0.5,
         "showlegend": false,
         "type": "scatter",
         "visible": false,
         "x": [
          0.12150498918765207,
          0.14202150929310542,
          0.16528823446364116,
          0.20575215343264058,
          0.23664980708736066,
          0.27081272744450957,
          0.3283389718779609,
          0.3709141423231315,
          0.4168520452019687,
          0.4919581625220245,
          0.5460395705884505,
          0.6032076478170503,
          0.6944822257765938,
          0.758818173899888
         ],
         "xaxis": "x",
         "y": [
          0.11111780461763618,
          0.12988041418415142,
          0.15115812005348836,
          0.1881628708223405,
          0.21641915449350918,
          0.24766156465948874,
          0.30027002158030325,
          0.33920553774896606,
          0.3812163140204751,
          0.4499017805659702,
          0.49935989232869676,
          0.5516408009426045,
          0.6351125232815293,
          0.6939485378456217
         ],
         "yaxis": "y"
        },
        {
         "hovertemplate": "<b>Error model: 3-sigma interval</b><br>Hypothetical measurement: %{y:.02f} cm^3<br>Cancer type: Lung cancer (LXF A677)<br><extra></extra>",
         "legendgroup": "Error model",
         "line": {
          "color": "Black",
          "width": 1
         },
         "mode": "lines",
         "name": "Error model",
         "opacity": 0.3,
         "showlegend": false,
         "type": "scatter",
         "visible": false,
         "x": [
          0.12150498918765207,
          0.14202150929310542,
          0.16528823446364116,
          0.20575215343264058,
          0.23664980708736066,
          0.27081272744450957,
          0.3283389718779609,
          0.3709141423231315,
          0.4168520452019687,
          0.4919581625220245,
          0.5460395705884505,
          0.6032076478170503,
          0.6944822257765938,
          0.758818173899888
         ],
         "xaxis": "x",
         "y": [
          0.13708576604267592,
          0.16023315195653645,
          0.18648340607887037,
          0.2321360773480907,
          0.2669957859781379,
          0.3055394716220408,
          0.3704423973244474,
          0.4184770491843797,
          0.47030564197420915,
          0.5550427354561059,
          0.6160590879780812,
          0.6805579181287189,
          0.7835367795191905,
          0.8561226279812875
         ],
         "yaxis": "y"
        },
        {
         "hovertemplate": "<b>Error model: 3-sigma interval</b><br>Hypothetical measurement: %{y:.02f} cm^3<br>Cancer type: Lung cancer (LXF A677)<br><extra></extra>",
         "legendgroup": "Error model",
         "line": {
          "color": "Black",
          "width": 1
         },
         "mode": "lines",
         "name": "Error model",
         "opacity": 0.3,
         "showlegend": false,
         "type": "scatter",
         "visible": false,
         "x": [
          0.12150498918765207,
          0.14202150929310542,
          0.16528823446364116,
          0.20575215343264058,
          0.23664980708736066,
          0.27081272744450957,
          0.3283389718779609,
          0.3709141423231315,
          0.4168520452019687,
          0.4919581625220245,
          0.5460395705884505,
          0.6032076478170503,
          0.6944822257765938,
          0.758818173899888
         ],
         "xaxis": "x",
         "y": [
          0.10592421233262823,
          0.12380986662967439,
          0.14409306284841195,
          0.17936822951719048,
          0.20630382819658344,
          0.23608598326697833,
          0.2862355464314744,
          0.3233512354618833,
          0.3633984484297283,
          0.4288735895879431,
          0.4760200531988199,
          0.5258573775053816,
          0.605427672033997,
          0.6615137198184886
         ],
         "yaxis": "y"
        },
        {
         "hovertemplate": "<b>ID: 169</b><br>Structural model: %{x:.02f} cm^3<br>Residual: %{y:.02f} cm^3<br>Cancer type: Lung cancer (LXF A677)<br><extra></extra>",
         "legendgroup": "Measurement",
         "marker": {
          "color": "#FF6692",
          "line": {
           "color": "black",
           "width": 1
          },
          "opacity": 0.7,
          "symbol": "circle"
         },
         "mode": "markers",
         "name": "Measurement",
         "showlegend": false,
         "type": "scatter",
         "visible": false,
         "x": [
          0.12150498918765207,
          0.14202150929310542,
          0.16528823446364116,
          0.20575215343264058,
          0.23664980708736066,
          0.27081272744450957,
          0.3283389718779609,
          0.3709141423231315,
          0.4168520452019687,
          0.4919581625220245,
          0.5460395705884505,
          0.6032076478170503,
          0.6944822257765938,
          0.758818173899888
         ],
         "xaxis": "x2",
         "y": [
          0.001503010812347938,
          -0.01324750929310542,
          0.011111765536358842,
          -0.000585653432640526,
          0.009403692912639317,
          0.008029772555490422,
          0.004697028122039093,
          -0.014469142323131567,
          -0.024002045201968747,
          -0.012099162522024531,
          -0.006984570588450478,
          0.03221185218294975,
          0.02013577422340629,
          -0.01183167389988804
         ],
         "yaxis": "y2"
        },
        {
         "hovertemplate": "<b>Error model: Mean</b><br>Hypothetical residual: %{y:.02f} cm^3<br>Cancer type: Lung cancer (LXF A677)<br><extra></extra>",
         "legendgroup": "Error model",
         "line": {
          "color": "#FF6692"
         },
         "mode": "lines",
         "name": "Error model",
         "opacity": 0.7,
         "showlegend": false,
         "type": "scatter",
         "visible": false,
         "x": [
          0.12150498918765207,
          0.14202150929310542,
          0.16528823446364116,
          0.20575215343264058,
          0.23664980708736066,
          0.27081272744450957,
          0.3283389718779609,
          0.3709141423231315,
          0.4168520452019687,
          0.4919581625220245,
          0.5460395705884505,
          0.6032076478170503,
          0.6944822257765938,
          0.758818173899888
         ],
         "xaxis": "x2",
         "y": [
          0,
          0,
          0,
          0,
          0,
          0,
          0,
          0,
          0,
          0,
          0,
          0,
          0,
          0
         ],
         "yaxis": "y2"
        },
        {
         "hovertemplate": "<b>Error model: 1-sigma interval</b><br>Hypothetical residual: %{y:.02f} cm^3<br>Cancer type: Lung cancer (LXF A677)<br><extra></extra>",
         "legendgroup": "Error model",
         "line": {
          "color": "Black"
         },
         "mode": "lines",
         "name": "Error model",
         "opacity": 0.7,
         "showlegend": false,
         "type": "scatter",
         "visible": false,
         "x": [
          0.12150498918765207,
          0.14202150929310542,
          0.16528823446364116,
          0.20575215343264058,
          0.23664980708736066,
          0.27081272744450957,
          0.3283389718779609,
          0.3709141423231315,
          0.4168520452019687,
          0.4919581625220245,
          0.5460395705884505,
          0.6032076478170503,
          0.6944822257765938,
          0.758818173899888
         ],
         "xaxis": "x2",
         "y": [
          0.005193592285007946,
          0.0060705475544770085,
          0.0070650572050764,
          0.008794641305150036,
          0.010115326296925744,
          0.011575581392510416,
          0.014034475148828832,
          0.015854302287082737,
          0.017817865590746804,
          0.02102819097802715,
          0.023339839129876878,
          0.025783423437222893,
          0.029684851247532236,
          0.03243481802713316
         ],
         "yaxis": "y2"
        },
        {
         "hovertemplate": "<b>Error model: 1-sigma interval</b><br>Hypothetical measurement: %{y:.02f} cm^3<br>Cancer type: Lung cancer (LXF A677)<br><extra></extra>",
         "legendgroup": "Error model",
         "line": {
          "color": "Black"
         },
         "mode": "lines",
         "name": "Error model",
         "opacity": 0.7,
         "showlegend": false,
         "type": "scatter",
         "visible": false,
         "x": [
          0.12150498918765207,
          0.14202150929310542,
          0.16528823446364116,
          0.20575215343264058,
          0.23664980708736066,
          0.27081272744450957,
          0.3283389718779609,
          0.3709141423231315,
          0.4168520452019687,
          0.4919581625220245,
          0.5460395705884505,
          0.6032076478170503,
          0.6944822257765938,
          0.758818173899888
         ],
         "xaxis": "x2",
         "y": [
          -0.005193592285007946,
          -0.0060705475544770085,
          -0.0070650572050764,
          -0.008794641305150036,
          -0.010115326296925744,
          -0.011575581392510416,
          -0.014034475148828832,
          -0.015854302287082737,
          -0.017817865590746804,
          -0.02102819097802715,
          -0.023339839129876878,
          -0.025783423437222893,
          -0.029684851247532236,
          -0.03243481802713316
         ],
         "yaxis": "y2"
        },
        {
         "hovertemplate": "<b>Error model: 2-sigma interval</b><br>Hypothetical residual: %{y:.02f} cm^3<br>Cancer type: Lung cancer (LXF A677)<br><extra></extra>",
         "legendgroup": "Error model",
         "line": {
          "color": "Black"
         },
         "mode": "lines",
         "name": "Error model",
         "opacity": 0.5,
         "showlegend": false,
         "type": "scatter",
         "visible": false,
         "x": [
          0.12150498918765207,
          0.14202150929310542,
          0.16528823446364116,
          0.20575215343264058,
          0.23664980708736066,
          0.27081272744450957,
          0.3283389718779609,
          0.3709141423231315,
          0.4168520452019687,
          0.4919581625220245,
          0.5460395705884505,
          0.6032076478170503,
          0.6944822257765938,
          0.758818173899888
         ],
         "xaxis": "x2",
         "y": [
          0.010387184570015893,
          0.012141095108954017,
          0.0141301144101528,
          0.017589282610300072,
          0.020230652593851487,
          0.023151162785020832,
          0.028068950297657665,
          0.03170860457416547,
          0.03563573118149361,
          0.0420563819560543,
          0.046679678259753755,
          0.051566846874445786,
          0.05936970249506447,
          0.06486963605426632
         ],
         "yaxis": "y2"
        },
        {
         "hovertemplate": "<b>Error model: 2-sigma interval</b><br>Hypothetical measurement: %{y:.02f} cm^3<br>Cancer type: Lung cancer (LXF A677)<br><extra></extra>",
         "legendgroup": "Error model",
         "line": {
          "color": "Black"
         },
         "mode": "lines",
         "name": "Error model",
         "opacity": 0.5,
         "showlegend": false,
         "type": "scatter",
         "visible": false,
         "x": [
          0.12150498918765207,
          0.14202150929310542,
          0.16528823446364116,
          0.20575215343264058,
          0.23664980708736066,
          0.27081272744450957,
          0.3283389718779609,
          0.3709141423231315,
          0.4168520452019687,
          0.4919581625220245,
          0.5460395705884505,
          0.6032076478170503,
          0.6944822257765938,
          0.758818173899888
         ],
         "xaxis": "x2",
         "y": [
          -0.010387184570015893,
          -0.012141095108954017,
          -0.0141301144101528,
          -0.017589282610300072,
          -0.020230652593851487,
          -0.023151162785020832,
          -0.028068950297657665,
          -0.03170860457416547,
          -0.03563573118149361,
          -0.0420563819560543,
          -0.046679678259753755,
          -0.051566846874445786,
          -0.05936970249506447,
          -0.06486963605426632
         ],
         "yaxis": "y2"
        },
        {
         "hovertemplate": "<b>Error model: 3-sigma interval</b><br>Hypothetical residual: %{y:.02f} cm^3<br>Cancer type: Lung cancer (LXF A677)<br><extra></extra>",
         "legendgroup": "Error model",
         "line": {
          "color": "Black"
         },
         "mode": "lines",
         "name": "Error model",
         "opacity": 0.3,
         "showlegend": false,
         "type": "scatter",
         "visible": false,
         "x": [
          0.12150498918765207,
          0.14202150929310542,
          0.16528823446364116,
          0.20575215343264058,
          0.23664980708736066,
          0.27081272744450957,
          0.3283389718779609,
          0.3709141423231315,
          0.4168520452019687,
          0.4919581625220245,
          0.5460395705884505,
          0.6032076478170503,
          0.6944822257765938,
          0.758818173899888
         ],
         "xaxis": "x2",
         "y": [
          0.01558077685502384,
          0.01821164266343103,
          0.0211951716152292,
          0.026383923915450108,
          0.030345978890777232,
          0.03472674417753125,
          0.042103425446486493,
          0.04756290686124821,
          0.05345359677224042,
          0.06308457293408146,
          0.07001951738963064,
          0.07735027031166869,
          0.08905455374259671,
          0.09730445408139948
         ],
         "yaxis": "y2"
        },
        {
         "hovertemplate": "<b>Error model: 3-sigma interval</b><br>Hypothetical measurement: %{y:.02f} cm^3<br>Cancer type: Lung cancer (LXF A677)<br><extra></extra>",
         "legendgroup": "Error model",
         "line": {
          "color": "Black"
         },
         "mode": "lines",
         "name": "Error model",
         "opacity": 0.3,
         "showlegend": false,
         "type": "scatter",
         "visible": false,
         "x": [
          0.12150498918765207,
          0.14202150929310542,
          0.16528823446364116,
          0.20575215343264058,
          0.23664980708736066,
          0.27081272744450957,
          0.3283389718779609,
          0.3709141423231315,
          0.4168520452019687,
          0.4919581625220245,
          0.5460395705884505,
          0.6032076478170503,
          0.6944822257765938,
          0.758818173899888
         ],
         "xaxis": "x2",
         "y": [
          -0.01558077685502384,
          -0.01821164266343103,
          -0.0211951716152292,
          -0.026383923915450108,
          -0.030345978890777232,
          -0.03472674417753125,
          -0.042103425446486493,
          -0.04756290686124821,
          -0.05345359677224042,
          -0.06308457293408146,
          -0.07001951738963064,
          -0.07735027031166869,
          -0.08905455374259671,
          -0.09730445408139948
         ],
         "yaxis": "y2"
        },
        {
         "hovertemplate": "<b>ID: 170</b><br>Structural model: %{x:.02f} cm^3<br>Measurement: %{y:.02f} cm^3<br>Cancer type: Lung cancer (LXF A677)<br><extra></extra>",
         "legendgroup": "Measurement",
         "marker": {
          "color": "#B6E880",
          "line": {
           "color": "black",
           "width": 1
          },
          "opacity": 0.7,
          "symbol": "circle"
         },
         "mode": "markers",
         "name": "Measurement",
         "showlegend": true,
         "type": "scatter",
         "visible": false,
         "x": [
          0.0831405489432704,
          0.09695632921638037,
          0.11283672158207614,
          0.14104343199687264,
          0.16312169594457648,
          0.18810816816306103,
          0.2315389610814651,
          0.26481656402373777,
          0.3017829823805008,
          0.36450166639990916,
          0.4113519453762348,
          0.46233097792534456,
          0.5466487710161544,
          0.6080771289981588
         ],
         "xaxis": "x",
         "y": [
          0.0800565,
          0.094221,
          0.10933,
          0.158994,
          0.17615699999999998,
          0.19407850000000001,
          0.2041605,
          0.246402,
          0.3050865,
          0.3683265,
          0.41817600000000005,
          0.4396155,
          0.5661554999999999,
          0.6206265000000001
         ],
         "yaxis": "y"
        },
        {
         "hovertemplate": "<b>Error model: Mean</b><br>Hypothetical measurement: %{y:.02f} cm^3<br>Cancer type: Lung cancer (LXF A677)<br><extra></extra>",
         "legendgroup": "Error model",
         "line": {
          "color": "#B6E880"
         },
         "mode": "lines",
         "name": "Error model",
         "opacity": 0.7,
         "showlegend": true,
         "type": "scatter",
         "visible": false,
         "x": [
          0.0831405489432704,
          0.09695632921638037,
          0.11283672158207614,
          0.14104343199687264,
          0.16312169594457648,
          0.18810816816306103,
          0.2315389610814651,
          0.26481656402373777,
          0.3017829823805008,
          0.36450166639990916,
          0.4113519453762348,
          0.46233097792534456,
          0.5466487710161544,
          0.6080771289981588
         ],
         "xaxis": "x",
         "y": [
          0.0831405489432704,
          0.09695632921638037,
          0.11283672158207614,
          0.14104343199687264,
          0.16312169594457648,
          0.18810816816306103,
          0.2315389610814651,
          0.26481656402373777,
          0.3017829823805008,
          0.36450166639990916,
          0.4113519453762348,
          0.46233097792534456,
          0.5466487710161544,
          0.6080771289981588
         ],
         "yaxis": "y"
        },
        {
         "hovertemplate": "<b>Error model: 1-sigma interval</b><br>Hypothetical measurement: %{y:.02f} cm^3<br>Cancer type: Lung cancer (LXF A677)<br><extra></extra>",
         "legendgroup": "Error model",
         "line": {
          "color": "Black"
         },
         "mode": "lines",
         "name": "Error model",
         "opacity": 0.7,
         "showlegend": false,
         "type": "scatter",
         "visible": false,
         "x": [
          0.0831405489432704,
          0.09695632921638037,
          0.11283672158207614,
          0.14104343199687264,
          0.16312169594457648,
          0.18810816816306103,
          0.2315389610814651,
          0.26481656402373777,
          0.3017829823805008,
          0.36450166639990916,
          0.4113519453762348,
          0.46233097792534456,
          0.5466487710161544,
          0.6080771289981588
         ],
         "xaxis": "x",
         "y": [
          0.08811603964195455,
          0.10275861607070244,
          0.11958935992566837,
          0.149484082112014,
          0.17288360503997607,
          0.19936537602297597,
          0.24539525577624616,
          0.28066433467120655,
          0.31984298367878283,
          0.38631502551141905,
          0.435969028185029,
          0.4899988669352029,
          0.5793626021155117,
          0.6444670992096533
         ],
         "yaxis": "y"
        },
        {
         "hovertemplate": "<b>Error model: 1-sigma interval</b><br>Hypothetical measurement: %{y:.02f} cm^3<br>Cancer type: Lung cancer (LXF A677)<br><extra></extra>",
         "legendgroup": "Error model",
         "line": {
          "color": "Black"
         },
         "mode": "lines",
         "name": "Error model",
         "opacity": 0.7,
         "showlegend": false,
         "type": "scatter",
         "visible": false,
         "x": [
          0.0831405489432704,
          0.09695632921638037,
          0.11283672158207614,
          0.14104343199687264,
          0.16312169594457648,
          0.18810816816306103,
          0.2315389610814651,
          0.26481656402373777,
          0.3017829823805008,
          0.36450166639990916,
          0.4113519453762348,
          0.46233097792534456,
          0.5466487710161544,
          0.6080771289981588
         ],
         "xaxis": "x",
         "y": [
          0.07816505824458625,
          0.09115404236205829,
          0.10608408323848391,
          0.13260278188173127,
          0.1533597868491769,
          0.1768509603031461,
          0.21768266638668404,
          0.24896879337626895,
          0.2837229810822187,
          0.3426883072883993,
          0.38673486256744066,
          0.4346630889154862,
          0.5139349399167971,
          0.5716871587866643
         ],
         "yaxis": "y"
        },
        {
         "hovertemplate": "<b>Error model: 2-sigma interval</b><br>Hypothetical measurement: %{y:.02f} cm^3<br>Cancer type: Lung cancer (LXF A677)<br><extra></extra>",
         "legendgroup": "Error model",
         "line": {
          "color": "Black",
          "width": 1.5
         },
         "mode": "lines",
         "name": "Error model",
         "opacity": 0.5,
         "showlegend": false,
         "type": "scatter",
         "visible": false,
         "x": [
          0.0831405489432704,
          0.09695632921638037,
          0.11283672158207614,
          0.14104343199687264,
          0.16312169594457648,
          0.18810816816306103,
          0.2315389610814651,
          0.26481656402373777,
          0.3017829823805008,
          0.36450166639990916,
          0.4113519453762348,
          0.46233097792534456,
          0.5466487710161544,
          0.6080771289981588
         ],
         "xaxis": "x",
         "y": [
          0.09309153034063872,
          0.10856090292502453,
          0.1263419982692606,
          0.15792473222715536,
          0.18264551413537566,
          0.2106225838828909,
          0.2592515504710272,
          0.2965121053186754,
          0.3379029849770649,
          0.408128384622929,
          0.46058611099382313,
          0.5176667559450613,
          0.6120764332148692,
          0.6808570694211477
         ],
         "yaxis": "y"
        },
        {
         "hovertemplate": "<b>Error model: 2-sigma interval</b><br>Hypothetical measurement: %{y:.02f} cm^3<br>Cancer type: Lung cancer (LXF A677)<br><extra></extra>",
         "legendgroup": "Error model",
         "line": {
          "color": "Black",
          "width": 1.5
         },
         "mode": "lines",
         "name": "Error model",
         "opacity": 0.5,
         "showlegend": false,
         "type": "scatter",
         "visible": false,
         "x": [
          0.0831405489432704,
          0.09695632921638037,
          0.11283672158207614,
          0.14104343199687264,
          0.16312169594457648,
          0.18810816816306103,
          0.2315389610814651,
          0.26481656402373777,
          0.3017829823805008,
          0.36450166639990916,
          0.4113519453762348,
          0.46233097792534456,
          0.5466487710161544,
          0.6080771289981588
         ],
         "xaxis": "x",
         "y": [
          0.07318956754590208,
          0.0853517555077362,
          0.0993314448948917,
          0.12416213176658991,
          0.1435978777537773,
          0.16559375244323116,
          0.20382637169190299,
          0.23312102272880014,
          0.26566297978393666,
          0.32087494817688933,
          0.3621177797586465,
          0.4069951999056278,
          0.4812211088174397,
          0.53529718857517
         ],
         "yaxis": "y"
        },
        {
         "hovertemplate": "<b>Error model: 3-sigma interval</b><br>Hypothetical measurement: %{y:.02f} cm^3<br>Cancer type: Lung cancer (LXF A677)<br><extra></extra>",
         "legendgroup": "Error model",
         "line": {
          "color": "Black",
          "width": 1
         },
         "mode": "lines",
         "name": "Error model",
         "opacity": 0.3,
         "showlegend": false,
         "type": "scatter",
         "visible": false,
         "x": [
          0.0831405489432704,
          0.09695632921638037,
          0.11283672158207614,
          0.14104343199687264,
          0.16312169594457648,
          0.18810816816306103,
          0.2315389610814651,
          0.26481656402373777,
          0.3017829823805008,
          0.36450166639990916,
          0.4113519453762348,
          0.46233097792534456,
          0.5466487710161544,
          0.6080771289981588
         ],
         "xaxis": "x",
         "y": [
          0.09806702103932287,
          0.11436318977934662,
          0.1330946366128528,
          0.16636538234229672,
          0.19240742323077523,
          0.2218797917428058,
          0.27310784516580827,
          0.31235987596614423,
          0.35596298627534695,
          0.42994174373443894,
          0.4852031938026172,
          0.5453346449549197,
          0.6447902643142265,
          0.7172470396326421
         ],
         "yaxis": "y"
        },
        {
         "hovertemplate": "<b>Error model: 3-sigma interval</b><br>Hypothetical measurement: %{y:.02f} cm^3<br>Cancer type: Lung cancer (LXF A677)<br><extra></extra>",
         "legendgroup": "Error model",
         "line": {
          "color": "Black",
          "width": 1
         },
         "mode": "lines",
         "name": "Error model",
         "opacity": 0.3,
         "showlegend": false,
         "type": "scatter",
         "visible": false,
         "x": [
          0.0831405489432704,
          0.09695632921638037,
          0.11283672158207614,
          0.14104343199687264,
          0.16312169594457648,
          0.18810816816306103,
          0.2315389610814651,
          0.26481656402373777,
          0.3017829823805008,
          0.36450166639990916,
          0.4113519453762348,
          0.46233097792534456,
          0.5466487710161544,
          0.6080771289981588
         ],
         "xaxis": "x",
         "y": [
          0.06821407684721793,
          0.07954946865341411,
          0.09257880655129946,
          0.11572148165144855,
          0.13383596865837774,
          0.15433654458331625,
          0.18997007699712193,
          0.21727325208133133,
          0.2476029784856546,
          0.2990615890653794,
          0.3375006969498524,
          0.3793273108957695,
          0.4485072777180823,
          0.49890721836367546
         ],
         "yaxis": "y"
        },
        {
         "hovertemplate": "<b>ID: 170</b><br>Structural model: %{x:.02f} cm^3<br>Residual: %{y:.02f} cm^3<br>Cancer type: Lung cancer (LXF A677)<br><extra></extra>",
         "legendgroup": "Measurement",
         "marker": {
          "color": "#B6E880",
          "line": {
           "color": "black",
           "width": 1
          },
          "opacity": 0.7,
          "symbol": "circle"
         },
         "mode": "markers",
         "name": "Measurement",
         "showlegend": false,
         "type": "scatter",
         "visible": false,
         "x": [
          0.0831405489432704,
          0.09695632921638037,
          0.11283672158207614,
          0.14104343199687264,
          0.16312169594457648,
          0.18810816816306103,
          0.2315389610814651,
          0.26481656402373777,
          0.3017829823805008,
          0.36450166639990916,
          0.4113519453762348,
          0.46233097792534456,
          0.5466487710161544,
          0.6080771289981588
         ],
         "xaxis": "x2",
         "y": [
          -0.0030840489432703982,
          -0.0027353292163803666,
          -0.0035067215820761416,
          0.01795056800312736,
          0.013035304055423497,
          0.005970331836938986,
          -0.027378461081465105,
          -0.018414564023737756,
          0.0033035176194992077,
          0.003824833600090838,
          0.00682405462376523,
          -0.022715477925344563,
          0.019506728983845534,
          0.01254937100184128
         ],
         "yaxis": "y2"
        },
        {
         "hovertemplate": "<b>Error model: Mean</b><br>Hypothetical residual: %{y:.02f} cm^3<br>Cancer type: Lung cancer (LXF A677)<br><extra></extra>",
         "legendgroup": "Error model",
         "line": {
          "color": "#B6E880"
         },
         "mode": "lines",
         "name": "Error model",
         "opacity": 0.7,
         "showlegend": false,
         "type": "scatter",
         "visible": false,
         "x": [
          0.0831405489432704,
          0.09695632921638037,
          0.11283672158207614,
          0.14104343199687264,
          0.16312169594457648,
          0.18810816816306103,
          0.2315389610814651,
          0.26481656402373777,
          0.3017829823805008,
          0.36450166639990916,
          0.4113519453762348,
          0.46233097792534456,
          0.5466487710161544,
          0.6080771289981588
         ],
         "xaxis": "x2",
         "y": [
          0,
          0,
          0,
          0,
          0,
          0,
          0,
          0,
          0,
          0,
          0,
          0,
          0,
          0
         ],
         "yaxis": "y2"
        },
        {
         "hovertemplate": "<b>Error model: 1-sigma interval</b><br>Hypothetical residual: %{y:.02f} cm^3<br>Cancer type: Lung cancer (LXF A677)<br><extra></extra>",
         "legendgroup": "Error model",
         "line": {
          "color": "Black"
         },
         "mode": "lines",
         "name": "Error model",
         "opacity": 0.7,
         "showlegend": false,
         "type": "scatter",
         "visible": false,
         "x": [
          0.0831405489432704,
          0.09695632921638037,
          0.11283672158207614,
          0.14104343199687264,
          0.16312169594457648,
          0.18810816816306103,
          0.2315389610814651,
          0.26481656402373777,
          0.3017829823805008,
          0.36450166639990916,
          0.4113519453762348,
          0.46233097792534456,
          0.5466487710161544,
          0.6080771289981588
         ],
         "xaxis": "x2",
         "y": [
          0.004975490698684157,
          0.005802286854322082,
          0.006752638343592225,
          0.008440650115141361,
          0.009761909095399583,
          0.011257207859914931,
          0.01385629469478106,
          0.015847770647468812,
          0.018060001298282058,
          0.021813359111509917,
          0.024617082808794145,
          0.02766788900985836,
          0.03271383109935736,
          0.03638997021149444
         ],
         "yaxis": "y2"
        },
        {
         "hovertemplate": "<b>Error model: 1-sigma interval</b><br>Hypothetical measurement: %{y:.02f} cm^3<br>Cancer type: Lung cancer (LXF A677)<br><extra></extra>",
         "legendgroup": "Error model",
         "line": {
          "color": "Black"
         },
         "mode": "lines",
         "name": "Error model",
         "opacity": 0.7,
         "showlegend": false,
         "type": "scatter",
         "visible": false,
         "x": [
          0.0831405489432704,
          0.09695632921638037,
          0.11283672158207614,
          0.14104343199687264,
          0.16312169594457648,
          0.18810816816306103,
          0.2315389610814651,
          0.26481656402373777,
          0.3017829823805008,
          0.36450166639990916,
          0.4113519453762348,
          0.46233097792534456,
          0.5466487710161544,
          0.6080771289981588
         ],
         "xaxis": "x2",
         "y": [
          -0.004975490698684157,
          -0.005802286854322082,
          -0.006752638343592225,
          -0.008440650115141361,
          -0.009761909095399583,
          -0.011257207859914931,
          -0.01385629469478106,
          -0.015847770647468812,
          -0.018060001298282058,
          -0.021813359111509917,
          -0.024617082808794145,
          -0.02766788900985836,
          -0.03271383109935736,
          -0.03638997021149444
         ],
         "yaxis": "y2"
        },
        {
         "hovertemplate": "<b>Error model: 2-sigma interval</b><br>Hypothetical residual: %{y:.02f} cm^3<br>Cancer type: Lung cancer (LXF A677)<br><extra></extra>",
         "legendgroup": "Error model",
         "line": {
          "color": "Black"
         },
         "mode": "lines",
         "name": "Error model",
         "opacity": 0.5,
         "showlegend": false,
         "type": "scatter",
         "visible": false,
         "x": [
          0.0831405489432704,
          0.09695632921638037,
          0.11283672158207614,
          0.14104343199687264,
          0.16312169594457648,
          0.18810816816306103,
          0.2315389610814651,
          0.26481656402373777,
          0.3017829823805008,
          0.36450166639990916,
          0.4113519453762348,
          0.46233097792534456,
          0.5466487710161544,
          0.6080771289981588
         ],
         "xaxis": "x2",
         "y": [
          0.009950981397368315,
          0.011604573708644164,
          0.01350527668718445,
          0.016881300230282722,
          0.019523818190799166,
          0.022514415719829862,
          0.02771258938956212,
          0.031695541294937624,
          0.036120002596564116,
          0.043626718223019834,
          0.04923416561758829,
          0.05533577801971672,
          0.06542766219871472,
          0.07277994042298888
         ],
         "yaxis": "y2"
        },
        {
         "hovertemplate": "<b>Error model: 2-sigma interval</b><br>Hypothetical measurement: %{y:.02f} cm^3<br>Cancer type: Lung cancer (LXF A677)<br><extra></extra>",
         "legendgroup": "Error model",
         "line": {
          "color": "Black"
         },
         "mode": "lines",
         "name": "Error model",
         "opacity": 0.5,
         "showlegend": false,
         "type": "scatter",
         "visible": false,
         "x": [
          0.0831405489432704,
          0.09695632921638037,
          0.11283672158207614,
          0.14104343199687264,
          0.16312169594457648,
          0.18810816816306103,
          0.2315389610814651,
          0.26481656402373777,
          0.3017829823805008,
          0.36450166639990916,
          0.4113519453762348,
          0.46233097792534456,
          0.5466487710161544,
          0.6080771289981588
         ],
         "xaxis": "x2",
         "y": [
          -0.009950981397368315,
          -0.011604573708644164,
          -0.01350527668718445,
          -0.016881300230282722,
          -0.019523818190799166,
          -0.022514415719829862,
          -0.02771258938956212,
          -0.031695541294937624,
          -0.036120002596564116,
          -0.043626718223019834,
          -0.04923416561758829,
          -0.05533577801971672,
          -0.06542766219871472,
          -0.07277994042298888
         ],
         "yaxis": "y2"
        },
        {
         "hovertemplate": "<b>Error model: 3-sigma interval</b><br>Hypothetical residual: %{y:.02f} cm^3<br>Cancer type: Lung cancer (LXF A677)<br><extra></extra>",
         "legendgroup": "Error model",
         "line": {
          "color": "Black"
         },
         "mode": "lines",
         "name": "Error model",
         "opacity": 0.3,
         "showlegend": false,
         "type": "scatter",
         "visible": false,
         "x": [
          0.0831405489432704,
          0.09695632921638037,
          0.11283672158207614,
          0.14104343199687264,
          0.16312169594457648,
          0.18810816816306103,
          0.2315389610814651,
          0.26481656402373777,
          0.3017829823805008,
          0.36450166639990916,
          0.4113519453762348,
          0.46233097792534456,
          0.5466487710161544,
          0.6080771289981588
         ],
         "xaxis": "x2",
         "y": [
          0.014926472096052473,
          0.017406860562966246,
          0.020257915030776674,
          0.025321950345424084,
          0.02928572728619875,
          0.03377162357974479,
          0.04156888408434318,
          0.04754331194240644,
          0.05418000389484618,
          0.06544007733452975,
          0.07385124842638244,
          0.08300366702957508,
          0.09814149329807208,
          0.10916991063448332
         ],
         "yaxis": "y2"
        },
        {
         "hovertemplate": "<b>Error model: 3-sigma interval</b><br>Hypothetical measurement: %{y:.02f} cm^3<br>Cancer type: Lung cancer (LXF A677)<br><extra></extra>",
         "legendgroup": "Error model",
         "line": {
          "color": "Black"
         },
         "mode": "lines",
         "name": "Error model",
         "opacity": 0.3,
         "showlegend": false,
         "type": "scatter",
         "visible": false,
         "x": [
          0.0831405489432704,
          0.09695632921638037,
          0.11283672158207614,
          0.14104343199687264,
          0.16312169594457648,
          0.18810816816306103,
          0.2315389610814651,
          0.26481656402373777,
          0.3017829823805008,
          0.36450166639990916,
          0.4113519453762348,
          0.46233097792534456,
          0.5466487710161544,
          0.6080771289981588
         ],
         "xaxis": "x2",
         "y": [
          -0.014926472096052473,
          -0.017406860562966246,
          -0.020257915030776674,
          -0.025321950345424084,
          -0.02928572728619875,
          -0.03377162357974479,
          -0.04156888408434318,
          -0.04754331194240644,
          -0.05418000389484618,
          -0.06544007733452975,
          -0.07385124842638244,
          -0.08300366702957508,
          -0.09814149329807208,
          -0.10916991063448332
         ],
         "yaxis": "y2"
        }
       ],
       "layout": {
        "autosize": true,
        "legend": {
         "x": 1.05,
         "xanchor": "left",
         "y": 0.01,
         "yanchor": "bottom"
        },
        "template": {
         "data": {
          "bar": [
           {
            "error_x": {
             "color": "#2a3f5f"
            },
            "error_y": {
             "color": "#2a3f5f"
            },
            "marker": {
             "line": {
              "color": "white",
              "width": 0.5
             }
            },
            "type": "bar"
           }
          ],
          "barpolar": [
           {
            "marker": {
             "line": {
              "color": "white",
              "width": 0.5
             }
            },
            "type": "barpolar"
           }
          ],
          "carpet": [
           {
            "aaxis": {
             "endlinecolor": "#2a3f5f",
             "gridcolor": "#C8D4E3",
             "linecolor": "#C8D4E3",
             "minorgridcolor": "#C8D4E3",
             "startlinecolor": "#2a3f5f"
            },
            "baxis": {
             "endlinecolor": "#2a3f5f",
             "gridcolor": "#C8D4E3",
             "linecolor": "#C8D4E3",
             "minorgridcolor": "#C8D4E3",
             "startlinecolor": "#2a3f5f"
            },
            "type": "carpet"
           }
          ],
          "choropleth": [
           {
            "colorbar": {
             "outlinewidth": 0,
             "ticks": ""
            },
            "type": "choropleth"
           }
          ],
          "contour": [
           {
            "colorbar": {
             "outlinewidth": 0,
             "ticks": ""
            },
            "colorscale": [
             [
              0,
              "#0d0887"
             ],
             [
              0.1111111111111111,
              "#46039f"
             ],
             [
              0.2222222222222222,
              "#7201a8"
             ],
             [
              0.3333333333333333,
              "#9c179e"
             ],
             [
              0.4444444444444444,
              "#bd3786"
             ],
             [
              0.5555555555555556,
              "#d8576b"
             ],
             [
              0.6666666666666666,
              "#ed7953"
             ],
             [
              0.7777777777777778,
              "#fb9f3a"
             ],
             [
              0.8888888888888888,
              "#fdca26"
             ],
             [
              1,
              "#f0f921"
             ]
            ],
            "type": "contour"
           }
          ],
          "contourcarpet": [
           {
            "colorbar": {
             "outlinewidth": 0,
             "ticks": ""
            },
            "type": "contourcarpet"
           }
          ],
          "heatmap": [
           {
            "colorbar": {
             "outlinewidth": 0,
             "ticks": ""
            },
            "colorscale": [
             [
              0,
              "#0d0887"
             ],
             [
              0.1111111111111111,
              "#46039f"
             ],
             [
              0.2222222222222222,
              "#7201a8"
             ],
             [
              0.3333333333333333,
              "#9c179e"
             ],
             [
              0.4444444444444444,
              "#bd3786"
             ],
             [
              0.5555555555555556,
              "#d8576b"
             ],
             [
              0.6666666666666666,
              "#ed7953"
             ],
             [
              0.7777777777777778,
              "#fb9f3a"
             ],
             [
              0.8888888888888888,
              "#fdca26"
             ],
             [
              1,
              "#f0f921"
             ]
            ],
            "type": "heatmap"
           }
          ],
          "heatmapgl": [
           {
            "colorbar": {
             "outlinewidth": 0,
             "ticks": ""
            },
            "colorscale": [
             [
              0,
              "#0d0887"
             ],
             [
              0.1111111111111111,
              "#46039f"
             ],
             [
              0.2222222222222222,
              "#7201a8"
             ],
             [
              0.3333333333333333,
              "#9c179e"
             ],
             [
              0.4444444444444444,
              "#bd3786"
             ],
             [
              0.5555555555555556,
              "#d8576b"
             ],
             [
              0.6666666666666666,
              "#ed7953"
             ],
             [
              0.7777777777777778,
              "#fb9f3a"
             ],
             [
              0.8888888888888888,
              "#fdca26"
             ],
             [
              1,
              "#f0f921"
             ]
            ],
            "type": "heatmapgl"
           }
          ],
          "histogram": [
           {
            "marker": {
             "colorbar": {
              "outlinewidth": 0,
              "ticks": ""
             }
            },
            "type": "histogram"
           }
          ],
          "histogram2d": [
           {
            "colorbar": {
             "outlinewidth": 0,
             "ticks": ""
            },
            "colorscale": [
             [
              0,
              "#0d0887"
             ],
             [
              0.1111111111111111,
              "#46039f"
             ],
             [
              0.2222222222222222,
              "#7201a8"
             ],
             [
              0.3333333333333333,
              "#9c179e"
             ],
             [
              0.4444444444444444,
              "#bd3786"
             ],
             [
              0.5555555555555556,
              "#d8576b"
             ],
             [
              0.6666666666666666,
              "#ed7953"
             ],
             [
              0.7777777777777778,
              "#fb9f3a"
             ],
             [
              0.8888888888888888,
              "#fdca26"
             ],
             [
              1,
              "#f0f921"
             ]
            ],
            "type": "histogram2d"
           }
          ],
          "histogram2dcontour": [
           {
            "colorbar": {
             "outlinewidth": 0,
             "ticks": ""
            },
            "colorscale": [
             [
              0,
              "#0d0887"
             ],
             [
              0.1111111111111111,
              "#46039f"
             ],
             [
              0.2222222222222222,
              "#7201a8"
             ],
             [
              0.3333333333333333,
              "#9c179e"
             ],
             [
              0.4444444444444444,
              "#bd3786"
             ],
             [
              0.5555555555555556,
              "#d8576b"
             ],
             [
              0.6666666666666666,
              "#ed7953"
             ],
             [
              0.7777777777777778,
              "#fb9f3a"
             ],
             [
              0.8888888888888888,
              "#fdca26"
             ],
             [
              1,
              "#f0f921"
             ]
            ],
            "type": "histogram2dcontour"
           }
          ],
          "mesh3d": [
           {
            "colorbar": {
             "outlinewidth": 0,
             "ticks": ""
            },
            "type": "mesh3d"
           }
          ],
          "parcoords": [
           {
            "line": {
             "colorbar": {
              "outlinewidth": 0,
              "ticks": ""
             }
            },
            "type": "parcoords"
           }
          ],
          "pie": [
           {
            "automargin": true,
            "type": "pie"
           }
          ],
          "scatter": [
           {
            "marker": {
             "colorbar": {
              "outlinewidth": 0,
              "ticks": ""
             }
            },
            "type": "scatter"
           }
          ],
          "scatter3d": [
           {
            "line": {
             "colorbar": {
              "outlinewidth": 0,
              "ticks": ""
             }
            },
            "marker": {
             "colorbar": {
              "outlinewidth": 0,
              "ticks": ""
             }
            },
            "type": "scatter3d"
           }
          ],
          "scattercarpet": [
           {
            "marker": {
             "colorbar": {
              "outlinewidth": 0,
              "ticks": ""
             }
            },
            "type": "scattercarpet"
           }
          ],
          "scattergeo": [
           {
            "marker": {
             "colorbar": {
              "outlinewidth": 0,
              "ticks": ""
             }
            },
            "type": "scattergeo"
           }
          ],
          "scattergl": [
           {
            "marker": {
             "colorbar": {
              "outlinewidth": 0,
              "ticks": ""
             }
            },
            "type": "scattergl"
           }
          ],
          "scattermapbox": [
           {
            "marker": {
             "colorbar": {
              "outlinewidth": 0,
              "ticks": ""
             }
            },
            "type": "scattermapbox"
           }
          ],
          "scatterpolar": [
           {
            "marker": {
             "colorbar": {
              "outlinewidth": 0,
              "ticks": ""
             }
            },
            "type": "scatterpolar"
           }
          ],
          "scatterpolargl": [
           {
            "marker": {
             "colorbar": {
              "outlinewidth": 0,
              "ticks": ""
             }
            },
            "type": "scatterpolargl"
           }
          ],
          "scatterternary": [
           {
            "marker": {
             "colorbar": {
              "outlinewidth": 0,
              "ticks": ""
             }
            },
            "type": "scatterternary"
           }
          ],
          "surface": [
           {
            "colorbar": {
             "outlinewidth": 0,
             "ticks": ""
            },
            "colorscale": [
             [
              0,
              "#0d0887"
             ],
             [
              0.1111111111111111,
              "#46039f"
             ],
             [
              0.2222222222222222,
              "#7201a8"
             ],
             [
              0.3333333333333333,
              "#9c179e"
             ],
             [
              0.4444444444444444,
              "#bd3786"
             ],
             [
              0.5555555555555556,
              "#d8576b"
             ],
             [
              0.6666666666666666,
              "#ed7953"
             ],
             [
              0.7777777777777778,
              "#fb9f3a"
             ],
             [
              0.8888888888888888,
              "#fdca26"
             ],
             [
              1,
              "#f0f921"
             ]
            ],
            "type": "surface"
           }
          ],
          "table": [
           {
            "cells": {
             "fill": {
              "color": "#EBF0F8"
             },
             "line": {
              "color": "white"
             }
            },
            "header": {
             "fill": {
              "color": "#C8D4E3"
             },
             "line": {
              "color": "white"
             }
            },
            "type": "table"
           }
          ]
         },
         "layout": {
          "annotationdefaults": {
           "arrowcolor": "#2a3f5f",
           "arrowhead": 0,
           "arrowwidth": 1
          },
          "coloraxis": {
           "colorbar": {
            "outlinewidth": 0,
            "ticks": ""
           }
          },
          "colorscale": {
           "diverging": [
            [
             0,
             "#8e0152"
            ],
            [
             0.1,
             "#c51b7d"
            ],
            [
             0.2,
             "#de77ae"
            ],
            [
             0.3,
             "#f1b6da"
            ],
            [
             0.4,
             "#fde0ef"
            ],
            [
             0.5,
             "#f7f7f7"
            ],
            [
             0.6,
             "#e6f5d0"
            ],
            [
             0.7,
             "#b8e186"
            ],
            [
             0.8,
             "#7fbc41"
            ],
            [
             0.9,
             "#4d9221"
            ],
            [
             1,
             "#276419"
            ]
           ],
           "sequential": [
            [
             0,
             "#0d0887"
            ],
            [
             0.1111111111111111,
             "#46039f"
            ],
            [
             0.2222222222222222,
             "#7201a8"
            ],
            [
             0.3333333333333333,
             "#9c179e"
            ],
            [
             0.4444444444444444,
             "#bd3786"
            ],
            [
             0.5555555555555556,
             "#d8576b"
            ],
            [
             0.6666666666666666,
             "#ed7953"
            ],
            [
             0.7777777777777778,
             "#fb9f3a"
            ],
            [
             0.8888888888888888,
             "#fdca26"
            ],
            [
             1,
             "#f0f921"
            ]
           ],
           "sequentialminus": [
            [
             0,
             "#0d0887"
            ],
            [
             0.1111111111111111,
             "#46039f"
            ],
            [
             0.2222222222222222,
             "#7201a8"
            ],
            [
             0.3333333333333333,
             "#9c179e"
            ],
            [
             0.4444444444444444,
             "#bd3786"
            ],
            [
             0.5555555555555556,
             "#d8576b"
            ],
            [
             0.6666666666666666,
             "#ed7953"
            ],
            [
             0.7777777777777778,
             "#fb9f3a"
            ],
            [
             0.8888888888888888,
             "#fdca26"
            ],
            [
             1,
             "#f0f921"
            ]
           ]
          },
          "colorway": [
           "#636efa",
           "#EF553B",
           "#00cc96",
           "#ab63fa",
           "#FFA15A",
           "#19d3f3",
           "#FF6692",
           "#B6E880",
           "#FF97FF",
           "#FECB52"
          ],
          "font": {
           "color": "#2a3f5f"
          },
          "geo": {
           "bgcolor": "white",
           "lakecolor": "white",
           "landcolor": "white",
           "showlakes": true,
           "showland": true,
           "subunitcolor": "#C8D4E3"
          },
          "hoverlabel": {
           "align": "left"
          },
          "hovermode": "closest",
          "mapbox": {
           "style": "light"
          },
          "paper_bgcolor": "white",
          "plot_bgcolor": "white",
          "polar": {
           "angularaxis": {
            "gridcolor": "#EBF0F8",
            "linecolor": "#EBF0F8",
            "ticks": ""
           },
           "bgcolor": "white",
           "radialaxis": {
            "gridcolor": "#EBF0F8",
            "linecolor": "#EBF0F8",
            "ticks": ""
           }
          },
          "scene": {
           "xaxis": {
            "backgroundcolor": "white",
            "gridcolor": "#DFE8F3",
            "gridwidth": 2,
            "linecolor": "#EBF0F8",
            "showbackground": true,
            "ticks": "",
            "zerolinecolor": "#EBF0F8"
           },
           "yaxis": {
            "backgroundcolor": "white",
            "gridcolor": "#DFE8F3",
            "gridwidth": 2,
            "linecolor": "#EBF0F8",
            "showbackground": true,
            "ticks": "",
            "zerolinecolor": "#EBF0F8"
           },
           "zaxis": {
            "backgroundcolor": "white",
            "gridcolor": "#DFE8F3",
            "gridwidth": 2,
            "linecolor": "#EBF0F8",
            "showbackground": true,
            "ticks": "",
            "zerolinecolor": "#EBF0F8"
           }
          },
          "shapedefaults": {
           "line": {
            "color": "#2a3f5f"
           }
          },
          "ternary": {
           "aaxis": {
            "gridcolor": "#DFE8F3",
            "linecolor": "#A2B1C6",
            "ticks": ""
           },
           "baxis": {
            "gridcolor": "#DFE8F3",
            "linecolor": "#A2B1C6",
            "ticks": ""
           },
           "bgcolor": "white",
           "caxis": {
            "gridcolor": "#DFE8F3",
            "linecolor": "#A2B1C6",
            "ticks": ""
           }
          },
          "title": {
           "x": 0.05
          },
          "xaxis": {
           "automargin": true,
           "gridcolor": "#EBF0F8",
           "linecolor": "#EBF0F8",
           "ticks": "",
           "title": {
            "standoff": 15
           },
           "zerolinecolor": "#EBF0F8",
           "zerolinewidth": 2
          },
          "yaxis": {
           "automargin": true,
           "gridcolor": "#EBF0F8",
           "linecolor": "#EBF0F8",
           "ticks": "",
           "title": {
            "standoff": 15
           },
           "zerolinecolor": "#EBF0F8",
           "zerolinewidth": 2
          }
         }
        },
        "updatemenus": [
         {
          "buttons": [
           {
            "args": [
             {
              "visible": [
               true,
               true,
               true,
               true,
               true,
               true,
               true,
               true,
               true,
               true,
               true,
               true,
               true,
               true,
               true,
               true,
               false,
               false,
               false,
               false,
               false,
               false,
               false,
               false,
               false,
               false,
               false,
               false,
               false,
               false,
               false,
               false,
               false,
               false,
               false,
               false,
               false,
               false,
               false,
               false,
               false,
               false,
               false,
               false,
               false,
               false,
               false,
               false,
               false,
               false,
               false,
               false,
               false,
               false,
               false,
               false,
               false,
               false,
               false,
               false,
               false,
               false,
               false,
               false,
               false,
               false,
               false,
               false,
               false,
               false,
               false,
               false,
               false,
               false,
               false,
               false,
               false,
               false,
               false,
               false,
               false,
               false,
               false,
               false,
               false,
               false,
               false,
               false,
               false,
               false,
               false,
               false,
               false,
               false,
               false,
               false,
               false,
               false,
               false,
               false,
               false,
               false,
               false,
               false,
               false,
               false,
               false,
               false,
               false,
               false,
               false,
               false,
               false,
               false,
               false,
               false,
               false,
               false,
               false,
               false,
               false,
               false,
               false,
               false,
               false,
               false,
               false,
               false
              ]
             }
            ],
            "label": "ID: 40",
            "method": "restyle"
           },
           {
            "args": [
             {
              "visible": [
               false,
               false,
               false,
               false,
               false,
               false,
               false,
               false,
               false,
               false,
               false,
               false,
               false,
               false,
               false,
               false,
               true,
               true,
               true,
               true,
               true,
               true,
               true,
               true,
               true,
               true,
               true,
               true,
               true,
               true,
               true,
               true,
               false,
               false,
               false,
               false,
               false,
               false,
               false,
               false,
               false,
               false,
               false,
               false,
               false,
               false,
               false,
               false,
               false,
               false,
               false,
               false,
               false,
               false,
               false,
               false,
               false,
               false,
               false,
               false,
               false,
               false,
               false,
               false,
               false,
               false,
               false,
               false,
               false,
               false,
               false,
               false,
               false,
               false,
               false,
               false,
               false,
               false,
               false,
               false,
               false,
               false,
               false,
               false,
               false,
               false,
               false,
               false,
               false,
               false,
               false,
               false,
               false,
               false,
               false,
               false,
               false,
               false,
               false,
               false,
               false,
               false,
               false,
               false,
               false,
               false,
               false,
               false,
               false,
               false,
               false,
               false,
               false,
               false,
               false,
               false,
               false,
               false,
               false,
               false,
               false,
               false,
               false,
               false,
               false,
               false,
               false,
               false
              ]
             }
            ],
            "label": "ID: 94",
            "method": "restyle"
           },
           {
            "args": [
             {
              "visible": [
               false,
               false,
               false,
               false,
               false,
               false,
               false,
               false,
               false,
               false,
               false,
               false,
               false,
               false,
               false,
               false,
               false,
               false,
               false,
               false,
               false,
               false,
               false,
               false,
               false,
               false,
               false,
               false,
               false,
               false,
               false,
               false,
               true,
               true,
               true,
               true,
               true,
               true,
               true,
               true,
               true,
               true,
               true,
               true,
               true,
               true,
               true,
               true,
               false,
               false,
               false,
               false,
               false,
               false,
               false,
               false,
               false,
               false,
               false,
               false,
               false,
               false,
               false,
               false,
               false,
               false,
               false,
               false,
               false,
               false,
               false,
               false,
               false,
               false,
               false,
               false,
               false,
               false,
               false,
               false,
               false,
               false,
               false,
               false,
               false,
               false,
               false,
               false,
               false,
               false,
               false,
               false,
               false,
               false,
               false,
               false,
               false,
               false,
               false,
               false,
               false,
               false,
               false,
               false,
               false,
               false,
               false,
               false,
               false,
               false,
               false,
               false,
               false,
               false,
               false,
               false,
               false,
               false,
               false,
               false,
               false,
               false,
               false,
               false,
               false,
               false,
               false,
               false
              ]
             }
            ],
            "label": "ID: 95",
            "method": "restyle"
           },
           {
            "args": [
             {
              "visible": [
               false,
               false,
               false,
               false,
               false,
               false,
               false,
               false,
               false,
               false,
               false,
               false,
               false,
               false,
               false,
               false,
               false,
               false,
               false,
               false,
               false,
               false,
               false,
               false,
               false,
               false,
               false,
               false,
               false,
               false,
               false,
               false,
               false,
               false,
               false,
               false,
               false,
               false,
               false,
               false,
               false,
               false,
               false,
               false,
               false,
               false,
               false,
               false,
               true,
               true,
               true,
               true,
               true,
               true,
               true,
               true,
               true,
               true,
               true,
               true,
               true,
               true,
               true,
               true,
               false,
               false,
               false,
               false,
               false,
               false,
               false,
               false,
               false,
               false,
               false,
               false,
               false,
               false,
               false,
               false,
               false,
               false,
               false,
               false,
               false,
               false,
               false,
               false,
               false,
               false,
               false,
               false,
               false,
               false,
               false,
               false,
               false,
               false,
               false,
               false,
               false,
               false,
               false,
               false,
               false,
               false,
               false,
               false,
               false,
               false,
               false,
               false,
               false,
               false,
               false,
               false,
               false,
               false,
               false,
               false,
               false,
               false,
               false,
               false,
               false,
               false,
               false,
               false
              ]
             }
            ],
            "label": "ID: 136",
            "method": "restyle"
           },
           {
            "args": [
             {
              "visible": [
               false,
               false,
               false,
               false,
               false,
               false,
               false,
               false,
               false,
               false,
               false,
               false,
               false,
               false,
               false,
               false,
               false,
               false,
               false,
               false,
               false,
               false,
               false,
               false,
               false,
               false,
               false,
               false,
               false,
               false,
               false,
               false,
               false,
               false,
               false,
               false,
               false,
               false,
               false,
               false,
               false,
               false,
               false,
               false,
               false,
               false,
               false,
               false,
               false,
               false,
               false,
               false,
               false,
               false,
               false,
               false,
               false,
               false,
               false,
               false,
               false,
               false,
               false,
               false,
               true,
               true,
               true,
               true,
               true,
               true,
               true,
               true,
               true,
               true,
               true,
               true,
               true,
               true,
               true,
               true,
               false,
               false,
               false,
               false,
               false,
               false,
               false,
               false,
               false,
               false,
               false,
               false,
               false,
               false,
               false,
               false,
               false,
               false,
               false,
               false,
               false,
               false,
               false,
               false,
               false,
               false,
               false,
               false,
               false,
               false,
               false,
               false,
               false,
               false,
               false,
               false,
               false,
               false,
               false,
               false,
               false,
               false,
               false,
               false,
               false,
               false,
               false,
               false
              ]
             }
            ],
            "label": "ID: 140",
            "method": "restyle"
           },
           {
            "args": [
             {
              "visible": [
               false,
               false,
               false,
               false,
               false,
               false,
               false,
               false,
               false,
               false,
               false,
               false,
               false,
               false,
               false,
               false,
               false,
               false,
               false,
               false,
               false,
               false,
               false,
               false,
               false,
               false,
               false,
               false,
               false,
               false,
               false,
               false,
               false,
               false,
               false,
               false,
               false,
               false,
               false,
               false,
               false,
               false,
               false,
               false,
               false,
               false,
               false,
               false,
               false,
               false,
               false,
               false,
               false,
               false,
               false,
               false,
               false,
               false,
               false,
               false,
               false,
               false,
               false,
               false,
               false,
               false,
               false,
               false,
               false,
               false,
               false,
               false,
               false,
               false,
               false,
               false,
               false,
               false,
               false,
               false,
               true,
               true,
               true,
               true,
               true,
               true,
               true,
               true,
               true,
               true,
               true,
               true,
               true,
               true,
               true,
               true,
               false,
               false,
               false,
               false,
               false,
               false,
               false,
               false,
               false,
               false,
               false,
               false,
               false,
               false,
               false,
               false,
               false,
               false,
               false,
               false,
               false,
               false,
               false,
               false,
               false,
               false,
               false,
               false,
               false,
               false,
               false,
               false
              ]
             }
            ],
            "label": "ID: 155",
            "method": "restyle"
           },
           {
            "args": [
             {
              "visible": [
               false,
               false,
               false,
               false,
               false,
               false,
               false,
               false,
               false,
               false,
               false,
               false,
               false,
               false,
               false,
               false,
               false,
               false,
               false,
               false,
               false,
               false,
               false,
               false,
               false,
               false,
               false,
               false,
               false,
               false,
               false,
               false,
               false,
               false,
               false,
               false,
               false,
               false,
               false,
               false,
               false,
               false,
               false,
               false,
               false,
               false,
               false,
               false,
               false,
               false,
               false,
               false,
               false,
               false,
               false,
               false,
               false,
               false,
               false,
               false,
               false,
               false,
               false,
               false,
               false,
               false,
               false,
               false,
               false,
               false,
               false,
               false,
               false,
               false,
               false,
               false,
               false,
               false,
               false,
               false,
               false,
               false,
               false,
               false,
               false,
               false,
               false,
               false,
               false,
               false,
               false,
               false,
               false,
               false,
               false,
               false,
               true,
               true,
               true,
               true,
               true,
               true,
               true,
               true,
               true,
               true,
               true,
               true,
               true,
               true,
               true,
               true,
               false,
               false,
               false,
               false,
               false,
               false,
               false,
               false,
               false,
               false,
               false,
               false,
               false,
               false,
               false,
               false
              ]
             }
            ],
            "label": "ID: 169",
            "method": "restyle"
           },
           {
            "args": [
             {
              "visible": [
               false,
               false,
               false,
               false,
               false,
               false,
               false,
               false,
               false,
               false,
               false,
               false,
               false,
               false,
               false,
               false,
               false,
               false,
               false,
               false,
               false,
               false,
               false,
               false,
               false,
               false,
               false,
               false,
               false,
               false,
               false,
               false,
               false,
               false,
               false,
               false,
               false,
               false,
               false,
               false,
               false,
               false,
               false,
               false,
               false,
               false,
               false,
               false,
               false,
               false,
               false,
               false,
               false,
               false,
               false,
               false,
               false,
               false,
               false,
               false,
               false,
               false,
               false,
               false,
               false,
               false,
               false,
               false,
               false,
               false,
               false,
               false,
               false,
               false,
               false,
               false,
               false,
               false,
               false,
               false,
               false,
               false,
               false,
               false,
               false,
               false,
               false,
               false,
               false,
               false,
               false,
               false,
               false,
               false,
               false,
               false,
               false,
               false,
               false,
               false,
               false,
               false,
               false,
               false,
               false,
               false,
               false,
               false,
               false,
               false,
               false,
               false,
               true,
               true,
               true,
               true,
               true,
               true,
               true,
               true,
               true,
               true,
               true,
               true,
               true,
               true,
               true,
               true
              ]
             }
            ],
            "label": "ID: 170",
            "method": "restyle"
           }
          ],
          "direction": "right",
          "pad": {
           "r": 0,
           "t": -10
          },
          "showactive": true,
          "type": "buttons",
          "x": 0,
          "xanchor": "left",
          "y": 1.1,
          "yanchor": "top"
         }
        ],
        "xaxis": {
         "anchor": "y",
         "domain": [
          0,
          1
         ],
         "matches": "x2",
         "showticklabels": false
        },
        "xaxis2": {
         "anchor": "y2",
         "domain": [
          0,
          1
         ],
         "title": {
          "text": "$\\text{Structural model predictions in cm}^3$"
         }
        },
        "yaxis": {
         "anchor": "x",
         "domain": [
          0.525,
          1
         ],
         "title": {
          "text": "$\\text{Tumour volume in cm}^3$"
         }
        },
        "yaxis2": {
         "anchor": "x2",
         "domain": [
          0,
          0.475
         ],
         "title": {
          "text": "$\\text{Residuals in cm}^3$"
         }
        }
       }
      }
     },
     "metadata": {}
    }
   ],
   "source": [
    "#\n",
    "# Visualise noise model.\n",
    "#\n",
    "# This cell needs the structural model predictions for the tumour growth, and the medians of the optimised parameters:\n",
    "# [structural_model_predictions_multiplicative_noise, median_parameters_multiplicative_noise]\n",
    "#\n",
    "\n",
    "import os\n",
    "\n",
    "import pandas as pd\n",
    "import plotly.colors\n",
    "import plotly.graph_objects as go\n",
    "from plotly.subplots import make_subplots\n",
    "\n",
    "\n",
    "# Import data\n",
    "# Get path of current working directory\n",
    "path = os.getcwd()\n",
    "\n",
    "# Import LXF A677 control growth data\n",
    "data = pd.read_csv(path + '/data/lxf_control_growth.csv')\n",
    "\n",
    "# Match observations with predictions\n",
    "data = data.merge(structural_model_predictions_multiplicative_noise, on=['#ID', 'TIME in day'])\n",
    "\n",
    "# Get noise parameters\n",
    "sigmas = median_parameters_multiplicative_noise[:, -1]\n",
    "\n",
    "# Get mouse ids\n",
    "mouse_ids = data['#ID'].unique()\n",
    "\n",
    "# Get number of mice\n",
    "n_mice = len(mouse_ids)\n",
    "\n",
    "# Define colorscheme\n",
    "colors = plotly.colors.qualitative.Plotly[:n_mice]\n",
    "\n",
    "# Create figure\n",
    "fig = make_subplots(rows=2, cols=1, shared_xaxes=True, row_heights=[0.5, 0.5], vertical_spacing=0.05)\n",
    "\n",
    "# Scatter plot LXF A677 time-series data for each mouse\n",
    "for index, id_m in enumerate(mouse_ids):\n",
    "    # Create mask for mouse\n",
    "    mask = data['#ID'] == id_m\n",
    "\n",
    "    # Get predicted tumour volumes for mouse\n",
    "    predicted_volumes = data['PREDICTED TUMOUR VOLUME in cm^3'][mask]\n",
    "\n",
    "    # Get observed tumour volumes for mouse\n",
    "    observed_volumes = data['TUMOUR VOLUME in cm^3'][mask]\n",
    "\n",
    "    # Get noise parameter\n",
    "    sigma = sigmas[index]\n",
    "\n",
    "    # Plot I: Measured vs predicted volumes\n",
    "    # Plot measured tumour volume versus structural model tumour volume\n",
    "    fig.add_trace(\n",
    "        go.Scatter(\n",
    "            x=predicted_volumes,\n",
    "            y=observed_volumes,\n",
    "            legendgroup=\"Measurement\",\n",
    "            name=\"Measurement\",\n",
    "            showlegend=True,\n",
    "            visible=True if index == 0 else False,\n",
    "            hovertemplate=\n",
    "                \"<b>ID: %d</b><br>\" % (id_m) +\n",
    "                \"Structural model: %{x:.02f} cm^3<br>\" +\n",
    "                \"Measurement: %{y:.02f} cm^3<br>\" +\n",
    "                \"Cancer type: Lung cancer (LXF A677)<br>\" +\n",
    "                \"<extra></extra>\",\n",
    "            mode=\"markers\",\n",
    "            marker=dict(\n",
    "                symbol='circle',\n",
    "                color=colors[index],\n",
    "                opacity=0.7,\n",
    "                line=dict(color='black', width=1))),\n",
    "        row=1,\n",
    "        col=1)\n",
    "\n",
    "    # Plot median of error model\n",
    "    fig.add_trace(\n",
    "        go.Scatter(\n",
    "            x=predicted_volumes,\n",
    "            y=predicted_volumes,\n",
    "            legendgroup=\"Error model\",\n",
    "            name=\"Error model\",\n",
    "            showlegend=True,\n",
    "            visible=True if index == 0 else False,\n",
    "            hovertemplate=\n",
    "                \"<b>Error model: Mean</b><br>\" +\n",
    "                \"Hypothetical measurement: %{y:.02f} cm^3<br>\" +\n",
    "                \"Cancer type: Lung cancer (LXF A677)<br>\" +\n",
    "                \"<extra></extra>\",\n",
    "            mode=\"lines\",\n",
    "            line=dict(color=colors[index]),\n",
    "            opacity=0.7),\n",
    "        row=1,\n",
    "        col=1)\n",
    "\n",
    "    # Plot 1-sigma interval of error model\n",
    "    fig.add_trace(\n",
    "        go.Scatter(\n",
    "            x=predicted_volumes,\n",
    "            y=predicted_volumes + sigma * predicted_volumes,\n",
    "            legendgroup=\"Error model\",\n",
    "            name=\"Error model\",\n",
    "            showlegend=False,\n",
    "            visible=True if index == 0 else False,\n",
    "            hovertemplate=\n",
    "                \"<b>Error model: 1-sigma interval</b><br>\" +\n",
    "                \"Hypothetical measurement: %{y:.02f} cm^3<br>\" +\n",
    "                \"Cancer type: Lung cancer (LXF A677)<br>\" +\n",
    "                \"<extra></extra>\",\n",
    "            mode=\"lines\",\n",
    "            line=dict(\n",
    "                color='Black'),\n",
    "            opacity=0.7),\n",
    "        row=1,\n",
    "        col=1)\n",
    "    fig.add_trace(\n",
    "        go.Scatter(\n",
    "            x=predicted_volumes,\n",
    "            y=predicted_volumes - sigma * predicted_volumes,\n",
    "            legendgroup=\"Error model\",\n",
    "            name=\"Error model\",\n",
    "            showlegend=False,\n",
    "            visible=True if index == 0 else False,\n",
    "            hovertemplate=\n",
    "                \"<b>Error model: 1-sigma interval</b><br>\" +\n",
    "                \"Hypothetical measurement: %{y:.02f} cm^3<br>\" +\n",
    "                \"Cancer type: Lung cancer (LXF A677)<br>\" +\n",
    "                \"<extra></extra>\",\n",
    "            mode=\"lines\",\n",
    "            line=dict(\n",
    "                color='Black'),\n",
    "            opacity=0.7),\n",
    "        row=1,\n",
    "        col=1)\n",
    "\n",
    "    # Plot 2-sigma interval of error model\n",
    "    fig.add_trace(\n",
    "        go.Scatter(\n",
    "            x=predicted_volumes,\n",
    "            y=predicted_volumes + 2 * sigma * predicted_volumes,\n",
    "            legendgroup=\"Error model\",\n",
    "            name=\"Error model\",\n",
    "            showlegend=False,\n",
    "            visible=True if index == 0 else False,\n",
    "            hovertemplate=\n",
    "                \"<b>Error model: 2-sigma interval</b><br>\" +\n",
    "                \"Hypothetical measurement: %{y:.02f} cm^3<br>\" +\n",
    "                \"Cancer type: Lung cancer (LXF A677)<br>\" +\n",
    "                \"<extra></extra>\",\n",
    "            mode=\"lines\",\n",
    "            line=dict(\n",
    "                color='Black',\n",
    "                width=1.5),\n",
    "            opacity=0.5),\n",
    "        row=1,\n",
    "        col=1)\n",
    "    fig.add_trace(\n",
    "        go.Scatter(\n",
    "            x=predicted_volumes,\n",
    "            y=predicted_volumes - 2 * sigma * predicted_volumes,\n",
    "            legendgroup=\"Error model\",\n",
    "            name=\"Error model\",\n",
    "            showlegend=False,\n",
    "            visible=True if index == 0 else False,\n",
    "            hovertemplate=\n",
    "                \"<b>Error model: 2-sigma interval</b><br>\" +\n",
    "                \"Hypothetical measurement: %{y:.02f} cm^3<br>\" +\n",
    "                \"Cancer type: Lung cancer (LXF A677)<br>\" +\n",
    "                \"<extra></extra>\",\n",
    "            mode=\"lines\",\n",
    "            line=dict(\n",
    "                color='Black',\n",
    "                width=1.5),\n",
    "            opacity=0.5),\n",
    "        row=1,\n",
    "        col=1)\n",
    "\n",
    "    # Plot 3-sigma interval of error model\n",
    "    fig.add_trace(\n",
    "        go.Scatter(\n",
    "            x=predicted_volumes,\n",
    "            y=predicted_volumes + 3 * sigma * predicted_volumes,\n",
    "            legendgroup=\"Error model\",\n",
    "            name=\"Error model\",\n",
    "            showlegend=False,\n",
    "            visible=True if index == 0 else False,\n",
    "            hovertemplate=\n",
    "                \"<b>Error model: 3-sigma interval</b><br>\" +\n",
    "                \"Hypothetical measurement: %{y:.02f} cm^3<br>\" +\n",
    "                \"Cancer type: Lung cancer (LXF A677)<br>\" +\n",
    "                \"<extra></extra>\",\n",
    "            mode=\"lines\",\n",
    "            line=dict(\n",
    "                color='Black',\n",
    "                width=1),\n",
    "            opacity=0.3),\n",
    "        row=1,\n",
    "        col=1)\n",
    "    fig.add_trace(\n",
    "        go.Scatter(\n",
    "            x=predicted_volumes,\n",
    "            y=predicted_volumes - 3 * sigma * predicted_volumes,\n",
    "            legendgroup=\"Error model\",\n",
    "            name=\"Error model\",\n",
    "            showlegend=False,\n",
    "            visible=True if index == 0 else False,\n",
    "            hovertemplate=\n",
    "                \"<b>Error model: 3-sigma interval</b><br>\" +\n",
    "                \"Hypothetical measurement: %{y:.02f} cm^3<br>\" +\n",
    "                \"Cancer type: Lung cancer (LXF A677)<br>\" +\n",
    "                \"<extra></extra>\",\n",
    "            mode=\"lines\",\n",
    "            line=dict(\n",
    "                color='Black',\n",
    "                width=1),\n",
    "            opacity=0.3),\n",
    "        row=1,\n",
    "        col=1)\n",
    "\n",
    "    # Plot II: Residuals vs predicted volumes\n",
    "    # Plot residuals versus structural model tumour volume\n",
    "    fig.add_trace(\n",
    "        go.Scatter(\n",
    "            x=predicted_volumes,\n",
    "            y=observed_volumes - predicted_volumes,\n",
    "            legendgroup=\"Measurement\",\n",
    "            name=\"Measurement\",\n",
    "            showlegend=False,\n",
    "            visible=True if index == 0 else False,\n",
    "            hovertemplate=\n",
    "                \"<b>ID: %d</b><br>\" % (id_m) +\n",
    "                \"Structural model: %{x:.02f} cm^3<br>\" +\n",
    "                \"Residual: %{y:.02f} cm^3<br>\" +\n",
    "                \"Cancer type: Lung cancer (LXF A677)<br>\" +\n",
    "                \"<extra></extra>\",\n",
    "            mode=\"markers\",\n",
    "            marker=dict(\n",
    "                symbol='circle',\n",
    "                color=colors[index],\n",
    "                opacity=0.7,\n",
    "                line=dict(color='black', width=1))),\n",
    "        row=2,\n",
    "        col=1)\n",
    "\n",
    "    # Plot median of error model\n",
    "    fig.add_trace(\n",
    "        go.Scatter(\n",
    "            x=predicted_volumes,\n",
    "            y=np.full(shape=len(predicted_volumes), fill_value=0),\n",
    "            legendgroup=\"Error model\",\n",
    "            name=\"Error model\",\n",
    "            showlegend=False,\n",
    "            visible=True if index == 0 else False,\n",
    "            hovertemplate=\n",
    "                \"<b>Error model: Mean</b><br>\" +\n",
    "                \"Hypothetical residual: %{y:.02f} cm^3<br>\" +\n",
    "                \"Cancer type: Lung cancer (LXF A677)<br>\" +\n",
    "                \"<extra></extra>\",\n",
    "            mode=\"lines\",\n",
    "            line=dict(color=colors[index]),\n",
    "            opacity=0.7),\n",
    "        row=2,\n",
    "        col=1)\n",
    "\n",
    "    # Plot 1-sigma interval of error model\n",
    "    fig.add_trace(\n",
    "        go.Scatter(\n",
    "            x=predicted_volumes,\n",
    "            y=sigma * predicted_volumes,\n",
    "            legendgroup=\"Error model\",\n",
    "            name=\"Error model\",\n",
    "            showlegend=False,\n",
    "            visible=True if index == 0 else False,\n",
    "            hovertemplate=\n",
    "                \"<b>Error model: 1-sigma interval</b><br>\" +\n",
    "                \"Hypothetical residual: %{y:.02f} cm^3<br>\" +\n",
    "                \"Cancer type: Lung cancer (LXF A677)<br>\" +\n",
    "                \"<extra></extra>\",\n",
    "            mode=\"lines\",\n",
    "            line=dict(\n",
    "                color='Black'),\n",
    "            opacity=0.7),\n",
    "        row=2,\n",
    "        col=1)\n",
    "    fig.add_trace(\n",
    "        go.Scatter(\n",
    "            x=predicted_volumes,\n",
    "            y=-sigma * predicted_volumes,\n",
    "            legendgroup=\"Error model\",\n",
    "            name=\"Error model\",\n",
    "            showlegend=False,\n",
    "            visible=True if index == 0 else False,\n",
    "            hovertemplate=\n",
    "                \"<b>Error model: 1-sigma interval</b><br>\" +\n",
    "                \"Hypothetical measurement: %{y:.02f} cm^3<br>\" +\n",
    "                \"Cancer type: Lung cancer (LXF A677)<br>\" +\n",
    "                \"<extra></extra>\",\n",
    "            mode=\"lines\",\n",
    "            line=dict(\n",
    "                color='Black'),\n",
    "            opacity=0.7),\n",
    "        row=2,\n",
    "        col=1)\n",
    "\n",
    "    # Plot 2-sigma interval of error model\n",
    "    fig.add_trace(\n",
    "        go.Scatter(\n",
    "            x=predicted_volumes,\n",
    "            y=2 * sigma * predicted_volumes,\n",
    "            legendgroup=\"Error model\",\n",
    "            name=\"Error model\",\n",
    "            showlegend=False,\n",
    "            visible=True if index == 0 else False,\n",
    "            hovertemplate=\n",
    "                \"<b>Error model: 2-sigma interval</b><br>\" +\n",
    "                \"Hypothetical residual: %{y:.02f} cm^3<br>\" +\n",
    "                \"Cancer type: Lung cancer (LXF A677)<br>\" +\n",
    "                \"<extra></extra>\",\n",
    "            mode=\"lines\",\n",
    "            line=dict(\n",
    "                color='Black'),\n",
    "            opacity=0.5),\n",
    "        row=2,\n",
    "        col=1)\n",
    "    fig.add_trace(\n",
    "        go.Scatter(\n",
    "            x=predicted_volumes,\n",
    "            y=-2 * sigma * predicted_volumes,\n",
    "            legendgroup=\"Error model\",\n",
    "            name=\"Error model\",\n",
    "            showlegend=False,\n",
    "            visible=True if index == 0 else False,\n",
    "            hovertemplate=\n",
    "                \"<b>Error model: 2-sigma interval</b><br>\" +\n",
    "                \"Hypothetical measurement: %{y:.02f} cm^3<br>\" +\n",
    "                \"Cancer type: Lung cancer (LXF A677)<br>\" +\n",
    "                \"<extra></extra>\",\n",
    "            mode=\"lines\",\n",
    "            line=dict(\n",
    "                color='Black'),\n",
    "            opacity=0.5),\n",
    "        row=2,\n",
    "        col=1)\n",
    "\n",
    "    # Plot 3-sigma interval of error model\n",
    "    fig.add_trace(\n",
    "        go.Scatter(\n",
    "            x=predicted_volumes,\n",
    "            y=3 * sigma * predicted_volumes,\n",
    "            legendgroup=\"Error model\",\n",
    "            name=\"Error model\",\n",
    "            showlegend=False,\n",
    "            visible=True if index == 0 else False,\n",
    "            hovertemplate=\n",
    "                \"<b>Error model: 3-sigma interval</b><br>\" +\n",
    "                \"Hypothetical residual: %{y:.02f} cm^3<br>\" +\n",
    "                \"Cancer type: Lung cancer (LXF A677)<br>\" +\n",
    "                \"<extra></extra>\",\n",
    "            mode=\"lines\",\n",
    "            line=dict(\n",
    "                color='Black'),\n",
    "            opacity=0.3),\n",
    "        row=2,\n",
    "        col=1)\n",
    "    fig.add_trace(\n",
    "        go.Scatter(\n",
    "            x=predicted_volumes,\n",
    "            y=-3 * sigma * predicted_volumes,\n",
    "            legendgroup=\"Error model\",\n",
    "            name=\"Error model\",\n",
    "            showlegend=False,\n",
    "            visible=True if index == 0 else False,\n",
    "            hovertemplate=\n",
    "                \"<b>Error model: 3-sigma interval</b><br>\" +\n",
    "                \"Hypothetical measurement: %{y:.02f} cm^3<br>\" +\n",
    "                \"Cancer type: Lung cancer (LXF A677)<br>\" +\n",
    "                \"<extra></extra>\",\n",
    "            mode=\"lines\",\n",
    "            line=dict(\n",
    "                color='Black'),\n",
    "            opacity=0.3),\n",
    "        row=2,\n",
    "        col=1)\n",
    "\n",
    "# Set figure size\n",
    "fig.update_layout(\n",
    "    autosize=True,\n",
    "    template=\"plotly_white\")\n",
    "\n",
    "# Set X and Y axes\n",
    "fig.update_xaxes(title_text=r'$\\text{Structural model predictions in cm}^3$', row=2, col=1)\n",
    "fig.update_yaxes(title_text=r'$\\text{Tumour volume in cm}^3$', row=1, col=1)\n",
    "fig.update_yaxes(title_text=r'$\\text{Residuals in cm}^3$', row=2, col=1)\n",
    "\n",
    "\n",
    "# Add switch between mice\n",
    "fig.update_layout(\n",
    "    updatemenus=[\n",
    "        dict(\n",
    "            type = \"buttons\",\n",
    "            direction = \"right\",\n",
    "            buttons=list([\n",
    "                dict(\n",
    "                    args=[{\"visible\": [True]*(8 * 2) + [False]*(8 * 2 * 7)}],\n",
    "                    label=\"ID: %d\" % mouse_ids[0],\n",
    "                    method=\"restyle\"\n",
    "                ),\n",
    "                dict(\n",
    "                    args=[{\"visible\": [False]*(8 * 2) + [True]*(8 * 2) + [False]*(8 * 2 * 6)}],\n",
    "                    label=\"ID: %d\" % mouse_ids[1],\n",
    "                    method=\"restyle\"\n",
    "                ),\n",
    "                dict(\n",
    "                    args=[{\"visible\": [False]*(8 * 2 * 2) + [True]*(8 * 2) + [False]*(8 * 2 * 5)}],\n",
    "                    label=\"ID: %d\" % mouse_ids[2],\n",
    "                    method=\"restyle\"\n",
    "                ),\n",
    "                dict(\n",
    "                    args=[{\"visible\": [False]*(8 * 2 * 3) + [True]*(8 * 2) + [False]*(8 * 2 * 4)}],\n",
    "                    label=\"ID: %d\" % mouse_ids[3],\n",
    "                    method=\"restyle\"\n",
    "                ),\n",
    "                dict(\n",
    "                    args=[{\"visible\": [False]*(8 * 2 * 4) + [True]*(8 * 2) + [False]*(8 * 2 * 3)}],\n",
    "                    label=\"ID: %d\" % mouse_ids[4],\n",
    "                    method=\"restyle\"\n",
    "                ),\n",
    "                dict(\n",
    "                    args=[{\"visible\": [False]*(8 * 2 * 5) + [True]*(8 * 2) + [False]*(8 * 2 * 2)}],\n",
    "                    label=\"ID: %d\" % mouse_ids[5],\n",
    "                    method=\"restyle\"\n",
    "                ),\n",
    "                dict(\n",
    "                    args=[{\"visible\": [False]*(8 * 2 * 6) + [True]*(8 * 2) + [False]*(8 * 2)}],\n",
    "                    label=\"ID: %d\" % mouse_ids[6],\n",
    "                    method=\"restyle\"\n",
    "                ),\n",
    "                dict(\n",
    "                    args=[{\"visible\": [False]*(8 * 2 * 7) + [True]*(8 * 2)}],\n",
    "                    label=\"ID: %d\" % mouse_ids[7],\n",
    "                    method=\"restyle\"\n",
    "                )\n",
    "            ]),\n",
    "            pad={\"r\": 0, \"t\": -10},\n",
    "            showactive=True,\n",
    "            x=0.0,\n",
    "            xanchor=\"left\",\n",
    "            y=1.1,\n",
    "            yanchor=\"top\"\n",
    "        )\n",
    "    ]\n",
    ")\n",
    "\n",
    "# Position legend\n",
    "fig.update_layout(legend=dict(\n",
    "    yanchor=\"bottom\",\n",
    "    y=0.01,\n",
    "    xanchor=\"left\",\n",
    "    x=1.05))\n",
    "\n",
    "# Show figure\n",
    "fig.show()"
   ]
  },
  {
   "cell_type": "markdown",
   "metadata": {},
   "source": [
    "**Figure 5 - :**"
   ]
  },
  {
   "cell_type": "markdown",
   "metadata": {},
   "source": [
    "Discussion:\n",
    "- Large \"early\" deviations push $\\sigma _rel$ to larger values.\n",
    "- Does not look like the correct model.\n",
    "- Check whether WAIC favours constant Gaussian error over multiplicative error\n",
    "- Log-posterior suggests:\n",
    "    - ID 40: Constant Gaussian error\n",
    "    - ID 94: Multiplicative Gaussian error\n",
    "    - ID 95: Multiplicative Gaussian error (also changes inferred dynamics qualitatively from plain exponential growth to mixture ($V_{\\text{crit}}$ from 1000 to 1))\n",
    "    - ID 136: Multiplicative Gaussian error\n",
    "    - ID 140: Multiplicative Gaussian error\n",
    "    - ID 155: Multiplicative Gaussian error\n",
    "    - ID 169: Multiplicative Gaussian error\n",
    "    - ID 170: Constant Gaussian error\n",
    "\n",
    "Does WAIC favour broader distributions? Worth checking.\n",
    "    "
   ]
  },
  {
   "cell_type": "markdown",
   "metadata": {},
   "source": [
    "## Combined Gaussian error model: Constant and multiplicative Gaussian error"
   ]
  },
  {
   "cell_type": "code",
   "execution_count": null,
   "metadata": {},
   "outputs": [],
   "source": [
    "#\n",
    "# Implements log-likelihood wrapper that allows fixing `eta` of `pints.MultiplicativeGaussianLogLikelihood`.\n",
    "#\n",
    "\n",
    "# TODO: not done!\n",
    "\n",
    "import pints\n",
    "\n",
    "class FixedEtaMultiplicativeLogLikelihood(ConstantAndMultiplicativeGaussianLoglikelihood):\n",
    "    \"\"\"\n",
    "    Implements log-likelihood wrapper for a `pints.MultiplicativeGaussianLogLikelihood`\n",
    "    that allows fixing `eta`.\n",
    "    \"\"\"\n",
    "\n",
    "    def __init__(self, log_likelihood, eta):\n",
    "        if not isinstance(log_likelihood, pints.MultiplicativeGaussianLogLikelihood):\n",
    "            raise ValueError(\n",
    "                'This likelihood wrapper is only defined for a `pints.MultiplicativeLogLikelihood`.')\n",
    "        if log_likelihood._problem.n_outputs() != 1:\n",
    "            raise ValueError(\n",
    "                'This likelihood wrapper is only defined for a `pints.SingleOutputProblem`.')\n",
    "        \n",
    "        self._log_pdf = log_likelihood\n",
    "        self._eta = eta\n",
    "\n",
    "    def __call__(self, parameters):\n",
    "        # Create parameter container\n",
    "        params = np.empty(shape=len(parameters)+1)\n",
    "\n",
    "        # Fill container with parameters \n",
    "        # (Eta is at second last postion for SingleOutputProblems)\n",
    "        params[:-2] = np.asarray(parameters[:-1])\n",
    "        params[-2] = self._eta\n",
    "        params[-1] = parameters[-1]\n",
    "\n",
    "        return self._log_pdf(params)\n",
    "\n",
    "    def n_parameters(self):\n",
    "        return self._log_pdf.n_parameters() - 1\n"
   ]
  },
  {
   "cell_type": "code",
   "execution_count": null,
   "metadata": {},
   "outputs": [],
   "source": []
  },
  {
   "cell_type": "markdown",
   "metadata": {},
   "source": [
    "## Constant Gaussian error model (shared noise model)"
   ]
  },
  {
   "cell_type": "code",
   "execution_count": 19,
   "metadata": {
    "tags": []
   },
   "outputs": [
    {
     "output_type": "display_data",
     "data": {
      "text/plain": "HBox(children=(FloatProgress(value=0.0, max=10.0), HTML(value='')))",
      "application/vnd.jupyter.widget-view+json": {
       "version_major": 2,
       "version_minor": 0,
       "model_id": "0cb4406274d942a59ae1b1ac77e50606"
      }
     },
     "metadata": {}
    },
    {
     "output_type": "stream",
     "name": "stdout",
     "text": "\n"
    }
   ],
   "source": [
    "#\n",
    "# Run optimisation multiple times from random initial starting points.\n",
    "#\n",
    "# This cell needs the above defined wrapped myokit model:\n",
    "# [DimensionlessLogTransformedPintsModel]\n",
    "#\n",
    "\n",
    "import os\n",
    "\n",
    "import myokit\n",
    "import numpy as np\n",
    "import pandas as pd\n",
    "import pints\n",
    "from tqdm.notebook import tqdm\n",
    "\n",
    "import pkpd.likelihoods\n",
    "\n",
    "\n",
    "# Define characteristic scales\n",
    "characteristic_volume = 1  # in cm^3\n",
    "characteristic_time = 1  # in day\n",
    "\n",
    "# Define number of optimisation runs for each individual\n",
    "n_runs = 10\n",
    "\n",
    "# Import data\n",
    "# Get path of current working directory\n",
    "path = os.getcwd()\n",
    "\n",
    "# Import LXF A677 control growth data\n",
    "data = pd.read_csv(path + '/data/lxf_control_growth.csv')\n",
    "n_mice = len(data['#ID'].unique())\n",
    "\n",
    "# Define container for the structural model estimates\n",
    "# Shape (n_mice, n_runs, n_structural_params + n_noise_params)\n",
    "n_structural_params = 3\n",
    "n_noise_params = 1\n",
    "transf_params_shared_const_noise = np.empty(shape=(n_mice, n_runs, n_structural_params + n_noise_params))\n",
    "total_n_parameters = n_mice * n_structural_params + n_noise_params\n",
    "\n",
    "# Define container for the objective function score for the optimised parameters\n",
    "scores_shared_const_noise = np.empty(shape=n_runs)\n",
    "\n",
    "# Define random starting points over many orders of magnitude\n",
    "# Shape = (n_runs, n_mice * n_parameters +1)\n",
    "# For each mouse 3 structural parameters, and one shared noise parameter\n",
    "initial_parameters = np.random.uniform(low=1E-3, high=1E1, size=(n_runs, total_n_parameters))\n",
    "\n",
    "# Create inverse problems for the LXF A677 population\n",
    "problems = []\n",
    "mouse_ids = data['#ID'].unique()\n",
    "for mouse_id in mouse_ids:\n",
    "    # Create mask for mouse with specfied ID\n",
    "    mouse_mask = data['#ID'] == mouse_id\n",
    "\n",
    "    # Get relevant time points\n",
    "    times = data[mouse_mask]['TIME in day'].to_numpy() / characteristic_time\n",
    "\n",
    "    # Get measured tumour volumes\n",
    "    observed_volumes = data[mouse_mask]['TUMOUR VOLUME in cm^3'].to_numpy() / characteristic_volume\n",
    "\n",
    "    # Create inverse problem\n",
    "    problems.append(\n",
    "        pints.SingleOutputProblem(\n",
    "            DimensionlessLogTransformedPintsModel(), times, observed_volumes))\n",
    "\n",
    "# Create likelihood assuming a constant Gaussian noise\n",
    "log_likelihood = pkpd.likelihoods.SharedNoiseLogLikelihood(\n",
    "    problems=problems, log_likelihood=pints.GaussianLogLikelihood)\n",
    "\n",
    "# Create prior to biologically relevant values\n",
    "log_prior_structural_params = pints.UniformLogPrior(\n",
    "    lower_or_boundaries=np.log([1E-3] * (total_n_parameters - 1)),\n",
    "    upper=np.log([1E3] * (total_n_parameters - 1)))\n",
    "log_prior_sigma = pints.HalfCauchyLogPrior(location=0, scale=3)\n",
    "log_prior = pints.ComposedLogPrior(log_prior_structural_params, log_prior_sigma)\n",
    "\n",
    "# Create posterior\n",
    "log_posterior = pints.LogPosterior(log_likelihood, log_prior)\n",
    "\n",
    "# Define initial starting points by sampling from prior\n",
    "initial_parameters = log_prior.sample(n=n_runs)\n",
    "\n",
    "# Run optimisation multiple times\n",
    "for run_id, initial_params in enumerate(tqdm(initial_parameters)):\n",
    "\n",
    "    # Create optimisation controller with a CMA-ES optimiser\n",
    "    optimiser = pints.OptimisationController(\n",
    "        function=log_posterior,\n",
    "        x0=initial_params,\n",
    "        method=pints.SNES)\n",
    "\n",
    "    # Disable logging mode\n",
    "    optimiser.set_log_to_screen(False)\n",
    "\n",
    "    # Parallelise optimisation\n",
    "    optimiser.set_parallel(True)\n",
    "\n",
    "    # TODO: Remove this\n",
    "    optimiser.set_max_iterations(1000)\n",
    "\n",
    "    # Find optimal parameters\n",
    "    try:\n",
    "        estimates, score = optimiser.run()\n",
    "    except:\n",
    "        # If inference breaks fill estimates with nan\n",
    "        estimates = np.array([np.nan] * total_n_parameters)\n",
    "        score = np.nan\n",
    "\n",
    "    # Save estimates and score\n",
    "    for index, _ in enumerate(mouse_ids):\n",
    "        # Match mice with structural model parameters\n",
    "        transf_params_shared_const_noise[index, run_id, :-n_noise_params:] = estimates[\n",
    "            index * n_structural_params:(index + 1) * n_structural_params]\n",
    "    \n",
    "    # Get noise parameter\n",
    "    transf_params_shared_const_noise[:, run_id, -n_noise_params:] = np.array(np.repeat(\n",
    "        a=estimates[-n_noise_params:, np.newaxis], repeats=n_mice, axis=0))\n",
    "    scores_shared_const_noise[run_id] = score"
   ]
  },
  {
   "cell_type": "code",
   "execution_count": 20,
   "metadata": {},
   "outputs": [],
   "source": [
    "#\n",
    "# Transform parameters to biological parameters (initial tumour volume, critical tumour volume, growth rate, sigma).\n",
    "# \n",
    "# This cell needs the above inferred dimensionless parameters and the characteristic volume and time scale:\n",
    "# [transf_params_shared_const_noise, characteristic_volume, characteristic_time]\n",
    "#\n",
    "\n",
    "import numpy as np\n",
    "\n",
    "\n",
    "# Initialise container for backtransformed paramters\n",
    "# Shape (n_mice, n_runs, n_parameters)\n",
    "mouse_params_shared_const_noise = np.empty(shape=transf_params_shared_const_noise.shape)\n",
    "\n",
    "# Transform initial volumes\n",
    "# V_0 = exp(log(v_0)) * V^c\n",
    "mouse_params_shared_const_noise[:, :, 0] = np.exp(transf_params_shared_const_noise[:, :, 0]) * characteristic_volume\n",
    "\n",
    "# Transform critical volume \n",
    "# V_crit = exp(log(a_0)) * V^c\n",
    "mouse_params_shared_const_noise[:, :, 1] = np.exp(transf_params_shared_const_noise[:, :, 1]) * characteristic_volume\n",
    "\n",
    "# Transform exponential growth rate\n",
    "# lambda = exp(log(a_1 / a_0) / t^c\n",
    "mouse_params_shared_const_noise[:, :, 2] = \\\n",
    "    np.exp(transf_params_shared_const_noise[:, :, 2] - transf_params_shared_const_noise[:, :, 1]) / characteristic_time\n",
    "\n",
    "# Transform sigma\n",
    "# sigma = sigma_dimensionless * V^c\n",
    "mouse_params_shared_const_noise[:, :, 3] = \\\n",
    "    np.exp(transf_params_shared_const_noise[:, :, 3]) * characteristic_volume"
   ]
  },
  {
   "cell_type": "code",
   "execution_count": 23,
   "metadata": {},
   "outputs": [
    {
     "output_type": "display_data",
     "data": {
      "application/vnd.plotly.v1+json": {
       "config": {
        "plotlyServerURL": "https://plot.ly"
       },
       "data": [
        {
         "boxpoints": "all",
         "jitter": 0.2,
         "line": {
          "color": "#636EFA"
         },
         "marker": {
          "color": "#636EFA",
          "line": {
           "color": "black",
           "width": 1
          },
          "opacity": 0.7,
          "symbol": "circle"
         },
         "name": "Initial tumour volume in cm^3",
         "pointpos": -1.5,
         "type": "box",
         "visible": true,
         "y": [
          0.10166142411878401,
          0.21712040987761116,
          0.1608335481665391,
          0.2865625033476189,
          0.07158410013969094,
          0.08998896982520922,
          0.18362904354261336,
          0.09734150012608629,
          0.08175844509697044,
          0.31233468687472005
         ]
        },
        {
         "boxpoints": "all",
         "jitter": 0.2,
         "line": {
          "color": "#EF553B"
         },
         "marker": {
          "color": "#EF553B",
          "line": {
           "color": "black",
           "width": 1
          },
          "opacity": 0.7,
          "symbol": "circle"
         },
         "name": "Critical volume in cm^3",
         "pointpos": -1.5,
         "type": "box",
         "visible": true,
         "y": [
          0.12019671774020388,
          0.7536366651527319,
          0.33468600051660385,
          2.33210436419155,
          0.0635470433568184,
          0.09100374409392667,
          0.43511582120178643,
          0.0949313984920999,
          0.06627102526458255,
          3.4851466603238985
         ]
        },
        {
         "boxpoints": "all",
         "jitter": 0.2,
         "line": {
          "color": "#00CC96"
         },
         "marker": {
          "color": "#00CC96",
          "line": {
           "color": "black",
           "width": 1
          },
          "opacity": 0.7,
          "symbol": "circle"
         },
         "name": "Exponential growth rate in 1/day",
         "pointpos": -1.5,
         "type": "box",
         "visible": true,
         "y": [
          0.9799167883930447,
          0.2429960922674352,
          0.42241052580410593,
          0.1423033647979045,
          1.7508559397654433,
          1.2543265740749192,
          0.34611231656028046,
          1.195374227462187,
          1.6688562220865337,
          0.12398112061120865
         ]
        },
        {
         "boxpoints": "all",
         "jitter": 0.2,
         "line": {
          "color": "#AB63FA"
         },
         "marker": {
          "color": "#AB63FA",
          "line": {
           "color": "black",
           "width": 1
          },
          "opacity": 0.7,
          "symbol": "circle"
         },
         "name": "Standard deviation in cm^3",
         "pointpos": -1.5,
         "type": "box",
         "visible": true,
         "y": [
          1.0826465154574807,
          1.1177420916924083,
          1.1108029442672147,
          1.1015669820691898,
          1.117640017702693,
          1.0911630046883485,
          1.083851212181364,
          1.1138116325471417,
          1.1175985287910972,
          1.1055440376513146
         ]
        },
        {
         "boxpoints": "all",
         "jitter": 0.2,
         "line": {
          "color": "#FFA15A"
         },
         "marker": {
          "color": "#FFA15A",
          "line": {
           "color": "black",
           "width": 1
          },
          "opacity": 0.7,
          "symbol": "circle"
         },
         "name": "Score",
         "pointpos": -1.5,
         "type": "box",
         "visible": true,
         "y": [
          49.26959733916429,
          14.647778774733766,
          20.57449340794372,
          28.965208702823418,
          14.709759123250208,
          39.86982217111624,
          47.6547747282965,
          18.032117865908063,
          14.297763908290364,
          25.74911172246057
         ]
        },
        {
         "boxpoints": "all",
         "jitter": 0.2,
         "line": {
          "color": "#636EFA"
         },
         "marker": {
          "color": "#636EFA",
          "line": {
           "color": "black",
           "width": 1
          },
          "opacity": 0.7,
          "symbol": "circle"
         },
         "name": "Initial tumour volume in cm^3",
         "pointpos": -1.5,
         "type": "box",
         "visible": false,
         "y": [
          0.12058789919251844,
          0.06361179444766145,
          0.12888827482081316,
          0.12441670122108955,
          0.1269535707883006,
          0.1174583788373859,
          0.12434478904217454,
          0.12269892938449985,
          0.07842667165990655,
          0.06268610804415695
         ]
        },
        {
         "boxpoints": "all",
         "jitter": 0.2,
         "line": {
          "color": "#EF553B"
         },
         "marker": {
          "color": "#EF553B",
          "line": {
           "color": "black",
           "width": 1
          },
          "opacity": 0.7,
          "symbol": "circle"
         },
         "name": "Critical volume in cm^3",
         "pointpos": -1.5,
         "type": "box",
         "visible": false,
         "y": [
          13.73738710300389,
          0.004953914720833522,
          3.531892252556894,
          147.75216568644967,
          138.85720174302432,
          5.6901671659573365,
          454.9263631849128,
          13.418211288236337,
          0.08130850116861998,
          0.011741656089533327
         ]
        },
        {
         "boxpoints": "all",
         "jitter": 0.2,
         "line": {
          "color": "#00CC96"
         },
         "marker": {
          "color": "#00CC96",
          "line": {
           "color": "black",
           "width": 1
          },
          "opacity": 0.7,
          "symbol": "circle"
         },
         "name": "Exponential growth rate in 1/day",
         "pointpos": -1.5,
         "type": "box",
         "visible": false,
         "y": [
          0.054652763312809154,
          3.328513919023376,
          0.05496036696602293,
          0.05240689962323988,
          0.05163246717356067,
          0.05729287833263262,
          0.05236093165090688,
          0.05401650262837652,
          0.26360544068328046,
          1.4607521338077785
         ]
        },
        {
         "boxpoints": "all",
         "jitter": 0.2,
         "line": {
          "color": "#AB63FA"
         },
         "marker": {
          "color": "#AB63FA",
          "line": {
           "color": "black",
           "width": 1
          },
          "opacity": 0.7,
          "symbol": "circle"
         },
         "name": "Standard deviation in cm^3",
         "pointpos": -1.5,
         "type": "box",
         "visible": false,
         "y": [
          1.0826465154574807,
          1.1177420916924083,
          1.1108029442672147,
          1.1015669820691898,
          1.117640017702693,
          1.0911630046883485,
          1.083851212181364,
          1.1138116325471417,
          1.1175985287910972,
          1.1055440376513146
         ]
        },
        {
         "boxpoints": "all",
         "jitter": 0.2,
         "line": {
          "color": "#FFA15A"
         },
         "marker": {
          "color": "#FFA15A",
          "line": {
           "color": "black",
           "width": 1
          },
          "opacity": 0.7,
          "symbol": "circle"
         },
         "name": "Score",
         "pointpos": -1.5,
         "type": "box",
         "visible": false,
         "y": [
          49.26959733916429,
          14.647778774733766,
          20.57449340794372,
          28.965208702823418,
          14.709759123250208,
          39.86982217111624,
          47.6547747282965,
          18.032117865908063,
          14.297763908290364,
          25.74911172246057
         ]
        },
        {
         "boxpoints": "all",
         "jitter": 0.2,
         "line": {
          "color": "#636EFA"
         },
         "marker": {
          "color": "#636EFA",
          "line": {
           "color": "black",
           "width": 1
          },
          "opacity": 0.7,
          "symbol": "circle"
         },
         "name": "Initial tumour volume in cm^3",
         "pointpos": -1.5,
         "type": "box",
         "visible": false,
         "y": [
          0.22142281334436134,
          0.10974444362334529,
          0.08655689102762527,
          0.177747782260348,
          0.11681032291808219,
          0.19228684820368458,
          0.2244252150206651,
          0.13000984318231582,
          0.09410806857756872,
          0.15743246470767205
         ]
        },
        {
         "boxpoints": "all",
         "jitter": 0.2,
         "line": {
          "color": "#EF553B"
         },
         "marker": {
          "color": "#EF553B",
          "line": {
           "color": "black",
           "width": 1
          },
          "opacity": 0.7,
          "symbol": "circle"
         },
         "name": "Critical volume in cm^3",
         "pointpos": -1.5,
         "type": "box",
         "visible": false,
         "y": [
          39.9973909964341,
          0.47670255211464374,
          0.27592455408890676,
          2.216636137819778,
          0.5066008164045689,
          4.720435359092499,
          83.47032023876501,
          0.7382730305447895,
          0.4096479091100582,
          1.2795827162160054
         ]
        },
        {
         "boxpoints": "all",
         "jitter": 0.2,
         "line": {
          "color": "#00CC96"
         },
         "marker": {
          "color": "#00CC96",
          "line": {
           "color": "black",
           "width": 1
          },
          "opacity": 0.7,
          "symbol": "circle"
         },
         "name": "Exponential growth rate in 1/day",
         "pointpos": -1.5,
         "type": "box",
         "visible": false,
         "y": [
          0.11308437605622065,
          0.33024120565523474,
          0.47599022291713367,
          0.16128909106301412,
          0.31521170333318027,
          0.13672885434708315,
          0.11119578887044522,
          0.25597581444367973,
          0.36876878743620634,
          0.1961077194870026
         ]
        },
        {
         "boxpoints": "all",
         "jitter": 0.2,
         "line": {
          "color": "#AB63FA"
         },
         "marker": {
          "color": "#AB63FA",
          "line": {
           "color": "black",
           "width": 1
          },
          "opacity": 0.7,
          "symbol": "circle"
         },
         "name": "Standard deviation in cm^3",
         "pointpos": -1.5,
         "type": "box",
         "visible": false,
         "y": [
          1.0826465154574807,
          1.1177420916924083,
          1.1108029442672147,
          1.1015669820691898,
          1.117640017702693,
          1.0911630046883485,
          1.083851212181364,
          1.1138116325471417,
          1.1175985287910972,
          1.1055440376513146
         ]
        },
        {
         "boxpoints": "all",
         "jitter": 0.2,
         "line": {
          "color": "#FFA15A"
         },
         "marker": {
          "color": "#FFA15A",
          "line": {
           "color": "black",
           "width": 1
          },
          "opacity": 0.7,
          "symbol": "circle"
         },
         "name": "Score",
         "pointpos": -1.5,
         "type": "box",
         "visible": false,
         "y": [
          49.26959733916429,
          14.647778774733766,
          20.57449340794372,
          28.965208702823418,
          14.709759123250208,
          39.86982217111624,
          47.6547747282965,
          18.032117865908063,
          14.297763908290364,
          25.74911172246057
         ]
        },
        {
         "boxpoints": "all",
         "jitter": 0.2,
         "line": {
          "color": "#636EFA"
         },
         "marker": {
          "color": "#636EFA",
          "line": {
           "color": "black",
           "width": 1
          },
          "opacity": 0.7,
          "symbol": "circle"
         },
         "name": "Initial tumour volume in cm^3",
         "pointpos": -1.5,
         "type": "box",
         "visible": false,
         "y": [
          0.11799777693983331,
          0.18257421927083692,
          0.14985219823134718,
          0.1093669178555908,
          0.10486059453990006,
          0.08281626022355007,
          0.15151303409981584,
          0.07054636659078162,
          0.19154340927111113,
          0.07986684172208068
         ]
        },
        {
         "boxpoints": "all",
         "jitter": 0.2,
         "line": {
          "color": "#EF553B"
         },
         "marker": {
          "color": "#EF553B",
          "line": {
           "color": "black",
           "width": 1
          },
          "opacity": 0.7,
          "symbol": "circle"
         },
         "name": "Critical volume in cm^3",
         "pointpos": -1.5,
         "type": "box",
         "visible": false,
         "y": [
          0.4475167727302909,
          3.4296019953514865,
          1.5465213624847018,
          0.29885845685339857,
          0.3095699865460741,
          0.12360408144394242,
          1.3761469198718599,
          0.12813236076428094,
          109.0927479229045,
          0.17374097792552498
         ]
        },
        {
         "boxpoints": "all",
         "jitter": 0.2,
         "line": {
          "color": "#00CC96"
         },
         "marker": {
          "color": "#00CC96",
          "line": {
           "color": "black",
           "width": 1
          },
          "opacity": 0.7,
          "symbol": "circle"
         },
         "name": "Exponential growth rate in 1/day",
         "pointpos": -1.5,
         "type": "box",
         "visible": false,
         "y": [
          0.1712227466382789,
          0.07945477009767095,
          0.10115640210730613,
          0.2168501410900325,
          0.21503509548149946,
          0.4139881154175299,
          0.10359438463764513,
          0.41511403265581,
          0.06737803968875061,
          0.32756175088718864
         ]
        },
        {
         "boxpoints": "all",
         "jitter": 0.2,
         "line": {
          "color": "#AB63FA"
         },
         "marker": {
          "color": "#AB63FA",
          "line": {
           "color": "black",
           "width": 1
          },
          "opacity": 0.7,
          "symbol": "circle"
         },
         "name": "Standard deviation in cm^3",
         "pointpos": -1.5,
         "type": "box",
         "visible": false,
         "y": [
          1.0826465154574807,
          1.1177420916924083,
          1.1108029442672147,
          1.1015669820691898,
          1.117640017702693,
          1.0911630046883485,
          1.083851212181364,
          1.1138116325471417,
          1.1175985287910972,
          1.1055440376513146
         ]
        },
        {
         "boxpoints": "all",
         "jitter": 0.2,
         "line": {
          "color": "#FFA15A"
         },
         "marker": {
          "color": "#FFA15A",
          "line": {
           "color": "black",
           "width": 1
          },
          "opacity": 0.7,
          "symbol": "circle"
         },
         "name": "Score",
         "pointpos": -1.5,
         "type": "box",
         "visible": false,
         "y": [
          49.26959733916429,
          14.647778774733766,
          20.57449340794372,
          28.965208702823418,
          14.709759123250208,
          39.86982217111624,
          47.6547747282965,
          18.032117865908063,
          14.297763908290364,
          25.74911172246057
         ]
        },
        {
         "boxpoints": "all",
         "jitter": 0.2,
         "line": {
          "color": "#636EFA"
         },
         "marker": {
          "color": "#636EFA",
          "line": {
           "color": "black",
           "width": 1
          },
          "opacity": 0.7,
          "symbol": "circle"
         },
         "name": "Initial tumour volume in cm^3",
         "pointpos": -1.5,
         "type": "box",
         "visible": false,
         "y": [
          0.0841106006507656,
          0.0028615863989899975,
          0.06620491212905605,
          0.04791786363152912,
          0.003805532920893231,
          0.08287894553281518,
          0.08506210031790662,
          0.0045134913119111225,
          0.002648297992567352,
          0.03223537415587856
         ]
        },
        {
         "boxpoints": "all",
         "jitter": 0.2,
         "line": {
          "color": "#EF553B"
         },
         "marker": {
          "color": "#EF553B",
          "line": {
           "color": "black",
           "width": 1
          },
          "opacity": 0.7,
          "symbol": "circle"
         },
         "name": "Critical volume in cm^3",
         "pointpos": -1.5,
         "type": "box",
         "visible": false,
         "y": [
          24.03243479369872,
          0.24833129730422626,
          2.1099336675821387,
          1.6839624026299194,
          0.27688030205247127,
          14.740519454194496,
          12.27124175480403,
          0.3193438880898322,
          0.2716865556303906,
          1.0445315951662524
         ]
        },
        {
         "boxpoints": "all",
         "jitter": 0.2,
         "line": {
          "color": "#00CC96"
         },
         "marker": {
          "color": "#00CC96",
          "line": {
           "color": "black",
           "width": 1
          },
          "opacity": 0.7,
          "symbol": "circle"
         },
         "name": "Exponential growth rate in 1/day",
         "pointpos": -1.5,
         "type": "box",
         "visible": false,
         "y": [
          0.11073716411868545,
          0.46489672356254236,
          0.14404426389526484,
          0.16358910449851846,
          0.4308916038662115,
          0.11286390621418887,
          0.11267020314691045,
          0.39811874391607355,
          0.4496364998142204,
          0.19947297095617725
         ]
        },
        {
         "boxpoints": "all",
         "jitter": 0.2,
         "line": {
          "color": "#AB63FA"
         },
         "marker": {
          "color": "#AB63FA",
          "line": {
           "color": "black",
           "width": 1
          },
          "opacity": 0.7,
          "symbol": "circle"
         },
         "name": "Standard deviation in cm^3",
         "pointpos": -1.5,
         "type": "box",
         "visible": false,
         "y": [
          1.0826465154574807,
          1.1177420916924083,
          1.1108029442672147,
          1.1015669820691898,
          1.117640017702693,
          1.0911630046883485,
          1.083851212181364,
          1.1138116325471417,
          1.1175985287910972,
          1.1055440376513146
         ]
        },
        {
         "boxpoints": "all",
         "jitter": 0.2,
         "line": {
          "color": "#FFA15A"
         },
         "marker": {
          "color": "#FFA15A",
          "line": {
           "color": "black",
           "width": 1
          },
          "opacity": 0.7,
          "symbol": "circle"
         },
         "name": "Score",
         "pointpos": -1.5,
         "type": "box",
         "visible": false,
         "y": [
          49.26959733916429,
          14.647778774733766,
          20.57449340794372,
          28.965208702823418,
          14.709759123250208,
          39.86982217111624,
          47.6547747282965,
          18.032117865908063,
          14.297763908290364,
          25.74911172246057
         ]
        },
        {
         "boxpoints": "all",
         "jitter": 0.2,
         "line": {
          "color": "#636EFA"
         },
         "marker": {
          "color": "#636EFA",
          "line": {
           "color": "black",
           "width": 1
          },
          "opacity": 0.7,
          "symbol": "circle"
         },
         "name": "Initial tumour volume in cm^3",
         "pointpos": -1.5,
         "type": "box",
         "visible": false,
         "y": [
          0.09142682453729234,
          0.04402376413276085,
          0.30370565330200844,
          0.2647243074053577,
          0.22818448524305268,
          0.2711288956025523,
          0.22289435688490145,
          0.17873031519586796,
          0.23147171936167305,
          0.16775164000031137
         ]
        },
        {
         "boxpoints": "all",
         "jitter": 0.2,
         "line": {
          "color": "#EF553B"
         },
         "marker": {
          "color": "#EF553B",
          "line": {
           "color": "black",
           "width": 1
          },
          "opacity": 0.7,
          "symbol": "circle"
         },
         "name": "Critical volume in cm^3",
         "pointpos": -1.5,
         "type": "box",
         "visible": false,
         "y": [
          0.11952656958629342,
          0.03251585766541026,
          17.39565517604235,
          2.466498051303905,
          1.36704344477507,
          2.877794882066031,
          1.1377464873521836,
          0.6213598711061152,
          1.374575046509689,
          0.4687981233744233
         ]
        },
        {
         "boxpoints": "all",
         "jitter": 0.2,
         "line": {
          "color": "#00CC96"
         },
         "marker": {
          "color": "#00CC96",
          "line": {
           "color": "black",
           "width": 1
          },
          "opacity": 0.7,
          "symbol": "circle"
         },
         "name": "Exponential growth rate in 1/day",
         "pointpos": -1.5,
         "type": "box",
         "visible": false,
         "y": [
          0.7822324666432426,
          2.598210361058135,
          0.08451532893035595,
          0.11592419157397615,
          0.14717012437410734,
          0.11055491366927471,
          0.15904584195683555,
          0.22513847757631475,
          0.14576513716457598,
          0.26754364741543163
         ]
        },
        {
         "boxpoints": "all",
         "jitter": 0.2,
         "line": {
          "color": "#AB63FA"
         },
         "marker": {
          "color": "#AB63FA",
          "line": {
           "color": "black",
           "width": 1
          },
          "opacity": 0.7,
          "symbol": "circle"
         },
         "name": "Standard deviation in cm^3",
         "pointpos": -1.5,
         "type": "box",
         "visible": false,
         "y": [
          1.0826465154574807,
          1.1177420916924083,
          1.1108029442672147,
          1.1015669820691898,
          1.117640017702693,
          1.0911630046883485,
          1.083851212181364,
          1.1138116325471417,
          1.1175985287910972,
          1.1055440376513146
         ]
        },
        {
         "boxpoints": "all",
         "jitter": 0.2,
         "line": {
          "color": "#FFA15A"
         },
         "marker": {
          "color": "#FFA15A",
          "line": {
           "color": "black",
           "width": 1
          },
          "opacity": 0.7,
          "symbol": "circle"
         },
         "name": "Score",
         "pointpos": -1.5,
         "type": "box",
         "visible": false,
         "y": [
          49.26959733916429,
          14.647778774733766,
          20.57449340794372,
          28.965208702823418,
          14.709759123250208,
          39.86982217111624,
          47.6547747282965,
          18.032117865908063,
          14.297763908290364,
          25.74911172246057
         ]
        },
        {
         "boxpoints": "all",
         "jitter": 0.2,
         "line": {
          "color": "#636EFA"
         },
         "marker": {
          "color": "#636EFA",
          "line": {
           "color": "black",
           "width": 1
          },
          "opacity": 0.7,
          "symbol": "circle"
         },
         "name": "Initial tumour volume in cm^3",
         "pointpos": -1.5,
         "type": "box",
         "visible": false,
         "y": [
          0.09871691366925718,
          0.14589758449026452,
          0.09414748045219459,
          0.1418825463900628,
          0.14352284388656886,
          0.1439424589584718,
          0.13001635147124332,
          0.1436999737324524,
          0.13931129802485237,
          0.13859075412679356
         ]
        },
        {
         "boxpoints": "all",
         "jitter": 0.2,
         "line": {
          "color": "#EF553B"
         },
         "marker": {
          "color": "#EF553B",
          "line": {
           "color": "black",
           "width": 1
          },
          "opacity": 0.7,
          "symbol": "circle"
         },
         "name": "Critical volume in cm^3",
         "pointpos": -1.5,
         "type": "box",
         "visible": false,
         "y": [
          0.18129114857230852,
          47.65050193666181,
          0.1330552689065914,
          5.452619030318936,
          10.30230631043039,
          38.02899383909422,
          1.222542505206698,
          5.858993776019846,
          2.2623923617656874,
          2.133977228921343
         ]
        },
        {
         "boxpoints": "all",
         "jitter": 0.2,
         "line": {
          "color": "#00CC96"
         },
         "marker": {
          "color": "#00CC96",
          "line": {
           "color": "black",
           "width": 1
          },
          "opacity": 0.7,
          "symbol": "circle"
         },
         "name": "Exponential growth rate in 1/day",
         "pointpos": -1.5,
         "type": "box",
         "visible": false,
         "y": [
          0.18450837026580805,
          0.05663329946119183,
          0.22750189536534252,
          0.06078114797045512,
          0.05868904403643214,
          0.057212573363888596,
          0.0767256053929808,
          0.060015082690183685,
          0.06641449999238652,
          0.0671286386263425
         ]
        },
        {
         "boxpoints": "all",
         "jitter": 0.2,
         "line": {
          "color": "#AB63FA"
         },
         "marker": {
          "color": "#AB63FA",
          "line": {
           "color": "black",
           "width": 1
          },
          "opacity": 0.7,
          "symbol": "circle"
         },
         "name": "Standard deviation in cm^3",
         "pointpos": -1.5,
         "type": "box",
         "visible": false,
         "y": [
          1.0826465154574807,
          1.1177420916924083,
          1.1108029442672147,
          1.1015669820691898,
          1.117640017702693,
          1.0911630046883485,
          1.083851212181364,
          1.1138116325471417,
          1.1175985287910972,
          1.1055440376513146
         ]
        },
        {
         "boxpoints": "all",
         "jitter": 0.2,
         "line": {
          "color": "#FFA15A"
         },
         "marker": {
          "color": "#FFA15A",
          "line": {
           "color": "black",
           "width": 1
          },
          "opacity": 0.7,
          "symbol": "circle"
         },
         "name": "Score",
         "pointpos": -1.5,
         "type": "box",
         "visible": false,
         "y": [
          49.26959733916429,
          14.647778774733766,
          20.57449340794372,
          28.965208702823418,
          14.709759123250208,
          39.86982217111624,
          47.6547747282965,
          18.032117865908063,
          14.297763908290364,
          25.74911172246057
         ]
        },
        {
         "boxpoints": "all",
         "jitter": 0.2,
         "line": {
          "color": "#636EFA"
         },
         "marker": {
          "color": "#636EFA",
          "line": {
           "color": "black",
           "width": 1
          },
          "opacity": 0.7,
          "symbol": "circle"
         },
         "name": "Initial tumour volume in cm^3",
         "pointpos": -1.5,
         "type": "box",
         "visible": false,
         "y": [
          0.04388031419908637,
          0.07212550271877251,
          0.09197617195393996,
          0.08213687427762346,
          0.08563037331912092,
          0.0499279778012218,
          0.05218637853390763,
          0.09451064699733588,
          0.10079336802125724,
          0.09307104096870074
         ]
        },
        {
         "boxpoints": "all",
         "jitter": 0.2,
         "line": {
          "color": "#EF553B"
         },
         "marker": {
          "color": "#EF553B",
          "line": {
           "color": "black",
           "width": 1
          },
          "opacity": 0.7,
          "symbol": "circle"
         },
         "name": "Critical volume in cm^3",
         "pointpos": -1.5,
         "type": "box",
         "visible": false,
         "y": [
          0.05517265217595432,
          0.5873673704386103,
          174.24093322837047,
          0.9939957149496638,
          1.2938175589725167,
          0.08746069122086993,
          0.1102032851569274,
          10.143430247075363,
          18.556553283591462,
          15.036940853429915
         ]
        },
        {
         "boxpoints": "all",
         "jitter": 0.2,
         "line": {
          "color": "#00CC96"
         },
         "marker": {
          "color": "#00CC96",
          "line": {
           "color": "black",
           "width": 1
          },
          "opacity": 0.7,
          "symbol": "circle"
         },
         "name": "Exponential growth rate in 1/day",
         "pointpos": -1.5,
         "type": "box",
         "visible": false,
         "y": [
          0.3975943049743663,
          0.10172224682918561,
          0.06426577722131438,
          0.08476882816107105,
          0.07927460045599391,
          0.280178925872385,
          0.23837470859544527,
          0.06458170454178157,
          0.061981183743152236,
          0.06483706731479237
         ]
        },
        {
         "boxpoints": "all",
         "jitter": 0.2,
         "line": {
          "color": "#AB63FA"
         },
         "marker": {
          "color": "#AB63FA",
          "line": {
           "color": "black",
           "width": 1
          },
          "opacity": 0.7,
          "symbol": "circle"
         },
         "name": "Standard deviation in cm^3",
         "pointpos": -1.5,
         "type": "box",
         "visible": false,
         "y": [
          1.0826465154574807,
          1.1177420916924083,
          1.1108029442672147,
          1.1015669820691898,
          1.117640017702693,
          1.0911630046883485,
          1.083851212181364,
          1.1138116325471417,
          1.1175985287910972,
          1.1055440376513146
         ]
        },
        {
         "boxpoints": "all",
         "jitter": 0.2,
         "line": {
          "color": "#FFA15A"
         },
         "marker": {
          "color": "#FFA15A",
          "line": {
           "color": "black",
           "width": 1
          },
          "opacity": 0.7,
          "symbol": "circle"
         },
         "name": "Score",
         "pointpos": -1.5,
         "type": "box",
         "visible": false,
         "y": [
          49.26959733916429,
          14.647778774733766,
          20.57449340794372,
          28.965208702823418,
          14.709759123250208,
          39.86982217111624,
          47.6547747282965,
          18.032117865908063,
          14.297763908290364,
          25.74911172246057
         ]
        }
       ],
       "layout": {
        "autosize": true,
        "legend": {
         "x": 1.05,
         "xanchor": "left",
         "y": 0.01,
         "yanchor": "bottom"
        },
        "template": {
         "data": {
          "bar": [
           {
            "error_x": {
             "color": "#2a3f5f"
            },
            "error_y": {
             "color": "#2a3f5f"
            },
            "marker": {
             "line": {
              "color": "white",
              "width": 0.5
             }
            },
            "type": "bar"
           }
          ],
          "barpolar": [
           {
            "marker": {
             "line": {
              "color": "white",
              "width": 0.5
             }
            },
            "type": "barpolar"
           }
          ],
          "carpet": [
           {
            "aaxis": {
             "endlinecolor": "#2a3f5f",
             "gridcolor": "#C8D4E3",
             "linecolor": "#C8D4E3",
             "minorgridcolor": "#C8D4E3",
             "startlinecolor": "#2a3f5f"
            },
            "baxis": {
             "endlinecolor": "#2a3f5f",
             "gridcolor": "#C8D4E3",
             "linecolor": "#C8D4E3",
             "minorgridcolor": "#C8D4E3",
             "startlinecolor": "#2a3f5f"
            },
            "type": "carpet"
           }
          ],
          "choropleth": [
           {
            "colorbar": {
             "outlinewidth": 0,
             "ticks": ""
            },
            "type": "choropleth"
           }
          ],
          "contour": [
           {
            "colorbar": {
             "outlinewidth": 0,
             "ticks": ""
            },
            "colorscale": [
             [
              0,
              "#0d0887"
             ],
             [
              0.1111111111111111,
              "#46039f"
             ],
             [
              0.2222222222222222,
              "#7201a8"
             ],
             [
              0.3333333333333333,
              "#9c179e"
             ],
             [
              0.4444444444444444,
              "#bd3786"
             ],
             [
              0.5555555555555556,
              "#d8576b"
             ],
             [
              0.6666666666666666,
              "#ed7953"
             ],
             [
              0.7777777777777778,
              "#fb9f3a"
             ],
             [
              0.8888888888888888,
              "#fdca26"
             ],
             [
              1,
              "#f0f921"
             ]
            ],
            "type": "contour"
           }
          ],
          "contourcarpet": [
           {
            "colorbar": {
             "outlinewidth": 0,
             "ticks": ""
            },
            "type": "contourcarpet"
           }
          ],
          "heatmap": [
           {
            "colorbar": {
             "outlinewidth": 0,
             "ticks": ""
            },
            "colorscale": [
             [
              0,
              "#0d0887"
             ],
             [
              0.1111111111111111,
              "#46039f"
             ],
             [
              0.2222222222222222,
              "#7201a8"
             ],
             [
              0.3333333333333333,
              "#9c179e"
             ],
             [
              0.4444444444444444,
              "#bd3786"
             ],
             [
              0.5555555555555556,
              "#d8576b"
             ],
             [
              0.6666666666666666,
              "#ed7953"
             ],
             [
              0.7777777777777778,
              "#fb9f3a"
             ],
             [
              0.8888888888888888,
              "#fdca26"
             ],
             [
              1,
              "#f0f921"
             ]
            ],
            "type": "heatmap"
           }
          ],
          "heatmapgl": [
           {
            "colorbar": {
             "outlinewidth": 0,
             "ticks": ""
            },
            "colorscale": [
             [
              0,
              "#0d0887"
             ],
             [
              0.1111111111111111,
              "#46039f"
             ],
             [
              0.2222222222222222,
              "#7201a8"
             ],
             [
              0.3333333333333333,
              "#9c179e"
             ],
             [
              0.4444444444444444,
              "#bd3786"
             ],
             [
              0.5555555555555556,
              "#d8576b"
             ],
             [
              0.6666666666666666,
              "#ed7953"
             ],
             [
              0.7777777777777778,
              "#fb9f3a"
             ],
             [
              0.8888888888888888,
              "#fdca26"
             ],
             [
              1,
              "#f0f921"
             ]
            ],
            "type": "heatmapgl"
           }
          ],
          "histogram": [
           {
            "marker": {
             "colorbar": {
              "outlinewidth": 0,
              "ticks": ""
             }
            },
            "type": "histogram"
           }
          ],
          "histogram2d": [
           {
            "colorbar": {
             "outlinewidth": 0,
             "ticks": ""
            },
            "colorscale": [
             [
              0,
              "#0d0887"
             ],
             [
              0.1111111111111111,
              "#46039f"
             ],
             [
              0.2222222222222222,
              "#7201a8"
             ],
             [
              0.3333333333333333,
              "#9c179e"
             ],
             [
              0.4444444444444444,
              "#bd3786"
             ],
             [
              0.5555555555555556,
              "#d8576b"
             ],
             [
              0.6666666666666666,
              "#ed7953"
             ],
             [
              0.7777777777777778,
              "#fb9f3a"
             ],
             [
              0.8888888888888888,
              "#fdca26"
             ],
             [
              1,
              "#f0f921"
             ]
            ],
            "type": "histogram2d"
           }
          ],
          "histogram2dcontour": [
           {
            "colorbar": {
             "outlinewidth": 0,
             "ticks": ""
            },
            "colorscale": [
             [
              0,
              "#0d0887"
             ],
             [
              0.1111111111111111,
              "#46039f"
             ],
             [
              0.2222222222222222,
              "#7201a8"
             ],
             [
              0.3333333333333333,
              "#9c179e"
             ],
             [
              0.4444444444444444,
              "#bd3786"
             ],
             [
              0.5555555555555556,
              "#d8576b"
             ],
             [
              0.6666666666666666,
              "#ed7953"
             ],
             [
              0.7777777777777778,
              "#fb9f3a"
             ],
             [
              0.8888888888888888,
              "#fdca26"
             ],
             [
              1,
              "#f0f921"
             ]
            ],
            "type": "histogram2dcontour"
           }
          ],
          "mesh3d": [
           {
            "colorbar": {
             "outlinewidth": 0,
             "ticks": ""
            },
            "type": "mesh3d"
           }
          ],
          "parcoords": [
           {
            "line": {
             "colorbar": {
              "outlinewidth": 0,
              "ticks": ""
             }
            },
            "type": "parcoords"
           }
          ],
          "pie": [
           {
            "automargin": true,
            "type": "pie"
           }
          ],
          "scatter": [
           {
            "marker": {
             "colorbar": {
              "outlinewidth": 0,
              "ticks": ""
             }
            },
            "type": "scatter"
           }
          ],
          "scatter3d": [
           {
            "line": {
             "colorbar": {
              "outlinewidth": 0,
              "ticks": ""
             }
            },
            "marker": {
             "colorbar": {
              "outlinewidth": 0,
              "ticks": ""
             }
            },
            "type": "scatter3d"
           }
          ],
          "scattercarpet": [
           {
            "marker": {
             "colorbar": {
              "outlinewidth": 0,
              "ticks": ""
             }
            },
            "type": "scattercarpet"
           }
          ],
          "scattergeo": [
           {
            "marker": {
             "colorbar": {
              "outlinewidth": 0,
              "ticks": ""
             }
            },
            "type": "scattergeo"
           }
          ],
          "scattergl": [
           {
            "marker": {
             "colorbar": {
              "outlinewidth": 0,
              "ticks": ""
             }
            },
            "type": "scattergl"
           }
          ],
          "scattermapbox": [
           {
            "marker": {
             "colorbar": {
              "outlinewidth": 0,
              "ticks": ""
             }
            },
            "type": "scattermapbox"
           }
          ],
          "scatterpolar": [
           {
            "marker": {
             "colorbar": {
              "outlinewidth": 0,
              "ticks": ""
             }
            },
            "type": "scatterpolar"
           }
          ],
          "scatterpolargl": [
           {
            "marker": {
             "colorbar": {
              "outlinewidth": 0,
              "ticks": ""
             }
            },
            "type": "scatterpolargl"
           }
          ],
          "scatterternary": [
           {
            "marker": {
             "colorbar": {
              "outlinewidth": 0,
              "ticks": ""
             }
            },
            "type": "scatterternary"
           }
          ],
          "surface": [
           {
            "colorbar": {
             "outlinewidth": 0,
             "ticks": ""
            },
            "colorscale": [
             [
              0,
              "#0d0887"
             ],
             [
              0.1111111111111111,
              "#46039f"
             ],
             [
              0.2222222222222222,
              "#7201a8"
             ],
             [
              0.3333333333333333,
              "#9c179e"
             ],
             [
              0.4444444444444444,
              "#bd3786"
             ],
             [
              0.5555555555555556,
              "#d8576b"
             ],
             [
              0.6666666666666666,
              "#ed7953"
             ],
             [
              0.7777777777777778,
              "#fb9f3a"
             ],
             [
              0.8888888888888888,
              "#fdca26"
             ],
             [
              1,
              "#f0f921"
             ]
            ],
            "type": "surface"
           }
          ],
          "table": [
           {
            "cells": {
             "fill": {
              "color": "#EBF0F8"
             },
             "line": {
              "color": "white"
             }
            },
            "header": {
             "fill": {
              "color": "#C8D4E3"
             },
             "line": {
              "color": "white"
             }
            },
            "type": "table"
           }
          ]
         },
         "layout": {
          "annotationdefaults": {
           "arrowcolor": "#2a3f5f",
           "arrowhead": 0,
           "arrowwidth": 1
          },
          "coloraxis": {
           "colorbar": {
            "outlinewidth": 0,
            "ticks": ""
           }
          },
          "colorscale": {
           "diverging": [
            [
             0,
             "#8e0152"
            ],
            [
             0.1,
             "#c51b7d"
            ],
            [
             0.2,
             "#de77ae"
            ],
            [
             0.3,
             "#f1b6da"
            ],
            [
             0.4,
             "#fde0ef"
            ],
            [
             0.5,
             "#f7f7f7"
            ],
            [
             0.6,
             "#e6f5d0"
            ],
            [
             0.7,
             "#b8e186"
            ],
            [
             0.8,
             "#7fbc41"
            ],
            [
             0.9,
             "#4d9221"
            ],
            [
             1,
             "#276419"
            ]
           ],
           "sequential": [
            [
             0,
             "#0d0887"
            ],
            [
             0.1111111111111111,
             "#46039f"
            ],
            [
             0.2222222222222222,
             "#7201a8"
            ],
            [
             0.3333333333333333,
             "#9c179e"
            ],
            [
             0.4444444444444444,
             "#bd3786"
            ],
            [
             0.5555555555555556,
             "#d8576b"
            ],
            [
             0.6666666666666666,
             "#ed7953"
            ],
            [
             0.7777777777777778,
             "#fb9f3a"
            ],
            [
             0.8888888888888888,
             "#fdca26"
            ],
            [
             1,
             "#f0f921"
            ]
           ],
           "sequentialminus": [
            [
             0,
             "#0d0887"
            ],
            [
             0.1111111111111111,
             "#46039f"
            ],
            [
             0.2222222222222222,
             "#7201a8"
            ],
            [
             0.3333333333333333,
             "#9c179e"
            ],
            [
             0.4444444444444444,
             "#bd3786"
            ],
            [
             0.5555555555555556,
             "#d8576b"
            ],
            [
             0.6666666666666666,
             "#ed7953"
            ],
            [
             0.7777777777777778,
             "#fb9f3a"
            ],
            [
             0.8888888888888888,
             "#fdca26"
            ],
            [
             1,
             "#f0f921"
            ]
           ]
          },
          "colorway": [
           "#636efa",
           "#EF553B",
           "#00cc96",
           "#ab63fa",
           "#FFA15A",
           "#19d3f3",
           "#FF6692",
           "#B6E880",
           "#FF97FF",
           "#FECB52"
          ],
          "font": {
           "color": "#2a3f5f"
          },
          "geo": {
           "bgcolor": "white",
           "lakecolor": "white",
           "landcolor": "white",
           "showlakes": true,
           "showland": true,
           "subunitcolor": "#C8D4E3"
          },
          "hoverlabel": {
           "align": "left"
          },
          "hovermode": "closest",
          "mapbox": {
           "style": "light"
          },
          "paper_bgcolor": "white",
          "plot_bgcolor": "white",
          "polar": {
           "angularaxis": {
            "gridcolor": "#EBF0F8",
            "linecolor": "#EBF0F8",
            "ticks": ""
           },
           "bgcolor": "white",
           "radialaxis": {
            "gridcolor": "#EBF0F8",
            "linecolor": "#EBF0F8",
            "ticks": ""
           }
          },
          "scene": {
           "xaxis": {
            "backgroundcolor": "white",
            "gridcolor": "#DFE8F3",
            "gridwidth": 2,
            "linecolor": "#EBF0F8",
            "showbackground": true,
            "ticks": "",
            "zerolinecolor": "#EBF0F8"
           },
           "yaxis": {
            "backgroundcolor": "white",
            "gridcolor": "#DFE8F3",
            "gridwidth": 2,
            "linecolor": "#EBF0F8",
            "showbackground": true,
            "ticks": "",
            "zerolinecolor": "#EBF0F8"
           },
           "zaxis": {
            "backgroundcolor": "white",
            "gridcolor": "#DFE8F3",
            "gridwidth": 2,
            "linecolor": "#EBF0F8",
            "showbackground": true,
            "ticks": "",
            "zerolinecolor": "#EBF0F8"
           }
          },
          "shapedefaults": {
           "line": {
            "color": "#2a3f5f"
           }
          },
          "ternary": {
           "aaxis": {
            "gridcolor": "#DFE8F3",
            "linecolor": "#A2B1C6",
            "ticks": ""
           },
           "baxis": {
            "gridcolor": "#DFE8F3",
            "linecolor": "#A2B1C6",
            "ticks": ""
           },
           "bgcolor": "white",
           "caxis": {
            "gridcolor": "#DFE8F3",
            "linecolor": "#A2B1C6",
            "ticks": ""
           }
          },
          "title": {
           "x": 0.05
          },
          "xaxis": {
           "automargin": true,
           "gridcolor": "#EBF0F8",
           "linecolor": "#EBF0F8",
           "ticks": "",
           "title": {
            "standoff": 15
           },
           "zerolinecolor": "#EBF0F8",
           "zerolinewidth": 2
          },
          "yaxis": {
           "automargin": true,
           "gridcolor": "#EBF0F8",
           "linecolor": "#EBF0F8",
           "ticks": "",
           "title": {
            "standoff": 15
           },
           "zerolinecolor": "#EBF0F8",
           "zerolinewidth": 2
          }
         }
        },
        "updatemenus": [
         {
          "buttons": [
           {
            "args": [
             {
              "visible": [
               true,
               true,
               true,
               true,
               true,
               false,
               false,
               false,
               false,
               false,
               false,
               false,
               false,
               false,
               false,
               false,
               false,
               false,
               false,
               false,
               false,
               false,
               false,
               false,
               false,
               false,
               false,
               false,
               false,
               false,
               false,
               false,
               false,
               false,
               false,
               false,
               false,
               false,
               false,
               false
              ]
             }
            ],
            "label": "ID: 40",
            "method": "restyle"
           },
           {
            "args": [
             {
              "visible": [
               false,
               false,
               false,
               false,
               false,
               true,
               true,
               true,
               true,
               true,
               false,
               false,
               false,
               false,
               false,
               false,
               false,
               false,
               false,
               false,
               false,
               false,
               false,
               false,
               false,
               false,
               false,
               false,
               false,
               false,
               false,
               false,
               false,
               false,
               false,
               false,
               false,
               false,
               false,
               false
              ]
             }
            ],
            "label": "ID: 94",
            "method": "restyle"
           },
           {
            "args": [
             {
              "visible": [
               false,
               false,
               false,
               false,
               false,
               false,
               false,
               false,
               false,
               false,
               true,
               true,
               true,
               true,
               true,
               false,
               false,
               false,
               false,
               false,
               false,
               false,
               false,
               false,
               false,
               false,
               false,
               false,
               false,
               false,
               false,
               false,
               false,
               false,
               false,
               false,
               false,
               false,
               false,
               false
              ]
             }
            ],
            "label": "ID: 95",
            "method": "restyle"
           },
           {
            "args": [
             {
              "visible": [
               false,
               false,
               false,
               false,
               false,
               false,
               false,
               false,
               false,
               false,
               false,
               false,
               false,
               false,
               false,
               true,
               true,
               true,
               true,
               true,
               false,
               false,
               false,
               false,
               false,
               false,
               false,
               false,
               false,
               false,
               false,
               false,
               false,
               false,
               false,
               false,
               false,
               false,
               false,
               false
              ]
             }
            ],
            "label": "ID: 136",
            "method": "restyle"
           },
           {
            "args": [
             {
              "visible": [
               false,
               false,
               false,
               false,
               false,
               false,
               false,
               false,
               false,
               false,
               false,
               false,
               false,
               false,
               false,
               false,
               false,
               false,
               false,
               false,
               true,
               true,
               true,
               true,
               true,
               false,
               false,
               false,
               false,
               false,
               false,
               false,
               false,
               false,
               false,
               false,
               false,
               false,
               false,
               false
              ]
             }
            ],
            "label": "ID: 140",
            "method": "restyle"
           },
           {
            "args": [
             {
              "visible": [
               false,
               false,
               false,
               false,
               false,
               false,
               false,
               false,
               false,
               false,
               false,
               false,
               false,
               false,
               false,
               false,
               false,
               false,
               false,
               false,
               false,
               false,
               false,
               false,
               false,
               true,
               true,
               true,
               true,
               true,
               false,
               false,
               false,
               false,
               false,
               false,
               false,
               false,
               false,
               false
              ]
             }
            ],
            "label": "ID: 155",
            "method": "restyle"
           },
           {
            "args": [
             {
              "visible": [
               false,
               false,
               false,
               false,
               false,
               false,
               false,
               false,
               false,
               false,
               false,
               false,
               false,
               false,
               false,
               false,
               false,
               false,
               false,
               false,
               false,
               false,
               false,
               false,
               false,
               false,
               false,
               false,
               false,
               false,
               true,
               true,
               true,
               true,
               true,
               false,
               false,
               false,
               false,
               false
              ]
             }
            ],
            "label": "ID: 169",
            "method": "restyle"
           },
           {
            "args": [
             {
              "visible": [
               false,
               false,
               false,
               false,
               false,
               false,
               false,
               false,
               false,
               false,
               false,
               false,
               false,
               false,
               false,
               false,
               false,
               false,
               false,
               false,
               false,
               false,
               false,
               false,
               false,
               false,
               false,
               false,
               false,
               false,
               false,
               false,
               false,
               false,
               false,
               true,
               true,
               true,
               true,
               true
              ]
             }
            ],
            "label": "ID: 170",
            "method": "restyle"
           }
          ],
          "direction": "right",
          "pad": {
           "r": 0,
           "t": -10
          },
          "showactive": true,
          "type": "buttons",
          "x": 0,
          "xanchor": "left",
          "y": 1.1,
          "yanchor": "top"
         }
        ]
       }
      }
     },
     "metadata": {}
    }
   ],
   "source": [
    "#\n",
    "# Visualisation of the spread of optimised model parameters for multiple runs from different initial points.\n",
    "#\n",
    "# This cell needs the above optimised parameters, and their respective objective function scores, as well as the data\n",
    "# [mouse_params_shared_const_noise, scores_shared_const_noise, data]\n",
    "#\n",
    "\n",
    "import plotly.colors\n",
    "import plotly.graph_objects as go\n",
    "\n",
    "\n",
    "# Get mouse ids\n",
    "mouse_ids = data['#ID'].unique()\n",
    "\n",
    "# Get number of parameters + score (for visualisation)\n",
    "n_params = mouse_params_shared_const_noise.shape[2] + 1\n",
    "\n",
    "# Define colorscheme\n",
    "colors = plotly.colors.qualitative.Plotly[:n_params]\n",
    "\n",
    "# Get optimised parameters\n",
    "optimised_parameters = mouse_params_shared_const_noise\n",
    "\n",
    "# Get optimised parameters\n",
    "scores = scores_shared_const_noise\n",
    "\n",
    "# Create figure\n",
    "fig = go.Figure()\n",
    "\n",
    "# Box plot of optimised model parameters\n",
    "for index, id_m in enumerate(mouse_ids):\n",
    "    # Get optimised parameters\n",
    "    parameters = optimised_parameters[index, ...]\n",
    "\n",
    "    # Get scores\n",
    "    score = scores\n",
    "\n",
    "    # Create box plot of for initial tumour volume\n",
    "    fig.add_trace(\n",
    "        go.Box(\n",
    "            y=parameters[:, 0],  \n",
    "            name=\"Initial tumour volume in cm^3\",\n",
    "            boxpoints='all',\n",
    "            jitter=0.2,\n",
    "            pointpos=-1.5,\n",
    "            visible=True if index == 0 else False,\n",
    "            marker=dict(\n",
    "                symbol='circle',\n",
    "                opacity=0.7,\n",
    "                line=dict(color='black', width=1)),\n",
    "            marker_color=colors[0],\n",
    "            line_color=colors[0]))\n",
    "\n",
    "    # Create box plot for critical volume\n",
    "    fig.add_trace(\n",
    "        go.Box(\n",
    "            y=parameters[:, 1],  \n",
    "            name=\"Critical volume in cm^3\",\n",
    "            boxpoints='all',\n",
    "            jitter=0.2,\n",
    "            pointpos=-1.5,\n",
    "            visible=True if index == 0 else False,\n",
    "            marker=dict(\n",
    "                symbol='circle',\n",
    "                opacity=0.7,\n",
    "                line=dict(color='black', width=1)),\n",
    "            marker_color=colors[1],\n",
    "            line_color=colors[1]))\n",
    "\n",
    "    # Create box plot of for exponential tumour growth\n",
    "    fig.add_trace(\n",
    "        go.Box(\n",
    "            y=parameters[:, 2],  \n",
    "            name=\"Exponential growth rate in 1/day\",\n",
    "            boxpoints='all',\n",
    "            jitter=0.2,\n",
    "            pointpos=-1.5,\n",
    "            visible=True if index == 0 else False,\n",
    "            marker=dict(\n",
    "                symbol='circle',\n",
    "                opacity=0.7,\n",
    "                line=dict(color='black', width=1)),\n",
    "            marker_color=colors[2],\n",
    "            line_color=colors[2]))\n",
    "\n",
    "    # Create box plot for sigma\n",
    "    fig.add_trace(\n",
    "        go.Box(\n",
    "            y=parameters[:, 3],  \n",
    "            name=\"Standard deviation in cm^3\",\n",
    "            boxpoints='all',\n",
    "            jitter=0.2,\n",
    "            pointpos=-1.5,\n",
    "            visible=True if index == 0 else False,\n",
    "            marker=dict(\n",
    "                symbol='circle',\n",
    "                opacity=0.7,\n",
    "                line=dict(color='black', width=1)),\n",
    "            marker_color=colors[3],\n",
    "            line_color=colors[3]))\n",
    "    \n",
    "    # Create box plot of for objective function score\n",
    "    fig.add_trace(\n",
    "        go.Box(\n",
    "            y=score,  \n",
    "            name=\"Score\",\n",
    "            boxpoints='all',\n",
    "            jitter=0.2,\n",
    "            pointpos=-1.5,\n",
    "            visible=True if index == 0 else False,\n",
    "            marker=dict(\n",
    "                symbol='circle',\n",
    "                opacity=0.7,\n",
    "                line=dict(color='black', width=1)),\n",
    "            marker_color=colors[4],\n",
    "            line_color=colors[4]))\n",
    "\n",
    "# Set figure size\n",
    "fig.update_layout(\n",
    "    autosize=True,\n",
    "    template=\"plotly_white\")\n",
    "\n",
    "# Add switch between mice\n",
    "fig.update_layout(\n",
    "    updatemenus=[\n",
    "        dict(\n",
    "            type = \"buttons\",\n",
    "            direction = \"right\",\n",
    "            buttons=list([\n",
    "                dict(\n",
    "                    args=[{\"visible\": [True]*5 + [False]*(5 * 7)}],\n",
    "                    label=\"ID: %d\" % mouse_ids[0],\n",
    "                    method=\"restyle\"\n",
    "                ),\n",
    "                dict(\n",
    "                    args=[{\"visible\": [False]*5 + [True]*5 + [False]*(5 * 6)}],\n",
    "                    label=\"ID: %d\" % mouse_ids[1],\n",
    "                    method=\"restyle\"\n",
    "                ),\n",
    "                dict(\n",
    "                    args=[{\"visible\": [False]*(5 * 2) + [True]*5 + [False]*(5 * 5)}],\n",
    "                    label=\"ID: %d\" % mouse_ids[2],\n",
    "                    method=\"restyle\"\n",
    "                ),\n",
    "                dict(\n",
    "                    args=[{\"visible\": [False]*(5 * 3) + [True]*5 + [False]*(5 * 4)}],\n",
    "                    label=\"ID: %d\" % mouse_ids[3],\n",
    "                    method=\"restyle\"\n",
    "                ),\n",
    "                dict(\n",
    "                    args=[{\"visible\": [False]*(5 * 4) + [True]*5 + [False]*(5 * 3)}],\n",
    "                    label=\"ID: %d\" % mouse_ids[4],\n",
    "                    method=\"restyle\"\n",
    "                ),\n",
    "                dict(\n",
    "                    args=[{\"visible\": [False]*(5 * 5) + [True]*5 + [False]*(5 * 2)}],\n",
    "                    label=\"ID: %d\" % mouse_ids[5],\n",
    "                    method=\"restyle\"\n",
    "                ),\n",
    "                dict(\n",
    "                    args=[{\"visible\": [False]*(5 * 6) + [True]*5 + [False]* 5}],\n",
    "                    label=\"ID: %d\" % mouse_ids[6],\n",
    "                    method=\"restyle\"\n",
    "                ),\n",
    "                dict(\n",
    "                    args=[{\"visible\": [False]*(5 * 7) + [True]*5}],\n",
    "                    label=\"ID: %d\" % mouse_ids[7],\n",
    "                    method=\"restyle\"\n",
    "                )\n",
    "            ]),\n",
    "            pad={\"r\": 0, \"t\": -10},\n",
    "            showactive=True,\n",
    "            x=0.0,\n",
    "            xanchor=\"left\",\n",
    "            y=1.1,\n",
    "            yanchor=\"top\"\n",
    "        )\n",
    "    ]\n",
    ")\n",
    "\n",
    "# Position legend\n",
    "fig.update_layout(legend=dict(\n",
    "    yanchor=\"bottom\",\n",
    "    y=0.01,\n",
    "    xanchor=\"left\",\n",
    "    x=1.05))\n",
    "\n",
    "# Show figure\n",
    "fig.show()\n"
   ]
  },
  {
   "cell_type": "code",
   "execution_count": 5,
   "metadata": {},
   "outputs": [
    {
     "output_type": "execute_result",
     "data": {
      "text/plain": "array([ 3,  6,  9, 12, 15, 18, 21, 24])"
     },
     "metadata": {},
     "execution_count": 5
    }
   ],
   "source": [
    "log_likelihood._cum_n_problem_params"
   ]
  },
  {
   "cell_type": "markdown",
   "metadata": {},
   "source": [
    "## Heteroscedastic noise model\n",
    "\n",
    "Explanation\n",
    "\n",
    "- Identifiability"
   ]
  },
  {
   "cell_type": "code",
   "execution_count": null,
   "metadata": {},
   "outputs": [],
   "source": []
  },
  {
   "cell_type": "markdown",
   "metadata": {},
   "source": [
    "## Linear heteroscedastic noise model\n",
    "\n",
    "Explanation\n",
    "\n",
    "- Identifiability"
   ]
  },
  {
   "cell_type": "code",
   "execution_count": null,
   "metadata": {},
   "outputs": [],
   "source": []
  },
  {
   "cell_type": "markdown",
   "metadata": {},
   "source": [
    "## Bibliography\n",
    "\n",
    "- <a name=\"ref1\"> [1] </a> Eigenmann et. al., Combining Nonclinical Experiments with Translational PKPD Modeling to Differentiate Erlotinib and Gefitinib, Mol Cancer Ther (2016)"
   ]
  },
  {
   "cell_type": "markdown",
   "metadata": {},
   "source": [
    "## Notebook references\n",
    "\n",
    "- <a name=\"ref1\"> [n1] </a> [Identifiability of the Structural Model for Lung Cancer Growth in Absence of Treatment](https://nbviewer.jupyter.org/github/DavAug/ErlotinibGefitinib/blob/master/notebooks/lung_cancer/control_growth/identifiability_structural_model.ipynb)"
   ]
  },
  {
   "cell_type": "markdown",
   "metadata": {},
   "source": [
    "[Back to project overview](https://github.com/DavAug/ErlotinibGefitinib/blob/master/README.md) | [Back to lung cancer control growth overview](https://nbviewer.jupyter.org/github/DavAug/ErlotinibGefitinib/blob/master/notebooks/lung_cancer/control_growth/overview.ipynb) | [Forward to next notebook](https://nbviewer.jupyter.org/github/DavAug/ErlotinibGefitinib/blob/master/notebooks/lung_cancer/control_growth/population_model.ipynb)"
   ]
  }
 ],
 "metadata": {
  "language_info": {
   "codemirror_mode": {
    "name": "ipython",
    "version": 3
   },
   "file_extension": ".py",
   "mimetype": "text/x-python",
   "name": "python",
   "nbconvert_exporter": "python",
   "pygments_lexer": "ipython3",
   "version": "3.7.5-final"
  },
  "orig_nbformat": 2,
  "kernelspec": {
   "name": "python37564bitvenvvenv6a1cf9e436c848d3930f390a42386651",
   "display_name": "Python 3.7.5 64-bit ('venv': venv)"
  }
 },
 "nbformat": 4,
 "nbformat_minor": 2
}