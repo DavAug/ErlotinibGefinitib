{
 "cells": [
  {
   "cell_type": "markdown",
   "metadata": {},
   "source": [
    "# Error Modelling of Structural Growth Model for Lung Cancer in Absence of Treatment"
   ]
  },
  {
   "cell_type": "markdown",
   "metadata": {},
   "source": [
    "The tumour growth inhibitory effects of Erlotinib and Gefitinib were modelled with a population PKPD model in [1]. A population PKPD model is a hierarchical model which consists of a structural model, a population model, and an error model. Each sub-model captures a different aspect of the tumour growth inhibition biology, and is parametrised by a set of parameters.\n",
    "\n",
    "In this notebook we model the error of the structural lung cancer growth model in absence of treatment. We investigate the influence of the different noise model choices on the idenfifiability of the model, and employ visual, as well quantitative predictive checks to select the most promising error model. "
   ]
  },
  {
   "cell_type": "markdown",
   "metadata": {},
   "source": [
    "## Measured Tumour Growth in Absence of Treatment\n",
    "\n",
    "In [1] patient-derived tumour explants LXF A677 (adenocarcinoma of the lung) were implanted in mice. The tumour growth was monitored over a period of 30 days, see the [Control Growth Data notebook](https://nbviewer.jupyter.org/github/DavAug/ErlotinibGefitinib/blob/master/notebooks/lung_cancer/control_growth/data_preparation.ipynb) for details."
   ]
  },
  {
   "cell_type": "code",
   "execution_count": 2,
   "metadata": {},
   "outputs": [
    {
     "output_type": "display_data",
     "data": {
      "application/vnd.plotly.v1+json": {
       "config": {
        "plotlyServerURL": "https://plot.ly"
       },
       "data": [
        {
         "hovertemplate": "<b>ID: 40</b><br>Time: %{x:} day<br>Tumour volume: %{y:.02f} cm^3<br>Body weight: %{text}<br>Cancer type: Lung cancer (LXF A677)<br><extra></extra>",
         "marker": {
          "color": "#636EFA",
          "line": {
           "color": "black",
           "width": 1
          },
          "opacity": 0.7,
          "symbol": "circle"
         },
         "mode": "markers",
         "name": "ID: 40",
         "showlegend": true,
         "text": [
          "26.8 g",
          "26.1 g",
          "26.5 g",
          "26.5 g",
          "27.1 g",
          "26.0 g",
          "26.4 g",
          "26.0 g",
          "25.4 g",
          "26.2 g"
         ],
         "type": "scatter",
         "x": [
          0,
          2,
          4,
          7,
          9,
          11,
          14,
          16,
          18,
          21
         ],
         "y": [
          0.191808,
          0.249158,
          0.330672,
          0.6683669999999999,
          0.915008,
          1.119258,
          1.470432,
          1.6692479999999998,
          1.7521919999999997,
          2.276736
         ]
        },
        {
         "hovertemplate": "<b>ID: 40</b><br>Time: %{x:} day<br>Tumour volume: %{y:.02f} cm^3<br>Body weight: %{text}<br>Cancer type: Lung cancer (LXF A677)<br><extra></extra>",
         "marker": {
          "color": "#636EFA",
          "line": {
           "color": "black",
           "width": 1
          },
          "opacity": 0.7,
          "symbol": "circle"
         },
         "mode": "markers",
         "name": "ID: 40",
         "showlegend": true,
         "text": [
          "26.8 g",
          "26.1 g",
          "26.5 g",
          "26.5 g",
          "27.1 g",
          "26.0 g",
          "26.4 g",
          "26.0 g",
          "25.4 g",
          "26.2 g"
         ],
         "type": "scatter",
         "visible": false,
         "x": [
          0,
          2,
          4,
          7,
          9,
          11,
          14,
          16,
          18,
          21
         ],
         "y": [
          26.8,
          26.1,
          26.5,
          26.5,
          27.1,
          26,
          26.4,
          26,
          25.4,
          26.2
         ]
        },
        {
         "hovertemplate": "<b>ID: 94</b><br>Time: %{x:} day<br>Tumour volume: %{y:.02f} cm^3<br>Body weight: %{text}<br>Cancer type: Lung cancer (LXF A677)<br><extra></extra>",
         "marker": {
          "color": "#EF553B",
          "line": {
           "color": "black",
           "width": 1
          },
          "opacity": 0.7,
          "symbol": "circle"
         },
         "mode": "markers",
         "name": "ID: 94",
         "showlegend": true,
         "text": [
          "18.3 g",
          "18.2 g",
          "18.5 g",
          "18.3 g",
          "18.7 g",
          "17.9 g",
          "18.4 g",
          "18.2 g",
          "18.7 g",
          "20.0 g",
          "20.2 g",
          "20.3 g",
          "20.0 g",
          "19.2 g"
         ],
         "type": "scatter",
         "x": [
          0,
          2,
          4,
          7,
          9,
          11,
          14,
          16,
          18,
          21,
          23,
          25,
          28,
          30
         ],
         "y": [
          0.07724750000000001,
          0.0884835,
          0.125316,
          0.165528,
          0.189486,
          0.264654,
          0.264654,
          0.306936,
          0.389207,
          0.389207,
          0.405769,
          0.4264715,
          0.5551309999999999,
          0.57624
         ]
        },
        {
         "hovertemplate": "<b>ID: 94</b><br>Time: %{x:} day<br>Tumour volume: %{y:.02f} cm^3<br>Body weight: %{text}<br>Cancer type: Lung cancer (LXF A677)<br><extra></extra>",
         "marker": {
          "color": "#EF553B",
          "line": {
           "color": "black",
           "width": 1
          },
          "opacity": 0.7,
          "symbol": "circle"
         },
         "mode": "markers",
         "name": "ID: 94",
         "showlegend": true,
         "text": [
          "18.3 g",
          "18.2 g",
          "18.5 g",
          "18.3 g",
          "18.7 g",
          "17.9 g",
          "18.4 g",
          "18.2 g",
          "18.7 g",
          "20.0 g",
          "20.2 g",
          "20.3 g",
          "20.0 g",
          "19.2 g"
         ],
         "type": "scatter",
         "visible": false,
         "x": [
          0,
          2,
          4,
          7,
          9,
          11,
          14,
          16,
          18,
          21,
          23,
          25,
          28,
          30
         ],
         "y": [
          18.3,
          18.2,
          18.5,
          18.3,
          18.7,
          17.9,
          18.4,
          18.2,
          18.7,
          20,
          20.2,
          20.3,
          20,
          19.2
         ]
        },
        {
         "hovertemplate": "<b>ID: 95</b><br>Time: %{x:} day<br>Tumour volume: %{y:.02f} cm^3<br>Body weight: %{text}<br>Cancer type: Lung cancer (LXF A677)<br><extra></extra>",
         "marker": {
          "color": "#00CC96",
          "line": {
           "color": "black",
           "width": 1
          },
          "opacity": 0.7,
          "symbol": "circle"
         },
         "mode": "markers",
         "name": "ID: 95",
         "showlegend": true,
         "text": [
          "22.3 g",
          "23.0 g",
          "22.4 g",
          "23.6 g",
          "24.1 g",
          "22.7 g",
          "23.6 g",
          "23.3 g",
          "23.3 g",
          "23.3 g"
         ],
         "type": "scatter",
         "x": [
          0,
          2,
          4,
          7,
          9,
          11,
          14,
          16,
          18,
          21
         ],
         "y": [
          0.1862,
          0.24641999999999997,
          0.4293,
          0.62426,
          0.7246720000000001,
          0.7300800000000001,
          0.9196,
          1.131184,
          1.675872,
          2.346616
         ]
        },
        {
         "hovertemplate": "<b>ID: 95</b><br>Time: %{x:} day<br>Tumour volume: %{y:.02f} cm^3<br>Body weight: %{text}<br>Cancer type: Lung cancer (LXF A677)<br><extra></extra>",
         "marker": {
          "color": "#00CC96",
          "line": {
           "color": "black",
           "width": 1
          },
          "opacity": 0.7,
          "symbol": "circle"
         },
         "mode": "markers",
         "name": "ID: 95",
         "showlegend": true,
         "text": [
          "22.3 g",
          "23.0 g",
          "22.4 g",
          "23.6 g",
          "24.1 g",
          "22.7 g",
          "23.6 g",
          "23.3 g",
          "23.3 g",
          "23.3 g"
         ],
         "type": "scatter",
         "visible": false,
         "x": [
          0,
          2,
          4,
          7,
          9,
          11,
          14,
          16,
          18,
          21
         ],
         "y": [
          22.3,
          23,
          22.4,
          23.6,
          24.1,
          22.7,
          23.6,
          23.3,
          23.3,
          23.3
         ]
        },
        {
         "hovertemplate": "<b>ID: 136</b><br>Time: %{x:} day<br>Tumour volume: %{y:.02f} cm^3<br>Body weight: %{text}<br>Cancer type: Lung cancer (LXF A677)<br><extra></extra>",
         "marker": {
          "color": "#AB63FA",
          "line": {
           "color": "black",
           "width": 1
          },
          "opacity": 0.7,
          "symbol": "circle"
         },
         "mode": "markers",
         "name": "ID: 136",
         "showlegend": true,
         "text": [
          "25.4 g",
          "26.2 g",
          "28.3 g",
          "28.0 g",
          "25.1 g",
          "22.9 g",
          "24.1 g",
          "23.9 g",
          "23.0 g",
          "24.0 g",
          "23.7 g",
          "24.7 g",
          "24.6 g",
          "24.2 g"
         ],
         "type": "scatter",
         "x": [
          0,
          2,
          4,
          7,
          9,
          11,
          14,
          16,
          18,
          21,
          23,
          25,
          28,
          30
         ],
         "y": [
          0.1185885,
          0.175071,
          0.22999200000000006,
          0.3026885,
          0.3026885,
          0.37044,
          0.5341545,
          0.651688,
          0.7212869999999999,
          0.78732,
          0.8529505000000001,
          1.104558,
          1.1328799999999999,
          1.4593425
         ]
        },
        {
         "hovertemplate": "<b>ID: 136</b><br>Time: %{x:} day<br>Tumour volume: %{y:.02f} cm^3<br>Body weight: %{text}<br>Cancer type: Lung cancer (LXF A677)<br><extra></extra>",
         "marker": {
          "color": "#AB63FA",
          "line": {
           "color": "black",
           "width": 1
          },
          "opacity": 0.7,
          "symbol": "circle"
         },
         "mode": "markers",
         "name": "ID: 136",
         "showlegend": true,
         "text": [
          "25.4 g",
          "26.2 g",
          "28.3 g",
          "28.0 g",
          "25.1 g",
          "22.9 g",
          "24.1 g",
          "23.9 g",
          "23.0 g",
          "24.0 g",
          "23.7 g",
          "24.7 g",
          "24.6 g",
          "24.2 g"
         ],
         "type": "scatter",
         "visible": false,
         "x": [
          0,
          2,
          4,
          7,
          9,
          11,
          14,
          16,
          18,
          21,
          23,
          25,
          28,
          30
         ],
         "y": [
          25.4,
          26.2,
          28.3,
          28,
          25.1,
          22.9,
          24.1,
          23.9,
          23,
          24,
          23.7,
          24.7,
          24.6,
          24.2
         ]
        },
        {
         "hovertemplate": "<b>ID: 140</b><br>Time: %{x:} day<br>Tumour volume: %{y:.02f} cm^3<br>Body weight: %{text}<br>Cancer type: Lung cancer (LXF A677)<br><extra></extra>",
         "marker": {
          "color": "#FFA15A",
          "line": {
           "color": "black",
           "width": 1
          },
          "opacity": 0.7,
          "symbol": "circle"
         },
         "mode": "markers",
         "name": "ID: 140",
         "showlegend": true,
         "text": [
          "22.7 g",
          "23.6 g",
          "23.6 g",
          "24.4 g",
          "25.0 g",
          "23.5 g",
          "24.8 g",
          "24.3 g",
          "23.8 g",
          "23.3 g",
          "23.7 g",
          "24.8 g",
          "24.7 g",
          "24.1 g"
         ],
         "type": "scatter",
         "x": [
          0,
          2,
          4,
          7,
          9,
          11,
          14,
          16,
          18,
          21,
          23,
          25,
          28,
          30
         ],
         "y": [
          0.0793305,
          0.12685200000000002,
          0.146072,
          0.261121,
          0.34574400000000005,
          0.3552,
          0.41905,
          0.48029799999999995,
          0.556668,
          0.8089919999999999,
          0.8573040000000001,
          1.097675,
          1.992144,
          2.1225820000000004
         ]
        },
        {
         "hovertemplate": "<b>ID: 140</b><br>Time: %{x:} day<br>Tumour volume: %{y:.02f} cm^3<br>Body weight: %{text}<br>Cancer type: Lung cancer (LXF A677)<br><extra></extra>",
         "marker": {
          "color": "#FFA15A",
          "line": {
           "color": "black",
           "width": 1
          },
          "opacity": 0.7,
          "symbol": "circle"
         },
         "mode": "markers",
         "name": "ID: 140",
         "showlegend": true,
         "text": [
          "22.7 g",
          "23.6 g",
          "23.6 g",
          "24.4 g",
          "25.0 g",
          "23.5 g",
          "24.8 g",
          "24.3 g",
          "23.8 g",
          "23.3 g",
          "23.7 g",
          "24.8 g",
          "24.7 g",
          "24.1 g"
         ],
         "type": "scatter",
         "visible": false,
         "x": [
          0,
          2,
          4,
          7,
          9,
          11,
          14,
          16,
          18,
          21,
          23,
          25,
          28,
          30
         ],
         "y": [
          22.7,
          23.6,
          23.6,
          24.4,
          25,
          23.5,
          24.8,
          24.3,
          23.8,
          23.3,
          23.7,
          24.8,
          24.7,
          24.1
         ]
        },
        {
         "hovertemplate": "<b>ID: 155</b><br>Time: %{x:} day<br>Tumour volume: %{y:.02f} cm^3<br>Body weight: %{text}<br>Cancer type: Lung cancer (LXF A677)<br><extra></extra>",
         "marker": {
          "color": "#19D3F3",
          "line": {
           "color": "black",
           "width": 1
          },
          "opacity": 0.7,
          "symbol": "circle"
         },
         "mode": "markers",
         "name": "ID: 155",
         "showlegend": true,
         "text": [
          "26.0 g",
          "27.3 g",
          "27.5 g",
          "28.2 g",
          "28.7 g",
          "27.9 g",
          "28.6 g",
          "29.0 g",
          "28.0 g",
          "28.9 g",
          "28.5 g",
          "29.6 g"
         ],
         "type": "scatter",
         "x": [
          0,
          2,
          4,
          7,
          9,
          11,
          14,
          16,
          18,
          21,
          23,
          25
         ],
         "y": [
          0.105875,
          0.167706,
          0.35632800000000003,
          0.6489600000000001,
          0.692224,
          0.7300800000000001,
          0.81648,
          1.4949540000000001,
          1.5166985,
          1.72405,
          1.637784,
          2.25108
         ]
        },
        {
         "hovertemplate": "<b>ID: 155</b><br>Time: %{x:} day<br>Tumour volume: %{y:.02f} cm^3<br>Body weight: %{text}<br>Cancer type: Lung cancer (LXF A677)<br><extra></extra>",
         "marker": {
          "color": "#19D3F3",
          "line": {
           "color": "black",
           "width": 1
          },
          "opacity": 0.7,
          "symbol": "circle"
         },
         "mode": "markers",
         "name": "ID: 155",
         "showlegend": true,
         "text": [
          "26.0 g",
          "27.3 g",
          "27.5 g",
          "28.2 g",
          "28.7 g",
          "27.9 g",
          "28.6 g",
          "29.0 g",
          "28.0 g",
          "28.9 g",
          "28.5 g",
          "29.6 g"
         ],
         "type": "scatter",
         "visible": false,
         "x": [
          0,
          2,
          4,
          7,
          9,
          11,
          14,
          16,
          18,
          21,
          23,
          25
         ],
         "y": [
          26,
          27.3,
          27.5,
          28.2,
          28.7,
          27.9,
          28.6,
          29,
          28,
          28.9,
          28.5,
          29.6
         ]
        },
        {
         "hovertemplate": "<b>ID: 169</b><br>Time: %{x:} day<br>Tumour volume: %{y:.02f} cm^3<br>Body weight: %{text}<br>Cancer type: Lung cancer (LXF A677)<br><extra></extra>",
         "marker": {
          "color": "#FF6692",
          "line": {
           "color": "black",
           "width": 1
          },
          "opacity": 0.7,
          "symbol": "circle"
         },
         "mode": "markers",
         "name": "ID: 169",
         "showlegend": true,
         "text": [
          "26.9 g",
          "26.8 g",
          "26.2 g",
          "26.2 g",
          "27.3 g",
          "26.6 g",
          "28.0 g",
          "27.6 g",
          "26.6 g",
          "27.9 g",
          "27.4 g",
          "28.6 g",
          "27.5 g",
          "28.0 g"
         ],
         "type": "scatter",
         "x": [
          0,
          2,
          4,
          7,
          9,
          11,
          14,
          16,
          18,
          21,
          23,
          25,
          28,
          30
         ],
         "y": [
          0.123008,
          0.128774,
          0.1764,
          0.20516650000000006,
          0.24605349999999998,
          0.2788425,
          0.333036,
          0.35644499999999996,
          0.39285,
          0.479859,
          0.5390550000000001,
          0.6354195,
          0.7146180000000001,
          0.7469865
         ]
        },
        {
         "hovertemplate": "<b>ID: 169</b><br>Time: %{x:} day<br>Tumour volume: %{y:.02f} cm^3<br>Body weight: %{text}<br>Cancer type: Lung cancer (LXF A677)<br><extra></extra>",
         "marker": {
          "color": "#FF6692",
          "line": {
           "color": "black",
           "width": 1
          },
          "opacity": 0.7,
          "symbol": "circle"
         },
         "mode": "markers",
         "name": "ID: 169",
         "showlegend": true,
         "text": [
          "26.9 g",
          "26.8 g",
          "26.2 g",
          "26.2 g",
          "27.3 g",
          "26.6 g",
          "28.0 g",
          "27.6 g",
          "26.6 g",
          "27.9 g",
          "27.4 g",
          "28.6 g",
          "27.5 g",
          "28.0 g"
         ],
         "type": "scatter",
         "visible": false,
         "x": [
          0,
          2,
          4,
          7,
          9,
          11,
          14,
          16,
          18,
          21,
          23,
          25,
          28,
          30
         ],
         "y": [
          26.9,
          26.8,
          26.2,
          26.2,
          27.3,
          26.6,
          28,
          27.6,
          26.6,
          27.9,
          27.4,
          28.6,
          27.5,
          28
         ]
        },
        {
         "hovertemplate": "<b>ID: 170</b><br>Time: %{x:} day<br>Tumour volume: %{y:.02f} cm^3<br>Body weight: %{text}<br>Cancer type: Lung cancer (LXF A677)<br><extra></extra>",
         "marker": {
          "color": "#B6E880",
          "line": {
           "color": "black",
           "width": 1
          },
          "opacity": 0.7,
          "symbol": "circle"
         },
         "mode": "markers",
         "name": "ID: 170",
         "showlegend": true,
         "text": [
          "28.3 g",
          "27.7 g",
          "27.9 g",
          "28.8 g",
          "29.3 g",
          "28.6 g",
          "29.5 g",
          "28.9 g",
          "26.8 g",
          "28.7 g",
          "27.3 g",
          "28.7 g",
          "28.5 g",
          "27.5 g"
         ],
         "type": "scatter",
         "x": [
          0,
          2,
          4,
          7,
          9,
          11,
          14,
          16,
          18,
          21,
          23,
          25,
          28,
          30
         ],
         "y": [
          0.0800565,
          0.094221,
          0.10933,
          0.158994,
          0.17615699999999998,
          0.19407850000000001,
          0.2041605,
          0.246402,
          0.3050865,
          0.3683265,
          0.41817600000000005,
          0.4396155,
          0.5661554999999999,
          0.6206265000000001
         ]
        },
        {
         "hovertemplate": "<b>ID: 170</b><br>Time: %{x:} day<br>Tumour volume: %{y:.02f} cm^3<br>Body weight: %{text}<br>Cancer type: Lung cancer (LXF A677)<br><extra></extra>",
         "marker": {
          "color": "#B6E880",
          "line": {
           "color": "black",
           "width": 1
          },
          "opacity": 0.7,
          "symbol": "circle"
         },
         "mode": "markers",
         "name": "ID: 170",
         "showlegend": true,
         "text": [
          "28.3 g",
          "27.7 g",
          "27.9 g",
          "28.8 g",
          "29.3 g",
          "28.6 g",
          "29.5 g",
          "28.9 g",
          "26.8 g",
          "28.7 g",
          "27.3 g",
          "28.7 g",
          "28.5 g",
          "27.5 g"
         ],
         "type": "scatter",
         "visible": false,
         "x": [
          0,
          2,
          4,
          7,
          9,
          11,
          14,
          16,
          18,
          21,
          23,
          25,
          28,
          30
         ],
         "y": [
          28.3,
          27.7,
          27.9,
          28.8,
          29.3,
          28.6,
          29.5,
          28.9,
          26.8,
          28.7,
          27.3,
          28.7,
          28.5,
          27.5
         ]
        }
       ],
       "layout": {
        "autosize": true,
        "legend": {
         "x": 1.05,
         "xanchor": "left",
         "y": 0.01,
         "yanchor": "bottom"
        },
        "template": {
         "data": {
          "bar": [
           {
            "error_x": {
             "color": "#2a3f5f"
            },
            "error_y": {
             "color": "#2a3f5f"
            },
            "marker": {
             "line": {
              "color": "white",
              "width": 0.5
             }
            },
            "type": "bar"
           }
          ],
          "barpolar": [
           {
            "marker": {
             "line": {
              "color": "white",
              "width": 0.5
             }
            },
            "type": "barpolar"
           }
          ],
          "carpet": [
           {
            "aaxis": {
             "endlinecolor": "#2a3f5f",
             "gridcolor": "#C8D4E3",
             "linecolor": "#C8D4E3",
             "minorgridcolor": "#C8D4E3",
             "startlinecolor": "#2a3f5f"
            },
            "baxis": {
             "endlinecolor": "#2a3f5f",
             "gridcolor": "#C8D4E3",
             "linecolor": "#C8D4E3",
             "minorgridcolor": "#C8D4E3",
             "startlinecolor": "#2a3f5f"
            },
            "type": "carpet"
           }
          ],
          "choropleth": [
           {
            "colorbar": {
             "outlinewidth": 0,
             "ticks": ""
            },
            "type": "choropleth"
           }
          ],
          "contour": [
           {
            "colorbar": {
             "outlinewidth": 0,
             "ticks": ""
            },
            "colorscale": [
             [
              0,
              "#0d0887"
             ],
             [
              0.1111111111111111,
              "#46039f"
             ],
             [
              0.2222222222222222,
              "#7201a8"
             ],
             [
              0.3333333333333333,
              "#9c179e"
             ],
             [
              0.4444444444444444,
              "#bd3786"
             ],
             [
              0.5555555555555556,
              "#d8576b"
             ],
             [
              0.6666666666666666,
              "#ed7953"
             ],
             [
              0.7777777777777778,
              "#fb9f3a"
             ],
             [
              0.8888888888888888,
              "#fdca26"
             ],
             [
              1,
              "#f0f921"
             ]
            ],
            "type": "contour"
           }
          ],
          "contourcarpet": [
           {
            "colorbar": {
             "outlinewidth": 0,
             "ticks": ""
            },
            "type": "contourcarpet"
           }
          ],
          "heatmap": [
           {
            "colorbar": {
             "outlinewidth": 0,
             "ticks": ""
            },
            "colorscale": [
             [
              0,
              "#0d0887"
             ],
             [
              0.1111111111111111,
              "#46039f"
             ],
             [
              0.2222222222222222,
              "#7201a8"
             ],
             [
              0.3333333333333333,
              "#9c179e"
             ],
             [
              0.4444444444444444,
              "#bd3786"
             ],
             [
              0.5555555555555556,
              "#d8576b"
             ],
             [
              0.6666666666666666,
              "#ed7953"
             ],
             [
              0.7777777777777778,
              "#fb9f3a"
             ],
             [
              0.8888888888888888,
              "#fdca26"
             ],
             [
              1,
              "#f0f921"
             ]
            ],
            "type": "heatmap"
           }
          ],
          "heatmapgl": [
           {
            "colorbar": {
             "outlinewidth": 0,
             "ticks": ""
            },
            "colorscale": [
             [
              0,
              "#0d0887"
             ],
             [
              0.1111111111111111,
              "#46039f"
             ],
             [
              0.2222222222222222,
              "#7201a8"
             ],
             [
              0.3333333333333333,
              "#9c179e"
             ],
             [
              0.4444444444444444,
              "#bd3786"
             ],
             [
              0.5555555555555556,
              "#d8576b"
             ],
             [
              0.6666666666666666,
              "#ed7953"
             ],
             [
              0.7777777777777778,
              "#fb9f3a"
             ],
             [
              0.8888888888888888,
              "#fdca26"
             ],
             [
              1,
              "#f0f921"
             ]
            ],
            "type": "heatmapgl"
           }
          ],
          "histogram": [
           {
            "marker": {
             "colorbar": {
              "outlinewidth": 0,
              "ticks": ""
             }
            },
            "type": "histogram"
           }
          ],
          "histogram2d": [
           {
            "colorbar": {
             "outlinewidth": 0,
             "ticks": ""
            },
            "colorscale": [
             [
              0,
              "#0d0887"
             ],
             [
              0.1111111111111111,
              "#46039f"
             ],
             [
              0.2222222222222222,
              "#7201a8"
             ],
             [
              0.3333333333333333,
              "#9c179e"
             ],
             [
              0.4444444444444444,
              "#bd3786"
             ],
             [
              0.5555555555555556,
              "#d8576b"
             ],
             [
              0.6666666666666666,
              "#ed7953"
             ],
             [
              0.7777777777777778,
              "#fb9f3a"
             ],
             [
              0.8888888888888888,
              "#fdca26"
             ],
             [
              1,
              "#f0f921"
             ]
            ],
            "type": "histogram2d"
           }
          ],
          "histogram2dcontour": [
           {
            "colorbar": {
             "outlinewidth": 0,
             "ticks": ""
            },
            "colorscale": [
             [
              0,
              "#0d0887"
             ],
             [
              0.1111111111111111,
              "#46039f"
             ],
             [
              0.2222222222222222,
              "#7201a8"
             ],
             [
              0.3333333333333333,
              "#9c179e"
             ],
             [
              0.4444444444444444,
              "#bd3786"
             ],
             [
              0.5555555555555556,
              "#d8576b"
             ],
             [
              0.6666666666666666,
              "#ed7953"
             ],
             [
              0.7777777777777778,
              "#fb9f3a"
             ],
             [
              0.8888888888888888,
              "#fdca26"
             ],
             [
              1,
              "#f0f921"
             ]
            ],
            "type": "histogram2dcontour"
           }
          ],
          "mesh3d": [
           {
            "colorbar": {
             "outlinewidth": 0,
             "ticks": ""
            },
            "type": "mesh3d"
           }
          ],
          "parcoords": [
           {
            "line": {
             "colorbar": {
              "outlinewidth": 0,
              "ticks": ""
             }
            },
            "type": "parcoords"
           }
          ],
          "pie": [
           {
            "automargin": true,
            "type": "pie"
           }
          ],
          "scatter": [
           {
            "marker": {
             "colorbar": {
              "outlinewidth": 0,
              "ticks": ""
             }
            },
            "type": "scatter"
           }
          ],
          "scatter3d": [
           {
            "line": {
             "colorbar": {
              "outlinewidth": 0,
              "ticks": ""
             }
            },
            "marker": {
             "colorbar": {
              "outlinewidth": 0,
              "ticks": ""
             }
            },
            "type": "scatter3d"
           }
          ],
          "scattercarpet": [
           {
            "marker": {
             "colorbar": {
              "outlinewidth": 0,
              "ticks": ""
             }
            },
            "type": "scattercarpet"
           }
          ],
          "scattergeo": [
           {
            "marker": {
             "colorbar": {
              "outlinewidth": 0,
              "ticks": ""
             }
            },
            "type": "scattergeo"
           }
          ],
          "scattergl": [
           {
            "marker": {
             "colorbar": {
              "outlinewidth": 0,
              "ticks": ""
             }
            },
            "type": "scattergl"
           }
          ],
          "scattermapbox": [
           {
            "marker": {
             "colorbar": {
              "outlinewidth": 0,
              "ticks": ""
             }
            },
            "type": "scattermapbox"
           }
          ],
          "scatterpolar": [
           {
            "marker": {
             "colorbar": {
              "outlinewidth": 0,
              "ticks": ""
             }
            },
            "type": "scatterpolar"
           }
          ],
          "scatterpolargl": [
           {
            "marker": {
             "colorbar": {
              "outlinewidth": 0,
              "ticks": ""
             }
            },
            "type": "scatterpolargl"
           }
          ],
          "scatterternary": [
           {
            "marker": {
             "colorbar": {
              "outlinewidth": 0,
              "ticks": ""
             }
            },
            "type": "scatterternary"
           }
          ],
          "surface": [
           {
            "colorbar": {
             "outlinewidth": 0,
             "ticks": ""
            },
            "colorscale": [
             [
              0,
              "#0d0887"
             ],
             [
              0.1111111111111111,
              "#46039f"
             ],
             [
              0.2222222222222222,
              "#7201a8"
             ],
             [
              0.3333333333333333,
              "#9c179e"
             ],
             [
              0.4444444444444444,
              "#bd3786"
             ],
             [
              0.5555555555555556,
              "#d8576b"
             ],
             [
              0.6666666666666666,
              "#ed7953"
             ],
             [
              0.7777777777777778,
              "#fb9f3a"
             ],
             [
              0.8888888888888888,
              "#fdca26"
             ],
             [
              1,
              "#f0f921"
             ]
            ],
            "type": "surface"
           }
          ],
          "table": [
           {
            "cells": {
             "fill": {
              "color": "#EBF0F8"
             },
             "line": {
              "color": "white"
             }
            },
            "header": {
             "fill": {
              "color": "#C8D4E3"
             },
             "line": {
              "color": "white"
             }
            },
            "type": "table"
           }
          ]
         },
         "layout": {
          "annotationdefaults": {
           "arrowcolor": "#2a3f5f",
           "arrowhead": 0,
           "arrowwidth": 1
          },
          "coloraxis": {
           "colorbar": {
            "outlinewidth": 0,
            "ticks": ""
           }
          },
          "colorscale": {
           "diverging": [
            [
             0,
             "#8e0152"
            ],
            [
             0.1,
             "#c51b7d"
            ],
            [
             0.2,
             "#de77ae"
            ],
            [
             0.3,
             "#f1b6da"
            ],
            [
             0.4,
             "#fde0ef"
            ],
            [
             0.5,
             "#f7f7f7"
            ],
            [
             0.6,
             "#e6f5d0"
            ],
            [
             0.7,
             "#b8e186"
            ],
            [
             0.8,
             "#7fbc41"
            ],
            [
             0.9,
             "#4d9221"
            ],
            [
             1,
             "#276419"
            ]
           ],
           "sequential": [
            [
             0,
             "#0d0887"
            ],
            [
             0.1111111111111111,
             "#46039f"
            ],
            [
             0.2222222222222222,
             "#7201a8"
            ],
            [
             0.3333333333333333,
             "#9c179e"
            ],
            [
             0.4444444444444444,
             "#bd3786"
            ],
            [
             0.5555555555555556,
             "#d8576b"
            ],
            [
             0.6666666666666666,
             "#ed7953"
            ],
            [
             0.7777777777777778,
             "#fb9f3a"
            ],
            [
             0.8888888888888888,
             "#fdca26"
            ],
            [
             1,
             "#f0f921"
            ]
           ],
           "sequentialminus": [
            [
             0,
             "#0d0887"
            ],
            [
             0.1111111111111111,
             "#46039f"
            ],
            [
             0.2222222222222222,
             "#7201a8"
            ],
            [
             0.3333333333333333,
             "#9c179e"
            ],
            [
             0.4444444444444444,
             "#bd3786"
            ],
            [
             0.5555555555555556,
             "#d8576b"
            ],
            [
             0.6666666666666666,
             "#ed7953"
            ],
            [
             0.7777777777777778,
             "#fb9f3a"
            ],
            [
             0.8888888888888888,
             "#fdca26"
            ],
            [
             1,
             "#f0f921"
            ]
           ]
          },
          "colorway": [
           "#636efa",
           "#EF553B",
           "#00cc96",
           "#ab63fa",
           "#FFA15A",
           "#19d3f3",
           "#FF6692",
           "#B6E880",
           "#FF97FF",
           "#FECB52"
          ],
          "font": {
           "color": "#2a3f5f"
          },
          "geo": {
           "bgcolor": "white",
           "lakecolor": "white",
           "landcolor": "white",
           "showlakes": true,
           "showland": true,
           "subunitcolor": "#C8D4E3"
          },
          "hoverlabel": {
           "align": "left"
          },
          "hovermode": "closest",
          "mapbox": {
           "style": "light"
          },
          "paper_bgcolor": "white",
          "plot_bgcolor": "white",
          "polar": {
           "angularaxis": {
            "gridcolor": "#EBF0F8",
            "linecolor": "#EBF0F8",
            "ticks": ""
           },
           "bgcolor": "white",
           "radialaxis": {
            "gridcolor": "#EBF0F8",
            "linecolor": "#EBF0F8",
            "ticks": ""
           }
          },
          "scene": {
           "xaxis": {
            "backgroundcolor": "white",
            "gridcolor": "#DFE8F3",
            "gridwidth": 2,
            "linecolor": "#EBF0F8",
            "showbackground": true,
            "ticks": "",
            "zerolinecolor": "#EBF0F8"
           },
           "yaxis": {
            "backgroundcolor": "white",
            "gridcolor": "#DFE8F3",
            "gridwidth": 2,
            "linecolor": "#EBF0F8",
            "showbackground": true,
            "ticks": "",
            "zerolinecolor": "#EBF0F8"
           },
           "zaxis": {
            "backgroundcolor": "white",
            "gridcolor": "#DFE8F3",
            "gridwidth": 2,
            "linecolor": "#EBF0F8",
            "showbackground": true,
            "ticks": "",
            "zerolinecolor": "#EBF0F8"
           }
          },
          "shapedefaults": {
           "line": {
            "color": "#2a3f5f"
           }
          },
          "ternary": {
           "aaxis": {
            "gridcolor": "#DFE8F3",
            "linecolor": "#A2B1C6",
            "ticks": ""
           },
           "baxis": {
            "gridcolor": "#DFE8F3",
            "linecolor": "#A2B1C6",
            "ticks": ""
           },
           "bgcolor": "white",
           "caxis": {
            "gridcolor": "#DFE8F3",
            "linecolor": "#A2B1C6",
            "ticks": ""
           }
          },
          "title": {
           "x": 0.05
          },
          "xaxis": {
           "automargin": true,
           "gridcolor": "#EBF0F8",
           "linecolor": "#EBF0F8",
           "ticks": "",
           "title": {
            "standoff": 15
           },
           "zerolinecolor": "#EBF0F8",
           "zerolinewidth": 2
          },
          "yaxis": {
           "automargin": true,
           "gridcolor": "#EBF0F8",
           "linecolor": "#EBF0F8",
           "ticks": "",
           "title": {
            "standoff": 15
           },
           "zerolinecolor": "#EBF0F8",
           "zerolinewidth": 2
          }
         }
        },
        "updatemenus": [
         {
          "buttons": [
           {
            "args": [
             {
              "yaxis.type": "linear"
             }
            ],
            "label": "Linear y-scale",
            "method": "relayout"
           },
           {
            "args": [
             {
              "yaxis.type": "log"
             }
            ],
            "label": "Log y-scale",
            "method": "relayout"
           }
          ],
          "direction": "left",
          "pad": {
           "r": 0,
           "t": -10
          },
          "showactive": true,
          "type": "buttons",
          "x": 0,
          "xanchor": "left",
          "y": 1.15,
          "yanchor": "top"
         },
         {
          "buttons": [
           {
            "args": [
             {
              "visible": [
               true,
               false,
               true,
               false,
               true,
               false,
               true,
               false,
               true,
               false,
               true,
               false,
               true,
               false,
               true,
               false
              ]
             },
             {
              "yaxis": {
               "title": "$\\text{Tumour volume in cm}^3$"
              }
             }
            ],
            "label": "Tumour volume",
            "method": "update"
           },
           {
            "args": [
             {
              "visible": [
               false,
               true,
               false,
               true,
               false,
               true,
               false,
               true,
               false,
               true,
               false,
               true,
               false,
               true,
               false,
               true
              ]
             },
             {
              "yaxis": {
               "title": "$\\text{Body weight in g}$"
              }
             }
            ],
            "label": "Body weight",
            "method": "update"
           }
          ],
          "direction": "down",
          "pad": {
           "r": 0,
           "t": -10
          },
          "showactive": true,
          "type": "buttons",
          "x": 1.07,
          "xanchor": "left",
          "y": 1.1,
          "yanchor": "top"
         }
        ],
        "xaxis": {
         "title": {
          "text": "$\\text{Time in day}$"
         }
        },
        "yaxis": {
         "title": {
          "text": "$\\text{Tumour volume in cm}^3$"
         }
        }
       }
      }
     },
     "metadata": {}
    }
   ],
   "source": [
    "#\n",
    "# Visualise control growth data.\n",
    "#\n",
    "\n",
    "import os\n",
    "\n",
    "import pandas as pd\n",
    "import plotly.colors\n",
    "import plotly.graph_objects as go\n",
    "\n",
    "\n",
    "# Import data\n",
    "# Get path of current working directory\n",
    "path = os.getcwd()\n",
    "\n",
    "# Import LXF A677 control growth data\n",
    "data = pd.read_csv(path + '/data/lxf_control_growth.csv')\n",
    "\n",
    "# Get mouse ids\n",
    "mouse_ids = data['#ID'].unique()\n",
    "\n",
    "# Get number of mice\n",
    "n_mice = len(mouse_ids)\n",
    "\n",
    "# Define colorscheme\n",
    "colors = plotly.colors.qualitative.Plotly[:n_mice]\n",
    "\n",
    "# Create figure\n",
    "fig = go.Figure()\n",
    "\n",
    "# Scatter plot LXF A677 time-series data for each mouse\n",
    "for index, id_m in enumerate(mouse_ids):\n",
    "    # Create mask for mouse\n",
    "    mask = data['#ID'] == id_m\n",
    "\n",
    "    # Get time points for mouse\n",
    "    times = data['TIME in day'][mask]\n",
    "\n",
    "    # Get observed tumour volumes for mouse\n",
    "    observed_volumes = data['TUMOUR VOLUME in cm^3'][mask]\n",
    "\n",
    "    # Get mass time series\n",
    "    masses = data['BODY WEIGHT in g'][mask]\n",
    "\n",
    "    # Plot tumour volume over time\n",
    "    fig.add_trace(go.Scatter(\n",
    "        x=times,\n",
    "        y=observed_volumes,\n",
    "        name=\"ID: %d\" % id_m,\n",
    "        showlegend=True,\n",
    "        hovertemplate=\n",
    "            \"<b>ID: %d</b><br>\" % (id_m) +\n",
    "            \"Time: %{x:} day<br>\" +\n",
    "            \"Tumour volume: %{y:.02f} cm^3<br>\" +\n",
    "            \"Body weight: %{text}<br>\" +\n",
    "            \"Cancer type: Lung cancer (LXF A677)<br>\" +\n",
    "            \"<extra></extra>\",\n",
    "        text=['%.01f g' % mass for mass in masses],\n",
    "        mode=\"markers\",\n",
    "        marker=dict(\n",
    "            symbol='circle',\n",
    "            color=colors[index],\n",
    "            opacity=0.7,\n",
    "            line=dict(color='black', width=1))\n",
    "    ))\n",
    "\n",
    "    # Plot mass over time\n",
    "    fig.add_trace(go.Scatter(\n",
    "        x=times,\n",
    "        y=masses,\n",
    "        name=\"ID: %d\" % id_m,\n",
    "        showlegend=True,\n",
    "        visible=False,\n",
    "        hovertemplate=\n",
    "            \"<b>ID: %d</b><br>\" % (id_m) +\n",
    "            \"Time: %{x:} day<br>\" +\n",
    "            \"Tumour volume: %{y:.02f} cm^3<br>\" +\n",
    "            \"Body weight: %{text}<br>\" +\n",
    "            \"Cancer type: Lung cancer (LXF A677)<br>\" +\n",
    "            \"<extra></extra>\",\n",
    "        text=['%.01f g' % mass for mass in masses],\n",
    "        mode=\"markers\",\n",
    "        marker=dict(\n",
    "            symbol='circle',\n",
    "            color=colors[index],\n",
    "            opacity=0.7,\n",
    "            line=dict(color='black', width=1))\n",
    "    ))\n",
    "\n",
    "# Set X, Y axis and figure size\n",
    "fig.update_layout(\n",
    "    autosize=True,\n",
    "    xaxis_title=r'$\\text{Time in day}$',\n",
    "    yaxis_title=r'$\\text{Tumour volume in cm}^3$',\n",
    "    template=\"plotly_white\")\n",
    "\n",
    "# Add switch between linear and log y-scale\n",
    "fig.update_layout(\n",
    "    updatemenus=[\n",
    "        dict(\n",
    "            type = \"buttons\",\n",
    "            direction = \"left\",\n",
    "            buttons=list([\n",
    "                dict(\n",
    "                    args=[{\"yaxis.type\": \"linear\"}],\n",
    "                    label=\"Linear y-scale\",\n",
    "                    method=\"relayout\"\n",
    "                ),\n",
    "                dict(\n",
    "                    args=[{\"yaxis.type\": \"log\"}],\n",
    "                    label=\"Log y-scale\",\n",
    "                    method=\"relayout\"\n",
    "                )\n",
    "            ]),\n",
    "            pad={\"r\": 0, \"t\": -10},\n",
    "            showactive=True,\n",
    "            x=0.0,\n",
    "            xanchor=\"left\",\n",
    "            y=1.15,\n",
    "            yanchor=\"top\"\n",
    "        ),\n",
    "        dict(\n",
    "            type = \"buttons\",\n",
    "            direction = \"down\",\n",
    "            buttons=list([\n",
    "                dict(\n",
    "                    args=[\n",
    "                        {\"visible\": [True, False] * n_mice},\n",
    "                        {\"yaxis\": {\"title\": r'$\\text{Tumour volume in cm}^3$'}}],\n",
    "                    label=\"Tumour volume\",\n",
    "                    method=\"update\"\n",
    "                ),\n",
    "                dict(\n",
    "                    args=[\n",
    "                        {\"visible\": [False, True] * n_mice}, \n",
    "                        {\"yaxis\": {\"title\": r'$\\text{Body weight in g}$'}}],\n",
    "                    label=\"Body weight\",\n",
    "                    method=\"update\"\n",
    "                ),\n",
    "            ]),\n",
    "            pad={\"r\": 0, \"t\": -10},\n",
    "            showactive=True,\n",
    "            x=1.07,\n",
    "            xanchor=\"left\",\n",
    "            y=1.1,\n",
    "            yanchor=\"top\"\n",
    "        ),\n",
    "    ]\n",
    ")\n",
    "\n",
    "# Position legend\n",
    "fig.update_layout(legend=dict(\n",
    "    yanchor=\"bottom\",\n",
    "    y=0.01,\n",
    "    xanchor=\"left\",\n",
    "    x=1.05))\n",
    "\n",
    "# Show figure\n",
    "fig.show()"
   ]
  },
  {
   "cell_type": "markdown",
   "metadata": {},
   "source": [
    "**Figure 1 - Untreated tumour growth:** Untreated tumour growth of patient-derived tumour explants LXF A677 (adenocarcinoma of the lung) implanted in mice. The colouring of the data points indicates the identity of the mice. The evolution of the body weight can be explored by using the buttons in the top right."
   ]
  },
  {
   "cell_type": "markdown",
   "metadata": {},
   "source": [
    "## Structural model\n",
    "\n",
    "In [[n1](https://nbviewer.jupyter.org/github/DavAug/ErlotinibGefitinib/blob/master/notebooks/lung_cancer/control_growth/identifiability_structural_model.ipynb)] we showed that a structural model with a transition from exponential growth of the tumour volume to a linear growth of the tumour volume is capable of capturing the observed data\n",
    "\n",
    "\\begin{equation*}\n",
    "    \\frac{\\text{d}V^s_T}{\\text{d}t} = \\frac{\\lambda V^s_T}{V^s_T / V_{\\text{crit}} + 1}.\n",
    "\\end{equation*}\n",
    "\n",
    "Here, $V^s_T$ is the tumour volume predicted by the structural model, $V_{\\text{crit}}$ is the critical tumour volume at which the growth transitions from exponential to linear, and $\\lambda $ is the exponential growth rate. We can see that the tumour growth is exponential for tumour volumes much smaller than the critical volume $V^s_T \\ll V_{\\text{crit}}$, and linear for tumour volumes much larger than the critical volume $V^s_T \\gg V_{\\text{crit}}$. This parameterisation is equivalent to the structural model presented in [1] when setting $\\lambda $ equal to twice the exponential growth rate ($\\lambda = 2\\lambda _0$), and $\\lambda V_{\\text{crit}}$ equal to the linear growth rate ($\\lambda V_{\\text{crit}}=\\lambda _0$).\n",
    "\n",
    "In [[n1](https://nbviewer.jupyter.org/github/DavAug/ErlotinibGefitinib/blob/master/notebooks/lung_cancer/control_growth/identifiability_structural_model.ipynb)] we argued that the stability of the optimisation can be improved by non-dimensionalising the model, and log-transforming its parameteters. We thus perform all optimisations in this transformed search space."
   ]
  },
  {
   "cell_type": "markdown",
   "metadata": {},
   "source": [
    "## Constant noise model (all mice have their own noise parameter)\n",
    "\n",
    "Explanation\n",
    "\n",
    "- Identifiability, joined noise model"
   ]
  },
  {
   "cell_type": "markdown",
   "metadata": {},
   "source": [
    "### Identifiability"
   ]
  },
  {
   "cell_type": "code",
   "execution_count": 3,
   "metadata": {
    "tags": []
   },
   "outputs": [
    {
     "output_type": "stream",
     "name": "stderr",
     "text": "/usr/local/Cellar/python/3.7.5/Frameworks/Python.framework/Versions/3.7/lib/python3.7/importlib/_bootstrap.py:219: RuntimeWarning:\n\nnumpy.ufunc size changed, may indicate binary incompatibility. Expected 192 from C header, got 216 from PyObject\n\n/usr/local/Cellar/python/3.7.5/Frameworks/Python.framework/Versions/3.7/lib/python3.7/importlib/_bootstrap.py:219: RuntimeWarning:\n\nnumpy.ufunc size changed, may indicate binary incompatibility. Expected 192 from C header, got 216 from PyObject\n\n"
    }
   ],
   "source": [
    "#\n",
    "# Define pints model wrapper such that myokit model can be used for inference.\n",
    "#\n",
    "\n",
    "import myokit\n",
    "import pints\n",
    "\n",
    "from pkpd import model as m\n",
    "\n",
    "\n",
    "# Wrap myokit model, so it can be used with pints\n",
    "class DimensionlessLogTransformedPintsModel(pints.ForwardModel):\n",
    "    def __init__(self):\n",
    "        # Create myokit model\n",
    "        model = m.create_dimless_tumour_growth_model()\n",
    "\n",
    "        # Create simulator\n",
    "        self.sim = myokit.Simulation(model)\n",
    "\n",
    "    def n_parameters(self):\n",
    "        \"\"\"\n",
    "        Number of parameters to fit. Here log v, log a_0, log a_1.\n",
    "        \"\"\"\n",
    "        return 3\n",
    "\n",
    "    def n_outputs(self):\n",
    "        return 1\n",
    "\n",
    "    def simulate(self, log_parameters, times):\n",
    "        # Reset simulation\n",
    "        self.sim.reset()\n",
    "\n",
    "        # Sort input parameters\n",
    "        initial_volume, a_0, a_1 = np.exp(log_parameters)\n",
    "\n",
    "        # Set initial condition\n",
    "        self.sim.set_state([initial_volume])\n",
    "\n",
    "        # Set growth constants\n",
    "        self.sim.set_constant('central.a_0', a_0)\n",
    "        self.sim.set_constant('central.a_1', a_1)\n",
    "\n",
    "        # Define logged variable\n",
    "        loggedVariable = 'central.volume_t'\n",
    "\n",
    "        # Simulate\n",
    "        output = self.sim.run(times[-1] + 1, log=[loggedVariable], log_times=times)\n",
    "        result = output[loggedVariable]\n",
    "\n",
    "        return np.array(result)"
   ]
  },
  {
   "cell_type": "code",
   "execution_count": 4,
   "metadata": {
    "tags": []
   },
   "outputs": [
    {
     "output_type": "display_data",
     "data": {
      "text/plain": "HBox(children=(FloatProgress(value=0.0, max=8.0), HTML(value='')))",
      "application/vnd.jupyter.widget-view+json": {
       "version_major": 2,
       "version_minor": 0,
       "model_id": "ebd706a150cd4084b9220b470f1f1c7e"
      }
     },
     "metadata": {}
    },
    {
     "output_type": "stream",
     "name": "stderr",
     "text": "/Users/david/Documents/SABS/DPhil/Rotation 1 - PKPD Modelling Workflow/notebooks/ErlotinibGefitinib/venv/lib/python3.7/site-packages/cma/evolution_strategy.py:3597: RuntimeWarning:\n\ninvalid value encountered in double_scalars\n\n/Users/david/Documents/SABS/DPhil/Rotation 1 - PKPD Modelling Workflow/notebooks/ErlotinibGefitinib/venv/lib/python3.7/site-packages/cma/evolution_strategy.py:3591: RuntimeWarning:\n\ninvalid value encountered in double_scalars\n\n\n"
    }
   ],
   "source": [
    "#\n",
    "# Run optimisation multiple times from random initial starting points.\n",
    "#\n",
    "# This cell needs the above defined wrapped myokit model:\n",
    "# [DimensionlessLogTransformedPintsModel]\n",
    "#\n",
    "\n",
    "import os\n",
    "\n",
    "import myokit\n",
    "import numpy as np\n",
    "import pandas as pd\n",
    "import pints\n",
    "from tqdm.notebook import tqdm\n",
    "\n",
    "import pkpd.likelihoods\n",
    "\n",
    "\n",
    "# Define characteristic scales\n",
    "characteristic_volume = 1  # in cm^3\n",
    "characteristic_time = 1  # in day\n",
    "\n",
    "# Define number of optimisation runs for each individual\n",
    "n_runs = 10\n",
    "\n",
    "# Import data\n",
    "# Get path of current working directory\n",
    "path = os.getcwd()\n",
    "\n",
    "# Import LXF A677 control growth data\n",
    "data = pd.read_csv(path + '/data/lxf_control_growth.csv')\n",
    "n_mice = len(data['#ID'].unique())\n",
    "\n",
    "# Define container for the structural model estimates\n",
    "# Shape (n_mice, n_runs, n_structural_params + n_noise_params)\n",
    "n_structural_params = 3\n",
    "n_noise_params = 1\n",
    "transf_params = np.empty(shape=(n_mice, n_runs, n_structural_params + n_noise_params))\n",
    "\n",
    "# Define container for the objective function score for the optimised parameters\n",
    "log_posterior_scores = np.empty(shape=(n_mice, n_runs))\n",
    "\n",
    "# Create priors for tranformed parameters\n",
    "log_prior_structural_params = pints.UniformLogPrior(\n",
    "    lower_or_boundaries=np.log([1E-3] * n_structural_params),\n",
    "    upper=np.log([1E3] * n_structural_params))\n",
    "log_prior_sigma = pints.HalfCauchyLogPrior(location=0, scale=3)\n",
    "log_prior = pints.ComposedLogPrior(log_prior_structural_params, log_prior_sigma)\n",
    "\n",
    "# Create inverse problems for the LXF A677 population\n",
    "mouse_ids = data['#ID'].unique()\n",
    "for index, mouse_id in enumerate(tqdm(mouse_ids)):\n",
    "    # Create mask for mouse with specfied ID\n",
    "    mouse_mask = data['#ID'] == mouse_id\n",
    "\n",
    "    # Get relevant time points\n",
    "    times = data[mouse_mask]['TIME in day'].to_numpy() / characteristic_time\n",
    "\n",
    "    # Get measured tumour volumes\n",
    "    observed_volumes = data[mouse_mask]['TUMOUR VOLUME in cm^3'].to_numpy() / characteristic_volume\n",
    "\n",
    "    # Create inverse problem\n",
    "    problem = pints.SingleOutputProblem(\n",
    "        DimensionlessLogTransformedPintsModel(), times, observed_volumes)\n",
    "\n",
    "    # Create likelihood assuming a constant Gaussian noise\n",
    "    log_likelihood = pints.GaussianLogLikelihood(problem)\n",
    "\n",
    "    # Create posterior\n",
    "    log_posterior = pints.LogPosterior(log_likelihood, log_prior)\n",
    "\n",
    "    # Define initial starting points by sampling from prior\n",
    "    initial_parameters = log_prior.sample(n=n_runs)\n",
    "\n",
    "    # Run optimisation multiple times\n",
    "    for run_id, initial_params in enumerate(initial_parameters):\n",
    "\n",
    "        # Create optimisation controller with a CMA-ES optimiser\n",
    "        optimiser = pints.OptimisationController(\n",
    "            function=log_posterior,\n",
    "            x0=initial_params,\n",
    "            method=pints.CMAES)\n",
    "\n",
    "        # Disable logging mode\n",
    "        optimiser.set_log_to_screen(False)\n",
    "\n",
    "        # Parallelise optimisation\n",
    "        optimiser.set_parallel(True)\n",
    "\n",
    "        # Find optimal parameters\n",
    "        try:\n",
    "            estimates, score = optimiser.run()\n",
    "        except:\n",
    "            # If inference breaks fill estimates with nan\n",
    "            estimates = np.array([np.nan] * (n_structural_params + n_noise_params))\n",
    "            score = np.nan\n",
    "\n",
    "        # Save estimates and score\n",
    "        transf_params[index, run_id, :] = estimates\n",
    "        log_posterior_scores[index, run_id] = score"
   ]
  },
  {
   "cell_type": "code",
   "execution_count": 5,
   "metadata": {},
   "outputs": [],
   "source": [
    "#\n",
    "# Transform parameters to biological parameters (initial tumour volume, critical tumour volume, growth rate, sigma).\n",
    "# \n",
    "# This cell needs the above inferred dimensionless parameters and the characteristic volume and time scale:\n",
    "# [mouse_parameters, characteristic_volume, characteristic_time]\n",
    "#\n",
    "\n",
    "import numpy as np\n",
    "\n",
    "\n",
    "# Initialise container for backtransformed paramters\n",
    "# Shape (n_mice, n_runs, n_parameters)\n",
    "mouse_parameters = np.empty(shape=transf_params.shape)\n",
    "\n",
    "# Transform initial volumes\n",
    "# V_0 = exp(log(v_0)) * V^c\n",
    "mouse_parameters[:, :, 0] = np.exp(transf_params[:, :, 0]) * characteristic_volume\n",
    "\n",
    "# Transform critical volume \n",
    "# V_crit = exp(log(a_0)) * V^c\n",
    "mouse_parameters[:, :, 1] = np.exp(transf_params[:, :, 1]) * characteristic_volume\n",
    "\n",
    "# Transform exponential growth rate\n",
    "# lambda = exp(log(a_1 / a_0) / t^c\n",
    "mouse_parameters[:, :, 2] = \\\n",
    "    np.exp(transf_params[:, :, 2] - transf_params[:, :, 1]) / characteristic_time\n",
    "\n",
    "# Transform sigma\n",
    "# sigma = sigma_dimensionless * V^c\n",
    "mouse_parameters[:, :, 3] = np.exp(transf_params[:, :, 3]) * characteristic_volume"
   ]
  },
  {
   "cell_type": "code",
   "execution_count": 6,
   "metadata": {},
   "outputs": [
    {
     "output_type": "display_data",
     "data": {
      "application/vnd.plotly.v1+json": {
       "config": {
        "plotlyServerURL": "https://plot.ly"
       },
       "data": [
        {
         "boxpoints": "all",
         "jitter": 0.2,
         "line": {
          "color": "#636EFA"
         },
         "marker": {
          "color": "#636EFA",
          "line": {
           "color": "black",
           "width": 1
          },
          "opacity": 0.7,
          "symbol": "circle"
         },
         "name": "Initial tumour volume in cm^3",
         "pointpos": -1.5,
         "type": "box",
         "visible": true,
         "y": [
          0.14029105974755962,
          0.1396707516047919,
          0.14053773926544946,
          0.13886310405214536,
          0.13932410627691963,
          0.13941962234234848,
          0.13967428778401322,
          0.13898233670133256,
          0.13920735978929724,
          0.1385655228221115
         ]
        },
        {
         "boxpoints": "all",
         "jitter": 0.2,
         "line": {
          "color": "#EF553B"
         },
         "marker": {
          "color": "#EF553B",
          "line": {
           "color": "black",
           "width": 1
          },
          "opacity": 0.7,
          "symbol": "circle"
         },
         "name": "Critical volume in cm^3",
         "pointpos": -1.5,
         "type": "box",
         "visible": true,
         "y": [
          0.23947811344666944,
          0.23842513183649905,
          0.2398383773926901,
          0.23699803731968302,
          0.23777059204901266,
          0.23794615471625466,
          0.23836963406979103,
          0.23720343613596645,
          0.23757654963682465,
          0.2365161567473794
         ]
        },
        {
         "boxpoints": "all",
         "jitter": 0.2,
         "line": {
          "color": "#00CC96"
         },
         "marker": {
          "color": "#00CC96",
          "line": {
           "color": "black",
           "width": 1
          },
          "opacity": 0.7,
          "symbol": "circle"
         },
         "name": "Exponential growth rate in 1/day",
         "pointpos": -1.5,
         "type": "box",
         "visible": true,
         "y": [
          0.5473329906228143,
          0.549364188112526,
          0.5462195372736351,
          0.5521633674602789,
          0.5508203124737759,
          0.55039896096502,
          0.549609549490668,
          0.5515559749646959,
          0.5510915348336473,
          0.5537793975206823
         ]
        },
        {
         "boxpoints": "all",
         "jitter": 0.2,
         "line": {
          "color": "#AB63FA"
         },
         "marker": {
          "color": "#AB63FA",
          "line": {
           "color": "black",
           "width": 1
          },
          "opacity": 0.7,
          "symbol": "circle"
         },
         "name": "Standard deviation in cm^3",
         "pointpos": -1.5,
         "type": "box",
         "visible": true,
         "y": [
          1.058055771945072,
          1.058215115212874,
          1.0581076320812393,
          1.0582415930694677,
          1.058066425996047,
          1.0579884324969442,
          1.0582062029673358,
          1.0585798132219164,
          1.0583313400805692,
          1.058018919278442
         ]
        },
        {
         "boxpoints": "all",
         "jitter": 0.2,
         "line": {
          "color": "#FFA15A"
         },
         "marker": {
          "color": "#FFA15A",
          "line": {
           "color": "black",
           "width": 1
          },
          "opacity": 0.7,
          "symbol": "circle"
         },
         "name": "Unnorm. log-posterior score",
         "pointpos": -1.5,
         "type": "box",
         "visible": true,
         "y": [
          5.127094570866081,
          5.127297880615977,
          5.126131208580077,
          5.126578881433662,
          5.127605822591798,
          5.127535431788679,
          5.1274660178795415,
          5.124691565688762,
          5.127210057648062,
          5.126508977168543
         ]
        },
        {
         "boxpoints": "all",
         "jitter": 0.2,
         "line": {
          "color": "#636EFA"
         },
         "marker": {
          "color": "#636EFA",
          "line": {
           "color": "black",
           "width": 1
          },
          "opacity": 0.7,
          "symbol": "circle"
         },
         "name": "Initial tumour volume in cm^3",
         "pointpos": -1.5,
         "type": "box",
         "visible": false,
         "y": [
          0.07479926789178125,
          0.07456913546751293,
          0.07479929482780584,
          0.07445622214611822,
          0.07454907479394726,
          0.07454890658823325,
          0.07479929516465328,
          0.07479927917798018,
          0.074799290689922,
          0.07443681510413137
         ]
        },
        {
         "boxpoints": "all",
         "jitter": 0.2,
         "line": {
          "color": "#EF553B"
         },
         "marker": {
          "color": "#EF553B",
          "line": {
           "color": "black",
           "width": 1
          },
          "opacity": 0.7,
          "symbol": "circle"
         },
         "name": "Critical volume in cm^3",
         "pointpos": -1.5,
         "type": "box",
         "visible": false,
         "y": [
          0.06177110258753126,
          0.06050114828054004,
          0.061771123746354094,
          0.05995457772907961,
          0.060457831837204136,
          0.060457703792871825,
          0.06177112399872526,
          0.061771111441509034,
          0.06177112049799933,
          0.059842140586496013
         ]
        },
        {
         "boxpoints": "all",
         "jitter": 0.2,
         "line": {
          "color": "#00CC96"
         },
         "marker": {
          "color": "#00CC96",
          "line": {
           "color": "black",
           "width": 1
          },
          "opacity": 0.7,
          "symbol": "circle"
         },
         "name": "Exponential growth rate in 1/day",
         "pointpos": -1.5,
         "type": "box",
         "visible": false,
         "y": [
          0.33007041828647243,
          0.3358028347232727,
          0.3300702763032949,
          0.33827925236080447,
          0.3359684147369871,
          0.3359689963698522,
          0.3300703110499321,
          0.3300703704953061,
          0.3300703105461952,
          0.3388007913984869
         ]
        },
        {
         "boxpoints": "all",
         "jitter": 0.2,
         "line": {
          "color": "#AB63FA"
         },
         "marker": {
          "color": "#AB63FA",
          "line": {
           "color": "black",
           "width": 1
          },
          "opacity": 0.7,
          "symbol": "circle"
         },
         "name": "Standard deviation in cm^3",
         "pointpos": -1.5,
         "type": "box",
         "visible": false,
         "y": [
          1.0233367717663007,
          1.0233143390829325,
          1.023336769871376,
          1.0233343493011762,
          1.023333513106332,
          1.023333439825031,
          1.0233367724470803,
          1.023336777835874,
          1.0233367606413268,
          1.023334029400302
         ]
        },
        {
         "boxpoints": "all",
         "jitter": 0.2,
         "line": {
          "color": "#FFA15A"
         },
         "marker": {
          "color": "#FFA15A",
          "line": {
           "color": "black",
           "width": 1
          },
          "opacity": 0.7,
          "symbol": "circle"
         },
         "name": "Unnorm. log-posterior score",
         "pointpos": -1.5,
         "type": "box",
         "visible": false,
         "y": [
          23.477112975502386,
          23.479042353662795,
          23.4771129754959,
          23.478530536052034,
          23.479081635125844,
          23.479081635225345,
          23.477112975493647,
          23.477112975499267,
          23.47711297548914,
          23.478770191321416
         ]
        },
        {
         "boxpoints": "all",
         "jitter": 0.2,
         "line": {
          "color": "#636EFA"
         },
         "marker": {
          "color": "#636EFA",
          "line": {
           "color": "black",
           "width": 1
          },
          "opacity": 0.7,
          "symbol": "circle"
         },
         "name": "Initial tumour volume in cm^3",
         "pointpos": -1.5,
         "type": "box",
         "visible": false,
         "y": [
          0.22090437402783866,
          0.22090435545786002,
          0.22090440188898158,
          0.22090437785334216,
          0.22090437708671382,
          0.22090438706923574,
          0.22090437226780818,
          0.22090438342685734,
          0.22090436879415112,
          0.2209043697244586
         ]
        },
        {
         "boxpoints": "all",
         "jitter": 0.2,
         "line": {
          "color": "#EF553B"
         },
         "marker": {
          "color": "#EF553B",
          "line": {
           "color": "black",
           "width": 1
          },
          "opacity": 0.7,
          "symbol": "circle"
         },
         "name": "Critical volume in cm^3",
         "pointpos": -1.5,
         "type": "box",
         "visible": false,
         "y": [
          999.9999999985911,
          999.9999999703967,
          999.9999999687652,
          999.999999998092,
          999.9999999916384,
          999.9999999890236,
          999.9999999697679,
          999.9999999786302,
          999.9999999980786,
          999.9999999826856
         ]
        },
        {
         "boxpoints": "all",
         "jitter": 0.2,
         "line": {
          "color": "#00CC96"
         },
         "marker": {
          "color": "#00CC96",
          "line": {
           "color": "black",
           "width": 1
          },
          "opacity": 0.7,
          "symbol": "circle"
         },
         "name": "Exponential growth rate in 1/day",
         "pointpos": -1.5,
         "type": "box",
         "visible": false,
         "y": [
          0.11118493118374309,
          0.11118493501922463,
          0.1111849245812502,
          0.11118493044002832,
          0.11118493030345768,
          0.1111849288485473,
          0.11118493103176673,
          0.11118492872155018,
          0.11118493311297059,
          0.11118493272891979
         ]
        },
        {
         "boxpoints": "all",
         "jitter": 0.2,
         "line": {
          "color": "#AB63FA"
         },
         "marker": {
          "color": "#AB63FA",
          "line": {
           "color": "black",
           "width": 1
          },
          "opacity": 0.7,
          "symbol": "circle"
         },
         "name": "Standard deviation in cm^3",
         "pointpos": -1.5,
         "type": "box",
         "visible": false,
         "y": [
          1.104875155840318,
          1.1048751571911917,
          1.1048751555949743,
          1.104875134761541,
          1.104875159429002,
          1.1048751352409951,
          1.1048751462503619,
          1.1048751361415652,
          1.1048751439793825,
          1.1048751609556682
         ]
        },
        {
         "boxpoints": "all",
         "jitter": 0.2,
         "line": {
          "color": "#FFA15A"
         },
         "marker": {
          "color": "#FFA15A",
          "line": {
           "color": "black",
           "width": 1
          },
          "opacity": 0.7,
          "symbol": "circle"
         },
         "name": "Unnorm. log-posterior score",
         "pointpos": -1.5,
         "type": "box",
         "visible": false,
         "y": [
          -0.5665119954070068,
          -0.5665119954078897,
          -0.5665119954082716,
          -0.5665119954078666,
          -0.5665119954073976,
          -0.5665119954082325,
          -0.5665119954072679,
          -0.5665119954079518,
          -0.566511995407776,
          -0.5665119954078293
         ]
        },
        {
         "boxpoints": "all",
         "jitter": 0.2,
         "line": {
          "color": "#636EFA"
         },
         "marker": {
          "color": "#636EFA",
          "line": {
           "color": "black",
           "width": 1
          },
          "opacity": 0.7,
          "symbol": "circle"
         },
         "name": "Initial tumour volume in cm^3",
         "pointpos": -1.5,
         "type": "box",
         "visible": false,
         "y": [
          0.14901871972272712,
          0.14906614716147784,
          0.14764452078942428,
          0.148799325120857,
          0.14897123252252173,
          0.1477229781445431,
          0.14891548410698635,
          0.1490797762840458,
          0.1482342678108574,
          0.14825657574659956
         ]
        },
        {
         "boxpoints": "all",
         "jitter": 0.2,
         "line": {
          "color": "#EF553B"
         },
         "marker": {
          "color": "#EF553B",
          "line": {
           "color": "black",
           "width": 1
          },
          "opacity": 0.7,
          "symbol": "circle"
         },
         "name": "Critical volume in cm^3",
         "pointpos": -1.5,
         "type": "box",
         "visible": false,
         "y": [
          1.1870748701023166,
          1.1874848824145112,
          1.1529554358913086,
          1.1854048829575414,
          1.186743882875139,
          1.1282643257318303,
          1.1862791174903566,
          1.187553261912813,
          1.1568681647621806,
          1.156497903200416
         ]
        },
        {
         "boxpoints": "all",
         "jitter": 0.2,
         "line": {
          "color": "#00CC96"
         },
         "marker": {
          "color": "#00CC96",
          "line": {
           "color": "black",
           "width": 1
          },
          "opacity": 0.7,
          "symbol": "circle"
         },
         "name": "Exponential growth rate in 1/day",
         "pointpos": -1.5,
         "type": "box",
         "visible": false,
         "y": [
          0.10851034631158911,
          0.10848967408425969,
          0.10985522751889784,
          0.10861972120524918,
          0.10853586711477516,
          0.11051681165035833,
          0.10855527289783519,
          0.10847557315886544,
          0.10957240522344724,
          0.10953952167494566
         ]
        },
        {
         "boxpoints": "all",
         "jitter": 0.2,
         "line": {
          "color": "#AB63FA"
         },
         "marker": {
          "color": "#AB63FA",
          "line": {
           "color": "black",
           "width": 1
          },
          "opacity": 0.7,
          "symbol": "circle"
         },
         "name": "Standard deviation in cm^3",
         "pointpos": -1.5,
         "type": "box",
         "visible": false,
         "y": [
          1.0550167863939086,
          1.055016543788136,
          1.0550610788652213,
          1.0551522896754888,
          1.0550784309926704,
          1.0550546100984168,
          1.054974706813505,
          1.0550415108024518,
          1.0551031139032194,
          1.055165940916352
         ]
        },
        {
         "boxpoints": "all",
         "jitter": 0.2,
         "line": {
          "color": "#FFA15A"
         },
         "marker": {
          "color": "#FFA15A",
          "line": {
           "color": "black",
           "width": 1
          },
          "opacity": 0.7,
          "symbol": "circle"
         },
         "name": "Unnorm. log-posterior score",
         "pointpos": -1.5,
         "type": "box",
         "visible": false,
         "y": [
          11.680280917869212,
          11.680131727025282,
          11.680403827799871,
          11.68000317030346,
          11.68013121477021,
          11.675505184932042,
          11.680200201301435,
          11.680263026408447,
          11.680941639496794,
          11.680715148421422
         ]
        },
        {
         "boxpoints": "all",
         "jitter": 0.2,
         "line": {
          "color": "#636EFA"
         },
         "marker": {
          "color": "#636EFA",
          "line": {
           "color": "black",
           "width": 1
          },
          "opacity": 0.7,
          "symbol": "circle"
         },
         "name": "Initial tumour volume in cm^3",
         "pointpos": -1.5,
         "type": "box",
         "visible": false,
         "y": [
          0.08417661224224292,
          0.08417663952765216,
          0.08417665078490988,
          0.08417659092857308,
          0.08417664641646623,
          0.08417664549560591,
          0.08417663805539286,
          0.08417666025618097,
          0.08417665196749541,
          0.08417664080553679
         ]
        },
        {
         "boxpoints": "all",
         "jitter": 0.2,
         "line": {
          "color": "#EF553B"
         },
         "marker": {
          "color": "#EF553B",
          "line": {
           "color": "black",
           "width": 1
          },
          "opacity": 0.7,
          "symbol": "circle"
         },
         "name": "Critical volume in cm^3",
         "pointpos": -1.5,
         "type": "box",
         "visible": false,
         "y": [
          999.999999547313,
          999.9999996581461,
          999.9999997592457,
          999.999999876821,
          999.9999999765083,
          999.9999997831252,
          999.9999997657019,
          999.9999997964852,
          999.9999997712982,
          999.9999999646014
         ]
        },
        {
         "boxpoints": "all",
         "jitter": 0.2,
         "line": {
          "color": "#00CC96"
         },
         "marker": {
          "color": "#00CC96",
          "line": {
           "color": "black",
           "width": 1
          },
          "opacity": 0.7,
          "symbol": "circle"
         },
         "name": "Exponential growth rate in 1/day",
         "pointpos": -1.5,
         "type": "box",
         "visible": false,
         "y": [
          0.10836538173632367,
          0.10836536788063975,
          0.10836536664622788,
          0.10836539023943184,
          0.10836536564179355,
          0.10836536682444345,
          0.10836536920200984,
          0.10836536101626765,
          0.10836536276192549,
          0.10836536712310917
         ]
        },
        {
         "boxpoints": "all",
         "jitter": 0.2,
         "line": {
          "color": "#AB63FA"
         },
         "marker": {
          "color": "#AB63FA",
          "line": {
           "color": "black",
           "width": 1
          },
          "opacity": 0.7,
          "symbol": "circle"
         },
         "name": "Standard deviation in cm^3",
         "pointpos": -1.5,
         "type": "box",
         "visible": false,
         "y": [
          1.107524107860881,
          1.1075241894527312,
          1.107524135938359,
          1.107524107905887,
          1.1075241377421428,
          1.1075241192283112,
          1.1075240805168232,
          1.10752413238267,
          1.1075241308350077,
          1.1075241552596162
         ]
        },
        {
         "boxpoints": "all",
         "jitter": 0.2,
         "line": {
          "color": "#FFA15A"
         },
         "marker": {
          "color": "#FFA15A",
          "line": {
           "color": "black",
           "width": 1
          },
          "opacity": 0.7,
          "symbol": "circle"
         },
         "name": "Unnorm. log-posterior score",
         "pointpos": -1.5,
         "type": "box",
         "visible": false,
         "y": [
          2.6465044706602967,
          2.6465044706549925,
          2.6465044706641514,
          2.646504470663375,
          2.646504470672255,
          2.6465044706696723,
          2.646504470662098,
          2.6465044706630216,
          2.646504470671685,
          2.646504470669111
         ]
        },
        {
         "boxpoints": "all",
         "jitter": 0.2,
         "line": {
          "color": "#636EFA"
         },
         "marker": {
          "color": "#636EFA",
          "line": {
           "color": "black",
           "width": 1
          },
          "opacity": 0.7,
          "symbol": "circle"
         },
         "name": "Initial tumour volume in cm^3",
         "pointpos": -1.5,
         "type": "box",
         "visible": false,
         "y": [
          0.13327398204468244,
          0.13327404305868817,
          0.13327424262368998,
          0.13327410222767028,
          0.13327434587351727,
          0.13327424279626143,
          0.13327405210189228,
          0.1332740133037152,
          0.12497456721851428,
          0.13327408023154136
         ]
        },
        {
         "boxpoints": "all",
         "jitter": 0.2,
         "line": {
          "color": "#EF553B"
         },
         "marker": {
          "color": "#EF553B",
          "line": {
           "color": "black",
           "width": 1
          },
          "opacity": 0.7,
          "symbol": "circle"
         },
         "name": "Critical volume in cm^3",
         "pointpos": -1.5,
         "type": "box",
         "visible": false,
         "y": [
          0.2749722007798519,
          0.2749723258334644,
          0.2749727350960521,
          0.2749724471749478,
          0.27497294682326573,
          0.2749727353765306,
          0.2749723445312311,
          0.2749722648678731,
          0.22987008845640675,
          0.2749724021825766
         ]
        },
        {
         "boxpoints": "all",
         "jitter": 0.2,
         "line": {
          "color": "#00CC96"
         },
         "marker": {
          "color": "#00CC96",
          "line": {
           "color": "black",
           "width": 1
          },
          "opacity": 0.7,
          "symbol": "circle"
         },
         "name": "Exponential growth rate in 1/day",
         "pointpos": -1.5,
         "type": "box",
         "visible": false,
         "y": [
          0.3947195531969188,
          0.39471937976453364,
          0.3947188847790591,
          0.39471922346809896,
          0.3947186249297468,
          0.3947188539222368,
          0.3947194314124225,
          0.39471948445930716,
          0.4530531920087406,
          0.3947192799134116
         ]
        },
        {
         "boxpoints": "all",
         "jitter": 0.2,
         "line": {
          "color": "#AB63FA"
         },
         "marker": {
          "color": "#AB63FA",
          "line": {
           "color": "black",
           "width": 1
          },
          "opacity": 0.7,
          "symbol": "circle"
         },
         "name": "Standard deviation in cm^3",
         "pointpos": -1.5,
         "type": "box",
         "visible": false,
         "y": [
          1.1581720263817368,
          1.1581720906557476,
          1.1581721170780201,
          1.1581721083135301,
          1.1581720557051485,
          1.1581720728443174,
          1.1581719608912693,
          1.1581721086586485,
          1.1582416752779323,
          1.1581719610836427
         ]
        },
        {
         "boxpoints": "all",
         "jitter": 0.2,
         "line": {
          "color": "#FFA15A"
         },
         "marker": {
          "color": "#FFA15A",
          "line": {
           "color": "black",
           "width": 1
          },
          "opacity": 0.7,
          "symbol": "circle"
         },
         "name": "Unnorm. log-posterior score",
         "pointpos": -1.5,
         "type": "box",
         "visible": false,
         "y": [
          -3.438917792153669,
          -3.4389177921445455,
          -3.438917792155327,
          -3.438917792156923,
          -3.4389177921538225,
          -3.4389177921522904,
          -3.438917792178051,
          -3.438917792155036,
          -3.443826874293114,
          -3.4389177921642426
         ]
        },
        {
         "boxpoints": "all",
         "jitter": 0.2,
         "line": {
          "color": "#636EFA"
         },
         "marker": {
          "color": "#636EFA",
          "line": {
           "color": "black",
           "width": 1
          },
          "opacity": 0.7,
          "symbol": "circle"
         },
         "name": "Initial tumour volume in cm^3",
         "pointpos": -1.5,
         "type": "box",
         "visible": false,
         "y": [
          0.12379423958030189,
          0.12384095678481069,
          0.12380945885505693,
          0.12332981432109617,
          0.12332978381803189,
          0.12407284606434929,
          0.12380949928726431,
          0.12332980630506829,
          0.12380947831934991,
          0.12380947741019305
         ]
        },
        {
         "boxpoints": "all",
         "jitter": 0.2,
         "line": {
          "color": "#EF553B"
         },
         "marker": {
          "color": "#EF553B",
          "line": {
           "color": "black",
           "width": 1
          },
          "opacity": 0.7,
          "symbol": "circle"
         },
         "name": "Critical volume in cm^3",
         "pointpos": -1.5,
         "type": "box",
         "visible": false,
         "y": [
          0.8487454777512246,
          0.849059144161309,
          0.8481578551514074,
          0.8202402527974134,
          0.8202400558404774,
          0.853482748113447,
          0.8481581242767275,
          0.8202402008759762,
          0.8481579865876391,
          0.8481579794359282
         ]
        },
        {
         "boxpoints": "all",
         "jitter": 0.2,
         "line": {
          "color": "#00CC96"
         },
         "marker": {
          "color": "#00CC96",
          "line": {
           "color": "black",
           "width": 1
          },
          "opacity": 0.7,
          "symbol": "circle"
         },
         "name": "Exponential growth rate in 1/day",
         "pointpos": -1.5,
         "type": "box",
         "visible": false,
         "y": [
          0.08604912882182099,
          0.08602489852831001,
          0.0860632521123993,
          0.08704232478719547,
          0.08704233538065347,
          0.08579764138573609,
          0.08606322614201106,
          0.08704232723087611,
          0.08606323961745369,
          0.08606323630383372
         ]
        },
        {
         "boxpoints": "all",
         "jitter": 0.2,
         "line": {
          "color": "#AB63FA"
         },
         "marker": {
          "color": "#AB63FA",
          "line": {
           "color": "black",
           "width": 1
          },
          "opacity": 0.7,
          "symbol": "circle"
         },
         "name": "Standard deviation in cm^3",
         "pointpos": -1.5,
         "type": "box",
         "visible": false,
         "y": [
          1.0145674413996508,
          1.0146075815561775,
          1.01453499275232,
          1.0145367639674012,
          1.0145367702175077,
          1.014519424082122,
          1.0145349304874658,
          1.0145367998328565,
          1.01453497722019,
          1.0145349606023086
         ]
        },
        {
         "boxpoints": "all",
         "jitter": 0.2,
         "line": {
          "color": "#FFA15A"
         },
         "marker": {
          "color": "#FFA15A",
          "line": {
           "color": "black",
           "width": 1
          },
          "opacity": 0.7,
          "symbol": "circle"
         },
         "name": "Unnorm. log-posterior score",
         "pointpos": -1.5,
         "type": "box",
         "visible": false,
         "y": [
          30.04501527425228,
          30.04476504433592,
          30.045162713611646,
          30.043419255867082,
          30.043419255728217,
          30.04350959751781,
          30.04516271366547,
          30.043419255735234,
          30.045162713675914,
          30.045162713765265
         ]
        },
        {
         "boxpoints": "all",
         "jitter": 0.2,
         "line": {
          "color": "#636EFA"
         },
         "marker": {
          "color": "#636EFA",
          "line": {
           "color": "black",
           "width": 1
          },
          "opacity": 0.7,
          "symbol": "circle"
         },
         "name": "Initial tumour volume in cm^3",
         "pointpos": -1.5,
         "type": "box",
         "visible": false,
         "y": [
          0.08702922498332379,
          0.08704782392698186,
          0.0870478373921793,
          0.0870478100058066,
          0.08704783040734487,
          0.08704147183048482,
          0.0871091246753575,
          0.0870478213547703,
          0.08704787160760373,
          0.08710914170942449
         ]
        },
        {
         "boxpoints": "all",
         "jitter": 0.2,
         "line": {
          "color": "#EF553B"
         },
         "marker": {
          "color": "#EF553B",
          "line": {
           "color": "black",
           "width": 1
          },
          "opacity": 0.7,
          "symbol": "circle"
         },
         "name": "Critical volume in cm^3",
         "pointpos": -1.5,
         "type": "box",
         "visible": false,
         "y": [
          2.669709417902652,
          2.671369704632681,
          2.6713701062521187,
          2.6713692898715298,
          2.671369897956925,
          2.668937154834841,
          2.704270071665297,
          2.6713696329726044,
          2.6713711260519095,
          2.7042705830339764
         ]
        },
        {
         "boxpoints": "all",
         "jitter": 0.2,
         "line": {
          "color": "#00CC96"
         },
         "marker": {
          "color": "#00CC96",
          "line": {
           "color": "black",
           "width": 1
          },
          "opacity": 0.7,
          "symbol": "circle"
         },
         "name": "Exponential growth rate in 1/day",
         "pointpos": -1.5,
         "type": "box",
         "visible": false,
         "y": [
          0.0723524798601012,
          0.07234431220314515,
          0.07234431081667302,
          0.07234432191226008,
          0.07234430903981161,
          0.07235557457451607,
          0.07223670071325812,
          0.07234431212642949,
          0.07234428465403966,
          0.07223669061971073
         ]
        },
        {
         "boxpoints": "all",
         "jitter": 0.2,
         "line": {
          "color": "#AB63FA"
         },
         "marker": {
          "color": "#AB63FA",
          "line": {
           "color": "black",
           "width": 1
          },
          "opacity": 0.7,
          "symbol": "circle"
         },
         "name": "Standard deviation in cm^3",
         "pointpos": -1.5,
         "type": "box",
         "visible": false,
         "y": [
          1.0129609488541564,
          1.0129438086757954,
          1.0129438082373265,
          1.0129438020108423,
          1.0129438210862391,
          1.0129344278406225,
          1.012944220224884,
          1.0129438250067582,
          1.0129437738426939,
          1.0129442110059819
         ]
        },
        {
         "boxpoints": "all",
         "jitter": 0.2,
         "line": {
          "color": "#FFA15A"
         },
         "marker": {
          "color": "#FFA15A",
          "line": {
           "color": "black",
           "width": 1
          },
          "opacity": 0.7,
          "symbol": "circle"
         },
         "name": "Unnorm. log-posterior score",
         "pointpos": -1.5,
         "type": "box",
         "visible": false,
         "y": [
          31.657211554807613,
          31.65729797851597,
          31.657297978458708,
          31.657297978502793,
          31.65729797849899,
          31.657239079349413,
          31.656869045844775,
          31.657297978486877,
          31.657297978284255,
          31.656869045868653
         ]
        }
       ],
       "layout": {
        "autosize": true,
        "legend": {
         "x": 1.05,
         "xanchor": "left",
         "y": 0.01,
         "yanchor": "bottom"
        },
        "template": {
         "data": {
          "bar": [
           {
            "error_x": {
             "color": "#2a3f5f"
            },
            "error_y": {
             "color": "#2a3f5f"
            },
            "marker": {
             "line": {
              "color": "white",
              "width": 0.5
             }
            },
            "type": "bar"
           }
          ],
          "barpolar": [
           {
            "marker": {
             "line": {
              "color": "white",
              "width": 0.5
             }
            },
            "type": "barpolar"
           }
          ],
          "carpet": [
           {
            "aaxis": {
             "endlinecolor": "#2a3f5f",
             "gridcolor": "#C8D4E3",
             "linecolor": "#C8D4E3",
             "minorgridcolor": "#C8D4E3",
             "startlinecolor": "#2a3f5f"
            },
            "baxis": {
             "endlinecolor": "#2a3f5f",
             "gridcolor": "#C8D4E3",
             "linecolor": "#C8D4E3",
             "minorgridcolor": "#C8D4E3",
             "startlinecolor": "#2a3f5f"
            },
            "type": "carpet"
           }
          ],
          "choropleth": [
           {
            "colorbar": {
             "outlinewidth": 0,
             "ticks": ""
            },
            "type": "choropleth"
           }
          ],
          "contour": [
           {
            "colorbar": {
             "outlinewidth": 0,
             "ticks": ""
            },
            "colorscale": [
             [
              0,
              "#0d0887"
             ],
             [
              0.1111111111111111,
              "#46039f"
             ],
             [
              0.2222222222222222,
              "#7201a8"
             ],
             [
              0.3333333333333333,
              "#9c179e"
             ],
             [
              0.4444444444444444,
              "#bd3786"
             ],
             [
              0.5555555555555556,
              "#d8576b"
             ],
             [
              0.6666666666666666,
              "#ed7953"
             ],
             [
              0.7777777777777778,
              "#fb9f3a"
             ],
             [
              0.8888888888888888,
              "#fdca26"
             ],
             [
              1,
              "#f0f921"
             ]
            ],
            "type": "contour"
           }
          ],
          "contourcarpet": [
           {
            "colorbar": {
             "outlinewidth": 0,
             "ticks": ""
            },
            "type": "contourcarpet"
           }
          ],
          "heatmap": [
           {
            "colorbar": {
             "outlinewidth": 0,
             "ticks": ""
            },
            "colorscale": [
             [
              0,
              "#0d0887"
             ],
             [
              0.1111111111111111,
              "#46039f"
             ],
             [
              0.2222222222222222,
              "#7201a8"
             ],
             [
              0.3333333333333333,
              "#9c179e"
             ],
             [
              0.4444444444444444,
              "#bd3786"
             ],
             [
              0.5555555555555556,
              "#d8576b"
             ],
             [
              0.6666666666666666,
              "#ed7953"
             ],
             [
              0.7777777777777778,
              "#fb9f3a"
             ],
             [
              0.8888888888888888,
              "#fdca26"
             ],
             [
              1,
              "#f0f921"
             ]
            ],
            "type": "heatmap"
           }
          ],
          "heatmapgl": [
           {
            "colorbar": {
             "outlinewidth": 0,
             "ticks": ""
            },
            "colorscale": [
             [
              0,
              "#0d0887"
             ],
             [
              0.1111111111111111,
              "#46039f"
             ],
             [
              0.2222222222222222,
              "#7201a8"
             ],
             [
              0.3333333333333333,
              "#9c179e"
             ],
             [
              0.4444444444444444,
              "#bd3786"
             ],
             [
              0.5555555555555556,
              "#d8576b"
             ],
             [
              0.6666666666666666,
              "#ed7953"
             ],
             [
              0.7777777777777778,
              "#fb9f3a"
             ],
             [
              0.8888888888888888,
              "#fdca26"
             ],
             [
              1,
              "#f0f921"
             ]
            ],
            "type": "heatmapgl"
           }
          ],
          "histogram": [
           {
            "marker": {
             "colorbar": {
              "outlinewidth": 0,
              "ticks": ""
             }
            },
            "type": "histogram"
           }
          ],
          "histogram2d": [
           {
            "colorbar": {
             "outlinewidth": 0,
             "ticks": ""
            },
            "colorscale": [
             [
              0,
              "#0d0887"
             ],
             [
              0.1111111111111111,
              "#46039f"
             ],
             [
              0.2222222222222222,
              "#7201a8"
             ],
             [
              0.3333333333333333,
              "#9c179e"
             ],
             [
              0.4444444444444444,
              "#bd3786"
             ],
             [
              0.5555555555555556,
              "#d8576b"
             ],
             [
              0.6666666666666666,
              "#ed7953"
             ],
             [
              0.7777777777777778,
              "#fb9f3a"
             ],
             [
              0.8888888888888888,
              "#fdca26"
             ],
             [
              1,
              "#f0f921"
             ]
            ],
            "type": "histogram2d"
           }
          ],
          "histogram2dcontour": [
           {
            "colorbar": {
             "outlinewidth": 0,
             "ticks": ""
            },
            "colorscale": [
             [
              0,
              "#0d0887"
             ],
             [
              0.1111111111111111,
              "#46039f"
             ],
             [
              0.2222222222222222,
              "#7201a8"
             ],
             [
              0.3333333333333333,
              "#9c179e"
             ],
             [
              0.4444444444444444,
              "#bd3786"
             ],
             [
              0.5555555555555556,
              "#d8576b"
             ],
             [
              0.6666666666666666,
              "#ed7953"
             ],
             [
              0.7777777777777778,
              "#fb9f3a"
             ],
             [
              0.8888888888888888,
              "#fdca26"
             ],
             [
              1,
              "#f0f921"
             ]
            ],
            "type": "histogram2dcontour"
           }
          ],
          "mesh3d": [
           {
            "colorbar": {
             "outlinewidth": 0,
             "ticks": ""
            },
            "type": "mesh3d"
           }
          ],
          "parcoords": [
           {
            "line": {
             "colorbar": {
              "outlinewidth": 0,
              "ticks": ""
             }
            },
            "type": "parcoords"
           }
          ],
          "pie": [
           {
            "automargin": true,
            "type": "pie"
           }
          ],
          "scatter": [
           {
            "marker": {
             "colorbar": {
              "outlinewidth": 0,
              "ticks": ""
             }
            },
            "type": "scatter"
           }
          ],
          "scatter3d": [
           {
            "line": {
             "colorbar": {
              "outlinewidth": 0,
              "ticks": ""
             }
            },
            "marker": {
             "colorbar": {
              "outlinewidth": 0,
              "ticks": ""
             }
            },
            "type": "scatter3d"
           }
          ],
          "scattercarpet": [
           {
            "marker": {
             "colorbar": {
              "outlinewidth": 0,
              "ticks": ""
             }
            },
            "type": "scattercarpet"
           }
          ],
          "scattergeo": [
           {
            "marker": {
             "colorbar": {
              "outlinewidth": 0,
              "ticks": ""
             }
            },
            "type": "scattergeo"
           }
          ],
          "scattergl": [
           {
            "marker": {
             "colorbar": {
              "outlinewidth": 0,
              "ticks": ""
             }
            },
            "type": "scattergl"
           }
          ],
          "scattermapbox": [
           {
            "marker": {
             "colorbar": {
              "outlinewidth": 0,
              "ticks": ""
             }
            },
            "type": "scattermapbox"
           }
          ],
          "scatterpolar": [
           {
            "marker": {
             "colorbar": {
              "outlinewidth": 0,
              "ticks": ""
             }
            },
            "type": "scatterpolar"
           }
          ],
          "scatterpolargl": [
           {
            "marker": {
             "colorbar": {
              "outlinewidth": 0,
              "ticks": ""
             }
            },
            "type": "scatterpolargl"
           }
          ],
          "scatterternary": [
           {
            "marker": {
             "colorbar": {
              "outlinewidth": 0,
              "ticks": ""
             }
            },
            "type": "scatterternary"
           }
          ],
          "surface": [
           {
            "colorbar": {
             "outlinewidth": 0,
             "ticks": ""
            },
            "colorscale": [
             [
              0,
              "#0d0887"
             ],
             [
              0.1111111111111111,
              "#46039f"
             ],
             [
              0.2222222222222222,
              "#7201a8"
             ],
             [
              0.3333333333333333,
              "#9c179e"
             ],
             [
              0.4444444444444444,
              "#bd3786"
             ],
             [
              0.5555555555555556,
              "#d8576b"
             ],
             [
              0.6666666666666666,
              "#ed7953"
             ],
             [
              0.7777777777777778,
              "#fb9f3a"
             ],
             [
              0.8888888888888888,
              "#fdca26"
             ],
             [
              1,
              "#f0f921"
             ]
            ],
            "type": "surface"
           }
          ],
          "table": [
           {
            "cells": {
             "fill": {
              "color": "#EBF0F8"
             },
             "line": {
              "color": "white"
             }
            },
            "header": {
             "fill": {
              "color": "#C8D4E3"
             },
             "line": {
              "color": "white"
             }
            },
            "type": "table"
           }
          ]
         },
         "layout": {
          "annotationdefaults": {
           "arrowcolor": "#2a3f5f",
           "arrowhead": 0,
           "arrowwidth": 1
          },
          "coloraxis": {
           "colorbar": {
            "outlinewidth": 0,
            "ticks": ""
           }
          },
          "colorscale": {
           "diverging": [
            [
             0,
             "#8e0152"
            ],
            [
             0.1,
             "#c51b7d"
            ],
            [
             0.2,
             "#de77ae"
            ],
            [
             0.3,
             "#f1b6da"
            ],
            [
             0.4,
             "#fde0ef"
            ],
            [
             0.5,
             "#f7f7f7"
            ],
            [
             0.6,
             "#e6f5d0"
            ],
            [
             0.7,
             "#b8e186"
            ],
            [
             0.8,
             "#7fbc41"
            ],
            [
             0.9,
             "#4d9221"
            ],
            [
             1,
             "#276419"
            ]
           ],
           "sequential": [
            [
             0,
             "#0d0887"
            ],
            [
             0.1111111111111111,
             "#46039f"
            ],
            [
             0.2222222222222222,
             "#7201a8"
            ],
            [
             0.3333333333333333,
             "#9c179e"
            ],
            [
             0.4444444444444444,
             "#bd3786"
            ],
            [
             0.5555555555555556,
             "#d8576b"
            ],
            [
             0.6666666666666666,
             "#ed7953"
            ],
            [
             0.7777777777777778,
             "#fb9f3a"
            ],
            [
             0.8888888888888888,
             "#fdca26"
            ],
            [
             1,
             "#f0f921"
            ]
           ],
           "sequentialminus": [
            [
             0,
             "#0d0887"
            ],
            [
             0.1111111111111111,
             "#46039f"
            ],
            [
             0.2222222222222222,
             "#7201a8"
            ],
            [
             0.3333333333333333,
             "#9c179e"
            ],
            [
             0.4444444444444444,
             "#bd3786"
            ],
            [
             0.5555555555555556,
             "#d8576b"
            ],
            [
             0.6666666666666666,
             "#ed7953"
            ],
            [
             0.7777777777777778,
             "#fb9f3a"
            ],
            [
             0.8888888888888888,
             "#fdca26"
            ],
            [
             1,
             "#f0f921"
            ]
           ]
          },
          "colorway": [
           "#636efa",
           "#EF553B",
           "#00cc96",
           "#ab63fa",
           "#FFA15A",
           "#19d3f3",
           "#FF6692",
           "#B6E880",
           "#FF97FF",
           "#FECB52"
          ],
          "font": {
           "color": "#2a3f5f"
          },
          "geo": {
           "bgcolor": "white",
           "lakecolor": "white",
           "landcolor": "white",
           "showlakes": true,
           "showland": true,
           "subunitcolor": "#C8D4E3"
          },
          "hoverlabel": {
           "align": "left"
          },
          "hovermode": "closest",
          "mapbox": {
           "style": "light"
          },
          "paper_bgcolor": "white",
          "plot_bgcolor": "white",
          "polar": {
           "angularaxis": {
            "gridcolor": "#EBF0F8",
            "linecolor": "#EBF0F8",
            "ticks": ""
           },
           "bgcolor": "white",
           "radialaxis": {
            "gridcolor": "#EBF0F8",
            "linecolor": "#EBF0F8",
            "ticks": ""
           }
          },
          "scene": {
           "xaxis": {
            "backgroundcolor": "white",
            "gridcolor": "#DFE8F3",
            "gridwidth": 2,
            "linecolor": "#EBF0F8",
            "showbackground": true,
            "ticks": "",
            "zerolinecolor": "#EBF0F8"
           },
           "yaxis": {
            "backgroundcolor": "white",
            "gridcolor": "#DFE8F3",
            "gridwidth": 2,
            "linecolor": "#EBF0F8",
            "showbackground": true,
            "ticks": "",
            "zerolinecolor": "#EBF0F8"
           },
           "zaxis": {
            "backgroundcolor": "white",
            "gridcolor": "#DFE8F3",
            "gridwidth": 2,
            "linecolor": "#EBF0F8",
            "showbackground": true,
            "ticks": "",
            "zerolinecolor": "#EBF0F8"
           }
          },
          "shapedefaults": {
           "line": {
            "color": "#2a3f5f"
           }
          },
          "ternary": {
           "aaxis": {
            "gridcolor": "#DFE8F3",
            "linecolor": "#A2B1C6",
            "ticks": ""
           },
           "baxis": {
            "gridcolor": "#DFE8F3",
            "linecolor": "#A2B1C6",
            "ticks": ""
           },
           "bgcolor": "white",
           "caxis": {
            "gridcolor": "#DFE8F3",
            "linecolor": "#A2B1C6",
            "ticks": ""
           }
          },
          "title": {
           "x": 0.05
          },
          "xaxis": {
           "automargin": true,
           "gridcolor": "#EBF0F8",
           "linecolor": "#EBF0F8",
           "ticks": "",
           "title": {
            "standoff": 15
           },
           "zerolinecolor": "#EBF0F8",
           "zerolinewidth": 2
          },
          "yaxis": {
           "automargin": true,
           "gridcolor": "#EBF0F8",
           "linecolor": "#EBF0F8",
           "ticks": "",
           "title": {
            "standoff": 15
           },
           "zerolinecolor": "#EBF0F8",
           "zerolinewidth": 2
          }
         }
        },
        "updatemenus": [
         {
          "buttons": [
           {
            "args": [
             {
              "visible": [
               true,
               true,
               true,
               true,
               true,
               false,
               false,
               false,
               false,
               false,
               false,
               false,
               false,
               false,
               false,
               false,
               false,
               false,
               false,
               false,
               false,
               false,
               false,
               false,
               false,
               false,
               false,
               false,
               false,
               false,
               false,
               false,
               false,
               false,
               false,
               false,
               false,
               false,
               false,
               false
              ]
             }
            ],
            "label": "ID: 40",
            "method": "restyle"
           },
           {
            "args": [
             {
              "visible": [
               false,
               false,
               false,
               false,
               false,
               true,
               true,
               true,
               true,
               true,
               false,
               false,
               false,
               false,
               false,
               false,
               false,
               false,
               false,
               false,
               false,
               false,
               false,
               false,
               false,
               false,
               false,
               false,
               false,
               false,
               false,
               false,
               false,
               false,
               false,
               false,
               false,
               false,
               false,
               false
              ]
             }
            ],
            "label": "ID: 94",
            "method": "restyle"
           },
           {
            "args": [
             {
              "visible": [
               false,
               false,
               false,
               false,
               false,
               false,
               false,
               false,
               false,
               false,
               true,
               true,
               true,
               true,
               true,
               false,
               false,
               false,
               false,
               false,
               false,
               false,
               false,
               false,
               false,
               false,
               false,
               false,
               false,
               false,
               false,
               false,
               false,
               false,
               false,
               false,
               false,
               false,
               false,
               false
              ]
             }
            ],
            "label": "ID: 95",
            "method": "restyle"
           },
           {
            "args": [
             {
              "visible": [
               false,
               false,
               false,
               false,
               false,
               false,
               false,
               false,
               false,
               false,
               false,
               false,
               false,
               false,
               false,
               true,
               true,
               true,
               true,
               true,
               false,
               false,
               false,
               false,
               false,
               false,
               false,
               false,
               false,
               false,
               false,
               false,
               false,
               false,
               false,
               false,
               false,
               false,
               false,
               false
              ]
             }
            ],
            "label": "ID: 136",
            "method": "restyle"
           },
           {
            "args": [
             {
              "visible": [
               false,
               false,
               false,
               false,
               false,
               false,
               false,
               false,
               false,
               false,
               false,
               false,
               false,
               false,
               false,
               false,
               false,
               false,
               false,
               false,
               true,
               true,
               true,
               true,
               true,
               false,
               false,
               false,
               false,
               false,
               false,
               false,
               false,
               false,
               false,
               false,
               false,
               false,
               false,
               false
              ]
             }
            ],
            "label": "ID: 140",
            "method": "restyle"
           },
           {
            "args": [
             {
              "visible": [
               false,
               false,
               false,
               false,
               false,
               false,
               false,
               false,
               false,
               false,
               false,
               false,
               false,
               false,
               false,
               false,
               false,
               false,
               false,
               false,
               false,
               false,
               false,
               false,
               false,
               true,
               true,
               true,
               true,
               true,
               false,
               false,
               false,
               false,
               false,
               false,
               false,
               false,
               false,
               false
              ]
             }
            ],
            "label": "ID: 155",
            "method": "restyle"
           },
           {
            "args": [
             {
              "visible": [
               false,
               false,
               false,
               false,
               false,
               false,
               false,
               false,
               false,
               false,
               false,
               false,
               false,
               false,
               false,
               false,
               false,
               false,
               false,
               false,
               false,
               false,
               false,
               false,
               false,
               false,
               false,
               false,
               false,
               false,
               true,
               true,
               true,
               true,
               true,
               false,
               false,
               false,
               false,
               false
              ]
             }
            ],
            "label": "ID: 169",
            "method": "restyle"
           },
           {
            "args": [
             {
              "visible": [
               false,
               false,
               false,
               false,
               false,
               false,
               false,
               false,
               false,
               false,
               false,
               false,
               false,
               false,
               false,
               false,
               false,
               false,
               false,
               false,
               false,
               false,
               false,
               false,
               false,
               false,
               false,
               false,
               false,
               false,
               false,
               false,
               false,
               false,
               false,
               true,
               true,
               true,
               true,
               true
              ]
             }
            ],
            "label": "ID: 170",
            "method": "restyle"
           }
          ],
          "direction": "right",
          "pad": {
           "r": 0,
           "t": -10
          },
          "showactive": true,
          "type": "buttons",
          "x": 0,
          "xanchor": "left",
          "y": 1.1,
          "yanchor": "top"
         }
        ]
       }
      }
     },
     "metadata": {}
    }
   ],
   "source": [
    "#\n",
    "# Visualisation of the spread of optimised model parameters for multiple runs from different initial points.\n",
    "#\n",
    "# This cell needs the above optimised parameters, and their respective objective function scores, as well as the data\n",
    "# [mouse_parameters, log_posterior_scores, data]\n",
    "#\n",
    "\n",
    "import plotly.colors\n",
    "import plotly.graph_objects as go\n",
    "\n",
    "\n",
    "# Get mouse ids\n",
    "mouse_ids = data['#ID'].unique()\n",
    "\n",
    "# Get number of parameters + score (for visualisation)\n",
    "n_params = mouse_parameters.shape[2] + 1\n",
    "\n",
    "# Define colorscheme\n",
    "colors = plotly.colors.qualitative.Plotly[:n_params]\n",
    "\n",
    "# Get optimised parameters\n",
    "optimised_parameters = mouse_parameters\n",
    "\n",
    "# Get optimised parameters\n",
    "scores = log_posterior_scores\n",
    "\n",
    "# Create figure\n",
    "fig = go.Figure()\n",
    "\n",
    "# Box plot of optimised model parameters\n",
    "for index, id_m in enumerate(mouse_ids):\n",
    "    # Get optimised parameters\n",
    "    parameters = optimised_parameters[index, ...]\n",
    "\n",
    "    # Get scores\n",
    "    score = scores[index, :]\n",
    "\n",
    "    # Create box plot of for initial tumour volume\n",
    "    fig.add_trace(\n",
    "        go.Box(\n",
    "            y=parameters[:, 0],  \n",
    "            name=\"Initial tumour volume in cm^3\",\n",
    "            boxpoints='all',\n",
    "            jitter=0.2,\n",
    "            pointpos=-1.5,\n",
    "            visible=True if index == 0 else False,\n",
    "            marker=dict(\n",
    "                symbol='circle',\n",
    "                opacity=0.7,\n",
    "                line=dict(color='black', width=1)),\n",
    "            marker_color=colors[0],\n",
    "            line_color=colors[0]))\n",
    "\n",
    "    # Create box plot for critical volume\n",
    "    fig.add_trace(\n",
    "        go.Box(\n",
    "            y=parameters[:, 1],  \n",
    "            name=\"Critical volume in cm^3\",\n",
    "            boxpoints='all',\n",
    "            jitter=0.2,\n",
    "            pointpos=-1.5,\n",
    "            visible=True if index == 0 else False,\n",
    "            marker=dict(\n",
    "                symbol='circle',\n",
    "                opacity=0.7,\n",
    "                line=dict(color='black', width=1)),\n",
    "            marker_color=colors[1],\n",
    "            line_color=colors[1]))\n",
    "\n",
    "    # Create box plot of for exponential tumour growth\n",
    "    fig.add_trace(\n",
    "        go.Box(\n",
    "            y=parameters[:, 2],  \n",
    "            name=\"Exponential growth rate in 1/day\",\n",
    "            boxpoints='all',\n",
    "            jitter=0.2,\n",
    "            pointpos=-1.5,\n",
    "            visible=True if index == 0 else False,\n",
    "            marker=dict(\n",
    "                symbol='circle',\n",
    "                opacity=0.7,\n",
    "                line=dict(color='black', width=1)),\n",
    "            marker_color=colors[2],\n",
    "            line_color=colors[2]))\n",
    "\n",
    "    # Create box plot for sigma\n",
    "    fig.add_trace(\n",
    "        go.Box(\n",
    "            y=parameters[:, 3],  \n",
    "            name=\"Standard deviation in cm^3\",\n",
    "            boxpoints='all',\n",
    "            jitter=0.2,\n",
    "            pointpos=-1.5,\n",
    "            visible=True if index == 0 else False,\n",
    "            marker=dict(\n",
    "                symbol='circle',\n",
    "                opacity=0.7,\n",
    "                line=dict(color='black', width=1)),\n",
    "            marker_color=colors[3],\n",
    "            line_color=colors[3]))\n",
    "    \n",
    "    # Create box plot of for objective function score\n",
    "    fig.add_trace(\n",
    "        go.Box(\n",
    "            y=score,  \n",
    "            name=\"Unnorm. log-posterior score\",\n",
    "            boxpoints='all',\n",
    "            jitter=0.2,\n",
    "            pointpos=-1.5,\n",
    "            visible=True if index == 0 else False,\n",
    "            marker=dict(\n",
    "                symbol='circle',\n",
    "                opacity=0.7,\n",
    "                line=dict(color='black', width=1)),\n",
    "            marker_color=colors[4],\n",
    "            line_color=colors[4]))\n",
    "\n",
    "# Set figure size\n",
    "fig.update_layout(\n",
    "    autosize=True,\n",
    "    template=\"plotly_white\")\n",
    "\n",
    "# Add switch between mice\n",
    "fig.update_layout(\n",
    "    updatemenus=[\n",
    "        dict(\n",
    "            type = \"buttons\",\n",
    "            direction = \"right\",\n",
    "            buttons=list([\n",
    "                dict(\n",
    "                    args=[{\"visible\": [True]*5 + [False]*(5 * 7)}],\n",
    "                    label=\"ID: %d\" % mouse_ids[0],\n",
    "                    method=\"restyle\"\n",
    "                ),\n",
    "                dict(\n",
    "                    args=[{\"visible\": [False]*5 + [True]*5 + [False]*(5 * 6)}],\n",
    "                    label=\"ID: %d\" % mouse_ids[1],\n",
    "                    method=\"restyle\"\n",
    "                ),\n",
    "                dict(\n",
    "                    args=[{\"visible\": [False]*(5 * 2) + [True]*5 + [False]*(5 * 5)}],\n",
    "                    label=\"ID: %d\" % mouse_ids[2],\n",
    "                    method=\"restyle\"\n",
    "                ),\n",
    "                dict(\n",
    "                    args=[{\"visible\": [False]*(5 * 3) + [True]*5 + [False]*(5 * 4)}],\n",
    "                    label=\"ID: %d\" % mouse_ids[3],\n",
    "                    method=\"restyle\"\n",
    "                ),\n",
    "                dict(\n",
    "                    args=[{\"visible\": [False]*(5 * 4) + [True]*5 + [False]*(5 * 3)}],\n",
    "                    label=\"ID: %d\" % mouse_ids[4],\n",
    "                    method=\"restyle\"\n",
    "                ),\n",
    "                dict(\n",
    "                    args=[{\"visible\": [False]*(5 * 5) + [True]*5 + [False]*(5 * 2)}],\n",
    "                    label=\"ID: %d\" % mouse_ids[5],\n",
    "                    method=\"restyle\"\n",
    "                ),\n",
    "                dict(\n",
    "                    args=[{\"visible\": [False]*(5 * 6) + [True]*5 + [False]* 5}],\n",
    "                    label=\"ID: %d\" % mouse_ids[6],\n",
    "                    method=\"restyle\"\n",
    "                ),\n",
    "                dict(\n",
    "                    args=[{\"visible\": [False]*(5 * 7) + [True]*5}],\n",
    "                    label=\"ID: %d\" % mouse_ids[7],\n",
    "                    method=\"restyle\"\n",
    "                )\n",
    "            ]),\n",
    "            pad={\"r\": 0, \"t\": -10},\n",
    "            showactive=True,\n",
    "            x=0.0,\n",
    "            xanchor=\"left\",\n",
    "            y=1.1,\n",
    "            yanchor=\"top\"\n",
    "        )\n",
    "    ]\n",
    ")\n",
    "\n",
    "# Position legend\n",
    "fig.update_layout(legend=dict(\n",
    "    yanchor=\"bottom\",\n",
    "    y=0.01,\n",
    "    xanchor=\"left\",\n",
    "    x=1.05))\n",
    "\n",
    "# Show figure\n",
    "fig.show()\n"
   ]
  },
  {
   "cell_type": "markdown",
   "metadata": {},
   "source": [
    "** Figure 2 - Independent noise:** Scatter and box plot of the structural and error model parameter estimates $(\\hat \\psi , \\hat \\sigma )$ found by maximising the log-posterior for each mouse using a CMA-ES optimiser. The structural model parameters $\\psi $ were assigned log-uniform priors, while the noise parameter $\\sigma $ was assigned with a Half-Cauchy prior. For each mouse the optimisation routine was run 10 times from a starting point randomly sampled from the prior. In addition to the parameter estimates, also the distribution of the associated unnormalised log-posterior scores is presented."
   ]
  },
  {
   "cell_type": "markdown",
   "metadata": {},
   "source": [
    "Discussion"
   ]
  },
  {
   "cell_type": "markdown",
   "metadata": {},
   "source": [
    "### Visual check: Validity of error model\n",
    "\n",
    "- Predict tumour growth with structural model using median of optimised model parameters\n",
    "\n",
    "- Plot\n",
    "    1. Structural model predictions versus observations\n",
    "    2. Residulas versus observations\n",
    "\n",
    "- Both plots should include 1, 2, 3 sigma intervals of inferred model."
   ]
  },
  {
   "cell_type": "code",
   "execution_count": 12,
   "metadata": {
    "tags": []
   },
   "outputs": [],
   "source": [
    "#\n",
    "# Compute structural model predictions for each mouse.\n",
    "#\n",
    "# This cell needs the above optimised (non-dimensional) model parameters, the number of structural model parameters, and the characteristic time and volume scale:\n",
    "# [transf_params, n_structural_params, characteristic_time, characteristic_volume]\n",
    "#\n",
    "\n",
    "import os\n",
    "\n",
    "import numpy as np\n",
    "import pandas as pd\n",
    "\n",
    "\n",
    "# Import data\n",
    "# Get path of current working directory\n",
    "path = os.getcwd()\n",
    "\n",
    "# Import LXF A677 control growth data\n",
    "data = pd.read_csv(path + '/data/lxf_control_growth.csv')\n",
    "\n",
    "# Get mouse IDs and times\n",
    "mouse_ids_and_times = data[['#ID', 'TIME in day']]\n",
    "\n",
    "# Get median parameters for each mouse\n",
    "median_parameters = np.median(transf_params, axis=1)\n",
    "\n",
    "# Instantiate model\n",
    "model = DimensionlessLogTransformedPintsModel()\n",
    "\n",
    "# Create container for simulated synthesised data\n",
    "structural_model_predictions = []\n",
    "\n",
    "# Simulate \"noise-free\" data\n",
    "mouse_ids = mouse_ids_and_times['#ID'].unique()\n",
    "for index, mouse_id in enumerate(mouse_ids):\n",
    "    # Create mask for mouse\n",
    "    mask = mouse_ids_and_times['#ID'] == mouse_id\n",
    "\n",
    "    # Get times\n",
    "    times = mouse_ids_and_times[mask]['TIME in day'].to_numpy() / characteristic_time\n",
    "\n",
    "    # Get parameters\n",
    "    parameters = median_parameters[index, :n_structural_params]\n",
    "\n",
    "    # Predict volumes\n",
    "    predicted_volumes = model.simulate(parameters, times) * characteristic_volume\n",
    "\n",
    "    # Save dataframe\n",
    "    df = pd.DataFrame({\n",
    "        '#ID': mouse_ids_and_times[mask]['#ID'],\n",
    "        'TIME in day': mouse_ids_and_times[mask]['TIME in day'],\n",
    "        'PREDICTED TUMOUR VOLUME in cm^3': predicted_volumes})\n",
    "    structural_model_predictions.append(df)\n",
    "\n",
    "# Merge mouse dataframes to one dataframe\n",
    "structural_model_predictions = pd.concat(structural_model_predictions)"
   ]
  },
  {
   "cell_type": "code",
   "execution_count": 45,
   "metadata": {},
   "outputs": [
    {
     "output_type": "display_data",
     "data": {
      "application/vnd.plotly.v1+json": {
       "config": {
        "plotlyServerURL": "https://plot.ly"
       },
       "data": [
        {
         "hovertemplate": "<b>ID: 40</b><br>Structural model: %{x:.02f} cm^3<br>Measurement: %{y:.02f} cm^3<br>Cancer type: Lung cancer (LXF A677)<br><extra></extra>",
         "legendgroup": "Measurement",
         "marker": {
          "color": "#636EFA",
          "line": {
           "color": "black",
           "width": 1
          },
          "opacity": 0.7,
          "symbol": "circle"
         },
         "mode": "markers",
         "name": "Measurement",
         "showlegend": true,
         "type": "scatter",
         "visible": true,
         "x": [
          0.13937185612710104,
          0.2563182322581012,
          0.40775459991106544,
          0.6794428409299147,
          0.880051133816142,
          1.091050766126161,
          1.4210847924833985,
          1.647705965796381,
          1.8783943620466537,
          2.230355463994624
         ],
         "xaxis": "x",
         "y": [
          0.191808,
          0.249158,
          0.330672,
          0.6683669999999999,
          0.915008,
          1.119258,
          1.470432,
          1.6692479999999998,
          1.7521919999999997,
          2.276736
         ],
         "yaxis": "y"
        },
        {
         "hovertemplate": "<b>Error model: Mean</b><br>Hypothetical measurement: %{y:.02f} cm^3<br>Cancer type: Lung cancer (LXF A677)<br><extra></extra>",
         "legendgroup": "Error model",
         "line": {
          "color": "#636EFA"
         },
         "mode": "lines",
         "name": "Error model",
         "opacity": 0.7,
         "showlegend": true,
         "type": "scatter",
         "visible": true,
         "x": [
          0.13937185612710104,
          0.2563182322581012,
          0.40775459991106544,
          0.6794428409299147,
          0.880051133816142,
          1.091050766126161,
          1.4210847924833985,
          1.647705965796381,
          1.8783943620466537,
          2.230355463994624
         ],
         "xaxis": "x",
         "y": [
          0.13937185612710104,
          0.2563182322581012,
          0.40775459991106544,
          0.6794428409299147,
          0.880051133816142,
          1.091050766126161,
          1.4210847924833985,
          1.647705965796381,
          1.8783943620466537,
          2.230355463994624
         ],
         "yaxis": "y"
        },
        {
         "hovertemplate": "<b>Error model: 1-sigma interval</b><br>Hypothetical measurement: %{y:.02f} cm^3<br>Cancer type: Lung cancer (LXF A677)<br><extra></extra>",
         "legendgroup": "Error model",
         "line": {
          "color": "Black"
         },
         "mode": "lines",
         "name": "Error model",
         "opacity": 0.7,
         "showlegend": false,
         "type": "scatter",
         "visible": true,
         "x": [
          0.13937185612710104,
          0.2563182322581012,
          0.40775459991106544,
          0.6794428409299147,
          0.880051133816142,
          1.091050766126161,
          1.4210847924833985,
          1.647705965796381,
          1.8783943620466537,
          2.230355463994624
         ],
         "xaxis": "x",
         "y": [
          0.19590049272124427,
          0.31284686885224444,
          0.4642832365052087,
          0.7359714775240579,
          0.9365797704102852,
          1.1475794027203043,
          1.4776134290775418,
          1.7042346023905244,
          1.934922998640797,
          2.2868841005887672
         ],
         "yaxis": "y"
        },
        {
         "hovertemplate": "<b>Error model: 1-sigma interval</b><br>Hypothetical measurement: %{y:.02f} cm^3<br>Cancer type: Lung cancer (LXF A677)<br><extra></extra>",
         "legendgroup": "Error model",
         "line": {
          "color": "Black"
         },
         "mode": "lines",
         "name": "Error model",
         "opacity": 0.7,
         "showlegend": false,
         "type": "scatter",
         "visible": true,
         "x": [
          0.13937185612710104,
          0.2563182322581012,
          0.40775459991106544,
          0.6794428409299147,
          0.880051133816142,
          1.091050766126161,
          1.4210847924833985,
          1.647705965796381,
          1.8783943620466537,
          2.230355463994624
         ],
         "xaxis": "x",
         "y": [
          0.0828432195329578,
          0.19978959566395793,
          0.3512259633169222,
          0.6229142043357715,
          0.8235224972219988,
          1.0345221295320177,
          1.3645561558892552,
          1.5911773292022378,
          1.8218657254525104,
          2.1738268274004806
         ],
         "yaxis": "y"
        },
        {
         "hovertemplate": "<b>Error model: 2-sigma interval</b><br>Hypothetical measurement: %{y:.02f} cm^3<br>Cancer type: Lung cancer (LXF A677)<br><extra></extra>",
         "legendgroup": "Error model",
         "line": {
          "color": "Black",
          "width": 1.5
         },
         "mode": "lines",
         "name": "Error model",
         "opacity": 0.5,
         "showlegend": false,
         "type": "scatter",
         "visible": true,
         "x": [
          0.13937185612710104,
          0.2563182322581012,
          0.40775459991106544,
          0.6794428409299147,
          0.880051133816142,
          1.091050766126161,
          1.4210847924833985,
          1.647705965796381,
          1.8783943620466537,
          2.230355463994624
         ],
         "xaxis": "x",
         "y": [
          0.2524291293153875,
          0.36937550544638764,
          0.520811873099352,
          0.7925001141182012,
          0.9931084070044285,
          1.2041080393144474,
          1.5341420656716849,
          1.7607632389846675,
          1.99145163523494,
          2.3434127371829105
         ],
         "yaxis": "y"
        },
        {
         "hovertemplate": "<b>Error model: 2-sigma interval</b><br>Hypothetical measurement: %{y:.02f} cm^3<br>Cancer type: Lung cancer (LXF A677)<br><extra></extra>",
         "legendgroup": "Error model",
         "line": {
          "color": "Black",
          "width": 1.5
         },
         "mode": "lines",
         "name": "Error model",
         "opacity": 0.5,
         "showlegend": false,
         "type": "scatter",
         "visible": true,
         "x": [
          0.13937185612710104,
          0.2563182322581012,
          0.40775459991106544,
          0.6794428409299147,
          0.880051133816142,
          1.091050766126161,
          1.4210847924833985,
          1.647705965796381,
          1.8783943620466537,
          2.230355463994624
         ],
         "xaxis": "x",
         "y": [
          0.026314582938814557,
          0.1432609590698147,
          0.29469732672277893,
          0.5663855677416282,
          0.7669938606278555,
          0.9779934929378745,
          1.308027519295112,
          1.5346486926080947,
          1.7653370888583673,
          2.1172981908063373
         ],
         "yaxis": "y"
        },
        {
         "hovertemplate": "<b>Error model: 3-sigma interval</b><br>Hypothetical measurement: %{y:.02f} cm^3<br>Cancer type: Lung cancer (LXF A677)<br><extra></extra>",
         "legendgroup": "Error model",
         "line": {
          "color": "Black",
          "width": 1
         },
         "mode": "lines",
         "name": "Error model",
         "opacity": 0.3,
         "showlegend": false,
         "type": "scatter",
         "visible": true,
         "x": [
          0.13937185612710104,
          0.2563182322581012,
          0.40775459991106544,
          0.6794428409299147,
          0.880051133816142,
          1.091050766126161,
          1.4210847924833985,
          1.647705965796381,
          1.8783943620466537,
          2.230355463994624
         ],
         "xaxis": "x",
         "y": [
          0.3089577659095307,
          0.4259041420405309,
          0.5773405096934952,
          0.8490287507123444,
          1.0496370435985716,
          1.2606366759085907,
          1.5906707022658282,
          1.8172918755788108,
          2.0479802718290836,
          2.399941373777054
         ],
         "yaxis": "y"
        },
        {
         "hovertemplate": "<b>Error model: 3-sigma interval</b><br>Hypothetical measurement: %{y:.02f} cm^3<br>Cancer type: Lung cancer (LXF A677)<br><extra></extra>",
         "legendgroup": "Error model",
         "line": {
          "color": "Black",
          "width": 1
         },
         "mode": "lines",
         "name": "Error model",
         "opacity": 0.3,
         "showlegend": false,
         "type": "scatter",
         "visible": true,
         "x": [
          0.13937185612710104,
          0.2563182322581012,
          0.40775459991106544,
          0.6794428409299147,
          0.880051133816142,
          1.091050766126161,
          1.4210847924833985,
          1.647705965796381,
          1.8783943620466537,
          2.230355463994624
         ],
         "xaxis": "x",
         "y": [
          -0.03021405365532867,
          0.08673232247567148,
          0.23816869012863573,
          0.509856931147485,
          0.7104652240337123,
          0.9214648563437313,
          1.2514988827009688,
          1.4781200560139514,
          1.708808452264224,
          2.060769554212194
         ],
         "yaxis": "y"
        },
        {
         "hovertemplate": "<b>ID: 40</b><br>Structural model: %{x:.02f} cm^3<br>Residual: %{y:.02f} cm^3<br>Cancer type: Lung cancer (LXF A677)<br><extra></extra>",
         "legendgroup": "Measurement",
         "marker": {
          "color": "#636EFA",
          "line": {
           "color": "black",
           "width": 1
          },
          "opacity": 0.7,
          "symbol": "circle"
         },
         "mode": "markers",
         "name": "Measurement",
         "showlegend": false,
         "type": "scatter",
         "visible": true,
         "x": [
          0.13937185612710104,
          0.2563182322581012,
          0.40775459991106544,
          0.6794428409299147,
          0.880051133816142,
          1.091050766126161,
          1.4210847924833985,
          1.647705965796381,
          1.8783943620466537,
          2.230355463994624
         ],
         "xaxis": "x2",
         "y": [
          0.052436143872898966,
          -0.007160232258101196,
          -0.07708259991106542,
          -0.01107584092991476,
          0.03495686618385807,
          0.028207233873839055,
          0.04934720751660149,
          0.021542034203618776,
          -0.12620236204665392,
          0.04638053600537617
         ],
         "yaxis": "y2"
        },
        {
         "hovertemplate": "<b>Error model: Mean</b><br>Hypothetical residual: %{y:.02f} cm^3<br>Cancer type: Lung cancer (LXF A677)<br><extra></extra>",
         "legendgroup": "Error model",
         "line": {
          "color": "#636EFA"
         },
         "mode": "lines",
         "name": "Error model",
         "opacity": 0.7,
         "showlegend": false,
         "type": "scatter",
         "visible": true,
         "x": [
          0.13937185612710104,
          0.2563182322581012,
          0.40775459991106544,
          0.6794428409299147,
          0.880051133816142,
          1.091050766126161,
          1.4210847924833985,
          1.647705965796381,
          1.8783943620466537,
          2.230355463994624
         ],
         "xaxis": "x2",
         "y": [
          0,
          0,
          0,
          0,
          0,
          0,
          0,
          0,
          0,
          0
         ],
         "yaxis": "y2"
        },
        {
         "hovertemplate": "<b>Error model: 1-sigma interval</b><br>Hypothetical residual: %{y:.02f} cm^3<br>Cancer type: Lung cancer (LXF A677)<br><extra></extra>",
         "legendgroup": "Error model",
         "line": {
          "color": "Black"
         },
         "mode": "lines",
         "name": "Error model",
         "opacity": 0.7,
         "showlegend": false,
         "type": "scatter",
         "visible": true,
         "x": [
          0.13937185612710104,
          0.2563182322581012,
          0.40775459991106544,
          0.6794428409299147,
          0.880051133816142,
          1.091050766126161,
          1.4210847924833985,
          1.647705965796381,
          1.8783943620466537,
          2.230355463994624
         ],
         "xaxis": "x2",
         "y": [
          0.05652863659414324,
          0.05652863659414324,
          0.05652863659414324,
          0.05652863659414324,
          0.05652863659414324,
          0.05652863659414324,
          0.05652863659414324,
          0.05652863659414324,
          0.05652863659414324,
          0.05652863659414324
         ],
         "yaxis": "y2"
        },
        {
         "hovertemplate": "<b>Error model: 1-sigma interval</b><br>Hypothetical measurement: %{y:.02f} cm^3<br>Cancer type: Lung cancer (LXF A677)<br><extra></extra>",
         "legendgroup": "Error model",
         "line": {
          "color": "Black"
         },
         "mode": "lines",
         "name": "Error model",
         "opacity": 0.7,
         "showlegend": false,
         "type": "scatter",
         "visible": true,
         "x": [
          0.13937185612710104,
          0.2563182322581012,
          0.40775459991106544,
          0.6794428409299147,
          0.880051133816142,
          1.091050766126161,
          1.4210847924833985,
          1.647705965796381,
          1.8783943620466537,
          2.230355463994624
         ],
         "xaxis": "x2",
         "y": [
          -0.05652863659414324,
          -0.05652863659414324,
          -0.05652863659414324,
          -0.05652863659414324,
          -0.05652863659414324,
          -0.05652863659414324,
          -0.05652863659414324,
          -0.05652863659414324,
          -0.05652863659414324,
          -0.05652863659414324
         ],
         "yaxis": "y2"
        },
        {
         "hovertemplate": "<b>Error model: 2-sigma interval</b><br>Hypothetical residual: %{y:.02f} cm^3<br>Cancer type: Lung cancer (LXF A677)<br><extra></extra>",
         "legendgroup": "Error model",
         "line": {
          "color": "Black"
         },
         "mode": "lines",
         "name": "Error model",
         "opacity": 0.5,
         "showlegend": false,
         "type": "scatter",
         "visible": true,
         "x": [
          0.13937185612710104,
          0.2563182322581012,
          0.40775459991106544,
          0.6794428409299147,
          0.880051133816142,
          1.091050766126161,
          1.4210847924833985,
          1.647705965796381,
          1.8783943620466537,
          2.230355463994624
         ],
         "xaxis": "x2",
         "y": [
          0.11305727318828648,
          0.11305727318828648,
          0.11305727318828648,
          0.11305727318828648,
          0.11305727318828648,
          0.11305727318828648,
          0.11305727318828648,
          0.11305727318828648,
          0.11305727318828648,
          0.11305727318828648
         ],
         "yaxis": "y2"
        },
        {
         "hovertemplate": "<b>Error model: 2-sigma interval</b><br>Hypothetical measurement: %{y:.02f} cm^3<br>Cancer type: Lung cancer (LXF A677)<br><extra></extra>",
         "legendgroup": "Error model",
         "line": {
          "color": "Black"
         },
         "mode": "lines",
         "name": "Error model",
         "opacity": 0.5,
         "showlegend": false,
         "type": "scatter",
         "visible": true,
         "x": [
          0.13937185612710104,
          0.2563182322581012,
          0.40775459991106544,
          0.6794428409299147,
          0.880051133816142,
          1.091050766126161,
          1.4210847924833985,
          1.647705965796381,
          1.8783943620466537,
          2.230355463994624
         ],
         "xaxis": "x2",
         "y": [
          -0.11305727318828648,
          -0.11305727318828648,
          -0.11305727318828648,
          -0.11305727318828648,
          -0.11305727318828648,
          -0.11305727318828648,
          -0.11305727318828648,
          -0.11305727318828648,
          -0.11305727318828648,
          -0.11305727318828648
         ],
         "yaxis": "y2"
        },
        {
         "hovertemplate": "<b>Error model: 3-sigma interval</b><br>Hypothetical residual: %{y:.02f} cm^3<br>Cancer type: Lung cancer (LXF A677)<br><extra></extra>",
         "legendgroup": "Error model",
         "line": {
          "color": "Black"
         },
         "mode": "lines",
         "name": "Error model",
         "opacity": 0.3,
         "showlegend": false,
         "type": "scatter",
         "visible": true,
         "x": [
          0.13937185612710104,
          0.2563182322581012,
          0.40775459991106544,
          0.6794428409299147,
          0.880051133816142,
          1.091050766126161,
          1.4210847924833985,
          1.647705965796381,
          1.8783943620466537,
          2.230355463994624
         ],
         "xaxis": "x2",
         "y": [
          0.1695859097824297,
          0.1695859097824297,
          0.1695859097824297,
          0.1695859097824297,
          0.1695859097824297,
          0.1695859097824297,
          0.1695859097824297,
          0.1695859097824297,
          0.1695859097824297,
          0.1695859097824297
         ],
         "yaxis": "y2"
        },
        {
         "hovertemplate": "<b>Error model: 3-sigma interval</b><br>Hypothetical measurement: %{y:.02f} cm^3<br>Cancer type: Lung cancer (LXF A677)<br><extra></extra>",
         "legendgroup": "Error model",
         "line": {
          "color": "Black"
         },
         "mode": "lines",
         "name": "Error model",
         "opacity": 0.3,
         "showlegend": false,
         "type": "scatter",
         "visible": true,
         "x": [
          0.13937185612710104,
          0.2563182322581012,
          0.40775459991106544,
          0.6794428409299147,
          0.880051133816142,
          1.091050766126161,
          1.4210847924833985,
          1.647705965796381,
          1.8783943620466537,
          2.230355463994624
         ],
         "xaxis": "x2",
         "y": [
          -0.1695859097824297,
          -0.1695859097824297,
          -0.1695859097824297,
          -0.1695859097824297,
          -0.1695859097824297,
          -0.1695859097824297,
          -0.1695859097824297,
          -0.1695859097824297,
          -0.1695859097824297,
          -0.1695859097824297
         ],
         "yaxis": "y2"
        },
        {
         "hovertemplate": "<b>ID: 94</b><br>Structural model: %{x:.02f} cm^3<br>Measurement: %{y:.02f} cm^3<br>Cancer type: Lung cancer (LXF A677)<br><extra></extra>",
         "legendgroup": "Measurement",
         "marker": {
          "color": "#EF553B",
          "line": {
           "color": "black",
           "width": 1
          },
          "opacity": 0.7,
          "symbol": "circle"
         },
         "mode": "markers",
         "name": "Measurement",
         "showlegend": true,
         "type": "scatter",
         "visible": false,
         "x": [
          0.07468411303813567,
          0.09847790632508238,
          0.12470394900082221,
          0.16762707446703742,
          0.1980979230023861,
          0.2297447106362789,
          0.2789705639446174,
          0.3127189607093728,
          0.34706736528026616,
          0.399534031301463,
          0.43504050853095455,
          0.47090752817522036,
          0.5252922114279635,
          0.5618863135096059
         ],
         "xaxis": "x",
         "y": [
          0.07724750000000001,
          0.0884835,
          0.125316,
          0.165528,
          0.189486,
          0.264654,
          0.264654,
          0.306936,
          0.389207,
          0.389207,
          0.405769,
          0.4264715,
          0.5551309999999999,
          0.57624
         ],
         "yaxis": "y"
        },
        {
         "hovertemplate": "<b>Error model: Mean</b><br>Hypothetical measurement: %{y:.02f} cm^3<br>Cancer type: Lung cancer (LXF A677)<br><extra></extra>",
         "legendgroup": "Error model",
         "line": {
          "color": "#EF553B"
         },
         "mode": "lines",
         "name": "Error model",
         "opacity": 0.7,
         "showlegend": true,
         "type": "scatter",
         "visible": false,
         "x": [
          0.07468411303813567,
          0.09847790632508238,
          0.12470394900082221,
          0.16762707446703742,
          0.1980979230023861,
          0.2297447106362789,
          0.2789705639446174,
          0.3127189607093728,
          0.34706736528026616,
          0.399534031301463,
          0.43504050853095455,
          0.47090752817522036,
          0.5252922114279635,
          0.5618863135096059
         ],
         "xaxis": "x",
         "y": [
          0.07468411303813567,
          0.09847790632508238,
          0.12470394900082221,
          0.16762707446703742,
          0.1980979230023861,
          0.2297447106362789,
          0.2789705639446174,
          0.3127189607093728,
          0.34706736528026616,
          0.399534031301463,
          0.43504050853095455,
          0.47090752817522036,
          0.5252922114279635,
          0.5618863135096059
         ],
         "yaxis": "y"
        },
        {
         "hovertemplate": "<b>Error model: 1-sigma interval</b><br>Hypothetical measurement: %{y:.02f} cm^3<br>Cancer type: Lung cancer (LXF A677)<br><extra></extra>",
         "legendgroup": "Error model",
         "line": {
          "color": "Black"
         },
         "mode": "lines",
         "name": "Error model",
         "opacity": 0.7,
         "showlegend": false,
         "type": "scatter",
         "visible": false,
         "x": [
          0.07468411303813567,
          0.09847790632508238,
          0.12470394900082221,
          0.16762707446703742,
          0.1980979230023861,
          0.2297447106362789,
          0.2789705639446174,
          0.3127189607093728,
          0.34706736528026616,
          0.399534031301463,
          0.43504050853095455,
          0.47090752817522036,
          0.5252922114279635,
          0.5618863135096059
         ],
         "xaxis": "x",
         "y": [
          0.09775155694776014,
          0.12154535023470683,
          0.14777139291044666,
          0.19069451837666188,
          0.22116536691201055,
          0.2528121545459034,
          0.30203800785424184,
          0.3357864046189972,
          0.3701348091898906,
          0.42260147521108743,
          0.458107952440579,
          0.4939749720848448,
          0.5483596553375879,
          0.5849537574192304
         ],
         "yaxis": "y"
        },
        {
         "hovertemplate": "<b>Error model: 1-sigma interval</b><br>Hypothetical measurement: %{y:.02f} cm^3<br>Cancer type: Lung cancer (LXF A677)<br><extra></extra>",
         "legendgroup": "Error model",
         "line": {
          "color": "Black"
         },
         "mode": "lines",
         "name": "Error model",
         "opacity": 0.7,
         "showlegend": false,
         "type": "scatter",
         "visible": false,
         "x": [
          0.07468411303813567,
          0.09847790632508238,
          0.12470394900082221,
          0.16762707446703742,
          0.1980979230023861,
          0.2297447106362789,
          0.2789705639446174,
          0.3127189607093728,
          0.34706736528026616,
          0.399534031301463,
          0.43504050853095455,
          0.47090752817522036,
          0.5252922114279635,
          0.5618863135096059
         ],
         "xaxis": "x",
         "y": [
          0.05161666912851121,
          0.07541046241545793,
          0.10163650509119776,
          0.14455963055741297,
          0.17503047909276165,
          0.20667726672665446,
          0.25590312003499294,
          0.2896515167997483,
          0.3239999213706417,
          0.3764665873918385,
          0.4119730646213301,
          0.4478400842655959,
          0.502224767518339,
          0.5388188695999815
         ],
         "yaxis": "y"
        },
        {
         "hovertemplate": "<b>Error model: 2-sigma interval</b><br>Hypothetical measurement: %{y:.02f} cm^3<br>Cancer type: Lung cancer (LXF A677)<br><extra></extra>",
         "legendgroup": "Error model",
         "line": {
          "color": "Black",
          "width": 1.5
         },
         "mode": "lines",
         "name": "Error model",
         "opacity": 0.5,
         "showlegend": false,
         "type": "scatter",
         "visible": false,
         "x": [
          0.07468411303813567,
          0.09847790632508238,
          0.12470394900082221,
          0.16762707446703742,
          0.1980979230023861,
          0.2297447106362789,
          0.2789705639446174,
          0.3127189607093728,
          0.34706736528026616,
          0.399534031301463,
          0.43504050853095455,
          0.47090752817522036,
          0.5252922114279635,
          0.5618863135096059
         ],
         "xaxis": "x",
         "y": [
          0.12081900085738459,
          0.1446127941443313,
          0.17083883682007112,
          0.21376196228628636,
          0.244232810821635,
          0.27587959845552784,
          0.3251054517638663,
          0.3588538485286217,
          0.39320225309951506,
          0.4456689191207119,
          0.48117539635020345,
          0.5170424159944693,
          0.5714270992472124,
          0.6080212013288548
         ],
         "yaxis": "y"
        },
        {
         "hovertemplate": "<b>Error model: 2-sigma interval</b><br>Hypothetical measurement: %{y:.02f} cm^3<br>Cancer type: Lung cancer (LXF A677)<br><extra></extra>",
         "legendgroup": "Error model",
         "line": {
          "color": "Black",
          "width": 1.5
         },
         "mode": "lines",
         "name": "Error model",
         "opacity": 0.5,
         "showlegend": false,
         "type": "scatter",
         "visible": false,
         "x": [
          0.07468411303813567,
          0.09847790632508238,
          0.12470394900082221,
          0.16762707446703742,
          0.1980979230023861,
          0.2297447106362789,
          0.2789705639446174,
          0.3127189607093728,
          0.34706736528026616,
          0.399534031301463,
          0.43504050853095455,
          0.47090752817522036,
          0.5252922114279635,
          0.5618863135096059
         ],
         "xaxis": "x",
         "y": [
          0.028549225218886753,
          0.052343018505833463,
          0.0785690611815733,
          0.1214921866477885,
          0.1519630351831372,
          0.18360982281702998,
          0.23283567612536848,
          0.26658407289012387,
          0.30093247746101726,
          0.3533991434822141,
          0.38890562071170565,
          0.42477264035597145,
          0.47915732360871455,
          0.515751425690357
         ],
         "yaxis": "y"
        },
        {
         "hovertemplate": "<b>Error model: 3-sigma interval</b><br>Hypothetical measurement: %{y:.02f} cm^3<br>Cancer type: Lung cancer (LXF A677)<br><extra></extra>",
         "legendgroup": "Error model",
         "line": {
          "color": "Black",
          "width": 1
         },
         "mode": "lines",
         "name": "Error model",
         "opacity": 0.3,
         "showlegend": false,
         "type": "scatter",
         "visible": false,
         "x": [
          0.07468411303813567,
          0.09847790632508238,
          0.12470394900082221,
          0.16762707446703742,
          0.1980979230023861,
          0.2297447106362789,
          0.2789705639446174,
          0.3127189607093728,
          0.34706736528026616,
          0.399534031301463,
          0.43504050853095455,
          0.47090752817522036,
          0.5252922114279635,
          0.5618863135096059
         ],
         "xaxis": "x",
         "y": [
          0.14388644476700907,
          0.16768023805395577,
          0.1939062807296956,
          0.2368294061959108,
          0.2673002547312595,
          0.2989470423651523,
          0.34817289567349075,
          0.38192129243824613,
          0.4162696970091395,
          0.4687363630303364,
          0.5042428402598279,
          0.5401098599040938,
          0.5944945431568368,
          0.6310886452384793
         ],
         "yaxis": "y"
        },
        {
         "hovertemplate": "<b>Error model: 3-sigma interval</b><br>Hypothetical measurement: %{y:.02f} cm^3<br>Cancer type: Lung cancer (LXF A677)<br><extra></extra>",
         "legendgroup": "Error model",
         "line": {
          "color": "Black",
          "width": 1
         },
         "mode": "lines",
         "name": "Error model",
         "opacity": 0.3,
         "showlegend": false,
         "type": "scatter",
         "visible": false,
         "x": [
          0.07468411303813567,
          0.09847790632508238,
          0.12470394900082221,
          0.16762707446703742,
          0.1980979230023861,
          0.2297447106362789,
          0.2789705639446174,
          0.3127189607093728,
          0.34706736528026616,
          0.399534031301463,
          0.43504050853095455,
          0.47090752817522036,
          0.5252922114279635,
          0.5618863135096059
         ],
         "xaxis": "x",
         "y": [
          0.0054817813092622875,
          0.029275574596208997,
          0.05550161727194883,
          0.09842474273816404,
          0.12889559127351272,
          0.16054237890740553,
          0.209768232215744,
          0.2435166289804994,
          0.2778650335513928,
          0.33033169957258957,
          0.3658381768020812,
          0.40170519644634695,
          0.4560898796990901,
          0.4926839817807326
         ],
         "yaxis": "y"
        },
        {
         "hovertemplate": "<b>ID: 94</b><br>Structural model: %{x:.02f} cm^3<br>Residual: %{y:.02f} cm^3<br>Cancer type: Lung cancer (LXF A677)<br><extra></extra>",
         "legendgroup": "Measurement",
         "marker": {
          "color": "#EF553B",
          "line": {
           "color": "black",
           "width": 1
          },
          "opacity": 0.7,
          "symbol": "circle"
         },
         "mode": "markers",
         "name": "Measurement",
         "showlegend": false,
         "type": "scatter",
         "visible": false,
         "x": [
          0.07468411303813567,
          0.09847790632508238,
          0.12470394900082221,
          0.16762707446703742,
          0.1980979230023861,
          0.2297447106362789,
          0.2789705639446174,
          0.3127189607093728,
          0.34706736528026616,
          0.399534031301463,
          0.43504050853095455,
          0.47090752817522036,
          0.5252922114279635,
          0.5618863135096059
         ],
         "xaxis": "x2",
         "y": [
          0.002563386961864339,
          -0.009994406325082375,
          0.0006120509991777989,
          -0.002099074467037415,
          -0.008611923002386113,
          0.03490928936372109,
          -0.014316563944617389,
          -0.005782960709372786,
          0.042139634719733865,
          -0.010327031301462952,
          -0.02927150853095456,
          -0.044436028175220355,
          0.02983878857203648,
          0.014353686490394035
         ],
         "yaxis": "y2"
        },
        {
         "hovertemplate": "<b>Error model: Mean</b><br>Hypothetical residual: %{y:.02f} cm^3<br>Cancer type: Lung cancer (LXF A677)<br><extra></extra>",
         "legendgroup": "Error model",
         "line": {
          "color": "#EF553B"
         },
         "mode": "lines",
         "name": "Error model",
         "opacity": 0.7,
         "showlegend": false,
         "type": "scatter",
         "visible": false,
         "x": [
          0.07468411303813567,
          0.09847790632508238,
          0.12470394900082221,
          0.16762707446703742,
          0.1980979230023861,
          0.2297447106362789,
          0.2789705639446174,
          0.3127189607093728,
          0.34706736528026616,
          0.399534031301463,
          0.43504050853095455,
          0.47090752817522036,
          0.5252922114279635,
          0.5618863135096059
         ],
         "xaxis": "x2",
         "y": [
          0,
          0,
          0,
          0,
          0,
          0,
          0,
          0,
          0,
          0,
          0,
          0,
          0,
          0
         ],
         "yaxis": "y2"
        },
        {
         "hovertemplate": "<b>Error model: 1-sigma interval</b><br>Hypothetical residual: %{y:.02f} cm^3<br>Cancer type: Lung cancer (LXF A677)<br><extra></extra>",
         "legendgroup": "Error model",
         "line": {
          "color": "Black"
         },
         "mode": "lines",
         "name": "Error model",
         "opacity": 0.7,
         "showlegend": false,
         "type": "scatter",
         "visible": false,
         "x": [
          0.07468411303813567,
          0.09847790632508238,
          0.12470394900082221,
          0.16762707446703742,
          0.1980979230023861,
          0.2297447106362789,
          0.2789705639446174,
          0.3127189607093728,
          0.34706736528026616,
          0.399534031301463,
          0.43504050853095455,
          0.47090752817522036,
          0.5252922114279635,
          0.5618863135096059
         ],
         "xaxis": "x2",
         "y": [
          0.02306744390962446,
          0.02306744390962446,
          0.02306744390962446,
          0.02306744390962446,
          0.02306744390962446,
          0.02306744390962446,
          0.02306744390962446,
          0.02306744390962446,
          0.02306744390962446,
          0.02306744390962446,
          0.02306744390962446,
          0.02306744390962446,
          0.02306744390962446,
          0.02306744390962446
         ],
         "yaxis": "y2"
        },
        {
         "hovertemplate": "<b>Error model: 1-sigma interval</b><br>Hypothetical measurement: %{y:.02f} cm^3<br>Cancer type: Lung cancer (LXF A677)<br><extra></extra>",
         "legendgroup": "Error model",
         "line": {
          "color": "Black"
         },
         "mode": "lines",
         "name": "Error model",
         "opacity": 0.7,
         "showlegend": false,
         "type": "scatter",
         "visible": false,
         "x": [
          0.07468411303813567,
          0.09847790632508238,
          0.12470394900082221,
          0.16762707446703742,
          0.1980979230023861,
          0.2297447106362789,
          0.2789705639446174,
          0.3127189607093728,
          0.34706736528026616,
          0.399534031301463,
          0.43504050853095455,
          0.47090752817522036,
          0.5252922114279635,
          0.5618863135096059
         ],
         "xaxis": "x2",
         "y": [
          -0.02306744390962446,
          -0.02306744390962446,
          -0.02306744390962446,
          -0.02306744390962446,
          -0.02306744390962446,
          -0.02306744390962446,
          -0.02306744390962446,
          -0.02306744390962446,
          -0.02306744390962446,
          -0.02306744390962446,
          -0.02306744390962446,
          -0.02306744390962446,
          -0.02306744390962446,
          -0.02306744390962446
         ],
         "yaxis": "y2"
        },
        {
         "hovertemplate": "<b>Error model: 2-sigma interval</b><br>Hypothetical residual: %{y:.02f} cm^3<br>Cancer type: Lung cancer (LXF A677)<br><extra></extra>",
         "legendgroup": "Error model",
         "line": {
          "color": "Black"
         },
         "mode": "lines",
         "name": "Error model",
         "opacity": 0.5,
         "showlegend": false,
         "type": "scatter",
         "visible": false,
         "x": [
          0.07468411303813567,
          0.09847790632508238,
          0.12470394900082221,
          0.16762707446703742,
          0.1980979230023861,
          0.2297447106362789,
          0.2789705639446174,
          0.3127189607093728,
          0.34706736528026616,
          0.399534031301463,
          0.43504050853095455,
          0.47090752817522036,
          0.5252922114279635,
          0.5618863135096059
         ],
         "xaxis": "x2",
         "y": [
          0.04613488781924892,
          0.04613488781924892,
          0.04613488781924892,
          0.04613488781924892,
          0.04613488781924892,
          0.04613488781924892,
          0.04613488781924892,
          0.04613488781924892,
          0.04613488781924892,
          0.04613488781924892,
          0.04613488781924892,
          0.04613488781924892,
          0.04613488781924892,
          0.04613488781924892
         ],
         "yaxis": "y2"
        },
        {
         "hovertemplate": "<b>Error model: 2-sigma interval</b><br>Hypothetical measurement: %{y:.02f} cm^3<br>Cancer type: Lung cancer (LXF A677)<br><extra></extra>",
         "legendgroup": "Error model",
         "line": {
          "color": "Black"
         },
         "mode": "lines",
         "name": "Error model",
         "opacity": 0.5,
         "showlegend": false,
         "type": "scatter",
         "visible": false,
         "x": [
          0.07468411303813567,
          0.09847790632508238,
          0.12470394900082221,
          0.16762707446703742,
          0.1980979230023861,
          0.2297447106362789,
          0.2789705639446174,
          0.3127189607093728,
          0.34706736528026616,
          0.399534031301463,
          0.43504050853095455,
          0.47090752817522036,
          0.5252922114279635,
          0.5618863135096059
         ],
         "xaxis": "x2",
         "y": [
          -0.04613488781924892,
          -0.04613488781924892,
          -0.04613488781924892,
          -0.04613488781924892,
          -0.04613488781924892,
          -0.04613488781924892,
          -0.04613488781924892,
          -0.04613488781924892,
          -0.04613488781924892,
          -0.04613488781924892,
          -0.04613488781924892,
          -0.04613488781924892,
          -0.04613488781924892,
          -0.04613488781924892
         ],
         "yaxis": "y2"
        },
        {
         "hovertemplate": "<b>Error model: 3-sigma interval</b><br>Hypothetical residual: %{y:.02f} cm^3<br>Cancer type: Lung cancer (LXF A677)<br><extra></extra>",
         "legendgroup": "Error model",
         "line": {
          "color": "Black"
         },
         "mode": "lines",
         "name": "Error model",
         "opacity": 0.3,
         "showlegend": false,
         "type": "scatter",
         "visible": false,
         "x": [
          0.07468411303813567,
          0.09847790632508238,
          0.12470394900082221,
          0.16762707446703742,
          0.1980979230023861,
          0.2297447106362789,
          0.2789705639446174,
          0.3127189607093728,
          0.34706736528026616,
          0.399534031301463,
          0.43504050853095455,
          0.47090752817522036,
          0.5252922114279635,
          0.5618863135096059
         ],
         "xaxis": "x2",
         "y": [
          0.06920233172887338,
          0.06920233172887338,
          0.06920233172887338,
          0.06920233172887338,
          0.06920233172887338,
          0.06920233172887338,
          0.06920233172887338,
          0.06920233172887338,
          0.06920233172887338,
          0.06920233172887338,
          0.06920233172887338,
          0.06920233172887338,
          0.06920233172887338,
          0.06920233172887338
         ],
         "yaxis": "y2"
        },
        {
         "hovertemplate": "<b>Error model: 3-sigma interval</b><br>Hypothetical measurement: %{y:.02f} cm^3<br>Cancer type: Lung cancer (LXF A677)<br><extra></extra>",
         "legendgroup": "Error model",
         "line": {
          "color": "Black"
         },
         "mode": "lines",
         "name": "Error model",
         "opacity": 0.3,
         "showlegend": false,
         "type": "scatter",
         "visible": false,
         "x": [
          0.07468411303813567,
          0.09847790632508238,
          0.12470394900082221,
          0.16762707446703742,
          0.1980979230023861,
          0.2297447106362789,
          0.2789705639446174,
          0.3127189607093728,
          0.34706736528026616,
          0.399534031301463,
          0.43504050853095455,
          0.47090752817522036,
          0.5252922114279635,
          0.5618863135096059
         ],
         "xaxis": "x2",
         "y": [
          -0.06920233172887338,
          -0.06920233172887338,
          -0.06920233172887338,
          -0.06920233172887338,
          -0.06920233172887338,
          -0.06920233172887338,
          -0.06920233172887338,
          -0.06920233172887338,
          -0.06920233172887338,
          -0.06920233172887338,
          -0.06920233172887338,
          -0.06920233172887338,
          -0.06920233172887338,
          -0.06920233172887338
         ],
         "yaxis": "y2"
        },
        {
         "hovertemplate": "<b>ID: 95</b><br>Structural model: %{x:.02f} cm^3<br>Measurement: %{y:.02f} cm^3<br>Cancer type: Lung cancer (LXF A677)<br><extra></extra>",
         "legendgroup": "Measurement",
         "marker": {
          "color": "#00CC96",
          "line": {
           "color": "black",
           "width": 1
          },
          "opacity": 0.7,
          "symbol": "circle"
         },
         "mode": "markers",
         "name": "Measurement",
         "showlegend": true,
         "type": "scatter",
         "visible": false,
         "x": [
          0.22090437555727624,
          0.27594120572380687,
          0.34464979460215717,
          0.48109592947714985,
          0.6008830554944408,
          0.7504717139255347,
          1.0474135813290408,
          1.3080157466884084,
          1.6333500378395216,
          2.2788189641187993
         ],
         "xaxis": "x",
         "y": [
          0.1862,
          0.24641999999999997,
          0.4293,
          0.62426,
          0.7246720000000001,
          0.7300800000000001,
          0.9196,
          1.131184,
          1.675872,
          2.346616
         ],
         "yaxis": "y"
        },
        {
         "hovertemplate": "<b>Error model: Mean</b><br>Hypothetical measurement: %{y:.02f} cm^3<br>Cancer type: Lung cancer (LXF A677)<br><extra></extra>",
         "legendgroup": "Error model",
         "line": {
          "color": "#00CC96"
         },
         "mode": "lines",
         "name": "Error model",
         "opacity": 0.7,
         "showlegend": true,
         "type": "scatter",
         "visible": false,
         "x": [
          0.22090437555727624,
          0.27594120572380687,
          0.34464979460215717,
          0.48109592947714985,
          0.6008830554944408,
          0.7504717139255347,
          1.0474135813290408,
          1.3080157466884084,
          1.6333500378395216,
          2.2788189641187993
         ],
         "xaxis": "x",
         "y": [
          0.22090437555727624,
          0.27594120572380687,
          0.34464979460215717,
          0.48109592947714985,
          0.6008830554944408,
          0.7504717139255347,
          1.0474135813290408,
          1.3080157466884084,
          1.6333500378395216,
          2.2788189641187993
         ],
         "yaxis": "y"
        },
        {
         "hovertemplate": "<b>Error model: 1-sigma interval</b><br>Hypothetical measurement: %{y:.02f} cm^3<br>Cancer type: Lung cancer (LXF A677)<br><extra></extra>",
         "legendgroup": "Error model",
         "line": {
          "color": "Black"
         },
         "mode": "lines",
         "name": "Error model",
         "opacity": 0.7,
         "showlegend": false,
         "type": "scatter",
         "visible": false,
         "x": [
          0.22090437555727624,
          0.27594120572380687,
          0.34464979460215717,
          0.48109592947714985,
          0.6008830554944408,
          0.7504717139255347,
          1.0474135813290408,
          1.3080157466884084,
          1.6333500378395216,
          2.2788189641187993
         ],
         "xaxis": "x",
         "y": [
          0.3206367185532941,
          0.3756735487198247,
          0.444382137598175,
          0.5808282724731677,
          0.7006153984904586,
          0.8502040569215525,
          1.1471459243250588,
          1.4077480896844263,
          1.7330823808355396,
          2.378551307114817
         ],
         "yaxis": "y"
        },
        {
         "hovertemplate": "<b>Error model: 1-sigma interval</b><br>Hypothetical measurement: %{y:.02f} cm^3<br>Cancer type: Lung cancer (LXF A677)<br><extra></extra>",
         "legendgroup": "Error model",
         "line": {
          "color": "Black"
         },
         "mode": "lines",
         "name": "Error model",
         "opacity": 0.7,
         "showlegend": false,
         "type": "scatter",
         "visible": false,
         "x": [
          0.22090437555727624,
          0.27594120572380687,
          0.34464979460215717,
          0.48109592947714985,
          0.6008830554944408,
          0.7504717139255347,
          1.0474135813290408,
          1.3080157466884084,
          1.6333500378395216,
          2.2788189641187993
         ],
         "xaxis": "x",
         "y": [
          0.12117203256125837,
          0.17620886272778902,
          0.2449174516061393,
          0.381363586481132,
          0.5011507124984229,
          0.6507393709295168,
          0.947681238333023,
          1.2082834036923904,
          1.5336176948435036,
          2.1790866211227815
         ],
         "yaxis": "y"
        },
        {
         "hovertemplate": "<b>Error model: 2-sigma interval</b><br>Hypothetical measurement: %{y:.02f} cm^3<br>Cancer type: Lung cancer (LXF A677)<br><extra></extra>",
         "legendgroup": "Error model",
         "line": {
          "color": "Black",
          "width": 1.5
         },
         "mode": "lines",
         "name": "Error model",
         "opacity": 0.5,
         "showlegend": false,
         "type": "scatter",
         "visible": false,
         "x": [
          0.22090437555727624,
          0.27594120572380687,
          0.34464979460215717,
          0.48109592947714985,
          0.6008830554944408,
          0.7504717139255347,
          1.0474135813290408,
          1.3080157466884084,
          1.6333500378395216,
          2.2788189641187993
         ],
         "xaxis": "x",
         "y": [
          0.420369061549312,
          0.4754058917158426,
          0.5441144805941929,
          0.6805606154691856,
          0.8003477414864765,
          0.9499363999175704,
          1.2468782673210765,
          1.507480432680444,
          1.8328147238315573,
          2.478283650110835
         ],
         "yaxis": "y"
        },
        {
         "hovertemplate": "<b>Error model: 2-sigma interval</b><br>Hypothetical measurement: %{y:.02f} cm^3<br>Cancer type: Lung cancer (LXF A677)<br><extra></extra>",
         "legendgroup": "Error model",
         "line": {
          "color": "Black",
          "width": 1.5
         },
         "mode": "lines",
         "name": "Error model",
         "opacity": 0.5,
         "showlegend": false,
         "type": "scatter",
         "visible": false,
         "x": [
          0.22090437555727624,
          0.27594120572380687,
          0.34464979460215717,
          0.48109592947714985,
          0.6008830554944408,
          0.7504717139255347,
          1.0474135813290408,
          1.3080157466884084,
          1.6333500378395216,
          2.2788189641187993
         ],
         "xaxis": "x",
         "y": [
          0.021439689565240505,
          0.07647651973177114,
          0.14518510861012143,
          0.28163124348511415,
          0.40141836950240506,
          0.551007027933499,
          0.8479488953370051,
          1.1085510606963727,
          1.433885351847486,
          2.0793542781267633
         ],
         "yaxis": "y"
        },
        {
         "hovertemplate": "<b>Error model: 3-sigma interval</b><br>Hypothetical measurement: %{y:.02f} cm^3<br>Cancer type: Lung cancer (LXF A677)<br><extra></extra>",
         "legendgroup": "Error model",
         "line": {
          "color": "Black",
          "width": 1
         },
         "mode": "lines",
         "name": "Error model",
         "opacity": 0.3,
         "showlegend": false,
         "type": "scatter",
         "visible": false,
         "x": [
          0.22090437555727624,
          0.27594120572380687,
          0.34464979460215717,
          0.48109592947714985,
          0.6008830554944408,
          0.7504717139255347,
          1.0474135813290408,
          1.3080157466884084,
          1.6333500378395216,
          2.2788189641187993
         ],
         "xaxis": "x",
         "y": [
          0.5201014045453298,
          0.5751382347118605,
          0.6438468235902108,
          0.7802929584652034,
          0.9000800844824943,
          1.0496687429135882,
          1.3466106103170945,
          1.607212775676462,
          1.9325470668275753,
          2.578015993106853
         ],
         "yaxis": "y"
        },
        {
         "hovertemplate": "<b>Error model: 3-sigma interval</b><br>Hypothetical measurement: %{y:.02f} cm^3<br>Cancer type: Lung cancer (LXF A677)<br><extra></extra>",
         "legendgroup": "Error model",
         "line": {
          "color": "Black",
          "width": 1
         },
         "mode": "lines",
         "name": "Error model",
         "opacity": 0.3,
         "showlegend": false,
         "type": "scatter",
         "visible": false,
         "x": [
          0.22090437555727624,
          0.27594120572380687,
          0.34464979460215717,
          0.48109592947714985,
          0.6008830554944408,
          0.7504717139255347,
          1.0474135813290408,
          1.3080157466884084,
          1.6333500378395216,
          2.2788189641187993
         ],
         "xaxis": "x",
         "y": [
          -0.07829265343077738,
          -0.023255823264246744,
          0.04545276561410355,
          0.18189890048909624,
          0.30168602650638715,
          0.4512746849374811,
          0.7482165523409872,
          1.0088187177003547,
          1.334153008851468,
          1.9796219351307456
         ],
         "yaxis": "y"
        },
        {
         "hovertemplate": "<b>ID: 95</b><br>Structural model: %{x:.02f} cm^3<br>Residual: %{y:.02f} cm^3<br>Cancer type: Lung cancer (LXF A677)<br><extra></extra>",
         "legendgroup": "Measurement",
         "marker": {
          "color": "#00CC96",
          "line": {
           "color": "black",
           "width": 1
          },
          "opacity": 0.7,
          "symbol": "circle"
         },
         "mode": "markers",
         "name": "Measurement",
         "showlegend": false,
         "type": "scatter",
         "visible": false,
         "x": [
          0.22090437555727624,
          0.27594120572380687,
          0.34464979460215717,
          0.48109592947714985,
          0.6008830554944408,
          0.7504717139255347,
          1.0474135813290408,
          1.3080157466884084,
          1.6333500378395216,
          2.2788189641187993
         ],
         "xaxis": "x2",
         "y": [
          -0.034704375557276235,
          -0.029521205723806898,
          0.08465020539784285,
          0.14316407052285018,
          0.12378894450555933,
          -0.020391713925534627,
          -0.12781358132904086,
          -0.1768317466884084,
          0.04252196216047843,
          0.06779703588120078
         ],
         "yaxis": "y2"
        },
        {
         "hovertemplate": "<b>Error model: Mean</b><br>Hypothetical residual: %{y:.02f} cm^3<br>Cancer type: Lung cancer (LXF A677)<br><extra></extra>",
         "legendgroup": "Error model",
         "line": {
          "color": "#00CC96"
         },
         "mode": "lines",
         "name": "Error model",
         "opacity": 0.7,
         "showlegend": false,
         "type": "scatter",
         "visible": false,
         "x": [
          0.22090437555727624,
          0.27594120572380687,
          0.34464979460215717,
          0.48109592947714985,
          0.6008830554944408,
          0.7504717139255347,
          1.0474135813290408,
          1.3080157466884084,
          1.6333500378395216,
          2.2788189641187993
         ],
         "xaxis": "x2",
         "y": [
          0,
          0,
          0,
          0,
          0,
          0,
          0,
          0,
          0,
          0
         ],
         "yaxis": "y2"
        },
        {
         "hovertemplate": "<b>Error model: 1-sigma interval</b><br>Hypothetical residual: %{y:.02f} cm^3<br>Cancer type: Lung cancer (LXF A677)<br><extra></extra>",
         "legendgroup": "Error model",
         "line": {
          "color": "Black"
         },
         "mode": "lines",
         "name": "Error model",
         "opacity": 0.7,
         "showlegend": false,
         "type": "scatter",
         "visible": false,
         "x": [
          0.22090437555727624,
          0.27594120572380687,
          0.34464979460215717,
          0.48109592947714985,
          0.6008830554944408,
          0.7504717139255347,
          1.0474135813290408,
          1.3080157466884084,
          1.6333500378395216,
          2.2788189641187993
         ],
         "xaxis": "x2",
         "y": [
          0.09973234299601787,
          0.09973234299601787,
          0.09973234299601787,
          0.09973234299601787,
          0.09973234299601787,
          0.09973234299601787,
          0.09973234299601787,
          0.09973234299601787,
          0.09973234299601787,
          0.09973234299601787
         ],
         "yaxis": "y2"
        },
        {
         "hovertemplate": "<b>Error model: 1-sigma interval</b><br>Hypothetical measurement: %{y:.02f} cm^3<br>Cancer type: Lung cancer (LXF A677)<br><extra></extra>",
         "legendgroup": "Error model",
         "line": {
          "color": "Black"
         },
         "mode": "lines",
         "name": "Error model",
         "opacity": 0.7,
         "showlegend": false,
         "type": "scatter",
         "visible": false,
         "x": [
          0.22090437555727624,
          0.27594120572380687,
          0.34464979460215717,
          0.48109592947714985,
          0.6008830554944408,
          0.7504717139255347,
          1.0474135813290408,
          1.3080157466884084,
          1.6333500378395216,
          2.2788189641187993
         ],
         "xaxis": "x2",
         "y": [
          -0.09973234299601787,
          -0.09973234299601787,
          -0.09973234299601787,
          -0.09973234299601787,
          -0.09973234299601787,
          -0.09973234299601787,
          -0.09973234299601787,
          -0.09973234299601787,
          -0.09973234299601787,
          -0.09973234299601787
         ],
         "yaxis": "y2"
        },
        {
         "hovertemplate": "<b>Error model: 2-sigma interval</b><br>Hypothetical residual: %{y:.02f} cm^3<br>Cancer type: Lung cancer (LXF A677)<br><extra></extra>",
         "legendgroup": "Error model",
         "line": {
          "color": "Black"
         },
         "mode": "lines",
         "name": "Error model",
         "opacity": 0.5,
         "showlegend": false,
         "type": "scatter",
         "visible": false,
         "x": [
          0.22090437555727624,
          0.27594120572380687,
          0.34464979460215717,
          0.48109592947714985,
          0.6008830554944408,
          0.7504717139255347,
          1.0474135813290408,
          1.3080157466884084,
          1.6333500378395216,
          2.2788189641187993
         ],
         "xaxis": "x2",
         "y": [
          0.19946468599203573,
          0.19946468599203573,
          0.19946468599203573,
          0.19946468599203573,
          0.19946468599203573,
          0.19946468599203573,
          0.19946468599203573,
          0.19946468599203573,
          0.19946468599203573,
          0.19946468599203573
         ],
         "yaxis": "y2"
        },
        {
         "hovertemplate": "<b>Error model: 2-sigma interval</b><br>Hypothetical measurement: %{y:.02f} cm^3<br>Cancer type: Lung cancer (LXF A677)<br><extra></extra>",
         "legendgroup": "Error model",
         "line": {
          "color": "Black"
         },
         "mode": "lines",
         "name": "Error model",
         "opacity": 0.5,
         "showlegend": false,
         "type": "scatter",
         "visible": false,
         "x": [
          0.22090437555727624,
          0.27594120572380687,
          0.34464979460215717,
          0.48109592947714985,
          0.6008830554944408,
          0.7504717139255347,
          1.0474135813290408,
          1.3080157466884084,
          1.6333500378395216,
          2.2788189641187993
         ],
         "xaxis": "x2",
         "y": [
          -0.19946468599203573,
          -0.19946468599203573,
          -0.19946468599203573,
          -0.19946468599203573,
          -0.19946468599203573,
          -0.19946468599203573,
          -0.19946468599203573,
          -0.19946468599203573,
          -0.19946468599203573,
          -0.19946468599203573
         ],
         "yaxis": "y2"
        },
        {
         "hovertemplate": "<b>Error model: 3-sigma interval</b><br>Hypothetical residual: %{y:.02f} cm^3<br>Cancer type: Lung cancer (LXF A677)<br><extra></extra>",
         "legendgroup": "Error model",
         "line": {
          "color": "Black"
         },
         "mode": "lines",
         "name": "Error model",
         "opacity": 0.3,
         "showlegend": false,
         "type": "scatter",
         "visible": false,
         "x": [
          0.22090437555727624,
          0.27594120572380687,
          0.34464979460215717,
          0.48109592947714985,
          0.6008830554944408,
          0.7504717139255347,
          1.0474135813290408,
          1.3080157466884084,
          1.6333500378395216,
          2.2788189641187993
         ],
         "xaxis": "x2",
         "y": [
          0.2991970289880536,
          0.2991970289880536,
          0.2991970289880536,
          0.2991970289880536,
          0.2991970289880536,
          0.2991970289880536,
          0.2991970289880536,
          0.2991970289880536,
          0.2991970289880536,
          0.2991970289880536
         ],
         "yaxis": "y2"
        },
        {
         "hovertemplate": "<b>Error model: 3-sigma interval</b><br>Hypothetical measurement: %{y:.02f} cm^3<br>Cancer type: Lung cancer (LXF A677)<br><extra></extra>",
         "legendgroup": "Error model",
         "line": {
          "color": "Black"
         },
         "mode": "lines",
         "name": "Error model",
         "opacity": 0.3,
         "showlegend": false,
         "type": "scatter",
         "visible": false,
         "x": [
          0.22090437555727624,
          0.27594120572380687,
          0.34464979460215717,
          0.48109592947714985,
          0.6008830554944408,
          0.7504717139255347,
          1.0474135813290408,
          1.3080157466884084,
          1.6333500378395216,
          2.2788189641187993
         ],
         "xaxis": "x2",
         "y": [
          -0.2991970289880536,
          -0.2991970289880536,
          -0.2991970289880536,
          -0.2991970289880536,
          -0.2991970289880536,
          -0.2991970289880536,
          -0.2991970289880536,
          -0.2991970289880536,
          -0.2991970289880536,
          -0.2991970289880536
         ],
         "yaxis": "y2"
        },
        {
         "hovertemplate": "<b>ID: 136</b><br>Structural model: %{x:.02f} cm^3<br>Measurement: %{y:.02f} cm^3<br>Cancer type: Lung cancer (LXF A677)<br><extra></extra>",
         "legendgroup": "Measurement",
         "marker": {
          "color": "#AB63FA",
          "line": {
           "color": "black",
           "width": 1
          },
          "opacity": 0.7,
          "symbol": "circle"
         },
         "mode": "markers",
         "name": "Measurement",
         "showlegend": true,
         "type": "scatter",
         "visible": false,
         "x": [
          0.14885739328352246,
          0.1801752438718177,
          0.2170490891202855,
          0.2841055913724219,
          0.33746510041734834,
          0.39831245685123795,
          0.5044074689539257,
          0.5853477857759892,
          0.6745593624495113,
          0.8236829402183181,
          0.9331376010710725,
          1.0503239782056446,
          1.2398919227157066,
          1.374906450548377
         ],
         "xaxis": "x",
         "y": [
          0.1185885,
          0.175071,
          0.22999200000000006,
          0.3026885,
          0.3026885,
          0.37044,
          0.5341545,
          0.651688,
          0.7212869999999999,
          0.78732,
          0.8529505000000001,
          1.104558,
          1.1328799999999999,
          1.4593425
         ],
         "yaxis": "y"
        },
        {
         "hovertemplate": "<b>Error model: Mean</b><br>Hypothetical measurement: %{y:.02f} cm^3<br>Cancer type: Lung cancer (LXF A677)<br><extra></extra>",
         "legendgroup": "Error model",
         "line": {
          "color": "#AB63FA"
         },
         "mode": "lines",
         "name": "Error model",
         "opacity": 0.7,
         "showlegend": true,
         "type": "scatter",
         "visible": false,
         "x": [
          0.14885739328352246,
          0.1801752438718177,
          0.2170490891202855,
          0.2841055913724219,
          0.33746510041734834,
          0.39831245685123795,
          0.5044074689539257,
          0.5853477857759892,
          0.6745593624495113,
          0.8236829402183181,
          0.9331376010710725,
          1.0503239782056446,
          1.2398919227157066,
          1.374906450548377
         ],
         "xaxis": "x",
         "y": [
          0.14885739328352246,
          0.1801752438718177,
          0.2170490891202855,
          0.2841055913724219,
          0.33746510041734834,
          0.39831245685123795,
          0.5044074689539257,
          0.5853477857759892,
          0.6745593624495113,
          0.8236829402183181,
          0.9331376010710725,
          1.0503239782056446,
          1.2398919227157066,
          1.374906450548377
         ],
         "yaxis": "y"
        },
        {
         "hovertemplate": "<b>Error model: 1-sigma interval</b><br>Hypothetical measurement: %{y:.02f} cm^3<br>Cancer type: Lung cancer (LXF A677)<br><extra></extra>",
         "legendgroup": "Error model",
         "line": {
          "color": "Black"
         },
         "mode": "lines",
         "name": "Error model",
         "opacity": 0.7,
         "showlegend": false,
         "type": "scatter",
         "visible": false,
         "x": [
          0.14885739328352246,
          0.1801752438718177,
          0.2170490891202855,
          0.2841055913724219,
          0.33746510041734834,
          0.39831245685123795,
          0.5044074689539257,
          0.5853477857759892,
          0.6745593624495113,
          0.8236829402183181,
          0.9331376010710725,
          1.0503239782056446,
          1.2398919227157066,
          1.374906450548377
         ],
         "xaxis": "x",
         "y": [
          0.20245298759652403,
          0.23377083818481925,
          0.27064468343328707,
          0.3377011856854235,
          0.39106069473034993,
          0.45190805116423954,
          0.5580030632669273,
          0.6389433800889908,
          0.7281549567625129,
          0.8772785345313197,
          0.986733195384074,
          1.1039195725186461,
          1.2934875170287081,
          1.4285020448613786
         ],
         "yaxis": "y"
        },
        {
         "hovertemplate": "<b>Error model: 1-sigma interval</b><br>Hypothetical measurement: %{y:.02f} cm^3<br>Cancer type: Lung cancer (LXF A677)<br><extra></extra>",
         "legendgroup": "Error model",
         "line": {
          "color": "Black"
         },
         "mode": "lines",
         "name": "Error model",
         "opacity": 0.7,
         "showlegend": false,
         "type": "scatter",
         "visible": false,
         "x": [
          0.14885739328352246,
          0.1801752438718177,
          0.2170490891202855,
          0.2841055913724219,
          0.33746510041734834,
          0.39831245685123795,
          0.5044074689539257,
          0.5853477857759892,
          0.6745593624495113,
          0.8236829402183181,
          0.9331376010710725,
          1.0503239782056446,
          1.2398919227157066,
          1.374906450548377
         ],
         "xaxis": "x",
         "y": [
          0.09526179897052088,
          0.12657964955881612,
          0.16345349480728394,
          0.23050999705942032,
          0.28386950610434675,
          0.34471686253823636,
          0.45081187464092415,
          0.5317521914629877,
          0.6209637681365098,
          0.7700873459053166,
          0.8795420067580709,
          0.9967283838926431,
          1.186296328402705,
          1.3213108562353755
         ],
         "yaxis": "y"
        },
        {
         "hovertemplate": "<b>Error model: 2-sigma interval</b><br>Hypothetical measurement: %{y:.02f} cm^3<br>Cancer type: Lung cancer (LXF A677)<br><extra></extra>",
         "legendgroup": "Error model",
         "line": {
          "color": "Black",
          "width": 1.5
         },
         "mode": "lines",
         "name": "Error model",
         "opacity": 0.5,
         "showlegend": false,
         "type": "scatter",
         "visible": false,
         "x": [
          0.14885739328352246,
          0.1801752438718177,
          0.2170490891202855,
          0.2841055913724219,
          0.33746510041734834,
          0.39831245685123795,
          0.5044074689539257,
          0.5853477857759892,
          0.6745593624495113,
          0.8236829402183181,
          0.9331376010710725,
          1.0503239782056446,
          1.2398919227157066,
          1.374906450548377
         ],
         "xaxis": "x",
         "y": [
          0.2560485819095256,
          0.28736643249782085,
          0.32424027774628866,
          0.39129677999842505,
          0.4446562890433515,
          0.5055036454772411,
          0.6115986575799289,
          0.6925389744019924,
          0.7817505510755145,
          0.9308741288443213,
          1.0403287896970757,
          1.1575151668316477,
          1.3470831113417097,
          1.48209763917438
         ],
         "yaxis": "y"
        },
        {
         "hovertemplate": "<b>Error model: 2-sigma interval</b><br>Hypothetical measurement: %{y:.02f} cm^3<br>Cancer type: Lung cancer (LXF A677)<br><extra></extra>",
         "legendgroup": "Error model",
         "line": {
          "color": "Black",
          "width": 1.5
         },
         "mode": "lines",
         "name": "Error model",
         "opacity": 0.5,
         "showlegend": false,
         "type": "scatter",
         "visible": false,
         "x": [
          0.14885739328352246,
          0.1801752438718177,
          0.2170490891202855,
          0.2841055913724219,
          0.33746510041734834,
          0.39831245685123795,
          0.5044074689539257,
          0.5853477857759892,
          0.6745593624495113,
          0.8236829402183181,
          0.9331376010710725,
          1.0503239782056446,
          1.2398919227157066,
          1.374906450548377
         ],
         "xaxis": "x",
         "y": [
          0.0416662046575193,
          0.07298405524581453,
          0.10985790049428235,
          0.17691440274641876,
          0.23027391179134518,
          0.29112126822523476,
          0.39721628032792256,
          0.47815659714998604,
          0.5673681738235081,
          0.7164917515923149,
          0.8259464124450693,
          0.9431327895796414,
          1.1327007340897035,
          1.267715261922374
         ],
         "yaxis": "y"
        },
        {
         "hovertemplate": "<b>Error model: 3-sigma interval</b><br>Hypothetical measurement: %{y:.02f} cm^3<br>Cancer type: Lung cancer (LXF A677)<br><extra></extra>",
         "legendgroup": "Error model",
         "line": {
          "color": "Black",
          "width": 1
         },
         "mode": "lines",
         "name": "Error model",
         "opacity": 0.3,
         "showlegend": false,
         "type": "scatter",
         "visible": false,
         "x": [
          0.14885739328352246,
          0.1801752438718177,
          0.2170490891202855,
          0.2841055913724219,
          0.33746510041734834,
          0.39831245685123795,
          0.5044074689539257,
          0.5853477857759892,
          0.6745593624495113,
          0.8236829402183181,
          0.9331376010710725,
          1.0503239782056446,
          1.2398919227157066,
          1.374906450548377
         ],
         "xaxis": "x",
         "y": [
          0.30964417622252716,
          0.34096202681082244,
          0.37783587205929026,
          0.44489237431142664,
          0.49825188335635306,
          0.5590992397902427,
          0.6651942518929305,
          0.746134568714994,
          0.835346145388516,
          0.9844697231573228,
          1.0939243840100772,
          1.2111107611446492,
          1.4006787056547112,
          1.5356932334873816
         ],
         "yaxis": "y"
        },
        {
         "hovertemplate": "<b>Error model: 3-sigma interval</b><br>Hypothetical measurement: %{y:.02f} cm^3<br>Cancer type: Lung cancer (LXF A677)<br><extra></extra>",
         "legendgroup": "Error model",
         "line": {
          "color": "Black",
          "width": 1
         },
         "mode": "lines",
         "name": "Error model",
         "opacity": 0.3,
         "showlegend": false,
         "type": "scatter",
         "visible": false,
         "x": [
          0.14885739328352246,
          0.1801752438718177,
          0.2170490891202855,
          0.2841055913724219,
          0.33746510041734834,
          0.39831245685123795,
          0.5044074689539257,
          0.5853477857759892,
          0.6745593624495113,
          0.8236829402183181,
          0.9331376010710725,
          1.0503239782056446,
          1.2398919227157066,
          1.374906450548377
         ],
         "xaxis": "x",
         "y": [
          -0.011929389655482264,
          0.019388460932812962,
          0.05626230618128078,
          0.12331880843341719,
          0.17667831747834362,
          0.23752567391223323,
          0.343620686014921,
          0.4245610028369845,
          0.5137725795105066,
          0.6628961572793134,
          0.7723508181320677,
          0.8895371952666399,
          1.079105139776702,
          1.2141196676093724
         ],
         "yaxis": "y"
        },
        {
         "hovertemplate": "<b>ID: 136</b><br>Structural model: %{x:.02f} cm^3<br>Residual: %{y:.02f} cm^3<br>Cancer type: Lung cancer (LXF A677)<br><extra></extra>",
         "legendgroup": "Measurement",
         "marker": {
          "color": "#AB63FA",
          "line": {
           "color": "black",
           "width": 1
          },
          "opacity": 0.7,
          "symbol": "circle"
         },
         "mode": "markers",
         "name": "Measurement",
         "showlegend": false,
         "type": "scatter",
         "visible": false,
         "x": [
          0.14885739328352246,
          0.1801752438718177,
          0.2170490891202855,
          0.2841055913724219,
          0.33746510041734834,
          0.39831245685123795,
          0.5044074689539257,
          0.5853477857759892,
          0.6745593624495113,
          0.8236829402183181,
          0.9331376010710725,
          1.0503239782056446,
          1.2398919227157066,
          1.374906450548377
         ],
         "xaxis": "x2",
         "y": [
          -0.03026889328352246,
          -0.005104243871817682,
          0.012942910879714553,
          0.01858290862757811,
          -0.03477660041734831,
          -0.02787245685123796,
          0.029747031046074235,
          0.06634021422401082,
          0.04672763755048859,
          -0.036362940218318096,
          -0.08018710107107241,
          0.054234021794355325,
          -0.1070119227157067,
          0.08443604945162297
         ],
         "yaxis": "y2"
        },
        {
         "hovertemplate": "<b>Error model: Mean</b><br>Hypothetical residual: %{y:.02f} cm^3<br>Cancer type: Lung cancer (LXF A677)<br><extra></extra>",
         "legendgroup": "Error model",
         "line": {
          "color": "#AB63FA"
         },
         "mode": "lines",
         "name": "Error model",
         "opacity": 0.7,
         "showlegend": false,
         "type": "scatter",
         "visible": false,
         "x": [
          0.14885739328352246,
          0.1801752438718177,
          0.2170490891202855,
          0.2841055913724219,
          0.33746510041734834,
          0.39831245685123795,
          0.5044074689539257,
          0.5853477857759892,
          0.6745593624495113,
          0.8236829402183181,
          0.9331376010710725,
          1.0503239782056446,
          1.2398919227157066,
          1.374906450548377
         ],
         "xaxis": "x2",
         "y": [
          0,
          0,
          0,
          0,
          0,
          0,
          0,
          0,
          0,
          0,
          0,
          0,
          0,
          0
         ],
         "yaxis": "y2"
        },
        {
         "hovertemplate": "<b>Error model: 1-sigma interval</b><br>Hypothetical residual: %{y:.02f} cm^3<br>Cancer type: Lung cancer (LXF A677)<br><extra></extra>",
         "legendgroup": "Error model",
         "line": {
          "color": "Black"
         },
         "mode": "lines",
         "name": "Error model",
         "opacity": 0.7,
         "showlegend": false,
         "type": "scatter",
         "visible": false,
         "x": [
          0.14885739328352246,
          0.1801752438718177,
          0.2170490891202855,
          0.2841055913724219,
          0.33746510041734834,
          0.39831245685123795,
          0.5044074689539257,
          0.5853477857759892,
          0.6745593624495113,
          0.8236829402183181,
          0.9331376010710725,
          1.0503239782056446,
          1.2398919227157066,
          1.374906450548377
         ],
         "xaxis": "x2",
         "y": [
          0.05359559431300158,
          0.05359559431300158,
          0.05359559431300158,
          0.05359559431300158,
          0.05359559431300158,
          0.05359559431300158,
          0.05359559431300158,
          0.05359559431300158,
          0.05359559431300158,
          0.05359559431300158,
          0.05359559431300158,
          0.05359559431300158,
          0.05359559431300158,
          0.05359559431300158
         ],
         "yaxis": "y2"
        },
        {
         "hovertemplate": "<b>Error model: 1-sigma interval</b><br>Hypothetical measurement: %{y:.02f} cm^3<br>Cancer type: Lung cancer (LXF A677)<br><extra></extra>",
         "legendgroup": "Error model",
         "line": {
          "color": "Black"
         },
         "mode": "lines",
         "name": "Error model",
         "opacity": 0.7,
         "showlegend": false,
         "type": "scatter",
         "visible": false,
         "x": [
          0.14885739328352246,
          0.1801752438718177,
          0.2170490891202855,
          0.2841055913724219,
          0.33746510041734834,
          0.39831245685123795,
          0.5044074689539257,
          0.5853477857759892,
          0.6745593624495113,
          0.8236829402183181,
          0.9331376010710725,
          1.0503239782056446,
          1.2398919227157066,
          1.374906450548377
         ],
         "xaxis": "x2",
         "y": [
          -0.05359559431300158,
          -0.05359559431300158,
          -0.05359559431300158,
          -0.05359559431300158,
          -0.05359559431300158,
          -0.05359559431300158,
          -0.05359559431300158,
          -0.05359559431300158,
          -0.05359559431300158,
          -0.05359559431300158,
          -0.05359559431300158,
          -0.05359559431300158,
          -0.05359559431300158,
          -0.05359559431300158
         ],
         "yaxis": "y2"
        },
        {
         "hovertemplate": "<b>Error model: 2-sigma interval</b><br>Hypothetical residual: %{y:.02f} cm^3<br>Cancer type: Lung cancer (LXF A677)<br><extra></extra>",
         "legendgroup": "Error model",
         "line": {
          "color": "Black"
         },
         "mode": "lines",
         "name": "Error model",
         "opacity": 0.5,
         "showlegend": false,
         "type": "scatter",
         "visible": false,
         "x": [
          0.14885739328352246,
          0.1801752438718177,
          0.2170490891202855,
          0.2841055913724219,
          0.33746510041734834,
          0.39831245685123795,
          0.5044074689539257,
          0.5853477857759892,
          0.6745593624495113,
          0.8236829402183181,
          0.9331376010710725,
          1.0503239782056446,
          1.2398919227157066,
          1.374906450548377
         ],
         "xaxis": "x2",
         "y": [
          0.10719118862600316,
          0.10719118862600316,
          0.10719118862600316,
          0.10719118862600316,
          0.10719118862600316,
          0.10719118862600316,
          0.10719118862600316,
          0.10719118862600316,
          0.10719118862600316,
          0.10719118862600316,
          0.10719118862600316,
          0.10719118862600316,
          0.10719118862600316,
          0.10719118862600316
         ],
         "yaxis": "y2"
        },
        {
         "hovertemplate": "<b>Error model: 2-sigma interval</b><br>Hypothetical measurement: %{y:.02f} cm^3<br>Cancer type: Lung cancer (LXF A677)<br><extra></extra>",
         "legendgroup": "Error model",
         "line": {
          "color": "Black"
         },
         "mode": "lines",
         "name": "Error model",
         "opacity": 0.5,
         "showlegend": false,
         "type": "scatter",
         "visible": false,
         "x": [
          0.14885739328352246,
          0.1801752438718177,
          0.2170490891202855,
          0.2841055913724219,
          0.33746510041734834,
          0.39831245685123795,
          0.5044074689539257,
          0.5853477857759892,
          0.6745593624495113,
          0.8236829402183181,
          0.9331376010710725,
          1.0503239782056446,
          1.2398919227157066,
          1.374906450548377
         ],
         "xaxis": "x2",
         "y": [
          -0.10719118862600316,
          -0.10719118862600316,
          -0.10719118862600316,
          -0.10719118862600316,
          -0.10719118862600316,
          -0.10719118862600316,
          -0.10719118862600316,
          -0.10719118862600316,
          -0.10719118862600316,
          -0.10719118862600316,
          -0.10719118862600316,
          -0.10719118862600316,
          -0.10719118862600316,
          -0.10719118862600316
         ],
         "yaxis": "y2"
        },
        {
         "hovertemplate": "<b>Error model: 3-sigma interval</b><br>Hypothetical residual: %{y:.02f} cm^3<br>Cancer type: Lung cancer (LXF A677)<br><extra></extra>",
         "legendgroup": "Error model",
         "line": {
          "color": "Black"
         },
         "mode": "lines",
         "name": "Error model",
         "opacity": 0.3,
         "showlegend": false,
         "type": "scatter",
         "visible": false,
         "x": [
          0.14885739328352246,
          0.1801752438718177,
          0.2170490891202855,
          0.2841055913724219,
          0.33746510041734834,
          0.39831245685123795,
          0.5044074689539257,
          0.5853477857759892,
          0.6745593624495113,
          0.8236829402183181,
          0.9331376010710725,
          1.0503239782056446,
          1.2398919227157066,
          1.374906450548377
         ],
         "xaxis": "x2",
         "y": [
          0.16078678293900472,
          0.16078678293900472,
          0.16078678293900472,
          0.16078678293900472,
          0.16078678293900472,
          0.16078678293900472,
          0.16078678293900472,
          0.16078678293900472,
          0.16078678293900472,
          0.16078678293900472,
          0.16078678293900472,
          0.16078678293900472,
          0.16078678293900472,
          0.16078678293900472
         ],
         "yaxis": "y2"
        },
        {
         "hovertemplate": "<b>Error model: 3-sigma interval</b><br>Hypothetical measurement: %{y:.02f} cm^3<br>Cancer type: Lung cancer (LXF A677)<br><extra></extra>",
         "legendgroup": "Error model",
         "line": {
          "color": "Black"
         },
         "mode": "lines",
         "name": "Error model",
         "opacity": 0.3,
         "showlegend": false,
         "type": "scatter",
         "visible": false,
         "x": [
          0.14885739328352246,
          0.1801752438718177,
          0.2170490891202855,
          0.2841055913724219,
          0.33746510041734834,
          0.39831245685123795,
          0.5044074689539257,
          0.5853477857759892,
          0.6745593624495113,
          0.8236829402183181,
          0.9331376010710725,
          1.0503239782056446,
          1.2398919227157066,
          1.374906450548377
         ],
         "xaxis": "x2",
         "y": [
          -0.16078678293900472,
          -0.16078678293900472,
          -0.16078678293900472,
          -0.16078678293900472,
          -0.16078678293900472,
          -0.16078678293900472,
          -0.16078678293900472,
          -0.16078678293900472,
          -0.16078678293900472,
          -0.16078678293900472,
          -0.16078678293900472,
          -0.16078678293900472,
          -0.16078678293900472,
          -0.16078678293900472
         ],
         "yaxis": "y2"
        },
        {
         "hovertemplate": "<b>ID: 140</b><br>Structural model: %{x:.02f} cm^3<br>Measurement: %{y:.02f} cm^3<br>Cancer type: Lung cancer (LXF A677)<br><extra></extra>",
         "legendgroup": "Measurement",
         "marker": {
          "color": "#FFA15A",
          "line": {
           "color": "black",
           "width": 1
          },
          "opacity": 0.7,
          "symbol": "circle"
         },
         "mode": "markers",
         "name": "Measurement",
         "showlegend": true,
         "type": "scatter",
         "visible": false,
         "x": [
          0.0841766431505713,
          0.10456203742665926,
          0.12986826846584673,
          0.17977261056863345,
          0.22328754510587231,
          0.27733190752930653,
          0.3838761360914642,
          0.476773742053005,
          0.5921379734279173,
          0.8195262463718683,
          1.0177358153444462,
          1.263822899312182,
          1.7487081277816519,
          2.171166566398839
         ],
         "xaxis": "x",
         "y": [
          0.0793305,
          0.12685200000000002,
          0.146072,
          0.261121,
          0.34574400000000005,
          0.3552,
          0.41905,
          0.48029799999999995,
          0.556668,
          0.8089919999999999,
          0.8573040000000001,
          1.097675,
          1.992144,
          2.1225820000000004
         ],
         "yaxis": "y"
        },
        {
         "hovertemplate": "<b>Error model: Mean</b><br>Hypothetical measurement: %{y:.02f} cm^3<br>Cancer type: Lung cancer (LXF A677)<br><extra></extra>",
         "legendgroup": "Error model",
         "line": {
          "color": "#FFA15A"
         },
         "mode": "lines",
         "name": "Error model",
         "opacity": 0.7,
         "showlegend": true,
         "type": "scatter",
         "visible": false,
         "x": [
          0.0841766431505713,
          0.10456203742665926,
          0.12986826846584673,
          0.17977261056863345,
          0.22328754510587231,
          0.27733190752930653,
          0.3838761360914642,
          0.476773742053005,
          0.5921379734279173,
          0.8195262463718683,
          1.0177358153444462,
          1.263822899312182,
          1.7487081277816519,
          2.171166566398839
         ],
         "xaxis": "x",
         "y": [
          0.0841766431505713,
          0.10456203742665926,
          0.12986826846584673,
          0.17977261056863345,
          0.22328754510587231,
          0.27733190752930653,
          0.3838761360914642,
          0.476773742053005,
          0.5921379734279173,
          0.8195262463718683,
          1.0177358153444462,
          1.263822899312182,
          1.7487081277816519,
          2.171166566398839
         ],
         "yaxis": "y"
        },
        {
         "hovertemplate": "<b>Error model: 1-sigma interval</b><br>Hypothetical measurement: %{y:.02f} cm^3<br>Cancer type: Lung cancer (LXF A677)<br><extra></extra>",
         "legendgroup": "Error model",
         "line": {
          "color": "Black"
         },
         "mode": "lines",
         "name": "Error model",
         "opacity": 0.7,
         "showlegend": false,
         "type": "scatter",
         "visible": false,
         "x": [
          0.0841766431505713,
          0.10456203742665926,
          0.12986826846584673,
          0.17977261056863345,
          0.22328754510587231,
          0.27733190752930653,
          0.3838761360914642,
          0.476773742053005,
          0.5921379734279173,
          0.8195262463718683,
          1.0177358153444462,
          1.263822899312182,
          1.7487081277816519,
          2.171166566398839
         ],
         "xaxis": "x",
         "y": [
          0.18630365511340233,
          0.2066890493894903,
          0.23199528042867776,
          0.2818996225314645,
          0.32541455706870337,
          0.37945891949213756,
          0.48600314805429523,
          0.578900754015836,
          0.6942649853907483,
          0.9216532583346994,
          1.1198628273072773,
          1.365949911275013,
          1.8508351397444829,
          2.27329357836167
         ],
         "yaxis": "y"
        },
        {
         "hovertemplate": "<b>Error model: 1-sigma interval</b><br>Hypothetical measurement: %{y:.02f} cm^3<br>Cancer type: Lung cancer (LXF A677)<br><extra></extra>",
         "legendgroup": "Error model",
         "line": {
          "color": "Black"
         },
         "mode": "lines",
         "name": "Error model",
         "opacity": 0.7,
         "showlegend": false,
         "type": "scatter",
         "visible": false,
         "x": [
          0.0841766431505713,
          0.10456203742665926,
          0.12986826846584673,
          0.17977261056863345,
          0.22328754510587231,
          0.27733190752930653,
          0.3838761360914642,
          0.476773742053005,
          0.5921379734279173,
          0.8195262463718683,
          1.0177358153444462,
          1.263822899312182,
          1.7487081277816519,
          2.171166566398839
         ],
         "xaxis": "x",
         "y": [
          -0.017950368812259726,
          0.002435025463828233,
          0.027741256503015704,
          0.07764559860580242,
          0.12116053314304129,
          0.1752048955664755,
          0.2817491241286332,
          0.37464673009017396,
          0.49001096146508627,
          0.7173992344090373,
          0.9156088033816152,
          1.161695887349351,
          1.6465811158188208,
          2.069039554436008
         ],
         "yaxis": "y"
        },
        {
         "hovertemplate": "<b>Error model: 2-sigma interval</b><br>Hypothetical measurement: %{y:.02f} cm^3<br>Cancer type: Lung cancer (LXF A677)<br><extra></extra>",
         "legendgroup": "Error model",
         "line": {
          "color": "Black",
          "width": 1.5
         },
         "mode": "lines",
         "name": "Error model",
         "opacity": 0.5,
         "showlegend": false,
         "type": "scatter",
         "visible": false,
         "x": [
          0.0841766431505713,
          0.10456203742665926,
          0.12986826846584673,
          0.17977261056863345,
          0.22328754510587231,
          0.27733190752930653,
          0.3838761360914642,
          0.476773742053005,
          0.5921379734279173,
          0.8195262463718683,
          1.0177358153444462,
          1.263822899312182,
          1.7487081277816519,
          2.171166566398839
         ],
         "xaxis": "x",
         "y": [
          0.2884306670762333,
          0.3088160613523213,
          0.3341222923915088,
          0.3840266344942955,
          0.4275415690315344,
          0.4815859314549686,
          0.5881301600171263,
          0.681027765978667,
          0.7963919973535794,
          1.0237802702975305,
          1.2219898392701083,
          1.4680769232378441,
          1.952962151707314,
          2.375420590324501
         ],
         "yaxis": "y"
        },
        {
         "hovertemplate": "<b>Error model: 2-sigma interval</b><br>Hypothetical measurement: %{y:.02f} cm^3<br>Cancer type: Lung cancer (LXF A677)<br><extra></extra>",
         "legendgroup": "Error model",
         "line": {
          "color": "Black",
          "width": 1.5
         },
         "mode": "lines",
         "name": "Error model",
         "opacity": 0.5,
         "showlegend": false,
         "type": "scatter",
         "visible": false,
         "x": [
          0.0841766431505713,
          0.10456203742665926,
          0.12986826846584673,
          0.17977261056863345,
          0.22328754510587231,
          0.27733190752930653,
          0.3838761360914642,
          0.476773742053005,
          0.5921379734279173,
          0.8195262463718683,
          1.0177358153444462,
          1.263822899312182,
          1.7487081277816519,
          2.171166566398839
         ],
         "xaxis": "x",
         "y": [
          -0.12007738077509075,
          -0.0996919864990028,
          -0.07438575545981532,
          -0.02448141335702861,
          0.01903352118021026,
          0.07307788360364448,
          0.17962211216580215,
          0.27251971812734294,
          0.38788394950225524,
          0.6152722224462063,
          0.8134817914187842,
          1.05956887538652,
          1.5444541038559898,
          1.9669125424731768
         ],
         "yaxis": "y"
        },
        {
         "hovertemplate": "<b>Error model: 3-sigma interval</b><br>Hypothetical measurement: %{y:.02f} cm^3<br>Cancer type: Lung cancer (LXF A677)<br><extra></extra>",
         "legendgroup": "Error model",
         "line": {
          "color": "Black",
          "width": 1
         },
         "mode": "lines",
         "name": "Error model",
         "opacity": 0.3,
         "showlegend": false,
         "type": "scatter",
         "visible": false,
         "x": [
          0.0841766431505713,
          0.10456203742665926,
          0.12986826846584673,
          0.17977261056863345,
          0.22328754510587231,
          0.27733190752930653,
          0.3838761360914642,
          0.476773742053005,
          0.5921379734279173,
          0.8195262463718683,
          1.0177358153444462,
          1.263822899312182,
          1.7487081277816519,
          2.171166566398839
         ],
         "xaxis": "x",
         "y": [
          0.39055767903906435,
          0.41094307331515234,
          0.43624930435433984,
          0.48615364645712655,
          0.5296685809943654,
          0.5837129434177997,
          0.6902571719799573,
          0.783154777941498,
          0.8985190093164104,
          1.1259072822603615,
          1.3241168512329393,
          1.5702039352006751,
          2.0550891636701447,
          2.477547602287332
         ],
         "yaxis": "y"
        },
        {
         "hovertemplate": "<b>Error model: 3-sigma interval</b><br>Hypothetical measurement: %{y:.02f} cm^3<br>Cancer type: Lung cancer (LXF A677)<br><extra></extra>",
         "legendgroup": "Error model",
         "line": {
          "color": "Black",
          "width": 1
         },
         "mode": "lines",
         "name": "Error model",
         "opacity": 0.3,
         "showlegend": false,
         "type": "scatter",
         "visible": false,
         "x": [
          0.0841766431505713,
          0.10456203742665926,
          0.12986826846584673,
          0.17977261056863345,
          0.22328754510587231,
          0.27733190752930653,
          0.3838761360914642,
          0.476773742053005,
          0.5921379734279173,
          0.8195262463718683,
          1.0177358153444462,
          1.263822899312182,
          1.7487081277816519,
          2.171166566398839
         ],
         "xaxis": "x",
         "y": [
          -0.22220439273792178,
          -0.20181899846183382,
          -0.17651276742264635,
          -0.12660842531985964,
          -0.08309349078262077,
          -0.02904912835918655,
          0.07749510020297112,
          0.1703927061645119,
          0.2857569375394242,
          0.5131452104833752,
          0.7113547794559532,
          0.957441863423689,
          1.4423270918931588,
          1.8647855305103458
         ],
         "yaxis": "y"
        },
        {
         "hovertemplate": "<b>ID: 140</b><br>Structural model: %{x:.02f} cm^3<br>Residual: %{y:.02f} cm^3<br>Cancer type: Lung cancer (LXF A677)<br><extra></extra>",
         "legendgroup": "Measurement",
         "marker": {
          "color": "#FFA15A",
          "line": {
           "color": "black",
           "width": 1
          },
          "opacity": 0.7,
          "symbol": "circle"
         },
         "mode": "markers",
         "name": "Measurement",
         "showlegend": false,
         "type": "scatter",
         "visible": false,
         "x": [
          0.0841766431505713,
          0.10456203742665926,
          0.12986826846584673,
          0.17977261056863345,
          0.22328754510587231,
          0.27733190752930653,
          0.3838761360914642,
          0.476773742053005,
          0.5921379734279173,
          0.8195262463718683,
          1.0177358153444462,
          1.263822899312182,
          1.7487081277816519,
          2.171166566398839
         ],
         "xaxis": "x2",
         "y": [
          -0.004846143150571303,
          0.02228996257334076,
          0.016203731534153276,
          0.08134838943136655,
          0.12245645489412774,
          0.07786809247069348,
          0.035173863908535774,
          0.0035242579469949575,
          -0.035469973427917245,
          -0.010534246371868394,
          -0.16043181534444617,
          -0.1661478993121821,
          0.24343587221834806,
          -0.04858456639883846
         ],
         "yaxis": "y2"
        },
        {
         "hovertemplate": "<b>Error model: Mean</b><br>Hypothetical residual: %{y:.02f} cm^3<br>Cancer type: Lung cancer (LXF A677)<br><extra></extra>",
         "legendgroup": "Error model",
         "line": {
          "color": "#FFA15A"
         },
         "mode": "lines",
         "name": "Error model",
         "opacity": 0.7,
         "showlegend": false,
         "type": "scatter",
         "visible": false,
         "x": [
          0.0841766431505713,
          0.10456203742665926,
          0.12986826846584673,
          0.17977261056863345,
          0.22328754510587231,
          0.27733190752930653,
          0.3838761360914642,
          0.476773742053005,
          0.5921379734279173,
          0.8195262463718683,
          1.0177358153444462,
          1.263822899312182,
          1.7487081277816519,
          2.171166566398839
         ],
         "xaxis": "x2",
         "y": [
          0,
          0,
          0,
          0,
          0,
          0,
          0,
          0,
          0,
          0,
          0,
          0,
          0,
          0
         ],
         "yaxis": "y2"
        },
        {
         "hovertemplate": "<b>Error model: 1-sigma interval</b><br>Hypothetical residual: %{y:.02f} cm^3<br>Cancer type: Lung cancer (LXF A677)<br><extra></extra>",
         "legendgroup": "Error model",
         "line": {
          "color": "Black"
         },
         "mode": "lines",
         "name": "Error model",
         "opacity": 0.7,
         "showlegend": false,
         "type": "scatter",
         "visible": false,
         "x": [
          0.0841766431505713,
          0.10456203742665926,
          0.12986826846584673,
          0.17977261056863345,
          0.22328754510587231,
          0.27733190752930653,
          0.3838761360914642,
          0.476773742053005,
          0.5921379734279173,
          0.8195262463718683,
          1.0177358153444462,
          1.263822899312182,
          1.7487081277816519,
          2.171166566398839
         ],
         "xaxis": "x2",
         "y": [
          0.10212701196283103,
          0.10212701196283103,
          0.10212701196283103,
          0.10212701196283103,
          0.10212701196283103,
          0.10212701196283103,
          0.10212701196283103,
          0.10212701196283103,
          0.10212701196283103,
          0.10212701196283103,
          0.10212701196283103,
          0.10212701196283103,
          0.10212701196283103,
          0.10212701196283103
         ],
         "yaxis": "y2"
        },
        {
         "hovertemplate": "<b>Error model: 1-sigma interval</b><br>Hypothetical measurement: %{y:.02f} cm^3<br>Cancer type: Lung cancer (LXF A677)<br><extra></extra>",
         "legendgroup": "Error model",
         "line": {
          "color": "Black"
         },
         "mode": "lines",
         "name": "Error model",
         "opacity": 0.7,
         "showlegend": false,
         "type": "scatter",
         "visible": false,
         "x": [
          0.0841766431505713,
          0.10456203742665926,
          0.12986826846584673,
          0.17977261056863345,
          0.22328754510587231,
          0.27733190752930653,
          0.3838761360914642,
          0.476773742053005,
          0.5921379734279173,
          0.8195262463718683,
          1.0177358153444462,
          1.263822899312182,
          1.7487081277816519,
          2.171166566398839
         ],
         "xaxis": "x2",
         "y": [
          -0.10212701196283103,
          -0.10212701196283103,
          -0.10212701196283103,
          -0.10212701196283103,
          -0.10212701196283103,
          -0.10212701196283103,
          -0.10212701196283103,
          -0.10212701196283103,
          -0.10212701196283103,
          -0.10212701196283103,
          -0.10212701196283103,
          -0.10212701196283103,
          -0.10212701196283103,
          -0.10212701196283103
         ],
         "yaxis": "y2"
        },
        {
         "hovertemplate": "<b>Error model: 2-sigma interval</b><br>Hypothetical residual: %{y:.02f} cm^3<br>Cancer type: Lung cancer (LXF A677)<br><extra></extra>",
         "legendgroup": "Error model",
         "line": {
          "color": "Black"
         },
         "mode": "lines",
         "name": "Error model",
         "opacity": 0.5,
         "showlegend": false,
         "type": "scatter",
         "visible": false,
         "x": [
          0.0841766431505713,
          0.10456203742665926,
          0.12986826846584673,
          0.17977261056863345,
          0.22328754510587231,
          0.27733190752930653,
          0.3838761360914642,
          0.476773742053005,
          0.5921379734279173,
          0.8195262463718683,
          1.0177358153444462,
          1.263822899312182,
          1.7487081277816519,
          2.171166566398839
         ],
         "xaxis": "x2",
         "y": [
          0.20425402392566205,
          0.20425402392566205,
          0.20425402392566205,
          0.20425402392566205,
          0.20425402392566205,
          0.20425402392566205,
          0.20425402392566205,
          0.20425402392566205,
          0.20425402392566205,
          0.20425402392566205,
          0.20425402392566205,
          0.20425402392566205,
          0.20425402392566205,
          0.20425402392566205
         ],
         "yaxis": "y2"
        },
        {
         "hovertemplate": "<b>Error model: 2-sigma interval</b><br>Hypothetical measurement: %{y:.02f} cm^3<br>Cancer type: Lung cancer (LXF A677)<br><extra></extra>",
         "legendgroup": "Error model",
         "line": {
          "color": "Black"
         },
         "mode": "lines",
         "name": "Error model",
         "opacity": 0.5,
         "showlegend": false,
         "type": "scatter",
         "visible": false,
         "x": [
          0.0841766431505713,
          0.10456203742665926,
          0.12986826846584673,
          0.17977261056863345,
          0.22328754510587231,
          0.27733190752930653,
          0.3838761360914642,
          0.476773742053005,
          0.5921379734279173,
          0.8195262463718683,
          1.0177358153444462,
          1.263822899312182,
          1.7487081277816519,
          2.171166566398839
         ],
         "xaxis": "x2",
         "y": [
          -0.20425402392566205,
          -0.20425402392566205,
          -0.20425402392566205,
          -0.20425402392566205,
          -0.20425402392566205,
          -0.20425402392566205,
          -0.20425402392566205,
          -0.20425402392566205,
          -0.20425402392566205,
          -0.20425402392566205,
          -0.20425402392566205,
          -0.20425402392566205,
          -0.20425402392566205,
          -0.20425402392566205
         ],
         "yaxis": "y2"
        },
        {
         "hovertemplate": "<b>Error model: 3-sigma interval</b><br>Hypothetical residual: %{y:.02f} cm^3<br>Cancer type: Lung cancer (LXF A677)<br><extra></extra>",
         "legendgroup": "Error model",
         "line": {
          "color": "Black"
         },
         "mode": "lines",
         "name": "Error model",
         "opacity": 0.3,
         "showlegend": false,
         "type": "scatter",
         "visible": false,
         "x": [
          0.0841766431505713,
          0.10456203742665926,
          0.12986826846584673,
          0.17977261056863345,
          0.22328754510587231,
          0.27733190752930653,
          0.3838761360914642,
          0.476773742053005,
          0.5921379734279173,
          0.8195262463718683,
          1.0177358153444462,
          1.263822899312182,
          1.7487081277816519,
          2.171166566398839
         ],
         "xaxis": "x2",
         "y": [
          0.3063810358884931,
          0.3063810358884931,
          0.3063810358884931,
          0.3063810358884931,
          0.3063810358884931,
          0.3063810358884931,
          0.3063810358884931,
          0.3063810358884931,
          0.3063810358884931,
          0.3063810358884931,
          0.3063810358884931,
          0.3063810358884931,
          0.3063810358884931,
          0.3063810358884931
         ],
         "yaxis": "y2"
        },
        {
         "hovertemplate": "<b>Error model: 3-sigma interval</b><br>Hypothetical measurement: %{y:.02f} cm^3<br>Cancer type: Lung cancer (LXF A677)<br><extra></extra>",
         "legendgroup": "Error model",
         "line": {
          "color": "Black"
         },
         "mode": "lines",
         "name": "Error model",
         "opacity": 0.3,
         "showlegend": false,
         "type": "scatter",
         "visible": false,
         "x": [
          0.0841766431505713,
          0.10456203742665926,
          0.12986826846584673,
          0.17977261056863345,
          0.22328754510587231,
          0.27733190752930653,
          0.3838761360914642,
          0.476773742053005,
          0.5921379734279173,
          0.8195262463718683,
          1.0177358153444462,
          1.263822899312182,
          1.7487081277816519,
          2.171166566398839
         ],
         "xaxis": "x2",
         "y": [
          -0.3063810358884931,
          -0.3063810358884931,
          -0.3063810358884931,
          -0.3063810358884931,
          -0.3063810358884931,
          -0.3063810358884931,
          -0.3063810358884931,
          -0.3063810358884931,
          -0.3063810358884931,
          -0.3063810358884931,
          -0.3063810358884931,
          -0.3063810358884931,
          -0.3063810358884931,
          -0.3063810358884931
         ],
         "yaxis": "y2"
        },
        {
         "hovertemplate": "<b>ID: 155</b><br>Structural model: %{x:.02f} cm^3<br>Measurement: %{y:.02f} cm^3<br>Cancer type: Lung cancer (LXF A677)<br><extra></extra>",
         "legendgroup": "Measurement",
         "marker": {
          "color": "#19D3F3",
          "line": {
           "color": "black",
           "width": 1
          },
          "opacity": 0.7,
          "symbol": "circle"
         },
         "mode": "markers",
         "name": "Measurement",
         "showlegend": true,
         "type": "scatter",
         "visible": false,
         "x": [
          0.13327406616671608,
          0.21667954848581863,
          0.32345796850613256,
          0.5190055525409336,
          0.6671599849022665,
          0.8257349273210978,
          1.078162316498397,
          1.2538797532271277,
          1.4341393884094906,
          1.7113012111782537,
          1.8997114321674053,
          2.090510337843381
         ],
         "xaxis": "x",
         "y": [
          0.105875,
          0.167706,
          0.35632800000000003,
          0.6489600000000001,
          0.692224,
          0.7300800000000001,
          0.81648,
          1.4949540000000001,
          1.5166985,
          1.72405,
          1.637784,
          2.25108
         ],
         "yaxis": "y"
        },
        {
         "hovertemplate": "<b>Error model: Mean</b><br>Hypothetical measurement: %{y:.02f} cm^3<br>Cancer type: Lung cancer (LXF A677)<br><extra></extra>",
         "legendgroup": "Error model",
         "line": {
          "color": "#19D3F3"
         },
         "mode": "lines",
         "name": "Error model",
         "opacity": 0.7,
         "showlegend": true,
         "type": "scatter",
         "visible": false,
         "x": [
          0.13327406616671608,
          0.21667954848581863,
          0.32345796850613256,
          0.5190055525409336,
          0.6671599849022665,
          0.8257349273210978,
          1.078162316498397,
          1.2538797532271277,
          1.4341393884094906,
          1.7113012111782537,
          1.8997114321674053,
          2.090510337843381
         ],
         "xaxis": "x",
         "y": [
          0.13327406616671608,
          0.21667954848581863,
          0.32345796850613256,
          0.5190055525409336,
          0.6671599849022665,
          0.8257349273210978,
          1.078162316498397,
          1.2538797532271277,
          1.4341393884094906,
          1.7113012111782537,
          1.8997114321674053,
          2.090510337843381
         ],
         "yaxis": "y"
        },
        {
         "hovertemplate": "<b>Error model: 1-sigma interval</b><br>Hypothetical measurement: %{y:.02f} cm^3<br>Cancer type: Lung cancer (LXF A677)<br><extra></extra>",
         "legendgroup": "Error model",
         "line": {
          "color": "Black"
         },
         "mode": "lines",
         "name": "Error model",
         "opacity": 0.7,
         "showlegend": false,
         "type": "scatter",
         "visible": false,
         "x": [
          0.13327406616671608,
          0.21667954848581863,
          0.32345796850613256,
          0.5190055525409336,
          0.6671599849022665,
          0.8257349273210978,
          1.078162316498397,
          1.2538797532271277,
          1.4341393884094906,
          1.7113012111782537,
          1.8997114321674053,
          2.090510337843381
         ],
         "xaxis": "x",
         "y": [
          0.2801170368247785,
          0.3635225191438811,
          0.470300939164195,
          0.6658485231989961,
          0.814002955560329,
          0.9725778979791602,
          1.2250052871564596,
          1.4007227238851903,
          1.5809823590675531,
          1.8581441818363162,
          2.0465544028254676,
          2.237353308501443
         ],
         "yaxis": "y"
        },
        {
         "hovertemplate": "<b>Error model: 1-sigma interval</b><br>Hypothetical measurement: %{y:.02f} cm^3<br>Cancer type: Lung cancer (LXF A677)<br><extra></extra>",
         "legendgroup": "Error model",
         "line": {
          "color": "Black"
         },
         "mode": "lines",
         "name": "Error model",
         "opacity": 0.7,
         "showlegend": false,
         "type": "scatter",
         "visible": false,
         "x": [
          0.13327406616671608,
          0.21667954848581863,
          0.32345796850613256,
          0.5190055525409336,
          0.6671599849022665,
          0.8257349273210978,
          1.078162316498397,
          1.2538797532271277,
          1.4341393884094906,
          1.7113012111782537,
          1.8997114321674053,
          2.090510337843381
         ],
         "xaxis": "x",
         "y": [
          -0.013568904491346373,
          0.06983657782775618,
          0.1766149978480701,
          0.37216258188287116,
          0.520317014244204,
          0.6788919566630354,
          0.9313193458403346,
          1.1070367825690652,
          1.2872964177514281,
          1.5644582405201912,
          1.7528684615093428,
          1.9436673671853184
         ],
         "yaxis": "y"
        },
        {
         "hovertemplate": "<b>Error model: 2-sigma interval</b><br>Hypothetical measurement: %{y:.02f} cm^3<br>Cancer type: Lung cancer (LXF A677)<br><extra></extra>",
         "legendgroup": "Error model",
         "line": {
          "color": "Black",
          "width": 1.5
         },
         "mode": "lines",
         "name": "Error model",
         "opacity": 0.5,
         "showlegend": false,
         "type": "scatter",
         "visible": false,
         "x": [
          0.13327406616671608,
          0.21667954848581863,
          0.32345796850613256,
          0.5190055525409336,
          0.6671599849022665,
          0.8257349273210978,
          1.078162316498397,
          1.2538797532271277,
          1.4341393884094906,
          1.7113012111782537,
          1.8997114321674053,
          2.090510337843381
         ],
         "xaxis": "x",
         "y": [
          0.426960007482841,
          0.5103654898019435,
          0.6171439098222575,
          0.8126914938570585,
          0.9608459262183914,
          1.1194208686372227,
          1.3718482578145221,
          1.5475656945432528,
          1.7278253297256154,
          2.0049871524943788,
          2.1933973734835304,
          2.384196279159506
         ],
         "yaxis": "y"
        },
        {
         "hovertemplate": "<b>Error model: 2-sigma interval</b><br>Hypothetical measurement: %{y:.02f} cm^3<br>Cancer type: Lung cancer (LXF A677)<br><extra></extra>",
         "legendgroup": "Error model",
         "line": {
          "color": "Black",
          "width": 1.5
         },
         "mode": "lines",
         "name": "Error model",
         "opacity": 0.5,
         "showlegend": false,
         "type": "scatter",
         "visible": false,
         "x": [
          0.13327406616671608,
          0.21667954848581863,
          0.32345796850613256,
          0.5190055525409336,
          0.6671599849022665,
          0.8257349273210978,
          1.078162316498397,
          1.2538797532271277,
          1.4341393884094906,
          1.7113012111782537,
          1.8997114321674053,
          2.090510337843381
         ],
         "xaxis": "x",
         "y": [
          -0.16041187514940883,
          -0.07700639283030628,
          0.029772027190007655,
          0.2253196112248087,
          0.37347404358614156,
          0.5320489860049729,
          0.7844763751822722,
          0.9601938119110028,
          1.1404534470933658,
          1.4176152698621287,
          1.6060254908512803,
          1.796824396527256
         ],
         "yaxis": "y"
        },
        {
         "hovertemplate": "<b>Error model: 3-sigma interval</b><br>Hypothetical measurement: %{y:.02f} cm^3<br>Cancer type: Lung cancer (LXF A677)<br><extra></extra>",
         "legendgroup": "Error model",
         "line": {
          "color": "Black",
          "width": 1
         },
         "mode": "lines",
         "name": "Error model",
         "opacity": 0.3,
         "showlegend": false,
         "type": "scatter",
         "visible": false,
         "x": [
          0.13327406616671608,
          0.21667954848581863,
          0.32345796850613256,
          0.5190055525409336,
          0.6671599849022665,
          0.8257349273210978,
          1.078162316498397,
          1.2538797532271277,
          1.4341393884094906,
          1.7113012111782537,
          1.8997114321674053,
          2.090510337843381
         ],
         "xaxis": "x",
         "y": [
          0.5738029781409034,
          0.657208460460006,
          0.7639868804803199,
          0.9595344645151209,
          1.1076888968764538,
          1.2662638392952852,
          1.5186912284725844,
          1.694408665201315,
          1.874668300383678,
          2.151830123152441,
          2.3402403441415927,
          2.5310392498175682
         ],
         "yaxis": "y"
        },
        {
         "hovertemplate": "<b>Error model: 3-sigma interval</b><br>Hypothetical measurement: %{y:.02f} cm^3<br>Cancer type: Lung cancer (LXF A677)<br><extra></extra>",
         "legendgroup": "Error model",
         "line": {
          "color": "Black",
          "width": 1
         },
         "mode": "lines",
         "name": "Error model",
         "opacity": 0.3,
         "showlegend": false,
         "type": "scatter",
         "visible": false,
         "x": [
          0.13327406616671608,
          0.21667954848581863,
          0.32345796850613256,
          0.5190055525409336,
          0.6671599849022665,
          0.8257349273210978,
          1.078162316498397,
          1.2538797532271277,
          1.4341393884094906,
          1.7113012111782537,
          1.8997114321674053,
          2.090510337843381
         ],
         "xaxis": "x",
         "y": [
          -0.3072548458074713,
          -0.22384936348836873,
          -0.1170709434680548,
          0.07847664056674625,
          0.2266310729280791,
          0.3852060153469104,
          0.6376334045242098,
          0.8133508412529404,
          0.9936104764353033,
          1.2707722992040664,
          1.459182520193218,
          1.6499814258691936
         ],
         "yaxis": "y"
        },
        {
         "hovertemplate": "<b>ID: 155</b><br>Structural model: %{x:.02f} cm^3<br>Residual: %{y:.02f} cm^3<br>Cancer type: Lung cancer (LXF A677)<br><extra></extra>",
         "legendgroup": "Measurement",
         "marker": {
          "color": "#19D3F3",
          "line": {
           "color": "black",
           "width": 1
          },
          "opacity": 0.7,
          "symbol": "circle"
         },
         "mode": "markers",
         "name": "Measurement",
         "showlegend": false,
         "type": "scatter",
         "visible": false,
         "x": [
          0.13327406616671608,
          0.21667954848581863,
          0.32345796850613256,
          0.5190055525409336,
          0.6671599849022665,
          0.8257349273210978,
          1.078162316498397,
          1.2538797532271277,
          1.4341393884094906,
          1.7113012111782537,
          1.8997114321674053,
          2.090510337843381
         ],
         "xaxis": "x2",
         "y": [
          -0.027399066166716085,
          -0.04897354848581864,
          0.03287003149386747,
          0.12995444745906648,
          0.025064015097733483,
          -0.0956549273210977,
          -0.2616823164983971,
          0.24107424677287237,
          0.08255911159050933,
          0.012748788821746349,
          -0.26192743216740544,
          0.16056966215661905
         ],
         "yaxis": "y2"
        },
        {
         "hovertemplate": "<b>Error model: Mean</b><br>Hypothetical residual: %{y:.02f} cm^3<br>Cancer type: Lung cancer (LXF A677)<br><extra></extra>",
         "legendgroup": "Error model",
         "line": {
          "color": "#19D3F3"
         },
         "mode": "lines",
         "name": "Error model",
         "opacity": 0.7,
         "showlegend": false,
         "type": "scatter",
         "visible": false,
         "x": [
          0.13327406616671608,
          0.21667954848581863,
          0.32345796850613256,
          0.5190055525409336,
          0.6671599849022665,
          0.8257349273210978,
          1.078162316498397,
          1.2538797532271277,
          1.4341393884094906,
          1.7113012111782537,
          1.8997114321674053,
          2.090510337843381
         ],
         "xaxis": "x2",
         "y": [
          0,
          0,
          0,
          0,
          0,
          0,
          0,
          0,
          0,
          0,
          0,
          0
         ],
         "yaxis": "y2"
        },
        {
         "hovertemplate": "<b>Error model: 1-sigma interval</b><br>Hypothetical residual: %{y:.02f} cm^3<br>Cancer type: Lung cancer (LXF A677)<br><extra></extra>",
         "legendgroup": "Error model",
         "line": {
          "color": "Black"
         },
         "mode": "lines",
         "name": "Error model",
         "opacity": 0.7,
         "showlegend": false,
         "type": "scatter",
         "visible": false,
         "x": [
          0.13327406616671608,
          0.21667954848581863,
          0.32345796850613256,
          0.5190055525409336,
          0.6671599849022665,
          0.8257349273210978,
          1.078162316498397,
          1.2538797532271277,
          1.4341393884094906,
          1.7113012111782537,
          1.8997114321674053,
          2.090510337843381
         ],
         "xaxis": "x2",
         "y": [
          0.14684297065806245,
          0.14684297065806245,
          0.14684297065806245,
          0.14684297065806245,
          0.14684297065806245,
          0.14684297065806245,
          0.14684297065806245,
          0.14684297065806245,
          0.14684297065806245,
          0.14684297065806245,
          0.14684297065806245,
          0.14684297065806245
         ],
         "yaxis": "y2"
        },
        {
         "hovertemplate": "<b>Error model: 1-sigma interval</b><br>Hypothetical measurement: %{y:.02f} cm^3<br>Cancer type: Lung cancer (LXF A677)<br><extra></extra>",
         "legendgroup": "Error model",
         "line": {
          "color": "Black"
         },
         "mode": "lines",
         "name": "Error model",
         "opacity": 0.7,
         "showlegend": false,
         "type": "scatter",
         "visible": false,
         "x": [
          0.13327406616671608,
          0.21667954848581863,
          0.32345796850613256,
          0.5190055525409336,
          0.6671599849022665,
          0.8257349273210978,
          1.078162316498397,
          1.2538797532271277,
          1.4341393884094906,
          1.7113012111782537,
          1.8997114321674053,
          2.090510337843381
         ],
         "xaxis": "x2",
         "y": [
          -0.14684297065806245,
          -0.14684297065806245,
          -0.14684297065806245,
          -0.14684297065806245,
          -0.14684297065806245,
          -0.14684297065806245,
          -0.14684297065806245,
          -0.14684297065806245,
          -0.14684297065806245,
          -0.14684297065806245,
          -0.14684297065806245,
          -0.14684297065806245
         ],
         "yaxis": "y2"
        },
        {
         "hovertemplate": "<b>Error model: 2-sigma interval</b><br>Hypothetical residual: %{y:.02f} cm^3<br>Cancer type: Lung cancer (LXF A677)<br><extra></extra>",
         "legendgroup": "Error model",
         "line": {
          "color": "Black"
         },
         "mode": "lines",
         "name": "Error model",
         "opacity": 0.5,
         "showlegend": false,
         "type": "scatter",
         "visible": false,
         "x": [
          0.13327406616671608,
          0.21667954848581863,
          0.32345796850613256,
          0.5190055525409336,
          0.6671599849022665,
          0.8257349273210978,
          1.078162316498397,
          1.2538797532271277,
          1.4341393884094906,
          1.7113012111782537,
          1.8997114321674053,
          2.090510337843381
         ],
         "xaxis": "x2",
         "y": [
          0.2936859413161249,
          0.2936859413161249,
          0.2936859413161249,
          0.2936859413161249,
          0.2936859413161249,
          0.2936859413161249,
          0.2936859413161249,
          0.2936859413161249,
          0.2936859413161249,
          0.2936859413161249,
          0.2936859413161249,
          0.2936859413161249
         ],
         "yaxis": "y2"
        },
        {
         "hovertemplate": "<b>Error model: 2-sigma interval</b><br>Hypothetical measurement: %{y:.02f} cm^3<br>Cancer type: Lung cancer (LXF A677)<br><extra></extra>",
         "legendgroup": "Error model",
         "line": {
          "color": "Black"
         },
         "mode": "lines",
         "name": "Error model",
         "opacity": 0.5,
         "showlegend": false,
         "type": "scatter",
         "visible": false,
         "x": [
          0.13327406616671608,
          0.21667954848581863,
          0.32345796850613256,
          0.5190055525409336,
          0.6671599849022665,
          0.8257349273210978,
          1.078162316498397,
          1.2538797532271277,
          1.4341393884094906,
          1.7113012111782537,
          1.8997114321674053,
          2.090510337843381
         ],
         "xaxis": "x2",
         "y": [
          -0.2936859413161249,
          -0.2936859413161249,
          -0.2936859413161249,
          -0.2936859413161249,
          -0.2936859413161249,
          -0.2936859413161249,
          -0.2936859413161249,
          -0.2936859413161249,
          -0.2936859413161249,
          -0.2936859413161249,
          -0.2936859413161249,
          -0.2936859413161249
         ],
         "yaxis": "y2"
        },
        {
         "hovertemplate": "<b>Error model: 3-sigma interval</b><br>Hypothetical residual: %{y:.02f} cm^3<br>Cancer type: Lung cancer (LXF A677)<br><extra></extra>",
         "legendgroup": "Error model",
         "line": {
          "color": "Black"
         },
         "mode": "lines",
         "name": "Error model",
         "opacity": 0.3,
         "showlegend": false,
         "type": "scatter",
         "visible": false,
         "x": [
          0.13327406616671608,
          0.21667954848581863,
          0.32345796850613256,
          0.5190055525409336,
          0.6671599849022665,
          0.8257349273210978,
          1.078162316498397,
          1.2538797532271277,
          1.4341393884094906,
          1.7113012111782537,
          1.8997114321674053,
          2.090510337843381
         ],
         "xaxis": "x2",
         "y": [
          0.44052891197418736,
          0.44052891197418736,
          0.44052891197418736,
          0.44052891197418736,
          0.44052891197418736,
          0.44052891197418736,
          0.44052891197418736,
          0.44052891197418736,
          0.44052891197418736,
          0.44052891197418736,
          0.44052891197418736,
          0.44052891197418736
         ],
         "yaxis": "y2"
        },
        {
         "hovertemplate": "<b>Error model: 3-sigma interval</b><br>Hypothetical measurement: %{y:.02f} cm^3<br>Cancer type: Lung cancer (LXF A677)<br><extra></extra>",
         "legendgroup": "Error model",
         "line": {
          "color": "Black"
         },
         "mode": "lines",
         "name": "Error model",
         "opacity": 0.3,
         "showlegend": false,
         "type": "scatter",
         "visible": false,
         "x": [
          0.13327406616671608,
          0.21667954848581863,
          0.32345796850613256,
          0.5190055525409336,
          0.6671599849022665,
          0.8257349273210978,
          1.078162316498397,
          1.2538797532271277,
          1.4341393884094906,
          1.7113012111782537,
          1.8997114321674053,
          2.090510337843381
         ],
         "xaxis": "x2",
         "y": [
          -0.44052891197418736,
          -0.44052891197418736,
          -0.44052891197418736,
          -0.44052891197418736,
          -0.44052891197418736,
          -0.44052891197418736,
          -0.44052891197418736,
          -0.44052891197418736,
          -0.44052891197418736,
          -0.44052891197418736,
          -0.44052891197418736,
          -0.44052891197418736
         ],
         "yaxis": "y2"
        },
        {
         "hovertemplate": "<b>ID: 169</b><br>Structural model: %{x:.02f} cm^3<br>Measurement: %{y:.02f} cm^3<br>Cancer type: Lung cancer (LXF A677)<br><extra></extra>",
         "legendgroup": "Measurement",
         "marker": {
          "color": "#FF6692",
          "line": {
           "color": "black",
           "width": 1
          },
          "opacity": 0.7,
          "symbol": "circle"
         },
         "mode": "markers",
         "name": "Measurement",
         "showlegend": true,
         "type": "scatter",
         "visible": false,
         "x": [
          0.12380946813262461,
          0.14368245360440998,
          0.16621612866326155,
          0.20548239808833932,
          0.2355750244365649,
          0.26899867863809496,
          0.32567810267896924,
          0.36796685043047,
          0.4139721483571292,
          0.4899627284431305,
          0.5452472383368052,
          0.6041731622601781,
          0.6992152097753618,
          0.7668568993471954
         ],
         "xaxis": "x",
         "y": [
          0.123008,
          0.128774,
          0.1764,
          0.20516650000000006,
          0.24605349999999998,
          0.2788425,
          0.333036,
          0.35644499999999996,
          0.39285,
          0.479859,
          0.5390550000000001,
          0.6354195,
          0.7146180000000001,
          0.7469865
         ],
         "yaxis": "y"
        },
        {
         "hovertemplate": "<b>Error model: Mean</b><br>Hypothetical measurement: %{y:.02f} cm^3<br>Cancer type: Lung cancer (LXF A677)<br><extra></extra>",
         "legendgroup": "Error model",
         "line": {
          "color": "#FF6692"
         },
         "mode": "lines",
         "name": "Error model",
         "opacity": 0.7,
         "showlegend": true,
         "type": "scatter",
         "visible": false,
         "x": [
          0.12380946813262461,
          0.14368245360440998,
          0.16621612866326155,
          0.20548239808833932,
          0.2355750244365649,
          0.26899867863809496,
          0.32567810267896924,
          0.36796685043047,
          0.4139721483571292,
          0.4899627284431305,
          0.5452472383368052,
          0.6041731622601781,
          0.6992152097753618,
          0.7668568993471954
         ],
         "xaxis": "x",
         "y": [
          0.12380946813262461,
          0.14368245360440998,
          0.16621612866326155,
          0.20548239808833932,
          0.2355750244365649,
          0.26899867863809496,
          0.32567810267896924,
          0.36796685043047,
          0.4139721483571292,
          0.4899627284431305,
          0.5452472383368052,
          0.6041731622601781,
          0.6992152097753618,
          0.7668568993471954
         ],
         "yaxis": "y"
        },
        {
         "hovertemplate": "<b>Error model: 1-sigma interval</b><br>Hypothetical measurement: %{y:.02f} cm^3<br>Cancer type: Lung cancer (LXF A677)<br><extra></extra>",
         "legendgroup": "Error model",
         "line": {
          "color": "Black"
         },
         "mode": "lines",
         "name": "Error model",
         "opacity": 0.7,
         "showlegend": false,
         "type": "scatter",
         "visible": false,
         "x": [
          0.12380946813262461,
          0.14368245360440998,
          0.16621612866326155,
          0.20548239808833932,
          0.2355750244365649,
          0.26899867863809496,
          0.32567810267896924,
          0.36796685043047,
          0.4139721483571292,
          0.4899627284431305,
          0.5452472383368052,
          0.6041731622601781,
          0.6992152097753618,
          0.7668568993471954
         ],
         "xaxis": "x",
         "y": [
          0.13824071334988083,
          0.1581136988216662,
          0.18064737388051777,
          0.21991364330559554,
          0.2500062696538211,
          0.28342992385535115,
          0.34010934789622543,
          0.3823980956477262,
          0.4284033935743854,
          0.5043939736603867,
          0.5596784835540615,
          0.6186044074774344,
          0.713646454992618,
          0.7812881445644516
         ],
         "yaxis": "y"
        },
        {
         "hovertemplate": "<b>Error model: 1-sigma interval</b><br>Hypothetical measurement: %{y:.02f} cm^3<br>Cancer type: Lung cancer (LXF A677)<br><extra></extra>",
         "legendgroup": "Error model",
         "line": {
          "color": "Black"
         },
         "mode": "lines",
         "name": "Error model",
         "opacity": 0.7,
         "showlegend": false,
         "type": "scatter",
         "visible": false,
         "x": [
          0.12380946813262461,
          0.14368245360440998,
          0.16621612866326155,
          0.20548239808833932,
          0.2355750244365649,
          0.26899867863809496,
          0.32567810267896924,
          0.36796685043047,
          0.4139721483571292,
          0.4899627284431305,
          0.5452472383368052,
          0.6041731622601781,
          0.6992152097753618,
          0.7668568993471954
         ],
         "xaxis": "x",
         "y": [
          0.1093782229153684,
          0.12925120838715376,
          0.15178488344600533,
          0.1910511528710831,
          0.22114377921930867,
          0.25456743342083876,
          0.31124685746171304,
          0.3535356052132138,
          0.399540903139873,
          0.4755314832258743,
          0.530815993119549,
          0.5897419170429219,
          0.6847839645581055,
          0.7524256541299391
         ],
         "yaxis": "y"
        },
        {
         "hovertemplate": "<b>Error model: 2-sigma interval</b><br>Hypothetical measurement: %{y:.02f} cm^3<br>Cancer type: Lung cancer (LXF A677)<br><extra></extra>",
         "legendgroup": "Error model",
         "line": {
          "color": "Black",
          "width": 1.5
         },
         "mode": "lines",
         "name": "Error model",
         "opacity": 0.5,
         "showlegend": false,
         "type": "scatter",
         "visible": false,
         "x": [
          0.12380946813262461,
          0.14368245360440998,
          0.16621612866326155,
          0.20548239808833932,
          0.2355750244365649,
          0.26899867863809496,
          0.32567810267896924,
          0.36796685043047,
          0.4139721483571292,
          0.4899627284431305,
          0.5452472383368052,
          0.6041731622601781,
          0.6992152097753618,
          0.7668568993471954
         ],
         "xaxis": "x",
         "y": [
          0.15267195856713703,
          0.1725449440389224,
          0.19507861909777396,
          0.23434488852285174,
          0.2644375148710773,
          0.2978611690726074,
          0.3545405931134817,
          0.39682934086498245,
          0.44283463879164164,
          0.5188252188776429,
          0.5741097287713176,
          0.6330356526946905,
          0.7280777002098742,
          0.7957193897817078
         ],
         "yaxis": "y"
        },
        {
         "hovertemplate": "<b>Error model: 2-sigma interval</b><br>Hypothetical measurement: %{y:.02f} cm^3<br>Cancer type: Lung cancer (LXF A677)<br><extra></extra>",
         "legendgroup": "Error model",
         "line": {
          "color": "Black",
          "width": 1.5
         },
         "mode": "lines",
         "name": "Error model",
         "opacity": 0.5,
         "showlegend": false,
         "type": "scatter",
         "visible": false,
         "x": [
          0.12380946813262461,
          0.14368245360440998,
          0.16621612866326155,
          0.20548239808833932,
          0.2355750244365649,
          0.26899867863809496,
          0.32567810267896924,
          0.36796685043047,
          0.4139721483571292,
          0.4899627284431305,
          0.5452472383368052,
          0.6041731622601781,
          0.6992152097753618,
          0.7668568993471954
         ],
         "xaxis": "x",
         "y": [
          0.09494697769811218,
          0.11481996316989755,
          0.13735363822874913,
          0.1766199076538269,
          0.20671253400205247,
          0.24013618820358254,
          0.2968156122444568,
          0.33910435999595756,
          0.38510965792261675,
          0.46110023800861805,
          0.5163847479022928,
          0.5753106718256658,
          0.6703527193408494,
          0.737994408912683
         ],
         "yaxis": "y"
        },
        {
         "hovertemplate": "<b>Error model: 3-sigma interval</b><br>Hypothetical measurement: %{y:.02f} cm^3<br>Cancer type: Lung cancer (LXF A677)<br><extra></extra>",
         "legendgroup": "Error model",
         "line": {
          "color": "Black",
          "width": 1
         },
         "mode": "lines",
         "name": "Error model",
         "opacity": 0.3,
         "showlegend": false,
         "type": "scatter",
         "visible": false,
         "x": [
          0.12380946813262461,
          0.14368245360440998,
          0.16621612866326155,
          0.20548239808833932,
          0.2355750244365649,
          0.26899867863809496,
          0.32567810267896924,
          0.36796685043047,
          0.4139721483571292,
          0.4899627284431305,
          0.5452472383368052,
          0.6041731622601781,
          0.6992152097753618,
          0.7668568993471954
         ],
         "xaxis": "x",
         "y": [
          0.16710320378439325,
          0.18697618925617862,
          0.2095098643150302,
          0.24877613374010796,
          0.2788687600883335,
          0.3122924142898636,
          0.3689718383307379,
          0.41126058608223864,
          0.45726588400889784,
          0.5332564640948991,
          0.5885409739885739,
          0.6474668979119468,
          0.7425089454271304,
          0.810150634998964
         ],
         "yaxis": "y"
        },
        {
         "hovertemplate": "<b>Error model: 3-sigma interval</b><br>Hypothetical measurement: %{y:.02f} cm^3<br>Cancer type: Lung cancer (LXF A677)<br><extra></extra>",
         "legendgroup": "Error model",
         "line": {
          "color": "Black",
          "width": 1
         },
         "mode": "lines",
         "name": "Error model",
         "opacity": 0.3,
         "showlegend": false,
         "type": "scatter",
         "visible": false,
         "x": [
          0.12380946813262461,
          0.14368245360440998,
          0.16621612866326155,
          0.20548239808833932,
          0.2355750244365649,
          0.26899867863809496,
          0.32567810267896924,
          0.36796685043047,
          0.4139721483571292,
          0.4899627284431305,
          0.5452472383368052,
          0.6041731622601781,
          0.6992152097753618,
          0.7668568993471954
         ],
         "xaxis": "x",
         "y": [
          0.08051573248085597,
          0.10038871795264134,
          0.12292239301149291,
          0.16218866243657068,
          0.19228128878479625,
          0.22570494298632632,
          0.2823843670272006,
          0.32467311477870137,
          0.37067841270536056,
          0.44666899279136185,
          0.5019535026850366,
          0.5608794266084095,
          0.6559214741235931,
          0.7235631636954267
         ],
         "yaxis": "y"
        },
        {
         "hovertemplate": "<b>ID: 169</b><br>Structural model: %{x:.02f} cm^3<br>Residual: %{y:.02f} cm^3<br>Cancer type: Lung cancer (LXF A677)<br><extra></extra>",
         "legendgroup": "Measurement",
         "marker": {
          "color": "#FF6692",
          "line": {
           "color": "black",
           "width": 1
          },
          "opacity": 0.7,
          "symbol": "circle"
         },
         "mode": "markers",
         "name": "Measurement",
         "showlegend": false,
         "type": "scatter",
         "visible": false,
         "x": [
          0.12380946813262461,
          0.14368245360440998,
          0.16621612866326155,
          0.20548239808833932,
          0.2355750244365649,
          0.26899867863809496,
          0.32567810267896924,
          0.36796685043047,
          0.4139721483571292,
          0.4899627284431305,
          0.5452472383368052,
          0.6041731622601781,
          0.6992152097753618,
          0.7668568993471954
         ],
         "xaxis": "x2",
         "y": [
          -0.0008014681326246054,
          -0.014908453604409982,
          0.010183871336738454,
          -0.0003158980883392615,
          0.010478475563435091,
          0.009843821361905036,
          0.00735789732103076,
          -0.011521850430470049,
          -0.021122148357129222,
          -0.01010372844313051,
          -0.006192238336805156,
          0.031246337739821883,
          0.015402790224638307,
          -0.019870399347195367
         ],
         "yaxis": "y2"
        },
        {
         "hovertemplate": "<b>Error model: Mean</b><br>Hypothetical residual: %{y:.02f} cm^3<br>Cancer type: Lung cancer (LXF A677)<br><extra></extra>",
         "legendgroup": "Error model",
         "line": {
          "color": "#FF6692"
         },
         "mode": "lines",
         "name": "Error model",
         "opacity": 0.7,
         "showlegend": false,
         "type": "scatter",
         "visible": false,
         "x": [
          0.12380946813262461,
          0.14368245360440998,
          0.16621612866326155,
          0.20548239808833932,
          0.2355750244365649,
          0.26899867863809496,
          0.32567810267896924,
          0.36796685043047,
          0.4139721483571292,
          0.4899627284431305,
          0.5452472383368052,
          0.6041731622601781,
          0.6992152097753618,
          0.7668568993471954
         ],
         "xaxis": "x2",
         "y": [
          0,
          0,
          0,
          0,
          0,
          0,
          0,
          0,
          0,
          0,
          0,
          0,
          0,
          0
         ],
         "yaxis": "y2"
        },
        {
         "hovertemplate": "<b>Error model: 1-sigma interval</b><br>Hypothetical residual: %{y:.02f} cm^3<br>Cancer type: Lung cancer (LXF A677)<br><extra></extra>",
         "legendgroup": "Error model",
         "line": {
          "color": "Black"
         },
         "mode": "lines",
         "name": "Error model",
         "opacity": 0.7,
         "showlegend": false,
         "type": "scatter",
         "visible": false,
         "x": [
          0.12380946813262461,
          0.14368245360440998,
          0.16621612866326155,
          0.20548239808833932,
          0.2355750244365649,
          0.26899867863809496,
          0.32567810267896924,
          0.36796685043047,
          0.4139721483571292,
          0.4899627284431305,
          0.5452472383368052,
          0.6041731622601781,
          0.6992152097753618,
          0.7668568993471954
         ],
         "xaxis": "x2",
         "y": [
          0.014431245217256214,
          0.014431245217256214,
          0.014431245217256214,
          0.014431245217256214,
          0.014431245217256214,
          0.014431245217256214,
          0.014431245217256214,
          0.014431245217256214,
          0.014431245217256214,
          0.014431245217256214,
          0.014431245217256214,
          0.014431245217256214,
          0.014431245217256214,
          0.014431245217256214
         ],
         "yaxis": "y2"
        },
        {
         "hovertemplate": "<b>Error model: 1-sigma interval</b><br>Hypothetical measurement: %{y:.02f} cm^3<br>Cancer type: Lung cancer (LXF A677)<br><extra></extra>",
         "legendgroup": "Error model",
         "line": {
          "color": "Black"
         },
         "mode": "lines",
         "name": "Error model",
         "opacity": 0.7,
         "showlegend": false,
         "type": "scatter",
         "visible": false,
         "x": [
          0.12380946813262461,
          0.14368245360440998,
          0.16621612866326155,
          0.20548239808833932,
          0.2355750244365649,
          0.26899867863809496,
          0.32567810267896924,
          0.36796685043047,
          0.4139721483571292,
          0.4899627284431305,
          0.5452472383368052,
          0.6041731622601781,
          0.6992152097753618,
          0.7668568993471954
         ],
         "xaxis": "x2",
         "y": [
          -0.014431245217256214,
          -0.014431245217256214,
          -0.014431245217256214,
          -0.014431245217256214,
          -0.014431245217256214,
          -0.014431245217256214,
          -0.014431245217256214,
          -0.014431245217256214,
          -0.014431245217256214,
          -0.014431245217256214,
          -0.014431245217256214,
          -0.014431245217256214,
          -0.014431245217256214,
          -0.014431245217256214
         ],
         "yaxis": "y2"
        },
        {
         "hovertemplate": "<b>Error model: 2-sigma interval</b><br>Hypothetical residual: %{y:.02f} cm^3<br>Cancer type: Lung cancer (LXF A677)<br><extra></extra>",
         "legendgroup": "Error model",
         "line": {
          "color": "Black"
         },
         "mode": "lines",
         "name": "Error model",
         "opacity": 0.5,
         "showlegend": false,
         "type": "scatter",
         "visible": false,
         "x": [
          0.12380946813262461,
          0.14368245360440998,
          0.16621612866326155,
          0.20548239808833932,
          0.2355750244365649,
          0.26899867863809496,
          0.32567810267896924,
          0.36796685043047,
          0.4139721483571292,
          0.4899627284431305,
          0.5452472383368052,
          0.6041731622601781,
          0.6992152097753618,
          0.7668568993471954
         ],
         "xaxis": "x2",
         "y": [
          0.028862490434512427,
          0.028862490434512427,
          0.028862490434512427,
          0.028862490434512427,
          0.028862490434512427,
          0.028862490434512427,
          0.028862490434512427,
          0.028862490434512427,
          0.028862490434512427,
          0.028862490434512427,
          0.028862490434512427,
          0.028862490434512427,
          0.028862490434512427,
          0.028862490434512427
         ],
         "yaxis": "y2"
        },
        {
         "hovertemplate": "<b>Error model: 2-sigma interval</b><br>Hypothetical measurement: %{y:.02f} cm^3<br>Cancer type: Lung cancer (LXF A677)<br><extra></extra>",
         "legendgroup": "Error model",
         "line": {
          "color": "Black"
         },
         "mode": "lines",
         "name": "Error model",
         "opacity": 0.5,
         "showlegend": false,
         "type": "scatter",
         "visible": false,
         "x": [
          0.12380946813262461,
          0.14368245360440998,
          0.16621612866326155,
          0.20548239808833932,
          0.2355750244365649,
          0.26899867863809496,
          0.32567810267896924,
          0.36796685043047,
          0.4139721483571292,
          0.4899627284431305,
          0.5452472383368052,
          0.6041731622601781,
          0.6992152097753618,
          0.7668568993471954
         ],
         "xaxis": "x2",
         "y": [
          -0.028862490434512427,
          -0.028862490434512427,
          -0.028862490434512427,
          -0.028862490434512427,
          -0.028862490434512427,
          -0.028862490434512427,
          -0.028862490434512427,
          -0.028862490434512427,
          -0.028862490434512427,
          -0.028862490434512427,
          -0.028862490434512427,
          -0.028862490434512427,
          -0.028862490434512427,
          -0.028862490434512427
         ],
         "yaxis": "y2"
        },
        {
         "hovertemplate": "<b>Error model: 3-sigma interval</b><br>Hypothetical residual: %{y:.02f} cm^3<br>Cancer type: Lung cancer (LXF A677)<br><extra></extra>",
         "legendgroup": "Error model",
         "line": {
          "color": "Black"
         },
         "mode": "lines",
         "name": "Error model",
         "opacity": 0.3,
         "showlegend": false,
         "type": "scatter",
         "visible": false,
         "x": [
          0.12380946813262461,
          0.14368245360440998,
          0.16621612866326155,
          0.20548239808833932,
          0.2355750244365649,
          0.26899867863809496,
          0.32567810267896924,
          0.36796685043047,
          0.4139721483571292,
          0.4899627284431305,
          0.5452472383368052,
          0.6041731622601781,
          0.6992152097753618,
          0.7668568993471954
         ],
         "xaxis": "x2",
         "y": [
          0.04329373565176864,
          0.04329373565176864,
          0.04329373565176864,
          0.04329373565176864,
          0.04329373565176864,
          0.04329373565176864,
          0.04329373565176864,
          0.04329373565176864,
          0.04329373565176864,
          0.04329373565176864,
          0.04329373565176864,
          0.04329373565176864,
          0.04329373565176864,
          0.04329373565176864
         ],
         "yaxis": "y2"
        },
        {
         "hovertemplate": "<b>Error model: 3-sigma interval</b><br>Hypothetical measurement: %{y:.02f} cm^3<br>Cancer type: Lung cancer (LXF A677)<br><extra></extra>",
         "legendgroup": "Error model",
         "line": {
          "color": "Black"
         },
         "mode": "lines",
         "name": "Error model",
         "opacity": 0.3,
         "showlegend": false,
         "type": "scatter",
         "visible": false,
         "x": [
          0.12380946813262461,
          0.14368245360440998,
          0.16621612866326155,
          0.20548239808833932,
          0.2355750244365649,
          0.26899867863809496,
          0.32567810267896924,
          0.36796685043047,
          0.4139721483571292,
          0.4899627284431305,
          0.5452472383368052,
          0.6041731622601781,
          0.6992152097753618,
          0.7668568993471954
         ],
         "xaxis": "x2",
         "y": [
          -0.04329373565176864,
          -0.04329373565176864,
          -0.04329373565176864,
          -0.04329373565176864,
          -0.04329373565176864,
          -0.04329373565176864,
          -0.04329373565176864,
          -0.04329373565176864,
          -0.04329373565176864,
          -0.04329373565176864,
          -0.04329373565176864,
          -0.04329373565176864,
          -0.04329373565176864,
          -0.04329373565176864
         ],
         "yaxis": "y2"
        },
        {
         "hovertemplate": "<b>ID: 170</b><br>Structural model: %{x:.02f} cm^3<br>Measurement: %{y:.02f} cm^3<br>Cancer type: Lung cancer (LXF A677)<br><extra></extra>",
         "legendgroup": "Measurement",
         "marker": {
          "color": "#B6E880",
          "line": {
           "color": "black",
           "width": 1
          },
          "opacity": 0.7,
          "symbol": "circle"
         },
         "mode": "markers",
         "name": "Measurement",
         "showlegend": true,
         "type": "scatter",
         "visible": false,
         "x": [
          0.08704782716716335,
          0.10012283756707072,
          0.11506589266720504,
          0.14155108028082442,
          0.1623268283534212,
          0.18595296778233045,
          0.22747697656665006,
          0.25974410595088204,
          0.2961325211890407,
          0.3593169450378715,
          0.4077857551375951,
          0.4618231427384417,
          0.5542301216506843,
          0.6239790673732575
         ],
         "xaxis": "x",
         "y": [
          0.0800565,
          0.094221,
          0.10933,
          0.158994,
          0.17615699999999998,
          0.19407850000000001,
          0.2041605,
          0.246402,
          0.3050865,
          0.3683265,
          0.41817600000000005,
          0.4396155,
          0.5661554999999999,
          0.6206265000000001
         ],
         "yaxis": "y"
        },
        {
         "hovertemplate": "<b>Error model: Mean</b><br>Hypothetical measurement: %{y:.02f} cm^3<br>Cancer type: Lung cancer (LXF A677)<br><extra></extra>",
         "legendgroup": "Error model",
         "line": {
          "color": "#B6E880"
         },
         "mode": "lines",
         "name": "Error model",
         "opacity": 0.7,
         "showlegend": true,
         "type": "scatter",
         "visible": false,
         "x": [
          0.08704782716716335,
          0.10012283756707072,
          0.11506589266720504,
          0.14155108028082442,
          0.1623268283534212,
          0.18595296778233045,
          0.22747697656665006,
          0.25974410595088204,
          0.2961325211890407,
          0.3593169450378715,
          0.4077857551375951,
          0.4618231427384417,
          0.5542301216506843,
          0.6239790673732575
         ],
         "xaxis": "x",
         "y": [
          0.08704782716716335,
          0.10012283756707072,
          0.11506589266720504,
          0.14155108028082442,
          0.1623268283534212,
          0.18595296778233045,
          0.22747697656665006,
          0.25974410595088204,
          0.2961325211890407,
          0.3593169450378715,
          0.4077857551375951,
          0.4618231427384417,
          0.5542301216506843,
          0.6239790673732575
         ],
         "yaxis": "y"
        },
        {
         "hovertemplate": "<b>Error model: 1-sigma interval</b><br>Hypothetical measurement: %{y:.02f} cm^3<br>Cancer type: Lung cancer (LXF A677)<br><extra></extra>",
         "legendgroup": "Error model",
         "line": {
          "color": "Black"
         },
         "mode": "lines",
         "name": "Error model",
         "opacity": 0.7,
         "showlegend": false,
         "type": "scatter",
         "visible": false,
         "x": [
          0.08704782716716335,
          0.10012283756707072,
          0.11506589266720504,
          0.14155108028082442,
          0.1623268283534212,
          0.18595296778233045,
          0.22747697656665006,
          0.25974410595088204,
          0.2961325211890407,
          0.3593169450378715,
          0.4077857551375951,
          0.4618231427384417,
          0.5542301216506843,
          0.6239790673732575
         ],
         "xaxis": "x",
         "y": [
          0.09990858680965387,
          0.11298359720956125,
          0.12792665230969558,
          0.15441183992331495,
          0.17518758799591172,
          0.19881372742482098,
          0.2403377362091406,
          0.27260486559337255,
          0.3089932808315312,
          0.372177704680362,
          0.4206465147800856,
          0.4746839023809322,
          0.5670908812931749,
          0.636839827015748
         ],
         "yaxis": "y"
        },
        {
         "hovertemplate": "<b>Error model: 1-sigma interval</b><br>Hypothetical measurement: %{y:.02f} cm^3<br>Cancer type: Lung cancer (LXF A677)<br><extra></extra>",
         "legendgroup": "Error model",
         "line": {
          "color": "Black"
         },
         "mode": "lines",
         "name": "Error model",
         "opacity": 0.7,
         "showlegend": false,
         "type": "scatter",
         "visible": false,
         "x": [
          0.08704782716716335,
          0.10012283756707072,
          0.11506589266720504,
          0.14155108028082442,
          0.1623268283534212,
          0.18595296778233045,
          0.22747697656665006,
          0.25974410595088204,
          0.2961325211890407,
          0.3593169450378715,
          0.4077857551375951,
          0.4618231427384417,
          0.5542301216506843,
          0.6239790673732575
         ],
         "xaxis": "x",
         "y": [
          0.07418706752467283,
          0.08726207792458018,
          0.10220513302471451,
          0.12869032063833388,
          0.14946606871093066,
          0.17309220813983991,
          0.21461621692415953,
          0.2468833463083915,
          0.2832717615465502,
          0.346456185395381,
          0.39492499549510457,
          0.4489623830959512,
          0.5413693620081937,
          0.6111183077307669
         ],
         "yaxis": "y"
        },
        {
         "hovertemplate": "<b>Error model: 2-sigma interval</b><br>Hypothetical measurement: %{y:.02f} cm^3<br>Cancer type: Lung cancer (LXF A677)<br><extra></extra>",
         "legendgroup": "Error model",
         "line": {
          "color": "Black",
          "width": 1.5
         },
         "mode": "lines",
         "name": "Error model",
         "opacity": 0.5,
         "showlegend": false,
         "type": "scatter",
         "visible": false,
         "x": [
          0.08704782716716335,
          0.10012283756707072,
          0.11506589266720504,
          0.14155108028082442,
          0.1623268283534212,
          0.18595296778233045,
          0.22747697656665006,
          0.25974410595088204,
          0.2961325211890407,
          0.3593169450378715,
          0.4077857551375951,
          0.4618231427384417,
          0.5542301216506843,
          0.6239790673732575
         ],
         "xaxis": "x",
         "y": [
          0.1127693464521444,
          0.12584435685205175,
          0.14078741195218608,
          0.16727259956580548,
          0.18804834763840222,
          0.2116744870673115,
          0.2531984958516311,
          0.2854656252358631,
          0.3218540404740218,
          0.38503846432285255,
          0.43350727442257614,
          0.4875446620234228,
          0.5799516409356653,
          0.6497005866582385
         ],
         "yaxis": "y"
        },
        {
         "hovertemplate": "<b>Error model: 2-sigma interval</b><br>Hypothetical measurement: %{y:.02f} cm^3<br>Cancer type: Lung cancer (LXF A677)<br><extra></extra>",
         "legendgroup": "Error model",
         "line": {
          "color": "Black",
          "width": 1.5
         },
         "mode": "lines",
         "name": "Error model",
         "opacity": 0.5,
         "showlegend": false,
         "type": "scatter",
         "visible": false,
         "x": [
          0.08704782716716335,
          0.10012283756707072,
          0.11506589266720504,
          0.14155108028082442,
          0.1623268283534212,
          0.18595296778233045,
          0.22747697656665006,
          0.25974410595088204,
          0.2961325211890407,
          0.3593169450378715,
          0.4077857551375951,
          0.4618231427384417,
          0.5542301216506843,
          0.6239790673732575
         ],
         "xaxis": "x",
         "y": [
          0.061326307882182296,
          0.07440131828208967,
          0.089344373382224,
          0.11582956099584336,
          0.13660530906844015,
          0.16023144849734938,
          0.201755457281669,
          0.23402258666590098,
          0.27041100190405964,
          0.3335954257528904,
          0.382064235852614,
          0.43610162345346065,
          0.5285086023657033,
          0.5982575480882765
         ],
         "yaxis": "y"
        },
        {
         "hovertemplate": "<b>Error model: 3-sigma interval</b><br>Hypothetical measurement: %{y:.02f} cm^3<br>Cancer type: Lung cancer (LXF A677)<br><extra></extra>",
         "legendgroup": "Error model",
         "line": {
          "color": "Black",
          "width": 1
         },
         "mode": "lines",
         "name": "Error model",
         "opacity": 0.3,
         "showlegend": false,
         "type": "scatter",
         "visible": false,
         "x": [
          0.08704782716716335,
          0.10012283756707072,
          0.11506589266720504,
          0.14155108028082442,
          0.1623268283534212,
          0.18595296778233045,
          0.22747697656665006,
          0.25974410595088204,
          0.2961325211890407,
          0.3593169450378715,
          0.4077857551375951,
          0.4618231427384417,
          0.5542301216506843,
          0.6239790673732575
         ],
         "xaxis": "x",
         "y": [
          0.12563010609463493,
          0.13870511649454229,
          0.1536481715946766,
          0.18013335920829598,
          0.20090910728089276,
          0.22453524670980202,
          0.2660592554941216,
          0.2983263848783536,
          0.3347148001165123,
          0.39789922396534305,
          0.44636803406506664,
          0.5004054216659133,
          0.5928124005781559,
          0.662561346300729
         ],
         "yaxis": "y"
        },
        {
         "hovertemplate": "<b>Error model: 3-sigma interval</b><br>Hypothetical measurement: %{y:.02f} cm^3<br>Cancer type: Lung cancer (LXF A677)<br><extra></extra>",
         "legendgroup": "Error model",
         "line": {
          "color": "Black",
          "width": 1
         },
         "mode": "lines",
         "name": "Error model",
         "opacity": 0.3,
         "showlegend": false,
         "type": "scatter",
         "visible": false,
         "x": [
          0.08704782716716335,
          0.10012283756707072,
          0.11506589266720504,
          0.14155108028082442,
          0.1623268283534212,
          0.18595296778233045,
          0.22747697656665006,
          0.25974410595088204,
          0.2961325211890407,
          0.3593169450378715,
          0.4077857551375951,
          0.4618231427384417,
          0.5542301216506843,
          0.6239790673732575
         ],
         "xaxis": "x",
         "y": [
          0.04846554823969177,
          0.06154055863959914,
          0.07648361373973347,
          0.10296880135335285,
          0.12374454942594962,
          0.14737068885485888,
          0.1888946976391785,
          0.22116182702341047,
          0.25755024226156914,
          0.3207346661103999,
          0.3692034762101235,
          0.42324086381097015,
          0.5156478427232127,
          0.5853967884457859
         ],
         "yaxis": "y"
        },
        {
         "hovertemplate": "<b>ID: 170</b><br>Structural model: %{x:.02f} cm^3<br>Residual: %{y:.02f} cm^3<br>Cancer type: Lung cancer (LXF A677)<br><extra></extra>",
         "legendgroup": "Measurement",
         "marker": {
          "color": "#B6E880",
          "line": {
           "color": "black",
           "width": 1
          },
          "opacity": 0.7,
          "symbol": "circle"
         },
         "mode": "markers",
         "name": "Measurement",
         "showlegend": false,
         "type": "scatter",
         "visible": false,
         "x": [
          0.08704782716716335,
          0.10012283756707072,
          0.11506589266720504,
          0.14155108028082442,
          0.1623268283534212,
          0.18595296778233045,
          0.22747697656665006,
          0.25974410595088204,
          0.2961325211890407,
          0.3593169450378715,
          0.4077857551375951,
          0.4618231427384417,
          0.5542301216506843,
          0.6239790673732575
         ],
         "xaxis": "x2",
         "y": [
          -0.006991327167163344,
          -0.005901837567070717,
          -0.0057358926672050475,
          0.01744291971917558,
          0.013830171646578793,
          0.008125532217669568,
          -0.023316476566650063,
          -0.013342105950882033,
          0.008953978810959273,
          0.009009554962128519,
          0.010390244862404974,
          -0.022207642738441724,
          0.011925378349315618,
          -0.003352567373257398
         ],
         "yaxis": "y2"
        },
        {
         "hovertemplate": "<b>Error model: Mean</b><br>Hypothetical residual: %{y:.02f} cm^3<br>Cancer type: Lung cancer (LXF A677)<br><extra></extra>",
         "legendgroup": "Error model",
         "line": {
          "color": "#B6E880"
         },
         "mode": "lines",
         "name": "Error model",
         "opacity": 0.7,
         "showlegend": false,
         "type": "scatter",
         "visible": false,
         "x": [
          0.08704782716716335,
          0.10012283756707072,
          0.11506589266720504,
          0.14155108028082442,
          0.1623268283534212,
          0.18595296778233045,
          0.22747697656665006,
          0.25974410595088204,
          0.2961325211890407,
          0.3593169450378715,
          0.4077857551375951,
          0.4618231427384417,
          0.5542301216506843,
          0.6239790673732575
         ],
         "xaxis": "x2",
         "y": [
          0,
          0,
          0,
          0,
          0,
          0,
          0,
          0,
          0,
          0,
          0,
          0,
          0,
          0
         ],
         "yaxis": "y2"
        },
        {
         "hovertemplate": "<b>Error model: 1-sigma interval</b><br>Hypothetical residual: %{y:.02f} cm^3<br>Cancer type: Lung cancer (LXF A677)<br><extra></extra>",
         "legendgroup": "Error model",
         "line": {
          "color": "Black"
         },
         "mode": "lines",
         "name": "Error model",
         "opacity": 0.7,
         "showlegend": false,
         "type": "scatter",
         "visible": false,
         "x": [
          0.08704782716716335,
          0.10012283756707072,
          0.11506589266720504,
          0.14155108028082442,
          0.1623268283534212,
          0.18595296778233045,
          0.22747697656665006,
          0.25974410595088204,
          0.2961325211890407,
          0.3593169450378715,
          0.4077857551375951,
          0.4618231427384417,
          0.5542301216506843,
          0.6239790673732575
         ],
         "xaxis": "x2",
         "y": [
          0.012860759642490525,
          0.012860759642490525,
          0.012860759642490525,
          0.012860759642490525,
          0.012860759642490525,
          0.012860759642490525,
          0.012860759642490525,
          0.012860759642490525,
          0.012860759642490525,
          0.012860759642490525,
          0.012860759642490525,
          0.012860759642490525,
          0.012860759642490525,
          0.012860759642490525
         ],
         "yaxis": "y2"
        },
        {
         "hovertemplate": "<b>Error model: 1-sigma interval</b><br>Hypothetical measurement: %{y:.02f} cm^3<br>Cancer type: Lung cancer (LXF A677)<br><extra></extra>",
         "legendgroup": "Error model",
         "line": {
          "color": "Black"
         },
         "mode": "lines",
         "name": "Error model",
         "opacity": 0.7,
         "showlegend": false,
         "type": "scatter",
         "visible": false,
         "x": [
          0.08704782716716335,
          0.10012283756707072,
          0.11506589266720504,
          0.14155108028082442,
          0.1623268283534212,
          0.18595296778233045,
          0.22747697656665006,
          0.25974410595088204,
          0.2961325211890407,
          0.3593169450378715,
          0.4077857551375951,
          0.4618231427384417,
          0.5542301216506843,
          0.6239790673732575
         ],
         "xaxis": "x2",
         "y": [
          -0.012860759642490525,
          -0.012860759642490525,
          -0.012860759642490525,
          -0.012860759642490525,
          -0.012860759642490525,
          -0.012860759642490525,
          -0.012860759642490525,
          -0.012860759642490525,
          -0.012860759642490525,
          -0.012860759642490525,
          -0.012860759642490525,
          -0.012860759642490525,
          -0.012860759642490525,
          -0.012860759642490525
         ],
         "yaxis": "y2"
        },
        {
         "hovertemplate": "<b>Error model: 2-sigma interval</b><br>Hypothetical residual: %{y:.02f} cm^3<br>Cancer type: Lung cancer (LXF A677)<br><extra></extra>",
         "legendgroup": "Error model",
         "line": {
          "color": "Black"
         },
         "mode": "lines",
         "name": "Error model",
         "opacity": 0.5,
         "showlegend": false,
         "type": "scatter",
         "visible": false,
         "x": [
          0.08704782716716335,
          0.10012283756707072,
          0.11506589266720504,
          0.14155108028082442,
          0.1623268283534212,
          0.18595296778233045,
          0.22747697656665006,
          0.25974410595088204,
          0.2961325211890407,
          0.3593169450378715,
          0.4077857551375951,
          0.4618231427384417,
          0.5542301216506843,
          0.6239790673732575
         ],
         "xaxis": "x2",
         "y": [
          0.02572151928498105,
          0.02572151928498105,
          0.02572151928498105,
          0.02572151928498105,
          0.02572151928498105,
          0.02572151928498105,
          0.02572151928498105,
          0.02572151928498105,
          0.02572151928498105,
          0.02572151928498105,
          0.02572151928498105,
          0.02572151928498105,
          0.02572151928498105,
          0.02572151928498105
         ],
         "yaxis": "y2"
        },
        {
         "hovertemplate": "<b>Error model: 2-sigma interval</b><br>Hypothetical measurement: %{y:.02f} cm^3<br>Cancer type: Lung cancer (LXF A677)<br><extra></extra>",
         "legendgroup": "Error model",
         "line": {
          "color": "Black"
         },
         "mode": "lines",
         "name": "Error model",
         "opacity": 0.5,
         "showlegend": false,
         "type": "scatter",
         "visible": false,
         "x": [
          0.08704782716716335,
          0.10012283756707072,
          0.11506589266720504,
          0.14155108028082442,
          0.1623268283534212,
          0.18595296778233045,
          0.22747697656665006,
          0.25974410595088204,
          0.2961325211890407,
          0.3593169450378715,
          0.4077857551375951,
          0.4618231427384417,
          0.5542301216506843,
          0.6239790673732575
         ],
         "xaxis": "x2",
         "y": [
          -0.02572151928498105,
          -0.02572151928498105,
          -0.02572151928498105,
          -0.02572151928498105,
          -0.02572151928498105,
          -0.02572151928498105,
          -0.02572151928498105,
          -0.02572151928498105,
          -0.02572151928498105,
          -0.02572151928498105,
          -0.02572151928498105,
          -0.02572151928498105,
          -0.02572151928498105,
          -0.02572151928498105
         ],
         "yaxis": "y2"
        },
        {
         "hovertemplate": "<b>Error model: 3-sigma interval</b><br>Hypothetical residual: %{y:.02f} cm^3<br>Cancer type: Lung cancer (LXF A677)<br><extra></extra>",
         "legendgroup": "Error model",
         "line": {
          "color": "Black"
         },
         "mode": "lines",
         "name": "Error model",
         "opacity": 0.3,
         "showlegend": false,
         "type": "scatter",
         "visible": false,
         "x": [
          0.08704782716716335,
          0.10012283756707072,
          0.11506589266720504,
          0.14155108028082442,
          0.1623268283534212,
          0.18595296778233045,
          0.22747697656665006,
          0.25974410595088204,
          0.2961325211890407,
          0.3593169450378715,
          0.4077857551375951,
          0.4618231427384417,
          0.5542301216506843,
          0.6239790673732575
         ],
         "xaxis": "x2",
         "y": [
          0.038582278927471576,
          0.038582278927471576,
          0.038582278927471576,
          0.038582278927471576,
          0.038582278927471576,
          0.038582278927471576,
          0.038582278927471576,
          0.038582278927471576,
          0.038582278927471576,
          0.038582278927471576,
          0.038582278927471576,
          0.038582278927471576,
          0.038582278927471576,
          0.038582278927471576
         ],
         "yaxis": "y2"
        },
        {
         "hovertemplate": "<b>Error model: 3-sigma interval</b><br>Hypothetical measurement: %{y:.02f} cm^3<br>Cancer type: Lung cancer (LXF A677)<br><extra></extra>",
         "legendgroup": "Error model",
         "line": {
          "color": "Black"
         },
         "mode": "lines",
         "name": "Error model",
         "opacity": 0.3,
         "showlegend": false,
         "type": "scatter",
         "visible": false,
         "x": [
          0.08704782716716335,
          0.10012283756707072,
          0.11506589266720504,
          0.14155108028082442,
          0.1623268283534212,
          0.18595296778233045,
          0.22747697656665006,
          0.25974410595088204,
          0.2961325211890407,
          0.3593169450378715,
          0.4077857551375951,
          0.4618231427384417,
          0.5542301216506843,
          0.6239790673732575
         ],
         "xaxis": "x2",
         "y": [
          -0.038582278927471576,
          -0.038582278927471576,
          -0.038582278927471576,
          -0.038582278927471576,
          -0.038582278927471576,
          -0.038582278927471576,
          -0.038582278927471576,
          -0.038582278927471576,
          -0.038582278927471576,
          -0.038582278927471576,
          -0.038582278927471576,
          -0.038582278927471576,
          -0.038582278927471576,
          -0.038582278927471576
         ],
         "yaxis": "y2"
        }
       ],
       "layout": {
        "autosize": true,
        "legend": {
         "x": 1.05,
         "xanchor": "left",
         "y": 0.01,
         "yanchor": "bottom"
        },
        "template": {
         "data": {
          "bar": [
           {
            "error_x": {
             "color": "#2a3f5f"
            },
            "error_y": {
             "color": "#2a3f5f"
            },
            "marker": {
             "line": {
              "color": "white",
              "width": 0.5
             }
            },
            "type": "bar"
           }
          ],
          "barpolar": [
           {
            "marker": {
             "line": {
              "color": "white",
              "width": 0.5
             }
            },
            "type": "barpolar"
           }
          ],
          "carpet": [
           {
            "aaxis": {
             "endlinecolor": "#2a3f5f",
             "gridcolor": "#C8D4E3",
             "linecolor": "#C8D4E3",
             "minorgridcolor": "#C8D4E3",
             "startlinecolor": "#2a3f5f"
            },
            "baxis": {
             "endlinecolor": "#2a3f5f",
             "gridcolor": "#C8D4E3",
             "linecolor": "#C8D4E3",
             "minorgridcolor": "#C8D4E3",
             "startlinecolor": "#2a3f5f"
            },
            "type": "carpet"
           }
          ],
          "choropleth": [
           {
            "colorbar": {
             "outlinewidth": 0,
             "ticks": ""
            },
            "type": "choropleth"
           }
          ],
          "contour": [
           {
            "colorbar": {
             "outlinewidth": 0,
             "ticks": ""
            },
            "colorscale": [
             [
              0,
              "#0d0887"
             ],
             [
              0.1111111111111111,
              "#46039f"
             ],
             [
              0.2222222222222222,
              "#7201a8"
             ],
             [
              0.3333333333333333,
              "#9c179e"
             ],
             [
              0.4444444444444444,
              "#bd3786"
             ],
             [
              0.5555555555555556,
              "#d8576b"
             ],
             [
              0.6666666666666666,
              "#ed7953"
             ],
             [
              0.7777777777777778,
              "#fb9f3a"
             ],
             [
              0.8888888888888888,
              "#fdca26"
             ],
             [
              1,
              "#f0f921"
             ]
            ],
            "type": "contour"
           }
          ],
          "contourcarpet": [
           {
            "colorbar": {
             "outlinewidth": 0,
             "ticks": ""
            },
            "type": "contourcarpet"
           }
          ],
          "heatmap": [
           {
            "colorbar": {
             "outlinewidth": 0,
             "ticks": ""
            },
            "colorscale": [
             [
              0,
              "#0d0887"
             ],
             [
              0.1111111111111111,
              "#46039f"
             ],
             [
              0.2222222222222222,
              "#7201a8"
             ],
             [
              0.3333333333333333,
              "#9c179e"
             ],
             [
              0.4444444444444444,
              "#bd3786"
             ],
             [
              0.5555555555555556,
              "#d8576b"
             ],
             [
              0.6666666666666666,
              "#ed7953"
             ],
             [
              0.7777777777777778,
              "#fb9f3a"
             ],
             [
              0.8888888888888888,
              "#fdca26"
             ],
             [
              1,
              "#f0f921"
             ]
            ],
            "type": "heatmap"
           }
          ],
          "heatmapgl": [
           {
            "colorbar": {
             "outlinewidth": 0,
             "ticks": ""
            },
            "colorscale": [
             [
              0,
              "#0d0887"
             ],
             [
              0.1111111111111111,
              "#46039f"
             ],
             [
              0.2222222222222222,
              "#7201a8"
             ],
             [
              0.3333333333333333,
              "#9c179e"
             ],
             [
              0.4444444444444444,
              "#bd3786"
             ],
             [
              0.5555555555555556,
              "#d8576b"
             ],
             [
              0.6666666666666666,
              "#ed7953"
             ],
             [
              0.7777777777777778,
              "#fb9f3a"
             ],
             [
              0.8888888888888888,
              "#fdca26"
             ],
             [
              1,
              "#f0f921"
             ]
            ],
            "type": "heatmapgl"
           }
          ],
          "histogram": [
           {
            "marker": {
             "colorbar": {
              "outlinewidth": 0,
              "ticks": ""
             }
            },
            "type": "histogram"
           }
          ],
          "histogram2d": [
           {
            "colorbar": {
             "outlinewidth": 0,
             "ticks": ""
            },
            "colorscale": [
             [
              0,
              "#0d0887"
             ],
             [
              0.1111111111111111,
              "#46039f"
             ],
             [
              0.2222222222222222,
              "#7201a8"
             ],
             [
              0.3333333333333333,
              "#9c179e"
             ],
             [
              0.4444444444444444,
              "#bd3786"
             ],
             [
              0.5555555555555556,
              "#d8576b"
             ],
             [
              0.6666666666666666,
              "#ed7953"
             ],
             [
              0.7777777777777778,
              "#fb9f3a"
             ],
             [
              0.8888888888888888,
              "#fdca26"
             ],
             [
              1,
              "#f0f921"
             ]
            ],
            "type": "histogram2d"
           }
          ],
          "histogram2dcontour": [
           {
            "colorbar": {
             "outlinewidth": 0,
             "ticks": ""
            },
            "colorscale": [
             [
              0,
              "#0d0887"
             ],
             [
              0.1111111111111111,
              "#46039f"
             ],
             [
              0.2222222222222222,
              "#7201a8"
             ],
             [
              0.3333333333333333,
              "#9c179e"
             ],
             [
              0.4444444444444444,
              "#bd3786"
             ],
             [
              0.5555555555555556,
              "#d8576b"
             ],
             [
              0.6666666666666666,
              "#ed7953"
             ],
             [
              0.7777777777777778,
              "#fb9f3a"
             ],
             [
              0.8888888888888888,
              "#fdca26"
             ],
             [
              1,
              "#f0f921"
             ]
            ],
            "type": "histogram2dcontour"
           }
          ],
          "mesh3d": [
           {
            "colorbar": {
             "outlinewidth": 0,
             "ticks": ""
            },
            "type": "mesh3d"
           }
          ],
          "parcoords": [
           {
            "line": {
             "colorbar": {
              "outlinewidth": 0,
              "ticks": ""
             }
            },
            "type": "parcoords"
           }
          ],
          "pie": [
           {
            "automargin": true,
            "type": "pie"
           }
          ],
          "scatter": [
           {
            "marker": {
             "colorbar": {
              "outlinewidth": 0,
              "ticks": ""
             }
            },
            "type": "scatter"
           }
          ],
          "scatter3d": [
           {
            "line": {
             "colorbar": {
              "outlinewidth": 0,
              "ticks": ""
             }
            },
            "marker": {
             "colorbar": {
              "outlinewidth": 0,
              "ticks": ""
             }
            },
            "type": "scatter3d"
           }
          ],
          "scattercarpet": [
           {
            "marker": {
             "colorbar": {
              "outlinewidth": 0,
              "ticks": ""
             }
            },
            "type": "scattercarpet"
           }
          ],
          "scattergeo": [
           {
            "marker": {
             "colorbar": {
              "outlinewidth": 0,
              "ticks": ""
             }
            },
            "type": "scattergeo"
           }
          ],
          "scattergl": [
           {
            "marker": {
             "colorbar": {
              "outlinewidth": 0,
              "ticks": ""
             }
            },
            "type": "scattergl"
           }
          ],
          "scattermapbox": [
           {
            "marker": {
             "colorbar": {
              "outlinewidth": 0,
              "ticks": ""
             }
            },
            "type": "scattermapbox"
           }
          ],
          "scatterpolar": [
           {
            "marker": {
             "colorbar": {
              "outlinewidth": 0,
              "ticks": ""
             }
            },
            "type": "scatterpolar"
           }
          ],
          "scatterpolargl": [
           {
            "marker": {
             "colorbar": {
              "outlinewidth": 0,
              "ticks": ""
             }
            },
            "type": "scatterpolargl"
           }
          ],
          "scatterternary": [
           {
            "marker": {
             "colorbar": {
              "outlinewidth": 0,
              "ticks": ""
             }
            },
            "type": "scatterternary"
           }
          ],
          "surface": [
           {
            "colorbar": {
             "outlinewidth": 0,
             "ticks": ""
            },
            "colorscale": [
             [
              0,
              "#0d0887"
             ],
             [
              0.1111111111111111,
              "#46039f"
             ],
             [
              0.2222222222222222,
              "#7201a8"
             ],
             [
              0.3333333333333333,
              "#9c179e"
             ],
             [
              0.4444444444444444,
              "#bd3786"
             ],
             [
              0.5555555555555556,
              "#d8576b"
             ],
             [
              0.6666666666666666,
              "#ed7953"
             ],
             [
              0.7777777777777778,
              "#fb9f3a"
             ],
             [
              0.8888888888888888,
              "#fdca26"
             ],
             [
              1,
              "#f0f921"
             ]
            ],
            "type": "surface"
           }
          ],
          "table": [
           {
            "cells": {
             "fill": {
              "color": "#EBF0F8"
             },
             "line": {
              "color": "white"
             }
            },
            "header": {
             "fill": {
              "color": "#C8D4E3"
             },
             "line": {
              "color": "white"
             }
            },
            "type": "table"
           }
          ]
         },
         "layout": {
          "annotationdefaults": {
           "arrowcolor": "#2a3f5f",
           "arrowhead": 0,
           "arrowwidth": 1
          },
          "coloraxis": {
           "colorbar": {
            "outlinewidth": 0,
            "ticks": ""
           }
          },
          "colorscale": {
           "diverging": [
            [
             0,
             "#8e0152"
            ],
            [
             0.1,
             "#c51b7d"
            ],
            [
             0.2,
             "#de77ae"
            ],
            [
             0.3,
             "#f1b6da"
            ],
            [
             0.4,
             "#fde0ef"
            ],
            [
             0.5,
             "#f7f7f7"
            ],
            [
             0.6,
             "#e6f5d0"
            ],
            [
             0.7,
             "#b8e186"
            ],
            [
             0.8,
             "#7fbc41"
            ],
            [
             0.9,
             "#4d9221"
            ],
            [
             1,
             "#276419"
            ]
           ],
           "sequential": [
            [
             0,
             "#0d0887"
            ],
            [
             0.1111111111111111,
             "#46039f"
            ],
            [
             0.2222222222222222,
             "#7201a8"
            ],
            [
             0.3333333333333333,
             "#9c179e"
            ],
            [
             0.4444444444444444,
             "#bd3786"
            ],
            [
             0.5555555555555556,
             "#d8576b"
            ],
            [
             0.6666666666666666,
             "#ed7953"
            ],
            [
             0.7777777777777778,
             "#fb9f3a"
            ],
            [
             0.8888888888888888,
             "#fdca26"
            ],
            [
             1,
             "#f0f921"
            ]
           ],
           "sequentialminus": [
            [
             0,
             "#0d0887"
            ],
            [
             0.1111111111111111,
             "#46039f"
            ],
            [
             0.2222222222222222,
             "#7201a8"
            ],
            [
             0.3333333333333333,
             "#9c179e"
            ],
            [
             0.4444444444444444,
             "#bd3786"
            ],
            [
             0.5555555555555556,
             "#d8576b"
            ],
            [
             0.6666666666666666,
             "#ed7953"
            ],
            [
             0.7777777777777778,
             "#fb9f3a"
            ],
            [
             0.8888888888888888,
             "#fdca26"
            ],
            [
             1,
             "#f0f921"
            ]
           ]
          },
          "colorway": [
           "#636efa",
           "#EF553B",
           "#00cc96",
           "#ab63fa",
           "#FFA15A",
           "#19d3f3",
           "#FF6692",
           "#B6E880",
           "#FF97FF",
           "#FECB52"
          ],
          "font": {
           "color": "#2a3f5f"
          },
          "geo": {
           "bgcolor": "white",
           "lakecolor": "white",
           "landcolor": "white",
           "showlakes": true,
           "showland": true,
           "subunitcolor": "#C8D4E3"
          },
          "hoverlabel": {
           "align": "left"
          },
          "hovermode": "closest",
          "mapbox": {
           "style": "light"
          },
          "paper_bgcolor": "white",
          "plot_bgcolor": "white",
          "polar": {
           "angularaxis": {
            "gridcolor": "#EBF0F8",
            "linecolor": "#EBF0F8",
            "ticks": ""
           },
           "bgcolor": "white",
           "radialaxis": {
            "gridcolor": "#EBF0F8",
            "linecolor": "#EBF0F8",
            "ticks": ""
           }
          },
          "scene": {
           "xaxis": {
            "backgroundcolor": "white",
            "gridcolor": "#DFE8F3",
            "gridwidth": 2,
            "linecolor": "#EBF0F8",
            "showbackground": true,
            "ticks": "",
            "zerolinecolor": "#EBF0F8"
           },
           "yaxis": {
            "backgroundcolor": "white",
            "gridcolor": "#DFE8F3",
            "gridwidth": 2,
            "linecolor": "#EBF0F8",
            "showbackground": true,
            "ticks": "",
            "zerolinecolor": "#EBF0F8"
           },
           "zaxis": {
            "backgroundcolor": "white",
            "gridcolor": "#DFE8F3",
            "gridwidth": 2,
            "linecolor": "#EBF0F8",
            "showbackground": true,
            "ticks": "",
            "zerolinecolor": "#EBF0F8"
           }
          },
          "shapedefaults": {
           "line": {
            "color": "#2a3f5f"
           }
          },
          "ternary": {
           "aaxis": {
            "gridcolor": "#DFE8F3",
            "linecolor": "#A2B1C6",
            "ticks": ""
           },
           "baxis": {
            "gridcolor": "#DFE8F3",
            "linecolor": "#A2B1C6",
            "ticks": ""
           },
           "bgcolor": "white",
           "caxis": {
            "gridcolor": "#DFE8F3",
            "linecolor": "#A2B1C6",
            "ticks": ""
           }
          },
          "title": {
           "x": 0.05
          },
          "xaxis": {
           "automargin": true,
           "gridcolor": "#EBF0F8",
           "linecolor": "#EBF0F8",
           "ticks": "",
           "title": {
            "standoff": 15
           },
           "zerolinecolor": "#EBF0F8",
           "zerolinewidth": 2
          },
          "yaxis": {
           "automargin": true,
           "gridcolor": "#EBF0F8",
           "linecolor": "#EBF0F8",
           "ticks": "",
           "title": {
            "standoff": 15
           },
           "zerolinecolor": "#EBF0F8",
           "zerolinewidth": 2
          }
         }
        },
        "updatemenus": [
         {
          "buttons": [
           {
            "args": [
             {
              "visible": [
               true,
               true,
               true,
               true,
               true,
               true,
               true,
               true,
               true,
               true,
               true,
               true,
               true,
               true,
               true,
               true,
               false,
               false,
               false,
               false,
               false,
               false,
               false,
               false,
               false,
               false,
               false,
               false,
               false,
               false,
               false,
               false,
               false,
               false,
               false,
               false,
               false,
               false,
               false,
               false,
               false,
               false,
               false,
               false,
               false,
               false,
               false,
               false,
               false,
               false,
               false,
               false,
               false,
               false,
               false,
               false,
               false,
               false,
               false,
               false,
               false,
               false,
               false,
               false,
               false,
               false,
               false,
               false,
               false,
               false,
               false,
               false,
               false,
               false,
               false,
               false,
               false,
               false,
               false,
               false,
               false,
               false,
               false,
               false,
               false,
               false,
               false,
               false,
               false,
               false,
               false,
               false,
               false,
               false,
               false,
               false,
               false,
               false,
               false,
               false,
               false,
               false,
               false,
               false,
               false,
               false,
               false,
               false,
               false,
               false,
               false,
               false,
               false,
               false,
               false,
               false,
               false,
               false,
               false,
               false,
               false,
               false,
               false,
               false,
               false,
               false,
               false,
               false
              ]
             }
            ],
            "label": "ID: 40",
            "method": "restyle"
           },
           {
            "args": [
             {
              "visible": [
               false,
               false,
               false,
               false,
               false,
               false,
               false,
               false,
               false,
               false,
               false,
               false,
               false,
               false,
               false,
               false,
               true,
               true,
               true,
               true,
               true,
               true,
               true,
               true,
               true,
               true,
               true,
               true,
               true,
               true,
               true,
               true,
               false,
               false,
               false,
               false,
               false,
               false,
               false,
               false,
               false,
               false,
               false,
               false,
               false,
               false,
               false,
               false,
               false,
               false,
               false,
               false,
               false,
               false,
               false,
               false,
               false,
               false,
               false,
               false,
               false,
               false,
               false,
               false,
               false,
               false,
               false,
               false,
               false,
               false,
               false,
               false,
               false,
               false,
               false,
               false,
               false,
               false,
               false,
               false,
               false,
               false,
               false,
               false,
               false,
               false,
               false,
               false,
               false,
               false,
               false,
               false,
               false,
               false,
               false,
               false,
               false,
               false,
               false,
               false,
               false,
               false,
               false,
               false,
               false,
               false,
               false,
               false,
               false,
               false,
               false,
               false,
               false,
               false,
               false,
               false,
               false,
               false,
               false,
               false,
               false,
               false,
               false,
               false,
               false,
               false,
               false,
               false
              ]
             }
            ],
            "label": "ID: 94",
            "method": "restyle"
           },
           {
            "args": [
             {
              "visible": [
               false,
               false,
               false,
               false,
               false,
               false,
               false,
               false,
               false,
               false,
               false,
               false,
               false,
               false,
               false,
               false,
               false,
               false,
               false,
               false,
               false,
               false,
               false,
               false,
               false,
               false,
               false,
               false,
               false,
               false,
               false,
               false,
               true,
               true,
               true,
               true,
               true,
               true,
               true,
               true,
               true,
               true,
               true,
               true,
               true,
               true,
               true,
               true,
               false,
               false,
               false,
               false,
               false,
               false,
               false,
               false,
               false,
               false,
               false,
               false,
               false,
               false,
               false,
               false,
               false,
               false,
               false,
               false,
               false,
               false,
               false,
               false,
               false,
               false,
               false,
               false,
               false,
               false,
               false,
               false,
               false,
               false,
               false,
               false,
               false,
               false,
               false,
               false,
               false,
               false,
               false,
               false,
               false,
               false,
               false,
               false,
               false,
               false,
               false,
               false,
               false,
               false,
               false,
               false,
               false,
               false,
               false,
               false,
               false,
               false,
               false,
               false,
               false,
               false,
               false,
               false,
               false,
               false,
               false,
               false,
               false,
               false,
               false,
               false,
               false,
               false,
               false,
               false
              ]
             }
            ],
            "label": "ID: 95",
            "method": "restyle"
           },
           {
            "args": [
             {
              "visible": [
               false,
               false,
               false,
               false,
               false,
               false,
               false,
               false,
               false,
               false,
               false,
               false,
               false,
               false,
               false,
               false,
               false,
               false,
               false,
               false,
               false,
               false,
               false,
               false,
               false,
               false,
               false,
               false,
               false,
               false,
               false,
               false,
               false,
               false,
               false,
               false,
               false,
               false,
               false,
               false,
               false,
               false,
               false,
               false,
               false,
               false,
               false,
               false,
               true,
               true,
               true,
               true,
               true,
               true,
               true,
               true,
               true,
               true,
               true,
               true,
               true,
               true,
               true,
               true,
               false,
               false,
               false,
               false,
               false,
               false,
               false,
               false,
               false,
               false,
               false,
               false,
               false,
               false,
               false,
               false,
               false,
               false,
               false,
               false,
               false,
               false,
               false,
               false,
               false,
               false,
               false,
               false,
               false,
               false,
               false,
               false,
               false,
               false,
               false,
               false,
               false,
               false,
               false,
               false,
               false,
               false,
               false,
               false,
               false,
               false,
               false,
               false,
               false,
               false,
               false,
               false,
               false,
               false,
               false,
               false,
               false,
               false,
               false,
               false,
               false,
               false,
               false,
               false
              ]
             }
            ],
            "label": "ID: 136",
            "method": "restyle"
           },
           {
            "args": [
             {
              "visible": [
               false,
               false,
               false,
               false,
               false,
               false,
               false,
               false,
               false,
               false,
               false,
               false,
               false,
               false,
               false,
               false,
               false,
               false,
               false,
               false,
               false,
               false,
               false,
               false,
               false,
               false,
               false,
               false,
               false,
               false,
               false,
               false,
               false,
               false,
               false,
               false,
               false,
               false,
               false,
               false,
               false,
               false,
               false,
               false,
               false,
               false,
               false,
               false,
               false,
               false,
               false,
               false,
               false,
               false,
               false,
               false,
               false,
               false,
               false,
               false,
               false,
               false,
               false,
               false,
               true,
               true,
               true,
               true,
               true,
               true,
               true,
               true,
               true,
               true,
               true,
               true,
               true,
               true,
               true,
               true,
               false,
               false,
               false,
               false,
               false,
               false,
               false,
               false,
               false,
               false,
               false,
               false,
               false,
               false,
               false,
               false,
               false,
               false,
               false,
               false,
               false,
               false,
               false,
               false,
               false,
               false,
               false,
               false,
               false,
               false,
               false,
               false,
               false,
               false,
               false,
               false,
               false,
               false,
               false,
               false,
               false,
               false,
               false,
               false,
               false,
               false,
               false,
               false
              ]
             }
            ],
            "label": "ID: 140",
            "method": "restyle"
           },
           {
            "args": [
             {
              "visible": [
               false,
               false,
               false,
               false,
               false,
               false,
               false,
               false,
               false,
               false,
               false,
               false,
               false,
               false,
               false,
               false,
               false,
               false,
               false,
               false,
               false,
               false,
               false,
               false,
               false,
               false,
               false,
               false,
               false,
               false,
               false,
               false,
               false,
               false,
               false,
               false,
               false,
               false,
               false,
               false,
               false,
               false,
               false,
               false,
               false,
               false,
               false,
               false,
               false,
               false,
               false,
               false,
               false,
               false,
               false,
               false,
               false,
               false,
               false,
               false,
               false,
               false,
               false,
               false,
               false,
               false,
               false,
               false,
               false,
               false,
               false,
               false,
               false,
               false,
               false,
               false,
               false,
               false,
               false,
               false,
               true,
               true,
               true,
               true,
               true,
               true,
               true,
               true,
               true,
               true,
               true,
               true,
               true,
               true,
               true,
               true,
               false,
               false,
               false,
               false,
               false,
               false,
               false,
               false,
               false,
               false,
               false,
               false,
               false,
               false,
               false,
               false,
               false,
               false,
               false,
               false,
               false,
               false,
               false,
               false,
               false,
               false,
               false,
               false,
               false,
               false,
               false,
               false
              ]
             }
            ],
            "label": "ID: 155",
            "method": "restyle"
           },
           {
            "args": [
             {
              "visible": [
               false,
               false,
               false,
               false,
               false,
               false,
               false,
               false,
               false,
               false,
               false,
               false,
               false,
               false,
               false,
               false,
               false,
               false,
               false,
               false,
               false,
               false,
               false,
               false,
               false,
               false,
               false,
               false,
               false,
               false,
               false,
               false,
               false,
               false,
               false,
               false,
               false,
               false,
               false,
               false,
               false,
               false,
               false,
               false,
               false,
               false,
               false,
               false,
               false,
               false,
               false,
               false,
               false,
               false,
               false,
               false,
               false,
               false,
               false,
               false,
               false,
               false,
               false,
               false,
               false,
               false,
               false,
               false,
               false,
               false,
               false,
               false,
               false,
               false,
               false,
               false,
               false,
               false,
               false,
               false,
               false,
               false,
               false,
               false,
               false,
               false,
               false,
               false,
               false,
               false,
               false,
               false,
               false,
               false,
               false,
               false,
               true,
               true,
               true,
               true,
               true,
               true,
               true,
               true,
               true,
               true,
               true,
               true,
               true,
               true,
               true,
               true,
               false,
               false,
               false,
               false,
               false,
               false,
               false,
               false,
               false,
               false,
               false,
               false,
               false,
               false,
               false,
               false
              ]
             }
            ],
            "label": "ID: 169",
            "method": "restyle"
           },
           {
            "args": [
             {
              "visible": [
               false,
               false,
               false,
               false,
               false,
               false,
               false,
               false,
               false,
               false,
               false,
               false,
               false,
               false,
               false,
               false,
               false,
               false,
               false,
               false,
               false,
               false,
               false,
               false,
               false,
               false,
               false,
               false,
               false,
               false,
               false,
               false,
               false,
               false,
               false,
               false,
               false,
               false,
               false,
               false,
               false,
               false,
               false,
               false,
               false,
               false,
               false,
               false,
               false,
               false,
               false,
               false,
               false,
               false,
               false,
               false,
               false,
               false,
               false,
               false,
               false,
               false,
               false,
               false,
               false,
               false,
               false,
               false,
               false,
               false,
               false,
               false,
               false,
               false,
               false,
               false,
               false,
               false,
               false,
               false,
               false,
               false,
               false,
               false,
               false,
               false,
               false,
               false,
               false,
               false,
               false,
               false,
               false,
               false,
               false,
               false,
               false,
               false,
               false,
               false,
               false,
               false,
               false,
               false,
               false,
               false,
               false,
               false,
               false,
               false,
               false,
               false,
               true,
               true,
               true,
               true,
               true,
               true,
               true,
               true,
               true,
               true,
               true,
               true,
               true,
               true,
               true,
               true
              ]
             }
            ],
            "label": "ID: 170",
            "method": "restyle"
           }
          ],
          "direction": "right",
          "pad": {
           "r": 0,
           "t": -10
          },
          "showactive": true,
          "type": "buttons",
          "x": 0,
          "xanchor": "left",
          "y": 1.1,
          "yanchor": "top"
         }
        ],
        "xaxis": {
         "anchor": "y",
         "domain": [
          0,
          1
         ],
         "matches": "x2",
         "showticklabels": false
        },
        "xaxis2": {
         "anchor": "y2",
         "domain": [
          0,
          1
         ],
         "title": {
          "text": "$\\text{Structural model predictions in cm}^3$"
         }
        },
        "yaxis": {
         "anchor": "x",
         "domain": [
          0.525,
          1
         ],
         "title": {
          "text": "$\\text{Tumour volume in cm}^3$"
         }
        },
        "yaxis2": {
         "anchor": "x2",
         "domain": [
          0,
          0.475
         ],
         "title": {
          "text": "$\\text{Residuals in cm}^3$"
         }
        }
       }
      }
     },
     "metadata": {}
    }
   ],
   "source": [
    "#\n",
    "# Visualise noise model.\n",
    "#\n",
    "# This cell needs the structural model predictions for the tumour growth, and the medians of the optimised parameters:\n",
    "# [structural_model_predictions, median_parameters]\n",
    "#\n",
    "\n",
    "import os\n",
    "\n",
    "import pandas as pd\n",
    "import plotly.colors\n",
    "import plotly.graph_objects as go\n",
    "from plotly.subplots import make_subplots\n",
    "\n",
    "\n",
    "# Import data\n",
    "# Get path of current working directory\n",
    "path = os.getcwd()\n",
    "\n",
    "# Import LXF A677 control growth data\n",
    "data = pd.read_csv(path + '/data/lxf_control_growth.csv')\n",
    "\n",
    "# Match observations with predictions\n",
    "data = data.merge(structural_model_predictions, on=['#ID', 'TIME in day'])\n",
    "\n",
    "# Get noise parameters\n",
    "sigmas = median_parameters[:, -1]\n",
    "\n",
    "# Get mouse ids\n",
    "mouse_ids = data['#ID'].unique()\n",
    "\n",
    "# Get number of mice\n",
    "n_mice = len(mouse_ids)\n",
    "\n",
    "# Define colorscheme\n",
    "colors = plotly.colors.qualitative.Plotly[:n_mice]\n",
    "\n",
    "# Create figure\n",
    "fig = make_subplots(rows=2, cols=1, shared_xaxes=True, row_heights=[0.5, 0.5], vertical_spacing=0.05)\n",
    "\n",
    "# Scatter plot LXF A677 time-series data for each mouse\n",
    "for index, id_m in enumerate(mouse_ids):\n",
    "    # Create mask for mouse\n",
    "    mask = data['#ID'] == id_m\n",
    "\n",
    "    # Get predicted tumour volumes for mouse\n",
    "    predicted_volumes = data['PREDICTED TUMOUR VOLUME in cm^3'][mask]\n",
    "\n",
    "    # Get observed tumour volumes for mouse\n",
    "    observed_volumes = data['TUMOUR VOLUME in cm^3'][mask]\n",
    "\n",
    "    # Get noise parameter\n",
    "    sigma = sigmas[index]\n",
    "\n",
    "    # Plot I: Measured vs predicted volumes\n",
    "    # Plot measured tumour volume versus structural model tumour volume\n",
    "    fig.add_trace(\n",
    "        go.Scatter(\n",
    "            x=predicted_volumes,\n",
    "            y=observed_volumes,\n",
    "            legendgroup=\"Measurement\",\n",
    "            name=\"Measurement\",\n",
    "            showlegend=True,\n",
    "            visible=True if index == 0 else False,\n",
    "            hovertemplate=\n",
    "                \"<b>ID: %d</b><br>\" % (id_m) +\n",
    "                \"Structural model: %{x:.02f} cm^3<br>\" +\n",
    "                \"Measurement: %{y:.02f} cm^3<br>\" +\n",
    "                \"Cancer type: Lung cancer (LXF A677)<br>\" +\n",
    "                \"<extra></extra>\",\n",
    "            mode=\"markers\",\n",
    "            marker=dict(\n",
    "                symbol='circle',\n",
    "                color=colors[index],\n",
    "                opacity=0.7,\n",
    "                line=dict(color='black', width=1))),\n",
    "        row=1,\n",
    "        col=1)\n",
    "\n",
    "    # Plot median of error model\n",
    "    fig.add_trace(\n",
    "        go.Scatter(\n",
    "            x=predicted_volumes,\n",
    "            y=predicted_volumes,\n",
    "            legendgroup=\"Error model\",\n",
    "            name=\"Error model\",\n",
    "            showlegend=True,\n",
    "            visible=True if index == 0 else False,\n",
    "            hovertemplate=\n",
    "                \"<b>Error model: Mean</b><br>\" +\n",
    "                \"Hypothetical measurement: %{y:.02f} cm^3<br>\" +\n",
    "                \"Cancer type: Lung cancer (LXF A677)<br>\" +\n",
    "                \"<extra></extra>\",\n",
    "            mode=\"lines\",\n",
    "            line=dict(color=colors[index]),\n",
    "            opacity=0.7),\n",
    "        row=1,\n",
    "        col=1)\n",
    "\n",
    "    # Plot 1-sigma interval of error model\n",
    "    fig.add_trace(\n",
    "        go.Scatter(\n",
    "            x=predicted_volumes,\n",
    "            y=predicted_volumes + sigma,\n",
    "            legendgroup=\"Error model\",\n",
    "            name=\"Error model\",\n",
    "            showlegend=False,\n",
    "            visible=True if index == 0 else False,\n",
    "            hovertemplate=\n",
    "                \"<b>Error model: 1-sigma interval</b><br>\" +\n",
    "                \"Hypothetical measurement: %{y:.02f} cm^3<br>\" +\n",
    "                \"Cancer type: Lung cancer (LXF A677)<br>\" +\n",
    "                \"<extra></extra>\",\n",
    "            mode=\"lines\",\n",
    "            line=dict(\n",
    "                color='Black'),\n",
    "            opacity=0.7),\n",
    "        row=1,\n",
    "        col=1)\n",
    "    fig.add_trace(\n",
    "        go.Scatter(\n",
    "            x=predicted_volumes,\n",
    "            y=predicted_volumes - sigma,\n",
    "            legendgroup=\"Error model\",\n",
    "            name=\"Error model\",\n",
    "            showlegend=False,\n",
    "            visible=True if index == 0 else False,\n",
    "            hovertemplate=\n",
    "                \"<b>Error model: 1-sigma interval</b><br>\" +\n",
    "                \"Hypothetical measurement: %{y:.02f} cm^3<br>\" +\n",
    "                \"Cancer type: Lung cancer (LXF A677)<br>\" +\n",
    "                \"<extra></extra>\",\n",
    "            mode=\"lines\",\n",
    "            line=dict(\n",
    "                color='Black'),\n",
    "            opacity=0.7),\n",
    "        row=1,\n",
    "        col=1)\n",
    "\n",
    "    # Plot 2-sigma interval of error model\n",
    "    fig.add_trace(\n",
    "        go.Scatter(\n",
    "            x=predicted_volumes,\n",
    "            y=predicted_volumes + 2 * sigma,\n",
    "            legendgroup=\"Error model\",\n",
    "            name=\"Error model\",\n",
    "            showlegend=False,\n",
    "            visible=True if index == 0 else False,\n",
    "            hovertemplate=\n",
    "                \"<b>Error model: 2-sigma interval</b><br>\" +\n",
    "                \"Hypothetical measurement: %{y:.02f} cm^3<br>\" +\n",
    "                \"Cancer type: Lung cancer (LXF A677)<br>\" +\n",
    "                \"<extra></extra>\",\n",
    "            mode=\"lines\",\n",
    "            line=dict(\n",
    "                color='Black',\n",
    "                width=1.5),\n",
    "            opacity=0.5),\n",
    "        row=1,\n",
    "        col=1)\n",
    "    fig.add_trace(\n",
    "        go.Scatter(\n",
    "            x=predicted_volumes,\n",
    "            y=predicted_volumes - 2 * sigma,\n",
    "            legendgroup=\"Error model\",\n",
    "            name=\"Error model\",\n",
    "            showlegend=False,\n",
    "            visible=True if index == 0 else False,\n",
    "            hovertemplate=\n",
    "                \"<b>Error model: 2-sigma interval</b><br>\" +\n",
    "                \"Hypothetical measurement: %{y:.02f} cm^3<br>\" +\n",
    "                \"Cancer type: Lung cancer (LXF A677)<br>\" +\n",
    "                \"<extra></extra>\",\n",
    "            mode=\"lines\",\n",
    "            line=dict(\n",
    "                color='Black',\n",
    "                width=1.5),\n",
    "            opacity=0.5),\n",
    "        row=1,\n",
    "        col=1)\n",
    "\n",
    "    # Plot 3-sigma interval of error model\n",
    "    fig.add_trace(\n",
    "        go.Scatter(\n",
    "            x=predicted_volumes,\n",
    "            y=predicted_volumes + 3 * sigma,\n",
    "            legendgroup=\"Error model\",\n",
    "            name=\"Error model\",\n",
    "            showlegend=False,\n",
    "            visible=True if index == 0 else False,\n",
    "            hovertemplate=\n",
    "                \"<b>Error model: 3-sigma interval</b><br>\" +\n",
    "                \"Hypothetical measurement: %{y:.02f} cm^3<br>\" +\n",
    "                \"Cancer type: Lung cancer (LXF A677)<br>\" +\n",
    "                \"<extra></extra>\",\n",
    "            mode=\"lines\",\n",
    "            line=dict(\n",
    "                color='Black',\n",
    "                width=1),\n",
    "            opacity=0.3),\n",
    "        row=1,\n",
    "        col=1)\n",
    "    fig.add_trace(\n",
    "        go.Scatter(\n",
    "            x=predicted_volumes,\n",
    "            y=predicted_volumes - 3 * sigma,\n",
    "            legendgroup=\"Error model\",\n",
    "            name=\"Error model\",\n",
    "            showlegend=False,\n",
    "            visible=True if index == 0 else False,\n",
    "            hovertemplate=\n",
    "                \"<b>Error model: 3-sigma interval</b><br>\" +\n",
    "                \"Hypothetical measurement: %{y:.02f} cm^3<br>\" +\n",
    "                \"Cancer type: Lung cancer (LXF A677)<br>\" +\n",
    "                \"<extra></extra>\",\n",
    "            mode=\"lines\",\n",
    "            line=dict(\n",
    "                color='Black',\n",
    "                width=1),\n",
    "            opacity=0.3),\n",
    "        row=1,\n",
    "        col=1)\n",
    "\n",
    "    # Plot II: Residuals vs predicted volumes\n",
    "    # Plot residuals versus structural model tumour volume\n",
    "    fig.add_trace(\n",
    "        go.Scatter(\n",
    "            x=predicted_volumes,\n",
    "            y=observed_volumes - predicted_volumes,\n",
    "            legendgroup=\"Measurement\",\n",
    "            name=\"Measurement\",\n",
    "            showlegend=False,\n",
    "            visible=True if index == 0 else False,\n",
    "            hovertemplate=\n",
    "                \"<b>ID: %d</b><br>\" % (id_m) +\n",
    "                \"Structural model: %{x:.02f} cm^3<br>\" +\n",
    "                \"Residual: %{y:.02f} cm^3<br>\" +\n",
    "                \"Cancer type: Lung cancer (LXF A677)<br>\" +\n",
    "                \"<extra></extra>\",\n",
    "            mode=\"markers\",\n",
    "            marker=dict(\n",
    "                symbol='circle',\n",
    "                color=colors[index],\n",
    "                opacity=0.7,\n",
    "                line=dict(color='black', width=1))),\n",
    "        row=2,\n",
    "        col=1)\n",
    "\n",
    "    # Plot median of error model\n",
    "    fig.add_trace(\n",
    "        go.Scatter(\n",
    "            x=predicted_volumes,\n",
    "            y=np.full(shape=len(predicted_volumes), fill_value=0),\n",
    "            legendgroup=\"Error model\",\n",
    "            name=\"Error model\",\n",
    "            showlegend=False,\n",
    "            visible=True if index == 0 else False,\n",
    "            hovertemplate=\n",
    "                \"<b>Error model: Mean</b><br>\" +\n",
    "                \"Hypothetical residual: %{y:.02f} cm^3<br>\" +\n",
    "                \"Cancer type: Lung cancer (LXF A677)<br>\" +\n",
    "                \"<extra></extra>\",\n",
    "            mode=\"lines\",\n",
    "            line=dict(color=colors[index]),\n",
    "            opacity=0.7),\n",
    "        row=2,\n",
    "        col=1)\n",
    "\n",
    "    # Plot 1-sigma interval of error model\n",
    "    fig.add_trace(\n",
    "        go.Scatter(\n",
    "            x=predicted_volumes,\n",
    "            y=np.full(shape=len(predicted_volumes), fill_value=sigma),\n",
    "            legendgroup=\"Error model\",\n",
    "            name=\"Error model\",\n",
    "            showlegend=False,\n",
    "            visible=True if index == 0 else False,\n",
    "            hovertemplate=\n",
    "                \"<b>Error model: 1-sigma interval</b><br>\" +\n",
    "                \"Hypothetical residual: %{y:.02f} cm^3<br>\" +\n",
    "                \"Cancer type: Lung cancer (LXF A677)<br>\" +\n",
    "                \"<extra></extra>\",\n",
    "            mode=\"lines\",\n",
    "            line=dict(\n",
    "                color='Black'),\n",
    "            opacity=0.7),\n",
    "        row=2,\n",
    "        col=1)\n",
    "    fig.add_trace(\n",
    "        go.Scatter(\n",
    "            x=predicted_volumes,\n",
    "            y=np.full(shape=len(predicted_volumes), fill_value=-sigma),\n",
    "            legendgroup=\"Error model\",\n",
    "            name=\"Error model\",\n",
    "            showlegend=False,\n",
    "            visible=True if index == 0 else False,\n",
    "            hovertemplate=\n",
    "                \"<b>Error model: 1-sigma interval</b><br>\" +\n",
    "                \"Hypothetical measurement: %{y:.02f} cm^3<br>\" +\n",
    "                \"Cancer type: Lung cancer (LXF A677)<br>\" +\n",
    "                \"<extra></extra>\",\n",
    "            mode=\"lines\",\n",
    "            line=dict(\n",
    "                color='Black'),\n",
    "            opacity=0.7),\n",
    "        row=2,\n",
    "        col=1)\n",
    "\n",
    "    # Plot 2-sigma interval of error model\n",
    "    fig.add_trace(\n",
    "        go.Scatter(\n",
    "            x=predicted_volumes,\n",
    "            y=np.full(shape=len(predicted_volumes), fill_value=2 * sigma),\n",
    "            legendgroup=\"Error model\",\n",
    "            name=\"Error model\",\n",
    "            showlegend=False,\n",
    "            visible=True if index == 0 else False,\n",
    "            hovertemplate=\n",
    "                \"<b>Error model: 2-sigma interval</b><br>\" +\n",
    "                \"Hypothetical residual: %{y:.02f} cm^3<br>\" +\n",
    "                \"Cancer type: Lung cancer (LXF A677)<br>\" +\n",
    "                \"<extra></extra>\",\n",
    "            mode=\"lines\",\n",
    "            line=dict(\n",
    "                color='Black'),\n",
    "            opacity=0.5),\n",
    "        row=2,\n",
    "        col=1)\n",
    "    fig.add_trace(\n",
    "        go.Scatter(\n",
    "            x=predicted_volumes,\n",
    "            y=np.full(shape=len(predicted_volumes), fill_value=-2 * sigma),\n",
    "            legendgroup=\"Error model\",\n",
    "            name=\"Error model\",\n",
    "            showlegend=False,\n",
    "            visible=True if index == 0 else False,\n",
    "            hovertemplate=\n",
    "                \"<b>Error model: 2-sigma interval</b><br>\" +\n",
    "                \"Hypothetical measurement: %{y:.02f} cm^3<br>\" +\n",
    "                \"Cancer type: Lung cancer (LXF A677)<br>\" +\n",
    "                \"<extra></extra>\",\n",
    "            mode=\"lines\",\n",
    "            line=dict(\n",
    "                color='Black'),\n",
    "            opacity=0.5),\n",
    "        row=2,\n",
    "        col=1)\n",
    "\n",
    "    # Plot 3-sigma interval of error model\n",
    "    fig.add_trace(\n",
    "        go.Scatter(\n",
    "            x=predicted_volumes,\n",
    "            y=np.full(shape=len(predicted_volumes), fill_value=3 * sigma),\n",
    "            legendgroup=\"Error model\",\n",
    "            name=\"Error model\",\n",
    "            showlegend=False,\n",
    "            visible=True if index == 0 else False,\n",
    "            hovertemplate=\n",
    "                \"<b>Error model: 3-sigma interval</b><br>\" +\n",
    "                \"Hypothetical residual: %{y:.02f} cm^3<br>\" +\n",
    "                \"Cancer type: Lung cancer (LXF A677)<br>\" +\n",
    "                \"<extra></extra>\",\n",
    "            mode=\"lines\",\n",
    "            line=dict(\n",
    "                color='Black'),\n",
    "            opacity=0.3),\n",
    "        row=2,\n",
    "        col=1)\n",
    "    fig.add_trace(\n",
    "        go.Scatter(\n",
    "            x=predicted_volumes,\n",
    "            y=np.full(shape=len(predicted_volumes), fill_value=-3 * sigma),\n",
    "            legendgroup=\"Error model\",\n",
    "            name=\"Error model\",\n",
    "            showlegend=False,\n",
    "            visible=True if index == 0 else False,\n",
    "            hovertemplate=\n",
    "                \"<b>Error model: 3-sigma interval</b><br>\" +\n",
    "                \"Hypothetical measurement: %{y:.02f} cm^3<br>\" +\n",
    "                \"Cancer type: Lung cancer (LXF A677)<br>\" +\n",
    "                \"<extra></extra>\",\n",
    "            mode=\"lines\",\n",
    "            line=dict(\n",
    "                color='Black'),\n",
    "            opacity=0.3),\n",
    "        row=2,\n",
    "        col=1)\n",
    "\n",
    "# Set figure size\n",
    "fig.update_layout(\n",
    "    autosize=True,\n",
    "    template=\"plotly_white\")\n",
    "\n",
    "# Set X and Y axes\n",
    "fig.update_xaxes(title_text=r'$\\text{Structural model predictions in cm}^3$', row=2, col=1)\n",
    "fig.update_yaxes(title_text=r'$\\text{Tumour volume in cm}^3$', row=1, col=1)\n",
    "fig.update_yaxes(title_text=r'$\\text{Residuals in cm}^3$', row=2, col=1)\n",
    "\n",
    "\n",
    "# Add switch between mice\n",
    "fig.update_layout(\n",
    "    updatemenus=[\n",
    "        dict(\n",
    "            type = \"buttons\",\n",
    "            direction = \"right\",\n",
    "            buttons=list([\n",
    "                dict(\n",
    "                    args=[{\"visible\": [True]*(8 * 2) + [False]*(8 * 2 * 7)}],\n",
    "                    label=\"ID: %d\" % mouse_ids[0],\n",
    "                    method=\"restyle\"\n",
    "                ),\n",
    "                dict(\n",
    "                    args=[{\"visible\": [False]*(8 * 2) + [True]*(8 * 2) + [False]*(8 * 2 * 6)}],\n",
    "                    label=\"ID: %d\" % mouse_ids[1],\n",
    "                    method=\"restyle\"\n",
    "                ),\n",
    "                dict(\n",
    "                    args=[{\"visible\": [False]*(8 * 2 * 2) + [True]*(8 * 2) + [False]*(8 * 2 * 5)}],\n",
    "                    label=\"ID: %d\" % mouse_ids[2],\n",
    "                    method=\"restyle\"\n",
    "                ),\n",
    "                dict(\n",
    "                    args=[{\"visible\": [False]*(8 * 2 * 3) + [True]*(8 * 2) + [False]*(8 * 2 * 4)}],\n",
    "                    label=\"ID: %d\" % mouse_ids[3],\n",
    "                    method=\"restyle\"\n",
    "                ),\n",
    "                dict(\n",
    "                    args=[{\"visible\": [False]*(8 * 2 * 4) + [True]*(8 * 2) + [False]*(8 * 2 * 3)}],\n",
    "                    label=\"ID: %d\" % mouse_ids[4],\n",
    "                    method=\"restyle\"\n",
    "                ),\n",
    "                dict(\n",
    "                    args=[{\"visible\": [False]*(8 * 2 * 5) + [True]*(8 * 2) + [False]*(8 * 2 * 2)}],\n",
    "                    label=\"ID: %d\" % mouse_ids[5],\n",
    "                    method=\"restyle\"\n",
    "                ),\n",
    "                dict(\n",
    "                    args=[{\"visible\": [False]*(8 * 2 * 6) + [True]*(8 * 2) + [False]*(8 * 2)}],\n",
    "                    label=\"ID: %d\" % mouse_ids[6],\n",
    "                    method=\"restyle\"\n",
    "                ),\n",
    "                dict(\n",
    "                    args=[{\"visible\": [False]*(8 * 2 * 7) + [True]*(8 * 2)}],\n",
    "                    label=\"ID: %d\" % mouse_ids[7],\n",
    "                    method=\"restyle\"\n",
    "                )\n",
    "            ]),\n",
    "            pad={\"r\": 0, \"t\": -10},\n",
    "            showactive=True,\n",
    "            x=0.0,\n",
    "            xanchor=\"left\",\n",
    "            y=1.1,\n",
    "            yanchor=\"top\"\n",
    "        )\n",
    "    ]\n",
    ")\n",
    "\n",
    "# Position legend\n",
    "fig.update_layout(legend=dict(\n",
    "    yanchor=\"bottom\",\n",
    "    y=0.01,\n",
    "    xanchor=\"left\",\n",
    "    x=1.05))\n",
    "\n",
    "# Show figure\n",
    "fig.show()"
   ]
  },
  {
   "cell_type": "markdown",
   "metadata": {},
   "source": [
    "**Figure 3 - :**"
   ]
  },
  {
   "cell_type": "code",
   "execution_count": 5,
   "metadata": {
    "tags": []
   },
   "outputs": [
    {
     "output_type": "display_data",
     "data": {
      "text/plain": "HBox(children=(FloatProgress(value=1.0, bar_style='info', max=1.0), HTML(value='')))",
      "application/vnd.jupyter.widget-view+json": {
       "version_major": 2,
       "version_minor": 0,
       "model_id": "58ef3e18817c4f7294c5a208b913a82d"
      }
     },
     "metadata": {}
    },
    {
     "output_type": "stream",
     "name": "stdout",
     "text": "\n"
    }
   ],
   "source": [
    "#\n",
    "# Run optimisation multiple times from random initial starting points.\n",
    "#\n",
    "# This cell needs the above defined wrapped myokit model:\n",
    "# [DimensionlessLogTransformedPintsModel]\n",
    "#\n",
    "\n",
    "import os\n",
    "\n",
    "import myokit\n",
    "import numpy as np\n",
    "import pandas as pd\n",
    "import pints\n",
    "from tqdm.notebook import tqdm\n",
    "\n",
    "import pkpd.likelihoods\n",
    "\n",
    "\n",
    "# Define characteristic scales\n",
    "characteristic_volume = 1  # in cm^3\n",
    "characteristic_time = 1  # in day\n",
    "\n",
    "# Define number of optimisation runs for each individual\n",
    "n_runs = 10\n",
    "\n",
    "# Import data\n",
    "# Get path of current working directory\n",
    "path = os.getcwd()\n",
    "\n",
    "# Import LXF A677 control growth data\n",
    "data = pd.read_csv(path + '/data/lxf_control_growth.csv')\n",
    "n_mice = len(data['#ID'].unique())\n",
    "\n",
    "# Define container for the structural model estimates\n",
    "# Shape (n_mice, n_runs, n_structural_params + n_noise_params)\n",
    "n_structural_params = 3\n",
    "n_noise_params = 1\n",
    "mouse_parameters = np.empty(shape=(n_mice, n_runs, n_structural_params + n_noise_params))\n",
    "total_n_parameters = n_mice * n_structural_params + n_noise_params\n",
    "\n",
    "# Define container for the objective function score for the optimised parameters\n",
    "mouse_scores = np.empty(shape=n_runs)\n",
    "\n",
    "# Define random starting points over many orders of magnitude\n",
    "# Shape = (n_runs, n_mice * n_parameters +1)\n",
    "# For each mouse 3 structural parameters, and one shared noise parameter\n",
    "initial_parameters = np.random.uniform(low=1E-3, high=1E1, size=(n_runs, total_n_parameters))\n",
    "\n",
    "# Create inverse problems for the LXF A677 population\n",
    "problems = []\n",
    "mouse_ids = data['#ID'].unique()\n",
    "for mouse_id in mouse_ids:\n",
    "    # Create mask for mouse with specfied ID\n",
    "    mouse_mask = data['#ID'] == mouse_id\n",
    "\n",
    "    # Get relevant time points\n",
    "    times = data[mouse_mask]['TIME in day'].to_numpy() / characteristic_time\n",
    "\n",
    "    # Get measured tumour volumes\n",
    "    observed_volumes = data[mouse_mask]['TUMOUR VOLUME in cm^3'].to_numpy() / characteristic_volume\n",
    "\n",
    "    # Create inverse problem\n",
    "    problems.append(\n",
    "        pints.SingleOutputProblem(\n",
    "            DimensionlessLogTransformedPintsModel(), times, observed_volumes))\n",
    "\n",
    "# Create likelihood assuming a constant Gaussian noise\n",
    "log_likelihood = pkpd.likelihoods.SharedNoiseLogLikelihood(\n",
    "    problems=problems, log_likelihood=pints.GaussianLogLikelihood)\n",
    "\n",
    "# Create prior to biologically relevant values\n",
    "log_prior_structural_params = pints.UniformLogPrior(\n",
    "    lower_or_boundaries=np.log([1E-3] * (total_n_parameters - 1)),\n",
    "    upper=np.log([1E3] * (total_n_parameters - 1)))\n",
    "log_prior_sigma = pints.HalfCauchyLogPrior(location=0, scale=3)\n",
    "log_prior = pints.ComposedLogPrior(log_prior_structural_params, log_prior_sigma)\n",
    "\n",
    "# Create posterior\n",
    "log_posterior = pints.LogPosterior(log_likelihood, log_prior)\n",
    "\n",
    "# Define initial starting points by sampling from prior\n",
    "initial_parameters = log_prior.sample(n=n_runs)\n",
    "\n",
    "# boundary = pints.RectangularBoundaries(\n",
    "#     lower=[np.log(1E-3)] * (total_n_parameters - 1) + [1E-3], \n",
    "#     upper=[np.log(1E3)] * (total_n_parameters - 1) + [1E1])\n",
    "\n",
    "# Run optimisation multiple times\n",
    "for run_id, initial_params in tqdm(enumerate(initial_parameters)):\n",
    "\n",
    "    # Create optimisation controller with a CMA-ES optimiser\n",
    "    optimiser = pints.OptimisationController(\n",
    "        function=log_posterior,\n",
    "        x0=initial_params,\n",
    "        method=pints.CMAES)\n",
    "\n",
    "    # Disable logging mode\n",
    "    optimiser.set_log_to_screen(False)\n",
    "\n",
    "    # Parallelise optimisation\n",
    "    optimiser.set_parallel(True)\n",
    "\n",
    "    # TODO: Remove this\n",
    "    optimiser.set_max_iterations(500)\n",
    "\n",
    "    # Find optimal parameters\n",
    "    try:\n",
    "        estimates, score = optimiser.run()\n",
    "    except:\n",
    "        # If inference breaks fill estimates with nan\n",
    "        estimates = np.array([np.nan] * total_n_parameters)\n",
    "        score = np.nan\n",
    "\n",
    "    # Save estimates and score (back transformed to linear scale)\n",
    "    # Noise parameter is not on log-scale\n",
    "    estimates[:-n_noise_params] = np.exp(estimates[:-n_noise_params])\n",
    "    for index, _ in enumerate(mouse_ids):\n",
    "        # Match mice with structural model parameters\n",
    "        mouse_parameters[index, run_id, :-n_noise_params:] = np.exp(\n",
    "            estimates[index * n_structural_params:(index + 1) * n_structural_params])\n",
    "    \n",
    "    # Get noise parameter\n",
    "    mouse_parameters[:, run_id, -n_noise_params:] = np.array(np.repeat(\n",
    "        a=estimates[-n_noise_params:, np.newaxis], repeats=n_mice, axis=0))\n",
    "    mouse_scores[run_id] = score"
   ]
  },
  {
   "cell_type": "code",
   "execution_count": 6,
   "metadata": {},
   "outputs": [],
   "source": [
    "#\n",
    "# Transform dimensionless parameters to new set of biological parameters.\n",
    "# \n",
    "# This cell needs the above inferred dimensionless parameters and the characteristic volume and time scale:\n",
    "# [mouse_parameters, characteristic_volume, characteristic_time]\n",
    "#\n",
    "\n",
    "import numpy as np\n",
    "\n",
    "\n",
    "# Initialise container for backtransformed paramters\n",
    "# Shape (n_mice, n_runs, n_parameters)\n",
    "new_parameters = np.empty(shape=mouse_parameters.shape)\n",
    "\n",
    "# Transform initial volumes\n",
    "mouse_parameters[:, :, 0] = mouse_parameters[:, :, 0] * characteristic_volume\n",
    "\n",
    "# Transform critical volume \n",
    "# V_crit = a_0 * V^c\n",
    "mouse_parameters[:, :, 1] = mouse_parameters[:, :, 1] * characteristic_volume\n",
    "\n",
    "# Transform exponential growth rate\n",
    "# lambda = a_1 / a_0 / t^c\n",
    "mouse_parameters[:, :, 2] = \\\n",
    "    mouse_parameters[:, :, 2] / mouse_parameters[:, :, 1] / characteristic_time"
   ]
  },
  {
   "cell_type": "code",
   "execution_count": 7,
   "metadata": {},
   "outputs": [
    {
     "output_type": "display_data",
     "data": {
      "application/vnd.plotly.v1+json": {
       "config": {
        "plotlyServerURL": "https://plot.ly"
       },
       "data": [
        {
         "boxpoints": "all",
         "jitter": 0.2,
         "line": {
          "color": "#636EFA"
         },
         "marker": {
          "color": "#636EFA",
          "line": {
           "color": "black",
           "width": 1
          },
          "opacity": 0.7,
          "symbol": "circle"
         },
         "name": "Initial tumour volume in cm^3",
         "pointpos": -1.5,
         "type": "box",
         "visible": true,
         "y": [
          1.0564376933041582,
          1.113813450011091,
          1.027251602779547,
          1.0290010800189044,
          1.1337073013829604,
          1.0306434793972077,
          1.0013836884507277,
          2.979585527234177,
          1.170742889595271,
          1.096040230262255
         ]
        },
        {
         "boxpoints": "all",
         "jitter": 0.2,
         "line": {
          "color": "#EF553B"
         },
         "marker": {
          "color": "#EF553B",
          "line": {
           "color": "black",
           "width": 1
          },
          "opacity": 0.7,
          "symbol": "circle"
         },
         "name": "Critical volume in cm^3",
         "pointpos": -1.5,
         "type": "box",
         "visible": true,
         "y": [
          1.0017586195993278,
          1.001961055853451,
          1.0187125921695528,
          1.050602050967835,
          1.1707673532443303,
          32.06623480596406,
          1.0057179946142667,
          31.694846644032452,
          1.308267397036218,
          1.0011565359995795
         ]
        },
        {
         "boxpoints": "all",
         "jitter": 0.2,
         "line": {
          "color": "#00CC96"
         },
         "marker": {
          "color": "#00CC96",
          "line": {
           "color": "black",
           "width": 1
          },
          "opacity": 0.7,
          "symbol": "circle"
         },
         "name": "Exponential growth rate in 1/day",
         "pointpos": -1.5,
         "type": "box",
         "visible": true,
         "y": [
          1.1044154381136195,
          1.0988537624442434,
          1.0901913735581676,
          1.0671957928746927,
          0.9633753900838757,
          0.03602086257595888,
          1.1033690185275824,
          0.031636301223474765,
          0.8725692864154301,
          1.1009201839602203
         ]
        },
        {
         "boxpoints": "all",
         "jitter": 0.2,
         "line": {
          "color": "#AB63FA"
         },
         "marker": {
          "color": "#AB63FA",
          "line": {
           "color": "black",
           "width": 1
          },
          "opacity": 0.7,
          "symbol": "circle"
         },
         "name": "Standard deviation in cm^3",
         "pointpos": -1.5,
         "type": "box",
         "visible": true,
         "y": [
          0.15829257262823432,
          0.32899572710993885,
          0.19167696381747273,
          0.17032344572254576,
          0.11593627828598164,
          0.4795687512769207,
          0.182487596509829,
          0.24122918840825278,
          0.15629715515998302,
          0.13412348654935644
         ]
        },
        {
         "boxpoints": "all",
         "jitter": 0.2,
         "line": {
          "color": "#FFA15A"
         },
         "marker": {
          "color": "#FFA15A",
          "line": {
           "color": "black",
           "width": 1
          },
          "opacity": 0.7,
          "symbol": "circle"
         },
         "name": "Score",
         "pointpos": -1.5,
         "type": "box",
         "visible": true,
         "y": [
          -26.51247346027624,
          -95.6611417594053,
          -39.61675207408105,
          -29.580955286285118,
          11.422956328152935,
          -134.43374912137665,
          -34.418705498945904,
          -64.45091577150987,
          -21.39892253133302,
          -4.248341131470923
         ]
        },
        {
         "boxpoints": "all",
         "jitter": 0.2,
         "line": {
          "color": "#636EFA"
         },
         "marker": {
          "color": "#636EFA",
          "line": {
           "color": "black",
           "width": 1
          },
          "opacity": 0.7,
          "symbol": "circle"
         },
         "name": "Initial tumour volume in cm^3",
         "pointpos": -1.5,
         "type": "box",
         "visible": false,
         "y": [
          1.0644403721138733,
          1.1341212911812295,
          1.133701793760723,
          1.1406869902261492,
          1.1510652342622945,
          1.003711864610111,
          1.0508990849747566,
          1.3217773465875815,
          1.0803233803559384,
          1.1356483114155593
         ]
        },
        {
         "boxpoints": "all",
         "jitter": 0.2,
         "line": {
          "color": "#EF553B"
         },
         "marker": {
          "color": "#EF553B",
          "line": {
           "color": "black",
           "width": 1
          },
          "opacity": 0.7,
          "symbol": "circle"
         },
         "name": "Critical volume in cm^3",
         "pointpos": -1.5,
         "type": "box",
         "visible": false,
         "y": [
          4.306116012920316e+106,
          2.1819383845953275e+113,
          328.6838710588062,
          8.318202759489549e+80,
          3.392465811832214,
          1.009695978053749,
          1.7548863569577249,
          998250531.9783044,
          1.1264932766244287,
          27988246238903.938
         ]
        },
        {
         "boxpoints": "all",
         "jitter": 0.2,
         "line": {
          "color": "#00CC96"
         },
         "marker": {
          "color": "#00CC96",
          "line": {
           "color": "black",
           "width": 1
          },
          "opacity": 0.7,
          "symbol": "circle"
         },
         "name": "Exponential growth rate in 1/day",
         "pointpos": -1.5,
         "type": "box",
         "visible": false,
         "y": [
          2.393734720119759e-107,
          3.428323912355901e-108,
          0.004190065686431532,
          1.6271321125128062e-77,
          0.3163683117066981,
          1.0142103487816594,
          0.6113928215538654,
          1.0030752031139983e-9,
          0.9097224393550498,
          1.853775241188247e-13
         ]
        },
        {
         "boxpoints": "all",
         "jitter": 0.2,
         "line": {
          "color": "#AB63FA"
         },
         "marker": {
          "color": "#AB63FA",
          "line": {
           "color": "black",
           "width": 1
          },
          "opacity": 0.7,
          "symbol": "circle"
         },
         "name": "Standard deviation in cm^3",
         "pointpos": -1.5,
         "type": "box",
         "visible": false,
         "y": [
          0.15829257262823432,
          0.32899572710993885,
          0.19167696381747273,
          0.17032344572254576,
          0.11593627828598164,
          0.4795687512769207,
          0.182487596509829,
          0.24122918840825278,
          0.15629715515998302,
          0.13412348654935644
         ]
        },
        {
         "boxpoints": "all",
         "jitter": 0.2,
         "line": {
          "color": "#FFA15A"
         },
         "marker": {
          "color": "#FFA15A",
          "line": {
           "color": "black",
           "width": 1
          },
          "opacity": 0.7,
          "symbol": "circle"
         },
         "name": "Score",
         "pointpos": -1.5,
         "type": "box",
         "visible": false,
         "y": [
          -26.51247346027624,
          -95.6611417594053,
          -39.61675207408105,
          -29.580955286285118,
          11.422956328152935,
          -134.43374912137665,
          -34.418705498945904,
          -64.45091577150987,
          -21.39892253133302,
          -4.248341131470923
         ]
        },
        {
         "boxpoints": "all",
         "jitter": 0.2,
         "line": {
          "color": "#636EFA"
         },
         "marker": {
          "color": "#636EFA",
          "line": {
           "color": "black",
           "width": 1
          },
          "opacity": 0.7,
          "symbol": "circle"
         },
         "name": "Initial tumour volume in cm^3",
         "pointpos": -1.5,
         "type": "box",
         "visible": false,
         "y": [
          1.250344713286392,
          1.2266100817015404,
          1.2355477369558747,
          1.00690417301963,
          1.1934378239392889,
          1.110678672023882,
          1.2527260812662795,
          1.197953065768435,
          1.0092214078701347,
          1.2112374624171496
         ]
        },
        {
         "boxpoints": "all",
         "jitter": 0.2,
         "line": {
          "color": "#EF553B"
         },
         "marker": {
          "color": "#EF553B",
          "line": {
           "color": "black",
           "width": 1
          },
          "opacity": 0.7,
          "symbol": "circle"
         },
         "name": "Critical volume in cm^3",
         "pointpos": -1.5,
         "type": "box",
         "visible": false,
         "y": [
          3.36771897253456e+71,
          63052.0757892338,
          20116.26713233345,
          1.0151694386608645,
          15.672072476529866,
          2.860855360709595,
          2.074294150584747e+107,
          10716208508.169476,
          1.0945307073904242,
          74.47344491220606
         ]
        },
        {
         "boxpoints": "all",
         "jitter": 0.2,
         "line": {
          "color": "#00CC96"
         },
         "marker": {
          "color": "#00CC96",
          "line": {
           "color": "black",
           "width": 1
          },
          "opacity": 0.7,
          "symbol": "circle"
         },
         "name": "Exponential growth rate in 1/day",
         "pointpos": -1.5,
         "type": "box",
         "visible": false,
         "y": [
          1.86880554995481e-64,
          0.00006152301218946176,
          0.00016292605686088574,
          1.0791728212914244,
          0.09741838425245737,
          0.45322427873248433,
          2.694908998757505e-96,
          1.6493811648768225e-9,
          1.0256298806583448,
          0.02444877866492171
         ]
        },
        {
         "boxpoints": "all",
         "jitter": 0.2,
         "line": {
          "color": "#AB63FA"
         },
         "marker": {
          "color": "#AB63FA",
          "line": {
           "color": "black",
           "width": 1
          },
          "opacity": 0.7,
          "symbol": "circle"
         },
         "name": "Standard deviation in cm^3",
         "pointpos": -1.5,
         "type": "box",
         "visible": false,
         "y": [
          0.15829257262823432,
          0.32899572710993885,
          0.19167696381747273,
          0.17032344572254576,
          0.11593627828598164,
          0.4795687512769207,
          0.182487596509829,
          0.24122918840825278,
          0.15629715515998302,
          0.13412348654935644
         ]
        },
        {
         "boxpoints": "all",
         "jitter": 0.2,
         "line": {
          "color": "#FFA15A"
         },
         "marker": {
          "color": "#FFA15A",
          "line": {
           "color": "black",
           "width": 1
          },
          "opacity": 0.7,
          "symbol": "circle"
         },
         "name": "Score",
         "pointpos": -1.5,
         "type": "box",
         "visible": false,
         "y": [
          -26.51247346027624,
          -95.6611417594053,
          -39.61675207408105,
          -29.580955286285118,
          11.422956328152935,
          -134.43374912137665,
          -34.418705498945904,
          -64.45091577150987,
          -21.39892253133302,
          -4.248341131470923
         ]
        },
        {
         "boxpoints": "all",
         "jitter": 0.2,
         "line": {
          "color": "#636EFA"
         },
         "marker": {
          "color": "#636EFA",
          "line": {
           "color": "black",
           "width": 1
          },
          "opacity": 0.7,
          "symbol": "circle"
         },
         "name": "Initial tumour volume in cm^3",
         "pointpos": -1.5,
         "type": "box",
         "visible": false,
         "y": [
          1.152972365637227,
          1.2139034902900614,
          1.8227323446488815,
          1.0042203279686015,
          1.099834276108433,
          1.0312722467316209,
          1.0812250132235643,
          1.2771166316387026,
          1.01471313095457,
          1.2035201693858413
         ]
        },
        {
         "boxpoints": "all",
         "jitter": 0.2,
         "line": {
          "color": "#EF553B"
         },
         "marker": {
          "color": "#EF553B",
          "line": {
           "color": "black",
           "width": 1
          },
          "opacity": 0.7,
          "symbol": "circle"
         },
         "name": "Critical volume in cm^3",
         "pointpos": -1.5,
         "type": "box",
         "visible": false,
         "y": [
          1.0053297117034754,
          1826567794567.6711,
          6.412443147875471e+59,
          1.0011637280617023,
          1.068455955845778,
          1993.5815357948304,
          1.002042281197242,
          7.977340617529746e+24,
          1.0022855061702414,
          3984.86442428972
         ]
        },
        {
         "boxpoints": "all",
         "jitter": 0.2,
         "line": {
          "color": "#00CC96"
         },
         "marker": {
          "color": "#00CC96",
          "line": {
           "color": "black",
           "width": 1
          },
          "opacity": 0.7,
          "symbol": "circle"
         },
         "name": "Exponential growth rate in 1/day",
         "pointpos": -1.5,
         "type": "box",
         "visible": false,
         "y": [
          1.0307838989822198,
          3.781921989540541e-12,
          1.562487205978357e-60,
          1.040101340074657,
          0.9773312343485612,
          0.0005021433557076141,
          1.0383749708572145,
          3.73212083056788e-24,
          1.0400463726799882,
          0.0004563253084499197
         ]
        },
        {
         "boxpoints": "all",
         "jitter": 0.2,
         "line": {
          "color": "#AB63FA"
         },
         "marker": {
          "color": "#AB63FA",
          "line": {
           "color": "black",
           "width": 1
          },
          "opacity": 0.7,
          "symbol": "circle"
         },
         "name": "Standard deviation in cm^3",
         "pointpos": -1.5,
         "type": "box",
         "visible": false,
         "y": [
          0.15829257262823432,
          0.32899572710993885,
          0.19167696381747273,
          0.17032344572254576,
          0.11593627828598164,
          0.4795687512769207,
          0.182487596509829,
          0.24122918840825278,
          0.15629715515998302,
          0.13412348654935644
         ]
        },
        {
         "boxpoints": "all",
         "jitter": 0.2,
         "line": {
          "color": "#FFA15A"
         },
         "marker": {
          "color": "#FFA15A",
          "line": {
           "color": "black",
           "width": 1
          },
          "opacity": 0.7,
          "symbol": "circle"
         },
         "name": "Score",
         "pointpos": -1.5,
         "type": "box",
         "visible": false,
         "y": [
          -26.51247346027624,
          -95.6611417594053,
          -39.61675207408105,
          -29.580955286285118,
          11.422956328152935,
          -134.43374912137665,
          -34.418705498945904,
          -64.45091577150987,
          -21.39892253133302,
          -4.248341131470923
         ]
        },
        {
         "boxpoints": "all",
         "jitter": 0.2,
         "line": {
          "color": "#636EFA"
         },
         "marker": {
          "color": "#636EFA",
          "line": {
           "color": "black",
           "width": 1
          },
          "opacity": 0.7,
          "symbol": "circle"
         },
         "name": "Initial tumour volume in cm^3",
         "pointpos": -1.5,
         "type": "box",
         "visible": false,
         "y": [
          1.0379685842861754,
          1.9932972893024024,
          1.001173562383495,
          1.08405641059425,
          1.0705850407116608,
          1.0704239832293063,
          1.0024058298061151,
          1.0064070084929624,
          1.005798377702181,
          1.0135478076605706
         ]
        },
        {
         "boxpoints": "all",
         "jitter": 0.2,
         "line": {
          "color": "#EF553B"
         },
         "marker": {
          "color": "#EF553B",
          "line": {
           "color": "black",
           "width": 1
          },
          "opacity": 0.7,
          "symbol": "circle"
         },
         "name": "Critical volume in cm^3",
         "pointpos": -1.5,
         "type": "box",
         "visible": false,
         "y": [
          1.5277904122048103,
          4.8733057051334464e+291,
          1.2107549275243281,
          42323546.63345348,
          201.64334687480292,
          1.3774882757200522e+52,
          1.2782431250636912,
          1.8369602121066102,
          1.0018677878856777,
          2.385476622549654
         ]
        },
        {
         "boxpoints": "all",
         "jitter": 0.2,
         "line": {
          "color": "#00CC96"
         },
         "marker": {
          "color": "#00CC96",
          "line": {
           "color": "black",
           "width": 1
          },
          "opacity": 0.7,
          "symbol": "circle"
         },
         "name": "Exponential growth rate in 1/day",
         "pointpos": -1.5,
         "type": "box",
         "visible": false,
         "y": [
          0.7308081193752365,
          2.0742793153678007e-292,
          0.9200686768339565,
          1.7083511789963548e-7,
          0.009713458322389944,
          8.351635260763998e-47,
          0.8791995008911113,
          0.653661068005676,
          1.0498506750742223,
          0.5188308346119679
         ]
        },
        {
         "boxpoints": "all",
         "jitter": 0.2,
         "line": {
          "color": "#AB63FA"
         },
         "marker": {
          "color": "#AB63FA",
          "line": {
           "color": "black",
           "width": 1
          },
          "opacity": 0.7,
          "symbol": "circle"
         },
         "name": "Standard deviation in cm^3",
         "pointpos": -1.5,
         "type": "box",
         "visible": false,
         "y": [
          0.15829257262823432,
          0.32899572710993885,
          0.19167696381747273,
          0.17032344572254576,
          0.11593627828598164,
          0.4795687512769207,
          0.182487596509829,
          0.24122918840825278,
          0.15629715515998302,
          0.13412348654935644
         ]
        },
        {
         "boxpoints": "all",
         "jitter": 0.2,
         "line": {
          "color": "#FFA15A"
         },
         "marker": {
          "color": "#FFA15A",
          "line": {
           "color": "black",
           "width": 1
          },
          "opacity": 0.7,
          "symbol": "circle"
         },
         "name": "Score",
         "pointpos": -1.5,
         "type": "box",
         "visible": false,
         "y": [
          -26.51247346027624,
          -95.6611417594053,
          -39.61675207408105,
          -29.580955286285118,
          11.422956328152935,
          -134.43374912137665,
          -34.418705498945904,
          -64.45091577150987,
          -21.39892253133302,
          -4.248341131470923
         ]
        },
        {
         "boxpoints": "all",
         "jitter": 0.2,
         "line": {
          "color": "#636EFA"
         },
         "marker": {
          "color": "#636EFA",
          "line": {
           "color": "black",
           "width": 1
          },
          "opacity": 0.7,
          "symbol": "circle"
         },
         "name": "Initial tumour volume in cm^3",
         "pointpos": -1.5,
         "type": "box",
         "visible": false,
         "y": [
          1.1938673527915962,
          2.758424673958128,
          1.2252106075931712,
          1.0985775231976613,
          1.0590692424624182,
          1.2625120515102704,
          1.2018105141841389,
          1.3147584963869374,
          1.1460404679212444,
          1.1956565582411611
         ]
        },
        {
         "boxpoints": "all",
         "jitter": 0.2,
         "line": {
          "color": "#EF553B"
         },
         "marker": {
          "color": "#EF553B",
          "line": {
           "color": "black",
           "width": 1
          },
          "opacity": 0.7,
          "symbol": "circle"
         },
         "name": "Critical volume in cm^3",
         "pointpos": -1.5,
         "type": "box",
         "visible": false,
         "y": [
          2.248698793004329,
          2.2854229083735832e+36,
          2.155128516863205,
          1.1565670447714091,
          1.0719336947178806,
          20.16914608329557,
          1.1040481675633285,
          2.366440101547616,
          1.3682757440493913,
          1.834964300512836
         ]
        },
        {
         "boxpoints": "all",
         "jitter": 0.2,
         "line": {
          "color": "#00CC96"
         },
         "marker": {
          "color": "#00CC96",
          "line": {
           "color": "black",
           "width": 1
          },
          "opacity": 0.7,
          "symbol": "circle"
         },
         "name": "Exponential growth rate in 1/day",
         "pointpos": -1.5,
         "type": "box",
         "visible": false,
         "y": [
          0.5212785172174615,
          4.4350335379723915e-37,
          0.538411774199173,
          0.9530241094074167,
          1.01948896000023,
          0.06906780818372897,
          0.9836316413051552,
          0.48620459457557397,
          0.817842999117146,
          0.6256501120159356
         ]
        },
        {
         "boxpoints": "all",
         "jitter": 0.2,
         "line": {
          "color": "#AB63FA"
         },
         "marker": {
          "color": "#AB63FA",
          "line": {
           "color": "black",
           "width": 1
          },
          "opacity": 0.7,
          "symbol": "circle"
         },
         "name": "Standard deviation in cm^3",
         "pointpos": -1.5,
         "type": "box",
         "visible": false,
         "y": [
          0.15829257262823432,
          0.32899572710993885,
          0.19167696381747273,
          0.17032344572254576,
          0.11593627828598164,
          0.4795687512769207,
          0.182487596509829,
          0.24122918840825278,
          0.15629715515998302,
          0.13412348654935644
         ]
        },
        {
         "boxpoints": "all",
         "jitter": 0.2,
         "line": {
          "color": "#FFA15A"
         },
         "marker": {
          "color": "#FFA15A",
          "line": {
           "color": "black",
           "width": 1
          },
          "opacity": 0.7,
          "symbol": "circle"
         },
         "name": "Score",
         "pointpos": -1.5,
         "type": "box",
         "visible": false,
         "y": [
          -26.51247346027624,
          -95.6611417594053,
          -39.61675207408105,
          -29.580955286285118,
          11.422956328152935,
          -134.43374912137665,
          -34.418705498945904,
          -64.45091577150987,
          -21.39892253133302,
          -4.248341131470923
         ]
        },
        {
         "boxpoints": "all",
         "jitter": 0.2,
         "line": {
          "color": "#636EFA"
         },
         "marker": {
          "color": "#636EFA",
          "line": {
           "color": "black",
           "width": 1
          },
          "opacity": 0.7,
          "symbol": "circle"
         },
         "name": "Initial tumour volume in cm^3",
         "pointpos": -1.5,
         "type": "box",
         "visible": false,
         "y": [
          1.0170097924912227,
          1.141306466823712,
          1.1390157009907376,
          1.3811215493189588,
          1.4613576712522585,
          1.418887629240723,
          1.4609750529733423,
          1.1847713182722752,
          1.066965097667525,
          1.4588963256758947
         ]
        },
        {
         "boxpoints": "all",
         "jitter": 0.2,
         "line": {
          "color": "#EF553B"
         },
         "marker": {
          "color": "#EF553B",
          "line": {
           "color": "black",
           "width": 1
          },
          "opacity": 0.7,
          "symbol": "circle"
         },
         "name": "Critical volume in cm^3",
         "pointpos": -1.5,
         "type": "box",
         "visible": false,
         "y": [
          5530223686.01257,
          7.262054267876188,
          8.714483564108052e+289,
          1.020503682719335,
          1438106.1540627182,
          62625237.900318876,
          48.09099464469948,
          4.296438500213171,
          1.001537900474221,
          null
         ]
        },
        {
         "boxpoints": "all",
         "jitter": 0.2,
         "line": {
          "color": "#00CC96"
         },
         "marker": {
          "color": "#00CC96",
          "line": {
           "color": "black",
           "width": 1
          },
          "opacity": 0.7,
          "symbol": "circle"
         },
         "name": "Exponential growth rate in 1/day",
         "pointpos": -1.5,
         "type": "box",
         "visible": false,
         "y": [
          3.969283646203146e-9,
          0.15780196312628333,
          1.9027247543592286e-273,
          0.9847223881483792,
          7.027284666067101e-7,
          1.632433752752686e-8,
          0.020838932697561072,
          0.2547753060289186,
          1.020299305739084,
          0
         ]
        },
        {
         "boxpoints": "all",
         "jitter": 0.2,
         "line": {
          "color": "#AB63FA"
         },
         "marker": {
          "color": "#AB63FA",
          "line": {
           "color": "black",
           "width": 1
          },
          "opacity": 0.7,
          "symbol": "circle"
         },
         "name": "Standard deviation in cm^3",
         "pointpos": -1.5,
         "type": "box",
         "visible": false,
         "y": [
          0.15829257262823432,
          0.32899572710993885,
          0.19167696381747273,
          0.17032344572254576,
          0.11593627828598164,
          0.4795687512769207,
          0.182487596509829,
          0.24122918840825278,
          0.15629715515998302,
          0.13412348654935644
         ]
        },
        {
         "boxpoints": "all",
         "jitter": 0.2,
         "line": {
          "color": "#FFA15A"
         },
         "marker": {
          "color": "#FFA15A",
          "line": {
           "color": "black",
           "width": 1
          },
          "opacity": 0.7,
          "symbol": "circle"
         },
         "name": "Score",
         "pointpos": -1.5,
         "type": "box",
         "visible": false,
         "y": [
          -26.51247346027624,
          -95.6611417594053,
          -39.61675207408105,
          -29.580955286285118,
          11.422956328152935,
          -134.43374912137665,
          -34.418705498945904,
          -64.45091577150987,
          -21.39892253133302,
          -4.248341131470923
         ]
        },
        {
         "boxpoints": "all",
         "jitter": 0.2,
         "line": {
          "color": "#636EFA"
         },
         "marker": {
          "color": "#636EFA",
          "line": {
           "color": "black",
           "width": 1
          },
          "opacity": 0.7,
          "symbol": "circle"
         },
         "name": "Initial tumour volume in cm^3",
         "pointpos": -1.5,
         "type": "box",
         "visible": false,
         "y": [
          1.0569013633595474,
          1.1053800197702641,
          1.3055275496537626,
          1.0014430622353079,
          1.0869130264428748,
          1.139727069043296,
          1.0055676873617678,
          1.1395811800542162,
          1.3342104957810337,
          1.3024531374359132
         ]
        },
        {
         "boxpoints": "all",
         "jitter": 0.2,
         "line": {
          "color": "#EF553B"
         },
         "marker": {
          "color": "#EF553B",
          "line": {
           "color": "black",
           "width": 1
          },
          "opacity": 0.7,
          "symbol": "circle"
         },
         "name": "Critical volume in cm^3",
         "pointpos": -1.5,
         "type": "box",
         "visible": false,
         "y": [
          1.0660098822198172,
          11.491397702473895,
          null,
          4.792925364802547e+141,
          411.3340503791032,
          181607.18581231002,
          11.130755243072597,
          1.0691687383936288,
          2.388184014970315e+215,
          1.1433389087735113
         ]
        },
        {
         "boxpoints": "all",
         "jitter": 0.2,
         "line": {
          "color": "#00CC96"
         },
         "marker": {
          "color": "#00CC96",
          "line": {
           "color": "black",
           "width": 1
          },
          "opacity": 0.7,
          "symbol": "circle"
         },
         "name": "Exponential growth rate in 1/day",
         "pointpos": -1.5,
         "type": "box",
         "visible": false,
         "y": [
          0.961236631482445,
          0.1024764058905557,
          0,
          2.09217930084934e-142,
          0.003671247458490554,
          0.00001043874001118618,
          0.09013308409519569,
          0.9498698725793694,
          4.2718330296701815e-216,
          0.8762977793913399
         ]
        },
        {
         "boxpoints": "all",
         "jitter": 0.2,
         "line": {
          "color": "#AB63FA"
         },
         "marker": {
          "color": "#AB63FA",
          "line": {
           "color": "black",
           "width": 1
          },
          "opacity": 0.7,
          "symbol": "circle"
         },
         "name": "Standard deviation in cm^3",
         "pointpos": -1.5,
         "type": "box",
         "visible": false,
         "y": [
          0.15829257262823432,
          0.32899572710993885,
          0.19167696381747273,
          0.17032344572254576,
          0.11593627828598164,
          0.4795687512769207,
          0.182487596509829,
          0.24122918840825278,
          0.15629715515998302,
          0.13412348654935644
         ]
        },
        {
         "boxpoints": "all",
         "jitter": 0.2,
         "line": {
          "color": "#FFA15A"
         },
         "marker": {
          "color": "#FFA15A",
          "line": {
           "color": "black",
           "width": 1
          },
          "opacity": 0.7,
          "symbol": "circle"
         },
         "name": "Score",
         "pointpos": -1.5,
         "type": "box",
         "visible": false,
         "y": [
          -26.51247346027624,
          -95.6611417594053,
          -39.61675207408105,
          -29.580955286285118,
          11.422956328152935,
          -134.43374912137665,
          -34.418705498945904,
          -64.45091577150987,
          -21.39892253133302,
          -4.248341131470923
         ]
        }
       ],
       "layout": {
        "autosize": true,
        "legend": {
         "x": 1.05,
         "xanchor": "left",
         "y": 0.01,
         "yanchor": "bottom"
        },
        "template": {
         "data": {
          "bar": [
           {
            "error_x": {
             "color": "#2a3f5f"
            },
            "error_y": {
             "color": "#2a3f5f"
            },
            "marker": {
             "line": {
              "color": "white",
              "width": 0.5
             }
            },
            "type": "bar"
           }
          ],
          "barpolar": [
           {
            "marker": {
             "line": {
              "color": "white",
              "width": 0.5
             }
            },
            "type": "barpolar"
           }
          ],
          "carpet": [
           {
            "aaxis": {
             "endlinecolor": "#2a3f5f",
             "gridcolor": "#C8D4E3",
             "linecolor": "#C8D4E3",
             "minorgridcolor": "#C8D4E3",
             "startlinecolor": "#2a3f5f"
            },
            "baxis": {
             "endlinecolor": "#2a3f5f",
             "gridcolor": "#C8D4E3",
             "linecolor": "#C8D4E3",
             "minorgridcolor": "#C8D4E3",
             "startlinecolor": "#2a3f5f"
            },
            "type": "carpet"
           }
          ],
          "choropleth": [
           {
            "colorbar": {
             "outlinewidth": 0,
             "ticks": ""
            },
            "type": "choropleth"
           }
          ],
          "contour": [
           {
            "colorbar": {
             "outlinewidth": 0,
             "ticks": ""
            },
            "colorscale": [
             [
              0,
              "#0d0887"
             ],
             [
              0.1111111111111111,
              "#46039f"
             ],
             [
              0.2222222222222222,
              "#7201a8"
             ],
             [
              0.3333333333333333,
              "#9c179e"
             ],
             [
              0.4444444444444444,
              "#bd3786"
             ],
             [
              0.5555555555555556,
              "#d8576b"
             ],
             [
              0.6666666666666666,
              "#ed7953"
             ],
             [
              0.7777777777777778,
              "#fb9f3a"
             ],
             [
              0.8888888888888888,
              "#fdca26"
             ],
             [
              1,
              "#f0f921"
             ]
            ],
            "type": "contour"
           }
          ],
          "contourcarpet": [
           {
            "colorbar": {
             "outlinewidth": 0,
             "ticks": ""
            },
            "type": "contourcarpet"
           }
          ],
          "heatmap": [
           {
            "colorbar": {
             "outlinewidth": 0,
             "ticks": ""
            },
            "colorscale": [
             [
              0,
              "#0d0887"
             ],
             [
              0.1111111111111111,
              "#46039f"
             ],
             [
              0.2222222222222222,
              "#7201a8"
             ],
             [
              0.3333333333333333,
              "#9c179e"
             ],
             [
              0.4444444444444444,
              "#bd3786"
             ],
             [
              0.5555555555555556,
              "#d8576b"
             ],
             [
              0.6666666666666666,
              "#ed7953"
             ],
             [
              0.7777777777777778,
              "#fb9f3a"
             ],
             [
              0.8888888888888888,
              "#fdca26"
             ],
             [
              1,
              "#f0f921"
             ]
            ],
            "type": "heatmap"
           }
          ],
          "heatmapgl": [
           {
            "colorbar": {
             "outlinewidth": 0,
             "ticks": ""
            },
            "colorscale": [
             [
              0,
              "#0d0887"
             ],
             [
              0.1111111111111111,
              "#46039f"
             ],
             [
              0.2222222222222222,
              "#7201a8"
             ],
             [
              0.3333333333333333,
              "#9c179e"
             ],
             [
              0.4444444444444444,
              "#bd3786"
             ],
             [
              0.5555555555555556,
              "#d8576b"
             ],
             [
              0.6666666666666666,
              "#ed7953"
             ],
             [
              0.7777777777777778,
              "#fb9f3a"
             ],
             [
              0.8888888888888888,
              "#fdca26"
             ],
             [
              1,
              "#f0f921"
             ]
            ],
            "type": "heatmapgl"
           }
          ],
          "histogram": [
           {
            "marker": {
             "colorbar": {
              "outlinewidth": 0,
              "ticks": ""
             }
            },
            "type": "histogram"
           }
          ],
          "histogram2d": [
           {
            "colorbar": {
             "outlinewidth": 0,
             "ticks": ""
            },
            "colorscale": [
             [
              0,
              "#0d0887"
             ],
             [
              0.1111111111111111,
              "#46039f"
             ],
             [
              0.2222222222222222,
              "#7201a8"
             ],
             [
              0.3333333333333333,
              "#9c179e"
             ],
             [
              0.4444444444444444,
              "#bd3786"
             ],
             [
              0.5555555555555556,
              "#d8576b"
             ],
             [
              0.6666666666666666,
              "#ed7953"
             ],
             [
              0.7777777777777778,
              "#fb9f3a"
             ],
             [
              0.8888888888888888,
              "#fdca26"
             ],
             [
              1,
              "#f0f921"
             ]
            ],
            "type": "histogram2d"
           }
          ],
          "histogram2dcontour": [
           {
            "colorbar": {
             "outlinewidth": 0,
             "ticks": ""
            },
            "colorscale": [
             [
              0,
              "#0d0887"
             ],
             [
              0.1111111111111111,
              "#46039f"
             ],
             [
              0.2222222222222222,
              "#7201a8"
             ],
             [
              0.3333333333333333,
              "#9c179e"
             ],
             [
              0.4444444444444444,
              "#bd3786"
             ],
             [
              0.5555555555555556,
              "#d8576b"
             ],
             [
              0.6666666666666666,
              "#ed7953"
             ],
             [
              0.7777777777777778,
              "#fb9f3a"
             ],
             [
              0.8888888888888888,
              "#fdca26"
             ],
             [
              1,
              "#f0f921"
             ]
            ],
            "type": "histogram2dcontour"
           }
          ],
          "mesh3d": [
           {
            "colorbar": {
             "outlinewidth": 0,
             "ticks": ""
            },
            "type": "mesh3d"
           }
          ],
          "parcoords": [
           {
            "line": {
             "colorbar": {
              "outlinewidth": 0,
              "ticks": ""
             }
            },
            "type": "parcoords"
           }
          ],
          "pie": [
           {
            "automargin": true,
            "type": "pie"
           }
          ],
          "scatter": [
           {
            "marker": {
             "colorbar": {
              "outlinewidth": 0,
              "ticks": ""
             }
            },
            "type": "scatter"
           }
          ],
          "scatter3d": [
           {
            "line": {
             "colorbar": {
              "outlinewidth": 0,
              "ticks": ""
             }
            },
            "marker": {
             "colorbar": {
              "outlinewidth": 0,
              "ticks": ""
             }
            },
            "type": "scatter3d"
           }
          ],
          "scattercarpet": [
           {
            "marker": {
             "colorbar": {
              "outlinewidth": 0,
              "ticks": ""
             }
            },
            "type": "scattercarpet"
           }
          ],
          "scattergeo": [
           {
            "marker": {
             "colorbar": {
              "outlinewidth": 0,
              "ticks": ""
             }
            },
            "type": "scattergeo"
           }
          ],
          "scattergl": [
           {
            "marker": {
             "colorbar": {
              "outlinewidth": 0,
              "ticks": ""
             }
            },
            "type": "scattergl"
           }
          ],
          "scattermapbox": [
           {
            "marker": {
             "colorbar": {
              "outlinewidth": 0,
              "ticks": ""
             }
            },
            "type": "scattermapbox"
           }
          ],
          "scatterpolar": [
           {
            "marker": {
             "colorbar": {
              "outlinewidth": 0,
              "ticks": ""
             }
            },
            "type": "scatterpolar"
           }
          ],
          "scatterpolargl": [
           {
            "marker": {
             "colorbar": {
              "outlinewidth": 0,
              "ticks": ""
             }
            },
            "type": "scatterpolargl"
           }
          ],
          "scatterternary": [
           {
            "marker": {
             "colorbar": {
              "outlinewidth": 0,
              "ticks": ""
             }
            },
            "type": "scatterternary"
           }
          ],
          "surface": [
           {
            "colorbar": {
             "outlinewidth": 0,
             "ticks": ""
            },
            "colorscale": [
             [
              0,
              "#0d0887"
             ],
             [
              0.1111111111111111,
              "#46039f"
             ],
             [
              0.2222222222222222,
              "#7201a8"
             ],
             [
              0.3333333333333333,
              "#9c179e"
             ],
             [
              0.4444444444444444,
              "#bd3786"
             ],
             [
              0.5555555555555556,
              "#d8576b"
             ],
             [
              0.6666666666666666,
              "#ed7953"
             ],
             [
              0.7777777777777778,
              "#fb9f3a"
             ],
             [
              0.8888888888888888,
              "#fdca26"
             ],
             [
              1,
              "#f0f921"
             ]
            ],
            "type": "surface"
           }
          ],
          "table": [
           {
            "cells": {
             "fill": {
              "color": "#EBF0F8"
             },
             "line": {
              "color": "white"
             }
            },
            "header": {
             "fill": {
              "color": "#C8D4E3"
             },
             "line": {
              "color": "white"
             }
            },
            "type": "table"
           }
          ]
         },
         "layout": {
          "annotationdefaults": {
           "arrowcolor": "#2a3f5f",
           "arrowhead": 0,
           "arrowwidth": 1
          },
          "coloraxis": {
           "colorbar": {
            "outlinewidth": 0,
            "ticks": ""
           }
          },
          "colorscale": {
           "diverging": [
            [
             0,
             "#8e0152"
            ],
            [
             0.1,
             "#c51b7d"
            ],
            [
             0.2,
             "#de77ae"
            ],
            [
             0.3,
             "#f1b6da"
            ],
            [
             0.4,
             "#fde0ef"
            ],
            [
             0.5,
             "#f7f7f7"
            ],
            [
             0.6,
             "#e6f5d0"
            ],
            [
             0.7,
             "#b8e186"
            ],
            [
             0.8,
             "#7fbc41"
            ],
            [
             0.9,
             "#4d9221"
            ],
            [
             1,
             "#276419"
            ]
           ],
           "sequential": [
            [
             0,
             "#0d0887"
            ],
            [
             0.1111111111111111,
             "#46039f"
            ],
            [
             0.2222222222222222,
             "#7201a8"
            ],
            [
             0.3333333333333333,
             "#9c179e"
            ],
            [
             0.4444444444444444,
             "#bd3786"
            ],
            [
             0.5555555555555556,
             "#d8576b"
            ],
            [
             0.6666666666666666,
             "#ed7953"
            ],
            [
             0.7777777777777778,
             "#fb9f3a"
            ],
            [
             0.8888888888888888,
             "#fdca26"
            ],
            [
             1,
             "#f0f921"
            ]
           ],
           "sequentialminus": [
            [
             0,
             "#0d0887"
            ],
            [
             0.1111111111111111,
             "#46039f"
            ],
            [
             0.2222222222222222,
             "#7201a8"
            ],
            [
             0.3333333333333333,
             "#9c179e"
            ],
            [
             0.4444444444444444,
             "#bd3786"
            ],
            [
             0.5555555555555556,
             "#d8576b"
            ],
            [
             0.6666666666666666,
             "#ed7953"
            ],
            [
             0.7777777777777778,
             "#fb9f3a"
            ],
            [
             0.8888888888888888,
             "#fdca26"
            ],
            [
             1,
             "#f0f921"
            ]
           ]
          },
          "colorway": [
           "#636efa",
           "#EF553B",
           "#00cc96",
           "#ab63fa",
           "#FFA15A",
           "#19d3f3",
           "#FF6692",
           "#B6E880",
           "#FF97FF",
           "#FECB52"
          ],
          "font": {
           "color": "#2a3f5f"
          },
          "geo": {
           "bgcolor": "white",
           "lakecolor": "white",
           "landcolor": "white",
           "showlakes": true,
           "showland": true,
           "subunitcolor": "#C8D4E3"
          },
          "hoverlabel": {
           "align": "left"
          },
          "hovermode": "closest",
          "mapbox": {
           "style": "light"
          },
          "paper_bgcolor": "white",
          "plot_bgcolor": "white",
          "polar": {
           "angularaxis": {
            "gridcolor": "#EBF0F8",
            "linecolor": "#EBF0F8",
            "ticks": ""
           },
           "bgcolor": "white",
           "radialaxis": {
            "gridcolor": "#EBF0F8",
            "linecolor": "#EBF0F8",
            "ticks": ""
           }
          },
          "scene": {
           "xaxis": {
            "backgroundcolor": "white",
            "gridcolor": "#DFE8F3",
            "gridwidth": 2,
            "linecolor": "#EBF0F8",
            "showbackground": true,
            "ticks": "",
            "zerolinecolor": "#EBF0F8"
           },
           "yaxis": {
            "backgroundcolor": "white",
            "gridcolor": "#DFE8F3",
            "gridwidth": 2,
            "linecolor": "#EBF0F8",
            "showbackground": true,
            "ticks": "",
            "zerolinecolor": "#EBF0F8"
           },
           "zaxis": {
            "backgroundcolor": "white",
            "gridcolor": "#DFE8F3",
            "gridwidth": 2,
            "linecolor": "#EBF0F8",
            "showbackground": true,
            "ticks": "",
            "zerolinecolor": "#EBF0F8"
           }
          },
          "shapedefaults": {
           "line": {
            "color": "#2a3f5f"
           }
          },
          "ternary": {
           "aaxis": {
            "gridcolor": "#DFE8F3",
            "linecolor": "#A2B1C6",
            "ticks": ""
           },
           "baxis": {
            "gridcolor": "#DFE8F3",
            "linecolor": "#A2B1C6",
            "ticks": ""
           },
           "bgcolor": "white",
           "caxis": {
            "gridcolor": "#DFE8F3",
            "linecolor": "#A2B1C6",
            "ticks": ""
           }
          },
          "title": {
           "x": 0.05
          },
          "xaxis": {
           "automargin": true,
           "gridcolor": "#EBF0F8",
           "linecolor": "#EBF0F8",
           "ticks": "",
           "title": {
            "standoff": 15
           },
           "zerolinecolor": "#EBF0F8",
           "zerolinewidth": 2
          },
          "yaxis": {
           "automargin": true,
           "gridcolor": "#EBF0F8",
           "linecolor": "#EBF0F8",
           "ticks": "",
           "title": {
            "standoff": 15
           },
           "zerolinecolor": "#EBF0F8",
           "zerolinewidth": 2
          }
         }
        },
        "updatemenus": [
         {
          "buttons": [
           {
            "args": [
             {
              "visible": [
               true,
               true,
               true,
               true,
               true,
               false,
               false,
               false,
               false,
               false,
               false,
               false,
               false,
               false,
               false,
               false,
               false,
               false,
               false,
               false,
               false,
               false,
               false,
               false,
               false,
               false,
               false,
               false,
               false,
               false,
               false,
               false,
               false,
               false,
               false,
               false,
               false,
               false,
               false,
               false
              ]
             }
            ],
            "label": "ID: 40",
            "method": "restyle"
           },
           {
            "args": [
             {
              "visible": [
               false,
               false,
               false,
               false,
               false,
               true,
               true,
               true,
               true,
               true,
               false,
               false,
               false,
               false,
               false,
               false,
               false,
               false,
               false,
               false,
               false,
               false,
               false,
               false,
               false,
               false,
               false,
               false,
               false,
               false,
               false,
               false,
               false,
               false,
               false,
               false,
               false,
               false,
               false,
               false
              ]
             }
            ],
            "label": "ID: 94",
            "method": "restyle"
           },
           {
            "args": [
             {
              "visible": [
               false,
               false,
               false,
               false,
               false,
               false,
               false,
               false,
               false,
               false,
               true,
               true,
               true,
               true,
               true,
               false,
               false,
               false,
               false,
               false,
               false,
               false,
               false,
               false,
               false,
               false,
               false,
               false,
               false,
               false,
               false,
               false,
               false,
               false,
               false,
               false,
               false,
               false,
               false,
               false
              ]
             }
            ],
            "label": "ID: 95",
            "method": "restyle"
           },
           {
            "args": [
             {
              "visible": [
               false,
               false,
               false,
               false,
               false,
               false,
               false,
               false,
               false,
               false,
               false,
               false,
               false,
               false,
               false,
               true,
               true,
               true,
               true,
               true,
               false,
               false,
               false,
               false,
               false,
               false,
               false,
               false,
               false,
               false,
               false,
               false,
               false,
               false,
               false,
               false,
               false,
               false,
               false,
               false
              ]
             }
            ],
            "label": "ID: 136",
            "method": "restyle"
           },
           {
            "args": [
             {
              "visible": [
               false,
               false,
               false,
               false,
               false,
               false,
               false,
               false,
               false,
               false,
               false,
               false,
               false,
               false,
               false,
               false,
               false,
               false,
               false,
               false,
               true,
               true,
               true,
               true,
               true,
               false,
               false,
               false,
               false,
               false,
               false,
               false,
               false,
               false,
               false,
               false,
               false,
               false,
               false,
               false
              ]
             }
            ],
            "label": "ID: 155",
            "method": "restyle"
           },
           {
            "args": [
             {
              "visible": [
               false,
               false,
               false,
               false,
               false,
               false,
               false,
               false,
               false,
               false,
               false,
               false,
               false,
               false,
               false,
               false,
               false,
               false,
               false,
               false,
               false,
               false,
               false,
               false,
               false,
               true,
               true,
               true,
               true,
               true,
               false,
               false,
               false,
               false,
               false,
               false,
               false,
               false,
               false,
               false
              ]
             }
            ],
            "label": "ID: 155",
            "method": "restyle"
           },
           {
            "args": [
             {
              "visible": [
               false,
               false,
               false,
               false,
               false,
               false,
               false,
               false,
               false,
               false,
               false,
               false,
               false,
               false,
               false,
               false,
               false,
               false,
               false,
               false,
               false,
               false,
               false,
               false,
               false,
               false,
               false,
               false,
               false,
               false,
               true,
               true,
               true,
               true,
               true,
               false,
               false,
               false,
               false,
               false
              ]
             }
            ],
            "label": "ID: 169",
            "method": "restyle"
           },
           {
            "args": [
             {
              "visible": [
               false,
               false,
               false,
               false,
               false,
               false,
               false,
               false,
               false,
               false,
               false,
               false,
               false,
               false,
               false,
               false,
               false,
               false,
               false,
               false,
               false,
               false,
               false,
               false,
               false,
               false,
               false,
               false,
               false,
               false,
               false,
               false,
               false,
               false,
               false,
               true,
               true,
               true,
               true,
               true
              ]
             }
            ],
            "label": "ID: 170",
            "method": "restyle"
           }
          ],
          "direction": "right",
          "pad": {
           "r": 0,
           "t": -10
          },
          "showactive": true,
          "type": "buttons",
          "x": 0,
          "xanchor": "left",
          "y": 1.1,
          "yanchor": "top"
         }
        ]
       }
      }
     },
     "metadata": {}
    }
   ],
   "source": [
    "#\n",
    "# Visualisation of the spread of optimised model parameters for multiple runs from different initial points.\n",
    "#\n",
    "# This cell needs the above optimised parameters, and their respective objective function scores, as well as the data\n",
    "# [mouse_parameters, mouse_scores, data]\n",
    "#\n",
    "\n",
    "import plotly.colors\n",
    "import plotly.graph_objects as go\n",
    "\n",
    "\n",
    "# Get mouse ids\n",
    "mouse_ids = data['#ID'].unique()\n",
    "\n",
    "# Get number of parameters + score (for visualisation)\n",
    "n_params = mouse_parameters.shape[2] + 1\n",
    "\n",
    "# Define colorscheme\n",
    "colors = plotly.colors.qualitative.Plotly[:n_params]\n",
    "\n",
    "# Get optimised parameters\n",
    "optimised_parameters = mouse_parameters\n",
    "\n",
    "# Get optimised parameters\n",
    "scores = mouse_scores\n",
    "\n",
    "# Create figure\n",
    "fig = go.Figure()\n",
    "\n",
    "# Box plot of optimised model parameters\n",
    "for index, id_m in enumerate(mouse_ids):\n",
    "    # Get optimised parameters\n",
    "    parameters = optimised_parameters[index, ...]\n",
    "\n",
    "    # Get scores\n",
    "    score = scores\n",
    "\n",
    "    # Create box plot of for initial tumour volume\n",
    "    fig.add_trace(\n",
    "        go.Box(\n",
    "            y=parameters[:, 0],  \n",
    "            name=\"Initial tumour volume in cm^3\",\n",
    "            boxpoints='all',\n",
    "            jitter=0.2,\n",
    "            pointpos=-1.5,\n",
    "            visible=True if index == 0 else False,\n",
    "            marker=dict(\n",
    "                symbol='circle',\n",
    "                opacity=0.7,\n",
    "                line=dict(color='black', width=1)),\n",
    "            marker_color=colors[0],\n",
    "            line_color=colors[0]))\n",
    "\n",
    "    # Create box plot for critical volume\n",
    "    fig.add_trace(\n",
    "        go.Box(\n",
    "            y=parameters[:, 1],  \n",
    "            name=\"Critical volume in cm^3\",\n",
    "            boxpoints='all',\n",
    "            jitter=0.2,\n",
    "            pointpos=-1.5,\n",
    "            visible=True if index == 0 else False,\n",
    "            marker=dict(\n",
    "                symbol='circle',\n",
    "                opacity=0.7,\n",
    "                line=dict(color='black', width=1)),\n",
    "            marker_color=colors[1],\n",
    "            line_color=colors[1]))\n",
    "\n",
    "    # Create box plot of for exponential tumour growth\n",
    "    fig.add_trace(\n",
    "        go.Box(\n",
    "            y=parameters[:, 2],  \n",
    "            name=\"Exponential growth rate in 1/day\",\n",
    "            boxpoints='all',\n",
    "            jitter=0.2,\n",
    "            pointpos=-1.5,\n",
    "            visible=True if index == 0 else False,\n",
    "            marker=dict(\n",
    "                symbol='circle',\n",
    "                opacity=0.7,\n",
    "                line=dict(color='black', width=1)),\n",
    "            marker_color=colors[2],\n",
    "            line_color=colors[2]))\n",
    "\n",
    "    # Create box plot for sigma\n",
    "    fig.add_trace(\n",
    "        go.Box(\n",
    "            y=parameters[:, 3],  \n",
    "            name=\"Standard deviation in cm^3\",\n",
    "            boxpoints='all',\n",
    "            jitter=0.2,\n",
    "            pointpos=-1.5,\n",
    "            visible=True if index == 0 else False,\n",
    "            marker=dict(\n",
    "                symbol='circle',\n",
    "                opacity=0.7,\n",
    "                line=dict(color='black', width=1)),\n",
    "            marker_color=colors[3],\n",
    "            line_color=colors[3]))\n",
    "    \n",
    "    # Create box plot of for objective function score\n",
    "    fig.add_trace(\n",
    "        go.Box(\n",
    "            y=score,  \n",
    "            name=\"Score\",\n",
    "            boxpoints='all',\n",
    "            jitter=0.2,\n",
    "            pointpos=-1.5,\n",
    "            visible=True if index == 0 else False,\n",
    "            marker=dict(\n",
    "                symbol='circle',\n",
    "                opacity=0.7,\n",
    "                line=dict(color='black', width=1)),\n",
    "            marker_color=colors[4],\n",
    "            line_color=colors[4]))\n",
    "\n",
    "# Set figure size\n",
    "fig.update_layout(\n",
    "    autosize=True,\n",
    "    template=\"plotly_white\")\n",
    "\n",
    "# Add switch between mice\n",
    "fig.update_layout(\n",
    "    updatemenus=[\n",
    "        dict(\n",
    "            type = \"buttons\",\n",
    "            direction = \"right\",\n",
    "            buttons=list([\n",
    "                dict(\n",
    "                    args=[{\"visible\": [True]*5 + [False]*(5 * 7)}],\n",
    "                    label=\"ID: %d\" % mouse_ids[0],\n",
    "                    method=\"restyle\"\n",
    "                ),\n",
    "                dict(\n",
    "                    args=[{\"visible\": [False]*5 + [True]*5 + [False]*(5 * 6)}],\n",
    "                    label=\"ID: %d\" % mouse_ids[1],\n",
    "                    method=\"restyle\"\n",
    "                ),\n",
    "                dict(\n",
    "                    args=[{\"visible\": [False]*(5 * 2) + [True]*5 + [False]*(5 * 5)}],\n",
    "                    label=\"ID: %d\" % mouse_ids[2],\n",
    "                    method=\"restyle\"\n",
    "                ),\n",
    "                dict(\n",
    "                    args=[{\"visible\": [False]*(5 * 3) + [True]*5 + [False]*(5 * 4)}],\n",
    "                    label=\"ID: %d\" % mouse_ids[3],\n",
    "                    method=\"restyle\"\n",
    "                ),\n",
    "                dict(\n",
    "                    args=[{\"visible\": [False]*(5 * 4) + [True]*5 + [False]*(5 * 3)}],\n",
    "                    label=\"ID: %d\" % mouse_ids[5],\n",
    "                    method=\"restyle\"\n",
    "                ),\n",
    "                dict(\n",
    "                    args=[{\"visible\": [False]*(5 * 5) + [True]*5 + [False]*(5 * 2)}],\n",
    "                    label=\"ID: %d\" % mouse_ids[5],\n",
    "                    method=\"restyle\"\n",
    "                ),\n",
    "                dict(\n",
    "                    args=[{\"visible\": [False]*(5 * 6) + [True]*5 + [False]* 5}],\n",
    "                    label=\"ID: %d\" % mouse_ids[6],\n",
    "                    method=\"restyle\"\n",
    "                ),\n",
    "                dict(\n",
    "                    args=[{\"visible\": [False]*(5 * 7) + [True]*5}],\n",
    "                    label=\"ID: %d\" % mouse_ids[7],\n",
    "                    method=\"restyle\"\n",
    "                )\n",
    "            ]),\n",
    "            pad={\"r\": 0, \"t\": -10},\n",
    "            showactive=True,\n",
    "            x=0.0,\n",
    "            xanchor=\"left\",\n",
    "            y=1.1,\n",
    "            yanchor=\"top\"\n",
    "        )\n",
    "    ]\n",
    ")\n",
    "\n",
    "# Position legend\n",
    "fig.update_layout(legend=dict(\n",
    "    yanchor=\"bottom\",\n",
    "    y=0.01,\n",
    "    xanchor=\"left\",\n",
    "    x=1.05))\n",
    "\n",
    "# Show figure\n",
    "fig.show()\n"
   ]
  },
  {
   "cell_type": "code",
   "execution_count": 5,
   "metadata": {},
   "outputs": [
    {
     "output_type": "execute_result",
     "data": {
      "text/plain": "array([ 3,  6,  9, 12, 15, 18, 21, 24])"
     },
     "metadata": {},
     "execution_count": 5
    }
   ],
   "source": [
    "log_likelihood._cum_n_problem_params"
   ]
  },
  {
   "cell_type": "markdown",
   "metadata": {},
   "source": [
    "## Heteroscedastic noise model\n",
    "\n",
    "Explanation\n",
    "\n",
    "- Identifiability"
   ]
  },
  {
   "cell_type": "code",
   "execution_count": null,
   "metadata": {},
   "outputs": [],
   "source": []
  },
  {
   "cell_type": "markdown",
   "metadata": {},
   "source": [
    "## Linear heteroscedastic noise model\n",
    "\n",
    "Explanation\n",
    "\n",
    "- Identifiability"
   ]
  },
  {
   "cell_type": "code",
   "execution_count": null,
   "metadata": {},
   "outputs": [],
   "source": []
  },
  {
   "cell_type": "markdown",
   "metadata": {},
   "source": [
    "## Bibliography\n",
    "\n",
    "- <a name=\"ref1\"> [1] </a> Eigenmann et. al., Combining Nonclinical Experiments with Translational PKPD Modeling to Differentiate Erlotinib and Gefitinib, Mol Cancer Ther (2016)"
   ]
  },
  {
   "cell_type": "markdown",
   "metadata": {},
   "source": [
    "## Notebook references\n",
    "\n",
    "- <a name=\"ref1\"> [n1] </a> [Identifiability of the Structural Model for Lung Cancer Growth in Absence of Treatment](https://nbviewer.jupyter.org/github/DavAug/ErlotinibGefitinib/blob/master/notebooks/lung_cancer/control_growth/identifiability_structural_model.ipynb)"
   ]
  },
  {
   "cell_type": "markdown",
   "metadata": {},
   "source": [
    "[Back to project overview](https://github.com/DavAug/ErlotinibGefitinib/blob/master/README.md) | [Back to lung cancer control growth overview](https://nbviewer.jupyter.org/github/DavAug/ErlotinibGefitinib/blob/master/notebooks/lung_cancer/control_growth/overview.ipynb) | [Forward to next notebook](https://nbviewer.jupyter.org/github/DavAug/ErlotinibGefitinib/blob/master/notebooks/lung_cancer/control_growth/population_model.ipynb)"
   ]
  }
 ],
 "metadata": {
  "language_info": {
   "codemirror_mode": {
    "name": "ipython",
    "version": 3
   },
   "file_extension": ".py",
   "mimetype": "text/x-python",
   "name": "python",
   "nbconvert_exporter": "python",
   "pygments_lexer": "ipython3",
   "version": "3.7.5-final"
  },
  "orig_nbformat": 2,
  "kernelspec": {
   "name": "python37564bitvenvvenv6a1cf9e436c848d3930f390a42386651",
   "display_name": "Python 3.7.5 64-bit ('venv': venv)"
  }
 },
 "nbformat": 4,
 "nbformat_minor": 2
}