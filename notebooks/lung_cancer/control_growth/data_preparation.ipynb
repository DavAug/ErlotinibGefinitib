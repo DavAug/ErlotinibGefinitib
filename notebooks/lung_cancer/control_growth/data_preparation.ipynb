{
 "cells": [
  {
   "cell_type": "markdown",
   "metadata": {},
   "source": [
    "# Control Growth Data\n",
    "\n",
    "In [1], the tumour growth inhibition (TGI) PKPD model of Erlotinib and Gefitinib was derived from two separate *in vivo* experiments. In particular, the growth of patient-derived tumour explants LXF A677 (adenocarcinoma of the lung) and cell line-derived tumour xenografts VXF A431 (vulva cancer) in mice were monitored. Each experiment comprised a control growth group and three groups that were treated with either Erlotinib or Gefitnib at one of three dose levels. Treatments were orally administered once a day.\n",
    "\n",
    "In this notebook, we focus on establishing a good understanding of the untreated tumour growth. In particular, this will allow us to critically assess the modelling choices in [1], and explore alternatives. It further allows us to derive posteriors for the growth parameters, that may inform the choice of priors for the full TGI-PKPD model inference.\n",
    "\n",
    "We will now import the data sets and standardise their format for the inference."
   ]
  },
  {
   "cell_type": "markdown",
   "metadata": {},
   "source": [
    "## Raw LXF A677 control growth data"
   ]
  },
  {
   "cell_type": "code",
   "execution_count": 1,
   "metadata": {
    "tags": []
   },
   "outputs": [
    {
     "output_type": "stream",
     "name": "stdout",
     "text": "Raw LXF A677 Control Growth Data Set:\n"
    },
    {
     "output_type": "execute_result",
     "data": {
      "text/plain": "     #ID  TIME DOSE ADDL II        Y YTYPE CENS  CELL LINE  DOSE GROUP  DRUG  \\\n0     40     0    .    .  .  191.808     2    .          1           0     2   \n1     94     0    .    .  .  77.2475     2    .          1           0     2   \n2     95     0    .    .  .    186.2     2    .          1           0     2   \n3     40     3    0    .  .        .     .    .          1           0     2   \n4     40     4    0    2  1        .     .    .          1           0     2   \n..   ...   ...  ...  ... ..      ...   ...  ...        ...         ...   ...   \n153  140     2    .    .  .  126.852     2    .          1           0     2   \n154   94     4    .    .  .  125.316     2    .          1           0     2   \n155  170     4    .    .  .   109.33     2    .          1           0     2   \n156  170     2    .    .  .   94.221     2    .          1           0     2   \n157   94     2    .    .  .  88.4835     2    .          1           0     2   \n\n     DRUGCAT  EXPERIMENT    BW      YTV  KA     V    KE        w0  \n0          0           2  26.8        .  55  1.11  3.98  191.8080  \n1          0           2  18.3        .  55  1.11  3.98   77.2475  \n2          0           2  22.3        .  55  1.11  3.98  186.2000  \n3          0           2  26.1        .  55  1.11  3.98  191.8080  \n4          0           2  26.5        .  55  1.11  3.98  191.8080  \n..       ...         ...   ...      ...  ..   ...   ...       ...  \n153        0           2  23.6  126.852  55  1.11  3.98   79.3305  \n154        0           2  18.5  125.316  55  1.11  3.98   77.2475  \n155        0           2  27.9   109.33  55  1.11  3.98   80.0565  \n156        0           2  27.7   94.221  55  1.11  3.98   80.0565  \n157        0           2  18.2  88.4835  55  1.11  3.98   77.2475  \n\n[158 rows x 19 columns]",
      "text/html": "<div>\n<style scoped>\n    .dataframe tbody tr th:only-of-type {\n        vertical-align: middle;\n    }\n\n    .dataframe tbody tr th {\n        vertical-align: top;\n    }\n\n    .dataframe thead th {\n        text-align: right;\n    }\n</style>\n<table border=\"1\" class=\"dataframe\">\n  <thead>\n    <tr style=\"text-align: right;\">\n      <th></th>\n      <th>#ID</th>\n      <th>TIME</th>\n      <th>DOSE</th>\n      <th>ADDL</th>\n      <th>II</th>\n      <th>Y</th>\n      <th>YTYPE</th>\n      <th>CENS</th>\n      <th>CELL LINE</th>\n      <th>DOSE GROUP</th>\n      <th>DRUG</th>\n      <th>DRUGCAT</th>\n      <th>EXPERIMENT</th>\n      <th>BW</th>\n      <th>YTV</th>\n      <th>KA</th>\n      <th>V</th>\n      <th>KE</th>\n      <th>w0</th>\n    </tr>\n  </thead>\n  <tbody>\n    <tr>\n      <th>0</th>\n      <td>40</td>\n      <td>0</td>\n      <td>.</td>\n      <td>.</td>\n      <td>.</td>\n      <td>191.808</td>\n      <td>2</td>\n      <td>.</td>\n      <td>1</td>\n      <td>0</td>\n      <td>2</td>\n      <td>0</td>\n      <td>2</td>\n      <td>26.8</td>\n      <td>.</td>\n      <td>55</td>\n      <td>1.11</td>\n      <td>3.98</td>\n      <td>191.8080</td>\n    </tr>\n    <tr>\n      <th>1</th>\n      <td>94</td>\n      <td>0</td>\n      <td>.</td>\n      <td>.</td>\n      <td>.</td>\n      <td>77.2475</td>\n      <td>2</td>\n      <td>.</td>\n      <td>1</td>\n      <td>0</td>\n      <td>2</td>\n      <td>0</td>\n      <td>2</td>\n      <td>18.3</td>\n      <td>.</td>\n      <td>55</td>\n      <td>1.11</td>\n      <td>3.98</td>\n      <td>77.2475</td>\n    </tr>\n    <tr>\n      <th>2</th>\n      <td>95</td>\n      <td>0</td>\n      <td>.</td>\n      <td>.</td>\n      <td>.</td>\n      <td>186.2</td>\n      <td>2</td>\n      <td>.</td>\n      <td>1</td>\n      <td>0</td>\n      <td>2</td>\n      <td>0</td>\n      <td>2</td>\n      <td>22.3</td>\n      <td>.</td>\n      <td>55</td>\n      <td>1.11</td>\n      <td>3.98</td>\n      <td>186.2000</td>\n    </tr>\n    <tr>\n      <th>3</th>\n      <td>40</td>\n      <td>3</td>\n      <td>0</td>\n      <td>.</td>\n      <td>.</td>\n      <td>.</td>\n      <td>.</td>\n      <td>.</td>\n      <td>1</td>\n      <td>0</td>\n      <td>2</td>\n      <td>0</td>\n      <td>2</td>\n      <td>26.1</td>\n      <td>.</td>\n      <td>55</td>\n      <td>1.11</td>\n      <td>3.98</td>\n      <td>191.8080</td>\n    </tr>\n    <tr>\n      <th>4</th>\n      <td>40</td>\n      <td>4</td>\n      <td>0</td>\n      <td>2</td>\n      <td>1</td>\n      <td>.</td>\n      <td>.</td>\n      <td>.</td>\n      <td>1</td>\n      <td>0</td>\n      <td>2</td>\n      <td>0</td>\n      <td>2</td>\n      <td>26.5</td>\n      <td>.</td>\n      <td>55</td>\n      <td>1.11</td>\n      <td>3.98</td>\n      <td>191.8080</td>\n    </tr>\n    <tr>\n      <th>...</th>\n      <td>...</td>\n      <td>...</td>\n      <td>...</td>\n      <td>...</td>\n      <td>...</td>\n      <td>...</td>\n      <td>...</td>\n      <td>...</td>\n      <td>...</td>\n      <td>...</td>\n      <td>...</td>\n      <td>...</td>\n      <td>...</td>\n      <td>...</td>\n      <td>...</td>\n      <td>...</td>\n      <td>...</td>\n      <td>...</td>\n      <td>...</td>\n    </tr>\n    <tr>\n      <th>153</th>\n      <td>140</td>\n      <td>2</td>\n      <td>.</td>\n      <td>.</td>\n      <td>.</td>\n      <td>126.852</td>\n      <td>2</td>\n      <td>.</td>\n      <td>1</td>\n      <td>0</td>\n      <td>2</td>\n      <td>0</td>\n      <td>2</td>\n      <td>23.6</td>\n      <td>126.852</td>\n      <td>55</td>\n      <td>1.11</td>\n      <td>3.98</td>\n      <td>79.3305</td>\n    </tr>\n    <tr>\n      <th>154</th>\n      <td>94</td>\n      <td>4</td>\n      <td>.</td>\n      <td>.</td>\n      <td>.</td>\n      <td>125.316</td>\n      <td>2</td>\n      <td>.</td>\n      <td>1</td>\n      <td>0</td>\n      <td>2</td>\n      <td>0</td>\n      <td>2</td>\n      <td>18.5</td>\n      <td>125.316</td>\n      <td>55</td>\n      <td>1.11</td>\n      <td>3.98</td>\n      <td>77.2475</td>\n    </tr>\n    <tr>\n      <th>155</th>\n      <td>170</td>\n      <td>4</td>\n      <td>.</td>\n      <td>.</td>\n      <td>.</td>\n      <td>109.33</td>\n      <td>2</td>\n      <td>.</td>\n      <td>1</td>\n      <td>0</td>\n      <td>2</td>\n      <td>0</td>\n      <td>2</td>\n      <td>27.9</td>\n      <td>109.33</td>\n      <td>55</td>\n      <td>1.11</td>\n      <td>3.98</td>\n      <td>80.0565</td>\n    </tr>\n    <tr>\n      <th>156</th>\n      <td>170</td>\n      <td>2</td>\n      <td>.</td>\n      <td>.</td>\n      <td>.</td>\n      <td>94.221</td>\n      <td>2</td>\n      <td>.</td>\n      <td>1</td>\n      <td>0</td>\n      <td>2</td>\n      <td>0</td>\n      <td>2</td>\n      <td>27.7</td>\n      <td>94.221</td>\n      <td>55</td>\n      <td>1.11</td>\n      <td>3.98</td>\n      <td>80.0565</td>\n    </tr>\n    <tr>\n      <th>157</th>\n      <td>94</td>\n      <td>2</td>\n      <td>.</td>\n      <td>.</td>\n      <td>.</td>\n      <td>88.4835</td>\n      <td>2</td>\n      <td>.</td>\n      <td>1</td>\n      <td>0</td>\n      <td>2</td>\n      <td>0</td>\n      <td>2</td>\n      <td>18.2</td>\n      <td>88.4835</td>\n      <td>55</td>\n      <td>1.11</td>\n      <td>3.98</td>\n      <td>77.2475</td>\n    </tr>\n  </tbody>\n</table>\n<p>158 rows × 19 columns</p>\n</div>"
     },
     "metadata": {},
     "execution_count": 1
    }
   ],
   "source": [
    "#\n",
    "# Import raw LXF A677 data.\n",
    "#\n",
    "\n",
    "import os\n",
    "import pandas as pd\n",
    "\n",
    "\n",
    "# Import LXF A677 data\n",
    "path = os.getcwd()  # make import independent of local path structure\n",
    "lxf_data_raw = pd.read_csv(path + '/data_raw/Ctrl_Growth_LXF.csv')\n",
    "\n",
    "# Display data\n",
    "print('Raw LXF A677 Control Growth Data Set:')\n",
    "lxf_data_raw"
   ]
  },
  {
   "cell_type": "markdown",
   "metadata": {},
   "source": [
    "## Cleaning the data\n",
    "\n",
    "The datasets were kindly provided to us by the authors of [1], who developed their PKPD model using a commercially available software called [Monolix](http://lixoft.com/products/monolix/). As a result, the keys of the dataset are motivated by Monolix's naming conventions. \n",
    "\n",
    "The keys of interest for our analysis are\n",
    "\n",
    "- **#ID** indicating which mouse was measured,\n",
    "- **TIME** indicating the time point of each measurement,\n",
    "- **TUMOUR VOLUME** indicating the measured tumour volume,\n",
    "- **BODY WEIGHT** indicating the body weight of the mouse.\n",
    "\n",
    "In discussion with the authors and a comparison with the Roche study report, the relevant columns in the dataset were identified as **#ID**, **TIME**, **Y** and **BW**, were **Y** endoces for **TUMOUR VOLUME** and **BW** for **BODY WEIGHT**. The remaining keys partially Monolix-specific modelling keys, partially inferred model parameters. We thus ignore those columns.\n",
    "\n",
    "Remarks on units of relevant columns:\n",
    "\n",
    "The raw data sets do not contain the units of the measured quantities. From [1] as well as Roche's study report, we may infer that\n",
    "\n",
    "- **TIME**: is measured in $\\text{day}$,\n",
    "- **TUMOUR VOLUME**: is measured in $\\text{mm}^3$,\n",
    "- **BODY WEIGHT**: is measured in $\\text{g}$.\n",
    "\n",
    "For reasons that will become clear later, we will choose to measure the tumour volume in $\\text{cm}^3$."
   ]
  },
  {
   "cell_type": "markdown",
   "metadata": {},
   "source": [
    "## Cleaned LXF A677 control growth data"
   ]
  },
  {
   "cell_type": "code",
   "execution_count": 3,
   "metadata": {
    "tags": []
   },
   "outputs": [
    {
     "output_type": "stream",
     "name": "stdout",
     "text": "LXF A677 Control Growth:\n"
    },
    {
     "output_type": "execute_result",
     "data": {
      "text/plain": "     #ID  TIME in day  TUMOUR VOLUME in cm^3  BODY WEIGHT in g\n0     40            0               0.191808              26.8\n1     94            0               0.077248              18.3\n2     95            0               0.186200              22.3\n59   136            0               0.118588              25.4\n60   140            0               0.079330              22.7\n..   ...          ...                    ...               ...\n77   136           30               1.459342              24.2\n103   94           30               0.576240              19.2\n90   169           30               0.746986              28.0\n67   140           30               2.122582              24.1\n102  170           30               0.620626              27.5\n\n[102 rows x 4 columns]",
      "text/html": "<div>\n<style scoped>\n    .dataframe tbody tr th:only-of-type {\n        vertical-align: middle;\n    }\n\n    .dataframe tbody tr th {\n        vertical-align: top;\n    }\n\n    .dataframe thead th {\n        text-align: right;\n    }\n</style>\n<table border=\"1\" class=\"dataframe\">\n  <thead>\n    <tr style=\"text-align: right;\">\n      <th></th>\n      <th>#ID</th>\n      <th>TIME in day</th>\n      <th>TUMOUR VOLUME in cm^3</th>\n      <th>BODY WEIGHT in g</th>\n    </tr>\n  </thead>\n  <tbody>\n    <tr>\n      <th>0</th>\n      <td>40</td>\n      <td>0</td>\n      <td>0.191808</td>\n      <td>26.8</td>\n    </tr>\n    <tr>\n      <th>1</th>\n      <td>94</td>\n      <td>0</td>\n      <td>0.077248</td>\n      <td>18.3</td>\n    </tr>\n    <tr>\n      <th>2</th>\n      <td>95</td>\n      <td>0</td>\n      <td>0.186200</td>\n      <td>22.3</td>\n    </tr>\n    <tr>\n      <th>59</th>\n      <td>136</td>\n      <td>0</td>\n      <td>0.118588</td>\n      <td>25.4</td>\n    </tr>\n    <tr>\n      <th>60</th>\n      <td>140</td>\n      <td>0</td>\n      <td>0.079330</td>\n      <td>22.7</td>\n    </tr>\n    <tr>\n      <th>...</th>\n      <td>...</td>\n      <td>...</td>\n      <td>...</td>\n      <td>...</td>\n    </tr>\n    <tr>\n      <th>77</th>\n      <td>136</td>\n      <td>30</td>\n      <td>1.459342</td>\n      <td>24.2</td>\n    </tr>\n    <tr>\n      <th>103</th>\n      <td>94</td>\n      <td>30</td>\n      <td>0.576240</td>\n      <td>19.2</td>\n    </tr>\n    <tr>\n      <th>90</th>\n      <td>169</td>\n      <td>30</td>\n      <td>0.746986</td>\n      <td>28.0</td>\n    </tr>\n    <tr>\n      <th>67</th>\n      <td>140</td>\n      <td>30</td>\n      <td>2.122582</td>\n      <td>24.1</td>\n    </tr>\n    <tr>\n      <th>102</th>\n      <td>170</td>\n      <td>30</td>\n      <td>0.620626</td>\n      <td>27.5</td>\n    </tr>\n  </tbody>\n</table>\n<p>102 rows × 4 columns</p>\n</div>"
     },
     "metadata": {},
     "execution_count": 3
    }
   ],
   "source": [
    "#\n",
    "# Create LXF A677 data from raw data set.\n",
    "#\n",
    "\n",
    "import os\n",
    "import pandas as pd\n",
    "\n",
    "\n",
    "# Import LXF A677 data\n",
    "path = os.getcwd()  # to make import independent of local path structure\n",
    "lxf_data_raw = pd.read_csv(path + '/data_raw/Ctrl_Growth_LXF.csv')\n",
    "\n",
    "# Make sure that data is stored as numeric data\n",
    "lxf_data = lxf_data_raw.apply(pd.to_numeric, errors='coerce')\n",
    "\n",
    "# Mask data for non-null Y rows\n",
    "lxf_data = lxf_data[lxf_data['Y'].notnull()]\n",
    "\n",
    "# Rename TIME to TIME in day\n",
    "lxf_data = lxf_data.rename(columns={'TIME': 'TIME in day'})\n",
    "\n",
    "# Rename Y to TUMOUR VOLUME in mm^3\n",
    "lxf_data = lxf_data.rename(columns={'Y': 'TUMOUR VOLUME in mm^3'})\n",
    "\n",
    "# Rename BW to BODY WEIGHT in g\n",
    "lxf_data = lxf_data.rename(columns={'BW': 'BODY WEIGHT in g'})\n",
    "\n",
    "# Raise error if DOSE, ADDL, II, YTYPE, CENS, CELL LINE, DOSE GROUP, DRUG, EXPERIMENT or DRUGCAT are not uni-valued\n",
    "if len(lxf_data['DOSE'].unique()) > 1:\n",
    "    raise ValueError\n",
    "if len(lxf_data['ADDL'].unique()) > 1:\n",
    "    raise ValueError\n",
    "if len(lxf_data['II'].unique()) > 1:\n",
    "    raise ValueError\n",
    "if len(lxf_data['YTYPE'].unique()) > 1:\n",
    "    raise ValueError\n",
    "if len(lxf_data['CENS'].unique()) > 1:\n",
    "    raise ValueError\n",
    "if len(lxf_data['CELL LINE'].unique()) > 1:\n",
    "    raise ValueError\n",
    "if len(lxf_data['DOSE GROUP'].unique()) > 1:\n",
    "    raise ValueError\n",
    "if len(lxf_data['DRUG'].unique()) > 1:\n",
    "    raise ValueError\n",
    "if len(lxf_data['EXPERIMENT'].unique()) > 1:\n",
    "    raise ValueError\n",
    "if len(lxf_data['DRUGCAT'].unique()) > 1:\n",
    "    raise ValueError\n",
    "\n",
    "# Keep only #ID, TIME and TUMOUR VOLUME column\n",
    "lxf_data = lxf_data[['#ID', 'TIME in day', 'TUMOUR VOLUME in mm^3', 'BODY WEIGHT in g']]\n",
    "\n",
    "# Sort data such that time is increasing (for later convenience)\n",
    "lxf_data.sort_values('TIME in day', inplace=True)\n",
    "\n",
    "# Convert tumour measurements to cm^3\n",
    "lxf_data['TUMOUR VOLUME in mm^3'] *= 1E-03\n",
    "lxf_data = lxf_data.rename(columns={'TUMOUR VOLUME in mm^3': 'TUMOUR VOLUME in cm^3'})\n",
    "\n",
    "# Delete raw data from memory\n",
    "del lxf_data_raw\n",
    "\n",
    "# Display cleaned data set\n",
    "print('LXF A677 Control Growth:')\n",
    "lxf_data"
   ]
  },
  {
   "cell_type": "markdown",
   "metadata": {},
   "source": [
    "## Illustrate control growth data\n",
    "\n",
    "We use [plotly](https://plotly.com/python/) to create interactive visualisations of the time-series data."
   ]
  },
  {
   "cell_type": "code",
   "execution_count": 17,
   "metadata": {},
   "outputs": [
    {
     "output_type": "display_data",
     "data": {
      "application/vnd.plotly.v1+json": {
       "config": {
        "plotlyServerURL": "https://plot.ly"
       },
       "data": [
        {
         "hovertemplate": "<b>ID: 40</b><br>Time: %{x:} day<br>Tumour volume: %{y:.02f} cm^3<br>Body weight: %{text}<br>Cancer type: Lung cancer (LXF A677)<br><extra></extra>",
         "marker": {
          "color": "#636EFA",
          "line": {
           "color": "black",
           "width": 1
          },
          "opacity": 0.7,
          "symbol": "circle"
         },
         "mode": "markers",
         "name": "ID: 40",
         "showlegend": true,
         "text": [
          "26.8 g",
          "26.1 g",
          "26.5 g",
          "26.5 g",
          "27.1 g",
          "26.0 g",
          "26.4 g",
          "26.0 g",
          "25.4 g",
          "26.2 g"
         ],
         "type": "scatter",
         "x": [
          0,
          2,
          4,
          7,
          9,
          11,
          14,
          16,
          18,
          21
         ],
         "y": [
          0.191808,
          0.249158,
          0.33067199999999997,
          0.6683669999999999,
          0.915008,
          1.119258,
          1.470432,
          1.6692479999999998,
          1.752192,
          2.276736
         ]
        },
        {
         "hovertemplate": "<b>ID: 40</b><br>Time: %{x:} day<br>Tumour volume: %{y:.02f} cm^3<br>Body weight: %{text}<br>Cancer type: Lung cancer (LXF A677)<br><extra></extra>",
         "marker": {
          "color": "#636EFA",
          "line": {
           "color": "black",
           "width": 1
          },
          "opacity": 0.7,
          "symbol": "circle"
         },
         "mode": "markers",
         "name": "ID: 40",
         "showlegend": true,
         "text": [
          "26.8 g",
          "26.1 g",
          "26.5 g",
          "26.5 g",
          "27.1 g",
          "26.0 g",
          "26.4 g",
          "26.0 g",
          "25.4 g",
          "26.2 g"
         ],
         "type": "scatter",
         "visible": false,
         "x": [
          0,
          2,
          4,
          7,
          9,
          11,
          14,
          16,
          18,
          21
         ],
         "y": [
          26.8,
          26.1,
          26.5,
          26.5,
          27.1,
          26,
          26.4,
          26,
          25.4,
          26.2
         ]
        },
        {
         "hovertemplate": "<b>ID: 94</b><br>Time: %{x:} day<br>Tumour volume: %{y:.02f} cm^3<br>Body weight: %{text}<br>Cancer type: Lung cancer (LXF A677)<br><extra></extra>",
         "marker": {
          "color": "#EF553B",
          "line": {
           "color": "black",
           "width": 1
          },
          "opacity": 0.7,
          "symbol": "circle"
         },
         "mode": "markers",
         "name": "ID: 94",
         "showlegend": true,
         "text": [
          "18.3 g",
          "18.2 g",
          "18.5 g",
          "18.3 g",
          "18.7 g",
          "17.9 g",
          "18.4 g",
          "18.2 g",
          "18.7 g",
          "20.0 g",
          "20.2 g",
          "20.3 g",
          "20.0 g",
          "19.2 g"
         ],
         "type": "scatter",
         "x": [
          0,
          2,
          4,
          7,
          9,
          11,
          14,
          16,
          18,
          21,
          23,
          25,
          28,
          30
         ],
         "y": [
          0.07724750000000001,
          0.0884835,
          0.125316,
          0.165528,
          0.189486,
          0.264654,
          0.264654,
          0.306936,
          0.389207,
          0.389207,
          0.405769,
          0.4264715,
          0.5551309999999999,
          0.57624
         ]
        },
        {
         "hovertemplate": "<b>ID: 94</b><br>Time: %{x:} day<br>Tumour volume: %{y:.02f} cm^3<br>Body weight: %{text}<br>Cancer type: Lung cancer (LXF A677)<br><extra></extra>",
         "marker": {
          "color": "#EF553B",
          "line": {
           "color": "black",
           "width": 1
          },
          "opacity": 0.7,
          "symbol": "circle"
         },
         "mode": "markers",
         "name": "ID: 94",
         "showlegend": true,
         "text": [
          "18.3 g",
          "18.2 g",
          "18.5 g",
          "18.3 g",
          "18.7 g",
          "17.9 g",
          "18.4 g",
          "18.2 g",
          "18.7 g",
          "20.0 g",
          "20.2 g",
          "20.3 g",
          "20.0 g",
          "19.2 g"
         ],
         "type": "scatter",
         "visible": false,
         "x": [
          0,
          2,
          4,
          7,
          9,
          11,
          14,
          16,
          18,
          21,
          23,
          25,
          28,
          30
         ],
         "y": [
          18.3,
          18.2,
          18.5,
          18.3,
          18.7,
          17.9,
          18.4,
          18.2,
          18.7,
          20,
          20.2,
          20.3,
          20,
          19.2
         ]
        },
        {
         "hovertemplate": "<b>ID: 95</b><br>Time: %{x:} day<br>Tumour volume: %{y:.02f} cm^3<br>Body weight: %{text}<br>Cancer type: Lung cancer (LXF A677)<br><extra></extra>",
         "marker": {
          "color": "#00CC96",
          "line": {
           "color": "black",
           "width": 1
          },
          "opacity": 0.7,
          "symbol": "circle"
         },
         "mode": "markers",
         "name": "ID: 95",
         "showlegend": true,
         "text": [
          "22.3 g",
          "23.0 g",
          "22.4 g",
          "23.6 g",
          "24.1 g",
          "22.7 g",
          "23.6 g",
          "23.3 g",
          "23.3 g",
          "23.3 g"
         ],
         "type": "scatter",
         "x": [
          0,
          2,
          4,
          7,
          9,
          11,
          14,
          16,
          18,
          21
         ],
         "y": [
          0.1862,
          0.24642,
          0.4293,
          0.62426,
          0.7246720000000001,
          0.7300800000000001,
          0.9196000000000001,
          1.131184,
          1.675872,
          2.346616
         ]
        },
        {
         "hovertemplate": "<b>ID: 95</b><br>Time: %{x:} day<br>Tumour volume: %{y:.02f} cm^3<br>Body weight: %{text}<br>Cancer type: Lung cancer (LXF A677)<br><extra></extra>",
         "marker": {
          "color": "#00CC96",
          "line": {
           "color": "black",
           "width": 1
          },
          "opacity": 0.7,
          "symbol": "circle"
         },
         "mode": "markers",
         "name": "ID: 95",
         "showlegend": true,
         "text": [
          "22.3 g",
          "23.0 g",
          "22.4 g",
          "23.6 g",
          "24.1 g",
          "22.7 g",
          "23.6 g",
          "23.3 g",
          "23.3 g",
          "23.3 g"
         ],
         "type": "scatter",
         "visible": false,
         "x": [
          0,
          2,
          4,
          7,
          9,
          11,
          14,
          16,
          18,
          21
         ],
         "y": [
          22.3,
          23,
          22.4,
          23.6,
          24.1,
          22.7,
          23.6,
          23.3,
          23.3,
          23.3
         ]
        },
        {
         "hovertemplate": "<b>ID: 136</b><br>Time: %{x:} day<br>Tumour volume: %{y:.02f} cm^3<br>Body weight: %{text}<br>Cancer type: Lung cancer (LXF A677)<br><extra></extra>",
         "marker": {
          "color": "#AB63FA",
          "line": {
           "color": "black",
           "width": 1
          },
          "opacity": 0.7,
          "symbol": "circle"
         },
         "mode": "markers",
         "name": "ID: 136",
         "showlegend": true,
         "text": [
          "25.4 g",
          "26.2 g",
          "28.3 g",
          "28.0 g",
          "25.1 g",
          "22.9 g",
          "24.1 g",
          "23.9 g",
          "23.0 g",
          "24.0 g",
          "23.7 g",
          "24.7 g",
          "24.6 g",
          "24.2 g"
         ],
         "type": "scatter",
         "x": [
          0,
          2,
          4,
          7,
          9,
          11,
          14,
          16,
          18,
          21,
          23,
          25,
          28,
          30
         ],
         "y": [
          0.1185885,
          0.175071,
          0.22999200000000003,
          0.30268849999999997,
          0.30268849999999997,
          0.37044,
          0.5341545,
          0.651688,
          0.7212869999999999,
          0.78732,
          0.8529505000000001,
          1.104558,
          1.13288,
          1.4593425
         ]
        },
        {
         "hovertemplate": "<b>ID: 136</b><br>Time: %{x:} day<br>Tumour volume: %{y:.02f} cm^3<br>Body weight: %{text}<br>Cancer type: Lung cancer (LXF A677)<br><extra></extra>",
         "marker": {
          "color": "#AB63FA",
          "line": {
           "color": "black",
           "width": 1
          },
          "opacity": 0.7,
          "symbol": "circle"
         },
         "mode": "markers",
         "name": "ID: 136",
         "showlegend": true,
         "text": [
          "25.4 g",
          "26.2 g",
          "28.3 g",
          "28.0 g",
          "25.1 g",
          "22.9 g",
          "24.1 g",
          "23.9 g",
          "23.0 g",
          "24.0 g",
          "23.7 g",
          "24.7 g",
          "24.6 g",
          "24.2 g"
         ],
         "type": "scatter",
         "visible": false,
         "x": [
          0,
          2,
          4,
          7,
          9,
          11,
          14,
          16,
          18,
          21,
          23,
          25,
          28,
          30
         ],
         "y": [
          25.4,
          26.2,
          28.3,
          28,
          25.1,
          22.9,
          24.1,
          23.9,
          23,
          24,
          23.7,
          24.7,
          24.6,
          24.2
         ]
        },
        {
         "hovertemplate": "<b>ID: 140</b><br>Time: %{x:} day<br>Tumour volume: %{y:.02f} cm^3<br>Body weight: %{text}<br>Cancer type: Lung cancer (LXF A677)<br><extra></extra>",
         "marker": {
          "color": "#FFA15A",
          "line": {
           "color": "black",
           "width": 1
          },
          "opacity": 0.7,
          "symbol": "circle"
         },
         "mode": "markers",
         "name": "ID: 140",
         "showlegend": true,
         "text": [
          "22.7 g",
          "23.6 g",
          "23.6 g",
          "24.4 g",
          "25.0 g",
          "23.5 g",
          "24.8 g",
          "24.3 g",
          "23.8 g",
          "23.3 g",
          "23.7 g",
          "24.8 g",
          "24.7 g",
          "24.1 g"
         ],
         "type": "scatter",
         "x": [
          0,
          2,
          4,
          7,
          9,
          11,
          14,
          16,
          18,
          21,
          23,
          25,
          28,
          30
         ],
         "y": [
          0.0793305,
          0.12685200000000002,
          0.146072,
          0.261121,
          0.34574400000000005,
          0.3552,
          0.41905000000000003,
          0.480298,
          0.556668,
          0.8089919999999999,
          0.857304,
          1.097675,
          1.9921440000000001,
          2.1225820000000004
         ]
        },
        {
         "hovertemplate": "<b>ID: 140</b><br>Time: %{x:} day<br>Tumour volume: %{y:.02f} cm^3<br>Body weight: %{text}<br>Cancer type: Lung cancer (LXF A677)<br><extra></extra>",
         "marker": {
          "color": "#FFA15A",
          "line": {
           "color": "black",
           "width": 1
          },
          "opacity": 0.7,
          "symbol": "circle"
         },
         "mode": "markers",
         "name": "ID: 140",
         "showlegend": true,
         "text": [
          "22.7 g",
          "23.6 g",
          "23.6 g",
          "24.4 g",
          "25.0 g",
          "23.5 g",
          "24.8 g",
          "24.3 g",
          "23.8 g",
          "23.3 g",
          "23.7 g",
          "24.8 g",
          "24.7 g",
          "24.1 g"
         ],
         "type": "scatter",
         "visible": false,
         "x": [
          0,
          2,
          4,
          7,
          9,
          11,
          14,
          16,
          18,
          21,
          23,
          25,
          28,
          30
         ],
         "y": [
          22.7,
          23.6,
          23.6,
          24.4,
          25,
          23.5,
          24.8,
          24.3,
          23.8,
          23.3,
          23.7,
          24.8,
          24.7,
          24.1
         ]
        },
        {
         "hovertemplate": "<b>ID: 155</b><br>Time: %{x:} day<br>Tumour volume: %{y:.02f} cm^3<br>Body weight: %{text}<br>Cancer type: Lung cancer (LXF A677)<br><extra></extra>",
         "marker": {
          "color": "#19D3F3",
          "line": {
           "color": "black",
           "width": 1
          },
          "opacity": 0.7,
          "symbol": "circle"
         },
         "mode": "markers",
         "name": "ID: 155",
         "showlegend": true,
         "text": [
          "26.0 g",
          "27.3 g",
          "27.5 g",
          "28.2 g",
          "28.7 g",
          "27.9 g",
          "28.6 g",
          "29.0 g",
          "28.0 g",
          "28.9 g",
          "28.5 g",
          "29.6 g"
         ],
         "type": "scatter",
         "x": [
          0,
          2,
          4,
          7,
          9,
          11,
          14,
          16,
          18,
          21,
          23,
          25
         ],
         "y": [
          0.105875,
          0.167706,
          0.35632800000000003,
          0.6489600000000001,
          0.692224,
          0.7300800000000001,
          0.81648,
          1.494954,
          1.5166985,
          1.72405,
          1.637784,
          2.25108
         ]
        },
        {
         "hovertemplate": "<b>ID: 155</b><br>Time: %{x:} day<br>Tumour volume: %{y:.02f} cm^3<br>Body weight: %{text}<br>Cancer type: Lung cancer (LXF A677)<br><extra></extra>",
         "marker": {
          "color": "#19D3F3",
          "line": {
           "color": "black",
           "width": 1
          },
          "opacity": 0.7,
          "symbol": "circle"
         },
         "mode": "markers",
         "name": "ID: 155",
         "showlegend": true,
         "text": [
          "26.0 g",
          "27.3 g",
          "27.5 g",
          "28.2 g",
          "28.7 g",
          "27.9 g",
          "28.6 g",
          "29.0 g",
          "28.0 g",
          "28.9 g",
          "28.5 g",
          "29.6 g"
         ],
         "type": "scatter",
         "visible": false,
         "x": [
          0,
          2,
          4,
          7,
          9,
          11,
          14,
          16,
          18,
          21,
          23,
          25
         ],
         "y": [
          26,
          27.3,
          27.5,
          28.2,
          28.7,
          27.9,
          28.6,
          29,
          28,
          28.9,
          28.5,
          29.6
         ]
        },
        {
         "hovertemplate": "<b>ID: 169</b><br>Time: %{x:} day<br>Tumour volume: %{y:.02f} cm^3<br>Body weight: %{text}<br>Cancer type: Lung cancer (LXF A677)<br><extra></extra>",
         "marker": {
          "color": "#FF6692",
          "line": {
           "color": "black",
           "width": 1
          },
          "opacity": 0.7,
          "symbol": "circle"
         },
         "mode": "markers",
         "name": "ID: 169",
         "showlegend": true,
         "text": [
          "26.9 g",
          "26.8 g",
          "26.2 g",
          "26.2 g",
          "27.3 g",
          "26.6 g",
          "28.0 g",
          "27.6 g",
          "26.6 g",
          "27.9 g",
          "27.4 g",
          "28.6 g",
          "27.5 g",
          "28.0 g"
         ],
         "type": "scatter",
         "x": [
          0,
          2,
          4,
          7,
          9,
          11,
          14,
          16,
          18,
          21,
          23,
          25,
          28,
          30
         ],
         "y": [
          0.12300799999999999,
          0.128774,
          0.1764,
          0.20516650000000003,
          0.2460535,
          0.2788425,
          0.333036,
          0.356445,
          0.39285000000000003,
          0.47985900000000004,
          0.539055,
          0.6354195,
          0.7146180000000001,
          0.7469865
         ]
        },
        {
         "hovertemplate": "<b>ID: 169</b><br>Time: %{x:} day<br>Tumour volume: %{y:.02f} cm^3<br>Body weight: %{text}<br>Cancer type: Lung cancer (LXF A677)<br><extra></extra>",
         "marker": {
          "color": "#FF6692",
          "line": {
           "color": "black",
           "width": 1
          },
          "opacity": 0.7,
          "symbol": "circle"
         },
         "mode": "markers",
         "name": "ID: 169",
         "showlegend": true,
         "text": [
          "26.9 g",
          "26.8 g",
          "26.2 g",
          "26.2 g",
          "27.3 g",
          "26.6 g",
          "28.0 g",
          "27.6 g",
          "26.6 g",
          "27.9 g",
          "27.4 g",
          "28.6 g",
          "27.5 g",
          "28.0 g"
         ],
         "type": "scatter",
         "visible": false,
         "x": [
          0,
          2,
          4,
          7,
          9,
          11,
          14,
          16,
          18,
          21,
          23,
          25,
          28,
          30
         ],
         "y": [
          26.9,
          26.8,
          26.2,
          26.2,
          27.3,
          26.6,
          28,
          27.6,
          26.6,
          27.9,
          27.4,
          28.6,
          27.5,
          28
         ]
        },
        {
         "hovertemplate": "<b>ID: 170</b><br>Time: %{x:} day<br>Tumour volume: %{y:.02f} cm^3<br>Body weight: %{text}<br>Cancer type: Lung cancer (LXF A677)<br><extra></extra>",
         "marker": {
          "color": "#B6E880",
          "line": {
           "color": "black",
           "width": 1
          },
          "opacity": 0.7,
          "symbol": "circle"
         },
         "mode": "markers",
         "name": "ID: 170",
         "showlegend": true,
         "text": [
          "28.3 g",
          "27.7 g",
          "27.9 g",
          "28.8 g",
          "29.3 g",
          "28.6 g",
          "29.5 g",
          "28.9 g",
          "26.8 g",
          "28.7 g",
          "27.3 g",
          "28.7 g",
          "28.5 g",
          "27.5 g"
         ],
         "type": "scatter",
         "x": [
          0,
          2,
          4,
          7,
          9,
          11,
          14,
          16,
          18,
          21,
          23,
          25,
          28,
          30
         ],
         "y": [
          0.0800565,
          0.094221,
          0.10933,
          0.158994,
          0.176157,
          0.1940785,
          0.20416050000000002,
          0.246402,
          0.3050865,
          0.3683265,
          0.418176,
          0.4396155,
          0.5661554999999999,
          0.6206265
         ]
        },
        {
         "hovertemplate": "<b>ID: 170</b><br>Time: %{x:} day<br>Tumour volume: %{y:.02f} cm^3<br>Body weight: %{text}<br>Cancer type: Lung cancer (LXF A677)<br><extra></extra>",
         "marker": {
          "color": "#B6E880",
          "line": {
           "color": "black",
           "width": 1
          },
          "opacity": 0.7,
          "symbol": "circle"
         },
         "mode": "markers",
         "name": "ID: 170",
         "showlegend": true,
         "text": [
          "28.3 g",
          "27.7 g",
          "27.9 g",
          "28.8 g",
          "29.3 g",
          "28.6 g",
          "29.5 g",
          "28.9 g",
          "26.8 g",
          "28.7 g",
          "27.3 g",
          "28.7 g",
          "28.5 g",
          "27.5 g"
         ],
         "type": "scatter",
         "visible": false,
         "x": [
          0,
          2,
          4,
          7,
          9,
          11,
          14,
          16,
          18,
          21,
          23,
          25,
          28,
          30
         ],
         "y": [
          28.3,
          27.7,
          27.9,
          28.8,
          29.3,
          28.6,
          29.5,
          28.9,
          26.8,
          28.7,
          27.3,
          28.7,
          28.5,
          27.5
         ]
        }
       ],
       "layout": {
        "autosize": true,
        "legend": {
         "x": 1.05,
         "xanchor": "left",
         "y": 0.01,
         "yanchor": "bottom"
        },
        "template": {
         "data": {
          "bar": [
           {
            "error_x": {
             "color": "#2a3f5f"
            },
            "error_y": {
             "color": "#2a3f5f"
            },
            "marker": {
             "line": {
              "color": "white",
              "width": 0.5
             }
            },
            "type": "bar"
           }
          ],
          "barpolar": [
           {
            "marker": {
             "line": {
              "color": "white",
              "width": 0.5
             }
            },
            "type": "barpolar"
           }
          ],
          "carpet": [
           {
            "aaxis": {
             "endlinecolor": "#2a3f5f",
             "gridcolor": "#C8D4E3",
             "linecolor": "#C8D4E3",
             "minorgridcolor": "#C8D4E3",
             "startlinecolor": "#2a3f5f"
            },
            "baxis": {
             "endlinecolor": "#2a3f5f",
             "gridcolor": "#C8D4E3",
             "linecolor": "#C8D4E3",
             "minorgridcolor": "#C8D4E3",
             "startlinecolor": "#2a3f5f"
            },
            "type": "carpet"
           }
          ],
          "choropleth": [
           {
            "colorbar": {
             "outlinewidth": 0,
             "ticks": ""
            },
            "type": "choropleth"
           }
          ],
          "contour": [
           {
            "colorbar": {
             "outlinewidth": 0,
             "ticks": ""
            },
            "colorscale": [
             [
              0,
              "#0d0887"
             ],
             [
              0.1111111111111111,
              "#46039f"
             ],
             [
              0.2222222222222222,
              "#7201a8"
             ],
             [
              0.3333333333333333,
              "#9c179e"
             ],
             [
              0.4444444444444444,
              "#bd3786"
             ],
             [
              0.5555555555555556,
              "#d8576b"
             ],
             [
              0.6666666666666666,
              "#ed7953"
             ],
             [
              0.7777777777777778,
              "#fb9f3a"
             ],
             [
              0.8888888888888888,
              "#fdca26"
             ],
             [
              1,
              "#f0f921"
             ]
            ],
            "type": "contour"
           }
          ],
          "contourcarpet": [
           {
            "colorbar": {
             "outlinewidth": 0,
             "ticks": ""
            },
            "type": "contourcarpet"
           }
          ],
          "heatmap": [
           {
            "colorbar": {
             "outlinewidth": 0,
             "ticks": ""
            },
            "colorscale": [
             [
              0,
              "#0d0887"
             ],
             [
              0.1111111111111111,
              "#46039f"
             ],
             [
              0.2222222222222222,
              "#7201a8"
             ],
             [
              0.3333333333333333,
              "#9c179e"
             ],
             [
              0.4444444444444444,
              "#bd3786"
             ],
             [
              0.5555555555555556,
              "#d8576b"
             ],
             [
              0.6666666666666666,
              "#ed7953"
             ],
             [
              0.7777777777777778,
              "#fb9f3a"
             ],
             [
              0.8888888888888888,
              "#fdca26"
             ],
             [
              1,
              "#f0f921"
             ]
            ],
            "type": "heatmap"
           }
          ],
          "heatmapgl": [
           {
            "colorbar": {
             "outlinewidth": 0,
             "ticks": ""
            },
            "colorscale": [
             [
              0,
              "#0d0887"
             ],
             [
              0.1111111111111111,
              "#46039f"
             ],
             [
              0.2222222222222222,
              "#7201a8"
             ],
             [
              0.3333333333333333,
              "#9c179e"
             ],
             [
              0.4444444444444444,
              "#bd3786"
             ],
             [
              0.5555555555555556,
              "#d8576b"
             ],
             [
              0.6666666666666666,
              "#ed7953"
             ],
             [
              0.7777777777777778,
              "#fb9f3a"
             ],
             [
              0.8888888888888888,
              "#fdca26"
             ],
             [
              1,
              "#f0f921"
             ]
            ],
            "type": "heatmapgl"
           }
          ],
          "histogram": [
           {
            "marker": {
             "colorbar": {
              "outlinewidth": 0,
              "ticks": ""
             }
            },
            "type": "histogram"
           }
          ],
          "histogram2d": [
           {
            "colorbar": {
             "outlinewidth": 0,
             "ticks": ""
            },
            "colorscale": [
             [
              0,
              "#0d0887"
             ],
             [
              0.1111111111111111,
              "#46039f"
             ],
             [
              0.2222222222222222,
              "#7201a8"
             ],
             [
              0.3333333333333333,
              "#9c179e"
             ],
             [
              0.4444444444444444,
              "#bd3786"
             ],
             [
              0.5555555555555556,
              "#d8576b"
             ],
             [
              0.6666666666666666,
              "#ed7953"
             ],
             [
              0.7777777777777778,
              "#fb9f3a"
             ],
             [
              0.8888888888888888,
              "#fdca26"
             ],
             [
              1,
              "#f0f921"
             ]
            ],
            "type": "histogram2d"
           }
          ],
          "histogram2dcontour": [
           {
            "colorbar": {
             "outlinewidth": 0,
             "ticks": ""
            },
            "colorscale": [
             [
              0,
              "#0d0887"
             ],
             [
              0.1111111111111111,
              "#46039f"
             ],
             [
              0.2222222222222222,
              "#7201a8"
             ],
             [
              0.3333333333333333,
              "#9c179e"
             ],
             [
              0.4444444444444444,
              "#bd3786"
             ],
             [
              0.5555555555555556,
              "#d8576b"
             ],
             [
              0.6666666666666666,
              "#ed7953"
             ],
             [
              0.7777777777777778,
              "#fb9f3a"
             ],
             [
              0.8888888888888888,
              "#fdca26"
             ],
             [
              1,
              "#f0f921"
             ]
            ],
            "type": "histogram2dcontour"
           }
          ],
          "mesh3d": [
           {
            "colorbar": {
             "outlinewidth": 0,
             "ticks": ""
            },
            "type": "mesh3d"
           }
          ],
          "parcoords": [
           {
            "line": {
             "colorbar": {
              "outlinewidth": 0,
              "ticks": ""
             }
            },
            "type": "parcoords"
           }
          ],
          "pie": [
           {
            "automargin": true,
            "type": "pie"
           }
          ],
          "scatter": [
           {
            "marker": {
             "colorbar": {
              "outlinewidth": 0,
              "ticks": ""
             }
            },
            "type": "scatter"
           }
          ],
          "scatter3d": [
           {
            "line": {
             "colorbar": {
              "outlinewidth": 0,
              "ticks": ""
             }
            },
            "marker": {
             "colorbar": {
              "outlinewidth": 0,
              "ticks": ""
             }
            },
            "type": "scatter3d"
           }
          ],
          "scattercarpet": [
           {
            "marker": {
             "colorbar": {
              "outlinewidth": 0,
              "ticks": ""
             }
            },
            "type": "scattercarpet"
           }
          ],
          "scattergeo": [
           {
            "marker": {
             "colorbar": {
              "outlinewidth": 0,
              "ticks": ""
             }
            },
            "type": "scattergeo"
           }
          ],
          "scattergl": [
           {
            "marker": {
             "colorbar": {
              "outlinewidth": 0,
              "ticks": ""
             }
            },
            "type": "scattergl"
           }
          ],
          "scattermapbox": [
           {
            "marker": {
             "colorbar": {
              "outlinewidth": 0,
              "ticks": ""
             }
            },
            "type": "scattermapbox"
           }
          ],
          "scatterpolar": [
           {
            "marker": {
             "colorbar": {
              "outlinewidth": 0,
              "ticks": ""
             }
            },
            "type": "scatterpolar"
           }
          ],
          "scatterpolargl": [
           {
            "marker": {
             "colorbar": {
              "outlinewidth": 0,
              "ticks": ""
             }
            },
            "type": "scatterpolargl"
           }
          ],
          "scatterternary": [
           {
            "marker": {
             "colorbar": {
              "outlinewidth": 0,
              "ticks": ""
             }
            },
            "type": "scatterternary"
           }
          ],
          "surface": [
           {
            "colorbar": {
             "outlinewidth": 0,
             "ticks": ""
            },
            "colorscale": [
             [
              0,
              "#0d0887"
             ],
             [
              0.1111111111111111,
              "#46039f"
             ],
             [
              0.2222222222222222,
              "#7201a8"
             ],
             [
              0.3333333333333333,
              "#9c179e"
             ],
             [
              0.4444444444444444,
              "#bd3786"
             ],
             [
              0.5555555555555556,
              "#d8576b"
             ],
             [
              0.6666666666666666,
              "#ed7953"
             ],
             [
              0.7777777777777778,
              "#fb9f3a"
             ],
             [
              0.8888888888888888,
              "#fdca26"
             ],
             [
              1,
              "#f0f921"
             ]
            ],
            "type": "surface"
           }
          ],
          "table": [
           {
            "cells": {
             "fill": {
              "color": "#EBF0F8"
             },
             "line": {
              "color": "white"
             }
            },
            "header": {
             "fill": {
              "color": "#C8D4E3"
             },
             "line": {
              "color": "white"
             }
            },
            "type": "table"
           }
          ]
         },
         "layout": {
          "annotationdefaults": {
           "arrowcolor": "#2a3f5f",
           "arrowhead": 0,
           "arrowwidth": 1
          },
          "coloraxis": {
           "colorbar": {
            "outlinewidth": 0,
            "ticks": ""
           }
          },
          "colorscale": {
           "diverging": [
            [
             0,
             "#8e0152"
            ],
            [
             0.1,
             "#c51b7d"
            ],
            [
             0.2,
             "#de77ae"
            ],
            [
             0.3,
             "#f1b6da"
            ],
            [
             0.4,
             "#fde0ef"
            ],
            [
             0.5,
             "#f7f7f7"
            ],
            [
             0.6,
             "#e6f5d0"
            ],
            [
             0.7,
             "#b8e186"
            ],
            [
             0.8,
             "#7fbc41"
            ],
            [
             0.9,
             "#4d9221"
            ],
            [
             1,
             "#276419"
            ]
           ],
           "sequential": [
            [
             0,
             "#0d0887"
            ],
            [
             0.1111111111111111,
             "#46039f"
            ],
            [
             0.2222222222222222,
             "#7201a8"
            ],
            [
             0.3333333333333333,
             "#9c179e"
            ],
            [
             0.4444444444444444,
             "#bd3786"
            ],
            [
             0.5555555555555556,
             "#d8576b"
            ],
            [
             0.6666666666666666,
             "#ed7953"
            ],
            [
             0.7777777777777778,
             "#fb9f3a"
            ],
            [
             0.8888888888888888,
             "#fdca26"
            ],
            [
             1,
             "#f0f921"
            ]
           ],
           "sequentialminus": [
            [
             0,
             "#0d0887"
            ],
            [
             0.1111111111111111,
             "#46039f"
            ],
            [
             0.2222222222222222,
             "#7201a8"
            ],
            [
             0.3333333333333333,
             "#9c179e"
            ],
            [
             0.4444444444444444,
             "#bd3786"
            ],
            [
             0.5555555555555556,
             "#d8576b"
            ],
            [
             0.6666666666666666,
             "#ed7953"
            ],
            [
             0.7777777777777778,
             "#fb9f3a"
            ],
            [
             0.8888888888888888,
             "#fdca26"
            ],
            [
             1,
             "#f0f921"
            ]
           ]
          },
          "colorway": [
           "#636efa",
           "#EF553B",
           "#00cc96",
           "#ab63fa",
           "#FFA15A",
           "#19d3f3",
           "#FF6692",
           "#B6E880",
           "#FF97FF",
           "#FECB52"
          ],
          "font": {
           "color": "#2a3f5f"
          },
          "geo": {
           "bgcolor": "white",
           "lakecolor": "white",
           "landcolor": "white",
           "showlakes": true,
           "showland": true,
           "subunitcolor": "#C8D4E3"
          },
          "hoverlabel": {
           "align": "left"
          },
          "hovermode": "closest",
          "mapbox": {
           "style": "light"
          },
          "paper_bgcolor": "white",
          "plot_bgcolor": "white",
          "polar": {
           "angularaxis": {
            "gridcolor": "#EBF0F8",
            "linecolor": "#EBF0F8",
            "ticks": ""
           },
           "bgcolor": "white",
           "radialaxis": {
            "gridcolor": "#EBF0F8",
            "linecolor": "#EBF0F8",
            "ticks": ""
           }
          },
          "scene": {
           "xaxis": {
            "backgroundcolor": "white",
            "gridcolor": "#DFE8F3",
            "gridwidth": 2,
            "linecolor": "#EBF0F8",
            "showbackground": true,
            "ticks": "",
            "zerolinecolor": "#EBF0F8"
           },
           "yaxis": {
            "backgroundcolor": "white",
            "gridcolor": "#DFE8F3",
            "gridwidth": 2,
            "linecolor": "#EBF0F8",
            "showbackground": true,
            "ticks": "",
            "zerolinecolor": "#EBF0F8"
           },
           "zaxis": {
            "backgroundcolor": "white",
            "gridcolor": "#DFE8F3",
            "gridwidth": 2,
            "linecolor": "#EBF0F8",
            "showbackground": true,
            "ticks": "",
            "zerolinecolor": "#EBF0F8"
           }
          },
          "shapedefaults": {
           "line": {
            "color": "#2a3f5f"
           }
          },
          "ternary": {
           "aaxis": {
            "gridcolor": "#DFE8F3",
            "linecolor": "#A2B1C6",
            "ticks": ""
           },
           "baxis": {
            "gridcolor": "#DFE8F3",
            "linecolor": "#A2B1C6",
            "ticks": ""
           },
           "bgcolor": "white",
           "caxis": {
            "gridcolor": "#DFE8F3",
            "linecolor": "#A2B1C6",
            "ticks": ""
           }
          },
          "title": {
           "x": 0.05
          },
          "xaxis": {
           "automargin": true,
           "gridcolor": "#EBF0F8",
           "linecolor": "#EBF0F8",
           "ticks": "",
           "title": {
            "standoff": 15
           },
           "zerolinecolor": "#EBF0F8",
           "zerolinewidth": 2
          },
          "yaxis": {
           "automargin": true,
           "gridcolor": "#EBF0F8",
           "linecolor": "#EBF0F8",
           "ticks": "",
           "title": {
            "standoff": 15
           },
           "zerolinecolor": "#EBF0F8",
           "zerolinewidth": 2
          }
         }
        },
        "updatemenus": [
         {
          "buttons": [
           {
            "args": [
             {
              "yaxis.type": "linear"
             }
            ],
            "label": "Linear y-scale",
            "method": "relayout"
           },
           {
            "args": [
             {
              "yaxis.type": "log"
             }
            ],
            "label": "Log y-scale",
            "method": "relayout"
           }
          ],
          "direction": "left",
          "pad": {
           "r": 0,
           "t": -10
          },
          "showactive": true,
          "type": "buttons",
          "x": 0,
          "xanchor": "left",
          "y": 1.15,
          "yanchor": "top"
         },
         {
          "buttons": [
           {
            "args": [
             {
              "visible": [
               true,
               false,
               true,
               false,
               true,
               false,
               true,
               false,
               true,
               false,
               true,
               false,
               true,
               false,
               true,
               false
              ]
             },
             {
              "yaxis": {
               "title": "$\\text{Tumour volume in cm}^3$"
              }
             }
            ],
            "label": "Tumour volume",
            "method": "update"
           },
           {
            "args": [
             {
              "visible": [
               false,
               true,
               false,
               true,
               false,
               true,
               false,
               true,
               false,
               true,
               false,
               true,
               false,
               true,
               false,
               true
              ]
             },
             {
              "yaxis": {
               "title": "$\\text{Body weight in g}$"
              }
             }
            ],
            "label": "Body weight",
            "method": "update"
           }
          ],
          "direction": "down",
          "pad": {
           "r": 0,
           "t": -10
          },
          "showactive": true,
          "type": "buttons",
          "x": 1.07,
          "xanchor": "left",
          "y": 1.1,
          "yanchor": "top"
         }
        ],
        "xaxis": {
         "title": {
          "text": "$\\text{Time in day}$"
         }
        },
        "yaxis": {
         "title": {
          "text": "$\\text{Tumour volume in cm}^3$"
         }
        }
       }
      }
     },
     "metadata": {}
    }
   ],
   "source": [
    "#\n",
    "# Visualise control growth data.\n",
    "#\n",
    "# This cell needs the cleaned lung cancer tumour growth data:\n",
    "# [lxf_data]\n",
    "#\n",
    "\n",
    "import plotly.colors\n",
    "import plotly.graph_objects as go\n",
    "\n",
    "\n",
    "# Get mouse ids\n",
    "mouse_ids = lxf_data['#ID'].unique()\n",
    "\n",
    "# Get number of mice\n",
    "n_mice = len(mouse_ids)\n",
    "\n",
    "# Define colorscheme\n",
    "colors = plotly.colors.qualitative.Plotly[:n_mice]\n",
    "\n",
    "# Create figure\n",
    "fig = go.Figure()\n",
    "\n",
    "# Scatter plot LXF A677 time-series data for each mouse\n",
    "for index, id_m in enumerate(mouse_ids):\n",
    "    # Create mask for mouse\n",
    "    mask = lxf_data['#ID'] == id_m\n",
    "\n",
    "    # Get time points for mouse\n",
    "    times = lxf_data['TIME in day'][mask]\n",
    "\n",
    "    # Get observed tumour volumes for mouse\n",
    "    observed_volumes = lxf_data['TUMOUR VOLUME in cm^3'][mask]\n",
    "\n",
    "    # Get mass time series\n",
    "    masses = lxf_data['BODY WEIGHT in g'][mask]\n",
    "\n",
    "    # Plot tumour volume over time\n",
    "    fig.add_trace(go.Scatter(\n",
    "        x=times,\n",
    "        y=observed_volumes,\n",
    "        name=\"ID: %d\" % id_m,\n",
    "        showlegend=True,\n",
    "        hovertemplate=\n",
    "            \"<b>ID: %d</b><br>\" % (id_m) +\n",
    "            \"Time: %{x:} day<br>\" +\n",
    "            \"Tumour volume: %{y:.02f} cm^3<br>\" +\n",
    "            \"Body weight: %{text}<br>\" +\n",
    "            \"Cancer type: Lung cancer (LXF A677)<br>\" +\n",
    "            \"<extra></extra>\",\n",
    "        text=['%.01f g' % mass for mass in masses],\n",
    "        mode=\"markers\",\n",
    "        marker=dict(\n",
    "            symbol='circle',\n",
    "            color=colors[index],\n",
    "            opacity=0.7,\n",
    "            line=dict(color='black', width=1))\n",
    "    ))\n",
    "\n",
    "    # Plot mass over time\n",
    "    fig.add_trace(go.Scatter(\n",
    "        x=times,\n",
    "        y=masses,\n",
    "        name=\"ID: %d\" % id_m,\n",
    "        showlegend=True,\n",
    "        visible=False,\n",
    "        hovertemplate=\n",
    "            \"<b>ID: %d</b><br>\" % (id_m) +\n",
    "            \"Time: %{x:} day<br>\" +\n",
    "            \"Tumour volume: %{y:.02f} cm^3<br>\" +\n",
    "            \"Body weight: %{text}<br>\" +\n",
    "            \"Cancer type: Lung cancer (LXF A677)<br>\" +\n",
    "            \"<extra></extra>\",\n",
    "        text=['%.01f g' % mass for mass in masses],\n",
    "        mode=\"markers\",\n",
    "        marker=dict(\n",
    "            symbol='circle',\n",
    "            color=colors[index],\n",
    "            opacity=0.7,\n",
    "            line=dict(color='black', width=1))\n",
    "    ))\n",
    "\n",
    "# Set X, Y axis and figure size\n",
    "fig.update_layout(\n",
    "    autosize=True,\n",
    "    xaxis_title=r'$\\text{Time in day}$',\n",
    "    yaxis_title=r'$\\text{Tumour volume in cm}^3$',\n",
    "    template=\"plotly_white\")\n",
    "\n",
    "# Add switch between linear and log y-scale\n",
    "fig.update_layout(\n",
    "    updatemenus=[\n",
    "        dict(\n",
    "            type = \"buttons\",\n",
    "            direction = \"left\",\n",
    "            buttons=list([\n",
    "                dict(\n",
    "                    args=[{\"yaxis.type\": \"linear\"}],\n",
    "                    label=\"Linear y-scale\",\n",
    "                    method=\"relayout\"\n",
    "                ),\n",
    "                dict(\n",
    "                    args=[{\"yaxis.type\": \"log\"}],\n",
    "                    label=\"Log y-scale\",\n",
    "                    method=\"relayout\"\n",
    "                )\n",
    "            ]),\n",
    "            pad={\"r\": 0, \"t\": -10},\n",
    "            showactive=True,\n",
    "            x=0.0,\n",
    "            xanchor=\"left\",\n",
    "            y=1.15,\n",
    "            yanchor=\"top\"\n",
    "        ),\n",
    "        dict(\n",
    "            type = \"buttons\",\n",
    "            direction = \"down\",\n",
    "            buttons=list([\n",
    "                dict(\n",
    "                    args=[\n",
    "                        {\"visible\": [True, False] * n_mice,},\n",
    "                        {\"yaxis\": {\"title\": r'$\\text{Tumour volume in cm}^3$'}}],\n",
    "                    label=\"Tumour volume\",\n",
    "                    method=\"update\"\n",
    "                ),\n",
    "                dict(\n",
    "                    args=[\n",
    "                        {\"visible\": [False, True] * n_mice}, \n",
    "                        {\"yaxis\": {\"title\": r'$\\text{Body weight in g}$'}}],\n",
    "                    label=\"Body weight\",\n",
    "                    method=\"update\"\n",
    "                ),\n",
    "            ]),\n",
    "            pad={\"r\": 0, \"t\": -10},\n",
    "            showactive=True,\n",
    "            x=1.07,\n",
    "            xanchor=\"left\",\n",
    "            y=1.1,\n",
    "            yanchor=\"top\"\n",
    "        ),\n",
    "    ]\n",
    ")\n",
    "\n",
    "# Position legend\n",
    "fig.update_layout(legend=dict(\n",
    "    yanchor=\"bottom\",\n",
    "    y=0.01,\n",
    "    xanchor=\"left\",\n",
    "    x=1.05))\n",
    "\n",
    "# Show figure\n",
    "fig.show()"
   ]
  },
  {
   "cell_type": "markdown",
   "metadata": {},
   "source": [
    "**Figure 1:** Untreated tumour growth of patient-derived tumour explants LXF A677 (adenocarcinoma of the lung) that were implanted in mice. The colouring of the data points indicates that the measurements belong to the same mouse. Mouse ID and further information can be explored by hovering over the data points. The evolution of the body weight can be explored using the buttons in the top right."
   ]
  },
  {
   "cell_type": "markdown",
   "metadata": {},
   "source": [
    "## Export cleaned data"
   ]
  },
  {
   "cell_type": "code",
   "execution_count": 18,
   "metadata": {},
   "outputs": [],
   "source": [
    "#\n",
    "# Export cleaned data sets for inference in other notebooks.\n",
    "#\n",
    "\n",
    "import os\n",
    "import pandas as pd\n",
    "\n",
    "\n",
    "# Get path of current working directory\n",
    "path = os.getcwd()\n",
    "\n",
    "# Export cleaned LXF A677 control growth data\n",
    "lxf_data.to_csv(path + '/data/lxf_control_growth.csv')"
   ]
  },
  {
   "cell_type": "markdown",
   "metadata": {},
   "source": [
    "## Bibliography\n",
    "\n",
    "- <a name=\"ref1\"> [1] </a> Eigenmann et. al., Combining Nonclinical Experiments with Translational PKPD Modeling to Differentiate Erlotinib and Gefitinib, Mol Cancer Ther (2016)"
   ]
  },
  {
   "cell_type": "markdown",
   "metadata": {},
   "source": [
    "[Back to project overview](https://github.com/DavAug/ErlotinibGefitinib/blob/master/README.md) | [Back to lung cancer control growth overview](https://nbviewer.jupyter.org/github/DavAug/ErlotinibGefitinib/blob/master/notebooks/lung_cancer/control_growth/overview.ipynb) | [Forward to next notebook](https://nbviewer.jupyter.org/github/DavAug/ErlotinibGefitinib/blob/master/notebooks/lung_cancer/control_growth/identifiability.ipynb)"
   ]
  }
 ],
 "metadata": {
  "kernelspec": {
   "display_name": "Python 3.7.5 64-bit ('venv': venv)",
   "language": "python",
   "name": "python37564bitvenvvenv6a1cf9e436c848d3930f390a42386651"
  },
  "language_info": {
   "codemirror_mode": {
    "name": "ipython",
    "version": 3
   },
   "file_extension": ".py",
   "mimetype": "text/x-python",
   "name": "python",
   "nbconvert_exporter": "python",
   "pygments_lexer": "ipython3",
   "version": "3.7.5-final"
  },
  "widgets": {
   "application/vnd.jupyter.widget-state+json": {
    "state": {},
    "version_major": 2,
    "version_minor": 0
   }
  }
 },
 "nbformat": 4,
 "nbformat_minor": 2
}