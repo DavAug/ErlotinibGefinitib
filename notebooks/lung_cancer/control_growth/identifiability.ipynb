{
 "cells": [
  {
   "cell_type": "markdown",
   "metadata": {},
   "source": [
    "# Identifiability of Structural Model for Lung Cancer Growth in Absence of Treatment\n",
    "\n",
    "The tumour growth inhibitory effects of Erlotinib and Gefitinib were modelled with a population PKPD model in [1]. A population PKPD model is a hierarchical model which consists of a structural model, a population model, and an error model. Each sub-model captures a different aspect of the tumour growth inhibition biology, and is parametrised by a set of parameters. \n",
    "\n",
    "In this notebook we explore the identifiability of the structural model reported in [1] for modelling the tumour growth of LXF A677 implants in mice in absence of treatment. In particular, we investigate the effect of log-transforming and non-dimensionalisation of the model parameters on the stability of the inference. "
   ]
  },
  {
   "cell_type": "markdown",
   "metadata": {},
   "source": [
    "## Structural growth model in absence of treatment\n",
    "\n",
    "In a PKPD model the structural model is a mechanistic or empirical description of the drug's pharmacokinetics (PK) and pharmacodynamics (PD). In other words, the PK model describes how the drug is distributed in the body upon administration, and in particular models the amount of the compound at the site of action over time. The PD model captures the drug's effects on the progression of the disease. 'Progression of the disease' may be quantified by any disease-related observable, such as biomarkers or in this case the tumour volume. As a result, a PD model does not only need to capture the disease progression under influence of the compound, but also needs to be able to describe its progresion in the absence of any treatment.\n",
    "\n",
    "In [1] a structural model is proposed for the tumour growth in absence of the compound, which assumes that the tumour grows exponentially for small tumour volumes, and linearly for large tumour volumes\n",
    "\n",
    "\\begin{equation*}\n",
    "    \\frac{\\text{d}V^s_T}{\\text{d}t} = \\frac{2\\lambda _0\\lambda _1 V^s_T}{2\\lambda _0 V^s_T + \\lambda _1}.\n",
    "\\end{equation*}\n",
    "\n",
    "Here, $V^s_T$ is the predicted tumour volume by the structural model, $\\lambda _0$ is the exponential growth rate, and $\\lambda _1$ is the linear growth rate. The tumour growth of an individual in absence of the drug is thus parameterised by three parameters\n",
    "\n",
    "\\begin{equation*}\n",
    "    \\psi = (V_0, \\lambda _0, \\lambda _1),\n",
    "\\end{equation*}\n",
    "\n",
    "where $V_0$ is the initial tumour volume, $V^s_T(t=0, \\psi) = V_0$."
   ]
  },
  {
   "cell_type": "markdown",
   "metadata": {},
   "source": [
    "## Identifiability\n",
    "\n",
    "The identifiability of parametric models is a multifacetted problem and has been addressed many times in the literature, e.g. [2, 3, 4]. Generally, identifiability of a model refers to the ability of inferring its parameters from data. In particular, under the assumption that the model is able to generate the data with a given set of model parameters, identifiability addresses the question of whether those parameters can be recovered from the data. In the PKPD modelling context, the identifiability of the structural model is of particular importance, as model parameters are often biologically interpretable. This allows to characterise biochemical properties of the compound based on the inferred model parameters, and even to translate PKPD models from preclinical to clinical application. \n",
    "\n",
    "In this study, we are interested to learn the structural model parameters $\\psi $ of the tumour growth in absence of the compound from a *in vivo* experiment reported in [1]. Here, patient-derived tumour explants LXF A677 (adenocarcinoma of the lung) were implanted in mice. The tumour growth was monitored over a period of 30 days, see the [Control Growth Data notebook](https://nbviewer.jupyter.org/github/DavAug/ErlotinibGefitinib/blob/master/notebooks/control_growth/data_preparation.ipynb) for details."
   ]
  },
  {
   "cell_type": "code",
   "execution_count": 59,
   "metadata": {},
   "outputs": [
    {
     "output_type": "display_data",
     "data": {
      "application/vnd.plotly.v1+json": {
       "config": {
        "plotlyServerURL": "https://plot.ly"
       },
       "data": [
        {
         "hovertemplate": "<b>ID: 40</b><br>Time: %{x:} day<br>Tumour volume: %{y:.02f} cm^3<br>Body weight: %{text}<br>Cancer type: Lung cancer (LXF A677)<br><extra></extra>",
         "marker": {
          "color": "#636EFA",
          "line": {
           "color": "black",
           "width": 1
          },
          "opacity": 0.7,
          "symbol": "circle"
         },
         "mode": "markers",
         "name": "ID: 40",
         "showlegend": true,
         "text": [
          "26.8 g",
          "26.1 g",
          "26.5 g",
          "26.5 g",
          "27.1 g",
          "26.0 g",
          "26.4 g",
          "26.0 g",
          "25.4 g",
          "26.2 g"
         ],
         "type": "scatter",
         "x": [
          0,
          2,
          4,
          7,
          9,
          11,
          14,
          16,
          18,
          21
         ],
         "y": [
          0.191808,
          0.249158,
          0.330672,
          0.6683669999999999,
          0.915008,
          1.119258,
          1.470432,
          1.6692479999999998,
          1.7521919999999997,
          2.276736
         ]
        },
        {
         "hovertemplate": "<b>ID: 40</b><br>Time: %{x:} day<br>Tumour volume: %{y:.02f} cm^3<br>Body weight: %{text}<br>Cancer type: Lung cancer (LXF A677)<br><extra></extra>",
         "marker": {
          "color": "#636EFA",
          "line": {
           "color": "black",
           "width": 1
          },
          "opacity": 0.7,
          "symbol": "circle"
         },
         "mode": "markers",
         "name": "ID: 40",
         "showlegend": true,
         "text": [
          "26.8 g",
          "26.1 g",
          "26.5 g",
          "26.5 g",
          "27.1 g",
          "26.0 g",
          "26.4 g",
          "26.0 g",
          "25.4 g",
          "26.2 g"
         ],
         "type": "scatter",
         "visible": false,
         "x": [
          0,
          2,
          4,
          7,
          9,
          11,
          14,
          16,
          18,
          21
         ],
         "y": [
          26.8,
          26.1,
          26.5,
          26.5,
          27.1,
          26,
          26.4,
          26,
          25.4,
          26.2
         ]
        },
        {
         "hovertemplate": "<b>ID: 94</b><br>Time: %{x:} day<br>Tumour volume: %{y:.02f} cm^3<br>Body weight: %{text}<br>Cancer type: Lung cancer (LXF A677)<br><extra></extra>",
         "marker": {
          "color": "#EF553B",
          "line": {
           "color": "black",
           "width": 1
          },
          "opacity": 0.7,
          "symbol": "circle"
         },
         "mode": "markers",
         "name": "ID: 94",
         "showlegend": true,
         "text": [
          "18.3 g",
          "18.2 g",
          "18.5 g",
          "18.3 g",
          "18.7 g",
          "17.9 g",
          "18.4 g",
          "18.2 g",
          "18.7 g",
          "20.0 g",
          "20.2 g",
          "20.3 g",
          "20.0 g",
          "19.2 g"
         ],
         "type": "scatter",
         "x": [
          0,
          2,
          4,
          7,
          9,
          11,
          14,
          16,
          18,
          21,
          23,
          25,
          28,
          30
         ],
         "y": [
          0.07724750000000001,
          0.0884835,
          0.125316,
          0.165528,
          0.189486,
          0.264654,
          0.264654,
          0.306936,
          0.389207,
          0.389207,
          0.405769,
          0.4264715,
          0.5551309999999999,
          0.57624
         ]
        },
        {
         "hovertemplate": "<b>ID: 94</b><br>Time: %{x:} day<br>Tumour volume: %{y:.02f} cm^3<br>Body weight: %{text}<br>Cancer type: Lung cancer (LXF A677)<br><extra></extra>",
         "marker": {
          "color": "#EF553B",
          "line": {
           "color": "black",
           "width": 1
          },
          "opacity": 0.7,
          "symbol": "circle"
         },
         "mode": "markers",
         "name": "ID: 94",
         "showlegend": true,
         "text": [
          "18.3 g",
          "18.2 g",
          "18.5 g",
          "18.3 g",
          "18.7 g",
          "17.9 g",
          "18.4 g",
          "18.2 g",
          "18.7 g",
          "20.0 g",
          "20.2 g",
          "20.3 g",
          "20.0 g",
          "19.2 g"
         ],
         "type": "scatter",
         "visible": false,
         "x": [
          0,
          2,
          4,
          7,
          9,
          11,
          14,
          16,
          18,
          21,
          23,
          25,
          28,
          30
         ],
         "y": [
          18.3,
          18.2,
          18.5,
          18.3,
          18.7,
          17.9,
          18.4,
          18.2,
          18.7,
          20,
          20.2,
          20.3,
          20,
          19.2
         ]
        },
        {
         "hovertemplate": "<b>ID: 95</b><br>Time: %{x:} day<br>Tumour volume: %{y:.02f} cm^3<br>Body weight: %{text}<br>Cancer type: Lung cancer (LXF A677)<br><extra></extra>",
         "marker": {
          "color": "#00CC96",
          "line": {
           "color": "black",
           "width": 1
          },
          "opacity": 0.7,
          "symbol": "circle"
         },
         "mode": "markers",
         "name": "ID: 95",
         "showlegend": true,
         "text": [
          "22.3 g",
          "23.0 g",
          "22.4 g",
          "23.6 g",
          "24.1 g",
          "22.7 g",
          "23.6 g",
          "23.3 g",
          "23.3 g",
          "23.3 g"
         ],
         "type": "scatter",
         "x": [
          0,
          2,
          4,
          7,
          9,
          11,
          14,
          16,
          18,
          21
         ],
         "y": [
          0.1862,
          0.24641999999999997,
          0.4293,
          0.62426,
          0.7246720000000001,
          0.7300800000000001,
          0.9196,
          1.131184,
          1.675872,
          2.346616
         ]
        },
        {
         "hovertemplate": "<b>ID: 95</b><br>Time: %{x:} day<br>Tumour volume: %{y:.02f} cm^3<br>Body weight: %{text}<br>Cancer type: Lung cancer (LXF A677)<br><extra></extra>",
         "marker": {
          "color": "#00CC96",
          "line": {
           "color": "black",
           "width": 1
          },
          "opacity": 0.7,
          "symbol": "circle"
         },
         "mode": "markers",
         "name": "ID: 95",
         "showlegend": true,
         "text": [
          "22.3 g",
          "23.0 g",
          "22.4 g",
          "23.6 g",
          "24.1 g",
          "22.7 g",
          "23.6 g",
          "23.3 g",
          "23.3 g",
          "23.3 g"
         ],
         "type": "scatter",
         "visible": false,
         "x": [
          0,
          2,
          4,
          7,
          9,
          11,
          14,
          16,
          18,
          21
         ],
         "y": [
          22.3,
          23,
          22.4,
          23.6,
          24.1,
          22.7,
          23.6,
          23.3,
          23.3,
          23.3
         ]
        },
        {
         "hovertemplate": "<b>ID: 136</b><br>Time: %{x:} day<br>Tumour volume: %{y:.02f} cm^3<br>Body weight: %{text}<br>Cancer type: Lung cancer (LXF A677)<br><extra></extra>",
         "marker": {
          "color": "#AB63FA",
          "line": {
           "color": "black",
           "width": 1
          },
          "opacity": 0.7,
          "symbol": "circle"
         },
         "mode": "markers",
         "name": "ID: 136",
         "showlegend": true,
         "text": [
          "25.4 g",
          "26.2 g",
          "28.3 g",
          "28.0 g",
          "25.1 g",
          "22.9 g",
          "24.1 g",
          "23.9 g",
          "23.0 g",
          "24.0 g",
          "23.7 g",
          "24.7 g",
          "24.6 g",
          "24.2 g"
         ],
         "type": "scatter",
         "x": [
          0,
          2,
          4,
          7,
          9,
          11,
          14,
          16,
          18,
          21,
          23,
          25,
          28,
          30
         ],
         "y": [
          0.1185885,
          0.175071,
          0.22999200000000006,
          0.3026885,
          0.3026885,
          0.37044,
          0.5341545,
          0.651688,
          0.7212869999999999,
          0.78732,
          0.8529505000000001,
          1.104558,
          1.1328799999999999,
          1.4593425
         ]
        },
        {
         "hovertemplate": "<b>ID: 136</b><br>Time: %{x:} day<br>Tumour volume: %{y:.02f} cm^3<br>Body weight: %{text}<br>Cancer type: Lung cancer (LXF A677)<br><extra></extra>",
         "marker": {
          "color": "#AB63FA",
          "line": {
           "color": "black",
           "width": 1
          },
          "opacity": 0.7,
          "symbol": "circle"
         },
         "mode": "markers",
         "name": "ID: 136",
         "showlegend": true,
         "text": [
          "25.4 g",
          "26.2 g",
          "28.3 g",
          "28.0 g",
          "25.1 g",
          "22.9 g",
          "24.1 g",
          "23.9 g",
          "23.0 g",
          "24.0 g",
          "23.7 g",
          "24.7 g",
          "24.6 g",
          "24.2 g"
         ],
         "type": "scatter",
         "visible": false,
         "x": [
          0,
          2,
          4,
          7,
          9,
          11,
          14,
          16,
          18,
          21,
          23,
          25,
          28,
          30
         ],
         "y": [
          25.4,
          26.2,
          28.3,
          28,
          25.1,
          22.9,
          24.1,
          23.9,
          23,
          24,
          23.7,
          24.7,
          24.6,
          24.2
         ]
        },
        {
         "hovertemplate": "<b>ID: 140</b><br>Time: %{x:} day<br>Tumour volume: %{y:.02f} cm^3<br>Body weight: %{text}<br>Cancer type: Lung cancer (LXF A677)<br><extra></extra>",
         "marker": {
          "color": "#FFA15A",
          "line": {
           "color": "black",
           "width": 1
          },
          "opacity": 0.7,
          "symbol": "circle"
         },
         "mode": "markers",
         "name": "ID: 140",
         "showlegend": true,
         "text": [
          "22.7 g",
          "23.6 g",
          "23.6 g",
          "24.4 g",
          "25.0 g",
          "23.5 g",
          "24.8 g",
          "24.3 g",
          "23.8 g",
          "23.3 g",
          "23.7 g",
          "24.8 g",
          "24.7 g",
          "24.1 g"
         ],
         "type": "scatter",
         "x": [
          0,
          2,
          4,
          7,
          9,
          11,
          14,
          16,
          18,
          21,
          23,
          25,
          28,
          30
         ],
         "y": [
          0.0793305,
          0.12685200000000002,
          0.146072,
          0.261121,
          0.34574400000000005,
          0.3552,
          0.41905,
          0.48029799999999995,
          0.556668,
          0.8089919999999999,
          0.8573040000000001,
          1.097675,
          1.992144,
          2.1225820000000004
         ]
        },
        {
         "hovertemplate": "<b>ID: 140</b><br>Time: %{x:} day<br>Tumour volume: %{y:.02f} cm^3<br>Body weight: %{text}<br>Cancer type: Lung cancer (LXF A677)<br><extra></extra>",
         "marker": {
          "color": "#FFA15A",
          "line": {
           "color": "black",
           "width": 1
          },
          "opacity": 0.7,
          "symbol": "circle"
         },
         "mode": "markers",
         "name": "ID: 140",
         "showlegend": true,
         "text": [
          "22.7 g",
          "23.6 g",
          "23.6 g",
          "24.4 g",
          "25.0 g",
          "23.5 g",
          "24.8 g",
          "24.3 g",
          "23.8 g",
          "23.3 g",
          "23.7 g",
          "24.8 g",
          "24.7 g",
          "24.1 g"
         ],
         "type": "scatter",
         "visible": false,
         "x": [
          0,
          2,
          4,
          7,
          9,
          11,
          14,
          16,
          18,
          21,
          23,
          25,
          28,
          30
         ],
         "y": [
          22.7,
          23.6,
          23.6,
          24.4,
          25,
          23.5,
          24.8,
          24.3,
          23.8,
          23.3,
          23.7,
          24.8,
          24.7,
          24.1
         ]
        },
        {
         "hovertemplate": "<b>ID: 155</b><br>Time: %{x:} day<br>Tumour volume: %{y:.02f} cm^3<br>Body weight: %{text}<br>Cancer type: Lung cancer (LXF A677)<br><extra></extra>",
         "marker": {
          "color": "#19D3F3",
          "line": {
           "color": "black",
           "width": 1
          },
          "opacity": 0.7,
          "symbol": "circle"
         },
         "mode": "markers",
         "name": "ID: 155",
         "showlegend": true,
         "text": [
          "26.0 g",
          "27.3 g",
          "27.5 g",
          "28.2 g",
          "28.7 g",
          "27.9 g",
          "28.6 g",
          "29.0 g",
          "28.0 g",
          "28.9 g",
          "28.5 g",
          "29.6 g"
         ],
         "type": "scatter",
         "x": [
          0,
          2,
          4,
          7,
          9,
          11,
          14,
          16,
          18,
          21,
          23,
          25
         ],
         "y": [
          0.105875,
          0.167706,
          0.35632800000000003,
          0.6489600000000001,
          0.692224,
          0.7300800000000001,
          0.81648,
          1.4949540000000001,
          1.5166985,
          1.72405,
          1.637784,
          2.25108
         ]
        },
        {
         "hovertemplate": "<b>ID: 155</b><br>Time: %{x:} day<br>Tumour volume: %{y:.02f} cm^3<br>Body weight: %{text}<br>Cancer type: Lung cancer (LXF A677)<br><extra></extra>",
         "marker": {
          "color": "#19D3F3",
          "line": {
           "color": "black",
           "width": 1
          },
          "opacity": 0.7,
          "symbol": "circle"
         },
         "mode": "markers",
         "name": "ID: 155",
         "showlegend": true,
         "text": [
          "26.0 g",
          "27.3 g",
          "27.5 g",
          "28.2 g",
          "28.7 g",
          "27.9 g",
          "28.6 g",
          "29.0 g",
          "28.0 g",
          "28.9 g",
          "28.5 g",
          "29.6 g"
         ],
         "type": "scatter",
         "visible": false,
         "x": [
          0,
          2,
          4,
          7,
          9,
          11,
          14,
          16,
          18,
          21,
          23,
          25
         ],
         "y": [
          26,
          27.3,
          27.5,
          28.2,
          28.7,
          27.9,
          28.6,
          29,
          28,
          28.9,
          28.5,
          29.6
         ]
        },
        {
         "hovertemplate": "<b>ID: 169</b><br>Time: %{x:} day<br>Tumour volume: %{y:.02f} cm^3<br>Body weight: %{text}<br>Cancer type: Lung cancer (LXF A677)<br><extra></extra>",
         "marker": {
          "color": "#FF6692",
          "line": {
           "color": "black",
           "width": 1
          },
          "opacity": 0.7,
          "symbol": "circle"
         },
         "mode": "markers",
         "name": "ID: 169",
         "showlegend": true,
         "text": [
          "26.9 g",
          "26.8 g",
          "26.2 g",
          "26.2 g",
          "27.3 g",
          "26.6 g",
          "28.0 g",
          "27.6 g",
          "26.6 g",
          "27.9 g",
          "27.4 g",
          "28.6 g",
          "27.5 g",
          "28.0 g"
         ],
         "type": "scatter",
         "x": [
          0,
          2,
          4,
          7,
          9,
          11,
          14,
          16,
          18,
          21,
          23,
          25,
          28,
          30
         ],
         "y": [
          0.123008,
          0.128774,
          0.1764,
          0.20516650000000006,
          0.24605349999999998,
          0.2788425,
          0.333036,
          0.35644499999999996,
          0.39285,
          0.479859,
          0.5390550000000001,
          0.6354195,
          0.7146180000000001,
          0.7469865
         ]
        },
        {
         "hovertemplate": "<b>ID: 169</b><br>Time: %{x:} day<br>Tumour volume: %{y:.02f} cm^3<br>Body weight: %{text}<br>Cancer type: Lung cancer (LXF A677)<br><extra></extra>",
         "marker": {
          "color": "#FF6692",
          "line": {
           "color": "black",
           "width": 1
          },
          "opacity": 0.7,
          "symbol": "circle"
         },
         "mode": "markers",
         "name": "ID: 169",
         "showlegend": true,
         "text": [
          "26.9 g",
          "26.8 g",
          "26.2 g",
          "26.2 g",
          "27.3 g",
          "26.6 g",
          "28.0 g",
          "27.6 g",
          "26.6 g",
          "27.9 g",
          "27.4 g",
          "28.6 g",
          "27.5 g",
          "28.0 g"
         ],
         "type": "scatter",
         "visible": false,
         "x": [
          0,
          2,
          4,
          7,
          9,
          11,
          14,
          16,
          18,
          21,
          23,
          25,
          28,
          30
         ],
         "y": [
          26.9,
          26.8,
          26.2,
          26.2,
          27.3,
          26.6,
          28,
          27.6,
          26.6,
          27.9,
          27.4,
          28.6,
          27.5,
          28
         ]
        },
        {
         "hovertemplate": "<b>ID: 170</b><br>Time: %{x:} day<br>Tumour volume: %{y:.02f} cm^3<br>Body weight: %{text}<br>Cancer type: Lung cancer (LXF A677)<br><extra></extra>",
         "marker": {
          "color": "#B6E880",
          "line": {
           "color": "black",
           "width": 1
          },
          "opacity": 0.7,
          "symbol": "circle"
         },
         "mode": "markers",
         "name": "ID: 170",
         "showlegend": true,
         "text": [
          "28.3 g",
          "27.7 g",
          "27.9 g",
          "28.8 g",
          "29.3 g",
          "28.6 g",
          "29.5 g",
          "28.9 g",
          "26.8 g",
          "28.7 g",
          "27.3 g",
          "28.7 g",
          "28.5 g",
          "27.5 g"
         ],
         "type": "scatter",
         "x": [
          0,
          2,
          4,
          7,
          9,
          11,
          14,
          16,
          18,
          21,
          23,
          25,
          28,
          30
         ],
         "y": [
          0.0800565,
          0.094221,
          0.10933,
          0.158994,
          0.17615699999999998,
          0.19407850000000001,
          0.2041605,
          0.246402,
          0.3050865,
          0.3683265,
          0.41817600000000005,
          0.4396155,
          0.5661554999999999,
          0.6206265000000001
         ]
        },
        {
         "hovertemplate": "<b>ID: 170</b><br>Time: %{x:} day<br>Tumour volume: %{y:.02f} cm^3<br>Body weight: %{text}<br>Cancer type: Lung cancer (LXF A677)<br><extra></extra>",
         "marker": {
          "color": "#B6E880",
          "line": {
           "color": "black",
           "width": 1
          },
          "opacity": 0.7,
          "symbol": "circle"
         },
         "mode": "markers",
         "name": "ID: 170",
         "showlegend": true,
         "text": [
          "28.3 g",
          "27.7 g",
          "27.9 g",
          "28.8 g",
          "29.3 g",
          "28.6 g",
          "29.5 g",
          "28.9 g",
          "26.8 g",
          "28.7 g",
          "27.3 g",
          "28.7 g",
          "28.5 g",
          "27.5 g"
         ],
         "type": "scatter",
         "visible": false,
         "x": [
          0,
          2,
          4,
          7,
          9,
          11,
          14,
          16,
          18,
          21,
          23,
          25,
          28,
          30
         ],
         "y": [
          28.3,
          27.7,
          27.9,
          28.8,
          29.3,
          28.6,
          29.5,
          28.9,
          26.8,
          28.7,
          27.3,
          28.7,
          28.5,
          27.5
         ]
        }
       ],
       "layout": {
        "autosize": true,
        "legend": {
         "x": 1.05,
         "xanchor": "left",
         "y": 0.01,
         "yanchor": "bottom"
        },
        "template": {
         "data": {
          "bar": [
           {
            "error_x": {
             "color": "#2a3f5f"
            },
            "error_y": {
             "color": "#2a3f5f"
            },
            "marker": {
             "line": {
              "color": "white",
              "width": 0.5
             }
            },
            "type": "bar"
           }
          ],
          "barpolar": [
           {
            "marker": {
             "line": {
              "color": "white",
              "width": 0.5
             }
            },
            "type": "barpolar"
           }
          ],
          "carpet": [
           {
            "aaxis": {
             "endlinecolor": "#2a3f5f",
             "gridcolor": "#C8D4E3",
             "linecolor": "#C8D4E3",
             "minorgridcolor": "#C8D4E3",
             "startlinecolor": "#2a3f5f"
            },
            "baxis": {
             "endlinecolor": "#2a3f5f",
             "gridcolor": "#C8D4E3",
             "linecolor": "#C8D4E3",
             "minorgridcolor": "#C8D4E3",
             "startlinecolor": "#2a3f5f"
            },
            "type": "carpet"
           }
          ],
          "choropleth": [
           {
            "colorbar": {
             "outlinewidth": 0,
             "ticks": ""
            },
            "type": "choropleth"
           }
          ],
          "contour": [
           {
            "colorbar": {
             "outlinewidth": 0,
             "ticks": ""
            },
            "colorscale": [
             [
              0,
              "#0d0887"
             ],
             [
              0.1111111111111111,
              "#46039f"
             ],
             [
              0.2222222222222222,
              "#7201a8"
             ],
             [
              0.3333333333333333,
              "#9c179e"
             ],
             [
              0.4444444444444444,
              "#bd3786"
             ],
             [
              0.5555555555555556,
              "#d8576b"
             ],
             [
              0.6666666666666666,
              "#ed7953"
             ],
             [
              0.7777777777777778,
              "#fb9f3a"
             ],
             [
              0.8888888888888888,
              "#fdca26"
             ],
             [
              1,
              "#f0f921"
             ]
            ],
            "type": "contour"
           }
          ],
          "contourcarpet": [
           {
            "colorbar": {
             "outlinewidth": 0,
             "ticks": ""
            },
            "type": "contourcarpet"
           }
          ],
          "heatmap": [
           {
            "colorbar": {
             "outlinewidth": 0,
             "ticks": ""
            },
            "colorscale": [
             [
              0,
              "#0d0887"
             ],
             [
              0.1111111111111111,
              "#46039f"
             ],
             [
              0.2222222222222222,
              "#7201a8"
             ],
             [
              0.3333333333333333,
              "#9c179e"
             ],
             [
              0.4444444444444444,
              "#bd3786"
             ],
             [
              0.5555555555555556,
              "#d8576b"
             ],
             [
              0.6666666666666666,
              "#ed7953"
             ],
             [
              0.7777777777777778,
              "#fb9f3a"
             ],
             [
              0.8888888888888888,
              "#fdca26"
             ],
             [
              1,
              "#f0f921"
             ]
            ],
            "type": "heatmap"
           }
          ],
          "heatmapgl": [
           {
            "colorbar": {
             "outlinewidth": 0,
             "ticks": ""
            },
            "colorscale": [
             [
              0,
              "#0d0887"
             ],
             [
              0.1111111111111111,
              "#46039f"
             ],
             [
              0.2222222222222222,
              "#7201a8"
             ],
             [
              0.3333333333333333,
              "#9c179e"
             ],
             [
              0.4444444444444444,
              "#bd3786"
             ],
             [
              0.5555555555555556,
              "#d8576b"
             ],
             [
              0.6666666666666666,
              "#ed7953"
             ],
             [
              0.7777777777777778,
              "#fb9f3a"
             ],
             [
              0.8888888888888888,
              "#fdca26"
             ],
             [
              1,
              "#f0f921"
             ]
            ],
            "type": "heatmapgl"
           }
          ],
          "histogram": [
           {
            "marker": {
             "colorbar": {
              "outlinewidth": 0,
              "ticks": ""
             }
            },
            "type": "histogram"
           }
          ],
          "histogram2d": [
           {
            "colorbar": {
             "outlinewidth": 0,
             "ticks": ""
            },
            "colorscale": [
             [
              0,
              "#0d0887"
             ],
             [
              0.1111111111111111,
              "#46039f"
             ],
             [
              0.2222222222222222,
              "#7201a8"
             ],
             [
              0.3333333333333333,
              "#9c179e"
             ],
             [
              0.4444444444444444,
              "#bd3786"
             ],
             [
              0.5555555555555556,
              "#d8576b"
             ],
             [
              0.6666666666666666,
              "#ed7953"
             ],
             [
              0.7777777777777778,
              "#fb9f3a"
             ],
             [
              0.8888888888888888,
              "#fdca26"
             ],
             [
              1,
              "#f0f921"
             ]
            ],
            "type": "histogram2d"
           }
          ],
          "histogram2dcontour": [
           {
            "colorbar": {
             "outlinewidth": 0,
             "ticks": ""
            },
            "colorscale": [
             [
              0,
              "#0d0887"
             ],
             [
              0.1111111111111111,
              "#46039f"
             ],
             [
              0.2222222222222222,
              "#7201a8"
             ],
             [
              0.3333333333333333,
              "#9c179e"
             ],
             [
              0.4444444444444444,
              "#bd3786"
             ],
             [
              0.5555555555555556,
              "#d8576b"
             ],
             [
              0.6666666666666666,
              "#ed7953"
             ],
             [
              0.7777777777777778,
              "#fb9f3a"
             ],
             [
              0.8888888888888888,
              "#fdca26"
             ],
             [
              1,
              "#f0f921"
             ]
            ],
            "type": "histogram2dcontour"
           }
          ],
          "mesh3d": [
           {
            "colorbar": {
             "outlinewidth": 0,
             "ticks": ""
            },
            "type": "mesh3d"
           }
          ],
          "parcoords": [
           {
            "line": {
             "colorbar": {
              "outlinewidth": 0,
              "ticks": ""
             }
            },
            "type": "parcoords"
           }
          ],
          "pie": [
           {
            "automargin": true,
            "type": "pie"
           }
          ],
          "scatter": [
           {
            "marker": {
             "colorbar": {
              "outlinewidth": 0,
              "ticks": ""
             }
            },
            "type": "scatter"
           }
          ],
          "scatter3d": [
           {
            "line": {
             "colorbar": {
              "outlinewidth": 0,
              "ticks": ""
             }
            },
            "marker": {
             "colorbar": {
              "outlinewidth": 0,
              "ticks": ""
             }
            },
            "type": "scatter3d"
           }
          ],
          "scattercarpet": [
           {
            "marker": {
             "colorbar": {
              "outlinewidth": 0,
              "ticks": ""
             }
            },
            "type": "scattercarpet"
           }
          ],
          "scattergeo": [
           {
            "marker": {
             "colorbar": {
              "outlinewidth": 0,
              "ticks": ""
             }
            },
            "type": "scattergeo"
           }
          ],
          "scattergl": [
           {
            "marker": {
             "colorbar": {
              "outlinewidth": 0,
              "ticks": ""
             }
            },
            "type": "scattergl"
           }
          ],
          "scattermapbox": [
           {
            "marker": {
             "colorbar": {
              "outlinewidth": 0,
              "ticks": ""
             }
            },
            "type": "scattermapbox"
           }
          ],
          "scatterpolar": [
           {
            "marker": {
             "colorbar": {
              "outlinewidth": 0,
              "ticks": ""
             }
            },
            "type": "scatterpolar"
           }
          ],
          "scatterpolargl": [
           {
            "marker": {
             "colorbar": {
              "outlinewidth": 0,
              "ticks": ""
             }
            },
            "type": "scatterpolargl"
           }
          ],
          "scatterternary": [
           {
            "marker": {
             "colorbar": {
              "outlinewidth": 0,
              "ticks": ""
             }
            },
            "type": "scatterternary"
           }
          ],
          "surface": [
           {
            "colorbar": {
             "outlinewidth": 0,
             "ticks": ""
            },
            "colorscale": [
             [
              0,
              "#0d0887"
             ],
             [
              0.1111111111111111,
              "#46039f"
             ],
             [
              0.2222222222222222,
              "#7201a8"
             ],
             [
              0.3333333333333333,
              "#9c179e"
             ],
             [
              0.4444444444444444,
              "#bd3786"
             ],
             [
              0.5555555555555556,
              "#d8576b"
             ],
             [
              0.6666666666666666,
              "#ed7953"
             ],
             [
              0.7777777777777778,
              "#fb9f3a"
             ],
             [
              0.8888888888888888,
              "#fdca26"
             ],
             [
              1,
              "#f0f921"
             ]
            ],
            "type": "surface"
           }
          ],
          "table": [
           {
            "cells": {
             "fill": {
              "color": "#EBF0F8"
             },
             "line": {
              "color": "white"
             }
            },
            "header": {
             "fill": {
              "color": "#C8D4E3"
             },
             "line": {
              "color": "white"
             }
            },
            "type": "table"
           }
          ]
         },
         "layout": {
          "annotationdefaults": {
           "arrowcolor": "#2a3f5f",
           "arrowhead": 0,
           "arrowwidth": 1
          },
          "coloraxis": {
           "colorbar": {
            "outlinewidth": 0,
            "ticks": ""
           }
          },
          "colorscale": {
           "diverging": [
            [
             0,
             "#8e0152"
            ],
            [
             0.1,
             "#c51b7d"
            ],
            [
             0.2,
             "#de77ae"
            ],
            [
             0.3,
             "#f1b6da"
            ],
            [
             0.4,
             "#fde0ef"
            ],
            [
             0.5,
             "#f7f7f7"
            ],
            [
             0.6,
             "#e6f5d0"
            ],
            [
             0.7,
             "#b8e186"
            ],
            [
             0.8,
             "#7fbc41"
            ],
            [
             0.9,
             "#4d9221"
            ],
            [
             1,
             "#276419"
            ]
           ],
           "sequential": [
            [
             0,
             "#0d0887"
            ],
            [
             0.1111111111111111,
             "#46039f"
            ],
            [
             0.2222222222222222,
             "#7201a8"
            ],
            [
             0.3333333333333333,
             "#9c179e"
            ],
            [
             0.4444444444444444,
             "#bd3786"
            ],
            [
             0.5555555555555556,
             "#d8576b"
            ],
            [
             0.6666666666666666,
             "#ed7953"
            ],
            [
             0.7777777777777778,
             "#fb9f3a"
            ],
            [
             0.8888888888888888,
             "#fdca26"
            ],
            [
             1,
             "#f0f921"
            ]
           ],
           "sequentialminus": [
            [
             0,
             "#0d0887"
            ],
            [
             0.1111111111111111,
             "#46039f"
            ],
            [
             0.2222222222222222,
             "#7201a8"
            ],
            [
             0.3333333333333333,
             "#9c179e"
            ],
            [
             0.4444444444444444,
             "#bd3786"
            ],
            [
             0.5555555555555556,
             "#d8576b"
            ],
            [
             0.6666666666666666,
             "#ed7953"
            ],
            [
             0.7777777777777778,
             "#fb9f3a"
            ],
            [
             0.8888888888888888,
             "#fdca26"
            ],
            [
             1,
             "#f0f921"
            ]
           ]
          },
          "colorway": [
           "#636efa",
           "#EF553B",
           "#00cc96",
           "#ab63fa",
           "#FFA15A",
           "#19d3f3",
           "#FF6692",
           "#B6E880",
           "#FF97FF",
           "#FECB52"
          ],
          "font": {
           "color": "#2a3f5f"
          },
          "geo": {
           "bgcolor": "white",
           "lakecolor": "white",
           "landcolor": "white",
           "showlakes": true,
           "showland": true,
           "subunitcolor": "#C8D4E3"
          },
          "hoverlabel": {
           "align": "left"
          },
          "hovermode": "closest",
          "mapbox": {
           "style": "light"
          },
          "paper_bgcolor": "white",
          "plot_bgcolor": "white",
          "polar": {
           "angularaxis": {
            "gridcolor": "#EBF0F8",
            "linecolor": "#EBF0F8",
            "ticks": ""
           },
           "bgcolor": "white",
           "radialaxis": {
            "gridcolor": "#EBF0F8",
            "linecolor": "#EBF0F8",
            "ticks": ""
           }
          },
          "scene": {
           "xaxis": {
            "backgroundcolor": "white",
            "gridcolor": "#DFE8F3",
            "gridwidth": 2,
            "linecolor": "#EBF0F8",
            "showbackground": true,
            "ticks": "",
            "zerolinecolor": "#EBF0F8"
           },
           "yaxis": {
            "backgroundcolor": "white",
            "gridcolor": "#DFE8F3",
            "gridwidth": 2,
            "linecolor": "#EBF0F8",
            "showbackground": true,
            "ticks": "",
            "zerolinecolor": "#EBF0F8"
           },
           "zaxis": {
            "backgroundcolor": "white",
            "gridcolor": "#DFE8F3",
            "gridwidth": 2,
            "linecolor": "#EBF0F8",
            "showbackground": true,
            "ticks": "",
            "zerolinecolor": "#EBF0F8"
           }
          },
          "shapedefaults": {
           "line": {
            "color": "#2a3f5f"
           }
          },
          "ternary": {
           "aaxis": {
            "gridcolor": "#DFE8F3",
            "linecolor": "#A2B1C6",
            "ticks": ""
           },
           "baxis": {
            "gridcolor": "#DFE8F3",
            "linecolor": "#A2B1C6",
            "ticks": ""
           },
           "bgcolor": "white",
           "caxis": {
            "gridcolor": "#DFE8F3",
            "linecolor": "#A2B1C6",
            "ticks": ""
           }
          },
          "title": {
           "x": 0.05
          },
          "xaxis": {
           "automargin": true,
           "gridcolor": "#EBF0F8",
           "linecolor": "#EBF0F8",
           "ticks": "",
           "title": {
            "standoff": 15
           },
           "zerolinecolor": "#EBF0F8",
           "zerolinewidth": 2
          },
          "yaxis": {
           "automargin": true,
           "gridcolor": "#EBF0F8",
           "linecolor": "#EBF0F8",
           "ticks": "",
           "title": {
            "standoff": 15
           },
           "zerolinecolor": "#EBF0F8",
           "zerolinewidth": 2
          }
         }
        },
        "updatemenus": [
         {
          "buttons": [
           {
            "args": [
             {
              "yaxis.type": "linear"
             }
            ],
            "label": "Linear y-scale",
            "method": "relayout"
           },
           {
            "args": [
             {
              "yaxis.type": "log"
             }
            ],
            "label": "Log y-scale",
            "method": "relayout"
           }
          ],
          "direction": "left",
          "pad": {
           "r": 0,
           "t": -10
          },
          "showactive": true,
          "type": "buttons",
          "x": 0,
          "xanchor": "left",
          "y": 1.15,
          "yanchor": "top"
         },
         {
          "buttons": [
           {
            "args": [
             {
              "visible": [
               true,
               false,
               true,
               false,
               true,
               false,
               true,
               false,
               true,
               false,
               true,
               false,
               true,
               false,
               true,
               false
              ]
             },
             {
              "yaxis": {
               "title": "$\\text{Tumour volume in cm}^3$"
              }
             }
            ],
            "label": "Tumour volume",
            "method": "update"
           },
           {
            "args": [
             {
              "visible": [
               false,
               true,
               false,
               true,
               false,
               true,
               false,
               true,
               false,
               true,
               false,
               true,
               false,
               true,
               false,
               true
              ]
             },
             {
              "yaxis": {
               "title": "$\\text{Body weight in g}$"
              }
             }
            ],
            "label": "Body weight",
            "method": "update"
           }
          ],
          "direction": "down",
          "pad": {
           "r": 0,
           "t": -10
          },
          "showactive": true,
          "type": "buttons",
          "x": 1.07,
          "xanchor": "left",
          "y": 1.1,
          "yanchor": "top"
         }
        ],
        "xaxis": {
         "title": {
          "text": "$\\text{Time in day}$"
         }
        },
        "yaxis": {
         "title": {
          "text": "$\\text{Tumour volume in cm}^3$"
         }
        }
       }
      }
     },
     "metadata": {}
    }
   ],
   "source": [
    "#\n",
    "# Visualise control growth data.\n",
    "#\n",
    "\n",
    "import os\n",
    "\n",
    "import pandas as pd\n",
    "import plotly.colors\n",
    "import plotly.graph_objects as go\n",
    "\n",
    "\n",
    "# Import data\n",
    "# Get path of current working directory\n",
    "path = os.getcwd()\n",
    "\n",
    "# Import LXF A677 control growth data\n",
    "data = pd.read_csv(path + '/data/lxf_control_growth.csv')\n",
    "\n",
    "# Get mouse ids\n",
    "mouse_ids = data['#ID'].unique()\n",
    "\n",
    "# Get number of mice\n",
    "n_mice = len(mouse_ids)\n",
    "\n",
    "# Define colorscheme\n",
    "colors = plotly.colors.qualitative.Plotly[:n_mice]\n",
    "\n",
    "# Create figure\n",
    "fig = go.Figure()\n",
    "\n",
    "# Scatter plot LXF A677 time-series data for each mouse\n",
    "for index, id_m in enumerate(mouse_ids):\n",
    "    # Create mask for mouse\n",
    "    mask = data['#ID'] == id_m\n",
    "\n",
    "    # Get time points for mouse\n",
    "    times = data['TIME in day'][mask]\n",
    "\n",
    "    # Get observed tumour volumes for mouse\n",
    "    observed_volumes = data['TUMOUR VOLUME in cm^3'][mask]\n",
    "\n",
    "    # Get mass time series\n",
    "    masses = data['BODY WEIGHT in g'][mask]\n",
    "\n",
    "    # Plot tumour volume over time\n",
    "    fig.add_trace(go.Scatter(\n",
    "        x=times,\n",
    "        y=observed_volumes,\n",
    "        name=\"ID: %d\" % id_m,\n",
    "        showlegend=True,\n",
    "        hovertemplate=\n",
    "            \"<b>ID: %d</b><br>\" % (id_m) +\n",
    "            \"Time: %{x:} day<br>\" +\n",
    "            \"Tumour volume: %{y:.02f} cm^3<br>\" +\n",
    "            \"Body weight: %{text}<br>\" +\n",
    "            \"Cancer type: Lung cancer (LXF A677)<br>\" +\n",
    "            \"<extra></extra>\",\n",
    "        text=['%.01f g' % mass for mass in masses],\n",
    "        mode=\"markers\",\n",
    "        marker=dict(\n",
    "            symbol='circle',\n",
    "            color=colors[index],\n",
    "            opacity=0.7,\n",
    "            line=dict(color='black', width=1))\n",
    "    ))\n",
    "\n",
    "    # Plot mass over time\n",
    "    fig.add_trace(go.Scatter(\n",
    "        x=times,\n",
    "        y=masses,\n",
    "        name=\"ID: %d\" % id_m,\n",
    "        showlegend=True,\n",
    "        visible=False,\n",
    "        hovertemplate=\n",
    "            \"<b>ID: %d</b><br>\" % (id_m) +\n",
    "            \"Time: %{x:} day<br>\" +\n",
    "            \"Tumour volume: %{y:.02f} cm^3<br>\" +\n",
    "            \"Body weight: %{text}<br>\" +\n",
    "            \"Cancer type: Lung cancer (LXF A677)<br>\" +\n",
    "            \"<extra></extra>\",\n",
    "        text=['%.01f g' % mass for mass in masses],\n",
    "        mode=\"markers\",\n",
    "        marker=dict(\n",
    "            symbol='circle',\n",
    "            color=colors[index],\n",
    "            opacity=0.7,\n",
    "            line=dict(color='black', width=1))\n",
    "    ))\n",
    "\n",
    "# Set X, Y axis and figure size\n",
    "fig.update_layout(\n",
    "    autosize=True,\n",
    "    xaxis_title=r'$\\text{Time in day}$',\n",
    "    yaxis_title=r'$\\text{Tumour volume in cm}^3$',\n",
    "    template=\"plotly_white\")\n",
    "\n",
    "# Add switch between linear and log y-scale\n",
    "fig.update_layout(\n",
    "    updatemenus=[\n",
    "        dict(\n",
    "            type = \"buttons\",\n",
    "            direction = \"left\",\n",
    "            buttons=list([\n",
    "                dict(\n",
    "                    args=[{\"yaxis.type\": \"linear\"}],\n",
    "                    label=\"Linear y-scale\",\n",
    "                    method=\"relayout\"\n",
    "                ),\n",
    "                dict(\n",
    "                    args=[{\"yaxis.type\": \"log\"}],\n",
    "                    label=\"Log y-scale\",\n",
    "                    method=\"relayout\"\n",
    "                )\n",
    "            ]),\n",
    "            pad={\"r\": 0, \"t\": -10},\n",
    "            showactive=True,\n",
    "            x=0.0,\n",
    "            xanchor=\"left\",\n",
    "            y=1.15,\n",
    "            yanchor=\"top\"\n",
    "        ),\n",
    "        dict(\n",
    "            type = \"buttons\",\n",
    "            direction = \"down\",\n",
    "            buttons=list([\n",
    "                dict(\n",
    "                    args=[\n",
    "                        {\"visible\": [True, False] * n_mice,},\n",
    "                        {\"yaxis\": {\"title\": r'$\\text{Tumour volume in cm}^3$'}}],\n",
    "                    label=\"Tumour volume\",\n",
    "                    method=\"update\"\n",
    "                ),\n",
    "                dict(\n",
    "                    args=[\n",
    "                        {\"visible\": [False, True] * n_mice}, \n",
    "                        {\"yaxis\": {\"title\": r'$\\text{Body weight in g}$'}}],\n",
    "                    label=\"Body weight\",\n",
    "                    method=\"update\"\n",
    "                ),\n",
    "            ]),\n",
    "            pad={\"r\": 0, \"t\": -10},\n",
    "            showactive=True,\n",
    "            x=1.07,\n",
    "            xanchor=\"left\",\n",
    "            y=1.1,\n",
    "            yanchor=\"top\"\n",
    "        ),\n",
    "    ]\n",
    ")\n",
    "\n",
    "# Position legend\n",
    "fig.update_layout(legend=dict(\n",
    "    yanchor=\"bottom\",\n",
    "    y=0.01,\n",
    "    xanchor=\"left\",\n",
    "    x=1.05))\n",
    "\n",
    "# Show figure\n",
    "fig.show()"
   ]
  },
  {
   "cell_type": "markdown",
   "metadata": {},
   "source": [
    "**Figure 1:** Untreated tumour growth of patient-derived tumour explants LXF A677 (adenocarcinoma of the lung) that were implanted in mice. The colouring of the data points indicates that the measurements belong to the same mouse. Mouse ID and further information can be explored by hovering over the data points. The evolution of the body weight can be explored using the buttons in the top right."
   ]
  },
  {
   "cell_type": "markdown",
   "metadata": {},
   "source": [
    "## Naïve optimisation of model parameters\n",
    "\n",
    "Let us begin the exploration of the identifiability of the model by attempting to find an optimal set of model parameters $\\psi $ for each mouse. Typically such a set of optimal parameters can be found by defining an objective function and an optimisation algorithm. The objective function $L(\\psi | V^{\\text{obs}}_{T})$ quantifies how close the model predictions $V^s_T(t_i, \\psi)$ for a given set of model parameters $\\psi $ are to the observed data $V^{\\text{obs}}_{T, i}$. There are many choices for objective funtions. We somewhat arbitrarily chose the Squared Distance Error Measure\n",
    "\n",
    "\\begin{equation*}\n",
    "    L(\\psi | V^\\text{obs}_{T}) = \\sum ^{n}_{i=1}\\left( V^\\text{obs}_{T, i} - V^s_T(t_i, \\psi)\\right) ^2,\n",
    "\\end{equation*}\n",
    "\n",
    "where $n$ is the number of measurements, $V^\\text{obs}_{T, i}$ is the measured tumour volume at time $t_i$ and $V^s_T(t_i, \\psi)$ is the model prediction at time $t_i$ for model parameters $\\psi $. This objective function is greater or equal to zero for all $\\psi $, and only vanishes for a model parameter set $\\hat \\psi $ for which the model identically reproduces the observations. We would like to find this parameter set.\n",
    "\n",
    "For real measurements, the measurement process alone will make it improbable that the model will be able to reproduce the observations exactly, as measurement noise introduces deviations from the true underlying process. As a result, we are forced to weaken our condition for an optimal parameter set and look for the set of parameters $\\hat \\psi $ that globally minimise the objective function $L$. Note that this step introduces uncertainty into the modelling process, not only because we can no longer decide whether a given set of parameters is optimal by just looking at its objective function score, but also because it's much harder to decide whether the deviations from the observations are due to noise or due to the wrong modelling choice.\n",
    "\n",
    "Reserving the problem of model selection for later, there are many algorithms that are designed to find the global minimum of an objective function. One of those algorithms is the Covariance Matrix Adaptation Evolution Strategy (CMA-ES) optimiser [5]. We will choose to minimise the objective $L$ with this algorithm, but other choices are equally valid. From a naïve perspective, we can choose any initial starting point $\\psi _0 $ for the optimisation algorithm, as the true global minimum is independent of the method we use to find it. We therefore choose to start the optimisation somewhat arbitrarily at $\\psi _0 = (1, 1, 1)$."
   ]
  },
  {
   "cell_type": "code",
   "execution_count": 5,
   "metadata": {
    "tags": []
   },
   "outputs": [
    {
     "output_type": "stream",
     "name": "stdout",
     "text": "[[model]]\n# Initial values\ncentral.volume_t = 0\n\n[central]\nlambda_0 = 0\n    in [1/day]\nlambda_1 = 1\n    in [cm^3/day]\ntime = 0 bind time\n    in [day]\ndot(volume_t) = 2 * (lambda_0 * (lambda_1 * volume_t)) / (2 * (lambda_0 * volume_t) + lambda_1)\n    in [cm^3]\n\n\n"
    }
   ],
   "source": [
    "#\n",
    "# Create structural model.\n",
    "#\n",
    "\n",
    "import pkpd.model as m\n",
    "\n",
    "\n",
    "# Create model\n",
    "model = m.create_tumour_growth_model()\n",
    "\n",
    "# Show model\n",
    "print(model.code())"
   ]
  },
  {
   "cell_type": "code",
   "execution_count": 50,
   "metadata": {},
   "outputs": [],
   "source": [
    "#\n",
    "# Define pints model wrapper such that myokit model can be used for inference.\n",
    "#\n",
    "\n",
    "import myokit\n",
    "import pints\n",
    "\n",
    "from pkpd import model as model\n",
    "\n",
    "\n",
    "# Wrap myokit model, so it can be used with pints\n",
    "class PintsModel(pints.ForwardModel):\n",
    "    def __init__(self):\n",
    "        # Create myokit model\n",
    "        model = m.create_tumour_growth_model()\n",
    "\n",
    "        # Create simulator\n",
    "        self.sim = myokit.Simulation(model)\n",
    "\n",
    "    def n_parameters(self):\n",
    "        \"\"\"\n",
    "        Number of parameters to fit. Here initial V^s_T, lambda_0, lambda_1\n",
    "        \"\"\"\n",
    "        return 3\n",
    "\n",
    "    def n_outputs(self):\n",
    "        return 1\n",
    "\n",
    "    def simulate(self, parameters, times):\n",
    "        # Reset simulation\n",
    "        self.sim.reset()\n",
    "\n",
    "        # Sort input parameters\n",
    "        initial_volume, lambda_0, lambda_1 = parameters\n",
    "\n",
    "        # Set initial condition\n",
    "        self.sim.set_state([initial_volume])\n",
    "\n",
    "        # Set growth constants\n",
    "        self.sim.set_constant('central.lambda_0', lambda_0)\n",
    "        self.sim.set_constant('central.lambda_1', lambda_1)\n",
    "\n",
    "        # Define logged variable\n",
    "        loggedVariable = 'central.volume_t'\n",
    "\n",
    "        # Simulate\n",
    "        output = self.sim.run(times[-1] + 1, log=[loggedVariable], log_times=times)\n",
    "        result = output[loggedVariable]\n",
    "\n",
    "        return np.array(result)"
   ]
  },
  {
   "cell_type": "code",
   "execution_count": 15,
   "metadata": {},
   "outputs": [],
   "source": [
    "#\n",
    "# Naive attempt to find an optimal parameter set psi for each mouse in the LXF A677 population.\n",
    "#\n",
    "# This cell needs above defined wrapped myokit model:\n",
    "# [PintsModel]\n",
    "#\n",
    "\n",
    "import os\n",
    "\n",
    "import numpy as np\n",
    "import pandas as pd\n",
    "import pints\n",
    "\n",
    "\n",
    "# Import data\n",
    "# Get path of current working directory\n",
    "path = os.getcwd()\n",
    "\n",
    "# Import LXF A677 control growth data\n",
    "data = pd.read_csv(path + '/data/lxf_control_growth.csv')\n",
    "n_mice = len(data['#ID'].unique())\n",
    "\n",
    "# Define container for the structural model estimates\n",
    "# Shape (n_mice, n_parameters)\n",
    "n_parameters = 3\n",
    "mouse_parameters = np.empty(shape=(n_mice, n_parameters))\n",
    "\n",
    "# Define container for the objective function score for the optimised parameters\n",
    "mouse_scores = np.empty(shape=n_mice)\n",
    "\n",
    "# Define arbitrary starting point for the optimisations\n",
    "initial_parameters = [1, 1, 1]\n",
    "\n",
    "# Find mouse parameters for LXF A677 population\n",
    "mouse_ids = data['#ID'].unique()\n",
    "for index, mouse_id in enumerate(mouse_ids):\n",
    "    # Create mask for mouse with specfied ID\n",
    "    mouse_mask = data['#ID'] == mouse_id\n",
    "\n",
    "    # Get relevant time points\n",
    "    times = data[mouse_mask]['TIME in day'].to_numpy()\n",
    "\n",
    "    # Get measured tumour volumes\n",
    "    observed_volumes = data[mouse_mask]['TUMOUR VOLUME in cm^3'].to_numpy()\n",
    "\n",
    "    # Create inverse problem\n",
    "    problem = pints.SingleOutputProblem(PintsModel(), times, observed_volumes)\n",
    "\n",
    "    # Create sum of squares error objective function\n",
    "    error = pints.SumOfSquaresError(problem)\n",
    "\n",
    "    # Create optimisation controller with a CMA-ES optimiser\n",
    "    optimiser = pints.OptimisationController(\n",
    "        function=error,\n",
    "        x0=initial_parameters,\n",
    "        method=pints.CMAES)\n",
    "\n",
    "    # Disable logging mode\n",
    "    optimiser.set_log_to_screen(False)\n",
    "\n",
    "    # Parallelise optimisation\n",
    "    optimiser.set_parallel(True)\n",
    "\n",
    "    # Find optimal parameters\n",
    "    estimates, score = optimiser.run()\n",
    "\n",
    "    # Save estimates and score\n",
    "    mouse_parameters[index, :] = estimates\n",
    "    mouse_scores[index] = score"
   ]
  },
  {
   "cell_type": "code",
   "execution_count": 16,
   "metadata": {},
   "outputs": [],
   "source": [
    "#\n",
    "# Solve structural model for inferred model parameters.\n",
    "#\n",
    "# This cell needs the above defined wrapped myokit model, and the inferred model parameters:\n",
    "# [PintsModel, mouse_parameters]\n",
    "#\n",
    "\n",
    "import numpy as np\n",
    "\n",
    "\n",
    "# Create tumour growth model\n",
    "model = PintsModel()\n",
    "\n",
    "# Define simulation time points in day\n",
    "times = np.linspace(start=0, stop=30, num=200)\n",
    "n_times = len(times)\n",
    "\n",
    "# Create container for simulated tumour growth\n",
    "# Shape (n_mice, n_times)\n",
    "n_mice = len(mouse_parameters)\n",
    "tumour_growth = np.empty(shape=(n_mice, n_times))\n",
    "\n",
    "# Solve structural model for LXF A677 population\n",
    "for mouse_id, mouse_params in enumerate(mouse_parameters):\n",
    "    # Simulate mouse tumour growth\n",
    "    tumour_growth[mouse_id, :] = model.simulate(parameters=mouse_params, times=times)\n"
   ]
  },
  {
   "cell_type": "code",
   "execution_count": 17,
   "metadata": {},
   "outputs": [
    {
     "output_type": "display_data",
     "data": {
      "application/vnd.plotly.v1+json": {
       "config": {
        "plotlyServerURL": "https://plot.ly"
       },
       "data": [
        {
         "hovertemplate": "<b>Measurement </b><br>ID: 40<br>Cancer type: LXF A677<br>Time: %{x:} day<br>Tumour volume: %{y:.02f} cm^3<br><extra></extra>",
         "legendgroup": "ID: 40",
         "marker": {
          "color": "#636EFA",
          "line": {
           "color": "black",
           "width": 1
          },
          "opacity": 0.7,
          "symbol": "circle"
         },
         "mode": "markers",
         "name": "ID: 40",
         "showlegend": true,
         "type": "scatter",
         "x": [
          0,
          2,
          4,
          7,
          9,
          11,
          14,
          16,
          18,
          21
         ],
         "y": [
          0.191808,
          0.249158,
          0.330672,
          0.6683669999999999,
          0.915008,
          1.119258,
          1.470432,
          1.6692479999999998,
          1.7521919999999997,
          2.276736
         ]
        },
        {
         "hovertemplate": "<b>Simulation </b><br>ID: 40<br>Cancer type: LXF A677<br>Time: %{x:.0f} day<br>Tumour volume: %{y:.02f} cm^3<br><extra></extra>",
         "legendgroup": "ID: 40",
         "line": {
          "color": "#636EFA"
         },
         "mode": "lines",
         "name": "ID: 40",
         "showlegend": false,
         "type": "scatter",
         "x": [
          0,
          0.1507537688442211,
          0.3015075376884422,
          0.4522613065326633,
          0.6030150753768844,
          0.7537688442211055,
          0.9045226130653266,
          1.0552763819095476,
          1.2060301507537687,
          1.3567839195979898,
          1.507537688442211,
          1.658291457286432,
          1.809045226130653,
          1.9597989949748742,
          2.1105527638190953,
          2.2613065326633164,
          2.4120603015075375,
          2.5628140703517586,
          2.7135678391959797,
          2.8643216080402008,
          3.015075376884422,
          3.165829145728643,
          3.316582914572864,
          3.467336683417085,
          3.618090452261306,
          3.7688442211055273,
          3.9195979899497484,
          4.0703517587939695,
          4.221105527638191,
          4.371859296482412,
          4.522613065326633,
          4.673366834170854,
          4.824120603015075,
          4.974874371859296,
          5.125628140703517,
          5.276381909547738,
          5.427135678391959,
          5.57788944723618,
          5.7286432160804015,
          5.879396984924623,
          6.030150753768844,
          6.180904522613065,
          6.331658291457286,
          6.482412060301507,
          6.633165829145728,
          6.783919597989949,
          6.93467336683417,
          7.085427135678391,
          7.236180904522612,
          7.3869346733668335,
          7.537688442211055,
          7.688442211055276,
          7.839195979899497,
          7.989949748743718,
          8.140703517587939,
          8.29145728643216,
          8.442211055276381,
          8.592964824120603,
          8.743718592964823,
          8.894472361809044,
          9.045226130653266,
          9.195979899497488,
          9.346733668341708,
          9.497487437185928,
          9.64824120603015,
          9.798994974874372,
          9.949748743718592,
          10.100502512562812,
          10.251256281407034,
          10.402010050251256,
          10.552763819095476,
          10.703517587939697,
          10.854271356783919,
          11.00502512562814,
          11.15577889447236,
          11.306532663316581,
          11.457286432160803,
          11.608040201005025,
          11.758793969849245,
          11.909547738693465,
          12.060301507537687,
          12.21105527638191,
          12.36180904522613,
          12.51256281407035,
          12.663316582914572,
          12.814070351758794,
          12.964824120603014,
          13.115577889447234,
          13.266331658291456,
          13.417085427135678,
          13.567839195979898,
          13.718592964824118,
          13.86934673366834,
          14.020100502512562,
          14.170854271356783,
          14.321608040201003,
          14.472361809045225,
          14.623115577889447,
          14.773869346733667,
          14.924623115577887,
          15.07537688442211,
          15.226130653266331,
          15.376884422110551,
          15.527638190954772,
          15.678391959798994,
          15.829145728643216,
          15.979899497487436,
          16.130653266331656,
          16.281407035175878,
          16.4321608040201,
          16.58291457286432,
          16.73366834170854,
          16.884422110552762,
          17.035175879396984,
          17.185929648241206,
          17.336683417085425,
          17.487437185929647,
          17.63819095477387,
          17.788944723618087,
          17.93969849246231,
          18.09045226130653,
          18.241206030150753,
          18.391959798994975,
          18.542713567839193,
          18.693467336683415,
          18.844221105527637,
          18.994974874371856,
          19.145728643216078,
          19.2964824120603,
          19.44723618090452,
          19.597989949748744,
          19.748743718592962,
          19.899497487437184,
          20.050251256281406,
          20.201005025125625,
          20.351758793969847,
          20.50251256281407,
          20.65326633165829,
          20.804020100502512,
          20.95477386934673,
          21.105527638190953,
          21.256281407035175,
          21.407035175879393,
          21.557788944723615,
          21.708542713567837,
          21.85929648241206,
          22.01005025125628,
          22.1608040201005,
          22.31155778894472,
          22.462311557788944,
          22.613065326633162,
          22.763819095477384,
          22.914572864321606,
          23.065326633165828,
          23.21608040201005,
          23.36683417085427,
          23.51758793969849,
          23.668341708542712,
          23.81909547738693,
          23.969849246231153,
          24.120603015075375,
          24.271356783919597,
          24.42211055276382,
          24.572864321608037,
          24.72361809045226,
          24.87437185929648,
          25.0251256281407,
          25.17587939698492,
          25.326633165829143,
          25.477386934673365,
          25.628140703517587,
          25.778894472361806,
          25.929648241206028,
          26.08040201005025,
          26.23115577889447,
          26.38190954773869,
          26.532663316582912,
          26.683417085427134,
          26.834170854271356,
          26.984924623115575,
          27.135678391959797,
          27.28643216080402,
          27.437185929648237,
          27.58793969849246,
          27.73869346733668,
          27.889447236180903,
          28.040201005025125,
          28.190954773869343,
          28.341708542713565,
          28.492462311557787,
          28.643216080402006,
          28.793969849246228,
          28.94472361809045,
          29.09547738693467,
          29.246231155778894,
          29.396984924623112,
          29.547738693467334,
          29.698492462311556,
          29.849246231155774,
          30
         ],
         "y": [
          0.1391604072787395,
          0.14659522224433527,
          0.1542537956585408,
          0.16214750910763567,
          0.17027175067016082,
          0.17862597320467272,
          0.18721179709538585,
          0.19601934293925072,
          0.20504609615309158,
          0.2142960954845775,
          0.2237633855717819,
          0.23344268554485734,
          0.24332697763335687,
          0.25341551115599326,
          0.2637007455211883,
          0.27417913869663374,
          0.28484396211506013,
          0.2956957554155,
          0.3067303357648643,
          0.317938155755574,
          0.3293190209432005,
          0.34086924728630513,
          0.3525820687677954,
          0.36445453340740486,
          0.37648243810546295,
          0.38866142752289357,
          0.4009872556190606,
          0.41345570972876594,
          0.42606458533544506,
          0.43881158506521606,
          0.4516910200354945,
          0.46469877006286386,
          0.4778307149639078,
          0.49108273455520984,
          0.5044507086533536,
          0.5179305170749227,
          0.5315267807881072,
          0.5452364438618926,
          0.5590514300538909,
          0.5729682359610673,
          0.5869833581803872,
          0.601093293308816,
          0.6152945379433191,
          0.6295835886808617,
          0.6439696371325837,
          0.6584463757387011,
          0.6730073603803999,
          0.6876498106584383,
          0.7023709461735743,
          0.7171679865265661,
          0.7320381513181717,
          0.7469786601491494,
          0.7620024738397055,
          0.7770995319404691,
          0.7922658645563154,
          0.8074994377081399,
          0.8227982174168381,
          0.8381601697033054,
          0.853583260588437,
          0.8690654588504849,
          0.8846120010125941,
          0.9002161872094974,
          0.9158762773745173,
          0.9315905314409771,
          0.9473572093421999,
          0.9631745710115083,
          0.9790408763822248,
          0.994955656611811,
          1.0109266038929339,
          1.0269454447397295,
          1.0430109024026124,
          1.0591217001319966,
          1.0752765611782966,
          1.0914742087919265,
          1.1077133662233,
          1.123994111973597,
          1.1403189679204555,
          1.1566837083083916,
          1.173087297894596,
          1.1895287014362599,
          1.2060068836905744,
          1.22252080941473,
          1.2390694433659173,
          1.255653893912155,
          1.2722758242017613,
          1.2889316607390786,
          1.3056206170973699,
          1.3223419068498985,
          1.3390947435699276,
          1.3558783408307207,
          1.37269191220554,
          1.389537026672794,
          1.406413995415465,
          1.4233203755077504,
          1.440255546825561,
          1.4572188848752556,
          1.47420976079364,
          1.4912275413479656,
          1.5082715889359315,
          1.5253412615856832,
          1.5424359129558132,
          1.5595548923353608,
          1.5766975446438114,
          1.5938632104310986,
          1.6110512258776015,
          1.6282609227941467,
          1.645491628622007,
          1.6627461289032994,
          1.6800290037871675,
          1.6973335431231464,
          1.7146593142774555,
          1.732005888773143,
          1.7493728422900825,
          1.7667597546649745,
          1.7841662098913473,
          1.8015917961195556,
          1.8190361056567814,
          1.8364987349670339,
          1.853979284671148,
          1.871477359546788,
          1.8889925685284426,
          1.906524524707429,
          1.924072845331891,
          1.9416383716547816,
          1.9592280942244824,
          1.9768352159850169,
          1.9944595790468098,
          2.0121010377098933,
          2.0297594584639036,
          2.047434719988082,
          2.0651267131512756,
          2.082835341011937,
          2.100560518818125,
          2.118302174007502,
          2.1360602462073364,
          2.1538346872345024,
          2.17162546109548,
          2.189432543986353,
          2.2072559242928116,
          2.2250956025901507,
          2.24294116330221,
          2.2608001466916354,
          2.278672813512871,
          2.2965589648424927,
          2.3144584046608347,
          2.332370939851992,
          2.3502963802038166,
          2.3682345384079206,
          2.386185230059677,
          2.404148273658215,
          2.422123490606425,
          2.440110705210955,
          2.458109744682215,
          2.47612043913437,
          2.4941426215853477,
          2.5121761279568333,
          2.5302197199235446,
          2.548273703737053,
          2.566338189338345,
          2.584412991879115,
          2.6024979281948966,
          2.6205928168050616,
          2.638697477912822,
          2.656811733405229,
          2.6749354068531743,
          2.693068323511388,
          2.7112103103184397,
          2.7293611958967388,
          2.747520810552534,
          2.765688986275914,
          2.783865556740806,
          2.8020503573049758,
          2.820246091663897,
          2.838452731871667,
          2.8566683485244653,
          2.8748928995940166,
          2.893126349132101,
          2.9113686672705574,
          2.929619830221283,
          2.947879820276231,
          2.966148625807414,
          2.9844262412669016,
          3.0027126671868207,
          3.021007910179357,
          3.039311982936753,
          3.0576249042313086,
          3.0759466989153825,
          3.09427739792139,
          3.11261375026156,
          3.1309525558073483,
          3.149298293230824,
          3.167650817756073,
          3.1860099830439683,
          3.2043756411921698,
          3.222747642735126,
          3.241125836644073,
          3.259510070327035,
          3.2779001896288236,
          3.296296038831038,
          3.314697460652066
         ]
        },
        {
         "hovertemplate": "<b>Measurement </b><br>ID: 94<br>Cancer type: LXF A677<br>Time: %{x:} day<br>Tumour volume: %{y:.02f} cm^3<br><extra></extra>",
         "legendgroup": "ID: 94",
         "marker": {
          "color": "#EF553B",
          "line": {
           "color": "black",
           "width": 1
          },
          "opacity": 0.7,
          "symbol": "circle"
         },
         "mode": "markers",
         "name": "ID: 94",
         "showlegend": true,
         "type": "scatter",
         "x": [
          0,
          2,
          4,
          7,
          9,
          11,
          14,
          16,
          18,
          21,
          23,
          25,
          28,
          30
         ],
         "y": [
          0.07724750000000001,
          0.0884835,
          0.125316,
          0.165528,
          0.189486,
          0.264654,
          0.264654,
          0.306936,
          0.389207,
          0.389207,
          0.405769,
          0.4264715,
          0.5551309999999999,
          0.57624
         ]
        },
        {
         "hovertemplate": "<b>Simulation </b><br>ID: 94<br>Cancer type: LXF A677<br>Time: %{x:.0f} day<br>Tumour volume: %{y:.02f} cm^3<br><extra></extra>",
         "legendgroup": "ID: 94",
         "line": {
          "color": "#EF553B"
         },
         "mode": "lines",
         "name": "ID: 94",
         "showlegend": false,
         "type": "scatter",
         "x": [
          0,
          0.1507537688442211,
          0.3015075376884422,
          0.4522613065326633,
          0.6030150753768844,
          0.7537688442211055,
          0.9045226130653266,
          1.0552763819095476,
          1.2060301507537687,
          1.3567839195979898,
          1.507537688442211,
          1.658291457286432,
          1.809045226130653,
          1.9597989949748742,
          2.1105527638190953,
          2.2613065326633164,
          2.4120603015075375,
          2.5628140703517586,
          2.7135678391959797,
          2.8643216080402008,
          3.015075376884422,
          3.165829145728643,
          3.316582914572864,
          3.467336683417085,
          3.618090452261306,
          3.7688442211055273,
          3.9195979899497484,
          4.0703517587939695,
          4.221105527638191,
          4.371859296482412,
          4.522613065326633,
          4.673366834170854,
          4.824120603015075,
          4.974874371859296,
          5.125628140703517,
          5.276381909547738,
          5.427135678391959,
          5.57788944723618,
          5.7286432160804015,
          5.879396984924623,
          6.030150753768844,
          6.180904522613065,
          6.331658291457286,
          6.482412060301507,
          6.633165829145728,
          6.783919597989949,
          6.93467336683417,
          7.085427135678391,
          7.236180904522612,
          7.3869346733668335,
          7.537688442211055,
          7.688442211055276,
          7.839195979899497,
          7.989949748743718,
          8.140703517587939,
          8.29145728643216,
          8.442211055276381,
          8.592964824120603,
          8.743718592964823,
          8.894472361809044,
          9.045226130653266,
          9.195979899497488,
          9.346733668341708,
          9.497487437185928,
          9.64824120603015,
          9.798994974874372,
          9.949748743718592,
          10.100502512562812,
          10.251256281407034,
          10.402010050251256,
          10.552763819095476,
          10.703517587939697,
          10.854271356783919,
          11.00502512562814,
          11.15577889447236,
          11.306532663316581,
          11.457286432160803,
          11.608040201005025,
          11.758793969849245,
          11.909547738693465,
          12.060301507537687,
          12.21105527638191,
          12.36180904522613,
          12.51256281407035,
          12.663316582914572,
          12.814070351758794,
          12.964824120603014,
          13.115577889447234,
          13.266331658291456,
          13.417085427135678,
          13.567839195979898,
          13.718592964824118,
          13.86934673366834,
          14.020100502512562,
          14.170854271356783,
          14.321608040201003,
          14.472361809045225,
          14.623115577889447,
          14.773869346733667,
          14.924623115577887,
          15.07537688442211,
          15.226130653266331,
          15.376884422110551,
          15.527638190954772,
          15.678391959798994,
          15.829145728643216,
          15.979899497487436,
          16.130653266331656,
          16.281407035175878,
          16.4321608040201,
          16.58291457286432,
          16.73366834170854,
          16.884422110552762,
          17.035175879396984,
          17.185929648241206,
          17.336683417085425,
          17.487437185929647,
          17.63819095477387,
          17.788944723618087,
          17.93969849246231,
          18.09045226130653,
          18.241206030150753,
          18.391959798994975,
          18.542713567839193,
          18.693467336683415,
          18.844221105527637,
          18.994974874371856,
          19.145728643216078,
          19.2964824120603,
          19.44723618090452,
          19.597989949748744,
          19.748743718592962,
          19.899497487437184,
          20.050251256281406,
          20.201005025125625,
          20.351758793969847,
          20.50251256281407,
          20.65326633165829,
          20.804020100502512,
          20.95477386934673,
          21.105527638190953,
          21.256281407035175,
          21.407035175879393,
          21.557788944723615,
          21.708542713567837,
          21.85929648241206,
          22.01005025125628,
          22.1608040201005,
          22.31155778894472,
          22.462311557788944,
          22.613065326633162,
          22.763819095477384,
          22.914572864321606,
          23.065326633165828,
          23.21608040201005,
          23.36683417085427,
          23.51758793969849,
          23.668341708542712,
          23.81909547738693,
          23.969849246231153,
          24.120603015075375,
          24.271356783919597,
          24.42211055276382,
          24.572864321608037,
          24.72361809045226,
          24.87437185929648,
          25.0251256281407,
          25.17587939698492,
          25.326633165829143,
          25.477386934673365,
          25.628140703517587,
          25.778894472361806,
          25.929648241206028,
          26.08040201005025,
          26.23115577889447,
          26.38190954773869,
          26.532663316582912,
          26.683417085427134,
          26.834170854271356,
          26.984924623115575,
          27.135678391959797,
          27.28643216080402,
          27.437185929648237,
          27.58793969849246,
          27.73869346733668,
          27.889447236180903,
          28.040201005025125,
          28.190954773869343,
          28.341708542713565,
          28.492462311557787,
          28.643216080402006,
          28.793969849246228,
          28.94472361809045,
          29.09547738693467,
          29.246231155778894,
          29.396984924623112,
          29.547738693467334,
          29.698492462311556,
          29.849246231155774,
          30
         ],
         "y": [
          0.07443723989093065,
          0.07614441096231973,
          0.07786756861203985,
          0.07960515549502213,
          0.08135841806090575,
          0.08312756319820426,
          0.08491252669366428,
          0.08671176385261066,
          0.08852578828956201,
          0.09035499766990193,
          0.09219939199363046,
          0.09405897126074757,
          0.09593356799633977,
          0.09781975149837141,
          0.09972001521157133,
          0.1016343591359395,
          0.10356278327147596,
          0.10550528761818068,
          0.1074606172282345,
          0.10942677979102944,
          0.1114058046116674,
          0.11339769169014839,
          0.11540244102647243,
          0.11742005262063948,
          0.1194482459283173,
          0.12148702053395208,
          0.12353751256018244,
          0.1255997220070084,
          0.12767364887442992,
          0.12975929316244703,
          0.13185341865450786,
          0.13395794456974064,
          0.13607312215101425,
          0.1381989513983286,
          0.1403354323116838,
          0.14248197879751479,
          0.1446363071514506,
          0.14680031646171096,
          0.14897400672829594,
          0.15115737795120554,
          0.1533504301304397,
          0.15555182683230084,
          0.15776087127814034,
          0.15997872100368085,
          0.16220537600892232,
          0.1644408362938648,
          0.16668510185850827,
          0.16893618308298788,
          0.1711948085198896,
          0.17346145327310655,
          0.17573611734263878,
          0.1780188007284862,
          0.18030936567491698,
          0.18260567859011756,
          0.18490930718841084,
          0.1872202514697968,
          0.18953851143427544,
          0.1918640870818468,
          0.19419643982768645,
          0.1965347113252003,
          0.19887963668393838,
          0.20123116412910358,
          0.20358924188589886,
          0.20595381817952724,
          0.20832484123519174,
          0.21070225927809527,
          0.2130860205334408,
          0.21547528168038718,
          0.21787017991125301,
          0.22027086741960286,
          0.22267725393845458,
          0.22508924920082618,
          0.22750676293973557,
          0.2299297048882007,
          0.2323579847792394,
          0.23479151363669726,
          0.2372302124834684,
          0.23967398293072062,
          0.24212273516956154,
          0.24457637939109877,
          0.24703482578643998,
          0.2494979845466927,
          0.2519657658629646,
          0.25443807992636325,
          0.25691536827405437,
          0.2593977667090577,
          0.2618847091812578,
          0.26437611598820276,
          0.26687190742744066,
          0.2693720037965193,
          0.27187632539298673,
          0.27438479251439085,
          0.2768973254582797,
          0.2794138445222012,
          0.2819342700037033,
          0.284458522200334,
          0.2869865214096413,
          0.2895181879291731,
          0.2920534420564774,
          0.294592204089102,
          0.29713540261017757,
          0.299682953266807,
          0.302234117188312,
          0.3047888343678808,
          0.3073470447987017,
          0.3099086884739628,
          0.3124737053868523,
          0.3150420355305586,
          0.31761361889826983,
          0.3201883954831742,
          0.3227663052784599,
          0.32534728827731524,
          0.32793128447292846,
          0.3305182338584877,
          0.3331080764271812,
          0.3357007521721972,
          0.33829727446037616,
          0.34089731329654527,
          0.3435003236514839,
          0.34610626363306335,
          0.34871509134915446,
          0.3513267649076284,
          0.35394124241635605,
          0.3565584819832085,
          0.3591784417160569,
          0.3618010797227722,
          0.3644263541112253,
          0.3670542229892875,
          0.3696846444648298,
          0.37231757664572307,
          0.3749529776398384,
          0.3775908055550468,
          0.3802315914371787,
          0.38287504015444956,
          0.3855209401577562,
          0.3881692580509827,
          0.390819960438013,
          0.3934730139227311,
          0.39612838510902104,
          0.3987860406007667,
          0.4014459470018522,
          0.4041080709161616,
          0.40677237894757867,
          0.40943883769998757,
          0.41210741377727234,
          0.4147780737833168,
          0.41745078432200516,
          0.42012551199722115,
          0.42280286425186386,
          0.425482427406038,
          0.42816405765576915,
          0.4308477300660666,
          0.43353341970193915,
          0.43622110162839595,
          0.43891075091044607,
          0.44160234261309844,
          0.4442958518013623,
          0.44699125354024655,
          0.44968852289476025,
          0.4523876349299125,
          0.4550885647107124,
          0.4577912873021689,
          0.46049577776929107,
          0.4632020111770879,
          0.4659110221557943,
          0.46862201556983896,
          0.47133488742129215,
          0.4740496221824423,
          0.4767662041002768,
          0.4794846171964825,
          0.48220484526744545,
          0.4849268718842509,
          0.4876506803926835,
          0.49037625391322703,
          0.4931035753410644,
          0.49583262734607825,
          0.4985633923728499,
          0.5012958526406603,
          0.5040299901434896,
          0.5067657866500169,
          0.5095032237036211,
          0.51224228262238,
          0.5149829444990706,
          0.5177251902011692,
          0.5204690003708519,
          0.5232143554249931,
          0.5259612355551669,
          0.528709620727647,
          0.531459490683406,
          0.5342108249381159,
          0.5369636027821475,
          0.5397178032805715,
          0.5424734052731577,
          0.5452303873743747,
          0.5479887279733908,
          0.5507484052340735,
          0.5535093970949896,
          0.556271681269405,
          0.5590352352452846,
          0.5618000362852935
         ]
        },
        {
         "hovertemplate": "<b>Measurement </b><br>ID: 95<br>Cancer type: LXF A677<br>Time: %{x:} day<br>Tumour volume: %{y:.02f} cm^3<br><extra></extra>",
         "legendgroup": "ID: 95",
         "marker": {
          "color": "#00CC96",
          "line": {
           "color": "black",
           "width": 1
          },
          "opacity": 0.7,
          "symbol": "circle"
         },
         "mode": "markers",
         "name": "ID: 95",
         "showlegend": true,
         "type": "scatter",
         "x": [
          0,
          2,
          4,
          7,
          9,
          11,
          14,
          16,
          18,
          21
         ],
         "y": [
          0.1862,
          0.24641999999999997,
          0.4293,
          0.62426,
          0.7246720000000001,
          0.7300800000000001,
          0.9196,
          1.131184,
          1.675872,
          2.346616
         ]
        },
        {
         "hovertemplate": "<b>Simulation </b><br>ID: 95<br>Cancer type: LXF A677<br>Time: %{x:.0f} day<br>Tumour volume: %{y:.02f} cm^3<br><extra></extra>",
         "legendgroup": "ID: 95",
         "line": {
          "color": "#00CC96"
         },
         "mode": "lines",
         "name": "ID: 95",
         "showlegend": false,
         "type": "scatter",
         "x": [
          0,
          0.1507537688442211,
          0.3015075376884422,
          0.4522613065326633,
          0.6030150753768844,
          0.7537688442211055,
          0.9045226130653266,
          1.0552763819095476,
          1.2060301507537687,
          1.3567839195979898,
          1.507537688442211,
          1.658291457286432,
          1.809045226130653,
          1.9597989949748742,
          2.1105527638190953,
          2.2613065326633164,
          2.4120603015075375,
          2.5628140703517586,
          2.7135678391959797,
          2.8643216080402008,
          3.015075376884422,
          3.165829145728643,
          3.316582914572864,
          3.467336683417085,
          3.618090452261306,
          3.7688442211055273,
          3.9195979899497484,
          4.0703517587939695,
          4.221105527638191,
          4.371859296482412,
          4.522613065326633,
          4.673366834170854,
          4.824120603015075,
          4.974874371859296,
          5.125628140703517,
          5.276381909547738,
          5.427135678391959,
          5.57788944723618,
          5.7286432160804015,
          5.879396984924623,
          6.030150753768844,
          6.180904522613065,
          6.331658291457286,
          6.482412060301507,
          6.633165829145728,
          6.783919597989949,
          6.93467336683417,
          7.085427135678391,
          7.236180904522612,
          7.3869346733668335,
          7.537688442211055,
          7.688442211055276,
          7.839195979899497,
          7.989949748743718,
          8.140703517587939,
          8.29145728643216,
          8.442211055276381,
          8.592964824120603,
          8.743718592964823,
          8.894472361809044,
          9.045226130653266,
          9.195979899497488,
          9.346733668341708,
          9.497487437185928,
          9.64824120603015,
          9.798994974874372,
          9.949748743718592,
          10.100502512562812,
          10.251256281407034,
          10.402010050251256,
          10.552763819095476,
          10.703517587939697,
          10.854271356783919,
          11.00502512562814,
          11.15577889447236,
          11.306532663316581,
          11.457286432160803,
          11.608040201005025,
          11.758793969849245,
          11.909547738693465,
          12.060301507537687,
          12.21105527638191,
          12.36180904522613,
          12.51256281407035,
          12.663316582914572,
          12.814070351758794,
          12.964824120603014,
          13.115577889447234,
          13.266331658291456,
          13.417085427135678,
          13.567839195979898,
          13.718592964824118,
          13.86934673366834,
          14.020100502512562,
          14.170854271356783,
          14.321608040201003,
          14.472361809045225,
          14.623115577889447,
          14.773869346733667,
          14.924623115577887,
          15.07537688442211,
          15.226130653266331,
          15.376884422110551,
          15.527638190954772,
          15.678391959798994,
          15.829145728643216,
          15.979899497487436,
          16.130653266331656,
          16.281407035175878,
          16.4321608040201,
          16.58291457286432,
          16.73366834170854,
          16.884422110552762,
          17.035175879396984,
          17.185929648241206,
          17.336683417085425,
          17.487437185929647,
          17.63819095477387,
          17.788944723618087,
          17.93969849246231,
          18.09045226130653,
          18.241206030150753,
          18.391959798994975,
          18.542713567839193,
          18.693467336683415,
          18.844221105527637,
          18.994974874371856,
          19.145728643216078,
          19.2964824120603,
          19.44723618090452,
          19.597989949748744,
          19.748743718592962,
          19.899497487437184,
          20.050251256281406,
          20.201005025125625,
          20.351758793969847,
          20.50251256281407,
          20.65326633165829,
          20.804020100502512,
          20.95477386934673,
          21.105527638190953,
          21.256281407035175,
          21.407035175879393,
          21.557788944723615,
          21.708542713567837,
          21.85929648241206,
          22.01005025125628,
          22.1608040201005,
          22.31155778894472,
          22.462311557788944,
          22.613065326633162,
          22.763819095477384,
          22.914572864321606,
          23.065326633165828,
          23.21608040201005,
          23.36683417085427,
          23.51758793969849,
          23.668341708542712,
          23.81909547738693,
          23.969849246231153,
          24.120603015075375,
          24.271356783919597,
          24.42211055276382,
          24.572864321608037,
          24.72361809045226,
          24.87437185929648,
          25.0251256281407,
          25.17587939698492,
          25.326633165829143,
          25.477386934673365,
          25.628140703517587,
          25.778894472361806,
          25.929648241206028,
          26.08040201005025,
          26.23115577889447,
          26.38190954773869,
          26.532663316582912,
          26.683417085427134,
          26.834170854271356,
          26.984924623115575,
          27.135678391959797,
          27.28643216080402,
          27.437185929648237,
          27.58793969849246,
          27.73869346733668,
          27.889447236180903,
          28.040201005025125,
          28.190954773869343,
          28.341708542713565,
          28.492462311557787,
          28.643216080402006,
          28.793969849246228,
          28.94472361809045,
          29.09547738693467,
          29.246231155778894,
          29.396984924623112,
          29.547738693467334,
          29.698492462311556,
          29.849246231155774,
          30
         ],
         "y": [
          0.22108766205482966,
          0.22483454744502837,
          0.2286384614588772,
          0.23250115993041975,
          0.236427734398658,
          0.24042036694070307,
          0.244480445683167,
          0.24860881540250493,
          0.2528072795051901,
          0.2570759668630494,
          0.26141697900366345,
          0.2658309808717622,
          0.27031923422095777,
          0.27488328134755935,
          0.2795241970419305,
          0.28424372395967584,
          0.2890429541078377,
          0.29392316555807707,
          0.29888563896484555,
          0.3039323468111146,
          0.309064991143265,
          0.31428443965886443,
          0.31959203482611015,
          0.3249891191131993,
          0.33047703498832914,
          0.3360571249196969,
          0.34173201811548665,
          0.3475040896154306,
          0.353373646224403,
          0.35934218092864034,
          0.36541118671437917,
          0.371582156567856,
          0.37785658347530726,
          0.3842373683155595,
          0.3907276914073572,
          0.39732757517528866,
          0.4040387044872226,
          0.41086276421102774,
          0.41780143921457263,
          0.424856414365726,
          0.43203071238624574,
          0.4393283388992326,
          0.4467491476082278,
          0.45429504078353405,
          0.46196792069545384,
          0.4697696896142899,
          0.4777022498103448,
          0.485768711626032,
          0.4939739997779076,
          0.5023178029816756,
          0.5108022652158422,
          0.5194295304589138,
          0.5282017426893968,
          0.5371210458857976,
          0.5461906286502307,
          0.5554164905033329,
          0.5647981113022169,
          0.5743379049672397,
          0.5840382854187579,
          0.5939016665771287,
          0.6039304623627092,
          0.6141279257340243,
          0.6245013222345124,
          0.6350498667039101,
          0.6457762760921169,
          0.6566832673490323,
          0.6677735574245555,
          0.6790498632685861,
          0.6905154796841186,
          0.7021791539620823,
          0.7140397772545575,
          0.7261004074477754,
          0.7383641024279672,
          0.750833920081364,
          0.7635129182941965,
          0.7764044035656683,
          0.7895188466561902,
          0.802854752611486,
          0.8164155631083965,
          0.8302047198237624,
          0.8442256644344248,
          0.8584818386172243,
          0.8729766840490014,
          0.8877221855450194,
          0.9027168756027253,
          0.9179644668888067,
          0.9334688331076237,
          0.9492338479635372,
          0.9652633851609077,
          0.9815613184040956,
          0.9981404306556776,
          1.0150002304359518,
          1.0321444130184747,
          1.0495773383967193,
          1.067303366564158,
          1.0853268575142638,
          1.10365217124051,
          1.1222929162783752,
          1.1412498150230177,
          1.160526496781528,
          1.1801278688901997,
          1.2000588386853253,
          1.2203243135031976,
          1.2409292006801098,
          1.2618879582783609,
          1.2832028009434888,
          1.304877233183624,
          1.3269167783891072,
          1.3493269599502788,
          1.3721133012574795,
          1.3952813257010492,
          1.4188463600837518,
          1.4428124363860795,
          1.4671828635893085,
          1.4919638584739028,
          1.5171616378203256,
          1.5427824184090426,
          1.568832417020517,
          1.595327842253646,
          1.6222749221670987,
          1.6496766857467526,
          1.677540130208416,
          1.7058722527678967,
          1.734680050641002,
          1.7639705210435415,
          1.7937607596674219,
          1.824059630900972,
          1.8548697834304062,
          1.8861990928800267,
          1.918055434874136,
          1.9504466850370374,
          1.9833807189930328,
          2.016875515217908,
          2.050943085090659,
          2.0855855784771404,
          2.1208118596827803,
          2.156630793013003,
          2.1930512427732345,
          2.230082073268901,
          2.2677421296962526,
          2.30604716159676,
          2.344998680577803,
          2.3846066637418897,
          2.4248810881915306,
          2.465831931029234,
          2.5074691693575075,
          2.5498124847776595,
          2.592882048133074,
          2.6366785693577652,
          2.681213278048405,
          2.726497403801663,
          2.7725421762142144,
          2.8193588248827295,
          2.8669678203493785,
          2.9153945428509176,
          2.9646387097955356,
          3.0147129605082683,
          3.065629934314151,
          3.117402270538217,
          3.1700426085055033,
          3.223572139735197,
          3.278022361605948,
          3.3333917767994237,
          3.389694611341905,
          3.4469450912596766,
          3.5051574425790184,
          3.5643458913262114,
          3.6245322576665804,
          3.6857552001688023,
          3.748011748824723,
          3.811317915551362,
          3.8756897122657388,
          3.9411431508848747,
          4.007694243325789,
          4.075365317247994,
          4.144203391582405,
          4.21420372492648,
          4.285384339283112,
          4.3577632566551925,
          4.43135849904561,
          4.50618808845726,
          4.582274704950076,
          4.659675103390703,
          4.738382425928582,
          4.8184169569923485,
          4.899798981010644,
          4.982548782412105,
          5.066686645625372,
          5.152235408199046,
          5.23926313694836,
          5.32776045985958,
          5.417750207804933,
          5.509255211656638,
          5.602298302286917,
          5.6969023105679915,
          5.793090067372082,
          5.890942523162347,
          5.990447566180163,
          6.091630816116625,
          6.194517969960092
         ]
        },
        {
         "hovertemplate": "<b>Measurement </b><br>ID: 136<br>Cancer type: LXF A677<br>Time: %{x:} day<br>Tumour volume: %{y:.02f} cm^3<br><extra></extra>",
         "legendgroup": "ID: 136",
         "marker": {
          "color": "#AB63FA",
          "line": {
           "color": "black",
           "width": 1
          },
          "opacity": 0.7,
          "symbol": "circle"
         },
         "mode": "markers",
         "name": "ID: 136",
         "showlegend": true,
         "type": "scatter",
         "x": [
          0,
          2,
          4,
          7,
          9,
          11,
          14,
          16,
          18,
          21,
          23,
          25,
          28,
          30
         ],
         "y": [
          0.1185885,
          0.175071,
          0.22999200000000006,
          0.3026885,
          0.3026885,
          0.37044,
          0.5341545,
          0.651688,
          0.7212869999999999,
          0.78732,
          0.8529505000000001,
          1.104558,
          1.1328799999999999,
          1.4593425
         ]
        },
        {
         "hovertemplate": "<b>Simulation </b><br>ID: 136<br>Cancer type: LXF A677<br>Time: %{x:.0f} day<br>Tumour volume: %{y:.02f} cm^3<br><extra></extra>",
         "legendgroup": "ID: 136",
         "line": {
          "color": "#AB63FA"
         },
         "mode": "lines",
         "name": "ID: 136",
         "showlegend": false,
         "type": "scatter",
         "x": [
          0,
          0.1507537688442211,
          0.3015075376884422,
          0.4522613065326633,
          0.6030150753768844,
          0.7537688442211055,
          0.9045226130653266,
          1.0552763819095476,
          1.2060301507537687,
          1.3567839195979898,
          1.507537688442211,
          1.658291457286432,
          1.809045226130653,
          1.9597989949748742,
          2.1105527638190953,
          2.2613065326633164,
          2.4120603015075375,
          2.5628140703517586,
          2.7135678391959797,
          2.8643216080402008,
          3.015075376884422,
          3.165829145728643,
          3.316582914572864,
          3.467336683417085,
          3.618090452261306,
          3.7688442211055273,
          3.9195979899497484,
          4.0703517587939695,
          4.221105527638191,
          4.371859296482412,
          4.522613065326633,
          4.673366834170854,
          4.824120603015075,
          4.974874371859296,
          5.125628140703517,
          5.276381909547738,
          5.427135678391959,
          5.57788944723618,
          5.7286432160804015,
          5.879396984924623,
          6.030150753768844,
          6.180904522613065,
          6.331658291457286,
          6.482412060301507,
          6.633165829145728,
          6.783919597989949,
          6.93467336683417,
          7.085427135678391,
          7.236180904522612,
          7.3869346733668335,
          7.537688442211055,
          7.688442211055276,
          7.839195979899497,
          7.989949748743718,
          8.140703517587939,
          8.29145728643216,
          8.442211055276381,
          8.592964824120603,
          8.743718592964823,
          8.894472361809044,
          9.045226130653266,
          9.195979899497488,
          9.346733668341708,
          9.497487437185928,
          9.64824120603015,
          9.798994974874372,
          9.949748743718592,
          10.100502512562812,
          10.251256281407034,
          10.402010050251256,
          10.552763819095476,
          10.703517587939697,
          10.854271356783919,
          11.00502512562814,
          11.15577889447236,
          11.306532663316581,
          11.457286432160803,
          11.608040201005025,
          11.758793969849245,
          11.909547738693465,
          12.060301507537687,
          12.21105527638191,
          12.36180904522613,
          12.51256281407035,
          12.663316582914572,
          12.814070351758794,
          12.964824120603014,
          13.115577889447234,
          13.266331658291456,
          13.417085427135678,
          13.567839195979898,
          13.718592964824118,
          13.86934673366834,
          14.020100502512562,
          14.170854271356783,
          14.321608040201003,
          14.472361809045225,
          14.623115577889447,
          14.773869346733667,
          14.924623115577887,
          15.07537688442211,
          15.226130653266331,
          15.376884422110551,
          15.527638190954772,
          15.678391959798994,
          15.829145728643216,
          15.979899497487436,
          16.130653266331656,
          16.281407035175878,
          16.4321608040201,
          16.58291457286432,
          16.73366834170854,
          16.884422110552762,
          17.035175879396984,
          17.185929648241206,
          17.336683417085425,
          17.487437185929647,
          17.63819095477387,
          17.788944723618087,
          17.93969849246231,
          18.09045226130653,
          18.241206030150753,
          18.391959798994975,
          18.542713567839193,
          18.693467336683415,
          18.844221105527637,
          18.994974874371856,
          19.145728643216078,
          19.2964824120603,
          19.44723618090452,
          19.597989949748744,
          19.748743718592962,
          19.899497487437184,
          20.050251256281406,
          20.201005025125625,
          20.351758793969847,
          20.50251256281407,
          20.65326633165829,
          20.804020100502512,
          20.95477386934673,
          21.105527638190953,
          21.256281407035175,
          21.407035175879393,
          21.557788944723615,
          21.708542713567837,
          21.85929648241206,
          22.01005025125628,
          22.1608040201005,
          22.31155778894472,
          22.462311557788944,
          22.613065326633162,
          22.763819095477384,
          22.914572864321606,
          23.065326633165828,
          23.21608040201005,
          23.36683417085427,
          23.51758793969849,
          23.668341708542712,
          23.81909547738693,
          23.969849246231153,
          24.120603015075375,
          24.271356783919597,
          24.42211055276382,
          24.572864321608037,
          24.72361809045226,
          24.87437185929648,
          25.0251256281407,
          25.17587939698492,
          25.326633165829143,
          25.477386934673365,
          25.628140703517587,
          25.778894472361806,
          25.929648241206028,
          26.08040201005025,
          26.23115577889447,
          26.38190954773869,
          26.532663316582912,
          26.683417085427134,
          26.834170854271356,
          26.984924623115575,
          27.135678391959797,
          27.28643216080402,
          27.437185929648237,
          27.58793969849246,
          27.73869346733668,
          27.889447236180903,
          28.040201005025125,
          28.190954773869343,
          28.341708542713565,
          28.492462311557787,
          28.643216080402006,
          28.793969849246228,
          28.94472361809045,
          29.09547738693467,
          29.246231155778894,
          29.396984924623112,
          29.547738693467334,
          29.698492462311556,
          29.849246231155774,
          30
         ],
         "y": [
          0.1483435467436345,
          0.15053580942701061,
          0.15275518370141167,
          0.15499908011520053,
          0.15727058026380739,
          0.15957096188212383,
          0.1619008786444259,
          0.1642605925880983,
          0.1666506282526877,
          0.1690705657103971,
          0.17152143057136648,
          0.17400317999447057,
          0.17651559680778742,
          0.17906008614843372,
          0.1816359881380155,
          0.18424372571137027,
          0.18688493909755546,
          0.18955885295430364,
          0.1922655373899518,
          0.19500506251283706,
          0.1977774984312964,
          0.20058291525366695,
          0.20342235895498867,
          0.2062967402218236,
          0.20920534195631874,
          0.2121483590769807,
          0.2151259865023162,
          0.21813841915083187,
          0.2211858519410343,
          0.22426912826473033,
          0.22738844824696847,
          0.23054381105269928,
          0.2337354657199687,
          0.2369636612868226,
          0.2402286467913069,
          0.24353067127146746,
          0.24687008969231483,
          0.25024710493397784,
          0.25366196199830116,
          0.2571149163468757,
          0.2606062234412925,
          0.2641361387431423,
          0.26770484614526424,
          0.2713119496350638,
          0.2749582028110901,
          0.2786438523121854,
          0.28236914477719177,
          0.2861343268449514,
          0.28993964515430637,
          0.29378534634409886,
          0.29767167705317105,
          0.30159888392036505,
          0.305567213584523,
          0.30957691268448706,
          0.31362822785909933,
          0.317721405747202,
          0.32185528488527604,
          0.3260303730070737,
          0.33024755946314543,
          0.3345070575090646,
          0.33880908040040475,
          0.3431538413927393,
          0.34754155374164164,
          0.3519724307026852,
          0.35644668553144354,
          0.36096453148349006,
          0.3655261818143981,
          0.37013184977974123,
          0.37478174863509284,
          0.37947553175284754,
          0.38421128421908796,
          0.3889912274745731,
          0.39381552837052103,
          0.3986843537581495,
          0.40359787048867635,
          0.40855624541331953,
          0.41355964538329704,
          0.41860823724982665,
          0.4237021878641262,
          0.42884166407741364,
          0.434026832740907,
          0.439257860705824,
          0.44453491482338253,
          0.4498557746363068,
          0.4552215444178063,
          0.46063309190324286,
          0.4660905346532253,
          0.4715939902283625,
          0.4771435761892634,
          0.4827394100965368,
          0.4883816095107915,
          0.49407029199263647,
          0.49980557510268053,
          0.5055875764015325,
          0.5114164134498014,
          0.5172922038080958,
          0.5232141176290824,
          0.5291803641592415,
          0.535193130004938,
          0.5412524793578377,
          0.5473584764096072,
          0.5535111853519125,
          0.5597106703764196,
          0.5659569956747947,
          0.5722502254387042,
          0.5785904238598141,
          0.5849776551297904,
          0.5914119834402993,
          0.5978934729830072,
          0.60442218794958,
          0.6109953120172652,
          0.6176145091242223,
          0.6242803207887341,
          0.6309927586385605,
          0.6377518343014617,
          0.6445575594051973,
          0.6514099455775278,
          0.6583090044462131,
          0.6652547476390128,
          0.6722471867836874,
          0.6792863335079969,
          0.6863721994397011,
          0.6935047962065599,
          0.7006824064316252,
          0.7079031943459284,
          0.7151696965126577,
          0.7224818612945616,
          0.729839637909981,
          0.7372429764328476,
          0.7446918277926856,
          0.7521861437746102,
          0.7597258770193285,
          0.7673109810231398,
          0.7749414101379342,
          0.782617119571194,
          0.7903380653859934,
          0.7981042045009976,
          0.8059154946904642,
          0.813771894584242,
          0.8216733636677713,
          0.8296198622820851,
          0.8376113516238068,
          0.8456477937451522,
          0.8537291515539289,
          0.8618553888135358,
          0.8700264701429635,
          0.8782423610167945,
          0.8865030277652027,
          0.8948084375739542,
          0.9031585584844062,
          0.9115514774277739,
          0.9199848396160637,
          0.928461744094462,
          0.9369820696165257,
          0.9455456923751637,
          0.954152486002637,
          0.9628023215705592,
          0.9714950675898953,
          0.9802305900109629,
          0.9890087522234318,
          0.9978294150563235,
          1.0066924367780121,
          1.0155976730962235,
          1.0245449771580355,
          1.033534199549879,
          1.0425651882975362,
          1.0516377888661412,
          1.0607518441601813,
          1.069907194523495,
          1.0791035788621712,
          1.0883408439811302,
          1.0976188760476762,
          1.1069375023915284,
          1.1162965476879536,
          1.1256958339577658,
          1.1351351805673284,
          1.1446144042285515,
          1.1541333189988936,
          1.1636917362813606,
          1.173289464824507,
          1.182926310722435,
          1.1926020774147947,
          1.2023165656867836,
          1.2120695736691482,
          1.2218608968381823,
          1.2316903280157272,
          1.2415576573691727,
          1.251462672411456,
          1.2614097942926894,
          1.2713955572775975,
          1.2814192078739433,
          1.2914805631279949,
          1.3015794373220444,
          1.3117156419744083,
          1.3218889858394276,
          1.3320992749074676,
          1.3423463124049184,
          1.3526298987941947,
          1.362949831773735,
          1.3733059062780033
         ]
        },
        {
         "hovertemplate": "<b>Measurement </b><br>ID: 140<br>Cancer type: LXF A677<br>Time: %{x:} day<br>Tumour volume: %{y:.02f} cm^3<br><extra></extra>",
         "legendgroup": "ID: 140",
         "marker": {
          "color": "#FFA15A",
          "line": {
           "color": "black",
           "width": 1
          },
          "opacity": 0.7,
          "symbol": "circle"
         },
         "mode": "markers",
         "name": "ID: 140",
         "showlegend": true,
         "type": "scatter",
         "x": [
          0,
          2,
          4,
          7,
          9,
          11,
          14,
          16,
          18,
          21,
          23,
          25,
          28,
          30
         ],
         "y": [
          0.0793305,
          0.12685200000000002,
          0.146072,
          0.261121,
          0.34574400000000005,
          0.3552,
          0.41905,
          0.48029799999999995,
          0.556668,
          0.8089919999999999,
          0.8573040000000001,
          1.097675,
          1.992144,
          2.1225820000000004
         ]
        },
        {
         "hovertemplate": "<b>Simulation </b><br>ID: 140<br>Cancer type: LXF A677<br>Time: %{x:.0f} day<br>Tumour volume: %{y:.02f} cm^3<br><extra></extra>",
         "legendgroup": "ID: 140",
         "line": {
          "color": "#FFA15A"
         },
         "mode": "lines",
         "name": "ID: 140",
         "showlegend": false,
         "type": "scatter",
         "x": [
          0,
          0.1507537688442211,
          0.3015075376884422,
          0.4522613065326633,
          0.6030150753768844,
          0.7537688442211055,
          0.9045226130653266,
          1.0552763819095476,
          1.2060301507537687,
          1.3567839195979898,
          1.507537688442211,
          1.658291457286432,
          1.809045226130653,
          1.9597989949748742,
          2.1105527638190953,
          2.2613065326633164,
          2.4120603015075375,
          2.5628140703517586,
          2.7135678391959797,
          2.8643216080402008,
          3.015075376884422,
          3.165829145728643,
          3.316582914572864,
          3.467336683417085,
          3.618090452261306,
          3.7688442211055273,
          3.9195979899497484,
          4.0703517587939695,
          4.221105527638191,
          4.371859296482412,
          4.522613065326633,
          4.673366834170854,
          4.824120603015075,
          4.974874371859296,
          5.125628140703517,
          5.276381909547738,
          5.427135678391959,
          5.57788944723618,
          5.7286432160804015,
          5.879396984924623,
          6.030150753768844,
          6.180904522613065,
          6.331658291457286,
          6.482412060301507,
          6.633165829145728,
          6.783919597989949,
          6.93467336683417,
          7.085427135678391,
          7.236180904522612,
          7.3869346733668335,
          7.537688442211055,
          7.688442211055276,
          7.839195979899497,
          7.989949748743718,
          8.140703517587939,
          8.29145728643216,
          8.442211055276381,
          8.592964824120603,
          8.743718592964823,
          8.894472361809044,
          9.045226130653266,
          9.195979899497488,
          9.346733668341708,
          9.497487437185928,
          9.64824120603015,
          9.798994974874372,
          9.949748743718592,
          10.100502512562812,
          10.251256281407034,
          10.402010050251256,
          10.552763819095476,
          10.703517587939697,
          10.854271356783919,
          11.00502512562814,
          11.15577889447236,
          11.306532663316581,
          11.457286432160803,
          11.608040201005025,
          11.758793969849245,
          11.909547738693465,
          12.060301507537687,
          12.21105527638191,
          12.36180904522613,
          12.51256281407035,
          12.663316582914572,
          12.814070351758794,
          12.964824120603014,
          13.115577889447234,
          13.266331658291456,
          13.417085427135678,
          13.567839195979898,
          13.718592964824118,
          13.86934673366834,
          14.020100502512562,
          14.170854271356783,
          14.321608040201003,
          14.472361809045225,
          14.623115577889447,
          14.773869346733667,
          14.924623115577887,
          15.07537688442211,
          15.226130653266331,
          15.376884422110551,
          15.527638190954772,
          15.678391959798994,
          15.829145728643216,
          15.979899497487436,
          16.130653266331656,
          16.281407035175878,
          16.4321608040201,
          16.58291457286432,
          16.73366834170854,
          16.884422110552762,
          17.035175879396984,
          17.185929648241206,
          17.336683417085425,
          17.487437185929647,
          17.63819095477387,
          17.788944723618087,
          17.93969849246231,
          18.09045226130653,
          18.241206030150753,
          18.391959798994975,
          18.542713567839193,
          18.693467336683415,
          18.844221105527637,
          18.994974874371856,
          19.145728643216078,
          19.2964824120603,
          19.44723618090452,
          19.597989949748744,
          19.748743718592962,
          19.899497487437184,
          20.050251256281406,
          20.201005025125625,
          20.351758793969847,
          20.50251256281407,
          20.65326633165829,
          20.804020100502512,
          20.95477386934673,
          21.105527638190953,
          21.256281407035175,
          21.407035175879393,
          21.557788944723615,
          21.708542713567837,
          21.85929648241206,
          22.01005025125628,
          22.1608040201005,
          22.31155778894472,
          22.462311557788944,
          22.613065326633162,
          22.763819095477384,
          22.914572864321606,
          23.065326633165828,
          23.21608040201005,
          23.36683417085427,
          23.51758793969849,
          23.668341708542712,
          23.81909547738693,
          23.969849246231153,
          24.120603015075375,
          24.271356783919597,
          24.42211055276382,
          24.572864321608037,
          24.72361809045226,
          24.87437185929648,
          25.0251256281407,
          25.17587939698492,
          25.326633165829143,
          25.477386934673365,
          25.628140703517587,
          25.778894472361806,
          25.929648241206028,
          26.08040201005025,
          26.23115577889447,
          26.38190954773869,
          26.532663316582912,
          26.683417085427134,
          26.834170854271356,
          26.984924623115575,
          27.135678391959797,
          27.28643216080402,
          27.437185929648237,
          27.58793969849246,
          27.73869346733668,
          27.889447236180903,
          28.040201005025125,
          28.190954773869343,
          28.341708542713565,
          28.492462311557787,
          28.643216080402006,
          28.793969849246228,
          28.94472361809045,
          29.09547738693467,
          29.246231155778894,
          29.396984924623112,
          29.547738693467334,
          29.698492462311556,
          29.849246231155774,
          30
         ],
         "y": [
          0.0005486299825158133,
          0.00841636145436312,
          0.016043827121042593,
          0.02363328823534037,
          0.031214777990583083,
          0.03879288305318443,
          0.04636756046859347,
          0.05393889095203323,
          0.06150698773249813,
          0.06907174167077139,
          0.07663315276685304,
          0.08419122102074304,
          0.09174594643244144,
          0.09929834153341634,
          0.1068477688578332,
          0.11439418830775484,
          0.12193759988318127,
          0.1294780035841125,
          0.1370166577302579,
          0.14455378958390308,
          0.15208864183635304,
          0.1596212144876078,
          0.1671515075376673,
          0.1746796905710551,
          0.18220642800217476,
          0.18973118162292518,
          0.19725395143330632,
          0.20477473743331825,
          0.21229353962296094,
          0.2198112600929974,
          0.2273275009940045,
          0.2348421080853817,
          0.2423550813671289,
          0.2498664208392462,
          0.2573766435142246,
          0.2648861326273217,
          0.272394376937016,
          0.27990137644330765,
          0.2874071311461966,
          0.29491166923363976,
          0.3024153587326953,
          0.30991795015797985,
          0.3174194502903096,
          0.3249198659105006,
          0.332419203799369,
          0.33991747073773104,
          0.3474146735064027,
          0.35491081888620024,
          0.3624059136579397,
          0.3698999646024373,
          0.37739304440704413,
          0.3848855782083558,
          0.39237722950160253,
          0.3998680167368108,
          0.40735795836400707,
          0.4148470728332176,
          0.422335378594469,
          0.4298228940977875,
          0.4373096377931996,
          0.4447956281307316,
          0.4522808835604101,
          0.45976552140468735,
          0.4672499489131314,
          0.4747338457619156,
          0.48221724266730315,
          0.489700170345557,
          0.4971826595129402,
          0.5046647408857159,
          0.5121464451801472,
          0.5196278031124971,
          0.5271088453990286,
          0.534589602756005,
          0.5420702310967389,
          0.5495510883684321,
          0.5570318981430715,
          0.5645127030487096,
          0.5719935457133992,
          0.5794744687651927,
          0.5869555148321427,
          0.5944367265423018,
          0.6019181465237229,
          0.6093998174044584,
          0.6168817818125606,
          0.6243640975868899,
          0.631846834039018,
          0.6393300053804115,
          0.6468136551299433,
          0.6542978267783734,
          0.6617825637883493,
          0.6692679095944052,
          0.6767539076029625,
          0.6842406011923301,
          0.6917280337127043,
          0.6992162484861677,
          0.7067052888066909,
          0.7141951979401313,
          0.7216860191242337,
          0.7291777955686297,
          0.7366705704548386,
          0.7441643869362664,
          0.7516592881382067,
          0.75915531715784,
          0.766652517064234,
          0.7741509308983436,
          0.7816506016730113,
          0.789151572372966,
          0.7966538859548242,
          0.8041575853470898,
          0.8116627134501536,
          0.8191693131362936,
          0.8266774272496747,
          0.8341870986063499,
          0.841698324118552,
          0.8492111604283283,
          0.8567256736962572,
          0.8642419063047342,
          0.8717599006101486,
          0.8792796989428813,
          0.886801343607306,
          0.8943248768817897,
          0.9018503410186918,
          0.909377778244364,
          0.9169072307591513,
          0.9244387407373907,
          0.9319723503274129,
          0.9395081016515403,
          0.9470460368060886,
          0.954586197861366,
          0.9621286268616734,
          0.9696733658253045,
          0.9772204567445455,
          0.9847699415856751,
          0.9923218622889656,
          0.999876260768681,
          1.0074331789130784,
          1.0149926585844078,
          1.0225547416189116,
          1.0301194698268248,
          1.0376868849923755,
          1.045257028873784,
          1.052829943203264,
          1.0604056696870212,
          1.067984250005254,
          1.0755657258121543,
          1.083150138735906,
          1.0907375303786857,
          1.098327942316663,
          1.1059214160999997,
          1.1135179932528512,
          1.1211177152733647,
          1.1287206236336804,
          1.1363267597799314,
          1.1439361651322435,
          1.1515488810847345,
          1.1591649490055158,
          1.166784410236691,
          1.1744073060943567,
          1.1820336778686018,
          1.1896634424328854,
          1.1972966024810106,
          1.2049333426782796,
          1.2125737037477604,
          1.2202177263866385,
          1.2278654512662166,
          1.2355169190319157,
          1.243172170303274,
          1.2508312456739477,
          1.25849418571171,
          1.2661610309584521,
          1.2738318219301834,
          1.2815065991170296,
          1.2891854029832353,
          1.2968682739671622,
          1.3045552524812896,
          1.3122463789122143,
          1.3199416936206516,
          1.3276412369414332,
          1.3353450491835093,
          1.3430531706299473,
          1.3507656415379323,
          1.3584825021387676,
          1.3662037926378734,
          1.3739295532147873,
          1.381659824023166,
          1.3893946451907822,
          1.397134056819527,
          1.4048780989854093,
          1.4126268117385548,
          1.420380235103208,
          1.42813840907773,
          1.4359013736346005,
          1.4436691687204157,
          1.4514418342558906,
          1.4592194101358569,
          1.4670019362292646,
          1.4747894523791805,
          1.4825819984027901,
          1.490379614091396,
          1.498182339210418,
          1.505990213499395
         ]
        },
        {
         "hovertemplate": "<b>Measurement </b><br>ID: 155<br>Cancer type: LXF A677<br>Time: %{x:} day<br>Tumour volume: %{y:.02f} cm^3<br><extra></extra>",
         "legendgroup": "ID: 155",
         "marker": {
          "color": "#19D3F3",
          "line": {
           "color": "black",
           "width": 1
          },
          "opacity": 0.7,
          "symbol": "circle"
         },
         "mode": "markers",
         "name": "ID: 155",
         "showlegend": true,
         "type": "scatter",
         "x": [
          0,
          2,
          4,
          7,
          9,
          11,
          14,
          16,
          18,
          21,
          23,
          25
         ],
         "y": [
          0.105875,
          0.167706,
          0.35632800000000003,
          0.6489600000000001,
          0.692224,
          0.7300800000000001,
          0.81648,
          1.4949540000000001,
          1.5166985,
          1.72405,
          1.637784,
          2.25108
         ]
        },
        {
         "hovertemplate": "<b>Simulation </b><br>ID: 155<br>Cancer type: LXF A677<br>Time: %{x:.0f} day<br>Tumour volume: %{y:.02f} cm^3<br><extra></extra>",
         "legendgroup": "ID: 155",
         "line": {
          "color": "#19D3F3"
         },
         "mode": "lines",
         "name": "ID: 155",
         "showlegend": false,
         "type": "scatter",
         "x": [
          0,
          0.1507537688442211,
          0.3015075376884422,
          0.4522613065326633,
          0.6030150753768844,
          0.7537688442211055,
          0.9045226130653266,
          1.0552763819095476,
          1.2060301507537687,
          1.3567839195979898,
          1.507537688442211,
          1.658291457286432,
          1.809045226130653,
          1.9597989949748742,
          2.1105527638190953,
          2.2613065326633164,
          2.4120603015075375,
          2.5628140703517586,
          2.7135678391959797,
          2.8643216080402008,
          3.015075376884422,
          3.165829145728643,
          3.316582914572864,
          3.467336683417085,
          3.618090452261306,
          3.7688442211055273,
          3.9195979899497484,
          4.0703517587939695,
          4.221105527638191,
          4.371859296482412,
          4.522613065326633,
          4.673366834170854,
          4.824120603015075,
          4.974874371859296,
          5.125628140703517,
          5.276381909547738,
          5.427135678391959,
          5.57788944723618,
          5.7286432160804015,
          5.879396984924623,
          6.030150753768844,
          6.180904522613065,
          6.331658291457286,
          6.482412060301507,
          6.633165829145728,
          6.783919597989949,
          6.93467336683417,
          7.085427135678391,
          7.236180904522612,
          7.3869346733668335,
          7.537688442211055,
          7.688442211055276,
          7.839195979899497,
          7.989949748743718,
          8.140703517587939,
          8.29145728643216,
          8.442211055276381,
          8.592964824120603,
          8.743718592964823,
          8.894472361809044,
          9.045226130653266,
          9.195979899497488,
          9.346733668341708,
          9.497487437185928,
          9.64824120603015,
          9.798994974874372,
          9.949748743718592,
          10.100502512562812,
          10.251256281407034,
          10.402010050251256,
          10.552763819095476,
          10.703517587939697,
          10.854271356783919,
          11.00502512562814,
          11.15577889447236,
          11.306532663316581,
          11.457286432160803,
          11.608040201005025,
          11.758793969849245,
          11.909547738693465,
          12.060301507537687,
          12.21105527638191,
          12.36180904522613,
          12.51256281407035,
          12.663316582914572,
          12.814070351758794,
          12.964824120603014,
          13.115577889447234,
          13.266331658291456,
          13.417085427135678,
          13.567839195979898,
          13.718592964824118,
          13.86934673366834,
          14.020100502512562,
          14.170854271356783,
          14.321608040201003,
          14.472361809045225,
          14.623115577889447,
          14.773869346733667,
          14.924623115577887,
          15.07537688442211,
          15.226130653266331,
          15.376884422110551,
          15.527638190954772,
          15.678391959798994,
          15.829145728643216,
          15.979899497487436,
          16.130653266331656,
          16.281407035175878,
          16.4321608040201,
          16.58291457286432,
          16.73366834170854,
          16.884422110552762,
          17.035175879396984,
          17.185929648241206,
          17.336683417085425,
          17.487437185929647,
          17.63819095477387,
          17.788944723618087,
          17.93969849246231,
          18.09045226130653,
          18.241206030150753,
          18.391959798994975,
          18.542713567839193,
          18.693467336683415,
          18.844221105527637,
          18.994974874371856,
          19.145728643216078,
          19.2964824120603,
          19.44723618090452,
          19.597989949748744,
          19.748743718592962,
          19.899497487437184,
          20.050251256281406,
          20.201005025125625,
          20.351758793969847,
          20.50251256281407,
          20.65326633165829,
          20.804020100502512,
          20.95477386934673,
          21.105527638190953,
          21.256281407035175,
          21.407035175879393,
          21.557788944723615,
          21.708542713567837,
          21.85929648241206,
          22.01005025125628,
          22.1608040201005,
          22.31155778894472,
          22.462311557788944,
          22.613065326633162,
          22.763819095477384,
          22.914572864321606,
          23.065326633165828,
          23.21608040201005,
          23.36683417085427,
          23.51758793969849,
          23.668341708542712,
          23.81909547738693,
          23.969849246231153,
          24.120603015075375,
          24.271356783919597,
          24.42211055276382,
          24.572864321608037,
          24.72361809045226,
          24.87437185929648,
          25.0251256281407,
          25.17587939698492,
          25.326633165829143,
          25.477386934673365,
          25.628140703517587,
          25.778894472361806,
          25.929648241206028,
          26.08040201005025,
          26.23115577889447,
          26.38190954773869,
          26.532663316582912,
          26.683417085427134,
          26.834170854271356,
          26.984924623115575,
          27.135678391959797,
          27.28643216080402,
          27.437185929648237,
          27.58793969849246,
          27.73869346733668,
          27.889447236180903,
          28.040201005025125,
          28.190954773869343,
          28.341708542713565,
          28.492462311557787,
          28.643216080402006,
          28.793969849246228,
          28.94472361809045,
          29.09547738693467,
          29.246231155778894,
          29.396984924623112,
          29.547738693467334,
          29.698492462311556,
          29.849246231155774,
          30
         ],
         "y": [
          0.13289494744844785,
          0.13834076686189534,
          0.14391965353972977,
          0.14964026471346506,
          0.15550518246816314,
          0.16151345014268315,
          0.1676651789097497,
          0.17395892825638837,
          0.18039159397198612,
          0.1869656443157269,
          0.19368107928761066,
          0.20053547721091505,
          0.20752204729881352,
          0.2146458407826097,
          0.22190685766230359,
          0.22930240287485118,
          0.23682184627596484,
          0.24447267204324424,
          0.2522548801766894,
          0.2601661946548076,
          0.26819335495560515,
          0.2763452748333624,
          0.28462195428807935,
          0.29302172767669726,
          0.30152872895518046,
          0.3101532083302643,
          0.3188951658019487,
          0.3277537192445985,
          0.3367110987754007,
          0.34577839480151334,
          0.3549556073229365,
          0.36424268034681917,
          0.37362055229420116,
          0.38310076287043954,
          0.3926833120755345,
          0.40236819990948586,
          0.4121421564689803,
          0.42201016652285045,
          0.43197164372834485,
          0.4420254853861569,
          0.45217058879697986,
          0.46240107505507244,
          0.4727154882889877,
          0.48311362159535903,
          0.4935937631715223,
          0.5041542012148135,
          0.5147935136299172,
          0.5255102952646419,
          0.5363026417249309,
          0.5471689014153748,
          0.5581074227405639,
          0.569117110367165,
          0.5801984373261747,
          0.5913482570090294,
          0.6025650044577083,
          0.613847114714191,
          0.6251930228204571,
          0.6366011638184857,
          0.6480699727502566,
          0.6595978846577489,
          0.6711872565160548,
          0.6828370958448099,
          0.6945438101528867,
          0.7063060759118371,
          0.7181225695932134,
          0.7299919676685673,
          0.7419129466094506,
          0.7538841828874154,
          0.7659043529740138,
          0.7779801676702229,
          0.7901052333951141,
          0.8022782826884888,
          0.8144982771590035,
          0.8267641784153142,
          0.8390749480660773,
          0.8514295477199489,
          0.8638269389855856,
          0.8762675039164245,
          0.8887525147746286,
          0.901278832340837,
          0.9138455981288118,
          0.9264519563330293,
          0.9390970538286807,
          0.9517800401716725,
          0.9645000675986257,
          0.9772562910268765,
          0.9900478680544753,
          1.0028739589601878,
          1.0157337267034952,
          1.0286263369245918,
          1.0415531166176641,
          1.0545164967990284,
          1.067512266080642,
          1.0805398387503282,
          1.0935986421737747,
          1.1066881167945355,
          1.1198077161340296,
          1.132956906791541,
          1.1461351684442191,
          1.1593419938470793,
          1.1725768888330017,
          1.185839372312732,
          1.199128976274881,
          1.2124457090902745,
          1.2257898309212139,
          1.2391601790510804,
          1.2525563883500541,
          1.2659781091357458,
          1.279425007173195,
          1.292896763674871,
          1.306393075300673,
          1.3199136541579302,
          1.3334582278014007,
          1.347026539233273,
          1.3606183469031645,
          1.374233424708123,
          1.3878701786990164,
          1.401526297977175,
          1.4152038083210692,
          1.4289023937752652,
          1.4426217467257831,
          1.4563615679001,
          1.4701215663671485,
          1.4839014595373157,
          1.4977009731624462,
          1.5115198413358393,
          1.5253578064922497,
          1.539214619407889,
          1.5530900392004234,
          1.566983970456142,
          1.5808964006720052,
          1.5948268939325159,
          1.608775257819014,
          1.6227413089618279,
          1.6367248730402764,
          1.6507257847826695,
          1.664743887966306,
          1.6787790354174752,
          1.6928310890114564,
          1.7068999196725188,
          1.7209854073739226,
          1.7350874411379171,
          1.749204252734003,
          1.7633333413554235,
          1.7774774803560294,
          1.7916365101849816,
          1.8058102803545384,
          1.8199986494400553,
          1.834201485079986,
          1.8484186639758806,
          1.8626500718923866,
          1.8768956036572502,
          1.8911551631613137,
          1.9054286633585176,
          1.9197160262658988,
          1.9340171829635926,
          1.948332073594832,
          1.9626606473659463,
          1.9770028625463625,
          1.991358686468606,
          2.0057280955282986,
          2.0201110751841598,
          2.0345076199580063,
          2.048917733434753,
          2.0633367781553016,
          2.0777625455967095,
          2.092200069950679,
          2.1066492571726516,
          2.121110018787609,
          2.1355822718900783,
          2.150065939144128,
          2.1645609487833695,
          2.1790672346109594,
          2.193584735999595,
          2.208113397891517,
          2.22265317079851,
          2.2372040108019013,
          2.2517658795525604,
          2.2663387442709007,
          2.2809225777468773,
          2.2955173583399904,
          2.3101230699792814,
          2.324739702163335,
          2.3393672499602802,
          2.354005714007787,
          2.36865510051307,
          2.3833101906481238,
          2.3979711209431587,
          2.4126413904286337,
          2.4273209115672123,
          2.4420095990661492,
          2.456707369877287,
          2.4714141431970593,
          2.486129840466486,
          2.500854385371179,
          2.5155877038413372,
          2.53032972405175,
          2.545080376421796,
          2.559839593615442,
          2.574607310541245
         ]
        },
        {
         "hovertemplate": "<b>Measurement </b><br>ID: 169<br>Cancer type: LXF A677<br>Time: %{x:} day<br>Tumour volume: %{y:.02f} cm^3<br><extra></extra>",
         "legendgroup": "ID: 169",
         "marker": {
          "color": "#FF6692",
          "line": {
           "color": "black",
           "width": 1
          },
          "opacity": 0.7,
          "symbol": "circle"
         },
         "mode": "markers",
         "name": "ID: 169",
         "showlegend": true,
         "type": "scatter",
         "x": [
          0,
          2,
          4,
          7,
          9,
          11,
          14,
          16,
          18,
          21,
          23,
          25,
          28,
          30
         ],
         "y": [
          0.123008,
          0.128774,
          0.1764,
          0.20516650000000006,
          0.24605349999999998,
          0.2788425,
          0.333036,
          0.35644499999999996,
          0.39285,
          0.479859,
          0.5390550000000001,
          0.6354195,
          0.7146180000000001,
          0.7469865
         ]
        },
        {
         "hovertemplate": "<b>Simulation </b><br>ID: 169<br>Cancer type: LXF A677<br>Time: %{x:.0f} day<br>Tumour volume: %{y:.02f} cm^3<br><extra></extra>",
         "legendgroup": "ID: 169",
         "line": {
          "color": "#FF6692"
         },
         "mode": "lines",
         "name": "ID: 169",
         "showlegend": false,
         "type": "scatter",
         "x": [
          0,
          0.1507537688442211,
          0.3015075376884422,
          0.4522613065326633,
          0.6030150753768844,
          0.7537688442211055,
          0.9045226130653266,
          1.0552763819095476,
          1.2060301507537687,
          1.3567839195979898,
          1.507537688442211,
          1.658291457286432,
          1.809045226130653,
          1.9597989949748742,
          2.1105527638190953,
          2.2613065326633164,
          2.4120603015075375,
          2.5628140703517586,
          2.7135678391959797,
          2.8643216080402008,
          3.015075376884422,
          3.165829145728643,
          3.316582914572864,
          3.467336683417085,
          3.618090452261306,
          3.7688442211055273,
          3.9195979899497484,
          4.0703517587939695,
          4.221105527638191,
          4.371859296482412,
          4.522613065326633,
          4.673366834170854,
          4.824120603015075,
          4.974874371859296,
          5.125628140703517,
          5.276381909547738,
          5.427135678391959,
          5.57788944723618,
          5.7286432160804015,
          5.879396984924623,
          6.030150753768844,
          6.180904522613065,
          6.331658291457286,
          6.482412060301507,
          6.633165829145728,
          6.783919597989949,
          6.93467336683417,
          7.085427135678391,
          7.236180904522612,
          7.3869346733668335,
          7.537688442211055,
          7.688442211055276,
          7.839195979899497,
          7.989949748743718,
          8.140703517587939,
          8.29145728643216,
          8.442211055276381,
          8.592964824120603,
          8.743718592964823,
          8.894472361809044,
          9.045226130653266,
          9.195979899497488,
          9.346733668341708,
          9.497487437185928,
          9.64824120603015,
          9.798994974874372,
          9.949748743718592,
          10.100502512562812,
          10.251256281407034,
          10.402010050251256,
          10.552763819095476,
          10.703517587939697,
          10.854271356783919,
          11.00502512562814,
          11.15577889447236,
          11.306532663316581,
          11.457286432160803,
          11.608040201005025,
          11.758793969849245,
          11.909547738693465,
          12.060301507537687,
          12.21105527638191,
          12.36180904522613,
          12.51256281407035,
          12.663316582914572,
          12.814070351758794,
          12.964824120603014,
          13.115577889447234,
          13.266331658291456,
          13.417085427135678,
          13.567839195979898,
          13.718592964824118,
          13.86934673366834,
          14.020100502512562,
          14.170854271356783,
          14.321608040201003,
          14.472361809045225,
          14.623115577889447,
          14.773869346733667,
          14.924623115577887,
          15.07537688442211,
          15.226130653266331,
          15.376884422110551,
          15.527638190954772,
          15.678391959798994,
          15.829145728643216,
          15.979899497487436,
          16.130653266331656,
          16.281407035175878,
          16.4321608040201,
          16.58291457286432,
          16.73366834170854,
          16.884422110552762,
          17.035175879396984,
          17.185929648241206,
          17.336683417085425,
          17.487437185929647,
          17.63819095477387,
          17.788944723618087,
          17.93969849246231,
          18.09045226130653,
          18.241206030150753,
          18.391959798994975,
          18.542713567839193,
          18.693467336683415,
          18.844221105527637,
          18.994974874371856,
          19.145728643216078,
          19.2964824120603,
          19.44723618090452,
          19.597989949748744,
          19.748743718592962,
          19.899497487437184,
          20.050251256281406,
          20.201005025125625,
          20.351758793969847,
          20.50251256281407,
          20.65326633165829,
          20.804020100502512,
          20.95477386934673,
          21.105527638190953,
          21.256281407035175,
          21.407035175879393,
          21.557788944723615,
          21.708542713567837,
          21.85929648241206,
          22.01005025125628,
          22.1608040201005,
          22.31155778894472,
          22.462311557788944,
          22.613065326633162,
          22.763819095477384,
          22.914572864321606,
          23.065326633165828,
          23.21608040201005,
          23.36683417085427,
          23.51758793969849,
          23.668341708542712,
          23.81909547738693,
          23.969849246231153,
          24.120603015075375,
          24.271356783919597,
          24.42211055276382,
          24.572864321608037,
          24.72361809045226,
          24.87437185929648,
          25.0251256281407,
          25.17587939698492,
          25.326633165829143,
          25.477386934673365,
          25.628140703517587,
          25.778894472361806,
          25.929648241206028,
          26.08040201005025,
          26.23115577889447,
          26.38190954773869,
          26.532663316582912,
          26.683417085427134,
          26.834170854271356,
          26.984924623115575,
          27.135678391959797,
          27.28643216080402,
          27.437185929648237,
          27.58793969849246,
          27.73869346733668,
          27.889447236180903,
          28.040201005025125,
          28.190954773869343,
          28.341708542713565,
          28.492462311557787,
          28.643216080402006,
          28.793969849246228,
          28.94472361809045,
          29.09547738693467,
          29.246231155778894,
          29.396984924623112,
          29.547738693467334,
          29.698492462311556,
          29.849246231155774,
          30
         ],
         "y": [
          0.12380951674144136,
          0.12522390305143768,
          0.12665129503890865,
          0.12809035174069827,
          0.1295429660428776,
          0.13100875280238278,
          0.13248864606639896,
          0.1339830919941447,
          0.1354918999619567,
          0.13701537038839168,
          0.1385538065936884,
          0.14010690998557404,
          0.14167468056404858,
          0.1432577770936114,
          0.14485599686594863,
          0.1464692370985149,
          0.14809762188893352,
          0.14974177305706335,
          0.15140129133724944,
          0.1530761767294918,
          0.15476725458231413,
          0.15647497707607333,
          0.15819882532364704,
          0.1599388108646807,
          0.1616949452388197,
          0.16346723998570936,
          0.16525570664499517,
          0.16706035675632247,
          0.16888120185933667,
          0.17071825349368314,
          0.1725715231990073,
          0.17444102251495452,
          0.1763272316107561,
          0.1782319746430085,
          0.18015360590562482,
          0.18209218302096333,
          0.1840477636113822,
          0.1860204052992396,
          0.18801016570689377,
          0.19001710245670284,
          0.19204127317102507,
          0.19408273547221858,
          0.19614154698264158,
          0.1982177653246523,
          0.2003114481206089,
          0.20242362223755436,
          0.20455379563706108,
          0.20670189449068,
          0.20886799671825923,
          0.21105218023964684,
          0.21325452297469089,
          0.21547510284323954,
          0.2177139977651408,
          0.21997128566024285,
          0.2222470444483937,
          0.22454135204944145,
          0.22685428638323424,
          0.22918588554021638,
          0.23153621386789536,
          0.23390538243375122,
          0.23629346769525394,
          0.23870054610987357,
          0.24112669413508003,
          0.2435719882283434,
          0.24603650484713363,
          0.24852032044892078,
          0.2510235114911748,
          0.25354615443136574,
          0.2560883257269636,
          0.25864988413716034,
          0.2612298307231778,
          0.26382928051841253,
          0.26644830308171985,
          0.2690869679719549,
          0.2717453447479728,
          0.2744235029686287,
          0.2771215121927779,
          0.2798394419792755,
          0.2825773618869767,
          0.2853353414747366,
          0.28811345030141045,
          0.29091175792585344,
          0.29373033390692066,
          0.2965692478034673,
          0.29942856917434857,
          0.30230836757841967,
          0.30520871257453575,
          0.3081296737215519,
          0.31107132057832343,
          0.31403372270370544,
          0.3170169496565531,
          0.3200210709957216,
          0.32304287855233516,
          0.3260848904581659,
          0.32914750262110853,
          0.3322307637879642,
          0.33533472270553394,
          0.338459428120619,
          0.34160492878002047,
          0.3447712734305394,
          0.34795851081897716,
          0.35116668969213466,
          0.3543958587968131,
          0.3576460668798136,
          0.3609173626879374,
          0.36420979496798556,
          0.3675234124667591,
          0.37085826393105936,
          0.37421439810768736,
          0.3775918637434443,
          0.3809907095851312,
          0.3844109843795493,
          0.38785273687349975,
          0.3913160158137836,
          0.3947994243246264,
          0.3983032621286477,
          0.4018282900929893,
          0.40537452481153036,
          0.40894198287815,
          0.41253068088672756,
          0.41614063543114227,
          0.4197718631052733,
          0.4234243805029999,
          0.42709820421820116,
          0.4307933508447565,
          0.43450983697654505,
          0.43824767920744595,
          0.4420068941313386,
          0.44578696505159016,
          0.4495874943369238,
          0.4534091598423788,
          0.45725195985594425,
          0.46111589266560965,
          0.4650009565593641,
          0.4689071498251967,
          0.472834470751097,
          0.47678291762505404,
          0.4807524887350571,
          0.4847431823690954,
          0.48875499681515816,
          0.49278793036123464,
          0.49684198129531415,
          0.5009169922488848,
          0.5050123506923976,
          0.5091286380677111,
          0.5132658407695392,
          0.5174239451925952,
          0.5216029377315926,
          0.5258028047812454,
          0.5300235327362671,
          0.5342651079913712,
          0.5385275169412713,
          0.5428107459806812,
          0.5471147815043144,
          0.5514396099068845,
          0.555785217583105,
          0.5601515909276897,
          0.5645378647562475,
          0.5689446708958629,
          0.5733720103680167,
          0.5778198577380772,
          0.5822881875714131,
          0.5867769744333928,
          0.5912861928893846,
          0.5958158175047573,
          0.6003658228448792,
          0.6049361834751188,
          0.6095268739608446,
          0.6141378688674253,
          0.618769142760229,
          0.6234206702046245,
          0.6280918643749072,
          0.6327829311401919,
          0.6374940095131739,
          0.6422250636851428,
          0.6469760578473883,
          0.6517469561912003,
          0.656537722907868,
          0.6613483221886816,
          0.6661787182249304,
          0.6710288752079042,
          0.6758987573288928,
          0.6807883287791857,
          0.6856975537500728,
          0.6906263964328437,
          0.6955744201493079,
          0.7005414975372457,
          0.7055279159463852,
          0.7105336290766177,
          0.7155585906554063,
          0.720602754437786,
          0.7256660742063644,
          0.7307485037713208,
          0.7358499969704063,
          0.7409705076689443,
          0.7461099897598302,
          0.7512683971635317,
          0.7564456838280879,
          0.7616418037291103,
          0.7668567108697828
         ]
        },
        {
         "hovertemplate": "<b>Measurement </b><br>ID: 170<br>Cancer type: LXF A677<br>Time: %{x:} day<br>Tumour volume: %{y:.02f} cm^3<br><extra></extra>",
         "legendgroup": "ID: 170",
         "marker": {
          "color": "#B6E880",
          "line": {
           "color": "black",
           "width": 1
          },
          "opacity": 0.7,
          "symbol": "circle"
         },
         "mode": "markers",
         "name": "ID: 170",
         "showlegend": true,
         "type": "scatter",
         "x": [
          0,
          2,
          4,
          7,
          9,
          11,
          14,
          16,
          18,
          21,
          23,
          25,
          28,
          30
         ],
         "y": [
          0.0800565,
          0.094221,
          0.10933,
          0.158994,
          0.17615699999999998,
          0.19407850000000001,
          0.2041605,
          0.246402,
          0.3050865,
          0.3683265,
          0.41817600000000005,
          0.4396155,
          0.5661554999999999,
          0.6206265000000001
         ]
        },
        {
         "hovertemplate": "<b>Simulation </b><br>ID: 170<br>Cancer type: LXF A677<br>Time: %{x:.0f} day<br>Tumour volume: %{y:.02f} cm^3<br><extra></extra>",
         "legendgroup": "ID: 170",
         "line": {
          "color": "#B6E880"
         },
         "mode": "lines",
         "name": "ID: 170",
         "showlegend": false,
         "type": "scatter",
         "x": [
          0,
          0.1507537688442211,
          0.3015075376884422,
          0.4522613065326633,
          0.6030150753768844,
          0.7537688442211055,
          0.9045226130653266,
          1.0552763819095476,
          1.2060301507537687,
          1.3567839195979898,
          1.507537688442211,
          1.658291457286432,
          1.809045226130653,
          1.9597989949748742,
          2.1105527638190953,
          2.2613065326633164,
          2.4120603015075375,
          2.5628140703517586,
          2.7135678391959797,
          2.8643216080402008,
          3.015075376884422,
          3.165829145728643,
          3.316582914572864,
          3.467336683417085,
          3.618090452261306,
          3.7688442211055273,
          3.9195979899497484,
          4.0703517587939695,
          4.221105527638191,
          4.371859296482412,
          4.522613065326633,
          4.673366834170854,
          4.824120603015075,
          4.974874371859296,
          5.125628140703517,
          5.276381909547738,
          5.427135678391959,
          5.57788944723618,
          5.7286432160804015,
          5.879396984924623,
          6.030150753768844,
          6.180904522613065,
          6.331658291457286,
          6.482412060301507,
          6.633165829145728,
          6.783919597989949,
          6.93467336683417,
          7.085427135678391,
          7.236180904522612,
          7.3869346733668335,
          7.537688442211055,
          7.688442211055276,
          7.839195979899497,
          7.989949748743718,
          8.140703517587939,
          8.29145728643216,
          8.442211055276381,
          8.592964824120603,
          8.743718592964823,
          8.894472361809044,
          9.045226130653266,
          9.195979899497488,
          9.346733668341708,
          9.497487437185928,
          9.64824120603015,
          9.798994974874372,
          9.949748743718592,
          10.100502512562812,
          10.251256281407034,
          10.402010050251256,
          10.552763819095476,
          10.703517587939697,
          10.854271356783919,
          11.00502512562814,
          11.15577889447236,
          11.306532663316581,
          11.457286432160803,
          11.608040201005025,
          11.758793969849245,
          11.909547738693465,
          12.060301507537687,
          12.21105527638191,
          12.36180904522613,
          12.51256281407035,
          12.663316582914572,
          12.814070351758794,
          12.964824120603014,
          13.115577889447234,
          13.266331658291456,
          13.417085427135678,
          13.567839195979898,
          13.718592964824118,
          13.86934673366834,
          14.020100502512562,
          14.170854271356783,
          14.321608040201003,
          14.472361809045225,
          14.623115577889447,
          14.773869346733667,
          14.924623115577887,
          15.07537688442211,
          15.226130653266331,
          15.376884422110551,
          15.527638190954772,
          15.678391959798994,
          15.829145728643216,
          15.979899497487436,
          16.130653266331656,
          16.281407035175878,
          16.4321608040201,
          16.58291457286432,
          16.73366834170854,
          16.884422110552762,
          17.035175879396984,
          17.185929648241206,
          17.336683417085425,
          17.487437185929647,
          17.63819095477387,
          17.788944723618087,
          17.93969849246231,
          18.09045226130653,
          18.241206030150753,
          18.391959798994975,
          18.542713567839193,
          18.693467336683415,
          18.844221105527637,
          18.994974874371856,
          19.145728643216078,
          19.2964824120603,
          19.44723618090452,
          19.597989949748744,
          19.748743718592962,
          19.899497487437184,
          20.050251256281406,
          20.201005025125625,
          20.351758793969847,
          20.50251256281407,
          20.65326633165829,
          20.804020100502512,
          20.95477386934673,
          21.105527638190953,
          21.256281407035175,
          21.407035175879393,
          21.557788944723615,
          21.708542713567837,
          21.85929648241206,
          22.01005025125628,
          22.1608040201005,
          22.31155778894472,
          22.462311557788944,
          22.613065326633162,
          22.763819095477384,
          22.914572864321606,
          23.065326633165828,
          23.21608040201005,
          23.36683417085427,
          23.51758793969849,
          23.668341708542712,
          23.81909547738693,
          23.969849246231153,
          24.120603015075375,
          24.271356783919597,
          24.42211055276382,
          24.572864321608037,
          24.72361809045226,
          24.87437185929648,
          25.0251256281407,
          25.17587939698492,
          25.326633165829143,
          25.477386934673365,
          25.628140703517587,
          25.778894472361806,
          25.929648241206028,
          26.08040201005025,
          26.23115577889447,
          26.38190954773869,
          26.532663316582912,
          26.683417085427134,
          26.834170854271356,
          26.984924623115575,
          27.135678391959797,
          27.28643216080402,
          27.437185929648237,
          27.58793969849246,
          27.73869346733668,
          27.889447236180903,
          28.040201005025125,
          28.190954773869343,
          28.341708542713565,
          28.492462311557787,
          28.643216080402006,
          28.793969849246228,
          28.94472361809045,
          29.09547738693467,
          29.246231155778894,
          29.396984924623112,
          29.547738693467334,
          29.698492462311556,
          29.849246231155774,
          30
         ],
         "y": [
          0.08704782020995071,
          0.0879759543921506,
          0.08891284571690211,
          0.0898577397712702,
          0.09081190345720855,
          0.09177508794764211,
          0.09274798573836437,
          0.09373095894297266,
          0.09472386869549841,
          0.09572685951031787,
          0.09674017009861154,
          0.0977636705235292,
          0.09879781158317677,
          0.09984247176322752,
          0.10089769846080213,
          0.10196353907302128,
          0.10304031872964109,
          0.10412802328106446,
          0.10522672125709123,
          0.10633649929221985,
          0.10745754195457496,
          0.10858993978225656,
          0.10973377718727582,
          0.11088915764118652,
          0.112056235579134,
          0.11323512206232694,
          0.11442590251608344,
          0.11562868320848818,
          0.11684357040762584,
          0.11807067038158112,
          0.11931008939843865,
          0.12056193372628315,
          0.12182655330843796,
          0.12310388858069087,
          0.12439404117787076,
          0.12569712086778548,
          0.12701323741824294,
          0.12834250059705096,
          0.12968502017201747,
          0.1310409059109503,
          0.13241026758165733,
          0.13379321495194643,
          0.13518985778962547,
          0.13660030586250235,
          0.13802471673185723,
          0.13946367219431885,
          0.14091688785805384,
          0.14238448249060892,
          0.14386657485953078,
          0.14536328373236618,
          0.14687472787666178,
          0.14840102605996439,
          0.14994229704982065,
          0.1514986596137773,
          0.15307023251938107,
          0.15465713453417868,
          0.15625948442571685,
          0.15787753869325644,
          0.15951183392188537,
          0.16116208399305348,
          0.16282841836330753,
          0.1645109664891943,
          0.1662098578272606,
          0.16792522183405323,
          0.16965718796611898,
          0.17140588568000462,
          0.17317144443225693,
          0.17495399367942271,
          0.1767536628780488,
          0.17857058148468197,
          0.18040510232951704,
          0.18225762788839678,
          0.18412794483294326,
          0.18601619341633915,
          0.18792251389176706,
          0.1898470465124097,
          0.1917899315314497,
          0.19375130920206968,
          0.19573131977745237,
          0.19773010351078035,
          0.19974780065523637,
          0.20178455146400304,
          0.20384049619026295,
          0.20591614931780428,
          0.2080117951568456,
          0.21012724311024938,
          0.21226264655824545,
          0.21441815888963078,
          0.21659393350176948,
          0.2187901238005926,
          0.2210068832005983,
          0.2232443651248519,
          0.22550272300498575,
          0.22778211028119924,
          0.23008268040225885,
          0.2324045868254982,
          0.23474798301681796,
          0.23711302245068583,
          0.23949985861013662,
          0.24190864498677223,
          0.24433953508076162,
          0.24679268240084087,
          0.24926824046431303,
          0.25176636279704834,
          0.254287234863267,
          0.2568319880607796,
          0.25939994552760315,
          0.26199127410945444,
          0.2646061410185466,
          0.26724471383358955,
          0.2699071604997895,
          0.27259364932884955,
          0.27530434899896894,
          0.27803942855484365,
          0.28079905740766625,
          0.28358340533512566,
          0.28639264248140756,
          0.28922693935719407,
          0.2920864668396637,
          0.29497139617249185,
          0.29788189896585016,
          0.30081814719640687,
          0.3037803132073268,
          0.30676856970827127,
          0.3097830897753982,
          0.31282404685136206,
          0.31589179716569993,
          0.31898651016349644,
          0.32210824068707355,
          0.3252571678358308,
          0.3284334711979767,
          0.33163733085052916,
          0.3348689273593152,
          0.3381284417789711,
          0.3414160556529421,
          0.344731951013483,
          0.3480763103816574,
          0.35144931676733837,
          0.35485115366920805,
          0.3582820050747577,
          0.36174205546028804,
          0.36523148979090864,
          0.3687504935205384,
          0.3722992525919056,
          0.37587795343654745,
          0.37948678297481037,
          0.38312592861585004,
          0.38679552803653994,
          0.39049539782542275,
          0.3942260697561537,
          0.3979877273627449,
          0.4017805544955432,
          0.40560473532122987,
          0.40946045432282085,
          0.4133478962996666,
          0.41726724636745244,
          0.4212186899581982,
          0.4252024128202584,
          0.4292186010183218,
          0.4332674409334124,
          0.43734911926288844,
          0.4414638230204428,
          0.44561173953610306,
          0.44979305645623124,
          0.4540079617435244,
          0.4582566436770139,
          0.4625392908520656,
          0.46685609218038043,
          0.47120723688999355,
          0.4755922897382556,
          0.48001160631423756,
          0.4844656625293015,
          0.4889546363948486,
          0.4934787058751946,
          0.4980380488875705,
          0.5026328433021225,
          0.5072632669419118,
          0.5119294975829146,
          0.5166317129540221,
          0.5213700907370407,
          0.5261448085666919,
          0.5309560440306121,
          0.5358039746693529,
          0.5406887779763812,
          0.5456106313980784,
          0.5505697123337415,
          0.5555661981355823,
          0.5606002661087275,
          0.5656720935112194,
          0.570781857554015,
          0.57592898435826,
          0.5811111503191435,
          0.5863313676054298,
          0.5915898051092121,
          0.5968866317225844,
          0.60222201633764,
          0.6075961278464729,
          0.6130091351411766,
          0.6184612071138446,
          0.6239525126565708
         ]
        }
       ],
       "layout": {
        "autosize": true,
        "template": {
         "data": {
          "bar": [
           {
            "error_x": {
             "color": "#2a3f5f"
            },
            "error_y": {
             "color": "#2a3f5f"
            },
            "marker": {
             "line": {
              "color": "white",
              "width": 0.5
             }
            },
            "type": "bar"
           }
          ],
          "barpolar": [
           {
            "marker": {
             "line": {
              "color": "white",
              "width": 0.5
             }
            },
            "type": "barpolar"
           }
          ],
          "carpet": [
           {
            "aaxis": {
             "endlinecolor": "#2a3f5f",
             "gridcolor": "#C8D4E3",
             "linecolor": "#C8D4E3",
             "minorgridcolor": "#C8D4E3",
             "startlinecolor": "#2a3f5f"
            },
            "baxis": {
             "endlinecolor": "#2a3f5f",
             "gridcolor": "#C8D4E3",
             "linecolor": "#C8D4E3",
             "minorgridcolor": "#C8D4E3",
             "startlinecolor": "#2a3f5f"
            },
            "type": "carpet"
           }
          ],
          "choropleth": [
           {
            "colorbar": {
             "outlinewidth": 0,
             "ticks": ""
            },
            "type": "choropleth"
           }
          ],
          "contour": [
           {
            "colorbar": {
             "outlinewidth": 0,
             "ticks": ""
            },
            "colorscale": [
             [
              0,
              "#0d0887"
             ],
             [
              0.1111111111111111,
              "#46039f"
             ],
             [
              0.2222222222222222,
              "#7201a8"
             ],
             [
              0.3333333333333333,
              "#9c179e"
             ],
             [
              0.4444444444444444,
              "#bd3786"
             ],
             [
              0.5555555555555556,
              "#d8576b"
             ],
             [
              0.6666666666666666,
              "#ed7953"
             ],
             [
              0.7777777777777778,
              "#fb9f3a"
             ],
             [
              0.8888888888888888,
              "#fdca26"
             ],
             [
              1,
              "#f0f921"
             ]
            ],
            "type": "contour"
           }
          ],
          "contourcarpet": [
           {
            "colorbar": {
             "outlinewidth": 0,
             "ticks": ""
            },
            "type": "contourcarpet"
           }
          ],
          "heatmap": [
           {
            "colorbar": {
             "outlinewidth": 0,
             "ticks": ""
            },
            "colorscale": [
             [
              0,
              "#0d0887"
             ],
             [
              0.1111111111111111,
              "#46039f"
             ],
             [
              0.2222222222222222,
              "#7201a8"
             ],
             [
              0.3333333333333333,
              "#9c179e"
             ],
             [
              0.4444444444444444,
              "#bd3786"
             ],
             [
              0.5555555555555556,
              "#d8576b"
             ],
             [
              0.6666666666666666,
              "#ed7953"
             ],
             [
              0.7777777777777778,
              "#fb9f3a"
             ],
             [
              0.8888888888888888,
              "#fdca26"
             ],
             [
              1,
              "#f0f921"
             ]
            ],
            "type": "heatmap"
           }
          ],
          "heatmapgl": [
           {
            "colorbar": {
             "outlinewidth": 0,
             "ticks": ""
            },
            "colorscale": [
             [
              0,
              "#0d0887"
             ],
             [
              0.1111111111111111,
              "#46039f"
             ],
             [
              0.2222222222222222,
              "#7201a8"
             ],
             [
              0.3333333333333333,
              "#9c179e"
             ],
             [
              0.4444444444444444,
              "#bd3786"
             ],
             [
              0.5555555555555556,
              "#d8576b"
             ],
             [
              0.6666666666666666,
              "#ed7953"
             ],
             [
              0.7777777777777778,
              "#fb9f3a"
             ],
             [
              0.8888888888888888,
              "#fdca26"
             ],
             [
              1,
              "#f0f921"
             ]
            ],
            "type": "heatmapgl"
           }
          ],
          "histogram": [
           {
            "marker": {
             "colorbar": {
              "outlinewidth": 0,
              "ticks": ""
             }
            },
            "type": "histogram"
           }
          ],
          "histogram2d": [
           {
            "colorbar": {
             "outlinewidth": 0,
             "ticks": ""
            },
            "colorscale": [
             [
              0,
              "#0d0887"
             ],
             [
              0.1111111111111111,
              "#46039f"
             ],
             [
              0.2222222222222222,
              "#7201a8"
             ],
             [
              0.3333333333333333,
              "#9c179e"
             ],
             [
              0.4444444444444444,
              "#bd3786"
             ],
             [
              0.5555555555555556,
              "#d8576b"
             ],
             [
              0.6666666666666666,
              "#ed7953"
             ],
             [
              0.7777777777777778,
              "#fb9f3a"
             ],
             [
              0.8888888888888888,
              "#fdca26"
             ],
             [
              1,
              "#f0f921"
             ]
            ],
            "type": "histogram2d"
           }
          ],
          "histogram2dcontour": [
           {
            "colorbar": {
             "outlinewidth": 0,
             "ticks": ""
            },
            "colorscale": [
             [
              0,
              "#0d0887"
             ],
             [
              0.1111111111111111,
              "#46039f"
             ],
             [
              0.2222222222222222,
              "#7201a8"
             ],
             [
              0.3333333333333333,
              "#9c179e"
             ],
             [
              0.4444444444444444,
              "#bd3786"
             ],
             [
              0.5555555555555556,
              "#d8576b"
             ],
             [
              0.6666666666666666,
              "#ed7953"
             ],
             [
              0.7777777777777778,
              "#fb9f3a"
             ],
             [
              0.8888888888888888,
              "#fdca26"
             ],
             [
              1,
              "#f0f921"
             ]
            ],
            "type": "histogram2dcontour"
           }
          ],
          "mesh3d": [
           {
            "colorbar": {
             "outlinewidth": 0,
             "ticks": ""
            },
            "type": "mesh3d"
           }
          ],
          "parcoords": [
           {
            "line": {
             "colorbar": {
              "outlinewidth": 0,
              "ticks": ""
             }
            },
            "type": "parcoords"
           }
          ],
          "pie": [
           {
            "automargin": true,
            "type": "pie"
           }
          ],
          "scatter": [
           {
            "marker": {
             "colorbar": {
              "outlinewidth": 0,
              "ticks": ""
             }
            },
            "type": "scatter"
           }
          ],
          "scatter3d": [
           {
            "line": {
             "colorbar": {
              "outlinewidth": 0,
              "ticks": ""
             }
            },
            "marker": {
             "colorbar": {
              "outlinewidth": 0,
              "ticks": ""
             }
            },
            "type": "scatter3d"
           }
          ],
          "scattercarpet": [
           {
            "marker": {
             "colorbar": {
              "outlinewidth": 0,
              "ticks": ""
             }
            },
            "type": "scattercarpet"
           }
          ],
          "scattergeo": [
           {
            "marker": {
             "colorbar": {
              "outlinewidth": 0,
              "ticks": ""
             }
            },
            "type": "scattergeo"
           }
          ],
          "scattergl": [
           {
            "marker": {
             "colorbar": {
              "outlinewidth": 0,
              "ticks": ""
             }
            },
            "type": "scattergl"
           }
          ],
          "scattermapbox": [
           {
            "marker": {
             "colorbar": {
              "outlinewidth": 0,
              "ticks": ""
             }
            },
            "type": "scattermapbox"
           }
          ],
          "scatterpolar": [
           {
            "marker": {
             "colorbar": {
              "outlinewidth": 0,
              "ticks": ""
             }
            },
            "type": "scatterpolar"
           }
          ],
          "scatterpolargl": [
           {
            "marker": {
             "colorbar": {
              "outlinewidth": 0,
              "ticks": ""
             }
            },
            "type": "scatterpolargl"
           }
          ],
          "scatterternary": [
           {
            "marker": {
             "colorbar": {
              "outlinewidth": 0,
              "ticks": ""
             }
            },
            "type": "scatterternary"
           }
          ],
          "surface": [
           {
            "colorbar": {
             "outlinewidth": 0,
             "ticks": ""
            },
            "colorscale": [
             [
              0,
              "#0d0887"
             ],
             [
              0.1111111111111111,
              "#46039f"
             ],
             [
              0.2222222222222222,
              "#7201a8"
             ],
             [
              0.3333333333333333,
              "#9c179e"
             ],
             [
              0.4444444444444444,
              "#bd3786"
             ],
             [
              0.5555555555555556,
              "#d8576b"
             ],
             [
              0.6666666666666666,
              "#ed7953"
             ],
             [
              0.7777777777777778,
              "#fb9f3a"
             ],
             [
              0.8888888888888888,
              "#fdca26"
             ],
             [
              1,
              "#f0f921"
             ]
            ],
            "type": "surface"
           }
          ],
          "table": [
           {
            "cells": {
             "fill": {
              "color": "#EBF0F8"
             },
             "line": {
              "color": "white"
             }
            },
            "header": {
             "fill": {
              "color": "#C8D4E3"
             },
             "line": {
              "color": "white"
             }
            },
            "type": "table"
           }
          ]
         },
         "layout": {
          "annotationdefaults": {
           "arrowcolor": "#2a3f5f",
           "arrowhead": 0,
           "arrowwidth": 1
          },
          "coloraxis": {
           "colorbar": {
            "outlinewidth": 0,
            "ticks": ""
           }
          },
          "colorscale": {
           "diverging": [
            [
             0,
             "#8e0152"
            ],
            [
             0.1,
             "#c51b7d"
            ],
            [
             0.2,
             "#de77ae"
            ],
            [
             0.3,
             "#f1b6da"
            ],
            [
             0.4,
             "#fde0ef"
            ],
            [
             0.5,
             "#f7f7f7"
            ],
            [
             0.6,
             "#e6f5d0"
            ],
            [
             0.7,
             "#b8e186"
            ],
            [
             0.8,
             "#7fbc41"
            ],
            [
             0.9,
             "#4d9221"
            ],
            [
             1,
             "#276419"
            ]
           ],
           "sequential": [
            [
             0,
             "#0d0887"
            ],
            [
             0.1111111111111111,
             "#46039f"
            ],
            [
             0.2222222222222222,
             "#7201a8"
            ],
            [
             0.3333333333333333,
             "#9c179e"
            ],
            [
             0.4444444444444444,
             "#bd3786"
            ],
            [
             0.5555555555555556,
             "#d8576b"
            ],
            [
             0.6666666666666666,
             "#ed7953"
            ],
            [
             0.7777777777777778,
             "#fb9f3a"
            ],
            [
             0.8888888888888888,
             "#fdca26"
            ],
            [
             1,
             "#f0f921"
            ]
           ],
           "sequentialminus": [
            [
             0,
             "#0d0887"
            ],
            [
             0.1111111111111111,
             "#46039f"
            ],
            [
             0.2222222222222222,
             "#7201a8"
            ],
            [
             0.3333333333333333,
             "#9c179e"
            ],
            [
             0.4444444444444444,
             "#bd3786"
            ],
            [
             0.5555555555555556,
             "#d8576b"
            ],
            [
             0.6666666666666666,
             "#ed7953"
            ],
            [
             0.7777777777777778,
             "#fb9f3a"
            ],
            [
             0.8888888888888888,
             "#fdca26"
            ],
            [
             1,
             "#f0f921"
            ]
           ]
          },
          "colorway": [
           "#636efa",
           "#EF553B",
           "#00cc96",
           "#ab63fa",
           "#FFA15A",
           "#19d3f3",
           "#FF6692",
           "#B6E880",
           "#FF97FF",
           "#FECB52"
          ],
          "font": {
           "color": "#2a3f5f"
          },
          "geo": {
           "bgcolor": "white",
           "lakecolor": "white",
           "landcolor": "white",
           "showlakes": true,
           "showland": true,
           "subunitcolor": "#C8D4E3"
          },
          "hoverlabel": {
           "align": "left"
          },
          "hovermode": "closest",
          "mapbox": {
           "style": "light"
          },
          "paper_bgcolor": "white",
          "plot_bgcolor": "white",
          "polar": {
           "angularaxis": {
            "gridcolor": "#EBF0F8",
            "linecolor": "#EBF0F8",
            "ticks": ""
           },
           "bgcolor": "white",
           "radialaxis": {
            "gridcolor": "#EBF0F8",
            "linecolor": "#EBF0F8",
            "ticks": ""
           }
          },
          "scene": {
           "xaxis": {
            "backgroundcolor": "white",
            "gridcolor": "#DFE8F3",
            "gridwidth": 2,
            "linecolor": "#EBF0F8",
            "showbackground": true,
            "ticks": "",
            "zerolinecolor": "#EBF0F8"
           },
           "yaxis": {
            "backgroundcolor": "white",
            "gridcolor": "#DFE8F3",
            "gridwidth": 2,
            "linecolor": "#EBF0F8",
            "showbackground": true,
            "ticks": "",
            "zerolinecolor": "#EBF0F8"
           },
           "zaxis": {
            "backgroundcolor": "white",
            "gridcolor": "#DFE8F3",
            "gridwidth": 2,
            "linecolor": "#EBF0F8",
            "showbackground": true,
            "ticks": "",
            "zerolinecolor": "#EBF0F8"
           }
          },
          "shapedefaults": {
           "line": {
            "color": "#2a3f5f"
           }
          },
          "ternary": {
           "aaxis": {
            "gridcolor": "#DFE8F3",
            "linecolor": "#A2B1C6",
            "ticks": ""
           },
           "baxis": {
            "gridcolor": "#DFE8F3",
            "linecolor": "#A2B1C6",
            "ticks": ""
           },
           "bgcolor": "white",
           "caxis": {
            "gridcolor": "#DFE8F3",
            "linecolor": "#A2B1C6",
            "ticks": ""
           }
          },
          "title": {
           "x": 0.05
          },
          "xaxis": {
           "automargin": true,
           "gridcolor": "#EBF0F8",
           "linecolor": "#EBF0F8",
           "ticks": "",
           "title": {
            "standoff": 15
           },
           "zerolinecolor": "#EBF0F8",
           "zerolinewidth": 2
          },
          "yaxis": {
           "automargin": true,
           "gridcolor": "#EBF0F8",
           "linecolor": "#EBF0F8",
           "ticks": "",
           "title": {
            "standoff": 15
           },
           "zerolinecolor": "#EBF0F8",
           "zerolinewidth": 2
          }
         }
        },
        "updatemenus": [
         {
          "buttons": [
           {
            "args": [
             {
              "yaxis.type": "linear"
             }
            ],
            "label": "Linear y-scale",
            "method": "relayout"
           },
           {
            "args": [
             {
              "yaxis.type": "log"
             }
            ],
            "label": "Log y-scale",
            "method": "relayout"
           }
          ],
          "direction": "left",
          "pad": {
           "r": 0,
           "t": -10
          },
          "showactive": true,
          "type": "buttons",
          "x": 0,
          "xanchor": "left",
          "y": 1.15,
          "yanchor": "top"
         }
        ],
        "xaxis": {
         "title": {
          "text": "$\\text{Time in day}$"
         }
        },
        "yaxis": {
         "title": {
          "text": "$\\text{Tumour volume in cm}^3$"
         }
        }
       }
      }
     },
     "metadata": {}
    }
   ],
   "source": [
    "#\n",
    "# Visualise simulated tumour growth together with control growth data.\n",
    "#\n",
    "# This cell needs the above simulated tumour growth and the control growth data:\n",
    "# [times, tumour_growth, data]\n",
    "#\n",
    "\n",
    "import pandas as pd\n",
    "import plotly.colors\n",
    "import plotly.graph_objects as go\n",
    "\n",
    "\n",
    "# Get number of individual mice\n",
    "n_mice = len(tumour_growth)\n",
    "\n",
    "# Define colorscheme\n",
    "colors = plotly.colors.qualitative.Plotly[:n_mice]\n",
    "\n",
    "# Create figure\n",
    "fig = go.Figure()\n",
    "\n",
    "# Scatter plot LXF A677 time-series data for each mouse\n",
    "mouse_ids = data['#ID'].unique()\n",
    "for index, id_m in enumerate(mouse_ids):\n",
    "    # Create mask for mouse\n",
    "    mask = data['#ID'] == id_m\n",
    "\n",
    "    # Get time points for mouse\n",
    "    observed_times = data['TIME in day'][mask]\n",
    "\n",
    "    # Get observed tumour volumes for mouse\n",
    "    observed_volumes = data['TUMOUR VOLUME in cm^3'][mask]\n",
    "\n",
    "    # Get simulated tumour volumes for mouse\n",
    "    simulated_volumes = tumour_growth[index, :]\n",
    "\n",
    "    # Plot data\n",
    "    fig.add_trace(go.Scatter(\n",
    "        x=observed_times,\n",
    "        y=observed_volumes,\n",
    "        legendgroup=\"ID: %d\" % id_m,\n",
    "        name=\"ID: %d\" % id_m,\n",
    "        showlegend=True,\n",
    "        hovertemplate=\n",
    "            \"<b>Measurement </b><br>\" +\n",
    "            \"ID: %d<br>\" % id_m +\n",
    "            \"Time: %{x:} day<br>\" +\n",
    "            \"Tumour volume: %{y:.02f} cm^3<br>\" +\n",
    "            \"Cancer type: LXF A677<br>\" +\n",
    "            \"<extra></extra>\",\n",
    "        mode=\"markers\",\n",
    "        marker=dict(\n",
    "            symbol='circle',\n",
    "            opacity=0.7,\n",
    "            line=dict(color='black', width=1),\n",
    "            color=colors[index])\n",
    "    ))\n",
    "\n",
    "    # Plot simulated growth\n",
    "    fig.add_trace(go.Scatter(\n",
    "        x=times,\n",
    "        y=simulated_volumes,\n",
    "        legendgroup=\"ID: %d\" % id_m,\n",
    "        name=\"ID: %d\" % id_m,\n",
    "        showlegend=False,\n",
    "        hovertemplate=\n",
    "            \"<b>Simulation </b><br>\" +\n",
    "            \"ID: %d<br>\" % id_m +\n",
    "            \"Time: %{x:.0f} day<br>\" +\n",
    "            \"Tumour volume: %{y:.02f} cm^3<br>\" +\n",
    "            \"Cancer type: LXF A677<br>\" +\n",
    "            \"<extra></extra>\",\n",
    "        mode=\"lines\",\n",
    "        line=dict(color=colors[index])\n",
    "    ))\n",
    "\n",
    "# Set X, Y axis and figure size\n",
    "fig.update_layout(\n",
    "    autosize=True,\n",
    "    xaxis_title=r'$\\text{Time in day}$',\n",
    "    yaxis_title=r'$\\text{Tumour volume in cm}^3$',\n",
    "    template=\"plotly_white\")\n",
    "\n",
    "# Add switch between linear and log y-scale\n",
    "fig.update_layout(\n",
    "    updatemenus=[\n",
    "        dict(\n",
    "            type = \"buttons\",\n",
    "            direction = \"left\",\n",
    "            buttons=list([\n",
    "                dict(\n",
    "                    args=[{\"yaxis.type\": \"linear\"}],\n",
    "                    label=\"Linear y-scale\",\n",
    "                    method=\"relayout\"\n",
    "                ),\n",
    "                dict(\n",
    "                    args=[{\"yaxis.type\": \"log\"}],\n",
    "                    label=\"Log y-scale\",\n",
    "                    method=\"relayout\"\n",
    "                )\n",
    "            ]),\n",
    "            pad={\"r\": 0, \"t\": -10},\n",
    "            showactive=True,\n",
    "            x=0.0,\n",
    "            xanchor=\"left\",\n",
    "            y=1.15,\n",
    "            yanchor=\"top\"\n",
    "        ),\n",
    "    ]\n",
    ")\n",
    "\n",
    "# Show figure\n",
    "fig.show()"
   ]
  },
  {
   "cell_type": "markdown",
   "metadata": {},
   "source": [
    "**Figure 1:** Naïve optimisation of the structural model for each mouse starting from an initial point $\\psi _0=(1, 1, 1)$ in parameter space. We used the CMA-ES optimiser to minimise the squared distance between the model predictions and the observations. If the model was identifiable and the optimiser perfect, the inferred set of model parameters would be independent of the starting point of the optmisation $\\psi _0$."
   ]
  },
  {
   "cell_type": "markdown",
   "metadata": {},
   "source": [
    "## Stability of optimisation\n",
    "\n",
    "In PKPD modelling, we are interested in predicting efficacious, while safe dosing regimens for patients. Those predictions crucially depend on the accuracy of the estimated structural model parameters $\\hat \\psi $. This is especially true when we try to predict the effects of the drug outside of the measured time frame, or try to predict disease progression under alternative treatment strategies.\n",
    "\n",
    "The stability of the inference of patient parameters can already be assessed by analysing the inferred parameters from the mouse data set. If the above inferred structural model parameters are trustworthy, running the same optimisation routine multiple times would yield the same set of parameters every time. To illustrate the sensitivity of numerical optimisers we will now choose a different starting point for each optimisation (uniform in $[10^{-3}, 10^3]$ for each parameter). Ideally we would like to see that each optimisation returns very similar model parameters for an individual. This would give us confidence to interpret those model parameters in a biological context."
   ]
  },
  {
   "cell_type": "code",
   "execution_count": 45,
   "metadata": {
    "tags": []
   },
   "outputs": [
    {
     "output_type": "stream",
     "name": "stdout",
     "text": "\n----------------------------------------\nUnexpected termination.\nCurrent best score: 0.5354064517406236\nCurrent best position:\n-1.51301662058000206e-05\n 8.60852454032899118e+02\n 8.85105664970445016e-02\n----------------------------------------\n"
    }
   ],
   "source": [
    "#\n",
    "# Run optimisation multiple times from random initial starting points.\n",
    "#\n",
    "# This cell needs above defined wrapped myokit model:\n",
    "# [PintsModel]\n",
    "#\n",
    "\n",
    "import os\n",
    "\n",
    "import myokit\n",
    "import numpy as np\n",
    "import pandas as pd\n",
    "import pints\n",
    "\n",
    "\n",
    "# Define number of optimisation runs for each individual\n",
    "n_runs = 10\n",
    "\n",
    "# Import data\n",
    "# Get path of current working directory\n",
    "path = os.getcwd()\n",
    "\n",
    "# Import LXF A677 control growth data\n",
    "data = pd.read_csv(path + '/data/lxf_control_growth.csv')\n",
    "n_mice = len(data['#ID'].unique())\n",
    "\n",
    "# Define container for the structural model estimates\n",
    "# Shape (n_mice, n_runs, n_parameters)\n",
    "n_parameters = 3\n",
    "mouse_parameters_multi_runs = np.empty(shape=(n_mice, n_runs, n_parameters))\n",
    "\n",
    "# Define container for the objective function score for the optimised parameters\n",
    "mouse_scores_multi_runs = np.empty(shape=(n_mice, n_runs))\n",
    "\n",
    "# Define random starting points over many orders of magnitude\n",
    "# Shape = (n_runs, n_parameters)\n",
    "initial_parameters = np.random.uniform(low=1E-3, high=1E3, size=(n_runs, n_parameters))\n",
    "\n",
    "# Find mouse parameters for LXF A677 population\n",
    "mouse_ids = data['#ID'].unique()\n",
    "for index, mouse_id in enumerate(mouse_ids):\n",
    "    # Create mask for mouse with specfied ID\n",
    "    mouse_mask = data['#ID'] == mouse_id\n",
    "\n",
    "    # Get relevant time points\n",
    "    times = data[mouse_mask]['TIME in day'].to_numpy()\n",
    "\n",
    "    # Get measured tumour volumes\n",
    "    observed_volumes = data[mouse_mask]['TUMOUR VOLUME in cm^3'].to_numpy()\n",
    "\n",
    "    # Create inverse problem\n",
    "    problem = pints.SingleOutputProblem(PintsModel(), times, observed_volumes)\n",
    "\n",
    "    # Create sum of squares error objective function\n",
    "    error = pints.SumOfSquaresError(problem)\n",
    "\n",
    "    # Run optimisation multiple times\n",
    "    for run_id, initial_params in enumerate(initial_parameters):\n",
    "        # Create optimisation controller with a CMA-ES optimiser\n",
    "        optimiser = pints.OptimisationController(\n",
    "            function=error,\n",
    "            x0=initial_params,\n",
    "            method=pints.CMAES)\n",
    "\n",
    "        # Disable logging mode\n",
    "        optimiser.set_log_to_screen(False)\n",
    "\n",
    "        # Parallelise optimisation\n",
    "        optimiser.set_parallel(True)\n",
    "\n",
    "        # Find optimal parameters\n",
    "        try:\n",
    "            estimates, score = optimiser.run()\n",
    "        except:\n",
    "            # If inference breaks fill estimates with nan\n",
    "            estimates = np.array([np.nan, np.nan, np.nan])\n",
    "            score = np.nan\n",
    "\n",
    "        # Save estimates and score\n",
    "        mouse_parameters_multi_runs[index, run_id, :] = estimates\n",
    "        mouse_scores_multi_runs[index, run_id] = score"
   ]
  },
  {
   "cell_type": "markdown",
   "metadata": {},
   "source": [
    "The unexpected termination message indicates that we ran into optimisation errors for at least one run. Let us explore the parameters from the successfull optimisations below."
   ]
  },
  {
   "cell_type": "code",
   "execution_count": 56,
   "metadata": {},
   "outputs": [
    {
     "output_type": "display_data",
     "data": {
      "application/vnd.plotly.v1+json": {
       "config": {
        "plotlyServerURL": "https://plot.ly"
       },
       "data": [
        {
         "boxpoints": "all",
         "jitter": 0.2,
         "line": {
          "color": "#636EFA"
         },
         "marker": {
          "color": "#636EFA",
          "line": {
           "color": "black",
           "width": 1
          },
          "opacity": 0.7,
          "symbol": "circle"
         },
         "name": "Initial tumour volume in cm^3",
         "pointpos": -1.5,
         "type": "box",
         "visible": true,
         "y": [
          0.03787197190458757,
          0.19180798409819882,
          0.13922855182616173,
          0.19180736335803222,
          0.14382021537781386,
          0.138287673708458,
          -1.6458386164327978,
          0.1386426937632125,
          0.1393367083582841,
          0.19180801665660802
         ]
        },
        {
         "boxpoints": "all",
         "jitter": 0.2,
         "line": {
          "color": "#EF553B"
         },
         "marker": {
          "color": "#EF553B",
          "line": {
           "color": "black",
           "width": 1
          },
          "opacity": 0.7,
          "symbol": "circle"
         },
         "name": "Exponential growth rate in 1/day",
         "pointpos": -1.5,
         "type": "box",
         "visible": true,
         "y": [
          2340.2667464020806,
          -573.8668028726662,
          0.27545219628770123,
          -1128.1208367088345,
          0.2542097119302666,
          0.2771303248431008,
          -2375.796184111921,
          0.27656234277246516,
          0.27533250126752973,
          -4801.591251532671
         ]
        },
        {
         "boxpoints": "all",
         "jitter": 0.2,
         "line": {
          "color": "#00CC96"
         },
         "marker": {
          "color": "#00CC96",
          "line": {
           "color": "black",
           "width": 1
          },
          "opacity": 0.7,
          "symbol": "circle"
         },
         "name": "Linear growth rate in cm^3/day",
         "pointpos": -1.5,
         "type": "box",
         "visible": true,
         "y": [
          0.10068631069344547,
          -1446.0803559344065,
          0.13091829376919673,
          1090.95737672874,
          0.13420787579099372,
          0.1308333861797216,
          0.21107874481019717,
          0.13092213747493836,
          0.1309497700872812,
          -2449.864627871592
         ]
        },
        {
         "boxpoints": "all",
         "jitter": 0.2,
         "line": {
          "color": "#AB63FA"
         },
         "marker": {
          "color": "#AB63FA",
          "line": {
           "color": "black",
           "width": 1
          },
          "opacity": 0.7,
          "symbol": "circle"
         },
         "name": "Score",
         "pointpos": -1.5,
         "type": "box",
         "visible": true,
         "y": [
          0.06891561011795783,
          15.910379008552953,
          0.03186300160677763,
          15.91037778807956,
          0.03199705193293541,
          0.03186647191044368,
          8.613045611538867,
          0.03186198828810744,
          0.03186080222889093,
          15.910379008552999
         ]
        },
        {
         "boxpoints": "all",
         "jitter": 0.2,
         "line": {
          "color": "#636EFA"
         },
         "marker": {
          "color": "#636EFA",
          "line": {
           "color": "black",
           "width": 1
          },
          "opacity": 0.7,
          "symbol": "circle"
         },
         "name": "Initial tumour volume in cm^3",
         "pointpos": -1.5,
         "type": "box",
         "visible": false,
         "y": [
          0.057520658907869705,
          0.07724755227038738,
          0.05752067220726918,
          0.0772435541230134,
          0.0747992993289435,
          0.07724398768881081,
          0.05752067655225882,
          0.057537413058645306,
          0.057520696871145964,
          0.057519701270601284
         ]
        },
        {
         "boxpoints": "all",
         "jitter": 0.2,
         "line": {
          "color": "#EF553B"
         },
         "marker": {
          "color": "#EF553B",
          "line": {
           "color": "black",
           "width": 1
          },
          "opacity": 0.7,
          "symbol": "circle"
         },
         "name": "Exponential growth rate in 1/day",
         "pointpos": -1.5,
         "type": "box",
         "visible": false,
         "y": [
          1282.6398571594204,
          -1717.13183099122,
          1282.6390574226634,
          -842.2087546712797,
          0.16503513249234353,
          -1045.005839611256,
          1282.6383961435813,
          392.34120101486445,
          1282.6374897144708,
          371.4544436427874
         ]
        },
        {
         "boxpoints": "all",
         "jitter": 0.2,
         "line": {
          "color": "#00CC96"
         },
         "marker": {
          "color": "#00CC96",
          "line": {
           "color": "black",
           "width": 1
          },
          "opacity": 0.7,
          "symbol": "circle"
         },
         "name": "Linear growth rate in cm^3/day",
         "pointpos": -1.5,
         "type": "box",
         "visible": false,
         "y": [
          0.016438401759529552,
          -2339.6989404560154,
          0.01643840158668103,
          191.97038341542046,
          0.020388812345214526,
          170.0823812225994,
          0.016438400225578957,
          0.016439220010506066,
          0.01643840043543888,
          0.016440472504844986
         ]
        },
        {
         "boxpoints": "all",
         "jitter": 0.2,
         "line": {
          "color": "#AB63FA"
         },
         "marker": {
          "color": "#AB63FA",
          "line": {
           "color": "black",
           "width": 1
          },
          "opacity": 0.7,
          "symbol": "circle"
         },
         "name": "Score",
         "pointpos": -1.5,
         "type": "box",
         "visible": false,
         "y": [
          0.008274945550941173,
          1.6108444959288473,
          0.008274945550939423,
          1.6108444521218057,
          0.00745032751781893,
          1.6108445925764228,
          0.008274945550941111,
          0.008274294690261693,
          0.008274945550943706,
          0.008274380260268393
         ]
        },
        {
         "boxpoints": "all",
         "jitter": 0.2,
         "line": {
          "color": "#636EFA"
         },
         "marker": {
          "color": "#636EFA",
          "line": {
           "color": "black",
           "width": 1
          },
          "opacity": 0.7,
          "symbol": "circle"
         },
         "name": "Initial tumour volume in cm^3",
         "pointpos": -1.5,
         "type": "box",
         "visible": false,
         "y": [
          -0.00007830161469413497,
          0.1861994976963297,
          null,
          0.18618922898775117,
          0.18621348234748392,
          1.0015173889891232e-7,
          0.18620001150068566,
          -0.0000032833308519870528,
          -1.4251037573807704e-7,
          0.1861999880972356
         ]
        },
        {
         "boxpoints": "all",
         "jitter": 0.2,
         "line": {
          "color": "#EF553B"
         },
         "marker": {
          "color": "#EF553B",
          "line": {
           "color": "black",
           "width": 1
          },
          "opacity": 0.7,
          "symbol": "circle"
         },
         "name": "Exponential growth rate in 1/day",
         "pointpos": -1.5,
         "type": "box",
         "visible": false,
         "y": [
          992.4401255687048,
          -320.39225805425366,
          null,
          -1235.981824986174,
          -879.0728776575512,
          2240.172077046141,
          -2106.9317398838293,
          730.2265188949938,
          1222.0312321692627,
          -264.5177100468085
         ]
        },
        {
         "boxpoints": "all",
         "jitter": 0.2,
         "line": {
          "color": "#00CC96"
         },
         "marker": {
          "color": "#00CC96",
          "line": {
           "color": "black",
           "width": 1
          },
          "opacity": 0.7,
          "symbol": "circle"
         },
         "name": "Linear growth rate in cm^3/day",
         "pointpos": -1.5,
         "type": "box",
         "visible": false,
         "y": [
          0.08839916219419026,
          -244.7035867248423,
          null,
          481.71449681075745,
          -6.3288879763283346,
          0.08839956958347814,
          -1895.5098741838503,
          0.08846808198452079,
          0.08846256234099505,
          -132.0742665136557
         ]
        },
        {
         "boxpoints": "all",
         "jitter": 0.2,
         "line": {
          "color": "#AB63FA"
         },
         "marker": {
          "color": "#AB63FA",
          "line": {
           "color": "black",
           "width": 1
          },
          "opacity": 0.7,
          "symbol": "circle"
         },
         "name": "Score",
         "pointpos": -1.5,
         "type": "box",
         "visible": false,
         "y": [
          0.5363605724337885,
          12.133281793651836,
          null,
          12.133282772611786,
          12.133282795027224,
          0.5335440124361458,
          12.133282878457631,
          0.5351101866066921,
          0.5357893205612914,
          12.133283181679998
         ]
        },
        {
         "boxpoints": "all",
         "jitter": 0.2,
         "line": {
          "color": "#636EFA"
         },
         "marker": {
          "color": "#636EFA",
          "line": {
           "color": "black",
           "width": 1
          },
          "opacity": 0.7,
          "symbol": "circle"
         },
         "name": "Initial tumour volume in cm^3",
         "pointpos": -1.5,
         "type": "box",
         "visible": false,
         "y": [
          0.11858870636166671,
          0.11858850794429913,
          0.14866935338286552,
          0.11858869578980251,
          0.19325459733335273,
          0.01780487446546426,
          0.11858848579764629,
          0.14896307870476888,
          0.14902085592958006,
          0.11858870114228508
         ]
        },
        {
         "boxpoints": "all",
         "jitter": 0.2,
         "line": {
          "color": "#EF553B"
         },
         "marker": {
          "color": "#EF553B",
          "line": {
           "color": "black",
           "width": 1
          },
          "opacity": 0.7,
          "symbol": "circle"
         },
         "name": "Exponential growth rate in 1/day",
         "pointpos": -1.5,
         "type": "box",
         "visible": false,
         "y": [
          -572.2905804845202,
          -3485.9434391419722,
          0.05465892726248375,
          -281.9866219523773,
          0.03334115749494468,
          1858.147489435862,
          -1633.9526320258017,
          0.054276305574925625,
          0.054260480938807205,
          -941.4581536889089
         ]
        },
        {
         "boxpoints": "all",
         "jitter": 0.2,
         "line": {
          "color": "#00CC96"
         },
         "marker": {
          "color": "#00CC96",
          "line": {
           "color": "black",
           "width": 1
          },
          "opacity": 0.7,
          "symbol": "circle"
         },
         "name": "Linear growth rate in cm^3/day",
         "pointpos": -1.5,
         "type": "box",
         "visible": false,
         "y": [
          360.5287115666354,
          -2598.597498890034,
          0.12688178083156307,
          88.8010123051993,
          -44555563664.45808,
          0.04083239959705123,
          -2229.9103310613323,
          0.12876540207359197,
          0.1287791658102321,
          -2076.3191103762865
         ]
        },
        {
         "boxpoints": "all",
         "jitter": 0.2,
         "line": {
          "color": "#AB63FA"
         },
         "marker": {
          "color": "#AB63FA",
          "line": {
           "color": "black",
           "width": 1
          },
          "opacity": 0.7,
          "symbol": "circle"
         },
         "name": "Score",
         "pointpos": -1.5,
         "type": "box",
         "visible": false,
         "y": [
          7.614829068410004,
          7.614829180273249,
          0.04018138978566521,
          7.614828866374769,
          0.05102707824682537,
          0.10936592780076315,
          7.614829180273249,
          0.040185056918123414,
          0.04018452570679957,
          7.614829003032632
         ]
        },
        {
         "boxpoints": "all",
         "jitter": 0.2,
         "line": {
          "color": "#636EFA"
         },
         "marker": {
          "color": "#636EFA",
          "line": {
           "color": "black",
           "width": 1
          },
          "opacity": 0.7,
          "symbol": "circle"
         },
         "name": "Initial tumour volume in cm^3",
         "pointpos": -1.5,
         "type": "box",
         "visible": false,
         "y": [
          -0.1990432198663218,
          0.07933053996022504,
          -0.1996693049530068,
          0.07933428687635831,
          0.07944855140887007,
          -0.19460020767152394,
          -0.19104861384371769,
          0.07932934933858701,
          -0.20268980102737721,
          0.07933077751928683
         ]
        },
        {
         "boxpoints": "all",
         "jitter": 0.2,
         "line": {
          "color": "#EF553B"
         },
         "marker": {
          "color": "#EF553B",
          "line": {
           "color": "black",
           "width": 1
          },
          "opacity": 0.7,
          "symbol": "circle"
         },
         "name": "Exponential growth rate in 1/day",
         "pointpos": -1.5,
         "type": "box",
         "visible": false,
         "y": [
          968.4217606679962,
          -801.4150459426469,
          831.1790001544119,
          -114.52546390089748,
          -356.86939559438963,
          1454.6154662447668,
          1082.8680292200947,
          -163.74080665198528,
          886.2762696781857,
          -633.1945203600326
         ]
        },
        {
         "boxpoints": "all",
         "jitter": 0.2,
         "line": {
          "color": "#00CC96"
         },
         "marker": {
          "color": "#00CC96",
          "line": {
           "color": "black",
           "width": 1
          },
          "opacity": 0.7,
          "symbol": "circle"
         },
         "name": "Linear growth rate in cm^3/day",
         "pointpos": -1.5,
         "type": "box",
         "visible": false,
         "y": [
          0.06014976984591494,
          -1218.812246129196,
          0.059678310290473595,
          140.74147715028238,
          751.0421097954933,
          0.05944518803735432,
          0.059388456712928535,
          -28.202797402667713,
          0.059843144742885455,
          990.1786316377454
         ]
        },
        {
         "boxpoints": "all",
         "jitter": 0.2,
         "line": {
          "color": "#AB63FA"
         },
         "marker": {
          "color": "#AB63FA",
          "line": {
           "color": "black",
           "width": 1
          },
          "opacity": 0.7,
          "symbol": "circle"
         },
         "name": "Score",
         "pointpos": -1.5,
         "type": "box",
         "visible": false,
         "y": [
          1.1141209193075938,
          12.135807596358006,
          1.1127418147489054,
          12.135807077449588,
          12.135807233177157,
          1.114137939899445,
          1.1166449638520952,
          12.135805638882104,
          1.1084513221173378,
          12.135807487127206
         ]
        },
        {
         "boxpoints": "all",
         "jitter": 0.2,
         "line": {
          "color": "#636EFA"
         },
         "marker": {
          "color": "#636EFA",
          "line": {
           "color": "black",
           "width": 1
          },
          "opacity": 0.7,
          "symbol": "circle"
         },
         "name": "Initial tumour volume in cm^3",
         "pointpos": -1.5,
         "type": "box",
         "visible": false,
         "y": [
          0.008565226375871154,
          0.00856605545612326,
          0.00828731850848119,
          0.0032812441251271174,
          0.13327408898083545,
          0.008697354217615022,
          0.1058751700943812,
          0.009604742933094835,
          0.13158841640861252,
          0.10587469228723222
         ]
        },
        {
         "boxpoints": "all",
         "jitter": 0.2,
         "line": {
          "color": "#EF553B"
         },
         "marker": {
          "color": "#EF553B",
          "line": {
           "color": "black",
           "width": 1
          },
          "opacity": 0.7,
          "symbol": "circle"
         },
         "name": "Exponential growth rate in 1/day",
         "pointpos": -1.5,
         "type": "box",
         "visible": false,
         "y": [
          1432.9204203867794,
          1432.7937467157342,
          736.8651736687506,
          -131.99403389427695,
          0.19735964079864102,
          791.1315077998884,
          -2329.5362384984774,
          555.2133313858619,
          0.20291062713405927,
          -675.5428701684658
         ]
        },
        {
         "boxpoints": "all",
         "jitter": 0.2,
         "line": {
          "color": "#00CC96"
         },
         "marker": {
          "color": "#00CC96",
          "line": {
           "color": "black",
           "width": 1
          },
          "opacity": 0.7,
          "symbol": "circle"
         },
         "name": "Linear growth rate in cm^3/day",
         "pointpos": -1.5,
         "type": "box",
         "visible": false,
         "y": [
          0.0802821193891448,
          0.08028204937464915,
          0.08029678545205522,
          0.08044884245774028,
          0.10853691614642945,
          0.08028161315644868,
          -840.2354942474559,
          0.08023662737799583,
          0.10755987516395085,
          -27.25172796118946
         ]
        },
        {
         "boxpoints": "all",
         "jitter": 0.2,
         "line": {
          "color": "#AB63FA"
         },
         "marker": {
          "color": "#AB63FA",
          "line": {
           "color": "black",
           "width": 1
          },
          "opacity": 0.7,
          "symbol": "circle"
         },
         "name": "Score",
         "pointpos": -1.5,
         "type": "box",
         "visible": false,
         "y": [
          0.2920557557341309,
          0.2920557557333225,
          0.2920277680871671,
          0.29186942334739596,
          0.2588573465070794,
          0.29203974212680794,
          17.512382248407278,
          0.29199256327005757,
          0.25888266372414664,
          17.512381921899948
         ]
        },
        {
         "boxpoints": "all",
         "jitter": 0.2,
         "line": {
          "color": "#636EFA"
         },
         "marker": {
          "color": "#636EFA",
          "line": {
           "color": "black",
           "width": 1
          },
          "opacity": 0.7,
          "symbol": "circle"
         },
         "name": "Initial tumour volume in cm^3",
         "pointpos": -1.5,
         "type": "box",
         "visible": false,
         "y": [
          0.06622619812450956,
          0.12300800545701222,
          0.06622628064648005,
          0.12300745401565459,
          0.12380950050183984,
          0.06622338852105847,
          0.12300800330930368,
          0.12332976374538995,
          0.06622335489845615,
          0.06622609810627782
         ]
        },
        {
         "boxpoints": "all",
         "jitter": 0.2,
         "line": {
          "color": "#EF553B"
         },
         "marker": {
          "color": "#EF553B",
          "line": {
           "color": "black",
           "width": 1
          },
          "opacity": 0.7,
          "symbol": "circle"
         },
         "name": "Exponential growth rate in 1/day",
         "pointpos": -1.5,
         "type": "box",
         "visible": false,
         "y": [
          448.01406968342326,
          -2106.345109633058,
          448.0132868921757,
          -184.0877784097656,
          0.043031613827181195,
          1211.8245478565268,
          -6485.140440674374,
          0.043521180505595766,
          1211.7048730052263,
          448.0143910228184
         ]
        },
        {
         "boxpoints": "all",
         "jitter": 0.2,
         "line": {
          "color": "#00CC96"
         },
         "marker": {
          "color": "#00CC96",
          "line": {
           "color": "black",
           "width": 1
          },
          "opacity": 0.7,
          "symbol": "circle"
         },
         "name": "Linear growth rate in cm^3/day",
         "pointpos": -1.5,
         "type": "box",
         "visible": false,
         "y": [
          0.02129780560675463,
          -1978.1636771184685,
          0.02129779100693854,
          -384.2083663853905,
          0.07299522627689767,
          0.021296213596562138,
          -4337.407937826045,
          0.07139561985797159,
          0.021296212774379687,
          0.021297794196429385
         ]
        },
        {
         "boxpoints": "all",
         "jitter": 0.2,
         "line": {
          "color": "#AB63FA"
         },
         "marker": {
          "color": "#AB63FA",
          "line": {
           "color": "black",
           "width": 1
          },
          "opacity": 0.7,
          "symbol": "circle"
         },
         "name": "Score",
         "pointpos": -1.5,
         "type": "box",
         "visible": false,
         "y": [
          0.018940825435938644,
          2.61365620928025,
          0.018940825435206414,
          2.6136532515605153,
          0.002915292959153966,
          0.018944615918915046,
          2.61365620928025,
          0.0029160191458289988,
          0.018944615918918772,
          0.01894082543507703
         ]
        },
        {
         "boxpoints": "all",
         "jitter": 0.2,
         "line": {
          "color": "#636EFA"
         },
         "marker": {
          "color": "#636EFA",
          "line": {
           "color": "black",
           "width": 1
          },
          "opacity": 0.7,
          "symbol": "circle"
         },
         "name": "Initial tumour volume in cm^3",
         "pointpos": -1.5,
         "type": "box",
         "visible": false,
         "y": [
          0.026938992766217723,
          0.026938968184455993,
          0.02690606510641444,
          0.08006238813651614,
          0.08704782361717488,
          0.02692260956419575,
          0.0800564577988027,
          0.0870367751230321,
          0.026960548377494786,
          0.08005650672617236
         ]
        },
        {
         "boxpoints": "all",
         "jitter": 0.2,
         "line": {
          "color": "#EF553B"
         },
         "marker": {
          "color": "#EF553B",
          "line": {
           "color": "black",
           "width": 1
          },
          "opacity": 0.7,
          "symbol": "circle"
         },
         "name": "Exponential growth rate in 1/day",
         "pointpos": -1.5,
         "type": "box",
         "visible": false,
         "y": [
          1189.9175394970632,
          1189.9185364822704,
          721.0485834464256,
          -635.9437030367222,
          0.036172156753411025,
          1894.1766096514966,
          -356.24393899796127,
          0.036175887130354786,
          382.6810301096316,
          -1967.3381628161844
         ]
        },
        {
         "boxpoints": "all",
         "jitter": 0.2,
         "line": {
          "color": "#00CC96"
         },
         "marker": {
          "color": "#00CC96",
          "line": {
           "color": "black",
           "width": 1
          },
          "opacity": 0.7,
          "symbol": "circle"
         },
         "name": "Linear growth rate in cm^3/day",
         "pointpos": -1.5,
         "type": "box",
         "visible": false,
         "y": [
          0.017329337084158295,
          0.017329339521136505,
          0.017332438633671943,
          -342.49403323872934,
          0.19325840706315062,
          0.017329935979832616,
          561.7596955585242,
          0.19317661737574332,
          0.01733022138939178,
          -1434.656747546409
         ]
        },
        {
         "boxpoints": "all",
         "jitter": 0.2,
         "line": {
          "color": "#AB63FA"
         },
         "marker": {
          "color": "#AB63FA",
          "line": {
           "color": "black",
           "width": 1
          },
          "opacity": 0.7,
          "symbol": "circle"
         },
         "name": "Score",
         "pointpos": -1.5,
         "type": "box",
         "visible": false,
         "y": [
          0.022871282671217276,
          0.022871282671308706,
          0.02286980718811386,
          1.5197873562485031,
          0.002315593340780872,
          0.022873456065391037,
          1.5197872269450952,
          0.0023156003239794528,
          0.022865785631061758,
          1.5197873494566574
         ]
        }
       ],
       "layout": {
        "autosize": true,
        "legend": {
         "x": 1.05,
         "xanchor": "left",
         "y": 0.01,
         "yanchor": "bottom"
        },
        "template": {
         "data": {
          "bar": [
           {
            "error_x": {
             "color": "#2a3f5f"
            },
            "error_y": {
             "color": "#2a3f5f"
            },
            "marker": {
             "line": {
              "color": "white",
              "width": 0.5
             }
            },
            "type": "bar"
           }
          ],
          "barpolar": [
           {
            "marker": {
             "line": {
              "color": "white",
              "width": 0.5
             }
            },
            "type": "barpolar"
           }
          ],
          "carpet": [
           {
            "aaxis": {
             "endlinecolor": "#2a3f5f",
             "gridcolor": "#C8D4E3",
             "linecolor": "#C8D4E3",
             "minorgridcolor": "#C8D4E3",
             "startlinecolor": "#2a3f5f"
            },
            "baxis": {
             "endlinecolor": "#2a3f5f",
             "gridcolor": "#C8D4E3",
             "linecolor": "#C8D4E3",
             "minorgridcolor": "#C8D4E3",
             "startlinecolor": "#2a3f5f"
            },
            "type": "carpet"
           }
          ],
          "choropleth": [
           {
            "colorbar": {
             "outlinewidth": 0,
             "ticks": ""
            },
            "type": "choropleth"
           }
          ],
          "contour": [
           {
            "colorbar": {
             "outlinewidth": 0,
             "ticks": ""
            },
            "colorscale": [
             [
              0,
              "#0d0887"
             ],
             [
              0.1111111111111111,
              "#46039f"
             ],
             [
              0.2222222222222222,
              "#7201a8"
             ],
             [
              0.3333333333333333,
              "#9c179e"
             ],
             [
              0.4444444444444444,
              "#bd3786"
             ],
             [
              0.5555555555555556,
              "#d8576b"
             ],
             [
              0.6666666666666666,
              "#ed7953"
             ],
             [
              0.7777777777777778,
              "#fb9f3a"
             ],
             [
              0.8888888888888888,
              "#fdca26"
             ],
             [
              1,
              "#f0f921"
             ]
            ],
            "type": "contour"
           }
          ],
          "contourcarpet": [
           {
            "colorbar": {
             "outlinewidth": 0,
             "ticks": ""
            },
            "type": "contourcarpet"
           }
          ],
          "heatmap": [
           {
            "colorbar": {
             "outlinewidth": 0,
             "ticks": ""
            },
            "colorscale": [
             [
              0,
              "#0d0887"
             ],
             [
              0.1111111111111111,
              "#46039f"
             ],
             [
              0.2222222222222222,
              "#7201a8"
             ],
             [
              0.3333333333333333,
              "#9c179e"
             ],
             [
              0.4444444444444444,
              "#bd3786"
             ],
             [
              0.5555555555555556,
              "#d8576b"
             ],
             [
              0.6666666666666666,
              "#ed7953"
             ],
             [
              0.7777777777777778,
              "#fb9f3a"
             ],
             [
              0.8888888888888888,
              "#fdca26"
             ],
             [
              1,
              "#f0f921"
             ]
            ],
            "type": "heatmap"
           }
          ],
          "heatmapgl": [
           {
            "colorbar": {
             "outlinewidth": 0,
             "ticks": ""
            },
            "colorscale": [
             [
              0,
              "#0d0887"
             ],
             [
              0.1111111111111111,
              "#46039f"
             ],
             [
              0.2222222222222222,
              "#7201a8"
             ],
             [
              0.3333333333333333,
              "#9c179e"
             ],
             [
              0.4444444444444444,
              "#bd3786"
             ],
             [
              0.5555555555555556,
              "#d8576b"
             ],
             [
              0.6666666666666666,
              "#ed7953"
             ],
             [
              0.7777777777777778,
              "#fb9f3a"
             ],
             [
              0.8888888888888888,
              "#fdca26"
             ],
             [
              1,
              "#f0f921"
             ]
            ],
            "type": "heatmapgl"
           }
          ],
          "histogram": [
           {
            "marker": {
             "colorbar": {
              "outlinewidth": 0,
              "ticks": ""
             }
            },
            "type": "histogram"
           }
          ],
          "histogram2d": [
           {
            "colorbar": {
             "outlinewidth": 0,
             "ticks": ""
            },
            "colorscale": [
             [
              0,
              "#0d0887"
             ],
             [
              0.1111111111111111,
              "#46039f"
             ],
             [
              0.2222222222222222,
              "#7201a8"
             ],
             [
              0.3333333333333333,
              "#9c179e"
             ],
             [
              0.4444444444444444,
              "#bd3786"
             ],
             [
              0.5555555555555556,
              "#d8576b"
             ],
             [
              0.6666666666666666,
              "#ed7953"
             ],
             [
              0.7777777777777778,
              "#fb9f3a"
             ],
             [
              0.8888888888888888,
              "#fdca26"
             ],
             [
              1,
              "#f0f921"
             ]
            ],
            "type": "histogram2d"
           }
          ],
          "histogram2dcontour": [
           {
            "colorbar": {
             "outlinewidth": 0,
             "ticks": ""
            },
            "colorscale": [
             [
              0,
              "#0d0887"
             ],
             [
              0.1111111111111111,
              "#46039f"
             ],
             [
              0.2222222222222222,
              "#7201a8"
             ],
             [
              0.3333333333333333,
              "#9c179e"
             ],
             [
              0.4444444444444444,
              "#bd3786"
             ],
             [
              0.5555555555555556,
              "#d8576b"
             ],
             [
              0.6666666666666666,
              "#ed7953"
             ],
             [
              0.7777777777777778,
              "#fb9f3a"
             ],
             [
              0.8888888888888888,
              "#fdca26"
             ],
             [
              1,
              "#f0f921"
             ]
            ],
            "type": "histogram2dcontour"
           }
          ],
          "mesh3d": [
           {
            "colorbar": {
             "outlinewidth": 0,
             "ticks": ""
            },
            "type": "mesh3d"
           }
          ],
          "parcoords": [
           {
            "line": {
             "colorbar": {
              "outlinewidth": 0,
              "ticks": ""
             }
            },
            "type": "parcoords"
           }
          ],
          "pie": [
           {
            "automargin": true,
            "type": "pie"
           }
          ],
          "scatter": [
           {
            "marker": {
             "colorbar": {
              "outlinewidth": 0,
              "ticks": ""
             }
            },
            "type": "scatter"
           }
          ],
          "scatter3d": [
           {
            "line": {
             "colorbar": {
              "outlinewidth": 0,
              "ticks": ""
             }
            },
            "marker": {
             "colorbar": {
              "outlinewidth": 0,
              "ticks": ""
             }
            },
            "type": "scatter3d"
           }
          ],
          "scattercarpet": [
           {
            "marker": {
             "colorbar": {
              "outlinewidth": 0,
              "ticks": ""
             }
            },
            "type": "scattercarpet"
           }
          ],
          "scattergeo": [
           {
            "marker": {
             "colorbar": {
              "outlinewidth": 0,
              "ticks": ""
             }
            },
            "type": "scattergeo"
           }
          ],
          "scattergl": [
           {
            "marker": {
             "colorbar": {
              "outlinewidth": 0,
              "ticks": ""
             }
            },
            "type": "scattergl"
           }
          ],
          "scattermapbox": [
           {
            "marker": {
             "colorbar": {
              "outlinewidth": 0,
              "ticks": ""
             }
            },
            "type": "scattermapbox"
           }
          ],
          "scatterpolar": [
           {
            "marker": {
             "colorbar": {
              "outlinewidth": 0,
              "ticks": ""
             }
            },
            "type": "scatterpolar"
           }
          ],
          "scatterpolargl": [
           {
            "marker": {
             "colorbar": {
              "outlinewidth": 0,
              "ticks": ""
             }
            },
            "type": "scatterpolargl"
           }
          ],
          "scatterternary": [
           {
            "marker": {
             "colorbar": {
              "outlinewidth": 0,
              "ticks": ""
             }
            },
            "type": "scatterternary"
           }
          ],
          "surface": [
           {
            "colorbar": {
             "outlinewidth": 0,
             "ticks": ""
            },
            "colorscale": [
             [
              0,
              "#0d0887"
             ],
             [
              0.1111111111111111,
              "#46039f"
             ],
             [
              0.2222222222222222,
              "#7201a8"
             ],
             [
              0.3333333333333333,
              "#9c179e"
             ],
             [
              0.4444444444444444,
              "#bd3786"
             ],
             [
              0.5555555555555556,
              "#d8576b"
             ],
             [
              0.6666666666666666,
              "#ed7953"
             ],
             [
              0.7777777777777778,
              "#fb9f3a"
             ],
             [
              0.8888888888888888,
              "#fdca26"
             ],
             [
              1,
              "#f0f921"
             ]
            ],
            "type": "surface"
           }
          ],
          "table": [
           {
            "cells": {
             "fill": {
              "color": "#EBF0F8"
             },
             "line": {
              "color": "white"
             }
            },
            "header": {
             "fill": {
              "color": "#C8D4E3"
             },
             "line": {
              "color": "white"
             }
            },
            "type": "table"
           }
          ]
         },
         "layout": {
          "annotationdefaults": {
           "arrowcolor": "#2a3f5f",
           "arrowhead": 0,
           "arrowwidth": 1
          },
          "coloraxis": {
           "colorbar": {
            "outlinewidth": 0,
            "ticks": ""
           }
          },
          "colorscale": {
           "diverging": [
            [
             0,
             "#8e0152"
            ],
            [
             0.1,
             "#c51b7d"
            ],
            [
             0.2,
             "#de77ae"
            ],
            [
             0.3,
             "#f1b6da"
            ],
            [
             0.4,
             "#fde0ef"
            ],
            [
             0.5,
             "#f7f7f7"
            ],
            [
             0.6,
             "#e6f5d0"
            ],
            [
             0.7,
             "#b8e186"
            ],
            [
             0.8,
             "#7fbc41"
            ],
            [
             0.9,
             "#4d9221"
            ],
            [
             1,
             "#276419"
            ]
           ],
           "sequential": [
            [
             0,
             "#0d0887"
            ],
            [
             0.1111111111111111,
             "#46039f"
            ],
            [
             0.2222222222222222,
             "#7201a8"
            ],
            [
             0.3333333333333333,
             "#9c179e"
            ],
            [
             0.4444444444444444,
             "#bd3786"
            ],
            [
             0.5555555555555556,
             "#d8576b"
            ],
            [
             0.6666666666666666,
             "#ed7953"
            ],
            [
             0.7777777777777778,
             "#fb9f3a"
            ],
            [
             0.8888888888888888,
             "#fdca26"
            ],
            [
             1,
             "#f0f921"
            ]
           ],
           "sequentialminus": [
            [
             0,
             "#0d0887"
            ],
            [
             0.1111111111111111,
             "#46039f"
            ],
            [
             0.2222222222222222,
             "#7201a8"
            ],
            [
             0.3333333333333333,
             "#9c179e"
            ],
            [
             0.4444444444444444,
             "#bd3786"
            ],
            [
             0.5555555555555556,
             "#d8576b"
            ],
            [
             0.6666666666666666,
             "#ed7953"
            ],
            [
             0.7777777777777778,
             "#fb9f3a"
            ],
            [
             0.8888888888888888,
             "#fdca26"
            ],
            [
             1,
             "#f0f921"
            ]
           ]
          },
          "colorway": [
           "#636efa",
           "#EF553B",
           "#00cc96",
           "#ab63fa",
           "#FFA15A",
           "#19d3f3",
           "#FF6692",
           "#B6E880",
           "#FF97FF",
           "#FECB52"
          ],
          "font": {
           "color": "#2a3f5f"
          },
          "geo": {
           "bgcolor": "white",
           "lakecolor": "white",
           "landcolor": "white",
           "showlakes": true,
           "showland": true,
           "subunitcolor": "#C8D4E3"
          },
          "hoverlabel": {
           "align": "left"
          },
          "hovermode": "closest",
          "mapbox": {
           "style": "light"
          },
          "paper_bgcolor": "white",
          "plot_bgcolor": "white",
          "polar": {
           "angularaxis": {
            "gridcolor": "#EBF0F8",
            "linecolor": "#EBF0F8",
            "ticks": ""
           },
           "bgcolor": "white",
           "radialaxis": {
            "gridcolor": "#EBF0F8",
            "linecolor": "#EBF0F8",
            "ticks": ""
           }
          },
          "scene": {
           "xaxis": {
            "backgroundcolor": "white",
            "gridcolor": "#DFE8F3",
            "gridwidth": 2,
            "linecolor": "#EBF0F8",
            "showbackground": true,
            "ticks": "",
            "zerolinecolor": "#EBF0F8"
           },
           "yaxis": {
            "backgroundcolor": "white",
            "gridcolor": "#DFE8F3",
            "gridwidth": 2,
            "linecolor": "#EBF0F8",
            "showbackground": true,
            "ticks": "",
            "zerolinecolor": "#EBF0F8"
           },
           "zaxis": {
            "backgroundcolor": "white",
            "gridcolor": "#DFE8F3",
            "gridwidth": 2,
            "linecolor": "#EBF0F8",
            "showbackground": true,
            "ticks": "",
            "zerolinecolor": "#EBF0F8"
           }
          },
          "shapedefaults": {
           "line": {
            "color": "#2a3f5f"
           }
          },
          "ternary": {
           "aaxis": {
            "gridcolor": "#DFE8F3",
            "linecolor": "#A2B1C6",
            "ticks": ""
           },
           "baxis": {
            "gridcolor": "#DFE8F3",
            "linecolor": "#A2B1C6",
            "ticks": ""
           },
           "bgcolor": "white",
           "caxis": {
            "gridcolor": "#DFE8F3",
            "linecolor": "#A2B1C6",
            "ticks": ""
           }
          },
          "title": {
           "x": 0.05
          },
          "xaxis": {
           "automargin": true,
           "gridcolor": "#EBF0F8",
           "linecolor": "#EBF0F8",
           "ticks": "",
           "title": {
            "standoff": 15
           },
           "zerolinecolor": "#EBF0F8",
           "zerolinewidth": 2
          },
          "yaxis": {
           "automargin": true,
           "gridcolor": "#EBF0F8",
           "linecolor": "#EBF0F8",
           "ticks": "",
           "title": {
            "standoff": 15
           },
           "zerolinecolor": "#EBF0F8",
           "zerolinewidth": 2
          }
         }
        },
        "updatemenus": [
         {
          "buttons": [
           {
            "args": [
             {
              "visible": [
               true,
               true,
               true,
               true,
               false,
               false,
               false,
               false,
               false,
               false,
               false,
               false,
               false,
               false,
               false,
               false,
               false,
               false,
               false,
               false,
               false,
               false,
               false,
               false,
               false,
               false,
               false,
               false,
               false,
               false,
               false,
               false
              ]
             }
            ],
            "label": "ID: 40",
            "method": "restyle"
           },
           {
            "args": [
             {
              "visible": [
               false,
               false,
               false,
               false,
               true,
               true,
               true,
               true,
               false,
               false,
               false,
               false,
               false,
               false,
               false,
               false,
               false,
               false,
               false,
               false,
               false,
               false,
               false,
               false,
               false,
               false,
               false,
               false,
               false,
               false,
               false,
               false
              ]
             }
            ],
            "label": "ID: 94",
            "method": "restyle"
           },
           {
            "args": [
             {
              "visible": [
               false,
               false,
               false,
               false,
               false,
               false,
               false,
               false,
               true,
               true,
               true,
               true,
               false,
               false,
               false,
               false,
               false,
               false,
               false,
               false,
               false,
               false,
               false,
               false,
               false,
               false,
               false,
               false,
               false,
               false,
               false,
               false
              ]
             }
            ],
            "label": "ID: 95",
            "method": "restyle"
           },
           {
            "args": [
             {
              "visible": [
               false,
               false,
               false,
               false,
               false,
               false,
               false,
               false,
               false,
               false,
               false,
               false,
               true,
               true,
               true,
               true,
               false,
               false,
               false,
               false,
               false,
               false,
               false,
               false,
               false,
               false,
               false,
               false,
               false,
               false,
               false,
               false
              ]
             }
            ],
            "label": "ID: 136",
            "method": "restyle"
           },
           {
            "args": [
             {
              "visible": [
               false,
               false,
               false,
               false,
               false,
               false,
               false,
               false,
               false,
               false,
               false,
               false,
               false,
               false,
               false,
               false,
               true,
               true,
               true,
               true,
               false,
               false,
               false,
               false,
               false,
               false,
               false,
               false,
               false,
               false,
               false,
               false
              ]
             }
            ],
            "label": "ID: 140",
            "method": "restyle"
           },
           {
            "args": [
             {
              "visible": [
               false,
               false,
               false,
               false,
               false,
               false,
               false,
               false,
               false,
               false,
               false,
               false,
               false,
               false,
               false,
               false,
               false,
               false,
               false,
               false,
               true,
               true,
               true,
               true,
               false,
               false,
               false,
               false,
               false,
               false,
               false,
               false
              ]
             }
            ],
            "label": "ID: 155",
            "method": "restyle"
           },
           {
            "args": [
             {
              "visible": [
               false,
               false,
               false,
               false,
               false,
               false,
               false,
               false,
               false,
               false,
               false,
               false,
               false,
               false,
               false,
               false,
               false,
               false,
               false,
               false,
               false,
               false,
               false,
               false,
               true,
               true,
               true,
               true,
               false,
               false,
               false,
               false
              ]
             }
            ],
            "label": "ID: 169",
            "method": "restyle"
           },
           {
            "args": [
             {
              "visible": [
               false,
               false,
               false,
               false,
               false,
               false,
               false,
               false,
               false,
               false,
               false,
               false,
               false,
               false,
               false,
               false,
               false,
               false,
               false,
               false,
               false,
               false,
               false,
               false,
               false,
               false,
               false,
               false,
               true,
               true,
               true,
               true
              ]
             }
            ],
            "label": "ID: 170",
            "method": "restyle"
           }
          ],
          "direction": "right",
          "pad": {
           "r": 0,
           "t": -10
          },
          "showactive": true,
          "type": "buttons",
          "x": 0,
          "xanchor": "left",
          "y": 1.1,
          "yanchor": "top"
         }
        ]
       }
      }
     },
     "metadata": {}
    }
   ],
   "source": [
    "#\n",
    "# Visualisation of the spread of optimised model parameters for multiple runs from different initial points.\n",
    "#\n",
    "# This cell needs the above optimised model parameters and their respective objective function scores, as well as the data\n",
    "# [mouse_parameters_multi_runs, mouse_scores_multi_runs, data]\n",
    "#\n",
    "\n",
    "import plotly.colors\n",
    "import plotly.graph_objects as go\n",
    "\n",
    "\n",
    "# Get mouse ids\n",
    "mouse_ids = data['#ID'].unique()\n",
    "\n",
    "# Get number of parameters + score (for visualisation)\n",
    "n_params = mouse_parameters_multi_runs.shape[2] + 1\n",
    "\n",
    "# Define colorscheme\n",
    "colors = plotly.colors.qualitative.Plotly[:n_params]\n",
    "\n",
    "# Get optimised parameter sets\n",
    "optimised_parameters =  mouse_parameters_multi_runs\n",
    "\n",
    "# Get scores for parameters\n",
    "scores = mouse_scores_multi_runs\n",
    "\n",
    "# Create figure\n",
    "fig = go.Figure()\n",
    "\n",
    "# Box plot of optimised model parameters\n",
    "for index, id_m in enumerate(mouse_ids):\n",
    "    # Get optimised parameters\n",
    "    parameters = optimised_parameters[index, ...]\n",
    "\n",
    "    # Get scores\n",
    "    score = scores[index, :]\n",
    "\n",
    "    # Create box plot of for initial tumour volume\n",
    "    fig.add_trace(\n",
    "        go.Box(\n",
    "            y=parameters[:, 0],  \n",
    "            name=\"Initial tumour volume in cm^3\",\n",
    "            boxpoints='all',\n",
    "            jitter=0.2,\n",
    "            pointpos=-1.5,\n",
    "            visible=True if index == 0 else False,\n",
    "            marker=dict(\n",
    "                symbol='circle',\n",
    "                opacity=0.7,\n",
    "                line=dict(color='black', width=1)),\n",
    "            marker_color=colors[0],\n",
    "            line_color=colors[0]))\n",
    "\n",
    "    # Create box plot of for exponential tumour growth\n",
    "    fig.add_trace(\n",
    "        go.Box(\n",
    "            y=parameters[:, 1],  \n",
    "            name=\"Exponential growth rate in 1/day\",\n",
    "            boxpoints='all',\n",
    "            jitter=0.2,\n",
    "            pointpos=-1.5,\n",
    "            visible=True if index == 0 else False,\n",
    "            marker=dict(\n",
    "                symbol='circle',\n",
    "                opacity=0.7,\n",
    "                line=dict(color='black', width=1)),\n",
    "            marker_color=colors[1],\n",
    "            line_color=colors[1]))\n",
    "\n",
    "    # Create box plot of for linear tumour growth\n",
    "    fig.add_trace(\n",
    "        go.Box(\n",
    "            y=parameters[:, 2],  \n",
    "            name=\"Linear growth rate in cm^3/day\",\n",
    "            boxpoints='all',\n",
    "            jitter=0.2,\n",
    "            pointpos=-1.5,\n",
    "            visible=True if index == 0 else False,\n",
    "            marker=dict(\n",
    "                symbol='circle',\n",
    "                opacity=0.7,\n",
    "                line=dict(color='black', width=1)),\n",
    "            marker_color=colors[2],\n",
    "            line_color=colors[2]))\n",
    "    \n",
    "    # Create box plot of for objective function score\n",
    "    fig.add_trace(\n",
    "        go.Box(\n",
    "            y=score,  \n",
    "            name=\"Score\",\n",
    "            boxpoints='all',\n",
    "            jitter=0.2,\n",
    "            pointpos=-1.5,\n",
    "            visible=True if index == 0 else False,\n",
    "            marker=dict(\n",
    "                symbol='circle',\n",
    "                opacity=0.7,\n",
    "                line=dict(color='black', width=1)),\n",
    "            marker_color=colors[3],\n",
    "            line_color=colors[3]))\n",
    "\n",
    "# Set figure size\n",
    "fig.update_layout(\n",
    "    autosize=True,\n",
    "    template=\"plotly_white\")\n",
    "\n",
    "# Add switch between mice\n",
    "fig.update_layout(\n",
    "    updatemenus=[\n",
    "        dict(\n",
    "            type = \"buttons\",\n",
    "            direction = \"right\",\n",
    "            buttons=list([\n",
    "                dict(\n",
    "                    args=[{\"visible\": [True]*4 + [False]*(4 * 7)}],\n",
    "                    label=\"ID: %d\" % mouse_ids[0],\n",
    "                    method=\"restyle\"\n",
    "                ),\n",
    "                dict(\n",
    "                    args=[{\"visible\": [False]*4 + [True]*4 + [False]*(4 * 6)}],\n",
    "                    label=\"ID: %d\" % mouse_ids[1],\n",
    "                    method=\"restyle\"\n",
    "                ),\n",
    "                dict(\n",
    "                    args=[{\"visible\": [False]*(4 * 2) + [True]*4 + [False]*(4 * 5)}],\n",
    "                    label=\"ID: %d\" % mouse_ids[2],\n",
    "                    method=\"restyle\"\n",
    "                ),\n",
    "                dict(\n",
    "                    args=[{\"visible\": [False]*(4 * 3) + [True]*4 + [False]*(4 * 4)}],\n",
    "                    label=\"ID: %d\" % mouse_ids[3],\n",
    "                    method=\"restyle\"\n",
    "                ),\n",
    "                dict(\n",
    "                    args=[{\"visible\": [False]*(4 * 4) + [True]*4 + [False]*(4 * 3)}],\n",
    "                    label=\"ID: %d\" % mouse_ids[4],\n",
    "                    method=\"restyle\"\n",
    "                ),\n",
    "                dict(\n",
    "                    args=[{\"visible\": [False]*(4 * 5) + [True]*4 + [False]*(4 * 2)}],\n",
    "                    label=\"ID: %d\" % mouse_ids[5],\n",
    "                    method=\"restyle\"\n",
    "                ),\n",
    "                dict(\n",
    "                    args=[{\"visible\": [False]*(4 * 6) + [True]*4 + [False]* 4}],\n",
    "                    label=\"ID: %d\" % mouse_ids[6],\n",
    "                    method=\"restyle\"\n",
    "                ),\n",
    "                dict(\n",
    "                    args=[{\"visible\": [False]*(4 * 7) + [True]*4}],\n",
    "                    label=\"ID: %d\" % mouse_ids[7],\n",
    "                    method=\"restyle\"\n",
    "                )\n",
    "            ]),\n",
    "            pad={\"r\": 0, \"t\": -10},\n",
    "            showactive=True,\n",
    "            x=0.0,\n",
    "            xanchor=\"left\",\n",
    "            y=1.1,\n",
    "            yanchor=\"top\"\n",
    "        )\n",
    "    ]\n",
    ")\n",
    "\n",
    "# Position legend\n",
    "fig.update_layout(legend=dict(\n",
    "    yanchor=\"bottom\",\n",
    "    y=0.01,\n",
    "    xanchor=\"left\",\n",
    "    x=1.05))\n",
    "\n",
    "# Show figure\n",
    "fig.show()\n"
   ]
  },
  {
   "cell_type": "markdown",
   "metadata": {},
   "source": [
    "**Figure 2:** Scatter and box plot of the structural model parameters $\\psi $ (initial tumour volume $V_0$, exponential growth rate $\\lambda _0$, linear growth rate $\\lambda _1$) found by minimising the squared distance between the predictions and the observations using a CMA-ES optimiser. For each individual the optimisation routine was run 10 times from a uniformly sampled starting point in $[10^{-3}, 10^3]$. In addition to the optimised parameters, also the distribution of the associated objective function scores is presented."
   ]
  },
  {
   "cell_type": "markdown",
   "metadata": {},
   "source": [
    "Running the same optimisation routine multiple times reveals that the optimiser has a hard time to find the globally optimal set of model parameters $\\psi $, see Figure 2. Especially the exponential growth rate $\\lambda _0$ and the linear growth rate $\\lambda _1$ appear to vary significantly between optimisations for all individuals. \n",
    "\n",
    "The reasons why an optimiser, such as CMA-ES, may fail to produce the same estimates when running the optimisation multiple times, are manifold, but may be grouped into model-specific and optimiser-specific reasons. \n",
    "\n",
    "An optimiser might fail to return a consistent set of model parameters, because the model may produce identical predictions for distinct sets of model parameters $\\psi $ and $\\psi'$. If those parameters happen to also minimise the objective function $L$, the optimiser returns either $\\psi $ or $\\psi '$. In other words, if the objective function $L$ cannot distinguish between two parameter sets, because the predictions of the model are identical $V^s_T(\\psi) = V^s_T(\\psi')$, although the parameters are not $\\psi \\neq \\psi'$, the optimiser will return either parameter set. In this scenario the model is said to be non-identifiable. Non-identifiability may either occur because the model structure does not allow unambiguous parameter identification (structural non-identifiability), or the data is not sufficient to reveal the relevance of a subset of parameters (practical non-identifiability) [6].\n",
    "\n",
    "On the other hand, an optimiser might fail to find the globally optimal parameter set of an identifiable model, because of limitations of the optimisation routine itself.  "
   ]
  },
  {
   "cell_type": "markdown",
   "metadata": {},
   "source": [
    "## Non-dimensionalisation of the model\n",
    "\n",
    "One of the simplest strategies to avoid a structural non-identifiability of a model is to transform the model parameters $\\psi $ from a biologically meaningful set of parameters $(V_0, \\lambda _0, \\lambda _1)$ to a set of dimensionless model parameters. This can be done by introducing characteristic scales of the problem, such as a characteristic tumour volume $V^c_T$ and a characteristic time $t^c$. If we express the structural predictions of the tumour volume in units of the characteristic tumour volume $v = V^s_T / V^c_T$ and the time in units of the characteristic time $\\tau = t / t^c $, we can rewrite the structural model in a nondimensional form\n",
    "\n",
    "\\begin{equation*}\n",
    "   \\frac{\\text{d}v}{\\text{d}\\tau} = \\frac{a_1 v}{v + a_0},\n",
    "\\end{equation*}\n",
    "\n",
    "where $a_0 = \\lambda _1 / 2 \\lambda _0 V^c_T$ and $a_1 = \\lambda _1 t^c / V^c_T$. In other words, we used the characteristic volume and time scales to express the model parameters in units of them\n",
    "\n",
    "\\begin{equation*}\n",
    "   (V_0, \\lambda _0, \\lambda _1) = \\left( v_0\\, V^c_T, \\frac{a_1}{a_0}\\frac{1}{t^c}, a_1 \\frac{V^c_T}{t^c} \\right) .\n",
    "\\end{equation*}\n",
    "\n",
    "Here, $(v_0, a_0, a_1)$ take the role of the model parameters. Arguably for this biological process a characteristic volume scale is $1\\, \\text{cm}^3$ and a characteristic time scale is $1\\, \\text{day}$.\n"
   ]
  },
  {
   "cell_type": "code",
   "execution_count": 1,
   "metadata": {
    "tags": []
   },
   "outputs": [
    {
     "output_type": "stream",
     "name": "stdout",
     "text": "[[model]]\n# Initial values\ncentral.volume_t = 0\n\n[central]\na_0 = 1\n    in [1]\na_1 = 0\n    in [1]\ntime = 0 bind time\n    in [1]\ndot(volume_t) = a_1 * volume_t / (volume_t + a_0)\n    in [1]\n\n\n"
    }
   ],
   "source": [
    "#\n",
    "# Create structural model.\n",
    "#\n",
    "\n",
    "import pkpd.model as m\n",
    "\n",
    "\n",
    "# Create model\n",
    "model = m.create_dimless_tumour_growth_model()\n",
    "\n",
    "# Show model\n",
    "print(model.code())"
   ]
  },
  {
   "cell_type": "code",
   "execution_count": 2,
   "metadata": {},
   "outputs": [],
   "source": [
    "#\n",
    "# Define pints model wrapper such that myokit model can be used for inference.\n",
    "#\n",
    "\n",
    "import myokit\n",
    "import pints\n",
    "\n",
    "from pkpd import model as model\n",
    "\n",
    "\n",
    "# Wrap myokit model, so it can be used with pints\n",
    "class DimensionlessPintsModel(pints.ForwardModel):\n",
    "    def __init__(self):\n",
    "        # Create myokit model\n",
    "        model = m.create_dimless_tumour_growth_model()\n",
    "\n",
    "        # Create simulator\n",
    "        self.sim = myokit.Simulation(model)\n",
    "\n",
    "    def n_parameters(self):\n",
    "        \"\"\"\n",
    "        Number of parameters to fit. Here initial v, a_0, a_1.\n",
    "        \"\"\"\n",
    "        return 3\n",
    "\n",
    "    def n_outputs(self):\n",
    "        return 1\n",
    "\n",
    "    def simulate(self, parameters, times):\n",
    "        # Reset simulation\n",
    "        self.sim.reset()\n",
    "\n",
    "        # Sort input parameters\n",
    "        initial_volume, a_0, a_1 = parameters\n",
    "\n",
    "        # Set initial condition\n",
    "        self.sim.set_state([initial_volume])\n",
    "\n",
    "        # Set growth constants\n",
    "        self.sim.set_constant('central.a_0', a_0)\n",
    "        self.sim.set_constant('central.a_1', a_1)\n",
    "\n",
    "        # Define logged variable\n",
    "        loggedVariable = 'central.volume_t'\n",
    "\n",
    "        # Simulate\n",
    "        output = self.sim.run(times[-1] + 1, log=[loggedVariable], log_times=times)\n",
    "        result = output[loggedVariable]\n",
    "\n",
    "        return np.array(result)"
   ]
  },
  {
   "cell_type": "code",
   "execution_count": 3,
   "metadata": {
    "tags": []
   },
   "outputs": [
    {
     "output_type": "stream",
     "name": "stdout",
     "text": "\n----------------------------------------\nUnexpected termination.\nCurrent best score: 4.313994139950808\nCurrent best position:\n-1.55166849151601127e+00\n 8.29856227814939530e+02\n-9.86147709376575676e+02\n----------------------------------------\n"
    }
   ],
   "source": [
    "#\n",
    "# Run optimisation multiple times from random initial starting points. \n",
    "#\n",
    "# Characteristic scale were chosen to be: V^c_T = 1 cm^3, t^c = 1 day.\n",
    "#\n",
    "# This cell needs above defined wrapped myokit model:\n",
    "# [DimensionlessPintsModel]\n",
    "#\n",
    "\n",
    "import os\n",
    "\n",
    "import myokit\n",
    "import numpy as np\n",
    "import pandas as pd\n",
    "import pints\n",
    "\n",
    "\n",
    "# Define characteristic scales\n",
    "characteristic_volume = 1  # in cm^3\n",
    "characteristic_time = 1  # in day\n",
    "\n",
    "# Define number of optimisation runs for each individual\n",
    "n_runs = 10\n",
    "\n",
    "# Import data\n",
    "# Get path of current working directory\n",
    "path = os.getcwd()\n",
    "\n",
    "# Import LXF A677 control growth data\n",
    "data = pd.read_csv(path + '/data/lxf_control_growth.csv')\n",
    "n_mice = len(data['#ID'].unique())\n",
    "\n",
    "# Define container for the structural model estimates\n",
    "# Shape (n_mice, n_runs, n_parameters)\n",
    "n_parameters = 3\n",
    "mouse_parameters_multi_runs_dimless = np.empty(shape=(n_mice, n_runs, n_parameters))\n",
    "\n",
    "# Define container for the objective function score for the optimised parameters\n",
    "mouse_scores_multi_runs_dimless = np.empty(shape=(n_mice, n_runs))\n",
    "\n",
    "# Define random starting points over many orders of magnitude\n",
    "# Shape = (n_runs, n_parameters)\n",
    "initial_parameters = np.random.uniform(low=1E-3, high=1E3, size=(n_runs, n_parameters))\n",
    "\n",
    "# Find mouse parameters for LXF A677 population\n",
    "mouse_ids = data['#ID'].unique()\n",
    "for index, mouse_id in enumerate(mouse_ids):\n",
    "    # Create mask for mouse with specfied ID\n",
    "    mouse_mask = data['#ID'] == mouse_id\n",
    "\n",
    "    # Get relevant time points\n",
    "    times = data[mouse_mask]['TIME in day'].to_numpy() / characteristic_time\n",
    "\n",
    "    # Get measured tumour volumes\n",
    "    observed_volumes = data[mouse_mask]['TUMOUR VOLUME in cm^3'].to_numpy() / characteristic_volume\n",
    "\n",
    "    # Create inverse problem\n",
    "    problem = pints.SingleOutputProblem(DimensionlessPintsModel(), times, observed_volumes)\n",
    "\n",
    "    # Create sum of squares error objective function\n",
    "    error = pints.SumOfSquaresError(problem)\n",
    "\n",
    "    # Run optimisation multiple times\n",
    "    for run_id, initial_params in enumerate(initial_parameters):\n",
    "        # Create optimisation controller with a CMA-ES optimiser\n",
    "        optimiser = pints.OptimisationController(\n",
    "            function=error,\n",
    "            x0=initial_params,\n",
    "            method=pints.CMAES)\n",
    "\n",
    "        # Disable logging mode\n",
    "        optimiser.set_log_to_screen(False)\n",
    "\n",
    "        # Parallelise optimisation\n",
    "        optimiser.set_parallel(True)\n",
    "\n",
    "        # Find optimal parameters\n",
    "        try:\n",
    "            estimates, score = optimiser.run()\n",
    "        except:\n",
    "            # If inference breaks fill estimates with nan\n",
    "            estimates = np.array([np.nan, np.nan, np.nan])\n",
    "            score = np.nan\n",
    "\n",
    "        # Save estimates and score\n",
    "        mouse_parameters_multi_runs_dimless[index, run_id, :] = estimates\n",
    "        mouse_scores_multi_runs_dimless[index, run_id] = score"
   ]
  },
  {
   "cell_type": "code",
   "execution_count": 10,
   "metadata": {},
   "outputs": [],
   "source": [
    "#\n",
    "# Transform dimensionless parameters back to biological parameters.\n",
    "# \n",
    "# This cell needs the above inferred dimensionless parameters and the characteristic volume and time scale:\n",
    "# [mouse_parameters_multi_runs_dimless, characteristic_volume, characteristic_time]\n",
    "#\n",
    "\n",
    "import numpy as np\n",
    "\n",
    "\n",
    "# Initialise container for backtransformed paramters\n",
    "# Shape (n_mice, n_runs, n_parameters)\n",
    "mouse_parameters_dimless_optimisation = np.empty(shape=mouse_parameters_multi_runs_dimless.shape)\n",
    "\n",
    "# Transform initial volumes\n",
    "mouse_parameters_dimless_optimisation[:, :, 0] = mouse_parameters_multi_runs_dimless[:, :, 0] * characteristic_volume\n",
    "\n",
    "# Transform exponential growth rate\n",
    "# lambda_0 = a_1 / a_0 /t^c\n",
    "mouse_parameters_dimless_optimisation[:, :, 1] = \\\n",
    "    mouse_parameters_multi_runs_dimless[:, :, 2] / mouse_parameters_multi_runs_dimless[:, :, 1] / characteristic_time\n",
    "\n",
    "# Transform linear growth rate\n",
    "# lambda_1 = a_1 / a_0 /t^c\n",
    "mouse_parameters_dimless_optimisation[:, :, 2] = \\\n",
    "    mouse_parameters_multi_runs_dimless[:, :, 2] * characteristic_volume / characteristic_time\n"
   ]
  },
  {
   "cell_type": "code",
   "execution_count": 11,
   "metadata": {},
   "outputs": [
    {
     "output_type": "display_data",
     "data": {
      "application/vnd.plotly.v1+json": {
       "config": {
        "plotlyServerURL": "https://plot.ly"
       },
       "data": [
        {
         "boxpoints": "all",
         "jitter": 0.2,
         "line": {
          "color": "#636EFA"
         },
         "marker": {
          "color": "#636EFA",
          "line": {
           "color": "black",
           "width": 1
          },
          "opacity": 0.7,
          "symbol": "circle"
         },
         "name": "Initial tumour volume in cm^3",
         "pointpos": -1.5,
         "type": "box",
         "visible": true,
         "y": [
          0.1917247424603152,
          0.13914771839383497,
          0.13921190086797294,
          0.14091703807597622,
          0.13988724250650506,
          0.13928432432145135,
          0.13961277521639737,
          0.13974519831029342,
          0.13936629195034347,
          0.13937026481547984
         ]
        },
        {
         "boxpoints": "all",
         "jitter": 0.2,
         "line": {
          "color": "#EF553B"
         },
         "marker": {
          "color": "#EF553B",
          "line": {
           "color": "black",
           "width": 1
          },
          "opacity": 0.7,
          "symbol": "circle"
         },
         "name": "Exponential growth rate in 1/day",
         "pointpos": -1.5,
         "type": "box",
         "visible": true,
         "y": [
          -25.270740073422456,
          0.5515211135059828,
          0.5512010454349853,
          0.5452915958093969,
          0.5487589476451535,
          0.5509238363860802,
          0.5496857281957294,
          0.5492591959685253,
          0.5507238159268383,
          0.550588982416493
         ]
        },
        {
         "boxpoints": "all",
         "jitter": 0.2,
         "line": {
          "color": "#00CC96"
         },
         "marker": {
          "color": "#00CC96",
          "line": {
           "color": "black",
           "width": 1
          },
          "opacity": 0.7,
          "symbol": "circle"
         },
         "name": "Linear growth rate in cm^3/day",
         "pointpos": -1.5,
         "type": "box",
         "visible": true,
         "y": [
          -778.0612993051442,
          0.1310045897407436,
          0.13096423382138458,
          0.1311331415667736,
          0.13100498444399564,
          0.13097116873726924,
          0.13100638704469447,
          0.13102425186735872,
          0.1309892688821676,
          0.1309582230362096
         ]
        },
        {
         "boxpoints": "all",
         "jitter": 0.2,
         "line": {
          "color": "#AB63FA"
         },
         "marker": {
          "color": "#AB63FA",
          "line": {
           "color": "black",
           "width": 1
          },
          "opacity": 0.7,
          "symbol": "circle"
         },
         "name": "Score",
         "pointpos": -1.5,
         "type": "box",
         "visible": true,
         "y": [
          15.910371643171288,
          0.031862569474428074,
          0.031860337136330574,
          0.03186829279245641,
          0.03186130361528505,
          0.03186037619633425,
          0.03186090881350499,
          0.03186123279599069,
          0.031860523242191206,
          0.03186046378803835
         ]
        },
        {
         "boxpoints": "all",
         "jitter": 0.2,
         "line": {
          "color": "#636EFA"
         },
         "marker": {
          "color": "#636EFA",
          "line": {
           "color": "black",
           "width": 1
          },
          "opacity": 0.7,
          "symbol": "circle"
         },
         "name": "Initial tumour volume in cm^3",
         "pointpos": -1.5,
         "type": "box",
         "visible": false,
         "y": [
          0.07724481987193436,
          0.07479924745002697,
          0.07479925758849235,
          0.07463374618615881,
          null,
          0.12263309524390342,
          0.0746148866790363,
          0.07443705595680387,
          0.07443655109271355,
          0.12263313822921672
         ]
        },
        {
         "boxpoints": "all",
         "jitter": 0.2,
         "line": {
          "color": "#EF553B"
         },
         "marker": {
          "color": "#EF553B",
          "line": {
           "color": "black",
           "width": 1
          },
          "opacity": 0.7,
          "symbol": "circle"
         },
         "name": "Exponential growth rate in 1/day",
         "pointpos": -1.5,
         "type": "box",
         "visible": false,
         "y": [
          -6.7351692742927325,
          0.33007052098072703,
          0.33007043710374057,
          0.3379616565875413,
          null,
          0.052950937211801025,
          0.3356520575645958,
          0.33879950041029017,
          0.3388018889319517,
          0.05295092268048497
         ]
        },
        {
         "boxpoints": "all",
         "jitter": 0.2,
         "line": {
          "color": "#00CC96"
         },
         "marker": {
          "color": "#00CC96",
          "line": {
           "color": "black",
           "width": 1
          },
          "opacity": 0.7,
          "symbol": "circle"
         },
         "name": "Linear growth rate in cm^3/day",
         "pointpos": -1.5,
         "type": "box",
         "visible": false,
         "y": [
          -129.0244379639445,
          0.020388814714827574,
          0.020388812167884487,
          0.020274816035527197,
          null,
          -9658121482.82611,
          0.020309695490584062,
          0.020274549535240587,
          0.020274562080263365,
          -6592956736.849609
         ]
        },
        {
         "boxpoints": "all",
         "jitter": 0.2,
         "line": {
          "color": "#AB63FA"
         },
         "marker": {
          "color": "#AB63FA",
          "line": {
           "color": "black",
           "width": 1
          },
          "opacity": 0.7,
          "symbol": "circle"
         },
         "name": "Score",
         "pointpos": -1.5,
         "type": "box",
         "visible": false,
         "y": [
          1.610843560178298,
          0.0074503275178309175,
          0.007450327517841404,
          0.007448871424883321,
          null,
          0.015162785887306013,
          0.007448273996512646,
          0.0074485639132973475,
          0.007448563912956172,
          0.015162785887301546
         ]
        },
        {
         "boxpoints": "all",
         "jitter": 0.2,
         "line": {
          "color": "#636EFA"
         },
         "marker": {
          "color": "#636EFA",
          "line": {
           "color": "black",
           "width": 1
          },
          "opacity": 0.7,
          "symbol": "circle"
         },
         "name": "Initial tumour volume in cm^3",
         "pointpos": -1.5,
         "type": "box",
         "visible": false,
         "y": [
          0.1864741826839975,
          0.2210876939095251,
          0.22108768432283962,
          0.22108715842747578,
          0.2210876641263704,
          0.2727725953631878,
          0.2210876327748268,
          0.27277258104132546,
          0.2727726247602773,
          0.22108765493395144
         ]
        },
        {
         "boxpoints": "all",
         "jitter": 0.2,
         "line": {
          "color": "#EF553B"
         },
         "marker": {
          "color": "#EF553B",
          "line": {
           "color": "black",
           "width": 1
          },
          "opacity": 0.7,
          "symbol": "circle"
         },
         "name": "Exponential growth rate in 1/day",
         "pointpos": -1.5,
         "type": "box",
         "visible": false,
         "y": [
          -7.154045810713347,
          0.11105445622145632,
          0.11105445853499843,
          0.11105459806544991,
          0.11105446369406355,
          0.0825379015940509,
          0.11105447119422537,
          0.08253790265869189,
          0.08253789195493749,
          0.11105446497023322
         ]
        },
        {
         "boxpoints": "all",
         "jitter": 0.2,
         "line": {
          "color": "#00CC96"
         },
         "marker": {
          "color": "#00CC96",
          "line": {
           "color": "black",
           "width": 1
          },
          "opacity": 0.7,
          "symbol": "circle"
         },
         "name": "Linear growth rate in cm^3/day",
         "pointpos": -1.5,
         "type": "box",
         "visible": false,
         "y": [
          -4245.06237727619,
          3046076396276.836,
          574958810320.6562,
          5779007206.186462,
          1088614179700.1875,
          -0.4074693837635972,
          512640925033.5381,
          -0.40746935810485607,
          -0.4074692102107349,
          53588040448.910645
         ]
        },
        {
         "boxpoints": "all",
         "jitter": 0.2,
         "line": {
          "color": "#AB63FA"
         },
         "marker": {
          "color": "#AB63FA",
          "line": {
           "color": "black",
           "width": 1
          },
          "opacity": 0.7,
          "symbol": "circle"
         },
         "name": "Score",
         "pointpos": -1.5,
         "type": "box",
         "visible": false,
         "y": [
          12.133275727133574,
          0.09929726073742229,
          0.09929726073745251,
          0.09929726074478355,
          0.09929726073742935,
          0.07277697701595919,
          0.09929726073746463,
          0.0727769770159089,
          0.07277697701595946,
          0.09929726073781094
         ]
        },
        {
         "boxpoints": "all",
         "jitter": 0.2,
         "line": {
          "color": "#636EFA"
         },
         "marker": {
          "color": "#636EFA",
          "line": {
           "color": "black",
           "width": 1
          },
          "opacity": 0.7,
          "symbol": "circle"
         },
         "name": "Initial tumour volume in cm^3",
         "pointpos": -1.5,
         "type": "box",
         "visible": false,
         "y": [
          0.14897691000829127,
          0.1481451519909884,
          0.14892782983459632,
          0.1489097559655122,
          0.19325459514260937,
          0.15018298217130102,
          0.14903301758104134,
          0.19325452668322246,
          0.14894971364816734,
          0.1489680351344888
         ]
        },
        {
         "boxpoints": "all",
         "jitter": 0.2,
         "line": {
          "color": "#EF553B"
         },
         "marker": {
          "color": "#EF553B",
          "line": {
           "color": "black",
           "width": 1
          },
          "opacity": 0.7,
          "symbol": "circle"
         },
         "name": "Exponential growth rate in 1/day",
         "pointpos": -1.5,
         "type": "box",
         "visible": false,
         "y": [
          0.10852548480841549,
          0.10962492185706692,
          0.10858237629346265,
          0.10856820218681439,
          0.06668231633849706,
          0.10724234211937189,
          0.108503889419569,
          0.06668233041260499,
          0.10854231257030471,
          0.10853207328042654
         ]
        },
        {
         "boxpoints": "all",
         "jitter": 0.2,
         "line": {
          "color": "#00CC96"
         },
         "marker": {
          "color": "#00CC96",
          "line": {
           "color": "black",
           "width": 1
          },
          "opacity": 0.7,
          "symbol": "circle"
         },
         "name": "Linear growth rate in cm^3/day",
         "pointpos": -1.5,
         "type": "box",
         "visible": false,
         "y": [
          0.12879416056738263,
          0.1267614340787389,
          0.12876969811878267,
          0.1287877150648044,
          -13472430124.65332,
          0.1312057635683026,
          0.12881413764218114,
          -110599417194.42188,
          0.1287893994617519,
          0.12879816811615413
         ]
        },
        {
         "boxpoints": "all",
         "jitter": 0.2,
         "line": {
          "color": "#AB63FA"
         },
         "marker": {
          "color": "#AB63FA",
          "line": {
           "color": "black",
           "width": 1
          },
          "opacity": 0.7,
          "symbol": "circle"
         },
         "name": "Score",
         "pointpos": -1.5,
         "type": "box",
         "visible": false,
         "y": [
          0.04018493779332701,
          0.04018104873270334,
          0.04018554106227276,
          0.040184915449204384,
          0.051027078246968,
          0.040188489665998535,
          0.040184503449241286,
          0.051027078246866024,
          0.040184588999500455,
          0.04018556183221052
         ]
        },
        {
         "boxpoints": "all",
         "jitter": 0.2,
         "line": {
          "color": "#636EFA"
         },
         "marker": {
          "color": "#636EFA",
          "line": {
           "color": "black",
           "width": 1
          },
          "opacity": 0.7,
          "symbol": "circle"
         },
         "name": "Initial tumour volume in cm^3",
         "pointpos": -1.5,
         "type": "box",
         "visible": false,
         "y": [
          0.08430618883218767,
          0.10916879753356493,
          0.08430619873533163,
          0.0843061987149471,
          0.08430619406513419,
          0.08430618822874804,
          0.08430618487275415,
          0.07936317323164686,
          0.08430619070150273,
          0.07931910072680332
         ]
        },
        {
         "boxpoints": "all",
         "jitter": 0.2,
         "line": {
          "color": "#EF553B"
         },
         "marker": {
          "color": "#EF553B",
          "line": {
           "color": "black",
           "width": 1
          },
          "opacity": 0.7,
          "symbol": "circle"
         },
         "name": "Exponential growth rate in 1/day",
         "pointpos": -1.5,
         "type": "box",
         "visible": false,
         "y": [
          0.10824941000046381,
          0.09014532804262201,
          0.1082494097741047,
          0.10824940976887185,
          0.10824940988350619,
          0.10824941002443385,
          0.10824941021655517,
          -19.710677633258193,
          0.10824940995345303,
          -176.38664108956743
         ]
        },
        {
         "boxpoints": "all",
         "jitter": 0.2,
         "line": {
          "color": "#00CC96"
         },
         "marker": {
          "color": "#00CC96",
          "line": {
           "color": "black",
           "width": 1
          },
          "opacity": 0.7,
          "symbol": "circle"
         },
         "name": "Linear growth rate in cm^3/day",
         "pointpos": -1.5,
         "type": "box",
         "visible": false,
         "y": [
          40695898996.30162,
          -0.6222683137039703,
          30960442265.193726,
          111786323460.66719,
          38163563287.52963,
          202297800912.0243,
          31902815451.663452,
          641.8078536522391,
          68732103917.95624,
          -3460.4425288966813
         ]
        },
        {
         "boxpoints": "all",
         "jitter": 0.2,
         "line": {
          "color": "#AB63FA"
         },
         "marker": {
          "color": "#AB63FA",
          "line": {
           "color": "black",
           "width": 1
          },
          "opacity": 0.7,
          "symbol": "circle"
         },
         "name": "Score",
         "pointpos": -1.5,
         "type": "box",
         "visible": false,
         "y": [
          0.14587237619110988,
          0.1309493280336534,
          0.14587237619131435,
          0.14587237619090582,
          0.14587237619116336,
          0.1458723761906577,
          0.1458723761912434,
          12.135807380457006,
          0.14587237619096866,
          12.135805024460982
         ]
        },
        {
         "boxpoints": "all",
         "jitter": 0.2,
         "line": {
          "color": "#636EFA"
         },
         "marker": {
          "color": "#636EFA",
          "line": {
           "color": "black",
           "width": 1
          },
          "opacity": 0.7,
          "symbol": "circle"
         },
         "name": "Initial tumour volume in cm^3",
         "pointpos": -1.5,
         "type": "box",
         "visible": false,
         "y": [
          0.13289495861373218,
          0.13327407285333012,
          0.13327426468422707,
          0.13289497577394085,
          0.13327382209132274,
          0.13327492207631741,
          0.13327402993075527,
          0.13289515952295675,
          0.132895137535723,
          0.13327405025540554
         ]
        },
        {
         "boxpoints": "all",
         "jitter": 0.2,
         "line": {
          "color": "#EF553B"
         },
         "marker": {
          "color": "#EF553B",
          "line": {
           "color": "black",
           "width": 1
          },
          "opacity": 0.7,
          "symbol": "circle"
         },
         "name": "Exponential growth rate in 1/day",
         "pointpos": -1.5,
         "type": "box",
         "visible": false,
         "y": [
          0.39801294673500676,
          0.39471931931851767,
          0.39471881370697415,
          0.3980130170090261,
          0.3947199427056721,
          0.39471715605611274,
          0.3947194117256071,
          0.39801255738599506,
          0.39801259411089823,
          0.39471935713778433
         ]
        },
        {
         "boxpoints": "all",
         "jitter": 0.2,
         "line": {
          "color": "#00CC96"
         },
         "marker": {
          "color": "#00CC96",
          "line": {
           "color": "black",
           "width": 1
          },
          "opacity": 0.7,
          "symbol": "circle"
         },
         "name": "Linear growth rate in cm^3/day",
         "pointpos": -1.5,
         "type": "box",
         "visible": false,
         "y": [
          0.10827358296081979,
          0.10853691339771102,
          0.10853692965709096,
          0.10827361606244851,
          0.10853688184580139,
          0.10853700588366208,
          0.10853690408918967,
          0.10827364148365302,
          0.10827363354305224,
          0.10853690565400033
         ]
        },
        {
         "boxpoints": "all",
         "jitter": 0.2,
         "line": {
          "color": "#AB63FA"
         },
         "marker": {
          "color": "#AB63FA",
          "line": {
           "color": "black",
           "width": 1
          },
          "opacity": 0.7,
          "symbol": "circle"
         },
         "name": "Score",
         "pointpos": -1.5,
         "type": "box",
         "visible": false,
         "y": [
          0.2588580403375116,
          0.2588573465076507,
          0.25885734650764025,
          0.2588580403355022,
          0.2588573465077738,
          0.258857346509538,
          0.25885734650719594,
          0.2588580403356225,
          0.25885804033553933,
          0.2588573465074706
         ]
        },
        {
         "boxpoints": "all",
         "jitter": 0.2,
         "line": {
          "color": "#636EFA"
         },
         "marker": {
          "color": "#636EFA",
          "line": {
           "color": "black",
           "width": 1
          },
          "opacity": 0.7,
          "symbol": "circle"
         },
         "name": "Initial tumour volume in cm^3",
         "pointpos": -1.5,
         "type": "box",
         "visible": false,
         "y": [
          0.12380957785359155,
          0.12380953874269107,
          0.12380953268604375,
          0.12332977953729919,
          0.12367796910076992,
          0.12380945611458144,
          0.12380947254102354,
          0.12300685298536962,
          0.1238094800588463,
          0.12380950062219248
         ]
        },
        {
         "boxpoints": "all",
         "jitter": 0.2,
         "line": {
          "color": "#EF553B"
         },
         "marker": {
          "color": "#EF553B",
          "line": {
           "color": "black",
           "width": 1
          },
          "opacity": 0.7,
          "symbol": "circle"
         },
         "name": "Exponential growth rate in 1/day",
         "pointpos": -1.5,
         "type": "box",
         "visible": false,
         "y": [
          0.08606317794971559,
          0.08606320442121616,
          0.08606320502488216,
          0.08704234808676836,
          0.08612315348546756,
          0.08606324553706016,
          0.08606324122648938,
          -60.862662365388644,
          0.08606324755237836,
          0.08606321570228055
         ]
        },
        {
         "boxpoints": "all",
         "jitter": 0.2,
         "line": {
          "color": "#00CC96"
         },
         "marker": {
          "color": "#00CC96",
          "line": {
           "color": "black",
           "width": 1
          },
          "opacity": 0.7,
          "symbol": "circle"
         },
         "name": "Linear growth rate in cm^3/day",
         "pointpos": -1.5,
         "type": "box",
         "visible": false,
         "y": [
          0.07299522768224671,
          0.07299522810898744,
          0.07299522526675213,
          0.07139561808320372,
          0.07301060303067153,
          0.07299521615366872,
          0.07299522206743819,
          1235.8066894785668,
          0.07299523191820043,
          0.07299521659704782
         ]
        },
        {
         "boxpoints": "all",
         "jitter": 0.2,
         "line": {
          "color": "#AB63FA"
         },
         "marker": {
          "color": "#AB63FA",
          "line": {
           "color": "black",
           "width": 1
          },
          "opacity": 0.7,
          "symbol": "circle"
         },
         "name": "Score",
         "pointpos": -1.5,
         "type": "box",
         "visible": false,
         "y": [
          0.002915292959145376,
          0.0029152929591755947,
          0.002915292959174612,
          0.002916019145810823,
          0.0029154594924505886,
          0.0029152929591273235,
          0.0029152929592280224,
          2.613655819759808,
          0.002915292959355273,
          0.0029152929592283815
         ]
        },
        {
         "boxpoints": "all",
         "jitter": 0.2,
         "line": {
          "color": "#636EFA"
         },
         "marker": {
          "color": "#636EFA",
          "line": {
           "color": "black",
           "width": 1
          },
          "opacity": 0.7,
          "symbol": "circle"
         },
         "name": "Initial tumour volume in cm^3",
         "pointpos": -1.5,
         "type": "box",
         "visible": false,
         "y": [
          0.08701863220528105,
          0.08704781716080753,
          0.0871091531119227,
          0.08704780803666216,
          0.08723652464733453,
          0.08703448945917074,
          0.08718953214710194,
          0.08704781112147866,
          0.08704781038635602,
          0.08718953374645191
         ]
        },
        {
         "boxpoints": "all",
         "jitter": 0.2,
         "line": {
          "color": "#EF553B"
         },
         "marker": {
          "color": "#EF553B",
          "line": {
           "color": "black",
           "width": 1
          },
          "opacity": 0.7,
          "symbol": "circle"
         },
         "name": "Exponential growth rate in 1/day",
         "pointpos": -1.5,
         "type": "box",
         "visible": false,
         "y": [
          0.07236346393583674,
          0.07234431743029114,
          0.07223668663305718,
          0.07234431590988147,
          0.07200662818579774,
          0.0723673268336351,
          0.07209160682421005,
          0.07234431997713228,
          0.07234431941261298,
          0.07209160849538737
         ]
        },
        {
         "boxpoints": "all",
         "jitter": 0.2,
         "line": {
          "color": "#00CC96"
         },
         "marker": {
          "color": "#00CC96",
          "line": {
           "color": "black",
           "width": 1
          },
          "opacity": 0.7,
          "symbol": "circle"
         },
         "name": "Linear growth rate in cm^3/day",
         "pointpos": -1.5,
         "type": "box",
         "visible": false,
         "y": [
          0.1931710561982734,
          0.19325840335733938,
          0.1953475719826833,
          0.1932583796154026,
          0.20064218692411828,
          0.19316622011485407,
          0.19864980441811309,
          0.1932583969923951,
          0.19325839398413128,
          0.19864981233418544
         ]
        },
        {
         "boxpoints": "all",
         "jitter": 0.2,
         "line": {
          "color": "#AB63FA"
         },
         "marker": {
          "color": "#AB63FA",
          "line": {
           "color": "black",
           "width": 1
          },
          "opacity": 0.7,
          "symbol": "circle"
         },
         "name": "Score",
         "pointpos": -1.5,
         "type": "box",
         "visible": false,
         "y": [
          0.002315608237148836,
          0.002315593340781196,
          0.002315735235271029,
          0.0023155933408040836,
          0.0023157729728787036,
          0.0023156988669648104,
          0.0023157518229024007,
          0.0023155933407823033,
          0.0023155933407822383,
          0.002315751822894518
         ]
        }
       ],
       "layout": {
        "autosize": true,
        "legend": {
         "x": 1.05,
         "xanchor": "left",
         "y": 0.01,
         "yanchor": "bottom"
        },
        "template": {
         "data": {
          "bar": [
           {
            "error_x": {
             "color": "#2a3f5f"
            },
            "error_y": {
             "color": "#2a3f5f"
            },
            "marker": {
             "line": {
              "color": "white",
              "width": 0.5
             }
            },
            "type": "bar"
           }
          ],
          "barpolar": [
           {
            "marker": {
             "line": {
              "color": "white",
              "width": 0.5
             }
            },
            "type": "barpolar"
           }
          ],
          "carpet": [
           {
            "aaxis": {
             "endlinecolor": "#2a3f5f",
             "gridcolor": "#C8D4E3",
             "linecolor": "#C8D4E3",
             "minorgridcolor": "#C8D4E3",
             "startlinecolor": "#2a3f5f"
            },
            "baxis": {
             "endlinecolor": "#2a3f5f",
             "gridcolor": "#C8D4E3",
             "linecolor": "#C8D4E3",
             "minorgridcolor": "#C8D4E3",
             "startlinecolor": "#2a3f5f"
            },
            "type": "carpet"
           }
          ],
          "choropleth": [
           {
            "colorbar": {
             "outlinewidth": 0,
             "ticks": ""
            },
            "type": "choropleth"
           }
          ],
          "contour": [
           {
            "colorbar": {
             "outlinewidth": 0,
             "ticks": ""
            },
            "colorscale": [
             [
              0,
              "#0d0887"
             ],
             [
              0.1111111111111111,
              "#46039f"
             ],
             [
              0.2222222222222222,
              "#7201a8"
             ],
             [
              0.3333333333333333,
              "#9c179e"
             ],
             [
              0.4444444444444444,
              "#bd3786"
             ],
             [
              0.5555555555555556,
              "#d8576b"
             ],
             [
              0.6666666666666666,
              "#ed7953"
             ],
             [
              0.7777777777777778,
              "#fb9f3a"
             ],
             [
              0.8888888888888888,
              "#fdca26"
             ],
             [
              1,
              "#f0f921"
             ]
            ],
            "type": "contour"
           }
          ],
          "contourcarpet": [
           {
            "colorbar": {
             "outlinewidth": 0,
             "ticks": ""
            },
            "type": "contourcarpet"
           }
          ],
          "heatmap": [
           {
            "colorbar": {
             "outlinewidth": 0,
             "ticks": ""
            },
            "colorscale": [
             [
              0,
              "#0d0887"
             ],
             [
              0.1111111111111111,
              "#46039f"
             ],
             [
              0.2222222222222222,
              "#7201a8"
             ],
             [
              0.3333333333333333,
              "#9c179e"
             ],
             [
              0.4444444444444444,
              "#bd3786"
             ],
             [
              0.5555555555555556,
              "#d8576b"
             ],
             [
              0.6666666666666666,
              "#ed7953"
             ],
             [
              0.7777777777777778,
              "#fb9f3a"
             ],
             [
              0.8888888888888888,
              "#fdca26"
             ],
             [
              1,
              "#f0f921"
             ]
            ],
            "type": "heatmap"
           }
          ],
          "heatmapgl": [
           {
            "colorbar": {
             "outlinewidth": 0,
             "ticks": ""
            },
            "colorscale": [
             [
              0,
              "#0d0887"
             ],
             [
              0.1111111111111111,
              "#46039f"
             ],
             [
              0.2222222222222222,
              "#7201a8"
             ],
             [
              0.3333333333333333,
              "#9c179e"
             ],
             [
              0.4444444444444444,
              "#bd3786"
             ],
             [
              0.5555555555555556,
              "#d8576b"
             ],
             [
              0.6666666666666666,
              "#ed7953"
             ],
             [
              0.7777777777777778,
              "#fb9f3a"
             ],
             [
              0.8888888888888888,
              "#fdca26"
             ],
             [
              1,
              "#f0f921"
             ]
            ],
            "type": "heatmapgl"
           }
          ],
          "histogram": [
           {
            "marker": {
             "colorbar": {
              "outlinewidth": 0,
              "ticks": ""
             }
            },
            "type": "histogram"
           }
          ],
          "histogram2d": [
           {
            "colorbar": {
             "outlinewidth": 0,
             "ticks": ""
            },
            "colorscale": [
             [
              0,
              "#0d0887"
             ],
             [
              0.1111111111111111,
              "#46039f"
             ],
             [
              0.2222222222222222,
              "#7201a8"
             ],
             [
              0.3333333333333333,
              "#9c179e"
             ],
             [
              0.4444444444444444,
              "#bd3786"
             ],
             [
              0.5555555555555556,
              "#d8576b"
             ],
             [
              0.6666666666666666,
              "#ed7953"
             ],
             [
              0.7777777777777778,
              "#fb9f3a"
             ],
             [
              0.8888888888888888,
              "#fdca26"
             ],
             [
              1,
              "#f0f921"
             ]
            ],
            "type": "histogram2d"
           }
          ],
          "histogram2dcontour": [
           {
            "colorbar": {
             "outlinewidth": 0,
             "ticks": ""
            },
            "colorscale": [
             [
              0,
              "#0d0887"
             ],
             [
              0.1111111111111111,
              "#46039f"
             ],
             [
              0.2222222222222222,
              "#7201a8"
             ],
             [
              0.3333333333333333,
              "#9c179e"
             ],
             [
              0.4444444444444444,
              "#bd3786"
             ],
             [
              0.5555555555555556,
              "#d8576b"
             ],
             [
              0.6666666666666666,
              "#ed7953"
             ],
             [
              0.7777777777777778,
              "#fb9f3a"
             ],
             [
              0.8888888888888888,
              "#fdca26"
             ],
             [
              1,
              "#f0f921"
             ]
            ],
            "type": "histogram2dcontour"
           }
          ],
          "mesh3d": [
           {
            "colorbar": {
             "outlinewidth": 0,
             "ticks": ""
            },
            "type": "mesh3d"
           }
          ],
          "parcoords": [
           {
            "line": {
             "colorbar": {
              "outlinewidth": 0,
              "ticks": ""
             }
            },
            "type": "parcoords"
           }
          ],
          "pie": [
           {
            "automargin": true,
            "type": "pie"
           }
          ],
          "scatter": [
           {
            "marker": {
             "colorbar": {
              "outlinewidth": 0,
              "ticks": ""
             }
            },
            "type": "scatter"
           }
          ],
          "scatter3d": [
           {
            "line": {
             "colorbar": {
              "outlinewidth": 0,
              "ticks": ""
             }
            },
            "marker": {
             "colorbar": {
              "outlinewidth": 0,
              "ticks": ""
             }
            },
            "type": "scatter3d"
           }
          ],
          "scattercarpet": [
           {
            "marker": {
             "colorbar": {
              "outlinewidth": 0,
              "ticks": ""
             }
            },
            "type": "scattercarpet"
           }
          ],
          "scattergeo": [
           {
            "marker": {
             "colorbar": {
              "outlinewidth": 0,
              "ticks": ""
             }
            },
            "type": "scattergeo"
           }
          ],
          "scattergl": [
           {
            "marker": {
             "colorbar": {
              "outlinewidth": 0,
              "ticks": ""
             }
            },
            "type": "scattergl"
           }
          ],
          "scattermapbox": [
           {
            "marker": {
             "colorbar": {
              "outlinewidth": 0,
              "ticks": ""
             }
            },
            "type": "scattermapbox"
           }
          ],
          "scatterpolar": [
           {
            "marker": {
             "colorbar": {
              "outlinewidth": 0,
              "ticks": ""
             }
            },
            "type": "scatterpolar"
           }
          ],
          "scatterpolargl": [
           {
            "marker": {
             "colorbar": {
              "outlinewidth": 0,
              "ticks": ""
             }
            },
            "type": "scatterpolargl"
           }
          ],
          "scatterternary": [
           {
            "marker": {
             "colorbar": {
              "outlinewidth": 0,
              "ticks": ""
             }
            },
            "type": "scatterternary"
           }
          ],
          "surface": [
           {
            "colorbar": {
             "outlinewidth": 0,
             "ticks": ""
            },
            "colorscale": [
             [
              0,
              "#0d0887"
             ],
             [
              0.1111111111111111,
              "#46039f"
             ],
             [
              0.2222222222222222,
              "#7201a8"
             ],
             [
              0.3333333333333333,
              "#9c179e"
             ],
             [
              0.4444444444444444,
              "#bd3786"
             ],
             [
              0.5555555555555556,
              "#d8576b"
             ],
             [
              0.6666666666666666,
              "#ed7953"
             ],
             [
              0.7777777777777778,
              "#fb9f3a"
             ],
             [
              0.8888888888888888,
              "#fdca26"
             ],
             [
              1,
              "#f0f921"
             ]
            ],
            "type": "surface"
           }
          ],
          "table": [
           {
            "cells": {
             "fill": {
              "color": "#EBF0F8"
             },
             "line": {
              "color": "white"
             }
            },
            "header": {
             "fill": {
              "color": "#C8D4E3"
             },
             "line": {
              "color": "white"
             }
            },
            "type": "table"
           }
          ]
         },
         "layout": {
          "annotationdefaults": {
           "arrowcolor": "#2a3f5f",
           "arrowhead": 0,
           "arrowwidth": 1
          },
          "coloraxis": {
           "colorbar": {
            "outlinewidth": 0,
            "ticks": ""
           }
          },
          "colorscale": {
           "diverging": [
            [
             0,
             "#8e0152"
            ],
            [
             0.1,
             "#c51b7d"
            ],
            [
             0.2,
             "#de77ae"
            ],
            [
             0.3,
             "#f1b6da"
            ],
            [
             0.4,
             "#fde0ef"
            ],
            [
             0.5,
             "#f7f7f7"
            ],
            [
             0.6,
             "#e6f5d0"
            ],
            [
             0.7,
             "#b8e186"
            ],
            [
             0.8,
             "#7fbc41"
            ],
            [
             0.9,
             "#4d9221"
            ],
            [
             1,
             "#276419"
            ]
           ],
           "sequential": [
            [
             0,
             "#0d0887"
            ],
            [
             0.1111111111111111,
             "#46039f"
            ],
            [
             0.2222222222222222,
             "#7201a8"
            ],
            [
             0.3333333333333333,
             "#9c179e"
            ],
            [
             0.4444444444444444,
             "#bd3786"
            ],
            [
             0.5555555555555556,
             "#d8576b"
            ],
            [
             0.6666666666666666,
             "#ed7953"
            ],
            [
             0.7777777777777778,
             "#fb9f3a"
            ],
            [
             0.8888888888888888,
             "#fdca26"
            ],
            [
             1,
             "#f0f921"
            ]
           ],
           "sequentialminus": [
            [
             0,
             "#0d0887"
            ],
            [
             0.1111111111111111,
             "#46039f"
            ],
            [
             0.2222222222222222,
             "#7201a8"
            ],
            [
             0.3333333333333333,
             "#9c179e"
            ],
            [
             0.4444444444444444,
             "#bd3786"
            ],
            [
             0.5555555555555556,
             "#d8576b"
            ],
            [
             0.6666666666666666,
             "#ed7953"
            ],
            [
             0.7777777777777778,
             "#fb9f3a"
            ],
            [
             0.8888888888888888,
             "#fdca26"
            ],
            [
             1,
             "#f0f921"
            ]
           ]
          },
          "colorway": [
           "#636efa",
           "#EF553B",
           "#00cc96",
           "#ab63fa",
           "#FFA15A",
           "#19d3f3",
           "#FF6692",
           "#B6E880",
           "#FF97FF",
           "#FECB52"
          ],
          "font": {
           "color": "#2a3f5f"
          },
          "geo": {
           "bgcolor": "white",
           "lakecolor": "white",
           "landcolor": "white",
           "showlakes": true,
           "showland": true,
           "subunitcolor": "#C8D4E3"
          },
          "hoverlabel": {
           "align": "left"
          },
          "hovermode": "closest",
          "mapbox": {
           "style": "light"
          },
          "paper_bgcolor": "white",
          "plot_bgcolor": "white",
          "polar": {
           "angularaxis": {
            "gridcolor": "#EBF0F8",
            "linecolor": "#EBF0F8",
            "ticks": ""
           },
           "bgcolor": "white",
           "radialaxis": {
            "gridcolor": "#EBF0F8",
            "linecolor": "#EBF0F8",
            "ticks": ""
           }
          },
          "scene": {
           "xaxis": {
            "backgroundcolor": "white",
            "gridcolor": "#DFE8F3",
            "gridwidth": 2,
            "linecolor": "#EBF0F8",
            "showbackground": true,
            "ticks": "",
            "zerolinecolor": "#EBF0F8"
           },
           "yaxis": {
            "backgroundcolor": "white",
            "gridcolor": "#DFE8F3",
            "gridwidth": 2,
            "linecolor": "#EBF0F8",
            "showbackground": true,
            "ticks": "",
            "zerolinecolor": "#EBF0F8"
           },
           "zaxis": {
            "backgroundcolor": "white",
            "gridcolor": "#DFE8F3",
            "gridwidth": 2,
            "linecolor": "#EBF0F8",
            "showbackground": true,
            "ticks": "",
            "zerolinecolor": "#EBF0F8"
           }
          },
          "shapedefaults": {
           "line": {
            "color": "#2a3f5f"
           }
          },
          "ternary": {
           "aaxis": {
            "gridcolor": "#DFE8F3",
            "linecolor": "#A2B1C6",
            "ticks": ""
           },
           "baxis": {
            "gridcolor": "#DFE8F3",
            "linecolor": "#A2B1C6",
            "ticks": ""
           },
           "bgcolor": "white",
           "caxis": {
            "gridcolor": "#DFE8F3",
            "linecolor": "#A2B1C6",
            "ticks": ""
           }
          },
          "title": {
           "x": 0.05
          },
          "xaxis": {
           "automargin": true,
           "gridcolor": "#EBF0F8",
           "linecolor": "#EBF0F8",
           "ticks": "",
           "title": {
            "standoff": 15
           },
           "zerolinecolor": "#EBF0F8",
           "zerolinewidth": 2
          },
          "yaxis": {
           "automargin": true,
           "gridcolor": "#EBF0F8",
           "linecolor": "#EBF0F8",
           "ticks": "",
           "title": {
            "standoff": 15
           },
           "zerolinecolor": "#EBF0F8",
           "zerolinewidth": 2
          }
         }
        },
        "updatemenus": [
         {
          "buttons": [
           {
            "args": [
             {
              "visible": [
               true,
               true,
               true,
               true,
               false,
               false,
               false,
               false,
               false,
               false,
               false,
               false,
               false,
               false,
               false,
               false,
               false,
               false,
               false,
               false,
               false,
               false,
               false,
               false,
               false,
               false,
               false,
               false,
               false,
               false,
               false,
               false
              ]
             }
            ],
            "label": "ID: 40",
            "method": "restyle"
           },
           {
            "args": [
             {
              "visible": [
               false,
               false,
               false,
               false,
               true,
               true,
               true,
               true,
               false,
               false,
               false,
               false,
               false,
               false,
               false,
               false,
               false,
               false,
               false,
               false,
               false,
               false,
               false,
               false,
               false,
               false,
               false,
               false,
               false,
               false,
               false,
               false
              ]
             }
            ],
            "label": "ID: 94",
            "method": "restyle"
           },
           {
            "args": [
             {
              "visible": [
               false,
               false,
               false,
               false,
               false,
               false,
               false,
               false,
               true,
               true,
               true,
               true,
               false,
               false,
               false,
               false,
               false,
               false,
               false,
               false,
               false,
               false,
               false,
               false,
               false,
               false,
               false,
               false,
               false,
               false,
               false,
               false
              ]
             }
            ],
            "label": "ID: 95",
            "method": "restyle"
           },
           {
            "args": [
             {
              "visible": [
               false,
               false,
               false,
               false,
               false,
               false,
               false,
               false,
               false,
               false,
               false,
               false,
               true,
               true,
               true,
               true,
               false,
               false,
               false,
               false,
               false,
               false,
               false,
               false,
               false,
               false,
               false,
               false,
               false,
               false,
               false,
               false
              ]
             }
            ],
            "label": "ID: 136",
            "method": "restyle"
           },
           {
            "args": [
             {
              "visible": [
               false,
               false,
               false,
               false,
               false,
               false,
               false,
               false,
               false,
               false,
               false,
               false,
               false,
               false,
               false,
               false,
               true,
               true,
               true,
               true,
               false,
               false,
               false,
               false,
               false,
               false,
               false,
               false,
               false,
               false,
               false,
               false
              ]
             }
            ],
            "label": "ID: 140",
            "method": "restyle"
           },
           {
            "args": [
             {
              "visible": [
               false,
               false,
               false,
               false,
               false,
               false,
               false,
               false,
               false,
               false,
               false,
               false,
               false,
               false,
               false,
               false,
               false,
               false,
               false,
               false,
               true,
               true,
               true,
               true,
               false,
               false,
               false,
               false,
               false,
               false,
               false,
               false
              ]
             }
            ],
            "label": "ID: 155",
            "method": "restyle"
           },
           {
            "args": [
             {
              "visible": [
               false,
               false,
               false,
               false,
               false,
               false,
               false,
               false,
               false,
               false,
               false,
               false,
               false,
               false,
               false,
               false,
               false,
               false,
               false,
               false,
               false,
               false,
               false,
               false,
               true,
               true,
               true,
               true,
               false,
               false,
               false,
               false
              ]
             }
            ],
            "label": "ID: 169",
            "method": "restyle"
           },
           {
            "args": [
             {
              "visible": [
               false,
               false,
               false,
               false,
               false,
               false,
               false,
               false,
               false,
               false,
               false,
               false,
               false,
               false,
               false,
               false,
               false,
               false,
               false,
               false,
               false,
               false,
               false,
               false,
               false,
               false,
               false,
               false,
               true,
               true,
               true,
               true
              ]
             }
            ],
            "label": "ID: 170",
            "method": "restyle"
           }
          ],
          "direction": "right",
          "pad": {
           "r": 0,
           "t": -10
          },
          "showactive": true,
          "type": "buttons",
          "x": 0,
          "xanchor": "left",
          "y": 1.1,
          "yanchor": "top"
         }
        ]
       }
      }
     },
     "metadata": {}
    }
   ],
   "source": [
    "#\n",
    "# Visualisation of the spread of optimised model parameters for multiple runs from different initial points.\n",
    "#\n",
    "# This cell needs the above optimised initial parameter from psi_0=(1, 1, 1) and the five runs from a random initial starting point, and their respective objective function scores, as well as the data\n",
    "# [mouse_parameters, mouse_parameters_multi_runs, mouse_score, mouse_scores_multi_runs, data]\n",
    "#\n",
    "\n",
    "import plotly.colors\n",
    "import plotly.graph_objects as go\n",
    "\n",
    "\n",
    "# Get mouse ids\n",
    "mouse_ids = data['#ID'].unique()\n",
    "\n",
    "# Get number of parameters + score (for visualisation)\n",
    "n_params = mouse_parameters_multi_runs_dimless.shape[2] + 1\n",
    "\n",
    "# Define colorscheme\n",
    "colors = plotly.colors.qualitative.Plotly[:n_params]\n",
    "\n",
    "# Get optimised parameter sets\n",
    "optimised_parameters =  mouse_parameters_dimless_optimisation\n",
    "\n",
    "# Get scores for parameters\n",
    "scores = mouse_scores_multi_runs_dimless\n",
    "\n",
    "# Create figure\n",
    "fig = go.Figure()\n",
    "\n",
    "# Box plot of optimised model parameters\n",
    "for index, id_m in enumerate(mouse_ids):\n",
    "    # Get optimised parameters\n",
    "    parameters = optimised_parameters[index, ...]\n",
    "\n",
    "    # Get scores\n",
    "    score = scores[index, :]\n",
    "\n",
    "    # Create box plot of for initial tumour volume\n",
    "    fig.add_trace(\n",
    "        go.Box(\n",
    "            y=parameters[:, 0],  \n",
    "            name=\"Initial tumour volume in cm^3\",\n",
    "            boxpoints='all',\n",
    "            jitter=0.2,\n",
    "            pointpos=-1.5,\n",
    "            visible=True if index == 0 else False,\n",
    "            marker=dict(\n",
    "                symbol='circle',\n",
    "                opacity=0.7,\n",
    "                line=dict(color='black', width=1)),\n",
    "            marker_color=colors[0],\n",
    "            line_color=colors[0]))\n",
    "\n",
    "    # Create box plot of for exponential tumour growth\n",
    "    fig.add_trace(\n",
    "        go.Box(\n",
    "            y=parameters[:, 1],  \n",
    "            name=\"Exponential growth rate in 1/day\",\n",
    "            boxpoints='all',\n",
    "            jitter=0.2,\n",
    "            pointpos=-1.5,\n",
    "            visible=True if index == 0 else False,\n",
    "            marker=dict(\n",
    "                symbol='circle',\n",
    "                opacity=0.7,\n",
    "                line=dict(color='black', width=1)),\n",
    "            marker_color=colors[1],\n",
    "            line_color=colors[1]))\n",
    "\n",
    "    # Create box plot of for linear tumour growth\n",
    "    fig.add_trace(\n",
    "        go.Box(\n",
    "            y=parameters[:, 2],  \n",
    "            name=\"Linear growth rate in cm^3/day\",\n",
    "            boxpoints='all',\n",
    "            jitter=0.2,\n",
    "            pointpos=-1.5,\n",
    "            visible=True if index == 0 else False,\n",
    "            marker=dict(\n",
    "                symbol='circle',\n",
    "                opacity=0.7,\n",
    "                line=dict(color='black', width=1)),\n",
    "            marker_color=colors[2],\n",
    "            line_color=colors[2]))\n",
    "    \n",
    "    # Create box plot of for objective function score\n",
    "    fig.add_trace(\n",
    "        go.Box(\n",
    "            y=score,  \n",
    "            name=\"Score\",\n",
    "            boxpoints='all',\n",
    "            jitter=0.2,\n",
    "            pointpos=-1.5,\n",
    "            visible=True if index == 0 else False,\n",
    "            marker=dict(\n",
    "                symbol='circle',\n",
    "                opacity=0.7,\n",
    "                line=dict(color='black', width=1)),\n",
    "            marker_color=colors[3],\n",
    "            line_color=colors[3]))\n",
    "\n",
    "# Set figure size\n",
    "fig.update_layout(\n",
    "    autosize=True,\n",
    "    template=\"plotly_white\")\n",
    "\n",
    "# Add switch between mice\n",
    "fig.update_layout(\n",
    "    updatemenus=[\n",
    "        dict(\n",
    "            type = \"buttons\",\n",
    "            direction = \"right\",\n",
    "            buttons=list([\n",
    "                dict(\n",
    "                    args=[{\"visible\": [True]*4 + [False]*(4 * 7)}],\n",
    "                    label=\"ID: %d\" % mouse_ids[0],\n",
    "                    method=\"restyle\"\n",
    "                ),\n",
    "                dict(\n",
    "                    args=[{\"visible\": [False]*4 + [True]*4 + [False]*(4 * 6)}],\n",
    "                    label=\"ID: %d\" % mouse_ids[1],\n",
    "                    method=\"restyle\"\n",
    "                ),\n",
    "                dict(\n",
    "                    args=[{\"visible\": [False]*(4 * 2) + [True]*4 + [False]*(4 * 5)}],\n",
    "                    label=\"ID: %d\" % mouse_ids[2],\n",
    "                    method=\"restyle\"\n",
    "                ),\n",
    "                dict(\n",
    "                    args=[{\"visible\": [False]*(4 * 3) + [True]*4 + [False]*(4 * 4)}],\n",
    "                    label=\"ID: %d\" % mouse_ids[3],\n",
    "                    method=\"restyle\"\n",
    "                ),\n",
    "                dict(\n",
    "                    args=[{\"visible\": [False]*(4 * 4) + [True]*4 + [False]*(4 * 3)}],\n",
    "                    label=\"ID: %d\" % mouse_ids[4],\n",
    "                    method=\"restyle\"\n",
    "                ),\n",
    "                dict(\n",
    "                    args=[{\"visible\": [False]*(4 * 5) + [True]*4 + [False]*(4 * 2)}],\n",
    "                    label=\"ID: %d\" % mouse_ids[5],\n",
    "                    method=\"restyle\"\n",
    "                ),\n",
    "                dict(\n",
    "                    args=[{\"visible\": [False]*(4 * 6) + [True]*4 + [False]* 4}],\n",
    "                    label=\"ID: %d\" % mouse_ids[6],\n",
    "                    method=\"restyle\"\n",
    "                ),\n",
    "                dict(\n",
    "                    args=[{\"visible\": [False]*(4 * 7) + [True]*4}],\n",
    "                    label=\"ID: %d\" % mouse_ids[7],\n",
    "                    method=\"restyle\"\n",
    "                )\n",
    "            ]),\n",
    "            pad={\"r\": 0, \"t\": -10},\n",
    "            showactive=True,\n",
    "            x=0.0,\n",
    "            xanchor=\"left\",\n",
    "            y=1.1,\n",
    "            yanchor=\"top\"\n",
    "        )\n",
    "    ]\n",
    ")\n",
    "\n",
    "# Position legend\n",
    "fig.update_layout(legend=dict(\n",
    "    yanchor=\"bottom\",\n",
    "    y=0.01,\n",
    "    xanchor=\"left\",\n",
    "    x=1.05))\n",
    "\n",
    "# Show figure\n",
    "fig.show()\n"
   ]
  },
  {
   "cell_type": "markdown",
   "metadata": {},
   "source": [
    "**Figure 2:** Scatter and box plot of the structural model parameters $\\psi $ (initial tumour volume $V_0$, exponential growth rate $\\lambda _0$, linear growth rate $\\lambda _1$) found by minimising the squared distance between the predictions and the observations using a CMA-ES optimiser. For each individual the optimisation routine was run 10 times from a uniformly sampled starting point in $[10^{-3}, 10^3]$. In addition to the optimised parameters, also the distribution of the associated objective function scores is presented."
   ]
  },
  {
   "cell_type": "markdown",
   "metadata": {},
   "source": [
    "## Log-transforming the model parameters"
   ]
  },
  {
   "cell_type": "code",
   "execution_count": 49,
   "metadata": {},
   "outputs": [],
   "source": [
    "#\n",
    "# Define log-tranformed pints model wrapper such that myokit model can be used for inference. In contrast to the PintsModel above, this model expects log-transformed parameters log(psi).\n",
    "#\n",
    "\n",
    "import myokit\n",
    "import numpy as np\n",
    "import pints\n",
    "\n",
    "from pkpd import model as model\n",
    "\n",
    "\n",
    "# Wrap myokit model, so it can be used with pints\n",
    "class LogTransformedPintsModel(pints.ForwardModel):\n",
    "    def __init__(self):\n",
    "        # Create myokit model\n",
    "        model = m.create_tumour_growth_model()\n",
    "\n",
    "        # Create simulator\n",
    "        self.sim = myokit.Simulation(model)\n",
    "\n",
    "    def n_parameters(self):\n",
    "        \"\"\"\n",
    "        Number of parameters to fit. Here initial log(V^s_T), log(lambda_0), log(lambda_1)\n",
    "        \"\"\"\n",
    "        return 3\n",
    "\n",
    "    def n_outputs(self):\n",
    "        return 1\n",
    "\n",
    "    def simulate(self, log_parameters, times):\n",
    "        # Reset simulation\n",
    "        self.sim.reset()\n",
    "\n",
    "        # Sort input parameters and transform to linear scale\n",
    "        initial_volume, lambda_0, lambda_1 = np.exp(parameters)\n",
    "\n",
    "        # Set initial condition\n",
    "        self.sim.set_state([initial_volume])\n",
    "\n",
    "        # Set growth constants\n",
    "        self.sim.set_constant('central.lambda_0', lambda_0)\n",
    "        self.sim.set_constant('central.lambda_1', lambda_1)\n",
    "\n",
    "        # Define logged variable\n",
    "        loggedVariable = 'central.volume_t'\n",
    "\n",
    "        # Simulate\n",
    "        output = self.sim.run(times[-1] + 1, log=[loggedVariable], log_times=times)\n",
    "        result = output[loggedVariable]\n",
    "\n",
    "        return np.array(result)"
   ]
  },
  {
   "cell_type": "code",
   "execution_count": 52,
   "metadata": {
    "tags": []
   },
   "outputs": [
    {
     "output_type": "stream",
     "name": "stdout",
     "text": "\n----------------------------------------\nUnexpected termination.\nCurrent best score: 1.2440895517828978\nCurrent best position:\n 4.36108352070969105e-04\n 9.93611261526420364e+00\n 5.05644705743254139e-02\n----------------------------------------\n\n----------------------------------------\nUnexpected termination.\nCurrent best score: 0.027833585817775376\nCurrent best position:\n 3.38636783865060298e-02\n 5.27583230185733587e+00\n 2.41953186218902654e-02\n----------------------------------------\n\n----------------------------------------\nUnexpected termination.\nCurrent best score: 66.29333568234948\nCurrent best position:\n 3.74305712437897808e+00\n 8.23191641772539029e+00\n-1.10531137144588551e-01\n----------------------------------------\n"
    }
   ],
   "source": [
    "#\n",
    "# Run optimisation multiple times from random initial starting points.\n",
    "#\n",
    "# This cell needs above defined wrapped myokit model:\n",
    "# [LogTransformedPintsModel]\n",
    "#\n",
    "\n",
    "import os\n",
    "\n",
    "import myokit\n",
    "import numpy as np\n",
    "import pandas as pd\n",
    "import pints\n",
    "\n",
    "\n",
    "# Define number of optimisation runs for each individual\n",
    "n_runs = 10\n",
    "\n",
    "# Import data\n",
    "# Get path of current working directory\n",
    "path = os.getcwd()\n",
    "\n",
    "# Import LXF A677 control growth data\n",
    "data = pd.read_csv(path + '/data/lxf_control_growth.csv')\n",
    "n_mice = len(data['#ID'].unique())\n",
    "\n",
    "# Define container for the structural model estimates\n",
    "# Shape (n_mice, n_runs, n_parameters)\n",
    "n_parameters = 3\n",
    "mouse_parameters_multi_runs_log_transformed = np.empty(shape=(n_mice, n_runs, n_parameters))\n",
    "\n",
    "# Define container for the objective function score for the optimised parameters\n",
    "mouse_scores_multi_runs_log_transformed = np.empty(shape=(n_mice, n_runs))\n",
    "\n",
    "# Define random starting points over many orders of magnitude\n",
    "# Shape = (n_runs, n_parameters)\n",
    "initial_parameters = np.random.uniform(low=1E-3, high=1E3, size=(n_runs, n_parameters))\n",
    "\n",
    "# Find mouse parameters for LXF A677 population\n",
    "mouse_ids = data['#ID'].unique()\n",
    "for index, mouse_id in enumerate(mouse_ids):\n",
    "    # Create mask for mouse with specfied ID\n",
    "    mouse_mask = data['#ID'] == mouse_id\n",
    "\n",
    "    # Get relevant time points\n",
    "    times = data[mouse_mask]['TIME in day'].to_numpy()\n",
    "\n",
    "    # Get measured tumour volumes\n",
    "    observed_volumes = data[mouse_mask]['TUMOUR VOLUME in cm^3'].to_numpy()\n",
    "\n",
    "    # Create inverse problem\n",
    "    problem = pints.SingleOutputProblem(PintsModel(), times, observed_volumes)\n",
    "\n",
    "    # Create sum of squares error objective function\n",
    "    error = pints.SumOfSquaresError(problem)\n",
    "\n",
    "    # Run optimisation multiple times\n",
    "    for run_id, initial_params in enumerate(initial_parameters):\n",
    "        # Transform parameters to log-scale\n",
    "        log_initial_params = np.log(initial_params)\n",
    "\n",
    "        # Create optimisation controller with a CMA-ES optimiser\n",
    "        optimiser = pints.OptimisationController(\n",
    "            function=error,\n",
    "            x0=log_initial_params,\n",
    "            method=pints.CMAES)\n",
    "\n",
    "        # Disable logging mode\n",
    "        optimiser.set_log_to_screen(False)\n",
    "\n",
    "        # Parallelise optimisation\n",
    "        optimiser.set_parallel(True)\n",
    "\n",
    "        # Find optimal parameters\n",
    "        try:\n",
    "            estimates, score = optimiser.run()\n",
    "        except:\n",
    "            # If inference breaks fill estimates with nan\n",
    "            estimates = np.array([np.nan, np.nan, np.nan])\n",
    "            score = np.nan\n",
    "\n",
    "        # Save estimates and score (back transformed to linear scale)\n",
    "        mouse_parameters_multi_runs_log_transformed[index, run_id, :] = np.exp(estimates)\n",
    "        mouse_scores_multi_runs_log_transformed[index, run_id] = score"
   ]
  },
  {
   "cell_type": "code",
   "execution_count": 57,
   "metadata": {},
   "outputs": [
    {
     "output_type": "display_data",
     "data": {
      "application/vnd.plotly.v1+json": {
       "config": {
        "plotlyServerURL": "https://plot.ly"
       },
       "data": [
        {
         "boxpoints": "all",
         "jitter": 0.2,
         "line": {
          "color": "#636EFA"
         },
         "marker": {
          "color": "#636EFA",
          "line": {
           "color": "black",
           "width": 1
          },
          "opacity": 0.7,
          "symbol": "circle"
         },
         "name": "Initial tumour volume in cm^3",
         "pointpos": -1.5,
         "type": "box",
         "visible": true,
         "y": [
          1.1499192075898983,
          1.0347866690583294,
          1.2227682647213245,
          1.2114389469709683,
          1.1493098891568494,
          1.1502789852653077,
          1.149640480150653,
          1.149743003009332,
          1.1496126544669847,
          1.020826368142246
         ]
        },
        {
         "boxpoints": "all",
         "jitter": 0.2,
         "line": {
          "color": "#EF553B"
         },
         "marker": {
          "color": "#EF553B",
          "line": {
           "color": "black",
           "width": 1
          },
          "opacity": 0.7,
          "symbol": "circle"
         },
         "name": "Exponential growth rate in 1/day",
         "pointpos": -1.5,
         "type": "box",
         "visible": true,
         "y": [
          1.3160760905768567,
          6.021505747078844e-79,
          0.37665768984253223,
          2.836764264796984e-18,
          1.3173551713045037,
          1.3153286294633402,
          1.3164011097363528,
          1.3164998920472757,
          1.3167188893563828,
          0.00016189065136686164
         ]
        },
        {
         "boxpoints": "all",
         "jitter": 0.2,
         "line": {
          "color": "#00CC96"
         },
         "marker": {
          "color": "#00CC96",
          "line": {
           "color": "black",
           "width": 1
          },
          "opacity": 0.7,
          "symbol": "circle"
         },
         "name": "Linear growth rate in cm^3/day",
         "pointpos": -1.5,
         "type": "box",
         "visible": true,
         "y": [
          1.139933707486263,
          1.106116912231604,
          163.75377341070643,
          4.6372505696317555e-14,
          1.1399331193523343,
          1.139937760492536,
          1.139822959571269,
          1.1399262684643459,
          1.1399415700491655,
          1.1054509389925549
         ]
        },
        {
         "boxpoints": "all",
         "jitter": 0.2,
         "line": {
          "color": "#AB63FA"
         },
         "marker": {
          "color": "#AB63FA",
          "line": {
           "color": "black",
           "width": 1
          },
          "opacity": 0.7,
          "symbol": "circle"
         },
         "name": "Score",
         "pointpos": -1.5,
         "type": "box",
         "visible": true,
         "y": [
          0.031862176955639254,
          0.06909307469099593,
          15.908563636730833,
          15.910378975067076,
          0.03186088203170335,
          0.03186469402191754,
          0.03187537074508302,
          0.031860977286699683,
          0.03186089435852832,
          0.07402834037968
         ]
        },
        {
         "boxpoints": "all",
         "jitter": 0.2,
         "line": {
          "color": "#636EFA"
         },
         "marker": {
          "color": "#636EFA",
          "line": {
           "color": "black",
           "width": 1
          },
          "opacity": 0.7,
          "symbol": "circle"
         },
         "name": "Initial tumour volume in cm^3",
         "pointpos": -1.5,
         "type": "box",
         "visible": false,
         "y": [
          1.0772773076438913,
          1.0592124859691034,
          1.0595177801222775,
          1.0803094775255495,
          1.0772771752754493,
          1.0773996152343686,
          1.0772773535169438,
          1.0803606047788565,
          1.059668522770547,
          1.0592124026788132
         ]
        },
        {
         "boxpoints": "all",
         "jitter": 0.2,
         "line": {
          "color": "#EF553B"
         },
         "marker": {
          "color": "#EF553B",
          "line": {
           "color": "black",
           "width": 1
          },
          "opacity": 0.7,
          "symbol": "circle"
         },
         "name": "Exponential growth rate in 1/day",
         "pointpos": -1.5,
         "type": "box",
         "visible": false,
         "y": [
          1.1845942071517936,
          2.219273952957296e-152,
          761263.3470819792,
          3.4292121432642103e-34,
          1.1845944634859762,
          1.1828313133161268,
          1.1845940303626905,
          3.342630157835214e-8,
          7604.428526856699,
          2.2176290332241365e-152
         ]
        },
        {
         "boxpoints": "all",
         "jitter": 0.2,
         "line": {
          "color": "#00CC96"
         },
         "marker": {
          "color": "#00CC96",
          "line": {
           "color": "black",
           "width": 1
          },
          "opacity": 0.7,
          "symbol": "circle"
         },
         "name": "Linear growth rate in cm^3/day",
         "pointpos": -1.5,
         "type": "box",
         "visible": false,
         "y": [
          1.0204814831424844,
          1.0165699653957183,
          1.0166150479486926,
          0.00005164876712346051,
          1.0204814771989488,
          1.0205205838660794,
          1.0204814761513041,
          4.876953045524916e-7,
          1.0166367346284215,
          1.0165699828251729
         ]
        },
        {
         "boxpoints": "all",
         "jitter": 0.2,
         "line": {
          "color": "#AB63FA"
         },
         "marker": {
          "color": "#AB63FA",
          "line": {
           "color": "black",
           "width": 1
          },
          "opacity": 0.7,
          "symbol": "circle"
         },
         "name": "Score",
         "pointpos": -1.5,
         "type": "box",
         "visible": false,
         "y": [
          0.007448563912810435,
          0.008275486996665084,
          0.008250021032213006,
          1.610843308322039,
          0.007448563912864793,
          0.00744825342652308,
          0.0074485639126921745,
          1.6108425922041179,
          0.008238357512644817,
          0.008275486996610614
         ]
        },
        {
         "boxpoints": "all",
         "jitter": 0.2,
         "line": {
          "color": "#636EFA"
         },
         "marker": {
          "color": "#636EFA",
          "line": {
           "color": "black",
           "width": 1
          },
          "opacity": 0.7,
          "symbol": "circle"
         },
         "name": "Initial tumour volume in cm^3",
         "pointpos": -1.5,
         "type": "box",
         "visible": false,
         "y": [
          1.247432815288403,
          1.000000164917852,
          1.0176724856254395,
          1.2047356461597027,
          2.7593150604611525,
          1.2045822807070963,
          1.2045736491117571,
          1.3136014799698048,
          1.0000021919526199,
          1.000000364294132
         ]
        },
        {
         "boxpoints": "all",
         "jitter": 0.2,
         "line": {
          "color": "#EF553B"
         },
         "marker": {
          "color": "#EF553B",
          "line": {
           "color": "black",
           "width": 1
          },
          "opacity": 0.7,
          "symbol": "circle"
         },
         "name": "Exponential growth rate in 1/day",
         "pointpos": -1.5,
         "type": "box",
         "visible": false,
         "y": [
          1.057097799923964,
          66923.71398671872,
          6.904138811157101e-7,
          0.000007599865002474494,
          0.09817689460560039,
          0.017809380740719933,
          2.3491839468342156e-9,
          1.0421323502020674,
          10326.784010497602,
          534866.2342461452
         ]
        },
        {
         "boxpoints": "all",
         "jitter": 0.2,
         "line": {
          "color": "#00CC96"
         },
         "marker": {
          "color": "#00CC96",
          "line": {
           "color": "black",
           "width": 1
          },
          "opacity": 0.7,
          "symbol": "circle"
         },
         "name": "Linear growth rate in cm^3/day",
         "pointpos": -1.5,
         "type": "box",
         "visible": false,
         "y": [
          null,
          1.0979745241212189,
          1.0900632249446875,
          0.0000056505637417511,
          0.9586125109179623,
          26215.426574751935,
          0.000816655261236096,
          0.6653318484172356,
          1.0963513766575648,
          1.0956812728123422
         ]
        },
        {
         "boxpoints": "all",
         "jitter": 0.2,
         "line": {
          "color": "#AB63FA"
         },
         "marker": {
          "color": "#AB63FA",
          "line": {
           "color": "black",
           "width": 1
          },
          "opacity": 0.7,
          "symbol": "circle"
         },
         "name": "Score",
         "pointpos": -1.5,
         "type": "box",
         "visible": false,
         "y": [
          0.09929726073743354,
          0.5185024747040285,
          0.5421067360079912,
          12.1332757576663,
          9.059973868984688,
          12.133279175134408,
          12.133282837827128,
          0.07277697701593705,
          0.519935949571525,
          0.5224356699915906
         ]
        },
        {
         "boxpoints": "all",
         "jitter": 0.2,
         "line": {
          "color": "#636EFA"
         },
         "marker": {
          "color": "#636EFA",
          "line": {
           "color": "black",
           "width": 1
          },
          "opacity": 0.7,
          "symbol": "circle"
         },
         "name": "Initial tumour volume in cm^3",
         "pointpos": -1.5,
         "type": "box",
         "visible": false,
         "y": [
          1.161746648679645,
          1.020629518341403,
          1.1605760535444536,
          1.0217834924536986,
          1.1604195521550884,
          1.1606777217900293,
          1.1605550544860268,
          1.1259089410881018,
          1.1596979669281855,
          1.1706908141164656
         ]
        },
        {
         "boxpoints": "all",
         "jitter": 0.2,
         "line": {
          "color": "#EF553B"
         },
         "marker": {
          "color": "#EF553B",
          "line": {
           "color": "black",
           "width": 1
          },
          "opacity": 0.7,
          "symbol": "circle"
         },
         "name": "Exponential growth rate in 1/day",
         "pointpos": -1.5,
         "type": "box",
         "visible": false,
         "y": [
          1.0551859097164058,
          1339742419.759559,
          1.0557829048257275,
          25897557.937975988,
          1.0558172526553984,
          1.0557614027993394,
          1.0557867018216684,
          1.9950541488306074e-12,
          1.0563247927353498,
          1.944521516186514e-17
         ]
        },
        {
         "boxpoints": "all",
         "jitter": 0.2,
         "line": {
          "color": "#00CC96"
         },
         "marker": {
          "color": "#00CC96",
          "line": {
           "color": "black",
           "width": 1
          },
          "opacity": 0.7,
          "symbol": "circle"
         },
         "name": "Linear growth rate in cm^3/day",
         "pointpos": -1.5,
         "type": "box",
         "visible": false,
         "y": [
          1.1400512087798214,
          1.0417235006418426,
          1.1374500690032459,
          1.0417117803674374,
          1.137356276520582,
          1.1374794790063183,
          1.1374442569568193,
          0.002449417911197099,
          1.1349917205761648,
          1.035687310287246
         ]
        },
        {
         "boxpoints": "all",
         "jitter": 0.2,
         "line": {
          "color": "#AB63FA"
         },
         "marker": {
          "color": "#AB63FA",
          "line": {
           "color": "black",
           "width": 1
          },
          "opacity": 0.7,
          "symbol": "circle"
         },
         "name": "Score",
         "pointpos": -1.5,
         "type": "box",
         "visible": false,
         "y": [
          0.04018816202961501,
          0.10855863928827039,
          0.04018473827462832,
          0.1084720833294839,
          0.04018529784039373,
          0.040184706695914056,
          0.04018509923373221,
          7.614827810015756,
          0.04018245678095898,
          0.1917955226282544
         ]
        },
        {
         "boxpoints": "all",
         "jitter": 0.2,
         "line": {
          "color": "#636EFA"
         },
         "marker": {
          "color": "#636EFA",
          "line": {
           "color": "black",
           "width": 1
          },
          "opacity": 0.7,
          "symbol": "circle"
         },
         "name": "Initial tumour volume in cm^3",
         "pointpos": -1.5,
         "type": "box",
         "visible": false,
         "y": [
          1.0442806807476726,
          1.0824659476244525,
          2.0168783501616856,
          0.9999998125681353,
          0.8148704219223343,
          1.0825779609100714,
          1.0000001465732982,
          1.0879619678303,
          null,
          1.1357851473608354
         ]
        },
        {
         "boxpoints": "all",
         "jitter": 0.2,
         "line": {
          "color": "#EF553B"
         },
         "marker": {
          "color": "#EF553B",
          "line": {
           "color": "black",
           "width": 1
          },
          "opacity": 0.7,
          "symbol": "circle"
         },
         "name": "Exponential growth rate in 1/day",
         "pointpos": -1.5,
         "type": "box",
         "visible": false,
         "y": [
          0.0004926002635261635,
          0.00015297717230901316,
          0.9448409868622001,
          1467.6073499358365,
          2487516.6939846063,
          1.0797276591858802e-7,
          2684.207324310094,
          1.055616234572567,
          null,
          0.636741709761448
         ]
        },
        {
         "boxpoints": "all",
         "jitter": 0.2,
         "line": {
          "color": "#00CC96"
         },
         "marker": {
          "color": "#00CC96",
          "line": {
           "color": "black",
           "width": 1
          },
          "opacity": 0.7,
          "symbol": "circle"
         },
         "name": "Linear growth rate in cm^3/day",
         "pointpos": -1.5,
         "type": "box",
         "visible": false,
         "y": [
          1.030191661108568,
          0.01307025552962822,
          0.5540658040894948,
          1.0538436758765974,
          1.0623884617428228,
          2085.984775645803,
          1.0536166007972678,
          null,
          null,
          2.4750545143391878
         ]
        },
        {
         "boxpoints": "all",
         "jitter": 0.2,
         "line": {
          "color": "#AB63FA"
         },
         "marker": {
          "color": "#AB63FA",
          "line": {
           "color": "black",
           "width": 1
          },
          "opacity": 0.7,
          "symbol": "circle"
         },
         "name": "Score",
         "pointpos": -1.5,
         "type": "box",
         "visible": false,
         "y": [
          2.7617796775509453,
          12.135805451753669,
          11.631522966756936,
          1.1774128779772475,
          1.114828113906999,
          12.135805269006486,
          1.1638970597765876,
          0.14587237619157037,
          null,
          12.132686985093335
         ]
        },
        {
         "boxpoints": "all",
         "jitter": 0.2,
         "line": {
          "color": "#636EFA"
         },
         "marker": {
          "color": "#636EFA",
          "line": {
           "color": "black",
           "width": 1
          },
          "opacity": 0.7,
          "symbol": "circle"
         },
         "name": "Initial tumour volume in cm^3",
         "pointpos": -1.5,
         "type": "box",
         "visible": false,
         "y": [
          1.1115735681354286,
          1.1115443230148963,
          1.111707961198304,
          1.1421300728147874,
          1.1117076504243772,
          1.1425627860120955,
          1.142563311501849,
          1.0121253084983979,
          1.1425630350919855,
          1.111683311624909
         ]
        },
        {
         "boxpoints": "all",
         "jitter": 0.2,
         "line": {
          "color": "#EF553B"
         },
         "marker": {
          "color": "#EF553B",
          "line": {
           "color": "black",
           "width": 1
          },
          "opacity": 0.7,
          "symbol": "circle"
         },
         "name": "Exponential growth rate in 1/day",
         "pointpos": -1.5,
         "type": "box",
         "visible": false,
         "y": [
          1.268573642881266e-11,
          2.974680132978939e-7,
          1.1412634802947475e-8,
          1.2201898707034373,
          1.3675283504907427e-7,
          1.2181825211820054,
          1.2181817820660101,
          0.00001009899807943381,
          1.2181821736686627,
          1.8429368198465004e-15
         ]
        },
        {
         "boxpoints": "all",
         "jitter": 0.2,
         "line": {
          "color": "#00CC96"
         },
         "marker": {
          "color": "#00CC96",
          "line": {
           "color": "black",
           "width": 1
          },
          "opacity": 0.7,
          "symbol": "circle"
         },
         "name": "Linear growth rate in cm^3/day",
         "pointpos": -1.5,
         "type": "box",
         "visible": false,
         "y": [
          0.20957921868123222,
          1.8225671235984092e+21,
          1.2806320931524723e-21,
          1.114352616004856,
          5.74420902672415e-15,
          1.1146460200199442,
          1.1146460629985036,
          1.082269020094448,
          1.1146460418294912,
          5.7206065997559914e-15
         ]
        },
        {
         "boxpoints": "all",
         "jitter": 0.2,
         "line": {
          "color": "#AB63FA"
         },
         "marker": {
          "color": "#AB63FA",
          "line": {
           "color": "black",
           "width": 1
          },
          "opacity": 0.7,
          "symbol": "circle"
         },
         "name": "Score",
         "pointpos": -1.5,
         "type": "box",
         "visible": false,
         "y": [
          17.51238114583854,
          17.512381705751327,
          17.512381043707286,
          0.25885804033575915,
          17.512381290471737,
          0.25885734650769654,
          0.2588573465068919,
          0.29454606475904777,
          0.2588573465066661,
          17.512380360256394
         ]
        },
        {
         "boxpoints": "all",
         "jitter": 0.2,
         "line": {
          "color": "#636EFA"
         },
         "marker": {
          "color": "#636EFA",
          "line": {
           "color": "black",
           "width": 1
          },
          "opacity": 0.7,
          "symbol": "circle"
         },
         "name": "Initial tumour volume in cm^3",
         "pointpos": -1.5,
         "type": "box",
         "visible": false,
         "y": [
          1.1318002200947896,
          1.130889100675866,
          1.1552034119106132,
          1.1317719099513086,
          null,
          1.1318003824669882,
          1.1308705273798083,
          1.1310171819427446,
          1.1309257879929713,
          1.1312574457373914
         ]
        },
        {
         "boxpoints": "all",
         "jitter": 0.2,
         "line": {
          "color": "#EF553B"
         },
         "marker": {
          "color": "#EF553B",
          "line": {
           "color": "black",
           "width": 1
          },
          "opacity": 0.7,
          "symbol": "circle"
         },
         "name": "Exponential growth rate in 1/day",
         "pointpos": -1.5,
         "type": "box",
         "visible": false,
         "y": [
          1.043970903044696,
          2.713872956051018e-27,
          1.0287101460209274,
          1.0439612982826982,
          null,
          1.043970862323426,
          2.9328606343731258e-8,
          0.0001991184838230602,
          0.02695288905489278,
          1.044482102083064
         ]
        },
        {
         "boxpoints": "all",
         "jitter": 0.2,
         "line": {
          "color": "#00CC96"
         },
         "marker": {
          "color": "#00CC96",
          "line": {
           "color": "black",
           "width": 1
          },
          "opacity": 0.7,
          "symbol": "circle"
         },
         "name": "Linear growth rate in cm^3/day",
         "pointpos": -1.5,
         "type": "box",
         "visible": false,
         "y": [
          1.075725398003237,
          1.1047154347031156e-32,
          0,
          1.0758080976745268,
          null,
          1.0757254135143266,
          0.06445493152253458,
          0.06990425986248386,
          0.00028746466976866926,
          1.0740060358196724
         ]
        },
        {
         "boxpoints": "all",
         "jitter": 0.2,
         "line": {
          "color": "#AB63FA"
         },
         "marker": {
          "color": "#AB63FA",
          "line": {
           "color": "black",
           "width": 1
          },
          "opacity": 0.7,
          "symbol": "circle"
         },
         "name": "Score",
         "pointpos": -1.5,
         "type": "box",
         "visible": false,
         "y": [
          0.0029152929592081546,
          2.613656061116689,
          0.005671565938348907,
          0.002915344423389891,
          null,
          0.002915292959202461,
          2.6136552608809884,
          2.613655045735834,
          2.613655078545759,
          0.0029160191457926255
         ]
        },
        {
         "boxpoints": "all",
         "jitter": 0.2,
         "line": {
          "color": "#636EFA"
         },
         "marker": {
          "color": "#636EFA",
          "line": {
           "color": "black",
           "width": 1
          },
          "opacity": 0.7,
          "symbol": "circle"
         },
         "name": "Initial tumour volume in cm^3",
         "pointpos": -1.5,
         "type": "box",
         "visible": false,
         "y": [
          1.0909488540759014,
          1.0909488562404253,
          1.0833463980725009,
          1.0909580924913627,
          1.2333297246562949,
          1.091015767814681,
          null,
          1.0833448611715908,
          1.0909488437258963,
          1.0906480095923925
         ]
        },
        {
         "boxpoints": "all",
         "jitter": 0.2,
         "line": {
          "color": "#EF553B"
         },
         "marker": {
          "color": "#EF553B",
          "line": {
           "color": "black",
           "width": 1
          },
          "opacity": 0.7,
          "symbol": "circle"
         },
         "name": "Exponential growth rate in 1/day",
         "pointpos": -1.5,
         "type": "box",
         "visible": false,
         "y": [
          1.0368343287503496,
          1.0368343278835326,
          0.00023999555211336128,
          1.0368353623123756,
          3.212399730512265e-8,
          1.0367785345414255,
          null,
          3.9711720410590096e-17,
          1.0368343309945411,
          1.0370895830878653
         ]
        },
        {
         "boxpoints": "all",
         "jitter": 0.2,
         "line": {
          "color": "#00CC96"
         },
         "marker": {
          "color": "#00CC96",
          "line": {
           "color": "black",
           "width": 1
          },
          "opacity": 0.7,
          "symbol": "circle"
         },
         "name": "Linear growth rate in cm^3/day",
         "pointpos": -1.5,
         "type": "box",
         "visible": false,
         "y": [
          1.2131962548153408,
          1.2131962543020802,
          147.0681364646029,
          1.2128250338189195,
          0.9713675243135919,
          1.2157334802327966,
          null,
          7.920964222493255e-12,
          1.2131962436731683,
          1.201123929765308
         ]
        },
        {
         "boxpoints": "all",
         "jitter": 0.2,
         "line": {
          "color": "#AB63FA"
         },
         "marker": {
          "color": "#AB63FA",
          "line": {
           "color": "black",
           "width": 1
          },
          "opacity": 0.7,
          "symbol": "circle"
         },
         "name": "Score",
         "pointpos": -1.5,
         "type": "box",
         "visible": false,
         "y": [
          0.0023155933407801874,
          0.002315593340781319,
          1.5197864673673693,
          0.002315626368433962,
          1.516518121527804,
          0.0023157352352772857,
          null,
          1.5197863894651473,
          0.00231559334078102,
          0.0023162947551723253
         ]
        }
       ],
       "layout": {
        "autosize": true,
        "legend": {
         "x": 1.05,
         "xanchor": "left",
         "y": 0.01,
         "yanchor": "bottom"
        },
        "template": {
         "data": {
          "bar": [
           {
            "error_x": {
             "color": "#2a3f5f"
            },
            "error_y": {
             "color": "#2a3f5f"
            },
            "marker": {
             "line": {
              "color": "white",
              "width": 0.5
             }
            },
            "type": "bar"
           }
          ],
          "barpolar": [
           {
            "marker": {
             "line": {
              "color": "white",
              "width": 0.5
             }
            },
            "type": "barpolar"
           }
          ],
          "carpet": [
           {
            "aaxis": {
             "endlinecolor": "#2a3f5f",
             "gridcolor": "#C8D4E3",
             "linecolor": "#C8D4E3",
             "minorgridcolor": "#C8D4E3",
             "startlinecolor": "#2a3f5f"
            },
            "baxis": {
             "endlinecolor": "#2a3f5f",
             "gridcolor": "#C8D4E3",
             "linecolor": "#C8D4E3",
             "minorgridcolor": "#C8D4E3",
             "startlinecolor": "#2a3f5f"
            },
            "type": "carpet"
           }
          ],
          "choropleth": [
           {
            "colorbar": {
             "outlinewidth": 0,
             "ticks": ""
            },
            "type": "choropleth"
           }
          ],
          "contour": [
           {
            "colorbar": {
             "outlinewidth": 0,
             "ticks": ""
            },
            "colorscale": [
             [
              0,
              "#0d0887"
             ],
             [
              0.1111111111111111,
              "#46039f"
             ],
             [
              0.2222222222222222,
              "#7201a8"
             ],
             [
              0.3333333333333333,
              "#9c179e"
             ],
             [
              0.4444444444444444,
              "#bd3786"
             ],
             [
              0.5555555555555556,
              "#d8576b"
             ],
             [
              0.6666666666666666,
              "#ed7953"
             ],
             [
              0.7777777777777778,
              "#fb9f3a"
             ],
             [
              0.8888888888888888,
              "#fdca26"
             ],
             [
              1,
              "#f0f921"
             ]
            ],
            "type": "contour"
           }
          ],
          "contourcarpet": [
           {
            "colorbar": {
             "outlinewidth": 0,
             "ticks": ""
            },
            "type": "contourcarpet"
           }
          ],
          "heatmap": [
           {
            "colorbar": {
             "outlinewidth": 0,
             "ticks": ""
            },
            "colorscale": [
             [
              0,
              "#0d0887"
             ],
             [
              0.1111111111111111,
              "#46039f"
             ],
             [
              0.2222222222222222,
              "#7201a8"
             ],
             [
              0.3333333333333333,
              "#9c179e"
             ],
             [
              0.4444444444444444,
              "#bd3786"
             ],
             [
              0.5555555555555556,
              "#d8576b"
             ],
             [
              0.6666666666666666,
              "#ed7953"
             ],
             [
              0.7777777777777778,
              "#fb9f3a"
             ],
             [
              0.8888888888888888,
              "#fdca26"
             ],
             [
              1,
              "#f0f921"
             ]
            ],
            "type": "heatmap"
           }
          ],
          "heatmapgl": [
           {
            "colorbar": {
             "outlinewidth": 0,
             "ticks": ""
            },
            "colorscale": [
             [
              0,
              "#0d0887"
             ],
             [
              0.1111111111111111,
              "#46039f"
             ],
             [
              0.2222222222222222,
              "#7201a8"
             ],
             [
              0.3333333333333333,
              "#9c179e"
             ],
             [
              0.4444444444444444,
              "#bd3786"
             ],
             [
              0.5555555555555556,
              "#d8576b"
             ],
             [
              0.6666666666666666,
              "#ed7953"
             ],
             [
              0.7777777777777778,
              "#fb9f3a"
             ],
             [
              0.8888888888888888,
              "#fdca26"
             ],
             [
              1,
              "#f0f921"
             ]
            ],
            "type": "heatmapgl"
           }
          ],
          "histogram": [
           {
            "marker": {
             "colorbar": {
              "outlinewidth": 0,
              "ticks": ""
             }
            },
            "type": "histogram"
           }
          ],
          "histogram2d": [
           {
            "colorbar": {
             "outlinewidth": 0,
             "ticks": ""
            },
            "colorscale": [
             [
              0,
              "#0d0887"
             ],
             [
              0.1111111111111111,
              "#46039f"
             ],
             [
              0.2222222222222222,
              "#7201a8"
             ],
             [
              0.3333333333333333,
              "#9c179e"
             ],
             [
              0.4444444444444444,
              "#bd3786"
             ],
             [
              0.5555555555555556,
              "#d8576b"
             ],
             [
              0.6666666666666666,
              "#ed7953"
             ],
             [
              0.7777777777777778,
              "#fb9f3a"
             ],
             [
              0.8888888888888888,
              "#fdca26"
             ],
             [
              1,
              "#f0f921"
             ]
            ],
            "type": "histogram2d"
           }
          ],
          "histogram2dcontour": [
           {
            "colorbar": {
             "outlinewidth": 0,
             "ticks": ""
            },
            "colorscale": [
             [
              0,
              "#0d0887"
             ],
             [
              0.1111111111111111,
              "#46039f"
             ],
             [
              0.2222222222222222,
              "#7201a8"
             ],
             [
              0.3333333333333333,
              "#9c179e"
             ],
             [
              0.4444444444444444,
              "#bd3786"
             ],
             [
              0.5555555555555556,
              "#d8576b"
             ],
             [
              0.6666666666666666,
              "#ed7953"
             ],
             [
              0.7777777777777778,
              "#fb9f3a"
             ],
             [
              0.8888888888888888,
              "#fdca26"
             ],
             [
              1,
              "#f0f921"
             ]
            ],
            "type": "histogram2dcontour"
           }
          ],
          "mesh3d": [
           {
            "colorbar": {
             "outlinewidth": 0,
             "ticks": ""
            },
            "type": "mesh3d"
           }
          ],
          "parcoords": [
           {
            "line": {
             "colorbar": {
              "outlinewidth": 0,
              "ticks": ""
             }
            },
            "type": "parcoords"
           }
          ],
          "pie": [
           {
            "automargin": true,
            "type": "pie"
           }
          ],
          "scatter": [
           {
            "marker": {
             "colorbar": {
              "outlinewidth": 0,
              "ticks": ""
             }
            },
            "type": "scatter"
           }
          ],
          "scatter3d": [
           {
            "line": {
             "colorbar": {
              "outlinewidth": 0,
              "ticks": ""
             }
            },
            "marker": {
             "colorbar": {
              "outlinewidth": 0,
              "ticks": ""
             }
            },
            "type": "scatter3d"
           }
          ],
          "scattercarpet": [
           {
            "marker": {
             "colorbar": {
              "outlinewidth": 0,
              "ticks": ""
             }
            },
            "type": "scattercarpet"
           }
          ],
          "scattergeo": [
           {
            "marker": {
             "colorbar": {
              "outlinewidth": 0,
              "ticks": ""
             }
            },
            "type": "scattergeo"
           }
          ],
          "scattergl": [
           {
            "marker": {
             "colorbar": {
              "outlinewidth": 0,
              "ticks": ""
             }
            },
            "type": "scattergl"
           }
          ],
          "scattermapbox": [
           {
            "marker": {
             "colorbar": {
              "outlinewidth": 0,
              "ticks": ""
             }
            },
            "type": "scattermapbox"
           }
          ],
          "scatterpolar": [
           {
            "marker": {
             "colorbar": {
              "outlinewidth": 0,
              "ticks": ""
             }
            },
            "type": "scatterpolar"
           }
          ],
          "scatterpolargl": [
           {
            "marker": {
             "colorbar": {
              "outlinewidth": 0,
              "ticks": ""
             }
            },
            "type": "scatterpolargl"
           }
          ],
          "scatterternary": [
           {
            "marker": {
             "colorbar": {
              "outlinewidth": 0,
              "ticks": ""
             }
            },
            "type": "scatterternary"
           }
          ],
          "surface": [
           {
            "colorbar": {
             "outlinewidth": 0,
             "ticks": ""
            },
            "colorscale": [
             [
              0,
              "#0d0887"
             ],
             [
              0.1111111111111111,
              "#46039f"
             ],
             [
              0.2222222222222222,
              "#7201a8"
             ],
             [
              0.3333333333333333,
              "#9c179e"
             ],
             [
              0.4444444444444444,
              "#bd3786"
             ],
             [
              0.5555555555555556,
              "#d8576b"
             ],
             [
              0.6666666666666666,
              "#ed7953"
             ],
             [
              0.7777777777777778,
              "#fb9f3a"
             ],
             [
              0.8888888888888888,
              "#fdca26"
             ],
             [
              1,
              "#f0f921"
             ]
            ],
            "type": "surface"
           }
          ],
          "table": [
           {
            "cells": {
             "fill": {
              "color": "#EBF0F8"
             },
             "line": {
              "color": "white"
             }
            },
            "header": {
             "fill": {
              "color": "#C8D4E3"
             },
             "line": {
              "color": "white"
             }
            },
            "type": "table"
           }
          ]
         },
         "layout": {
          "annotationdefaults": {
           "arrowcolor": "#2a3f5f",
           "arrowhead": 0,
           "arrowwidth": 1
          },
          "coloraxis": {
           "colorbar": {
            "outlinewidth": 0,
            "ticks": ""
           }
          },
          "colorscale": {
           "diverging": [
            [
             0,
             "#8e0152"
            ],
            [
             0.1,
             "#c51b7d"
            ],
            [
             0.2,
             "#de77ae"
            ],
            [
             0.3,
             "#f1b6da"
            ],
            [
             0.4,
             "#fde0ef"
            ],
            [
             0.5,
             "#f7f7f7"
            ],
            [
             0.6,
             "#e6f5d0"
            ],
            [
             0.7,
             "#b8e186"
            ],
            [
             0.8,
             "#7fbc41"
            ],
            [
             0.9,
             "#4d9221"
            ],
            [
             1,
             "#276419"
            ]
           ],
           "sequential": [
            [
             0,
             "#0d0887"
            ],
            [
             0.1111111111111111,
             "#46039f"
            ],
            [
             0.2222222222222222,
             "#7201a8"
            ],
            [
             0.3333333333333333,
             "#9c179e"
            ],
            [
             0.4444444444444444,
             "#bd3786"
            ],
            [
             0.5555555555555556,
             "#d8576b"
            ],
            [
             0.6666666666666666,
             "#ed7953"
            ],
            [
             0.7777777777777778,
             "#fb9f3a"
            ],
            [
             0.8888888888888888,
             "#fdca26"
            ],
            [
             1,
             "#f0f921"
            ]
           ],
           "sequentialminus": [
            [
             0,
             "#0d0887"
            ],
            [
             0.1111111111111111,
             "#46039f"
            ],
            [
             0.2222222222222222,
             "#7201a8"
            ],
            [
             0.3333333333333333,
             "#9c179e"
            ],
            [
             0.4444444444444444,
             "#bd3786"
            ],
            [
             0.5555555555555556,
             "#d8576b"
            ],
            [
             0.6666666666666666,
             "#ed7953"
            ],
            [
             0.7777777777777778,
             "#fb9f3a"
            ],
            [
             0.8888888888888888,
             "#fdca26"
            ],
            [
             1,
             "#f0f921"
            ]
           ]
          },
          "colorway": [
           "#636efa",
           "#EF553B",
           "#00cc96",
           "#ab63fa",
           "#FFA15A",
           "#19d3f3",
           "#FF6692",
           "#B6E880",
           "#FF97FF",
           "#FECB52"
          ],
          "font": {
           "color": "#2a3f5f"
          },
          "geo": {
           "bgcolor": "white",
           "lakecolor": "white",
           "landcolor": "white",
           "showlakes": true,
           "showland": true,
           "subunitcolor": "#C8D4E3"
          },
          "hoverlabel": {
           "align": "left"
          },
          "hovermode": "closest",
          "mapbox": {
           "style": "light"
          },
          "paper_bgcolor": "white",
          "plot_bgcolor": "white",
          "polar": {
           "angularaxis": {
            "gridcolor": "#EBF0F8",
            "linecolor": "#EBF0F8",
            "ticks": ""
           },
           "bgcolor": "white",
           "radialaxis": {
            "gridcolor": "#EBF0F8",
            "linecolor": "#EBF0F8",
            "ticks": ""
           }
          },
          "scene": {
           "xaxis": {
            "backgroundcolor": "white",
            "gridcolor": "#DFE8F3",
            "gridwidth": 2,
            "linecolor": "#EBF0F8",
            "showbackground": true,
            "ticks": "",
            "zerolinecolor": "#EBF0F8"
           },
           "yaxis": {
            "backgroundcolor": "white",
            "gridcolor": "#DFE8F3",
            "gridwidth": 2,
            "linecolor": "#EBF0F8",
            "showbackground": true,
            "ticks": "",
            "zerolinecolor": "#EBF0F8"
           },
           "zaxis": {
            "backgroundcolor": "white",
            "gridcolor": "#DFE8F3",
            "gridwidth": 2,
            "linecolor": "#EBF0F8",
            "showbackground": true,
            "ticks": "",
            "zerolinecolor": "#EBF0F8"
           }
          },
          "shapedefaults": {
           "line": {
            "color": "#2a3f5f"
           }
          },
          "ternary": {
           "aaxis": {
            "gridcolor": "#DFE8F3",
            "linecolor": "#A2B1C6",
            "ticks": ""
           },
           "baxis": {
            "gridcolor": "#DFE8F3",
            "linecolor": "#A2B1C6",
            "ticks": ""
           },
           "bgcolor": "white",
           "caxis": {
            "gridcolor": "#DFE8F3",
            "linecolor": "#A2B1C6",
            "ticks": ""
           }
          },
          "title": {
           "x": 0.05
          },
          "xaxis": {
           "automargin": true,
           "gridcolor": "#EBF0F8",
           "linecolor": "#EBF0F8",
           "ticks": "",
           "title": {
            "standoff": 15
           },
           "zerolinecolor": "#EBF0F8",
           "zerolinewidth": 2
          },
          "yaxis": {
           "automargin": true,
           "gridcolor": "#EBF0F8",
           "linecolor": "#EBF0F8",
           "ticks": "",
           "title": {
            "standoff": 15
           },
           "zerolinecolor": "#EBF0F8",
           "zerolinewidth": 2
          }
         }
        },
        "updatemenus": [
         {
          "buttons": [
           {
            "args": [
             {
              "visible": [
               true,
               true,
               true,
               true,
               false,
               false,
               false,
               false,
               false,
               false,
               false,
               false,
               false,
               false,
               false,
               false,
               false,
               false,
               false,
               false,
               false,
               false,
               false,
               false,
               false,
               false,
               false,
               false,
               false,
               false,
               false,
               false
              ]
             }
            ],
            "label": "ID: 40",
            "method": "restyle"
           },
           {
            "args": [
             {
              "visible": [
               false,
               false,
               false,
               false,
               true,
               true,
               true,
               true,
               false,
               false,
               false,
               false,
               false,
               false,
               false,
               false,
               false,
               false,
               false,
               false,
               false,
               false,
               false,
               false,
               false,
               false,
               false,
               false,
               false,
               false,
               false,
               false
              ]
             }
            ],
            "label": "ID: 94",
            "method": "restyle"
           },
           {
            "args": [
             {
              "visible": [
               false,
               false,
               false,
               false,
               false,
               false,
               false,
               false,
               true,
               true,
               true,
               true,
               false,
               false,
               false,
               false,
               false,
               false,
               false,
               false,
               false,
               false,
               false,
               false,
               false,
               false,
               false,
               false,
               false,
               false,
               false,
               false
              ]
             }
            ],
            "label": "ID: 95",
            "method": "restyle"
           },
           {
            "args": [
             {
              "visible": [
               false,
               false,
               false,
               false,
               false,
               false,
               false,
               false,
               false,
               false,
               false,
               false,
               true,
               true,
               true,
               true,
               false,
               false,
               false,
               false,
               false,
               false,
               false,
               false,
               false,
               false,
               false,
               false,
               false,
               false,
               false,
               false
              ]
             }
            ],
            "label": "ID: 136",
            "method": "restyle"
           },
           {
            "args": [
             {
              "visible": [
               false,
               false,
               false,
               false,
               false,
               false,
               false,
               false,
               false,
               false,
               false,
               false,
               false,
               false,
               false,
               false,
               true,
               true,
               true,
               true,
               false,
               false,
               false,
               false,
               false,
               false,
               false,
               false,
               false,
               false,
               false,
               false
              ]
             }
            ],
            "label": "ID: 140",
            "method": "restyle"
           },
           {
            "args": [
             {
              "visible": [
               false,
               false,
               false,
               false,
               false,
               false,
               false,
               false,
               false,
               false,
               false,
               false,
               false,
               false,
               false,
               false,
               false,
               false,
               false,
               false,
               true,
               true,
               true,
               true,
               false,
               false,
               false,
               false,
               false,
               false,
               false,
               false
              ]
             }
            ],
            "label": "ID: 155",
            "method": "restyle"
           },
           {
            "args": [
             {
              "visible": [
               false,
               false,
               false,
               false,
               false,
               false,
               false,
               false,
               false,
               false,
               false,
               false,
               false,
               false,
               false,
               false,
               false,
               false,
               false,
               false,
               false,
               false,
               false,
               false,
               true,
               true,
               true,
               true,
               false,
               false,
               false,
               false
              ]
             }
            ],
            "label": "ID: 169",
            "method": "restyle"
           },
           {
            "args": [
             {
              "visible": [
               false,
               false,
               false,
               false,
               false,
               false,
               false,
               false,
               false,
               false,
               false,
               false,
               false,
               false,
               false,
               false,
               false,
               false,
               false,
               false,
               false,
               false,
               false,
               false,
               false,
               false,
               false,
               false,
               true,
               true,
               true,
               true
              ]
             }
            ],
            "label": "ID: 170",
            "method": "restyle"
           }
          ],
          "direction": "right",
          "pad": {
           "r": 0,
           "t": -10
          },
          "showactive": true,
          "type": "buttons",
          "x": 0,
          "xanchor": "left",
          "y": 1.1,
          "yanchor": "top"
         }
        ]
       }
      }
     },
     "metadata": {}
    }
   ],
   "source": [
    "#\n",
    "# Visualisation of the spread of optimised model parameters for multiple runs from different initial points.\n",
    "#\n",
    "# This cell needs the above optimised initial parameter from psi_0=(1, 1, 1) and the five runs from a random initial starting point, and their respective objective function scores, as well as the data\n",
    "# [mouse_parameters_multi_runs_log_transformed, mouse_scores_multi_runs_log_transformed, data]\n",
    "#\n",
    "\n",
    "import plotly.colors\n",
    "import plotly.graph_objects as go\n",
    "\n",
    "\n",
    "# Get mouse ids\n",
    "mouse_ids = data['#ID'].unique()\n",
    "\n",
    "# Get number of parameters + score (for visualisation)\n",
    "n_params = mouse_parameters.shape[1] + 1\n",
    "\n",
    "# Define colorscheme\n",
    "colors = plotly.colors.qualitative.Plotly[:n_params]\n",
    "\n",
    "# Get optimised parameters\n",
    "optimised_parameters = mouse_parameters_multi_runs_log_transformed\n",
    "\n",
    "# Get optimised parameters\n",
    "scores = mouse_scores_multi_runs_log_transformed\n",
    "\n",
    "# Create figure\n",
    "fig = go.Figure()\n",
    "\n",
    "# Box plot of optimised model parameters\n",
    "for index, id_m in enumerate(mouse_ids):\n",
    "    # Get optimised parameters\n",
    "    parameters = optimised_parameters[index, ...]\n",
    "\n",
    "    # Get scores\n",
    "    score = scores[index, :]\n",
    "\n",
    "    # Create box plot of for initial tumour volume\n",
    "    fig.add_trace(\n",
    "        go.Box(\n",
    "            y=parameters[:, 0],  \n",
    "            name=\"Initial tumour volume in cm^3\",\n",
    "            boxpoints='all',\n",
    "            jitter=0.2,\n",
    "            pointpos=-1.5,\n",
    "            visible=True if index == 0 else False,\n",
    "            marker=dict(\n",
    "                symbol='circle',\n",
    "                opacity=0.7,\n",
    "                line=dict(color='black', width=1)),\n",
    "            marker_color=colors[0],\n",
    "            line_color=colors[0]))\n",
    "\n",
    "    # Create box plot of for exponential tumour growth\n",
    "    fig.add_trace(\n",
    "        go.Box(\n",
    "            y=parameters[:, 1],  \n",
    "            name=\"Exponential growth rate in 1/day\",\n",
    "            boxpoints='all',\n",
    "            jitter=0.2,\n",
    "            pointpos=-1.5,\n",
    "            visible=True if index == 0 else False,\n",
    "            marker=dict(\n",
    "                symbol='circle',\n",
    "                opacity=0.7,\n",
    "                line=dict(color='black', width=1)),\n",
    "            marker_color=colors[1],\n",
    "            line_color=colors[1]))\n",
    "\n",
    "    # Create box plot of for linear tumour growth\n",
    "    fig.add_trace(\n",
    "        go.Box(\n",
    "            y=parameters[:, 2],  \n",
    "            name=\"Linear growth rate in cm^3/day\",\n",
    "            boxpoints='all',\n",
    "            jitter=0.2,\n",
    "            pointpos=-1.5,\n",
    "            visible=True if index == 0 else False,\n",
    "            marker=dict(\n",
    "                symbol='circle',\n",
    "                opacity=0.7,\n",
    "                line=dict(color='black', width=1)),\n",
    "            marker_color=colors[2],\n",
    "            line_color=colors[2]))\n",
    "    \n",
    "    # Create box plot of for objective function score\n",
    "    fig.add_trace(\n",
    "        go.Box(\n",
    "            y=score,  \n",
    "            name=\"Score\",\n",
    "            boxpoints='all',\n",
    "            jitter=0.2,\n",
    "            pointpos=-1.5,\n",
    "            visible=True if index == 0 else False,\n",
    "            marker=dict(\n",
    "                symbol='circle',\n",
    "                opacity=0.7,\n",
    "                line=dict(color='black', width=1)),\n",
    "            marker_color=colors[3],\n",
    "            line_color=colors[3]))\n",
    "\n",
    "# Set figure size\n",
    "fig.update_layout(\n",
    "    autosize=True,\n",
    "    template=\"plotly_white\")\n",
    "\n",
    "# Add switch between mice\n",
    "fig.update_layout(\n",
    "    updatemenus=[\n",
    "        dict(\n",
    "            type = \"buttons\",\n",
    "            direction = \"right\",\n",
    "            buttons=list([\n",
    "                dict(\n",
    "                    args=[{\"visible\": [True]*4 + [False]*(4 * 7)}],\n",
    "                    label=\"ID: %d\" % mouse_ids[0],\n",
    "                    method=\"restyle\"\n",
    "                ),\n",
    "                dict(\n",
    "                    args=[{\"visible\": [False]*4 + [True]*4 + [False]*(4 * 6)}],\n",
    "                    label=\"ID: %d\" % mouse_ids[1],\n",
    "                    method=\"restyle\"\n",
    "                ),\n",
    "                dict(\n",
    "                    args=[{\"visible\": [False]*(4 * 2) + [True]*4 + [False]*(4 * 5)}],\n",
    "                    label=\"ID: %d\" % mouse_ids[2],\n",
    "                    method=\"restyle\"\n",
    "                ),\n",
    "                dict(\n",
    "                    args=[{\"visible\": [False]*(4 * 3) + [True]*4 + [False]*(4 * 4)}],\n",
    "                    label=\"ID: %d\" % mouse_ids[3],\n",
    "                    method=\"restyle\"\n",
    "                ),\n",
    "                dict(\n",
    "                    args=[{\"visible\": [False]*(4 * 4) + [True]*4 + [False]*(4 * 3)}],\n",
    "                    label=\"ID: %d\" % mouse_ids[4],\n",
    "                    method=\"restyle\"\n",
    "                ),\n",
    "                dict(\n",
    "                    args=[{\"visible\": [False]*(4 * 5) + [True]*4 + [False]*(4 * 2)}],\n",
    "                    label=\"ID: %d\" % mouse_ids[5],\n",
    "                    method=\"restyle\"\n",
    "                ),\n",
    "                dict(\n",
    "                    args=[{\"visible\": [False]*(4 * 6) + [True]*4 + [False]* 4}],\n",
    "                    label=\"ID: %d\" % mouse_ids[6],\n",
    "                    method=\"restyle\"\n",
    "                ),\n",
    "                dict(\n",
    "                    args=[{\"visible\": [False]*(4 * 7) + [True]*4}],\n",
    "                    label=\"ID: %d\" % mouse_ids[7],\n",
    "                    method=\"restyle\"\n",
    "                )\n",
    "            ]),\n",
    "            pad={\"r\": 0, \"t\": -10},\n",
    "            showactive=True,\n",
    "            x=0.0,\n",
    "            xanchor=\"left\",\n",
    "            y=1.1,\n",
    "            yanchor=\"top\"\n",
    "        )\n",
    "    ]\n",
    ")\n",
    "\n",
    "# Position legend\n",
    "fig.update_layout(legend=dict(\n",
    "    yanchor=\"bottom\",\n",
    "    y=0.01,\n",
    "    xanchor=\"left\",\n",
    "    x=1.05))\n",
    "\n",
    "# Show figure\n",
    "fig.show()\n"
   ]
  },
  {
   "cell_type": "markdown",
   "metadata": {},
   "source": [
    "## Non-dimensional model with log-transformed parameters"
   ]
  },
  {
   "cell_type": "code",
   "execution_count": null,
   "metadata": {},
   "outputs": [],
   "source": [
    "#\n",
    "# Define pints model wrapper such that myokit model can be used for inference.\n",
    "#\n",
    "\n",
    "import myokit\n",
    "import pints\n",
    "\n",
    "from pkpd import model as model\n",
    "\n",
    "\n",
    "# Wrap myokit model, so it can be used with pints\n",
    "class DimensionlessPintsModel(pints.ForwardModel):\n",
    "    def __init__(self):\n",
    "        # Create myokit model\n",
    "        model = m.create_dimless_tumour_growth_model()\n",
    "\n",
    "        # Create simulator\n",
    "        self.sim = myokit.Simulation(model)\n",
    "\n",
    "    def n_parameters(self):\n",
    "        \"\"\"\n",
    "        Number of parameters to fit. Here initial v, a_0, a_1.\n",
    "        \"\"\"\n",
    "        return 3\n",
    "\n",
    "    def n_outputs(self):\n",
    "        return 1\n",
    "\n",
    "    def simulate(self, parameters, times):\n",
    "        # Reset simulation\n",
    "        self.sim.reset()\n",
    "\n",
    "        # Sort input parameters\n",
    "        initial_volume, a_0, a_1 = parameters\n",
    "\n",
    "        # Set initial condition\n",
    "        self.sim.set_state([initial_volume])\n",
    "\n",
    "        # Set growth constants\n",
    "        self.sim.set_constant('central.a_0', a_0)\n",
    "        self.sim.set_constant('central.a_1', a_1)\n",
    "\n",
    "        # Define logged variable\n",
    "        loggedVariable = 'central.volume_t'\n",
    "\n",
    "        # Simulate\n",
    "        output = self.sim.run(times[-1] + 1, log=[loggedVariable], log_times=times)\n",
    "        result = output[loggedVariable]\n",
    "\n",
    "        return np.array(result)"
   ]
  },
  {
   "cell_type": "markdown",
   "metadata": {},
   "source": [
    "## Bibliography\n",
    "\n",
    "- <a name=\"ref1\"> [1] </a> Eigenmann et. al., Combining Nonclinical Experiments with Translational PKPD Modeling to Differentiate Erlotinib and Gefitinib, Mol Cancer Ther (2016)\n",
    "- <a name=\"ref2\"> [2] </a> Bellman, R. & Åström, K., On structural identifiability.Mathematical Biosciences7, 329 – 339 (1970)\n",
    "- <a name=\"ref2\"> [3] </a> Janzén, D. L. I. et al., Parameter identifiability of fundamental pharmacodynamic models.Frontiers in Physiology7, 590 (2016)\n",
    "- <a name=\"ref2\"> [4] </a> Lavielle, M. & Aarons, L., What do we mean by identifiability in mixed effects models?Journal of Pharmacoki-netics and Pharmacodynamics43, 111–122 (2016)\n",
    "- <a name=\"ref2\"> [5] </a> Hansen, N & Müller, S. D. & Koumoutsakos, P., Reducing the Time Complexity of the Derandomized Evolution Strategy with Covariance Matrix Adaptation (CMA-ES), Evolutionary Computation, 1-18 (2003)\n",
    "- <a name=\"ref2\"> [6] </a> Raue, A. et al., Structural and practical identifiability analysis of partially observed dynamical models by ex-ploiting the profile likelihood, Bioinformatics 25, 1923–1929 (2009)"
   ]
  },
  {
   "cell_type": "code",
   "execution_count": null,
   "metadata": {},
   "outputs": [],
   "source": []
  }
 ],
 "metadata": {
  "language_info": {
   "codemirror_mode": {
    "name": "ipython",
    "version": 3
   },
   "file_extension": ".py",
   "mimetype": "text/x-python",
   "name": "python",
   "nbconvert_exporter": "python",
   "pygments_lexer": "ipython3",
   "version": "3.7.5-final"
  },
  "orig_nbformat": 2,
  "kernelspec": {
   "name": "python37564bitvenvvenv6a1cf9e436c848d3930f390a42386651",
   "display_name": "Python 3.7.5 64-bit ('venv': venv)"
  }
 },
 "nbformat": 4,
 "nbformat_minor": 2
}