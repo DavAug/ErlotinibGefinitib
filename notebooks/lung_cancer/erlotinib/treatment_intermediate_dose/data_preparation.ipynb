{
 "cells": [
  {
   "cell_type": "markdown",
   "metadata": {},
   "source": [
    "# Erlotinib Intermediate Dose Treatment Data: LXF A677 Implanted in Mice\n",
    "\n",
    "In [1], the tumour growth inhibition (TGI) PKPD model of Erlotinib and Gefitinib was derived from two separate *in vivo* experiments. In particular, the growth of patient-derived tumour explants LXF A677 (adenocarcinoma of the lung) and cell line-derived tumour xenografts VXF A431 (vulva cancer) in mice were monitored. Each experiment comprised a control growth group and three groups that were treated with either Erlotinib or Gefitnib at one of three dose levels. Treatments were orally administered once a day.\n",
    "\n",
    "In this notebook, DESCRIPTION TO BE COMPLETED"
   ]
  },
  {
   "cell_type": "markdown",
   "metadata": {},
   "source": [
    "## Raw PK data for all dosing regimens"
   ]
  },
  {
   "cell_type": "code",
   "execution_count": 1,
   "metadata": {
    "tags": []
   },
   "outputs": [
    {
     "output_type": "stream",
     "name": "stdout",
     "text": "Raw PK Data Set for all dosing regimens:\n"
    },
    {
     "output_type": "execute_result",
     "data": {
      "text/plain": "     #ID  TIME  DOSE ADDL II  Y YTYPE CENS  CELL LINE  DOSE GROUP  DRUG  \\\n0      6   0.0     .    .  .  .     .    .          1      100.00     1   \n1      6   2.0     .    .  .  .     .    .          1      100.00     1   \n2      6   3.0  2450    .  .  .     .    .          1      100.00     1   \n3      6   4.0     .    .  .  .     .    .          1      100.00     1   \n4      6   4.0  2350    2  1  .     .    .          1      100.00     1   \n..   ...   ...   ...  ... .. ..   ...  ...        ...         ...   ...   \n467  162  21.0     .    .  .  .     .    .          1        6.25     1   \n468  162  23.0     .    .  .  .     .    .          1        6.25     1   \n469  162  25.0     .    .  .  .     .    .          1        6.25     1   \n470  162  28.0     .    .  .  .     .    .          1        6.25     1   \n471  162  30.0     .    .  .  .     .    .          1        6.25     1   \n\n     EXPERIMENT  TUMOR SIZE    BW  \n0             2     68.7500  24.2  \n1             2     75.4290  24.7  \n2             2     75.4290  24.7  \n3             2    115.3510  23.6  \n4             2    115.3510  23.6  \n..          ...         ...   ...  \n467           2    490.3980  24.2  \n468           2    425.2700  24.5  \n469           2    432.6660  24.5  \n470           2    585.0000  25.3  \n471           2    651.7665  25.9  \n\n[472 rows x 14 columns]",
      "text/html": "<div>\n<style scoped>\n    .dataframe tbody tr th:only-of-type {\n        vertical-align: middle;\n    }\n\n    .dataframe tbody tr th {\n        vertical-align: top;\n    }\n\n    .dataframe thead th {\n        text-align: right;\n    }\n</style>\n<table border=\"1\" class=\"dataframe\">\n  <thead>\n    <tr style=\"text-align: right;\">\n      <th></th>\n      <th>#ID</th>\n      <th>TIME</th>\n      <th>DOSE</th>\n      <th>ADDL</th>\n      <th>II</th>\n      <th>Y</th>\n      <th>YTYPE</th>\n      <th>CENS</th>\n      <th>CELL LINE</th>\n      <th>DOSE GROUP</th>\n      <th>DRUG</th>\n      <th>EXPERIMENT</th>\n      <th>TUMOR SIZE</th>\n      <th>BW</th>\n    </tr>\n  </thead>\n  <tbody>\n    <tr>\n      <th>0</th>\n      <td>6</td>\n      <td>0.0</td>\n      <td>.</td>\n      <td>.</td>\n      <td>.</td>\n      <td>.</td>\n      <td>.</td>\n      <td>.</td>\n      <td>1</td>\n      <td>100.00</td>\n      <td>1</td>\n      <td>2</td>\n      <td>68.7500</td>\n      <td>24.2</td>\n    </tr>\n    <tr>\n      <th>1</th>\n      <td>6</td>\n      <td>2.0</td>\n      <td>.</td>\n      <td>.</td>\n      <td>.</td>\n      <td>.</td>\n      <td>.</td>\n      <td>.</td>\n      <td>1</td>\n      <td>100.00</td>\n      <td>1</td>\n      <td>2</td>\n      <td>75.4290</td>\n      <td>24.7</td>\n    </tr>\n    <tr>\n      <th>2</th>\n      <td>6</td>\n      <td>3.0</td>\n      <td>2450</td>\n      <td>.</td>\n      <td>.</td>\n      <td>.</td>\n      <td>.</td>\n      <td>.</td>\n      <td>1</td>\n      <td>100.00</td>\n      <td>1</td>\n      <td>2</td>\n      <td>75.4290</td>\n      <td>24.7</td>\n    </tr>\n    <tr>\n      <th>3</th>\n      <td>6</td>\n      <td>4.0</td>\n      <td>.</td>\n      <td>.</td>\n      <td>.</td>\n      <td>.</td>\n      <td>.</td>\n      <td>.</td>\n      <td>1</td>\n      <td>100.00</td>\n      <td>1</td>\n      <td>2</td>\n      <td>115.3510</td>\n      <td>23.6</td>\n    </tr>\n    <tr>\n      <th>4</th>\n      <td>6</td>\n      <td>4.0</td>\n      <td>2350</td>\n      <td>2</td>\n      <td>1</td>\n      <td>.</td>\n      <td>.</td>\n      <td>.</td>\n      <td>1</td>\n      <td>100.00</td>\n      <td>1</td>\n      <td>2</td>\n      <td>115.3510</td>\n      <td>23.6</td>\n    </tr>\n    <tr>\n      <th>...</th>\n      <td>...</td>\n      <td>...</td>\n      <td>...</td>\n      <td>...</td>\n      <td>...</td>\n      <td>...</td>\n      <td>...</td>\n      <td>...</td>\n      <td>...</td>\n      <td>...</td>\n      <td>...</td>\n      <td>...</td>\n      <td>...</td>\n      <td>...</td>\n    </tr>\n    <tr>\n      <th>467</th>\n      <td>162</td>\n      <td>21.0</td>\n      <td>.</td>\n      <td>.</td>\n      <td>.</td>\n      <td>.</td>\n      <td>.</td>\n      <td>.</td>\n      <td>1</td>\n      <td>6.25</td>\n      <td>1</td>\n      <td>2</td>\n      <td>490.3980</td>\n      <td>24.2</td>\n    </tr>\n    <tr>\n      <th>468</th>\n      <td>162</td>\n      <td>23.0</td>\n      <td>.</td>\n      <td>.</td>\n      <td>.</td>\n      <td>.</td>\n      <td>.</td>\n      <td>.</td>\n      <td>1</td>\n      <td>6.25</td>\n      <td>1</td>\n      <td>2</td>\n      <td>425.2700</td>\n      <td>24.5</td>\n    </tr>\n    <tr>\n      <th>469</th>\n      <td>162</td>\n      <td>25.0</td>\n      <td>.</td>\n      <td>.</td>\n      <td>.</td>\n      <td>.</td>\n      <td>.</td>\n      <td>.</td>\n      <td>1</td>\n      <td>6.25</td>\n      <td>1</td>\n      <td>2</td>\n      <td>432.6660</td>\n      <td>24.5</td>\n    </tr>\n    <tr>\n      <th>470</th>\n      <td>162</td>\n      <td>28.0</td>\n      <td>.</td>\n      <td>.</td>\n      <td>.</td>\n      <td>.</td>\n      <td>.</td>\n      <td>.</td>\n      <td>1</td>\n      <td>6.25</td>\n      <td>1</td>\n      <td>2</td>\n      <td>585.0000</td>\n      <td>25.3</td>\n    </tr>\n    <tr>\n      <th>471</th>\n      <td>162</td>\n      <td>30.0</td>\n      <td>.</td>\n      <td>.</td>\n      <td>.</td>\n      <td>.</td>\n      <td>.</td>\n      <td>.</td>\n      <td>1</td>\n      <td>6.25</td>\n      <td>1</td>\n      <td>2</td>\n      <td>651.7665</td>\n      <td>25.9</td>\n    </tr>\n  </tbody>\n</table>\n<p>472 rows × 14 columns</p>\n</div>"
     },
     "metadata": {},
     "execution_count": 1
    }
   ],
   "source": [
    "# \n",
    "# Import raw LXF A677 Erlotinib PK data.\n",
    "#\n",
    "\n",
    "import os\n",
    "import pandas as pd\n",
    "\n",
    "\n",
    "# Import LXF A677 PK data\n",
    "path = os.path.dirname(os.getcwd())  # make import independent of local path structure\n",
    "pk_data_raw = pd.read_csv(path + '/data_raw/PK_LXF_erlo.csv', sep=';')\n",
    "\n",
    "# Display data\n",
    "print('Raw PK Data Set for all dosing regimens:')\n",
    "pk_data_raw"
   ]
  },
  {
   "cell_type": "markdown",
   "metadata": {},
   "source": [
    "## Raw PD data for all Erlotinib and Gefitinib dosing regimens"
   ]
  },
  {
   "cell_type": "code",
   "execution_count": 2,
   "metadata": {
    "tags": []
   },
   "outputs": [
    {
     "output_type": "stream",
     "name": "stdout",
     "text": "Raw PD Data Set for all Erlotinib and Gefitinib dosing regimens:\n"
    },
    {
     "output_type": "execute_result",
     "data": {
      "text/plain": "      #ID  TIME    DOSE ADDL II         Y YTYPE CENS  CELL LINE  DOSE GROUP  \\\n0       4     0       .    .  .  113.1325     2    .          1        6.25   \n1       4     3   187.5    .  .         .     .    .          1        6.25   \n2       4     4  181.25    2  1         .     .    .          1        6.25   \n3       4     7  181.25    1  1         .     .    .          1        6.25   \n4       4     9  181.25    1  1         .     .    .          1        6.25   \n...   ...   ...     ...  ... ..       ...   ...  ...        ...         ...   \n1101  170    11       .    .  .  194.0785     2    .          1        0.00   \n1102  170     9       .    .  .   176.157     2    .          1        0.00   \n1103  170     7       .    .  .   158.994     2    .          1        0.00   \n1104  170     4       .    .  .    109.33     2    .          1        0.00   \n1105  170     2       .    .  .    94.221     2    .          1        0.00   \n\n      ...  DRUG  DRUGCAT  EXPERIMENT    BW       YTV  KA      V      KE  \\\n0     ...     2        2           2  29.7         .  55  1.403  4.1328   \n1     ...     2        2           2  30.1         .  55  1.403  4.1328   \n2     ...     2        2           2  29.0         .  55  1.403  4.1328   \n3     ...     2        2           2  29.1         .  55  1.403  4.1328   \n4     ...     2        2           2  29.3         .  55  1.403  4.1328   \n...   ...   ...      ...         ...   ...       ...  ..    ...     ...   \n1101  ...     2        0           2  28.6  194.0785  55  1.400  3.8700   \n1102  ...     2        0           2  29.3   176.157  55  1.400  3.8700   \n1103  ...     2        0           2  28.8   158.994  55  1.400  3.8700   \n1104  ...     2        0           2  27.9    109.33  55  1.400  3.8700   \n1105  ...     2        0           2  27.7    94.221  55  1.400  3.8700   \n\n            w0         I  \n0     113.1325  0.007717  \n1     113.1325  0.007717  \n2     113.1325  0.007717  \n3     113.1325  0.007717  \n4     113.1325  0.007717  \n...        ...       ...  \n1101   80.0565  0.007717  \n1102   80.0565  0.007717  \n1103   80.0565  0.007717  \n1104   80.0565  0.007717  \n1105   80.0565  0.007717  \n\n[1106 rows x 21 columns]",
      "text/html": "<div>\n<style scoped>\n    .dataframe tbody tr th:only-of-type {\n        vertical-align: middle;\n    }\n\n    .dataframe tbody tr th {\n        vertical-align: top;\n    }\n\n    .dataframe thead th {\n        text-align: right;\n    }\n</style>\n<table border=\"1\" class=\"dataframe\">\n  <thead>\n    <tr style=\"text-align: right;\">\n      <th></th>\n      <th>#ID</th>\n      <th>TIME</th>\n      <th>DOSE</th>\n      <th>ADDL</th>\n      <th>II</th>\n      <th>Y</th>\n      <th>YTYPE</th>\n      <th>CENS</th>\n      <th>CELL LINE</th>\n      <th>DOSE GROUP</th>\n      <th>...</th>\n      <th>DRUG</th>\n      <th>DRUGCAT</th>\n      <th>EXPERIMENT</th>\n      <th>BW</th>\n      <th>YTV</th>\n      <th>KA</th>\n      <th>V</th>\n      <th>KE</th>\n      <th>w0</th>\n      <th>I</th>\n    </tr>\n  </thead>\n  <tbody>\n    <tr>\n      <th>0</th>\n      <td>4</td>\n      <td>0</td>\n      <td>.</td>\n      <td>.</td>\n      <td>.</td>\n      <td>113.1325</td>\n      <td>2</td>\n      <td>.</td>\n      <td>1</td>\n      <td>6.25</td>\n      <td>...</td>\n      <td>2</td>\n      <td>2</td>\n      <td>2</td>\n      <td>29.7</td>\n      <td>.</td>\n      <td>55</td>\n      <td>1.403</td>\n      <td>4.1328</td>\n      <td>113.1325</td>\n      <td>0.007717</td>\n    </tr>\n    <tr>\n      <th>1</th>\n      <td>4</td>\n      <td>3</td>\n      <td>187.5</td>\n      <td>.</td>\n      <td>.</td>\n      <td>.</td>\n      <td>.</td>\n      <td>.</td>\n      <td>1</td>\n      <td>6.25</td>\n      <td>...</td>\n      <td>2</td>\n      <td>2</td>\n      <td>2</td>\n      <td>30.1</td>\n      <td>.</td>\n      <td>55</td>\n      <td>1.403</td>\n      <td>4.1328</td>\n      <td>113.1325</td>\n      <td>0.007717</td>\n    </tr>\n    <tr>\n      <th>2</th>\n      <td>4</td>\n      <td>4</td>\n      <td>181.25</td>\n      <td>2</td>\n      <td>1</td>\n      <td>.</td>\n      <td>.</td>\n      <td>.</td>\n      <td>1</td>\n      <td>6.25</td>\n      <td>...</td>\n      <td>2</td>\n      <td>2</td>\n      <td>2</td>\n      <td>29.0</td>\n      <td>.</td>\n      <td>55</td>\n      <td>1.403</td>\n      <td>4.1328</td>\n      <td>113.1325</td>\n      <td>0.007717</td>\n    </tr>\n    <tr>\n      <th>3</th>\n      <td>4</td>\n      <td>7</td>\n      <td>181.25</td>\n      <td>1</td>\n      <td>1</td>\n      <td>.</td>\n      <td>.</td>\n      <td>.</td>\n      <td>1</td>\n      <td>6.25</td>\n      <td>...</td>\n      <td>2</td>\n      <td>2</td>\n      <td>2</td>\n      <td>29.1</td>\n      <td>.</td>\n      <td>55</td>\n      <td>1.403</td>\n      <td>4.1328</td>\n      <td>113.1325</td>\n      <td>0.007717</td>\n    </tr>\n    <tr>\n      <th>4</th>\n      <td>4</td>\n      <td>9</td>\n      <td>181.25</td>\n      <td>1</td>\n      <td>1</td>\n      <td>.</td>\n      <td>.</td>\n      <td>.</td>\n      <td>1</td>\n      <td>6.25</td>\n      <td>...</td>\n      <td>2</td>\n      <td>2</td>\n      <td>2</td>\n      <td>29.3</td>\n      <td>.</td>\n      <td>55</td>\n      <td>1.403</td>\n      <td>4.1328</td>\n      <td>113.1325</td>\n      <td>0.007717</td>\n    </tr>\n    <tr>\n      <th>...</th>\n      <td>...</td>\n      <td>...</td>\n      <td>...</td>\n      <td>...</td>\n      <td>...</td>\n      <td>...</td>\n      <td>...</td>\n      <td>...</td>\n      <td>...</td>\n      <td>...</td>\n      <td>...</td>\n      <td>...</td>\n      <td>...</td>\n      <td>...</td>\n      <td>...</td>\n      <td>...</td>\n      <td>...</td>\n      <td>...</td>\n      <td>...</td>\n      <td>...</td>\n      <td>...</td>\n    </tr>\n    <tr>\n      <th>1101</th>\n      <td>170</td>\n      <td>11</td>\n      <td>.</td>\n      <td>.</td>\n      <td>.</td>\n      <td>194.0785</td>\n      <td>2</td>\n      <td>.</td>\n      <td>1</td>\n      <td>0.00</td>\n      <td>...</td>\n      <td>2</td>\n      <td>0</td>\n      <td>2</td>\n      <td>28.6</td>\n      <td>194.0785</td>\n      <td>55</td>\n      <td>1.400</td>\n      <td>3.8700</td>\n      <td>80.0565</td>\n      <td>0.007717</td>\n    </tr>\n    <tr>\n      <th>1102</th>\n      <td>170</td>\n      <td>9</td>\n      <td>.</td>\n      <td>.</td>\n      <td>.</td>\n      <td>176.157</td>\n      <td>2</td>\n      <td>.</td>\n      <td>1</td>\n      <td>0.00</td>\n      <td>...</td>\n      <td>2</td>\n      <td>0</td>\n      <td>2</td>\n      <td>29.3</td>\n      <td>176.157</td>\n      <td>55</td>\n      <td>1.400</td>\n      <td>3.8700</td>\n      <td>80.0565</td>\n      <td>0.007717</td>\n    </tr>\n    <tr>\n      <th>1103</th>\n      <td>170</td>\n      <td>7</td>\n      <td>.</td>\n      <td>.</td>\n      <td>.</td>\n      <td>158.994</td>\n      <td>2</td>\n      <td>.</td>\n      <td>1</td>\n      <td>0.00</td>\n      <td>...</td>\n      <td>2</td>\n      <td>0</td>\n      <td>2</td>\n      <td>28.8</td>\n      <td>158.994</td>\n      <td>55</td>\n      <td>1.400</td>\n      <td>3.8700</td>\n      <td>80.0565</td>\n      <td>0.007717</td>\n    </tr>\n    <tr>\n      <th>1104</th>\n      <td>170</td>\n      <td>4</td>\n      <td>.</td>\n      <td>.</td>\n      <td>.</td>\n      <td>109.33</td>\n      <td>2</td>\n      <td>.</td>\n      <td>1</td>\n      <td>0.00</td>\n      <td>...</td>\n      <td>2</td>\n      <td>0</td>\n      <td>2</td>\n      <td>27.9</td>\n      <td>109.33</td>\n      <td>55</td>\n      <td>1.400</td>\n      <td>3.8700</td>\n      <td>80.0565</td>\n      <td>0.007717</td>\n    </tr>\n    <tr>\n      <th>1105</th>\n      <td>170</td>\n      <td>2</td>\n      <td>.</td>\n      <td>.</td>\n      <td>.</td>\n      <td>94.221</td>\n      <td>2</td>\n      <td>.</td>\n      <td>1</td>\n      <td>0.00</td>\n      <td>...</td>\n      <td>2</td>\n      <td>0</td>\n      <td>2</td>\n      <td>27.7</td>\n      <td>94.221</td>\n      <td>55</td>\n      <td>1.400</td>\n      <td>3.8700</td>\n      <td>80.0565</td>\n      <td>0.007717</td>\n    </tr>\n  </tbody>\n</table>\n<p>1106 rows × 21 columns</p>\n</div>"
     },
     "metadata": {},
     "execution_count": 2
    }
   ],
   "source": [
    "#\n",
    "# Import raw PD data.\n",
    "#\n",
    "\n",
    "import os\n",
    "import pandas as pd\n",
    "\n",
    "\n",
    "# Import LXF A677 PD data\n",
    "path = os.path.dirname(os.getcwd())  # make import independent of local path structure\n",
    "pd_data_raw = pd.read_csv(path + '/data_raw/PKPD_ErloAndGefi_LXF.csv', sep=';')\n",
    "\n",
    "# Display data\n",
    "print('Raw PD Data Set for all Erlotinib and Gefitinib dosing regimens:')\n",
    "pd_data_raw"
   ]
  },
  {
   "cell_type": "markdown",
   "metadata": {},
   "source": [
    "## Cleaning the data\n",
    "\n",
    "DISCUSSION TO BE COMPLETED\n",
    "\n",
    "Need \n",
    "- ID\n",
    "- Time\n",
    "- Plasma concentration (check whether the value is actually the plasma concentration)\n",
    "- Tumour volume\n",
    "- Body weight\n",
    "- Dose Time\n",
    "- Dose Amount"
   ]
  },
  {
   "cell_type": "markdown",
   "metadata": {},
   "source": [
    "## Cleaning the data\n",
    "\n",
    "We obtained those datasets from the authors of [1]. There is a lot of information in the datasets that are not relevant for our purposes.\n",
    "\n",
    "All we really need for our analyis is\n",
    "\n",
    "- **#ID** indicating which mouse was measured,\n",
    "- **BODY WEIGHT** indicating the weight of the mouse\n",
    "- **TIME CONC** indicating the time point of each plasma concentration measurement,\n",
    "- **CONC** indicating the measured plasma concentration of the compound,\n",
    "- **TIME VOLUME** indicating the time point of each tumour volume measurement,\n",
    "- **TUMOUR VOLUME** indicating the measured tumour volume,\n",
    "- **DOSE TIME** indicating the time point when the dose was administered,\n",
    "- **DOSE AMOUNT** indicating the amount of the administered dose.\n",
    "\n",
    "It is not unambiguous to identify said properties in the dataframes. That is why we detail our mapping in the following and document the reasons for our decisions.\n",
    "\n",
    "- **#ID**: Mapping is obvious,\n",
    "- **BODY WEIGHT**: Mapped to **BW** after confirmation from the authors. **BW** measured in $\\text{g}.\n",
    "- **TIME CONC**: **TIME** column in `pk_data_raw`. Time measured in $\\text{day}$.\n",
    "- **CONC**: **Y** column in `pk_data_raw` after confirmation from authors. Concentration measured in $\\text{mg/L}$.\n",
    "- **TIME VOLUME**: **TIME** column in either `pk_data_raw` or `pd_data_raw`. Time measued in $\\text{day}$.\n",
    "- **TUMOUR VOLUME**: **Y** column in `pd_data_raw`. Tumour measured in $\\text{mm}^3$.\n",
    "- **DOSE TIME**: We take the dosing times from the description in the reference [1], due to unfamiliarity with Monlix's conventions.\n",
    "- **DOSE AMOUNT**: We take the dosing times from the description in the reference [1], due to unfamiliarity with Monlix's conventions.\n",
    "\n",
    "The low dose dosing regimen for Erlotinib was an oral dose of $6.25\\, \\text{mg/kg/L}$ per day from day 3 to 16. According to Roche's study report doses were adjusted throughout the experiment. However, the body weight was only measured on days 0, 2, 4, 7, 9, 11, 14, 16, 18, 21, 23, 25, 28, 30. As a result it may be assumed that also the dose was only adjusted when a new measurement of the body weight was obtained, despite being administered daily.\n",
    "\n",
    "NOTE: THE DOSE AMOUNT in the DOSE column DEVIATES from THEORETICAL DOSE. WHY? THERE IS NO DOSE IN ROCHE'S REPORT.\n",
    "\n",
    "Remarks on remaining column keys:\n",
    "\n",
    "- **DOSE**, **ADDL**, **II**: According to Monolix these keys encode for the dose amount (DOSE), the number of doses (ADDL) to add in addition to the dose in intervals specified by II. Since we take the doses from the study directly, we don't need those keys.\n",
    "- **YTYPE**, **CENS**: According to Monolix these keys encode for the data type (tumour volume in this case) and whether the measurered values were subject to censoring. We should make sure that censored data should be dealt with accordingly and only one data type is present in the data set.\n",
    "- **CELL LINE**, **DOSE GROUP**, **DRUG**, **EXPERIMENT**: These customised keys are quite self-explanatory. We should make sure that the data we use is uni-valued in these columns.\n",
    "- **DRUGCAT**: The meaning of this key is less clear. It may refer to the drug category encoding for the route of administration. We should make sure that this column is also only uni-valued. If mutliple values are assumed we need to clarify what this column means.\n",
    "- **BW**: refers to the body weight of the mouse at the time of the measurement.\n",
    "- **KA**, **V**, **KE**, **w0**, **I**: These keys are customised keys, whose meaning is not immediately clear. They appear to be parameters of the PKPD model. We are interested in infering parameters, so we are not interested in any previously obtained parameters, and choose to ignore this column.\n",
    "\n",
    "For reasons that will become clear later, we will choose to measure the tumour volume in $\\text{cm}^3$."
   ]
  },
  {
   "cell_type": "markdown",
   "metadata": {},
   "source": [
    "## Create Erlotinib low dose PKPD dataset"
   ]
  },
  {
   "cell_type": "code",
   "execution_count": 3,
   "metadata": {
    "tags": []
   },
   "outputs": [
    {
     "output_type": "stream",
     "name": "stdout",
     "text": "Low dose Erlotinib dataset LXF A677:\n"
    },
    {
     "output_type": "execute_result",
     "data": {
      "text/plain": "      #ID  TIME VOLUME in day  TUMOUR VOLUME in cm^3  BODY WEIGHT in g  \\\n1050  167                 0.0                1.95201              27.0   \n987   163                 0.0                0.60025              24.0   \n628   129                 0.0                0.75429              27.6   \n170    34                 0.0                1.65292              27.7   \n548   122                 0.0                1.02602              23.2   \n...   ...                 ...                    ...               ...   \n51     34                 NaN                    NaN              27.1   \n50    129                 NaN                    NaN              27.9   \n49    167                 NaN                    NaN              27.4   \n48    163                 NaN                    NaN              23.5   \n55     52                 NaN                    NaN              26.4   \n\n      TIME CONC in day  CONC in mg/L  TIME DOSE in day  DOSE AMOUNT in mg  \n1050               NaN           NaN               NaN                NaN  \n987                NaN           NaN               NaN                NaN  \n628                NaN           NaN               NaN                NaN  \n170                NaN           NaN               NaN                NaN  \n548                NaN           NaN               NaN                NaN  \n...                ...           ...               ...                ...  \n51                 NaN           NaN              16.0              0.675  \n50                 NaN           NaN              16.0              0.700  \n49                 NaN           NaN              16.0              0.675  \n48                 NaN           NaN              16.0              0.600  \n55                 NaN           NaN              16.0              0.650  \n\n[240 rows x 8 columns]",
      "text/html": "<div>\n<style scoped>\n    .dataframe tbody tr th:only-of-type {\n        vertical-align: middle;\n    }\n\n    .dataframe tbody tr th {\n        vertical-align: top;\n    }\n\n    .dataframe thead th {\n        text-align: right;\n    }\n</style>\n<table border=\"1\" class=\"dataframe\">\n  <thead>\n    <tr style=\"text-align: right;\">\n      <th></th>\n      <th>#ID</th>\n      <th>TIME VOLUME in day</th>\n      <th>TUMOUR VOLUME in cm^3</th>\n      <th>BODY WEIGHT in g</th>\n      <th>TIME CONC in day</th>\n      <th>CONC in mg/L</th>\n      <th>TIME DOSE in day</th>\n      <th>DOSE AMOUNT in mg</th>\n    </tr>\n  </thead>\n  <tbody>\n    <tr>\n      <th>1050</th>\n      <td>167</td>\n      <td>0.0</td>\n      <td>1.95201</td>\n      <td>27.0</td>\n      <td>NaN</td>\n      <td>NaN</td>\n      <td>NaN</td>\n      <td>NaN</td>\n    </tr>\n    <tr>\n      <th>987</th>\n      <td>163</td>\n      <td>0.0</td>\n      <td>0.60025</td>\n      <td>24.0</td>\n      <td>NaN</td>\n      <td>NaN</td>\n      <td>NaN</td>\n      <td>NaN</td>\n    </tr>\n    <tr>\n      <th>628</th>\n      <td>129</td>\n      <td>0.0</td>\n      <td>0.75429</td>\n      <td>27.6</td>\n      <td>NaN</td>\n      <td>NaN</td>\n      <td>NaN</td>\n      <td>NaN</td>\n    </tr>\n    <tr>\n      <th>170</th>\n      <td>34</td>\n      <td>0.0</td>\n      <td>1.65292</td>\n      <td>27.7</td>\n      <td>NaN</td>\n      <td>NaN</td>\n      <td>NaN</td>\n      <td>NaN</td>\n    </tr>\n    <tr>\n      <th>548</th>\n      <td>122</td>\n      <td>0.0</td>\n      <td>1.02602</td>\n      <td>23.2</td>\n      <td>NaN</td>\n      <td>NaN</td>\n      <td>NaN</td>\n      <td>NaN</td>\n    </tr>\n    <tr>\n      <th>...</th>\n      <td>...</td>\n      <td>...</td>\n      <td>...</td>\n      <td>...</td>\n      <td>...</td>\n      <td>...</td>\n      <td>...</td>\n      <td>...</td>\n    </tr>\n    <tr>\n      <th>51</th>\n      <td>34</td>\n      <td>NaN</td>\n      <td>NaN</td>\n      <td>27.1</td>\n      <td>NaN</td>\n      <td>NaN</td>\n      <td>16.0</td>\n      <td>0.675</td>\n    </tr>\n    <tr>\n      <th>50</th>\n      <td>129</td>\n      <td>NaN</td>\n      <td>NaN</td>\n      <td>27.9</td>\n      <td>NaN</td>\n      <td>NaN</td>\n      <td>16.0</td>\n      <td>0.700</td>\n    </tr>\n    <tr>\n      <th>49</th>\n      <td>167</td>\n      <td>NaN</td>\n      <td>NaN</td>\n      <td>27.4</td>\n      <td>NaN</td>\n      <td>NaN</td>\n      <td>16.0</td>\n      <td>0.675</td>\n    </tr>\n    <tr>\n      <th>48</th>\n      <td>163</td>\n      <td>NaN</td>\n      <td>NaN</td>\n      <td>23.5</td>\n      <td>NaN</td>\n      <td>NaN</td>\n      <td>16.0</td>\n      <td>0.600</td>\n    </tr>\n    <tr>\n      <th>55</th>\n      <td>52</td>\n      <td>NaN</td>\n      <td>NaN</td>\n      <td>26.4</td>\n      <td>NaN</td>\n      <td>NaN</td>\n      <td>16.0</td>\n      <td>0.650</td>\n    </tr>\n  </tbody>\n</table>\n<p>240 rows × 8 columns</p>\n</div>"
     },
     "metadata": {},
     "execution_count": 3
    }
   ],
   "source": [
    "#\n",
    "# Create LXF A677 data from raw data set.\n",
    "#\n",
    "\n",
    "import os\n",
    "\n",
    "import numpy as np\n",
    "import pandas as pd\n",
    "\n",
    "\n",
    "# Get path to directory\n",
    "path = os.path.dirname(os.getcwd())  # make import independent of local path structure\n",
    "\n",
    "# Import LXF A677 Erlotinib PK data\n",
    "pk_data_raw = pd.read_csv(path + '/data_raw/PK_LXF_erlo.csv', sep=';')\n",
    "\n",
    "# Import LXF A677 PD data\n",
    "pd_data_raw = pd.read_csv(path + '/data_raw/PKPD_ErloAndGefi_LXF.csv', sep=';')\n",
    "\n",
    "# Make sure that data is stored as numeric data\n",
    "pk_data = pk_data_raw.apply(pd.to_numeric, errors='coerce')\n",
    "pd_data = pd_data_raw.apply(pd.to_numeric, errors='coerce')\n",
    "\n",
    "# Mask PD data for Erlotinib treatment (DRUG 1)\n",
    "pd_data = pd_data[pd_data['DRUG'] == 1]\n",
    "\n",
    "# Mask for the low dose group (DOSE GROUP 6.25)\n",
    "pk_data = pk_data[pk_data['DOSE GROUP'] == 25.0]\n",
    "pd_data = pd_data[pd_data['DOSE GROUP'] == 25.0]\n",
    "\n",
    "# Sort dataframes according to measurement times\n",
    "pk_data.sort_values('TIME', inplace=True)\n",
    "pd_data.sort_values('TIME', inplace=True)\n",
    "\n",
    "# Assert that there is an equal number of mice with tumour volume and concentration measurements\n",
    "assert len(pk_data['#ID'].unique()) == len(pd_data['#ID'].unique())\n",
    "\n",
    "# Assert that the mice in both datasets are the same\n",
    "assert np.array_equal(np.sort(pk_data['#ID'].unique()), np.sort(pd_data['#ID'].unique()))\n",
    "\n",
    "# Get dose relevant columns and rows from dataframes (needed to reconstruct dosing schedule further down)\n",
    "pk_dose_data = pk_data[~pk_data['DOSE'].isnull()][['#ID', 'TIME', 'DOSE', 'BW']]\n",
    "pd_dose_data = pd_data[~pd_data['DOSE'].isnull()][['#ID', 'TIME', 'DOSE', 'BW']]\n",
    "\n",
    "# Filter out DOSE entries (we compute those independently)\n",
    "pk_data = pk_data[pk_data['DOSE'].isnull()]\n",
    "pd_data = pd_data[pd_data['DOSE'].isnull()]\n",
    "\n",
    "# Assert that for each mouse the tumour volumes and body weights at a given time point agrees across the two datasets\n",
    "for mouse_id in pk_data['#ID'].unique():\n",
    "    # Create mask for mouse\n",
    "    pk_mask = (pk_data['#ID'] == mouse_id) & pk_data['Y'].isnull()\n",
    "    pd_mask = pd_data['#ID'] == mouse_id\n",
    "\n",
    "    # Assert that times are the same\n",
    "    assert np.array_equal(pk_data[pk_mask]['TIME'], pd_data[pd_mask]['TIME'])\n",
    "\n",
    "    # Assert that tumour volumes are the same\n",
    "    assert np.array_equal(pk_data[pk_mask]['TUMOR SIZE'], pd_data[pd_mask]['Y'])\n",
    "\n",
    "    # Assert that body weights agree\n",
    "    assert np.array_equal(pk_data[pk_mask]['BW'], pd_data[pd_mask]['BW'])\n",
    "\n",
    "# Initialise final dataframe from PD dataframe and forget about all columns but #ID, TIME, Y and BW\n",
    "data = pd_data[['#ID', 'TIME', 'Y', 'BW']]\n",
    "\n",
    "# Rename TIME to TIME VOLUME in day\n",
    "data = data.rename(columns={'TIME': 'TIME VOLUME in day'})\n",
    "\n",
    "# Rename Y to TUMOUR VOLUME in cm^3 and convert from mm^3 to cm^3\n",
    "data = data.rename(columns={'Y': 'TUMOUR VOLUME in cm^3'})\n",
    "data['TUMOUR VOLUME in cm^3'] *= 10E-03\n",
    "\n",
    "# Rename BW to BODY WEIGHT in g\n",
    "data = data.rename(columns={'BW': 'BODY WEIGHT in g'})\n",
    "\n",
    "# Extract #ID, TIME, Y and BW from PK data\n",
    "conc_data = pk_data[['#ID', 'TIME', 'Y', 'BW']]\n",
    "\n",
    "# Filter only for those rows with non-nan entries\n",
    "conc_data = conc_data[~conc_data['Y'].isnull()]\n",
    "\n",
    "# Rename TIME to TIME CONC in day\n",
    "conc_data = conc_data.rename(columns={'TIME': 'TIME CONC in day'})\n",
    "\n",
    "# Rename Y to CONC in mg/L and convert from ng/L to mg/L\n",
    "conc_data = conc_data.rename(columns={'Y': 'CONC in mg/L'})\n",
    "conc_data['CONC in mg/L'] *= 1E-03\n",
    "\n",
    "# Rename BW to BODY WEIGHT in g\n",
    "conc_data = conc_data.rename(columns={'BW': 'BODY WEIGHT in g'})\n",
    "\n",
    "# Add concentration data to final dataframe\n",
    "data = pd.concat([data, conc_data])\n",
    "\n",
    "# Define dosing time points in day\n",
    "dose_times = [3.0, 4.0, 5.0, 6.0, 7.0, 8.0, 9.0, 10.0, 11.0, 12.0, 13.0, 14.0, 15.0, 16.0]\n",
    "\n",
    "# Assert that mice in dose dataframes are the same as in the final data frame\n",
    "assert np.array_equal(np.sort(pk_dose_data['#ID'].unique()), np.sort(data['#ID'].unique()))\n",
    "assert np.array_equal(np.sort(pd_dose_data['#ID'].unique()), np.sort(data['#ID'].unique()))\n",
    "\n",
    "# Initialise dose dataframe based on pk dataframe\n",
    "dose_data = pk_dose_data\n",
    "\n",
    "# Get dose from dataframe TODO: CHECK WHY ENTRIES DEVIATE FROM THEORETICAL VALUES\n",
    "for mouse_id in data['#ID'].unique():\n",
    "    # Create mask for mouse and filter out NaN dose entries\n",
    "    pk_mask = (pk_dose_data['#ID'] == mouse_id)\n",
    "    pd_mask = (pd_dose_data['#ID'] == mouse_id)\n",
    "\n",
    "    # Check that DOSE entries agree across datasets\n",
    "    assert np.array_equal(pk_dose_data[pk_mask]['DOSE'], pd_dose_data[pd_mask]['DOSE'])\n",
    "    \n",
    "    # Add dose amount to data frame for each dose event\n",
    "    for time_id, time in enumerate(dose_times):\n",
    "        # Mask dataframe for time\n",
    "        mask = (dose_data['#ID'] == mouse_id) & (dose_data['TIME'] == time)\n",
    "\n",
    "        # If first dose is empty raise an error\n",
    "        if dose_data[mask]['DOSE'].empty & (time == dose_times[0]):     \n",
    "            raise ValueError\n",
    "\n",
    "        # Else if dose is empty and not the first dose, fill with previous dose\n",
    "        # (Assume that dose has not been altered)\n",
    "        elif dose_data[mask]['DOSE'].empty:\n",
    "            # Create mask for previous time point\n",
    "            mask = (dose_data['#ID'] == mouse_id) & (dose_data['TIME'] == dose_times[time_id-1])\n",
    "\n",
    "            # Append dose to container\n",
    "            dose_data = dose_data.append(\n",
    "                pd.DataFrame({\n",
    "                    '#ID': mouse_id, \n",
    "                    'TIME': time, \n",
    "                    'DOSE': dose_data[mask]['DOSE'],\n",
    "                    'BW': dose_data[mask]['BW']}),\n",
    "                ignore_index=True)\n",
    "\n",
    "        else:\n",
    "            # Assert that there is only one entry per time point\n",
    "            assert len(dose_data[mask]['DOSE']) == 1\n",
    "\n",
    "# Sort dataframes according to measurement times\n",
    "dose_data.sort_values('TIME', inplace=True)\n",
    "\n",
    "# Rename TIME to TIME DOSE\n",
    "dose_data = dose_data.rename(columns={'TIME': 'TIME DOSE in day'})\n",
    "\n",
    "# Rename DOSE to DOSE AMOUNT and convert from ng to mg\n",
    "dose_data = dose_data.rename(columns={'DOSE': 'DOSE AMOUNT in mg'})\n",
    "dose_data['DOSE AMOUNT in mg'] *= 1E-03\n",
    "\n",
    "# Rename BW to BODY WEIGHT\n",
    "dose_data = dose_data.rename(columns={'BW': 'BODY WEIGHT in g'})\n",
    "\n",
    "# Add dose data to final dataframe\n",
    "data = pd.concat([data, dose_data])\n",
    "\n",
    "# Display final Erlotinib low dose dataset\n",
    "print('Low dose Erlotinib dataset LXF A677:')\n",
    "data"
   ]
  },
  {
   "cell_type": "markdown",
   "metadata": {},
   "source": [
    "## Illustrate Erlotinib low dose data\n",
    "\n",
    "We use [plotly](https://plotly.com/python/) to create interactive visualisations of the time-series data."
   ]
  },
  {
   "cell_type": "code",
   "execution_count": 4,
   "metadata": {},
   "outputs": [],
   "source": [
    "def compute_cumulative_dose_amount(times, doses, end_exp, duration=1E-03, start_exp=0):\n",
    "    \"\"\"\n",
    "    Converts bolus dose amounts to a cumulative dose amount series that can be plotted nicely.\n",
    "    \n",
    "    Optionally the start and end of the experiment can be provided, so a constant cumulative amount\n",
    "    is displayed for the entire duration experiment.\n",
    "    \"\"\"\n",
    "    # Get number of measurements\n",
    "    n = len(times)\n",
    "\n",
    "    # Define how many cumulative time points are needed (add start and end if needed)\n",
    "    m = 2 * n + 2\n",
    "\n",
    "    # Create time container\n",
    "    cum_times = np.empty(shape=m)\n",
    "\n",
    "    # Create dose container\n",
    "    cum_doses = np.empty(shape=m)\n",
    "\n",
    "    # Add first entry (assuming no base level drug)\n",
    "    cum_times[0] = 0\n",
    "    cum_doses[0] = 0\n",
    "    cum_doses[1] = 0  # At start of first dose there will also be no drug\n",
    "\n",
    "    # Add start and end time of dose to container\n",
    "    cum_times[1:-2:2] = times  # start of dose\n",
    "    cum_times[2:-1:2] = times + duration  # end of dose\n",
    "    cum_times[-1] = end_exp\n",
    "\n",
    "    # Add cumulative dose amount at start and end of dose to container\n",
    "    cum_doses[3:-2:2] = np.cumsum(doses[:-1])  # start of doses (except first dose, dealt with above)\n",
    "    cum_doses[2:-1:2] = np.cumsum(doses)  # end of doses\n",
    "    cum_doses[-1] =  np.cumsum(doses)[-1]  # final dose level\n",
    "\n",
    "    return cum_times, cum_doses\n"
   ]
  },
  {
   "cell_type": "code",
   "execution_count": 5,
   "metadata": {},
   "outputs": [
    {
     "output_type": "display_data",
     "data": {
      "application/vnd.plotly.v1+json": {
       "config": {
        "plotlyServerURL": "https://plot.ly"
       },
       "data": [
        {
         "hovertemplate": "<b>Cumulative dose in mg</b><br>ID: 34<br>Time: %{x:.0f} day<br>Tumour volume: %{y:.02f} cm^3<br><extra></extra>",
         "legendgroup": "ID: 34",
         "line": {
          "color": "#636EFA"
         },
         "mode": "lines",
         "name": "ID: 34",
         "showlegend": false,
         "type": "scatter",
         "x": [
          0,
          3,
          3.001,
          4,
          4.001,
          5,
          5.001,
          6,
          6.001,
          7,
          7.001,
          8,
          8.001,
          9,
          9.001,
          10,
          10.001,
          11,
          11.001,
          12,
          12.001,
          13,
          13.001,
          14,
          14.001,
          15,
          15.001,
          16,
          16.001,
          30
         ],
         "xaxis": "x",
         "y": [
          0,
          0,
          0.675,
          0.675,
          1.375,
          1.375,
          2.075,
          2.075,
          2.7750000000000004,
          2.7750000000000004,
          3.4750000000000005,
          3.4750000000000005,
          4.175000000000001,
          4.175000000000001,
          4.875000000000001,
          4.875000000000001,
          5.575000000000001,
          5.575000000000001,
          6.250000000000001,
          6.250000000000001,
          6.925000000000001,
          6.925000000000001,
          7.6000000000000005,
          7.6000000000000005,
          8.275,
          8.275,
          8.950000000000001,
          8.950000000000001,
          9.625000000000002,
          9.625000000000002
         ],
         "yaxis": "y"
        },
        {
         "hovertemplate": "<b>Plasma Concentration in mg/L</b><br>ID: 34<br>Time: %{x:.0f} day<br>Plasma concentration: %{y:.02f} mg/L<br><extra></extra>",
         "legendgroup": "ID: 34",
         "marker": {
          "color": "#636EFA",
          "line": {
           "color": "black",
           "width": 1
          },
          "opacity": 0.7,
          "symbol": "circle"
         },
         "mode": "markers",
         "name": "ID: 34",
         "showlegend": false,
         "type": "scatter",
         "x": [
          null,
          null,
          null,
          null,
          null,
          null,
          null,
          null,
          null,
          null,
          null,
          null,
          null,
          null,
          10.01875,
          15.99375,
          null,
          null,
          null,
          null,
          null,
          null,
          null,
          null,
          null,
          null,
          null,
          null,
          null,
          null
         ],
         "xaxis": "x2",
         "y": [
          null,
          null,
          null,
          null,
          null,
          null,
          null,
          null,
          null,
          null,
          null,
          null,
          null,
          null,
          3.5,
          0.000952,
          null,
          null,
          null,
          null,
          null,
          null,
          null,
          null,
          null,
          null,
          null,
          null,
          null,
          null
         ],
         "yaxis": "y2"
        },
        {
         "hovertemplate": "<b>Tumour volume in cm^3 %s</b><br>ID: 34<br>Time: %{x:} day<br>Tumour volume: %{y:.02f} cm^3<br><extra></extra>",
         "legendgroup": "ID: 34",
         "marker": {
          "color": "#636EFA",
          "line": {
           "color": "black",
           "width": 1
          },
          "opacity": 0.7,
          "symbol": "circle"
         },
         "mode": "markers",
         "name": "ID: 34",
         "showlegend": true,
         "type": "scatter",
         "x": [
          0,
          2,
          4,
          7,
          9,
          11,
          14,
          16,
          18,
          21,
          23,
          25,
          28,
          30,
          null,
          null,
          null,
          null,
          null,
          null,
          null,
          null,
          null,
          null,
          null,
          null,
          null,
          null,
          null,
          null
         ],
         "xaxis": "x3",
         "y": [
          1.65292,
          2.17328,
          2.9250000000000003,
          3.892285,
          3.9611750000000003,
          5.71392,
          5.95448,
          6.338640000000001,
          8.1461,
          10.646125,
          11.966045,
          13.68464,
          15.21,
          16.185435000000002,
          null,
          null,
          null,
          null,
          null,
          null,
          null,
          null,
          null,
          null,
          null,
          null,
          null,
          null,
          null,
          null
         ],
         "yaxis": "y3"
        },
        {
         "hovertemplate": "<b>Cumulative dose in mg</b><br>ID: 52<br>Time: %{x:.0f} day<br>Tumour volume: %{y:.02f} cm^3<br><extra></extra>",
         "legendgroup": "ID: 52",
         "line": {
          "color": "#EF553B"
         },
         "mode": "lines",
         "name": "ID: 52",
         "showlegend": false,
         "type": "scatter",
         "x": [
          0,
          3,
          3.001,
          4,
          4.001,
          5,
          5.001,
          6,
          6.001,
          7,
          7.001,
          8,
          8.001,
          9,
          9.001,
          10,
          10.001,
          11,
          11.001,
          12,
          12.001,
          13,
          13.001,
          14,
          14.001,
          15,
          15.001,
          16,
          16.001,
          30
         ],
         "xaxis": "x",
         "y": [
          0,
          0,
          0.65,
          0.65,
          1.275,
          1.275,
          1.9,
          1.9,
          2.525,
          2.525,
          3.175,
          3.175,
          3.8249999999999997,
          3.8249999999999997,
          4.475,
          4.475,
          5.125,
          5.125,
          5.75,
          5.75,
          6.375,
          6.375,
          7,
          7,
          7.65,
          7.65,
          8.3,
          8.3,
          8.950000000000001,
          8.950000000000001
         ],
         "yaxis": "y"
        },
        {
         "hovertemplate": "<b>Plasma Concentration in mg/L</b><br>ID: 52<br>Time: %{x:.0f} day<br>Plasma concentration: %{y:.02f} mg/L<br><extra></extra>",
         "legendgroup": "ID: 52",
         "marker": {
          "color": "#EF553B",
          "line": {
           "color": "black",
           "width": 1
          },
          "opacity": 0.7,
          "symbol": "circle"
         },
         "mode": "markers",
         "name": "ID: 52",
         "showlegend": false,
         "type": "scatter",
         "x": [
          null,
          null,
          null,
          null,
          null,
          null,
          null,
          null,
          null,
          null,
          null,
          null,
          null,
          null,
          9.995833333,
          16.99930556,
          null,
          null,
          null,
          null,
          null,
          null,
          null,
          null,
          null,
          null,
          null,
          null,
          null,
          null
         ],
         "xaxis": "x2",
         "y": [
          null,
          null,
          null,
          null,
          null,
          null,
          null,
          null,
          null,
          null,
          null,
          null,
          null,
          null,
          0.008060000000000001,
          0.000952,
          null,
          null,
          null,
          null,
          null,
          null,
          null,
          null,
          null,
          null,
          null,
          null,
          null,
          null
         ],
         "yaxis": "y2"
        },
        {
         "hovertemplate": "<b>Tumour volume in cm^3 %s</b><br>ID: 52<br>Time: %{x:} day<br>Tumour volume: %{y:.02f} cm^3<br><extra></extra>",
         "legendgroup": "ID: 52",
         "marker": {
          "color": "#EF553B",
          "line": {
           "color": "black",
           "width": 1
          },
          "opacity": 0.7,
          "symbol": "circle"
         },
         "mode": "markers",
         "name": "ID: 52",
         "showlegend": true,
         "type": "scatter",
         "x": [
          0,
          2,
          4,
          7,
          9,
          11,
          14,
          16,
          18,
          21,
          23,
          25,
          28,
          30,
          null,
          null,
          null,
          null,
          null,
          null,
          null,
          null,
          null,
          null,
          null,
          null,
          null,
          null,
          null,
          null
         ],
         "xaxis": "x3",
         "y": [
          2.0535,
          1.91808,
          2.7884249999999997,
          3.0180599999999997,
          3.7945599999999997,
          5.2,
          6.296950000000001,
          7.464960000000001,
          8.31744,
          9.3987,
          10.78125,
          11.304960000000001,
          12.28392,
          13.797420000000002,
          null,
          null,
          null,
          null,
          null,
          null,
          null,
          null,
          null,
          null,
          null,
          null,
          null,
          null,
          null,
          null
         ],
         "yaxis": "y3"
        },
        {
         "hovertemplate": "<b>Cumulative dose in mg</b><br>ID: 91<br>Time: %{x:.0f} day<br>Tumour volume: %{y:.02f} cm^3<br><extra></extra>",
         "legendgroup": "ID: 91",
         "line": {
          "color": "#00CC96"
         },
         "mode": "lines",
         "name": "ID: 91",
         "showlegend": false,
         "type": "scatter",
         "x": [
          0,
          3,
          3.001,
          4,
          4.001,
          5,
          5.001,
          6,
          6.001,
          7,
          7.001,
          8,
          8.001,
          9,
          9.001,
          10,
          10.001,
          11,
          11.001,
          12,
          12.001,
          13,
          13.001,
          14,
          14.001,
          15,
          15.001,
          16,
          16.001,
          30
         ],
         "xaxis": "x",
         "y": [
          0,
          0,
          0.625,
          0.625,
          1.25,
          1.25,
          1.875,
          1.875,
          2.5,
          2.5,
          3.15,
          3.15,
          3.8,
          3.8,
          4.475,
          4.475,
          5.1499999999999995,
          5.1499999999999995,
          5.7749999999999995,
          5.7749999999999995,
          6.3999999999999995,
          6.3999999999999995,
          7.0249999999999995,
          7.0249999999999995,
          7.675,
          7.675,
          8.325,
          8.325,
          9,
          9
         ],
         "yaxis": "y"
        },
        {
         "hovertemplate": "<b>Plasma Concentration in mg/L</b><br>ID: 91<br>Time: %{x:.0f} day<br>Plasma concentration: %{y:.02f} mg/L<br><extra></extra>",
         "legendgroup": "ID: 91",
         "marker": {
          "color": "#00CC96",
          "line": {
           "color": "black",
           "width": 1
          },
          "opacity": 0.7,
          "symbol": "circle"
         },
         "mode": "markers",
         "name": "ID: 91",
         "showlegend": false,
         "type": "scatter",
         "x": [
          null,
          null,
          null,
          null,
          null,
          null,
          null,
          null,
          null,
          null,
          null,
          null,
          null,
          null,
          10.04375,
          16.10277778,
          null,
          null,
          null,
          null,
          null,
          null,
          null,
          null,
          null,
          null,
          null,
          null,
          null,
          null
         ],
         "xaxis": "x2",
         "y": [
          null,
          null,
          null,
          null,
          null,
          null,
          null,
          null,
          null,
          null,
          null,
          null,
          null,
          null,
          4.34,
          1.97,
          null,
          null,
          null,
          null,
          null,
          null,
          null,
          null,
          null,
          null,
          null,
          null,
          null,
          null
         ],
         "yaxis": "y2"
        },
        {
         "hovertemplate": "<b>Tumour volume in cm^3 %s</b><br>ID: 91<br>Time: %{x:} day<br>Tumour volume: %{y:.02f} cm^3<br><extra></extra>",
         "legendgroup": "ID: 91",
         "marker": {
          "color": "#00CC96",
          "line": {
           "color": "black",
           "width": 1
          },
          "opacity": 0.7,
          "symbol": "circle"
         },
         "mode": "markers",
         "name": "ID: 91",
         "showlegend": true,
         "type": "scatter",
         "x": [
          0,
          2,
          4,
          7,
          9,
          11,
          14,
          16,
          18,
          21,
          23,
          25,
          28,
          30,
          null,
          null,
          null,
          null,
          null,
          null,
          null,
          null,
          null,
          null,
          null,
          null,
          null,
          null,
          null,
          null
         ],
         "xaxis": "x3",
         "y": [
          1.2837450000000001,
          1.3581649999999998,
          2.22912,
          2.04768,
          2.43089,
          2.944,
          3.0180599999999997,
          3.49272,
          4.373819999999999,
          5.622769999999999,
          7.947045000000001,
          9.589855,
          11.82762,
          12.016105,
          null,
          null,
          null,
          null,
          null,
          null,
          null,
          null,
          null,
          null,
          null,
          null,
          null,
          null,
          null,
          null
         ],
         "yaxis": "y3"
        },
        {
         "hovertemplate": "<b>Cumulative dose in mg</b><br>ID: 108<br>Time: %{x:.0f} day<br>Tumour volume: %{y:.02f} cm^3<br><extra></extra>",
         "legendgroup": "ID: 108",
         "line": {
          "color": "#AB63FA"
         },
         "mode": "lines",
         "name": "ID: 108",
         "showlegend": false,
         "type": "scatter",
         "x": [
          0,
          3,
          3.001,
          4,
          4.001,
          5,
          5.001,
          6,
          6.001,
          7,
          7.001,
          8,
          8.001,
          9,
          9.001,
          10,
          10.001,
          11,
          11.001,
          12,
          12.001,
          13,
          13.001,
          14,
          14.001,
          15,
          15.001,
          16,
          16.001,
          30
         ],
         "xaxis": "x",
         "y": [
          0,
          0,
          0.65,
          0.65,
          1.275,
          1.275,
          1.9,
          1.9,
          2.525,
          2.525,
          3.15,
          3.15,
          3.775,
          3.775,
          4.4,
          4.4,
          5.025,
          5.025,
          5.65,
          5.65,
          6.275,
          6.275,
          6.9,
          6.9,
          7.575,
          7.575,
          8.25,
          8.25,
          8.925,
          8.925
         ],
         "yaxis": "y"
        },
        {
         "hovertemplate": "<b>Plasma Concentration in mg/L</b><br>ID: 108<br>Time: %{x:.0f} day<br>Plasma concentration: %{y:.02f} mg/L<br><extra></extra>",
         "legendgroup": "ID: 108",
         "marker": {
          "color": "#AB63FA",
          "line": {
           "color": "black",
           "width": 1
          },
          "opacity": 0.7,
          "symbol": "circle"
         },
         "mode": "markers",
         "name": "ID: 108",
         "showlegend": false,
         "type": "scatter",
         "x": [
          null,
          null,
          null,
          null,
          null,
          null,
          null,
          null,
          null,
          null,
          null,
          null,
          null,
          null,
          10.01041667,
          16.41666667,
          null,
          null,
          null,
          null,
          null,
          null,
          null,
          null,
          null,
          null,
          null,
          null,
          null,
          null
         ],
         "xaxis": "x2",
         "y": [
          null,
          null,
          null,
          null,
          null,
          null,
          null,
          null,
          null,
          null,
          null,
          null,
          null,
          null,
          2.38,
          0.326,
          null,
          null,
          null,
          null,
          null,
          null,
          null,
          null,
          null,
          null,
          null,
          null,
          null,
          null
         ],
         "yaxis": "y2"
        },
        {
         "hovertemplate": "<b>Tumour volume in cm^3 %s</b><br>ID: 108<br>Time: %{x:} day<br>Tumour volume: %{y:.02f} cm^3<br><extra></extra>",
         "legendgroup": "ID: 108",
         "marker": {
          "color": "#AB63FA",
          "line": {
           "color": "black",
           "width": 1
          },
          "opacity": 0.7,
          "symbol": "circle"
         },
         "mode": "markers",
         "name": "ID: 108",
         "showlegend": true,
         "type": "scatter",
         "x": [
          0,
          2,
          4,
          7,
          9,
          11,
          14,
          16,
          18,
          21,
          23,
          25,
          28,
          30,
          null,
          null,
          null,
          null,
          null,
          null,
          null,
          null,
          null,
          null,
          null,
          null,
          null,
          null,
          null,
          null
         ],
         "xaxis": "x3",
         "y": [
          0.87808,
          1.07911,
          1.9282050000000002,
          1.8567900000000002,
          1.975815,
          2.8160000000000003,
          3.2033850000000004,
          4.67046,
          4.9186250000000005,
          5.054,
          7.6835,
          9.12525,
          9.62948,
          10.19592,
          null,
          null,
          null,
          null,
          null,
          null,
          null,
          null,
          null,
          null,
          null,
          null,
          null,
          null,
          null,
          null
         ],
         "yaxis": "y3"
        },
        {
         "hovertemplate": "<b>Cumulative dose in mg</b><br>ID: 122<br>Time: %{x:.0f} day<br>Tumour volume: %{y:.02f} cm^3<br><extra></extra>",
         "legendgroup": "ID: 122",
         "line": {
          "color": "#FFA15A"
         },
         "mode": "lines",
         "name": "ID: 122",
         "showlegend": false,
         "type": "scatter",
         "x": [
          0,
          3,
          3.001,
          4,
          4.001,
          5,
          5.001,
          6,
          6.001,
          7,
          7.001,
          8,
          8.001,
          9,
          9.001,
          10,
          10.001,
          11,
          11.001,
          12,
          12.001,
          13,
          13.001,
          14,
          14.001,
          15,
          15.001,
          16,
          16.001,
          30
         ],
         "xaxis": "x",
         "y": [
          0,
          0,
          0.6,
          0.6,
          1.2,
          1.2,
          1.7999999999999998,
          1.7999999999999998,
          2.4,
          2.4,
          3,
          3,
          3.6,
          3.6,
          4.175,
          4.175,
          4.75,
          4.75,
          5.325,
          5.325,
          5.9,
          5.9,
          6.4750000000000005,
          6.4750000000000005,
          7.1000000000000005,
          7.1000000000000005,
          7.7250000000000005,
          7.7250000000000005,
          8.325000000000001,
          8.325000000000001
         ],
         "yaxis": "y"
        },
        {
         "hovertemplate": "<b>Plasma Concentration in mg/L</b><br>ID: 122<br>Time: %{x:.0f} day<br>Plasma concentration: %{y:.02f} mg/L<br><extra></extra>",
         "legendgroup": "ID: 122",
         "marker": {
          "color": "#FFA15A",
          "line": {
           "color": "black",
           "width": 1
          },
          "opacity": 0.7,
          "symbol": "circle"
         },
         "mode": "markers",
         "name": "ID: 122",
         "showlegend": false,
         "type": "scatter",
         "x": [
          null,
          null,
          null,
          null,
          null,
          null,
          null,
          null,
          null,
          null,
          null,
          null,
          null,
          null,
          10.20833333,
          16.04097222,
          null,
          null,
          null,
          null,
          null,
          null,
          null,
          null,
          null,
          null,
          null,
          null,
          null,
          null
         ],
         "xaxis": "x2",
         "y": [
          null,
          null,
          null,
          null,
          null,
          null,
          null,
          null,
          null,
          null,
          null,
          null,
          null,
          null,
          0.8280000000000001,
          3.54,
          null,
          null,
          null,
          null,
          null,
          null,
          null,
          null,
          null,
          null,
          null,
          null,
          null,
          null
         ],
         "yaxis": "y2"
        },
        {
         "hovertemplate": "<b>Tumour volume in cm^3 %s</b><br>ID: 122<br>Time: %{x:} day<br>Tumour volume: %{y:.02f} cm^3<br><extra></extra>",
         "legendgroup": "ID: 122",
         "marker": {
          "color": "#FFA15A",
          "line": {
           "color": "black",
           "width": 1
          },
          "opacity": 0.7,
          "symbol": "circle"
         },
         "mode": "markers",
         "name": "ID: 122",
         "showlegend": true,
         "type": "scatter",
         "x": [
          0,
          2,
          4,
          7,
          9,
          11,
          14,
          16,
          18,
          21,
          23,
          25,
          28,
          30,
          null,
          null,
          null,
          null,
          null,
          null,
          null,
          null,
          null,
          null,
          null,
          null,
          null,
          null,
          null,
          null
         ],
         "xaxis": "x3",
         "y": [
          1.0260200000000002,
          1.47875,
          1.7859599999999998,
          2.714835,
          2.714835,
          3.065605,
          3.504125,
          3.5870599999999997,
          3.84592,
          4.9186250000000005,
          5.3698749999999995,
          6.2,
          7.23168,
          7.425625,
          null,
          null,
          null,
          null,
          null,
          null,
          null,
          null,
          null,
          null,
          null,
          null,
          null,
          null,
          null,
          null
         ],
         "yaxis": "y3"
        },
        {
         "hovertemplate": "<b>Cumulative dose in mg</b><br>ID: 129<br>Time: %{x:.0f} day<br>Tumour volume: %{y:.02f} cm^3<br><extra></extra>",
         "legendgroup": "ID: 129",
         "line": {
          "color": "#19D3F3"
         },
         "mode": "lines",
         "name": "ID: 129",
         "showlegend": false,
         "type": "scatter",
         "x": [
          0,
          3,
          3.001,
          4,
          4.001,
          5,
          5.001,
          6,
          6.001,
          7,
          7.001,
          8,
          8.001,
          9,
          9.001,
          10,
          10.001,
          11,
          11.001,
          12,
          12.001,
          13,
          13.001,
          14,
          14.001,
          15,
          15.001,
          16,
          16.001,
          30
         ],
         "xaxis": "x",
         "y": [
          0,
          0,
          0.725,
          0.725,
          1.45,
          1.45,
          2.175,
          2.175,
          2.9,
          2.9,
          3.6,
          3.6,
          4.3,
          4.3,
          5,
          5,
          5.7,
          5.7,
          6.375,
          6.375,
          7.05,
          7.05,
          7.725,
          7.725,
          8.424999999999999,
          8.424999999999999,
          9.124999999999998,
          9.124999999999998,
          9.824999999999998,
          9.824999999999998
         ],
         "yaxis": "y"
        },
        {
         "hovertemplate": "<b>Plasma Concentration in mg/L</b><br>ID: 129<br>Time: %{x:.0f} day<br>Plasma concentration: %{y:.02f} mg/L<br><extra></extra>",
         "legendgroup": "ID: 129",
         "marker": {
          "color": "#19D3F3",
          "line": {
           "color": "black",
           "width": 1
          },
          "opacity": 0.7,
          "symbol": "circle"
         },
         "mode": "markers",
         "name": "ID: 129",
         "showlegend": false,
         "type": "scatter",
         "x": [
          null,
          null,
          null,
          null,
          null,
          null,
          null,
          null,
          null,
          null,
          null,
          null,
          null,
          null,
          10.10347222,
          16.20972222,
          null,
          null,
          null,
          null,
          null,
          null,
          null,
          null,
          null,
          null,
          null,
          null,
          null,
          null
         ],
         "xaxis": "x2",
         "y": [
          null,
          null,
          null,
          null,
          null,
          null,
          null,
          null,
          null,
          null,
          null,
          null,
          null,
          null,
          2.27,
          1.07,
          null,
          null,
          null,
          null,
          null,
          null,
          null,
          null,
          null,
          null,
          null,
          null,
          null,
          null
         ],
         "yaxis": "y2"
        },
        {
         "hovertemplate": "<b>Tumour volume in cm^3 %s</b><br>ID: 129<br>Time: %{x:} day<br>Tumour volume: %{y:.02f} cm^3<br><extra></extra>",
         "legendgroup": "ID: 129",
         "marker": {
          "color": "#19D3F3",
          "line": {
           "color": "black",
           "width": 1
          },
          "opacity": 0.7,
          "symbol": "circle"
         },
         "mode": "markers",
         "name": "ID: 129",
         "showlegend": true,
         "type": "scatter",
         "x": [
          0,
          2,
          4,
          7,
          9,
          11,
          14,
          16,
          18,
          21,
          23,
          25,
          28,
          30,
          null,
          null,
          null,
          null,
          null,
          null,
          null,
          null,
          null,
          null,
          null,
          null,
          null,
          null,
          null,
          null
         ],
         "xaxis": "x3",
         "y": [
          0.75429,
          1.19164,
          1.38384,
          1.488375,
          1.607445,
          2.04723,
          2.53125,
          2.26845,
          2.62848,
          4.125105,
          5.234500000000001,
          5.71392,
          7.464960000000001,
          7.603839999999999,
          null,
          null,
          null,
          null,
          null,
          null,
          null,
          null,
          null,
          null,
          null,
          null,
          null,
          null,
          null,
          null
         ],
         "yaxis": "y3"
        },
        {
         "hovertemplate": "<b>Cumulative dose in mg</b><br>ID: 163<br>Time: %{x:.0f} day<br>Tumour volume: %{y:.02f} cm^3<br><extra></extra>",
         "legendgroup": "ID: 163",
         "line": {
          "color": "#FF6692"
         },
         "mode": "lines",
         "name": "ID: 163",
         "showlegend": false,
         "type": "scatter",
         "x": [
          0,
          3,
          3.001,
          4,
          4.001,
          5,
          5.001,
          6,
          6.001,
          7,
          7.001,
          8,
          8.001,
          9,
          9.001,
          10,
          10.001,
          11,
          11.001,
          12,
          12.001,
          13,
          13.001,
          14,
          14.001,
          15,
          15.001,
          16,
          16.001,
          30
         ],
         "xaxis": "x",
         "y": [
          0,
          0,
          0.625,
          0.625,
          1.225,
          1.225,
          1.8250000000000002,
          1.8250000000000002,
          2.4250000000000003,
          2.4250000000000003,
          3.0500000000000003,
          3.0500000000000003,
          3.6750000000000003,
          3.6750000000000003,
          4.300000000000001,
          4.300000000000001,
          4.925000000000001,
          4.925000000000001,
          5.500000000000001,
          5.500000000000001,
          6.075000000000001,
          6.075000000000001,
          6.650000000000001,
          6.650000000000001,
          7.250000000000001,
          7.250000000000001,
          7.8500000000000005,
          7.8500000000000005,
          8.450000000000001,
          8.450000000000001
         ],
         "yaxis": "y"
        },
        {
         "hovertemplate": "<b>Plasma Concentration in mg/L</b><br>ID: 163<br>Time: %{x:.0f} day<br>Plasma concentration: %{y:.02f} mg/L<br><extra></extra>",
         "legendgroup": "ID: 163",
         "marker": {
          "color": "#FF6692",
          "line": {
           "color": "black",
           "width": 1
          },
          "opacity": 0.7,
          "symbol": "circle"
         },
         "mode": "markers",
         "name": "ID: 163",
         "showlegend": false,
         "type": "scatter",
         "x": [
          null,
          null,
          null,
          null,
          null,
          null,
          null,
          null,
          null,
          null,
          null,
          null,
          null,
          null,
          10.41527778,
          16.01111111,
          null,
          null,
          null,
          null,
          null,
          null,
          null,
          null,
          null,
          null,
          null,
          null,
          null,
          null
         ],
         "xaxis": "x2",
         "y": [
          null,
          null,
          null,
          null,
          null,
          null,
          null,
          null,
          null,
          null,
          null,
          null,
          null,
          null,
          1.35,
          3.14,
          null,
          null,
          null,
          null,
          null,
          null,
          null,
          null,
          null,
          null,
          null,
          null,
          null,
          null
         ],
         "yaxis": "y2"
        },
        {
         "hovertemplate": "<b>Tumour volume in cm^3 %s</b><br>ID: 163<br>Time: %{x:} day<br>Tumour volume: %{y:.02f} cm^3<br><extra></extra>",
         "legendgroup": "ID: 163",
         "marker": {
          "color": "#FF6692",
          "line": {
           "color": "black",
           "width": 1
          },
          "opacity": 0.7,
          "symbol": "circle"
         },
         "mode": "markers",
         "name": "ID: 163",
         "showlegend": true,
         "type": "scatter",
         "x": [
          0,
          2,
          4,
          7,
          9,
          11,
          14,
          16,
          18,
          21,
          23,
          25,
          28,
          30,
          null,
          null,
          null,
          null,
          null,
          null,
          null,
          null,
          null,
          null,
          null,
          null,
          null,
          null,
          null,
          null
         ],
         "xaxis": "x3",
         "y": [
          0.60025,
          0.7803,
          1.278,
          1.19422,
          1.1774,
          1.35,
          1.7111250000000002,
          1.19422,
          1.4030600000000002,
          1.940785,
          1.907825,
          2.477985,
          3.444525,
          4.51497,
          null,
          null,
          null,
          null,
          null,
          null,
          null,
          null,
          null,
          null,
          null,
          null,
          null,
          null,
          null,
          null
         ],
         "yaxis": "y3"
        },
        {
         "hovertemplate": "<b>Cumulative dose in mg</b><br>ID: 167<br>Time: %{x:.0f} day<br>Tumour volume: %{y:.02f} cm^3<br><extra></extra>",
         "legendgroup": "ID: 167",
         "line": {
          "color": "#B6E880"
         },
         "mode": "lines",
         "name": "ID: 167",
         "showlegend": false,
         "type": "scatter",
         "x": [
          0,
          3,
          3.001,
          4,
          4.001,
          5,
          5.001,
          6,
          6.001,
          7,
          7.001,
          8,
          8.001,
          9,
          9.001,
          10,
          10.001,
          11,
          11.001,
          12,
          12.001,
          13,
          13.001,
          14,
          14.001,
          15,
          15.001,
          16,
          16.001,
          30
         ],
         "xaxis": "x",
         "y": [
          0,
          0,
          0.675,
          0.675,
          1.375,
          1.375,
          2.075,
          2.075,
          2.7750000000000004,
          2.7750000000000004,
          3.4750000000000005,
          3.4750000000000005,
          4.175000000000001,
          4.175000000000001,
          4.875000000000001,
          4.875000000000001,
          5.575000000000001,
          5.575000000000001,
          6.250000000000001,
          6.250000000000001,
          6.925000000000001,
          6.925000000000001,
          7.6000000000000005,
          7.6000000000000005,
          8.275,
          8.275,
          8.950000000000001,
          8.950000000000001,
          9.625000000000002,
          9.625000000000002
         ],
         "yaxis": "y"
        },
        {
         "hovertemplate": "<b>Plasma Concentration in mg/L</b><br>ID: 167<br>Time: %{x:.0f} day<br>Plasma concentration: %{y:.02f} mg/L<br><extra></extra>",
         "legendgroup": "ID: 167",
         "marker": {
          "color": "#B6E880",
          "line": {
           "color": "black",
           "width": 1
          },
          "opacity": 0.7,
          "symbol": "circle"
         },
         "mode": "markers",
         "name": "ID: 167",
         "showlegend": false,
         "type": "scatter",
         "x": [
          null,
          null,
          null,
          null,
          null,
          null,
          null,
          null,
          null,
          null,
          null,
          null,
          null,
          null,
          11.00208333,
          16.02291667,
          null,
          null,
          null,
          null,
          null,
          null,
          null,
          null,
          null,
          null,
          null,
          null,
          null,
          null
         ],
         "xaxis": "x2",
         "y": [
          null,
          null,
          null,
          null,
          null,
          null,
          null,
          null,
          null,
          null,
          null,
          null,
          null,
          null,
          0.000952,
          3,
          null,
          null,
          null,
          null,
          null,
          null,
          null,
          null,
          null,
          null,
          null,
          null,
          null,
          null
         ],
         "yaxis": "y2"
        },
        {
         "hovertemplate": "<b>Tumour volume in cm^3 %s</b><br>ID: 167<br>Time: %{x:} day<br>Tumour volume: %{y:.02f} cm^3<br><extra></extra>",
         "legendgroup": "ID: 167",
         "marker": {
          "color": "#B6E880",
          "line": {
           "color": "black",
           "width": 1
          },
          "opacity": 0.7,
          "symbol": "circle"
         },
         "mode": "markers",
         "name": "ID: 167",
         "showlegend": true,
         "type": "scatter",
         "x": [
          0,
          2,
          4,
          7,
          9,
          11,
          14,
          16,
          18,
          21,
          23,
          25,
          28,
          30,
          null,
          null,
          null,
          null,
          null,
          null,
          null,
          null,
          null,
          null,
          null,
          null,
          null,
          null,
          null,
          null
         ],
         "xaxis": "x3",
         "y": [
          1.95201,
          2.8880000000000003,
          3.41172,
          5.692445,
          6.0025,
          6.0025,
          6.890625,
          8.17216,
          9.700285000000001,
          10.944,
          12.844000000000001,
          14.287679999999998,
          14.14485,
          20.83401,
          null,
          null,
          null,
          null,
          null,
          null,
          null,
          null,
          null,
          null,
          null,
          null,
          null,
          null,
          null,
          null
         ],
         "yaxis": "y3"
        }
       ],
       "layout": {
        "autosize": true,
        "template": {
         "data": {
          "bar": [
           {
            "error_x": {
             "color": "#2a3f5f"
            },
            "error_y": {
             "color": "#2a3f5f"
            },
            "marker": {
             "line": {
              "color": "white",
              "width": 0.5
             }
            },
            "type": "bar"
           }
          ],
          "barpolar": [
           {
            "marker": {
             "line": {
              "color": "white",
              "width": 0.5
             }
            },
            "type": "barpolar"
           }
          ],
          "carpet": [
           {
            "aaxis": {
             "endlinecolor": "#2a3f5f",
             "gridcolor": "#C8D4E3",
             "linecolor": "#C8D4E3",
             "minorgridcolor": "#C8D4E3",
             "startlinecolor": "#2a3f5f"
            },
            "baxis": {
             "endlinecolor": "#2a3f5f",
             "gridcolor": "#C8D4E3",
             "linecolor": "#C8D4E3",
             "minorgridcolor": "#C8D4E3",
             "startlinecolor": "#2a3f5f"
            },
            "type": "carpet"
           }
          ],
          "choropleth": [
           {
            "colorbar": {
             "outlinewidth": 0,
             "ticks": ""
            },
            "type": "choropleth"
           }
          ],
          "contour": [
           {
            "colorbar": {
             "outlinewidth": 0,
             "ticks": ""
            },
            "colorscale": [
             [
              0,
              "#0d0887"
             ],
             [
              0.1111111111111111,
              "#46039f"
             ],
             [
              0.2222222222222222,
              "#7201a8"
             ],
             [
              0.3333333333333333,
              "#9c179e"
             ],
             [
              0.4444444444444444,
              "#bd3786"
             ],
             [
              0.5555555555555556,
              "#d8576b"
             ],
             [
              0.6666666666666666,
              "#ed7953"
             ],
             [
              0.7777777777777778,
              "#fb9f3a"
             ],
             [
              0.8888888888888888,
              "#fdca26"
             ],
             [
              1,
              "#f0f921"
             ]
            ],
            "type": "contour"
           }
          ],
          "contourcarpet": [
           {
            "colorbar": {
             "outlinewidth": 0,
             "ticks": ""
            },
            "type": "contourcarpet"
           }
          ],
          "heatmap": [
           {
            "colorbar": {
             "outlinewidth": 0,
             "ticks": ""
            },
            "colorscale": [
             [
              0,
              "#0d0887"
             ],
             [
              0.1111111111111111,
              "#46039f"
             ],
             [
              0.2222222222222222,
              "#7201a8"
             ],
             [
              0.3333333333333333,
              "#9c179e"
             ],
             [
              0.4444444444444444,
              "#bd3786"
             ],
             [
              0.5555555555555556,
              "#d8576b"
             ],
             [
              0.6666666666666666,
              "#ed7953"
             ],
             [
              0.7777777777777778,
              "#fb9f3a"
             ],
             [
              0.8888888888888888,
              "#fdca26"
             ],
             [
              1,
              "#f0f921"
             ]
            ],
            "type": "heatmap"
           }
          ],
          "heatmapgl": [
           {
            "colorbar": {
             "outlinewidth": 0,
             "ticks": ""
            },
            "colorscale": [
             [
              0,
              "#0d0887"
             ],
             [
              0.1111111111111111,
              "#46039f"
             ],
             [
              0.2222222222222222,
              "#7201a8"
             ],
             [
              0.3333333333333333,
              "#9c179e"
             ],
             [
              0.4444444444444444,
              "#bd3786"
             ],
             [
              0.5555555555555556,
              "#d8576b"
             ],
             [
              0.6666666666666666,
              "#ed7953"
             ],
             [
              0.7777777777777778,
              "#fb9f3a"
             ],
             [
              0.8888888888888888,
              "#fdca26"
             ],
             [
              1,
              "#f0f921"
             ]
            ],
            "type": "heatmapgl"
           }
          ],
          "histogram": [
           {
            "marker": {
             "colorbar": {
              "outlinewidth": 0,
              "ticks": ""
             }
            },
            "type": "histogram"
           }
          ],
          "histogram2d": [
           {
            "colorbar": {
             "outlinewidth": 0,
             "ticks": ""
            },
            "colorscale": [
             [
              0,
              "#0d0887"
             ],
             [
              0.1111111111111111,
              "#46039f"
             ],
             [
              0.2222222222222222,
              "#7201a8"
             ],
             [
              0.3333333333333333,
              "#9c179e"
             ],
             [
              0.4444444444444444,
              "#bd3786"
             ],
             [
              0.5555555555555556,
              "#d8576b"
             ],
             [
              0.6666666666666666,
              "#ed7953"
             ],
             [
              0.7777777777777778,
              "#fb9f3a"
             ],
             [
              0.8888888888888888,
              "#fdca26"
             ],
             [
              1,
              "#f0f921"
             ]
            ],
            "type": "histogram2d"
           }
          ],
          "histogram2dcontour": [
           {
            "colorbar": {
             "outlinewidth": 0,
             "ticks": ""
            },
            "colorscale": [
             [
              0,
              "#0d0887"
             ],
             [
              0.1111111111111111,
              "#46039f"
             ],
             [
              0.2222222222222222,
              "#7201a8"
             ],
             [
              0.3333333333333333,
              "#9c179e"
             ],
             [
              0.4444444444444444,
              "#bd3786"
             ],
             [
              0.5555555555555556,
              "#d8576b"
             ],
             [
              0.6666666666666666,
              "#ed7953"
             ],
             [
              0.7777777777777778,
              "#fb9f3a"
             ],
             [
              0.8888888888888888,
              "#fdca26"
             ],
             [
              1,
              "#f0f921"
             ]
            ],
            "type": "histogram2dcontour"
           }
          ],
          "mesh3d": [
           {
            "colorbar": {
             "outlinewidth": 0,
             "ticks": ""
            },
            "type": "mesh3d"
           }
          ],
          "parcoords": [
           {
            "line": {
             "colorbar": {
              "outlinewidth": 0,
              "ticks": ""
             }
            },
            "type": "parcoords"
           }
          ],
          "pie": [
           {
            "automargin": true,
            "type": "pie"
           }
          ],
          "scatter": [
           {
            "marker": {
             "colorbar": {
              "outlinewidth": 0,
              "ticks": ""
             }
            },
            "type": "scatter"
           }
          ],
          "scatter3d": [
           {
            "line": {
             "colorbar": {
              "outlinewidth": 0,
              "ticks": ""
             }
            },
            "marker": {
             "colorbar": {
              "outlinewidth": 0,
              "ticks": ""
             }
            },
            "type": "scatter3d"
           }
          ],
          "scattercarpet": [
           {
            "marker": {
             "colorbar": {
              "outlinewidth": 0,
              "ticks": ""
             }
            },
            "type": "scattercarpet"
           }
          ],
          "scattergeo": [
           {
            "marker": {
             "colorbar": {
              "outlinewidth": 0,
              "ticks": ""
             }
            },
            "type": "scattergeo"
           }
          ],
          "scattergl": [
           {
            "marker": {
             "colorbar": {
              "outlinewidth": 0,
              "ticks": ""
             }
            },
            "type": "scattergl"
           }
          ],
          "scattermapbox": [
           {
            "marker": {
             "colorbar": {
              "outlinewidth": 0,
              "ticks": ""
             }
            },
            "type": "scattermapbox"
           }
          ],
          "scatterpolar": [
           {
            "marker": {
             "colorbar": {
              "outlinewidth": 0,
              "ticks": ""
             }
            },
            "type": "scatterpolar"
           }
          ],
          "scatterpolargl": [
           {
            "marker": {
             "colorbar": {
              "outlinewidth": 0,
              "ticks": ""
             }
            },
            "type": "scatterpolargl"
           }
          ],
          "scatterternary": [
           {
            "marker": {
             "colorbar": {
              "outlinewidth": 0,
              "ticks": ""
             }
            },
            "type": "scatterternary"
           }
          ],
          "surface": [
           {
            "colorbar": {
             "outlinewidth": 0,
             "ticks": ""
            },
            "colorscale": [
             [
              0,
              "#0d0887"
             ],
             [
              0.1111111111111111,
              "#46039f"
             ],
             [
              0.2222222222222222,
              "#7201a8"
             ],
             [
              0.3333333333333333,
              "#9c179e"
             ],
             [
              0.4444444444444444,
              "#bd3786"
             ],
             [
              0.5555555555555556,
              "#d8576b"
             ],
             [
              0.6666666666666666,
              "#ed7953"
             ],
             [
              0.7777777777777778,
              "#fb9f3a"
             ],
             [
              0.8888888888888888,
              "#fdca26"
             ],
             [
              1,
              "#f0f921"
             ]
            ],
            "type": "surface"
           }
          ],
          "table": [
           {
            "cells": {
             "fill": {
              "color": "#EBF0F8"
             },
             "line": {
              "color": "white"
             }
            },
            "header": {
             "fill": {
              "color": "#C8D4E3"
             },
             "line": {
              "color": "white"
             }
            },
            "type": "table"
           }
          ]
         },
         "layout": {
          "annotationdefaults": {
           "arrowcolor": "#2a3f5f",
           "arrowhead": 0,
           "arrowwidth": 1
          },
          "coloraxis": {
           "colorbar": {
            "outlinewidth": 0,
            "ticks": ""
           }
          },
          "colorscale": {
           "diverging": [
            [
             0,
             "#8e0152"
            ],
            [
             0.1,
             "#c51b7d"
            ],
            [
             0.2,
             "#de77ae"
            ],
            [
             0.3,
             "#f1b6da"
            ],
            [
             0.4,
             "#fde0ef"
            ],
            [
             0.5,
             "#f7f7f7"
            ],
            [
             0.6,
             "#e6f5d0"
            ],
            [
             0.7,
             "#b8e186"
            ],
            [
             0.8,
             "#7fbc41"
            ],
            [
             0.9,
             "#4d9221"
            ],
            [
             1,
             "#276419"
            ]
           ],
           "sequential": [
            [
             0,
             "#0d0887"
            ],
            [
             0.1111111111111111,
             "#46039f"
            ],
            [
             0.2222222222222222,
             "#7201a8"
            ],
            [
             0.3333333333333333,
             "#9c179e"
            ],
            [
             0.4444444444444444,
             "#bd3786"
            ],
            [
             0.5555555555555556,
             "#d8576b"
            ],
            [
             0.6666666666666666,
             "#ed7953"
            ],
            [
             0.7777777777777778,
             "#fb9f3a"
            ],
            [
             0.8888888888888888,
             "#fdca26"
            ],
            [
             1,
             "#f0f921"
            ]
           ],
           "sequentialminus": [
            [
             0,
             "#0d0887"
            ],
            [
             0.1111111111111111,
             "#46039f"
            ],
            [
             0.2222222222222222,
             "#7201a8"
            ],
            [
             0.3333333333333333,
             "#9c179e"
            ],
            [
             0.4444444444444444,
             "#bd3786"
            ],
            [
             0.5555555555555556,
             "#d8576b"
            ],
            [
             0.6666666666666666,
             "#ed7953"
            ],
            [
             0.7777777777777778,
             "#fb9f3a"
            ],
            [
             0.8888888888888888,
             "#fdca26"
            ],
            [
             1,
             "#f0f921"
            ]
           ]
          },
          "colorway": [
           "#636efa",
           "#EF553B",
           "#00cc96",
           "#ab63fa",
           "#FFA15A",
           "#19d3f3",
           "#FF6692",
           "#B6E880",
           "#FF97FF",
           "#FECB52"
          ],
          "font": {
           "color": "#2a3f5f"
          },
          "geo": {
           "bgcolor": "white",
           "lakecolor": "white",
           "landcolor": "white",
           "showlakes": true,
           "showland": true,
           "subunitcolor": "#C8D4E3"
          },
          "hoverlabel": {
           "align": "left"
          },
          "hovermode": "closest",
          "mapbox": {
           "style": "light"
          },
          "paper_bgcolor": "white",
          "plot_bgcolor": "white",
          "polar": {
           "angularaxis": {
            "gridcolor": "#EBF0F8",
            "linecolor": "#EBF0F8",
            "ticks": ""
           },
           "bgcolor": "white",
           "radialaxis": {
            "gridcolor": "#EBF0F8",
            "linecolor": "#EBF0F8",
            "ticks": ""
           }
          },
          "scene": {
           "xaxis": {
            "backgroundcolor": "white",
            "gridcolor": "#DFE8F3",
            "gridwidth": 2,
            "linecolor": "#EBF0F8",
            "showbackground": true,
            "ticks": "",
            "zerolinecolor": "#EBF0F8"
           },
           "yaxis": {
            "backgroundcolor": "white",
            "gridcolor": "#DFE8F3",
            "gridwidth": 2,
            "linecolor": "#EBF0F8",
            "showbackground": true,
            "ticks": "",
            "zerolinecolor": "#EBF0F8"
           },
           "zaxis": {
            "backgroundcolor": "white",
            "gridcolor": "#DFE8F3",
            "gridwidth": 2,
            "linecolor": "#EBF0F8",
            "showbackground": true,
            "ticks": "",
            "zerolinecolor": "#EBF0F8"
           }
          },
          "shapedefaults": {
           "line": {
            "color": "#2a3f5f"
           }
          },
          "ternary": {
           "aaxis": {
            "gridcolor": "#DFE8F3",
            "linecolor": "#A2B1C6",
            "ticks": ""
           },
           "baxis": {
            "gridcolor": "#DFE8F3",
            "linecolor": "#A2B1C6",
            "ticks": ""
           },
           "bgcolor": "white",
           "caxis": {
            "gridcolor": "#DFE8F3",
            "linecolor": "#A2B1C6",
            "ticks": ""
           }
          },
          "title": {
           "x": 0.05
          },
          "xaxis": {
           "automargin": true,
           "gridcolor": "#EBF0F8",
           "linecolor": "#EBF0F8",
           "ticks": "",
           "title": {
            "standoff": 15
           },
           "zerolinecolor": "#EBF0F8",
           "zerolinewidth": 2
          },
          "yaxis": {
           "automargin": true,
           "gridcolor": "#EBF0F8",
           "linecolor": "#EBF0F8",
           "ticks": "",
           "title": {
            "standoff": 15
           },
           "zerolinecolor": "#EBF0F8",
           "zerolinewidth": 2
          }
         }
        },
        "updatemenus": [
         {
          "buttons": [
           {
            "args": [
             {
              "yaxis2.type": "linear",
              "yaxis3.type": "linear"
             }
            ],
            "label": "Linear y-scale",
            "method": "relayout"
           },
           {
            "args": [
             {
              "yaxis2.type": "log",
              "yaxis3.type": "log"
             }
            ],
            "label": "Log y-scale",
            "method": "relayout"
           }
          ],
          "direction": "left",
          "pad": {
           "r": 0,
           "t": -10
          },
          "showactive": true,
          "type": "buttons",
          "x": 0,
          "xanchor": "left",
          "y": 1.15,
          "yanchor": "top"
         }
        ],
        "xaxis": {
         "anchor": "y",
         "domain": [
          0,
          1
         ],
         "matches": "x3",
         "showticklabels": false
        },
        "xaxis2": {
         "anchor": "y2",
         "domain": [
          0,
          1
         ],
         "matches": "x3",
         "showticklabels": false
        },
        "xaxis3": {
         "anchor": "y3",
         "domain": [
          0,
          1
         ],
         "title": {
          "text": "$\\text{Time in day}$"
         }
        },
        "yaxis": {
         "anchor": "x",
         "domain": [
          0.8200000000000001,
          1
         ],
         "title": {
          "text": "$\\text{Amount in mg}$"
         }
        },
        "yaxis2": {
         "anchor": "x2",
         "domain": [
          0.41000000000000003,
          0.77
         ],
         "title": {
          "text": "$\\text{Conc. in mg/L}$"
         }
        },
        "yaxis3": {
         "anchor": "x3",
         "domain": [
          0,
          0.36000000000000004
         ],
         "title": {
          "text": "$\\text{Tumour volume in cm}^3$"
         }
        }
       }
      }
     },
     "metadata": {}
    }
   ],
   "source": [
    "#\n",
    "# Visualise Erlotinib low dose data growth data.\n",
    "#\n",
    "# This cell needs the above created dataset:\n",
    "# [data]\n",
    "#\n",
    "\n",
    "import pandas as pd\n",
    "import plotly.colors\n",
    "import plotly.graph_objects as go\n",
    "from plotly.subplots import make_subplots\n",
    "\n",
    "\n",
    "# Get number of individual mice\n",
    "n_mice = len(data['#ID'].unique())\n",
    "\n",
    "# Define colorscheme\n",
    "colors = plotly.colors.qualitative.Plotly[:n_mice]\n",
    "\n",
    "# Create figure\n",
    "fig = make_subplots(rows=3, cols=1, shared_xaxes=True, row_heights=[0.2, 0.4, 0.4], vertical_spacing=0.05)\n",
    "\n",
    "# Scatter plot of concentration and tumour growth data\n",
    "for index, mouse_id in enumerate(np.sort(data['#ID'].unique())):\n",
    "    # Mask dataset for mouse\n",
    "    mask = data['#ID'] == mouse_id\n",
    "    mouse_data = data[mask]\n",
    "\n",
    "    # Get concentration measurement times\n",
    "    conc_times = mouse_data['TIME CONC in day'].to_numpy()\n",
    "\n",
    "    # Get measured concentrations\n",
    "    conc = mouse_data['CONC in mg/L'].to_numpy()\n",
    "\n",
    "    # Get tumour volume measurement times\n",
    "    volume_times = mouse_data['TIME VOLUME in day'].to_numpy()\n",
    "\n",
    "    # Get measured concentrations\n",
    "    volumes = mouse_data['TUMOUR VOLUME in cm^3'].to_numpy()\n",
    "\n",
    "    # Get dosing time points\n",
    "    dose_times = mouse_data['TIME DOSE in day'].to_numpy()\n",
    "\n",
    "    # Get doses\n",
    "    doses = mouse_data['DOSE AMOUNT in mg'].to_numpy()\n",
    "\n",
    "    # Filter nans from dose arrays\n",
    "    dose_times = dose_times[~np.isnan(dose_times)]\n",
    "    doses = doses[~np.isnan(doses)]\n",
    "\n",
    "    # Convert dose events to cumulative dose amount time series\n",
    "    dose_times, doses = compute_cumulative_dose_amount(\n",
    "        times=dose_times,\n",
    "        doses=doses,\n",
    "        end_exp=30)\n",
    "\n",
    "    # Plot cumulative dosed amount\n",
    "    fig.add_trace(\n",
    "        go.Scatter(\n",
    "            x=dose_times,\n",
    "            y=doses,\n",
    "            legendgroup=\"ID: %d\" % mouse_id,\n",
    "            name=\"ID: %d\" % mouse_id,\n",
    "            showlegend=False,\n",
    "            hovertemplate=\n",
    "                \"<b>Cumulative dose in mg</b><br>\" +\n",
    "                \"ID: %d<br>\" % mouse_id +\n",
    "                \"Time: %{x:.0f} day<br>\" +\n",
    "                \"Tumour volume: %{y:.02f} cm^3<br>\" +\n",
    "                \"<extra></extra>\",\n",
    "            mode=\"lines\",\n",
    "            line=dict(color=colors[index])),\n",
    "        row=1,\n",
    "        col=1)\n",
    "\n",
    "    # Plot concentration data\n",
    "    fig.add_trace(\n",
    "        go.Scatter(\n",
    "            x=conc_times,\n",
    "            y=conc,\n",
    "            legendgroup=\"ID: %d\" % mouse_id,\n",
    "            name=\"ID: %d\" % mouse_id,\n",
    "            showlegend=False,\n",
    "            hovertemplate=\n",
    "                \"<b>Plasma Concentration in mg/L</b><br>\" +\n",
    "                \"ID: %d<br>\" % mouse_id +\n",
    "                \"Time: %{x:.0f} day<br>\" +\n",
    "                \"Plasma concentration: %{y:.02f} mg/L<br>\" +\n",
    "                \"<extra></extra>\",\n",
    "            mode=\"markers\",\n",
    "            marker=dict(\n",
    "                symbol='circle',\n",
    "                opacity=0.7,\n",
    "                line=dict(color='black', width=1),\n",
    "                color=colors[index])),\n",
    "        row=2,\n",
    "        col=1)\n",
    "\n",
    "    # Plot tumour volume data\n",
    "    fig.add_trace(\n",
    "        go.Scatter(\n",
    "            x=volume_times,\n",
    "            y=volumes,\n",
    "            legendgroup=\"ID: %d\" % mouse_id,\n",
    "            name=\"ID: %d\" % mouse_id,\n",
    "            showlegend=True,\n",
    "            hovertemplate=\n",
    "                \"<b>Tumour volume in cm^3 %s</b><br>\" +\n",
    "                \"ID: %d<br>\" % mouse_id +\n",
    "                \"Time: %{x:} day<br>\" +\n",
    "                \"Tumour volume: %{y:.02f} cm^3<br>\" +\n",
    "                \"<extra></extra>\",\n",
    "            mode=\"markers\",\n",
    "            marker=dict(\n",
    "                symbol='circle',\n",
    "                opacity=0.7,\n",
    "                line=dict(color='black', width=1),\n",
    "                color=colors[index])),\n",
    "        row=3,\n",
    "        col=1)\n",
    "\n",
    "# Set figure size\n",
    "fig.update_layout(\n",
    "    autosize=True,\n",
    "    template=\"plotly_white\")\n",
    "\n",
    "# Set X axis label\n",
    "fig.update_xaxes(title_text=r'$\\text{Time in day}$', row=3, col=1)\n",
    "\n",
    "# Set Y axes labels\n",
    "fig.update_yaxes(title_text=r'$\\text{Amount in mg}$', row=1, col=1)\n",
    "fig.update_yaxes(title_text=r'$\\text{Conc. in mg/L}$', row=2, col=1)\n",
    "fig.update_yaxes(title_text=r'$\\text{Tumour volume in cm}^3$', row=3, col=1)\n",
    "\n",
    "# Add switch between linear and log y-scale\n",
    "fig.update_layout(\n",
    "    updatemenus=[\n",
    "        dict(\n",
    "            type = \"buttons\",\n",
    "            direction = \"left\",\n",
    "            buttons=list([\n",
    "                dict(\n",
    "                    args=[{\n",
    "                        \"yaxis2.type\": \"linear\",\n",
    "                        \"yaxis3.type\": \"linear\"}],\n",
    "                    label=\"Linear y-scale\",\n",
    "                    method=\"relayout\"\n",
    "                ),\n",
    "                dict(\n",
    "                    args=[{\n",
    "                        \"yaxis2.type\": \"log\",\n",
    "                        \"yaxis3.type\": \"log\"}],\n",
    "                    label=\"Log y-scale\",\n",
    "                    method=\"relayout\"\n",
    "                )\n",
    "            ]),\n",
    "            pad={\"r\": 0, \"t\": -10},\n",
    "            showactive=True,\n",
    "            x=0.0,\n",
    "            xanchor=\"left\",\n",
    "            y=1.15,\n",
    "            yanchor=\"top\"\n",
    "        ),\n",
    "    ]\n",
    ")\n",
    "\n",
    "# Show figure\n",
    "fig.show()"
   ]
  },
  {
   "cell_type": "markdown",
   "metadata": {},
   "source": [
    "**Figure 1:** TO BE COMPLETED"
   ]
  },
  {
   "cell_type": "markdown",
   "metadata": {},
   "source": [
    "## Export cleaned data"
   ]
  },
  {
   "cell_type": "code",
   "execution_count": 6,
   "metadata": {},
   "outputs": [],
   "source": [
    "#\n",
    "# Export cleaned data sets for inference in other notebooks.\n",
    "#\n",
    "# This cell needs the above created dataset\n",
    "#\n",
    "\n",
    "import os\n",
    "import pandas as pd\n",
    "\n",
    "\n",
    "# Get path of current working directory\n",
    "path = os.getcwd()\n",
    "\n",
    "# Export cleaned LXF A677 control growth data\n",
    "data.to_csv(path + '/data/erlotinib_intermediate_dose_lxf.csv')"
   ]
  },
  {
   "cell_type": "markdown",
   "metadata": {},
   "source": [
    "## Bibliography\n",
    "\n",
    "- <a name=\"ref1\"> [1] </a> Eigenmann et. al., Combining Nonclinical Experiments with Translational PKPD Modeling to Differentiate Erlotinib and Gefitinib, Mol Cancer Ther (2016)"
   ]
  },
  {
   "cell_type": "markdown",
   "metadata": {},
   "source": [
    "[Back to project overview](https://github.com/DavAug/ErlotinibGefitinib/blob/master/README.md) | [Forward to next notebook](https://github.com/DavAug/ErlotinibGefitinib/blob/master/notebooks/control_growth/pooled_model.ipynb)"
   ]
  }
 ],
 "metadata": {
  "kernelspec": {
   "display_name": "Python 3.7.5 64-bit ('venv': venv)",
   "language": "python",
   "name": "python37564bitvenvvenv244669d31e9a466f969539273faabb23"
  },
  "language_info": {
   "codemirror_mode": {
    "name": "ipython",
    "version": 3
   },
   "file_extension": ".py",
   "mimetype": "text/x-python",
   "name": "python",
   "nbconvert_exporter": "python",
   "pygments_lexer": "ipython3",
   "version": "3.7.5-final"
  },
  "widgets": {
   "application/vnd.jupyter.widget-state+json": {
    "state": {},
    "version_major": 2,
    "version_minor": 0
   }
  }
 },
 "nbformat": 4,
 "nbformat_minor": 2
}