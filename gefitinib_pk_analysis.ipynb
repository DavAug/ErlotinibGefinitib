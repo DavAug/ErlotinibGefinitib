{
 "cells": [
  {
   "cell_type": "markdown",
   "metadata": {},
   "source": [
    "# Erlotinib PK Analysis"
   ]
  },
  {
   "cell_type": "markdown",
   "metadata": {},
   "source": [
    "Run population anaysis of erlotinib PK data. First we reproduce the steps performed in the publication by Eigenmann et. al.. The next step is to challenge the modelling assumptions."
   ]
  },
  {
   "cell_type": "markdown",
   "metadata": {},
   "source": [
    "## 1. Reproduce PK Analysis"
   ]
  },
  {
   "cell_type": "markdown",
   "metadata": {},
   "source": [
    "### 1.1 Import data"
   ]
  },
  {
   "cell_type": "code",
   "execution_count": 9,
   "metadata": {},
   "outputs": [
    {
     "output_type": "execute_result",
     "data": {
      "text/plain": "     #ID       TIME          Y  DOSE GROUP DOSE    BW\n412  139   9.992361      0.952        6.25    .  22.8\n141   52   9.995833      8.060       25.00    .  25.9\n435  161  10.010417    551.000        6.25    .  23.9\n187  108  10.010417   2380.000       25.00    .  25.1\n118   34  10.018750   3500.000       25.00    .  27.9\n391  131  10.019444   1290.000        6.25    .  23.3\n368  119  10.043056   1050.000        6.25    .  21.1\n164   91  10.043750   4340.000       25.00    .  26.5\n233  129  10.103472   2270.000       25.00    .  27.5\n302   31  10.103472    848.000        6.25    .  25.3\n210  122  10.208333    828.000       25.00    .  23.4\n345   98  10.208333    175.000        6.25    .  25.9\n458  162  10.411806     55.700        6.25    .  22.6\n256  163  10.415278   1350.000       25.00    .  23.4\n324   38  11.000000      0.952        6.25    .  26.8\n281  167  11.002083      0.952       25.00    .  26.6\n60    67  14.013194   4410.000      100.00    .  26.5\n11     6  14.020833   8460.000      100.00    .  23.0\n40    28  14.039583  15700.000      100.00    .  23.4\n100  134  14.104861   5980.000      100.00    .  22.8\n80   128  14.415972   6100.000      100.00    .  29.7\n123   34  15.993750      0.952       25.00    .  27.1\n440  161  15.997917      0.952        6.25    .  26.1\n398  131  16.010417   1370.000        6.25    .  25.0\n263  163  16.011111   3140.000       25.00    .  23.5\n375  119  16.022222   1970.000        6.25    .  22.1\n286  167  16.022917   3000.000       25.00    .  27.4\n309   31  16.040278   1240.000        6.25    .  27.8\n217  122  16.040972   3540.000       25.00    .  23.5\n329   38  16.102083   1290.000        6.25    .  27.1\n171   91  16.102778   1970.000       25.00    .  26.7\n240  129  16.209722   1070.000       25.00    .  27.9\n465  162  16.212500    107.000        6.25    .  24.7\n194  108  16.416667    326.000       25.00    .  27.1\n352   98  16.418056     32.800        6.25    .  27.5\n419  139  16.993750      0.952        6.25    .  23.8\n148   52  16.999306      0.952       25.00    .  26.4",
      "text/html": "<div>\n<style scoped>\n    .dataframe tbody tr th:only-of-type {\n        vertical-align: middle;\n    }\n\n    .dataframe tbody tr th {\n        vertical-align: top;\n    }\n\n    .dataframe thead th {\n        text-align: right;\n    }\n</style>\n<table border=\"1\" class=\"dataframe\">\n  <thead>\n    <tr style=\"text-align: right;\">\n      <th></th>\n      <th>#ID</th>\n      <th>TIME</th>\n      <th>Y</th>\n      <th>DOSE GROUP</th>\n      <th>DOSE</th>\n      <th>BW</th>\n    </tr>\n  </thead>\n  <tbody>\n    <tr>\n      <th>412</th>\n      <td>139</td>\n      <td>9.992361</td>\n      <td>0.952</td>\n      <td>6.25</td>\n      <td>.</td>\n      <td>22.8</td>\n    </tr>\n    <tr>\n      <th>141</th>\n      <td>52</td>\n      <td>9.995833</td>\n      <td>8.060</td>\n      <td>25.00</td>\n      <td>.</td>\n      <td>25.9</td>\n    </tr>\n    <tr>\n      <th>435</th>\n      <td>161</td>\n      <td>10.010417</td>\n      <td>551.000</td>\n      <td>6.25</td>\n      <td>.</td>\n      <td>23.9</td>\n    </tr>\n    <tr>\n      <th>187</th>\n      <td>108</td>\n      <td>10.010417</td>\n      <td>2380.000</td>\n      <td>25.00</td>\n      <td>.</td>\n      <td>25.1</td>\n    </tr>\n    <tr>\n      <th>118</th>\n      <td>34</td>\n      <td>10.018750</td>\n      <td>3500.000</td>\n      <td>25.00</td>\n      <td>.</td>\n      <td>27.9</td>\n    </tr>\n    <tr>\n      <th>391</th>\n      <td>131</td>\n      <td>10.019444</td>\n      <td>1290.000</td>\n      <td>6.25</td>\n      <td>.</td>\n      <td>23.3</td>\n    </tr>\n    <tr>\n      <th>368</th>\n      <td>119</td>\n      <td>10.043056</td>\n      <td>1050.000</td>\n      <td>6.25</td>\n      <td>.</td>\n      <td>21.1</td>\n    </tr>\n    <tr>\n      <th>164</th>\n      <td>91</td>\n      <td>10.043750</td>\n      <td>4340.000</td>\n      <td>25.00</td>\n      <td>.</td>\n      <td>26.5</td>\n    </tr>\n    <tr>\n      <th>233</th>\n      <td>129</td>\n      <td>10.103472</td>\n      <td>2270.000</td>\n      <td>25.00</td>\n      <td>.</td>\n      <td>27.5</td>\n    </tr>\n    <tr>\n      <th>302</th>\n      <td>31</td>\n      <td>10.103472</td>\n      <td>848.000</td>\n      <td>6.25</td>\n      <td>.</td>\n      <td>25.3</td>\n    </tr>\n    <tr>\n      <th>210</th>\n      <td>122</td>\n      <td>10.208333</td>\n      <td>828.000</td>\n      <td>25.00</td>\n      <td>.</td>\n      <td>23.4</td>\n    </tr>\n    <tr>\n      <th>345</th>\n      <td>98</td>\n      <td>10.208333</td>\n      <td>175.000</td>\n      <td>6.25</td>\n      <td>.</td>\n      <td>25.9</td>\n    </tr>\n    <tr>\n      <th>458</th>\n      <td>162</td>\n      <td>10.411806</td>\n      <td>55.700</td>\n      <td>6.25</td>\n      <td>.</td>\n      <td>22.6</td>\n    </tr>\n    <tr>\n      <th>256</th>\n      <td>163</td>\n      <td>10.415278</td>\n      <td>1350.000</td>\n      <td>25.00</td>\n      <td>.</td>\n      <td>23.4</td>\n    </tr>\n    <tr>\n      <th>324</th>\n      <td>38</td>\n      <td>11.000000</td>\n      <td>0.952</td>\n      <td>6.25</td>\n      <td>.</td>\n      <td>26.8</td>\n    </tr>\n    <tr>\n      <th>281</th>\n      <td>167</td>\n      <td>11.002083</td>\n      <td>0.952</td>\n      <td>25.00</td>\n      <td>.</td>\n      <td>26.6</td>\n    </tr>\n    <tr>\n      <th>60</th>\n      <td>67</td>\n      <td>14.013194</td>\n      <td>4410.000</td>\n      <td>100.00</td>\n      <td>.</td>\n      <td>26.5</td>\n    </tr>\n    <tr>\n      <th>11</th>\n      <td>6</td>\n      <td>14.020833</td>\n      <td>8460.000</td>\n      <td>100.00</td>\n      <td>.</td>\n      <td>23.0</td>\n    </tr>\n    <tr>\n      <th>40</th>\n      <td>28</td>\n      <td>14.039583</td>\n      <td>15700.000</td>\n      <td>100.00</td>\n      <td>.</td>\n      <td>23.4</td>\n    </tr>\n    <tr>\n      <th>100</th>\n      <td>134</td>\n      <td>14.104861</td>\n      <td>5980.000</td>\n      <td>100.00</td>\n      <td>.</td>\n      <td>22.8</td>\n    </tr>\n    <tr>\n      <th>80</th>\n      <td>128</td>\n      <td>14.415972</td>\n      <td>6100.000</td>\n      <td>100.00</td>\n      <td>.</td>\n      <td>29.7</td>\n    </tr>\n    <tr>\n      <th>123</th>\n      <td>34</td>\n      <td>15.993750</td>\n      <td>0.952</td>\n      <td>25.00</td>\n      <td>.</td>\n      <td>27.1</td>\n    </tr>\n    <tr>\n      <th>440</th>\n      <td>161</td>\n      <td>15.997917</td>\n      <td>0.952</td>\n      <td>6.25</td>\n      <td>.</td>\n      <td>26.1</td>\n    </tr>\n    <tr>\n      <th>398</th>\n      <td>131</td>\n      <td>16.010417</td>\n      <td>1370.000</td>\n      <td>6.25</td>\n      <td>.</td>\n      <td>25.0</td>\n    </tr>\n    <tr>\n      <th>263</th>\n      <td>163</td>\n      <td>16.011111</td>\n      <td>3140.000</td>\n      <td>25.00</td>\n      <td>.</td>\n      <td>23.5</td>\n    </tr>\n    <tr>\n      <th>375</th>\n      <td>119</td>\n      <td>16.022222</td>\n      <td>1970.000</td>\n      <td>6.25</td>\n      <td>.</td>\n      <td>22.1</td>\n    </tr>\n    <tr>\n      <th>286</th>\n      <td>167</td>\n      <td>16.022917</td>\n      <td>3000.000</td>\n      <td>25.00</td>\n      <td>.</td>\n      <td>27.4</td>\n    </tr>\n    <tr>\n      <th>309</th>\n      <td>31</td>\n      <td>16.040278</td>\n      <td>1240.000</td>\n      <td>6.25</td>\n      <td>.</td>\n      <td>27.8</td>\n    </tr>\n    <tr>\n      <th>217</th>\n      <td>122</td>\n      <td>16.040972</td>\n      <td>3540.000</td>\n      <td>25.00</td>\n      <td>.</td>\n      <td>23.5</td>\n    </tr>\n    <tr>\n      <th>329</th>\n      <td>38</td>\n      <td>16.102083</td>\n      <td>1290.000</td>\n      <td>6.25</td>\n      <td>.</td>\n      <td>27.1</td>\n    </tr>\n    <tr>\n      <th>171</th>\n      <td>91</td>\n      <td>16.102778</td>\n      <td>1970.000</td>\n      <td>25.00</td>\n      <td>.</td>\n      <td>26.7</td>\n    </tr>\n    <tr>\n      <th>240</th>\n      <td>129</td>\n      <td>16.209722</td>\n      <td>1070.000</td>\n      <td>25.00</td>\n      <td>.</td>\n      <td>27.9</td>\n    </tr>\n    <tr>\n      <th>465</th>\n      <td>162</td>\n      <td>16.212500</td>\n      <td>107.000</td>\n      <td>6.25</td>\n      <td>.</td>\n      <td>24.7</td>\n    </tr>\n    <tr>\n      <th>194</th>\n      <td>108</td>\n      <td>16.416667</td>\n      <td>326.000</td>\n      <td>25.00</td>\n      <td>.</td>\n      <td>27.1</td>\n    </tr>\n    <tr>\n      <th>352</th>\n      <td>98</td>\n      <td>16.418056</td>\n      <td>32.800</td>\n      <td>6.25</td>\n      <td>.</td>\n      <td>27.5</td>\n    </tr>\n    <tr>\n      <th>419</th>\n      <td>139</td>\n      <td>16.993750</td>\n      <td>0.952</td>\n      <td>6.25</td>\n      <td>.</td>\n      <td>23.8</td>\n    </tr>\n    <tr>\n      <th>148</th>\n      <td>52</td>\n      <td>16.999306</td>\n      <td>0.952</td>\n      <td>25.00</td>\n      <td>.</td>\n      <td>26.4</td>\n    </tr>\n  </tbody>\n</table>\n</div>"
     },
     "metadata": {},
     "execution_count": 9
    }
   ],
   "source": [
    "import os\n",
    "import pandas as pd\n",
    "\n",
    "# Import data\n",
    "path = os.getcwd()\n",
    "data_raw = pd.read_csv(path + '/data/PK_LXF_erlo.csv', sep=';')\n",
    "\n",
    "# Filter relevant information\n",
    "data = data_raw[['#ID', 'TIME', 'Y', 'DOSE GROUP', 'DOSE', 'BW']]\n",
    "\n",
    "# Convert TIME and Y to numeric values (currently strings)\n",
    "data['TIME'] = pd.to_numeric(data['TIME'], errors='coerce')\n",
    "data['Y'] = pd.to_numeric(data['Y'], errors='coerce')\n",
    "\n",
    "# Sort TIME values (for plotting convenience)\n",
    "data.sort_values(by='TIME', inplace=True)\n",
    "\n",
    "# Filter NaNs\n",
    "data = data[data['Y'].notnull()]\n",
    "\n",
    "# Show data\n",
    "data"
   ]
  },
  {
   "cell_type": "markdown",
   "metadata": {},
   "source": [
    "### 1.2 Sort data into dosing groups\n",
    "\n",
    "Each dose group has been dosed daily from day 2 to 16. PK samples have been taken on day 10 and 16."
   ]
  },
  {
   "cell_type": "code",
   "execution_count": 16,
   "metadata": {},
   "outputs": [
    {
     "output_type": "execute_result",
     "data": {
      "text/plain": "array([  6.25,  25.  , 100.  ])"
     },
     "metadata": {},
     "execution_count": 16
    }
   ],
   "source": [
    "# Get group identifiers\n",
    "groups = data['DOSE GROUP'].unique()\n",
    "\n",
    "# Sort into groups\n",
    "data_one = data[data['DOSE GROUP'] == groups[0]]\n",
    "data_two = data[data['DOSE GROUP'] == groups[1]]\n",
    "data_three = data[data['DOSE GROUP'] == groups[2]]\n",
    "\n",
    "# Show different dose groups\n",
    "groups"
   ]
  },
  {
   "cell_type": "markdown",
   "metadata": {},
   "source": [
    "### 1.3 Visualise dose group one"
   ]
  },
  {
   "cell_type": "code",
   "execution_count": 15,
   "metadata": {},
   "outputs": [
    {
     "output_type": "display_data",
     "data": {
      "text/plain": "<Figure size 864x432 with 1 Axes>",
      "image/svg+xml": "<?xml version=\"1.0\" encoding=\"utf-8\" standalone=\"no\"?>\n<!DOCTYPE svg PUBLIC \"-//W3C//DTD SVG 1.1//EN\"\n  \"http://www.w3.org/Graphics/SVG/1.1/DTD/svg11.dtd\">\n<!-- Created with matplotlib (https://matplotlib.org/) -->\n<svg height=\"370.91625pt\" version=\"1.1\" viewBox=\"0 0 723.1 370.91625\" width=\"723.1pt\" xmlns=\"http://www.w3.org/2000/svg\" xmlns:xlink=\"http://www.w3.org/1999/xlink\">\n <defs>\n  <style type=\"text/css\">\n*{stroke-linecap:butt;stroke-linejoin:round;}\n  </style>\n </defs>\n <g id=\"figure_1\">\n  <g id=\"patch_1\">\n   <path d=\"M 0 370.91625 \nL 723.1 370.91625 \nL 723.1 0 \nL 0 0 \nz\n\" style=\"fill:none;\"/>\n  </g>\n  <g id=\"axes_1\">\n   <g id=\"patch_2\">\n    <path d=\"M 46.3 333.36 \nL 715.9 333.36 \nL 715.9 7.2 \nL 46.3 7.2 \nz\n\" style=\"fill:#ffffff;\"/>\n   </g>\n   <g id=\"PathCollection_1\">\n    <defs>\n     <path d=\"M 0 3 \nC 0.795609 3 1.55874 2.683901 2.12132 2.12132 \nC 2.683901 1.55874 3 0.795609 3 0 \nC 3 -0.795609 2.683901 -1.55874 2.12132 -2.12132 \nC 1.55874 -2.683901 0.795609 -3 0 -3 \nC -0.795609 -3 -1.55874 -2.683901 -2.12132 -2.12132 \nC -2.683901 -1.55874 -3 -0.795609 -3 0 \nC -3 0.795609 -2.683901 1.55874 -2.12132 2.12132 \nC -1.55874 2.683901 -0.795609 3 0 3 \nz\n\" id=\"mf8c06c04b4\" style=\"stroke:#000000;\"/>\n    </defs>\n    <g clip-path=\"url(#p9160fbf77b)\">\n     <use style=\"fill:#1f77b4;stroke:#000000;\" x=\"76.736364\" xlink:href=\"#mf8c06c04b4\" y=\"318.534545\"/>\n     <use style=\"fill:#1f77b4;stroke:#000000;\" x=\"685.463636\" xlink:href=\"#mf8c06c04b4\" y=\"318.534545\"/>\n    </g>\n   </g>\n   <g id=\"PathCollection_2\">\n    <defs>\n     <path d=\"M 0 3 \nC 0.795609 3 1.55874 2.683901 2.12132 2.12132 \nC 2.683901 1.55874 3 0.795609 3 0 \nC 3 -0.795609 2.683901 -1.55874 2.12132 -2.12132 \nC 1.55874 -2.683901 0.795609 -3 0 -3 \nC -0.795609 -3 -1.55874 -2.683901 -2.12132 -2.12132 \nC -2.683901 -1.55874 -3 -0.795609 -3 0 \nC -3 0.795609 -2.683901 1.55874 -2.12132 2.12132 \nC -1.55874 2.683901 -0.795609 3 0 3 \nz\n\" id=\"mc4551dd319\" style=\"stroke:#000000;\"/>\n    </defs>\n    <g clip-path=\"url(#p9160fbf77b)\">\n     <use style=\"fill:#ff7f0e;stroke:#000000;\" x=\"78.306182\" xlink:href=\"#mc4551dd319\" y=\"71.504123\"/>\n     <use style=\"fill:#ff7f0e;stroke:#000000;\" x=\"598.882114\" xlink:href=\"#mc4551dd319\" y=\"318.534545\"/>\n    </g>\n   </g>\n   <g id=\"PathCollection_3\">\n    <defs>\n     <path d=\"M 0 3 \nC 0.795609 3 1.55874 2.683901 2.12132 2.12132 \nC 2.683901 1.55874 3 0.795609 3 0 \nC 3 -0.795609 2.683901 -1.55874 2.12132 -2.12132 \nC 1.55874 -2.683901 0.795609 -3 0 -3 \nC -0.795609 -3 -1.55874 -2.683901 -2.12132 -2.12132 \nC -2.683901 -1.55874 -3 -0.795609 -3 0 \nC -3 0.795609 -2.683901 1.55874 -2.12132 2.12132 \nC -1.55874 2.683901 -0.795609 3 0 3 \nz\n\" id=\"m2d99c39e45\" style=\"stroke:#000000;\"/>\n    </defs>\n    <g clip-path=\"url(#p9160fbf77b)\">\n     <use style=\"fill:#2ca02c;stroke:#000000;\" x=\"79.091091\" xlink:href=\"#m2d99c39e45\" y=\"38.468116\"/>\n     <use style=\"fill:#2ca02c;stroke:#000000;\" x=\"599.968912\" xlink:href=\"#m2d99c39e45\" y=\"36.131435\"/>\n    </g>\n   </g>\n   <g id=\"PathCollection_4\">\n    <defs>\n     <path d=\"M 0 3 \nC 0.795609 3 1.55874 2.683901 2.12132 2.12132 \nC 2.683901 1.55874 3 0.795609 3 0 \nC 3 -0.795609 2.683901 -1.55874 2.12132 -2.12132 \nC 1.55874 -2.683901 0.795609 -3 0 -3 \nC -0.795609 -3 -1.55874 -2.683901 -2.12132 -2.12132 \nC -2.683901 -1.55874 -3 -0.795609 -3 0 \nC -3 0.795609 -2.683901 1.55874 -2.12132 2.12132 \nC -1.55874 2.683901 -0.795609 3 0 3 \nz\n\" id=\"m7404ce00c6\" style=\"stroke:#000000;\"/>\n    </defs>\n    <g clip-path=\"url(#p9160fbf77b)\">\n     <use style=\"fill:#d62728;stroke:#000000;\" x=\"81.143931\" xlink:href=\"#m7404ce00c6\" y=\"46.462507\"/>\n     <use style=\"fill:#d62728;stroke:#000000;\" x=\"600.995331\" xlink:href=\"#m7404ce00c6\" y=\"22.025455\"/>\n    </g>\n   </g>\n   <g id=\"PathCollection_5\">\n    <defs>\n     <path d=\"M 0 3 \nC 0.795609 3 1.55874 2.683901 2.12132 2.12132 \nC 2.683901 1.55874 3 0.795609 3 0 \nC 3 -0.795609 2.683901 -1.55874 2.12132 -2.12132 \nC 1.55874 -2.683901 0.795609 -3 0 -3 \nC -0.795609 -3 -1.55874 -2.683901 -2.12132 -2.12132 \nC -2.683901 -1.55874 -3 -0.795609 -3 0 \nC -3 0.795609 -2.683901 1.55874 -2.12132 2.12132 \nC -1.55874 2.683901 -0.795609 3 0 3 \nz\n\" id=\"m665b0b011c\" style=\"stroke:#000000;\"/>\n    </defs>\n    <g clip-path=\"url(#p9160fbf77b)\">\n     <use style=\"fill:#9467bd;stroke:#000000;\" x=\"86.396784\" xlink:href=\"#m665b0b011c\" y=\"54.76031\"/>\n     <use style=\"fill:#9467bd;stroke:#000000;\" x=\"602.56515\" xlink:href=\"#m665b0b011c\" y=\"40.00332\"/>\n    </g>\n   </g>\n   <g id=\"PathCollection_6\">\n    <defs>\n     <path d=\"M 0 3 \nC 0.795609 3 1.55874 2.683901 2.12132 2.12132 \nC 2.683901 1.55874 3 0.795609 3 0 \nC 3 -0.795609 2.683901 -1.55874 2.12132 -2.12132 \nC 1.55874 -2.683901 0.795609 -3 0 -3 \nC -0.795609 -3 -1.55874 -2.683901 -2.12132 -2.12132 \nC -2.683901 -1.55874 -3 -0.795609 -3 0 \nC -3 0.795609 -2.683901 1.55874 -2.12132 2.12132 \nC -1.55874 2.683901 -0.795609 3 0 3 \nz\n\" id=\"mffe8bfa2ec\" style=\"stroke:#000000;\"/>\n    </defs>\n    <g clip-path=\"url(#p9160fbf77b)\">\n     <use style=\"fill:#8c564b;stroke:#000000;\" x=\"95.513807\" xlink:href=\"#mffe8bfa2ec\" y=\"116.046584\"/>\n     <use style=\"fill:#8c564b;stroke:#000000;\" x=\"635.410581\" xlink:href=\"#mffe8bfa2ec\" y=\"181.071282\"/>\n    </g>\n   </g>\n   <g id=\"PathCollection_7\">\n    <defs>\n     <path d=\"M 0 3 \nC 0.795609 3 1.55874 2.683901 2.12132 2.12132 \nC 2.683901 1.55874 3 0.795609 3 0 \nC 3 -0.795609 2.683901 -1.55874 2.12132 -2.12132 \nC 1.55874 -2.683901 0.795609 -3 0 -3 \nC -0.795609 -3 -1.55874 -2.683901 -2.12132 -2.12132 \nC -2.683901 -1.55874 -3 -0.795609 -3 0 \nC -3 0.795609 -2.683901 1.55874 -2.12132 2.12132 \nC -1.55874 2.683901 -0.795609 3 0 3 \nz\n\" id=\"md8dc9e36df\" style=\"stroke:#000000;\"/>\n    </defs>\n    <g clip-path=\"url(#p9160fbf77b)\">\n     <use style=\"fill:#e377c2;stroke:#000000;\" x=\"113.204453\" xlink:href=\"#md8dc9e36df\" y=\"160.50582\"/>\n     <use style=\"fill:#e377c2;stroke:#000000;\" x=\"617.538802\" xlink:href=\"#md8dc9e36df\" y=\"135.152041\"/>\n    </g>\n   </g>\n   <g id=\"PathCollection_8\">\n    <defs>\n     <path d=\"M 0 3 \nC 0.795609 3 1.55874 2.683901 2.12132 2.12132 \nC 2.683901 1.55874 3 0.795609 3 0 \nC 3 -0.795609 2.683901 -1.55874 2.12132 -2.12132 \nC 1.55874 -2.683901 0.795609 -3 0 -3 \nC -0.795609 -3 -1.55874 -2.683901 -2.12132 -2.12132 \nC -2.683901 -1.55874 -3 -0.795609 -3 0 \nC -3 0.795609 -2.683901 1.55874 -2.12132 2.12132 \nC -1.55874 2.683901 -0.795609 3 0 3 \nz\n\" id=\"me355e339bb\" style=\"stroke:#000000;\"/>\n    </defs>\n    <g clip-path=\"url(#p9160fbf77b)\">\n     <use style=\"fill:#7f7f7f;stroke:#000000;\" x=\"164.344306\" xlink:href=\"#me355e339bb\" y=\"318.534545\"/>\n     <use style=\"fill:#7f7f7f;stroke:#000000;\" x=\"607.938758\" xlink:href=\"#me355e339bb\" y=\"38.468116\"/>\n    </g>\n   </g>\n   <g id=\"matplotlib.axis_1\">\n    <g id=\"xtick_1\">\n     <g id=\"line2d_1\">\n      <defs>\n       <path d=\"M 0 0 \nL 0 3.5 \n\" id=\"m8139c654cf\" style=\"stroke:#000000;stroke-width:0.8;\"/>\n      </defs>\n      <g>\n       <use style=\"stroke:#000000;stroke-width:0.8;\" x=\"77.400518\" xlink:href=\"#m8139c654cf\" y=\"333.36\"/>\n      </g>\n     </g>\n     <g id=\"text_1\">\n      <!-- 10 -->\n      <defs>\n       <path d=\"M 12.40625 8.296875 \nL 28.515625 8.296875 \nL 28.515625 63.921875 \nL 10.984375 60.40625 \nL 10.984375 69.390625 \nL 28.421875 72.90625 \nL 38.28125 72.90625 \nL 38.28125 8.296875 \nL 54.390625 8.296875 \nL 54.390625 0 \nL 12.40625 0 \nz\n\" id=\"DejaVuSans-49\"/>\n       <path d=\"M 31.78125 66.40625 \nQ 24.171875 66.40625 20.328125 58.90625 \nQ 16.5 51.421875 16.5 36.375 \nQ 16.5 21.390625 20.328125 13.890625 \nQ 24.171875 6.390625 31.78125 6.390625 \nQ 39.453125 6.390625 43.28125 13.890625 \nQ 47.125 21.390625 47.125 36.375 \nQ 47.125 51.421875 43.28125 58.90625 \nQ 39.453125 66.40625 31.78125 66.40625 \nz\nM 31.78125 74.21875 \nQ 44.046875 74.21875 50.515625 64.515625 \nQ 56.984375 54.828125 56.984375 36.375 \nQ 56.984375 17.96875 50.515625 8.265625 \nQ 44.046875 -1.421875 31.78125 -1.421875 \nQ 19.53125 -1.421875 13.0625 8.265625 \nQ 6.59375 17.96875 6.59375 36.375 \nQ 6.59375 54.828125 13.0625 64.515625 \nQ 19.53125 74.21875 31.78125 74.21875 \nz\n\" id=\"DejaVuSans-48\"/>\n      </defs>\n      <g transform=\"translate(71.038018 347.958438)scale(0.1 -0.1)\">\n       <use xlink:href=\"#DejaVuSans-49\"/>\n       <use x=\"63.623047\" xlink:href=\"#DejaVuSans-48\"/>\n      </g>\n     </g>\n    </g>\n    <g id=\"xtick_2\">\n     <g id=\"line2d_2\">\n      <g>\n       <use style=\"stroke:#000000;stroke-width:0.8;\" x=\"164.344306\" xlink:href=\"#m8139c654cf\" y=\"333.36\"/>\n      </g>\n     </g>\n     <g id=\"text_2\">\n      <!-- 11 -->\n      <g transform=\"translate(157.981806 347.958438)scale(0.1 -0.1)\">\n       <use xlink:href=\"#DejaVuSans-49\"/>\n       <use x=\"63.623047\" xlink:href=\"#DejaVuSans-49\"/>\n      </g>\n     </g>\n    </g>\n    <g id=\"xtick_3\">\n     <g id=\"line2d_3\">\n      <g>\n       <use style=\"stroke:#000000;stroke-width:0.8;\" x=\"251.288094\" xlink:href=\"#m8139c654cf\" y=\"333.36\"/>\n      </g>\n     </g>\n     <g id=\"text_3\">\n      <!-- 12 -->\n      <defs>\n       <path d=\"M 19.1875 8.296875 \nL 53.609375 8.296875 \nL 53.609375 0 \nL 7.328125 0 \nL 7.328125 8.296875 \nQ 12.9375 14.109375 22.625 23.890625 \nQ 32.328125 33.6875 34.8125 36.53125 \nQ 39.546875 41.84375 41.421875 45.53125 \nQ 43.3125 49.21875 43.3125 52.78125 \nQ 43.3125 58.59375 39.234375 62.25 \nQ 35.15625 65.921875 28.609375 65.921875 \nQ 23.96875 65.921875 18.8125 64.3125 \nQ 13.671875 62.703125 7.8125 59.421875 \nL 7.8125 69.390625 \nQ 13.765625 71.78125 18.9375 73 \nQ 24.125 74.21875 28.421875 74.21875 \nQ 39.75 74.21875 46.484375 68.546875 \nQ 53.21875 62.890625 53.21875 53.421875 \nQ 53.21875 48.921875 51.53125 44.890625 \nQ 49.859375 40.875 45.40625 35.40625 \nQ 44.1875 33.984375 37.640625 27.21875 \nQ 31.109375 20.453125 19.1875 8.296875 \nz\n\" id=\"DejaVuSans-50\"/>\n      </defs>\n      <g transform=\"translate(244.925594 347.958438)scale(0.1 -0.1)\">\n       <use xlink:href=\"#DejaVuSans-49\"/>\n       <use x=\"63.623047\" xlink:href=\"#DejaVuSans-50\"/>\n      </g>\n     </g>\n    </g>\n    <g id=\"xtick_4\">\n     <g id=\"line2d_4\">\n      <g>\n       <use style=\"stroke:#000000;stroke-width:0.8;\" x=\"338.231882\" xlink:href=\"#m8139c654cf\" y=\"333.36\"/>\n      </g>\n     </g>\n     <g id=\"text_4\">\n      <!-- 13 -->\n      <defs>\n       <path d=\"M 40.578125 39.3125 \nQ 47.65625 37.796875 51.625 33 \nQ 55.609375 28.21875 55.609375 21.1875 \nQ 55.609375 10.40625 48.1875 4.484375 \nQ 40.765625 -1.421875 27.09375 -1.421875 \nQ 22.515625 -1.421875 17.65625 -0.515625 \nQ 12.796875 0.390625 7.625 2.203125 \nL 7.625 11.71875 \nQ 11.71875 9.328125 16.59375 8.109375 \nQ 21.484375 6.890625 26.8125 6.890625 \nQ 36.078125 6.890625 40.9375 10.546875 \nQ 45.796875 14.203125 45.796875 21.1875 \nQ 45.796875 27.640625 41.28125 31.265625 \nQ 36.765625 34.90625 28.71875 34.90625 \nL 20.21875 34.90625 \nL 20.21875 43.015625 \nL 29.109375 43.015625 \nQ 36.375 43.015625 40.234375 45.921875 \nQ 44.09375 48.828125 44.09375 54.296875 \nQ 44.09375 59.90625 40.109375 62.90625 \nQ 36.140625 65.921875 28.71875 65.921875 \nQ 24.65625 65.921875 20.015625 65.03125 \nQ 15.375 64.15625 9.8125 62.3125 \nL 9.8125 71.09375 \nQ 15.4375 72.65625 20.34375 73.4375 \nQ 25.25 74.21875 29.59375 74.21875 \nQ 40.828125 74.21875 47.359375 69.109375 \nQ 53.90625 64.015625 53.90625 55.328125 \nQ 53.90625 49.265625 50.4375 45.09375 \nQ 46.96875 40.921875 40.578125 39.3125 \nz\n\" id=\"DejaVuSans-51\"/>\n      </defs>\n      <g transform=\"translate(331.869382 347.958438)scale(0.1 -0.1)\">\n       <use xlink:href=\"#DejaVuSans-49\"/>\n       <use x=\"63.623047\" xlink:href=\"#DejaVuSans-51\"/>\n      </g>\n     </g>\n    </g>\n    <g id=\"xtick_5\">\n     <g id=\"line2d_5\">\n      <g>\n       <use style=\"stroke:#000000;stroke-width:0.8;\" x=\"425.17567\" xlink:href=\"#m8139c654cf\" y=\"333.36\"/>\n      </g>\n     </g>\n     <g id=\"text_5\">\n      <!-- 14 -->\n      <defs>\n       <path d=\"M 37.796875 64.3125 \nL 12.890625 25.390625 \nL 37.796875 25.390625 \nz\nM 35.203125 72.90625 \nL 47.609375 72.90625 \nL 47.609375 25.390625 \nL 58.015625 25.390625 \nL 58.015625 17.1875 \nL 47.609375 17.1875 \nL 47.609375 0 \nL 37.796875 0 \nL 37.796875 17.1875 \nL 4.890625 17.1875 \nL 4.890625 26.703125 \nz\n\" id=\"DejaVuSans-52\"/>\n      </defs>\n      <g transform=\"translate(418.81317 347.958438)scale(0.1 -0.1)\">\n       <use xlink:href=\"#DejaVuSans-49\"/>\n       <use x=\"63.623047\" xlink:href=\"#DejaVuSans-52\"/>\n      </g>\n     </g>\n    </g>\n    <g id=\"xtick_6\">\n     <g id=\"line2d_6\">\n      <g>\n       <use style=\"stroke:#000000;stroke-width:0.8;\" x=\"512.119459\" xlink:href=\"#m8139c654cf\" y=\"333.36\"/>\n      </g>\n     </g>\n     <g id=\"text_6\">\n      <!-- 15 -->\n      <defs>\n       <path d=\"M 10.796875 72.90625 \nL 49.515625 72.90625 \nL 49.515625 64.59375 \nL 19.828125 64.59375 \nL 19.828125 46.734375 \nQ 21.96875 47.46875 24.109375 47.828125 \nQ 26.265625 48.1875 28.421875 48.1875 \nQ 40.625 48.1875 47.75 41.5 \nQ 54.890625 34.8125 54.890625 23.390625 \nQ 54.890625 11.625 47.5625 5.09375 \nQ 40.234375 -1.421875 26.90625 -1.421875 \nQ 22.3125 -1.421875 17.546875 -0.640625 \nQ 12.796875 0.140625 7.71875 1.703125 \nL 7.71875 11.625 \nQ 12.109375 9.234375 16.796875 8.0625 \nQ 21.484375 6.890625 26.703125 6.890625 \nQ 35.15625 6.890625 40.078125 11.328125 \nQ 45.015625 15.765625 45.015625 23.390625 \nQ 45.015625 31 40.078125 35.4375 \nQ 35.15625 39.890625 26.703125 39.890625 \nQ 22.75 39.890625 18.8125 39.015625 \nQ 14.890625 38.140625 10.796875 36.28125 \nz\n\" id=\"DejaVuSans-53\"/>\n      </defs>\n      <g transform=\"translate(505.756959 347.958438)scale(0.1 -0.1)\">\n       <use xlink:href=\"#DejaVuSans-49\"/>\n       <use x=\"63.623047\" xlink:href=\"#DejaVuSans-53\"/>\n      </g>\n     </g>\n    </g>\n    <g id=\"xtick_7\">\n     <g id=\"line2d_7\">\n      <g>\n       <use style=\"stroke:#000000;stroke-width:0.8;\" x=\"599.063247\" xlink:href=\"#m8139c654cf\" y=\"333.36\"/>\n      </g>\n     </g>\n     <g id=\"text_7\">\n      <!-- 16 -->\n      <defs>\n       <path d=\"M 33.015625 40.375 \nQ 26.375 40.375 22.484375 35.828125 \nQ 18.609375 31.296875 18.609375 23.390625 \nQ 18.609375 15.53125 22.484375 10.953125 \nQ 26.375 6.390625 33.015625 6.390625 \nQ 39.65625 6.390625 43.53125 10.953125 \nQ 47.40625 15.53125 47.40625 23.390625 \nQ 47.40625 31.296875 43.53125 35.828125 \nQ 39.65625 40.375 33.015625 40.375 \nz\nM 52.59375 71.296875 \nL 52.59375 62.3125 \nQ 48.875 64.0625 45.09375 64.984375 \nQ 41.3125 65.921875 37.59375 65.921875 \nQ 27.828125 65.921875 22.671875 59.328125 \nQ 17.53125 52.734375 16.796875 39.40625 \nQ 19.671875 43.65625 24.015625 45.921875 \nQ 28.375 48.1875 33.59375 48.1875 \nQ 44.578125 48.1875 50.953125 41.515625 \nQ 57.328125 34.859375 57.328125 23.390625 \nQ 57.328125 12.15625 50.6875 5.359375 \nQ 44.046875 -1.421875 33.015625 -1.421875 \nQ 20.359375 -1.421875 13.671875 8.265625 \nQ 6.984375 17.96875 6.984375 36.375 \nQ 6.984375 53.65625 15.1875 63.9375 \nQ 23.390625 74.21875 37.203125 74.21875 \nQ 40.921875 74.21875 44.703125 73.484375 \nQ 48.484375 72.75 52.59375 71.296875 \nz\n\" id=\"DejaVuSans-54\"/>\n      </defs>\n      <g transform=\"translate(592.700747 347.958438)scale(0.1 -0.1)\">\n       <use xlink:href=\"#DejaVuSans-49\"/>\n       <use x=\"63.623047\" xlink:href=\"#DejaVuSans-54\"/>\n      </g>\n     </g>\n    </g>\n    <g id=\"xtick_8\">\n     <g id=\"line2d_8\">\n      <g>\n       <use style=\"stroke:#000000;stroke-width:0.8;\" x=\"686.007035\" xlink:href=\"#m8139c654cf\" y=\"333.36\"/>\n      </g>\n     </g>\n     <g id=\"text_8\">\n      <!-- 17 -->\n      <defs>\n       <path d=\"M 8.203125 72.90625 \nL 55.078125 72.90625 \nL 55.078125 68.703125 \nL 28.609375 0 \nL 18.3125 0 \nL 43.21875 64.59375 \nL 8.203125 64.59375 \nz\n\" id=\"DejaVuSans-55\"/>\n      </defs>\n      <g transform=\"translate(679.644535 347.958438)scale(0.1 -0.1)\">\n       <use xlink:href=\"#DejaVuSans-49\"/>\n       <use x=\"63.623047\" xlink:href=\"#DejaVuSans-55\"/>\n      </g>\n     </g>\n    </g>\n    <g id=\"text_9\">\n     <!-- Time in [day] -->\n     <defs>\n      <path d=\"M -0.296875 72.90625 \nL 61.375 72.90625 \nL 61.375 64.59375 \nL 35.5 64.59375 \nL 35.5 0 \nL 25.59375 0 \nL 25.59375 64.59375 \nL -0.296875 64.59375 \nz\n\" id=\"DejaVuSans-84\"/>\n      <path d=\"M 9.421875 54.6875 \nL 18.40625 54.6875 \nL 18.40625 0 \nL 9.421875 0 \nz\nM 9.421875 75.984375 \nL 18.40625 75.984375 \nL 18.40625 64.59375 \nL 9.421875 64.59375 \nz\n\" id=\"DejaVuSans-105\"/>\n      <path d=\"M 52 44.1875 \nQ 55.375 50.25 60.0625 53.125 \nQ 64.75 56 71.09375 56 \nQ 79.640625 56 84.28125 50.015625 \nQ 88.921875 44.046875 88.921875 33.015625 \nL 88.921875 0 \nL 79.890625 0 \nL 79.890625 32.71875 \nQ 79.890625 40.578125 77.09375 44.375 \nQ 74.3125 48.1875 68.609375 48.1875 \nQ 61.625 48.1875 57.5625 43.546875 \nQ 53.515625 38.921875 53.515625 30.90625 \nL 53.515625 0 \nL 44.484375 0 \nL 44.484375 32.71875 \nQ 44.484375 40.625 41.703125 44.40625 \nQ 38.921875 48.1875 33.109375 48.1875 \nQ 26.21875 48.1875 22.15625 43.53125 \nQ 18.109375 38.875 18.109375 30.90625 \nL 18.109375 0 \nL 9.078125 0 \nL 9.078125 54.6875 \nL 18.109375 54.6875 \nL 18.109375 46.1875 \nQ 21.1875 51.21875 25.484375 53.609375 \nQ 29.78125 56 35.6875 56 \nQ 41.65625 56 45.828125 52.96875 \nQ 50 49.953125 52 44.1875 \nz\n\" id=\"DejaVuSans-109\"/>\n      <path d=\"M 56.203125 29.59375 \nL 56.203125 25.203125 \nL 14.890625 25.203125 \nQ 15.484375 15.921875 20.484375 11.0625 \nQ 25.484375 6.203125 34.421875 6.203125 \nQ 39.59375 6.203125 44.453125 7.46875 \nQ 49.3125 8.734375 54.109375 11.28125 \nL 54.109375 2.78125 \nQ 49.265625 0.734375 44.1875 -0.34375 \nQ 39.109375 -1.421875 33.890625 -1.421875 \nQ 20.796875 -1.421875 13.15625 6.1875 \nQ 5.515625 13.8125 5.515625 26.8125 \nQ 5.515625 40.234375 12.765625 48.109375 \nQ 20.015625 56 32.328125 56 \nQ 43.359375 56 49.78125 48.890625 \nQ 56.203125 41.796875 56.203125 29.59375 \nz\nM 47.21875 32.234375 \nQ 47.125 39.59375 43.09375 43.984375 \nQ 39.0625 48.390625 32.421875 48.390625 \nQ 24.90625 48.390625 20.390625 44.140625 \nQ 15.875 39.890625 15.1875 32.171875 \nz\n\" id=\"DejaVuSans-101\"/>\n      <path id=\"DejaVuSans-32\"/>\n      <path d=\"M 54.890625 33.015625 \nL 54.890625 0 \nL 45.90625 0 \nL 45.90625 32.71875 \nQ 45.90625 40.484375 42.875 44.328125 \nQ 39.84375 48.1875 33.796875 48.1875 \nQ 26.515625 48.1875 22.3125 43.546875 \nQ 18.109375 38.921875 18.109375 30.90625 \nL 18.109375 0 \nL 9.078125 0 \nL 9.078125 54.6875 \nL 18.109375 54.6875 \nL 18.109375 46.1875 \nQ 21.34375 51.125 25.703125 53.5625 \nQ 30.078125 56 35.796875 56 \nQ 45.21875 56 50.046875 50.171875 \nQ 54.890625 44.34375 54.890625 33.015625 \nz\n\" id=\"DejaVuSans-110\"/>\n      <path d=\"M 8.59375 75.984375 \nL 29.296875 75.984375 \nL 29.296875 69 \nL 17.578125 69 \nL 17.578125 -6.203125 \nL 29.296875 -6.203125 \nL 29.296875 -13.1875 \nL 8.59375 -13.1875 \nz\n\" id=\"DejaVuSans-91\"/>\n      <path d=\"M 45.40625 46.390625 \nL 45.40625 75.984375 \nL 54.390625 75.984375 \nL 54.390625 0 \nL 45.40625 0 \nL 45.40625 8.203125 \nQ 42.578125 3.328125 38.25 0.953125 \nQ 33.9375 -1.421875 27.875 -1.421875 \nQ 17.96875 -1.421875 11.734375 6.484375 \nQ 5.515625 14.40625 5.515625 27.296875 \nQ 5.515625 40.1875 11.734375 48.09375 \nQ 17.96875 56 27.875 56 \nQ 33.9375 56 38.25 53.625 \nQ 42.578125 51.265625 45.40625 46.390625 \nz\nM 14.796875 27.296875 \nQ 14.796875 17.390625 18.875 11.75 \nQ 22.953125 6.109375 30.078125 6.109375 \nQ 37.203125 6.109375 41.296875 11.75 \nQ 45.40625 17.390625 45.40625 27.296875 \nQ 45.40625 37.203125 41.296875 42.84375 \nQ 37.203125 48.484375 30.078125 48.484375 \nQ 22.953125 48.484375 18.875 42.84375 \nQ 14.796875 37.203125 14.796875 27.296875 \nz\n\" id=\"DejaVuSans-100\"/>\n      <path d=\"M 34.28125 27.484375 \nQ 23.390625 27.484375 19.1875 25 \nQ 14.984375 22.515625 14.984375 16.5 \nQ 14.984375 11.71875 18.140625 8.90625 \nQ 21.296875 6.109375 26.703125 6.109375 \nQ 34.1875 6.109375 38.703125 11.40625 \nQ 43.21875 16.703125 43.21875 25.484375 \nL 43.21875 27.484375 \nz\nM 52.203125 31.203125 \nL 52.203125 0 \nL 43.21875 0 \nL 43.21875 8.296875 \nQ 40.140625 3.328125 35.546875 0.953125 \nQ 30.953125 -1.421875 24.3125 -1.421875 \nQ 15.921875 -1.421875 10.953125 3.296875 \nQ 6 8.015625 6 15.921875 \nQ 6 25.140625 12.171875 29.828125 \nQ 18.359375 34.515625 30.609375 34.515625 \nL 43.21875 34.515625 \nL 43.21875 35.40625 \nQ 43.21875 41.609375 39.140625 45 \nQ 35.0625 48.390625 27.6875 48.390625 \nQ 23 48.390625 18.546875 47.265625 \nQ 14.109375 46.140625 10.015625 43.890625 \nL 10.015625 52.203125 \nQ 14.9375 54.109375 19.578125 55.046875 \nQ 24.21875 56 28.609375 56 \nQ 40.484375 56 46.34375 49.84375 \nQ 52.203125 43.703125 52.203125 31.203125 \nz\n\" id=\"DejaVuSans-97\"/>\n      <path d=\"M 32.171875 -5.078125 \nQ 28.375 -14.84375 24.75 -17.8125 \nQ 21.140625 -20.796875 15.09375 -20.796875 \nL 7.90625 -20.796875 \nL 7.90625 -13.28125 \nL 13.1875 -13.28125 \nQ 16.890625 -13.28125 18.9375 -11.515625 \nQ 21 -9.765625 23.484375 -3.21875 \nL 25.09375 0.875 \nL 2.984375 54.6875 \nL 12.5 54.6875 \nL 29.59375 11.921875 \nL 46.6875 54.6875 \nL 56.203125 54.6875 \nz\n\" id=\"DejaVuSans-121\"/>\n      <path d=\"M 30.421875 75.984375 \nL 30.421875 -13.1875 \nL 9.71875 -13.1875 \nL 9.71875 -6.203125 \nL 21.390625 -6.203125 \nL 21.390625 69 \nL 9.71875 69 \nL 9.71875 75.984375 \nz\n\" id=\"DejaVuSans-93\"/>\n     </defs>\n     <g transform=\"translate(348.03125 361.636563)scale(0.1 -0.1)\">\n      <use xlink:href=\"#DejaVuSans-84\"/>\n      <use x=\"57.958984\" xlink:href=\"#DejaVuSans-105\"/>\n      <use x=\"85.742188\" xlink:href=\"#DejaVuSans-109\"/>\n      <use x=\"183.154297\" xlink:href=\"#DejaVuSans-101\"/>\n      <use x=\"244.677734\" xlink:href=\"#DejaVuSans-32\"/>\n      <use x=\"276.464844\" xlink:href=\"#DejaVuSans-105\"/>\n      <use x=\"304.248047\" xlink:href=\"#DejaVuSans-110\"/>\n      <use x=\"367.626953\" xlink:href=\"#DejaVuSans-32\"/>\n      <use x=\"399.414062\" xlink:href=\"#DejaVuSans-91\"/>\n      <use x=\"438.427734\" xlink:href=\"#DejaVuSans-100\"/>\n      <use x=\"501.904297\" xlink:href=\"#DejaVuSans-97\"/>\n      <use x=\"563.183594\" xlink:href=\"#DejaVuSans-121\"/>\n      <use x=\"622.363281\" xlink:href=\"#DejaVuSans-93\"/>\n     </g>\n    </g>\n   </g>\n   <g id=\"matplotlib.axis_2\">\n    <g id=\"ytick_1\">\n     <g id=\"line2d_9\">\n      <defs>\n       <path d=\"M 0 0 \nL -3.5 0 \n\" id=\"m7d437c147c\" style=\"stroke:#000000;stroke-width:0.8;\"/>\n      </defs>\n      <g>\n       <use style=\"stroke:#000000;stroke-width:0.8;\" x=\"46.3\" xlink:href=\"#m7d437c147c\" y=\"316.624212\"/>\n      </g>\n     </g>\n     <g id=\"text_10\">\n      <!-- $\\mathdefault{10^{0}}$ -->\n      <g transform=\"translate(21.7 320.423431)scale(0.1 -0.1)\">\n       <use transform=\"translate(0 0.765625)\" xlink:href=\"#DejaVuSans-49\"/>\n       <use transform=\"translate(63.623047 0.765625)\" xlink:href=\"#DejaVuSans-48\"/>\n       <use transform=\"translate(128.203125 39.046875)scale(0.7)\" xlink:href=\"#DejaVuSans-48\"/>\n      </g>\n     </g>\n    </g>\n    <g id=\"ytick_2\">\n     <g id=\"line2d_10\">\n      <g>\n       <use style=\"stroke:#000000;stroke-width:0.8;\" x=\"46.3\" xlink:href=\"#m7d437c147c\" y=\"227.201909\"/>\n      </g>\n     </g>\n     <g id=\"text_11\">\n      <!-- $\\mathdefault{10^{1}}$ -->\n      <g transform=\"translate(21.7 231.001128)scale(0.1 -0.1)\">\n       <use transform=\"translate(0 0.684375)\" xlink:href=\"#DejaVuSans-49\"/>\n       <use transform=\"translate(63.623047 0.684375)\" xlink:href=\"#DejaVuSans-48\"/>\n       <use transform=\"translate(128.203125 38.965625)scale(0.7)\" xlink:href=\"#DejaVuSans-49\"/>\n      </g>\n     </g>\n    </g>\n    <g id=\"ytick_3\">\n     <g id=\"line2d_11\">\n      <g>\n       <use style=\"stroke:#000000;stroke-width:0.8;\" x=\"46.3\" xlink:href=\"#m7d437c147c\" y=\"137.779606\"/>\n      </g>\n     </g>\n     <g id=\"text_12\">\n      <!-- $\\mathdefault{10^{2}}$ -->\n      <g transform=\"translate(21.7 141.578825)scale(0.1 -0.1)\">\n       <use transform=\"translate(0 0.765625)\" xlink:href=\"#DejaVuSans-49\"/>\n       <use transform=\"translate(63.623047 0.765625)\" xlink:href=\"#DejaVuSans-48\"/>\n       <use transform=\"translate(128.203125 39.046875)scale(0.7)\" xlink:href=\"#DejaVuSans-50\"/>\n      </g>\n     </g>\n    </g>\n    <g id=\"ytick_4\">\n     <g id=\"line2d_12\">\n      <g>\n       <use style=\"stroke:#000000;stroke-width:0.8;\" x=\"46.3\" xlink:href=\"#m7d437c147c\" y=\"48.357303\"/>\n      </g>\n     </g>\n     <g id=\"text_13\">\n      <!-- $\\mathdefault{10^{3}}$ -->\n      <g transform=\"translate(21.7 52.156521)scale(0.1 -0.1)\">\n       <use transform=\"translate(0 0.765625)\" xlink:href=\"#DejaVuSans-49\"/>\n       <use transform=\"translate(63.623047 0.765625)\" xlink:href=\"#DejaVuSans-48\"/>\n       <use transform=\"translate(128.203125 39.046875)scale(0.7)\" xlink:href=\"#DejaVuSans-51\"/>\n      </g>\n     </g>\n    </g>\n    <g id=\"ytick_5\">\n     <g id=\"line2d_13\">\n      <defs>\n       <path d=\"M 0 0 \nL -2 0 \n\" id=\"m80909a44b0\" style=\"stroke:#000000;stroke-width:0.6;\"/>\n      </defs>\n      <g>\n       <use style=\"stroke:#000000;stroke-width:0.6;\" x=\"46.3\" xlink:href=\"#m80909a44b0\" y=\"330.475902\"/>\n      </g>\n     </g>\n    </g>\n    <g id=\"ytick_6\">\n     <g id=\"line2d_14\">\n      <g>\n       <use style=\"stroke:#000000;stroke-width:0.6;\" x=\"46.3\" xlink:href=\"#m80909a44b0\" y=\"325.290129\"/>\n      </g>\n     </g>\n    </g>\n    <g id=\"ytick_7\">\n     <g id=\"line2d_15\">\n      <g>\n       <use style=\"stroke:#000000;stroke-width:0.6;\" x=\"46.3\" xlink:href=\"#m80909a44b0\" y=\"320.715952\"/>\n      </g>\n     </g>\n    </g>\n    <g id=\"ytick_8\">\n     <g id=\"line2d_16\">\n      <g>\n       <use style=\"stroke:#000000;stroke-width:0.6;\" x=\"46.3\" xlink:href=\"#m80909a44b0\" y=\"289.705417\"/>\n      </g>\n     </g>\n    </g>\n    <g id=\"ytick_9\">\n     <g id=\"line2d_17\">\n      <g>\n       <use style=\"stroke:#000000;stroke-width:0.6;\" x=\"46.3\" xlink:href=\"#m80909a44b0\" y=\"273.958931\"/>\n      </g>\n     </g>\n    </g>\n    <g id=\"ytick_10\">\n     <g id=\"line2d_18\">\n      <g>\n       <use style=\"stroke:#000000;stroke-width:0.6;\" x=\"46.3\" xlink:href=\"#m80909a44b0\" y=\"262.786621\"/>\n      </g>\n     </g>\n    </g>\n    <g id=\"ytick_11\">\n     <g id=\"line2d_19\">\n      <g>\n       <use style=\"stroke:#000000;stroke-width:0.6;\" x=\"46.3\" xlink:href=\"#m80909a44b0\" y=\"254.120705\"/>\n      </g>\n     </g>\n    </g>\n    <g id=\"ytick_12\">\n     <g id=\"line2d_20\">\n      <g>\n       <use style=\"stroke:#000000;stroke-width:0.6;\" x=\"46.3\" xlink:href=\"#m80909a44b0\" y=\"247.040135\"/>\n      </g>\n     </g>\n    </g>\n    <g id=\"ytick_13\">\n     <g id=\"line2d_21\">\n      <g>\n       <use style=\"stroke:#000000;stroke-width:0.6;\" x=\"46.3\" xlink:href=\"#m80909a44b0\" y=\"241.053599\"/>\n      </g>\n     </g>\n    </g>\n    <g id=\"ytick_14\">\n     <g id=\"line2d_22\">\n      <g>\n       <use style=\"stroke:#000000;stroke-width:0.6;\" x=\"46.3\" xlink:href=\"#m80909a44b0\" y=\"235.867826\"/>\n      </g>\n     </g>\n    </g>\n    <g id=\"ytick_15\">\n     <g id=\"line2d_23\">\n      <g>\n       <use style=\"stroke:#000000;stroke-width:0.6;\" x=\"46.3\" xlink:href=\"#m80909a44b0\" y=\"231.293649\"/>\n      </g>\n     </g>\n    </g>\n    <g id=\"ytick_16\">\n     <g id=\"line2d_24\">\n      <g>\n       <use style=\"stroke:#000000;stroke-width:0.6;\" x=\"46.3\" xlink:href=\"#m80909a44b0\" y=\"200.283113\"/>\n      </g>\n     </g>\n    </g>\n    <g id=\"ytick_17\">\n     <g id=\"line2d_25\">\n      <g>\n       <use style=\"stroke:#000000;stroke-width:0.6;\" x=\"46.3\" xlink:href=\"#m80909a44b0\" y=\"184.536628\"/>\n      </g>\n     </g>\n    </g>\n    <g id=\"ytick_18\">\n     <g id=\"line2d_26\">\n      <g>\n       <use style=\"stroke:#000000;stroke-width:0.6;\" x=\"46.3\" xlink:href=\"#m80909a44b0\" y=\"173.364318\"/>\n      </g>\n     </g>\n    </g>\n    <g id=\"ytick_19\">\n     <g id=\"line2d_27\">\n      <g>\n       <use style=\"stroke:#000000;stroke-width:0.6;\" x=\"46.3\" xlink:href=\"#m80909a44b0\" y=\"164.698401\"/>\n      </g>\n     </g>\n    </g>\n    <g id=\"ytick_20\">\n     <g id=\"line2d_28\">\n      <g>\n       <use style=\"stroke:#000000;stroke-width:0.6;\" x=\"46.3\" xlink:href=\"#m80909a44b0\" y=\"157.617832\"/>\n      </g>\n     </g>\n    </g>\n    <g id=\"ytick_21\">\n     <g id=\"line2d_29\">\n      <g>\n       <use style=\"stroke:#000000;stroke-width:0.6;\" x=\"46.3\" xlink:href=\"#m80909a44b0\" y=\"151.631296\"/>\n      </g>\n     </g>\n    </g>\n    <g id=\"ytick_22\">\n     <g id=\"line2d_30\">\n      <g>\n       <use style=\"stroke:#000000;stroke-width:0.6;\" x=\"46.3\" xlink:href=\"#m80909a44b0\" y=\"146.445522\"/>\n      </g>\n     </g>\n    </g>\n    <g id=\"ytick_23\">\n     <g id=\"line2d_31\">\n      <g>\n       <use style=\"stroke:#000000;stroke-width:0.6;\" x=\"46.3\" xlink:href=\"#m80909a44b0\" y=\"141.871346\"/>\n      </g>\n     </g>\n    </g>\n    <g id=\"ytick_24\">\n     <g id=\"line2d_32\">\n      <g>\n       <use style=\"stroke:#000000;stroke-width:0.6;\" x=\"46.3\" xlink:href=\"#m80909a44b0\" y=\"110.86081\"/>\n      </g>\n     </g>\n    </g>\n    <g id=\"ytick_25\">\n     <g id=\"line2d_33\">\n      <g>\n       <use style=\"stroke:#000000;stroke-width:0.6;\" x=\"46.3\" xlink:href=\"#m80909a44b0\" y=\"95.114324\"/>\n      </g>\n     </g>\n    </g>\n    <g id=\"ytick_26\">\n     <g id=\"line2d_34\">\n      <g>\n       <use style=\"stroke:#000000;stroke-width:0.6;\" x=\"46.3\" xlink:href=\"#m80909a44b0\" y=\"83.942015\"/>\n      </g>\n     </g>\n    </g>\n    <g id=\"ytick_27\">\n     <g id=\"line2d_35\">\n      <g>\n       <use style=\"stroke:#000000;stroke-width:0.6;\" x=\"46.3\" xlink:href=\"#m80909a44b0\" y=\"75.276098\"/>\n      </g>\n     </g>\n    </g>\n    <g id=\"ytick_28\">\n     <g id=\"line2d_36\">\n      <g>\n       <use style=\"stroke:#000000;stroke-width:0.6;\" x=\"46.3\" xlink:href=\"#m80909a44b0\" y=\"68.195529\"/>\n      </g>\n     </g>\n    </g>\n    <g id=\"ytick_29\">\n     <g id=\"line2d_37\">\n      <g>\n       <use style=\"stroke:#000000;stroke-width:0.6;\" x=\"46.3\" xlink:href=\"#m80909a44b0\" y=\"62.208993\"/>\n      </g>\n     </g>\n    </g>\n    <g id=\"ytick_30\">\n     <g id=\"line2d_38\">\n      <g>\n       <use style=\"stroke:#000000;stroke-width:0.6;\" x=\"46.3\" xlink:href=\"#m80909a44b0\" y=\"57.023219\"/>\n      </g>\n     </g>\n    </g>\n    <g id=\"ytick_31\">\n     <g id=\"line2d_39\">\n      <g>\n       <use style=\"stroke:#000000;stroke-width:0.6;\" x=\"46.3\" xlink:href=\"#m80909a44b0\" y=\"52.449043\"/>\n      </g>\n     </g>\n    </g>\n    <g id=\"ytick_32\">\n     <g id=\"line2d_40\">\n      <g>\n       <use style=\"stroke:#000000;stroke-width:0.6;\" x=\"46.3\" xlink:href=\"#m80909a44b0\" y=\"21.438507\"/>\n      </g>\n     </g>\n    </g>\n    <g id=\"text_14\">\n     <!-- Tumour volume in [mm$^3$] -->\n     <defs>\n      <path d=\"M 8.5 21.578125 \nL 8.5 54.6875 \nL 17.484375 54.6875 \nL 17.484375 21.921875 \nQ 17.484375 14.15625 20.5 10.265625 \nQ 23.53125 6.390625 29.59375 6.390625 \nQ 36.859375 6.390625 41.078125 11.03125 \nQ 45.3125 15.671875 45.3125 23.6875 \nL 45.3125 54.6875 \nL 54.296875 54.6875 \nL 54.296875 0 \nL 45.3125 0 \nL 45.3125 8.40625 \nQ 42.046875 3.421875 37.71875 1 \nQ 33.40625 -1.421875 27.6875 -1.421875 \nQ 18.265625 -1.421875 13.375 4.4375 \nQ 8.5 10.296875 8.5 21.578125 \nz\nM 31.109375 56 \nz\n\" id=\"DejaVuSans-117\"/>\n      <path d=\"M 30.609375 48.390625 \nQ 23.390625 48.390625 19.1875 42.75 \nQ 14.984375 37.109375 14.984375 27.296875 \nQ 14.984375 17.484375 19.15625 11.84375 \nQ 23.34375 6.203125 30.609375 6.203125 \nQ 37.796875 6.203125 41.984375 11.859375 \nQ 46.1875 17.53125 46.1875 27.296875 \nQ 46.1875 37.015625 41.984375 42.703125 \nQ 37.796875 48.390625 30.609375 48.390625 \nz\nM 30.609375 56 \nQ 42.328125 56 49.015625 48.375 \nQ 55.71875 40.765625 55.71875 27.296875 \nQ 55.71875 13.875 49.015625 6.21875 \nQ 42.328125 -1.421875 30.609375 -1.421875 \nQ 18.84375 -1.421875 12.171875 6.21875 \nQ 5.515625 13.875 5.515625 27.296875 \nQ 5.515625 40.765625 12.171875 48.375 \nQ 18.84375 56 30.609375 56 \nz\n\" id=\"DejaVuSans-111\"/>\n      <path d=\"M 41.109375 46.296875 \nQ 39.59375 47.171875 37.8125 47.578125 \nQ 36.03125 48 33.890625 48 \nQ 26.265625 48 22.1875 43.046875 \nQ 18.109375 38.09375 18.109375 28.8125 \nL 18.109375 0 \nL 9.078125 0 \nL 9.078125 54.6875 \nL 18.109375 54.6875 \nL 18.109375 46.1875 \nQ 20.953125 51.171875 25.484375 53.578125 \nQ 30.03125 56 36.53125 56 \nQ 37.453125 56 38.578125 55.875 \nQ 39.703125 55.765625 41.0625 55.515625 \nz\n\" id=\"DejaVuSans-114\"/>\n      <path d=\"M 2.984375 54.6875 \nL 12.5 54.6875 \nL 29.59375 8.796875 \nL 46.6875 54.6875 \nL 56.203125 54.6875 \nL 35.6875 0 \nL 23.484375 0 \nz\n\" id=\"DejaVuSans-118\"/>\n      <path d=\"M 9.421875 75.984375 \nL 18.40625 75.984375 \nL 18.40625 0 \nL 9.421875 0 \nz\n\" id=\"DejaVuSans-108\"/>\n     </defs>\n     <g transform=\"translate(15.620312 233.58)rotate(-90)scale(0.1 -0.1)\">\n      <use transform=\"translate(0 0.765625)\" xlink:href=\"#DejaVuSans-84\"/>\n      <use transform=\"translate(61.083984 0.765625)\" xlink:href=\"#DejaVuSans-117\"/>\n      <use transform=\"translate(124.462891 0.765625)\" xlink:href=\"#DejaVuSans-109\"/>\n      <use transform=\"translate(221.875 0.765625)\" xlink:href=\"#DejaVuSans-111\"/>\n      <use transform=\"translate(283.056641 0.765625)\" xlink:href=\"#DejaVuSans-117\"/>\n      <use transform=\"translate(346.435547 0.765625)\" xlink:href=\"#DejaVuSans-114\"/>\n      <use transform=\"translate(387.548828 0.765625)\" xlink:href=\"#DejaVuSans-32\"/>\n      <use transform=\"translate(419.335938 0.765625)\" xlink:href=\"#DejaVuSans-118\"/>\n      <use transform=\"translate(478.515625 0.765625)\" xlink:href=\"#DejaVuSans-111\"/>\n      <use transform=\"translate(539.697266 0.765625)\" xlink:href=\"#DejaVuSans-108\"/>\n      <use transform=\"translate(567.480469 0.765625)\" xlink:href=\"#DejaVuSans-117\"/>\n      <use transform=\"translate(630.859375 0.765625)\" xlink:href=\"#DejaVuSans-109\"/>\n      <use transform=\"translate(728.271484 0.765625)\" xlink:href=\"#DejaVuSans-101\"/>\n      <use transform=\"translate(789.794922 0.765625)\" xlink:href=\"#DejaVuSans-32\"/>\n      <use transform=\"translate(821.582031 0.765625)\" xlink:href=\"#DejaVuSans-105\"/>\n      <use transform=\"translate(849.365234 0.765625)\" xlink:href=\"#DejaVuSans-110\"/>\n      <use transform=\"translate(912.744141 0.765625)\" xlink:href=\"#DejaVuSans-32\"/>\n      <use transform=\"translate(944.53125 0.765625)\" xlink:href=\"#DejaVuSans-91\"/>\n      <use transform=\"translate(983.544922 0.765625)\" xlink:href=\"#DejaVuSans-109\"/>\n      <use transform=\"translate(1080.957031 0.765625)\" xlink:href=\"#DejaVuSans-109\"/>\n      <use transform=\"translate(1179.326172 39.046875)scale(0.7)\" xlink:href=\"#DejaVuSans-51\"/>\n      <use transform=\"translate(1226.59668 0.765625)\" xlink:href=\"#DejaVuSans-93\"/>\n     </g>\n    </g>\n   </g>\n   <g id=\"patch_3\">\n    <path d=\"M 46.3 333.36 \nL 46.3 7.2 \n\" style=\"fill:none;stroke:#000000;stroke-linecap:square;stroke-linejoin:miter;stroke-width:0.8;\"/>\n   </g>\n   <g id=\"patch_4\">\n    <path d=\"M 715.9 333.36 \nL 715.9 7.2 \n\" style=\"fill:none;stroke:#000000;stroke-linecap:square;stroke-linejoin:miter;stroke-width:0.8;\"/>\n   </g>\n   <g id=\"patch_5\">\n    <path d=\"M 46.3 333.36 \nL 715.9 333.36 \n\" style=\"fill:none;stroke:#000000;stroke-linecap:square;stroke-linejoin:miter;stroke-width:0.8;\"/>\n   </g>\n   <g id=\"patch_6\">\n    <path d=\"M 46.3 7.2 \nL 715.9 7.2 \n\" style=\"fill:none;stroke:#000000;stroke-linecap:square;stroke-linejoin:miter;stroke-width:0.8;\"/>\n   </g>\n  </g>\n </g>\n <defs>\n  <clipPath id=\"p9160fbf77b\">\n   <rect height=\"326.16\" width=\"669.6\" x=\"46.3\" y=\"7.2\"/>\n  </clipPath>\n </defs>\n</svg>\n",
      "image/png": "[encoded data removed]"
     },
     "metadata": {
      "needs_background": "light"
     }
    }
   ],
   "source": [
    "import matplotlib.pyplot as plt\n",
    "\n",
    "# Get unique animal IDs\n",
    "ids = data_one['#ID'].unique()\n",
    "\n",
    "# Plot measurements\n",
    "fig = plt.figure(figsize=(12, 6))\n",
    "\n",
    "for i in ids:\n",
    "    # Mask for individual\n",
    "    mask = data_one['#ID'] == i\n",
    "    time = data_one[mask]['TIME']\n",
    "    volume = data_one[mask]['Y']\n",
    "\n",
    "    # Filter out Nan values\n",
    "    mask = volume.notnull()\n",
    "    time = time[mask]\n",
    "    volume = volume[mask]\n",
    "\n",
    "    # Create semi log plot\n",
    "    plt.scatter(time, volume, edgecolor='black')\n",
    "\n",
    "    \n",
    "# Set y axis to logscale\n",
    "plt.yscale('log')\n",
    "\n",
    "# Label axes\n",
    "plt.xlabel('Time in [day]')\n",
    "plt.ylabel(r'Tumour volume in [mm$^3$]')\n",
    "\n",
    "plt.show()"
   ]
  },
  {
   "cell_type": "markdown",
   "metadata": {},
   "source": [
    "### 1.2 Build Structural Model (pints.ForwardModel)"
   ]
  },
  {
   "cell_type": "markdown",
   "metadata": {},
   "source": [
    "#### 1.2.1 Build Myokit Model"
   ]
  },
  {
   "cell_type": "code",
   "execution_count": 3,
   "metadata": {},
   "outputs": [
    {
     "output_type": "stream",
     "name": "stdout",
     "text": "[[model]]\n# Initial values\ncentral.amount = 0\n\n[central]\ndot(amount) = -k_e * amount\n    in [mg]\nconc = amount / volume\n    in [mg/L]\nk_e = 0\n    in [1/day]\ntime = 0 bind time\n    in [day]\nvolume = 1\n    in [L]\n\n\n"
    }
   ],
   "source": [
    "import myokit\n",
    "\n",
    "from pkpd import model as m\n",
    "\n",
    "# Build 1 compartmental PK model with default parameters\n",
    "model = m.create_one_comp_pk_model()\n",
    "\n",
    "# Validate model\n",
    "model.validate()\n",
    "\n",
    "# Check units\n",
    "model.check_units(mode=myokit.UNIT_TOLERANT)\n",
    "\n",
    "# Print model\n",
    "print(model.code())"
   ]
  },
  {
   "cell_type": "markdown",
   "metadata": {},
   "source": [
    "#### 1.2.2 Set oral administration "
   ]
  },
  {
   "cell_type": "code",
   "execution_count": null,
   "metadata": {},
   "outputs": [],
   "source": [
    "import myokit\n",
    "\n",
    "class DosingRegimen(object):\n",
    "    def __init__(self):\n",
    "        self._amount = None\n",
    "        self._duration = None\n",
    "        self._periodicity = 0\n",
    "        self._multiplier = 0\n",
    "        self._dosing_regimen = None\n",
    "        self._indirect_admin = False\n",
    "        self._dosing_compartment = 'central'\n",
    "\n",
    "    def __call__(self, model, amount, duration=None, periodicity=0, multiplier=0):\n",
    "        \"\"\"\n",
    "        Returns the myokit.Model with appropriate structural adjustments for dosing,\n",
    "        and a myokit.Protocol with the specified schedule.\n",
    "        \"\"\"\n",
    "        if \n",
    "\n",
    "    \n",
    "    def set_amdin(indirect=False):\n",
    "        self.indirect_admin = indirect\n",
    "\n",
    "\n",
    "def create_dosing_regimen(model, compartment, administration, amount, duration=None, periodicity=0, multiplier=0):\n",
    "    \"\"\"\n",
    "    Returns a myokit.Protocol object with the specified dosing regimen, and alters the structural model, \n",
    "    by addition of bolus injection or dosing compartment.\n",
    "\n",
    "    model -- myokit.Model\n",
    "    compartment -- compartment with bolus injection or connection to dosing compartment\n",
    "    administration -- type of administration: Injection into compartment or dosing compartment\n",
    "    amount -- Applied dose\n",
    "    duration -- How long did it take to apply the dose, if None duration is set to the smallest numerically stable duration,\n",
    "                i.e. such that duration > 1e-6 and amount / duration < some upper value.\n",
    "    periodicity -- In which intervals is dose applied. If 0 dose is applied once.\n",
    "    multplier -- How often is dose applied? If 0, it's applied once for non-period and indefinitely for periodic schedules.\n",
    "    \"\"\"\n",
    "    if not isinstance(model, myokit.Model):\n",
    "        raise ValueError\n",
    "    if not model.has_component(compartment):\n",
    "        raise ValueError\n",
    "    if administration != 'dosing compartment':\n",
    "        raise NotImplementedError\n",
    "\n",
    "    # Set dosing compartment\n",
    "    dose_comp = model.get(compartment)\n",
    "    if administration == 'dosing compartment':\n",
    "        dose_comp = model.add_component('dose')\n",
    "    \n",
    "    # Add dose rate and regimen to dose compartment\n",
    "    dose_rate = dose_comp.add_variable('dose_rate')\n",
    "    regimen = dose_comp.add_variable('regimen')\n",
    "\n",
    "    \n",
    "    # define dosing regimen\n",
    "    duration = 0.001  # [1 / d] how long does it take for dose to be in dosing compartment?\n",
    "    dose_rate.set_rhs(25 * 0.2 / duration)  # 100 mg / kg / d let's estimate weight of mouse 0.2 kg\n",
    "    dosing_regimen = myokit.Protocol()\n",
    "    dosing_regimen.schedule(level=1, start=0, duration=duration)"
   ]
  },
  {
   "cell_type": "markdown",
   "metadata": {},
   "source": [
    "#### 1.2.3 Build pints model"
   ]
  },
  {
   "cell_type": "code",
   "execution_count": 5,
   "metadata": {},
   "outputs": [],
   "source": [
    "# Build pints model\n",
    "pass"
   ]
  },
  {
   "cell_type": "markdown",
   "metadata": {},
   "source": [
    "### 1.3 Build population model\n",
    "\n",
    "This is the Hierarchical Log Prior of the model \n",
    "\n",
    "\\begin{align}\n",
    "\\text{p}(\\psi | \\theta )\\text{p}(\\theta )\n",
    "\\end{align}\n",
    "\n",
    "Should take a number of means and variances to construct $\\text{p}(\\theta )$ (Gaussian for means of $\\text{p}(\\psi | \\theta )$ and half cauchy for variances of $\\text{p}(\\psi | \\theta )$.\n",
    "\n",
    "Think about whether this can be generalised for any structure.\n",
    "\n",
    "Potentially best way: build a Hierarchical Log Posterior by combining a Likelihood and prior similar to PosteriorLogLikelihood, but appending the input params of the prior instead to the model params (this is the p(y|psi)p(psi|theta) bit). You have to provide posteriors for the population level paramers.\n",
    "\n",
    "In that way a posterior can be constructed by passing any problem, any population distribution and any priors of the population distirbution parameters!"
   ]
  },
  {
   "cell_type": "code",
   "execution_count": 6,
   "metadata": {},
   "outputs": [],
   "source": [
    "# Build hierarchical model \n",
    "pass"
   ]
  },
  {
   "cell_type": "markdown",
   "metadata": {},
   "source": [
    "### 1.4 Build error model\n",
    "\n",
    "This can be done by just using Loglikelihood from pints"
   ]
  },
  {
   "cell_type": "code",
   "execution_count": 7,
   "metadata": {},
   "outputs": [],
   "source": [
    "pass"
   ]
  },
  {
   "cell_type": "markdown",
   "metadata": {},
   "source": [
    "### Run inference"
   ]
  },
  {
   "cell_type": "code",
   "execution_count": 8,
   "metadata": {},
   "outputs": [],
   "source": [
    "pass"
   ]
  },
  {
   "cell_type": "markdown",
   "metadata": {},
   "source": [
    "### Visualise prediction"
   ]
  },
  {
   "cell_type": "code",
   "execution_count": null,
   "metadata": {},
   "outputs": [],
   "source": []
  }
 ],
 "metadata": {
  "language_info": {
   "codemirror_mode": {
    "name": "ipython",
    "version": 3
   },
   "file_extension": ".py",
   "mimetype": "text/x-python",
   "name": "python",
   "nbconvert_exporter": "python",
   "pygments_lexer": "ipython3",
   "version": "3.7.5-final"
  },
  "orig_nbformat": 2,
  "kernelspec": {
   "name": "python37564bitvenvvenve8a6a3215f694c3a897ba6a5e88883f1",
   "display_name": "Python 3.7.5 64-bit ('venv': venv)"
  }
 },
 "nbformat": 4,
 "nbformat_minor": 2
}